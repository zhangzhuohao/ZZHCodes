{
 "cells": [
  {
   "cell_type": "code",
   "execution_count": 1,
   "metadata": {},
   "outputs": [
    {
     "name": "stdout",
     "output_type": "stream",
     "text": [
      "Loading DLC 2.3.5...\n"
     ]
    }
   ],
   "source": [
    "import deeplabcut"
   ]
  },
  {
   "cell_type": "code",
   "execution_count": 2,
   "metadata": {},
   "outputs": [],
   "source": [
    "config_path = r\"D:\\YuLab\\Work\\GPS\\DLC\\Morad\\Model\\Top\\MoradTopGPS-ZZH-2023-09-12\\config.yaml\""
   ]
  },
  {
   "cell_type": "code",
   "execution_count": 3,
   "metadata": {},
   "outputs": [],
   "source": [
    "viedos_to_add = [\n",
    "    r\"D:\\YuLab\\Work\\GPS\\DLC\\Morad\\VideoSet\\Top\\Kennard_20231005_HoldTrial076_TopView.avi\",\n",
    "    r\"D:\\YuLab\\Work\\GPS\\DLC\\Morad\\VideoSet\\Top\\Kennard_20230729_HoldTrial086_TopView.avi\",\n",
    "    r\"D:\\YuLab\\Work\\GPS\\DLC\\Morad\\VideoSet\\Top\\Kennard_20230729_HoldTrial109_TopView.avi\",\n",
    "    r\"D:\\YuLab\\Work\\GPS\\DLC\\Morad\\VideoSet\\Top\\Kennard_20230730_HoldTrial067_TopView.avi\",\n",
    "    r\"D:\\YuLab\\Work\\GPS\\DLC\\Morad\\VideoSet\\Top\\Kennard_20230730_HoldTrial084_TopView.avi\",\n",
    "    r\"D:\\YuLab\\Work\\GPS\\DLC\\Morad\\VideoSet\\Top\\Kennard_20230806_HoldTrial064_TopView.avi\",\n",
    "    r\"D:\\YuLab\\Work\\GPS\\DLC\\Morad\\VideoSet\\Top\\Kennard_20230810_HoldTrial095_TopView.avi\",\n",
    "    r\"D:\\YuLab\\Work\\GPS\\DLC\\Morad\\VideoSet\\Top\\Kennard_20230813_HoldTrial069_TopView.avi\",\n",
    "    r\"D:\\YuLab\\Work\\GPS\\DLC\\Morad\\VideoSet\\Top\\Kennard_20230915_HoldTrial032.avi\",\n",
    "    r\"D:\\YuLab\\Work\\GPS\\DLC\\Morad\\VideoSet\\Top\\Kennard_20230916_HoldTrial018.avi\",\n",
    "    r\"D:\\YuLab\\Work\\GPS\\DLC\\Morad\\VideoSet\\Top\\Kennard_20230921_HoldTrial021.avi\",\n",
    "    r\"D:\\YuLab\\Work\\GPS\\DLC\\Morad\\VideoSet\\Top\\Kennard_20230921_HoldTrial031.avi\",\n",
    "    r\"D:\\YuLab\\Work\\GPS\\DLC\\Morad\\VideoSet\\Top\\Kennard_20230925_HoldTrial012.avi\",\n",
    "    r\"D:\\YuLab\\Work\\GPS\\DLC\\Morad\\VideoSet\\Top\\Kennard_20230925_HoldTrial074.avi\",\n",
    "    r\"D:\\YuLab\\Work\\GPS\\DLC\\Morad\\VideoSet\\Top\\Kennard_20230929_HoldTrial037_TopView.avi\",\n",
    "    r\"D:\\YuLab\\Work\\GPS\\DLC\\Morad\\VideoSet\\Top\\Kennard_20231004_HoldTrial067_TopView.avi\"\n",
    "]\n",
    "\n",
    "crop_coords = [[0, 1280, 0, 1024]] * len(viedos_to_add)"
   ]
  },
  {
   "cell_type": "code",
   "execution_count": 4,
   "metadata": {},
   "outputs": [
    {
     "name": "stdout",
     "output_type": "stream",
     "text": [
      "Attempting to create a symbolic link of the video ...\n",
      "Symlink creation impossible (exFat architecture?): copying the video instead.\n",
      "D:\\YuLab\\Work\\GPS\\DLC\\Morad\\VideoSet\\Top\\Kennard_20231005_HoldTrial076_TopView.avi copied to D:\\YuLab\\Work\\GPS\\DLC\\Morad\\Model\\Top\\MoradTopGPS-ZZH-2023-09-12\\videos\\Kennard_20231005_HoldTrial076_TopView.avi\n",
      "Symlink creation impossible (exFat architecture?): copying the video instead.\n",
      "D:\\YuLab\\Work\\GPS\\DLC\\Morad\\VideoSet\\Top\\Kennard_20230729_HoldTrial086_TopView.avi copied to D:\\YuLab\\Work\\GPS\\DLC\\Morad\\Model\\Top\\MoradTopGPS-ZZH-2023-09-12\\videos\\Kennard_20230729_HoldTrial086_TopView.avi\n",
      "Symlink creation impossible (exFat architecture?): copying the video instead.\n",
      "D:\\YuLab\\Work\\GPS\\DLC\\Morad\\VideoSet\\Top\\Kennard_20230729_HoldTrial109_TopView.avi copied to D:\\YuLab\\Work\\GPS\\DLC\\Morad\\Model\\Top\\MoradTopGPS-ZZH-2023-09-12\\videos\\Kennard_20230729_HoldTrial109_TopView.avi\n",
      "Symlink creation impossible (exFat architecture?): copying the video instead.\n",
      "D:\\YuLab\\Work\\GPS\\DLC\\Morad\\VideoSet\\Top\\Kennard_20230730_HoldTrial067_TopView.avi copied to D:\\YuLab\\Work\\GPS\\DLC\\Morad\\Model\\Top\\MoradTopGPS-ZZH-2023-09-12\\videos\\Kennard_20230730_HoldTrial067_TopView.avi\n",
      "Symlink creation impossible (exFat architecture?): copying the video instead.\n",
      "D:\\YuLab\\Work\\GPS\\DLC\\Morad\\VideoSet\\Top\\Kennard_20230730_HoldTrial084_TopView.avi copied to D:\\YuLab\\Work\\GPS\\DLC\\Morad\\Model\\Top\\MoradTopGPS-ZZH-2023-09-12\\videos\\Kennard_20230730_HoldTrial084_TopView.avi\n",
      "Symlink creation impossible (exFat architecture?): copying the video instead.\n",
      "D:\\YuLab\\Work\\GPS\\DLC\\Morad\\VideoSet\\Top\\Kennard_20230806_HoldTrial064_TopView.avi copied to D:\\YuLab\\Work\\GPS\\DLC\\Morad\\Model\\Top\\MoradTopGPS-ZZH-2023-09-12\\videos\\Kennard_20230806_HoldTrial064_TopView.avi\n",
      "Symlink creation impossible (exFat architecture?): copying the video instead.\n",
      "D:\\YuLab\\Work\\GPS\\DLC\\Morad\\VideoSet\\Top\\Kennard_20230810_HoldTrial095_TopView.avi copied to D:\\YuLab\\Work\\GPS\\DLC\\Morad\\Model\\Top\\MoradTopGPS-ZZH-2023-09-12\\videos\\Kennard_20230810_HoldTrial095_TopView.avi\n",
      "Symlink creation impossible (exFat architecture?): copying the video instead.\n",
      "D:\\YuLab\\Work\\GPS\\DLC\\Morad\\VideoSet\\Top\\Kennard_20230813_HoldTrial069_TopView.avi copied to D:\\YuLab\\Work\\GPS\\DLC\\Morad\\Model\\Top\\MoradTopGPS-ZZH-2023-09-12\\videos\\Kennard_20230813_HoldTrial069_TopView.avi\n",
      "Symlink creation impossible (exFat architecture?): copying the video instead.\n",
      "D:\\YuLab\\Work\\GPS\\DLC\\Morad\\VideoSet\\Top\\Kennard_20230915_HoldTrial032.avi copied to D:\\YuLab\\Work\\GPS\\DLC\\Morad\\Model\\Top\\MoradTopGPS-ZZH-2023-09-12\\videos\\Kennard_20230915_HoldTrial032.avi\n",
      "Symlink creation impossible (exFat architecture?): copying the video instead.\n",
      "D:\\YuLab\\Work\\GPS\\DLC\\Morad\\VideoSet\\Top\\Kennard_20230916_HoldTrial018.avi copied to D:\\YuLab\\Work\\GPS\\DLC\\Morad\\Model\\Top\\MoradTopGPS-ZZH-2023-09-12\\videos\\Kennard_20230916_HoldTrial018.avi\n",
      "Symlink creation impossible (exFat architecture?): copying the video instead.\n",
      "D:\\YuLab\\Work\\GPS\\DLC\\Morad\\VideoSet\\Top\\Kennard_20230921_HoldTrial021.avi copied to D:\\YuLab\\Work\\GPS\\DLC\\Morad\\Model\\Top\\MoradTopGPS-ZZH-2023-09-12\\videos\\Kennard_20230921_HoldTrial021.avi\n",
      "Symlink creation impossible (exFat architecture?): copying the video instead.\n",
      "D:\\YuLab\\Work\\GPS\\DLC\\Morad\\VideoSet\\Top\\Kennard_20230921_HoldTrial031.avi copied to D:\\YuLab\\Work\\GPS\\DLC\\Morad\\Model\\Top\\MoradTopGPS-ZZH-2023-09-12\\videos\\Kennard_20230921_HoldTrial031.avi\n",
      "Symlink creation impossible (exFat architecture?): copying the video instead.\n",
      "D:\\YuLab\\Work\\GPS\\DLC\\Morad\\VideoSet\\Top\\Kennard_20230925_HoldTrial012.avi copied to D:\\YuLab\\Work\\GPS\\DLC\\Morad\\Model\\Top\\MoradTopGPS-ZZH-2023-09-12\\videos\\Kennard_20230925_HoldTrial012.avi\n",
      "Symlink creation impossible (exFat architecture?): copying the video instead.\n",
      "D:\\YuLab\\Work\\GPS\\DLC\\Morad\\VideoSet\\Top\\Kennard_20230925_HoldTrial074.avi copied to D:\\YuLab\\Work\\GPS\\DLC\\Morad\\Model\\Top\\MoradTopGPS-ZZH-2023-09-12\\videos\\Kennard_20230925_HoldTrial074.avi\n",
      "Symlink creation impossible (exFat architecture?): copying the video instead.\n",
      "D:\\YuLab\\Work\\GPS\\DLC\\Morad\\VideoSet\\Top\\Kennard_20230929_HoldTrial037_TopView.avi copied to D:\\YuLab\\Work\\GPS\\DLC\\Morad\\Model\\Top\\MoradTopGPS-ZZH-2023-09-12\\videos\\Kennard_20230929_HoldTrial037_TopView.avi\n",
      "Symlink creation impossible (exFat architecture?): copying the video instead.\n",
      "D:\\YuLab\\Work\\GPS\\DLC\\Morad\\VideoSet\\Top\\Kennard_20231004_HoldTrial067_TopView.avi copied to D:\\YuLab\\Work\\GPS\\DLC\\Morad\\Model\\Top\\MoradTopGPS-ZZH-2023-09-12\\videos\\Kennard_20231004_HoldTrial067_TopView.avi\n",
      "Config file read successfully.\n",
      "Frame extraction failed. Video files must be corrupted.\n",
      "New videos were added to the project and frames have been extracted for labeling!\n"
     ]
    },
    {
     "data": {
      "text/plain": [
       "<function deeplabcut.generate_training_dataset.frame_extraction.extract_frames(config, mode='automatic', algo='kmeans', crop=False, userfeedback=True, cluster_step=1, cluster_resizewidth=30, cluster_color=False, opencv=True, slider_width=25, config3d=None, extracted_cam=0, videos_list=None)>"
      ]
     },
     "execution_count": 4,
     "metadata": {},
     "output_type": "execute_result"
    }
   ],
   "source": [
    "deeplabcut.add_new_videos(config_path, videos=viedos_to_add, copy_videos=False, coords=crop_coords, extract_frames=False)\n",
    "\n"
   ]
  },
  {
   "cell_type": "code",
   "execution_count": null,
   "metadata": {},
   "outputs": [],
   "source": [
    "deeplabcut.extract_frames(\n",
    "            config_path, userfeedback=False, videos_list=viedos_to_add, crop=True, mode=\"automatic\", algo= \"kmeans\",\n",
    "        )"
   ]
  }
 ],
 "metadata": {
  "kernelspec": {
   "display_name": "DEEPLABCUT",
   "language": "python",
   "name": "python3"
  },
  "language_info": {
   "codemirror_mode": {
    "name": "ipython",
    "version": 3
   },
   "file_extension": ".py",
   "mimetype": "text/x-python",
   "name": "python",
   "nbconvert_exporter": "python",
   "pygments_lexer": "ipython3",
   "version": "3.8.17"
  }
 },
 "nbformat": 4,
 "nbformat_minor": 2
}
