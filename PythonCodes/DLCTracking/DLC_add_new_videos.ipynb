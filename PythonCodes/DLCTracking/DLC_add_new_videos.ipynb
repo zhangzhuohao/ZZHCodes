{
 "cells": [
  {
   "cell_type": "code",
   "execution_count": 1,
   "metadata": {},
   "outputs": [
    {
     "name": "stdout",
     "output_type": "stream",
     "text": [
      "Loading DLC 2.3.5...\n"
     ]
    }
   ],
   "source": [
    "import deeplabcut"
   ]
  },
  {
   "cell_type": "code",
   "execution_count": null,
   "metadata": {},
   "outputs": [],
   "source": [
    "config_path = r\"D:\\DLC\\GaviFieldGPS-ZZH-2025-08-01\\config.yaml\""
   ]
  },
  {
   "cell_type": "code",
   "execution_count": null,
   "metadata": {},
   "outputs": [],
   "source": [
    "viedos_to_add = [\n",
    "r\"D:\\DLC\\VideoSet\\GaviFieldGPS-ZZH-2025-07-31\\RefineVideo_Field_Gavi_01.avi\"\n",
    "]\n",
    "\n",
    "crop_coords = [[0, 1624, 0, 660]] * len(viedos_to_add)"
   ]
  },
  {
   "cell_type": "code",
   "execution_count": 13,
   "metadata": {},
   "outputs": [
    {
     "name": "stdout",
     "output_type": "stream",
     "text": [
      "Attempting to create a symbolic link of the video ...\n",
      "Created the symlink of D:\\DLC\\VideoSet\\MoradInitGPS-ZZH-2024-11-09\\RefineVideo_Init_Naveed_01.avi to D:\\DLC\\MoradInitGPS-ZZH-2024-11-09\\videos\\RefineVideo_Init_Naveed_01.avi\n",
      "Created the symlink of D:\\DLC\\VideoSet\\MoradInitGPS-ZZH-2024-11-09\\RefineVideo_Init_Kennard_01.avi to D:\\DLC\\MoradInitGPS-ZZH-2024-11-09\\videos\\RefineVideo_Init_Kennard_01.avi\n",
      "Created the symlink of D:\\DLC\\VideoSet\\MoradInitGPS-ZZH-2024-11-09\\RefineVideo_Init_Morad_01.avi to D:\\DLC\\MoradInitGPS-ZZH-2024-11-09\\videos\\RefineVideo_Init_Morad_01.avi\n",
      "New videos were added to the project! Use the function 'extract_frames' to select frames for labeling.\n"
     ]
    }
   ],
   "source": [
    "deeplabcut.add_new_videos(config_path, videos=viedos_to_add, copy_videos=False, coords=crop_coords, extract_frames=False)\n"
   ]
  },
  {
   "cell_type": "code",
   "execution_count": 14,
   "metadata": {},
   "outputs": [
    {
     "name": "stdout",
     "output_type": "stream",
     "text": [
      "Config file read successfully.\n",
      "Extracting frames based on kmeans ...\n",
      "Kmeans-quantization based extracting of frames from 0.0  seconds to 4.36  seconds.\n",
      "Extracting and downsampling... 109  frames from the video.\n"
     ]
    },
    {
     "name": "stderr",
     "output_type": "stream",
     "text": [
      "109it [00:00, 121.61it/s]\n",
      "c:\\Users\\ZhuohaoZhang\\anaconda3\\envs\\DEEPLABCUT\\lib\\site-packages\\sklearn\\cluster\\_kmeans.py:1930: FutureWarning: The default value of `n_init` will change from 3 to 'auto' in 1.4. Set the value of `n_init` explicitly to suppress the warning\n",
      "  super()._check_params_vs_input(X, default_n_init=3)\n"
     ]
    },
    {
     "name": "stdout",
     "output_type": "stream",
     "text": [
      "Kmeans clustering ... (this might take a while)\n",
      "Extracting frames based on kmeans ...\n",
      "Kmeans-quantization based extracting of frames from 0.0  seconds to 4.12  seconds.\n",
      "Extracting and downsampling... 103  frames from the video.\n"
     ]
    },
    {
     "name": "stderr",
     "output_type": "stream",
     "text": [
      "103it [00:00, 123.10it/s]\n",
      "c:\\Users\\ZhuohaoZhang\\anaconda3\\envs\\DEEPLABCUT\\lib\\site-packages\\sklearn\\cluster\\_kmeans.py:1930: FutureWarning: The default value of `n_init` will change from 3 to 'auto' in 1.4. Set the value of `n_init` explicitly to suppress the warning\n",
      "  super()._check_params_vs_input(X, default_n_init=3)\n"
     ]
    },
    {
     "name": "stdout",
     "output_type": "stream",
     "text": [
      "Kmeans clustering ... (this might take a while)\n",
      "Extracting frames based on kmeans ...\n",
      "Kmeans-quantization based extracting of frames from 0.0  seconds to 3.64  seconds.\n",
      "Extracting and downsampling... 91  frames from the video.\n"
     ]
    },
    {
     "name": "stderr",
     "output_type": "stream",
     "text": [
      "91it [00:00, 123.80it/s]\n",
      "c:\\Users\\ZhuohaoZhang\\anaconda3\\envs\\DEEPLABCUT\\lib\\site-packages\\sklearn\\cluster\\_kmeans.py:1930: FutureWarning: The default value of `n_init` will change from 3 to 'auto' in 1.4. Set the value of `n_init` explicitly to suppress the warning\n",
      "  super()._check_params_vs_input(X, default_n_init=3)\n"
     ]
    },
    {
     "name": "stdout",
     "output_type": "stream",
     "text": [
      "Kmeans clustering ... (this might take a while)\n",
      "Frames were successfully extracted, for the videos listed in the config.yaml file.\n",
      "\n",
      "You can now label the frames using the function 'label_frames' (Note, you should label frames extracted from diverse videos (and many videos; we do not recommend training on single videos!)).\n"
     ]
    }
   ],
   "source": [
    "deeplabcut.extract_frames(\n",
    "            config_path, userfeedback=False, videos_list=viedos_to_add, crop=True, mode=\"automatic\", algo= \"kmeans\",\n",
    "        )"
   ]
  }
 ],
 "metadata": {
  "kernelspec": {
   "display_name": "DEEPLABCUT",
   "language": "python",
   "name": "python3"
  },
  "language_info": {
   "codemirror_mode": {
    "name": "ipython",
    "version": 3
   },
   "file_extension": ".py",
   "mimetype": "text/x-python",
   "name": "python",
   "nbconvert_exporter": "python",
   "pygments_lexer": "ipython3",
   "version": "3.8.17"
  }
 },
 "nbformat": 4,
 "nbformat_minor": 2
}
