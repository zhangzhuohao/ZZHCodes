{
 "cells": [
  {
   "cell_type": "code",
   "execution_count": 1,
   "metadata": {},
   "outputs": [
    {
     "name": "stdout",
     "output_type": "stream",
     "text": [
      "Loading DLC 2.3.5...\n"
     ]
    }
   ],
   "source": [
    "import deeplabcut"
   ]
  },
  {
   "cell_type": "code",
   "execution_count": 2,
   "metadata": {},
   "outputs": [],
   "source": [
    "config_path = r\"D:\\DLC\\ChesterTopGPS-ZZH-2024-05-26\\config.yaml\""
   ]
  },
  {
   "cell_type": "code",
   "execution_count": 3,
   "metadata": {},
   "outputs": [],
   "source": [
    "viedos_to_add = [\n",
    "r\"D:\\DLC\\VideoSet\\ChesterTopGPS-ZZH-2024-05-26\\RefineVideo_Leo_GPS_08_KornblumHold1000SRTSelf.avi\",\n",
    "r\"D:\\DLC\\VideoSet\\ChesterTopGPS-ZZH-2024-05-26\\RefineVideo_Pollard_GPS_05_ThreeFPHoldSRT.avi\",\n",
    "r\"D:\\DLC\\VideoSet\\ChesterTopGPS-ZZH-2024-05-26\\RefineVideo_Osmond_GPS_05_ThreeFPHoldSRT.avi\",\n",
    "r\"D:\\DLC\\VideoSet\\ChesterTopGPS-ZZH-2024-05-26\\RefineVideo_Leo_GPS_09_KornblumHold1500SRTSelf.avi\",\n",
    "r\"D:\\DLC\\VideoSet\\ChesterTopGPS-ZZH-2024-05-26\\RefineVideo_Chester_GPS_10_KornblumHold2000SRTSelf.avi\",\n",
    "r\"D:\\DLC\\VideoSet\\ChesterTopGPS-ZZH-2024-05-26\\RefineVideo_Chester_GPS_09_KornblumHold1500SRTSelf.avi\",\n",
    "r\"D:\\DLC\\VideoSet\\ChesterTopGPS-ZZH-2024-05-26\\RefineVideo_Chester_GPS_08_KornblumHold1000SRTSelf.avi\"\n",
    "]\n",
    "\n",
    "crop_coords = [[0, 1280, 0, 1024]] * len(viedos_to_add)"
   ]
  },
  {
   "cell_type": "code",
   "execution_count": 4,
   "metadata": {},
   "outputs": [
    {
     "name": "stdout",
     "output_type": "stream",
     "text": [
      "Attempting to create a symbolic link of the video ...\n",
      "Created the symlink of D:\\DLC\\VideoSet\\MoradTopGPS-ZZH-2023-09-12\\RefineVideo_Kennard_GPS_13_ThreeFPHoldSRT.avi to D:\\DLC\\MoradTopGPS-ZZH-2023-09-12\\videos\\RefineVideo_Kennard_GPS_13_ThreeFPHoldSRT.avi\n",
      "New videos were added to the project! Use the function 'extract_frames' to select frames for labeling.\n"
     ]
    }
   ],
   "source": [
    "deeplabcut.add_new_videos(config_path, videos=viedos_to_add, copy_videos=False, coords=crop_coords, extract_frames=False)\n"
   ]
  },
  {
   "cell_type": "code",
   "execution_count": 5,
   "metadata": {},
   "outputs": [
    {
     "name": "stdout",
     "output_type": "stream",
     "text": [
      "Config file read successfully.\n",
      "Extracting frames based on kmeans ...\n",
      "Kmeans-quantization based extracting of frames from 0.0  seconds to 24.56  seconds.\n",
      "Extracting and downsampling... 614  frames from the video.\n"
     ]
    },
    {
     "name": "stderr",
     "output_type": "stream",
     "text": [
      "614it [00:06, 88.83it/s]\n",
      "c:\\Users\\ZhuohaoZhang\\anaconda3\\envs\\DEEPLABCUT\\lib\\site-packages\\sklearn\\cluster\\_kmeans.py:1930: FutureWarning: The default value of `n_init` will change from 3 to 'auto' in 1.4. Set the value of `n_init` explicitly to suppress the warning\n",
      "  super()._check_params_vs_input(X, default_n_init=3)\n"
     ]
    },
    {
     "name": "stdout",
     "output_type": "stream",
     "text": [
      "Kmeans clustering ... (this might take a while)\n",
      "Frames were successfully extracted, for the videos listed in the config.yaml file.\n",
      "\n",
      "You can now label the frames using the function 'label_frames' (Note, you should label frames extracted from diverse videos (and many videos; we do not recommend training on single videos!)).\n"
     ]
    }
   ],
   "source": [
    "deeplabcut.extract_frames(\n",
    "            config_path, userfeedback=False, videos_list=viedos_to_add, crop=True, mode=\"automatic\", algo= \"kmeans\",\n",
    "        )"
   ]
  }
 ],
 "metadata": {
  "kernelspec": {
   "display_name": "DEEPLABCUT",
   "language": "python",
   "name": "python3"
  },
  "language_info": {
   "codemirror_mode": {
    "name": "ipython",
    "version": 3
   },
   "file_extension": ".py",
   "mimetype": "text/x-python",
   "name": "python",
   "nbconvert_exporter": "python",
   "pygments_lexer": "ipython3",
   "version": "3.8.17"
  }
 },
 "nbformat": 4,
 "nbformat_minor": 2
}
