{
 "cells": [
  {
   "cell_type": "code",
   "execution_count": 1,
   "metadata": {},
   "outputs": [
    {
     "name": "stdout",
     "output_type": "stream",
     "text": [
      "Loading DLC 2.3.5...\n"
     ]
    }
   ],
   "source": [
    "import deeplabcut"
   ]
  },
  {
   "cell_type": "code",
   "execution_count": 2,
   "metadata": {},
   "outputs": [],
   "source": [
    "config_path = r\"D:\\DLC\\ChesterFieldGPS-ZZH-2024-11-14\\config.yaml\""
   ]
  },
  {
   "cell_type": "code",
   "execution_count": 3,
   "metadata": {},
   "outputs": [],
   "source": [
    "viedos_to_add = [\n",
    "r\"D:\\DLC\\VideoSet\\ChesterFieldGPS-ZZH-2024-11-14\\RefineVideo_Field_Chester_01.avi\",\n",
    "r\"D:\\DLC\\VideoSet\\ChesterFieldGPS-ZZH-2024-11-14\\RefineVideo_Field_Leo_01.avi\"\n",
    "]\n",
    "\n",
    "crop_coords = [[200, 1600, 300, 900]] * len(viedos_to_add)"
   ]
  },
  {
   "cell_type": "code",
   "execution_count": 4,
   "metadata": {},
   "outputs": [
    {
     "name": "stdout",
     "output_type": "stream",
     "text": [
      "Attempting to create a symbolic link of the video ...\n",
      "Symlink creation impossible (exFat architecture?): copying the video instead.\n",
      "D:\\DLC\\VideoSet\\ChesterFieldGPS-ZZH-2024-11-14\\RefineVideo_Field_Chester_01.avi copied to D:\\DLC\\ChesterFieldGPS-ZZH-2024-11-14\\videos\\RefineVideo_Field_Chester_01.avi\n",
      "Symlink creation impossible (exFat architecture?): copying the video instead.\n",
      "D:\\DLC\\VideoSet\\ChesterFieldGPS-ZZH-2024-11-14\\RefineVideo_Field_Leo_01.avi copied to D:\\DLC\\ChesterFieldGPS-ZZH-2024-11-14\\videos\\RefineVideo_Field_Leo_01.avi\n",
      "New videos were added to the project! Use the function 'extract_frames' to select frames for labeling.\n"
     ]
    }
   ],
   "source": [
    "deeplabcut.add_new_videos(config_path, videos=viedos_to_add, copy_videos=False, coords=crop_coords, extract_frames=False)\n"
   ]
  },
  {
   "cell_type": "code",
   "execution_count": 5,
   "metadata": {},
   "outputs": [
    {
     "name": "stdout",
     "output_type": "stream",
     "text": [
      "Config file read successfully.\n",
      "Frame extraction failed. Video files must be corrupted.\n"
     ]
    }
   ],
   "source": [
    "deeplabcut.extract_frames(\n",
    "            config_path, userfeedback=False, videos_list=viedos_to_add, crop=True, mode=\"automatic\", algo= \"kmeans\",\n",
    "        )"
   ]
  }
 ],
 "metadata": {
  "kernelspec": {
   "display_name": "DEEPLABCUT",
   "language": "python",
   "name": "python3"
  },
  "language_info": {
   "codemirror_mode": {
    "name": "ipython",
    "version": 3
   },
   "file_extension": ".py",
   "mimetype": "text/x-python",
   "name": "python",
   "nbconvert_exporter": "python",
   "pygments_lexer": "ipython3",
   "version": "3.8.17"
  }
 },
 "nbformat": 4,
 "nbformat_minor": 2
}
