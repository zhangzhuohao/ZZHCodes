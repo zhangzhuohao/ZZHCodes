{
 "cells": [
  {
   "cell_type": "code",
   "execution_count": 1,
   "metadata": {},
   "outputs": [
    {
     "name": "stdout",
     "output_type": "stream",
     "text": [
      "Loading DLC 2.3.5...\n"
     ]
    }
   ],
   "source": [
    "import deeplabcut\n",
    "import tkinter as tk\n",
    "from tkinter import filedialog"
   ]
  },
  {
   "cell_type": "code",
   "execution_count": 2,
   "metadata": {},
   "outputs": [],
   "source": [
    "config_path = r\"D:\\DLC\\MoradTopGPS-ZZH-2023-09-12\\config.yaml\""
   ]
  },
  {
   "cell_type": "markdown",
   "metadata": {},
   "source": [
    "### Add video files to be analyzed"
   ]
  },
  {
   "cell_type": "code",
   "execution_count": 3,
   "metadata": {},
   "outputs": [],
   "source": [
    "def select_files(initialdir=r\"D:\\YuLab\\Work\\GPS\\Video\", filetypes=[(\"avi file\", \"*.avi\"), (\"all\", \"*.*\")]):\n",
    "    root = tk.Tk()\n",
    "    root.withdraw\n",
    "    \n",
    "    files = filedialog.askopenfilenames(initialdir=initialdir, filetypes=filetypes)\n",
    "    files = list(files)\n",
    "    files.sort()\n",
    "    print(\"add {:d} video files\".format(len(files)))\n",
    "    root.destroy()\n",
    "\n",
    "    return files"
   ]
  },
  {
   "cell_type": "markdown",
   "metadata": {},
   "source": [
    "#### reset video list"
   ]
  },
  {
   "cell_type": "code",
   "execution_count": 4,
   "metadata": {},
   "outputs": [],
   "source": [
    "video_files = []"
   ]
  },
  {
   "cell_type": "markdown",
   "metadata": {},
   "source": [
    "#### add videos"
   ]
  },
  {
   "cell_type": "code",
   "execution_count": 7,
   "metadata": {},
   "outputs": [
    {
     "name": "stdout",
     "output_type": "stream",
     "text": [
      "add 102 video files\n",
      "now 253 video files\n"
     ]
    }
   ],
   "source": [
    "video_files_to_add = select_files(initialdir=r\"D:\\YuLab\\Work\\GPS\\Video\\Naveed\")\n",
    "\n",
    "video_files = video_files + list(set(video_files_to_add))\n",
    "video_files = list(set(video_files))\n",
    "video_files.sort()\n",
    "\n",
    "print(\"now {:d} video files\".format(len(video_files)))"
   ]
  },
  {
   "cell_type": "markdown",
   "metadata": {},
   "source": [
    "### Analyze videos"
   ]
  },
  {
   "cell_type": "code",
   "execution_count": 9,
   "metadata": {},
   "outputs": [
    {
     "name": "stdout",
     "output_type": "stream",
     "text": [
      "Using snapshot-3000000 for model D:\\DLC\\MoradTopGPS-ZZH-2023-09-12\\dlc-models\\iteration-0\\MoradTopGPSSep12-trainset95shuffle1\n"
     ]
    },
    {
     "name": "stderr",
     "output_type": "stream",
     "text": [
      "c:\\Users\\ZhuohaoZhang\\anaconda3\\envs\\DEEPLABCUT\\lib\\site-packages\\tensorflow\\python\\keras\\engine\\base_layer_v1.py:1694: UserWarning: `layer.apply` is deprecated and will be removed in a future version. Please use `layer.__call__` method instead.\n",
      "  warnings.warn('`layer.apply` is deprecated and '\n"
     ]
    },
    {
     "name": "stdout",
     "output_type": "stream",
     "text": [
      "Starting to analyze %  D:/YuLab/Work/GPS/Video/Naveed/GPS_20_ThreeFPHoldSRTProbe/20240804/Top/Clips/Naveed_20240804_HoldTrial017_TopView.avi\n",
      "Loading  D:/YuLab/Work/GPS/Video/Naveed/GPS_20_ThreeFPHoldSRTProbe/20240804/Top/Clips/Naveed_20240804_HoldTrial017_TopView.avi\n",
      "Duration of video [s]:  8.04 , recorded with  25.0 fps!\n",
      "Overall # of frames:  201  found with (before cropping) frame dimensions:  1280 1331\n",
      "Starting to extract posture\n",
      "Cropping based on the x1 = 0 x2 = 1280 y1 = 0 y2 = 1024. You can adjust the cropping coordinates in the config.yaml file.\n"
     ]
    },
    {
     "name": "stderr",
     "output_type": "stream",
     "text": [
      "100%|██████████| 201/201 [00:18<00:00, 10.77it/s]\n"
     ]
    },
    {
     "name": "stdout",
     "output_type": "stream",
     "text": [
      "Saving results in D:\\YuLab\\Work\\GPS\\Video\\Naveed\\GPS_20_ThreeFPHoldSRTProbe\\20240804\\Top\\Clips...\n",
      "Saving csv poses!\n",
      "Starting to analyze %  D:/YuLab/Work/GPS/Video/Naveed/GPS_20_ThreeFPHoldSRTProbe/20240804/Top/Clips/Naveed_20240804_HoldTrial018_TopView.avi\n",
      "Loading  D:/YuLab/Work/GPS/Video/Naveed/GPS_20_ThreeFPHoldSRTProbe/20240804/Top/Clips/Naveed_20240804_HoldTrial018_TopView.avi\n",
      "Duration of video [s]:  8.04 , recorded with  25.0 fps!\n",
      "Overall # of frames:  201  found with (before cropping) frame dimensions:  1280 1331\n",
      "Starting to extract posture\n",
      "Cropping based on the x1 = 0 x2 = 1280 y1 = 0 y2 = 1024. You can adjust the cropping coordinates in the config.yaml file.\n"
     ]
    },
    {
     "name": "stderr",
     "output_type": "stream",
     "text": [
      "100%|██████████| 201/201 [00:08<00:00, 23.17it/s]\n"
     ]
    },
    {
     "name": "stdout",
     "output_type": "stream",
     "text": [
      "Saving results in D:\\YuLab\\Work\\GPS\\Video\\Naveed\\GPS_20_ThreeFPHoldSRTProbe\\20240804\\Top\\Clips...\n",
      "Saving csv poses!\n",
      "Starting to analyze %  D:/YuLab/Work/GPS/Video/Naveed/GPS_20_ThreeFPHoldSRTProbe/20240804/Top/Clips/Naveed_20240804_HoldTrial019_TopView.avi\n",
      "Loading  D:/YuLab/Work/GPS/Video/Naveed/GPS_20_ThreeFPHoldSRTProbe/20240804/Top/Clips/Naveed_20240804_HoldTrial019_TopView.avi\n",
      "Duration of video [s]:  8.0 , recorded with  25.0 fps!\n",
      "Overall # of frames:  200  found with (before cropping) frame dimensions:  1280 1331\n",
      "Starting to extract posture\n",
      "Cropping based on the x1 = 0 x2 = 1280 y1 = 0 y2 = 1024. You can adjust the cropping coordinates in the config.yaml file.\n"
     ]
    },
    {
     "name": "stderr",
     "output_type": "stream",
     "text": [
      "100%|██████████| 200/200 [00:08<00:00, 23.80it/s]\n"
     ]
    },
    {
     "name": "stdout",
     "output_type": "stream",
     "text": [
      "Saving results in D:\\YuLab\\Work\\GPS\\Video\\Naveed\\GPS_20_ThreeFPHoldSRTProbe\\20240804\\Top\\Clips...\n",
      "Saving csv poses!\n",
      "Starting to analyze %  D:/YuLab/Work/GPS/Video/Naveed/GPS_20_ThreeFPHoldSRTProbe/20240804/Top/Clips/Naveed_20240804_HoldTrial020_TopView.avi\n",
      "Loading  D:/YuLab/Work/GPS/Video/Naveed/GPS_20_ThreeFPHoldSRTProbe/20240804/Top/Clips/Naveed_20240804_HoldTrial020_TopView.avi\n",
      "Duration of video [s]:  8.04 , recorded with  25.0 fps!\n",
      "Overall # of frames:  201  found with (before cropping) frame dimensions:  1280 1331\n",
      "Starting to extract posture\n",
      "Cropping based on the x1 = 0 x2 = 1280 y1 = 0 y2 = 1024. You can adjust the cropping coordinates in the config.yaml file.\n"
     ]
    },
    {
     "name": "stderr",
     "output_type": "stream",
     "text": [
      "100%|██████████| 201/201 [00:08<00:00, 23.13it/s]\n"
     ]
    },
    {
     "name": "stdout",
     "output_type": "stream",
     "text": [
      "Saving results in D:\\YuLab\\Work\\GPS\\Video\\Naveed\\GPS_20_ThreeFPHoldSRTProbe\\20240804\\Top\\Clips...\n",
      "Saving csv poses!\n",
      "Starting to analyze %  D:/YuLab/Work/GPS/Video/Naveed/GPS_20_ThreeFPHoldSRTProbe/20240804/Top/Clips/Naveed_20240804_HoldTrial021_TopView.avi\n",
      "Loading  D:/YuLab/Work/GPS/Video/Naveed/GPS_20_ThreeFPHoldSRTProbe/20240804/Top/Clips/Naveed_20240804_HoldTrial021_TopView.avi\n",
      "Duration of video [s]:  8.04 , recorded with  25.0 fps!\n",
      "Overall # of frames:  201  found with (before cropping) frame dimensions:  1280 1331\n",
      "Starting to extract posture\n",
      "Cropping based on the x1 = 0 x2 = 1280 y1 = 0 y2 = 1024. You can adjust the cropping coordinates in the config.yaml file.\n"
     ]
    },
    {
     "name": "stderr",
     "output_type": "stream",
     "text": [
      "100%|██████████| 201/201 [00:08<00:00, 23.10it/s]\n"
     ]
    },
    {
     "name": "stdout",
     "output_type": "stream",
     "text": [
      "Saving results in D:\\YuLab\\Work\\GPS\\Video\\Naveed\\GPS_20_ThreeFPHoldSRTProbe\\20240804\\Top\\Clips...\n",
      "Saving csv poses!\n",
      "Starting to analyze %  D:/YuLab/Work/GPS/Video/Naveed/GPS_20_ThreeFPHoldSRTProbe/20240804/Top/Clips/Naveed_20240804_HoldTrial022_TopView.avi\n",
      "Loading  D:/YuLab/Work/GPS/Video/Naveed/GPS_20_ThreeFPHoldSRTProbe/20240804/Top/Clips/Naveed_20240804_HoldTrial022_TopView.avi\n",
      "Duration of video [s]:  8.04 , recorded with  25.0 fps!\n",
      "Overall # of frames:  201  found with (before cropping) frame dimensions:  1280 1331\n",
      "Starting to extract posture\n",
      "Cropping based on the x1 = 0 x2 = 1280 y1 = 0 y2 = 1024. You can adjust the cropping coordinates in the config.yaml file.\n"
     ]
    },
    {
     "name": "stderr",
     "output_type": "stream",
     "text": [
      "100%|██████████| 201/201 [00:08<00:00, 23.11it/s]\n"
     ]
    },
    {
     "name": "stdout",
     "output_type": "stream",
     "text": [
      "Saving results in D:\\YuLab\\Work\\GPS\\Video\\Naveed\\GPS_20_ThreeFPHoldSRTProbe\\20240804\\Top\\Clips...\n",
      "Saving csv poses!\n",
      "Starting to analyze %  D:/YuLab/Work/GPS/Video/Naveed/GPS_20_ThreeFPHoldSRTProbe/20240804/Top/Clips/Naveed_20240804_HoldTrial023_TopView.avi\n",
      "Loading  D:/YuLab/Work/GPS/Video/Naveed/GPS_20_ThreeFPHoldSRTProbe/20240804/Top/Clips/Naveed_20240804_HoldTrial023_TopView.avi\n",
      "Duration of video [s]:  8.04 , recorded with  25.0 fps!\n",
      "Overall # of frames:  201  found with (before cropping) frame dimensions:  1280 1331\n",
      "Starting to extract posture\n",
      "Cropping based on the x1 = 0 x2 = 1280 y1 = 0 y2 = 1024. You can adjust the cropping coordinates in the config.yaml file.\n"
     ]
    },
    {
     "name": "stderr",
     "output_type": "stream",
     "text": [
      "100%|██████████| 201/201 [00:08<00:00, 23.08it/s]\n"
     ]
    },
    {
     "name": "stdout",
     "output_type": "stream",
     "text": [
      "Saving results in D:\\YuLab\\Work\\GPS\\Video\\Naveed\\GPS_20_ThreeFPHoldSRTProbe\\20240804\\Top\\Clips...\n",
      "Saving csv poses!\n",
      "Starting to analyze %  D:/YuLab/Work/GPS/Video/Naveed/GPS_20_ThreeFPHoldSRTProbe/20240804/Top/Clips/Naveed_20240804_HoldTrial024_TopView.avi\n",
      "Loading  D:/YuLab/Work/GPS/Video/Naveed/GPS_20_ThreeFPHoldSRTProbe/20240804/Top/Clips/Naveed_20240804_HoldTrial024_TopView.avi\n",
      "Duration of video [s]:  8.04 , recorded with  25.0 fps!\n",
      "Overall # of frames:  201  found with (before cropping) frame dimensions:  1280 1331\n",
      "Starting to extract posture\n",
      "Cropping based on the x1 = 0 x2 = 1280 y1 = 0 y2 = 1024. You can adjust the cropping coordinates in the config.yaml file.\n"
     ]
    },
    {
     "name": "stderr",
     "output_type": "stream",
     "text": [
      "100%|██████████| 201/201 [00:08<00:00, 23.06it/s]\n"
     ]
    },
    {
     "name": "stdout",
     "output_type": "stream",
     "text": [
      "Saving results in D:\\YuLab\\Work\\GPS\\Video\\Naveed\\GPS_20_ThreeFPHoldSRTProbe\\20240804\\Top\\Clips...\n",
      "Saving csv poses!\n",
      "Starting to analyze %  D:/YuLab/Work/GPS/Video/Naveed/GPS_20_ThreeFPHoldSRTProbe/20240804/Top/Clips/Naveed_20240804_HoldTrial025_TopView.avi\n",
      "Loading  D:/YuLab/Work/GPS/Video/Naveed/GPS_20_ThreeFPHoldSRTProbe/20240804/Top/Clips/Naveed_20240804_HoldTrial025_TopView.avi\n",
      "Duration of video [s]:  8.04 , recorded with  25.0 fps!\n",
      "Overall # of frames:  201  found with (before cropping) frame dimensions:  1280 1331\n",
      "Starting to extract posture\n",
      "Cropping based on the x1 = 0 x2 = 1280 y1 = 0 y2 = 1024. You can adjust the cropping coordinates in the config.yaml file.\n"
     ]
    },
    {
     "name": "stderr",
     "output_type": "stream",
     "text": [
      "100%|██████████| 201/201 [00:08<00:00, 23.08it/s]\n"
     ]
    },
    {
     "name": "stdout",
     "output_type": "stream",
     "text": [
      "Saving results in D:\\YuLab\\Work\\GPS\\Video\\Naveed\\GPS_20_ThreeFPHoldSRTProbe\\20240804\\Top\\Clips...\n",
      "Saving csv poses!\n",
      "Starting to analyze %  D:/YuLab/Work/GPS/Video/Naveed/GPS_20_ThreeFPHoldSRTProbe/20240804/Top/Clips/Naveed_20240804_HoldTrial026_TopView.avi\n",
      "Loading  D:/YuLab/Work/GPS/Video/Naveed/GPS_20_ThreeFPHoldSRTProbe/20240804/Top/Clips/Naveed_20240804_HoldTrial026_TopView.avi\n",
      "Duration of video [s]:  8.04 , recorded with  25.0 fps!\n",
      "Overall # of frames:  201  found with (before cropping) frame dimensions:  1280 1331\n",
      "Starting to extract posture\n",
      "Cropping based on the x1 = 0 x2 = 1280 y1 = 0 y2 = 1024. You can adjust the cropping coordinates in the config.yaml file.\n"
     ]
    },
    {
     "name": "stderr",
     "output_type": "stream",
     "text": [
      "100%|██████████| 201/201 [00:08<00:00, 23.06it/s]\n"
     ]
    },
    {
     "name": "stdout",
     "output_type": "stream",
     "text": [
      "Saving results in D:\\YuLab\\Work\\GPS\\Video\\Naveed\\GPS_20_ThreeFPHoldSRTProbe\\20240804\\Top\\Clips...\n",
      "Saving csv poses!\n",
      "Starting to analyze %  D:/YuLab/Work/GPS/Video/Naveed/GPS_20_ThreeFPHoldSRTProbe/20240804/Top/Clips/Naveed_20240804_HoldTrial027_TopView.avi\n",
      "Loading  D:/YuLab/Work/GPS/Video/Naveed/GPS_20_ThreeFPHoldSRTProbe/20240804/Top/Clips/Naveed_20240804_HoldTrial027_TopView.avi\n",
      "Duration of video [s]:  8.04 , recorded with  25.0 fps!\n",
      "Overall # of frames:  201  found with (before cropping) frame dimensions:  1280 1331\n",
      "Starting to extract posture\n",
      "Cropping based on the x1 = 0 x2 = 1280 y1 = 0 y2 = 1024. You can adjust the cropping coordinates in the config.yaml file.\n"
     ]
    },
    {
     "name": "stderr",
     "output_type": "stream",
     "text": [
      "100%|██████████| 201/201 [00:08<00:00, 23.09it/s]\n"
     ]
    },
    {
     "name": "stdout",
     "output_type": "stream",
     "text": [
      "Saving results in D:\\YuLab\\Work\\GPS\\Video\\Naveed\\GPS_20_ThreeFPHoldSRTProbe\\20240804\\Top\\Clips...\n",
      "Saving csv poses!\n",
      "Starting to analyze %  D:/YuLab/Work/GPS/Video/Naveed/GPS_20_ThreeFPHoldSRTProbe/20240804/Top/Clips/Naveed_20240804_HoldTrial028_TopView.avi\n",
      "Loading  D:/YuLab/Work/GPS/Video/Naveed/GPS_20_ThreeFPHoldSRTProbe/20240804/Top/Clips/Naveed_20240804_HoldTrial028_TopView.avi\n",
      "Duration of video [s]:  8.04 , recorded with  25.0 fps!\n",
      "Overall # of frames:  201  found with (before cropping) frame dimensions:  1280 1331\n",
      "Starting to extract posture\n",
      "Cropping based on the x1 = 0 x2 = 1280 y1 = 0 y2 = 1024. You can adjust the cropping coordinates in the config.yaml file.\n"
     ]
    },
    {
     "name": "stderr",
     "output_type": "stream",
     "text": [
      "100%|██████████| 201/201 [00:08<00:00, 23.07it/s]\n"
     ]
    },
    {
     "name": "stdout",
     "output_type": "stream",
     "text": [
      "Saving results in D:\\YuLab\\Work\\GPS\\Video\\Naveed\\GPS_20_ThreeFPHoldSRTProbe\\20240804\\Top\\Clips...\n",
      "Saving csv poses!\n",
      "Starting to analyze %  D:/YuLab/Work/GPS/Video/Naveed/GPS_20_ThreeFPHoldSRTProbe/20240804/Top/Clips/Naveed_20240804_HoldTrial029_TopView.avi\n",
      "Loading  D:/YuLab/Work/GPS/Video/Naveed/GPS_20_ThreeFPHoldSRTProbe/20240804/Top/Clips/Naveed_20240804_HoldTrial029_TopView.avi\n",
      "Duration of video [s]:  8.04 , recorded with  25.0 fps!\n",
      "Overall # of frames:  201  found with (before cropping) frame dimensions:  1280 1331\n",
      "Starting to extract posture\n",
      "Cropping based on the x1 = 0 x2 = 1280 y1 = 0 y2 = 1024. You can adjust the cropping coordinates in the config.yaml file.\n"
     ]
    },
    {
     "name": "stderr",
     "output_type": "stream",
     "text": [
      "100%|██████████| 201/201 [00:08<00:00, 23.12it/s]\n"
     ]
    },
    {
     "name": "stdout",
     "output_type": "stream",
     "text": [
      "Saving results in D:\\YuLab\\Work\\GPS\\Video\\Naveed\\GPS_20_ThreeFPHoldSRTProbe\\20240804\\Top\\Clips...\n",
      "Saving csv poses!\n",
      "Starting to analyze %  D:/YuLab/Work/GPS/Video/Naveed/GPS_20_ThreeFPHoldSRTProbe/20240804/Top/Clips/Naveed_20240804_HoldTrial030_TopView.avi\n",
      "Loading  D:/YuLab/Work/GPS/Video/Naveed/GPS_20_ThreeFPHoldSRTProbe/20240804/Top/Clips/Naveed_20240804_HoldTrial030_TopView.avi\n",
      "Duration of video [s]:  8.04 , recorded with  25.0 fps!\n",
      "Overall # of frames:  201  found with (before cropping) frame dimensions:  1280 1331\n",
      "Starting to extract posture\n",
      "Cropping based on the x1 = 0 x2 = 1280 y1 = 0 y2 = 1024. You can adjust the cropping coordinates in the config.yaml file.\n"
     ]
    },
    {
     "name": "stderr",
     "output_type": "stream",
     "text": [
      "100%|██████████| 201/201 [00:08<00:00, 23.05it/s]\n"
     ]
    },
    {
     "name": "stdout",
     "output_type": "stream",
     "text": [
      "Saving results in D:\\YuLab\\Work\\GPS\\Video\\Naveed\\GPS_20_ThreeFPHoldSRTProbe\\20240804\\Top\\Clips...\n",
      "Saving csv poses!\n",
      "Starting to analyze %  D:/YuLab/Work/GPS/Video/Naveed/GPS_20_ThreeFPHoldSRTProbe/20240804/Top/Clips/Naveed_20240804_HoldTrial031_TopView.avi\n",
      "Loading  D:/YuLab/Work/GPS/Video/Naveed/GPS_20_ThreeFPHoldSRTProbe/20240804/Top/Clips/Naveed_20240804_HoldTrial031_TopView.avi\n",
      "Duration of video [s]:  8.04 , recorded with  25.0 fps!\n",
      "Overall # of frames:  201  found with (before cropping) frame dimensions:  1280 1331\n",
      "Starting to extract posture\n",
      "Cropping based on the x1 = 0 x2 = 1280 y1 = 0 y2 = 1024. You can adjust the cropping coordinates in the config.yaml file.\n"
     ]
    },
    {
     "name": "stderr",
     "output_type": "stream",
     "text": [
      "100%|██████████| 201/201 [00:08<00:00, 23.07it/s]\n"
     ]
    },
    {
     "name": "stdout",
     "output_type": "stream",
     "text": [
      "Saving results in D:\\YuLab\\Work\\GPS\\Video\\Naveed\\GPS_20_ThreeFPHoldSRTProbe\\20240804\\Top\\Clips...\n",
      "Saving csv poses!\n",
      "Starting to analyze %  D:/YuLab/Work/GPS/Video/Naveed/GPS_20_ThreeFPHoldSRTProbe/20240804/Top/Clips/Naveed_20240804_HoldTrial032_TopView.avi\n",
      "Loading  D:/YuLab/Work/GPS/Video/Naveed/GPS_20_ThreeFPHoldSRTProbe/20240804/Top/Clips/Naveed_20240804_HoldTrial032_TopView.avi\n",
      "Duration of video [s]:  8.04 , recorded with  25.0 fps!\n",
      "Overall # of frames:  201  found with (before cropping) frame dimensions:  1280 1331\n",
      "Starting to extract posture\n",
      "Cropping based on the x1 = 0 x2 = 1280 y1 = 0 y2 = 1024. You can adjust the cropping coordinates in the config.yaml file.\n"
     ]
    },
    {
     "name": "stderr",
     "output_type": "stream",
     "text": [
      "100%|██████████| 201/201 [00:08<00:00, 23.07it/s]\n"
     ]
    },
    {
     "name": "stdout",
     "output_type": "stream",
     "text": [
      "Saving results in D:\\YuLab\\Work\\GPS\\Video\\Naveed\\GPS_20_ThreeFPHoldSRTProbe\\20240804\\Top\\Clips...\n",
      "Saving csv poses!\n",
      "Starting to analyze %  D:/YuLab/Work/GPS/Video/Naveed/GPS_20_ThreeFPHoldSRTProbe/20240804/Top/Clips/Naveed_20240804_HoldTrial033_TopView.avi\n",
      "Loading  D:/YuLab/Work/GPS/Video/Naveed/GPS_20_ThreeFPHoldSRTProbe/20240804/Top/Clips/Naveed_20240804_HoldTrial033_TopView.avi\n",
      "Duration of video [s]:  8.04 , recorded with  25.0 fps!\n",
      "Overall # of frames:  201  found with (before cropping) frame dimensions:  1280 1331\n",
      "Starting to extract posture\n",
      "Cropping based on the x1 = 0 x2 = 1280 y1 = 0 y2 = 1024. You can adjust the cropping coordinates in the config.yaml file.\n"
     ]
    },
    {
     "name": "stderr",
     "output_type": "stream",
     "text": [
      "100%|██████████| 201/201 [00:08<00:00, 23.11it/s]\n"
     ]
    },
    {
     "name": "stdout",
     "output_type": "stream",
     "text": [
      "Saving results in D:\\YuLab\\Work\\GPS\\Video\\Naveed\\GPS_20_ThreeFPHoldSRTProbe\\20240804\\Top\\Clips...\n",
      "Saving csv poses!\n",
      "Starting to analyze %  D:/YuLab/Work/GPS/Video/Naveed/GPS_20_ThreeFPHoldSRTProbe/20240804/Top/Clips/Naveed_20240804_HoldTrial034_TopView.avi\n",
      "Loading  D:/YuLab/Work/GPS/Video/Naveed/GPS_20_ThreeFPHoldSRTProbe/20240804/Top/Clips/Naveed_20240804_HoldTrial034_TopView.avi\n",
      "Duration of video [s]:  8.04 , recorded with  25.0 fps!\n",
      "Overall # of frames:  201  found with (before cropping) frame dimensions:  1280 1331\n",
      "Starting to extract posture\n",
      "Cropping based on the x1 = 0 x2 = 1280 y1 = 0 y2 = 1024. You can adjust the cropping coordinates in the config.yaml file.\n"
     ]
    },
    {
     "name": "stderr",
     "output_type": "stream",
     "text": [
      "100%|██████████| 201/201 [00:08<00:00, 23.08it/s]\n"
     ]
    },
    {
     "name": "stdout",
     "output_type": "stream",
     "text": [
      "Saving results in D:\\YuLab\\Work\\GPS\\Video\\Naveed\\GPS_20_ThreeFPHoldSRTProbe\\20240804\\Top\\Clips...\n",
      "Saving csv poses!\n",
      "Starting to analyze %  D:/YuLab/Work/GPS/Video/Naveed/GPS_20_ThreeFPHoldSRTProbe/20240804/Top/Clips/Naveed_20240804_HoldTrial035_TopView.avi\n",
      "Loading  D:/YuLab/Work/GPS/Video/Naveed/GPS_20_ThreeFPHoldSRTProbe/20240804/Top/Clips/Naveed_20240804_HoldTrial035_TopView.avi\n",
      "Duration of video [s]:  8.04 , recorded with  25.0 fps!\n",
      "Overall # of frames:  201  found with (before cropping) frame dimensions:  1280 1331\n",
      "Starting to extract posture\n",
      "Cropping based on the x1 = 0 x2 = 1280 y1 = 0 y2 = 1024. You can adjust the cropping coordinates in the config.yaml file.\n"
     ]
    },
    {
     "name": "stderr",
     "output_type": "stream",
     "text": [
      "100%|██████████| 201/201 [00:08<00:00, 23.13it/s]\n"
     ]
    },
    {
     "name": "stdout",
     "output_type": "stream",
     "text": [
      "Saving results in D:\\YuLab\\Work\\GPS\\Video\\Naveed\\GPS_20_ThreeFPHoldSRTProbe\\20240804\\Top\\Clips...\n",
      "Saving csv poses!\n",
      "Starting to analyze %  D:/YuLab/Work/GPS/Video/Naveed/GPS_20_ThreeFPHoldSRTProbe/20240804/Top/Clips/Naveed_20240804_HoldTrial036_TopView.avi\n",
      "Loading  D:/YuLab/Work/GPS/Video/Naveed/GPS_20_ThreeFPHoldSRTProbe/20240804/Top/Clips/Naveed_20240804_HoldTrial036_TopView.avi\n",
      "Duration of video [s]:  8.04 , recorded with  25.0 fps!\n",
      "Overall # of frames:  201  found with (before cropping) frame dimensions:  1280 1331\n",
      "Starting to extract posture\n",
      "Cropping based on the x1 = 0 x2 = 1280 y1 = 0 y2 = 1024. You can adjust the cropping coordinates in the config.yaml file.\n"
     ]
    },
    {
     "name": "stderr",
     "output_type": "stream",
     "text": [
      "100%|██████████| 201/201 [00:08<00:00, 23.06it/s]\n"
     ]
    },
    {
     "name": "stdout",
     "output_type": "stream",
     "text": [
      "Saving results in D:\\YuLab\\Work\\GPS\\Video\\Naveed\\GPS_20_ThreeFPHoldSRTProbe\\20240804\\Top\\Clips...\n",
      "Saving csv poses!\n",
      "Starting to analyze %  D:/YuLab/Work/GPS/Video/Naveed/GPS_20_ThreeFPHoldSRTProbe/20240804/Top/Clips/Naveed_20240804_HoldTrial037_TopView.avi\n",
      "Loading  D:/YuLab/Work/GPS/Video/Naveed/GPS_20_ThreeFPHoldSRTProbe/20240804/Top/Clips/Naveed_20240804_HoldTrial037_TopView.avi\n",
      "Duration of video [s]:  8.04 , recorded with  25.0 fps!\n",
      "Overall # of frames:  201  found with (before cropping) frame dimensions:  1280 1331\n",
      "Starting to extract posture\n",
      "Cropping based on the x1 = 0 x2 = 1280 y1 = 0 y2 = 1024. You can adjust the cropping coordinates in the config.yaml file.\n"
     ]
    },
    {
     "name": "stderr",
     "output_type": "stream",
     "text": [
      "100%|██████████| 201/201 [00:08<00:00, 23.10it/s]\n"
     ]
    },
    {
     "name": "stdout",
     "output_type": "stream",
     "text": [
      "Saving results in D:\\YuLab\\Work\\GPS\\Video\\Naveed\\GPS_20_ThreeFPHoldSRTProbe\\20240804\\Top\\Clips...\n",
      "Saving csv poses!\n",
      "Starting to analyze %  D:/YuLab/Work/GPS/Video/Naveed/GPS_20_ThreeFPHoldSRTProbe/20240804/Top/Clips/Naveed_20240804_HoldTrial038_TopView.avi\n",
      "Loading  D:/YuLab/Work/GPS/Video/Naveed/GPS_20_ThreeFPHoldSRTProbe/20240804/Top/Clips/Naveed_20240804_HoldTrial038_TopView.avi\n",
      "Duration of video [s]:  8.04 , recorded with  25.0 fps!\n",
      "Overall # of frames:  201  found with (before cropping) frame dimensions:  1280 1331\n",
      "Starting to extract posture\n",
      "Cropping based on the x1 = 0 x2 = 1280 y1 = 0 y2 = 1024. You can adjust the cropping coordinates in the config.yaml file.\n"
     ]
    },
    {
     "name": "stderr",
     "output_type": "stream",
     "text": [
      "100%|██████████| 201/201 [00:08<00:00, 23.09it/s]\n"
     ]
    },
    {
     "name": "stdout",
     "output_type": "stream",
     "text": [
      "Saving results in D:\\YuLab\\Work\\GPS\\Video\\Naveed\\GPS_20_ThreeFPHoldSRTProbe\\20240804\\Top\\Clips...\n",
      "Saving csv poses!\n",
      "Starting to analyze %  D:/YuLab/Work/GPS/Video/Naveed/GPS_20_ThreeFPHoldSRTProbe/20240804/Top/Clips/Naveed_20240804_HoldTrial039_TopView.avi\n",
      "Loading  D:/YuLab/Work/GPS/Video/Naveed/GPS_20_ThreeFPHoldSRTProbe/20240804/Top/Clips/Naveed_20240804_HoldTrial039_TopView.avi\n",
      "Duration of video [s]:  8.04 , recorded with  25.0 fps!\n",
      "Overall # of frames:  201  found with (before cropping) frame dimensions:  1280 1331\n",
      "Starting to extract posture\n",
      "Cropping based on the x1 = 0 x2 = 1280 y1 = 0 y2 = 1024. You can adjust the cropping coordinates in the config.yaml file.\n"
     ]
    },
    {
     "name": "stderr",
     "output_type": "stream",
     "text": [
      "100%|██████████| 201/201 [00:08<00:00, 23.10it/s]\n"
     ]
    },
    {
     "name": "stdout",
     "output_type": "stream",
     "text": [
      "Saving results in D:\\YuLab\\Work\\GPS\\Video\\Naveed\\GPS_20_ThreeFPHoldSRTProbe\\20240804\\Top\\Clips...\n",
      "Saving csv poses!\n",
      "Starting to analyze %  D:/YuLab/Work/GPS/Video/Naveed/GPS_20_ThreeFPHoldSRTProbe/20240804/Top/Clips/Naveed_20240804_HoldTrial040_TopView.avi\n",
      "Loading  D:/YuLab/Work/GPS/Video/Naveed/GPS_20_ThreeFPHoldSRTProbe/20240804/Top/Clips/Naveed_20240804_HoldTrial040_TopView.avi\n",
      "Duration of video [s]:  8.04 , recorded with  25.0 fps!\n",
      "Overall # of frames:  201  found with (before cropping) frame dimensions:  1280 1331\n",
      "Starting to extract posture\n",
      "Cropping based on the x1 = 0 x2 = 1280 y1 = 0 y2 = 1024. You can adjust the cropping coordinates in the config.yaml file.\n"
     ]
    },
    {
     "name": "stderr",
     "output_type": "stream",
     "text": [
      "100%|██████████| 201/201 [00:08<00:00, 23.09it/s]\n"
     ]
    },
    {
     "name": "stdout",
     "output_type": "stream",
     "text": [
      "Saving results in D:\\YuLab\\Work\\GPS\\Video\\Naveed\\GPS_20_ThreeFPHoldSRTProbe\\20240804\\Top\\Clips...\n",
      "Saving csv poses!\n",
      "Starting to analyze %  D:/YuLab/Work/GPS/Video/Naveed/GPS_20_ThreeFPHoldSRTProbe/20240804/Top/Clips/Naveed_20240804_HoldTrial041_TopView.avi\n",
      "Loading  D:/YuLab/Work/GPS/Video/Naveed/GPS_20_ThreeFPHoldSRTProbe/20240804/Top/Clips/Naveed_20240804_HoldTrial041_TopView.avi\n",
      "Duration of video [s]:  8.04 , recorded with  25.0 fps!\n",
      "Overall # of frames:  201  found with (before cropping) frame dimensions:  1280 1331\n",
      "Starting to extract posture\n",
      "Cropping based on the x1 = 0 x2 = 1280 y1 = 0 y2 = 1024. You can adjust the cropping coordinates in the config.yaml file.\n"
     ]
    },
    {
     "name": "stderr",
     "output_type": "stream",
     "text": [
      "100%|██████████| 201/201 [00:08<00:00, 23.16it/s]\n"
     ]
    },
    {
     "name": "stdout",
     "output_type": "stream",
     "text": [
      "Saving results in D:\\YuLab\\Work\\GPS\\Video\\Naveed\\GPS_20_ThreeFPHoldSRTProbe\\20240804\\Top\\Clips...\n",
      "Saving csv poses!\n",
      "Starting to analyze %  D:/YuLab/Work/GPS/Video/Naveed/GPS_20_ThreeFPHoldSRTProbe/20240804/Top/Clips/Naveed_20240804_HoldTrial042_TopView.avi\n",
      "Loading  D:/YuLab/Work/GPS/Video/Naveed/GPS_20_ThreeFPHoldSRTProbe/20240804/Top/Clips/Naveed_20240804_HoldTrial042_TopView.avi\n",
      "Duration of video [s]:  8.04 , recorded with  25.0 fps!\n",
      "Overall # of frames:  201  found with (before cropping) frame dimensions:  1280 1331\n",
      "Starting to extract posture\n",
      "Cropping based on the x1 = 0 x2 = 1280 y1 = 0 y2 = 1024. You can adjust the cropping coordinates in the config.yaml file.\n"
     ]
    },
    {
     "name": "stderr",
     "output_type": "stream",
     "text": [
      "100%|██████████| 201/201 [00:08<00:00, 23.08it/s]\n"
     ]
    },
    {
     "name": "stdout",
     "output_type": "stream",
     "text": [
      "Saving results in D:\\YuLab\\Work\\GPS\\Video\\Naveed\\GPS_20_ThreeFPHoldSRTProbe\\20240804\\Top\\Clips...\n",
      "Saving csv poses!\n",
      "Starting to analyze %  D:/YuLab/Work/GPS/Video/Naveed/GPS_20_ThreeFPHoldSRTProbe/20240804/Top/Clips/Naveed_20240804_HoldTrial043_TopView.avi\n",
      "Loading  D:/YuLab/Work/GPS/Video/Naveed/GPS_20_ThreeFPHoldSRTProbe/20240804/Top/Clips/Naveed_20240804_HoldTrial043_TopView.avi\n",
      "Duration of video [s]:  8.0 , recorded with  25.0 fps!\n",
      "Overall # of frames:  200  found with (before cropping) frame dimensions:  1280 1331\n",
      "Starting to extract posture\n",
      "Cropping based on the x1 = 0 x2 = 1280 y1 = 0 y2 = 1024. You can adjust the cropping coordinates in the config.yaml file.\n"
     ]
    },
    {
     "name": "stderr",
     "output_type": "stream",
     "text": [
      "100%|██████████| 200/200 [00:08<00:00, 23.74it/s]\n"
     ]
    },
    {
     "name": "stdout",
     "output_type": "stream",
     "text": [
      "Saving results in D:\\YuLab\\Work\\GPS\\Video\\Naveed\\GPS_20_ThreeFPHoldSRTProbe\\20240804\\Top\\Clips...\n",
      "Saving csv poses!\n",
      "Starting to analyze %  D:/YuLab/Work/GPS/Video/Naveed/GPS_20_ThreeFPHoldSRTProbe/20240804/Top/Clips/Naveed_20240804_HoldTrial044_TopView.avi\n",
      "Loading  D:/YuLab/Work/GPS/Video/Naveed/GPS_20_ThreeFPHoldSRTProbe/20240804/Top/Clips/Naveed_20240804_HoldTrial044_TopView.avi\n",
      "Duration of video [s]:  8.04 , recorded with  25.0 fps!\n",
      "Overall # of frames:  201  found with (before cropping) frame dimensions:  1280 1331\n",
      "Starting to extract posture\n",
      "Cropping based on the x1 = 0 x2 = 1280 y1 = 0 y2 = 1024. You can adjust the cropping coordinates in the config.yaml file.\n"
     ]
    },
    {
     "name": "stderr",
     "output_type": "stream",
     "text": [
      "100%|██████████| 201/201 [00:08<00:00, 23.09it/s]\n"
     ]
    },
    {
     "name": "stdout",
     "output_type": "stream",
     "text": [
      "Saving results in D:\\YuLab\\Work\\GPS\\Video\\Naveed\\GPS_20_ThreeFPHoldSRTProbe\\20240804\\Top\\Clips...\n",
      "Saving csv poses!\n",
      "Starting to analyze %  D:/YuLab/Work/GPS/Video/Naveed/GPS_20_ThreeFPHoldSRTProbe/20240804/Top/Clips/Naveed_20240804_HoldTrial045_TopView.avi\n",
      "Loading  D:/YuLab/Work/GPS/Video/Naveed/GPS_20_ThreeFPHoldSRTProbe/20240804/Top/Clips/Naveed_20240804_HoldTrial045_TopView.avi\n",
      "Duration of video [s]:  8.04 , recorded with  25.0 fps!\n",
      "Overall # of frames:  201  found with (before cropping) frame dimensions:  1280 1331\n",
      "Starting to extract posture\n",
      "Cropping based on the x1 = 0 x2 = 1280 y1 = 0 y2 = 1024. You can adjust the cropping coordinates in the config.yaml file.\n"
     ]
    },
    {
     "name": "stderr",
     "output_type": "stream",
     "text": [
      "100%|██████████| 201/201 [00:08<00:00, 23.03it/s]\n"
     ]
    },
    {
     "name": "stdout",
     "output_type": "stream",
     "text": [
      "Saving results in D:\\YuLab\\Work\\GPS\\Video\\Naveed\\GPS_20_ThreeFPHoldSRTProbe\\20240804\\Top\\Clips...\n",
      "Saving csv poses!\n",
      "Starting to analyze %  D:/YuLab/Work/GPS/Video/Naveed/GPS_20_ThreeFPHoldSRTProbe/20240804/Top/Clips/Naveed_20240804_HoldTrial046_TopView.avi\n",
      "Loading  D:/YuLab/Work/GPS/Video/Naveed/GPS_20_ThreeFPHoldSRTProbe/20240804/Top/Clips/Naveed_20240804_HoldTrial046_TopView.avi\n",
      "Duration of video [s]:  8.04 , recorded with  25.0 fps!\n",
      "Overall # of frames:  201  found with (before cropping) frame dimensions:  1280 1331\n",
      "Starting to extract posture\n",
      "Cropping based on the x1 = 0 x2 = 1280 y1 = 0 y2 = 1024. You can adjust the cropping coordinates in the config.yaml file.\n"
     ]
    },
    {
     "name": "stderr",
     "output_type": "stream",
     "text": [
      "100%|██████████| 201/201 [00:08<00:00, 23.07it/s]\n"
     ]
    },
    {
     "name": "stdout",
     "output_type": "stream",
     "text": [
      "Saving results in D:\\YuLab\\Work\\GPS\\Video\\Naveed\\GPS_20_ThreeFPHoldSRTProbe\\20240804\\Top\\Clips...\n",
      "Saving csv poses!\n",
      "Starting to analyze %  D:/YuLab/Work/GPS/Video/Naveed/GPS_20_ThreeFPHoldSRTProbe/20240804/Top/Clips/Naveed_20240804_HoldTrial047_TopView.avi\n",
      "Loading  D:/YuLab/Work/GPS/Video/Naveed/GPS_20_ThreeFPHoldSRTProbe/20240804/Top/Clips/Naveed_20240804_HoldTrial047_TopView.avi\n",
      "Duration of video [s]:  8.04 , recorded with  25.0 fps!\n",
      "Overall # of frames:  201  found with (before cropping) frame dimensions:  1280 1331\n",
      "Starting to extract posture\n",
      "Cropping based on the x1 = 0 x2 = 1280 y1 = 0 y2 = 1024. You can adjust the cropping coordinates in the config.yaml file.\n"
     ]
    },
    {
     "name": "stderr",
     "output_type": "stream",
     "text": [
      "100%|██████████| 201/201 [00:08<00:00, 23.07it/s]\n"
     ]
    },
    {
     "name": "stdout",
     "output_type": "stream",
     "text": [
      "Saving results in D:\\YuLab\\Work\\GPS\\Video\\Naveed\\GPS_20_ThreeFPHoldSRTProbe\\20240804\\Top\\Clips...\n",
      "Saving csv poses!\n",
      "Starting to analyze %  D:/YuLab/Work/GPS/Video/Naveed/GPS_20_ThreeFPHoldSRTProbe/20240804/Top/Clips/Naveed_20240804_HoldTrial048_TopView.avi\n",
      "Loading  D:/YuLab/Work/GPS/Video/Naveed/GPS_20_ThreeFPHoldSRTProbe/20240804/Top/Clips/Naveed_20240804_HoldTrial048_TopView.avi\n",
      "Duration of video [s]:  8.0 , recorded with  25.0 fps!\n",
      "Overall # of frames:  200  found with (before cropping) frame dimensions:  1280 1331\n",
      "Starting to extract posture\n",
      "Cropping based on the x1 = 0 x2 = 1280 y1 = 0 y2 = 1024. You can adjust the cropping coordinates in the config.yaml file.\n"
     ]
    },
    {
     "name": "stderr",
     "output_type": "stream",
     "text": [
      "100%|██████████| 200/200 [00:08<00:00, 23.69it/s]\n"
     ]
    },
    {
     "name": "stdout",
     "output_type": "stream",
     "text": [
      "Saving results in D:\\YuLab\\Work\\GPS\\Video\\Naveed\\GPS_20_ThreeFPHoldSRTProbe\\20240804\\Top\\Clips...\n",
      "Saving csv poses!\n",
      "Starting to analyze %  D:/YuLab/Work/GPS/Video/Naveed/GPS_20_ThreeFPHoldSRTProbe/20240804/Top/Clips/Naveed_20240804_HoldTrial049_TopView.avi\n",
      "Loading  D:/YuLab/Work/GPS/Video/Naveed/GPS_20_ThreeFPHoldSRTProbe/20240804/Top/Clips/Naveed_20240804_HoldTrial049_TopView.avi\n",
      "Duration of video [s]:  8.04 , recorded with  25.0 fps!\n",
      "Overall # of frames:  201  found with (before cropping) frame dimensions:  1280 1331\n",
      "Starting to extract posture\n",
      "Cropping based on the x1 = 0 x2 = 1280 y1 = 0 y2 = 1024. You can adjust the cropping coordinates in the config.yaml file.\n"
     ]
    },
    {
     "name": "stderr",
     "output_type": "stream",
     "text": [
      "100%|██████████| 201/201 [00:08<00:00, 23.10it/s]\n"
     ]
    },
    {
     "name": "stdout",
     "output_type": "stream",
     "text": [
      "Saving results in D:\\YuLab\\Work\\GPS\\Video\\Naveed\\GPS_20_ThreeFPHoldSRTProbe\\20240804\\Top\\Clips...\n",
      "Saving csv poses!\n",
      "Starting to analyze %  D:/YuLab/Work/GPS/Video/Naveed/GPS_20_ThreeFPHoldSRTProbe/20240804/Top/Clips/Naveed_20240804_HoldTrial050_TopView.avi\n",
      "Loading  D:/YuLab/Work/GPS/Video/Naveed/GPS_20_ThreeFPHoldSRTProbe/20240804/Top/Clips/Naveed_20240804_HoldTrial050_TopView.avi\n",
      "Duration of video [s]:  8.04 , recorded with  25.0 fps!\n",
      "Overall # of frames:  201  found with (before cropping) frame dimensions:  1280 1331\n",
      "Starting to extract posture\n",
      "Cropping based on the x1 = 0 x2 = 1280 y1 = 0 y2 = 1024. You can adjust the cropping coordinates in the config.yaml file.\n"
     ]
    },
    {
     "name": "stderr",
     "output_type": "stream",
     "text": [
      "100%|██████████| 201/201 [00:08<00:00, 23.06it/s]\n"
     ]
    },
    {
     "name": "stdout",
     "output_type": "stream",
     "text": [
      "Saving results in D:\\YuLab\\Work\\GPS\\Video\\Naveed\\GPS_20_ThreeFPHoldSRTProbe\\20240804\\Top\\Clips...\n",
      "Saving csv poses!\n",
      "Starting to analyze %  D:/YuLab/Work/GPS/Video/Naveed/GPS_20_ThreeFPHoldSRTProbe/20240804/Top/Clips/Naveed_20240804_HoldTrial051_TopView.avi\n",
      "Loading  D:/YuLab/Work/GPS/Video/Naveed/GPS_20_ThreeFPHoldSRTProbe/20240804/Top/Clips/Naveed_20240804_HoldTrial051_TopView.avi\n",
      "Duration of video [s]:  8.0 , recorded with  25.0 fps!\n",
      "Overall # of frames:  200  found with (before cropping) frame dimensions:  1280 1331\n",
      "Starting to extract posture\n",
      "Cropping based on the x1 = 0 x2 = 1280 y1 = 0 y2 = 1024. You can adjust the cropping coordinates in the config.yaml file.\n"
     ]
    },
    {
     "name": "stderr",
     "output_type": "stream",
     "text": [
      "100%|██████████| 200/200 [00:08<00:00, 23.70it/s]\n"
     ]
    },
    {
     "name": "stdout",
     "output_type": "stream",
     "text": [
      "Saving results in D:\\YuLab\\Work\\GPS\\Video\\Naveed\\GPS_20_ThreeFPHoldSRTProbe\\20240804\\Top\\Clips...\n",
      "Saving csv poses!\n",
      "Starting to analyze %  D:/YuLab/Work/GPS/Video/Naveed/GPS_20_ThreeFPHoldSRTProbe/20240804/Top/Clips/Naveed_20240804_HoldTrial052_TopView.avi\n",
      "Loading  D:/YuLab/Work/GPS/Video/Naveed/GPS_20_ThreeFPHoldSRTProbe/20240804/Top/Clips/Naveed_20240804_HoldTrial052_TopView.avi\n",
      "Duration of video [s]:  8.04 , recorded with  25.0 fps!\n",
      "Overall # of frames:  201  found with (before cropping) frame dimensions:  1280 1331\n",
      "Starting to extract posture\n",
      "Cropping based on the x1 = 0 x2 = 1280 y1 = 0 y2 = 1024. You can adjust the cropping coordinates in the config.yaml file.\n"
     ]
    },
    {
     "name": "stderr",
     "output_type": "stream",
     "text": [
      "100%|██████████| 201/201 [00:08<00:00, 23.04it/s]\n"
     ]
    },
    {
     "name": "stdout",
     "output_type": "stream",
     "text": [
      "Saving results in D:\\YuLab\\Work\\GPS\\Video\\Naveed\\GPS_20_ThreeFPHoldSRTProbe\\20240804\\Top\\Clips...\n",
      "Saving csv poses!\n",
      "Starting to analyze %  D:/YuLab/Work/GPS/Video/Naveed/GPS_20_ThreeFPHoldSRTProbe/20240804/Top/Clips/Naveed_20240804_HoldTrial053_TopView.avi\n",
      "Loading  D:/YuLab/Work/GPS/Video/Naveed/GPS_20_ThreeFPHoldSRTProbe/20240804/Top/Clips/Naveed_20240804_HoldTrial053_TopView.avi\n",
      "Duration of video [s]:  8.04 , recorded with  25.0 fps!\n",
      "Overall # of frames:  201  found with (before cropping) frame dimensions:  1280 1331\n",
      "Starting to extract posture\n",
      "Cropping based on the x1 = 0 x2 = 1280 y1 = 0 y2 = 1024. You can adjust the cropping coordinates in the config.yaml file.\n"
     ]
    },
    {
     "name": "stderr",
     "output_type": "stream",
     "text": [
      "100%|██████████| 201/201 [00:08<00:00, 23.03it/s]\n"
     ]
    },
    {
     "name": "stdout",
     "output_type": "stream",
     "text": [
      "Saving results in D:\\YuLab\\Work\\GPS\\Video\\Naveed\\GPS_20_ThreeFPHoldSRTProbe\\20240804\\Top\\Clips...\n",
      "Saving csv poses!\n",
      "Starting to analyze %  D:/YuLab/Work/GPS/Video/Naveed/GPS_20_ThreeFPHoldSRTProbe/20240804/Top/Clips/Naveed_20240804_HoldTrial054_TopView.avi\n",
      "Loading  D:/YuLab/Work/GPS/Video/Naveed/GPS_20_ThreeFPHoldSRTProbe/20240804/Top/Clips/Naveed_20240804_HoldTrial054_TopView.avi\n",
      "Duration of video [s]:  8.04 , recorded with  25.0 fps!\n",
      "Overall # of frames:  201  found with (before cropping) frame dimensions:  1280 1331\n",
      "Starting to extract posture\n",
      "Cropping based on the x1 = 0 x2 = 1280 y1 = 0 y2 = 1024. You can adjust the cropping coordinates in the config.yaml file.\n"
     ]
    },
    {
     "name": "stderr",
     "output_type": "stream",
     "text": [
      "100%|██████████| 201/201 [00:08<00:00, 23.06it/s]\n"
     ]
    },
    {
     "name": "stdout",
     "output_type": "stream",
     "text": [
      "Saving results in D:\\YuLab\\Work\\GPS\\Video\\Naveed\\GPS_20_ThreeFPHoldSRTProbe\\20240804\\Top\\Clips...\n",
      "Saving csv poses!\n",
      "Starting to analyze %  D:/YuLab/Work/GPS/Video/Naveed/GPS_20_ThreeFPHoldSRTProbe/20240804/Top/Clips/Naveed_20240804_HoldTrial055_TopView.avi\n",
      "Loading  D:/YuLab/Work/GPS/Video/Naveed/GPS_20_ThreeFPHoldSRTProbe/20240804/Top/Clips/Naveed_20240804_HoldTrial055_TopView.avi\n",
      "Duration of video [s]:  8.04 , recorded with  25.0 fps!\n",
      "Overall # of frames:  201  found with (before cropping) frame dimensions:  1280 1331\n",
      "Starting to extract posture\n",
      "Cropping based on the x1 = 0 x2 = 1280 y1 = 0 y2 = 1024. You can adjust the cropping coordinates in the config.yaml file.\n"
     ]
    },
    {
     "name": "stderr",
     "output_type": "stream",
     "text": [
      "100%|██████████| 201/201 [00:08<00:00, 23.10it/s]\n"
     ]
    },
    {
     "name": "stdout",
     "output_type": "stream",
     "text": [
      "Saving results in D:\\YuLab\\Work\\GPS\\Video\\Naveed\\GPS_20_ThreeFPHoldSRTProbe\\20240804\\Top\\Clips...\n",
      "Saving csv poses!\n",
      "Starting to analyze %  D:/YuLab/Work/GPS/Video/Naveed/GPS_20_ThreeFPHoldSRTProbe/20240804/Top/Clips/Naveed_20240804_HoldTrial056_TopView.avi\n",
      "Loading  D:/YuLab/Work/GPS/Video/Naveed/GPS_20_ThreeFPHoldSRTProbe/20240804/Top/Clips/Naveed_20240804_HoldTrial056_TopView.avi\n",
      "Duration of video [s]:  8.04 , recorded with  25.0 fps!\n",
      "Overall # of frames:  201  found with (before cropping) frame dimensions:  1280 1331\n",
      "Starting to extract posture\n",
      "Cropping based on the x1 = 0 x2 = 1280 y1 = 0 y2 = 1024. You can adjust the cropping coordinates in the config.yaml file.\n"
     ]
    },
    {
     "name": "stderr",
     "output_type": "stream",
     "text": [
      "100%|██████████| 201/201 [00:08<00:00, 23.09it/s]\n"
     ]
    },
    {
     "name": "stdout",
     "output_type": "stream",
     "text": [
      "Saving results in D:\\YuLab\\Work\\GPS\\Video\\Naveed\\GPS_20_ThreeFPHoldSRTProbe\\20240804\\Top\\Clips...\n",
      "Saving csv poses!\n",
      "Starting to analyze %  D:/YuLab/Work/GPS/Video/Naveed/GPS_20_ThreeFPHoldSRTProbe/20240804/Top/Clips/Naveed_20240804_HoldTrial057_TopView.avi\n",
      "Loading  D:/YuLab/Work/GPS/Video/Naveed/GPS_20_ThreeFPHoldSRTProbe/20240804/Top/Clips/Naveed_20240804_HoldTrial057_TopView.avi\n",
      "Duration of video [s]:  8.04 , recorded with  25.0 fps!\n",
      "Overall # of frames:  201  found with (before cropping) frame dimensions:  1280 1331\n",
      "Starting to extract posture\n",
      "Cropping based on the x1 = 0 x2 = 1280 y1 = 0 y2 = 1024. You can adjust the cropping coordinates in the config.yaml file.\n"
     ]
    },
    {
     "name": "stderr",
     "output_type": "stream",
     "text": [
      "100%|██████████| 201/201 [00:08<00:00, 23.11it/s]\n"
     ]
    },
    {
     "name": "stdout",
     "output_type": "stream",
     "text": [
      "Saving results in D:\\YuLab\\Work\\GPS\\Video\\Naveed\\GPS_20_ThreeFPHoldSRTProbe\\20240804\\Top\\Clips...\n",
      "Saving csv poses!\n",
      "Starting to analyze %  D:/YuLab/Work/GPS/Video/Naveed/GPS_20_ThreeFPHoldSRTProbe/20240804/Top/Clips/Naveed_20240804_HoldTrial058_TopView.avi\n",
      "Loading  D:/YuLab/Work/GPS/Video/Naveed/GPS_20_ThreeFPHoldSRTProbe/20240804/Top/Clips/Naveed_20240804_HoldTrial058_TopView.avi\n",
      "Duration of video [s]:  8.04 , recorded with  25.0 fps!\n",
      "Overall # of frames:  201  found with (before cropping) frame dimensions:  1280 1331\n",
      "Starting to extract posture\n",
      "Cropping based on the x1 = 0 x2 = 1280 y1 = 0 y2 = 1024. You can adjust the cropping coordinates in the config.yaml file.\n"
     ]
    },
    {
     "name": "stderr",
     "output_type": "stream",
     "text": [
      "100%|██████████| 201/201 [00:08<00:00, 23.06it/s]\n"
     ]
    },
    {
     "name": "stdout",
     "output_type": "stream",
     "text": [
      "Saving results in D:\\YuLab\\Work\\GPS\\Video\\Naveed\\GPS_20_ThreeFPHoldSRTProbe\\20240804\\Top\\Clips...\n",
      "Saving csv poses!\n",
      "Starting to analyze %  D:/YuLab/Work/GPS/Video/Naveed/GPS_20_ThreeFPHoldSRTProbe/20240804/Top/Clips/Naveed_20240804_HoldTrial059_TopView.avi\n",
      "Loading  D:/YuLab/Work/GPS/Video/Naveed/GPS_20_ThreeFPHoldSRTProbe/20240804/Top/Clips/Naveed_20240804_HoldTrial059_TopView.avi\n",
      "Duration of video [s]:  8.04 , recorded with  25.0 fps!\n",
      "Overall # of frames:  201  found with (before cropping) frame dimensions:  1280 1331\n",
      "Starting to extract posture\n",
      "Cropping based on the x1 = 0 x2 = 1280 y1 = 0 y2 = 1024. You can adjust the cropping coordinates in the config.yaml file.\n"
     ]
    },
    {
     "name": "stderr",
     "output_type": "stream",
     "text": [
      "100%|██████████| 201/201 [00:08<00:00, 23.07it/s]\n"
     ]
    },
    {
     "name": "stdout",
     "output_type": "stream",
     "text": [
      "Saving results in D:\\YuLab\\Work\\GPS\\Video\\Naveed\\GPS_20_ThreeFPHoldSRTProbe\\20240804\\Top\\Clips...\n",
      "Saving csv poses!\n",
      "Starting to analyze %  D:/YuLab/Work/GPS/Video/Naveed/GPS_20_ThreeFPHoldSRTProbe/20240804/Top/Clips/Naveed_20240804_HoldTrial060_TopView.avi\n",
      "Loading  D:/YuLab/Work/GPS/Video/Naveed/GPS_20_ThreeFPHoldSRTProbe/20240804/Top/Clips/Naveed_20240804_HoldTrial060_TopView.avi\n",
      "Duration of video [s]:  8.0 , recorded with  25.0 fps!\n",
      "Overall # of frames:  200  found with (before cropping) frame dimensions:  1280 1331\n",
      "Starting to extract posture\n",
      "Cropping based on the x1 = 0 x2 = 1280 y1 = 0 y2 = 1024. You can adjust the cropping coordinates in the config.yaml file.\n"
     ]
    },
    {
     "name": "stderr",
     "output_type": "stream",
     "text": [
      "100%|██████████| 200/200 [00:08<00:00, 23.72it/s]\n"
     ]
    },
    {
     "name": "stdout",
     "output_type": "stream",
     "text": [
      "Saving results in D:\\YuLab\\Work\\GPS\\Video\\Naveed\\GPS_20_ThreeFPHoldSRTProbe\\20240804\\Top\\Clips...\n",
      "Saving csv poses!\n",
      "Starting to analyze %  D:/YuLab/Work/GPS/Video/Naveed/GPS_20_ThreeFPHoldSRTProbe/20240804/Top/Clips/Naveed_20240804_HoldTrial061_TopView.avi\n",
      "Loading  D:/YuLab/Work/GPS/Video/Naveed/GPS_20_ThreeFPHoldSRTProbe/20240804/Top/Clips/Naveed_20240804_HoldTrial061_TopView.avi\n",
      "Duration of video [s]:  8.04 , recorded with  25.0 fps!\n",
      "Overall # of frames:  201  found with (before cropping) frame dimensions:  1280 1331\n",
      "Starting to extract posture\n",
      "Cropping based on the x1 = 0 x2 = 1280 y1 = 0 y2 = 1024. You can adjust the cropping coordinates in the config.yaml file.\n"
     ]
    },
    {
     "name": "stderr",
     "output_type": "stream",
     "text": [
      "100%|██████████| 201/201 [00:08<00:00, 23.05it/s]\n"
     ]
    },
    {
     "name": "stdout",
     "output_type": "stream",
     "text": [
      "Saving results in D:\\YuLab\\Work\\GPS\\Video\\Naveed\\GPS_20_ThreeFPHoldSRTProbe\\20240804\\Top\\Clips...\n",
      "Saving csv poses!\n",
      "Starting to analyze %  D:/YuLab/Work/GPS/Video/Naveed/GPS_20_ThreeFPHoldSRTProbe/20240804/Top/Clips/Naveed_20240804_HoldTrial062_TopView.avi\n",
      "Loading  D:/YuLab/Work/GPS/Video/Naveed/GPS_20_ThreeFPHoldSRTProbe/20240804/Top/Clips/Naveed_20240804_HoldTrial062_TopView.avi\n",
      "Duration of video [s]:  8.0 , recorded with  25.0 fps!\n",
      "Overall # of frames:  200  found with (before cropping) frame dimensions:  1280 1331\n",
      "Starting to extract posture\n",
      "Cropping based on the x1 = 0 x2 = 1280 y1 = 0 y2 = 1024. You can adjust the cropping coordinates in the config.yaml file.\n"
     ]
    },
    {
     "name": "stderr",
     "output_type": "stream",
     "text": [
      "100%|██████████| 200/200 [00:08<00:00, 23.70it/s]\n"
     ]
    },
    {
     "name": "stdout",
     "output_type": "stream",
     "text": [
      "Saving results in D:\\YuLab\\Work\\GPS\\Video\\Naveed\\GPS_20_ThreeFPHoldSRTProbe\\20240804\\Top\\Clips...\n",
      "Saving csv poses!\n",
      "Starting to analyze %  D:/YuLab/Work/GPS/Video/Naveed/GPS_20_ThreeFPHoldSRTProbe/20240804/Top/Clips/Naveed_20240804_HoldTrial063_TopView.avi\n",
      "Loading  D:/YuLab/Work/GPS/Video/Naveed/GPS_20_ThreeFPHoldSRTProbe/20240804/Top/Clips/Naveed_20240804_HoldTrial063_TopView.avi\n",
      "Duration of video [s]:  8.0 , recorded with  25.0 fps!\n",
      "Overall # of frames:  200  found with (before cropping) frame dimensions:  1280 1331\n",
      "Starting to extract posture\n",
      "Cropping based on the x1 = 0 x2 = 1280 y1 = 0 y2 = 1024. You can adjust the cropping coordinates in the config.yaml file.\n"
     ]
    },
    {
     "name": "stderr",
     "output_type": "stream",
     "text": [
      "100%|██████████| 200/200 [00:08<00:00, 23.73it/s]\n"
     ]
    },
    {
     "name": "stdout",
     "output_type": "stream",
     "text": [
      "Saving results in D:\\YuLab\\Work\\GPS\\Video\\Naveed\\GPS_20_ThreeFPHoldSRTProbe\\20240804\\Top\\Clips...\n",
      "Saving csv poses!\n",
      "Starting to analyze %  D:/YuLab/Work/GPS/Video/Naveed/GPS_20_ThreeFPHoldSRTProbe/20240804/Top/Clips/Naveed_20240804_HoldTrial064_TopView.avi\n",
      "Loading  D:/YuLab/Work/GPS/Video/Naveed/GPS_20_ThreeFPHoldSRTProbe/20240804/Top/Clips/Naveed_20240804_HoldTrial064_TopView.avi\n",
      "Duration of video [s]:  8.04 , recorded with  25.0 fps!\n",
      "Overall # of frames:  201  found with (before cropping) frame dimensions:  1280 1331\n",
      "Starting to extract posture\n",
      "Cropping based on the x1 = 0 x2 = 1280 y1 = 0 y2 = 1024. You can adjust the cropping coordinates in the config.yaml file.\n"
     ]
    },
    {
     "name": "stderr",
     "output_type": "stream",
     "text": [
      "100%|██████████| 201/201 [00:08<00:00, 23.09it/s]\n"
     ]
    },
    {
     "name": "stdout",
     "output_type": "stream",
     "text": [
      "Saving results in D:\\YuLab\\Work\\GPS\\Video\\Naveed\\GPS_20_ThreeFPHoldSRTProbe\\20240804\\Top\\Clips...\n",
      "Saving csv poses!\n",
      "Starting to analyze %  D:/YuLab/Work/GPS/Video/Naveed/GPS_20_ThreeFPHoldSRTProbe/20240804/Top/Clips/Naveed_20240804_HoldTrial065_TopView.avi\n",
      "Loading  D:/YuLab/Work/GPS/Video/Naveed/GPS_20_ThreeFPHoldSRTProbe/20240804/Top/Clips/Naveed_20240804_HoldTrial065_TopView.avi\n",
      "Duration of video [s]:  8.04 , recorded with  25.0 fps!\n",
      "Overall # of frames:  201  found with (before cropping) frame dimensions:  1280 1331\n",
      "Starting to extract posture\n",
      "Cropping based on the x1 = 0 x2 = 1280 y1 = 0 y2 = 1024. You can adjust the cropping coordinates in the config.yaml file.\n"
     ]
    },
    {
     "name": "stderr",
     "output_type": "stream",
     "text": [
      "100%|██████████| 201/201 [00:08<00:00, 23.05it/s]\n"
     ]
    },
    {
     "name": "stdout",
     "output_type": "stream",
     "text": [
      "Saving results in D:\\YuLab\\Work\\GPS\\Video\\Naveed\\GPS_20_ThreeFPHoldSRTProbe\\20240804\\Top\\Clips...\n",
      "Saving csv poses!\n",
      "Starting to analyze %  D:/YuLab/Work/GPS/Video/Naveed/GPS_20_ThreeFPHoldSRTProbe/20240804/Top/Clips/Naveed_20240804_HoldTrial066_TopView.avi\n",
      "Loading  D:/YuLab/Work/GPS/Video/Naveed/GPS_20_ThreeFPHoldSRTProbe/20240804/Top/Clips/Naveed_20240804_HoldTrial066_TopView.avi\n",
      "Duration of video [s]:  8.0 , recorded with  25.0 fps!\n",
      "Overall # of frames:  200  found with (before cropping) frame dimensions:  1280 1331\n",
      "Starting to extract posture\n",
      "Cropping based on the x1 = 0 x2 = 1280 y1 = 0 y2 = 1024. You can adjust the cropping coordinates in the config.yaml file.\n"
     ]
    },
    {
     "name": "stderr",
     "output_type": "stream",
     "text": [
      "100%|██████████| 200/200 [00:08<00:00, 23.66it/s]\n"
     ]
    },
    {
     "name": "stdout",
     "output_type": "stream",
     "text": [
      "Saving results in D:\\YuLab\\Work\\GPS\\Video\\Naveed\\GPS_20_ThreeFPHoldSRTProbe\\20240804\\Top\\Clips...\n",
      "Saving csv poses!\n",
      "Starting to analyze %  D:/YuLab/Work/GPS/Video/Naveed/GPS_20_ThreeFPHoldSRTProbe/20240804/Top/Clips/Naveed_20240804_HoldTrial067_TopView.avi\n",
      "Loading  D:/YuLab/Work/GPS/Video/Naveed/GPS_20_ThreeFPHoldSRTProbe/20240804/Top/Clips/Naveed_20240804_HoldTrial067_TopView.avi\n",
      "Duration of video [s]:  8.0 , recorded with  25.0 fps!\n",
      "Overall # of frames:  200  found with (before cropping) frame dimensions:  1280 1331\n",
      "Starting to extract posture\n",
      "Cropping based on the x1 = 0 x2 = 1280 y1 = 0 y2 = 1024. You can adjust the cropping coordinates in the config.yaml file.\n"
     ]
    },
    {
     "name": "stderr",
     "output_type": "stream",
     "text": [
      "100%|██████████| 200/200 [00:08<00:00, 23.72it/s]\n"
     ]
    },
    {
     "name": "stdout",
     "output_type": "stream",
     "text": [
      "Saving results in D:\\YuLab\\Work\\GPS\\Video\\Naveed\\GPS_20_ThreeFPHoldSRTProbe\\20240804\\Top\\Clips...\n",
      "Saving csv poses!\n",
      "Starting to analyze %  D:/YuLab/Work/GPS/Video/Naveed/GPS_20_ThreeFPHoldSRTProbe/20240804/Top/Clips/Naveed_20240804_HoldTrial068_TopView.avi\n",
      "Loading  D:/YuLab/Work/GPS/Video/Naveed/GPS_20_ThreeFPHoldSRTProbe/20240804/Top/Clips/Naveed_20240804_HoldTrial068_TopView.avi\n",
      "Duration of video [s]:  8.0 , recorded with  25.0 fps!\n",
      "Overall # of frames:  200  found with (before cropping) frame dimensions:  1280 1331\n",
      "Starting to extract posture\n",
      "Cropping based on the x1 = 0 x2 = 1280 y1 = 0 y2 = 1024. You can adjust the cropping coordinates in the config.yaml file.\n"
     ]
    },
    {
     "name": "stderr",
     "output_type": "stream",
     "text": [
      "100%|██████████| 200/200 [00:08<00:00, 23.66it/s]\n"
     ]
    },
    {
     "name": "stdout",
     "output_type": "stream",
     "text": [
      "Saving results in D:\\YuLab\\Work\\GPS\\Video\\Naveed\\GPS_20_ThreeFPHoldSRTProbe\\20240804\\Top\\Clips...\n",
      "Saving csv poses!\n",
      "Starting to analyze %  D:/YuLab/Work/GPS/Video/Naveed/GPS_20_ThreeFPHoldSRTProbe/20240804/Top/Clips/Naveed_20240804_HoldTrial069_TopView.avi\n",
      "Loading  D:/YuLab/Work/GPS/Video/Naveed/GPS_20_ThreeFPHoldSRTProbe/20240804/Top/Clips/Naveed_20240804_HoldTrial069_TopView.avi\n",
      "Duration of video [s]:  8.04 , recorded with  25.0 fps!\n",
      "Overall # of frames:  201  found with (before cropping) frame dimensions:  1280 1331\n",
      "Starting to extract posture\n",
      "Cropping based on the x1 = 0 x2 = 1280 y1 = 0 y2 = 1024. You can adjust the cropping coordinates in the config.yaml file.\n"
     ]
    },
    {
     "name": "stderr",
     "output_type": "stream",
     "text": [
      "100%|██████████| 201/201 [00:08<00:00, 23.03it/s]\n"
     ]
    },
    {
     "name": "stdout",
     "output_type": "stream",
     "text": [
      "Saving results in D:\\YuLab\\Work\\GPS\\Video\\Naveed\\GPS_20_ThreeFPHoldSRTProbe\\20240804\\Top\\Clips...\n",
      "Saving csv poses!\n",
      "Starting to analyze %  D:/YuLab/Work/GPS/Video/Naveed/GPS_20_ThreeFPHoldSRTProbe/20240804/Top/Clips/Naveed_20240804_HoldTrial070_TopView.avi\n",
      "Loading  D:/YuLab/Work/GPS/Video/Naveed/GPS_20_ThreeFPHoldSRTProbe/20240804/Top/Clips/Naveed_20240804_HoldTrial070_TopView.avi\n",
      "Duration of video [s]:  8.04 , recorded with  25.0 fps!\n",
      "Overall # of frames:  201  found with (before cropping) frame dimensions:  1280 1331\n",
      "Starting to extract posture\n",
      "Cropping based on the x1 = 0 x2 = 1280 y1 = 0 y2 = 1024. You can adjust the cropping coordinates in the config.yaml file.\n"
     ]
    },
    {
     "name": "stderr",
     "output_type": "stream",
     "text": [
      "100%|██████████| 201/201 [00:08<00:00, 23.03it/s]\n"
     ]
    },
    {
     "name": "stdout",
     "output_type": "stream",
     "text": [
      "Saving results in D:\\YuLab\\Work\\GPS\\Video\\Naveed\\GPS_20_ThreeFPHoldSRTProbe\\20240804\\Top\\Clips...\n",
      "Saving csv poses!\n",
      "Starting to analyze %  D:/YuLab/Work/GPS/Video/Naveed/GPS_20_ThreeFPHoldSRTProbe/20240804/Top/Clips/Naveed_20240804_HoldTrial071_TopView.avi\n",
      "Loading  D:/YuLab/Work/GPS/Video/Naveed/GPS_20_ThreeFPHoldSRTProbe/20240804/Top/Clips/Naveed_20240804_HoldTrial071_TopView.avi\n",
      "Duration of video [s]:  8.04 , recorded with  25.0 fps!\n",
      "Overall # of frames:  201  found with (before cropping) frame dimensions:  1280 1331\n",
      "Starting to extract posture\n",
      "Cropping based on the x1 = 0 x2 = 1280 y1 = 0 y2 = 1024. You can adjust the cropping coordinates in the config.yaml file.\n"
     ]
    },
    {
     "name": "stderr",
     "output_type": "stream",
     "text": [
      "100%|██████████| 201/201 [00:08<00:00, 23.02it/s]\n"
     ]
    },
    {
     "name": "stdout",
     "output_type": "stream",
     "text": [
      "Saving results in D:\\YuLab\\Work\\GPS\\Video\\Naveed\\GPS_20_ThreeFPHoldSRTProbe\\20240804\\Top\\Clips...\n",
      "Saving csv poses!\n",
      "Starting to analyze %  D:/YuLab/Work/GPS/Video/Naveed/GPS_20_ThreeFPHoldSRTProbe/20240804/Top/Clips/Naveed_20240804_HoldTrial072_TopView.avi\n",
      "Loading  D:/YuLab/Work/GPS/Video/Naveed/GPS_20_ThreeFPHoldSRTProbe/20240804/Top/Clips/Naveed_20240804_HoldTrial072_TopView.avi\n",
      "Duration of video [s]:  8.04 , recorded with  25.0 fps!\n",
      "Overall # of frames:  201  found with (before cropping) frame dimensions:  1280 1331\n",
      "Starting to extract posture\n",
      "Cropping based on the x1 = 0 x2 = 1280 y1 = 0 y2 = 1024. You can adjust the cropping coordinates in the config.yaml file.\n"
     ]
    },
    {
     "name": "stderr",
     "output_type": "stream",
     "text": [
      "100%|██████████| 201/201 [00:08<00:00, 23.07it/s]\n"
     ]
    },
    {
     "name": "stdout",
     "output_type": "stream",
     "text": [
      "Saving results in D:\\YuLab\\Work\\GPS\\Video\\Naveed\\GPS_20_ThreeFPHoldSRTProbe\\20240804\\Top\\Clips...\n",
      "Saving csv poses!\n",
      "Starting to analyze %  D:/YuLab/Work/GPS/Video/Naveed/GPS_20_ThreeFPHoldSRTProbe/20240804/Top/Clips/Naveed_20240804_HoldTrial073_TopView.avi\n",
      "Loading  D:/YuLab/Work/GPS/Video/Naveed/GPS_20_ThreeFPHoldSRTProbe/20240804/Top/Clips/Naveed_20240804_HoldTrial073_TopView.avi\n",
      "Duration of video [s]:  8.04 , recorded with  25.0 fps!\n",
      "Overall # of frames:  201  found with (before cropping) frame dimensions:  1280 1331\n",
      "Starting to extract posture\n",
      "Cropping based on the x1 = 0 x2 = 1280 y1 = 0 y2 = 1024. You can adjust the cropping coordinates in the config.yaml file.\n"
     ]
    },
    {
     "name": "stderr",
     "output_type": "stream",
     "text": [
      "100%|██████████| 201/201 [00:08<00:00, 23.03it/s]\n"
     ]
    },
    {
     "name": "stdout",
     "output_type": "stream",
     "text": [
      "Saving results in D:\\YuLab\\Work\\GPS\\Video\\Naveed\\GPS_20_ThreeFPHoldSRTProbe\\20240804\\Top\\Clips...\n",
      "Saving csv poses!\n",
      "Starting to analyze %  D:/YuLab/Work/GPS/Video/Naveed/GPS_20_ThreeFPHoldSRTProbe/20240804/Top/Clips/Naveed_20240804_HoldTrial074_TopView.avi\n",
      "Loading  D:/YuLab/Work/GPS/Video/Naveed/GPS_20_ThreeFPHoldSRTProbe/20240804/Top/Clips/Naveed_20240804_HoldTrial074_TopView.avi\n",
      "Duration of video [s]:  8.04 , recorded with  25.0 fps!\n",
      "Overall # of frames:  201  found with (before cropping) frame dimensions:  1280 1331\n",
      "Starting to extract posture\n",
      "Cropping based on the x1 = 0 x2 = 1280 y1 = 0 y2 = 1024. You can adjust the cropping coordinates in the config.yaml file.\n"
     ]
    },
    {
     "name": "stderr",
     "output_type": "stream",
     "text": [
      "100%|██████████| 201/201 [00:08<00:00, 23.01it/s]\n"
     ]
    },
    {
     "name": "stdout",
     "output_type": "stream",
     "text": [
      "Saving results in D:\\YuLab\\Work\\GPS\\Video\\Naveed\\GPS_20_ThreeFPHoldSRTProbe\\20240804\\Top\\Clips...\n",
      "Saving csv poses!\n",
      "Starting to analyze %  D:/YuLab/Work/GPS/Video/Naveed/GPS_20_ThreeFPHoldSRTProbe/20240804/Top/Clips/Naveed_20240804_HoldTrial075_TopView.avi\n",
      "Loading  D:/YuLab/Work/GPS/Video/Naveed/GPS_20_ThreeFPHoldSRTProbe/20240804/Top/Clips/Naveed_20240804_HoldTrial075_TopView.avi\n",
      "Duration of video [s]:  8.04 , recorded with  25.0 fps!\n",
      "Overall # of frames:  201  found with (before cropping) frame dimensions:  1280 1331\n",
      "Starting to extract posture\n",
      "Cropping based on the x1 = 0 x2 = 1280 y1 = 0 y2 = 1024. You can adjust the cropping coordinates in the config.yaml file.\n"
     ]
    },
    {
     "name": "stderr",
     "output_type": "stream",
     "text": [
      "100%|██████████| 201/201 [00:08<00:00, 23.08it/s]\n"
     ]
    },
    {
     "name": "stdout",
     "output_type": "stream",
     "text": [
      "Saving results in D:\\YuLab\\Work\\GPS\\Video\\Naveed\\GPS_20_ThreeFPHoldSRTProbe\\20240804\\Top\\Clips...\n",
      "Saving csv poses!\n",
      "Starting to analyze %  D:/YuLab/Work/GPS/Video/Naveed/GPS_20_ThreeFPHoldSRTProbe/20240804/Top/Clips/Naveed_20240804_HoldTrial076_TopView.avi\n",
      "Loading  D:/YuLab/Work/GPS/Video/Naveed/GPS_20_ThreeFPHoldSRTProbe/20240804/Top/Clips/Naveed_20240804_HoldTrial076_TopView.avi\n",
      "Duration of video [s]:  8.04 , recorded with  25.0 fps!\n",
      "Overall # of frames:  201  found with (before cropping) frame dimensions:  1280 1331\n",
      "Starting to extract posture\n",
      "Cropping based on the x1 = 0 x2 = 1280 y1 = 0 y2 = 1024. You can adjust the cropping coordinates in the config.yaml file.\n"
     ]
    },
    {
     "name": "stderr",
     "output_type": "stream",
     "text": [
      "100%|██████████| 201/201 [00:08<00:00, 23.03it/s]\n"
     ]
    },
    {
     "name": "stdout",
     "output_type": "stream",
     "text": [
      "Saving results in D:\\YuLab\\Work\\GPS\\Video\\Naveed\\GPS_20_ThreeFPHoldSRTProbe\\20240804\\Top\\Clips...\n",
      "Saving csv poses!\n",
      "Starting to analyze %  D:/YuLab/Work/GPS/Video/Naveed/GPS_20_ThreeFPHoldSRTProbe/20240804/Top/Clips/Naveed_20240804_HoldTrial077_TopView.avi\n",
      "Loading  D:/YuLab/Work/GPS/Video/Naveed/GPS_20_ThreeFPHoldSRTProbe/20240804/Top/Clips/Naveed_20240804_HoldTrial077_TopView.avi\n",
      "Duration of video [s]:  8.04 , recorded with  25.0 fps!\n",
      "Overall # of frames:  201  found with (before cropping) frame dimensions:  1280 1331\n",
      "Starting to extract posture\n",
      "Cropping based on the x1 = 0 x2 = 1280 y1 = 0 y2 = 1024. You can adjust the cropping coordinates in the config.yaml file.\n"
     ]
    },
    {
     "name": "stderr",
     "output_type": "stream",
     "text": [
      "100%|██████████| 201/201 [00:08<00:00, 23.07it/s]\n"
     ]
    },
    {
     "name": "stdout",
     "output_type": "stream",
     "text": [
      "Saving results in D:\\YuLab\\Work\\GPS\\Video\\Naveed\\GPS_20_ThreeFPHoldSRTProbe\\20240804\\Top\\Clips...\n",
      "Saving csv poses!\n",
      "Starting to analyze %  D:/YuLab/Work/GPS/Video/Naveed/GPS_20_ThreeFPHoldSRTProbe/20240804/Top/Clips/Naveed_20240804_HoldTrial078_TopView.avi\n",
      "Loading  D:/YuLab/Work/GPS/Video/Naveed/GPS_20_ThreeFPHoldSRTProbe/20240804/Top/Clips/Naveed_20240804_HoldTrial078_TopView.avi\n",
      "Duration of video [s]:  8.0 , recorded with  25.0 fps!\n",
      "Overall # of frames:  200  found with (before cropping) frame dimensions:  1280 1331\n",
      "Starting to extract posture\n",
      "Cropping based on the x1 = 0 x2 = 1280 y1 = 0 y2 = 1024. You can adjust the cropping coordinates in the config.yaml file.\n"
     ]
    },
    {
     "name": "stderr",
     "output_type": "stream",
     "text": [
      "100%|██████████| 200/200 [00:08<00:00, 23.68it/s]\n"
     ]
    },
    {
     "name": "stdout",
     "output_type": "stream",
     "text": [
      "Saving results in D:\\YuLab\\Work\\GPS\\Video\\Naveed\\GPS_20_ThreeFPHoldSRTProbe\\20240804\\Top\\Clips...\n",
      "Saving csv poses!\n",
      "Starting to analyze %  D:/YuLab/Work/GPS/Video/Naveed/GPS_20_ThreeFPHoldSRTProbe/20240804/Top/Clips/Naveed_20240804_HoldTrial079_TopView.avi\n",
      "Loading  D:/YuLab/Work/GPS/Video/Naveed/GPS_20_ThreeFPHoldSRTProbe/20240804/Top/Clips/Naveed_20240804_HoldTrial079_TopView.avi\n",
      "Duration of video [s]:  8.04 , recorded with  25.0 fps!\n",
      "Overall # of frames:  201  found with (before cropping) frame dimensions:  1280 1331\n",
      "Starting to extract posture\n",
      "Cropping based on the x1 = 0 x2 = 1280 y1 = 0 y2 = 1024. You can adjust the cropping coordinates in the config.yaml file.\n"
     ]
    },
    {
     "name": "stderr",
     "output_type": "stream",
     "text": [
      "100%|██████████| 201/201 [00:08<00:00, 23.03it/s]\n"
     ]
    },
    {
     "name": "stdout",
     "output_type": "stream",
     "text": [
      "Saving results in D:\\YuLab\\Work\\GPS\\Video\\Naveed\\GPS_20_ThreeFPHoldSRTProbe\\20240804\\Top\\Clips...\n",
      "Saving csv poses!\n",
      "Starting to analyze %  D:/YuLab/Work/GPS/Video/Naveed/GPS_20_ThreeFPHoldSRTProbe/20240804/Top/Clips/Naveed_20240804_HoldTrial080_TopView.avi\n",
      "Loading  D:/YuLab/Work/GPS/Video/Naveed/GPS_20_ThreeFPHoldSRTProbe/20240804/Top/Clips/Naveed_20240804_HoldTrial080_TopView.avi\n",
      "Duration of video [s]:  8.04 , recorded with  25.0 fps!\n",
      "Overall # of frames:  201  found with (before cropping) frame dimensions:  1280 1331\n",
      "Starting to extract posture\n",
      "Cropping based on the x1 = 0 x2 = 1280 y1 = 0 y2 = 1024. You can adjust the cropping coordinates in the config.yaml file.\n"
     ]
    },
    {
     "name": "stderr",
     "output_type": "stream",
     "text": [
      "100%|██████████| 201/201 [00:08<00:00, 23.05it/s]\n"
     ]
    },
    {
     "name": "stdout",
     "output_type": "stream",
     "text": [
      "Saving results in D:\\YuLab\\Work\\GPS\\Video\\Naveed\\GPS_20_ThreeFPHoldSRTProbe\\20240804\\Top\\Clips...\n",
      "Saving csv poses!\n",
      "Starting to analyze %  D:/YuLab/Work/GPS/Video/Naveed/GPS_20_ThreeFPHoldSRTProbe/20240804/Top/Clips/Naveed_20240804_HoldTrial081_TopView.avi\n",
      "Loading  D:/YuLab/Work/GPS/Video/Naveed/GPS_20_ThreeFPHoldSRTProbe/20240804/Top/Clips/Naveed_20240804_HoldTrial081_TopView.avi\n",
      "Duration of video [s]:  8.04 , recorded with  25.0 fps!\n",
      "Overall # of frames:  201  found with (before cropping) frame dimensions:  1280 1331\n",
      "Starting to extract posture\n",
      "Cropping based on the x1 = 0 x2 = 1280 y1 = 0 y2 = 1024. You can adjust the cropping coordinates in the config.yaml file.\n"
     ]
    },
    {
     "name": "stderr",
     "output_type": "stream",
     "text": [
      "100%|██████████| 201/201 [00:08<00:00, 23.03it/s]\n"
     ]
    },
    {
     "name": "stdout",
     "output_type": "stream",
     "text": [
      "Saving results in D:\\YuLab\\Work\\GPS\\Video\\Naveed\\GPS_20_ThreeFPHoldSRTProbe\\20240804\\Top\\Clips...\n",
      "Saving csv poses!\n",
      "Starting to analyze %  D:/YuLab/Work/GPS/Video/Naveed/GPS_20_ThreeFPHoldSRTProbe/20240804/Top/Clips/Naveed_20240804_HoldTrial082_TopView.avi\n",
      "Loading  D:/YuLab/Work/GPS/Video/Naveed/GPS_20_ThreeFPHoldSRTProbe/20240804/Top/Clips/Naveed_20240804_HoldTrial082_TopView.avi\n",
      "Duration of video [s]:  8.04 , recorded with  25.0 fps!\n",
      "Overall # of frames:  201  found with (before cropping) frame dimensions:  1280 1331\n",
      "Starting to extract posture\n",
      "Cropping based on the x1 = 0 x2 = 1280 y1 = 0 y2 = 1024. You can adjust the cropping coordinates in the config.yaml file.\n"
     ]
    },
    {
     "name": "stderr",
     "output_type": "stream",
     "text": [
      "100%|██████████| 201/201 [00:08<00:00, 23.05it/s]\n"
     ]
    },
    {
     "name": "stdout",
     "output_type": "stream",
     "text": [
      "Saving results in D:\\YuLab\\Work\\GPS\\Video\\Naveed\\GPS_20_ThreeFPHoldSRTProbe\\20240804\\Top\\Clips...\n",
      "Saving csv poses!\n",
      "Starting to analyze %  D:/YuLab/Work/GPS/Video/Naveed/GPS_20_ThreeFPHoldSRTProbe/20240804/Top/Clips/Naveed_20240804_HoldTrial083_TopView.avi\n",
      "Loading  D:/YuLab/Work/GPS/Video/Naveed/GPS_20_ThreeFPHoldSRTProbe/20240804/Top/Clips/Naveed_20240804_HoldTrial083_TopView.avi\n",
      "Duration of video [s]:  8.0 , recorded with  25.0 fps!\n",
      "Overall # of frames:  200  found with (before cropping) frame dimensions:  1280 1331\n",
      "Starting to extract posture\n",
      "Cropping based on the x1 = 0 x2 = 1280 y1 = 0 y2 = 1024. You can adjust the cropping coordinates in the config.yaml file.\n"
     ]
    },
    {
     "name": "stderr",
     "output_type": "stream",
     "text": [
      "100%|██████████| 200/200 [00:08<00:00, 23.76it/s]\n"
     ]
    },
    {
     "name": "stdout",
     "output_type": "stream",
     "text": [
      "Saving results in D:\\YuLab\\Work\\GPS\\Video\\Naveed\\GPS_20_ThreeFPHoldSRTProbe\\20240804\\Top\\Clips...\n",
      "Saving csv poses!\n",
      "Starting to analyze %  D:/YuLab/Work/GPS/Video/Naveed/GPS_20_ThreeFPHoldSRTProbe/20240804/Top/Clips/Naveed_20240804_HoldTrial084_TopView.avi\n",
      "Loading  D:/YuLab/Work/GPS/Video/Naveed/GPS_20_ThreeFPHoldSRTProbe/20240804/Top/Clips/Naveed_20240804_HoldTrial084_TopView.avi\n",
      "Duration of video [s]:  8.04 , recorded with  25.0 fps!\n",
      "Overall # of frames:  201  found with (before cropping) frame dimensions:  1280 1331\n",
      "Starting to extract posture\n",
      "Cropping based on the x1 = 0 x2 = 1280 y1 = 0 y2 = 1024. You can adjust the cropping coordinates in the config.yaml file.\n"
     ]
    },
    {
     "name": "stderr",
     "output_type": "stream",
     "text": [
      "100%|██████████| 201/201 [00:08<00:00, 23.09it/s]\n"
     ]
    },
    {
     "name": "stdout",
     "output_type": "stream",
     "text": [
      "Saving results in D:\\YuLab\\Work\\GPS\\Video\\Naveed\\GPS_20_ThreeFPHoldSRTProbe\\20240804\\Top\\Clips...\n",
      "Saving csv poses!\n",
      "Starting to analyze %  D:/YuLab/Work/GPS/Video/Naveed/GPS_20_ThreeFPHoldSRTProbe/20240804/Top/Clips/Naveed_20240804_HoldTrial085_TopView.avi\n",
      "Loading  D:/YuLab/Work/GPS/Video/Naveed/GPS_20_ThreeFPHoldSRTProbe/20240804/Top/Clips/Naveed_20240804_HoldTrial085_TopView.avi\n",
      "Duration of video [s]:  8.04 , recorded with  25.0 fps!\n",
      "Overall # of frames:  201  found with (before cropping) frame dimensions:  1280 1331\n",
      "Starting to extract posture\n",
      "Cropping based on the x1 = 0 x2 = 1280 y1 = 0 y2 = 1024. You can adjust the cropping coordinates in the config.yaml file.\n"
     ]
    },
    {
     "name": "stderr",
     "output_type": "stream",
     "text": [
      "100%|██████████| 201/201 [00:08<00:00, 23.03it/s]\n"
     ]
    },
    {
     "name": "stdout",
     "output_type": "stream",
     "text": [
      "Saving results in D:\\YuLab\\Work\\GPS\\Video\\Naveed\\GPS_20_ThreeFPHoldSRTProbe\\20240804\\Top\\Clips...\n",
      "Saving csv poses!\n",
      "Starting to analyze %  D:/YuLab/Work/GPS/Video/Naveed/GPS_20_ThreeFPHoldSRTProbe/20240804/Top/Clips/Naveed_20240804_HoldTrial086_TopView.avi\n",
      "Loading  D:/YuLab/Work/GPS/Video/Naveed/GPS_20_ThreeFPHoldSRTProbe/20240804/Top/Clips/Naveed_20240804_HoldTrial086_TopView.avi\n",
      "Duration of video [s]:  8.04 , recorded with  25.0 fps!\n",
      "Overall # of frames:  201  found with (before cropping) frame dimensions:  1280 1331\n",
      "Starting to extract posture\n",
      "Cropping based on the x1 = 0 x2 = 1280 y1 = 0 y2 = 1024. You can adjust the cropping coordinates in the config.yaml file.\n"
     ]
    },
    {
     "name": "stderr",
     "output_type": "stream",
     "text": [
      "100%|██████████| 201/201 [00:08<00:00, 23.06it/s]\n"
     ]
    },
    {
     "name": "stdout",
     "output_type": "stream",
     "text": [
      "Saving results in D:\\YuLab\\Work\\GPS\\Video\\Naveed\\GPS_20_ThreeFPHoldSRTProbe\\20240804\\Top\\Clips...\n",
      "Saving csv poses!\n",
      "Starting to analyze %  D:/YuLab/Work/GPS/Video/Naveed/GPS_20_ThreeFPHoldSRTProbe/20240804/Top/Clips/Naveed_20240804_HoldTrial087_TopView.avi\n",
      "Loading  D:/YuLab/Work/GPS/Video/Naveed/GPS_20_ThreeFPHoldSRTProbe/20240804/Top/Clips/Naveed_20240804_HoldTrial087_TopView.avi\n",
      "Duration of video [s]:  8.04 , recorded with  25.0 fps!\n",
      "Overall # of frames:  201  found with (before cropping) frame dimensions:  1280 1331\n",
      "Starting to extract posture\n",
      "Cropping based on the x1 = 0 x2 = 1280 y1 = 0 y2 = 1024. You can adjust the cropping coordinates in the config.yaml file.\n"
     ]
    },
    {
     "name": "stderr",
     "output_type": "stream",
     "text": [
      "100%|██████████| 201/201 [00:08<00:00, 23.10it/s]\n"
     ]
    },
    {
     "name": "stdout",
     "output_type": "stream",
     "text": [
      "Saving results in D:\\YuLab\\Work\\GPS\\Video\\Naveed\\GPS_20_ThreeFPHoldSRTProbe\\20240804\\Top\\Clips...\n",
      "Saving csv poses!\n",
      "Starting to analyze %  D:/YuLab/Work/GPS/Video/Naveed/GPS_20_ThreeFPHoldSRTProbe/20240804/Top/Clips/Naveed_20240804_HoldTrial088_TopView.avi\n",
      "Loading  D:/YuLab/Work/GPS/Video/Naveed/GPS_20_ThreeFPHoldSRTProbe/20240804/Top/Clips/Naveed_20240804_HoldTrial088_TopView.avi\n",
      "Duration of video [s]:  8.0 , recorded with  25.0 fps!\n",
      "Overall # of frames:  200  found with (before cropping) frame dimensions:  1280 1331\n",
      "Starting to extract posture\n",
      "Cropping based on the x1 = 0 x2 = 1280 y1 = 0 y2 = 1024. You can adjust the cropping coordinates in the config.yaml file.\n"
     ]
    },
    {
     "name": "stderr",
     "output_type": "stream",
     "text": [
      "100%|██████████| 200/200 [00:08<00:00, 23.71it/s]\n"
     ]
    },
    {
     "name": "stdout",
     "output_type": "stream",
     "text": [
      "Saving results in D:\\YuLab\\Work\\GPS\\Video\\Naveed\\GPS_20_ThreeFPHoldSRTProbe\\20240804\\Top\\Clips...\n",
      "Saving csv poses!\n",
      "Starting to analyze %  D:/YuLab/Work/GPS/Video/Naveed/GPS_20_ThreeFPHoldSRTProbe/20240804/Top/Clips/Naveed_20240804_HoldTrial089_TopView.avi\n",
      "Loading  D:/YuLab/Work/GPS/Video/Naveed/GPS_20_ThreeFPHoldSRTProbe/20240804/Top/Clips/Naveed_20240804_HoldTrial089_TopView.avi\n",
      "Duration of video [s]:  8.04 , recorded with  25.0 fps!\n",
      "Overall # of frames:  201  found with (before cropping) frame dimensions:  1280 1331\n",
      "Starting to extract posture\n",
      "Cropping based on the x1 = 0 x2 = 1280 y1 = 0 y2 = 1024. You can adjust the cropping coordinates in the config.yaml file.\n"
     ]
    },
    {
     "name": "stderr",
     "output_type": "stream",
     "text": [
      "100%|██████████| 201/201 [00:08<00:00, 23.09it/s]\n"
     ]
    },
    {
     "name": "stdout",
     "output_type": "stream",
     "text": [
      "Saving results in D:\\YuLab\\Work\\GPS\\Video\\Naveed\\GPS_20_ThreeFPHoldSRTProbe\\20240804\\Top\\Clips...\n",
      "Saving csv poses!\n",
      "Starting to analyze %  D:/YuLab/Work/GPS/Video/Naveed/GPS_20_ThreeFPHoldSRTProbe/20240804/Top/Clips/Naveed_20240804_HoldTrial090_TopView.avi\n",
      "Loading  D:/YuLab/Work/GPS/Video/Naveed/GPS_20_ThreeFPHoldSRTProbe/20240804/Top/Clips/Naveed_20240804_HoldTrial090_TopView.avi\n",
      "Duration of video [s]:  8.04 , recorded with  25.0 fps!\n",
      "Overall # of frames:  201  found with (before cropping) frame dimensions:  1280 1331\n",
      "Starting to extract posture\n",
      "Cropping based on the x1 = 0 x2 = 1280 y1 = 0 y2 = 1024. You can adjust the cropping coordinates in the config.yaml file.\n"
     ]
    },
    {
     "name": "stderr",
     "output_type": "stream",
     "text": [
      "100%|██████████| 201/201 [00:08<00:00, 23.10it/s]\n"
     ]
    },
    {
     "name": "stdout",
     "output_type": "stream",
     "text": [
      "Saving results in D:\\YuLab\\Work\\GPS\\Video\\Naveed\\GPS_20_ThreeFPHoldSRTProbe\\20240804\\Top\\Clips...\n",
      "Saving csv poses!\n",
      "Starting to analyze %  D:/YuLab/Work/GPS/Video/Naveed/GPS_20_ThreeFPHoldSRTProbe/20240804/Top/Clips/Naveed_20240804_HoldTrial091_TopView.avi\n",
      "Loading  D:/YuLab/Work/GPS/Video/Naveed/GPS_20_ThreeFPHoldSRTProbe/20240804/Top/Clips/Naveed_20240804_HoldTrial091_TopView.avi\n",
      "Duration of video [s]:  8.04 , recorded with  25.0 fps!\n",
      "Overall # of frames:  201  found with (before cropping) frame dimensions:  1280 1331\n",
      "Starting to extract posture\n",
      "Cropping based on the x1 = 0 x2 = 1280 y1 = 0 y2 = 1024. You can adjust the cropping coordinates in the config.yaml file.\n"
     ]
    },
    {
     "name": "stderr",
     "output_type": "stream",
     "text": [
      "100%|██████████| 201/201 [00:08<00:00, 23.08it/s]\n"
     ]
    },
    {
     "name": "stdout",
     "output_type": "stream",
     "text": [
      "Saving results in D:\\YuLab\\Work\\GPS\\Video\\Naveed\\GPS_20_ThreeFPHoldSRTProbe\\20240804\\Top\\Clips...\n",
      "Saving csv poses!\n",
      "Starting to analyze %  D:/YuLab/Work/GPS/Video/Naveed/GPS_20_ThreeFPHoldSRTProbe/20240804/Top/Clips/Naveed_20240804_HoldTrial092_TopView.avi\n",
      "Loading  D:/YuLab/Work/GPS/Video/Naveed/GPS_20_ThreeFPHoldSRTProbe/20240804/Top/Clips/Naveed_20240804_HoldTrial092_TopView.avi\n",
      "Duration of video [s]:  8.0 , recorded with  25.0 fps!\n",
      "Overall # of frames:  200  found with (before cropping) frame dimensions:  1280 1331\n",
      "Starting to extract posture\n",
      "Cropping based on the x1 = 0 x2 = 1280 y1 = 0 y2 = 1024. You can adjust the cropping coordinates in the config.yaml file.\n"
     ]
    },
    {
     "name": "stderr",
     "output_type": "stream",
     "text": [
      "100%|██████████| 200/200 [00:08<00:00, 23.68it/s]\n"
     ]
    },
    {
     "name": "stdout",
     "output_type": "stream",
     "text": [
      "Saving results in D:\\YuLab\\Work\\GPS\\Video\\Naveed\\GPS_20_ThreeFPHoldSRTProbe\\20240804\\Top\\Clips...\n",
      "Saving csv poses!\n",
      "Starting to analyze %  D:/YuLab/Work/GPS/Video/Naveed/GPS_20_ThreeFPHoldSRTProbe/20240804/Top/Clips/Naveed_20240804_HoldTrial093_TopView.avi\n",
      "Loading  D:/YuLab/Work/GPS/Video/Naveed/GPS_20_ThreeFPHoldSRTProbe/20240804/Top/Clips/Naveed_20240804_HoldTrial093_TopView.avi\n",
      "Duration of video [s]:  8.0 , recorded with  25.0 fps!\n",
      "Overall # of frames:  200  found with (before cropping) frame dimensions:  1280 1331\n",
      "Starting to extract posture\n",
      "Cropping based on the x1 = 0 x2 = 1280 y1 = 0 y2 = 1024. You can adjust the cropping coordinates in the config.yaml file.\n"
     ]
    },
    {
     "name": "stderr",
     "output_type": "stream",
     "text": [
      "100%|██████████| 200/200 [00:08<00:00, 23.63it/s]\n"
     ]
    },
    {
     "name": "stdout",
     "output_type": "stream",
     "text": [
      "Saving results in D:\\YuLab\\Work\\GPS\\Video\\Naveed\\GPS_20_ThreeFPHoldSRTProbe\\20240804\\Top\\Clips...\n",
      "Saving csv poses!\n",
      "Starting to analyze %  D:/YuLab/Work/GPS/Video/Naveed/GPS_20_ThreeFPHoldSRTProbe/20240804/Top/Clips/Naveed_20240804_HoldTrial094_TopView.avi\n",
      "Loading  D:/YuLab/Work/GPS/Video/Naveed/GPS_20_ThreeFPHoldSRTProbe/20240804/Top/Clips/Naveed_20240804_HoldTrial094_TopView.avi\n",
      "Duration of video [s]:  8.04 , recorded with  25.0 fps!\n",
      "Overall # of frames:  201  found with (before cropping) frame dimensions:  1280 1331\n",
      "Starting to extract posture\n",
      "Cropping based on the x1 = 0 x2 = 1280 y1 = 0 y2 = 1024. You can adjust the cropping coordinates in the config.yaml file.\n"
     ]
    },
    {
     "name": "stderr",
     "output_type": "stream",
     "text": [
      "100%|██████████| 201/201 [00:08<00:00, 23.01it/s]\n"
     ]
    },
    {
     "name": "stdout",
     "output_type": "stream",
     "text": [
      "Saving results in D:\\YuLab\\Work\\GPS\\Video\\Naveed\\GPS_20_ThreeFPHoldSRTProbe\\20240804\\Top\\Clips...\n",
      "Saving csv poses!\n",
      "Starting to analyze %  D:/YuLab/Work/GPS/Video/Naveed/GPS_20_ThreeFPHoldSRTProbe/20240804/Top/Clips/Naveed_20240804_HoldTrial095_TopView.avi\n",
      "Loading  D:/YuLab/Work/GPS/Video/Naveed/GPS_20_ThreeFPHoldSRTProbe/20240804/Top/Clips/Naveed_20240804_HoldTrial095_TopView.avi\n",
      "Duration of video [s]:  8.04 , recorded with  25.0 fps!\n",
      "Overall # of frames:  201  found with (before cropping) frame dimensions:  1280 1331\n",
      "Starting to extract posture\n",
      "Cropping based on the x1 = 0 x2 = 1280 y1 = 0 y2 = 1024. You can adjust the cropping coordinates in the config.yaml file.\n"
     ]
    },
    {
     "name": "stderr",
     "output_type": "stream",
     "text": [
      "100%|██████████| 201/201 [00:08<00:00, 23.05it/s]\n"
     ]
    },
    {
     "name": "stdout",
     "output_type": "stream",
     "text": [
      "Saving results in D:\\YuLab\\Work\\GPS\\Video\\Naveed\\GPS_20_ThreeFPHoldSRTProbe\\20240804\\Top\\Clips...\n",
      "Saving csv poses!\n",
      "Starting to analyze %  D:/YuLab/Work/GPS/Video/Naveed/GPS_20_ThreeFPHoldSRTProbe/20240804/Top/Clips/Naveed_20240804_HoldTrial096_TopView.avi\n",
      "Loading  D:/YuLab/Work/GPS/Video/Naveed/GPS_20_ThreeFPHoldSRTProbe/20240804/Top/Clips/Naveed_20240804_HoldTrial096_TopView.avi\n",
      "Duration of video [s]:  8.04 , recorded with  25.0 fps!\n",
      "Overall # of frames:  201  found with (before cropping) frame dimensions:  1280 1331\n",
      "Starting to extract posture\n",
      "Cropping based on the x1 = 0 x2 = 1280 y1 = 0 y2 = 1024. You can adjust the cropping coordinates in the config.yaml file.\n"
     ]
    },
    {
     "name": "stderr",
     "output_type": "stream",
     "text": [
      "100%|██████████| 201/201 [00:08<00:00, 23.04it/s]\n"
     ]
    },
    {
     "name": "stdout",
     "output_type": "stream",
     "text": [
      "Saving results in D:\\YuLab\\Work\\GPS\\Video\\Naveed\\GPS_20_ThreeFPHoldSRTProbe\\20240804\\Top\\Clips...\n",
      "Saving csv poses!\n",
      "Starting to analyze %  D:/YuLab/Work/GPS/Video/Naveed/GPS_20_ThreeFPHoldSRTProbe/20240804/Top/Clips/Naveed_20240804_HoldTrial097_TopView.avi\n",
      "Loading  D:/YuLab/Work/GPS/Video/Naveed/GPS_20_ThreeFPHoldSRTProbe/20240804/Top/Clips/Naveed_20240804_HoldTrial097_TopView.avi\n",
      "Duration of video [s]:  8.0 , recorded with  25.0 fps!\n",
      "Overall # of frames:  200  found with (before cropping) frame dimensions:  1280 1331\n",
      "Starting to extract posture\n",
      "Cropping based on the x1 = 0 x2 = 1280 y1 = 0 y2 = 1024. You can adjust the cropping coordinates in the config.yaml file.\n"
     ]
    },
    {
     "name": "stderr",
     "output_type": "stream",
     "text": [
      "100%|██████████| 200/200 [00:08<00:00, 23.71it/s]\n"
     ]
    },
    {
     "name": "stdout",
     "output_type": "stream",
     "text": [
      "Saving results in D:\\YuLab\\Work\\GPS\\Video\\Naveed\\GPS_20_ThreeFPHoldSRTProbe\\20240804\\Top\\Clips...\n",
      "Saving csv poses!\n",
      "Starting to analyze %  D:/YuLab/Work/GPS/Video/Naveed/GPS_20_ThreeFPHoldSRTProbe/20240804/Top/Clips/Naveed_20240804_HoldTrial098_TopView.avi\n",
      "Loading  D:/YuLab/Work/GPS/Video/Naveed/GPS_20_ThreeFPHoldSRTProbe/20240804/Top/Clips/Naveed_20240804_HoldTrial098_TopView.avi\n",
      "Duration of video [s]:  8.04 , recorded with  25.0 fps!\n",
      "Overall # of frames:  201  found with (before cropping) frame dimensions:  1280 1331\n",
      "Starting to extract posture\n",
      "Cropping based on the x1 = 0 x2 = 1280 y1 = 0 y2 = 1024. You can adjust the cropping coordinates in the config.yaml file.\n"
     ]
    },
    {
     "name": "stderr",
     "output_type": "stream",
     "text": [
      "100%|██████████| 201/201 [00:08<00:00, 23.07it/s]\n"
     ]
    },
    {
     "name": "stdout",
     "output_type": "stream",
     "text": [
      "Saving results in D:\\YuLab\\Work\\GPS\\Video\\Naveed\\GPS_20_ThreeFPHoldSRTProbe\\20240804\\Top\\Clips...\n",
      "Saving csv poses!\n",
      "Starting to analyze %  D:/YuLab/Work/GPS/Video/Naveed/GPS_20_ThreeFPHoldSRTProbe/20240804/Top/Clips/Naveed_20240804_HoldTrial099_TopView.avi\n",
      "Loading  D:/YuLab/Work/GPS/Video/Naveed/GPS_20_ThreeFPHoldSRTProbe/20240804/Top/Clips/Naveed_20240804_HoldTrial099_TopView.avi\n",
      "Duration of video [s]:  8.0 , recorded with  25.0 fps!\n",
      "Overall # of frames:  200  found with (before cropping) frame dimensions:  1280 1331\n",
      "Starting to extract posture\n",
      "Cropping based on the x1 = 0 x2 = 1280 y1 = 0 y2 = 1024. You can adjust the cropping coordinates in the config.yaml file.\n"
     ]
    },
    {
     "name": "stderr",
     "output_type": "stream",
     "text": [
      "100%|██████████| 200/200 [00:08<00:00, 23.73it/s]\n"
     ]
    },
    {
     "name": "stdout",
     "output_type": "stream",
     "text": [
      "Saving results in D:\\YuLab\\Work\\GPS\\Video\\Naveed\\GPS_20_ThreeFPHoldSRTProbe\\20240804\\Top\\Clips...\n",
      "Saving csv poses!\n",
      "Starting to analyze %  D:/YuLab/Work/GPS/Video/Naveed/GPS_20_ThreeFPHoldSRTProbe/20240804/Top/Clips/Naveed_20240804_HoldTrial100_TopView.avi\n",
      "Loading  D:/YuLab/Work/GPS/Video/Naveed/GPS_20_ThreeFPHoldSRTProbe/20240804/Top/Clips/Naveed_20240804_HoldTrial100_TopView.avi\n",
      "Duration of video [s]:  8.04 , recorded with  25.0 fps!\n",
      "Overall # of frames:  201  found with (before cropping) frame dimensions:  1280 1331\n",
      "Starting to extract posture\n",
      "Cropping based on the x1 = 0 x2 = 1280 y1 = 0 y2 = 1024. You can adjust the cropping coordinates in the config.yaml file.\n"
     ]
    },
    {
     "name": "stderr",
     "output_type": "stream",
     "text": [
      "100%|██████████| 201/201 [00:08<00:00, 23.07it/s]\n"
     ]
    },
    {
     "name": "stdout",
     "output_type": "stream",
     "text": [
      "Saving results in D:\\YuLab\\Work\\GPS\\Video\\Naveed\\GPS_20_ThreeFPHoldSRTProbe\\20240804\\Top\\Clips...\n",
      "Saving csv poses!\n",
      "Starting to analyze %  D:/YuLab/Work/GPS/Video/Naveed/GPS_20_ThreeFPHoldSRTProbe/20240804/Top/Clips/Naveed_20240804_HoldTrial101_TopView.avi\n",
      "Loading  D:/YuLab/Work/GPS/Video/Naveed/GPS_20_ThreeFPHoldSRTProbe/20240804/Top/Clips/Naveed_20240804_HoldTrial101_TopView.avi\n",
      "Duration of video [s]:  8.04 , recorded with  25.0 fps!\n",
      "Overall # of frames:  201  found with (before cropping) frame dimensions:  1280 1331\n",
      "Starting to extract posture\n",
      "Cropping based on the x1 = 0 x2 = 1280 y1 = 0 y2 = 1024. You can adjust the cropping coordinates in the config.yaml file.\n"
     ]
    },
    {
     "name": "stderr",
     "output_type": "stream",
     "text": [
      "100%|██████████| 201/201 [00:08<00:00, 23.02it/s]\n"
     ]
    },
    {
     "name": "stdout",
     "output_type": "stream",
     "text": [
      "Saving results in D:\\YuLab\\Work\\GPS\\Video\\Naveed\\GPS_20_ThreeFPHoldSRTProbe\\20240804\\Top\\Clips...\n",
      "Saving csv poses!\n",
      "Starting to analyze %  D:/YuLab/Work/GPS/Video/Naveed/GPS_20_ThreeFPHoldSRTProbe/20240804/Top/Clips/Naveed_20240804_HoldTrial102_TopView.avi\n",
      "Loading  D:/YuLab/Work/GPS/Video/Naveed/GPS_20_ThreeFPHoldSRTProbe/20240804/Top/Clips/Naveed_20240804_HoldTrial102_TopView.avi\n",
      "Duration of video [s]:  8.04 , recorded with  25.0 fps!\n",
      "Overall # of frames:  201  found with (before cropping) frame dimensions:  1280 1331\n",
      "Starting to extract posture\n",
      "Cropping based on the x1 = 0 x2 = 1280 y1 = 0 y2 = 1024. You can adjust the cropping coordinates in the config.yaml file.\n"
     ]
    },
    {
     "name": "stderr",
     "output_type": "stream",
     "text": [
      "100%|██████████| 201/201 [00:08<00:00, 23.07it/s]\n"
     ]
    },
    {
     "name": "stdout",
     "output_type": "stream",
     "text": [
      "Saving results in D:\\YuLab\\Work\\GPS\\Video\\Naveed\\GPS_20_ThreeFPHoldSRTProbe\\20240804\\Top\\Clips...\n",
      "Saving csv poses!\n",
      "Starting to analyze %  D:/YuLab/Work/GPS/Video/Naveed/GPS_20_ThreeFPHoldSRTProbe/20240804/Top/Clips/Naveed_20240804_HoldTrial103_TopView.avi\n",
      "Loading  D:/YuLab/Work/GPS/Video/Naveed/GPS_20_ThreeFPHoldSRTProbe/20240804/Top/Clips/Naveed_20240804_HoldTrial103_TopView.avi\n",
      "Duration of video [s]:  8.04 , recorded with  25.0 fps!\n",
      "Overall # of frames:  201  found with (before cropping) frame dimensions:  1280 1331\n",
      "Starting to extract posture\n",
      "Cropping based on the x1 = 0 x2 = 1280 y1 = 0 y2 = 1024. You can adjust the cropping coordinates in the config.yaml file.\n"
     ]
    },
    {
     "name": "stderr",
     "output_type": "stream",
     "text": [
      "100%|██████████| 201/201 [00:08<00:00, 23.06it/s]\n"
     ]
    },
    {
     "name": "stdout",
     "output_type": "stream",
     "text": [
      "Saving results in D:\\YuLab\\Work\\GPS\\Video\\Naveed\\GPS_20_ThreeFPHoldSRTProbe\\20240804\\Top\\Clips...\n",
      "Saving csv poses!\n",
      "Starting to analyze %  D:/YuLab/Work/GPS/Video/Naveed/GPS_20_ThreeFPHoldSRTProbe/20240804/Top/Clips/Naveed_20240804_HoldTrial104_TopView.avi\n",
      "Loading  D:/YuLab/Work/GPS/Video/Naveed/GPS_20_ThreeFPHoldSRTProbe/20240804/Top/Clips/Naveed_20240804_HoldTrial104_TopView.avi\n",
      "Duration of video [s]:  8.04 , recorded with  25.0 fps!\n",
      "Overall # of frames:  201  found with (before cropping) frame dimensions:  1280 1331\n",
      "Starting to extract posture\n",
      "Cropping based on the x1 = 0 x2 = 1280 y1 = 0 y2 = 1024. You can adjust the cropping coordinates in the config.yaml file.\n"
     ]
    },
    {
     "name": "stderr",
     "output_type": "stream",
     "text": [
      "100%|██████████| 201/201 [00:08<00:00, 23.05it/s]\n"
     ]
    },
    {
     "name": "stdout",
     "output_type": "stream",
     "text": [
      "Saving results in D:\\YuLab\\Work\\GPS\\Video\\Naveed\\GPS_20_ThreeFPHoldSRTProbe\\20240804\\Top\\Clips...\n",
      "Saving csv poses!\n",
      "Starting to analyze %  D:/YuLab/Work/GPS/Video/Naveed/GPS_20_ThreeFPHoldSRTProbe/20240804/Top/Clips/Naveed_20240804_HoldTrial105_TopView.avi\n",
      "Loading  D:/YuLab/Work/GPS/Video/Naveed/GPS_20_ThreeFPHoldSRTProbe/20240804/Top/Clips/Naveed_20240804_HoldTrial105_TopView.avi\n",
      "Duration of video [s]:  8.04 , recorded with  25.0 fps!\n",
      "Overall # of frames:  201  found with (before cropping) frame dimensions:  1280 1331\n",
      "Starting to extract posture\n",
      "Cropping based on the x1 = 0 x2 = 1280 y1 = 0 y2 = 1024. You can adjust the cropping coordinates in the config.yaml file.\n"
     ]
    },
    {
     "name": "stderr",
     "output_type": "stream",
     "text": [
      "100%|██████████| 201/201 [00:08<00:00, 23.07it/s]\n"
     ]
    },
    {
     "name": "stdout",
     "output_type": "stream",
     "text": [
      "Saving results in D:\\YuLab\\Work\\GPS\\Video\\Naveed\\GPS_20_ThreeFPHoldSRTProbe\\20240804\\Top\\Clips...\n",
      "Saving csv poses!\n",
      "Starting to analyze %  D:/YuLab/Work/GPS/Video/Naveed/GPS_20_ThreeFPHoldSRTProbe/20240804/Top/Clips/Naveed_20240804_HoldTrial106_TopView.avi\n",
      "Loading  D:/YuLab/Work/GPS/Video/Naveed/GPS_20_ThreeFPHoldSRTProbe/20240804/Top/Clips/Naveed_20240804_HoldTrial106_TopView.avi\n",
      "Duration of video [s]:  8.04 , recorded with  25.0 fps!\n",
      "Overall # of frames:  201  found with (before cropping) frame dimensions:  1280 1331\n",
      "Starting to extract posture\n",
      "Cropping based on the x1 = 0 x2 = 1280 y1 = 0 y2 = 1024. You can adjust the cropping coordinates in the config.yaml file.\n"
     ]
    },
    {
     "name": "stderr",
     "output_type": "stream",
     "text": [
      "100%|██████████| 201/201 [00:08<00:00, 23.07it/s]\n"
     ]
    },
    {
     "name": "stdout",
     "output_type": "stream",
     "text": [
      "Saving results in D:\\YuLab\\Work\\GPS\\Video\\Naveed\\GPS_20_ThreeFPHoldSRTProbe\\20240804\\Top\\Clips...\n",
      "Saving csv poses!\n",
      "Starting to analyze %  D:/YuLab/Work/GPS/Video/Naveed/GPS_20_ThreeFPHoldSRTProbe/20240804/Top/Clips/Naveed_20240804_HoldTrial107_TopView.avi\n",
      "Loading  D:/YuLab/Work/GPS/Video/Naveed/GPS_20_ThreeFPHoldSRTProbe/20240804/Top/Clips/Naveed_20240804_HoldTrial107_TopView.avi\n",
      "Duration of video [s]:  8.0 , recorded with  25.0 fps!\n",
      "Overall # of frames:  200  found with (before cropping) frame dimensions:  1280 1331\n",
      "Starting to extract posture\n",
      "Cropping based on the x1 = 0 x2 = 1280 y1 = 0 y2 = 1024. You can adjust the cropping coordinates in the config.yaml file.\n"
     ]
    },
    {
     "name": "stderr",
     "output_type": "stream",
     "text": [
      "100%|██████████| 200/200 [00:08<00:00, 23.65it/s]\n"
     ]
    },
    {
     "name": "stdout",
     "output_type": "stream",
     "text": [
      "Saving results in D:\\YuLab\\Work\\GPS\\Video\\Naveed\\GPS_20_ThreeFPHoldSRTProbe\\20240804\\Top\\Clips...\n",
      "Saving csv poses!\n",
      "Starting to analyze %  D:/YuLab/Work/GPS/Video/Naveed/GPS_20_ThreeFPHoldSRTProbe/20240804/Top/Clips/Naveed_20240804_HoldTrial108_TopView.avi\n",
      "Loading  D:/YuLab/Work/GPS/Video/Naveed/GPS_20_ThreeFPHoldSRTProbe/20240804/Top/Clips/Naveed_20240804_HoldTrial108_TopView.avi\n",
      "Duration of video [s]:  8.04 , recorded with  25.0 fps!\n",
      "Overall # of frames:  201  found with (before cropping) frame dimensions:  1280 1331\n",
      "Starting to extract posture\n",
      "Cropping based on the x1 = 0 x2 = 1280 y1 = 0 y2 = 1024. You can adjust the cropping coordinates in the config.yaml file.\n"
     ]
    },
    {
     "name": "stderr",
     "output_type": "stream",
     "text": [
      "100%|██████████| 201/201 [00:08<00:00, 23.00it/s]\n"
     ]
    },
    {
     "name": "stdout",
     "output_type": "stream",
     "text": [
      "Saving results in D:\\YuLab\\Work\\GPS\\Video\\Naveed\\GPS_20_ThreeFPHoldSRTProbe\\20240804\\Top\\Clips...\n",
      "Saving csv poses!\n",
      "Starting to analyze %  D:/YuLab/Work/GPS/Video/Naveed/GPS_20_ThreeFPHoldSRTProbe/20240804/Top/Clips/Naveed_20240804_HoldTrial109_TopView.avi\n",
      "Loading  D:/YuLab/Work/GPS/Video/Naveed/GPS_20_ThreeFPHoldSRTProbe/20240804/Top/Clips/Naveed_20240804_HoldTrial109_TopView.avi\n",
      "Duration of video [s]:  8.04 , recorded with  25.0 fps!\n",
      "Overall # of frames:  201  found with (before cropping) frame dimensions:  1280 1331\n",
      "Starting to extract posture\n",
      "Cropping based on the x1 = 0 x2 = 1280 y1 = 0 y2 = 1024. You can adjust the cropping coordinates in the config.yaml file.\n"
     ]
    },
    {
     "name": "stderr",
     "output_type": "stream",
     "text": [
      "100%|██████████| 201/201 [00:08<00:00, 23.05it/s]\n"
     ]
    },
    {
     "name": "stdout",
     "output_type": "stream",
     "text": [
      "Saving results in D:\\YuLab\\Work\\GPS\\Video\\Naveed\\GPS_20_ThreeFPHoldSRTProbe\\20240804\\Top\\Clips...\n",
      "Saving csv poses!\n",
      "Starting to analyze %  D:/YuLab/Work/GPS/Video/Naveed/GPS_20_ThreeFPHoldSRTProbe/20240804/Top/Clips/Naveed_20240804_HoldTrial110_TopView.avi\n",
      "Loading  D:/YuLab/Work/GPS/Video/Naveed/GPS_20_ThreeFPHoldSRTProbe/20240804/Top/Clips/Naveed_20240804_HoldTrial110_TopView.avi\n",
      "Duration of video [s]:  8.04 , recorded with  25.0 fps!\n",
      "Overall # of frames:  201  found with (before cropping) frame dimensions:  1280 1331\n",
      "Starting to extract posture\n",
      "Cropping based on the x1 = 0 x2 = 1280 y1 = 0 y2 = 1024. You can adjust the cropping coordinates in the config.yaml file.\n"
     ]
    },
    {
     "name": "stderr",
     "output_type": "stream",
     "text": [
      "100%|██████████| 201/201 [00:08<00:00, 23.05it/s]\n"
     ]
    },
    {
     "name": "stdout",
     "output_type": "stream",
     "text": [
      "Saving results in D:\\YuLab\\Work\\GPS\\Video\\Naveed\\GPS_20_ThreeFPHoldSRTProbe\\20240804\\Top\\Clips...\n",
      "Saving csv poses!\n",
      "Starting to analyze %  D:/YuLab/Work/GPS/Video/Naveed/GPS_20_ThreeFPHoldSRTProbe/20240804/Top/Clips/Naveed_20240804_HoldTrial111_TopView.avi\n",
      "Loading  D:/YuLab/Work/GPS/Video/Naveed/GPS_20_ThreeFPHoldSRTProbe/20240804/Top/Clips/Naveed_20240804_HoldTrial111_TopView.avi\n",
      "Duration of video [s]:  8.04 , recorded with  25.0 fps!\n",
      "Overall # of frames:  201  found with (before cropping) frame dimensions:  1280 1331\n",
      "Starting to extract posture\n",
      "Cropping based on the x1 = 0 x2 = 1280 y1 = 0 y2 = 1024. You can adjust the cropping coordinates in the config.yaml file.\n"
     ]
    },
    {
     "name": "stderr",
     "output_type": "stream",
     "text": [
      "100%|██████████| 201/201 [00:08<00:00, 23.01it/s]\n"
     ]
    },
    {
     "name": "stdout",
     "output_type": "stream",
     "text": [
      "Saving results in D:\\YuLab\\Work\\GPS\\Video\\Naveed\\GPS_20_ThreeFPHoldSRTProbe\\20240804\\Top\\Clips...\n",
      "Saving csv poses!\n",
      "Starting to analyze %  D:/YuLab/Work/GPS/Video/Naveed/GPS_20_ThreeFPHoldSRTProbe/20240804/Top/Clips/Naveed_20240804_HoldTrial112_TopView.avi\n",
      "Loading  D:/YuLab/Work/GPS/Video/Naveed/GPS_20_ThreeFPHoldSRTProbe/20240804/Top/Clips/Naveed_20240804_HoldTrial112_TopView.avi\n",
      "Duration of video [s]:  8.04 , recorded with  25.0 fps!\n",
      "Overall # of frames:  201  found with (before cropping) frame dimensions:  1280 1331\n",
      "Starting to extract posture\n",
      "Cropping based on the x1 = 0 x2 = 1280 y1 = 0 y2 = 1024. You can adjust the cropping coordinates in the config.yaml file.\n"
     ]
    },
    {
     "name": "stderr",
     "output_type": "stream",
     "text": [
      "100%|██████████| 201/201 [00:08<00:00, 23.07it/s]\n"
     ]
    },
    {
     "name": "stdout",
     "output_type": "stream",
     "text": [
      "Saving results in D:\\YuLab\\Work\\GPS\\Video\\Naveed\\GPS_20_ThreeFPHoldSRTProbe\\20240804\\Top\\Clips...\n",
      "Saving csv poses!\n",
      "Starting to analyze %  D:/YuLab/Work/GPS/Video/Naveed/GPS_20_ThreeFPHoldSRTProbe/20240804/Top/Clips/Naveed_20240804_HoldTrial113_TopView.avi\n",
      "Loading  D:/YuLab/Work/GPS/Video/Naveed/GPS_20_ThreeFPHoldSRTProbe/20240804/Top/Clips/Naveed_20240804_HoldTrial113_TopView.avi\n",
      "Duration of video [s]:  8.04 , recorded with  25.0 fps!\n",
      "Overall # of frames:  201  found with (before cropping) frame dimensions:  1280 1331\n",
      "Starting to extract posture\n",
      "Cropping based on the x1 = 0 x2 = 1280 y1 = 0 y2 = 1024. You can adjust the cropping coordinates in the config.yaml file.\n"
     ]
    },
    {
     "name": "stderr",
     "output_type": "stream",
     "text": [
      "100%|██████████| 201/201 [00:08<00:00, 23.04it/s]\n"
     ]
    },
    {
     "name": "stdout",
     "output_type": "stream",
     "text": [
      "Saving results in D:\\YuLab\\Work\\GPS\\Video\\Naveed\\GPS_20_ThreeFPHoldSRTProbe\\20240804\\Top\\Clips...\n",
      "Saving csv poses!\n",
      "Starting to analyze %  D:/YuLab/Work/GPS/Video/Naveed/GPS_20_ThreeFPHoldSRTProbe/20240804/Top/Clips/Naveed_20240804_HoldTrial114_TopView.avi\n",
      "Loading  D:/YuLab/Work/GPS/Video/Naveed/GPS_20_ThreeFPHoldSRTProbe/20240804/Top/Clips/Naveed_20240804_HoldTrial114_TopView.avi\n",
      "Duration of video [s]:  8.04 , recorded with  25.0 fps!\n",
      "Overall # of frames:  201  found with (before cropping) frame dimensions:  1280 1331\n",
      "Starting to extract posture\n",
      "Cropping based on the x1 = 0 x2 = 1280 y1 = 0 y2 = 1024. You can adjust the cropping coordinates in the config.yaml file.\n"
     ]
    },
    {
     "name": "stderr",
     "output_type": "stream",
     "text": [
      "100%|██████████| 201/201 [00:08<00:00, 23.02it/s]\n"
     ]
    },
    {
     "name": "stdout",
     "output_type": "stream",
     "text": [
      "Saving results in D:\\YuLab\\Work\\GPS\\Video\\Naveed\\GPS_20_ThreeFPHoldSRTProbe\\20240804\\Top\\Clips...\n",
      "Saving csv poses!\n",
      "Starting to analyze %  D:/YuLab/Work/GPS/Video/Naveed/GPS_20_ThreeFPHoldSRTProbe/20240804/Top/Clips/Naveed_20240804_HoldTrial115_TopView.avi\n",
      "Loading  D:/YuLab/Work/GPS/Video/Naveed/GPS_20_ThreeFPHoldSRTProbe/20240804/Top/Clips/Naveed_20240804_HoldTrial115_TopView.avi\n",
      "Duration of video [s]:  8.0 , recorded with  25.0 fps!\n",
      "Overall # of frames:  200  found with (before cropping) frame dimensions:  1280 1331\n",
      "Starting to extract posture\n",
      "Cropping based on the x1 = 0 x2 = 1280 y1 = 0 y2 = 1024. You can adjust the cropping coordinates in the config.yaml file.\n"
     ]
    },
    {
     "name": "stderr",
     "output_type": "stream",
     "text": [
      "100%|██████████| 200/200 [00:08<00:00, 23.68it/s]\n"
     ]
    },
    {
     "name": "stdout",
     "output_type": "stream",
     "text": [
      "Saving results in D:\\YuLab\\Work\\GPS\\Video\\Naveed\\GPS_20_ThreeFPHoldSRTProbe\\20240804\\Top\\Clips...\n",
      "Saving csv poses!\n",
      "Starting to analyze %  D:/YuLab/Work/GPS/Video/Naveed/GPS_20_ThreeFPHoldSRTProbe/20240804/Top/Clips/Naveed_20240804_HoldTrial116_TopView.avi\n",
      "Loading  D:/YuLab/Work/GPS/Video/Naveed/GPS_20_ThreeFPHoldSRTProbe/20240804/Top/Clips/Naveed_20240804_HoldTrial116_TopView.avi\n",
      "Duration of video [s]:  8.04 , recorded with  25.0 fps!\n",
      "Overall # of frames:  201  found with (before cropping) frame dimensions:  1280 1331\n",
      "Starting to extract posture\n",
      "Cropping based on the x1 = 0 x2 = 1280 y1 = 0 y2 = 1024. You can adjust the cropping coordinates in the config.yaml file.\n"
     ]
    },
    {
     "name": "stderr",
     "output_type": "stream",
     "text": [
      "100%|██████████| 201/201 [00:08<00:00, 23.04it/s]\n"
     ]
    },
    {
     "name": "stdout",
     "output_type": "stream",
     "text": [
      "Saving results in D:\\YuLab\\Work\\GPS\\Video\\Naveed\\GPS_20_ThreeFPHoldSRTProbe\\20240804\\Top\\Clips...\n",
      "Saving csv poses!\n",
      "Starting to analyze %  D:/YuLab/Work/GPS/Video/Naveed/GPS_20_ThreeFPHoldSRTProbe/20240804/Top/Clips/Naveed_20240804_HoldTrial117_TopView.avi\n",
      "Loading  D:/YuLab/Work/GPS/Video/Naveed/GPS_20_ThreeFPHoldSRTProbe/20240804/Top/Clips/Naveed_20240804_HoldTrial117_TopView.avi\n",
      "Duration of video [s]:  8.04 , recorded with  25.0 fps!\n",
      "Overall # of frames:  201  found with (before cropping) frame dimensions:  1280 1331\n",
      "Starting to extract posture\n",
      "Cropping based on the x1 = 0 x2 = 1280 y1 = 0 y2 = 1024. You can adjust the cropping coordinates in the config.yaml file.\n"
     ]
    },
    {
     "name": "stderr",
     "output_type": "stream",
     "text": [
      "100%|██████████| 201/201 [00:08<00:00, 23.09it/s]\n"
     ]
    },
    {
     "name": "stdout",
     "output_type": "stream",
     "text": [
      "Saving results in D:\\YuLab\\Work\\GPS\\Video\\Naveed\\GPS_20_ThreeFPHoldSRTProbe\\20240804\\Top\\Clips...\n",
      "Saving csv poses!\n",
      "Starting to analyze %  D:/YuLab/Work/GPS/Video/Naveed/GPS_20_ThreeFPHoldSRTProbe/20240804/Top/Clips/Naveed_20240804_HoldTrial118_TopView.avi\n",
      "Loading  D:/YuLab/Work/GPS/Video/Naveed/GPS_20_ThreeFPHoldSRTProbe/20240804/Top/Clips/Naveed_20240804_HoldTrial118_TopView.avi\n",
      "Duration of video [s]:  8.04 , recorded with  25.0 fps!\n",
      "Overall # of frames:  201  found with (before cropping) frame dimensions:  1280 1331\n",
      "Starting to extract posture\n",
      "Cropping based on the x1 = 0 x2 = 1280 y1 = 0 y2 = 1024. You can adjust the cropping coordinates in the config.yaml file.\n"
     ]
    },
    {
     "name": "stderr",
     "output_type": "stream",
     "text": [
      "100%|██████████| 201/201 [00:08<00:00, 22.98it/s]\n"
     ]
    },
    {
     "name": "stdout",
     "output_type": "stream",
     "text": [
      "Saving results in D:\\YuLab\\Work\\GPS\\Video\\Naveed\\GPS_20_ThreeFPHoldSRTProbe\\20240804\\Top\\Clips...\n",
      "Saving csv poses!\n",
      "Starting to analyze %  D:/YuLab/Work/GPS/Video/Naveed/GPS_20_ThreeFPHoldSRTProbe/20240804/Top/Clips/Naveed_20240804_HoldTrial119_TopView.avi\n",
      "Loading  D:/YuLab/Work/GPS/Video/Naveed/GPS_20_ThreeFPHoldSRTProbe/20240804/Top/Clips/Naveed_20240804_HoldTrial119_TopView.avi\n",
      "Duration of video [s]:  8.04 , recorded with  25.0 fps!\n",
      "Overall # of frames:  201  found with (before cropping) frame dimensions:  1280 1331\n",
      "Starting to extract posture\n",
      "Cropping based on the x1 = 0 x2 = 1280 y1 = 0 y2 = 1024. You can adjust the cropping coordinates in the config.yaml file.\n"
     ]
    },
    {
     "name": "stderr",
     "output_type": "stream",
     "text": [
      "100%|██████████| 201/201 [00:08<00:00, 23.02it/s]\n"
     ]
    },
    {
     "name": "stdout",
     "output_type": "stream",
     "text": [
      "Saving results in D:\\YuLab\\Work\\GPS\\Video\\Naveed\\GPS_20_ThreeFPHoldSRTProbe\\20240804\\Top\\Clips...\n",
      "Saving csv poses!\n",
      "Starting to analyze %  D:/YuLab/Work/GPS/Video/Naveed/GPS_20_ThreeFPHoldSRTProbe/20240804/Top/Clips/Naveed_20240804_HoldTrial120_TopView.avi\n",
      "Loading  D:/YuLab/Work/GPS/Video/Naveed/GPS_20_ThreeFPHoldSRTProbe/20240804/Top/Clips/Naveed_20240804_HoldTrial120_TopView.avi\n",
      "Duration of video [s]:  8.04 , recorded with  25.0 fps!\n",
      "Overall # of frames:  201  found with (before cropping) frame dimensions:  1280 1331\n",
      "Starting to extract posture\n",
      "Cropping based on the x1 = 0 x2 = 1280 y1 = 0 y2 = 1024. You can adjust the cropping coordinates in the config.yaml file.\n"
     ]
    },
    {
     "name": "stderr",
     "output_type": "stream",
     "text": [
      "100%|██████████| 201/201 [00:08<00:00, 23.07it/s]\n"
     ]
    },
    {
     "name": "stdout",
     "output_type": "stream",
     "text": [
      "Saving results in D:\\YuLab\\Work\\GPS\\Video\\Naveed\\GPS_20_ThreeFPHoldSRTProbe\\20240804\\Top\\Clips...\n",
      "Saving csv poses!\n",
      "Starting to analyze %  D:/YuLab/Work/GPS/Video/Naveed/GPS_20_ThreeFPHoldSRTProbe/20240804/Top/Clips/Naveed_20240804_HoldTrial121_TopView.avi\n",
      "Loading  D:/YuLab/Work/GPS/Video/Naveed/GPS_20_ThreeFPHoldSRTProbe/20240804/Top/Clips/Naveed_20240804_HoldTrial121_TopView.avi\n",
      "Duration of video [s]:  8.0 , recorded with  25.0 fps!\n",
      "Overall # of frames:  200  found with (before cropping) frame dimensions:  1280 1331\n",
      "Starting to extract posture\n",
      "Cropping based on the x1 = 0 x2 = 1280 y1 = 0 y2 = 1024. You can adjust the cropping coordinates in the config.yaml file.\n"
     ]
    },
    {
     "name": "stderr",
     "output_type": "stream",
     "text": [
      "100%|██████████| 200/200 [00:08<00:00, 23.70it/s]\n"
     ]
    },
    {
     "name": "stdout",
     "output_type": "stream",
     "text": [
      "Saving results in D:\\YuLab\\Work\\GPS\\Video\\Naveed\\GPS_20_ThreeFPHoldSRTProbe\\20240804\\Top\\Clips...\n",
      "Saving csv poses!\n",
      "Starting to analyze %  D:/YuLab/Work/GPS/Video/Naveed/GPS_20_ThreeFPHoldSRTProbe/20240804/Top/Clips/Naveed_20240804_HoldTrial122_TopView.avi\n",
      "Loading  D:/YuLab/Work/GPS/Video/Naveed/GPS_20_ThreeFPHoldSRTProbe/20240804/Top/Clips/Naveed_20240804_HoldTrial122_TopView.avi\n",
      "Duration of video [s]:  8.04 , recorded with  25.0 fps!\n",
      "Overall # of frames:  201  found with (before cropping) frame dimensions:  1280 1331\n",
      "Starting to extract posture\n",
      "Cropping based on the x1 = 0 x2 = 1280 y1 = 0 y2 = 1024. You can adjust the cropping coordinates in the config.yaml file.\n"
     ]
    },
    {
     "name": "stderr",
     "output_type": "stream",
     "text": [
      "100%|██████████| 201/201 [00:08<00:00, 23.03it/s]\n"
     ]
    },
    {
     "name": "stdout",
     "output_type": "stream",
     "text": [
      "Saving results in D:\\YuLab\\Work\\GPS\\Video\\Naveed\\GPS_20_ThreeFPHoldSRTProbe\\20240804\\Top\\Clips...\n",
      "Saving csv poses!\n",
      "Starting to analyze %  D:/YuLab/Work/GPS/Video/Naveed/GPS_20_ThreeFPHoldSRTProbe/20240804/Top/Clips/Naveed_20240804_HoldTrial123_TopView.avi\n",
      "Loading  D:/YuLab/Work/GPS/Video/Naveed/GPS_20_ThreeFPHoldSRTProbe/20240804/Top/Clips/Naveed_20240804_HoldTrial123_TopView.avi\n",
      "Duration of video [s]:  8.04 , recorded with  25.0 fps!\n",
      "Overall # of frames:  201  found with (before cropping) frame dimensions:  1280 1331\n",
      "Starting to extract posture\n",
      "Cropping based on the x1 = 0 x2 = 1280 y1 = 0 y2 = 1024. You can adjust the cropping coordinates in the config.yaml file.\n"
     ]
    },
    {
     "name": "stderr",
     "output_type": "stream",
     "text": [
      "100%|██████████| 201/201 [00:08<00:00, 22.80it/s]\n"
     ]
    },
    {
     "name": "stdout",
     "output_type": "stream",
     "text": [
      "Saving results in D:\\YuLab\\Work\\GPS\\Video\\Naveed\\GPS_20_ThreeFPHoldSRTProbe\\20240804\\Top\\Clips...\n",
      "Saving csv poses!\n",
      "Starting to analyze %  D:/YuLab/Work/GPS/Video/Naveed/GPS_20_ThreeFPHoldSRTProbe/20240804/Top/Clips/Naveed_20240804_HoldTrial124_TopView.avi\n",
      "Loading  D:/YuLab/Work/GPS/Video/Naveed/GPS_20_ThreeFPHoldSRTProbe/20240804/Top/Clips/Naveed_20240804_HoldTrial124_TopView.avi\n",
      "Duration of video [s]:  8.0 , recorded with  25.0 fps!\n",
      "Overall # of frames:  200  found with (before cropping) frame dimensions:  1280 1331\n",
      "Starting to extract posture\n",
      "Cropping based on the x1 = 0 x2 = 1280 y1 = 0 y2 = 1024. You can adjust the cropping coordinates in the config.yaml file.\n"
     ]
    },
    {
     "name": "stderr",
     "output_type": "stream",
     "text": [
      "100%|██████████| 200/200 [00:08<00:00, 23.20it/s]\n"
     ]
    },
    {
     "name": "stdout",
     "output_type": "stream",
     "text": [
      "Saving results in D:\\YuLab\\Work\\GPS\\Video\\Naveed\\GPS_20_ThreeFPHoldSRTProbe\\20240804\\Top\\Clips...\n",
      "Saving csv poses!\n",
      "Starting to analyze %  D:/YuLab/Work/GPS/Video/Naveed/GPS_20_ThreeFPHoldSRTProbe/20240804/Top/Clips/Naveed_20240804_HoldTrial125_TopView.avi\n",
      "Loading  D:/YuLab/Work/GPS/Video/Naveed/GPS_20_ThreeFPHoldSRTProbe/20240804/Top/Clips/Naveed_20240804_HoldTrial125_TopView.avi\n",
      "Duration of video [s]:  8.04 , recorded with  25.0 fps!\n",
      "Overall # of frames:  201  found with (before cropping) frame dimensions:  1280 1331\n",
      "Starting to extract posture\n",
      "Cropping based on the x1 = 0 x2 = 1280 y1 = 0 y2 = 1024. You can adjust the cropping coordinates in the config.yaml file.\n"
     ]
    },
    {
     "name": "stderr",
     "output_type": "stream",
     "text": [
      "100%|██████████| 201/201 [00:08<00:00, 23.02it/s]\n"
     ]
    },
    {
     "name": "stdout",
     "output_type": "stream",
     "text": [
      "Saving results in D:\\YuLab\\Work\\GPS\\Video\\Naveed\\GPS_20_ThreeFPHoldSRTProbe\\20240804\\Top\\Clips...\n",
      "Saving csv poses!\n",
      "Starting to analyze %  D:/YuLab/Work/GPS/Video/Naveed/GPS_20_ThreeFPHoldSRTProbe/20240804/Top/Clips/Naveed_20240804_HoldTrial126_TopView.avi\n",
      "Loading  D:/YuLab/Work/GPS/Video/Naveed/GPS_20_ThreeFPHoldSRTProbe/20240804/Top/Clips/Naveed_20240804_HoldTrial126_TopView.avi\n",
      "Duration of video [s]:  8.0 , recorded with  25.0 fps!\n",
      "Overall # of frames:  200  found with (before cropping) frame dimensions:  1280 1331\n",
      "Starting to extract posture\n",
      "Cropping based on the x1 = 0 x2 = 1280 y1 = 0 y2 = 1024. You can adjust the cropping coordinates in the config.yaml file.\n"
     ]
    },
    {
     "name": "stderr",
     "output_type": "stream",
     "text": [
      "100%|██████████| 200/200 [00:08<00:00, 23.75it/s]\n"
     ]
    },
    {
     "name": "stdout",
     "output_type": "stream",
     "text": [
      "Saving results in D:\\YuLab\\Work\\GPS\\Video\\Naveed\\GPS_20_ThreeFPHoldSRTProbe\\20240804\\Top\\Clips...\n",
      "Saving csv poses!\n",
      "Starting to analyze %  D:/YuLab/Work/GPS/Video/Naveed/GPS_20_ThreeFPHoldSRTProbe/20240804/Top/Clips/Naveed_20240804_HoldTrial127_TopView.avi\n",
      "Loading  D:/YuLab/Work/GPS/Video/Naveed/GPS_20_ThreeFPHoldSRTProbe/20240804/Top/Clips/Naveed_20240804_HoldTrial127_TopView.avi\n",
      "Duration of video [s]:  8.04 , recorded with  25.0 fps!\n",
      "Overall # of frames:  201  found with (before cropping) frame dimensions:  1280 1331\n",
      "Starting to extract posture\n",
      "Cropping based on the x1 = 0 x2 = 1280 y1 = 0 y2 = 1024. You can adjust the cropping coordinates in the config.yaml file.\n"
     ]
    },
    {
     "name": "stderr",
     "output_type": "stream",
     "text": [
      "100%|██████████| 201/201 [00:08<00:00, 23.06it/s]\n"
     ]
    },
    {
     "name": "stdout",
     "output_type": "stream",
     "text": [
      "Saving results in D:\\YuLab\\Work\\GPS\\Video\\Naveed\\GPS_20_ThreeFPHoldSRTProbe\\20240804\\Top\\Clips...\n",
      "Saving csv poses!\n",
      "Starting to analyze %  D:/YuLab/Work/GPS/Video/Naveed/GPS_20_ThreeFPHoldSRTProbe/20240804/Top/Clips/Naveed_20240804_HoldTrial128_TopView.avi\n",
      "Loading  D:/YuLab/Work/GPS/Video/Naveed/GPS_20_ThreeFPHoldSRTProbe/20240804/Top/Clips/Naveed_20240804_HoldTrial128_TopView.avi\n",
      "Duration of video [s]:  8.04 , recorded with  25.0 fps!\n",
      "Overall # of frames:  201  found with (before cropping) frame dimensions:  1280 1331\n",
      "Starting to extract posture\n",
      "Cropping based on the x1 = 0 x2 = 1280 y1 = 0 y2 = 1024. You can adjust the cropping coordinates in the config.yaml file.\n"
     ]
    },
    {
     "name": "stderr",
     "output_type": "stream",
     "text": [
      "100%|██████████| 201/201 [00:08<00:00, 23.07it/s]\n"
     ]
    },
    {
     "name": "stdout",
     "output_type": "stream",
     "text": [
      "Saving results in D:\\YuLab\\Work\\GPS\\Video\\Naveed\\GPS_20_ThreeFPHoldSRTProbe\\20240804\\Top\\Clips...\n",
      "Saving csv poses!\n",
      "Starting to analyze %  D:/YuLab/Work/GPS/Video/Naveed/GPS_20_ThreeFPHoldSRTProbe/20240804/Top/Clips/Naveed_20240804_HoldTrial129_TopView.avi\n",
      "Loading  D:/YuLab/Work/GPS/Video/Naveed/GPS_20_ThreeFPHoldSRTProbe/20240804/Top/Clips/Naveed_20240804_HoldTrial129_TopView.avi\n",
      "Duration of video [s]:  8.04 , recorded with  25.0 fps!\n",
      "Overall # of frames:  201  found with (before cropping) frame dimensions:  1280 1331\n",
      "Starting to extract posture\n",
      "Cropping based on the x1 = 0 x2 = 1280 y1 = 0 y2 = 1024. You can adjust the cropping coordinates in the config.yaml file.\n"
     ]
    },
    {
     "name": "stderr",
     "output_type": "stream",
     "text": [
      "100%|██████████| 201/201 [00:08<00:00, 23.05it/s]\n"
     ]
    },
    {
     "name": "stdout",
     "output_type": "stream",
     "text": [
      "Saving results in D:\\YuLab\\Work\\GPS\\Video\\Naveed\\GPS_20_ThreeFPHoldSRTProbe\\20240804\\Top\\Clips...\n",
      "Saving csv poses!\n",
      "Starting to analyze %  D:/YuLab/Work/GPS/Video/Naveed/GPS_20_ThreeFPHoldSRTProbe/20240804/Top/Clips/Naveed_20240804_HoldTrial130_TopView.avi\n",
      "Loading  D:/YuLab/Work/GPS/Video/Naveed/GPS_20_ThreeFPHoldSRTProbe/20240804/Top/Clips/Naveed_20240804_HoldTrial130_TopView.avi\n",
      "Duration of video [s]:  8.04 , recorded with  25.0 fps!\n",
      "Overall # of frames:  201  found with (before cropping) frame dimensions:  1280 1331\n",
      "Starting to extract posture\n",
      "Cropping based on the x1 = 0 x2 = 1280 y1 = 0 y2 = 1024. You can adjust the cropping coordinates in the config.yaml file.\n"
     ]
    },
    {
     "name": "stderr",
     "output_type": "stream",
     "text": [
      "100%|██████████| 201/201 [00:08<00:00, 23.08it/s]\n"
     ]
    },
    {
     "name": "stdout",
     "output_type": "stream",
     "text": [
      "Saving results in D:\\YuLab\\Work\\GPS\\Video\\Naveed\\GPS_20_ThreeFPHoldSRTProbe\\20240804\\Top\\Clips...\n",
      "Saving csv poses!\n",
      "Starting to analyze %  D:/YuLab/Work/GPS/Video/Naveed/GPS_20_ThreeFPHoldSRTProbe/20240804/Top/Clips/Naveed_20240804_HoldTrial131_TopView.avi\n",
      "Loading  D:/YuLab/Work/GPS/Video/Naveed/GPS_20_ThreeFPHoldSRTProbe/20240804/Top/Clips/Naveed_20240804_HoldTrial131_TopView.avi\n",
      "Duration of video [s]:  8.0 , recorded with  25.0 fps!\n",
      "Overall # of frames:  200  found with (before cropping) frame dimensions:  1280 1331\n",
      "Starting to extract posture\n",
      "Cropping based on the x1 = 0 x2 = 1280 y1 = 0 y2 = 1024. You can adjust the cropping coordinates in the config.yaml file.\n"
     ]
    },
    {
     "name": "stderr",
     "output_type": "stream",
     "text": [
      "100%|██████████| 200/200 [00:08<00:00, 23.71it/s]\n"
     ]
    },
    {
     "name": "stdout",
     "output_type": "stream",
     "text": [
      "Saving results in D:\\YuLab\\Work\\GPS\\Video\\Naveed\\GPS_20_ThreeFPHoldSRTProbe\\20240804\\Top\\Clips...\n",
      "Saving csv poses!\n",
      "Starting to analyze %  D:/YuLab/Work/GPS/Video/Naveed/GPS_20_ThreeFPHoldSRTProbe/20240804/Top/Clips/Naveed_20240804_HoldTrial132_TopView.avi\n",
      "Loading  D:/YuLab/Work/GPS/Video/Naveed/GPS_20_ThreeFPHoldSRTProbe/20240804/Top/Clips/Naveed_20240804_HoldTrial132_TopView.avi\n",
      "Duration of video [s]:  8.04 , recorded with  25.0 fps!\n",
      "Overall # of frames:  201  found with (before cropping) frame dimensions:  1280 1331\n",
      "Starting to extract posture\n",
      "Cropping based on the x1 = 0 x2 = 1280 y1 = 0 y2 = 1024. You can adjust the cropping coordinates in the config.yaml file.\n"
     ]
    },
    {
     "name": "stderr",
     "output_type": "stream",
     "text": [
      "100%|██████████| 201/201 [00:08<00:00, 23.11it/s]\n"
     ]
    },
    {
     "name": "stdout",
     "output_type": "stream",
     "text": [
      "Saving results in D:\\YuLab\\Work\\GPS\\Video\\Naveed\\GPS_20_ThreeFPHoldSRTProbe\\20240804\\Top\\Clips...\n",
      "Saving csv poses!\n",
      "Starting to analyze %  D:/YuLab/Work/GPS/Video/Naveed/GPS_20_ThreeFPHoldSRTProbe/20240804/Top/Clips/Naveed_20240804_HoldTrial133_TopView.avi\n",
      "Loading  D:/YuLab/Work/GPS/Video/Naveed/GPS_20_ThreeFPHoldSRTProbe/20240804/Top/Clips/Naveed_20240804_HoldTrial133_TopView.avi\n",
      "Duration of video [s]:  8.04 , recorded with  25.0 fps!\n",
      "Overall # of frames:  201  found with (before cropping) frame dimensions:  1280 1331\n",
      "Starting to extract posture\n",
      "Cropping based on the x1 = 0 x2 = 1280 y1 = 0 y2 = 1024. You can adjust the cropping coordinates in the config.yaml file.\n"
     ]
    },
    {
     "name": "stderr",
     "output_type": "stream",
     "text": [
      "100%|██████████| 201/201 [00:08<00:00, 23.08it/s]\n"
     ]
    },
    {
     "name": "stdout",
     "output_type": "stream",
     "text": [
      "Saving results in D:\\YuLab\\Work\\GPS\\Video\\Naveed\\GPS_20_ThreeFPHoldSRTProbe\\20240804\\Top\\Clips...\n",
      "Saving csv poses!\n",
      "Starting to analyze %  D:/YuLab/Work/GPS/Video/Naveed/GPS_20_ThreeFPHoldSRTProbe/20240804/Top/Clips/Naveed_20240804_HoldTrial134_TopView.avi\n",
      "Loading  D:/YuLab/Work/GPS/Video/Naveed/GPS_20_ThreeFPHoldSRTProbe/20240804/Top/Clips/Naveed_20240804_HoldTrial134_TopView.avi\n",
      "Duration of video [s]:  8.04 , recorded with  25.0 fps!\n",
      "Overall # of frames:  201  found with (before cropping) frame dimensions:  1280 1331\n",
      "Starting to extract posture\n",
      "Cropping based on the x1 = 0 x2 = 1280 y1 = 0 y2 = 1024. You can adjust the cropping coordinates in the config.yaml file.\n"
     ]
    },
    {
     "name": "stderr",
     "output_type": "stream",
     "text": [
      "100%|██████████| 201/201 [00:08<00:00, 23.05it/s]\n"
     ]
    },
    {
     "name": "stdout",
     "output_type": "stream",
     "text": [
      "Saving results in D:\\YuLab\\Work\\GPS\\Video\\Naveed\\GPS_20_ThreeFPHoldSRTProbe\\20240804\\Top\\Clips...\n",
      "Saving csv poses!\n",
      "Starting to analyze %  D:/YuLab/Work/GPS/Video/Naveed/GPS_20_ThreeFPHoldSRTProbe/20240804/Top/Clips/Naveed_20240804_HoldTrial135_TopView.avi\n",
      "Loading  D:/YuLab/Work/GPS/Video/Naveed/GPS_20_ThreeFPHoldSRTProbe/20240804/Top/Clips/Naveed_20240804_HoldTrial135_TopView.avi\n",
      "Duration of video [s]:  8.04 , recorded with  25.0 fps!\n",
      "Overall # of frames:  201  found with (before cropping) frame dimensions:  1280 1331\n",
      "Starting to extract posture\n",
      "Cropping based on the x1 = 0 x2 = 1280 y1 = 0 y2 = 1024. You can adjust the cropping coordinates in the config.yaml file.\n"
     ]
    },
    {
     "name": "stderr",
     "output_type": "stream",
     "text": [
      "100%|██████████| 201/201 [00:08<00:00, 23.05it/s]\n"
     ]
    },
    {
     "name": "stdout",
     "output_type": "stream",
     "text": [
      "Saving results in D:\\YuLab\\Work\\GPS\\Video\\Naveed\\GPS_20_ThreeFPHoldSRTProbe\\20240804\\Top\\Clips...\n",
      "Saving csv poses!\n",
      "Starting to analyze %  D:/YuLab/Work/GPS/Video/Naveed/GPS_20_ThreeFPHoldSRTProbe/20240804/Top/Clips/Naveed_20240804_HoldTrial136_TopView.avi\n",
      "Loading  D:/YuLab/Work/GPS/Video/Naveed/GPS_20_ThreeFPHoldSRTProbe/20240804/Top/Clips/Naveed_20240804_HoldTrial136_TopView.avi\n",
      "Duration of video [s]:  8.04 , recorded with  25.0 fps!\n",
      "Overall # of frames:  201  found with (before cropping) frame dimensions:  1280 1331\n",
      "Starting to extract posture\n",
      "Cropping based on the x1 = 0 x2 = 1280 y1 = 0 y2 = 1024. You can adjust the cropping coordinates in the config.yaml file.\n"
     ]
    },
    {
     "name": "stderr",
     "output_type": "stream",
     "text": [
      "100%|██████████| 201/201 [00:08<00:00, 23.05it/s]\n"
     ]
    },
    {
     "name": "stdout",
     "output_type": "stream",
     "text": [
      "Saving results in D:\\YuLab\\Work\\GPS\\Video\\Naveed\\GPS_20_ThreeFPHoldSRTProbe\\20240804\\Top\\Clips...\n",
      "Saving csv poses!\n",
      "Starting to analyze %  D:/YuLab/Work/GPS/Video/Naveed/GPS_20_ThreeFPHoldSRTProbe/20240804/Top/Clips/Naveed_20240804_HoldTrial137_TopView.avi\n",
      "Loading  D:/YuLab/Work/GPS/Video/Naveed/GPS_20_ThreeFPHoldSRTProbe/20240804/Top/Clips/Naveed_20240804_HoldTrial137_TopView.avi\n",
      "Duration of video [s]:  8.0 , recorded with  25.0 fps!\n",
      "Overall # of frames:  200  found with (before cropping) frame dimensions:  1280 1331\n",
      "Starting to extract posture\n",
      "Cropping based on the x1 = 0 x2 = 1280 y1 = 0 y2 = 1024. You can adjust the cropping coordinates in the config.yaml file.\n"
     ]
    },
    {
     "name": "stderr",
     "output_type": "stream",
     "text": [
      "100%|██████████| 200/200 [00:08<00:00, 23.69it/s]\n"
     ]
    },
    {
     "name": "stdout",
     "output_type": "stream",
     "text": [
      "Saving results in D:\\YuLab\\Work\\GPS\\Video\\Naveed\\GPS_20_ThreeFPHoldSRTProbe\\20240804\\Top\\Clips...\n",
      "Saving csv poses!\n",
      "Starting to analyze %  D:/YuLab/Work/GPS/Video/Naveed/GPS_20_ThreeFPHoldSRTProbe/20240804/Top/Clips/Naveed_20240804_HoldTrial138_TopView.avi\n",
      "Loading  D:/YuLab/Work/GPS/Video/Naveed/GPS_20_ThreeFPHoldSRTProbe/20240804/Top/Clips/Naveed_20240804_HoldTrial138_TopView.avi\n",
      "Duration of video [s]:  8.0 , recorded with  25.0 fps!\n",
      "Overall # of frames:  200  found with (before cropping) frame dimensions:  1280 1331\n",
      "Starting to extract posture\n",
      "Cropping based on the x1 = 0 x2 = 1280 y1 = 0 y2 = 1024. You can adjust the cropping coordinates in the config.yaml file.\n"
     ]
    },
    {
     "name": "stderr",
     "output_type": "stream",
     "text": [
      "100%|██████████| 200/200 [00:08<00:00, 23.73it/s]\n"
     ]
    },
    {
     "name": "stdout",
     "output_type": "stream",
     "text": [
      "Saving results in D:\\YuLab\\Work\\GPS\\Video\\Naveed\\GPS_20_ThreeFPHoldSRTProbe\\20240804\\Top\\Clips...\n",
      "Saving csv poses!\n",
      "Starting to analyze %  D:/YuLab/Work/GPS/Video/Naveed/GPS_20_ThreeFPHoldSRTProbe/20240804/Top/Clips/Naveed_20240804_HoldTrial139_TopView.avi\n",
      "Loading  D:/YuLab/Work/GPS/Video/Naveed/GPS_20_ThreeFPHoldSRTProbe/20240804/Top/Clips/Naveed_20240804_HoldTrial139_TopView.avi\n",
      "Duration of video [s]:  8.04 , recorded with  25.0 fps!\n",
      "Overall # of frames:  201  found with (before cropping) frame dimensions:  1280 1331\n",
      "Starting to extract posture\n",
      "Cropping based on the x1 = 0 x2 = 1280 y1 = 0 y2 = 1024. You can adjust the cropping coordinates in the config.yaml file.\n"
     ]
    },
    {
     "name": "stderr",
     "output_type": "stream",
     "text": [
      "100%|██████████| 201/201 [00:08<00:00, 23.07it/s]\n"
     ]
    },
    {
     "name": "stdout",
     "output_type": "stream",
     "text": [
      "Saving results in D:\\YuLab\\Work\\GPS\\Video\\Naveed\\GPS_20_ThreeFPHoldSRTProbe\\20240804\\Top\\Clips...\n",
      "Saving csv poses!\n",
      "Starting to analyze %  D:/YuLab/Work/GPS/Video/Naveed/GPS_20_ThreeFPHoldSRTProbe/20240804/Top/Clips/Naveed_20240804_HoldTrial140_TopView.avi\n",
      "Loading  D:/YuLab/Work/GPS/Video/Naveed/GPS_20_ThreeFPHoldSRTProbe/20240804/Top/Clips/Naveed_20240804_HoldTrial140_TopView.avi\n",
      "Duration of video [s]:  8.04 , recorded with  25.0 fps!\n",
      "Overall # of frames:  201  found with (before cropping) frame dimensions:  1280 1331\n",
      "Starting to extract posture\n",
      "Cropping based on the x1 = 0 x2 = 1280 y1 = 0 y2 = 1024. You can adjust the cropping coordinates in the config.yaml file.\n"
     ]
    },
    {
     "name": "stderr",
     "output_type": "stream",
     "text": [
      "100%|██████████| 201/201 [00:08<00:00, 23.08it/s]\n"
     ]
    },
    {
     "name": "stdout",
     "output_type": "stream",
     "text": [
      "Saving results in D:\\YuLab\\Work\\GPS\\Video\\Naveed\\GPS_20_ThreeFPHoldSRTProbe\\20240804\\Top\\Clips...\n",
      "Saving csv poses!\n",
      "Starting to analyze %  D:/YuLab/Work/GPS/Video/Naveed/GPS_20_ThreeFPHoldSRTProbe/20240804/Top/Clips/Naveed_20240804_HoldTrial141_TopView.avi\n",
      "Loading  D:/YuLab/Work/GPS/Video/Naveed/GPS_20_ThreeFPHoldSRTProbe/20240804/Top/Clips/Naveed_20240804_HoldTrial141_TopView.avi\n",
      "Duration of video [s]:  8.04 , recorded with  25.0 fps!\n",
      "Overall # of frames:  201  found with (before cropping) frame dimensions:  1280 1331\n",
      "Starting to extract posture\n",
      "Cropping based on the x1 = 0 x2 = 1280 y1 = 0 y2 = 1024. You can adjust the cropping coordinates in the config.yaml file.\n"
     ]
    },
    {
     "name": "stderr",
     "output_type": "stream",
     "text": [
      "100%|██████████| 201/201 [00:08<00:00, 23.05it/s]\n"
     ]
    },
    {
     "name": "stdout",
     "output_type": "stream",
     "text": [
      "Saving results in D:\\YuLab\\Work\\GPS\\Video\\Naveed\\GPS_20_ThreeFPHoldSRTProbe\\20240804\\Top\\Clips...\n",
      "Saving csv poses!\n",
      "Starting to analyze %  D:/YuLab/Work/GPS/Video/Naveed/GPS_20_ThreeFPHoldSRTProbe/20240804/Top/Clips/Naveed_20240804_HoldTrial142_TopView.avi\n",
      "Loading  D:/YuLab/Work/GPS/Video/Naveed/GPS_20_ThreeFPHoldSRTProbe/20240804/Top/Clips/Naveed_20240804_HoldTrial142_TopView.avi\n",
      "Duration of video [s]:  8.04 , recorded with  25.0 fps!\n",
      "Overall # of frames:  201  found with (before cropping) frame dimensions:  1280 1331\n",
      "Starting to extract posture\n",
      "Cropping based on the x1 = 0 x2 = 1280 y1 = 0 y2 = 1024. You can adjust the cropping coordinates in the config.yaml file.\n"
     ]
    },
    {
     "name": "stderr",
     "output_type": "stream",
     "text": [
      "100%|██████████| 201/201 [00:08<00:00, 23.06it/s]\n"
     ]
    },
    {
     "name": "stdout",
     "output_type": "stream",
     "text": [
      "Saving results in D:\\YuLab\\Work\\GPS\\Video\\Naveed\\GPS_20_ThreeFPHoldSRTProbe\\20240804\\Top\\Clips...\n",
      "Saving csv poses!\n",
      "Starting to analyze %  D:/YuLab/Work/GPS/Video/Naveed/GPS_20_ThreeFPHoldSRTProbe/20240804/Top/Clips/Naveed_20240804_HoldTrial143_TopView.avi\n",
      "Loading  D:/YuLab/Work/GPS/Video/Naveed/GPS_20_ThreeFPHoldSRTProbe/20240804/Top/Clips/Naveed_20240804_HoldTrial143_TopView.avi\n",
      "Duration of video [s]:  8.0 , recorded with  25.0 fps!\n",
      "Overall # of frames:  200  found with (before cropping) frame dimensions:  1280 1331\n",
      "Starting to extract posture\n",
      "Cropping based on the x1 = 0 x2 = 1280 y1 = 0 y2 = 1024. You can adjust the cropping coordinates in the config.yaml file.\n"
     ]
    },
    {
     "name": "stderr",
     "output_type": "stream",
     "text": [
      "100%|██████████| 200/200 [00:08<00:00, 23.68it/s]\n"
     ]
    },
    {
     "name": "stdout",
     "output_type": "stream",
     "text": [
      "Saving results in D:\\YuLab\\Work\\GPS\\Video\\Naveed\\GPS_20_ThreeFPHoldSRTProbe\\20240804\\Top\\Clips...\n",
      "Saving csv poses!\n",
      "Starting to analyze %  D:/YuLab/Work/GPS/Video/Naveed/GPS_20_ThreeFPHoldSRTProbe/20240804/Top/Clips/Naveed_20240804_HoldTrial144_TopView.avi\n",
      "Loading  D:/YuLab/Work/GPS/Video/Naveed/GPS_20_ThreeFPHoldSRTProbe/20240804/Top/Clips/Naveed_20240804_HoldTrial144_TopView.avi\n",
      "Duration of video [s]:  8.04 , recorded with  25.0 fps!\n",
      "Overall # of frames:  201  found with (before cropping) frame dimensions:  1280 1331\n",
      "Starting to extract posture\n",
      "Cropping based on the x1 = 0 x2 = 1280 y1 = 0 y2 = 1024. You can adjust the cropping coordinates in the config.yaml file.\n"
     ]
    },
    {
     "name": "stderr",
     "output_type": "stream",
     "text": [
      "100%|██████████| 201/201 [00:08<00:00, 23.10it/s]\n"
     ]
    },
    {
     "name": "stdout",
     "output_type": "stream",
     "text": [
      "Saving results in D:\\YuLab\\Work\\GPS\\Video\\Naveed\\GPS_20_ThreeFPHoldSRTProbe\\20240804\\Top\\Clips...\n",
      "Saving csv poses!\n",
      "Starting to analyze %  D:/YuLab/Work/GPS/Video/Naveed/GPS_20_ThreeFPHoldSRTProbe/20240804/Top/Clips/Naveed_20240804_HoldTrial145_TopView.avi\n",
      "Loading  D:/YuLab/Work/GPS/Video/Naveed/GPS_20_ThreeFPHoldSRTProbe/20240804/Top/Clips/Naveed_20240804_HoldTrial145_TopView.avi\n",
      "Duration of video [s]:  8.04 , recorded with  25.0 fps!\n",
      "Overall # of frames:  201  found with (before cropping) frame dimensions:  1280 1331\n",
      "Starting to extract posture\n",
      "Cropping based on the x1 = 0 x2 = 1280 y1 = 0 y2 = 1024. You can adjust the cropping coordinates in the config.yaml file.\n"
     ]
    },
    {
     "name": "stderr",
     "output_type": "stream",
     "text": [
      "100%|██████████| 201/201 [00:08<00:00, 23.10it/s]\n"
     ]
    },
    {
     "name": "stdout",
     "output_type": "stream",
     "text": [
      "Saving results in D:\\YuLab\\Work\\GPS\\Video\\Naveed\\GPS_20_ThreeFPHoldSRTProbe\\20240804\\Top\\Clips...\n",
      "Saving csv poses!\n",
      "Starting to analyze %  D:/YuLab/Work/GPS/Video/Naveed/GPS_20_ThreeFPHoldSRTProbe/20240804/Top/Clips/Naveed_20240804_HoldTrial146_TopView.avi\n",
      "Loading  D:/YuLab/Work/GPS/Video/Naveed/GPS_20_ThreeFPHoldSRTProbe/20240804/Top/Clips/Naveed_20240804_HoldTrial146_TopView.avi\n",
      "Duration of video [s]:  8.0 , recorded with  25.0 fps!\n",
      "Overall # of frames:  200  found with (before cropping) frame dimensions:  1280 1331\n",
      "Starting to extract posture\n",
      "Cropping based on the x1 = 0 x2 = 1280 y1 = 0 y2 = 1024. You can adjust the cropping coordinates in the config.yaml file.\n"
     ]
    },
    {
     "name": "stderr",
     "output_type": "stream",
     "text": [
      "100%|██████████| 200/200 [00:08<00:00, 23.72it/s]\n"
     ]
    },
    {
     "name": "stdout",
     "output_type": "stream",
     "text": [
      "Saving results in D:\\YuLab\\Work\\GPS\\Video\\Naveed\\GPS_20_ThreeFPHoldSRTProbe\\20240804\\Top\\Clips...\n",
      "Saving csv poses!\n",
      "Starting to analyze %  D:/YuLab/Work/GPS/Video/Naveed/GPS_20_ThreeFPHoldSRTProbe/20240804/Top/Clips/Naveed_20240804_HoldTrial147_TopView.avi\n",
      "Loading  D:/YuLab/Work/GPS/Video/Naveed/GPS_20_ThreeFPHoldSRTProbe/20240804/Top/Clips/Naveed_20240804_HoldTrial147_TopView.avi\n",
      "Duration of video [s]:  8.04 , recorded with  25.0 fps!\n",
      "Overall # of frames:  201  found with (before cropping) frame dimensions:  1280 1331\n",
      "Starting to extract posture\n",
      "Cropping based on the x1 = 0 x2 = 1280 y1 = 0 y2 = 1024. You can adjust the cropping coordinates in the config.yaml file.\n"
     ]
    },
    {
     "name": "stderr",
     "output_type": "stream",
     "text": [
      "100%|██████████| 201/201 [00:08<00:00, 23.06it/s]\n"
     ]
    },
    {
     "name": "stdout",
     "output_type": "stream",
     "text": [
      "Saving results in D:\\YuLab\\Work\\GPS\\Video\\Naveed\\GPS_20_ThreeFPHoldSRTProbe\\20240804\\Top\\Clips...\n",
      "Saving csv poses!\n",
      "Starting to analyze %  D:/YuLab/Work/GPS/Video/Naveed/GPS_20_ThreeFPHoldSRTProbe/20240804/Top/Clips/Naveed_20240804_HoldTrial148_TopView.avi\n",
      "Loading  D:/YuLab/Work/GPS/Video/Naveed/GPS_20_ThreeFPHoldSRTProbe/20240804/Top/Clips/Naveed_20240804_HoldTrial148_TopView.avi\n",
      "Duration of video [s]:  8.04 , recorded with  25.0 fps!\n",
      "Overall # of frames:  201  found with (before cropping) frame dimensions:  1280 1331\n",
      "Starting to extract posture\n",
      "Cropping based on the x1 = 0 x2 = 1280 y1 = 0 y2 = 1024. You can adjust the cropping coordinates in the config.yaml file.\n"
     ]
    },
    {
     "name": "stderr",
     "output_type": "stream",
     "text": [
      "100%|██████████| 201/201 [00:08<00:00, 23.05it/s]\n"
     ]
    },
    {
     "name": "stdout",
     "output_type": "stream",
     "text": [
      "Saving results in D:\\YuLab\\Work\\GPS\\Video\\Naveed\\GPS_20_ThreeFPHoldSRTProbe\\20240804\\Top\\Clips...\n",
      "Saving csv poses!\n",
      "Starting to analyze %  D:/YuLab/Work/GPS/Video/Naveed/GPS_20_ThreeFPHoldSRTProbe/20240804/Top/Clips/Naveed_20240804_HoldTrial149_TopView.avi\n",
      "Loading  D:/YuLab/Work/GPS/Video/Naveed/GPS_20_ThreeFPHoldSRTProbe/20240804/Top/Clips/Naveed_20240804_HoldTrial149_TopView.avi\n",
      "Duration of video [s]:  8.04 , recorded with  25.0 fps!\n",
      "Overall # of frames:  201  found with (before cropping) frame dimensions:  1280 1331\n",
      "Starting to extract posture\n",
      "Cropping based on the x1 = 0 x2 = 1280 y1 = 0 y2 = 1024. You can adjust the cropping coordinates in the config.yaml file.\n"
     ]
    },
    {
     "name": "stderr",
     "output_type": "stream",
     "text": [
      "100%|██████████| 201/201 [00:08<00:00, 23.05it/s]\n"
     ]
    },
    {
     "name": "stdout",
     "output_type": "stream",
     "text": [
      "Saving results in D:\\YuLab\\Work\\GPS\\Video\\Naveed\\GPS_20_ThreeFPHoldSRTProbe\\20240804\\Top\\Clips...\n",
      "Saving csv poses!\n",
      "Starting to analyze %  D:/YuLab/Work/GPS/Video/Naveed/GPS_20_ThreeFPHoldSRTProbe/20240804/Top/Clips/Naveed_20240804_HoldTrial150_TopView.avi\n",
      "Loading  D:/YuLab/Work/GPS/Video/Naveed/GPS_20_ThreeFPHoldSRTProbe/20240804/Top/Clips/Naveed_20240804_HoldTrial150_TopView.avi\n",
      "Duration of video [s]:  8.0 , recorded with  25.0 fps!\n",
      "Overall # of frames:  200  found with (before cropping) frame dimensions:  1280 1331\n",
      "Starting to extract posture\n",
      "Cropping based on the x1 = 0 x2 = 1280 y1 = 0 y2 = 1024. You can adjust the cropping coordinates in the config.yaml file.\n"
     ]
    },
    {
     "name": "stderr",
     "output_type": "stream",
     "text": [
      "100%|██████████| 200/200 [00:08<00:00, 23.66it/s]\n"
     ]
    },
    {
     "name": "stdout",
     "output_type": "stream",
     "text": [
      "Saving results in D:\\YuLab\\Work\\GPS\\Video\\Naveed\\GPS_20_ThreeFPHoldSRTProbe\\20240804\\Top\\Clips...\n",
      "Saving csv poses!\n",
      "Starting to analyze %  D:/YuLab/Work/GPS/Video/Naveed/GPS_20_ThreeFPHoldSRTProbe/20240804/Top/Clips/Naveed_20240804_HoldTrial151_TopView.avi\n",
      "Loading  D:/YuLab/Work/GPS/Video/Naveed/GPS_20_ThreeFPHoldSRTProbe/20240804/Top/Clips/Naveed_20240804_HoldTrial151_TopView.avi\n",
      "Duration of video [s]:  8.0 , recorded with  25.0 fps!\n",
      "Overall # of frames:  200  found with (before cropping) frame dimensions:  1280 1331\n",
      "Starting to extract posture\n",
      "Cropping based on the x1 = 0 x2 = 1280 y1 = 0 y2 = 1024. You can adjust the cropping coordinates in the config.yaml file.\n"
     ]
    },
    {
     "name": "stderr",
     "output_type": "stream",
     "text": [
      "100%|██████████| 200/200 [00:08<00:00, 23.67it/s]\n"
     ]
    },
    {
     "name": "stdout",
     "output_type": "stream",
     "text": [
      "Saving results in D:\\YuLab\\Work\\GPS\\Video\\Naveed\\GPS_20_ThreeFPHoldSRTProbe\\20240804\\Top\\Clips...\n",
      "Saving csv poses!\n",
      "Starting to analyze %  D:/YuLab/Work/GPS/Video/Naveed/GPS_20_ThreeFPHoldSRTProbe/20240804/Top/Clips/Naveed_20240804_HoldTrial152_TopView.avi\n",
      "Loading  D:/YuLab/Work/GPS/Video/Naveed/GPS_20_ThreeFPHoldSRTProbe/20240804/Top/Clips/Naveed_20240804_HoldTrial152_TopView.avi\n",
      "Duration of video [s]:  8.04 , recorded with  25.0 fps!\n",
      "Overall # of frames:  201  found with (before cropping) frame dimensions:  1280 1331\n",
      "Starting to extract posture\n",
      "Cropping based on the x1 = 0 x2 = 1280 y1 = 0 y2 = 1024. You can adjust the cropping coordinates in the config.yaml file.\n"
     ]
    },
    {
     "name": "stderr",
     "output_type": "stream",
     "text": [
      "100%|██████████| 201/201 [00:08<00:00, 23.02it/s]\n"
     ]
    },
    {
     "name": "stdout",
     "output_type": "stream",
     "text": [
      "Saving results in D:\\YuLab\\Work\\GPS\\Video\\Naveed\\GPS_20_ThreeFPHoldSRTProbe\\20240804\\Top\\Clips...\n",
      "Saving csv poses!\n",
      "Starting to analyze %  D:/YuLab/Work/GPS/Video/Naveed/GPS_20_ThreeFPHoldSRTProbe/20240804/Top/Clips/Naveed_20240804_HoldTrial153_TopView.avi\n",
      "Loading  D:/YuLab/Work/GPS/Video/Naveed/GPS_20_ThreeFPHoldSRTProbe/20240804/Top/Clips/Naveed_20240804_HoldTrial153_TopView.avi\n",
      "Duration of video [s]:  8.0 , recorded with  25.0 fps!\n",
      "Overall # of frames:  200  found with (before cropping) frame dimensions:  1280 1331\n",
      "Starting to extract posture\n",
      "Cropping based on the x1 = 0 x2 = 1280 y1 = 0 y2 = 1024. You can adjust the cropping coordinates in the config.yaml file.\n"
     ]
    },
    {
     "name": "stderr",
     "output_type": "stream",
     "text": [
      "100%|██████████| 200/200 [00:08<00:00, 23.64it/s]\n"
     ]
    },
    {
     "name": "stdout",
     "output_type": "stream",
     "text": [
      "Saving results in D:\\YuLab\\Work\\GPS\\Video\\Naveed\\GPS_20_ThreeFPHoldSRTProbe\\20240804\\Top\\Clips...\n",
      "Saving csv poses!\n",
      "Starting to analyze %  D:/YuLab/Work/GPS/Video/Naveed/GPS_20_ThreeFPHoldSRTProbe/20240804/Top/Clips/Naveed_20240804_HoldTrial154_TopView.avi\n",
      "Loading  D:/YuLab/Work/GPS/Video/Naveed/GPS_20_ThreeFPHoldSRTProbe/20240804/Top/Clips/Naveed_20240804_HoldTrial154_TopView.avi\n",
      "Duration of video [s]:  8.04 , recorded with  25.0 fps!\n",
      "Overall # of frames:  201  found with (before cropping) frame dimensions:  1280 1331\n",
      "Starting to extract posture\n",
      "Cropping based on the x1 = 0 x2 = 1280 y1 = 0 y2 = 1024. You can adjust the cropping coordinates in the config.yaml file.\n"
     ]
    },
    {
     "name": "stderr",
     "output_type": "stream",
     "text": [
      "100%|██████████| 201/201 [00:08<00:00, 22.97it/s]\n"
     ]
    },
    {
     "name": "stdout",
     "output_type": "stream",
     "text": [
      "Saving results in D:\\YuLab\\Work\\GPS\\Video\\Naveed\\GPS_20_ThreeFPHoldSRTProbe\\20240804\\Top\\Clips...\n",
      "Saving csv poses!\n",
      "Starting to analyze %  D:/YuLab/Work/GPS/Video/Naveed/GPS_20_ThreeFPHoldSRTProbe/20240804/Top/Clips/Naveed_20240804_HoldTrial155_TopView.avi\n",
      "Loading  D:/YuLab/Work/GPS/Video/Naveed/GPS_20_ThreeFPHoldSRTProbe/20240804/Top/Clips/Naveed_20240804_HoldTrial155_TopView.avi\n",
      "Duration of video [s]:  8.04 , recorded with  25.0 fps!\n",
      "Overall # of frames:  201  found with (before cropping) frame dimensions:  1280 1331\n",
      "Starting to extract posture\n",
      "Cropping based on the x1 = 0 x2 = 1280 y1 = 0 y2 = 1024. You can adjust the cropping coordinates in the config.yaml file.\n"
     ]
    },
    {
     "name": "stderr",
     "output_type": "stream",
     "text": [
      "100%|██████████| 201/201 [00:08<00:00, 22.98it/s]\n"
     ]
    },
    {
     "name": "stdout",
     "output_type": "stream",
     "text": [
      "Saving results in D:\\YuLab\\Work\\GPS\\Video\\Naveed\\GPS_20_ThreeFPHoldSRTProbe\\20240804\\Top\\Clips...\n",
      "Saving csv poses!\n",
      "Starting to analyze %  D:/YuLab/Work/GPS/Video/Naveed/GPS_20_ThreeFPHoldSRTProbe/20240804/Top/Clips/Naveed_20240804_HoldTrial156_TopView.avi\n",
      "Loading  D:/YuLab/Work/GPS/Video/Naveed/GPS_20_ThreeFPHoldSRTProbe/20240804/Top/Clips/Naveed_20240804_HoldTrial156_TopView.avi\n",
      "Duration of video [s]:  8.04 , recorded with  25.0 fps!\n",
      "Overall # of frames:  201  found with (before cropping) frame dimensions:  1280 1331\n",
      "Starting to extract posture\n",
      "Cropping based on the x1 = 0 x2 = 1280 y1 = 0 y2 = 1024. You can adjust the cropping coordinates in the config.yaml file.\n"
     ]
    },
    {
     "name": "stderr",
     "output_type": "stream",
     "text": [
      "100%|██████████| 201/201 [00:08<00:00, 23.00it/s]\n"
     ]
    },
    {
     "name": "stdout",
     "output_type": "stream",
     "text": [
      "Saving results in D:\\YuLab\\Work\\GPS\\Video\\Naveed\\GPS_20_ThreeFPHoldSRTProbe\\20240804\\Top\\Clips...\n",
      "Saving csv poses!\n",
      "Starting to analyze %  D:/YuLab/Work/GPS/Video/Naveed/GPS_20_ThreeFPHoldSRTProbe/20240804/Top/Clips/Naveed_20240804_HoldTrial157_TopView.avi\n",
      "Loading  D:/YuLab/Work/GPS/Video/Naveed/GPS_20_ThreeFPHoldSRTProbe/20240804/Top/Clips/Naveed_20240804_HoldTrial157_TopView.avi\n",
      "Duration of video [s]:  8.0 , recorded with  25.0 fps!\n",
      "Overall # of frames:  200  found with (before cropping) frame dimensions:  1280 1331\n",
      "Starting to extract posture\n",
      "Cropping based on the x1 = 0 x2 = 1280 y1 = 0 y2 = 1024. You can adjust the cropping coordinates in the config.yaml file.\n"
     ]
    },
    {
     "name": "stderr",
     "output_type": "stream",
     "text": [
      "100%|██████████| 200/200 [00:08<00:00, 23.62it/s]\n"
     ]
    },
    {
     "name": "stdout",
     "output_type": "stream",
     "text": [
      "Saving results in D:\\YuLab\\Work\\GPS\\Video\\Naveed\\GPS_20_ThreeFPHoldSRTProbe\\20240804\\Top\\Clips...\n",
      "Saving csv poses!\n",
      "Starting to analyze %  D:/YuLab/Work/GPS/Video/Naveed/GPS_20_ThreeFPHoldSRTProbe/20240804/Top/Clips/Naveed_20240804_HoldTrial158_TopView.avi\n",
      "Loading  D:/YuLab/Work/GPS/Video/Naveed/GPS_20_ThreeFPHoldSRTProbe/20240804/Top/Clips/Naveed_20240804_HoldTrial158_TopView.avi\n",
      "Duration of video [s]:  8.0 , recorded with  25.0 fps!\n",
      "Overall # of frames:  200  found with (before cropping) frame dimensions:  1280 1331\n",
      "Starting to extract posture\n",
      "Cropping based on the x1 = 0 x2 = 1280 y1 = 0 y2 = 1024. You can adjust the cropping coordinates in the config.yaml file.\n"
     ]
    },
    {
     "name": "stderr",
     "output_type": "stream",
     "text": [
      "100%|██████████| 200/200 [00:08<00:00, 23.65it/s]\n"
     ]
    },
    {
     "name": "stdout",
     "output_type": "stream",
     "text": [
      "Saving results in D:\\YuLab\\Work\\GPS\\Video\\Naveed\\GPS_20_ThreeFPHoldSRTProbe\\20240804\\Top\\Clips...\n",
      "Saving csv poses!\n",
      "Starting to analyze %  D:/YuLab/Work/GPS/Video/Naveed/GPS_20_ThreeFPHoldSRTProbe/20240804/Top/Clips/Naveed_20240804_HoldTrial159_TopView.avi\n",
      "Loading  D:/YuLab/Work/GPS/Video/Naveed/GPS_20_ThreeFPHoldSRTProbe/20240804/Top/Clips/Naveed_20240804_HoldTrial159_TopView.avi\n",
      "Duration of video [s]:  8.04 , recorded with  25.0 fps!\n",
      "Overall # of frames:  201  found with (before cropping) frame dimensions:  1280 1331\n",
      "Starting to extract posture\n",
      "Cropping based on the x1 = 0 x2 = 1280 y1 = 0 y2 = 1024. You can adjust the cropping coordinates in the config.yaml file.\n"
     ]
    },
    {
     "name": "stderr",
     "output_type": "stream",
     "text": [
      "100%|██████████| 201/201 [00:08<00:00, 23.03it/s]\n"
     ]
    },
    {
     "name": "stdout",
     "output_type": "stream",
     "text": [
      "Saving results in D:\\YuLab\\Work\\GPS\\Video\\Naveed\\GPS_20_ThreeFPHoldSRTProbe\\20240804\\Top\\Clips...\n",
      "Saving csv poses!\n",
      "Starting to analyze %  D:/YuLab/Work/GPS/Video/Naveed/GPS_20_ThreeFPHoldSRTProbe/20240804/Top/Clips/Naveed_20240804_HoldTrial160_TopView.avi\n",
      "Loading  D:/YuLab/Work/GPS/Video/Naveed/GPS_20_ThreeFPHoldSRTProbe/20240804/Top/Clips/Naveed_20240804_HoldTrial160_TopView.avi\n",
      "Duration of video [s]:  8.04 , recorded with  25.0 fps!\n",
      "Overall # of frames:  201  found with (before cropping) frame dimensions:  1280 1331\n",
      "Starting to extract posture\n",
      "Cropping based on the x1 = 0 x2 = 1280 y1 = 0 y2 = 1024. You can adjust the cropping coordinates in the config.yaml file.\n"
     ]
    },
    {
     "name": "stderr",
     "output_type": "stream",
     "text": [
      "100%|██████████| 201/201 [00:08<00:00, 23.05it/s]\n"
     ]
    },
    {
     "name": "stdout",
     "output_type": "stream",
     "text": [
      "Saving results in D:\\YuLab\\Work\\GPS\\Video\\Naveed\\GPS_20_ThreeFPHoldSRTProbe\\20240804\\Top\\Clips...\n",
      "Saving csv poses!\n",
      "Starting to analyze %  D:/YuLab/Work/GPS/Video/Naveed/GPS_20_ThreeFPHoldSRTProbe/20240804/Top/Clips/Naveed_20240804_HoldTrial161_TopView.avi\n",
      "Loading  D:/YuLab/Work/GPS/Video/Naveed/GPS_20_ThreeFPHoldSRTProbe/20240804/Top/Clips/Naveed_20240804_HoldTrial161_TopView.avi\n",
      "Duration of video [s]:  8.04 , recorded with  25.0 fps!\n",
      "Overall # of frames:  201  found with (before cropping) frame dimensions:  1280 1331\n",
      "Starting to extract posture\n",
      "Cropping based on the x1 = 0 x2 = 1280 y1 = 0 y2 = 1024. You can adjust the cropping coordinates in the config.yaml file.\n"
     ]
    },
    {
     "name": "stderr",
     "output_type": "stream",
     "text": [
      "100%|██████████| 201/201 [00:08<00:00, 23.09it/s]\n"
     ]
    },
    {
     "name": "stdout",
     "output_type": "stream",
     "text": [
      "Saving results in D:\\YuLab\\Work\\GPS\\Video\\Naveed\\GPS_20_ThreeFPHoldSRTProbe\\20240804\\Top\\Clips...\n",
      "Saving csv poses!\n",
      "Starting to analyze %  D:/YuLab/Work/GPS/Video/Naveed/GPS_20_ThreeFPHoldSRTProbe/20240804/Top/Clips/Naveed_20240804_HoldTrial162_TopView.avi\n",
      "Loading  D:/YuLab/Work/GPS/Video/Naveed/GPS_20_ThreeFPHoldSRTProbe/20240804/Top/Clips/Naveed_20240804_HoldTrial162_TopView.avi\n",
      "Duration of video [s]:  8.0 , recorded with  25.0 fps!\n",
      "Overall # of frames:  200  found with (before cropping) frame dimensions:  1280 1331\n",
      "Starting to extract posture\n",
      "Cropping based on the x1 = 0 x2 = 1280 y1 = 0 y2 = 1024. You can adjust the cropping coordinates in the config.yaml file.\n"
     ]
    },
    {
     "name": "stderr",
     "output_type": "stream",
     "text": [
      "100%|██████████| 200/200 [00:08<00:00, 23.74it/s]\n"
     ]
    },
    {
     "name": "stdout",
     "output_type": "stream",
     "text": [
      "Saving results in D:\\YuLab\\Work\\GPS\\Video\\Naveed\\GPS_20_ThreeFPHoldSRTProbe\\20240804\\Top\\Clips...\n",
      "Saving csv poses!\n",
      "Starting to analyze %  D:/YuLab/Work/GPS/Video/Naveed/GPS_20_ThreeFPHoldSRTProbe/20240804/Top/Clips/Naveed_20240804_HoldTrial163_TopView.avi\n",
      "Loading  D:/YuLab/Work/GPS/Video/Naveed/GPS_20_ThreeFPHoldSRTProbe/20240804/Top/Clips/Naveed_20240804_HoldTrial163_TopView.avi\n",
      "Duration of video [s]:  8.04 , recorded with  25.0 fps!\n",
      "Overall # of frames:  201  found with (before cropping) frame dimensions:  1280 1331\n",
      "Starting to extract posture\n",
      "Cropping based on the x1 = 0 x2 = 1280 y1 = 0 y2 = 1024. You can adjust the cropping coordinates in the config.yaml file.\n"
     ]
    },
    {
     "name": "stderr",
     "output_type": "stream",
     "text": [
      "100%|██████████| 201/201 [00:08<00:00, 23.04it/s]\n"
     ]
    },
    {
     "name": "stdout",
     "output_type": "stream",
     "text": [
      "Saving results in D:\\YuLab\\Work\\GPS\\Video\\Naveed\\GPS_20_ThreeFPHoldSRTProbe\\20240804\\Top\\Clips...\n",
      "Saving csv poses!\n",
      "Starting to analyze %  D:/YuLab/Work/GPS/Video/Naveed/GPS_20_ThreeFPHoldSRTProbe/20240804/Top/Clips/Naveed_20240804_HoldTrial164_TopView.avi\n",
      "Loading  D:/YuLab/Work/GPS/Video/Naveed/GPS_20_ThreeFPHoldSRTProbe/20240804/Top/Clips/Naveed_20240804_HoldTrial164_TopView.avi\n",
      "Duration of video [s]:  8.04 , recorded with  25.0 fps!\n",
      "Overall # of frames:  201  found with (before cropping) frame dimensions:  1280 1331\n",
      "Starting to extract posture\n",
      "Cropping based on the x1 = 0 x2 = 1280 y1 = 0 y2 = 1024. You can adjust the cropping coordinates in the config.yaml file.\n"
     ]
    },
    {
     "name": "stderr",
     "output_type": "stream",
     "text": [
      "100%|██████████| 201/201 [00:08<00:00, 23.07it/s]\n"
     ]
    },
    {
     "name": "stdout",
     "output_type": "stream",
     "text": [
      "Saving results in D:\\YuLab\\Work\\GPS\\Video\\Naveed\\GPS_20_ThreeFPHoldSRTProbe\\20240804\\Top\\Clips...\n",
      "Saving csv poses!\n",
      "Starting to analyze %  D:/YuLab/Work/GPS/Video/Naveed/GPS_20_ThreeFPHoldSRTProbe/20240804/Top/Clips/Naveed_20240804_HoldTrial165_TopView.avi\n",
      "Loading  D:/YuLab/Work/GPS/Video/Naveed/GPS_20_ThreeFPHoldSRTProbe/20240804/Top/Clips/Naveed_20240804_HoldTrial165_TopView.avi\n",
      "Duration of video [s]:  8.04 , recorded with  25.0 fps!\n",
      "Overall # of frames:  201  found with (before cropping) frame dimensions:  1280 1331\n",
      "Starting to extract posture\n",
      "Cropping based on the x1 = 0 x2 = 1280 y1 = 0 y2 = 1024. You can adjust the cropping coordinates in the config.yaml file.\n"
     ]
    },
    {
     "name": "stderr",
     "output_type": "stream",
     "text": [
      "100%|██████████| 201/201 [00:08<00:00, 23.07it/s]\n"
     ]
    },
    {
     "name": "stdout",
     "output_type": "stream",
     "text": [
      "Saving results in D:\\YuLab\\Work\\GPS\\Video\\Naveed\\GPS_20_ThreeFPHoldSRTProbe\\20240804\\Top\\Clips...\n",
      "Saving csv poses!\n",
      "Starting to analyze %  D:/YuLab/Work/GPS/Video/Naveed/GPS_20_ThreeFPHoldSRTProbe/20240804/Top/Clips/Naveed_20240804_HoldTrial166_TopView.avi\n",
      "Loading  D:/YuLab/Work/GPS/Video/Naveed/GPS_20_ThreeFPHoldSRTProbe/20240804/Top/Clips/Naveed_20240804_HoldTrial166_TopView.avi\n",
      "Duration of video [s]:  8.0 , recorded with  25.0 fps!\n",
      "Overall # of frames:  200  found with (before cropping) frame dimensions:  1280 1331\n",
      "Starting to extract posture\n",
      "Cropping based on the x1 = 0 x2 = 1280 y1 = 0 y2 = 1024. You can adjust the cropping coordinates in the config.yaml file.\n"
     ]
    },
    {
     "name": "stderr",
     "output_type": "stream",
     "text": [
      "100%|██████████| 200/200 [00:08<00:00, 23.66it/s]\n"
     ]
    },
    {
     "name": "stdout",
     "output_type": "stream",
     "text": [
      "Saving results in D:\\YuLab\\Work\\GPS\\Video\\Naveed\\GPS_20_ThreeFPHoldSRTProbe\\20240804\\Top\\Clips...\n",
      "Saving csv poses!\n",
      "Starting to analyze %  D:/YuLab/Work/GPS/Video/Naveed/GPS_20_ThreeFPHoldSRTProbe/20240804/Top/Clips/Naveed_20240804_HoldTrial167_TopView.avi\n",
      "Loading  D:/YuLab/Work/GPS/Video/Naveed/GPS_20_ThreeFPHoldSRTProbe/20240804/Top/Clips/Naveed_20240804_HoldTrial167_TopView.avi\n",
      "Duration of video [s]:  8.0 , recorded with  25.0 fps!\n",
      "Overall # of frames:  200  found with (before cropping) frame dimensions:  1280 1331\n",
      "Starting to extract posture\n",
      "Cropping based on the x1 = 0 x2 = 1280 y1 = 0 y2 = 1024. You can adjust the cropping coordinates in the config.yaml file.\n"
     ]
    },
    {
     "name": "stderr",
     "output_type": "stream",
     "text": [
      "100%|██████████| 200/200 [00:08<00:00, 23.60it/s]\n"
     ]
    },
    {
     "name": "stdout",
     "output_type": "stream",
     "text": [
      "Saving results in D:\\YuLab\\Work\\GPS\\Video\\Naveed\\GPS_20_ThreeFPHoldSRTProbe\\20240804\\Top\\Clips...\n",
      "Saving csv poses!\n",
      "Starting to analyze %  D:/YuLab/Work/GPS/Video/Naveed/GPS_20_ThreeFPHoldSRTProbe/20240804/Top/Clips/Naveed_20240804_HoldTrial168_TopView.avi\n",
      "Loading  D:/YuLab/Work/GPS/Video/Naveed/GPS_20_ThreeFPHoldSRTProbe/20240804/Top/Clips/Naveed_20240804_HoldTrial168_TopView.avi\n",
      "Duration of video [s]:  8.04 , recorded with  25.0 fps!\n",
      "Overall # of frames:  201  found with (before cropping) frame dimensions:  1280 1331\n",
      "Starting to extract posture\n",
      "Cropping based on the x1 = 0 x2 = 1280 y1 = 0 y2 = 1024. You can adjust the cropping coordinates in the config.yaml file.\n"
     ]
    },
    {
     "name": "stderr",
     "output_type": "stream",
     "text": [
      "100%|██████████| 201/201 [00:08<00:00, 22.97it/s]\n"
     ]
    },
    {
     "name": "stdout",
     "output_type": "stream",
     "text": [
      "Saving results in D:\\YuLab\\Work\\GPS\\Video\\Naveed\\GPS_20_ThreeFPHoldSRTProbe\\20240804\\Top\\Clips...\n",
      "Saving csv poses!\n",
      "Starting to analyze %  D:/YuLab/Work/GPS/Video/Naveed/GPS_20_ThreeFPHoldSRTProbe/20240804/Top/Clips/Naveed_20240804_HoldTrial169_TopView.avi\n",
      "Loading  D:/YuLab/Work/GPS/Video/Naveed/GPS_20_ThreeFPHoldSRTProbe/20240804/Top/Clips/Naveed_20240804_HoldTrial169_TopView.avi\n",
      "Duration of video [s]:  8.04 , recorded with  25.0 fps!\n",
      "Overall # of frames:  201  found with (before cropping) frame dimensions:  1280 1331\n",
      "Starting to extract posture\n",
      "Cropping based on the x1 = 0 x2 = 1280 y1 = 0 y2 = 1024. You can adjust the cropping coordinates in the config.yaml file.\n"
     ]
    },
    {
     "name": "stderr",
     "output_type": "stream",
     "text": [
      "100%|██████████| 201/201 [00:08<00:00, 23.03it/s]\n"
     ]
    },
    {
     "name": "stdout",
     "output_type": "stream",
     "text": [
      "Saving results in D:\\YuLab\\Work\\GPS\\Video\\Naveed\\GPS_20_ThreeFPHoldSRTProbe\\20240804\\Top\\Clips...\n",
      "Saving csv poses!\n",
      "Starting to analyze %  D:/YuLab/Work/GPS/Video/Naveed/GPS_20_ThreeFPHoldSRTProbe/20240814/Top/Clips/Naveed_20240814_HoldTrial014_TopView.avi\n",
      "Loading  D:/YuLab/Work/GPS/Video/Naveed/GPS_20_ThreeFPHoldSRTProbe/20240814/Top/Clips/Naveed_20240814_HoldTrial014_TopView.avi\n",
      "Duration of video [s]:  8.04 , recorded with  25.0 fps!\n",
      "Overall # of frames:  201  found with (before cropping) frame dimensions:  1280 1331\n",
      "Starting to extract posture\n",
      "Cropping based on the x1 = 0 x2 = 1280 y1 = 0 y2 = 1024. You can adjust the cropping coordinates in the config.yaml file.\n"
     ]
    },
    {
     "name": "stderr",
     "output_type": "stream",
     "text": [
      "100%|██████████| 201/201 [00:08<00:00, 23.07it/s]\n"
     ]
    },
    {
     "name": "stdout",
     "output_type": "stream",
     "text": [
      "Saving results in D:\\YuLab\\Work\\GPS\\Video\\Naveed\\GPS_20_ThreeFPHoldSRTProbe\\20240814\\Top\\Clips...\n",
      "Saving csv poses!\n",
      "Starting to analyze %  D:/YuLab/Work/GPS/Video/Naveed/GPS_20_ThreeFPHoldSRTProbe/20240814/Top/Clips/Naveed_20240814_HoldTrial015_TopView.avi\n",
      "Loading  D:/YuLab/Work/GPS/Video/Naveed/GPS_20_ThreeFPHoldSRTProbe/20240814/Top/Clips/Naveed_20240814_HoldTrial015_TopView.avi\n",
      "Duration of video [s]:  8.04 , recorded with  25.0 fps!\n",
      "Overall # of frames:  201  found with (before cropping) frame dimensions:  1280 1331\n",
      "Starting to extract posture\n",
      "Cropping based on the x1 = 0 x2 = 1280 y1 = 0 y2 = 1024. You can adjust the cropping coordinates in the config.yaml file.\n"
     ]
    },
    {
     "name": "stderr",
     "output_type": "stream",
     "text": [
      "100%|██████████| 201/201 [00:08<00:00, 23.00it/s]\n"
     ]
    },
    {
     "name": "stdout",
     "output_type": "stream",
     "text": [
      "Saving results in D:\\YuLab\\Work\\GPS\\Video\\Naveed\\GPS_20_ThreeFPHoldSRTProbe\\20240814\\Top\\Clips...\n",
      "Saving csv poses!\n",
      "Starting to analyze %  D:/YuLab/Work/GPS/Video/Naveed/GPS_20_ThreeFPHoldSRTProbe/20240814/Top/Clips/Naveed_20240814_HoldTrial016_TopView.avi\n",
      "Loading  D:/YuLab/Work/GPS/Video/Naveed/GPS_20_ThreeFPHoldSRTProbe/20240814/Top/Clips/Naveed_20240814_HoldTrial016_TopView.avi\n",
      "Duration of video [s]:  8.04 , recorded with  25.0 fps!\n",
      "Overall # of frames:  201  found with (before cropping) frame dimensions:  1280 1331\n",
      "Starting to extract posture\n",
      "Cropping based on the x1 = 0 x2 = 1280 y1 = 0 y2 = 1024. You can adjust the cropping coordinates in the config.yaml file.\n"
     ]
    },
    {
     "name": "stderr",
     "output_type": "stream",
     "text": [
      "100%|██████████| 201/201 [00:08<00:00, 22.99it/s]\n"
     ]
    },
    {
     "name": "stdout",
     "output_type": "stream",
     "text": [
      "Saving results in D:\\YuLab\\Work\\GPS\\Video\\Naveed\\GPS_20_ThreeFPHoldSRTProbe\\20240814\\Top\\Clips...\n",
      "Saving csv poses!\n",
      "Starting to analyze %  D:/YuLab/Work/GPS/Video/Naveed/GPS_20_ThreeFPHoldSRTProbe/20240814/Top/Clips/Naveed_20240814_HoldTrial017_TopView.avi\n",
      "Loading  D:/YuLab/Work/GPS/Video/Naveed/GPS_20_ThreeFPHoldSRTProbe/20240814/Top/Clips/Naveed_20240814_HoldTrial017_TopView.avi\n",
      "Duration of video [s]:  8.04 , recorded with  25.0 fps!\n",
      "Overall # of frames:  201  found with (before cropping) frame dimensions:  1280 1331\n",
      "Starting to extract posture\n",
      "Cropping based on the x1 = 0 x2 = 1280 y1 = 0 y2 = 1024. You can adjust the cropping coordinates in the config.yaml file.\n"
     ]
    },
    {
     "name": "stderr",
     "output_type": "stream",
     "text": [
      "100%|██████████| 201/201 [00:08<00:00, 23.04it/s]\n"
     ]
    },
    {
     "name": "stdout",
     "output_type": "stream",
     "text": [
      "Saving results in D:\\YuLab\\Work\\GPS\\Video\\Naveed\\GPS_20_ThreeFPHoldSRTProbe\\20240814\\Top\\Clips...\n",
      "Saving csv poses!\n",
      "Starting to analyze %  D:/YuLab/Work/GPS/Video/Naveed/GPS_20_ThreeFPHoldSRTProbe/20240814/Top/Clips/Naveed_20240814_HoldTrial018_TopView.avi\n",
      "Loading  D:/YuLab/Work/GPS/Video/Naveed/GPS_20_ThreeFPHoldSRTProbe/20240814/Top/Clips/Naveed_20240814_HoldTrial018_TopView.avi\n",
      "Duration of video [s]:  8.04 , recorded with  25.0 fps!\n",
      "Overall # of frames:  201  found with (before cropping) frame dimensions:  1280 1331\n",
      "Starting to extract posture\n",
      "Cropping based on the x1 = 0 x2 = 1280 y1 = 0 y2 = 1024. You can adjust the cropping coordinates in the config.yaml file.\n"
     ]
    },
    {
     "name": "stderr",
     "output_type": "stream",
     "text": [
      "100%|██████████| 201/201 [00:08<00:00, 23.04it/s]\n"
     ]
    },
    {
     "name": "stdout",
     "output_type": "stream",
     "text": [
      "Saving results in D:\\YuLab\\Work\\GPS\\Video\\Naveed\\GPS_20_ThreeFPHoldSRTProbe\\20240814\\Top\\Clips...\n",
      "Saving csv poses!\n",
      "Starting to analyze %  D:/YuLab/Work/GPS/Video/Naveed/GPS_20_ThreeFPHoldSRTProbe/20240814/Top/Clips/Naveed_20240814_HoldTrial019_TopView.avi\n",
      "Loading  D:/YuLab/Work/GPS/Video/Naveed/GPS_20_ThreeFPHoldSRTProbe/20240814/Top/Clips/Naveed_20240814_HoldTrial019_TopView.avi\n",
      "Duration of video [s]:  8.04 , recorded with  25.0 fps!\n",
      "Overall # of frames:  201  found with (before cropping) frame dimensions:  1280 1331\n",
      "Starting to extract posture\n",
      "Cropping based on the x1 = 0 x2 = 1280 y1 = 0 y2 = 1024. You can adjust the cropping coordinates in the config.yaml file.\n"
     ]
    },
    {
     "name": "stderr",
     "output_type": "stream",
     "text": [
      "100%|██████████| 201/201 [00:08<00:00, 23.08it/s]\n"
     ]
    },
    {
     "name": "stdout",
     "output_type": "stream",
     "text": [
      "Saving results in D:\\YuLab\\Work\\GPS\\Video\\Naveed\\GPS_20_ThreeFPHoldSRTProbe\\20240814\\Top\\Clips...\n",
      "Saving csv poses!\n",
      "Starting to analyze %  D:/YuLab/Work/GPS/Video/Naveed/GPS_20_ThreeFPHoldSRTProbe/20240814/Top/Clips/Naveed_20240814_HoldTrial020_TopView.avi\n",
      "Loading  D:/YuLab/Work/GPS/Video/Naveed/GPS_20_ThreeFPHoldSRTProbe/20240814/Top/Clips/Naveed_20240814_HoldTrial020_TopView.avi\n",
      "Duration of video [s]:  8.04 , recorded with  25.0 fps!\n",
      "Overall # of frames:  201  found with (before cropping) frame dimensions:  1280 1331\n",
      "Starting to extract posture\n",
      "Cropping based on the x1 = 0 x2 = 1280 y1 = 0 y2 = 1024. You can adjust the cropping coordinates in the config.yaml file.\n"
     ]
    },
    {
     "name": "stderr",
     "output_type": "stream",
     "text": [
      "100%|██████████| 201/201 [00:08<00:00, 23.06it/s]\n"
     ]
    },
    {
     "name": "stdout",
     "output_type": "stream",
     "text": [
      "Saving results in D:\\YuLab\\Work\\GPS\\Video\\Naveed\\GPS_20_ThreeFPHoldSRTProbe\\20240814\\Top\\Clips...\n",
      "Saving csv poses!\n",
      "Starting to analyze %  D:/YuLab/Work/GPS/Video/Naveed/GPS_20_ThreeFPHoldSRTProbe/20240814/Top/Clips/Naveed_20240814_HoldTrial021_TopView.avi\n",
      "Loading  D:/YuLab/Work/GPS/Video/Naveed/GPS_20_ThreeFPHoldSRTProbe/20240814/Top/Clips/Naveed_20240814_HoldTrial021_TopView.avi\n",
      "Duration of video [s]:  8.04 , recorded with  25.0 fps!\n",
      "Overall # of frames:  201  found with (before cropping) frame dimensions:  1280 1331\n",
      "Starting to extract posture\n",
      "Cropping based on the x1 = 0 x2 = 1280 y1 = 0 y2 = 1024. You can adjust the cropping coordinates in the config.yaml file.\n"
     ]
    },
    {
     "name": "stderr",
     "output_type": "stream",
     "text": [
      "100%|██████████| 201/201 [00:08<00:00, 23.07it/s]\n"
     ]
    },
    {
     "name": "stdout",
     "output_type": "stream",
     "text": [
      "Saving results in D:\\YuLab\\Work\\GPS\\Video\\Naveed\\GPS_20_ThreeFPHoldSRTProbe\\20240814\\Top\\Clips...\n",
      "Saving csv poses!\n",
      "Starting to analyze %  D:/YuLab/Work/GPS/Video/Naveed/GPS_20_ThreeFPHoldSRTProbe/20240814/Top/Clips/Naveed_20240814_HoldTrial022_TopView.avi\n",
      "Loading  D:/YuLab/Work/GPS/Video/Naveed/GPS_20_ThreeFPHoldSRTProbe/20240814/Top/Clips/Naveed_20240814_HoldTrial022_TopView.avi\n",
      "Duration of video [s]:  8.04 , recorded with  25.0 fps!\n",
      "Overall # of frames:  201  found with (before cropping) frame dimensions:  1280 1331\n",
      "Starting to extract posture\n",
      "Cropping based on the x1 = 0 x2 = 1280 y1 = 0 y2 = 1024. You can adjust the cropping coordinates in the config.yaml file.\n"
     ]
    },
    {
     "name": "stderr",
     "output_type": "stream",
     "text": [
      "100%|██████████| 201/201 [00:08<00:00, 23.04it/s]\n"
     ]
    },
    {
     "name": "stdout",
     "output_type": "stream",
     "text": [
      "Saving results in D:\\YuLab\\Work\\GPS\\Video\\Naveed\\GPS_20_ThreeFPHoldSRTProbe\\20240814\\Top\\Clips...\n",
      "Saving csv poses!\n",
      "Starting to analyze %  D:/YuLab/Work/GPS/Video/Naveed/GPS_20_ThreeFPHoldSRTProbe/20240814/Top/Clips/Naveed_20240814_HoldTrial023_TopView.avi\n",
      "Loading  D:/YuLab/Work/GPS/Video/Naveed/GPS_20_ThreeFPHoldSRTProbe/20240814/Top/Clips/Naveed_20240814_HoldTrial023_TopView.avi\n",
      "Duration of video [s]:  8.04 , recorded with  25.0 fps!\n",
      "Overall # of frames:  201  found with (before cropping) frame dimensions:  1280 1331\n",
      "Starting to extract posture\n",
      "Cropping based on the x1 = 0 x2 = 1280 y1 = 0 y2 = 1024. You can adjust the cropping coordinates in the config.yaml file.\n"
     ]
    },
    {
     "name": "stderr",
     "output_type": "stream",
     "text": [
      "100%|██████████| 201/201 [00:08<00:00, 23.04it/s]\n"
     ]
    },
    {
     "name": "stdout",
     "output_type": "stream",
     "text": [
      "Saving results in D:\\YuLab\\Work\\GPS\\Video\\Naveed\\GPS_20_ThreeFPHoldSRTProbe\\20240814\\Top\\Clips...\n",
      "Saving csv poses!\n",
      "Starting to analyze %  D:/YuLab/Work/GPS/Video/Naveed/GPS_20_ThreeFPHoldSRTProbe/20240814/Top/Clips/Naveed_20240814_HoldTrial024_TopView.avi\n",
      "Loading  D:/YuLab/Work/GPS/Video/Naveed/GPS_20_ThreeFPHoldSRTProbe/20240814/Top/Clips/Naveed_20240814_HoldTrial024_TopView.avi\n",
      "Duration of video [s]:  8.04 , recorded with  25.0 fps!\n",
      "Overall # of frames:  201  found with (before cropping) frame dimensions:  1280 1331\n",
      "Starting to extract posture\n",
      "Cropping based on the x1 = 0 x2 = 1280 y1 = 0 y2 = 1024. You can adjust the cropping coordinates in the config.yaml file.\n"
     ]
    },
    {
     "name": "stderr",
     "output_type": "stream",
     "text": [
      "100%|██████████| 201/201 [00:08<00:00, 23.04it/s]\n"
     ]
    },
    {
     "name": "stdout",
     "output_type": "stream",
     "text": [
      "Saving results in D:\\YuLab\\Work\\GPS\\Video\\Naveed\\GPS_20_ThreeFPHoldSRTProbe\\20240814\\Top\\Clips...\n",
      "Saving csv poses!\n",
      "Starting to analyze %  D:/YuLab/Work/GPS/Video/Naveed/GPS_20_ThreeFPHoldSRTProbe/20240814/Top/Clips/Naveed_20240814_HoldTrial025_TopView.avi\n",
      "Loading  D:/YuLab/Work/GPS/Video/Naveed/GPS_20_ThreeFPHoldSRTProbe/20240814/Top/Clips/Naveed_20240814_HoldTrial025_TopView.avi\n",
      "Duration of video [s]:  8.04 , recorded with  25.0 fps!\n",
      "Overall # of frames:  201  found with (before cropping) frame dimensions:  1280 1331\n",
      "Starting to extract posture\n",
      "Cropping based on the x1 = 0 x2 = 1280 y1 = 0 y2 = 1024. You can adjust the cropping coordinates in the config.yaml file.\n"
     ]
    },
    {
     "name": "stderr",
     "output_type": "stream",
     "text": [
      "100%|██████████| 201/201 [00:08<00:00, 23.09it/s]\n"
     ]
    },
    {
     "name": "stdout",
     "output_type": "stream",
     "text": [
      "Saving results in D:\\YuLab\\Work\\GPS\\Video\\Naveed\\GPS_20_ThreeFPHoldSRTProbe\\20240814\\Top\\Clips...\n",
      "Saving csv poses!\n",
      "Starting to analyze %  D:/YuLab/Work/GPS/Video/Naveed/GPS_20_ThreeFPHoldSRTProbe/20240814/Top/Clips/Naveed_20240814_HoldTrial026_TopView.avi\n",
      "Loading  D:/YuLab/Work/GPS/Video/Naveed/GPS_20_ThreeFPHoldSRTProbe/20240814/Top/Clips/Naveed_20240814_HoldTrial026_TopView.avi\n",
      "Duration of video [s]:  8.04 , recorded with  25.0 fps!\n",
      "Overall # of frames:  201  found with (before cropping) frame dimensions:  1280 1331\n",
      "Starting to extract posture\n",
      "Cropping based on the x1 = 0 x2 = 1280 y1 = 0 y2 = 1024. You can adjust the cropping coordinates in the config.yaml file.\n"
     ]
    },
    {
     "name": "stderr",
     "output_type": "stream",
     "text": [
      "100%|██████████| 201/201 [00:08<00:00, 23.07it/s]\n"
     ]
    },
    {
     "name": "stdout",
     "output_type": "stream",
     "text": [
      "Saving results in D:\\YuLab\\Work\\GPS\\Video\\Naveed\\GPS_20_ThreeFPHoldSRTProbe\\20240814\\Top\\Clips...\n",
      "Saving csv poses!\n",
      "Starting to analyze %  D:/YuLab/Work/GPS/Video/Naveed/GPS_20_ThreeFPHoldSRTProbe/20240814/Top/Clips/Naveed_20240814_HoldTrial027_TopView.avi\n",
      "Loading  D:/YuLab/Work/GPS/Video/Naveed/GPS_20_ThreeFPHoldSRTProbe/20240814/Top/Clips/Naveed_20240814_HoldTrial027_TopView.avi\n",
      "Duration of video [s]:  8.04 , recorded with  25.0 fps!\n",
      "Overall # of frames:  201  found with (before cropping) frame dimensions:  1280 1331\n",
      "Starting to extract posture\n",
      "Cropping based on the x1 = 0 x2 = 1280 y1 = 0 y2 = 1024. You can adjust the cropping coordinates in the config.yaml file.\n"
     ]
    },
    {
     "name": "stderr",
     "output_type": "stream",
     "text": [
      "100%|██████████| 201/201 [00:08<00:00, 23.08it/s]\n"
     ]
    },
    {
     "name": "stdout",
     "output_type": "stream",
     "text": [
      "Saving results in D:\\YuLab\\Work\\GPS\\Video\\Naveed\\GPS_20_ThreeFPHoldSRTProbe\\20240814\\Top\\Clips...\n",
      "Saving csv poses!\n",
      "Starting to analyze %  D:/YuLab/Work/GPS/Video/Naveed/GPS_20_ThreeFPHoldSRTProbe/20240814/Top/Clips/Naveed_20240814_HoldTrial028_TopView.avi\n",
      "Loading  D:/YuLab/Work/GPS/Video/Naveed/GPS_20_ThreeFPHoldSRTProbe/20240814/Top/Clips/Naveed_20240814_HoldTrial028_TopView.avi\n",
      "Duration of video [s]:  8.04 , recorded with  25.0 fps!\n",
      "Overall # of frames:  201  found with (before cropping) frame dimensions:  1280 1331\n",
      "Starting to extract posture\n",
      "Cropping based on the x1 = 0 x2 = 1280 y1 = 0 y2 = 1024. You can adjust the cropping coordinates in the config.yaml file.\n"
     ]
    },
    {
     "name": "stderr",
     "output_type": "stream",
     "text": [
      "100%|██████████| 201/201 [00:08<00:00, 23.07it/s]\n"
     ]
    },
    {
     "name": "stdout",
     "output_type": "stream",
     "text": [
      "Saving results in D:\\YuLab\\Work\\GPS\\Video\\Naveed\\GPS_20_ThreeFPHoldSRTProbe\\20240814\\Top\\Clips...\n",
      "Saving csv poses!\n",
      "Starting to analyze %  D:/YuLab/Work/GPS/Video/Naveed/GPS_20_ThreeFPHoldSRTProbe/20240814/Top/Clips/Naveed_20240814_HoldTrial029_TopView.avi\n",
      "Loading  D:/YuLab/Work/GPS/Video/Naveed/GPS_20_ThreeFPHoldSRTProbe/20240814/Top/Clips/Naveed_20240814_HoldTrial029_TopView.avi\n",
      "Duration of video [s]:  8.04 , recorded with  25.0 fps!\n",
      "Overall # of frames:  201  found with (before cropping) frame dimensions:  1280 1331\n",
      "Starting to extract posture\n",
      "Cropping based on the x1 = 0 x2 = 1280 y1 = 0 y2 = 1024. You can adjust the cropping coordinates in the config.yaml file.\n"
     ]
    },
    {
     "name": "stderr",
     "output_type": "stream",
     "text": [
      "100%|██████████| 201/201 [00:08<00:00, 23.05it/s]\n"
     ]
    },
    {
     "name": "stdout",
     "output_type": "stream",
     "text": [
      "Saving results in D:\\YuLab\\Work\\GPS\\Video\\Naveed\\GPS_20_ThreeFPHoldSRTProbe\\20240814\\Top\\Clips...\n",
      "Saving csv poses!\n",
      "Starting to analyze %  D:/YuLab/Work/GPS/Video/Naveed/GPS_20_ThreeFPHoldSRTProbe/20240814/Top/Clips/Naveed_20240814_HoldTrial030_TopView.avi\n",
      "Loading  D:/YuLab/Work/GPS/Video/Naveed/GPS_20_ThreeFPHoldSRTProbe/20240814/Top/Clips/Naveed_20240814_HoldTrial030_TopView.avi\n",
      "Duration of video [s]:  8.0 , recorded with  25.0 fps!\n",
      "Overall # of frames:  200  found with (before cropping) frame dimensions:  1280 1331\n",
      "Starting to extract posture\n",
      "Cropping based on the x1 = 0 x2 = 1280 y1 = 0 y2 = 1024. You can adjust the cropping coordinates in the config.yaml file.\n"
     ]
    },
    {
     "name": "stderr",
     "output_type": "stream",
     "text": [
      "100%|██████████| 200/200 [00:08<00:00, 23.75it/s]\n"
     ]
    },
    {
     "name": "stdout",
     "output_type": "stream",
     "text": [
      "Saving results in D:\\YuLab\\Work\\GPS\\Video\\Naveed\\GPS_20_ThreeFPHoldSRTProbe\\20240814\\Top\\Clips...\n",
      "Saving csv poses!\n",
      "Starting to analyze %  D:/YuLab/Work/GPS/Video/Naveed/GPS_20_ThreeFPHoldSRTProbe/20240814/Top/Clips/Naveed_20240814_HoldTrial031_TopView.avi\n",
      "Loading  D:/YuLab/Work/GPS/Video/Naveed/GPS_20_ThreeFPHoldSRTProbe/20240814/Top/Clips/Naveed_20240814_HoldTrial031_TopView.avi\n",
      "Duration of video [s]:  8.04 , recorded with  25.0 fps!\n",
      "Overall # of frames:  201  found with (before cropping) frame dimensions:  1280 1331\n",
      "Starting to extract posture\n",
      "Cropping based on the x1 = 0 x2 = 1280 y1 = 0 y2 = 1024. You can adjust the cropping coordinates in the config.yaml file.\n"
     ]
    },
    {
     "name": "stderr",
     "output_type": "stream",
     "text": [
      "100%|██████████| 201/201 [00:08<00:00, 23.11it/s]\n"
     ]
    },
    {
     "name": "stdout",
     "output_type": "stream",
     "text": [
      "Saving results in D:\\YuLab\\Work\\GPS\\Video\\Naveed\\GPS_20_ThreeFPHoldSRTProbe\\20240814\\Top\\Clips...\n",
      "Saving csv poses!\n",
      "Starting to analyze %  D:/YuLab/Work/GPS/Video/Naveed/GPS_20_ThreeFPHoldSRTProbe/20240814/Top/Clips/Naveed_20240814_HoldTrial032_TopView.avi\n",
      "Loading  D:/YuLab/Work/GPS/Video/Naveed/GPS_20_ThreeFPHoldSRTProbe/20240814/Top/Clips/Naveed_20240814_HoldTrial032_TopView.avi\n",
      "Duration of video [s]:  8.04 , recorded with  25.0 fps!\n",
      "Overall # of frames:  201  found with (before cropping) frame dimensions:  1280 1331\n",
      "Starting to extract posture\n",
      "Cropping based on the x1 = 0 x2 = 1280 y1 = 0 y2 = 1024. You can adjust the cropping coordinates in the config.yaml file.\n"
     ]
    },
    {
     "name": "stderr",
     "output_type": "stream",
     "text": [
      "100%|██████████| 201/201 [00:08<00:00, 23.10it/s]\n"
     ]
    },
    {
     "name": "stdout",
     "output_type": "stream",
     "text": [
      "Saving results in D:\\YuLab\\Work\\GPS\\Video\\Naveed\\GPS_20_ThreeFPHoldSRTProbe\\20240814\\Top\\Clips...\n",
      "Saving csv poses!\n",
      "Starting to analyze %  D:/YuLab/Work/GPS/Video/Naveed/GPS_20_ThreeFPHoldSRTProbe/20240814/Top/Clips/Naveed_20240814_HoldTrial033_TopView.avi\n",
      "Loading  D:/YuLab/Work/GPS/Video/Naveed/GPS_20_ThreeFPHoldSRTProbe/20240814/Top/Clips/Naveed_20240814_HoldTrial033_TopView.avi\n",
      "Duration of video [s]:  8.04 , recorded with  25.0 fps!\n",
      "Overall # of frames:  201  found with (before cropping) frame dimensions:  1280 1331\n",
      "Starting to extract posture\n",
      "Cropping based on the x1 = 0 x2 = 1280 y1 = 0 y2 = 1024. You can adjust the cropping coordinates in the config.yaml file.\n"
     ]
    },
    {
     "name": "stderr",
     "output_type": "stream",
     "text": [
      "100%|██████████| 201/201 [00:08<00:00, 23.03it/s]\n"
     ]
    },
    {
     "name": "stdout",
     "output_type": "stream",
     "text": [
      "Saving results in D:\\YuLab\\Work\\GPS\\Video\\Naveed\\GPS_20_ThreeFPHoldSRTProbe\\20240814\\Top\\Clips...\n",
      "Saving csv poses!\n",
      "Starting to analyze %  D:/YuLab/Work/GPS/Video/Naveed/GPS_20_ThreeFPHoldSRTProbe/20240814/Top/Clips/Naveed_20240814_HoldTrial034_TopView.avi\n",
      "Loading  D:/YuLab/Work/GPS/Video/Naveed/GPS_20_ThreeFPHoldSRTProbe/20240814/Top/Clips/Naveed_20240814_HoldTrial034_TopView.avi\n",
      "Duration of video [s]:  8.0 , recorded with  25.0 fps!\n",
      "Overall # of frames:  200  found with (before cropping) frame dimensions:  1280 1331\n",
      "Starting to extract posture\n",
      "Cropping based on the x1 = 0 x2 = 1280 y1 = 0 y2 = 1024. You can adjust the cropping coordinates in the config.yaml file.\n"
     ]
    },
    {
     "name": "stderr",
     "output_type": "stream",
     "text": [
      "100%|██████████| 200/200 [00:08<00:00, 23.65it/s]\n"
     ]
    },
    {
     "name": "stdout",
     "output_type": "stream",
     "text": [
      "Saving results in D:\\YuLab\\Work\\GPS\\Video\\Naveed\\GPS_20_ThreeFPHoldSRTProbe\\20240814\\Top\\Clips...\n",
      "Saving csv poses!\n",
      "Starting to analyze %  D:/YuLab/Work/GPS/Video/Naveed/GPS_20_ThreeFPHoldSRTProbe/20240814/Top/Clips/Naveed_20240814_HoldTrial035_TopView.avi\n",
      "Loading  D:/YuLab/Work/GPS/Video/Naveed/GPS_20_ThreeFPHoldSRTProbe/20240814/Top/Clips/Naveed_20240814_HoldTrial035_TopView.avi\n",
      "Duration of video [s]:  8.04 , recorded with  25.0 fps!\n",
      "Overall # of frames:  201  found with (before cropping) frame dimensions:  1280 1331\n",
      "Starting to extract posture\n",
      "Cropping based on the x1 = 0 x2 = 1280 y1 = 0 y2 = 1024. You can adjust the cropping coordinates in the config.yaml file.\n"
     ]
    },
    {
     "name": "stderr",
     "output_type": "stream",
     "text": [
      "100%|██████████| 201/201 [00:08<00:00, 23.03it/s]\n"
     ]
    },
    {
     "name": "stdout",
     "output_type": "stream",
     "text": [
      "Saving results in D:\\YuLab\\Work\\GPS\\Video\\Naveed\\GPS_20_ThreeFPHoldSRTProbe\\20240814\\Top\\Clips...\n",
      "Saving csv poses!\n",
      "Starting to analyze %  D:/YuLab/Work/GPS/Video/Naveed/GPS_20_ThreeFPHoldSRTProbe/20240814/Top/Clips/Naveed_20240814_HoldTrial036_TopView.avi\n",
      "Loading  D:/YuLab/Work/GPS/Video/Naveed/GPS_20_ThreeFPHoldSRTProbe/20240814/Top/Clips/Naveed_20240814_HoldTrial036_TopView.avi\n",
      "Duration of video [s]:  8.0 , recorded with  25.0 fps!\n",
      "Overall # of frames:  200  found with (before cropping) frame dimensions:  1280 1331\n",
      "Starting to extract posture\n",
      "Cropping based on the x1 = 0 x2 = 1280 y1 = 0 y2 = 1024. You can adjust the cropping coordinates in the config.yaml file.\n"
     ]
    },
    {
     "name": "stderr",
     "output_type": "stream",
     "text": [
      "100%|██████████| 200/200 [00:08<00:00, 23.67it/s]\n"
     ]
    },
    {
     "name": "stdout",
     "output_type": "stream",
     "text": [
      "Saving results in D:\\YuLab\\Work\\GPS\\Video\\Naveed\\GPS_20_ThreeFPHoldSRTProbe\\20240814\\Top\\Clips...\n",
      "Saving csv poses!\n",
      "Starting to analyze %  D:/YuLab/Work/GPS/Video/Naveed/GPS_20_ThreeFPHoldSRTProbe/20240814/Top/Clips/Naveed_20240814_HoldTrial037_TopView.avi\n",
      "Loading  D:/YuLab/Work/GPS/Video/Naveed/GPS_20_ThreeFPHoldSRTProbe/20240814/Top/Clips/Naveed_20240814_HoldTrial037_TopView.avi\n",
      "Duration of video [s]:  8.04 , recorded with  25.0 fps!\n",
      "Overall # of frames:  201  found with (before cropping) frame dimensions:  1280 1331\n",
      "Starting to extract posture\n",
      "Cropping based on the x1 = 0 x2 = 1280 y1 = 0 y2 = 1024. You can adjust the cropping coordinates in the config.yaml file.\n"
     ]
    },
    {
     "name": "stderr",
     "output_type": "stream",
     "text": [
      "100%|██████████| 201/201 [00:08<00:00, 23.04it/s]\n"
     ]
    },
    {
     "name": "stdout",
     "output_type": "stream",
     "text": [
      "Saving results in D:\\YuLab\\Work\\GPS\\Video\\Naveed\\GPS_20_ThreeFPHoldSRTProbe\\20240814\\Top\\Clips...\n",
      "Saving csv poses!\n",
      "Starting to analyze %  D:/YuLab/Work/GPS/Video/Naveed/GPS_20_ThreeFPHoldSRTProbe/20240814/Top/Clips/Naveed_20240814_HoldTrial038_TopView.avi\n",
      "Loading  D:/YuLab/Work/GPS/Video/Naveed/GPS_20_ThreeFPHoldSRTProbe/20240814/Top/Clips/Naveed_20240814_HoldTrial038_TopView.avi\n",
      "Duration of video [s]:  8.04 , recorded with  25.0 fps!\n",
      "Overall # of frames:  201  found with (before cropping) frame dimensions:  1280 1331\n",
      "Starting to extract posture\n",
      "Cropping based on the x1 = 0 x2 = 1280 y1 = 0 y2 = 1024. You can adjust the cropping coordinates in the config.yaml file.\n"
     ]
    },
    {
     "name": "stderr",
     "output_type": "stream",
     "text": [
      "100%|██████████| 201/201 [00:08<00:00, 23.04it/s]\n"
     ]
    },
    {
     "name": "stdout",
     "output_type": "stream",
     "text": [
      "Saving results in D:\\YuLab\\Work\\GPS\\Video\\Naveed\\GPS_20_ThreeFPHoldSRTProbe\\20240814\\Top\\Clips...\n",
      "Saving csv poses!\n",
      "Starting to analyze %  D:/YuLab/Work/GPS/Video/Naveed/GPS_20_ThreeFPHoldSRTProbe/20240814/Top/Clips/Naveed_20240814_HoldTrial039_TopView.avi\n",
      "Loading  D:/YuLab/Work/GPS/Video/Naveed/GPS_20_ThreeFPHoldSRTProbe/20240814/Top/Clips/Naveed_20240814_HoldTrial039_TopView.avi\n",
      "Duration of video [s]:  8.0 , recorded with  25.0 fps!\n",
      "Overall # of frames:  200  found with (before cropping) frame dimensions:  1280 1331\n",
      "Starting to extract posture\n",
      "Cropping based on the x1 = 0 x2 = 1280 y1 = 0 y2 = 1024. You can adjust the cropping coordinates in the config.yaml file.\n"
     ]
    },
    {
     "name": "stderr",
     "output_type": "stream",
     "text": [
      "100%|██████████| 200/200 [00:08<00:00, 23.66it/s]\n"
     ]
    },
    {
     "name": "stdout",
     "output_type": "stream",
     "text": [
      "Saving results in D:\\YuLab\\Work\\GPS\\Video\\Naveed\\GPS_20_ThreeFPHoldSRTProbe\\20240814\\Top\\Clips...\n",
      "Saving csv poses!\n",
      "Starting to analyze %  D:/YuLab/Work/GPS/Video/Naveed/GPS_20_ThreeFPHoldSRTProbe/20240814/Top/Clips/Naveed_20240814_HoldTrial040_TopView.avi\n",
      "Loading  D:/YuLab/Work/GPS/Video/Naveed/GPS_20_ThreeFPHoldSRTProbe/20240814/Top/Clips/Naveed_20240814_HoldTrial040_TopView.avi\n",
      "Duration of video [s]:  8.04 , recorded with  25.0 fps!\n",
      "Overall # of frames:  201  found with (before cropping) frame dimensions:  1280 1331\n",
      "Starting to extract posture\n",
      "Cropping based on the x1 = 0 x2 = 1280 y1 = 0 y2 = 1024. You can adjust the cropping coordinates in the config.yaml file.\n"
     ]
    },
    {
     "name": "stderr",
     "output_type": "stream",
     "text": [
      "100%|██████████| 201/201 [00:08<00:00, 23.04it/s]\n"
     ]
    },
    {
     "name": "stdout",
     "output_type": "stream",
     "text": [
      "Saving results in D:\\YuLab\\Work\\GPS\\Video\\Naveed\\GPS_20_ThreeFPHoldSRTProbe\\20240814\\Top\\Clips...\n",
      "Saving csv poses!\n",
      "Starting to analyze %  D:/YuLab/Work/GPS/Video/Naveed/GPS_20_ThreeFPHoldSRTProbe/20240814/Top/Clips/Naveed_20240814_HoldTrial041_TopView.avi\n",
      "Loading  D:/YuLab/Work/GPS/Video/Naveed/GPS_20_ThreeFPHoldSRTProbe/20240814/Top/Clips/Naveed_20240814_HoldTrial041_TopView.avi\n",
      "Duration of video [s]:  8.04 , recorded with  25.0 fps!\n",
      "Overall # of frames:  201  found with (before cropping) frame dimensions:  1280 1331\n",
      "Starting to extract posture\n",
      "Cropping based on the x1 = 0 x2 = 1280 y1 = 0 y2 = 1024. You can adjust the cropping coordinates in the config.yaml file.\n"
     ]
    },
    {
     "name": "stderr",
     "output_type": "stream",
     "text": [
      "100%|██████████| 201/201 [00:08<00:00, 23.06it/s]\n"
     ]
    },
    {
     "name": "stdout",
     "output_type": "stream",
     "text": [
      "Saving results in D:\\YuLab\\Work\\GPS\\Video\\Naveed\\GPS_20_ThreeFPHoldSRTProbe\\20240814\\Top\\Clips...\n",
      "Saving csv poses!\n",
      "Starting to analyze %  D:/YuLab/Work/GPS/Video/Naveed/GPS_20_ThreeFPHoldSRTProbe/20240814/Top/Clips/Naveed_20240814_HoldTrial042_TopView.avi\n",
      "Loading  D:/YuLab/Work/GPS/Video/Naveed/GPS_20_ThreeFPHoldSRTProbe/20240814/Top/Clips/Naveed_20240814_HoldTrial042_TopView.avi\n",
      "Duration of video [s]:  8.04 , recorded with  25.0 fps!\n",
      "Overall # of frames:  201  found with (before cropping) frame dimensions:  1280 1331\n",
      "Starting to extract posture\n",
      "Cropping based on the x1 = 0 x2 = 1280 y1 = 0 y2 = 1024. You can adjust the cropping coordinates in the config.yaml file.\n"
     ]
    },
    {
     "name": "stderr",
     "output_type": "stream",
     "text": [
      "100%|██████████| 201/201 [00:08<00:00, 23.06it/s]\n"
     ]
    },
    {
     "name": "stdout",
     "output_type": "stream",
     "text": [
      "Saving results in D:\\YuLab\\Work\\GPS\\Video\\Naveed\\GPS_20_ThreeFPHoldSRTProbe\\20240814\\Top\\Clips...\n",
      "Saving csv poses!\n",
      "Starting to analyze %  D:/YuLab/Work/GPS/Video/Naveed/GPS_20_ThreeFPHoldSRTProbe/20240814/Top/Clips/Naveed_20240814_HoldTrial043_TopView.avi\n",
      "Loading  D:/YuLab/Work/GPS/Video/Naveed/GPS_20_ThreeFPHoldSRTProbe/20240814/Top/Clips/Naveed_20240814_HoldTrial043_TopView.avi\n",
      "Duration of video [s]:  8.04 , recorded with  25.0 fps!\n",
      "Overall # of frames:  201  found with (before cropping) frame dimensions:  1280 1331\n",
      "Starting to extract posture\n",
      "Cropping based on the x1 = 0 x2 = 1280 y1 = 0 y2 = 1024. You can adjust the cropping coordinates in the config.yaml file.\n"
     ]
    },
    {
     "name": "stderr",
     "output_type": "stream",
     "text": [
      "100%|██████████| 201/201 [00:08<00:00, 22.98it/s]\n"
     ]
    },
    {
     "name": "stdout",
     "output_type": "stream",
     "text": [
      "Saving results in D:\\YuLab\\Work\\GPS\\Video\\Naveed\\GPS_20_ThreeFPHoldSRTProbe\\20240814\\Top\\Clips...\n",
      "Saving csv poses!\n",
      "Starting to analyze %  D:/YuLab/Work/GPS/Video/Naveed/GPS_20_ThreeFPHoldSRTProbe/20240814/Top/Clips/Naveed_20240814_HoldTrial044_TopView.avi\n",
      "Loading  D:/YuLab/Work/GPS/Video/Naveed/GPS_20_ThreeFPHoldSRTProbe/20240814/Top/Clips/Naveed_20240814_HoldTrial044_TopView.avi\n",
      "Duration of video [s]:  8.04 , recorded with  25.0 fps!\n",
      "Overall # of frames:  201  found with (before cropping) frame dimensions:  1280 1331\n",
      "Starting to extract posture\n",
      "Cropping based on the x1 = 0 x2 = 1280 y1 = 0 y2 = 1024. You can adjust the cropping coordinates in the config.yaml file.\n"
     ]
    },
    {
     "name": "stderr",
     "output_type": "stream",
     "text": [
      "100%|██████████| 201/201 [00:08<00:00, 23.11it/s]\n"
     ]
    },
    {
     "name": "stdout",
     "output_type": "stream",
     "text": [
      "Saving results in D:\\YuLab\\Work\\GPS\\Video\\Naveed\\GPS_20_ThreeFPHoldSRTProbe\\20240814\\Top\\Clips...\n",
      "Saving csv poses!\n",
      "Starting to analyze %  D:/YuLab/Work/GPS/Video/Naveed/GPS_20_ThreeFPHoldSRTProbe/20240814/Top/Clips/Naveed_20240814_HoldTrial045_TopView.avi\n",
      "Loading  D:/YuLab/Work/GPS/Video/Naveed/GPS_20_ThreeFPHoldSRTProbe/20240814/Top/Clips/Naveed_20240814_HoldTrial045_TopView.avi\n",
      "Duration of video [s]:  8.04 , recorded with  25.0 fps!\n",
      "Overall # of frames:  201  found with (before cropping) frame dimensions:  1280 1331\n",
      "Starting to extract posture\n",
      "Cropping based on the x1 = 0 x2 = 1280 y1 = 0 y2 = 1024. You can adjust the cropping coordinates in the config.yaml file.\n"
     ]
    },
    {
     "name": "stderr",
     "output_type": "stream",
     "text": [
      "100%|██████████| 201/201 [00:08<00:00, 23.00it/s]\n"
     ]
    },
    {
     "name": "stdout",
     "output_type": "stream",
     "text": [
      "Saving results in D:\\YuLab\\Work\\GPS\\Video\\Naveed\\GPS_20_ThreeFPHoldSRTProbe\\20240814\\Top\\Clips...\n",
      "Saving csv poses!\n",
      "Starting to analyze %  D:/YuLab/Work/GPS/Video/Naveed/GPS_20_ThreeFPHoldSRTProbe/20240814/Top/Clips/Naveed_20240814_HoldTrial046_TopView.avi\n",
      "Loading  D:/YuLab/Work/GPS/Video/Naveed/GPS_20_ThreeFPHoldSRTProbe/20240814/Top/Clips/Naveed_20240814_HoldTrial046_TopView.avi\n",
      "Duration of video [s]:  8.04 , recorded with  25.0 fps!\n",
      "Overall # of frames:  201  found with (before cropping) frame dimensions:  1280 1331\n",
      "Starting to extract posture\n",
      "Cropping based on the x1 = 0 x2 = 1280 y1 = 0 y2 = 1024. You can adjust the cropping coordinates in the config.yaml file.\n"
     ]
    },
    {
     "name": "stderr",
     "output_type": "stream",
     "text": [
      "100%|██████████| 201/201 [00:08<00:00, 23.06it/s]\n"
     ]
    },
    {
     "name": "stdout",
     "output_type": "stream",
     "text": [
      "Saving results in D:\\YuLab\\Work\\GPS\\Video\\Naveed\\GPS_20_ThreeFPHoldSRTProbe\\20240814\\Top\\Clips...\n",
      "Saving csv poses!\n",
      "Starting to analyze %  D:/YuLab/Work/GPS/Video/Naveed/GPS_20_ThreeFPHoldSRTProbe/20240814/Top/Clips/Naveed_20240814_HoldTrial047_TopView.avi\n",
      "Loading  D:/YuLab/Work/GPS/Video/Naveed/GPS_20_ThreeFPHoldSRTProbe/20240814/Top/Clips/Naveed_20240814_HoldTrial047_TopView.avi\n",
      "Duration of video [s]:  8.0 , recorded with  25.0 fps!\n",
      "Overall # of frames:  200  found with (before cropping) frame dimensions:  1280 1331\n",
      "Starting to extract posture\n",
      "Cropping based on the x1 = 0 x2 = 1280 y1 = 0 y2 = 1024. You can adjust the cropping coordinates in the config.yaml file.\n"
     ]
    },
    {
     "name": "stderr",
     "output_type": "stream",
     "text": [
      "100%|██████████| 200/200 [00:08<00:00, 23.71it/s]\n"
     ]
    },
    {
     "name": "stdout",
     "output_type": "stream",
     "text": [
      "Saving results in D:\\YuLab\\Work\\GPS\\Video\\Naveed\\GPS_20_ThreeFPHoldSRTProbe\\20240814\\Top\\Clips...\n",
      "Saving csv poses!\n",
      "Starting to analyze %  D:/YuLab/Work/GPS/Video/Naveed/GPS_20_ThreeFPHoldSRTProbe/20240814/Top/Clips/Naveed_20240814_HoldTrial048_TopView.avi\n",
      "Loading  D:/YuLab/Work/GPS/Video/Naveed/GPS_20_ThreeFPHoldSRTProbe/20240814/Top/Clips/Naveed_20240814_HoldTrial048_TopView.avi\n",
      "Duration of video [s]:  8.04 , recorded with  25.0 fps!\n",
      "Overall # of frames:  201  found with (before cropping) frame dimensions:  1280 1331\n",
      "Starting to extract posture\n",
      "Cropping based on the x1 = 0 x2 = 1280 y1 = 0 y2 = 1024. You can adjust the cropping coordinates in the config.yaml file.\n"
     ]
    },
    {
     "name": "stderr",
     "output_type": "stream",
     "text": [
      "100%|██████████| 201/201 [00:08<00:00, 23.06it/s]\n"
     ]
    },
    {
     "name": "stdout",
     "output_type": "stream",
     "text": [
      "Saving results in D:\\YuLab\\Work\\GPS\\Video\\Naveed\\GPS_20_ThreeFPHoldSRTProbe\\20240814\\Top\\Clips...\n",
      "Saving csv poses!\n",
      "Starting to analyze %  D:/YuLab/Work/GPS/Video/Naveed/GPS_20_ThreeFPHoldSRTProbe/20240814/Top/Clips/Naveed_20240814_HoldTrial049_TopView.avi\n",
      "Loading  D:/YuLab/Work/GPS/Video/Naveed/GPS_20_ThreeFPHoldSRTProbe/20240814/Top/Clips/Naveed_20240814_HoldTrial049_TopView.avi\n",
      "Duration of video [s]:  8.0 , recorded with  25.0 fps!\n",
      "Overall # of frames:  200  found with (before cropping) frame dimensions:  1280 1331\n",
      "Starting to extract posture\n",
      "Cropping based on the x1 = 0 x2 = 1280 y1 = 0 y2 = 1024. You can adjust the cropping coordinates in the config.yaml file.\n"
     ]
    },
    {
     "name": "stderr",
     "output_type": "stream",
     "text": [
      "100%|██████████| 200/200 [00:08<00:00, 23.67it/s]\n"
     ]
    },
    {
     "name": "stdout",
     "output_type": "stream",
     "text": [
      "Saving results in D:\\YuLab\\Work\\GPS\\Video\\Naveed\\GPS_20_ThreeFPHoldSRTProbe\\20240814\\Top\\Clips...\n",
      "Saving csv poses!\n",
      "Starting to analyze %  D:/YuLab/Work/GPS/Video/Naveed/GPS_20_ThreeFPHoldSRTProbe/20240814/Top/Clips/Naveed_20240814_HoldTrial050_TopView.avi\n",
      "Loading  D:/YuLab/Work/GPS/Video/Naveed/GPS_20_ThreeFPHoldSRTProbe/20240814/Top/Clips/Naveed_20240814_HoldTrial050_TopView.avi\n",
      "Duration of video [s]:  8.0 , recorded with  25.0 fps!\n",
      "Overall # of frames:  200  found with (before cropping) frame dimensions:  1280 1331\n",
      "Starting to extract posture\n",
      "Cropping based on the x1 = 0 x2 = 1280 y1 = 0 y2 = 1024. You can adjust the cropping coordinates in the config.yaml file.\n"
     ]
    },
    {
     "name": "stderr",
     "output_type": "stream",
     "text": [
      "100%|██████████| 200/200 [00:08<00:00, 23.66it/s]\n"
     ]
    },
    {
     "name": "stdout",
     "output_type": "stream",
     "text": [
      "Saving results in D:\\YuLab\\Work\\GPS\\Video\\Naveed\\GPS_20_ThreeFPHoldSRTProbe\\20240814\\Top\\Clips...\n",
      "Saving csv poses!\n",
      "Starting to analyze %  D:/YuLab/Work/GPS/Video/Naveed/GPS_20_ThreeFPHoldSRTProbe/20240814/Top/Clips/Naveed_20240814_HoldTrial051_TopView.avi\n",
      "Loading  D:/YuLab/Work/GPS/Video/Naveed/GPS_20_ThreeFPHoldSRTProbe/20240814/Top/Clips/Naveed_20240814_HoldTrial051_TopView.avi\n",
      "Duration of video [s]:  8.04 , recorded with  25.0 fps!\n",
      "Overall # of frames:  201  found with (before cropping) frame dimensions:  1280 1331\n",
      "Starting to extract posture\n",
      "Cropping based on the x1 = 0 x2 = 1280 y1 = 0 y2 = 1024. You can adjust the cropping coordinates in the config.yaml file.\n"
     ]
    },
    {
     "name": "stderr",
     "output_type": "stream",
     "text": [
      "100%|██████████| 201/201 [00:08<00:00, 23.03it/s]\n"
     ]
    },
    {
     "name": "stdout",
     "output_type": "stream",
     "text": [
      "Saving results in D:\\YuLab\\Work\\GPS\\Video\\Naveed\\GPS_20_ThreeFPHoldSRTProbe\\20240814\\Top\\Clips...\n",
      "Saving csv poses!\n",
      "Starting to analyze %  D:/YuLab/Work/GPS/Video/Naveed/GPS_20_ThreeFPHoldSRTProbe/20240814/Top/Clips/Naveed_20240814_HoldTrial052_TopView.avi\n",
      "Loading  D:/YuLab/Work/GPS/Video/Naveed/GPS_20_ThreeFPHoldSRTProbe/20240814/Top/Clips/Naveed_20240814_HoldTrial052_TopView.avi\n",
      "Duration of video [s]:  8.0 , recorded with  25.0 fps!\n",
      "Overall # of frames:  200  found with (before cropping) frame dimensions:  1280 1331\n",
      "Starting to extract posture\n",
      "Cropping based on the x1 = 0 x2 = 1280 y1 = 0 y2 = 1024. You can adjust the cropping coordinates in the config.yaml file.\n"
     ]
    },
    {
     "name": "stderr",
     "output_type": "stream",
     "text": [
      "100%|██████████| 200/200 [00:08<00:00, 23.71it/s]\n"
     ]
    },
    {
     "name": "stdout",
     "output_type": "stream",
     "text": [
      "Saving results in D:\\YuLab\\Work\\GPS\\Video\\Naveed\\GPS_20_ThreeFPHoldSRTProbe\\20240814\\Top\\Clips...\n",
      "Saving csv poses!\n",
      "Starting to analyze %  D:/YuLab/Work/GPS/Video/Naveed/GPS_20_ThreeFPHoldSRTProbe/20240814/Top/Clips/Naveed_20240814_HoldTrial053_TopView.avi\n",
      "Loading  D:/YuLab/Work/GPS/Video/Naveed/GPS_20_ThreeFPHoldSRTProbe/20240814/Top/Clips/Naveed_20240814_HoldTrial053_TopView.avi\n",
      "Duration of video [s]:  8.0 , recorded with  25.0 fps!\n",
      "Overall # of frames:  200  found with (before cropping) frame dimensions:  1280 1331\n",
      "Starting to extract posture\n",
      "Cropping based on the x1 = 0 x2 = 1280 y1 = 0 y2 = 1024. You can adjust the cropping coordinates in the config.yaml file.\n"
     ]
    },
    {
     "name": "stderr",
     "output_type": "stream",
     "text": [
      "100%|██████████| 200/200 [00:08<00:00, 23.63it/s]\n"
     ]
    },
    {
     "name": "stdout",
     "output_type": "stream",
     "text": [
      "Saving results in D:\\YuLab\\Work\\GPS\\Video\\Naveed\\GPS_20_ThreeFPHoldSRTProbe\\20240814\\Top\\Clips...\n",
      "Saving csv poses!\n",
      "Starting to analyze %  D:/YuLab/Work/GPS/Video/Naveed/GPS_20_ThreeFPHoldSRTProbe/20240814/Top/Clips/Naveed_20240814_HoldTrial055_TopView.avi\n",
      "Loading  D:/YuLab/Work/GPS/Video/Naveed/GPS_20_ThreeFPHoldSRTProbe/20240814/Top/Clips/Naveed_20240814_HoldTrial055_TopView.avi\n",
      "Duration of video [s]:  8.0 , recorded with  25.0 fps!\n",
      "Overall # of frames:  200  found with (before cropping) frame dimensions:  1280 1331\n",
      "Starting to extract posture\n",
      "Cropping based on the x1 = 0 x2 = 1280 y1 = 0 y2 = 1024. You can adjust the cropping coordinates in the config.yaml file.\n"
     ]
    },
    {
     "name": "stderr",
     "output_type": "stream",
     "text": [
      "100%|██████████| 200/200 [00:08<00:00, 23.66it/s]\n"
     ]
    },
    {
     "name": "stdout",
     "output_type": "stream",
     "text": [
      "Saving results in D:\\YuLab\\Work\\GPS\\Video\\Naveed\\GPS_20_ThreeFPHoldSRTProbe\\20240814\\Top\\Clips...\n",
      "Saving csv poses!\n",
      "Starting to analyze %  D:/YuLab/Work/GPS/Video/Naveed/GPS_20_ThreeFPHoldSRTProbe/20240814/Top/Clips/Naveed_20240814_HoldTrial056_TopView.avi\n",
      "Loading  D:/YuLab/Work/GPS/Video/Naveed/GPS_20_ThreeFPHoldSRTProbe/20240814/Top/Clips/Naveed_20240814_HoldTrial056_TopView.avi\n",
      "Duration of video [s]:  8.04 , recorded with  25.0 fps!\n",
      "Overall # of frames:  201  found with (before cropping) frame dimensions:  1280 1331\n",
      "Starting to extract posture\n",
      "Cropping based on the x1 = 0 x2 = 1280 y1 = 0 y2 = 1024. You can adjust the cropping coordinates in the config.yaml file.\n"
     ]
    },
    {
     "name": "stderr",
     "output_type": "stream",
     "text": [
      "100%|██████████| 201/201 [00:08<00:00, 22.96it/s]\n"
     ]
    },
    {
     "name": "stdout",
     "output_type": "stream",
     "text": [
      "Saving results in D:\\YuLab\\Work\\GPS\\Video\\Naveed\\GPS_20_ThreeFPHoldSRTProbe\\20240814\\Top\\Clips...\n",
      "Saving csv poses!\n",
      "Starting to analyze %  D:/YuLab/Work/GPS/Video/Naveed/GPS_20_ThreeFPHoldSRTProbe/20240814/Top/Clips/Naveed_20240814_HoldTrial057_TopView.avi\n",
      "Loading  D:/YuLab/Work/GPS/Video/Naveed/GPS_20_ThreeFPHoldSRTProbe/20240814/Top/Clips/Naveed_20240814_HoldTrial057_TopView.avi\n",
      "Duration of video [s]:  8.04 , recorded with  25.0 fps!\n",
      "Overall # of frames:  201  found with (before cropping) frame dimensions:  1280 1331\n",
      "Starting to extract posture\n",
      "Cropping based on the x1 = 0 x2 = 1280 y1 = 0 y2 = 1024. You can adjust the cropping coordinates in the config.yaml file.\n"
     ]
    },
    {
     "name": "stderr",
     "output_type": "stream",
     "text": [
      "100%|██████████| 201/201 [00:08<00:00, 23.00it/s]\n"
     ]
    },
    {
     "name": "stdout",
     "output_type": "stream",
     "text": [
      "Saving results in D:\\YuLab\\Work\\GPS\\Video\\Naveed\\GPS_20_ThreeFPHoldSRTProbe\\20240814\\Top\\Clips...\n",
      "Saving csv poses!\n",
      "Starting to analyze %  D:/YuLab/Work/GPS/Video/Naveed/GPS_20_ThreeFPHoldSRTProbe/20240814/Top/Clips/Naveed_20240814_HoldTrial058_TopView.avi\n",
      "Loading  D:/YuLab/Work/GPS/Video/Naveed/GPS_20_ThreeFPHoldSRTProbe/20240814/Top/Clips/Naveed_20240814_HoldTrial058_TopView.avi\n",
      "Duration of video [s]:  8.04 , recorded with  25.0 fps!\n",
      "Overall # of frames:  201  found with (before cropping) frame dimensions:  1280 1331\n",
      "Starting to extract posture\n",
      "Cropping based on the x1 = 0 x2 = 1280 y1 = 0 y2 = 1024. You can adjust the cropping coordinates in the config.yaml file.\n"
     ]
    },
    {
     "name": "stderr",
     "output_type": "stream",
     "text": [
      "100%|██████████| 201/201 [00:08<00:00, 22.94it/s]\n"
     ]
    },
    {
     "name": "stdout",
     "output_type": "stream",
     "text": [
      "Saving results in D:\\YuLab\\Work\\GPS\\Video\\Naveed\\GPS_20_ThreeFPHoldSRTProbe\\20240814\\Top\\Clips...\n",
      "Saving csv poses!\n",
      "Starting to analyze %  D:/YuLab/Work/GPS/Video/Naveed/GPS_20_ThreeFPHoldSRTProbe/20240814/Top/Clips/Naveed_20240814_HoldTrial059_TopView.avi\n",
      "Loading  D:/YuLab/Work/GPS/Video/Naveed/GPS_20_ThreeFPHoldSRTProbe/20240814/Top/Clips/Naveed_20240814_HoldTrial059_TopView.avi\n",
      "Duration of video [s]:  8.0 , recorded with  25.0 fps!\n",
      "Overall # of frames:  200  found with (before cropping) frame dimensions:  1280 1331\n",
      "Starting to extract posture\n",
      "Cropping based on the x1 = 0 x2 = 1280 y1 = 0 y2 = 1024. You can adjust the cropping coordinates in the config.yaml file.\n"
     ]
    },
    {
     "name": "stderr",
     "output_type": "stream",
     "text": [
      "100%|██████████| 200/200 [00:08<00:00, 23.71it/s]\n"
     ]
    },
    {
     "name": "stdout",
     "output_type": "stream",
     "text": [
      "Saving results in D:\\YuLab\\Work\\GPS\\Video\\Naveed\\GPS_20_ThreeFPHoldSRTProbe\\20240814\\Top\\Clips...\n",
      "Saving csv poses!\n",
      "Starting to analyze %  D:/YuLab/Work/GPS/Video/Naveed/GPS_20_ThreeFPHoldSRTProbe/20240814/Top/Clips/Naveed_20240814_HoldTrial060_TopView.avi\n",
      "Loading  D:/YuLab/Work/GPS/Video/Naveed/GPS_20_ThreeFPHoldSRTProbe/20240814/Top/Clips/Naveed_20240814_HoldTrial060_TopView.avi\n",
      "Duration of video [s]:  8.0 , recorded with  25.0 fps!\n",
      "Overall # of frames:  200  found with (before cropping) frame dimensions:  1280 1331\n",
      "Starting to extract posture\n",
      "Cropping based on the x1 = 0 x2 = 1280 y1 = 0 y2 = 1024. You can adjust the cropping coordinates in the config.yaml file.\n"
     ]
    },
    {
     "name": "stderr",
     "output_type": "stream",
     "text": [
      "100%|██████████| 200/200 [00:08<00:00, 23.71it/s]\n"
     ]
    },
    {
     "name": "stdout",
     "output_type": "stream",
     "text": [
      "Saving results in D:\\YuLab\\Work\\GPS\\Video\\Naveed\\GPS_20_ThreeFPHoldSRTProbe\\20240814\\Top\\Clips...\n",
      "Saving csv poses!\n",
      "Starting to analyze %  D:/YuLab/Work/GPS/Video/Naveed/GPS_20_ThreeFPHoldSRTProbe/20240814/Top/Clips/Naveed_20240814_HoldTrial061_TopView.avi\n",
      "Loading  D:/YuLab/Work/GPS/Video/Naveed/GPS_20_ThreeFPHoldSRTProbe/20240814/Top/Clips/Naveed_20240814_HoldTrial061_TopView.avi\n",
      "Duration of video [s]:  8.04 , recorded with  25.0 fps!\n",
      "Overall # of frames:  201  found with (before cropping) frame dimensions:  1280 1331\n",
      "Starting to extract posture\n",
      "Cropping based on the x1 = 0 x2 = 1280 y1 = 0 y2 = 1024. You can adjust the cropping coordinates in the config.yaml file.\n"
     ]
    },
    {
     "name": "stderr",
     "output_type": "stream",
     "text": [
      "100%|██████████| 201/201 [00:08<00:00, 23.07it/s]\n"
     ]
    },
    {
     "name": "stdout",
     "output_type": "stream",
     "text": [
      "Saving results in D:\\YuLab\\Work\\GPS\\Video\\Naveed\\GPS_20_ThreeFPHoldSRTProbe\\20240814\\Top\\Clips...\n",
      "Saving csv poses!\n",
      "Starting to analyze %  D:/YuLab/Work/GPS/Video/Naveed/GPS_20_ThreeFPHoldSRTProbe/20240814/Top/Clips/Naveed_20240814_HoldTrial062_TopView.avi\n",
      "Loading  D:/YuLab/Work/GPS/Video/Naveed/GPS_20_ThreeFPHoldSRTProbe/20240814/Top/Clips/Naveed_20240814_HoldTrial062_TopView.avi\n",
      "Duration of video [s]:  8.04 , recorded with  25.0 fps!\n",
      "Overall # of frames:  201  found with (before cropping) frame dimensions:  1280 1331\n",
      "Starting to extract posture\n",
      "Cropping based on the x1 = 0 x2 = 1280 y1 = 0 y2 = 1024. You can adjust the cropping coordinates in the config.yaml file.\n"
     ]
    },
    {
     "name": "stderr",
     "output_type": "stream",
     "text": [
      "100%|██████████| 201/201 [00:08<00:00, 23.03it/s]\n"
     ]
    },
    {
     "name": "stdout",
     "output_type": "stream",
     "text": [
      "Saving results in D:\\YuLab\\Work\\GPS\\Video\\Naveed\\GPS_20_ThreeFPHoldSRTProbe\\20240814\\Top\\Clips...\n",
      "Saving csv poses!\n",
      "Starting to analyze %  D:/YuLab/Work/GPS/Video/Naveed/GPS_20_ThreeFPHoldSRTProbe/20240814/Top/Clips/Naveed_20240814_HoldTrial063_TopView.avi\n",
      "Loading  D:/YuLab/Work/GPS/Video/Naveed/GPS_20_ThreeFPHoldSRTProbe/20240814/Top/Clips/Naveed_20240814_HoldTrial063_TopView.avi\n",
      "Duration of video [s]:  8.04 , recorded with  25.0 fps!\n",
      "Overall # of frames:  201  found with (before cropping) frame dimensions:  1280 1331\n",
      "Starting to extract posture\n",
      "Cropping based on the x1 = 0 x2 = 1280 y1 = 0 y2 = 1024. You can adjust the cropping coordinates in the config.yaml file.\n"
     ]
    },
    {
     "name": "stderr",
     "output_type": "stream",
     "text": [
      "100%|██████████| 201/201 [00:08<00:00, 23.07it/s]\n"
     ]
    },
    {
     "name": "stdout",
     "output_type": "stream",
     "text": [
      "Saving results in D:\\YuLab\\Work\\GPS\\Video\\Naveed\\GPS_20_ThreeFPHoldSRTProbe\\20240814\\Top\\Clips...\n",
      "Saving csv poses!\n",
      "Starting to analyze %  D:/YuLab/Work/GPS/Video/Naveed/GPS_20_ThreeFPHoldSRTProbe/20240814/Top/Clips/Naveed_20240814_HoldTrial064_TopView.avi\n",
      "Loading  D:/YuLab/Work/GPS/Video/Naveed/GPS_20_ThreeFPHoldSRTProbe/20240814/Top/Clips/Naveed_20240814_HoldTrial064_TopView.avi\n",
      "Duration of video [s]:  8.04 , recorded with  25.0 fps!\n",
      "Overall # of frames:  201  found with (before cropping) frame dimensions:  1280 1331\n",
      "Starting to extract posture\n",
      "Cropping based on the x1 = 0 x2 = 1280 y1 = 0 y2 = 1024. You can adjust the cropping coordinates in the config.yaml file.\n"
     ]
    },
    {
     "name": "stderr",
     "output_type": "stream",
     "text": [
      "100%|██████████| 201/201 [00:08<00:00, 23.07it/s]\n"
     ]
    },
    {
     "name": "stdout",
     "output_type": "stream",
     "text": [
      "Saving results in D:\\YuLab\\Work\\GPS\\Video\\Naveed\\GPS_20_ThreeFPHoldSRTProbe\\20240814\\Top\\Clips...\n",
      "Saving csv poses!\n",
      "Starting to analyze %  D:/YuLab/Work/GPS/Video/Naveed/GPS_20_ThreeFPHoldSRTProbe/20240814/Top/Clips/Naveed_20240814_HoldTrial065_TopView.avi\n",
      "Loading  D:/YuLab/Work/GPS/Video/Naveed/GPS_20_ThreeFPHoldSRTProbe/20240814/Top/Clips/Naveed_20240814_HoldTrial065_TopView.avi\n",
      "Duration of video [s]:  8.0 , recorded with  25.0 fps!\n",
      "Overall # of frames:  200  found with (before cropping) frame dimensions:  1280 1331\n",
      "Starting to extract posture\n",
      "Cropping based on the x1 = 0 x2 = 1280 y1 = 0 y2 = 1024. You can adjust the cropping coordinates in the config.yaml file.\n"
     ]
    },
    {
     "name": "stderr",
     "output_type": "stream",
     "text": [
      "100%|██████████| 200/200 [00:08<00:00, 23.68it/s]\n"
     ]
    },
    {
     "name": "stdout",
     "output_type": "stream",
     "text": [
      "Saving results in D:\\YuLab\\Work\\GPS\\Video\\Naveed\\GPS_20_ThreeFPHoldSRTProbe\\20240814\\Top\\Clips...\n",
      "Saving csv poses!\n",
      "Starting to analyze %  D:/YuLab/Work/GPS/Video/Naveed/GPS_20_ThreeFPHoldSRTProbe/20240814/Top/Clips/Naveed_20240814_HoldTrial066_TopView.avi\n",
      "Loading  D:/YuLab/Work/GPS/Video/Naveed/GPS_20_ThreeFPHoldSRTProbe/20240814/Top/Clips/Naveed_20240814_HoldTrial066_TopView.avi\n",
      "Duration of video [s]:  8.04 , recorded with  25.0 fps!\n",
      "Overall # of frames:  201  found with (before cropping) frame dimensions:  1280 1331\n",
      "Starting to extract posture\n",
      "Cropping based on the x1 = 0 x2 = 1280 y1 = 0 y2 = 1024. You can adjust the cropping coordinates in the config.yaml file.\n"
     ]
    },
    {
     "name": "stderr",
     "output_type": "stream",
     "text": [
      "100%|██████████| 201/201 [00:08<00:00, 23.04it/s]\n"
     ]
    },
    {
     "name": "stdout",
     "output_type": "stream",
     "text": [
      "Saving results in D:\\YuLab\\Work\\GPS\\Video\\Naveed\\GPS_20_ThreeFPHoldSRTProbe\\20240814\\Top\\Clips...\n",
      "Saving csv poses!\n",
      "Starting to analyze %  D:/YuLab/Work/GPS/Video/Naveed/GPS_20_ThreeFPHoldSRTProbe/20240814/Top/Clips/Naveed_20240814_HoldTrial067_TopView.avi\n",
      "Loading  D:/YuLab/Work/GPS/Video/Naveed/GPS_20_ThreeFPHoldSRTProbe/20240814/Top/Clips/Naveed_20240814_HoldTrial067_TopView.avi\n",
      "Duration of video [s]:  8.0 , recorded with  25.0 fps!\n",
      "Overall # of frames:  200  found with (before cropping) frame dimensions:  1280 1331\n",
      "Starting to extract posture\n",
      "Cropping based on the x1 = 0 x2 = 1280 y1 = 0 y2 = 1024. You can adjust the cropping coordinates in the config.yaml file.\n"
     ]
    },
    {
     "name": "stderr",
     "output_type": "stream",
     "text": [
      "100%|██████████| 200/200 [00:08<00:00, 23.68it/s]\n"
     ]
    },
    {
     "name": "stdout",
     "output_type": "stream",
     "text": [
      "Saving results in D:\\YuLab\\Work\\GPS\\Video\\Naveed\\GPS_20_ThreeFPHoldSRTProbe\\20240814\\Top\\Clips...\n",
      "Saving csv poses!\n",
      "Starting to analyze %  D:/YuLab/Work/GPS/Video/Naveed/GPS_20_ThreeFPHoldSRTProbe/20240814/Top/Clips/Naveed_20240814_HoldTrial068_TopView.avi\n",
      "Loading  D:/YuLab/Work/GPS/Video/Naveed/GPS_20_ThreeFPHoldSRTProbe/20240814/Top/Clips/Naveed_20240814_HoldTrial068_TopView.avi\n",
      "Duration of video [s]:  8.04 , recorded with  25.0 fps!\n",
      "Overall # of frames:  201  found with (before cropping) frame dimensions:  1280 1331\n",
      "Starting to extract posture\n",
      "Cropping based on the x1 = 0 x2 = 1280 y1 = 0 y2 = 1024. You can adjust the cropping coordinates in the config.yaml file.\n"
     ]
    },
    {
     "name": "stderr",
     "output_type": "stream",
     "text": [
      "100%|██████████| 201/201 [00:08<00:00, 23.04it/s]\n"
     ]
    },
    {
     "name": "stdout",
     "output_type": "stream",
     "text": [
      "Saving results in D:\\YuLab\\Work\\GPS\\Video\\Naveed\\GPS_20_ThreeFPHoldSRTProbe\\20240814\\Top\\Clips...\n",
      "Saving csv poses!\n",
      "Starting to analyze %  D:/YuLab/Work/GPS/Video/Naveed/GPS_20_ThreeFPHoldSRTProbe/20240814/Top/Clips/Naveed_20240814_HoldTrial069_TopView.avi\n",
      "Loading  D:/YuLab/Work/GPS/Video/Naveed/GPS_20_ThreeFPHoldSRTProbe/20240814/Top/Clips/Naveed_20240814_HoldTrial069_TopView.avi\n",
      "Duration of video [s]:  8.04 , recorded with  25.0 fps!\n",
      "Overall # of frames:  201  found with (before cropping) frame dimensions:  1280 1331\n",
      "Starting to extract posture\n",
      "Cropping based on the x1 = 0 x2 = 1280 y1 = 0 y2 = 1024. You can adjust the cropping coordinates in the config.yaml file.\n"
     ]
    },
    {
     "name": "stderr",
     "output_type": "stream",
     "text": [
      "100%|██████████| 201/201 [00:08<00:00, 23.03it/s]\n"
     ]
    },
    {
     "name": "stdout",
     "output_type": "stream",
     "text": [
      "Saving results in D:\\YuLab\\Work\\GPS\\Video\\Naveed\\GPS_20_ThreeFPHoldSRTProbe\\20240814\\Top\\Clips...\n",
      "Saving csv poses!\n",
      "Starting to analyze %  D:/YuLab/Work/GPS/Video/Naveed/GPS_20_ThreeFPHoldSRTProbe/20240814/Top/Clips/Naveed_20240814_HoldTrial070_TopView.avi\n",
      "Loading  D:/YuLab/Work/GPS/Video/Naveed/GPS_20_ThreeFPHoldSRTProbe/20240814/Top/Clips/Naveed_20240814_HoldTrial070_TopView.avi\n",
      "Duration of video [s]:  8.04 , recorded with  25.0 fps!\n",
      "Overall # of frames:  201  found with (before cropping) frame dimensions:  1280 1331\n",
      "Starting to extract posture\n",
      "Cropping based on the x1 = 0 x2 = 1280 y1 = 0 y2 = 1024. You can adjust the cropping coordinates in the config.yaml file.\n"
     ]
    },
    {
     "name": "stderr",
     "output_type": "stream",
     "text": [
      "100%|██████████| 201/201 [00:08<00:00, 23.02it/s]\n"
     ]
    },
    {
     "name": "stdout",
     "output_type": "stream",
     "text": [
      "Saving results in D:\\YuLab\\Work\\GPS\\Video\\Naveed\\GPS_20_ThreeFPHoldSRTProbe\\20240814\\Top\\Clips...\n",
      "Saving csv poses!\n",
      "Starting to analyze %  D:/YuLab/Work/GPS/Video/Naveed/GPS_20_ThreeFPHoldSRTProbe/20240814/Top/Clips/Naveed_20240814_HoldTrial071_TopView.avi\n",
      "Loading  D:/YuLab/Work/GPS/Video/Naveed/GPS_20_ThreeFPHoldSRTProbe/20240814/Top/Clips/Naveed_20240814_HoldTrial071_TopView.avi\n",
      "Duration of video [s]:  8.04 , recorded with  25.0 fps!\n",
      "Overall # of frames:  201  found with (before cropping) frame dimensions:  1280 1331\n",
      "Starting to extract posture\n",
      "Cropping based on the x1 = 0 x2 = 1280 y1 = 0 y2 = 1024. You can adjust the cropping coordinates in the config.yaml file.\n"
     ]
    },
    {
     "name": "stderr",
     "output_type": "stream",
     "text": [
      "100%|██████████| 201/201 [00:08<00:00, 23.02it/s]\n"
     ]
    },
    {
     "name": "stdout",
     "output_type": "stream",
     "text": [
      "Saving results in D:\\YuLab\\Work\\GPS\\Video\\Naveed\\GPS_20_ThreeFPHoldSRTProbe\\20240814\\Top\\Clips...\n",
      "Saving csv poses!\n",
      "Starting to analyze %  D:/YuLab/Work/GPS/Video/Naveed/GPS_20_ThreeFPHoldSRTProbe/20240814/Top/Clips/Naveed_20240814_HoldTrial072_TopView.avi\n",
      "Loading  D:/YuLab/Work/GPS/Video/Naveed/GPS_20_ThreeFPHoldSRTProbe/20240814/Top/Clips/Naveed_20240814_HoldTrial072_TopView.avi\n",
      "Duration of video [s]:  8.0 , recorded with  25.0 fps!\n",
      "Overall # of frames:  200  found with (before cropping) frame dimensions:  1280 1331\n",
      "Starting to extract posture\n",
      "Cropping based on the x1 = 0 x2 = 1280 y1 = 0 y2 = 1024. You can adjust the cropping coordinates in the config.yaml file.\n"
     ]
    },
    {
     "name": "stderr",
     "output_type": "stream",
     "text": [
      "100%|██████████| 200/200 [00:08<00:00, 23.65it/s]\n"
     ]
    },
    {
     "name": "stdout",
     "output_type": "stream",
     "text": [
      "Saving results in D:\\YuLab\\Work\\GPS\\Video\\Naveed\\GPS_20_ThreeFPHoldSRTProbe\\20240814\\Top\\Clips...\n",
      "Saving csv poses!\n",
      "Starting to analyze %  D:/YuLab/Work/GPS/Video/Naveed/GPS_20_ThreeFPHoldSRTProbe/20240814/Top/Clips/Naveed_20240814_HoldTrial073_TopView.avi\n",
      "Loading  D:/YuLab/Work/GPS/Video/Naveed/GPS_20_ThreeFPHoldSRTProbe/20240814/Top/Clips/Naveed_20240814_HoldTrial073_TopView.avi\n",
      "Duration of video [s]:  8.04 , recorded with  25.0 fps!\n",
      "Overall # of frames:  201  found with (before cropping) frame dimensions:  1280 1331\n",
      "Starting to extract posture\n",
      "Cropping based on the x1 = 0 x2 = 1280 y1 = 0 y2 = 1024. You can adjust the cropping coordinates in the config.yaml file.\n"
     ]
    },
    {
     "name": "stderr",
     "output_type": "stream",
     "text": [
      "100%|██████████| 201/201 [00:08<00:00, 22.98it/s]\n"
     ]
    },
    {
     "name": "stdout",
     "output_type": "stream",
     "text": [
      "Saving results in D:\\YuLab\\Work\\GPS\\Video\\Naveed\\GPS_20_ThreeFPHoldSRTProbe\\20240814\\Top\\Clips...\n",
      "Saving csv poses!\n",
      "Starting to analyze %  D:/YuLab/Work/GPS/Video/Naveed/GPS_20_ThreeFPHoldSRTProbe/20240814/Top/Clips/Naveed_20240814_HoldTrial074_TopView.avi\n",
      "Loading  D:/YuLab/Work/GPS/Video/Naveed/GPS_20_ThreeFPHoldSRTProbe/20240814/Top/Clips/Naveed_20240814_HoldTrial074_TopView.avi\n",
      "Duration of video [s]:  8.04 , recorded with  25.0 fps!\n",
      "Overall # of frames:  201  found with (before cropping) frame dimensions:  1280 1331\n",
      "Starting to extract posture\n",
      "Cropping based on the x1 = 0 x2 = 1280 y1 = 0 y2 = 1024. You can adjust the cropping coordinates in the config.yaml file.\n"
     ]
    },
    {
     "name": "stderr",
     "output_type": "stream",
     "text": [
      "100%|██████████| 201/201 [00:08<00:00, 23.02it/s]\n"
     ]
    },
    {
     "name": "stdout",
     "output_type": "stream",
     "text": [
      "Saving results in D:\\YuLab\\Work\\GPS\\Video\\Naveed\\GPS_20_ThreeFPHoldSRTProbe\\20240814\\Top\\Clips...\n",
      "Saving csv poses!\n",
      "Starting to analyze %  D:/YuLab/Work/GPS/Video/Naveed/GPS_20_ThreeFPHoldSRTProbe/20240814/Top/Clips/Naveed_20240814_HoldTrial075_TopView.avi\n",
      "Loading  D:/YuLab/Work/GPS/Video/Naveed/GPS_20_ThreeFPHoldSRTProbe/20240814/Top/Clips/Naveed_20240814_HoldTrial075_TopView.avi\n",
      "Duration of video [s]:  8.04 , recorded with  25.0 fps!\n",
      "Overall # of frames:  201  found with (before cropping) frame dimensions:  1280 1331\n",
      "Starting to extract posture\n",
      "Cropping based on the x1 = 0 x2 = 1280 y1 = 0 y2 = 1024. You can adjust the cropping coordinates in the config.yaml file.\n"
     ]
    },
    {
     "name": "stderr",
     "output_type": "stream",
     "text": [
      "100%|██████████| 201/201 [00:08<00:00, 23.04it/s]\n"
     ]
    },
    {
     "name": "stdout",
     "output_type": "stream",
     "text": [
      "Saving results in D:\\YuLab\\Work\\GPS\\Video\\Naveed\\GPS_20_ThreeFPHoldSRTProbe\\20240814\\Top\\Clips...\n",
      "Saving csv poses!\n",
      "Starting to analyze %  D:/YuLab/Work/GPS/Video/Naveed/GPS_20_ThreeFPHoldSRTProbe/20240814/Top/Clips/Naveed_20240814_HoldTrial076_TopView.avi\n",
      "Loading  D:/YuLab/Work/GPS/Video/Naveed/GPS_20_ThreeFPHoldSRTProbe/20240814/Top/Clips/Naveed_20240814_HoldTrial076_TopView.avi\n",
      "Duration of video [s]:  8.04 , recorded with  25.0 fps!\n",
      "Overall # of frames:  201  found with (before cropping) frame dimensions:  1280 1331\n",
      "Starting to extract posture\n",
      "Cropping based on the x1 = 0 x2 = 1280 y1 = 0 y2 = 1024. You can adjust the cropping coordinates in the config.yaml file.\n"
     ]
    },
    {
     "name": "stderr",
     "output_type": "stream",
     "text": [
      "100%|██████████| 201/201 [00:08<00:00, 23.03it/s]\n"
     ]
    },
    {
     "name": "stdout",
     "output_type": "stream",
     "text": [
      "Saving results in D:\\YuLab\\Work\\GPS\\Video\\Naveed\\GPS_20_ThreeFPHoldSRTProbe\\20240814\\Top\\Clips...\n",
      "Saving csv poses!\n",
      "Starting to analyze %  D:/YuLab/Work/GPS/Video/Naveed/GPS_20_ThreeFPHoldSRTProbe/20240814/Top/Clips/Naveed_20240814_HoldTrial077_TopView.avi\n",
      "Loading  D:/YuLab/Work/GPS/Video/Naveed/GPS_20_ThreeFPHoldSRTProbe/20240814/Top/Clips/Naveed_20240814_HoldTrial077_TopView.avi\n",
      "Duration of video [s]:  8.04 , recorded with  25.0 fps!\n",
      "Overall # of frames:  201  found with (before cropping) frame dimensions:  1280 1331\n",
      "Starting to extract posture\n",
      "Cropping based on the x1 = 0 x2 = 1280 y1 = 0 y2 = 1024. You can adjust the cropping coordinates in the config.yaml file.\n"
     ]
    },
    {
     "name": "stderr",
     "output_type": "stream",
     "text": [
      "100%|██████████| 201/201 [00:08<00:00, 23.04it/s]\n"
     ]
    },
    {
     "name": "stdout",
     "output_type": "stream",
     "text": [
      "Saving results in D:\\YuLab\\Work\\GPS\\Video\\Naveed\\GPS_20_ThreeFPHoldSRTProbe\\20240814\\Top\\Clips...\n",
      "Saving csv poses!\n",
      "Starting to analyze %  D:/YuLab/Work/GPS/Video/Naveed/GPS_20_ThreeFPHoldSRTProbe/20240814/Top/Clips/Naveed_20240814_HoldTrial078_TopView.avi\n",
      "Loading  D:/YuLab/Work/GPS/Video/Naveed/GPS_20_ThreeFPHoldSRTProbe/20240814/Top/Clips/Naveed_20240814_HoldTrial078_TopView.avi\n",
      "Duration of video [s]:  8.04 , recorded with  25.0 fps!\n",
      "Overall # of frames:  201  found with (before cropping) frame dimensions:  1280 1331\n",
      "Starting to extract posture\n",
      "Cropping based on the x1 = 0 x2 = 1280 y1 = 0 y2 = 1024. You can adjust the cropping coordinates in the config.yaml file.\n"
     ]
    },
    {
     "name": "stderr",
     "output_type": "stream",
     "text": [
      "100%|██████████| 201/201 [00:08<00:00, 23.02it/s]\n"
     ]
    },
    {
     "name": "stdout",
     "output_type": "stream",
     "text": [
      "Saving results in D:\\YuLab\\Work\\GPS\\Video\\Naveed\\GPS_20_ThreeFPHoldSRTProbe\\20240814\\Top\\Clips...\n",
      "Saving csv poses!\n",
      "Starting to analyze %  D:/YuLab/Work/GPS/Video/Naveed/GPS_20_ThreeFPHoldSRTProbe/20240814/Top/Clips/Naveed_20240814_HoldTrial079_TopView.avi\n",
      "Loading  D:/YuLab/Work/GPS/Video/Naveed/GPS_20_ThreeFPHoldSRTProbe/20240814/Top/Clips/Naveed_20240814_HoldTrial079_TopView.avi\n",
      "Duration of video [s]:  8.04 , recorded with  25.0 fps!\n",
      "Overall # of frames:  201  found with (before cropping) frame dimensions:  1280 1331\n",
      "Starting to extract posture\n",
      "Cropping based on the x1 = 0 x2 = 1280 y1 = 0 y2 = 1024. You can adjust the cropping coordinates in the config.yaml file.\n"
     ]
    },
    {
     "name": "stderr",
     "output_type": "stream",
     "text": [
      "100%|██████████| 201/201 [00:08<00:00, 23.01it/s]\n"
     ]
    },
    {
     "name": "stdout",
     "output_type": "stream",
     "text": [
      "Saving results in D:\\YuLab\\Work\\GPS\\Video\\Naveed\\GPS_20_ThreeFPHoldSRTProbe\\20240814\\Top\\Clips...\n",
      "Saving csv poses!\n",
      "Starting to analyze %  D:/YuLab/Work/GPS/Video/Naveed/GPS_20_ThreeFPHoldSRTProbe/20240814/Top/Clips/Naveed_20240814_HoldTrial080_TopView.avi\n",
      "Loading  D:/YuLab/Work/GPS/Video/Naveed/GPS_20_ThreeFPHoldSRTProbe/20240814/Top/Clips/Naveed_20240814_HoldTrial080_TopView.avi\n",
      "Duration of video [s]:  8.04 , recorded with  25.0 fps!\n",
      "Overall # of frames:  201  found with (before cropping) frame dimensions:  1280 1331\n",
      "Starting to extract posture\n",
      "Cropping based on the x1 = 0 x2 = 1280 y1 = 0 y2 = 1024. You can adjust the cropping coordinates in the config.yaml file.\n"
     ]
    },
    {
     "name": "stderr",
     "output_type": "stream",
     "text": [
      "100%|██████████| 201/201 [00:08<00:00, 23.02it/s]\n"
     ]
    },
    {
     "name": "stdout",
     "output_type": "stream",
     "text": [
      "Saving results in D:\\YuLab\\Work\\GPS\\Video\\Naveed\\GPS_20_ThreeFPHoldSRTProbe\\20240814\\Top\\Clips...\n",
      "Saving csv poses!\n",
      "Starting to analyze %  D:/YuLab/Work/GPS/Video/Naveed/GPS_20_ThreeFPHoldSRTProbe/20240814/Top/Clips/Naveed_20240814_HoldTrial081_TopView.avi\n",
      "Loading  D:/YuLab/Work/GPS/Video/Naveed/GPS_20_ThreeFPHoldSRTProbe/20240814/Top/Clips/Naveed_20240814_HoldTrial081_TopView.avi\n",
      "Duration of video [s]:  8.04 , recorded with  25.0 fps!\n",
      "Overall # of frames:  201  found with (before cropping) frame dimensions:  1280 1331\n",
      "Starting to extract posture\n",
      "Cropping based on the x1 = 0 x2 = 1280 y1 = 0 y2 = 1024. You can adjust the cropping coordinates in the config.yaml file.\n"
     ]
    },
    {
     "name": "stderr",
     "output_type": "stream",
     "text": [
      "100%|██████████| 201/201 [00:08<00:00, 22.97it/s]\n"
     ]
    },
    {
     "name": "stdout",
     "output_type": "stream",
     "text": [
      "Saving results in D:\\YuLab\\Work\\GPS\\Video\\Naveed\\GPS_20_ThreeFPHoldSRTProbe\\20240814\\Top\\Clips...\n",
      "Saving csv poses!\n",
      "Starting to analyze %  D:/YuLab/Work/GPS/Video/Naveed/GPS_20_ThreeFPHoldSRTProbe/20240814/Top/Clips/Naveed_20240814_HoldTrial082_TopView.avi\n",
      "Loading  D:/YuLab/Work/GPS/Video/Naveed/GPS_20_ThreeFPHoldSRTProbe/20240814/Top/Clips/Naveed_20240814_HoldTrial082_TopView.avi\n",
      "Duration of video [s]:  8.04 , recorded with  25.0 fps!\n",
      "Overall # of frames:  201  found with (before cropping) frame dimensions:  1280 1331\n",
      "Starting to extract posture\n",
      "Cropping based on the x1 = 0 x2 = 1280 y1 = 0 y2 = 1024. You can adjust the cropping coordinates in the config.yaml file.\n"
     ]
    },
    {
     "name": "stderr",
     "output_type": "stream",
     "text": [
      "100%|██████████| 201/201 [00:08<00:00, 23.00it/s]\n"
     ]
    },
    {
     "name": "stdout",
     "output_type": "stream",
     "text": [
      "Saving results in D:\\YuLab\\Work\\GPS\\Video\\Naveed\\GPS_20_ThreeFPHoldSRTProbe\\20240814\\Top\\Clips...\n",
      "Saving csv poses!\n",
      "Starting to analyze %  D:/YuLab/Work/GPS/Video/Naveed/GPS_20_ThreeFPHoldSRTProbe/20240814/Top/Clips/Naveed_20240814_HoldTrial083_TopView.avi\n",
      "Loading  D:/YuLab/Work/GPS/Video/Naveed/GPS_20_ThreeFPHoldSRTProbe/20240814/Top/Clips/Naveed_20240814_HoldTrial083_TopView.avi\n",
      "Duration of video [s]:  8.0 , recorded with  25.0 fps!\n",
      "Overall # of frames:  200  found with (before cropping) frame dimensions:  1280 1331\n",
      "Starting to extract posture\n",
      "Cropping based on the x1 = 0 x2 = 1280 y1 = 0 y2 = 1024. You can adjust the cropping coordinates in the config.yaml file.\n"
     ]
    },
    {
     "name": "stderr",
     "output_type": "stream",
     "text": [
      "100%|██████████| 200/200 [00:08<00:00, 23.66it/s]\n"
     ]
    },
    {
     "name": "stdout",
     "output_type": "stream",
     "text": [
      "Saving results in D:\\YuLab\\Work\\GPS\\Video\\Naveed\\GPS_20_ThreeFPHoldSRTProbe\\20240814\\Top\\Clips...\n",
      "Saving csv poses!\n",
      "Starting to analyze %  D:/YuLab/Work/GPS/Video/Naveed/GPS_20_ThreeFPHoldSRTProbe/20240814/Top/Clips/Naveed_20240814_HoldTrial084_TopView.avi\n",
      "Loading  D:/YuLab/Work/GPS/Video/Naveed/GPS_20_ThreeFPHoldSRTProbe/20240814/Top/Clips/Naveed_20240814_HoldTrial084_TopView.avi\n",
      "Duration of video [s]:  8.04 , recorded with  25.0 fps!\n",
      "Overall # of frames:  201  found with (before cropping) frame dimensions:  1280 1331\n",
      "Starting to extract posture\n",
      "Cropping based on the x1 = 0 x2 = 1280 y1 = 0 y2 = 1024. You can adjust the cropping coordinates in the config.yaml file.\n"
     ]
    },
    {
     "name": "stderr",
     "output_type": "stream",
     "text": [
      "100%|██████████| 201/201 [00:08<00:00, 23.01it/s]\n"
     ]
    },
    {
     "name": "stdout",
     "output_type": "stream",
     "text": [
      "Saving results in D:\\YuLab\\Work\\GPS\\Video\\Naveed\\GPS_20_ThreeFPHoldSRTProbe\\20240814\\Top\\Clips...\n",
      "Saving csv poses!\n",
      "Starting to analyze %  D:/YuLab/Work/GPS/Video/Naveed/GPS_20_ThreeFPHoldSRTProbe/20240814/Top/Clips/Naveed_20240814_HoldTrial085_TopView.avi\n",
      "Loading  D:/YuLab/Work/GPS/Video/Naveed/GPS_20_ThreeFPHoldSRTProbe/20240814/Top/Clips/Naveed_20240814_HoldTrial085_TopView.avi\n",
      "Duration of video [s]:  8.04 , recorded with  25.0 fps!\n",
      "Overall # of frames:  201  found with (before cropping) frame dimensions:  1280 1331\n",
      "Starting to extract posture\n",
      "Cropping based on the x1 = 0 x2 = 1280 y1 = 0 y2 = 1024. You can adjust the cropping coordinates in the config.yaml file.\n"
     ]
    },
    {
     "name": "stderr",
     "output_type": "stream",
     "text": [
      "100%|██████████| 201/201 [00:08<00:00, 23.01it/s]\n"
     ]
    },
    {
     "name": "stdout",
     "output_type": "stream",
     "text": [
      "Saving results in D:\\YuLab\\Work\\GPS\\Video\\Naveed\\GPS_20_ThreeFPHoldSRTProbe\\20240814\\Top\\Clips...\n",
      "Saving csv poses!\n",
      "Starting to analyze %  D:/YuLab/Work/GPS/Video/Naveed/GPS_20_ThreeFPHoldSRTProbe/20240814/Top/Clips/Naveed_20240814_HoldTrial086_TopView.avi\n",
      "Loading  D:/YuLab/Work/GPS/Video/Naveed/GPS_20_ThreeFPHoldSRTProbe/20240814/Top/Clips/Naveed_20240814_HoldTrial086_TopView.avi\n",
      "Duration of video [s]:  8.04 , recorded with  25.0 fps!\n",
      "Overall # of frames:  201  found with (before cropping) frame dimensions:  1280 1331\n",
      "Starting to extract posture\n",
      "Cropping based on the x1 = 0 x2 = 1280 y1 = 0 y2 = 1024. You can adjust the cropping coordinates in the config.yaml file.\n"
     ]
    },
    {
     "name": "stderr",
     "output_type": "stream",
     "text": [
      "100%|██████████| 201/201 [00:08<00:00, 22.98it/s]\n"
     ]
    },
    {
     "name": "stdout",
     "output_type": "stream",
     "text": [
      "Saving results in D:\\YuLab\\Work\\GPS\\Video\\Naveed\\GPS_20_ThreeFPHoldSRTProbe\\20240814\\Top\\Clips...\n",
      "Saving csv poses!\n",
      "Starting to analyze %  D:/YuLab/Work/GPS/Video/Naveed/GPS_20_ThreeFPHoldSRTProbe/20240814/Top/Clips/Naveed_20240814_HoldTrial087_TopView.avi\n",
      "Loading  D:/YuLab/Work/GPS/Video/Naveed/GPS_20_ThreeFPHoldSRTProbe/20240814/Top/Clips/Naveed_20240814_HoldTrial087_TopView.avi\n",
      "Duration of video [s]:  8.0 , recorded with  25.0 fps!\n",
      "Overall # of frames:  200  found with (before cropping) frame dimensions:  1280 1331\n",
      "Starting to extract posture\n",
      "Cropping based on the x1 = 0 x2 = 1280 y1 = 0 y2 = 1024. You can adjust the cropping coordinates in the config.yaml file.\n"
     ]
    },
    {
     "name": "stderr",
     "output_type": "stream",
     "text": [
      "100%|██████████| 200/200 [00:08<00:00, 23.63it/s]\n"
     ]
    },
    {
     "name": "stdout",
     "output_type": "stream",
     "text": [
      "Saving results in D:\\YuLab\\Work\\GPS\\Video\\Naveed\\GPS_20_ThreeFPHoldSRTProbe\\20240814\\Top\\Clips...\n",
      "Saving csv poses!\n",
      "Starting to analyze %  D:/YuLab/Work/GPS/Video/Naveed/GPS_20_ThreeFPHoldSRTProbe/20240814/Top/Clips/Naveed_20240814_HoldTrial088_TopView.avi\n",
      "Loading  D:/YuLab/Work/GPS/Video/Naveed/GPS_20_ThreeFPHoldSRTProbe/20240814/Top/Clips/Naveed_20240814_HoldTrial088_TopView.avi\n",
      "Duration of video [s]:  8.04 , recorded with  25.0 fps!\n",
      "Overall # of frames:  201  found with (before cropping) frame dimensions:  1280 1331\n",
      "Starting to extract posture\n",
      "Cropping based on the x1 = 0 x2 = 1280 y1 = 0 y2 = 1024. You can adjust the cropping coordinates in the config.yaml file.\n"
     ]
    },
    {
     "name": "stderr",
     "output_type": "stream",
     "text": [
      "100%|██████████| 201/201 [00:08<00:00, 23.02it/s]\n"
     ]
    },
    {
     "name": "stdout",
     "output_type": "stream",
     "text": [
      "Saving results in D:\\YuLab\\Work\\GPS\\Video\\Naveed\\GPS_20_ThreeFPHoldSRTProbe\\20240814\\Top\\Clips...\n",
      "Saving csv poses!\n",
      "Starting to analyze %  D:/YuLab/Work/GPS/Video/Naveed/GPS_20_ThreeFPHoldSRTProbe/20240814/Top/Clips/Naveed_20240814_HoldTrial089_TopView.avi\n",
      "Loading  D:/YuLab/Work/GPS/Video/Naveed/GPS_20_ThreeFPHoldSRTProbe/20240814/Top/Clips/Naveed_20240814_HoldTrial089_TopView.avi\n",
      "Duration of video [s]:  8.04 , recorded with  25.0 fps!\n",
      "Overall # of frames:  201  found with (before cropping) frame dimensions:  1280 1331\n",
      "Starting to extract posture\n",
      "Cropping based on the x1 = 0 x2 = 1280 y1 = 0 y2 = 1024. You can adjust the cropping coordinates in the config.yaml file.\n"
     ]
    },
    {
     "name": "stderr",
     "output_type": "stream",
     "text": [
      "100%|██████████| 201/201 [00:08<00:00, 23.00it/s]\n"
     ]
    },
    {
     "name": "stdout",
     "output_type": "stream",
     "text": [
      "Saving results in D:\\YuLab\\Work\\GPS\\Video\\Naveed\\GPS_20_ThreeFPHoldSRTProbe\\20240814\\Top\\Clips...\n",
      "Saving csv poses!\n",
      "Starting to analyze %  D:/YuLab/Work/GPS/Video/Naveed/GPS_20_ThreeFPHoldSRTProbe/20240814/Top/Clips/Naveed_20240814_HoldTrial090_TopView.avi\n",
      "Loading  D:/YuLab/Work/GPS/Video/Naveed/GPS_20_ThreeFPHoldSRTProbe/20240814/Top/Clips/Naveed_20240814_HoldTrial090_TopView.avi\n",
      "Duration of video [s]:  8.04 , recorded with  25.0 fps!\n",
      "Overall # of frames:  201  found with (before cropping) frame dimensions:  1280 1331\n",
      "Starting to extract posture\n",
      "Cropping based on the x1 = 0 x2 = 1280 y1 = 0 y2 = 1024. You can adjust the cropping coordinates in the config.yaml file.\n"
     ]
    },
    {
     "name": "stderr",
     "output_type": "stream",
     "text": [
      "100%|██████████| 201/201 [00:08<00:00, 23.01it/s]\n"
     ]
    },
    {
     "name": "stdout",
     "output_type": "stream",
     "text": [
      "Saving results in D:\\YuLab\\Work\\GPS\\Video\\Naveed\\GPS_20_ThreeFPHoldSRTProbe\\20240814\\Top\\Clips...\n",
      "Saving csv poses!\n",
      "Starting to analyze %  D:/YuLab/Work/GPS/Video/Naveed/GPS_20_ThreeFPHoldSRTProbe/20240814/Top/Clips/Naveed_20240814_HoldTrial091_TopView.avi\n",
      "Loading  D:/YuLab/Work/GPS/Video/Naveed/GPS_20_ThreeFPHoldSRTProbe/20240814/Top/Clips/Naveed_20240814_HoldTrial091_TopView.avi\n",
      "Duration of video [s]:  8.04 , recorded with  25.0 fps!\n",
      "Overall # of frames:  201  found with (before cropping) frame dimensions:  1280 1331\n",
      "Starting to extract posture\n",
      "Cropping based on the x1 = 0 x2 = 1280 y1 = 0 y2 = 1024. You can adjust the cropping coordinates in the config.yaml file.\n"
     ]
    },
    {
     "name": "stderr",
     "output_type": "stream",
     "text": [
      "100%|██████████| 201/201 [00:08<00:00, 23.00it/s]\n"
     ]
    },
    {
     "name": "stdout",
     "output_type": "stream",
     "text": [
      "Saving results in D:\\YuLab\\Work\\GPS\\Video\\Naveed\\GPS_20_ThreeFPHoldSRTProbe\\20240814\\Top\\Clips...\n",
      "Saving csv poses!\n",
      "Starting to analyze %  D:/YuLab/Work/GPS/Video/Naveed/GPS_20_ThreeFPHoldSRTProbe/20240814/Top/Clips/Naveed_20240814_HoldTrial092_TopView.avi\n",
      "Loading  D:/YuLab/Work/GPS/Video/Naveed/GPS_20_ThreeFPHoldSRTProbe/20240814/Top/Clips/Naveed_20240814_HoldTrial092_TopView.avi\n",
      "Duration of video [s]:  8.0 , recorded with  25.0 fps!\n",
      "Overall # of frames:  200  found with (before cropping) frame dimensions:  1280 1331\n",
      "Starting to extract posture\n",
      "Cropping based on the x1 = 0 x2 = 1280 y1 = 0 y2 = 1024. You can adjust the cropping coordinates in the config.yaml file.\n"
     ]
    },
    {
     "name": "stderr",
     "output_type": "stream",
     "text": [
      "100%|██████████| 200/200 [00:08<00:00, 23.68it/s]\n"
     ]
    },
    {
     "name": "stdout",
     "output_type": "stream",
     "text": [
      "Saving results in D:\\YuLab\\Work\\GPS\\Video\\Naveed\\GPS_20_ThreeFPHoldSRTProbe\\20240814\\Top\\Clips...\n",
      "Saving csv poses!\n",
      "Starting to analyze %  D:/YuLab/Work/GPS/Video/Naveed/GPS_20_ThreeFPHoldSRTProbe/20240815/Top/Clips/Naveed_20240815_HoldTrial011_TopView.avi\n",
      "Loading  D:/YuLab/Work/GPS/Video/Naveed/GPS_20_ThreeFPHoldSRTProbe/20240815/Top/Clips/Naveed_20240815_HoldTrial011_TopView.avi\n",
      "Duration of video [s]:  8.04 , recorded with  25.0 fps!\n",
      "Overall # of frames:  201  found with (before cropping) frame dimensions:  1280 1331\n",
      "Starting to extract posture\n",
      "Cropping based on the x1 = 0 x2 = 1280 y1 = 0 y2 = 1024. You can adjust the cropping coordinates in the config.yaml file.\n"
     ]
    },
    {
     "name": "stderr",
     "output_type": "stream",
     "text": [
      "100%|██████████| 201/201 [00:08<00:00, 23.06it/s]\n"
     ]
    },
    {
     "name": "stdout",
     "output_type": "stream",
     "text": [
      "Saving results in D:\\YuLab\\Work\\GPS\\Video\\Naveed\\GPS_20_ThreeFPHoldSRTProbe\\20240815\\Top\\Clips...\n",
      "Saving csv poses!\n",
      "Starting to analyze %  D:/YuLab/Work/GPS/Video/Naveed/GPS_20_ThreeFPHoldSRTProbe/20240815/Top/Clips/Naveed_20240815_HoldTrial012_TopView.avi\n",
      "Loading  D:/YuLab/Work/GPS/Video/Naveed/GPS_20_ThreeFPHoldSRTProbe/20240815/Top/Clips/Naveed_20240815_HoldTrial012_TopView.avi\n",
      "Duration of video [s]:  8.04 , recorded with  25.0 fps!\n",
      "Overall # of frames:  201  found with (before cropping) frame dimensions:  1280 1331\n",
      "Starting to extract posture\n",
      "Cropping based on the x1 = 0 x2 = 1280 y1 = 0 y2 = 1024. You can adjust the cropping coordinates in the config.yaml file.\n"
     ]
    },
    {
     "name": "stderr",
     "output_type": "stream",
     "text": [
      "100%|██████████| 201/201 [00:08<00:00, 23.06it/s]\n"
     ]
    },
    {
     "name": "stdout",
     "output_type": "stream",
     "text": [
      "Saving results in D:\\YuLab\\Work\\GPS\\Video\\Naveed\\GPS_20_ThreeFPHoldSRTProbe\\20240815\\Top\\Clips...\n",
      "Saving csv poses!\n",
      "Starting to analyze %  D:/YuLab/Work/GPS/Video/Naveed/GPS_20_ThreeFPHoldSRTProbe/20240815/Top/Clips/Naveed_20240815_HoldTrial013_TopView.avi\n",
      "Loading  D:/YuLab/Work/GPS/Video/Naveed/GPS_20_ThreeFPHoldSRTProbe/20240815/Top/Clips/Naveed_20240815_HoldTrial013_TopView.avi\n",
      "Duration of video [s]:  8.04 , recorded with  25.0 fps!\n",
      "Overall # of frames:  201  found with (before cropping) frame dimensions:  1280 1331\n",
      "Starting to extract posture\n",
      "Cropping based on the x1 = 0 x2 = 1280 y1 = 0 y2 = 1024. You can adjust the cropping coordinates in the config.yaml file.\n"
     ]
    },
    {
     "name": "stderr",
     "output_type": "stream",
     "text": [
      "100%|██████████| 201/201 [00:08<00:00, 23.07it/s]\n"
     ]
    },
    {
     "name": "stdout",
     "output_type": "stream",
     "text": [
      "Saving results in D:\\YuLab\\Work\\GPS\\Video\\Naveed\\GPS_20_ThreeFPHoldSRTProbe\\20240815\\Top\\Clips...\n",
      "Saving csv poses!\n",
      "Starting to analyze %  D:/YuLab/Work/GPS/Video/Naveed/GPS_20_ThreeFPHoldSRTProbe/20240815/Top/Clips/Naveed_20240815_HoldTrial014_TopView.avi\n",
      "Loading  D:/YuLab/Work/GPS/Video/Naveed/GPS_20_ThreeFPHoldSRTProbe/20240815/Top/Clips/Naveed_20240815_HoldTrial014_TopView.avi\n",
      "Duration of video [s]:  8.04 , recorded with  25.0 fps!\n",
      "Overall # of frames:  201  found with (before cropping) frame dimensions:  1280 1331\n",
      "Starting to extract posture\n",
      "Cropping based on the x1 = 0 x2 = 1280 y1 = 0 y2 = 1024. You can adjust the cropping coordinates in the config.yaml file.\n"
     ]
    },
    {
     "name": "stderr",
     "output_type": "stream",
     "text": [
      "100%|██████████| 201/201 [00:08<00:00, 23.08it/s]\n"
     ]
    },
    {
     "name": "stdout",
     "output_type": "stream",
     "text": [
      "Saving results in D:\\YuLab\\Work\\GPS\\Video\\Naveed\\GPS_20_ThreeFPHoldSRTProbe\\20240815\\Top\\Clips...\n",
      "Saving csv poses!\n",
      "Starting to analyze %  D:/YuLab/Work/GPS/Video/Naveed/GPS_20_ThreeFPHoldSRTProbe/20240815/Top/Clips/Naveed_20240815_HoldTrial015_TopView.avi\n",
      "Loading  D:/YuLab/Work/GPS/Video/Naveed/GPS_20_ThreeFPHoldSRTProbe/20240815/Top/Clips/Naveed_20240815_HoldTrial015_TopView.avi\n",
      "Duration of video [s]:  8.04 , recorded with  25.0 fps!\n",
      "Overall # of frames:  201  found with (before cropping) frame dimensions:  1280 1331\n",
      "Starting to extract posture\n",
      "Cropping based on the x1 = 0 x2 = 1280 y1 = 0 y2 = 1024. You can adjust the cropping coordinates in the config.yaml file.\n"
     ]
    },
    {
     "name": "stderr",
     "output_type": "stream",
     "text": [
      "100%|██████████| 201/201 [00:08<00:00, 23.08it/s]\n"
     ]
    },
    {
     "name": "stdout",
     "output_type": "stream",
     "text": [
      "Saving results in D:\\YuLab\\Work\\GPS\\Video\\Naveed\\GPS_20_ThreeFPHoldSRTProbe\\20240815\\Top\\Clips...\n",
      "Saving csv poses!\n",
      "Starting to analyze %  D:/YuLab/Work/GPS/Video/Naveed/GPS_20_ThreeFPHoldSRTProbe/20240815/Top/Clips/Naveed_20240815_HoldTrial016_TopView.avi\n",
      "Loading  D:/YuLab/Work/GPS/Video/Naveed/GPS_20_ThreeFPHoldSRTProbe/20240815/Top/Clips/Naveed_20240815_HoldTrial016_TopView.avi\n",
      "Duration of video [s]:  8.0 , recorded with  25.0 fps!\n",
      "Overall # of frames:  200  found with (before cropping) frame dimensions:  1280 1331\n",
      "Starting to extract posture\n",
      "Cropping based on the x1 = 0 x2 = 1280 y1 = 0 y2 = 1024. You can adjust the cropping coordinates in the config.yaml file.\n"
     ]
    },
    {
     "name": "stderr",
     "output_type": "stream",
     "text": [
      "100%|██████████| 200/200 [00:08<00:00, 23.68it/s]\n"
     ]
    },
    {
     "name": "stdout",
     "output_type": "stream",
     "text": [
      "Saving results in D:\\YuLab\\Work\\GPS\\Video\\Naveed\\GPS_20_ThreeFPHoldSRTProbe\\20240815\\Top\\Clips...\n",
      "Saving csv poses!\n",
      "Starting to analyze %  D:/YuLab/Work/GPS/Video/Naveed/GPS_20_ThreeFPHoldSRTProbe/20240815/Top/Clips/Naveed_20240815_HoldTrial017_TopView.avi\n",
      "Loading  D:/YuLab/Work/GPS/Video/Naveed/GPS_20_ThreeFPHoldSRTProbe/20240815/Top/Clips/Naveed_20240815_HoldTrial017_TopView.avi\n",
      "Duration of video [s]:  8.04 , recorded with  25.0 fps!\n",
      "Overall # of frames:  201  found with (before cropping) frame dimensions:  1280 1331\n",
      "Starting to extract posture\n",
      "Cropping based on the x1 = 0 x2 = 1280 y1 = 0 y2 = 1024. You can adjust the cropping coordinates in the config.yaml file.\n"
     ]
    },
    {
     "name": "stderr",
     "output_type": "stream",
     "text": [
      "100%|██████████| 201/201 [00:08<00:00, 23.05it/s]\n"
     ]
    },
    {
     "name": "stdout",
     "output_type": "stream",
     "text": [
      "Saving results in D:\\YuLab\\Work\\GPS\\Video\\Naveed\\GPS_20_ThreeFPHoldSRTProbe\\20240815\\Top\\Clips...\n",
      "Saving csv poses!\n",
      "Starting to analyze %  D:/YuLab/Work/GPS/Video/Naveed/GPS_20_ThreeFPHoldSRTProbe/20240815/Top/Clips/Naveed_20240815_HoldTrial018_TopView.avi\n",
      "Loading  D:/YuLab/Work/GPS/Video/Naveed/GPS_20_ThreeFPHoldSRTProbe/20240815/Top/Clips/Naveed_20240815_HoldTrial018_TopView.avi\n",
      "Duration of video [s]:  8.04 , recorded with  25.0 fps!\n",
      "Overall # of frames:  201  found with (before cropping) frame dimensions:  1280 1331\n",
      "Starting to extract posture\n",
      "Cropping based on the x1 = 0 x2 = 1280 y1 = 0 y2 = 1024. You can adjust the cropping coordinates in the config.yaml file.\n"
     ]
    },
    {
     "name": "stderr",
     "output_type": "stream",
     "text": [
      "100%|██████████| 201/201 [00:08<00:00, 23.02it/s]\n"
     ]
    },
    {
     "name": "stdout",
     "output_type": "stream",
     "text": [
      "Saving results in D:\\YuLab\\Work\\GPS\\Video\\Naveed\\GPS_20_ThreeFPHoldSRTProbe\\20240815\\Top\\Clips...\n",
      "Saving csv poses!\n",
      "Starting to analyze %  D:/YuLab/Work/GPS/Video/Naveed/GPS_20_ThreeFPHoldSRTProbe/20240815/Top/Clips/Naveed_20240815_HoldTrial019_TopView.avi\n",
      "Loading  D:/YuLab/Work/GPS/Video/Naveed/GPS_20_ThreeFPHoldSRTProbe/20240815/Top/Clips/Naveed_20240815_HoldTrial019_TopView.avi\n",
      "Duration of video [s]:  8.04 , recorded with  25.0 fps!\n",
      "Overall # of frames:  201  found with (before cropping) frame dimensions:  1280 1331\n",
      "Starting to extract posture\n",
      "Cropping based on the x1 = 0 x2 = 1280 y1 = 0 y2 = 1024. You can adjust the cropping coordinates in the config.yaml file.\n"
     ]
    },
    {
     "name": "stderr",
     "output_type": "stream",
     "text": [
      "100%|██████████| 201/201 [00:08<00:00, 23.04it/s]\n"
     ]
    },
    {
     "name": "stdout",
     "output_type": "stream",
     "text": [
      "Saving results in D:\\YuLab\\Work\\GPS\\Video\\Naveed\\GPS_20_ThreeFPHoldSRTProbe\\20240815\\Top\\Clips...\n",
      "Saving csv poses!\n",
      "Starting to analyze %  D:/YuLab/Work/GPS/Video/Naveed/GPS_20_ThreeFPHoldSRTProbe/20240815/Top/Clips/Naveed_20240815_HoldTrial020_TopView.avi\n",
      "Loading  D:/YuLab/Work/GPS/Video/Naveed/GPS_20_ThreeFPHoldSRTProbe/20240815/Top/Clips/Naveed_20240815_HoldTrial020_TopView.avi\n",
      "Duration of video [s]:  8.04 , recorded with  25.0 fps!\n",
      "Overall # of frames:  201  found with (before cropping) frame dimensions:  1280 1331\n",
      "Starting to extract posture\n",
      "Cropping based on the x1 = 0 x2 = 1280 y1 = 0 y2 = 1024. You can adjust the cropping coordinates in the config.yaml file.\n"
     ]
    },
    {
     "name": "stderr",
     "output_type": "stream",
     "text": [
      "100%|██████████| 201/201 [00:08<00:00, 23.05it/s]\n"
     ]
    },
    {
     "name": "stdout",
     "output_type": "stream",
     "text": [
      "Saving results in D:\\YuLab\\Work\\GPS\\Video\\Naveed\\GPS_20_ThreeFPHoldSRTProbe\\20240815\\Top\\Clips...\n",
      "Saving csv poses!\n",
      "Starting to analyze %  D:/YuLab/Work/GPS/Video/Naveed/GPS_20_ThreeFPHoldSRTProbe/20240815/Top/Clips/Naveed_20240815_HoldTrial021_TopView.avi\n",
      "Loading  D:/YuLab/Work/GPS/Video/Naveed/GPS_20_ThreeFPHoldSRTProbe/20240815/Top/Clips/Naveed_20240815_HoldTrial021_TopView.avi\n",
      "Duration of video [s]:  8.04 , recorded with  25.0 fps!\n",
      "Overall # of frames:  201  found with (before cropping) frame dimensions:  1280 1331\n",
      "Starting to extract posture\n",
      "Cropping based on the x1 = 0 x2 = 1280 y1 = 0 y2 = 1024. You can adjust the cropping coordinates in the config.yaml file.\n"
     ]
    },
    {
     "name": "stderr",
     "output_type": "stream",
     "text": [
      "100%|██████████| 201/201 [00:08<00:00, 23.06it/s]\n"
     ]
    },
    {
     "name": "stdout",
     "output_type": "stream",
     "text": [
      "Saving results in D:\\YuLab\\Work\\GPS\\Video\\Naveed\\GPS_20_ThreeFPHoldSRTProbe\\20240815\\Top\\Clips...\n",
      "Saving csv poses!\n",
      "Starting to analyze %  D:/YuLab/Work/GPS/Video/Naveed/GPS_20_ThreeFPHoldSRTProbe/20240815/Top/Clips/Naveed_20240815_HoldTrial022_TopView.avi\n",
      "Loading  D:/YuLab/Work/GPS/Video/Naveed/GPS_20_ThreeFPHoldSRTProbe/20240815/Top/Clips/Naveed_20240815_HoldTrial022_TopView.avi\n",
      "Duration of video [s]:  8.04 , recorded with  25.0 fps!\n",
      "Overall # of frames:  201  found with (before cropping) frame dimensions:  1280 1331\n",
      "Starting to extract posture\n",
      "Cropping based on the x1 = 0 x2 = 1280 y1 = 0 y2 = 1024. You can adjust the cropping coordinates in the config.yaml file.\n"
     ]
    },
    {
     "name": "stderr",
     "output_type": "stream",
     "text": [
      "100%|██████████| 201/201 [00:08<00:00, 23.03it/s]\n"
     ]
    },
    {
     "name": "stdout",
     "output_type": "stream",
     "text": [
      "Saving results in D:\\YuLab\\Work\\GPS\\Video\\Naveed\\GPS_20_ThreeFPHoldSRTProbe\\20240815\\Top\\Clips...\n",
      "Saving csv poses!\n",
      "Starting to analyze %  D:/YuLab/Work/GPS/Video/Naveed/GPS_20_ThreeFPHoldSRTProbe/20240815/Top/Clips/Naveed_20240815_HoldTrial023_TopView.avi\n",
      "Loading  D:/YuLab/Work/GPS/Video/Naveed/GPS_20_ThreeFPHoldSRTProbe/20240815/Top/Clips/Naveed_20240815_HoldTrial023_TopView.avi\n",
      "Duration of video [s]:  8.04 , recorded with  25.0 fps!\n",
      "Overall # of frames:  201  found with (before cropping) frame dimensions:  1280 1331\n",
      "Starting to extract posture\n",
      "Cropping based on the x1 = 0 x2 = 1280 y1 = 0 y2 = 1024. You can adjust the cropping coordinates in the config.yaml file.\n"
     ]
    },
    {
     "name": "stderr",
     "output_type": "stream",
     "text": [
      "100%|██████████| 201/201 [00:08<00:00, 23.07it/s]\n"
     ]
    },
    {
     "name": "stdout",
     "output_type": "stream",
     "text": [
      "Saving results in D:\\YuLab\\Work\\GPS\\Video\\Naveed\\GPS_20_ThreeFPHoldSRTProbe\\20240815\\Top\\Clips...\n",
      "Saving csv poses!\n",
      "Starting to analyze %  D:/YuLab/Work/GPS/Video/Naveed/GPS_20_ThreeFPHoldSRTProbe/20240815/Top/Clips/Naveed_20240815_HoldTrial024_TopView.avi\n",
      "Loading  D:/YuLab/Work/GPS/Video/Naveed/GPS_20_ThreeFPHoldSRTProbe/20240815/Top/Clips/Naveed_20240815_HoldTrial024_TopView.avi\n",
      "Duration of video [s]:  8.0 , recorded with  25.0 fps!\n",
      "Overall # of frames:  200  found with (before cropping) frame dimensions:  1280 1331\n",
      "Starting to extract posture\n",
      "Cropping based on the x1 = 0 x2 = 1280 y1 = 0 y2 = 1024. You can adjust the cropping coordinates in the config.yaml file.\n"
     ]
    },
    {
     "name": "stderr",
     "output_type": "stream",
     "text": [
      "100%|██████████| 200/200 [00:08<00:00, 23.68it/s]\n"
     ]
    },
    {
     "name": "stdout",
     "output_type": "stream",
     "text": [
      "Saving results in D:\\YuLab\\Work\\GPS\\Video\\Naveed\\GPS_20_ThreeFPHoldSRTProbe\\20240815\\Top\\Clips...\n",
      "Saving csv poses!\n",
      "Starting to analyze %  D:/YuLab/Work/GPS/Video/Naveed/GPS_20_ThreeFPHoldSRTProbe/20240815/Top/Clips/Naveed_20240815_HoldTrial025_TopView.avi\n",
      "Loading  D:/YuLab/Work/GPS/Video/Naveed/GPS_20_ThreeFPHoldSRTProbe/20240815/Top/Clips/Naveed_20240815_HoldTrial025_TopView.avi\n",
      "Duration of video [s]:  8.04 , recorded with  25.0 fps!\n",
      "Overall # of frames:  201  found with (before cropping) frame dimensions:  1280 1331\n",
      "Starting to extract posture\n",
      "Cropping based on the x1 = 0 x2 = 1280 y1 = 0 y2 = 1024. You can adjust the cropping coordinates in the config.yaml file.\n"
     ]
    },
    {
     "name": "stderr",
     "output_type": "stream",
     "text": [
      "100%|██████████| 201/201 [00:08<00:00, 23.03it/s]\n"
     ]
    },
    {
     "name": "stdout",
     "output_type": "stream",
     "text": [
      "Saving results in D:\\YuLab\\Work\\GPS\\Video\\Naveed\\GPS_20_ThreeFPHoldSRTProbe\\20240815\\Top\\Clips...\n",
      "Saving csv poses!\n",
      "Starting to analyze %  D:/YuLab/Work/GPS/Video/Naveed/GPS_20_ThreeFPHoldSRTProbe/20240815/Top/Clips/Naveed_20240815_HoldTrial026_TopView.avi\n",
      "Loading  D:/YuLab/Work/GPS/Video/Naveed/GPS_20_ThreeFPHoldSRTProbe/20240815/Top/Clips/Naveed_20240815_HoldTrial026_TopView.avi\n",
      "Duration of video [s]:  8.04 , recorded with  25.0 fps!\n",
      "Overall # of frames:  201  found with (before cropping) frame dimensions:  1280 1331\n",
      "Starting to extract posture\n",
      "Cropping based on the x1 = 0 x2 = 1280 y1 = 0 y2 = 1024. You can adjust the cropping coordinates in the config.yaml file.\n"
     ]
    },
    {
     "name": "stderr",
     "output_type": "stream",
     "text": [
      "100%|██████████| 201/201 [00:08<00:00, 23.05it/s]\n"
     ]
    },
    {
     "name": "stdout",
     "output_type": "stream",
     "text": [
      "Saving results in D:\\YuLab\\Work\\GPS\\Video\\Naveed\\GPS_20_ThreeFPHoldSRTProbe\\20240815\\Top\\Clips...\n",
      "Saving csv poses!\n",
      "Starting to analyze %  D:/YuLab/Work/GPS/Video/Naveed/GPS_20_ThreeFPHoldSRTProbe/20240815/Top/Clips/Naveed_20240815_HoldTrial027_TopView.avi\n",
      "Loading  D:/YuLab/Work/GPS/Video/Naveed/GPS_20_ThreeFPHoldSRTProbe/20240815/Top/Clips/Naveed_20240815_HoldTrial027_TopView.avi\n",
      "Duration of video [s]:  8.0 , recorded with  25.0 fps!\n",
      "Overall # of frames:  200  found with (before cropping) frame dimensions:  1280 1331\n",
      "Starting to extract posture\n",
      "Cropping based on the x1 = 0 x2 = 1280 y1 = 0 y2 = 1024. You can adjust the cropping coordinates in the config.yaml file.\n"
     ]
    },
    {
     "name": "stderr",
     "output_type": "stream",
     "text": [
      "100%|██████████| 200/200 [00:08<00:00, 23.62it/s]\n"
     ]
    },
    {
     "name": "stdout",
     "output_type": "stream",
     "text": [
      "Saving results in D:\\YuLab\\Work\\GPS\\Video\\Naveed\\GPS_20_ThreeFPHoldSRTProbe\\20240815\\Top\\Clips...\n",
      "Saving csv poses!\n",
      "Starting to analyze %  D:/YuLab/Work/GPS/Video/Naveed/GPS_20_ThreeFPHoldSRTProbe/20240815/Top/Clips/Naveed_20240815_HoldTrial028_TopView.avi\n",
      "Loading  D:/YuLab/Work/GPS/Video/Naveed/GPS_20_ThreeFPHoldSRTProbe/20240815/Top/Clips/Naveed_20240815_HoldTrial028_TopView.avi\n",
      "Duration of video [s]:  8.04 , recorded with  25.0 fps!\n",
      "Overall # of frames:  201  found with (before cropping) frame dimensions:  1280 1331\n",
      "Starting to extract posture\n",
      "Cropping based on the x1 = 0 x2 = 1280 y1 = 0 y2 = 1024. You can adjust the cropping coordinates in the config.yaml file.\n"
     ]
    },
    {
     "name": "stderr",
     "output_type": "stream",
     "text": [
      "100%|██████████| 201/201 [00:08<00:00, 23.03it/s]\n"
     ]
    },
    {
     "name": "stdout",
     "output_type": "stream",
     "text": [
      "Saving results in D:\\YuLab\\Work\\GPS\\Video\\Naveed\\GPS_20_ThreeFPHoldSRTProbe\\20240815\\Top\\Clips...\n",
      "Saving csv poses!\n",
      "Starting to analyze %  D:/YuLab/Work/GPS/Video/Naveed/GPS_20_ThreeFPHoldSRTProbe/20240815/Top/Clips/Naveed_20240815_HoldTrial029_TopView.avi\n",
      "Loading  D:/YuLab/Work/GPS/Video/Naveed/GPS_20_ThreeFPHoldSRTProbe/20240815/Top/Clips/Naveed_20240815_HoldTrial029_TopView.avi\n",
      "Duration of video [s]:  8.04 , recorded with  25.0 fps!\n",
      "Overall # of frames:  201  found with (before cropping) frame dimensions:  1280 1331\n",
      "Starting to extract posture\n",
      "Cropping based on the x1 = 0 x2 = 1280 y1 = 0 y2 = 1024. You can adjust the cropping coordinates in the config.yaml file.\n"
     ]
    },
    {
     "name": "stderr",
     "output_type": "stream",
     "text": [
      "100%|██████████| 201/201 [00:08<00:00, 23.20it/s]\n"
     ]
    },
    {
     "name": "stdout",
     "output_type": "stream",
     "text": [
      "Saving results in D:\\YuLab\\Work\\GPS\\Video\\Naveed\\GPS_20_ThreeFPHoldSRTProbe\\20240815\\Top\\Clips...\n",
      "Saving csv poses!\n",
      "Starting to analyze %  D:/YuLab/Work/GPS/Video/Naveed/GPS_20_ThreeFPHoldSRTProbe/20240815/Top/Clips/Naveed_20240815_HoldTrial030_TopView.avi\n",
      "Loading  D:/YuLab/Work/GPS/Video/Naveed/GPS_20_ThreeFPHoldSRTProbe/20240815/Top/Clips/Naveed_20240815_HoldTrial030_TopView.avi\n",
      "Duration of video [s]:  8.04 , recorded with  25.0 fps!\n",
      "Overall # of frames:  201  found with (before cropping) frame dimensions:  1280 1331\n",
      "Starting to extract posture\n",
      "Cropping based on the x1 = 0 x2 = 1280 y1 = 0 y2 = 1024. You can adjust the cropping coordinates in the config.yaml file.\n"
     ]
    },
    {
     "name": "stderr",
     "output_type": "stream",
     "text": [
      "100%|██████████| 201/201 [00:08<00:00, 23.27it/s]\n"
     ]
    },
    {
     "name": "stdout",
     "output_type": "stream",
     "text": [
      "Saving results in D:\\YuLab\\Work\\GPS\\Video\\Naveed\\GPS_20_ThreeFPHoldSRTProbe\\20240815\\Top\\Clips...\n",
      "Saving csv poses!\n",
      "Starting to analyze %  D:/YuLab/Work/GPS/Video/Naveed/GPS_20_ThreeFPHoldSRTProbe/20240815/Top/Clips/Naveed_20240815_HoldTrial031_TopView.avi\n",
      "Loading  D:/YuLab/Work/GPS/Video/Naveed/GPS_20_ThreeFPHoldSRTProbe/20240815/Top/Clips/Naveed_20240815_HoldTrial031_TopView.avi\n",
      "Duration of video [s]:  8.04 , recorded with  25.0 fps!\n",
      "Overall # of frames:  201  found with (before cropping) frame dimensions:  1280 1331\n",
      "Starting to extract posture\n",
      "Cropping based on the x1 = 0 x2 = 1280 y1 = 0 y2 = 1024. You can adjust the cropping coordinates in the config.yaml file.\n"
     ]
    },
    {
     "name": "stderr",
     "output_type": "stream",
     "text": [
      "100%|██████████| 201/201 [00:08<00:00, 23.30it/s]\n"
     ]
    },
    {
     "name": "stdout",
     "output_type": "stream",
     "text": [
      "Saving results in D:\\YuLab\\Work\\GPS\\Video\\Naveed\\GPS_20_ThreeFPHoldSRTProbe\\20240815\\Top\\Clips...\n",
      "Saving csv poses!\n",
      "Starting to analyze %  D:/YuLab/Work/GPS/Video/Naveed/GPS_20_ThreeFPHoldSRTProbe/20240815/Top/Clips/Naveed_20240815_HoldTrial032_TopView.avi\n",
      "Loading  D:/YuLab/Work/GPS/Video/Naveed/GPS_20_ThreeFPHoldSRTProbe/20240815/Top/Clips/Naveed_20240815_HoldTrial032_TopView.avi\n",
      "Duration of video [s]:  8.04 , recorded with  25.0 fps!\n",
      "Overall # of frames:  201  found with (before cropping) frame dimensions:  1280 1331\n",
      "Starting to extract posture\n",
      "Cropping based on the x1 = 0 x2 = 1280 y1 = 0 y2 = 1024. You can adjust the cropping coordinates in the config.yaml file.\n"
     ]
    },
    {
     "name": "stderr",
     "output_type": "stream",
     "text": [
      "100%|██████████| 201/201 [00:08<00:00, 23.28it/s]\n"
     ]
    },
    {
     "name": "stdout",
     "output_type": "stream",
     "text": [
      "Saving results in D:\\YuLab\\Work\\GPS\\Video\\Naveed\\GPS_20_ThreeFPHoldSRTProbe\\20240815\\Top\\Clips...\n",
      "Saving csv poses!\n",
      "Starting to analyze %  D:/YuLab/Work/GPS/Video/Naveed/GPS_20_ThreeFPHoldSRTProbe/20240815/Top/Clips/Naveed_20240815_HoldTrial033_TopView.avi\n",
      "Loading  D:/YuLab/Work/GPS/Video/Naveed/GPS_20_ThreeFPHoldSRTProbe/20240815/Top/Clips/Naveed_20240815_HoldTrial033_TopView.avi\n",
      "Duration of video [s]:  8.04 , recorded with  25.0 fps!\n",
      "Overall # of frames:  201  found with (before cropping) frame dimensions:  1280 1331\n",
      "Starting to extract posture\n",
      "Cropping based on the x1 = 0 x2 = 1280 y1 = 0 y2 = 1024. You can adjust the cropping coordinates in the config.yaml file.\n"
     ]
    },
    {
     "name": "stderr",
     "output_type": "stream",
     "text": [
      "100%|██████████| 201/201 [00:08<00:00, 23.29it/s]\n"
     ]
    },
    {
     "name": "stdout",
     "output_type": "stream",
     "text": [
      "Saving results in D:\\YuLab\\Work\\GPS\\Video\\Naveed\\GPS_20_ThreeFPHoldSRTProbe\\20240815\\Top\\Clips...\n",
      "Saving csv poses!\n",
      "Starting to analyze %  D:/YuLab/Work/GPS/Video/Naveed/GPS_20_ThreeFPHoldSRTProbe/20240815/Top/Clips/Naveed_20240815_HoldTrial034_TopView.avi\n",
      "Loading  D:/YuLab/Work/GPS/Video/Naveed/GPS_20_ThreeFPHoldSRTProbe/20240815/Top/Clips/Naveed_20240815_HoldTrial034_TopView.avi\n",
      "Duration of video [s]:  8.0 , recorded with  25.0 fps!\n",
      "Overall # of frames:  200  found with (before cropping) frame dimensions:  1280 1331\n",
      "Starting to extract posture\n",
      "Cropping based on the x1 = 0 x2 = 1280 y1 = 0 y2 = 1024. You can adjust the cropping coordinates in the config.yaml file.\n"
     ]
    },
    {
     "name": "stderr",
     "output_type": "stream",
     "text": [
      "100%|██████████| 200/200 [00:08<00:00, 23.98it/s]\n"
     ]
    },
    {
     "name": "stdout",
     "output_type": "stream",
     "text": [
      "Saving results in D:\\YuLab\\Work\\GPS\\Video\\Naveed\\GPS_20_ThreeFPHoldSRTProbe\\20240815\\Top\\Clips...\n",
      "Saving csv poses!\n",
      "Starting to analyze %  D:/YuLab/Work/GPS/Video/Naveed/GPS_20_ThreeFPHoldSRTProbe/20240815/Top/Clips/Naveed_20240815_HoldTrial035_TopView.avi\n",
      "Loading  D:/YuLab/Work/GPS/Video/Naveed/GPS_20_ThreeFPHoldSRTProbe/20240815/Top/Clips/Naveed_20240815_HoldTrial035_TopView.avi\n",
      "Duration of video [s]:  8.0 , recorded with  25.0 fps!\n",
      "Overall # of frames:  200  found with (before cropping) frame dimensions:  1280 1331\n",
      "Starting to extract posture\n",
      "Cropping based on the x1 = 0 x2 = 1280 y1 = 0 y2 = 1024. You can adjust the cropping coordinates in the config.yaml file.\n"
     ]
    },
    {
     "name": "stderr",
     "output_type": "stream",
     "text": [
      "100%|██████████| 200/200 [00:08<00:00, 23.95it/s]\n"
     ]
    },
    {
     "name": "stdout",
     "output_type": "stream",
     "text": [
      "Saving results in D:\\YuLab\\Work\\GPS\\Video\\Naveed\\GPS_20_ThreeFPHoldSRTProbe\\20240815\\Top\\Clips...\n",
      "Saving csv poses!\n",
      "Starting to analyze %  D:/YuLab/Work/GPS/Video/Naveed/GPS_20_ThreeFPHoldSRTProbe/20240815/Top/Clips/Naveed_20240815_HoldTrial036_TopView.avi\n",
      "Loading  D:/YuLab/Work/GPS/Video/Naveed/GPS_20_ThreeFPHoldSRTProbe/20240815/Top/Clips/Naveed_20240815_HoldTrial036_TopView.avi\n",
      "Duration of video [s]:  8.04 , recorded with  25.0 fps!\n",
      "Overall # of frames:  201  found with (before cropping) frame dimensions:  1280 1331\n",
      "Starting to extract posture\n",
      "Cropping based on the x1 = 0 x2 = 1280 y1 = 0 y2 = 1024. You can adjust the cropping coordinates in the config.yaml file.\n"
     ]
    },
    {
     "name": "stderr",
     "output_type": "stream",
     "text": [
      "100%|██████████| 201/201 [00:08<00:00, 23.34it/s]\n"
     ]
    },
    {
     "name": "stdout",
     "output_type": "stream",
     "text": [
      "Saving results in D:\\YuLab\\Work\\GPS\\Video\\Naveed\\GPS_20_ThreeFPHoldSRTProbe\\20240815\\Top\\Clips...\n",
      "Saving csv poses!\n",
      "Starting to analyze %  D:/YuLab/Work/GPS/Video/Naveed/GPS_20_ThreeFPHoldSRTProbe/20240815/Top/Clips/Naveed_20240815_HoldTrial037_TopView.avi\n",
      "Loading  D:/YuLab/Work/GPS/Video/Naveed/GPS_20_ThreeFPHoldSRTProbe/20240815/Top/Clips/Naveed_20240815_HoldTrial037_TopView.avi\n",
      "Duration of video [s]:  8.04 , recorded with  25.0 fps!\n",
      "Overall # of frames:  201  found with (before cropping) frame dimensions:  1280 1331\n",
      "Starting to extract posture\n",
      "Cropping based on the x1 = 0 x2 = 1280 y1 = 0 y2 = 1024. You can adjust the cropping coordinates in the config.yaml file.\n"
     ]
    },
    {
     "name": "stderr",
     "output_type": "stream",
     "text": [
      "100%|██████████| 201/201 [00:08<00:00, 23.31it/s]\n"
     ]
    },
    {
     "name": "stdout",
     "output_type": "stream",
     "text": [
      "Saving results in D:\\YuLab\\Work\\GPS\\Video\\Naveed\\GPS_20_ThreeFPHoldSRTProbe\\20240815\\Top\\Clips...\n",
      "Saving csv poses!\n",
      "Starting to analyze %  D:/YuLab/Work/GPS/Video/Naveed/GPS_20_ThreeFPHoldSRTProbe/20240815/Top/Clips/Naveed_20240815_HoldTrial038_TopView.avi\n",
      "Loading  D:/YuLab/Work/GPS/Video/Naveed/GPS_20_ThreeFPHoldSRTProbe/20240815/Top/Clips/Naveed_20240815_HoldTrial038_TopView.avi\n",
      "Duration of video [s]:  8.04 , recorded with  25.0 fps!\n",
      "Overall # of frames:  201  found with (before cropping) frame dimensions:  1280 1331\n",
      "Starting to extract posture\n",
      "Cropping based on the x1 = 0 x2 = 1280 y1 = 0 y2 = 1024. You can adjust the cropping coordinates in the config.yaml file.\n"
     ]
    },
    {
     "name": "stderr",
     "output_type": "stream",
     "text": [
      "100%|██████████| 201/201 [00:08<00:00, 23.29it/s]\n"
     ]
    },
    {
     "name": "stdout",
     "output_type": "stream",
     "text": [
      "Saving results in D:\\YuLab\\Work\\GPS\\Video\\Naveed\\GPS_20_ThreeFPHoldSRTProbe\\20240815\\Top\\Clips...\n",
      "Saving csv poses!\n",
      "Starting to analyze %  D:/YuLab/Work/GPS/Video/Naveed/GPS_20_ThreeFPHoldSRTProbe/20240815/Top/Clips/Naveed_20240815_HoldTrial039_TopView.avi\n",
      "Loading  D:/YuLab/Work/GPS/Video/Naveed/GPS_20_ThreeFPHoldSRTProbe/20240815/Top/Clips/Naveed_20240815_HoldTrial039_TopView.avi\n",
      "Duration of video [s]:  8.04 , recorded with  25.0 fps!\n",
      "Overall # of frames:  201  found with (before cropping) frame dimensions:  1280 1331\n",
      "Starting to extract posture\n",
      "Cropping based on the x1 = 0 x2 = 1280 y1 = 0 y2 = 1024. You can adjust the cropping coordinates in the config.yaml file.\n"
     ]
    },
    {
     "name": "stderr",
     "output_type": "stream",
     "text": [
      "100%|██████████| 201/201 [00:08<00:00, 23.27it/s]\n"
     ]
    },
    {
     "name": "stdout",
     "output_type": "stream",
     "text": [
      "Saving results in D:\\YuLab\\Work\\GPS\\Video\\Naveed\\GPS_20_ThreeFPHoldSRTProbe\\20240815\\Top\\Clips...\n",
      "Saving csv poses!\n",
      "Starting to analyze %  D:/YuLab/Work/GPS/Video/Naveed/GPS_20_ThreeFPHoldSRTProbe/20240815/Top/Clips/Naveed_20240815_HoldTrial040_TopView.avi\n",
      "Loading  D:/YuLab/Work/GPS/Video/Naveed/GPS_20_ThreeFPHoldSRTProbe/20240815/Top/Clips/Naveed_20240815_HoldTrial040_TopView.avi\n",
      "Duration of video [s]:  8.0 , recorded with  25.0 fps!\n",
      "Overall # of frames:  200  found with (before cropping) frame dimensions:  1280 1331\n",
      "Starting to extract posture\n",
      "Cropping based on the x1 = 0 x2 = 1280 y1 = 0 y2 = 1024. You can adjust the cropping coordinates in the config.yaml file.\n"
     ]
    },
    {
     "name": "stderr",
     "output_type": "stream",
     "text": [
      "100%|██████████| 200/200 [00:08<00:00, 23.95it/s]\n"
     ]
    },
    {
     "name": "stdout",
     "output_type": "stream",
     "text": [
      "Saving results in D:\\YuLab\\Work\\GPS\\Video\\Naveed\\GPS_20_ThreeFPHoldSRTProbe\\20240815\\Top\\Clips...\n",
      "Saving csv poses!\n",
      "Starting to analyze %  D:/YuLab/Work/GPS/Video/Naveed/GPS_20_ThreeFPHoldSRTProbe/20240815/Top/Clips/Naveed_20240815_HoldTrial041_TopView.avi\n",
      "Loading  D:/YuLab/Work/GPS/Video/Naveed/GPS_20_ThreeFPHoldSRTProbe/20240815/Top/Clips/Naveed_20240815_HoldTrial041_TopView.avi\n",
      "Duration of video [s]:  8.04 , recorded with  25.0 fps!\n",
      "Overall # of frames:  201  found with (before cropping) frame dimensions:  1280 1331\n",
      "Starting to extract posture\n",
      "Cropping based on the x1 = 0 x2 = 1280 y1 = 0 y2 = 1024. You can adjust the cropping coordinates in the config.yaml file.\n"
     ]
    },
    {
     "name": "stderr",
     "output_type": "stream",
     "text": [
      "100%|██████████| 201/201 [00:08<00:00, 23.28it/s]\n"
     ]
    },
    {
     "name": "stdout",
     "output_type": "stream",
     "text": [
      "Saving results in D:\\YuLab\\Work\\GPS\\Video\\Naveed\\GPS_20_ThreeFPHoldSRTProbe\\20240815\\Top\\Clips...\n",
      "Saving csv poses!\n",
      "Starting to analyze %  D:/YuLab/Work/GPS/Video/Naveed/GPS_20_ThreeFPHoldSRTProbe/20240815/Top/Clips/Naveed_20240815_HoldTrial042_TopView.avi\n",
      "Loading  D:/YuLab/Work/GPS/Video/Naveed/GPS_20_ThreeFPHoldSRTProbe/20240815/Top/Clips/Naveed_20240815_HoldTrial042_TopView.avi\n",
      "Duration of video [s]:  8.0 , recorded with  25.0 fps!\n",
      "Overall # of frames:  200  found with (before cropping) frame dimensions:  1280 1331\n",
      "Starting to extract posture\n",
      "Cropping based on the x1 = 0 x2 = 1280 y1 = 0 y2 = 1024. You can adjust the cropping coordinates in the config.yaml file.\n"
     ]
    },
    {
     "name": "stderr",
     "output_type": "stream",
     "text": [
      "100%|██████████| 200/200 [00:08<00:00, 23.92it/s]\n"
     ]
    },
    {
     "name": "stdout",
     "output_type": "stream",
     "text": [
      "Saving results in D:\\YuLab\\Work\\GPS\\Video\\Naveed\\GPS_20_ThreeFPHoldSRTProbe\\20240815\\Top\\Clips...\n",
      "Saving csv poses!\n",
      "Starting to analyze %  D:/YuLab/Work/GPS/Video/Naveed/GPS_20_ThreeFPHoldSRTProbe/20240815/Top/Clips/Naveed_20240815_HoldTrial043_TopView.avi\n",
      "Loading  D:/YuLab/Work/GPS/Video/Naveed/GPS_20_ThreeFPHoldSRTProbe/20240815/Top/Clips/Naveed_20240815_HoldTrial043_TopView.avi\n",
      "Duration of video [s]:  8.0 , recorded with  25.0 fps!\n",
      "Overall # of frames:  200  found with (before cropping) frame dimensions:  1280 1331\n",
      "Starting to extract posture\n",
      "Cropping based on the x1 = 0 x2 = 1280 y1 = 0 y2 = 1024. You can adjust the cropping coordinates in the config.yaml file.\n"
     ]
    },
    {
     "name": "stderr",
     "output_type": "stream",
     "text": [
      "100%|██████████| 200/200 [00:08<00:00, 23.92it/s]\n"
     ]
    },
    {
     "name": "stdout",
     "output_type": "stream",
     "text": [
      "Saving results in D:\\YuLab\\Work\\GPS\\Video\\Naveed\\GPS_20_ThreeFPHoldSRTProbe\\20240815\\Top\\Clips...\n",
      "Saving csv poses!\n",
      "Starting to analyze %  D:/YuLab/Work/GPS/Video/Naveed/GPS_20_ThreeFPHoldSRTProbe/20240815/Top/Clips/Naveed_20240815_HoldTrial044_TopView.avi\n",
      "Loading  D:/YuLab/Work/GPS/Video/Naveed/GPS_20_ThreeFPHoldSRTProbe/20240815/Top/Clips/Naveed_20240815_HoldTrial044_TopView.avi\n",
      "Duration of video [s]:  8.04 , recorded with  25.0 fps!\n",
      "Overall # of frames:  201  found with (before cropping) frame dimensions:  1280 1331\n",
      "Starting to extract posture\n",
      "Cropping based on the x1 = 0 x2 = 1280 y1 = 0 y2 = 1024. You can adjust the cropping coordinates in the config.yaml file.\n"
     ]
    },
    {
     "name": "stderr",
     "output_type": "stream",
     "text": [
      "100%|██████████| 201/201 [00:08<00:00, 23.29it/s]\n"
     ]
    },
    {
     "name": "stdout",
     "output_type": "stream",
     "text": [
      "Saving results in D:\\YuLab\\Work\\GPS\\Video\\Naveed\\GPS_20_ThreeFPHoldSRTProbe\\20240815\\Top\\Clips...\n",
      "Saving csv poses!\n",
      "Starting to analyze %  D:/YuLab/Work/GPS/Video/Naveed/GPS_20_ThreeFPHoldSRTProbe/20240815/Top/Clips/Naveed_20240815_HoldTrial045_TopView.avi\n",
      "Loading  D:/YuLab/Work/GPS/Video/Naveed/GPS_20_ThreeFPHoldSRTProbe/20240815/Top/Clips/Naveed_20240815_HoldTrial045_TopView.avi\n",
      "Duration of video [s]:  8.04 , recorded with  25.0 fps!\n",
      "Overall # of frames:  201  found with (before cropping) frame dimensions:  1280 1331\n",
      "Starting to extract posture\n",
      "Cropping based on the x1 = 0 x2 = 1280 y1 = 0 y2 = 1024. You can adjust the cropping coordinates in the config.yaml file.\n"
     ]
    },
    {
     "name": "stderr",
     "output_type": "stream",
     "text": [
      "100%|██████████| 201/201 [00:08<00:00, 23.25it/s]\n"
     ]
    },
    {
     "name": "stdout",
     "output_type": "stream",
     "text": [
      "Saving results in D:\\YuLab\\Work\\GPS\\Video\\Naveed\\GPS_20_ThreeFPHoldSRTProbe\\20240815\\Top\\Clips...\n",
      "Saving csv poses!\n",
      "Starting to analyze %  D:/YuLab/Work/GPS/Video/Naveed/GPS_20_ThreeFPHoldSRTProbe/20240815/Top/Clips/Naveed_20240815_HoldTrial046_TopView.avi\n",
      "Loading  D:/YuLab/Work/GPS/Video/Naveed/GPS_20_ThreeFPHoldSRTProbe/20240815/Top/Clips/Naveed_20240815_HoldTrial046_TopView.avi\n",
      "Duration of video [s]:  8.04 , recorded with  25.0 fps!\n",
      "Overall # of frames:  201  found with (before cropping) frame dimensions:  1280 1331\n",
      "Starting to extract posture\n",
      "Cropping based on the x1 = 0 x2 = 1280 y1 = 0 y2 = 1024. You can adjust the cropping coordinates in the config.yaml file.\n"
     ]
    },
    {
     "name": "stderr",
     "output_type": "stream",
     "text": [
      "100%|██████████| 201/201 [00:08<00:00, 23.28it/s]\n"
     ]
    },
    {
     "name": "stdout",
     "output_type": "stream",
     "text": [
      "Saving results in D:\\YuLab\\Work\\GPS\\Video\\Naveed\\GPS_20_ThreeFPHoldSRTProbe\\20240815\\Top\\Clips...\n",
      "Saving csv poses!\n",
      "Starting to analyze %  D:/YuLab/Work/GPS/Video/Naveed/GPS_20_ThreeFPHoldSRTProbe/20240815/Top/Clips/Naveed_20240815_HoldTrial047_TopView.avi\n",
      "Loading  D:/YuLab/Work/GPS/Video/Naveed/GPS_20_ThreeFPHoldSRTProbe/20240815/Top/Clips/Naveed_20240815_HoldTrial047_TopView.avi\n",
      "Duration of video [s]:  8.04 , recorded with  25.0 fps!\n",
      "Overall # of frames:  201  found with (before cropping) frame dimensions:  1280 1331\n",
      "Starting to extract posture\n",
      "Cropping based on the x1 = 0 x2 = 1280 y1 = 0 y2 = 1024. You can adjust the cropping coordinates in the config.yaml file.\n"
     ]
    },
    {
     "name": "stderr",
     "output_type": "stream",
     "text": [
      "100%|██████████| 201/201 [00:08<00:00, 23.33it/s]\n"
     ]
    },
    {
     "name": "stdout",
     "output_type": "stream",
     "text": [
      "Saving results in D:\\YuLab\\Work\\GPS\\Video\\Naveed\\GPS_20_ThreeFPHoldSRTProbe\\20240815\\Top\\Clips...\n",
      "Saving csv poses!\n",
      "Starting to analyze %  D:/YuLab/Work/GPS/Video/Naveed/GPS_20_ThreeFPHoldSRTProbe/20240815/Top/Clips/Naveed_20240815_HoldTrial048_TopView.avi\n",
      "Loading  D:/YuLab/Work/GPS/Video/Naveed/GPS_20_ThreeFPHoldSRTProbe/20240815/Top/Clips/Naveed_20240815_HoldTrial048_TopView.avi\n",
      "Duration of video [s]:  8.0 , recorded with  25.0 fps!\n",
      "Overall # of frames:  200  found with (before cropping) frame dimensions:  1280 1331\n",
      "Starting to extract posture\n",
      "Cropping based on the x1 = 0 x2 = 1280 y1 = 0 y2 = 1024. You can adjust the cropping coordinates in the config.yaml file.\n"
     ]
    },
    {
     "name": "stderr",
     "output_type": "stream",
     "text": [
      "100%|██████████| 200/200 [00:08<00:00, 23.95it/s]\n"
     ]
    },
    {
     "name": "stdout",
     "output_type": "stream",
     "text": [
      "Saving results in D:\\YuLab\\Work\\GPS\\Video\\Naveed\\GPS_20_ThreeFPHoldSRTProbe\\20240815\\Top\\Clips...\n",
      "Saving csv poses!\n",
      "Starting to analyze %  D:/YuLab/Work/GPS/Video/Naveed/GPS_20_ThreeFPHoldSRTProbe/20240815/Top/Clips/Naveed_20240815_HoldTrial049_TopView.avi\n",
      "Loading  D:/YuLab/Work/GPS/Video/Naveed/GPS_20_ThreeFPHoldSRTProbe/20240815/Top/Clips/Naveed_20240815_HoldTrial049_TopView.avi\n",
      "Duration of video [s]:  8.04 , recorded with  25.0 fps!\n",
      "Overall # of frames:  201  found with (before cropping) frame dimensions:  1280 1331\n",
      "Starting to extract posture\n",
      "Cropping based on the x1 = 0 x2 = 1280 y1 = 0 y2 = 1024. You can adjust the cropping coordinates in the config.yaml file.\n"
     ]
    },
    {
     "name": "stderr",
     "output_type": "stream",
     "text": [
      "100%|██████████| 201/201 [00:08<00:00, 23.32it/s]\n"
     ]
    },
    {
     "name": "stdout",
     "output_type": "stream",
     "text": [
      "Saving results in D:\\YuLab\\Work\\GPS\\Video\\Naveed\\GPS_20_ThreeFPHoldSRTProbe\\20240815\\Top\\Clips...\n",
      "Saving csv poses!\n",
      "Starting to analyze %  D:/YuLab/Work/GPS/Video/Naveed/GPS_20_ThreeFPHoldSRTProbe/20240815/Top/Clips/Naveed_20240815_HoldTrial050_TopView.avi\n",
      "Loading  D:/YuLab/Work/GPS/Video/Naveed/GPS_20_ThreeFPHoldSRTProbe/20240815/Top/Clips/Naveed_20240815_HoldTrial050_TopView.avi\n",
      "Duration of video [s]:  8.04 , recorded with  25.0 fps!\n",
      "Overall # of frames:  201  found with (before cropping) frame dimensions:  1280 1331\n",
      "Starting to extract posture\n",
      "Cropping based on the x1 = 0 x2 = 1280 y1 = 0 y2 = 1024. You can adjust the cropping coordinates in the config.yaml file.\n"
     ]
    },
    {
     "name": "stderr",
     "output_type": "stream",
     "text": [
      "100%|██████████| 201/201 [00:08<00:00, 23.29it/s]\n"
     ]
    },
    {
     "name": "stdout",
     "output_type": "stream",
     "text": [
      "Saving results in D:\\YuLab\\Work\\GPS\\Video\\Naveed\\GPS_20_ThreeFPHoldSRTProbe\\20240815\\Top\\Clips...\n",
      "Saving csv poses!\n",
      "Starting to analyze %  D:/YuLab/Work/GPS/Video/Naveed/GPS_20_ThreeFPHoldSRTProbe/20240815/Top/Clips/Naveed_20240815_HoldTrial051_TopView.avi\n",
      "Loading  D:/YuLab/Work/GPS/Video/Naveed/GPS_20_ThreeFPHoldSRTProbe/20240815/Top/Clips/Naveed_20240815_HoldTrial051_TopView.avi\n",
      "Duration of video [s]:  8.04 , recorded with  25.0 fps!\n",
      "Overall # of frames:  201  found with (before cropping) frame dimensions:  1280 1331\n",
      "Starting to extract posture\n",
      "Cropping based on the x1 = 0 x2 = 1280 y1 = 0 y2 = 1024. You can adjust the cropping coordinates in the config.yaml file.\n"
     ]
    },
    {
     "name": "stderr",
     "output_type": "stream",
     "text": [
      "100%|██████████| 201/201 [00:08<00:00, 23.29it/s]\n"
     ]
    },
    {
     "name": "stdout",
     "output_type": "stream",
     "text": [
      "Saving results in D:\\YuLab\\Work\\GPS\\Video\\Naveed\\GPS_20_ThreeFPHoldSRTProbe\\20240815\\Top\\Clips...\n",
      "Saving csv poses!\n",
      "Starting to analyze %  D:/YuLab/Work/GPS/Video/Naveed/GPS_20_ThreeFPHoldSRTProbe/20240815/Top/Clips/Naveed_20240815_HoldTrial052_TopView.avi\n",
      "Loading  D:/YuLab/Work/GPS/Video/Naveed/GPS_20_ThreeFPHoldSRTProbe/20240815/Top/Clips/Naveed_20240815_HoldTrial052_TopView.avi\n",
      "Duration of video [s]:  8.0 , recorded with  25.0 fps!\n",
      "Overall # of frames:  200  found with (before cropping) frame dimensions:  1280 1331\n",
      "Starting to extract posture\n",
      "Cropping based on the x1 = 0 x2 = 1280 y1 = 0 y2 = 1024. You can adjust the cropping coordinates in the config.yaml file.\n"
     ]
    },
    {
     "name": "stderr",
     "output_type": "stream",
     "text": [
      "100%|██████████| 200/200 [00:08<00:00, 23.96it/s]\n"
     ]
    },
    {
     "name": "stdout",
     "output_type": "stream",
     "text": [
      "Saving results in D:\\YuLab\\Work\\GPS\\Video\\Naveed\\GPS_20_ThreeFPHoldSRTProbe\\20240815\\Top\\Clips...\n",
      "Saving csv poses!\n",
      "Starting to analyze %  D:/YuLab/Work/GPS/Video/Naveed/GPS_20_ThreeFPHoldSRTProbe/20240815/Top/Clips/Naveed_20240815_HoldTrial053_TopView.avi\n",
      "Loading  D:/YuLab/Work/GPS/Video/Naveed/GPS_20_ThreeFPHoldSRTProbe/20240815/Top/Clips/Naveed_20240815_HoldTrial053_TopView.avi\n",
      "Duration of video [s]:  8.04 , recorded with  25.0 fps!\n",
      "Overall # of frames:  201  found with (before cropping) frame dimensions:  1280 1331\n",
      "Starting to extract posture\n",
      "Cropping based on the x1 = 0 x2 = 1280 y1 = 0 y2 = 1024. You can adjust the cropping coordinates in the config.yaml file.\n"
     ]
    },
    {
     "name": "stderr",
     "output_type": "stream",
     "text": [
      "100%|██████████| 201/201 [00:08<00:00, 23.29it/s]\n"
     ]
    },
    {
     "name": "stdout",
     "output_type": "stream",
     "text": [
      "Saving results in D:\\YuLab\\Work\\GPS\\Video\\Naveed\\GPS_20_ThreeFPHoldSRTProbe\\20240815\\Top\\Clips...\n",
      "Saving csv poses!\n",
      "Starting to analyze %  D:/YuLab/Work/GPS/Video/Naveed/GPS_20_ThreeFPHoldSRTProbe/20240815/Top/Clips/Naveed_20240815_HoldTrial054_TopView.avi\n",
      "Loading  D:/YuLab/Work/GPS/Video/Naveed/GPS_20_ThreeFPHoldSRTProbe/20240815/Top/Clips/Naveed_20240815_HoldTrial054_TopView.avi\n",
      "Duration of video [s]:  8.0 , recorded with  25.0 fps!\n",
      "Overall # of frames:  200  found with (before cropping) frame dimensions:  1280 1331\n",
      "Starting to extract posture\n",
      "Cropping based on the x1 = 0 x2 = 1280 y1 = 0 y2 = 1024. You can adjust the cropping coordinates in the config.yaml file.\n"
     ]
    },
    {
     "name": "stderr",
     "output_type": "stream",
     "text": [
      "100%|██████████| 200/200 [00:08<00:00, 23.96it/s]\n"
     ]
    },
    {
     "name": "stdout",
     "output_type": "stream",
     "text": [
      "Saving results in D:\\YuLab\\Work\\GPS\\Video\\Naveed\\GPS_20_ThreeFPHoldSRTProbe\\20240815\\Top\\Clips...\n",
      "Saving csv poses!\n",
      "Starting to analyze %  D:/YuLab/Work/GPS/Video/Naveed/GPS_20_ThreeFPHoldSRTProbe/20240815/Top/Clips/Naveed_20240815_HoldTrial055_TopView.avi\n",
      "Loading  D:/YuLab/Work/GPS/Video/Naveed/GPS_20_ThreeFPHoldSRTProbe/20240815/Top/Clips/Naveed_20240815_HoldTrial055_TopView.avi\n",
      "Duration of video [s]:  8.04 , recorded with  25.0 fps!\n",
      "Overall # of frames:  201  found with (before cropping) frame dimensions:  1280 1331\n",
      "Starting to extract posture\n",
      "Cropping based on the x1 = 0 x2 = 1280 y1 = 0 y2 = 1024. You can adjust the cropping coordinates in the config.yaml file.\n"
     ]
    },
    {
     "name": "stderr",
     "output_type": "stream",
     "text": [
      "100%|██████████| 201/201 [00:08<00:00, 23.32it/s]\n"
     ]
    },
    {
     "name": "stdout",
     "output_type": "stream",
     "text": [
      "Saving results in D:\\YuLab\\Work\\GPS\\Video\\Naveed\\GPS_20_ThreeFPHoldSRTProbe\\20240815\\Top\\Clips...\n",
      "Saving csv poses!\n",
      "Starting to analyze %  D:/YuLab/Work/GPS/Video/Naveed/GPS_20_ThreeFPHoldSRTProbe/20240815/Top/Clips/Naveed_20240815_HoldTrial056_TopView.avi\n",
      "Loading  D:/YuLab/Work/GPS/Video/Naveed/GPS_20_ThreeFPHoldSRTProbe/20240815/Top/Clips/Naveed_20240815_HoldTrial056_TopView.avi\n",
      "Duration of video [s]:  8.04 , recorded with  25.0 fps!\n",
      "Overall # of frames:  201  found with (before cropping) frame dimensions:  1280 1331\n",
      "Starting to extract posture\n",
      "Cropping based on the x1 = 0 x2 = 1280 y1 = 0 y2 = 1024. You can adjust the cropping coordinates in the config.yaml file.\n"
     ]
    },
    {
     "name": "stderr",
     "output_type": "stream",
     "text": [
      "100%|██████████| 201/201 [00:08<00:00, 23.30it/s]\n"
     ]
    },
    {
     "name": "stdout",
     "output_type": "stream",
     "text": [
      "Saving results in D:\\YuLab\\Work\\GPS\\Video\\Naveed\\GPS_20_ThreeFPHoldSRTProbe\\20240815\\Top\\Clips...\n",
      "Saving csv poses!\n",
      "Starting to analyze %  D:/YuLab/Work/GPS/Video/Naveed/GPS_20_ThreeFPHoldSRTProbe/20240815/Top/Clips/Naveed_20240815_HoldTrial057_TopView.avi\n",
      "Loading  D:/YuLab/Work/GPS/Video/Naveed/GPS_20_ThreeFPHoldSRTProbe/20240815/Top/Clips/Naveed_20240815_HoldTrial057_TopView.avi\n",
      "Duration of video [s]:  8.0 , recorded with  25.0 fps!\n",
      "Overall # of frames:  200  found with (before cropping) frame dimensions:  1280 1331\n",
      "Starting to extract posture\n",
      "Cropping based on the x1 = 0 x2 = 1280 y1 = 0 y2 = 1024. You can adjust the cropping coordinates in the config.yaml file.\n"
     ]
    },
    {
     "name": "stderr",
     "output_type": "stream",
     "text": [
      "100%|██████████| 200/200 [00:08<00:00, 23.92it/s]\n"
     ]
    },
    {
     "name": "stdout",
     "output_type": "stream",
     "text": [
      "Saving results in D:\\YuLab\\Work\\GPS\\Video\\Naveed\\GPS_20_ThreeFPHoldSRTProbe\\20240815\\Top\\Clips...\n",
      "Saving csv poses!\n",
      "Starting to analyze %  D:/YuLab/Work/GPS/Video/Naveed/GPS_20_ThreeFPHoldSRTProbe/20240815/Top/Clips/Naveed_20240815_HoldTrial058_TopView.avi\n",
      "Loading  D:/YuLab/Work/GPS/Video/Naveed/GPS_20_ThreeFPHoldSRTProbe/20240815/Top/Clips/Naveed_20240815_HoldTrial058_TopView.avi\n",
      "Duration of video [s]:  8.0 , recorded with  25.0 fps!\n",
      "Overall # of frames:  200  found with (before cropping) frame dimensions:  1280 1331\n",
      "Starting to extract posture\n",
      "Cropping based on the x1 = 0 x2 = 1280 y1 = 0 y2 = 1024. You can adjust the cropping coordinates in the config.yaml file.\n"
     ]
    },
    {
     "name": "stderr",
     "output_type": "stream",
     "text": [
      "100%|██████████| 200/200 [00:08<00:00, 23.90it/s]\n"
     ]
    },
    {
     "name": "stdout",
     "output_type": "stream",
     "text": [
      "Saving results in D:\\YuLab\\Work\\GPS\\Video\\Naveed\\GPS_20_ThreeFPHoldSRTProbe\\20240815\\Top\\Clips...\n",
      "Saving csv poses!\n",
      "Starting to analyze %  D:/YuLab/Work/GPS/Video/Naveed/GPS_20_ThreeFPHoldSRTProbe/20240815/Top/Clips/Naveed_20240815_HoldTrial059_TopView.avi\n",
      "Loading  D:/YuLab/Work/GPS/Video/Naveed/GPS_20_ThreeFPHoldSRTProbe/20240815/Top/Clips/Naveed_20240815_HoldTrial059_TopView.avi\n",
      "Duration of video [s]:  8.04 , recorded with  25.0 fps!\n",
      "Overall # of frames:  201  found with (before cropping) frame dimensions:  1280 1331\n",
      "Starting to extract posture\n",
      "Cropping based on the x1 = 0 x2 = 1280 y1 = 0 y2 = 1024. You can adjust the cropping coordinates in the config.yaml file.\n"
     ]
    },
    {
     "name": "stderr",
     "output_type": "stream",
     "text": [
      "100%|██████████| 201/201 [00:08<00:00, 23.27it/s]\n"
     ]
    },
    {
     "name": "stdout",
     "output_type": "stream",
     "text": [
      "Saving results in D:\\YuLab\\Work\\GPS\\Video\\Naveed\\GPS_20_ThreeFPHoldSRTProbe\\20240815\\Top\\Clips...\n",
      "Saving csv poses!\n",
      "Starting to analyze %  D:/YuLab/Work/GPS/Video/Naveed/GPS_20_ThreeFPHoldSRTProbe/20240815/Top/Clips/Naveed_20240815_HoldTrial060_TopView.avi\n",
      "Loading  D:/YuLab/Work/GPS/Video/Naveed/GPS_20_ThreeFPHoldSRTProbe/20240815/Top/Clips/Naveed_20240815_HoldTrial060_TopView.avi\n",
      "Duration of video [s]:  8.04 , recorded with  25.0 fps!\n",
      "Overall # of frames:  201  found with (before cropping) frame dimensions:  1280 1331\n",
      "Starting to extract posture\n",
      "Cropping based on the x1 = 0 x2 = 1280 y1 = 0 y2 = 1024. You can adjust the cropping coordinates in the config.yaml file.\n"
     ]
    },
    {
     "name": "stderr",
     "output_type": "stream",
     "text": [
      "100%|██████████| 201/201 [00:08<00:00, 23.28it/s]\n"
     ]
    },
    {
     "name": "stdout",
     "output_type": "stream",
     "text": [
      "Saving results in D:\\YuLab\\Work\\GPS\\Video\\Naveed\\GPS_20_ThreeFPHoldSRTProbe\\20240815\\Top\\Clips...\n",
      "Saving csv poses!\n",
      "Starting to analyze %  D:/YuLab/Work/GPS/Video/Naveed/GPS_20_ThreeFPHoldSRTProbe/20240815/Top/Clips/Naveed_20240815_HoldTrial061_TopView.avi\n",
      "Loading  D:/YuLab/Work/GPS/Video/Naveed/GPS_20_ThreeFPHoldSRTProbe/20240815/Top/Clips/Naveed_20240815_HoldTrial061_TopView.avi\n",
      "Duration of video [s]:  8.0 , recorded with  25.0 fps!\n",
      "Overall # of frames:  200  found with (before cropping) frame dimensions:  1280 1331\n",
      "Starting to extract posture\n",
      "Cropping based on the x1 = 0 x2 = 1280 y1 = 0 y2 = 1024. You can adjust the cropping coordinates in the config.yaml file.\n"
     ]
    },
    {
     "name": "stderr",
     "output_type": "stream",
     "text": [
      "100%|██████████| 200/200 [00:08<00:00, 23.93it/s]\n"
     ]
    },
    {
     "name": "stdout",
     "output_type": "stream",
     "text": [
      "Saving results in D:\\YuLab\\Work\\GPS\\Video\\Naveed\\GPS_20_ThreeFPHoldSRTProbe\\20240815\\Top\\Clips...\n",
      "Saving csv poses!\n",
      "Starting to analyze %  D:/YuLab/Work/GPS/Video/Naveed/GPS_20_ThreeFPHoldSRTProbe/20240815/Top/Clips/Naveed_20240815_HoldTrial062_TopView.avi\n",
      "Loading  D:/YuLab/Work/GPS/Video/Naveed/GPS_20_ThreeFPHoldSRTProbe/20240815/Top/Clips/Naveed_20240815_HoldTrial062_TopView.avi\n",
      "Duration of video [s]:  8.04 , recorded with  25.0 fps!\n",
      "Overall # of frames:  201  found with (before cropping) frame dimensions:  1280 1331\n",
      "Starting to extract posture\n",
      "Cropping based on the x1 = 0 x2 = 1280 y1 = 0 y2 = 1024. You can adjust the cropping coordinates in the config.yaml file.\n"
     ]
    },
    {
     "name": "stderr",
     "output_type": "stream",
     "text": [
      "100%|██████████| 201/201 [00:08<00:00, 23.31it/s]\n"
     ]
    },
    {
     "name": "stdout",
     "output_type": "stream",
     "text": [
      "Saving results in D:\\YuLab\\Work\\GPS\\Video\\Naveed\\GPS_20_ThreeFPHoldSRTProbe\\20240815\\Top\\Clips...\n",
      "Saving csv poses!\n",
      "Starting to analyze %  D:/YuLab/Work/GPS/Video/Naveed/GPS_20_ThreeFPHoldSRTProbe/20240815/Top/Clips/Naveed_20240815_HoldTrial063_TopView.avi\n",
      "Loading  D:/YuLab/Work/GPS/Video/Naveed/GPS_20_ThreeFPHoldSRTProbe/20240815/Top/Clips/Naveed_20240815_HoldTrial063_TopView.avi\n",
      "Duration of video [s]:  8.04 , recorded with  25.0 fps!\n",
      "Overall # of frames:  201  found with (before cropping) frame dimensions:  1280 1331\n",
      "Starting to extract posture\n",
      "Cropping based on the x1 = 0 x2 = 1280 y1 = 0 y2 = 1024. You can adjust the cropping coordinates in the config.yaml file.\n"
     ]
    },
    {
     "name": "stderr",
     "output_type": "stream",
     "text": [
      "100%|██████████| 201/201 [00:08<00:00, 23.31it/s]\n"
     ]
    },
    {
     "name": "stdout",
     "output_type": "stream",
     "text": [
      "Saving results in D:\\YuLab\\Work\\GPS\\Video\\Naveed\\GPS_20_ThreeFPHoldSRTProbe\\20240815\\Top\\Clips...\n",
      "Saving csv poses!\n",
      "Starting to analyze %  D:/YuLab/Work/GPS/Video/Naveed/GPS_20_ThreeFPHoldSRTProbe/20240815/Top/Clips/Naveed_20240815_HoldTrial064_TopView.avi\n",
      "Loading  D:/YuLab/Work/GPS/Video/Naveed/GPS_20_ThreeFPHoldSRTProbe/20240815/Top/Clips/Naveed_20240815_HoldTrial064_TopView.avi\n",
      "Duration of video [s]:  8.04 , recorded with  25.0 fps!\n",
      "Overall # of frames:  201  found with (before cropping) frame dimensions:  1280 1331\n",
      "Starting to extract posture\n",
      "Cropping based on the x1 = 0 x2 = 1280 y1 = 0 y2 = 1024. You can adjust the cropping coordinates in the config.yaml file.\n"
     ]
    },
    {
     "name": "stderr",
     "output_type": "stream",
     "text": [
      "100%|██████████| 201/201 [00:08<00:00, 23.29it/s]\n"
     ]
    },
    {
     "name": "stdout",
     "output_type": "stream",
     "text": [
      "Saving results in D:\\YuLab\\Work\\GPS\\Video\\Naveed\\GPS_20_ThreeFPHoldSRTProbe\\20240815\\Top\\Clips...\n",
      "Saving csv poses!\n",
      "Starting to analyze %  D:/YuLab/Work/GPS/Video/Naveed/GPS_20_ThreeFPHoldSRTProbe/20240815/Top/Clips/Naveed_20240815_HoldTrial065_TopView.avi\n",
      "Loading  D:/YuLab/Work/GPS/Video/Naveed/GPS_20_ThreeFPHoldSRTProbe/20240815/Top/Clips/Naveed_20240815_HoldTrial065_TopView.avi\n",
      "Duration of video [s]:  8.04 , recorded with  25.0 fps!\n",
      "Overall # of frames:  201  found with (before cropping) frame dimensions:  1280 1331\n",
      "Starting to extract posture\n",
      "Cropping based on the x1 = 0 x2 = 1280 y1 = 0 y2 = 1024. You can adjust the cropping coordinates in the config.yaml file.\n"
     ]
    },
    {
     "name": "stderr",
     "output_type": "stream",
     "text": [
      "100%|██████████| 201/201 [00:08<00:00, 23.28it/s]\n"
     ]
    },
    {
     "name": "stdout",
     "output_type": "stream",
     "text": [
      "Saving results in D:\\YuLab\\Work\\GPS\\Video\\Naveed\\GPS_20_ThreeFPHoldSRTProbe\\20240815\\Top\\Clips...\n",
      "Saving csv poses!\n",
      "Starting to analyze %  D:/YuLab/Work/GPS/Video/Naveed/GPS_20_ThreeFPHoldSRTProbe/20240815/Top/Clips/Naveed_20240815_HoldTrial066_TopView.avi\n",
      "Loading  D:/YuLab/Work/GPS/Video/Naveed/GPS_20_ThreeFPHoldSRTProbe/20240815/Top/Clips/Naveed_20240815_HoldTrial066_TopView.avi\n",
      "Duration of video [s]:  8.04 , recorded with  25.0 fps!\n",
      "Overall # of frames:  201  found with (before cropping) frame dimensions:  1280 1331\n",
      "Starting to extract posture\n",
      "Cropping based on the x1 = 0 x2 = 1280 y1 = 0 y2 = 1024. You can adjust the cropping coordinates in the config.yaml file.\n"
     ]
    },
    {
     "name": "stderr",
     "output_type": "stream",
     "text": [
      "100%|██████████| 201/201 [00:08<00:00, 23.22it/s]\n"
     ]
    },
    {
     "name": "stdout",
     "output_type": "stream",
     "text": [
      "Saving results in D:\\YuLab\\Work\\GPS\\Video\\Naveed\\GPS_20_ThreeFPHoldSRTProbe\\20240815\\Top\\Clips...\n",
      "Saving csv poses!\n",
      "Starting to analyze %  D:/YuLab/Work/GPS/Video/Naveed/GPS_20_ThreeFPHoldSRTProbe/20240815/Top/Clips/Naveed_20240815_HoldTrial067_TopView.avi\n",
      "Loading  D:/YuLab/Work/GPS/Video/Naveed/GPS_20_ThreeFPHoldSRTProbe/20240815/Top/Clips/Naveed_20240815_HoldTrial067_TopView.avi\n",
      "Duration of video [s]:  8.04 , recorded with  25.0 fps!\n",
      "Overall # of frames:  201  found with (before cropping) frame dimensions:  1280 1331\n",
      "Starting to extract posture\n",
      "Cropping based on the x1 = 0 x2 = 1280 y1 = 0 y2 = 1024. You can adjust the cropping coordinates in the config.yaml file.\n"
     ]
    },
    {
     "name": "stderr",
     "output_type": "stream",
     "text": [
      "100%|██████████| 201/201 [00:08<00:00, 23.20it/s]\n"
     ]
    },
    {
     "name": "stdout",
     "output_type": "stream",
     "text": [
      "Saving results in D:\\YuLab\\Work\\GPS\\Video\\Naveed\\GPS_20_ThreeFPHoldSRTProbe\\20240815\\Top\\Clips...\n",
      "Saving csv poses!\n",
      "Starting to analyze %  D:/YuLab/Work/GPS/Video/Naveed/GPS_20_ThreeFPHoldSRTProbe/20240815/Top/Clips/Naveed_20240815_HoldTrial068_TopView.avi\n",
      "Loading  D:/YuLab/Work/GPS/Video/Naveed/GPS_20_ThreeFPHoldSRTProbe/20240815/Top/Clips/Naveed_20240815_HoldTrial068_TopView.avi\n",
      "Duration of video [s]:  8.04 , recorded with  25.0 fps!\n",
      "Overall # of frames:  201  found with (before cropping) frame dimensions:  1280 1331\n",
      "Starting to extract posture\n",
      "Cropping based on the x1 = 0 x2 = 1280 y1 = 0 y2 = 1024. You can adjust the cropping coordinates in the config.yaml file.\n"
     ]
    },
    {
     "name": "stderr",
     "output_type": "stream",
     "text": [
      "100%|██████████| 201/201 [00:08<00:00, 23.21it/s]\n"
     ]
    },
    {
     "name": "stdout",
     "output_type": "stream",
     "text": [
      "Saving results in D:\\YuLab\\Work\\GPS\\Video\\Naveed\\GPS_20_ThreeFPHoldSRTProbe\\20240815\\Top\\Clips...\n",
      "Saving csv poses!\n",
      "Starting to analyze %  D:/YuLab/Work/GPS/Video/Naveed/GPS_20_ThreeFPHoldSRTProbe/20240815/Top/Clips/Naveed_20240815_HoldTrial069_TopView.avi\n",
      "Loading  D:/YuLab/Work/GPS/Video/Naveed/GPS_20_ThreeFPHoldSRTProbe/20240815/Top/Clips/Naveed_20240815_HoldTrial069_TopView.avi\n",
      "Duration of video [s]:  8.0 , recorded with  25.0 fps!\n",
      "Overall # of frames:  200  found with (before cropping) frame dimensions:  1280 1331\n",
      "Starting to extract posture\n",
      "Cropping based on the x1 = 0 x2 = 1280 y1 = 0 y2 = 1024. You can adjust the cropping coordinates in the config.yaml file.\n"
     ]
    },
    {
     "name": "stderr",
     "output_type": "stream",
     "text": [
      "100%|██████████| 200/200 [00:08<00:00, 23.90it/s]\n"
     ]
    },
    {
     "name": "stdout",
     "output_type": "stream",
     "text": [
      "Saving results in D:\\YuLab\\Work\\GPS\\Video\\Naveed\\GPS_20_ThreeFPHoldSRTProbe\\20240815\\Top\\Clips...\n",
      "Saving csv poses!\n",
      "Starting to analyze %  D:/YuLab/Work/GPS/Video/Naveed/GPS_20_ThreeFPHoldSRTProbe/20240815/Top/Clips/Naveed_20240815_HoldTrial070_TopView.avi\n",
      "Loading  D:/YuLab/Work/GPS/Video/Naveed/GPS_20_ThreeFPHoldSRTProbe/20240815/Top/Clips/Naveed_20240815_HoldTrial070_TopView.avi\n",
      "Duration of video [s]:  8.0 , recorded with  25.0 fps!\n",
      "Overall # of frames:  200  found with (before cropping) frame dimensions:  1280 1331\n",
      "Starting to extract posture\n",
      "Cropping based on the x1 = 0 x2 = 1280 y1 = 0 y2 = 1024. You can adjust the cropping coordinates in the config.yaml file.\n"
     ]
    },
    {
     "name": "stderr",
     "output_type": "stream",
     "text": [
      "100%|██████████| 200/200 [00:08<00:00, 24.02it/s]\n"
     ]
    },
    {
     "name": "stdout",
     "output_type": "stream",
     "text": [
      "Saving results in D:\\YuLab\\Work\\GPS\\Video\\Naveed\\GPS_20_ThreeFPHoldSRTProbe\\20240815\\Top\\Clips...\n",
      "Saving csv poses!\n",
      "Starting to analyze %  D:/YuLab/Work/GPS/Video/Naveed/GPS_20_ThreeFPHoldSRTProbe/20240815/Top/Clips/Naveed_20240815_HoldTrial071_TopView.avi\n",
      "Loading  D:/YuLab/Work/GPS/Video/Naveed/GPS_20_ThreeFPHoldSRTProbe/20240815/Top/Clips/Naveed_20240815_HoldTrial071_TopView.avi\n",
      "Duration of video [s]:  8.04 , recorded with  25.0 fps!\n",
      "Overall # of frames:  201  found with (before cropping) frame dimensions:  1280 1331\n",
      "Starting to extract posture\n",
      "Cropping based on the x1 = 0 x2 = 1280 y1 = 0 y2 = 1024. You can adjust the cropping coordinates in the config.yaml file.\n"
     ]
    },
    {
     "name": "stderr",
     "output_type": "stream",
     "text": [
      "100%|██████████| 201/201 [00:08<00:00, 23.37it/s]\n"
     ]
    },
    {
     "name": "stdout",
     "output_type": "stream",
     "text": [
      "Saving results in D:\\YuLab\\Work\\GPS\\Video\\Naveed\\GPS_20_ThreeFPHoldSRTProbe\\20240815\\Top\\Clips...\n",
      "Saving csv poses!\n",
      "Starting to analyze %  D:/YuLab/Work/GPS/Video/Naveed/GPS_20_ThreeFPHoldSRTProbe/20240815/Top/Clips/Naveed_20240815_HoldTrial072_TopView.avi\n",
      "Loading  D:/YuLab/Work/GPS/Video/Naveed/GPS_20_ThreeFPHoldSRTProbe/20240815/Top/Clips/Naveed_20240815_HoldTrial072_TopView.avi\n",
      "Duration of video [s]:  8.04 , recorded with  25.0 fps!\n",
      "Overall # of frames:  201  found with (before cropping) frame dimensions:  1280 1331\n",
      "Starting to extract posture\n",
      "Cropping based on the x1 = 0 x2 = 1280 y1 = 0 y2 = 1024. You can adjust the cropping coordinates in the config.yaml file.\n"
     ]
    },
    {
     "name": "stderr",
     "output_type": "stream",
     "text": [
      "100%|██████████| 201/201 [00:08<00:00, 23.33it/s]\n"
     ]
    },
    {
     "name": "stdout",
     "output_type": "stream",
     "text": [
      "Saving results in D:\\YuLab\\Work\\GPS\\Video\\Naveed\\GPS_20_ThreeFPHoldSRTProbe\\20240815\\Top\\Clips...\n",
      "Saving csv poses!\n",
      "Starting to analyze %  D:/YuLab/Work/GPS/Video/Naveed/GPS_20_ThreeFPHoldSRTProbe/20240815/Top/Clips/Naveed_20240815_HoldTrial073_TopView.avi\n",
      "Loading  D:/YuLab/Work/GPS/Video/Naveed/GPS_20_ThreeFPHoldSRTProbe/20240815/Top/Clips/Naveed_20240815_HoldTrial073_TopView.avi\n",
      "Duration of video [s]:  8.04 , recorded with  25.0 fps!\n",
      "Overall # of frames:  201  found with (before cropping) frame dimensions:  1280 1331\n",
      "Starting to extract posture\n",
      "Cropping based on the x1 = 0 x2 = 1280 y1 = 0 y2 = 1024. You can adjust the cropping coordinates in the config.yaml file.\n"
     ]
    },
    {
     "name": "stderr",
     "output_type": "stream",
     "text": [
      "100%|██████████| 201/201 [00:08<00:00, 23.31it/s]\n"
     ]
    },
    {
     "name": "stdout",
     "output_type": "stream",
     "text": [
      "Saving results in D:\\YuLab\\Work\\GPS\\Video\\Naveed\\GPS_20_ThreeFPHoldSRTProbe\\20240815\\Top\\Clips...\n",
      "Saving csv poses!\n",
      "Starting to analyze %  D:/YuLab/Work/GPS/Video/Naveed/GPS_20_ThreeFPHoldSRTProbe/20240815/Top/Clips/Naveed_20240815_HoldTrial074_TopView.avi\n",
      "Loading  D:/YuLab/Work/GPS/Video/Naveed/GPS_20_ThreeFPHoldSRTProbe/20240815/Top/Clips/Naveed_20240815_HoldTrial074_TopView.avi\n",
      "Duration of video [s]:  8.04 , recorded with  25.0 fps!\n",
      "Overall # of frames:  201  found with (before cropping) frame dimensions:  1280 1331\n",
      "Starting to extract posture\n",
      "Cropping based on the x1 = 0 x2 = 1280 y1 = 0 y2 = 1024. You can adjust the cropping coordinates in the config.yaml file.\n"
     ]
    },
    {
     "name": "stderr",
     "output_type": "stream",
     "text": [
      "100%|██████████| 201/201 [00:08<00:00, 23.37it/s]\n"
     ]
    },
    {
     "name": "stdout",
     "output_type": "stream",
     "text": [
      "Saving results in D:\\YuLab\\Work\\GPS\\Video\\Naveed\\GPS_20_ThreeFPHoldSRTProbe\\20240815\\Top\\Clips...\n",
      "Saving csv poses!\n",
      "Starting to analyze %  D:/YuLab/Work/GPS/Video/Naveed/GPS_20_ThreeFPHoldSRTProbe/20240815/Top/Clips/Naveed_20240815_HoldTrial075_TopView.avi\n",
      "Loading  D:/YuLab/Work/GPS/Video/Naveed/GPS_20_ThreeFPHoldSRTProbe/20240815/Top/Clips/Naveed_20240815_HoldTrial075_TopView.avi\n",
      "Duration of video [s]:  8.0 , recorded with  25.0 fps!\n",
      "Overall # of frames:  200  found with (before cropping) frame dimensions:  1280 1331\n",
      "Starting to extract posture\n",
      "Cropping based on the x1 = 0 x2 = 1280 y1 = 0 y2 = 1024. You can adjust the cropping coordinates in the config.yaml file.\n"
     ]
    },
    {
     "name": "stderr",
     "output_type": "stream",
     "text": [
      "100%|██████████| 200/200 [00:08<00:00, 24.04it/s]\n"
     ]
    },
    {
     "name": "stdout",
     "output_type": "stream",
     "text": [
      "Saving results in D:\\YuLab\\Work\\GPS\\Video\\Naveed\\GPS_20_ThreeFPHoldSRTProbe\\20240815\\Top\\Clips...\n",
      "Saving csv poses!\n",
      "Starting to analyze %  D:/YuLab/Work/GPS/Video/Naveed/GPS_20_ThreeFPHoldSRTProbe/20240815/Top/Clips/Naveed_20240815_HoldTrial076_TopView.avi\n",
      "Loading  D:/YuLab/Work/GPS/Video/Naveed/GPS_20_ThreeFPHoldSRTProbe/20240815/Top/Clips/Naveed_20240815_HoldTrial076_TopView.avi\n",
      "Duration of video [s]:  8.04 , recorded with  25.0 fps!\n",
      "Overall # of frames:  201  found with (before cropping) frame dimensions:  1280 1331\n",
      "Starting to extract posture\n",
      "Cropping based on the x1 = 0 x2 = 1280 y1 = 0 y2 = 1024. You can adjust the cropping coordinates in the config.yaml file.\n"
     ]
    },
    {
     "name": "stderr",
     "output_type": "stream",
     "text": [
      "100%|██████████| 201/201 [00:08<00:00, 23.33it/s]\n"
     ]
    },
    {
     "name": "stdout",
     "output_type": "stream",
     "text": [
      "Saving results in D:\\YuLab\\Work\\GPS\\Video\\Naveed\\GPS_20_ThreeFPHoldSRTProbe\\20240815\\Top\\Clips...\n",
      "Saving csv poses!\n",
      "Starting to analyze %  D:/YuLab/Work/GPS/Video/Naveed/GPS_20_ThreeFPHoldSRTProbe/20240815/Top/Clips/Naveed_20240815_HoldTrial077_TopView.avi\n",
      "Loading  D:/YuLab/Work/GPS/Video/Naveed/GPS_20_ThreeFPHoldSRTProbe/20240815/Top/Clips/Naveed_20240815_HoldTrial077_TopView.avi\n",
      "Duration of video [s]:  8.04 , recorded with  25.0 fps!\n",
      "Overall # of frames:  201  found with (before cropping) frame dimensions:  1280 1331\n",
      "Starting to extract posture\n",
      "Cropping based on the x1 = 0 x2 = 1280 y1 = 0 y2 = 1024. You can adjust the cropping coordinates in the config.yaml file.\n"
     ]
    },
    {
     "name": "stderr",
     "output_type": "stream",
     "text": [
      "100%|██████████| 201/201 [00:08<00:00, 23.31it/s]\n"
     ]
    },
    {
     "name": "stdout",
     "output_type": "stream",
     "text": [
      "Saving results in D:\\YuLab\\Work\\GPS\\Video\\Naveed\\GPS_20_ThreeFPHoldSRTProbe\\20240815\\Top\\Clips...\n",
      "Saving csv poses!\n",
      "Starting to analyze %  D:/YuLab/Work/GPS/Video/Naveed/GPS_20_ThreeFPHoldSRTProbe/20240815/Top/Clips/Naveed_20240815_HoldTrial078_TopView.avi\n",
      "Loading  D:/YuLab/Work/GPS/Video/Naveed/GPS_20_ThreeFPHoldSRTProbe/20240815/Top/Clips/Naveed_20240815_HoldTrial078_TopView.avi\n",
      "Duration of video [s]:  8.04 , recorded with  25.0 fps!\n",
      "Overall # of frames:  201  found with (before cropping) frame dimensions:  1280 1331\n",
      "Starting to extract posture\n",
      "Cropping based on the x1 = 0 x2 = 1280 y1 = 0 y2 = 1024. You can adjust the cropping coordinates in the config.yaml file.\n"
     ]
    },
    {
     "name": "stderr",
     "output_type": "stream",
     "text": [
      "100%|██████████| 201/201 [00:08<00:00, 23.31it/s]\n"
     ]
    },
    {
     "name": "stdout",
     "output_type": "stream",
     "text": [
      "Saving results in D:\\YuLab\\Work\\GPS\\Video\\Naveed\\GPS_20_ThreeFPHoldSRTProbe\\20240815\\Top\\Clips...\n",
      "Saving csv poses!\n",
      "Starting to analyze %  D:/YuLab/Work/GPS/Video/Naveed/GPS_20_ThreeFPHoldSRTProbe/20240815/Top/Clips/Naveed_20240815_HoldTrial079_TopView.avi\n",
      "Loading  D:/YuLab/Work/GPS/Video/Naveed/GPS_20_ThreeFPHoldSRTProbe/20240815/Top/Clips/Naveed_20240815_HoldTrial079_TopView.avi\n",
      "Duration of video [s]:  8.04 , recorded with  25.0 fps!\n",
      "Overall # of frames:  201  found with (before cropping) frame dimensions:  1280 1331\n",
      "Starting to extract posture\n",
      "Cropping based on the x1 = 0 x2 = 1280 y1 = 0 y2 = 1024. You can adjust the cropping coordinates in the config.yaml file.\n"
     ]
    },
    {
     "name": "stderr",
     "output_type": "stream",
     "text": [
      "100%|██████████| 201/201 [00:08<00:00, 23.31it/s]\n"
     ]
    },
    {
     "name": "stdout",
     "output_type": "stream",
     "text": [
      "Saving results in D:\\YuLab\\Work\\GPS\\Video\\Naveed\\GPS_20_ThreeFPHoldSRTProbe\\20240815\\Top\\Clips...\n",
      "Saving csv poses!\n",
      "Starting to analyze %  D:/YuLab/Work/GPS/Video/Naveed/GPS_20_ThreeFPHoldSRTProbe/20240815/Top/Clips/Naveed_20240815_HoldTrial080_TopView.avi\n",
      "Loading  D:/YuLab/Work/GPS/Video/Naveed/GPS_20_ThreeFPHoldSRTProbe/20240815/Top/Clips/Naveed_20240815_HoldTrial080_TopView.avi\n",
      "Duration of video [s]:  8.04 , recorded with  25.0 fps!\n",
      "Overall # of frames:  201  found with (before cropping) frame dimensions:  1280 1331\n",
      "Starting to extract posture\n",
      "Cropping based on the x1 = 0 x2 = 1280 y1 = 0 y2 = 1024. You can adjust the cropping coordinates in the config.yaml file.\n"
     ]
    },
    {
     "name": "stderr",
     "output_type": "stream",
     "text": [
      "100%|██████████| 201/201 [00:08<00:00, 23.31it/s]\n"
     ]
    },
    {
     "name": "stdout",
     "output_type": "stream",
     "text": [
      "Saving results in D:\\YuLab\\Work\\GPS\\Video\\Naveed\\GPS_20_ThreeFPHoldSRTProbe\\20240815\\Top\\Clips...\n",
      "Saving csv poses!\n",
      "Starting to analyze %  D:/YuLab/Work/GPS/Video/Naveed/GPS_20_ThreeFPHoldSRTProbe/20240815/Top/Clips/Naveed_20240815_HoldTrial081_TopView.avi\n",
      "Loading  D:/YuLab/Work/GPS/Video/Naveed/GPS_20_ThreeFPHoldSRTProbe/20240815/Top/Clips/Naveed_20240815_HoldTrial081_TopView.avi\n",
      "Duration of video [s]:  8.04 , recorded with  25.0 fps!\n",
      "Overall # of frames:  201  found with (before cropping) frame dimensions:  1280 1331\n",
      "Starting to extract posture\n",
      "Cropping based on the x1 = 0 x2 = 1280 y1 = 0 y2 = 1024. You can adjust the cropping coordinates in the config.yaml file.\n"
     ]
    },
    {
     "name": "stderr",
     "output_type": "stream",
     "text": [
      "100%|██████████| 201/201 [00:08<00:00, 23.31it/s]\n"
     ]
    },
    {
     "name": "stdout",
     "output_type": "stream",
     "text": [
      "Saving results in D:\\YuLab\\Work\\GPS\\Video\\Naveed\\GPS_20_ThreeFPHoldSRTProbe\\20240815\\Top\\Clips...\n",
      "Saving csv poses!\n",
      "Starting to analyze %  D:/YuLab/Work/GPS/Video/Naveed/GPS_20_ThreeFPHoldSRTProbe/20240815/Top/Clips/Naveed_20240815_HoldTrial082_TopView.avi\n",
      "Loading  D:/YuLab/Work/GPS/Video/Naveed/GPS_20_ThreeFPHoldSRTProbe/20240815/Top/Clips/Naveed_20240815_HoldTrial082_TopView.avi\n",
      "Duration of video [s]:  8.04 , recorded with  25.0 fps!\n",
      "Overall # of frames:  201  found with (before cropping) frame dimensions:  1280 1331\n",
      "Starting to extract posture\n",
      "Cropping based on the x1 = 0 x2 = 1280 y1 = 0 y2 = 1024. You can adjust the cropping coordinates in the config.yaml file.\n"
     ]
    },
    {
     "name": "stderr",
     "output_type": "stream",
     "text": [
      "100%|██████████| 201/201 [00:08<00:00, 23.30it/s]\n"
     ]
    },
    {
     "name": "stdout",
     "output_type": "stream",
     "text": [
      "Saving results in D:\\YuLab\\Work\\GPS\\Video\\Naveed\\GPS_20_ThreeFPHoldSRTProbe\\20240815\\Top\\Clips...\n",
      "Saving csv poses!\n",
      "Starting to analyze %  D:/YuLab/Work/GPS/Video/Naveed/GPS_20_ThreeFPHoldSRTProbe/20240815/Top/Clips/Naveed_20240815_HoldTrial083_TopView.avi\n",
      "Loading  D:/YuLab/Work/GPS/Video/Naveed/GPS_20_ThreeFPHoldSRTProbe/20240815/Top/Clips/Naveed_20240815_HoldTrial083_TopView.avi\n",
      "Duration of video [s]:  8.04 , recorded with  25.0 fps!\n",
      "Overall # of frames:  201  found with (before cropping) frame dimensions:  1280 1331\n",
      "Starting to extract posture\n",
      "Cropping based on the x1 = 0 x2 = 1280 y1 = 0 y2 = 1024. You can adjust the cropping coordinates in the config.yaml file.\n"
     ]
    },
    {
     "name": "stderr",
     "output_type": "stream",
     "text": [
      "100%|██████████| 201/201 [00:08<00:00, 23.31it/s]\n"
     ]
    },
    {
     "name": "stdout",
     "output_type": "stream",
     "text": [
      "Saving results in D:\\YuLab\\Work\\GPS\\Video\\Naveed\\GPS_20_ThreeFPHoldSRTProbe\\20240815\\Top\\Clips...\n",
      "Saving csv poses!\n",
      "Starting to analyze %  D:/YuLab/Work/GPS/Video/Naveed/GPS_20_ThreeFPHoldSRTProbe/20240908/Top/Clips/Naveed_20240908_HoldTrial021_TopView.avi\n",
      "Loading  D:/YuLab/Work/GPS/Video/Naveed/GPS_20_ThreeFPHoldSRTProbe/20240908/Top/Clips/Naveed_20240908_HoldTrial021_TopView.avi\n",
      "Duration of video [s]:  8.04 , recorded with  25.0 fps!\n",
      "Overall # of frames:  201  found with (before cropping) frame dimensions:  1280 1331\n",
      "Starting to extract posture\n",
      "Cropping based on the x1 = 0 x2 = 1280 y1 = 0 y2 = 1024. You can adjust the cropping coordinates in the config.yaml file.\n"
     ]
    },
    {
     "name": "stderr",
     "output_type": "stream",
     "text": [
      "100%|██████████| 201/201 [00:08<00:00, 23.28it/s]\n"
     ]
    },
    {
     "name": "stdout",
     "output_type": "stream",
     "text": [
      "Saving results in D:\\YuLab\\Work\\GPS\\Video\\Naveed\\GPS_20_ThreeFPHoldSRTProbe\\20240908\\Top\\Clips...\n",
      "Saving csv poses!\n",
      "Starting to analyze %  D:/YuLab/Work/GPS/Video/Naveed/GPS_20_ThreeFPHoldSRTProbe/20240908/Top/Clips/Naveed_20240908_HoldTrial022_TopView.avi\n",
      "Loading  D:/YuLab/Work/GPS/Video/Naveed/GPS_20_ThreeFPHoldSRTProbe/20240908/Top/Clips/Naveed_20240908_HoldTrial022_TopView.avi\n",
      "Duration of video [s]:  8.0 , recorded with  25.0 fps!\n",
      "Overall # of frames:  200  found with (before cropping) frame dimensions:  1280 1331\n",
      "Starting to extract posture\n",
      "Cropping based on the x1 = 0 x2 = 1280 y1 = 0 y2 = 1024. You can adjust the cropping coordinates in the config.yaml file.\n"
     ]
    },
    {
     "name": "stderr",
     "output_type": "stream",
     "text": [
      "100%|██████████| 200/200 [00:08<00:00, 23.95it/s]\n"
     ]
    },
    {
     "name": "stdout",
     "output_type": "stream",
     "text": [
      "Saving results in D:\\YuLab\\Work\\GPS\\Video\\Naveed\\GPS_20_ThreeFPHoldSRTProbe\\20240908\\Top\\Clips...\n",
      "Saving csv poses!\n",
      "Starting to analyze %  D:/YuLab/Work/GPS/Video/Naveed/GPS_20_ThreeFPHoldSRTProbe/20240908/Top/Clips/Naveed_20240908_HoldTrial023_TopView.avi\n",
      "Loading  D:/YuLab/Work/GPS/Video/Naveed/GPS_20_ThreeFPHoldSRTProbe/20240908/Top/Clips/Naveed_20240908_HoldTrial023_TopView.avi\n",
      "Duration of video [s]:  8.04 , recorded with  25.0 fps!\n",
      "Overall # of frames:  201  found with (before cropping) frame dimensions:  1280 1331\n",
      "Starting to extract posture\n",
      "Cropping based on the x1 = 0 x2 = 1280 y1 = 0 y2 = 1024. You can adjust the cropping coordinates in the config.yaml file.\n"
     ]
    },
    {
     "name": "stderr",
     "output_type": "stream",
     "text": [
      "100%|██████████| 201/201 [00:08<00:00, 23.30it/s]\n"
     ]
    },
    {
     "name": "stdout",
     "output_type": "stream",
     "text": [
      "Saving results in D:\\YuLab\\Work\\GPS\\Video\\Naveed\\GPS_20_ThreeFPHoldSRTProbe\\20240908\\Top\\Clips...\n",
      "Saving csv poses!\n",
      "Starting to analyze %  D:/YuLab/Work/GPS/Video/Naveed/GPS_20_ThreeFPHoldSRTProbe/20240908/Top/Clips/Naveed_20240908_HoldTrial024_TopView.avi\n",
      "Loading  D:/YuLab/Work/GPS/Video/Naveed/GPS_20_ThreeFPHoldSRTProbe/20240908/Top/Clips/Naveed_20240908_HoldTrial024_TopView.avi\n",
      "Duration of video [s]:  8.04 , recorded with  25.0 fps!\n",
      "Overall # of frames:  201  found with (before cropping) frame dimensions:  1280 1331\n",
      "Starting to extract posture\n",
      "Cropping based on the x1 = 0 x2 = 1280 y1 = 0 y2 = 1024. You can adjust the cropping coordinates in the config.yaml file.\n"
     ]
    },
    {
     "name": "stderr",
     "output_type": "stream",
     "text": [
      "100%|██████████| 201/201 [00:08<00:00, 23.31it/s]\n"
     ]
    },
    {
     "name": "stdout",
     "output_type": "stream",
     "text": [
      "Saving results in D:\\YuLab\\Work\\GPS\\Video\\Naveed\\GPS_20_ThreeFPHoldSRTProbe\\20240908\\Top\\Clips...\n",
      "Saving csv poses!\n",
      "Starting to analyze %  D:/YuLab/Work/GPS/Video/Naveed/GPS_20_ThreeFPHoldSRTProbe/20240908/Top/Clips/Naveed_20240908_HoldTrial025_TopView.avi\n",
      "Loading  D:/YuLab/Work/GPS/Video/Naveed/GPS_20_ThreeFPHoldSRTProbe/20240908/Top/Clips/Naveed_20240908_HoldTrial025_TopView.avi\n",
      "Duration of video [s]:  8.04 , recorded with  25.0 fps!\n",
      "Overall # of frames:  201  found with (before cropping) frame dimensions:  1280 1331\n",
      "Starting to extract posture\n",
      "Cropping based on the x1 = 0 x2 = 1280 y1 = 0 y2 = 1024. You can adjust the cropping coordinates in the config.yaml file.\n"
     ]
    },
    {
     "name": "stderr",
     "output_type": "stream",
     "text": [
      "100%|██████████| 201/201 [00:08<00:00, 23.31it/s]\n"
     ]
    },
    {
     "name": "stdout",
     "output_type": "stream",
     "text": [
      "Saving results in D:\\YuLab\\Work\\GPS\\Video\\Naveed\\GPS_20_ThreeFPHoldSRTProbe\\20240908\\Top\\Clips...\n",
      "Saving csv poses!\n",
      "Starting to analyze %  D:/YuLab/Work/GPS/Video/Naveed/GPS_20_ThreeFPHoldSRTProbe/20240908/Top/Clips/Naveed_20240908_HoldTrial026_TopView.avi\n",
      "Loading  D:/YuLab/Work/GPS/Video/Naveed/GPS_20_ThreeFPHoldSRTProbe/20240908/Top/Clips/Naveed_20240908_HoldTrial026_TopView.avi\n",
      "Duration of video [s]:  8.0 , recorded with  25.0 fps!\n",
      "Overall # of frames:  200  found with (before cropping) frame dimensions:  1280 1331\n",
      "Starting to extract posture\n",
      "Cropping based on the x1 = 0 x2 = 1280 y1 = 0 y2 = 1024. You can adjust the cropping coordinates in the config.yaml file.\n"
     ]
    },
    {
     "name": "stderr",
     "output_type": "stream",
     "text": [
      "100%|██████████| 200/200 [00:08<00:00, 23.96it/s]\n"
     ]
    },
    {
     "name": "stdout",
     "output_type": "stream",
     "text": [
      "Saving results in D:\\YuLab\\Work\\GPS\\Video\\Naveed\\GPS_20_ThreeFPHoldSRTProbe\\20240908\\Top\\Clips...\n",
      "Saving csv poses!\n",
      "Starting to analyze %  D:/YuLab/Work/GPS/Video/Naveed/GPS_20_ThreeFPHoldSRTProbe/20240908/Top/Clips/Naveed_20240908_HoldTrial027_TopView.avi\n",
      "Loading  D:/YuLab/Work/GPS/Video/Naveed/GPS_20_ThreeFPHoldSRTProbe/20240908/Top/Clips/Naveed_20240908_HoldTrial027_TopView.avi\n",
      "Duration of video [s]:  8.04 , recorded with  25.0 fps!\n",
      "Overall # of frames:  201  found with (before cropping) frame dimensions:  1280 1331\n",
      "Starting to extract posture\n",
      "Cropping based on the x1 = 0 x2 = 1280 y1 = 0 y2 = 1024. You can adjust the cropping coordinates in the config.yaml file.\n"
     ]
    },
    {
     "name": "stderr",
     "output_type": "stream",
     "text": [
      "100%|██████████| 201/201 [00:08<00:00, 23.27it/s]\n"
     ]
    },
    {
     "name": "stdout",
     "output_type": "stream",
     "text": [
      "Saving results in D:\\YuLab\\Work\\GPS\\Video\\Naveed\\GPS_20_ThreeFPHoldSRTProbe\\20240908\\Top\\Clips...\n",
      "Saving csv poses!\n",
      "Starting to analyze %  D:/YuLab/Work/GPS/Video/Naveed/GPS_20_ThreeFPHoldSRTProbe/20240908/Top/Clips/Naveed_20240908_HoldTrial028_TopView.avi\n",
      "Loading  D:/YuLab/Work/GPS/Video/Naveed/GPS_20_ThreeFPHoldSRTProbe/20240908/Top/Clips/Naveed_20240908_HoldTrial028_TopView.avi\n",
      "Duration of video [s]:  8.04 , recorded with  25.0 fps!\n",
      "Overall # of frames:  201  found with (before cropping) frame dimensions:  1280 1331\n",
      "Starting to extract posture\n",
      "Cropping based on the x1 = 0 x2 = 1280 y1 = 0 y2 = 1024. You can adjust the cropping coordinates in the config.yaml file.\n"
     ]
    },
    {
     "name": "stderr",
     "output_type": "stream",
     "text": [
      "100%|██████████| 201/201 [00:08<00:00, 23.31it/s]\n"
     ]
    },
    {
     "name": "stdout",
     "output_type": "stream",
     "text": [
      "Saving results in D:\\YuLab\\Work\\GPS\\Video\\Naveed\\GPS_20_ThreeFPHoldSRTProbe\\20240908\\Top\\Clips...\n",
      "Saving csv poses!\n",
      "Starting to analyze %  D:/YuLab/Work/GPS/Video/Naveed/GPS_20_ThreeFPHoldSRTProbe/20240908/Top/Clips/Naveed_20240908_HoldTrial029_TopView.avi\n",
      "Loading  D:/YuLab/Work/GPS/Video/Naveed/GPS_20_ThreeFPHoldSRTProbe/20240908/Top/Clips/Naveed_20240908_HoldTrial029_TopView.avi\n",
      "Duration of video [s]:  8.04 , recorded with  25.0 fps!\n",
      "Overall # of frames:  201  found with (before cropping) frame dimensions:  1280 1331\n",
      "Starting to extract posture\n",
      "Cropping based on the x1 = 0 x2 = 1280 y1 = 0 y2 = 1024. You can adjust the cropping coordinates in the config.yaml file.\n"
     ]
    },
    {
     "name": "stderr",
     "output_type": "stream",
     "text": [
      "100%|██████████| 201/201 [00:08<00:00, 23.30it/s]\n"
     ]
    },
    {
     "name": "stdout",
     "output_type": "stream",
     "text": [
      "Saving results in D:\\YuLab\\Work\\GPS\\Video\\Naveed\\GPS_20_ThreeFPHoldSRTProbe\\20240908\\Top\\Clips...\n",
      "Saving csv poses!\n",
      "Starting to analyze %  D:/YuLab/Work/GPS/Video/Naveed/GPS_20_ThreeFPHoldSRTProbe/20240908/Top/Clips/Naveed_20240908_HoldTrial030_TopView.avi\n",
      "Loading  D:/YuLab/Work/GPS/Video/Naveed/GPS_20_ThreeFPHoldSRTProbe/20240908/Top/Clips/Naveed_20240908_HoldTrial030_TopView.avi\n",
      "Duration of video [s]:  8.0 , recorded with  25.0 fps!\n",
      "Overall # of frames:  200  found with (before cropping) frame dimensions:  1280 1331\n",
      "Starting to extract posture\n",
      "Cropping based on the x1 = 0 x2 = 1280 y1 = 0 y2 = 1024. You can adjust the cropping coordinates in the config.yaml file.\n"
     ]
    },
    {
     "name": "stderr",
     "output_type": "stream",
     "text": [
      "100%|██████████| 200/200 [00:08<00:00, 23.99it/s]\n"
     ]
    },
    {
     "name": "stdout",
     "output_type": "stream",
     "text": [
      "Saving results in D:\\YuLab\\Work\\GPS\\Video\\Naveed\\GPS_20_ThreeFPHoldSRTProbe\\20240908\\Top\\Clips...\n",
      "Saving csv poses!\n",
      "Starting to analyze %  D:/YuLab/Work/GPS/Video/Naveed/GPS_20_ThreeFPHoldSRTProbe/20240908/Top/Clips/Naveed_20240908_HoldTrial031_TopView.avi\n",
      "Loading  D:/YuLab/Work/GPS/Video/Naveed/GPS_20_ThreeFPHoldSRTProbe/20240908/Top/Clips/Naveed_20240908_HoldTrial031_TopView.avi\n",
      "Duration of video [s]:  8.04 , recorded with  25.0 fps!\n",
      "Overall # of frames:  201  found with (before cropping) frame dimensions:  1280 1331\n",
      "Starting to extract posture\n",
      "Cropping based on the x1 = 0 x2 = 1280 y1 = 0 y2 = 1024. You can adjust the cropping coordinates in the config.yaml file.\n"
     ]
    },
    {
     "name": "stderr",
     "output_type": "stream",
     "text": [
      "100%|██████████| 201/201 [00:08<00:00, 23.29it/s]\n"
     ]
    },
    {
     "name": "stdout",
     "output_type": "stream",
     "text": [
      "Saving results in D:\\YuLab\\Work\\GPS\\Video\\Naveed\\GPS_20_ThreeFPHoldSRTProbe\\20240908\\Top\\Clips...\n",
      "Saving csv poses!\n",
      "Starting to analyze %  D:/YuLab/Work/GPS/Video/Naveed/GPS_20_ThreeFPHoldSRTProbe/20240908/Top/Clips/Naveed_20240908_HoldTrial032_TopView.avi\n",
      "Loading  D:/YuLab/Work/GPS/Video/Naveed/GPS_20_ThreeFPHoldSRTProbe/20240908/Top/Clips/Naveed_20240908_HoldTrial032_TopView.avi\n",
      "Duration of video [s]:  8.04 , recorded with  25.0 fps!\n",
      "Overall # of frames:  201  found with (before cropping) frame dimensions:  1280 1331\n",
      "Starting to extract posture\n",
      "Cropping based on the x1 = 0 x2 = 1280 y1 = 0 y2 = 1024. You can adjust the cropping coordinates in the config.yaml file.\n"
     ]
    },
    {
     "name": "stderr",
     "output_type": "stream",
     "text": [
      "100%|██████████| 201/201 [00:08<00:00, 23.30it/s]\n"
     ]
    },
    {
     "name": "stdout",
     "output_type": "stream",
     "text": [
      "Saving results in D:\\YuLab\\Work\\GPS\\Video\\Naveed\\GPS_20_ThreeFPHoldSRTProbe\\20240908\\Top\\Clips...\n",
      "Saving csv poses!\n",
      "Starting to analyze %  D:/YuLab/Work/GPS/Video/Naveed/GPS_20_ThreeFPHoldSRTProbe/20240908/Top/Clips/Naveed_20240908_HoldTrial033_TopView.avi\n",
      "Loading  D:/YuLab/Work/GPS/Video/Naveed/GPS_20_ThreeFPHoldSRTProbe/20240908/Top/Clips/Naveed_20240908_HoldTrial033_TopView.avi\n",
      "Duration of video [s]:  8.04 , recorded with  25.0 fps!\n",
      "Overall # of frames:  201  found with (before cropping) frame dimensions:  1280 1331\n",
      "Starting to extract posture\n",
      "Cropping based on the x1 = 0 x2 = 1280 y1 = 0 y2 = 1024. You can adjust the cropping coordinates in the config.yaml file.\n"
     ]
    },
    {
     "name": "stderr",
     "output_type": "stream",
     "text": [
      "100%|██████████| 201/201 [00:08<00:00, 23.33it/s]\n"
     ]
    },
    {
     "name": "stdout",
     "output_type": "stream",
     "text": [
      "Saving results in D:\\YuLab\\Work\\GPS\\Video\\Naveed\\GPS_20_ThreeFPHoldSRTProbe\\20240908\\Top\\Clips...\n",
      "Saving csv poses!\n",
      "Starting to analyze %  D:/YuLab/Work/GPS/Video/Naveed/GPS_20_ThreeFPHoldSRTProbe/20240908/Top/Clips/Naveed_20240908_HoldTrial034_TopView.avi\n",
      "Loading  D:/YuLab/Work/GPS/Video/Naveed/GPS_20_ThreeFPHoldSRTProbe/20240908/Top/Clips/Naveed_20240908_HoldTrial034_TopView.avi\n",
      "Duration of video [s]:  8.04 , recorded with  25.0 fps!\n",
      "Overall # of frames:  201  found with (before cropping) frame dimensions:  1280 1331\n",
      "Starting to extract posture\n",
      "Cropping based on the x1 = 0 x2 = 1280 y1 = 0 y2 = 1024. You can adjust the cropping coordinates in the config.yaml file.\n"
     ]
    },
    {
     "name": "stderr",
     "output_type": "stream",
     "text": [
      "100%|██████████| 201/201 [00:08<00:00, 23.28it/s]\n"
     ]
    },
    {
     "name": "stdout",
     "output_type": "stream",
     "text": [
      "Saving results in D:\\YuLab\\Work\\GPS\\Video\\Naveed\\GPS_20_ThreeFPHoldSRTProbe\\20240908\\Top\\Clips...\n",
      "Saving csv poses!\n",
      "Starting to analyze %  D:/YuLab/Work/GPS/Video/Naveed/GPS_20_ThreeFPHoldSRTProbe/20240908/Top/Clips/Naveed_20240908_HoldTrial035_TopView.avi\n",
      "Loading  D:/YuLab/Work/GPS/Video/Naveed/GPS_20_ThreeFPHoldSRTProbe/20240908/Top/Clips/Naveed_20240908_HoldTrial035_TopView.avi\n",
      "Duration of video [s]:  8.04 , recorded with  25.0 fps!\n",
      "Overall # of frames:  201  found with (before cropping) frame dimensions:  1280 1331\n",
      "Starting to extract posture\n",
      "Cropping based on the x1 = 0 x2 = 1280 y1 = 0 y2 = 1024. You can adjust the cropping coordinates in the config.yaml file.\n"
     ]
    },
    {
     "name": "stderr",
     "output_type": "stream",
     "text": [
      "100%|██████████| 201/201 [00:08<00:00, 23.27it/s]\n"
     ]
    },
    {
     "name": "stdout",
     "output_type": "stream",
     "text": [
      "Saving results in D:\\YuLab\\Work\\GPS\\Video\\Naveed\\GPS_20_ThreeFPHoldSRTProbe\\20240908\\Top\\Clips...\n",
      "Saving csv poses!\n",
      "Starting to analyze %  D:/YuLab/Work/GPS/Video/Naveed/GPS_20_ThreeFPHoldSRTProbe/20240908/Top/Clips/Naveed_20240908_HoldTrial036_TopView.avi\n",
      "Loading  D:/YuLab/Work/GPS/Video/Naveed/GPS_20_ThreeFPHoldSRTProbe/20240908/Top/Clips/Naveed_20240908_HoldTrial036_TopView.avi\n",
      "Duration of video [s]:  8.04 , recorded with  25.0 fps!\n",
      "Overall # of frames:  201  found with (before cropping) frame dimensions:  1280 1331\n",
      "Starting to extract posture\n",
      "Cropping based on the x1 = 0 x2 = 1280 y1 = 0 y2 = 1024. You can adjust the cropping coordinates in the config.yaml file.\n"
     ]
    },
    {
     "name": "stderr",
     "output_type": "stream",
     "text": [
      "100%|██████████| 201/201 [00:08<00:00, 23.27it/s]\n"
     ]
    },
    {
     "name": "stdout",
     "output_type": "stream",
     "text": [
      "Saving results in D:\\YuLab\\Work\\GPS\\Video\\Naveed\\GPS_20_ThreeFPHoldSRTProbe\\20240908\\Top\\Clips...\n",
      "Saving csv poses!\n",
      "Starting to analyze %  D:/YuLab/Work/GPS/Video/Naveed/GPS_20_ThreeFPHoldSRTProbe/20240908/Top/Clips/Naveed_20240908_HoldTrial037_TopView.avi\n",
      "Loading  D:/YuLab/Work/GPS/Video/Naveed/GPS_20_ThreeFPHoldSRTProbe/20240908/Top/Clips/Naveed_20240908_HoldTrial037_TopView.avi\n",
      "Duration of video [s]:  8.04 , recorded with  25.0 fps!\n",
      "Overall # of frames:  201  found with (before cropping) frame dimensions:  1280 1331\n",
      "Starting to extract posture\n",
      "Cropping based on the x1 = 0 x2 = 1280 y1 = 0 y2 = 1024. You can adjust the cropping coordinates in the config.yaml file.\n"
     ]
    },
    {
     "name": "stderr",
     "output_type": "stream",
     "text": [
      "100%|██████████| 201/201 [00:08<00:00, 23.28it/s]\n"
     ]
    },
    {
     "name": "stdout",
     "output_type": "stream",
     "text": [
      "Saving results in D:\\YuLab\\Work\\GPS\\Video\\Naveed\\GPS_20_ThreeFPHoldSRTProbe\\20240908\\Top\\Clips...\n",
      "Saving csv poses!\n",
      "Starting to analyze %  D:/YuLab/Work/GPS/Video/Naveed/GPS_20_ThreeFPHoldSRTProbe/20240908/Top/Clips/Naveed_20240908_HoldTrial038_TopView.avi\n",
      "Loading  D:/YuLab/Work/GPS/Video/Naveed/GPS_20_ThreeFPHoldSRTProbe/20240908/Top/Clips/Naveed_20240908_HoldTrial038_TopView.avi\n",
      "Duration of video [s]:  8.04 , recorded with  25.0 fps!\n",
      "Overall # of frames:  201  found with (before cropping) frame dimensions:  1280 1331\n",
      "Starting to extract posture\n",
      "Cropping based on the x1 = 0 x2 = 1280 y1 = 0 y2 = 1024. You can adjust the cropping coordinates in the config.yaml file.\n"
     ]
    },
    {
     "name": "stderr",
     "output_type": "stream",
     "text": [
      "100%|██████████| 201/201 [00:08<00:00, 23.27it/s]\n"
     ]
    },
    {
     "name": "stdout",
     "output_type": "stream",
     "text": [
      "Saving results in D:\\YuLab\\Work\\GPS\\Video\\Naveed\\GPS_20_ThreeFPHoldSRTProbe\\20240908\\Top\\Clips...\n",
      "Saving csv poses!\n",
      "Starting to analyze %  D:/YuLab/Work/GPS/Video/Naveed/GPS_20_ThreeFPHoldSRTProbe/20240908/Top/Clips/Naveed_20240908_HoldTrial039_TopView.avi\n",
      "Loading  D:/YuLab/Work/GPS/Video/Naveed/GPS_20_ThreeFPHoldSRTProbe/20240908/Top/Clips/Naveed_20240908_HoldTrial039_TopView.avi\n",
      "Duration of video [s]:  8.04 , recorded with  25.0 fps!\n",
      "Overall # of frames:  201  found with (before cropping) frame dimensions:  1280 1331\n",
      "Starting to extract posture\n",
      "Cropping based on the x1 = 0 x2 = 1280 y1 = 0 y2 = 1024. You can adjust the cropping coordinates in the config.yaml file.\n"
     ]
    },
    {
     "name": "stderr",
     "output_type": "stream",
     "text": [
      "100%|██████████| 201/201 [00:08<00:00, 23.26it/s]\n"
     ]
    },
    {
     "name": "stdout",
     "output_type": "stream",
     "text": [
      "Saving results in D:\\YuLab\\Work\\GPS\\Video\\Naveed\\GPS_20_ThreeFPHoldSRTProbe\\20240908\\Top\\Clips...\n",
      "Saving csv poses!\n",
      "Starting to analyze %  D:/YuLab/Work/GPS/Video/Naveed/GPS_20_ThreeFPHoldSRTProbe/20240908/Top/Clips/Naveed_20240908_HoldTrial040_TopView.avi\n",
      "Loading  D:/YuLab/Work/GPS/Video/Naveed/GPS_20_ThreeFPHoldSRTProbe/20240908/Top/Clips/Naveed_20240908_HoldTrial040_TopView.avi\n",
      "Duration of video [s]:  8.0 , recorded with  25.0 fps!\n",
      "Overall # of frames:  200  found with (before cropping) frame dimensions:  1280 1331\n",
      "Starting to extract posture\n",
      "Cropping based on the x1 = 0 x2 = 1280 y1 = 0 y2 = 1024. You can adjust the cropping coordinates in the config.yaml file.\n"
     ]
    },
    {
     "name": "stderr",
     "output_type": "stream",
     "text": [
      "100%|██████████| 200/200 [00:08<00:00, 23.91it/s]\n"
     ]
    },
    {
     "name": "stdout",
     "output_type": "stream",
     "text": [
      "Saving results in D:\\YuLab\\Work\\GPS\\Video\\Naveed\\GPS_20_ThreeFPHoldSRTProbe\\20240908\\Top\\Clips...\n",
      "Saving csv poses!\n",
      "Starting to analyze %  D:/YuLab/Work/GPS/Video/Naveed/GPS_20_ThreeFPHoldSRTProbe/20240908/Top/Clips/Naveed_20240908_HoldTrial041_TopView.avi\n",
      "Loading  D:/YuLab/Work/GPS/Video/Naveed/GPS_20_ThreeFPHoldSRTProbe/20240908/Top/Clips/Naveed_20240908_HoldTrial041_TopView.avi\n",
      "Duration of video [s]:  8.04 , recorded with  25.0 fps!\n",
      "Overall # of frames:  201  found with (before cropping) frame dimensions:  1280 1331\n",
      "Starting to extract posture\n",
      "Cropping based on the x1 = 0 x2 = 1280 y1 = 0 y2 = 1024. You can adjust the cropping coordinates in the config.yaml file.\n"
     ]
    },
    {
     "name": "stderr",
     "output_type": "stream",
     "text": [
      "100%|██████████| 201/201 [00:08<00:00, 23.23it/s]\n"
     ]
    },
    {
     "name": "stdout",
     "output_type": "stream",
     "text": [
      "Saving results in D:\\YuLab\\Work\\GPS\\Video\\Naveed\\GPS_20_ThreeFPHoldSRTProbe\\20240908\\Top\\Clips...\n",
      "Saving csv poses!\n",
      "Starting to analyze %  D:/YuLab/Work/GPS/Video/Naveed/GPS_20_ThreeFPHoldSRTProbe/20240908/Top/Clips/Naveed_20240908_HoldTrial042_TopView.avi\n",
      "Loading  D:/YuLab/Work/GPS/Video/Naveed/GPS_20_ThreeFPHoldSRTProbe/20240908/Top/Clips/Naveed_20240908_HoldTrial042_TopView.avi\n",
      "Duration of video [s]:  8.04 , recorded with  25.0 fps!\n",
      "Overall # of frames:  201  found with (before cropping) frame dimensions:  1280 1331\n",
      "Starting to extract posture\n",
      "Cropping based on the x1 = 0 x2 = 1280 y1 = 0 y2 = 1024. You can adjust the cropping coordinates in the config.yaml file.\n"
     ]
    },
    {
     "name": "stderr",
     "output_type": "stream",
     "text": [
      "100%|██████████| 201/201 [00:08<00:00, 23.22it/s]\n"
     ]
    },
    {
     "name": "stdout",
     "output_type": "stream",
     "text": [
      "Saving results in D:\\YuLab\\Work\\GPS\\Video\\Naveed\\GPS_20_ThreeFPHoldSRTProbe\\20240908\\Top\\Clips...\n",
      "Saving csv poses!\n",
      "Starting to analyze %  D:/YuLab/Work/GPS/Video/Naveed/GPS_20_ThreeFPHoldSRTProbe/20240908/Top/Clips/Naveed_20240908_HoldTrial043_TopView.avi\n",
      "Loading  D:/YuLab/Work/GPS/Video/Naveed/GPS_20_ThreeFPHoldSRTProbe/20240908/Top/Clips/Naveed_20240908_HoldTrial043_TopView.avi\n",
      "Duration of video [s]:  8.04 , recorded with  25.0 fps!\n",
      "Overall # of frames:  201  found with (before cropping) frame dimensions:  1280 1331\n",
      "Starting to extract posture\n",
      "Cropping based on the x1 = 0 x2 = 1280 y1 = 0 y2 = 1024. You can adjust the cropping coordinates in the config.yaml file.\n"
     ]
    },
    {
     "name": "stderr",
     "output_type": "stream",
     "text": [
      "100%|██████████| 201/201 [00:08<00:00, 23.25it/s]\n"
     ]
    },
    {
     "name": "stdout",
     "output_type": "stream",
     "text": [
      "Saving results in D:\\YuLab\\Work\\GPS\\Video\\Naveed\\GPS_20_ThreeFPHoldSRTProbe\\20240908\\Top\\Clips...\n",
      "Saving csv poses!\n",
      "Starting to analyze %  D:/YuLab/Work/GPS/Video/Naveed/GPS_20_ThreeFPHoldSRTProbe/20240908/Top/Clips/Naveed_20240908_HoldTrial044_TopView.avi\n",
      "Loading  D:/YuLab/Work/GPS/Video/Naveed/GPS_20_ThreeFPHoldSRTProbe/20240908/Top/Clips/Naveed_20240908_HoldTrial044_TopView.avi\n",
      "Duration of video [s]:  8.04 , recorded with  25.0 fps!\n",
      "Overall # of frames:  201  found with (before cropping) frame dimensions:  1280 1331\n",
      "Starting to extract posture\n",
      "Cropping based on the x1 = 0 x2 = 1280 y1 = 0 y2 = 1024. You can adjust the cropping coordinates in the config.yaml file.\n"
     ]
    },
    {
     "name": "stderr",
     "output_type": "stream",
     "text": [
      "100%|██████████| 201/201 [00:08<00:00, 23.19it/s]\n"
     ]
    },
    {
     "name": "stdout",
     "output_type": "stream",
     "text": [
      "Saving results in D:\\YuLab\\Work\\GPS\\Video\\Naveed\\GPS_20_ThreeFPHoldSRTProbe\\20240908\\Top\\Clips...\n",
      "Saving csv poses!\n",
      "Starting to analyze %  D:/YuLab/Work/GPS/Video/Naveed/GPS_20_ThreeFPHoldSRTProbe/20240908/Top/Clips/Naveed_20240908_HoldTrial045_TopView.avi\n",
      "Loading  D:/YuLab/Work/GPS/Video/Naveed/GPS_20_ThreeFPHoldSRTProbe/20240908/Top/Clips/Naveed_20240908_HoldTrial045_TopView.avi\n",
      "Duration of video [s]:  8.04 , recorded with  25.0 fps!\n",
      "Overall # of frames:  201  found with (before cropping) frame dimensions:  1280 1331\n",
      "Starting to extract posture\n",
      "Cropping based on the x1 = 0 x2 = 1280 y1 = 0 y2 = 1024. You can adjust the cropping coordinates in the config.yaml file.\n"
     ]
    },
    {
     "name": "stderr",
     "output_type": "stream",
     "text": [
      "100%|██████████| 201/201 [00:08<00:00, 23.24it/s]\n"
     ]
    },
    {
     "name": "stdout",
     "output_type": "stream",
     "text": [
      "Saving results in D:\\YuLab\\Work\\GPS\\Video\\Naveed\\GPS_20_ThreeFPHoldSRTProbe\\20240908\\Top\\Clips...\n",
      "Saving csv poses!\n",
      "Starting to analyze %  D:/YuLab/Work/GPS/Video/Naveed/GPS_20_ThreeFPHoldSRTProbe/20240908/Top/Clips/Naveed_20240908_HoldTrial046_TopView.avi\n",
      "Loading  D:/YuLab/Work/GPS/Video/Naveed/GPS_20_ThreeFPHoldSRTProbe/20240908/Top/Clips/Naveed_20240908_HoldTrial046_TopView.avi\n",
      "Duration of video [s]:  8.04 , recorded with  25.0 fps!\n",
      "Overall # of frames:  201  found with (before cropping) frame dimensions:  1280 1331\n",
      "Starting to extract posture\n",
      "Cropping based on the x1 = 0 x2 = 1280 y1 = 0 y2 = 1024. You can adjust the cropping coordinates in the config.yaml file.\n"
     ]
    },
    {
     "name": "stderr",
     "output_type": "stream",
     "text": [
      "100%|██████████| 201/201 [00:08<00:00, 23.19it/s]\n"
     ]
    },
    {
     "name": "stdout",
     "output_type": "stream",
     "text": [
      "Saving results in D:\\YuLab\\Work\\GPS\\Video\\Naveed\\GPS_20_ThreeFPHoldSRTProbe\\20240908\\Top\\Clips...\n",
      "Saving csv poses!\n",
      "Starting to analyze %  D:/YuLab/Work/GPS/Video/Naveed/GPS_20_ThreeFPHoldSRTProbe/20240908/Top/Clips/Naveed_20240908_HoldTrial047_TopView.avi\n",
      "Loading  D:/YuLab/Work/GPS/Video/Naveed/GPS_20_ThreeFPHoldSRTProbe/20240908/Top/Clips/Naveed_20240908_HoldTrial047_TopView.avi\n",
      "Duration of video [s]:  8.04 , recorded with  25.0 fps!\n",
      "Overall # of frames:  201  found with (before cropping) frame dimensions:  1280 1331\n",
      "Starting to extract posture\n",
      "Cropping based on the x1 = 0 x2 = 1280 y1 = 0 y2 = 1024. You can adjust the cropping coordinates in the config.yaml file.\n"
     ]
    },
    {
     "name": "stderr",
     "output_type": "stream",
     "text": [
      "100%|██████████| 201/201 [00:08<00:00, 23.25it/s]\n"
     ]
    },
    {
     "name": "stdout",
     "output_type": "stream",
     "text": [
      "Saving results in D:\\YuLab\\Work\\GPS\\Video\\Naveed\\GPS_20_ThreeFPHoldSRTProbe\\20240908\\Top\\Clips...\n",
      "Saving csv poses!\n",
      "Starting to analyze %  D:/YuLab/Work/GPS/Video/Naveed/GPS_20_ThreeFPHoldSRTProbe/20240908/Top/Clips/Naveed_20240908_HoldTrial048_TopView.avi\n",
      "Loading  D:/YuLab/Work/GPS/Video/Naveed/GPS_20_ThreeFPHoldSRTProbe/20240908/Top/Clips/Naveed_20240908_HoldTrial048_TopView.avi\n",
      "Duration of video [s]:  8.04 , recorded with  25.0 fps!\n",
      "Overall # of frames:  201  found with (before cropping) frame dimensions:  1280 1331\n",
      "Starting to extract posture\n",
      "Cropping based on the x1 = 0 x2 = 1280 y1 = 0 y2 = 1024. You can adjust the cropping coordinates in the config.yaml file.\n"
     ]
    },
    {
     "name": "stderr",
     "output_type": "stream",
     "text": [
      "100%|██████████| 201/201 [00:08<00:00, 23.29it/s]\n"
     ]
    },
    {
     "name": "stdout",
     "output_type": "stream",
     "text": [
      "Saving results in D:\\YuLab\\Work\\GPS\\Video\\Naveed\\GPS_20_ThreeFPHoldSRTProbe\\20240908\\Top\\Clips...\n",
      "Saving csv poses!\n",
      "Starting to analyze %  D:/YuLab/Work/GPS/Video/Naveed/GPS_20_ThreeFPHoldSRTProbe/20240908/Top/Clips/Naveed_20240908_HoldTrial049_TopView.avi\n",
      "Loading  D:/YuLab/Work/GPS/Video/Naveed/GPS_20_ThreeFPHoldSRTProbe/20240908/Top/Clips/Naveed_20240908_HoldTrial049_TopView.avi\n",
      "Duration of video [s]:  8.04 , recorded with  25.0 fps!\n",
      "Overall # of frames:  201  found with (before cropping) frame dimensions:  1280 1331\n",
      "Starting to extract posture\n",
      "Cropping based on the x1 = 0 x2 = 1280 y1 = 0 y2 = 1024. You can adjust the cropping coordinates in the config.yaml file.\n"
     ]
    },
    {
     "name": "stderr",
     "output_type": "stream",
     "text": [
      "100%|██████████| 201/201 [00:08<00:00, 23.37it/s]\n"
     ]
    },
    {
     "name": "stdout",
     "output_type": "stream",
     "text": [
      "Saving results in D:\\YuLab\\Work\\GPS\\Video\\Naveed\\GPS_20_ThreeFPHoldSRTProbe\\20240908\\Top\\Clips...\n",
      "Saving csv poses!\n",
      "Starting to analyze %  D:/YuLab/Work/GPS/Video/Naveed/GPS_20_ThreeFPHoldSRTProbe/20240908/Top/Clips/Naveed_20240908_HoldTrial050_TopView.avi\n",
      "Loading  D:/YuLab/Work/GPS/Video/Naveed/GPS_20_ThreeFPHoldSRTProbe/20240908/Top/Clips/Naveed_20240908_HoldTrial050_TopView.avi\n",
      "Duration of video [s]:  8.04 , recorded with  25.0 fps!\n",
      "Overall # of frames:  201  found with (before cropping) frame dimensions:  1280 1331\n",
      "Starting to extract posture\n",
      "Cropping based on the x1 = 0 x2 = 1280 y1 = 0 y2 = 1024. You can adjust the cropping coordinates in the config.yaml file.\n"
     ]
    },
    {
     "name": "stderr",
     "output_type": "stream",
     "text": [
      "100%|██████████| 201/201 [00:08<00:00, 23.34it/s]\n"
     ]
    },
    {
     "name": "stdout",
     "output_type": "stream",
     "text": [
      "Saving results in D:\\YuLab\\Work\\GPS\\Video\\Naveed\\GPS_20_ThreeFPHoldSRTProbe\\20240908\\Top\\Clips...\n",
      "Saving csv poses!\n",
      "Starting to analyze %  D:/YuLab/Work/GPS/Video/Naveed/GPS_20_ThreeFPHoldSRTProbe/20240908/Top/Clips/Naveed_20240908_HoldTrial051_TopView.avi\n",
      "Loading  D:/YuLab/Work/GPS/Video/Naveed/GPS_20_ThreeFPHoldSRTProbe/20240908/Top/Clips/Naveed_20240908_HoldTrial051_TopView.avi\n",
      "Duration of video [s]:  8.04 , recorded with  25.0 fps!\n",
      "Overall # of frames:  201  found with (before cropping) frame dimensions:  1280 1331\n",
      "Starting to extract posture\n",
      "Cropping based on the x1 = 0 x2 = 1280 y1 = 0 y2 = 1024. You can adjust the cropping coordinates in the config.yaml file.\n"
     ]
    },
    {
     "name": "stderr",
     "output_type": "stream",
     "text": [
      "100%|██████████| 201/201 [00:08<00:00, 23.33it/s]\n"
     ]
    },
    {
     "name": "stdout",
     "output_type": "stream",
     "text": [
      "Saving results in D:\\YuLab\\Work\\GPS\\Video\\Naveed\\GPS_20_ThreeFPHoldSRTProbe\\20240908\\Top\\Clips...\n",
      "Saving csv poses!\n",
      "Starting to analyze %  D:/YuLab/Work/GPS/Video/Naveed/GPS_20_ThreeFPHoldSRTProbe/20240908/Top/Clips/Naveed_20240908_HoldTrial052_TopView.avi\n",
      "Loading  D:/YuLab/Work/GPS/Video/Naveed/GPS_20_ThreeFPHoldSRTProbe/20240908/Top/Clips/Naveed_20240908_HoldTrial052_TopView.avi\n",
      "Duration of video [s]:  8.04 , recorded with  25.0 fps!\n",
      "Overall # of frames:  201  found with (before cropping) frame dimensions:  1280 1331\n",
      "Starting to extract posture\n",
      "Cropping based on the x1 = 0 x2 = 1280 y1 = 0 y2 = 1024. You can adjust the cropping coordinates in the config.yaml file.\n"
     ]
    },
    {
     "name": "stderr",
     "output_type": "stream",
     "text": [
      "100%|██████████| 201/201 [00:08<00:00, 23.34it/s]\n"
     ]
    },
    {
     "name": "stdout",
     "output_type": "stream",
     "text": [
      "Saving results in D:\\YuLab\\Work\\GPS\\Video\\Naveed\\GPS_20_ThreeFPHoldSRTProbe\\20240908\\Top\\Clips...\n",
      "Saving csv poses!\n",
      "Starting to analyze %  D:/YuLab/Work/GPS/Video/Naveed/GPS_20_ThreeFPHoldSRTProbe/20240908/Top/Clips/Naveed_20240908_HoldTrial053_TopView.avi\n",
      "Loading  D:/YuLab/Work/GPS/Video/Naveed/GPS_20_ThreeFPHoldSRTProbe/20240908/Top/Clips/Naveed_20240908_HoldTrial053_TopView.avi\n",
      "Duration of video [s]:  8.04 , recorded with  25.0 fps!\n",
      "Overall # of frames:  201  found with (before cropping) frame dimensions:  1280 1331\n",
      "Starting to extract posture\n",
      "Cropping based on the x1 = 0 x2 = 1280 y1 = 0 y2 = 1024. You can adjust the cropping coordinates in the config.yaml file.\n"
     ]
    },
    {
     "name": "stderr",
     "output_type": "stream",
     "text": [
      "100%|██████████| 201/201 [00:08<00:00, 23.32it/s]\n"
     ]
    },
    {
     "name": "stdout",
     "output_type": "stream",
     "text": [
      "Saving results in D:\\YuLab\\Work\\GPS\\Video\\Naveed\\GPS_20_ThreeFPHoldSRTProbe\\20240908\\Top\\Clips...\n",
      "Saving csv poses!\n",
      "Starting to analyze %  D:/YuLab/Work/GPS/Video/Naveed/GPS_20_ThreeFPHoldSRTProbe/20240908/Top/Clips/Naveed_20240908_HoldTrial054_TopView.avi\n",
      "Loading  D:/YuLab/Work/GPS/Video/Naveed/GPS_20_ThreeFPHoldSRTProbe/20240908/Top/Clips/Naveed_20240908_HoldTrial054_TopView.avi\n",
      "Duration of video [s]:  8.04 , recorded with  25.0 fps!\n",
      "Overall # of frames:  201  found with (before cropping) frame dimensions:  1280 1331\n",
      "Starting to extract posture\n",
      "Cropping based on the x1 = 0 x2 = 1280 y1 = 0 y2 = 1024. You can adjust the cropping coordinates in the config.yaml file.\n"
     ]
    },
    {
     "name": "stderr",
     "output_type": "stream",
     "text": [
      "100%|██████████| 201/201 [00:08<00:00, 23.28it/s]\n"
     ]
    },
    {
     "name": "stdout",
     "output_type": "stream",
     "text": [
      "Saving results in D:\\YuLab\\Work\\GPS\\Video\\Naveed\\GPS_20_ThreeFPHoldSRTProbe\\20240908\\Top\\Clips...\n",
      "Saving csv poses!\n",
      "Starting to analyze %  D:/YuLab/Work/GPS/Video/Naveed/GPS_20_ThreeFPHoldSRTProbe/20240908/Top/Clips/Naveed_20240908_HoldTrial055_TopView.avi\n",
      "Loading  D:/YuLab/Work/GPS/Video/Naveed/GPS_20_ThreeFPHoldSRTProbe/20240908/Top/Clips/Naveed_20240908_HoldTrial055_TopView.avi\n",
      "Duration of video [s]:  8.04 , recorded with  25.0 fps!\n",
      "Overall # of frames:  201  found with (before cropping) frame dimensions:  1280 1331\n",
      "Starting to extract posture\n",
      "Cropping based on the x1 = 0 x2 = 1280 y1 = 0 y2 = 1024. You can adjust the cropping coordinates in the config.yaml file.\n"
     ]
    },
    {
     "name": "stderr",
     "output_type": "stream",
     "text": [
      "100%|██████████| 201/201 [00:08<00:00, 23.28it/s]\n"
     ]
    },
    {
     "name": "stdout",
     "output_type": "stream",
     "text": [
      "Saving results in D:\\YuLab\\Work\\GPS\\Video\\Naveed\\GPS_20_ThreeFPHoldSRTProbe\\20240908\\Top\\Clips...\n",
      "Saving csv poses!\n",
      "Starting to analyze %  D:/YuLab/Work/GPS/Video/Naveed/GPS_20_ThreeFPHoldSRTProbe/20240908/Top/Clips/Naveed_20240908_HoldTrial056_TopView.avi\n",
      "Loading  D:/YuLab/Work/GPS/Video/Naveed/GPS_20_ThreeFPHoldSRTProbe/20240908/Top/Clips/Naveed_20240908_HoldTrial056_TopView.avi\n",
      "Duration of video [s]:  8.04 , recorded with  25.0 fps!\n",
      "Overall # of frames:  201  found with (before cropping) frame dimensions:  1280 1331\n",
      "Starting to extract posture\n",
      "Cropping based on the x1 = 0 x2 = 1280 y1 = 0 y2 = 1024. You can adjust the cropping coordinates in the config.yaml file.\n"
     ]
    },
    {
     "name": "stderr",
     "output_type": "stream",
     "text": [
      "100%|██████████| 201/201 [00:08<00:00, 23.31it/s]\n"
     ]
    },
    {
     "name": "stdout",
     "output_type": "stream",
     "text": [
      "Saving results in D:\\YuLab\\Work\\GPS\\Video\\Naveed\\GPS_20_ThreeFPHoldSRTProbe\\20240908\\Top\\Clips...\n",
      "Saving csv poses!\n",
      "Starting to analyze %  D:/YuLab/Work/GPS/Video/Naveed/GPS_20_ThreeFPHoldSRTProbe/20240908/Top/Clips/Naveed_20240908_HoldTrial057_TopView.avi\n",
      "Loading  D:/YuLab/Work/GPS/Video/Naveed/GPS_20_ThreeFPHoldSRTProbe/20240908/Top/Clips/Naveed_20240908_HoldTrial057_TopView.avi\n",
      "Duration of video [s]:  8.04 , recorded with  25.0 fps!\n",
      "Overall # of frames:  201  found with (before cropping) frame dimensions:  1280 1331\n",
      "Starting to extract posture\n",
      "Cropping based on the x1 = 0 x2 = 1280 y1 = 0 y2 = 1024. You can adjust the cropping coordinates in the config.yaml file.\n"
     ]
    },
    {
     "name": "stderr",
     "output_type": "stream",
     "text": [
      "100%|██████████| 201/201 [00:08<00:00, 23.31it/s]\n"
     ]
    },
    {
     "name": "stdout",
     "output_type": "stream",
     "text": [
      "Saving results in D:\\YuLab\\Work\\GPS\\Video\\Naveed\\GPS_20_ThreeFPHoldSRTProbe\\20240908\\Top\\Clips...\n",
      "Saving csv poses!\n",
      "Starting to analyze %  D:/YuLab/Work/GPS/Video/Naveed/GPS_20_ThreeFPHoldSRTProbe/20240908/Top/Clips/Naveed_20240908_HoldTrial058_TopView.avi\n",
      "Loading  D:/YuLab/Work/GPS/Video/Naveed/GPS_20_ThreeFPHoldSRTProbe/20240908/Top/Clips/Naveed_20240908_HoldTrial058_TopView.avi\n",
      "Duration of video [s]:  8.04 , recorded with  25.0 fps!\n",
      "Overall # of frames:  201  found with (before cropping) frame dimensions:  1280 1331\n",
      "Starting to extract posture\n",
      "Cropping based on the x1 = 0 x2 = 1280 y1 = 0 y2 = 1024. You can adjust the cropping coordinates in the config.yaml file.\n"
     ]
    },
    {
     "name": "stderr",
     "output_type": "stream",
     "text": [
      "100%|██████████| 201/201 [00:08<00:00, 23.25it/s]\n"
     ]
    },
    {
     "name": "stdout",
     "output_type": "stream",
     "text": [
      "Saving results in D:\\YuLab\\Work\\GPS\\Video\\Naveed\\GPS_20_ThreeFPHoldSRTProbe\\20240908\\Top\\Clips...\n",
      "Saving csv poses!\n",
      "Starting to analyze %  D:/YuLab/Work/GPS/Video/Naveed/GPS_20_ThreeFPHoldSRTProbe/20240908/Top/Clips/Naveed_20240908_HoldTrial059_TopView.avi\n",
      "Loading  D:/YuLab/Work/GPS/Video/Naveed/GPS_20_ThreeFPHoldSRTProbe/20240908/Top/Clips/Naveed_20240908_HoldTrial059_TopView.avi\n",
      "Duration of video [s]:  8.04 , recorded with  25.0 fps!\n",
      "Overall # of frames:  201  found with (before cropping) frame dimensions:  1280 1331\n",
      "Starting to extract posture\n",
      "Cropping based on the x1 = 0 x2 = 1280 y1 = 0 y2 = 1024. You can adjust the cropping coordinates in the config.yaml file.\n"
     ]
    },
    {
     "name": "stderr",
     "output_type": "stream",
     "text": [
      "100%|██████████| 201/201 [00:08<00:00, 23.26it/s]\n"
     ]
    },
    {
     "name": "stdout",
     "output_type": "stream",
     "text": [
      "Saving results in D:\\YuLab\\Work\\GPS\\Video\\Naveed\\GPS_20_ThreeFPHoldSRTProbe\\20240908\\Top\\Clips...\n",
      "Saving csv poses!\n",
      "Starting to analyze %  D:/YuLab/Work/GPS/Video/Naveed/GPS_20_ThreeFPHoldSRTProbe/20240908/Top/Clips/Naveed_20240908_HoldTrial060_TopView.avi\n",
      "Loading  D:/YuLab/Work/GPS/Video/Naveed/GPS_20_ThreeFPHoldSRTProbe/20240908/Top/Clips/Naveed_20240908_HoldTrial060_TopView.avi\n",
      "Duration of video [s]:  8.04 , recorded with  25.0 fps!\n",
      "Overall # of frames:  201  found with (before cropping) frame dimensions:  1280 1331\n",
      "Starting to extract posture\n",
      "Cropping based on the x1 = 0 x2 = 1280 y1 = 0 y2 = 1024. You can adjust the cropping coordinates in the config.yaml file.\n"
     ]
    },
    {
     "name": "stderr",
     "output_type": "stream",
     "text": [
      "100%|██████████| 201/201 [00:08<00:00, 23.24it/s]\n"
     ]
    },
    {
     "name": "stdout",
     "output_type": "stream",
     "text": [
      "Saving results in D:\\YuLab\\Work\\GPS\\Video\\Naveed\\GPS_20_ThreeFPHoldSRTProbe\\20240908\\Top\\Clips...\n",
      "Saving csv poses!\n",
      "Starting to analyze %  D:/YuLab/Work/GPS/Video/Naveed/GPS_20_ThreeFPHoldSRTProbe/20240908/Top/Clips/Naveed_20240908_HoldTrial061_TopView.avi\n",
      "Loading  D:/YuLab/Work/GPS/Video/Naveed/GPS_20_ThreeFPHoldSRTProbe/20240908/Top/Clips/Naveed_20240908_HoldTrial061_TopView.avi\n",
      "Duration of video [s]:  8.04 , recorded with  25.0 fps!\n",
      "Overall # of frames:  201  found with (before cropping) frame dimensions:  1280 1331\n",
      "Starting to extract posture\n",
      "Cropping based on the x1 = 0 x2 = 1280 y1 = 0 y2 = 1024. You can adjust the cropping coordinates in the config.yaml file.\n"
     ]
    },
    {
     "name": "stderr",
     "output_type": "stream",
     "text": [
      "100%|██████████| 201/201 [00:08<00:00, 23.25it/s]\n"
     ]
    },
    {
     "name": "stdout",
     "output_type": "stream",
     "text": [
      "Saving results in D:\\YuLab\\Work\\GPS\\Video\\Naveed\\GPS_20_ThreeFPHoldSRTProbe\\20240908\\Top\\Clips...\n",
      "Saving csv poses!\n",
      "Starting to analyze %  D:/YuLab/Work/GPS/Video/Naveed/GPS_20_ThreeFPHoldSRTProbe/20240908/Top/Clips/Naveed_20240908_HoldTrial062_TopView.avi\n",
      "Loading  D:/YuLab/Work/GPS/Video/Naveed/GPS_20_ThreeFPHoldSRTProbe/20240908/Top/Clips/Naveed_20240908_HoldTrial062_TopView.avi\n",
      "Duration of video [s]:  8.04 , recorded with  25.0 fps!\n",
      "Overall # of frames:  201  found with (before cropping) frame dimensions:  1280 1331\n",
      "Starting to extract posture\n",
      "Cropping based on the x1 = 0 x2 = 1280 y1 = 0 y2 = 1024. You can adjust the cropping coordinates in the config.yaml file.\n"
     ]
    },
    {
     "name": "stderr",
     "output_type": "stream",
     "text": [
      "100%|██████████| 201/201 [00:08<00:00, 23.25it/s]\n"
     ]
    },
    {
     "name": "stdout",
     "output_type": "stream",
     "text": [
      "Saving results in D:\\YuLab\\Work\\GPS\\Video\\Naveed\\GPS_20_ThreeFPHoldSRTProbe\\20240908\\Top\\Clips...\n",
      "Saving csv poses!\n",
      "Starting to analyze %  D:/YuLab/Work/GPS/Video/Naveed/GPS_20_ThreeFPHoldSRTProbe/20240908/Top/Clips/Naveed_20240908_HoldTrial063_TopView.avi\n",
      "Loading  D:/YuLab/Work/GPS/Video/Naveed/GPS_20_ThreeFPHoldSRTProbe/20240908/Top/Clips/Naveed_20240908_HoldTrial063_TopView.avi\n",
      "Duration of video [s]:  8.04 , recorded with  25.0 fps!\n",
      "Overall # of frames:  201  found with (before cropping) frame dimensions:  1280 1331\n",
      "Starting to extract posture\n",
      "Cropping based on the x1 = 0 x2 = 1280 y1 = 0 y2 = 1024. You can adjust the cropping coordinates in the config.yaml file.\n"
     ]
    },
    {
     "name": "stderr",
     "output_type": "stream",
     "text": [
      "100%|██████████| 201/201 [00:08<00:00, 23.23it/s]\n"
     ]
    },
    {
     "name": "stdout",
     "output_type": "stream",
     "text": [
      "Saving results in D:\\YuLab\\Work\\GPS\\Video\\Naveed\\GPS_20_ThreeFPHoldSRTProbe\\20240908\\Top\\Clips...\n",
      "Saving csv poses!\n",
      "Starting to analyze %  D:/YuLab/Work/GPS/Video/Naveed/GPS_20_ThreeFPHoldSRTProbe/20240908/Top/Clips/Naveed_20240908_HoldTrial064_TopView.avi\n",
      "Loading  D:/YuLab/Work/GPS/Video/Naveed/GPS_20_ThreeFPHoldSRTProbe/20240908/Top/Clips/Naveed_20240908_HoldTrial064_TopView.avi\n",
      "Duration of video [s]:  8.04 , recorded with  25.0 fps!\n",
      "Overall # of frames:  201  found with (before cropping) frame dimensions:  1280 1331\n",
      "Starting to extract posture\n",
      "Cropping based on the x1 = 0 x2 = 1280 y1 = 0 y2 = 1024. You can adjust the cropping coordinates in the config.yaml file.\n"
     ]
    },
    {
     "name": "stderr",
     "output_type": "stream",
     "text": [
      "100%|██████████| 201/201 [00:08<00:00, 23.23it/s]\n"
     ]
    },
    {
     "name": "stdout",
     "output_type": "stream",
     "text": [
      "Saving results in D:\\YuLab\\Work\\GPS\\Video\\Naveed\\GPS_20_ThreeFPHoldSRTProbe\\20240908\\Top\\Clips...\n",
      "Saving csv poses!\n",
      "Starting to analyze %  D:/YuLab/Work/GPS/Video/Naveed/GPS_20_ThreeFPHoldSRTProbe/20240908/Top/Clips/Naveed_20240908_HoldTrial065_TopView.avi\n",
      "Loading  D:/YuLab/Work/GPS/Video/Naveed/GPS_20_ThreeFPHoldSRTProbe/20240908/Top/Clips/Naveed_20240908_HoldTrial065_TopView.avi\n",
      "Duration of video [s]:  8.04 , recorded with  25.0 fps!\n",
      "Overall # of frames:  201  found with (before cropping) frame dimensions:  1280 1331\n",
      "Starting to extract posture\n",
      "Cropping based on the x1 = 0 x2 = 1280 y1 = 0 y2 = 1024. You can adjust the cropping coordinates in the config.yaml file.\n"
     ]
    },
    {
     "name": "stderr",
     "output_type": "stream",
     "text": [
      "100%|██████████| 201/201 [00:08<00:00, 23.20it/s]\n"
     ]
    },
    {
     "name": "stdout",
     "output_type": "stream",
     "text": [
      "Saving results in D:\\YuLab\\Work\\GPS\\Video\\Naveed\\GPS_20_ThreeFPHoldSRTProbe\\20240908\\Top\\Clips...\n",
      "Saving csv poses!\n",
      "Starting to analyze %  D:/YuLab/Work/GPS/Video/Naveed/GPS_20_ThreeFPHoldSRTProbe/20240908/Top/Clips/Naveed_20240908_HoldTrial066_TopView.avi\n",
      "Loading  D:/YuLab/Work/GPS/Video/Naveed/GPS_20_ThreeFPHoldSRTProbe/20240908/Top/Clips/Naveed_20240908_HoldTrial066_TopView.avi\n",
      "Duration of video [s]:  8.04 , recorded with  25.0 fps!\n",
      "Overall # of frames:  201  found with (before cropping) frame dimensions:  1280 1331\n",
      "Starting to extract posture\n",
      "Cropping based on the x1 = 0 x2 = 1280 y1 = 0 y2 = 1024. You can adjust the cropping coordinates in the config.yaml file.\n"
     ]
    },
    {
     "name": "stderr",
     "output_type": "stream",
     "text": [
      "100%|██████████| 201/201 [00:08<00:00, 23.23it/s]\n"
     ]
    },
    {
     "name": "stdout",
     "output_type": "stream",
     "text": [
      "Saving results in D:\\YuLab\\Work\\GPS\\Video\\Naveed\\GPS_20_ThreeFPHoldSRTProbe\\20240908\\Top\\Clips...\n",
      "Saving csv poses!\n",
      "Starting to analyze %  D:/YuLab/Work/GPS/Video/Naveed/GPS_20_ThreeFPHoldSRTProbe/20240908/Top/Clips/Naveed_20240908_HoldTrial067_TopView.avi\n",
      "Loading  D:/YuLab/Work/GPS/Video/Naveed/GPS_20_ThreeFPHoldSRTProbe/20240908/Top/Clips/Naveed_20240908_HoldTrial067_TopView.avi\n",
      "Duration of video [s]:  8.04 , recorded with  25.0 fps!\n",
      "Overall # of frames:  201  found with (before cropping) frame dimensions:  1280 1331\n",
      "Starting to extract posture\n",
      "Cropping based on the x1 = 0 x2 = 1280 y1 = 0 y2 = 1024. You can adjust the cropping coordinates in the config.yaml file.\n"
     ]
    },
    {
     "name": "stderr",
     "output_type": "stream",
     "text": [
      "100%|██████████| 201/201 [00:08<00:00, 23.23it/s]\n"
     ]
    },
    {
     "name": "stdout",
     "output_type": "stream",
     "text": [
      "Saving results in D:\\YuLab\\Work\\GPS\\Video\\Naveed\\GPS_20_ThreeFPHoldSRTProbe\\20240908\\Top\\Clips...\n",
      "Saving csv poses!\n",
      "Starting to analyze %  D:/YuLab/Work/GPS/Video/Naveed/GPS_20_ThreeFPHoldSRTProbe/20240908/Top/Clips/Naveed_20240908_HoldTrial068_TopView.avi\n",
      "Loading  D:/YuLab/Work/GPS/Video/Naveed/GPS_20_ThreeFPHoldSRTProbe/20240908/Top/Clips/Naveed_20240908_HoldTrial068_TopView.avi\n",
      "Duration of video [s]:  8.04 , recorded with  25.0 fps!\n",
      "Overall # of frames:  201  found with (before cropping) frame dimensions:  1280 1331\n",
      "Starting to extract posture\n",
      "Cropping based on the x1 = 0 x2 = 1280 y1 = 0 y2 = 1024. You can adjust the cropping coordinates in the config.yaml file.\n"
     ]
    },
    {
     "name": "stderr",
     "output_type": "stream",
     "text": [
      "100%|██████████| 201/201 [00:08<00:00, 23.25it/s]\n"
     ]
    },
    {
     "name": "stdout",
     "output_type": "stream",
     "text": [
      "Saving results in D:\\YuLab\\Work\\GPS\\Video\\Naveed\\GPS_20_ThreeFPHoldSRTProbe\\20240908\\Top\\Clips...\n",
      "Saving csv poses!\n",
      "Starting to analyze %  D:/YuLab/Work/GPS/Video/Naveed/GPS_20_ThreeFPHoldSRTProbe/20240908/Top/Clips/Naveed_20240908_HoldTrial069_TopView.avi\n",
      "Loading  D:/YuLab/Work/GPS/Video/Naveed/GPS_20_ThreeFPHoldSRTProbe/20240908/Top/Clips/Naveed_20240908_HoldTrial069_TopView.avi\n",
      "Duration of video [s]:  8.04 , recorded with  25.0 fps!\n",
      "Overall # of frames:  201  found with (before cropping) frame dimensions:  1280 1331\n",
      "Starting to extract posture\n",
      "Cropping based on the x1 = 0 x2 = 1280 y1 = 0 y2 = 1024. You can adjust the cropping coordinates in the config.yaml file.\n"
     ]
    },
    {
     "name": "stderr",
     "output_type": "stream",
     "text": [
      "100%|██████████| 201/201 [00:08<00:00, 23.23it/s]\n"
     ]
    },
    {
     "name": "stdout",
     "output_type": "stream",
     "text": [
      "Saving results in D:\\YuLab\\Work\\GPS\\Video\\Naveed\\GPS_20_ThreeFPHoldSRTProbe\\20240908\\Top\\Clips...\n",
      "Saving csv poses!\n",
      "Starting to analyze %  D:/YuLab/Work/GPS/Video/Naveed/GPS_20_ThreeFPHoldSRTProbe/20240908/Top/Clips/Naveed_20240908_HoldTrial070_TopView.avi\n",
      "Loading  D:/YuLab/Work/GPS/Video/Naveed/GPS_20_ThreeFPHoldSRTProbe/20240908/Top/Clips/Naveed_20240908_HoldTrial070_TopView.avi\n",
      "Duration of video [s]:  8.04 , recorded with  25.0 fps!\n",
      "Overall # of frames:  201  found with (before cropping) frame dimensions:  1280 1331\n",
      "Starting to extract posture\n",
      "Cropping based on the x1 = 0 x2 = 1280 y1 = 0 y2 = 1024. You can adjust the cropping coordinates in the config.yaml file.\n"
     ]
    },
    {
     "name": "stderr",
     "output_type": "stream",
     "text": [
      "100%|██████████| 201/201 [00:08<00:00, 23.19it/s]\n"
     ]
    },
    {
     "name": "stdout",
     "output_type": "stream",
     "text": [
      "Saving results in D:\\YuLab\\Work\\GPS\\Video\\Naveed\\GPS_20_ThreeFPHoldSRTProbe\\20240908\\Top\\Clips...\n",
      "Saving csv poses!\n",
      "Starting to analyze %  D:/YuLab/Work/GPS/Video/Naveed/GPS_20_ThreeFPHoldSRTProbe/20240908/Top/Clips/Naveed_20240908_HoldTrial071_TopView.avi\n",
      "Loading  D:/YuLab/Work/GPS/Video/Naveed/GPS_20_ThreeFPHoldSRTProbe/20240908/Top/Clips/Naveed_20240908_HoldTrial071_TopView.avi\n",
      "Duration of video [s]:  8.04 , recorded with  25.0 fps!\n",
      "Overall # of frames:  201  found with (before cropping) frame dimensions:  1280 1331\n",
      "Starting to extract posture\n",
      "Cropping based on the x1 = 0 x2 = 1280 y1 = 0 y2 = 1024. You can adjust the cropping coordinates in the config.yaml file.\n"
     ]
    },
    {
     "name": "stderr",
     "output_type": "stream",
     "text": [
      "100%|██████████| 201/201 [00:08<00:00, 23.21it/s]\n"
     ]
    },
    {
     "name": "stdout",
     "output_type": "stream",
     "text": [
      "Saving results in D:\\YuLab\\Work\\GPS\\Video\\Naveed\\GPS_20_ThreeFPHoldSRTProbe\\20240908\\Top\\Clips...\n",
      "Saving csv poses!\n",
      "Starting to analyze %  D:/YuLab/Work/GPS/Video/Naveed/GPS_20_ThreeFPHoldSRTProbe/20240908/Top/Clips/Naveed_20240908_HoldTrial072_TopView.avi\n",
      "Loading  D:/YuLab/Work/GPS/Video/Naveed/GPS_20_ThreeFPHoldSRTProbe/20240908/Top/Clips/Naveed_20240908_HoldTrial072_TopView.avi\n",
      "Duration of video [s]:  8.04 , recorded with  25.0 fps!\n",
      "Overall # of frames:  201  found with (before cropping) frame dimensions:  1280 1331\n",
      "Starting to extract posture\n",
      "Cropping based on the x1 = 0 x2 = 1280 y1 = 0 y2 = 1024. You can adjust the cropping coordinates in the config.yaml file.\n"
     ]
    },
    {
     "name": "stderr",
     "output_type": "stream",
     "text": [
      "100%|██████████| 201/201 [00:08<00:00, 23.21it/s]\n"
     ]
    },
    {
     "name": "stdout",
     "output_type": "stream",
     "text": [
      "Saving results in D:\\YuLab\\Work\\GPS\\Video\\Naveed\\GPS_20_ThreeFPHoldSRTProbe\\20240908\\Top\\Clips...\n",
      "Saving csv poses!\n",
      "Starting to analyze %  D:/YuLab/Work/GPS/Video/Naveed/GPS_20_ThreeFPHoldSRTProbe/20240908/Top/Clips/Naveed_20240908_HoldTrial073_TopView.avi\n",
      "Loading  D:/YuLab/Work/GPS/Video/Naveed/GPS_20_ThreeFPHoldSRTProbe/20240908/Top/Clips/Naveed_20240908_HoldTrial073_TopView.avi\n",
      "Duration of video [s]:  8.04 , recorded with  25.0 fps!\n",
      "Overall # of frames:  201  found with (before cropping) frame dimensions:  1280 1331\n",
      "Starting to extract posture\n",
      "Cropping based on the x1 = 0 x2 = 1280 y1 = 0 y2 = 1024. You can adjust the cropping coordinates in the config.yaml file.\n"
     ]
    },
    {
     "name": "stderr",
     "output_type": "stream",
     "text": [
      "100%|██████████| 201/201 [00:08<00:00, 23.22it/s]\n"
     ]
    },
    {
     "name": "stdout",
     "output_type": "stream",
     "text": [
      "Saving results in D:\\YuLab\\Work\\GPS\\Video\\Naveed\\GPS_20_ThreeFPHoldSRTProbe\\20240908\\Top\\Clips...\n",
      "Saving csv poses!\n",
      "Starting to analyze %  D:/YuLab/Work/GPS/Video/Naveed/GPS_20_ThreeFPHoldSRTProbe/20240908/Top/Clips/Naveed_20240908_HoldTrial074_TopView.avi\n",
      "Loading  D:/YuLab/Work/GPS/Video/Naveed/GPS_20_ThreeFPHoldSRTProbe/20240908/Top/Clips/Naveed_20240908_HoldTrial074_TopView.avi\n",
      "Duration of video [s]:  8.04 , recorded with  25.0 fps!\n",
      "Overall # of frames:  201  found with (before cropping) frame dimensions:  1280 1331\n",
      "Starting to extract posture\n",
      "Cropping based on the x1 = 0 x2 = 1280 y1 = 0 y2 = 1024. You can adjust the cropping coordinates in the config.yaml file.\n"
     ]
    },
    {
     "name": "stderr",
     "output_type": "stream",
     "text": [
      "100%|██████████| 201/201 [00:08<00:00, 23.18it/s]\n"
     ]
    },
    {
     "name": "stdout",
     "output_type": "stream",
     "text": [
      "Saving results in D:\\YuLab\\Work\\GPS\\Video\\Naveed\\GPS_20_ThreeFPHoldSRTProbe\\20240908\\Top\\Clips...\n",
      "Saving csv poses!\n",
      "Starting to analyze %  D:/YuLab/Work/GPS/Video/Naveed/GPS_20_ThreeFPHoldSRTProbe/20240908/Top/Clips/Naveed_20240908_HoldTrial075_TopView.avi\n",
      "Loading  D:/YuLab/Work/GPS/Video/Naveed/GPS_20_ThreeFPHoldSRTProbe/20240908/Top/Clips/Naveed_20240908_HoldTrial075_TopView.avi\n",
      "Duration of video [s]:  8.04 , recorded with  25.0 fps!\n",
      "Overall # of frames:  201  found with (before cropping) frame dimensions:  1280 1331\n",
      "Starting to extract posture\n",
      "Cropping based on the x1 = 0 x2 = 1280 y1 = 0 y2 = 1024. You can adjust the cropping coordinates in the config.yaml file.\n"
     ]
    },
    {
     "name": "stderr",
     "output_type": "stream",
     "text": [
      "100%|██████████| 201/201 [00:08<00:00, 23.37it/s]\n"
     ]
    },
    {
     "name": "stdout",
     "output_type": "stream",
     "text": [
      "Saving results in D:\\YuLab\\Work\\GPS\\Video\\Naveed\\GPS_20_ThreeFPHoldSRTProbe\\20240908\\Top\\Clips...\n",
      "Saving csv poses!\n",
      "Starting to analyze %  D:/YuLab/Work/GPS/Video/Naveed/GPS_20_ThreeFPHoldSRTProbe/20240908/Top/Clips/Naveed_20240908_HoldTrial076_TopView.avi\n",
      "Loading  D:/YuLab/Work/GPS/Video/Naveed/GPS_20_ThreeFPHoldSRTProbe/20240908/Top/Clips/Naveed_20240908_HoldTrial076_TopView.avi\n",
      "Duration of video [s]:  8.04 , recorded with  25.0 fps!\n",
      "Overall # of frames:  201  found with (before cropping) frame dimensions:  1280 1331\n",
      "Starting to extract posture\n",
      "Cropping based on the x1 = 0 x2 = 1280 y1 = 0 y2 = 1024. You can adjust the cropping coordinates in the config.yaml file.\n"
     ]
    },
    {
     "name": "stderr",
     "output_type": "stream",
     "text": [
      "100%|██████████| 201/201 [00:08<00:00, 23.32it/s]\n"
     ]
    },
    {
     "name": "stdout",
     "output_type": "stream",
     "text": [
      "Saving results in D:\\YuLab\\Work\\GPS\\Video\\Naveed\\GPS_20_ThreeFPHoldSRTProbe\\20240908\\Top\\Clips...\n",
      "Saving csv poses!\n",
      "Starting to analyze %  D:/YuLab/Work/GPS/Video/Naveed/GPS_20_ThreeFPHoldSRTProbe/20240908/Top/Clips/Naveed_20240908_HoldTrial077_TopView.avi\n",
      "Loading  D:/YuLab/Work/GPS/Video/Naveed/GPS_20_ThreeFPHoldSRTProbe/20240908/Top/Clips/Naveed_20240908_HoldTrial077_TopView.avi\n",
      "Duration of video [s]:  8.04 , recorded with  25.0 fps!\n",
      "Overall # of frames:  201  found with (before cropping) frame dimensions:  1280 1331\n",
      "Starting to extract posture\n",
      "Cropping based on the x1 = 0 x2 = 1280 y1 = 0 y2 = 1024. You can adjust the cropping coordinates in the config.yaml file.\n"
     ]
    },
    {
     "name": "stderr",
     "output_type": "stream",
     "text": [
      "100%|██████████| 201/201 [00:08<00:00, 23.30it/s]\n"
     ]
    },
    {
     "name": "stdout",
     "output_type": "stream",
     "text": [
      "Saving results in D:\\YuLab\\Work\\GPS\\Video\\Naveed\\GPS_20_ThreeFPHoldSRTProbe\\20240908\\Top\\Clips...\n",
      "Saving csv poses!\n",
      "Starting to analyze %  D:/YuLab/Work/GPS/Video/Naveed/GPS_20_ThreeFPHoldSRTProbe/20240908/Top/Clips/Naveed_20240908_HoldTrial078_TopView.avi\n",
      "Loading  D:/YuLab/Work/GPS/Video/Naveed/GPS_20_ThreeFPHoldSRTProbe/20240908/Top/Clips/Naveed_20240908_HoldTrial078_TopView.avi\n",
      "Duration of video [s]:  8.0 , recorded with  25.0 fps!\n",
      "Overall # of frames:  200  found with (before cropping) frame dimensions:  1280 1331\n",
      "Starting to extract posture\n",
      "Cropping based on the x1 = 0 x2 = 1280 y1 = 0 y2 = 1024. You can adjust the cropping coordinates in the config.yaml file.\n"
     ]
    },
    {
     "name": "stderr",
     "output_type": "stream",
     "text": [
      "100%|██████████| 200/200 [00:08<00:00, 23.92it/s]\n"
     ]
    },
    {
     "name": "stdout",
     "output_type": "stream",
     "text": [
      "Saving results in D:\\YuLab\\Work\\GPS\\Video\\Naveed\\GPS_20_ThreeFPHoldSRTProbe\\20240908\\Top\\Clips...\n",
      "Saving csv poses!\n",
      "Starting to analyze %  D:/YuLab/Work/GPS/Video/Naveed/GPS_20_ThreeFPHoldSRTProbe/20240908/Top/Clips/Naveed_20240908_HoldTrial079_TopView.avi\n",
      "Loading  D:/YuLab/Work/GPS/Video/Naveed/GPS_20_ThreeFPHoldSRTProbe/20240908/Top/Clips/Naveed_20240908_HoldTrial079_TopView.avi\n",
      "Duration of video [s]:  8.04 , recorded with  25.0 fps!\n",
      "Overall # of frames:  201  found with (before cropping) frame dimensions:  1280 1331\n",
      "Starting to extract posture\n",
      "Cropping based on the x1 = 0 x2 = 1280 y1 = 0 y2 = 1024. You can adjust the cropping coordinates in the config.yaml file.\n"
     ]
    },
    {
     "name": "stderr",
     "output_type": "stream",
     "text": [
      "100%|██████████| 201/201 [00:08<00:00, 23.26it/s]\n"
     ]
    },
    {
     "name": "stdout",
     "output_type": "stream",
     "text": [
      "Saving results in D:\\YuLab\\Work\\GPS\\Video\\Naveed\\GPS_20_ThreeFPHoldSRTProbe\\20240908\\Top\\Clips...\n",
      "Saving csv poses!\n",
      "Starting to analyze %  D:/YuLab/Work/GPS/Video/Naveed/GPS_20_ThreeFPHoldSRTProbe/20240908/Top/Clips/Naveed_20240908_HoldTrial080_TopView.avi\n",
      "Loading  D:/YuLab/Work/GPS/Video/Naveed/GPS_20_ThreeFPHoldSRTProbe/20240908/Top/Clips/Naveed_20240908_HoldTrial080_TopView.avi\n",
      "Duration of video [s]:  8.04 , recorded with  25.0 fps!\n",
      "Overall # of frames:  201  found with (before cropping) frame dimensions:  1280 1331\n",
      "Starting to extract posture\n",
      "Cropping based on the x1 = 0 x2 = 1280 y1 = 0 y2 = 1024. You can adjust the cropping coordinates in the config.yaml file.\n"
     ]
    },
    {
     "name": "stderr",
     "output_type": "stream",
     "text": [
      "100%|██████████| 201/201 [00:08<00:00, 23.30it/s]\n"
     ]
    },
    {
     "name": "stdout",
     "output_type": "stream",
     "text": [
      "Saving results in D:\\YuLab\\Work\\GPS\\Video\\Naveed\\GPS_20_ThreeFPHoldSRTProbe\\20240908\\Top\\Clips...\n",
      "Saving csv poses!\n",
      "Starting to analyze %  D:/YuLab/Work/GPS/Video/Naveed/GPS_20_ThreeFPHoldSRTProbe/20240908/Top/Clips/Naveed_20240908_HoldTrial081_TopView.avi\n",
      "Loading  D:/YuLab/Work/GPS/Video/Naveed/GPS_20_ThreeFPHoldSRTProbe/20240908/Top/Clips/Naveed_20240908_HoldTrial081_TopView.avi\n",
      "Duration of video [s]:  8.04 , recorded with  25.0 fps!\n",
      "Overall # of frames:  201  found with (before cropping) frame dimensions:  1280 1331\n",
      "Starting to extract posture\n",
      "Cropping based on the x1 = 0 x2 = 1280 y1 = 0 y2 = 1024. You can adjust the cropping coordinates in the config.yaml file.\n"
     ]
    },
    {
     "name": "stderr",
     "output_type": "stream",
     "text": [
      "100%|██████████| 201/201 [00:08<00:00, 23.31it/s]\n"
     ]
    },
    {
     "name": "stdout",
     "output_type": "stream",
     "text": [
      "Saving results in D:\\YuLab\\Work\\GPS\\Video\\Naveed\\GPS_20_ThreeFPHoldSRTProbe\\20240908\\Top\\Clips...\n",
      "Saving csv poses!\n",
      "Starting to analyze %  D:/YuLab/Work/GPS/Video/Naveed/GPS_20_ThreeFPHoldSRTProbe/20240908/Top/Clips/Naveed_20240908_HoldTrial082_TopView.avi\n",
      "Loading  D:/YuLab/Work/GPS/Video/Naveed/GPS_20_ThreeFPHoldSRTProbe/20240908/Top/Clips/Naveed_20240908_HoldTrial082_TopView.avi\n",
      "Duration of video [s]:  8.0 , recorded with  25.0 fps!\n",
      "Overall # of frames:  200  found with (before cropping) frame dimensions:  1280 1331\n",
      "Starting to extract posture\n",
      "Cropping based on the x1 = 0 x2 = 1280 y1 = 0 y2 = 1024. You can adjust the cropping coordinates in the config.yaml file.\n"
     ]
    },
    {
     "name": "stderr",
     "output_type": "stream",
     "text": [
      "100%|██████████| 200/200 [00:08<00:00, 23.94it/s]\n"
     ]
    },
    {
     "name": "stdout",
     "output_type": "stream",
     "text": [
      "Saving results in D:\\YuLab\\Work\\GPS\\Video\\Naveed\\GPS_20_ThreeFPHoldSRTProbe\\20240908\\Top\\Clips...\n",
      "Saving csv poses!\n",
      "Starting to analyze %  D:/YuLab/Work/GPS/Video/Naveed/GPS_20_ThreeFPHoldSRTProbe/20240908/Top/Clips/Naveed_20240908_HoldTrial083_TopView.avi\n",
      "Loading  D:/YuLab/Work/GPS/Video/Naveed/GPS_20_ThreeFPHoldSRTProbe/20240908/Top/Clips/Naveed_20240908_HoldTrial083_TopView.avi\n",
      "Duration of video [s]:  8.0 , recorded with  25.0 fps!\n",
      "Overall # of frames:  200  found with (before cropping) frame dimensions:  1280 1331\n",
      "Starting to extract posture\n",
      "Cropping based on the x1 = 0 x2 = 1280 y1 = 0 y2 = 1024. You can adjust the cropping coordinates in the config.yaml file.\n"
     ]
    },
    {
     "name": "stderr",
     "output_type": "stream",
     "text": [
      "100%|██████████| 200/200 [00:08<00:00, 23.92it/s]\n"
     ]
    },
    {
     "name": "stdout",
     "output_type": "stream",
     "text": [
      "Saving results in D:\\YuLab\\Work\\GPS\\Video\\Naveed\\GPS_20_ThreeFPHoldSRTProbe\\20240908\\Top\\Clips...\n",
      "Saving csv poses!\n",
      "Starting to analyze %  D:/YuLab/Work/GPS/Video/Naveed/GPS_20_ThreeFPHoldSRTProbe/20240908/Top/Clips/Naveed_20240908_HoldTrial084_TopView.avi\n",
      "Loading  D:/YuLab/Work/GPS/Video/Naveed/GPS_20_ThreeFPHoldSRTProbe/20240908/Top/Clips/Naveed_20240908_HoldTrial084_TopView.avi\n",
      "Duration of video [s]:  8.04 , recorded with  25.0 fps!\n",
      "Overall # of frames:  201  found with (before cropping) frame dimensions:  1280 1331\n",
      "Starting to extract posture\n",
      "Cropping based on the x1 = 0 x2 = 1280 y1 = 0 y2 = 1024. You can adjust the cropping coordinates in the config.yaml file.\n"
     ]
    },
    {
     "name": "stderr",
     "output_type": "stream",
     "text": [
      "100%|██████████| 201/201 [00:08<00:00, 23.27it/s]\n"
     ]
    },
    {
     "name": "stdout",
     "output_type": "stream",
     "text": [
      "Saving results in D:\\YuLab\\Work\\GPS\\Video\\Naveed\\GPS_20_ThreeFPHoldSRTProbe\\20240908\\Top\\Clips...\n",
      "Saving csv poses!\n",
      "Starting to analyze %  D:/YuLab/Work/GPS/Video/Naveed/GPS_20_ThreeFPHoldSRTProbe/20240908/Top/Clips/Naveed_20240908_HoldTrial085_TopView.avi\n",
      "Loading  D:/YuLab/Work/GPS/Video/Naveed/GPS_20_ThreeFPHoldSRTProbe/20240908/Top/Clips/Naveed_20240908_HoldTrial085_TopView.avi\n",
      "Duration of video [s]:  8.0 , recorded with  25.0 fps!\n",
      "Overall # of frames:  200  found with (before cropping) frame dimensions:  1280 1331\n",
      "Starting to extract posture\n",
      "Cropping based on the x1 = 0 x2 = 1280 y1 = 0 y2 = 1024. You can adjust the cropping coordinates in the config.yaml file.\n"
     ]
    },
    {
     "name": "stderr",
     "output_type": "stream",
     "text": [
      "100%|██████████| 200/200 [00:08<00:00, 23.86it/s]\n"
     ]
    },
    {
     "name": "stdout",
     "output_type": "stream",
     "text": [
      "Saving results in D:\\YuLab\\Work\\GPS\\Video\\Naveed\\GPS_20_ThreeFPHoldSRTProbe\\20240908\\Top\\Clips...\n",
      "Saving csv poses!\n",
      "Starting to analyze %  D:/YuLab/Work/GPS/Video/Naveed/GPS_20_ThreeFPHoldSRTProbe/20240908/Top/Clips/Naveed_20240908_HoldTrial086_TopView.avi\n",
      "Loading  D:/YuLab/Work/GPS/Video/Naveed/GPS_20_ThreeFPHoldSRTProbe/20240908/Top/Clips/Naveed_20240908_HoldTrial086_TopView.avi\n",
      "Duration of video [s]:  8.04 , recorded with  25.0 fps!\n",
      "Overall # of frames:  201  found with (before cropping) frame dimensions:  1280 1331\n",
      "Starting to extract posture\n",
      "Cropping based on the x1 = 0 x2 = 1280 y1 = 0 y2 = 1024. You can adjust the cropping coordinates in the config.yaml file.\n"
     ]
    },
    {
     "name": "stderr",
     "output_type": "stream",
     "text": [
      "100%|██████████| 201/201 [00:08<00:00, 23.29it/s]\n"
     ]
    },
    {
     "name": "stdout",
     "output_type": "stream",
     "text": [
      "Saving results in D:\\YuLab\\Work\\GPS\\Video\\Naveed\\GPS_20_ThreeFPHoldSRTProbe\\20240908\\Top\\Clips...\n",
      "Saving csv poses!\n",
      "Starting to analyze %  D:/YuLab/Work/GPS/Video/Naveed/GPS_20_ThreeFPHoldSRTProbe/20240908/Top/Clips/Naveed_20240908_HoldTrial087_TopView.avi\n",
      "Loading  D:/YuLab/Work/GPS/Video/Naveed/GPS_20_ThreeFPHoldSRTProbe/20240908/Top/Clips/Naveed_20240908_HoldTrial087_TopView.avi\n",
      "Duration of video [s]:  8.0 , recorded with  25.0 fps!\n",
      "Overall # of frames:  200  found with (before cropping) frame dimensions:  1280 1331\n",
      "Starting to extract posture\n",
      "Cropping based on the x1 = 0 x2 = 1280 y1 = 0 y2 = 1024. You can adjust the cropping coordinates in the config.yaml file.\n"
     ]
    },
    {
     "name": "stderr",
     "output_type": "stream",
     "text": [
      "100%|██████████| 200/200 [00:08<00:00, 23.92it/s]\n"
     ]
    },
    {
     "name": "stdout",
     "output_type": "stream",
     "text": [
      "Saving results in D:\\YuLab\\Work\\GPS\\Video\\Naveed\\GPS_20_ThreeFPHoldSRTProbe\\20240908\\Top\\Clips...\n",
      "Saving csv poses!\n",
      "Starting to analyze %  D:/YuLab/Work/GPS/Video/Naveed/GPS_20_ThreeFPHoldSRTProbe/20240908/Top/Clips/Naveed_20240908_HoldTrial088_TopView.avi\n",
      "Loading  D:/YuLab/Work/GPS/Video/Naveed/GPS_20_ThreeFPHoldSRTProbe/20240908/Top/Clips/Naveed_20240908_HoldTrial088_TopView.avi\n",
      "Duration of video [s]:  8.04 , recorded with  25.0 fps!\n",
      "Overall # of frames:  201  found with (before cropping) frame dimensions:  1280 1331\n",
      "Starting to extract posture\n",
      "Cropping based on the x1 = 0 x2 = 1280 y1 = 0 y2 = 1024. You can adjust the cropping coordinates in the config.yaml file.\n"
     ]
    },
    {
     "name": "stderr",
     "output_type": "stream",
     "text": [
      "100%|██████████| 201/201 [00:08<00:00, 23.28it/s]\n"
     ]
    },
    {
     "name": "stdout",
     "output_type": "stream",
     "text": [
      "Saving results in D:\\YuLab\\Work\\GPS\\Video\\Naveed\\GPS_20_ThreeFPHoldSRTProbe\\20240908\\Top\\Clips...\n",
      "Saving csv poses!\n",
      "Starting to analyze %  D:/YuLab/Work/GPS/Video/Naveed/GPS_20_ThreeFPHoldSRTProbe/20240908/Top/Clips/Naveed_20240908_HoldTrial089_TopView.avi\n",
      "Loading  D:/YuLab/Work/GPS/Video/Naveed/GPS_20_ThreeFPHoldSRTProbe/20240908/Top/Clips/Naveed_20240908_HoldTrial089_TopView.avi\n",
      "Duration of video [s]:  8.04 , recorded with  25.0 fps!\n",
      "Overall # of frames:  201  found with (before cropping) frame dimensions:  1280 1331\n",
      "Starting to extract posture\n",
      "Cropping based on the x1 = 0 x2 = 1280 y1 = 0 y2 = 1024. You can adjust the cropping coordinates in the config.yaml file.\n"
     ]
    },
    {
     "name": "stderr",
     "output_type": "stream",
     "text": [
      "100%|██████████| 201/201 [00:08<00:00, 23.30it/s]\n"
     ]
    },
    {
     "name": "stdout",
     "output_type": "stream",
     "text": [
      "Saving results in D:\\YuLab\\Work\\GPS\\Video\\Naveed\\GPS_20_ThreeFPHoldSRTProbe\\20240908\\Top\\Clips...\n",
      "Saving csv poses!\n",
      "Starting to analyze %  D:/YuLab/Work/GPS/Video/Naveed/GPS_20_ThreeFPHoldSRTProbe/20240908/Top/Clips/Naveed_20240908_HoldTrial090_TopView.avi\n",
      "Loading  D:/YuLab/Work/GPS/Video/Naveed/GPS_20_ThreeFPHoldSRTProbe/20240908/Top/Clips/Naveed_20240908_HoldTrial090_TopView.avi\n",
      "Duration of video [s]:  8.0 , recorded with  25.0 fps!\n",
      "Overall # of frames:  200  found with (before cropping) frame dimensions:  1280 1331\n",
      "Starting to extract posture\n",
      "Cropping based on the x1 = 0 x2 = 1280 y1 = 0 y2 = 1024. You can adjust the cropping coordinates in the config.yaml file.\n"
     ]
    },
    {
     "name": "stderr",
     "output_type": "stream",
     "text": [
      "100%|██████████| 200/200 [00:08<00:00, 24.00it/s]\n"
     ]
    },
    {
     "name": "stdout",
     "output_type": "stream",
     "text": [
      "Saving results in D:\\YuLab\\Work\\GPS\\Video\\Naveed\\GPS_20_ThreeFPHoldSRTProbe\\20240908\\Top\\Clips...\n",
      "Saving csv poses!\n",
      "Starting to analyze %  D:/YuLab/Work/GPS/Video/Naveed/GPS_20_ThreeFPHoldSRTProbe/20240908/Top/Clips/Naveed_20240908_HoldTrial091_TopView.avi\n",
      "Loading  D:/YuLab/Work/GPS/Video/Naveed/GPS_20_ThreeFPHoldSRTProbe/20240908/Top/Clips/Naveed_20240908_HoldTrial091_TopView.avi\n",
      "Duration of video [s]:  8.0 , recorded with  25.0 fps!\n",
      "Overall # of frames:  200  found with (before cropping) frame dimensions:  1280 1331\n",
      "Starting to extract posture\n",
      "Cropping based on the x1 = 0 x2 = 1280 y1 = 0 y2 = 1024. You can adjust the cropping coordinates in the config.yaml file.\n"
     ]
    },
    {
     "name": "stderr",
     "output_type": "stream",
     "text": [
      "100%|██████████| 200/200 [00:08<00:00, 23.88it/s]\n"
     ]
    },
    {
     "name": "stdout",
     "output_type": "stream",
     "text": [
      "Saving results in D:\\YuLab\\Work\\GPS\\Video\\Naveed\\GPS_20_ThreeFPHoldSRTProbe\\20240908\\Top\\Clips...\n",
      "Saving csv poses!\n",
      "Starting to analyze %  D:/YuLab/Work/GPS/Video/Naveed/GPS_20_ThreeFPHoldSRTProbe/20240908/Top/Clips/Naveed_20240908_HoldTrial092_TopView.avi\n",
      "Loading  D:/YuLab/Work/GPS/Video/Naveed/GPS_20_ThreeFPHoldSRTProbe/20240908/Top/Clips/Naveed_20240908_HoldTrial092_TopView.avi\n",
      "Duration of video [s]:  8.04 , recorded with  25.0 fps!\n",
      "Overall # of frames:  201  found with (before cropping) frame dimensions:  1280 1331\n",
      "Starting to extract posture\n",
      "Cropping based on the x1 = 0 x2 = 1280 y1 = 0 y2 = 1024. You can adjust the cropping coordinates in the config.yaml file.\n"
     ]
    },
    {
     "name": "stderr",
     "output_type": "stream",
     "text": [
      "100%|██████████| 201/201 [00:08<00:00, 23.31it/s]\n"
     ]
    },
    {
     "name": "stdout",
     "output_type": "stream",
     "text": [
      "Saving results in D:\\YuLab\\Work\\GPS\\Video\\Naveed\\GPS_20_ThreeFPHoldSRTProbe\\20240908\\Top\\Clips...\n",
      "Saving csv poses!\n",
      "Starting to analyze %  D:/YuLab/Work/GPS/Video/Naveed/GPS_20_ThreeFPHoldSRTProbe/20240908/Top/Clips/Naveed_20240908_HoldTrial093_TopView.avi\n",
      "Loading  D:/YuLab/Work/GPS/Video/Naveed/GPS_20_ThreeFPHoldSRTProbe/20240908/Top/Clips/Naveed_20240908_HoldTrial093_TopView.avi\n",
      "Duration of video [s]:  8.04 , recorded with  25.0 fps!\n",
      "Overall # of frames:  201  found with (before cropping) frame dimensions:  1280 1331\n",
      "Starting to extract posture\n",
      "Cropping based on the x1 = 0 x2 = 1280 y1 = 0 y2 = 1024. You can adjust the cropping coordinates in the config.yaml file.\n"
     ]
    },
    {
     "name": "stderr",
     "output_type": "stream",
     "text": [
      "100%|██████████| 201/201 [00:08<00:00, 23.34it/s]\n"
     ]
    },
    {
     "name": "stdout",
     "output_type": "stream",
     "text": [
      "Saving results in D:\\YuLab\\Work\\GPS\\Video\\Naveed\\GPS_20_ThreeFPHoldSRTProbe\\20240908\\Top\\Clips...\n",
      "Saving csv poses!\n",
      "Starting to analyze %  D:/YuLab/Work/GPS/Video/Naveed/GPS_20_ThreeFPHoldSRTProbe/20240908/Top/Clips/Naveed_20240908_HoldTrial094_TopView.avi\n",
      "Loading  D:/YuLab/Work/GPS/Video/Naveed/GPS_20_ThreeFPHoldSRTProbe/20240908/Top/Clips/Naveed_20240908_HoldTrial094_TopView.avi\n",
      "Duration of video [s]:  8.04 , recorded with  25.0 fps!\n",
      "Overall # of frames:  201  found with (before cropping) frame dimensions:  1280 1331\n",
      "Starting to extract posture\n",
      "Cropping based on the x1 = 0 x2 = 1280 y1 = 0 y2 = 1024. You can adjust the cropping coordinates in the config.yaml file.\n"
     ]
    },
    {
     "name": "stderr",
     "output_type": "stream",
     "text": [
      "100%|██████████| 201/201 [00:08<00:00, 23.32it/s]\n"
     ]
    },
    {
     "name": "stdout",
     "output_type": "stream",
     "text": [
      "Saving results in D:\\YuLab\\Work\\GPS\\Video\\Naveed\\GPS_20_ThreeFPHoldSRTProbe\\20240908\\Top\\Clips...\n",
      "Saving csv poses!\n",
      "Starting to analyze %  D:/YuLab/Work/GPS/Video/Naveed/GPS_20_ThreeFPHoldSRTProbe/20240908/Top/Clips/Naveed_20240908_HoldTrial095_TopView.avi\n",
      "Loading  D:/YuLab/Work/GPS/Video/Naveed/GPS_20_ThreeFPHoldSRTProbe/20240908/Top/Clips/Naveed_20240908_HoldTrial095_TopView.avi\n",
      "Duration of video [s]:  8.0 , recorded with  25.0 fps!\n",
      "Overall # of frames:  200  found with (before cropping) frame dimensions:  1280 1331\n",
      "Starting to extract posture\n",
      "Cropping based on the x1 = 0 x2 = 1280 y1 = 0 y2 = 1024. You can adjust the cropping coordinates in the config.yaml file.\n"
     ]
    },
    {
     "name": "stderr",
     "output_type": "stream",
     "text": [
      "100%|██████████| 200/200 [00:08<00:00, 23.96it/s]\n"
     ]
    },
    {
     "name": "stdout",
     "output_type": "stream",
     "text": [
      "Saving results in D:\\YuLab\\Work\\GPS\\Video\\Naveed\\GPS_20_ThreeFPHoldSRTProbe\\20240908\\Top\\Clips...\n",
      "Saving csv poses!\n",
      "Starting to analyze %  D:/YuLab/Work/GPS/Video/Naveed/GPS_20_ThreeFPHoldSRTProbe/20240908/Top/Clips/Naveed_20240908_HoldTrial096_TopView.avi\n",
      "Loading  D:/YuLab/Work/GPS/Video/Naveed/GPS_20_ThreeFPHoldSRTProbe/20240908/Top/Clips/Naveed_20240908_HoldTrial096_TopView.avi\n",
      "Duration of video [s]:  8.04 , recorded with  25.0 fps!\n",
      "Overall # of frames:  201  found with (before cropping) frame dimensions:  1280 1331\n",
      "Starting to extract posture\n",
      "Cropping based on the x1 = 0 x2 = 1280 y1 = 0 y2 = 1024. You can adjust the cropping coordinates in the config.yaml file.\n"
     ]
    },
    {
     "name": "stderr",
     "output_type": "stream",
     "text": [
      "100%|██████████| 201/201 [00:08<00:00, 23.33it/s]\n"
     ]
    },
    {
     "name": "stdout",
     "output_type": "stream",
     "text": [
      "Saving results in D:\\YuLab\\Work\\GPS\\Video\\Naveed\\GPS_20_ThreeFPHoldSRTProbe\\20240908\\Top\\Clips...\n",
      "Saving csv poses!\n",
      "Starting to analyze %  D:/YuLab/Work/GPS/Video/Naveed/GPS_20_ThreeFPHoldSRTProbe/20240908/Top/Clips/Naveed_20240908_HoldTrial097_TopView.avi\n",
      "Loading  D:/YuLab/Work/GPS/Video/Naveed/GPS_20_ThreeFPHoldSRTProbe/20240908/Top/Clips/Naveed_20240908_HoldTrial097_TopView.avi\n",
      "Duration of video [s]:  8.04 , recorded with  25.0 fps!\n",
      "Overall # of frames:  201  found with (before cropping) frame dimensions:  1280 1331\n",
      "Starting to extract posture\n",
      "Cropping based on the x1 = 0 x2 = 1280 y1 = 0 y2 = 1024. You can adjust the cropping coordinates in the config.yaml file.\n"
     ]
    },
    {
     "name": "stderr",
     "output_type": "stream",
     "text": [
      "100%|██████████| 201/201 [00:08<00:00, 23.32it/s]\n"
     ]
    },
    {
     "name": "stdout",
     "output_type": "stream",
     "text": [
      "Saving results in D:\\YuLab\\Work\\GPS\\Video\\Naveed\\GPS_20_ThreeFPHoldSRTProbe\\20240908\\Top\\Clips...\n",
      "Saving csv poses!\n",
      "Starting to analyze %  D:/YuLab/Work/GPS/Video/Naveed/GPS_20_ThreeFPHoldSRTProbe/20240908/Top/Clips/Naveed_20240908_HoldTrial098_TopView.avi\n",
      "Loading  D:/YuLab/Work/GPS/Video/Naveed/GPS_20_ThreeFPHoldSRTProbe/20240908/Top/Clips/Naveed_20240908_HoldTrial098_TopView.avi\n",
      "Duration of video [s]:  8.04 , recorded with  25.0 fps!\n",
      "Overall # of frames:  201  found with (before cropping) frame dimensions:  1280 1331\n",
      "Starting to extract posture\n",
      "Cropping based on the x1 = 0 x2 = 1280 y1 = 0 y2 = 1024. You can adjust the cropping coordinates in the config.yaml file.\n"
     ]
    },
    {
     "name": "stderr",
     "output_type": "stream",
     "text": [
      "100%|██████████| 201/201 [00:08<00:00, 23.28it/s]\n"
     ]
    },
    {
     "name": "stdout",
     "output_type": "stream",
     "text": [
      "Saving results in D:\\YuLab\\Work\\GPS\\Video\\Naveed\\GPS_20_ThreeFPHoldSRTProbe\\20240908\\Top\\Clips...\n",
      "Saving csv poses!\n",
      "Starting to analyze %  D:/YuLab/Work/GPS/Video/Naveed/GPS_20_ThreeFPHoldSRTProbe/20240908/Top/Clips/Naveed_20240908_HoldTrial099_TopView.avi\n",
      "Loading  D:/YuLab/Work/GPS/Video/Naveed/GPS_20_ThreeFPHoldSRTProbe/20240908/Top/Clips/Naveed_20240908_HoldTrial099_TopView.avi\n",
      "Duration of video [s]:  8.04 , recorded with  25.0 fps!\n",
      "Overall # of frames:  201  found with (before cropping) frame dimensions:  1280 1331\n",
      "Starting to extract posture\n",
      "Cropping based on the x1 = 0 x2 = 1280 y1 = 0 y2 = 1024. You can adjust the cropping coordinates in the config.yaml file.\n"
     ]
    },
    {
     "name": "stderr",
     "output_type": "stream",
     "text": [
      "100%|██████████| 201/201 [00:08<00:00, 23.28it/s]\n"
     ]
    },
    {
     "name": "stdout",
     "output_type": "stream",
     "text": [
      "Saving results in D:\\YuLab\\Work\\GPS\\Video\\Naveed\\GPS_20_ThreeFPHoldSRTProbe\\20240908\\Top\\Clips...\n",
      "Saving csv poses!\n",
      "Starting to analyze %  D:/YuLab/Work/GPS/Video/Naveed/GPS_20_ThreeFPHoldSRTProbe/20240908/Top/Clips/Naveed_20240908_HoldTrial100_TopView.avi\n",
      "Loading  D:/YuLab/Work/GPS/Video/Naveed/GPS_20_ThreeFPHoldSRTProbe/20240908/Top/Clips/Naveed_20240908_HoldTrial100_TopView.avi\n",
      "Duration of video [s]:  8.04 , recorded with  25.0 fps!\n",
      "Overall # of frames:  201  found with (before cropping) frame dimensions:  1280 1331\n",
      "Starting to extract posture\n",
      "Cropping based on the x1 = 0 x2 = 1280 y1 = 0 y2 = 1024. You can adjust the cropping coordinates in the config.yaml file.\n"
     ]
    },
    {
     "name": "stderr",
     "output_type": "stream",
     "text": [
      "100%|██████████| 201/201 [00:08<00:00, 23.32it/s]\n"
     ]
    },
    {
     "name": "stdout",
     "output_type": "stream",
     "text": [
      "Saving results in D:\\YuLab\\Work\\GPS\\Video\\Naveed\\GPS_20_ThreeFPHoldSRTProbe\\20240908\\Top\\Clips...\n",
      "Saving csv poses!\n",
      "Starting to analyze %  D:/YuLab/Work/GPS/Video/Naveed/GPS_20_ThreeFPHoldSRTProbe/20240908/Top/Clips/Naveed_20240908_HoldTrial101_TopView.avi\n",
      "Loading  D:/YuLab/Work/GPS/Video/Naveed/GPS_20_ThreeFPHoldSRTProbe/20240908/Top/Clips/Naveed_20240908_HoldTrial101_TopView.avi\n",
      "Duration of video [s]:  8.0 , recorded with  25.0 fps!\n",
      "Overall # of frames:  200  found with (before cropping) frame dimensions:  1280 1331\n",
      "Starting to extract posture\n",
      "Cropping based on the x1 = 0 x2 = 1280 y1 = 0 y2 = 1024. You can adjust the cropping coordinates in the config.yaml file.\n"
     ]
    },
    {
     "name": "stderr",
     "output_type": "stream",
     "text": [
      "100%|██████████| 200/200 [00:08<00:00, 23.91it/s]\n"
     ]
    },
    {
     "name": "stdout",
     "output_type": "stream",
     "text": [
      "Saving results in D:\\YuLab\\Work\\GPS\\Video\\Naveed\\GPS_20_ThreeFPHoldSRTProbe\\20240908\\Top\\Clips...\n",
      "Saving csv poses!\n",
      "Starting to analyze %  D:/YuLab/Work/GPS/Video/Naveed/GPS_20_ThreeFPHoldSRTProbe/20240908/Top/Clips/Naveed_20240908_HoldTrial102_TopView.avi\n",
      "Loading  D:/YuLab/Work/GPS/Video/Naveed/GPS_20_ThreeFPHoldSRTProbe/20240908/Top/Clips/Naveed_20240908_HoldTrial102_TopView.avi\n",
      "Duration of video [s]:  8.04 , recorded with  25.0 fps!\n",
      "Overall # of frames:  201  found with (before cropping) frame dimensions:  1280 1331\n",
      "Starting to extract posture\n",
      "Cropping based on the x1 = 0 x2 = 1280 y1 = 0 y2 = 1024. You can adjust the cropping coordinates in the config.yaml file.\n"
     ]
    },
    {
     "name": "stderr",
     "output_type": "stream",
     "text": [
      "100%|██████████| 201/201 [00:08<00:00, 23.26it/s]\n"
     ]
    },
    {
     "name": "stdout",
     "output_type": "stream",
     "text": [
      "Saving results in D:\\YuLab\\Work\\GPS\\Video\\Naveed\\GPS_20_ThreeFPHoldSRTProbe\\20240908\\Top\\Clips...\n",
      "Saving csv poses!\n",
      "Starting to analyze %  D:/YuLab/Work/GPS/Video/Naveed/GPS_20_ThreeFPHoldSRTProbe/20240908/Top/Clips/Naveed_20240908_HoldTrial103_TopView.avi\n",
      "Loading  D:/YuLab/Work/GPS/Video/Naveed/GPS_20_ThreeFPHoldSRTProbe/20240908/Top/Clips/Naveed_20240908_HoldTrial103_TopView.avi\n",
      "Duration of video [s]:  8.04 , recorded with  25.0 fps!\n",
      "Overall # of frames:  201  found with (before cropping) frame dimensions:  1280 1331\n",
      "Starting to extract posture\n",
      "Cropping based on the x1 = 0 x2 = 1280 y1 = 0 y2 = 1024. You can adjust the cropping coordinates in the config.yaml file.\n"
     ]
    },
    {
     "name": "stderr",
     "output_type": "stream",
     "text": [
      "100%|██████████| 201/201 [00:08<00:00, 23.24it/s]\n"
     ]
    },
    {
     "name": "stdout",
     "output_type": "stream",
     "text": [
      "Saving results in D:\\YuLab\\Work\\GPS\\Video\\Naveed\\GPS_20_ThreeFPHoldSRTProbe\\20240908\\Top\\Clips...\n",
      "Saving csv poses!\n",
      "Starting to analyze %  D:/YuLab/Work/GPS/Video/Naveed/GPS_20_ThreeFPHoldSRTProbe/20240908/Top/Clips/Naveed_20240908_HoldTrial104_TopView.avi\n",
      "Loading  D:/YuLab/Work/GPS/Video/Naveed/GPS_20_ThreeFPHoldSRTProbe/20240908/Top/Clips/Naveed_20240908_HoldTrial104_TopView.avi\n",
      "Duration of video [s]:  8.04 , recorded with  25.0 fps!\n",
      "Overall # of frames:  201  found with (before cropping) frame dimensions:  1280 1331\n",
      "Starting to extract posture\n",
      "Cropping based on the x1 = 0 x2 = 1280 y1 = 0 y2 = 1024. You can adjust the cropping coordinates in the config.yaml file.\n"
     ]
    },
    {
     "name": "stderr",
     "output_type": "stream",
     "text": [
      "100%|██████████| 201/201 [00:08<00:00, 23.23it/s]\n"
     ]
    },
    {
     "name": "stdout",
     "output_type": "stream",
     "text": [
      "Saving results in D:\\YuLab\\Work\\GPS\\Video\\Naveed\\GPS_20_ThreeFPHoldSRTProbe\\20240908\\Top\\Clips...\n",
      "Saving csv poses!\n",
      "Starting to analyze %  D:/YuLab/Work/GPS/Video/Naveed/GPS_20_ThreeFPHoldSRTProbe/20240908/Top/Clips/Naveed_20240908_HoldTrial105_TopView.avi\n",
      "Loading  D:/YuLab/Work/GPS/Video/Naveed/GPS_20_ThreeFPHoldSRTProbe/20240908/Top/Clips/Naveed_20240908_HoldTrial105_TopView.avi\n",
      "Duration of video [s]:  8.04 , recorded with  25.0 fps!\n",
      "Overall # of frames:  201  found with (before cropping) frame dimensions:  1280 1331\n",
      "Starting to extract posture\n",
      "Cropping based on the x1 = 0 x2 = 1280 y1 = 0 y2 = 1024. You can adjust the cropping coordinates in the config.yaml file.\n"
     ]
    },
    {
     "name": "stderr",
     "output_type": "stream",
     "text": [
      "100%|██████████| 201/201 [00:08<00:00, 23.26it/s]\n"
     ]
    },
    {
     "name": "stdout",
     "output_type": "stream",
     "text": [
      "Saving results in D:\\YuLab\\Work\\GPS\\Video\\Naveed\\GPS_20_ThreeFPHoldSRTProbe\\20240908\\Top\\Clips...\n",
      "Saving csv poses!\n",
      "Starting to analyze %  D:/YuLab/Work/GPS/Video/Naveed/GPS_20_ThreeFPHoldSRTProbe/20240908/Top/Clips/Naveed_20240908_HoldTrial106_TopView.avi\n",
      "Loading  D:/YuLab/Work/GPS/Video/Naveed/GPS_20_ThreeFPHoldSRTProbe/20240908/Top/Clips/Naveed_20240908_HoldTrial106_TopView.avi\n",
      "Duration of video [s]:  8.04 , recorded with  25.0 fps!\n",
      "Overall # of frames:  201  found with (before cropping) frame dimensions:  1280 1331\n",
      "Starting to extract posture\n",
      "Cropping based on the x1 = 0 x2 = 1280 y1 = 0 y2 = 1024. You can adjust the cropping coordinates in the config.yaml file.\n"
     ]
    },
    {
     "name": "stderr",
     "output_type": "stream",
     "text": [
      "100%|██████████| 201/201 [00:08<00:00, 23.27it/s]\n"
     ]
    },
    {
     "name": "stdout",
     "output_type": "stream",
     "text": [
      "Saving results in D:\\YuLab\\Work\\GPS\\Video\\Naveed\\GPS_20_ThreeFPHoldSRTProbe\\20240908\\Top\\Clips...\n",
      "Saving csv poses!\n",
      "Starting to analyze %  D:/YuLab/Work/GPS/Video/Naveed/GPS_20_ThreeFPHoldSRTProbe/20240908/Top/Clips/Naveed_20240908_HoldTrial107_TopView.avi\n",
      "Loading  D:/YuLab/Work/GPS/Video/Naveed/GPS_20_ThreeFPHoldSRTProbe/20240908/Top/Clips/Naveed_20240908_HoldTrial107_TopView.avi\n",
      "Duration of video [s]:  8.0 , recorded with  25.0 fps!\n",
      "Overall # of frames:  200  found with (before cropping) frame dimensions:  1280 1331\n",
      "Starting to extract posture\n",
      "Cropping based on the x1 = 0 x2 = 1280 y1 = 0 y2 = 1024. You can adjust the cropping coordinates in the config.yaml file.\n"
     ]
    },
    {
     "name": "stderr",
     "output_type": "stream",
     "text": [
      "100%|██████████| 200/200 [00:08<00:00, 23.88it/s]\n"
     ]
    },
    {
     "name": "stdout",
     "output_type": "stream",
     "text": [
      "Saving results in D:\\YuLab\\Work\\GPS\\Video\\Naveed\\GPS_20_ThreeFPHoldSRTProbe\\20240908\\Top\\Clips...\n",
      "Saving csv poses!\n",
      "Starting to analyze %  D:/YuLab/Work/GPS/Video/Naveed/GPS_20_ThreeFPHoldSRTProbe/20240908/Top/Clips/Naveed_20240908_HoldTrial108_TopView.avi\n",
      "Loading  D:/YuLab/Work/GPS/Video/Naveed/GPS_20_ThreeFPHoldSRTProbe/20240908/Top/Clips/Naveed_20240908_HoldTrial108_TopView.avi\n",
      "Duration of video [s]:  8.04 , recorded with  25.0 fps!\n",
      "Overall # of frames:  201  found with (before cropping) frame dimensions:  1280 1331\n",
      "Starting to extract posture\n",
      "Cropping based on the x1 = 0 x2 = 1280 y1 = 0 y2 = 1024. You can adjust the cropping coordinates in the config.yaml file.\n"
     ]
    },
    {
     "name": "stderr",
     "output_type": "stream",
     "text": [
      "100%|██████████| 201/201 [00:08<00:00, 23.28it/s]\n"
     ]
    },
    {
     "name": "stdout",
     "output_type": "stream",
     "text": [
      "Saving results in D:\\YuLab\\Work\\GPS\\Video\\Naveed\\GPS_20_ThreeFPHoldSRTProbe\\20240908\\Top\\Clips...\n",
      "Saving csv poses!\n",
      "Starting to analyze %  D:/YuLab/Work/GPS/Video/Naveed/GPS_20_ThreeFPHoldSRTProbe/20240908/Top/Clips/Naveed_20240908_HoldTrial109_TopView.avi\n",
      "Loading  D:/YuLab/Work/GPS/Video/Naveed/GPS_20_ThreeFPHoldSRTProbe/20240908/Top/Clips/Naveed_20240908_HoldTrial109_TopView.avi\n",
      "Duration of video [s]:  8.04 , recorded with  25.0 fps!\n",
      "Overall # of frames:  201  found with (before cropping) frame dimensions:  1280 1331\n",
      "Starting to extract posture\n",
      "Cropping based on the x1 = 0 x2 = 1280 y1 = 0 y2 = 1024. You can adjust the cropping coordinates in the config.yaml file.\n"
     ]
    },
    {
     "name": "stderr",
     "output_type": "stream",
     "text": [
      "100%|██████████| 201/201 [00:08<00:00, 23.24it/s]\n"
     ]
    },
    {
     "name": "stdout",
     "output_type": "stream",
     "text": [
      "Saving results in D:\\YuLab\\Work\\GPS\\Video\\Naveed\\GPS_20_ThreeFPHoldSRTProbe\\20240908\\Top\\Clips...\n",
      "Saving csv poses!\n",
      "Starting to analyze %  D:/YuLab/Work/GPS/Video/Naveed/GPS_20_ThreeFPHoldSRTProbe/20240908/Top/Clips/Naveed_20240908_HoldTrial110_TopView.avi\n",
      "Loading  D:/YuLab/Work/GPS/Video/Naveed/GPS_20_ThreeFPHoldSRTProbe/20240908/Top/Clips/Naveed_20240908_HoldTrial110_TopView.avi\n",
      "Duration of video [s]:  8.0 , recorded with  25.0 fps!\n",
      "Overall # of frames:  200  found with (before cropping) frame dimensions:  1280 1331\n",
      "Starting to extract posture\n",
      "Cropping based on the x1 = 0 x2 = 1280 y1 = 0 y2 = 1024. You can adjust the cropping coordinates in the config.yaml file.\n"
     ]
    },
    {
     "name": "stderr",
     "output_type": "stream",
     "text": [
      "100%|██████████| 200/200 [00:08<00:00, 23.90it/s]\n"
     ]
    },
    {
     "name": "stdout",
     "output_type": "stream",
     "text": [
      "Saving results in D:\\YuLab\\Work\\GPS\\Video\\Naveed\\GPS_20_ThreeFPHoldSRTProbe\\20240908\\Top\\Clips...\n",
      "Saving csv poses!\n",
      "Starting to analyze %  D:/YuLab/Work/GPS/Video/Naveed/GPS_20_ThreeFPHoldSRTProbe/20240908/Top/Clips/Naveed_20240908_HoldTrial111_TopView.avi\n",
      "Loading  D:/YuLab/Work/GPS/Video/Naveed/GPS_20_ThreeFPHoldSRTProbe/20240908/Top/Clips/Naveed_20240908_HoldTrial111_TopView.avi\n",
      "Duration of video [s]:  8.0 , recorded with  25.0 fps!\n",
      "Overall # of frames:  200  found with (before cropping) frame dimensions:  1280 1331\n",
      "Starting to extract posture\n",
      "Cropping based on the x1 = 0 x2 = 1280 y1 = 0 y2 = 1024. You can adjust the cropping coordinates in the config.yaml file.\n"
     ]
    },
    {
     "name": "stderr",
     "output_type": "stream",
     "text": [
      "100%|██████████| 200/200 [00:08<00:00, 23.88it/s]\n"
     ]
    },
    {
     "name": "stdout",
     "output_type": "stream",
     "text": [
      "Saving results in D:\\YuLab\\Work\\GPS\\Video\\Naveed\\GPS_20_ThreeFPHoldSRTProbe\\20240908\\Top\\Clips...\n",
      "Saving csv poses!\n",
      "Starting to analyze %  D:/YuLab/Work/GPS/Video/Naveed/GPS_20_ThreeFPHoldSRTProbe/20240908/Top/Clips/Naveed_20240908_HoldTrial112_TopView.avi\n",
      "Loading  D:/YuLab/Work/GPS/Video/Naveed/GPS_20_ThreeFPHoldSRTProbe/20240908/Top/Clips/Naveed_20240908_HoldTrial112_TopView.avi\n",
      "Duration of video [s]:  8.0 , recorded with  25.0 fps!\n",
      "Overall # of frames:  200  found with (before cropping) frame dimensions:  1280 1331\n",
      "Starting to extract posture\n",
      "Cropping based on the x1 = 0 x2 = 1280 y1 = 0 y2 = 1024. You can adjust the cropping coordinates in the config.yaml file.\n"
     ]
    },
    {
     "name": "stderr",
     "output_type": "stream",
     "text": [
      "100%|██████████| 200/200 [00:08<00:00, 23.83it/s]\n"
     ]
    },
    {
     "name": "stdout",
     "output_type": "stream",
     "text": [
      "Saving results in D:\\YuLab\\Work\\GPS\\Video\\Naveed\\GPS_20_ThreeFPHoldSRTProbe\\20240908\\Top\\Clips...\n",
      "Saving csv poses!\n",
      "Starting to analyze %  D:/YuLab/Work/GPS/Video/Naveed/GPS_20_ThreeFPHoldSRTProbe/20240908/Top/Clips/Naveed_20240908_HoldTrial113_TopView.avi\n",
      "Loading  D:/YuLab/Work/GPS/Video/Naveed/GPS_20_ThreeFPHoldSRTProbe/20240908/Top/Clips/Naveed_20240908_HoldTrial113_TopView.avi\n",
      "Duration of video [s]:  8.0 , recorded with  25.0 fps!\n",
      "Overall # of frames:  200  found with (before cropping) frame dimensions:  1280 1331\n",
      "Starting to extract posture\n",
      "Cropping based on the x1 = 0 x2 = 1280 y1 = 0 y2 = 1024. You can adjust the cropping coordinates in the config.yaml file.\n"
     ]
    },
    {
     "name": "stderr",
     "output_type": "stream",
     "text": [
      "100%|██████████| 200/200 [00:08<00:00, 23.91it/s]\n"
     ]
    },
    {
     "name": "stdout",
     "output_type": "stream",
     "text": [
      "Saving results in D:\\YuLab\\Work\\GPS\\Video\\Naveed\\GPS_20_ThreeFPHoldSRTProbe\\20240908\\Top\\Clips...\n",
      "Saving csv poses!\n",
      "Starting to analyze %  D:/YuLab/Work/GPS/Video/Naveed/GPS_20_ThreeFPHoldSRTProbe/20240908/Top/Clips/Naveed_20240908_HoldTrial114_TopView.avi\n",
      "Loading  D:/YuLab/Work/GPS/Video/Naveed/GPS_20_ThreeFPHoldSRTProbe/20240908/Top/Clips/Naveed_20240908_HoldTrial114_TopView.avi\n",
      "Duration of video [s]:  8.04 , recorded with  25.0 fps!\n",
      "Overall # of frames:  201  found with (before cropping) frame dimensions:  1280 1331\n",
      "Starting to extract posture\n",
      "Cropping based on the x1 = 0 x2 = 1280 y1 = 0 y2 = 1024. You can adjust the cropping coordinates in the config.yaml file.\n"
     ]
    },
    {
     "name": "stderr",
     "output_type": "stream",
     "text": [
      "100%|██████████| 201/201 [00:08<00:00, 23.23it/s]\n"
     ]
    },
    {
     "name": "stdout",
     "output_type": "stream",
     "text": [
      "Saving results in D:\\YuLab\\Work\\GPS\\Video\\Naveed\\GPS_20_ThreeFPHoldSRTProbe\\20240908\\Top\\Clips...\n",
      "Saving csv poses!\n",
      "Starting to analyze %  D:/YuLab/Work/GPS/Video/Naveed/GPS_20_ThreeFPHoldSRTProbe/20240908/Top/Clips/Naveed_20240908_HoldTrial115_TopView.avi\n",
      "Loading  D:/YuLab/Work/GPS/Video/Naveed/GPS_20_ThreeFPHoldSRTProbe/20240908/Top/Clips/Naveed_20240908_HoldTrial115_TopView.avi\n",
      "Duration of video [s]:  8.04 , recorded with  25.0 fps!\n",
      "Overall # of frames:  201  found with (before cropping) frame dimensions:  1280 1331\n",
      "Starting to extract posture\n",
      "Cropping based on the x1 = 0 x2 = 1280 y1 = 0 y2 = 1024. You can adjust the cropping coordinates in the config.yaml file.\n"
     ]
    },
    {
     "name": "stderr",
     "output_type": "stream",
     "text": [
      "100%|██████████| 201/201 [00:08<00:00, 23.27it/s]\n"
     ]
    },
    {
     "name": "stdout",
     "output_type": "stream",
     "text": [
      "Saving results in D:\\YuLab\\Work\\GPS\\Video\\Naveed\\GPS_20_ThreeFPHoldSRTProbe\\20240908\\Top\\Clips...\n",
      "Saving csv poses!\n",
      "Starting to analyze %  D:/YuLab/Work/GPS/Video/Naveed/GPS_20_ThreeFPHoldSRTProbe/20240908/Top/Clips/Naveed_20240908_HoldTrial116_TopView.avi\n",
      "Loading  D:/YuLab/Work/GPS/Video/Naveed/GPS_20_ThreeFPHoldSRTProbe/20240908/Top/Clips/Naveed_20240908_HoldTrial116_TopView.avi\n",
      "Duration of video [s]:  8.04 , recorded with  25.0 fps!\n",
      "Overall # of frames:  201  found with (before cropping) frame dimensions:  1280 1331\n",
      "Starting to extract posture\n",
      "Cropping based on the x1 = 0 x2 = 1280 y1 = 0 y2 = 1024. You can adjust the cropping coordinates in the config.yaml file.\n"
     ]
    },
    {
     "name": "stderr",
     "output_type": "stream",
     "text": [
      "100%|██████████| 201/201 [00:08<00:00, 23.30it/s]\n"
     ]
    },
    {
     "name": "stdout",
     "output_type": "stream",
     "text": [
      "Saving results in D:\\YuLab\\Work\\GPS\\Video\\Naveed\\GPS_20_ThreeFPHoldSRTProbe\\20240908\\Top\\Clips...\n",
      "Saving csv poses!\n",
      "Starting to analyze %  D:/YuLab/Work/GPS/Video/Naveed/GPS_20_ThreeFPHoldSRTProbe/20240908/Top/Clips/Naveed_20240908_HoldTrial117_TopView.avi\n",
      "Loading  D:/YuLab/Work/GPS/Video/Naveed/GPS_20_ThreeFPHoldSRTProbe/20240908/Top/Clips/Naveed_20240908_HoldTrial117_TopView.avi\n",
      "Duration of video [s]:  8.0 , recorded with  25.0 fps!\n",
      "Overall # of frames:  200  found with (before cropping) frame dimensions:  1280 1331\n",
      "Starting to extract posture\n",
      "Cropping based on the x1 = 0 x2 = 1280 y1 = 0 y2 = 1024. You can adjust the cropping coordinates in the config.yaml file.\n"
     ]
    },
    {
     "name": "stderr",
     "output_type": "stream",
     "text": [
      "100%|██████████| 200/200 [00:08<00:00, 23.89it/s]\n"
     ]
    },
    {
     "name": "stdout",
     "output_type": "stream",
     "text": [
      "Saving results in D:\\YuLab\\Work\\GPS\\Video\\Naveed\\GPS_20_ThreeFPHoldSRTProbe\\20240908\\Top\\Clips...\n",
      "Saving csv poses!\n",
      "Starting to analyze %  D:/YuLab/Work/GPS/Video/Naveed/GPS_20_ThreeFPHoldSRTProbe/20240908/Top/Clips/Naveed_20240908_HoldTrial118_TopView.avi\n",
      "Loading  D:/YuLab/Work/GPS/Video/Naveed/GPS_20_ThreeFPHoldSRTProbe/20240908/Top/Clips/Naveed_20240908_HoldTrial118_TopView.avi\n",
      "Duration of video [s]:  8.04 , recorded with  25.0 fps!\n",
      "Overall # of frames:  201  found with (before cropping) frame dimensions:  1280 1331\n",
      "Starting to extract posture\n",
      "Cropping based on the x1 = 0 x2 = 1280 y1 = 0 y2 = 1024. You can adjust the cropping coordinates in the config.yaml file.\n"
     ]
    },
    {
     "name": "stderr",
     "output_type": "stream",
     "text": [
      "100%|██████████| 201/201 [00:08<00:00, 23.24it/s]\n"
     ]
    },
    {
     "name": "stdout",
     "output_type": "stream",
     "text": [
      "Saving results in D:\\YuLab\\Work\\GPS\\Video\\Naveed\\GPS_20_ThreeFPHoldSRTProbe\\20240908\\Top\\Clips...\n",
      "Saving csv poses!\n",
      "Starting to analyze %  D:/YuLab/Work/GPS/Video/Naveed/GPS_20_ThreeFPHoldSRTProbe/20240908/Top/Clips/Naveed_20240908_HoldTrial119_TopView.avi\n",
      "Loading  D:/YuLab/Work/GPS/Video/Naveed/GPS_20_ThreeFPHoldSRTProbe/20240908/Top/Clips/Naveed_20240908_HoldTrial119_TopView.avi\n",
      "Duration of video [s]:  8.04 , recorded with  25.0 fps!\n",
      "Overall # of frames:  201  found with (before cropping) frame dimensions:  1280 1331\n",
      "Starting to extract posture\n",
      "Cropping based on the x1 = 0 x2 = 1280 y1 = 0 y2 = 1024. You can adjust the cropping coordinates in the config.yaml file.\n"
     ]
    },
    {
     "name": "stderr",
     "output_type": "stream",
     "text": [
      "100%|██████████| 201/201 [00:08<00:00, 23.22it/s]\n"
     ]
    },
    {
     "name": "stdout",
     "output_type": "stream",
     "text": [
      "Saving results in D:\\YuLab\\Work\\GPS\\Video\\Naveed\\GPS_20_ThreeFPHoldSRTProbe\\20240908\\Top\\Clips...\n",
      "Saving csv poses!\n",
      "Starting to analyze %  D:/YuLab/Work/GPS/Video/Naveed/GPS_20_ThreeFPHoldSRTProbe/20240908/Top/Clips/Naveed_20240908_HoldTrial120_TopView.avi\n",
      "Loading  D:/YuLab/Work/GPS/Video/Naveed/GPS_20_ThreeFPHoldSRTProbe/20240908/Top/Clips/Naveed_20240908_HoldTrial120_TopView.avi\n",
      "Duration of video [s]:  8.04 , recorded with  25.0 fps!\n",
      "Overall # of frames:  201  found with (before cropping) frame dimensions:  1280 1331\n",
      "Starting to extract posture\n",
      "Cropping based on the x1 = 0 x2 = 1280 y1 = 0 y2 = 1024. You can adjust the cropping coordinates in the config.yaml file.\n"
     ]
    },
    {
     "name": "stderr",
     "output_type": "stream",
     "text": [
      "100%|██████████| 201/201 [00:08<00:00, 23.33it/s]\n"
     ]
    },
    {
     "name": "stdout",
     "output_type": "stream",
     "text": [
      "Saving results in D:\\YuLab\\Work\\GPS\\Video\\Naveed\\GPS_20_ThreeFPHoldSRTProbe\\20240908\\Top\\Clips...\n",
      "Saving csv poses!\n",
      "Starting to analyze %  D:/YuLab/Work/GPS/Video/Naveed/GPS_20_ThreeFPHoldSRTProbe/20240908/Top/Clips/Naveed_20240908_HoldTrial121_TopView.avi\n",
      "Loading  D:/YuLab/Work/GPS/Video/Naveed/GPS_20_ThreeFPHoldSRTProbe/20240908/Top/Clips/Naveed_20240908_HoldTrial121_TopView.avi\n",
      "Duration of video [s]:  8.04 , recorded with  25.0 fps!\n",
      "Overall # of frames:  201  found with (before cropping) frame dimensions:  1280 1331\n",
      "Starting to extract posture\n",
      "Cropping based on the x1 = 0 x2 = 1280 y1 = 0 y2 = 1024. You can adjust the cropping coordinates in the config.yaml file.\n"
     ]
    },
    {
     "name": "stderr",
     "output_type": "stream",
     "text": [
      "100%|██████████| 201/201 [00:08<00:00, 23.25it/s]\n"
     ]
    },
    {
     "name": "stdout",
     "output_type": "stream",
     "text": [
      "Saving results in D:\\YuLab\\Work\\GPS\\Video\\Naveed\\GPS_20_ThreeFPHoldSRTProbe\\20240908\\Top\\Clips...\n",
      "Saving csv poses!\n",
      "Starting to analyze %  D:/YuLab/Work/GPS/Video/Naveed/GPS_20_ThreeFPHoldSRTProbe/20240908/Top/Clips/Naveed_20240908_HoldTrial122_TopView.avi\n",
      "Loading  D:/YuLab/Work/GPS/Video/Naveed/GPS_20_ThreeFPHoldSRTProbe/20240908/Top/Clips/Naveed_20240908_HoldTrial122_TopView.avi\n",
      "Duration of video [s]:  8.04 , recorded with  25.0 fps!\n",
      "Overall # of frames:  201  found with (before cropping) frame dimensions:  1280 1331\n",
      "Starting to extract posture\n",
      "Cropping based on the x1 = 0 x2 = 1280 y1 = 0 y2 = 1024. You can adjust the cropping coordinates in the config.yaml file.\n"
     ]
    },
    {
     "name": "stderr",
     "output_type": "stream",
     "text": [
      "100%|██████████| 201/201 [00:08<00:00, 23.31it/s]\n"
     ]
    },
    {
     "name": "stdout",
     "output_type": "stream",
     "text": [
      "Saving results in D:\\YuLab\\Work\\GPS\\Video\\Naveed\\GPS_20_ThreeFPHoldSRTProbe\\20240908\\Top\\Clips...\n",
      "Saving csv poses!\n",
      "The videos are analyzed. Now your research can truly start! \n",
      " You can create labeled videos with 'create_labeled_video'\n",
      "If the tracking is not satisfactory for some videos, consider expanding the training set. You can use the function 'extract_outlier_frames' to extract a few representative outlier frames.\n"
     ]
    },
    {
     "data": {
      "text/plain": [
       "'DLC_resnet50_MoradTopGPSSep12shuffle1_3000000'"
      ]
     },
     "execution_count": 9,
     "metadata": {},
     "output_type": "execute_result"
    }
   ],
   "source": [
    "deeplabcut.analyze_videos(config=config_path, videos=video_files, videotype='avi', shuffle=1, save_as_csv=True)"
   ]
  },
  {
   "cell_type": "code",
   "execution_count": 7,
   "metadata": {},
   "outputs": [
    {
     "name": "stdout",
     "output_type": "stream",
     "text": [
      "Loading  D:/YuLab/Work/GPS/Video/Naveed/GPS_09_KornblumHold1500SRTSelf/20231213/Top/Clips/Naveed_20231213_HoldTrial012_TopView.avi and data.\n",
      "Loading  D:/YuLab/Work/GPS/Video/Naveed/GPS_09_KornblumHold1500SRTSelf/20231213/Top/Clips/Naveed_20231213_HoldTrial013_TopView.avi and data.\n",
      "Loading  D:/YuLab/Work/GPS/Video/Naveed/GPS_09_KornblumHold1500SRTSelf/20231213/Top/Clips/Naveed_20231213_HoldTrial014_TopView.avi and data.\n",
      "Loading  D:/YuLab/Work/GPS/Video/Naveed/GPS_09_KornblumHold1500SRTSelf/20231213/Top/Clips/Naveed_20231213_HoldTrial015_TopView.avi and data.\n",
      "Loading  D:/YuLab/Work/GPS/Video/Naveed/GPS_09_KornblumHold1500SRTSelf/20231213/Top/Clips/Naveed_20231213_HoldTrial016_TopView.avi and data.\n",
      "Loading  D:/YuLab/Work/GPS/Video/Naveed/GPS_09_KornblumHold1500SRTSelf/20231213/Top/Clips/Naveed_20231213_HoldTrial017_TopView.avi and data.\n",
      "Loading  D:/YuLab/Work/GPS/Video/Naveed/GPS_09_KornblumHold1500SRTSelf/20231213/Top/Clips/Naveed_20231213_HoldTrial018_TopView.avi and data.\n",
      "Loading  D:/YuLab/Work/GPS/Video/Naveed/GPS_09_KornblumHold1500SRTSelf/20231213/Top/Clips/Naveed_20231213_HoldTrial019_TopView.avi and data.\n",
      "Loading  D:/YuLab/Work/GPS/Video/Naveed/GPS_09_KornblumHold1500SRTSelf/20231213/Top/Clips/Naveed_20231213_HoldTrial020_TopView.avi and data.\n",
      "Loading  D:/YuLab/Work/GPS/Video/Naveed/GPS_09_KornblumHold1500SRTSelf/20231213/Top/Clips/Naveed_20231213_HoldTrial021_TopView.avi and data.\n",
      "Loading  D:/YuLab/Work/GPS/Video/Naveed/GPS_09_KornblumHold1500SRTSelf/20231213/Top/Clips/Naveed_20231213_HoldTrial022_TopView.avi and data.\n",
      "Loading  D:/YuLab/Work/GPS/Video/Naveed/GPS_09_KornblumHold1500SRTSelf/20231213/Top/Clips/Naveed_20231213_HoldTrial023_TopView.avi and data.\n",
      "Loading  D:/YuLab/Work/GPS/Video/Naveed/GPS_09_KornblumHold1500SRTSelf/20231213/Top/Clips/Naveed_20231213_HoldTrial024_TopView.avi and data.\n",
      "Loading  D:/YuLab/Work/GPS/Video/Naveed/GPS_09_KornblumHold1500SRTSelf/20231213/Top/Clips/Naveed_20231213_HoldTrial025_TopView.avi and data.\n",
      "Loading  D:/YuLab/Work/GPS/Video/Naveed/GPS_09_KornblumHold1500SRTSelf/20231213/Top/Clips/Naveed_20231213_HoldTrial026_TopView.avi and data.\n",
      "Loading  D:/YuLab/Work/GPS/Video/Naveed/GPS_09_KornblumHold1500SRTSelf/20231213/Top/Clips/Naveed_20231213_HoldTrial027_TopView.avi and data.\n",
      "Loading  D:/YuLab/Work/GPS/Video/Naveed/GPS_09_KornblumHold1500SRTSelf/20231213/Top/Clips/Naveed_20231213_HoldTrial028_TopView.avi and data.\n",
      "Loading  D:/YuLab/Work/GPS/Video/Naveed/GPS_09_KornblumHold1500SRTSelf/20231213/Top/Clips/Naveed_20231213_HoldTrial029_TopView.avi and data.\n",
      "Loading  D:/YuLab/Work/GPS/Video/Naveed/GPS_09_KornblumHold1500SRTSelf/20231213/Top/Clips/Naveed_20231213_HoldTrial030_TopView.avi and data.\n",
      "Loading  D:/YuLab/Work/GPS/Video/Naveed/GPS_09_KornblumHold1500SRTSelf/20231213/Top/Clips/Naveed_20231213_HoldTrial031_TopView.avi and data.\n",
      "Loading  D:/YuLab/Work/GPS/Video/Naveed/GPS_09_KornblumHold1500SRTSelf/20231213/Top/Clips/Naveed_20231213_HoldTrial032_TopView.avi and data.\n",
      "Loading  D:/YuLab/Work/GPS/Video/Naveed/GPS_09_KornblumHold1500SRTSelf/20231213/Top/Clips/Naveed_20231213_HoldTrial033_TopView.avi and data.\n",
      "Loading  D:/YuLab/Work/GPS/Video/Naveed/GPS_09_KornblumHold1500SRTSelf/20231213/Top/Clips/Naveed_20231213_HoldTrial034_TopView.avi and data.\n",
      "Loading  D:/YuLab/Work/GPS/Video/Naveed/GPS_09_KornblumHold1500SRTSelf/20231213/Top/Clips/Naveed_20231213_HoldTrial035_TopView.avi and data.\n",
      "Loading  D:/YuLab/Work/GPS/Video/Naveed/GPS_09_KornblumHold1500SRTSelf/20231213/Top/Clips/Naveed_20231213_HoldTrial036_TopView.avi and data.\n",
      "Loading  D:/YuLab/Work/GPS/Video/Naveed/GPS_09_KornblumHold1500SRTSelf/20231213/Top/Clips/Naveed_20231213_HoldTrial037_TopView.avi and data.\n",
      "Loading  D:/YuLab/Work/GPS/Video/Naveed/GPS_09_KornblumHold1500SRTSelf/20231213/Top/Clips/Naveed_20231213_HoldTrial038_TopView.avi and data.\n",
      "Loading  D:/YuLab/Work/GPS/Video/Naveed/GPS_09_KornblumHold1500SRTSelf/20231213/Top/Clips/Naveed_20231213_HoldTrial039_TopView.avi and data.\n",
      "Loading  D:/YuLab/Work/GPS/Video/Naveed/GPS_09_KornblumHold1500SRTSelf/20231213/Top/Clips/Naveed_20231213_HoldTrial040_TopView.avi and data.\n",
      "Loading  D:/YuLab/Work/GPS/Video/Naveed/GPS_09_KornblumHold1500SRTSelf/20231213/Top/Clips/Naveed_20231213_HoldTrial041_TopView.avi and data.\n",
      "Loading  D:/YuLab/Work/GPS/Video/Naveed/GPS_09_KornblumHold1500SRTSelf/20231213/Top/Clips/Naveed_20231213_HoldTrial042_TopView.avi and data.\n",
      "Loading  D:/YuLab/Work/GPS/Video/Naveed/GPS_09_KornblumHold1500SRTSelf/20231213/Top/Clips/Naveed_20231213_HoldTrial043_TopView.avi and data.\n",
      "Loading  D:/YuLab/Work/GPS/Video/Naveed/GPS_09_KornblumHold1500SRTSelf/20231213/Top/Clips/Naveed_20231213_HoldTrial044_TopView.avi and data.\n",
      "Loading  D:/YuLab/Work/GPS/Video/Naveed/GPS_09_KornblumHold1500SRTSelf/20231213/Top/Clips/Naveed_20231213_HoldTrial045_TopView.avi and data.\n",
      "Loading  D:/YuLab/Work/GPS/Video/Naveed/GPS_09_KornblumHold1500SRTSelf/20231213/Top/Clips/Naveed_20231213_HoldTrial046_TopView.avi and data.\n",
      "Loading  D:/YuLab/Work/GPS/Video/Naveed/GPS_09_KornblumHold1500SRTSelf/20231213/Top/Clips/Naveed_20231213_HoldTrial047_TopView.avi and data.\n",
      "Loading  D:/YuLab/Work/GPS/Video/Naveed/GPS_09_KornblumHold1500SRTSelf/20231213/Top/Clips/Naveed_20231213_HoldTrial048_TopView.avi and data.\n",
      "Loading  D:/YuLab/Work/GPS/Video/Naveed/GPS_09_KornblumHold1500SRTSelf/20231213/Top/Clips/Naveed_20231213_HoldTrial049_TopView.avi and data.\n",
      "Loading  D:/YuLab/Work/GPS/Video/Naveed/GPS_09_KornblumHold1500SRTSelf/20231213/Top/Clips/Naveed_20231213_HoldTrial050_TopView.avi and data.\n",
      "Loading  D:/YuLab/Work/GPS/Video/Naveed/GPS_09_KornblumHold1500SRTSelf/20231213/Top/Clips/Naveed_20231213_HoldTrial051_TopView.avi and data.\n",
      "Loading  D:/YuLab/Work/GPS/Video/Naveed/GPS_09_KornblumHold1500SRTSelf/20231213/Top/Clips/Naveed_20231213_HoldTrial052_TopView.avi and data.\n",
      "Loading  D:/YuLab/Work/GPS/Video/Naveed/GPS_09_KornblumHold1500SRTSelf/20231213/Top/Clips/Naveed_20231213_HoldTrial053_TopView.avi and data.\n",
      "Loading  D:/YuLab/Work/GPS/Video/Naveed/GPS_09_KornblumHold1500SRTSelf/20231213/Top/Clips/Naveed_20231213_HoldTrial055_TopView.avi and data.\n",
      "Loading  D:/YuLab/Work/GPS/Video/Naveed/GPS_09_KornblumHold1500SRTSelf/20231213/Top/Clips/Naveed_20231213_HoldTrial056_TopView.avi and data.\n",
      "Loading  D:/YuLab/Work/GPS/Video/Naveed/GPS_09_KornblumHold1500SRTSelf/20231213/Top/Clips/Naveed_20231213_HoldTrial057_TopView.avi and data.\n",
      "Loading  D:/YuLab/Work/GPS/Video/Naveed/GPS_09_KornblumHold1500SRTSelf/20231213/Top/Clips/Naveed_20231213_HoldTrial058_TopView.avi and data.\n",
      "Loading  D:/YuLab/Work/GPS/Video/Naveed/GPS_09_KornblumHold1500SRTSelf/20231213/Top/Clips/Naveed_20231213_HoldTrial059_TopView.avi and data.\n",
      "Loading  D:/YuLab/Work/GPS/Video/Naveed/GPS_09_KornblumHold1500SRTSelf/20231213/Top/Clips/Naveed_20231213_HoldTrial060_TopView.avi and data.\n",
      "Loading  D:/YuLab/Work/GPS/Video/Naveed/GPS_09_KornblumHold1500SRTSelf/20231213/Top/Clips/Naveed_20231213_HoldTrial061_TopView.avi and data.\n",
      "Loading  D:/YuLab/Work/GPS/Video/Naveed/GPS_09_KornblumHold1500SRTSelf/20231213/Top/Clips/Naveed_20231213_HoldTrial062_TopView.avi and data.\n",
      "Loading  D:/YuLab/Work/GPS/Video/Naveed/GPS_09_KornblumHold1500SRTSelf/20231213/Top/Clips/Naveed_20231213_HoldTrial063_TopView.avi and data.\n",
      "Loading  D:/YuLab/Work/GPS/Video/Naveed/GPS_09_KornblumHold1500SRTSelf/20231213/Top/Clips/Naveed_20231213_HoldTrial064_TopView.avi and data.\n",
      "Loading  D:/YuLab/Work/GPS/Video/Naveed/GPS_09_KornblumHold1500SRTSelf/20231213/Top/Clips/Naveed_20231213_HoldTrial065_TopView.avi and data.\n",
      "Loading  D:/YuLab/Work/GPS/Video/Naveed/GPS_09_KornblumHold1500SRTSelf/20231213/Top/Clips/Naveed_20231213_HoldTrial066_TopView.avi and data.\n",
      "Loading  D:/YuLab/Work/GPS/Video/Naveed/GPS_09_KornblumHold1500SRTSelf/20231213/Top/Clips/Naveed_20231213_HoldTrial067_TopView.avi and data.\n",
      "Loading  D:/YuLab/Work/GPS/Video/Naveed/GPS_09_KornblumHold1500SRTSelf/20231213/Top/Clips/Naveed_20231213_HoldTrial068_TopView.avi and data.\n",
      "Loading  D:/YuLab/Work/GPS/Video/Naveed/GPS_09_KornblumHold1500SRTSelf/20231213/Top/Clips/Naveed_20231213_HoldTrial069_TopView.avi and data.\n",
      "Loading  D:/YuLab/Work/GPS/Video/Naveed/GPS_09_KornblumHold1500SRTSelf/20231213/Top/Clips/Naveed_20231213_HoldTrial070_TopView.avi and data.\n",
      "Loading  D:/YuLab/Work/GPS/Video/Naveed/GPS_09_KornblumHold1500SRTSelf/20231213/Top/Clips/Naveed_20231213_HoldTrial071_TopView.avi and data.\n",
      "Loading  D:/YuLab/Work/GPS/Video/Naveed/GPS_09_KornblumHold1500SRTSelf/20231213/Top/Clips/Naveed_20231213_HoldTrial072_TopView.avi and data.\n",
      "Loading  D:/YuLab/Work/GPS/Video/Naveed/GPS_09_KornblumHold1500SRTSelf/20231213/Top/Clips/Naveed_20231213_HoldTrial073_TopView.avi and data.\n",
      "Loading  D:/YuLab/Work/GPS/Video/Naveed/GPS_09_KornblumHold1500SRTSelf/20231213/Top/Clips/Naveed_20231213_HoldTrial074_TopView.avi and data.\n",
      "Loading  D:/YuLab/Work/GPS/Video/Naveed/GPS_09_KornblumHold1500SRTSelf/20231213/Top/Clips/Naveed_20231213_HoldTrial075_TopView.avi and data.\n",
      "Loading  D:/YuLab/Work/GPS/Video/Naveed/GPS_09_KornblumHold1500SRTSelf/20231213/Top/Clips/Naveed_20231213_HoldTrial076_TopView.avi and data.\n",
      "Loading  D:/YuLab/Work/GPS/Video/Naveed/GPS_09_KornblumHold1500SRTSelf/20231213/Top/Clips/Naveed_20231213_HoldTrial077_TopView.avi and data.\n",
      "Loading  D:/YuLab/Work/GPS/Video/Naveed/GPS_09_KornblumHold1500SRTSelf/20231213/Top/Clips/Naveed_20231213_HoldTrial078_TopView.avi and data.\n",
      "Loading  D:/YuLab/Work/GPS/Video/Naveed/GPS_09_KornblumHold1500SRTSelf/20231213/Top/Clips/Naveed_20231213_HoldTrial079_TopView.avi and data.\n",
      "Loading  D:/YuLab/Work/GPS/Video/Naveed/GPS_09_KornblumHold1500SRTSelf/20231213/Top/Clips/Naveed_20231213_HoldTrial080_TopView.avi and data.\n",
      "Loading  D:/YuLab/Work/GPS/Video/Naveed/GPS_09_KornblumHold1500SRTSelf/20231213/Top/Clips/Naveed_20231213_HoldTrial081_TopView.avi and data.\n",
      "Loading  D:/YuLab/Work/GPS/Video/Naveed/GPS_09_KornblumHold1500SRTSelf/20231213/Top/Clips/Naveed_20231213_HoldTrial082_TopView.avi and data.\n",
      "Loading  D:/YuLab/Work/GPS/Video/Naveed/GPS_09_KornblumHold1500SRTSelf/20231213/Top/Clips/Naveed_20231213_HoldTrial083_TopView.avi and data.\n",
      "Loading  D:/YuLab/Work/GPS/Video/Naveed/GPS_09_KornblumHold1500SRTSelf/20231213/Top/Clips/Naveed_20231213_HoldTrial084_TopView.avi and data.\n",
      "Loading  D:/YuLab/Work/GPS/Video/Naveed/GPS_09_KornblumHold1500SRTSelf/20231213/Top/Clips/Naveed_20231213_HoldTrial085_TopView.avi and data.\n",
      "Loading  D:/YuLab/Work/GPS/Video/Naveed/GPS_09_KornblumHold1500SRTSelf/20231213/Top/Clips/Naveed_20231213_HoldTrial086_TopView.avi and data.\n",
      "Loading  D:/YuLab/Work/GPS/Video/Naveed/GPS_09_KornblumHold1500SRTSelf/20231213/Top/Clips/Naveed_20231213_HoldTrial087_TopView.avi and data.\n",
      "Loading  D:/YuLab/Work/GPS/Video/Naveed/GPS_09_KornblumHold1500SRTSelf/20231213/Top/Clips/Naveed_20231213_HoldTrial088_TopView.avi and data.\n",
      "Loading  D:/YuLab/Work/GPS/Video/Naveed/GPS_09_KornblumHold1500SRTSelf/20231213/Top/Clips/Naveed_20231213_HoldTrial089_TopView.avi and data.\n",
      "Loading  D:/YuLab/Work/GPS/Video/Naveed/GPS_09_KornblumHold1500SRTSelf/20231213/Top/Clips/Naveed_20231213_HoldTrial090_TopView.avi and data.\n",
      "Loading  D:/YuLab/Work/GPS/Video/Naveed/GPS_09_KornblumHold1500SRTSelf/20231213/Top/Clips/Naveed_20231213_HoldTrial091_TopView.avi and data.\n",
      "Loading  D:/YuLab/Work/GPS/Video/Naveed/GPS_09_KornblumHold1500SRTSelf/20231213/Top/Clips/Naveed_20231213_HoldTrial092_TopView.avi and data.\n",
      "Loading  D:/YuLab/Work/GPS/Video/Naveed/GPS_09_KornblumHold1500SRTSelf/20231213/Top/Clips/Naveed_20231213_HoldTrial093_TopView.avi and data.\n",
      "Loading  D:/YuLab/Work/GPS/Video/Naveed/GPS_09_KornblumHold1500SRTSelf/20231213/Top/Clips/Naveed_20231213_HoldTrial094_TopView.avi and data.\n",
      "Loading  D:/YuLab/Work/GPS/Video/Naveed/GPS_09_KornblumHold1500SRTSelf/20231213/Top/Clips/Naveed_20231213_HoldTrial095_TopView.avi and data.\n",
      "Loading  D:/YuLab/Work/GPS/Video/Naveed/GPS_09_KornblumHold1500SRTSelf/20231213/Top/Clips/Naveed_20231213_HoldTrial096_TopView.avi and data.\n",
      "Loading  D:/YuLab/Work/GPS/Video/Naveed/GPS_09_KornblumHold1500SRTSelf/20231213/Top/Clips/Naveed_20231213_HoldTrial097_TopView.avi and data.\n",
      "Loading  D:/YuLab/Work/GPS/Video/Naveed/GPS_09_KornblumHold1500SRTSelf/20231213/Top/Clips/Naveed_20231213_HoldTrial098_TopView.avi and data.\n",
      "Loading  D:/YuLab/Work/GPS/Video/Naveed/GPS_09_KornblumHold1500SRTSelf/20231213/Top/Clips/Naveed_20231213_HoldTrial099_TopView.avi and data.\n",
      "Loading  D:/YuLab/Work/GPS/Video/Naveed/GPS_09_KornblumHold1500SRTSelf/20231213/Top/Clips/Naveed_20231213_HoldTrial100_TopView.avi and data.\n",
      "Loading  D:/YuLab/Work/GPS/Video/Naveed/GPS_09_KornblumHold1500SRTSelf/20231213/Top/Clips/Naveed_20231213_HoldTrial101_TopView.avi and data.\n",
      "Loading  D:/YuLab/Work/GPS/Video/Naveed/GPS_09_KornblumHold1500SRTSelf/20231213/Top/Clips/Naveed_20231213_HoldTrial102_TopView.avi and data.\n",
      "Loading  D:/YuLab/Work/GPS/Video/Naveed/GPS_09_KornblumHold1500SRTSelf/20231213/Top/Clips/Naveed_20231213_HoldTrial103_TopView.avi and data.\n",
      "Loading  D:/YuLab/Work/GPS/Video/Naveed/GPS_09_KornblumHold1500SRTSelf/20231213/Top/Clips/Naveed_20231213_HoldTrial104_TopView.avi and data.\n",
      "Loading  D:/YuLab/Work/GPS/Video/Naveed/GPS_09_KornblumHold1500SRTSelf/20231214/Top/Clips/Naveed_20231214_HoldTrial011_TopView.avi and data.\n",
      "Loading  D:/YuLab/Work/GPS/Video/Naveed/GPS_09_KornblumHold1500SRTSelf/20231214/Top/Clips/Naveed_20231214_HoldTrial012_TopView.avi and data.\n",
      "Loading  D:/YuLab/Work/GPS/Video/Naveed/GPS_09_KornblumHold1500SRTSelf/20231214/Top/Clips/Naveed_20231214_HoldTrial013_TopView.avi and data.\n",
      "Loading  D:/YuLab/Work/GPS/Video/Naveed/GPS_09_KornblumHold1500SRTSelf/20231214/Top/Clips/Naveed_20231214_HoldTrial014_TopView.avi and data.\n",
      "Loading  D:/YuLab/Work/GPS/Video/Naveed/GPS_09_KornblumHold1500SRTSelf/20231214/Top/Clips/Naveed_20231214_HoldTrial015_TopView.avi and data.\n",
      "Loading  D:/YuLab/Work/GPS/Video/Naveed/GPS_09_KornblumHold1500SRTSelf/20231214/Top/Clips/Naveed_20231214_HoldTrial016_TopView.avi and data.\n",
      "Loading  D:/YuLab/Work/GPS/Video/Naveed/GPS_09_KornblumHold1500SRTSelf/20231214/Top/Clips/Naveed_20231214_HoldTrial017_TopView.avi and data.\n",
      "Loading  D:/YuLab/Work/GPS/Video/Naveed/GPS_09_KornblumHold1500SRTSelf/20231214/Top/Clips/Naveed_20231214_HoldTrial018_TopView.avi and data.\n",
      "Loading  D:/YuLab/Work/GPS/Video/Naveed/GPS_09_KornblumHold1500SRTSelf/20231214/Top/Clips/Naveed_20231214_HoldTrial019_TopView.avi and data.\n",
      "Loading  D:/YuLab/Work/GPS/Video/Naveed/GPS_09_KornblumHold1500SRTSelf/20231214/Top/Clips/Naveed_20231214_HoldTrial020_TopView.avi and data.\n",
      "Loading  D:/YuLab/Work/GPS/Video/Naveed/GPS_09_KornblumHold1500SRTSelf/20231214/Top/Clips/Naveed_20231214_HoldTrial021_TopView.avi and data.\n",
      "Loading  D:/YuLab/Work/GPS/Video/Naveed/GPS_09_KornblumHold1500SRTSelf/20231214/Top/Clips/Naveed_20231214_HoldTrial022_TopView.avi and data.\n",
      "Loading  D:/YuLab/Work/GPS/Video/Naveed/GPS_09_KornblumHold1500SRTSelf/20231214/Top/Clips/Naveed_20231214_HoldTrial023_TopView.avi and data.\n",
      "Loading  D:/YuLab/Work/GPS/Video/Naveed/GPS_09_KornblumHold1500SRTSelf/20231214/Top/Clips/Naveed_20231214_HoldTrial024_TopView.avi and data.\n",
      "Loading  D:/YuLab/Work/GPS/Video/Naveed/GPS_09_KornblumHold1500SRTSelf/20231214/Top/Clips/Naveed_20231214_HoldTrial025_TopView.avi and data.\n",
      "Loading  D:/YuLab/Work/GPS/Video/Naveed/GPS_09_KornblumHold1500SRTSelf/20231214/Top/Clips/Naveed_20231214_HoldTrial026_TopView.avi and data.\n",
      "Loading  D:/YuLab/Work/GPS/Video/Naveed/GPS_09_KornblumHold1500SRTSelf/20231214/Top/Clips/Naveed_20231214_HoldTrial027_TopView.avi and data.\n",
      "Loading  D:/YuLab/Work/GPS/Video/Naveed/GPS_09_KornblumHold1500SRTSelf/20231214/Top/Clips/Naveed_20231214_HoldTrial028_TopView.avi and data.\n",
      "Loading  D:/YuLab/Work/GPS/Video/Naveed/GPS_09_KornblumHold1500SRTSelf/20231214/Top/Clips/Naveed_20231214_HoldTrial029_TopView.avi and data.\n",
      "Loading  D:/YuLab/Work/GPS/Video/Naveed/GPS_09_KornblumHold1500SRTSelf/20231214/Top/Clips/Naveed_20231214_HoldTrial030_TopView.avi and data.\n",
      "Loading  D:/YuLab/Work/GPS/Video/Naveed/GPS_09_KornblumHold1500SRTSelf/20231214/Top/Clips/Naveed_20231214_HoldTrial031_TopView.avi and data.\n",
      "Loading  D:/YuLab/Work/GPS/Video/Naveed/GPS_09_KornblumHold1500SRTSelf/20231214/Top/Clips/Naveed_20231214_HoldTrial032_TopView.avi and data.\n",
      "Loading  D:/YuLab/Work/GPS/Video/Naveed/GPS_09_KornblumHold1500SRTSelf/20231214/Top/Clips/Naveed_20231214_HoldTrial033_TopView.avi and data.\n",
      "Loading  D:/YuLab/Work/GPS/Video/Naveed/GPS_09_KornblumHold1500SRTSelf/20231214/Top/Clips/Naveed_20231214_HoldTrial034_TopView.avi and data.\n",
      "Loading  D:/YuLab/Work/GPS/Video/Naveed/GPS_09_KornblumHold1500SRTSelf/20231214/Top/Clips/Naveed_20231214_HoldTrial035_TopView.avi and data.\n",
      "Loading  D:/YuLab/Work/GPS/Video/Naveed/GPS_09_KornblumHold1500SRTSelf/20231214/Top/Clips/Naveed_20231214_HoldTrial036_TopView.avi and data.\n",
      "Loading  D:/YuLab/Work/GPS/Video/Naveed/GPS_09_KornblumHold1500SRTSelf/20231214/Top/Clips/Naveed_20231214_HoldTrial037_TopView.avi and data.\n",
      "Loading  D:/YuLab/Work/GPS/Video/Naveed/GPS_09_KornblumHold1500SRTSelf/20231214/Top/Clips/Naveed_20231214_HoldTrial038_TopView.avi and data.\n",
      "Loading  D:/YuLab/Work/GPS/Video/Naveed/GPS_09_KornblumHold1500SRTSelf/20231214/Top/Clips/Naveed_20231214_HoldTrial039_TopView.avi and data.\n",
      "Loading  D:/YuLab/Work/GPS/Video/Naveed/GPS_09_KornblumHold1500SRTSelf/20231214/Top/Clips/Naveed_20231214_HoldTrial040_TopView.avi and data.\n",
      "Loading  D:/YuLab/Work/GPS/Video/Naveed/GPS_09_KornblumHold1500SRTSelf/20231214/Top/Clips/Naveed_20231214_HoldTrial041_TopView.avi and data.\n",
      "Loading  D:/YuLab/Work/GPS/Video/Naveed/GPS_09_KornblumHold1500SRTSelf/20231214/Top/Clips/Naveed_20231214_HoldTrial042_TopView.avi and data.\n",
      "Loading  D:/YuLab/Work/GPS/Video/Naveed/GPS_09_KornblumHold1500SRTSelf/20231214/Top/Clips/Naveed_20231214_HoldTrial043_TopView.avi and data.\n",
      "Loading  D:/YuLab/Work/GPS/Video/Naveed/GPS_09_KornblumHold1500SRTSelf/20231214/Top/Clips/Naveed_20231214_HoldTrial044_TopView.avi and data.\n",
      "Loading  D:/YuLab/Work/GPS/Video/Naveed/GPS_09_KornblumHold1500SRTSelf/20231214/Top/Clips/Naveed_20231214_HoldTrial045_TopView.avi and data.\n",
      "Loading  D:/YuLab/Work/GPS/Video/Naveed/GPS_09_KornblumHold1500SRTSelf/20231214/Top/Clips/Naveed_20231214_HoldTrial046_TopView.avi and data.\n",
      "Loading  D:/YuLab/Work/GPS/Video/Naveed/GPS_09_KornblumHold1500SRTSelf/20231214/Top/Clips/Naveed_20231214_HoldTrial047_TopView.avi and data.\n",
      "Loading  D:/YuLab/Work/GPS/Video/Naveed/GPS_09_KornblumHold1500SRTSelf/20231214/Top/Clips/Naveed_20231214_HoldTrial048_TopView.avi and data.\n",
      "Loading  D:/YuLab/Work/GPS/Video/Naveed/GPS_09_KornblumHold1500SRTSelf/20231214/Top/Clips/Naveed_20231214_HoldTrial049_TopView.avi and data.\n",
      "Loading  D:/YuLab/Work/GPS/Video/Naveed/GPS_09_KornblumHold1500SRTSelf/20231214/Top/Clips/Naveed_20231214_HoldTrial050_TopView.avi and data.\n",
      "Loading  D:/YuLab/Work/GPS/Video/Naveed/GPS_09_KornblumHold1500SRTSelf/20231214/Top/Clips/Naveed_20231214_HoldTrial051_TopView.avi and data.\n",
      "Loading  D:/YuLab/Work/GPS/Video/Naveed/GPS_09_KornblumHold1500SRTSelf/20231214/Top/Clips/Naveed_20231214_HoldTrial052_TopView.avi and data.\n",
      "Loading  D:/YuLab/Work/GPS/Video/Naveed/GPS_09_KornblumHold1500SRTSelf/20231214/Top/Clips/Naveed_20231214_HoldTrial053_TopView.avi and data.\n",
      "Loading  D:/YuLab/Work/GPS/Video/Naveed/GPS_09_KornblumHold1500SRTSelf/20231214/Top/Clips/Naveed_20231214_HoldTrial054_TopView.avi and data.\n",
      "Loading  D:/YuLab/Work/GPS/Video/Naveed/GPS_09_KornblumHold1500SRTSelf/20231214/Top/Clips/Naveed_20231214_HoldTrial055_TopView.avi and data.\n",
      "Loading  D:/YuLab/Work/GPS/Video/Naveed/GPS_09_KornblumHold1500SRTSelf/20231214/Top/Clips/Naveed_20231214_HoldTrial056_TopView.avi and data.\n",
      "Loading  D:/YuLab/Work/GPS/Video/Naveed/GPS_09_KornblumHold1500SRTSelf/20231214/Top/Clips/Naveed_20231214_HoldTrial057_TopView.avi and data.\n",
      "Loading  D:/YuLab/Work/GPS/Video/Naveed/GPS_09_KornblumHold1500SRTSelf/20231214/Top/Clips/Naveed_20231214_HoldTrial058_TopView.avi and data.\n",
      "Loading  D:/YuLab/Work/GPS/Video/Naveed/GPS_09_KornblumHold1500SRTSelf/20231214/Top/Clips/Naveed_20231214_HoldTrial059_TopView.avi and data.\n",
      "Loading  D:/YuLab/Work/GPS/Video/Naveed/GPS_09_KornblumHold1500SRTSelf/20231214/Top/Clips/Naveed_20231214_HoldTrial060_TopView.avi and data.\n",
      "Loading  D:/YuLab/Work/GPS/Video/Naveed/GPS_09_KornblumHold1500SRTSelf/20231214/Top/Clips/Naveed_20231214_HoldTrial061_TopView.avi and data.\n",
      "Loading  D:/YuLab/Work/GPS/Video/Naveed/GPS_09_KornblumHold1500SRTSelf/20231214/Top/Clips/Naveed_20231214_HoldTrial062_TopView.avi and data.\n",
      "Loading  D:/YuLab/Work/GPS/Video/Naveed/GPS_09_KornblumHold1500SRTSelf/20231214/Top/Clips/Naveed_20231214_HoldTrial063_TopView.avi and data.\n",
      "Loading  D:/YuLab/Work/GPS/Video/Naveed/GPS_09_KornblumHold1500SRTSelf/20231214/Top/Clips/Naveed_20231214_HoldTrial064_TopView.avi and data.\n",
      "Loading  D:/YuLab/Work/GPS/Video/Naveed/GPS_09_KornblumHold1500SRTSelf/20231214/Top/Clips/Naveed_20231214_HoldTrial065_TopView.avi and data.\n",
      "Loading  D:/YuLab/Work/GPS/Video/Naveed/GPS_09_KornblumHold1500SRTSelf/20231214/Top/Clips/Naveed_20231214_HoldTrial066_TopView.avi and data.\n",
      "Loading  D:/YuLab/Work/GPS/Video/Naveed/GPS_09_KornblumHold1500SRTSelf/20231214/Top/Clips/Naveed_20231214_HoldTrial067_TopView.avi and data.\n",
      "Loading  D:/YuLab/Work/GPS/Video/Naveed/GPS_09_KornblumHold1500SRTSelf/20231214/Top/Clips/Naveed_20231214_HoldTrial068_TopView.avi and data.\n",
      "Loading  D:/YuLab/Work/GPS/Video/Naveed/GPS_09_KornblumHold1500SRTSelf/20231214/Top/Clips/Naveed_20231214_HoldTrial069_TopView.avi and data.\n",
      "Loading  D:/YuLab/Work/GPS/Video/Naveed/GPS_09_KornblumHold1500SRTSelf/20231214/Top/Clips/Naveed_20231214_HoldTrial070_TopView.avi and data.\n",
      "Loading  D:/YuLab/Work/GPS/Video/Naveed/GPS_09_KornblumHold1500SRTSelf/20231214/Top/Clips/Naveed_20231214_HoldTrial071_TopView.avi and data.\n",
      "Loading  D:/YuLab/Work/GPS/Video/Naveed/GPS_09_KornblumHold1500SRTSelf/20231214/Top/Clips/Naveed_20231214_HoldTrial072_TopView.avi and data.\n",
      "Loading  D:/YuLab/Work/GPS/Video/Naveed/GPS_09_KornblumHold1500SRTSelf/20231214/Top/Clips/Naveed_20231214_HoldTrial073_TopView.avi and data.\n",
      "Loading  D:/YuLab/Work/GPS/Video/Naveed/GPS_09_KornblumHold1500SRTSelf/20231214/Top/Clips/Naveed_20231214_HoldTrial074_TopView.avi and data.\n",
      "Loading  D:/YuLab/Work/GPS/Video/Naveed/GPS_09_KornblumHold1500SRTSelf/20231214/Top/Clips/Naveed_20231214_HoldTrial075_TopView.avi and data.\n",
      "Loading  D:/YuLab/Work/GPS/Video/Naveed/GPS_09_KornblumHold1500SRTSelf/20231214/Top/Clips/Naveed_20231214_HoldTrial076_TopView.avi and data.\n",
      "Loading  D:/YuLab/Work/GPS/Video/Naveed/GPS_09_KornblumHold1500SRTSelf/20231214/Top/Clips/Naveed_20231214_HoldTrial077_TopView.avi and data.\n",
      "Loading  D:/YuLab/Work/GPS/Video/Naveed/GPS_09_KornblumHold1500SRTSelf/20231214/Top/Clips/Naveed_20231214_HoldTrial078_TopView.avi and data.\n",
      "Loading  D:/YuLab/Work/GPS/Video/Naveed/GPS_09_KornblumHold1500SRTSelf/20231214/Top/Clips/Naveed_20231214_HoldTrial079_TopView.avi and data.\n",
      "Loading  D:/YuLab/Work/GPS/Video/Naveed/GPS_09_KornblumHold1500SRTSelf/20231214/Top/Clips/Naveed_20231214_HoldTrial080_TopView.avi and data.\n",
      "Loading  D:/YuLab/Work/GPS/Video/Naveed/GPS_09_KornblumHold1500SRTSelf/20231214/Top/Clips/Naveed_20231214_HoldTrial081_TopView.avi and data.\n",
      "Loading  D:/YuLab/Work/GPS/Video/Naveed/GPS_09_KornblumHold1500SRTSelf/20231214/Top/Clips/Naveed_20231214_HoldTrial082_TopView.avi and data.\n",
      "Loading  D:/YuLab/Work/GPS/Video/Naveed/GPS_09_KornblumHold1500SRTSelf/20231214/Top/Clips/Naveed_20231214_HoldTrial083_TopView.avi and data.\n",
      "Loading  D:/YuLab/Work/GPS/Video/Naveed/GPS_09_KornblumHold1500SRTSelf/20231214/Top/Clips/Naveed_20231214_HoldTrial084_TopView.avi and data.\n",
      "Loading  D:/YuLab/Work/GPS/Video/Naveed/GPS_09_KornblumHold1500SRTSelf/20231214/Top/Clips/Naveed_20231214_HoldTrial085_TopView.avi and data.\n",
      "Loading  D:/YuLab/Work/GPS/Video/Naveed/GPS_09_KornblumHold1500SRTSelf/20231214/Top/Clips/Naveed_20231214_HoldTrial086_TopView.avi and data.\n",
      "Loading  D:/YuLab/Work/GPS/Video/Naveed/GPS_09_KornblumHold1500SRTSelf/20231214/Top/Clips/Naveed_20231214_HoldTrial087_TopView.avi and data.\n",
      "Loading  D:/YuLab/Work/GPS/Video/Naveed/GPS_09_KornblumHold1500SRTSelf/20231214/Top/Clips/Naveed_20231214_HoldTrial088_TopView.avi and data.\n",
      "Loading  D:/YuLab/Work/GPS/Video/Naveed/GPS_09_KornblumHold1500SRTSelf/20231214/Top/Clips/Naveed_20231214_HoldTrial089_TopView.avi and data.\n",
      "Loading  D:/YuLab/Work/GPS/Video/Naveed/GPS_09_KornblumHold1500SRTSelf/20231214/Top/Clips/Naveed_20231214_HoldTrial090_TopView.avi and data.\n",
      "Loading  D:/YuLab/Work/GPS/Video/Naveed/GPS_09_KornblumHold1500SRTSelf/20231214/Top/Clips/Naveed_20231214_HoldTrial091_TopView.avi and data.\n",
      "Loading  D:/YuLab/Work/GPS/Video/Naveed/GPS_09_KornblumHold1500SRTSelf/20231214/Top/Clips/Naveed_20231214_HoldTrial092_TopView.avi and data.\n",
      "Loading  D:/YuLab/Work/GPS/Video/Naveed/GPS_09_KornblumHold1500SRTSelf/20231214/Top/Clips/Naveed_20231214_HoldTrial093_TopView.avi and data.\n",
      "Loading  D:/YuLab/Work/GPS/Video/Naveed/GPS_09_KornblumHold1500SRTSelf/20231214/Top/Clips/Naveed_20231214_HoldTrial094_TopView.avi and data.\n",
      "Loading  D:/YuLab/Work/GPS/Video/Naveed/GPS_09_KornblumHold1500SRTSelf/20231214/Top/Clips/Naveed_20231214_HoldTrial095_TopView.avi and data.\n",
      "Loading  D:/YuLab/Work/GPS/Video/Naveed/GPS_09_KornblumHold1500SRTSelf/20231214/Top/Clips/Naveed_20231214_HoldTrial096_TopView.avi and data.\n",
      "Loading  D:/YuLab/Work/GPS/Video/Naveed/GPS_09_KornblumHold1500SRTSelf/20231214/Top/Clips/Naveed_20231214_HoldTrial097_TopView.avi and data.\n",
      "Loading  D:/YuLab/Work/GPS/Video/Naveed/GPS_09_KornblumHold1500SRTSelf/20231214/Top/Clips/Naveed_20231214_HoldTrial098_TopView.avi and data.\n",
      "Loading  D:/YuLab/Work/GPS/Video/Naveed/GPS_09_KornblumHold1500SRTSelf/20231214/Top/Clips/Naveed_20231214_HoldTrial099_TopView.avi and data.\n",
      "Loading  D:/YuLab/Work/GPS/Video/Naveed/GPS_09_KornblumHold1500SRTSelf/20231214/Top/Clips/Naveed_20231214_HoldTrial100_TopView.avi and data.\n",
      "Loading  D:/YuLab/Work/GPS/Video/Naveed/GPS_09_KornblumHold1500SRTSelf/20231214/Top/Clips/Naveed_20231214_HoldTrial101_TopView.avi and data.\n",
      "Loading  D:/YuLab/Work/GPS/Video/Naveed/GPS_09_KornblumHold1500SRTSelf/20231214/Top/Clips/Naveed_20231214_HoldTrial102_TopView.avi and data.\n",
      "Loading  D:/YuLab/Work/GPS/Video/Naveed/GPS_09_KornblumHold1500SRTSelf/20231214/Top/Clips/Naveed_20231214_HoldTrial103_TopView.avi and data.\n",
      "Loading  D:/YuLab/Work/GPS/Video/Naveed/GPS_09_KornblumHold1500SRTSelf/20231214/Top/Clips/Naveed_20231214_HoldTrial104_TopView.avi and data.\n",
      "Loading  D:/YuLab/Work/GPS/Video/Naveed/GPS_09_KornblumHold1500SRTSelf/20231214/Top/Clips/Naveed_20231214_HoldTrial105_TopView.avi and data.\n",
      "Loading  D:/YuLab/Work/GPS/Video/Naveed/GPS_09_KornblumHold1500SRTSelf/20231214/Top/Clips/Naveed_20231214_HoldTrial106_TopView.avi and data.\n",
      "Loading  D:/YuLab/Work/GPS/Video/Naveed/GPS_09_KornblumHold1500SRTSelf/20231214/Top/Clips/Naveed_20231214_HoldTrial107_TopView.avi and data.\n",
      "Loading  D:/YuLab/Work/GPS/Video/Naveed/GPS_09_KornblumHold1500SRTSelf/20231214/Top/Clips/Naveed_20231214_HoldTrial108_TopView.avi and data.\n",
      "Loading  D:/YuLab/Work/GPS/Video/Naveed/GPS_09_KornblumHold1500SRTSelf/20231214/Top/Clips/Naveed_20231214_HoldTrial109_TopView.avi and data.\n",
      "Loading  D:/YuLab/Work/GPS/Video/Naveed/GPS_09_KornblumHold1500SRTSelf/20231214/Top/Clips/Naveed_20231214_HoldTrial110_TopView.avi and data.\n",
      "Loading  D:/YuLab/Work/GPS/Video/Naveed/GPS_09_KornblumHold1500SRTSelf/20231214/Top/Clips/Naveed_20231214_HoldTrial111_TopView.avi and data.\n",
      "Loading  D:/YuLab/Work/GPS/Video/Naveed/GPS_09_KornblumHold1500SRTSelf/20231214/Top/Clips/Naveed_20231214_HoldTrial112_TopView.avi and data.\n",
      "Loading  D:/YuLab/Work/GPS/Video/Naveed/GPS_09_KornblumHold1500SRTSelf/20231214/Top/Clips/Naveed_20231214_HoldTrial113_TopView.avi and data.\n",
      "Loading  D:/YuLab/Work/GPS/Video/Naveed/GPS_09_KornblumHold1500SRTSelf/20231214/Top/Clips/Naveed_20231214_HoldTrial114_TopView.avi and data.\n",
      "Loading  D:/YuLab/Work/GPS/Video/Naveed/GPS_09_KornblumHold1500SRTSelf/20231216/Top/Clips/Naveed_20231216_HoldTrial011_TopView.avi and data.\n",
      "Loading  D:/YuLab/Work/GPS/Video/Naveed/GPS_09_KornblumHold1500SRTSelf/20231216/Top/Clips/Naveed_20231216_HoldTrial012_TopView.avi and data.\n",
      "Loading  D:/YuLab/Work/GPS/Video/Naveed/GPS_09_KornblumHold1500SRTSelf/20231216/Top/Clips/Naveed_20231216_HoldTrial013_TopView.avi and data.\n",
      "Loading  D:/YuLab/Work/GPS/Video/Naveed/GPS_09_KornblumHold1500SRTSelf/20231216/Top/Clips/Naveed_20231216_HoldTrial014_TopView.avi and data.\n",
      "Loading  D:/YuLab/Work/GPS/Video/Naveed/GPS_09_KornblumHold1500SRTSelf/20231216/Top/Clips/Naveed_20231216_HoldTrial015_TopView.avi and data.\n",
      "Loading  D:/YuLab/Work/GPS/Video/Naveed/GPS_09_KornblumHold1500SRTSelf/20231216/Top/Clips/Naveed_20231216_HoldTrial016_TopView.avi and data.\n",
      "Loading  D:/YuLab/Work/GPS/Video/Naveed/GPS_09_KornblumHold1500SRTSelf/20231216/Top/Clips/Naveed_20231216_HoldTrial017_TopView.avi and data.\n",
      "Loading  D:/YuLab/Work/GPS/Video/Naveed/GPS_09_KornblumHold1500SRTSelf/20231216/Top/Clips/Naveed_20231216_HoldTrial018_TopView.avi and data.\n",
      "Loading  D:/YuLab/Work/GPS/Video/Naveed/GPS_09_KornblumHold1500SRTSelf/20231216/Top/Clips/Naveed_20231216_HoldTrial019_TopView.avi and data.\n",
      "Loading  D:/YuLab/Work/GPS/Video/Naveed/GPS_09_KornblumHold1500SRTSelf/20231216/Top/Clips/Naveed_20231216_HoldTrial020_TopView.avi and data.\n",
      "Loading  D:/YuLab/Work/GPS/Video/Naveed/GPS_09_KornblumHold1500SRTSelf/20231216/Top/Clips/Naveed_20231216_HoldTrial021_TopView.avi and data.\n",
      "Loading  D:/YuLab/Work/GPS/Video/Naveed/GPS_09_KornblumHold1500SRTSelf/20231216/Top/Clips/Naveed_20231216_HoldTrial022_TopView.avi and data.\n",
      "Loading  D:/YuLab/Work/GPS/Video/Naveed/GPS_09_KornblumHold1500SRTSelf/20231216/Top/Clips/Naveed_20231216_HoldTrial023_TopView.avi and data.\n",
      "Loading  D:/YuLab/Work/GPS/Video/Naveed/GPS_09_KornblumHold1500SRTSelf/20231216/Top/Clips/Naveed_20231216_HoldTrial024_TopView.avi and data.\n",
      "Loading  D:/YuLab/Work/GPS/Video/Naveed/GPS_09_KornblumHold1500SRTSelf/20231216/Top/Clips/Naveed_20231216_HoldTrial025_TopView.avi and data.\n",
      "Loading  D:/YuLab/Work/GPS/Video/Naveed/GPS_09_KornblumHold1500SRTSelf/20231216/Top/Clips/Naveed_20231216_HoldTrial026_TopView.avi and data.\n",
      "Loading  D:/YuLab/Work/GPS/Video/Naveed/GPS_09_KornblumHold1500SRTSelf/20231216/Top/Clips/Naveed_20231216_HoldTrial027_TopView.avi and data.\n",
      "Loading  D:/YuLab/Work/GPS/Video/Naveed/GPS_09_KornblumHold1500SRTSelf/20231216/Top/Clips/Naveed_20231216_HoldTrial028_TopView.avi and data.\n",
      "Loading  D:/YuLab/Work/GPS/Video/Naveed/GPS_09_KornblumHold1500SRTSelf/20231216/Top/Clips/Naveed_20231216_HoldTrial029_TopView.avi and data.\n",
      "Loading  D:/YuLab/Work/GPS/Video/Naveed/GPS_09_KornblumHold1500SRTSelf/20231216/Top/Clips/Naveed_20231216_HoldTrial030_TopView.avi and data.\n",
      "Loading  D:/YuLab/Work/GPS/Video/Naveed/GPS_09_KornblumHold1500SRTSelf/20231216/Top/Clips/Naveed_20231216_HoldTrial031_TopView.avi and data.\n",
      "Loading  D:/YuLab/Work/GPS/Video/Naveed/GPS_09_KornblumHold1500SRTSelf/20231216/Top/Clips/Naveed_20231216_HoldTrial032_TopView.avi and data.\n",
      "Loading  D:/YuLab/Work/GPS/Video/Naveed/GPS_09_KornblumHold1500SRTSelf/20231216/Top/Clips/Naveed_20231216_HoldTrial033_TopView.avi and data.\n",
      "Loading  D:/YuLab/Work/GPS/Video/Naveed/GPS_09_KornblumHold1500SRTSelf/20231216/Top/Clips/Naveed_20231216_HoldTrial034_TopView.avi and data.\n",
      "Loading  D:/YuLab/Work/GPS/Video/Naveed/GPS_09_KornblumHold1500SRTSelf/20231216/Top/Clips/Naveed_20231216_HoldTrial035_TopView.avi and data.\n",
      "Loading  D:/YuLab/Work/GPS/Video/Naveed/GPS_09_KornblumHold1500SRTSelf/20231216/Top/Clips/Naveed_20231216_HoldTrial036_TopView.avi and data.\n",
      "Loading  D:/YuLab/Work/GPS/Video/Naveed/GPS_09_KornblumHold1500SRTSelf/20231216/Top/Clips/Naveed_20231216_HoldTrial037_TopView.avi and data.\n",
      "Loading  D:/YuLab/Work/GPS/Video/Naveed/GPS_09_KornblumHold1500SRTSelf/20231216/Top/Clips/Naveed_20231216_HoldTrial038_TopView.avi and data.\n",
      "Loading  D:/YuLab/Work/GPS/Video/Naveed/GPS_09_KornblumHold1500SRTSelf/20231216/Top/Clips/Naveed_20231216_HoldTrial039_TopView.avi and data.\n",
      "Loading  D:/YuLab/Work/GPS/Video/Naveed/GPS_09_KornblumHold1500SRTSelf/20231216/Top/Clips/Naveed_20231216_HoldTrial040_TopView.avi and data.\n",
      "Loading  D:/YuLab/Work/GPS/Video/Naveed/GPS_09_KornblumHold1500SRTSelf/20231216/Top/Clips/Naveed_20231216_HoldTrial041_TopView.avi and data.\n",
      "Loading  D:/YuLab/Work/GPS/Video/Naveed/GPS_09_KornblumHold1500SRTSelf/20231216/Top/Clips/Naveed_20231216_HoldTrial042_TopView.avi and data.\n",
      "Loading  D:/YuLab/Work/GPS/Video/Naveed/GPS_09_KornblumHold1500SRTSelf/20231216/Top/Clips/Naveed_20231216_HoldTrial043_TopView.avi and data.\n",
      "Loading  D:/YuLab/Work/GPS/Video/Naveed/GPS_09_KornblumHold1500SRTSelf/20231216/Top/Clips/Naveed_20231216_HoldTrial044_TopView.avi and data.\n",
      "Loading  D:/YuLab/Work/GPS/Video/Naveed/GPS_09_KornblumHold1500SRTSelf/20231216/Top/Clips/Naveed_20231216_HoldTrial045_TopView.avi and data.\n",
      "Loading  D:/YuLab/Work/GPS/Video/Naveed/GPS_09_KornblumHold1500SRTSelf/20231216/Top/Clips/Naveed_20231216_HoldTrial046_TopView.avi and data.\n",
      "Loading  D:/YuLab/Work/GPS/Video/Naveed/GPS_09_KornblumHold1500SRTSelf/20231216/Top/Clips/Naveed_20231216_HoldTrial047_TopView.avi and data.\n",
      "Loading  D:/YuLab/Work/GPS/Video/Naveed/GPS_09_KornblumHold1500SRTSelf/20231216/Top/Clips/Naveed_20231216_HoldTrial048_TopView.avi and data.\n",
      "Loading  D:/YuLab/Work/GPS/Video/Naveed/GPS_09_KornblumHold1500SRTSelf/20231216/Top/Clips/Naveed_20231216_HoldTrial049_TopView.avi and data.\n",
      "Loading  D:/YuLab/Work/GPS/Video/Naveed/GPS_09_KornblumHold1500SRTSelf/20231216/Top/Clips/Naveed_20231216_HoldTrial050_TopView.avi and data.\n",
      "Loading  D:/YuLab/Work/GPS/Video/Naveed/GPS_09_KornblumHold1500SRTSelf/20231216/Top/Clips/Naveed_20231216_HoldTrial051_TopView.avi and data.\n",
      "Loading  D:/YuLab/Work/GPS/Video/Naveed/GPS_09_KornblumHold1500SRTSelf/20231216/Top/Clips/Naveed_20231216_HoldTrial052_TopView.avi and data.\n",
      "Loading  D:/YuLab/Work/GPS/Video/Naveed/GPS_09_KornblumHold1500SRTSelf/20231216/Top/Clips/Naveed_20231216_HoldTrial053_TopView.avi and data.\n",
      "Loading  D:/YuLab/Work/GPS/Video/Naveed/GPS_09_KornblumHold1500SRTSelf/20231216/Top/Clips/Naveed_20231216_HoldTrial054_TopView.avi and data.\n",
      "Loading  D:/YuLab/Work/GPS/Video/Naveed/GPS_09_KornblumHold1500SRTSelf/20231216/Top/Clips/Naveed_20231216_HoldTrial055_TopView.avi and data.\n",
      "Loading  D:/YuLab/Work/GPS/Video/Naveed/GPS_09_KornblumHold1500SRTSelf/20231216/Top/Clips/Naveed_20231216_HoldTrial056_TopView.avi and data.\n",
      "Loading  D:/YuLab/Work/GPS/Video/Naveed/GPS_09_KornblumHold1500SRTSelf/20231216/Top/Clips/Naveed_20231216_HoldTrial057_TopView.avi and data.\n",
      "Loading  D:/YuLab/Work/GPS/Video/Naveed/GPS_09_KornblumHold1500SRTSelf/20231216/Top/Clips/Naveed_20231216_HoldTrial059_TopView.avi and data.\n",
      "Loading  D:/YuLab/Work/GPS/Video/Naveed/GPS_09_KornblumHold1500SRTSelf/20231216/Top/Clips/Naveed_20231216_HoldTrial060_TopView.avi and data.\n",
      "Loading  D:/YuLab/Work/GPS/Video/Naveed/GPS_09_KornblumHold1500SRTSelf/20231216/Top/Clips/Naveed_20231216_HoldTrial061_TopView.avi and data.\n",
      "Loading  D:/YuLab/Work/GPS/Video/Naveed/GPS_09_KornblumHold1500SRTSelf/20231216/Top/Clips/Naveed_20231216_HoldTrial062_TopView.avi and data.\n",
      "Loading  D:/YuLab/Work/GPS/Video/Naveed/GPS_09_KornblumHold1500SRTSelf/20231216/Top/Clips/Naveed_20231216_HoldTrial063_TopView.avi and data.\n",
      "Loading  D:/YuLab/Work/GPS/Video/Naveed/GPS_09_KornblumHold1500SRTSelf/20231216/Top/Clips/Naveed_20231216_HoldTrial064_TopView.avi and data.\n",
      "Loading  D:/YuLab/Work/GPS/Video/Naveed/GPS_09_KornblumHold1500SRTSelf/20231216/Top/Clips/Naveed_20231216_HoldTrial065_TopView.avi and data.\n",
      "Loading  D:/YuLab/Work/GPS/Video/Naveed/GPS_09_KornblumHold1500SRTSelf/20231216/Top/Clips/Naveed_20231216_HoldTrial066_TopView.avi and data.\n",
      "Loading  D:/YuLab/Work/GPS/Video/Naveed/GPS_09_KornblumHold1500SRTSelf/20231216/Top/Clips/Naveed_20231216_HoldTrial067_TopView.avi and data.\n",
      "Loading  D:/YuLab/Work/GPS/Video/Naveed/GPS_09_KornblumHold1500SRTSelf/20231216/Top/Clips/Naveed_20231216_HoldTrial068_TopView.avi and data.\n",
      "Loading  D:/YuLab/Work/GPS/Video/Naveed/GPS_09_KornblumHold1500SRTSelf/20231216/Top/Clips/Naveed_20231216_HoldTrial069_TopView.avi and data.\n",
      "Loading  D:/YuLab/Work/GPS/Video/Naveed/GPS_09_KornblumHold1500SRTSelf/20231216/Top/Clips/Naveed_20231216_HoldTrial070_TopView.avi and data.\n",
      "Loading  D:/YuLab/Work/GPS/Video/Naveed/GPS_09_KornblumHold1500SRTSelf/20231216/Top/Clips/Naveed_20231216_HoldTrial071_TopView.avi and data.\n",
      "Loading  D:/YuLab/Work/GPS/Video/Naveed/GPS_09_KornblumHold1500SRTSelf/20231216/Top/Clips/Naveed_20231216_HoldTrial072_TopView.avi and data.\n",
      "Loading  D:/YuLab/Work/GPS/Video/Naveed/GPS_09_KornblumHold1500SRTSelf/20231216/Top/Clips/Naveed_20231216_HoldTrial073_TopView.avi and data.\n",
      "Loading  D:/YuLab/Work/GPS/Video/Naveed/GPS_09_KornblumHold1500SRTSelf/20231216/Top/Clips/Naveed_20231216_HoldTrial074_TopView.avi and data.\n",
      "Loading  D:/YuLab/Work/GPS/Video/Naveed/GPS_09_KornblumHold1500SRTSelf/20231216/Top/Clips/Naveed_20231216_HoldTrial075_TopView.avi and data.\n",
      "Loading  D:/YuLab/Work/GPS/Video/Naveed/GPS_09_KornblumHold1500SRTSelf/20231216/Top/Clips/Naveed_20231216_HoldTrial076_TopView.avi and data.\n",
      "Loading  D:/YuLab/Work/GPS/Video/Naveed/GPS_09_KornblumHold1500SRTSelf/20231216/Top/Clips/Naveed_20231216_HoldTrial077_TopView.avi and data.\n",
      "Loading  D:/YuLab/Work/GPS/Video/Naveed/GPS_09_KornblumHold1500SRTSelf/20231216/Top/Clips/Naveed_20231216_HoldTrial078_TopView.avi and data.\n",
      "Loading  D:/YuLab/Work/GPS/Video/Naveed/GPS_09_KornblumHold1500SRTSelf/20231216/Top/Clips/Naveed_20231216_HoldTrial079_TopView.avi and data.\n",
      "Loading  D:/YuLab/Work/GPS/Video/Naveed/GPS_09_KornblumHold1500SRTSelf/20231216/Top/Clips/Naveed_20231216_HoldTrial080_TopView.avi and data.\n",
      "Loading  D:/YuLab/Work/GPS/Video/Naveed/GPS_09_KornblumHold1500SRTSelf/20231216/Top/Clips/Naveed_20231216_HoldTrial081_TopView.avi and data.\n",
      "Loading  D:/YuLab/Work/GPS/Video/Naveed/GPS_09_KornblumHold1500SRTSelf/20231216/Top/Clips/Naveed_20231216_HoldTrial082_TopView.avi and data.\n",
      "Loading  D:/YuLab/Work/GPS/Video/Naveed/GPS_09_KornblumHold1500SRTSelf/20231216/Top/Clips/Naveed_20231216_HoldTrial083_TopView.avi and data.\n",
      "Loading  D:/YuLab/Work/GPS/Video/Naveed/GPS_09_KornblumHold1500SRTSelf/20231216/Top/Clips/Naveed_20231216_HoldTrial084_TopView.avi and data.\n",
      "Loading  D:/YuLab/Work/GPS/Video/Naveed/GPS_09_KornblumHold1500SRTSelf/20231216/Top/Clips/Naveed_20231216_HoldTrial085_TopView.avi and data.\n",
      "Loading  D:/YuLab/Work/GPS/Video/Naveed/GPS_09_KornblumHold1500SRTSelf/20231216/Top/Clips/Naveed_20231216_HoldTrial086_TopView.avi and data.\n",
      "Loading  D:/YuLab/Work/GPS/Video/Naveed/GPS_09_KornblumHold1500SRTSelf/20231216/Top/Clips/Naveed_20231216_HoldTrial087_TopView.avi and data.\n",
      "Loading  D:/YuLab/Work/GPS/Video/Naveed/GPS_09_KornblumHold1500SRTSelf/20231216/Top/Clips/Naveed_20231216_HoldTrial088_TopView.avi and data.\n",
      "Loading  D:/YuLab/Work/GPS/Video/Naveed/GPS_09_KornblumHold1500SRTSelf/20231216/Top/Clips/Naveed_20231216_HoldTrial089_TopView.avi and data.\n",
      "Loading  D:/YuLab/Work/GPS/Video/Naveed/GPS_09_KornblumHold1500SRTSelf/20231216/Top/Clips/Naveed_20231216_HoldTrial090_TopView.avi and data.\n",
      "Loading  D:/YuLab/Work/GPS/Video/Naveed/GPS_09_KornblumHold1500SRTSelf/20231216/Top/Clips/Naveed_20231216_HoldTrial091_TopView.avi and data.\n",
      "Loading  D:/YuLab/Work/GPS/Video/Naveed/GPS_09_KornblumHold1500SRTSelf/20231216/Top/Clips/Naveed_20231216_HoldTrial092_TopView.avi and data.\n",
      "Loading  D:/YuLab/Work/GPS/Video/Naveed/GPS_09_KornblumHold1500SRTSelf/20231216/Top/Clips/Naveed_20231216_HoldTrial093_TopView.avi and data.\n",
      "Loading  D:/YuLab/Work/GPS/Video/Naveed/GPS_09_KornblumHold1500SRTSelf/20231216/Top/Clips/Naveed_20231216_HoldTrial094_TopView.avi and data.\n",
      "Loading  D:/YuLab/Work/GPS/Video/Naveed/GPS_09_KornblumHold1500SRTSelf/20231216/Top/Clips/Naveed_20231216_HoldTrial095_TopView.avi and data.\n",
      "Loading  D:/YuLab/Work/GPS/Video/Naveed/GPS_09_KornblumHold1500SRTSelf/20231216/Top/Clips/Naveed_20231216_HoldTrial096_TopView.avi and data.\n",
      "Loading  D:/YuLab/Work/GPS/Video/Naveed/GPS_09_KornblumHold1500SRTSelf/20231216/Top/Clips/Naveed_20231216_HoldTrial097_TopView.avi and data.\n",
      "Loading  D:/YuLab/Work/GPS/Video/Naveed/GPS_09_KornblumHold1500SRTSelf/20231216/Top/Clips/Naveed_20231216_HoldTrial098_TopView.avi and data.\n",
      "Loading  D:/YuLab/Work/GPS/Video/Naveed/GPS_09_KornblumHold1500SRTSelf/20231216/Top/Clips/Naveed_20231216_HoldTrial099_TopView.avi and data.\n",
      "Loading  D:/YuLab/Work/GPS/Video/Naveed/GPS_09_KornblumHold1500SRTSelf/20231216/Top/Clips/Naveed_20231216_HoldTrial100_TopView.avi and data.\n",
      "Loading  D:/YuLab/Work/GPS/Video/Naveed/GPS_09_KornblumHold1500SRTSelf/20231216/Top/Clips/Naveed_20231216_HoldTrial101_TopView.avi and data.\n",
      "Loading  D:/YuLab/Work/GPS/Video/Naveed/GPS_09_KornblumHold1500SRTSelf/20231216/Top/Clips/Naveed_20231216_HoldTrial102_TopView.avi and data.\n",
      "Loading  D:/YuLab/Work/GPS/Video/Naveed/GPS_09_KornblumHold1500SRTSelf/20231216/Top/Clips/Naveed_20231216_HoldTrial103_TopView.avi and data.\n",
      "Loading  D:/YuLab/Work/GPS/Video/Naveed/GPS_09_KornblumHold1500SRTSelf/20231216/Top/Clips/Naveed_20231216_HoldTrial104_TopView.avi and data.\n",
      "Loading  D:/YuLab/Work/GPS/Video/Naveed/GPS_09_KornblumHold1500SRTSelf/20231216/Top/Clips/Naveed_20231216_HoldTrial105_TopView.avi and data.\n",
      "Loading  D:/YuLab/Work/GPS/Video/Naveed/GPS_09_KornblumHold1500SRTSelf/20231216/Top/Clips/Naveed_20231216_HoldTrial106_TopView.avi and data.\n",
      "Loading  D:/YuLab/Work/GPS/Video/Naveed/GPS_09_KornblumHold1500SRTSelf/20231216/Top/Clips/Naveed_20231216_HoldTrial107_TopView.avi and data.\n",
      "Loading  D:/YuLab/Work/GPS/Video/Naveed/GPS_09_KornblumHold1500SRTSelf/20231216/Top/Clips/Naveed_20231216_HoldTrial108_TopView.avi and data.\n",
      "Loading  D:/YuLab/Work/GPS/Video/Naveed/GPS_09_KornblumHold1500SRTSelf/20231216/Top/Clips/Naveed_20231216_HoldTrial109_TopView.avi and data.\n",
      "Loading  D:/YuLab/Work/GPS/Video/Naveed/GPS_09_KornblumHold1500SRTSelf/20231216/Top/Clips/Naveed_20231216_HoldTrial110_TopView.avi and data.\n",
      "Loading  D:/YuLab/Work/GPS/Video/Naveed/GPS_09_KornblumHold1500SRTSelf/20231216/Top/Clips/Naveed_20231216_HoldTrial111_TopView.avi and data.\n",
      "Loading  D:/YuLab/Work/GPS/Video/Naveed/GPS_09_KornblumHold1500SRTSelf/20231216/Top/Clips/Naveed_20231216_HoldTrial112_TopView.avi and data.\n",
      "Loading  D:/YuLab/Work/GPS/Video/Naveed/GPS_09_KornblumHold1500SRTSelf/20231216/Top/Clips/Naveed_20231216_HoldTrial113_TopView.avi and data.\n",
      "Loading  D:/YuLab/Work/GPS/Video/Naveed/GPS_09_KornblumHold1500SRTSelf/20231216/Top/Clips/Naveed_20231216_HoldTrial114_TopView.avi and data.\n",
      "Loading  D:/YuLab/Work/GPS/Video/Naveed/GPS_09_KornblumHold1500SRTSelf/20231216/Top/Clips/Naveed_20231216_HoldTrial115_TopView.avi and data.\n",
      "Loading  D:/YuLab/Work/GPS/Video/Naveed/GPS_09_KornblumHold1500SRTSelf/20231216/Top/Clips/Naveed_20231216_HoldTrial116_TopView.avi and data.\n",
      "Loading  D:/YuLab/Work/GPS/Video/Naveed/GPS_09_KornblumHold1500SRTSelf/20231216/Top/Clips/Naveed_20231216_HoldTrial117_TopView.avi and data.\n",
      "Loading  D:/YuLab/Work/GPS/Video/Naveed/GPS_09_KornblumHold1500SRTSelf/20231216/Top/Clips/Naveed_20231216_HoldTrial118_TopView.avi and data.\n",
      "Loading  D:/YuLab/Work/GPS/Video/Naveed/GPS_09_KornblumHold1500SRTSelf/20231217/Top/Clips/Naveed_20231217_HoldTrial011_TopView.avi and data.\n",
      "Loading  D:/YuLab/Work/GPS/Video/Naveed/GPS_09_KornblumHold1500SRTSelf/20231217/Top/Clips/Naveed_20231217_HoldTrial012_TopView.avi and data.\n",
      "Loading  D:/YuLab/Work/GPS/Video/Naveed/GPS_09_KornblumHold1500SRTSelf/20231217/Top/Clips/Naveed_20231217_HoldTrial013_TopView.avi and data.\n",
      "Loading  D:/YuLab/Work/GPS/Video/Naveed/GPS_09_KornblumHold1500SRTSelf/20231217/Top/Clips/Naveed_20231217_HoldTrial014_TopView.avi and data.\n",
      "Loading  D:/YuLab/Work/GPS/Video/Naveed/GPS_09_KornblumHold1500SRTSelf/20231217/Top/Clips/Naveed_20231217_HoldTrial015_TopView.avi and data.\n",
      "Loading  D:/YuLab/Work/GPS/Video/Naveed/GPS_09_KornblumHold1500SRTSelf/20231217/Top/Clips/Naveed_20231217_HoldTrial016_TopView.avi and data.\n",
      "Loading  D:/YuLab/Work/GPS/Video/Naveed/GPS_09_KornblumHold1500SRTSelf/20231217/Top/Clips/Naveed_20231217_HoldTrial017_TopView.avi and data.\n",
      "Loading  D:/YuLab/Work/GPS/Video/Naveed/GPS_09_KornblumHold1500SRTSelf/20231217/Top/Clips/Naveed_20231217_HoldTrial018_TopView.avi and data.\n",
      "Loading  D:/YuLab/Work/GPS/Video/Naveed/GPS_09_KornblumHold1500SRTSelf/20231217/Top/Clips/Naveed_20231217_HoldTrial019_TopView.avi and data.\n",
      "Loading  D:/YuLab/Work/GPS/Video/Naveed/GPS_09_KornblumHold1500SRTSelf/20231217/Top/Clips/Naveed_20231217_HoldTrial020_TopView.avi and data.\n",
      "Loading  D:/YuLab/Work/GPS/Video/Naveed/GPS_09_KornblumHold1500SRTSelf/20231217/Top/Clips/Naveed_20231217_HoldTrial021_TopView.avi and data.\n",
      "Loading  D:/YuLab/Work/GPS/Video/Naveed/GPS_09_KornblumHold1500SRTSelf/20231217/Top/Clips/Naveed_20231217_HoldTrial022_TopView.avi and data.\n",
      "Loading  D:/YuLab/Work/GPS/Video/Naveed/GPS_09_KornblumHold1500SRTSelf/20231217/Top/Clips/Naveed_20231217_HoldTrial023_TopView.avi and data.\n",
      "Loading  D:/YuLab/Work/GPS/Video/Naveed/GPS_09_KornblumHold1500SRTSelf/20231217/Top/Clips/Naveed_20231217_HoldTrial024_TopView.avi and data.\n",
      "Loading  D:/YuLab/Work/GPS/Video/Naveed/GPS_09_KornblumHold1500SRTSelf/20231217/Top/Clips/Naveed_20231217_HoldTrial025_TopView.avi and data.\n",
      "Loading  D:/YuLab/Work/GPS/Video/Naveed/GPS_09_KornblumHold1500SRTSelf/20231217/Top/Clips/Naveed_20231217_HoldTrial026_TopView.avi and data.\n",
      "Loading  D:/YuLab/Work/GPS/Video/Naveed/GPS_09_KornblumHold1500SRTSelf/20231217/Top/Clips/Naveed_20231217_HoldTrial027_TopView.avi and data.\n",
      "Loading  D:/YuLab/Work/GPS/Video/Naveed/GPS_09_KornblumHold1500SRTSelf/20231217/Top/Clips/Naveed_20231217_HoldTrial028_TopView.avi and data.\n",
      "Loading  D:/YuLab/Work/GPS/Video/Naveed/GPS_09_KornblumHold1500SRTSelf/20231217/Top/Clips/Naveed_20231217_HoldTrial029_TopView.avi and data.\n",
      "Loading  D:/YuLab/Work/GPS/Video/Naveed/GPS_09_KornblumHold1500SRTSelf/20231217/Top/Clips/Naveed_20231217_HoldTrial030_TopView.avi and data.\n",
      "Loading  D:/YuLab/Work/GPS/Video/Naveed/GPS_09_KornblumHold1500SRTSelf/20231217/Top/Clips/Naveed_20231217_HoldTrial031_TopView.avi and data.\n",
      "Loading  D:/YuLab/Work/GPS/Video/Naveed/GPS_09_KornblumHold1500SRTSelf/20231217/Top/Clips/Naveed_20231217_HoldTrial032_TopView.avi and data.\n",
      "Loading  D:/YuLab/Work/GPS/Video/Naveed/GPS_09_KornblumHold1500SRTSelf/20231217/Top/Clips/Naveed_20231217_HoldTrial033_TopView.avi and data.\n",
      "Loading  D:/YuLab/Work/GPS/Video/Naveed/GPS_09_KornblumHold1500SRTSelf/20231217/Top/Clips/Naveed_20231217_HoldTrial034_TopView.avi and data.\n",
      "Loading  D:/YuLab/Work/GPS/Video/Naveed/GPS_09_KornblumHold1500SRTSelf/20231217/Top/Clips/Naveed_20231217_HoldTrial035_TopView.avi and data.\n",
      "Loading  D:/YuLab/Work/GPS/Video/Naveed/GPS_09_KornblumHold1500SRTSelf/20231217/Top/Clips/Naveed_20231217_HoldTrial036_TopView.avi and data.\n",
      "Loading  D:/YuLab/Work/GPS/Video/Naveed/GPS_09_KornblumHold1500SRTSelf/20231217/Top/Clips/Naveed_20231217_HoldTrial037_TopView.avi and data.\n",
      "Loading  D:/YuLab/Work/GPS/Video/Naveed/GPS_09_KornblumHold1500SRTSelf/20231217/Top/Clips/Naveed_20231217_HoldTrial038_TopView.avi and data.\n",
      "Loading  D:/YuLab/Work/GPS/Video/Naveed/GPS_09_KornblumHold1500SRTSelf/20231217/Top/Clips/Naveed_20231217_HoldTrial039_TopView.avi and data.\n",
      "Loading  D:/YuLab/Work/GPS/Video/Naveed/GPS_09_KornblumHold1500SRTSelf/20231217/Top/Clips/Naveed_20231217_HoldTrial040_TopView.avi and data.\n",
      "Loading  D:/YuLab/Work/GPS/Video/Naveed/GPS_09_KornblumHold1500SRTSelf/20231217/Top/Clips/Naveed_20231217_HoldTrial041_TopView.avi and data.\n",
      "Loading  D:/YuLab/Work/GPS/Video/Naveed/GPS_09_KornblumHold1500SRTSelf/20231217/Top/Clips/Naveed_20231217_HoldTrial042_TopView.avi and data.\n",
      "Loading  D:/YuLab/Work/GPS/Video/Naveed/GPS_09_KornblumHold1500SRTSelf/20231217/Top/Clips/Naveed_20231217_HoldTrial043_TopView.avi and data.\n",
      "Loading  D:/YuLab/Work/GPS/Video/Naveed/GPS_09_KornblumHold1500SRTSelf/20231217/Top/Clips/Naveed_20231217_HoldTrial044_TopView.avi and data.\n",
      "Loading  D:/YuLab/Work/GPS/Video/Naveed/GPS_09_KornblumHold1500SRTSelf/20231217/Top/Clips/Naveed_20231217_HoldTrial045_TopView.avi and data.\n",
      "Loading  D:/YuLab/Work/GPS/Video/Naveed/GPS_09_KornblumHold1500SRTSelf/20231217/Top/Clips/Naveed_20231217_HoldTrial046_TopView.avi and data.\n",
      "Loading  D:/YuLab/Work/GPS/Video/Naveed/GPS_09_KornblumHold1500SRTSelf/20231217/Top/Clips/Naveed_20231217_HoldTrial047_TopView.avi and data.\n",
      "Loading  D:/YuLab/Work/GPS/Video/Naveed/GPS_09_KornblumHold1500SRTSelf/20231217/Top/Clips/Naveed_20231217_HoldTrial048_TopView.avi and data.\n",
      "Loading  D:/YuLab/Work/GPS/Video/Naveed/GPS_09_KornblumHold1500SRTSelf/20231217/Top/Clips/Naveed_20231217_HoldTrial049_TopView.avi and data.\n",
      "Loading  D:/YuLab/Work/GPS/Video/Naveed/GPS_09_KornblumHold1500SRTSelf/20231217/Top/Clips/Naveed_20231217_HoldTrial050_TopView.avi and data.\n",
      "Loading  D:/YuLab/Work/GPS/Video/Naveed/GPS_09_KornblumHold1500SRTSelf/20231217/Top/Clips/Naveed_20231217_HoldTrial051_TopView.avi and data.\n",
      "Loading  D:/YuLab/Work/GPS/Video/Naveed/GPS_09_KornblumHold1500SRTSelf/20231217/Top/Clips/Naveed_20231217_HoldTrial052_TopView.avi and data.\n",
      "Loading  D:/YuLab/Work/GPS/Video/Naveed/GPS_09_KornblumHold1500SRTSelf/20231217/Top/Clips/Naveed_20231217_HoldTrial053_TopView.avi and data.\n",
      "Loading  D:/YuLab/Work/GPS/Video/Naveed/GPS_09_KornblumHold1500SRTSelf/20231217/Top/Clips/Naveed_20231217_HoldTrial054_TopView.avi and data.\n",
      "Loading  D:/YuLab/Work/GPS/Video/Naveed/GPS_09_KornblumHold1500SRTSelf/20231217/Top/Clips/Naveed_20231217_HoldTrial055_TopView.avi and data.\n",
      "Loading  D:/YuLab/Work/GPS/Video/Naveed/GPS_09_KornblumHold1500SRTSelf/20231217/Top/Clips/Naveed_20231217_HoldTrial056_TopView.avi and data.\n",
      "Loading  D:/YuLab/Work/GPS/Video/Naveed/GPS_09_KornblumHold1500SRTSelf/20231217/Top/Clips/Naveed_20231217_HoldTrial057_TopView.avi and data.\n",
      "Loading  D:/YuLab/Work/GPS/Video/Naveed/GPS_09_KornblumHold1500SRTSelf/20231217/Top/Clips/Naveed_20231217_HoldTrial058_TopView.avi and data.\n",
      "Loading  D:/YuLab/Work/GPS/Video/Naveed/GPS_09_KornblumHold1500SRTSelf/20231217/Top/Clips/Naveed_20231217_HoldTrial059_TopView.avi and data.\n",
      "Loading  D:/YuLab/Work/GPS/Video/Naveed/GPS_09_KornblumHold1500SRTSelf/20231217/Top/Clips/Naveed_20231217_HoldTrial060_TopView.avi and data.\n",
      "Loading  D:/YuLab/Work/GPS/Video/Naveed/GPS_09_KornblumHold1500SRTSelf/20231217/Top/Clips/Naveed_20231217_HoldTrial061_TopView.avi and data.\n",
      "Loading  D:/YuLab/Work/GPS/Video/Naveed/GPS_09_KornblumHold1500SRTSelf/20231217/Top/Clips/Naveed_20231217_HoldTrial062_TopView.avi and data.\n",
      "Loading  D:/YuLab/Work/GPS/Video/Naveed/GPS_09_KornblumHold1500SRTSelf/20231217/Top/Clips/Naveed_20231217_HoldTrial063_TopView.avi and data.\n",
      "Loading  D:/YuLab/Work/GPS/Video/Naveed/GPS_09_KornblumHold1500SRTSelf/20231217/Top/Clips/Naveed_20231217_HoldTrial064_TopView.avi and data.\n",
      "Loading  D:/YuLab/Work/GPS/Video/Naveed/GPS_09_KornblumHold1500SRTSelf/20231217/Top/Clips/Naveed_20231217_HoldTrial065_TopView.avi and data.\n",
      "Loading  D:/YuLab/Work/GPS/Video/Naveed/GPS_09_KornblumHold1500SRTSelf/20231217/Top/Clips/Naveed_20231217_HoldTrial066_TopView.avi and data.\n",
      "Loading  D:/YuLab/Work/GPS/Video/Naveed/GPS_09_KornblumHold1500SRTSelf/20231217/Top/Clips/Naveed_20231217_HoldTrial067_TopView.avi and data.\n",
      "Loading  D:/YuLab/Work/GPS/Video/Naveed/GPS_09_KornblumHold1500SRTSelf/20231217/Top/Clips/Naveed_20231217_HoldTrial068_TopView.avi and data.\n",
      "Loading  D:/YuLab/Work/GPS/Video/Naveed/GPS_09_KornblumHold1500SRTSelf/20231217/Top/Clips/Naveed_20231217_HoldTrial069_TopView.avi and data.\n",
      "Loading  D:/YuLab/Work/GPS/Video/Naveed/GPS_09_KornblumHold1500SRTSelf/20231217/Top/Clips/Naveed_20231217_HoldTrial070_TopView.avi and data.\n",
      "Loading  D:/YuLab/Work/GPS/Video/Naveed/GPS_09_KornblumHold1500SRTSelf/20231217/Top/Clips/Naveed_20231217_HoldTrial071_TopView.avi and data.\n",
      "Loading  D:/YuLab/Work/GPS/Video/Naveed/GPS_09_KornblumHold1500SRTSelf/20231217/Top/Clips/Naveed_20231217_HoldTrial072_TopView.avi and data.\n",
      "Loading  D:/YuLab/Work/GPS/Video/Naveed/GPS_09_KornblumHold1500SRTSelf/20231217/Top/Clips/Naveed_20231217_HoldTrial073_TopView.avi and data.\n",
      "Loading  D:/YuLab/Work/GPS/Video/Naveed/GPS_09_KornblumHold1500SRTSelf/20231217/Top/Clips/Naveed_20231217_HoldTrial074_TopView.avi and data.\n",
      "Loading  D:/YuLab/Work/GPS/Video/Naveed/GPS_09_KornblumHold1500SRTSelf/20231217/Top/Clips/Naveed_20231217_HoldTrial075_TopView.avi and data.\n",
      "Loading  D:/YuLab/Work/GPS/Video/Naveed/GPS_09_KornblumHold1500SRTSelf/20231217/Top/Clips/Naveed_20231217_HoldTrial076_TopView.avi and data.\n",
      "Loading  D:/YuLab/Work/GPS/Video/Naveed/GPS_09_KornblumHold1500SRTSelf/20231217/Top/Clips/Naveed_20231217_HoldTrial077_TopView.avi and data.\n",
      "Loading  D:/YuLab/Work/GPS/Video/Naveed/GPS_09_KornblumHold1500SRTSelf/20231217/Top/Clips/Naveed_20231217_HoldTrial078_TopView.avi and data.\n",
      "Loading  D:/YuLab/Work/GPS/Video/Naveed/GPS_09_KornblumHold1500SRTSelf/20231217/Top/Clips/Naveed_20231217_HoldTrial080_TopView.avi and data.\n",
      "Loading  D:/YuLab/Work/GPS/Video/Naveed/GPS_09_KornblumHold1500SRTSelf/20231217/Top/Clips/Naveed_20231217_HoldTrial081_TopView.avi and data.\n",
      "Loading  D:/YuLab/Work/GPS/Video/Naveed/GPS_09_KornblumHold1500SRTSelf/20231217/Top/Clips/Naveed_20231217_HoldTrial082_TopView.avi and data.\n",
      "Loading  D:/YuLab/Work/GPS/Video/Naveed/GPS_09_KornblumHold1500SRTSelf/20231217/Top/Clips/Naveed_20231217_HoldTrial083_TopView.avi and data.\n",
      "Loading  D:/YuLab/Work/GPS/Video/Naveed/GPS_09_KornblumHold1500SRTSelf/20231217/Top/Clips/Naveed_20231217_HoldTrial084_TopView.avi and data.\n",
      "Loading  D:/YuLab/Work/GPS/Video/Naveed/GPS_09_KornblumHold1500SRTSelf/20231217/Top/Clips/Naveed_20231217_HoldTrial085_TopView.avi and data.\n",
      "Loading  D:/YuLab/Work/GPS/Video/Naveed/GPS_09_KornblumHold1500SRTSelf/20231217/Top/Clips/Naveed_20231217_HoldTrial086_TopView.avi and data.\n",
      "Loading  D:/YuLab/Work/GPS/Video/Naveed/GPS_09_KornblumHold1500SRTSelf/20231217/Top/Clips/Naveed_20231217_HoldTrial087_TopView.avi and data.\n",
      "Loading  D:/YuLab/Work/GPS/Video/Naveed/GPS_09_KornblumHold1500SRTSelf/20231217/Top/Clips/Naveed_20231217_HoldTrial088_TopView.avi and data.\n",
      "Loading  D:/YuLab/Work/GPS/Video/Naveed/GPS_09_KornblumHold1500SRTSelf/20231217/Top/Clips/Naveed_20231217_HoldTrial089_TopView.avi and data.\n",
      "Loading  D:/YuLab/Work/GPS/Video/Naveed/GPS_09_KornblumHold1500SRTSelf/20231217/Top/Clips/Naveed_20231217_HoldTrial090_TopView.avi and data.\n",
      "Loading  D:/YuLab/Work/GPS/Video/Naveed/GPS_09_KornblumHold1500SRTSelf/20231217/Top/Clips/Naveed_20231217_HoldTrial091_TopView.avi and data.\n",
      "Loading  D:/YuLab/Work/GPS/Video/Naveed/GPS_09_KornblumHold1500SRTSelf/20231217/Top/Clips/Naveed_20231217_HoldTrial092_TopView.avi and data.\n",
      "Loading  D:/YuLab/Work/GPS/Video/Naveed/GPS_09_KornblumHold1500SRTSelf/20231217/Top/Clips/Naveed_20231217_HoldTrial093_TopView.avi and data.\n",
      "Loading  D:/YuLab/Work/GPS/Video/Naveed/GPS_09_KornblumHold1500SRTSelf/20231217/Top/Clips/Naveed_20231217_HoldTrial094_TopView.avi and data.\n",
      "Loading  D:/YuLab/Work/GPS/Video/Naveed/GPS_09_KornblumHold1500SRTSelf/20231217/Top/Clips/Naveed_20231217_HoldTrial095_TopView.avi and data.\n",
      "Loading  D:/YuLab/Work/GPS/Video/Naveed/GPS_09_KornblumHold1500SRTSelf/20231217/Top/Clips/Naveed_20231217_HoldTrial096_TopView.avi and data.\n",
      "Loading  D:/YuLab/Work/GPS/Video/Naveed/GPS_09_KornblumHold1500SRTSelf/20231217/Top/Clips/Naveed_20231217_HoldTrial097_TopView.avi and data.\n",
      "Loading  D:/YuLab/Work/GPS/Video/Naveed/GPS_09_KornblumHold1500SRTSelf/20231217/Top/Clips/Naveed_20231217_HoldTrial098_TopView.avi and data.\n",
      "Loading  D:/YuLab/Work/GPS/Video/Naveed/GPS_09_KornblumHold1500SRTSelf/20231217/Top/Clips/Naveed_20231217_HoldTrial099_TopView.avi and data.\n",
      "Loading  D:/YuLab/Work/GPS/Video/Naveed/GPS_09_KornblumHold1500SRTSelf/20231217/Top/Clips/Naveed_20231217_HoldTrial100_TopView.avi and data.\n",
      "Loading  D:/YuLab/Work/GPS/Video/Naveed/GPS_09_KornblumHold1500SRTSelf/20231217/Top/Clips/Naveed_20231217_HoldTrial101_TopView.avi and data.\n",
      "Loading  D:/YuLab/Work/GPS/Video/Naveed/GPS_09_KornblumHold1500SRTSelf/20231217/Top/Clips/Naveed_20231217_HoldTrial102_TopView.avi and data.\n",
      "Loading  D:/YuLab/Work/GPS/Video/Naveed/GPS_09_KornblumHold1500SRTSelf/20231217/Top/Clips/Naveed_20231217_HoldTrial103_TopView.avi and data.\n",
      "Loading  D:/YuLab/Work/GPS/Video/Naveed/GPS_09_KornblumHold1500SRTSelf/20231217/Top/Clips/Naveed_20231217_HoldTrial104_TopView.avi and data.\n",
      "Loading  D:/YuLab/Work/GPS/Video/Naveed/GPS_09_KornblumHold1500SRTSelf/20231217/Top/Clips/Naveed_20231217_HoldTrial105_TopView.avi and data.\n",
      "Loading  D:/YuLab/Work/GPS/Video/Naveed/GPS_09_KornblumHold1500SRTSelf/20231217/Top/Clips/Naveed_20231217_HoldTrial106_TopView.avi and data.\n",
      "Loading  D:/YuLab/Work/GPS/Video/Naveed/GPS_09_KornblumHold1500SRTSelf/20231217/Top/Clips/Naveed_20231217_HoldTrial107_TopView.avi and data.\n",
      "Loading  D:/YuLab/Work/GPS/Video/Naveed/GPS_09_KornblumHold1500SRTSelf/20231217/Top/Clips/Naveed_20231217_HoldTrial108_TopView.avi and data.\n",
      "Loading  D:/YuLab/Work/GPS/Video/Naveed/GPS_09_KornblumHold1500SRTSelf/20231217/Top/Clips/Naveed_20231217_HoldTrial109_TopView.avi and data.\n",
      "Loading  D:/YuLab/Work/GPS/Video/Naveed/GPS_09_KornblumHold1500SRTSelf/20231217/Top/Clips/Naveed_20231217_HoldTrial110_TopView.avi and data.\n",
      "Loading  D:/YuLab/Work/GPS/Video/Naveed/GPS_09_KornblumHold1500SRTSelf/20231217/Top/Clips/Naveed_20231217_HoldTrial111_TopView.avi and data.\n",
      "Loading  D:/YuLab/Work/GPS/Video/Naveed/GPS_09_KornblumHold1500SRTSelf/20231217/Top/Clips/Naveed_20231217_HoldTrial112_TopView.avi and data.\n",
      "Loading  D:/YuLab/Work/GPS/Video/Naveed/GPS_09_KornblumHold1500SRTSelf/20231217/Top/Clips/Naveed_20231217_HoldTrial113_TopView.avi and data.\n",
      "Loading  D:/YuLab/Work/GPS/Video/Naveed/GPS_09_KornblumHold1500SRTSelf/20231217/Top/Clips/Naveed_20231217_HoldTrial114_TopView.avi and data.\n",
      "Loading  D:/YuLab/Work/GPS/Video/Naveed/GPS_09_KornblumHold1500SRTSelf/20231217/Top/Clips/Naveed_20231217_HoldTrial115_TopView.avi and data.\n",
      "Loading  D:/YuLab/Work/GPS/Video/Naveed/GPS_09_KornblumHold1500SRTSelf/20231217/Top/Clips/Naveed_20231217_HoldTrial116_TopView.avi and data.\n",
      "Loading  D:/YuLab/Work/GPS/Video/Naveed/GPS_09_KornblumHold1500SRTSelf/20231217/Top/Clips/Naveed_20231217_HoldTrial117_TopView.avi and data.\n",
      "Loading  D:/YuLab/Work/GPS/Video/Naveed/GPS_09_KornblumHold1500SRTSelf/20231217/Top/Clips/Naveed_20231217_HoldTrial118_TopView.avi and data.\n",
      "Loading  D:/YuLab/Work/GPS/Video/Naveed/GPS_09_KornblumHold1500SRTSelf/20231217/Top/Clips/Naveed_20231217_HoldTrial119_TopView.avi and data.\n",
      "Loading  D:/YuLab/Work/GPS/Video/Naveed/GPS_09_KornblumHold1500SRTSelf/20231217/Top/Clips/Naveed_20231217_HoldTrial120_TopView.avi and data.\n",
      "Loading  D:/YuLab/Work/GPS/Video/Naveed/GPS_09_KornblumHold1500SRTSelf/20231217/Top/Clips/Naveed_20231217_HoldTrial121_TopView.avi and data.\n",
      "Loading  D:/YuLab/Work/GPS/Video/Naveed/GPS_09_KornblumHold1500SRTSelf/20231217/Top/Clips/Naveed_20231217_HoldTrial122_TopView.avi and data.\n",
      "Loading  D:/YuLab/Work/GPS/Video/Naveed/GPS_09_KornblumHold1500SRTSelf/20231217/Top/Clips/Naveed_20231217_HoldTrial123_TopView.avi and data.\n",
      "Loading  D:/YuLab/Work/GPS/Video/Naveed/GPS_09_KornblumHold1500SRTSelf/20231217/Top/Clips/Naveed_20231217_HoldTrial124_TopView.avi and data.\n",
      "Loading  D:/YuLab/Work/GPS/Video/Naveed/GPS_09_KornblumHold1500SRTSelf/20231217/Top/Clips/Naveed_20231217_HoldTrial125_TopView.avi and data.\n",
      "Loading  D:/YuLab/Work/GPS/Video/Naveed/GPS_09_KornblumHold1500SRTSelf/20231217/Top/Clips/Naveed_20231217_HoldTrial126_TopView.avi and data.\n",
      "Loading  D:/YuLab/Work/GPS/Video/Naveed/GPS_09_KornblumHold1500SRTSelf/20231217/Top/Clips/Naveed_20231217_HoldTrial127_TopView.avi and data.\n",
      "Loading  D:/YuLab/Work/GPS/Video/Naveed/GPS_09_KornblumHold1500SRTSelf/20231217/Top/Clips/Naveed_20231217_HoldTrial128_TopView.avi and data.\n",
      "Loading  D:/YuLab/Work/GPS/Video/Naveed/GPS_09_KornblumHold1500SRTSelf/20231217/Top/Clips/Naveed_20231217_HoldTrial129_TopView.avi and data.\n",
      "Loading  D:/YuLab/Work/GPS/Video/Naveed/GPS_09_KornblumHold1500SRTSelf/20231217/Top/Clips/Naveed_20231217_HoldTrial130_TopView.avi and data.\n",
      "Loading  D:/YuLab/Work/GPS/Video/Naveed/GPS_09_KornblumHold1500SRTSelf/20231217/Top/Clips/Naveed_20231217_HoldTrial131_TopView.avi and data.\n",
      "Loading  D:/YuLab/Work/GPS/Video/Naveed/GPS_09_KornblumHold1500SRTSelf/20231217/Top/Clips/Naveed_20231217_HoldTrial132_TopView.avi and data.\n",
      "Loading  D:/YuLab/Work/GPS/Video/Naveed/GPS_09_KornblumHold1500SRTSelf/20231217/Top/Clips/Naveed_20231217_HoldTrial133_TopView.avi and data.\n",
      "Loading  D:/YuLab/Work/GPS/Video/Naveed/GPS_09_KornblumHold1500SRTSelf/20231217/Top/Clips/Naveed_20231217_HoldTrial134_TopView.avi and data.\n",
      "Loading  D:/YuLab/Work/GPS/Video/Naveed/GPS_09_KornblumHold1500SRTSelf/20231217/Top/Clips/Naveed_20231217_HoldTrial135_TopView.avi and data.\n",
      "Loading  D:/YuLab/Work/GPS/Video/Naveed/GPS_09_KornblumHold1500SRTSelf/20231220/Top/Clips/Naveed_20231220_HoldTrial011_TopView.avi and data.\n",
      "Loading  D:/YuLab/Work/GPS/Video/Naveed/GPS_09_KornblumHold1500SRTSelf/20231220/Top/Clips/Naveed_20231220_HoldTrial012_TopView.avi and data.\n",
      "Loading  D:/YuLab/Work/GPS/Video/Naveed/GPS_09_KornblumHold1500SRTSelf/20231220/Top/Clips/Naveed_20231220_HoldTrial013_TopView.avi and data.\n",
      "Loading  D:/YuLab/Work/GPS/Video/Naveed/GPS_09_KornblumHold1500SRTSelf/20231220/Top/Clips/Naveed_20231220_HoldTrial014_TopView.avi and data.\n",
      "Loading  D:/YuLab/Work/GPS/Video/Naveed/GPS_09_KornblumHold1500SRTSelf/20231220/Top/Clips/Naveed_20231220_HoldTrial015_TopView.avi and data.\n",
      "Loading  D:/YuLab/Work/GPS/Video/Naveed/GPS_09_KornblumHold1500SRTSelf/20231220/Top/Clips/Naveed_20231220_HoldTrial016_TopView.avi and data.\n",
      "Loading  D:/YuLab/Work/GPS/Video/Naveed/GPS_09_KornblumHold1500SRTSelf/20231220/Top/Clips/Naveed_20231220_HoldTrial017_TopView.avi and data.\n",
      "Loading  D:/YuLab/Work/GPS/Video/Naveed/GPS_09_KornblumHold1500SRTSelf/20231220/Top/Clips/Naveed_20231220_HoldTrial018_TopView.avi and data.\n",
      "Loading  D:/YuLab/Work/GPS/Video/Naveed/GPS_09_KornblumHold1500SRTSelf/20231220/Top/Clips/Naveed_20231220_HoldTrial019_TopView.avi and data.\n",
      "Loading  D:/YuLab/Work/GPS/Video/Naveed/GPS_09_KornblumHold1500SRTSelf/20231220/Top/Clips/Naveed_20231220_HoldTrial020_TopView.avi and data.\n",
      "Loading  D:/YuLab/Work/GPS/Video/Naveed/GPS_09_KornblumHold1500SRTSelf/20231220/Top/Clips/Naveed_20231220_HoldTrial021_TopView.avi and data.\n",
      "Loading  D:/YuLab/Work/GPS/Video/Naveed/GPS_09_KornblumHold1500SRTSelf/20231220/Top/Clips/Naveed_20231220_HoldTrial022_TopView.avi and data.\n",
      "Loading  D:/YuLab/Work/GPS/Video/Naveed/GPS_09_KornblumHold1500SRTSelf/20231220/Top/Clips/Naveed_20231220_HoldTrial023_TopView.avi and data.\n",
      "Loading  D:/YuLab/Work/GPS/Video/Naveed/GPS_09_KornblumHold1500SRTSelf/20231220/Top/Clips/Naveed_20231220_HoldTrial024_TopView.avi and data.\n",
      "Loading  D:/YuLab/Work/GPS/Video/Naveed/GPS_09_KornblumHold1500SRTSelf/20231220/Top/Clips/Naveed_20231220_HoldTrial025_TopView.avi and data.\n",
      "Loading  D:/YuLab/Work/GPS/Video/Naveed/GPS_09_KornblumHold1500SRTSelf/20231220/Top/Clips/Naveed_20231220_HoldTrial026_TopView.avi and data.\n",
      "Loading  D:/YuLab/Work/GPS/Video/Naveed/GPS_09_KornblumHold1500SRTSelf/20231220/Top/Clips/Naveed_20231220_HoldTrial027_TopView.avi and data.\n",
      "Loading  D:/YuLab/Work/GPS/Video/Naveed/GPS_09_KornblumHold1500SRTSelf/20231220/Top/Clips/Naveed_20231220_HoldTrial028_TopView.avi and data.\n",
      "Loading  D:/YuLab/Work/GPS/Video/Naveed/GPS_09_KornblumHold1500SRTSelf/20231220/Top/Clips/Naveed_20231220_HoldTrial029_TopView.avi and data.\n",
      "Loading  D:/YuLab/Work/GPS/Video/Naveed/GPS_09_KornblumHold1500SRTSelf/20231220/Top/Clips/Naveed_20231220_HoldTrial030_TopView.avi and data.\n",
      "Loading  D:/YuLab/Work/GPS/Video/Naveed/GPS_09_KornblumHold1500SRTSelf/20231220/Top/Clips/Naveed_20231220_HoldTrial031_TopView.avi and data.\n",
      "Loading  D:/YuLab/Work/GPS/Video/Naveed/GPS_09_KornblumHold1500SRTSelf/20231220/Top/Clips/Naveed_20231220_HoldTrial032_TopView.avi and data.\n",
      "Loading  D:/YuLab/Work/GPS/Video/Naveed/GPS_09_KornblumHold1500SRTSelf/20231220/Top/Clips/Naveed_20231220_HoldTrial033_TopView.avi and data.\n",
      "Loading  D:/YuLab/Work/GPS/Video/Naveed/GPS_09_KornblumHold1500SRTSelf/20231220/Top/Clips/Naveed_20231220_HoldTrial034_TopView.avi and data.\n",
      "Loading  D:/YuLab/Work/GPS/Video/Naveed/GPS_09_KornblumHold1500SRTSelf/20231220/Top/Clips/Naveed_20231220_HoldTrial035_TopView.avi and data.\n",
      "Loading  D:/YuLab/Work/GPS/Video/Naveed/GPS_09_KornblumHold1500SRTSelf/20231220/Top/Clips/Naveed_20231220_HoldTrial036_TopView.avi and data.\n",
      "Loading  D:/YuLab/Work/GPS/Video/Naveed/GPS_09_KornblumHold1500SRTSelf/20231220/Top/Clips/Naveed_20231220_HoldTrial037_TopView.avi and data.\n",
      "Loading  D:/YuLab/Work/GPS/Video/Naveed/GPS_09_KornblumHold1500SRTSelf/20231220/Top/Clips/Naveed_20231220_HoldTrial038_TopView.avi and data.\n",
      "Loading  D:/YuLab/Work/GPS/Video/Naveed/GPS_09_KornblumHold1500SRTSelf/20231220/Top/Clips/Naveed_20231220_HoldTrial039_TopView.avi and data.\n",
      "Loading  D:/YuLab/Work/GPS/Video/Naveed/GPS_09_KornblumHold1500SRTSelf/20231220/Top/Clips/Naveed_20231220_HoldTrial040_TopView.avi and data.\n",
      "Loading  D:/YuLab/Work/GPS/Video/Naveed/GPS_09_KornblumHold1500SRTSelf/20231220/Top/Clips/Naveed_20231220_HoldTrial041_TopView.avi and data.\n",
      "Loading  D:/YuLab/Work/GPS/Video/Naveed/GPS_09_KornblumHold1500SRTSelf/20231220/Top/Clips/Naveed_20231220_HoldTrial042_TopView.avi and data.\n",
      "Loading  D:/YuLab/Work/GPS/Video/Naveed/GPS_09_KornblumHold1500SRTSelf/20231220/Top/Clips/Naveed_20231220_HoldTrial043_TopView.avi and data.\n",
      "Loading  D:/YuLab/Work/GPS/Video/Naveed/GPS_09_KornblumHold1500SRTSelf/20231220/Top/Clips/Naveed_20231220_HoldTrial044_TopView.avi and data.\n",
      "Loading  D:/YuLab/Work/GPS/Video/Naveed/GPS_09_KornblumHold1500SRTSelf/20231220/Top/Clips/Naveed_20231220_HoldTrial045_TopView.avi and data.\n",
      "Loading  D:/YuLab/Work/GPS/Video/Naveed/GPS_09_KornblumHold1500SRTSelf/20231220/Top/Clips/Naveed_20231220_HoldTrial046_TopView.avi and data.\n",
      "Loading  D:/YuLab/Work/GPS/Video/Naveed/GPS_09_KornblumHold1500SRTSelf/20231220/Top/Clips/Naveed_20231220_HoldTrial047_TopView.avi and data.\n",
      "Loading  D:/YuLab/Work/GPS/Video/Naveed/GPS_09_KornblumHold1500SRTSelf/20231220/Top/Clips/Naveed_20231220_HoldTrial048_TopView.avi and data.\n",
      "Loading  D:/YuLab/Work/GPS/Video/Naveed/GPS_09_KornblumHold1500SRTSelf/20231220/Top/Clips/Naveed_20231220_HoldTrial049_TopView.avi and data.\n",
      "Loading  D:/YuLab/Work/GPS/Video/Naveed/GPS_09_KornblumHold1500SRTSelf/20231220/Top/Clips/Naveed_20231220_HoldTrial050_TopView.avi and data.\n",
      "Loading  D:/YuLab/Work/GPS/Video/Naveed/GPS_09_KornblumHold1500SRTSelf/20231220/Top/Clips/Naveed_20231220_HoldTrial051_TopView.avi and data.\n",
      "Loading  D:/YuLab/Work/GPS/Video/Naveed/GPS_09_KornblumHold1500SRTSelf/20231220/Top/Clips/Naveed_20231220_HoldTrial052_TopView.avi and data.\n",
      "Loading  D:/YuLab/Work/GPS/Video/Naveed/GPS_09_KornblumHold1500SRTSelf/20231220/Top/Clips/Naveed_20231220_HoldTrial053_TopView.avi and data.\n",
      "Loading  D:/YuLab/Work/GPS/Video/Naveed/GPS_09_KornblumHold1500SRTSelf/20231220/Top/Clips/Naveed_20231220_HoldTrial054_TopView.avi and data.\n",
      "Loading  D:/YuLab/Work/GPS/Video/Naveed/GPS_09_KornblumHold1500SRTSelf/20231220/Top/Clips/Naveed_20231220_HoldTrial055_TopView.avi and data.\n",
      "Loading  D:/YuLab/Work/GPS/Video/Naveed/GPS_09_KornblumHold1500SRTSelf/20231220/Top/Clips/Naveed_20231220_HoldTrial056_TopView.avi and data.\n",
      "Loading  D:/YuLab/Work/GPS/Video/Naveed/GPS_09_KornblumHold1500SRTSelf/20231220/Top/Clips/Naveed_20231220_HoldTrial057_TopView.avi and data.\n",
      "Loading  D:/YuLab/Work/GPS/Video/Naveed/GPS_09_KornblumHold1500SRTSelf/20231220/Top/Clips/Naveed_20231220_HoldTrial058_TopView.avi and data.\n",
      "Loading  D:/YuLab/Work/GPS/Video/Naveed/GPS_09_KornblumHold1500SRTSelf/20231220/Top/Clips/Naveed_20231220_HoldTrial059_TopView.avi and data.\n",
      "Loading  D:/YuLab/Work/GPS/Video/Naveed/GPS_09_KornblumHold1500SRTSelf/20231220/Top/Clips/Naveed_20231220_HoldTrial060_TopView.avi and data.\n",
      "Loading  D:/YuLab/Work/GPS/Video/Naveed/GPS_09_KornblumHold1500SRTSelf/20231220/Top/Clips/Naveed_20231220_HoldTrial061_TopView.avi and data.\n",
      "Loading  D:/YuLab/Work/GPS/Video/Naveed/GPS_09_KornblumHold1500SRTSelf/20231220/Top/Clips/Naveed_20231220_HoldTrial062_TopView.avi and data.\n",
      "Loading  D:/YuLab/Work/GPS/Video/Naveed/GPS_09_KornblumHold1500SRTSelf/20231220/Top/Clips/Naveed_20231220_HoldTrial063_TopView.avi and data.\n",
      "Loading  D:/YuLab/Work/GPS/Video/Naveed/GPS_09_KornblumHold1500SRTSelf/20231220/Top/Clips/Naveed_20231220_HoldTrial064_TopView.avi and data.\n",
      "Loading  D:/YuLab/Work/GPS/Video/Naveed/GPS_09_KornblumHold1500SRTSelf/20231220/Top/Clips/Naveed_20231220_HoldTrial065_TopView.avi and data.\n",
      "Loading  D:/YuLab/Work/GPS/Video/Naveed/GPS_09_KornblumHold1500SRTSelf/20231220/Top/Clips/Naveed_20231220_HoldTrial066_TopView.avi and data.\n",
      "Loading  D:/YuLab/Work/GPS/Video/Naveed/GPS_09_KornblumHold1500SRTSelf/20231220/Top/Clips/Naveed_20231220_HoldTrial067_TopView.avi and data.\n",
      "Loading  D:/YuLab/Work/GPS/Video/Naveed/GPS_09_KornblumHold1500SRTSelf/20231220/Top/Clips/Naveed_20231220_HoldTrial068_TopView.avi and data.\n",
      "Loading  D:/YuLab/Work/GPS/Video/Naveed/GPS_09_KornblumHold1500SRTSelf/20231220/Top/Clips/Naveed_20231220_HoldTrial069_TopView.avi and data.\n",
      "Loading  D:/YuLab/Work/GPS/Video/Naveed/GPS_09_KornblumHold1500SRTSelf/20231220/Top/Clips/Naveed_20231220_HoldTrial070_TopView.avi and data.\n",
      "Loading  D:/YuLab/Work/GPS/Video/Naveed/GPS_09_KornblumHold1500SRTSelf/20231220/Top/Clips/Naveed_20231220_HoldTrial071_TopView.avi and data.\n",
      "Loading  D:/YuLab/Work/GPS/Video/Naveed/GPS_09_KornblumHold1500SRTSelf/20231220/Top/Clips/Naveed_20231220_HoldTrial072_TopView.avi and data.\n",
      "Loading  D:/YuLab/Work/GPS/Video/Naveed/GPS_09_KornblumHold1500SRTSelf/20231220/Top/Clips/Naveed_20231220_HoldTrial073_TopView.avi and data.\n",
      "Loading  D:/YuLab/Work/GPS/Video/Naveed/GPS_09_KornblumHold1500SRTSelf/20231220/Top/Clips/Naveed_20231220_HoldTrial074_TopView.avi and data.\n",
      "Loading  D:/YuLab/Work/GPS/Video/Naveed/GPS_09_KornblumHold1500SRTSelf/20231220/Top/Clips/Naveed_20231220_HoldTrial075_TopView.avi and data.\n",
      "Loading  D:/YuLab/Work/GPS/Video/Naveed/GPS_09_KornblumHold1500SRTSelf/20231220/Top/Clips/Naveed_20231220_HoldTrial076_TopView.avi and data.\n",
      "Loading  D:/YuLab/Work/GPS/Video/Naveed/GPS_09_KornblumHold1500SRTSelf/20231220/Top/Clips/Naveed_20231220_HoldTrial077_TopView.avi and data.\n",
      "Loading  D:/YuLab/Work/GPS/Video/Naveed/GPS_09_KornblumHold1500SRTSelf/20231220/Top/Clips/Naveed_20231220_HoldTrial078_TopView.avi and data.\n",
      "Loading  D:/YuLab/Work/GPS/Video/Naveed/GPS_09_KornblumHold1500SRTSelf/20231220/Top/Clips/Naveed_20231220_HoldTrial079_TopView.avi and data.\n",
      "Loading  D:/YuLab/Work/GPS/Video/Naveed/GPS_09_KornblumHold1500SRTSelf/20231220/Top/Clips/Naveed_20231220_HoldTrial080_TopView.avi and data.\n",
      "Loading  D:/YuLab/Work/GPS/Video/Naveed/GPS_09_KornblumHold1500SRTSelf/20231220/Top/Clips/Naveed_20231220_HoldTrial081_TopView.avi and data.\n",
      "Loading  D:/YuLab/Work/GPS/Video/Naveed/GPS_09_KornblumHold1500SRTSelf/20231220/Top/Clips/Naveed_20231220_HoldTrial082_TopView.avi and data.\n",
      "Loading  D:/YuLab/Work/GPS/Video/Naveed/GPS_09_KornblumHold1500SRTSelf/20231220/Top/Clips/Naveed_20231220_HoldTrial083_TopView.avi and data.\n",
      "Loading  D:/YuLab/Work/GPS/Video/Naveed/GPS_09_KornblumHold1500SRTSelf/20231220/Top/Clips/Naveed_20231220_HoldTrial084_TopView.avi and data.\n",
      "Loading  D:/YuLab/Work/GPS/Video/Naveed/GPS_09_KornblumHold1500SRTSelf/20231220/Top/Clips/Naveed_20231220_HoldTrial085_TopView.avi and data.\n",
      "Loading  D:/YuLab/Work/GPS/Video/Naveed/GPS_09_KornblumHold1500SRTSelf/20231220/Top/Clips/Naveed_20231220_HoldTrial086_TopView.avi and data.\n",
      "Loading  D:/YuLab/Work/GPS/Video/Naveed/GPS_09_KornblumHold1500SRTSelf/20231220/Top/Clips/Naveed_20231220_HoldTrial087_TopView.avi and data.\n",
      "Loading  D:/YuLab/Work/GPS/Video/Naveed/GPS_09_KornblumHold1500SRTSelf/20231220/Top/Clips/Naveed_20231220_HoldTrial088_TopView.avi and data.\n",
      "Loading  D:/YuLab/Work/GPS/Video/Naveed/GPS_09_KornblumHold1500SRTSelf/20231220/Top/Clips/Naveed_20231220_HoldTrial089_TopView.avi and data.\n",
      "Loading  D:/YuLab/Work/GPS/Video/Naveed/GPS_09_KornblumHold1500SRTSelf/20231220/Top/Clips/Naveed_20231220_HoldTrial090_TopView.avi and data.\n",
      "Loading  D:/YuLab/Work/GPS/Video/Naveed/GPS_09_KornblumHold1500SRTSelf/20231220/Top/Clips/Naveed_20231220_HoldTrial091_TopView.avi and data.\n",
      "Loading  D:/YuLab/Work/GPS/Video/Naveed/GPS_09_KornblumHold1500SRTSelf/20231220/Top/Clips/Naveed_20231220_HoldTrial092_TopView.avi and data.\n",
      "Loading  D:/YuLab/Work/GPS/Video/Naveed/GPS_09_KornblumHold1500SRTSelf/20231220/Top/Clips/Naveed_20231220_HoldTrial093_TopView.avi and data.\n",
      "Loading  D:/YuLab/Work/GPS/Video/Naveed/GPS_09_KornblumHold1500SRTSelf/20231220/Top/Clips/Naveed_20231220_HoldTrial094_TopView.avi and data.\n",
      "Loading  D:/YuLab/Work/GPS/Video/Naveed/GPS_09_KornblumHold1500SRTSelf/20231220/Top/Clips/Naveed_20231220_HoldTrial095_TopView.avi and data.\n",
      "Loading  D:/YuLab/Work/GPS/Video/Naveed/GPS_09_KornblumHold1500SRTSelf/20231220/Top/Clips/Naveed_20231220_HoldTrial096_TopView.avi and data.\n",
      "Loading  D:/YuLab/Work/GPS/Video/Naveed/GPS_09_KornblumHold1500SRTSelf/20231220/Top/Clips/Naveed_20231220_HoldTrial097_TopView.avi and data.\n",
      "Loading  D:/YuLab/Work/GPS/Video/Naveed/GPS_09_KornblumHold1500SRTSelf/20231220/Top/Clips/Naveed_20231220_HoldTrial098_TopView.avi and data.\n",
      "Loading  D:/YuLab/Work/GPS/Video/Naveed/GPS_09_KornblumHold1500SRTSelf/20231220/Top/Clips/Naveed_20231220_HoldTrial099_TopView.avi and data.\n",
      "Loading  D:/YuLab/Work/GPS/Video/Naveed/GPS_09_KornblumHold1500SRTSelf/20231220/Top/Clips/Naveed_20231220_HoldTrial100_TopView.avi and data.\n",
      "Loading  D:/YuLab/Work/GPS/Video/Naveed/GPS_09_KornblumHold1500SRTSelf/20231220/Top/Clips/Naveed_20231220_HoldTrial101_TopView.avi and data.\n",
      "Loading  D:/YuLab/Work/GPS/Video/Naveed/GPS_09_KornblumHold1500SRTSelf/20231220/Top/Clips/Naveed_20231220_HoldTrial102_TopView.avi and data.\n",
      "Loading  D:/YuLab/Work/GPS/Video/Naveed/GPS_09_KornblumHold1500SRTSelf/20231220/Top/Clips/Naveed_20231220_HoldTrial103_TopView.avi and data.\n",
      "Loading  D:/YuLab/Work/GPS/Video/Naveed/GPS_09_KornblumHold1500SRTSelf/20231220/Top/Clips/Naveed_20231220_HoldTrial104_TopView.avi and data.\n",
      "Loading  D:/YuLab/Work/GPS/Video/Naveed/GPS_09_KornblumHold1500SRTSelf/20231220/Top/Clips/Naveed_20231220_HoldTrial105_TopView.avi and data.\n",
      "Loading  D:/YuLab/Work/GPS/Video/Naveed/GPS_09_KornblumHold1500SRTSelf/20231220/Top/Clips/Naveed_20231220_HoldTrial106_TopView.avi and data.\n",
      "Loading  D:/YuLab/Work/GPS/Video/Naveed/GPS_09_KornblumHold1500SRTSelf/20231220/Top/Clips/Naveed_20231220_HoldTrial107_TopView.avi and data.\n",
      "Loading  D:/YuLab/Work/GPS/Video/Naveed/GPS_09_KornblumHold1500SRTSelf/20231220/Top/Clips/Naveed_20231220_HoldTrial108_TopView.avi and data.\n",
      "Loading  D:/YuLab/Work/GPS/Video/Naveed/GPS_09_KornblumHold1500SRTSelf/20231220/Top/Clips/Naveed_20231220_HoldTrial109_TopView.avi and data.\n",
      "Loading  D:/YuLab/Work/GPS/Video/Naveed/GPS_09_KornblumHold1500SRTSelf/20231220/Top/Clips/Naveed_20231220_HoldTrial110_TopView.avi and data.\n",
      "Loading  D:/YuLab/Work/GPS/Video/Naveed/GPS_09_KornblumHold1500SRTSelf/20231220/Top/Clips/Naveed_20231220_HoldTrial111_TopView.avi and data.\n",
      "Loading  D:/YuLab/Work/GPS/Video/Naveed/GPS_09_KornblumHold1500SRTSelf/20231220/Top/Clips/Naveed_20231220_HoldTrial112_TopView.avi and data.\n",
      "Loading  D:/YuLab/Work/GPS/Video/Naveed/GPS_09_KornblumHold1500SRTSelf/20231220/Top/Clips/Naveed_20231220_HoldTrial113_TopView.avi and data.\n",
      "Loading  D:/YuLab/Work/GPS/Video/Naveed/GPS_09_KornblumHold1500SRTSelf/20231220/Top/Clips/Naveed_20231220_HoldTrial114_TopView.avi and data.\n",
      "Loading  D:/YuLab/Work/GPS/Video/Naveed/GPS_09_KornblumHold1500SRTSelf/20231220/Top/Clips/Naveed_20231220_HoldTrial115_TopView.avi and data.\n",
      "Loading  D:/YuLab/Work/GPS/Video/Naveed/GPS_09_KornblumHold1500SRTSelf/20231220/Top/Clips/Naveed_20231220_HoldTrial116_TopView.avi and data.\n",
      "Loading  D:/YuLab/Work/GPS/Video/Naveed/GPS_09_KornblumHold1500SRTSelf/20231220/Top/Clips/Naveed_20231220_HoldTrial117_TopView.avi and data.\n",
      "Loading  D:/YuLab/Work/GPS/Video/Naveed/GPS_09_KornblumHold1500SRTSelf/20231220/Top/Clips/Naveed_20231220_HoldTrial118_TopView.avi and data.\n",
      "Loading  D:/YuLab/Work/GPS/Video/Naveed/GPS_09_KornblumHold1500SRTSelf/20231220/Top/Clips/Naveed_20231220_HoldTrial119_TopView.avi and data.\n",
      "Loading  D:/YuLab/Work/GPS/Video/Naveed/GPS_09_KornblumHold1500SRTSelf/20231220/Top/Clips/Naveed_20231220_HoldTrial120_TopView.avi and data.\n",
      "Loading  D:/YuLab/Work/GPS/Video/Naveed/GPS_09_KornblumHold1500SRTSelf/20231220/Top/Clips/Naveed_20231220_HoldTrial121_TopView.avi and data.\n",
      "Loading  D:/YuLab/Work/GPS/Video/Naveed/GPS_09_KornblumHold1500SRTSelf/20231220/Top/Clips/Naveed_20231220_HoldTrial122_TopView.avi and data.\n",
      "Loading  D:/YuLab/Work/GPS/Video/Naveed/GPS_09_KornblumHold1500SRTSelf/20231220/Top/Clips/Naveed_20231220_HoldTrial123_TopView.avi and data.\n",
      "Loading  D:/YuLab/Work/GPS/Video/Naveed/GPS_09_KornblumHold1500SRTSelf/20231220/Top/Clips/Naveed_20231220_HoldTrial124_TopView.avi and data.\n",
      "Loading  D:/YuLab/Work/GPS/Video/Naveed/GPS_09_KornblumHold1500SRTSelf/20231220/Top/Clips/Naveed_20231220_HoldTrial125_TopView.avi and data.\n",
      "Loading  D:/YuLab/Work/GPS/Video/Naveed/GPS_09_KornblumHold1500SRTSelf/20231220/Top/Clips/Naveed_20231220_HoldTrial126_TopView.avi and data.\n",
      "Loading  D:/YuLab/Work/GPS/Video/Naveed/GPS_09_KornblumHold1500SRTSelf/20231220/Top/Clips/Naveed_20231220_HoldTrial127_TopView.avi and data.\n",
      "Loading  D:/YuLab/Work/GPS/Video/Naveed/GPS_09_KornblumHold1500SRTSelf/20231220/Top/Clips/Naveed_20231220_HoldTrial128_TopView.avi and data.\n",
      "Loading  D:/YuLab/Work/GPS/Video/Naveed/GPS_09_KornblumHold1500SRTSelf/20231220/Top/Clips/Naveed_20231220_HoldTrial129_TopView.avi and data.\n",
      "Loading  D:/YuLab/Work/GPS/Video/Naveed/GPS_09_KornblumHold1500SRTSelf/20231220/Top/Clips/Naveed_20231220_HoldTrial130_TopView.avi and data.\n",
      "Loading  D:/YuLab/Work/GPS/Video/Naveed/GPS_09_KornblumHold1500SRTSelf/20231220/Top/Clips/Naveed_20231220_HoldTrial131_TopView.avi and data.\n",
      "Loading  D:/YuLab/Work/GPS/Video/Naveed/GPS_09_KornblumHold1500SRTSelf/20231220/Top/Clips/Naveed_20231220_HoldTrial132_TopView.avi and data.\n",
      "Loading  D:/YuLab/Work/GPS/Video/Naveed/GPS_09_KornblumHold1500SRTSelf/20231220/Top/Clips/Naveed_20231220_HoldTrial133_TopView.avi and data.\n",
      "Loading  D:/YuLab/Work/GPS/Video/Naveed/GPS_09_KornblumHold1500SRTSelf/20231220/Top/Clips/Naveed_20231220_HoldTrial134_TopView.avi and data.\n",
      "Loading  D:/YuLab/Work/GPS/Video/Naveed/GPS_09_KornblumHold1500SRTSelf/20231221/Top/Clips/Naveed_20231221_HoldTrial018_TopView.avi and data.\n",
      "Loading  D:/YuLab/Work/GPS/Video/Naveed/GPS_09_KornblumHold1500SRTSelf/20231221/Top/Clips/Naveed_20231221_HoldTrial019_TopView.avi and data.\n",
      "Loading  D:/YuLab/Work/GPS/Video/Naveed/GPS_09_KornblumHold1500SRTSelf/20231221/Top/Clips/Naveed_20231221_HoldTrial020_TopView.avi and data.\n",
      "Loading  D:/YuLab/Work/GPS/Video/Naveed/GPS_09_KornblumHold1500SRTSelf/20231221/Top/Clips/Naveed_20231221_HoldTrial021_TopView.avi and data.\n",
      "Loading  D:/YuLab/Work/GPS/Video/Naveed/GPS_09_KornblumHold1500SRTSelf/20231221/Top/Clips/Naveed_20231221_HoldTrial022_TopView.avi and data.\n",
      "Loading  D:/YuLab/Work/GPS/Video/Naveed/GPS_09_KornblumHold1500SRTSelf/20231221/Top/Clips/Naveed_20231221_HoldTrial023_TopView.avi and data.\n",
      "Loading  D:/YuLab/Work/GPS/Video/Naveed/GPS_09_KornblumHold1500SRTSelf/20231221/Top/Clips/Naveed_20231221_HoldTrial024_TopView.avi and data.\n",
      "Loading  D:/YuLab/Work/GPS/Video/Naveed/GPS_09_KornblumHold1500SRTSelf/20231221/Top/Clips/Naveed_20231221_HoldTrial025_TopView.avi and data.\n",
      "Loading  D:/YuLab/Work/GPS/Video/Naveed/GPS_09_KornblumHold1500SRTSelf/20231221/Top/Clips/Naveed_20231221_HoldTrial026_TopView.avi and data.\n",
      "Loading  D:/YuLab/Work/GPS/Video/Naveed/GPS_09_KornblumHold1500SRTSelf/20231221/Top/Clips/Naveed_20231221_HoldTrial027_TopView.avi and data.\n",
      "Loading  D:/YuLab/Work/GPS/Video/Naveed/GPS_09_KornblumHold1500SRTSelf/20231221/Top/Clips/Naveed_20231221_HoldTrial028_TopView.avi and data.\n",
      "Loading  D:/YuLab/Work/GPS/Video/Naveed/GPS_09_KornblumHold1500SRTSelf/20231221/Top/Clips/Naveed_20231221_HoldTrial029_TopView.avi and data.\n",
      "Loading  D:/YuLab/Work/GPS/Video/Naveed/GPS_09_KornblumHold1500SRTSelf/20231221/Top/Clips/Naveed_20231221_HoldTrial030_TopView.avi and data.\n",
      "Loading  D:/YuLab/Work/GPS/Video/Naveed/GPS_09_KornblumHold1500SRTSelf/20231221/Top/Clips/Naveed_20231221_HoldTrial031_TopView.avi and data.\n",
      "Loading  D:/YuLab/Work/GPS/Video/Naveed/GPS_09_KornblumHold1500SRTSelf/20231221/Top/Clips/Naveed_20231221_HoldTrial032_TopView.avi and data.\n",
      "Loading  D:/YuLab/Work/GPS/Video/Naveed/GPS_09_KornblumHold1500SRTSelf/20231221/Top/Clips/Naveed_20231221_HoldTrial033_TopView.avi and data.\n",
      "Loading  D:/YuLab/Work/GPS/Video/Naveed/GPS_09_KornblumHold1500SRTSelf/20231221/Top/Clips/Naveed_20231221_HoldTrial034_TopView.avi and data.\n",
      "Loading  D:/YuLab/Work/GPS/Video/Naveed/GPS_09_KornblumHold1500SRTSelf/20231221/Top/Clips/Naveed_20231221_HoldTrial035_TopView.avi and data.\n",
      "Loading  D:/YuLab/Work/GPS/Video/Naveed/GPS_09_KornblumHold1500SRTSelf/20231221/Top/Clips/Naveed_20231221_HoldTrial036_TopView.avi and data.\n",
      "Loading  D:/YuLab/Work/GPS/Video/Naveed/GPS_09_KornblumHold1500SRTSelf/20231221/Top/Clips/Naveed_20231221_HoldTrial037_TopView.avi and data.\n",
      "Loading  D:/YuLab/Work/GPS/Video/Naveed/GPS_09_KornblumHold1500SRTSelf/20231221/Top/Clips/Naveed_20231221_HoldTrial038_TopView.avi and data.\n",
      "Loading  D:/YuLab/Work/GPS/Video/Naveed/GPS_09_KornblumHold1500SRTSelf/20231221/Top/Clips/Naveed_20231221_HoldTrial039_TopView.avi and data.\n",
      "Loading  D:/YuLab/Work/GPS/Video/Naveed/GPS_09_KornblumHold1500SRTSelf/20231221/Top/Clips/Naveed_20231221_HoldTrial040_TopView.avi and data.\n",
      "Loading  D:/YuLab/Work/GPS/Video/Naveed/GPS_09_KornblumHold1500SRTSelf/20231221/Top/Clips/Naveed_20231221_HoldTrial041_TopView.avi and data.\n",
      "Loading  D:/YuLab/Work/GPS/Video/Naveed/GPS_09_KornblumHold1500SRTSelf/20231221/Top/Clips/Naveed_20231221_HoldTrial042_TopView.avi and data.\n",
      "Loading  D:/YuLab/Work/GPS/Video/Naveed/GPS_09_KornblumHold1500SRTSelf/20231221/Top/Clips/Naveed_20231221_HoldTrial043_TopView.avi and data.\n",
      "Loading  D:/YuLab/Work/GPS/Video/Naveed/GPS_09_KornblumHold1500SRTSelf/20231221/Top/Clips/Naveed_20231221_HoldTrial044_TopView.avi and data.\n",
      "Loading  D:/YuLab/Work/GPS/Video/Naveed/GPS_09_KornblumHold1500SRTSelf/20231221/Top/Clips/Naveed_20231221_HoldTrial045_TopView.avi and data.\n",
      "Loading  D:/YuLab/Work/GPS/Video/Naveed/GPS_09_KornblumHold1500SRTSelf/20231221/Top/Clips/Naveed_20231221_HoldTrial046_TopView.avi and data.\n",
      "Loading  D:/YuLab/Work/GPS/Video/Naveed/GPS_09_KornblumHold1500SRTSelf/20231221/Top/Clips/Naveed_20231221_HoldTrial047_TopView.avi and data.\n",
      "Loading  D:/YuLab/Work/GPS/Video/Naveed/GPS_09_KornblumHold1500SRTSelf/20231221/Top/Clips/Naveed_20231221_HoldTrial048_TopView.avi and data.\n",
      "Loading  D:/YuLab/Work/GPS/Video/Naveed/GPS_09_KornblumHold1500SRTSelf/20231221/Top/Clips/Naveed_20231221_HoldTrial049_TopView.avi and data.\n",
      "Loading  D:/YuLab/Work/GPS/Video/Naveed/GPS_09_KornblumHold1500SRTSelf/20231221/Top/Clips/Naveed_20231221_HoldTrial050_TopView.avi and data.\n",
      "Loading  D:/YuLab/Work/GPS/Video/Naveed/GPS_09_KornblumHold1500SRTSelf/20231221/Top/Clips/Naveed_20231221_HoldTrial051_TopView.avi and data.\n",
      "Loading  D:/YuLab/Work/GPS/Video/Naveed/GPS_09_KornblumHold1500SRTSelf/20231221/Top/Clips/Naveed_20231221_HoldTrial052_TopView.avi and data.\n",
      "Loading  D:/YuLab/Work/GPS/Video/Naveed/GPS_09_KornblumHold1500SRTSelf/20231221/Top/Clips/Naveed_20231221_HoldTrial053_TopView.avi and data.\n",
      "Loading  D:/YuLab/Work/GPS/Video/Naveed/GPS_09_KornblumHold1500SRTSelf/20231221/Top/Clips/Naveed_20231221_HoldTrial054_TopView.avi and data.\n",
      "Loading  D:/YuLab/Work/GPS/Video/Naveed/GPS_09_KornblumHold1500SRTSelf/20231221/Top/Clips/Naveed_20231221_HoldTrial055_TopView.avi and data.\n",
      "Loading  D:/YuLab/Work/GPS/Video/Naveed/GPS_09_KornblumHold1500SRTSelf/20231221/Top/Clips/Naveed_20231221_HoldTrial056_TopView.avi and data.\n",
      "Loading  D:/YuLab/Work/GPS/Video/Naveed/GPS_09_KornblumHold1500SRTSelf/20231221/Top/Clips/Naveed_20231221_HoldTrial057_TopView.avi and data.\n",
      "Loading  D:/YuLab/Work/GPS/Video/Naveed/GPS_09_KornblumHold1500SRTSelf/20231221/Top/Clips/Naveed_20231221_HoldTrial058_TopView.avi and data.\n",
      "Loading  D:/YuLab/Work/GPS/Video/Naveed/GPS_09_KornblumHold1500SRTSelf/20231221/Top/Clips/Naveed_20231221_HoldTrial059_TopView.avi and data.\n",
      "Loading  D:/YuLab/Work/GPS/Video/Naveed/GPS_09_KornblumHold1500SRTSelf/20231221/Top/Clips/Naveed_20231221_HoldTrial060_TopView.avi and data.\n",
      "Loading  D:/YuLab/Work/GPS/Video/Naveed/GPS_09_KornblumHold1500SRTSelf/20231221/Top/Clips/Naveed_20231221_HoldTrial061_TopView.avi and data.\n",
      "Loading  D:/YuLab/Work/GPS/Video/Naveed/GPS_09_KornblumHold1500SRTSelf/20231221/Top/Clips/Naveed_20231221_HoldTrial062_TopView.avi and data.\n",
      "Loading  D:/YuLab/Work/GPS/Video/Naveed/GPS_09_KornblumHold1500SRTSelf/20231221/Top/Clips/Naveed_20231221_HoldTrial063_TopView.avi and data.\n",
      "Loading  D:/YuLab/Work/GPS/Video/Naveed/GPS_09_KornblumHold1500SRTSelf/20231221/Top/Clips/Naveed_20231221_HoldTrial064_TopView.avi and data.\n",
      "Loading  D:/YuLab/Work/GPS/Video/Naveed/GPS_09_KornblumHold1500SRTSelf/20231221/Top/Clips/Naveed_20231221_HoldTrial065_TopView.avi and data.\n",
      "Loading  D:/YuLab/Work/GPS/Video/Naveed/GPS_09_KornblumHold1500SRTSelf/20231221/Top/Clips/Naveed_20231221_HoldTrial066_TopView.avi and data.\n",
      "Loading  D:/YuLab/Work/GPS/Video/Naveed/GPS_09_KornblumHold1500SRTSelf/20231221/Top/Clips/Naveed_20231221_HoldTrial067_TopView.avi and data.\n",
      "Loading  D:/YuLab/Work/GPS/Video/Naveed/GPS_09_KornblumHold1500SRTSelf/20231221/Top/Clips/Naveed_20231221_HoldTrial068_TopView.avi and data.\n",
      "Loading  D:/YuLab/Work/GPS/Video/Naveed/GPS_09_KornblumHold1500SRTSelf/20231221/Top/Clips/Naveed_20231221_HoldTrial069_TopView.avi and data.\n",
      "Loading  D:/YuLab/Work/GPS/Video/Naveed/GPS_09_KornblumHold1500SRTSelf/20231221/Top/Clips/Naveed_20231221_HoldTrial070_TopView.avi and data.\n",
      "Loading  D:/YuLab/Work/GPS/Video/Naveed/GPS_09_KornblumHold1500SRTSelf/20231221/Top/Clips/Naveed_20231221_HoldTrial071_TopView.avi and data.\n",
      "Loading  D:/YuLab/Work/GPS/Video/Naveed/GPS_09_KornblumHold1500SRTSelf/20231221/Top/Clips/Naveed_20231221_HoldTrial072_TopView.avi and data.\n",
      "Loading  D:/YuLab/Work/GPS/Video/Naveed/GPS_09_KornblumHold1500SRTSelf/20231221/Top/Clips/Naveed_20231221_HoldTrial073_TopView.avi and data.\n",
      "Loading  D:/YuLab/Work/GPS/Video/Naveed/GPS_09_KornblumHold1500SRTSelf/20231221/Top/Clips/Naveed_20231221_HoldTrial074_TopView.avi and data.\n",
      "Loading  D:/YuLab/Work/GPS/Video/Naveed/GPS_09_KornblumHold1500SRTSelf/20231221/Top/Clips/Naveed_20231221_HoldTrial075_TopView.avi and data.\n",
      "Loading  D:/YuLab/Work/GPS/Video/Naveed/GPS_09_KornblumHold1500SRTSelf/20231221/Top/Clips/Naveed_20231221_HoldTrial076_TopView.avi and data.\n",
      "Loading  D:/YuLab/Work/GPS/Video/Naveed/GPS_09_KornblumHold1500SRTSelf/20231221/Top/Clips/Naveed_20231221_HoldTrial077_TopView.avi and data.\n",
      "Loading  D:/YuLab/Work/GPS/Video/Naveed/GPS_09_KornblumHold1500SRTSelf/20231221/Top/Clips/Naveed_20231221_HoldTrial078_TopView.avi and data.\n",
      "Loading  D:/YuLab/Work/GPS/Video/Naveed/GPS_09_KornblumHold1500SRTSelf/20231221/Top/Clips/Naveed_20231221_HoldTrial079_TopView.avi and data.\n",
      "Loading  D:/YuLab/Work/GPS/Video/Naveed/GPS_09_KornblumHold1500SRTSelf/20231221/Top/Clips/Naveed_20231221_HoldTrial080_TopView.avi and data.\n",
      "Loading  D:/YuLab/Work/GPS/Video/Naveed/GPS_09_KornblumHold1500SRTSelf/20231221/Top/Clips/Naveed_20231221_HoldTrial081_TopView.avi and data.\n",
      "Loading  D:/YuLab/Work/GPS/Video/Naveed/GPS_09_KornblumHold1500SRTSelf/20231221/Top/Clips/Naveed_20231221_HoldTrial082_TopView.avi and data.\n",
      "Loading  D:/YuLab/Work/GPS/Video/Naveed/GPS_09_KornblumHold1500SRTSelf/20231221/Top/Clips/Naveed_20231221_HoldTrial083_TopView.avi and data.\n",
      "Loading  D:/YuLab/Work/GPS/Video/Naveed/GPS_09_KornblumHold1500SRTSelf/20231221/Top/Clips/Naveed_20231221_HoldTrial084_TopView.avi and data.\n",
      "Loading  D:/YuLab/Work/GPS/Video/Naveed/GPS_09_KornblumHold1500SRTSelf/20231221/Top/Clips/Naveed_20231221_HoldTrial085_TopView.avi and data.\n",
      "Loading  D:/YuLab/Work/GPS/Video/Naveed/GPS_09_KornblumHold1500SRTSelf/20231221/Top/Clips/Naveed_20231221_HoldTrial086_TopView.avi and data.\n",
      "Loading  D:/YuLab/Work/GPS/Video/Naveed/GPS_09_KornblumHold1500SRTSelf/20231221/Top/Clips/Naveed_20231221_HoldTrial087_TopView.avi and data.\n",
      "Loading  D:/YuLab/Work/GPS/Video/Naveed/GPS_09_KornblumHold1500SRTSelf/20231221/Top/Clips/Naveed_20231221_HoldTrial088_TopView.avi and data.\n",
      "Loading  D:/YuLab/Work/GPS/Video/Naveed/GPS_09_KornblumHold1500SRTSelf/20231221/Top/Clips/Naveed_20231221_HoldTrial089_TopView.avi and data.\n",
      "Loading  D:/YuLab/Work/GPS/Video/Naveed/GPS_09_KornblumHold1500SRTSelf/20231221/Top/Clips/Naveed_20231221_HoldTrial090_TopView.avi and data.\n",
      "Loading  D:/YuLab/Work/GPS/Video/Naveed/GPS_09_KornblumHold1500SRTSelf/20231221/Top/Clips/Naveed_20231221_HoldTrial091_TopView.avi and data.\n",
      "Loading  D:/YuLab/Work/GPS/Video/Naveed/GPS_09_KornblumHold1500SRTSelf/20231221/Top/Clips/Naveed_20231221_HoldTrial092_TopView.avi and data.\n",
      "Loading  D:/YuLab/Work/GPS/Video/Naveed/GPS_09_KornblumHold1500SRTSelf/20231221/Top/Clips/Naveed_20231221_HoldTrial093_TopView.avi and data.\n",
      "Loading  D:/YuLab/Work/GPS/Video/Naveed/GPS_09_KornblumHold1500SRTSelf/20231221/Top/Clips/Naveed_20231221_HoldTrial094_TopView.avi and data.\n",
      "Loading  D:/YuLab/Work/GPS/Video/Naveed/GPS_09_KornblumHold1500SRTSelf/20231221/Top/Clips/Naveed_20231221_HoldTrial095_TopView.avi and data.\n",
      "Loading  D:/YuLab/Work/GPS/Video/Naveed/GPS_09_KornblumHold1500SRTSelf/20231221/Top/Clips/Naveed_20231221_HoldTrial096_TopView.avi and data.\n",
      "Loading  D:/YuLab/Work/GPS/Video/Naveed/GPS_09_KornblumHold1500SRTSelf/20231221/Top/Clips/Naveed_20231221_HoldTrial097_TopView.avi and data.\n",
      "Loading  D:/YuLab/Work/GPS/Video/Naveed/GPS_09_KornblumHold1500SRTSelf/20231221/Top/Clips/Naveed_20231221_HoldTrial098_TopView.avi and data.\n",
      "Loading  D:/YuLab/Work/GPS/Video/Naveed/GPS_09_KornblumHold1500SRTSelf/20231221/Top/Clips/Naveed_20231221_HoldTrial099_TopView.avi and data.\n",
      "Loading  D:/YuLab/Work/GPS/Video/Naveed/GPS_09_KornblumHold1500SRTSelf/20231221/Top/Clips/Naveed_20231221_HoldTrial100_TopView.avi and data.\n",
      "Loading  D:/YuLab/Work/GPS/Video/Naveed/GPS_09_KornblumHold1500SRTSelf/20231221/Top/Clips/Naveed_20231221_HoldTrial101_TopView.avi and data.\n",
      "Loading  D:/YuLab/Work/GPS/Video/Naveed/GPS_09_KornblumHold1500SRTSelf/20231221/Top/Clips/Naveed_20231221_HoldTrial102_TopView.avi and data.\n",
      "Loading  D:/YuLab/Work/GPS/Video/Naveed/GPS_09_KornblumHold1500SRTSelf/20231221/Top/Clips/Naveed_20231221_HoldTrial103_TopView.avi and data.\n",
      "Loading  D:/YuLab/Work/GPS/Video/Naveed/GPS_09_KornblumHold1500SRTSelf/20231221/Top/Clips/Naveed_20231221_HoldTrial104_TopView.avi and data.\n",
      "Loading  D:/YuLab/Work/GPS/Video/Naveed/GPS_09_KornblumHold1500SRTSelf/20231221/Top/Clips/Naveed_20231221_HoldTrial105_TopView.avi and data.\n",
      "Loading  D:/YuLab/Work/GPS/Video/Naveed/GPS_09_KornblumHold1500SRTSelf/20231221/Top/Clips/Naveed_20231221_HoldTrial106_TopView.avi and data.\n",
      "Loading  D:/YuLab/Work/GPS/Video/Naveed/GPS_09_KornblumHold1500SRTSelf/20231221/Top/Clips/Naveed_20231221_HoldTrial107_TopView.avi and data.\n",
      "Loading  D:/YuLab/Work/GPS/Video/Naveed/GPS_09_KornblumHold1500SRTSelf/20231221/Top/Clips/Naveed_20231221_HoldTrial108_TopView.avi and data.\n",
      "Loading  D:/YuLab/Work/GPS/Video/Naveed/GPS_09_KornblumHold1500SRTSelf/20231221/Top/Clips/Naveed_20231221_HoldTrial109_TopView.avi and data.\n",
      "Loading  D:/YuLab/Work/GPS/Video/Naveed/GPS_09_KornblumHold1500SRTSelf/20231221/Top/Clips/Naveed_20231221_HoldTrial110_TopView.avi and data.\n",
      "Loading  D:/YuLab/Work/GPS/Video/Naveed/GPS_09_KornblumHold1500SRTSelf/20231221/Top/Clips/Naveed_20231221_HoldTrial111_TopView.avi and data.\n",
      "Loading  D:/YuLab/Work/GPS/Video/Naveed/GPS_09_KornblumHold1500SRTSelf/20231221/Top/Clips/Naveed_20231221_HoldTrial112_TopView.avi and data.\n",
      "Loading  D:/YuLab/Work/GPS/Video/Naveed/GPS_09_KornblumHold1500SRTSelf/20231221/Top/Clips/Naveed_20231221_HoldTrial113_TopView.avi and data.\n",
      "Loading  D:/YuLab/Work/GPS/Video/Naveed/GPS_09_KornblumHold1500SRTSelf/20231221/Top/Clips/Naveed_20231221_HoldTrial114_TopView.avi and data.\n",
      "Loading  D:/YuLab/Work/GPS/Video/Naveed/GPS_09_KornblumHold1500SRTSelf/20231221/Top/Clips/Naveed_20231221_HoldTrial115_TopView.avi and data.\n",
      "Loading  D:/YuLab/Work/GPS/Video/Naveed/GPS_09_KornblumHold1500SRTSelf/20231221/Top/Clips/Naveed_20231221_HoldTrial116_TopView.avi and data.\n",
      "Loading  D:/YuLab/Work/GPS/Video/Naveed/GPS_09_KornblumHold1500SRTSelf/20231221/Top/Clips/Naveed_20231221_HoldTrial117_TopView.avi and data.\n",
      "Loading  D:/YuLab/Work/GPS/Video/Naveed/GPS_09_KornblumHold1500SRTSelf/20231221/Top/Clips/Naveed_20231221_HoldTrial118_TopView.avi and data.\n",
      "Loading  D:/YuLab/Work/GPS/Video/Naveed/GPS_09_KornblumHold1500SRTSelf/20231221/Top/Clips/Naveed_20231221_HoldTrial119_TopView.avi and data.\n",
      "Loading  D:/YuLab/Work/GPS/Video/Naveed/GPS_09_KornblumHold1500SRTSelf/20231221/Top/Clips/Naveed_20231221_HoldTrial120_TopView.avi and data.\n",
      "Loading  D:/YuLab/Work/GPS/Video/Naveed/GPS_09_KornblumHold1500SRTSelf/20231221/Top/Clips/Naveed_20231221_HoldTrial121_TopView.avi and data.\n",
      "Loading  D:/YuLab/Work/GPS/Video/Naveed/GPS_09_KornblumHold1500SRTSelf/20231221/Top/Clips/Naveed_20231221_HoldTrial122_TopView.avi and data.\n",
      "Loading  D:/YuLab/Work/GPS/Video/Naveed/GPS_09_KornblumHold1500SRTSelf/20231221/Top/Clips/Naveed_20231221_HoldTrial123_TopView.avi and data.\n",
      "Loading  D:/YuLab/Work/GPS/Video/Naveed/GPS_09_KornblumHold1500SRTSelf/20231221/Top/Clips/Naveed_20231221_HoldTrial124_TopView.avi and data.\n",
      "Loading  D:/YuLab/Work/GPS/Video/Naveed/GPS_09_KornblumHold1500SRTSelf/20231221/Top/Clips/Naveed_20231221_HoldTrial125_TopView.avi and data.\n",
      "Loading  D:/YuLab/Work/GPS/Video/Naveed/GPS_09_KornblumHold1500SRTSelf/20231221/Top/Clips/Naveed_20231221_HoldTrial126_TopView.avi and data.\n",
      "Loading  D:/YuLab/Work/GPS/Video/Naveed/GPS_09_KornblumHold1500SRTSelf/20231221/Top/Clips/Naveed_20231221_HoldTrial127_TopView.avi and data.\n",
      "Loading  D:/YuLab/Work/GPS/Video/Naveed/GPS_09_KornblumHold1500SRTSelf/20231221/Top/Clips/Naveed_20231221_HoldTrial128_TopView.avi and data.\n",
      "Loading  D:/YuLab/Work/GPS/Video/Naveed/GPS_09_KornblumHold1500SRTSelf/20231221/Top/Clips/Naveed_20231221_HoldTrial129_TopView.avi and data.\n",
      "Loading  D:/YuLab/Work/GPS/Video/Naveed/GPS_09_KornblumHold1500SRTSelf/20231221/Top/Clips/Naveed_20231221_HoldTrial130_TopView.avi and data.\n",
      "Loading  D:/YuLab/Work/GPS/Video/Naveed/GPS_09_KornblumHold1500SRTSelf/20231221/Top/Clips/Naveed_20231221_HoldTrial131_TopView.avi and data.\n",
      "Loading  D:/YuLab/Work/GPS/Video/Naveed/GPS_09_KornblumHold1500SRTSelf/20231221/Top/Clips/Naveed_20231221_HoldTrial132_TopView.avi and data.\n",
      "Loading  D:/YuLab/Work/GPS/Video/Naveed/GPS_09_KornblumHold1500SRTSelf/20231221/Top/Clips/Naveed_20231221_HoldTrial133_TopView.avi and data.\n",
      "Loading  D:/YuLab/Work/GPS/Video/Naveed/GPS_09_KornblumHold1500SRTSelf/20231221/Top/Clips/Naveed_20231221_HoldTrial134_TopView.avi and data.\n",
      "Loading  D:/YuLab/Work/GPS/Video/Naveed/GPS_09_KornblumHold1500SRTSelf/20231221/Top/Clips/Naveed_20231221_HoldTrial135_TopView.avi and data.\n",
      "Loading  D:/YuLab/Work/GPS/Video/Naveed/GPS_09_KornblumHold1500SRTSelf/20231221/Top/Clips/Naveed_20231221_HoldTrial136_TopView.avi and data.\n",
      "Loading  D:/YuLab/Work/GPS/Video/Naveed/GPS_09_KornblumHold1500SRTSelf/20231221/Top/Clips/Naveed_20231221_HoldTrial137_TopView.avi and data.\n",
      "Loading  D:/YuLab/Work/GPS/Video/Naveed/GPS_09_KornblumHold1500SRTSelf/20231221/Top/Clips/Naveed_20231221_HoldTrial138_TopView.avi and data.\n",
      "Loading  D:/YuLab/Work/GPS/Video/Naveed/GPS_09_KornblumHold1500SRTSelf/20231221/Top/Clips/Naveed_20231221_HoldTrial139_TopView.avi and data.\n",
      "Loading  D:/YuLab/Work/GPS/Video/Naveed/GPS_09_KornblumHold1500SRTSelf/20231221/Top/Clips/Naveed_20231221_HoldTrial140_TopView.avi and data.\n",
      "Loading  D:/YuLab/Work/GPS/Video/Naveed/GPS_09_KornblumHold1500SRTSelf/20231221/Top/Clips/Naveed_20231221_HoldTrial141_TopView.avi and data.\n",
      "Loading  D:/YuLab/Work/GPS/Video/Naveed/GPS_09_KornblumHold1500SRTSelf/20231221/Top/Clips/Naveed_20231221_HoldTrial142_TopView.avi and data.\n",
      "Loading  D:/YuLab/Work/GPS/Video/Naveed/GPS_09_KornblumHold1500SRTSelf/20231221/Top/Clips/Naveed_20231221_HoldTrial143_TopView.avi and data.\n",
      "Loading  D:/YuLab/Work/GPS/Video/Naveed/GPS_09_KornblumHold1500SRTSelf/20231221/Top/Clips/Naveed_20231221_HoldTrial144_TopView.avi and data.\n",
      "Loading  D:/YuLab/Work/GPS/Video/Naveed/GPS_09_KornblumHold1500SRTSelf/20231221/Top/Clips/Naveed_20231221_HoldTrial145_TopView.avi and data.\n",
      "Loading  D:/YuLab/Work/GPS/Video/Naveed/GPS_09_KornblumHold1500SRTSelf/20231221/Top/Clips/Naveed_20231221_HoldTrial146_TopView.avi and data.\n",
      "Loading  D:/YuLab/Work/GPS/Video/Naveed/GPS_09_KornblumHold1500SRTSelf/20231221/Top/Clips/Naveed_20231221_HoldTrial147_TopView.avi and data.\n",
      "Loading  D:/YuLab/Work/GPS/Video/Naveed/GPS_09_KornblumHold1500SRTSelf/20231221/Top/Clips/Naveed_20231221_HoldTrial148_TopView.avi and data.\n",
      "Loading  D:/YuLab/Work/GPS/Video/Naveed/GPS_09_KornblumHold1500SRTSelf/20231221/Top/Clips/Naveed_20231221_HoldTrial149_TopView.avi and data.\n",
      "Loading  D:/YuLab/Work/GPS/Video/Naveed/GPS_09_KornblumHold1500SRTSelf/20231221/Top/Clips/Naveed_20231221_HoldTrial150_TopView.avi and data.\n",
      "Loading  D:/YuLab/Work/GPS/Video/Naveed/GPS_09_KornblumHold1500SRTSelf/20231221/Top/Clips/Naveed_20231221_HoldTrial151_TopView.avi and data.\n",
      "Loading  D:/YuLab/Work/GPS/Video/Naveed/GPS_09_KornblumHold1500SRTSelf/20231221/Top/Clips/Naveed_20231221_HoldTrial152_TopView.avi and data.\n",
      "Loading  D:/YuLab/Work/GPS/Video/Naveed/GPS_09_KornblumHold1500SRTSelf/20231223/Top/Clips/Naveed_20231223_HoldTrial013_TopView.avi and data.\n",
      "Loading  D:/YuLab/Work/GPS/Video/Naveed/GPS_09_KornblumHold1500SRTSelf/20231223/Top/Clips/Naveed_20231223_HoldTrial014_TopView.avi and data.\n",
      "Loading  D:/YuLab/Work/GPS/Video/Naveed/GPS_09_KornblumHold1500SRTSelf/20231223/Top/Clips/Naveed_20231223_HoldTrial015_TopView.avi and data.\n",
      "Loading  D:/YuLab/Work/GPS/Video/Naveed/GPS_09_KornblumHold1500SRTSelf/20231223/Top/Clips/Naveed_20231223_HoldTrial016_TopView.avi and data.\n",
      "Loading  D:/YuLab/Work/GPS/Video/Naveed/GPS_09_KornblumHold1500SRTSelf/20231223/Top/Clips/Naveed_20231223_HoldTrial017_TopView.avi and data.\n",
      "Loading  D:/YuLab/Work/GPS/Video/Naveed/GPS_09_KornblumHold1500SRTSelf/20231223/Top/Clips/Naveed_20231223_HoldTrial018_TopView.avi and data.\n",
      "Loading  D:/YuLab/Work/GPS/Video/Naveed/GPS_09_KornblumHold1500SRTSelf/20231223/Top/Clips/Naveed_20231223_HoldTrial019_TopView.avi and data.\n",
      "Loading  D:/YuLab/Work/GPS/Video/Naveed/GPS_09_KornblumHold1500SRTSelf/20231223/Top/Clips/Naveed_20231223_HoldTrial020_TopView.avi and data.\n",
      "Loading  D:/YuLab/Work/GPS/Video/Naveed/GPS_09_KornblumHold1500SRTSelf/20231223/Top/Clips/Naveed_20231223_HoldTrial021_TopView.avi and data.\n",
      "Loading  D:/YuLab/Work/GPS/Video/Naveed/GPS_09_KornblumHold1500SRTSelf/20231223/Top/Clips/Naveed_20231223_HoldTrial022_TopView.avi and data.\n",
      "Loading  D:/YuLab/Work/GPS/Video/Naveed/GPS_09_KornblumHold1500SRTSelf/20231223/Top/Clips/Naveed_20231223_HoldTrial023_TopView.avi and data.\n",
      "Loading  D:/YuLab/Work/GPS/Video/Naveed/GPS_09_KornblumHold1500SRTSelf/20231223/Top/Clips/Naveed_20231223_HoldTrial024_TopView.avi and data.\n",
      "Loading  D:/YuLab/Work/GPS/Video/Naveed/GPS_09_KornblumHold1500SRTSelf/20231223/Top/Clips/Naveed_20231223_HoldTrial025_TopView.avi and data.\n",
      "Loading  D:/YuLab/Work/GPS/Video/Naveed/GPS_09_KornblumHold1500SRTSelf/20231223/Top/Clips/Naveed_20231223_HoldTrial026_TopView.avi and data.\n",
      "Loading  D:/YuLab/Work/GPS/Video/Naveed/GPS_09_KornblumHold1500SRTSelf/20231223/Top/Clips/Naveed_20231223_HoldTrial027_TopView.avi and data.\n",
      "Loading  D:/YuLab/Work/GPS/Video/Naveed/GPS_09_KornblumHold1500SRTSelf/20231223/Top/Clips/Naveed_20231223_HoldTrial028_TopView.avi and data.\n",
      "Loading  D:/YuLab/Work/GPS/Video/Naveed/GPS_09_KornblumHold1500SRTSelf/20231223/Top/Clips/Naveed_20231223_HoldTrial029_TopView.avi and data.\n",
      "Loading  D:/YuLab/Work/GPS/Video/Naveed/GPS_09_KornblumHold1500SRTSelf/20231223/Top/Clips/Naveed_20231223_HoldTrial030_TopView.avi and data.\n",
      "Loading  D:/YuLab/Work/GPS/Video/Naveed/GPS_09_KornblumHold1500SRTSelf/20231223/Top/Clips/Naveed_20231223_HoldTrial031_TopView.avi and data.\n",
      "Loading  D:/YuLab/Work/GPS/Video/Naveed/GPS_09_KornblumHold1500SRTSelf/20231223/Top/Clips/Naveed_20231223_HoldTrial032_TopView.avi and data.\n",
      "Loading  D:/YuLab/Work/GPS/Video/Naveed/GPS_09_KornblumHold1500SRTSelf/20231223/Top/Clips/Naveed_20231223_HoldTrial033_TopView.avi and data.\n",
      "Loading  D:/YuLab/Work/GPS/Video/Naveed/GPS_09_KornblumHold1500SRTSelf/20231223/Top/Clips/Naveed_20231223_HoldTrial034_TopView.avi and data.\n",
      "Loading  D:/YuLab/Work/GPS/Video/Naveed/GPS_09_KornblumHold1500SRTSelf/20231223/Top/Clips/Naveed_20231223_HoldTrial035_TopView.avi and data.\n",
      "Loading  D:/YuLab/Work/GPS/Video/Naveed/GPS_09_KornblumHold1500SRTSelf/20231223/Top/Clips/Naveed_20231223_HoldTrial036_TopView.avi and data.\n",
      "Loading  D:/YuLab/Work/GPS/Video/Naveed/GPS_09_KornblumHold1500SRTSelf/20231223/Top/Clips/Naveed_20231223_HoldTrial037_TopView.avi and data.\n",
      "Loading  D:/YuLab/Work/GPS/Video/Naveed/GPS_09_KornblumHold1500SRTSelf/20231223/Top/Clips/Naveed_20231223_HoldTrial038_TopView.avi and data.\n",
      "Loading  D:/YuLab/Work/GPS/Video/Naveed/GPS_09_KornblumHold1500SRTSelf/20231223/Top/Clips/Naveed_20231223_HoldTrial039_TopView.avi and data.\n",
      "Loading  D:/YuLab/Work/GPS/Video/Naveed/GPS_09_KornblumHold1500SRTSelf/20231223/Top/Clips/Naveed_20231223_HoldTrial040_TopView.avi and data.\n",
      "Loading  D:/YuLab/Work/GPS/Video/Naveed/GPS_09_KornblumHold1500SRTSelf/20231223/Top/Clips/Naveed_20231223_HoldTrial041_TopView.avi and data.\n",
      "Loading  D:/YuLab/Work/GPS/Video/Naveed/GPS_09_KornblumHold1500SRTSelf/20231223/Top/Clips/Naveed_20231223_HoldTrial042_TopView.avi and data.\n",
      "Loading  D:/YuLab/Work/GPS/Video/Naveed/GPS_09_KornblumHold1500SRTSelf/20231223/Top/Clips/Naveed_20231223_HoldTrial043_TopView.avi and data.\n",
      "Loading  D:/YuLab/Work/GPS/Video/Naveed/GPS_09_KornblumHold1500SRTSelf/20231223/Top/Clips/Naveed_20231223_HoldTrial044_TopView.avi and data.\n",
      "Loading  D:/YuLab/Work/GPS/Video/Naveed/GPS_09_KornblumHold1500SRTSelf/20231223/Top/Clips/Naveed_20231223_HoldTrial045_TopView.avi and data.\n",
      "Loading  D:/YuLab/Work/GPS/Video/Naveed/GPS_09_KornblumHold1500SRTSelf/20231223/Top/Clips/Naveed_20231223_HoldTrial046_TopView.avi and data.\n",
      "Loading  D:/YuLab/Work/GPS/Video/Naveed/GPS_09_KornblumHold1500SRTSelf/20231223/Top/Clips/Naveed_20231223_HoldTrial047_TopView.avi and data.\n",
      "Loading  D:/YuLab/Work/GPS/Video/Naveed/GPS_09_KornblumHold1500SRTSelf/20231223/Top/Clips/Naveed_20231223_HoldTrial048_TopView.avi and data.\n",
      "Loading  D:/YuLab/Work/GPS/Video/Naveed/GPS_09_KornblumHold1500SRTSelf/20231223/Top/Clips/Naveed_20231223_HoldTrial049_TopView.avi and data.\n",
      "Loading  D:/YuLab/Work/GPS/Video/Naveed/GPS_09_KornblumHold1500SRTSelf/20231223/Top/Clips/Naveed_20231223_HoldTrial050_TopView.avi and data.\n",
      "Loading  D:/YuLab/Work/GPS/Video/Naveed/GPS_09_KornblumHold1500SRTSelf/20231223/Top/Clips/Naveed_20231223_HoldTrial051_TopView.avi and data.\n",
      "Loading  D:/YuLab/Work/GPS/Video/Naveed/GPS_09_KornblumHold1500SRTSelf/20231223/Top/Clips/Naveed_20231223_HoldTrial052_TopView.avi and data.\n",
      "Loading  D:/YuLab/Work/GPS/Video/Naveed/GPS_09_KornblumHold1500SRTSelf/20231223/Top/Clips/Naveed_20231223_HoldTrial053_TopView.avi and data.\n",
      "Loading  D:/YuLab/Work/GPS/Video/Naveed/GPS_09_KornblumHold1500SRTSelf/20231223/Top/Clips/Naveed_20231223_HoldTrial054_TopView.avi and data.\n",
      "Loading  D:/YuLab/Work/GPS/Video/Naveed/GPS_09_KornblumHold1500SRTSelf/20231223/Top/Clips/Naveed_20231223_HoldTrial055_TopView.avi and data.\n",
      "Loading  D:/YuLab/Work/GPS/Video/Naveed/GPS_09_KornblumHold1500SRTSelf/20231223/Top/Clips/Naveed_20231223_HoldTrial056_TopView.avi and data.\n",
      "Loading  D:/YuLab/Work/GPS/Video/Naveed/GPS_09_KornblumHold1500SRTSelf/20231223/Top/Clips/Naveed_20231223_HoldTrial057_TopView.avi and data.\n",
      "Loading  D:/YuLab/Work/GPS/Video/Naveed/GPS_09_KornblumHold1500SRTSelf/20231223/Top/Clips/Naveed_20231223_HoldTrial058_TopView.avi and data.\n",
      "Loading  D:/YuLab/Work/GPS/Video/Naveed/GPS_09_KornblumHold1500SRTSelf/20231223/Top/Clips/Naveed_20231223_HoldTrial059_TopView.avi and data.\n",
      "Loading  D:/YuLab/Work/GPS/Video/Naveed/GPS_09_KornblumHold1500SRTSelf/20231223/Top/Clips/Naveed_20231223_HoldTrial060_TopView.avi and data.\n",
      "Loading  D:/YuLab/Work/GPS/Video/Naveed/GPS_09_KornblumHold1500SRTSelf/20231223/Top/Clips/Naveed_20231223_HoldTrial061_TopView.avi and data.\n",
      "Loading  D:/YuLab/Work/GPS/Video/Naveed/GPS_09_KornblumHold1500SRTSelf/20231223/Top/Clips/Naveed_20231223_HoldTrial062_TopView.avi and data.\n",
      "Loading  D:/YuLab/Work/GPS/Video/Naveed/GPS_09_KornblumHold1500SRTSelf/20231223/Top/Clips/Naveed_20231223_HoldTrial063_TopView.avi and data.\n",
      "Loading  D:/YuLab/Work/GPS/Video/Naveed/GPS_09_KornblumHold1500SRTSelf/20231223/Top/Clips/Naveed_20231223_HoldTrial064_TopView.avi and data.\n",
      "Loading  D:/YuLab/Work/GPS/Video/Naveed/GPS_09_KornblumHold1500SRTSelf/20231223/Top/Clips/Naveed_20231223_HoldTrial065_TopView.avi and data.\n",
      "Loading  D:/YuLab/Work/GPS/Video/Naveed/GPS_09_KornblumHold1500SRTSelf/20231223/Top/Clips/Naveed_20231223_HoldTrial066_TopView.avi and data.\n",
      "Loading  D:/YuLab/Work/GPS/Video/Naveed/GPS_09_KornblumHold1500SRTSelf/20231223/Top/Clips/Naveed_20231223_HoldTrial067_TopView.avi and data.\n",
      "Loading  D:/YuLab/Work/GPS/Video/Naveed/GPS_09_KornblumHold1500SRTSelf/20231223/Top/Clips/Naveed_20231223_HoldTrial068_TopView.avi and data.\n",
      "Loading  D:/YuLab/Work/GPS/Video/Naveed/GPS_09_KornblumHold1500SRTSelf/20231223/Top/Clips/Naveed_20231223_HoldTrial069_TopView.avi and data.\n",
      "Loading  D:/YuLab/Work/GPS/Video/Naveed/GPS_09_KornblumHold1500SRTSelf/20231223/Top/Clips/Naveed_20231223_HoldTrial070_TopView.avi and data.\n",
      "Loading  D:/YuLab/Work/GPS/Video/Naveed/GPS_09_KornblumHold1500SRTSelf/20231223/Top/Clips/Naveed_20231223_HoldTrial071_TopView.avi and data.\n",
      "Loading  D:/YuLab/Work/GPS/Video/Naveed/GPS_09_KornblumHold1500SRTSelf/20231223/Top/Clips/Naveed_20231223_HoldTrial072_TopView.avi and data.\n",
      "Loading  D:/YuLab/Work/GPS/Video/Naveed/GPS_09_KornblumHold1500SRTSelf/20231223/Top/Clips/Naveed_20231223_HoldTrial073_TopView.avi and data.\n",
      "Loading  D:/YuLab/Work/GPS/Video/Naveed/GPS_09_KornblumHold1500SRTSelf/20231223/Top/Clips/Naveed_20231223_HoldTrial074_TopView.avi and data.\n",
      "Loading  D:/YuLab/Work/GPS/Video/Naveed/GPS_09_KornblumHold1500SRTSelf/20231223/Top/Clips/Naveed_20231223_HoldTrial075_TopView.avi and data.\n",
      "Loading  D:/YuLab/Work/GPS/Video/Naveed/GPS_09_KornblumHold1500SRTSelf/20231223/Top/Clips/Naveed_20231223_HoldTrial076_TopView.avi and data.\n",
      "Loading  D:/YuLab/Work/GPS/Video/Naveed/GPS_09_KornblumHold1500SRTSelf/20231223/Top/Clips/Naveed_20231223_HoldTrial077_TopView.avi and data.\n",
      "Loading  D:/YuLab/Work/GPS/Video/Naveed/GPS_09_KornblumHold1500SRTSelf/20231223/Top/Clips/Naveed_20231223_HoldTrial078_TopView.avi and data.\n",
      "Loading  D:/YuLab/Work/GPS/Video/Naveed/GPS_09_KornblumHold1500SRTSelf/20231223/Top/Clips/Naveed_20231223_HoldTrial079_TopView.avi and data.\n",
      "Loading  D:/YuLab/Work/GPS/Video/Naveed/GPS_09_KornblumHold1500SRTSelf/20231223/Top/Clips/Naveed_20231223_HoldTrial080_TopView.avi and data.\n",
      "Loading  D:/YuLab/Work/GPS/Video/Naveed/GPS_09_KornblumHold1500SRTSelf/20231223/Top/Clips/Naveed_20231223_HoldTrial081_TopView.avi and data.\n",
      "Loading  D:/YuLab/Work/GPS/Video/Naveed/GPS_09_KornblumHold1500SRTSelf/20231223/Top/Clips/Naveed_20231223_HoldTrial082_TopView.avi and data.\n",
      "Loading  D:/YuLab/Work/GPS/Video/Naveed/GPS_09_KornblumHold1500SRTSelf/20231223/Top/Clips/Naveed_20231223_HoldTrial083_TopView.avi and data.\n",
      "Loading  D:/YuLab/Work/GPS/Video/Naveed/GPS_09_KornblumHold1500SRTSelf/20231223/Top/Clips/Naveed_20231223_HoldTrial084_TopView.avi and data.\n",
      "Loading  D:/YuLab/Work/GPS/Video/Naveed/GPS_09_KornblumHold1500SRTSelf/20231223/Top/Clips/Naveed_20231223_HoldTrial085_TopView.avi and data.\n",
      "Loading  D:/YuLab/Work/GPS/Video/Naveed/GPS_09_KornblumHold1500SRTSelf/20231223/Top/Clips/Naveed_20231223_HoldTrial086_TopView.avi and data.\n",
      "Loading  D:/YuLab/Work/GPS/Video/Naveed/GPS_09_KornblumHold1500SRTSelf/20231223/Top/Clips/Naveed_20231223_HoldTrial087_TopView.avi and data.\n",
      "Loading  D:/YuLab/Work/GPS/Video/Naveed/GPS_09_KornblumHold1500SRTSelf/20231223/Top/Clips/Naveed_20231223_HoldTrial088_TopView.avi and data.\n",
      "Loading  D:/YuLab/Work/GPS/Video/Naveed/GPS_09_KornblumHold1500SRTSelf/20231223/Top/Clips/Naveed_20231223_HoldTrial089_TopView.avi and data.\n",
      "Loading  D:/YuLab/Work/GPS/Video/Naveed/GPS_09_KornblumHold1500SRTSelf/20231223/Top/Clips/Naveed_20231223_HoldTrial090_TopView.avi and data.\n",
      "Loading  D:/YuLab/Work/GPS/Video/Naveed/GPS_09_KornblumHold1500SRTSelf/20231223/Top/Clips/Naveed_20231223_HoldTrial091_TopView.avi and data.\n",
      "Loading  D:/YuLab/Work/GPS/Video/Naveed/GPS_09_KornblumHold1500SRTSelf/20231223/Top/Clips/Naveed_20231223_HoldTrial092_TopView.avi and data.\n",
      "Loading  D:/YuLab/Work/GPS/Video/Naveed/GPS_09_KornblumHold1500SRTSelf/20231223/Top/Clips/Naveed_20231223_HoldTrial093_TopView.avi and data.\n",
      "Loading  D:/YuLab/Work/GPS/Video/Naveed/GPS_09_KornblumHold1500SRTSelf/20231223/Top/Clips/Naveed_20231223_HoldTrial094_TopView.avi and data.\n",
      "Loading  D:/YuLab/Work/GPS/Video/Naveed/GPS_09_KornblumHold1500SRTSelf/20231223/Top/Clips/Naveed_20231223_HoldTrial095_TopView.avi and data.\n",
      "Loading  D:/YuLab/Work/GPS/Video/Naveed/GPS_09_KornblumHold1500SRTSelf/20231223/Top/Clips/Naveed_20231223_HoldTrial096_TopView.avi and data.\n",
      "Loading  D:/YuLab/Work/GPS/Video/Naveed/GPS_09_KornblumHold1500SRTSelf/20231223/Top/Clips/Naveed_20231223_HoldTrial097_TopView.avi and data.\n",
      "Loading  D:/YuLab/Work/GPS/Video/Naveed/GPS_09_KornblumHold1500SRTSelf/20231223/Top/Clips/Naveed_20231223_HoldTrial098_TopView.avi and data.\n",
      "Loading  D:/YuLab/Work/GPS/Video/Naveed/GPS_09_KornblumHold1500SRTSelf/20231223/Top/Clips/Naveed_20231223_HoldTrial099_TopView.avi and data.\n",
      "Loading  D:/YuLab/Work/GPS/Video/Naveed/GPS_09_KornblumHold1500SRTSelf/20231223/Top/Clips/Naveed_20231223_HoldTrial100_TopView.avi and data.\n",
      "Loading  D:/YuLab/Work/GPS/Video/Naveed/GPS_09_KornblumHold1500SRTSelf/20231223/Top/Clips/Naveed_20231223_HoldTrial101_TopView.avi and data.\n",
      "Loading  D:/YuLab/Work/GPS/Video/Naveed/GPS_09_KornblumHold1500SRTSelf/20231223/Top/Clips/Naveed_20231223_HoldTrial102_TopView.avi and data.\n",
      "Loading  D:/YuLab/Work/GPS/Video/Naveed/GPS_09_KornblumHold1500SRTSelf/20231223/Top/Clips/Naveed_20231223_HoldTrial103_TopView.avi and data.\n",
      "Loading  D:/YuLab/Work/GPS/Video/Naveed/GPS_09_KornblumHold1500SRTSelf/20231223/Top/Clips/Naveed_20231223_HoldTrial104_TopView.avi and data.\n",
      "Loading  D:/YuLab/Work/GPS/Video/Naveed/GPS_09_KornblumHold1500SRTSelf/20231223/Top/Clips/Naveed_20231223_HoldTrial105_TopView.avi and data.\n",
      "Loading  D:/YuLab/Work/GPS/Video/Naveed/GPS_09_KornblumHold1500SRTSelf/20231223/Top/Clips/Naveed_20231223_HoldTrial106_TopView.avi and data.\n",
      "Loading  D:/YuLab/Work/GPS/Video/Naveed/GPS_09_KornblumHold1500SRTSelf/20231223/Top/Clips/Naveed_20231223_HoldTrial107_TopView.avi and data.\n",
      "Loading  D:/YuLab/Work/GPS/Video/Naveed/GPS_09_KornblumHold1500SRTSelf/20231223/Top/Clips/Naveed_20231223_HoldTrial108_TopView.avi and data.\n",
      "Loading  D:/YuLab/Work/GPS/Video/Naveed/GPS_09_KornblumHold1500SRTSelf/20231223/Top/Clips/Naveed_20231223_HoldTrial109_TopView.avi and data.\n",
      "Loading  D:/YuLab/Work/GPS/Video/Naveed/GPS_09_KornblumHold1500SRTSelf/20231223/Top/Clips/Naveed_20231223_HoldTrial110_TopView.avi and data.\n",
      "Loading  D:/YuLab/Work/GPS/Video/Naveed/GPS_09_KornblumHold1500SRTSelf/20231223/Top/Clips/Naveed_20231223_HoldTrial111_TopView.avi and data.\n",
      "Loading  D:/YuLab/Work/GPS/Video/Naveed/GPS_09_KornblumHold1500SRTSelf/20231223/Top/Clips/Naveed_20231223_HoldTrial112_TopView.avi and data.\n",
      "Loading  D:/YuLab/Work/GPS/Video/Naveed/GPS_09_KornblumHold1500SRTSelf/20231223/Top/Clips/Naveed_20231223_HoldTrial113_TopView.avi and data.\n",
      "Loading  D:/YuLab/Work/GPS/Video/Naveed/GPS_09_KornblumHold1500SRTSelf/20231223/Top/Clips/Naveed_20231223_HoldTrial114_TopView.avi and data.\n",
      "Loading  D:/YuLab/Work/GPS/Video/Naveed/GPS_09_KornblumHold1500SRTSelf/20231223/Top/Clips/Naveed_20231223_HoldTrial115_TopView.avi and data.\n",
      "Loading  D:/YuLab/Work/GPS/Video/Naveed/GPS_09_KornblumHold1500SRTSelf/20231223/Top/Clips/Naveed_20231223_HoldTrial116_TopView.avi and data.\n",
      "Loading  D:/YuLab/Work/GPS/Video/Naveed/GPS_09_KornblumHold1500SRTSelf/20231223/Top/Clips/Naveed_20231223_HoldTrial117_TopView.avi and data.\n",
      "Loading  D:/YuLab/Work/GPS/Video/Naveed/GPS_09_KornblumHold1500SRTSelf/20231223/Top/Clips/Naveed_20231223_HoldTrial118_TopView.avi and data.\n",
      "Loading  D:/YuLab/Work/GPS/Video/Naveed/GPS_09_KornblumHold1500SRTSelf/20231223/Top/Clips/Naveed_20231223_HoldTrial119_TopView.avi and data.\n",
      "Loading  D:/YuLab/Work/GPS/Video/Naveed/GPS_09_KornblumHold1500SRTSelf/20231223/Top/Clips/Naveed_20231223_HoldTrial120_TopView.avi and data.\n",
      "Loading  D:/YuLab/Work/GPS/Video/Naveed/GPS_09_KornblumHold1500SRTSelf/20231223/Top/Clips/Naveed_20231223_HoldTrial121_TopView.avi and data.\n",
      "Loading  D:/YuLab/Work/GPS/Video/Naveed/GPS_09_KornblumHold1500SRTSelf/20231223/Top/Clips/Naveed_20231223_HoldTrial122_TopView.avi and data.\n",
      "Loading  D:/YuLab/Work/GPS/Video/Naveed/GPS_09_KornblumHold1500SRTSelf/20231223/Top/Clips/Naveed_20231223_HoldTrial123_TopView.avi and data.\n",
      "Loading  D:/YuLab/Work/GPS/Video/Naveed/GPS_09_KornblumHold1500SRTSelf/20231223/Top/Clips/Naveed_20231223_HoldTrial124_TopView.avi and data.\n",
      "Loading  D:/YuLab/Work/GPS/Video/Naveed/GPS_09_KornblumHold1500SRTSelf/20231223/Top/Clips/Naveed_20231223_HoldTrial125_TopView.avi and data.\n",
      "Loading  D:/YuLab/Work/GPS/Video/Naveed/GPS_09_KornblumHold1500SRTSelf/20231223/Top/Clips/Naveed_20231223_HoldTrial126_TopView.avi and data.\n",
      "Loading  D:/YuLab/Work/GPS/Video/Naveed/GPS_09_KornblumHold1500SRTSelf/20231223/Top/Clips/Naveed_20231223_HoldTrial127_TopView.avi and data.\n",
      "Loading  D:/YuLab/Work/GPS/Video/Naveed/GPS_09_KornblumHold1500SRTSelf/20231223/Top/Clips/Naveed_20231223_HoldTrial128_TopView.avi and data.\n",
      "Loading  D:/YuLab/Work/GPS/Video/Naveed/GPS_09_KornblumHold1500SRTSelf/20231223/Top/Clips/Naveed_20231223_HoldTrial129_TopView.avi and data.\n",
      "Loading  D:/YuLab/Work/GPS/Video/Naveed/GPS_09_KornblumHold1500SRTSelf/20231223/Top/Clips/Naveed_20231223_HoldTrial130_TopView.avi and data.\n",
      "Loading  D:/YuLab/Work/GPS/Video/Naveed/GPS_09_KornblumHold1500SRTSelf/20231223/Top/Clips/Naveed_20231223_HoldTrial131_TopView.avi and data.\n",
      "Loading  D:/YuLab/Work/GPS/Video/Naveed/GPS_09_KornblumHold1500SRTSelf/20231223/Top/Clips/Naveed_20231223_HoldTrial132_TopView.avi and data.\n",
      "Loading  D:/YuLab/Work/GPS/Video/Naveed/GPS_09_KornblumHold1500SRTSelf/20231223/Top/Clips/Naveed_20231223_HoldTrial133_TopView.avi and data.\n",
      "Loading  D:/YuLab/Work/GPS/Video/Naveed/GPS_09_KornblumHold1500SRTSelf/20231223/Top/Clips/Naveed_20231223_HoldTrial134_TopView.avi and data.\n",
      "Loading  D:/YuLab/Work/GPS/Video/Naveed/GPS_09_KornblumHold1500SRTSelf/20231223/Top/Clips/Naveed_20231223_HoldTrial135_TopView.avi and data.\n",
      "Loading  D:/YuLab/Work/GPS/Video/Naveed/GPS_09_KornblumHold1500SRTSelf/20231223/Top/Clips/Naveed_20231223_HoldTrial136_TopView.avi and data.\n",
      "Loading  D:/YuLab/Work/GPS/Video/Naveed/GPS_09_KornblumHold1500SRTSelf/20231223/Top/Clips/Naveed_20231223_HoldTrial137_TopView.avi and data.\n",
      "Loading  D:/YuLab/Work/GPS/Video/Naveed/GPS_09_KornblumHold1500SRTSelf/20231223/Top/Clips/Naveed_20231223_HoldTrial138_TopView.avi and data.\n",
      "Loading  D:/YuLab/Work/GPS/Video/Naveed/GPS_09_KornblumHold1500SRTSelf/20231223/Top/Clips/Naveed_20231223_HoldTrial139_TopView.avi and data.\n",
      "Loading  D:/YuLab/Work/GPS/Video/Naveed/GPS_09_KornblumHold1500SRTSelf/20231223/Top/Clips/Naveed_20231223_HoldTrial140_TopView.avi and data.\n",
      "Loading  D:/YuLab/Work/GPS/Video/Naveed/GPS_09_KornblumHold1500SRTSelf/20231223/Top/Clips/Naveed_20231223_HoldTrial141_TopView.avi and data.\n",
      "Loading  D:/YuLab/Work/GPS/Video/Naveed/GPS_09_KornblumHold1500SRTSelf/20231224/Top/Clips/Naveed_20231224_HoldTrial012_TopView.avi and data.\n",
      "Loading  D:/YuLab/Work/GPS/Video/Naveed/GPS_09_KornblumHold1500SRTSelf/20231224/Top/Clips/Naveed_20231224_HoldTrial013_TopView.avi and data.\n",
      "Loading  D:/YuLab/Work/GPS/Video/Naveed/GPS_09_KornblumHold1500SRTSelf/20231224/Top/Clips/Naveed_20231224_HoldTrial014_TopView.avi and data.\n",
      "Loading  D:/YuLab/Work/GPS/Video/Naveed/GPS_09_KornblumHold1500SRTSelf/20231224/Top/Clips/Naveed_20231224_HoldTrial015_TopView.avi and data.\n",
      "Loading  D:/YuLab/Work/GPS/Video/Naveed/GPS_09_KornblumHold1500SRTSelf/20231224/Top/Clips/Naveed_20231224_HoldTrial016_TopView.avi and data.\n",
      "Loading  D:/YuLab/Work/GPS/Video/Naveed/GPS_09_KornblumHold1500SRTSelf/20231224/Top/Clips/Naveed_20231224_HoldTrial017_TopView.avi and data.\n",
      "Loading  D:/YuLab/Work/GPS/Video/Naveed/GPS_09_KornblumHold1500SRTSelf/20231224/Top/Clips/Naveed_20231224_HoldTrial018_TopView.avi and data.\n",
      "Loading  D:/YuLab/Work/GPS/Video/Naveed/GPS_09_KornblumHold1500SRTSelf/20231224/Top/Clips/Naveed_20231224_HoldTrial019_TopView.avi and data.\n",
      "Loading  D:/YuLab/Work/GPS/Video/Naveed/GPS_09_KornblumHold1500SRTSelf/20231224/Top/Clips/Naveed_20231224_HoldTrial020_TopView.avi and data.\n",
      "Loading  D:/YuLab/Work/GPS/Video/Naveed/GPS_09_KornblumHold1500SRTSelf/20231224/Top/Clips/Naveed_20231224_HoldTrial021_TopView.avi and data.\n",
      "Loading  D:/YuLab/Work/GPS/Video/Naveed/GPS_09_KornblumHold1500SRTSelf/20231224/Top/Clips/Naveed_20231224_HoldTrial022_TopView.avi and data.\n",
      "Loading  D:/YuLab/Work/GPS/Video/Naveed/GPS_09_KornblumHold1500SRTSelf/20231224/Top/Clips/Naveed_20231224_HoldTrial023_TopView.avi and data.\n",
      "Loading  D:/YuLab/Work/GPS/Video/Naveed/GPS_09_KornblumHold1500SRTSelf/20231224/Top/Clips/Naveed_20231224_HoldTrial024_TopView.avi and data.\n",
      "Loading  D:/YuLab/Work/GPS/Video/Naveed/GPS_09_KornblumHold1500SRTSelf/20231224/Top/Clips/Naveed_20231224_HoldTrial025_TopView.avi and data.\n",
      "Loading  D:/YuLab/Work/GPS/Video/Naveed/GPS_09_KornblumHold1500SRTSelf/20231224/Top/Clips/Naveed_20231224_HoldTrial026_TopView.avi and data.\n",
      "Loading  D:/YuLab/Work/GPS/Video/Naveed/GPS_09_KornblumHold1500SRTSelf/20231224/Top/Clips/Naveed_20231224_HoldTrial027_TopView.avi and data.\n",
      "Loading  D:/YuLab/Work/GPS/Video/Naveed/GPS_09_KornblumHold1500SRTSelf/20231224/Top/Clips/Naveed_20231224_HoldTrial028_TopView.avi and data.\n",
      "Loading  D:/YuLab/Work/GPS/Video/Naveed/GPS_09_KornblumHold1500SRTSelf/20231224/Top/Clips/Naveed_20231224_HoldTrial029_TopView.avi and data.\n",
      "Loading  D:/YuLab/Work/GPS/Video/Naveed/GPS_09_KornblumHold1500SRTSelf/20231224/Top/Clips/Naveed_20231224_HoldTrial030_TopView.avi and data.\n",
      "Loading  D:/YuLab/Work/GPS/Video/Naveed/GPS_09_KornblumHold1500SRTSelf/20231224/Top/Clips/Naveed_20231224_HoldTrial031_TopView.avi and data.\n",
      "Loading  D:/YuLab/Work/GPS/Video/Naveed/GPS_09_KornblumHold1500SRTSelf/20231224/Top/Clips/Naveed_20231224_HoldTrial032_TopView.avi and data.\n",
      "Loading  D:/YuLab/Work/GPS/Video/Naveed/GPS_09_KornblumHold1500SRTSelf/20231224/Top/Clips/Naveed_20231224_HoldTrial033_TopView.avi and data.\n",
      "Loading  D:/YuLab/Work/GPS/Video/Naveed/GPS_09_KornblumHold1500SRTSelf/20231224/Top/Clips/Naveed_20231224_HoldTrial034_TopView.avi and data.\n",
      "Loading  D:/YuLab/Work/GPS/Video/Naveed/GPS_09_KornblumHold1500SRTSelf/20231224/Top/Clips/Naveed_20231224_HoldTrial035_TopView.avi and data.\n",
      "Loading  D:/YuLab/Work/GPS/Video/Naveed/GPS_09_KornblumHold1500SRTSelf/20231224/Top/Clips/Naveed_20231224_HoldTrial036_TopView.avi and data.\n",
      "Loading  D:/YuLab/Work/GPS/Video/Naveed/GPS_09_KornblumHold1500SRTSelf/20231224/Top/Clips/Naveed_20231224_HoldTrial037_TopView.avi and data.\n",
      "Loading  D:/YuLab/Work/GPS/Video/Naveed/GPS_09_KornblumHold1500SRTSelf/20231224/Top/Clips/Naveed_20231224_HoldTrial038_TopView.avi and data.\n",
      "Loading  D:/YuLab/Work/GPS/Video/Naveed/GPS_09_KornblumHold1500SRTSelf/20231224/Top/Clips/Naveed_20231224_HoldTrial039_TopView.avi and data.\n",
      "Loading  D:/YuLab/Work/GPS/Video/Naveed/GPS_09_KornblumHold1500SRTSelf/20231224/Top/Clips/Naveed_20231224_HoldTrial040_TopView.avi and data.\n",
      "Loading  D:/YuLab/Work/GPS/Video/Naveed/GPS_09_KornblumHold1500SRTSelf/20231224/Top/Clips/Naveed_20231224_HoldTrial041_TopView.avi and data.\n",
      "Loading  D:/YuLab/Work/GPS/Video/Naveed/GPS_09_KornblumHold1500SRTSelf/20231224/Top/Clips/Naveed_20231224_HoldTrial042_TopView.avi and data.\n",
      "Loading  D:/YuLab/Work/GPS/Video/Naveed/GPS_09_KornblumHold1500SRTSelf/20231224/Top/Clips/Naveed_20231224_HoldTrial043_TopView.avi and data.\n",
      "Loading  D:/YuLab/Work/GPS/Video/Naveed/GPS_09_KornblumHold1500SRTSelf/20231224/Top/Clips/Naveed_20231224_HoldTrial044_TopView.avi and data.\n",
      "Loading  D:/YuLab/Work/GPS/Video/Naveed/GPS_09_KornblumHold1500SRTSelf/20231224/Top/Clips/Naveed_20231224_HoldTrial045_TopView.avi and data.\n",
      "Loading  D:/YuLab/Work/GPS/Video/Naveed/GPS_09_KornblumHold1500SRTSelf/20231224/Top/Clips/Naveed_20231224_HoldTrial046_TopView.avi and data.\n",
      "Loading  D:/YuLab/Work/GPS/Video/Naveed/GPS_09_KornblumHold1500SRTSelf/20231224/Top/Clips/Naveed_20231224_HoldTrial047_TopView.avi and data.\n",
      "Loading  D:/YuLab/Work/GPS/Video/Naveed/GPS_09_KornblumHold1500SRTSelf/20231224/Top/Clips/Naveed_20231224_HoldTrial048_TopView.avi and data.\n",
      "Loading  D:/YuLab/Work/GPS/Video/Naveed/GPS_09_KornblumHold1500SRTSelf/20231224/Top/Clips/Naveed_20231224_HoldTrial049_TopView.avi and data.\n",
      "Loading  D:/YuLab/Work/GPS/Video/Naveed/GPS_09_KornblumHold1500SRTSelf/20231224/Top/Clips/Naveed_20231224_HoldTrial050_TopView.avi and data.\n",
      "Loading  D:/YuLab/Work/GPS/Video/Naveed/GPS_09_KornblumHold1500SRTSelf/20231224/Top/Clips/Naveed_20231224_HoldTrial051_TopView.avi and data.\n",
      "Loading  D:/YuLab/Work/GPS/Video/Naveed/GPS_09_KornblumHold1500SRTSelf/20231224/Top/Clips/Naveed_20231224_HoldTrial052_TopView.avi and data.\n",
      "Loading  D:/YuLab/Work/GPS/Video/Naveed/GPS_09_KornblumHold1500SRTSelf/20231224/Top/Clips/Naveed_20231224_HoldTrial053_TopView.avi and data.\n",
      "Loading  D:/YuLab/Work/GPS/Video/Naveed/GPS_09_KornblumHold1500SRTSelf/20231224/Top/Clips/Naveed_20231224_HoldTrial054_TopView.avi and data.\n",
      "Loading  D:/YuLab/Work/GPS/Video/Naveed/GPS_09_KornblumHold1500SRTSelf/20231224/Top/Clips/Naveed_20231224_HoldTrial055_TopView.avi and data.\n",
      "Loading  D:/YuLab/Work/GPS/Video/Naveed/GPS_09_KornblumHold1500SRTSelf/20231224/Top/Clips/Naveed_20231224_HoldTrial056_TopView.avi and data.\n",
      "Loading  D:/YuLab/Work/GPS/Video/Naveed/GPS_09_KornblumHold1500SRTSelf/20231224/Top/Clips/Naveed_20231224_HoldTrial057_TopView.avi and data.\n",
      "Loading  D:/YuLab/Work/GPS/Video/Naveed/GPS_09_KornblumHold1500SRTSelf/20231224/Top/Clips/Naveed_20231224_HoldTrial058_TopView.avi and data.\n",
      "Loading  D:/YuLab/Work/GPS/Video/Naveed/GPS_09_KornblumHold1500SRTSelf/20231224/Top/Clips/Naveed_20231224_HoldTrial059_TopView.avi and data.\n",
      "Loading  D:/YuLab/Work/GPS/Video/Naveed/GPS_09_KornblumHold1500SRTSelf/20231224/Top/Clips/Naveed_20231224_HoldTrial060_TopView.avi and data.\n",
      "Loading  D:/YuLab/Work/GPS/Video/Naveed/GPS_09_KornblumHold1500SRTSelf/20231224/Top/Clips/Naveed_20231224_HoldTrial061_TopView.avi and data.\n",
      "Loading  D:/YuLab/Work/GPS/Video/Naveed/GPS_09_KornblumHold1500SRTSelf/20231224/Top/Clips/Naveed_20231224_HoldTrial062_TopView.avi and data.\n",
      "Loading  D:/YuLab/Work/GPS/Video/Naveed/GPS_09_KornblumHold1500SRTSelf/20231224/Top/Clips/Naveed_20231224_HoldTrial063_TopView.avi and data.\n",
      "Loading  D:/YuLab/Work/GPS/Video/Naveed/GPS_09_KornblumHold1500SRTSelf/20231224/Top/Clips/Naveed_20231224_HoldTrial064_TopView.avi and data.\n",
      "Loading  D:/YuLab/Work/GPS/Video/Naveed/GPS_09_KornblumHold1500SRTSelf/20231224/Top/Clips/Naveed_20231224_HoldTrial066_TopView.avi and data.\n",
      "Loading  D:/YuLab/Work/GPS/Video/Naveed/GPS_09_KornblumHold1500SRTSelf/20231224/Top/Clips/Naveed_20231224_HoldTrial067_TopView.avi and data.\n",
      "Loading  D:/YuLab/Work/GPS/Video/Naveed/GPS_09_KornblumHold1500SRTSelf/20231224/Top/Clips/Naveed_20231224_HoldTrial068_TopView.avi and data.\n",
      "Loading  D:/YuLab/Work/GPS/Video/Naveed/GPS_09_KornblumHold1500SRTSelf/20231224/Top/Clips/Naveed_20231224_HoldTrial069_TopView.avi and data.\n",
      "Loading  D:/YuLab/Work/GPS/Video/Naveed/GPS_09_KornblumHold1500SRTSelf/20231224/Top/Clips/Naveed_20231224_HoldTrial070_TopView.avi and data.\n",
      "Loading  D:/YuLab/Work/GPS/Video/Naveed/GPS_09_KornblumHold1500SRTSelf/20231224/Top/Clips/Naveed_20231224_HoldTrial071_TopView.avi and data.\n",
      "Loading  D:/YuLab/Work/GPS/Video/Naveed/GPS_09_KornblumHold1500SRTSelf/20231224/Top/Clips/Naveed_20231224_HoldTrial072_TopView.avi and data.\n",
      "Loading  D:/YuLab/Work/GPS/Video/Naveed/GPS_09_KornblumHold1500SRTSelf/20231224/Top/Clips/Naveed_20231224_HoldTrial073_TopView.avi and data.\n",
      "Loading  D:/YuLab/Work/GPS/Video/Naveed/GPS_09_KornblumHold1500SRTSelf/20231224/Top/Clips/Naveed_20231224_HoldTrial074_TopView.avi and data.\n",
      "Loading  D:/YuLab/Work/GPS/Video/Naveed/GPS_09_KornblumHold1500SRTSelf/20231224/Top/Clips/Naveed_20231224_HoldTrial075_TopView.avi and data.\n",
      "Loading  D:/YuLab/Work/GPS/Video/Naveed/GPS_09_KornblumHold1500SRTSelf/20231224/Top/Clips/Naveed_20231224_HoldTrial076_TopView.avi and data.\n",
      "Loading  D:/YuLab/Work/GPS/Video/Naveed/GPS_09_KornblumHold1500SRTSelf/20231224/Top/Clips/Naveed_20231224_HoldTrial077_TopView.avi and data.\n",
      "Loading  D:/YuLab/Work/GPS/Video/Naveed/GPS_09_KornblumHold1500SRTSelf/20231224/Top/Clips/Naveed_20231224_HoldTrial078_TopView.avi and data.\n",
      "Loading  D:/YuLab/Work/GPS/Video/Naveed/GPS_09_KornblumHold1500SRTSelf/20231224/Top/Clips/Naveed_20231224_HoldTrial079_TopView.avi and data.\n",
      "Loading  D:/YuLab/Work/GPS/Video/Naveed/GPS_09_KornblumHold1500SRTSelf/20231224/Top/Clips/Naveed_20231224_HoldTrial080_TopView.avi and data.\n",
      "Loading  D:/YuLab/Work/GPS/Video/Naveed/GPS_09_KornblumHold1500SRTSelf/20231224/Top/Clips/Naveed_20231224_HoldTrial081_TopView.avi and data.\n",
      "Loading  D:/YuLab/Work/GPS/Video/Naveed/GPS_09_KornblumHold1500SRTSelf/20231224/Top/Clips/Naveed_20231224_HoldTrial082_TopView.avi and data.\n",
      "Loading  D:/YuLab/Work/GPS/Video/Naveed/GPS_09_KornblumHold1500SRTSelf/20231224/Top/Clips/Naveed_20231224_HoldTrial083_TopView.avi and data.\n",
      "Loading  D:/YuLab/Work/GPS/Video/Naveed/GPS_09_KornblumHold1500SRTSelf/20231224/Top/Clips/Naveed_20231224_HoldTrial084_TopView.avi and data.\n",
      "Loading  D:/YuLab/Work/GPS/Video/Naveed/GPS_09_KornblumHold1500SRTSelf/20231224/Top/Clips/Naveed_20231224_HoldTrial085_TopView.avi and data.\n",
      "Loading  D:/YuLab/Work/GPS/Video/Naveed/GPS_09_KornblumHold1500SRTSelf/20231224/Top/Clips/Naveed_20231224_HoldTrial086_TopView.avi and data.\n",
      "Loading  D:/YuLab/Work/GPS/Video/Naveed/GPS_09_KornblumHold1500SRTSelf/20231224/Top/Clips/Naveed_20231224_HoldTrial087_TopView.avi and data.\n",
      "Loading  D:/YuLab/Work/GPS/Video/Naveed/GPS_09_KornblumHold1500SRTSelf/20231224/Top/Clips/Naveed_20231224_HoldTrial088_TopView.avi and data.\n",
      "Loading  D:/YuLab/Work/GPS/Video/Naveed/GPS_09_KornblumHold1500SRTSelf/20231224/Top/Clips/Naveed_20231224_HoldTrial089_TopView.avi and data.\n",
      "Loading  D:/YuLab/Work/GPS/Video/Naveed/GPS_09_KornblumHold1500SRTSelf/20231224/Top/Clips/Naveed_20231224_HoldTrial090_TopView.avi and data.\n",
      "Loading  D:/YuLab/Work/GPS/Video/Naveed/GPS_09_KornblumHold1500SRTSelf/20231224/Top/Clips/Naveed_20231224_HoldTrial091_TopView.avi and data.\n",
      "Loading  D:/YuLab/Work/GPS/Video/Naveed/GPS_09_KornblumHold1500SRTSelf/20231224/Top/Clips/Naveed_20231224_HoldTrial092_TopView.avi and data.\n",
      "Loading  D:/YuLab/Work/GPS/Video/Naveed/GPS_09_KornblumHold1500SRTSelf/20231224/Top/Clips/Naveed_20231224_HoldTrial093_TopView.avi and data.\n",
      "Loading  D:/YuLab/Work/GPS/Video/Naveed/GPS_09_KornblumHold1500SRTSelf/20231224/Top/Clips/Naveed_20231224_HoldTrial094_TopView.avi and data.\n",
      "Loading  D:/YuLab/Work/GPS/Video/Naveed/GPS_09_KornblumHold1500SRTSelf/20231224/Top/Clips/Naveed_20231224_HoldTrial095_TopView.avi and data.\n",
      "Loading  D:/YuLab/Work/GPS/Video/Naveed/GPS_09_KornblumHold1500SRTSelf/20231224/Top/Clips/Naveed_20231224_HoldTrial096_TopView.avi and data.\n",
      "Loading  D:/YuLab/Work/GPS/Video/Naveed/GPS_09_KornblumHold1500SRTSelf/20231224/Top/Clips/Naveed_20231224_HoldTrial097_TopView.avi and data.\n",
      "Loading  D:/YuLab/Work/GPS/Video/Naveed/GPS_09_KornblumHold1500SRTSelf/20231224/Top/Clips/Naveed_20231224_HoldTrial098_TopView.avi and data.\n",
      "Loading  D:/YuLab/Work/GPS/Video/Naveed/GPS_09_KornblumHold1500SRTSelf/20231224/Top/Clips/Naveed_20231224_HoldTrial099_TopView.avi and data.\n",
      "Loading  D:/YuLab/Work/GPS/Video/Naveed/GPS_09_KornblumHold1500SRTSelf/20231224/Top/Clips/Naveed_20231224_HoldTrial100_TopView.avi and data.\n",
      "Loading  D:/YuLab/Work/GPS/Video/Naveed/GPS_09_KornblumHold1500SRTSelf/20231224/Top/Clips/Naveed_20231224_HoldTrial101_TopView.avi and data.\n",
      "Loading  D:/YuLab/Work/GPS/Video/Naveed/GPS_09_KornblumHold1500SRTSelf/20231224/Top/Clips/Naveed_20231224_HoldTrial102_TopView.avi and data.\n",
      "Loading  D:/YuLab/Work/GPS/Video/Naveed/GPS_09_KornblumHold1500SRTSelf/20231224/Top/Clips/Naveed_20231224_HoldTrial103_TopView.avi and data.\n",
      "Loading  D:/YuLab/Work/GPS/Video/Naveed/GPS_09_KornblumHold1500SRTSelf/20231224/Top/Clips/Naveed_20231224_HoldTrial104_TopView.avi and data.\n",
      "Loading  D:/YuLab/Work/GPS/Video/Naveed/GPS_09_KornblumHold1500SRTSelf/20231224/Top/Clips/Naveed_20231224_HoldTrial105_TopView.avi and data.\n",
      "Loading  D:/YuLab/Work/GPS/Video/Naveed/GPS_09_KornblumHold1500SRTSelf/20231224/Top/Clips/Naveed_20231224_HoldTrial106_TopView.avi and data.\n",
      "Loading  D:/YuLab/Work/GPS/Video/Naveed/GPS_09_KornblumHold1500SRTSelf/20231224/Top/Clips/Naveed_20231224_HoldTrial107_TopView.avi and data.\n",
      "Loading  D:/YuLab/Work/GPS/Video/Naveed/GPS_09_KornblumHold1500SRTSelf/20231224/Top/Clips/Naveed_20231224_HoldTrial108_TopView.avi and data.\n",
      "Loading  D:/YuLab/Work/GPS/Video/Naveed/GPS_09_KornblumHold1500SRTSelf/20231224/Top/Clips/Naveed_20231224_HoldTrial109_TopView.avi and data.\n",
      "Loading  D:/YuLab/Work/GPS/Video/Naveed/GPS_09_KornblumHold1500SRTSelf/20231224/Top/Clips/Naveed_20231224_HoldTrial110_TopView.avi and data.\n",
      "Loading  D:/YuLab/Work/GPS/Video/Naveed/GPS_09_KornblumHold1500SRTSelf/20231224/Top/Clips/Naveed_20231224_HoldTrial111_TopView.avi and data.\n",
      "Loading  D:/YuLab/Work/GPS/Video/Naveed/GPS_09_KornblumHold1500SRTSelf/20231224/Top/Clips/Naveed_20231224_HoldTrial112_TopView.avi and data.\n",
      "Loading  D:/YuLab/Work/GPS/Video/Naveed/GPS_09_KornblumHold1500SRTSelf/20231224/Top/Clips/Naveed_20231224_HoldTrial113_TopView.avi and data.\n",
      "Loading  D:/YuLab/Work/GPS/Video/Naveed/GPS_09_KornblumHold1500SRTSelf/20231224/Top/Clips/Naveed_20231224_HoldTrial114_TopView.avi and data.\n",
      "Loading  D:/YuLab/Work/GPS/Video/Naveed/GPS_09_KornblumHold1500SRTSelf/20231224/Top/Clips/Naveed_20231224_HoldTrial115_TopView.avi and data.\n",
      "Loading  D:/YuLab/Work/GPS/Video/Naveed/GPS_09_KornblumHold1500SRTSelf/20231224/Top/Clips/Naveed_20231224_HoldTrial116_TopView.avi and data.\n",
      "Loading  D:/YuLab/Work/GPS/Video/Naveed/GPS_09_KornblumHold1500SRTSelf/20231224/Top/Clips/Naveed_20231224_HoldTrial117_TopView.avi and data.\n",
      "Loading  D:/YuLab/Work/GPS/Video/Naveed/GPS_09_KornblumHold1500SRTSelf/20231224/Top/Clips/Naveed_20231224_HoldTrial118_TopView.avi and data.\n",
      "Loading  D:/YuLab/Work/GPS/Video/Naveed/GPS_09_KornblumHold1500SRTSelf/20231227/Top/Clips/Naveed_20231227_HoldTrial013_TopView.avi and data.\n",
      "Loading  D:/YuLab/Work/GPS/Video/Naveed/GPS_09_KornblumHold1500SRTSelf/20231227/Top/Clips/Naveed_20231227_HoldTrial014_TopView.avi and data.\n",
      "Loading  D:/YuLab/Work/GPS/Video/Naveed/GPS_09_KornblumHold1500SRTSelf/20231227/Top/Clips/Naveed_20231227_HoldTrial015_TopView.avi and data.\n",
      "Loading  D:/YuLab/Work/GPS/Video/Naveed/GPS_09_KornblumHold1500SRTSelf/20231227/Top/Clips/Naveed_20231227_HoldTrial016_TopView.avi and data.\n",
      "Loading  D:/YuLab/Work/GPS/Video/Naveed/GPS_09_KornblumHold1500SRTSelf/20231227/Top/Clips/Naveed_20231227_HoldTrial017_TopView.avi and data.\n",
      "Loading  D:/YuLab/Work/GPS/Video/Naveed/GPS_09_KornblumHold1500SRTSelf/20231227/Top/Clips/Naveed_20231227_HoldTrial018_TopView.avi and data.\n",
      "Loading  D:/YuLab/Work/GPS/Video/Naveed/GPS_09_KornblumHold1500SRTSelf/20231227/Top/Clips/Naveed_20231227_HoldTrial019_TopView.avi and data.\n",
      "Loading  D:/YuLab/Work/GPS/Video/Naveed/GPS_09_KornblumHold1500SRTSelf/20231227/Top/Clips/Naveed_20231227_HoldTrial020_TopView.avi and data.\n",
      "Loading  D:/YuLab/Work/GPS/Video/Naveed/GPS_09_KornblumHold1500SRTSelf/20231227/Top/Clips/Naveed_20231227_HoldTrial021_TopView.avi and data.\n",
      "Loading  D:/YuLab/Work/GPS/Video/Naveed/GPS_09_KornblumHold1500SRTSelf/20231227/Top/Clips/Naveed_20231227_HoldTrial022_TopView.avi and data.\n",
      "Loading  D:/YuLab/Work/GPS/Video/Naveed/GPS_09_KornblumHold1500SRTSelf/20231227/Top/Clips/Naveed_20231227_HoldTrial023_TopView.avi and data.\n",
      "Loading  D:/YuLab/Work/GPS/Video/Naveed/GPS_09_KornblumHold1500SRTSelf/20231227/Top/Clips/Naveed_20231227_HoldTrial024_TopView.avi and data.\n",
      "Loading  D:/YuLab/Work/GPS/Video/Naveed/GPS_09_KornblumHold1500SRTSelf/20231227/Top/Clips/Naveed_20231227_HoldTrial025_TopView.avi and data.\n",
      "Loading  D:/YuLab/Work/GPS/Video/Naveed/GPS_09_KornblumHold1500SRTSelf/20231227/Top/Clips/Naveed_20231227_HoldTrial026_TopView.avi and data.\n",
      "Loading  D:/YuLab/Work/GPS/Video/Naveed/GPS_09_KornblumHold1500SRTSelf/20231227/Top/Clips/Naveed_20231227_HoldTrial027_TopView.avi and data.\n",
      "Loading  D:/YuLab/Work/GPS/Video/Naveed/GPS_09_KornblumHold1500SRTSelf/20231227/Top/Clips/Naveed_20231227_HoldTrial028_TopView.avi and data.\n",
      "Loading  D:/YuLab/Work/GPS/Video/Naveed/GPS_09_KornblumHold1500SRTSelf/20231227/Top/Clips/Naveed_20231227_HoldTrial029_TopView.avi and data.\n",
      "Loading  D:/YuLab/Work/GPS/Video/Naveed/GPS_09_KornblumHold1500SRTSelf/20231227/Top/Clips/Naveed_20231227_HoldTrial030_TopView.avi and data.\n",
      "Loading  D:/YuLab/Work/GPS/Video/Naveed/GPS_09_KornblumHold1500SRTSelf/20231227/Top/Clips/Naveed_20231227_HoldTrial031_TopView.avi and data.\n",
      "Loading  D:/YuLab/Work/GPS/Video/Naveed/GPS_09_KornblumHold1500SRTSelf/20231227/Top/Clips/Naveed_20231227_HoldTrial032_TopView.avi and data.\n",
      "Loading  D:/YuLab/Work/GPS/Video/Naveed/GPS_09_KornblumHold1500SRTSelf/20231227/Top/Clips/Naveed_20231227_HoldTrial033_TopView.avi and data.\n",
      "Loading  D:/YuLab/Work/GPS/Video/Naveed/GPS_09_KornblumHold1500SRTSelf/20231227/Top/Clips/Naveed_20231227_HoldTrial034_TopView.avi and data.\n",
      "Loading  D:/YuLab/Work/GPS/Video/Naveed/GPS_09_KornblumHold1500SRTSelf/20231227/Top/Clips/Naveed_20231227_HoldTrial035_TopView.avi and data.\n",
      "Loading  D:/YuLab/Work/GPS/Video/Naveed/GPS_09_KornblumHold1500SRTSelf/20231227/Top/Clips/Naveed_20231227_HoldTrial036_TopView.avi and data.\n",
      "Loading  D:/YuLab/Work/GPS/Video/Naveed/GPS_09_KornblumHold1500SRTSelf/20231227/Top/Clips/Naveed_20231227_HoldTrial037_TopView.avi and data.\n",
      "Loading  D:/YuLab/Work/GPS/Video/Naveed/GPS_09_KornblumHold1500SRTSelf/20231227/Top/Clips/Naveed_20231227_HoldTrial038_TopView.avi and data.\n",
      "Loading  D:/YuLab/Work/GPS/Video/Naveed/GPS_09_KornblumHold1500SRTSelf/20231227/Top/Clips/Naveed_20231227_HoldTrial039_TopView.avi and data.\n",
      "Loading  D:/YuLab/Work/GPS/Video/Naveed/GPS_09_KornblumHold1500SRTSelf/20231227/Top/Clips/Naveed_20231227_HoldTrial040_TopView.avi and data.\n",
      "Loading  D:/YuLab/Work/GPS/Video/Naveed/GPS_09_KornblumHold1500SRTSelf/20231227/Top/Clips/Naveed_20231227_HoldTrial041_TopView.avi and data.\n",
      "Loading  D:/YuLab/Work/GPS/Video/Naveed/GPS_09_KornblumHold1500SRTSelf/20231227/Top/Clips/Naveed_20231227_HoldTrial042_TopView.avi and data.\n",
      "Loading  D:/YuLab/Work/GPS/Video/Naveed/GPS_09_KornblumHold1500SRTSelf/20231227/Top/Clips/Naveed_20231227_HoldTrial043_TopView.avi and data.\n",
      "Loading  D:/YuLab/Work/GPS/Video/Naveed/GPS_09_KornblumHold1500SRTSelf/20231227/Top/Clips/Naveed_20231227_HoldTrial044_TopView.avi and data.\n",
      "Loading  D:/YuLab/Work/GPS/Video/Naveed/GPS_09_KornblumHold1500SRTSelf/20231227/Top/Clips/Naveed_20231227_HoldTrial045_TopView.avi and data.\n",
      "Loading  D:/YuLab/Work/GPS/Video/Naveed/GPS_09_KornblumHold1500SRTSelf/20231227/Top/Clips/Naveed_20231227_HoldTrial046_TopView.avi and data.\n",
      "Loading  D:/YuLab/Work/GPS/Video/Naveed/GPS_09_KornblumHold1500SRTSelf/20231227/Top/Clips/Naveed_20231227_HoldTrial047_TopView.avi and data.\n",
      "Loading  D:/YuLab/Work/GPS/Video/Naveed/GPS_09_KornblumHold1500SRTSelf/20231227/Top/Clips/Naveed_20231227_HoldTrial048_TopView.avi and data.\n",
      "Loading  D:/YuLab/Work/GPS/Video/Naveed/GPS_09_KornblumHold1500SRTSelf/20231227/Top/Clips/Naveed_20231227_HoldTrial049_TopView.avi and data.\n",
      "Loading  D:/YuLab/Work/GPS/Video/Naveed/GPS_09_KornblumHold1500SRTSelf/20231227/Top/Clips/Naveed_20231227_HoldTrial050_TopView.avi and data.\n",
      "Loading  D:/YuLab/Work/GPS/Video/Naveed/GPS_09_KornblumHold1500SRTSelf/20231227/Top/Clips/Naveed_20231227_HoldTrial051_TopView.avi and data.\n",
      "Loading  D:/YuLab/Work/GPS/Video/Naveed/GPS_09_KornblumHold1500SRTSelf/20231227/Top/Clips/Naveed_20231227_HoldTrial052_TopView.avi and data.\n",
      "Loading  D:/YuLab/Work/GPS/Video/Naveed/GPS_09_KornblumHold1500SRTSelf/20231227/Top/Clips/Naveed_20231227_HoldTrial053_TopView.avi and data.\n",
      "Loading  D:/YuLab/Work/GPS/Video/Naveed/GPS_09_KornblumHold1500SRTSelf/20231227/Top/Clips/Naveed_20231227_HoldTrial054_TopView.avi and data.\n",
      "Loading  D:/YuLab/Work/GPS/Video/Naveed/GPS_09_KornblumHold1500SRTSelf/20231227/Top/Clips/Naveed_20231227_HoldTrial055_TopView.avi and data.\n",
      "Loading  D:/YuLab/Work/GPS/Video/Naveed/GPS_09_KornblumHold1500SRTSelf/20231227/Top/Clips/Naveed_20231227_HoldTrial056_TopView.avi and data.\n",
      "Loading  D:/YuLab/Work/GPS/Video/Naveed/GPS_09_KornblumHold1500SRTSelf/20231227/Top/Clips/Naveed_20231227_HoldTrial057_TopView.avi and data.\n",
      "Loading  D:/YuLab/Work/GPS/Video/Naveed/GPS_09_KornblumHold1500SRTSelf/20231227/Top/Clips/Naveed_20231227_HoldTrial058_TopView.avi and data.\n",
      "Loading  D:/YuLab/Work/GPS/Video/Naveed/GPS_09_KornblumHold1500SRTSelf/20231227/Top/Clips/Naveed_20231227_HoldTrial059_TopView.avi and data.\n",
      "Loading  D:/YuLab/Work/GPS/Video/Naveed/GPS_09_KornblumHold1500SRTSelf/20231227/Top/Clips/Naveed_20231227_HoldTrial060_TopView.avi and data.\n",
      "Loading  D:/YuLab/Work/GPS/Video/Naveed/GPS_09_KornblumHold1500SRTSelf/20231227/Top/Clips/Naveed_20231227_HoldTrial061_TopView.avi and data.\n",
      "Loading  D:/YuLab/Work/GPS/Video/Naveed/GPS_09_KornblumHold1500SRTSelf/20231227/Top/Clips/Naveed_20231227_HoldTrial062_TopView.avi and data.\n",
      "Loading  D:/YuLab/Work/GPS/Video/Naveed/GPS_09_KornblumHold1500SRTSelf/20231227/Top/Clips/Naveed_20231227_HoldTrial063_TopView.avi and data.\n",
      "Loading  D:/YuLab/Work/GPS/Video/Naveed/GPS_09_KornblumHold1500SRTSelf/20231227/Top/Clips/Naveed_20231227_HoldTrial064_TopView.avi and data.\n",
      "Loading  D:/YuLab/Work/GPS/Video/Naveed/GPS_09_KornblumHold1500SRTSelf/20231227/Top/Clips/Naveed_20231227_HoldTrial065_TopView.avi and data.\n",
      "Loading  D:/YuLab/Work/GPS/Video/Naveed/GPS_09_KornblumHold1500SRTSelf/20231227/Top/Clips/Naveed_20231227_HoldTrial066_TopView.avi and data.\n",
      "Loading  D:/YuLab/Work/GPS/Video/Naveed/GPS_09_KornblumHold1500SRTSelf/20231227/Top/Clips/Naveed_20231227_HoldTrial067_TopView.avi and data.\n",
      "Loading  D:/YuLab/Work/GPS/Video/Naveed/GPS_09_KornblumHold1500SRTSelf/20231227/Top/Clips/Naveed_20231227_HoldTrial068_TopView.avi and data.\n",
      "Loading  D:/YuLab/Work/GPS/Video/Naveed/GPS_09_KornblumHold1500SRTSelf/20231227/Top/Clips/Naveed_20231227_HoldTrial069_TopView.avi and data.\n",
      "Loading  D:/YuLab/Work/GPS/Video/Naveed/GPS_09_KornblumHold1500SRTSelf/20231227/Top/Clips/Naveed_20231227_HoldTrial070_TopView.avi and data.\n",
      "Loading  D:/YuLab/Work/GPS/Video/Naveed/GPS_09_KornblumHold1500SRTSelf/20231227/Top/Clips/Naveed_20231227_HoldTrial071_TopView.avi and data.\n",
      "Loading  D:/YuLab/Work/GPS/Video/Naveed/GPS_09_KornblumHold1500SRTSelf/20231227/Top/Clips/Naveed_20231227_HoldTrial072_TopView.avi and data.\n",
      "Loading  D:/YuLab/Work/GPS/Video/Naveed/GPS_09_KornblumHold1500SRTSelf/20231227/Top/Clips/Naveed_20231227_HoldTrial073_TopView.avi and data.\n",
      "Loading  D:/YuLab/Work/GPS/Video/Naveed/GPS_09_KornblumHold1500SRTSelf/20231227/Top/Clips/Naveed_20231227_HoldTrial074_TopView.avi and data.\n",
      "Loading  D:/YuLab/Work/GPS/Video/Naveed/GPS_09_KornblumHold1500SRTSelf/20231227/Top/Clips/Naveed_20231227_HoldTrial075_TopView.avi and data.\n",
      "Loading  D:/YuLab/Work/GPS/Video/Naveed/GPS_09_KornblumHold1500SRTSelf/20231227/Top/Clips/Naveed_20231227_HoldTrial076_TopView.avi and data.\n",
      "Loading  D:/YuLab/Work/GPS/Video/Naveed/GPS_09_KornblumHold1500SRTSelf/20231227/Top/Clips/Naveed_20231227_HoldTrial077_TopView.avi and data.\n",
      "Loading  D:/YuLab/Work/GPS/Video/Naveed/GPS_09_KornblumHold1500SRTSelf/20231227/Top/Clips/Naveed_20231227_HoldTrial078_TopView.avi and data.\n",
      "Loading  D:/YuLab/Work/GPS/Video/Naveed/GPS_09_KornblumHold1500SRTSelf/20231227/Top/Clips/Naveed_20231227_HoldTrial079_TopView.avi and data.\n",
      "Loading  D:/YuLab/Work/GPS/Video/Naveed/GPS_09_KornblumHold1500SRTSelf/20231227/Top/Clips/Naveed_20231227_HoldTrial080_TopView.avi and data.\n",
      "Loading  D:/YuLab/Work/GPS/Video/Naveed/GPS_09_KornblumHold1500SRTSelf/20231227/Top/Clips/Naveed_20231227_HoldTrial081_TopView.avi and data.\n",
      "Loading  D:/YuLab/Work/GPS/Video/Naveed/GPS_09_KornblumHold1500SRTSelf/20231227/Top/Clips/Naveed_20231227_HoldTrial082_TopView.avi and data.\n",
      "Loading  D:/YuLab/Work/GPS/Video/Naveed/GPS_09_KornblumHold1500SRTSelf/20231227/Top/Clips/Naveed_20231227_HoldTrial083_TopView.avi and data.\n",
      "Loading  D:/YuLab/Work/GPS/Video/Naveed/GPS_09_KornblumHold1500SRTSelf/20231227/Top/Clips/Naveed_20231227_HoldTrial084_TopView.avi and data.\n",
      "Loading  D:/YuLab/Work/GPS/Video/Naveed/GPS_09_KornblumHold1500SRTSelf/20231227/Top/Clips/Naveed_20231227_HoldTrial085_TopView.avi and data.\n",
      "Loading  D:/YuLab/Work/GPS/Video/Naveed/GPS_09_KornblumHold1500SRTSelf/20231227/Top/Clips/Naveed_20231227_HoldTrial086_TopView.avi and data.\n",
      "Loading  D:/YuLab/Work/GPS/Video/Naveed/GPS_09_KornblumHold1500SRTSelf/20231227/Top/Clips/Naveed_20231227_HoldTrial087_TopView.avi and data.\n",
      "Loading  D:/YuLab/Work/GPS/Video/Naveed/GPS_09_KornblumHold1500SRTSelf/20231227/Top/Clips/Naveed_20231227_HoldTrial088_TopView.avi and data.\n",
      "Loading  D:/YuLab/Work/GPS/Video/Naveed/GPS_09_KornblumHold1500SRTSelf/20231227/Top/Clips/Naveed_20231227_HoldTrial089_TopView.avi and data.\n",
      "Loading  D:/YuLab/Work/GPS/Video/Naveed/GPS_09_KornblumHold1500SRTSelf/20231227/Top/Clips/Naveed_20231227_HoldTrial090_TopView.avi and data.\n",
      "Loading  D:/YuLab/Work/GPS/Video/Naveed/GPS_09_KornblumHold1500SRTSelf/20231227/Top/Clips/Naveed_20231227_HoldTrial091_TopView.avi and data.\n",
      "Loading  D:/YuLab/Work/GPS/Video/Naveed/GPS_09_KornblumHold1500SRTSelf/20231227/Top/Clips/Naveed_20231227_HoldTrial092_TopView.avi and data.\n",
      "Loading  D:/YuLab/Work/GPS/Video/Naveed/GPS_09_KornblumHold1500SRTSelf/20231227/Top/Clips/Naveed_20231227_HoldTrial093_TopView.avi and data.\n",
      "Loading  D:/YuLab/Work/GPS/Video/Naveed/GPS_09_KornblumHold1500SRTSelf/20231227/Top/Clips/Naveed_20231227_HoldTrial094_TopView.avi and data.\n",
      "Loading  D:/YuLab/Work/GPS/Video/Naveed/GPS_09_KornblumHold1500SRTSelf/20231227/Top/Clips/Naveed_20231227_HoldTrial095_TopView.avi and data.\n",
      "Loading  D:/YuLab/Work/GPS/Video/Naveed/GPS_09_KornblumHold1500SRTSelf/20231227/Top/Clips/Naveed_20231227_HoldTrial096_TopView.avi and data.\n",
      "Loading  D:/YuLab/Work/GPS/Video/Naveed/GPS_09_KornblumHold1500SRTSelf/20231227/Top/Clips/Naveed_20231227_HoldTrial097_TopView.avi and data.\n",
      "Loading  D:/YuLab/Work/GPS/Video/Naveed/GPS_09_KornblumHold1500SRTSelf/20231227/Top/Clips/Naveed_20231227_HoldTrial098_TopView.avi and data.\n",
      "Loading  D:/YuLab/Work/GPS/Video/Naveed/GPS_09_KornblumHold1500SRTSelf/20231227/Top/Clips/Naveed_20231227_HoldTrial099_TopView.avi and data.\n",
      "Loading  D:/YuLab/Work/GPS/Video/Naveed/GPS_09_KornblumHold1500SRTSelf/20231227/Top/Clips/Naveed_20231227_HoldTrial100_TopView.avi and data.\n",
      "Loading  D:/YuLab/Work/GPS/Video/Naveed/GPS_09_KornblumHold1500SRTSelf/20231227/Top/Clips/Naveed_20231227_HoldTrial101_TopView.avi and data.\n",
      "Loading  D:/YuLab/Work/GPS/Video/Naveed/GPS_09_KornblumHold1500SRTSelf/20231227/Top/Clips/Naveed_20231227_HoldTrial102_TopView.avi and data.\n",
      "Loading  D:/YuLab/Work/GPS/Video/Naveed/GPS_09_KornblumHold1500SRTSelf/20231227/Top/Clips/Naveed_20231227_HoldTrial103_TopView.avi and data.\n",
      "Loading  D:/YuLab/Work/GPS/Video/Naveed/GPS_09_KornblumHold1500SRTSelf/20231227/Top/Clips/Naveed_20231227_HoldTrial104_TopView.avi and data.\n",
      "Loading  D:/YuLab/Work/GPS/Video/Naveed/GPS_09_KornblumHold1500SRTSelf/20231227/Top/Clips/Naveed_20231227_HoldTrial105_TopView.avi and data.\n",
      "Loading  D:/YuLab/Work/GPS/Video/Naveed/GPS_09_KornblumHold1500SRTSelf/20231227/Top/Clips/Naveed_20231227_HoldTrial106_TopView.avi and data.\n",
      "Loading  D:/YuLab/Work/GPS/Video/Naveed/GPS_09_KornblumHold1500SRTSelf/20231227/Top/Clips/Naveed_20231227_HoldTrial107_TopView.avi and data.\n",
      "Loading  D:/YuLab/Work/GPS/Video/Naveed/GPS_09_KornblumHold1500SRTSelf/20231227/Top/Clips/Naveed_20231227_HoldTrial108_TopView.avi and data.\n",
      "Loading  D:/YuLab/Work/GPS/Video/Naveed/GPS_09_KornblumHold1500SRTSelf/20231227/Top/Clips/Naveed_20231227_HoldTrial109_TopView.avi and data.\n",
      "Loading  D:/YuLab/Work/GPS/Video/Naveed/GPS_09_KornblumHold1500SRTSelf/20231227/Top/Clips/Naveed_20231227_HoldTrial110_TopView.avi and data.\n",
      "Loading  D:/YuLab/Work/GPS/Video/Naveed/GPS_09_KornblumHold1500SRTSelf/20231227/Top/Clips/Naveed_20231227_HoldTrial111_TopView.avi and data.\n",
      "Loading  D:/YuLab/Work/GPS/Video/Naveed/GPS_09_KornblumHold1500SRTSelf/20231227/Top/Clips/Naveed_20231227_HoldTrial112_TopView.avi and data.\n",
      "Loading  D:/YuLab/Work/GPS/Video/Naveed/GPS_09_KornblumHold1500SRTSelf/20231227/Top/Clips/Naveed_20231227_HoldTrial113_TopView.avi and data.\n",
      "Loading  D:/YuLab/Work/GPS/Video/Naveed/GPS_09_KornblumHold1500SRTSelf/20231227/Top/Clips/Naveed_20231227_HoldTrial114_TopView.avi and data.\n",
      "Loading  D:/YuLab/Work/GPS/Video/Naveed/GPS_09_KornblumHold1500SRTSelf/20231227/Top/Clips/Naveed_20231227_HoldTrial115_TopView.avi and data.\n",
      "Loading  D:/YuLab/Work/GPS/Video/Naveed/GPS_09_KornblumHold1500SRTSelf/20231227/Top/Clips/Naveed_20231227_HoldTrial116_TopView.avi and data.\n",
      "Loading  D:/YuLab/Work/GPS/Video/Naveed/GPS_09_KornblumHold1500SRTSelf/20231227/Top/Clips/Naveed_20231227_HoldTrial117_TopView.avi and data.\n",
      "Loading  D:/YuLab/Work/GPS/Video/Naveed/GPS_09_KornblumHold1500SRTSelf/20231227/Top/Clips/Naveed_20231227_HoldTrial118_TopView.avi and data.\n",
      "Loading  D:/YuLab/Work/GPS/Video/Naveed/GPS_09_KornblumHold1500SRTSelf/20231227/Top/Clips/Naveed_20231227_HoldTrial119_TopView.avi and data.\n",
      "Loading  D:/YuLab/Work/GPS/Video/Naveed/GPS_09_KornblumHold1500SRTSelf/20231227/Top/Clips/Naveed_20231227_HoldTrial120_TopView.avi and data.\n",
      "Loading  D:/YuLab/Work/GPS/Video/Naveed/GPS_09_KornblumHold1500SRTSelf/20231227/Top/Clips/Naveed_20231227_HoldTrial121_TopView.avi and data.\n",
      "Loading  D:/YuLab/Work/GPS/Video/Naveed/GPS_09_KornblumHold1500SRTSelf/20231227/Top/Clips/Naveed_20231227_HoldTrial122_TopView.avi and data.\n",
      "Loading  D:/YuLab/Work/GPS/Video/Naveed/GPS_09_KornblumHold1500SRTSelf/20231227/Top/Clips/Naveed_20231227_HoldTrial123_TopView.avi and data.\n",
      "Loading  D:/YuLab/Work/GPS/Video/Naveed/GPS_09_KornblumHold1500SRTSelf/20231227/Top/Clips/Naveed_20231227_HoldTrial124_TopView.avi and data.\n",
      "Loading  D:/YuLab/Work/GPS/Video/Naveed/GPS_09_KornblumHold1500SRTSelf/20231227/Top/Clips/Naveed_20231227_HoldTrial125_TopView.avi and data.\n",
      "Loading  D:/YuLab/Work/GPS/Video/Naveed/GPS_09_KornblumHold1500SRTSelf/20231227/Top/Clips/Naveed_20231227_HoldTrial126_TopView.avi and data.\n",
      "Loading  D:/YuLab/Work/GPS/Video/Naveed/GPS_09_KornblumHold1500SRTSelf/20231227/Top/Clips/Naveed_20231227_HoldTrial127_TopView.avi and data.\n",
      "Loading  D:/YuLab/Work/GPS/Video/Naveed/GPS_09_KornblumHold1500SRTSelf/20231227/Top/Clips/Naveed_20231227_HoldTrial128_TopView.avi and data.\n",
      "Loading  D:/YuLab/Work/GPS/Video/Naveed/GPS_09_KornblumHold1500SRTSelf/20231228/Top/Clips/Naveed_20231228_HoldTrial011_TopView.avi and data.\n",
      "Loading  D:/YuLab/Work/GPS/Video/Naveed/GPS_09_KornblumHold1500SRTSelf/20231228/Top/Clips/Naveed_20231228_HoldTrial012_TopView.avi and data.\n",
      "Loading  D:/YuLab/Work/GPS/Video/Naveed/GPS_09_KornblumHold1500SRTSelf/20231228/Top/Clips/Naveed_20231228_HoldTrial013_TopView.avi and data.\n",
      "Loading  D:/YuLab/Work/GPS/Video/Naveed/GPS_09_KornblumHold1500SRTSelf/20231228/Top/Clips/Naveed_20231228_HoldTrial014_TopView.avi and data.\n",
      "Loading  D:/YuLab/Work/GPS/Video/Naveed/GPS_09_KornblumHold1500SRTSelf/20231228/Top/Clips/Naveed_20231228_HoldTrial015_TopView.avi and data.\n",
      "Loading  D:/YuLab/Work/GPS/Video/Naveed/GPS_09_KornblumHold1500SRTSelf/20231228/Top/Clips/Naveed_20231228_HoldTrial016_TopView.avi and data.\n",
      "Loading  D:/YuLab/Work/GPS/Video/Naveed/GPS_09_KornblumHold1500SRTSelf/20231228/Top/Clips/Naveed_20231228_HoldTrial017_TopView.avi and data.\n",
      "Loading  D:/YuLab/Work/GPS/Video/Naveed/GPS_09_KornblumHold1500SRTSelf/20231228/Top/Clips/Naveed_20231228_HoldTrial018_TopView.avi and data.\n",
      "Loading  D:/YuLab/Work/GPS/Video/Naveed/GPS_09_KornblumHold1500SRTSelf/20231228/Top/Clips/Naveed_20231228_HoldTrial019_TopView.avi and data.\n",
      "Loading  D:/YuLab/Work/GPS/Video/Naveed/GPS_09_KornblumHold1500SRTSelf/20231228/Top/Clips/Naveed_20231228_HoldTrial020_TopView.avi and data.\n",
      "Loading  D:/YuLab/Work/GPS/Video/Naveed/GPS_09_KornblumHold1500SRTSelf/20231228/Top/Clips/Naveed_20231228_HoldTrial021_TopView.avi and data.\n",
      "Loading  D:/YuLab/Work/GPS/Video/Naveed/GPS_09_KornblumHold1500SRTSelf/20231228/Top/Clips/Naveed_20231228_HoldTrial022_TopView.avi and data.\n",
      "Loading  D:/YuLab/Work/GPS/Video/Naveed/GPS_09_KornblumHold1500SRTSelf/20231228/Top/Clips/Naveed_20231228_HoldTrial023_TopView.avi and data.\n",
      "Loading  D:/YuLab/Work/GPS/Video/Naveed/GPS_09_KornblumHold1500SRTSelf/20231228/Top/Clips/Naveed_20231228_HoldTrial024_TopView.avi and data.\n",
      "Loading  D:/YuLab/Work/GPS/Video/Naveed/GPS_09_KornblumHold1500SRTSelf/20231228/Top/Clips/Naveed_20231228_HoldTrial025_TopView.avi and data.\n",
      "Loading  D:/YuLab/Work/GPS/Video/Naveed/GPS_09_KornblumHold1500SRTSelf/20231228/Top/Clips/Naveed_20231228_HoldTrial026_TopView.avi and data.\n",
      "Loading  D:/YuLab/Work/GPS/Video/Naveed/GPS_09_KornblumHold1500SRTSelf/20231228/Top/Clips/Naveed_20231228_HoldTrial027_TopView.avi and data.\n",
      "Loading  D:/YuLab/Work/GPS/Video/Naveed/GPS_09_KornblumHold1500SRTSelf/20231228/Top/Clips/Naveed_20231228_HoldTrial028_TopView.avi and data.\n",
      "Loading  D:/YuLab/Work/GPS/Video/Naveed/GPS_09_KornblumHold1500SRTSelf/20231228/Top/Clips/Naveed_20231228_HoldTrial029_TopView.avi and data.\n",
      "Loading  D:/YuLab/Work/GPS/Video/Naveed/GPS_09_KornblumHold1500SRTSelf/20231228/Top/Clips/Naveed_20231228_HoldTrial030_TopView.avi and data.\n",
      "Loading  D:/YuLab/Work/GPS/Video/Naveed/GPS_09_KornblumHold1500SRTSelf/20231228/Top/Clips/Naveed_20231228_HoldTrial031_TopView.avi and data.\n",
      "Loading  D:/YuLab/Work/GPS/Video/Naveed/GPS_09_KornblumHold1500SRTSelf/20231228/Top/Clips/Naveed_20231228_HoldTrial032_TopView.avi and data.\n",
      "Loading  D:/YuLab/Work/GPS/Video/Naveed/GPS_09_KornblumHold1500SRTSelf/20231228/Top/Clips/Naveed_20231228_HoldTrial033_TopView.avi and data.\n",
      "Loading  D:/YuLab/Work/GPS/Video/Naveed/GPS_09_KornblumHold1500SRTSelf/20231228/Top/Clips/Naveed_20231228_HoldTrial034_TopView.avi and data.\n",
      "Loading  D:/YuLab/Work/GPS/Video/Naveed/GPS_09_KornblumHold1500SRTSelf/20231228/Top/Clips/Naveed_20231228_HoldTrial035_TopView.avi and data.\n",
      "Loading  D:/YuLab/Work/GPS/Video/Naveed/GPS_09_KornblumHold1500SRTSelf/20231228/Top/Clips/Naveed_20231228_HoldTrial036_TopView.avi and data.\n",
      "Loading  D:/YuLab/Work/GPS/Video/Naveed/GPS_09_KornblumHold1500SRTSelf/20231228/Top/Clips/Naveed_20231228_HoldTrial037_TopView.avi and data.\n",
      "Loading  D:/YuLab/Work/GPS/Video/Naveed/GPS_09_KornblumHold1500SRTSelf/20231228/Top/Clips/Naveed_20231228_HoldTrial038_TopView.avi and data.\n",
      "Loading  D:/YuLab/Work/GPS/Video/Naveed/GPS_09_KornblumHold1500SRTSelf/20231228/Top/Clips/Naveed_20231228_HoldTrial039_TopView.avi and data.\n",
      "Loading  D:/YuLab/Work/GPS/Video/Naveed/GPS_09_KornblumHold1500SRTSelf/20231228/Top/Clips/Naveed_20231228_HoldTrial040_TopView.avi and data.\n",
      "Loading  D:/YuLab/Work/GPS/Video/Naveed/GPS_09_KornblumHold1500SRTSelf/20231228/Top/Clips/Naveed_20231228_HoldTrial041_TopView.avi and data.\n",
      "Loading  D:/YuLab/Work/GPS/Video/Naveed/GPS_09_KornblumHold1500SRTSelf/20231228/Top/Clips/Naveed_20231228_HoldTrial042_TopView.avi and data.\n",
      "Loading  D:/YuLab/Work/GPS/Video/Naveed/GPS_09_KornblumHold1500SRTSelf/20231228/Top/Clips/Naveed_20231228_HoldTrial043_TopView.avi and data.\n",
      "Loading  D:/YuLab/Work/GPS/Video/Naveed/GPS_09_KornblumHold1500SRTSelf/20231228/Top/Clips/Naveed_20231228_HoldTrial044_TopView.avi and data.\n",
      "Loading  D:/YuLab/Work/GPS/Video/Naveed/GPS_09_KornblumHold1500SRTSelf/20231228/Top/Clips/Naveed_20231228_HoldTrial045_TopView.avi and data.\n",
      "Loading  D:/YuLab/Work/GPS/Video/Naveed/GPS_09_KornblumHold1500SRTSelf/20231228/Top/Clips/Naveed_20231228_HoldTrial046_TopView.avi and data.\n",
      "Loading  D:/YuLab/Work/GPS/Video/Naveed/GPS_09_KornblumHold1500SRTSelf/20231228/Top/Clips/Naveed_20231228_HoldTrial047_TopView.avi and data.\n",
      "Loading  D:/YuLab/Work/GPS/Video/Naveed/GPS_09_KornblumHold1500SRTSelf/20231228/Top/Clips/Naveed_20231228_HoldTrial048_TopView.avi and data.\n",
      "Loading  D:/YuLab/Work/GPS/Video/Naveed/GPS_09_KornblumHold1500SRTSelf/20231228/Top/Clips/Naveed_20231228_HoldTrial049_TopView.avi and data.\n",
      "Loading  D:/YuLab/Work/GPS/Video/Naveed/GPS_09_KornblumHold1500SRTSelf/20231228/Top/Clips/Naveed_20231228_HoldTrial050_TopView.avi and data.\n",
      "Loading  D:/YuLab/Work/GPS/Video/Naveed/GPS_09_KornblumHold1500SRTSelf/20231228/Top/Clips/Naveed_20231228_HoldTrial051_TopView.avi and data.\n",
      "Loading  D:/YuLab/Work/GPS/Video/Naveed/GPS_09_KornblumHold1500SRTSelf/20231228/Top/Clips/Naveed_20231228_HoldTrial052_TopView.avi and data.\n",
      "Loading  D:/YuLab/Work/GPS/Video/Naveed/GPS_09_KornblumHold1500SRTSelf/20231228/Top/Clips/Naveed_20231228_HoldTrial053_TopView.avi and data.\n",
      "Loading  D:/YuLab/Work/GPS/Video/Naveed/GPS_09_KornblumHold1500SRTSelf/20231228/Top/Clips/Naveed_20231228_HoldTrial054_TopView.avi and data.\n",
      "Loading  D:/YuLab/Work/GPS/Video/Naveed/GPS_09_KornblumHold1500SRTSelf/20231228/Top/Clips/Naveed_20231228_HoldTrial055_TopView.avi and data.\n",
      "Loading  D:/YuLab/Work/GPS/Video/Naveed/GPS_09_KornblumHold1500SRTSelf/20231228/Top/Clips/Naveed_20231228_HoldTrial056_TopView.avi and data.\n",
      "Loading  D:/YuLab/Work/GPS/Video/Naveed/GPS_09_KornblumHold1500SRTSelf/20231228/Top/Clips/Naveed_20231228_HoldTrial057_TopView.avi and data.\n",
      "Loading  D:/YuLab/Work/GPS/Video/Naveed/GPS_09_KornblumHold1500SRTSelf/20231228/Top/Clips/Naveed_20231228_HoldTrial058_TopView.avi and data.\n",
      "Loading  D:/YuLab/Work/GPS/Video/Naveed/GPS_09_KornblumHold1500SRTSelf/20231228/Top/Clips/Naveed_20231228_HoldTrial059_TopView.avi and data.\n",
      "Loading  D:/YuLab/Work/GPS/Video/Naveed/GPS_09_KornblumHold1500SRTSelf/20231228/Top/Clips/Naveed_20231228_HoldTrial060_TopView.avi and data.\n",
      "Loading  D:/YuLab/Work/GPS/Video/Naveed/GPS_09_KornblumHold1500SRTSelf/20231228/Top/Clips/Naveed_20231228_HoldTrial061_TopView.avi and data.\n",
      "Loading  D:/YuLab/Work/GPS/Video/Naveed/GPS_09_KornblumHold1500SRTSelf/20231228/Top/Clips/Naveed_20231228_HoldTrial062_TopView.avi and data.\n",
      "Loading  D:/YuLab/Work/GPS/Video/Naveed/GPS_09_KornblumHold1500SRTSelf/20231228/Top/Clips/Naveed_20231228_HoldTrial063_TopView.avi and data.\n",
      "Loading  D:/YuLab/Work/GPS/Video/Naveed/GPS_09_KornblumHold1500SRTSelf/20231228/Top/Clips/Naveed_20231228_HoldTrial064_TopView.avi and data.\n",
      "Loading  D:/YuLab/Work/GPS/Video/Naveed/GPS_09_KornblumHold1500SRTSelf/20231228/Top/Clips/Naveed_20231228_HoldTrial065_TopView.avi and data.\n",
      "Loading  D:/YuLab/Work/GPS/Video/Naveed/GPS_09_KornblumHold1500SRTSelf/20231228/Top/Clips/Naveed_20231228_HoldTrial066_TopView.avi and data.\n",
      "Loading  D:/YuLab/Work/GPS/Video/Naveed/GPS_09_KornblumHold1500SRTSelf/20231228/Top/Clips/Naveed_20231228_HoldTrial067_TopView.avi and data.\n",
      "Loading  D:/YuLab/Work/GPS/Video/Naveed/GPS_09_KornblumHold1500SRTSelf/20231228/Top/Clips/Naveed_20231228_HoldTrial068_TopView.avi and data.\n",
      "Loading  D:/YuLab/Work/GPS/Video/Naveed/GPS_09_KornblumHold1500SRTSelf/20231228/Top/Clips/Naveed_20231228_HoldTrial069_TopView.avi and data.\n",
      "Loading  D:/YuLab/Work/GPS/Video/Naveed/GPS_09_KornblumHold1500SRTSelf/20231228/Top/Clips/Naveed_20231228_HoldTrial070_TopView.avi and data.\n",
      "Loading  D:/YuLab/Work/GPS/Video/Naveed/GPS_09_KornblumHold1500SRTSelf/20231228/Top/Clips/Naveed_20231228_HoldTrial071_TopView.avi and data.\n",
      "Loading  D:/YuLab/Work/GPS/Video/Naveed/GPS_09_KornblumHold1500SRTSelf/20231228/Top/Clips/Naveed_20231228_HoldTrial072_TopView.avi and data.\n",
      "Loading  D:/YuLab/Work/GPS/Video/Naveed/GPS_09_KornblumHold1500SRTSelf/20231228/Top/Clips/Naveed_20231228_HoldTrial073_TopView.avi and data.\n",
      "Loading  D:/YuLab/Work/GPS/Video/Naveed/GPS_09_KornblumHold1500SRTSelf/20231228/Top/Clips/Naveed_20231228_HoldTrial074_TopView.avi and data.\n",
      "Loading  D:/YuLab/Work/GPS/Video/Naveed/GPS_09_KornblumHold1500SRTSelf/20231228/Top/Clips/Naveed_20231228_HoldTrial075_TopView.avi and data.\n",
      "Loading  D:/YuLab/Work/GPS/Video/Naveed/GPS_09_KornblumHold1500SRTSelf/20231228/Top/Clips/Naveed_20231228_HoldTrial076_TopView.avi and data.\n",
      "Loading  D:/YuLab/Work/GPS/Video/Naveed/GPS_09_KornblumHold1500SRTSelf/20231228/Top/Clips/Naveed_20231228_HoldTrial077_TopView.avi and data.\n",
      "Loading  D:/YuLab/Work/GPS/Video/Naveed/GPS_09_KornblumHold1500SRTSelf/20231228/Top/Clips/Naveed_20231228_HoldTrial078_TopView.avi and data.\n",
      "Loading  D:/YuLab/Work/GPS/Video/Naveed/GPS_09_KornblumHold1500SRTSelf/20231228/Top/Clips/Naveed_20231228_HoldTrial079_TopView.avi and data.\n",
      "Loading  D:/YuLab/Work/GPS/Video/Naveed/GPS_09_KornblumHold1500SRTSelf/20231228/Top/Clips/Naveed_20231228_HoldTrial080_TopView.avi and data.\n",
      "Loading  D:/YuLab/Work/GPS/Video/Naveed/GPS_09_KornblumHold1500SRTSelf/20231228/Top/Clips/Naveed_20231228_HoldTrial081_TopView.avi and data.\n",
      "Loading  D:/YuLab/Work/GPS/Video/Naveed/GPS_09_KornblumHold1500SRTSelf/20231228/Top/Clips/Naveed_20231228_HoldTrial082_TopView.avi and data.\n",
      "Loading  D:/YuLab/Work/GPS/Video/Naveed/GPS_09_KornblumHold1500SRTSelf/20231228/Top/Clips/Naveed_20231228_HoldTrial083_TopView.avi and data.\n",
      "Loading  D:/YuLab/Work/GPS/Video/Naveed/GPS_09_KornblumHold1500SRTSelf/20231228/Top/Clips/Naveed_20231228_HoldTrial084_TopView.avi and data.\n",
      "Loading  D:/YuLab/Work/GPS/Video/Naveed/GPS_09_KornblumHold1500SRTSelf/20231228/Top/Clips/Naveed_20231228_HoldTrial085_TopView.avi and data.\n",
      "Loading  D:/YuLab/Work/GPS/Video/Naveed/GPS_09_KornblumHold1500SRTSelf/20231228/Top/Clips/Naveed_20231228_HoldTrial086_TopView.avi and data.\n",
      "Loading  D:/YuLab/Work/GPS/Video/Naveed/GPS_09_KornblumHold1500SRTSelf/20231228/Top/Clips/Naveed_20231228_HoldTrial087_TopView.avi and data.\n",
      "Loading  D:/YuLab/Work/GPS/Video/Naveed/GPS_09_KornblumHold1500SRTSelf/20231228/Top/Clips/Naveed_20231228_HoldTrial088_TopView.avi and data.\n",
      "Loading  D:/YuLab/Work/GPS/Video/Naveed/GPS_09_KornblumHold1500SRTSelf/20231228/Top/Clips/Naveed_20231228_HoldTrial089_TopView.avi and data.\n",
      "Loading  D:/YuLab/Work/GPS/Video/Naveed/GPS_09_KornblumHold1500SRTSelf/20231228/Top/Clips/Naveed_20231228_HoldTrial090_TopView.avi and data.\n",
      "Loading  D:/YuLab/Work/GPS/Video/Naveed/GPS_09_KornblumHold1500SRTSelf/20231228/Top/Clips/Naveed_20231228_HoldTrial091_TopView.avi and data.\n",
      "Loading  D:/YuLab/Work/GPS/Video/Naveed/GPS_09_KornblumHold1500SRTSelf/20231228/Top/Clips/Naveed_20231228_HoldTrial092_TopView.avi and data.\n",
      "Loading  D:/YuLab/Work/GPS/Video/Naveed/GPS_09_KornblumHold1500SRTSelf/20231228/Top/Clips/Naveed_20231228_HoldTrial093_TopView.avi and data.\n",
      "Loading  D:/YuLab/Work/GPS/Video/Naveed/GPS_09_KornblumHold1500SRTSelf/20231228/Top/Clips/Naveed_20231228_HoldTrial094_TopView.avi and data.\n",
      "Loading  D:/YuLab/Work/GPS/Video/Naveed/GPS_09_KornblumHold1500SRTSelf/20231228/Top/Clips/Naveed_20231228_HoldTrial095_TopView.avi and data.\n",
      "Loading  D:/YuLab/Work/GPS/Video/Naveed/GPS_09_KornblumHold1500SRTSelf/20231228/Top/Clips/Naveed_20231228_HoldTrial096_TopView.avi and data.\n",
      "Loading  D:/YuLab/Work/GPS/Video/Naveed/GPS_09_KornblumHold1500SRTSelf/20231228/Top/Clips/Naveed_20231228_HoldTrial097_TopView.avi and data.\n",
      "Loading  D:/YuLab/Work/GPS/Video/Naveed/GPS_09_KornblumHold1500SRTSelf/20231228/Top/Clips/Naveed_20231228_HoldTrial098_TopView.avi and data.\n",
      "Loading  D:/YuLab/Work/GPS/Video/Naveed/GPS_09_KornblumHold1500SRTSelf/20231228/Top/Clips/Naveed_20231228_HoldTrial099_TopView.avi and data.\n",
      "Loading  D:/YuLab/Work/GPS/Video/Naveed/GPS_09_KornblumHold1500SRTSelf/20231228/Top/Clips/Naveed_20231228_HoldTrial100_TopView.avi and data.\n",
      "Loading  D:/YuLab/Work/GPS/Video/Naveed/GPS_09_KornblumHold1500SRTSelf/20231228/Top/Clips/Naveed_20231228_HoldTrial101_TopView.avi and data.\n",
      "Loading  D:/YuLab/Work/GPS/Video/Naveed/GPS_09_KornblumHold1500SRTSelf/20231228/Top/Clips/Naveed_20231228_HoldTrial102_TopView.avi and data.\n",
      "Loading  D:/YuLab/Work/GPS/Video/Naveed/GPS_09_KornblumHold1500SRTSelf/20231228/Top/Clips/Naveed_20231228_HoldTrial103_TopView.avi and data.\n",
      "Loading  D:/YuLab/Work/GPS/Video/Naveed/GPS_09_KornblumHold1500SRTSelf/20231228/Top/Clips/Naveed_20231228_HoldTrial104_TopView.avi and data.\n",
      "Loading  D:/YuLab/Work/GPS/Video/Naveed/GPS_09_KornblumHold1500SRTSelf/20231228/Top/Clips/Naveed_20231228_HoldTrial105_TopView.avi and data.\n",
      "Loading  D:/YuLab/Work/GPS/Video/Naveed/GPS_09_KornblumHold1500SRTSelf/20231228/Top/Clips/Naveed_20231228_HoldTrial106_TopView.avi and data.\n",
      "Loading  D:/YuLab/Work/GPS/Video/Naveed/GPS_09_KornblumHold1500SRTSelf/20231228/Top/Clips/Naveed_20231228_HoldTrial107_TopView.avi and data.\n",
      "Loading  D:/YuLab/Work/GPS/Video/Naveed/GPS_09_KornblumHold1500SRTSelf/20231228/Top/Clips/Naveed_20231228_HoldTrial108_TopView.avi and data.\n",
      "Loading  D:/YuLab/Work/GPS/Video/Naveed/GPS_09_KornblumHold1500SRTSelf/20231228/Top/Clips/Naveed_20231228_HoldTrial109_TopView.avi and data.\n",
      "Loading  D:/YuLab/Work/GPS/Video/Naveed/GPS_09_KornblumHold1500SRTSelf/20231228/Top/Clips/Naveed_20231228_HoldTrial110_TopView.avi and data.\n",
      "Loading  D:/YuLab/Work/GPS/Video/Naveed/GPS_09_KornblumHold1500SRTSelf/20231228/Top/Clips/Naveed_20231228_HoldTrial111_TopView.avi and data.\n",
      "Loading  D:/YuLab/Work/GPS/Video/Naveed/GPS_09_KornblumHold1500SRTSelf/20231228/Top/Clips/Naveed_20231228_HoldTrial112_TopView.avi and data.\n",
      "Loading  D:/YuLab/Work/GPS/Video/Naveed/GPS_09_KornblumHold1500SRTSelf/20231228/Top/Clips/Naveed_20231228_HoldTrial113_TopView.avi and data.\n",
      "Loading  D:/YuLab/Work/GPS/Video/Naveed/GPS_09_KornblumHold1500SRTSelf/20231228/Top/Clips/Naveed_20231228_HoldTrial114_TopView.avi and data.\n",
      "Loading  D:/YuLab/Work/GPS/Video/Naveed/GPS_09_KornblumHold1500SRTSelf/20231228/Top/Clips/Naveed_20231228_HoldTrial115_TopView.avi and data.\n",
      "Loading  D:/YuLab/Work/GPS/Video/Naveed/GPS_09_KornblumHold1500SRTSelf/20231228/Top/Clips/Naveed_20231228_HoldTrial116_TopView.avi and data.\n",
      "Loading  D:/YuLab/Work/GPS/Video/Naveed/GPS_09_KornblumHold1500SRTSelf/20231228/Top/Clips/Naveed_20231228_HoldTrial117_TopView.avi and data.\n",
      "Loading  D:/YuLab/Work/GPS/Video/Naveed/GPS_09_KornblumHold1500SRTSelf/20231228/Top/Clips/Naveed_20231228_HoldTrial118_TopView.avi and data.\n",
      "Loading  D:/YuLab/Work/GPS/Video/Naveed/GPS_09_KornblumHold1500SRTSelf/20231228/Top/Clips/Naveed_20231228_HoldTrial119_TopView.avi and data.\n",
      "Loading  D:/YuLab/Work/GPS/Video/Naveed/GPS_09_KornblumHold1500SRTSelf/20231228/Top/Clips/Naveed_20231228_HoldTrial120_TopView.avi and data.\n",
      "Loading  D:/YuLab/Work/GPS/Video/Naveed/GPS_09_KornblumHold1500SRTSelf/20231228/Top/Clips/Naveed_20231228_HoldTrial121_TopView.avi and data.\n",
      "Loading  D:/YuLab/Work/GPS/Video/Naveed/GPS_09_KornblumHold1500SRTSelf/20231228/Top/Clips/Naveed_20231228_HoldTrial122_TopView.avi and data.\n",
      "Loading  D:/YuLab/Work/GPS/Video/Naveed/GPS_09_KornblumHold1500SRTSelf/20231228/Top/Clips/Naveed_20231228_HoldTrial123_TopView.avi and data.\n",
      "Loading  D:/YuLab/Work/GPS/Video/Naveed/GPS_09_KornblumHold1500SRTSelf/20231230/Top/Clips/Naveed_20231230_HoldTrial011_TopView.avi and data.\n",
      "Loading  D:/YuLab/Work/GPS/Video/Naveed/GPS_09_KornblumHold1500SRTSelf/20231230/Top/Clips/Naveed_20231230_HoldTrial012_TopView.avi and data.\n",
      "Loading  D:/YuLab/Work/GPS/Video/Naveed/GPS_09_KornblumHold1500SRTSelf/20231230/Top/Clips/Naveed_20231230_HoldTrial013_TopView.avi and data.\n",
      "Loading  D:/YuLab/Work/GPS/Video/Naveed/GPS_09_KornblumHold1500SRTSelf/20231230/Top/Clips/Naveed_20231230_HoldTrial014_TopView.avi and data.\n",
      "Loading  D:/YuLab/Work/GPS/Video/Naveed/GPS_09_KornblumHold1500SRTSelf/20231230/Top/Clips/Naveed_20231230_HoldTrial015_TopView.avi and data.\n",
      "Loading  D:/YuLab/Work/GPS/Video/Naveed/GPS_09_KornblumHold1500SRTSelf/20231230/Top/Clips/Naveed_20231230_HoldTrial016_TopView.avi and data.\n",
      "Loading  D:/YuLab/Work/GPS/Video/Naveed/GPS_09_KornblumHold1500SRTSelf/20231230/Top/Clips/Naveed_20231230_HoldTrial017_TopView.avi and data.\n",
      "Loading  D:/YuLab/Work/GPS/Video/Naveed/GPS_09_KornblumHold1500SRTSelf/20231230/Top/Clips/Naveed_20231230_HoldTrial018_TopView.avi and data.\n",
      "Loading  D:/YuLab/Work/GPS/Video/Naveed/GPS_09_KornblumHold1500SRTSelf/20231230/Top/Clips/Naveed_20231230_HoldTrial019_TopView.avi and data.\n",
      "Loading  D:/YuLab/Work/GPS/Video/Naveed/GPS_09_KornblumHold1500SRTSelf/20231230/Top/Clips/Naveed_20231230_HoldTrial020_TopView.avi and data.\n",
      "Loading  D:/YuLab/Work/GPS/Video/Naveed/GPS_09_KornblumHold1500SRTSelf/20231230/Top/Clips/Naveed_20231230_HoldTrial021_TopView.avi and data.\n",
      "Loading  D:/YuLab/Work/GPS/Video/Naveed/GPS_09_KornblumHold1500SRTSelf/20231230/Top/Clips/Naveed_20231230_HoldTrial022_TopView.avi and data.\n",
      "Loading  D:/YuLab/Work/GPS/Video/Naveed/GPS_09_KornblumHold1500SRTSelf/20231230/Top/Clips/Naveed_20231230_HoldTrial023_TopView.avi and data.\n",
      "Loading  D:/YuLab/Work/GPS/Video/Naveed/GPS_09_KornblumHold1500SRTSelf/20231230/Top/Clips/Naveed_20231230_HoldTrial024_TopView.avi and data.\n",
      "Loading  D:/YuLab/Work/GPS/Video/Naveed/GPS_09_KornblumHold1500SRTSelf/20231230/Top/Clips/Naveed_20231230_HoldTrial025_TopView.avi and data.\n",
      "Loading  D:/YuLab/Work/GPS/Video/Naveed/GPS_09_KornblumHold1500SRTSelf/20231230/Top/Clips/Naveed_20231230_HoldTrial026_TopView.avi and data.\n",
      "Loading  D:/YuLab/Work/GPS/Video/Naveed/GPS_09_KornblumHold1500SRTSelf/20231230/Top/Clips/Naveed_20231230_HoldTrial027_TopView.avi and data.\n",
      "Loading  D:/YuLab/Work/GPS/Video/Naveed/GPS_09_KornblumHold1500SRTSelf/20231230/Top/Clips/Naveed_20231230_HoldTrial028_TopView.avi and data.\n",
      "Loading  D:/YuLab/Work/GPS/Video/Naveed/GPS_09_KornblumHold1500SRTSelf/20231230/Top/Clips/Naveed_20231230_HoldTrial029_TopView.avi and data.\n",
      "Loading  D:/YuLab/Work/GPS/Video/Naveed/GPS_09_KornblumHold1500SRTSelf/20231230/Top/Clips/Naveed_20231230_HoldTrial030_TopView.avi and data.\n",
      "Loading  D:/YuLab/Work/GPS/Video/Naveed/GPS_09_KornblumHold1500SRTSelf/20231230/Top/Clips/Naveed_20231230_HoldTrial031_TopView.avi and data.\n",
      "Loading  D:/YuLab/Work/GPS/Video/Naveed/GPS_09_KornblumHold1500SRTSelf/20231230/Top/Clips/Naveed_20231230_HoldTrial032_TopView.avi and data.\n",
      "Loading  D:/YuLab/Work/GPS/Video/Naveed/GPS_09_KornblumHold1500SRTSelf/20231230/Top/Clips/Naveed_20231230_HoldTrial033_TopView.avi and data.\n",
      "Loading  D:/YuLab/Work/GPS/Video/Naveed/GPS_09_KornblumHold1500SRTSelf/20231230/Top/Clips/Naveed_20231230_HoldTrial034_TopView.avi and data.\n",
      "Loading  D:/YuLab/Work/GPS/Video/Naveed/GPS_09_KornblumHold1500SRTSelf/20231230/Top/Clips/Naveed_20231230_HoldTrial035_TopView.avi and data.\n",
      "Loading  D:/YuLab/Work/GPS/Video/Naveed/GPS_09_KornblumHold1500SRTSelf/20231230/Top/Clips/Naveed_20231230_HoldTrial036_TopView.avi and data.\n",
      "Loading  D:/YuLab/Work/GPS/Video/Naveed/GPS_09_KornblumHold1500SRTSelf/20231230/Top/Clips/Naveed_20231230_HoldTrial037_TopView.avi and data.\n",
      "Loading  D:/YuLab/Work/GPS/Video/Naveed/GPS_09_KornblumHold1500SRTSelf/20231230/Top/Clips/Naveed_20231230_HoldTrial038_TopView.avi and data.\n",
      "Loading  D:/YuLab/Work/GPS/Video/Naveed/GPS_09_KornblumHold1500SRTSelf/20231230/Top/Clips/Naveed_20231230_HoldTrial039_TopView.avi and data.\n",
      "Loading  D:/YuLab/Work/GPS/Video/Naveed/GPS_09_KornblumHold1500SRTSelf/20231230/Top/Clips/Naveed_20231230_HoldTrial040_TopView.avi and data.\n",
      "Loading  D:/YuLab/Work/GPS/Video/Naveed/GPS_09_KornblumHold1500SRTSelf/20231230/Top/Clips/Naveed_20231230_HoldTrial041_TopView.avi and data.\n",
      "Loading  D:/YuLab/Work/GPS/Video/Naveed/GPS_09_KornblumHold1500SRTSelf/20231230/Top/Clips/Naveed_20231230_HoldTrial042_TopView.avi and data.\n",
      "Loading  D:/YuLab/Work/GPS/Video/Naveed/GPS_09_KornblumHold1500SRTSelf/20231230/Top/Clips/Naveed_20231230_HoldTrial043_TopView.avi and data.\n",
      "Loading  D:/YuLab/Work/GPS/Video/Naveed/GPS_09_KornblumHold1500SRTSelf/20231230/Top/Clips/Naveed_20231230_HoldTrial044_TopView.avi and data.\n",
      "Loading  D:/YuLab/Work/GPS/Video/Naveed/GPS_09_KornblumHold1500SRTSelf/20231230/Top/Clips/Naveed_20231230_HoldTrial045_TopView.avi and data.\n",
      "Loading  D:/YuLab/Work/GPS/Video/Naveed/GPS_09_KornblumHold1500SRTSelf/20231230/Top/Clips/Naveed_20231230_HoldTrial046_TopView.avi and data.\n",
      "Loading  D:/YuLab/Work/GPS/Video/Naveed/GPS_09_KornblumHold1500SRTSelf/20231230/Top/Clips/Naveed_20231230_HoldTrial047_TopView.avi and data.\n",
      "Loading  D:/YuLab/Work/GPS/Video/Naveed/GPS_09_KornblumHold1500SRTSelf/20231230/Top/Clips/Naveed_20231230_HoldTrial048_TopView.avi and data.\n",
      "Loading  D:/YuLab/Work/GPS/Video/Naveed/GPS_09_KornblumHold1500SRTSelf/20231230/Top/Clips/Naveed_20231230_HoldTrial049_TopView.avi and data.\n",
      "Loading  D:/YuLab/Work/GPS/Video/Naveed/GPS_09_KornblumHold1500SRTSelf/20231230/Top/Clips/Naveed_20231230_HoldTrial050_TopView.avi and data.\n",
      "Loading  D:/YuLab/Work/GPS/Video/Naveed/GPS_09_KornblumHold1500SRTSelf/20231230/Top/Clips/Naveed_20231230_HoldTrial051_TopView.avi and data.\n",
      "Loading  D:/YuLab/Work/GPS/Video/Naveed/GPS_09_KornblumHold1500SRTSelf/20231230/Top/Clips/Naveed_20231230_HoldTrial052_TopView.avi and data.\n",
      "Loading  D:/YuLab/Work/GPS/Video/Naveed/GPS_09_KornblumHold1500SRTSelf/20231230/Top/Clips/Naveed_20231230_HoldTrial053_TopView.avi and data.\n",
      "Loading  D:/YuLab/Work/GPS/Video/Naveed/GPS_09_KornblumHold1500SRTSelf/20231230/Top/Clips/Naveed_20231230_HoldTrial054_TopView.avi and data.\n",
      "Loading  D:/YuLab/Work/GPS/Video/Naveed/GPS_09_KornblumHold1500SRTSelf/20231230/Top/Clips/Naveed_20231230_HoldTrial055_TopView.avi and data.\n",
      "Loading  D:/YuLab/Work/GPS/Video/Naveed/GPS_09_KornblumHold1500SRTSelf/20231230/Top/Clips/Naveed_20231230_HoldTrial056_TopView.avi and data.\n",
      "Loading  D:/YuLab/Work/GPS/Video/Naveed/GPS_09_KornblumHold1500SRTSelf/20231230/Top/Clips/Naveed_20231230_HoldTrial057_TopView.avi and data.\n",
      "Loading  D:/YuLab/Work/GPS/Video/Naveed/GPS_09_KornblumHold1500SRTSelf/20231230/Top/Clips/Naveed_20231230_HoldTrial058_TopView.avi and data.\n",
      "Loading  D:/YuLab/Work/GPS/Video/Naveed/GPS_09_KornblumHold1500SRTSelf/20231230/Top/Clips/Naveed_20231230_HoldTrial059_TopView.avi and data.\n",
      "Loading  D:/YuLab/Work/GPS/Video/Naveed/GPS_09_KornblumHold1500SRTSelf/20231230/Top/Clips/Naveed_20231230_HoldTrial060_TopView.avi and data.\n",
      "Loading  D:/YuLab/Work/GPS/Video/Naveed/GPS_09_KornblumHold1500SRTSelf/20231230/Top/Clips/Naveed_20231230_HoldTrial061_TopView.avi and data.\n",
      "Loading  D:/YuLab/Work/GPS/Video/Naveed/GPS_09_KornblumHold1500SRTSelf/20231230/Top/Clips/Naveed_20231230_HoldTrial062_TopView.avi and data.\n",
      "Loading  D:/YuLab/Work/GPS/Video/Naveed/GPS_09_KornblumHold1500SRTSelf/20231230/Top/Clips/Naveed_20231230_HoldTrial063_TopView.avi and data.\n",
      "Loading  D:/YuLab/Work/GPS/Video/Naveed/GPS_09_KornblumHold1500SRTSelf/20231230/Top/Clips/Naveed_20231230_HoldTrial064_TopView.avi and data.\n",
      "Loading  D:/YuLab/Work/GPS/Video/Naveed/GPS_09_KornblumHold1500SRTSelf/20231230/Top/Clips/Naveed_20231230_HoldTrial065_TopView.avi and data.\n",
      "Loading  D:/YuLab/Work/GPS/Video/Naveed/GPS_09_KornblumHold1500SRTSelf/20231230/Top/Clips/Naveed_20231230_HoldTrial066_TopView.avi and data.\n",
      "Loading  D:/YuLab/Work/GPS/Video/Naveed/GPS_09_KornblumHold1500SRTSelf/20231230/Top/Clips/Naveed_20231230_HoldTrial067_TopView.avi and data.\n",
      "Loading  D:/YuLab/Work/GPS/Video/Naveed/GPS_09_KornblumHold1500SRTSelf/20231230/Top/Clips/Naveed_20231230_HoldTrial068_TopView.avi and data.\n",
      "Loading  D:/YuLab/Work/GPS/Video/Naveed/GPS_09_KornblumHold1500SRTSelf/20231230/Top/Clips/Naveed_20231230_HoldTrial069_TopView.avi and data.\n",
      "Loading  D:/YuLab/Work/GPS/Video/Naveed/GPS_09_KornblumHold1500SRTSelf/20231230/Top/Clips/Naveed_20231230_HoldTrial070_TopView.avi and data.\n",
      "Loading  D:/YuLab/Work/GPS/Video/Naveed/GPS_09_KornblumHold1500SRTSelf/20231230/Top/Clips/Naveed_20231230_HoldTrial071_TopView.avi and data.\n",
      "Loading  D:/YuLab/Work/GPS/Video/Naveed/GPS_09_KornblumHold1500SRTSelf/20231230/Top/Clips/Naveed_20231230_HoldTrial072_TopView.avi and data.\n",
      "Loading  D:/YuLab/Work/GPS/Video/Naveed/GPS_09_KornblumHold1500SRTSelf/20231230/Top/Clips/Naveed_20231230_HoldTrial073_TopView.avi and data.\n",
      "Loading  D:/YuLab/Work/GPS/Video/Naveed/GPS_09_KornblumHold1500SRTSelf/20231230/Top/Clips/Naveed_20231230_HoldTrial074_TopView.avi and data.\n",
      "Loading  D:/YuLab/Work/GPS/Video/Naveed/GPS_09_KornblumHold1500SRTSelf/20231230/Top/Clips/Naveed_20231230_HoldTrial075_TopView.avi and data.\n",
      "Loading  D:/YuLab/Work/GPS/Video/Naveed/GPS_09_KornblumHold1500SRTSelf/20231230/Top/Clips/Naveed_20231230_HoldTrial076_TopView.avi and data.\n",
      "Loading  D:/YuLab/Work/GPS/Video/Naveed/GPS_09_KornblumHold1500SRTSelf/20231230/Top/Clips/Naveed_20231230_HoldTrial077_TopView.avi and data.\n",
      "Loading  D:/YuLab/Work/GPS/Video/Naveed/GPS_09_KornblumHold1500SRTSelf/20231230/Top/Clips/Naveed_20231230_HoldTrial078_TopView.avi and data.\n",
      "Loading  D:/YuLab/Work/GPS/Video/Naveed/GPS_09_KornblumHold1500SRTSelf/20231230/Top/Clips/Naveed_20231230_HoldTrial079_TopView.avi and data.\n",
      "Loading  D:/YuLab/Work/GPS/Video/Naveed/GPS_09_KornblumHold1500SRTSelf/20231230/Top/Clips/Naveed_20231230_HoldTrial080_TopView.avi and data.\n",
      "Loading  D:/YuLab/Work/GPS/Video/Naveed/GPS_09_KornblumHold1500SRTSelf/20231230/Top/Clips/Naveed_20231230_HoldTrial081_TopView.avi and data.\n",
      "Loading  D:/YuLab/Work/GPS/Video/Naveed/GPS_09_KornblumHold1500SRTSelf/20231230/Top/Clips/Naveed_20231230_HoldTrial082_TopView.avi and data.\n",
      "Loading  D:/YuLab/Work/GPS/Video/Naveed/GPS_09_KornblumHold1500SRTSelf/20231230/Top/Clips/Naveed_20231230_HoldTrial083_TopView.avi and data.\n",
      "Loading  D:/YuLab/Work/GPS/Video/Naveed/GPS_09_KornblumHold1500SRTSelf/20231230/Top/Clips/Naveed_20231230_HoldTrial084_TopView.avi and data.\n",
      "Loading  D:/YuLab/Work/GPS/Video/Naveed/GPS_09_KornblumHold1500SRTSelf/20231230/Top/Clips/Naveed_20231230_HoldTrial085_TopView.avi and data.\n",
      "Loading  D:/YuLab/Work/GPS/Video/Naveed/GPS_09_KornblumHold1500SRTSelf/20231230/Top/Clips/Naveed_20231230_HoldTrial086_TopView.avi and data.\n",
      "Loading  D:/YuLab/Work/GPS/Video/Naveed/GPS_09_KornblumHold1500SRTSelf/20231230/Top/Clips/Naveed_20231230_HoldTrial087_TopView.avi and data.\n",
      "Loading  D:/YuLab/Work/GPS/Video/Naveed/GPS_09_KornblumHold1500SRTSelf/20231230/Top/Clips/Naveed_20231230_HoldTrial088_TopView.avi and data.\n",
      "Loading  D:/YuLab/Work/GPS/Video/Naveed/GPS_09_KornblumHold1500SRTSelf/20231230/Top/Clips/Naveed_20231230_HoldTrial089_TopView.avi and data.\n",
      "Loading  D:/YuLab/Work/GPS/Video/Naveed/GPS_09_KornblumHold1500SRTSelf/20231230/Top/Clips/Naveed_20231230_HoldTrial090_TopView.avi and data.\n",
      "Loading  D:/YuLab/Work/GPS/Video/Naveed/GPS_09_KornblumHold1500SRTSelf/20231230/Top/Clips/Naveed_20231230_HoldTrial091_TopView.avi and data.\n",
      "Loading  D:/YuLab/Work/GPS/Video/Naveed/GPS_09_KornblumHold1500SRTSelf/20231230/Top/Clips/Naveed_20231230_HoldTrial092_TopView.avi and data.\n",
      "Loading  D:/YuLab/Work/GPS/Video/Naveed/GPS_09_KornblumHold1500SRTSelf/20231230/Top/Clips/Naveed_20231230_HoldTrial093_TopView.avi and data.\n",
      "Loading  D:/YuLab/Work/GPS/Video/Naveed/GPS_09_KornblumHold1500SRTSelf/20231230/Top/Clips/Naveed_20231230_HoldTrial094_TopView.avi and data.\n",
      "Loading  D:/YuLab/Work/GPS/Video/Naveed/GPS_09_KornblumHold1500SRTSelf/20231230/Top/Clips/Naveed_20231230_HoldTrial095_TopView.avi and data.\n",
      "Loading  D:/YuLab/Work/GPS/Video/Naveed/GPS_09_KornblumHold1500SRTSelf/20231230/Top/Clips/Naveed_20231230_HoldTrial096_TopView.avi and data.\n",
      "Loading  D:/YuLab/Work/GPS/Video/Naveed/GPS_09_KornblumHold1500SRTSelf/20231230/Top/Clips/Naveed_20231230_HoldTrial097_TopView.avi and data.\n",
      "Loading  D:/YuLab/Work/GPS/Video/Naveed/GPS_09_KornblumHold1500SRTSelf/20231230/Top/Clips/Naveed_20231230_HoldTrial098_TopView.avi and data.\n",
      "Loading  D:/YuLab/Work/GPS/Video/Naveed/GPS_09_KornblumHold1500SRTSelf/20231230/Top/Clips/Naveed_20231230_HoldTrial099_TopView.avi and data.\n",
      "Loading  D:/YuLab/Work/GPS/Video/Naveed/GPS_09_KornblumHold1500SRTSelf/20231230/Top/Clips/Naveed_20231230_HoldTrial100_TopView.avi and data.\n",
      "Loading  D:/YuLab/Work/GPS/Video/Naveed/GPS_09_KornblumHold1500SRTSelf/20231230/Top/Clips/Naveed_20231230_HoldTrial101_TopView.avi and data.\n",
      "Loading  D:/YuLab/Work/GPS/Video/Naveed/GPS_09_KornblumHold1500SRTSelf/20231230/Top/Clips/Naveed_20231230_HoldTrial102_TopView.avi and data.\n",
      "Loading  D:/YuLab/Work/GPS/Video/Naveed/GPS_09_KornblumHold1500SRTSelf/20231230/Top/Clips/Naveed_20231230_HoldTrial103_TopView.avi and data.\n",
      "Loading  D:/YuLab/Work/GPS/Video/Naveed/GPS_09_KornblumHold1500SRTSelf/20231230/Top/Clips/Naveed_20231230_HoldTrial104_TopView.avi and data.\n",
      "Loading  D:/YuLab/Work/GPS/Video/Naveed/GPS_09_KornblumHold1500SRTSelf/20231230/Top/Clips/Naveed_20231230_HoldTrial105_TopView.avi and data.\n",
      "Loading  D:/YuLab/Work/GPS/Video/Naveed/GPS_09_KornblumHold1500SRTSelf/20231230/Top/Clips/Naveed_20231230_HoldTrial106_TopView.avi and data.\n",
      "Loading  D:/YuLab/Work/GPS/Video/Naveed/GPS_09_KornblumHold1500SRTSelf/20231230/Top/Clips/Naveed_20231230_HoldTrial107_TopView.avi and data.\n",
      "Loading  D:/YuLab/Work/GPS/Video/Naveed/GPS_09_KornblumHold1500SRTSelf/20231230/Top/Clips/Naveed_20231230_HoldTrial108_TopView.avi and data.\n",
      "Loading  D:/YuLab/Work/GPS/Video/Naveed/GPS_09_KornblumHold1500SRTSelf/20231230/Top/Clips/Naveed_20231230_HoldTrial109_TopView.avi and data.\n",
      "Loading  D:/YuLab/Work/GPS/Video/Naveed/GPS_09_KornblumHold1500SRTSelf/20231230/Top/Clips/Naveed_20231230_HoldTrial110_TopView.avi and data.\n",
      "Loading  D:/YuLab/Work/GPS/Video/Naveed/GPS_09_KornblumHold1500SRTSelf/20231230/Top/Clips/Naveed_20231230_HoldTrial111_TopView.avi and data.\n",
      "Loading  D:/YuLab/Work/GPS/Video/Naveed/GPS_09_KornblumHold1500SRTSelf/20231230/Top/Clips/Naveed_20231230_HoldTrial112_TopView.avi and data.\n",
      "Loading  D:/YuLab/Work/GPS/Video/Naveed/GPS_09_KornblumHold1500SRTSelf/20231230/Top/Clips/Naveed_20231230_HoldTrial113_TopView.avi and data.\n",
      "Loading  D:/YuLab/Work/GPS/Video/Naveed/GPS_09_KornblumHold1500SRTSelf/20231230/Top/Clips/Naveed_20231230_HoldTrial114_TopView.avi and data.\n",
      "Loading  D:/YuLab/Work/GPS/Video/Naveed/GPS_09_KornblumHold1500SRTSelf/20231230/Top/Clips/Naveed_20231230_HoldTrial115_TopView.avi and data.\n",
      "Loading  D:/YuLab/Work/GPS/Video/Naveed/GPS_09_KornblumHold1500SRTSelf/20231230/Top/Clips/Naveed_20231230_HoldTrial116_TopView.avi and data.\n",
      "Loading  D:/YuLab/Work/GPS/Video/Naveed/GPS_09_KornblumHold1500SRTSelf/20231230/Top/Clips/Naveed_20231230_HoldTrial117_TopView.avi and data.\n",
      "Loading  D:/YuLab/Work/GPS/Video/Naveed/GPS_09_KornblumHold1500SRTSelf/20231230/Top/Clips/Naveed_20231230_HoldTrial118_TopView.avi and data.\n",
      "Loading  D:/YuLab/Work/GPS/Video/Naveed/GPS_09_KornblumHold1500SRTSelf/20231230/Top/Clips/Naveed_20231230_HoldTrial119_TopView.avi and data.\n",
      "Loading  D:/YuLab/Work/GPS/Video/Naveed/GPS_09_KornblumHold1500SRTSelf/20231230/Top/Clips/Naveed_20231230_HoldTrial120_TopView.avi and data.\n",
      "Loading  D:/YuLab/Work/GPS/Video/Naveed/GPS_09_KornblumHold1500SRTSelf/20231230/Top/Clips/Naveed_20231230_HoldTrial121_TopView.avi and data.\n",
      "Loading  D:/YuLab/Work/GPS/Video/Naveed/GPS_09_KornblumHold1500SRTSelf/20231230/Top/Clips/Naveed_20231230_HoldTrial122_TopView.avi and data.\n",
      "Loading  D:/YuLab/Work/GPS/Video/Naveed/GPS_09_KornblumHold1500SRTSelf/20231230/Top/Clips/Naveed_20231230_HoldTrial123_TopView.avi and data.\n",
      "Loading  D:/YuLab/Work/GPS/Video/Naveed/GPS_09_KornblumHold1500SRTSelf/20231230/Top/Clips/Naveed_20231230_HoldTrial124_TopView.avi and data.\n",
      "Loading  D:/YuLab/Work/GPS/Video/Naveed/GPS_09_KornblumHold1500SRTSelf/20231230/Top/Clips/Naveed_20231230_HoldTrial125_TopView.avi and data.\n",
      "Loading  D:/YuLab/Work/GPS/Video/Naveed/GPS_09_KornblumHold1500SRTSelf/20231230/Top/Clips/Naveed_20231230_HoldTrial126_TopView.avi and data.\n",
      "Loading  D:/YuLab/Work/GPS/Video/Naveed/GPS_09_KornblumHold1500SRTSelf/20231230/Top/Clips/Naveed_20231230_HoldTrial127_TopView.avi and data.\n",
      "Loading  D:/YuLab/Work/GPS/Video/Naveed/GPS_09_KornblumHold1500SRTSelf/20231230/Top/Clips/Naveed_20231230_HoldTrial128_TopView.avi and data.\n",
      "Loading  D:/YuLab/Work/GPS/Video/Naveed/GPS_09_KornblumHold1500SRTSelf/20231230/Top/Clips/Naveed_20231230_HoldTrial129_TopView.avi and data.\n",
      "Loading  D:/YuLab/Work/GPS/Video/Naveed/GPS_09_KornblumHold1500SRTSelf/20231230/Top/Clips/Naveed_20231230_HoldTrial130_TopView.avi and data.\n",
      "Loading  D:/YuLab/Work/GPS/Video/Naveed/GPS_09_KornblumHold1500SRTSelf/20231230/Top/Clips/Naveed_20231230_HoldTrial131_TopView.avi and data.\n",
      "Loading  D:/YuLab/Work/GPS/Video/Naveed/GPS_09_KornblumHold1500SRTSelf/20231230/Top/Clips/Naveed_20231230_HoldTrial132_TopView.avi and data.\n",
      "Loading  D:/YuLab/Work/GPS/Video/Naveed/GPS_09_KornblumHold1500SRTSelf/20231230/Top/Clips/Naveed_20231230_HoldTrial133_TopView.avi and data.\n",
      "Loading  D:/YuLab/Work/GPS/Video/Naveed/GPS_09_KornblumHold1500SRTSelf/20231230/Top/Clips/Naveed_20231230_HoldTrial134_TopView.avi and data.\n",
      "Loading  D:/YuLab/Work/GPS/Video/Naveed/GPS_09_KornblumHold1500SRTSelf/20231230/Top/Clips/Naveed_20231230_HoldTrial135_TopView.avi and data.\n",
      "Loading  D:/YuLab/Work/GPS/Video/Naveed/GPS_09_KornblumHold1500SRTSelf/20231231/Top/Clips/Naveed_20231231_HoldTrial011_TopView.avi and data.\n",
      "Loading  D:/YuLab/Work/GPS/Video/Naveed/GPS_09_KornblumHold1500SRTSelf/20231231/Top/Clips/Naveed_20231231_HoldTrial012_TopView.avi and data.\n",
      "Loading  D:/YuLab/Work/GPS/Video/Naveed/GPS_09_KornblumHold1500SRTSelf/20231231/Top/Clips/Naveed_20231231_HoldTrial013_TopView.avi and data.\n",
      "Loading  D:/YuLab/Work/GPS/Video/Naveed/GPS_09_KornblumHold1500SRTSelf/20231231/Top/Clips/Naveed_20231231_HoldTrial014_TopView.avi and data.\n",
      "Loading  D:/YuLab/Work/GPS/Video/Naveed/GPS_09_KornblumHold1500SRTSelf/20231231/Top/Clips/Naveed_20231231_HoldTrial015_TopView.avi and data.\n",
      "Loading  D:/YuLab/Work/GPS/Video/Naveed/GPS_09_KornblumHold1500SRTSelf/20231231/Top/Clips/Naveed_20231231_HoldTrial016_TopView.avi and data.\n",
      "Loading  D:/YuLab/Work/GPS/Video/Naveed/GPS_09_KornblumHold1500SRTSelf/20231231/Top/Clips/Naveed_20231231_HoldTrial017_TopView.avi and data.\n",
      "Loading  D:/YuLab/Work/GPS/Video/Naveed/GPS_09_KornblumHold1500SRTSelf/20231231/Top/Clips/Naveed_20231231_HoldTrial018_TopView.avi and data.\n",
      "Loading  D:/YuLab/Work/GPS/Video/Naveed/GPS_09_KornblumHold1500SRTSelf/20231231/Top/Clips/Naveed_20231231_HoldTrial019_TopView.avi and data.\n",
      "Loading  D:/YuLab/Work/GPS/Video/Naveed/GPS_09_KornblumHold1500SRTSelf/20231231/Top/Clips/Naveed_20231231_HoldTrial020_TopView.avi and data.\n",
      "Loading  D:/YuLab/Work/GPS/Video/Naveed/GPS_09_KornblumHold1500SRTSelf/20231231/Top/Clips/Naveed_20231231_HoldTrial021_TopView.avi and data.\n",
      "Loading  D:/YuLab/Work/GPS/Video/Naveed/GPS_09_KornblumHold1500SRTSelf/20231231/Top/Clips/Naveed_20231231_HoldTrial022_TopView.avi and data.\n",
      "Loading  D:/YuLab/Work/GPS/Video/Naveed/GPS_09_KornblumHold1500SRTSelf/20231231/Top/Clips/Naveed_20231231_HoldTrial023_TopView.avi and data.\n",
      "Loading  D:/YuLab/Work/GPS/Video/Naveed/GPS_09_KornblumHold1500SRTSelf/20231231/Top/Clips/Naveed_20231231_HoldTrial024_TopView.avi and data.\n",
      "Loading  D:/YuLab/Work/GPS/Video/Naveed/GPS_09_KornblumHold1500SRTSelf/20231231/Top/Clips/Naveed_20231231_HoldTrial025_TopView.avi and data.\n",
      "Loading  D:/YuLab/Work/GPS/Video/Naveed/GPS_09_KornblumHold1500SRTSelf/20231231/Top/Clips/Naveed_20231231_HoldTrial026_TopView.avi and data.\n",
      "Loading  D:/YuLab/Work/GPS/Video/Naveed/GPS_09_KornblumHold1500SRTSelf/20231231/Top/Clips/Naveed_20231231_HoldTrial027_TopView.avi and data.\n",
      "Loading  D:/YuLab/Work/GPS/Video/Naveed/GPS_09_KornblumHold1500SRTSelf/20231231/Top/Clips/Naveed_20231231_HoldTrial028_TopView.avi and data.\n",
      "Loading  D:/YuLab/Work/GPS/Video/Naveed/GPS_09_KornblumHold1500SRTSelf/20231231/Top/Clips/Naveed_20231231_HoldTrial029_TopView.avi and data.\n",
      "Loading  D:/YuLab/Work/GPS/Video/Naveed/GPS_09_KornblumHold1500SRTSelf/20231231/Top/Clips/Naveed_20231231_HoldTrial030_TopView.avi and data.\n",
      "Loading  D:/YuLab/Work/GPS/Video/Naveed/GPS_09_KornblumHold1500SRTSelf/20231231/Top/Clips/Naveed_20231231_HoldTrial031_TopView.avi and data.\n",
      "Loading  D:/YuLab/Work/GPS/Video/Naveed/GPS_09_KornblumHold1500SRTSelf/20231231/Top/Clips/Naveed_20231231_HoldTrial032_TopView.avi and data.\n",
      "Loading  D:/YuLab/Work/GPS/Video/Naveed/GPS_09_KornblumHold1500SRTSelf/20231231/Top/Clips/Naveed_20231231_HoldTrial033_TopView.avi and data.\n",
      "Loading  D:/YuLab/Work/GPS/Video/Naveed/GPS_09_KornblumHold1500SRTSelf/20231231/Top/Clips/Naveed_20231231_HoldTrial034_TopView.avi and data.\n",
      "Loading  D:/YuLab/Work/GPS/Video/Naveed/GPS_09_KornblumHold1500SRTSelf/20231231/Top/Clips/Naveed_20231231_HoldTrial035_TopView.avi and data.\n",
      "Loading  D:/YuLab/Work/GPS/Video/Naveed/GPS_09_KornblumHold1500SRTSelf/20231231/Top/Clips/Naveed_20231231_HoldTrial036_TopView.avi and data.\n",
      "Loading  D:/YuLab/Work/GPS/Video/Naveed/GPS_09_KornblumHold1500SRTSelf/20231231/Top/Clips/Naveed_20231231_HoldTrial037_TopView.avi and data.\n",
      "Loading  D:/YuLab/Work/GPS/Video/Naveed/GPS_09_KornblumHold1500SRTSelf/20231231/Top/Clips/Naveed_20231231_HoldTrial038_TopView.avi and data.\n",
      "Loading  D:/YuLab/Work/GPS/Video/Naveed/GPS_09_KornblumHold1500SRTSelf/20231231/Top/Clips/Naveed_20231231_HoldTrial039_TopView.avi and data.\n",
      "Loading  D:/YuLab/Work/GPS/Video/Naveed/GPS_09_KornblumHold1500SRTSelf/20231231/Top/Clips/Naveed_20231231_HoldTrial040_TopView.avi and data.\n",
      "Loading  D:/YuLab/Work/GPS/Video/Naveed/GPS_09_KornblumHold1500SRTSelf/20231231/Top/Clips/Naveed_20231231_HoldTrial041_TopView.avi and data.\n",
      "Loading  D:/YuLab/Work/GPS/Video/Naveed/GPS_09_KornblumHold1500SRTSelf/20231231/Top/Clips/Naveed_20231231_HoldTrial042_TopView.avi and data.\n",
      "Loading  D:/YuLab/Work/GPS/Video/Naveed/GPS_09_KornblumHold1500SRTSelf/20231231/Top/Clips/Naveed_20231231_HoldTrial043_TopView.avi and data.\n",
      "Loading  D:/YuLab/Work/GPS/Video/Naveed/GPS_09_KornblumHold1500SRTSelf/20231231/Top/Clips/Naveed_20231231_HoldTrial044_TopView.avi and data.\n",
      "Loading  D:/YuLab/Work/GPS/Video/Naveed/GPS_09_KornblumHold1500SRTSelf/20231231/Top/Clips/Naveed_20231231_HoldTrial045_TopView.avi and data.\n",
      "Loading  D:/YuLab/Work/GPS/Video/Naveed/GPS_09_KornblumHold1500SRTSelf/20231231/Top/Clips/Naveed_20231231_HoldTrial046_TopView.avi and data.\n",
      "Loading  D:/YuLab/Work/GPS/Video/Naveed/GPS_09_KornblumHold1500SRTSelf/20231231/Top/Clips/Naveed_20231231_HoldTrial047_TopView.avi and data.\n",
      "Loading  D:/YuLab/Work/GPS/Video/Naveed/GPS_09_KornblumHold1500SRTSelf/20231231/Top/Clips/Naveed_20231231_HoldTrial048_TopView.avi and data.\n",
      "Loading  D:/YuLab/Work/GPS/Video/Naveed/GPS_09_KornblumHold1500SRTSelf/20231231/Top/Clips/Naveed_20231231_HoldTrial049_TopView.avi and data.\n",
      "Loading  D:/YuLab/Work/GPS/Video/Naveed/GPS_09_KornblumHold1500SRTSelf/20231231/Top/Clips/Naveed_20231231_HoldTrial050_TopView.avi and data.\n",
      "Loading  D:/YuLab/Work/GPS/Video/Naveed/GPS_09_KornblumHold1500SRTSelf/20231231/Top/Clips/Naveed_20231231_HoldTrial051_TopView.avi and data.\n",
      "Loading  D:/YuLab/Work/GPS/Video/Naveed/GPS_09_KornblumHold1500SRTSelf/20231231/Top/Clips/Naveed_20231231_HoldTrial052_TopView.avi and data.\n",
      "Loading  D:/YuLab/Work/GPS/Video/Naveed/GPS_09_KornblumHold1500SRTSelf/20231231/Top/Clips/Naveed_20231231_HoldTrial053_TopView.avi and data.\n",
      "Loading  D:/YuLab/Work/GPS/Video/Naveed/GPS_09_KornblumHold1500SRTSelf/20231231/Top/Clips/Naveed_20231231_HoldTrial054_TopView.avi and data.\n",
      "Loading  D:/YuLab/Work/GPS/Video/Naveed/GPS_09_KornblumHold1500SRTSelf/20231231/Top/Clips/Naveed_20231231_HoldTrial055_TopView.avi and data.\n",
      "Loading  D:/YuLab/Work/GPS/Video/Naveed/GPS_09_KornblumHold1500SRTSelf/20231231/Top/Clips/Naveed_20231231_HoldTrial056_TopView.avi and data.\n",
      "Loading  D:/YuLab/Work/GPS/Video/Naveed/GPS_09_KornblumHold1500SRTSelf/20231231/Top/Clips/Naveed_20231231_HoldTrial057_TopView.avi and data.\n",
      "Loading  D:/YuLab/Work/GPS/Video/Naveed/GPS_09_KornblumHold1500SRTSelf/20231231/Top/Clips/Naveed_20231231_HoldTrial058_TopView.avi and data.\n",
      "Loading  D:/YuLab/Work/GPS/Video/Naveed/GPS_09_KornblumHold1500SRTSelf/20231231/Top/Clips/Naveed_20231231_HoldTrial059_TopView.avi and data.\n",
      "Loading  D:/YuLab/Work/GPS/Video/Naveed/GPS_09_KornblumHold1500SRTSelf/20231231/Top/Clips/Naveed_20231231_HoldTrial060_TopView.avi and data.\n",
      "Loading  D:/YuLab/Work/GPS/Video/Naveed/GPS_09_KornblumHold1500SRTSelf/20231231/Top/Clips/Naveed_20231231_HoldTrial061_TopView.avi and data.\n",
      "Loading  D:/YuLab/Work/GPS/Video/Naveed/GPS_09_KornblumHold1500SRTSelf/20231231/Top/Clips/Naveed_20231231_HoldTrial062_TopView.avi and data.\n",
      "Loading  D:/YuLab/Work/GPS/Video/Naveed/GPS_09_KornblumHold1500SRTSelf/20231231/Top/Clips/Naveed_20231231_HoldTrial063_TopView.avi and data.\n",
      "Loading  D:/YuLab/Work/GPS/Video/Naveed/GPS_09_KornblumHold1500SRTSelf/20231231/Top/Clips/Naveed_20231231_HoldTrial064_TopView.avi and data.\n",
      "Loading  D:/YuLab/Work/GPS/Video/Naveed/GPS_09_KornblumHold1500SRTSelf/20231231/Top/Clips/Naveed_20231231_HoldTrial065_TopView.avi and data.\n",
      "Loading  D:/YuLab/Work/GPS/Video/Naveed/GPS_09_KornblumHold1500SRTSelf/20231231/Top/Clips/Naveed_20231231_HoldTrial066_TopView.avi and data.\n",
      "Loading  D:/YuLab/Work/GPS/Video/Naveed/GPS_09_KornblumHold1500SRTSelf/20231231/Top/Clips/Naveed_20231231_HoldTrial067_TopView.avi and data.\n",
      "Loading  D:/YuLab/Work/GPS/Video/Naveed/GPS_09_KornblumHold1500SRTSelf/20231231/Top/Clips/Naveed_20231231_HoldTrial068_TopView.avi and data.\n",
      "Loading  D:/YuLab/Work/GPS/Video/Naveed/GPS_09_KornblumHold1500SRTSelf/20231231/Top/Clips/Naveed_20231231_HoldTrial069_TopView.avi and data.\n",
      "Loading  D:/YuLab/Work/GPS/Video/Naveed/GPS_09_KornblumHold1500SRTSelf/20231231/Top/Clips/Naveed_20231231_HoldTrial070_TopView.avi and data.\n",
      "Loading  D:/YuLab/Work/GPS/Video/Naveed/GPS_09_KornblumHold1500SRTSelf/20231231/Top/Clips/Naveed_20231231_HoldTrial071_TopView.avi and data.\n",
      "Loading  D:/YuLab/Work/GPS/Video/Naveed/GPS_09_KornblumHold1500SRTSelf/20231231/Top/Clips/Naveed_20231231_HoldTrial072_TopView.avi and data.\n",
      "Loading  D:/YuLab/Work/GPS/Video/Naveed/GPS_09_KornblumHold1500SRTSelf/20231231/Top/Clips/Naveed_20231231_HoldTrial073_TopView.avi and data.\n",
      "Loading  D:/YuLab/Work/GPS/Video/Naveed/GPS_09_KornblumHold1500SRTSelf/20231231/Top/Clips/Naveed_20231231_HoldTrial074_TopView.avi and data.\n",
      "Loading  D:/YuLab/Work/GPS/Video/Naveed/GPS_09_KornblumHold1500SRTSelf/20231231/Top/Clips/Naveed_20231231_HoldTrial075_TopView.avi and data.\n",
      "Loading  D:/YuLab/Work/GPS/Video/Naveed/GPS_09_KornblumHold1500SRTSelf/20231231/Top/Clips/Naveed_20231231_HoldTrial076_TopView.avi and data.\n",
      "Loading  D:/YuLab/Work/GPS/Video/Naveed/GPS_09_KornblumHold1500SRTSelf/20231231/Top/Clips/Naveed_20231231_HoldTrial077_TopView.avi and data.\n",
      "Loading  D:/YuLab/Work/GPS/Video/Naveed/GPS_09_KornblumHold1500SRTSelf/20231231/Top/Clips/Naveed_20231231_HoldTrial078_TopView.avi and data.\n",
      "Loading  D:/YuLab/Work/GPS/Video/Naveed/GPS_09_KornblumHold1500SRTSelf/20231231/Top/Clips/Naveed_20231231_HoldTrial079_TopView.avi and data.\n",
      "Loading  D:/YuLab/Work/GPS/Video/Naveed/GPS_09_KornblumHold1500SRTSelf/20231231/Top/Clips/Naveed_20231231_HoldTrial080_TopView.avi and data.\n",
      "Loading  D:/YuLab/Work/GPS/Video/Naveed/GPS_09_KornblumHold1500SRTSelf/20231231/Top/Clips/Naveed_20231231_HoldTrial081_TopView.avi and data.\n",
      "Loading  D:/YuLab/Work/GPS/Video/Naveed/GPS_09_KornblumHold1500SRTSelf/20231231/Top/Clips/Naveed_20231231_HoldTrial082_TopView.avi and data.\n",
      "Loading  D:/YuLab/Work/GPS/Video/Naveed/GPS_09_KornblumHold1500SRTSelf/20231231/Top/Clips/Naveed_20231231_HoldTrial083_TopView.avi and data.\n",
      "Loading  D:/YuLab/Work/GPS/Video/Naveed/GPS_09_KornblumHold1500SRTSelf/20231231/Top/Clips/Naveed_20231231_HoldTrial084_TopView.avi and data.\n",
      "Loading  D:/YuLab/Work/GPS/Video/Naveed/GPS_09_KornblumHold1500SRTSelf/20231231/Top/Clips/Naveed_20231231_HoldTrial085_TopView.avi and data.\n",
      "Loading  D:/YuLab/Work/GPS/Video/Naveed/GPS_09_KornblumHold1500SRTSelf/20231231/Top/Clips/Naveed_20231231_HoldTrial086_TopView.avi and data.\n",
      "Loading  D:/YuLab/Work/GPS/Video/Naveed/GPS_09_KornblumHold1500SRTSelf/20231231/Top/Clips/Naveed_20231231_HoldTrial087_TopView.avi and data.\n",
      "Loading  D:/YuLab/Work/GPS/Video/Naveed/GPS_09_KornblumHold1500SRTSelf/20231231/Top/Clips/Naveed_20231231_HoldTrial088_TopView.avi and data.\n",
      "Loading  D:/YuLab/Work/GPS/Video/Naveed/GPS_09_KornblumHold1500SRTSelf/20231231/Top/Clips/Naveed_20231231_HoldTrial089_TopView.avi and data.\n",
      "Loading  D:/YuLab/Work/GPS/Video/Naveed/GPS_09_KornblumHold1500SRTSelf/20231231/Top/Clips/Naveed_20231231_HoldTrial090_TopView.avi and data.\n",
      "Loading  D:/YuLab/Work/GPS/Video/Naveed/GPS_09_KornblumHold1500SRTSelf/20231231/Top/Clips/Naveed_20231231_HoldTrial091_TopView.avi and data.\n",
      "Loading  D:/YuLab/Work/GPS/Video/Naveed/GPS_09_KornblumHold1500SRTSelf/20231231/Top/Clips/Naveed_20231231_HoldTrial092_TopView.avi and data.\n",
      "Loading  D:/YuLab/Work/GPS/Video/Naveed/GPS_09_KornblumHold1500SRTSelf/20231231/Top/Clips/Naveed_20231231_HoldTrial093_TopView.avi and data.\n",
      "Loading  D:/YuLab/Work/GPS/Video/Naveed/GPS_09_KornblumHold1500SRTSelf/20231231/Top/Clips/Naveed_20231231_HoldTrial094_TopView.avi and data.\n",
      "Loading  D:/YuLab/Work/GPS/Video/Naveed/GPS_09_KornblumHold1500SRTSelf/20231231/Top/Clips/Naveed_20231231_HoldTrial095_TopView.avi and data.\n",
      "Loading  D:/YuLab/Work/GPS/Video/Naveed/GPS_09_KornblumHold1500SRTSelf/20231231/Top/Clips/Naveed_20231231_HoldTrial096_TopView.avi and data.\n",
      "Loading  D:/YuLab/Work/GPS/Video/Naveed/GPS_09_KornblumHold1500SRTSelf/20231231/Top/Clips/Naveed_20231231_HoldTrial097_TopView.avi and data.\n",
      "Loading  D:/YuLab/Work/GPS/Video/Naveed/GPS_09_KornblumHold1500SRTSelf/20231231/Top/Clips/Naveed_20231231_HoldTrial098_TopView.avi and data.\n",
      "Loading  D:/YuLab/Work/GPS/Video/Naveed/GPS_09_KornblumHold1500SRTSelf/20231231/Top/Clips/Naveed_20231231_HoldTrial099_TopView.avi and data.\n",
      "Loading  D:/YuLab/Work/GPS/Video/Naveed/GPS_09_KornblumHold1500SRTSelf/20231231/Top/Clips/Naveed_20231231_HoldTrial100_TopView.avi and data.\n",
      "Loading  D:/YuLab/Work/GPS/Video/Naveed/GPS_09_KornblumHold1500SRTSelf/20231231/Top/Clips/Naveed_20231231_HoldTrial101_TopView.avi and data.\n",
      "Loading  D:/YuLab/Work/GPS/Video/Naveed/GPS_09_KornblumHold1500SRTSelf/20231231/Top/Clips/Naveed_20231231_HoldTrial102_TopView.avi and data.\n",
      "Loading  D:/YuLab/Work/GPS/Video/Naveed/GPS_09_KornblumHold1500SRTSelf/20231231/Top/Clips/Naveed_20231231_HoldTrial103_TopView.avi and data.\n",
      "Loading  D:/YuLab/Work/GPS/Video/Naveed/GPS_09_KornblumHold1500SRTSelf/20231231/Top/Clips/Naveed_20231231_HoldTrial104_TopView.avi and data.\n",
      "Loading  D:/YuLab/Work/GPS/Video/Naveed/GPS_09_KornblumHold1500SRTSelf/20231231/Top/Clips/Naveed_20231231_HoldTrial105_TopView.avi and data.\n",
      "Loading  D:/YuLab/Work/GPS/Video/Naveed/GPS_09_KornblumHold1500SRTSelf/20231231/Top/Clips/Naveed_20231231_HoldTrial106_TopView.avi and data.\n",
      "Loading  D:/YuLab/Work/GPS/Video/Naveed/GPS_09_KornblumHold1500SRTSelf/20231231/Top/Clips/Naveed_20231231_HoldTrial107_TopView.avi and data.\n",
      "Loading  D:/YuLab/Work/GPS/Video/Naveed/GPS_09_KornblumHold1500SRTSelf/20231231/Top/Clips/Naveed_20231231_HoldTrial108_TopView.avi and data.\n",
      "Loading  D:/YuLab/Work/GPS/Video/Naveed/GPS_09_KornblumHold1500SRTSelf/20231231/Top/Clips/Naveed_20231231_HoldTrial109_TopView.avi and data.\n",
      "Loading  D:/YuLab/Work/GPS/Video/Naveed/GPS_09_KornblumHold1500SRTSelf/20231231/Top/Clips/Naveed_20231231_HoldTrial110_TopView.avi and data.\n",
      "Loading  D:/YuLab/Work/GPS/Video/Naveed/GPS_09_KornblumHold1500SRTSelf/20231231/Top/Clips/Naveed_20231231_HoldTrial111_TopView.avi and data.\n",
      "Plots created! Please check the directory \"plot-poses\" within the video directory\n"
     ]
    }
   ],
   "source": [
    "deeplabcut.plot_trajectories(config=config_path, videos=video_files, videotype='avi', displayedbodyparts=['ear_base_left', 'ear_base_right', 'body_1', 'port_left', 'port_right'])"
   ]
  }
 ],
 "metadata": {
  "kernelspec": {
   "display_name": "DEEPLABCUT",
   "language": "python",
   "name": "python3"
  },
  "language_info": {
   "codemirror_mode": {
    "name": "ipython",
    "version": 3
   },
   "file_extension": ".py",
   "mimetype": "text/x-python",
   "name": "python",
   "nbconvert_exporter": "python",
   "pygments_lexer": "ipython3",
   "version": "3.8.17"
  }
 },
 "nbformat": 4,
 "nbformat_minor": 2
}
