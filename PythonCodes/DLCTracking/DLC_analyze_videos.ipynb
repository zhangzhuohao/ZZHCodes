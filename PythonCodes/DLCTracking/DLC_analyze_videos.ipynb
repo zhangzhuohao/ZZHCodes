{
 "cells": [
  {
   "cell_type": "code",
   "execution_count": 2,
   "metadata": {},
   "outputs": [
    {
     "name": "stdout",
     "output_type": "stream",
     "text": [
      "Loading DLC 2.3.5...\n"
     ]
    }
   ],
   "source": [
    "import deeplabcut"
   ]
  },
  {
   "cell_type": "code",
   "execution_count": 3,
   "metadata": {},
   "outputs": [],
   "source": [
    "config_path = r\"D:\\YuLab\\Work\\GPS\\DLC\\Morad\\Model\\Top\\MoradTopGPS-ZZH-2023-09-12\\config.yaml\""
   ]
  },
  {
   "cell_type": "markdown",
   "metadata": {},
   "source": [
    "Video files"
   ]
  },
  {
   "cell_type": "code",
   "execution_count": 4,
   "metadata": {},
   "outputs": [],
   "source": [
    "video_files = [\n",
    "r\"D:\\YuLab\\Work\\GPS\\Video\\Kennard\\GPS_08_Kornblum1500SRTSelf\\20231007\\Top\\Clips\\Kennard_20231007_HoldTrial081_TopView.avi\",\n",
    "r\"D:\\YuLab\\Work\\GPS\\Video\\Kennard\\GPS_08_Kornblum1500SRTSelf\\20231007\\Top\\Clips\\Kennard_20231007_HoldTrial004_TopView.avi\",\n",
    "r\"D:\\YuLab\\Work\\GPS\\Video\\Kennard\\GPS_08_Kornblum1500SRTSelf\\20231007\\Top\\Clips\\Kennard_20231007_HoldTrial005_TopView.avi\",\n",
    "r\"D:\\YuLab\\Work\\GPS\\Video\\Kennard\\GPS_08_Kornblum1500SRTSelf\\20231007\\Top\\Clips\\Kennard_20231007_HoldTrial006_TopView.avi\",\n",
    "r\"D:\\YuLab\\Work\\GPS\\Video\\Kennard\\GPS_08_Kornblum1500SRTSelf\\20231007\\Top\\Clips\\Kennard_20231007_HoldTrial007_TopView.avi\",\n",
    "r\"D:\\YuLab\\Work\\GPS\\Video\\Kennard\\GPS_08_Kornblum1500SRTSelf\\20231007\\Top\\Clips\\Kennard_20231007_HoldTrial008_TopView.avi\",\n",
    "r\"D:\\YuLab\\Work\\GPS\\Video\\Kennard\\GPS_08_Kornblum1500SRTSelf\\20231007\\Top\\Clips\\Kennard_20231007_HoldTrial009_TopView.avi\",\n",
    "r\"D:\\YuLab\\Work\\GPS\\Video\\Kennard\\GPS_08_Kornblum1500SRTSelf\\20231007\\Top\\Clips\\Kennard_20231007_HoldTrial010_TopView.avi\",\n",
    "r\"D:\\YuLab\\Work\\GPS\\Video\\Kennard\\GPS_08_Kornblum1500SRTSelf\\20231007\\Top\\Clips\\Kennard_20231007_HoldTrial011_TopView.avi\",\n",
    "r\"D:\\YuLab\\Work\\GPS\\Video\\Kennard\\GPS_08_Kornblum1500SRTSelf\\20231007\\Top\\Clips\\Kennard_20231007_HoldTrial012_TopView.avi\",\n",
    "r\"D:\\YuLab\\Work\\GPS\\Video\\Kennard\\GPS_08_Kornblum1500SRTSelf\\20231007\\Top\\Clips\\Kennard_20231007_HoldTrial013_TopView.avi\",\n",
    "r\"D:\\YuLab\\Work\\GPS\\Video\\Kennard\\GPS_08_Kornblum1500SRTSelf\\20231007\\Top\\Clips\\Kennard_20231007_HoldTrial014_TopView.avi\",\n",
    "r\"D:\\YuLab\\Work\\GPS\\Video\\Kennard\\GPS_08_Kornblum1500SRTSelf\\20231007\\Top\\Clips\\Kennard_20231007_HoldTrial015_TopView.avi\",\n",
    "r\"D:\\YuLab\\Work\\GPS\\Video\\Kennard\\GPS_08_Kornblum1500SRTSelf\\20231007\\Top\\Clips\\Kennard_20231007_HoldTrial016_TopView.avi\",\n",
    "r\"D:\\YuLab\\Work\\GPS\\Video\\Kennard\\GPS_08_Kornblum1500SRTSelf\\20231007\\Top\\Clips\\Kennard_20231007_HoldTrial017_TopView.avi\",\n",
    "r\"D:\\YuLab\\Work\\GPS\\Video\\Kennard\\GPS_08_Kornblum1500SRTSelf\\20231007\\Top\\Clips\\Kennard_20231007_HoldTrial018_TopView.avi\",\n",
    "r\"D:\\YuLab\\Work\\GPS\\Video\\Kennard\\GPS_08_Kornblum1500SRTSelf\\20231007\\Top\\Clips\\Kennard_20231007_HoldTrial019_TopView.avi\",\n",
    "r\"D:\\YuLab\\Work\\GPS\\Video\\Kennard\\GPS_08_Kornblum1500SRTSelf\\20231007\\Top\\Clips\\Kennard_20231007_HoldTrial020_TopView.avi\",\n",
    "r\"D:\\YuLab\\Work\\GPS\\Video\\Kennard\\GPS_08_Kornblum1500SRTSelf\\20231007\\Top\\Clips\\Kennard_20231007_HoldTrial021_TopView.avi\",\n",
    "r\"D:\\YuLab\\Work\\GPS\\Video\\Kennard\\GPS_08_Kornblum1500SRTSelf\\20231007\\Top\\Clips\\Kennard_20231007_HoldTrial022_TopView.avi\",\n",
    "r\"D:\\YuLab\\Work\\GPS\\Video\\Kennard\\GPS_08_Kornblum1500SRTSelf\\20231007\\Top\\Clips\\Kennard_20231007_HoldTrial023_TopView.avi\",\n",
    "r\"D:\\YuLab\\Work\\GPS\\Video\\Kennard\\GPS_08_Kornblum1500SRTSelf\\20231007\\Top\\Clips\\Kennard_20231007_HoldTrial024_TopView.avi\",\n",
    "r\"D:\\YuLab\\Work\\GPS\\Video\\Kennard\\GPS_08_Kornblum1500SRTSelf\\20231007\\Top\\Clips\\Kennard_20231007_HoldTrial025_TopView.avi\",\n",
    "r\"D:\\YuLab\\Work\\GPS\\Video\\Kennard\\GPS_08_Kornblum1500SRTSelf\\20231007\\Top\\Clips\\Kennard_20231007_HoldTrial026_TopView.avi\",\n",
    "r\"D:\\YuLab\\Work\\GPS\\Video\\Kennard\\GPS_08_Kornblum1500SRTSelf\\20231007\\Top\\Clips\\Kennard_20231007_HoldTrial027_TopView.avi\",\n",
    "r\"D:\\YuLab\\Work\\GPS\\Video\\Kennard\\GPS_08_Kornblum1500SRTSelf\\20231007\\Top\\Clips\\Kennard_20231007_HoldTrial028_TopView.avi\",\n",
    "r\"D:\\YuLab\\Work\\GPS\\Video\\Kennard\\GPS_08_Kornblum1500SRTSelf\\20231007\\Top\\Clips\\Kennard_20231007_HoldTrial029_TopView.avi\",\n",
    "r\"D:\\YuLab\\Work\\GPS\\Video\\Kennard\\GPS_08_Kornblum1500SRTSelf\\20231007\\Top\\Clips\\Kennard_20231007_HoldTrial030_TopView.avi\",\n",
    "r\"D:\\YuLab\\Work\\GPS\\Video\\Kennard\\GPS_08_Kornblum1500SRTSelf\\20231007\\Top\\Clips\\Kennard_20231007_HoldTrial031_TopView.avi\",\n",
    "r\"D:\\YuLab\\Work\\GPS\\Video\\Kennard\\GPS_08_Kornblum1500SRTSelf\\20231007\\Top\\Clips\\Kennard_20231007_HoldTrial032_TopView.avi\",\n",
    "r\"D:\\YuLab\\Work\\GPS\\Video\\Kennard\\GPS_08_Kornblum1500SRTSelf\\20231007\\Top\\Clips\\Kennard_20231007_HoldTrial033_TopView.avi\",\n",
    "r\"D:\\YuLab\\Work\\GPS\\Video\\Kennard\\GPS_08_Kornblum1500SRTSelf\\20231007\\Top\\Clips\\Kennard_20231007_HoldTrial034_TopView.avi\",\n",
    "r\"D:\\YuLab\\Work\\GPS\\Video\\Kennard\\GPS_08_Kornblum1500SRTSelf\\20231007\\Top\\Clips\\Kennard_20231007_HoldTrial035_TopView.avi\",\n",
    "r\"D:\\YuLab\\Work\\GPS\\Video\\Kennard\\GPS_08_Kornblum1500SRTSelf\\20231007\\Top\\Clips\\Kennard_20231007_HoldTrial036_TopView.avi\",\n",
    "r\"D:\\YuLab\\Work\\GPS\\Video\\Kennard\\GPS_08_Kornblum1500SRTSelf\\20231007\\Top\\Clips\\Kennard_20231007_HoldTrial037_TopView.avi\",\n",
    "r\"D:\\YuLab\\Work\\GPS\\Video\\Kennard\\GPS_08_Kornblum1500SRTSelf\\20231007\\Top\\Clips\\Kennard_20231007_HoldTrial038_TopView.avi\",\n",
    "r\"D:\\YuLab\\Work\\GPS\\Video\\Kennard\\GPS_08_Kornblum1500SRTSelf\\20231007\\Top\\Clips\\Kennard_20231007_HoldTrial039_TopView.avi\",\n",
    "r\"D:\\YuLab\\Work\\GPS\\Video\\Kennard\\GPS_08_Kornblum1500SRTSelf\\20231007\\Top\\Clips\\Kennard_20231007_HoldTrial040_TopView.avi\",\n",
    "r\"D:\\YuLab\\Work\\GPS\\Video\\Kennard\\GPS_08_Kornblum1500SRTSelf\\20231007\\Top\\Clips\\Kennard_20231007_HoldTrial041_TopView.avi\",\n",
    "r\"D:\\YuLab\\Work\\GPS\\Video\\Kennard\\GPS_08_Kornblum1500SRTSelf\\20231007\\Top\\Clips\\Kennard_20231007_HoldTrial042_TopView.avi\",\n",
    "r\"D:\\YuLab\\Work\\GPS\\Video\\Kennard\\GPS_08_Kornblum1500SRTSelf\\20231007\\Top\\Clips\\Kennard_20231007_HoldTrial043_TopView.avi\",\n",
    "r\"D:\\YuLab\\Work\\GPS\\Video\\Kennard\\GPS_08_Kornblum1500SRTSelf\\20231007\\Top\\Clips\\Kennard_20231007_HoldTrial044_TopView.avi\",\n",
    "r\"D:\\YuLab\\Work\\GPS\\Video\\Kennard\\GPS_08_Kornblum1500SRTSelf\\20231007\\Top\\Clips\\Kennard_20231007_HoldTrial045_TopView.avi\",\n",
    "r\"D:\\YuLab\\Work\\GPS\\Video\\Kennard\\GPS_08_Kornblum1500SRTSelf\\20231007\\Top\\Clips\\Kennard_20231007_HoldTrial046_TopView.avi\",\n",
    "r\"D:\\YuLab\\Work\\GPS\\Video\\Kennard\\GPS_08_Kornblum1500SRTSelf\\20231007\\Top\\Clips\\Kennard_20231007_HoldTrial047_TopView.avi\",\n",
    "r\"D:\\YuLab\\Work\\GPS\\Video\\Kennard\\GPS_08_Kornblum1500SRTSelf\\20231007\\Top\\Clips\\Kennard_20231007_HoldTrial048_TopView.avi\",\n",
    "r\"D:\\YuLab\\Work\\GPS\\Video\\Kennard\\GPS_08_Kornblum1500SRTSelf\\20231007\\Top\\Clips\\Kennard_20231007_HoldTrial049_TopView.avi\",\n",
    "r\"D:\\YuLab\\Work\\GPS\\Video\\Kennard\\GPS_08_Kornblum1500SRTSelf\\20231007\\Top\\Clips\\Kennard_20231007_HoldTrial050_TopView.avi\",\n",
    "r\"D:\\YuLab\\Work\\GPS\\Video\\Kennard\\GPS_08_Kornblum1500SRTSelf\\20231007\\Top\\Clips\\Kennard_20231007_HoldTrial051_TopView.avi\",\n",
    "r\"D:\\YuLab\\Work\\GPS\\Video\\Kennard\\GPS_08_Kornblum1500SRTSelf\\20231007\\Top\\Clips\\Kennard_20231007_HoldTrial052_TopView.avi\",\n",
    "r\"D:\\YuLab\\Work\\GPS\\Video\\Kennard\\GPS_08_Kornblum1500SRTSelf\\20231007\\Top\\Clips\\Kennard_20231007_HoldTrial053_TopView.avi\",\n",
    "r\"D:\\YuLab\\Work\\GPS\\Video\\Kennard\\GPS_08_Kornblum1500SRTSelf\\20231007\\Top\\Clips\\Kennard_20231007_HoldTrial054_TopView.avi\",\n",
    "r\"D:\\YuLab\\Work\\GPS\\Video\\Kennard\\GPS_08_Kornblum1500SRTSelf\\20231007\\Top\\Clips\\Kennard_20231007_HoldTrial055_TopView.avi\",\n",
    "r\"D:\\YuLab\\Work\\GPS\\Video\\Kennard\\GPS_08_Kornblum1500SRTSelf\\20231007\\Top\\Clips\\Kennard_20231007_HoldTrial056_TopView.avi\",\n",
    "r\"D:\\YuLab\\Work\\GPS\\Video\\Kennard\\GPS_08_Kornblum1500SRTSelf\\20231007\\Top\\Clips\\Kennard_20231007_HoldTrial057_TopView.avi\",\n",
    "r\"D:\\YuLab\\Work\\GPS\\Video\\Kennard\\GPS_08_Kornblum1500SRTSelf\\20231007\\Top\\Clips\\Kennard_20231007_HoldTrial058_TopView.avi\",\n",
    "r\"D:\\YuLab\\Work\\GPS\\Video\\Kennard\\GPS_08_Kornblum1500SRTSelf\\20231007\\Top\\Clips\\Kennard_20231007_HoldTrial059_TopView.avi\",\n",
    "r\"D:\\YuLab\\Work\\GPS\\Video\\Kennard\\GPS_08_Kornblum1500SRTSelf\\20231007\\Top\\Clips\\Kennard_20231007_HoldTrial060_TopView.avi\",\n",
    "r\"D:\\YuLab\\Work\\GPS\\Video\\Kennard\\GPS_08_Kornblum1500SRTSelf\\20231007\\Top\\Clips\\Kennard_20231007_HoldTrial061_TopView.avi\",\n",
    "r\"D:\\YuLab\\Work\\GPS\\Video\\Kennard\\GPS_08_Kornblum1500SRTSelf\\20231007\\Top\\Clips\\Kennard_20231007_HoldTrial062_TopView.avi\",\n",
    "r\"D:\\YuLab\\Work\\GPS\\Video\\Kennard\\GPS_08_Kornblum1500SRTSelf\\20231007\\Top\\Clips\\Kennard_20231007_HoldTrial063_TopView.avi\",\n",
    "r\"D:\\YuLab\\Work\\GPS\\Video\\Kennard\\GPS_08_Kornblum1500SRTSelf\\20231007\\Top\\Clips\\Kennard_20231007_HoldTrial064_TopView.avi\",\n",
    "r\"D:\\YuLab\\Work\\GPS\\Video\\Kennard\\GPS_08_Kornblum1500SRTSelf\\20231007\\Top\\Clips\\Kennard_20231007_HoldTrial065_TopView.avi\",\n",
    "r\"D:\\YuLab\\Work\\GPS\\Video\\Kennard\\GPS_08_Kornblum1500SRTSelf\\20231007\\Top\\Clips\\Kennard_20231007_HoldTrial066_TopView.avi\",\n",
    "r\"D:\\YuLab\\Work\\GPS\\Video\\Kennard\\GPS_08_Kornblum1500SRTSelf\\20231007\\Top\\Clips\\Kennard_20231007_HoldTrial067_TopView.avi\",\n",
    "r\"D:\\YuLab\\Work\\GPS\\Video\\Kennard\\GPS_08_Kornblum1500SRTSelf\\20231007\\Top\\Clips\\Kennard_20231007_HoldTrial068_TopView.avi\",\n",
    "r\"D:\\YuLab\\Work\\GPS\\Video\\Kennard\\GPS_08_Kornblum1500SRTSelf\\20231007\\Top\\Clips\\Kennard_20231007_HoldTrial069_TopView.avi\",\n",
    "r\"D:\\YuLab\\Work\\GPS\\Video\\Kennard\\GPS_08_Kornblum1500SRTSelf\\20231007\\Top\\Clips\\Kennard_20231007_HoldTrial070_TopView.avi\",\n",
    "r\"D:\\YuLab\\Work\\GPS\\Video\\Kennard\\GPS_08_Kornblum1500SRTSelf\\20231007\\Top\\Clips\\Kennard_20231007_HoldTrial071_TopView.avi\",\n",
    "r\"D:\\YuLab\\Work\\GPS\\Video\\Kennard\\GPS_08_Kornblum1500SRTSelf\\20231007\\Top\\Clips\\Kennard_20231007_HoldTrial072_TopView.avi\",\n",
    "r\"D:\\YuLab\\Work\\GPS\\Video\\Kennard\\GPS_08_Kornblum1500SRTSelf\\20231007\\Top\\Clips\\Kennard_20231007_HoldTrial073_TopView.avi\",\n",
    "r\"D:\\YuLab\\Work\\GPS\\Video\\Kennard\\GPS_08_Kornblum1500SRTSelf\\20231007\\Top\\Clips\\Kennard_20231007_HoldTrial074_TopView.avi\",\n",
    "r\"D:\\YuLab\\Work\\GPS\\Video\\Kennard\\GPS_08_Kornblum1500SRTSelf\\20231007\\Top\\Clips\\Kennard_20231007_HoldTrial075_TopView.avi\",\n",
    "r\"D:\\YuLab\\Work\\GPS\\Video\\Kennard\\GPS_08_Kornblum1500SRTSelf\\20231007\\Top\\Clips\\Kennard_20231007_HoldTrial076_TopView.avi\",\n",
    "r\"D:\\YuLab\\Work\\GPS\\Video\\Kennard\\GPS_08_Kornblum1500SRTSelf\\20231007\\Top\\Clips\\Kennard_20231007_HoldTrial077_TopView.avi\",\n",
    "r\"D:\\YuLab\\Work\\GPS\\Video\\Kennard\\GPS_08_Kornblum1500SRTSelf\\20231007\\Top\\Clips\\Kennard_20231007_HoldTrial078_TopView.avi\",\n",
    "r\"D:\\YuLab\\Work\\GPS\\Video\\Kennard\\GPS_08_Kornblum1500SRTSelf\\20231007\\Top\\Clips\\Kennard_20231007_HoldTrial079_TopView.avi\",\n",
    "r\"D:\\YuLab\\Work\\GPS\\Video\\Kennard\\GPS_08_Kornblum1500SRTSelf\\20231007\\Top\\Clips\\Kennard_20231007_HoldTrial080_TopView.avi\",\n",
    "r\"D:\\YuLab\\Work\\GPS\\Video\\Kennard\\GPS_08_Kornblum1500SRTSelf\\20231009\\Top\\Clips\\Kennard_20231009_HoldTrial101_TopView.avi\",\n",
    "r\"D:\\YuLab\\Work\\GPS\\Video\\Kennard\\GPS_08_Kornblum1500SRTSelf\\20231009\\Top\\Clips\\Kennard_20231009_HoldTrial012_TopView.avi\",\n",
    "r\"D:\\YuLab\\Work\\GPS\\Video\\Kennard\\GPS_08_Kornblum1500SRTSelf\\20231009\\Top\\Clips\\Kennard_20231009_HoldTrial013_TopView.avi\",\n",
    "r\"D:\\YuLab\\Work\\GPS\\Video\\Kennard\\GPS_08_Kornblum1500SRTSelf\\20231009\\Top\\Clips\\Kennard_20231009_HoldTrial014_TopView.avi\",\n",
    "r\"D:\\YuLab\\Work\\GPS\\Video\\Kennard\\GPS_08_Kornblum1500SRTSelf\\20231009\\Top\\Clips\\Kennard_20231009_HoldTrial015_TopView.avi\",\n",
    "r\"D:\\YuLab\\Work\\GPS\\Video\\Kennard\\GPS_08_Kornblum1500SRTSelf\\20231009\\Top\\Clips\\Kennard_20231009_HoldTrial016_TopView.avi\",\n",
    "r\"D:\\YuLab\\Work\\GPS\\Video\\Kennard\\GPS_08_Kornblum1500SRTSelf\\20231009\\Top\\Clips\\Kennard_20231009_HoldTrial017_TopView.avi\",\n",
    "r\"D:\\YuLab\\Work\\GPS\\Video\\Kennard\\GPS_08_Kornblum1500SRTSelf\\20231009\\Top\\Clips\\Kennard_20231009_HoldTrial018_TopView.avi\",\n",
    "r\"D:\\YuLab\\Work\\GPS\\Video\\Kennard\\GPS_08_Kornblum1500SRTSelf\\20231009\\Top\\Clips\\Kennard_20231009_HoldTrial019_TopView.avi\",\n",
    "r\"D:\\YuLab\\Work\\GPS\\Video\\Kennard\\GPS_08_Kornblum1500SRTSelf\\20231009\\Top\\Clips\\Kennard_20231009_HoldTrial020_TopView.avi\",\n",
    "r\"D:\\YuLab\\Work\\GPS\\Video\\Kennard\\GPS_08_Kornblum1500SRTSelf\\20231009\\Top\\Clips\\Kennard_20231009_HoldTrial021_TopView.avi\",\n",
    "r\"D:\\YuLab\\Work\\GPS\\Video\\Kennard\\GPS_08_Kornblum1500SRTSelf\\20231009\\Top\\Clips\\Kennard_20231009_HoldTrial022_TopView.avi\",\n",
    "r\"D:\\YuLab\\Work\\GPS\\Video\\Kennard\\GPS_08_Kornblum1500SRTSelf\\20231009\\Top\\Clips\\Kennard_20231009_HoldTrial023_TopView.avi\",\n",
    "r\"D:\\YuLab\\Work\\GPS\\Video\\Kennard\\GPS_08_Kornblum1500SRTSelf\\20231009\\Top\\Clips\\Kennard_20231009_HoldTrial024_TopView.avi\",\n",
    "r\"D:\\YuLab\\Work\\GPS\\Video\\Kennard\\GPS_08_Kornblum1500SRTSelf\\20231009\\Top\\Clips\\Kennard_20231009_HoldTrial025_TopView.avi\",\n",
    "r\"D:\\YuLab\\Work\\GPS\\Video\\Kennard\\GPS_08_Kornblum1500SRTSelf\\20231009\\Top\\Clips\\Kennard_20231009_HoldTrial026_TopView.avi\",\n",
    "r\"D:\\YuLab\\Work\\GPS\\Video\\Kennard\\GPS_08_Kornblum1500SRTSelf\\20231009\\Top\\Clips\\Kennard_20231009_HoldTrial027_TopView.avi\",\n",
    "r\"D:\\YuLab\\Work\\GPS\\Video\\Kennard\\GPS_08_Kornblum1500SRTSelf\\20231009\\Top\\Clips\\Kennard_20231009_HoldTrial028_TopView.avi\",\n",
    "r\"D:\\YuLab\\Work\\GPS\\Video\\Kennard\\GPS_08_Kornblum1500SRTSelf\\20231009\\Top\\Clips\\Kennard_20231009_HoldTrial029_TopView.avi\",\n",
    "r\"D:\\YuLab\\Work\\GPS\\Video\\Kennard\\GPS_08_Kornblum1500SRTSelf\\20231009\\Top\\Clips\\Kennard_20231009_HoldTrial030_TopView.avi\",\n",
    "r\"D:\\YuLab\\Work\\GPS\\Video\\Kennard\\GPS_08_Kornblum1500SRTSelf\\20231009\\Top\\Clips\\Kennard_20231009_HoldTrial031_TopView.avi\",\n",
    "r\"D:\\YuLab\\Work\\GPS\\Video\\Kennard\\GPS_08_Kornblum1500SRTSelf\\20231009\\Top\\Clips\\Kennard_20231009_HoldTrial032_TopView.avi\",\n",
    "r\"D:\\YuLab\\Work\\GPS\\Video\\Kennard\\GPS_08_Kornblum1500SRTSelf\\20231009\\Top\\Clips\\Kennard_20231009_HoldTrial033_TopView.avi\",\n",
    "r\"D:\\YuLab\\Work\\GPS\\Video\\Kennard\\GPS_08_Kornblum1500SRTSelf\\20231009\\Top\\Clips\\Kennard_20231009_HoldTrial034_TopView.avi\",\n",
    "r\"D:\\YuLab\\Work\\GPS\\Video\\Kennard\\GPS_08_Kornblum1500SRTSelf\\20231009\\Top\\Clips\\Kennard_20231009_HoldTrial035_TopView.avi\",\n",
    "r\"D:\\YuLab\\Work\\GPS\\Video\\Kennard\\GPS_08_Kornblum1500SRTSelf\\20231009\\Top\\Clips\\Kennard_20231009_HoldTrial036_TopView.avi\",\n",
    "r\"D:\\YuLab\\Work\\GPS\\Video\\Kennard\\GPS_08_Kornblum1500SRTSelf\\20231009\\Top\\Clips\\Kennard_20231009_HoldTrial037_TopView.avi\",\n",
    "r\"D:\\YuLab\\Work\\GPS\\Video\\Kennard\\GPS_08_Kornblum1500SRTSelf\\20231009\\Top\\Clips\\Kennard_20231009_HoldTrial038_TopView.avi\",\n",
    "r\"D:\\YuLab\\Work\\GPS\\Video\\Kennard\\GPS_08_Kornblum1500SRTSelf\\20231009\\Top\\Clips\\Kennard_20231009_HoldTrial039_TopView.avi\",\n",
    "r\"D:\\YuLab\\Work\\GPS\\Video\\Kennard\\GPS_08_Kornblum1500SRTSelf\\20231009\\Top\\Clips\\Kennard_20231009_HoldTrial040_TopView.avi\",\n",
    "r\"D:\\YuLab\\Work\\GPS\\Video\\Kennard\\GPS_08_Kornblum1500SRTSelf\\20231009\\Top\\Clips\\Kennard_20231009_HoldTrial041_TopView.avi\",\n",
    "r\"D:\\YuLab\\Work\\GPS\\Video\\Kennard\\GPS_08_Kornblum1500SRTSelf\\20231009\\Top\\Clips\\Kennard_20231009_HoldTrial042_TopView.avi\",\n",
    "r\"D:\\YuLab\\Work\\GPS\\Video\\Kennard\\GPS_08_Kornblum1500SRTSelf\\20231009\\Top\\Clips\\Kennard_20231009_HoldTrial043_TopView.avi\",\n",
    "r\"D:\\YuLab\\Work\\GPS\\Video\\Kennard\\GPS_08_Kornblum1500SRTSelf\\20231009\\Top\\Clips\\Kennard_20231009_HoldTrial044_TopView.avi\",\n",
    "r\"D:\\YuLab\\Work\\GPS\\Video\\Kennard\\GPS_08_Kornblum1500SRTSelf\\20231009\\Top\\Clips\\Kennard_20231009_HoldTrial045_TopView.avi\",\n",
    "r\"D:\\YuLab\\Work\\GPS\\Video\\Kennard\\GPS_08_Kornblum1500SRTSelf\\20231009\\Top\\Clips\\Kennard_20231009_HoldTrial046_TopView.avi\",\n",
    "r\"D:\\YuLab\\Work\\GPS\\Video\\Kennard\\GPS_08_Kornblum1500SRTSelf\\20231009\\Top\\Clips\\Kennard_20231009_HoldTrial047_TopView.avi\",\n",
    "r\"D:\\YuLab\\Work\\GPS\\Video\\Kennard\\GPS_08_Kornblum1500SRTSelf\\20231009\\Top\\Clips\\Kennard_20231009_HoldTrial048_TopView.avi\",\n",
    "r\"D:\\YuLab\\Work\\GPS\\Video\\Kennard\\GPS_08_Kornblum1500SRTSelf\\20231009\\Top\\Clips\\Kennard_20231009_HoldTrial049_TopView.avi\",\n",
    "r\"D:\\YuLab\\Work\\GPS\\Video\\Kennard\\GPS_08_Kornblum1500SRTSelf\\20231009\\Top\\Clips\\Kennard_20231009_HoldTrial050_TopView.avi\",\n",
    "r\"D:\\YuLab\\Work\\GPS\\Video\\Kennard\\GPS_08_Kornblum1500SRTSelf\\20231009\\Top\\Clips\\Kennard_20231009_HoldTrial051_TopView.avi\",\n",
    "r\"D:\\YuLab\\Work\\GPS\\Video\\Kennard\\GPS_08_Kornblum1500SRTSelf\\20231009\\Top\\Clips\\Kennard_20231009_HoldTrial052_TopView.avi\",\n",
    "r\"D:\\YuLab\\Work\\GPS\\Video\\Kennard\\GPS_08_Kornblum1500SRTSelf\\20231009\\Top\\Clips\\Kennard_20231009_HoldTrial053_TopView.avi\",\n",
    "r\"D:\\YuLab\\Work\\GPS\\Video\\Kennard\\GPS_08_Kornblum1500SRTSelf\\20231009\\Top\\Clips\\Kennard_20231009_HoldTrial054_TopView.avi\",\n",
    "r\"D:\\YuLab\\Work\\GPS\\Video\\Kennard\\GPS_08_Kornblum1500SRTSelf\\20231009\\Top\\Clips\\Kennard_20231009_HoldTrial055_TopView.avi\",\n",
    "r\"D:\\YuLab\\Work\\GPS\\Video\\Kennard\\GPS_08_Kornblum1500SRTSelf\\20231009\\Top\\Clips\\Kennard_20231009_HoldTrial056_TopView.avi\",\n",
    "r\"D:\\YuLab\\Work\\GPS\\Video\\Kennard\\GPS_08_Kornblum1500SRTSelf\\20231009\\Top\\Clips\\Kennard_20231009_HoldTrial057_TopView.avi\",\n",
    "r\"D:\\YuLab\\Work\\GPS\\Video\\Kennard\\GPS_08_Kornblum1500SRTSelf\\20231009\\Top\\Clips\\Kennard_20231009_HoldTrial058_TopView.avi\",\n",
    "r\"D:\\YuLab\\Work\\GPS\\Video\\Kennard\\GPS_08_Kornblum1500SRTSelf\\20231009\\Top\\Clips\\Kennard_20231009_HoldTrial059_TopView.avi\",\n",
    "r\"D:\\YuLab\\Work\\GPS\\Video\\Kennard\\GPS_08_Kornblum1500SRTSelf\\20231009\\Top\\Clips\\Kennard_20231009_HoldTrial060_TopView.avi\",\n",
    "r\"D:\\YuLab\\Work\\GPS\\Video\\Kennard\\GPS_08_Kornblum1500SRTSelf\\20231009\\Top\\Clips\\Kennard_20231009_HoldTrial061_TopView.avi\",\n",
    "r\"D:\\YuLab\\Work\\GPS\\Video\\Kennard\\GPS_08_Kornblum1500SRTSelf\\20231009\\Top\\Clips\\Kennard_20231009_HoldTrial062_TopView.avi\",\n",
    "r\"D:\\YuLab\\Work\\GPS\\Video\\Kennard\\GPS_08_Kornblum1500SRTSelf\\20231009\\Top\\Clips\\Kennard_20231009_HoldTrial063_TopView.avi\",\n",
    "r\"D:\\YuLab\\Work\\GPS\\Video\\Kennard\\GPS_08_Kornblum1500SRTSelf\\20231009\\Top\\Clips\\Kennard_20231009_HoldTrial064_TopView.avi\",\n",
    "r\"D:\\YuLab\\Work\\GPS\\Video\\Kennard\\GPS_08_Kornblum1500SRTSelf\\20231009\\Top\\Clips\\Kennard_20231009_HoldTrial065_TopView.avi\",\n",
    "r\"D:\\YuLab\\Work\\GPS\\Video\\Kennard\\GPS_08_Kornblum1500SRTSelf\\20231009\\Top\\Clips\\Kennard_20231009_HoldTrial066_TopView.avi\",\n",
    "r\"D:\\YuLab\\Work\\GPS\\Video\\Kennard\\GPS_08_Kornblum1500SRTSelf\\20231009\\Top\\Clips\\Kennard_20231009_HoldTrial067_TopView.avi\",\n",
    "r\"D:\\YuLab\\Work\\GPS\\Video\\Kennard\\GPS_08_Kornblum1500SRTSelf\\20231009\\Top\\Clips\\Kennard_20231009_HoldTrial068_TopView.avi\",\n",
    "r\"D:\\YuLab\\Work\\GPS\\Video\\Kennard\\GPS_08_Kornblum1500SRTSelf\\20231009\\Top\\Clips\\Kennard_20231009_HoldTrial069_TopView.avi\",\n",
    "r\"D:\\YuLab\\Work\\GPS\\Video\\Kennard\\GPS_08_Kornblum1500SRTSelf\\20231009\\Top\\Clips\\Kennard_20231009_HoldTrial070_TopView.avi\",\n",
    "r\"D:\\YuLab\\Work\\GPS\\Video\\Kennard\\GPS_08_Kornblum1500SRTSelf\\20231009\\Top\\Clips\\Kennard_20231009_HoldTrial071_TopView.avi\",\n",
    "r\"D:\\YuLab\\Work\\GPS\\Video\\Kennard\\GPS_08_Kornblum1500SRTSelf\\20231009\\Top\\Clips\\Kennard_20231009_HoldTrial072_TopView.avi\",\n",
    "r\"D:\\YuLab\\Work\\GPS\\Video\\Kennard\\GPS_08_Kornblum1500SRTSelf\\20231009\\Top\\Clips\\Kennard_20231009_HoldTrial073_TopView.avi\",\n",
    "r\"D:\\YuLab\\Work\\GPS\\Video\\Kennard\\GPS_08_Kornblum1500SRTSelf\\20231009\\Top\\Clips\\Kennard_20231009_HoldTrial074_TopView.avi\",\n",
    "r\"D:\\YuLab\\Work\\GPS\\Video\\Kennard\\GPS_08_Kornblum1500SRTSelf\\20231009\\Top\\Clips\\Kennard_20231009_HoldTrial075_TopView.avi\",\n",
    "r\"D:\\YuLab\\Work\\GPS\\Video\\Kennard\\GPS_08_Kornblum1500SRTSelf\\20231009\\Top\\Clips\\Kennard_20231009_HoldTrial076_TopView.avi\",\n",
    "r\"D:\\YuLab\\Work\\GPS\\Video\\Kennard\\GPS_08_Kornblum1500SRTSelf\\20231009\\Top\\Clips\\Kennard_20231009_HoldTrial077_TopView.avi\",\n",
    "r\"D:\\YuLab\\Work\\GPS\\Video\\Kennard\\GPS_08_Kornblum1500SRTSelf\\20231009\\Top\\Clips\\Kennard_20231009_HoldTrial078_TopView.avi\",\n",
    "r\"D:\\YuLab\\Work\\GPS\\Video\\Kennard\\GPS_08_Kornblum1500SRTSelf\\20231009\\Top\\Clips\\Kennard_20231009_HoldTrial079_TopView.avi\",\n",
    "r\"D:\\YuLab\\Work\\GPS\\Video\\Kennard\\GPS_08_Kornblum1500SRTSelf\\20231009\\Top\\Clips\\Kennard_20231009_HoldTrial080_TopView.avi\",\n",
    "r\"D:\\YuLab\\Work\\GPS\\Video\\Kennard\\GPS_08_Kornblum1500SRTSelf\\20231009\\Top\\Clips\\Kennard_20231009_HoldTrial081_TopView.avi\",\n",
    "r\"D:\\YuLab\\Work\\GPS\\Video\\Kennard\\GPS_08_Kornblum1500SRTSelf\\20231009\\Top\\Clips\\Kennard_20231009_HoldTrial082_TopView.avi\",\n",
    "r\"D:\\YuLab\\Work\\GPS\\Video\\Kennard\\GPS_08_Kornblum1500SRTSelf\\20231009\\Top\\Clips\\Kennard_20231009_HoldTrial083_TopView.avi\",\n",
    "r\"D:\\YuLab\\Work\\GPS\\Video\\Kennard\\GPS_08_Kornblum1500SRTSelf\\20231009\\Top\\Clips\\Kennard_20231009_HoldTrial084_TopView.avi\",\n",
    "r\"D:\\YuLab\\Work\\GPS\\Video\\Kennard\\GPS_08_Kornblum1500SRTSelf\\20231009\\Top\\Clips\\Kennard_20231009_HoldTrial085_TopView.avi\",\n",
    "r\"D:\\YuLab\\Work\\GPS\\Video\\Kennard\\GPS_08_Kornblum1500SRTSelf\\20231009\\Top\\Clips\\Kennard_20231009_HoldTrial086_TopView.avi\",\n",
    "r\"D:\\YuLab\\Work\\GPS\\Video\\Kennard\\GPS_08_Kornblum1500SRTSelf\\20231009\\Top\\Clips\\Kennard_20231009_HoldTrial087_TopView.avi\",\n",
    "r\"D:\\YuLab\\Work\\GPS\\Video\\Kennard\\GPS_08_Kornblum1500SRTSelf\\20231009\\Top\\Clips\\Kennard_20231009_HoldTrial088_TopView.avi\",\n",
    "r\"D:\\YuLab\\Work\\GPS\\Video\\Kennard\\GPS_08_Kornblum1500SRTSelf\\20231009\\Top\\Clips\\Kennard_20231009_HoldTrial089_TopView.avi\",\n",
    "r\"D:\\YuLab\\Work\\GPS\\Video\\Kennard\\GPS_08_Kornblum1500SRTSelf\\20231009\\Top\\Clips\\Kennard_20231009_HoldTrial090_TopView.avi\",\n",
    "r\"D:\\YuLab\\Work\\GPS\\Video\\Kennard\\GPS_08_Kornblum1500SRTSelf\\20231009\\Top\\Clips\\Kennard_20231009_HoldTrial091_TopView.avi\",\n",
    "r\"D:\\YuLab\\Work\\GPS\\Video\\Kennard\\GPS_08_Kornblum1500SRTSelf\\20231009\\Top\\Clips\\Kennard_20231009_HoldTrial092_TopView.avi\",\n",
    "r\"D:\\YuLab\\Work\\GPS\\Video\\Kennard\\GPS_08_Kornblum1500SRTSelf\\20231009\\Top\\Clips\\Kennard_20231009_HoldTrial093_TopView.avi\",\n",
    "r\"D:\\YuLab\\Work\\GPS\\Video\\Kennard\\GPS_08_Kornblum1500SRTSelf\\20231009\\Top\\Clips\\Kennard_20231009_HoldTrial094_TopView.avi\",\n",
    "r\"D:\\YuLab\\Work\\GPS\\Video\\Kennard\\GPS_08_Kornblum1500SRTSelf\\20231009\\Top\\Clips\\Kennard_20231009_HoldTrial095_TopView.avi\",\n",
    "r\"D:\\YuLab\\Work\\GPS\\Video\\Kennard\\GPS_08_Kornblum1500SRTSelf\\20231009\\Top\\Clips\\Kennard_20231009_HoldTrial096_TopView.avi\",\n",
    "r\"D:\\YuLab\\Work\\GPS\\Video\\Kennard\\GPS_08_Kornblum1500SRTSelf\\20231009\\Top\\Clips\\Kennard_20231009_HoldTrial097_TopView.avi\",\n",
    "r\"D:\\YuLab\\Work\\GPS\\Video\\Kennard\\GPS_08_Kornblum1500SRTSelf\\20231009\\Top\\Clips\\Kennard_20231009_HoldTrial098_TopView.avi\",\n",
    "r\"D:\\YuLab\\Work\\GPS\\Video\\Kennard\\GPS_08_Kornblum1500SRTSelf\\20231009\\Top\\Clips\\Kennard_20231009_HoldTrial099_TopView.avi\",\n",
    "r\"D:\\YuLab\\Work\\GPS\\Video\\Kennard\\GPS_08_Kornblum1500SRTSelf\\20231009\\Top\\Clips\\Kennard_20231009_HoldTrial100_TopView.avi\",\n",
    "r\"D:\\YuLab\\Work\\GPS\\Video\\Kennard\\GPS_08_Kornblum1500SRTSelf\\20231010\\Top\\Clips\\Kennard_20231010_HoldTrial106_TopView.avi\",\n",
    "r\"D:\\YuLab\\Work\\GPS\\Video\\Kennard\\GPS_08_Kornblum1500SRTSelf\\20231010\\Top\\Clips\\Kennard_20231010_HoldTrial011_TopView.avi\",\n",
    "r\"D:\\YuLab\\Work\\GPS\\Video\\Kennard\\GPS_08_Kornblum1500SRTSelf\\20231010\\Top\\Clips\\Kennard_20231010_HoldTrial012_TopView.avi\",\n",
    "r\"D:\\YuLab\\Work\\GPS\\Video\\Kennard\\GPS_08_Kornblum1500SRTSelf\\20231010\\Top\\Clips\\Kennard_20231010_HoldTrial013_TopView.avi\",\n",
    "r\"D:\\YuLab\\Work\\GPS\\Video\\Kennard\\GPS_08_Kornblum1500SRTSelf\\20231010\\Top\\Clips\\Kennard_20231010_HoldTrial014_TopView.avi\",\n",
    "r\"D:\\YuLab\\Work\\GPS\\Video\\Kennard\\GPS_08_Kornblum1500SRTSelf\\20231010\\Top\\Clips\\Kennard_20231010_HoldTrial015_TopView.avi\",\n",
    "r\"D:\\YuLab\\Work\\GPS\\Video\\Kennard\\GPS_08_Kornblum1500SRTSelf\\20231010\\Top\\Clips\\Kennard_20231010_HoldTrial016_TopView.avi\",\n",
    "r\"D:\\YuLab\\Work\\GPS\\Video\\Kennard\\GPS_08_Kornblum1500SRTSelf\\20231010\\Top\\Clips\\Kennard_20231010_HoldTrial017_TopView.avi\",\n",
    "r\"D:\\YuLab\\Work\\GPS\\Video\\Kennard\\GPS_08_Kornblum1500SRTSelf\\20231010\\Top\\Clips\\Kennard_20231010_HoldTrial018_TopView.avi\",\n",
    "r\"D:\\YuLab\\Work\\GPS\\Video\\Kennard\\GPS_08_Kornblum1500SRTSelf\\20231010\\Top\\Clips\\Kennard_20231010_HoldTrial019_TopView.avi\",\n",
    "r\"D:\\YuLab\\Work\\GPS\\Video\\Kennard\\GPS_08_Kornblum1500SRTSelf\\20231010\\Top\\Clips\\Kennard_20231010_HoldTrial020_TopView.avi\",\n",
    "r\"D:\\YuLab\\Work\\GPS\\Video\\Kennard\\GPS_08_Kornblum1500SRTSelf\\20231010\\Top\\Clips\\Kennard_20231010_HoldTrial021_TopView.avi\",\n",
    "r\"D:\\YuLab\\Work\\GPS\\Video\\Kennard\\GPS_08_Kornblum1500SRTSelf\\20231010\\Top\\Clips\\Kennard_20231010_HoldTrial022_TopView.avi\",\n",
    "r\"D:\\YuLab\\Work\\GPS\\Video\\Kennard\\GPS_08_Kornblum1500SRTSelf\\20231010\\Top\\Clips\\Kennard_20231010_HoldTrial023_TopView.avi\",\n",
    "r\"D:\\YuLab\\Work\\GPS\\Video\\Kennard\\GPS_08_Kornblum1500SRTSelf\\20231010\\Top\\Clips\\Kennard_20231010_HoldTrial024_TopView.avi\",\n",
    "r\"D:\\YuLab\\Work\\GPS\\Video\\Kennard\\GPS_08_Kornblum1500SRTSelf\\20231010\\Top\\Clips\\Kennard_20231010_HoldTrial025_TopView.avi\",\n",
    "r\"D:\\YuLab\\Work\\GPS\\Video\\Kennard\\GPS_08_Kornblum1500SRTSelf\\20231010\\Top\\Clips\\Kennard_20231010_HoldTrial026_TopView.avi\",\n",
    "r\"D:\\YuLab\\Work\\GPS\\Video\\Kennard\\GPS_08_Kornblum1500SRTSelf\\20231010\\Top\\Clips\\Kennard_20231010_HoldTrial027_TopView.avi\",\n",
    "r\"D:\\YuLab\\Work\\GPS\\Video\\Kennard\\GPS_08_Kornblum1500SRTSelf\\20231010\\Top\\Clips\\Kennard_20231010_HoldTrial028_TopView.avi\",\n",
    "r\"D:\\YuLab\\Work\\GPS\\Video\\Kennard\\GPS_08_Kornblum1500SRTSelf\\20231010\\Top\\Clips\\Kennard_20231010_HoldTrial029_TopView.avi\",\n",
    "r\"D:\\YuLab\\Work\\GPS\\Video\\Kennard\\GPS_08_Kornblum1500SRTSelf\\20231010\\Top\\Clips\\Kennard_20231010_HoldTrial030_TopView.avi\",\n",
    "r\"D:\\YuLab\\Work\\GPS\\Video\\Kennard\\GPS_08_Kornblum1500SRTSelf\\20231010\\Top\\Clips\\Kennard_20231010_HoldTrial031_TopView.avi\",\n",
    "r\"D:\\YuLab\\Work\\GPS\\Video\\Kennard\\GPS_08_Kornblum1500SRTSelf\\20231010\\Top\\Clips\\Kennard_20231010_HoldTrial032_TopView.avi\",\n",
    "r\"D:\\YuLab\\Work\\GPS\\Video\\Kennard\\GPS_08_Kornblum1500SRTSelf\\20231010\\Top\\Clips\\Kennard_20231010_HoldTrial033_TopView.avi\",\n",
    "r\"D:\\YuLab\\Work\\GPS\\Video\\Kennard\\GPS_08_Kornblum1500SRTSelf\\20231010\\Top\\Clips\\Kennard_20231010_HoldTrial034_TopView.avi\",\n",
    "r\"D:\\YuLab\\Work\\GPS\\Video\\Kennard\\GPS_08_Kornblum1500SRTSelf\\20231010\\Top\\Clips\\Kennard_20231010_HoldTrial035_TopView.avi\",\n",
    "r\"D:\\YuLab\\Work\\GPS\\Video\\Kennard\\GPS_08_Kornblum1500SRTSelf\\20231010\\Top\\Clips\\Kennard_20231010_HoldTrial036_TopView.avi\",\n",
    "r\"D:\\YuLab\\Work\\GPS\\Video\\Kennard\\GPS_08_Kornblum1500SRTSelf\\20231010\\Top\\Clips\\Kennard_20231010_HoldTrial037_TopView.avi\",\n",
    "r\"D:\\YuLab\\Work\\GPS\\Video\\Kennard\\GPS_08_Kornblum1500SRTSelf\\20231010\\Top\\Clips\\Kennard_20231010_HoldTrial038_TopView.avi\",\n",
    "r\"D:\\YuLab\\Work\\GPS\\Video\\Kennard\\GPS_08_Kornblum1500SRTSelf\\20231010\\Top\\Clips\\Kennard_20231010_HoldTrial039_TopView.avi\",\n",
    "r\"D:\\YuLab\\Work\\GPS\\Video\\Kennard\\GPS_08_Kornblum1500SRTSelf\\20231010\\Top\\Clips\\Kennard_20231010_HoldTrial040_TopView.avi\",\n",
    "r\"D:\\YuLab\\Work\\GPS\\Video\\Kennard\\GPS_08_Kornblum1500SRTSelf\\20231010\\Top\\Clips\\Kennard_20231010_HoldTrial041_TopView.avi\",\n",
    "r\"D:\\YuLab\\Work\\GPS\\Video\\Kennard\\GPS_08_Kornblum1500SRTSelf\\20231010\\Top\\Clips\\Kennard_20231010_HoldTrial042_TopView.avi\",\n",
    "r\"D:\\YuLab\\Work\\GPS\\Video\\Kennard\\GPS_08_Kornblum1500SRTSelf\\20231010\\Top\\Clips\\Kennard_20231010_HoldTrial043_TopView.avi\",\n",
    "r\"D:\\YuLab\\Work\\GPS\\Video\\Kennard\\GPS_08_Kornblum1500SRTSelf\\20231010\\Top\\Clips\\Kennard_20231010_HoldTrial044_TopView.avi\",\n",
    "r\"D:\\YuLab\\Work\\GPS\\Video\\Kennard\\GPS_08_Kornblum1500SRTSelf\\20231010\\Top\\Clips\\Kennard_20231010_HoldTrial045_TopView.avi\",\n",
    "r\"D:\\YuLab\\Work\\GPS\\Video\\Kennard\\GPS_08_Kornblum1500SRTSelf\\20231010\\Top\\Clips\\Kennard_20231010_HoldTrial046_TopView.avi\",\n",
    "r\"D:\\YuLab\\Work\\GPS\\Video\\Kennard\\GPS_08_Kornblum1500SRTSelf\\20231010\\Top\\Clips\\Kennard_20231010_HoldTrial047_TopView.avi\",\n",
    "r\"D:\\YuLab\\Work\\GPS\\Video\\Kennard\\GPS_08_Kornblum1500SRTSelf\\20231010\\Top\\Clips\\Kennard_20231010_HoldTrial048_TopView.avi\",\n",
    "r\"D:\\YuLab\\Work\\GPS\\Video\\Kennard\\GPS_08_Kornblum1500SRTSelf\\20231010\\Top\\Clips\\Kennard_20231010_HoldTrial049_TopView.avi\",\n",
    "r\"D:\\YuLab\\Work\\GPS\\Video\\Kennard\\GPS_08_Kornblum1500SRTSelf\\20231010\\Top\\Clips\\Kennard_20231010_HoldTrial050_TopView.avi\",\n",
    "r\"D:\\YuLab\\Work\\GPS\\Video\\Kennard\\GPS_08_Kornblum1500SRTSelf\\20231010\\Top\\Clips\\Kennard_20231010_HoldTrial051_TopView.avi\",\n",
    "r\"D:\\YuLab\\Work\\GPS\\Video\\Kennard\\GPS_08_Kornblum1500SRTSelf\\20231010\\Top\\Clips\\Kennard_20231010_HoldTrial052_TopView.avi\",\n",
    "r\"D:\\YuLab\\Work\\GPS\\Video\\Kennard\\GPS_08_Kornblum1500SRTSelf\\20231010\\Top\\Clips\\Kennard_20231010_HoldTrial053_TopView.avi\",\n",
    "r\"D:\\YuLab\\Work\\GPS\\Video\\Kennard\\GPS_08_Kornblum1500SRTSelf\\20231010\\Top\\Clips\\Kennard_20231010_HoldTrial055_TopView.avi\",\n",
    "r\"D:\\YuLab\\Work\\GPS\\Video\\Kennard\\GPS_08_Kornblum1500SRTSelf\\20231010\\Top\\Clips\\Kennard_20231010_HoldTrial056_TopView.avi\",\n",
    "r\"D:\\YuLab\\Work\\GPS\\Video\\Kennard\\GPS_08_Kornblum1500SRTSelf\\20231010\\Top\\Clips\\Kennard_20231010_HoldTrial057_TopView.avi\",\n",
    "r\"D:\\YuLab\\Work\\GPS\\Video\\Kennard\\GPS_08_Kornblum1500SRTSelf\\20231010\\Top\\Clips\\Kennard_20231010_HoldTrial058_TopView.avi\",\n",
    "r\"D:\\YuLab\\Work\\GPS\\Video\\Kennard\\GPS_08_Kornblum1500SRTSelf\\20231010\\Top\\Clips\\Kennard_20231010_HoldTrial059_TopView.avi\",\n",
    "r\"D:\\YuLab\\Work\\GPS\\Video\\Kennard\\GPS_08_Kornblum1500SRTSelf\\20231010\\Top\\Clips\\Kennard_20231010_HoldTrial060_TopView.avi\",\n",
    "r\"D:\\YuLab\\Work\\GPS\\Video\\Kennard\\GPS_08_Kornblum1500SRTSelf\\20231010\\Top\\Clips\\Kennard_20231010_HoldTrial061_TopView.avi\",\n",
    "r\"D:\\YuLab\\Work\\GPS\\Video\\Kennard\\GPS_08_Kornblum1500SRTSelf\\20231010\\Top\\Clips\\Kennard_20231010_HoldTrial062_TopView.avi\",\n",
    "r\"D:\\YuLab\\Work\\GPS\\Video\\Kennard\\GPS_08_Kornblum1500SRTSelf\\20231010\\Top\\Clips\\Kennard_20231010_HoldTrial063_TopView.avi\",\n",
    "r\"D:\\YuLab\\Work\\GPS\\Video\\Kennard\\GPS_08_Kornblum1500SRTSelf\\20231010\\Top\\Clips\\Kennard_20231010_HoldTrial064_TopView.avi\",\n",
    "r\"D:\\YuLab\\Work\\GPS\\Video\\Kennard\\GPS_08_Kornblum1500SRTSelf\\20231010\\Top\\Clips\\Kennard_20231010_HoldTrial065_TopView.avi\",\n",
    "r\"D:\\YuLab\\Work\\GPS\\Video\\Kennard\\GPS_08_Kornblum1500SRTSelf\\20231010\\Top\\Clips\\Kennard_20231010_HoldTrial066_TopView.avi\",\n",
    "r\"D:\\YuLab\\Work\\GPS\\Video\\Kennard\\GPS_08_Kornblum1500SRTSelf\\20231010\\Top\\Clips\\Kennard_20231010_HoldTrial067_TopView.avi\",\n",
    "r\"D:\\YuLab\\Work\\GPS\\Video\\Kennard\\GPS_08_Kornblum1500SRTSelf\\20231010\\Top\\Clips\\Kennard_20231010_HoldTrial068_TopView.avi\",\n",
    "r\"D:\\YuLab\\Work\\GPS\\Video\\Kennard\\GPS_08_Kornblum1500SRTSelf\\20231010\\Top\\Clips\\Kennard_20231010_HoldTrial069_TopView.avi\",\n",
    "r\"D:\\YuLab\\Work\\GPS\\Video\\Kennard\\GPS_08_Kornblum1500SRTSelf\\20231010\\Top\\Clips\\Kennard_20231010_HoldTrial070_TopView.avi\",\n",
    "r\"D:\\YuLab\\Work\\GPS\\Video\\Kennard\\GPS_08_Kornblum1500SRTSelf\\20231010\\Top\\Clips\\Kennard_20231010_HoldTrial071_TopView.avi\",\n",
    "r\"D:\\YuLab\\Work\\GPS\\Video\\Kennard\\GPS_08_Kornblum1500SRTSelf\\20231010\\Top\\Clips\\Kennard_20231010_HoldTrial072_TopView.avi\",\n",
    "r\"D:\\YuLab\\Work\\GPS\\Video\\Kennard\\GPS_08_Kornblum1500SRTSelf\\20231010\\Top\\Clips\\Kennard_20231010_HoldTrial073_TopView.avi\",\n",
    "r\"D:\\YuLab\\Work\\GPS\\Video\\Kennard\\GPS_08_Kornblum1500SRTSelf\\20231010\\Top\\Clips\\Kennard_20231010_HoldTrial074_TopView.avi\",\n",
    "r\"D:\\YuLab\\Work\\GPS\\Video\\Kennard\\GPS_08_Kornblum1500SRTSelf\\20231010\\Top\\Clips\\Kennard_20231010_HoldTrial075_TopView.avi\",\n",
    "r\"D:\\YuLab\\Work\\GPS\\Video\\Kennard\\GPS_08_Kornblum1500SRTSelf\\20231010\\Top\\Clips\\Kennard_20231010_HoldTrial076_TopView.avi\",\n",
    "r\"D:\\YuLab\\Work\\GPS\\Video\\Kennard\\GPS_08_Kornblum1500SRTSelf\\20231010\\Top\\Clips\\Kennard_20231010_HoldTrial077_TopView.avi\",\n",
    "r\"D:\\YuLab\\Work\\GPS\\Video\\Kennard\\GPS_08_Kornblum1500SRTSelf\\20231010\\Top\\Clips\\Kennard_20231010_HoldTrial078_TopView.avi\",\n",
    "r\"D:\\YuLab\\Work\\GPS\\Video\\Kennard\\GPS_08_Kornblum1500SRTSelf\\20231010\\Top\\Clips\\Kennard_20231010_HoldTrial079_TopView.avi\",\n",
    "r\"D:\\YuLab\\Work\\GPS\\Video\\Kennard\\GPS_08_Kornblum1500SRTSelf\\20231010\\Top\\Clips\\Kennard_20231010_HoldTrial080_TopView.avi\",\n",
    "r\"D:\\YuLab\\Work\\GPS\\Video\\Kennard\\GPS_08_Kornblum1500SRTSelf\\20231010\\Top\\Clips\\Kennard_20231010_HoldTrial081_TopView.avi\",\n",
    "r\"D:\\YuLab\\Work\\GPS\\Video\\Kennard\\GPS_08_Kornblum1500SRTSelf\\20231010\\Top\\Clips\\Kennard_20231010_HoldTrial082_TopView.avi\",\n",
    "r\"D:\\YuLab\\Work\\GPS\\Video\\Kennard\\GPS_08_Kornblum1500SRTSelf\\20231010\\Top\\Clips\\Kennard_20231010_HoldTrial083_TopView.avi\",\n",
    "r\"D:\\YuLab\\Work\\GPS\\Video\\Kennard\\GPS_08_Kornblum1500SRTSelf\\20231010\\Top\\Clips\\Kennard_20231010_HoldTrial084_TopView.avi\",\n",
    "r\"D:\\YuLab\\Work\\GPS\\Video\\Kennard\\GPS_08_Kornblum1500SRTSelf\\20231010\\Top\\Clips\\Kennard_20231010_HoldTrial085_TopView.avi\",\n",
    "r\"D:\\YuLab\\Work\\GPS\\Video\\Kennard\\GPS_08_Kornblum1500SRTSelf\\20231010\\Top\\Clips\\Kennard_20231010_HoldTrial086_TopView.avi\",\n",
    "r\"D:\\YuLab\\Work\\GPS\\Video\\Kennard\\GPS_08_Kornblum1500SRTSelf\\20231010\\Top\\Clips\\Kennard_20231010_HoldTrial087_TopView.avi\",\n",
    "r\"D:\\YuLab\\Work\\GPS\\Video\\Kennard\\GPS_08_Kornblum1500SRTSelf\\20231010\\Top\\Clips\\Kennard_20231010_HoldTrial088_TopView.avi\",\n",
    "r\"D:\\YuLab\\Work\\GPS\\Video\\Kennard\\GPS_08_Kornblum1500SRTSelf\\20231010\\Top\\Clips\\Kennard_20231010_HoldTrial089_TopView.avi\",\n",
    "r\"D:\\YuLab\\Work\\GPS\\Video\\Kennard\\GPS_08_Kornblum1500SRTSelf\\20231010\\Top\\Clips\\Kennard_20231010_HoldTrial090_TopView.avi\",\n",
    "r\"D:\\YuLab\\Work\\GPS\\Video\\Kennard\\GPS_08_Kornblum1500SRTSelf\\20231010\\Top\\Clips\\Kennard_20231010_HoldTrial091_TopView.avi\",\n",
    "r\"D:\\YuLab\\Work\\GPS\\Video\\Kennard\\GPS_08_Kornblum1500SRTSelf\\20231010\\Top\\Clips\\Kennard_20231010_HoldTrial092_TopView.avi\",\n",
    "r\"D:\\YuLab\\Work\\GPS\\Video\\Kennard\\GPS_08_Kornblum1500SRTSelf\\20231010\\Top\\Clips\\Kennard_20231010_HoldTrial093_TopView.avi\",\n",
    "r\"D:\\YuLab\\Work\\GPS\\Video\\Kennard\\GPS_08_Kornblum1500SRTSelf\\20231010\\Top\\Clips\\Kennard_20231010_HoldTrial094_TopView.avi\",\n",
    "r\"D:\\YuLab\\Work\\GPS\\Video\\Kennard\\GPS_08_Kornblum1500SRTSelf\\20231010\\Top\\Clips\\Kennard_20231010_HoldTrial095_TopView.avi\",\n",
    "r\"D:\\YuLab\\Work\\GPS\\Video\\Kennard\\GPS_08_Kornblum1500SRTSelf\\20231010\\Top\\Clips\\Kennard_20231010_HoldTrial096_TopView.avi\",\n",
    "r\"D:\\YuLab\\Work\\GPS\\Video\\Kennard\\GPS_08_Kornblum1500SRTSelf\\20231010\\Top\\Clips\\Kennard_20231010_HoldTrial097_TopView.avi\",\n",
    "r\"D:\\YuLab\\Work\\GPS\\Video\\Kennard\\GPS_08_Kornblum1500SRTSelf\\20231010\\Top\\Clips\\Kennard_20231010_HoldTrial098_TopView.avi\",\n",
    "r\"D:\\YuLab\\Work\\GPS\\Video\\Kennard\\GPS_08_Kornblum1500SRTSelf\\20231010\\Top\\Clips\\Kennard_20231010_HoldTrial099_TopView.avi\",\n",
    "r\"D:\\YuLab\\Work\\GPS\\Video\\Kennard\\GPS_08_Kornblum1500SRTSelf\\20231010\\Top\\Clips\\Kennard_20231010_HoldTrial100_TopView.avi\",\n",
    "r\"D:\\YuLab\\Work\\GPS\\Video\\Kennard\\GPS_08_Kornblum1500SRTSelf\\20231010\\Top\\Clips\\Kennard_20231010_HoldTrial101_TopView.avi\",\n",
    "r\"D:\\YuLab\\Work\\GPS\\Video\\Kennard\\GPS_08_Kornblum1500SRTSelf\\20231010\\Top\\Clips\\Kennard_20231010_HoldTrial102_TopView.avi\",\n",
    "r\"D:\\YuLab\\Work\\GPS\\Video\\Kennard\\GPS_08_Kornblum1500SRTSelf\\20231010\\Top\\Clips\\Kennard_20231010_HoldTrial103_TopView.avi\",\n",
    "r\"D:\\YuLab\\Work\\GPS\\Video\\Kennard\\GPS_08_Kornblum1500SRTSelf\\20231010\\Top\\Clips\\Kennard_20231010_HoldTrial104_TopView.avi\",\n",
    "r\"D:\\YuLab\\Work\\GPS\\Video\\Kennard\\GPS_08_Kornblum1500SRTSelf\\20231010\\Top\\Clips\\Kennard_20231010_HoldTrial105_TopView.avi\",\n",
    "r\"D:\\YuLab\\Work\\GPS\\Video\\Kennard\\GPS_08_Kornblum1500SRTSelf\\20231012\\Top\\Clips\\Kennard_20231012_HoldTrial101_TopView.avi\",\n",
    "r\"D:\\YuLab\\Work\\GPS\\Video\\Kennard\\GPS_08_Kornblum1500SRTSelf\\20231012\\Top\\Clips\\Kennard_20231012_HoldTrial012_TopView.avi\",\n",
    "r\"D:\\YuLab\\Work\\GPS\\Video\\Kennard\\GPS_08_Kornblum1500SRTSelf\\20231012\\Top\\Clips\\Kennard_20231012_HoldTrial013_TopView.avi\",\n",
    "r\"D:\\YuLab\\Work\\GPS\\Video\\Kennard\\GPS_08_Kornblum1500SRTSelf\\20231012\\Top\\Clips\\Kennard_20231012_HoldTrial014_TopView.avi\",\n",
    "r\"D:\\YuLab\\Work\\GPS\\Video\\Kennard\\GPS_08_Kornblum1500SRTSelf\\20231012\\Top\\Clips\\Kennard_20231012_HoldTrial015_TopView.avi\",\n",
    "r\"D:\\YuLab\\Work\\GPS\\Video\\Kennard\\GPS_08_Kornblum1500SRTSelf\\20231012\\Top\\Clips\\Kennard_20231012_HoldTrial016_TopView.avi\",\n",
    "r\"D:\\YuLab\\Work\\GPS\\Video\\Kennard\\GPS_08_Kornblum1500SRTSelf\\20231012\\Top\\Clips\\Kennard_20231012_HoldTrial017_TopView.avi\",\n",
    "r\"D:\\YuLab\\Work\\GPS\\Video\\Kennard\\GPS_08_Kornblum1500SRTSelf\\20231012\\Top\\Clips\\Kennard_20231012_HoldTrial018_TopView.avi\",\n",
    "r\"D:\\YuLab\\Work\\GPS\\Video\\Kennard\\GPS_08_Kornblum1500SRTSelf\\20231012\\Top\\Clips\\Kennard_20231012_HoldTrial019_TopView.avi\",\n",
    "r\"D:\\YuLab\\Work\\GPS\\Video\\Kennard\\GPS_08_Kornblum1500SRTSelf\\20231012\\Top\\Clips\\Kennard_20231012_HoldTrial020_TopView.avi\",\n",
    "r\"D:\\YuLab\\Work\\GPS\\Video\\Kennard\\GPS_08_Kornblum1500SRTSelf\\20231012\\Top\\Clips\\Kennard_20231012_HoldTrial021_TopView.avi\",\n",
    "r\"D:\\YuLab\\Work\\GPS\\Video\\Kennard\\GPS_08_Kornblum1500SRTSelf\\20231012\\Top\\Clips\\Kennard_20231012_HoldTrial022_TopView.avi\",\n",
    "r\"D:\\YuLab\\Work\\GPS\\Video\\Kennard\\GPS_08_Kornblum1500SRTSelf\\20231012\\Top\\Clips\\Kennard_20231012_HoldTrial023_TopView.avi\",\n",
    "r\"D:\\YuLab\\Work\\GPS\\Video\\Kennard\\GPS_08_Kornblum1500SRTSelf\\20231012\\Top\\Clips\\Kennard_20231012_HoldTrial024_TopView.avi\",\n",
    "r\"D:\\YuLab\\Work\\GPS\\Video\\Kennard\\GPS_08_Kornblum1500SRTSelf\\20231012\\Top\\Clips\\Kennard_20231012_HoldTrial025_TopView.avi\",\n",
    "r\"D:\\YuLab\\Work\\GPS\\Video\\Kennard\\GPS_08_Kornblum1500SRTSelf\\20231012\\Top\\Clips\\Kennard_20231012_HoldTrial026_TopView.avi\",\n",
    "r\"D:\\YuLab\\Work\\GPS\\Video\\Kennard\\GPS_08_Kornblum1500SRTSelf\\20231012\\Top\\Clips\\Kennard_20231012_HoldTrial027_TopView.avi\",\n",
    "r\"D:\\YuLab\\Work\\GPS\\Video\\Kennard\\GPS_08_Kornblum1500SRTSelf\\20231012\\Top\\Clips\\Kennard_20231012_HoldTrial028_TopView.avi\",\n",
    "r\"D:\\YuLab\\Work\\GPS\\Video\\Kennard\\GPS_08_Kornblum1500SRTSelf\\20231012\\Top\\Clips\\Kennard_20231012_HoldTrial029_TopView.avi\",\n",
    "r\"D:\\YuLab\\Work\\GPS\\Video\\Kennard\\GPS_08_Kornblum1500SRTSelf\\20231012\\Top\\Clips\\Kennard_20231012_HoldTrial030_TopView.avi\",\n",
    "r\"D:\\YuLab\\Work\\GPS\\Video\\Kennard\\GPS_08_Kornblum1500SRTSelf\\20231012\\Top\\Clips\\Kennard_20231012_HoldTrial031_TopView.avi\",\n",
    "r\"D:\\YuLab\\Work\\GPS\\Video\\Kennard\\GPS_08_Kornblum1500SRTSelf\\20231012\\Top\\Clips\\Kennard_20231012_HoldTrial032_TopView.avi\",\n",
    "r\"D:\\YuLab\\Work\\GPS\\Video\\Kennard\\GPS_08_Kornblum1500SRTSelf\\20231012\\Top\\Clips\\Kennard_20231012_HoldTrial033_TopView.avi\",\n",
    "r\"D:\\YuLab\\Work\\GPS\\Video\\Kennard\\GPS_08_Kornblum1500SRTSelf\\20231012\\Top\\Clips\\Kennard_20231012_HoldTrial034_TopView.avi\",\n",
    "r\"D:\\YuLab\\Work\\GPS\\Video\\Kennard\\GPS_08_Kornblum1500SRTSelf\\20231012\\Top\\Clips\\Kennard_20231012_HoldTrial035_TopView.avi\",\n",
    "r\"D:\\YuLab\\Work\\GPS\\Video\\Kennard\\GPS_08_Kornblum1500SRTSelf\\20231012\\Top\\Clips\\Kennard_20231012_HoldTrial036_TopView.avi\",\n",
    "r\"D:\\YuLab\\Work\\GPS\\Video\\Kennard\\GPS_08_Kornblum1500SRTSelf\\20231012\\Top\\Clips\\Kennard_20231012_HoldTrial037_TopView.avi\",\n",
    "r\"D:\\YuLab\\Work\\GPS\\Video\\Kennard\\GPS_08_Kornblum1500SRTSelf\\20231012\\Top\\Clips\\Kennard_20231012_HoldTrial038_TopView.avi\",\n",
    "r\"D:\\YuLab\\Work\\GPS\\Video\\Kennard\\GPS_08_Kornblum1500SRTSelf\\20231012\\Top\\Clips\\Kennard_20231012_HoldTrial039_TopView.avi\",\n",
    "r\"D:\\YuLab\\Work\\GPS\\Video\\Kennard\\GPS_08_Kornblum1500SRTSelf\\20231012\\Top\\Clips\\Kennard_20231012_HoldTrial040_TopView.avi\",\n",
    "r\"D:\\YuLab\\Work\\GPS\\Video\\Kennard\\GPS_08_Kornblum1500SRTSelf\\20231012\\Top\\Clips\\Kennard_20231012_HoldTrial041_TopView.avi\",\n",
    "r\"D:\\YuLab\\Work\\GPS\\Video\\Kennard\\GPS_08_Kornblum1500SRTSelf\\20231012\\Top\\Clips\\Kennard_20231012_HoldTrial042_TopView.avi\",\n",
    "r\"D:\\YuLab\\Work\\GPS\\Video\\Kennard\\GPS_08_Kornblum1500SRTSelf\\20231012\\Top\\Clips\\Kennard_20231012_HoldTrial043_TopView.avi\",\n",
    "r\"D:\\YuLab\\Work\\GPS\\Video\\Kennard\\GPS_08_Kornblum1500SRTSelf\\20231012\\Top\\Clips\\Kennard_20231012_HoldTrial044_TopView.avi\",\n",
    "r\"D:\\YuLab\\Work\\GPS\\Video\\Kennard\\GPS_08_Kornblum1500SRTSelf\\20231012\\Top\\Clips\\Kennard_20231012_HoldTrial045_TopView.avi\",\n",
    "r\"D:\\YuLab\\Work\\GPS\\Video\\Kennard\\GPS_08_Kornblum1500SRTSelf\\20231012\\Top\\Clips\\Kennard_20231012_HoldTrial046_TopView.avi\",\n",
    "r\"D:\\YuLab\\Work\\GPS\\Video\\Kennard\\GPS_08_Kornblum1500SRTSelf\\20231012\\Top\\Clips\\Kennard_20231012_HoldTrial047_TopView.avi\",\n",
    "r\"D:\\YuLab\\Work\\GPS\\Video\\Kennard\\GPS_08_Kornblum1500SRTSelf\\20231012\\Top\\Clips\\Kennard_20231012_HoldTrial048_TopView.avi\",\n",
    "r\"D:\\YuLab\\Work\\GPS\\Video\\Kennard\\GPS_08_Kornblum1500SRTSelf\\20231012\\Top\\Clips\\Kennard_20231012_HoldTrial049_TopView.avi\",\n",
    "r\"D:\\YuLab\\Work\\GPS\\Video\\Kennard\\GPS_08_Kornblum1500SRTSelf\\20231012\\Top\\Clips\\Kennard_20231012_HoldTrial050_TopView.avi\",\n",
    "r\"D:\\YuLab\\Work\\GPS\\Video\\Kennard\\GPS_08_Kornblum1500SRTSelf\\20231012\\Top\\Clips\\Kennard_20231012_HoldTrial051_TopView.avi\",\n",
    "r\"D:\\YuLab\\Work\\GPS\\Video\\Kennard\\GPS_08_Kornblum1500SRTSelf\\20231012\\Top\\Clips\\Kennard_20231012_HoldTrial052_TopView.avi\",\n",
    "r\"D:\\YuLab\\Work\\GPS\\Video\\Kennard\\GPS_08_Kornblum1500SRTSelf\\20231012\\Top\\Clips\\Kennard_20231012_HoldTrial053_TopView.avi\",\n",
    "r\"D:\\YuLab\\Work\\GPS\\Video\\Kennard\\GPS_08_Kornblum1500SRTSelf\\20231012\\Top\\Clips\\Kennard_20231012_HoldTrial054_TopView.avi\",\n",
    "r\"D:\\YuLab\\Work\\GPS\\Video\\Kennard\\GPS_08_Kornblum1500SRTSelf\\20231012\\Top\\Clips\\Kennard_20231012_HoldTrial055_TopView.avi\",\n",
    "r\"D:\\YuLab\\Work\\GPS\\Video\\Kennard\\GPS_08_Kornblum1500SRTSelf\\20231012\\Top\\Clips\\Kennard_20231012_HoldTrial056_TopView.avi\",\n",
    "r\"D:\\YuLab\\Work\\GPS\\Video\\Kennard\\GPS_08_Kornblum1500SRTSelf\\20231012\\Top\\Clips\\Kennard_20231012_HoldTrial057_TopView.avi\",\n",
    "r\"D:\\YuLab\\Work\\GPS\\Video\\Kennard\\GPS_08_Kornblum1500SRTSelf\\20231012\\Top\\Clips\\Kennard_20231012_HoldTrial058_TopView.avi\",\n",
    "r\"D:\\YuLab\\Work\\GPS\\Video\\Kennard\\GPS_08_Kornblum1500SRTSelf\\20231012\\Top\\Clips\\Kennard_20231012_HoldTrial059_TopView.avi\",\n",
    "r\"D:\\YuLab\\Work\\GPS\\Video\\Kennard\\GPS_08_Kornblum1500SRTSelf\\20231012\\Top\\Clips\\Kennard_20231012_HoldTrial060_TopView.avi\",\n",
    "r\"D:\\YuLab\\Work\\GPS\\Video\\Kennard\\GPS_08_Kornblum1500SRTSelf\\20231012\\Top\\Clips\\Kennard_20231012_HoldTrial061_TopView.avi\",\n",
    "r\"D:\\YuLab\\Work\\GPS\\Video\\Kennard\\GPS_08_Kornblum1500SRTSelf\\20231012\\Top\\Clips\\Kennard_20231012_HoldTrial062_TopView.avi\",\n",
    "r\"D:\\YuLab\\Work\\GPS\\Video\\Kennard\\GPS_08_Kornblum1500SRTSelf\\20231012\\Top\\Clips\\Kennard_20231012_HoldTrial063_TopView.avi\",\n",
    "r\"D:\\YuLab\\Work\\GPS\\Video\\Kennard\\GPS_08_Kornblum1500SRTSelf\\20231012\\Top\\Clips\\Kennard_20231012_HoldTrial064_TopView.avi\",\n",
    "r\"D:\\YuLab\\Work\\GPS\\Video\\Kennard\\GPS_08_Kornblum1500SRTSelf\\20231012\\Top\\Clips\\Kennard_20231012_HoldTrial065_TopView.avi\",\n",
    "r\"D:\\YuLab\\Work\\GPS\\Video\\Kennard\\GPS_08_Kornblum1500SRTSelf\\20231012\\Top\\Clips\\Kennard_20231012_HoldTrial066_TopView.avi\",\n",
    "r\"D:\\YuLab\\Work\\GPS\\Video\\Kennard\\GPS_08_Kornblum1500SRTSelf\\20231012\\Top\\Clips\\Kennard_20231012_HoldTrial067_TopView.avi\",\n",
    "r\"D:\\YuLab\\Work\\GPS\\Video\\Kennard\\GPS_08_Kornblum1500SRTSelf\\20231012\\Top\\Clips\\Kennard_20231012_HoldTrial068_TopView.avi\",\n",
    "r\"D:\\YuLab\\Work\\GPS\\Video\\Kennard\\GPS_08_Kornblum1500SRTSelf\\20231012\\Top\\Clips\\Kennard_20231012_HoldTrial069_TopView.avi\",\n",
    "r\"D:\\YuLab\\Work\\GPS\\Video\\Kennard\\GPS_08_Kornblum1500SRTSelf\\20231012\\Top\\Clips\\Kennard_20231012_HoldTrial070_TopView.avi\",\n",
    "r\"D:\\YuLab\\Work\\GPS\\Video\\Kennard\\GPS_08_Kornblum1500SRTSelf\\20231012\\Top\\Clips\\Kennard_20231012_HoldTrial071_TopView.avi\",\n",
    "r\"D:\\YuLab\\Work\\GPS\\Video\\Kennard\\GPS_08_Kornblum1500SRTSelf\\20231012\\Top\\Clips\\Kennard_20231012_HoldTrial072_TopView.avi\",\n",
    "r\"D:\\YuLab\\Work\\GPS\\Video\\Kennard\\GPS_08_Kornblum1500SRTSelf\\20231012\\Top\\Clips\\Kennard_20231012_HoldTrial073_TopView.avi\",\n",
    "r\"D:\\YuLab\\Work\\GPS\\Video\\Kennard\\GPS_08_Kornblum1500SRTSelf\\20231012\\Top\\Clips\\Kennard_20231012_HoldTrial074_TopView.avi\",\n",
    "r\"D:\\YuLab\\Work\\GPS\\Video\\Kennard\\GPS_08_Kornblum1500SRTSelf\\20231012\\Top\\Clips\\Kennard_20231012_HoldTrial075_TopView.avi\",\n",
    "r\"D:\\YuLab\\Work\\GPS\\Video\\Kennard\\GPS_08_Kornblum1500SRTSelf\\20231012\\Top\\Clips\\Kennard_20231012_HoldTrial076_TopView.avi\",\n",
    "r\"D:\\YuLab\\Work\\GPS\\Video\\Kennard\\GPS_08_Kornblum1500SRTSelf\\20231012\\Top\\Clips\\Kennard_20231012_HoldTrial077_TopView.avi\",\n",
    "r\"D:\\YuLab\\Work\\GPS\\Video\\Kennard\\GPS_08_Kornblum1500SRTSelf\\20231012\\Top\\Clips\\Kennard_20231012_HoldTrial078_TopView.avi\",\n",
    "r\"D:\\YuLab\\Work\\GPS\\Video\\Kennard\\GPS_08_Kornblum1500SRTSelf\\20231012\\Top\\Clips\\Kennard_20231012_HoldTrial079_TopView.avi\",\n",
    "r\"D:\\YuLab\\Work\\GPS\\Video\\Kennard\\GPS_08_Kornblum1500SRTSelf\\20231012\\Top\\Clips\\Kennard_20231012_HoldTrial080_TopView.avi\",\n",
    "r\"D:\\YuLab\\Work\\GPS\\Video\\Kennard\\GPS_08_Kornblum1500SRTSelf\\20231012\\Top\\Clips\\Kennard_20231012_HoldTrial081_TopView.avi\",\n",
    "r\"D:\\YuLab\\Work\\GPS\\Video\\Kennard\\GPS_08_Kornblum1500SRTSelf\\20231012\\Top\\Clips\\Kennard_20231012_HoldTrial082_TopView.avi\",\n",
    "r\"D:\\YuLab\\Work\\GPS\\Video\\Kennard\\GPS_08_Kornblum1500SRTSelf\\20231012\\Top\\Clips\\Kennard_20231012_HoldTrial083_TopView.avi\",\n",
    "r\"D:\\YuLab\\Work\\GPS\\Video\\Kennard\\GPS_08_Kornblum1500SRTSelf\\20231012\\Top\\Clips\\Kennard_20231012_HoldTrial084_TopView.avi\",\n",
    "r\"D:\\YuLab\\Work\\GPS\\Video\\Kennard\\GPS_08_Kornblum1500SRTSelf\\20231012\\Top\\Clips\\Kennard_20231012_HoldTrial085_TopView.avi\",\n",
    "r\"D:\\YuLab\\Work\\GPS\\Video\\Kennard\\GPS_08_Kornblum1500SRTSelf\\20231012\\Top\\Clips\\Kennard_20231012_HoldTrial086_TopView.avi\",\n",
    "r\"D:\\YuLab\\Work\\GPS\\Video\\Kennard\\GPS_08_Kornblum1500SRTSelf\\20231012\\Top\\Clips\\Kennard_20231012_HoldTrial087_TopView.avi\",\n",
    "r\"D:\\YuLab\\Work\\GPS\\Video\\Kennard\\GPS_08_Kornblum1500SRTSelf\\20231012\\Top\\Clips\\Kennard_20231012_HoldTrial088_TopView.avi\",\n",
    "r\"D:\\YuLab\\Work\\GPS\\Video\\Kennard\\GPS_08_Kornblum1500SRTSelf\\20231012\\Top\\Clips\\Kennard_20231012_HoldTrial089_TopView.avi\",\n",
    "r\"D:\\YuLab\\Work\\GPS\\Video\\Kennard\\GPS_08_Kornblum1500SRTSelf\\20231012\\Top\\Clips\\Kennard_20231012_HoldTrial090_TopView.avi\",\n",
    "r\"D:\\YuLab\\Work\\GPS\\Video\\Kennard\\GPS_08_Kornblum1500SRTSelf\\20231012\\Top\\Clips\\Kennard_20231012_HoldTrial091_TopView.avi\",\n",
    "r\"D:\\YuLab\\Work\\GPS\\Video\\Kennard\\GPS_08_Kornblum1500SRTSelf\\20231012\\Top\\Clips\\Kennard_20231012_HoldTrial092_TopView.avi\",\n",
    "r\"D:\\YuLab\\Work\\GPS\\Video\\Kennard\\GPS_08_Kornblum1500SRTSelf\\20231012\\Top\\Clips\\Kennard_20231012_HoldTrial093_TopView.avi\",\n",
    "r\"D:\\YuLab\\Work\\GPS\\Video\\Kennard\\GPS_08_Kornblum1500SRTSelf\\20231012\\Top\\Clips\\Kennard_20231012_HoldTrial094_TopView.avi\",\n",
    "r\"D:\\YuLab\\Work\\GPS\\Video\\Kennard\\GPS_08_Kornblum1500SRTSelf\\20231012\\Top\\Clips\\Kennard_20231012_HoldTrial095_TopView.avi\",\n",
    "r\"D:\\YuLab\\Work\\GPS\\Video\\Kennard\\GPS_08_Kornblum1500SRTSelf\\20231012\\Top\\Clips\\Kennard_20231012_HoldTrial096_TopView.avi\",\n",
    "r\"D:\\YuLab\\Work\\GPS\\Video\\Kennard\\GPS_08_Kornblum1500SRTSelf\\20231012\\Top\\Clips\\Kennard_20231012_HoldTrial097_TopView.avi\",\n",
    "r\"D:\\YuLab\\Work\\GPS\\Video\\Kennard\\GPS_08_Kornblum1500SRTSelf\\20231012\\Top\\Clips\\Kennard_20231012_HoldTrial098_TopView.avi\",\n",
    "r\"D:\\YuLab\\Work\\GPS\\Video\\Kennard\\GPS_08_Kornblum1500SRTSelf\\20231012\\Top\\Clips\\Kennard_20231012_HoldTrial099_TopView.avi\",\n",
    "r\"D:\\YuLab\\Work\\GPS\\Video\\Kennard\\GPS_08_Kornblum1500SRTSelf\\20231012\\Top\\Clips\\Kennard_20231012_HoldTrial100_TopView.avi\",\n",
    "r\"D:\\YuLab\\Work\\GPS\\Video\\Kennard\\GPS_08_Kornblum1500SRTSelf\\20231013\\Top\\Clips\\Kennard_20231013_HoldTrial011_TopView.avi\",\n",
    "r\"D:\\YuLab\\Work\\GPS\\Video\\Kennard\\GPS_08_Kornblum1500SRTSelf\\20231013\\Top\\Clips\\Kennard_20231013_HoldTrial012_TopView.avi\",\n",
    "r\"D:\\YuLab\\Work\\GPS\\Video\\Kennard\\GPS_08_Kornblum1500SRTSelf\\20231013\\Top\\Clips\\Kennard_20231013_HoldTrial013_TopView.avi\",\n",
    "r\"D:\\YuLab\\Work\\GPS\\Video\\Kennard\\GPS_08_Kornblum1500SRTSelf\\20231013\\Top\\Clips\\Kennard_20231013_HoldTrial014_TopView.avi\",\n",
    "r\"D:\\YuLab\\Work\\GPS\\Video\\Kennard\\GPS_08_Kornblum1500SRTSelf\\20231013\\Top\\Clips\\Kennard_20231013_HoldTrial015_TopView.avi\",\n",
    "r\"D:\\YuLab\\Work\\GPS\\Video\\Kennard\\GPS_08_Kornblum1500SRTSelf\\20231013\\Top\\Clips\\Kennard_20231013_HoldTrial016_TopView.avi\",\n",
    "r\"D:\\YuLab\\Work\\GPS\\Video\\Kennard\\GPS_08_Kornblum1500SRTSelf\\20231013\\Top\\Clips\\Kennard_20231013_HoldTrial017_TopView.avi\",\n",
    "r\"D:\\YuLab\\Work\\GPS\\Video\\Kennard\\GPS_08_Kornblum1500SRTSelf\\20231013\\Top\\Clips\\Kennard_20231013_HoldTrial018_TopView.avi\",\n",
    "r\"D:\\YuLab\\Work\\GPS\\Video\\Kennard\\GPS_08_Kornblum1500SRTSelf\\20231013\\Top\\Clips\\Kennard_20231013_HoldTrial019_TopView.avi\",\n",
    "r\"D:\\YuLab\\Work\\GPS\\Video\\Kennard\\GPS_08_Kornblum1500SRTSelf\\20231013\\Top\\Clips\\Kennard_20231013_HoldTrial020_TopView.avi\",\n",
    "r\"D:\\YuLab\\Work\\GPS\\Video\\Kennard\\GPS_08_Kornblum1500SRTSelf\\20231013\\Top\\Clips\\Kennard_20231013_HoldTrial021_TopView.avi\",\n",
    "r\"D:\\YuLab\\Work\\GPS\\Video\\Kennard\\GPS_08_Kornblum1500SRTSelf\\20231013\\Top\\Clips\\Kennard_20231013_HoldTrial022_TopView.avi\",\n",
    "r\"D:\\YuLab\\Work\\GPS\\Video\\Kennard\\GPS_08_Kornblum1500SRTSelf\\20231013\\Top\\Clips\\Kennard_20231013_HoldTrial023_TopView.avi\",\n",
    "r\"D:\\YuLab\\Work\\GPS\\Video\\Kennard\\GPS_08_Kornblum1500SRTSelf\\20231013\\Top\\Clips\\Kennard_20231013_HoldTrial024_TopView.avi\",\n",
    "r\"D:\\YuLab\\Work\\GPS\\Video\\Kennard\\GPS_08_Kornblum1500SRTSelf\\20231013\\Top\\Clips\\Kennard_20231013_HoldTrial025_TopView.avi\",\n",
    "r\"D:\\YuLab\\Work\\GPS\\Video\\Kennard\\GPS_08_Kornblum1500SRTSelf\\20231013\\Top\\Clips\\Kennard_20231013_HoldTrial026_TopView.avi\",\n",
    "r\"D:\\YuLab\\Work\\GPS\\Video\\Kennard\\GPS_08_Kornblum1500SRTSelf\\20231013\\Top\\Clips\\Kennard_20231013_HoldTrial027_TopView.avi\",\n",
    "r\"D:\\YuLab\\Work\\GPS\\Video\\Kennard\\GPS_08_Kornblum1500SRTSelf\\20231013\\Top\\Clips\\Kennard_20231013_HoldTrial028_TopView.avi\",\n",
    "r\"D:\\YuLab\\Work\\GPS\\Video\\Kennard\\GPS_08_Kornblum1500SRTSelf\\20231013\\Top\\Clips\\Kennard_20231013_HoldTrial029_TopView.avi\",\n",
    "r\"D:\\YuLab\\Work\\GPS\\Video\\Kennard\\GPS_08_Kornblum1500SRTSelf\\20231013\\Top\\Clips\\Kennard_20231013_HoldTrial030_TopView.avi\",\n",
    "r\"D:\\YuLab\\Work\\GPS\\Video\\Kennard\\GPS_08_Kornblum1500SRTSelf\\20231013\\Top\\Clips\\Kennard_20231013_HoldTrial031_TopView.avi\",\n",
    "r\"D:\\YuLab\\Work\\GPS\\Video\\Kennard\\GPS_08_Kornblum1500SRTSelf\\20231013\\Top\\Clips\\Kennard_20231013_HoldTrial032_TopView.avi\",\n",
    "r\"D:\\YuLab\\Work\\GPS\\Video\\Kennard\\GPS_08_Kornblum1500SRTSelf\\20231013\\Top\\Clips\\Kennard_20231013_HoldTrial033_TopView.avi\",\n",
    "r\"D:\\YuLab\\Work\\GPS\\Video\\Kennard\\GPS_08_Kornblum1500SRTSelf\\20231013\\Top\\Clips\\Kennard_20231013_HoldTrial034_TopView.avi\",\n",
    "r\"D:\\YuLab\\Work\\GPS\\Video\\Kennard\\GPS_08_Kornblum1500SRTSelf\\20231013\\Top\\Clips\\Kennard_20231013_HoldTrial035_TopView.avi\",\n",
    "r\"D:\\YuLab\\Work\\GPS\\Video\\Kennard\\GPS_08_Kornblum1500SRTSelf\\20231013\\Top\\Clips\\Kennard_20231013_HoldTrial036_TopView.avi\",\n",
    "r\"D:\\YuLab\\Work\\GPS\\Video\\Kennard\\GPS_08_Kornblum1500SRTSelf\\20231013\\Top\\Clips\\Kennard_20231013_HoldTrial037_TopView.avi\",\n",
    "r\"D:\\YuLab\\Work\\GPS\\Video\\Kennard\\GPS_08_Kornblum1500SRTSelf\\20231013\\Top\\Clips\\Kennard_20231013_HoldTrial038_TopView.avi\",\n",
    "r\"D:\\YuLab\\Work\\GPS\\Video\\Kennard\\GPS_08_Kornblum1500SRTSelf\\20231013\\Top\\Clips\\Kennard_20231013_HoldTrial039_TopView.avi\",\n",
    "r\"D:\\YuLab\\Work\\GPS\\Video\\Kennard\\GPS_08_Kornblum1500SRTSelf\\20231013\\Top\\Clips\\Kennard_20231013_HoldTrial040_TopView.avi\",\n",
    "r\"D:\\YuLab\\Work\\GPS\\Video\\Kennard\\GPS_08_Kornblum1500SRTSelf\\20231013\\Top\\Clips\\Kennard_20231013_HoldTrial041_TopView.avi\",\n",
    "r\"D:\\YuLab\\Work\\GPS\\Video\\Kennard\\GPS_08_Kornblum1500SRTSelf\\20231013\\Top\\Clips\\Kennard_20231013_HoldTrial042_TopView.avi\",\n",
    "r\"D:\\YuLab\\Work\\GPS\\Video\\Kennard\\GPS_08_Kornblum1500SRTSelf\\20231013\\Top\\Clips\\Kennard_20231013_HoldTrial043_TopView.avi\",\n",
    "r\"D:\\YuLab\\Work\\GPS\\Video\\Kennard\\GPS_08_Kornblum1500SRTSelf\\20231013\\Top\\Clips\\Kennard_20231013_HoldTrial044_TopView.avi\",\n",
    "r\"D:\\YuLab\\Work\\GPS\\Video\\Kennard\\GPS_08_Kornblum1500SRTSelf\\20231013\\Top\\Clips\\Kennard_20231013_HoldTrial045_TopView.avi\",\n",
    "r\"D:\\YuLab\\Work\\GPS\\Video\\Kennard\\GPS_08_Kornblum1500SRTSelf\\20231013\\Top\\Clips\\Kennard_20231013_HoldTrial046_TopView.avi\",\n",
    "r\"D:\\YuLab\\Work\\GPS\\Video\\Kennard\\GPS_08_Kornblum1500SRTSelf\\20231013\\Top\\Clips\\Kennard_20231013_HoldTrial047_TopView.avi\",\n",
    "r\"D:\\YuLab\\Work\\GPS\\Video\\Kennard\\GPS_08_Kornblum1500SRTSelf\\20231013\\Top\\Clips\\Kennard_20231013_HoldTrial048_TopView.avi\",\n",
    "r\"D:\\YuLab\\Work\\GPS\\Video\\Kennard\\GPS_08_Kornblum1500SRTSelf\\20231013\\Top\\Clips\\Kennard_20231013_HoldTrial049_TopView.avi\",\n",
    "r\"D:\\YuLab\\Work\\GPS\\Video\\Kennard\\GPS_08_Kornblum1500SRTSelf\\20231013\\Top\\Clips\\Kennard_20231013_HoldTrial050_TopView.avi\",\n",
    "r\"D:\\YuLab\\Work\\GPS\\Video\\Kennard\\GPS_08_Kornblum1500SRTSelf\\20231013\\Top\\Clips\\Kennard_20231013_HoldTrial051_TopView.avi\",\n",
    "r\"D:\\YuLab\\Work\\GPS\\Video\\Kennard\\GPS_08_Kornblum1500SRTSelf\\20231013\\Top\\Clips\\Kennard_20231013_HoldTrial052_TopView.avi\",\n",
    "r\"D:\\YuLab\\Work\\GPS\\Video\\Kennard\\GPS_08_Kornblum1500SRTSelf\\20231013\\Top\\Clips\\Kennard_20231013_HoldTrial053_TopView.avi\",\n",
    "r\"D:\\YuLab\\Work\\GPS\\Video\\Kennard\\GPS_08_Kornblum1500SRTSelf\\20231013\\Top\\Clips\\Kennard_20231013_HoldTrial054_TopView.avi\",\n",
    "r\"D:\\YuLab\\Work\\GPS\\Video\\Kennard\\GPS_08_Kornblum1500SRTSelf\\20231013\\Top\\Clips\\Kennard_20231013_HoldTrial055_TopView.avi\",\n",
    "r\"D:\\YuLab\\Work\\GPS\\Video\\Kennard\\GPS_08_Kornblum1500SRTSelf\\20231013\\Top\\Clips\\Kennard_20231013_HoldTrial056_TopView.avi\",\n",
    "r\"D:\\YuLab\\Work\\GPS\\Video\\Kennard\\GPS_08_Kornblum1500SRTSelf\\20231013\\Top\\Clips\\Kennard_20231013_HoldTrial057_TopView.avi\",\n",
    "r\"D:\\YuLab\\Work\\GPS\\Video\\Kennard\\GPS_08_Kornblum1500SRTSelf\\20231013\\Top\\Clips\\Kennard_20231013_HoldTrial058_TopView.avi\",\n",
    "r\"D:\\YuLab\\Work\\GPS\\Video\\Kennard\\GPS_08_Kornblum1500SRTSelf\\20231013\\Top\\Clips\\Kennard_20231013_HoldTrial059_TopView.avi\",\n",
    "r\"D:\\YuLab\\Work\\GPS\\Video\\Kennard\\GPS_08_Kornblum1500SRTSelf\\20231013\\Top\\Clips\\Kennard_20231013_HoldTrial060_TopView.avi\",\n",
    "r\"D:\\YuLab\\Work\\GPS\\Video\\Kennard\\GPS_08_Kornblum1500SRTSelf\\20231013\\Top\\Clips\\Kennard_20231013_HoldTrial061_TopView.avi\",\n",
    "r\"D:\\YuLab\\Work\\GPS\\Video\\Kennard\\GPS_08_Kornblum1500SRTSelf\\20231013\\Top\\Clips\\Kennard_20231013_HoldTrial062_TopView.avi\",\n",
    "r\"D:\\YuLab\\Work\\GPS\\Video\\Kennard\\GPS_08_Kornblum1500SRTSelf\\20231013\\Top\\Clips\\Kennard_20231013_HoldTrial063_TopView.avi\",\n",
    "r\"D:\\YuLab\\Work\\GPS\\Video\\Kennard\\GPS_08_Kornblum1500SRTSelf\\20231013\\Top\\Clips\\Kennard_20231013_HoldTrial064_TopView.avi\",\n",
    "r\"D:\\YuLab\\Work\\GPS\\Video\\Kennard\\GPS_08_Kornblum1500SRTSelf\\20231013\\Top\\Clips\\Kennard_20231013_HoldTrial065_TopView.avi\",\n",
    "r\"D:\\YuLab\\Work\\GPS\\Video\\Kennard\\GPS_08_Kornblum1500SRTSelf\\20231013\\Top\\Clips\\Kennard_20231013_HoldTrial066_TopView.avi\",\n",
    "r\"D:\\YuLab\\Work\\GPS\\Video\\Kennard\\GPS_08_Kornblum1500SRTSelf\\20231013\\Top\\Clips\\Kennard_20231013_HoldTrial067_TopView.avi\",\n",
    "r\"D:\\YuLab\\Work\\GPS\\Video\\Kennard\\GPS_08_Kornblum1500SRTSelf\\20231013\\Top\\Clips\\Kennard_20231013_HoldTrial068_TopView.avi\",\n",
    "r\"D:\\YuLab\\Work\\GPS\\Video\\Kennard\\GPS_08_Kornblum1500SRTSelf\\20231013\\Top\\Clips\\Kennard_20231013_HoldTrial069_TopView.avi\",\n",
    "r\"D:\\YuLab\\Work\\GPS\\Video\\Kennard\\GPS_08_Kornblum1500SRTSelf\\20231013\\Top\\Clips\\Kennard_20231013_HoldTrial070_TopView.avi\",\n",
    "r\"D:\\YuLab\\Work\\GPS\\Video\\Kennard\\GPS_08_Kornblum1500SRTSelf\\20231013\\Top\\Clips\\Kennard_20231013_HoldTrial071_TopView.avi\",\n",
    "r\"D:\\YuLab\\Work\\GPS\\Video\\Kennard\\GPS_08_Kornblum1500SRTSelf\\20231013\\Top\\Clips\\Kennard_20231013_HoldTrial072_TopView.avi\",\n",
    "r\"D:\\YuLab\\Work\\GPS\\Video\\Kennard\\GPS_08_Kornblum1500SRTSelf\\20231013\\Top\\Clips\\Kennard_20231013_HoldTrial073_TopView.avi\",\n",
    "r\"D:\\YuLab\\Work\\GPS\\Video\\Kennard\\GPS_08_Kornblum1500SRTSelf\\20231013\\Top\\Clips\\Kennard_20231013_HoldTrial074_TopView.avi\",\n",
    "r\"D:\\YuLab\\Work\\GPS\\Video\\Kennard\\GPS_08_Kornblum1500SRTSelf\\20231013\\Top\\Clips\\Kennard_20231013_HoldTrial075_TopView.avi\",\n",
    "r\"D:\\YuLab\\Work\\GPS\\Video\\Kennard\\GPS_08_Kornblum1500SRTSelf\\20231013\\Top\\Clips\\Kennard_20231013_HoldTrial076_TopView.avi\",\n",
    "r\"D:\\YuLab\\Work\\GPS\\Video\\Kennard\\GPS_08_Kornblum1500SRTSelf\\20231013\\Top\\Clips\\Kennard_20231013_HoldTrial077_TopView.avi\",\n",
    "r\"D:\\YuLab\\Work\\GPS\\Video\\Kennard\\GPS_08_Kornblum1500SRTSelf\\20231013\\Top\\Clips\\Kennard_20231013_HoldTrial078_TopView.avi\",\n",
    "r\"D:\\YuLab\\Work\\GPS\\Video\\Kennard\\GPS_08_Kornblum1500SRTSelf\\20231013\\Top\\Clips\\Kennard_20231013_HoldTrial079_TopView.avi\",\n",
    "r\"D:\\YuLab\\Work\\GPS\\Video\\Kennard\\GPS_08_Kornblum1500SRTSelf\\20231013\\Top\\Clips\\Kennard_20231013_HoldTrial080_TopView.avi\",\n",
    "r\"D:\\YuLab\\Work\\GPS\\Video\\Kennard\\GPS_08_Kornblum1500SRTSelf\\20231013\\Top\\Clips\\Kennard_20231013_HoldTrial081_TopView.avi\",\n",
    "r\"D:\\YuLab\\Work\\GPS\\Video\\Kennard\\GPS_08_Kornblum1500SRTSelf\\20231013\\Top\\Clips\\Kennard_20231013_HoldTrial082_TopView.avi\",\n",
    "r\"D:\\YuLab\\Work\\GPS\\Video\\Kennard\\GPS_08_Kornblum1500SRTSelf\\20231013\\Top\\Clips\\Kennard_20231013_HoldTrial083_TopView.avi\",\n",
    "r\"D:\\YuLab\\Work\\GPS\\Video\\Kennard\\GPS_08_Kornblum1500SRTSelf\\20231013\\Top\\Clips\\Kennard_20231013_HoldTrial084_TopView.avi\",\n",
    "r\"D:\\YuLab\\Work\\GPS\\Video\\Kennard\\GPS_08_Kornblum1500SRTSelf\\20231013\\Top\\Clips\\Kennard_20231013_HoldTrial085_TopView.avi\",\n",
    "r\"D:\\YuLab\\Work\\GPS\\Video\\Kennard\\GPS_08_Kornblum1500SRTSelf\\20231013\\Top\\Clips\\Kennard_20231013_HoldTrial086_TopView.avi\",\n",
    "r\"D:\\YuLab\\Work\\GPS\\Video\\Kennard\\GPS_08_Kornblum1500SRTSelf\\20231013\\Top\\Clips\\Kennard_20231013_HoldTrial087_TopView.avi\",\n",
    "r\"D:\\YuLab\\Work\\GPS\\Video\\Kennard\\GPS_08_Kornblum1500SRTSelf\\20231013\\Top\\Clips\\Kennard_20231013_HoldTrial088_TopView.avi\",\n",
    "r\"D:\\YuLab\\Work\\GPS\\Video\\Kennard\\GPS_08_Kornblum1500SRTSelf\\20231013\\Top\\Clips\\Kennard_20231013_HoldTrial089_TopView.avi\",\n",
    "r\"D:\\YuLab\\Work\\GPS\\Video\\Kennard\\GPS_08_Kornblum1500SRTSelf\\20231013\\Top\\Clips\\Kennard_20231013_HoldTrial090_TopView.avi\",\n",
    "r\"D:\\YuLab\\Work\\GPS\\Video\\Kennard\\GPS_08_Kornblum1500SRTSelf\\20231013\\Top\\Clips\\Kennard_20231013_HoldTrial091_TopView.avi\",\n",
    "r\"D:\\YuLab\\Work\\GPS\\Video\\Kennard\\GPS_08_Kornblum1500SRTSelf\\20231013\\Top\\Clips\\Kennard_20231013_HoldTrial092_TopView.avi\",\n",
    "r\"D:\\YuLab\\Work\\GPS\\Video\\Kennard\\GPS_08_Kornblum1500SRTSelf\\20231013\\Top\\Clips\\Kennard_20231013_HoldTrial093_TopView.avi\",\n",
    "r\"D:\\YuLab\\Work\\GPS\\Video\\Kennard\\GPS_08_Kornblum1500SRTSelf\\20231013\\Top\\Clips\\Kennard_20231013_HoldTrial094_TopView.avi\",\n",
    "r\"D:\\YuLab\\Work\\GPS\\Video\\Kennard\\GPS_08_Kornblum1500SRTSelf\\20231013\\Top\\Clips\\Kennard_20231013_HoldTrial095_TopView.avi\",\n",
    "r\"D:\\YuLab\\Work\\GPS\\Video\\Kennard\\GPS_08_Kornblum1500SRTSelf\\20231013\\Top\\Clips\\Kennard_20231013_HoldTrial096_TopView.avi\",\n",
    "r\"D:\\YuLab\\Work\\GPS\\Video\\Kennard\\GPS_08_Kornblum1500SRTSelf\\20231013\\Top\\Clips\\Kennard_20231013_HoldTrial097_TopView.avi\",\n",
    "r\"D:\\YuLab\\Work\\GPS\\Video\\Kennard\\GPS_08_Kornblum1500SRTSelf\\20231013\\Top\\Clips\\Kennard_20231013_HoldTrial098_TopView.avi\",\n",
    "r\"D:\\YuLab\\Work\\GPS\\Video\\Kennard\\GPS_08_Kornblum1500SRTSelf\\20231013\\Top\\Clips\\Kennard_20231013_HoldTrial099_TopView.avi\",\n",
    "r\"D:\\YuLab\\Work\\GPS\\Video\\Kennard\\GPS_08_Kornblum1500SRTSelf\\20231013\\Top\\Clips\\Kennard_20231013_HoldTrial100_TopView.avi\",\n",
    "r\"D:\\YuLab\\Work\\GPS\\Video\\Kennard\\GPS_08_Kornblum1500SRTSelf\\20231013\\Top\\Clips\\Kennard_20231013_HoldTrial101_TopView.avi\",\n",
    "r\"D:\\YuLab\\Work\\GPS\\Video\\Kennard\\GPS_08_Kornblum1500SRTSelf\\20231013\\Top\\Clips\\Kennard_20231013_HoldTrial102_TopView.avi\",\n",
    "r\"D:\\YuLab\\Work\\GPS\\Video\\Kennard\\GPS_08_Kornblum1500SRTSelf\\20231013\\Top\\Clips\\Kennard_20231013_HoldTrial103_TopView.avi\",\n",
    "r\"D:\\YuLab\\Work\\GPS\\Video\\Kennard\\GPS_08_Kornblum1500SRTSelf\\20231013\\Top\\Clips\\Kennard_20231013_HoldTrial104_TopView.avi\",\n",
    "r\"D:\\YuLab\\Work\\GPS\\Video\\Kennard\\GPS_08_Kornblum1500SRTSelf\\20231013\\Top\\Clips\\Kennard_20231013_HoldTrial105_TopView.avi\",\n",
    "r\"D:\\YuLab\\Work\\GPS\\Video\\Kennard\\GPS_08_Kornblum1500SRTSelf\\20231013\\Top\\Clips\\Kennard_20231013_HoldTrial106_TopView.avi\",\n",
    "r\"D:\\YuLab\\Work\\GPS\\Video\\Kennard\\GPS_08_Kornblum1500SRTSelf\\20231013\\Top\\Clips\\Kennard_20231013_HoldTrial107_TopView.avi\",\n",
    "r\"D:\\YuLab\\Work\\GPS\\Video\\Kennard\\GPS_08_Kornblum1500SRTSelf\\20231013\\Top\\Clips\\Kennard_20231013_HoldTrial108_TopView.avi\",\n",
    "r\"D:\\YuLab\\Work\\GPS\\Video\\Kennard\\GPS_08_Kornblum1500SRTSelf\\20231013\\Top\\Clips\\Kennard_20231013_HoldTrial109_TopView.avi\",\n",
    "r\"D:\\YuLab\\Work\\GPS\\Video\\Kennard\\GPS_08_Kornblum1500SRTSelf\\20231013\\Top\\Clips\\Kennard_20231013_HoldTrial110_TopView.avi\",\n",
    "r\"D:\\YuLab\\Work\\GPS\\Video\\Kennard\\GPS_08_Kornblum1500SRTSelf\\20231013\\Top\\Clips\\Kennard_20231013_HoldTrial111_TopView.avi\",\n",
    "r\"D:\\YuLab\\Work\\GPS\\Video\\Kennard\\GPS_08_Kornblum1500SRTSelf\\20231013\\Top\\Clips\\Kennard_20231013_HoldTrial112_TopView.avi\",\n",
    "r\"D:\\YuLab\\Work\\GPS\\Video\\Kennard\\GPS_08_Kornblum1500SRTSelf\\20231013\\Top\\Clips\\Kennard_20231013_HoldTrial113_TopView.avi\",\n",
    "r\"D:\\YuLab\\Work\\GPS\\Video\\Kennard\\GPS_08_Kornblum1500SRTSelf\\20231013\\Top\\Clips\\Kennard_20231013_HoldTrial114_TopView.avi\",\n",
    "r\"D:\\YuLab\\Work\\GPS\\Video\\Kennard\\GPS_08_Kornblum1500SRTSelf\\20231013\\Top\\Clips\\Kennard_20231013_HoldTrial115_TopView.avi\",\n",
    "r\"D:\\YuLab\\Work\\GPS\\Video\\Kennard\\GPS_08_Kornblum1500SRTSelf\\20231013\\Top\\Clips\\Kennard_20231013_HoldTrial116_TopView.avi\",\n",
    "r\"D:\\YuLab\\Work\\GPS\\Video\\Kennard\\GPS_08_Kornblum1500SRTSelf\\20231013\\Top\\Clips\\Kennard_20231013_HoldTrial117_TopView.avi\",\n",
    "r\"D:\\YuLab\\Work\\GPS\\Video\\Kennard\\GPS_08_Kornblum1500SRTSelf\\20231013\\Top\\Clips\\Kennard_20231013_HoldTrial118_TopView.avi\",\n",
    "r\"D:\\YuLab\\Work\\GPS\\Video\\Kennard\\GPS_08_Kornblum1500SRTSelf\\20231014\\Top\\Clips\\Kennard_20231014_HoldTrial114_TopView.avi\",\n",
    "r\"D:\\YuLab\\Work\\GPS\\Video\\Kennard\\GPS_08_Kornblum1500SRTSelf\\20231014\\Top\\Clips\\Kennard_20231014_HoldTrial011_TopView.avi\",\n",
    "r\"D:\\YuLab\\Work\\GPS\\Video\\Kennard\\GPS_08_Kornblum1500SRTSelf\\20231014\\Top\\Clips\\Kennard_20231014_HoldTrial012_TopView.avi\",\n",
    "r\"D:\\YuLab\\Work\\GPS\\Video\\Kennard\\GPS_08_Kornblum1500SRTSelf\\20231014\\Top\\Clips\\Kennard_20231014_HoldTrial013_TopView.avi\",\n",
    "r\"D:\\YuLab\\Work\\GPS\\Video\\Kennard\\GPS_08_Kornblum1500SRTSelf\\20231014\\Top\\Clips\\Kennard_20231014_HoldTrial014_TopView.avi\",\n",
    "r\"D:\\YuLab\\Work\\GPS\\Video\\Kennard\\GPS_08_Kornblum1500SRTSelf\\20231014\\Top\\Clips\\Kennard_20231014_HoldTrial015_TopView.avi\",\n",
    "r\"D:\\YuLab\\Work\\GPS\\Video\\Kennard\\GPS_08_Kornblum1500SRTSelf\\20231014\\Top\\Clips\\Kennard_20231014_HoldTrial016_TopView.avi\",\n",
    "r\"D:\\YuLab\\Work\\GPS\\Video\\Kennard\\GPS_08_Kornblum1500SRTSelf\\20231014\\Top\\Clips\\Kennard_20231014_HoldTrial017_TopView.avi\",\n",
    "r\"D:\\YuLab\\Work\\GPS\\Video\\Kennard\\GPS_08_Kornblum1500SRTSelf\\20231014\\Top\\Clips\\Kennard_20231014_HoldTrial018_TopView.avi\",\n",
    "r\"D:\\YuLab\\Work\\GPS\\Video\\Kennard\\GPS_08_Kornblum1500SRTSelf\\20231014\\Top\\Clips\\Kennard_20231014_HoldTrial019_TopView.avi\",\n",
    "r\"D:\\YuLab\\Work\\GPS\\Video\\Kennard\\GPS_08_Kornblum1500SRTSelf\\20231014\\Top\\Clips\\Kennard_20231014_HoldTrial020_TopView.avi\",\n",
    "r\"D:\\YuLab\\Work\\GPS\\Video\\Kennard\\GPS_08_Kornblum1500SRTSelf\\20231014\\Top\\Clips\\Kennard_20231014_HoldTrial021_TopView.avi\",\n",
    "r\"D:\\YuLab\\Work\\GPS\\Video\\Kennard\\GPS_08_Kornblum1500SRTSelf\\20231014\\Top\\Clips\\Kennard_20231014_HoldTrial022_TopView.avi\",\n",
    "r\"D:\\YuLab\\Work\\GPS\\Video\\Kennard\\GPS_08_Kornblum1500SRTSelf\\20231014\\Top\\Clips\\Kennard_20231014_HoldTrial023_TopView.avi\",\n",
    "r\"D:\\YuLab\\Work\\GPS\\Video\\Kennard\\GPS_08_Kornblum1500SRTSelf\\20231014\\Top\\Clips\\Kennard_20231014_HoldTrial024_TopView.avi\",\n",
    "r\"D:\\YuLab\\Work\\GPS\\Video\\Kennard\\GPS_08_Kornblum1500SRTSelf\\20231014\\Top\\Clips\\Kennard_20231014_HoldTrial025_TopView.avi\",\n",
    "r\"D:\\YuLab\\Work\\GPS\\Video\\Kennard\\GPS_08_Kornblum1500SRTSelf\\20231014\\Top\\Clips\\Kennard_20231014_HoldTrial026_TopView.avi\",\n",
    "r\"D:\\YuLab\\Work\\GPS\\Video\\Kennard\\GPS_08_Kornblum1500SRTSelf\\20231014\\Top\\Clips\\Kennard_20231014_HoldTrial027_TopView.avi\",\n",
    "r\"D:\\YuLab\\Work\\GPS\\Video\\Kennard\\GPS_08_Kornblum1500SRTSelf\\20231014\\Top\\Clips\\Kennard_20231014_HoldTrial028_TopView.avi\",\n",
    "r\"D:\\YuLab\\Work\\GPS\\Video\\Kennard\\GPS_08_Kornblum1500SRTSelf\\20231014\\Top\\Clips\\Kennard_20231014_HoldTrial029_TopView.avi\",\n",
    "r\"D:\\YuLab\\Work\\GPS\\Video\\Kennard\\GPS_08_Kornblum1500SRTSelf\\20231014\\Top\\Clips\\Kennard_20231014_HoldTrial030_TopView.avi\",\n",
    "r\"D:\\YuLab\\Work\\GPS\\Video\\Kennard\\GPS_08_Kornblum1500SRTSelf\\20231014\\Top\\Clips\\Kennard_20231014_HoldTrial031_TopView.avi\",\n",
    "r\"D:\\YuLab\\Work\\GPS\\Video\\Kennard\\GPS_08_Kornblum1500SRTSelf\\20231014\\Top\\Clips\\Kennard_20231014_HoldTrial032_TopView.avi\",\n",
    "r\"D:\\YuLab\\Work\\GPS\\Video\\Kennard\\GPS_08_Kornblum1500SRTSelf\\20231014\\Top\\Clips\\Kennard_20231014_HoldTrial033_TopView.avi\",\n",
    "r\"D:\\YuLab\\Work\\GPS\\Video\\Kennard\\GPS_08_Kornblum1500SRTSelf\\20231014\\Top\\Clips\\Kennard_20231014_HoldTrial034_TopView.avi\",\n",
    "r\"D:\\YuLab\\Work\\GPS\\Video\\Kennard\\GPS_08_Kornblum1500SRTSelf\\20231014\\Top\\Clips\\Kennard_20231014_HoldTrial035_TopView.avi\",\n",
    "r\"D:\\YuLab\\Work\\GPS\\Video\\Kennard\\GPS_08_Kornblum1500SRTSelf\\20231014\\Top\\Clips\\Kennard_20231014_HoldTrial036_TopView.avi\",\n",
    "r\"D:\\YuLab\\Work\\GPS\\Video\\Kennard\\GPS_08_Kornblum1500SRTSelf\\20231014\\Top\\Clips\\Kennard_20231014_HoldTrial037_TopView.avi\",\n",
    "r\"D:\\YuLab\\Work\\GPS\\Video\\Kennard\\GPS_08_Kornblum1500SRTSelf\\20231014\\Top\\Clips\\Kennard_20231014_HoldTrial038_TopView.avi\",\n",
    "r\"D:\\YuLab\\Work\\GPS\\Video\\Kennard\\GPS_08_Kornblum1500SRTSelf\\20231014\\Top\\Clips\\Kennard_20231014_HoldTrial039_TopView.avi\",\n",
    "r\"D:\\YuLab\\Work\\GPS\\Video\\Kennard\\GPS_08_Kornblum1500SRTSelf\\20231014\\Top\\Clips\\Kennard_20231014_HoldTrial040_TopView.avi\",\n",
    "r\"D:\\YuLab\\Work\\GPS\\Video\\Kennard\\GPS_08_Kornblum1500SRTSelf\\20231014\\Top\\Clips\\Kennard_20231014_HoldTrial041_TopView.avi\",\n",
    "r\"D:\\YuLab\\Work\\GPS\\Video\\Kennard\\GPS_08_Kornblum1500SRTSelf\\20231014\\Top\\Clips\\Kennard_20231014_HoldTrial042_TopView.avi\",\n",
    "r\"D:\\YuLab\\Work\\GPS\\Video\\Kennard\\GPS_08_Kornblum1500SRTSelf\\20231014\\Top\\Clips\\Kennard_20231014_HoldTrial043_TopView.avi\",\n",
    "r\"D:\\YuLab\\Work\\GPS\\Video\\Kennard\\GPS_08_Kornblum1500SRTSelf\\20231014\\Top\\Clips\\Kennard_20231014_HoldTrial044_TopView.avi\",\n",
    "r\"D:\\YuLab\\Work\\GPS\\Video\\Kennard\\GPS_08_Kornblum1500SRTSelf\\20231014\\Top\\Clips\\Kennard_20231014_HoldTrial045_TopView.avi\",\n",
    "r\"D:\\YuLab\\Work\\GPS\\Video\\Kennard\\GPS_08_Kornblum1500SRTSelf\\20231014\\Top\\Clips\\Kennard_20231014_HoldTrial046_TopView.avi\",\n",
    "r\"D:\\YuLab\\Work\\GPS\\Video\\Kennard\\GPS_08_Kornblum1500SRTSelf\\20231014\\Top\\Clips\\Kennard_20231014_HoldTrial047_TopView.avi\",\n",
    "r\"D:\\YuLab\\Work\\GPS\\Video\\Kennard\\GPS_08_Kornblum1500SRTSelf\\20231014\\Top\\Clips\\Kennard_20231014_HoldTrial048_TopView.avi\",\n",
    "r\"D:\\YuLab\\Work\\GPS\\Video\\Kennard\\GPS_08_Kornblum1500SRTSelf\\20231014\\Top\\Clips\\Kennard_20231014_HoldTrial049_TopView.avi\",\n",
    "r\"D:\\YuLab\\Work\\GPS\\Video\\Kennard\\GPS_08_Kornblum1500SRTSelf\\20231014\\Top\\Clips\\Kennard_20231014_HoldTrial050_TopView.avi\",\n",
    "r\"D:\\YuLab\\Work\\GPS\\Video\\Kennard\\GPS_08_Kornblum1500SRTSelf\\20231014\\Top\\Clips\\Kennard_20231014_HoldTrial051_TopView.avi\",\n",
    "r\"D:\\YuLab\\Work\\GPS\\Video\\Kennard\\GPS_08_Kornblum1500SRTSelf\\20231014\\Top\\Clips\\Kennard_20231014_HoldTrial052_TopView.avi\",\n",
    "r\"D:\\YuLab\\Work\\GPS\\Video\\Kennard\\GPS_08_Kornblum1500SRTSelf\\20231014\\Top\\Clips\\Kennard_20231014_HoldTrial053_TopView.avi\",\n",
    "r\"D:\\YuLab\\Work\\GPS\\Video\\Kennard\\GPS_08_Kornblum1500SRTSelf\\20231014\\Top\\Clips\\Kennard_20231014_HoldTrial054_TopView.avi\",\n",
    "r\"D:\\YuLab\\Work\\GPS\\Video\\Kennard\\GPS_08_Kornblum1500SRTSelf\\20231014\\Top\\Clips\\Kennard_20231014_HoldTrial055_TopView.avi\",\n",
    "r\"D:\\YuLab\\Work\\GPS\\Video\\Kennard\\GPS_08_Kornblum1500SRTSelf\\20231014\\Top\\Clips\\Kennard_20231014_HoldTrial056_TopView.avi\",\n",
    "r\"D:\\YuLab\\Work\\GPS\\Video\\Kennard\\GPS_08_Kornblum1500SRTSelf\\20231014\\Top\\Clips\\Kennard_20231014_HoldTrial057_TopView.avi\",\n",
    "r\"D:\\YuLab\\Work\\GPS\\Video\\Kennard\\GPS_08_Kornblum1500SRTSelf\\20231014\\Top\\Clips\\Kennard_20231014_HoldTrial058_TopView.avi\",\n",
    "r\"D:\\YuLab\\Work\\GPS\\Video\\Kennard\\GPS_08_Kornblum1500SRTSelf\\20231014\\Top\\Clips\\Kennard_20231014_HoldTrial059_TopView.avi\",\n",
    "r\"D:\\YuLab\\Work\\GPS\\Video\\Kennard\\GPS_08_Kornblum1500SRTSelf\\20231014\\Top\\Clips\\Kennard_20231014_HoldTrial060_TopView.avi\",\n",
    "r\"D:\\YuLab\\Work\\GPS\\Video\\Kennard\\GPS_08_Kornblum1500SRTSelf\\20231014\\Top\\Clips\\Kennard_20231014_HoldTrial061_TopView.avi\",\n",
    "r\"D:\\YuLab\\Work\\GPS\\Video\\Kennard\\GPS_08_Kornblum1500SRTSelf\\20231014\\Top\\Clips\\Kennard_20231014_HoldTrial062_TopView.avi\",\n",
    "r\"D:\\YuLab\\Work\\GPS\\Video\\Kennard\\GPS_08_Kornblum1500SRTSelf\\20231014\\Top\\Clips\\Kennard_20231014_HoldTrial063_TopView.avi\",\n",
    "r\"D:\\YuLab\\Work\\GPS\\Video\\Kennard\\GPS_08_Kornblum1500SRTSelf\\20231014\\Top\\Clips\\Kennard_20231014_HoldTrial064_TopView.avi\",\n",
    "r\"D:\\YuLab\\Work\\GPS\\Video\\Kennard\\GPS_08_Kornblum1500SRTSelf\\20231014\\Top\\Clips\\Kennard_20231014_HoldTrial065_TopView.avi\",\n",
    "r\"D:\\YuLab\\Work\\GPS\\Video\\Kennard\\GPS_08_Kornblum1500SRTSelf\\20231014\\Top\\Clips\\Kennard_20231014_HoldTrial066_TopView.avi\",\n",
    "r\"D:\\YuLab\\Work\\GPS\\Video\\Kennard\\GPS_08_Kornblum1500SRTSelf\\20231014\\Top\\Clips\\Kennard_20231014_HoldTrial067_TopView.avi\",\n",
    "r\"D:\\YuLab\\Work\\GPS\\Video\\Kennard\\GPS_08_Kornblum1500SRTSelf\\20231014\\Top\\Clips\\Kennard_20231014_HoldTrial068_TopView.avi\",\n",
    "r\"D:\\YuLab\\Work\\GPS\\Video\\Kennard\\GPS_08_Kornblum1500SRTSelf\\20231014\\Top\\Clips\\Kennard_20231014_HoldTrial069_TopView.avi\",\n",
    "r\"D:\\YuLab\\Work\\GPS\\Video\\Kennard\\GPS_08_Kornblum1500SRTSelf\\20231014\\Top\\Clips\\Kennard_20231014_HoldTrial070_TopView.avi\",\n",
    "r\"D:\\YuLab\\Work\\GPS\\Video\\Kennard\\GPS_08_Kornblum1500SRTSelf\\20231014\\Top\\Clips\\Kennard_20231014_HoldTrial071_TopView.avi\",\n",
    "r\"D:\\YuLab\\Work\\GPS\\Video\\Kennard\\GPS_08_Kornblum1500SRTSelf\\20231014\\Top\\Clips\\Kennard_20231014_HoldTrial072_TopView.avi\",\n",
    "r\"D:\\YuLab\\Work\\GPS\\Video\\Kennard\\GPS_08_Kornblum1500SRTSelf\\20231014\\Top\\Clips\\Kennard_20231014_HoldTrial073_TopView.avi\",\n",
    "r\"D:\\YuLab\\Work\\GPS\\Video\\Kennard\\GPS_08_Kornblum1500SRTSelf\\20231014\\Top\\Clips\\Kennard_20231014_HoldTrial074_TopView.avi\",\n",
    "r\"D:\\YuLab\\Work\\GPS\\Video\\Kennard\\GPS_08_Kornblum1500SRTSelf\\20231014\\Top\\Clips\\Kennard_20231014_HoldTrial075_TopView.avi\",\n",
    "r\"D:\\YuLab\\Work\\GPS\\Video\\Kennard\\GPS_08_Kornblum1500SRTSelf\\20231014\\Top\\Clips\\Kennard_20231014_HoldTrial076_TopView.avi\",\n",
    "r\"D:\\YuLab\\Work\\GPS\\Video\\Kennard\\GPS_08_Kornblum1500SRTSelf\\20231014\\Top\\Clips\\Kennard_20231014_HoldTrial077_TopView.avi\",\n",
    "r\"D:\\YuLab\\Work\\GPS\\Video\\Kennard\\GPS_08_Kornblum1500SRTSelf\\20231014\\Top\\Clips\\Kennard_20231014_HoldTrial078_TopView.avi\",\n",
    "r\"D:\\YuLab\\Work\\GPS\\Video\\Kennard\\GPS_08_Kornblum1500SRTSelf\\20231014\\Top\\Clips\\Kennard_20231014_HoldTrial079_TopView.avi\",\n",
    "r\"D:\\YuLab\\Work\\GPS\\Video\\Kennard\\GPS_08_Kornblum1500SRTSelf\\20231014\\Top\\Clips\\Kennard_20231014_HoldTrial080_TopView.avi\",\n",
    "r\"D:\\YuLab\\Work\\GPS\\Video\\Kennard\\GPS_08_Kornblum1500SRTSelf\\20231014\\Top\\Clips\\Kennard_20231014_HoldTrial081_TopView.avi\",\n",
    "r\"D:\\YuLab\\Work\\GPS\\Video\\Kennard\\GPS_08_Kornblum1500SRTSelf\\20231014\\Top\\Clips\\Kennard_20231014_HoldTrial082_TopView.avi\",\n",
    "r\"D:\\YuLab\\Work\\GPS\\Video\\Kennard\\GPS_08_Kornblum1500SRTSelf\\20231014\\Top\\Clips\\Kennard_20231014_HoldTrial083_TopView.avi\",\n",
    "r\"D:\\YuLab\\Work\\GPS\\Video\\Kennard\\GPS_08_Kornblum1500SRTSelf\\20231014\\Top\\Clips\\Kennard_20231014_HoldTrial084_TopView.avi\",\n",
    "r\"D:\\YuLab\\Work\\GPS\\Video\\Kennard\\GPS_08_Kornblum1500SRTSelf\\20231014\\Top\\Clips\\Kennard_20231014_HoldTrial085_TopView.avi\",\n",
    "r\"D:\\YuLab\\Work\\GPS\\Video\\Kennard\\GPS_08_Kornblum1500SRTSelf\\20231014\\Top\\Clips\\Kennard_20231014_HoldTrial086_TopView.avi\",\n",
    "r\"D:\\YuLab\\Work\\GPS\\Video\\Kennard\\GPS_08_Kornblum1500SRTSelf\\20231014\\Top\\Clips\\Kennard_20231014_HoldTrial087_TopView.avi\",\n",
    "r\"D:\\YuLab\\Work\\GPS\\Video\\Kennard\\GPS_08_Kornblum1500SRTSelf\\20231014\\Top\\Clips\\Kennard_20231014_HoldTrial088_TopView.avi\",\n",
    "r\"D:\\YuLab\\Work\\GPS\\Video\\Kennard\\GPS_08_Kornblum1500SRTSelf\\20231014\\Top\\Clips\\Kennard_20231014_HoldTrial089_TopView.avi\",\n",
    "r\"D:\\YuLab\\Work\\GPS\\Video\\Kennard\\GPS_08_Kornblum1500SRTSelf\\20231014\\Top\\Clips\\Kennard_20231014_HoldTrial090_TopView.avi\",\n",
    "r\"D:\\YuLab\\Work\\GPS\\Video\\Kennard\\GPS_08_Kornblum1500SRTSelf\\20231014\\Top\\Clips\\Kennard_20231014_HoldTrial091_TopView.avi\",\n",
    "r\"D:\\YuLab\\Work\\GPS\\Video\\Kennard\\GPS_08_Kornblum1500SRTSelf\\20231014\\Top\\Clips\\Kennard_20231014_HoldTrial092_TopView.avi\",\n",
    "r\"D:\\YuLab\\Work\\GPS\\Video\\Kennard\\GPS_08_Kornblum1500SRTSelf\\20231014\\Top\\Clips\\Kennard_20231014_HoldTrial093_TopView.avi\",\n",
    "r\"D:\\YuLab\\Work\\GPS\\Video\\Kennard\\GPS_08_Kornblum1500SRTSelf\\20231014\\Top\\Clips\\Kennard_20231014_HoldTrial094_TopView.avi\",\n",
    "r\"D:\\YuLab\\Work\\GPS\\Video\\Kennard\\GPS_08_Kornblum1500SRTSelf\\20231014\\Top\\Clips\\Kennard_20231014_HoldTrial095_TopView.avi\",\n",
    "r\"D:\\YuLab\\Work\\GPS\\Video\\Kennard\\GPS_08_Kornblum1500SRTSelf\\20231014\\Top\\Clips\\Kennard_20231014_HoldTrial096_TopView.avi\",\n",
    "r\"D:\\YuLab\\Work\\GPS\\Video\\Kennard\\GPS_08_Kornblum1500SRTSelf\\20231014\\Top\\Clips\\Kennard_20231014_HoldTrial097_TopView.avi\",\n",
    "r\"D:\\YuLab\\Work\\GPS\\Video\\Kennard\\GPS_08_Kornblum1500SRTSelf\\20231014\\Top\\Clips\\Kennard_20231014_HoldTrial098_TopView.avi\",\n",
    "r\"D:\\YuLab\\Work\\GPS\\Video\\Kennard\\GPS_08_Kornblum1500SRTSelf\\20231014\\Top\\Clips\\Kennard_20231014_HoldTrial099_TopView.avi\",\n",
    "r\"D:\\YuLab\\Work\\GPS\\Video\\Kennard\\GPS_08_Kornblum1500SRTSelf\\20231014\\Top\\Clips\\Kennard_20231014_HoldTrial100_TopView.avi\",\n",
    "r\"D:\\YuLab\\Work\\GPS\\Video\\Kennard\\GPS_08_Kornblum1500SRTSelf\\20231014\\Top\\Clips\\Kennard_20231014_HoldTrial101_TopView.avi\",\n",
    "r\"D:\\YuLab\\Work\\GPS\\Video\\Kennard\\GPS_08_Kornblum1500SRTSelf\\20231014\\Top\\Clips\\Kennard_20231014_HoldTrial102_TopView.avi\",\n",
    "r\"D:\\YuLab\\Work\\GPS\\Video\\Kennard\\GPS_08_Kornblum1500SRTSelf\\20231014\\Top\\Clips\\Kennard_20231014_HoldTrial103_TopView.avi\",\n",
    "r\"D:\\YuLab\\Work\\GPS\\Video\\Kennard\\GPS_08_Kornblum1500SRTSelf\\20231014\\Top\\Clips\\Kennard_20231014_HoldTrial104_TopView.avi\",\n",
    "r\"D:\\YuLab\\Work\\GPS\\Video\\Kennard\\GPS_08_Kornblum1500SRTSelf\\20231014\\Top\\Clips\\Kennard_20231014_HoldTrial105_TopView.avi\",\n",
    "r\"D:\\YuLab\\Work\\GPS\\Video\\Kennard\\GPS_08_Kornblum1500SRTSelf\\20231014\\Top\\Clips\\Kennard_20231014_HoldTrial106_TopView.avi\",\n",
    "r\"D:\\YuLab\\Work\\GPS\\Video\\Kennard\\GPS_08_Kornblum1500SRTSelf\\20231014\\Top\\Clips\\Kennard_20231014_HoldTrial107_TopView.avi\",\n",
    "r\"D:\\YuLab\\Work\\GPS\\Video\\Kennard\\GPS_08_Kornblum1500SRTSelf\\20231014\\Top\\Clips\\Kennard_20231014_HoldTrial108_TopView.avi\",\n",
    "r\"D:\\YuLab\\Work\\GPS\\Video\\Kennard\\GPS_08_Kornblum1500SRTSelf\\20231014\\Top\\Clips\\Kennard_20231014_HoldTrial109_TopView.avi\",\n",
    "r\"D:\\YuLab\\Work\\GPS\\Video\\Kennard\\GPS_08_Kornblum1500SRTSelf\\20231014\\Top\\Clips\\Kennard_20231014_HoldTrial110_TopView.avi\",\n",
    "r\"D:\\YuLab\\Work\\GPS\\Video\\Kennard\\GPS_08_Kornblum1500SRTSelf\\20231014\\Top\\Clips\\Kennard_20231014_HoldTrial111_TopView.avi\",\n",
    "r\"D:\\YuLab\\Work\\GPS\\Video\\Kennard\\GPS_08_Kornblum1500SRTSelf\\20231014\\Top\\Clips\\Kennard_20231014_HoldTrial112_TopView.avi\",\n",
    "r\"D:\\YuLab\\Work\\GPS\\Video\\Kennard\\GPS_08_Kornblum1500SRTSelf\\20231014\\Top\\Clips\\Kennard_20231014_HoldTrial113_TopView.avi\",\n",
    "]"
   ]
  },
  {
   "cell_type": "code",
   "execution_count": 5,
   "metadata": {},
   "outputs": [
    {
     "name": "stdout",
     "output_type": "stream",
     "text": [
      "Using snapshot-1400000 for model D:\\YuLab\\Work\\GPS\\DLC\\Morad\\Model\\Top\\MoradTopGPS-ZZH-2023-09-12\\dlc-models\\iteration-0\\MoradTopGPSSep12-trainset95shuffle1\n"
     ]
    },
    {
     "name": "stderr",
     "output_type": "stream",
     "text": [
      "c:\\Users\\ZhuohaoZhang\\anaconda3\\envs\\DEEPLABCUT\\lib\\site-packages\\tensorflow\\python\\keras\\engine\\base_layer_v1.py:1694: UserWarning: `layer.apply` is deprecated and will be removed in a future version. Please use `layer.__call__` method instead.\n",
      "  warnings.warn('`layer.apply` is deprecated and '\n"
     ]
    },
    {
     "name": "stdout",
     "output_type": "stream",
     "text": [
      "Starting to analyze %  D:\\YuLab\\Work\\GPS\\Video\\Kennard\\GPS_08_Kornblum1500SRTSelf\\20231007\\Top\\Clips\\Kennard_20231007_HoldTrial081_TopView.avi\n",
      "Loading  D:\\YuLab\\Work\\GPS\\Video\\Kennard\\GPS_08_Kornblum1500SRTSelf\\20231007\\Top\\Clips\\Kennard_20231007_HoldTrial081_TopView.avi\n",
      "Duration of video [s]:  8.04 , recorded with  25.0 fps!\n",
      "Overall # of frames:  201  found with (before cropping) frame dimensions:  1280 1331\n",
      "Starting to extract posture\n",
      "Cropping based on the x1 = 0 x2 = 1280 y1 = 0 y2 = 1024. You can adjust the cropping coordinates in the config.yaml file.\n"
     ]
    },
    {
     "name": "stderr",
     "output_type": "stream",
     "text": [
      "100%|██████████| 201/201 [00:34<00:00,  5.79it/s]\n"
     ]
    },
    {
     "name": "stdout",
     "output_type": "stream",
     "text": [
      "Saving results in D:\\YuLab\\Work\\GPS\\Video\\Kennard\\GPS_08_Kornblum1500SRTSelf\\20231007\\Top\\Clips...\n",
      "Saving csv poses!\n",
      "Starting to analyze %  D:\\YuLab\\Work\\GPS\\Video\\Kennard\\GPS_08_Kornblum1500SRTSelf\\20231007\\Top\\Clips\\Kennard_20231007_HoldTrial004_TopView.avi\n",
      "Loading  D:\\YuLab\\Work\\GPS\\Video\\Kennard\\GPS_08_Kornblum1500SRTSelf\\20231007\\Top\\Clips\\Kennard_20231007_HoldTrial004_TopView.avi\n",
      "Duration of video [s]:  8.04 , recorded with  25.0 fps!\n",
      "Overall # of frames:  201  found with (before cropping) frame dimensions:  1280 1331\n",
      "Starting to extract posture\n",
      "Cropping based on the x1 = 0 x2 = 1280 y1 = 0 y2 = 1024. You can adjust the cropping coordinates in the config.yaml file.\n"
     ]
    },
    {
     "name": "stderr",
     "output_type": "stream",
     "text": [
      "100%|██████████| 201/201 [00:08<00:00, 22.94it/s]\n"
     ]
    },
    {
     "name": "stdout",
     "output_type": "stream",
     "text": [
      "Saving results in D:\\YuLab\\Work\\GPS\\Video\\Kennard\\GPS_08_Kornblum1500SRTSelf\\20231007\\Top\\Clips...\n",
      "Saving csv poses!\n",
      "Starting to analyze %  D:\\YuLab\\Work\\GPS\\Video\\Kennard\\GPS_08_Kornblum1500SRTSelf\\20231007\\Top\\Clips\\Kennard_20231007_HoldTrial005_TopView.avi\n",
      "Loading  D:\\YuLab\\Work\\GPS\\Video\\Kennard\\GPS_08_Kornblum1500SRTSelf\\20231007\\Top\\Clips\\Kennard_20231007_HoldTrial005_TopView.avi\n",
      "Duration of video [s]:  8.0 , recorded with  25.0 fps!\n",
      "Overall # of frames:  200  found with (before cropping) frame dimensions:  1280 1331\n",
      "Starting to extract posture\n",
      "Cropping based on the x1 = 0 x2 = 1280 y1 = 0 y2 = 1024. You can adjust the cropping coordinates in the config.yaml file.\n"
     ]
    },
    {
     "name": "stderr",
     "output_type": "stream",
     "text": [
      "100%|██████████| 200/200 [00:08<00:00, 23.61it/s]\n"
     ]
    },
    {
     "name": "stdout",
     "output_type": "stream",
     "text": [
      "Saving results in D:\\YuLab\\Work\\GPS\\Video\\Kennard\\GPS_08_Kornblum1500SRTSelf\\20231007\\Top\\Clips...\n",
      "Saving csv poses!\n",
      "Starting to analyze %  D:\\YuLab\\Work\\GPS\\Video\\Kennard\\GPS_08_Kornblum1500SRTSelf\\20231007\\Top\\Clips\\Kennard_20231007_HoldTrial006_TopView.avi\n",
      "Loading  D:\\YuLab\\Work\\GPS\\Video\\Kennard\\GPS_08_Kornblum1500SRTSelf\\20231007\\Top\\Clips\\Kennard_20231007_HoldTrial006_TopView.avi\n",
      "Duration of video [s]:  8.0 , recorded with  25.0 fps!\n",
      "Overall # of frames:  200  found with (before cropping) frame dimensions:  1280 1331\n",
      "Starting to extract posture\n",
      "Cropping based on the x1 = 0 x2 = 1280 y1 = 0 y2 = 1024. You can adjust the cropping coordinates in the config.yaml file.\n"
     ]
    },
    {
     "name": "stderr",
     "output_type": "stream",
     "text": [
      "100%|██████████| 200/200 [00:08<00:00, 23.52it/s]\n"
     ]
    },
    {
     "name": "stdout",
     "output_type": "stream",
     "text": [
      "Saving results in D:\\YuLab\\Work\\GPS\\Video\\Kennard\\GPS_08_Kornblum1500SRTSelf\\20231007\\Top\\Clips...\n",
      "Saving csv poses!\n",
      "Starting to analyze %  D:\\YuLab\\Work\\GPS\\Video\\Kennard\\GPS_08_Kornblum1500SRTSelf\\20231007\\Top\\Clips\\Kennard_20231007_HoldTrial007_TopView.avi\n",
      "Loading  D:\\YuLab\\Work\\GPS\\Video\\Kennard\\GPS_08_Kornblum1500SRTSelf\\20231007\\Top\\Clips\\Kennard_20231007_HoldTrial007_TopView.avi\n",
      "Duration of video [s]:  8.04 , recorded with  25.0 fps!\n",
      "Overall # of frames:  201  found with (before cropping) frame dimensions:  1280 1331\n",
      "Starting to extract posture\n",
      "Cropping based on the x1 = 0 x2 = 1280 y1 = 0 y2 = 1024. You can adjust the cropping coordinates in the config.yaml file.\n"
     ]
    },
    {
     "name": "stderr",
     "output_type": "stream",
     "text": [
      "100%|██████████| 201/201 [00:08<00:00, 22.83it/s]\n"
     ]
    },
    {
     "name": "stdout",
     "output_type": "stream",
     "text": [
      "Saving results in D:\\YuLab\\Work\\GPS\\Video\\Kennard\\GPS_08_Kornblum1500SRTSelf\\20231007\\Top\\Clips...\n",
      "Saving csv poses!\n",
      "Starting to analyze %  D:\\YuLab\\Work\\GPS\\Video\\Kennard\\GPS_08_Kornblum1500SRTSelf\\20231007\\Top\\Clips\\Kennard_20231007_HoldTrial008_TopView.avi\n",
      "Loading  D:\\YuLab\\Work\\GPS\\Video\\Kennard\\GPS_08_Kornblum1500SRTSelf\\20231007\\Top\\Clips\\Kennard_20231007_HoldTrial008_TopView.avi\n",
      "Duration of video [s]:  8.04 , recorded with  25.0 fps!\n",
      "Overall # of frames:  201  found with (before cropping) frame dimensions:  1280 1331\n",
      "Starting to extract posture\n",
      "Cropping based on the x1 = 0 x2 = 1280 y1 = 0 y2 = 1024. You can adjust the cropping coordinates in the config.yaml file.\n"
     ]
    },
    {
     "name": "stderr",
     "output_type": "stream",
     "text": [
      "100%|██████████| 201/201 [00:08<00:00, 22.81it/s]\n"
     ]
    },
    {
     "name": "stdout",
     "output_type": "stream",
     "text": [
      "Saving results in D:\\YuLab\\Work\\GPS\\Video\\Kennard\\GPS_08_Kornblum1500SRTSelf\\20231007\\Top\\Clips...\n",
      "Saving csv poses!\n",
      "Starting to analyze %  D:\\YuLab\\Work\\GPS\\Video\\Kennard\\GPS_08_Kornblum1500SRTSelf\\20231007\\Top\\Clips\\Kennard_20231007_HoldTrial009_TopView.avi\n",
      "Loading  D:\\YuLab\\Work\\GPS\\Video\\Kennard\\GPS_08_Kornblum1500SRTSelf\\20231007\\Top\\Clips\\Kennard_20231007_HoldTrial009_TopView.avi\n",
      "Duration of video [s]:  8.0 , recorded with  25.0 fps!\n",
      "Overall # of frames:  200  found with (before cropping) frame dimensions:  1280 1331\n",
      "Starting to extract posture\n",
      "Cropping based on the x1 = 0 x2 = 1280 y1 = 0 y2 = 1024. You can adjust the cropping coordinates in the config.yaml file.\n"
     ]
    },
    {
     "name": "stderr",
     "output_type": "stream",
     "text": [
      "100%|██████████| 200/200 [00:08<00:00, 23.44it/s]\n"
     ]
    },
    {
     "name": "stdout",
     "output_type": "stream",
     "text": [
      "Saving results in D:\\YuLab\\Work\\GPS\\Video\\Kennard\\GPS_08_Kornblum1500SRTSelf\\20231007\\Top\\Clips...\n",
      "Saving csv poses!\n",
      "Starting to analyze %  D:\\YuLab\\Work\\GPS\\Video\\Kennard\\GPS_08_Kornblum1500SRTSelf\\20231007\\Top\\Clips\\Kennard_20231007_HoldTrial010_TopView.avi\n",
      "Loading  D:\\YuLab\\Work\\GPS\\Video\\Kennard\\GPS_08_Kornblum1500SRTSelf\\20231007\\Top\\Clips\\Kennard_20231007_HoldTrial010_TopView.avi\n",
      "Duration of video [s]:  8.04 , recorded with  25.0 fps!\n",
      "Overall # of frames:  201  found with (before cropping) frame dimensions:  1280 1331\n",
      "Starting to extract posture\n",
      "Cropping based on the x1 = 0 x2 = 1280 y1 = 0 y2 = 1024. You can adjust the cropping coordinates in the config.yaml file.\n"
     ]
    },
    {
     "name": "stderr",
     "output_type": "stream",
     "text": [
      "100%|██████████| 201/201 [00:08<00:00, 22.91it/s]\n"
     ]
    },
    {
     "name": "stdout",
     "output_type": "stream",
     "text": [
      "Saving results in D:\\YuLab\\Work\\GPS\\Video\\Kennard\\GPS_08_Kornblum1500SRTSelf\\20231007\\Top\\Clips...\n",
      "Saving csv poses!\n",
      "Starting to analyze %  D:\\YuLab\\Work\\GPS\\Video\\Kennard\\GPS_08_Kornblum1500SRTSelf\\20231007\\Top\\Clips\\Kennard_20231007_HoldTrial011_TopView.avi\n",
      "Loading  D:\\YuLab\\Work\\GPS\\Video\\Kennard\\GPS_08_Kornblum1500SRTSelf\\20231007\\Top\\Clips\\Kennard_20231007_HoldTrial011_TopView.avi\n",
      "Duration of video [s]:  8.04 , recorded with  25.0 fps!\n",
      "Overall # of frames:  201  found with (before cropping) frame dimensions:  1280 1331\n",
      "Starting to extract posture\n",
      "Cropping based on the x1 = 0 x2 = 1280 y1 = 0 y2 = 1024. You can adjust the cropping coordinates in the config.yaml file.\n"
     ]
    },
    {
     "name": "stderr",
     "output_type": "stream",
     "text": [
      "100%|██████████| 201/201 [00:08<00:00, 22.71it/s]\n"
     ]
    },
    {
     "name": "stdout",
     "output_type": "stream",
     "text": [
      "Saving results in D:\\YuLab\\Work\\GPS\\Video\\Kennard\\GPS_08_Kornblum1500SRTSelf\\20231007\\Top\\Clips...\n",
      "Saving csv poses!\n",
      "Starting to analyze %  D:\\YuLab\\Work\\GPS\\Video\\Kennard\\GPS_08_Kornblum1500SRTSelf\\20231007\\Top\\Clips\\Kennard_20231007_HoldTrial012_TopView.avi\n",
      "Loading  D:\\YuLab\\Work\\GPS\\Video\\Kennard\\GPS_08_Kornblum1500SRTSelf\\20231007\\Top\\Clips\\Kennard_20231007_HoldTrial012_TopView.avi\n",
      "Duration of video [s]:  8.04 , recorded with  25.0 fps!\n",
      "Overall # of frames:  201  found with (before cropping) frame dimensions:  1280 1331\n",
      "Starting to extract posture\n",
      "Cropping based on the x1 = 0 x2 = 1280 y1 = 0 y2 = 1024. You can adjust the cropping coordinates in the config.yaml file.\n"
     ]
    },
    {
     "name": "stderr",
     "output_type": "stream",
     "text": [
      "100%|██████████| 201/201 [00:08<00:00, 22.92it/s]\n"
     ]
    },
    {
     "name": "stdout",
     "output_type": "stream",
     "text": [
      "Saving results in D:\\YuLab\\Work\\GPS\\Video\\Kennard\\GPS_08_Kornblum1500SRTSelf\\20231007\\Top\\Clips...\n",
      "Saving csv poses!\n",
      "Starting to analyze %  D:\\YuLab\\Work\\GPS\\Video\\Kennard\\GPS_08_Kornblum1500SRTSelf\\20231007\\Top\\Clips\\Kennard_20231007_HoldTrial013_TopView.avi\n",
      "Loading  D:\\YuLab\\Work\\GPS\\Video\\Kennard\\GPS_08_Kornblum1500SRTSelf\\20231007\\Top\\Clips\\Kennard_20231007_HoldTrial013_TopView.avi\n",
      "Duration of video [s]:  8.04 , recorded with  25.0 fps!\n",
      "Overall # of frames:  201  found with (before cropping) frame dimensions:  1280 1331\n",
      "Starting to extract posture\n",
      "Cropping based on the x1 = 0 x2 = 1280 y1 = 0 y2 = 1024. You can adjust the cropping coordinates in the config.yaml file.\n"
     ]
    },
    {
     "name": "stderr",
     "output_type": "stream",
     "text": [
      "100%|██████████| 201/201 [00:08<00:00, 22.81it/s]\n"
     ]
    },
    {
     "name": "stdout",
     "output_type": "stream",
     "text": [
      "Saving results in D:\\YuLab\\Work\\GPS\\Video\\Kennard\\GPS_08_Kornblum1500SRTSelf\\20231007\\Top\\Clips...\n",
      "Saving csv poses!\n",
      "Starting to analyze %  D:\\YuLab\\Work\\GPS\\Video\\Kennard\\GPS_08_Kornblum1500SRTSelf\\20231007\\Top\\Clips\\Kennard_20231007_HoldTrial014_TopView.avi\n",
      "Loading  D:\\YuLab\\Work\\GPS\\Video\\Kennard\\GPS_08_Kornblum1500SRTSelf\\20231007\\Top\\Clips\\Kennard_20231007_HoldTrial014_TopView.avi\n",
      "Duration of video [s]:  8.0 , recorded with  25.0 fps!\n",
      "Overall # of frames:  200  found with (before cropping) frame dimensions:  1280 1331\n",
      "Starting to extract posture\n",
      "Cropping based on the x1 = 0 x2 = 1280 y1 = 0 y2 = 1024. You can adjust the cropping coordinates in the config.yaml file.\n"
     ]
    },
    {
     "name": "stderr",
     "output_type": "stream",
     "text": [
      "100%|██████████| 200/200 [00:08<00:00, 23.49it/s]\n"
     ]
    },
    {
     "name": "stdout",
     "output_type": "stream",
     "text": [
      "Saving results in D:\\YuLab\\Work\\GPS\\Video\\Kennard\\GPS_08_Kornblum1500SRTSelf\\20231007\\Top\\Clips...\n",
      "Saving csv poses!\n",
      "Starting to analyze %  D:\\YuLab\\Work\\GPS\\Video\\Kennard\\GPS_08_Kornblum1500SRTSelf\\20231007\\Top\\Clips\\Kennard_20231007_HoldTrial015_TopView.avi\n",
      "Loading  D:\\YuLab\\Work\\GPS\\Video\\Kennard\\GPS_08_Kornblum1500SRTSelf\\20231007\\Top\\Clips\\Kennard_20231007_HoldTrial015_TopView.avi\n",
      "Duration of video [s]:  8.04 , recorded with  25.0 fps!\n",
      "Overall # of frames:  201  found with (before cropping) frame dimensions:  1280 1331\n",
      "Starting to extract posture\n",
      "Cropping based on the x1 = 0 x2 = 1280 y1 = 0 y2 = 1024. You can adjust the cropping coordinates in the config.yaml file.\n"
     ]
    },
    {
     "name": "stderr",
     "output_type": "stream",
     "text": [
      "100%|██████████| 201/201 [00:08<00:00, 22.90it/s]\n"
     ]
    },
    {
     "name": "stdout",
     "output_type": "stream",
     "text": [
      "Saving results in D:\\YuLab\\Work\\GPS\\Video\\Kennard\\GPS_08_Kornblum1500SRTSelf\\20231007\\Top\\Clips...\n",
      "Saving csv poses!\n",
      "Starting to analyze %  D:\\YuLab\\Work\\GPS\\Video\\Kennard\\GPS_08_Kornblum1500SRTSelf\\20231007\\Top\\Clips\\Kennard_20231007_HoldTrial016_TopView.avi\n",
      "Loading  D:\\YuLab\\Work\\GPS\\Video\\Kennard\\GPS_08_Kornblum1500SRTSelf\\20231007\\Top\\Clips\\Kennard_20231007_HoldTrial016_TopView.avi\n",
      "Duration of video [s]:  8.0 , recorded with  25.0 fps!\n",
      "Overall # of frames:  200  found with (before cropping) frame dimensions:  1280 1331\n",
      "Starting to extract posture\n",
      "Cropping based on the x1 = 0 x2 = 1280 y1 = 0 y2 = 1024. You can adjust the cropping coordinates in the config.yaml file.\n"
     ]
    },
    {
     "name": "stderr",
     "output_type": "stream",
     "text": [
      "100%|██████████| 200/200 [00:08<00:00, 23.53it/s]\n"
     ]
    },
    {
     "name": "stdout",
     "output_type": "stream",
     "text": [
      "Saving results in D:\\YuLab\\Work\\GPS\\Video\\Kennard\\GPS_08_Kornblum1500SRTSelf\\20231007\\Top\\Clips...\n",
      "Saving csv poses!\n",
      "Starting to analyze %  D:\\YuLab\\Work\\GPS\\Video\\Kennard\\GPS_08_Kornblum1500SRTSelf\\20231007\\Top\\Clips\\Kennard_20231007_HoldTrial017_TopView.avi\n",
      "Loading  D:\\YuLab\\Work\\GPS\\Video\\Kennard\\GPS_08_Kornblum1500SRTSelf\\20231007\\Top\\Clips\\Kennard_20231007_HoldTrial017_TopView.avi\n",
      "Duration of video [s]:  8.0 , recorded with  25.0 fps!\n",
      "Overall # of frames:  200  found with (before cropping) frame dimensions:  1280 1331\n",
      "Starting to extract posture\n",
      "Cropping based on the x1 = 0 x2 = 1280 y1 = 0 y2 = 1024. You can adjust the cropping coordinates in the config.yaml file.\n"
     ]
    },
    {
     "name": "stderr",
     "output_type": "stream",
     "text": [
      "100%|██████████| 200/200 [00:08<00:00, 23.45it/s]\n"
     ]
    },
    {
     "name": "stdout",
     "output_type": "stream",
     "text": [
      "Saving results in D:\\YuLab\\Work\\GPS\\Video\\Kennard\\GPS_08_Kornblum1500SRTSelf\\20231007\\Top\\Clips...\n",
      "Saving csv poses!\n",
      "Starting to analyze %  D:\\YuLab\\Work\\GPS\\Video\\Kennard\\GPS_08_Kornblum1500SRTSelf\\20231007\\Top\\Clips\\Kennard_20231007_HoldTrial018_TopView.avi\n",
      "Loading  D:\\YuLab\\Work\\GPS\\Video\\Kennard\\GPS_08_Kornblum1500SRTSelf\\20231007\\Top\\Clips\\Kennard_20231007_HoldTrial018_TopView.avi\n",
      "Duration of video [s]:  8.04 , recorded with  25.0 fps!\n",
      "Overall # of frames:  201  found with (before cropping) frame dimensions:  1280 1331\n",
      "Starting to extract posture\n",
      "Cropping based on the x1 = 0 x2 = 1280 y1 = 0 y2 = 1024. You can adjust the cropping coordinates in the config.yaml file.\n"
     ]
    },
    {
     "name": "stderr",
     "output_type": "stream",
     "text": [
      "100%|██████████| 201/201 [00:08<00:00, 22.80it/s]\n"
     ]
    },
    {
     "name": "stdout",
     "output_type": "stream",
     "text": [
      "Saving results in D:\\YuLab\\Work\\GPS\\Video\\Kennard\\GPS_08_Kornblum1500SRTSelf\\20231007\\Top\\Clips...\n",
      "Saving csv poses!\n",
      "Starting to analyze %  D:\\YuLab\\Work\\GPS\\Video\\Kennard\\GPS_08_Kornblum1500SRTSelf\\20231007\\Top\\Clips\\Kennard_20231007_HoldTrial019_TopView.avi\n",
      "Loading  D:\\YuLab\\Work\\GPS\\Video\\Kennard\\GPS_08_Kornblum1500SRTSelf\\20231007\\Top\\Clips\\Kennard_20231007_HoldTrial019_TopView.avi\n",
      "Duration of video [s]:  8.0 , recorded with  25.0 fps!\n",
      "Overall # of frames:  200  found with (before cropping) frame dimensions:  1280 1331\n",
      "Starting to extract posture\n",
      "Cropping based on the x1 = 0 x2 = 1280 y1 = 0 y2 = 1024. You can adjust the cropping coordinates in the config.yaml file.\n"
     ]
    },
    {
     "name": "stderr",
     "output_type": "stream",
     "text": [
      "100%|██████████| 200/200 [00:08<00:00, 23.69it/s]\n"
     ]
    },
    {
     "name": "stdout",
     "output_type": "stream",
     "text": [
      "Saving results in D:\\YuLab\\Work\\GPS\\Video\\Kennard\\GPS_08_Kornblum1500SRTSelf\\20231007\\Top\\Clips...\n",
      "Saving csv poses!\n",
      "Starting to analyze %  D:\\YuLab\\Work\\GPS\\Video\\Kennard\\GPS_08_Kornblum1500SRTSelf\\20231007\\Top\\Clips\\Kennard_20231007_HoldTrial020_TopView.avi\n",
      "Loading  D:\\YuLab\\Work\\GPS\\Video\\Kennard\\GPS_08_Kornblum1500SRTSelf\\20231007\\Top\\Clips\\Kennard_20231007_HoldTrial020_TopView.avi\n",
      "Duration of video [s]:  8.0 , recorded with  25.0 fps!\n",
      "Overall # of frames:  200  found with (before cropping) frame dimensions:  1280 1331\n",
      "Starting to extract posture\n",
      "Cropping based on the x1 = 0 x2 = 1280 y1 = 0 y2 = 1024. You can adjust the cropping coordinates in the config.yaml file.\n"
     ]
    },
    {
     "name": "stderr",
     "output_type": "stream",
     "text": [
      "100%|██████████| 200/200 [00:08<00:00, 23.66it/s]\n"
     ]
    },
    {
     "name": "stdout",
     "output_type": "stream",
     "text": [
      "Saving results in D:\\YuLab\\Work\\GPS\\Video\\Kennard\\GPS_08_Kornblum1500SRTSelf\\20231007\\Top\\Clips...\n",
      "Saving csv poses!\n",
      "Starting to analyze %  D:\\YuLab\\Work\\GPS\\Video\\Kennard\\GPS_08_Kornblum1500SRTSelf\\20231007\\Top\\Clips\\Kennard_20231007_HoldTrial021_TopView.avi\n",
      "Loading  D:\\YuLab\\Work\\GPS\\Video\\Kennard\\GPS_08_Kornblum1500SRTSelf\\20231007\\Top\\Clips\\Kennard_20231007_HoldTrial021_TopView.avi\n",
      "Duration of video [s]:  8.04 , recorded with  25.0 fps!\n",
      "Overall # of frames:  201  found with (before cropping) frame dimensions:  1280 1331\n",
      "Starting to extract posture\n",
      "Cropping based on the x1 = 0 x2 = 1280 y1 = 0 y2 = 1024. You can adjust the cropping coordinates in the config.yaml file.\n"
     ]
    },
    {
     "name": "stderr",
     "output_type": "stream",
     "text": [
      "100%|██████████| 201/201 [00:08<00:00, 23.05it/s]\n"
     ]
    },
    {
     "name": "stdout",
     "output_type": "stream",
     "text": [
      "Saving results in D:\\YuLab\\Work\\GPS\\Video\\Kennard\\GPS_08_Kornblum1500SRTSelf\\20231007\\Top\\Clips...\n",
      "Saving csv poses!\n",
      "Starting to analyze %  D:\\YuLab\\Work\\GPS\\Video\\Kennard\\GPS_08_Kornblum1500SRTSelf\\20231007\\Top\\Clips\\Kennard_20231007_HoldTrial022_TopView.avi\n",
      "Loading  D:\\YuLab\\Work\\GPS\\Video\\Kennard\\GPS_08_Kornblum1500SRTSelf\\20231007\\Top\\Clips\\Kennard_20231007_HoldTrial022_TopView.avi\n",
      "Duration of video [s]:  8.0 , recorded with  25.0 fps!\n",
      "Overall # of frames:  200  found with (before cropping) frame dimensions:  1280 1331\n",
      "Starting to extract posture\n",
      "Cropping based on the x1 = 0 x2 = 1280 y1 = 0 y2 = 1024. You can adjust the cropping coordinates in the config.yaml file.\n"
     ]
    },
    {
     "name": "stderr",
     "output_type": "stream",
     "text": [
      "100%|██████████| 200/200 [00:08<00:00, 23.66it/s]\n"
     ]
    },
    {
     "name": "stdout",
     "output_type": "stream",
     "text": [
      "Saving results in D:\\YuLab\\Work\\GPS\\Video\\Kennard\\GPS_08_Kornblum1500SRTSelf\\20231007\\Top\\Clips...\n",
      "Saving csv poses!\n",
      "Starting to analyze %  D:\\YuLab\\Work\\GPS\\Video\\Kennard\\GPS_08_Kornblum1500SRTSelf\\20231007\\Top\\Clips\\Kennard_20231007_HoldTrial023_TopView.avi\n",
      "Loading  D:\\YuLab\\Work\\GPS\\Video\\Kennard\\GPS_08_Kornblum1500SRTSelf\\20231007\\Top\\Clips\\Kennard_20231007_HoldTrial023_TopView.avi\n",
      "Duration of video [s]:  8.04 , recorded with  25.0 fps!\n",
      "Overall # of frames:  201  found with (before cropping) frame dimensions:  1280 1331\n",
      "Starting to extract posture\n",
      "Cropping based on the x1 = 0 x2 = 1280 y1 = 0 y2 = 1024. You can adjust the cropping coordinates in the config.yaml file.\n"
     ]
    },
    {
     "name": "stderr",
     "output_type": "stream",
     "text": [
      "100%|██████████| 201/201 [00:08<00:00, 23.03it/s]\n"
     ]
    },
    {
     "name": "stdout",
     "output_type": "stream",
     "text": [
      "Saving results in D:\\YuLab\\Work\\GPS\\Video\\Kennard\\GPS_08_Kornblum1500SRTSelf\\20231007\\Top\\Clips...\n",
      "Saving csv poses!\n",
      "Starting to analyze %  D:\\YuLab\\Work\\GPS\\Video\\Kennard\\GPS_08_Kornblum1500SRTSelf\\20231007\\Top\\Clips\\Kennard_20231007_HoldTrial024_TopView.avi\n",
      "Loading  D:\\YuLab\\Work\\GPS\\Video\\Kennard\\GPS_08_Kornblum1500SRTSelf\\20231007\\Top\\Clips\\Kennard_20231007_HoldTrial024_TopView.avi\n",
      "Duration of video [s]:  8.0 , recorded with  25.0 fps!\n",
      "Overall # of frames:  200  found with (before cropping) frame dimensions:  1280 1331\n",
      "Starting to extract posture\n",
      "Cropping based on the x1 = 0 x2 = 1280 y1 = 0 y2 = 1024. You can adjust the cropping coordinates in the config.yaml file.\n"
     ]
    },
    {
     "name": "stderr",
     "output_type": "stream",
     "text": [
      "100%|██████████| 200/200 [00:08<00:00, 23.69it/s]\n"
     ]
    },
    {
     "name": "stdout",
     "output_type": "stream",
     "text": [
      "Saving results in D:\\YuLab\\Work\\GPS\\Video\\Kennard\\GPS_08_Kornblum1500SRTSelf\\20231007\\Top\\Clips...\n",
      "Saving csv poses!\n",
      "Starting to analyze %  D:\\YuLab\\Work\\GPS\\Video\\Kennard\\GPS_08_Kornblum1500SRTSelf\\20231007\\Top\\Clips\\Kennard_20231007_HoldTrial025_TopView.avi\n",
      "Loading  D:\\YuLab\\Work\\GPS\\Video\\Kennard\\GPS_08_Kornblum1500SRTSelf\\20231007\\Top\\Clips\\Kennard_20231007_HoldTrial025_TopView.avi\n",
      "Duration of video [s]:  8.04 , recorded with  25.0 fps!\n",
      "Overall # of frames:  201  found with (before cropping) frame dimensions:  1280 1331\n",
      "Starting to extract posture\n",
      "Cropping based on the x1 = 0 x2 = 1280 y1 = 0 y2 = 1024. You can adjust the cropping coordinates in the config.yaml file.\n"
     ]
    },
    {
     "name": "stderr",
     "output_type": "stream",
     "text": [
      "100%|██████████| 201/201 [00:08<00:00, 23.07it/s]\n"
     ]
    },
    {
     "name": "stdout",
     "output_type": "stream",
     "text": [
      "Saving results in D:\\YuLab\\Work\\GPS\\Video\\Kennard\\GPS_08_Kornblum1500SRTSelf\\20231007\\Top\\Clips...\n",
      "Saving csv poses!\n",
      "Starting to analyze %  D:\\YuLab\\Work\\GPS\\Video\\Kennard\\GPS_08_Kornblum1500SRTSelf\\20231007\\Top\\Clips\\Kennard_20231007_HoldTrial026_TopView.avi\n",
      "Loading  D:\\YuLab\\Work\\GPS\\Video\\Kennard\\GPS_08_Kornblum1500SRTSelf\\20231007\\Top\\Clips\\Kennard_20231007_HoldTrial026_TopView.avi\n",
      "Duration of video [s]:  8.04 , recorded with  25.0 fps!\n",
      "Overall # of frames:  201  found with (before cropping) frame dimensions:  1280 1331\n",
      "Starting to extract posture\n",
      "Cropping based on the x1 = 0 x2 = 1280 y1 = 0 y2 = 1024. You can adjust the cropping coordinates in the config.yaml file.\n"
     ]
    },
    {
     "name": "stderr",
     "output_type": "stream",
     "text": [
      "100%|██████████| 201/201 [00:08<00:00, 23.07it/s]\n"
     ]
    },
    {
     "name": "stdout",
     "output_type": "stream",
     "text": [
      "Saving results in D:\\YuLab\\Work\\GPS\\Video\\Kennard\\GPS_08_Kornblum1500SRTSelf\\20231007\\Top\\Clips...\n",
      "Saving csv poses!\n",
      "Starting to analyze %  D:\\YuLab\\Work\\GPS\\Video\\Kennard\\GPS_08_Kornblum1500SRTSelf\\20231007\\Top\\Clips\\Kennard_20231007_HoldTrial027_TopView.avi\n",
      "Loading  D:\\YuLab\\Work\\GPS\\Video\\Kennard\\GPS_08_Kornblum1500SRTSelf\\20231007\\Top\\Clips\\Kennard_20231007_HoldTrial027_TopView.avi\n",
      "Duration of video [s]:  8.0 , recorded with  25.0 fps!\n",
      "Overall # of frames:  200  found with (before cropping) frame dimensions:  1280 1331\n",
      "Starting to extract posture\n",
      "Cropping based on the x1 = 0 x2 = 1280 y1 = 0 y2 = 1024. You can adjust the cropping coordinates in the config.yaml file.\n"
     ]
    },
    {
     "name": "stderr",
     "output_type": "stream",
     "text": [
      "100%|██████████| 200/200 [00:08<00:00, 23.66it/s]\n"
     ]
    },
    {
     "name": "stdout",
     "output_type": "stream",
     "text": [
      "Saving results in D:\\YuLab\\Work\\GPS\\Video\\Kennard\\GPS_08_Kornblum1500SRTSelf\\20231007\\Top\\Clips...\n",
      "Saving csv poses!\n",
      "Starting to analyze %  D:\\YuLab\\Work\\GPS\\Video\\Kennard\\GPS_08_Kornblum1500SRTSelf\\20231007\\Top\\Clips\\Kennard_20231007_HoldTrial028_TopView.avi\n",
      "Loading  D:\\YuLab\\Work\\GPS\\Video\\Kennard\\GPS_08_Kornblum1500SRTSelf\\20231007\\Top\\Clips\\Kennard_20231007_HoldTrial028_TopView.avi\n",
      "Duration of video [s]:  8.04 , recorded with  25.0 fps!\n",
      "Overall # of frames:  201  found with (before cropping) frame dimensions:  1280 1331\n",
      "Starting to extract posture\n",
      "Cropping based on the x1 = 0 x2 = 1280 y1 = 0 y2 = 1024. You can adjust the cropping coordinates in the config.yaml file.\n"
     ]
    },
    {
     "name": "stderr",
     "output_type": "stream",
     "text": [
      "100%|██████████| 201/201 [00:08<00:00, 22.96it/s]\n"
     ]
    },
    {
     "name": "stdout",
     "output_type": "stream",
     "text": [
      "Saving results in D:\\YuLab\\Work\\GPS\\Video\\Kennard\\GPS_08_Kornblum1500SRTSelf\\20231007\\Top\\Clips...\n",
      "Saving csv poses!\n",
      "Starting to analyze %  D:\\YuLab\\Work\\GPS\\Video\\Kennard\\GPS_08_Kornblum1500SRTSelf\\20231007\\Top\\Clips\\Kennard_20231007_HoldTrial029_TopView.avi\n",
      "Loading  D:\\YuLab\\Work\\GPS\\Video\\Kennard\\GPS_08_Kornblum1500SRTSelf\\20231007\\Top\\Clips\\Kennard_20231007_HoldTrial029_TopView.avi\n",
      "Duration of video [s]:  8.04 , recorded with  25.0 fps!\n",
      "Overall # of frames:  201  found with (before cropping) frame dimensions:  1280 1331\n",
      "Starting to extract posture\n",
      "Cropping based on the x1 = 0 x2 = 1280 y1 = 0 y2 = 1024. You can adjust the cropping coordinates in the config.yaml file.\n"
     ]
    },
    {
     "name": "stderr",
     "output_type": "stream",
     "text": [
      "100%|██████████| 201/201 [00:08<00:00, 23.02it/s]\n"
     ]
    },
    {
     "name": "stdout",
     "output_type": "stream",
     "text": [
      "Saving results in D:\\YuLab\\Work\\GPS\\Video\\Kennard\\GPS_08_Kornblum1500SRTSelf\\20231007\\Top\\Clips...\n",
      "Saving csv poses!\n",
      "Starting to analyze %  D:\\YuLab\\Work\\GPS\\Video\\Kennard\\GPS_08_Kornblum1500SRTSelf\\20231007\\Top\\Clips\\Kennard_20231007_HoldTrial030_TopView.avi\n",
      "Loading  D:\\YuLab\\Work\\GPS\\Video\\Kennard\\GPS_08_Kornblum1500SRTSelf\\20231007\\Top\\Clips\\Kennard_20231007_HoldTrial030_TopView.avi\n",
      "Duration of video [s]:  7.96 , recorded with  25.0 fps!\n",
      "Overall # of frames:  199  found with (before cropping) frame dimensions:  1280 1331\n",
      "Starting to extract posture\n",
      "Cropping based on the x1 = 0 x2 = 1280 y1 = 0 y2 = 1024. You can adjust the cropping coordinates in the config.yaml file.\n"
     ]
    },
    {
     "name": "stderr",
     "output_type": "stream",
     "text": [
      "100%|██████████| 199/199 [00:08<00:00, 23.57it/s]\n"
     ]
    },
    {
     "name": "stdout",
     "output_type": "stream",
     "text": [
      "Saving results in D:\\YuLab\\Work\\GPS\\Video\\Kennard\\GPS_08_Kornblum1500SRTSelf\\20231007\\Top\\Clips...\n",
      "Saving csv poses!\n",
      "Starting to analyze %  D:\\YuLab\\Work\\GPS\\Video\\Kennard\\GPS_08_Kornblum1500SRTSelf\\20231007\\Top\\Clips\\Kennard_20231007_HoldTrial031_TopView.avi\n",
      "Loading  D:\\YuLab\\Work\\GPS\\Video\\Kennard\\GPS_08_Kornblum1500SRTSelf\\20231007\\Top\\Clips\\Kennard_20231007_HoldTrial031_TopView.avi\n",
      "Duration of video [s]:  8.04 , recorded with  25.0 fps!\n",
      "Overall # of frames:  201  found with (before cropping) frame dimensions:  1280 1331\n",
      "Starting to extract posture\n",
      "Cropping based on the x1 = 0 x2 = 1280 y1 = 0 y2 = 1024. You can adjust the cropping coordinates in the config.yaml file.\n"
     ]
    },
    {
     "name": "stderr",
     "output_type": "stream",
     "text": [
      "100%|██████████| 201/201 [00:08<00:00, 22.99it/s]\n"
     ]
    },
    {
     "name": "stdout",
     "output_type": "stream",
     "text": [
      "Saving results in D:\\YuLab\\Work\\GPS\\Video\\Kennard\\GPS_08_Kornblum1500SRTSelf\\20231007\\Top\\Clips...\n",
      "Saving csv poses!\n",
      "Starting to analyze %  D:\\YuLab\\Work\\GPS\\Video\\Kennard\\GPS_08_Kornblum1500SRTSelf\\20231007\\Top\\Clips\\Kennard_20231007_HoldTrial032_TopView.avi\n",
      "Loading  D:\\YuLab\\Work\\GPS\\Video\\Kennard\\GPS_08_Kornblum1500SRTSelf\\20231007\\Top\\Clips\\Kennard_20231007_HoldTrial032_TopView.avi\n",
      "Duration of video [s]:  8.0 , recorded with  25.0 fps!\n",
      "Overall # of frames:  200  found with (before cropping) frame dimensions:  1280 1331\n",
      "Starting to extract posture\n",
      "Cropping based on the x1 = 0 x2 = 1280 y1 = 0 y2 = 1024. You can adjust the cropping coordinates in the config.yaml file.\n"
     ]
    },
    {
     "name": "stderr",
     "output_type": "stream",
     "text": [
      "100%|██████████| 200/200 [00:08<00:00, 23.62it/s]\n"
     ]
    },
    {
     "name": "stdout",
     "output_type": "stream",
     "text": [
      "Saving results in D:\\YuLab\\Work\\GPS\\Video\\Kennard\\GPS_08_Kornblum1500SRTSelf\\20231007\\Top\\Clips...\n",
      "Saving csv poses!\n",
      "Starting to analyze %  D:\\YuLab\\Work\\GPS\\Video\\Kennard\\GPS_08_Kornblum1500SRTSelf\\20231007\\Top\\Clips\\Kennard_20231007_HoldTrial033_TopView.avi\n",
      "Loading  D:\\YuLab\\Work\\GPS\\Video\\Kennard\\GPS_08_Kornblum1500SRTSelf\\20231007\\Top\\Clips\\Kennard_20231007_HoldTrial033_TopView.avi\n",
      "Duration of video [s]:  8.04 , recorded with  25.0 fps!\n",
      "Overall # of frames:  201  found with (before cropping) frame dimensions:  1280 1331\n",
      "Starting to extract posture\n",
      "Cropping based on the x1 = 0 x2 = 1280 y1 = 0 y2 = 1024. You can adjust the cropping coordinates in the config.yaml file.\n"
     ]
    },
    {
     "name": "stderr",
     "output_type": "stream",
     "text": [
      "100%|██████████| 201/201 [00:08<00:00, 23.07it/s]\n"
     ]
    },
    {
     "name": "stdout",
     "output_type": "stream",
     "text": [
      "Saving results in D:\\YuLab\\Work\\GPS\\Video\\Kennard\\GPS_08_Kornblum1500SRTSelf\\20231007\\Top\\Clips...\n",
      "Saving csv poses!\n",
      "Starting to analyze %  D:\\YuLab\\Work\\GPS\\Video\\Kennard\\GPS_08_Kornblum1500SRTSelf\\20231007\\Top\\Clips\\Kennard_20231007_HoldTrial034_TopView.avi\n",
      "Loading  D:\\YuLab\\Work\\GPS\\Video\\Kennard\\GPS_08_Kornblum1500SRTSelf\\20231007\\Top\\Clips\\Kennard_20231007_HoldTrial034_TopView.avi\n",
      "Duration of video [s]:  8.04 , recorded with  25.0 fps!\n",
      "Overall # of frames:  201  found with (before cropping) frame dimensions:  1280 1331\n",
      "Starting to extract posture\n",
      "Cropping based on the x1 = 0 x2 = 1280 y1 = 0 y2 = 1024. You can adjust the cropping coordinates in the config.yaml file.\n"
     ]
    },
    {
     "name": "stderr",
     "output_type": "stream",
     "text": [
      "100%|██████████| 201/201 [00:08<00:00, 23.10it/s]\n"
     ]
    },
    {
     "name": "stdout",
     "output_type": "stream",
     "text": [
      "Saving results in D:\\YuLab\\Work\\GPS\\Video\\Kennard\\GPS_08_Kornblum1500SRTSelf\\20231007\\Top\\Clips...\n",
      "Saving csv poses!\n",
      "Starting to analyze %  D:\\YuLab\\Work\\GPS\\Video\\Kennard\\GPS_08_Kornblum1500SRTSelf\\20231007\\Top\\Clips\\Kennard_20231007_HoldTrial035_TopView.avi\n",
      "Loading  D:\\YuLab\\Work\\GPS\\Video\\Kennard\\GPS_08_Kornblum1500SRTSelf\\20231007\\Top\\Clips\\Kennard_20231007_HoldTrial035_TopView.avi\n",
      "Duration of video [s]:  8.0 , recorded with  25.0 fps!\n",
      "Overall # of frames:  200  found with (before cropping) frame dimensions:  1280 1331\n",
      "Starting to extract posture\n",
      "Cropping based on the x1 = 0 x2 = 1280 y1 = 0 y2 = 1024. You can adjust the cropping coordinates in the config.yaml file.\n"
     ]
    },
    {
     "name": "stderr",
     "output_type": "stream",
     "text": [
      "100%|██████████| 200/200 [00:08<00:00, 23.73it/s]\n"
     ]
    },
    {
     "name": "stdout",
     "output_type": "stream",
     "text": [
      "Saving results in D:\\YuLab\\Work\\GPS\\Video\\Kennard\\GPS_08_Kornblum1500SRTSelf\\20231007\\Top\\Clips...\n",
      "Saving csv poses!\n",
      "Starting to analyze %  D:\\YuLab\\Work\\GPS\\Video\\Kennard\\GPS_08_Kornblum1500SRTSelf\\20231007\\Top\\Clips\\Kennard_20231007_HoldTrial036_TopView.avi\n",
      "Loading  D:\\YuLab\\Work\\GPS\\Video\\Kennard\\GPS_08_Kornblum1500SRTSelf\\20231007\\Top\\Clips\\Kennard_20231007_HoldTrial036_TopView.avi\n",
      "Duration of video [s]:  8.04 , recorded with  25.0 fps!\n",
      "Overall # of frames:  201  found with (before cropping) frame dimensions:  1280 1331\n",
      "Starting to extract posture\n",
      "Cropping based on the x1 = 0 x2 = 1280 y1 = 0 y2 = 1024. You can adjust the cropping coordinates in the config.yaml file.\n"
     ]
    },
    {
     "name": "stderr",
     "output_type": "stream",
     "text": [
      "100%|██████████| 201/201 [00:08<00:00, 23.06it/s]\n"
     ]
    },
    {
     "name": "stdout",
     "output_type": "stream",
     "text": [
      "Saving results in D:\\YuLab\\Work\\GPS\\Video\\Kennard\\GPS_08_Kornblum1500SRTSelf\\20231007\\Top\\Clips...\n",
      "Saving csv poses!\n",
      "Starting to analyze %  D:\\YuLab\\Work\\GPS\\Video\\Kennard\\GPS_08_Kornblum1500SRTSelf\\20231007\\Top\\Clips\\Kennard_20231007_HoldTrial037_TopView.avi\n",
      "Loading  D:\\YuLab\\Work\\GPS\\Video\\Kennard\\GPS_08_Kornblum1500SRTSelf\\20231007\\Top\\Clips\\Kennard_20231007_HoldTrial037_TopView.avi\n",
      "Duration of video [s]:  8.04 , recorded with  25.0 fps!\n",
      "Overall # of frames:  201  found with (before cropping) frame dimensions:  1280 1331\n",
      "Starting to extract posture\n",
      "Cropping based on the x1 = 0 x2 = 1280 y1 = 0 y2 = 1024. You can adjust the cropping coordinates in the config.yaml file.\n"
     ]
    },
    {
     "name": "stderr",
     "output_type": "stream",
     "text": [
      "100%|██████████| 201/201 [00:08<00:00, 23.09it/s]\n"
     ]
    },
    {
     "name": "stdout",
     "output_type": "stream",
     "text": [
      "Saving results in D:\\YuLab\\Work\\GPS\\Video\\Kennard\\GPS_08_Kornblum1500SRTSelf\\20231007\\Top\\Clips...\n",
      "Saving csv poses!\n",
      "Starting to analyze %  D:\\YuLab\\Work\\GPS\\Video\\Kennard\\GPS_08_Kornblum1500SRTSelf\\20231007\\Top\\Clips\\Kennard_20231007_HoldTrial038_TopView.avi\n",
      "Loading  D:\\YuLab\\Work\\GPS\\Video\\Kennard\\GPS_08_Kornblum1500SRTSelf\\20231007\\Top\\Clips\\Kennard_20231007_HoldTrial038_TopView.avi\n",
      "Duration of video [s]:  8.04 , recorded with  25.0 fps!\n",
      "Overall # of frames:  201  found with (before cropping) frame dimensions:  1280 1331\n",
      "Starting to extract posture\n",
      "Cropping based on the x1 = 0 x2 = 1280 y1 = 0 y2 = 1024. You can adjust the cropping coordinates in the config.yaml file.\n"
     ]
    },
    {
     "name": "stderr",
     "output_type": "stream",
     "text": [
      "100%|██████████| 201/201 [00:08<00:00, 22.99it/s]\n"
     ]
    },
    {
     "name": "stdout",
     "output_type": "stream",
     "text": [
      "Saving results in D:\\YuLab\\Work\\GPS\\Video\\Kennard\\GPS_08_Kornblum1500SRTSelf\\20231007\\Top\\Clips...\n",
      "Saving csv poses!\n",
      "Starting to analyze %  D:\\YuLab\\Work\\GPS\\Video\\Kennard\\GPS_08_Kornblum1500SRTSelf\\20231007\\Top\\Clips\\Kennard_20231007_HoldTrial039_TopView.avi\n",
      "Loading  D:\\YuLab\\Work\\GPS\\Video\\Kennard\\GPS_08_Kornblum1500SRTSelf\\20231007\\Top\\Clips\\Kennard_20231007_HoldTrial039_TopView.avi\n",
      "Duration of video [s]:  8.0 , recorded with  25.0 fps!\n",
      "Overall # of frames:  200  found with (before cropping) frame dimensions:  1280 1331\n",
      "Starting to extract posture\n",
      "Cropping based on the x1 = 0 x2 = 1280 y1 = 0 y2 = 1024. You can adjust the cropping coordinates in the config.yaml file.\n"
     ]
    },
    {
     "name": "stderr",
     "output_type": "stream",
     "text": [
      "100%|██████████| 200/200 [00:08<00:00, 23.64it/s]\n"
     ]
    },
    {
     "name": "stdout",
     "output_type": "stream",
     "text": [
      "Saving results in D:\\YuLab\\Work\\GPS\\Video\\Kennard\\GPS_08_Kornblum1500SRTSelf\\20231007\\Top\\Clips...\n",
      "Saving csv poses!\n",
      "Starting to analyze %  D:\\YuLab\\Work\\GPS\\Video\\Kennard\\GPS_08_Kornblum1500SRTSelf\\20231007\\Top\\Clips\\Kennard_20231007_HoldTrial040_TopView.avi\n",
      "Loading  D:\\YuLab\\Work\\GPS\\Video\\Kennard\\GPS_08_Kornblum1500SRTSelf\\20231007\\Top\\Clips\\Kennard_20231007_HoldTrial040_TopView.avi\n",
      "Duration of video [s]:  8.0 , recorded with  25.0 fps!\n",
      "Overall # of frames:  200  found with (before cropping) frame dimensions:  1280 1331\n",
      "Starting to extract posture\n",
      "Cropping based on the x1 = 0 x2 = 1280 y1 = 0 y2 = 1024. You can adjust the cropping coordinates in the config.yaml file.\n"
     ]
    },
    {
     "name": "stderr",
     "output_type": "stream",
     "text": [
      "100%|██████████| 200/200 [00:08<00:00, 23.71it/s]\n"
     ]
    },
    {
     "name": "stdout",
     "output_type": "stream",
     "text": [
      "Saving results in D:\\YuLab\\Work\\GPS\\Video\\Kennard\\GPS_08_Kornblum1500SRTSelf\\20231007\\Top\\Clips...\n",
      "Saving csv poses!\n",
      "Starting to analyze %  D:\\YuLab\\Work\\GPS\\Video\\Kennard\\GPS_08_Kornblum1500SRTSelf\\20231007\\Top\\Clips\\Kennard_20231007_HoldTrial041_TopView.avi\n",
      "Loading  D:\\YuLab\\Work\\GPS\\Video\\Kennard\\GPS_08_Kornblum1500SRTSelf\\20231007\\Top\\Clips\\Kennard_20231007_HoldTrial041_TopView.avi\n",
      "Duration of video [s]:  8.0 , recorded with  25.0 fps!\n",
      "Overall # of frames:  200  found with (before cropping) frame dimensions:  1280 1331\n",
      "Starting to extract posture\n",
      "Cropping based on the x1 = 0 x2 = 1280 y1 = 0 y2 = 1024. You can adjust the cropping coordinates in the config.yaml file.\n"
     ]
    },
    {
     "name": "stderr",
     "output_type": "stream",
     "text": [
      "100%|██████████| 200/200 [00:08<00:00, 23.70it/s]\n"
     ]
    },
    {
     "name": "stdout",
     "output_type": "stream",
     "text": [
      "Saving results in D:\\YuLab\\Work\\GPS\\Video\\Kennard\\GPS_08_Kornblum1500SRTSelf\\20231007\\Top\\Clips...\n",
      "Saving csv poses!\n",
      "Starting to analyze %  D:\\YuLab\\Work\\GPS\\Video\\Kennard\\GPS_08_Kornblum1500SRTSelf\\20231007\\Top\\Clips\\Kennard_20231007_HoldTrial042_TopView.avi\n",
      "Loading  D:\\YuLab\\Work\\GPS\\Video\\Kennard\\GPS_08_Kornblum1500SRTSelf\\20231007\\Top\\Clips\\Kennard_20231007_HoldTrial042_TopView.avi\n",
      "Duration of video [s]:  8.04 , recorded with  25.0 fps!\n",
      "Overall # of frames:  201  found with (before cropping) frame dimensions:  1280 1331\n",
      "Starting to extract posture\n",
      "Cropping based on the x1 = 0 x2 = 1280 y1 = 0 y2 = 1024. You can adjust the cropping coordinates in the config.yaml file.\n"
     ]
    },
    {
     "name": "stderr",
     "output_type": "stream",
     "text": [
      "100%|██████████| 201/201 [00:08<00:00, 23.05it/s]\n"
     ]
    },
    {
     "name": "stdout",
     "output_type": "stream",
     "text": [
      "Saving results in D:\\YuLab\\Work\\GPS\\Video\\Kennard\\GPS_08_Kornblum1500SRTSelf\\20231007\\Top\\Clips...\n",
      "Saving csv poses!\n",
      "Starting to analyze %  D:\\YuLab\\Work\\GPS\\Video\\Kennard\\GPS_08_Kornblum1500SRTSelf\\20231007\\Top\\Clips\\Kennard_20231007_HoldTrial043_TopView.avi\n",
      "Loading  D:\\YuLab\\Work\\GPS\\Video\\Kennard\\GPS_08_Kornblum1500SRTSelf\\20231007\\Top\\Clips\\Kennard_20231007_HoldTrial043_TopView.avi\n",
      "Duration of video [s]:  8.0 , recorded with  25.0 fps!\n",
      "Overall # of frames:  200  found with (before cropping) frame dimensions:  1280 1331\n",
      "Starting to extract posture\n",
      "Cropping based on the x1 = 0 x2 = 1280 y1 = 0 y2 = 1024. You can adjust the cropping coordinates in the config.yaml file.\n"
     ]
    },
    {
     "name": "stderr",
     "output_type": "stream",
     "text": [
      "100%|██████████| 200/200 [00:08<00:00, 23.66it/s]\n"
     ]
    },
    {
     "name": "stdout",
     "output_type": "stream",
     "text": [
      "Saving results in D:\\YuLab\\Work\\GPS\\Video\\Kennard\\GPS_08_Kornblum1500SRTSelf\\20231007\\Top\\Clips...\n",
      "Saving csv poses!\n",
      "Starting to analyze %  D:\\YuLab\\Work\\GPS\\Video\\Kennard\\GPS_08_Kornblum1500SRTSelf\\20231007\\Top\\Clips\\Kennard_20231007_HoldTrial044_TopView.avi\n",
      "Loading  D:\\YuLab\\Work\\GPS\\Video\\Kennard\\GPS_08_Kornblum1500SRTSelf\\20231007\\Top\\Clips\\Kennard_20231007_HoldTrial044_TopView.avi\n",
      "Duration of video [s]:  8.0 , recorded with  25.0 fps!\n",
      "Overall # of frames:  200  found with (before cropping) frame dimensions:  1280 1331\n",
      "Starting to extract posture\n",
      "Cropping based on the x1 = 0 x2 = 1280 y1 = 0 y2 = 1024. You can adjust the cropping coordinates in the config.yaml file.\n"
     ]
    },
    {
     "name": "stderr",
     "output_type": "stream",
     "text": [
      "100%|██████████| 200/200 [00:08<00:00, 23.73it/s]\n"
     ]
    },
    {
     "name": "stdout",
     "output_type": "stream",
     "text": [
      "Saving results in D:\\YuLab\\Work\\GPS\\Video\\Kennard\\GPS_08_Kornblum1500SRTSelf\\20231007\\Top\\Clips...\n",
      "Saving csv poses!\n",
      "Starting to analyze %  D:\\YuLab\\Work\\GPS\\Video\\Kennard\\GPS_08_Kornblum1500SRTSelf\\20231007\\Top\\Clips\\Kennard_20231007_HoldTrial045_TopView.avi\n",
      "Loading  D:\\YuLab\\Work\\GPS\\Video\\Kennard\\GPS_08_Kornblum1500SRTSelf\\20231007\\Top\\Clips\\Kennard_20231007_HoldTrial045_TopView.avi\n",
      "Duration of video [s]:  8.04 , recorded with  25.0 fps!\n",
      "Overall # of frames:  201  found with (before cropping) frame dimensions:  1280 1331\n",
      "Starting to extract posture\n",
      "Cropping based on the x1 = 0 x2 = 1280 y1 = 0 y2 = 1024. You can adjust the cropping coordinates in the config.yaml file.\n"
     ]
    },
    {
     "name": "stderr",
     "output_type": "stream",
     "text": [
      "100%|██████████| 201/201 [00:08<00:00, 23.04it/s]\n"
     ]
    },
    {
     "name": "stdout",
     "output_type": "stream",
     "text": [
      "Saving results in D:\\YuLab\\Work\\GPS\\Video\\Kennard\\GPS_08_Kornblum1500SRTSelf\\20231007\\Top\\Clips...\n",
      "Saving csv poses!\n",
      "Starting to analyze %  D:\\YuLab\\Work\\GPS\\Video\\Kennard\\GPS_08_Kornblum1500SRTSelf\\20231007\\Top\\Clips\\Kennard_20231007_HoldTrial046_TopView.avi\n",
      "Loading  D:\\YuLab\\Work\\GPS\\Video\\Kennard\\GPS_08_Kornblum1500SRTSelf\\20231007\\Top\\Clips\\Kennard_20231007_HoldTrial046_TopView.avi\n",
      "Duration of video [s]:  8.04 , recorded with  25.0 fps!\n",
      "Overall # of frames:  201  found with (before cropping) frame dimensions:  1280 1331\n",
      "Starting to extract posture\n",
      "Cropping based on the x1 = 0 x2 = 1280 y1 = 0 y2 = 1024. You can adjust the cropping coordinates in the config.yaml file.\n"
     ]
    },
    {
     "name": "stderr",
     "output_type": "stream",
     "text": [
      "100%|██████████| 201/201 [00:08<00:00, 22.99it/s]\n"
     ]
    },
    {
     "name": "stdout",
     "output_type": "stream",
     "text": [
      "Saving results in D:\\YuLab\\Work\\GPS\\Video\\Kennard\\GPS_08_Kornblum1500SRTSelf\\20231007\\Top\\Clips...\n",
      "Saving csv poses!\n",
      "Starting to analyze %  D:\\YuLab\\Work\\GPS\\Video\\Kennard\\GPS_08_Kornblum1500SRTSelf\\20231007\\Top\\Clips\\Kennard_20231007_HoldTrial047_TopView.avi\n",
      "Loading  D:\\YuLab\\Work\\GPS\\Video\\Kennard\\GPS_08_Kornblum1500SRTSelf\\20231007\\Top\\Clips\\Kennard_20231007_HoldTrial047_TopView.avi\n",
      "Duration of video [s]:  8.04 , recorded with  25.0 fps!\n",
      "Overall # of frames:  201  found with (before cropping) frame dimensions:  1280 1331\n",
      "Starting to extract posture\n",
      "Cropping based on the x1 = 0 x2 = 1280 y1 = 0 y2 = 1024. You can adjust the cropping coordinates in the config.yaml file.\n"
     ]
    },
    {
     "name": "stderr",
     "output_type": "stream",
     "text": [
      "100%|██████████| 201/201 [00:08<00:00, 23.05it/s]\n"
     ]
    },
    {
     "name": "stdout",
     "output_type": "stream",
     "text": [
      "Saving results in D:\\YuLab\\Work\\GPS\\Video\\Kennard\\GPS_08_Kornblum1500SRTSelf\\20231007\\Top\\Clips...\n",
      "Saving csv poses!\n",
      "Starting to analyze %  D:\\YuLab\\Work\\GPS\\Video\\Kennard\\GPS_08_Kornblum1500SRTSelf\\20231007\\Top\\Clips\\Kennard_20231007_HoldTrial048_TopView.avi\n",
      "Loading  D:\\YuLab\\Work\\GPS\\Video\\Kennard\\GPS_08_Kornblum1500SRTSelf\\20231007\\Top\\Clips\\Kennard_20231007_HoldTrial048_TopView.avi\n",
      "Duration of video [s]:  8.0 , recorded with  25.0 fps!\n",
      "Overall # of frames:  200  found with (before cropping) frame dimensions:  1280 1331\n",
      "Starting to extract posture\n",
      "Cropping based on the x1 = 0 x2 = 1280 y1 = 0 y2 = 1024. You can adjust the cropping coordinates in the config.yaml file.\n"
     ]
    },
    {
     "name": "stderr",
     "output_type": "stream",
     "text": [
      "100%|██████████| 200/200 [00:08<00:00, 23.71it/s]\n"
     ]
    },
    {
     "name": "stdout",
     "output_type": "stream",
     "text": [
      "Saving results in D:\\YuLab\\Work\\GPS\\Video\\Kennard\\GPS_08_Kornblum1500SRTSelf\\20231007\\Top\\Clips...\n",
      "Saving csv poses!\n",
      "Starting to analyze %  D:\\YuLab\\Work\\GPS\\Video\\Kennard\\GPS_08_Kornblum1500SRTSelf\\20231007\\Top\\Clips\\Kennard_20231007_HoldTrial049_TopView.avi\n",
      "Loading  D:\\YuLab\\Work\\GPS\\Video\\Kennard\\GPS_08_Kornblum1500SRTSelf\\20231007\\Top\\Clips\\Kennard_20231007_HoldTrial049_TopView.avi\n",
      "Duration of video [s]:  8.0 , recorded with  25.0 fps!\n",
      "Overall # of frames:  200  found with (before cropping) frame dimensions:  1280 1331\n",
      "Starting to extract posture\n",
      "Cropping based on the x1 = 0 x2 = 1280 y1 = 0 y2 = 1024. You can adjust the cropping coordinates in the config.yaml file.\n"
     ]
    },
    {
     "name": "stderr",
     "output_type": "stream",
     "text": [
      "100%|██████████| 200/200 [00:08<00:00, 23.69it/s]\n"
     ]
    },
    {
     "name": "stdout",
     "output_type": "stream",
     "text": [
      "Saving results in D:\\YuLab\\Work\\GPS\\Video\\Kennard\\GPS_08_Kornblum1500SRTSelf\\20231007\\Top\\Clips...\n",
      "Saving csv poses!\n",
      "Starting to analyze %  D:\\YuLab\\Work\\GPS\\Video\\Kennard\\GPS_08_Kornblum1500SRTSelf\\20231007\\Top\\Clips\\Kennard_20231007_HoldTrial050_TopView.avi\n",
      "Loading  D:\\YuLab\\Work\\GPS\\Video\\Kennard\\GPS_08_Kornblum1500SRTSelf\\20231007\\Top\\Clips\\Kennard_20231007_HoldTrial050_TopView.avi\n",
      "Duration of video [s]:  8.04 , recorded with  25.0 fps!\n",
      "Overall # of frames:  201  found with (before cropping) frame dimensions:  1280 1331\n",
      "Starting to extract posture\n",
      "Cropping based on the x1 = 0 x2 = 1280 y1 = 0 y2 = 1024. You can adjust the cropping coordinates in the config.yaml file.\n"
     ]
    },
    {
     "name": "stderr",
     "output_type": "stream",
     "text": [
      "100%|██████████| 201/201 [00:08<00:00, 23.04it/s]\n"
     ]
    },
    {
     "name": "stdout",
     "output_type": "stream",
     "text": [
      "Saving results in D:\\YuLab\\Work\\GPS\\Video\\Kennard\\GPS_08_Kornblum1500SRTSelf\\20231007\\Top\\Clips...\n",
      "Saving csv poses!\n",
      "Starting to analyze %  D:\\YuLab\\Work\\GPS\\Video\\Kennard\\GPS_08_Kornblum1500SRTSelf\\20231007\\Top\\Clips\\Kennard_20231007_HoldTrial051_TopView.avi\n",
      "Loading  D:\\YuLab\\Work\\GPS\\Video\\Kennard\\GPS_08_Kornblum1500SRTSelf\\20231007\\Top\\Clips\\Kennard_20231007_HoldTrial051_TopView.avi\n",
      "Duration of video [s]:  8.04 , recorded with  25.0 fps!\n",
      "Overall # of frames:  201  found with (before cropping) frame dimensions:  1280 1331\n",
      "Starting to extract posture\n",
      "Cropping based on the x1 = 0 x2 = 1280 y1 = 0 y2 = 1024. You can adjust the cropping coordinates in the config.yaml file.\n"
     ]
    },
    {
     "name": "stderr",
     "output_type": "stream",
     "text": [
      "100%|██████████| 201/201 [00:08<00:00, 23.01it/s]\n"
     ]
    },
    {
     "name": "stdout",
     "output_type": "stream",
     "text": [
      "Saving results in D:\\YuLab\\Work\\GPS\\Video\\Kennard\\GPS_08_Kornblum1500SRTSelf\\20231007\\Top\\Clips...\n",
      "Saving csv poses!\n",
      "Starting to analyze %  D:\\YuLab\\Work\\GPS\\Video\\Kennard\\GPS_08_Kornblum1500SRTSelf\\20231007\\Top\\Clips\\Kennard_20231007_HoldTrial052_TopView.avi\n",
      "Loading  D:\\YuLab\\Work\\GPS\\Video\\Kennard\\GPS_08_Kornblum1500SRTSelf\\20231007\\Top\\Clips\\Kennard_20231007_HoldTrial052_TopView.avi\n",
      "Duration of video [s]:  8.0 , recorded with  25.0 fps!\n",
      "Overall # of frames:  200  found with (before cropping) frame dimensions:  1280 1331\n",
      "Starting to extract posture\n",
      "Cropping based on the x1 = 0 x2 = 1280 y1 = 0 y2 = 1024. You can adjust the cropping coordinates in the config.yaml file.\n"
     ]
    },
    {
     "name": "stderr",
     "output_type": "stream",
     "text": [
      "100%|██████████| 200/200 [00:08<00:00, 23.64it/s]\n"
     ]
    },
    {
     "name": "stdout",
     "output_type": "stream",
     "text": [
      "Saving results in D:\\YuLab\\Work\\GPS\\Video\\Kennard\\GPS_08_Kornblum1500SRTSelf\\20231007\\Top\\Clips...\n",
      "Saving csv poses!\n",
      "Starting to analyze %  D:\\YuLab\\Work\\GPS\\Video\\Kennard\\GPS_08_Kornblum1500SRTSelf\\20231007\\Top\\Clips\\Kennard_20231007_HoldTrial053_TopView.avi\n",
      "Loading  D:\\YuLab\\Work\\GPS\\Video\\Kennard\\GPS_08_Kornblum1500SRTSelf\\20231007\\Top\\Clips\\Kennard_20231007_HoldTrial053_TopView.avi\n",
      "Duration of video [s]:  8.04 , recorded with  25.0 fps!\n",
      "Overall # of frames:  201  found with (before cropping) frame dimensions:  1280 1331\n",
      "Starting to extract posture\n",
      "Cropping based on the x1 = 0 x2 = 1280 y1 = 0 y2 = 1024. You can adjust the cropping coordinates in the config.yaml file.\n"
     ]
    },
    {
     "name": "stderr",
     "output_type": "stream",
     "text": [
      "100%|██████████| 201/201 [00:08<00:00, 22.98it/s]\n"
     ]
    },
    {
     "name": "stdout",
     "output_type": "stream",
     "text": [
      "Saving results in D:\\YuLab\\Work\\GPS\\Video\\Kennard\\GPS_08_Kornblum1500SRTSelf\\20231007\\Top\\Clips...\n",
      "Saving csv poses!\n",
      "Starting to analyze %  D:\\YuLab\\Work\\GPS\\Video\\Kennard\\GPS_08_Kornblum1500SRTSelf\\20231007\\Top\\Clips\\Kennard_20231007_HoldTrial054_TopView.avi\n",
      "Loading  D:\\YuLab\\Work\\GPS\\Video\\Kennard\\GPS_08_Kornblum1500SRTSelf\\20231007\\Top\\Clips\\Kennard_20231007_HoldTrial054_TopView.avi\n",
      "Duration of video [s]:  8.0 , recorded with  25.0 fps!\n",
      "Overall # of frames:  200  found with (before cropping) frame dimensions:  1280 1331\n",
      "Starting to extract posture\n",
      "Cropping based on the x1 = 0 x2 = 1280 y1 = 0 y2 = 1024. You can adjust the cropping coordinates in the config.yaml file.\n"
     ]
    },
    {
     "name": "stderr",
     "output_type": "stream",
     "text": [
      "100%|██████████| 200/200 [00:08<00:00, 23.64it/s]\n"
     ]
    },
    {
     "name": "stdout",
     "output_type": "stream",
     "text": [
      "Saving results in D:\\YuLab\\Work\\GPS\\Video\\Kennard\\GPS_08_Kornblum1500SRTSelf\\20231007\\Top\\Clips...\n",
      "Saving csv poses!\n",
      "Starting to analyze %  D:\\YuLab\\Work\\GPS\\Video\\Kennard\\GPS_08_Kornblum1500SRTSelf\\20231007\\Top\\Clips\\Kennard_20231007_HoldTrial055_TopView.avi\n",
      "Loading  D:\\YuLab\\Work\\GPS\\Video\\Kennard\\GPS_08_Kornblum1500SRTSelf\\20231007\\Top\\Clips\\Kennard_20231007_HoldTrial055_TopView.avi\n",
      "Duration of video [s]:  8.04 , recorded with  25.0 fps!\n",
      "Overall # of frames:  201  found with (before cropping) frame dimensions:  1280 1331\n",
      "Starting to extract posture\n",
      "Cropping based on the x1 = 0 x2 = 1280 y1 = 0 y2 = 1024. You can adjust the cropping coordinates in the config.yaml file.\n"
     ]
    },
    {
     "name": "stderr",
     "output_type": "stream",
     "text": [
      "100%|██████████| 201/201 [00:08<00:00, 23.05it/s]\n"
     ]
    },
    {
     "name": "stdout",
     "output_type": "stream",
     "text": [
      "Saving results in D:\\YuLab\\Work\\GPS\\Video\\Kennard\\GPS_08_Kornblum1500SRTSelf\\20231007\\Top\\Clips...\n",
      "Saving csv poses!\n",
      "Starting to analyze %  D:\\YuLab\\Work\\GPS\\Video\\Kennard\\GPS_08_Kornblum1500SRTSelf\\20231007\\Top\\Clips\\Kennard_20231007_HoldTrial056_TopView.avi\n",
      "Loading  D:\\YuLab\\Work\\GPS\\Video\\Kennard\\GPS_08_Kornblum1500SRTSelf\\20231007\\Top\\Clips\\Kennard_20231007_HoldTrial056_TopView.avi\n",
      "Duration of video [s]:  8.04 , recorded with  25.0 fps!\n",
      "Overall # of frames:  201  found with (before cropping) frame dimensions:  1280 1331\n",
      "Starting to extract posture\n",
      "Cropping based on the x1 = 0 x2 = 1280 y1 = 0 y2 = 1024. You can adjust the cropping coordinates in the config.yaml file.\n"
     ]
    },
    {
     "name": "stderr",
     "output_type": "stream",
     "text": [
      "100%|██████████| 201/201 [00:08<00:00, 22.99it/s]\n"
     ]
    },
    {
     "name": "stdout",
     "output_type": "stream",
     "text": [
      "Saving results in D:\\YuLab\\Work\\GPS\\Video\\Kennard\\GPS_08_Kornblum1500SRTSelf\\20231007\\Top\\Clips...\n",
      "Saving csv poses!\n",
      "Starting to analyze %  D:\\YuLab\\Work\\GPS\\Video\\Kennard\\GPS_08_Kornblum1500SRTSelf\\20231007\\Top\\Clips\\Kennard_20231007_HoldTrial057_TopView.avi\n",
      "Loading  D:\\YuLab\\Work\\GPS\\Video\\Kennard\\GPS_08_Kornblum1500SRTSelf\\20231007\\Top\\Clips\\Kennard_20231007_HoldTrial057_TopView.avi\n",
      "Duration of video [s]:  8.04 , recorded with  25.0 fps!\n",
      "Overall # of frames:  201  found with (before cropping) frame dimensions:  1280 1331\n",
      "Starting to extract posture\n",
      "Cropping based on the x1 = 0 x2 = 1280 y1 = 0 y2 = 1024. You can adjust the cropping coordinates in the config.yaml file.\n"
     ]
    },
    {
     "name": "stderr",
     "output_type": "stream",
     "text": [
      "100%|██████████| 201/201 [00:08<00:00, 23.05it/s]\n"
     ]
    },
    {
     "name": "stdout",
     "output_type": "stream",
     "text": [
      "Saving results in D:\\YuLab\\Work\\GPS\\Video\\Kennard\\GPS_08_Kornblum1500SRTSelf\\20231007\\Top\\Clips...\n",
      "Saving csv poses!\n",
      "Starting to analyze %  D:\\YuLab\\Work\\GPS\\Video\\Kennard\\GPS_08_Kornblum1500SRTSelf\\20231007\\Top\\Clips\\Kennard_20231007_HoldTrial058_TopView.avi\n",
      "Loading  D:\\YuLab\\Work\\GPS\\Video\\Kennard\\GPS_08_Kornblum1500SRTSelf\\20231007\\Top\\Clips\\Kennard_20231007_HoldTrial058_TopView.avi\n",
      "Duration of video [s]:  8.04 , recorded with  25.0 fps!\n",
      "Overall # of frames:  201  found with (before cropping) frame dimensions:  1280 1331\n",
      "Starting to extract posture\n",
      "Cropping based on the x1 = 0 x2 = 1280 y1 = 0 y2 = 1024. You can adjust the cropping coordinates in the config.yaml file.\n"
     ]
    },
    {
     "name": "stderr",
     "output_type": "stream",
     "text": [
      "100%|██████████| 201/201 [00:08<00:00, 23.06it/s]\n"
     ]
    },
    {
     "name": "stdout",
     "output_type": "stream",
     "text": [
      "Saving results in D:\\YuLab\\Work\\GPS\\Video\\Kennard\\GPS_08_Kornblum1500SRTSelf\\20231007\\Top\\Clips...\n",
      "Saving csv poses!\n",
      "Starting to analyze %  D:\\YuLab\\Work\\GPS\\Video\\Kennard\\GPS_08_Kornblum1500SRTSelf\\20231007\\Top\\Clips\\Kennard_20231007_HoldTrial059_TopView.avi\n",
      "Loading  D:\\YuLab\\Work\\GPS\\Video\\Kennard\\GPS_08_Kornblum1500SRTSelf\\20231007\\Top\\Clips\\Kennard_20231007_HoldTrial059_TopView.avi\n",
      "Duration of video [s]:  8.0 , recorded with  25.0 fps!\n",
      "Overall # of frames:  200  found with (before cropping) frame dimensions:  1280 1331\n",
      "Starting to extract posture\n",
      "Cropping based on the x1 = 0 x2 = 1280 y1 = 0 y2 = 1024. You can adjust the cropping coordinates in the config.yaml file.\n"
     ]
    },
    {
     "name": "stderr",
     "output_type": "stream",
     "text": [
      "100%|██████████| 200/200 [00:08<00:00, 23.71it/s]\n"
     ]
    },
    {
     "name": "stdout",
     "output_type": "stream",
     "text": [
      "Saving results in D:\\YuLab\\Work\\GPS\\Video\\Kennard\\GPS_08_Kornblum1500SRTSelf\\20231007\\Top\\Clips...\n",
      "Saving csv poses!\n",
      "Starting to analyze %  D:\\YuLab\\Work\\GPS\\Video\\Kennard\\GPS_08_Kornblum1500SRTSelf\\20231007\\Top\\Clips\\Kennard_20231007_HoldTrial060_TopView.avi\n",
      "Loading  D:\\YuLab\\Work\\GPS\\Video\\Kennard\\GPS_08_Kornblum1500SRTSelf\\20231007\\Top\\Clips\\Kennard_20231007_HoldTrial060_TopView.avi\n",
      "Duration of video [s]:  8.04 , recorded with  25.0 fps!\n",
      "Overall # of frames:  201  found with (before cropping) frame dimensions:  1280 1331\n",
      "Starting to extract posture\n",
      "Cropping based on the x1 = 0 x2 = 1280 y1 = 0 y2 = 1024. You can adjust the cropping coordinates in the config.yaml file.\n"
     ]
    },
    {
     "name": "stderr",
     "output_type": "stream",
     "text": [
      "100%|██████████| 201/201 [00:08<00:00, 23.06it/s]\n"
     ]
    },
    {
     "name": "stdout",
     "output_type": "stream",
     "text": [
      "Saving results in D:\\YuLab\\Work\\GPS\\Video\\Kennard\\GPS_08_Kornblum1500SRTSelf\\20231007\\Top\\Clips...\n",
      "Saving csv poses!\n",
      "Starting to analyze %  D:\\YuLab\\Work\\GPS\\Video\\Kennard\\GPS_08_Kornblum1500SRTSelf\\20231007\\Top\\Clips\\Kennard_20231007_HoldTrial061_TopView.avi\n",
      "Loading  D:\\YuLab\\Work\\GPS\\Video\\Kennard\\GPS_08_Kornblum1500SRTSelf\\20231007\\Top\\Clips\\Kennard_20231007_HoldTrial061_TopView.avi\n",
      "Duration of video [s]:  8.0 , recorded with  25.0 fps!\n",
      "Overall # of frames:  200  found with (before cropping) frame dimensions:  1280 1331\n",
      "Starting to extract posture\n",
      "Cropping based on the x1 = 0 x2 = 1280 y1 = 0 y2 = 1024. You can adjust the cropping coordinates in the config.yaml file.\n"
     ]
    },
    {
     "name": "stderr",
     "output_type": "stream",
     "text": [
      "100%|██████████| 200/200 [00:08<00:00, 23.68it/s]\n"
     ]
    },
    {
     "name": "stdout",
     "output_type": "stream",
     "text": [
      "Saving results in D:\\YuLab\\Work\\GPS\\Video\\Kennard\\GPS_08_Kornblum1500SRTSelf\\20231007\\Top\\Clips...\n",
      "Saving csv poses!\n",
      "Starting to analyze %  D:\\YuLab\\Work\\GPS\\Video\\Kennard\\GPS_08_Kornblum1500SRTSelf\\20231007\\Top\\Clips\\Kennard_20231007_HoldTrial062_TopView.avi\n",
      "Loading  D:\\YuLab\\Work\\GPS\\Video\\Kennard\\GPS_08_Kornblum1500SRTSelf\\20231007\\Top\\Clips\\Kennard_20231007_HoldTrial062_TopView.avi\n",
      "Duration of video [s]:  8.04 , recorded with  25.0 fps!\n",
      "Overall # of frames:  201  found with (before cropping) frame dimensions:  1280 1331\n",
      "Starting to extract posture\n",
      "Cropping based on the x1 = 0 x2 = 1280 y1 = 0 y2 = 1024. You can adjust the cropping coordinates in the config.yaml file.\n"
     ]
    },
    {
     "name": "stderr",
     "output_type": "stream",
     "text": [
      "100%|██████████| 201/201 [00:08<00:00, 23.02it/s]\n"
     ]
    },
    {
     "name": "stdout",
     "output_type": "stream",
     "text": [
      "Saving results in D:\\YuLab\\Work\\GPS\\Video\\Kennard\\GPS_08_Kornblum1500SRTSelf\\20231007\\Top\\Clips...\n",
      "Saving csv poses!\n",
      "Starting to analyze %  D:\\YuLab\\Work\\GPS\\Video\\Kennard\\GPS_08_Kornblum1500SRTSelf\\20231007\\Top\\Clips\\Kennard_20231007_HoldTrial063_TopView.avi\n",
      "Loading  D:\\YuLab\\Work\\GPS\\Video\\Kennard\\GPS_08_Kornblum1500SRTSelf\\20231007\\Top\\Clips\\Kennard_20231007_HoldTrial063_TopView.avi\n",
      "Duration of video [s]:  8.0 , recorded with  25.0 fps!\n",
      "Overall # of frames:  200  found with (before cropping) frame dimensions:  1280 1331\n",
      "Starting to extract posture\n",
      "Cropping based on the x1 = 0 x2 = 1280 y1 = 0 y2 = 1024. You can adjust the cropping coordinates in the config.yaml file.\n"
     ]
    },
    {
     "name": "stderr",
     "output_type": "stream",
     "text": [
      "100%|██████████| 200/200 [00:08<00:00, 23.68it/s]\n"
     ]
    },
    {
     "name": "stdout",
     "output_type": "stream",
     "text": [
      "Saving results in D:\\YuLab\\Work\\GPS\\Video\\Kennard\\GPS_08_Kornblum1500SRTSelf\\20231007\\Top\\Clips...\n",
      "Saving csv poses!\n",
      "Starting to analyze %  D:\\YuLab\\Work\\GPS\\Video\\Kennard\\GPS_08_Kornblum1500SRTSelf\\20231007\\Top\\Clips\\Kennard_20231007_HoldTrial064_TopView.avi\n",
      "Loading  D:\\YuLab\\Work\\GPS\\Video\\Kennard\\GPS_08_Kornblum1500SRTSelf\\20231007\\Top\\Clips\\Kennard_20231007_HoldTrial064_TopView.avi\n",
      "Duration of video [s]:  8.04 , recorded with  25.0 fps!\n",
      "Overall # of frames:  201  found with (before cropping) frame dimensions:  1280 1331\n",
      "Starting to extract posture\n",
      "Cropping based on the x1 = 0 x2 = 1280 y1 = 0 y2 = 1024. You can adjust the cropping coordinates in the config.yaml file.\n"
     ]
    },
    {
     "name": "stderr",
     "output_type": "stream",
     "text": [
      "100%|██████████| 201/201 [00:08<00:00, 23.03it/s]\n"
     ]
    },
    {
     "name": "stdout",
     "output_type": "stream",
     "text": [
      "Saving results in D:\\YuLab\\Work\\GPS\\Video\\Kennard\\GPS_08_Kornblum1500SRTSelf\\20231007\\Top\\Clips...\n",
      "Saving csv poses!\n",
      "Starting to analyze %  D:\\YuLab\\Work\\GPS\\Video\\Kennard\\GPS_08_Kornblum1500SRTSelf\\20231007\\Top\\Clips\\Kennard_20231007_HoldTrial065_TopView.avi\n",
      "Loading  D:\\YuLab\\Work\\GPS\\Video\\Kennard\\GPS_08_Kornblum1500SRTSelf\\20231007\\Top\\Clips\\Kennard_20231007_HoldTrial065_TopView.avi\n",
      "Duration of video [s]:  8.04 , recorded with  25.0 fps!\n",
      "Overall # of frames:  201  found with (before cropping) frame dimensions:  1280 1331\n",
      "Starting to extract posture\n",
      "Cropping based on the x1 = 0 x2 = 1280 y1 = 0 y2 = 1024. You can adjust the cropping coordinates in the config.yaml file.\n"
     ]
    },
    {
     "name": "stderr",
     "output_type": "stream",
     "text": [
      "100%|██████████| 201/201 [00:08<00:00, 23.05it/s]\n"
     ]
    },
    {
     "name": "stdout",
     "output_type": "stream",
     "text": [
      "Saving results in D:\\YuLab\\Work\\GPS\\Video\\Kennard\\GPS_08_Kornblum1500SRTSelf\\20231007\\Top\\Clips...\n",
      "Saving csv poses!\n",
      "Starting to analyze %  D:\\YuLab\\Work\\GPS\\Video\\Kennard\\GPS_08_Kornblum1500SRTSelf\\20231007\\Top\\Clips\\Kennard_20231007_HoldTrial066_TopView.avi\n",
      "Loading  D:\\YuLab\\Work\\GPS\\Video\\Kennard\\GPS_08_Kornblum1500SRTSelf\\20231007\\Top\\Clips\\Kennard_20231007_HoldTrial066_TopView.avi\n",
      "Duration of video [s]:  8.0 , recorded with  25.0 fps!\n",
      "Overall # of frames:  200  found with (before cropping) frame dimensions:  1280 1331\n",
      "Starting to extract posture\n",
      "Cropping based on the x1 = 0 x2 = 1280 y1 = 0 y2 = 1024. You can adjust the cropping coordinates in the config.yaml file.\n"
     ]
    },
    {
     "name": "stderr",
     "output_type": "stream",
     "text": [
      "100%|██████████| 200/200 [00:08<00:00, 23.72it/s]\n"
     ]
    },
    {
     "name": "stdout",
     "output_type": "stream",
     "text": [
      "Saving results in D:\\YuLab\\Work\\GPS\\Video\\Kennard\\GPS_08_Kornblum1500SRTSelf\\20231007\\Top\\Clips...\n",
      "Saving csv poses!\n",
      "Starting to analyze %  D:\\YuLab\\Work\\GPS\\Video\\Kennard\\GPS_08_Kornblum1500SRTSelf\\20231007\\Top\\Clips\\Kennard_20231007_HoldTrial067_TopView.avi\n",
      "Loading  D:\\YuLab\\Work\\GPS\\Video\\Kennard\\GPS_08_Kornblum1500SRTSelf\\20231007\\Top\\Clips\\Kennard_20231007_HoldTrial067_TopView.avi\n",
      "Duration of video [s]:  8.04 , recorded with  25.0 fps!\n",
      "Overall # of frames:  201  found with (before cropping) frame dimensions:  1280 1331\n",
      "Starting to extract posture\n",
      "Cropping based on the x1 = 0 x2 = 1280 y1 = 0 y2 = 1024. You can adjust the cropping coordinates in the config.yaml file.\n"
     ]
    },
    {
     "name": "stderr",
     "output_type": "stream",
     "text": [
      "100%|██████████| 201/201 [00:08<00:00, 22.97it/s]\n"
     ]
    },
    {
     "name": "stdout",
     "output_type": "stream",
     "text": [
      "Saving results in D:\\YuLab\\Work\\GPS\\Video\\Kennard\\GPS_08_Kornblum1500SRTSelf\\20231007\\Top\\Clips...\n",
      "Saving csv poses!\n",
      "Starting to analyze %  D:\\YuLab\\Work\\GPS\\Video\\Kennard\\GPS_08_Kornblum1500SRTSelf\\20231007\\Top\\Clips\\Kennard_20231007_HoldTrial068_TopView.avi\n",
      "Loading  D:\\YuLab\\Work\\GPS\\Video\\Kennard\\GPS_08_Kornblum1500SRTSelf\\20231007\\Top\\Clips\\Kennard_20231007_HoldTrial068_TopView.avi\n",
      "Duration of video [s]:  8.0 , recorded with  25.0 fps!\n",
      "Overall # of frames:  200  found with (before cropping) frame dimensions:  1280 1331\n",
      "Starting to extract posture\n",
      "Cropping based on the x1 = 0 x2 = 1280 y1 = 0 y2 = 1024. You can adjust the cropping coordinates in the config.yaml file.\n"
     ]
    },
    {
     "name": "stderr",
     "output_type": "stream",
     "text": [
      "100%|██████████| 200/200 [00:08<00:00, 23.64it/s]\n"
     ]
    },
    {
     "name": "stdout",
     "output_type": "stream",
     "text": [
      "Saving results in D:\\YuLab\\Work\\GPS\\Video\\Kennard\\GPS_08_Kornblum1500SRTSelf\\20231007\\Top\\Clips...\n",
      "Saving csv poses!\n",
      "Starting to analyze %  D:\\YuLab\\Work\\GPS\\Video\\Kennard\\GPS_08_Kornblum1500SRTSelf\\20231007\\Top\\Clips\\Kennard_20231007_HoldTrial069_TopView.avi\n",
      "Loading  D:\\YuLab\\Work\\GPS\\Video\\Kennard\\GPS_08_Kornblum1500SRTSelf\\20231007\\Top\\Clips\\Kennard_20231007_HoldTrial069_TopView.avi\n",
      "Duration of video [s]:  8.04 , recorded with  25.0 fps!\n",
      "Overall # of frames:  201  found with (before cropping) frame dimensions:  1280 1331\n",
      "Starting to extract posture\n",
      "Cropping based on the x1 = 0 x2 = 1280 y1 = 0 y2 = 1024. You can adjust the cropping coordinates in the config.yaml file.\n"
     ]
    },
    {
     "name": "stderr",
     "output_type": "stream",
     "text": [
      "100%|██████████| 201/201 [00:08<00:00, 23.04it/s]\n"
     ]
    },
    {
     "name": "stdout",
     "output_type": "stream",
     "text": [
      "Saving results in D:\\YuLab\\Work\\GPS\\Video\\Kennard\\GPS_08_Kornblum1500SRTSelf\\20231007\\Top\\Clips...\n",
      "Saving csv poses!\n",
      "Starting to analyze %  D:\\YuLab\\Work\\GPS\\Video\\Kennard\\GPS_08_Kornblum1500SRTSelf\\20231007\\Top\\Clips\\Kennard_20231007_HoldTrial070_TopView.avi\n",
      "Loading  D:\\YuLab\\Work\\GPS\\Video\\Kennard\\GPS_08_Kornblum1500SRTSelf\\20231007\\Top\\Clips\\Kennard_20231007_HoldTrial070_TopView.avi\n",
      "Duration of video [s]:  8.0 , recorded with  25.0 fps!\n",
      "Overall # of frames:  200  found with (before cropping) frame dimensions:  1280 1331\n",
      "Starting to extract posture\n",
      "Cropping based on the x1 = 0 x2 = 1280 y1 = 0 y2 = 1024. You can adjust the cropping coordinates in the config.yaml file.\n"
     ]
    },
    {
     "name": "stderr",
     "output_type": "stream",
     "text": [
      "100%|██████████| 200/200 [00:08<00:00, 23.66it/s]\n"
     ]
    },
    {
     "name": "stdout",
     "output_type": "stream",
     "text": [
      "Saving results in D:\\YuLab\\Work\\GPS\\Video\\Kennard\\GPS_08_Kornblum1500SRTSelf\\20231007\\Top\\Clips...\n",
      "Saving csv poses!\n",
      "Starting to analyze %  D:\\YuLab\\Work\\GPS\\Video\\Kennard\\GPS_08_Kornblum1500SRTSelf\\20231007\\Top\\Clips\\Kennard_20231007_HoldTrial071_TopView.avi\n",
      "Loading  D:\\YuLab\\Work\\GPS\\Video\\Kennard\\GPS_08_Kornblum1500SRTSelf\\20231007\\Top\\Clips\\Kennard_20231007_HoldTrial071_TopView.avi\n",
      "Duration of video [s]:  8.0 , recorded with  25.0 fps!\n",
      "Overall # of frames:  200  found with (before cropping) frame dimensions:  1280 1331\n",
      "Starting to extract posture\n",
      "Cropping based on the x1 = 0 x2 = 1280 y1 = 0 y2 = 1024. You can adjust the cropping coordinates in the config.yaml file.\n"
     ]
    },
    {
     "name": "stderr",
     "output_type": "stream",
     "text": [
      "100%|██████████| 200/200 [00:08<00:00, 23.72it/s]\n"
     ]
    },
    {
     "name": "stdout",
     "output_type": "stream",
     "text": [
      "Saving results in D:\\YuLab\\Work\\GPS\\Video\\Kennard\\GPS_08_Kornblum1500SRTSelf\\20231007\\Top\\Clips...\n",
      "Saving csv poses!\n",
      "Starting to analyze %  D:\\YuLab\\Work\\GPS\\Video\\Kennard\\GPS_08_Kornblum1500SRTSelf\\20231007\\Top\\Clips\\Kennard_20231007_HoldTrial072_TopView.avi\n",
      "Loading  D:\\YuLab\\Work\\GPS\\Video\\Kennard\\GPS_08_Kornblum1500SRTSelf\\20231007\\Top\\Clips\\Kennard_20231007_HoldTrial072_TopView.avi\n",
      "Duration of video [s]:  8.04 , recorded with  25.0 fps!\n",
      "Overall # of frames:  201  found with (before cropping) frame dimensions:  1280 1331\n",
      "Starting to extract posture\n",
      "Cropping based on the x1 = 0 x2 = 1280 y1 = 0 y2 = 1024. You can adjust the cropping coordinates in the config.yaml file.\n"
     ]
    },
    {
     "name": "stderr",
     "output_type": "stream",
     "text": [
      "100%|██████████| 201/201 [00:08<00:00, 23.05it/s]\n"
     ]
    },
    {
     "name": "stdout",
     "output_type": "stream",
     "text": [
      "Saving results in D:\\YuLab\\Work\\GPS\\Video\\Kennard\\GPS_08_Kornblum1500SRTSelf\\20231007\\Top\\Clips...\n",
      "Saving csv poses!\n",
      "Starting to analyze %  D:\\YuLab\\Work\\GPS\\Video\\Kennard\\GPS_08_Kornblum1500SRTSelf\\20231007\\Top\\Clips\\Kennard_20231007_HoldTrial073_TopView.avi\n",
      "Loading  D:\\YuLab\\Work\\GPS\\Video\\Kennard\\GPS_08_Kornblum1500SRTSelf\\20231007\\Top\\Clips\\Kennard_20231007_HoldTrial073_TopView.avi\n",
      "Duration of video [s]:  8.0 , recorded with  25.0 fps!\n",
      "Overall # of frames:  200  found with (before cropping) frame dimensions:  1280 1331\n",
      "Starting to extract posture\n",
      "Cropping based on the x1 = 0 x2 = 1280 y1 = 0 y2 = 1024. You can adjust the cropping coordinates in the config.yaml file.\n"
     ]
    },
    {
     "name": "stderr",
     "output_type": "stream",
     "text": [
      "100%|██████████| 200/200 [00:08<00:00, 23.68it/s]\n"
     ]
    },
    {
     "name": "stdout",
     "output_type": "stream",
     "text": [
      "Saving results in D:\\YuLab\\Work\\GPS\\Video\\Kennard\\GPS_08_Kornblum1500SRTSelf\\20231007\\Top\\Clips...\n",
      "Saving csv poses!\n",
      "Starting to analyze %  D:\\YuLab\\Work\\GPS\\Video\\Kennard\\GPS_08_Kornblum1500SRTSelf\\20231007\\Top\\Clips\\Kennard_20231007_HoldTrial074_TopView.avi\n",
      "Loading  D:\\YuLab\\Work\\GPS\\Video\\Kennard\\GPS_08_Kornblum1500SRTSelf\\20231007\\Top\\Clips\\Kennard_20231007_HoldTrial074_TopView.avi\n",
      "Duration of video [s]:  8.04 , recorded with  25.0 fps!\n",
      "Overall # of frames:  201  found with (before cropping) frame dimensions:  1280 1331\n",
      "Starting to extract posture\n",
      "Cropping based on the x1 = 0 x2 = 1280 y1 = 0 y2 = 1024. You can adjust the cropping coordinates in the config.yaml file.\n"
     ]
    },
    {
     "name": "stderr",
     "output_type": "stream",
     "text": [
      "100%|██████████| 201/201 [00:08<00:00, 23.00it/s]\n"
     ]
    },
    {
     "name": "stdout",
     "output_type": "stream",
     "text": [
      "Saving results in D:\\YuLab\\Work\\GPS\\Video\\Kennard\\GPS_08_Kornblum1500SRTSelf\\20231007\\Top\\Clips...\n",
      "Saving csv poses!\n",
      "Starting to analyze %  D:\\YuLab\\Work\\GPS\\Video\\Kennard\\GPS_08_Kornblum1500SRTSelf\\20231007\\Top\\Clips\\Kennard_20231007_HoldTrial075_TopView.avi\n",
      "Loading  D:\\YuLab\\Work\\GPS\\Video\\Kennard\\GPS_08_Kornblum1500SRTSelf\\20231007\\Top\\Clips\\Kennard_20231007_HoldTrial075_TopView.avi\n",
      "Duration of video [s]:  8.0 , recorded with  25.0 fps!\n",
      "Overall # of frames:  200  found with (before cropping) frame dimensions:  1280 1331\n",
      "Starting to extract posture\n",
      "Cropping based on the x1 = 0 x2 = 1280 y1 = 0 y2 = 1024. You can adjust the cropping coordinates in the config.yaml file.\n"
     ]
    },
    {
     "name": "stderr",
     "output_type": "stream",
     "text": [
      "100%|██████████| 200/200 [00:08<00:00, 23.65it/s]\n"
     ]
    },
    {
     "name": "stdout",
     "output_type": "stream",
     "text": [
      "Saving results in D:\\YuLab\\Work\\GPS\\Video\\Kennard\\GPS_08_Kornblum1500SRTSelf\\20231007\\Top\\Clips...\n",
      "Saving csv poses!\n",
      "Starting to analyze %  D:\\YuLab\\Work\\GPS\\Video\\Kennard\\GPS_08_Kornblum1500SRTSelf\\20231007\\Top\\Clips\\Kennard_20231007_HoldTrial076_TopView.avi\n",
      "Loading  D:\\YuLab\\Work\\GPS\\Video\\Kennard\\GPS_08_Kornblum1500SRTSelf\\20231007\\Top\\Clips\\Kennard_20231007_HoldTrial076_TopView.avi\n",
      "Duration of video [s]:  8.04 , recorded with  25.0 fps!\n",
      "Overall # of frames:  201  found with (before cropping) frame dimensions:  1280 1331\n",
      "Starting to extract posture\n",
      "Cropping based on the x1 = 0 x2 = 1280 y1 = 0 y2 = 1024. You can adjust the cropping coordinates in the config.yaml file.\n"
     ]
    },
    {
     "name": "stderr",
     "output_type": "stream",
     "text": [
      "100%|██████████| 201/201 [00:08<00:00, 23.02it/s]\n"
     ]
    },
    {
     "name": "stdout",
     "output_type": "stream",
     "text": [
      "Saving results in D:\\YuLab\\Work\\GPS\\Video\\Kennard\\GPS_08_Kornblum1500SRTSelf\\20231007\\Top\\Clips...\n",
      "Saving csv poses!\n",
      "Starting to analyze %  D:\\YuLab\\Work\\GPS\\Video\\Kennard\\GPS_08_Kornblum1500SRTSelf\\20231007\\Top\\Clips\\Kennard_20231007_HoldTrial077_TopView.avi\n",
      "Loading  D:\\YuLab\\Work\\GPS\\Video\\Kennard\\GPS_08_Kornblum1500SRTSelf\\20231007\\Top\\Clips\\Kennard_20231007_HoldTrial077_TopView.avi\n",
      "Duration of video [s]:  8.0 , recorded with  25.0 fps!\n",
      "Overall # of frames:  200  found with (before cropping) frame dimensions:  1280 1331\n",
      "Starting to extract posture\n",
      "Cropping based on the x1 = 0 x2 = 1280 y1 = 0 y2 = 1024. You can adjust the cropping coordinates in the config.yaml file.\n"
     ]
    },
    {
     "name": "stderr",
     "output_type": "stream",
     "text": [
      "100%|██████████| 200/200 [00:08<00:00, 23.65it/s]\n"
     ]
    },
    {
     "name": "stdout",
     "output_type": "stream",
     "text": [
      "Saving results in D:\\YuLab\\Work\\GPS\\Video\\Kennard\\GPS_08_Kornblum1500SRTSelf\\20231007\\Top\\Clips...\n",
      "Saving csv poses!\n",
      "Starting to analyze %  D:\\YuLab\\Work\\GPS\\Video\\Kennard\\GPS_08_Kornblum1500SRTSelf\\20231007\\Top\\Clips\\Kennard_20231007_HoldTrial078_TopView.avi\n",
      "Loading  D:\\YuLab\\Work\\GPS\\Video\\Kennard\\GPS_08_Kornblum1500SRTSelf\\20231007\\Top\\Clips\\Kennard_20231007_HoldTrial078_TopView.avi\n",
      "Duration of video [s]:  8.04 , recorded with  25.0 fps!\n",
      "Overall # of frames:  201  found with (before cropping) frame dimensions:  1280 1331\n",
      "Starting to extract posture\n",
      "Cropping based on the x1 = 0 x2 = 1280 y1 = 0 y2 = 1024. You can adjust the cropping coordinates in the config.yaml file.\n"
     ]
    },
    {
     "name": "stderr",
     "output_type": "stream",
     "text": [
      "100%|██████████| 201/201 [00:08<00:00, 23.03it/s]\n"
     ]
    },
    {
     "name": "stdout",
     "output_type": "stream",
     "text": [
      "Saving results in D:\\YuLab\\Work\\GPS\\Video\\Kennard\\GPS_08_Kornblum1500SRTSelf\\20231007\\Top\\Clips...\n",
      "Saving csv poses!\n",
      "Starting to analyze %  D:\\YuLab\\Work\\GPS\\Video\\Kennard\\GPS_08_Kornblum1500SRTSelf\\20231007\\Top\\Clips\\Kennard_20231007_HoldTrial079_TopView.avi\n",
      "Loading  D:\\YuLab\\Work\\GPS\\Video\\Kennard\\GPS_08_Kornblum1500SRTSelf\\20231007\\Top\\Clips\\Kennard_20231007_HoldTrial079_TopView.avi\n",
      "Duration of video [s]:  8.0 , recorded with  25.0 fps!\n",
      "Overall # of frames:  200  found with (before cropping) frame dimensions:  1280 1331\n",
      "Starting to extract posture\n",
      "Cropping based on the x1 = 0 x2 = 1280 y1 = 0 y2 = 1024. You can adjust the cropping coordinates in the config.yaml file.\n"
     ]
    },
    {
     "name": "stderr",
     "output_type": "stream",
     "text": [
      "100%|██████████| 200/200 [00:08<00:00, 23.73it/s]\n"
     ]
    },
    {
     "name": "stdout",
     "output_type": "stream",
     "text": [
      "Saving results in D:\\YuLab\\Work\\GPS\\Video\\Kennard\\GPS_08_Kornblum1500SRTSelf\\20231007\\Top\\Clips...\n",
      "Saving csv poses!\n",
      "Starting to analyze %  D:\\YuLab\\Work\\GPS\\Video\\Kennard\\GPS_08_Kornblum1500SRTSelf\\20231007\\Top\\Clips\\Kennard_20231007_HoldTrial080_TopView.avi\n",
      "Loading  D:\\YuLab\\Work\\GPS\\Video\\Kennard\\GPS_08_Kornblum1500SRTSelf\\20231007\\Top\\Clips\\Kennard_20231007_HoldTrial080_TopView.avi\n",
      "Duration of video [s]:  8.04 , recorded with  25.0 fps!\n",
      "Overall # of frames:  201  found with (before cropping) frame dimensions:  1280 1331\n",
      "Starting to extract posture\n",
      "Cropping based on the x1 = 0 x2 = 1280 y1 = 0 y2 = 1024. You can adjust the cropping coordinates in the config.yaml file.\n"
     ]
    },
    {
     "name": "stderr",
     "output_type": "stream",
     "text": [
      "100%|██████████| 201/201 [00:08<00:00, 23.04it/s]\n"
     ]
    },
    {
     "name": "stdout",
     "output_type": "stream",
     "text": [
      "Saving results in D:\\YuLab\\Work\\GPS\\Video\\Kennard\\GPS_08_Kornblum1500SRTSelf\\20231007\\Top\\Clips...\n",
      "Saving csv poses!\n",
      "Starting to analyze %  D:\\YuLab\\Work\\GPS\\Video\\Kennard\\GPS_08_Kornblum1500SRTSelf\\20231009\\Top\\Clips\\Kennard_20231009_HoldTrial101_TopView.avi\n",
      "Loading  D:\\YuLab\\Work\\GPS\\Video\\Kennard\\GPS_08_Kornblum1500SRTSelf\\20231009\\Top\\Clips\\Kennard_20231009_HoldTrial101_TopView.avi\n",
      "Duration of video [s]:  8.0 , recorded with  25.0 fps!\n",
      "Overall # of frames:  200  found with (before cropping) frame dimensions:  1280 1331\n",
      "Starting to extract posture\n",
      "Cropping based on the x1 = 0 x2 = 1280 y1 = 0 y2 = 1024. You can adjust the cropping coordinates in the config.yaml file.\n"
     ]
    },
    {
     "name": "stderr",
     "output_type": "stream",
     "text": [
      "100%|██████████| 200/200 [00:08<00:00, 23.64it/s]\n"
     ]
    },
    {
     "name": "stdout",
     "output_type": "stream",
     "text": [
      "Saving results in D:\\YuLab\\Work\\GPS\\Video\\Kennard\\GPS_08_Kornblum1500SRTSelf\\20231009\\Top\\Clips...\n",
      "Saving csv poses!\n",
      "Starting to analyze %  D:\\YuLab\\Work\\GPS\\Video\\Kennard\\GPS_08_Kornblum1500SRTSelf\\20231009\\Top\\Clips\\Kennard_20231009_HoldTrial012_TopView.avi\n",
      "Loading  D:\\YuLab\\Work\\GPS\\Video\\Kennard\\GPS_08_Kornblum1500SRTSelf\\20231009\\Top\\Clips\\Kennard_20231009_HoldTrial012_TopView.avi\n",
      "Duration of video [s]:  8.0 , recorded with  25.0 fps!\n",
      "Overall # of frames:  200  found with (before cropping) frame dimensions:  1280 1331\n",
      "Starting to extract posture\n",
      "Cropping based on the x1 = 0 x2 = 1280 y1 = 0 y2 = 1024. You can adjust the cropping coordinates in the config.yaml file.\n"
     ]
    },
    {
     "name": "stderr",
     "output_type": "stream",
     "text": [
      "100%|██████████| 200/200 [00:08<00:00, 23.60it/s]\n"
     ]
    },
    {
     "name": "stdout",
     "output_type": "stream",
     "text": [
      "Saving results in D:\\YuLab\\Work\\GPS\\Video\\Kennard\\GPS_08_Kornblum1500SRTSelf\\20231009\\Top\\Clips...\n",
      "Saving csv poses!\n",
      "Starting to analyze %  D:\\YuLab\\Work\\GPS\\Video\\Kennard\\GPS_08_Kornblum1500SRTSelf\\20231009\\Top\\Clips\\Kennard_20231009_HoldTrial013_TopView.avi\n",
      "Loading  D:\\YuLab\\Work\\GPS\\Video\\Kennard\\GPS_08_Kornblum1500SRTSelf\\20231009\\Top\\Clips\\Kennard_20231009_HoldTrial013_TopView.avi\n",
      "Duration of video [s]:  8.0 , recorded with  25.0 fps!\n",
      "Overall # of frames:  200  found with (before cropping) frame dimensions:  1280 1331\n",
      "Starting to extract posture\n",
      "Cropping based on the x1 = 0 x2 = 1280 y1 = 0 y2 = 1024. You can adjust the cropping coordinates in the config.yaml file.\n"
     ]
    },
    {
     "name": "stderr",
     "output_type": "stream",
     "text": [
      "100%|██████████| 200/200 [00:08<00:00, 23.66it/s]\n"
     ]
    },
    {
     "name": "stdout",
     "output_type": "stream",
     "text": [
      "Saving results in D:\\YuLab\\Work\\GPS\\Video\\Kennard\\GPS_08_Kornblum1500SRTSelf\\20231009\\Top\\Clips...\n",
      "Saving csv poses!\n",
      "Starting to analyze %  D:\\YuLab\\Work\\GPS\\Video\\Kennard\\GPS_08_Kornblum1500SRTSelf\\20231009\\Top\\Clips\\Kennard_20231009_HoldTrial014_TopView.avi\n",
      "Loading  D:\\YuLab\\Work\\GPS\\Video\\Kennard\\GPS_08_Kornblum1500SRTSelf\\20231009\\Top\\Clips\\Kennard_20231009_HoldTrial014_TopView.avi\n",
      "Duration of video [s]:  8.04 , recorded with  25.0 fps!\n",
      "Overall # of frames:  201  found with (before cropping) frame dimensions:  1280 1331\n",
      "Starting to extract posture\n",
      "Cropping based on the x1 = 0 x2 = 1280 y1 = 0 y2 = 1024. You can adjust the cropping coordinates in the config.yaml file.\n"
     ]
    },
    {
     "name": "stderr",
     "output_type": "stream",
     "text": [
      "100%|██████████| 201/201 [00:08<00:00, 23.09it/s]\n"
     ]
    },
    {
     "name": "stdout",
     "output_type": "stream",
     "text": [
      "Saving results in D:\\YuLab\\Work\\GPS\\Video\\Kennard\\GPS_08_Kornblum1500SRTSelf\\20231009\\Top\\Clips...\n",
      "Saving csv poses!\n",
      "Starting to analyze %  D:\\YuLab\\Work\\GPS\\Video\\Kennard\\GPS_08_Kornblum1500SRTSelf\\20231009\\Top\\Clips\\Kennard_20231009_HoldTrial015_TopView.avi\n",
      "Loading  D:\\YuLab\\Work\\GPS\\Video\\Kennard\\GPS_08_Kornblum1500SRTSelf\\20231009\\Top\\Clips\\Kennard_20231009_HoldTrial015_TopView.avi\n",
      "Duration of video [s]:  8.04 , recorded with  25.0 fps!\n",
      "Overall # of frames:  201  found with (before cropping) frame dimensions:  1280 1331\n",
      "Starting to extract posture\n",
      "Cropping based on the x1 = 0 x2 = 1280 y1 = 0 y2 = 1024. You can adjust the cropping coordinates in the config.yaml file.\n"
     ]
    },
    {
     "name": "stderr",
     "output_type": "stream",
     "text": [
      "100%|██████████| 201/201 [00:08<00:00, 23.06it/s]\n"
     ]
    },
    {
     "name": "stdout",
     "output_type": "stream",
     "text": [
      "Saving results in D:\\YuLab\\Work\\GPS\\Video\\Kennard\\GPS_08_Kornblum1500SRTSelf\\20231009\\Top\\Clips...\n",
      "Saving csv poses!\n",
      "Starting to analyze %  D:\\YuLab\\Work\\GPS\\Video\\Kennard\\GPS_08_Kornblum1500SRTSelf\\20231009\\Top\\Clips\\Kennard_20231009_HoldTrial016_TopView.avi\n",
      "Loading  D:\\YuLab\\Work\\GPS\\Video\\Kennard\\GPS_08_Kornblum1500SRTSelf\\20231009\\Top\\Clips\\Kennard_20231009_HoldTrial016_TopView.avi\n",
      "Duration of video [s]:  8.0 , recorded with  25.0 fps!\n",
      "Overall # of frames:  200  found with (before cropping) frame dimensions:  1280 1331\n",
      "Starting to extract posture\n",
      "Cropping based on the x1 = 0 x2 = 1280 y1 = 0 y2 = 1024. You can adjust the cropping coordinates in the config.yaml file.\n"
     ]
    },
    {
     "name": "stderr",
     "output_type": "stream",
     "text": [
      "100%|██████████| 200/200 [00:08<00:00, 23.71it/s]\n"
     ]
    },
    {
     "name": "stdout",
     "output_type": "stream",
     "text": [
      "Saving results in D:\\YuLab\\Work\\GPS\\Video\\Kennard\\GPS_08_Kornblum1500SRTSelf\\20231009\\Top\\Clips...\n",
      "Saving csv poses!\n",
      "Starting to analyze %  D:\\YuLab\\Work\\GPS\\Video\\Kennard\\GPS_08_Kornblum1500SRTSelf\\20231009\\Top\\Clips\\Kennard_20231009_HoldTrial017_TopView.avi\n",
      "Loading  D:\\YuLab\\Work\\GPS\\Video\\Kennard\\GPS_08_Kornblum1500SRTSelf\\20231009\\Top\\Clips\\Kennard_20231009_HoldTrial017_TopView.avi\n",
      "Duration of video [s]:  8.0 , recorded with  25.0 fps!\n",
      "Overall # of frames:  200  found with (before cropping) frame dimensions:  1280 1331\n",
      "Starting to extract posture\n",
      "Cropping based on the x1 = 0 x2 = 1280 y1 = 0 y2 = 1024. You can adjust the cropping coordinates in the config.yaml file.\n"
     ]
    },
    {
     "name": "stderr",
     "output_type": "stream",
     "text": [
      "100%|██████████| 200/200 [00:08<00:00, 23.69it/s]\n"
     ]
    },
    {
     "name": "stdout",
     "output_type": "stream",
     "text": [
      "Saving results in D:\\YuLab\\Work\\GPS\\Video\\Kennard\\GPS_08_Kornblum1500SRTSelf\\20231009\\Top\\Clips...\n",
      "Saving csv poses!\n",
      "Starting to analyze %  D:\\YuLab\\Work\\GPS\\Video\\Kennard\\GPS_08_Kornblum1500SRTSelf\\20231009\\Top\\Clips\\Kennard_20231009_HoldTrial018_TopView.avi\n",
      "Loading  D:\\YuLab\\Work\\GPS\\Video\\Kennard\\GPS_08_Kornblum1500SRTSelf\\20231009\\Top\\Clips\\Kennard_20231009_HoldTrial018_TopView.avi\n",
      "Duration of video [s]:  8.04 , recorded with  25.0 fps!\n",
      "Overall # of frames:  201  found with (before cropping) frame dimensions:  1280 1331\n",
      "Starting to extract posture\n",
      "Cropping based on the x1 = 0 x2 = 1280 y1 = 0 y2 = 1024. You can adjust the cropping coordinates in the config.yaml file.\n"
     ]
    },
    {
     "name": "stderr",
     "output_type": "stream",
     "text": [
      "100%|██████████| 201/201 [00:08<00:00, 23.13it/s]\n"
     ]
    },
    {
     "name": "stdout",
     "output_type": "stream",
     "text": [
      "Saving results in D:\\YuLab\\Work\\GPS\\Video\\Kennard\\GPS_08_Kornblum1500SRTSelf\\20231009\\Top\\Clips...\n",
      "Saving csv poses!\n",
      "Starting to analyze %  D:\\YuLab\\Work\\GPS\\Video\\Kennard\\GPS_08_Kornblum1500SRTSelf\\20231009\\Top\\Clips\\Kennard_20231009_HoldTrial019_TopView.avi\n",
      "Loading  D:\\YuLab\\Work\\GPS\\Video\\Kennard\\GPS_08_Kornblum1500SRTSelf\\20231009\\Top\\Clips\\Kennard_20231009_HoldTrial019_TopView.avi\n",
      "Duration of video [s]:  8.0 , recorded with  25.0 fps!\n",
      "Overall # of frames:  200  found with (before cropping) frame dimensions:  1280 1331\n",
      "Starting to extract posture\n",
      "Cropping based on the x1 = 0 x2 = 1280 y1 = 0 y2 = 1024. You can adjust the cropping coordinates in the config.yaml file.\n"
     ]
    },
    {
     "name": "stderr",
     "output_type": "stream",
     "text": [
      "100%|██████████| 200/200 [00:08<00:00, 23.77it/s]\n"
     ]
    },
    {
     "name": "stdout",
     "output_type": "stream",
     "text": [
      "Saving results in D:\\YuLab\\Work\\GPS\\Video\\Kennard\\GPS_08_Kornblum1500SRTSelf\\20231009\\Top\\Clips...\n",
      "Saving csv poses!\n",
      "Starting to analyze %  D:\\YuLab\\Work\\GPS\\Video\\Kennard\\GPS_08_Kornblum1500SRTSelf\\20231009\\Top\\Clips\\Kennard_20231009_HoldTrial020_TopView.avi\n",
      "Loading  D:\\YuLab\\Work\\GPS\\Video\\Kennard\\GPS_08_Kornblum1500SRTSelf\\20231009\\Top\\Clips\\Kennard_20231009_HoldTrial020_TopView.avi\n",
      "Duration of video [s]:  8.04 , recorded with  25.0 fps!\n",
      "Overall # of frames:  201  found with (before cropping) frame dimensions:  1280 1331\n",
      "Starting to extract posture\n",
      "Cropping based on the x1 = 0 x2 = 1280 y1 = 0 y2 = 1024. You can adjust the cropping coordinates in the config.yaml file.\n"
     ]
    },
    {
     "name": "stderr",
     "output_type": "stream",
     "text": [
      "100%|██████████| 201/201 [00:08<00:00, 23.08it/s]\n"
     ]
    },
    {
     "name": "stdout",
     "output_type": "stream",
     "text": [
      "Saving results in D:\\YuLab\\Work\\GPS\\Video\\Kennard\\GPS_08_Kornblum1500SRTSelf\\20231009\\Top\\Clips...\n",
      "Saving csv poses!\n",
      "Starting to analyze %  D:\\YuLab\\Work\\GPS\\Video\\Kennard\\GPS_08_Kornblum1500SRTSelf\\20231009\\Top\\Clips\\Kennard_20231009_HoldTrial021_TopView.avi\n",
      "Loading  D:\\YuLab\\Work\\GPS\\Video\\Kennard\\GPS_08_Kornblum1500SRTSelf\\20231009\\Top\\Clips\\Kennard_20231009_HoldTrial021_TopView.avi\n",
      "Duration of video [s]:  8.0 , recorded with  25.0 fps!\n",
      "Overall # of frames:  200  found with (before cropping) frame dimensions:  1280 1331\n",
      "Starting to extract posture\n",
      "Cropping based on the x1 = 0 x2 = 1280 y1 = 0 y2 = 1024. You can adjust the cropping coordinates in the config.yaml file.\n"
     ]
    },
    {
     "name": "stderr",
     "output_type": "stream",
     "text": [
      "100%|██████████| 200/200 [00:08<00:00, 23.69it/s]\n"
     ]
    },
    {
     "name": "stdout",
     "output_type": "stream",
     "text": [
      "Saving results in D:\\YuLab\\Work\\GPS\\Video\\Kennard\\GPS_08_Kornblum1500SRTSelf\\20231009\\Top\\Clips...\n",
      "Saving csv poses!\n",
      "Starting to analyze %  D:\\YuLab\\Work\\GPS\\Video\\Kennard\\GPS_08_Kornblum1500SRTSelf\\20231009\\Top\\Clips\\Kennard_20231009_HoldTrial022_TopView.avi\n",
      "Loading  D:\\YuLab\\Work\\GPS\\Video\\Kennard\\GPS_08_Kornblum1500SRTSelf\\20231009\\Top\\Clips\\Kennard_20231009_HoldTrial022_TopView.avi\n",
      "Duration of video [s]:  8.04 , recorded with  25.0 fps!\n",
      "Overall # of frames:  201  found with (before cropping) frame dimensions:  1280 1331\n",
      "Starting to extract posture\n",
      "Cropping based on the x1 = 0 x2 = 1280 y1 = 0 y2 = 1024. You can adjust the cropping coordinates in the config.yaml file.\n"
     ]
    },
    {
     "name": "stderr",
     "output_type": "stream",
     "text": [
      "100%|██████████| 201/201 [00:08<00:00, 23.02it/s]\n"
     ]
    },
    {
     "name": "stdout",
     "output_type": "stream",
     "text": [
      "Saving results in D:\\YuLab\\Work\\GPS\\Video\\Kennard\\GPS_08_Kornblum1500SRTSelf\\20231009\\Top\\Clips...\n",
      "Saving csv poses!\n",
      "Starting to analyze %  D:\\YuLab\\Work\\GPS\\Video\\Kennard\\GPS_08_Kornblum1500SRTSelf\\20231009\\Top\\Clips\\Kennard_20231009_HoldTrial023_TopView.avi\n",
      "Loading  D:\\YuLab\\Work\\GPS\\Video\\Kennard\\GPS_08_Kornblum1500SRTSelf\\20231009\\Top\\Clips\\Kennard_20231009_HoldTrial023_TopView.avi\n",
      "Duration of video [s]:  8.04 , recorded with  25.0 fps!\n",
      "Overall # of frames:  201  found with (before cropping) frame dimensions:  1280 1331\n",
      "Starting to extract posture\n",
      "Cropping based on the x1 = 0 x2 = 1280 y1 = 0 y2 = 1024. You can adjust the cropping coordinates in the config.yaml file.\n"
     ]
    },
    {
     "name": "stderr",
     "output_type": "stream",
     "text": [
      "100%|██████████| 201/201 [00:08<00:00, 23.00it/s]\n"
     ]
    },
    {
     "name": "stdout",
     "output_type": "stream",
     "text": [
      "Saving results in D:\\YuLab\\Work\\GPS\\Video\\Kennard\\GPS_08_Kornblum1500SRTSelf\\20231009\\Top\\Clips...\n",
      "Saving csv poses!\n",
      "Starting to analyze %  D:\\YuLab\\Work\\GPS\\Video\\Kennard\\GPS_08_Kornblum1500SRTSelf\\20231009\\Top\\Clips\\Kennard_20231009_HoldTrial024_TopView.avi\n",
      "Loading  D:\\YuLab\\Work\\GPS\\Video\\Kennard\\GPS_08_Kornblum1500SRTSelf\\20231009\\Top\\Clips\\Kennard_20231009_HoldTrial024_TopView.avi\n",
      "Duration of video [s]:  8.0 , recorded with  25.0 fps!\n",
      "Overall # of frames:  200  found with (before cropping) frame dimensions:  1280 1331\n",
      "Starting to extract posture\n",
      "Cropping based on the x1 = 0 x2 = 1280 y1 = 0 y2 = 1024. You can adjust the cropping coordinates in the config.yaml file.\n"
     ]
    },
    {
     "name": "stderr",
     "output_type": "stream",
     "text": [
      "100%|██████████| 200/200 [00:08<00:00, 23.64it/s]\n"
     ]
    },
    {
     "name": "stdout",
     "output_type": "stream",
     "text": [
      "Saving results in D:\\YuLab\\Work\\GPS\\Video\\Kennard\\GPS_08_Kornblum1500SRTSelf\\20231009\\Top\\Clips...\n",
      "Saving csv poses!\n",
      "Starting to analyze %  D:\\YuLab\\Work\\GPS\\Video\\Kennard\\GPS_08_Kornblum1500SRTSelf\\20231009\\Top\\Clips\\Kennard_20231009_HoldTrial025_TopView.avi\n",
      "Loading  D:\\YuLab\\Work\\GPS\\Video\\Kennard\\GPS_08_Kornblum1500SRTSelf\\20231009\\Top\\Clips\\Kennard_20231009_HoldTrial025_TopView.avi\n",
      "Duration of video [s]:  8.0 , recorded with  25.0 fps!\n",
      "Overall # of frames:  200  found with (before cropping) frame dimensions:  1280 1331\n",
      "Starting to extract posture\n",
      "Cropping based on the x1 = 0 x2 = 1280 y1 = 0 y2 = 1024. You can adjust the cropping coordinates in the config.yaml file.\n"
     ]
    },
    {
     "name": "stderr",
     "output_type": "stream",
     "text": [
      "100%|██████████| 200/200 [00:08<00:00, 23.66it/s]\n"
     ]
    },
    {
     "name": "stdout",
     "output_type": "stream",
     "text": [
      "Saving results in D:\\YuLab\\Work\\GPS\\Video\\Kennard\\GPS_08_Kornblum1500SRTSelf\\20231009\\Top\\Clips...\n",
      "Saving csv poses!\n",
      "Starting to analyze %  D:\\YuLab\\Work\\GPS\\Video\\Kennard\\GPS_08_Kornblum1500SRTSelf\\20231009\\Top\\Clips\\Kennard_20231009_HoldTrial026_TopView.avi\n",
      "Loading  D:\\YuLab\\Work\\GPS\\Video\\Kennard\\GPS_08_Kornblum1500SRTSelf\\20231009\\Top\\Clips\\Kennard_20231009_HoldTrial026_TopView.avi\n",
      "Duration of video [s]:  8.04 , recorded with  25.0 fps!\n",
      "Overall # of frames:  201  found with (before cropping) frame dimensions:  1280 1331\n",
      "Starting to extract posture\n",
      "Cropping based on the x1 = 0 x2 = 1280 y1 = 0 y2 = 1024. You can adjust the cropping coordinates in the config.yaml file.\n"
     ]
    },
    {
     "name": "stderr",
     "output_type": "stream",
     "text": [
      "100%|██████████| 201/201 [00:08<00:00, 23.02it/s]\n"
     ]
    },
    {
     "name": "stdout",
     "output_type": "stream",
     "text": [
      "Saving results in D:\\YuLab\\Work\\GPS\\Video\\Kennard\\GPS_08_Kornblum1500SRTSelf\\20231009\\Top\\Clips...\n",
      "Saving csv poses!\n",
      "Starting to analyze %  D:\\YuLab\\Work\\GPS\\Video\\Kennard\\GPS_08_Kornblum1500SRTSelf\\20231009\\Top\\Clips\\Kennard_20231009_HoldTrial027_TopView.avi\n",
      "Loading  D:\\YuLab\\Work\\GPS\\Video\\Kennard\\GPS_08_Kornblum1500SRTSelf\\20231009\\Top\\Clips\\Kennard_20231009_HoldTrial027_TopView.avi\n",
      "Duration of video [s]:  8.04 , recorded with  25.0 fps!\n",
      "Overall # of frames:  201  found with (before cropping) frame dimensions:  1280 1331\n",
      "Starting to extract posture\n",
      "Cropping based on the x1 = 0 x2 = 1280 y1 = 0 y2 = 1024. You can adjust the cropping coordinates in the config.yaml file.\n"
     ]
    },
    {
     "name": "stderr",
     "output_type": "stream",
     "text": [
      "100%|██████████| 201/201 [00:08<00:00, 23.04it/s]\n"
     ]
    },
    {
     "name": "stdout",
     "output_type": "stream",
     "text": [
      "Saving results in D:\\YuLab\\Work\\GPS\\Video\\Kennard\\GPS_08_Kornblum1500SRTSelf\\20231009\\Top\\Clips...\n",
      "Saving csv poses!\n",
      "Starting to analyze %  D:\\YuLab\\Work\\GPS\\Video\\Kennard\\GPS_08_Kornblum1500SRTSelf\\20231009\\Top\\Clips\\Kennard_20231009_HoldTrial028_TopView.avi\n",
      "Loading  D:\\YuLab\\Work\\GPS\\Video\\Kennard\\GPS_08_Kornblum1500SRTSelf\\20231009\\Top\\Clips\\Kennard_20231009_HoldTrial028_TopView.avi\n",
      "Duration of video [s]:  8.04 , recorded with  25.0 fps!\n",
      "Overall # of frames:  201  found with (before cropping) frame dimensions:  1280 1331\n",
      "Starting to extract posture\n",
      "Cropping based on the x1 = 0 x2 = 1280 y1 = 0 y2 = 1024. You can adjust the cropping coordinates in the config.yaml file.\n"
     ]
    },
    {
     "name": "stderr",
     "output_type": "stream",
     "text": [
      "100%|██████████| 201/201 [00:08<00:00, 22.99it/s]\n"
     ]
    },
    {
     "name": "stdout",
     "output_type": "stream",
     "text": [
      "Saving results in D:\\YuLab\\Work\\GPS\\Video\\Kennard\\GPS_08_Kornblum1500SRTSelf\\20231009\\Top\\Clips...\n",
      "Saving csv poses!\n",
      "Starting to analyze %  D:\\YuLab\\Work\\GPS\\Video\\Kennard\\GPS_08_Kornblum1500SRTSelf\\20231009\\Top\\Clips\\Kennard_20231009_HoldTrial029_TopView.avi\n",
      "Loading  D:\\YuLab\\Work\\GPS\\Video\\Kennard\\GPS_08_Kornblum1500SRTSelf\\20231009\\Top\\Clips\\Kennard_20231009_HoldTrial029_TopView.avi\n",
      "Duration of video [s]:  8.04 , recorded with  25.0 fps!\n",
      "Overall # of frames:  201  found with (before cropping) frame dimensions:  1280 1331\n",
      "Starting to extract posture\n",
      "Cropping based on the x1 = 0 x2 = 1280 y1 = 0 y2 = 1024. You can adjust the cropping coordinates in the config.yaml file.\n"
     ]
    },
    {
     "name": "stderr",
     "output_type": "stream",
     "text": [
      "100%|██████████| 201/201 [00:08<00:00, 23.05it/s]\n"
     ]
    },
    {
     "name": "stdout",
     "output_type": "stream",
     "text": [
      "Saving results in D:\\YuLab\\Work\\GPS\\Video\\Kennard\\GPS_08_Kornblum1500SRTSelf\\20231009\\Top\\Clips...\n",
      "Saving csv poses!\n",
      "Starting to analyze %  D:\\YuLab\\Work\\GPS\\Video\\Kennard\\GPS_08_Kornblum1500SRTSelf\\20231009\\Top\\Clips\\Kennard_20231009_HoldTrial030_TopView.avi\n",
      "Loading  D:\\YuLab\\Work\\GPS\\Video\\Kennard\\GPS_08_Kornblum1500SRTSelf\\20231009\\Top\\Clips\\Kennard_20231009_HoldTrial030_TopView.avi\n",
      "Duration of video [s]:  8.04 , recorded with  25.0 fps!\n",
      "Overall # of frames:  201  found with (before cropping) frame dimensions:  1280 1331\n",
      "Starting to extract posture\n",
      "Cropping based on the x1 = 0 x2 = 1280 y1 = 0 y2 = 1024. You can adjust the cropping coordinates in the config.yaml file.\n"
     ]
    },
    {
     "name": "stderr",
     "output_type": "stream",
     "text": [
      "100%|██████████| 201/201 [00:08<00:00, 22.99it/s]\n"
     ]
    },
    {
     "name": "stdout",
     "output_type": "stream",
     "text": [
      "Saving results in D:\\YuLab\\Work\\GPS\\Video\\Kennard\\GPS_08_Kornblum1500SRTSelf\\20231009\\Top\\Clips...\n",
      "Saving csv poses!\n",
      "Starting to analyze %  D:\\YuLab\\Work\\GPS\\Video\\Kennard\\GPS_08_Kornblum1500SRTSelf\\20231009\\Top\\Clips\\Kennard_20231009_HoldTrial031_TopView.avi\n",
      "Loading  D:\\YuLab\\Work\\GPS\\Video\\Kennard\\GPS_08_Kornblum1500SRTSelf\\20231009\\Top\\Clips\\Kennard_20231009_HoldTrial031_TopView.avi\n",
      "Duration of video [s]:  8.0 , recorded with  25.0 fps!\n",
      "Overall # of frames:  200  found with (before cropping) frame dimensions:  1280 1331\n",
      "Starting to extract posture\n",
      "Cropping based on the x1 = 0 x2 = 1280 y1 = 0 y2 = 1024. You can adjust the cropping coordinates in the config.yaml file.\n"
     ]
    },
    {
     "name": "stderr",
     "output_type": "stream",
     "text": [
      "100%|██████████| 200/200 [00:08<00:00, 23.70it/s]\n"
     ]
    },
    {
     "name": "stdout",
     "output_type": "stream",
     "text": [
      "Saving results in D:\\YuLab\\Work\\GPS\\Video\\Kennard\\GPS_08_Kornblum1500SRTSelf\\20231009\\Top\\Clips...\n",
      "Saving csv poses!\n",
      "Starting to analyze %  D:\\YuLab\\Work\\GPS\\Video\\Kennard\\GPS_08_Kornblum1500SRTSelf\\20231009\\Top\\Clips\\Kennard_20231009_HoldTrial032_TopView.avi\n",
      "Loading  D:\\YuLab\\Work\\GPS\\Video\\Kennard\\GPS_08_Kornblum1500SRTSelf\\20231009\\Top\\Clips\\Kennard_20231009_HoldTrial032_TopView.avi\n",
      "Duration of video [s]:  8.04 , recorded with  25.0 fps!\n",
      "Overall # of frames:  201  found with (before cropping) frame dimensions:  1280 1331\n",
      "Starting to extract posture\n",
      "Cropping based on the x1 = 0 x2 = 1280 y1 = 0 y2 = 1024. You can adjust the cropping coordinates in the config.yaml file.\n"
     ]
    },
    {
     "name": "stderr",
     "output_type": "stream",
     "text": [
      "100%|██████████| 201/201 [00:08<00:00, 23.02it/s]\n"
     ]
    },
    {
     "name": "stdout",
     "output_type": "stream",
     "text": [
      "Saving results in D:\\YuLab\\Work\\GPS\\Video\\Kennard\\GPS_08_Kornblum1500SRTSelf\\20231009\\Top\\Clips...\n",
      "Saving csv poses!\n",
      "Starting to analyze %  D:\\YuLab\\Work\\GPS\\Video\\Kennard\\GPS_08_Kornblum1500SRTSelf\\20231009\\Top\\Clips\\Kennard_20231009_HoldTrial033_TopView.avi\n",
      "Loading  D:\\YuLab\\Work\\GPS\\Video\\Kennard\\GPS_08_Kornblum1500SRTSelf\\20231009\\Top\\Clips\\Kennard_20231009_HoldTrial033_TopView.avi\n",
      "Duration of video [s]:  8.0 , recorded with  25.0 fps!\n",
      "Overall # of frames:  200  found with (before cropping) frame dimensions:  1280 1331\n",
      "Starting to extract posture\n",
      "Cropping based on the x1 = 0 x2 = 1280 y1 = 0 y2 = 1024. You can adjust the cropping coordinates in the config.yaml file.\n"
     ]
    },
    {
     "name": "stderr",
     "output_type": "stream",
     "text": [
      "100%|██████████| 200/200 [00:08<00:00, 23.66it/s]\n"
     ]
    },
    {
     "name": "stdout",
     "output_type": "stream",
     "text": [
      "Saving results in D:\\YuLab\\Work\\GPS\\Video\\Kennard\\GPS_08_Kornblum1500SRTSelf\\20231009\\Top\\Clips...\n",
      "Saving csv poses!\n",
      "Starting to analyze %  D:\\YuLab\\Work\\GPS\\Video\\Kennard\\GPS_08_Kornblum1500SRTSelf\\20231009\\Top\\Clips\\Kennard_20231009_HoldTrial034_TopView.avi\n",
      "Loading  D:\\YuLab\\Work\\GPS\\Video\\Kennard\\GPS_08_Kornblum1500SRTSelf\\20231009\\Top\\Clips\\Kennard_20231009_HoldTrial034_TopView.avi\n",
      "Duration of video [s]:  8.04 , recorded with  25.0 fps!\n",
      "Overall # of frames:  201  found with (before cropping) frame dimensions:  1280 1331\n",
      "Starting to extract posture\n",
      "Cropping based on the x1 = 0 x2 = 1280 y1 = 0 y2 = 1024. You can adjust the cropping coordinates in the config.yaml file.\n"
     ]
    },
    {
     "name": "stderr",
     "output_type": "stream",
     "text": [
      "100%|██████████| 201/201 [00:08<00:00, 22.95it/s]\n"
     ]
    },
    {
     "name": "stdout",
     "output_type": "stream",
     "text": [
      "Saving results in D:\\YuLab\\Work\\GPS\\Video\\Kennard\\GPS_08_Kornblum1500SRTSelf\\20231009\\Top\\Clips...\n",
      "Saving csv poses!\n",
      "Starting to analyze %  D:\\YuLab\\Work\\GPS\\Video\\Kennard\\GPS_08_Kornblum1500SRTSelf\\20231009\\Top\\Clips\\Kennard_20231009_HoldTrial035_TopView.avi\n",
      "Loading  D:\\YuLab\\Work\\GPS\\Video\\Kennard\\GPS_08_Kornblum1500SRTSelf\\20231009\\Top\\Clips\\Kennard_20231009_HoldTrial035_TopView.avi\n",
      "Duration of video [s]:  8.0 , recorded with  25.0 fps!\n",
      "Overall # of frames:  200  found with (before cropping) frame dimensions:  1280 1331\n",
      "Starting to extract posture\n",
      "Cropping based on the x1 = 0 x2 = 1280 y1 = 0 y2 = 1024. You can adjust the cropping coordinates in the config.yaml file.\n"
     ]
    },
    {
     "name": "stderr",
     "output_type": "stream",
     "text": [
      "100%|██████████| 200/200 [00:08<00:00, 23.69it/s]\n"
     ]
    },
    {
     "name": "stdout",
     "output_type": "stream",
     "text": [
      "Saving results in D:\\YuLab\\Work\\GPS\\Video\\Kennard\\GPS_08_Kornblum1500SRTSelf\\20231009\\Top\\Clips...\n",
      "Saving csv poses!\n",
      "Starting to analyze %  D:\\YuLab\\Work\\GPS\\Video\\Kennard\\GPS_08_Kornblum1500SRTSelf\\20231009\\Top\\Clips\\Kennard_20231009_HoldTrial036_TopView.avi\n",
      "Loading  D:\\YuLab\\Work\\GPS\\Video\\Kennard\\GPS_08_Kornblum1500SRTSelf\\20231009\\Top\\Clips\\Kennard_20231009_HoldTrial036_TopView.avi\n",
      "Duration of video [s]:  8.0 , recorded with  25.0 fps!\n",
      "Overall # of frames:  200  found with (before cropping) frame dimensions:  1280 1331\n",
      "Starting to extract posture\n",
      "Cropping based on the x1 = 0 x2 = 1280 y1 = 0 y2 = 1024. You can adjust the cropping coordinates in the config.yaml file.\n"
     ]
    },
    {
     "name": "stderr",
     "output_type": "stream",
     "text": [
      "100%|██████████| 200/200 [00:08<00:00, 23.70it/s]\n"
     ]
    },
    {
     "name": "stdout",
     "output_type": "stream",
     "text": [
      "Saving results in D:\\YuLab\\Work\\GPS\\Video\\Kennard\\GPS_08_Kornblum1500SRTSelf\\20231009\\Top\\Clips...\n",
      "Saving csv poses!\n",
      "Starting to analyze %  D:\\YuLab\\Work\\GPS\\Video\\Kennard\\GPS_08_Kornblum1500SRTSelf\\20231009\\Top\\Clips\\Kennard_20231009_HoldTrial037_TopView.avi\n",
      "Loading  D:\\YuLab\\Work\\GPS\\Video\\Kennard\\GPS_08_Kornblum1500SRTSelf\\20231009\\Top\\Clips\\Kennard_20231009_HoldTrial037_TopView.avi\n",
      "Duration of video [s]:  8.0 , recorded with  25.0 fps!\n",
      "Overall # of frames:  200  found with (before cropping) frame dimensions:  1280 1331\n",
      "Starting to extract posture\n",
      "Cropping based on the x1 = 0 x2 = 1280 y1 = 0 y2 = 1024. You can adjust the cropping coordinates in the config.yaml file.\n"
     ]
    },
    {
     "name": "stderr",
     "output_type": "stream",
     "text": [
      "100%|██████████| 200/200 [00:08<00:00, 23.69it/s]\n"
     ]
    },
    {
     "name": "stdout",
     "output_type": "stream",
     "text": [
      "Saving results in D:\\YuLab\\Work\\GPS\\Video\\Kennard\\GPS_08_Kornblum1500SRTSelf\\20231009\\Top\\Clips...\n",
      "Saving csv poses!\n",
      "Starting to analyze %  D:\\YuLab\\Work\\GPS\\Video\\Kennard\\GPS_08_Kornblum1500SRTSelf\\20231009\\Top\\Clips\\Kennard_20231009_HoldTrial038_TopView.avi\n",
      "Loading  D:\\YuLab\\Work\\GPS\\Video\\Kennard\\GPS_08_Kornblum1500SRTSelf\\20231009\\Top\\Clips\\Kennard_20231009_HoldTrial038_TopView.avi\n",
      "Duration of video [s]:  8.04 , recorded with  25.0 fps!\n",
      "Overall # of frames:  201  found with (before cropping) frame dimensions:  1280 1331\n",
      "Starting to extract posture\n",
      "Cropping based on the x1 = 0 x2 = 1280 y1 = 0 y2 = 1024. You can adjust the cropping coordinates in the config.yaml file.\n"
     ]
    },
    {
     "name": "stderr",
     "output_type": "stream",
     "text": [
      "100%|██████████| 201/201 [00:08<00:00, 23.04it/s]\n"
     ]
    },
    {
     "name": "stdout",
     "output_type": "stream",
     "text": [
      "Saving results in D:\\YuLab\\Work\\GPS\\Video\\Kennard\\GPS_08_Kornblum1500SRTSelf\\20231009\\Top\\Clips...\n",
      "Saving csv poses!\n",
      "Starting to analyze %  D:\\YuLab\\Work\\GPS\\Video\\Kennard\\GPS_08_Kornblum1500SRTSelf\\20231009\\Top\\Clips\\Kennard_20231009_HoldTrial039_TopView.avi\n",
      "Loading  D:\\YuLab\\Work\\GPS\\Video\\Kennard\\GPS_08_Kornblum1500SRTSelf\\20231009\\Top\\Clips\\Kennard_20231009_HoldTrial039_TopView.avi\n",
      "Duration of video [s]:  8.04 , recorded with  25.0 fps!\n",
      "Overall # of frames:  201  found with (before cropping) frame dimensions:  1280 1331\n",
      "Starting to extract posture\n",
      "Cropping based on the x1 = 0 x2 = 1280 y1 = 0 y2 = 1024. You can adjust the cropping coordinates in the config.yaml file.\n"
     ]
    },
    {
     "name": "stderr",
     "output_type": "stream",
     "text": [
      "100%|██████████| 201/201 [00:08<00:00, 22.97it/s]\n"
     ]
    },
    {
     "name": "stdout",
     "output_type": "stream",
     "text": [
      "Saving results in D:\\YuLab\\Work\\GPS\\Video\\Kennard\\GPS_08_Kornblum1500SRTSelf\\20231009\\Top\\Clips...\n",
      "Saving csv poses!\n",
      "Starting to analyze %  D:\\YuLab\\Work\\GPS\\Video\\Kennard\\GPS_08_Kornblum1500SRTSelf\\20231009\\Top\\Clips\\Kennard_20231009_HoldTrial040_TopView.avi\n",
      "Loading  D:\\YuLab\\Work\\GPS\\Video\\Kennard\\GPS_08_Kornblum1500SRTSelf\\20231009\\Top\\Clips\\Kennard_20231009_HoldTrial040_TopView.avi\n",
      "Duration of video [s]:  8.04 , recorded with  25.0 fps!\n",
      "Overall # of frames:  201  found with (before cropping) frame dimensions:  1280 1331\n",
      "Starting to extract posture\n",
      "Cropping based on the x1 = 0 x2 = 1280 y1 = 0 y2 = 1024. You can adjust the cropping coordinates in the config.yaml file.\n"
     ]
    },
    {
     "name": "stderr",
     "output_type": "stream",
     "text": [
      "100%|██████████| 201/201 [00:08<00:00, 23.05it/s]\n"
     ]
    },
    {
     "name": "stdout",
     "output_type": "stream",
     "text": [
      "Saving results in D:\\YuLab\\Work\\GPS\\Video\\Kennard\\GPS_08_Kornblum1500SRTSelf\\20231009\\Top\\Clips...\n",
      "Saving csv poses!\n",
      "Starting to analyze %  D:\\YuLab\\Work\\GPS\\Video\\Kennard\\GPS_08_Kornblum1500SRTSelf\\20231009\\Top\\Clips\\Kennard_20231009_HoldTrial041_TopView.avi\n",
      "Loading  D:\\YuLab\\Work\\GPS\\Video\\Kennard\\GPS_08_Kornblum1500SRTSelf\\20231009\\Top\\Clips\\Kennard_20231009_HoldTrial041_TopView.avi\n",
      "Duration of video [s]:  8.0 , recorded with  25.0 fps!\n",
      "Overall # of frames:  200  found with (before cropping) frame dimensions:  1280 1331\n",
      "Starting to extract posture\n",
      "Cropping based on the x1 = 0 x2 = 1280 y1 = 0 y2 = 1024. You can adjust the cropping coordinates in the config.yaml file.\n"
     ]
    },
    {
     "name": "stderr",
     "output_type": "stream",
     "text": [
      "100%|██████████| 200/200 [00:08<00:00, 23.70it/s]\n"
     ]
    },
    {
     "name": "stdout",
     "output_type": "stream",
     "text": [
      "Saving results in D:\\YuLab\\Work\\GPS\\Video\\Kennard\\GPS_08_Kornblum1500SRTSelf\\20231009\\Top\\Clips...\n",
      "Saving csv poses!\n",
      "Starting to analyze %  D:\\YuLab\\Work\\GPS\\Video\\Kennard\\GPS_08_Kornblum1500SRTSelf\\20231009\\Top\\Clips\\Kennard_20231009_HoldTrial042_TopView.avi\n",
      "Loading  D:\\YuLab\\Work\\GPS\\Video\\Kennard\\GPS_08_Kornblum1500SRTSelf\\20231009\\Top\\Clips\\Kennard_20231009_HoldTrial042_TopView.avi\n",
      "Duration of video [s]:  8.04 , recorded with  25.0 fps!\n",
      "Overall # of frames:  201  found with (before cropping) frame dimensions:  1280 1331\n",
      "Starting to extract posture\n",
      "Cropping based on the x1 = 0 x2 = 1280 y1 = 0 y2 = 1024. You can adjust the cropping coordinates in the config.yaml file.\n"
     ]
    },
    {
     "name": "stderr",
     "output_type": "stream",
     "text": [
      "100%|██████████| 201/201 [00:08<00:00, 23.06it/s]\n"
     ]
    },
    {
     "name": "stdout",
     "output_type": "stream",
     "text": [
      "Saving results in D:\\YuLab\\Work\\GPS\\Video\\Kennard\\GPS_08_Kornblum1500SRTSelf\\20231009\\Top\\Clips...\n",
      "Saving csv poses!\n",
      "Starting to analyze %  D:\\YuLab\\Work\\GPS\\Video\\Kennard\\GPS_08_Kornblum1500SRTSelf\\20231009\\Top\\Clips\\Kennard_20231009_HoldTrial043_TopView.avi\n",
      "Loading  D:\\YuLab\\Work\\GPS\\Video\\Kennard\\GPS_08_Kornblum1500SRTSelf\\20231009\\Top\\Clips\\Kennard_20231009_HoldTrial043_TopView.avi\n",
      "Duration of video [s]:  8.04 , recorded with  25.0 fps!\n",
      "Overall # of frames:  201  found with (before cropping) frame dimensions:  1280 1331\n",
      "Starting to extract posture\n",
      "Cropping based on the x1 = 0 x2 = 1280 y1 = 0 y2 = 1024. You can adjust the cropping coordinates in the config.yaml file.\n"
     ]
    },
    {
     "name": "stderr",
     "output_type": "stream",
     "text": [
      "100%|██████████| 201/201 [00:08<00:00, 23.03it/s]\n"
     ]
    },
    {
     "name": "stdout",
     "output_type": "stream",
     "text": [
      "Saving results in D:\\YuLab\\Work\\GPS\\Video\\Kennard\\GPS_08_Kornblum1500SRTSelf\\20231009\\Top\\Clips...\n",
      "Saving csv poses!\n",
      "Starting to analyze %  D:\\YuLab\\Work\\GPS\\Video\\Kennard\\GPS_08_Kornblum1500SRTSelf\\20231009\\Top\\Clips\\Kennard_20231009_HoldTrial044_TopView.avi\n",
      "Loading  D:\\YuLab\\Work\\GPS\\Video\\Kennard\\GPS_08_Kornblum1500SRTSelf\\20231009\\Top\\Clips\\Kennard_20231009_HoldTrial044_TopView.avi\n",
      "Duration of video [s]:  8.04 , recorded with  25.0 fps!\n",
      "Overall # of frames:  201  found with (before cropping) frame dimensions:  1280 1331\n",
      "Starting to extract posture\n",
      "Cropping based on the x1 = 0 x2 = 1280 y1 = 0 y2 = 1024. You can adjust the cropping coordinates in the config.yaml file.\n"
     ]
    },
    {
     "name": "stderr",
     "output_type": "stream",
     "text": [
      "100%|██████████| 201/201 [00:08<00:00, 23.03it/s]\n"
     ]
    },
    {
     "name": "stdout",
     "output_type": "stream",
     "text": [
      "Saving results in D:\\YuLab\\Work\\GPS\\Video\\Kennard\\GPS_08_Kornblum1500SRTSelf\\20231009\\Top\\Clips...\n",
      "Saving csv poses!\n",
      "Starting to analyze %  D:\\YuLab\\Work\\GPS\\Video\\Kennard\\GPS_08_Kornblum1500SRTSelf\\20231009\\Top\\Clips\\Kennard_20231009_HoldTrial045_TopView.avi\n",
      "Loading  D:\\YuLab\\Work\\GPS\\Video\\Kennard\\GPS_08_Kornblum1500SRTSelf\\20231009\\Top\\Clips\\Kennard_20231009_HoldTrial045_TopView.avi\n",
      "Duration of video [s]:  8.0 , recorded with  25.0 fps!\n",
      "Overall # of frames:  200  found with (before cropping) frame dimensions:  1280 1331\n",
      "Starting to extract posture\n",
      "Cropping based on the x1 = 0 x2 = 1280 y1 = 0 y2 = 1024. You can adjust the cropping coordinates in the config.yaml file.\n"
     ]
    },
    {
     "name": "stderr",
     "output_type": "stream",
     "text": [
      "100%|██████████| 200/200 [00:08<00:00, 23.64it/s]\n"
     ]
    },
    {
     "name": "stdout",
     "output_type": "stream",
     "text": [
      "Saving results in D:\\YuLab\\Work\\GPS\\Video\\Kennard\\GPS_08_Kornblum1500SRTSelf\\20231009\\Top\\Clips...\n",
      "Saving csv poses!\n",
      "Starting to analyze %  D:\\YuLab\\Work\\GPS\\Video\\Kennard\\GPS_08_Kornblum1500SRTSelf\\20231009\\Top\\Clips\\Kennard_20231009_HoldTrial046_TopView.avi\n",
      "Loading  D:\\YuLab\\Work\\GPS\\Video\\Kennard\\GPS_08_Kornblum1500SRTSelf\\20231009\\Top\\Clips\\Kennard_20231009_HoldTrial046_TopView.avi\n",
      "Duration of video [s]:  8.04 , recorded with  25.0 fps!\n",
      "Overall # of frames:  201  found with (before cropping) frame dimensions:  1280 1331\n",
      "Starting to extract posture\n",
      "Cropping based on the x1 = 0 x2 = 1280 y1 = 0 y2 = 1024. You can adjust the cropping coordinates in the config.yaml file.\n"
     ]
    },
    {
     "name": "stderr",
     "output_type": "stream",
     "text": [
      "100%|██████████| 201/201 [00:08<00:00, 23.67it/s]\n"
     ]
    },
    {
     "name": "stdout",
     "output_type": "stream",
     "text": [
      "Saving results in D:\\YuLab\\Work\\GPS\\Video\\Kennard\\GPS_08_Kornblum1500SRTSelf\\20231009\\Top\\Clips...\n",
      "Saving csv poses!\n",
      "Starting to analyze %  D:\\YuLab\\Work\\GPS\\Video\\Kennard\\GPS_08_Kornblum1500SRTSelf\\20231009\\Top\\Clips\\Kennard_20231009_HoldTrial047_TopView.avi\n",
      "Loading  D:\\YuLab\\Work\\GPS\\Video\\Kennard\\GPS_08_Kornblum1500SRTSelf\\20231009\\Top\\Clips\\Kennard_20231009_HoldTrial047_TopView.avi\n",
      "Duration of video [s]:  8.04 , recorded with  25.0 fps!\n",
      "Overall # of frames:  201  found with (before cropping) frame dimensions:  1280 1331\n",
      "Starting to extract posture\n",
      "Cropping based on the x1 = 0 x2 = 1280 y1 = 0 y2 = 1024. You can adjust the cropping coordinates in the config.yaml file.\n"
     ]
    },
    {
     "name": "stderr",
     "output_type": "stream",
     "text": [
      "100%|██████████| 201/201 [00:08<00:00, 23.70it/s]\n"
     ]
    },
    {
     "name": "stdout",
     "output_type": "stream",
     "text": [
      "Saving results in D:\\YuLab\\Work\\GPS\\Video\\Kennard\\GPS_08_Kornblum1500SRTSelf\\20231009\\Top\\Clips...\n",
      "Saving csv poses!\n",
      "Starting to analyze %  D:\\YuLab\\Work\\GPS\\Video\\Kennard\\GPS_08_Kornblum1500SRTSelf\\20231009\\Top\\Clips\\Kennard_20231009_HoldTrial048_TopView.avi\n",
      "Loading  D:\\YuLab\\Work\\GPS\\Video\\Kennard\\GPS_08_Kornblum1500SRTSelf\\20231009\\Top\\Clips\\Kennard_20231009_HoldTrial048_TopView.avi\n",
      "Duration of video [s]:  8.04 , recorded with  25.0 fps!\n",
      "Overall # of frames:  201  found with (before cropping) frame dimensions:  1280 1331\n",
      "Starting to extract posture\n",
      "Cropping based on the x1 = 0 x2 = 1280 y1 = 0 y2 = 1024. You can adjust the cropping coordinates in the config.yaml file.\n"
     ]
    },
    {
     "name": "stderr",
     "output_type": "stream",
     "text": [
      "100%|██████████| 201/201 [00:08<00:00, 23.72it/s]\n"
     ]
    },
    {
     "name": "stdout",
     "output_type": "stream",
     "text": [
      "Saving results in D:\\YuLab\\Work\\GPS\\Video\\Kennard\\GPS_08_Kornblum1500SRTSelf\\20231009\\Top\\Clips...\n",
      "Saving csv poses!\n",
      "Starting to analyze %  D:\\YuLab\\Work\\GPS\\Video\\Kennard\\GPS_08_Kornblum1500SRTSelf\\20231009\\Top\\Clips\\Kennard_20231009_HoldTrial049_TopView.avi\n",
      "Loading  D:\\YuLab\\Work\\GPS\\Video\\Kennard\\GPS_08_Kornblum1500SRTSelf\\20231009\\Top\\Clips\\Kennard_20231009_HoldTrial049_TopView.avi\n",
      "Duration of video [s]:  8.0 , recorded with  25.0 fps!\n",
      "Overall # of frames:  200  found with (before cropping) frame dimensions:  1280 1331\n",
      "Starting to extract posture\n",
      "Cropping based on the x1 = 0 x2 = 1280 y1 = 0 y2 = 1024. You can adjust the cropping coordinates in the config.yaml file.\n"
     ]
    },
    {
     "name": "stderr",
     "output_type": "stream",
     "text": [
      "100%|██████████| 200/200 [00:08<00:00, 24.39it/s]\n"
     ]
    },
    {
     "name": "stdout",
     "output_type": "stream",
     "text": [
      "Saving results in D:\\YuLab\\Work\\GPS\\Video\\Kennard\\GPS_08_Kornblum1500SRTSelf\\20231009\\Top\\Clips...\n",
      "Saving csv poses!\n",
      "Starting to analyze %  D:\\YuLab\\Work\\GPS\\Video\\Kennard\\GPS_08_Kornblum1500SRTSelf\\20231009\\Top\\Clips\\Kennard_20231009_HoldTrial050_TopView.avi\n",
      "Loading  D:\\YuLab\\Work\\GPS\\Video\\Kennard\\GPS_08_Kornblum1500SRTSelf\\20231009\\Top\\Clips\\Kennard_20231009_HoldTrial050_TopView.avi\n",
      "Duration of video [s]:  8.04 , recorded with  25.0 fps!\n",
      "Overall # of frames:  201  found with (before cropping) frame dimensions:  1280 1331\n",
      "Starting to extract posture\n",
      "Cropping based on the x1 = 0 x2 = 1280 y1 = 0 y2 = 1024. You can adjust the cropping coordinates in the config.yaml file.\n"
     ]
    },
    {
     "name": "stderr",
     "output_type": "stream",
     "text": [
      "100%|██████████| 201/201 [00:08<00:00, 23.69it/s]\n"
     ]
    },
    {
     "name": "stdout",
     "output_type": "stream",
     "text": [
      "Saving results in D:\\YuLab\\Work\\GPS\\Video\\Kennard\\GPS_08_Kornblum1500SRTSelf\\20231009\\Top\\Clips...\n",
      "Saving csv poses!\n",
      "Starting to analyze %  D:\\YuLab\\Work\\GPS\\Video\\Kennard\\GPS_08_Kornblum1500SRTSelf\\20231009\\Top\\Clips\\Kennard_20231009_HoldTrial051_TopView.avi\n",
      "Loading  D:\\YuLab\\Work\\GPS\\Video\\Kennard\\GPS_08_Kornblum1500SRTSelf\\20231009\\Top\\Clips\\Kennard_20231009_HoldTrial051_TopView.avi\n",
      "Duration of video [s]:  8.0 , recorded with  25.0 fps!\n",
      "Overall # of frames:  200  found with (before cropping) frame dimensions:  1280 1331\n",
      "Starting to extract posture\n",
      "Cropping based on the x1 = 0 x2 = 1280 y1 = 0 y2 = 1024. You can adjust the cropping coordinates in the config.yaml file.\n"
     ]
    },
    {
     "name": "stderr",
     "output_type": "stream",
     "text": [
      "100%|██████████| 200/200 [00:08<00:00, 24.35it/s]\n"
     ]
    },
    {
     "name": "stdout",
     "output_type": "stream",
     "text": [
      "Saving results in D:\\YuLab\\Work\\GPS\\Video\\Kennard\\GPS_08_Kornblum1500SRTSelf\\20231009\\Top\\Clips...\n",
      "Saving csv poses!\n",
      "Starting to analyze %  D:\\YuLab\\Work\\GPS\\Video\\Kennard\\GPS_08_Kornblum1500SRTSelf\\20231009\\Top\\Clips\\Kennard_20231009_HoldTrial052_TopView.avi\n",
      "Loading  D:\\YuLab\\Work\\GPS\\Video\\Kennard\\GPS_08_Kornblum1500SRTSelf\\20231009\\Top\\Clips\\Kennard_20231009_HoldTrial052_TopView.avi\n",
      "Duration of video [s]:  8.04 , recorded with  25.0 fps!\n",
      "Overall # of frames:  201  found with (before cropping) frame dimensions:  1280 1331\n",
      "Starting to extract posture\n",
      "Cropping based on the x1 = 0 x2 = 1280 y1 = 0 y2 = 1024. You can adjust the cropping coordinates in the config.yaml file.\n"
     ]
    },
    {
     "name": "stderr",
     "output_type": "stream",
     "text": [
      "100%|██████████| 201/201 [00:08<00:00, 23.74it/s]\n"
     ]
    },
    {
     "name": "stdout",
     "output_type": "stream",
     "text": [
      "Saving results in D:\\YuLab\\Work\\GPS\\Video\\Kennard\\GPS_08_Kornblum1500SRTSelf\\20231009\\Top\\Clips...\n",
      "Saving csv poses!\n",
      "Starting to analyze %  D:\\YuLab\\Work\\GPS\\Video\\Kennard\\GPS_08_Kornblum1500SRTSelf\\20231009\\Top\\Clips\\Kennard_20231009_HoldTrial053_TopView.avi\n",
      "Loading  D:\\YuLab\\Work\\GPS\\Video\\Kennard\\GPS_08_Kornblum1500SRTSelf\\20231009\\Top\\Clips\\Kennard_20231009_HoldTrial053_TopView.avi\n",
      "Duration of video [s]:  8.04 , recorded with  25.0 fps!\n",
      "Overall # of frames:  201  found with (before cropping) frame dimensions:  1280 1331\n",
      "Starting to extract posture\n",
      "Cropping based on the x1 = 0 x2 = 1280 y1 = 0 y2 = 1024. You can adjust the cropping coordinates in the config.yaml file.\n"
     ]
    },
    {
     "name": "stderr",
     "output_type": "stream",
     "text": [
      "100%|██████████| 201/201 [00:08<00:00, 23.71it/s]\n"
     ]
    },
    {
     "name": "stdout",
     "output_type": "stream",
     "text": [
      "Saving results in D:\\YuLab\\Work\\GPS\\Video\\Kennard\\GPS_08_Kornblum1500SRTSelf\\20231009\\Top\\Clips...\n",
      "Saving csv poses!\n",
      "Starting to analyze %  D:\\YuLab\\Work\\GPS\\Video\\Kennard\\GPS_08_Kornblum1500SRTSelf\\20231009\\Top\\Clips\\Kennard_20231009_HoldTrial054_TopView.avi\n",
      "Loading  D:\\YuLab\\Work\\GPS\\Video\\Kennard\\GPS_08_Kornblum1500SRTSelf\\20231009\\Top\\Clips\\Kennard_20231009_HoldTrial054_TopView.avi\n",
      "Duration of video [s]:  8.04 , recorded with  25.0 fps!\n",
      "Overall # of frames:  201  found with (before cropping) frame dimensions:  1280 1331\n",
      "Starting to extract posture\n",
      "Cropping based on the x1 = 0 x2 = 1280 y1 = 0 y2 = 1024. You can adjust the cropping coordinates in the config.yaml file.\n"
     ]
    },
    {
     "name": "stderr",
     "output_type": "stream",
     "text": [
      "100%|██████████| 201/201 [00:08<00:00, 23.73it/s]\n"
     ]
    },
    {
     "name": "stdout",
     "output_type": "stream",
     "text": [
      "Saving results in D:\\YuLab\\Work\\GPS\\Video\\Kennard\\GPS_08_Kornblum1500SRTSelf\\20231009\\Top\\Clips...\n",
      "Saving csv poses!\n",
      "Starting to analyze %  D:\\YuLab\\Work\\GPS\\Video\\Kennard\\GPS_08_Kornblum1500SRTSelf\\20231009\\Top\\Clips\\Kennard_20231009_HoldTrial055_TopView.avi\n",
      "Loading  D:\\YuLab\\Work\\GPS\\Video\\Kennard\\GPS_08_Kornblum1500SRTSelf\\20231009\\Top\\Clips\\Kennard_20231009_HoldTrial055_TopView.avi\n",
      "Duration of video [s]:  8.04 , recorded with  25.0 fps!\n",
      "Overall # of frames:  201  found with (before cropping) frame dimensions:  1280 1331\n",
      "Starting to extract posture\n",
      "Cropping based on the x1 = 0 x2 = 1280 y1 = 0 y2 = 1024. You can adjust the cropping coordinates in the config.yaml file.\n"
     ]
    },
    {
     "name": "stderr",
     "output_type": "stream",
     "text": [
      "100%|██████████| 201/201 [00:08<00:00, 23.69it/s]\n"
     ]
    },
    {
     "name": "stdout",
     "output_type": "stream",
     "text": [
      "Saving results in D:\\YuLab\\Work\\GPS\\Video\\Kennard\\GPS_08_Kornblum1500SRTSelf\\20231009\\Top\\Clips...\n",
      "Saving csv poses!\n",
      "Starting to analyze %  D:\\YuLab\\Work\\GPS\\Video\\Kennard\\GPS_08_Kornblum1500SRTSelf\\20231009\\Top\\Clips\\Kennard_20231009_HoldTrial056_TopView.avi\n",
      "Loading  D:\\YuLab\\Work\\GPS\\Video\\Kennard\\GPS_08_Kornblum1500SRTSelf\\20231009\\Top\\Clips\\Kennard_20231009_HoldTrial056_TopView.avi\n",
      "Duration of video [s]:  8.0 , recorded with  25.0 fps!\n",
      "Overall # of frames:  200  found with (before cropping) frame dimensions:  1280 1331\n",
      "Starting to extract posture\n",
      "Cropping based on the x1 = 0 x2 = 1280 y1 = 0 y2 = 1024. You can adjust the cropping coordinates in the config.yaml file.\n"
     ]
    },
    {
     "name": "stderr",
     "output_type": "stream",
     "text": [
      "100%|██████████| 200/200 [00:08<00:00, 24.36it/s]\n"
     ]
    },
    {
     "name": "stdout",
     "output_type": "stream",
     "text": [
      "Saving results in D:\\YuLab\\Work\\GPS\\Video\\Kennard\\GPS_08_Kornblum1500SRTSelf\\20231009\\Top\\Clips...\n",
      "Saving csv poses!\n",
      "Starting to analyze %  D:\\YuLab\\Work\\GPS\\Video\\Kennard\\GPS_08_Kornblum1500SRTSelf\\20231009\\Top\\Clips\\Kennard_20231009_HoldTrial057_TopView.avi\n",
      "Loading  D:\\YuLab\\Work\\GPS\\Video\\Kennard\\GPS_08_Kornblum1500SRTSelf\\20231009\\Top\\Clips\\Kennard_20231009_HoldTrial057_TopView.avi\n",
      "Duration of video [s]:  8.04 , recorded with  25.0 fps!\n",
      "Overall # of frames:  201  found with (before cropping) frame dimensions:  1280 1331\n",
      "Starting to extract posture\n",
      "Cropping based on the x1 = 0 x2 = 1280 y1 = 0 y2 = 1024. You can adjust the cropping coordinates in the config.yaml file.\n"
     ]
    },
    {
     "name": "stderr",
     "output_type": "stream",
     "text": [
      "100%|██████████| 201/201 [00:08<00:00, 23.73it/s]\n"
     ]
    },
    {
     "name": "stdout",
     "output_type": "stream",
     "text": [
      "Saving results in D:\\YuLab\\Work\\GPS\\Video\\Kennard\\GPS_08_Kornblum1500SRTSelf\\20231009\\Top\\Clips...\n",
      "Saving csv poses!\n",
      "Starting to analyze %  D:\\YuLab\\Work\\GPS\\Video\\Kennard\\GPS_08_Kornblum1500SRTSelf\\20231009\\Top\\Clips\\Kennard_20231009_HoldTrial058_TopView.avi\n",
      "Loading  D:\\YuLab\\Work\\GPS\\Video\\Kennard\\GPS_08_Kornblum1500SRTSelf\\20231009\\Top\\Clips\\Kennard_20231009_HoldTrial058_TopView.avi\n",
      "Duration of video [s]:  8.04 , recorded with  25.0 fps!\n",
      "Overall # of frames:  201  found with (before cropping) frame dimensions:  1280 1331\n",
      "Starting to extract posture\n",
      "Cropping based on the x1 = 0 x2 = 1280 y1 = 0 y2 = 1024. You can adjust the cropping coordinates in the config.yaml file.\n"
     ]
    },
    {
     "name": "stderr",
     "output_type": "stream",
     "text": [
      "100%|██████████| 201/201 [00:08<00:00, 23.69it/s]\n"
     ]
    },
    {
     "name": "stdout",
     "output_type": "stream",
     "text": [
      "Saving results in D:\\YuLab\\Work\\GPS\\Video\\Kennard\\GPS_08_Kornblum1500SRTSelf\\20231009\\Top\\Clips...\n",
      "Saving csv poses!\n",
      "Starting to analyze %  D:\\YuLab\\Work\\GPS\\Video\\Kennard\\GPS_08_Kornblum1500SRTSelf\\20231009\\Top\\Clips\\Kennard_20231009_HoldTrial059_TopView.avi\n",
      "Loading  D:\\YuLab\\Work\\GPS\\Video\\Kennard\\GPS_08_Kornblum1500SRTSelf\\20231009\\Top\\Clips\\Kennard_20231009_HoldTrial059_TopView.avi\n",
      "Duration of video [s]:  8.0 , recorded with  25.0 fps!\n",
      "Overall # of frames:  200  found with (before cropping) frame dimensions:  1280 1331\n",
      "Starting to extract posture\n",
      "Cropping based on the x1 = 0 x2 = 1280 y1 = 0 y2 = 1024. You can adjust the cropping coordinates in the config.yaml file.\n"
     ]
    },
    {
     "name": "stderr",
     "output_type": "stream",
     "text": [
      "100%|██████████| 200/200 [00:08<00:00, 24.35it/s]\n"
     ]
    },
    {
     "name": "stdout",
     "output_type": "stream",
     "text": [
      "Saving results in D:\\YuLab\\Work\\GPS\\Video\\Kennard\\GPS_08_Kornblum1500SRTSelf\\20231009\\Top\\Clips...\n",
      "Saving csv poses!\n",
      "Starting to analyze %  D:\\YuLab\\Work\\GPS\\Video\\Kennard\\GPS_08_Kornblum1500SRTSelf\\20231009\\Top\\Clips\\Kennard_20231009_HoldTrial060_TopView.avi\n",
      "Loading  D:\\YuLab\\Work\\GPS\\Video\\Kennard\\GPS_08_Kornblum1500SRTSelf\\20231009\\Top\\Clips\\Kennard_20231009_HoldTrial060_TopView.avi\n",
      "Duration of video [s]:  8.04 , recorded with  25.0 fps!\n",
      "Overall # of frames:  201  found with (before cropping) frame dimensions:  1280 1331\n",
      "Starting to extract posture\n",
      "Cropping based on the x1 = 0 x2 = 1280 y1 = 0 y2 = 1024. You can adjust the cropping coordinates in the config.yaml file.\n"
     ]
    },
    {
     "name": "stderr",
     "output_type": "stream",
     "text": [
      "100%|██████████| 201/201 [00:08<00:00, 23.72it/s]\n"
     ]
    },
    {
     "name": "stdout",
     "output_type": "stream",
     "text": [
      "Saving results in D:\\YuLab\\Work\\GPS\\Video\\Kennard\\GPS_08_Kornblum1500SRTSelf\\20231009\\Top\\Clips...\n",
      "Saving csv poses!\n",
      "Starting to analyze %  D:\\YuLab\\Work\\GPS\\Video\\Kennard\\GPS_08_Kornblum1500SRTSelf\\20231009\\Top\\Clips\\Kennard_20231009_HoldTrial061_TopView.avi\n",
      "Loading  D:\\YuLab\\Work\\GPS\\Video\\Kennard\\GPS_08_Kornblum1500SRTSelf\\20231009\\Top\\Clips\\Kennard_20231009_HoldTrial061_TopView.avi\n",
      "Duration of video [s]:  8.0 , recorded with  25.0 fps!\n",
      "Overall # of frames:  200  found with (before cropping) frame dimensions:  1280 1331\n",
      "Starting to extract posture\n",
      "Cropping based on the x1 = 0 x2 = 1280 y1 = 0 y2 = 1024. You can adjust the cropping coordinates in the config.yaml file.\n"
     ]
    },
    {
     "name": "stderr",
     "output_type": "stream",
     "text": [
      "100%|██████████| 200/200 [00:08<00:00, 24.32it/s]\n"
     ]
    },
    {
     "name": "stdout",
     "output_type": "stream",
     "text": [
      "Saving results in D:\\YuLab\\Work\\GPS\\Video\\Kennard\\GPS_08_Kornblum1500SRTSelf\\20231009\\Top\\Clips...\n",
      "Saving csv poses!\n",
      "Starting to analyze %  D:\\YuLab\\Work\\GPS\\Video\\Kennard\\GPS_08_Kornblum1500SRTSelf\\20231009\\Top\\Clips\\Kennard_20231009_HoldTrial062_TopView.avi\n",
      "Loading  D:\\YuLab\\Work\\GPS\\Video\\Kennard\\GPS_08_Kornblum1500SRTSelf\\20231009\\Top\\Clips\\Kennard_20231009_HoldTrial062_TopView.avi\n",
      "Duration of video [s]:  8.0 , recorded with  25.0 fps!\n",
      "Overall # of frames:  200  found with (before cropping) frame dimensions:  1280 1331\n",
      "Starting to extract posture\n",
      "Cropping based on the x1 = 0 x2 = 1280 y1 = 0 y2 = 1024. You can adjust the cropping coordinates in the config.yaml file.\n"
     ]
    },
    {
     "name": "stderr",
     "output_type": "stream",
     "text": [
      "100%|██████████| 200/200 [00:08<00:00, 24.35it/s]\n"
     ]
    },
    {
     "name": "stdout",
     "output_type": "stream",
     "text": [
      "Saving results in D:\\YuLab\\Work\\GPS\\Video\\Kennard\\GPS_08_Kornblum1500SRTSelf\\20231009\\Top\\Clips...\n",
      "Saving csv poses!\n",
      "Starting to analyze %  D:\\YuLab\\Work\\GPS\\Video\\Kennard\\GPS_08_Kornblum1500SRTSelf\\20231009\\Top\\Clips\\Kennard_20231009_HoldTrial063_TopView.avi\n",
      "Loading  D:\\YuLab\\Work\\GPS\\Video\\Kennard\\GPS_08_Kornblum1500SRTSelf\\20231009\\Top\\Clips\\Kennard_20231009_HoldTrial063_TopView.avi\n",
      "Duration of video [s]:  8.0 , recorded with  25.0 fps!\n",
      "Overall # of frames:  200  found with (before cropping) frame dimensions:  1280 1331\n",
      "Starting to extract posture\n",
      "Cropping based on the x1 = 0 x2 = 1280 y1 = 0 y2 = 1024. You can adjust the cropping coordinates in the config.yaml file.\n"
     ]
    },
    {
     "name": "stderr",
     "output_type": "stream",
     "text": [
      "100%|██████████| 200/200 [00:08<00:00, 24.37it/s]\n"
     ]
    },
    {
     "name": "stdout",
     "output_type": "stream",
     "text": [
      "Saving results in D:\\YuLab\\Work\\GPS\\Video\\Kennard\\GPS_08_Kornblum1500SRTSelf\\20231009\\Top\\Clips...\n",
      "Saving csv poses!\n",
      "Starting to analyze %  D:\\YuLab\\Work\\GPS\\Video\\Kennard\\GPS_08_Kornblum1500SRTSelf\\20231009\\Top\\Clips\\Kennard_20231009_HoldTrial064_TopView.avi\n",
      "Loading  D:\\YuLab\\Work\\GPS\\Video\\Kennard\\GPS_08_Kornblum1500SRTSelf\\20231009\\Top\\Clips\\Kennard_20231009_HoldTrial064_TopView.avi\n",
      "Duration of video [s]:  8.04 , recorded with  25.0 fps!\n",
      "Overall # of frames:  201  found with (before cropping) frame dimensions:  1280 1331\n",
      "Starting to extract posture\n",
      "Cropping based on the x1 = 0 x2 = 1280 y1 = 0 y2 = 1024. You can adjust the cropping coordinates in the config.yaml file.\n"
     ]
    },
    {
     "name": "stderr",
     "output_type": "stream",
     "text": [
      "100%|██████████| 201/201 [00:08<00:00, 23.71it/s]\n"
     ]
    },
    {
     "name": "stdout",
     "output_type": "stream",
     "text": [
      "Saving results in D:\\YuLab\\Work\\GPS\\Video\\Kennard\\GPS_08_Kornblum1500SRTSelf\\20231009\\Top\\Clips...\n",
      "Saving csv poses!\n",
      "Starting to analyze %  D:\\YuLab\\Work\\GPS\\Video\\Kennard\\GPS_08_Kornblum1500SRTSelf\\20231009\\Top\\Clips\\Kennard_20231009_HoldTrial065_TopView.avi\n",
      "Loading  D:\\YuLab\\Work\\GPS\\Video\\Kennard\\GPS_08_Kornblum1500SRTSelf\\20231009\\Top\\Clips\\Kennard_20231009_HoldTrial065_TopView.avi\n",
      "Duration of video [s]:  8.0 , recorded with  25.0 fps!\n",
      "Overall # of frames:  200  found with (before cropping) frame dimensions:  1280 1331\n",
      "Starting to extract posture\n",
      "Cropping based on the x1 = 0 x2 = 1280 y1 = 0 y2 = 1024. You can adjust the cropping coordinates in the config.yaml file.\n"
     ]
    },
    {
     "name": "stderr",
     "output_type": "stream",
     "text": [
      "100%|██████████| 200/200 [00:08<00:00, 24.34it/s]\n"
     ]
    },
    {
     "name": "stdout",
     "output_type": "stream",
     "text": [
      "Saving results in D:\\YuLab\\Work\\GPS\\Video\\Kennard\\GPS_08_Kornblum1500SRTSelf\\20231009\\Top\\Clips...\n",
      "Saving csv poses!\n",
      "Starting to analyze %  D:\\YuLab\\Work\\GPS\\Video\\Kennard\\GPS_08_Kornblum1500SRTSelf\\20231009\\Top\\Clips\\Kennard_20231009_HoldTrial066_TopView.avi\n",
      "Loading  D:\\YuLab\\Work\\GPS\\Video\\Kennard\\GPS_08_Kornblum1500SRTSelf\\20231009\\Top\\Clips\\Kennard_20231009_HoldTrial066_TopView.avi\n",
      "Duration of video [s]:  8.04 , recorded with  25.0 fps!\n",
      "Overall # of frames:  201  found with (before cropping) frame dimensions:  1280 1331\n",
      "Starting to extract posture\n",
      "Cropping based on the x1 = 0 x2 = 1280 y1 = 0 y2 = 1024. You can adjust the cropping coordinates in the config.yaml file.\n"
     ]
    },
    {
     "name": "stderr",
     "output_type": "stream",
     "text": [
      "100%|██████████| 201/201 [00:08<00:00, 23.69it/s]\n"
     ]
    },
    {
     "name": "stdout",
     "output_type": "stream",
     "text": [
      "Saving results in D:\\YuLab\\Work\\GPS\\Video\\Kennard\\GPS_08_Kornblum1500SRTSelf\\20231009\\Top\\Clips...\n",
      "Saving csv poses!\n",
      "Starting to analyze %  D:\\YuLab\\Work\\GPS\\Video\\Kennard\\GPS_08_Kornblum1500SRTSelf\\20231009\\Top\\Clips\\Kennard_20231009_HoldTrial067_TopView.avi\n",
      "Loading  D:\\YuLab\\Work\\GPS\\Video\\Kennard\\GPS_08_Kornblum1500SRTSelf\\20231009\\Top\\Clips\\Kennard_20231009_HoldTrial067_TopView.avi\n",
      "Duration of video [s]:  8.04 , recorded with  25.0 fps!\n",
      "Overall # of frames:  201  found with (before cropping) frame dimensions:  1280 1331\n",
      "Starting to extract posture\n",
      "Cropping based on the x1 = 0 x2 = 1280 y1 = 0 y2 = 1024. You can adjust the cropping coordinates in the config.yaml file.\n"
     ]
    },
    {
     "name": "stderr",
     "output_type": "stream",
     "text": [
      "100%|██████████| 201/201 [00:08<00:00, 23.69it/s]\n"
     ]
    },
    {
     "name": "stdout",
     "output_type": "stream",
     "text": [
      "Saving results in D:\\YuLab\\Work\\GPS\\Video\\Kennard\\GPS_08_Kornblum1500SRTSelf\\20231009\\Top\\Clips...\n",
      "Saving csv poses!\n",
      "Starting to analyze %  D:\\YuLab\\Work\\GPS\\Video\\Kennard\\GPS_08_Kornblum1500SRTSelf\\20231009\\Top\\Clips\\Kennard_20231009_HoldTrial068_TopView.avi\n",
      "Loading  D:\\YuLab\\Work\\GPS\\Video\\Kennard\\GPS_08_Kornblum1500SRTSelf\\20231009\\Top\\Clips\\Kennard_20231009_HoldTrial068_TopView.avi\n",
      "Duration of video [s]:  8.0 , recorded with  25.0 fps!\n",
      "Overall # of frames:  200  found with (before cropping) frame dimensions:  1280 1331\n",
      "Starting to extract posture\n",
      "Cropping based on the x1 = 0 x2 = 1280 y1 = 0 y2 = 1024. You can adjust the cropping coordinates in the config.yaml file.\n"
     ]
    },
    {
     "name": "stderr",
     "output_type": "stream",
     "text": [
      "100%|██████████| 200/200 [00:08<00:00, 24.33it/s]\n"
     ]
    },
    {
     "name": "stdout",
     "output_type": "stream",
     "text": [
      "Saving results in D:\\YuLab\\Work\\GPS\\Video\\Kennard\\GPS_08_Kornblum1500SRTSelf\\20231009\\Top\\Clips...\n",
      "Saving csv poses!\n",
      "Starting to analyze %  D:\\YuLab\\Work\\GPS\\Video\\Kennard\\GPS_08_Kornblum1500SRTSelf\\20231009\\Top\\Clips\\Kennard_20231009_HoldTrial069_TopView.avi\n",
      "Loading  D:\\YuLab\\Work\\GPS\\Video\\Kennard\\GPS_08_Kornblum1500SRTSelf\\20231009\\Top\\Clips\\Kennard_20231009_HoldTrial069_TopView.avi\n",
      "Duration of video [s]:  8.04 , recorded with  25.0 fps!\n",
      "Overall # of frames:  201  found with (before cropping) frame dimensions:  1280 1331\n",
      "Starting to extract posture\n",
      "Cropping based on the x1 = 0 x2 = 1280 y1 = 0 y2 = 1024. You can adjust the cropping coordinates in the config.yaml file.\n"
     ]
    },
    {
     "name": "stderr",
     "output_type": "stream",
     "text": [
      "100%|██████████| 201/201 [00:08<00:00, 23.69it/s]\n"
     ]
    },
    {
     "name": "stdout",
     "output_type": "stream",
     "text": [
      "Saving results in D:\\YuLab\\Work\\GPS\\Video\\Kennard\\GPS_08_Kornblum1500SRTSelf\\20231009\\Top\\Clips...\n",
      "Saving csv poses!\n",
      "Starting to analyze %  D:\\YuLab\\Work\\GPS\\Video\\Kennard\\GPS_08_Kornblum1500SRTSelf\\20231009\\Top\\Clips\\Kennard_20231009_HoldTrial070_TopView.avi\n",
      "Loading  D:\\YuLab\\Work\\GPS\\Video\\Kennard\\GPS_08_Kornblum1500SRTSelf\\20231009\\Top\\Clips\\Kennard_20231009_HoldTrial070_TopView.avi\n",
      "Duration of video [s]:  8.0 , recorded with  25.0 fps!\n",
      "Overall # of frames:  200  found with (before cropping) frame dimensions:  1280 1331\n",
      "Starting to extract posture\n",
      "Cropping based on the x1 = 0 x2 = 1280 y1 = 0 y2 = 1024. You can adjust the cropping coordinates in the config.yaml file.\n"
     ]
    },
    {
     "name": "stderr",
     "output_type": "stream",
     "text": [
      "100%|██████████| 200/200 [00:08<00:00, 24.32it/s]\n"
     ]
    },
    {
     "name": "stdout",
     "output_type": "stream",
     "text": [
      "Saving results in D:\\YuLab\\Work\\GPS\\Video\\Kennard\\GPS_08_Kornblum1500SRTSelf\\20231009\\Top\\Clips...\n",
      "Saving csv poses!\n",
      "Starting to analyze %  D:\\YuLab\\Work\\GPS\\Video\\Kennard\\GPS_08_Kornblum1500SRTSelf\\20231009\\Top\\Clips\\Kennard_20231009_HoldTrial071_TopView.avi\n",
      "Loading  D:\\YuLab\\Work\\GPS\\Video\\Kennard\\GPS_08_Kornblum1500SRTSelf\\20231009\\Top\\Clips\\Kennard_20231009_HoldTrial071_TopView.avi\n",
      "Duration of video [s]:  8.04 , recorded with  25.0 fps!\n",
      "Overall # of frames:  201  found with (before cropping) frame dimensions:  1280 1331\n",
      "Starting to extract posture\n",
      "Cropping based on the x1 = 0 x2 = 1280 y1 = 0 y2 = 1024. You can adjust the cropping coordinates in the config.yaml file.\n"
     ]
    },
    {
     "name": "stderr",
     "output_type": "stream",
     "text": [
      "100%|██████████| 201/201 [00:08<00:00, 23.69it/s]\n"
     ]
    },
    {
     "name": "stdout",
     "output_type": "stream",
     "text": [
      "Saving results in D:\\YuLab\\Work\\GPS\\Video\\Kennard\\GPS_08_Kornblum1500SRTSelf\\20231009\\Top\\Clips...\n",
      "Saving csv poses!\n",
      "Starting to analyze %  D:\\YuLab\\Work\\GPS\\Video\\Kennard\\GPS_08_Kornblum1500SRTSelf\\20231009\\Top\\Clips\\Kennard_20231009_HoldTrial072_TopView.avi\n",
      "Loading  D:\\YuLab\\Work\\GPS\\Video\\Kennard\\GPS_08_Kornblum1500SRTSelf\\20231009\\Top\\Clips\\Kennard_20231009_HoldTrial072_TopView.avi\n",
      "Duration of video [s]:  8.0 , recorded with  25.0 fps!\n",
      "Overall # of frames:  200  found with (before cropping) frame dimensions:  1280 1331\n",
      "Starting to extract posture\n",
      "Cropping based on the x1 = 0 x2 = 1280 y1 = 0 y2 = 1024. You can adjust the cropping coordinates in the config.yaml file.\n"
     ]
    },
    {
     "name": "stderr",
     "output_type": "stream",
     "text": [
      "100%|██████████| 200/200 [00:08<00:00, 24.30it/s]\n"
     ]
    },
    {
     "name": "stdout",
     "output_type": "stream",
     "text": [
      "Saving results in D:\\YuLab\\Work\\GPS\\Video\\Kennard\\GPS_08_Kornblum1500SRTSelf\\20231009\\Top\\Clips...\n",
      "Saving csv poses!\n",
      "Starting to analyze %  D:\\YuLab\\Work\\GPS\\Video\\Kennard\\GPS_08_Kornblum1500SRTSelf\\20231009\\Top\\Clips\\Kennard_20231009_HoldTrial073_TopView.avi\n",
      "Loading  D:\\YuLab\\Work\\GPS\\Video\\Kennard\\GPS_08_Kornblum1500SRTSelf\\20231009\\Top\\Clips\\Kennard_20231009_HoldTrial073_TopView.avi\n",
      "Duration of video [s]:  8.0 , recorded with  25.0 fps!\n",
      "Overall # of frames:  200  found with (before cropping) frame dimensions:  1280 1331\n",
      "Starting to extract posture\n",
      "Cropping based on the x1 = 0 x2 = 1280 y1 = 0 y2 = 1024. You can adjust the cropping coordinates in the config.yaml file.\n"
     ]
    },
    {
     "name": "stderr",
     "output_type": "stream",
     "text": [
      "100%|██████████| 200/200 [00:08<00:00, 24.31it/s]\n"
     ]
    },
    {
     "name": "stdout",
     "output_type": "stream",
     "text": [
      "Saving results in D:\\YuLab\\Work\\GPS\\Video\\Kennard\\GPS_08_Kornblum1500SRTSelf\\20231009\\Top\\Clips...\n",
      "Saving csv poses!\n",
      "Starting to analyze %  D:\\YuLab\\Work\\GPS\\Video\\Kennard\\GPS_08_Kornblum1500SRTSelf\\20231009\\Top\\Clips\\Kennard_20231009_HoldTrial074_TopView.avi\n",
      "Loading  D:\\YuLab\\Work\\GPS\\Video\\Kennard\\GPS_08_Kornblum1500SRTSelf\\20231009\\Top\\Clips\\Kennard_20231009_HoldTrial074_TopView.avi\n",
      "Duration of video [s]:  8.04 , recorded with  25.0 fps!\n",
      "Overall # of frames:  201  found with (before cropping) frame dimensions:  1280 1331\n",
      "Starting to extract posture\n",
      "Cropping based on the x1 = 0 x2 = 1280 y1 = 0 y2 = 1024. You can adjust the cropping coordinates in the config.yaml file.\n"
     ]
    },
    {
     "name": "stderr",
     "output_type": "stream",
     "text": [
      "100%|██████████| 201/201 [00:08<00:00, 23.66it/s]\n"
     ]
    },
    {
     "name": "stdout",
     "output_type": "stream",
     "text": [
      "Saving results in D:\\YuLab\\Work\\GPS\\Video\\Kennard\\GPS_08_Kornblum1500SRTSelf\\20231009\\Top\\Clips...\n",
      "Saving csv poses!\n",
      "Starting to analyze %  D:\\YuLab\\Work\\GPS\\Video\\Kennard\\GPS_08_Kornblum1500SRTSelf\\20231009\\Top\\Clips\\Kennard_20231009_HoldTrial075_TopView.avi\n",
      "Loading  D:\\YuLab\\Work\\GPS\\Video\\Kennard\\GPS_08_Kornblum1500SRTSelf\\20231009\\Top\\Clips\\Kennard_20231009_HoldTrial075_TopView.avi\n",
      "Duration of video [s]:  8.04 , recorded with  25.0 fps!\n",
      "Overall # of frames:  201  found with (before cropping) frame dimensions:  1280 1331\n",
      "Starting to extract posture\n",
      "Cropping based on the x1 = 0 x2 = 1280 y1 = 0 y2 = 1024. You can adjust the cropping coordinates in the config.yaml file.\n"
     ]
    },
    {
     "name": "stderr",
     "output_type": "stream",
     "text": [
      "100%|██████████| 201/201 [00:08<00:00, 23.67it/s]\n"
     ]
    },
    {
     "name": "stdout",
     "output_type": "stream",
     "text": [
      "Saving results in D:\\YuLab\\Work\\GPS\\Video\\Kennard\\GPS_08_Kornblum1500SRTSelf\\20231009\\Top\\Clips...\n",
      "Saving csv poses!\n",
      "Starting to analyze %  D:\\YuLab\\Work\\GPS\\Video\\Kennard\\GPS_08_Kornblum1500SRTSelf\\20231009\\Top\\Clips\\Kennard_20231009_HoldTrial076_TopView.avi\n",
      "Loading  D:\\YuLab\\Work\\GPS\\Video\\Kennard\\GPS_08_Kornblum1500SRTSelf\\20231009\\Top\\Clips\\Kennard_20231009_HoldTrial076_TopView.avi\n",
      "Duration of video [s]:  8.04 , recorded with  25.0 fps!\n",
      "Overall # of frames:  201  found with (before cropping) frame dimensions:  1280 1331\n",
      "Starting to extract posture\n",
      "Cropping based on the x1 = 0 x2 = 1280 y1 = 0 y2 = 1024. You can adjust the cropping coordinates in the config.yaml file.\n"
     ]
    },
    {
     "name": "stderr",
     "output_type": "stream",
     "text": [
      "100%|██████████| 201/201 [00:08<00:00, 23.62it/s]\n"
     ]
    },
    {
     "name": "stdout",
     "output_type": "stream",
     "text": [
      "Saving results in D:\\YuLab\\Work\\GPS\\Video\\Kennard\\GPS_08_Kornblum1500SRTSelf\\20231009\\Top\\Clips...\n",
      "Saving csv poses!\n",
      "Starting to analyze %  D:\\YuLab\\Work\\GPS\\Video\\Kennard\\GPS_08_Kornblum1500SRTSelf\\20231009\\Top\\Clips\\Kennard_20231009_HoldTrial077_TopView.avi\n",
      "Loading  D:\\YuLab\\Work\\GPS\\Video\\Kennard\\GPS_08_Kornblum1500SRTSelf\\20231009\\Top\\Clips\\Kennard_20231009_HoldTrial077_TopView.avi\n",
      "Duration of video [s]:  8.04 , recorded with  25.0 fps!\n",
      "Overall # of frames:  201  found with (before cropping) frame dimensions:  1280 1331\n",
      "Starting to extract posture\n",
      "Cropping based on the x1 = 0 x2 = 1280 y1 = 0 y2 = 1024. You can adjust the cropping coordinates in the config.yaml file.\n"
     ]
    },
    {
     "name": "stderr",
     "output_type": "stream",
     "text": [
      "100%|██████████| 201/201 [00:08<00:00, 23.66it/s]\n"
     ]
    },
    {
     "name": "stdout",
     "output_type": "stream",
     "text": [
      "Saving results in D:\\YuLab\\Work\\GPS\\Video\\Kennard\\GPS_08_Kornblum1500SRTSelf\\20231009\\Top\\Clips...\n",
      "Saving csv poses!\n",
      "Starting to analyze %  D:\\YuLab\\Work\\GPS\\Video\\Kennard\\GPS_08_Kornblum1500SRTSelf\\20231009\\Top\\Clips\\Kennard_20231009_HoldTrial078_TopView.avi\n",
      "Loading  D:\\YuLab\\Work\\GPS\\Video\\Kennard\\GPS_08_Kornblum1500SRTSelf\\20231009\\Top\\Clips\\Kennard_20231009_HoldTrial078_TopView.avi\n",
      "Duration of video [s]:  8.0 , recorded with  25.0 fps!\n",
      "Overall # of frames:  200  found with (before cropping) frame dimensions:  1280 1331\n",
      "Starting to extract posture\n",
      "Cropping based on the x1 = 0 x2 = 1280 y1 = 0 y2 = 1024. You can adjust the cropping coordinates in the config.yaml file.\n"
     ]
    },
    {
     "name": "stderr",
     "output_type": "stream",
     "text": [
      "100%|██████████| 200/200 [00:08<00:00, 24.25it/s]\n"
     ]
    },
    {
     "name": "stdout",
     "output_type": "stream",
     "text": [
      "Saving results in D:\\YuLab\\Work\\GPS\\Video\\Kennard\\GPS_08_Kornblum1500SRTSelf\\20231009\\Top\\Clips...\n",
      "Saving csv poses!\n",
      "Starting to analyze %  D:\\YuLab\\Work\\GPS\\Video\\Kennard\\GPS_08_Kornblum1500SRTSelf\\20231009\\Top\\Clips\\Kennard_20231009_HoldTrial079_TopView.avi\n",
      "Loading  D:\\YuLab\\Work\\GPS\\Video\\Kennard\\GPS_08_Kornblum1500SRTSelf\\20231009\\Top\\Clips\\Kennard_20231009_HoldTrial079_TopView.avi\n",
      "Duration of video [s]:  8.0 , recorded with  25.0 fps!\n",
      "Overall # of frames:  200  found with (before cropping) frame dimensions:  1280 1331\n",
      "Starting to extract posture\n",
      "Cropping based on the x1 = 0 x2 = 1280 y1 = 0 y2 = 1024. You can adjust the cropping coordinates in the config.yaml file.\n"
     ]
    },
    {
     "name": "stderr",
     "output_type": "stream",
     "text": [
      "100%|██████████| 200/200 [00:08<00:00, 24.29it/s]\n"
     ]
    },
    {
     "name": "stdout",
     "output_type": "stream",
     "text": [
      "Saving results in D:\\YuLab\\Work\\GPS\\Video\\Kennard\\GPS_08_Kornblum1500SRTSelf\\20231009\\Top\\Clips...\n",
      "Saving csv poses!\n",
      "Starting to analyze %  D:\\YuLab\\Work\\GPS\\Video\\Kennard\\GPS_08_Kornblum1500SRTSelf\\20231009\\Top\\Clips\\Kennard_20231009_HoldTrial080_TopView.avi\n",
      "Loading  D:\\YuLab\\Work\\GPS\\Video\\Kennard\\GPS_08_Kornblum1500SRTSelf\\20231009\\Top\\Clips\\Kennard_20231009_HoldTrial080_TopView.avi\n",
      "Duration of video [s]:  8.04 , recorded with  25.0 fps!\n",
      "Overall # of frames:  201  found with (before cropping) frame dimensions:  1280 1331\n",
      "Starting to extract posture\n",
      "Cropping based on the x1 = 0 x2 = 1280 y1 = 0 y2 = 1024. You can adjust the cropping coordinates in the config.yaml file.\n"
     ]
    },
    {
     "name": "stderr",
     "output_type": "stream",
     "text": [
      "100%|██████████| 201/201 [00:08<00:00, 23.69it/s]\n"
     ]
    },
    {
     "name": "stdout",
     "output_type": "stream",
     "text": [
      "Saving results in D:\\YuLab\\Work\\GPS\\Video\\Kennard\\GPS_08_Kornblum1500SRTSelf\\20231009\\Top\\Clips...\n",
      "Saving csv poses!\n",
      "Starting to analyze %  D:\\YuLab\\Work\\GPS\\Video\\Kennard\\GPS_08_Kornblum1500SRTSelf\\20231009\\Top\\Clips\\Kennard_20231009_HoldTrial081_TopView.avi\n",
      "Loading  D:\\YuLab\\Work\\GPS\\Video\\Kennard\\GPS_08_Kornblum1500SRTSelf\\20231009\\Top\\Clips\\Kennard_20231009_HoldTrial081_TopView.avi\n",
      "Duration of video [s]:  8.0 , recorded with  25.0 fps!\n",
      "Overall # of frames:  200  found with (before cropping) frame dimensions:  1280 1331\n",
      "Starting to extract posture\n",
      "Cropping based on the x1 = 0 x2 = 1280 y1 = 0 y2 = 1024. You can adjust the cropping coordinates in the config.yaml file.\n"
     ]
    },
    {
     "name": "stderr",
     "output_type": "stream",
     "text": [
      "100%|██████████| 200/200 [00:08<00:00, 24.31it/s]\n"
     ]
    },
    {
     "name": "stdout",
     "output_type": "stream",
     "text": [
      "Saving results in D:\\YuLab\\Work\\GPS\\Video\\Kennard\\GPS_08_Kornblum1500SRTSelf\\20231009\\Top\\Clips...\n",
      "Saving csv poses!\n",
      "Starting to analyze %  D:\\YuLab\\Work\\GPS\\Video\\Kennard\\GPS_08_Kornblum1500SRTSelf\\20231009\\Top\\Clips\\Kennard_20231009_HoldTrial082_TopView.avi\n",
      "Loading  D:\\YuLab\\Work\\GPS\\Video\\Kennard\\GPS_08_Kornblum1500SRTSelf\\20231009\\Top\\Clips\\Kennard_20231009_HoldTrial082_TopView.avi\n",
      "Duration of video [s]:  8.0 , recorded with  25.0 fps!\n",
      "Overall # of frames:  200  found with (before cropping) frame dimensions:  1280 1331\n",
      "Starting to extract posture\n",
      "Cropping based on the x1 = 0 x2 = 1280 y1 = 0 y2 = 1024. You can adjust the cropping coordinates in the config.yaml file.\n"
     ]
    },
    {
     "name": "stderr",
     "output_type": "stream",
     "text": [
      "100%|██████████| 200/200 [00:08<00:00, 24.31it/s]\n"
     ]
    },
    {
     "name": "stdout",
     "output_type": "stream",
     "text": [
      "Saving results in D:\\YuLab\\Work\\GPS\\Video\\Kennard\\GPS_08_Kornblum1500SRTSelf\\20231009\\Top\\Clips...\n",
      "Saving csv poses!\n",
      "Starting to analyze %  D:\\YuLab\\Work\\GPS\\Video\\Kennard\\GPS_08_Kornblum1500SRTSelf\\20231009\\Top\\Clips\\Kennard_20231009_HoldTrial083_TopView.avi\n",
      "Loading  D:\\YuLab\\Work\\GPS\\Video\\Kennard\\GPS_08_Kornblum1500SRTSelf\\20231009\\Top\\Clips\\Kennard_20231009_HoldTrial083_TopView.avi\n",
      "Duration of video [s]:  8.04 , recorded with  25.0 fps!\n",
      "Overall # of frames:  201  found with (before cropping) frame dimensions:  1280 1331\n",
      "Starting to extract posture\n",
      "Cropping based on the x1 = 0 x2 = 1280 y1 = 0 y2 = 1024. You can adjust the cropping coordinates in the config.yaml file.\n"
     ]
    },
    {
     "name": "stderr",
     "output_type": "stream",
     "text": [
      "100%|██████████| 201/201 [00:08<00:00, 23.71it/s]\n"
     ]
    },
    {
     "name": "stdout",
     "output_type": "stream",
     "text": [
      "Saving results in D:\\YuLab\\Work\\GPS\\Video\\Kennard\\GPS_08_Kornblum1500SRTSelf\\20231009\\Top\\Clips...\n",
      "Saving csv poses!\n",
      "Starting to analyze %  D:\\YuLab\\Work\\GPS\\Video\\Kennard\\GPS_08_Kornblum1500SRTSelf\\20231009\\Top\\Clips\\Kennard_20231009_HoldTrial084_TopView.avi\n",
      "Loading  D:\\YuLab\\Work\\GPS\\Video\\Kennard\\GPS_08_Kornblum1500SRTSelf\\20231009\\Top\\Clips\\Kennard_20231009_HoldTrial084_TopView.avi\n",
      "Duration of video [s]:  8.04 , recorded with  25.0 fps!\n",
      "Overall # of frames:  201  found with (before cropping) frame dimensions:  1280 1331\n",
      "Starting to extract posture\n",
      "Cropping based on the x1 = 0 x2 = 1280 y1 = 0 y2 = 1024. You can adjust the cropping coordinates in the config.yaml file.\n"
     ]
    },
    {
     "name": "stderr",
     "output_type": "stream",
     "text": [
      "100%|██████████| 201/201 [00:08<00:00, 23.64it/s]\n"
     ]
    },
    {
     "name": "stdout",
     "output_type": "stream",
     "text": [
      "Saving results in D:\\YuLab\\Work\\GPS\\Video\\Kennard\\GPS_08_Kornblum1500SRTSelf\\20231009\\Top\\Clips...\n",
      "Saving csv poses!\n",
      "Starting to analyze %  D:\\YuLab\\Work\\GPS\\Video\\Kennard\\GPS_08_Kornblum1500SRTSelf\\20231009\\Top\\Clips\\Kennard_20231009_HoldTrial085_TopView.avi\n",
      "Loading  D:\\YuLab\\Work\\GPS\\Video\\Kennard\\GPS_08_Kornblum1500SRTSelf\\20231009\\Top\\Clips\\Kennard_20231009_HoldTrial085_TopView.avi\n",
      "Duration of video [s]:  8.04 , recorded with  25.0 fps!\n",
      "Overall # of frames:  201  found with (before cropping) frame dimensions:  1280 1331\n",
      "Starting to extract posture\n",
      "Cropping based on the x1 = 0 x2 = 1280 y1 = 0 y2 = 1024. You can adjust the cropping coordinates in the config.yaml file.\n"
     ]
    },
    {
     "name": "stderr",
     "output_type": "stream",
     "text": [
      "100%|██████████| 201/201 [00:08<00:00, 23.67it/s]\n"
     ]
    },
    {
     "name": "stdout",
     "output_type": "stream",
     "text": [
      "Saving results in D:\\YuLab\\Work\\GPS\\Video\\Kennard\\GPS_08_Kornblum1500SRTSelf\\20231009\\Top\\Clips...\n",
      "Saving csv poses!\n",
      "Starting to analyze %  D:\\YuLab\\Work\\GPS\\Video\\Kennard\\GPS_08_Kornblum1500SRTSelf\\20231009\\Top\\Clips\\Kennard_20231009_HoldTrial086_TopView.avi\n",
      "Loading  D:\\YuLab\\Work\\GPS\\Video\\Kennard\\GPS_08_Kornblum1500SRTSelf\\20231009\\Top\\Clips\\Kennard_20231009_HoldTrial086_TopView.avi\n",
      "Duration of video [s]:  8.0 , recorded with  25.0 fps!\n",
      "Overall # of frames:  200  found with (before cropping) frame dimensions:  1280 1331\n",
      "Starting to extract posture\n",
      "Cropping based on the x1 = 0 x2 = 1280 y1 = 0 y2 = 1024. You can adjust the cropping coordinates in the config.yaml file.\n"
     ]
    },
    {
     "name": "stderr",
     "output_type": "stream",
     "text": [
      "100%|██████████| 200/200 [00:08<00:00, 24.32it/s]\n"
     ]
    },
    {
     "name": "stdout",
     "output_type": "stream",
     "text": [
      "Saving results in D:\\YuLab\\Work\\GPS\\Video\\Kennard\\GPS_08_Kornblum1500SRTSelf\\20231009\\Top\\Clips...\n",
      "Saving csv poses!\n",
      "Starting to analyze %  D:\\YuLab\\Work\\GPS\\Video\\Kennard\\GPS_08_Kornblum1500SRTSelf\\20231009\\Top\\Clips\\Kennard_20231009_HoldTrial087_TopView.avi\n",
      "Loading  D:\\YuLab\\Work\\GPS\\Video\\Kennard\\GPS_08_Kornblum1500SRTSelf\\20231009\\Top\\Clips\\Kennard_20231009_HoldTrial087_TopView.avi\n",
      "Duration of video [s]:  8.0 , recorded with  25.0 fps!\n",
      "Overall # of frames:  200  found with (before cropping) frame dimensions:  1280 1331\n",
      "Starting to extract posture\n",
      "Cropping based on the x1 = 0 x2 = 1280 y1 = 0 y2 = 1024. You can adjust the cropping coordinates in the config.yaml file.\n"
     ]
    },
    {
     "name": "stderr",
     "output_type": "stream",
     "text": [
      "100%|██████████| 200/200 [00:08<00:00, 24.32it/s]\n"
     ]
    },
    {
     "name": "stdout",
     "output_type": "stream",
     "text": [
      "Saving results in D:\\YuLab\\Work\\GPS\\Video\\Kennard\\GPS_08_Kornblum1500SRTSelf\\20231009\\Top\\Clips...\n",
      "Saving csv poses!\n",
      "Starting to analyze %  D:\\YuLab\\Work\\GPS\\Video\\Kennard\\GPS_08_Kornblum1500SRTSelf\\20231009\\Top\\Clips\\Kennard_20231009_HoldTrial088_TopView.avi\n",
      "Loading  D:\\YuLab\\Work\\GPS\\Video\\Kennard\\GPS_08_Kornblum1500SRTSelf\\20231009\\Top\\Clips\\Kennard_20231009_HoldTrial088_TopView.avi\n",
      "Duration of video [s]:  8.04 , recorded with  25.0 fps!\n",
      "Overall # of frames:  201  found with (before cropping) frame dimensions:  1280 1331\n",
      "Starting to extract posture\n",
      "Cropping based on the x1 = 0 x2 = 1280 y1 = 0 y2 = 1024. You can adjust the cropping coordinates in the config.yaml file.\n"
     ]
    },
    {
     "name": "stderr",
     "output_type": "stream",
     "text": [
      "100%|██████████| 201/201 [00:08<00:00, 23.67it/s]\n"
     ]
    },
    {
     "name": "stdout",
     "output_type": "stream",
     "text": [
      "Saving results in D:\\YuLab\\Work\\GPS\\Video\\Kennard\\GPS_08_Kornblum1500SRTSelf\\20231009\\Top\\Clips...\n",
      "Saving csv poses!\n",
      "Starting to analyze %  D:\\YuLab\\Work\\GPS\\Video\\Kennard\\GPS_08_Kornblum1500SRTSelf\\20231009\\Top\\Clips\\Kennard_20231009_HoldTrial089_TopView.avi\n",
      "Loading  D:\\YuLab\\Work\\GPS\\Video\\Kennard\\GPS_08_Kornblum1500SRTSelf\\20231009\\Top\\Clips\\Kennard_20231009_HoldTrial089_TopView.avi\n",
      "Duration of video [s]:  8.0 , recorded with  25.0 fps!\n",
      "Overall # of frames:  200  found with (before cropping) frame dimensions:  1280 1331\n",
      "Starting to extract posture\n",
      "Cropping based on the x1 = 0 x2 = 1280 y1 = 0 y2 = 1024. You can adjust the cropping coordinates in the config.yaml file.\n"
     ]
    },
    {
     "name": "stderr",
     "output_type": "stream",
     "text": [
      "100%|██████████| 200/200 [00:08<00:00, 24.31it/s]\n"
     ]
    },
    {
     "name": "stdout",
     "output_type": "stream",
     "text": [
      "Saving results in D:\\YuLab\\Work\\GPS\\Video\\Kennard\\GPS_08_Kornblum1500SRTSelf\\20231009\\Top\\Clips...\n",
      "Saving csv poses!\n",
      "Starting to analyze %  D:\\YuLab\\Work\\GPS\\Video\\Kennard\\GPS_08_Kornblum1500SRTSelf\\20231009\\Top\\Clips\\Kennard_20231009_HoldTrial090_TopView.avi\n",
      "Loading  D:\\YuLab\\Work\\GPS\\Video\\Kennard\\GPS_08_Kornblum1500SRTSelf\\20231009\\Top\\Clips\\Kennard_20231009_HoldTrial090_TopView.avi\n",
      "Duration of video [s]:  8.0 , recorded with  25.0 fps!\n",
      "Overall # of frames:  200  found with (before cropping) frame dimensions:  1280 1331\n",
      "Starting to extract posture\n",
      "Cropping based on the x1 = 0 x2 = 1280 y1 = 0 y2 = 1024. You can adjust the cropping coordinates in the config.yaml file.\n"
     ]
    },
    {
     "name": "stderr",
     "output_type": "stream",
     "text": [
      "100%|██████████| 200/200 [00:08<00:00, 24.34it/s]\n"
     ]
    },
    {
     "name": "stdout",
     "output_type": "stream",
     "text": [
      "Saving results in D:\\YuLab\\Work\\GPS\\Video\\Kennard\\GPS_08_Kornblum1500SRTSelf\\20231009\\Top\\Clips...\n",
      "Saving csv poses!\n",
      "Starting to analyze %  D:\\YuLab\\Work\\GPS\\Video\\Kennard\\GPS_08_Kornblum1500SRTSelf\\20231009\\Top\\Clips\\Kennard_20231009_HoldTrial091_TopView.avi\n",
      "Loading  D:\\YuLab\\Work\\GPS\\Video\\Kennard\\GPS_08_Kornblum1500SRTSelf\\20231009\\Top\\Clips\\Kennard_20231009_HoldTrial091_TopView.avi\n",
      "Duration of video [s]:  8.04 , recorded with  25.0 fps!\n",
      "Overall # of frames:  201  found with (before cropping) frame dimensions:  1280 1331\n",
      "Starting to extract posture\n",
      "Cropping based on the x1 = 0 x2 = 1280 y1 = 0 y2 = 1024. You can adjust the cropping coordinates in the config.yaml file.\n"
     ]
    },
    {
     "name": "stderr",
     "output_type": "stream",
     "text": [
      "100%|██████████| 201/201 [00:08<00:00, 23.68it/s]\n"
     ]
    },
    {
     "name": "stdout",
     "output_type": "stream",
     "text": [
      "Saving results in D:\\YuLab\\Work\\GPS\\Video\\Kennard\\GPS_08_Kornblum1500SRTSelf\\20231009\\Top\\Clips...\n",
      "Saving csv poses!\n",
      "Starting to analyze %  D:\\YuLab\\Work\\GPS\\Video\\Kennard\\GPS_08_Kornblum1500SRTSelf\\20231009\\Top\\Clips\\Kennard_20231009_HoldTrial092_TopView.avi\n",
      "Loading  D:\\YuLab\\Work\\GPS\\Video\\Kennard\\GPS_08_Kornblum1500SRTSelf\\20231009\\Top\\Clips\\Kennard_20231009_HoldTrial092_TopView.avi\n",
      "Duration of video [s]:  8.04 , recorded with  25.0 fps!\n",
      "Overall # of frames:  201  found with (before cropping) frame dimensions:  1280 1331\n",
      "Starting to extract posture\n",
      "Cropping based on the x1 = 0 x2 = 1280 y1 = 0 y2 = 1024. You can adjust the cropping coordinates in the config.yaml file.\n"
     ]
    },
    {
     "name": "stderr",
     "output_type": "stream",
     "text": [
      "100%|██████████| 201/201 [00:08<00:00, 23.71it/s]\n"
     ]
    },
    {
     "name": "stdout",
     "output_type": "stream",
     "text": [
      "Saving results in D:\\YuLab\\Work\\GPS\\Video\\Kennard\\GPS_08_Kornblum1500SRTSelf\\20231009\\Top\\Clips...\n",
      "Saving csv poses!\n",
      "Starting to analyze %  D:\\YuLab\\Work\\GPS\\Video\\Kennard\\GPS_08_Kornblum1500SRTSelf\\20231009\\Top\\Clips\\Kennard_20231009_HoldTrial093_TopView.avi\n",
      "Loading  D:\\YuLab\\Work\\GPS\\Video\\Kennard\\GPS_08_Kornblum1500SRTSelf\\20231009\\Top\\Clips\\Kennard_20231009_HoldTrial093_TopView.avi\n",
      "Duration of video [s]:  8.0 , recorded with  25.0 fps!\n",
      "Overall # of frames:  200  found with (before cropping) frame dimensions:  1280 1331\n",
      "Starting to extract posture\n",
      "Cropping based on the x1 = 0 x2 = 1280 y1 = 0 y2 = 1024. You can adjust the cropping coordinates in the config.yaml file.\n"
     ]
    },
    {
     "name": "stderr",
     "output_type": "stream",
     "text": [
      "100%|██████████| 200/200 [00:08<00:00, 24.35it/s]\n"
     ]
    },
    {
     "name": "stdout",
     "output_type": "stream",
     "text": [
      "Saving results in D:\\YuLab\\Work\\GPS\\Video\\Kennard\\GPS_08_Kornblum1500SRTSelf\\20231009\\Top\\Clips...\n",
      "Saving csv poses!\n",
      "Starting to analyze %  D:\\YuLab\\Work\\GPS\\Video\\Kennard\\GPS_08_Kornblum1500SRTSelf\\20231009\\Top\\Clips\\Kennard_20231009_HoldTrial094_TopView.avi\n",
      "Loading  D:\\YuLab\\Work\\GPS\\Video\\Kennard\\GPS_08_Kornblum1500SRTSelf\\20231009\\Top\\Clips\\Kennard_20231009_HoldTrial094_TopView.avi\n",
      "Duration of video [s]:  8.0 , recorded with  25.0 fps!\n",
      "Overall # of frames:  200  found with (before cropping) frame dimensions:  1280 1331\n",
      "Starting to extract posture\n",
      "Cropping based on the x1 = 0 x2 = 1280 y1 = 0 y2 = 1024. You can adjust the cropping coordinates in the config.yaml file.\n"
     ]
    },
    {
     "name": "stderr",
     "output_type": "stream",
     "text": [
      "100%|██████████| 200/200 [00:08<00:00, 24.30it/s]\n"
     ]
    },
    {
     "name": "stdout",
     "output_type": "stream",
     "text": [
      "Saving results in D:\\YuLab\\Work\\GPS\\Video\\Kennard\\GPS_08_Kornblum1500SRTSelf\\20231009\\Top\\Clips...\n",
      "Saving csv poses!\n",
      "Starting to analyze %  D:\\YuLab\\Work\\GPS\\Video\\Kennard\\GPS_08_Kornblum1500SRTSelf\\20231009\\Top\\Clips\\Kennard_20231009_HoldTrial095_TopView.avi\n",
      "Loading  D:\\YuLab\\Work\\GPS\\Video\\Kennard\\GPS_08_Kornblum1500SRTSelf\\20231009\\Top\\Clips\\Kennard_20231009_HoldTrial095_TopView.avi\n",
      "Duration of video [s]:  8.04 , recorded with  25.0 fps!\n",
      "Overall # of frames:  201  found with (before cropping) frame dimensions:  1280 1331\n",
      "Starting to extract posture\n",
      "Cropping based on the x1 = 0 x2 = 1280 y1 = 0 y2 = 1024. You can adjust the cropping coordinates in the config.yaml file.\n"
     ]
    },
    {
     "name": "stderr",
     "output_type": "stream",
     "text": [
      "100%|██████████| 201/201 [00:08<00:00, 23.64it/s]\n"
     ]
    },
    {
     "name": "stdout",
     "output_type": "stream",
     "text": [
      "Saving results in D:\\YuLab\\Work\\GPS\\Video\\Kennard\\GPS_08_Kornblum1500SRTSelf\\20231009\\Top\\Clips...\n",
      "Saving csv poses!\n",
      "Starting to analyze %  D:\\YuLab\\Work\\GPS\\Video\\Kennard\\GPS_08_Kornblum1500SRTSelf\\20231009\\Top\\Clips\\Kennard_20231009_HoldTrial096_TopView.avi\n",
      "Loading  D:\\YuLab\\Work\\GPS\\Video\\Kennard\\GPS_08_Kornblum1500SRTSelf\\20231009\\Top\\Clips\\Kennard_20231009_HoldTrial096_TopView.avi\n",
      "Duration of video [s]:  8.0 , recorded with  25.0 fps!\n",
      "Overall # of frames:  200  found with (before cropping) frame dimensions:  1280 1331\n",
      "Starting to extract posture\n",
      "Cropping based on the x1 = 0 x2 = 1280 y1 = 0 y2 = 1024. You can adjust the cropping coordinates in the config.yaml file.\n"
     ]
    },
    {
     "name": "stderr",
     "output_type": "stream",
     "text": [
      "100%|██████████| 200/200 [00:08<00:00, 24.33it/s]\n"
     ]
    },
    {
     "name": "stdout",
     "output_type": "stream",
     "text": [
      "Saving results in D:\\YuLab\\Work\\GPS\\Video\\Kennard\\GPS_08_Kornblum1500SRTSelf\\20231009\\Top\\Clips...\n",
      "Saving csv poses!\n",
      "Starting to analyze %  D:\\YuLab\\Work\\GPS\\Video\\Kennard\\GPS_08_Kornblum1500SRTSelf\\20231009\\Top\\Clips\\Kennard_20231009_HoldTrial097_TopView.avi\n",
      "Loading  D:\\YuLab\\Work\\GPS\\Video\\Kennard\\GPS_08_Kornblum1500SRTSelf\\20231009\\Top\\Clips\\Kennard_20231009_HoldTrial097_TopView.avi\n",
      "Duration of video [s]:  8.0 , recorded with  25.0 fps!\n",
      "Overall # of frames:  200  found with (before cropping) frame dimensions:  1280 1331\n",
      "Starting to extract posture\n",
      "Cropping based on the x1 = 0 x2 = 1280 y1 = 0 y2 = 1024. You can adjust the cropping coordinates in the config.yaml file.\n"
     ]
    },
    {
     "name": "stderr",
     "output_type": "stream",
     "text": [
      "100%|██████████| 200/200 [00:08<00:00, 24.35it/s]\n"
     ]
    },
    {
     "name": "stdout",
     "output_type": "stream",
     "text": [
      "Saving results in D:\\YuLab\\Work\\GPS\\Video\\Kennard\\GPS_08_Kornblum1500SRTSelf\\20231009\\Top\\Clips...\n",
      "Saving csv poses!\n",
      "Starting to analyze %  D:\\YuLab\\Work\\GPS\\Video\\Kennard\\GPS_08_Kornblum1500SRTSelf\\20231009\\Top\\Clips\\Kennard_20231009_HoldTrial098_TopView.avi\n",
      "Loading  D:\\YuLab\\Work\\GPS\\Video\\Kennard\\GPS_08_Kornblum1500SRTSelf\\20231009\\Top\\Clips\\Kennard_20231009_HoldTrial098_TopView.avi\n",
      "Duration of video [s]:  8.04 , recorded with  25.0 fps!\n",
      "Overall # of frames:  201  found with (before cropping) frame dimensions:  1280 1331\n",
      "Starting to extract posture\n",
      "Cropping based on the x1 = 0 x2 = 1280 y1 = 0 y2 = 1024. You can adjust the cropping coordinates in the config.yaml file.\n"
     ]
    },
    {
     "name": "stderr",
     "output_type": "stream",
     "text": [
      "100%|██████████| 201/201 [00:08<00:00, 23.64it/s]\n"
     ]
    },
    {
     "name": "stdout",
     "output_type": "stream",
     "text": [
      "Saving results in D:\\YuLab\\Work\\GPS\\Video\\Kennard\\GPS_08_Kornblum1500SRTSelf\\20231009\\Top\\Clips...\n",
      "Saving csv poses!\n",
      "Starting to analyze %  D:\\YuLab\\Work\\GPS\\Video\\Kennard\\GPS_08_Kornblum1500SRTSelf\\20231009\\Top\\Clips\\Kennard_20231009_HoldTrial099_TopView.avi\n",
      "Loading  D:\\YuLab\\Work\\GPS\\Video\\Kennard\\GPS_08_Kornblum1500SRTSelf\\20231009\\Top\\Clips\\Kennard_20231009_HoldTrial099_TopView.avi\n",
      "Duration of video [s]:  8.04 , recorded with  25.0 fps!\n",
      "Overall # of frames:  201  found with (before cropping) frame dimensions:  1280 1331\n",
      "Starting to extract posture\n",
      "Cropping based on the x1 = 0 x2 = 1280 y1 = 0 y2 = 1024. You can adjust the cropping coordinates in the config.yaml file.\n"
     ]
    },
    {
     "name": "stderr",
     "output_type": "stream",
     "text": [
      "100%|██████████| 201/201 [00:08<00:00, 23.62it/s]\n"
     ]
    },
    {
     "name": "stdout",
     "output_type": "stream",
     "text": [
      "Saving results in D:\\YuLab\\Work\\GPS\\Video\\Kennard\\GPS_08_Kornblum1500SRTSelf\\20231009\\Top\\Clips...\n",
      "Saving csv poses!\n",
      "Starting to analyze %  D:\\YuLab\\Work\\GPS\\Video\\Kennard\\GPS_08_Kornblum1500SRTSelf\\20231009\\Top\\Clips\\Kennard_20231009_HoldTrial100_TopView.avi\n",
      "Loading  D:\\YuLab\\Work\\GPS\\Video\\Kennard\\GPS_08_Kornblum1500SRTSelf\\20231009\\Top\\Clips\\Kennard_20231009_HoldTrial100_TopView.avi\n",
      "Duration of video [s]:  8.0 , recorded with  25.0 fps!\n",
      "Overall # of frames:  200  found with (before cropping) frame dimensions:  1280 1331\n",
      "Starting to extract posture\n",
      "Cropping based on the x1 = 0 x2 = 1280 y1 = 0 y2 = 1024. You can adjust the cropping coordinates in the config.yaml file.\n"
     ]
    },
    {
     "name": "stderr",
     "output_type": "stream",
     "text": [
      "100%|██████████| 200/200 [00:08<00:00, 24.26it/s]\n"
     ]
    },
    {
     "name": "stdout",
     "output_type": "stream",
     "text": [
      "Saving results in D:\\YuLab\\Work\\GPS\\Video\\Kennard\\GPS_08_Kornblum1500SRTSelf\\20231009\\Top\\Clips...\n",
      "Saving csv poses!\n",
      "Starting to analyze %  D:\\YuLab\\Work\\GPS\\Video\\Kennard\\GPS_08_Kornblum1500SRTSelf\\20231010\\Top\\Clips\\Kennard_20231010_HoldTrial106_TopView.avi\n",
      "Loading  D:\\YuLab\\Work\\GPS\\Video\\Kennard\\GPS_08_Kornblum1500SRTSelf\\20231010\\Top\\Clips\\Kennard_20231010_HoldTrial106_TopView.avi\n",
      "Duration of video [s]:  8.0 , recorded with  25.0 fps!\n",
      "Overall # of frames:  200  found with (before cropping) frame dimensions:  1280 1331\n",
      "Starting to extract posture\n",
      "Cropping based on the x1 = 0 x2 = 1280 y1 = 0 y2 = 1024. You can adjust the cropping coordinates in the config.yaml file.\n"
     ]
    },
    {
     "name": "stderr",
     "output_type": "stream",
     "text": [
      "100%|██████████| 200/200 [00:08<00:00, 24.24it/s]\n"
     ]
    },
    {
     "name": "stdout",
     "output_type": "stream",
     "text": [
      "Saving results in D:\\YuLab\\Work\\GPS\\Video\\Kennard\\GPS_08_Kornblum1500SRTSelf\\20231010\\Top\\Clips...\n",
      "Saving csv poses!\n",
      "Starting to analyze %  D:\\YuLab\\Work\\GPS\\Video\\Kennard\\GPS_08_Kornblum1500SRTSelf\\20231010\\Top\\Clips\\Kennard_20231010_HoldTrial011_TopView.avi\n",
      "Loading  D:\\YuLab\\Work\\GPS\\Video\\Kennard\\GPS_08_Kornblum1500SRTSelf\\20231010\\Top\\Clips\\Kennard_20231010_HoldTrial011_TopView.avi\n",
      "Duration of video [s]:  8.04 , recorded with  25.0 fps!\n",
      "Overall # of frames:  201  found with (before cropping) frame dimensions:  1280 1331\n",
      "Starting to extract posture\n",
      "Cropping based on the x1 = 0 x2 = 1280 y1 = 0 y2 = 1024. You can adjust the cropping coordinates in the config.yaml file.\n"
     ]
    },
    {
     "name": "stderr",
     "output_type": "stream",
     "text": [
      "100%|██████████| 201/201 [00:08<00:00, 23.56it/s]\n"
     ]
    },
    {
     "name": "stdout",
     "output_type": "stream",
     "text": [
      "Saving results in D:\\YuLab\\Work\\GPS\\Video\\Kennard\\GPS_08_Kornblum1500SRTSelf\\20231010\\Top\\Clips...\n",
      "Saving csv poses!\n",
      "Starting to analyze %  D:\\YuLab\\Work\\GPS\\Video\\Kennard\\GPS_08_Kornblum1500SRTSelf\\20231010\\Top\\Clips\\Kennard_20231010_HoldTrial012_TopView.avi\n",
      "Loading  D:\\YuLab\\Work\\GPS\\Video\\Kennard\\GPS_08_Kornblum1500SRTSelf\\20231010\\Top\\Clips\\Kennard_20231010_HoldTrial012_TopView.avi\n",
      "Duration of video [s]:  8.0 , recorded with  25.0 fps!\n",
      "Overall # of frames:  200  found with (before cropping) frame dimensions:  1280 1331\n",
      "Starting to extract posture\n",
      "Cropping based on the x1 = 0 x2 = 1280 y1 = 0 y2 = 1024. You can adjust the cropping coordinates in the config.yaml file.\n"
     ]
    },
    {
     "name": "stderr",
     "output_type": "stream",
     "text": [
      "100%|██████████| 200/200 [00:08<00:00, 24.21it/s]\n"
     ]
    },
    {
     "name": "stdout",
     "output_type": "stream",
     "text": [
      "Saving results in D:\\YuLab\\Work\\GPS\\Video\\Kennard\\GPS_08_Kornblum1500SRTSelf\\20231010\\Top\\Clips...\n",
      "Saving csv poses!\n",
      "Starting to analyze %  D:\\YuLab\\Work\\GPS\\Video\\Kennard\\GPS_08_Kornblum1500SRTSelf\\20231010\\Top\\Clips\\Kennard_20231010_HoldTrial013_TopView.avi\n",
      "Loading  D:\\YuLab\\Work\\GPS\\Video\\Kennard\\GPS_08_Kornblum1500SRTSelf\\20231010\\Top\\Clips\\Kennard_20231010_HoldTrial013_TopView.avi\n",
      "Duration of video [s]:  8.04 , recorded with  25.0 fps!\n",
      "Overall # of frames:  201  found with (before cropping) frame dimensions:  1280 1331\n",
      "Starting to extract posture\n",
      "Cropping based on the x1 = 0 x2 = 1280 y1 = 0 y2 = 1024. You can adjust the cropping coordinates in the config.yaml file.\n"
     ]
    },
    {
     "name": "stderr",
     "output_type": "stream",
     "text": [
      "100%|██████████| 201/201 [00:08<00:00, 23.48it/s]\n"
     ]
    },
    {
     "name": "stdout",
     "output_type": "stream",
     "text": [
      "Saving results in D:\\YuLab\\Work\\GPS\\Video\\Kennard\\GPS_08_Kornblum1500SRTSelf\\20231010\\Top\\Clips...\n",
      "Saving csv poses!\n",
      "Starting to analyze %  D:\\YuLab\\Work\\GPS\\Video\\Kennard\\GPS_08_Kornblum1500SRTSelf\\20231010\\Top\\Clips\\Kennard_20231010_HoldTrial014_TopView.avi\n",
      "Loading  D:\\YuLab\\Work\\GPS\\Video\\Kennard\\GPS_08_Kornblum1500SRTSelf\\20231010\\Top\\Clips\\Kennard_20231010_HoldTrial014_TopView.avi\n",
      "Duration of video [s]:  8.04 , recorded with  25.0 fps!\n",
      "Overall # of frames:  201  found with (before cropping) frame dimensions:  1280 1331\n",
      "Starting to extract posture\n",
      "Cropping based on the x1 = 0 x2 = 1280 y1 = 0 y2 = 1024. You can adjust the cropping coordinates in the config.yaml file.\n"
     ]
    },
    {
     "name": "stderr",
     "output_type": "stream",
     "text": [
      "100%|██████████| 201/201 [00:08<00:00, 23.46it/s]\n"
     ]
    },
    {
     "name": "stdout",
     "output_type": "stream",
     "text": [
      "Saving results in D:\\YuLab\\Work\\GPS\\Video\\Kennard\\GPS_08_Kornblum1500SRTSelf\\20231010\\Top\\Clips...\n",
      "Saving csv poses!\n",
      "Starting to analyze %  D:\\YuLab\\Work\\GPS\\Video\\Kennard\\GPS_08_Kornblum1500SRTSelf\\20231010\\Top\\Clips\\Kennard_20231010_HoldTrial015_TopView.avi\n",
      "Loading  D:\\YuLab\\Work\\GPS\\Video\\Kennard\\GPS_08_Kornblum1500SRTSelf\\20231010\\Top\\Clips\\Kennard_20231010_HoldTrial015_TopView.avi\n",
      "Duration of video [s]:  8.0 , recorded with  25.0 fps!\n",
      "Overall # of frames:  200  found with (before cropping) frame dimensions:  1280 1331\n",
      "Starting to extract posture\n",
      "Cropping based on the x1 = 0 x2 = 1280 y1 = 0 y2 = 1024. You can adjust the cropping coordinates in the config.yaml file.\n"
     ]
    },
    {
     "name": "stderr",
     "output_type": "stream",
     "text": [
      "100%|██████████| 200/200 [00:08<00:00, 24.13it/s]\n"
     ]
    },
    {
     "name": "stdout",
     "output_type": "stream",
     "text": [
      "Saving results in D:\\YuLab\\Work\\GPS\\Video\\Kennard\\GPS_08_Kornblum1500SRTSelf\\20231010\\Top\\Clips...\n",
      "Saving csv poses!\n",
      "Starting to analyze %  D:\\YuLab\\Work\\GPS\\Video\\Kennard\\GPS_08_Kornblum1500SRTSelf\\20231010\\Top\\Clips\\Kennard_20231010_HoldTrial016_TopView.avi\n",
      "Loading  D:\\YuLab\\Work\\GPS\\Video\\Kennard\\GPS_08_Kornblum1500SRTSelf\\20231010\\Top\\Clips\\Kennard_20231010_HoldTrial016_TopView.avi\n",
      "Duration of video [s]:  8.04 , recorded with  25.0 fps!\n",
      "Overall # of frames:  201  found with (before cropping) frame dimensions:  1280 1331\n",
      "Starting to extract posture\n",
      "Cropping based on the x1 = 0 x2 = 1280 y1 = 0 y2 = 1024. You can adjust the cropping coordinates in the config.yaml file.\n"
     ]
    },
    {
     "name": "stderr",
     "output_type": "stream",
     "text": [
      "100%|██████████| 201/201 [00:08<00:00, 23.44it/s]\n"
     ]
    },
    {
     "name": "stdout",
     "output_type": "stream",
     "text": [
      "Saving results in D:\\YuLab\\Work\\GPS\\Video\\Kennard\\GPS_08_Kornblum1500SRTSelf\\20231010\\Top\\Clips...\n",
      "Saving csv poses!\n",
      "Starting to analyze %  D:\\YuLab\\Work\\GPS\\Video\\Kennard\\GPS_08_Kornblum1500SRTSelf\\20231010\\Top\\Clips\\Kennard_20231010_HoldTrial017_TopView.avi\n",
      "Loading  D:\\YuLab\\Work\\GPS\\Video\\Kennard\\GPS_08_Kornblum1500SRTSelf\\20231010\\Top\\Clips\\Kennard_20231010_HoldTrial017_TopView.avi\n",
      "Duration of video [s]:  8.0 , recorded with  25.0 fps!\n",
      "Overall # of frames:  200  found with (before cropping) frame dimensions:  1280 1331\n",
      "Starting to extract posture\n",
      "Cropping based on the x1 = 0 x2 = 1280 y1 = 0 y2 = 1024. You can adjust the cropping coordinates in the config.yaml file.\n"
     ]
    },
    {
     "name": "stderr",
     "output_type": "stream",
     "text": [
      "100%|██████████| 200/200 [00:08<00:00, 24.15it/s]\n"
     ]
    },
    {
     "name": "stdout",
     "output_type": "stream",
     "text": [
      "Saving results in D:\\YuLab\\Work\\GPS\\Video\\Kennard\\GPS_08_Kornblum1500SRTSelf\\20231010\\Top\\Clips...\n",
      "Saving csv poses!\n",
      "Starting to analyze %  D:\\YuLab\\Work\\GPS\\Video\\Kennard\\GPS_08_Kornblum1500SRTSelf\\20231010\\Top\\Clips\\Kennard_20231010_HoldTrial018_TopView.avi\n",
      "Loading  D:\\YuLab\\Work\\GPS\\Video\\Kennard\\GPS_08_Kornblum1500SRTSelf\\20231010\\Top\\Clips\\Kennard_20231010_HoldTrial018_TopView.avi\n",
      "Duration of video [s]:  8.0 , recorded with  25.0 fps!\n",
      "Overall # of frames:  200  found with (before cropping) frame dimensions:  1280 1331\n",
      "Starting to extract posture\n",
      "Cropping based on the x1 = 0 x2 = 1280 y1 = 0 y2 = 1024. You can adjust the cropping coordinates in the config.yaml file.\n"
     ]
    },
    {
     "name": "stderr",
     "output_type": "stream",
     "text": [
      "100%|██████████| 200/200 [00:08<00:00, 24.17it/s]\n"
     ]
    },
    {
     "name": "stdout",
     "output_type": "stream",
     "text": [
      "Saving results in D:\\YuLab\\Work\\GPS\\Video\\Kennard\\GPS_08_Kornblum1500SRTSelf\\20231010\\Top\\Clips...\n",
      "Saving csv poses!\n",
      "Starting to analyze %  D:\\YuLab\\Work\\GPS\\Video\\Kennard\\GPS_08_Kornblum1500SRTSelf\\20231010\\Top\\Clips\\Kennard_20231010_HoldTrial019_TopView.avi\n",
      "Loading  D:\\YuLab\\Work\\GPS\\Video\\Kennard\\GPS_08_Kornblum1500SRTSelf\\20231010\\Top\\Clips\\Kennard_20231010_HoldTrial019_TopView.avi\n",
      "Duration of video [s]:  8.0 , recorded with  25.0 fps!\n",
      "Overall # of frames:  200  found with (before cropping) frame dimensions:  1280 1331\n",
      "Starting to extract posture\n",
      "Cropping based on the x1 = 0 x2 = 1280 y1 = 0 y2 = 1024. You can adjust the cropping coordinates in the config.yaml file.\n"
     ]
    },
    {
     "name": "stderr",
     "output_type": "stream",
     "text": [
      "100%|██████████| 200/200 [00:08<00:00, 24.17it/s]\n"
     ]
    },
    {
     "name": "stdout",
     "output_type": "stream",
     "text": [
      "Saving results in D:\\YuLab\\Work\\GPS\\Video\\Kennard\\GPS_08_Kornblum1500SRTSelf\\20231010\\Top\\Clips...\n",
      "Saving csv poses!\n",
      "Starting to analyze %  D:\\YuLab\\Work\\GPS\\Video\\Kennard\\GPS_08_Kornblum1500SRTSelf\\20231010\\Top\\Clips\\Kennard_20231010_HoldTrial020_TopView.avi\n",
      "Loading  D:\\YuLab\\Work\\GPS\\Video\\Kennard\\GPS_08_Kornblum1500SRTSelf\\20231010\\Top\\Clips\\Kennard_20231010_HoldTrial020_TopView.avi\n",
      "Duration of video [s]:  8.04 , recorded with  25.0 fps!\n",
      "Overall # of frames:  201  found with (before cropping) frame dimensions:  1280 1331\n",
      "Starting to extract posture\n",
      "Cropping based on the x1 = 0 x2 = 1280 y1 = 0 y2 = 1024. You can adjust the cropping coordinates in the config.yaml file.\n"
     ]
    },
    {
     "name": "stderr",
     "output_type": "stream",
     "text": [
      "100%|██████████| 201/201 [00:08<00:00, 23.48it/s]\n"
     ]
    },
    {
     "name": "stdout",
     "output_type": "stream",
     "text": [
      "Saving results in D:\\YuLab\\Work\\GPS\\Video\\Kennard\\GPS_08_Kornblum1500SRTSelf\\20231010\\Top\\Clips...\n",
      "Saving csv poses!\n",
      "Starting to analyze %  D:\\YuLab\\Work\\GPS\\Video\\Kennard\\GPS_08_Kornblum1500SRTSelf\\20231010\\Top\\Clips\\Kennard_20231010_HoldTrial021_TopView.avi\n",
      "Loading  D:\\YuLab\\Work\\GPS\\Video\\Kennard\\GPS_08_Kornblum1500SRTSelf\\20231010\\Top\\Clips\\Kennard_20231010_HoldTrial021_TopView.avi\n",
      "Duration of video [s]:  7.96 , recorded with  25.0 fps!\n",
      "Overall # of frames:  199  found with (before cropping) frame dimensions:  1280 1331\n",
      "Starting to extract posture\n",
      "Cropping based on the x1 = 0 x2 = 1280 y1 = 0 y2 = 1024. You can adjust the cropping coordinates in the config.yaml file.\n"
     ]
    },
    {
     "name": "stderr",
     "output_type": "stream",
     "text": [
      "100%|██████████| 199/199 [00:08<00:00, 23.99it/s]\n"
     ]
    },
    {
     "name": "stdout",
     "output_type": "stream",
     "text": [
      "Saving results in D:\\YuLab\\Work\\GPS\\Video\\Kennard\\GPS_08_Kornblum1500SRTSelf\\20231010\\Top\\Clips...\n",
      "Saving csv poses!\n",
      "Starting to analyze %  D:\\YuLab\\Work\\GPS\\Video\\Kennard\\GPS_08_Kornblum1500SRTSelf\\20231010\\Top\\Clips\\Kennard_20231010_HoldTrial022_TopView.avi\n",
      "Loading  D:\\YuLab\\Work\\GPS\\Video\\Kennard\\GPS_08_Kornblum1500SRTSelf\\20231010\\Top\\Clips\\Kennard_20231010_HoldTrial022_TopView.avi\n",
      "Duration of video [s]:  8.04 , recorded with  25.0 fps!\n",
      "Overall # of frames:  201  found with (before cropping) frame dimensions:  1280 1331\n",
      "Starting to extract posture\n",
      "Cropping based on the x1 = 0 x2 = 1280 y1 = 0 y2 = 1024. You can adjust the cropping coordinates in the config.yaml file.\n"
     ]
    },
    {
     "name": "stderr",
     "output_type": "stream",
     "text": [
      "100%|██████████| 201/201 [00:08<00:00, 23.46it/s]\n"
     ]
    },
    {
     "name": "stdout",
     "output_type": "stream",
     "text": [
      "Saving results in D:\\YuLab\\Work\\GPS\\Video\\Kennard\\GPS_08_Kornblum1500SRTSelf\\20231010\\Top\\Clips...\n",
      "Saving csv poses!\n",
      "Starting to analyze %  D:\\YuLab\\Work\\GPS\\Video\\Kennard\\GPS_08_Kornblum1500SRTSelf\\20231010\\Top\\Clips\\Kennard_20231010_HoldTrial023_TopView.avi\n",
      "Loading  D:\\YuLab\\Work\\GPS\\Video\\Kennard\\GPS_08_Kornblum1500SRTSelf\\20231010\\Top\\Clips\\Kennard_20231010_HoldTrial023_TopView.avi\n",
      "Duration of video [s]:  8.0 , recorded with  25.0 fps!\n",
      "Overall # of frames:  200  found with (before cropping) frame dimensions:  1280 1331\n",
      "Starting to extract posture\n",
      "Cropping based on the x1 = 0 x2 = 1280 y1 = 0 y2 = 1024. You can adjust the cropping coordinates in the config.yaml file.\n"
     ]
    },
    {
     "name": "stderr",
     "output_type": "stream",
     "text": [
      "100%|██████████| 200/200 [00:08<00:00, 24.13it/s]\n"
     ]
    },
    {
     "name": "stdout",
     "output_type": "stream",
     "text": [
      "Saving results in D:\\YuLab\\Work\\GPS\\Video\\Kennard\\GPS_08_Kornblum1500SRTSelf\\20231010\\Top\\Clips...\n",
      "Saving csv poses!\n",
      "Starting to analyze %  D:\\YuLab\\Work\\GPS\\Video\\Kennard\\GPS_08_Kornblum1500SRTSelf\\20231010\\Top\\Clips\\Kennard_20231010_HoldTrial024_TopView.avi\n",
      "Loading  D:\\YuLab\\Work\\GPS\\Video\\Kennard\\GPS_08_Kornblum1500SRTSelf\\20231010\\Top\\Clips\\Kennard_20231010_HoldTrial024_TopView.avi\n",
      "Duration of video [s]:  8.04 , recorded with  25.0 fps!\n",
      "Overall # of frames:  201  found with (before cropping) frame dimensions:  1280 1331\n",
      "Starting to extract posture\n",
      "Cropping based on the x1 = 0 x2 = 1280 y1 = 0 y2 = 1024. You can adjust the cropping coordinates in the config.yaml file.\n"
     ]
    },
    {
     "name": "stderr",
     "output_type": "stream",
     "text": [
      "100%|██████████| 201/201 [00:08<00:00, 23.52it/s]\n"
     ]
    },
    {
     "name": "stdout",
     "output_type": "stream",
     "text": [
      "Saving results in D:\\YuLab\\Work\\GPS\\Video\\Kennard\\GPS_08_Kornblum1500SRTSelf\\20231010\\Top\\Clips...\n",
      "Saving csv poses!\n",
      "Starting to analyze %  D:\\YuLab\\Work\\GPS\\Video\\Kennard\\GPS_08_Kornblum1500SRTSelf\\20231010\\Top\\Clips\\Kennard_20231010_HoldTrial025_TopView.avi\n",
      "Loading  D:\\YuLab\\Work\\GPS\\Video\\Kennard\\GPS_08_Kornblum1500SRTSelf\\20231010\\Top\\Clips\\Kennard_20231010_HoldTrial025_TopView.avi\n",
      "Duration of video [s]:  8.0 , recorded with  25.0 fps!\n",
      "Overall # of frames:  200  found with (before cropping) frame dimensions:  1280 1331\n",
      "Starting to extract posture\n",
      "Cropping based on the x1 = 0 x2 = 1280 y1 = 0 y2 = 1024. You can adjust the cropping coordinates in the config.yaml file.\n"
     ]
    },
    {
     "name": "stderr",
     "output_type": "stream",
     "text": [
      "100%|██████████| 200/200 [00:08<00:00, 24.13it/s]\n"
     ]
    },
    {
     "name": "stdout",
     "output_type": "stream",
     "text": [
      "Saving results in D:\\YuLab\\Work\\GPS\\Video\\Kennard\\GPS_08_Kornblum1500SRTSelf\\20231010\\Top\\Clips...\n",
      "Saving csv poses!\n",
      "Starting to analyze %  D:\\YuLab\\Work\\GPS\\Video\\Kennard\\GPS_08_Kornblum1500SRTSelf\\20231010\\Top\\Clips\\Kennard_20231010_HoldTrial026_TopView.avi\n",
      "Loading  D:\\YuLab\\Work\\GPS\\Video\\Kennard\\GPS_08_Kornblum1500SRTSelf\\20231010\\Top\\Clips\\Kennard_20231010_HoldTrial026_TopView.avi\n",
      "Duration of video [s]:  8.0 , recorded with  25.0 fps!\n",
      "Overall # of frames:  200  found with (before cropping) frame dimensions:  1280 1331\n",
      "Starting to extract posture\n",
      "Cropping based on the x1 = 0 x2 = 1280 y1 = 0 y2 = 1024. You can adjust the cropping coordinates in the config.yaml file.\n"
     ]
    },
    {
     "name": "stderr",
     "output_type": "stream",
     "text": [
      "100%|██████████| 200/200 [00:08<00:00, 24.16it/s]\n"
     ]
    },
    {
     "name": "stdout",
     "output_type": "stream",
     "text": [
      "Saving results in D:\\YuLab\\Work\\GPS\\Video\\Kennard\\GPS_08_Kornblum1500SRTSelf\\20231010\\Top\\Clips...\n",
      "Saving csv poses!\n",
      "Starting to analyze %  D:\\YuLab\\Work\\GPS\\Video\\Kennard\\GPS_08_Kornblum1500SRTSelf\\20231010\\Top\\Clips\\Kennard_20231010_HoldTrial027_TopView.avi\n",
      "Loading  D:\\YuLab\\Work\\GPS\\Video\\Kennard\\GPS_08_Kornblum1500SRTSelf\\20231010\\Top\\Clips\\Kennard_20231010_HoldTrial027_TopView.avi\n",
      "Duration of video [s]:  8.04 , recorded with  25.0 fps!\n",
      "Overall # of frames:  201  found with (before cropping) frame dimensions:  1280 1331\n",
      "Starting to extract posture\n",
      "Cropping based on the x1 = 0 x2 = 1280 y1 = 0 y2 = 1024. You can adjust the cropping coordinates in the config.yaml file.\n"
     ]
    },
    {
     "name": "stderr",
     "output_type": "stream",
     "text": [
      "100%|██████████| 201/201 [00:08<00:00, 23.43it/s]\n"
     ]
    },
    {
     "name": "stdout",
     "output_type": "stream",
     "text": [
      "Saving results in D:\\YuLab\\Work\\GPS\\Video\\Kennard\\GPS_08_Kornblum1500SRTSelf\\20231010\\Top\\Clips...\n",
      "Saving csv poses!\n",
      "Starting to analyze %  D:\\YuLab\\Work\\GPS\\Video\\Kennard\\GPS_08_Kornblum1500SRTSelf\\20231010\\Top\\Clips\\Kennard_20231010_HoldTrial028_TopView.avi\n",
      "Loading  D:\\YuLab\\Work\\GPS\\Video\\Kennard\\GPS_08_Kornblum1500SRTSelf\\20231010\\Top\\Clips\\Kennard_20231010_HoldTrial028_TopView.avi\n",
      "Duration of video [s]:  8.0 , recorded with  25.0 fps!\n",
      "Overall # of frames:  200  found with (before cropping) frame dimensions:  1280 1331\n",
      "Starting to extract posture\n",
      "Cropping based on the x1 = 0 x2 = 1280 y1 = 0 y2 = 1024. You can adjust the cropping coordinates in the config.yaml file.\n"
     ]
    },
    {
     "name": "stderr",
     "output_type": "stream",
     "text": [
      "100%|██████████| 200/200 [00:08<00:00, 24.10it/s]\n"
     ]
    },
    {
     "name": "stdout",
     "output_type": "stream",
     "text": [
      "Saving results in D:\\YuLab\\Work\\GPS\\Video\\Kennard\\GPS_08_Kornblum1500SRTSelf\\20231010\\Top\\Clips...\n",
      "Saving csv poses!\n",
      "Starting to analyze %  D:\\YuLab\\Work\\GPS\\Video\\Kennard\\GPS_08_Kornblum1500SRTSelf\\20231010\\Top\\Clips\\Kennard_20231010_HoldTrial029_TopView.avi\n",
      "Loading  D:\\YuLab\\Work\\GPS\\Video\\Kennard\\GPS_08_Kornblum1500SRTSelf\\20231010\\Top\\Clips\\Kennard_20231010_HoldTrial029_TopView.avi\n",
      "Duration of video [s]:  8.04 , recorded with  25.0 fps!\n",
      "Overall # of frames:  201  found with (before cropping) frame dimensions:  1280 1331\n",
      "Starting to extract posture\n",
      "Cropping based on the x1 = 0 x2 = 1280 y1 = 0 y2 = 1024. You can adjust the cropping coordinates in the config.yaml file.\n"
     ]
    },
    {
     "name": "stderr",
     "output_type": "stream",
     "text": [
      "100%|██████████| 201/201 [00:08<00:00, 23.58it/s]\n"
     ]
    },
    {
     "name": "stdout",
     "output_type": "stream",
     "text": [
      "Saving results in D:\\YuLab\\Work\\GPS\\Video\\Kennard\\GPS_08_Kornblum1500SRTSelf\\20231010\\Top\\Clips...\n",
      "Saving csv poses!\n",
      "Starting to analyze %  D:\\YuLab\\Work\\GPS\\Video\\Kennard\\GPS_08_Kornblum1500SRTSelf\\20231010\\Top\\Clips\\Kennard_20231010_HoldTrial030_TopView.avi\n",
      "Loading  D:\\YuLab\\Work\\GPS\\Video\\Kennard\\GPS_08_Kornblum1500SRTSelf\\20231010\\Top\\Clips\\Kennard_20231010_HoldTrial030_TopView.avi\n",
      "Duration of video [s]:  8.0 , recorded with  25.0 fps!\n",
      "Overall # of frames:  200  found with (before cropping) frame dimensions:  1280 1331\n",
      "Starting to extract posture\n",
      "Cropping based on the x1 = 0 x2 = 1280 y1 = 0 y2 = 1024. You can adjust the cropping coordinates in the config.yaml file.\n"
     ]
    },
    {
     "name": "stderr",
     "output_type": "stream",
     "text": [
      "100%|██████████| 200/200 [00:08<00:00, 24.21it/s]\n"
     ]
    },
    {
     "name": "stdout",
     "output_type": "stream",
     "text": [
      "Saving results in D:\\YuLab\\Work\\GPS\\Video\\Kennard\\GPS_08_Kornblum1500SRTSelf\\20231010\\Top\\Clips...\n",
      "Saving csv poses!\n",
      "Starting to analyze %  D:\\YuLab\\Work\\GPS\\Video\\Kennard\\GPS_08_Kornblum1500SRTSelf\\20231010\\Top\\Clips\\Kennard_20231010_HoldTrial031_TopView.avi\n",
      "Loading  D:\\YuLab\\Work\\GPS\\Video\\Kennard\\GPS_08_Kornblum1500SRTSelf\\20231010\\Top\\Clips\\Kennard_20231010_HoldTrial031_TopView.avi\n",
      "Duration of video [s]:  8.04 , recorded with  25.0 fps!\n",
      "Overall # of frames:  201  found with (before cropping) frame dimensions:  1280 1331\n",
      "Starting to extract posture\n",
      "Cropping based on the x1 = 0 x2 = 1280 y1 = 0 y2 = 1024. You can adjust the cropping coordinates in the config.yaml file.\n"
     ]
    },
    {
     "name": "stderr",
     "output_type": "stream",
     "text": [
      "100%|██████████| 201/201 [00:08<00:00, 23.55it/s]\n"
     ]
    },
    {
     "name": "stdout",
     "output_type": "stream",
     "text": [
      "Saving results in D:\\YuLab\\Work\\GPS\\Video\\Kennard\\GPS_08_Kornblum1500SRTSelf\\20231010\\Top\\Clips...\n",
      "Saving csv poses!\n",
      "Starting to analyze %  D:\\YuLab\\Work\\GPS\\Video\\Kennard\\GPS_08_Kornblum1500SRTSelf\\20231010\\Top\\Clips\\Kennard_20231010_HoldTrial032_TopView.avi\n",
      "Loading  D:\\YuLab\\Work\\GPS\\Video\\Kennard\\GPS_08_Kornblum1500SRTSelf\\20231010\\Top\\Clips\\Kennard_20231010_HoldTrial032_TopView.avi\n",
      "Duration of video [s]:  8.04 , recorded with  25.0 fps!\n",
      "Overall # of frames:  201  found with (before cropping) frame dimensions:  1280 1331\n",
      "Starting to extract posture\n",
      "Cropping based on the x1 = 0 x2 = 1280 y1 = 0 y2 = 1024. You can adjust the cropping coordinates in the config.yaml file.\n"
     ]
    },
    {
     "name": "stderr",
     "output_type": "stream",
     "text": [
      "100%|██████████| 201/201 [00:08<00:00, 23.49it/s]\n"
     ]
    },
    {
     "name": "stdout",
     "output_type": "stream",
     "text": [
      "Saving results in D:\\YuLab\\Work\\GPS\\Video\\Kennard\\GPS_08_Kornblum1500SRTSelf\\20231010\\Top\\Clips...\n",
      "Saving csv poses!\n",
      "Starting to analyze %  D:\\YuLab\\Work\\GPS\\Video\\Kennard\\GPS_08_Kornblum1500SRTSelf\\20231010\\Top\\Clips\\Kennard_20231010_HoldTrial033_TopView.avi\n",
      "Loading  D:\\YuLab\\Work\\GPS\\Video\\Kennard\\GPS_08_Kornblum1500SRTSelf\\20231010\\Top\\Clips\\Kennard_20231010_HoldTrial033_TopView.avi\n",
      "Duration of video [s]:  8.04 , recorded with  25.0 fps!\n",
      "Overall # of frames:  201  found with (before cropping) frame dimensions:  1280 1331\n",
      "Starting to extract posture\n",
      "Cropping based on the x1 = 0 x2 = 1280 y1 = 0 y2 = 1024. You can adjust the cropping coordinates in the config.yaml file.\n"
     ]
    },
    {
     "name": "stderr",
     "output_type": "stream",
     "text": [
      "100%|██████████| 201/201 [00:08<00:00, 23.45it/s]\n"
     ]
    },
    {
     "name": "stdout",
     "output_type": "stream",
     "text": [
      "Saving results in D:\\YuLab\\Work\\GPS\\Video\\Kennard\\GPS_08_Kornblum1500SRTSelf\\20231010\\Top\\Clips...\n",
      "Saving csv poses!\n",
      "Starting to analyze %  D:\\YuLab\\Work\\GPS\\Video\\Kennard\\GPS_08_Kornblum1500SRTSelf\\20231010\\Top\\Clips\\Kennard_20231010_HoldTrial034_TopView.avi\n",
      "Loading  D:\\YuLab\\Work\\GPS\\Video\\Kennard\\GPS_08_Kornblum1500SRTSelf\\20231010\\Top\\Clips\\Kennard_20231010_HoldTrial034_TopView.avi\n",
      "Duration of video [s]:  8.04 , recorded with  25.0 fps!\n",
      "Overall # of frames:  201  found with (before cropping) frame dimensions:  1280 1331\n",
      "Starting to extract posture\n",
      "Cropping based on the x1 = 0 x2 = 1280 y1 = 0 y2 = 1024. You can adjust the cropping coordinates in the config.yaml file.\n"
     ]
    },
    {
     "name": "stderr",
     "output_type": "stream",
     "text": [
      "100%|██████████| 201/201 [00:08<00:00, 23.52it/s]\n"
     ]
    },
    {
     "name": "stdout",
     "output_type": "stream",
     "text": [
      "Saving results in D:\\YuLab\\Work\\GPS\\Video\\Kennard\\GPS_08_Kornblum1500SRTSelf\\20231010\\Top\\Clips...\n",
      "Saving csv poses!\n",
      "Starting to analyze %  D:\\YuLab\\Work\\GPS\\Video\\Kennard\\GPS_08_Kornblum1500SRTSelf\\20231010\\Top\\Clips\\Kennard_20231010_HoldTrial035_TopView.avi\n",
      "Loading  D:\\YuLab\\Work\\GPS\\Video\\Kennard\\GPS_08_Kornblum1500SRTSelf\\20231010\\Top\\Clips\\Kennard_20231010_HoldTrial035_TopView.avi\n",
      "Duration of video [s]:  8.0 , recorded with  25.0 fps!\n",
      "Overall # of frames:  200  found with (before cropping) frame dimensions:  1280 1331\n",
      "Starting to extract posture\n",
      "Cropping based on the x1 = 0 x2 = 1280 y1 = 0 y2 = 1024. You can adjust the cropping coordinates in the config.yaml file.\n"
     ]
    },
    {
     "name": "stderr",
     "output_type": "stream",
     "text": [
      "100%|██████████| 200/200 [00:08<00:00, 24.12it/s]\n"
     ]
    },
    {
     "name": "stdout",
     "output_type": "stream",
     "text": [
      "Saving results in D:\\YuLab\\Work\\GPS\\Video\\Kennard\\GPS_08_Kornblum1500SRTSelf\\20231010\\Top\\Clips...\n",
      "Saving csv poses!\n",
      "Starting to analyze %  D:\\YuLab\\Work\\GPS\\Video\\Kennard\\GPS_08_Kornblum1500SRTSelf\\20231010\\Top\\Clips\\Kennard_20231010_HoldTrial036_TopView.avi\n",
      "Loading  D:\\YuLab\\Work\\GPS\\Video\\Kennard\\GPS_08_Kornblum1500SRTSelf\\20231010\\Top\\Clips\\Kennard_20231010_HoldTrial036_TopView.avi\n",
      "Duration of video [s]:  8.04 , recorded with  25.0 fps!\n",
      "Overall # of frames:  201  found with (before cropping) frame dimensions:  1280 1331\n",
      "Starting to extract posture\n",
      "Cropping based on the x1 = 0 x2 = 1280 y1 = 0 y2 = 1024. You can adjust the cropping coordinates in the config.yaml file.\n"
     ]
    },
    {
     "name": "stderr",
     "output_type": "stream",
     "text": [
      "100%|██████████| 201/201 [00:08<00:00, 23.46it/s]\n"
     ]
    },
    {
     "name": "stdout",
     "output_type": "stream",
     "text": [
      "Saving results in D:\\YuLab\\Work\\GPS\\Video\\Kennard\\GPS_08_Kornblum1500SRTSelf\\20231010\\Top\\Clips...\n",
      "Saving csv poses!\n",
      "Starting to analyze %  D:\\YuLab\\Work\\GPS\\Video\\Kennard\\GPS_08_Kornblum1500SRTSelf\\20231010\\Top\\Clips\\Kennard_20231010_HoldTrial037_TopView.avi\n",
      "Loading  D:\\YuLab\\Work\\GPS\\Video\\Kennard\\GPS_08_Kornblum1500SRTSelf\\20231010\\Top\\Clips\\Kennard_20231010_HoldTrial037_TopView.avi\n",
      "Duration of video [s]:  8.0 , recorded with  25.0 fps!\n",
      "Overall # of frames:  200  found with (before cropping) frame dimensions:  1280 1331\n",
      "Starting to extract posture\n",
      "Cropping based on the x1 = 0 x2 = 1280 y1 = 0 y2 = 1024. You can adjust the cropping coordinates in the config.yaml file.\n"
     ]
    },
    {
     "name": "stderr",
     "output_type": "stream",
     "text": [
      "100%|██████████| 200/200 [00:08<00:00, 24.14it/s]\n"
     ]
    },
    {
     "name": "stdout",
     "output_type": "stream",
     "text": [
      "Saving results in D:\\YuLab\\Work\\GPS\\Video\\Kennard\\GPS_08_Kornblum1500SRTSelf\\20231010\\Top\\Clips...\n",
      "Saving csv poses!\n",
      "Starting to analyze %  D:\\YuLab\\Work\\GPS\\Video\\Kennard\\GPS_08_Kornblum1500SRTSelf\\20231010\\Top\\Clips\\Kennard_20231010_HoldTrial038_TopView.avi\n",
      "Loading  D:\\YuLab\\Work\\GPS\\Video\\Kennard\\GPS_08_Kornblum1500SRTSelf\\20231010\\Top\\Clips\\Kennard_20231010_HoldTrial038_TopView.avi\n",
      "Duration of video [s]:  8.04 , recorded with  25.0 fps!\n",
      "Overall # of frames:  201  found with (before cropping) frame dimensions:  1280 1331\n",
      "Starting to extract posture\n",
      "Cropping based on the x1 = 0 x2 = 1280 y1 = 0 y2 = 1024. You can adjust the cropping coordinates in the config.yaml file.\n"
     ]
    },
    {
     "name": "stderr",
     "output_type": "stream",
     "text": [
      "100%|██████████| 201/201 [00:08<00:00, 23.63it/s]\n"
     ]
    },
    {
     "name": "stdout",
     "output_type": "stream",
     "text": [
      "Saving results in D:\\YuLab\\Work\\GPS\\Video\\Kennard\\GPS_08_Kornblum1500SRTSelf\\20231010\\Top\\Clips...\n",
      "Saving csv poses!\n",
      "Starting to analyze %  D:\\YuLab\\Work\\GPS\\Video\\Kennard\\GPS_08_Kornblum1500SRTSelf\\20231010\\Top\\Clips\\Kennard_20231010_HoldTrial039_TopView.avi\n",
      "Loading  D:\\YuLab\\Work\\GPS\\Video\\Kennard\\GPS_08_Kornblum1500SRTSelf\\20231010\\Top\\Clips\\Kennard_20231010_HoldTrial039_TopView.avi\n",
      "Duration of video [s]:  7.96 , recorded with  25.0 fps!\n",
      "Overall # of frames:  199  found with (before cropping) frame dimensions:  1280 1331\n",
      "Starting to extract posture\n",
      "Cropping based on the x1 = 0 x2 = 1280 y1 = 0 y2 = 1024. You can adjust the cropping coordinates in the config.yaml file.\n"
     ]
    },
    {
     "name": "stderr",
     "output_type": "stream",
     "text": [
      "100%|██████████| 199/199 [00:08<00:00, 24.26it/s]\n"
     ]
    },
    {
     "name": "stdout",
     "output_type": "stream",
     "text": [
      "Saving results in D:\\YuLab\\Work\\GPS\\Video\\Kennard\\GPS_08_Kornblum1500SRTSelf\\20231010\\Top\\Clips...\n",
      "Saving csv poses!\n",
      "Starting to analyze %  D:\\YuLab\\Work\\GPS\\Video\\Kennard\\GPS_08_Kornblum1500SRTSelf\\20231010\\Top\\Clips\\Kennard_20231010_HoldTrial040_TopView.avi\n",
      "Loading  D:\\YuLab\\Work\\GPS\\Video\\Kennard\\GPS_08_Kornblum1500SRTSelf\\20231010\\Top\\Clips\\Kennard_20231010_HoldTrial040_TopView.avi\n",
      "Duration of video [s]:  8.04 , recorded with  25.0 fps!\n",
      "Overall # of frames:  201  found with (before cropping) frame dimensions:  1280 1331\n",
      "Starting to extract posture\n",
      "Cropping based on the x1 = 0 x2 = 1280 y1 = 0 y2 = 1024. You can adjust the cropping coordinates in the config.yaml file.\n"
     ]
    },
    {
     "name": "stderr",
     "output_type": "stream",
     "text": [
      "100%|██████████| 201/201 [00:08<00:00, 23.67it/s]\n"
     ]
    },
    {
     "name": "stdout",
     "output_type": "stream",
     "text": [
      "Saving results in D:\\YuLab\\Work\\GPS\\Video\\Kennard\\GPS_08_Kornblum1500SRTSelf\\20231010\\Top\\Clips...\n",
      "Saving csv poses!\n",
      "Starting to analyze %  D:\\YuLab\\Work\\GPS\\Video\\Kennard\\GPS_08_Kornblum1500SRTSelf\\20231010\\Top\\Clips\\Kennard_20231010_HoldTrial041_TopView.avi\n",
      "Loading  D:\\YuLab\\Work\\GPS\\Video\\Kennard\\GPS_08_Kornblum1500SRTSelf\\20231010\\Top\\Clips\\Kennard_20231010_HoldTrial041_TopView.avi\n",
      "Duration of video [s]:  8.0 , recorded with  25.0 fps!\n",
      "Overall # of frames:  200  found with (before cropping) frame dimensions:  1280 1331\n",
      "Starting to extract posture\n",
      "Cropping based on the x1 = 0 x2 = 1280 y1 = 0 y2 = 1024. You can adjust the cropping coordinates in the config.yaml file.\n"
     ]
    },
    {
     "name": "stderr",
     "output_type": "stream",
     "text": [
      "100%|██████████| 200/200 [00:08<00:00, 24.30it/s]\n"
     ]
    },
    {
     "name": "stdout",
     "output_type": "stream",
     "text": [
      "Saving results in D:\\YuLab\\Work\\GPS\\Video\\Kennard\\GPS_08_Kornblum1500SRTSelf\\20231010\\Top\\Clips...\n",
      "Saving csv poses!\n",
      "Starting to analyze %  D:\\YuLab\\Work\\GPS\\Video\\Kennard\\GPS_08_Kornblum1500SRTSelf\\20231010\\Top\\Clips\\Kennard_20231010_HoldTrial042_TopView.avi\n",
      "Loading  D:\\YuLab\\Work\\GPS\\Video\\Kennard\\GPS_08_Kornblum1500SRTSelf\\20231010\\Top\\Clips\\Kennard_20231010_HoldTrial042_TopView.avi\n",
      "Duration of video [s]:  8.04 , recorded with  25.0 fps!\n",
      "Overall # of frames:  201  found with (before cropping) frame dimensions:  1280 1331\n",
      "Starting to extract posture\n",
      "Cropping based on the x1 = 0 x2 = 1280 y1 = 0 y2 = 1024. You can adjust the cropping coordinates in the config.yaml file.\n"
     ]
    },
    {
     "name": "stderr",
     "output_type": "stream",
     "text": [
      "100%|██████████| 201/201 [00:08<00:00, 23.70it/s]\n"
     ]
    },
    {
     "name": "stdout",
     "output_type": "stream",
     "text": [
      "Saving results in D:\\YuLab\\Work\\GPS\\Video\\Kennard\\GPS_08_Kornblum1500SRTSelf\\20231010\\Top\\Clips...\n",
      "Saving csv poses!\n",
      "Starting to analyze %  D:\\YuLab\\Work\\GPS\\Video\\Kennard\\GPS_08_Kornblum1500SRTSelf\\20231010\\Top\\Clips\\Kennard_20231010_HoldTrial043_TopView.avi\n",
      "Loading  D:\\YuLab\\Work\\GPS\\Video\\Kennard\\GPS_08_Kornblum1500SRTSelf\\20231010\\Top\\Clips\\Kennard_20231010_HoldTrial043_TopView.avi\n",
      "Duration of video [s]:  8.04 , recorded with  25.0 fps!\n",
      "Overall # of frames:  201  found with (before cropping) frame dimensions:  1280 1331\n",
      "Starting to extract posture\n",
      "Cropping based on the x1 = 0 x2 = 1280 y1 = 0 y2 = 1024. You can adjust the cropping coordinates in the config.yaml file.\n"
     ]
    },
    {
     "name": "stderr",
     "output_type": "stream",
     "text": [
      "100%|██████████| 201/201 [00:08<00:00, 23.70it/s]\n"
     ]
    },
    {
     "name": "stdout",
     "output_type": "stream",
     "text": [
      "Saving results in D:\\YuLab\\Work\\GPS\\Video\\Kennard\\GPS_08_Kornblum1500SRTSelf\\20231010\\Top\\Clips...\n",
      "Saving csv poses!\n",
      "Starting to analyze %  D:\\YuLab\\Work\\GPS\\Video\\Kennard\\GPS_08_Kornblum1500SRTSelf\\20231010\\Top\\Clips\\Kennard_20231010_HoldTrial044_TopView.avi\n",
      "Loading  D:\\YuLab\\Work\\GPS\\Video\\Kennard\\GPS_08_Kornblum1500SRTSelf\\20231010\\Top\\Clips\\Kennard_20231010_HoldTrial044_TopView.avi\n",
      "Duration of video [s]:  8.0 , recorded with  25.0 fps!\n",
      "Overall # of frames:  200  found with (before cropping) frame dimensions:  1280 1331\n",
      "Starting to extract posture\n",
      "Cropping based on the x1 = 0 x2 = 1280 y1 = 0 y2 = 1024. You can adjust the cropping coordinates in the config.yaml file.\n"
     ]
    },
    {
     "name": "stderr",
     "output_type": "stream",
     "text": [
      "100%|██████████| 200/200 [00:08<00:00, 24.31it/s]\n"
     ]
    },
    {
     "name": "stdout",
     "output_type": "stream",
     "text": [
      "Saving results in D:\\YuLab\\Work\\GPS\\Video\\Kennard\\GPS_08_Kornblum1500SRTSelf\\20231010\\Top\\Clips...\n",
      "Saving csv poses!\n",
      "Starting to analyze %  D:\\YuLab\\Work\\GPS\\Video\\Kennard\\GPS_08_Kornblum1500SRTSelf\\20231010\\Top\\Clips\\Kennard_20231010_HoldTrial045_TopView.avi\n",
      "Loading  D:\\YuLab\\Work\\GPS\\Video\\Kennard\\GPS_08_Kornblum1500SRTSelf\\20231010\\Top\\Clips\\Kennard_20231010_HoldTrial045_TopView.avi\n",
      "Duration of video [s]:  8.04 , recorded with  25.0 fps!\n",
      "Overall # of frames:  201  found with (before cropping) frame dimensions:  1280 1331\n",
      "Starting to extract posture\n",
      "Cropping based on the x1 = 0 x2 = 1280 y1 = 0 y2 = 1024. You can adjust the cropping coordinates in the config.yaml file.\n"
     ]
    },
    {
     "name": "stderr",
     "output_type": "stream",
     "text": [
      "100%|██████████| 201/201 [00:08<00:00, 23.56it/s]\n"
     ]
    },
    {
     "name": "stdout",
     "output_type": "stream",
     "text": [
      "Saving results in D:\\YuLab\\Work\\GPS\\Video\\Kennard\\GPS_08_Kornblum1500SRTSelf\\20231010\\Top\\Clips...\n",
      "Saving csv poses!\n",
      "Starting to analyze %  D:\\YuLab\\Work\\GPS\\Video\\Kennard\\GPS_08_Kornblum1500SRTSelf\\20231010\\Top\\Clips\\Kennard_20231010_HoldTrial046_TopView.avi\n",
      "Loading  D:\\YuLab\\Work\\GPS\\Video\\Kennard\\GPS_08_Kornblum1500SRTSelf\\20231010\\Top\\Clips\\Kennard_20231010_HoldTrial046_TopView.avi\n",
      "Duration of video [s]:  8.0 , recorded with  25.0 fps!\n",
      "Overall # of frames:  200  found with (before cropping) frame dimensions:  1280 1331\n",
      "Starting to extract posture\n",
      "Cropping based on the x1 = 0 x2 = 1280 y1 = 0 y2 = 1024. You can adjust the cropping coordinates in the config.yaml file.\n"
     ]
    },
    {
     "name": "stderr",
     "output_type": "stream",
     "text": [
      "100%|██████████| 200/200 [00:08<00:00, 24.19it/s]\n"
     ]
    },
    {
     "name": "stdout",
     "output_type": "stream",
     "text": [
      "Saving results in D:\\YuLab\\Work\\GPS\\Video\\Kennard\\GPS_08_Kornblum1500SRTSelf\\20231010\\Top\\Clips...\n",
      "Saving csv poses!\n",
      "Starting to analyze %  D:\\YuLab\\Work\\GPS\\Video\\Kennard\\GPS_08_Kornblum1500SRTSelf\\20231010\\Top\\Clips\\Kennard_20231010_HoldTrial047_TopView.avi\n",
      "Loading  D:\\YuLab\\Work\\GPS\\Video\\Kennard\\GPS_08_Kornblum1500SRTSelf\\20231010\\Top\\Clips\\Kennard_20231010_HoldTrial047_TopView.avi\n",
      "Duration of video [s]:  8.04 , recorded with  25.0 fps!\n",
      "Overall # of frames:  201  found with (before cropping) frame dimensions:  1280 1331\n",
      "Starting to extract posture\n",
      "Cropping based on the x1 = 0 x2 = 1280 y1 = 0 y2 = 1024. You can adjust the cropping coordinates in the config.yaml file.\n"
     ]
    },
    {
     "name": "stderr",
     "output_type": "stream",
     "text": [
      "100%|██████████| 201/201 [00:08<00:00, 23.49it/s]\n"
     ]
    },
    {
     "name": "stdout",
     "output_type": "stream",
     "text": [
      "Saving results in D:\\YuLab\\Work\\GPS\\Video\\Kennard\\GPS_08_Kornblum1500SRTSelf\\20231010\\Top\\Clips...\n",
      "Saving csv poses!\n",
      "Starting to analyze %  D:\\YuLab\\Work\\GPS\\Video\\Kennard\\GPS_08_Kornblum1500SRTSelf\\20231010\\Top\\Clips\\Kennard_20231010_HoldTrial048_TopView.avi\n",
      "Loading  D:\\YuLab\\Work\\GPS\\Video\\Kennard\\GPS_08_Kornblum1500SRTSelf\\20231010\\Top\\Clips\\Kennard_20231010_HoldTrial048_TopView.avi\n",
      "Duration of video [s]:  8.04 , recorded with  25.0 fps!\n",
      "Overall # of frames:  201  found with (before cropping) frame dimensions:  1280 1331\n",
      "Starting to extract posture\n",
      "Cropping based on the x1 = 0 x2 = 1280 y1 = 0 y2 = 1024. You can adjust the cropping coordinates in the config.yaml file.\n"
     ]
    },
    {
     "name": "stderr",
     "output_type": "stream",
     "text": [
      "100%|██████████| 201/201 [00:08<00:00, 23.44it/s]\n"
     ]
    },
    {
     "name": "stdout",
     "output_type": "stream",
     "text": [
      "Saving results in D:\\YuLab\\Work\\GPS\\Video\\Kennard\\GPS_08_Kornblum1500SRTSelf\\20231010\\Top\\Clips...\n",
      "Saving csv poses!\n",
      "Starting to analyze %  D:\\YuLab\\Work\\GPS\\Video\\Kennard\\GPS_08_Kornblum1500SRTSelf\\20231010\\Top\\Clips\\Kennard_20231010_HoldTrial049_TopView.avi\n",
      "Loading  D:\\YuLab\\Work\\GPS\\Video\\Kennard\\GPS_08_Kornblum1500SRTSelf\\20231010\\Top\\Clips\\Kennard_20231010_HoldTrial049_TopView.avi\n",
      "Duration of video [s]:  8.04 , recorded with  25.0 fps!\n",
      "Overall # of frames:  201  found with (before cropping) frame dimensions:  1280 1331\n",
      "Starting to extract posture\n",
      "Cropping based on the x1 = 0 x2 = 1280 y1 = 0 y2 = 1024. You can adjust the cropping coordinates in the config.yaml file.\n"
     ]
    },
    {
     "name": "stderr",
     "output_type": "stream",
     "text": [
      "100%|██████████| 201/201 [00:08<00:00, 23.45it/s]\n"
     ]
    },
    {
     "name": "stdout",
     "output_type": "stream",
     "text": [
      "Saving results in D:\\YuLab\\Work\\GPS\\Video\\Kennard\\GPS_08_Kornblum1500SRTSelf\\20231010\\Top\\Clips...\n",
      "Saving csv poses!\n",
      "Starting to analyze %  D:\\YuLab\\Work\\GPS\\Video\\Kennard\\GPS_08_Kornblum1500SRTSelf\\20231010\\Top\\Clips\\Kennard_20231010_HoldTrial050_TopView.avi\n",
      "Loading  D:\\YuLab\\Work\\GPS\\Video\\Kennard\\GPS_08_Kornblum1500SRTSelf\\20231010\\Top\\Clips\\Kennard_20231010_HoldTrial050_TopView.avi\n",
      "Duration of video [s]:  8.04 , recorded with  25.0 fps!\n",
      "Overall # of frames:  201  found with (before cropping) frame dimensions:  1280 1331\n",
      "Starting to extract posture\n",
      "Cropping based on the x1 = 0 x2 = 1280 y1 = 0 y2 = 1024. You can adjust the cropping coordinates in the config.yaml file.\n"
     ]
    },
    {
     "name": "stderr",
     "output_type": "stream",
     "text": [
      "100%|██████████| 201/201 [00:08<00:00, 23.47it/s]\n"
     ]
    },
    {
     "name": "stdout",
     "output_type": "stream",
     "text": [
      "Saving results in D:\\YuLab\\Work\\GPS\\Video\\Kennard\\GPS_08_Kornblum1500SRTSelf\\20231010\\Top\\Clips...\n",
      "Saving csv poses!\n",
      "Starting to analyze %  D:\\YuLab\\Work\\GPS\\Video\\Kennard\\GPS_08_Kornblum1500SRTSelf\\20231010\\Top\\Clips\\Kennard_20231010_HoldTrial051_TopView.avi\n",
      "Loading  D:\\YuLab\\Work\\GPS\\Video\\Kennard\\GPS_08_Kornblum1500SRTSelf\\20231010\\Top\\Clips\\Kennard_20231010_HoldTrial051_TopView.avi\n",
      "Duration of video [s]:  8.0 , recorded with  25.0 fps!\n",
      "Overall # of frames:  200  found with (before cropping) frame dimensions:  1280 1331\n",
      "Starting to extract posture\n",
      "Cropping based on the x1 = 0 x2 = 1280 y1 = 0 y2 = 1024. You can adjust the cropping coordinates in the config.yaml file.\n"
     ]
    },
    {
     "name": "stderr",
     "output_type": "stream",
     "text": [
      "100%|██████████| 200/200 [00:08<00:00, 24.15it/s]\n"
     ]
    },
    {
     "name": "stdout",
     "output_type": "stream",
     "text": [
      "Saving results in D:\\YuLab\\Work\\GPS\\Video\\Kennard\\GPS_08_Kornblum1500SRTSelf\\20231010\\Top\\Clips...\n",
      "Saving csv poses!\n",
      "Starting to analyze %  D:\\YuLab\\Work\\GPS\\Video\\Kennard\\GPS_08_Kornblum1500SRTSelf\\20231010\\Top\\Clips\\Kennard_20231010_HoldTrial052_TopView.avi\n",
      "Loading  D:\\YuLab\\Work\\GPS\\Video\\Kennard\\GPS_08_Kornblum1500SRTSelf\\20231010\\Top\\Clips\\Kennard_20231010_HoldTrial052_TopView.avi\n",
      "Duration of video [s]:  8.04 , recorded with  25.0 fps!\n",
      "Overall # of frames:  201  found with (before cropping) frame dimensions:  1280 1331\n",
      "Starting to extract posture\n",
      "Cropping based on the x1 = 0 x2 = 1280 y1 = 0 y2 = 1024. You can adjust the cropping coordinates in the config.yaml file.\n"
     ]
    },
    {
     "name": "stderr",
     "output_type": "stream",
     "text": [
      "100%|██████████| 201/201 [00:08<00:00, 23.50it/s]\n"
     ]
    },
    {
     "name": "stdout",
     "output_type": "stream",
     "text": [
      "Saving results in D:\\YuLab\\Work\\GPS\\Video\\Kennard\\GPS_08_Kornblum1500SRTSelf\\20231010\\Top\\Clips...\n",
      "Saving csv poses!\n",
      "Starting to analyze %  D:\\YuLab\\Work\\GPS\\Video\\Kennard\\GPS_08_Kornblum1500SRTSelf\\20231010\\Top\\Clips\\Kennard_20231010_HoldTrial053_TopView.avi\n",
      "Loading  D:\\YuLab\\Work\\GPS\\Video\\Kennard\\GPS_08_Kornblum1500SRTSelf\\20231010\\Top\\Clips\\Kennard_20231010_HoldTrial053_TopView.avi\n",
      "Duration of video [s]:  8.0 , recorded with  25.0 fps!\n",
      "Overall # of frames:  200  found with (before cropping) frame dimensions:  1280 1331\n",
      "Starting to extract posture\n",
      "Cropping based on the x1 = 0 x2 = 1280 y1 = 0 y2 = 1024. You can adjust the cropping coordinates in the config.yaml file.\n"
     ]
    },
    {
     "name": "stderr",
     "output_type": "stream",
     "text": [
      "100%|██████████| 200/200 [00:08<00:00, 24.12it/s]\n"
     ]
    },
    {
     "name": "stdout",
     "output_type": "stream",
     "text": [
      "Saving results in D:\\YuLab\\Work\\GPS\\Video\\Kennard\\GPS_08_Kornblum1500SRTSelf\\20231010\\Top\\Clips...\n",
      "Saving csv poses!\n",
      "Starting to analyze %  D:\\YuLab\\Work\\GPS\\Video\\Kennard\\GPS_08_Kornblum1500SRTSelf\\20231010\\Top\\Clips\\Kennard_20231010_HoldTrial055_TopView.avi\n",
      "Loading  D:\\YuLab\\Work\\GPS\\Video\\Kennard\\GPS_08_Kornblum1500SRTSelf\\20231010\\Top\\Clips\\Kennard_20231010_HoldTrial055_TopView.avi\n",
      "Duration of video [s]:  8.0 , recorded with  25.0 fps!\n",
      "Overall # of frames:  200  found with (before cropping) frame dimensions:  1280 1331\n",
      "Starting to extract posture\n",
      "Cropping based on the x1 = 0 x2 = 1280 y1 = 0 y2 = 1024. You can adjust the cropping coordinates in the config.yaml file.\n"
     ]
    },
    {
     "name": "stderr",
     "output_type": "stream",
     "text": [
      "100%|██████████| 200/200 [00:08<00:00, 24.12it/s]\n"
     ]
    },
    {
     "name": "stdout",
     "output_type": "stream",
     "text": [
      "Saving results in D:\\YuLab\\Work\\GPS\\Video\\Kennard\\GPS_08_Kornblum1500SRTSelf\\20231010\\Top\\Clips...\n",
      "Saving csv poses!\n",
      "Starting to analyze %  D:\\YuLab\\Work\\GPS\\Video\\Kennard\\GPS_08_Kornblum1500SRTSelf\\20231010\\Top\\Clips\\Kennard_20231010_HoldTrial056_TopView.avi\n",
      "Loading  D:\\YuLab\\Work\\GPS\\Video\\Kennard\\GPS_08_Kornblum1500SRTSelf\\20231010\\Top\\Clips\\Kennard_20231010_HoldTrial056_TopView.avi\n",
      "Duration of video [s]:  8.04 , recorded with  25.0 fps!\n",
      "Overall # of frames:  201  found with (before cropping) frame dimensions:  1280 1331\n",
      "Starting to extract posture\n",
      "Cropping based on the x1 = 0 x2 = 1280 y1 = 0 y2 = 1024. You can adjust the cropping coordinates in the config.yaml file.\n"
     ]
    },
    {
     "name": "stderr",
     "output_type": "stream",
     "text": [
      "100%|██████████| 201/201 [00:08<00:00, 23.58it/s]\n"
     ]
    },
    {
     "name": "stdout",
     "output_type": "stream",
     "text": [
      "Saving results in D:\\YuLab\\Work\\GPS\\Video\\Kennard\\GPS_08_Kornblum1500SRTSelf\\20231010\\Top\\Clips...\n",
      "Saving csv poses!\n",
      "Starting to analyze %  D:\\YuLab\\Work\\GPS\\Video\\Kennard\\GPS_08_Kornblum1500SRTSelf\\20231010\\Top\\Clips\\Kennard_20231010_HoldTrial057_TopView.avi\n",
      "Loading  D:\\YuLab\\Work\\GPS\\Video\\Kennard\\GPS_08_Kornblum1500SRTSelf\\20231010\\Top\\Clips\\Kennard_20231010_HoldTrial057_TopView.avi\n",
      "Duration of video [s]:  8.04 , recorded with  25.0 fps!\n",
      "Overall # of frames:  201  found with (before cropping) frame dimensions:  1280 1331\n",
      "Starting to extract posture\n",
      "Cropping based on the x1 = 0 x2 = 1280 y1 = 0 y2 = 1024. You can adjust the cropping coordinates in the config.yaml file.\n"
     ]
    },
    {
     "name": "stderr",
     "output_type": "stream",
     "text": [
      "100%|██████████| 201/201 [00:08<00:00, 23.57it/s]\n"
     ]
    },
    {
     "name": "stdout",
     "output_type": "stream",
     "text": [
      "Saving results in D:\\YuLab\\Work\\GPS\\Video\\Kennard\\GPS_08_Kornblum1500SRTSelf\\20231010\\Top\\Clips...\n",
      "Saving csv poses!\n",
      "Starting to analyze %  D:\\YuLab\\Work\\GPS\\Video\\Kennard\\GPS_08_Kornblum1500SRTSelf\\20231010\\Top\\Clips\\Kennard_20231010_HoldTrial058_TopView.avi\n",
      "Loading  D:\\YuLab\\Work\\GPS\\Video\\Kennard\\GPS_08_Kornblum1500SRTSelf\\20231010\\Top\\Clips\\Kennard_20231010_HoldTrial058_TopView.avi\n",
      "Duration of video [s]:  8.04 , recorded with  25.0 fps!\n",
      "Overall # of frames:  201  found with (before cropping) frame dimensions:  1280 1331\n",
      "Starting to extract posture\n",
      "Cropping based on the x1 = 0 x2 = 1280 y1 = 0 y2 = 1024. You can adjust the cropping coordinates in the config.yaml file.\n"
     ]
    },
    {
     "name": "stderr",
     "output_type": "stream",
     "text": [
      "100%|██████████| 201/201 [00:08<00:00, 23.55it/s]\n"
     ]
    },
    {
     "name": "stdout",
     "output_type": "stream",
     "text": [
      "Saving results in D:\\YuLab\\Work\\GPS\\Video\\Kennard\\GPS_08_Kornblum1500SRTSelf\\20231010\\Top\\Clips...\n",
      "Saving csv poses!\n",
      "Starting to analyze %  D:\\YuLab\\Work\\GPS\\Video\\Kennard\\GPS_08_Kornblum1500SRTSelf\\20231010\\Top\\Clips\\Kennard_20231010_HoldTrial059_TopView.avi\n",
      "Loading  D:\\YuLab\\Work\\GPS\\Video\\Kennard\\GPS_08_Kornblum1500SRTSelf\\20231010\\Top\\Clips\\Kennard_20231010_HoldTrial059_TopView.avi\n",
      "Duration of video [s]:  8.0 , recorded with  25.0 fps!\n",
      "Overall # of frames:  200  found with (before cropping) frame dimensions:  1280 1331\n",
      "Starting to extract posture\n",
      "Cropping based on the x1 = 0 x2 = 1280 y1 = 0 y2 = 1024. You can adjust the cropping coordinates in the config.yaml file.\n"
     ]
    },
    {
     "name": "stderr",
     "output_type": "stream",
     "text": [
      "100%|██████████| 200/200 [00:08<00:00, 24.13it/s]\n"
     ]
    },
    {
     "name": "stdout",
     "output_type": "stream",
     "text": [
      "Saving results in D:\\YuLab\\Work\\GPS\\Video\\Kennard\\GPS_08_Kornblum1500SRTSelf\\20231010\\Top\\Clips...\n",
      "Saving csv poses!\n",
      "Starting to analyze %  D:\\YuLab\\Work\\GPS\\Video\\Kennard\\GPS_08_Kornblum1500SRTSelf\\20231010\\Top\\Clips\\Kennard_20231010_HoldTrial060_TopView.avi\n",
      "Loading  D:\\YuLab\\Work\\GPS\\Video\\Kennard\\GPS_08_Kornblum1500SRTSelf\\20231010\\Top\\Clips\\Kennard_20231010_HoldTrial060_TopView.avi\n",
      "Duration of video [s]:  8.04 , recorded with  25.0 fps!\n",
      "Overall # of frames:  201  found with (before cropping) frame dimensions:  1280 1331\n",
      "Starting to extract posture\n",
      "Cropping based on the x1 = 0 x2 = 1280 y1 = 0 y2 = 1024. You can adjust the cropping coordinates in the config.yaml file.\n"
     ]
    },
    {
     "name": "stderr",
     "output_type": "stream",
     "text": [
      "100%|██████████| 201/201 [00:08<00:00, 23.47it/s]\n"
     ]
    },
    {
     "name": "stdout",
     "output_type": "stream",
     "text": [
      "Saving results in D:\\YuLab\\Work\\GPS\\Video\\Kennard\\GPS_08_Kornblum1500SRTSelf\\20231010\\Top\\Clips...\n",
      "Saving csv poses!\n",
      "Starting to analyze %  D:\\YuLab\\Work\\GPS\\Video\\Kennard\\GPS_08_Kornblum1500SRTSelf\\20231010\\Top\\Clips\\Kennard_20231010_HoldTrial061_TopView.avi\n",
      "Loading  D:\\YuLab\\Work\\GPS\\Video\\Kennard\\GPS_08_Kornblum1500SRTSelf\\20231010\\Top\\Clips\\Kennard_20231010_HoldTrial061_TopView.avi\n",
      "Duration of video [s]:  8.04 , recorded with  25.0 fps!\n",
      "Overall # of frames:  201  found with (before cropping) frame dimensions:  1280 1331\n",
      "Starting to extract posture\n",
      "Cropping based on the x1 = 0 x2 = 1280 y1 = 0 y2 = 1024. You can adjust the cropping coordinates in the config.yaml file.\n"
     ]
    },
    {
     "name": "stderr",
     "output_type": "stream",
     "text": [
      "100%|██████████| 201/201 [00:08<00:00, 23.47it/s]\n"
     ]
    },
    {
     "name": "stdout",
     "output_type": "stream",
     "text": [
      "Saving results in D:\\YuLab\\Work\\GPS\\Video\\Kennard\\GPS_08_Kornblum1500SRTSelf\\20231010\\Top\\Clips...\n",
      "Saving csv poses!\n",
      "Starting to analyze %  D:\\YuLab\\Work\\GPS\\Video\\Kennard\\GPS_08_Kornblum1500SRTSelf\\20231010\\Top\\Clips\\Kennard_20231010_HoldTrial062_TopView.avi\n",
      "Loading  D:\\YuLab\\Work\\GPS\\Video\\Kennard\\GPS_08_Kornblum1500SRTSelf\\20231010\\Top\\Clips\\Kennard_20231010_HoldTrial062_TopView.avi\n",
      "Duration of video [s]:  8.04 , recorded with  25.0 fps!\n",
      "Overall # of frames:  201  found with (before cropping) frame dimensions:  1280 1331\n",
      "Starting to extract posture\n",
      "Cropping based on the x1 = 0 x2 = 1280 y1 = 0 y2 = 1024. You can adjust the cropping coordinates in the config.yaml file.\n"
     ]
    },
    {
     "name": "stderr",
     "output_type": "stream",
     "text": [
      "100%|██████████| 201/201 [00:08<00:00, 23.46it/s]\n"
     ]
    },
    {
     "name": "stdout",
     "output_type": "stream",
     "text": [
      "Saving results in D:\\YuLab\\Work\\GPS\\Video\\Kennard\\GPS_08_Kornblum1500SRTSelf\\20231010\\Top\\Clips...\n",
      "Saving csv poses!\n",
      "Starting to analyze %  D:\\YuLab\\Work\\GPS\\Video\\Kennard\\GPS_08_Kornblum1500SRTSelf\\20231010\\Top\\Clips\\Kennard_20231010_HoldTrial063_TopView.avi\n",
      "Loading  D:\\YuLab\\Work\\GPS\\Video\\Kennard\\GPS_08_Kornblum1500SRTSelf\\20231010\\Top\\Clips\\Kennard_20231010_HoldTrial063_TopView.avi\n",
      "Duration of video [s]:  8.04 , recorded with  25.0 fps!\n",
      "Overall # of frames:  201  found with (before cropping) frame dimensions:  1280 1331\n",
      "Starting to extract posture\n",
      "Cropping based on the x1 = 0 x2 = 1280 y1 = 0 y2 = 1024. You can adjust the cropping coordinates in the config.yaml file.\n"
     ]
    },
    {
     "name": "stderr",
     "output_type": "stream",
     "text": [
      "100%|██████████| 201/201 [00:08<00:00, 23.53it/s]\n"
     ]
    },
    {
     "name": "stdout",
     "output_type": "stream",
     "text": [
      "Saving results in D:\\YuLab\\Work\\GPS\\Video\\Kennard\\GPS_08_Kornblum1500SRTSelf\\20231010\\Top\\Clips...\n",
      "Saving csv poses!\n",
      "Starting to analyze %  D:\\YuLab\\Work\\GPS\\Video\\Kennard\\GPS_08_Kornblum1500SRTSelf\\20231010\\Top\\Clips\\Kennard_20231010_HoldTrial064_TopView.avi\n",
      "Loading  D:\\YuLab\\Work\\GPS\\Video\\Kennard\\GPS_08_Kornblum1500SRTSelf\\20231010\\Top\\Clips\\Kennard_20231010_HoldTrial064_TopView.avi\n",
      "Duration of video [s]:  8.0 , recorded with  25.0 fps!\n",
      "Overall # of frames:  200  found with (before cropping) frame dimensions:  1280 1331\n",
      "Starting to extract posture\n",
      "Cropping based on the x1 = 0 x2 = 1280 y1 = 0 y2 = 1024. You can adjust the cropping coordinates in the config.yaml file.\n"
     ]
    },
    {
     "name": "stderr",
     "output_type": "stream",
     "text": [
      "100%|██████████| 200/200 [00:08<00:00, 24.11it/s]\n"
     ]
    },
    {
     "name": "stdout",
     "output_type": "stream",
     "text": [
      "Saving results in D:\\YuLab\\Work\\GPS\\Video\\Kennard\\GPS_08_Kornblum1500SRTSelf\\20231010\\Top\\Clips...\n",
      "Saving csv poses!\n",
      "Starting to analyze %  D:\\YuLab\\Work\\GPS\\Video\\Kennard\\GPS_08_Kornblum1500SRTSelf\\20231010\\Top\\Clips\\Kennard_20231010_HoldTrial065_TopView.avi\n",
      "Loading  D:\\YuLab\\Work\\GPS\\Video\\Kennard\\GPS_08_Kornblum1500SRTSelf\\20231010\\Top\\Clips\\Kennard_20231010_HoldTrial065_TopView.avi\n",
      "Duration of video [s]:  8.0 , recorded with  25.0 fps!\n",
      "Overall # of frames:  200  found with (before cropping) frame dimensions:  1280 1331\n",
      "Starting to extract posture\n",
      "Cropping based on the x1 = 0 x2 = 1280 y1 = 0 y2 = 1024. You can adjust the cropping coordinates in the config.yaml file.\n"
     ]
    },
    {
     "name": "stderr",
     "output_type": "stream",
     "text": [
      "100%|██████████| 200/200 [00:08<00:00, 24.10it/s]\n"
     ]
    },
    {
     "name": "stdout",
     "output_type": "stream",
     "text": [
      "Saving results in D:\\YuLab\\Work\\GPS\\Video\\Kennard\\GPS_08_Kornblum1500SRTSelf\\20231010\\Top\\Clips...\n",
      "Saving csv poses!\n",
      "Starting to analyze %  D:\\YuLab\\Work\\GPS\\Video\\Kennard\\GPS_08_Kornblum1500SRTSelf\\20231010\\Top\\Clips\\Kennard_20231010_HoldTrial066_TopView.avi\n",
      "Loading  D:\\YuLab\\Work\\GPS\\Video\\Kennard\\GPS_08_Kornblum1500SRTSelf\\20231010\\Top\\Clips\\Kennard_20231010_HoldTrial066_TopView.avi\n",
      "Duration of video [s]:  8.04 , recorded with  25.0 fps!\n",
      "Overall # of frames:  201  found with (before cropping) frame dimensions:  1280 1331\n",
      "Starting to extract posture\n",
      "Cropping based on the x1 = 0 x2 = 1280 y1 = 0 y2 = 1024. You can adjust the cropping coordinates in the config.yaml file.\n"
     ]
    },
    {
     "name": "stderr",
     "output_type": "stream",
     "text": [
      "100%|██████████| 201/201 [00:08<00:00, 23.51it/s]\n"
     ]
    },
    {
     "name": "stdout",
     "output_type": "stream",
     "text": [
      "Saving results in D:\\YuLab\\Work\\GPS\\Video\\Kennard\\GPS_08_Kornblum1500SRTSelf\\20231010\\Top\\Clips...\n",
      "Saving csv poses!\n",
      "Starting to analyze %  D:\\YuLab\\Work\\GPS\\Video\\Kennard\\GPS_08_Kornblum1500SRTSelf\\20231010\\Top\\Clips\\Kennard_20231010_HoldTrial067_TopView.avi\n",
      "Loading  D:\\YuLab\\Work\\GPS\\Video\\Kennard\\GPS_08_Kornblum1500SRTSelf\\20231010\\Top\\Clips\\Kennard_20231010_HoldTrial067_TopView.avi\n",
      "Duration of video [s]:  8.0 , recorded with  25.0 fps!\n",
      "Overall # of frames:  200  found with (before cropping) frame dimensions:  1280 1331\n",
      "Starting to extract posture\n",
      "Cropping based on the x1 = 0 x2 = 1280 y1 = 0 y2 = 1024. You can adjust the cropping coordinates in the config.yaml file.\n"
     ]
    },
    {
     "name": "stderr",
     "output_type": "stream",
     "text": [
      "100%|██████████| 200/200 [00:08<00:00, 24.12it/s]\n"
     ]
    },
    {
     "name": "stdout",
     "output_type": "stream",
     "text": [
      "Saving results in D:\\YuLab\\Work\\GPS\\Video\\Kennard\\GPS_08_Kornblum1500SRTSelf\\20231010\\Top\\Clips...\n",
      "Saving csv poses!\n",
      "Starting to analyze %  D:\\YuLab\\Work\\GPS\\Video\\Kennard\\GPS_08_Kornblum1500SRTSelf\\20231010\\Top\\Clips\\Kennard_20231010_HoldTrial068_TopView.avi\n",
      "Loading  D:\\YuLab\\Work\\GPS\\Video\\Kennard\\GPS_08_Kornblum1500SRTSelf\\20231010\\Top\\Clips\\Kennard_20231010_HoldTrial068_TopView.avi\n",
      "Duration of video [s]:  8.04 , recorded with  25.0 fps!\n",
      "Overall # of frames:  201  found with (before cropping) frame dimensions:  1280 1331\n",
      "Starting to extract posture\n",
      "Cropping based on the x1 = 0 x2 = 1280 y1 = 0 y2 = 1024. You can adjust the cropping coordinates in the config.yaml file.\n"
     ]
    },
    {
     "name": "stderr",
     "output_type": "stream",
     "text": [
      "100%|██████████| 201/201 [00:08<00:00, 23.43it/s]\n"
     ]
    },
    {
     "name": "stdout",
     "output_type": "stream",
     "text": [
      "Saving results in D:\\YuLab\\Work\\GPS\\Video\\Kennard\\GPS_08_Kornblum1500SRTSelf\\20231010\\Top\\Clips...\n",
      "Saving csv poses!\n",
      "Starting to analyze %  D:\\YuLab\\Work\\GPS\\Video\\Kennard\\GPS_08_Kornblum1500SRTSelf\\20231010\\Top\\Clips\\Kennard_20231010_HoldTrial069_TopView.avi\n",
      "Loading  D:\\YuLab\\Work\\GPS\\Video\\Kennard\\GPS_08_Kornblum1500SRTSelf\\20231010\\Top\\Clips\\Kennard_20231010_HoldTrial069_TopView.avi\n",
      "Duration of video [s]:  8.0 , recorded with  25.0 fps!\n",
      "Overall # of frames:  200  found with (before cropping) frame dimensions:  1280 1331\n",
      "Starting to extract posture\n",
      "Cropping based on the x1 = 0 x2 = 1280 y1 = 0 y2 = 1024. You can adjust the cropping coordinates in the config.yaml file.\n"
     ]
    },
    {
     "name": "stderr",
     "output_type": "stream",
     "text": [
      "100%|██████████| 200/200 [00:08<00:00, 24.10it/s]\n"
     ]
    },
    {
     "name": "stdout",
     "output_type": "stream",
     "text": [
      "Saving results in D:\\YuLab\\Work\\GPS\\Video\\Kennard\\GPS_08_Kornblum1500SRTSelf\\20231010\\Top\\Clips...\n",
      "Saving csv poses!\n",
      "Starting to analyze %  D:\\YuLab\\Work\\GPS\\Video\\Kennard\\GPS_08_Kornblum1500SRTSelf\\20231010\\Top\\Clips\\Kennard_20231010_HoldTrial070_TopView.avi\n",
      "Loading  D:\\YuLab\\Work\\GPS\\Video\\Kennard\\GPS_08_Kornblum1500SRTSelf\\20231010\\Top\\Clips\\Kennard_20231010_HoldTrial070_TopView.avi\n",
      "Duration of video [s]:  8.0 , recorded with  25.0 fps!\n",
      "Overall # of frames:  200  found with (before cropping) frame dimensions:  1280 1331\n",
      "Starting to extract posture\n",
      "Cropping based on the x1 = 0 x2 = 1280 y1 = 0 y2 = 1024. You can adjust the cropping coordinates in the config.yaml file.\n"
     ]
    },
    {
     "name": "stderr",
     "output_type": "stream",
     "text": [
      "100%|██████████| 200/200 [00:08<00:00, 24.11it/s]\n"
     ]
    },
    {
     "name": "stdout",
     "output_type": "stream",
     "text": [
      "Saving results in D:\\YuLab\\Work\\GPS\\Video\\Kennard\\GPS_08_Kornblum1500SRTSelf\\20231010\\Top\\Clips...\n",
      "Saving csv poses!\n",
      "Starting to analyze %  D:\\YuLab\\Work\\GPS\\Video\\Kennard\\GPS_08_Kornblum1500SRTSelf\\20231010\\Top\\Clips\\Kennard_20231010_HoldTrial071_TopView.avi\n",
      "Loading  D:\\YuLab\\Work\\GPS\\Video\\Kennard\\GPS_08_Kornblum1500SRTSelf\\20231010\\Top\\Clips\\Kennard_20231010_HoldTrial071_TopView.avi\n",
      "Duration of video [s]:  8.08 , recorded with  25.0 fps!\n",
      "Overall # of frames:  202  found with (before cropping) frame dimensions:  1280 1331\n",
      "Starting to extract posture\n",
      "Cropping based on the x1 = 0 x2 = 1280 y1 = 0 y2 = 1024. You can adjust the cropping coordinates in the config.yaml file.\n"
     ]
    },
    {
     "name": "stderr",
     "output_type": "stream",
     "text": [
      "100%|██████████| 202/202 [00:08<00:00, 23.57it/s]\n"
     ]
    },
    {
     "name": "stdout",
     "output_type": "stream",
     "text": [
      "Saving results in D:\\YuLab\\Work\\GPS\\Video\\Kennard\\GPS_08_Kornblum1500SRTSelf\\20231010\\Top\\Clips...\n",
      "Saving csv poses!\n",
      "Starting to analyze %  D:\\YuLab\\Work\\GPS\\Video\\Kennard\\GPS_08_Kornblum1500SRTSelf\\20231010\\Top\\Clips\\Kennard_20231010_HoldTrial072_TopView.avi\n",
      "Loading  D:\\YuLab\\Work\\GPS\\Video\\Kennard\\GPS_08_Kornblum1500SRTSelf\\20231010\\Top\\Clips\\Kennard_20231010_HoldTrial072_TopView.avi\n",
      "Duration of video [s]:  8.0 , recorded with  25.0 fps!\n",
      "Overall # of frames:  200  found with (before cropping) frame dimensions:  1280 1331\n",
      "Starting to extract posture\n",
      "Cropping based on the x1 = 0 x2 = 1280 y1 = 0 y2 = 1024. You can adjust the cropping coordinates in the config.yaml file.\n"
     ]
    },
    {
     "name": "stderr",
     "output_type": "stream",
     "text": [
      "100%|██████████| 200/200 [00:08<00:00, 24.23it/s]\n"
     ]
    },
    {
     "name": "stdout",
     "output_type": "stream",
     "text": [
      "Saving results in D:\\YuLab\\Work\\GPS\\Video\\Kennard\\GPS_08_Kornblum1500SRTSelf\\20231010\\Top\\Clips...\n",
      "Saving csv poses!\n",
      "Starting to analyze %  D:\\YuLab\\Work\\GPS\\Video\\Kennard\\GPS_08_Kornblum1500SRTSelf\\20231010\\Top\\Clips\\Kennard_20231010_HoldTrial073_TopView.avi\n",
      "Loading  D:\\YuLab\\Work\\GPS\\Video\\Kennard\\GPS_08_Kornblum1500SRTSelf\\20231010\\Top\\Clips\\Kennard_20231010_HoldTrial073_TopView.avi\n",
      "Duration of video [s]:  8.04 , recorded with  25.0 fps!\n",
      "Overall # of frames:  201  found with (before cropping) frame dimensions:  1280 1331\n",
      "Starting to extract posture\n",
      "Cropping based on the x1 = 0 x2 = 1280 y1 = 0 y2 = 1024. You can adjust the cropping coordinates in the config.yaml file.\n"
     ]
    },
    {
     "name": "stderr",
     "output_type": "stream",
     "text": [
      "100%|██████████| 201/201 [00:08<00:00, 23.55it/s]\n"
     ]
    },
    {
     "name": "stdout",
     "output_type": "stream",
     "text": [
      "Saving results in D:\\YuLab\\Work\\GPS\\Video\\Kennard\\GPS_08_Kornblum1500SRTSelf\\20231010\\Top\\Clips...\n",
      "Saving csv poses!\n",
      "Starting to analyze %  D:\\YuLab\\Work\\GPS\\Video\\Kennard\\GPS_08_Kornblum1500SRTSelf\\20231010\\Top\\Clips\\Kennard_20231010_HoldTrial074_TopView.avi\n",
      "Loading  D:\\YuLab\\Work\\GPS\\Video\\Kennard\\GPS_08_Kornblum1500SRTSelf\\20231010\\Top\\Clips\\Kennard_20231010_HoldTrial074_TopView.avi\n",
      "Duration of video [s]:  8.0 , recorded with  25.0 fps!\n",
      "Overall # of frames:  200  found with (before cropping) frame dimensions:  1280 1331\n",
      "Starting to extract posture\n",
      "Cropping based on the x1 = 0 x2 = 1280 y1 = 0 y2 = 1024. You can adjust the cropping coordinates in the config.yaml file.\n"
     ]
    },
    {
     "name": "stderr",
     "output_type": "stream",
     "text": [
      "100%|██████████| 200/200 [00:08<00:00, 24.13it/s]\n"
     ]
    },
    {
     "name": "stdout",
     "output_type": "stream",
     "text": [
      "Saving results in D:\\YuLab\\Work\\GPS\\Video\\Kennard\\GPS_08_Kornblum1500SRTSelf\\20231010\\Top\\Clips...\n",
      "Saving csv poses!\n",
      "Starting to analyze %  D:\\YuLab\\Work\\GPS\\Video\\Kennard\\GPS_08_Kornblum1500SRTSelf\\20231010\\Top\\Clips\\Kennard_20231010_HoldTrial075_TopView.avi\n",
      "Loading  D:\\YuLab\\Work\\GPS\\Video\\Kennard\\GPS_08_Kornblum1500SRTSelf\\20231010\\Top\\Clips\\Kennard_20231010_HoldTrial075_TopView.avi\n",
      "Duration of video [s]:  8.04 , recorded with  25.0 fps!\n",
      "Overall # of frames:  201  found with (before cropping) frame dimensions:  1280 1331\n",
      "Starting to extract posture\n",
      "Cropping based on the x1 = 0 x2 = 1280 y1 = 0 y2 = 1024. You can adjust the cropping coordinates in the config.yaml file.\n"
     ]
    },
    {
     "name": "stderr",
     "output_type": "stream",
     "text": [
      "100%|██████████| 201/201 [00:08<00:00, 23.49it/s]\n"
     ]
    },
    {
     "name": "stdout",
     "output_type": "stream",
     "text": [
      "Saving results in D:\\YuLab\\Work\\GPS\\Video\\Kennard\\GPS_08_Kornblum1500SRTSelf\\20231010\\Top\\Clips...\n",
      "Saving csv poses!\n",
      "Starting to analyze %  D:\\YuLab\\Work\\GPS\\Video\\Kennard\\GPS_08_Kornblum1500SRTSelf\\20231010\\Top\\Clips\\Kennard_20231010_HoldTrial076_TopView.avi\n",
      "Loading  D:\\YuLab\\Work\\GPS\\Video\\Kennard\\GPS_08_Kornblum1500SRTSelf\\20231010\\Top\\Clips\\Kennard_20231010_HoldTrial076_TopView.avi\n",
      "Duration of video [s]:  8.04 , recorded with  25.0 fps!\n",
      "Overall # of frames:  201  found with (before cropping) frame dimensions:  1280 1331\n",
      "Starting to extract posture\n",
      "Cropping based on the x1 = 0 x2 = 1280 y1 = 0 y2 = 1024. You can adjust the cropping coordinates in the config.yaml file.\n"
     ]
    },
    {
     "name": "stderr",
     "output_type": "stream",
     "text": [
      "100%|██████████| 201/201 [00:08<00:00, 23.44it/s]\n"
     ]
    },
    {
     "name": "stdout",
     "output_type": "stream",
     "text": [
      "Saving results in D:\\YuLab\\Work\\GPS\\Video\\Kennard\\GPS_08_Kornblum1500SRTSelf\\20231010\\Top\\Clips...\n",
      "Saving csv poses!\n",
      "Starting to analyze %  D:\\YuLab\\Work\\GPS\\Video\\Kennard\\GPS_08_Kornblum1500SRTSelf\\20231010\\Top\\Clips\\Kennard_20231010_HoldTrial077_TopView.avi\n",
      "Loading  D:\\YuLab\\Work\\GPS\\Video\\Kennard\\GPS_08_Kornblum1500SRTSelf\\20231010\\Top\\Clips\\Kennard_20231010_HoldTrial077_TopView.avi\n",
      "Duration of video [s]:  8.04 , recorded with  25.0 fps!\n",
      "Overall # of frames:  201  found with (before cropping) frame dimensions:  1280 1331\n",
      "Starting to extract posture\n",
      "Cropping based on the x1 = 0 x2 = 1280 y1 = 0 y2 = 1024. You can adjust the cropping coordinates in the config.yaml file.\n"
     ]
    },
    {
     "name": "stderr",
     "output_type": "stream",
     "text": [
      "100%|██████████| 201/201 [00:08<00:00, 23.46it/s]\n"
     ]
    },
    {
     "name": "stdout",
     "output_type": "stream",
     "text": [
      "Saving results in D:\\YuLab\\Work\\GPS\\Video\\Kennard\\GPS_08_Kornblum1500SRTSelf\\20231010\\Top\\Clips...\n",
      "Saving csv poses!\n",
      "Starting to analyze %  D:\\YuLab\\Work\\GPS\\Video\\Kennard\\GPS_08_Kornblum1500SRTSelf\\20231010\\Top\\Clips\\Kennard_20231010_HoldTrial078_TopView.avi\n",
      "Loading  D:\\YuLab\\Work\\GPS\\Video\\Kennard\\GPS_08_Kornblum1500SRTSelf\\20231010\\Top\\Clips\\Kennard_20231010_HoldTrial078_TopView.avi\n",
      "Duration of video [s]:  8.04 , recorded with  25.0 fps!\n",
      "Overall # of frames:  201  found with (before cropping) frame dimensions:  1280 1331\n",
      "Starting to extract posture\n",
      "Cropping based on the x1 = 0 x2 = 1280 y1 = 0 y2 = 1024. You can adjust the cropping coordinates in the config.yaml file.\n"
     ]
    },
    {
     "name": "stderr",
     "output_type": "stream",
     "text": [
      "100%|██████████| 201/201 [00:08<00:00, 23.46it/s]\n"
     ]
    },
    {
     "name": "stdout",
     "output_type": "stream",
     "text": [
      "Saving results in D:\\YuLab\\Work\\GPS\\Video\\Kennard\\GPS_08_Kornblum1500SRTSelf\\20231010\\Top\\Clips...\n",
      "Saving csv poses!\n",
      "Starting to analyze %  D:\\YuLab\\Work\\GPS\\Video\\Kennard\\GPS_08_Kornblum1500SRTSelf\\20231010\\Top\\Clips\\Kennard_20231010_HoldTrial079_TopView.avi\n",
      "Loading  D:\\YuLab\\Work\\GPS\\Video\\Kennard\\GPS_08_Kornblum1500SRTSelf\\20231010\\Top\\Clips\\Kennard_20231010_HoldTrial079_TopView.avi\n",
      "Duration of video [s]:  8.0 , recorded with  25.0 fps!\n",
      "Overall # of frames:  200  found with (before cropping) frame dimensions:  1280 1331\n",
      "Starting to extract posture\n",
      "Cropping based on the x1 = 0 x2 = 1280 y1 = 0 y2 = 1024. You can adjust the cropping coordinates in the config.yaml file.\n"
     ]
    },
    {
     "name": "stderr",
     "output_type": "stream",
     "text": [
      "100%|██████████| 200/200 [00:08<00:00, 24.10it/s]\n"
     ]
    },
    {
     "name": "stdout",
     "output_type": "stream",
     "text": [
      "Saving results in D:\\YuLab\\Work\\GPS\\Video\\Kennard\\GPS_08_Kornblum1500SRTSelf\\20231010\\Top\\Clips...\n",
      "Saving csv poses!\n",
      "Starting to analyze %  D:\\YuLab\\Work\\GPS\\Video\\Kennard\\GPS_08_Kornblum1500SRTSelf\\20231010\\Top\\Clips\\Kennard_20231010_HoldTrial080_TopView.avi\n",
      "Loading  D:\\YuLab\\Work\\GPS\\Video\\Kennard\\GPS_08_Kornblum1500SRTSelf\\20231010\\Top\\Clips\\Kennard_20231010_HoldTrial080_TopView.avi\n",
      "Duration of video [s]:  8.04 , recorded with  25.0 fps!\n",
      "Overall # of frames:  201  found with (before cropping) frame dimensions:  1280 1331\n",
      "Starting to extract posture\n",
      "Cropping based on the x1 = 0 x2 = 1280 y1 = 0 y2 = 1024. You can adjust the cropping coordinates in the config.yaml file.\n"
     ]
    },
    {
     "name": "stderr",
     "output_type": "stream",
     "text": [
      "100%|██████████| 201/201 [00:08<00:00, 23.49it/s]\n"
     ]
    },
    {
     "name": "stdout",
     "output_type": "stream",
     "text": [
      "Saving results in D:\\YuLab\\Work\\GPS\\Video\\Kennard\\GPS_08_Kornblum1500SRTSelf\\20231010\\Top\\Clips...\n",
      "Saving csv poses!\n",
      "Starting to analyze %  D:\\YuLab\\Work\\GPS\\Video\\Kennard\\GPS_08_Kornblum1500SRTSelf\\20231010\\Top\\Clips\\Kennard_20231010_HoldTrial081_TopView.avi\n",
      "Loading  D:\\YuLab\\Work\\GPS\\Video\\Kennard\\GPS_08_Kornblum1500SRTSelf\\20231010\\Top\\Clips\\Kennard_20231010_HoldTrial081_TopView.avi\n",
      "Duration of video [s]:  8.04 , recorded with  25.0 fps!\n",
      "Overall # of frames:  201  found with (before cropping) frame dimensions:  1280 1331\n",
      "Starting to extract posture\n",
      "Cropping based on the x1 = 0 x2 = 1280 y1 = 0 y2 = 1024. You can adjust the cropping coordinates in the config.yaml file.\n"
     ]
    },
    {
     "name": "stderr",
     "output_type": "stream",
     "text": [
      "100%|██████████| 201/201 [00:08<00:00, 23.49it/s]\n"
     ]
    },
    {
     "name": "stdout",
     "output_type": "stream",
     "text": [
      "Saving results in D:\\YuLab\\Work\\GPS\\Video\\Kennard\\GPS_08_Kornblum1500SRTSelf\\20231010\\Top\\Clips...\n",
      "Saving csv poses!\n",
      "Starting to analyze %  D:\\YuLab\\Work\\GPS\\Video\\Kennard\\GPS_08_Kornblum1500SRTSelf\\20231010\\Top\\Clips\\Kennard_20231010_HoldTrial082_TopView.avi\n",
      "Loading  D:\\YuLab\\Work\\GPS\\Video\\Kennard\\GPS_08_Kornblum1500SRTSelf\\20231010\\Top\\Clips\\Kennard_20231010_HoldTrial082_TopView.avi\n",
      "Duration of video [s]:  8.04 , recorded with  25.0 fps!\n",
      "Overall # of frames:  201  found with (before cropping) frame dimensions:  1280 1331\n",
      "Starting to extract posture\n",
      "Cropping based on the x1 = 0 x2 = 1280 y1 = 0 y2 = 1024. You can adjust the cropping coordinates in the config.yaml file.\n"
     ]
    },
    {
     "name": "stderr",
     "output_type": "stream",
     "text": [
      "100%|██████████| 201/201 [00:08<00:00, 23.48it/s]\n"
     ]
    },
    {
     "name": "stdout",
     "output_type": "stream",
     "text": [
      "Saving results in D:\\YuLab\\Work\\GPS\\Video\\Kennard\\GPS_08_Kornblum1500SRTSelf\\20231010\\Top\\Clips...\n",
      "Saving csv poses!\n",
      "Starting to analyze %  D:\\YuLab\\Work\\GPS\\Video\\Kennard\\GPS_08_Kornblum1500SRTSelf\\20231010\\Top\\Clips\\Kennard_20231010_HoldTrial083_TopView.avi\n",
      "Loading  D:\\YuLab\\Work\\GPS\\Video\\Kennard\\GPS_08_Kornblum1500SRTSelf\\20231010\\Top\\Clips\\Kennard_20231010_HoldTrial083_TopView.avi\n",
      "Duration of video [s]:  8.04 , recorded with  25.0 fps!\n",
      "Overall # of frames:  201  found with (before cropping) frame dimensions:  1280 1331\n",
      "Starting to extract posture\n",
      "Cropping based on the x1 = 0 x2 = 1280 y1 = 0 y2 = 1024. You can adjust the cropping coordinates in the config.yaml file.\n"
     ]
    },
    {
     "name": "stderr",
     "output_type": "stream",
     "text": [
      "100%|██████████| 201/201 [00:08<00:00, 23.50it/s]\n"
     ]
    },
    {
     "name": "stdout",
     "output_type": "stream",
     "text": [
      "Saving results in D:\\YuLab\\Work\\GPS\\Video\\Kennard\\GPS_08_Kornblum1500SRTSelf\\20231010\\Top\\Clips...\n",
      "Saving csv poses!\n",
      "Starting to analyze %  D:\\YuLab\\Work\\GPS\\Video\\Kennard\\GPS_08_Kornblum1500SRTSelf\\20231010\\Top\\Clips\\Kennard_20231010_HoldTrial084_TopView.avi\n",
      "Loading  D:\\YuLab\\Work\\GPS\\Video\\Kennard\\GPS_08_Kornblum1500SRTSelf\\20231010\\Top\\Clips\\Kennard_20231010_HoldTrial084_TopView.avi\n",
      "Duration of video [s]:  8.0 , recorded with  25.0 fps!\n",
      "Overall # of frames:  200  found with (before cropping) frame dimensions:  1280 1331\n",
      "Starting to extract posture\n",
      "Cropping based on the x1 = 0 x2 = 1280 y1 = 0 y2 = 1024. You can adjust the cropping coordinates in the config.yaml file.\n"
     ]
    },
    {
     "name": "stderr",
     "output_type": "stream",
     "text": [
      "100%|██████████| 200/200 [00:08<00:00, 24.13it/s]\n"
     ]
    },
    {
     "name": "stdout",
     "output_type": "stream",
     "text": [
      "Saving results in D:\\YuLab\\Work\\GPS\\Video\\Kennard\\GPS_08_Kornblum1500SRTSelf\\20231010\\Top\\Clips...\n",
      "Saving csv poses!\n",
      "Starting to analyze %  D:\\YuLab\\Work\\GPS\\Video\\Kennard\\GPS_08_Kornblum1500SRTSelf\\20231010\\Top\\Clips\\Kennard_20231010_HoldTrial085_TopView.avi\n",
      "Loading  D:\\YuLab\\Work\\GPS\\Video\\Kennard\\GPS_08_Kornblum1500SRTSelf\\20231010\\Top\\Clips\\Kennard_20231010_HoldTrial085_TopView.avi\n",
      "Duration of video [s]:  8.04 , recorded with  25.0 fps!\n",
      "Overall # of frames:  201  found with (before cropping) frame dimensions:  1280 1331\n",
      "Starting to extract posture\n",
      "Cropping based on the x1 = 0 x2 = 1280 y1 = 0 y2 = 1024. You can adjust the cropping coordinates in the config.yaml file.\n"
     ]
    },
    {
     "name": "stderr",
     "output_type": "stream",
     "text": [
      "100%|██████████| 201/201 [00:08<00:00, 23.54it/s]\n"
     ]
    },
    {
     "name": "stdout",
     "output_type": "stream",
     "text": [
      "Saving results in D:\\YuLab\\Work\\GPS\\Video\\Kennard\\GPS_08_Kornblum1500SRTSelf\\20231010\\Top\\Clips...\n",
      "Saving csv poses!\n",
      "Starting to analyze %  D:\\YuLab\\Work\\GPS\\Video\\Kennard\\GPS_08_Kornblum1500SRTSelf\\20231010\\Top\\Clips\\Kennard_20231010_HoldTrial086_TopView.avi\n",
      "Loading  D:\\YuLab\\Work\\GPS\\Video\\Kennard\\GPS_08_Kornblum1500SRTSelf\\20231010\\Top\\Clips\\Kennard_20231010_HoldTrial086_TopView.avi\n",
      "Duration of video [s]:  8.0 , recorded with  25.0 fps!\n",
      "Overall # of frames:  200  found with (before cropping) frame dimensions:  1280 1331\n",
      "Starting to extract posture\n",
      "Cropping based on the x1 = 0 x2 = 1280 y1 = 0 y2 = 1024. You can adjust the cropping coordinates in the config.yaml file.\n"
     ]
    },
    {
     "name": "stderr",
     "output_type": "stream",
     "text": [
      "100%|██████████| 200/200 [00:08<00:00, 24.15it/s]\n"
     ]
    },
    {
     "name": "stdout",
     "output_type": "stream",
     "text": [
      "Saving results in D:\\YuLab\\Work\\GPS\\Video\\Kennard\\GPS_08_Kornblum1500SRTSelf\\20231010\\Top\\Clips...\n",
      "Saving csv poses!\n",
      "Starting to analyze %  D:\\YuLab\\Work\\GPS\\Video\\Kennard\\GPS_08_Kornblum1500SRTSelf\\20231010\\Top\\Clips\\Kennard_20231010_HoldTrial087_TopView.avi\n",
      "Loading  D:\\YuLab\\Work\\GPS\\Video\\Kennard\\GPS_08_Kornblum1500SRTSelf\\20231010\\Top\\Clips\\Kennard_20231010_HoldTrial087_TopView.avi\n",
      "Duration of video [s]:  8.04 , recorded with  25.0 fps!\n",
      "Overall # of frames:  201  found with (before cropping) frame dimensions:  1280 1331\n",
      "Starting to extract posture\n",
      "Cropping based on the x1 = 0 x2 = 1280 y1 = 0 y2 = 1024. You can adjust the cropping coordinates in the config.yaml file.\n"
     ]
    },
    {
     "name": "stderr",
     "output_type": "stream",
     "text": [
      "100%|██████████| 201/201 [00:08<00:00, 23.62it/s]\n"
     ]
    },
    {
     "name": "stdout",
     "output_type": "stream",
     "text": [
      "Saving results in D:\\YuLab\\Work\\GPS\\Video\\Kennard\\GPS_08_Kornblum1500SRTSelf\\20231010\\Top\\Clips...\n",
      "Saving csv poses!\n",
      "Starting to analyze %  D:\\YuLab\\Work\\GPS\\Video\\Kennard\\GPS_08_Kornblum1500SRTSelf\\20231010\\Top\\Clips\\Kennard_20231010_HoldTrial088_TopView.avi\n",
      "Loading  D:\\YuLab\\Work\\GPS\\Video\\Kennard\\GPS_08_Kornblum1500SRTSelf\\20231010\\Top\\Clips\\Kennard_20231010_HoldTrial088_TopView.avi\n",
      "Duration of video [s]:  8.0 , recorded with  25.0 fps!\n",
      "Overall # of frames:  200  found with (before cropping) frame dimensions:  1280 1331\n",
      "Starting to extract posture\n",
      "Cropping based on the x1 = 0 x2 = 1280 y1 = 0 y2 = 1024. You can adjust the cropping coordinates in the config.yaml file.\n"
     ]
    },
    {
     "name": "stderr",
     "output_type": "stream",
     "text": [
      "100%|██████████| 200/200 [00:08<00:00, 24.32it/s]\n"
     ]
    },
    {
     "name": "stdout",
     "output_type": "stream",
     "text": [
      "Saving results in D:\\YuLab\\Work\\GPS\\Video\\Kennard\\GPS_08_Kornblum1500SRTSelf\\20231010\\Top\\Clips...\n",
      "Saving csv poses!\n",
      "Starting to analyze %  D:\\YuLab\\Work\\GPS\\Video\\Kennard\\GPS_08_Kornblum1500SRTSelf\\20231010\\Top\\Clips\\Kennard_20231010_HoldTrial089_TopView.avi\n",
      "Loading  D:\\YuLab\\Work\\GPS\\Video\\Kennard\\GPS_08_Kornblum1500SRTSelf\\20231010\\Top\\Clips\\Kennard_20231010_HoldTrial089_TopView.avi\n",
      "Duration of video [s]:  8.04 , recorded with  25.0 fps!\n",
      "Overall # of frames:  201  found with (before cropping) frame dimensions:  1280 1331\n",
      "Starting to extract posture\n",
      "Cropping based on the x1 = 0 x2 = 1280 y1 = 0 y2 = 1024. You can adjust the cropping coordinates in the config.yaml file.\n"
     ]
    },
    {
     "name": "stderr",
     "output_type": "stream",
     "text": [
      "100%|██████████| 201/201 [00:08<00:00, 23.66it/s]\n"
     ]
    },
    {
     "name": "stdout",
     "output_type": "stream",
     "text": [
      "Saving results in D:\\YuLab\\Work\\GPS\\Video\\Kennard\\GPS_08_Kornblum1500SRTSelf\\20231010\\Top\\Clips...\n",
      "Saving csv poses!\n",
      "Starting to analyze %  D:\\YuLab\\Work\\GPS\\Video\\Kennard\\GPS_08_Kornblum1500SRTSelf\\20231010\\Top\\Clips\\Kennard_20231010_HoldTrial090_TopView.avi\n",
      "Loading  D:\\YuLab\\Work\\GPS\\Video\\Kennard\\GPS_08_Kornblum1500SRTSelf\\20231010\\Top\\Clips\\Kennard_20231010_HoldTrial090_TopView.avi\n",
      "Duration of video [s]:  8.0 , recorded with  25.0 fps!\n",
      "Overall # of frames:  200  found with (before cropping) frame dimensions:  1280 1331\n",
      "Starting to extract posture\n",
      "Cropping based on the x1 = 0 x2 = 1280 y1 = 0 y2 = 1024. You can adjust the cropping coordinates in the config.yaml file.\n"
     ]
    },
    {
     "name": "stderr",
     "output_type": "stream",
     "text": [
      "100%|██████████| 200/200 [00:08<00:00, 24.27it/s]\n"
     ]
    },
    {
     "name": "stdout",
     "output_type": "stream",
     "text": [
      "Saving results in D:\\YuLab\\Work\\GPS\\Video\\Kennard\\GPS_08_Kornblum1500SRTSelf\\20231010\\Top\\Clips...\n",
      "Saving csv poses!\n",
      "Starting to analyze %  D:\\YuLab\\Work\\GPS\\Video\\Kennard\\GPS_08_Kornblum1500SRTSelf\\20231010\\Top\\Clips\\Kennard_20231010_HoldTrial091_TopView.avi\n",
      "Loading  D:\\YuLab\\Work\\GPS\\Video\\Kennard\\GPS_08_Kornblum1500SRTSelf\\20231010\\Top\\Clips\\Kennard_20231010_HoldTrial091_TopView.avi\n",
      "Duration of video [s]:  8.0 , recorded with  25.0 fps!\n",
      "Overall # of frames:  200  found with (before cropping) frame dimensions:  1280 1331\n",
      "Starting to extract posture\n",
      "Cropping based on the x1 = 0 x2 = 1280 y1 = 0 y2 = 1024. You can adjust the cropping coordinates in the config.yaml file.\n"
     ]
    },
    {
     "name": "stderr",
     "output_type": "stream",
     "text": [
      "100%|██████████| 200/200 [00:08<00:00, 24.24it/s]\n"
     ]
    },
    {
     "name": "stdout",
     "output_type": "stream",
     "text": [
      "Saving results in D:\\YuLab\\Work\\GPS\\Video\\Kennard\\GPS_08_Kornblum1500SRTSelf\\20231010\\Top\\Clips...\n",
      "Saving csv poses!\n",
      "Starting to analyze %  D:\\YuLab\\Work\\GPS\\Video\\Kennard\\GPS_08_Kornblum1500SRTSelf\\20231010\\Top\\Clips\\Kennard_20231010_HoldTrial092_TopView.avi\n",
      "Loading  D:\\YuLab\\Work\\GPS\\Video\\Kennard\\GPS_08_Kornblum1500SRTSelf\\20231010\\Top\\Clips\\Kennard_20231010_HoldTrial092_TopView.avi\n",
      "Duration of video [s]:  8.04 , recorded with  25.0 fps!\n",
      "Overall # of frames:  201  found with (before cropping) frame dimensions:  1280 1331\n",
      "Starting to extract posture\n",
      "Cropping based on the x1 = 0 x2 = 1280 y1 = 0 y2 = 1024. You can adjust the cropping coordinates in the config.yaml file.\n"
     ]
    },
    {
     "name": "stderr",
     "output_type": "stream",
     "text": [
      "100%|██████████| 201/201 [00:08<00:00, 23.55it/s]\n"
     ]
    },
    {
     "name": "stdout",
     "output_type": "stream",
     "text": [
      "Saving results in D:\\YuLab\\Work\\GPS\\Video\\Kennard\\GPS_08_Kornblum1500SRTSelf\\20231010\\Top\\Clips...\n",
      "Saving csv poses!\n",
      "Starting to analyze %  D:\\YuLab\\Work\\GPS\\Video\\Kennard\\GPS_08_Kornblum1500SRTSelf\\20231010\\Top\\Clips\\Kennard_20231010_HoldTrial093_TopView.avi\n",
      "Loading  D:\\YuLab\\Work\\GPS\\Video\\Kennard\\GPS_08_Kornblum1500SRTSelf\\20231010\\Top\\Clips\\Kennard_20231010_HoldTrial093_TopView.avi\n",
      "Duration of video [s]:  8.0 , recorded with  25.0 fps!\n",
      "Overall # of frames:  200  found with (before cropping) frame dimensions:  1280 1331\n",
      "Starting to extract posture\n",
      "Cropping based on the x1 = 0 x2 = 1280 y1 = 0 y2 = 1024. You can adjust the cropping coordinates in the config.yaml file.\n"
     ]
    },
    {
     "name": "stderr",
     "output_type": "stream",
     "text": [
      "100%|██████████| 200/200 [00:08<00:00, 24.17it/s]\n"
     ]
    },
    {
     "name": "stdout",
     "output_type": "stream",
     "text": [
      "Saving results in D:\\YuLab\\Work\\GPS\\Video\\Kennard\\GPS_08_Kornblum1500SRTSelf\\20231010\\Top\\Clips...\n",
      "Saving csv poses!\n",
      "Starting to analyze %  D:\\YuLab\\Work\\GPS\\Video\\Kennard\\GPS_08_Kornblum1500SRTSelf\\20231010\\Top\\Clips\\Kennard_20231010_HoldTrial094_TopView.avi\n",
      "Loading  D:\\YuLab\\Work\\GPS\\Video\\Kennard\\GPS_08_Kornblum1500SRTSelf\\20231010\\Top\\Clips\\Kennard_20231010_HoldTrial094_TopView.avi\n",
      "Duration of video [s]:  7.96 , recorded with  25.0 fps!\n",
      "Overall # of frames:  199  found with (before cropping) frame dimensions:  1280 1331\n",
      "Starting to extract posture\n",
      "Cropping based on the x1 = 0 x2 = 1280 y1 = 0 y2 = 1024. You can adjust the cropping coordinates in the config.yaml file.\n"
     ]
    },
    {
     "name": "stderr",
     "output_type": "stream",
     "text": [
      "100%|██████████| 199/199 [00:08<00:00, 24.03it/s]\n"
     ]
    },
    {
     "name": "stdout",
     "output_type": "stream",
     "text": [
      "Saving results in D:\\YuLab\\Work\\GPS\\Video\\Kennard\\GPS_08_Kornblum1500SRTSelf\\20231010\\Top\\Clips...\n",
      "Saving csv poses!\n",
      "Starting to analyze %  D:\\YuLab\\Work\\GPS\\Video\\Kennard\\GPS_08_Kornblum1500SRTSelf\\20231010\\Top\\Clips\\Kennard_20231010_HoldTrial095_TopView.avi\n",
      "Loading  D:\\YuLab\\Work\\GPS\\Video\\Kennard\\GPS_08_Kornblum1500SRTSelf\\20231010\\Top\\Clips\\Kennard_20231010_HoldTrial095_TopView.avi\n",
      "Duration of video [s]:  8.04 , recorded with  25.0 fps!\n",
      "Overall # of frames:  201  found with (before cropping) frame dimensions:  1280 1331\n",
      "Starting to extract posture\n",
      "Cropping based on the x1 = 0 x2 = 1280 y1 = 0 y2 = 1024. You can adjust the cropping coordinates in the config.yaml file.\n"
     ]
    },
    {
     "name": "stderr",
     "output_type": "stream",
     "text": [
      "100%|██████████| 201/201 [00:08<00:00, 23.51it/s]\n"
     ]
    },
    {
     "name": "stdout",
     "output_type": "stream",
     "text": [
      "Saving results in D:\\YuLab\\Work\\GPS\\Video\\Kennard\\GPS_08_Kornblum1500SRTSelf\\20231010\\Top\\Clips...\n",
      "Saving csv poses!\n",
      "Starting to analyze %  D:\\YuLab\\Work\\GPS\\Video\\Kennard\\GPS_08_Kornblum1500SRTSelf\\20231010\\Top\\Clips\\Kennard_20231010_HoldTrial096_TopView.avi\n",
      "Loading  D:\\YuLab\\Work\\GPS\\Video\\Kennard\\GPS_08_Kornblum1500SRTSelf\\20231010\\Top\\Clips\\Kennard_20231010_HoldTrial096_TopView.avi\n",
      "Duration of video [s]:  8.0 , recorded with  25.0 fps!\n",
      "Overall # of frames:  200  found with (before cropping) frame dimensions:  1280 1331\n",
      "Starting to extract posture\n",
      "Cropping based on the x1 = 0 x2 = 1280 y1 = 0 y2 = 1024. You can adjust the cropping coordinates in the config.yaml file.\n"
     ]
    },
    {
     "name": "stderr",
     "output_type": "stream",
     "text": [
      "100%|██████████| 200/200 [00:08<00:00, 24.13it/s]\n"
     ]
    },
    {
     "name": "stdout",
     "output_type": "stream",
     "text": [
      "Saving results in D:\\YuLab\\Work\\GPS\\Video\\Kennard\\GPS_08_Kornblum1500SRTSelf\\20231010\\Top\\Clips...\n",
      "Saving csv poses!\n",
      "Starting to analyze %  D:\\YuLab\\Work\\GPS\\Video\\Kennard\\GPS_08_Kornblum1500SRTSelf\\20231010\\Top\\Clips\\Kennard_20231010_HoldTrial097_TopView.avi\n",
      "Loading  D:\\YuLab\\Work\\GPS\\Video\\Kennard\\GPS_08_Kornblum1500SRTSelf\\20231010\\Top\\Clips\\Kennard_20231010_HoldTrial097_TopView.avi\n",
      "Duration of video [s]:  8.0 , recorded with  25.0 fps!\n",
      "Overall # of frames:  200  found with (before cropping) frame dimensions:  1280 1331\n",
      "Starting to extract posture\n",
      "Cropping based on the x1 = 0 x2 = 1280 y1 = 0 y2 = 1024. You can adjust the cropping coordinates in the config.yaml file.\n"
     ]
    },
    {
     "name": "stderr",
     "output_type": "stream",
     "text": [
      "100%|██████████| 200/200 [00:08<00:00, 24.10it/s]\n"
     ]
    },
    {
     "name": "stdout",
     "output_type": "stream",
     "text": [
      "Saving results in D:\\YuLab\\Work\\GPS\\Video\\Kennard\\GPS_08_Kornblum1500SRTSelf\\20231010\\Top\\Clips...\n",
      "Saving csv poses!\n",
      "Starting to analyze %  D:\\YuLab\\Work\\GPS\\Video\\Kennard\\GPS_08_Kornblum1500SRTSelf\\20231010\\Top\\Clips\\Kennard_20231010_HoldTrial098_TopView.avi\n",
      "Loading  D:\\YuLab\\Work\\GPS\\Video\\Kennard\\GPS_08_Kornblum1500SRTSelf\\20231010\\Top\\Clips\\Kennard_20231010_HoldTrial098_TopView.avi\n",
      "Duration of video [s]:  8.04 , recorded with  25.0 fps!\n",
      "Overall # of frames:  201  found with (before cropping) frame dimensions:  1280 1331\n",
      "Starting to extract posture\n",
      "Cropping based on the x1 = 0 x2 = 1280 y1 = 0 y2 = 1024. You can adjust the cropping coordinates in the config.yaml file.\n"
     ]
    },
    {
     "name": "stderr",
     "output_type": "stream",
     "text": [
      "100%|██████████| 201/201 [00:08<00:00, 23.52it/s]\n"
     ]
    },
    {
     "name": "stdout",
     "output_type": "stream",
     "text": [
      "Saving results in D:\\YuLab\\Work\\GPS\\Video\\Kennard\\GPS_08_Kornblum1500SRTSelf\\20231010\\Top\\Clips...\n",
      "Saving csv poses!\n",
      "Starting to analyze %  D:\\YuLab\\Work\\GPS\\Video\\Kennard\\GPS_08_Kornblum1500SRTSelf\\20231010\\Top\\Clips\\Kennard_20231010_HoldTrial099_TopView.avi\n",
      "Loading  D:\\YuLab\\Work\\GPS\\Video\\Kennard\\GPS_08_Kornblum1500SRTSelf\\20231010\\Top\\Clips\\Kennard_20231010_HoldTrial099_TopView.avi\n",
      "Duration of video [s]:  8.04 , recorded with  25.0 fps!\n",
      "Overall # of frames:  201  found with (before cropping) frame dimensions:  1280 1331\n",
      "Starting to extract posture\n",
      "Cropping based on the x1 = 0 x2 = 1280 y1 = 0 y2 = 1024. You can adjust the cropping coordinates in the config.yaml file.\n"
     ]
    },
    {
     "name": "stderr",
     "output_type": "stream",
     "text": [
      "100%|██████████| 201/201 [00:08<00:00, 23.48it/s]\n"
     ]
    },
    {
     "name": "stdout",
     "output_type": "stream",
     "text": [
      "Saving results in D:\\YuLab\\Work\\GPS\\Video\\Kennard\\GPS_08_Kornblum1500SRTSelf\\20231010\\Top\\Clips...\n",
      "Saving csv poses!\n",
      "Starting to analyze %  D:\\YuLab\\Work\\GPS\\Video\\Kennard\\GPS_08_Kornblum1500SRTSelf\\20231010\\Top\\Clips\\Kennard_20231010_HoldTrial100_TopView.avi\n",
      "Loading  D:\\YuLab\\Work\\GPS\\Video\\Kennard\\GPS_08_Kornblum1500SRTSelf\\20231010\\Top\\Clips\\Kennard_20231010_HoldTrial100_TopView.avi\n",
      "Duration of video [s]:  8.0 , recorded with  25.0 fps!\n",
      "Overall # of frames:  200  found with (before cropping) frame dimensions:  1280 1331\n",
      "Starting to extract posture\n",
      "Cropping based on the x1 = 0 x2 = 1280 y1 = 0 y2 = 1024. You can adjust the cropping coordinates in the config.yaml file.\n"
     ]
    },
    {
     "name": "stderr",
     "output_type": "stream",
     "text": [
      "100%|██████████| 200/200 [00:08<00:00, 24.18it/s]\n"
     ]
    },
    {
     "name": "stdout",
     "output_type": "stream",
     "text": [
      "Saving results in D:\\YuLab\\Work\\GPS\\Video\\Kennard\\GPS_08_Kornblum1500SRTSelf\\20231010\\Top\\Clips...\n",
      "Saving csv poses!\n",
      "Starting to analyze %  D:\\YuLab\\Work\\GPS\\Video\\Kennard\\GPS_08_Kornblum1500SRTSelf\\20231010\\Top\\Clips\\Kennard_20231010_HoldTrial101_TopView.avi\n",
      "Loading  D:\\YuLab\\Work\\GPS\\Video\\Kennard\\GPS_08_Kornblum1500SRTSelf\\20231010\\Top\\Clips\\Kennard_20231010_HoldTrial101_TopView.avi\n",
      "Duration of video [s]:  8.04 , recorded with  25.0 fps!\n",
      "Overall # of frames:  201  found with (before cropping) frame dimensions:  1280 1331\n",
      "Starting to extract posture\n",
      "Cropping based on the x1 = 0 x2 = 1280 y1 = 0 y2 = 1024. You can adjust the cropping coordinates in the config.yaml file.\n"
     ]
    },
    {
     "name": "stderr",
     "output_type": "stream",
     "text": [
      "100%|██████████| 201/201 [00:08<00:00, 23.64it/s]\n"
     ]
    },
    {
     "name": "stdout",
     "output_type": "stream",
     "text": [
      "Saving results in D:\\YuLab\\Work\\GPS\\Video\\Kennard\\GPS_08_Kornblum1500SRTSelf\\20231010\\Top\\Clips...\n",
      "Saving csv poses!\n",
      "Starting to analyze %  D:\\YuLab\\Work\\GPS\\Video\\Kennard\\GPS_08_Kornblum1500SRTSelf\\20231010\\Top\\Clips\\Kennard_20231010_HoldTrial102_TopView.avi\n",
      "Loading  D:\\YuLab\\Work\\GPS\\Video\\Kennard\\GPS_08_Kornblum1500SRTSelf\\20231010\\Top\\Clips\\Kennard_20231010_HoldTrial102_TopView.avi\n",
      "Duration of video [s]:  8.0 , recorded with  25.0 fps!\n",
      "Overall # of frames:  200  found with (before cropping) frame dimensions:  1280 1331\n",
      "Starting to extract posture\n",
      "Cropping based on the x1 = 0 x2 = 1280 y1 = 0 y2 = 1024. You can adjust the cropping coordinates in the config.yaml file.\n"
     ]
    },
    {
     "name": "stderr",
     "output_type": "stream",
     "text": [
      "100%|██████████| 200/200 [00:08<00:00, 24.24it/s]\n"
     ]
    },
    {
     "name": "stdout",
     "output_type": "stream",
     "text": [
      "Saving results in D:\\YuLab\\Work\\GPS\\Video\\Kennard\\GPS_08_Kornblum1500SRTSelf\\20231010\\Top\\Clips...\n",
      "Saving csv poses!\n",
      "Starting to analyze %  D:\\YuLab\\Work\\GPS\\Video\\Kennard\\GPS_08_Kornblum1500SRTSelf\\20231010\\Top\\Clips\\Kennard_20231010_HoldTrial103_TopView.avi\n",
      "Loading  D:\\YuLab\\Work\\GPS\\Video\\Kennard\\GPS_08_Kornblum1500SRTSelf\\20231010\\Top\\Clips\\Kennard_20231010_HoldTrial103_TopView.avi\n",
      "Duration of video [s]:  8.04 , recorded with  25.0 fps!\n",
      "Overall # of frames:  201  found with (before cropping) frame dimensions:  1280 1331\n",
      "Starting to extract posture\n",
      "Cropping based on the x1 = 0 x2 = 1280 y1 = 0 y2 = 1024. You can adjust the cropping coordinates in the config.yaml file.\n"
     ]
    },
    {
     "name": "stderr",
     "output_type": "stream",
     "text": [
      "100%|██████████| 201/201 [00:08<00:00, 23.56it/s]\n"
     ]
    },
    {
     "name": "stdout",
     "output_type": "stream",
     "text": [
      "Saving results in D:\\YuLab\\Work\\GPS\\Video\\Kennard\\GPS_08_Kornblum1500SRTSelf\\20231010\\Top\\Clips...\n",
      "Saving csv poses!\n",
      "Starting to analyze %  D:\\YuLab\\Work\\GPS\\Video\\Kennard\\GPS_08_Kornblum1500SRTSelf\\20231010\\Top\\Clips\\Kennard_20231010_HoldTrial104_TopView.avi\n",
      "Loading  D:\\YuLab\\Work\\GPS\\Video\\Kennard\\GPS_08_Kornblum1500SRTSelf\\20231010\\Top\\Clips\\Kennard_20231010_HoldTrial104_TopView.avi\n",
      "Duration of video [s]:  8.0 , recorded with  25.0 fps!\n",
      "Overall # of frames:  200  found with (before cropping) frame dimensions:  1280 1331\n",
      "Starting to extract posture\n",
      "Cropping based on the x1 = 0 x2 = 1280 y1 = 0 y2 = 1024. You can adjust the cropping coordinates in the config.yaml file.\n"
     ]
    },
    {
     "name": "stderr",
     "output_type": "stream",
     "text": [
      "100%|██████████| 200/200 [00:08<00:00, 24.21it/s]\n"
     ]
    },
    {
     "name": "stdout",
     "output_type": "stream",
     "text": [
      "Saving results in D:\\YuLab\\Work\\GPS\\Video\\Kennard\\GPS_08_Kornblum1500SRTSelf\\20231010\\Top\\Clips...\n",
      "Saving csv poses!\n",
      "Starting to analyze %  D:\\YuLab\\Work\\GPS\\Video\\Kennard\\GPS_08_Kornblum1500SRTSelf\\20231010\\Top\\Clips\\Kennard_20231010_HoldTrial105_TopView.avi\n",
      "Loading  D:\\YuLab\\Work\\GPS\\Video\\Kennard\\GPS_08_Kornblum1500SRTSelf\\20231010\\Top\\Clips\\Kennard_20231010_HoldTrial105_TopView.avi\n",
      "Duration of video [s]:  8.0 , recorded with  25.0 fps!\n",
      "Overall # of frames:  200  found with (before cropping) frame dimensions:  1280 1331\n",
      "Starting to extract posture\n",
      "Cropping based on the x1 = 0 x2 = 1280 y1 = 0 y2 = 1024. You can adjust the cropping coordinates in the config.yaml file.\n"
     ]
    },
    {
     "name": "stderr",
     "output_type": "stream",
     "text": [
      "100%|██████████| 200/200 [00:08<00:00, 24.15it/s]\n"
     ]
    },
    {
     "name": "stdout",
     "output_type": "stream",
     "text": [
      "Saving results in D:\\YuLab\\Work\\GPS\\Video\\Kennard\\GPS_08_Kornblum1500SRTSelf\\20231010\\Top\\Clips...\n",
      "Saving csv poses!\n",
      "Starting to analyze %  D:\\YuLab\\Work\\GPS\\Video\\Kennard\\GPS_08_Kornblum1500SRTSelf\\20231012\\Top\\Clips\\Kennard_20231012_HoldTrial101_TopView.avi\n",
      "Loading  D:\\YuLab\\Work\\GPS\\Video\\Kennard\\GPS_08_Kornblum1500SRTSelf\\20231012\\Top\\Clips\\Kennard_20231012_HoldTrial101_TopView.avi\n",
      "Duration of video [s]:  8.04 , recorded with  25.0 fps!\n",
      "Overall # of frames:  201  found with (before cropping) frame dimensions:  1280 1331\n",
      "Starting to extract posture\n",
      "Cropping based on the x1 = 0 x2 = 1280 y1 = 0 y2 = 1024. You can adjust the cropping coordinates in the config.yaml file.\n"
     ]
    },
    {
     "name": "stderr",
     "output_type": "stream",
     "text": [
      "100%|██████████| 201/201 [00:08<00:00, 23.50it/s]\n"
     ]
    },
    {
     "name": "stdout",
     "output_type": "stream",
     "text": [
      "Saving results in D:\\YuLab\\Work\\GPS\\Video\\Kennard\\GPS_08_Kornblum1500SRTSelf\\20231012\\Top\\Clips...\n",
      "Saving csv poses!\n",
      "Starting to analyze %  D:\\YuLab\\Work\\GPS\\Video\\Kennard\\GPS_08_Kornblum1500SRTSelf\\20231012\\Top\\Clips\\Kennard_20231012_HoldTrial012_TopView.avi\n",
      "Loading  D:\\YuLab\\Work\\GPS\\Video\\Kennard\\GPS_08_Kornblum1500SRTSelf\\20231012\\Top\\Clips\\Kennard_20231012_HoldTrial012_TopView.avi\n",
      "Duration of video [s]:  8.0 , recorded with  25.0 fps!\n",
      "Overall # of frames:  200  found with (before cropping) frame dimensions:  1280 1331\n",
      "Starting to extract posture\n",
      "Cropping based on the x1 = 0 x2 = 1280 y1 = 0 y2 = 1024. You can adjust the cropping coordinates in the config.yaml file.\n"
     ]
    },
    {
     "name": "stderr",
     "output_type": "stream",
     "text": [
      "100%|██████████| 200/200 [00:08<00:00, 24.14it/s]\n"
     ]
    },
    {
     "name": "stdout",
     "output_type": "stream",
     "text": [
      "Saving results in D:\\YuLab\\Work\\GPS\\Video\\Kennard\\GPS_08_Kornblum1500SRTSelf\\20231012\\Top\\Clips...\n",
      "Saving csv poses!\n",
      "Starting to analyze %  D:\\YuLab\\Work\\GPS\\Video\\Kennard\\GPS_08_Kornblum1500SRTSelf\\20231012\\Top\\Clips\\Kennard_20231012_HoldTrial013_TopView.avi\n",
      "Loading  D:\\YuLab\\Work\\GPS\\Video\\Kennard\\GPS_08_Kornblum1500SRTSelf\\20231012\\Top\\Clips\\Kennard_20231012_HoldTrial013_TopView.avi\n",
      "Duration of video [s]:  8.04 , recorded with  25.0 fps!\n",
      "Overall # of frames:  201  found with (before cropping) frame dimensions:  1280 1331\n",
      "Starting to extract posture\n",
      "Cropping based on the x1 = 0 x2 = 1280 y1 = 0 y2 = 1024. You can adjust the cropping coordinates in the config.yaml file.\n"
     ]
    },
    {
     "name": "stderr",
     "output_type": "stream",
     "text": [
      "100%|██████████| 201/201 [00:08<00:00, 23.45it/s]\n"
     ]
    },
    {
     "name": "stdout",
     "output_type": "stream",
     "text": [
      "Saving results in D:\\YuLab\\Work\\GPS\\Video\\Kennard\\GPS_08_Kornblum1500SRTSelf\\20231012\\Top\\Clips...\n",
      "Saving csv poses!\n",
      "Starting to analyze %  D:\\YuLab\\Work\\GPS\\Video\\Kennard\\GPS_08_Kornblum1500SRTSelf\\20231012\\Top\\Clips\\Kennard_20231012_HoldTrial014_TopView.avi\n",
      "Loading  D:\\YuLab\\Work\\GPS\\Video\\Kennard\\GPS_08_Kornblum1500SRTSelf\\20231012\\Top\\Clips\\Kennard_20231012_HoldTrial014_TopView.avi\n",
      "Duration of video [s]:  8.04 , recorded with  25.0 fps!\n",
      "Overall # of frames:  201  found with (before cropping) frame dimensions:  1280 1331\n",
      "Starting to extract posture\n",
      "Cropping based on the x1 = 0 x2 = 1280 y1 = 0 y2 = 1024. You can adjust the cropping coordinates in the config.yaml file.\n"
     ]
    },
    {
     "name": "stderr",
     "output_type": "stream",
     "text": [
      "100%|██████████| 201/201 [00:08<00:00, 23.50it/s]\n"
     ]
    },
    {
     "name": "stdout",
     "output_type": "stream",
     "text": [
      "Saving results in D:\\YuLab\\Work\\GPS\\Video\\Kennard\\GPS_08_Kornblum1500SRTSelf\\20231012\\Top\\Clips...\n",
      "Saving csv poses!\n",
      "Starting to analyze %  D:\\YuLab\\Work\\GPS\\Video\\Kennard\\GPS_08_Kornblum1500SRTSelf\\20231012\\Top\\Clips\\Kennard_20231012_HoldTrial015_TopView.avi\n",
      "Loading  D:\\YuLab\\Work\\GPS\\Video\\Kennard\\GPS_08_Kornblum1500SRTSelf\\20231012\\Top\\Clips\\Kennard_20231012_HoldTrial015_TopView.avi\n",
      "Duration of video [s]:  8.04 , recorded with  25.0 fps!\n",
      "Overall # of frames:  201  found with (before cropping) frame dimensions:  1280 1331\n",
      "Starting to extract posture\n",
      "Cropping based on the x1 = 0 x2 = 1280 y1 = 0 y2 = 1024. You can adjust the cropping coordinates in the config.yaml file.\n"
     ]
    },
    {
     "name": "stderr",
     "output_type": "stream",
     "text": [
      "100%|██████████| 201/201 [00:08<00:00, 23.44it/s]\n"
     ]
    },
    {
     "name": "stdout",
     "output_type": "stream",
     "text": [
      "Saving results in D:\\YuLab\\Work\\GPS\\Video\\Kennard\\GPS_08_Kornblum1500SRTSelf\\20231012\\Top\\Clips...\n",
      "Saving csv poses!\n",
      "Starting to analyze %  D:\\YuLab\\Work\\GPS\\Video\\Kennard\\GPS_08_Kornblum1500SRTSelf\\20231012\\Top\\Clips\\Kennard_20231012_HoldTrial016_TopView.avi\n",
      "Loading  D:\\YuLab\\Work\\GPS\\Video\\Kennard\\GPS_08_Kornblum1500SRTSelf\\20231012\\Top\\Clips\\Kennard_20231012_HoldTrial016_TopView.avi\n",
      "Duration of video [s]:  8.0 , recorded with  25.0 fps!\n",
      "Overall # of frames:  200  found with (before cropping) frame dimensions:  1280 1331\n",
      "Starting to extract posture\n",
      "Cropping based on the x1 = 0 x2 = 1280 y1 = 0 y2 = 1024. You can adjust the cropping coordinates in the config.yaml file.\n"
     ]
    },
    {
     "name": "stderr",
     "output_type": "stream",
     "text": [
      "100%|██████████| 200/200 [00:08<00:00, 24.14it/s]\n"
     ]
    },
    {
     "name": "stdout",
     "output_type": "stream",
     "text": [
      "Saving results in D:\\YuLab\\Work\\GPS\\Video\\Kennard\\GPS_08_Kornblum1500SRTSelf\\20231012\\Top\\Clips...\n",
      "Saving csv poses!\n",
      "Starting to analyze %  D:\\YuLab\\Work\\GPS\\Video\\Kennard\\GPS_08_Kornblum1500SRTSelf\\20231012\\Top\\Clips\\Kennard_20231012_HoldTrial017_TopView.avi\n",
      "Loading  D:\\YuLab\\Work\\GPS\\Video\\Kennard\\GPS_08_Kornblum1500SRTSelf\\20231012\\Top\\Clips\\Kennard_20231012_HoldTrial017_TopView.avi\n",
      "Duration of video [s]:  8.04 , recorded with  25.0 fps!\n",
      "Overall # of frames:  201  found with (before cropping) frame dimensions:  1280 1331\n",
      "Starting to extract posture\n",
      "Cropping based on the x1 = 0 x2 = 1280 y1 = 0 y2 = 1024. You can adjust the cropping coordinates in the config.yaml file.\n"
     ]
    },
    {
     "name": "stderr",
     "output_type": "stream",
     "text": [
      "100%|██████████| 201/201 [00:08<00:00, 23.44it/s]\n"
     ]
    },
    {
     "name": "stdout",
     "output_type": "stream",
     "text": [
      "Saving results in D:\\YuLab\\Work\\GPS\\Video\\Kennard\\GPS_08_Kornblum1500SRTSelf\\20231012\\Top\\Clips...\n",
      "Saving csv poses!\n",
      "Starting to analyze %  D:\\YuLab\\Work\\GPS\\Video\\Kennard\\GPS_08_Kornblum1500SRTSelf\\20231012\\Top\\Clips\\Kennard_20231012_HoldTrial018_TopView.avi\n",
      "Loading  D:\\YuLab\\Work\\GPS\\Video\\Kennard\\GPS_08_Kornblum1500SRTSelf\\20231012\\Top\\Clips\\Kennard_20231012_HoldTrial018_TopView.avi\n",
      "Duration of video [s]:  8.04 , recorded with  25.0 fps!\n",
      "Overall # of frames:  201  found with (before cropping) frame dimensions:  1280 1331\n",
      "Starting to extract posture\n",
      "Cropping based on the x1 = 0 x2 = 1280 y1 = 0 y2 = 1024. You can adjust the cropping coordinates in the config.yaml file.\n"
     ]
    },
    {
     "name": "stderr",
     "output_type": "stream",
     "text": [
      "100%|██████████| 201/201 [00:08<00:00, 23.45it/s]\n"
     ]
    },
    {
     "name": "stdout",
     "output_type": "stream",
     "text": [
      "Saving results in D:\\YuLab\\Work\\GPS\\Video\\Kennard\\GPS_08_Kornblum1500SRTSelf\\20231012\\Top\\Clips...\n",
      "Saving csv poses!\n",
      "Starting to analyze %  D:\\YuLab\\Work\\GPS\\Video\\Kennard\\GPS_08_Kornblum1500SRTSelf\\20231012\\Top\\Clips\\Kennard_20231012_HoldTrial019_TopView.avi\n",
      "Loading  D:\\YuLab\\Work\\GPS\\Video\\Kennard\\GPS_08_Kornblum1500SRTSelf\\20231012\\Top\\Clips\\Kennard_20231012_HoldTrial019_TopView.avi\n",
      "Duration of video [s]:  8.04 , recorded with  25.0 fps!\n",
      "Overall # of frames:  201  found with (before cropping) frame dimensions:  1280 1331\n",
      "Starting to extract posture\n",
      "Cropping based on the x1 = 0 x2 = 1280 y1 = 0 y2 = 1024. You can adjust the cropping coordinates in the config.yaml file.\n"
     ]
    },
    {
     "name": "stderr",
     "output_type": "stream",
     "text": [
      "100%|██████████| 201/201 [00:08<00:00, 23.43it/s]\n"
     ]
    },
    {
     "name": "stdout",
     "output_type": "stream",
     "text": [
      "Saving results in D:\\YuLab\\Work\\GPS\\Video\\Kennard\\GPS_08_Kornblum1500SRTSelf\\20231012\\Top\\Clips...\n",
      "Saving csv poses!\n",
      "Starting to analyze %  D:\\YuLab\\Work\\GPS\\Video\\Kennard\\GPS_08_Kornblum1500SRTSelf\\20231012\\Top\\Clips\\Kennard_20231012_HoldTrial020_TopView.avi\n",
      "Loading  D:\\YuLab\\Work\\GPS\\Video\\Kennard\\GPS_08_Kornblum1500SRTSelf\\20231012\\Top\\Clips\\Kennard_20231012_HoldTrial020_TopView.avi\n",
      "Duration of video [s]:  8.0 , recorded with  25.0 fps!\n",
      "Overall # of frames:  200  found with (before cropping) frame dimensions:  1280 1331\n",
      "Starting to extract posture\n",
      "Cropping based on the x1 = 0 x2 = 1280 y1 = 0 y2 = 1024. You can adjust the cropping coordinates in the config.yaml file.\n"
     ]
    },
    {
     "name": "stderr",
     "output_type": "stream",
     "text": [
      "100%|██████████| 200/200 [00:08<00:00, 24.23it/s]\n"
     ]
    },
    {
     "name": "stdout",
     "output_type": "stream",
     "text": [
      "Saving results in D:\\YuLab\\Work\\GPS\\Video\\Kennard\\GPS_08_Kornblum1500SRTSelf\\20231012\\Top\\Clips...\n",
      "Saving csv poses!\n",
      "Starting to analyze %  D:\\YuLab\\Work\\GPS\\Video\\Kennard\\GPS_08_Kornblum1500SRTSelf\\20231012\\Top\\Clips\\Kennard_20231012_HoldTrial021_TopView.avi\n",
      "Loading  D:\\YuLab\\Work\\GPS\\Video\\Kennard\\GPS_08_Kornblum1500SRTSelf\\20231012\\Top\\Clips\\Kennard_20231012_HoldTrial021_TopView.avi\n",
      "Duration of video [s]:  8.0 , recorded with  25.0 fps!\n",
      "Overall # of frames:  200  found with (before cropping) frame dimensions:  1280 1331\n",
      "Starting to extract posture\n",
      "Cropping based on the x1 = 0 x2 = 1280 y1 = 0 y2 = 1024. You can adjust the cropping coordinates in the config.yaml file.\n"
     ]
    },
    {
     "name": "stderr",
     "output_type": "stream",
     "text": [
      "100%|██████████| 200/200 [00:08<00:00, 24.22it/s]\n"
     ]
    },
    {
     "name": "stdout",
     "output_type": "stream",
     "text": [
      "Saving results in D:\\YuLab\\Work\\GPS\\Video\\Kennard\\GPS_08_Kornblum1500SRTSelf\\20231012\\Top\\Clips...\n",
      "Saving csv poses!\n",
      "Starting to analyze %  D:\\YuLab\\Work\\GPS\\Video\\Kennard\\GPS_08_Kornblum1500SRTSelf\\20231012\\Top\\Clips\\Kennard_20231012_HoldTrial022_TopView.avi\n",
      "Loading  D:\\YuLab\\Work\\GPS\\Video\\Kennard\\GPS_08_Kornblum1500SRTSelf\\20231012\\Top\\Clips\\Kennard_20231012_HoldTrial022_TopView.avi\n",
      "Duration of video [s]:  8.0 , recorded with  25.0 fps!\n",
      "Overall # of frames:  200  found with (before cropping) frame dimensions:  1280 1331\n",
      "Starting to extract posture\n",
      "Cropping based on the x1 = 0 x2 = 1280 y1 = 0 y2 = 1024. You can adjust the cropping coordinates in the config.yaml file.\n"
     ]
    },
    {
     "name": "stderr",
     "output_type": "stream",
     "text": [
      "100%|██████████| 200/200 [00:08<00:00, 24.22it/s]\n"
     ]
    },
    {
     "name": "stdout",
     "output_type": "stream",
     "text": [
      "Saving results in D:\\YuLab\\Work\\GPS\\Video\\Kennard\\GPS_08_Kornblum1500SRTSelf\\20231012\\Top\\Clips...\n",
      "Saving csv poses!\n",
      "Starting to analyze %  D:\\YuLab\\Work\\GPS\\Video\\Kennard\\GPS_08_Kornblum1500SRTSelf\\20231012\\Top\\Clips\\Kennard_20231012_HoldTrial023_TopView.avi\n",
      "Loading  D:\\YuLab\\Work\\GPS\\Video\\Kennard\\GPS_08_Kornblum1500SRTSelf\\20231012\\Top\\Clips\\Kennard_20231012_HoldTrial023_TopView.avi\n",
      "Duration of video [s]:  8.0 , recorded with  25.0 fps!\n",
      "Overall # of frames:  200  found with (before cropping) frame dimensions:  1280 1331\n",
      "Starting to extract posture\n",
      "Cropping based on the x1 = 0 x2 = 1280 y1 = 0 y2 = 1024. You can adjust the cropping coordinates in the config.yaml file.\n"
     ]
    },
    {
     "name": "stderr",
     "output_type": "stream",
     "text": [
      "100%|██████████| 200/200 [00:08<00:00, 24.20it/s]\n"
     ]
    },
    {
     "name": "stdout",
     "output_type": "stream",
     "text": [
      "Saving results in D:\\YuLab\\Work\\GPS\\Video\\Kennard\\GPS_08_Kornblum1500SRTSelf\\20231012\\Top\\Clips...\n",
      "Saving csv poses!\n",
      "Starting to analyze %  D:\\YuLab\\Work\\GPS\\Video\\Kennard\\GPS_08_Kornblum1500SRTSelf\\20231012\\Top\\Clips\\Kennard_20231012_HoldTrial024_TopView.avi\n",
      "Loading  D:\\YuLab\\Work\\GPS\\Video\\Kennard\\GPS_08_Kornblum1500SRTSelf\\20231012\\Top\\Clips\\Kennard_20231012_HoldTrial024_TopView.avi\n",
      "Duration of video [s]:  8.04 , recorded with  25.0 fps!\n",
      "Overall # of frames:  201  found with (before cropping) frame dimensions:  1280 1331\n",
      "Starting to extract posture\n",
      "Cropping based on the x1 = 0 x2 = 1280 y1 = 0 y2 = 1024. You can adjust the cropping coordinates in the config.yaml file.\n"
     ]
    },
    {
     "name": "stderr",
     "output_type": "stream",
     "text": [
      "100%|██████████| 201/201 [00:08<00:00, 23.48it/s]\n"
     ]
    },
    {
     "name": "stdout",
     "output_type": "stream",
     "text": [
      "Saving results in D:\\YuLab\\Work\\GPS\\Video\\Kennard\\GPS_08_Kornblum1500SRTSelf\\20231012\\Top\\Clips...\n",
      "Saving csv poses!\n",
      "Starting to analyze %  D:\\YuLab\\Work\\GPS\\Video\\Kennard\\GPS_08_Kornblum1500SRTSelf\\20231012\\Top\\Clips\\Kennard_20231012_HoldTrial025_TopView.avi\n",
      "Loading  D:\\YuLab\\Work\\GPS\\Video\\Kennard\\GPS_08_Kornblum1500SRTSelf\\20231012\\Top\\Clips\\Kennard_20231012_HoldTrial025_TopView.avi\n",
      "Duration of video [s]:  8.0 , recorded with  25.0 fps!\n",
      "Overall # of frames:  200  found with (before cropping) frame dimensions:  1280 1331\n",
      "Starting to extract posture\n",
      "Cropping based on the x1 = 0 x2 = 1280 y1 = 0 y2 = 1024. You can adjust the cropping coordinates in the config.yaml file.\n"
     ]
    },
    {
     "name": "stderr",
     "output_type": "stream",
     "text": [
      "100%|██████████| 200/200 [00:08<00:00, 24.13it/s]\n"
     ]
    },
    {
     "name": "stdout",
     "output_type": "stream",
     "text": [
      "Saving results in D:\\YuLab\\Work\\GPS\\Video\\Kennard\\GPS_08_Kornblum1500SRTSelf\\20231012\\Top\\Clips...\n",
      "Saving csv poses!\n",
      "Starting to analyze %  D:\\YuLab\\Work\\GPS\\Video\\Kennard\\GPS_08_Kornblum1500SRTSelf\\20231012\\Top\\Clips\\Kennard_20231012_HoldTrial026_TopView.avi\n",
      "Loading  D:\\YuLab\\Work\\GPS\\Video\\Kennard\\GPS_08_Kornblum1500SRTSelf\\20231012\\Top\\Clips\\Kennard_20231012_HoldTrial026_TopView.avi\n",
      "Duration of video [s]:  8.04 , recorded with  25.0 fps!\n",
      "Overall # of frames:  201  found with (before cropping) frame dimensions:  1280 1331\n",
      "Starting to extract posture\n",
      "Cropping based on the x1 = 0 x2 = 1280 y1 = 0 y2 = 1024. You can adjust the cropping coordinates in the config.yaml file.\n"
     ]
    },
    {
     "name": "stderr",
     "output_type": "stream",
     "text": [
      "100%|██████████| 201/201 [00:08<00:00, 23.43it/s]\n"
     ]
    },
    {
     "name": "stdout",
     "output_type": "stream",
     "text": [
      "Saving results in D:\\YuLab\\Work\\GPS\\Video\\Kennard\\GPS_08_Kornblum1500SRTSelf\\20231012\\Top\\Clips...\n",
      "Saving csv poses!\n",
      "Starting to analyze %  D:\\YuLab\\Work\\GPS\\Video\\Kennard\\GPS_08_Kornblum1500SRTSelf\\20231012\\Top\\Clips\\Kennard_20231012_HoldTrial027_TopView.avi\n",
      "Loading  D:\\YuLab\\Work\\GPS\\Video\\Kennard\\GPS_08_Kornblum1500SRTSelf\\20231012\\Top\\Clips\\Kennard_20231012_HoldTrial027_TopView.avi\n",
      "Duration of video [s]:  8.0 , recorded with  25.0 fps!\n",
      "Overall # of frames:  200  found with (before cropping) frame dimensions:  1280 1331\n",
      "Starting to extract posture\n",
      "Cropping based on the x1 = 0 x2 = 1280 y1 = 0 y2 = 1024. You can adjust the cropping coordinates in the config.yaml file.\n"
     ]
    },
    {
     "name": "stderr",
     "output_type": "stream",
     "text": [
      "100%|██████████| 200/200 [00:08<00:00, 24.12it/s]\n"
     ]
    },
    {
     "name": "stdout",
     "output_type": "stream",
     "text": [
      "Saving results in D:\\YuLab\\Work\\GPS\\Video\\Kennard\\GPS_08_Kornblum1500SRTSelf\\20231012\\Top\\Clips...\n",
      "Saving csv poses!\n",
      "Starting to analyze %  D:\\YuLab\\Work\\GPS\\Video\\Kennard\\GPS_08_Kornblum1500SRTSelf\\20231012\\Top\\Clips\\Kennard_20231012_HoldTrial028_TopView.avi\n",
      "Loading  D:\\YuLab\\Work\\GPS\\Video\\Kennard\\GPS_08_Kornblum1500SRTSelf\\20231012\\Top\\Clips\\Kennard_20231012_HoldTrial028_TopView.avi\n",
      "Duration of video [s]:  8.0 , recorded with  25.0 fps!\n",
      "Overall # of frames:  200  found with (before cropping) frame dimensions:  1280 1331\n",
      "Starting to extract posture\n",
      "Cropping based on the x1 = 0 x2 = 1280 y1 = 0 y2 = 1024. You can adjust the cropping coordinates in the config.yaml file.\n"
     ]
    },
    {
     "name": "stderr",
     "output_type": "stream",
     "text": [
      "100%|██████████| 200/200 [00:08<00:00, 24.10it/s]\n"
     ]
    },
    {
     "name": "stdout",
     "output_type": "stream",
     "text": [
      "Saving results in D:\\YuLab\\Work\\GPS\\Video\\Kennard\\GPS_08_Kornblum1500SRTSelf\\20231012\\Top\\Clips...\n",
      "Saving csv poses!\n",
      "Starting to analyze %  D:\\YuLab\\Work\\GPS\\Video\\Kennard\\GPS_08_Kornblum1500SRTSelf\\20231012\\Top\\Clips\\Kennard_20231012_HoldTrial029_TopView.avi\n",
      "Loading  D:\\YuLab\\Work\\GPS\\Video\\Kennard\\GPS_08_Kornblum1500SRTSelf\\20231012\\Top\\Clips\\Kennard_20231012_HoldTrial029_TopView.avi\n",
      "Duration of video [s]:  8.04 , recorded with  25.0 fps!\n",
      "Overall # of frames:  201  found with (before cropping) frame dimensions:  1280 1331\n",
      "Starting to extract posture\n",
      "Cropping based on the x1 = 0 x2 = 1280 y1 = 0 y2 = 1024. You can adjust the cropping coordinates in the config.yaml file.\n"
     ]
    },
    {
     "name": "stderr",
     "output_type": "stream",
     "text": [
      "100%|██████████| 201/201 [00:08<00:00, 23.49it/s]\n"
     ]
    },
    {
     "name": "stdout",
     "output_type": "stream",
     "text": [
      "Saving results in D:\\YuLab\\Work\\GPS\\Video\\Kennard\\GPS_08_Kornblum1500SRTSelf\\20231012\\Top\\Clips...\n",
      "Saving csv poses!\n",
      "Starting to analyze %  D:\\YuLab\\Work\\GPS\\Video\\Kennard\\GPS_08_Kornblum1500SRTSelf\\20231012\\Top\\Clips\\Kennard_20231012_HoldTrial030_TopView.avi\n",
      "Loading  D:\\YuLab\\Work\\GPS\\Video\\Kennard\\GPS_08_Kornblum1500SRTSelf\\20231012\\Top\\Clips\\Kennard_20231012_HoldTrial030_TopView.avi\n",
      "Duration of video [s]:  8.04 , recorded with  25.0 fps!\n",
      "Overall # of frames:  201  found with (before cropping) frame dimensions:  1280 1331\n",
      "Starting to extract posture\n",
      "Cropping based on the x1 = 0 x2 = 1280 y1 = 0 y2 = 1024. You can adjust the cropping coordinates in the config.yaml file.\n"
     ]
    },
    {
     "name": "stderr",
     "output_type": "stream",
     "text": [
      "100%|██████████| 201/201 [00:08<00:00, 23.48it/s]\n"
     ]
    },
    {
     "name": "stdout",
     "output_type": "stream",
     "text": [
      "Saving results in D:\\YuLab\\Work\\GPS\\Video\\Kennard\\GPS_08_Kornblum1500SRTSelf\\20231012\\Top\\Clips...\n",
      "Saving csv poses!\n",
      "Starting to analyze %  D:\\YuLab\\Work\\GPS\\Video\\Kennard\\GPS_08_Kornblum1500SRTSelf\\20231012\\Top\\Clips\\Kennard_20231012_HoldTrial031_TopView.avi\n",
      "Loading  D:\\YuLab\\Work\\GPS\\Video\\Kennard\\GPS_08_Kornblum1500SRTSelf\\20231012\\Top\\Clips\\Kennard_20231012_HoldTrial031_TopView.avi\n",
      "Duration of video [s]:  8.0 , recorded with  25.0 fps!\n",
      "Overall # of frames:  200  found with (before cropping) frame dimensions:  1280 1331\n",
      "Starting to extract posture\n",
      "Cropping based on the x1 = 0 x2 = 1280 y1 = 0 y2 = 1024. You can adjust the cropping coordinates in the config.yaml file.\n"
     ]
    },
    {
     "name": "stderr",
     "output_type": "stream",
     "text": [
      "100%|██████████| 200/200 [00:08<00:00, 24.14it/s]\n"
     ]
    },
    {
     "name": "stdout",
     "output_type": "stream",
     "text": [
      "Saving results in D:\\YuLab\\Work\\GPS\\Video\\Kennard\\GPS_08_Kornblum1500SRTSelf\\20231012\\Top\\Clips...\n",
      "Saving csv poses!\n",
      "Starting to analyze %  D:\\YuLab\\Work\\GPS\\Video\\Kennard\\GPS_08_Kornblum1500SRTSelf\\20231012\\Top\\Clips\\Kennard_20231012_HoldTrial032_TopView.avi\n",
      "Loading  D:\\YuLab\\Work\\GPS\\Video\\Kennard\\GPS_08_Kornblum1500SRTSelf\\20231012\\Top\\Clips\\Kennard_20231012_HoldTrial032_TopView.avi\n",
      "Duration of video [s]:  8.0 , recorded with  25.0 fps!\n",
      "Overall # of frames:  200  found with (before cropping) frame dimensions:  1280 1331\n",
      "Starting to extract posture\n",
      "Cropping based on the x1 = 0 x2 = 1280 y1 = 0 y2 = 1024. You can adjust the cropping coordinates in the config.yaml file.\n"
     ]
    },
    {
     "name": "stderr",
     "output_type": "stream",
     "text": [
      "100%|██████████| 200/200 [00:08<00:00, 24.20it/s]\n"
     ]
    },
    {
     "name": "stdout",
     "output_type": "stream",
     "text": [
      "Saving results in D:\\YuLab\\Work\\GPS\\Video\\Kennard\\GPS_08_Kornblum1500SRTSelf\\20231012\\Top\\Clips...\n",
      "Saving csv poses!\n",
      "Starting to analyze %  D:\\YuLab\\Work\\GPS\\Video\\Kennard\\GPS_08_Kornblum1500SRTSelf\\20231012\\Top\\Clips\\Kennard_20231012_HoldTrial033_TopView.avi\n",
      "Loading  D:\\YuLab\\Work\\GPS\\Video\\Kennard\\GPS_08_Kornblum1500SRTSelf\\20231012\\Top\\Clips\\Kennard_20231012_HoldTrial033_TopView.avi\n",
      "Duration of video [s]:  8.04 , recorded with  25.0 fps!\n",
      "Overall # of frames:  201  found with (before cropping) frame dimensions:  1280 1331\n",
      "Starting to extract posture\n",
      "Cropping based on the x1 = 0 x2 = 1280 y1 = 0 y2 = 1024. You can adjust the cropping coordinates in the config.yaml file.\n"
     ]
    },
    {
     "name": "stderr",
     "output_type": "stream",
     "text": [
      "100%|██████████| 201/201 [00:08<00:00, 23.66it/s]\n"
     ]
    },
    {
     "name": "stdout",
     "output_type": "stream",
     "text": [
      "Saving results in D:\\YuLab\\Work\\GPS\\Video\\Kennard\\GPS_08_Kornblum1500SRTSelf\\20231012\\Top\\Clips...\n",
      "Saving csv poses!\n",
      "Starting to analyze %  D:\\YuLab\\Work\\GPS\\Video\\Kennard\\GPS_08_Kornblum1500SRTSelf\\20231012\\Top\\Clips\\Kennard_20231012_HoldTrial034_TopView.avi\n",
      "Loading  D:\\YuLab\\Work\\GPS\\Video\\Kennard\\GPS_08_Kornblum1500SRTSelf\\20231012\\Top\\Clips\\Kennard_20231012_HoldTrial034_TopView.avi\n",
      "Duration of video [s]:  8.04 , recorded with  25.0 fps!\n",
      "Overall # of frames:  201  found with (before cropping) frame dimensions:  1280 1331\n",
      "Starting to extract posture\n",
      "Cropping based on the x1 = 0 x2 = 1280 y1 = 0 y2 = 1024. You can adjust the cropping coordinates in the config.yaml file.\n"
     ]
    },
    {
     "name": "stderr",
     "output_type": "stream",
     "text": [
      "100%|██████████| 201/201 [00:08<00:00, 23.64it/s]\n"
     ]
    },
    {
     "name": "stdout",
     "output_type": "stream",
     "text": [
      "Saving results in D:\\YuLab\\Work\\GPS\\Video\\Kennard\\GPS_08_Kornblum1500SRTSelf\\20231012\\Top\\Clips...\n",
      "Saving csv poses!\n",
      "Starting to analyze %  D:\\YuLab\\Work\\GPS\\Video\\Kennard\\GPS_08_Kornblum1500SRTSelf\\20231012\\Top\\Clips\\Kennard_20231012_HoldTrial035_TopView.avi\n",
      "Loading  D:\\YuLab\\Work\\GPS\\Video\\Kennard\\GPS_08_Kornblum1500SRTSelf\\20231012\\Top\\Clips\\Kennard_20231012_HoldTrial035_TopView.avi\n",
      "Duration of video [s]:  8.0 , recorded with  25.0 fps!\n",
      "Overall # of frames:  200  found with (before cropping) frame dimensions:  1280 1331\n",
      "Starting to extract posture\n",
      "Cropping based on the x1 = 0 x2 = 1280 y1 = 0 y2 = 1024. You can adjust the cropping coordinates in the config.yaml file.\n"
     ]
    },
    {
     "name": "stderr",
     "output_type": "stream",
     "text": [
      "100%|██████████| 200/200 [00:08<00:00, 24.23it/s]\n"
     ]
    },
    {
     "name": "stdout",
     "output_type": "stream",
     "text": [
      "Saving results in D:\\YuLab\\Work\\GPS\\Video\\Kennard\\GPS_08_Kornblum1500SRTSelf\\20231012\\Top\\Clips...\n",
      "Saving csv poses!\n",
      "Starting to analyze %  D:\\YuLab\\Work\\GPS\\Video\\Kennard\\GPS_08_Kornblum1500SRTSelf\\20231012\\Top\\Clips\\Kennard_20231012_HoldTrial036_TopView.avi\n",
      "Loading  D:\\YuLab\\Work\\GPS\\Video\\Kennard\\GPS_08_Kornblum1500SRTSelf\\20231012\\Top\\Clips\\Kennard_20231012_HoldTrial036_TopView.avi\n",
      "Duration of video [s]:  8.04 , recorded with  25.0 fps!\n",
      "Overall # of frames:  201  found with (before cropping) frame dimensions:  1280 1331\n",
      "Starting to extract posture\n",
      "Cropping based on the x1 = 0 x2 = 1280 y1 = 0 y2 = 1024. You can adjust the cropping coordinates in the config.yaml file.\n"
     ]
    },
    {
     "name": "stderr",
     "output_type": "stream",
     "text": [
      "100%|██████████| 201/201 [00:08<00:00, 23.51it/s]\n"
     ]
    },
    {
     "name": "stdout",
     "output_type": "stream",
     "text": [
      "Saving results in D:\\YuLab\\Work\\GPS\\Video\\Kennard\\GPS_08_Kornblum1500SRTSelf\\20231012\\Top\\Clips...\n",
      "Saving csv poses!\n",
      "Starting to analyze %  D:\\YuLab\\Work\\GPS\\Video\\Kennard\\GPS_08_Kornblum1500SRTSelf\\20231012\\Top\\Clips\\Kennard_20231012_HoldTrial037_TopView.avi\n",
      "Loading  D:\\YuLab\\Work\\GPS\\Video\\Kennard\\GPS_08_Kornblum1500SRTSelf\\20231012\\Top\\Clips\\Kennard_20231012_HoldTrial037_TopView.avi\n",
      "Duration of video [s]:  8.0 , recorded with  25.0 fps!\n",
      "Overall # of frames:  200  found with (before cropping) frame dimensions:  1280 1331\n",
      "Starting to extract posture\n",
      "Cropping based on the x1 = 0 x2 = 1280 y1 = 0 y2 = 1024. You can adjust the cropping coordinates in the config.yaml file.\n"
     ]
    },
    {
     "name": "stderr",
     "output_type": "stream",
     "text": [
      "100%|██████████| 200/200 [00:08<00:00, 24.13it/s]\n"
     ]
    },
    {
     "name": "stdout",
     "output_type": "stream",
     "text": [
      "Saving results in D:\\YuLab\\Work\\GPS\\Video\\Kennard\\GPS_08_Kornblum1500SRTSelf\\20231012\\Top\\Clips...\n",
      "Saving csv poses!\n",
      "Starting to analyze %  D:\\YuLab\\Work\\GPS\\Video\\Kennard\\GPS_08_Kornblum1500SRTSelf\\20231012\\Top\\Clips\\Kennard_20231012_HoldTrial038_TopView.avi\n",
      "Loading  D:\\YuLab\\Work\\GPS\\Video\\Kennard\\GPS_08_Kornblum1500SRTSelf\\20231012\\Top\\Clips\\Kennard_20231012_HoldTrial038_TopView.avi\n",
      "Duration of video [s]:  8.0 , recorded with  25.0 fps!\n",
      "Overall # of frames:  200  found with (before cropping) frame dimensions:  1280 1331\n",
      "Starting to extract posture\n",
      "Cropping based on the x1 = 0 x2 = 1280 y1 = 0 y2 = 1024. You can adjust the cropping coordinates in the config.yaml file.\n"
     ]
    },
    {
     "name": "stderr",
     "output_type": "stream",
     "text": [
      "100%|██████████| 200/200 [00:08<00:00, 24.15it/s]\n"
     ]
    },
    {
     "name": "stdout",
     "output_type": "stream",
     "text": [
      "Saving results in D:\\YuLab\\Work\\GPS\\Video\\Kennard\\GPS_08_Kornblum1500SRTSelf\\20231012\\Top\\Clips...\n",
      "Saving csv poses!\n",
      "Starting to analyze %  D:\\YuLab\\Work\\GPS\\Video\\Kennard\\GPS_08_Kornblum1500SRTSelf\\20231012\\Top\\Clips\\Kennard_20231012_HoldTrial039_TopView.avi\n",
      "Loading  D:\\YuLab\\Work\\GPS\\Video\\Kennard\\GPS_08_Kornblum1500SRTSelf\\20231012\\Top\\Clips\\Kennard_20231012_HoldTrial039_TopView.avi\n",
      "Duration of video [s]:  8.04 , recorded with  25.0 fps!\n",
      "Overall # of frames:  201  found with (before cropping) frame dimensions:  1280 1331\n",
      "Starting to extract posture\n",
      "Cropping based on the x1 = 0 x2 = 1280 y1 = 0 y2 = 1024. You can adjust the cropping coordinates in the config.yaml file.\n"
     ]
    },
    {
     "name": "stderr",
     "output_type": "stream",
     "text": [
      "100%|██████████| 201/201 [00:08<00:00, 23.52it/s]\n"
     ]
    },
    {
     "name": "stdout",
     "output_type": "stream",
     "text": [
      "Saving results in D:\\YuLab\\Work\\GPS\\Video\\Kennard\\GPS_08_Kornblum1500SRTSelf\\20231012\\Top\\Clips...\n",
      "Saving csv poses!\n",
      "Starting to analyze %  D:\\YuLab\\Work\\GPS\\Video\\Kennard\\GPS_08_Kornblum1500SRTSelf\\20231012\\Top\\Clips\\Kennard_20231012_HoldTrial040_TopView.avi\n",
      "Loading  D:\\YuLab\\Work\\GPS\\Video\\Kennard\\GPS_08_Kornblum1500SRTSelf\\20231012\\Top\\Clips\\Kennard_20231012_HoldTrial040_TopView.avi\n",
      "Duration of video [s]:  8.0 , recorded with  25.0 fps!\n",
      "Overall # of frames:  200  found with (before cropping) frame dimensions:  1280 1331\n",
      "Starting to extract posture\n",
      "Cropping based on the x1 = 0 x2 = 1280 y1 = 0 y2 = 1024. You can adjust the cropping coordinates in the config.yaml file.\n"
     ]
    },
    {
     "name": "stderr",
     "output_type": "stream",
     "text": [
      "100%|██████████| 200/200 [00:08<00:00, 24.15it/s]\n"
     ]
    },
    {
     "name": "stdout",
     "output_type": "stream",
     "text": [
      "Saving results in D:\\YuLab\\Work\\GPS\\Video\\Kennard\\GPS_08_Kornblum1500SRTSelf\\20231012\\Top\\Clips...\n",
      "Saving csv poses!\n",
      "Starting to analyze %  D:\\YuLab\\Work\\GPS\\Video\\Kennard\\GPS_08_Kornblum1500SRTSelf\\20231012\\Top\\Clips\\Kennard_20231012_HoldTrial041_TopView.avi\n",
      "Loading  D:\\YuLab\\Work\\GPS\\Video\\Kennard\\GPS_08_Kornblum1500SRTSelf\\20231012\\Top\\Clips\\Kennard_20231012_HoldTrial041_TopView.avi\n",
      "Duration of video [s]:  8.0 , recorded with  25.0 fps!\n",
      "Overall # of frames:  200  found with (before cropping) frame dimensions:  1280 1331\n",
      "Starting to extract posture\n",
      "Cropping based on the x1 = 0 x2 = 1280 y1 = 0 y2 = 1024. You can adjust the cropping coordinates in the config.yaml file.\n"
     ]
    },
    {
     "name": "stderr",
     "output_type": "stream",
     "text": [
      "100%|██████████| 200/200 [00:08<00:00, 24.16it/s]\n"
     ]
    },
    {
     "name": "stdout",
     "output_type": "stream",
     "text": [
      "Saving results in D:\\YuLab\\Work\\GPS\\Video\\Kennard\\GPS_08_Kornblum1500SRTSelf\\20231012\\Top\\Clips...\n",
      "Saving csv poses!\n",
      "Starting to analyze %  D:\\YuLab\\Work\\GPS\\Video\\Kennard\\GPS_08_Kornblum1500SRTSelf\\20231012\\Top\\Clips\\Kennard_20231012_HoldTrial042_TopView.avi\n",
      "Loading  D:\\YuLab\\Work\\GPS\\Video\\Kennard\\GPS_08_Kornblum1500SRTSelf\\20231012\\Top\\Clips\\Kennard_20231012_HoldTrial042_TopView.avi\n",
      "Duration of video [s]:  8.04 , recorded with  25.0 fps!\n",
      "Overall # of frames:  201  found with (before cropping) frame dimensions:  1280 1331\n",
      "Starting to extract posture\n",
      "Cropping based on the x1 = 0 x2 = 1280 y1 = 0 y2 = 1024. You can adjust the cropping coordinates in the config.yaml file.\n"
     ]
    },
    {
     "name": "stderr",
     "output_type": "stream",
     "text": [
      "100%|██████████| 201/201 [00:08<00:00, 23.51it/s]\n"
     ]
    },
    {
     "name": "stdout",
     "output_type": "stream",
     "text": [
      "Saving results in D:\\YuLab\\Work\\GPS\\Video\\Kennard\\GPS_08_Kornblum1500SRTSelf\\20231012\\Top\\Clips...\n",
      "Saving csv poses!\n",
      "Starting to analyze %  D:\\YuLab\\Work\\GPS\\Video\\Kennard\\GPS_08_Kornblum1500SRTSelf\\20231012\\Top\\Clips\\Kennard_20231012_HoldTrial043_TopView.avi\n",
      "Loading  D:\\YuLab\\Work\\GPS\\Video\\Kennard\\GPS_08_Kornblum1500SRTSelf\\20231012\\Top\\Clips\\Kennard_20231012_HoldTrial043_TopView.avi\n",
      "Duration of video [s]:  8.04 , recorded with  25.0 fps!\n",
      "Overall # of frames:  201  found with (before cropping) frame dimensions:  1280 1331\n",
      "Starting to extract posture\n",
      "Cropping based on the x1 = 0 x2 = 1280 y1 = 0 y2 = 1024. You can adjust the cropping coordinates in the config.yaml file.\n"
     ]
    },
    {
     "name": "stderr",
     "output_type": "stream",
     "text": [
      "100%|██████████| 201/201 [00:08<00:00, 23.41it/s]\n"
     ]
    },
    {
     "name": "stdout",
     "output_type": "stream",
     "text": [
      "Saving results in D:\\YuLab\\Work\\GPS\\Video\\Kennard\\GPS_08_Kornblum1500SRTSelf\\20231012\\Top\\Clips...\n",
      "Saving csv poses!\n",
      "Starting to analyze %  D:\\YuLab\\Work\\GPS\\Video\\Kennard\\GPS_08_Kornblum1500SRTSelf\\20231012\\Top\\Clips\\Kennard_20231012_HoldTrial044_TopView.avi\n",
      "Loading  D:\\YuLab\\Work\\GPS\\Video\\Kennard\\GPS_08_Kornblum1500SRTSelf\\20231012\\Top\\Clips\\Kennard_20231012_HoldTrial044_TopView.avi\n",
      "Duration of video [s]:  8.0 , recorded with  25.0 fps!\n",
      "Overall # of frames:  200  found with (before cropping) frame dimensions:  1280 1331\n",
      "Starting to extract posture\n",
      "Cropping based on the x1 = 0 x2 = 1280 y1 = 0 y2 = 1024. You can adjust the cropping coordinates in the config.yaml file.\n"
     ]
    },
    {
     "name": "stderr",
     "output_type": "stream",
     "text": [
      "100%|██████████| 200/200 [00:08<00:00, 24.18it/s]\n"
     ]
    },
    {
     "name": "stdout",
     "output_type": "stream",
     "text": [
      "Saving results in D:\\YuLab\\Work\\GPS\\Video\\Kennard\\GPS_08_Kornblum1500SRTSelf\\20231012\\Top\\Clips...\n",
      "Saving csv poses!\n",
      "Starting to analyze %  D:\\YuLab\\Work\\GPS\\Video\\Kennard\\GPS_08_Kornblum1500SRTSelf\\20231012\\Top\\Clips\\Kennard_20231012_HoldTrial045_TopView.avi\n",
      "Loading  D:\\YuLab\\Work\\GPS\\Video\\Kennard\\GPS_08_Kornblum1500SRTSelf\\20231012\\Top\\Clips\\Kennard_20231012_HoldTrial045_TopView.avi\n",
      "Duration of video [s]:  8.04 , recorded with  25.0 fps!\n",
      "Overall # of frames:  201  found with (before cropping) frame dimensions:  1280 1331\n",
      "Starting to extract posture\n",
      "Cropping based on the x1 = 0 x2 = 1280 y1 = 0 y2 = 1024. You can adjust the cropping coordinates in the config.yaml file.\n"
     ]
    },
    {
     "name": "stderr",
     "output_type": "stream",
     "text": [
      "100%|██████████| 201/201 [00:08<00:00, 23.50it/s]\n"
     ]
    },
    {
     "name": "stdout",
     "output_type": "stream",
     "text": [
      "Saving results in D:\\YuLab\\Work\\GPS\\Video\\Kennard\\GPS_08_Kornblum1500SRTSelf\\20231012\\Top\\Clips...\n",
      "Saving csv poses!\n",
      "Starting to analyze %  D:\\YuLab\\Work\\GPS\\Video\\Kennard\\GPS_08_Kornblum1500SRTSelf\\20231012\\Top\\Clips\\Kennard_20231012_HoldTrial046_TopView.avi\n",
      "Loading  D:\\YuLab\\Work\\GPS\\Video\\Kennard\\GPS_08_Kornblum1500SRTSelf\\20231012\\Top\\Clips\\Kennard_20231012_HoldTrial046_TopView.avi\n",
      "Duration of video [s]:  8.0 , recorded with  25.0 fps!\n",
      "Overall # of frames:  200  found with (before cropping) frame dimensions:  1280 1331\n",
      "Starting to extract posture\n",
      "Cropping based on the x1 = 0 x2 = 1280 y1 = 0 y2 = 1024. You can adjust the cropping coordinates in the config.yaml file.\n"
     ]
    },
    {
     "name": "stderr",
     "output_type": "stream",
     "text": [
      "100%|██████████| 200/200 [00:08<00:00, 24.23it/s]\n"
     ]
    },
    {
     "name": "stdout",
     "output_type": "stream",
     "text": [
      "Saving results in D:\\YuLab\\Work\\GPS\\Video\\Kennard\\GPS_08_Kornblum1500SRTSelf\\20231012\\Top\\Clips...\n",
      "Saving csv poses!\n",
      "Starting to analyze %  D:\\YuLab\\Work\\GPS\\Video\\Kennard\\GPS_08_Kornblum1500SRTSelf\\20231012\\Top\\Clips\\Kennard_20231012_HoldTrial047_TopView.avi\n",
      "Loading  D:\\YuLab\\Work\\GPS\\Video\\Kennard\\GPS_08_Kornblum1500SRTSelf\\20231012\\Top\\Clips\\Kennard_20231012_HoldTrial047_TopView.avi\n",
      "Duration of video [s]:  8.04 , recorded with  25.0 fps!\n",
      "Overall # of frames:  201  found with (before cropping) frame dimensions:  1280 1331\n",
      "Starting to extract posture\n",
      "Cropping based on the x1 = 0 x2 = 1280 y1 = 0 y2 = 1024. You can adjust the cropping coordinates in the config.yaml file.\n"
     ]
    },
    {
     "name": "stderr",
     "output_type": "stream",
     "text": [
      "100%|██████████| 201/201 [00:08<00:00, 23.57it/s]\n"
     ]
    },
    {
     "name": "stdout",
     "output_type": "stream",
     "text": [
      "Saving results in D:\\YuLab\\Work\\GPS\\Video\\Kennard\\GPS_08_Kornblum1500SRTSelf\\20231012\\Top\\Clips...\n",
      "Saving csv poses!\n",
      "Starting to analyze %  D:\\YuLab\\Work\\GPS\\Video\\Kennard\\GPS_08_Kornblum1500SRTSelf\\20231012\\Top\\Clips\\Kennard_20231012_HoldTrial048_TopView.avi\n",
      "Loading  D:\\YuLab\\Work\\GPS\\Video\\Kennard\\GPS_08_Kornblum1500SRTSelf\\20231012\\Top\\Clips\\Kennard_20231012_HoldTrial048_TopView.avi\n",
      "Duration of video [s]:  8.04 , recorded with  25.0 fps!\n",
      "Overall # of frames:  201  found with (before cropping) frame dimensions:  1280 1331\n",
      "Starting to extract posture\n",
      "Cropping based on the x1 = 0 x2 = 1280 y1 = 0 y2 = 1024. You can adjust the cropping coordinates in the config.yaml file.\n"
     ]
    },
    {
     "name": "stderr",
     "output_type": "stream",
     "text": [
      "100%|██████████| 201/201 [00:08<00:00, 23.51it/s]\n"
     ]
    },
    {
     "name": "stdout",
     "output_type": "stream",
     "text": [
      "Saving results in D:\\YuLab\\Work\\GPS\\Video\\Kennard\\GPS_08_Kornblum1500SRTSelf\\20231012\\Top\\Clips...\n",
      "Saving csv poses!\n",
      "Starting to analyze %  D:\\YuLab\\Work\\GPS\\Video\\Kennard\\GPS_08_Kornblum1500SRTSelf\\20231012\\Top\\Clips\\Kennard_20231012_HoldTrial049_TopView.avi\n",
      "Loading  D:\\YuLab\\Work\\GPS\\Video\\Kennard\\GPS_08_Kornblum1500SRTSelf\\20231012\\Top\\Clips\\Kennard_20231012_HoldTrial049_TopView.avi\n",
      "Duration of video [s]:  8.04 , recorded with  25.0 fps!\n",
      "Overall # of frames:  201  found with (before cropping) frame dimensions:  1280 1331\n",
      "Starting to extract posture\n",
      "Cropping based on the x1 = 0 x2 = 1280 y1 = 0 y2 = 1024. You can adjust the cropping coordinates in the config.yaml file.\n"
     ]
    },
    {
     "name": "stderr",
     "output_type": "stream",
     "text": [
      "100%|██████████| 201/201 [00:08<00:00, 23.44it/s]\n"
     ]
    },
    {
     "name": "stdout",
     "output_type": "stream",
     "text": [
      "Saving results in D:\\YuLab\\Work\\GPS\\Video\\Kennard\\GPS_08_Kornblum1500SRTSelf\\20231012\\Top\\Clips...\n",
      "Saving csv poses!\n",
      "Starting to analyze %  D:\\YuLab\\Work\\GPS\\Video\\Kennard\\GPS_08_Kornblum1500SRTSelf\\20231012\\Top\\Clips\\Kennard_20231012_HoldTrial050_TopView.avi\n",
      "Loading  D:\\YuLab\\Work\\GPS\\Video\\Kennard\\GPS_08_Kornblum1500SRTSelf\\20231012\\Top\\Clips\\Kennard_20231012_HoldTrial050_TopView.avi\n",
      "Duration of video [s]:  8.04 , recorded with  25.0 fps!\n",
      "Overall # of frames:  201  found with (before cropping) frame dimensions:  1280 1331\n",
      "Starting to extract posture\n",
      "Cropping based on the x1 = 0 x2 = 1280 y1 = 0 y2 = 1024. You can adjust the cropping coordinates in the config.yaml file.\n"
     ]
    },
    {
     "name": "stderr",
     "output_type": "stream",
     "text": [
      "100%|██████████| 201/201 [00:08<00:00, 23.48it/s]\n"
     ]
    },
    {
     "name": "stdout",
     "output_type": "stream",
     "text": [
      "Saving results in D:\\YuLab\\Work\\GPS\\Video\\Kennard\\GPS_08_Kornblum1500SRTSelf\\20231012\\Top\\Clips...\n",
      "Saving csv poses!\n",
      "Starting to analyze %  D:\\YuLab\\Work\\GPS\\Video\\Kennard\\GPS_08_Kornblum1500SRTSelf\\20231012\\Top\\Clips\\Kennard_20231012_HoldTrial051_TopView.avi\n",
      "Loading  D:\\YuLab\\Work\\GPS\\Video\\Kennard\\GPS_08_Kornblum1500SRTSelf\\20231012\\Top\\Clips\\Kennard_20231012_HoldTrial051_TopView.avi\n",
      "Duration of video [s]:  8.04 , recorded with  25.0 fps!\n",
      "Overall # of frames:  201  found with (before cropping) frame dimensions:  1280 1331\n",
      "Starting to extract posture\n",
      "Cropping based on the x1 = 0 x2 = 1280 y1 = 0 y2 = 1024. You can adjust the cropping coordinates in the config.yaml file.\n"
     ]
    },
    {
     "name": "stderr",
     "output_type": "stream",
     "text": [
      "100%|██████████| 201/201 [00:08<00:00, 23.53it/s]\n"
     ]
    },
    {
     "name": "stdout",
     "output_type": "stream",
     "text": [
      "Saving results in D:\\YuLab\\Work\\GPS\\Video\\Kennard\\GPS_08_Kornblum1500SRTSelf\\20231012\\Top\\Clips...\n",
      "Saving csv poses!\n",
      "Starting to analyze %  D:\\YuLab\\Work\\GPS\\Video\\Kennard\\GPS_08_Kornblum1500SRTSelf\\20231012\\Top\\Clips\\Kennard_20231012_HoldTrial052_TopView.avi\n",
      "Loading  D:\\YuLab\\Work\\GPS\\Video\\Kennard\\GPS_08_Kornblum1500SRTSelf\\20231012\\Top\\Clips\\Kennard_20231012_HoldTrial052_TopView.avi\n",
      "Duration of video [s]:  8.0 , recorded with  25.0 fps!\n",
      "Overall # of frames:  200  found with (before cropping) frame dimensions:  1280 1331\n",
      "Starting to extract posture\n",
      "Cropping based on the x1 = 0 x2 = 1280 y1 = 0 y2 = 1024. You can adjust the cropping coordinates in the config.yaml file.\n"
     ]
    },
    {
     "name": "stderr",
     "output_type": "stream",
     "text": [
      "100%|██████████| 200/200 [00:08<00:00, 24.17it/s]\n"
     ]
    },
    {
     "name": "stdout",
     "output_type": "stream",
     "text": [
      "Saving results in D:\\YuLab\\Work\\GPS\\Video\\Kennard\\GPS_08_Kornblum1500SRTSelf\\20231012\\Top\\Clips...\n",
      "Saving csv poses!\n",
      "Starting to analyze %  D:\\YuLab\\Work\\GPS\\Video\\Kennard\\GPS_08_Kornblum1500SRTSelf\\20231012\\Top\\Clips\\Kennard_20231012_HoldTrial053_TopView.avi\n",
      "Loading  D:\\YuLab\\Work\\GPS\\Video\\Kennard\\GPS_08_Kornblum1500SRTSelf\\20231012\\Top\\Clips\\Kennard_20231012_HoldTrial053_TopView.avi\n",
      "Duration of video [s]:  8.0 , recorded with  25.0 fps!\n",
      "Overall # of frames:  200  found with (before cropping) frame dimensions:  1280 1331\n",
      "Starting to extract posture\n",
      "Cropping based on the x1 = 0 x2 = 1280 y1 = 0 y2 = 1024. You can adjust the cropping coordinates in the config.yaml file.\n"
     ]
    },
    {
     "name": "stderr",
     "output_type": "stream",
     "text": [
      "100%|██████████| 200/200 [00:08<00:00, 24.19it/s]\n"
     ]
    },
    {
     "name": "stdout",
     "output_type": "stream",
     "text": [
      "Saving results in D:\\YuLab\\Work\\GPS\\Video\\Kennard\\GPS_08_Kornblum1500SRTSelf\\20231012\\Top\\Clips...\n",
      "Saving csv poses!\n",
      "Starting to analyze %  D:\\YuLab\\Work\\GPS\\Video\\Kennard\\GPS_08_Kornblum1500SRTSelf\\20231012\\Top\\Clips\\Kennard_20231012_HoldTrial054_TopView.avi\n",
      "Loading  D:\\YuLab\\Work\\GPS\\Video\\Kennard\\GPS_08_Kornblum1500SRTSelf\\20231012\\Top\\Clips\\Kennard_20231012_HoldTrial054_TopView.avi\n",
      "Duration of video [s]:  8.04 , recorded with  25.0 fps!\n",
      "Overall # of frames:  201  found with (before cropping) frame dimensions:  1280 1331\n",
      "Starting to extract posture\n",
      "Cropping based on the x1 = 0 x2 = 1280 y1 = 0 y2 = 1024. You can adjust the cropping coordinates in the config.yaml file.\n"
     ]
    },
    {
     "name": "stderr",
     "output_type": "stream",
     "text": [
      "100%|██████████| 201/201 [00:08<00:00, 23.51it/s]\n"
     ]
    },
    {
     "name": "stdout",
     "output_type": "stream",
     "text": [
      "Saving results in D:\\YuLab\\Work\\GPS\\Video\\Kennard\\GPS_08_Kornblum1500SRTSelf\\20231012\\Top\\Clips...\n",
      "Saving csv poses!\n",
      "Starting to analyze %  D:\\YuLab\\Work\\GPS\\Video\\Kennard\\GPS_08_Kornblum1500SRTSelf\\20231012\\Top\\Clips\\Kennard_20231012_HoldTrial055_TopView.avi\n",
      "Loading  D:\\YuLab\\Work\\GPS\\Video\\Kennard\\GPS_08_Kornblum1500SRTSelf\\20231012\\Top\\Clips\\Kennard_20231012_HoldTrial055_TopView.avi\n",
      "Duration of video [s]:  8.0 , recorded with  25.0 fps!\n",
      "Overall # of frames:  200  found with (before cropping) frame dimensions:  1280 1331\n",
      "Starting to extract posture\n",
      "Cropping based on the x1 = 0 x2 = 1280 y1 = 0 y2 = 1024. You can adjust the cropping coordinates in the config.yaml file.\n"
     ]
    },
    {
     "name": "stderr",
     "output_type": "stream",
     "text": [
      "100%|██████████| 200/200 [00:08<00:00, 24.13it/s]\n"
     ]
    },
    {
     "name": "stdout",
     "output_type": "stream",
     "text": [
      "Saving results in D:\\YuLab\\Work\\GPS\\Video\\Kennard\\GPS_08_Kornblum1500SRTSelf\\20231012\\Top\\Clips...\n",
      "Saving csv poses!\n",
      "Starting to analyze %  D:\\YuLab\\Work\\GPS\\Video\\Kennard\\GPS_08_Kornblum1500SRTSelf\\20231012\\Top\\Clips\\Kennard_20231012_HoldTrial056_TopView.avi\n",
      "Loading  D:\\YuLab\\Work\\GPS\\Video\\Kennard\\GPS_08_Kornblum1500SRTSelf\\20231012\\Top\\Clips\\Kennard_20231012_HoldTrial056_TopView.avi\n",
      "Duration of video [s]:  8.0 , recorded with  25.0 fps!\n",
      "Overall # of frames:  200  found with (before cropping) frame dimensions:  1280 1331\n",
      "Starting to extract posture\n",
      "Cropping based on the x1 = 0 x2 = 1280 y1 = 0 y2 = 1024. You can adjust the cropping coordinates in the config.yaml file.\n"
     ]
    },
    {
     "name": "stderr",
     "output_type": "stream",
     "text": [
      "100%|██████████| 200/200 [00:08<00:00, 24.13it/s]\n"
     ]
    },
    {
     "name": "stdout",
     "output_type": "stream",
     "text": [
      "Saving results in D:\\YuLab\\Work\\GPS\\Video\\Kennard\\GPS_08_Kornblum1500SRTSelf\\20231012\\Top\\Clips...\n",
      "Saving csv poses!\n",
      "Starting to analyze %  D:\\YuLab\\Work\\GPS\\Video\\Kennard\\GPS_08_Kornblum1500SRTSelf\\20231012\\Top\\Clips\\Kennard_20231012_HoldTrial057_TopView.avi\n",
      "Loading  D:\\YuLab\\Work\\GPS\\Video\\Kennard\\GPS_08_Kornblum1500SRTSelf\\20231012\\Top\\Clips\\Kennard_20231012_HoldTrial057_TopView.avi\n",
      "Duration of video [s]:  8.04 , recorded with  25.0 fps!\n",
      "Overall # of frames:  201  found with (before cropping) frame dimensions:  1280 1331\n",
      "Starting to extract posture\n",
      "Cropping based on the x1 = 0 x2 = 1280 y1 = 0 y2 = 1024. You can adjust the cropping coordinates in the config.yaml file.\n"
     ]
    },
    {
     "name": "stderr",
     "output_type": "stream",
     "text": [
      "100%|██████████| 201/201 [00:08<00:00, 23.45it/s]\n"
     ]
    },
    {
     "name": "stdout",
     "output_type": "stream",
     "text": [
      "Saving results in D:\\YuLab\\Work\\GPS\\Video\\Kennard\\GPS_08_Kornblum1500SRTSelf\\20231012\\Top\\Clips...\n",
      "Saving csv poses!\n",
      "Starting to analyze %  D:\\YuLab\\Work\\GPS\\Video\\Kennard\\GPS_08_Kornblum1500SRTSelf\\20231012\\Top\\Clips\\Kennard_20231012_HoldTrial058_TopView.avi\n",
      "Loading  D:\\YuLab\\Work\\GPS\\Video\\Kennard\\GPS_08_Kornblum1500SRTSelf\\20231012\\Top\\Clips\\Kennard_20231012_HoldTrial058_TopView.avi\n",
      "Duration of video [s]:  8.04 , recorded with  25.0 fps!\n",
      "Overall # of frames:  201  found with (before cropping) frame dimensions:  1280 1331\n",
      "Starting to extract posture\n",
      "Cropping based on the x1 = 0 x2 = 1280 y1 = 0 y2 = 1024. You can adjust the cropping coordinates in the config.yaml file.\n"
     ]
    },
    {
     "name": "stderr",
     "output_type": "stream",
     "text": [
      "100%|██████████| 201/201 [00:08<00:00, 23.63it/s]\n"
     ]
    },
    {
     "name": "stdout",
     "output_type": "stream",
     "text": [
      "Saving results in D:\\YuLab\\Work\\GPS\\Video\\Kennard\\GPS_08_Kornblum1500SRTSelf\\20231012\\Top\\Clips...\n",
      "Saving csv poses!\n",
      "Starting to analyze %  D:\\YuLab\\Work\\GPS\\Video\\Kennard\\GPS_08_Kornblum1500SRTSelf\\20231012\\Top\\Clips\\Kennard_20231012_HoldTrial059_TopView.avi\n",
      "Loading  D:\\YuLab\\Work\\GPS\\Video\\Kennard\\GPS_08_Kornblum1500SRTSelf\\20231012\\Top\\Clips\\Kennard_20231012_HoldTrial059_TopView.avi\n",
      "Duration of video [s]:  8.0 , recorded with  25.0 fps!\n",
      "Overall # of frames:  200  found with (before cropping) frame dimensions:  1280 1331\n",
      "Starting to extract posture\n",
      "Cropping based on the x1 = 0 x2 = 1280 y1 = 0 y2 = 1024. You can adjust the cropping coordinates in the config.yaml file.\n"
     ]
    },
    {
     "name": "stderr",
     "output_type": "stream",
     "text": [
      "100%|██████████| 200/200 [00:08<00:00, 24.23it/s]\n"
     ]
    },
    {
     "name": "stdout",
     "output_type": "stream",
     "text": [
      "Saving results in D:\\YuLab\\Work\\GPS\\Video\\Kennard\\GPS_08_Kornblum1500SRTSelf\\20231012\\Top\\Clips...\n",
      "Saving csv poses!\n",
      "Starting to analyze %  D:\\YuLab\\Work\\GPS\\Video\\Kennard\\GPS_08_Kornblum1500SRTSelf\\20231012\\Top\\Clips\\Kennard_20231012_HoldTrial060_TopView.avi\n",
      "Loading  D:\\YuLab\\Work\\GPS\\Video\\Kennard\\GPS_08_Kornblum1500SRTSelf\\20231012\\Top\\Clips\\Kennard_20231012_HoldTrial060_TopView.avi\n",
      "Duration of video [s]:  8.0 , recorded with  25.0 fps!\n",
      "Overall # of frames:  200  found with (before cropping) frame dimensions:  1280 1331\n",
      "Starting to extract posture\n",
      "Cropping based on the x1 = 0 x2 = 1280 y1 = 0 y2 = 1024. You can adjust the cropping coordinates in the config.yaml file.\n"
     ]
    },
    {
     "name": "stderr",
     "output_type": "stream",
     "text": [
      "100%|██████████| 200/200 [00:08<00:00, 24.23it/s]\n"
     ]
    },
    {
     "name": "stdout",
     "output_type": "stream",
     "text": [
      "Saving results in D:\\YuLab\\Work\\GPS\\Video\\Kennard\\GPS_08_Kornblum1500SRTSelf\\20231012\\Top\\Clips...\n",
      "Saving csv poses!\n",
      "Starting to analyze %  D:\\YuLab\\Work\\GPS\\Video\\Kennard\\GPS_08_Kornblum1500SRTSelf\\20231012\\Top\\Clips\\Kennard_20231012_HoldTrial061_TopView.avi\n",
      "Loading  D:\\YuLab\\Work\\GPS\\Video\\Kennard\\GPS_08_Kornblum1500SRTSelf\\20231012\\Top\\Clips\\Kennard_20231012_HoldTrial061_TopView.avi\n",
      "Duration of video [s]:  8.0 , recorded with  25.0 fps!\n",
      "Overall # of frames:  200  found with (before cropping) frame dimensions:  1280 1331\n",
      "Starting to extract posture\n",
      "Cropping based on the x1 = 0 x2 = 1280 y1 = 0 y2 = 1024. You can adjust the cropping coordinates in the config.yaml file.\n"
     ]
    },
    {
     "name": "stderr",
     "output_type": "stream",
     "text": [
      "100%|██████████| 200/200 [00:08<00:00, 24.07it/s]\n"
     ]
    },
    {
     "name": "stdout",
     "output_type": "stream",
     "text": [
      "Saving results in D:\\YuLab\\Work\\GPS\\Video\\Kennard\\GPS_08_Kornblum1500SRTSelf\\20231012\\Top\\Clips...\n",
      "Saving csv poses!\n",
      "Starting to analyze %  D:\\YuLab\\Work\\GPS\\Video\\Kennard\\GPS_08_Kornblum1500SRTSelf\\20231012\\Top\\Clips\\Kennard_20231012_HoldTrial062_TopView.avi\n",
      "Loading  D:\\YuLab\\Work\\GPS\\Video\\Kennard\\GPS_08_Kornblum1500SRTSelf\\20231012\\Top\\Clips\\Kennard_20231012_HoldTrial062_TopView.avi\n",
      "Duration of video [s]:  8.0 , recorded with  25.0 fps!\n",
      "Overall # of frames:  200  found with (before cropping) frame dimensions:  1280 1331\n",
      "Starting to extract posture\n",
      "Cropping based on the x1 = 0 x2 = 1280 y1 = 0 y2 = 1024. You can adjust the cropping coordinates in the config.yaml file.\n"
     ]
    },
    {
     "name": "stderr",
     "output_type": "stream",
     "text": [
      "100%|██████████| 200/200 [00:08<00:00, 24.07it/s]\n"
     ]
    },
    {
     "name": "stdout",
     "output_type": "stream",
     "text": [
      "Saving results in D:\\YuLab\\Work\\GPS\\Video\\Kennard\\GPS_08_Kornblum1500SRTSelf\\20231012\\Top\\Clips...\n",
      "Saving csv poses!\n",
      "Starting to analyze %  D:\\YuLab\\Work\\GPS\\Video\\Kennard\\GPS_08_Kornblum1500SRTSelf\\20231012\\Top\\Clips\\Kennard_20231012_HoldTrial063_TopView.avi\n",
      "Loading  D:\\YuLab\\Work\\GPS\\Video\\Kennard\\GPS_08_Kornblum1500SRTSelf\\20231012\\Top\\Clips\\Kennard_20231012_HoldTrial063_TopView.avi\n",
      "Duration of video [s]:  8.04 , recorded with  25.0 fps!\n",
      "Overall # of frames:  201  found with (before cropping) frame dimensions:  1280 1331\n",
      "Starting to extract posture\n",
      "Cropping based on the x1 = 0 x2 = 1280 y1 = 0 y2 = 1024. You can adjust the cropping coordinates in the config.yaml file.\n"
     ]
    },
    {
     "name": "stderr",
     "output_type": "stream",
     "text": [
      "100%|██████████| 201/201 [00:08<00:00, 23.35it/s]\n"
     ]
    },
    {
     "name": "stdout",
     "output_type": "stream",
     "text": [
      "Saving results in D:\\YuLab\\Work\\GPS\\Video\\Kennard\\GPS_08_Kornblum1500SRTSelf\\20231012\\Top\\Clips...\n",
      "Saving csv poses!\n",
      "Starting to analyze %  D:\\YuLab\\Work\\GPS\\Video\\Kennard\\GPS_08_Kornblum1500SRTSelf\\20231012\\Top\\Clips\\Kennard_20231012_HoldTrial064_TopView.avi\n",
      "Loading  D:\\YuLab\\Work\\GPS\\Video\\Kennard\\GPS_08_Kornblum1500SRTSelf\\20231012\\Top\\Clips\\Kennard_20231012_HoldTrial064_TopView.avi\n",
      "Duration of video [s]:  8.0 , recorded with  25.0 fps!\n",
      "Overall # of frames:  200  found with (before cropping) frame dimensions:  1280 1331\n",
      "Starting to extract posture\n",
      "Cropping based on the x1 = 0 x2 = 1280 y1 = 0 y2 = 1024. You can adjust the cropping coordinates in the config.yaml file.\n"
     ]
    },
    {
     "name": "stderr",
     "output_type": "stream",
     "text": [
      "100%|██████████| 200/200 [00:08<00:00, 24.07it/s]\n"
     ]
    },
    {
     "name": "stdout",
     "output_type": "stream",
     "text": [
      "Saving results in D:\\YuLab\\Work\\GPS\\Video\\Kennard\\GPS_08_Kornblum1500SRTSelf\\20231012\\Top\\Clips...\n",
      "Saving csv poses!\n",
      "Starting to analyze %  D:\\YuLab\\Work\\GPS\\Video\\Kennard\\GPS_08_Kornblum1500SRTSelf\\20231012\\Top\\Clips\\Kennard_20231012_HoldTrial065_TopView.avi\n",
      "Loading  D:\\YuLab\\Work\\GPS\\Video\\Kennard\\GPS_08_Kornblum1500SRTSelf\\20231012\\Top\\Clips\\Kennard_20231012_HoldTrial065_TopView.avi\n",
      "Duration of video [s]:  8.04 , recorded with  25.0 fps!\n",
      "Overall # of frames:  201  found with (before cropping) frame dimensions:  1280 1331\n",
      "Starting to extract posture\n",
      "Cropping based on the x1 = 0 x2 = 1280 y1 = 0 y2 = 1024. You can adjust the cropping coordinates in the config.yaml file.\n"
     ]
    },
    {
     "name": "stderr",
     "output_type": "stream",
     "text": [
      "100%|██████████| 201/201 [00:08<00:00, 23.47it/s]\n"
     ]
    },
    {
     "name": "stdout",
     "output_type": "stream",
     "text": [
      "Saving results in D:\\YuLab\\Work\\GPS\\Video\\Kennard\\GPS_08_Kornblum1500SRTSelf\\20231012\\Top\\Clips...\n",
      "Saving csv poses!\n",
      "Starting to analyze %  D:\\YuLab\\Work\\GPS\\Video\\Kennard\\GPS_08_Kornblum1500SRTSelf\\20231012\\Top\\Clips\\Kennard_20231012_HoldTrial066_TopView.avi\n",
      "Loading  D:\\YuLab\\Work\\GPS\\Video\\Kennard\\GPS_08_Kornblum1500SRTSelf\\20231012\\Top\\Clips\\Kennard_20231012_HoldTrial066_TopView.avi\n",
      "Duration of video [s]:  8.0 , recorded with  25.0 fps!\n",
      "Overall # of frames:  200  found with (before cropping) frame dimensions:  1280 1331\n",
      "Starting to extract posture\n",
      "Cropping based on the x1 = 0 x2 = 1280 y1 = 0 y2 = 1024. You can adjust the cropping coordinates in the config.yaml file.\n"
     ]
    },
    {
     "name": "stderr",
     "output_type": "stream",
     "text": [
      "100%|██████████| 200/200 [00:08<00:00, 24.07it/s]\n"
     ]
    },
    {
     "name": "stdout",
     "output_type": "stream",
     "text": [
      "Saving results in D:\\YuLab\\Work\\GPS\\Video\\Kennard\\GPS_08_Kornblum1500SRTSelf\\20231012\\Top\\Clips...\n",
      "Saving csv poses!\n",
      "Starting to analyze %  D:\\YuLab\\Work\\GPS\\Video\\Kennard\\GPS_08_Kornblum1500SRTSelf\\20231012\\Top\\Clips\\Kennard_20231012_HoldTrial067_TopView.avi\n",
      "Loading  D:\\YuLab\\Work\\GPS\\Video\\Kennard\\GPS_08_Kornblum1500SRTSelf\\20231012\\Top\\Clips\\Kennard_20231012_HoldTrial067_TopView.avi\n",
      "Duration of video [s]:  8.04 , recorded with  25.0 fps!\n",
      "Overall # of frames:  201  found with (before cropping) frame dimensions:  1280 1331\n",
      "Starting to extract posture\n",
      "Cropping based on the x1 = 0 x2 = 1280 y1 = 0 y2 = 1024. You can adjust the cropping coordinates in the config.yaml file.\n"
     ]
    },
    {
     "name": "stderr",
     "output_type": "stream",
     "text": [
      "100%|██████████| 201/201 [00:08<00:00, 23.45it/s]\n"
     ]
    },
    {
     "name": "stdout",
     "output_type": "stream",
     "text": [
      "Saving results in D:\\YuLab\\Work\\GPS\\Video\\Kennard\\GPS_08_Kornblum1500SRTSelf\\20231012\\Top\\Clips...\n",
      "Saving csv poses!\n",
      "Starting to analyze %  D:\\YuLab\\Work\\GPS\\Video\\Kennard\\GPS_08_Kornblum1500SRTSelf\\20231012\\Top\\Clips\\Kennard_20231012_HoldTrial068_TopView.avi\n",
      "Loading  D:\\YuLab\\Work\\GPS\\Video\\Kennard\\GPS_08_Kornblum1500SRTSelf\\20231012\\Top\\Clips\\Kennard_20231012_HoldTrial068_TopView.avi\n",
      "Duration of video [s]:  8.0 , recorded with  25.0 fps!\n",
      "Overall # of frames:  200  found with (before cropping) frame dimensions:  1280 1331\n",
      "Starting to extract posture\n",
      "Cropping based on the x1 = 0 x2 = 1280 y1 = 0 y2 = 1024. You can adjust the cropping coordinates in the config.yaml file.\n"
     ]
    },
    {
     "name": "stderr",
     "output_type": "stream",
     "text": [
      "100%|██████████| 200/200 [00:08<00:00, 24.10it/s]\n"
     ]
    },
    {
     "name": "stdout",
     "output_type": "stream",
     "text": [
      "Saving results in D:\\YuLab\\Work\\GPS\\Video\\Kennard\\GPS_08_Kornblum1500SRTSelf\\20231012\\Top\\Clips...\n",
      "Saving csv poses!\n",
      "Starting to analyze %  D:\\YuLab\\Work\\GPS\\Video\\Kennard\\GPS_08_Kornblum1500SRTSelf\\20231012\\Top\\Clips\\Kennard_20231012_HoldTrial069_TopView.avi\n",
      "Loading  D:\\YuLab\\Work\\GPS\\Video\\Kennard\\GPS_08_Kornblum1500SRTSelf\\20231012\\Top\\Clips\\Kennard_20231012_HoldTrial069_TopView.avi\n",
      "Duration of video [s]:  7.96 , recorded with  25.0 fps!\n",
      "Overall # of frames:  199  found with (before cropping) frame dimensions:  1280 1331\n",
      "Starting to extract posture\n",
      "Cropping based on the x1 = 0 x2 = 1280 y1 = 0 y2 = 1024. You can adjust the cropping coordinates in the config.yaml file.\n"
     ]
    },
    {
     "name": "stderr",
     "output_type": "stream",
     "text": [
      "100%|██████████| 199/199 [00:08<00:00, 24.05it/s]\n"
     ]
    },
    {
     "name": "stdout",
     "output_type": "stream",
     "text": [
      "Saving results in D:\\YuLab\\Work\\GPS\\Video\\Kennard\\GPS_08_Kornblum1500SRTSelf\\20231012\\Top\\Clips...\n",
      "Saving csv poses!\n",
      "Starting to analyze %  D:\\YuLab\\Work\\GPS\\Video\\Kennard\\GPS_08_Kornblum1500SRTSelf\\20231012\\Top\\Clips\\Kennard_20231012_HoldTrial070_TopView.avi\n",
      "Loading  D:\\YuLab\\Work\\GPS\\Video\\Kennard\\GPS_08_Kornblum1500SRTSelf\\20231012\\Top\\Clips\\Kennard_20231012_HoldTrial070_TopView.avi\n",
      "Duration of video [s]:  8.04 , recorded with  25.0 fps!\n",
      "Overall # of frames:  201  found with (before cropping) frame dimensions:  1280 1331\n",
      "Starting to extract posture\n",
      "Cropping based on the x1 = 0 x2 = 1280 y1 = 0 y2 = 1024. You can adjust the cropping coordinates in the config.yaml file.\n"
     ]
    },
    {
     "name": "stderr",
     "output_type": "stream",
     "text": [
      "100%|██████████| 201/201 [00:08<00:00, 23.60it/s]\n"
     ]
    },
    {
     "name": "stdout",
     "output_type": "stream",
     "text": [
      "Saving results in D:\\YuLab\\Work\\GPS\\Video\\Kennard\\GPS_08_Kornblum1500SRTSelf\\20231012\\Top\\Clips...\n",
      "Saving csv poses!\n",
      "Starting to analyze %  D:\\YuLab\\Work\\GPS\\Video\\Kennard\\GPS_08_Kornblum1500SRTSelf\\20231012\\Top\\Clips\\Kennard_20231012_HoldTrial071_TopView.avi\n",
      "Loading  D:\\YuLab\\Work\\GPS\\Video\\Kennard\\GPS_08_Kornblum1500SRTSelf\\20231012\\Top\\Clips\\Kennard_20231012_HoldTrial071_TopView.avi\n",
      "Duration of video [s]:  8.04 , recorded with  25.0 fps!\n",
      "Overall # of frames:  201  found with (before cropping) frame dimensions:  1280 1331\n",
      "Starting to extract posture\n",
      "Cropping based on the x1 = 0 x2 = 1280 y1 = 0 y2 = 1024. You can adjust the cropping coordinates in the config.yaml file.\n"
     ]
    },
    {
     "name": "stderr",
     "output_type": "stream",
     "text": [
      "100%|██████████| 201/201 [00:08<00:00, 23.57it/s]\n"
     ]
    },
    {
     "name": "stdout",
     "output_type": "stream",
     "text": [
      "Saving results in D:\\YuLab\\Work\\GPS\\Video\\Kennard\\GPS_08_Kornblum1500SRTSelf\\20231012\\Top\\Clips...\n",
      "Saving csv poses!\n",
      "Starting to analyze %  D:\\YuLab\\Work\\GPS\\Video\\Kennard\\GPS_08_Kornblum1500SRTSelf\\20231012\\Top\\Clips\\Kennard_20231012_HoldTrial072_TopView.avi\n",
      "Loading  D:\\YuLab\\Work\\GPS\\Video\\Kennard\\GPS_08_Kornblum1500SRTSelf\\20231012\\Top\\Clips\\Kennard_20231012_HoldTrial072_TopView.avi\n",
      "Duration of video [s]:  8.04 , recorded with  25.0 fps!\n",
      "Overall # of frames:  201  found with (before cropping) frame dimensions:  1280 1331\n",
      "Starting to extract posture\n",
      "Cropping based on the x1 = 0 x2 = 1280 y1 = 0 y2 = 1024. You can adjust the cropping coordinates in the config.yaml file.\n"
     ]
    },
    {
     "name": "stderr",
     "output_type": "stream",
     "text": [
      "100%|██████████| 201/201 [00:08<00:00, 23.50it/s]\n"
     ]
    },
    {
     "name": "stdout",
     "output_type": "stream",
     "text": [
      "Saving results in D:\\YuLab\\Work\\GPS\\Video\\Kennard\\GPS_08_Kornblum1500SRTSelf\\20231012\\Top\\Clips...\n",
      "Saving csv poses!\n",
      "Starting to analyze %  D:\\YuLab\\Work\\GPS\\Video\\Kennard\\GPS_08_Kornblum1500SRTSelf\\20231012\\Top\\Clips\\Kennard_20231012_HoldTrial073_TopView.avi\n",
      "Loading  D:\\YuLab\\Work\\GPS\\Video\\Kennard\\GPS_08_Kornblum1500SRTSelf\\20231012\\Top\\Clips\\Kennard_20231012_HoldTrial073_TopView.avi\n",
      "Duration of video [s]:  8.04 , recorded with  25.0 fps!\n",
      "Overall # of frames:  201  found with (before cropping) frame dimensions:  1280 1331\n",
      "Starting to extract posture\n",
      "Cropping based on the x1 = 0 x2 = 1280 y1 = 0 y2 = 1024. You can adjust the cropping coordinates in the config.yaml file.\n"
     ]
    },
    {
     "name": "stderr",
     "output_type": "stream",
     "text": [
      "100%|██████████| 201/201 [00:08<00:00, 23.47it/s]\n"
     ]
    },
    {
     "name": "stdout",
     "output_type": "stream",
     "text": [
      "Saving results in D:\\YuLab\\Work\\GPS\\Video\\Kennard\\GPS_08_Kornblum1500SRTSelf\\20231012\\Top\\Clips...\n",
      "Saving csv poses!\n",
      "Starting to analyze %  D:\\YuLab\\Work\\GPS\\Video\\Kennard\\GPS_08_Kornblum1500SRTSelf\\20231012\\Top\\Clips\\Kennard_20231012_HoldTrial074_TopView.avi\n",
      "Loading  D:\\YuLab\\Work\\GPS\\Video\\Kennard\\GPS_08_Kornblum1500SRTSelf\\20231012\\Top\\Clips\\Kennard_20231012_HoldTrial074_TopView.avi\n",
      "Duration of video [s]:  7.96 , recorded with  25.0 fps!\n",
      "Overall # of frames:  199  found with (before cropping) frame dimensions:  1280 1331\n",
      "Starting to extract posture\n",
      "Cropping based on the x1 = 0 x2 = 1280 y1 = 0 y2 = 1024. You can adjust the cropping coordinates in the config.yaml file.\n"
     ]
    },
    {
     "name": "stderr",
     "output_type": "stream",
     "text": [
      "100%|██████████| 199/199 [00:08<00:00, 24.00it/s]\n"
     ]
    },
    {
     "name": "stdout",
     "output_type": "stream",
     "text": [
      "Saving results in D:\\YuLab\\Work\\GPS\\Video\\Kennard\\GPS_08_Kornblum1500SRTSelf\\20231012\\Top\\Clips...\n",
      "Saving csv poses!\n",
      "Starting to analyze %  D:\\YuLab\\Work\\GPS\\Video\\Kennard\\GPS_08_Kornblum1500SRTSelf\\20231012\\Top\\Clips\\Kennard_20231012_HoldTrial075_TopView.avi\n",
      "Loading  D:\\YuLab\\Work\\GPS\\Video\\Kennard\\GPS_08_Kornblum1500SRTSelf\\20231012\\Top\\Clips\\Kennard_20231012_HoldTrial075_TopView.avi\n",
      "Duration of video [s]:  8.0 , recorded with  25.0 fps!\n",
      "Overall # of frames:  200  found with (before cropping) frame dimensions:  1280 1331\n",
      "Starting to extract posture\n",
      "Cropping based on the x1 = 0 x2 = 1280 y1 = 0 y2 = 1024. You can adjust the cropping coordinates in the config.yaml file.\n"
     ]
    },
    {
     "name": "stderr",
     "output_type": "stream",
     "text": [
      "100%|██████████| 200/200 [00:08<00:00, 24.13it/s]\n"
     ]
    },
    {
     "name": "stdout",
     "output_type": "stream",
     "text": [
      "Saving results in D:\\YuLab\\Work\\GPS\\Video\\Kennard\\GPS_08_Kornblum1500SRTSelf\\20231012\\Top\\Clips...\n",
      "Saving csv poses!\n",
      "Starting to analyze %  D:\\YuLab\\Work\\GPS\\Video\\Kennard\\GPS_08_Kornblum1500SRTSelf\\20231012\\Top\\Clips\\Kennard_20231012_HoldTrial076_TopView.avi\n",
      "Loading  D:\\YuLab\\Work\\GPS\\Video\\Kennard\\GPS_08_Kornblum1500SRTSelf\\20231012\\Top\\Clips\\Kennard_20231012_HoldTrial076_TopView.avi\n",
      "Duration of video [s]:  8.04 , recorded with  25.0 fps!\n",
      "Overall # of frames:  201  found with (before cropping) frame dimensions:  1280 1331\n",
      "Starting to extract posture\n",
      "Cropping based on the x1 = 0 x2 = 1280 y1 = 0 y2 = 1024. You can adjust the cropping coordinates in the config.yaml file.\n"
     ]
    },
    {
     "name": "stderr",
     "output_type": "stream",
     "text": [
      "100%|██████████| 201/201 [00:08<00:00, 23.52it/s]\n"
     ]
    },
    {
     "name": "stdout",
     "output_type": "stream",
     "text": [
      "Saving results in D:\\YuLab\\Work\\GPS\\Video\\Kennard\\GPS_08_Kornblum1500SRTSelf\\20231012\\Top\\Clips...\n",
      "Saving csv poses!\n",
      "Starting to analyze %  D:\\YuLab\\Work\\GPS\\Video\\Kennard\\GPS_08_Kornblum1500SRTSelf\\20231012\\Top\\Clips\\Kennard_20231012_HoldTrial077_TopView.avi\n",
      "Loading  D:\\YuLab\\Work\\GPS\\Video\\Kennard\\GPS_08_Kornblum1500SRTSelf\\20231012\\Top\\Clips\\Kennard_20231012_HoldTrial077_TopView.avi\n",
      "Duration of video [s]:  8.0 , recorded with  25.0 fps!\n",
      "Overall # of frames:  200  found with (before cropping) frame dimensions:  1280 1331\n",
      "Starting to extract posture\n",
      "Cropping based on the x1 = 0 x2 = 1280 y1 = 0 y2 = 1024. You can adjust the cropping coordinates in the config.yaml file.\n"
     ]
    },
    {
     "name": "stderr",
     "output_type": "stream",
     "text": [
      "100%|██████████| 200/200 [00:08<00:00, 24.16it/s]\n"
     ]
    },
    {
     "name": "stdout",
     "output_type": "stream",
     "text": [
      "Saving results in D:\\YuLab\\Work\\GPS\\Video\\Kennard\\GPS_08_Kornblum1500SRTSelf\\20231012\\Top\\Clips...\n",
      "Saving csv poses!\n",
      "Starting to analyze %  D:\\YuLab\\Work\\GPS\\Video\\Kennard\\GPS_08_Kornblum1500SRTSelf\\20231012\\Top\\Clips\\Kennard_20231012_HoldTrial078_TopView.avi\n",
      "Loading  D:\\YuLab\\Work\\GPS\\Video\\Kennard\\GPS_08_Kornblum1500SRTSelf\\20231012\\Top\\Clips\\Kennard_20231012_HoldTrial078_TopView.avi\n",
      "Duration of video [s]:  8.0 , recorded with  25.0 fps!\n",
      "Overall # of frames:  200  found with (before cropping) frame dimensions:  1280 1331\n",
      "Starting to extract posture\n",
      "Cropping based on the x1 = 0 x2 = 1280 y1 = 0 y2 = 1024. You can adjust the cropping coordinates in the config.yaml file.\n"
     ]
    },
    {
     "name": "stderr",
     "output_type": "stream",
     "text": [
      "100%|██████████| 200/200 [00:08<00:00, 24.14it/s]\n"
     ]
    },
    {
     "name": "stdout",
     "output_type": "stream",
     "text": [
      "Saving results in D:\\YuLab\\Work\\GPS\\Video\\Kennard\\GPS_08_Kornblum1500SRTSelf\\20231012\\Top\\Clips...\n",
      "Saving csv poses!\n",
      "Starting to analyze %  D:\\YuLab\\Work\\GPS\\Video\\Kennard\\GPS_08_Kornblum1500SRTSelf\\20231012\\Top\\Clips\\Kennard_20231012_HoldTrial079_TopView.avi\n",
      "Loading  D:\\YuLab\\Work\\GPS\\Video\\Kennard\\GPS_08_Kornblum1500SRTSelf\\20231012\\Top\\Clips\\Kennard_20231012_HoldTrial079_TopView.avi\n",
      "Duration of video [s]:  8.04 , recorded with  25.0 fps!\n",
      "Overall # of frames:  201  found with (before cropping) frame dimensions:  1280 1331\n",
      "Starting to extract posture\n",
      "Cropping based on the x1 = 0 x2 = 1280 y1 = 0 y2 = 1024. You can adjust the cropping coordinates in the config.yaml file.\n"
     ]
    },
    {
     "name": "stderr",
     "output_type": "stream",
     "text": [
      "100%|██████████| 201/201 [00:08<00:00, 23.50it/s]\n"
     ]
    },
    {
     "name": "stdout",
     "output_type": "stream",
     "text": [
      "Saving results in D:\\YuLab\\Work\\GPS\\Video\\Kennard\\GPS_08_Kornblum1500SRTSelf\\20231012\\Top\\Clips...\n",
      "Saving csv poses!\n",
      "Starting to analyze %  D:\\YuLab\\Work\\GPS\\Video\\Kennard\\GPS_08_Kornblum1500SRTSelf\\20231012\\Top\\Clips\\Kennard_20231012_HoldTrial080_TopView.avi\n",
      "Loading  D:\\YuLab\\Work\\GPS\\Video\\Kennard\\GPS_08_Kornblum1500SRTSelf\\20231012\\Top\\Clips\\Kennard_20231012_HoldTrial080_TopView.avi\n",
      "Duration of video [s]:  8.0 , recorded with  25.0 fps!\n",
      "Overall # of frames:  200  found with (before cropping) frame dimensions:  1280 1331\n",
      "Starting to extract posture\n",
      "Cropping based on the x1 = 0 x2 = 1280 y1 = 0 y2 = 1024. You can adjust the cropping coordinates in the config.yaml file.\n"
     ]
    },
    {
     "name": "stderr",
     "output_type": "stream",
     "text": [
      "100%|██████████| 200/200 [00:08<00:00, 24.15it/s]\n"
     ]
    },
    {
     "name": "stdout",
     "output_type": "stream",
     "text": [
      "Saving results in D:\\YuLab\\Work\\GPS\\Video\\Kennard\\GPS_08_Kornblum1500SRTSelf\\20231012\\Top\\Clips...\n",
      "Saving csv poses!\n",
      "Starting to analyze %  D:\\YuLab\\Work\\GPS\\Video\\Kennard\\GPS_08_Kornblum1500SRTSelf\\20231012\\Top\\Clips\\Kennard_20231012_HoldTrial081_TopView.avi\n",
      "Loading  D:\\YuLab\\Work\\GPS\\Video\\Kennard\\GPS_08_Kornblum1500SRTSelf\\20231012\\Top\\Clips\\Kennard_20231012_HoldTrial081_TopView.avi\n",
      "Duration of video [s]:  8.04 , recorded with  25.0 fps!\n",
      "Overall # of frames:  201  found with (before cropping) frame dimensions:  1280 1331\n",
      "Starting to extract posture\n",
      "Cropping based on the x1 = 0 x2 = 1280 y1 = 0 y2 = 1024. You can adjust the cropping coordinates in the config.yaml file.\n"
     ]
    },
    {
     "name": "stderr",
     "output_type": "stream",
     "text": [
      "100%|██████████| 201/201 [00:08<00:00, 23.42it/s]\n"
     ]
    },
    {
     "name": "stdout",
     "output_type": "stream",
     "text": [
      "Saving results in D:\\YuLab\\Work\\GPS\\Video\\Kennard\\GPS_08_Kornblum1500SRTSelf\\20231012\\Top\\Clips...\n",
      "Saving csv poses!\n",
      "Starting to analyze %  D:\\YuLab\\Work\\GPS\\Video\\Kennard\\GPS_08_Kornblum1500SRTSelf\\20231012\\Top\\Clips\\Kennard_20231012_HoldTrial082_TopView.avi\n",
      "Loading  D:\\YuLab\\Work\\GPS\\Video\\Kennard\\GPS_08_Kornblum1500SRTSelf\\20231012\\Top\\Clips\\Kennard_20231012_HoldTrial082_TopView.avi\n",
      "Duration of video [s]:  8.0 , recorded with  25.0 fps!\n",
      "Overall # of frames:  200  found with (before cropping) frame dimensions:  1280 1331\n",
      "Starting to extract posture\n",
      "Cropping based on the x1 = 0 x2 = 1280 y1 = 0 y2 = 1024. You can adjust the cropping coordinates in the config.yaml file.\n"
     ]
    },
    {
     "name": "stderr",
     "output_type": "stream",
     "text": [
      "100%|██████████| 200/200 [00:08<00:00, 24.26it/s]\n"
     ]
    },
    {
     "name": "stdout",
     "output_type": "stream",
     "text": [
      "Saving results in D:\\YuLab\\Work\\GPS\\Video\\Kennard\\GPS_08_Kornblum1500SRTSelf\\20231012\\Top\\Clips...\n",
      "Saving csv poses!\n",
      "Starting to analyze %  D:\\YuLab\\Work\\GPS\\Video\\Kennard\\GPS_08_Kornblum1500SRTSelf\\20231012\\Top\\Clips\\Kennard_20231012_HoldTrial083_TopView.avi\n",
      "Loading  D:\\YuLab\\Work\\GPS\\Video\\Kennard\\GPS_08_Kornblum1500SRTSelf\\20231012\\Top\\Clips\\Kennard_20231012_HoldTrial083_TopView.avi\n",
      "Duration of video [s]:  7.96 , recorded with  25.0 fps!\n",
      "Overall # of frames:  199  found with (before cropping) frame dimensions:  1280 1331\n",
      "Starting to extract posture\n",
      "Cropping based on the x1 = 0 x2 = 1280 y1 = 0 y2 = 1024. You can adjust the cropping coordinates in the config.yaml file.\n"
     ]
    },
    {
     "name": "stderr",
     "output_type": "stream",
     "text": [
      "100%|██████████| 199/199 [00:08<00:00, 24.14it/s]\n"
     ]
    },
    {
     "name": "stdout",
     "output_type": "stream",
     "text": [
      "Saving results in D:\\YuLab\\Work\\GPS\\Video\\Kennard\\GPS_08_Kornblum1500SRTSelf\\20231012\\Top\\Clips...\n",
      "Saving csv poses!\n",
      "Starting to analyze %  D:\\YuLab\\Work\\GPS\\Video\\Kennard\\GPS_08_Kornblum1500SRTSelf\\20231012\\Top\\Clips\\Kennard_20231012_HoldTrial084_TopView.avi\n",
      "Loading  D:\\YuLab\\Work\\GPS\\Video\\Kennard\\GPS_08_Kornblum1500SRTSelf\\20231012\\Top\\Clips\\Kennard_20231012_HoldTrial084_TopView.avi\n",
      "Duration of video [s]:  8.04 , recorded with  25.0 fps!\n",
      "Overall # of frames:  201  found with (before cropping) frame dimensions:  1280 1331\n",
      "Starting to extract posture\n",
      "Cropping based on the x1 = 0 x2 = 1280 y1 = 0 y2 = 1024. You can adjust the cropping coordinates in the config.yaml file.\n"
     ]
    },
    {
     "name": "stderr",
     "output_type": "stream",
     "text": [
      "100%|██████████| 201/201 [00:08<00:00, 23.54it/s]\n"
     ]
    },
    {
     "name": "stdout",
     "output_type": "stream",
     "text": [
      "Saving results in D:\\YuLab\\Work\\GPS\\Video\\Kennard\\GPS_08_Kornblum1500SRTSelf\\20231012\\Top\\Clips...\n",
      "Saving csv poses!\n",
      "Starting to analyze %  D:\\YuLab\\Work\\GPS\\Video\\Kennard\\GPS_08_Kornblum1500SRTSelf\\20231012\\Top\\Clips\\Kennard_20231012_HoldTrial085_TopView.avi\n",
      "Loading  D:\\YuLab\\Work\\GPS\\Video\\Kennard\\GPS_08_Kornblum1500SRTSelf\\20231012\\Top\\Clips\\Kennard_20231012_HoldTrial085_TopView.avi\n",
      "Duration of video [s]:  8.0 , recorded with  25.0 fps!\n",
      "Overall # of frames:  200  found with (before cropping) frame dimensions:  1280 1331\n",
      "Starting to extract posture\n",
      "Cropping based on the x1 = 0 x2 = 1280 y1 = 0 y2 = 1024. You can adjust the cropping coordinates in the config.yaml file.\n"
     ]
    },
    {
     "name": "stderr",
     "output_type": "stream",
     "text": [
      "100%|██████████| 200/200 [00:08<00:00, 24.17it/s]\n"
     ]
    },
    {
     "name": "stdout",
     "output_type": "stream",
     "text": [
      "Saving results in D:\\YuLab\\Work\\GPS\\Video\\Kennard\\GPS_08_Kornblum1500SRTSelf\\20231012\\Top\\Clips...\n",
      "Saving csv poses!\n",
      "Starting to analyze %  D:\\YuLab\\Work\\GPS\\Video\\Kennard\\GPS_08_Kornblum1500SRTSelf\\20231012\\Top\\Clips\\Kennard_20231012_HoldTrial086_TopView.avi\n",
      "Loading  D:\\YuLab\\Work\\GPS\\Video\\Kennard\\GPS_08_Kornblum1500SRTSelf\\20231012\\Top\\Clips\\Kennard_20231012_HoldTrial086_TopView.avi\n",
      "Duration of video [s]:  8.04 , recorded with  25.0 fps!\n",
      "Overall # of frames:  201  found with (before cropping) frame dimensions:  1280 1331\n",
      "Starting to extract posture\n",
      "Cropping based on the x1 = 0 x2 = 1280 y1 = 0 y2 = 1024. You can adjust the cropping coordinates in the config.yaml file.\n"
     ]
    },
    {
     "name": "stderr",
     "output_type": "stream",
     "text": [
      "100%|██████████| 201/201 [00:08<00:00, 23.46it/s]\n"
     ]
    },
    {
     "name": "stdout",
     "output_type": "stream",
     "text": [
      "Saving results in D:\\YuLab\\Work\\GPS\\Video\\Kennard\\GPS_08_Kornblum1500SRTSelf\\20231012\\Top\\Clips...\n",
      "Saving csv poses!\n",
      "Starting to analyze %  D:\\YuLab\\Work\\GPS\\Video\\Kennard\\GPS_08_Kornblum1500SRTSelf\\20231012\\Top\\Clips\\Kennard_20231012_HoldTrial087_TopView.avi\n",
      "Loading  D:\\YuLab\\Work\\GPS\\Video\\Kennard\\GPS_08_Kornblum1500SRTSelf\\20231012\\Top\\Clips\\Kennard_20231012_HoldTrial087_TopView.avi\n",
      "Duration of video [s]:  8.0 , recorded with  25.0 fps!\n",
      "Overall # of frames:  200  found with (before cropping) frame dimensions:  1280 1331\n",
      "Starting to extract posture\n",
      "Cropping based on the x1 = 0 x2 = 1280 y1 = 0 y2 = 1024. You can adjust the cropping coordinates in the config.yaml file.\n"
     ]
    },
    {
     "name": "stderr",
     "output_type": "stream",
     "text": [
      "100%|██████████| 200/200 [00:08<00:00, 24.10it/s]\n"
     ]
    },
    {
     "name": "stdout",
     "output_type": "stream",
     "text": [
      "Saving results in D:\\YuLab\\Work\\GPS\\Video\\Kennard\\GPS_08_Kornblum1500SRTSelf\\20231012\\Top\\Clips...\n",
      "Saving csv poses!\n",
      "Starting to analyze %  D:\\YuLab\\Work\\GPS\\Video\\Kennard\\GPS_08_Kornblum1500SRTSelf\\20231012\\Top\\Clips\\Kennard_20231012_HoldTrial088_TopView.avi\n",
      "Loading  D:\\YuLab\\Work\\GPS\\Video\\Kennard\\GPS_08_Kornblum1500SRTSelf\\20231012\\Top\\Clips\\Kennard_20231012_HoldTrial088_TopView.avi\n",
      "Duration of video [s]:  8.04 , recorded with  25.0 fps!\n",
      "Overall # of frames:  201  found with (before cropping) frame dimensions:  1280 1331\n",
      "Starting to extract posture\n",
      "Cropping based on the x1 = 0 x2 = 1280 y1 = 0 y2 = 1024. You can adjust the cropping coordinates in the config.yaml file.\n"
     ]
    },
    {
     "name": "stderr",
     "output_type": "stream",
     "text": [
      "100%|██████████| 201/201 [00:08<00:00, 23.46it/s]\n"
     ]
    },
    {
     "name": "stdout",
     "output_type": "stream",
     "text": [
      "Saving results in D:\\YuLab\\Work\\GPS\\Video\\Kennard\\GPS_08_Kornblum1500SRTSelf\\20231012\\Top\\Clips...\n",
      "Saving csv poses!\n",
      "Starting to analyze %  D:\\YuLab\\Work\\GPS\\Video\\Kennard\\GPS_08_Kornblum1500SRTSelf\\20231012\\Top\\Clips\\Kennard_20231012_HoldTrial089_TopView.avi\n",
      "Loading  D:\\YuLab\\Work\\GPS\\Video\\Kennard\\GPS_08_Kornblum1500SRTSelf\\20231012\\Top\\Clips\\Kennard_20231012_HoldTrial089_TopView.avi\n",
      "Duration of video [s]:  8.0 , recorded with  25.0 fps!\n",
      "Overall # of frames:  200  found with (before cropping) frame dimensions:  1280 1331\n",
      "Starting to extract posture\n",
      "Cropping based on the x1 = 0 x2 = 1280 y1 = 0 y2 = 1024. You can adjust the cropping coordinates in the config.yaml file.\n"
     ]
    },
    {
     "name": "stderr",
     "output_type": "stream",
     "text": [
      "100%|██████████| 200/200 [00:08<00:00, 24.13it/s]\n"
     ]
    },
    {
     "name": "stdout",
     "output_type": "stream",
     "text": [
      "Saving results in D:\\YuLab\\Work\\GPS\\Video\\Kennard\\GPS_08_Kornblum1500SRTSelf\\20231012\\Top\\Clips...\n",
      "Saving csv poses!\n",
      "Starting to analyze %  D:\\YuLab\\Work\\GPS\\Video\\Kennard\\GPS_08_Kornblum1500SRTSelf\\20231012\\Top\\Clips\\Kennard_20231012_HoldTrial090_TopView.avi\n",
      "Loading  D:\\YuLab\\Work\\GPS\\Video\\Kennard\\GPS_08_Kornblum1500SRTSelf\\20231012\\Top\\Clips\\Kennard_20231012_HoldTrial090_TopView.avi\n",
      "Duration of video [s]:  8.04 , recorded with  25.0 fps!\n",
      "Overall # of frames:  201  found with (before cropping) frame dimensions:  1280 1331\n",
      "Starting to extract posture\n",
      "Cropping based on the x1 = 0 x2 = 1280 y1 = 0 y2 = 1024. You can adjust the cropping coordinates in the config.yaml file.\n"
     ]
    },
    {
     "name": "stderr",
     "output_type": "stream",
     "text": [
      "100%|██████████| 201/201 [00:08<00:00, 23.44it/s]\n"
     ]
    },
    {
     "name": "stdout",
     "output_type": "stream",
     "text": [
      "Saving results in D:\\YuLab\\Work\\GPS\\Video\\Kennard\\GPS_08_Kornblum1500SRTSelf\\20231012\\Top\\Clips...\n",
      "Saving csv poses!\n",
      "Starting to analyze %  D:\\YuLab\\Work\\GPS\\Video\\Kennard\\GPS_08_Kornblum1500SRTSelf\\20231012\\Top\\Clips\\Kennard_20231012_HoldTrial091_TopView.avi\n",
      "Loading  D:\\YuLab\\Work\\GPS\\Video\\Kennard\\GPS_08_Kornblum1500SRTSelf\\20231012\\Top\\Clips\\Kennard_20231012_HoldTrial091_TopView.avi\n",
      "Duration of video [s]:  8.0 , recorded with  25.0 fps!\n",
      "Overall # of frames:  200  found with (before cropping) frame dimensions:  1280 1331\n",
      "Starting to extract posture\n",
      "Cropping based on the x1 = 0 x2 = 1280 y1 = 0 y2 = 1024. You can adjust the cropping coordinates in the config.yaml file.\n"
     ]
    },
    {
     "name": "stderr",
     "output_type": "stream",
     "text": [
      "100%|██████████| 200/200 [00:08<00:00, 24.18it/s]\n"
     ]
    },
    {
     "name": "stdout",
     "output_type": "stream",
     "text": [
      "Saving results in D:\\YuLab\\Work\\GPS\\Video\\Kennard\\GPS_08_Kornblum1500SRTSelf\\20231012\\Top\\Clips...\n",
      "Saving csv poses!\n",
      "Starting to analyze %  D:\\YuLab\\Work\\GPS\\Video\\Kennard\\GPS_08_Kornblum1500SRTSelf\\20231012\\Top\\Clips\\Kennard_20231012_HoldTrial092_TopView.avi\n",
      "Loading  D:\\YuLab\\Work\\GPS\\Video\\Kennard\\GPS_08_Kornblum1500SRTSelf\\20231012\\Top\\Clips\\Kennard_20231012_HoldTrial092_TopView.avi\n",
      "Duration of video [s]:  8.0 , recorded with  25.0 fps!\n",
      "Overall # of frames:  200  found with (before cropping) frame dimensions:  1280 1331\n",
      "Starting to extract posture\n",
      "Cropping based on the x1 = 0 x2 = 1280 y1 = 0 y2 = 1024. You can adjust the cropping coordinates in the config.yaml file.\n"
     ]
    },
    {
     "name": "stderr",
     "output_type": "stream",
     "text": [
      "100%|██████████| 200/200 [00:08<00:00, 24.13it/s]\n"
     ]
    },
    {
     "name": "stdout",
     "output_type": "stream",
     "text": [
      "Saving results in D:\\YuLab\\Work\\GPS\\Video\\Kennard\\GPS_08_Kornblum1500SRTSelf\\20231012\\Top\\Clips...\n",
      "Saving csv poses!\n",
      "Starting to analyze %  D:\\YuLab\\Work\\GPS\\Video\\Kennard\\GPS_08_Kornblum1500SRTSelf\\20231012\\Top\\Clips\\Kennard_20231012_HoldTrial093_TopView.avi\n",
      "Loading  D:\\YuLab\\Work\\GPS\\Video\\Kennard\\GPS_08_Kornblum1500SRTSelf\\20231012\\Top\\Clips\\Kennard_20231012_HoldTrial093_TopView.avi\n",
      "Duration of video [s]:  8.04 , recorded with  25.0 fps!\n",
      "Overall # of frames:  201  found with (before cropping) frame dimensions:  1280 1331\n",
      "Starting to extract posture\n",
      "Cropping based on the x1 = 0 x2 = 1280 y1 = 0 y2 = 1024. You can adjust the cropping coordinates in the config.yaml file.\n"
     ]
    },
    {
     "name": "stderr",
     "output_type": "stream",
     "text": [
      "100%|██████████| 201/201 [00:08<00:00, 23.61it/s]\n"
     ]
    },
    {
     "name": "stdout",
     "output_type": "stream",
     "text": [
      "Saving results in D:\\YuLab\\Work\\GPS\\Video\\Kennard\\GPS_08_Kornblum1500SRTSelf\\20231012\\Top\\Clips...\n",
      "Saving csv poses!\n",
      "Starting to analyze %  D:\\YuLab\\Work\\GPS\\Video\\Kennard\\GPS_08_Kornblum1500SRTSelf\\20231012\\Top\\Clips\\Kennard_20231012_HoldTrial094_TopView.avi\n",
      "Loading  D:\\YuLab\\Work\\GPS\\Video\\Kennard\\GPS_08_Kornblum1500SRTSelf\\20231012\\Top\\Clips\\Kennard_20231012_HoldTrial094_TopView.avi\n",
      "Duration of video [s]:  8.04 , recorded with  25.0 fps!\n",
      "Overall # of frames:  201  found with (before cropping) frame dimensions:  1280 1331\n",
      "Starting to extract posture\n",
      "Cropping based on the x1 = 0 x2 = 1280 y1 = 0 y2 = 1024. You can adjust the cropping coordinates in the config.yaml file.\n"
     ]
    },
    {
     "name": "stderr",
     "output_type": "stream",
     "text": [
      "100%|██████████| 201/201 [00:08<00:00, 23.63it/s]\n"
     ]
    },
    {
     "name": "stdout",
     "output_type": "stream",
     "text": [
      "Saving results in D:\\YuLab\\Work\\GPS\\Video\\Kennard\\GPS_08_Kornblum1500SRTSelf\\20231012\\Top\\Clips...\n",
      "Saving csv poses!\n",
      "Starting to analyze %  D:\\YuLab\\Work\\GPS\\Video\\Kennard\\GPS_08_Kornblum1500SRTSelf\\20231012\\Top\\Clips\\Kennard_20231012_HoldTrial095_TopView.avi\n",
      "Loading  D:\\YuLab\\Work\\GPS\\Video\\Kennard\\GPS_08_Kornblum1500SRTSelf\\20231012\\Top\\Clips\\Kennard_20231012_HoldTrial095_TopView.avi\n",
      "Duration of video [s]:  8.0 , recorded with  25.0 fps!\n",
      "Overall # of frames:  200  found with (before cropping) frame dimensions:  1280 1331\n",
      "Starting to extract posture\n",
      "Cropping based on the x1 = 0 x2 = 1280 y1 = 0 y2 = 1024. You can adjust the cropping coordinates in the config.yaml file.\n"
     ]
    },
    {
     "name": "stderr",
     "output_type": "stream",
     "text": [
      "100%|██████████| 200/200 [00:08<00:00, 24.21it/s]\n"
     ]
    },
    {
     "name": "stdout",
     "output_type": "stream",
     "text": [
      "Saving results in D:\\YuLab\\Work\\GPS\\Video\\Kennard\\GPS_08_Kornblum1500SRTSelf\\20231012\\Top\\Clips...\n",
      "Saving csv poses!\n",
      "Starting to analyze %  D:\\YuLab\\Work\\GPS\\Video\\Kennard\\GPS_08_Kornblum1500SRTSelf\\20231012\\Top\\Clips\\Kennard_20231012_HoldTrial096_TopView.avi\n",
      "Loading  D:\\YuLab\\Work\\GPS\\Video\\Kennard\\GPS_08_Kornblum1500SRTSelf\\20231012\\Top\\Clips\\Kennard_20231012_HoldTrial096_TopView.avi\n",
      "Duration of video [s]:  8.04 , recorded with  25.0 fps!\n",
      "Overall # of frames:  201  found with (before cropping) frame dimensions:  1280 1331\n",
      "Starting to extract posture\n",
      "Cropping based on the x1 = 0 x2 = 1280 y1 = 0 y2 = 1024. You can adjust the cropping coordinates in the config.yaml file.\n"
     ]
    },
    {
     "name": "stderr",
     "output_type": "stream",
     "text": [
      "100%|██████████| 201/201 [00:08<00:00, 23.54it/s]\n"
     ]
    },
    {
     "name": "stdout",
     "output_type": "stream",
     "text": [
      "Saving results in D:\\YuLab\\Work\\GPS\\Video\\Kennard\\GPS_08_Kornblum1500SRTSelf\\20231012\\Top\\Clips...\n",
      "Saving csv poses!\n",
      "Starting to analyze %  D:\\YuLab\\Work\\GPS\\Video\\Kennard\\GPS_08_Kornblum1500SRTSelf\\20231012\\Top\\Clips\\Kennard_20231012_HoldTrial097_TopView.avi\n",
      "Loading  D:\\YuLab\\Work\\GPS\\Video\\Kennard\\GPS_08_Kornblum1500SRTSelf\\20231012\\Top\\Clips\\Kennard_20231012_HoldTrial097_TopView.avi\n",
      "Duration of video [s]:  8.0 , recorded with  25.0 fps!\n",
      "Overall # of frames:  200  found with (before cropping) frame dimensions:  1280 1331\n",
      "Starting to extract posture\n",
      "Cropping based on the x1 = 0 x2 = 1280 y1 = 0 y2 = 1024. You can adjust the cropping coordinates in the config.yaml file.\n"
     ]
    },
    {
     "name": "stderr",
     "output_type": "stream",
     "text": [
      "100%|██████████| 200/200 [00:08<00:00, 24.10it/s]\n"
     ]
    },
    {
     "name": "stdout",
     "output_type": "stream",
     "text": [
      "Saving results in D:\\YuLab\\Work\\GPS\\Video\\Kennard\\GPS_08_Kornblum1500SRTSelf\\20231012\\Top\\Clips...\n",
      "Saving csv poses!\n",
      "Starting to analyze %  D:\\YuLab\\Work\\GPS\\Video\\Kennard\\GPS_08_Kornblum1500SRTSelf\\20231012\\Top\\Clips\\Kennard_20231012_HoldTrial098_TopView.avi\n",
      "Loading  D:\\YuLab\\Work\\GPS\\Video\\Kennard\\GPS_08_Kornblum1500SRTSelf\\20231012\\Top\\Clips\\Kennard_20231012_HoldTrial098_TopView.avi\n",
      "Duration of video [s]:  8.04 , recorded with  25.0 fps!\n",
      "Overall # of frames:  201  found with (before cropping) frame dimensions:  1280 1331\n",
      "Starting to extract posture\n",
      "Cropping based on the x1 = 0 x2 = 1280 y1 = 0 y2 = 1024. You can adjust the cropping coordinates in the config.yaml file.\n"
     ]
    },
    {
     "name": "stderr",
     "output_type": "stream",
     "text": [
      "100%|██████████| 201/201 [00:08<00:00, 23.51it/s]\n"
     ]
    },
    {
     "name": "stdout",
     "output_type": "stream",
     "text": [
      "Saving results in D:\\YuLab\\Work\\GPS\\Video\\Kennard\\GPS_08_Kornblum1500SRTSelf\\20231012\\Top\\Clips...\n",
      "Saving csv poses!\n",
      "Starting to analyze %  D:\\YuLab\\Work\\GPS\\Video\\Kennard\\GPS_08_Kornblum1500SRTSelf\\20231012\\Top\\Clips\\Kennard_20231012_HoldTrial099_TopView.avi\n",
      "Loading  D:\\YuLab\\Work\\GPS\\Video\\Kennard\\GPS_08_Kornblum1500SRTSelf\\20231012\\Top\\Clips\\Kennard_20231012_HoldTrial099_TopView.avi\n",
      "Duration of video [s]:  8.0 , recorded with  25.0 fps!\n",
      "Overall # of frames:  200  found with (before cropping) frame dimensions:  1280 1331\n",
      "Starting to extract posture\n",
      "Cropping based on the x1 = 0 x2 = 1280 y1 = 0 y2 = 1024. You can adjust the cropping coordinates in the config.yaml file.\n"
     ]
    },
    {
     "name": "stderr",
     "output_type": "stream",
     "text": [
      "100%|██████████| 200/200 [00:08<00:00, 24.10it/s]\n"
     ]
    },
    {
     "name": "stdout",
     "output_type": "stream",
     "text": [
      "Saving results in D:\\YuLab\\Work\\GPS\\Video\\Kennard\\GPS_08_Kornblum1500SRTSelf\\20231012\\Top\\Clips...\n",
      "Saving csv poses!\n",
      "Starting to analyze %  D:\\YuLab\\Work\\GPS\\Video\\Kennard\\GPS_08_Kornblum1500SRTSelf\\20231012\\Top\\Clips\\Kennard_20231012_HoldTrial100_TopView.avi\n",
      "Loading  D:\\YuLab\\Work\\GPS\\Video\\Kennard\\GPS_08_Kornblum1500SRTSelf\\20231012\\Top\\Clips\\Kennard_20231012_HoldTrial100_TopView.avi\n",
      "Duration of video [s]:  8.0 , recorded with  25.0 fps!\n",
      "Overall # of frames:  200  found with (before cropping) frame dimensions:  1280 1331\n",
      "Starting to extract posture\n",
      "Cropping based on the x1 = 0 x2 = 1280 y1 = 0 y2 = 1024. You can adjust the cropping coordinates in the config.yaml file.\n"
     ]
    },
    {
     "name": "stderr",
     "output_type": "stream",
     "text": [
      "100%|██████████| 200/200 [00:08<00:00, 24.11it/s]\n"
     ]
    },
    {
     "name": "stdout",
     "output_type": "stream",
     "text": [
      "Saving results in D:\\YuLab\\Work\\GPS\\Video\\Kennard\\GPS_08_Kornblum1500SRTSelf\\20231012\\Top\\Clips...\n",
      "Saving csv poses!\n",
      "Starting to analyze %  D:\\YuLab\\Work\\GPS\\Video\\Kennard\\GPS_08_Kornblum1500SRTSelf\\20231013\\Top\\Clips\\Kennard_20231013_HoldTrial011_TopView.avi\n",
      "Loading  D:\\YuLab\\Work\\GPS\\Video\\Kennard\\GPS_08_Kornblum1500SRTSelf\\20231013\\Top\\Clips\\Kennard_20231013_HoldTrial011_TopView.avi\n",
      "Duration of video [s]:  8.0 , recorded with  25.0 fps!\n",
      "Overall # of frames:  200  found with (before cropping) frame dimensions:  1280 1331\n",
      "Starting to extract posture\n",
      "Cropping based on the x1 = 0 x2 = 1280 y1 = 0 y2 = 1024. You can adjust the cropping coordinates in the config.yaml file.\n"
     ]
    },
    {
     "name": "stderr",
     "output_type": "stream",
     "text": [
      "100%|██████████| 200/200 [00:08<00:00, 24.08it/s]\n"
     ]
    },
    {
     "name": "stdout",
     "output_type": "stream",
     "text": [
      "Saving results in D:\\YuLab\\Work\\GPS\\Video\\Kennard\\GPS_08_Kornblum1500SRTSelf\\20231013\\Top\\Clips...\n",
      "Saving csv poses!\n",
      "Starting to analyze %  D:\\YuLab\\Work\\GPS\\Video\\Kennard\\GPS_08_Kornblum1500SRTSelf\\20231013\\Top\\Clips\\Kennard_20231013_HoldTrial012_TopView.avi\n",
      "Loading  D:\\YuLab\\Work\\GPS\\Video\\Kennard\\GPS_08_Kornblum1500SRTSelf\\20231013\\Top\\Clips\\Kennard_20231013_HoldTrial012_TopView.avi\n",
      "Duration of video [s]:  8.0 , recorded with  25.0 fps!\n",
      "Overall # of frames:  200  found with (before cropping) frame dimensions:  1280 1331\n",
      "Starting to extract posture\n",
      "Cropping based on the x1 = 0 x2 = 1280 y1 = 0 y2 = 1024. You can adjust the cropping coordinates in the config.yaml file.\n"
     ]
    },
    {
     "name": "stderr",
     "output_type": "stream",
     "text": [
      "100%|██████████| 200/200 [00:08<00:00, 24.09it/s]\n"
     ]
    },
    {
     "name": "stdout",
     "output_type": "stream",
     "text": [
      "Saving results in D:\\YuLab\\Work\\GPS\\Video\\Kennard\\GPS_08_Kornblum1500SRTSelf\\20231013\\Top\\Clips...\n",
      "Saving csv poses!\n",
      "Starting to analyze %  D:\\YuLab\\Work\\GPS\\Video\\Kennard\\GPS_08_Kornblum1500SRTSelf\\20231013\\Top\\Clips\\Kennard_20231013_HoldTrial013_TopView.avi\n",
      "Loading  D:\\YuLab\\Work\\GPS\\Video\\Kennard\\GPS_08_Kornblum1500SRTSelf\\20231013\\Top\\Clips\\Kennard_20231013_HoldTrial013_TopView.avi\n",
      "Duration of video [s]:  8.04 , recorded with  25.0 fps!\n",
      "Overall # of frames:  201  found with (before cropping) frame dimensions:  1280 1331\n",
      "Starting to extract posture\n",
      "Cropping based on the x1 = 0 x2 = 1280 y1 = 0 y2 = 1024. You can adjust the cropping coordinates in the config.yaml file.\n"
     ]
    },
    {
     "name": "stderr",
     "output_type": "stream",
     "text": [
      "100%|██████████| 201/201 [00:08<00:00, 23.40it/s]\n"
     ]
    },
    {
     "name": "stdout",
     "output_type": "stream",
     "text": [
      "Saving results in D:\\YuLab\\Work\\GPS\\Video\\Kennard\\GPS_08_Kornblum1500SRTSelf\\20231013\\Top\\Clips...\n",
      "Saving csv poses!\n",
      "Starting to analyze %  D:\\YuLab\\Work\\GPS\\Video\\Kennard\\GPS_08_Kornblum1500SRTSelf\\20231013\\Top\\Clips\\Kennard_20231013_HoldTrial014_TopView.avi\n",
      "Loading  D:\\YuLab\\Work\\GPS\\Video\\Kennard\\GPS_08_Kornblum1500SRTSelf\\20231013\\Top\\Clips\\Kennard_20231013_HoldTrial014_TopView.avi\n",
      "Duration of video [s]:  8.04 , recorded with  25.0 fps!\n",
      "Overall # of frames:  201  found with (before cropping) frame dimensions:  1280 1331\n",
      "Starting to extract posture\n",
      "Cropping based on the x1 = 0 x2 = 1280 y1 = 0 y2 = 1024. You can adjust the cropping coordinates in the config.yaml file.\n"
     ]
    },
    {
     "name": "stderr",
     "output_type": "stream",
     "text": [
      "100%|██████████| 201/201 [00:08<00:00, 23.55it/s]\n"
     ]
    },
    {
     "name": "stdout",
     "output_type": "stream",
     "text": [
      "Saving results in D:\\YuLab\\Work\\GPS\\Video\\Kennard\\GPS_08_Kornblum1500SRTSelf\\20231013\\Top\\Clips...\n",
      "Saving csv poses!\n",
      "Starting to analyze %  D:\\YuLab\\Work\\GPS\\Video\\Kennard\\GPS_08_Kornblum1500SRTSelf\\20231013\\Top\\Clips\\Kennard_20231013_HoldTrial015_TopView.avi\n",
      "Loading  D:\\YuLab\\Work\\GPS\\Video\\Kennard\\GPS_08_Kornblum1500SRTSelf\\20231013\\Top\\Clips\\Kennard_20231013_HoldTrial015_TopView.avi\n",
      "Duration of video [s]:  8.0 , recorded with  25.0 fps!\n",
      "Overall # of frames:  200  found with (before cropping) frame dimensions:  1280 1331\n",
      "Starting to extract posture\n",
      "Cropping based on the x1 = 0 x2 = 1280 y1 = 0 y2 = 1024. You can adjust the cropping coordinates in the config.yaml file.\n"
     ]
    },
    {
     "name": "stderr",
     "output_type": "stream",
     "text": [
      "100%|██████████| 200/200 [00:08<00:00, 24.23it/s]\n"
     ]
    },
    {
     "name": "stdout",
     "output_type": "stream",
     "text": [
      "Saving results in D:\\YuLab\\Work\\GPS\\Video\\Kennard\\GPS_08_Kornblum1500SRTSelf\\20231013\\Top\\Clips...\n",
      "Saving csv poses!\n",
      "Starting to analyze %  D:\\YuLab\\Work\\GPS\\Video\\Kennard\\GPS_08_Kornblum1500SRTSelf\\20231013\\Top\\Clips\\Kennard_20231013_HoldTrial016_TopView.avi\n",
      "Loading  D:\\YuLab\\Work\\GPS\\Video\\Kennard\\GPS_08_Kornblum1500SRTSelf\\20231013\\Top\\Clips\\Kennard_20231013_HoldTrial016_TopView.avi\n",
      "Duration of video [s]:  8.0 , recorded with  25.0 fps!\n",
      "Overall # of frames:  200  found with (before cropping) frame dimensions:  1280 1331\n",
      "Starting to extract posture\n",
      "Cropping based on the x1 = 0 x2 = 1280 y1 = 0 y2 = 1024. You can adjust the cropping coordinates in the config.yaml file.\n"
     ]
    },
    {
     "name": "stderr",
     "output_type": "stream",
     "text": [
      "100%|██████████| 200/200 [00:08<00:00, 24.15it/s]\n"
     ]
    },
    {
     "name": "stdout",
     "output_type": "stream",
     "text": [
      "Saving results in D:\\YuLab\\Work\\GPS\\Video\\Kennard\\GPS_08_Kornblum1500SRTSelf\\20231013\\Top\\Clips...\n",
      "Saving csv poses!\n",
      "Starting to analyze %  D:\\YuLab\\Work\\GPS\\Video\\Kennard\\GPS_08_Kornblum1500SRTSelf\\20231013\\Top\\Clips\\Kennard_20231013_HoldTrial017_TopView.avi\n",
      "Loading  D:\\YuLab\\Work\\GPS\\Video\\Kennard\\GPS_08_Kornblum1500SRTSelf\\20231013\\Top\\Clips\\Kennard_20231013_HoldTrial017_TopView.avi\n",
      "Duration of video [s]:  8.04 , recorded with  25.0 fps!\n",
      "Overall # of frames:  201  found with (before cropping) frame dimensions:  1280 1331\n",
      "Starting to extract posture\n",
      "Cropping based on the x1 = 0 x2 = 1280 y1 = 0 y2 = 1024. You can adjust the cropping coordinates in the config.yaml file.\n"
     ]
    },
    {
     "name": "stderr",
     "output_type": "stream",
     "text": [
      "100%|██████████| 201/201 [00:08<00:00, 23.49it/s]\n"
     ]
    },
    {
     "name": "stdout",
     "output_type": "stream",
     "text": [
      "Saving results in D:\\YuLab\\Work\\GPS\\Video\\Kennard\\GPS_08_Kornblum1500SRTSelf\\20231013\\Top\\Clips...\n",
      "Saving csv poses!\n",
      "Starting to analyze %  D:\\YuLab\\Work\\GPS\\Video\\Kennard\\GPS_08_Kornblum1500SRTSelf\\20231013\\Top\\Clips\\Kennard_20231013_HoldTrial018_TopView.avi\n",
      "Loading  D:\\YuLab\\Work\\GPS\\Video\\Kennard\\GPS_08_Kornblum1500SRTSelf\\20231013\\Top\\Clips\\Kennard_20231013_HoldTrial018_TopView.avi\n",
      "Duration of video [s]:  8.04 , recorded with  25.0 fps!\n",
      "Overall # of frames:  201  found with (before cropping) frame dimensions:  1280 1331\n",
      "Starting to extract posture\n",
      "Cropping based on the x1 = 0 x2 = 1280 y1 = 0 y2 = 1024. You can adjust the cropping coordinates in the config.yaml file.\n"
     ]
    },
    {
     "name": "stderr",
     "output_type": "stream",
     "text": [
      "100%|██████████| 201/201 [00:08<00:00, 23.43it/s]\n"
     ]
    },
    {
     "name": "stdout",
     "output_type": "stream",
     "text": [
      "Saving results in D:\\YuLab\\Work\\GPS\\Video\\Kennard\\GPS_08_Kornblum1500SRTSelf\\20231013\\Top\\Clips...\n",
      "Saving csv poses!\n",
      "Starting to analyze %  D:\\YuLab\\Work\\GPS\\Video\\Kennard\\GPS_08_Kornblum1500SRTSelf\\20231013\\Top\\Clips\\Kennard_20231013_HoldTrial019_TopView.avi\n",
      "Loading  D:\\YuLab\\Work\\GPS\\Video\\Kennard\\GPS_08_Kornblum1500SRTSelf\\20231013\\Top\\Clips\\Kennard_20231013_HoldTrial019_TopView.avi\n",
      "Duration of video [s]:  8.0 , recorded with  25.0 fps!\n",
      "Overall # of frames:  200  found with (before cropping) frame dimensions:  1280 1331\n",
      "Starting to extract posture\n",
      "Cropping based on the x1 = 0 x2 = 1280 y1 = 0 y2 = 1024. You can adjust the cropping coordinates in the config.yaml file.\n"
     ]
    },
    {
     "name": "stderr",
     "output_type": "stream",
     "text": [
      "100%|██████████| 200/200 [00:08<00:00, 24.09it/s]\n"
     ]
    },
    {
     "name": "stdout",
     "output_type": "stream",
     "text": [
      "Saving results in D:\\YuLab\\Work\\GPS\\Video\\Kennard\\GPS_08_Kornblum1500SRTSelf\\20231013\\Top\\Clips...\n",
      "Saving csv poses!\n",
      "Starting to analyze %  D:\\YuLab\\Work\\GPS\\Video\\Kennard\\GPS_08_Kornblum1500SRTSelf\\20231013\\Top\\Clips\\Kennard_20231013_HoldTrial020_TopView.avi\n",
      "Loading  D:\\YuLab\\Work\\GPS\\Video\\Kennard\\GPS_08_Kornblum1500SRTSelf\\20231013\\Top\\Clips\\Kennard_20231013_HoldTrial020_TopView.avi\n",
      "Duration of video [s]:  8.0 , recorded with  25.0 fps!\n",
      "Overall # of frames:  200  found with (before cropping) frame dimensions:  1280 1331\n",
      "Starting to extract posture\n",
      "Cropping based on the x1 = 0 x2 = 1280 y1 = 0 y2 = 1024. You can adjust the cropping coordinates in the config.yaml file.\n"
     ]
    },
    {
     "name": "stderr",
     "output_type": "stream",
     "text": [
      "100%|██████████| 200/200 [00:08<00:00, 24.06it/s]\n"
     ]
    },
    {
     "name": "stdout",
     "output_type": "stream",
     "text": [
      "Saving results in D:\\YuLab\\Work\\GPS\\Video\\Kennard\\GPS_08_Kornblum1500SRTSelf\\20231013\\Top\\Clips...\n",
      "Saving csv poses!\n",
      "Starting to analyze %  D:\\YuLab\\Work\\GPS\\Video\\Kennard\\GPS_08_Kornblum1500SRTSelf\\20231013\\Top\\Clips\\Kennard_20231013_HoldTrial021_TopView.avi\n",
      "Loading  D:\\YuLab\\Work\\GPS\\Video\\Kennard\\GPS_08_Kornblum1500SRTSelf\\20231013\\Top\\Clips\\Kennard_20231013_HoldTrial021_TopView.avi\n",
      "Duration of video [s]:  8.0 , recorded with  25.0 fps!\n",
      "Overall # of frames:  200  found with (before cropping) frame dimensions:  1280 1331\n",
      "Starting to extract posture\n",
      "Cropping based on the x1 = 0 x2 = 1280 y1 = 0 y2 = 1024. You can adjust the cropping coordinates in the config.yaml file.\n"
     ]
    },
    {
     "name": "stderr",
     "output_type": "stream",
     "text": [
      "100%|██████████| 200/200 [00:08<00:00, 24.09it/s]\n"
     ]
    },
    {
     "name": "stdout",
     "output_type": "stream",
     "text": [
      "Saving results in D:\\YuLab\\Work\\GPS\\Video\\Kennard\\GPS_08_Kornblum1500SRTSelf\\20231013\\Top\\Clips...\n",
      "Saving csv poses!\n",
      "Starting to analyze %  D:\\YuLab\\Work\\GPS\\Video\\Kennard\\GPS_08_Kornblum1500SRTSelf\\20231013\\Top\\Clips\\Kennard_20231013_HoldTrial022_TopView.avi\n",
      "Loading  D:\\YuLab\\Work\\GPS\\Video\\Kennard\\GPS_08_Kornblum1500SRTSelf\\20231013\\Top\\Clips\\Kennard_20231013_HoldTrial022_TopView.avi\n",
      "Duration of video [s]:  8.0 , recorded with  25.0 fps!\n",
      "Overall # of frames:  200  found with (before cropping) frame dimensions:  1280 1331\n",
      "Starting to extract posture\n",
      "Cropping based on the x1 = 0 x2 = 1280 y1 = 0 y2 = 1024. You can adjust the cropping coordinates in the config.yaml file.\n"
     ]
    },
    {
     "name": "stderr",
     "output_type": "stream",
     "text": [
      "100%|██████████| 200/200 [00:08<00:00, 24.11it/s]\n"
     ]
    },
    {
     "name": "stdout",
     "output_type": "stream",
     "text": [
      "Saving results in D:\\YuLab\\Work\\GPS\\Video\\Kennard\\GPS_08_Kornblum1500SRTSelf\\20231013\\Top\\Clips...\n",
      "Saving csv poses!\n",
      "Starting to analyze %  D:\\YuLab\\Work\\GPS\\Video\\Kennard\\GPS_08_Kornblum1500SRTSelf\\20231013\\Top\\Clips\\Kennard_20231013_HoldTrial023_TopView.avi\n",
      "Loading  D:\\YuLab\\Work\\GPS\\Video\\Kennard\\GPS_08_Kornblum1500SRTSelf\\20231013\\Top\\Clips\\Kennard_20231013_HoldTrial023_TopView.avi\n",
      "Duration of video [s]:  8.04 , recorded with  25.0 fps!\n",
      "Overall # of frames:  201  found with (before cropping) frame dimensions:  1280 1331\n",
      "Starting to extract posture\n",
      "Cropping based on the x1 = 0 x2 = 1280 y1 = 0 y2 = 1024. You can adjust the cropping coordinates in the config.yaml file.\n"
     ]
    },
    {
     "name": "stderr",
     "output_type": "stream",
     "text": [
      "100%|██████████| 201/201 [00:08<00:00, 23.45it/s]\n"
     ]
    },
    {
     "name": "stdout",
     "output_type": "stream",
     "text": [
      "Saving results in D:\\YuLab\\Work\\GPS\\Video\\Kennard\\GPS_08_Kornblum1500SRTSelf\\20231013\\Top\\Clips...\n",
      "Saving csv poses!\n",
      "Starting to analyze %  D:\\YuLab\\Work\\GPS\\Video\\Kennard\\GPS_08_Kornblum1500SRTSelf\\20231013\\Top\\Clips\\Kennard_20231013_HoldTrial024_TopView.avi\n",
      "Loading  D:\\YuLab\\Work\\GPS\\Video\\Kennard\\GPS_08_Kornblum1500SRTSelf\\20231013\\Top\\Clips\\Kennard_20231013_HoldTrial024_TopView.avi\n",
      "Duration of video [s]:  8.04 , recorded with  25.0 fps!\n",
      "Overall # of frames:  201  found with (before cropping) frame dimensions:  1280 1331\n",
      "Starting to extract posture\n",
      "Cropping based on the x1 = 0 x2 = 1280 y1 = 0 y2 = 1024. You can adjust the cropping coordinates in the config.yaml file.\n"
     ]
    },
    {
     "name": "stderr",
     "output_type": "stream",
     "text": [
      "100%|██████████| 201/201 [00:08<00:00, 23.45it/s]\n"
     ]
    },
    {
     "name": "stdout",
     "output_type": "stream",
     "text": [
      "Saving results in D:\\YuLab\\Work\\GPS\\Video\\Kennard\\GPS_08_Kornblum1500SRTSelf\\20231013\\Top\\Clips...\n",
      "Saving csv poses!\n",
      "Starting to analyze %  D:\\YuLab\\Work\\GPS\\Video\\Kennard\\GPS_08_Kornblum1500SRTSelf\\20231013\\Top\\Clips\\Kennard_20231013_HoldTrial025_TopView.avi\n",
      "Loading  D:\\YuLab\\Work\\GPS\\Video\\Kennard\\GPS_08_Kornblum1500SRTSelf\\20231013\\Top\\Clips\\Kennard_20231013_HoldTrial025_TopView.avi\n",
      "Duration of video [s]:  8.04 , recorded with  25.0 fps!\n",
      "Overall # of frames:  201  found with (before cropping) frame dimensions:  1280 1331\n",
      "Starting to extract posture\n",
      "Cropping based on the x1 = 0 x2 = 1280 y1 = 0 y2 = 1024. You can adjust the cropping coordinates in the config.yaml file.\n"
     ]
    },
    {
     "name": "stderr",
     "output_type": "stream",
     "text": [
      "100%|██████████| 201/201 [00:08<00:00, 23.53it/s]\n"
     ]
    },
    {
     "name": "stdout",
     "output_type": "stream",
     "text": [
      "Saving results in D:\\YuLab\\Work\\GPS\\Video\\Kennard\\GPS_08_Kornblum1500SRTSelf\\20231013\\Top\\Clips...\n",
      "Saving csv poses!\n",
      "Starting to analyze %  D:\\YuLab\\Work\\GPS\\Video\\Kennard\\GPS_08_Kornblum1500SRTSelf\\20231013\\Top\\Clips\\Kennard_20231013_HoldTrial026_TopView.avi\n",
      "Loading  D:\\YuLab\\Work\\GPS\\Video\\Kennard\\GPS_08_Kornblum1500SRTSelf\\20231013\\Top\\Clips\\Kennard_20231013_HoldTrial026_TopView.avi\n",
      "Duration of video [s]:  8.0 , recorded with  25.0 fps!\n",
      "Overall # of frames:  200  found with (before cropping) frame dimensions:  1280 1331\n",
      "Starting to extract posture\n",
      "Cropping based on the x1 = 0 x2 = 1280 y1 = 0 y2 = 1024. You can adjust the cropping coordinates in the config.yaml file.\n"
     ]
    },
    {
     "name": "stderr",
     "output_type": "stream",
     "text": [
      "100%|██████████| 200/200 [00:08<00:00, 24.19it/s]\n"
     ]
    },
    {
     "name": "stdout",
     "output_type": "stream",
     "text": [
      "Saving results in D:\\YuLab\\Work\\GPS\\Video\\Kennard\\GPS_08_Kornblum1500SRTSelf\\20231013\\Top\\Clips...\n",
      "Saving csv poses!\n",
      "Starting to analyze %  D:\\YuLab\\Work\\GPS\\Video\\Kennard\\GPS_08_Kornblum1500SRTSelf\\20231013\\Top\\Clips\\Kennard_20231013_HoldTrial027_TopView.avi\n",
      "Loading  D:\\YuLab\\Work\\GPS\\Video\\Kennard\\GPS_08_Kornblum1500SRTSelf\\20231013\\Top\\Clips\\Kennard_20231013_HoldTrial027_TopView.avi\n",
      "Duration of video [s]:  8.0 , recorded with  25.0 fps!\n",
      "Overall # of frames:  200  found with (before cropping) frame dimensions:  1280 1331\n",
      "Starting to extract posture\n",
      "Cropping based on the x1 = 0 x2 = 1280 y1 = 0 y2 = 1024. You can adjust the cropping coordinates in the config.yaml file.\n"
     ]
    },
    {
     "name": "stderr",
     "output_type": "stream",
     "text": [
      "100%|██████████| 200/200 [00:08<00:00, 24.17it/s]\n"
     ]
    },
    {
     "name": "stdout",
     "output_type": "stream",
     "text": [
      "Saving results in D:\\YuLab\\Work\\GPS\\Video\\Kennard\\GPS_08_Kornblum1500SRTSelf\\20231013\\Top\\Clips...\n",
      "Saving csv poses!\n",
      "Starting to analyze %  D:\\YuLab\\Work\\GPS\\Video\\Kennard\\GPS_08_Kornblum1500SRTSelf\\20231013\\Top\\Clips\\Kennard_20231013_HoldTrial028_TopView.avi\n",
      "Loading  D:\\YuLab\\Work\\GPS\\Video\\Kennard\\GPS_08_Kornblum1500SRTSelf\\20231013\\Top\\Clips\\Kennard_20231013_HoldTrial028_TopView.avi\n",
      "Duration of video [s]:  8.0 , recorded with  25.0 fps!\n",
      "Overall # of frames:  200  found with (before cropping) frame dimensions:  1280 1331\n",
      "Starting to extract posture\n",
      "Cropping based on the x1 = 0 x2 = 1280 y1 = 0 y2 = 1024. You can adjust the cropping coordinates in the config.yaml file.\n"
     ]
    },
    {
     "name": "stderr",
     "output_type": "stream",
     "text": [
      "100%|██████████| 200/200 [00:08<00:00, 24.14it/s]\n"
     ]
    },
    {
     "name": "stdout",
     "output_type": "stream",
     "text": [
      "Saving results in D:\\YuLab\\Work\\GPS\\Video\\Kennard\\GPS_08_Kornblum1500SRTSelf\\20231013\\Top\\Clips...\n",
      "Saving csv poses!\n",
      "Starting to analyze %  D:\\YuLab\\Work\\GPS\\Video\\Kennard\\GPS_08_Kornblum1500SRTSelf\\20231013\\Top\\Clips\\Kennard_20231013_HoldTrial029_TopView.avi\n",
      "Loading  D:\\YuLab\\Work\\GPS\\Video\\Kennard\\GPS_08_Kornblum1500SRTSelf\\20231013\\Top\\Clips\\Kennard_20231013_HoldTrial029_TopView.avi\n",
      "Duration of video [s]:  8.04 , recorded with  25.0 fps!\n",
      "Overall # of frames:  201  found with (before cropping) frame dimensions:  1280 1331\n",
      "Starting to extract posture\n",
      "Cropping based on the x1 = 0 x2 = 1280 y1 = 0 y2 = 1024. You can adjust the cropping coordinates in the config.yaml file.\n"
     ]
    },
    {
     "name": "stderr",
     "output_type": "stream",
     "text": [
      "100%|██████████| 201/201 [00:08<00:00, 23.51it/s]\n"
     ]
    },
    {
     "name": "stdout",
     "output_type": "stream",
     "text": [
      "Saving results in D:\\YuLab\\Work\\GPS\\Video\\Kennard\\GPS_08_Kornblum1500SRTSelf\\20231013\\Top\\Clips...\n",
      "Saving csv poses!\n",
      "Starting to analyze %  D:\\YuLab\\Work\\GPS\\Video\\Kennard\\GPS_08_Kornblum1500SRTSelf\\20231013\\Top\\Clips\\Kennard_20231013_HoldTrial030_TopView.avi\n",
      "Loading  D:\\YuLab\\Work\\GPS\\Video\\Kennard\\GPS_08_Kornblum1500SRTSelf\\20231013\\Top\\Clips\\Kennard_20231013_HoldTrial030_TopView.avi\n",
      "Duration of video [s]:  8.04 , recorded with  25.0 fps!\n",
      "Overall # of frames:  201  found with (before cropping) frame dimensions:  1280 1331\n",
      "Starting to extract posture\n",
      "Cropping based on the x1 = 0 x2 = 1280 y1 = 0 y2 = 1024. You can adjust the cropping coordinates in the config.yaml file.\n"
     ]
    },
    {
     "name": "stderr",
     "output_type": "stream",
     "text": [
      "100%|██████████| 201/201 [00:08<00:00, 23.48it/s]\n"
     ]
    },
    {
     "name": "stdout",
     "output_type": "stream",
     "text": [
      "Saving results in D:\\YuLab\\Work\\GPS\\Video\\Kennard\\GPS_08_Kornblum1500SRTSelf\\20231013\\Top\\Clips...\n",
      "Saving csv poses!\n",
      "Starting to analyze %  D:\\YuLab\\Work\\GPS\\Video\\Kennard\\GPS_08_Kornblum1500SRTSelf\\20231013\\Top\\Clips\\Kennard_20231013_HoldTrial031_TopView.avi\n",
      "Loading  D:\\YuLab\\Work\\GPS\\Video\\Kennard\\GPS_08_Kornblum1500SRTSelf\\20231013\\Top\\Clips\\Kennard_20231013_HoldTrial031_TopView.avi\n",
      "Duration of video [s]:  8.0 , recorded with  25.0 fps!\n",
      "Overall # of frames:  200  found with (before cropping) frame dimensions:  1280 1331\n",
      "Starting to extract posture\n",
      "Cropping based on the x1 = 0 x2 = 1280 y1 = 0 y2 = 1024. You can adjust the cropping coordinates in the config.yaml file.\n"
     ]
    },
    {
     "name": "stderr",
     "output_type": "stream",
     "text": [
      "100%|██████████| 200/200 [00:08<00:00, 24.16it/s]\n"
     ]
    },
    {
     "name": "stdout",
     "output_type": "stream",
     "text": [
      "Saving results in D:\\YuLab\\Work\\GPS\\Video\\Kennard\\GPS_08_Kornblum1500SRTSelf\\20231013\\Top\\Clips...\n",
      "Saving csv poses!\n",
      "Starting to analyze %  D:\\YuLab\\Work\\GPS\\Video\\Kennard\\GPS_08_Kornblum1500SRTSelf\\20231013\\Top\\Clips\\Kennard_20231013_HoldTrial032_TopView.avi\n",
      "Loading  D:\\YuLab\\Work\\GPS\\Video\\Kennard\\GPS_08_Kornblum1500SRTSelf\\20231013\\Top\\Clips\\Kennard_20231013_HoldTrial032_TopView.avi\n",
      "Duration of video [s]:  8.0 , recorded with  25.0 fps!\n",
      "Overall # of frames:  200  found with (before cropping) frame dimensions:  1280 1331\n",
      "Starting to extract posture\n",
      "Cropping based on the x1 = 0 x2 = 1280 y1 = 0 y2 = 1024. You can adjust the cropping coordinates in the config.yaml file.\n"
     ]
    },
    {
     "name": "stderr",
     "output_type": "stream",
     "text": [
      "100%|██████████| 200/200 [00:08<00:00, 24.09it/s]\n"
     ]
    },
    {
     "name": "stdout",
     "output_type": "stream",
     "text": [
      "Saving results in D:\\YuLab\\Work\\GPS\\Video\\Kennard\\GPS_08_Kornblum1500SRTSelf\\20231013\\Top\\Clips...\n",
      "Saving csv poses!\n",
      "Starting to analyze %  D:\\YuLab\\Work\\GPS\\Video\\Kennard\\GPS_08_Kornblum1500SRTSelf\\20231013\\Top\\Clips\\Kennard_20231013_HoldTrial033_TopView.avi\n",
      "Loading  D:\\YuLab\\Work\\GPS\\Video\\Kennard\\GPS_08_Kornblum1500SRTSelf\\20231013\\Top\\Clips\\Kennard_20231013_HoldTrial033_TopView.avi\n",
      "Duration of video [s]:  8.04 , recorded with  25.0 fps!\n",
      "Overall # of frames:  201  found with (before cropping) frame dimensions:  1280 1331\n",
      "Starting to extract posture\n",
      "Cropping based on the x1 = 0 x2 = 1280 y1 = 0 y2 = 1024. You can adjust the cropping coordinates in the config.yaml file.\n"
     ]
    },
    {
     "name": "stderr",
     "output_type": "stream",
     "text": [
      "100%|██████████| 201/201 [00:08<00:00, 23.48it/s]\n"
     ]
    },
    {
     "name": "stdout",
     "output_type": "stream",
     "text": [
      "Saving results in D:\\YuLab\\Work\\GPS\\Video\\Kennard\\GPS_08_Kornblum1500SRTSelf\\20231013\\Top\\Clips...\n",
      "Saving csv poses!\n",
      "Starting to analyze %  D:\\YuLab\\Work\\GPS\\Video\\Kennard\\GPS_08_Kornblum1500SRTSelf\\20231013\\Top\\Clips\\Kennard_20231013_HoldTrial034_TopView.avi\n",
      "Loading  D:\\YuLab\\Work\\GPS\\Video\\Kennard\\GPS_08_Kornblum1500SRTSelf\\20231013\\Top\\Clips\\Kennard_20231013_HoldTrial034_TopView.avi\n",
      "Duration of video [s]:  8.0 , recorded with  25.0 fps!\n",
      "Overall # of frames:  200  found with (before cropping) frame dimensions:  1280 1331\n",
      "Starting to extract posture\n",
      "Cropping based on the x1 = 0 x2 = 1280 y1 = 0 y2 = 1024. You can adjust the cropping coordinates in the config.yaml file.\n"
     ]
    },
    {
     "name": "stderr",
     "output_type": "stream",
     "text": [
      "100%|██████████| 200/200 [00:08<00:00, 24.08it/s]\n"
     ]
    },
    {
     "name": "stdout",
     "output_type": "stream",
     "text": [
      "Saving results in D:\\YuLab\\Work\\GPS\\Video\\Kennard\\GPS_08_Kornblum1500SRTSelf\\20231013\\Top\\Clips...\n",
      "Saving csv poses!\n",
      "Starting to analyze %  D:\\YuLab\\Work\\GPS\\Video\\Kennard\\GPS_08_Kornblum1500SRTSelf\\20231013\\Top\\Clips\\Kennard_20231013_HoldTrial035_TopView.avi\n",
      "Loading  D:\\YuLab\\Work\\GPS\\Video\\Kennard\\GPS_08_Kornblum1500SRTSelf\\20231013\\Top\\Clips\\Kennard_20231013_HoldTrial035_TopView.avi\n",
      "Duration of video [s]:  8.04 , recorded with  25.0 fps!\n",
      "Overall # of frames:  201  found with (before cropping) frame dimensions:  1280 1331\n",
      "Starting to extract posture\n",
      "Cropping based on the x1 = 0 x2 = 1280 y1 = 0 y2 = 1024. You can adjust the cropping coordinates in the config.yaml file.\n"
     ]
    },
    {
     "name": "stderr",
     "output_type": "stream",
     "text": [
      "100%|██████████| 201/201 [00:08<00:00, 23.61it/s]\n"
     ]
    },
    {
     "name": "stdout",
     "output_type": "stream",
     "text": [
      "Saving results in D:\\YuLab\\Work\\GPS\\Video\\Kennard\\GPS_08_Kornblum1500SRTSelf\\20231013\\Top\\Clips...\n",
      "Saving csv poses!\n",
      "Starting to analyze %  D:\\YuLab\\Work\\GPS\\Video\\Kennard\\GPS_08_Kornblum1500SRTSelf\\20231013\\Top\\Clips\\Kennard_20231013_HoldTrial036_TopView.avi\n",
      "Loading  D:\\YuLab\\Work\\GPS\\Video\\Kennard\\GPS_08_Kornblum1500SRTSelf\\20231013\\Top\\Clips\\Kennard_20231013_HoldTrial036_TopView.avi\n",
      "Duration of video [s]:  7.96 , recorded with  25.0 fps!\n",
      "Overall # of frames:  199  found with (before cropping) frame dimensions:  1280 1331\n",
      "Starting to extract posture\n",
      "Cropping based on the x1 = 0 x2 = 1280 y1 = 0 y2 = 1024. You can adjust the cropping coordinates in the config.yaml file.\n"
     ]
    },
    {
     "name": "stderr",
     "output_type": "stream",
     "text": [
      "100%|██████████| 199/199 [00:08<00:00, 24.11it/s]\n"
     ]
    },
    {
     "name": "stdout",
     "output_type": "stream",
     "text": [
      "Saving results in D:\\YuLab\\Work\\GPS\\Video\\Kennard\\GPS_08_Kornblum1500SRTSelf\\20231013\\Top\\Clips...\n",
      "Saving csv poses!\n",
      "Starting to analyze %  D:\\YuLab\\Work\\GPS\\Video\\Kennard\\GPS_08_Kornblum1500SRTSelf\\20231013\\Top\\Clips\\Kennard_20231013_HoldTrial037_TopView.avi\n",
      "Loading  D:\\YuLab\\Work\\GPS\\Video\\Kennard\\GPS_08_Kornblum1500SRTSelf\\20231013\\Top\\Clips\\Kennard_20231013_HoldTrial037_TopView.avi\n",
      "Duration of video [s]:  8.04 , recorded with  25.0 fps!\n",
      "Overall # of frames:  201  found with (before cropping) frame dimensions:  1280 1331\n",
      "Starting to extract posture\n",
      "Cropping based on the x1 = 0 x2 = 1280 y1 = 0 y2 = 1024. You can adjust the cropping coordinates in the config.yaml file.\n"
     ]
    },
    {
     "name": "stderr",
     "output_type": "stream",
     "text": [
      "100%|██████████| 201/201 [00:08<00:00, 23.58it/s]\n"
     ]
    },
    {
     "name": "stdout",
     "output_type": "stream",
     "text": [
      "Saving results in D:\\YuLab\\Work\\GPS\\Video\\Kennard\\GPS_08_Kornblum1500SRTSelf\\20231013\\Top\\Clips...\n",
      "Saving csv poses!\n",
      "Starting to analyze %  D:\\YuLab\\Work\\GPS\\Video\\Kennard\\GPS_08_Kornblum1500SRTSelf\\20231013\\Top\\Clips\\Kennard_20231013_HoldTrial038_TopView.avi\n",
      "Loading  D:\\YuLab\\Work\\GPS\\Video\\Kennard\\GPS_08_Kornblum1500SRTSelf\\20231013\\Top\\Clips\\Kennard_20231013_HoldTrial038_TopView.avi\n",
      "Duration of video [s]:  8.0 , recorded with  25.0 fps!\n",
      "Overall # of frames:  200  found with (before cropping) frame dimensions:  1280 1331\n",
      "Starting to extract posture\n",
      "Cropping based on the x1 = 0 x2 = 1280 y1 = 0 y2 = 1024. You can adjust the cropping coordinates in the config.yaml file.\n"
     ]
    },
    {
     "name": "stderr",
     "output_type": "stream",
     "text": [
      "100%|██████████| 200/200 [00:08<00:00, 24.16it/s]\n"
     ]
    },
    {
     "name": "stdout",
     "output_type": "stream",
     "text": [
      "Saving results in D:\\YuLab\\Work\\GPS\\Video\\Kennard\\GPS_08_Kornblum1500SRTSelf\\20231013\\Top\\Clips...\n",
      "Saving csv poses!\n",
      "Starting to analyze %  D:\\YuLab\\Work\\GPS\\Video\\Kennard\\GPS_08_Kornblum1500SRTSelf\\20231013\\Top\\Clips\\Kennard_20231013_HoldTrial039_TopView.avi\n",
      "Loading  D:\\YuLab\\Work\\GPS\\Video\\Kennard\\GPS_08_Kornblum1500SRTSelf\\20231013\\Top\\Clips\\Kennard_20231013_HoldTrial039_TopView.avi\n",
      "Duration of video [s]:  8.0 , recorded with  25.0 fps!\n",
      "Overall # of frames:  200  found with (before cropping) frame dimensions:  1280 1331\n",
      "Starting to extract posture\n",
      "Cropping based on the x1 = 0 x2 = 1280 y1 = 0 y2 = 1024. You can adjust the cropping coordinates in the config.yaml file.\n"
     ]
    },
    {
     "name": "stderr",
     "output_type": "stream",
     "text": [
      "100%|██████████| 200/200 [00:08<00:00, 24.10it/s]\n"
     ]
    },
    {
     "name": "stdout",
     "output_type": "stream",
     "text": [
      "Saving results in D:\\YuLab\\Work\\GPS\\Video\\Kennard\\GPS_08_Kornblum1500SRTSelf\\20231013\\Top\\Clips...\n",
      "Saving csv poses!\n",
      "Starting to analyze %  D:\\YuLab\\Work\\GPS\\Video\\Kennard\\GPS_08_Kornblum1500SRTSelf\\20231013\\Top\\Clips\\Kennard_20231013_HoldTrial040_TopView.avi\n",
      "Loading  D:\\YuLab\\Work\\GPS\\Video\\Kennard\\GPS_08_Kornblum1500SRTSelf\\20231013\\Top\\Clips\\Kennard_20231013_HoldTrial040_TopView.avi\n",
      "Duration of video [s]:  8.04 , recorded with  25.0 fps!\n",
      "Overall # of frames:  201  found with (before cropping) frame dimensions:  1280 1331\n",
      "Starting to extract posture\n",
      "Cropping based on the x1 = 0 x2 = 1280 y1 = 0 y2 = 1024. You can adjust the cropping coordinates in the config.yaml file.\n"
     ]
    },
    {
     "name": "stderr",
     "output_type": "stream",
     "text": [
      "100%|██████████| 201/201 [00:08<00:00, 23.49it/s]\n"
     ]
    },
    {
     "name": "stdout",
     "output_type": "stream",
     "text": [
      "Saving results in D:\\YuLab\\Work\\GPS\\Video\\Kennard\\GPS_08_Kornblum1500SRTSelf\\20231013\\Top\\Clips...\n",
      "Saving csv poses!\n",
      "Starting to analyze %  D:\\YuLab\\Work\\GPS\\Video\\Kennard\\GPS_08_Kornblum1500SRTSelf\\20231013\\Top\\Clips\\Kennard_20231013_HoldTrial041_TopView.avi\n",
      "Loading  D:\\YuLab\\Work\\GPS\\Video\\Kennard\\GPS_08_Kornblum1500SRTSelf\\20231013\\Top\\Clips\\Kennard_20231013_HoldTrial041_TopView.avi\n",
      "Duration of video [s]:  8.0 , recorded with  25.0 fps!\n",
      "Overall # of frames:  200  found with (before cropping) frame dimensions:  1280 1331\n",
      "Starting to extract posture\n",
      "Cropping based on the x1 = 0 x2 = 1280 y1 = 0 y2 = 1024. You can adjust the cropping coordinates in the config.yaml file.\n"
     ]
    },
    {
     "name": "stderr",
     "output_type": "stream",
     "text": [
      "100%|██████████| 200/200 [00:08<00:00, 24.07it/s]\n"
     ]
    },
    {
     "name": "stdout",
     "output_type": "stream",
     "text": [
      "Saving results in D:\\YuLab\\Work\\GPS\\Video\\Kennard\\GPS_08_Kornblum1500SRTSelf\\20231013\\Top\\Clips...\n",
      "Saving csv poses!\n",
      "Starting to analyze %  D:\\YuLab\\Work\\GPS\\Video\\Kennard\\GPS_08_Kornblum1500SRTSelf\\20231013\\Top\\Clips\\Kennard_20231013_HoldTrial042_TopView.avi\n",
      "Loading  D:\\YuLab\\Work\\GPS\\Video\\Kennard\\GPS_08_Kornblum1500SRTSelf\\20231013\\Top\\Clips\\Kennard_20231013_HoldTrial042_TopView.avi\n",
      "Duration of video [s]:  8.04 , recorded with  25.0 fps!\n",
      "Overall # of frames:  201  found with (before cropping) frame dimensions:  1280 1331\n",
      "Starting to extract posture\n",
      "Cropping based on the x1 = 0 x2 = 1280 y1 = 0 y2 = 1024. You can adjust the cropping coordinates in the config.yaml file.\n"
     ]
    },
    {
     "name": "stderr",
     "output_type": "stream",
     "text": [
      "100%|██████████| 201/201 [00:08<00:00, 23.44it/s]\n"
     ]
    },
    {
     "name": "stdout",
     "output_type": "stream",
     "text": [
      "Saving results in D:\\YuLab\\Work\\GPS\\Video\\Kennard\\GPS_08_Kornblum1500SRTSelf\\20231013\\Top\\Clips...\n",
      "Saving csv poses!\n",
      "Starting to analyze %  D:\\YuLab\\Work\\GPS\\Video\\Kennard\\GPS_08_Kornblum1500SRTSelf\\20231013\\Top\\Clips\\Kennard_20231013_HoldTrial043_TopView.avi\n",
      "Loading  D:\\YuLab\\Work\\GPS\\Video\\Kennard\\GPS_08_Kornblum1500SRTSelf\\20231013\\Top\\Clips\\Kennard_20231013_HoldTrial043_TopView.avi\n",
      "Duration of video [s]:  8.04 , recorded with  25.0 fps!\n",
      "Overall # of frames:  201  found with (before cropping) frame dimensions:  1280 1331\n",
      "Starting to extract posture\n",
      "Cropping based on the x1 = 0 x2 = 1280 y1 = 0 y2 = 1024. You can adjust the cropping coordinates in the config.yaml file.\n"
     ]
    },
    {
     "name": "stderr",
     "output_type": "stream",
     "text": [
      "100%|██████████| 201/201 [00:08<00:00, 23.42it/s]\n"
     ]
    },
    {
     "name": "stdout",
     "output_type": "stream",
     "text": [
      "Saving results in D:\\YuLab\\Work\\GPS\\Video\\Kennard\\GPS_08_Kornblum1500SRTSelf\\20231013\\Top\\Clips...\n",
      "Saving csv poses!\n",
      "Starting to analyze %  D:\\YuLab\\Work\\GPS\\Video\\Kennard\\GPS_08_Kornblum1500SRTSelf\\20231013\\Top\\Clips\\Kennard_20231013_HoldTrial044_TopView.avi\n",
      "Loading  D:\\YuLab\\Work\\GPS\\Video\\Kennard\\GPS_08_Kornblum1500SRTSelf\\20231013\\Top\\Clips\\Kennard_20231013_HoldTrial044_TopView.avi\n",
      "Duration of video [s]:  8.0 , recorded with  25.0 fps!\n",
      "Overall # of frames:  200  found with (before cropping) frame dimensions:  1280 1331\n",
      "Starting to extract posture\n",
      "Cropping based on the x1 = 0 x2 = 1280 y1 = 0 y2 = 1024. You can adjust the cropping coordinates in the config.yaml file.\n"
     ]
    },
    {
     "name": "stderr",
     "output_type": "stream",
     "text": [
      "100%|██████████| 200/200 [00:08<00:00, 24.10it/s]\n"
     ]
    },
    {
     "name": "stdout",
     "output_type": "stream",
     "text": [
      "Saving results in D:\\YuLab\\Work\\GPS\\Video\\Kennard\\GPS_08_Kornblum1500SRTSelf\\20231013\\Top\\Clips...\n",
      "Saving csv poses!\n",
      "Starting to analyze %  D:\\YuLab\\Work\\GPS\\Video\\Kennard\\GPS_08_Kornblum1500SRTSelf\\20231013\\Top\\Clips\\Kennard_20231013_HoldTrial045_TopView.avi\n",
      "Loading  D:\\YuLab\\Work\\GPS\\Video\\Kennard\\GPS_08_Kornblum1500SRTSelf\\20231013\\Top\\Clips\\Kennard_20231013_HoldTrial045_TopView.avi\n",
      "Duration of video [s]:  8.0 , recorded with  25.0 fps!\n",
      "Overall # of frames:  200  found with (before cropping) frame dimensions:  1280 1331\n",
      "Starting to extract posture\n",
      "Cropping based on the x1 = 0 x2 = 1280 y1 = 0 y2 = 1024. You can adjust the cropping coordinates in the config.yaml file.\n"
     ]
    },
    {
     "name": "stderr",
     "output_type": "stream",
     "text": [
      "100%|██████████| 200/200 [00:08<00:00, 24.24it/s]\n"
     ]
    },
    {
     "name": "stdout",
     "output_type": "stream",
     "text": [
      "Saving results in D:\\YuLab\\Work\\GPS\\Video\\Kennard\\GPS_08_Kornblum1500SRTSelf\\20231013\\Top\\Clips...\n",
      "Saving csv poses!\n",
      "Starting to analyze %  D:\\YuLab\\Work\\GPS\\Video\\Kennard\\GPS_08_Kornblum1500SRTSelf\\20231013\\Top\\Clips\\Kennard_20231013_HoldTrial046_TopView.avi\n",
      "Loading  D:\\YuLab\\Work\\GPS\\Video\\Kennard\\GPS_08_Kornblum1500SRTSelf\\20231013\\Top\\Clips\\Kennard_20231013_HoldTrial046_TopView.avi\n",
      "Duration of video [s]:  8.0 , recorded with  25.0 fps!\n",
      "Overall # of frames:  200  found with (before cropping) frame dimensions:  1280 1331\n",
      "Starting to extract posture\n",
      "Cropping based on the x1 = 0 x2 = 1280 y1 = 0 y2 = 1024. You can adjust the cropping coordinates in the config.yaml file.\n"
     ]
    },
    {
     "name": "stderr",
     "output_type": "stream",
     "text": [
      "100%|██████████| 200/200 [00:08<00:00, 24.24it/s]\n"
     ]
    },
    {
     "name": "stdout",
     "output_type": "stream",
     "text": [
      "Saving results in D:\\YuLab\\Work\\GPS\\Video\\Kennard\\GPS_08_Kornblum1500SRTSelf\\20231013\\Top\\Clips...\n",
      "Saving csv poses!\n",
      "Starting to analyze %  D:\\YuLab\\Work\\GPS\\Video\\Kennard\\GPS_08_Kornblum1500SRTSelf\\20231013\\Top\\Clips\\Kennard_20231013_HoldTrial047_TopView.avi\n",
      "Loading  D:\\YuLab\\Work\\GPS\\Video\\Kennard\\GPS_08_Kornblum1500SRTSelf\\20231013\\Top\\Clips\\Kennard_20231013_HoldTrial047_TopView.avi\n",
      "Duration of video [s]:  8.0 , recorded with  25.0 fps!\n",
      "Overall # of frames:  200  found with (before cropping) frame dimensions:  1280 1331\n",
      "Starting to extract posture\n",
      "Cropping based on the x1 = 0 x2 = 1280 y1 = 0 y2 = 1024. You can adjust the cropping coordinates in the config.yaml file.\n"
     ]
    },
    {
     "name": "stderr",
     "output_type": "stream",
     "text": [
      "100%|██████████| 200/200 [00:08<00:00, 24.19it/s]\n"
     ]
    },
    {
     "name": "stdout",
     "output_type": "stream",
     "text": [
      "Saving results in D:\\YuLab\\Work\\GPS\\Video\\Kennard\\GPS_08_Kornblum1500SRTSelf\\20231013\\Top\\Clips...\n",
      "Saving csv poses!\n",
      "Starting to analyze %  D:\\YuLab\\Work\\GPS\\Video\\Kennard\\GPS_08_Kornblum1500SRTSelf\\20231013\\Top\\Clips\\Kennard_20231013_HoldTrial048_TopView.avi\n",
      "Loading  D:\\YuLab\\Work\\GPS\\Video\\Kennard\\GPS_08_Kornblum1500SRTSelf\\20231013\\Top\\Clips\\Kennard_20231013_HoldTrial048_TopView.avi\n",
      "Duration of video [s]:  8.04 , recorded with  25.0 fps!\n",
      "Overall # of frames:  201  found with (before cropping) frame dimensions:  1280 1331\n",
      "Starting to extract posture\n",
      "Cropping based on the x1 = 0 x2 = 1280 y1 = 0 y2 = 1024. You can adjust the cropping coordinates in the config.yaml file.\n"
     ]
    },
    {
     "name": "stderr",
     "output_type": "stream",
     "text": [
      "100%|██████████| 201/201 [00:08<00:00, 23.32it/s]\n"
     ]
    },
    {
     "name": "stdout",
     "output_type": "stream",
     "text": [
      "Saving results in D:\\YuLab\\Work\\GPS\\Video\\Kennard\\GPS_08_Kornblum1500SRTSelf\\20231013\\Top\\Clips...\n",
      "Saving csv poses!\n",
      "Starting to analyze %  D:\\YuLab\\Work\\GPS\\Video\\Kennard\\GPS_08_Kornblum1500SRTSelf\\20231013\\Top\\Clips\\Kennard_20231013_HoldTrial049_TopView.avi\n",
      "Loading  D:\\YuLab\\Work\\GPS\\Video\\Kennard\\GPS_08_Kornblum1500SRTSelf\\20231013\\Top\\Clips\\Kennard_20231013_HoldTrial049_TopView.avi\n",
      "Duration of video [s]:  8.04 , recorded with  25.0 fps!\n",
      "Overall # of frames:  201  found with (before cropping) frame dimensions:  1280 1331\n",
      "Starting to extract posture\n",
      "Cropping based on the x1 = 0 x2 = 1280 y1 = 0 y2 = 1024. You can adjust the cropping coordinates in the config.yaml file.\n"
     ]
    },
    {
     "name": "stderr",
     "output_type": "stream",
     "text": [
      "100%|██████████| 201/201 [00:08<00:00, 23.51it/s]\n"
     ]
    },
    {
     "name": "stdout",
     "output_type": "stream",
     "text": [
      "Saving results in D:\\YuLab\\Work\\GPS\\Video\\Kennard\\GPS_08_Kornblum1500SRTSelf\\20231013\\Top\\Clips...\n",
      "Saving csv poses!\n",
      "Starting to analyze %  D:\\YuLab\\Work\\GPS\\Video\\Kennard\\GPS_08_Kornblum1500SRTSelf\\20231013\\Top\\Clips\\Kennard_20231013_HoldTrial050_TopView.avi\n",
      "Loading  D:\\YuLab\\Work\\GPS\\Video\\Kennard\\GPS_08_Kornblum1500SRTSelf\\20231013\\Top\\Clips\\Kennard_20231013_HoldTrial050_TopView.avi\n",
      "Duration of video [s]:  8.04 , recorded with  25.0 fps!\n",
      "Overall # of frames:  201  found with (before cropping) frame dimensions:  1280 1331\n",
      "Starting to extract posture\n",
      "Cropping based on the x1 = 0 x2 = 1280 y1 = 0 y2 = 1024. You can adjust the cropping coordinates in the config.yaml file.\n"
     ]
    },
    {
     "name": "stderr",
     "output_type": "stream",
     "text": [
      "100%|██████████| 201/201 [00:08<00:00, 23.49it/s]\n"
     ]
    },
    {
     "name": "stdout",
     "output_type": "stream",
     "text": [
      "Saving results in D:\\YuLab\\Work\\GPS\\Video\\Kennard\\GPS_08_Kornblum1500SRTSelf\\20231013\\Top\\Clips...\n",
      "Saving csv poses!\n",
      "Starting to analyze %  D:\\YuLab\\Work\\GPS\\Video\\Kennard\\GPS_08_Kornblum1500SRTSelf\\20231013\\Top\\Clips\\Kennard_20231013_HoldTrial051_TopView.avi\n",
      "Loading  D:\\YuLab\\Work\\GPS\\Video\\Kennard\\GPS_08_Kornblum1500SRTSelf\\20231013\\Top\\Clips\\Kennard_20231013_HoldTrial051_TopView.avi\n",
      "Duration of video [s]:  7.96 , recorded with  25.0 fps!\n",
      "Overall # of frames:  199  found with (before cropping) frame dimensions:  1280 1331\n",
      "Starting to extract posture\n",
      "Cropping based on the x1 = 0 x2 = 1280 y1 = 0 y2 = 1024. You can adjust the cropping coordinates in the config.yaml file.\n"
     ]
    },
    {
     "name": "stderr",
     "output_type": "stream",
     "text": [
      "100%|██████████| 199/199 [00:08<00:00, 24.05it/s]\n"
     ]
    },
    {
     "name": "stdout",
     "output_type": "stream",
     "text": [
      "Saving results in D:\\YuLab\\Work\\GPS\\Video\\Kennard\\GPS_08_Kornblum1500SRTSelf\\20231013\\Top\\Clips...\n",
      "Saving csv poses!\n",
      "Starting to analyze %  D:\\YuLab\\Work\\GPS\\Video\\Kennard\\GPS_08_Kornblum1500SRTSelf\\20231013\\Top\\Clips\\Kennard_20231013_HoldTrial052_TopView.avi\n",
      "Loading  D:\\YuLab\\Work\\GPS\\Video\\Kennard\\GPS_08_Kornblum1500SRTSelf\\20231013\\Top\\Clips\\Kennard_20231013_HoldTrial052_TopView.avi\n",
      "Duration of video [s]:  8.04 , recorded with  25.0 fps!\n",
      "Overall # of frames:  201  found with (before cropping) frame dimensions:  1280 1331\n",
      "Starting to extract posture\n",
      "Cropping based on the x1 = 0 x2 = 1280 y1 = 0 y2 = 1024. You can adjust the cropping coordinates in the config.yaml file.\n"
     ]
    },
    {
     "name": "stderr",
     "output_type": "stream",
     "text": [
      "100%|██████████| 201/201 [00:08<00:00, 23.60it/s]\n"
     ]
    },
    {
     "name": "stdout",
     "output_type": "stream",
     "text": [
      "Saving results in D:\\YuLab\\Work\\GPS\\Video\\Kennard\\GPS_08_Kornblum1500SRTSelf\\20231013\\Top\\Clips...\n",
      "Saving csv poses!\n",
      "Starting to analyze %  D:\\YuLab\\Work\\GPS\\Video\\Kennard\\GPS_08_Kornblum1500SRTSelf\\20231013\\Top\\Clips\\Kennard_20231013_HoldTrial053_TopView.avi\n",
      "Loading  D:\\YuLab\\Work\\GPS\\Video\\Kennard\\GPS_08_Kornblum1500SRTSelf\\20231013\\Top\\Clips\\Kennard_20231013_HoldTrial053_TopView.avi\n",
      "Duration of video [s]:  8.0 , recorded with  25.0 fps!\n",
      "Overall # of frames:  200  found with (before cropping) frame dimensions:  1280 1331\n",
      "Starting to extract posture\n",
      "Cropping based on the x1 = 0 x2 = 1280 y1 = 0 y2 = 1024. You can adjust the cropping coordinates in the config.yaml file.\n"
     ]
    },
    {
     "name": "stderr",
     "output_type": "stream",
     "text": [
      "100%|██████████| 200/200 [00:08<00:00, 24.24it/s]\n"
     ]
    },
    {
     "name": "stdout",
     "output_type": "stream",
     "text": [
      "Saving results in D:\\YuLab\\Work\\GPS\\Video\\Kennard\\GPS_08_Kornblum1500SRTSelf\\20231013\\Top\\Clips...\n",
      "Saving csv poses!\n",
      "Starting to analyze %  D:\\YuLab\\Work\\GPS\\Video\\Kennard\\GPS_08_Kornblum1500SRTSelf\\20231013\\Top\\Clips\\Kennard_20231013_HoldTrial054_TopView.avi\n",
      "Loading  D:\\YuLab\\Work\\GPS\\Video\\Kennard\\GPS_08_Kornblum1500SRTSelf\\20231013\\Top\\Clips\\Kennard_20231013_HoldTrial054_TopView.avi\n",
      "Duration of video [s]:  8.04 , recorded with  25.0 fps!\n",
      "Overall # of frames:  201  found with (before cropping) frame dimensions:  1280 1331\n",
      "Starting to extract posture\n",
      "Cropping based on the x1 = 0 x2 = 1280 y1 = 0 y2 = 1024. You can adjust the cropping coordinates in the config.yaml file.\n"
     ]
    },
    {
     "name": "stderr",
     "output_type": "stream",
     "text": [
      "100%|██████████| 201/201 [00:08<00:00, 23.54it/s]\n"
     ]
    },
    {
     "name": "stdout",
     "output_type": "stream",
     "text": [
      "Saving results in D:\\YuLab\\Work\\GPS\\Video\\Kennard\\GPS_08_Kornblum1500SRTSelf\\20231013\\Top\\Clips...\n",
      "Saving csv poses!\n",
      "Starting to analyze %  D:\\YuLab\\Work\\GPS\\Video\\Kennard\\GPS_08_Kornblum1500SRTSelf\\20231013\\Top\\Clips\\Kennard_20231013_HoldTrial055_TopView.avi\n",
      "Loading  D:\\YuLab\\Work\\GPS\\Video\\Kennard\\GPS_08_Kornblum1500SRTSelf\\20231013\\Top\\Clips\\Kennard_20231013_HoldTrial055_TopView.avi\n",
      "Duration of video [s]:  8.0 , recorded with  25.0 fps!\n",
      "Overall # of frames:  200  found with (before cropping) frame dimensions:  1280 1331\n",
      "Starting to extract posture\n",
      "Cropping based on the x1 = 0 x2 = 1280 y1 = 0 y2 = 1024. You can adjust the cropping coordinates in the config.yaml file.\n"
     ]
    },
    {
     "name": "stderr",
     "output_type": "stream",
     "text": [
      "100%|██████████| 200/200 [00:08<00:00, 24.29it/s]\n"
     ]
    },
    {
     "name": "stdout",
     "output_type": "stream",
     "text": [
      "Saving results in D:\\YuLab\\Work\\GPS\\Video\\Kennard\\GPS_08_Kornblum1500SRTSelf\\20231013\\Top\\Clips...\n",
      "Saving csv poses!\n",
      "Starting to analyze %  D:\\YuLab\\Work\\GPS\\Video\\Kennard\\GPS_08_Kornblum1500SRTSelf\\20231013\\Top\\Clips\\Kennard_20231013_HoldTrial056_TopView.avi\n",
      "Loading  D:\\YuLab\\Work\\GPS\\Video\\Kennard\\GPS_08_Kornblum1500SRTSelf\\20231013\\Top\\Clips\\Kennard_20231013_HoldTrial056_TopView.avi\n",
      "Duration of video [s]:  8.04 , recorded with  25.0 fps!\n",
      "Overall # of frames:  201  found with (before cropping) frame dimensions:  1280 1331\n",
      "Starting to extract posture\n",
      "Cropping based on the x1 = 0 x2 = 1280 y1 = 0 y2 = 1024. You can adjust the cropping coordinates in the config.yaml file.\n"
     ]
    },
    {
     "name": "stderr",
     "output_type": "stream",
     "text": [
      "100%|██████████| 201/201 [00:08<00:00, 23.64it/s]\n"
     ]
    },
    {
     "name": "stdout",
     "output_type": "stream",
     "text": [
      "Saving results in D:\\YuLab\\Work\\GPS\\Video\\Kennard\\GPS_08_Kornblum1500SRTSelf\\20231013\\Top\\Clips...\n",
      "Saving csv poses!\n",
      "Starting to analyze %  D:\\YuLab\\Work\\GPS\\Video\\Kennard\\GPS_08_Kornblum1500SRTSelf\\20231013\\Top\\Clips\\Kennard_20231013_HoldTrial057_TopView.avi\n",
      "Loading  D:\\YuLab\\Work\\GPS\\Video\\Kennard\\GPS_08_Kornblum1500SRTSelf\\20231013\\Top\\Clips\\Kennard_20231013_HoldTrial057_TopView.avi\n",
      "Duration of video [s]:  8.04 , recorded with  25.0 fps!\n",
      "Overall # of frames:  201  found with (before cropping) frame dimensions:  1280 1331\n",
      "Starting to extract posture\n",
      "Cropping based on the x1 = 0 x2 = 1280 y1 = 0 y2 = 1024. You can adjust the cropping coordinates in the config.yaml file.\n"
     ]
    },
    {
     "name": "stderr",
     "output_type": "stream",
     "text": [
      "100%|██████████| 201/201 [00:08<00:00, 23.62it/s]\n"
     ]
    },
    {
     "name": "stdout",
     "output_type": "stream",
     "text": [
      "Saving results in D:\\YuLab\\Work\\GPS\\Video\\Kennard\\GPS_08_Kornblum1500SRTSelf\\20231013\\Top\\Clips...\n",
      "Saving csv poses!\n",
      "Starting to analyze %  D:\\YuLab\\Work\\GPS\\Video\\Kennard\\GPS_08_Kornblum1500SRTSelf\\20231013\\Top\\Clips\\Kennard_20231013_HoldTrial058_TopView.avi\n",
      "Loading  D:\\YuLab\\Work\\GPS\\Video\\Kennard\\GPS_08_Kornblum1500SRTSelf\\20231013\\Top\\Clips\\Kennard_20231013_HoldTrial058_TopView.avi\n",
      "Duration of video [s]:  8.0 , recorded with  25.0 fps!\n",
      "Overall # of frames:  200  found with (before cropping) frame dimensions:  1280 1331\n",
      "Starting to extract posture\n",
      "Cropping based on the x1 = 0 x2 = 1280 y1 = 0 y2 = 1024. You can adjust the cropping coordinates in the config.yaml file.\n"
     ]
    },
    {
     "name": "stderr",
     "output_type": "stream",
     "text": [
      "100%|██████████| 200/200 [00:08<00:00, 24.18it/s]\n"
     ]
    },
    {
     "name": "stdout",
     "output_type": "stream",
     "text": [
      "Saving results in D:\\YuLab\\Work\\GPS\\Video\\Kennard\\GPS_08_Kornblum1500SRTSelf\\20231013\\Top\\Clips...\n",
      "Saving csv poses!\n",
      "Starting to analyze %  D:\\YuLab\\Work\\GPS\\Video\\Kennard\\GPS_08_Kornblum1500SRTSelf\\20231013\\Top\\Clips\\Kennard_20231013_HoldTrial059_TopView.avi\n",
      "Loading  D:\\YuLab\\Work\\GPS\\Video\\Kennard\\GPS_08_Kornblum1500SRTSelf\\20231013\\Top\\Clips\\Kennard_20231013_HoldTrial059_TopView.avi\n",
      "Duration of video [s]:  8.04 , recorded with  25.0 fps!\n",
      "Overall # of frames:  201  found with (before cropping) frame dimensions:  1280 1331\n",
      "Starting to extract posture\n",
      "Cropping based on the x1 = 0 x2 = 1280 y1 = 0 y2 = 1024. You can adjust the cropping coordinates in the config.yaml file.\n"
     ]
    },
    {
     "name": "stderr",
     "output_type": "stream",
     "text": [
      "100%|██████████| 201/201 [00:08<00:00, 23.50it/s]\n"
     ]
    },
    {
     "name": "stdout",
     "output_type": "stream",
     "text": [
      "Saving results in D:\\YuLab\\Work\\GPS\\Video\\Kennard\\GPS_08_Kornblum1500SRTSelf\\20231013\\Top\\Clips...\n",
      "Saving csv poses!\n",
      "Starting to analyze %  D:\\YuLab\\Work\\GPS\\Video\\Kennard\\GPS_08_Kornblum1500SRTSelf\\20231013\\Top\\Clips\\Kennard_20231013_HoldTrial060_TopView.avi\n",
      "Loading  D:\\YuLab\\Work\\GPS\\Video\\Kennard\\GPS_08_Kornblum1500SRTSelf\\20231013\\Top\\Clips\\Kennard_20231013_HoldTrial060_TopView.avi\n",
      "Duration of video [s]:  8.0 , recorded with  25.0 fps!\n",
      "Overall # of frames:  200  found with (before cropping) frame dimensions:  1280 1331\n",
      "Starting to extract posture\n",
      "Cropping based on the x1 = 0 x2 = 1280 y1 = 0 y2 = 1024. You can adjust the cropping coordinates in the config.yaml file.\n"
     ]
    },
    {
     "name": "stderr",
     "output_type": "stream",
     "text": [
      "100%|██████████| 200/200 [00:08<00:00, 24.10it/s]\n"
     ]
    },
    {
     "name": "stdout",
     "output_type": "stream",
     "text": [
      "Saving results in D:\\YuLab\\Work\\GPS\\Video\\Kennard\\GPS_08_Kornblum1500SRTSelf\\20231013\\Top\\Clips...\n",
      "Saving csv poses!\n",
      "Starting to analyze %  D:\\YuLab\\Work\\GPS\\Video\\Kennard\\GPS_08_Kornblum1500SRTSelf\\20231013\\Top\\Clips\\Kennard_20231013_HoldTrial061_TopView.avi\n",
      "Loading  D:\\YuLab\\Work\\GPS\\Video\\Kennard\\GPS_08_Kornblum1500SRTSelf\\20231013\\Top\\Clips\\Kennard_20231013_HoldTrial061_TopView.avi\n",
      "Duration of video [s]:  8.04 , recorded with  25.0 fps!\n",
      "Overall # of frames:  201  found with (before cropping) frame dimensions:  1280 1331\n",
      "Starting to extract posture\n",
      "Cropping based on the x1 = 0 x2 = 1280 y1 = 0 y2 = 1024. You can adjust the cropping coordinates in the config.yaml file.\n"
     ]
    },
    {
     "name": "stderr",
     "output_type": "stream",
     "text": [
      "100%|██████████| 201/201 [00:08<00:00, 23.40it/s]\n"
     ]
    },
    {
     "name": "stdout",
     "output_type": "stream",
     "text": [
      "Saving results in D:\\YuLab\\Work\\GPS\\Video\\Kennard\\GPS_08_Kornblum1500SRTSelf\\20231013\\Top\\Clips...\n",
      "Saving csv poses!\n",
      "Starting to analyze %  D:\\YuLab\\Work\\GPS\\Video\\Kennard\\GPS_08_Kornblum1500SRTSelf\\20231013\\Top\\Clips\\Kennard_20231013_HoldTrial062_TopView.avi\n",
      "Loading  D:\\YuLab\\Work\\GPS\\Video\\Kennard\\GPS_08_Kornblum1500SRTSelf\\20231013\\Top\\Clips\\Kennard_20231013_HoldTrial062_TopView.avi\n",
      "Duration of video [s]:  8.04 , recorded with  25.0 fps!\n",
      "Overall # of frames:  201  found with (before cropping) frame dimensions:  1280 1331\n",
      "Starting to extract posture\n",
      "Cropping based on the x1 = 0 x2 = 1280 y1 = 0 y2 = 1024. You can adjust the cropping coordinates in the config.yaml file.\n"
     ]
    },
    {
     "name": "stderr",
     "output_type": "stream",
     "text": [
      "100%|██████████| 201/201 [00:08<00:00, 23.43it/s]\n"
     ]
    },
    {
     "name": "stdout",
     "output_type": "stream",
     "text": [
      "Saving results in D:\\YuLab\\Work\\GPS\\Video\\Kennard\\GPS_08_Kornblum1500SRTSelf\\20231013\\Top\\Clips...\n",
      "Saving csv poses!\n",
      "Starting to analyze %  D:\\YuLab\\Work\\GPS\\Video\\Kennard\\GPS_08_Kornblum1500SRTSelf\\20231013\\Top\\Clips\\Kennard_20231013_HoldTrial063_TopView.avi\n",
      "Loading  D:\\YuLab\\Work\\GPS\\Video\\Kennard\\GPS_08_Kornblum1500SRTSelf\\20231013\\Top\\Clips\\Kennard_20231013_HoldTrial063_TopView.avi\n",
      "Duration of video [s]:  8.04 , recorded with  25.0 fps!\n",
      "Overall # of frames:  201  found with (before cropping) frame dimensions:  1280 1331\n",
      "Starting to extract posture\n",
      "Cropping based on the x1 = 0 x2 = 1280 y1 = 0 y2 = 1024. You can adjust the cropping coordinates in the config.yaml file.\n"
     ]
    },
    {
     "name": "stderr",
     "output_type": "stream",
     "text": [
      "100%|██████████| 201/201 [00:08<00:00, 23.47it/s]\n"
     ]
    },
    {
     "name": "stdout",
     "output_type": "stream",
     "text": [
      "Saving results in D:\\YuLab\\Work\\GPS\\Video\\Kennard\\GPS_08_Kornblum1500SRTSelf\\20231013\\Top\\Clips...\n",
      "Saving csv poses!\n",
      "Starting to analyze %  D:\\YuLab\\Work\\GPS\\Video\\Kennard\\GPS_08_Kornblum1500SRTSelf\\20231013\\Top\\Clips\\Kennard_20231013_HoldTrial064_TopView.avi\n",
      "Loading  D:\\YuLab\\Work\\GPS\\Video\\Kennard\\GPS_08_Kornblum1500SRTSelf\\20231013\\Top\\Clips\\Kennard_20231013_HoldTrial064_TopView.avi\n",
      "Duration of video [s]:  8.0 , recorded with  25.0 fps!\n",
      "Overall # of frames:  200  found with (before cropping) frame dimensions:  1280 1331\n",
      "Starting to extract posture\n",
      "Cropping based on the x1 = 0 x2 = 1280 y1 = 0 y2 = 1024. You can adjust the cropping coordinates in the config.yaml file.\n"
     ]
    },
    {
     "name": "stderr",
     "output_type": "stream",
     "text": [
      "100%|██████████| 200/200 [00:08<00:00, 24.10it/s]\n"
     ]
    },
    {
     "name": "stdout",
     "output_type": "stream",
     "text": [
      "Saving results in D:\\YuLab\\Work\\GPS\\Video\\Kennard\\GPS_08_Kornblum1500SRTSelf\\20231013\\Top\\Clips...\n",
      "Saving csv poses!\n",
      "Starting to analyze %  D:\\YuLab\\Work\\GPS\\Video\\Kennard\\GPS_08_Kornblum1500SRTSelf\\20231013\\Top\\Clips\\Kennard_20231013_HoldTrial065_TopView.avi\n",
      "Loading  D:\\YuLab\\Work\\GPS\\Video\\Kennard\\GPS_08_Kornblum1500SRTSelf\\20231013\\Top\\Clips\\Kennard_20231013_HoldTrial065_TopView.avi\n",
      "Duration of video [s]:  8.04 , recorded with  25.0 fps!\n",
      "Overall # of frames:  201  found with (before cropping) frame dimensions:  1280 1331\n",
      "Starting to extract posture\n",
      "Cropping based on the x1 = 0 x2 = 1280 y1 = 0 y2 = 1024. You can adjust the cropping coordinates in the config.yaml file.\n"
     ]
    },
    {
     "name": "stderr",
     "output_type": "stream",
     "text": [
      "100%|██████████| 201/201 [00:08<00:00, 23.52it/s]\n"
     ]
    },
    {
     "name": "stdout",
     "output_type": "stream",
     "text": [
      "Saving results in D:\\YuLab\\Work\\GPS\\Video\\Kennard\\GPS_08_Kornblum1500SRTSelf\\20231013\\Top\\Clips...\n",
      "Saving csv poses!\n",
      "Starting to analyze %  D:\\YuLab\\Work\\GPS\\Video\\Kennard\\GPS_08_Kornblum1500SRTSelf\\20231013\\Top\\Clips\\Kennard_20231013_HoldTrial066_TopView.avi\n",
      "Loading  D:\\YuLab\\Work\\GPS\\Video\\Kennard\\GPS_08_Kornblum1500SRTSelf\\20231013\\Top\\Clips\\Kennard_20231013_HoldTrial066_TopView.avi\n",
      "Duration of video [s]:  8.04 , recorded with  25.0 fps!\n",
      "Overall # of frames:  201  found with (before cropping) frame dimensions:  1280 1331\n",
      "Starting to extract posture\n",
      "Cropping based on the x1 = 0 x2 = 1280 y1 = 0 y2 = 1024. You can adjust the cropping coordinates in the config.yaml file.\n"
     ]
    },
    {
     "name": "stderr",
     "output_type": "stream",
     "text": [
      "100%|██████████| 201/201 [00:08<00:00, 23.54it/s]\n"
     ]
    },
    {
     "name": "stdout",
     "output_type": "stream",
     "text": [
      "Saving results in D:\\YuLab\\Work\\GPS\\Video\\Kennard\\GPS_08_Kornblum1500SRTSelf\\20231013\\Top\\Clips...\n",
      "Saving csv poses!\n",
      "Starting to analyze %  D:\\YuLab\\Work\\GPS\\Video\\Kennard\\GPS_08_Kornblum1500SRTSelf\\20231013\\Top\\Clips\\Kennard_20231013_HoldTrial067_TopView.avi\n",
      "Loading  D:\\YuLab\\Work\\GPS\\Video\\Kennard\\GPS_08_Kornblum1500SRTSelf\\20231013\\Top\\Clips\\Kennard_20231013_HoldTrial067_TopView.avi\n",
      "Duration of video [s]:  8.0 , recorded with  25.0 fps!\n",
      "Overall # of frames:  200  found with (before cropping) frame dimensions:  1280 1331\n",
      "Starting to extract posture\n",
      "Cropping based on the x1 = 0 x2 = 1280 y1 = 0 y2 = 1024. You can adjust the cropping coordinates in the config.yaml file.\n"
     ]
    },
    {
     "name": "stderr",
     "output_type": "stream",
     "text": [
      "100%|██████████| 200/200 [00:08<00:00, 24.15it/s]\n"
     ]
    },
    {
     "name": "stdout",
     "output_type": "stream",
     "text": [
      "Saving results in D:\\YuLab\\Work\\GPS\\Video\\Kennard\\GPS_08_Kornblum1500SRTSelf\\20231013\\Top\\Clips...\n",
      "Saving csv poses!\n",
      "Starting to analyze %  D:\\YuLab\\Work\\GPS\\Video\\Kennard\\GPS_08_Kornblum1500SRTSelf\\20231013\\Top\\Clips\\Kennard_20231013_HoldTrial068_TopView.avi\n",
      "Loading  D:\\YuLab\\Work\\GPS\\Video\\Kennard\\GPS_08_Kornblum1500SRTSelf\\20231013\\Top\\Clips\\Kennard_20231013_HoldTrial068_TopView.avi\n",
      "Duration of video [s]:  8.0 , recorded with  25.0 fps!\n",
      "Overall # of frames:  200  found with (before cropping) frame dimensions:  1280 1331\n",
      "Starting to extract posture\n",
      "Cropping based on the x1 = 0 x2 = 1280 y1 = 0 y2 = 1024. You can adjust the cropping coordinates in the config.yaml file.\n"
     ]
    },
    {
     "name": "stderr",
     "output_type": "stream",
     "text": [
      "100%|██████████| 200/200 [00:08<00:00, 24.07it/s]\n"
     ]
    },
    {
     "name": "stdout",
     "output_type": "stream",
     "text": [
      "Saving results in D:\\YuLab\\Work\\GPS\\Video\\Kennard\\GPS_08_Kornblum1500SRTSelf\\20231013\\Top\\Clips...\n",
      "Saving csv poses!\n",
      "Starting to analyze %  D:\\YuLab\\Work\\GPS\\Video\\Kennard\\GPS_08_Kornblum1500SRTSelf\\20231013\\Top\\Clips\\Kennard_20231013_HoldTrial069_TopView.avi\n",
      "Loading  D:\\YuLab\\Work\\GPS\\Video\\Kennard\\GPS_08_Kornblum1500SRTSelf\\20231013\\Top\\Clips\\Kennard_20231013_HoldTrial069_TopView.avi\n",
      "Duration of video [s]:  8.04 , recorded with  25.0 fps!\n",
      "Overall # of frames:  201  found with (before cropping) frame dimensions:  1280 1331\n",
      "Starting to extract posture\n",
      "Cropping based on the x1 = 0 x2 = 1280 y1 = 0 y2 = 1024. You can adjust the cropping coordinates in the config.yaml file.\n"
     ]
    },
    {
     "name": "stderr",
     "output_type": "stream",
     "text": [
      "100%|██████████| 201/201 [00:08<00:00, 23.42it/s]\n"
     ]
    },
    {
     "name": "stdout",
     "output_type": "stream",
     "text": [
      "Saving results in D:\\YuLab\\Work\\GPS\\Video\\Kennard\\GPS_08_Kornblum1500SRTSelf\\20231013\\Top\\Clips...\n",
      "Saving csv poses!\n",
      "Starting to analyze %  D:\\YuLab\\Work\\GPS\\Video\\Kennard\\GPS_08_Kornblum1500SRTSelf\\20231013\\Top\\Clips\\Kennard_20231013_HoldTrial070_TopView.avi\n",
      "Loading  D:\\YuLab\\Work\\GPS\\Video\\Kennard\\GPS_08_Kornblum1500SRTSelf\\20231013\\Top\\Clips\\Kennard_20231013_HoldTrial070_TopView.avi\n",
      "Duration of video [s]:  8.04 , recorded with  25.0 fps!\n",
      "Overall # of frames:  201  found with (before cropping) frame dimensions:  1280 1331\n",
      "Starting to extract posture\n",
      "Cropping based on the x1 = 0 x2 = 1280 y1 = 0 y2 = 1024. You can adjust the cropping coordinates in the config.yaml file.\n"
     ]
    },
    {
     "name": "stderr",
     "output_type": "stream",
     "text": [
      "100%|██████████| 201/201 [00:08<00:00, 23.45it/s]\n"
     ]
    },
    {
     "name": "stdout",
     "output_type": "stream",
     "text": [
      "Saving results in D:\\YuLab\\Work\\GPS\\Video\\Kennard\\GPS_08_Kornblum1500SRTSelf\\20231013\\Top\\Clips...\n",
      "Saving csv poses!\n",
      "Starting to analyze %  D:\\YuLab\\Work\\GPS\\Video\\Kennard\\GPS_08_Kornblum1500SRTSelf\\20231013\\Top\\Clips\\Kennard_20231013_HoldTrial071_TopView.avi\n",
      "Loading  D:\\YuLab\\Work\\GPS\\Video\\Kennard\\GPS_08_Kornblum1500SRTSelf\\20231013\\Top\\Clips\\Kennard_20231013_HoldTrial071_TopView.avi\n",
      "Duration of video [s]:  8.0 , recorded with  25.0 fps!\n",
      "Overall # of frames:  200  found with (before cropping) frame dimensions:  1280 1331\n",
      "Starting to extract posture\n",
      "Cropping based on the x1 = 0 x2 = 1280 y1 = 0 y2 = 1024. You can adjust the cropping coordinates in the config.yaml file.\n"
     ]
    },
    {
     "name": "stderr",
     "output_type": "stream",
     "text": [
      "100%|██████████| 200/200 [00:08<00:00, 24.14it/s]\n"
     ]
    },
    {
     "name": "stdout",
     "output_type": "stream",
     "text": [
      "Saving results in D:\\YuLab\\Work\\GPS\\Video\\Kennard\\GPS_08_Kornblum1500SRTSelf\\20231013\\Top\\Clips...\n",
      "Saving csv poses!\n",
      "Starting to analyze %  D:\\YuLab\\Work\\GPS\\Video\\Kennard\\GPS_08_Kornblum1500SRTSelf\\20231013\\Top\\Clips\\Kennard_20231013_HoldTrial072_TopView.avi\n",
      "Loading  D:\\YuLab\\Work\\GPS\\Video\\Kennard\\GPS_08_Kornblum1500SRTSelf\\20231013\\Top\\Clips\\Kennard_20231013_HoldTrial072_TopView.avi\n",
      "Duration of video [s]:  8.04 , recorded with  25.0 fps!\n",
      "Overall # of frames:  201  found with (before cropping) frame dimensions:  1280 1331\n",
      "Starting to extract posture\n",
      "Cropping based on the x1 = 0 x2 = 1280 y1 = 0 y2 = 1024. You can adjust the cropping coordinates in the config.yaml file.\n"
     ]
    },
    {
     "name": "stderr",
     "output_type": "stream",
     "text": [
      "100%|██████████| 201/201 [00:08<00:00, 23.45it/s]\n"
     ]
    },
    {
     "name": "stdout",
     "output_type": "stream",
     "text": [
      "Saving results in D:\\YuLab\\Work\\GPS\\Video\\Kennard\\GPS_08_Kornblum1500SRTSelf\\20231013\\Top\\Clips...\n",
      "Saving csv poses!\n",
      "Starting to analyze %  D:\\YuLab\\Work\\GPS\\Video\\Kennard\\GPS_08_Kornblum1500SRTSelf\\20231013\\Top\\Clips\\Kennard_20231013_HoldTrial073_TopView.avi\n",
      "Loading  D:\\YuLab\\Work\\GPS\\Video\\Kennard\\GPS_08_Kornblum1500SRTSelf\\20231013\\Top\\Clips\\Kennard_20231013_HoldTrial073_TopView.avi\n",
      "Duration of video [s]:  8.04 , recorded with  25.0 fps!\n",
      "Overall # of frames:  201  found with (before cropping) frame dimensions:  1280 1331\n",
      "Starting to extract posture\n",
      "Cropping based on the x1 = 0 x2 = 1280 y1 = 0 y2 = 1024. You can adjust the cropping coordinates in the config.yaml file.\n"
     ]
    },
    {
     "name": "stderr",
     "output_type": "stream",
     "text": [
      "100%|██████████| 201/201 [00:08<00:00, 23.50it/s]\n"
     ]
    },
    {
     "name": "stdout",
     "output_type": "stream",
     "text": [
      "Saving results in D:\\YuLab\\Work\\GPS\\Video\\Kennard\\GPS_08_Kornblum1500SRTSelf\\20231013\\Top\\Clips...\n",
      "Saving csv poses!\n",
      "Starting to analyze %  D:\\YuLab\\Work\\GPS\\Video\\Kennard\\GPS_08_Kornblum1500SRTSelf\\20231013\\Top\\Clips\\Kennard_20231013_HoldTrial074_TopView.avi\n",
      "Loading  D:\\YuLab\\Work\\GPS\\Video\\Kennard\\GPS_08_Kornblum1500SRTSelf\\20231013\\Top\\Clips\\Kennard_20231013_HoldTrial074_TopView.avi\n",
      "Duration of video [s]:  8.04 , recorded with  25.0 fps!\n",
      "Overall # of frames:  201  found with (before cropping) frame dimensions:  1280 1331\n",
      "Starting to extract posture\n",
      "Cropping based on the x1 = 0 x2 = 1280 y1 = 0 y2 = 1024. You can adjust the cropping coordinates in the config.yaml file.\n"
     ]
    },
    {
     "name": "stderr",
     "output_type": "stream",
     "text": [
      "100%|██████████| 201/201 [00:08<00:00, 23.51it/s]\n"
     ]
    },
    {
     "name": "stdout",
     "output_type": "stream",
     "text": [
      "Saving results in D:\\YuLab\\Work\\GPS\\Video\\Kennard\\GPS_08_Kornblum1500SRTSelf\\20231013\\Top\\Clips...\n",
      "Saving csv poses!\n",
      "Starting to analyze %  D:\\YuLab\\Work\\GPS\\Video\\Kennard\\GPS_08_Kornblum1500SRTSelf\\20231013\\Top\\Clips\\Kennard_20231013_HoldTrial075_TopView.avi\n",
      "Loading  D:\\YuLab\\Work\\GPS\\Video\\Kennard\\GPS_08_Kornblum1500SRTSelf\\20231013\\Top\\Clips\\Kennard_20231013_HoldTrial075_TopView.avi\n",
      "Duration of video [s]:  8.04 , recorded with  25.0 fps!\n",
      "Overall # of frames:  201  found with (before cropping) frame dimensions:  1280 1331\n",
      "Starting to extract posture\n",
      "Cropping based on the x1 = 0 x2 = 1280 y1 = 0 y2 = 1024. You can adjust the cropping coordinates in the config.yaml file.\n"
     ]
    },
    {
     "name": "stderr",
     "output_type": "stream",
     "text": [
      "100%|██████████| 201/201 [00:08<00:00, 23.58it/s]\n"
     ]
    },
    {
     "name": "stdout",
     "output_type": "stream",
     "text": [
      "Saving results in D:\\YuLab\\Work\\GPS\\Video\\Kennard\\GPS_08_Kornblum1500SRTSelf\\20231013\\Top\\Clips...\n",
      "Saving csv poses!\n",
      "Starting to analyze %  D:\\YuLab\\Work\\GPS\\Video\\Kennard\\GPS_08_Kornblum1500SRTSelf\\20231013\\Top\\Clips\\Kennard_20231013_HoldTrial076_TopView.avi\n",
      "Loading  D:\\YuLab\\Work\\GPS\\Video\\Kennard\\GPS_08_Kornblum1500SRTSelf\\20231013\\Top\\Clips\\Kennard_20231013_HoldTrial076_TopView.avi\n",
      "Duration of video [s]:  8.0 , recorded with  25.0 fps!\n",
      "Overall # of frames:  200  found with (before cropping) frame dimensions:  1280 1331\n",
      "Starting to extract posture\n",
      "Cropping based on the x1 = 0 x2 = 1280 y1 = 0 y2 = 1024. You can adjust the cropping coordinates in the config.yaml file.\n"
     ]
    },
    {
     "name": "stderr",
     "output_type": "stream",
     "text": [
      "100%|██████████| 200/200 [00:08<00:00, 24.21it/s]\n"
     ]
    },
    {
     "name": "stdout",
     "output_type": "stream",
     "text": [
      "Saving results in D:\\YuLab\\Work\\GPS\\Video\\Kennard\\GPS_08_Kornblum1500SRTSelf\\20231013\\Top\\Clips...\n",
      "Saving csv poses!\n",
      "Starting to analyze %  D:\\YuLab\\Work\\GPS\\Video\\Kennard\\GPS_08_Kornblum1500SRTSelf\\20231013\\Top\\Clips\\Kennard_20231013_HoldTrial077_TopView.avi\n",
      "Loading  D:\\YuLab\\Work\\GPS\\Video\\Kennard\\GPS_08_Kornblum1500SRTSelf\\20231013\\Top\\Clips\\Kennard_20231013_HoldTrial077_TopView.avi\n",
      "Duration of video [s]:  8.0 , recorded with  25.0 fps!\n",
      "Overall # of frames:  200  found with (before cropping) frame dimensions:  1280 1331\n",
      "Starting to extract posture\n",
      "Cropping based on the x1 = 0 x2 = 1280 y1 = 0 y2 = 1024. You can adjust the cropping coordinates in the config.yaml file.\n"
     ]
    },
    {
     "name": "stderr",
     "output_type": "stream",
     "text": [
      "100%|██████████| 200/200 [00:08<00:00, 24.15it/s]\n"
     ]
    },
    {
     "name": "stdout",
     "output_type": "stream",
     "text": [
      "Saving results in D:\\YuLab\\Work\\GPS\\Video\\Kennard\\GPS_08_Kornblum1500SRTSelf\\20231013\\Top\\Clips...\n",
      "Saving csv poses!\n",
      "Starting to analyze %  D:\\YuLab\\Work\\GPS\\Video\\Kennard\\GPS_08_Kornblum1500SRTSelf\\20231013\\Top\\Clips\\Kennard_20231013_HoldTrial078_TopView.avi\n",
      "Loading  D:\\YuLab\\Work\\GPS\\Video\\Kennard\\GPS_08_Kornblum1500SRTSelf\\20231013\\Top\\Clips\\Kennard_20231013_HoldTrial078_TopView.avi\n",
      "Duration of video [s]:  8.04 , recorded with  25.0 fps!\n",
      "Overall # of frames:  201  found with (before cropping) frame dimensions:  1280 1331\n",
      "Starting to extract posture\n",
      "Cropping based on the x1 = 0 x2 = 1280 y1 = 0 y2 = 1024. You can adjust the cropping coordinates in the config.yaml file.\n"
     ]
    },
    {
     "name": "stderr",
     "output_type": "stream",
     "text": [
      "100%|██████████| 201/201 [00:08<00:00, 23.48it/s]\n"
     ]
    },
    {
     "name": "stdout",
     "output_type": "stream",
     "text": [
      "Saving results in D:\\YuLab\\Work\\GPS\\Video\\Kennard\\GPS_08_Kornblum1500SRTSelf\\20231013\\Top\\Clips...\n",
      "Saving csv poses!\n",
      "Starting to analyze %  D:\\YuLab\\Work\\GPS\\Video\\Kennard\\GPS_08_Kornblum1500SRTSelf\\20231013\\Top\\Clips\\Kennard_20231013_HoldTrial079_TopView.avi\n",
      "Loading  D:\\YuLab\\Work\\GPS\\Video\\Kennard\\GPS_08_Kornblum1500SRTSelf\\20231013\\Top\\Clips\\Kennard_20231013_HoldTrial079_TopView.avi\n",
      "Duration of video [s]:  8.04 , recorded with  25.0 fps!\n",
      "Overall # of frames:  201  found with (before cropping) frame dimensions:  1280 1331\n",
      "Starting to extract posture\n",
      "Cropping based on the x1 = 0 x2 = 1280 y1 = 0 y2 = 1024. You can adjust the cropping coordinates in the config.yaml file.\n"
     ]
    },
    {
     "name": "stderr",
     "output_type": "stream",
     "text": [
      "100%|██████████| 201/201 [00:08<00:00, 23.41it/s]\n"
     ]
    },
    {
     "name": "stdout",
     "output_type": "stream",
     "text": [
      "Saving results in D:\\YuLab\\Work\\GPS\\Video\\Kennard\\GPS_08_Kornblum1500SRTSelf\\20231013\\Top\\Clips...\n",
      "Saving csv poses!\n",
      "Starting to analyze %  D:\\YuLab\\Work\\GPS\\Video\\Kennard\\GPS_08_Kornblum1500SRTSelf\\20231013\\Top\\Clips\\Kennard_20231013_HoldTrial080_TopView.avi\n",
      "Loading  D:\\YuLab\\Work\\GPS\\Video\\Kennard\\GPS_08_Kornblum1500SRTSelf\\20231013\\Top\\Clips\\Kennard_20231013_HoldTrial080_TopView.avi\n",
      "Duration of video [s]:  8.04 , recorded with  25.0 fps!\n",
      "Overall # of frames:  201  found with (before cropping) frame dimensions:  1280 1331\n",
      "Starting to extract posture\n",
      "Cropping based on the x1 = 0 x2 = 1280 y1 = 0 y2 = 1024. You can adjust the cropping coordinates in the config.yaml file.\n"
     ]
    },
    {
     "name": "stderr",
     "output_type": "stream",
     "text": [
      "100%|██████████| 201/201 [00:08<00:00, 23.46it/s]\n"
     ]
    },
    {
     "name": "stdout",
     "output_type": "stream",
     "text": [
      "Saving results in D:\\YuLab\\Work\\GPS\\Video\\Kennard\\GPS_08_Kornblum1500SRTSelf\\20231013\\Top\\Clips...\n",
      "Saving csv poses!\n",
      "Starting to analyze %  D:\\YuLab\\Work\\GPS\\Video\\Kennard\\GPS_08_Kornblum1500SRTSelf\\20231013\\Top\\Clips\\Kennard_20231013_HoldTrial081_TopView.avi\n",
      "Loading  D:\\YuLab\\Work\\GPS\\Video\\Kennard\\GPS_08_Kornblum1500SRTSelf\\20231013\\Top\\Clips\\Kennard_20231013_HoldTrial081_TopView.avi\n",
      "Duration of video [s]:  8.0 , recorded with  25.0 fps!\n",
      "Overall # of frames:  200  found with (before cropping) frame dimensions:  1280 1331\n",
      "Starting to extract posture\n",
      "Cropping based on the x1 = 0 x2 = 1280 y1 = 0 y2 = 1024. You can adjust the cropping coordinates in the config.yaml file.\n"
     ]
    },
    {
     "name": "stderr",
     "output_type": "stream",
     "text": [
      "100%|██████████| 200/200 [00:08<00:00, 24.14it/s]\n"
     ]
    },
    {
     "name": "stdout",
     "output_type": "stream",
     "text": [
      "Saving results in D:\\YuLab\\Work\\GPS\\Video\\Kennard\\GPS_08_Kornblum1500SRTSelf\\20231013\\Top\\Clips...\n",
      "Saving csv poses!\n",
      "Starting to analyze %  D:\\YuLab\\Work\\GPS\\Video\\Kennard\\GPS_08_Kornblum1500SRTSelf\\20231013\\Top\\Clips\\Kennard_20231013_HoldTrial082_TopView.avi\n",
      "Loading  D:\\YuLab\\Work\\GPS\\Video\\Kennard\\GPS_08_Kornblum1500SRTSelf\\20231013\\Top\\Clips\\Kennard_20231013_HoldTrial082_TopView.avi\n",
      "Duration of video [s]:  8.04 , recorded with  25.0 fps!\n",
      "Overall # of frames:  201  found with (before cropping) frame dimensions:  1280 1331\n",
      "Starting to extract posture\n",
      "Cropping based on the x1 = 0 x2 = 1280 y1 = 0 y2 = 1024. You can adjust the cropping coordinates in the config.yaml file.\n"
     ]
    },
    {
     "name": "stderr",
     "output_type": "stream",
     "text": [
      "100%|██████████| 201/201 [00:08<00:00, 23.60it/s]\n"
     ]
    },
    {
     "name": "stdout",
     "output_type": "stream",
     "text": [
      "Saving results in D:\\YuLab\\Work\\GPS\\Video\\Kennard\\GPS_08_Kornblum1500SRTSelf\\20231013\\Top\\Clips...\n",
      "Saving csv poses!\n",
      "Starting to analyze %  D:\\YuLab\\Work\\GPS\\Video\\Kennard\\GPS_08_Kornblum1500SRTSelf\\20231013\\Top\\Clips\\Kennard_20231013_HoldTrial083_TopView.avi\n",
      "Loading  D:\\YuLab\\Work\\GPS\\Video\\Kennard\\GPS_08_Kornblum1500SRTSelf\\20231013\\Top\\Clips\\Kennard_20231013_HoldTrial083_TopView.avi\n",
      "Duration of video [s]:  8.0 , recorded with  25.0 fps!\n",
      "Overall # of frames:  200  found with (before cropping) frame dimensions:  1280 1331\n",
      "Starting to extract posture\n",
      "Cropping based on the x1 = 0 x2 = 1280 y1 = 0 y2 = 1024. You can adjust the cropping coordinates in the config.yaml file.\n"
     ]
    },
    {
     "name": "stderr",
     "output_type": "stream",
     "text": [
      "100%|██████████| 200/200 [00:08<00:00, 24.17it/s]\n"
     ]
    },
    {
     "name": "stdout",
     "output_type": "stream",
     "text": [
      "Saving results in D:\\YuLab\\Work\\GPS\\Video\\Kennard\\GPS_08_Kornblum1500SRTSelf\\20231013\\Top\\Clips...\n",
      "Saving csv poses!\n",
      "Starting to analyze %  D:\\YuLab\\Work\\GPS\\Video\\Kennard\\GPS_08_Kornblum1500SRTSelf\\20231013\\Top\\Clips\\Kennard_20231013_HoldTrial084_TopView.avi\n",
      "Loading  D:\\YuLab\\Work\\GPS\\Video\\Kennard\\GPS_08_Kornblum1500SRTSelf\\20231013\\Top\\Clips\\Kennard_20231013_HoldTrial084_TopView.avi\n",
      "Duration of video [s]:  8.04 , recorded with  25.0 fps!\n",
      "Overall # of frames:  201  found with (before cropping) frame dimensions:  1280 1331\n",
      "Starting to extract posture\n",
      "Cropping based on the x1 = 0 x2 = 1280 y1 = 0 y2 = 1024. You can adjust the cropping coordinates in the config.yaml file.\n"
     ]
    },
    {
     "name": "stderr",
     "output_type": "stream",
     "text": [
      "100%|██████████| 201/201 [00:08<00:00, 23.47it/s]\n"
     ]
    },
    {
     "name": "stdout",
     "output_type": "stream",
     "text": [
      "Saving results in D:\\YuLab\\Work\\GPS\\Video\\Kennard\\GPS_08_Kornblum1500SRTSelf\\20231013\\Top\\Clips...\n",
      "Saving csv poses!\n",
      "Starting to analyze %  D:\\YuLab\\Work\\GPS\\Video\\Kennard\\GPS_08_Kornblum1500SRTSelf\\20231013\\Top\\Clips\\Kennard_20231013_HoldTrial085_TopView.avi\n",
      "Loading  D:\\YuLab\\Work\\GPS\\Video\\Kennard\\GPS_08_Kornblum1500SRTSelf\\20231013\\Top\\Clips\\Kennard_20231013_HoldTrial085_TopView.avi\n",
      "Duration of video [s]:  8.04 , recorded with  25.0 fps!\n",
      "Overall # of frames:  201  found with (before cropping) frame dimensions:  1280 1331\n",
      "Starting to extract posture\n",
      "Cropping based on the x1 = 0 x2 = 1280 y1 = 0 y2 = 1024. You can adjust the cropping coordinates in the config.yaml file.\n"
     ]
    },
    {
     "name": "stderr",
     "output_type": "stream",
     "text": [
      "100%|██████████| 201/201 [00:08<00:00, 23.42it/s]\n"
     ]
    },
    {
     "name": "stdout",
     "output_type": "stream",
     "text": [
      "Saving results in D:\\YuLab\\Work\\GPS\\Video\\Kennard\\GPS_08_Kornblum1500SRTSelf\\20231013\\Top\\Clips...\n",
      "Saving csv poses!\n",
      "Starting to analyze %  D:\\YuLab\\Work\\GPS\\Video\\Kennard\\GPS_08_Kornblum1500SRTSelf\\20231013\\Top\\Clips\\Kennard_20231013_HoldTrial086_TopView.avi\n",
      "Loading  D:\\YuLab\\Work\\GPS\\Video\\Kennard\\GPS_08_Kornblum1500SRTSelf\\20231013\\Top\\Clips\\Kennard_20231013_HoldTrial086_TopView.avi\n",
      "Duration of video [s]:  8.04 , recorded with  25.0 fps!\n",
      "Overall # of frames:  201  found with (before cropping) frame dimensions:  1280 1331\n",
      "Starting to extract posture\n",
      "Cropping based on the x1 = 0 x2 = 1280 y1 = 0 y2 = 1024. You can adjust the cropping coordinates in the config.yaml file.\n"
     ]
    },
    {
     "name": "stderr",
     "output_type": "stream",
     "text": [
      "100%|██████████| 201/201 [00:08<00:00, 23.44it/s]\n"
     ]
    },
    {
     "name": "stdout",
     "output_type": "stream",
     "text": [
      "Saving results in D:\\YuLab\\Work\\GPS\\Video\\Kennard\\GPS_08_Kornblum1500SRTSelf\\20231013\\Top\\Clips...\n",
      "Saving csv poses!\n",
      "Starting to analyze %  D:\\YuLab\\Work\\GPS\\Video\\Kennard\\GPS_08_Kornblum1500SRTSelf\\20231013\\Top\\Clips\\Kennard_20231013_HoldTrial087_TopView.avi\n",
      "Loading  D:\\YuLab\\Work\\GPS\\Video\\Kennard\\GPS_08_Kornblum1500SRTSelf\\20231013\\Top\\Clips\\Kennard_20231013_HoldTrial087_TopView.avi\n",
      "Duration of video [s]:  8.0 , recorded with  25.0 fps!\n",
      "Overall # of frames:  200  found with (before cropping) frame dimensions:  1280 1331\n",
      "Starting to extract posture\n",
      "Cropping based on the x1 = 0 x2 = 1280 y1 = 0 y2 = 1024. You can adjust the cropping coordinates in the config.yaml file.\n"
     ]
    },
    {
     "name": "stderr",
     "output_type": "stream",
     "text": [
      "100%|██████████| 200/200 [00:08<00:00, 24.08it/s]\n"
     ]
    },
    {
     "name": "stdout",
     "output_type": "stream",
     "text": [
      "Saving results in D:\\YuLab\\Work\\GPS\\Video\\Kennard\\GPS_08_Kornblum1500SRTSelf\\20231013\\Top\\Clips...\n",
      "Saving csv poses!\n",
      "Starting to analyze %  D:\\YuLab\\Work\\GPS\\Video\\Kennard\\GPS_08_Kornblum1500SRTSelf\\20231013\\Top\\Clips\\Kennard_20231013_HoldTrial088_TopView.avi\n",
      "Loading  D:\\YuLab\\Work\\GPS\\Video\\Kennard\\GPS_08_Kornblum1500SRTSelf\\20231013\\Top\\Clips\\Kennard_20231013_HoldTrial088_TopView.avi\n",
      "Duration of video [s]:  8.04 , recorded with  25.0 fps!\n",
      "Overall # of frames:  201  found with (before cropping) frame dimensions:  1280 1331\n",
      "Starting to extract posture\n",
      "Cropping based on the x1 = 0 x2 = 1280 y1 = 0 y2 = 1024. You can adjust the cropping coordinates in the config.yaml file.\n"
     ]
    },
    {
     "name": "stderr",
     "output_type": "stream",
     "text": [
      "100%|██████████| 201/201 [00:08<00:00, 23.48it/s]\n"
     ]
    },
    {
     "name": "stdout",
     "output_type": "stream",
     "text": [
      "Saving results in D:\\YuLab\\Work\\GPS\\Video\\Kennard\\GPS_08_Kornblum1500SRTSelf\\20231013\\Top\\Clips...\n",
      "Saving csv poses!\n",
      "Starting to analyze %  D:\\YuLab\\Work\\GPS\\Video\\Kennard\\GPS_08_Kornblum1500SRTSelf\\20231013\\Top\\Clips\\Kennard_20231013_HoldTrial089_TopView.avi\n",
      "Loading  D:\\YuLab\\Work\\GPS\\Video\\Kennard\\GPS_08_Kornblum1500SRTSelf\\20231013\\Top\\Clips\\Kennard_20231013_HoldTrial089_TopView.avi\n",
      "Duration of video [s]:  8.04 , recorded with  25.0 fps!\n",
      "Overall # of frames:  201  found with (before cropping) frame dimensions:  1280 1331\n",
      "Starting to extract posture\n",
      "Cropping based on the x1 = 0 x2 = 1280 y1 = 0 y2 = 1024. You can adjust the cropping coordinates in the config.yaml file.\n"
     ]
    },
    {
     "name": "stderr",
     "output_type": "stream",
     "text": [
      "100%|██████████| 201/201 [00:08<00:00, 23.48it/s]\n"
     ]
    },
    {
     "name": "stdout",
     "output_type": "stream",
     "text": [
      "Saving results in D:\\YuLab\\Work\\GPS\\Video\\Kennard\\GPS_08_Kornblum1500SRTSelf\\20231013\\Top\\Clips...\n",
      "Saving csv poses!\n",
      "Starting to analyze %  D:\\YuLab\\Work\\GPS\\Video\\Kennard\\GPS_08_Kornblum1500SRTSelf\\20231013\\Top\\Clips\\Kennard_20231013_HoldTrial090_TopView.avi\n",
      "Loading  D:\\YuLab\\Work\\GPS\\Video\\Kennard\\GPS_08_Kornblum1500SRTSelf\\20231013\\Top\\Clips\\Kennard_20231013_HoldTrial090_TopView.avi\n",
      "Duration of video [s]:  8.0 , recorded with  25.0 fps!\n",
      "Overall # of frames:  200  found with (before cropping) frame dimensions:  1280 1331\n",
      "Starting to extract posture\n",
      "Cropping based on the x1 = 0 x2 = 1280 y1 = 0 y2 = 1024. You can adjust the cropping coordinates in the config.yaml file.\n"
     ]
    },
    {
     "name": "stderr",
     "output_type": "stream",
     "text": [
      "100%|██████████| 200/200 [00:08<00:00, 24.20it/s]\n"
     ]
    },
    {
     "name": "stdout",
     "output_type": "stream",
     "text": [
      "Saving results in D:\\YuLab\\Work\\GPS\\Video\\Kennard\\GPS_08_Kornblum1500SRTSelf\\20231013\\Top\\Clips...\n",
      "Saving csv poses!\n",
      "Starting to analyze %  D:\\YuLab\\Work\\GPS\\Video\\Kennard\\GPS_08_Kornblum1500SRTSelf\\20231013\\Top\\Clips\\Kennard_20231013_HoldTrial091_TopView.avi\n",
      "Loading  D:\\YuLab\\Work\\GPS\\Video\\Kennard\\GPS_08_Kornblum1500SRTSelf\\20231013\\Top\\Clips\\Kennard_20231013_HoldTrial091_TopView.avi\n",
      "Duration of video [s]:  8.0 , recorded with  25.0 fps!\n",
      "Overall # of frames:  200  found with (before cropping) frame dimensions:  1280 1331\n",
      "Starting to extract posture\n",
      "Cropping based on the x1 = 0 x2 = 1280 y1 = 0 y2 = 1024. You can adjust the cropping coordinates in the config.yaml file.\n"
     ]
    },
    {
     "name": "stderr",
     "output_type": "stream",
     "text": [
      "100%|██████████| 200/200 [00:08<00:00, 24.19it/s]\n"
     ]
    },
    {
     "name": "stdout",
     "output_type": "stream",
     "text": [
      "Saving results in D:\\YuLab\\Work\\GPS\\Video\\Kennard\\GPS_08_Kornblum1500SRTSelf\\20231013\\Top\\Clips...\n",
      "Saving csv poses!\n",
      "Starting to analyze %  D:\\YuLab\\Work\\GPS\\Video\\Kennard\\GPS_08_Kornblum1500SRTSelf\\20231013\\Top\\Clips\\Kennard_20231013_HoldTrial092_TopView.avi\n",
      "Loading  D:\\YuLab\\Work\\GPS\\Video\\Kennard\\GPS_08_Kornblum1500SRTSelf\\20231013\\Top\\Clips\\Kennard_20231013_HoldTrial092_TopView.avi\n",
      "Duration of video [s]:  8.04 , recorded with  25.0 fps!\n",
      "Overall # of frames:  201  found with (before cropping) frame dimensions:  1280 1331\n",
      "Starting to extract posture\n",
      "Cropping based on the x1 = 0 x2 = 1280 y1 = 0 y2 = 1024. You can adjust the cropping coordinates in the config.yaml file.\n"
     ]
    },
    {
     "name": "stderr",
     "output_type": "stream",
     "text": [
      "100%|██████████| 201/201 [00:08<00:00, 23.47it/s]\n"
     ]
    },
    {
     "name": "stdout",
     "output_type": "stream",
     "text": [
      "Saving results in D:\\YuLab\\Work\\GPS\\Video\\Kennard\\GPS_08_Kornblum1500SRTSelf\\20231013\\Top\\Clips...\n",
      "Saving csv poses!\n",
      "Starting to analyze %  D:\\YuLab\\Work\\GPS\\Video\\Kennard\\GPS_08_Kornblum1500SRTSelf\\20231013\\Top\\Clips\\Kennard_20231013_HoldTrial093_TopView.avi\n",
      "Loading  D:\\YuLab\\Work\\GPS\\Video\\Kennard\\GPS_08_Kornblum1500SRTSelf\\20231013\\Top\\Clips\\Kennard_20231013_HoldTrial093_TopView.avi\n",
      "Duration of video [s]:  8.04 , recorded with  25.0 fps!\n",
      "Overall # of frames:  201  found with (before cropping) frame dimensions:  1280 1331\n",
      "Starting to extract posture\n",
      "Cropping based on the x1 = 0 x2 = 1280 y1 = 0 y2 = 1024. You can adjust the cropping coordinates in the config.yaml file.\n"
     ]
    },
    {
     "name": "stderr",
     "output_type": "stream",
     "text": [
      "100%|██████████| 201/201 [00:08<00:00, 23.42it/s]\n"
     ]
    },
    {
     "name": "stdout",
     "output_type": "stream",
     "text": [
      "Saving results in D:\\YuLab\\Work\\GPS\\Video\\Kennard\\GPS_08_Kornblum1500SRTSelf\\20231013\\Top\\Clips...\n",
      "Saving csv poses!\n",
      "Starting to analyze %  D:\\YuLab\\Work\\GPS\\Video\\Kennard\\GPS_08_Kornblum1500SRTSelf\\20231013\\Top\\Clips\\Kennard_20231013_HoldTrial094_TopView.avi\n",
      "Loading  D:\\YuLab\\Work\\GPS\\Video\\Kennard\\GPS_08_Kornblum1500SRTSelf\\20231013\\Top\\Clips\\Kennard_20231013_HoldTrial094_TopView.avi\n",
      "Duration of video [s]:  8.0 , recorded with  25.0 fps!\n",
      "Overall # of frames:  200  found with (before cropping) frame dimensions:  1280 1331\n",
      "Starting to extract posture\n",
      "Cropping based on the x1 = 0 x2 = 1280 y1 = 0 y2 = 1024. You can adjust the cropping coordinates in the config.yaml file.\n"
     ]
    },
    {
     "name": "stderr",
     "output_type": "stream",
     "text": [
      "100%|██████████| 200/200 [00:08<00:00, 24.07it/s]\n"
     ]
    },
    {
     "name": "stdout",
     "output_type": "stream",
     "text": [
      "Saving results in D:\\YuLab\\Work\\GPS\\Video\\Kennard\\GPS_08_Kornblum1500SRTSelf\\20231013\\Top\\Clips...\n",
      "Saving csv poses!\n",
      "Starting to analyze %  D:\\YuLab\\Work\\GPS\\Video\\Kennard\\GPS_08_Kornblum1500SRTSelf\\20231013\\Top\\Clips\\Kennard_20231013_HoldTrial095_TopView.avi\n",
      "Loading  D:\\YuLab\\Work\\GPS\\Video\\Kennard\\GPS_08_Kornblum1500SRTSelf\\20231013\\Top\\Clips\\Kennard_20231013_HoldTrial095_TopView.avi\n",
      "Duration of video [s]:  8.04 , recorded with  25.0 fps!\n",
      "Overall # of frames:  201  found with (before cropping) frame dimensions:  1280 1331\n",
      "Starting to extract posture\n",
      "Cropping based on the x1 = 0 x2 = 1280 y1 = 0 y2 = 1024. You can adjust the cropping coordinates in the config.yaml file.\n"
     ]
    },
    {
     "name": "stderr",
     "output_type": "stream",
     "text": [
      "100%|██████████| 201/201 [00:08<00:00, 23.41it/s]\n"
     ]
    },
    {
     "name": "stdout",
     "output_type": "stream",
     "text": [
      "Saving results in D:\\YuLab\\Work\\GPS\\Video\\Kennard\\GPS_08_Kornblum1500SRTSelf\\20231013\\Top\\Clips...\n",
      "Saving csv poses!\n",
      "Starting to analyze %  D:\\YuLab\\Work\\GPS\\Video\\Kennard\\GPS_08_Kornblum1500SRTSelf\\20231013\\Top\\Clips\\Kennard_20231013_HoldTrial096_TopView.avi\n",
      "Loading  D:\\YuLab\\Work\\GPS\\Video\\Kennard\\GPS_08_Kornblum1500SRTSelf\\20231013\\Top\\Clips\\Kennard_20231013_HoldTrial096_TopView.avi\n",
      "Duration of video [s]:  8.0 , recorded with  25.0 fps!\n",
      "Overall # of frames:  200  found with (before cropping) frame dimensions:  1280 1331\n",
      "Starting to extract posture\n",
      "Cropping based on the x1 = 0 x2 = 1280 y1 = 0 y2 = 1024. You can adjust the cropping coordinates in the config.yaml file.\n"
     ]
    },
    {
     "name": "stderr",
     "output_type": "stream",
     "text": [
      "100%|██████████| 200/200 [00:08<00:00, 24.11it/s]\n"
     ]
    },
    {
     "name": "stdout",
     "output_type": "stream",
     "text": [
      "Saving results in D:\\YuLab\\Work\\GPS\\Video\\Kennard\\GPS_08_Kornblum1500SRTSelf\\20231013\\Top\\Clips...\n",
      "Saving csv poses!\n",
      "Starting to analyze %  D:\\YuLab\\Work\\GPS\\Video\\Kennard\\GPS_08_Kornblum1500SRTSelf\\20231013\\Top\\Clips\\Kennard_20231013_HoldTrial097_TopView.avi\n",
      "Loading  D:\\YuLab\\Work\\GPS\\Video\\Kennard\\GPS_08_Kornblum1500SRTSelf\\20231013\\Top\\Clips\\Kennard_20231013_HoldTrial097_TopView.avi\n",
      "Duration of video [s]:  8.0 , recorded with  25.0 fps!\n",
      "Overall # of frames:  200  found with (before cropping) frame dimensions:  1280 1331\n",
      "Starting to extract posture\n",
      "Cropping based on the x1 = 0 x2 = 1280 y1 = 0 y2 = 1024. You can adjust the cropping coordinates in the config.yaml file.\n"
     ]
    },
    {
     "name": "stderr",
     "output_type": "stream",
     "text": [
      "100%|██████████| 200/200 [00:08<00:00, 24.10it/s]\n"
     ]
    },
    {
     "name": "stdout",
     "output_type": "stream",
     "text": [
      "Saving results in D:\\YuLab\\Work\\GPS\\Video\\Kennard\\GPS_08_Kornblum1500SRTSelf\\20231013\\Top\\Clips...\n",
      "Saving csv poses!\n",
      "Starting to analyze %  D:\\YuLab\\Work\\GPS\\Video\\Kennard\\GPS_08_Kornblum1500SRTSelf\\20231013\\Top\\Clips\\Kennard_20231013_HoldTrial098_TopView.avi\n",
      "Loading  D:\\YuLab\\Work\\GPS\\Video\\Kennard\\GPS_08_Kornblum1500SRTSelf\\20231013\\Top\\Clips\\Kennard_20231013_HoldTrial098_TopView.avi\n",
      "Duration of video [s]:  8.04 , recorded with  25.0 fps!\n",
      "Overall # of frames:  201  found with (before cropping) frame dimensions:  1280 1331\n",
      "Starting to extract posture\n",
      "Cropping based on the x1 = 0 x2 = 1280 y1 = 0 y2 = 1024. You can adjust the cropping coordinates in the config.yaml file.\n"
     ]
    },
    {
     "name": "stderr",
     "output_type": "stream",
     "text": [
      "100%|██████████| 201/201 [00:08<00:00, 23.45it/s]\n"
     ]
    },
    {
     "name": "stdout",
     "output_type": "stream",
     "text": [
      "Saving results in D:\\YuLab\\Work\\GPS\\Video\\Kennard\\GPS_08_Kornblum1500SRTSelf\\20231013\\Top\\Clips...\n",
      "Saving csv poses!\n",
      "Starting to analyze %  D:\\YuLab\\Work\\GPS\\Video\\Kennard\\GPS_08_Kornblum1500SRTSelf\\20231013\\Top\\Clips\\Kennard_20231013_HoldTrial099_TopView.avi\n",
      "Loading  D:\\YuLab\\Work\\GPS\\Video\\Kennard\\GPS_08_Kornblum1500SRTSelf\\20231013\\Top\\Clips\\Kennard_20231013_HoldTrial099_TopView.avi\n",
      "Duration of video [s]:  8.04 , recorded with  25.0 fps!\n",
      "Overall # of frames:  201  found with (before cropping) frame dimensions:  1280 1331\n",
      "Starting to extract posture\n",
      "Cropping based on the x1 = 0 x2 = 1280 y1 = 0 y2 = 1024. You can adjust the cropping coordinates in the config.yaml file.\n"
     ]
    },
    {
     "name": "stderr",
     "output_type": "stream",
     "text": [
      "100%|██████████| 201/201 [00:08<00:00, 23.50it/s]\n"
     ]
    },
    {
     "name": "stdout",
     "output_type": "stream",
     "text": [
      "Saving results in D:\\YuLab\\Work\\GPS\\Video\\Kennard\\GPS_08_Kornblum1500SRTSelf\\20231013\\Top\\Clips...\n",
      "Saving csv poses!\n",
      "Starting to analyze %  D:\\YuLab\\Work\\GPS\\Video\\Kennard\\GPS_08_Kornblum1500SRTSelf\\20231013\\Top\\Clips\\Kennard_20231013_HoldTrial100_TopView.avi\n",
      "Loading  D:\\YuLab\\Work\\GPS\\Video\\Kennard\\GPS_08_Kornblum1500SRTSelf\\20231013\\Top\\Clips\\Kennard_20231013_HoldTrial100_TopView.avi\n",
      "Duration of video [s]:  8.0 , recorded with  25.0 fps!\n",
      "Overall # of frames:  200  found with (before cropping) frame dimensions:  1280 1331\n",
      "Starting to extract posture\n",
      "Cropping based on the x1 = 0 x2 = 1280 y1 = 0 y2 = 1024. You can adjust the cropping coordinates in the config.yaml file.\n"
     ]
    },
    {
     "name": "stderr",
     "output_type": "stream",
     "text": [
      "100%|██████████| 200/200 [00:08<00:00, 24.11it/s]\n"
     ]
    },
    {
     "name": "stdout",
     "output_type": "stream",
     "text": [
      "Saving results in D:\\YuLab\\Work\\GPS\\Video\\Kennard\\GPS_08_Kornblum1500SRTSelf\\20231013\\Top\\Clips...\n",
      "Saving csv poses!\n",
      "Starting to analyze %  D:\\YuLab\\Work\\GPS\\Video\\Kennard\\GPS_08_Kornblum1500SRTSelf\\20231013\\Top\\Clips\\Kennard_20231013_HoldTrial101_TopView.avi\n",
      "Loading  D:\\YuLab\\Work\\GPS\\Video\\Kennard\\GPS_08_Kornblum1500SRTSelf\\20231013\\Top\\Clips\\Kennard_20231013_HoldTrial101_TopView.avi\n",
      "Duration of video [s]:  8.04 , recorded with  25.0 fps!\n",
      "Overall # of frames:  201  found with (before cropping) frame dimensions:  1280 1331\n",
      "Starting to extract posture\n",
      "Cropping based on the x1 = 0 x2 = 1280 y1 = 0 y2 = 1024. You can adjust the cropping coordinates in the config.yaml file.\n"
     ]
    },
    {
     "name": "stderr",
     "output_type": "stream",
     "text": [
      "100%|██████████| 201/201 [00:08<00:00, 23.40it/s]\n"
     ]
    },
    {
     "name": "stdout",
     "output_type": "stream",
     "text": [
      "Saving results in D:\\YuLab\\Work\\GPS\\Video\\Kennard\\GPS_08_Kornblum1500SRTSelf\\20231013\\Top\\Clips...\n",
      "Saving csv poses!\n",
      "Starting to analyze %  D:\\YuLab\\Work\\GPS\\Video\\Kennard\\GPS_08_Kornblum1500SRTSelf\\20231013\\Top\\Clips\\Kennard_20231013_HoldTrial102_TopView.avi\n",
      "Loading  D:\\YuLab\\Work\\GPS\\Video\\Kennard\\GPS_08_Kornblum1500SRTSelf\\20231013\\Top\\Clips\\Kennard_20231013_HoldTrial102_TopView.avi\n",
      "Duration of video [s]:  8.0 , recorded with  25.0 fps!\n",
      "Overall # of frames:  200  found with (before cropping) frame dimensions:  1280 1331\n",
      "Starting to extract posture\n",
      "Cropping based on the x1 = 0 x2 = 1280 y1 = 0 y2 = 1024. You can adjust the cropping coordinates in the config.yaml file.\n"
     ]
    },
    {
     "name": "stderr",
     "output_type": "stream",
     "text": [
      "100%|██████████| 200/200 [00:08<00:00, 24.08it/s]\n"
     ]
    },
    {
     "name": "stdout",
     "output_type": "stream",
     "text": [
      "Saving results in D:\\YuLab\\Work\\GPS\\Video\\Kennard\\GPS_08_Kornblum1500SRTSelf\\20231013\\Top\\Clips...\n",
      "Saving csv poses!\n",
      "Starting to analyze %  D:\\YuLab\\Work\\GPS\\Video\\Kennard\\GPS_08_Kornblum1500SRTSelf\\20231013\\Top\\Clips\\Kennard_20231013_HoldTrial103_TopView.avi\n",
      "Loading  D:\\YuLab\\Work\\GPS\\Video\\Kennard\\GPS_08_Kornblum1500SRTSelf\\20231013\\Top\\Clips\\Kennard_20231013_HoldTrial103_TopView.avi\n",
      "Duration of video [s]:  8.04 , recorded with  25.0 fps!\n",
      "Overall # of frames:  201  found with (before cropping) frame dimensions:  1280 1331\n",
      "Starting to extract posture\n",
      "Cropping based on the x1 = 0 x2 = 1280 y1 = 0 y2 = 1024. You can adjust the cropping coordinates in the config.yaml file.\n"
     ]
    },
    {
     "name": "stderr",
     "output_type": "stream",
     "text": [
      "100%|██████████| 201/201 [00:08<00:00, 23.43it/s]\n"
     ]
    },
    {
     "name": "stdout",
     "output_type": "stream",
     "text": [
      "Saving results in D:\\YuLab\\Work\\GPS\\Video\\Kennard\\GPS_08_Kornblum1500SRTSelf\\20231013\\Top\\Clips...\n",
      "Saving csv poses!\n",
      "Starting to analyze %  D:\\YuLab\\Work\\GPS\\Video\\Kennard\\GPS_08_Kornblum1500SRTSelf\\20231013\\Top\\Clips\\Kennard_20231013_HoldTrial104_TopView.avi\n",
      "Loading  D:\\YuLab\\Work\\GPS\\Video\\Kennard\\GPS_08_Kornblum1500SRTSelf\\20231013\\Top\\Clips\\Kennard_20231013_HoldTrial104_TopView.avi\n",
      "Duration of video [s]:  8.04 , recorded with  25.0 fps!\n",
      "Overall # of frames:  201  found with (before cropping) frame dimensions:  1280 1331\n",
      "Starting to extract posture\n",
      "Cropping based on the x1 = 0 x2 = 1280 y1 = 0 y2 = 1024. You can adjust the cropping coordinates in the config.yaml file.\n"
     ]
    },
    {
     "name": "stderr",
     "output_type": "stream",
     "text": [
      "100%|██████████| 201/201 [00:08<00:00, 23.43it/s]\n"
     ]
    },
    {
     "name": "stdout",
     "output_type": "stream",
     "text": [
      "Saving results in D:\\YuLab\\Work\\GPS\\Video\\Kennard\\GPS_08_Kornblum1500SRTSelf\\20231013\\Top\\Clips...\n",
      "Saving csv poses!\n",
      "Starting to analyze %  D:\\YuLab\\Work\\GPS\\Video\\Kennard\\GPS_08_Kornblum1500SRTSelf\\20231013\\Top\\Clips\\Kennard_20231013_HoldTrial105_TopView.avi\n",
      "Loading  D:\\YuLab\\Work\\GPS\\Video\\Kennard\\GPS_08_Kornblum1500SRTSelf\\20231013\\Top\\Clips\\Kennard_20231013_HoldTrial105_TopView.avi\n",
      "Duration of video [s]:  8.04 , recorded with  25.0 fps!\n",
      "Overall # of frames:  201  found with (before cropping) frame dimensions:  1280 1331\n",
      "Starting to extract posture\n",
      "Cropping based on the x1 = 0 x2 = 1280 y1 = 0 y2 = 1024. You can adjust the cropping coordinates in the config.yaml file.\n"
     ]
    },
    {
     "name": "stderr",
     "output_type": "stream",
     "text": [
      "100%|██████████| 201/201 [00:08<00:00, 23.43it/s]\n"
     ]
    },
    {
     "name": "stdout",
     "output_type": "stream",
     "text": [
      "Saving results in D:\\YuLab\\Work\\GPS\\Video\\Kennard\\GPS_08_Kornblum1500SRTSelf\\20231013\\Top\\Clips...\n",
      "Saving csv poses!\n",
      "Starting to analyze %  D:\\YuLab\\Work\\GPS\\Video\\Kennard\\GPS_08_Kornblum1500SRTSelf\\20231013\\Top\\Clips\\Kennard_20231013_HoldTrial106_TopView.avi\n",
      "Loading  D:\\YuLab\\Work\\GPS\\Video\\Kennard\\GPS_08_Kornblum1500SRTSelf\\20231013\\Top\\Clips\\Kennard_20231013_HoldTrial106_TopView.avi\n",
      "Duration of video [s]:  7.96 , recorded with  25.0 fps!\n",
      "Overall # of frames:  199  found with (before cropping) frame dimensions:  1280 1331\n",
      "Starting to extract posture\n",
      "Cropping based on the x1 = 0 x2 = 1280 y1 = 0 y2 = 1024. You can adjust the cropping coordinates in the config.yaml file.\n"
     ]
    },
    {
     "name": "stderr",
     "output_type": "stream",
     "text": [
      "100%|██████████| 199/199 [00:08<00:00, 23.92it/s]\n"
     ]
    },
    {
     "name": "stdout",
     "output_type": "stream",
     "text": [
      "Saving results in D:\\YuLab\\Work\\GPS\\Video\\Kennard\\GPS_08_Kornblum1500SRTSelf\\20231013\\Top\\Clips...\n",
      "Saving csv poses!\n",
      "Starting to analyze %  D:\\YuLab\\Work\\GPS\\Video\\Kennard\\GPS_08_Kornblum1500SRTSelf\\20231013\\Top\\Clips\\Kennard_20231013_HoldTrial107_TopView.avi\n",
      "Loading  D:\\YuLab\\Work\\GPS\\Video\\Kennard\\GPS_08_Kornblum1500SRTSelf\\20231013\\Top\\Clips\\Kennard_20231013_HoldTrial107_TopView.avi\n",
      "Duration of video [s]:  8.04 , recorded with  25.0 fps!\n",
      "Overall # of frames:  201  found with (before cropping) frame dimensions:  1280 1331\n",
      "Starting to extract posture\n",
      "Cropping based on the x1 = 0 x2 = 1280 y1 = 0 y2 = 1024. You can adjust the cropping coordinates in the config.yaml file.\n"
     ]
    },
    {
     "name": "stderr",
     "output_type": "stream",
     "text": [
      "100%|██████████| 201/201 [00:08<00:00, 23.46it/s]\n"
     ]
    },
    {
     "name": "stdout",
     "output_type": "stream",
     "text": [
      "Saving results in D:\\YuLab\\Work\\GPS\\Video\\Kennard\\GPS_08_Kornblum1500SRTSelf\\20231013\\Top\\Clips...\n",
      "Saving csv poses!\n",
      "Starting to analyze %  D:\\YuLab\\Work\\GPS\\Video\\Kennard\\GPS_08_Kornblum1500SRTSelf\\20231013\\Top\\Clips\\Kennard_20231013_HoldTrial108_TopView.avi\n",
      "Loading  D:\\YuLab\\Work\\GPS\\Video\\Kennard\\GPS_08_Kornblum1500SRTSelf\\20231013\\Top\\Clips\\Kennard_20231013_HoldTrial108_TopView.avi\n",
      "Duration of video [s]:  8.04 , recorded with  25.0 fps!\n",
      "Overall # of frames:  201  found with (before cropping) frame dimensions:  1280 1331\n",
      "Starting to extract posture\n",
      "Cropping based on the x1 = 0 x2 = 1280 y1 = 0 y2 = 1024. You can adjust the cropping coordinates in the config.yaml file.\n"
     ]
    },
    {
     "name": "stderr",
     "output_type": "stream",
     "text": [
      "100%|██████████| 201/201 [00:08<00:00, 23.55it/s]\n"
     ]
    },
    {
     "name": "stdout",
     "output_type": "stream",
     "text": [
      "Saving results in D:\\YuLab\\Work\\GPS\\Video\\Kennard\\GPS_08_Kornblum1500SRTSelf\\20231013\\Top\\Clips...\n",
      "Saving csv poses!\n",
      "Starting to analyze %  D:\\YuLab\\Work\\GPS\\Video\\Kennard\\GPS_08_Kornblum1500SRTSelf\\20231013\\Top\\Clips\\Kennard_20231013_HoldTrial109_TopView.avi\n",
      "Loading  D:\\YuLab\\Work\\GPS\\Video\\Kennard\\GPS_08_Kornblum1500SRTSelf\\20231013\\Top\\Clips\\Kennard_20231013_HoldTrial109_TopView.avi\n",
      "Duration of video [s]:  8.04 , recorded with  25.0 fps!\n",
      "Overall # of frames:  201  found with (before cropping) frame dimensions:  1280 1331\n",
      "Starting to extract posture\n",
      "Cropping based on the x1 = 0 x2 = 1280 y1 = 0 y2 = 1024. You can adjust the cropping coordinates in the config.yaml file.\n"
     ]
    },
    {
     "name": "stderr",
     "output_type": "stream",
     "text": [
      "100%|██████████| 201/201 [00:08<00:00, 23.54it/s]\n"
     ]
    },
    {
     "name": "stdout",
     "output_type": "stream",
     "text": [
      "Saving results in D:\\YuLab\\Work\\GPS\\Video\\Kennard\\GPS_08_Kornblum1500SRTSelf\\20231013\\Top\\Clips...\n",
      "Saving csv poses!\n",
      "Starting to analyze %  D:\\YuLab\\Work\\GPS\\Video\\Kennard\\GPS_08_Kornblum1500SRTSelf\\20231013\\Top\\Clips\\Kennard_20231013_HoldTrial110_TopView.avi\n",
      "Loading  D:\\YuLab\\Work\\GPS\\Video\\Kennard\\GPS_08_Kornblum1500SRTSelf\\20231013\\Top\\Clips\\Kennard_20231013_HoldTrial110_TopView.avi\n",
      "Duration of video [s]:  8.0 , recorded with  25.0 fps!\n",
      "Overall # of frames:  200  found with (before cropping) frame dimensions:  1280 1331\n",
      "Starting to extract posture\n",
      "Cropping based on the x1 = 0 x2 = 1280 y1 = 0 y2 = 1024. You can adjust the cropping coordinates in the config.yaml file.\n"
     ]
    },
    {
     "name": "stderr",
     "output_type": "stream",
     "text": [
      "100%|██████████| 200/200 [00:08<00:00, 24.14it/s]\n"
     ]
    },
    {
     "name": "stdout",
     "output_type": "stream",
     "text": [
      "Saving results in D:\\YuLab\\Work\\GPS\\Video\\Kennard\\GPS_08_Kornblum1500SRTSelf\\20231013\\Top\\Clips...\n",
      "Saving csv poses!\n",
      "Starting to analyze %  D:\\YuLab\\Work\\GPS\\Video\\Kennard\\GPS_08_Kornblum1500SRTSelf\\20231013\\Top\\Clips\\Kennard_20231013_HoldTrial111_TopView.avi\n",
      "Loading  D:\\YuLab\\Work\\GPS\\Video\\Kennard\\GPS_08_Kornblum1500SRTSelf\\20231013\\Top\\Clips\\Kennard_20231013_HoldTrial111_TopView.avi\n",
      "Duration of video [s]:  8.04 , recorded with  25.0 fps!\n",
      "Overall # of frames:  201  found with (before cropping) frame dimensions:  1280 1331\n",
      "Starting to extract posture\n",
      "Cropping based on the x1 = 0 x2 = 1280 y1 = 0 y2 = 1024. You can adjust the cropping coordinates in the config.yaml file.\n"
     ]
    },
    {
     "name": "stderr",
     "output_type": "stream",
     "text": [
      "100%|██████████| 201/201 [00:08<00:00, 23.44it/s]\n"
     ]
    },
    {
     "name": "stdout",
     "output_type": "stream",
     "text": [
      "Saving results in D:\\YuLab\\Work\\GPS\\Video\\Kennard\\GPS_08_Kornblum1500SRTSelf\\20231013\\Top\\Clips...\n",
      "Saving csv poses!\n",
      "Starting to analyze %  D:\\YuLab\\Work\\GPS\\Video\\Kennard\\GPS_08_Kornblum1500SRTSelf\\20231013\\Top\\Clips\\Kennard_20231013_HoldTrial112_TopView.avi\n",
      "Loading  D:\\YuLab\\Work\\GPS\\Video\\Kennard\\GPS_08_Kornblum1500SRTSelf\\20231013\\Top\\Clips\\Kennard_20231013_HoldTrial112_TopView.avi\n",
      "Duration of video [s]:  8.0 , recorded with  25.0 fps!\n",
      "Overall # of frames:  200  found with (before cropping) frame dimensions:  1280 1331\n",
      "Starting to extract posture\n",
      "Cropping based on the x1 = 0 x2 = 1280 y1 = 0 y2 = 1024. You can adjust the cropping coordinates in the config.yaml file.\n"
     ]
    },
    {
     "name": "stderr",
     "output_type": "stream",
     "text": [
      "100%|██████████| 200/200 [00:08<00:00, 24.07it/s]\n"
     ]
    },
    {
     "name": "stdout",
     "output_type": "stream",
     "text": [
      "Saving results in D:\\YuLab\\Work\\GPS\\Video\\Kennard\\GPS_08_Kornblum1500SRTSelf\\20231013\\Top\\Clips...\n",
      "Saving csv poses!\n",
      "Starting to analyze %  D:\\YuLab\\Work\\GPS\\Video\\Kennard\\GPS_08_Kornblum1500SRTSelf\\20231013\\Top\\Clips\\Kennard_20231013_HoldTrial113_TopView.avi\n",
      "Loading  D:\\YuLab\\Work\\GPS\\Video\\Kennard\\GPS_08_Kornblum1500SRTSelf\\20231013\\Top\\Clips\\Kennard_20231013_HoldTrial113_TopView.avi\n",
      "Duration of video [s]:  8.04 , recorded with  25.0 fps!\n",
      "Overall # of frames:  201  found with (before cropping) frame dimensions:  1280 1331\n",
      "Starting to extract posture\n",
      "Cropping based on the x1 = 0 x2 = 1280 y1 = 0 y2 = 1024. You can adjust the cropping coordinates in the config.yaml file.\n"
     ]
    },
    {
     "name": "stderr",
     "output_type": "stream",
     "text": [
      "100%|██████████| 201/201 [00:08<00:00, 23.46it/s]\n"
     ]
    },
    {
     "name": "stdout",
     "output_type": "stream",
     "text": [
      "Saving results in D:\\YuLab\\Work\\GPS\\Video\\Kennard\\GPS_08_Kornblum1500SRTSelf\\20231013\\Top\\Clips...\n",
      "Saving csv poses!\n",
      "Starting to analyze %  D:\\YuLab\\Work\\GPS\\Video\\Kennard\\GPS_08_Kornblum1500SRTSelf\\20231013\\Top\\Clips\\Kennard_20231013_HoldTrial114_TopView.avi\n",
      "Loading  D:\\YuLab\\Work\\GPS\\Video\\Kennard\\GPS_08_Kornblum1500SRTSelf\\20231013\\Top\\Clips\\Kennard_20231013_HoldTrial114_TopView.avi\n",
      "Duration of video [s]:  8.0 , recorded with  25.0 fps!\n",
      "Overall # of frames:  200  found with (before cropping) frame dimensions:  1280 1331\n",
      "Starting to extract posture\n",
      "Cropping based on the x1 = 0 x2 = 1280 y1 = 0 y2 = 1024. You can adjust the cropping coordinates in the config.yaml file.\n"
     ]
    },
    {
     "name": "stderr",
     "output_type": "stream",
     "text": [
      "100%|██████████| 200/200 [00:08<00:00, 24.07it/s]\n"
     ]
    },
    {
     "name": "stdout",
     "output_type": "stream",
     "text": [
      "Saving results in D:\\YuLab\\Work\\GPS\\Video\\Kennard\\GPS_08_Kornblum1500SRTSelf\\20231013\\Top\\Clips...\n",
      "Saving csv poses!\n",
      "Starting to analyze %  D:\\YuLab\\Work\\GPS\\Video\\Kennard\\GPS_08_Kornblum1500SRTSelf\\20231013\\Top\\Clips\\Kennard_20231013_HoldTrial115_TopView.avi\n",
      "Loading  D:\\YuLab\\Work\\GPS\\Video\\Kennard\\GPS_08_Kornblum1500SRTSelf\\20231013\\Top\\Clips\\Kennard_20231013_HoldTrial115_TopView.avi\n",
      "Duration of video [s]:  7.96 , recorded with  25.0 fps!\n",
      "Overall # of frames:  199  found with (before cropping) frame dimensions:  1280 1331\n",
      "Starting to extract posture\n",
      "Cropping based on the x1 = 0 x2 = 1280 y1 = 0 y2 = 1024. You can adjust the cropping coordinates in the config.yaml file.\n"
     ]
    },
    {
     "name": "stderr",
     "output_type": "stream",
     "text": [
      "100%|██████████| 199/199 [00:08<00:00, 23.97it/s]\n"
     ]
    },
    {
     "name": "stdout",
     "output_type": "stream",
     "text": [
      "Saving results in D:\\YuLab\\Work\\GPS\\Video\\Kennard\\GPS_08_Kornblum1500SRTSelf\\20231013\\Top\\Clips...\n",
      "Saving csv poses!\n",
      "Starting to analyze %  D:\\YuLab\\Work\\GPS\\Video\\Kennard\\GPS_08_Kornblum1500SRTSelf\\20231013\\Top\\Clips\\Kennard_20231013_HoldTrial116_TopView.avi\n",
      "Loading  D:\\YuLab\\Work\\GPS\\Video\\Kennard\\GPS_08_Kornblum1500SRTSelf\\20231013\\Top\\Clips\\Kennard_20231013_HoldTrial116_TopView.avi\n",
      "Duration of video [s]:  8.04 , recorded with  25.0 fps!\n",
      "Overall # of frames:  201  found with (before cropping) frame dimensions:  1280 1331\n",
      "Starting to extract posture\n",
      "Cropping based on the x1 = 0 x2 = 1280 y1 = 0 y2 = 1024. You can adjust the cropping coordinates in the config.yaml file.\n"
     ]
    },
    {
     "name": "stderr",
     "output_type": "stream",
     "text": [
      "100%|██████████| 201/201 [00:08<00:00, 23.56it/s]\n"
     ]
    },
    {
     "name": "stdout",
     "output_type": "stream",
     "text": [
      "Saving results in D:\\YuLab\\Work\\GPS\\Video\\Kennard\\GPS_08_Kornblum1500SRTSelf\\20231013\\Top\\Clips...\n",
      "Saving csv poses!\n",
      "Starting to analyze %  D:\\YuLab\\Work\\GPS\\Video\\Kennard\\GPS_08_Kornblum1500SRTSelf\\20231013\\Top\\Clips\\Kennard_20231013_HoldTrial117_TopView.avi\n",
      "Loading  D:\\YuLab\\Work\\GPS\\Video\\Kennard\\GPS_08_Kornblum1500SRTSelf\\20231013\\Top\\Clips\\Kennard_20231013_HoldTrial117_TopView.avi\n",
      "Duration of video [s]:  8.0 , recorded with  25.0 fps!\n",
      "Overall # of frames:  200  found with (before cropping) frame dimensions:  1280 1331\n",
      "Starting to extract posture\n",
      "Cropping based on the x1 = 0 x2 = 1280 y1 = 0 y2 = 1024. You can adjust the cropping coordinates in the config.yaml file.\n"
     ]
    },
    {
     "name": "stderr",
     "output_type": "stream",
     "text": [
      "100%|██████████| 200/200 [00:08<00:00, 24.20it/s]\n"
     ]
    },
    {
     "name": "stdout",
     "output_type": "stream",
     "text": [
      "Saving results in D:\\YuLab\\Work\\GPS\\Video\\Kennard\\GPS_08_Kornblum1500SRTSelf\\20231013\\Top\\Clips...\n",
      "Saving csv poses!\n",
      "Starting to analyze %  D:\\YuLab\\Work\\GPS\\Video\\Kennard\\GPS_08_Kornblum1500SRTSelf\\20231013\\Top\\Clips\\Kennard_20231013_HoldTrial118_TopView.avi\n",
      "Loading  D:\\YuLab\\Work\\GPS\\Video\\Kennard\\GPS_08_Kornblum1500SRTSelf\\20231013\\Top\\Clips\\Kennard_20231013_HoldTrial118_TopView.avi\n",
      "Duration of video [s]:  8.04 , recorded with  25.0 fps!\n",
      "Overall # of frames:  201  found with (before cropping) frame dimensions:  1280 1331\n",
      "Starting to extract posture\n",
      "Cropping based on the x1 = 0 x2 = 1280 y1 = 0 y2 = 1024. You can adjust the cropping coordinates in the config.yaml file.\n"
     ]
    },
    {
     "name": "stderr",
     "output_type": "stream",
     "text": [
      "100%|██████████| 201/201 [00:08<00:00, 23.50it/s]\n"
     ]
    },
    {
     "name": "stdout",
     "output_type": "stream",
     "text": [
      "Saving results in D:\\YuLab\\Work\\GPS\\Video\\Kennard\\GPS_08_Kornblum1500SRTSelf\\20231013\\Top\\Clips...\n",
      "Saving csv poses!\n",
      "Starting to analyze %  D:\\YuLab\\Work\\GPS\\Video\\Kennard\\GPS_08_Kornblum1500SRTSelf\\20231014\\Top\\Clips\\Kennard_20231014_HoldTrial114_TopView.avi\n",
      "Loading  D:\\YuLab\\Work\\GPS\\Video\\Kennard\\GPS_08_Kornblum1500SRTSelf\\20231014\\Top\\Clips\\Kennard_20231014_HoldTrial114_TopView.avi\n",
      "Duration of video [s]:  8.0 , recorded with  25.0 fps!\n",
      "Overall # of frames:  200  found with (before cropping) frame dimensions:  1280 1331\n",
      "Starting to extract posture\n",
      "Cropping based on the x1 = 0 x2 = 1280 y1 = 0 y2 = 1024. You can adjust the cropping coordinates in the config.yaml file.\n"
     ]
    },
    {
     "name": "stderr",
     "output_type": "stream",
     "text": [
      "100%|██████████| 200/200 [00:08<00:00, 24.09it/s]\n"
     ]
    },
    {
     "name": "stdout",
     "output_type": "stream",
     "text": [
      "Saving results in D:\\YuLab\\Work\\GPS\\Video\\Kennard\\GPS_08_Kornblum1500SRTSelf\\20231014\\Top\\Clips...\n",
      "Saving csv poses!\n",
      "Starting to analyze %  D:\\YuLab\\Work\\GPS\\Video\\Kennard\\GPS_08_Kornblum1500SRTSelf\\20231014\\Top\\Clips\\Kennard_20231014_HoldTrial011_TopView.avi\n",
      "Loading  D:\\YuLab\\Work\\GPS\\Video\\Kennard\\GPS_08_Kornblum1500SRTSelf\\20231014\\Top\\Clips\\Kennard_20231014_HoldTrial011_TopView.avi\n",
      "Duration of video [s]:  8.04 , recorded with  25.0 fps!\n",
      "Overall # of frames:  201  found with (before cropping) frame dimensions:  1280 1331\n",
      "Starting to extract posture\n",
      "Cropping based on the x1 = 0 x2 = 1280 y1 = 0 y2 = 1024. You can adjust the cropping coordinates in the config.yaml file.\n"
     ]
    },
    {
     "name": "stderr",
     "output_type": "stream",
     "text": [
      "100%|██████████| 201/201 [00:08<00:00, 23.46it/s]\n"
     ]
    },
    {
     "name": "stdout",
     "output_type": "stream",
     "text": [
      "Saving results in D:\\YuLab\\Work\\GPS\\Video\\Kennard\\GPS_08_Kornblum1500SRTSelf\\20231014\\Top\\Clips...\n",
      "Saving csv poses!\n",
      "Starting to analyze %  D:\\YuLab\\Work\\GPS\\Video\\Kennard\\GPS_08_Kornblum1500SRTSelf\\20231014\\Top\\Clips\\Kennard_20231014_HoldTrial012_TopView.avi\n",
      "Loading  D:\\YuLab\\Work\\GPS\\Video\\Kennard\\GPS_08_Kornblum1500SRTSelf\\20231014\\Top\\Clips\\Kennard_20231014_HoldTrial012_TopView.avi\n",
      "Duration of video [s]:  8.04 , recorded with  25.0 fps!\n",
      "Overall # of frames:  201  found with (before cropping) frame dimensions:  1280 1331\n",
      "Starting to extract posture\n",
      "Cropping based on the x1 = 0 x2 = 1280 y1 = 0 y2 = 1024. You can adjust the cropping coordinates in the config.yaml file.\n"
     ]
    },
    {
     "name": "stderr",
     "output_type": "stream",
     "text": [
      "100%|██████████| 201/201 [00:08<00:00, 23.48it/s]\n"
     ]
    },
    {
     "name": "stdout",
     "output_type": "stream",
     "text": [
      "Saving results in D:\\YuLab\\Work\\GPS\\Video\\Kennard\\GPS_08_Kornblum1500SRTSelf\\20231014\\Top\\Clips...\n",
      "Saving csv poses!\n",
      "Starting to analyze %  D:\\YuLab\\Work\\GPS\\Video\\Kennard\\GPS_08_Kornblum1500SRTSelf\\20231014\\Top\\Clips\\Kennard_20231014_HoldTrial013_TopView.avi\n",
      "Loading  D:\\YuLab\\Work\\GPS\\Video\\Kennard\\GPS_08_Kornblum1500SRTSelf\\20231014\\Top\\Clips\\Kennard_20231014_HoldTrial013_TopView.avi\n",
      "Duration of video [s]:  8.04 , recorded with  25.0 fps!\n",
      "Overall # of frames:  201  found with (before cropping) frame dimensions:  1280 1331\n",
      "Starting to extract posture\n",
      "Cropping based on the x1 = 0 x2 = 1280 y1 = 0 y2 = 1024. You can adjust the cropping coordinates in the config.yaml file.\n"
     ]
    },
    {
     "name": "stderr",
     "output_type": "stream",
     "text": [
      "100%|██████████| 201/201 [00:08<00:00, 23.47it/s]\n"
     ]
    },
    {
     "name": "stdout",
     "output_type": "stream",
     "text": [
      "Saving results in D:\\YuLab\\Work\\GPS\\Video\\Kennard\\GPS_08_Kornblum1500SRTSelf\\20231014\\Top\\Clips...\n",
      "Saving csv poses!\n",
      "Starting to analyze %  D:\\YuLab\\Work\\GPS\\Video\\Kennard\\GPS_08_Kornblum1500SRTSelf\\20231014\\Top\\Clips\\Kennard_20231014_HoldTrial014_TopView.avi\n",
      "Loading  D:\\YuLab\\Work\\GPS\\Video\\Kennard\\GPS_08_Kornblum1500SRTSelf\\20231014\\Top\\Clips\\Kennard_20231014_HoldTrial014_TopView.avi\n",
      "Duration of video [s]:  8.0 , recorded with  25.0 fps!\n",
      "Overall # of frames:  200  found with (before cropping) frame dimensions:  1280 1331\n",
      "Starting to extract posture\n",
      "Cropping based on the x1 = 0 x2 = 1280 y1 = 0 y2 = 1024. You can adjust the cropping coordinates in the config.yaml file.\n"
     ]
    },
    {
     "name": "stderr",
     "output_type": "stream",
     "text": [
      "100%|██████████| 200/200 [00:08<00:00, 24.15it/s]\n"
     ]
    },
    {
     "name": "stdout",
     "output_type": "stream",
     "text": [
      "Saving results in D:\\YuLab\\Work\\GPS\\Video\\Kennard\\GPS_08_Kornblum1500SRTSelf\\20231014\\Top\\Clips...\n",
      "Saving csv poses!\n",
      "Starting to analyze %  D:\\YuLab\\Work\\GPS\\Video\\Kennard\\GPS_08_Kornblum1500SRTSelf\\20231014\\Top\\Clips\\Kennard_20231014_HoldTrial015_TopView.avi\n",
      "Loading  D:\\YuLab\\Work\\GPS\\Video\\Kennard\\GPS_08_Kornblum1500SRTSelf\\20231014\\Top\\Clips\\Kennard_20231014_HoldTrial015_TopView.avi\n",
      "Duration of video [s]:  8.04 , recorded with  25.0 fps!\n",
      "Overall # of frames:  201  found with (before cropping) frame dimensions:  1280 1331\n",
      "Starting to extract posture\n",
      "Cropping based on the x1 = 0 x2 = 1280 y1 = 0 y2 = 1024. You can adjust the cropping coordinates in the config.yaml file.\n"
     ]
    },
    {
     "name": "stderr",
     "output_type": "stream",
     "text": [
      "100%|██████████| 201/201 [00:08<00:00, 23.46it/s]\n"
     ]
    },
    {
     "name": "stdout",
     "output_type": "stream",
     "text": [
      "Saving results in D:\\YuLab\\Work\\GPS\\Video\\Kennard\\GPS_08_Kornblum1500SRTSelf\\20231014\\Top\\Clips...\n",
      "Saving csv poses!\n",
      "Starting to analyze %  D:\\YuLab\\Work\\GPS\\Video\\Kennard\\GPS_08_Kornblum1500SRTSelf\\20231014\\Top\\Clips\\Kennard_20231014_HoldTrial016_TopView.avi\n",
      "Loading  D:\\YuLab\\Work\\GPS\\Video\\Kennard\\GPS_08_Kornblum1500SRTSelf\\20231014\\Top\\Clips\\Kennard_20231014_HoldTrial016_TopView.avi\n",
      "Duration of video [s]:  8.04 , recorded with  25.0 fps!\n",
      "Overall # of frames:  201  found with (before cropping) frame dimensions:  1280 1331\n",
      "Starting to extract posture\n",
      "Cropping based on the x1 = 0 x2 = 1280 y1 = 0 y2 = 1024. You can adjust the cropping coordinates in the config.yaml file.\n"
     ]
    },
    {
     "name": "stderr",
     "output_type": "stream",
     "text": [
      "100%|██████████| 201/201 [00:08<00:00, 23.60it/s]\n"
     ]
    },
    {
     "name": "stdout",
     "output_type": "stream",
     "text": [
      "Saving results in D:\\YuLab\\Work\\GPS\\Video\\Kennard\\GPS_08_Kornblum1500SRTSelf\\20231014\\Top\\Clips...\n",
      "Saving csv poses!\n",
      "Starting to analyze %  D:\\YuLab\\Work\\GPS\\Video\\Kennard\\GPS_08_Kornblum1500SRTSelf\\20231014\\Top\\Clips\\Kennard_20231014_HoldTrial017_TopView.avi\n",
      "Loading  D:\\YuLab\\Work\\GPS\\Video\\Kennard\\GPS_08_Kornblum1500SRTSelf\\20231014\\Top\\Clips\\Kennard_20231014_HoldTrial017_TopView.avi\n",
      "Duration of video [s]:  8.0 , recorded with  25.0 fps!\n",
      "Overall # of frames:  200  found with (before cropping) frame dimensions:  1280 1331\n",
      "Starting to extract posture\n",
      "Cropping based on the x1 = 0 x2 = 1280 y1 = 0 y2 = 1024. You can adjust the cropping coordinates in the config.yaml file.\n"
     ]
    },
    {
     "name": "stderr",
     "output_type": "stream",
     "text": [
      "100%|██████████| 200/200 [00:08<00:00, 24.28it/s]\n"
     ]
    },
    {
     "name": "stdout",
     "output_type": "stream",
     "text": [
      "Saving results in D:\\YuLab\\Work\\GPS\\Video\\Kennard\\GPS_08_Kornblum1500SRTSelf\\20231014\\Top\\Clips...\n",
      "Saving csv poses!\n",
      "Starting to analyze %  D:\\YuLab\\Work\\GPS\\Video\\Kennard\\GPS_08_Kornblum1500SRTSelf\\20231014\\Top\\Clips\\Kennard_20231014_HoldTrial018_TopView.avi\n",
      "Loading  D:\\YuLab\\Work\\GPS\\Video\\Kennard\\GPS_08_Kornblum1500SRTSelf\\20231014\\Top\\Clips\\Kennard_20231014_HoldTrial018_TopView.avi\n",
      "Duration of video [s]:  8.0 , recorded with  25.0 fps!\n",
      "Overall # of frames:  200  found with (before cropping) frame dimensions:  1280 1331\n",
      "Starting to extract posture\n",
      "Cropping based on the x1 = 0 x2 = 1280 y1 = 0 y2 = 1024. You can adjust the cropping coordinates in the config.yaml file.\n"
     ]
    },
    {
     "name": "stderr",
     "output_type": "stream",
     "text": [
      "100%|██████████| 200/200 [00:08<00:00, 24.25it/s]\n"
     ]
    },
    {
     "name": "stdout",
     "output_type": "stream",
     "text": [
      "Saving results in D:\\YuLab\\Work\\GPS\\Video\\Kennard\\GPS_08_Kornblum1500SRTSelf\\20231014\\Top\\Clips...\n",
      "Saving csv poses!\n",
      "Starting to analyze %  D:\\YuLab\\Work\\GPS\\Video\\Kennard\\GPS_08_Kornblum1500SRTSelf\\20231014\\Top\\Clips\\Kennard_20231014_HoldTrial019_TopView.avi\n",
      "Loading  D:\\YuLab\\Work\\GPS\\Video\\Kennard\\GPS_08_Kornblum1500SRTSelf\\20231014\\Top\\Clips\\Kennard_20231014_HoldTrial019_TopView.avi\n",
      "Duration of video [s]:  8.04 , recorded with  25.0 fps!\n",
      "Overall # of frames:  201  found with (before cropping) frame dimensions:  1280 1331\n",
      "Starting to extract posture\n",
      "Cropping based on the x1 = 0 x2 = 1280 y1 = 0 y2 = 1024. You can adjust the cropping coordinates in the config.yaml file.\n"
     ]
    },
    {
     "name": "stderr",
     "output_type": "stream",
     "text": [
      "100%|██████████| 201/201 [00:08<00:00, 23.56it/s]\n"
     ]
    },
    {
     "name": "stdout",
     "output_type": "stream",
     "text": [
      "Saving results in D:\\YuLab\\Work\\GPS\\Video\\Kennard\\GPS_08_Kornblum1500SRTSelf\\20231014\\Top\\Clips...\n",
      "Saving csv poses!\n",
      "Starting to analyze %  D:\\YuLab\\Work\\GPS\\Video\\Kennard\\GPS_08_Kornblum1500SRTSelf\\20231014\\Top\\Clips\\Kennard_20231014_HoldTrial020_TopView.avi\n",
      "Loading  D:\\YuLab\\Work\\GPS\\Video\\Kennard\\GPS_08_Kornblum1500SRTSelf\\20231014\\Top\\Clips\\Kennard_20231014_HoldTrial020_TopView.avi\n",
      "Duration of video [s]:  8.04 , recorded with  25.0 fps!\n",
      "Overall # of frames:  201  found with (before cropping) frame dimensions:  1280 1331\n",
      "Starting to extract posture\n",
      "Cropping based on the x1 = 0 x2 = 1280 y1 = 0 y2 = 1024. You can adjust the cropping coordinates in the config.yaml file.\n"
     ]
    },
    {
     "name": "stderr",
     "output_type": "stream",
     "text": [
      "100%|██████████| 201/201 [00:08<00:00, 23.50it/s]\n"
     ]
    },
    {
     "name": "stdout",
     "output_type": "stream",
     "text": [
      "Saving results in D:\\YuLab\\Work\\GPS\\Video\\Kennard\\GPS_08_Kornblum1500SRTSelf\\20231014\\Top\\Clips...\n",
      "Saving csv poses!\n",
      "Starting to analyze %  D:\\YuLab\\Work\\GPS\\Video\\Kennard\\GPS_08_Kornblum1500SRTSelf\\20231014\\Top\\Clips\\Kennard_20231014_HoldTrial021_TopView.avi\n",
      "Loading  D:\\YuLab\\Work\\GPS\\Video\\Kennard\\GPS_08_Kornblum1500SRTSelf\\20231014\\Top\\Clips\\Kennard_20231014_HoldTrial021_TopView.avi\n",
      "Duration of video [s]:  8.04 , recorded with  25.0 fps!\n",
      "Overall # of frames:  201  found with (before cropping) frame dimensions:  1280 1331\n",
      "Starting to extract posture\n",
      "Cropping based on the x1 = 0 x2 = 1280 y1 = 0 y2 = 1024. You can adjust the cropping coordinates in the config.yaml file.\n"
     ]
    },
    {
     "name": "stderr",
     "output_type": "stream",
     "text": [
      "100%|██████████| 201/201 [00:08<00:00, 23.49it/s]\n"
     ]
    },
    {
     "name": "stdout",
     "output_type": "stream",
     "text": [
      "Saving results in D:\\YuLab\\Work\\GPS\\Video\\Kennard\\GPS_08_Kornblum1500SRTSelf\\20231014\\Top\\Clips...\n",
      "Saving csv poses!\n",
      "Starting to analyze %  D:\\YuLab\\Work\\GPS\\Video\\Kennard\\GPS_08_Kornblum1500SRTSelf\\20231014\\Top\\Clips\\Kennard_20231014_HoldTrial022_TopView.avi\n",
      "Loading  D:\\YuLab\\Work\\GPS\\Video\\Kennard\\GPS_08_Kornblum1500SRTSelf\\20231014\\Top\\Clips\\Kennard_20231014_HoldTrial022_TopView.avi\n",
      "Duration of video [s]:  8.0 , recorded with  25.0 fps!\n",
      "Overall # of frames:  200  found with (before cropping) frame dimensions:  1280 1331\n",
      "Starting to extract posture\n",
      "Cropping based on the x1 = 0 x2 = 1280 y1 = 0 y2 = 1024. You can adjust the cropping coordinates in the config.yaml file.\n"
     ]
    },
    {
     "name": "stderr",
     "output_type": "stream",
     "text": [
      "100%|██████████| 200/200 [00:08<00:00, 24.13it/s]\n"
     ]
    },
    {
     "name": "stdout",
     "output_type": "stream",
     "text": [
      "Saving results in D:\\YuLab\\Work\\GPS\\Video\\Kennard\\GPS_08_Kornblum1500SRTSelf\\20231014\\Top\\Clips...\n",
      "Saving csv poses!\n",
      "Starting to analyze %  D:\\YuLab\\Work\\GPS\\Video\\Kennard\\GPS_08_Kornblum1500SRTSelf\\20231014\\Top\\Clips\\Kennard_20231014_HoldTrial023_TopView.avi\n",
      "Loading  D:\\YuLab\\Work\\GPS\\Video\\Kennard\\GPS_08_Kornblum1500SRTSelf\\20231014\\Top\\Clips\\Kennard_20231014_HoldTrial023_TopView.avi\n",
      "Duration of video [s]:  8.04 , recorded with  25.0 fps!\n",
      "Overall # of frames:  201  found with (before cropping) frame dimensions:  1280 1331\n",
      "Starting to extract posture\n",
      "Cropping based on the x1 = 0 x2 = 1280 y1 = 0 y2 = 1024. You can adjust the cropping coordinates in the config.yaml file.\n"
     ]
    },
    {
     "name": "stderr",
     "output_type": "stream",
     "text": [
      "100%|██████████| 201/201 [00:08<00:00, 23.50it/s]\n"
     ]
    },
    {
     "name": "stdout",
     "output_type": "stream",
     "text": [
      "Saving results in D:\\YuLab\\Work\\GPS\\Video\\Kennard\\GPS_08_Kornblum1500SRTSelf\\20231014\\Top\\Clips...\n",
      "Saving csv poses!\n",
      "Starting to analyze %  D:\\YuLab\\Work\\GPS\\Video\\Kennard\\GPS_08_Kornblum1500SRTSelf\\20231014\\Top\\Clips\\Kennard_20231014_HoldTrial024_TopView.avi\n",
      "Loading  D:\\YuLab\\Work\\GPS\\Video\\Kennard\\GPS_08_Kornblum1500SRTSelf\\20231014\\Top\\Clips\\Kennard_20231014_HoldTrial024_TopView.avi\n",
      "Duration of video [s]:  8.0 , recorded with  25.0 fps!\n",
      "Overall # of frames:  200  found with (before cropping) frame dimensions:  1280 1331\n",
      "Starting to extract posture\n",
      "Cropping based on the x1 = 0 x2 = 1280 y1 = 0 y2 = 1024. You can adjust the cropping coordinates in the config.yaml file.\n"
     ]
    },
    {
     "name": "stderr",
     "output_type": "stream",
     "text": [
      "100%|██████████| 200/200 [00:08<00:00, 24.28it/s]\n"
     ]
    },
    {
     "name": "stdout",
     "output_type": "stream",
     "text": [
      "Saving results in D:\\YuLab\\Work\\GPS\\Video\\Kennard\\GPS_08_Kornblum1500SRTSelf\\20231014\\Top\\Clips...\n",
      "Saving csv poses!\n",
      "Starting to analyze %  D:\\YuLab\\Work\\GPS\\Video\\Kennard\\GPS_08_Kornblum1500SRTSelf\\20231014\\Top\\Clips\\Kennard_20231014_HoldTrial025_TopView.avi\n",
      "Loading  D:\\YuLab\\Work\\GPS\\Video\\Kennard\\GPS_08_Kornblum1500SRTSelf\\20231014\\Top\\Clips\\Kennard_20231014_HoldTrial025_TopView.avi\n",
      "Duration of video [s]:  8.04 , recorded with  25.0 fps!\n",
      "Overall # of frames:  201  found with (before cropping) frame dimensions:  1280 1331\n",
      "Starting to extract posture\n",
      "Cropping based on the x1 = 0 x2 = 1280 y1 = 0 y2 = 1024. You can adjust the cropping coordinates in the config.yaml file.\n"
     ]
    },
    {
     "name": "stderr",
     "output_type": "stream",
     "text": [
      "100%|██████████| 201/201 [00:08<00:00, 23.55it/s]\n"
     ]
    },
    {
     "name": "stdout",
     "output_type": "stream",
     "text": [
      "Saving results in D:\\YuLab\\Work\\GPS\\Video\\Kennard\\GPS_08_Kornblum1500SRTSelf\\20231014\\Top\\Clips...\n",
      "Saving csv poses!\n",
      "Starting to analyze %  D:\\YuLab\\Work\\GPS\\Video\\Kennard\\GPS_08_Kornblum1500SRTSelf\\20231014\\Top\\Clips\\Kennard_20231014_HoldTrial026_TopView.avi\n",
      "Loading  D:\\YuLab\\Work\\GPS\\Video\\Kennard\\GPS_08_Kornblum1500SRTSelf\\20231014\\Top\\Clips\\Kennard_20231014_HoldTrial026_TopView.avi\n",
      "Duration of video [s]:  8.0 , recorded with  25.0 fps!\n",
      "Overall # of frames:  200  found with (before cropping) frame dimensions:  1280 1331\n",
      "Starting to extract posture\n",
      "Cropping based on the x1 = 0 x2 = 1280 y1 = 0 y2 = 1024. You can adjust the cropping coordinates in the config.yaml file.\n"
     ]
    },
    {
     "name": "stderr",
     "output_type": "stream",
     "text": [
      "100%|██████████| 200/200 [00:08<00:00, 24.21it/s]\n"
     ]
    },
    {
     "name": "stdout",
     "output_type": "stream",
     "text": [
      "Saving results in D:\\YuLab\\Work\\GPS\\Video\\Kennard\\GPS_08_Kornblum1500SRTSelf\\20231014\\Top\\Clips...\n",
      "Saving csv poses!\n",
      "Starting to analyze %  D:\\YuLab\\Work\\GPS\\Video\\Kennard\\GPS_08_Kornblum1500SRTSelf\\20231014\\Top\\Clips\\Kennard_20231014_HoldTrial027_TopView.avi\n",
      "Loading  D:\\YuLab\\Work\\GPS\\Video\\Kennard\\GPS_08_Kornblum1500SRTSelf\\20231014\\Top\\Clips\\Kennard_20231014_HoldTrial027_TopView.avi\n",
      "Duration of video [s]:  8.04 , recorded with  25.0 fps!\n",
      "Overall # of frames:  201  found with (before cropping) frame dimensions:  1280 1331\n",
      "Starting to extract posture\n",
      "Cropping based on the x1 = 0 x2 = 1280 y1 = 0 y2 = 1024. You can adjust the cropping coordinates in the config.yaml file.\n"
     ]
    },
    {
     "name": "stderr",
     "output_type": "stream",
     "text": [
      "100%|██████████| 201/201 [00:08<00:00, 23.53it/s]\n"
     ]
    },
    {
     "name": "stdout",
     "output_type": "stream",
     "text": [
      "Saving results in D:\\YuLab\\Work\\GPS\\Video\\Kennard\\GPS_08_Kornblum1500SRTSelf\\20231014\\Top\\Clips...\n",
      "Saving csv poses!\n",
      "Starting to analyze %  D:\\YuLab\\Work\\GPS\\Video\\Kennard\\GPS_08_Kornblum1500SRTSelf\\20231014\\Top\\Clips\\Kennard_20231014_HoldTrial028_TopView.avi\n",
      "Loading  D:\\YuLab\\Work\\GPS\\Video\\Kennard\\GPS_08_Kornblum1500SRTSelf\\20231014\\Top\\Clips\\Kennard_20231014_HoldTrial028_TopView.avi\n",
      "Duration of video [s]:  8.0 , recorded with  25.0 fps!\n",
      "Overall # of frames:  200  found with (before cropping) frame dimensions:  1280 1331\n",
      "Starting to extract posture\n",
      "Cropping based on the x1 = 0 x2 = 1280 y1 = 0 y2 = 1024. You can adjust the cropping coordinates in the config.yaml file.\n"
     ]
    },
    {
     "name": "stderr",
     "output_type": "stream",
     "text": [
      "100%|██████████| 200/200 [00:08<00:00, 24.10it/s]\n"
     ]
    },
    {
     "name": "stdout",
     "output_type": "stream",
     "text": [
      "Saving results in D:\\YuLab\\Work\\GPS\\Video\\Kennard\\GPS_08_Kornblum1500SRTSelf\\20231014\\Top\\Clips...\n",
      "Saving csv poses!\n",
      "Starting to analyze %  D:\\YuLab\\Work\\GPS\\Video\\Kennard\\GPS_08_Kornblum1500SRTSelf\\20231014\\Top\\Clips\\Kennard_20231014_HoldTrial029_TopView.avi\n",
      "Loading  D:\\YuLab\\Work\\GPS\\Video\\Kennard\\GPS_08_Kornblum1500SRTSelf\\20231014\\Top\\Clips\\Kennard_20231014_HoldTrial029_TopView.avi\n",
      "Duration of video [s]:  8.04 , recorded with  25.0 fps!\n",
      "Overall # of frames:  201  found with (before cropping) frame dimensions:  1280 1331\n",
      "Starting to extract posture\n",
      "Cropping based on the x1 = 0 x2 = 1280 y1 = 0 y2 = 1024. You can adjust the cropping coordinates in the config.yaml file.\n"
     ]
    },
    {
     "name": "stderr",
     "output_type": "stream",
     "text": [
      "100%|██████████| 201/201 [00:08<00:00, 23.44it/s]\n"
     ]
    },
    {
     "name": "stdout",
     "output_type": "stream",
     "text": [
      "Saving results in D:\\YuLab\\Work\\GPS\\Video\\Kennard\\GPS_08_Kornblum1500SRTSelf\\20231014\\Top\\Clips...\n",
      "Saving csv poses!\n",
      "Starting to analyze %  D:\\YuLab\\Work\\GPS\\Video\\Kennard\\GPS_08_Kornblum1500SRTSelf\\20231014\\Top\\Clips\\Kennard_20231014_HoldTrial030_TopView.avi\n",
      "Loading  D:\\YuLab\\Work\\GPS\\Video\\Kennard\\GPS_08_Kornblum1500SRTSelf\\20231014\\Top\\Clips\\Kennard_20231014_HoldTrial030_TopView.avi\n",
      "Duration of video [s]:  8.0 , recorded with  25.0 fps!\n",
      "Overall # of frames:  200  found with (before cropping) frame dimensions:  1280 1331\n",
      "Starting to extract posture\n",
      "Cropping based on the x1 = 0 x2 = 1280 y1 = 0 y2 = 1024. You can adjust the cropping coordinates in the config.yaml file.\n"
     ]
    },
    {
     "name": "stderr",
     "output_type": "stream",
     "text": [
      "100%|██████████| 200/200 [00:08<00:00, 24.14it/s]\n"
     ]
    },
    {
     "name": "stdout",
     "output_type": "stream",
     "text": [
      "Saving results in D:\\YuLab\\Work\\GPS\\Video\\Kennard\\GPS_08_Kornblum1500SRTSelf\\20231014\\Top\\Clips...\n",
      "Saving csv poses!\n",
      "Starting to analyze %  D:\\YuLab\\Work\\GPS\\Video\\Kennard\\GPS_08_Kornblum1500SRTSelf\\20231014\\Top\\Clips\\Kennard_20231014_HoldTrial031_TopView.avi\n",
      "Loading  D:\\YuLab\\Work\\GPS\\Video\\Kennard\\GPS_08_Kornblum1500SRTSelf\\20231014\\Top\\Clips\\Kennard_20231014_HoldTrial031_TopView.avi\n",
      "Duration of video [s]:  8.04 , recorded with  25.0 fps!\n",
      "Overall # of frames:  201  found with (before cropping) frame dimensions:  1280 1331\n",
      "Starting to extract posture\n",
      "Cropping based on the x1 = 0 x2 = 1280 y1 = 0 y2 = 1024. You can adjust the cropping coordinates in the config.yaml file.\n"
     ]
    },
    {
     "name": "stderr",
     "output_type": "stream",
     "text": [
      "100%|██████████| 201/201 [00:08<00:00, 23.39it/s]\n"
     ]
    },
    {
     "name": "stdout",
     "output_type": "stream",
     "text": [
      "Saving results in D:\\YuLab\\Work\\GPS\\Video\\Kennard\\GPS_08_Kornblum1500SRTSelf\\20231014\\Top\\Clips...\n",
      "Saving csv poses!\n",
      "Starting to analyze %  D:\\YuLab\\Work\\GPS\\Video\\Kennard\\GPS_08_Kornblum1500SRTSelf\\20231014\\Top\\Clips\\Kennard_20231014_HoldTrial032_TopView.avi\n",
      "Loading  D:\\YuLab\\Work\\GPS\\Video\\Kennard\\GPS_08_Kornblum1500SRTSelf\\20231014\\Top\\Clips\\Kennard_20231014_HoldTrial032_TopView.avi\n",
      "Duration of video [s]:  8.0 , recorded with  25.0 fps!\n",
      "Overall # of frames:  200  found with (before cropping) frame dimensions:  1280 1331\n",
      "Starting to extract posture\n",
      "Cropping based on the x1 = 0 x2 = 1280 y1 = 0 y2 = 1024. You can adjust the cropping coordinates in the config.yaml file.\n"
     ]
    },
    {
     "name": "stderr",
     "output_type": "stream",
     "text": [
      "100%|██████████| 200/200 [00:08<00:00, 24.27it/s]\n"
     ]
    },
    {
     "name": "stdout",
     "output_type": "stream",
     "text": [
      "Saving results in D:\\YuLab\\Work\\GPS\\Video\\Kennard\\GPS_08_Kornblum1500SRTSelf\\20231014\\Top\\Clips...\n",
      "Saving csv poses!\n",
      "Starting to analyze %  D:\\YuLab\\Work\\GPS\\Video\\Kennard\\GPS_08_Kornblum1500SRTSelf\\20231014\\Top\\Clips\\Kennard_20231014_HoldTrial033_TopView.avi\n",
      "Loading  D:\\YuLab\\Work\\GPS\\Video\\Kennard\\GPS_08_Kornblum1500SRTSelf\\20231014\\Top\\Clips\\Kennard_20231014_HoldTrial033_TopView.avi\n",
      "Duration of video [s]:  8.04 , recorded with  25.0 fps!\n",
      "Overall # of frames:  201  found with (before cropping) frame dimensions:  1280 1331\n",
      "Starting to extract posture\n",
      "Cropping based on the x1 = 0 x2 = 1280 y1 = 0 y2 = 1024. You can adjust the cropping coordinates in the config.yaml file.\n"
     ]
    },
    {
     "name": "stderr",
     "output_type": "stream",
     "text": [
      "100%|██████████| 201/201 [00:08<00:00, 23.57it/s]\n"
     ]
    },
    {
     "name": "stdout",
     "output_type": "stream",
     "text": [
      "Saving results in D:\\YuLab\\Work\\GPS\\Video\\Kennard\\GPS_08_Kornblum1500SRTSelf\\20231014\\Top\\Clips...\n",
      "Saving csv poses!\n",
      "Starting to analyze %  D:\\YuLab\\Work\\GPS\\Video\\Kennard\\GPS_08_Kornblum1500SRTSelf\\20231014\\Top\\Clips\\Kennard_20231014_HoldTrial034_TopView.avi\n",
      "Loading  D:\\YuLab\\Work\\GPS\\Video\\Kennard\\GPS_08_Kornblum1500SRTSelf\\20231014\\Top\\Clips\\Kennard_20231014_HoldTrial034_TopView.avi\n",
      "Duration of video [s]:  8.0 , recorded with  25.0 fps!\n",
      "Overall # of frames:  200  found with (before cropping) frame dimensions:  1280 1331\n",
      "Starting to extract posture\n",
      "Cropping based on the x1 = 0 x2 = 1280 y1 = 0 y2 = 1024. You can adjust the cropping coordinates in the config.yaml file.\n"
     ]
    },
    {
     "name": "stderr",
     "output_type": "stream",
     "text": [
      "100%|██████████| 200/200 [00:08<00:00, 24.20it/s]\n"
     ]
    },
    {
     "name": "stdout",
     "output_type": "stream",
     "text": [
      "Saving results in D:\\YuLab\\Work\\GPS\\Video\\Kennard\\GPS_08_Kornblum1500SRTSelf\\20231014\\Top\\Clips...\n",
      "Saving csv poses!\n",
      "Starting to analyze %  D:\\YuLab\\Work\\GPS\\Video\\Kennard\\GPS_08_Kornblum1500SRTSelf\\20231014\\Top\\Clips\\Kennard_20231014_HoldTrial035_TopView.avi\n",
      "Loading  D:\\YuLab\\Work\\GPS\\Video\\Kennard\\GPS_08_Kornblum1500SRTSelf\\20231014\\Top\\Clips\\Kennard_20231014_HoldTrial035_TopView.avi\n",
      "Duration of video [s]:  8.0 , recorded with  25.0 fps!\n",
      "Overall # of frames:  200  found with (before cropping) frame dimensions:  1280 1331\n",
      "Starting to extract posture\n",
      "Cropping based on the x1 = 0 x2 = 1280 y1 = 0 y2 = 1024. You can adjust the cropping coordinates in the config.yaml file.\n"
     ]
    },
    {
     "name": "stderr",
     "output_type": "stream",
     "text": [
      "100%|██████████| 200/200 [00:08<00:00, 24.12it/s]\n"
     ]
    },
    {
     "name": "stdout",
     "output_type": "stream",
     "text": [
      "Saving results in D:\\YuLab\\Work\\GPS\\Video\\Kennard\\GPS_08_Kornblum1500SRTSelf\\20231014\\Top\\Clips...\n",
      "Saving csv poses!\n",
      "Starting to analyze %  D:\\YuLab\\Work\\GPS\\Video\\Kennard\\GPS_08_Kornblum1500SRTSelf\\20231014\\Top\\Clips\\Kennard_20231014_HoldTrial036_TopView.avi\n",
      "Loading  D:\\YuLab\\Work\\GPS\\Video\\Kennard\\GPS_08_Kornblum1500SRTSelf\\20231014\\Top\\Clips\\Kennard_20231014_HoldTrial036_TopView.avi\n",
      "Duration of video [s]:  8.04 , recorded with  25.0 fps!\n",
      "Overall # of frames:  201  found with (before cropping) frame dimensions:  1280 1331\n",
      "Starting to extract posture\n",
      "Cropping based on the x1 = 0 x2 = 1280 y1 = 0 y2 = 1024. You can adjust the cropping coordinates in the config.yaml file.\n"
     ]
    },
    {
     "name": "stderr",
     "output_type": "stream",
     "text": [
      "100%|██████████| 201/201 [00:08<00:00, 23.45it/s]\n"
     ]
    },
    {
     "name": "stdout",
     "output_type": "stream",
     "text": [
      "Saving results in D:\\YuLab\\Work\\GPS\\Video\\Kennard\\GPS_08_Kornblum1500SRTSelf\\20231014\\Top\\Clips...\n",
      "Saving csv poses!\n",
      "Starting to analyze %  D:\\YuLab\\Work\\GPS\\Video\\Kennard\\GPS_08_Kornblum1500SRTSelf\\20231014\\Top\\Clips\\Kennard_20231014_HoldTrial037_TopView.avi\n",
      "Loading  D:\\YuLab\\Work\\GPS\\Video\\Kennard\\GPS_08_Kornblum1500SRTSelf\\20231014\\Top\\Clips\\Kennard_20231014_HoldTrial037_TopView.avi\n",
      "Duration of video [s]:  8.0 , recorded with  25.0 fps!\n",
      "Overall # of frames:  200  found with (before cropping) frame dimensions:  1280 1331\n",
      "Starting to extract posture\n",
      "Cropping based on the x1 = 0 x2 = 1280 y1 = 0 y2 = 1024. You can adjust the cropping coordinates in the config.yaml file.\n"
     ]
    },
    {
     "name": "stderr",
     "output_type": "stream",
     "text": [
      "100%|██████████| 200/200 [00:08<00:00, 24.05it/s]\n"
     ]
    },
    {
     "name": "stdout",
     "output_type": "stream",
     "text": [
      "Saving results in D:\\YuLab\\Work\\GPS\\Video\\Kennard\\GPS_08_Kornblum1500SRTSelf\\20231014\\Top\\Clips...\n",
      "Saving csv poses!\n",
      "Starting to analyze %  D:\\YuLab\\Work\\GPS\\Video\\Kennard\\GPS_08_Kornblum1500SRTSelf\\20231014\\Top\\Clips\\Kennard_20231014_HoldTrial038_TopView.avi\n",
      "Loading  D:\\YuLab\\Work\\GPS\\Video\\Kennard\\GPS_08_Kornblum1500SRTSelf\\20231014\\Top\\Clips\\Kennard_20231014_HoldTrial038_TopView.avi\n",
      "Duration of video [s]:  8.0 , recorded with  25.0 fps!\n",
      "Overall # of frames:  200  found with (before cropping) frame dimensions:  1280 1331\n",
      "Starting to extract posture\n",
      "Cropping based on the x1 = 0 x2 = 1280 y1 = 0 y2 = 1024. You can adjust the cropping coordinates in the config.yaml file.\n"
     ]
    },
    {
     "name": "stderr",
     "output_type": "stream",
     "text": [
      "100%|██████████| 200/200 [00:08<00:00, 24.02it/s]\n"
     ]
    },
    {
     "name": "stdout",
     "output_type": "stream",
     "text": [
      "Saving results in D:\\YuLab\\Work\\GPS\\Video\\Kennard\\GPS_08_Kornblum1500SRTSelf\\20231014\\Top\\Clips...\n",
      "Saving csv poses!\n",
      "Starting to analyze %  D:\\YuLab\\Work\\GPS\\Video\\Kennard\\GPS_08_Kornblum1500SRTSelf\\20231014\\Top\\Clips\\Kennard_20231014_HoldTrial039_TopView.avi\n",
      "Loading  D:\\YuLab\\Work\\GPS\\Video\\Kennard\\GPS_08_Kornblum1500SRTSelf\\20231014\\Top\\Clips\\Kennard_20231014_HoldTrial039_TopView.avi\n",
      "Duration of video [s]:  8.0 , recorded with  25.0 fps!\n",
      "Overall # of frames:  200  found with (before cropping) frame dimensions:  1280 1331\n",
      "Starting to extract posture\n",
      "Cropping based on the x1 = 0 x2 = 1280 y1 = 0 y2 = 1024. You can adjust the cropping coordinates in the config.yaml file.\n"
     ]
    },
    {
     "name": "stderr",
     "output_type": "stream",
     "text": [
      "100%|██████████| 200/200 [00:08<00:00, 24.02it/s]\n"
     ]
    },
    {
     "name": "stdout",
     "output_type": "stream",
     "text": [
      "Saving results in D:\\YuLab\\Work\\GPS\\Video\\Kennard\\GPS_08_Kornblum1500SRTSelf\\20231014\\Top\\Clips...\n",
      "Saving csv poses!\n",
      "Starting to analyze %  D:\\YuLab\\Work\\GPS\\Video\\Kennard\\GPS_08_Kornblum1500SRTSelf\\20231014\\Top\\Clips\\Kennard_20231014_HoldTrial040_TopView.avi\n",
      "Loading  D:\\YuLab\\Work\\GPS\\Video\\Kennard\\GPS_08_Kornblum1500SRTSelf\\20231014\\Top\\Clips\\Kennard_20231014_HoldTrial040_TopView.avi\n",
      "Duration of video [s]:  7.96 , recorded with  25.0 fps!\n",
      "Overall # of frames:  199  found with (before cropping) frame dimensions:  1280 1331\n",
      "Starting to extract posture\n",
      "Cropping based on the x1 = 0 x2 = 1280 y1 = 0 y2 = 1024. You can adjust the cropping coordinates in the config.yaml file.\n"
     ]
    },
    {
     "name": "stderr",
     "output_type": "stream",
     "text": [
      "100%|██████████| 199/199 [00:08<00:00, 24.05it/s]\n"
     ]
    },
    {
     "name": "stdout",
     "output_type": "stream",
     "text": [
      "Saving results in D:\\YuLab\\Work\\GPS\\Video\\Kennard\\GPS_08_Kornblum1500SRTSelf\\20231014\\Top\\Clips...\n",
      "Saving csv poses!\n",
      "Starting to analyze %  D:\\YuLab\\Work\\GPS\\Video\\Kennard\\GPS_08_Kornblum1500SRTSelf\\20231014\\Top\\Clips\\Kennard_20231014_HoldTrial041_TopView.avi\n",
      "Loading  D:\\YuLab\\Work\\GPS\\Video\\Kennard\\GPS_08_Kornblum1500SRTSelf\\20231014\\Top\\Clips\\Kennard_20231014_HoldTrial041_TopView.avi\n",
      "Duration of video [s]:  8.04 , recorded with  25.0 fps!\n",
      "Overall # of frames:  201  found with (before cropping) frame dimensions:  1280 1331\n",
      "Starting to extract posture\n",
      "Cropping based on the x1 = 0 x2 = 1280 y1 = 0 y2 = 1024. You can adjust the cropping coordinates in the config.yaml file.\n"
     ]
    },
    {
     "name": "stderr",
     "output_type": "stream",
     "text": [
      "100%|██████████| 201/201 [00:08<00:00, 23.48it/s]\n"
     ]
    },
    {
     "name": "stdout",
     "output_type": "stream",
     "text": [
      "Saving results in D:\\YuLab\\Work\\GPS\\Video\\Kennard\\GPS_08_Kornblum1500SRTSelf\\20231014\\Top\\Clips...\n",
      "Saving csv poses!\n",
      "Starting to analyze %  D:\\YuLab\\Work\\GPS\\Video\\Kennard\\GPS_08_Kornblum1500SRTSelf\\20231014\\Top\\Clips\\Kennard_20231014_HoldTrial042_TopView.avi\n",
      "Loading  D:\\YuLab\\Work\\GPS\\Video\\Kennard\\GPS_08_Kornblum1500SRTSelf\\20231014\\Top\\Clips\\Kennard_20231014_HoldTrial042_TopView.avi\n",
      "Duration of video [s]:  8.04 , recorded with  25.0 fps!\n",
      "Overall # of frames:  201  found with (before cropping) frame dimensions:  1280 1331\n",
      "Starting to extract posture\n",
      "Cropping based on the x1 = 0 x2 = 1280 y1 = 0 y2 = 1024. You can adjust the cropping coordinates in the config.yaml file.\n"
     ]
    },
    {
     "name": "stderr",
     "output_type": "stream",
     "text": [
      "100%|██████████| 201/201 [00:08<00:00, 23.46it/s]\n"
     ]
    },
    {
     "name": "stdout",
     "output_type": "stream",
     "text": [
      "Saving results in D:\\YuLab\\Work\\GPS\\Video\\Kennard\\GPS_08_Kornblum1500SRTSelf\\20231014\\Top\\Clips...\n",
      "Saving csv poses!\n",
      "Starting to analyze %  D:\\YuLab\\Work\\GPS\\Video\\Kennard\\GPS_08_Kornblum1500SRTSelf\\20231014\\Top\\Clips\\Kennard_20231014_HoldTrial043_TopView.avi\n",
      "Loading  D:\\YuLab\\Work\\GPS\\Video\\Kennard\\GPS_08_Kornblum1500SRTSelf\\20231014\\Top\\Clips\\Kennard_20231014_HoldTrial043_TopView.avi\n",
      "Duration of video [s]:  8.0 , recorded with  25.0 fps!\n",
      "Overall # of frames:  200  found with (before cropping) frame dimensions:  1280 1331\n",
      "Starting to extract posture\n",
      "Cropping based on the x1 = 0 x2 = 1280 y1 = 0 y2 = 1024. You can adjust the cropping coordinates in the config.yaml file.\n"
     ]
    },
    {
     "name": "stderr",
     "output_type": "stream",
     "text": [
      "100%|██████████| 200/200 [00:08<00:00, 24.07it/s]\n"
     ]
    },
    {
     "name": "stdout",
     "output_type": "stream",
     "text": [
      "Saving results in D:\\YuLab\\Work\\GPS\\Video\\Kennard\\GPS_08_Kornblum1500SRTSelf\\20231014\\Top\\Clips...\n",
      "Saving csv poses!\n",
      "Starting to analyze %  D:\\YuLab\\Work\\GPS\\Video\\Kennard\\GPS_08_Kornblum1500SRTSelf\\20231014\\Top\\Clips\\Kennard_20231014_HoldTrial044_TopView.avi\n",
      "Loading  D:\\YuLab\\Work\\GPS\\Video\\Kennard\\GPS_08_Kornblum1500SRTSelf\\20231014\\Top\\Clips\\Kennard_20231014_HoldTrial044_TopView.avi\n",
      "Duration of video [s]:  8.0 , recorded with  25.0 fps!\n",
      "Overall # of frames:  200  found with (before cropping) frame dimensions:  1280 1331\n",
      "Starting to extract posture\n",
      "Cropping based on the x1 = 0 x2 = 1280 y1 = 0 y2 = 1024. You can adjust the cropping coordinates in the config.yaml file.\n"
     ]
    },
    {
     "name": "stderr",
     "output_type": "stream",
     "text": [
      "100%|██████████| 200/200 [00:08<00:00, 24.03it/s]\n"
     ]
    },
    {
     "name": "stdout",
     "output_type": "stream",
     "text": [
      "Saving results in D:\\YuLab\\Work\\GPS\\Video\\Kennard\\GPS_08_Kornblum1500SRTSelf\\20231014\\Top\\Clips...\n",
      "Saving csv poses!\n",
      "Starting to analyze %  D:\\YuLab\\Work\\GPS\\Video\\Kennard\\GPS_08_Kornblum1500SRTSelf\\20231014\\Top\\Clips\\Kennard_20231014_HoldTrial045_TopView.avi\n",
      "Loading  D:\\YuLab\\Work\\GPS\\Video\\Kennard\\GPS_08_Kornblum1500SRTSelf\\20231014\\Top\\Clips\\Kennard_20231014_HoldTrial045_TopView.avi\n",
      "Duration of video [s]:  8.04 , recorded with  25.0 fps!\n",
      "Overall # of frames:  201  found with (before cropping) frame dimensions:  1280 1331\n",
      "Starting to extract posture\n",
      "Cropping based on the x1 = 0 x2 = 1280 y1 = 0 y2 = 1024. You can adjust the cropping coordinates in the config.yaml file.\n"
     ]
    },
    {
     "name": "stderr",
     "output_type": "stream",
     "text": [
      "100%|██████████| 201/201 [00:08<00:00, 23.44it/s]\n"
     ]
    },
    {
     "name": "stdout",
     "output_type": "stream",
     "text": [
      "Saving results in D:\\YuLab\\Work\\GPS\\Video\\Kennard\\GPS_08_Kornblum1500SRTSelf\\20231014\\Top\\Clips...\n",
      "Saving csv poses!\n",
      "Starting to analyze %  D:\\YuLab\\Work\\GPS\\Video\\Kennard\\GPS_08_Kornblum1500SRTSelf\\20231014\\Top\\Clips\\Kennard_20231014_HoldTrial046_TopView.avi\n",
      "Loading  D:\\YuLab\\Work\\GPS\\Video\\Kennard\\GPS_08_Kornblum1500SRTSelf\\20231014\\Top\\Clips\\Kennard_20231014_HoldTrial046_TopView.avi\n",
      "Duration of video [s]:  8.0 , recorded with  25.0 fps!\n",
      "Overall # of frames:  200  found with (before cropping) frame dimensions:  1280 1331\n",
      "Starting to extract posture\n",
      "Cropping based on the x1 = 0 x2 = 1280 y1 = 0 y2 = 1024. You can adjust the cropping coordinates in the config.yaml file.\n"
     ]
    },
    {
     "name": "stderr",
     "output_type": "stream",
     "text": [
      "100%|██████████| 200/200 [00:08<00:00, 24.06it/s]\n"
     ]
    },
    {
     "name": "stdout",
     "output_type": "stream",
     "text": [
      "Saving results in D:\\YuLab\\Work\\GPS\\Video\\Kennard\\GPS_08_Kornblum1500SRTSelf\\20231014\\Top\\Clips...\n",
      "Saving csv poses!\n",
      "Starting to analyze %  D:\\YuLab\\Work\\GPS\\Video\\Kennard\\GPS_08_Kornblum1500SRTSelf\\20231014\\Top\\Clips\\Kennard_20231014_HoldTrial047_TopView.avi\n",
      "Loading  D:\\YuLab\\Work\\GPS\\Video\\Kennard\\GPS_08_Kornblum1500SRTSelf\\20231014\\Top\\Clips\\Kennard_20231014_HoldTrial047_TopView.avi\n",
      "Duration of video [s]:  8.0 , recorded with  25.0 fps!\n",
      "Overall # of frames:  200  found with (before cropping) frame dimensions:  1280 1331\n",
      "Starting to extract posture\n",
      "Cropping based on the x1 = 0 x2 = 1280 y1 = 0 y2 = 1024. You can adjust the cropping coordinates in the config.yaml file.\n"
     ]
    },
    {
     "name": "stderr",
     "output_type": "stream",
     "text": [
      "100%|██████████| 200/200 [00:08<00:00, 24.11it/s]\n"
     ]
    },
    {
     "name": "stdout",
     "output_type": "stream",
     "text": [
      "Saving results in D:\\YuLab\\Work\\GPS\\Video\\Kennard\\GPS_08_Kornblum1500SRTSelf\\20231014\\Top\\Clips...\n",
      "Saving csv poses!\n",
      "Starting to analyze %  D:\\YuLab\\Work\\GPS\\Video\\Kennard\\GPS_08_Kornblum1500SRTSelf\\20231014\\Top\\Clips\\Kennard_20231014_HoldTrial048_TopView.avi\n",
      "Loading  D:\\YuLab\\Work\\GPS\\Video\\Kennard\\GPS_08_Kornblum1500SRTSelf\\20231014\\Top\\Clips\\Kennard_20231014_HoldTrial048_TopView.avi\n",
      "Duration of video [s]:  8.04 , recorded with  25.0 fps!\n",
      "Overall # of frames:  201  found with (before cropping) frame dimensions:  1280 1331\n",
      "Starting to extract posture\n",
      "Cropping based on the x1 = 0 x2 = 1280 y1 = 0 y2 = 1024. You can adjust the cropping coordinates in the config.yaml file.\n"
     ]
    },
    {
     "name": "stderr",
     "output_type": "stream",
     "text": [
      "100%|██████████| 201/201 [00:08<00:00, 23.64it/s]\n"
     ]
    },
    {
     "name": "stdout",
     "output_type": "stream",
     "text": [
      "Saving results in D:\\YuLab\\Work\\GPS\\Video\\Kennard\\GPS_08_Kornblum1500SRTSelf\\20231014\\Top\\Clips...\n",
      "Saving csv poses!\n",
      "Starting to analyze %  D:\\YuLab\\Work\\GPS\\Video\\Kennard\\GPS_08_Kornblum1500SRTSelf\\20231014\\Top\\Clips\\Kennard_20231014_HoldTrial049_TopView.avi\n",
      "Loading  D:\\YuLab\\Work\\GPS\\Video\\Kennard\\GPS_08_Kornblum1500SRTSelf\\20231014\\Top\\Clips\\Kennard_20231014_HoldTrial049_TopView.avi\n",
      "Duration of video [s]:  8.04 , recorded with  25.0 fps!\n",
      "Overall # of frames:  201  found with (before cropping) frame dimensions:  1280 1331\n",
      "Starting to extract posture\n",
      "Cropping based on the x1 = 0 x2 = 1280 y1 = 0 y2 = 1024. You can adjust the cropping coordinates in the config.yaml file.\n"
     ]
    },
    {
     "name": "stderr",
     "output_type": "stream",
     "text": [
      "100%|██████████| 201/201 [00:08<00:00, 23.61it/s]\n"
     ]
    },
    {
     "name": "stdout",
     "output_type": "stream",
     "text": [
      "Saving results in D:\\YuLab\\Work\\GPS\\Video\\Kennard\\GPS_08_Kornblum1500SRTSelf\\20231014\\Top\\Clips...\n",
      "Saving csv poses!\n",
      "Starting to analyze %  D:\\YuLab\\Work\\GPS\\Video\\Kennard\\GPS_08_Kornblum1500SRTSelf\\20231014\\Top\\Clips\\Kennard_20231014_HoldTrial050_TopView.avi\n",
      "Loading  D:\\YuLab\\Work\\GPS\\Video\\Kennard\\GPS_08_Kornblum1500SRTSelf\\20231014\\Top\\Clips\\Kennard_20231014_HoldTrial050_TopView.avi\n",
      "Duration of video [s]:  8.0 , recorded with  25.0 fps!\n",
      "Overall # of frames:  200  found with (before cropping) frame dimensions:  1280 1331\n",
      "Starting to extract posture\n",
      "Cropping based on the x1 = 0 x2 = 1280 y1 = 0 y2 = 1024. You can adjust the cropping coordinates in the config.yaml file.\n"
     ]
    },
    {
     "name": "stderr",
     "output_type": "stream",
     "text": [
      "100%|██████████| 200/200 [00:08<00:00, 24.19it/s]\n"
     ]
    },
    {
     "name": "stdout",
     "output_type": "stream",
     "text": [
      "Saving results in D:\\YuLab\\Work\\GPS\\Video\\Kennard\\GPS_08_Kornblum1500SRTSelf\\20231014\\Top\\Clips...\n",
      "Saving csv poses!\n",
      "Starting to analyze %  D:\\YuLab\\Work\\GPS\\Video\\Kennard\\GPS_08_Kornblum1500SRTSelf\\20231014\\Top\\Clips\\Kennard_20231014_HoldTrial051_TopView.avi\n",
      "Loading  D:\\YuLab\\Work\\GPS\\Video\\Kennard\\GPS_08_Kornblum1500SRTSelf\\20231014\\Top\\Clips\\Kennard_20231014_HoldTrial051_TopView.avi\n",
      "Duration of video [s]:  8.04 , recorded with  25.0 fps!\n",
      "Overall # of frames:  201  found with (before cropping) frame dimensions:  1280 1331\n",
      "Starting to extract posture\n",
      "Cropping based on the x1 = 0 x2 = 1280 y1 = 0 y2 = 1024. You can adjust the cropping coordinates in the config.yaml file.\n"
     ]
    },
    {
     "name": "stderr",
     "output_type": "stream",
     "text": [
      "100%|██████████| 201/201 [00:08<00:00, 23.49it/s]\n"
     ]
    },
    {
     "name": "stdout",
     "output_type": "stream",
     "text": [
      "Saving results in D:\\YuLab\\Work\\GPS\\Video\\Kennard\\GPS_08_Kornblum1500SRTSelf\\20231014\\Top\\Clips...\n",
      "Saving csv poses!\n",
      "Starting to analyze %  D:\\YuLab\\Work\\GPS\\Video\\Kennard\\GPS_08_Kornblum1500SRTSelf\\20231014\\Top\\Clips\\Kennard_20231014_HoldTrial052_TopView.avi\n",
      "Loading  D:\\YuLab\\Work\\GPS\\Video\\Kennard\\GPS_08_Kornblum1500SRTSelf\\20231014\\Top\\Clips\\Kennard_20231014_HoldTrial052_TopView.avi\n",
      "Duration of video [s]:  8.04 , recorded with  25.0 fps!\n",
      "Overall # of frames:  201  found with (before cropping) frame dimensions:  1280 1331\n",
      "Starting to extract posture\n",
      "Cropping based on the x1 = 0 x2 = 1280 y1 = 0 y2 = 1024. You can adjust the cropping coordinates in the config.yaml file.\n"
     ]
    },
    {
     "name": "stderr",
     "output_type": "stream",
     "text": [
      "100%|██████████| 201/201 [00:08<00:00, 23.46it/s]\n"
     ]
    },
    {
     "name": "stdout",
     "output_type": "stream",
     "text": [
      "Saving results in D:\\YuLab\\Work\\GPS\\Video\\Kennard\\GPS_08_Kornblum1500SRTSelf\\20231014\\Top\\Clips...\n",
      "Saving csv poses!\n",
      "Starting to analyze %  D:\\YuLab\\Work\\GPS\\Video\\Kennard\\GPS_08_Kornblum1500SRTSelf\\20231014\\Top\\Clips\\Kennard_20231014_HoldTrial053_TopView.avi\n",
      "Loading  D:\\YuLab\\Work\\GPS\\Video\\Kennard\\GPS_08_Kornblum1500SRTSelf\\20231014\\Top\\Clips\\Kennard_20231014_HoldTrial053_TopView.avi\n",
      "Duration of video [s]:  8.04 , recorded with  25.0 fps!\n",
      "Overall # of frames:  201  found with (before cropping) frame dimensions:  1280 1331\n",
      "Starting to extract posture\n",
      "Cropping based on the x1 = 0 x2 = 1280 y1 = 0 y2 = 1024. You can adjust the cropping coordinates in the config.yaml file.\n"
     ]
    },
    {
     "name": "stderr",
     "output_type": "stream",
     "text": [
      "100%|██████████| 201/201 [00:08<00:00, 23.48it/s]\n"
     ]
    },
    {
     "name": "stdout",
     "output_type": "stream",
     "text": [
      "Saving results in D:\\YuLab\\Work\\GPS\\Video\\Kennard\\GPS_08_Kornblum1500SRTSelf\\20231014\\Top\\Clips...\n",
      "Saving csv poses!\n",
      "Starting to analyze %  D:\\YuLab\\Work\\GPS\\Video\\Kennard\\GPS_08_Kornblum1500SRTSelf\\20231014\\Top\\Clips\\Kennard_20231014_HoldTrial054_TopView.avi\n",
      "Loading  D:\\YuLab\\Work\\GPS\\Video\\Kennard\\GPS_08_Kornblum1500SRTSelf\\20231014\\Top\\Clips\\Kennard_20231014_HoldTrial054_TopView.avi\n",
      "Duration of video [s]:  8.04 , recorded with  25.0 fps!\n",
      "Overall # of frames:  201  found with (before cropping) frame dimensions:  1280 1331\n",
      "Starting to extract posture\n",
      "Cropping based on the x1 = 0 x2 = 1280 y1 = 0 y2 = 1024. You can adjust the cropping coordinates in the config.yaml file.\n"
     ]
    },
    {
     "name": "stderr",
     "output_type": "stream",
     "text": [
      "100%|██████████| 201/201 [00:08<00:00, 23.42it/s]\n"
     ]
    },
    {
     "name": "stdout",
     "output_type": "stream",
     "text": [
      "Saving results in D:\\YuLab\\Work\\GPS\\Video\\Kennard\\GPS_08_Kornblum1500SRTSelf\\20231014\\Top\\Clips...\n",
      "Saving csv poses!\n",
      "Starting to analyze %  D:\\YuLab\\Work\\GPS\\Video\\Kennard\\GPS_08_Kornblum1500SRTSelf\\20231014\\Top\\Clips\\Kennard_20231014_HoldTrial055_TopView.avi\n",
      "Loading  D:\\YuLab\\Work\\GPS\\Video\\Kennard\\GPS_08_Kornblum1500SRTSelf\\20231014\\Top\\Clips\\Kennard_20231014_HoldTrial055_TopView.avi\n",
      "Duration of video [s]:  8.0 , recorded with  25.0 fps!\n",
      "Overall # of frames:  200  found with (before cropping) frame dimensions:  1280 1331\n",
      "Starting to extract posture\n",
      "Cropping based on the x1 = 0 x2 = 1280 y1 = 0 y2 = 1024. You can adjust the cropping coordinates in the config.yaml file.\n"
     ]
    },
    {
     "name": "stderr",
     "output_type": "stream",
     "text": [
      "100%|██████████| 200/200 [00:08<00:00, 24.17it/s]\n"
     ]
    },
    {
     "name": "stdout",
     "output_type": "stream",
     "text": [
      "Saving results in D:\\YuLab\\Work\\GPS\\Video\\Kennard\\GPS_08_Kornblum1500SRTSelf\\20231014\\Top\\Clips...\n",
      "Saving csv poses!\n",
      "Starting to analyze %  D:\\YuLab\\Work\\GPS\\Video\\Kennard\\GPS_08_Kornblum1500SRTSelf\\20231014\\Top\\Clips\\Kennard_20231014_HoldTrial056_TopView.avi\n",
      "Loading  D:\\YuLab\\Work\\GPS\\Video\\Kennard\\GPS_08_Kornblum1500SRTSelf\\20231014\\Top\\Clips\\Kennard_20231014_HoldTrial056_TopView.avi\n",
      "Duration of video [s]:  8.04 , recorded with  25.0 fps!\n",
      "Overall # of frames:  201  found with (before cropping) frame dimensions:  1280 1331\n",
      "Starting to extract posture\n",
      "Cropping based on the x1 = 0 x2 = 1280 y1 = 0 y2 = 1024. You can adjust the cropping coordinates in the config.yaml file.\n"
     ]
    },
    {
     "name": "stderr",
     "output_type": "stream",
     "text": [
      "100%|██████████| 201/201 [00:08<00:00, 23.61it/s]\n"
     ]
    },
    {
     "name": "stdout",
     "output_type": "stream",
     "text": [
      "Saving results in D:\\YuLab\\Work\\GPS\\Video\\Kennard\\GPS_08_Kornblum1500SRTSelf\\20231014\\Top\\Clips...\n",
      "Saving csv poses!\n",
      "Starting to analyze %  D:\\YuLab\\Work\\GPS\\Video\\Kennard\\GPS_08_Kornblum1500SRTSelf\\20231014\\Top\\Clips\\Kennard_20231014_HoldTrial057_TopView.avi\n",
      "Loading  D:\\YuLab\\Work\\GPS\\Video\\Kennard\\GPS_08_Kornblum1500SRTSelf\\20231014\\Top\\Clips\\Kennard_20231014_HoldTrial057_TopView.avi\n",
      "Duration of video [s]:  8.04 , recorded with  25.0 fps!\n",
      "Overall # of frames:  201  found with (before cropping) frame dimensions:  1280 1331\n",
      "Starting to extract posture\n",
      "Cropping based on the x1 = 0 x2 = 1280 y1 = 0 y2 = 1024. You can adjust the cropping coordinates in the config.yaml file.\n"
     ]
    },
    {
     "name": "stderr",
     "output_type": "stream",
     "text": [
      "100%|██████████| 201/201 [00:08<00:00, 23.59it/s]\n"
     ]
    },
    {
     "name": "stdout",
     "output_type": "stream",
     "text": [
      "Saving results in D:\\YuLab\\Work\\GPS\\Video\\Kennard\\GPS_08_Kornblum1500SRTSelf\\20231014\\Top\\Clips...\n",
      "Saving csv poses!\n",
      "Starting to analyze %  D:\\YuLab\\Work\\GPS\\Video\\Kennard\\GPS_08_Kornblum1500SRTSelf\\20231014\\Top\\Clips\\Kennard_20231014_HoldTrial058_TopView.avi\n",
      "Loading  D:\\YuLab\\Work\\GPS\\Video\\Kennard\\GPS_08_Kornblum1500SRTSelf\\20231014\\Top\\Clips\\Kennard_20231014_HoldTrial058_TopView.avi\n",
      "Duration of video [s]:  8.04 , recorded with  25.0 fps!\n",
      "Overall # of frames:  201  found with (before cropping) frame dimensions:  1280 1331\n",
      "Starting to extract posture\n",
      "Cropping based on the x1 = 0 x2 = 1280 y1 = 0 y2 = 1024. You can adjust the cropping coordinates in the config.yaml file.\n"
     ]
    },
    {
     "name": "stderr",
     "output_type": "stream",
     "text": [
      "100%|██████████| 201/201 [00:08<00:00, 23.50it/s]\n"
     ]
    },
    {
     "name": "stdout",
     "output_type": "stream",
     "text": [
      "Saving results in D:\\YuLab\\Work\\GPS\\Video\\Kennard\\GPS_08_Kornblum1500SRTSelf\\20231014\\Top\\Clips...\n",
      "Saving csv poses!\n",
      "Starting to analyze %  D:\\YuLab\\Work\\GPS\\Video\\Kennard\\GPS_08_Kornblum1500SRTSelf\\20231014\\Top\\Clips\\Kennard_20231014_HoldTrial059_TopView.avi\n",
      "Loading  D:\\YuLab\\Work\\GPS\\Video\\Kennard\\GPS_08_Kornblum1500SRTSelf\\20231014\\Top\\Clips\\Kennard_20231014_HoldTrial059_TopView.avi\n",
      "Duration of video [s]:  8.0 , recorded with  25.0 fps!\n",
      "Overall # of frames:  200  found with (before cropping) frame dimensions:  1280 1331\n",
      "Starting to extract posture\n",
      "Cropping based on the x1 = 0 x2 = 1280 y1 = 0 y2 = 1024. You can adjust the cropping coordinates in the config.yaml file.\n"
     ]
    },
    {
     "name": "stderr",
     "output_type": "stream",
     "text": [
      "100%|██████████| 200/200 [00:08<00:00, 24.14it/s]\n"
     ]
    },
    {
     "name": "stdout",
     "output_type": "stream",
     "text": [
      "Saving results in D:\\YuLab\\Work\\GPS\\Video\\Kennard\\GPS_08_Kornblum1500SRTSelf\\20231014\\Top\\Clips...\n",
      "Saving csv poses!\n",
      "Starting to analyze %  D:\\YuLab\\Work\\GPS\\Video\\Kennard\\GPS_08_Kornblum1500SRTSelf\\20231014\\Top\\Clips\\Kennard_20231014_HoldTrial060_TopView.avi\n",
      "Loading  D:\\YuLab\\Work\\GPS\\Video\\Kennard\\GPS_08_Kornblum1500SRTSelf\\20231014\\Top\\Clips\\Kennard_20231014_HoldTrial060_TopView.avi\n",
      "Duration of video [s]:  8.0 , recorded with  25.0 fps!\n",
      "Overall # of frames:  200  found with (before cropping) frame dimensions:  1280 1331\n",
      "Starting to extract posture\n",
      "Cropping based on the x1 = 0 x2 = 1280 y1 = 0 y2 = 1024. You can adjust the cropping coordinates in the config.yaml file.\n"
     ]
    },
    {
     "name": "stderr",
     "output_type": "stream",
     "text": [
      "100%|██████████| 200/200 [00:08<00:00, 24.07it/s]\n"
     ]
    },
    {
     "name": "stdout",
     "output_type": "stream",
     "text": [
      "Saving results in D:\\YuLab\\Work\\GPS\\Video\\Kennard\\GPS_08_Kornblum1500SRTSelf\\20231014\\Top\\Clips...\n",
      "Saving csv poses!\n",
      "Starting to analyze %  D:\\YuLab\\Work\\GPS\\Video\\Kennard\\GPS_08_Kornblum1500SRTSelf\\20231014\\Top\\Clips\\Kennard_20231014_HoldTrial061_TopView.avi\n",
      "Loading  D:\\YuLab\\Work\\GPS\\Video\\Kennard\\GPS_08_Kornblum1500SRTSelf\\20231014\\Top\\Clips\\Kennard_20231014_HoldTrial061_TopView.avi\n",
      "Duration of video [s]:  8.04 , recorded with  25.0 fps!\n",
      "Overall # of frames:  201  found with (before cropping) frame dimensions:  1280 1331\n",
      "Starting to extract posture\n",
      "Cropping based on the x1 = 0 x2 = 1280 y1 = 0 y2 = 1024. You can adjust the cropping coordinates in the config.yaml file.\n"
     ]
    },
    {
     "name": "stderr",
     "output_type": "stream",
     "text": [
      "100%|██████████| 201/201 [00:08<00:00, 23.44it/s]\n"
     ]
    },
    {
     "name": "stdout",
     "output_type": "stream",
     "text": [
      "Saving results in D:\\YuLab\\Work\\GPS\\Video\\Kennard\\GPS_08_Kornblum1500SRTSelf\\20231014\\Top\\Clips...\n",
      "Saving csv poses!\n",
      "Starting to analyze %  D:\\YuLab\\Work\\GPS\\Video\\Kennard\\GPS_08_Kornblum1500SRTSelf\\20231014\\Top\\Clips\\Kennard_20231014_HoldTrial062_TopView.avi\n",
      "Loading  D:\\YuLab\\Work\\GPS\\Video\\Kennard\\GPS_08_Kornblum1500SRTSelf\\20231014\\Top\\Clips\\Kennard_20231014_HoldTrial062_TopView.avi\n",
      "Duration of video [s]:  8.0 , recorded with  25.0 fps!\n",
      "Overall # of frames:  200  found with (before cropping) frame dimensions:  1280 1331\n",
      "Starting to extract posture\n",
      "Cropping based on the x1 = 0 x2 = 1280 y1 = 0 y2 = 1024. You can adjust the cropping coordinates in the config.yaml file.\n"
     ]
    },
    {
     "name": "stderr",
     "output_type": "stream",
     "text": [
      "100%|██████████| 200/200 [00:08<00:00, 24.05it/s]\n"
     ]
    },
    {
     "name": "stdout",
     "output_type": "stream",
     "text": [
      "Saving results in D:\\YuLab\\Work\\GPS\\Video\\Kennard\\GPS_08_Kornblum1500SRTSelf\\20231014\\Top\\Clips...\n",
      "Saving csv poses!\n",
      "Starting to analyze %  D:\\YuLab\\Work\\GPS\\Video\\Kennard\\GPS_08_Kornblum1500SRTSelf\\20231014\\Top\\Clips\\Kennard_20231014_HoldTrial063_TopView.avi\n",
      "Loading  D:\\YuLab\\Work\\GPS\\Video\\Kennard\\GPS_08_Kornblum1500SRTSelf\\20231014\\Top\\Clips\\Kennard_20231014_HoldTrial063_TopView.avi\n",
      "Duration of video [s]:  8.0 , recorded with  25.0 fps!\n",
      "Overall # of frames:  200  found with (before cropping) frame dimensions:  1280 1331\n",
      "Starting to extract posture\n",
      "Cropping based on the x1 = 0 x2 = 1280 y1 = 0 y2 = 1024. You can adjust the cropping coordinates in the config.yaml file.\n"
     ]
    },
    {
     "name": "stderr",
     "output_type": "stream",
     "text": [
      "100%|██████████| 200/200 [00:08<00:00, 24.08it/s]\n"
     ]
    },
    {
     "name": "stdout",
     "output_type": "stream",
     "text": [
      "Saving results in D:\\YuLab\\Work\\GPS\\Video\\Kennard\\GPS_08_Kornblum1500SRTSelf\\20231014\\Top\\Clips...\n",
      "Saving csv poses!\n",
      "Starting to analyze %  D:\\YuLab\\Work\\GPS\\Video\\Kennard\\GPS_08_Kornblum1500SRTSelf\\20231014\\Top\\Clips\\Kennard_20231014_HoldTrial064_TopView.avi\n",
      "Loading  D:\\YuLab\\Work\\GPS\\Video\\Kennard\\GPS_08_Kornblum1500SRTSelf\\20231014\\Top\\Clips\\Kennard_20231014_HoldTrial064_TopView.avi\n",
      "Duration of video [s]:  8.04 , recorded with  25.0 fps!\n",
      "Overall # of frames:  201  found with (before cropping) frame dimensions:  1280 1331\n",
      "Starting to extract posture\n",
      "Cropping based on the x1 = 0 x2 = 1280 y1 = 0 y2 = 1024. You can adjust the cropping coordinates in the config.yaml file.\n"
     ]
    },
    {
     "name": "stderr",
     "output_type": "stream",
     "text": [
      "100%|██████████| 201/201 [00:08<00:00, 23.61it/s]\n"
     ]
    },
    {
     "name": "stdout",
     "output_type": "stream",
     "text": [
      "Saving results in D:\\YuLab\\Work\\GPS\\Video\\Kennard\\GPS_08_Kornblum1500SRTSelf\\20231014\\Top\\Clips...\n",
      "Saving csv poses!\n",
      "Starting to analyze %  D:\\YuLab\\Work\\GPS\\Video\\Kennard\\GPS_08_Kornblum1500SRTSelf\\20231014\\Top\\Clips\\Kennard_20231014_HoldTrial065_TopView.avi\n",
      "Loading  D:\\YuLab\\Work\\GPS\\Video\\Kennard\\GPS_08_Kornblum1500SRTSelf\\20231014\\Top\\Clips\\Kennard_20231014_HoldTrial065_TopView.avi\n",
      "Duration of video [s]:  8.0 , recorded with  25.0 fps!\n",
      "Overall # of frames:  200  found with (before cropping) frame dimensions:  1280 1331\n",
      "Starting to extract posture\n",
      "Cropping based on the x1 = 0 x2 = 1280 y1 = 0 y2 = 1024. You can adjust the cropping coordinates in the config.yaml file.\n"
     ]
    },
    {
     "name": "stderr",
     "output_type": "stream",
     "text": [
      "100%|██████████| 200/200 [00:08<00:00, 24.23it/s]\n"
     ]
    },
    {
     "name": "stdout",
     "output_type": "stream",
     "text": [
      "Saving results in D:\\YuLab\\Work\\GPS\\Video\\Kennard\\GPS_08_Kornblum1500SRTSelf\\20231014\\Top\\Clips...\n",
      "Saving csv poses!\n",
      "Starting to analyze %  D:\\YuLab\\Work\\GPS\\Video\\Kennard\\GPS_08_Kornblum1500SRTSelf\\20231014\\Top\\Clips\\Kennard_20231014_HoldTrial066_TopView.avi\n",
      "Loading  D:\\YuLab\\Work\\GPS\\Video\\Kennard\\GPS_08_Kornblum1500SRTSelf\\20231014\\Top\\Clips\\Kennard_20231014_HoldTrial066_TopView.avi\n",
      "Duration of video [s]:  8.0 , recorded with  25.0 fps!\n",
      "Overall # of frames:  200  found with (before cropping) frame dimensions:  1280 1331\n",
      "Starting to extract posture\n",
      "Cropping based on the x1 = 0 x2 = 1280 y1 = 0 y2 = 1024. You can adjust the cropping coordinates in the config.yaml file.\n"
     ]
    },
    {
     "name": "stderr",
     "output_type": "stream",
     "text": [
      "100%|██████████| 200/200 [00:08<00:00, 24.21it/s]\n"
     ]
    },
    {
     "name": "stdout",
     "output_type": "stream",
     "text": [
      "Saving results in D:\\YuLab\\Work\\GPS\\Video\\Kennard\\GPS_08_Kornblum1500SRTSelf\\20231014\\Top\\Clips...\n",
      "Saving csv poses!\n",
      "Starting to analyze %  D:\\YuLab\\Work\\GPS\\Video\\Kennard\\GPS_08_Kornblum1500SRTSelf\\20231014\\Top\\Clips\\Kennard_20231014_HoldTrial067_TopView.avi\n",
      "Loading  D:\\YuLab\\Work\\GPS\\Video\\Kennard\\GPS_08_Kornblum1500SRTSelf\\20231014\\Top\\Clips\\Kennard_20231014_HoldTrial067_TopView.avi\n",
      "Duration of video [s]:  8.0 , recorded with  25.0 fps!\n",
      "Overall # of frames:  200  found with (before cropping) frame dimensions:  1280 1331\n",
      "Starting to extract posture\n",
      "Cropping based on the x1 = 0 x2 = 1280 y1 = 0 y2 = 1024. You can adjust the cropping coordinates in the config.yaml file.\n"
     ]
    },
    {
     "name": "stderr",
     "output_type": "stream",
     "text": [
      "100%|██████████| 200/200 [00:08<00:00, 24.18it/s]\n"
     ]
    },
    {
     "name": "stdout",
     "output_type": "stream",
     "text": [
      "Saving results in D:\\YuLab\\Work\\GPS\\Video\\Kennard\\GPS_08_Kornblum1500SRTSelf\\20231014\\Top\\Clips...\n",
      "Saving csv poses!\n",
      "Starting to analyze %  D:\\YuLab\\Work\\GPS\\Video\\Kennard\\GPS_08_Kornblum1500SRTSelf\\20231014\\Top\\Clips\\Kennard_20231014_HoldTrial068_TopView.avi\n",
      "Loading  D:\\YuLab\\Work\\GPS\\Video\\Kennard\\GPS_08_Kornblum1500SRTSelf\\20231014\\Top\\Clips\\Kennard_20231014_HoldTrial068_TopView.avi\n",
      "Duration of video [s]:  8.0 , recorded with  25.0 fps!\n",
      "Overall # of frames:  200  found with (before cropping) frame dimensions:  1280 1331\n",
      "Starting to extract posture\n",
      "Cropping based on the x1 = 0 x2 = 1280 y1 = 0 y2 = 1024. You can adjust the cropping coordinates in the config.yaml file.\n"
     ]
    },
    {
     "name": "stderr",
     "output_type": "stream",
     "text": [
      "100%|██████████| 200/200 [00:08<00:00, 24.13it/s]\n"
     ]
    },
    {
     "name": "stdout",
     "output_type": "stream",
     "text": [
      "Saving results in D:\\YuLab\\Work\\GPS\\Video\\Kennard\\GPS_08_Kornblum1500SRTSelf\\20231014\\Top\\Clips...\n",
      "Saving csv poses!\n",
      "Starting to analyze %  D:\\YuLab\\Work\\GPS\\Video\\Kennard\\GPS_08_Kornblum1500SRTSelf\\20231014\\Top\\Clips\\Kennard_20231014_HoldTrial069_TopView.avi\n",
      "Loading  D:\\YuLab\\Work\\GPS\\Video\\Kennard\\GPS_08_Kornblum1500SRTSelf\\20231014\\Top\\Clips\\Kennard_20231014_HoldTrial069_TopView.avi\n",
      "Duration of video [s]:  8.04 , recorded with  25.0 fps!\n",
      "Overall # of frames:  201  found with (before cropping) frame dimensions:  1280 1331\n",
      "Starting to extract posture\n",
      "Cropping based on the x1 = 0 x2 = 1280 y1 = 0 y2 = 1024. You can adjust the cropping coordinates in the config.yaml file.\n"
     ]
    },
    {
     "name": "stderr",
     "output_type": "stream",
     "text": [
      "100%|██████████| 201/201 [00:08<00:00, 23.38it/s]\n"
     ]
    },
    {
     "name": "stdout",
     "output_type": "stream",
     "text": [
      "Saving results in D:\\YuLab\\Work\\GPS\\Video\\Kennard\\GPS_08_Kornblum1500SRTSelf\\20231014\\Top\\Clips...\n",
      "Saving csv poses!\n",
      "Starting to analyze %  D:\\YuLab\\Work\\GPS\\Video\\Kennard\\GPS_08_Kornblum1500SRTSelf\\20231014\\Top\\Clips\\Kennard_20231014_HoldTrial070_TopView.avi\n",
      "Loading  D:\\YuLab\\Work\\GPS\\Video\\Kennard\\GPS_08_Kornblum1500SRTSelf\\20231014\\Top\\Clips\\Kennard_20231014_HoldTrial070_TopView.avi\n",
      "Duration of video [s]:  8.0 , recorded with  25.0 fps!\n",
      "Overall # of frames:  200  found with (before cropping) frame dimensions:  1280 1331\n",
      "Starting to extract posture\n",
      "Cropping based on the x1 = 0 x2 = 1280 y1 = 0 y2 = 1024. You can adjust the cropping coordinates in the config.yaml file.\n"
     ]
    },
    {
     "name": "stderr",
     "output_type": "stream",
     "text": [
      "100%|██████████| 200/200 [00:08<00:00, 24.10it/s]\n"
     ]
    },
    {
     "name": "stdout",
     "output_type": "stream",
     "text": [
      "Saving results in D:\\YuLab\\Work\\GPS\\Video\\Kennard\\GPS_08_Kornblum1500SRTSelf\\20231014\\Top\\Clips...\n",
      "Saving csv poses!\n",
      "Starting to analyze %  D:\\YuLab\\Work\\GPS\\Video\\Kennard\\GPS_08_Kornblum1500SRTSelf\\20231014\\Top\\Clips\\Kennard_20231014_HoldTrial071_TopView.avi\n",
      "Loading  D:\\YuLab\\Work\\GPS\\Video\\Kennard\\GPS_08_Kornblum1500SRTSelf\\20231014\\Top\\Clips\\Kennard_20231014_HoldTrial071_TopView.avi\n",
      "Duration of video [s]:  8.04 , recorded with  25.0 fps!\n",
      "Overall # of frames:  201  found with (before cropping) frame dimensions:  1280 1331\n",
      "Starting to extract posture\n",
      "Cropping based on the x1 = 0 x2 = 1280 y1 = 0 y2 = 1024. You can adjust the cropping coordinates in the config.yaml file.\n"
     ]
    },
    {
     "name": "stderr",
     "output_type": "stream",
     "text": [
      "100%|██████████| 201/201 [00:08<00:00, 23.47it/s]\n"
     ]
    },
    {
     "name": "stdout",
     "output_type": "stream",
     "text": [
      "Saving results in D:\\YuLab\\Work\\GPS\\Video\\Kennard\\GPS_08_Kornblum1500SRTSelf\\20231014\\Top\\Clips...\n",
      "Saving csv poses!\n",
      "Starting to analyze %  D:\\YuLab\\Work\\GPS\\Video\\Kennard\\GPS_08_Kornblum1500SRTSelf\\20231014\\Top\\Clips\\Kennard_20231014_HoldTrial072_TopView.avi\n",
      "Loading  D:\\YuLab\\Work\\GPS\\Video\\Kennard\\GPS_08_Kornblum1500SRTSelf\\20231014\\Top\\Clips\\Kennard_20231014_HoldTrial072_TopView.avi\n",
      "Duration of video [s]:  8.0 , recorded with  25.0 fps!\n",
      "Overall # of frames:  200  found with (before cropping) frame dimensions:  1280 1331\n",
      "Starting to extract posture\n",
      "Cropping based on the x1 = 0 x2 = 1280 y1 = 0 y2 = 1024. You can adjust the cropping coordinates in the config.yaml file.\n"
     ]
    },
    {
     "name": "stderr",
     "output_type": "stream",
     "text": [
      "100%|██████████| 200/200 [00:08<00:00, 24.26it/s]\n"
     ]
    },
    {
     "name": "stdout",
     "output_type": "stream",
     "text": [
      "Saving results in D:\\YuLab\\Work\\GPS\\Video\\Kennard\\GPS_08_Kornblum1500SRTSelf\\20231014\\Top\\Clips...\n",
      "Saving csv poses!\n",
      "Starting to analyze %  D:\\YuLab\\Work\\GPS\\Video\\Kennard\\GPS_08_Kornblum1500SRTSelf\\20231014\\Top\\Clips\\Kennard_20231014_HoldTrial073_TopView.avi\n",
      "Loading  D:\\YuLab\\Work\\GPS\\Video\\Kennard\\GPS_08_Kornblum1500SRTSelf\\20231014\\Top\\Clips\\Kennard_20231014_HoldTrial073_TopView.avi\n",
      "Duration of video [s]:  8.04 , recorded with  25.0 fps!\n",
      "Overall # of frames:  201  found with (before cropping) frame dimensions:  1280 1331\n",
      "Starting to extract posture\n",
      "Cropping based on the x1 = 0 x2 = 1280 y1 = 0 y2 = 1024. You can adjust the cropping coordinates in the config.yaml file.\n"
     ]
    },
    {
     "name": "stderr",
     "output_type": "stream",
     "text": [
      "100%|██████████| 201/201 [00:08<00:00, 23.60it/s]\n"
     ]
    },
    {
     "name": "stdout",
     "output_type": "stream",
     "text": [
      "Saving results in D:\\YuLab\\Work\\GPS\\Video\\Kennard\\GPS_08_Kornblum1500SRTSelf\\20231014\\Top\\Clips...\n",
      "Saving csv poses!\n",
      "Starting to analyze %  D:\\YuLab\\Work\\GPS\\Video\\Kennard\\GPS_08_Kornblum1500SRTSelf\\20231014\\Top\\Clips\\Kennard_20231014_HoldTrial074_TopView.avi\n",
      "Loading  D:\\YuLab\\Work\\GPS\\Video\\Kennard\\GPS_08_Kornblum1500SRTSelf\\20231014\\Top\\Clips\\Kennard_20231014_HoldTrial074_TopView.avi\n",
      "Duration of video [s]:  8.0 , recorded with  25.0 fps!\n",
      "Overall # of frames:  200  found with (before cropping) frame dimensions:  1280 1331\n",
      "Starting to extract posture\n",
      "Cropping based on the x1 = 0 x2 = 1280 y1 = 0 y2 = 1024. You can adjust the cropping coordinates in the config.yaml file.\n"
     ]
    },
    {
     "name": "stderr",
     "output_type": "stream",
     "text": [
      "100%|██████████| 200/200 [00:08<00:00, 24.23it/s]\n"
     ]
    },
    {
     "name": "stdout",
     "output_type": "stream",
     "text": [
      "Saving results in D:\\YuLab\\Work\\GPS\\Video\\Kennard\\GPS_08_Kornblum1500SRTSelf\\20231014\\Top\\Clips...\n",
      "Saving csv poses!\n",
      "Starting to analyze %  D:\\YuLab\\Work\\GPS\\Video\\Kennard\\GPS_08_Kornblum1500SRTSelf\\20231014\\Top\\Clips\\Kennard_20231014_HoldTrial075_TopView.avi\n",
      "Loading  D:\\YuLab\\Work\\GPS\\Video\\Kennard\\GPS_08_Kornblum1500SRTSelf\\20231014\\Top\\Clips\\Kennard_20231014_HoldTrial075_TopView.avi\n",
      "Duration of video [s]:  8.04 , recorded with  25.0 fps!\n",
      "Overall # of frames:  201  found with (before cropping) frame dimensions:  1280 1331\n",
      "Starting to extract posture\n",
      "Cropping based on the x1 = 0 x2 = 1280 y1 = 0 y2 = 1024. You can adjust the cropping coordinates in the config.yaml file.\n"
     ]
    },
    {
     "name": "stderr",
     "output_type": "stream",
     "text": [
      "100%|██████████| 201/201 [00:08<00:00, 23.49it/s]\n"
     ]
    },
    {
     "name": "stdout",
     "output_type": "stream",
     "text": [
      "Saving results in D:\\YuLab\\Work\\GPS\\Video\\Kennard\\GPS_08_Kornblum1500SRTSelf\\20231014\\Top\\Clips...\n",
      "Saving csv poses!\n",
      "Starting to analyze %  D:\\YuLab\\Work\\GPS\\Video\\Kennard\\GPS_08_Kornblum1500SRTSelf\\20231014\\Top\\Clips\\Kennard_20231014_HoldTrial076_TopView.avi\n",
      "Loading  D:\\YuLab\\Work\\GPS\\Video\\Kennard\\GPS_08_Kornblum1500SRTSelf\\20231014\\Top\\Clips\\Kennard_20231014_HoldTrial076_TopView.avi\n",
      "Duration of video [s]:  8.0 , recorded with  25.0 fps!\n",
      "Overall # of frames:  200  found with (before cropping) frame dimensions:  1280 1331\n",
      "Starting to extract posture\n",
      "Cropping based on the x1 = 0 x2 = 1280 y1 = 0 y2 = 1024. You can adjust the cropping coordinates in the config.yaml file.\n"
     ]
    },
    {
     "name": "stderr",
     "output_type": "stream",
     "text": [
      "100%|██████████| 200/200 [00:08<00:00, 24.11it/s]\n"
     ]
    },
    {
     "name": "stdout",
     "output_type": "stream",
     "text": [
      "Saving results in D:\\YuLab\\Work\\GPS\\Video\\Kennard\\GPS_08_Kornblum1500SRTSelf\\20231014\\Top\\Clips...\n",
      "Saving csv poses!\n",
      "Starting to analyze %  D:\\YuLab\\Work\\GPS\\Video\\Kennard\\GPS_08_Kornblum1500SRTSelf\\20231014\\Top\\Clips\\Kennard_20231014_HoldTrial077_TopView.avi\n",
      "Loading  D:\\YuLab\\Work\\GPS\\Video\\Kennard\\GPS_08_Kornblum1500SRTSelf\\20231014\\Top\\Clips\\Kennard_20231014_HoldTrial077_TopView.avi\n",
      "Duration of video [s]:  8.04 , recorded with  25.0 fps!\n",
      "Overall # of frames:  201  found with (before cropping) frame dimensions:  1280 1331\n",
      "Starting to extract posture\n",
      "Cropping based on the x1 = 0 x2 = 1280 y1 = 0 y2 = 1024. You can adjust the cropping coordinates in the config.yaml file.\n"
     ]
    },
    {
     "name": "stderr",
     "output_type": "stream",
     "text": [
      "100%|██████████| 201/201 [00:08<00:00, 23.39it/s]\n"
     ]
    },
    {
     "name": "stdout",
     "output_type": "stream",
     "text": [
      "Saving results in D:\\YuLab\\Work\\GPS\\Video\\Kennard\\GPS_08_Kornblum1500SRTSelf\\20231014\\Top\\Clips...\n",
      "Saving csv poses!\n",
      "Starting to analyze %  D:\\YuLab\\Work\\GPS\\Video\\Kennard\\GPS_08_Kornblum1500SRTSelf\\20231014\\Top\\Clips\\Kennard_20231014_HoldTrial078_TopView.avi\n",
      "Loading  D:\\YuLab\\Work\\GPS\\Video\\Kennard\\GPS_08_Kornblum1500SRTSelf\\20231014\\Top\\Clips\\Kennard_20231014_HoldTrial078_TopView.avi\n",
      "Duration of video [s]:  8.04 , recorded with  25.0 fps!\n",
      "Overall # of frames:  201  found with (before cropping) frame dimensions:  1280 1331\n",
      "Starting to extract posture\n",
      "Cropping based on the x1 = 0 x2 = 1280 y1 = 0 y2 = 1024. You can adjust the cropping coordinates in the config.yaml file.\n"
     ]
    },
    {
     "name": "stderr",
     "output_type": "stream",
     "text": [
      "100%|██████████| 201/201 [00:08<00:00, 23.37it/s]\n"
     ]
    },
    {
     "name": "stdout",
     "output_type": "stream",
     "text": [
      "Saving results in D:\\YuLab\\Work\\GPS\\Video\\Kennard\\GPS_08_Kornblum1500SRTSelf\\20231014\\Top\\Clips...\n",
      "Saving csv poses!\n",
      "Starting to analyze %  D:\\YuLab\\Work\\GPS\\Video\\Kennard\\GPS_08_Kornblum1500SRTSelf\\20231014\\Top\\Clips\\Kennard_20231014_HoldTrial079_TopView.avi\n",
      "Loading  D:\\YuLab\\Work\\GPS\\Video\\Kennard\\GPS_08_Kornblum1500SRTSelf\\20231014\\Top\\Clips\\Kennard_20231014_HoldTrial079_TopView.avi\n",
      "Duration of video [s]:  8.0 , recorded with  25.0 fps!\n",
      "Overall # of frames:  200  found with (before cropping) frame dimensions:  1280 1331\n",
      "Starting to extract posture\n",
      "Cropping based on the x1 = 0 x2 = 1280 y1 = 0 y2 = 1024. You can adjust the cropping coordinates in the config.yaml file.\n"
     ]
    },
    {
     "name": "stderr",
     "output_type": "stream",
     "text": [
      "100%|██████████| 200/200 [00:08<00:00, 24.11it/s]\n"
     ]
    },
    {
     "name": "stdout",
     "output_type": "stream",
     "text": [
      "Saving results in D:\\YuLab\\Work\\GPS\\Video\\Kennard\\GPS_08_Kornblum1500SRTSelf\\20231014\\Top\\Clips...\n",
      "Saving csv poses!\n",
      "Starting to analyze %  D:\\YuLab\\Work\\GPS\\Video\\Kennard\\GPS_08_Kornblum1500SRTSelf\\20231014\\Top\\Clips\\Kennard_20231014_HoldTrial080_TopView.avi\n",
      "Loading  D:\\YuLab\\Work\\GPS\\Video\\Kennard\\GPS_08_Kornblum1500SRTSelf\\20231014\\Top\\Clips\\Kennard_20231014_HoldTrial080_TopView.avi\n",
      "Duration of video [s]:  8.04 , recorded with  25.0 fps!\n",
      "Overall # of frames:  201  found with (before cropping) frame dimensions:  1280 1331\n",
      "Starting to extract posture\n",
      "Cropping based on the x1 = 0 x2 = 1280 y1 = 0 y2 = 1024. You can adjust the cropping coordinates in the config.yaml file.\n"
     ]
    },
    {
     "name": "stderr",
     "output_type": "stream",
     "text": [
      "100%|██████████| 201/201 [00:08<00:00, 23.51it/s]\n"
     ]
    },
    {
     "name": "stdout",
     "output_type": "stream",
     "text": [
      "Saving results in D:\\YuLab\\Work\\GPS\\Video\\Kennard\\GPS_08_Kornblum1500SRTSelf\\20231014\\Top\\Clips...\n",
      "Saving csv poses!\n",
      "Starting to analyze %  D:\\YuLab\\Work\\GPS\\Video\\Kennard\\GPS_08_Kornblum1500SRTSelf\\20231014\\Top\\Clips\\Kennard_20231014_HoldTrial081_TopView.avi\n",
      "Loading  D:\\YuLab\\Work\\GPS\\Video\\Kennard\\GPS_08_Kornblum1500SRTSelf\\20231014\\Top\\Clips\\Kennard_20231014_HoldTrial081_TopView.avi\n",
      "Duration of video [s]:  8.0 , recorded with  25.0 fps!\n",
      "Overall # of frames:  200  found with (before cropping) frame dimensions:  1280 1331\n",
      "Starting to extract posture\n",
      "Cropping based on the x1 = 0 x2 = 1280 y1 = 0 y2 = 1024. You can adjust the cropping coordinates in the config.yaml file.\n"
     ]
    },
    {
     "name": "stderr",
     "output_type": "stream",
     "text": [
      "100%|██████████| 200/200 [00:08<00:00, 24.15it/s]\n"
     ]
    },
    {
     "name": "stdout",
     "output_type": "stream",
     "text": [
      "Saving results in D:\\YuLab\\Work\\GPS\\Video\\Kennard\\GPS_08_Kornblum1500SRTSelf\\20231014\\Top\\Clips...\n",
      "Saving csv poses!\n",
      "Starting to analyze %  D:\\YuLab\\Work\\GPS\\Video\\Kennard\\GPS_08_Kornblum1500SRTSelf\\20231014\\Top\\Clips\\Kennard_20231014_HoldTrial082_TopView.avi\n",
      "Loading  D:\\YuLab\\Work\\GPS\\Video\\Kennard\\GPS_08_Kornblum1500SRTSelf\\20231014\\Top\\Clips\\Kennard_20231014_HoldTrial082_TopView.avi\n",
      "Duration of video [s]:  8.04 , recorded with  25.0 fps!\n",
      "Overall # of frames:  201  found with (before cropping) frame dimensions:  1280 1331\n",
      "Starting to extract posture\n",
      "Cropping based on the x1 = 0 x2 = 1280 y1 = 0 y2 = 1024. You can adjust the cropping coordinates in the config.yaml file.\n"
     ]
    },
    {
     "name": "stderr",
     "output_type": "stream",
     "text": [
      "100%|██████████| 201/201 [00:08<00:00, 23.47it/s]\n"
     ]
    },
    {
     "name": "stdout",
     "output_type": "stream",
     "text": [
      "Saving results in D:\\YuLab\\Work\\GPS\\Video\\Kennard\\GPS_08_Kornblum1500SRTSelf\\20231014\\Top\\Clips...\n",
      "Saving csv poses!\n",
      "Starting to analyze %  D:\\YuLab\\Work\\GPS\\Video\\Kennard\\GPS_08_Kornblum1500SRTSelf\\20231014\\Top\\Clips\\Kennard_20231014_HoldTrial083_TopView.avi\n",
      "Loading  D:\\YuLab\\Work\\GPS\\Video\\Kennard\\GPS_08_Kornblum1500SRTSelf\\20231014\\Top\\Clips\\Kennard_20231014_HoldTrial083_TopView.avi\n",
      "Duration of video [s]:  8.0 , recorded with  25.0 fps!\n",
      "Overall # of frames:  200  found with (before cropping) frame dimensions:  1280 1331\n",
      "Starting to extract posture\n",
      "Cropping based on the x1 = 0 x2 = 1280 y1 = 0 y2 = 1024. You can adjust the cropping coordinates in the config.yaml file.\n"
     ]
    },
    {
     "name": "stderr",
     "output_type": "stream",
     "text": [
      "100%|██████████| 200/200 [00:08<00:00, 24.08it/s]\n"
     ]
    },
    {
     "name": "stdout",
     "output_type": "stream",
     "text": [
      "Saving results in D:\\YuLab\\Work\\GPS\\Video\\Kennard\\GPS_08_Kornblum1500SRTSelf\\20231014\\Top\\Clips...\n",
      "Saving csv poses!\n",
      "Starting to analyze %  D:\\YuLab\\Work\\GPS\\Video\\Kennard\\GPS_08_Kornblum1500SRTSelf\\20231014\\Top\\Clips\\Kennard_20231014_HoldTrial084_TopView.avi\n",
      "Loading  D:\\YuLab\\Work\\GPS\\Video\\Kennard\\GPS_08_Kornblum1500SRTSelf\\20231014\\Top\\Clips\\Kennard_20231014_HoldTrial084_TopView.avi\n",
      "Duration of video [s]:  8.04 , recorded with  25.0 fps!\n",
      "Overall # of frames:  201  found with (before cropping) frame dimensions:  1280 1331\n",
      "Starting to extract posture\n",
      "Cropping based on the x1 = 0 x2 = 1280 y1 = 0 y2 = 1024. You can adjust the cropping coordinates in the config.yaml file.\n"
     ]
    },
    {
     "name": "stderr",
     "output_type": "stream",
     "text": [
      "100%|██████████| 201/201 [00:08<00:00, 23.43it/s]\n"
     ]
    },
    {
     "name": "stdout",
     "output_type": "stream",
     "text": [
      "Saving results in D:\\YuLab\\Work\\GPS\\Video\\Kennard\\GPS_08_Kornblum1500SRTSelf\\20231014\\Top\\Clips...\n",
      "Saving csv poses!\n",
      "Starting to analyze %  D:\\YuLab\\Work\\GPS\\Video\\Kennard\\GPS_08_Kornblum1500SRTSelf\\20231014\\Top\\Clips\\Kennard_20231014_HoldTrial085_TopView.avi\n",
      "Loading  D:\\YuLab\\Work\\GPS\\Video\\Kennard\\GPS_08_Kornblum1500SRTSelf\\20231014\\Top\\Clips\\Kennard_20231014_HoldTrial085_TopView.avi\n",
      "Duration of video [s]:  8.04 , recorded with  25.0 fps!\n",
      "Overall # of frames:  201  found with (before cropping) frame dimensions:  1280 1331\n",
      "Starting to extract posture\n",
      "Cropping based on the x1 = 0 x2 = 1280 y1 = 0 y2 = 1024. You can adjust the cropping coordinates in the config.yaml file.\n"
     ]
    },
    {
     "name": "stderr",
     "output_type": "stream",
     "text": [
      "100%|██████████| 201/201 [00:08<00:00, 23.39it/s]\n"
     ]
    },
    {
     "name": "stdout",
     "output_type": "stream",
     "text": [
      "Saving results in D:\\YuLab\\Work\\GPS\\Video\\Kennard\\GPS_08_Kornblum1500SRTSelf\\20231014\\Top\\Clips...\n",
      "Saving csv poses!\n",
      "Starting to analyze %  D:\\YuLab\\Work\\GPS\\Video\\Kennard\\GPS_08_Kornblum1500SRTSelf\\20231014\\Top\\Clips\\Kennard_20231014_HoldTrial086_TopView.avi\n",
      "Loading  D:\\YuLab\\Work\\GPS\\Video\\Kennard\\GPS_08_Kornblum1500SRTSelf\\20231014\\Top\\Clips\\Kennard_20231014_HoldTrial086_TopView.avi\n",
      "Duration of video [s]:  8.0 , recorded with  25.0 fps!\n",
      "Overall # of frames:  200  found with (before cropping) frame dimensions:  1280 1331\n",
      "Starting to extract posture\n",
      "Cropping based on the x1 = 0 x2 = 1280 y1 = 0 y2 = 1024. You can adjust the cropping coordinates in the config.yaml file.\n"
     ]
    },
    {
     "name": "stderr",
     "output_type": "stream",
     "text": [
      "100%|██████████| 200/200 [00:08<00:00, 24.06it/s]\n"
     ]
    },
    {
     "name": "stdout",
     "output_type": "stream",
     "text": [
      "Saving results in D:\\YuLab\\Work\\GPS\\Video\\Kennard\\GPS_08_Kornblum1500SRTSelf\\20231014\\Top\\Clips...\n",
      "Saving csv poses!\n",
      "Starting to analyze %  D:\\YuLab\\Work\\GPS\\Video\\Kennard\\GPS_08_Kornblum1500SRTSelf\\20231014\\Top\\Clips\\Kennard_20231014_HoldTrial087_TopView.avi\n",
      "Loading  D:\\YuLab\\Work\\GPS\\Video\\Kennard\\GPS_08_Kornblum1500SRTSelf\\20231014\\Top\\Clips\\Kennard_20231014_HoldTrial087_TopView.avi\n",
      "Duration of video [s]:  8.04 , recorded with  25.0 fps!\n",
      "Overall # of frames:  201  found with (before cropping) frame dimensions:  1280 1331\n",
      "Starting to extract posture\n",
      "Cropping based on the x1 = 0 x2 = 1280 y1 = 0 y2 = 1024. You can adjust the cropping coordinates in the config.yaml file.\n"
     ]
    },
    {
     "name": "stderr",
     "output_type": "stream",
     "text": [
      "100%|██████████| 201/201 [00:08<00:00, 23.38it/s]\n"
     ]
    },
    {
     "name": "stdout",
     "output_type": "stream",
     "text": [
      "Saving results in D:\\YuLab\\Work\\GPS\\Video\\Kennard\\GPS_08_Kornblum1500SRTSelf\\20231014\\Top\\Clips...\n",
      "Saving csv poses!\n",
      "Starting to analyze %  D:\\YuLab\\Work\\GPS\\Video\\Kennard\\GPS_08_Kornblum1500SRTSelf\\20231014\\Top\\Clips\\Kennard_20231014_HoldTrial088_TopView.avi\n",
      "Loading  D:\\YuLab\\Work\\GPS\\Video\\Kennard\\GPS_08_Kornblum1500SRTSelf\\20231014\\Top\\Clips\\Kennard_20231014_HoldTrial088_TopView.avi\n",
      "Duration of video [s]:  8.0 , recorded with  25.0 fps!\n",
      "Overall # of frames:  200  found with (before cropping) frame dimensions:  1280 1331\n",
      "Starting to extract posture\n",
      "Cropping based on the x1 = 0 x2 = 1280 y1 = 0 y2 = 1024. You can adjust the cropping coordinates in the config.yaml file.\n"
     ]
    },
    {
     "name": "stderr",
     "output_type": "stream",
     "text": [
      "100%|██████████| 200/200 [00:08<00:00, 24.20it/s]\n"
     ]
    },
    {
     "name": "stdout",
     "output_type": "stream",
     "text": [
      "Saving results in D:\\YuLab\\Work\\GPS\\Video\\Kennard\\GPS_08_Kornblum1500SRTSelf\\20231014\\Top\\Clips...\n",
      "Saving csv poses!\n",
      "Starting to analyze %  D:\\YuLab\\Work\\GPS\\Video\\Kennard\\GPS_08_Kornblum1500SRTSelf\\20231014\\Top\\Clips\\Kennard_20231014_HoldTrial089_TopView.avi\n",
      "Loading  D:\\YuLab\\Work\\GPS\\Video\\Kennard\\GPS_08_Kornblum1500SRTSelf\\20231014\\Top\\Clips\\Kennard_20231014_HoldTrial089_TopView.avi\n",
      "Duration of video [s]:  8.04 , recorded with  25.0 fps!\n",
      "Overall # of frames:  201  found with (before cropping) frame dimensions:  1280 1331\n",
      "Starting to extract posture\n",
      "Cropping based on the x1 = 0 x2 = 1280 y1 = 0 y2 = 1024. You can adjust the cropping coordinates in the config.yaml file.\n"
     ]
    },
    {
     "name": "stderr",
     "output_type": "stream",
     "text": [
      "100%|██████████| 201/201 [00:08<00:00, 23.57it/s]\n"
     ]
    },
    {
     "name": "stdout",
     "output_type": "stream",
     "text": [
      "Saving results in D:\\YuLab\\Work\\GPS\\Video\\Kennard\\GPS_08_Kornblum1500SRTSelf\\20231014\\Top\\Clips...\n",
      "Saving csv poses!\n",
      "Starting to analyze %  D:\\YuLab\\Work\\GPS\\Video\\Kennard\\GPS_08_Kornblum1500SRTSelf\\20231014\\Top\\Clips\\Kennard_20231014_HoldTrial090_TopView.avi\n",
      "Loading  D:\\YuLab\\Work\\GPS\\Video\\Kennard\\GPS_08_Kornblum1500SRTSelf\\20231014\\Top\\Clips\\Kennard_20231014_HoldTrial090_TopView.avi\n",
      "Duration of video [s]:  8.0 , recorded with  25.0 fps!\n",
      "Overall # of frames:  200  found with (before cropping) frame dimensions:  1280 1331\n",
      "Starting to extract posture\n",
      "Cropping based on the x1 = 0 x2 = 1280 y1 = 0 y2 = 1024. You can adjust the cropping coordinates in the config.yaml file.\n"
     ]
    },
    {
     "name": "stderr",
     "output_type": "stream",
     "text": [
      "100%|██████████| 200/200 [00:08<00:00, 24.16it/s]\n"
     ]
    },
    {
     "name": "stdout",
     "output_type": "stream",
     "text": [
      "Saving results in D:\\YuLab\\Work\\GPS\\Video\\Kennard\\GPS_08_Kornblum1500SRTSelf\\20231014\\Top\\Clips...\n",
      "Saving csv poses!\n",
      "Starting to analyze %  D:\\YuLab\\Work\\GPS\\Video\\Kennard\\GPS_08_Kornblum1500SRTSelf\\20231014\\Top\\Clips\\Kennard_20231014_HoldTrial091_TopView.avi\n",
      "Loading  D:\\YuLab\\Work\\GPS\\Video\\Kennard\\GPS_08_Kornblum1500SRTSelf\\20231014\\Top\\Clips\\Kennard_20231014_HoldTrial091_TopView.avi\n",
      "Duration of video [s]:  8.0 , recorded with  25.0 fps!\n",
      "Overall # of frames:  200  found with (before cropping) frame dimensions:  1280 1331\n",
      "Starting to extract posture\n",
      "Cropping based on the x1 = 0 x2 = 1280 y1 = 0 y2 = 1024. You can adjust the cropping coordinates in the config.yaml file.\n"
     ]
    },
    {
     "name": "stderr",
     "output_type": "stream",
     "text": [
      "100%|██████████| 200/200 [00:08<00:00, 24.14it/s]\n"
     ]
    },
    {
     "name": "stdout",
     "output_type": "stream",
     "text": [
      "Saving results in D:\\YuLab\\Work\\GPS\\Video\\Kennard\\GPS_08_Kornblum1500SRTSelf\\20231014\\Top\\Clips...\n",
      "Saving csv poses!\n",
      "Starting to analyze %  D:\\YuLab\\Work\\GPS\\Video\\Kennard\\GPS_08_Kornblum1500SRTSelf\\20231014\\Top\\Clips\\Kennard_20231014_HoldTrial092_TopView.avi\n",
      "Loading  D:\\YuLab\\Work\\GPS\\Video\\Kennard\\GPS_08_Kornblum1500SRTSelf\\20231014\\Top\\Clips\\Kennard_20231014_HoldTrial092_TopView.avi\n",
      "Duration of video [s]:  8.04 , recorded with  25.0 fps!\n",
      "Overall # of frames:  201  found with (before cropping) frame dimensions:  1280 1331\n",
      "Starting to extract posture\n",
      "Cropping based on the x1 = 0 x2 = 1280 y1 = 0 y2 = 1024. You can adjust the cropping coordinates in the config.yaml file.\n"
     ]
    },
    {
     "name": "stderr",
     "output_type": "stream",
     "text": [
      "100%|██████████| 201/201 [00:08<00:00, 23.44it/s]\n"
     ]
    },
    {
     "name": "stdout",
     "output_type": "stream",
     "text": [
      "Saving results in D:\\YuLab\\Work\\GPS\\Video\\Kennard\\GPS_08_Kornblum1500SRTSelf\\20231014\\Top\\Clips...\n",
      "Saving csv poses!\n",
      "Starting to analyze %  D:\\YuLab\\Work\\GPS\\Video\\Kennard\\GPS_08_Kornblum1500SRTSelf\\20231014\\Top\\Clips\\Kennard_20231014_HoldTrial093_TopView.avi\n",
      "Loading  D:\\YuLab\\Work\\GPS\\Video\\Kennard\\GPS_08_Kornblum1500SRTSelf\\20231014\\Top\\Clips\\Kennard_20231014_HoldTrial093_TopView.avi\n",
      "Duration of video [s]:  8.0 , recorded with  25.0 fps!\n",
      "Overall # of frames:  200  found with (before cropping) frame dimensions:  1280 1331\n",
      "Starting to extract posture\n",
      "Cropping based on the x1 = 0 x2 = 1280 y1 = 0 y2 = 1024. You can adjust the cropping coordinates in the config.yaml file.\n"
     ]
    },
    {
     "name": "stderr",
     "output_type": "stream",
     "text": [
      "100%|██████████| 200/200 [00:08<00:00, 24.12it/s]\n"
     ]
    },
    {
     "name": "stdout",
     "output_type": "stream",
     "text": [
      "Saving results in D:\\YuLab\\Work\\GPS\\Video\\Kennard\\GPS_08_Kornblum1500SRTSelf\\20231014\\Top\\Clips...\n",
      "Saving csv poses!\n",
      "Starting to analyze %  D:\\YuLab\\Work\\GPS\\Video\\Kennard\\GPS_08_Kornblum1500SRTSelf\\20231014\\Top\\Clips\\Kennard_20231014_HoldTrial094_TopView.avi\n",
      "Loading  D:\\YuLab\\Work\\GPS\\Video\\Kennard\\GPS_08_Kornblum1500SRTSelf\\20231014\\Top\\Clips\\Kennard_20231014_HoldTrial094_TopView.avi\n",
      "Duration of video [s]:  8.04 , recorded with  25.0 fps!\n",
      "Overall # of frames:  201  found with (before cropping) frame dimensions:  1280 1331\n",
      "Starting to extract posture\n",
      "Cropping based on the x1 = 0 x2 = 1280 y1 = 0 y2 = 1024. You can adjust the cropping coordinates in the config.yaml file.\n"
     ]
    },
    {
     "name": "stderr",
     "output_type": "stream",
     "text": [
      "100%|██████████| 201/201 [00:08<00:00, 23.40it/s]\n"
     ]
    },
    {
     "name": "stdout",
     "output_type": "stream",
     "text": [
      "Saving results in D:\\YuLab\\Work\\GPS\\Video\\Kennard\\GPS_08_Kornblum1500SRTSelf\\20231014\\Top\\Clips...\n",
      "Saving csv poses!\n",
      "Starting to analyze %  D:\\YuLab\\Work\\GPS\\Video\\Kennard\\GPS_08_Kornblum1500SRTSelf\\20231014\\Top\\Clips\\Kennard_20231014_HoldTrial095_TopView.avi\n",
      "Loading  D:\\YuLab\\Work\\GPS\\Video\\Kennard\\GPS_08_Kornblum1500SRTSelf\\20231014\\Top\\Clips\\Kennard_20231014_HoldTrial095_TopView.avi\n",
      "Duration of video [s]:  8.0 , recorded with  25.0 fps!\n",
      "Overall # of frames:  200  found with (before cropping) frame dimensions:  1280 1331\n",
      "Starting to extract posture\n",
      "Cropping based on the x1 = 0 x2 = 1280 y1 = 0 y2 = 1024. You can adjust the cropping coordinates in the config.yaml file.\n"
     ]
    },
    {
     "name": "stderr",
     "output_type": "stream",
     "text": [
      "100%|██████████| 200/200 [00:08<00:00, 24.22it/s]\n"
     ]
    },
    {
     "name": "stdout",
     "output_type": "stream",
     "text": [
      "Saving results in D:\\YuLab\\Work\\GPS\\Video\\Kennard\\GPS_08_Kornblum1500SRTSelf\\20231014\\Top\\Clips...\n",
      "Saving csv poses!\n",
      "Starting to analyze %  D:\\YuLab\\Work\\GPS\\Video\\Kennard\\GPS_08_Kornblum1500SRTSelf\\20231014\\Top\\Clips\\Kennard_20231014_HoldTrial096_TopView.avi\n",
      "Loading  D:\\YuLab\\Work\\GPS\\Video\\Kennard\\GPS_08_Kornblum1500SRTSelf\\20231014\\Top\\Clips\\Kennard_20231014_HoldTrial096_TopView.avi\n",
      "Duration of video [s]:  8.0 , recorded with  25.0 fps!\n",
      "Overall # of frames:  200  found with (before cropping) frame dimensions:  1280 1331\n",
      "Starting to extract posture\n",
      "Cropping based on the x1 = 0 x2 = 1280 y1 = 0 y2 = 1024. You can adjust the cropping coordinates in the config.yaml file.\n"
     ]
    },
    {
     "name": "stderr",
     "output_type": "stream",
     "text": [
      "100%|██████████| 200/200 [00:08<00:00, 24.18it/s]\n"
     ]
    },
    {
     "name": "stdout",
     "output_type": "stream",
     "text": [
      "Saving results in D:\\YuLab\\Work\\GPS\\Video\\Kennard\\GPS_08_Kornblum1500SRTSelf\\20231014\\Top\\Clips...\n",
      "Saving csv poses!\n",
      "Starting to analyze %  D:\\YuLab\\Work\\GPS\\Video\\Kennard\\GPS_08_Kornblum1500SRTSelf\\20231014\\Top\\Clips\\Kennard_20231014_HoldTrial097_TopView.avi\n",
      "Loading  D:\\YuLab\\Work\\GPS\\Video\\Kennard\\GPS_08_Kornblum1500SRTSelf\\20231014\\Top\\Clips\\Kennard_20231014_HoldTrial097_TopView.avi\n",
      "Duration of video [s]:  7.96 , recorded with  25.0 fps!\n",
      "Overall # of frames:  199  found with (before cropping) frame dimensions:  1280 1331\n",
      "Starting to extract posture\n",
      "Cropping based on the x1 = 0 x2 = 1280 y1 = 0 y2 = 1024. You can adjust the cropping coordinates in the config.yaml file.\n"
     ]
    },
    {
     "name": "stderr",
     "output_type": "stream",
     "text": [
      "100%|██████████| 199/199 [00:08<00:00, 24.04it/s]\n"
     ]
    },
    {
     "name": "stdout",
     "output_type": "stream",
     "text": [
      "Saving results in D:\\YuLab\\Work\\GPS\\Video\\Kennard\\GPS_08_Kornblum1500SRTSelf\\20231014\\Top\\Clips...\n",
      "Saving csv poses!\n",
      "Starting to analyze %  D:\\YuLab\\Work\\GPS\\Video\\Kennard\\GPS_08_Kornblum1500SRTSelf\\20231014\\Top\\Clips\\Kennard_20231014_HoldTrial098_TopView.avi\n",
      "Loading  D:\\YuLab\\Work\\GPS\\Video\\Kennard\\GPS_08_Kornblum1500SRTSelf\\20231014\\Top\\Clips\\Kennard_20231014_HoldTrial098_TopView.avi\n",
      "Duration of video [s]:  8.0 , recorded with  25.0 fps!\n",
      "Overall # of frames:  200  found with (before cropping) frame dimensions:  1280 1331\n",
      "Starting to extract posture\n",
      "Cropping based on the x1 = 0 x2 = 1280 y1 = 0 y2 = 1024. You can adjust the cropping coordinates in the config.yaml file.\n"
     ]
    },
    {
     "name": "stderr",
     "output_type": "stream",
     "text": [
      "100%|██████████| 200/200 [00:08<00:00, 24.08it/s]\n"
     ]
    },
    {
     "name": "stdout",
     "output_type": "stream",
     "text": [
      "Saving results in D:\\YuLab\\Work\\GPS\\Video\\Kennard\\GPS_08_Kornblum1500SRTSelf\\20231014\\Top\\Clips...\n",
      "Saving csv poses!\n",
      "Starting to analyze %  D:\\YuLab\\Work\\GPS\\Video\\Kennard\\GPS_08_Kornblum1500SRTSelf\\20231014\\Top\\Clips\\Kennard_20231014_HoldTrial099_TopView.avi\n",
      "Loading  D:\\YuLab\\Work\\GPS\\Video\\Kennard\\GPS_08_Kornblum1500SRTSelf\\20231014\\Top\\Clips\\Kennard_20231014_HoldTrial099_TopView.avi\n",
      "Duration of video [s]:  8.04 , recorded with  25.0 fps!\n",
      "Overall # of frames:  201  found with (before cropping) frame dimensions:  1280 1331\n",
      "Starting to extract posture\n",
      "Cropping based on the x1 = 0 x2 = 1280 y1 = 0 y2 = 1024. You can adjust the cropping coordinates in the config.yaml file.\n"
     ]
    },
    {
     "name": "stderr",
     "output_type": "stream",
     "text": [
      "100%|██████████| 201/201 [00:08<00:00, 23.39it/s]\n"
     ]
    },
    {
     "name": "stdout",
     "output_type": "stream",
     "text": [
      "Saving results in D:\\YuLab\\Work\\GPS\\Video\\Kennard\\GPS_08_Kornblum1500SRTSelf\\20231014\\Top\\Clips...\n",
      "Saving csv poses!\n",
      "Starting to analyze %  D:\\YuLab\\Work\\GPS\\Video\\Kennard\\GPS_08_Kornblum1500SRTSelf\\20231014\\Top\\Clips\\Kennard_20231014_HoldTrial100_TopView.avi\n",
      "Loading  D:\\YuLab\\Work\\GPS\\Video\\Kennard\\GPS_08_Kornblum1500SRTSelf\\20231014\\Top\\Clips\\Kennard_20231014_HoldTrial100_TopView.avi\n",
      "Duration of video [s]:  8.0 , recorded with  25.0 fps!\n",
      "Overall # of frames:  200  found with (before cropping) frame dimensions:  1280 1331\n",
      "Starting to extract posture\n",
      "Cropping based on the x1 = 0 x2 = 1280 y1 = 0 y2 = 1024. You can adjust the cropping coordinates in the config.yaml file.\n"
     ]
    },
    {
     "name": "stderr",
     "output_type": "stream",
     "text": [
      "100%|██████████| 200/200 [00:08<00:00, 24.06it/s]\n"
     ]
    },
    {
     "name": "stdout",
     "output_type": "stream",
     "text": [
      "Saving results in D:\\YuLab\\Work\\GPS\\Video\\Kennard\\GPS_08_Kornblum1500SRTSelf\\20231014\\Top\\Clips...\n",
      "Saving csv poses!\n",
      "Starting to analyze %  D:\\YuLab\\Work\\GPS\\Video\\Kennard\\GPS_08_Kornblum1500SRTSelf\\20231014\\Top\\Clips\\Kennard_20231014_HoldTrial101_TopView.avi\n",
      "Loading  D:\\YuLab\\Work\\GPS\\Video\\Kennard\\GPS_08_Kornblum1500SRTSelf\\20231014\\Top\\Clips\\Kennard_20231014_HoldTrial101_TopView.avi\n",
      "Duration of video [s]:  8.0 , recorded with  25.0 fps!\n",
      "Overall # of frames:  200  found with (before cropping) frame dimensions:  1280 1331\n",
      "Starting to extract posture\n",
      "Cropping based on the x1 = 0 x2 = 1280 y1 = 0 y2 = 1024. You can adjust the cropping coordinates in the config.yaml file.\n"
     ]
    },
    {
     "name": "stderr",
     "output_type": "stream",
     "text": [
      "100%|██████████| 200/200 [00:08<00:00, 24.00it/s]\n"
     ]
    },
    {
     "name": "stdout",
     "output_type": "stream",
     "text": [
      "Saving results in D:\\YuLab\\Work\\GPS\\Video\\Kennard\\GPS_08_Kornblum1500SRTSelf\\20231014\\Top\\Clips...\n",
      "Saving csv poses!\n",
      "Starting to analyze %  D:\\YuLab\\Work\\GPS\\Video\\Kennard\\GPS_08_Kornblum1500SRTSelf\\20231014\\Top\\Clips\\Kennard_20231014_HoldTrial102_TopView.avi\n",
      "Loading  D:\\YuLab\\Work\\GPS\\Video\\Kennard\\GPS_08_Kornblum1500SRTSelf\\20231014\\Top\\Clips\\Kennard_20231014_HoldTrial102_TopView.avi\n",
      "Duration of video [s]:  8.04 , recorded with  25.0 fps!\n",
      "Overall # of frames:  201  found with (before cropping) frame dimensions:  1280 1331\n",
      "Starting to extract posture\n",
      "Cropping based on the x1 = 0 x2 = 1280 y1 = 0 y2 = 1024. You can adjust the cropping coordinates in the config.yaml file.\n"
     ]
    },
    {
     "name": "stderr",
     "output_type": "stream",
     "text": [
      "100%|██████████| 201/201 [00:08<00:00, 23.50it/s]\n"
     ]
    },
    {
     "name": "stdout",
     "output_type": "stream",
     "text": [
      "Saving results in D:\\YuLab\\Work\\GPS\\Video\\Kennard\\GPS_08_Kornblum1500SRTSelf\\20231014\\Top\\Clips...\n",
      "Saving csv poses!\n",
      "Starting to analyze %  D:\\YuLab\\Work\\GPS\\Video\\Kennard\\GPS_08_Kornblum1500SRTSelf\\20231014\\Top\\Clips\\Kennard_20231014_HoldTrial103_TopView.avi\n",
      "Loading  D:\\YuLab\\Work\\GPS\\Video\\Kennard\\GPS_08_Kornblum1500SRTSelf\\20231014\\Top\\Clips\\Kennard_20231014_HoldTrial103_TopView.avi\n",
      "Duration of video [s]:  8.0 , recorded with  25.0 fps!\n",
      "Overall # of frames:  200  found with (before cropping) frame dimensions:  1280 1331\n",
      "Starting to extract posture\n",
      "Cropping based on the x1 = 0 x2 = 1280 y1 = 0 y2 = 1024. You can adjust the cropping coordinates in the config.yaml file.\n"
     ]
    },
    {
     "name": "stderr",
     "output_type": "stream",
     "text": [
      "100%|██████████| 200/200 [00:08<00:00, 24.18it/s]\n"
     ]
    },
    {
     "name": "stdout",
     "output_type": "stream",
     "text": [
      "Saving results in D:\\YuLab\\Work\\GPS\\Video\\Kennard\\GPS_08_Kornblum1500SRTSelf\\20231014\\Top\\Clips...\n",
      "Saving csv poses!\n",
      "Starting to analyze %  D:\\YuLab\\Work\\GPS\\Video\\Kennard\\GPS_08_Kornblum1500SRTSelf\\20231014\\Top\\Clips\\Kennard_20231014_HoldTrial104_TopView.avi\n",
      "Loading  D:\\YuLab\\Work\\GPS\\Video\\Kennard\\GPS_08_Kornblum1500SRTSelf\\20231014\\Top\\Clips\\Kennard_20231014_HoldTrial104_TopView.avi\n",
      "Duration of video [s]:  8.0 , recorded with  25.0 fps!\n",
      "Overall # of frames:  200  found with (before cropping) frame dimensions:  1280 1331\n",
      "Starting to extract posture\n",
      "Cropping based on the x1 = 0 x2 = 1280 y1 = 0 y2 = 1024. You can adjust the cropping coordinates in the config.yaml file.\n"
     ]
    },
    {
     "name": "stderr",
     "output_type": "stream",
     "text": [
      "100%|██████████| 200/200 [00:08<00:00, 24.10it/s]\n"
     ]
    },
    {
     "name": "stdout",
     "output_type": "stream",
     "text": [
      "Saving results in D:\\YuLab\\Work\\GPS\\Video\\Kennard\\GPS_08_Kornblum1500SRTSelf\\20231014\\Top\\Clips...\n",
      "Saving csv poses!\n",
      "Starting to analyze %  D:\\YuLab\\Work\\GPS\\Video\\Kennard\\GPS_08_Kornblum1500SRTSelf\\20231014\\Top\\Clips\\Kennard_20231014_HoldTrial105_TopView.avi\n",
      "Loading  D:\\YuLab\\Work\\GPS\\Video\\Kennard\\GPS_08_Kornblum1500SRTSelf\\20231014\\Top\\Clips\\Kennard_20231014_HoldTrial105_TopView.avi\n",
      "Duration of video [s]:  8.04 , recorded with  25.0 fps!\n",
      "Overall # of frames:  201  found with (before cropping) frame dimensions:  1280 1331\n",
      "Starting to extract posture\n",
      "Cropping based on the x1 = 0 x2 = 1280 y1 = 0 y2 = 1024. You can adjust the cropping coordinates in the config.yaml file.\n"
     ]
    },
    {
     "name": "stderr",
     "output_type": "stream",
     "text": [
      "100%|██████████| 201/201 [00:08<00:00, 23.41it/s]\n"
     ]
    },
    {
     "name": "stdout",
     "output_type": "stream",
     "text": [
      "Saving results in D:\\YuLab\\Work\\GPS\\Video\\Kennard\\GPS_08_Kornblum1500SRTSelf\\20231014\\Top\\Clips...\n",
      "Saving csv poses!\n",
      "Starting to analyze %  D:\\YuLab\\Work\\GPS\\Video\\Kennard\\GPS_08_Kornblum1500SRTSelf\\20231014\\Top\\Clips\\Kennard_20231014_HoldTrial106_TopView.avi\n",
      "Loading  D:\\YuLab\\Work\\GPS\\Video\\Kennard\\GPS_08_Kornblum1500SRTSelf\\20231014\\Top\\Clips\\Kennard_20231014_HoldTrial106_TopView.avi\n",
      "Duration of video [s]:  8.0 , recorded with  25.0 fps!\n",
      "Overall # of frames:  200  found with (before cropping) frame dimensions:  1280 1331\n",
      "Starting to extract posture\n",
      "Cropping based on the x1 = 0 x2 = 1280 y1 = 0 y2 = 1024. You can adjust the cropping coordinates in the config.yaml file.\n"
     ]
    },
    {
     "name": "stderr",
     "output_type": "stream",
     "text": [
      "100%|██████████| 200/200 [00:08<00:00, 24.00it/s]\n"
     ]
    },
    {
     "name": "stdout",
     "output_type": "stream",
     "text": [
      "Saving results in D:\\YuLab\\Work\\GPS\\Video\\Kennard\\GPS_08_Kornblum1500SRTSelf\\20231014\\Top\\Clips...\n",
      "Saving csv poses!\n",
      "Starting to analyze %  D:\\YuLab\\Work\\GPS\\Video\\Kennard\\GPS_08_Kornblum1500SRTSelf\\20231014\\Top\\Clips\\Kennard_20231014_HoldTrial107_TopView.avi\n",
      "Loading  D:\\YuLab\\Work\\GPS\\Video\\Kennard\\GPS_08_Kornblum1500SRTSelf\\20231014\\Top\\Clips\\Kennard_20231014_HoldTrial107_TopView.avi\n",
      "Duration of video [s]:  8.04 , recorded with  25.0 fps!\n",
      "Overall # of frames:  201  found with (before cropping) frame dimensions:  1280 1331\n",
      "Starting to extract posture\n",
      "Cropping based on the x1 = 0 x2 = 1280 y1 = 0 y2 = 1024. You can adjust the cropping coordinates in the config.yaml file.\n"
     ]
    },
    {
     "name": "stderr",
     "output_type": "stream",
     "text": [
      "100%|██████████| 201/201 [00:08<00:00, 23.38it/s]\n"
     ]
    },
    {
     "name": "stdout",
     "output_type": "stream",
     "text": [
      "Saving results in D:\\YuLab\\Work\\GPS\\Video\\Kennard\\GPS_08_Kornblum1500SRTSelf\\20231014\\Top\\Clips...\n",
      "Saving csv poses!\n",
      "Starting to analyze %  D:\\YuLab\\Work\\GPS\\Video\\Kennard\\GPS_08_Kornblum1500SRTSelf\\20231014\\Top\\Clips\\Kennard_20231014_HoldTrial108_TopView.avi\n",
      "Loading  D:\\YuLab\\Work\\GPS\\Video\\Kennard\\GPS_08_Kornblum1500SRTSelf\\20231014\\Top\\Clips\\Kennard_20231014_HoldTrial108_TopView.avi\n",
      "Duration of video [s]:  8.0 , recorded with  25.0 fps!\n",
      "Overall # of frames:  200  found with (before cropping) frame dimensions:  1280 1331\n",
      "Starting to extract posture\n",
      "Cropping based on the x1 = 0 x2 = 1280 y1 = 0 y2 = 1024. You can adjust the cropping coordinates in the config.yaml file.\n"
     ]
    },
    {
     "name": "stderr",
     "output_type": "stream",
     "text": [
      "100%|██████████| 200/200 [00:08<00:00, 24.08it/s]\n"
     ]
    },
    {
     "name": "stdout",
     "output_type": "stream",
     "text": [
      "Saving results in D:\\YuLab\\Work\\GPS\\Video\\Kennard\\GPS_08_Kornblum1500SRTSelf\\20231014\\Top\\Clips...\n",
      "Saving csv poses!\n",
      "Starting to analyze %  D:\\YuLab\\Work\\GPS\\Video\\Kennard\\GPS_08_Kornblum1500SRTSelf\\20231014\\Top\\Clips\\Kennard_20231014_HoldTrial109_TopView.avi\n",
      "Loading  D:\\YuLab\\Work\\GPS\\Video\\Kennard\\GPS_08_Kornblum1500SRTSelf\\20231014\\Top\\Clips\\Kennard_20231014_HoldTrial109_TopView.avi\n",
      "Duration of video [s]:  8.04 , recorded with  25.0 fps!\n",
      "Overall # of frames:  201  found with (before cropping) frame dimensions:  1280 1331\n",
      "Starting to extract posture\n",
      "Cropping based on the x1 = 0 x2 = 1280 y1 = 0 y2 = 1024. You can adjust the cropping coordinates in the config.yaml file.\n"
     ]
    },
    {
     "name": "stderr",
     "output_type": "stream",
     "text": [
      "100%|██████████| 201/201 [00:08<00:00, 23.57it/s]\n"
     ]
    },
    {
     "name": "stdout",
     "output_type": "stream",
     "text": [
      "Saving results in D:\\YuLab\\Work\\GPS\\Video\\Kennard\\GPS_08_Kornblum1500SRTSelf\\20231014\\Top\\Clips...\n",
      "Saving csv poses!\n",
      "Starting to analyze %  D:\\YuLab\\Work\\GPS\\Video\\Kennard\\GPS_08_Kornblum1500SRTSelf\\20231014\\Top\\Clips\\Kennard_20231014_HoldTrial110_TopView.avi\n",
      "Loading  D:\\YuLab\\Work\\GPS\\Video\\Kennard\\GPS_08_Kornblum1500SRTSelf\\20231014\\Top\\Clips\\Kennard_20231014_HoldTrial110_TopView.avi\n",
      "Duration of video [s]:  8.0 , recorded with  25.0 fps!\n",
      "Overall # of frames:  200  found with (before cropping) frame dimensions:  1280 1331\n",
      "Starting to extract posture\n",
      "Cropping based on the x1 = 0 x2 = 1280 y1 = 0 y2 = 1024. You can adjust the cropping coordinates in the config.yaml file.\n"
     ]
    },
    {
     "name": "stderr",
     "output_type": "stream",
     "text": [
      "100%|██████████| 200/200 [00:08<00:00, 24.19it/s]\n"
     ]
    },
    {
     "name": "stdout",
     "output_type": "stream",
     "text": [
      "Saving results in D:\\YuLab\\Work\\GPS\\Video\\Kennard\\GPS_08_Kornblum1500SRTSelf\\20231014\\Top\\Clips...\n",
      "Saving csv poses!\n",
      "Starting to analyze %  D:\\YuLab\\Work\\GPS\\Video\\Kennard\\GPS_08_Kornblum1500SRTSelf\\20231014\\Top\\Clips\\Kennard_20231014_HoldTrial111_TopView.avi\n",
      "Loading  D:\\YuLab\\Work\\GPS\\Video\\Kennard\\GPS_08_Kornblum1500SRTSelf\\20231014\\Top\\Clips\\Kennard_20231014_HoldTrial111_TopView.avi\n",
      "Duration of video [s]:  8.0 , recorded with  25.0 fps!\n",
      "Overall # of frames:  200  found with (before cropping) frame dimensions:  1280 1331\n",
      "Starting to extract posture\n",
      "Cropping based on the x1 = 0 x2 = 1280 y1 = 0 y2 = 1024. You can adjust the cropping coordinates in the config.yaml file.\n"
     ]
    },
    {
     "name": "stderr",
     "output_type": "stream",
     "text": [
      "100%|██████████| 200/200 [00:08<00:00, 24.20it/s]\n"
     ]
    },
    {
     "name": "stdout",
     "output_type": "stream",
     "text": [
      "Saving results in D:\\YuLab\\Work\\GPS\\Video\\Kennard\\GPS_08_Kornblum1500SRTSelf\\20231014\\Top\\Clips...\n",
      "Saving csv poses!\n",
      "Starting to analyze %  D:\\YuLab\\Work\\GPS\\Video\\Kennard\\GPS_08_Kornblum1500SRTSelf\\20231014\\Top\\Clips\\Kennard_20231014_HoldTrial112_TopView.avi\n",
      "Loading  D:\\YuLab\\Work\\GPS\\Video\\Kennard\\GPS_08_Kornblum1500SRTSelf\\20231014\\Top\\Clips\\Kennard_20231014_HoldTrial112_TopView.avi\n",
      "Duration of video [s]:  8.04 , recorded with  25.0 fps!\n",
      "Overall # of frames:  201  found with (before cropping) frame dimensions:  1280 1331\n",
      "Starting to extract posture\n",
      "Cropping based on the x1 = 0 x2 = 1280 y1 = 0 y2 = 1024. You can adjust the cropping coordinates in the config.yaml file.\n"
     ]
    },
    {
     "name": "stderr",
     "output_type": "stream",
     "text": [
      "100%|██████████| 201/201 [00:08<00:00, 23.44it/s]\n"
     ]
    },
    {
     "name": "stdout",
     "output_type": "stream",
     "text": [
      "Saving results in D:\\YuLab\\Work\\GPS\\Video\\Kennard\\GPS_08_Kornblum1500SRTSelf\\20231014\\Top\\Clips...\n",
      "Saving csv poses!\n",
      "Starting to analyze %  D:\\YuLab\\Work\\GPS\\Video\\Kennard\\GPS_08_Kornblum1500SRTSelf\\20231014\\Top\\Clips\\Kennard_20231014_HoldTrial113_TopView.avi\n",
      "Loading  D:\\YuLab\\Work\\GPS\\Video\\Kennard\\GPS_08_Kornblum1500SRTSelf\\20231014\\Top\\Clips\\Kennard_20231014_HoldTrial113_TopView.avi\n",
      "Duration of video [s]:  8.0 , recorded with  25.0 fps!\n",
      "Overall # of frames:  200  found with (before cropping) frame dimensions:  1280 1331\n",
      "Starting to extract posture\n",
      "Cropping based on the x1 = 0 x2 = 1280 y1 = 0 y2 = 1024. You can adjust the cropping coordinates in the config.yaml file.\n"
     ]
    },
    {
     "name": "stderr",
     "output_type": "stream",
     "text": [
      "100%|██████████| 200/200 [00:08<00:00, 24.07it/s]\n"
     ]
    },
    {
     "name": "stdout",
     "output_type": "stream",
     "text": [
      "Saving results in D:\\YuLab\\Work\\GPS\\Video\\Kennard\\GPS_08_Kornblum1500SRTSelf\\20231014\\Top\\Clips...\n",
      "Saving csv poses!\n",
      "The videos are analyzed. Now your research can truly start! \n",
      " You can create labeled videos with 'create_labeled_video'\n",
      "If the tracking is not satisfactory for some videos, consider expanding the training set. You can use the function 'extract_outlier_frames' to extract a few representative outlier frames.\n"
     ]
    },
    {
     "data": {
      "text/plain": [
       "'DLC_resnet50_MoradTopGPSSep12shuffle1_1400000'"
      ]
     },
     "execution_count": 5,
     "metadata": {},
     "output_type": "execute_result"
    }
   ],
   "source": [
    "deeplabcut.analyze_videos(config=config_path, videos=video_files, videotype='avi', shuffle=1, save_as_csv=True)"
   ]
  },
  {
   "cell_type": "code",
   "execution_count": 6,
   "metadata": {},
   "outputs": [
    {
     "name": "stdout",
     "output_type": "stream",
     "text": [
      "Loading  D:\\YuLab\\Work\\GPS\\Video\\Kennard\\GPS_08_Kornblum1500SRTSelf\\20231007\\Top\\Clips\\Kennard_20231007_HoldTrial081_TopView.avi and data.\n",
      "Loading  D:\\YuLab\\Work\\GPS\\Video\\Kennard\\GPS_08_Kornblum1500SRTSelf\\20231007\\Top\\Clips\\Kennard_20231007_HoldTrial004_TopView.avi and data.\n",
      "Loading  D:\\YuLab\\Work\\GPS\\Video\\Kennard\\GPS_08_Kornblum1500SRTSelf\\20231007\\Top\\Clips\\Kennard_20231007_HoldTrial005_TopView.avi and data.\n",
      "Loading  D:\\YuLab\\Work\\GPS\\Video\\Kennard\\GPS_08_Kornblum1500SRTSelf\\20231007\\Top\\Clips\\Kennard_20231007_HoldTrial006_TopView.avi and data.\n",
      "Loading  D:\\YuLab\\Work\\GPS\\Video\\Kennard\\GPS_08_Kornblum1500SRTSelf\\20231007\\Top\\Clips\\Kennard_20231007_HoldTrial007_TopView.avi and data.\n",
      "Loading  D:\\YuLab\\Work\\GPS\\Video\\Kennard\\GPS_08_Kornblum1500SRTSelf\\20231007\\Top\\Clips\\Kennard_20231007_HoldTrial008_TopView.avi and data.\n",
      "Loading  D:\\YuLab\\Work\\GPS\\Video\\Kennard\\GPS_08_Kornblum1500SRTSelf\\20231007\\Top\\Clips\\Kennard_20231007_HoldTrial009_TopView.avi and data.\n",
      "Loading  D:\\YuLab\\Work\\GPS\\Video\\Kennard\\GPS_08_Kornblum1500SRTSelf\\20231007\\Top\\Clips\\Kennard_20231007_HoldTrial010_TopView.avi and data.\n",
      "Loading  D:\\YuLab\\Work\\GPS\\Video\\Kennard\\GPS_08_Kornblum1500SRTSelf\\20231007\\Top\\Clips\\Kennard_20231007_HoldTrial011_TopView.avi and data.\n",
      "Loading  D:\\YuLab\\Work\\GPS\\Video\\Kennard\\GPS_08_Kornblum1500SRTSelf\\20231007\\Top\\Clips\\Kennard_20231007_HoldTrial012_TopView.avi and data.\n",
      "Loading  D:\\YuLab\\Work\\GPS\\Video\\Kennard\\GPS_08_Kornblum1500SRTSelf\\20231007\\Top\\Clips\\Kennard_20231007_HoldTrial013_TopView.avi and data.\n",
      "Loading  D:\\YuLab\\Work\\GPS\\Video\\Kennard\\GPS_08_Kornblum1500SRTSelf\\20231007\\Top\\Clips\\Kennard_20231007_HoldTrial014_TopView.avi and data.\n",
      "Loading  D:\\YuLab\\Work\\GPS\\Video\\Kennard\\GPS_08_Kornblum1500SRTSelf\\20231007\\Top\\Clips\\Kennard_20231007_HoldTrial015_TopView.avi and data.\n",
      "Loading  D:\\YuLab\\Work\\GPS\\Video\\Kennard\\GPS_08_Kornblum1500SRTSelf\\20231007\\Top\\Clips\\Kennard_20231007_HoldTrial016_TopView.avi and data.\n",
      "Loading  D:\\YuLab\\Work\\GPS\\Video\\Kennard\\GPS_08_Kornblum1500SRTSelf\\20231007\\Top\\Clips\\Kennard_20231007_HoldTrial017_TopView.avi and data.\n",
      "Loading  D:\\YuLab\\Work\\GPS\\Video\\Kennard\\GPS_08_Kornblum1500SRTSelf\\20231007\\Top\\Clips\\Kennard_20231007_HoldTrial018_TopView.avi and data.\n",
      "Loading  D:\\YuLab\\Work\\GPS\\Video\\Kennard\\GPS_08_Kornblum1500SRTSelf\\20231007\\Top\\Clips\\Kennard_20231007_HoldTrial019_TopView.avi and data.\n",
      "Loading  D:\\YuLab\\Work\\GPS\\Video\\Kennard\\GPS_08_Kornblum1500SRTSelf\\20231007\\Top\\Clips\\Kennard_20231007_HoldTrial020_TopView.avi and data.\n",
      "Loading  D:\\YuLab\\Work\\GPS\\Video\\Kennard\\GPS_08_Kornblum1500SRTSelf\\20231007\\Top\\Clips\\Kennard_20231007_HoldTrial021_TopView.avi and data.\n",
      "Loading  D:\\YuLab\\Work\\GPS\\Video\\Kennard\\GPS_08_Kornblum1500SRTSelf\\20231007\\Top\\Clips\\Kennard_20231007_HoldTrial022_TopView.avi and data.\n",
      "Loading  D:\\YuLab\\Work\\GPS\\Video\\Kennard\\GPS_08_Kornblum1500SRTSelf\\20231007\\Top\\Clips\\Kennard_20231007_HoldTrial023_TopView.avi and data.\n",
      "Loading  D:\\YuLab\\Work\\GPS\\Video\\Kennard\\GPS_08_Kornblum1500SRTSelf\\20231007\\Top\\Clips\\Kennard_20231007_HoldTrial024_TopView.avi and data.\n",
      "Loading  D:\\YuLab\\Work\\GPS\\Video\\Kennard\\GPS_08_Kornblum1500SRTSelf\\20231007\\Top\\Clips\\Kennard_20231007_HoldTrial025_TopView.avi and data.\n",
      "Loading  D:\\YuLab\\Work\\GPS\\Video\\Kennard\\GPS_08_Kornblum1500SRTSelf\\20231007\\Top\\Clips\\Kennard_20231007_HoldTrial026_TopView.avi and data.\n",
      "Loading  D:\\YuLab\\Work\\GPS\\Video\\Kennard\\GPS_08_Kornblum1500SRTSelf\\20231007\\Top\\Clips\\Kennard_20231007_HoldTrial027_TopView.avi and data.\n",
      "Loading  D:\\YuLab\\Work\\GPS\\Video\\Kennard\\GPS_08_Kornblum1500SRTSelf\\20231007\\Top\\Clips\\Kennard_20231007_HoldTrial028_TopView.avi and data.\n",
      "Loading  D:\\YuLab\\Work\\GPS\\Video\\Kennard\\GPS_08_Kornblum1500SRTSelf\\20231007\\Top\\Clips\\Kennard_20231007_HoldTrial029_TopView.avi and data.\n",
      "Loading  D:\\YuLab\\Work\\GPS\\Video\\Kennard\\GPS_08_Kornblum1500SRTSelf\\20231007\\Top\\Clips\\Kennard_20231007_HoldTrial030_TopView.avi and data.\n",
      "Loading  D:\\YuLab\\Work\\GPS\\Video\\Kennard\\GPS_08_Kornblum1500SRTSelf\\20231007\\Top\\Clips\\Kennard_20231007_HoldTrial031_TopView.avi and data.\n",
      "Loading  D:\\YuLab\\Work\\GPS\\Video\\Kennard\\GPS_08_Kornblum1500SRTSelf\\20231007\\Top\\Clips\\Kennard_20231007_HoldTrial032_TopView.avi and data.\n",
      "Loading  D:\\YuLab\\Work\\GPS\\Video\\Kennard\\GPS_08_Kornblum1500SRTSelf\\20231007\\Top\\Clips\\Kennard_20231007_HoldTrial033_TopView.avi and data.\n",
      "Loading  D:\\YuLab\\Work\\GPS\\Video\\Kennard\\GPS_08_Kornblum1500SRTSelf\\20231007\\Top\\Clips\\Kennard_20231007_HoldTrial034_TopView.avi and data.\n",
      "Loading  D:\\YuLab\\Work\\GPS\\Video\\Kennard\\GPS_08_Kornblum1500SRTSelf\\20231007\\Top\\Clips\\Kennard_20231007_HoldTrial035_TopView.avi and data.\n",
      "Loading  D:\\YuLab\\Work\\GPS\\Video\\Kennard\\GPS_08_Kornblum1500SRTSelf\\20231007\\Top\\Clips\\Kennard_20231007_HoldTrial036_TopView.avi and data.\n",
      "Loading  D:\\YuLab\\Work\\GPS\\Video\\Kennard\\GPS_08_Kornblum1500SRTSelf\\20231007\\Top\\Clips\\Kennard_20231007_HoldTrial037_TopView.avi and data.\n",
      "Loading  D:\\YuLab\\Work\\GPS\\Video\\Kennard\\GPS_08_Kornblum1500SRTSelf\\20231007\\Top\\Clips\\Kennard_20231007_HoldTrial038_TopView.avi and data.\n",
      "Loading  D:\\YuLab\\Work\\GPS\\Video\\Kennard\\GPS_08_Kornblum1500SRTSelf\\20231007\\Top\\Clips\\Kennard_20231007_HoldTrial039_TopView.avi and data.\n",
      "Loading  D:\\YuLab\\Work\\GPS\\Video\\Kennard\\GPS_08_Kornblum1500SRTSelf\\20231007\\Top\\Clips\\Kennard_20231007_HoldTrial040_TopView.avi and data.\n",
      "Loading  D:\\YuLab\\Work\\GPS\\Video\\Kennard\\GPS_08_Kornblum1500SRTSelf\\20231007\\Top\\Clips\\Kennard_20231007_HoldTrial041_TopView.avi and data.\n",
      "Loading  D:\\YuLab\\Work\\GPS\\Video\\Kennard\\GPS_08_Kornblum1500SRTSelf\\20231007\\Top\\Clips\\Kennard_20231007_HoldTrial042_TopView.avi and data.\n",
      "Loading  D:\\YuLab\\Work\\GPS\\Video\\Kennard\\GPS_08_Kornblum1500SRTSelf\\20231007\\Top\\Clips\\Kennard_20231007_HoldTrial043_TopView.avi and data.\n",
      "Loading  D:\\YuLab\\Work\\GPS\\Video\\Kennard\\GPS_08_Kornblum1500SRTSelf\\20231007\\Top\\Clips\\Kennard_20231007_HoldTrial044_TopView.avi and data.\n",
      "Loading  D:\\YuLab\\Work\\GPS\\Video\\Kennard\\GPS_08_Kornblum1500SRTSelf\\20231007\\Top\\Clips\\Kennard_20231007_HoldTrial045_TopView.avi and data.\n",
      "Loading  D:\\YuLab\\Work\\GPS\\Video\\Kennard\\GPS_08_Kornblum1500SRTSelf\\20231007\\Top\\Clips\\Kennard_20231007_HoldTrial046_TopView.avi and data.\n",
      "Loading  D:\\YuLab\\Work\\GPS\\Video\\Kennard\\GPS_08_Kornblum1500SRTSelf\\20231007\\Top\\Clips\\Kennard_20231007_HoldTrial047_TopView.avi and data.\n",
      "Loading  D:\\YuLab\\Work\\GPS\\Video\\Kennard\\GPS_08_Kornblum1500SRTSelf\\20231007\\Top\\Clips\\Kennard_20231007_HoldTrial048_TopView.avi and data.\n",
      "Loading  D:\\YuLab\\Work\\GPS\\Video\\Kennard\\GPS_08_Kornblum1500SRTSelf\\20231007\\Top\\Clips\\Kennard_20231007_HoldTrial049_TopView.avi and data.\n",
      "Loading  D:\\YuLab\\Work\\GPS\\Video\\Kennard\\GPS_08_Kornblum1500SRTSelf\\20231007\\Top\\Clips\\Kennard_20231007_HoldTrial050_TopView.avi and data.\n",
      "Loading  D:\\YuLab\\Work\\GPS\\Video\\Kennard\\GPS_08_Kornblum1500SRTSelf\\20231007\\Top\\Clips\\Kennard_20231007_HoldTrial051_TopView.avi and data.\n",
      "Loading  D:\\YuLab\\Work\\GPS\\Video\\Kennard\\GPS_08_Kornblum1500SRTSelf\\20231007\\Top\\Clips\\Kennard_20231007_HoldTrial052_TopView.avi and data.\n",
      "Loading  D:\\YuLab\\Work\\GPS\\Video\\Kennard\\GPS_08_Kornblum1500SRTSelf\\20231007\\Top\\Clips\\Kennard_20231007_HoldTrial053_TopView.avi and data.\n",
      "Loading  D:\\YuLab\\Work\\GPS\\Video\\Kennard\\GPS_08_Kornblum1500SRTSelf\\20231007\\Top\\Clips\\Kennard_20231007_HoldTrial054_TopView.avi and data.\n",
      "Loading  D:\\YuLab\\Work\\GPS\\Video\\Kennard\\GPS_08_Kornblum1500SRTSelf\\20231007\\Top\\Clips\\Kennard_20231007_HoldTrial055_TopView.avi and data.\n",
      "Loading  D:\\YuLab\\Work\\GPS\\Video\\Kennard\\GPS_08_Kornblum1500SRTSelf\\20231007\\Top\\Clips\\Kennard_20231007_HoldTrial056_TopView.avi and data.\n",
      "Loading  D:\\YuLab\\Work\\GPS\\Video\\Kennard\\GPS_08_Kornblum1500SRTSelf\\20231007\\Top\\Clips\\Kennard_20231007_HoldTrial057_TopView.avi and data.\n",
      "Loading  D:\\YuLab\\Work\\GPS\\Video\\Kennard\\GPS_08_Kornblum1500SRTSelf\\20231007\\Top\\Clips\\Kennard_20231007_HoldTrial058_TopView.avi and data.\n",
      "Loading  D:\\YuLab\\Work\\GPS\\Video\\Kennard\\GPS_08_Kornblum1500SRTSelf\\20231007\\Top\\Clips\\Kennard_20231007_HoldTrial059_TopView.avi and data.\n",
      "Loading  D:\\YuLab\\Work\\GPS\\Video\\Kennard\\GPS_08_Kornblum1500SRTSelf\\20231007\\Top\\Clips\\Kennard_20231007_HoldTrial060_TopView.avi and data.\n",
      "Loading  D:\\YuLab\\Work\\GPS\\Video\\Kennard\\GPS_08_Kornblum1500SRTSelf\\20231007\\Top\\Clips\\Kennard_20231007_HoldTrial061_TopView.avi and data.\n",
      "Loading  D:\\YuLab\\Work\\GPS\\Video\\Kennard\\GPS_08_Kornblum1500SRTSelf\\20231007\\Top\\Clips\\Kennard_20231007_HoldTrial062_TopView.avi and data.\n",
      "Loading  D:\\YuLab\\Work\\GPS\\Video\\Kennard\\GPS_08_Kornblum1500SRTSelf\\20231007\\Top\\Clips\\Kennard_20231007_HoldTrial063_TopView.avi and data.\n",
      "Loading  D:\\YuLab\\Work\\GPS\\Video\\Kennard\\GPS_08_Kornblum1500SRTSelf\\20231007\\Top\\Clips\\Kennard_20231007_HoldTrial064_TopView.avi and data.\n",
      "Loading  D:\\YuLab\\Work\\GPS\\Video\\Kennard\\GPS_08_Kornblum1500SRTSelf\\20231007\\Top\\Clips\\Kennard_20231007_HoldTrial065_TopView.avi and data.\n",
      "Loading  D:\\YuLab\\Work\\GPS\\Video\\Kennard\\GPS_08_Kornblum1500SRTSelf\\20231007\\Top\\Clips\\Kennard_20231007_HoldTrial066_TopView.avi and data.\n",
      "Loading  D:\\YuLab\\Work\\GPS\\Video\\Kennard\\GPS_08_Kornblum1500SRTSelf\\20231007\\Top\\Clips\\Kennard_20231007_HoldTrial067_TopView.avi and data.\n",
      "Loading  D:\\YuLab\\Work\\GPS\\Video\\Kennard\\GPS_08_Kornblum1500SRTSelf\\20231007\\Top\\Clips\\Kennard_20231007_HoldTrial068_TopView.avi and data.\n",
      "Loading  D:\\YuLab\\Work\\GPS\\Video\\Kennard\\GPS_08_Kornblum1500SRTSelf\\20231007\\Top\\Clips\\Kennard_20231007_HoldTrial069_TopView.avi and data.\n",
      "Loading  D:\\YuLab\\Work\\GPS\\Video\\Kennard\\GPS_08_Kornblum1500SRTSelf\\20231007\\Top\\Clips\\Kennard_20231007_HoldTrial070_TopView.avi and data.\n",
      "Loading  D:\\YuLab\\Work\\GPS\\Video\\Kennard\\GPS_08_Kornblum1500SRTSelf\\20231007\\Top\\Clips\\Kennard_20231007_HoldTrial071_TopView.avi and data.\n",
      "Loading  D:\\YuLab\\Work\\GPS\\Video\\Kennard\\GPS_08_Kornblum1500SRTSelf\\20231007\\Top\\Clips\\Kennard_20231007_HoldTrial072_TopView.avi and data.\n",
      "Loading  D:\\YuLab\\Work\\GPS\\Video\\Kennard\\GPS_08_Kornblum1500SRTSelf\\20231007\\Top\\Clips\\Kennard_20231007_HoldTrial073_TopView.avi and data.\n",
      "Loading  D:\\YuLab\\Work\\GPS\\Video\\Kennard\\GPS_08_Kornblum1500SRTSelf\\20231007\\Top\\Clips\\Kennard_20231007_HoldTrial074_TopView.avi and data.\n",
      "Loading  D:\\YuLab\\Work\\GPS\\Video\\Kennard\\GPS_08_Kornblum1500SRTSelf\\20231007\\Top\\Clips\\Kennard_20231007_HoldTrial075_TopView.avi and data.\n",
      "Loading  D:\\YuLab\\Work\\GPS\\Video\\Kennard\\GPS_08_Kornblum1500SRTSelf\\20231007\\Top\\Clips\\Kennard_20231007_HoldTrial076_TopView.avi and data.\n",
      "Loading  D:\\YuLab\\Work\\GPS\\Video\\Kennard\\GPS_08_Kornblum1500SRTSelf\\20231007\\Top\\Clips\\Kennard_20231007_HoldTrial077_TopView.avi and data.\n",
      "Loading  D:\\YuLab\\Work\\GPS\\Video\\Kennard\\GPS_08_Kornblum1500SRTSelf\\20231007\\Top\\Clips\\Kennard_20231007_HoldTrial078_TopView.avi and data.\n",
      "Loading  D:\\YuLab\\Work\\GPS\\Video\\Kennard\\GPS_08_Kornblum1500SRTSelf\\20231007\\Top\\Clips\\Kennard_20231007_HoldTrial079_TopView.avi and data.\n",
      "Loading  D:\\YuLab\\Work\\GPS\\Video\\Kennard\\GPS_08_Kornblum1500SRTSelf\\20231007\\Top\\Clips\\Kennard_20231007_HoldTrial080_TopView.avi and data.\n",
      "Loading  D:\\YuLab\\Work\\GPS\\Video\\Kennard\\GPS_08_Kornblum1500SRTSelf\\20231009\\Top\\Clips\\Kennard_20231009_HoldTrial101_TopView.avi and data.\n",
      "Loading  D:\\YuLab\\Work\\GPS\\Video\\Kennard\\GPS_08_Kornblum1500SRTSelf\\20231009\\Top\\Clips\\Kennard_20231009_HoldTrial012_TopView.avi and data.\n",
      "Loading  D:\\YuLab\\Work\\GPS\\Video\\Kennard\\GPS_08_Kornblum1500SRTSelf\\20231009\\Top\\Clips\\Kennard_20231009_HoldTrial013_TopView.avi and data.\n",
      "Loading  D:\\YuLab\\Work\\GPS\\Video\\Kennard\\GPS_08_Kornblum1500SRTSelf\\20231009\\Top\\Clips\\Kennard_20231009_HoldTrial014_TopView.avi and data.\n",
      "Loading  D:\\YuLab\\Work\\GPS\\Video\\Kennard\\GPS_08_Kornblum1500SRTSelf\\20231009\\Top\\Clips\\Kennard_20231009_HoldTrial015_TopView.avi and data.\n",
      "Loading  D:\\YuLab\\Work\\GPS\\Video\\Kennard\\GPS_08_Kornblum1500SRTSelf\\20231009\\Top\\Clips\\Kennard_20231009_HoldTrial016_TopView.avi and data.\n",
      "Loading  D:\\YuLab\\Work\\GPS\\Video\\Kennard\\GPS_08_Kornblum1500SRTSelf\\20231009\\Top\\Clips\\Kennard_20231009_HoldTrial017_TopView.avi and data.\n",
      "Loading  D:\\YuLab\\Work\\GPS\\Video\\Kennard\\GPS_08_Kornblum1500SRTSelf\\20231009\\Top\\Clips\\Kennard_20231009_HoldTrial018_TopView.avi and data.\n",
      "Loading  D:\\YuLab\\Work\\GPS\\Video\\Kennard\\GPS_08_Kornblum1500SRTSelf\\20231009\\Top\\Clips\\Kennard_20231009_HoldTrial019_TopView.avi and data.\n",
      "Loading  D:\\YuLab\\Work\\GPS\\Video\\Kennard\\GPS_08_Kornblum1500SRTSelf\\20231009\\Top\\Clips\\Kennard_20231009_HoldTrial020_TopView.avi and data.\n",
      "Loading  D:\\YuLab\\Work\\GPS\\Video\\Kennard\\GPS_08_Kornblum1500SRTSelf\\20231009\\Top\\Clips\\Kennard_20231009_HoldTrial021_TopView.avi and data.\n",
      "Loading  D:\\YuLab\\Work\\GPS\\Video\\Kennard\\GPS_08_Kornblum1500SRTSelf\\20231009\\Top\\Clips\\Kennard_20231009_HoldTrial022_TopView.avi and data.\n",
      "Loading  D:\\YuLab\\Work\\GPS\\Video\\Kennard\\GPS_08_Kornblum1500SRTSelf\\20231009\\Top\\Clips\\Kennard_20231009_HoldTrial023_TopView.avi and data.\n",
      "Loading  D:\\YuLab\\Work\\GPS\\Video\\Kennard\\GPS_08_Kornblum1500SRTSelf\\20231009\\Top\\Clips\\Kennard_20231009_HoldTrial024_TopView.avi and data.\n",
      "Loading  D:\\YuLab\\Work\\GPS\\Video\\Kennard\\GPS_08_Kornblum1500SRTSelf\\20231009\\Top\\Clips\\Kennard_20231009_HoldTrial025_TopView.avi and data.\n",
      "Loading  D:\\YuLab\\Work\\GPS\\Video\\Kennard\\GPS_08_Kornblum1500SRTSelf\\20231009\\Top\\Clips\\Kennard_20231009_HoldTrial026_TopView.avi and data.\n",
      "Loading  D:\\YuLab\\Work\\GPS\\Video\\Kennard\\GPS_08_Kornblum1500SRTSelf\\20231009\\Top\\Clips\\Kennard_20231009_HoldTrial027_TopView.avi and data.\n",
      "Loading  D:\\YuLab\\Work\\GPS\\Video\\Kennard\\GPS_08_Kornblum1500SRTSelf\\20231009\\Top\\Clips\\Kennard_20231009_HoldTrial028_TopView.avi and data.\n",
      "Loading  D:\\YuLab\\Work\\GPS\\Video\\Kennard\\GPS_08_Kornblum1500SRTSelf\\20231009\\Top\\Clips\\Kennard_20231009_HoldTrial029_TopView.avi and data.\n",
      "Loading  D:\\YuLab\\Work\\GPS\\Video\\Kennard\\GPS_08_Kornblum1500SRTSelf\\20231009\\Top\\Clips\\Kennard_20231009_HoldTrial030_TopView.avi and data.\n",
      "Loading  D:\\YuLab\\Work\\GPS\\Video\\Kennard\\GPS_08_Kornblum1500SRTSelf\\20231009\\Top\\Clips\\Kennard_20231009_HoldTrial031_TopView.avi and data.\n",
      "Loading  D:\\YuLab\\Work\\GPS\\Video\\Kennard\\GPS_08_Kornblum1500SRTSelf\\20231009\\Top\\Clips\\Kennard_20231009_HoldTrial032_TopView.avi and data.\n",
      "Loading  D:\\YuLab\\Work\\GPS\\Video\\Kennard\\GPS_08_Kornblum1500SRTSelf\\20231009\\Top\\Clips\\Kennard_20231009_HoldTrial033_TopView.avi and data.\n",
      "Loading  D:\\YuLab\\Work\\GPS\\Video\\Kennard\\GPS_08_Kornblum1500SRTSelf\\20231009\\Top\\Clips\\Kennard_20231009_HoldTrial034_TopView.avi and data.\n",
      "Loading  D:\\YuLab\\Work\\GPS\\Video\\Kennard\\GPS_08_Kornblum1500SRTSelf\\20231009\\Top\\Clips\\Kennard_20231009_HoldTrial035_TopView.avi and data.\n",
      "Loading  D:\\YuLab\\Work\\GPS\\Video\\Kennard\\GPS_08_Kornblum1500SRTSelf\\20231009\\Top\\Clips\\Kennard_20231009_HoldTrial036_TopView.avi and data.\n",
      "Loading  D:\\YuLab\\Work\\GPS\\Video\\Kennard\\GPS_08_Kornblum1500SRTSelf\\20231009\\Top\\Clips\\Kennard_20231009_HoldTrial037_TopView.avi and data.\n",
      "Loading  D:\\YuLab\\Work\\GPS\\Video\\Kennard\\GPS_08_Kornblum1500SRTSelf\\20231009\\Top\\Clips\\Kennard_20231009_HoldTrial038_TopView.avi and data.\n",
      "Loading  D:\\YuLab\\Work\\GPS\\Video\\Kennard\\GPS_08_Kornblum1500SRTSelf\\20231009\\Top\\Clips\\Kennard_20231009_HoldTrial039_TopView.avi and data.\n",
      "Loading  D:\\YuLab\\Work\\GPS\\Video\\Kennard\\GPS_08_Kornblum1500SRTSelf\\20231009\\Top\\Clips\\Kennard_20231009_HoldTrial040_TopView.avi and data.\n",
      "Loading  D:\\YuLab\\Work\\GPS\\Video\\Kennard\\GPS_08_Kornblum1500SRTSelf\\20231009\\Top\\Clips\\Kennard_20231009_HoldTrial041_TopView.avi and data.\n",
      "Loading  D:\\YuLab\\Work\\GPS\\Video\\Kennard\\GPS_08_Kornblum1500SRTSelf\\20231009\\Top\\Clips\\Kennard_20231009_HoldTrial042_TopView.avi and data.\n",
      "Loading  D:\\YuLab\\Work\\GPS\\Video\\Kennard\\GPS_08_Kornblum1500SRTSelf\\20231009\\Top\\Clips\\Kennard_20231009_HoldTrial043_TopView.avi and data.\n",
      "Loading  D:\\YuLab\\Work\\GPS\\Video\\Kennard\\GPS_08_Kornblum1500SRTSelf\\20231009\\Top\\Clips\\Kennard_20231009_HoldTrial044_TopView.avi and data.\n",
      "Loading  D:\\YuLab\\Work\\GPS\\Video\\Kennard\\GPS_08_Kornblum1500SRTSelf\\20231009\\Top\\Clips\\Kennard_20231009_HoldTrial045_TopView.avi and data.\n",
      "Loading  D:\\YuLab\\Work\\GPS\\Video\\Kennard\\GPS_08_Kornblum1500SRTSelf\\20231009\\Top\\Clips\\Kennard_20231009_HoldTrial046_TopView.avi and data.\n",
      "Loading  D:\\YuLab\\Work\\GPS\\Video\\Kennard\\GPS_08_Kornblum1500SRTSelf\\20231009\\Top\\Clips\\Kennard_20231009_HoldTrial047_TopView.avi and data.\n",
      "Loading  D:\\YuLab\\Work\\GPS\\Video\\Kennard\\GPS_08_Kornblum1500SRTSelf\\20231009\\Top\\Clips\\Kennard_20231009_HoldTrial048_TopView.avi and data.\n",
      "Loading  D:\\YuLab\\Work\\GPS\\Video\\Kennard\\GPS_08_Kornblum1500SRTSelf\\20231009\\Top\\Clips\\Kennard_20231009_HoldTrial049_TopView.avi and data.\n",
      "Loading  D:\\YuLab\\Work\\GPS\\Video\\Kennard\\GPS_08_Kornblum1500SRTSelf\\20231009\\Top\\Clips\\Kennard_20231009_HoldTrial050_TopView.avi and data.\n",
      "Loading  D:\\YuLab\\Work\\GPS\\Video\\Kennard\\GPS_08_Kornblum1500SRTSelf\\20231009\\Top\\Clips\\Kennard_20231009_HoldTrial051_TopView.avi and data.\n",
      "Loading  D:\\YuLab\\Work\\GPS\\Video\\Kennard\\GPS_08_Kornblum1500SRTSelf\\20231009\\Top\\Clips\\Kennard_20231009_HoldTrial052_TopView.avi and data.\n",
      "Loading  D:\\YuLab\\Work\\GPS\\Video\\Kennard\\GPS_08_Kornblum1500SRTSelf\\20231009\\Top\\Clips\\Kennard_20231009_HoldTrial053_TopView.avi and data.\n",
      "Loading  D:\\YuLab\\Work\\GPS\\Video\\Kennard\\GPS_08_Kornblum1500SRTSelf\\20231009\\Top\\Clips\\Kennard_20231009_HoldTrial054_TopView.avi and data.\n",
      "Loading  D:\\YuLab\\Work\\GPS\\Video\\Kennard\\GPS_08_Kornblum1500SRTSelf\\20231009\\Top\\Clips\\Kennard_20231009_HoldTrial055_TopView.avi and data.\n",
      "Loading  D:\\YuLab\\Work\\GPS\\Video\\Kennard\\GPS_08_Kornblum1500SRTSelf\\20231009\\Top\\Clips\\Kennard_20231009_HoldTrial056_TopView.avi and data.\n",
      "Loading  D:\\YuLab\\Work\\GPS\\Video\\Kennard\\GPS_08_Kornblum1500SRTSelf\\20231009\\Top\\Clips\\Kennard_20231009_HoldTrial057_TopView.avi and data.\n",
      "Loading  D:\\YuLab\\Work\\GPS\\Video\\Kennard\\GPS_08_Kornblum1500SRTSelf\\20231009\\Top\\Clips\\Kennard_20231009_HoldTrial058_TopView.avi and data.\n",
      "Loading  D:\\YuLab\\Work\\GPS\\Video\\Kennard\\GPS_08_Kornblum1500SRTSelf\\20231009\\Top\\Clips\\Kennard_20231009_HoldTrial059_TopView.avi and data.\n",
      "Loading  D:\\YuLab\\Work\\GPS\\Video\\Kennard\\GPS_08_Kornblum1500SRTSelf\\20231009\\Top\\Clips\\Kennard_20231009_HoldTrial060_TopView.avi and data.\n",
      "Loading  D:\\YuLab\\Work\\GPS\\Video\\Kennard\\GPS_08_Kornblum1500SRTSelf\\20231009\\Top\\Clips\\Kennard_20231009_HoldTrial061_TopView.avi and data.\n",
      "Loading  D:\\YuLab\\Work\\GPS\\Video\\Kennard\\GPS_08_Kornblum1500SRTSelf\\20231009\\Top\\Clips\\Kennard_20231009_HoldTrial062_TopView.avi and data.\n",
      "Loading  D:\\YuLab\\Work\\GPS\\Video\\Kennard\\GPS_08_Kornblum1500SRTSelf\\20231009\\Top\\Clips\\Kennard_20231009_HoldTrial063_TopView.avi and data.\n",
      "Loading  D:\\YuLab\\Work\\GPS\\Video\\Kennard\\GPS_08_Kornblum1500SRTSelf\\20231009\\Top\\Clips\\Kennard_20231009_HoldTrial064_TopView.avi and data.\n",
      "Loading  D:\\YuLab\\Work\\GPS\\Video\\Kennard\\GPS_08_Kornblum1500SRTSelf\\20231009\\Top\\Clips\\Kennard_20231009_HoldTrial065_TopView.avi and data.\n",
      "Loading  D:\\YuLab\\Work\\GPS\\Video\\Kennard\\GPS_08_Kornblum1500SRTSelf\\20231009\\Top\\Clips\\Kennard_20231009_HoldTrial066_TopView.avi and data.\n",
      "Loading  D:\\YuLab\\Work\\GPS\\Video\\Kennard\\GPS_08_Kornblum1500SRTSelf\\20231009\\Top\\Clips\\Kennard_20231009_HoldTrial067_TopView.avi and data.\n",
      "Loading  D:\\YuLab\\Work\\GPS\\Video\\Kennard\\GPS_08_Kornblum1500SRTSelf\\20231009\\Top\\Clips\\Kennard_20231009_HoldTrial068_TopView.avi and data.\n",
      "Loading  D:\\YuLab\\Work\\GPS\\Video\\Kennard\\GPS_08_Kornblum1500SRTSelf\\20231009\\Top\\Clips\\Kennard_20231009_HoldTrial069_TopView.avi and data.\n",
      "Loading  D:\\YuLab\\Work\\GPS\\Video\\Kennard\\GPS_08_Kornblum1500SRTSelf\\20231009\\Top\\Clips\\Kennard_20231009_HoldTrial070_TopView.avi and data.\n",
      "Loading  D:\\YuLab\\Work\\GPS\\Video\\Kennard\\GPS_08_Kornblum1500SRTSelf\\20231009\\Top\\Clips\\Kennard_20231009_HoldTrial071_TopView.avi and data.\n",
      "Loading  D:\\YuLab\\Work\\GPS\\Video\\Kennard\\GPS_08_Kornblum1500SRTSelf\\20231009\\Top\\Clips\\Kennard_20231009_HoldTrial072_TopView.avi and data.\n",
      "Loading  D:\\YuLab\\Work\\GPS\\Video\\Kennard\\GPS_08_Kornblum1500SRTSelf\\20231009\\Top\\Clips\\Kennard_20231009_HoldTrial073_TopView.avi and data.\n",
      "Loading  D:\\YuLab\\Work\\GPS\\Video\\Kennard\\GPS_08_Kornblum1500SRTSelf\\20231009\\Top\\Clips\\Kennard_20231009_HoldTrial074_TopView.avi and data.\n",
      "Loading  D:\\YuLab\\Work\\GPS\\Video\\Kennard\\GPS_08_Kornblum1500SRTSelf\\20231009\\Top\\Clips\\Kennard_20231009_HoldTrial075_TopView.avi and data.\n",
      "Loading  D:\\YuLab\\Work\\GPS\\Video\\Kennard\\GPS_08_Kornblum1500SRTSelf\\20231009\\Top\\Clips\\Kennard_20231009_HoldTrial076_TopView.avi and data.\n",
      "Loading  D:\\YuLab\\Work\\GPS\\Video\\Kennard\\GPS_08_Kornblum1500SRTSelf\\20231009\\Top\\Clips\\Kennard_20231009_HoldTrial077_TopView.avi and data.\n",
      "Loading  D:\\YuLab\\Work\\GPS\\Video\\Kennard\\GPS_08_Kornblum1500SRTSelf\\20231009\\Top\\Clips\\Kennard_20231009_HoldTrial078_TopView.avi and data.\n",
      "Loading  D:\\YuLab\\Work\\GPS\\Video\\Kennard\\GPS_08_Kornblum1500SRTSelf\\20231009\\Top\\Clips\\Kennard_20231009_HoldTrial079_TopView.avi and data.\n",
      "Loading  D:\\YuLab\\Work\\GPS\\Video\\Kennard\\GPS_08_Kornblum1500SRTSelf\\20231009\\Top\\Clips\\Kennard_20231009_HoldTrial080_TopView.avi and data.\n",
      "Loading  D:\\YuLab\\Work\\GPS\\Video\\Kennard\\GPS_08_Kornblum1500SRTSelf\\20231009\\Top\\Clips\\Kennard_20231009_HoldTrial081_TopView.avi and data.\n",
      "Loading  D:\\YuLab\\Work\\GPS\\Video\\Kennard\\GPS_08_Kornblum1500SRTSelf\\20231009\\Top\\Clips\\Kennard_20231009_HoldTrial082_TopView.avi and data.\n",
      "Loading  D:\\YuLab\\Work\\GPS\\Video\\Kennard\\GPS_08_Kornblum1500SRTSelf\\20231009\\Top\\Clips\\Kennard_20231009_HoldTrial083_TopView.avi and data.\n",
      "Loading  D:\\YuLab\\Work\\GPS\\Video\\Kennard\\GPS_08_Kornblum1500SRTSelf\\20231009\\Top\\Clips\\Kennard_20231009_HoldTrial084_TopView.avi and data.\n",
      "Loading  D:\\YuLab\\Work\\GPS\\Video\\Kennard\\GPS_08_Kornblum1500SRTSelf\\20231009\\Top\\Clips\\Kennard_20231009_HoldTrial085_TopView.avi and data.\n",
      "Loading  D:\\YuLab\\Work\\GPS\\Video\\Kennard\\GPS_08_Kornblum1500SRTSelf\\20231009\\Top\\Clips\\Kennard_20231009_HoldTrial086_TopView.avi and data.\n",
      "Loading  D:\\YuLab\\Work\\GPS\\Video\\Kennard\\GPS_08_Kornblum1500SRTSelf\\20231009\\Top\\Clips\\Kennard_20231009_HoldTrial087_TopView.avi and data.\n",
      "Loading  D:\\YuLab\\Work\\GPS\\Video\\Kennard\\GPS_08_Kornblum1500SRTSelf\\20231009\\Top\\Clips\\Kennard_20231009_HoldTrial088_TopView.avi and data.\n",
      "Loading  D:\\YuLab\\Work\\GPS\\Video\\Kennard\\GPS_08_Kornblum1500SRTSelf\\20231009\\Top\\Clips\\Kennard_20231009_HoldTrial089_TopView.avi and data.\n",
      "Loading  D:\\YuLab\\Work\\GPS\\Video\\Kennard\\GPS_08_Kornblum1500SRTSelf\\20231009\\Top\\Clips\\Kennard_20231009_HoldTrial090_TopView.avi and data.\n",
      "Loading  D:\\YuLab\\Work\\GPS\\Video\\Kennard\\GPS_08_Kornblum1500SRTSelf\\20231009\\Top\\Clips\\Kennard_20231009_HoldTrial091_TopView.avi and data.\n",
      "Loading  D:\\YuLab\\Work\\GPS\\Video\\Kennard\\GPS_08_Kornblum1500SRTSelf\\20231009\\Top\\Clips\\Kennard_20231009_HoldTrial092_TopView.avi and data.\n",
      "Loading  D:\\YuLab\\Work\\GPS\\Video\\Kennard\\GPS_08_Kornblum1500SRTSelf\\20231009\\Top\\Clips\\Kennard_20231009_HoldTrial093_TopView.avi and data.\n",
      "Loading  D:\\YuLab\\Work\\GPS\\Video\\Kennard\\GPS_08_Kornblum1500SRTSelf\\20231009\\Top\\Clips\\Kennard_20231009_HoldTrial094_TopView.avi and data.\n",
      "Loading  D:\\YuLab\\Work\\GPS\\Video\\Kennard\\GPS_08_Kornblum1500SRTSelf\\20231009\\Top\\Clips\\Kennard_20231009_HoldTrial095_TopView.avi and data.\n",
      "Loading  D:\\YuLab\\Work\\GPS\\Video\\Kennard\\GPS_08_Kornblum1500SRTSelf\\20231009\\Top\\Clips\\Kennard_20231009_HoldTrial096_TopView.avi and data.\n",
      "Loading  D:\\YuLab\\Work\\GPS\\Video\\Kennard\\GPS_08_Kornblum1500SRTSelf\\20231009\\Top\\Clips\\Kennard_20231009_HoldTrial097_TopView.avi and data.\n",
      "Loading  D:\\YuLab\\Work\\GPS\\Video\\Kennard\\GPS_08_Kornblum1500SRTSelf\\20231009\\Top\\Clips\\Kennard_20231009_HoldTrial098_TopView.avi and data.\n",
      "Loading  D:\\YuLab\\Work\\GPS\\Video\\Kennard\\GPS_08_Kornblum1500SRTSelf\\20231009\\Top\\Clips\\Kennard_20231009_HoldTrial099_TopView.avi and data.\n",
      "Loading  D:\\YuLab\\Work\\GPS\\Video\\Kennard\\GPS_08_Kornblum1500SRTSelf\\20231009\\Top\\Clips\\Kennard_20231009_HoldTrial100_TopView.avi and data.\n",
      "Loading  D:\\YuLab\\Work\\GPS\\Video\\Kennard\\GPS_08_Kornblum1500SRTSelf\\20231010\\Top\\Clips\\Kennard_20231010_HoldTrial106_TopView.avi and data.\n",
      "Loading  D:\\YuLab\\Work\\GPS\\Video\\Kennard\\GPS_08_Kornblum1500SRTSelf\\20231010\\Top\\Clips\\Kennard_20231010_HoldTrial011_TopView.avi and data.\n",
      "Loading  D:\\YuLab\\Work\\GPS\\Video\\Kennard\\GPS_08_Kornblum1500SRTSelf\\20231010\\Top\\Clips\\Kennard_20231010_HoldTrial012_TopView.avi and data.\n",
      "Loading  D:\\YuLab\\Work\\GPS\\Video\\Kennard\\GPS_08_Kornblum1500SRTSelf\\20231010\\Top\\Clips\\Kennard_20231010_HoldTrial013_TopView.avi and data.\n",
      "Loading  D:\\YuLab\\Work\\GPS\\Video\\Kennard\\GPS_08_Kornblum1500SRTSelf\\20231010\\Top\\Clips\\Kennard_20231010_HoldTrial014_TopView.avi and data.\n",
      "Loading  D:\\YuLab\\Work\\GPS\\Video\\Kennard\\GPS_08_Kornblum1500SRTSelf\\20231010\\Top\\Clips\\Kennard_20231010_HoldTrial015_TopView.avi and data.\n",
      "Loading  D:\\YuLab\\Work\\GPS\\Video\\Kennard\\GPS_08_Kornblum1500SRTSelf\\20231010\\Top\\Clips\\Kennard_20231010_HoldTrial016_TopView.avi and data.\n",
      "Loading  D:\\YuLab\\Work\\GPS\\Video\\Kennard\\GPS_08_Kornblum1500SRTSelf\\20231010\\Top\\Clips\\Kennard_20231010_HoldTrial017_TopView.avi and data.\n",
      "Loading  D:\\YuLab\\Work\\GPS\\Video\\Kennard\\GPS_08_Kornblum1500SRTSelf\\20231010\\Top\\Clips\\Kennard_20231010_HoldTrial018_TopView.avi and data.\n",
      "Loading  D:\\YuLab\\Work\\GPS\\Video\\Kennard\\GPS_08_Kornblum1500SRTSelf\\20231010\\Top\\Clips\\Kennard_20231010_HoldTrial019_TopView.avi and data.\n",
      "Loading  D:\\YuLab\\Work\\GPS\\Video\\Kennard\\GPS_08_Kornblum1500SRTSelf\\20231010\\Top\\Clips\\Kennard_20231010_HoldTrial020_TopView.avi and data.\n",
      "Loading  D:\\YuLab\\Work\\GPS\\Video\\Kennard\\GPS_08_Kornblum1500SRTSelf\\20231010\\Top\\Clips\\Kennard_20231010_HoldTrial021_TopView.avi and data.\n",
      "Loading  D:\\YuLab\\Work\\GPS\\Video\\Kennard\\GPS_08_Kornblum1500SRTSelf\\20231010\\Top\\Clips\\Kennard_20231010_HoldTrial022_TopView.avi and data.\n",
      "Loading  D:\\YuLab\\Work\\GPS\\Video\\Kennard\\GPS_08_Kornblum1500SRTSelf\\20231010\\Top\\Clips\\Kennard_20231010_HoldTrial023_TopView.avi and data.\n",
      "Loading  D:\\YuLab\\Work\\GPS\\Video\\Kennard\\GPS_08_Kornblum1500SRTSelf\\20231010\\Top\\Clips\\Kennard_20231010_HoldTrial024_TopView.avi and data.\n",
      "Loading  D:\\YuLab\\Work\\GPS\\Video\\Kennard\\GPS_08_Kornblum1500SRTSelf\\20231010\\Top\\Clips\\Kennard_20231010_HoldTrial025_TopView.avi and data.\n",
      "Loading  D:\\YuLab\\Work\\GPS\\Video\\Kennard\\GPS_08_Kornblum1500SRTSelf\\20231010\\Top\\Clips\\Kennard_20231010_HoldTrial026_TopView.avi and data.\n",
      "Loading  D:\\YuLab\\Work\\GPS\\Video\\Kennard\\GPS_08_Kornblum1500SRTSelf\\20231010\\Top\\Clips\\Kennard_20231010_HoldTrial027_TopView.avi and data.\n",
      "Loading  D:\\YuLab\\Work\\GPS\\Video\\Kennard\\GPS_08_Kornblum1500SRTSelf\\20231010\\Top\\Clips\\Kennard_20231010_HoldTrial028_TopView.avi and data.\n",
      "Loading  D:\\YuLab\\Work\\GPS\\Video\\Kennard\\GPS_08_Kornblum1500SRTSelf\\20231010\\Top\\Clips\\Kennard_20231010_HoldTrial029_TopView.avi and data.\n",
      "Loading  D:\\YuLab\\Work\\GPS\\Video\\Kennard\\GPS_08_Kornblum1500SRTSelf\\20231010\\Top\\Clips\\Kennard_20231010_HoldTrial030_TopView.avi and data.\n",
      "Loading  D:\\YuLab\\Work\\GPS\\Video\\Kennard\\GPS_08_Kornblum1500SRTSelf\\20231010\\Top\\Clips\\Kennard_20231010_HoldTrial031_TopView.avi and data.\n",
      "Loading  D:\\YuLab\\Work\\GPS\\Video\\Kennard\\GPS_08_Kornblum1500SRTSelf\\20231010\\Top\\Clips\\Kennard_20231010_HoldTrial032_TopView.avi and data.\n",
      "Loading  D:\\YuLab\\Work\\GPS\\Video\\Kennard\\GPS_08_Kornblum1500SRTSelf\\20231010\\Top\\Clips\\Kennard_20231010_HoldTrial033_TopView.avi and data.\n",
      "Loading  D:\\YuLab\\Work\\GPS\\Video\\Kennard\\GPS_08_Kornblum1500SRTSelf\\20231010\\Top\\Clips\\Kennard_20231010_HoldTrial034_TopView.avi and data.\n",
      "Loading  D:\\YuLab\\Work\\GPS\\Video\\Kennard\\GPS_08_Kornblum1500SRTSelf\\20231010\\Top\\Clips\\Kennard_20231010_HoldTrial035_TopView.avi and data.\n",
      "Loading  D:\\YuLab\\Work\\GPS\\Video\\Kennard\\GPS_08_Kornblum1500SRTSelf\\20231010\\Top\\Clips\\Kennard_20231010_HoldTrial036_TopView.avi and data.\n",
      "Loading  D:\\YuLab\\Work\\GPS\\Video\\Kennard\\GPS_08_Kornblum1500SRTSelf\\20231010\\Top\\Clips\\Kennard_20231010_HoldTrial037_TopView.avi and data.\n",
      "Loading  D:\\YuLab\\Work\\GPS\\Video\\Kennard\\GPS_08_Kornblum1500SRTSelf\\20231010\\Top\\Clips\\Kennard_20231010_HoldTrial038_TopView.avi and data.\n",
      "Loading  D:\\YuLab\\Work\\GPS\\Video\\Kennard\\GPS_08_Kornblum1500SRTSelf\\20231010\\Top\\Clips\\Kennard_20231010_HoldTrial039_TopView.avi and data.\n",
      "Loading  D:\\YuLab\\Work\\GPS\\Video\\Kennard\\GPS_08_Kornblum1500SRTSelf\\20231010\\Top\\Clips\\Kennard_20231010_HoldTrial040_TopView.avi and data.\n",
      "Loading  D:\\YuLab\\Work\\GPS\\Video\\Kennard\\GPS_08_Kornblum1500SRTSelf\\20231010\\Top\\Clips\\Kennard_20231010_HoldTrial041_TopView.avi and data.\n",
      "Loading  D:\\YuLab\\Work\\GPS\\Video\\Kennard\\GPS_08_Kornblum1500SRTSelf\\20231010\\Top\\Clips\\Kennard_20231010_HoldTrial042_TopView.avi and data.\n",
      "Loading  D:\\YuLab\\Work\\GPS\\Video\\Kennard\\GPS_08_Kornblum1500SRTSelf\\20231010\\Top\\Clips\\Kennard_20231010_HoldTrial043_TopView.avi and data.\n",
      "Loading  D:\\YuLab\\Work\\GPS\\Video\\Kennard\\GPS_08_Kornblum1500SRTSelf\\20231010\\Top\\Clips\\Kennard_20231010_HoldTrial044_TopView.avi and data.\n",
      "Loading  D:\\YuLab\\Work\\GPS\\Video\\Kennard\\GPS_08_Kornblum1500SRTSelf\\20231010\\Top\\Clips\\Kennard_20231010_HoldTrial045_TopView.avi and data.\n",
      "Loading  D:\\YuLab\\Work\\GPS\\Video\\Kennard\\GPS_08_Kornblum1500SRTSelf\\20231010\\Top\\Clips\\Kennard_20231010_HoldTrial046_TopView.avi and data.\n",
      "Loading  D:\\YuLab\\Work\\GPS\\Video\\Kennard\\GPS_08_Kornblum1500SRTSelf\\20231010\\Top\\Clips\\Kennard_20231010_HoldTrial047_TopView.avi and data.\n",
      "Loading  D:\\YuLab\\Work\\GPS\\Video\\Kennard\\GPS_08_Kornblum1500SRTSelf\\20231010\\Top\\Clips\\Kennard_20231010_HoldTrial048_TopView.avi and data.\n",
      "Loading  D:\\YuLab\\Work\\GPS\\Video\\Kennard\\GPS_08_Kornblum1500SRTSelf\\20231010\\Top\\Clips\\Kennard_20231010_HoldTrial049_TopView.avi and data.\n",
      "Loading  D:\\YuLab\\Work\\GPS\\Video\\Kennard\\GPS_08_Kornblum1500SRTSelf\\20231010\\Top\\Clips\\Kennard_20231010_HoldTrial050_TopView.avi and data.\n",
      "Loading  D:\\YuLab\\Work\\GPS\\Video\\Kennard\\GPS_08_Kornblum1500SRTSelf\\20231010\\Top\\Clips\\Kennard_20231010_HoldTrial051_TopView.avi and data.\n",
      "Loading  D:\\YuLab\\Work\\GPS\\Video\\Kennard\\GPS_08_Kornblum1500SRTSelf\\20231010\\Top\\Clips\\Kennard_20231010_HoldTrial052_TopView.avi and data.\n",
      "Loading  D:\\YuLab\\Work\\GPS\\Video\\Kennard\\GPS_08_Kornblum1500SRTSelf\\20231010\\Top\\Clips\\Kennard_20231010_HoldTrial053_TopView.avi and data.\n",
      "Loading  D:\\YuLab\\Work\\GPS\\Video\\Kennard\\GPS_08_Kornblum1500SRTSelf\\20231010\\Top\\Clips\\Kennard_20231010_HoldTrial055_TopView.avi and data.\n",
      "Loading  D:\\YuLab\\Work\\GPS\\Video\\Kennard\\GPS_08_Kornblum1500SRTSelf\\20231010\\Top\\Clips\\Kennard_20231010_HoldTrial056_TopView.avi and data.\n",
      "Loading  D:\\YuLab\\Work\\GPS\\Video\\Kennard\\GPS_08_Kornblum1500SRTSelf\\20231010\\Top\\Clips\\Kennard_20231010_HoldTrial057_TopView.avi and data.\n",
      "Loading  D:\\YuLab\\Work\\GPS\\Video\\Kennard\\GPS_08_Kornblum1500SRTSelf\\20231010\\Top\\Clips\\Kennard_20231010_HoldTrial058_TopView.avi and data.\n",
      "Loading  D:\\YuLab\\Work\\GPS\\Video\\Kennard\\GPS_08_Kornblum1500SRTSelf\\20231010\\Top\\Clips\\Kennard_20231010_HoldTrial059_TopView.avi and data.\n",
      "Loading  D:\\YuLab\\Work\\GPS\\Video\\Kennard\\GPS_08_Kornblum1500SRTSelf\\20231010\\Top\\Clips\\Kennard_20231010_HoldTrial060_TopView.avi and data.\n",
      "Loading  D:\\YuLab\\Work\\GPS\\Video\\Kennard\\GPS_08_Kornblum1500SRTSelf\\20231010\\Top\\Clips\\Kennard_20231010_HoldTrial061_TopView.avi and data.\n",
      "Loading  D:\\YuLab\\Work\\GPS\\Video\\Kennard\\GPS_08_Kornblum1500SRTSelf\\20231010\\Top\\Clips\\Kennard_20231010_HoldTrial062_TopView.avi and data.\n",
      "Loading  D:\\YuLab\\Work\\GPS\\Video\\Kennard\\GPS_08_Kornblum1500SRTSelf\\20231010\\Top\\Clips\\Kennard_20231010_HoldTrial063_TopView.avi and data.\n",
      "Loading  D:\\YuLab\\Work\\GPS\\Video\\Kennard\\GPS_08_Kornblum1500SRTSelf\\20231010\\Top\\Clips\\Kennard_20231010_HoldTrial064_TopView.avi and data.\n",
      "Loading  D:\\YuLab\\Work\\GPS\\Video\\Kennard\\GPS_08_Kornblum1500SRTSelf\\20231010\\Top\\Clips\\Kennard_20231010_HoldTrial065_TopView.avi and data.\n",
      "Loading  D:\\YuLab\\Work\\GPS\\Video\\Kennard\\GPS_08_Kornblum1500SRTSelf\\20231010\\Top\\Clips\\Kennard_20231010_HoldTrial066_TopView.avi and data.\n",
      "Loading  D:\\YuLab\\Work\\GPS\\Video\\Kennard\\GPS_08_Kornblum1500SRTSelf\\20231010\\Top\\Clips\\Kennard_20231010_HoldTrial067_TopView.avi and data.\n",
      "Loading  D:\\YuLab\\Work\\GPS\\Video\\Kennard\\GPS_08_Kornblum1500SRTSelf\\20231010\\Top\\Clips\\Kennard_20231010_HoldTrial068_TopView.avi and data.\n",
      "Loading  D:\\YuLab\\Work\\GPS\\Video\\Kennard\\GPS_08_Kornblum1500SRTSelf\\20231010\\Top\\Clips\\Kennard_20231010_HoldTrial069_TopView.avi and data.\n",
      "Loading  D:\\YuLab\\Work\\GPS\\Video\\Kennard\\GPS_08_Kornblum1500SRTSelf\\20231010\\Top\\Clips\\Kennard_20231010_HoldTrial070_TopView.avi and data.\n",
      "Loading  D:\\YuLab\\Work\\GPS\\Video\\Kennard\\GPS_08_Kornblum1500SRTSelf\\20231010\\Top\\Clips\\Kennard_20231010_HoldTrial071_TopView.avi and data.\n",
      "Loading  D:\\YuLab\\Work\\GPS\\Video\\Kennard\\GPS_08_Kornblum1500SRTSelf\\20231010\\Top\\Clips\\Kennard_20231010_HoldTrial072_TopView.avi and data.\n",
      "Loading  D:\\YuLab\\Work\\GPS\\Video\\Kennard\\GPS_08_Kornblum1500SRTSelf\\20231010\\Top\\Clips\\Kennard_20231010_HoldTrial073_TopView.avi and data.\n",
      "Loading  D:\\YuLab\\Work\\GPS\\Video\\Kennard\\GPS_08_Kornblum1500SRTSelf\\20231010\\Top\\Clips\\Kennard_20231010_HoldTrial074_TopView.avi and data.\n",
      "Loading  D:\\YuLab\\Work\\GPS\\Video\\Kennard\\GPS_08_Kornblum1500SRTSelf\\20231010\\Top\\Clips\\Kennard_20231010_HoldTrial075_TopView.avi and data.\n",
      "Loading  D:\\YuLab\\Work\\GPS\\Video\\Kennard\\GPS_08_Kornblum1500SRTSelf\\20231010\\Top\\Clips\\Kennard_20231010_HoldTrial076_TopView.avi and data.\n",
      "Loading  D:\\YuLab\\Work\\GPS\\Video\\Kennard\\GPS_08_Kornblum1500SRTSelf\\20231010\\Top\\Clips\\Kennard_20231010_HoldTrial077_TopView.avi and data.\n",
      "Loading  D:\\YuLab\\Work\\GPS\\Video\\Kennard\\GPS_08_Kornblum1500SRTSelf\\20231010\\Top\\Clips\\Kennard_20231010_HoldTrial078_TopView.avi and data.\n",
      "Loading  D:\\YuLab\\Work\\GPS\\Video\\Kennard\\GPS_08_Kornblum1500SRTSelf\\20231010\\Top\\Clips\\Kennard_20231010_HoldTrial079_TopView.avi and data.\n",
      "Loading  D:\\YuLab\\Work\\GPS\\Video\\Kennard\\GPS_08_Kornblum1500SRTSelf\\20231010\\Top\\Clips\\Kennard_20231010_HoldTrial080_TopView.avi and data.\n",
      "Loading  D:\\YuLab\\Work\\GPS\\Video\\Kennard\\GPS_08_Kornblum1500SRTSelf\\20231010\\Top\\Clips\\Kennard_20231010_HoldTrial081_TopView.avi and data.\n",
      "Loading  D:\\YuLab\\Work\\GPS\\Video\\Kennard\\GPS_08_Kornblum1500SRTSelf\\20231010\\Top\\Clips\\Kennard_20231010_HoldTrial082_TopView.avi and data.\n",
      "Loading  D:\\YuLab\\Work\\GPS\\Video\\Kennard\\GPS_08_Kornblum1500SRTSelf\\20231010\\Top\\Clips\\Kennard_20231010_HoldTrial083_TopView.avi and data.\n",
      "Loading  D:\\YuLab\\Work\\GPS\\Video\\Kennard\\GPS_08_Kornblum1500SRTSelf\\20231010\\Top\\Clips\\Kennard_20231010_HoldTrial084_TopView.avi and data.\n",
      "Loading  D:\\YuLab\\Work\\GPS\\Video\\Kennard\\GPS_08_Kornblum1500SRTSelf\\20231010\\Top\\Clips\\Kennard_20231010_HoldTrial085_TopView.avi and data.\n",
      "Loading  D:\\YuLab\\Work\\GPS\\Video\\Kennard\\GPS_08_Kornblum1500SRTSelf\\20231010\\Top\\Clips\\Kennard_20231010_HoldTrial086_TopView.avi and data.\n",
      "Loading  D:\\YuLab\\Work\\GPS\\Video\\Kennard\\GPS_08_Kornblum1500SRTSelf\\20231010\\Top\\Clips\\Kennard_20231010_HoldTrial087_TopView.avi and data.\n",
      "Loading  D:\\YuLab\\Work\\GPS\\Video\\Kennard\\GPS_08_Kornblum1500SRTSelf\\20231010\\Top\\Clips\\Kennard_20231010_HoldTrial088_TopView.avi and data.\n",
      "Loading  D:\\YuLab\\Work\\GPS\\Video\\Kennard\\GPS_08_Kornblum1500SRTSelf\\20231010\\Top\\Clips\\Kennard_20231010_HoldTrial089_TopView.avi and data.\n",
      "Loading  D:\\YuLab\\Work\\GPS\\Video\\Kennard\\GPS_08_Kornblum1500SRTSelf\\20231010\\Top\\Clips\\Kennard_20231010_HoldTrial090_TopView.avi and data.\n",
      "Loading  D:\\YuLab\\Work\\GPS\\Video\\Kennard\\GPS_08_Kornblum1500SRTSelf\\20231010\\Top\\Clips\\Kennard_20231010_HoldTrial091_TopView.avi and data.\n",
      "Loading  D:\\YuLab\\Work\\GPS\\Video\\Kennard\\GPS_08_Kornblum1500SRTSelf\\20231010\\Top\\Clips\\Kennard_20231010_HoldTrial092_TopView.avi and data.\n",
      "Loading  D:\\YuLab\\Work\\GPS\\Video\\Kennard\\GPS_08_Kornblum1500SRTSelf\\20231010\\Top\\Clips\\Kennard_20231010_HoldTrial093_TopView.avi and data.\n",
      "Loading  D:\\YuLab\\Work\\GPS\\Video\\Kennard\\GPS_08_Kornblum1500SRTSelf\\20231010\\Top\\Clips\\Kennard_20231010_HoldTrial094_TopView.avi and data.\n",
      "Loading  D:\\YuLab\\Work\\GPS\\Video\\Kennard\\GPS_08_Kornblum1500SRTSelf\\20231010\\Top\\Clips\\Kennard_20231010_HoldTrial095_TopView.avi and data.\n",
      "Loading  D:\\YuLab\\Work\\GPS\\Video\\Kennard\\GPS_08_Kornblum1500SRTSelf\\20231010\\Top\\Clips\\Kennard_20231010_HoldTrial096_TopView.avi and data.\n",
      "Loading  D:\\YuLab\\Work\\GPS\\Video\\Kennard\\GPS_08_Kornblum1500SRTSelf\\20231010\\Top\\Clips\\Kennard_20231010_HoldTrial097_TopView.avi and data.\n",
      "Loading  D:\\YuLab\\Work\\GPS\\Video\\Kennard\\GPS_08_Kornblum1500SRTSelf\\20231010\\Top\\Clips\\Kennard_20231010_HoldTrial098_TopView.avi and data.\n",
      "Loading  D:\\YuLab\\Work\\GPS\\Video\\Kennard\\GPS_08_Kornblum1500SRTSelf\\20231010\\Top\\Clips\\Kennard_20231010_HoldTrial099_TopView.avi and data.\n",
      "Loading  D:\\YuLab\\Work\\GPS\\Video\\Kennard\\GPS_08_Kornblum1500SRTSelf\\20231010\\Top\\Clips\\Kennard_20231010_HoldTrial100_TopView.avi and data.\n",
      "Loading  D:\\YuLab\\Work\\GPS\\Video\\Kennard\\GPS_08_Kornblum1500SRTSelf\\20231010\\Top\\Clips\\Kennard_20231010_HoldTrial101_TopView.avi and data.\n",
      "Loading  D:\\YuLab\\Work\\GPS\\Video\\Kennard\\GPS_08_Kornblum1500SRTSelf\\20231010\\Top\\Clips\\Kennard_20231010_HoldTrial102_TopView.avi and data.\n",
      "Loading  D:\\YuLab\\Work\\GPS\\Video\\Kennard\\GPS_08_Kornblum1500SRTSelf\\20231010\\Top\\Clips\\Kennard_20231010_HoldTrial103_TopView.avi and data.\n",
      "Loading  D:\\YuLab\\Work\\GPS\\Video\\Kennard\\GPS_08_Kornblum1500SRTSelf\\20231010\\Top\\Clips\\Kennard_20231010_HoldTrial104_TopView.avi and data.\n",
      "Loading  D:\\YuLab\\Work\\GPS\\Video\\Kennard\\GPS_08_Kornblum1500SRTSelf\\20231010\\Top\\Clips\\Kennard_20231010_HoldTrial105_TopView.avi and data.\n",
      "Loading  D:\\YuLab\\Work\\GPS\\Video\\Kennard\\GPS_08_Kornblum1500SRTSelf\\20231012\\Top\\Clips\\Kennard_20231012_HoldTrial101_TopView.avi and data.\n",
      "Loading  D:\\YuLab\\Work\\GPS\\Video\\Kennard\\GPS_08_Kornblum1500SRTSelf\\20231012\\Top\\Clips\\Kennard_20231012_HoldTrial012_TopView.avi and data.\n",
      "Loading  D:\\YuLab\\Work\\GPS\\Video\\Kennard\\GPS_08_Kornblum1500SRTSelf\\20231012\\Top\\Clips\\Kennard_20231012_HoldTrial013_TopView.avi and data.\n",
      "Loading  D:\\YuLab\\Work\\GPS\\Video\\Kennard\\GPS_08_Kornblum1500SRTSelf\\20231012\\Top\\Clips\\Kennard_20231012_HoldTrial014_TopView.avi and data.\n",
      "Loading  D:\\YuLab\\Work\\GPS\\Video\\Kennard\\GPS_08_Kornblum1500SRTSelf\\20231012\\Top\\Clips\\Kennard_20231012_HoldTrial015_TopView.avi and data.\n",
      "Loading  D:\\YuLab\\Work\\GPS\\Video\\Kennard\\GPS_08_Kornblum1500SRTSelf\\20231012\\Top\\Clips\\Kennard_20231012_HoldTrial016_TopView.avi and data.\n",
      "Loading  D:\\YuLab\\Work\\GPS\\Video\\Kennard\\GPS_08_Kornblum1500SRTSelf\\20231012\\Top\\Clips\\Kennard_20231012_HoldTrial017_TopView.avi and data.\n",
      "Loading  D:\\YuLab\\Work\\GPS\\Video\\Kennard\\GPS_08_Kornblum1500SRTSelf\\20231012\\Top\\Clips\\Kennard_20231012_HoldTrial018_TopView.avi and data.\n",
      "Loading  D:\\YuLab\\Work\\GPS\\Video\\Kennard\\GPS_08_Kornblum1500SRTSelf\\20231012\\Top\\Clips\\Kennard_20231012_HoldTrial019_TopView.avi and data.\n",
      "Loading  D:\\YuLab\\Work\\GPS\\Video\\Kennard\\GPS_08_Kornblum1500SRTSelf\\20231012\\Top\\Clips\\Kennard_20231012_HoldTrial020_TopView.avi and data.\n",
      "Loading  D:\\YuLab\\Work\\GPS\\Video\\Kennard\\GPS_08_Kornblum1500SRTSelf\\20231012\\Top\\Clips\\Kennard_20231012_HoldTrial021_TopView.avi and data.\n",
      "Loading  D:\\YuLab\\Work\\GPS\\Video\\Kennard\\GPS_08_Kornblum1500SRTSelf\\20231012\\Top\\Clips\\Kennard_20231012_HoldTrial022_TopView.avi and data.\n",
      "Loading  D:\\YuLab\\Work\\GPS\\Video\\Kennard\\GPS_08_Kornblum1500SRTSelf\\20231012\\Top\\Clips\\Kennard_20231012_HoldTrial023_TopView.avi and data.\n",
      "Loading  D:\\YuLab\\Work\\GPS\\Video\\Kennard\\GPS_08_Kornblum1500SRTSelf\\20231012\\Top\\Clips\\Kennard_20231012_HoldTrial024_TopView.avi and data.\n",
      "Loading  D:\\YuLab\\Work\\GPS\\Video\\Kennard\\GPS_08_Kornblum1500SRTSelf\\20231012\\Top\\Clips\\Kennard_20231012_HoldTrial025_TopView.avi and data.\n",
      "Loading  D:\\YuLab\\Work\\GPS\\Video\\Kennard\\GPS_08_Kornblum1500SRTSelf\\20231012\\Top\\Clips\\Kennard_20231012_HoldTrial026_TopView.avi and data.\n",
      "Loading  D:\\YuLab\\Work\\GPS\\Video\\Kennard\\GPS_08_Kornblum1500SRTSelf\\20231012\\Top\\Clips\\Kennard_20231012_HoldTrial027_TopView.avi and data.\n",
      "Loading  D:\\YuLab\\Work\\GPS\\Video\\Kennard\\GPS_08_Kornblum1500SRTSelf\\20231012\\Top\\Clips\\Kennard_20231012_HoldTrial028_TopView.avi and data.\n",
      "Loading  D:\\YuLab\\Work\\GPS\\Video\\Kennard\\GPS_08_Kornblum1500SRTSelf\\20231012\\Top\\Clips\\Kennard_20231012_HoldTrial029_TopView.avi and data.\n",
      "Loading  D:\\YuLab\\Work\\GPS\\Video\\Kennard\\GPS_08_Kornblum1500SRTSelf\\20231012\\Top\\Clips\\Kennard_20231012_HoldTrial030_TopView.avi and data.\n",
      "Loading  D:\\YuLab\\Work\\GPS\\Video\\Kennard\\GPS_08_Kornblum1500SRTSelf\\20231012\\Top\\Clips\\Kennard_20231012_HoldTrial031_TopView.avi and data.\n",
      "Loading  D:\\YuLab\\Work\\GPS\\Video\\Kennard\\GPS_08_Kornblum1500SRTSelf\\20231012\\Top\\Clips\\Kennard_20231012_HoldTrial032_TopView.avi and data.\n",
      "Loading  D:\\YuLab\\Work\\GPS\\Video\\Kennard\\GPS_08_Kornblum1500SRTSelf\\20231012\\Top\\Clips\\Kennard_20231012_HoldTrial033_TopView.avi and data.\n",
      "Loading  D:\\YuLab\\Work\\GPS\\Video\\Kennard\\GPS_08_Kornblum1500SRTSelf\\20231012\\Top\\Clips\\Kennard_20231012_HoldTrial034_TopView.avi and data.\n",
      "Loading  D:\\YuLab\\Work\\GPS\\Video\\Kennard\\GPS_08_Kornblum1500SRTSelf\\20231012\\Top\\Clips\\Kennard_20231012_HoldTrial035_TopView.avi and data.\n",
      "Loading  D:\\YuLab\\Work\\GPS\\Video\\Kennard\\GPS_08_Kornblum1500SRTSelf\\20231012\\Top\\Clips\\Kennard_20231012_HoldTrial036_TopView.avi and data.\n",
      "Loading  D:\\YuLab\\Work\\GPS\\Video\\Kennard\\GPS_08_Kornblum1500SRTSelf\\20231012\\Top\\Clips\\Kennard_20231012_HoldTrial037_TopView.avi and data.\n",
      "Loading  D:\\YuLab\\Work\\GPS\\Video\\Kennard\\GPS_08_Kornblum1500SRTSelf\\20231012\\Top\\Clips\\Kennard_20231012_HoldTrial038_TopView.avi and data.\n",
      "Loading  D:\\YuLab\\Work\\GPS\\Video\\Kennard\\GPS_08_Kornblum1500SRTSelf\\20231012\\Top\\Clips\\Kennard_20231012_HoldTrial039_TopView.avi and data.\n",
      "Loading  D:\\YuLab\\Work\\GPS\\Video\\Kennard\\GPS_08_Kornblum1500SRTSelf\\20231012\\Top\\Clips\\Kennard_20231012_HoldTrial040_TopView.avi and data.\n",
      "Loading  D:\\YuLab\\Work\\GPS\\Video\\Kennard\\GPS_08_Kornblum1500SRTSelf\\20231012\\Top\\Clips\\Kennard_20231012_HoldTrial041_TopView.avi and data.\n",
      "Loading  D:\\YuLab\\Work\\GPS\\Video\\Kennard\\GPS_08_Kornblum1500SRTSelf\\20231012\\Top\\Clips\\Kennard_20231012_HoldTrial042_TopView.avi and data.\n",
      "Loading  D:\\YuLab\\Work\\GPS\\Video\\Kennard\\GPS_08_Kornblum1500SRTSelf\\20231012\\Top\\Clips\\Kennard_20231012_HoldTrial043_TopView.avi and data.\n",
      "Loading  D:\\YuLab\\Work\\GPS\\Video\\Kennard\\GPS_08_Kornblum1500SRTSelf\\20231012\\Top\\Clips\\Kennard_20231012_HoldTrial044_TopView.avi and data.\n",
      "Loading  D:\\YuLab\\Work\\GPS\\Video\\Kennard\\GPS_08_Kornblum1500SRTSelf\\20231012\\Top\\Clips\\Kennard_20231012_HoldTrial045_TopView.avi and data.\n",
      "Loading  D:\\YuLab\\Work\\GPS\\Video\\Kennard\\GPS_08_Kornblum1500SRTSelf\\20231012\\Top\\Clips\\Kennard_20231012_HoldTrial046_TopView.avi and data.\n",
      "Loading  D:\\YuLab\\Work\\GPS\\Video\\Kennard\\GPS_08_Kornblum1500SRTSelf\\20231012\\Top\\Clips\\Kennard_20231012_HoldTrial047_TopView.avi and data.\n",
      "Loading  D:\\YuLab\\Work\\GPS\\Video\\Kennard\\GPS_08_Kornblum1500SRTSelf\\20231012\\Top\\Clips\\Kennard_20231012_HoldTrial048_TopView.avi and data.\n",
      "Loading  D:\\YuLab\\Work\\GPS\\Video\\Kennard\\GPS_08_Kornblum1500SRTSelf\\20231012\\Top\\Clips\\Kennard_20231012_HoldTrial049_TopView.avi and data.\n",
      "Loading  D:\\YuLab\\Work\\GPS\\Video\\Kennard\\GPS_08_Kornblum1500SRTSelf\\20231012\\Top\\Clips\\Kennard_20231012_HoldTrial050_TopView.avi and data.\n",
      "Loading  D:\\YuLab\\Work\\GPS\\Video\\Kennard\\GPS_08_Kornblum1500SRTSelf\\20231012\\Top\\Clips\\Kennard_20231012_HoldTrial051_TopView.avi and data.\n",
      "Loading  D:\\YuLab\\Work\\GPS\\Video\\Kennard\\GPS_08_Kornblum1500SRTSelf\\20231012\\Top\\Clips\\Kennard_20231012_HoldTrial052_TopView.avi and data.\n",
      "Loading  D:\\YuLab\\Work\\GPS\\Video\\Kennard\\GPS_08_Kornblum1500SRTSelf\\20231012\\Top\\Clips\\Kennard_20231012_HoldTrial053_TopView.avi and data.\n",
      "Loading  D:\\YuLab\\Work\\GPS\\Video\\Kennard\\GPS_08_Kornblum1500SRTSelf\\20231012\\Top\\Clips\\Kennard_20231012_HoldTrial054_TopView.avi and data.\n",
      "Loading  D:\\YuLab\\Work\\GPS\\Video\\Kennard\\GPS_08_Kornblum1500SRTSelf\\20231012\\Top\\Clips\\Kennard_20231012_HoldTrial055_TopView.avi and data.\n",
      "Loading  D:\\YuLab\\Work\\GPS\\Video\\Kennard\\GPS_08_Kornblum1500SRTSelf\\20231012\\Top\\Clips\\Kennard_20231012_HoldTrial056_TopView.avi and data.\n",
      "Loading  D:\\YuLab\\Work\\GPS\\Video\\Kennard\\GPS_08_Kornblum1500SRTSelf\\20231012\\Top\\Clips\\Kennard_20231012_HoldTrial057_TopView.avi and data.\n",
      "Loading  D:\\YuLab\\Work\\GPS\\Video\\Kennard\\GPS_08_Kornblum1500SRTSelf\\20231012\\Top\\Clips\\Kennard_20231012_HoldTrial058_TopView.avi and data.\n",
      "Loading  D:\\YuLab\\Work\\GPS\\Video\\Kennard\\GPS_08_Kornblum1500SRTSelf\\20231012\\Top\\Clips\\Kennard_20231012_HoldTrial059_TopView.avi and data.\n",
      "Loading  D:\\YuLab\\Work\\GPS\\Video\\Kennard\\GPS_08_Kornblum1500SRTSelf\\20231012\\Top\\Clips\\Kennard_20231012_HoldTrial060_TopView.avi and data.\n",
      "Loading  D:\\YuLab\\Work\\GPS\\Video\\Kennard\\GPS_08_Kornblum1500SRTSelf\\20231012\\Top\\Clips\\Kennard_20231012_HoldTrial061_TopView.avi and data.\n",
      "Loading  D:\\YuLab\\Work\\GPS\\Video\\Kennard\\GPS_08_Kornblum1500SRTSelf\\20231012\\Top\\Clips\\Kennard_20231012_HoldTrial062_TopView.avi and data.\n",
      "Loading  D:\\YuLab\\Work\\GPS\\Video\\Kennard\\GPS_08_Kornblum1500SRTSelf\\20231012\\Top\\Clips\\Kennard_20231012_HoldTrial063_TopView.avi and data.\n",
      "Loading  D:\\YuLab\\Work\\GPS\\Video\\Kennard\\GPS_08_Kornblum1500SRTSelf\\20231012\\Top\\Clips\\Kennard_20231012_HoldTrial064_TopView.avi and data.\n",
      "Loading  D:\\YuLab\\Work\\GPS\\Video\\Kennard\\GPS_08_Kornblum1500SRTSelf\\20231012\\Top\\Clips\\Kennard_20231012_HoldTrial065_TopView.avi and data.\n",
      "Loading  D:\\YuLab\\Work\\GPS\\Video\\Kennard\\GPS_08_Kornblum1500SRTSelf\\20231012\\Top\\Clips\\Kennard_20231012_HoldTrial066_TopView.avi and data.\n",
      "Loading  D:\\YuLab\\Work\\GPS\\Video\\Kennard\\GPS_08_Kornblum1500SRTSelf\\20231012\\Top\\Clips\\Kennard_20231012_HoldTrial067_TopView.avi and data.\n",
      "Loading  D:\\YuLab\\Work\\GPS\\Video\\Kennard\\GPS_08_Kornblum1500SRTSelf\\20231012\\Top\\Clips\\Kennard_20231012_HoldTrial068_TopView.avi and data.\n",
      "Loading  D:\\YuLab\\Work\\GPS\\Video\\Kennard\\GPS_08_Kornblum1500SRTSelf\\20231012\\Top\\Clips\\Kennard_20231012_HoldTrial069_TopView.avi and data.\n",
      "Loading  D:\\YuLab\\Work\\GPS\\Video\\Kennard\\GPS_08_Kornblum1500SRTSelf\\20231012\\Top\\Clips\\Kennard_20231012_HoldTrial070_TopView.avi and data.\n",
      "Loading  D:\\YuLab\\Work\\GPS\\Video\\Kennard\\GPS_08_Kornblum1500SRTSelf\\20231012\\Top\\Clips\\Kennard_20231012_HoldTrial071_TopView.avi and data.\n",
      "Loading  D:\\YuLab\\Work\\GPS\\Video\\Kennard\\GPS_08_Kornblum1500SRTSelf\\20231012\\Top\\Clips\\Kennard_20231012_HoldTrial072_TopView.avi and data.\n",
      "Loading  D:\\YuLab\\Work\\GPS\\Video\\Kennard\\GPS_08_Kornblum1500SRTSelf\\20231012\\Top\\Clips\\Kennard_20231012_HoldTrial073_TopView.avi and data.\n",
      "Loading  D:\\YuLab\\Work\\GPS\\Video\\Kennard\\GPS_08_Kornblum1500SRTSelf\\20231012\\Top\\Clips\\Kennard_20231012_HoldTrial074_TopView.avi and data.\n",
      "Loading  D:\\YuLab\\Work\\GPS\\Video\\Kennard\\GPS_08_Kornblum1500SRTSelf\\20231012\\Top\\Clips\\Kennard_20231012_HoldTrial075_TopView.avi and data.\n",
      "Loading  D:\\YuLab\\Work\\GPS\\Video\\Kennard\\GPS_08_Kornblum1500SRTSelf\\20231012\\Top\\Clips\\Kennard_20231012_HoldTrial076_TopView.avi and data.\n",
      "Loading  D:\\YuLab\\Work\\GPS\\Video\\Kennard\\GPS_08_Kornblum1500SRTSelf\\20231012\\Top\\Clips\\Kennard_20231012_HoldTrial077_TopView.avi and data.\n",
      "Loading  D:\\YuLab\\Work\\GPS\\Video\\Kennard\\GPS_08_Kornblum1500SRTSelf\\20231012\\Top\\Clips\\Kennard_20231012_HoldTrial078_TopView.avi and data.\n",
      "Loading  D:\\YuLab\\Work\\GPS\\Video\\Kennard\\GPS_08_Kornblum1500SRTSelf\\20231012\\Top\\Clips\\Kennard_20231012_HoldTrial079_TopView.avi and data.\n",
      "Loading  D:\\YuLab\\Work\\GPS\\Video\\Kennard\\GPS_08_Kornblum1500SRTSelf\\20231012\\Top\\Clips\\Kennard_20231012_HoldTrial080_TopView.avi and data.\n",
      "Loading  D:\\YuLab\\Work\\GPS\\Video\\Kennard\\GPS_08_Kornblum1500SRTSelf\\20231012\\Top\\Clips\\Kennard_20231012_HoldTrial081_TopView.avi and data.\n",
      "Loading  D:\\YuLab\\Work\\GPS\\Video\\Kennard\\GPS_08_Kornblum1500SRTSelf\\20231012\\Top\\Clips\\Kennard_20231012_HoldTrial082_TopView.avi and data.\n",
      "Loading  D:\\YuLab\\Work\\GPS\\Video\\Kennard\\GPS_08_Kornblum1500SRTSelf\\20231012\\Top\\Clips\\Kennard_20231012_HoldTrial083_TopView.avi and data.\n",
      "Loading  D:\\YuLab\\Work\\GPS\\Video\\Kennard\\GPS_08_Kornblum1500SRTSelf\\20231012\\Top\\Clips\\Kennard_20231012_HoldTrial084_TopView.avi and data.\n",
      "Loading  D:\\YuLab\\Work\\GPS\\Video\\Kennard\\GPS_08_Kornblum1500SRTSelf\\20231012\\Top\\Clips\\Kennard_20231012_HoldTrial085_TopView.avi and data.\n",
      "Loading  D:\\YuLab\\Work\\GPS\\Video\\Kennard\\GPS_08_Kornblum1500SRTSelf\\20231012\\Top\\Clips\\Kennard_20231012_HoldTrial086_TopView.avi and data.\n",
      "Loading  D:\\YuLab\\Work\\GPS\\Video\\Kennard\\GPS_08_Kornblum1500SRTSelf\\20231012\\Top\\Clips\\Kennard_20231012_HoldTrial087_TopView.avi and data.\n",
      "Loading  D:\\YuLab\\Work\\GPS\\Video\\Kennard\\GPS_08_Kornblum1500SRTSelf\\20231012\\Top\\Clips\\Kennard_20231012_HoldTrial088_TopView.avi and data.\n",
      "Loading  D:\\YuLab\\Work\\GPS\\Video\\Kennard\\GPS_08_Kornblum1500SRTSelf\\20231012\\Top\\Clips\\Kennard_20231012_HoldTrial089_TopView.avi and data.\n",
      "Loading  D:\\YuLab\\Work\\GPS\\Video\\Kennard\\GPS_08_Kornblum1500SRTSelf\\20231012\\Top\\Clips\\Kennard_20231012_HoldTrial090_TopView.avi and data.\n",
      "Loading  D:\\YuLab\\Work\\GPS\\Video\\Kennard\\GPS_08_Kornblum1500SRTSelf\\20231012\\Top\\Clips\\Kennard_20231012_HoldTrial091_TopView.avi and data.\n",
      "Loading  D:\\YuLab\\Work\\GPS\\Video\\Kennard\\GPS_08_Kornblum1500SRTSelf\\20231012\\Top\\Clips\\Kennard_20231012_HoldTrial092_TopView.avi and data.\n",
      "Loading  D:\\YuLab\\Work\\GPS\\Video\\Kennard\\GPS_08_Kornblum1500SRTSelf\\20231012\\Top\\Clips\\Kennard_20231012_HoldTrial093_TopView.avi and data.\n",
      "Loading  D:\\YuLab\\Work\\GPS\\Video\\Kennard\\GPS_08_Kornblum1500SRTSelf\\20231012\\Top\\Clips\\Kennard_20231012_HoldTrial094_TopView.avi and data.\n",
      "Loading  D:\\YuLab\\Work\\GPS\\Video\\Kennard\\GPS_08_Kornblum1500SRTSelf\\20231012\\Top\\Clips\\Kennard_20231012_HoldTrial095_TopView.avi and data.\n",
      "Loading  D:\\YuLab\\Work\\GPS\\Video\\Kennard\\GPS_08_Kornblum1500SRTSelf\\20231012\\Top\\Clips\\Kennard_20231012_HoldTrial096_TopView.avi and data.\n",
      "Loading  D:\\YuLab\\Work\\GPS\\Video\\Kennard\\GPS_08_Kornblum1500SRTSelf\\20231012\\Top\\Clips\\Kennard_20231012_HoldTrial097_TopView.avi and data.\n",
      "Loading  D:\\YuLab\\Work\\GPS\\Video\\Kennard\\GPS_08_Kornblum1500SRTSelf\\20231012\\Top\\Clips\\Kennard_20231012_HoldTrial098_TopView.avi and data.\n",
      "Loading  D:\\YuLab\\Work\\GPS\\Video\\Kennard\\GPS_08_Kornblum1500SRTSelf\\20231012\\Top\\Clips\\Kennard_20231012_HoldTrial099_TopView.avi and data.\n",
      "Loading  D:\\YuLab\\Work\\GPS\\Video\\Kennard\\GPS_08_Kornblum1500SRTSelf\\20231012\\Top\\Clips\\Kennard_20231012_HoldTrial100_TopView.avi and data.\n",
      "Loading  D:\\YuLab\\Work\\GPS\\Video\\Kennard\\GPS_08_Kornblum1500SRTSelf\\20231013\\Top\\Clips\\Kennard_20231013_HoldTrial011_TopView.avi and data.\n",
      "Loading  D:\\YuLab\\Work\\GPS\\Video\\Kennard\\GPS_08_Kornblum1500SRTSelf\\20231013\\Top\\Clips\\Kennard_20231013_HoldTrial012_TopView.avi and data.\n",
      "Loading  D:\\YuLab\\Work\\GPS\\Video\\Kennard\\GPS_08_Kornblum1500SRTSelf\\20231013\\Top\\Clips\\Kennard_20231013_HoldTrial013_TopView.avi and data.\n",
      "Loading  D:\\YuLab\\Work\\GPS\\Video\\Kennard\\GPS_08_Kornblum1500SRTSelf\\20231013\\Top\\Clips\\Kennard_20231013_HoldTrial014_TopView.avi and data.\n",
      "Loading  D:\\YuLab\\Work\\GPS\\Video\\Kennard\\GPS_08_Kornblum1500SRTSelf\\20231013\\Top\\Clips\\Kennard_20231013_HoldTrial015_TopView.avi and data.\n",
      "Loading  D:\\YuLab\\Work\\GPS\\Video\\Kennard\\GPS_08_Kornblum1500SRTSelf\\20231013\\Top\\Clips\\Kennard_20231013_HoldTrial016_TopView.avi and data.\n",
      "Loading  D:\\YuLab\\Work\\GPS\\Video\\Kennard\\GPS_08_Kornblum1500SRTSelf\\20231013\\Top\\Clips\\Kennard_20231013_HoldTrial017_TopView.avi and data.\n",
      "Loading  D:\\YuLab\\Work\\GPS\\Video\\Kennard\\GPS_08_Kornblum1500SRTSelf\\20231013\\Top\\Clips\\Kennard_20231013_HoldTrial018_TopView.avi and data.\n",
      "Loading  D:\\YuLab\\Work\\GPS\\Video\\Kennard\\GPS_08_Kornblum1500SRTSelf\\20231013\\Top\\Clips\\Kennard_20231013_HoldTrial019_TopView.avi and data.\n",
      "Loading  D:\\YuLab\\Work\\GPS\\Video\\Kennard\\GPS_08_Kornblum1500SRTSelf\\20231013\\Top\\Clips\\Kennard_20231013_HoldTrial020_TopView.avi and data.\n",
      "Loading  D:\\YuLab\\Work\\GPS\\Video\\Kennard\\GPS_08_Kornblum1500SRTSelf\\20231013\\Top\\Clips\\Kennard_20231013_HoldTrial021_TopView.avi and data.\n",
      "Loading  D:\\YuLab\\Work\\GPS\\Video\\Kennard\\GPS_08_Kornblum1500SRTSelf\\20231013\\Top\\Clips\\Kennard_20231013_HoldTrial022_TopView.avi and data.\n",
      "Loading  D:\\YuLab\\Work\\GPS\\Video\\Kennard\\GPS_08_Kornblum1500SRTSelf\\20231013\\Top\\Clips\\Kennard_20231013_HoldTrial023_TopView.avi and data.\n",
      "Loading  D:\\YuLab\\Work\\GPS\\Video\\Kennard\\GPS_08_Kornblum1500SRTSelf\\20231013\\Top\\Clips\\Kennard_20231013_HoldTrial024_TopView.avi and data.\n",
      "Loading  D:\\YuLab\\Work\\GPS\\Video\\Kennard\\GPS_08_Kornblum1500SRTSelf\\20231013\\Top\\Clips\\Kennard_20231013_HoldTrial025_TopView.avi and data.\n",
      "Loading  D:\\YuLab\\Work\\GPS\\Video\\Kennard\\GPS_08_Kornblum1500SRTSelf\\20231013\\Top\\Clips\\Kennard_20231013_HoldTrial026_TopView.avi and data.\n",
      "Loading  D:\\YuLab\\Work\\GPS\\Video\\Kennard\\GPS_08_Kornblum1500SRTSelf\\20231013\\Top\\Clips\\Kennard_20231013_HoldTrial027_TopView.avi and data.\n",
      "Loading  D:\\YuLab\\Work\\GPS\\Video\\Kennard\\GPS_08_Kornblum1500SRTSelf\\20231013\\Top\\Clips\\Kennard_20231013_HoldTrial028_TopView.avi and data.\n",
      "Loading  D:\\YuLab\\Work\\GPS\\Video\\Kennard\\GPS_08_Kornblum1500SRTSelf\\20231013\\Top\\Clips\\Kennard_20231013_HoldTrial029_TopView.avi and data.\n",
      "Loading  D:\\YuLab\\Work\\GPS\\Video\\Kennard\\GPS_08_Kornblum1500SRTSelf\\20231013\\Top\\Clips\\Kennard_20231013_HoldTrial030_TopView.avi and data.\n",
      "Loading  D:\\YuLab\\Work\\GPS\\Video\\Kennard\\GPS_08_Kornblum1500SRTSelf\\20231013\\Top\\Clips\\Kennard_20231013_HoldTrial031_TopView.avi and data.\n",
      "Loading  D:\\YuLab\\Work\\GPS\\Video\\Kennard\\GPS_08_Kornblum1500SRTSelf\\20231013\\Top\\Clips\\Kennard_20231013_HoldTrial032_TopView.avi and data.\n",
      "Loading  D:\\YuLab\\Work\\GPS\\Video\\Kennard\\GPS_08_Kornblum1500SRTSelf\\20231013\\Top\\Clips\\Kennard_20231013_HoldTrial033_TopView.avi and data.\n",
      "Loading  D:\\YuLab\\Work\\GPS\\Video\\Kennard\\GPS_08_Kornblum1500SRTSelf\\20231013\\Top\\Clips\\Kennard_20231013_HoldTrial034_TopView.avi and data.\n",
      "Loading  D:\\YuLab\\Work\\GPS\\Video\\Kennard\\GPS_08_Kornblum1500SRTSelf\\20231013\\Top\\Clips\\Kennard_20231013_HoldTrial035_TopView.avi and data.\n",
      "Loading  D:\\YuLab\\Work\\GPS\\Video\\Kennard\\GPS_08_Kornblum1500SRTSelf\\20231013\\Top\\Clips\\Kennard_20231013_HoldTrial036_TopView.avi and data.\n",
      "Loading  D:\\YuLab\\Work\\GPS\\Video\\Kennard\\GPS_08_Kornblum1500SRTSelf\\20231013\\Top\\Clips\\Kennard_20231013_HoldTrial037_TopView.avi and data.\n",
      "Loading  D:\\YuLab\\Work\\GPS\\Video\\Kennard\\GPS_08_Kornblum1500SRTSelf\\20231013\\Top\\Clips\\Kennard_20231013_HoldTrial038_TopView.avi and data.\n",
      "Loading  D:\\YuLab\\Work\\GPS\\Video\\Kennard\\GPS_08_Kornblum1500SRTSelf\\20231013\\Top\\Clips\\Kennard_20231013_HoldTrial039_TopView.avi and data.\n",
      "Loading  D:\\YuLab\\Work\\GPS\\Video\\Kennard\\GPS_08_Kornblum1500SRTSelf\\20231013\\Top\\Clips\\Kennard_20231013_HoldTrial040_TopView.avi and data.\n",
      "Loading  D:\\YuLab\\Work\\GPS\\Video\\Kennard\\GPS_08_Kornblum1500SRTSelf\\20231013\\Top\\Clips\\Kennard_20231013_HoldTrial041_TopView.avi and data.\n",
      "Loading  D:\\YuLab\\Work\\GPS\\Video\\Kennard\\GPS_08_Kornblum1500SRTSelf\\20231013\\Top\\Clips\\Kennard_20231013_HoldTrial042_TopView.avi and data.\n",
      "Loading  D:\\YuLab\\Work\\GPS\\Video\\Kennard\\GPS_08_Kornblum1500SRTSelf\\20231013\\Top\\Clips\\Kennard_20231013_HoldTrial043_TopView.avi and data.\n",
      "Loading  D:\\YuLab\\Work\\GPS\\Video\\Kennard\\GPS_08_Kornblum1500SRTSelf\\20231013\\Top\\Clips\\Kennard_20231013_HoldTrial044_TopView.avi and data.\n",
      "Loading  D:\\YuLab\\Work\\GPS\\Video\\Kennard\\GPS_08_Kornblum1500SRTSelf\\20231013\\Top\\Clips\\Kennard_20231013_HoldTrial045_TopView.avi and data.\n",
      "Loading  D:\\YuLab\\Work\\GPS\\Video\\Kennard\\GPS_08_Kornblum1500SRTSelf\\20231013\\Top\\Clips\\Kennard_20231013_HoldTrial046_TopView.avi and data.\n",
      "Loading  D:\\YuLab\\Work\\GPS\\Video\\Kennard\\GPS_08_Kornblum1500SRTSelf\\20231013\\Top\\Clips\\Kennard_20231013_HoldTrial047_TopView.avi and data.\n",
      "Loading  D:\\YuLab\\Work\\GPS\\Video\\Kennard\\GPS_08_Kornblum1500SRTSelf\\20231013\\Top\\Clips\\Kennard_20231013_HoldTrial048_TopView.avi and data.\n",
      "Loading  D:\\YuLab\\Work\\GPS\\Video\\Kennard\\GPS_08_Kornblum1500SRTSelf\\20231013\\Top\\Clips\\Kennard_20231013_HoldTrial049_TopView.avi and data.\n",
      "Loading  D:\\YuLab\\Work\\GPS\\Video\\Kennard\\GPS_08_Kornblum1500SRTSelf\\20231013\\Top\\Clips\\Kennard_20231013_HoldTrial050_TopView.avi and data.\n",
      "Loading  D:\\YuLab\\Work\\GPS\\Video\\Kennard\\GPS_08_Kornblum1500SRTSelf\\20231013\\Top\\Clips\\Kennard_20231013_HoldTrial051_TopView.avi and data.\n",
      "Loading  D:\\YuLab\\Work\\GPS\\Video\\Kennard\\GPS_08_Kornblum1500SRTSelf\\20231013\\Top\\Clips\\Kennard_20231013_HoldTrial052_TopView.avi and data.\n",
      "Loading  D:\\YuLab\\Work\\GPS\\Video\\Kennard\\GPS_08_Kornblum1500SRTSelf\\20231013\\Top\\Clips\\Kennard_20231013_HoldTrial053_TopView.avi and data.\n",
      "Loading  D:\\YuLab\\Work\\GPS\\Video\\Kennard\\GPS_08_Kornblum1500SRTSelf\\20231013\\Top\\Clips\\Kennard_20231013_HoldTrial054_TopView.avi and data.\n",
      "Loading  D:\\YuLab\\Work\\GPS\\Video\\Kennard\\GPS_08_Kornblum1500SRTSelf\\20231013\\Top\\Clips\\Kennard_20231013_HoldTrial055_TopView.avi and data.\n",
      "Loading  D:\\YuLab\\Work\\GPS\\Video\\Kennard\\GPS_08_Kornblum1500SRTSelf\\20231013\\Top\\Clips\\Kennard_20231013_HoldTrial056_TopView.avi and data.\n",
      "Loading  D:\\YuLab\\Work\\GPS\\Video\\Kennard\\GPS_08_Kornblum1500SRTSelf\\20231013\\Top\\Clips\\Kennard_20231013_HoldTrial057_TopView.avi and data.\n",
      "Loading  D:\\YuLab\\Work\\GPS\\Video\\Kennard\\GPS_08_Kornblum1500SRTSelf\\20231013\\Top\\Clips\\Kennard_20231013_HoldTrial058_TopView.avi and data.\n",
      "Loading  D:\\YuLab\\Work\\GPS\\Video\\Kennard\\GPS_08_Kornblum1500SRTSelf\\20231013\\Top\\Clips\\Kennard_20231013_HoldTrial059_TopView.avi and data.\n",
      "Loading  D:\\YuLab\\Work\\GPS\\Video\\Kennard\\GPS_08_Kornblum1500SRTSelf\\20231013\\Top\\Clips\\Kennard_20231013_HoldTrial060_TopView.avi and data.\n",
      "Loading  D:\\YuLab\\Work\\GPS\\Video\\Kennard\\GPS_08_Kornblum1500SRTSelf\\20231013\\Top\\Clips\\Kennard_20231013_HoldTrial061_TopView.avi and data.\n",
      "Loading  D:\\YuLab\\Work\\GPS\\Video\\Kennard\\GPS_08_Kornblum1500SRTSelf\\20231013\\Top\\Clips\\Kennard_20231013_HoldTrial062_TopView.avi and data.\n",
      "Loading  D:\\YuLab\\Work\\GPS\\Video\\Kennard\\GPS_08_Kornblum1500SRTSelf\\20231013\\Top\\Clips\\Kennard_20231013_HoldTrial063_TopView.avi and data.\n",
      "Loading  D:\\YuLab\\Work\\GPS\\Video\\Kennard\\GPS_08_Kornblum1500SRTSelf\\20231013\\Top\\Clips\\Kennard_20231013_HoldTrial064_TopView.avi and data.\n",
      "Loading  D:\\YuLab\\Work\\GPS\\Video\\Kennard\\GPS_08_Kornblum1500SRTSelf\\20231013\\Top\\Clips\\Kennard_20231013_HoldTrial065_TopView.avi and data.\n",
      "Loading  D:\\YuLab\\Work\\GPS\\Video\\Kennard\\GPS_08_Kornblum1500SRTSelf\\20231013\\Top\\Clips\\Kennard_20231013_HoldTrial066_TopView.avi and data.\n",
      "Loading  D:\\YuLab\\Work\\GPS\\Video\\Kennard\\GPS_08_Kornblum1500SRTSelf\\20231013\\Top\\Clips\\Kennard_20231013_HoldTrial067_TopView.avi and data.\n",
      "Loading  D:\\YuLab\\Work\\GPS\\Video\\Kennard\\GPS_08_Kornblum1500SRTSelf\\20231013\\Top\\Clips\\Kennard_20231013_HoldTrial068_TopView.avi and data.\n",
      "Loading  D:\\YuLab\\Work\\GPS\\Video\\Kennard\\GPS_08_Kornblum1500SRTSelf\\20231013\\Top\\Clips\\Kennard_20231013_HoldTrial069_TopView.avi and data.\n",
      "Loading  D:\\YuLab\\Work\\GPS\\Video\\Kennard\\GPS_08_Kornblum1500SRTSelf\\20231013\\Top\\Clips\\Kennard_20231013_HoldTrial070_TopView.avi and data.\n",
      "Loading  D:\\YuLab\\Work\\GPS\\Video\\Kennard\\GPS_08_Kornblum1500SRTSelf\\20231013\\Top\\Clips\\Kennard_20231013_HoldTrial071_TopView.avi and data.\n",
      "Loading  D:\\YuLab\\Work\\GPS\\Video\\Kennard\\GPS_08_Kornblum1500SRTSelf\\20231013\\Top\\Clips\\Kennard_20231013_HoldTrial072_TopView.avi and data.\n",
      "Loading  D:\\YuLab\\Work\\GPS\\Video\\Kennard\\GPS_08_Kornblum1500SRTSelf\\20231013\\Top\\Clips\\Kennard_20231013_HoldTrial073_TopView.avi and data.\n",
      "Loading  D:\\YuLab\\Work\\GPS\\Video\\Kennard\\GPS_08_Kornblum1500SRTSelf\\20231013\\Top\\Clips\\Kennard_20231013_HoldTrial074_TopView.avi and data.\n",
      "Loading  D:\\YuLab\\Work\\GPS\\Video\\Kennard\\GPS_08_Kornblum1500SRTSelf\\20231013\\Top\\Clips\\Kennard_20231013_HoldTrial075_TopView.avi and data.\n",
      "Loading  D:\\YuLab\\Work\\GPS\\Video\\Kennard\\GPS_08_Kornblum1500SRTSelf\\20231013\\Top\\Clips\\Kennard_20231013_HoldTrial076_TopView.avi and data.\n",
      "Loading  D:\\YuLab\\Work\\GPS\\Video\\Kennard\\GPS_08_Kornblum1500SRTSelf\\20231013\\Top\\Clips\\Kennard_20231013_HoldTrial077_TopView.avi and data.\n",
      "Loading  D:\\YuLab\\Work\\GPS\\Video\\Kennard\\GPS_08_Kornblum1500SRTSelf\\20231013\\Top\\Clips\\Kennard_20231013_HoldTrial078_TopView.avi and data.\n",
      "Loading  D:\\YuLab\\Work\\GPS\\Video\\Kennard\\GPS_08_Kornblum1500SRTSelf\\20231013\\Top\\Clips\\Kennard_20231013_HoldTrial079_TopView.avi and data.\n",
      "Loading  D:\\YuLab\\Work\\GPS\\Video\\Kennard\\GPS_08_Kornblum1500SRTSelf\\20231013\\Top\\Clips\\Kennard_20231013_HoldTrial080_TopView.avi and data.\n",
      "Loading  D:\\YuLab\\Work\\GPS\\Video\\Kennard\\GPS_08_Kornblum1500SRTSelf\\20231013\\Top\\Clips\\Kennard_20231013_HoldTrial081_TopView.avi and data.\n",
      "Loading  D:\\YuLab\\Work\\GPS\\Video\\Kennard\\GPS_08_Kornblum1500SRTSelf\\20231013\\Top\\Clips\\Kennard_20231013_HoldTrial082_TopView.avi and data.\n",
      "Loading  D:\\YuLab\\Work\\GPS\\Video\\Kennard\\GPS_08_Kornblum1500SRTSelf\\20231013\\Top\\Clips\\Kennard_20231013_HoldTrial083_TopView.avi and data.\n",
      "Loading  D:\\YuLab\\Work\\GPS\\Video\\Kennard\\GPS_08_Kornblum1500SRTSelf\\20231013\\Top\\Clips\\Kennard_20231013_HoldTrial084_TopView.avi and data.\n",
      "Loading  D:\\YuLab\\Work\\GPS\\Video\\Kennard\\GPS_08_Kornblum1500SRTSelf\\20231013\\Top\\Clips\\Kennard_20231013_HoldTrial085_TopView.avi and data.\n",
      "Loading  D:\\YuLab\\Work\\GPS\\Video\\Kennard\\GPS_08_Kornblum1500SRTSelf\\20231013\\Top\\Clips\\Kennard_20231013_HoldTrial086_TopView.avi and data.\n",
      "Loading  D:\\YuLab\\Work\\GPS\\Video\\Kennard\\GPS_08_Kornblum1500SRTSelf\\20231013\\Top\\Clips\\Kennard_20231013_HoldTrial087_TopView.avi and data.\n",
      "Loading  D:\\YuLab\\Work\\GPS\\Video\\Kennard\\GPS_08_Kornblum1500SRTSelf\\20231013\\Top\\Clips\\Kennard_20231013_HoldTrial088_TopView.avi and data.\n",
      "Loading  D:\\YuLab\\Work\\GPS\\Video\\Kennard\\GPS_08_Kornblum1500SRTSelf\\20231013\\Top\\Clips\\Kennard_20231013_HoldTrial089_TopView.avi and data.\n",
      "Loading  D:\\YuLab\\Work\\GPS\\Video\\Kennard\\GPS_08_Kornblum1500SRTSelf\\20231013\\Top\\Clips\\Kennard_20231013_HoldTrial090_TopView.avi and data.\n",
      "Loading  D:\\YuLab\\Work\\GPS\\Video\\Kennard\\GPS_08_Kornblum1500SRTSelf\\20231013\\Top\\Clips\\Kennard_20231013_HoldTrial091_TopView.avi and data.\n",
      "Loading  D:\\YuLab\\Work\\GPS\\Video\\Kennard\\GPS_08_Kornblum1500SRTSelf\\20231013\\Top\\Clips\\Kennard_20231013_HoldTrial092_TopView.avi and data.\n",
      "Loading  D:\\YuLab\\Work\\GPS\\Video\\Kennard\\GPS_08_Kornblum1500SRTSelf\\20231013\\Top\\Clips\\Kennard_20231013_HoldTrial093_TopView.avi and data.\n",
      "Loading  D:\\YuLab\\Work\\GPS\\Video\\Kennard\\GPS_08_Kornblum1500SRTSelf\\20231013\\Top\\Clips\\Kennard_20231013_HoldTrial094_TopView.avi and data.\n",
      "Loading  D:\\YuLab\\Work\\GPS\\Video\\Kennard\\GPS_08_Kornblum1500SRTSelf\\20231013\\Top\\Clips\\Kennard_20231013_HoldTrial095_TopView.avi and data.\n",
      "Loading  D:\\YuLab\\Work\\GPS\\Video\\Kennard\\GPS_08_Kornblum1500SRTSelf\\20231013\\Top\\Clips\\Kennard_20231013_HoldTrial096_TopView.avi and data.\n",
      "Loading  D:\\YuLab\\Work\\GPS\\Video\\Kennard\\GPS_08_Kornblum1500SRTSelf\\20231013\\Top\\Clips\\Kennard_20231013_HoldTrial097_TopView.avi and data.\n",
      "Loading  D:\\YuLab\\Work\\GPS\\Video\\Kennard\\GPS_08_Kornblum1500SRTSelf\\20231013\\Top\\Clips\\Kennard_20231013_HoldTrial098_TopView.avi and data.\n",
      "Loading  D:\\YuLab\\Work\\GPS\\Video\\Kennard\\GPS_08_Kornblum1500SRTSelf\\20231013\\Top\\Clips\\Kennard_20231013_HoldTrial099_TopView.avi and data.\n",
      "Loading  D:\\YuLab\\Work\\GPS\\Video\\Kennard\\GPS_08_Kornblum1500SRTSelf\\20231013\\Top\\Clips\\Kennard_20231013_HoldTrial100_TopView.avi and data.\n",
      "Loading  D:\\YuLab\\Work\\GPS\\Video\\Kennard\\GPS_08_Kornblum1500SRTSelf\\20231013\\Top\\Clips\\Kennard_20231013_HoldTrial101_TopView.avi and data.\n",
      "Loading  D:\\YuLab\\Work\\GPS\\Video\\Kennard\\GPS_08_Kornblum1500SRTSelf\\20231013\\Top\\Clips\\Kennard_20231013_HoldTrial102_TopView.avi and data.\n",
      "Loading  D:\\YuLab\\Work\\GPS\\Video\\Kennard\\GPS_08_Kornblum1500SRTSelf\\20231013\\Top\\Clips\\Kennard_20231013_HoldTrial103_TopView.avi and data.\n",
      "Loading  D:\\YuLab\\Work\\GPS\\Video\\Kennard\\GPS_08_Kornblum1500SRTSelf\\20231013\\Top\\Clips\\Kennard_20231013_HoldTrial104_TopView.avi and data.\n",
      "Loading  D:\\YuLab\\Work\\GPS\\Video\\Kennard\\GPS_08_Kornblum1500SRTSelf\\20231013\\Top\\Clips\\Kennard_20231013_HoldTrial105_TopView.avi and data.\n",
      "Loading  D:\\YuLab\\Work\\GPS\\Video\\Kennard\\GPS_08_Kornblum1500SRTSelf\\20231013\\Top\\Clips\\Kennard_20231013_HoldTrial106_TopView.avi and data.\n",
      "Loading  D:\\YuLab\\Work\\GPS\\Video\\Kennard\\GPS_08_Kornblum1500SRTSelf\\20231013\\Top\\Clips\\Kennard_20231013_HoldTrial107_TopView.avi and data.\n",
      "Loading  D:\\YuLab\\Work\\GPS\\Video\\Kennard\\GPS_08_Kornblum1500SRTSelf\\20231013\\Top\\Clips\\Kennard_20231013_HoldTrial108_TopView.avi and data.\n",
      "Loading  D:\\YuLab\\Work\\GPS\\Video\\Kennard\\GPS_08_Kornblum1500SRTSelf\\20231013\\Top\\Clips\\Kennard_20231013_HoldTrial109_TopView.avi and data.\n",
      "Loading  D:\\YuLab\\Work\\GPS\\Video\\Kennard\\GPS_08_Kornblum1500SRTSelf\\20231013\\Top\\Clips\\Kennard_20231013_HoldTrial110_TopView.avi and data.\n",
      "Loading  D:\\YuLab\\Work\\GPS\\Video\\Kennard\\GPS_08_Kornblum1500SRTSelf\\20231013\\Top\\Clips\\Kennard_20231013_HoldTrial111_TopView.avi and data.\n",
      "Loading  D:\\YuLab\\Work\\GPS\\Video\\Kennard\\GPS_08_Kornblum1500SRTSelf\\20231013\\Top\\Clips\\Kennard_20231013_HoldTrial112_TopView.avi and data.\n",
      "Loading  D:\\YuLab\\Work\\GPS\\Video\\Kennard\\GPS_08_Kornblum1500SRTSelf\\20231013\\Top\\Clips\\Kennard_20231013_HoldTrial113_TopView.avi and data.\n",
      "Loading  D:\\YuLab\\Work\\GPS\\Video\\Kennard\\GPS_08_Kornblum1500SRTSelf\\20231013\\Top\\Clips\\Kennard_20231013_HoldTrial114_TopView.avi and data.\n",
      "Loading  D:\\YuLab\\Work\\GPS\\Video\\Kennard\\GPS_08_Kornblum1500SRTSelf\\20231013\\Top\\Clips\\Kennard_20231013_HoldTrial115_TopView.avi and data.\n",
      "Loading  D:\\YuLab\\Work\\GPS\\Video\\Kennard\\GPS_08_Kornblum1500SRTSelf\\20231013\\Top\\Clips\\Kennard_20231013_HoldTrial116_TopView.avi and data.\n",
      "Loading  D:\\YuLab\\Work\\GPS\\Video\\Kennard\\GPS_08_Kornblum1500SRTSelf\\20231013\\Top\\Clips\\Kennard_20231013_HoldTrial117_TopView.avi and data.\n",
      "Loading  D:\\YuLab\\Work\\GPS\\Video\\Kennard\\GPS_08_Kornblum1500SRTSelf\\20231013\\Top\\Clips\\Kennard_20231013_HoldTrial118_TopView.avi and data.\n",
      "Loading  D:\\YuLab\\Work\\GPS\\Video\\Kennard\\GPS_08_Kornblum1500SRTSelf\\20231014\\Top\\Clips\\Kennard_20231014_HoldTrial114_TopView.avi and data.\n",
      "Loading  D:\\YuLab\\Work\\GPS\\Video\\Kennard\\GPS_08_Kornblum1500SRTSelf\\20231014\\Top\\Clips\\Kennard_20231014_HoldTrial011_TopView.avi and data.\n",
      "Loading  D:\\YuLab\\Work\\GPS\\Video\\Kennard\\GPS_08_Kornblum1500SRTSelf\\20231014\\Top\\Clips\\Kennard_20231014_HoldTrial012_TopView.avi and data.\n",
      "Loading  D:\\YuLab\\Work\\GPS\\Video\\Kennard\\GPS_08_Kornblum1500SRTSelf\\20231014\\Top\\Clips\\Kennard_20231014_HoldTrial013_TopView.avi and data.\n",
      "Loading  D:\\YuLab\\Work\\GPS\\Video\\Kennard\\GPS_08_Kornblum1500SRTSelf\\20231014\\Top\\Clips\\Kennard_20231014_HoldTrial014_TopView.avi and data.\n",
      "Loading  D:\\YuLab\\Work\\GPS\\Video\\Kennard\\GPS_08_Kornblum1500SRTSelf\\20231014\\Top\\Clips\\Kennard_20231014_HoldTrial015_TopView.avi and data.\n",
      "Loading  D:\\YuLab\\Work\\GPS\\Video\\Kennard\\GPS_08_Kornblum1500SRTSelf\\20231014\\Top\\Clips\\Kennard_20231014_HoldTrial016_TopView.avi and data.\n",
      "Loading  D:\\YuLab\\Work\\GPS\\Video\\Kennard\\GPS_08_Kornblum1500SRTSelf\\20231014\\Top\\Clips\\Kennard_20231014_HoldTrial017_TopView.avi and data.\n",
      "Loading  D:\\YuLab\\Work\\GPS\\Video\\Kennard\\GPS_08_Kornblum1500SRTSelf\\20231014\\Top\\Clips\\Kennard_20231014_HoldTrial018_TopView.avi and data.\n",
      "Loading  D:\\YuLab\\Work\\GPS\\Video\\Kennard\\GPS_08_Kornblum1500SRTSelf\\20231014\\Top\\Clips\\Kennard_20231014_HoldTrial019_TopView.avi and data.\n",
      "Loading  D:\\YuLab\\Work\\GPS\\Video\\Kennard\\GPS_08_Kornblum1500SRTSelf\\20231014\\Top\\Clips\\Kennard_20231014_HoldTrial020_TopView.avi and data.\n",
      "Loading  D:\\YuLab\\Work\\GPS\\Video\\Kennard\\GPS_08_Kornblum1500SRTSelf\\20231014\\Top\\Clips\\Kennard_20231014_HoldTrial021_TopView.avi and data.\n",
      "Loading  D:\\YuLab\\Work\\GPS\\Video\\Kennard\\GPS_08_Kornblum1500SRTSelf\\20231014\\Top\\Clips\\Kennard_20231014_HoldTrial022_TopView.avi and data.\n",
      "Loading  D:\\YuLab\\Work\\GPS\\Video\\Kennard\\GPS_08_Kornblum1500SRTSelf\\20231014\\Top\\Clips\\Kennard_20231014_HoldTrial023_TopView.avi and data.\n",
      "Loading  D:\\YuLab\\Work\\GPS\\Video\\Kennard\\GPS_08_Kornblum1500SRTSelf\\20231014\\Top\\Clips\\Kennard_20231014_HoldTrial024_TopView.avi and data.\n",
      "Loading  D:\\YuLab\\Work\\GPS\\Video\\Kennard\\GPS_08_Kornblum1500SRTSelf\\20231014\\Top\\Clips\\Kennard_20231014_HoldTrial025_TopView.avi and data.\n",
      "Loading  D:\\YuLab\\Work\\GPS\\Video\\Kennard\\GPS_08_Kornblum1500SRTSelf\\20231014\\Top\\Clips\\Kennard_20231014_HoldTrial026_TopView.avi and data.\n",
      "Loading  D:\\YuLab\\Work\\GPS\\Video\\Kennard\\GPS_08_Kornblum1500SRTSelf\\20231014\\Top\\Clips\\Kennard_20231014_HoldTrial027_TopView.avi and data.\n",
      "Loading  D:\\YuLab\\Work\\GPS\\Video\\Kennard\\GPS_08_Kornblum1500SRTSelf\\20231014\\Top\\Clips\\Kennard_20231014_HoldTrial028_TopView.avi and data.\n",
      "Loading  D:\\YuLab\\Work\\GPS\\Video\\Kennard\\GPS_08_Kornblum1500SRTSelf\\20231014\\Top\\Clips\\Kennard_20231014_HoldTrial029_TopView.avi and data.\n",
      "Loading  D:\\YuLab\\Work\\GPS\\Video\\Kennard\\GPS_08_Kornblum1500SRTSelf\\20231014\\Top\\Clips\\Kennard_20231014_HoldTrial030_TopView.avi and data.\n",
      "Loading  D:\\YuLab\\Work\\GPS\\Video\\Kennard\\GPS_08_Kornblum1500SRTSelf\\20231014\\Top\\Clips\\Kennard_20231014_HoldTrial031_TopView.avi and data.\n",
      "Loading  D:\\YuLab\\Work\\GPS\\Video\\Kennard\\GPS_08_Kornblum1500SRTSelf\\20231014\\Top\\Clips\\Kennard_20231014_HoldTrial032_TopView.avi and data.\n",
      "Loading  D:\\YuLab\\Work\\GPS\\Video\\Kennard\\GPS_08_Kornblum1500SRTSelf\\20231014\\Top\\Clips\\Kennard_20231014_HoldTrial033_TopView.avi and data.\n",
      "Loading  D:\\YuLab\\Work\\GPS\\Video\\Kennard\\GPS_08_Kornblum1500SRTSelf\\20231014\\Top\\Clips\\Kennard_20231014_HoldTrial034_TopView.avi and data.\n",
      "Loading  D:\\YuLab\\Work\\GPS\\Video\\Kennard\\GPS_08_Kornblum1500SRTSelf\\20231014\\Top\\Clips\\Kennard_20231014_HoldTrial035_TopView.avi and data.\n",
      "Loading  D:\\YuLab\\Work\\GPS\\Video\\Kennard\\GPS_08_Kornblum1500SRTSelf\\20231014\\Top\\Clips\\Kennard_20231014_HoldTrial036_TopView.avi and data.\n",
      "Loading  D:\\YuLab\\Work\\GPS\\Video\\Kennard\\GPS_08_Kornblum1500SRTSelf\\20231014\\Top\\Clips\\Kennard_20231014_HoldTrial037_TopView.avi and data.\n",
      "Loading  D:\\YuLab\\Work\\GPS\\Video\\Kennard\\GPS_08_Kornblum1500SRTSelf\\20231014\\Top\\Clips\\Kennard_20231014_HoldTrial038_TopView.avi and data.\n",
      "Loading  D:\\YuLab\\Work\\GPS\\Video\\Kennard\\GPS_08_Kornblum1500SRTSelf\\20231014\\Top\\Clips\\Kennard_20231014_HoldTrial039_TopView.avi and data.\n",
      "Loading  D:\\YuLab\\Work\\GPS\\Video\\Kennard\\GPS_08_Kornblum1500SRTSelf\\20231014\\Top\\Clips\\Kennard_20231014_HoldTrial040_TopView.avi and data.\n",
      "Loading  D:\\YuLab\\Work\\GPS\\Video\\Kennard\\GPS_08_Kornblum1500SRTSelf\\20231014\\Top\\Clips\\Kennard_20231014_HoldTrial041_TopView.avi and data.\n",
      "Loading  D:\\YuLab\\Work\\GPS\\Video\\Kennard\\GPS_08_Kornblum1500SRTSelf\\20231014\\Top\\Clips\\Kennard_20231014_HoldTrial042_TopView.avi and data.\n",
      "Loading  D:\\YuLab\\Work\\GPS\\Video\\Kennard\\GPS_08_Kornblum1500SRTSelf\\20231014\\Top\\Clips\\Kennard_20231014_HoldTrial043_TopView.avi and data.\n",
      "Loading  D:\\YuLab\\Work\\GPS\\Video\\Kennard\\GPS_08_Kornblum1500SRTSelf\\20231014\\Top\\Clips\\Kennard_20231014_HoldTrial044_TopView.avi and data.\n",
      "Loading  D:\\YuLab\\Work\\GPS\\Video\\Kennard\\GPS_08_Kornblum1500SRTSelf\\20231014\\Top\\Clips\\Kennard_20231014_HoldTrial045_TopView.avi and data.\n",
      "Loading  D:\\YuLab\\Work\\GPS\\Video\\Kennard\\GPS_08_Kornblum1500SRTSelf\\20231014\\Top\\Clips\\Kennard_20231014_HoldTrial046_TopView.avi and data.\n",
      "Loading  D:\\YuLab\\Work\\GPS\\Video\\Kennard\\GPS_08_Kornblum1500SRTSelf\\20231014\\Top\\Clips\\Kennard_20231014_HoldTrial047_TopView.avi and data.\n",
      "Loading  D:\\YuLab\\Work\\GPS\\Video\\Kennard\\GPS_08_Kornblum1500SRTSelf\\20231014\\Top\\Clips\\Kennard_20231014_HoldTrial048_TopView.avi and data.\n",
      "Loading  D:\\YuLab\\Work\\GPS\\Video\\Kennard\\GPS_08_Kornblum1500SRTSelf\\20231014\\Top\\Clips\\Kennard_20231014_HoldTrial049_TopView.avi and data.\n",
      "Loading  D:\\YuLab\\Work\\GPS\\Video\\Kennard\\GPS_08_Kornblum1500SRTSelf\\20231014\\Top\\Clips\\Kennard_20231014_HoldTrial050_TopView.avi and data.\n",
      "Loading  D:\\YuLab\\Work\\GPS\\Video\\Kennard\\GPS_08_Kornblum1500SRTSelf\\20231014\\Top\\Clips\\Kennard_20231014_HoldTrial051_TopView.avi and data.\n",
      "Loading  D:\\YuLab\\Work\\GPS\\Video\\Kennard\\GPS_08_Kornblum1500SRTSelf\\20231014\\Top\\Clips\\Kennard_20231014_HoldTrial052_TopView.avi and data.\n",
      "Loading  D:\\YuLab\\Work\\GPS\\Video\\Kennard\\GPS_08_Kornblum1500SRTSelf\\20231014\\Top\\Clips\\Kennard_20231014_HoldTrial053_TopView.avi and data.\n",
      "Loading  D:\\YuLab\\Work\\GPS\\Video\\Kennard\\GPS_08_Kornblum1500SRTSelf\\20231014\\Top\\Clips\\Kennard_20231014_HoldTrial054_TopView.avi and data.\n",
      "Loading  D:\\YuLab\\Work\\GPS\\Video\\Kennard\\GPS_08_Kornblum1500SRTSelf\\20231014\\Top\\Clips\\Kennard_20231014_HoldTrial055_TopView.avi and data.\n",
      "Loading  D:\\YuLab\\Work\\GPS\\Video\\Kennard\\GPS_08_Kornblum1500SRTSelf\\20231014\\Top\\Clips\\Kennard_20231014_HoldTrial056_TopView.avi and data.\n",
      "Loading  D:\\YuLab\\Work\\GPS\\Video\\Kennard\\GPS_08_Kornblum1500SRTSelf\\20231014\\Top\\Clips\\Kennard_20231014_HoldTrial057_TopView.avi and data.\n",
      "Loading  D:\\YuLab\\Work\\GPS\\Video\\Kennard\\GPS_08_Kornblum1500SRTSelf\\20231014\\Top\\Clips\\Kennard_20231014_HoldTrial058_TopView.avi and data.\n",
      "Loading  D:\\YuLab\\Work\\GPS\\Video\\Kennard\\GPS_08_Kornblum1500SRTSelf\\20231014\\Top\\Clips\\Kennard_20231014_HoldTrial059_TopView.avi and data.\n",
      "Loading  D:\\YuLab\\Work\\GPS\\Video\\Kennard\\GPS_08_Kornblum1500SRTSelf\\20231014\\Top\\Clips\\Kennard_20231014_HoldTrial060_TopView.avi and data.\n",
      "Loading  D:\\YuLab\\Work\\GPS\\Video\\Kennard\\GPS_08_Kornblum1500SRTSelf\\20231014\\Top\\Clips\\Kennard_20231014_HoldTrial061_TopView.avi and data.\n",
      "Loading  D:\\YuLab\\Work\\GPS\\Video\\Kennard\\GPS_08_Kornblum1500SRTSelf\\20231014\\Top\\Clips\\Kennard_20231014_HoldTrial062_TopView.avi and data.\n",
      "Loading  D:\\YuLab\\Work\\GPS\\Video\\Kennard\\GPS_08_Kornblum1500SRTSelf\\20231014\\Top\\Clips\\Kennard_20231014_HoldTrial063_TopView.avi and data.\n",
      "Loading  D:\\YuLab\\Work\\GPS\\Video\\Kennard\\GPS_08_Kornblum1500SRTSelf\\20231014\\Top\\Clips\\Kennard_20231014_HoldTrial064_TopView.avi and data.\n",
      "Loading  D:\\YuLab\\Work\\GPS\\Video\\Kennard\\GPS_08_Kornblum1500SRTSelf\\20231014\\Top\\Clips\\Kennard_20231014_HoldTrial065_TopView.avi and data.\n",
      "Loading  D:\\YuLab\\Work\\GPS\\Video\\Kennard\\GPS_08_Kornblum1500SRTSelf\\20231014\\Top\\Clips\\Kennard_20231014_HoldTrial066_TopView.avi and data.\n",
      "Loading  D:\\YuLab\\Work\\GPS\\Video\\Kennard\\GPS_08_Kornblum1500SRTSelf\\20231014\\Top\\Clips\\Kennard_20231014_HoldTrial067_TopView.avi and data.\n",
      "Loading  D:\\YuLab\\Work\\GPS\\Video\\Kennard\\GPS_08_Kornblum1500SRTSelf\\20231014\\Top\\Clips\\Kennard_20231014_HoldTrial068_TopView.avi and data.\n",
      "Loading  D:\\YuLab\\Work\\GPS\\Video\\Kennard\\GPS_08_Kornblum1500SRTSelf\\20231014\\Top\\Clips\\Kennard_20231014_HoldTrial069_TopView.avi and data.\n",
      "Loading  D:\\YuLab\\Work\\GPS\\Video\\Kennard\\GPS_08_Kornblum1500SRTSelf\\20231014\\Top\\Clips\\Kennard_20231014_HoldTrial070_TopView.avi and data.\n",
      "Loading  D:\\YuLab\\Work\\GPS\\Video\\Kennard\\GPS_08_Kornblum1500SRTSelf\\20231014\\Top\\Clips\\Kennard_20231014_HoldTrial071_TopView.avi and data.\n",
      "Loading  D:\\YuLab\\Work\\GPS\\Video\\Kennard\\GPS_08_Kornblum1500SRTSelf\\20231014\\Top\\Clips\\Kennard_20231014_HoldTrial072_TopView.avi and data.\n",
      "Loading  D:\\YuLab\\Work\\GPS\\Video\\Kennard\\GPS_08_Kornblum1500SRTSelf\\20231014\\Top\\Clips\\Kennard_20231014_HoldTrial073_TopView.avi and data.\n",
      "Loading  D:\\YuLab\\Work\\GPS\\Video\\Kennard\\GPS_08_Kornblum1500SRTSelf\\20231014\\Top\\Clips\\Kennard_20231014_HoldTrial074_TopView.avi and data.\n",
      "Loading  D:\\YuLab\\Work\\GPS\\Video\\Kennard\\GPS_08_Kornblum1500SRTSelf\\20231014\\Top\\Clips\\Kennard_20231014_HoldTrial075_TopView.avi and data.\n",
      "Loading  D:\\YuLab\\Work\\GPS\\Video\\Kennard\\GPS_08_Kornblum1500SRTSelf\\20231014\\Top\\Clips\\Kennard_20231014_HoldTrial076_TopView.avi and data.\n",
      "Loading  D:\\YuLab\\Work\\GPS\\Video\\Kennard\\GPS_08_Kornblum1500SRTSelf\\20231014\\Top\\Clips\\Kennard_20231014_HoldTrial077_TopView.avi and data.\n",
      "Loading  D:\\YuLab\\Work\\GPS\\Video\\Kennard\\GPS_08_Kornblum1500SRTSelf\\20231014\\Top\\Clips\\Kennard_20231014_HoldTrial078_TopView.avi and data.\n",
      "Loading  D:\\YuLab\\Work\\GPS\\Video\\Kennard\\GPS_08_Kornblum1500SRTSelf\\20231014\\Top\\Clips\\Kennard_20231014_HoldTrial079_TopView.avi and data.\n",
      "Loading  D:\\YuLab\\Work\\GPS\\Video\\Kennard\\GPS_08_Kornblum1500SRTSelf\\20231014\\Top\\Clips\\Kennard_20231014_HoldTrial080_TopView.avi and data.\n",
      "Loading  D:\\YuLab\\Work\\GPS\\Video\\Kennard\\GPS_08_Kornblum1500SRTSelf\\20231014\\Top\\Clips\\Kennard_20231014_HoldTrial081_TopView.avi and data.\n",
      "Loading  D:\\YuLab\\Work\\GPS\\Video\\Kennard\\GPS_08_Kornblum1500SRTSelf\\20231014\\Top\\Clips\\Kennard_20231014_HoldTrial082_TopView.avi and data.\n",
      "Loading  D:\\YuLab\\Work\\GPS\\Video\\Kennard\\GPS_08_Kornblum1500SRTSelf\\20231014\\Top\\Clips\\Kennard_20231014_HoldTrial083_TopView.avi and data.\n",
      "Loading  D:\\YuLab\\Work\\GPS\\Video\\Kennard\\GPS_08_Kornblum1500SRTSelf\\20231014\\Top\\Clips\\Kennard_20231014_HoldTrial084_TopView.avi and data.\n",
      "Loading  D:\\YuLab\\Work\\GPS\\Video\\Kennard\\GPS_08_Kornblum1500SRTSelf\\20231014\\Top\\Clips\\Kennard_20231014_HoldTrial085_TopView.avi and data.\n",
      "Loading  D:\\YuLab\\Work\\GPS\\Video\\Kennard\\GPS_08_Kornblum1500SRTSelf\\20231014\\Top\\Clips\\Kennard_20231014_HoldTrial086_TopView.avi and data.\n",
      "Loading  D:\\YuLab\\Work\\GPS\\Video\\Kennard\\GPS_08_Kornblum1500SRTSelf\\20231014\\Top\\Clips\\Kennard_20231014_HoldTrial087_TopView.avi and data.\n",
      "Loading  D:\\YuLab\\Work\\GPS\\Video\\Kennard\\GPS_08_Kornblum1500SRTSelf\\20231014\\Top\\Clips\\Kennard_20231014_HoldTrial088_TopView.avi and data.\n",
      "Loading  D:\\YuLab\\Work\\GPS\\Video\\Kennard\\GPS_08_Kornblum1500SRTSelf\\20231014\\Top\\Clips\\Kennard_20231014_HoldTrial089_TopView.avi and data.\n",
      "Loading  D:\\YuLab\\Work\\GPS\\Video\\Kennard\\GPS_08_Kornblum1500SRTSelf\\20231014\\Top\\Clips\\Kennard_20231014_HoldTrial090_TopView.avi and data.\n",
      "Loading  D:\\YuLab\\Work\\GPS\\Video\\Kennard\\GPS_08_Kornblum1500SRTSelf\\20231014\\Top\\Clips\\Kennard_20231014_HoldTrial091_TopView.avi and data.\n",
      "Loading  D:\\YuLab\\Work\\GPS\\Video\\Kennard\\GPS_08_Kornblum1500SRTSelf\\20231014\\Top\\Clips\\Kennard_20231014_HoldTrial092_TopView.avi and data.\n",
      "Loading  D:\\YuLab\\Work\\GPS\\Video\\Kennard\\GPS_08_Kornblum1500SRTSelf\\20231014\\Top\\Clips\\Kennard_20231014_HoldTrial093_TopView.avi and data.\n",
      "Loading  D:\\YuLab\\Work\\GPS\\Video\\Kennard\\GPS_08_Kornblum1500SRTSelf\\20231014\\Top\\Clips\\Kennard_20231014_HoldTrial094_TopView.avi and data.\n",
      "Loading  D:\\YuLab\\Work\\GPS\\Video\\Kennard\\GPS_08_Kornblum1500SRTSelf\\20231014\\Top\\Clips\\Kennard_20231014_HoldTrial095_TopView.avi and data.\n",
      "Loading  D:\\YuLab\\Work\\GPS\\Video\\Kennard\\GPS_08_Kornblum1500SRTSelf\\20231014\\Top\\Clips\\Kennard_20231014_HoldTrial096_TopView.avi and data.\n",
      "Loading  D:\\YuLab\\Work\\GPS\\Video\\Kennard\\GPS_08_Kornblum1500SRTSelf\\20231014\\Top\\Clips\\Kennard_20231014_HoldTrial097_TopView.avi and data.\n",
      "Loading  D:\\YuLab\\Work\\GPS\\Video\\Kennard\\GPS_08_Kornblum1500SRTSelf\\20231014\\Top\\Clips\\Kennard_20231014_HoldTrial098_TopView.avi and data.\n",
      "Loading  D:\\YuLab\\Work\\GPS\\Video\\Kennard\\GPS_08_Kornblum1500SRTSelf\\20231014\\Top\\Clips\\Kennard_20231014_HoldTrial099_TopView.avi and data.\n",
      "Loading  D:\\YuLab\\Work\\GPS\\Video\\Kennard\\GPS_08_Kornblum1500SRTSelf\\20231014\\Top\\Clips\\Kennard_20231014_HoldTrial100_TopView.avi and data.\n",
      "Loading  D:\\YuLab\\Work\\GPS\\Video\\Kennard\\GPS_08_Kornblum1500SRTSelf\\20231014\\Top\\Clips\\Kennard_20231014_HoldTrial101_TopView.avi and data.\n",
      "Loading  D:\\YuLab\\Work\\GPS\\Video\\Kennard\\GPS_08_Kornblum1500SRTSelf\\20231014\\Top\\Clips\\Kennard_20231014_HoldTrial102_TopView.avi and data.\n",
      "Loading  D:\\YuLab\\Work\\GPS\\Video\\Kennard\\GPS_08_Kornblum1500SRTSelf\\20231014\\Top\\Clips\\Kennard_20231014_HoldTrial103_TopView.avi and data.\n",
      "Loading  D:\\YuLab\\Work\\GPS\\Video\\Kennard\\GPS_08_Kornblum1500SRTSelf\\20231014\\Top\\Clips\\Kennard_20231014_HoldTrial104_TopView.avi and data.\n",
      "Loading  D:\\YuLab\\Work\\GPS\\Video\\Kennard\\GPS_08_Kornblum1500SRTSelf\\20231014\\Top\\Clips\\Kennard_20231014_HoldTrial105_TopView.avi and data.\n",
      "Loading  D:\\YuLab\\Work\\GPS\\Video\\Kennard\\GPS_08_Kornblum1500SRTSelf\\20231014\\Top\\Clips\\Kennard_20231014_HoldTrial106_TopView.avi and data.\n",
      "Loading  D:\\YuLab\\Work\\GPS\\Video\\Kennard\\GPS_08_Kornblum1500SRTSelf\\20231014\\Top\\Clips\\Kennard_20231014_HoldTrial107_TopView.avi and data.\n",
      "Loading  D:\\YuLab\\Work\\GPS\\Video\\Kennard\\GPS_08_Kornblum1500SRTSelf\\20231014\\Top\\Clips\\Kennard_20231014_HoldTrial108_TopView.avi and data.\n",
      "Loading  D:\\YuLab\\Work\\GPS\\Video\\Kennard\\GPS_08_Kornblum1500SRTSelf\\20231014\\Top\\Clips\\Kennard_20231014_HoldTrial109_TopView.avi and data.\n",
      "Loading  D:\\YuLab\\Work\\GPS\\Video\\Kennard\\GPS_08_Kornblum1500SRTSelf\\20231014\\Top\\Clips\\Kennard_20231014_HoldTrial110_TopView.avi and data.\n",
      "Loading  D:\\YuLab\\Work\\GPS\\Video\\Kennard\\GPS_08_Kornblum1500SRTSelf\\20231014\\Top\\Clips\\Kennard_20231014_HoldTrial111_TopView.avi and data.\n",
      "Loading  D:\\YuLab\\Work\\GPS\\Video\\Kennard\\GPS_08_Kornblum1500SRTSelf\\20231014\\Top\\Clips\\Kennard_20231014_HoldTrial112_TopView.avi and data.\n",
      "Loading  D:\\YuLab\\Work\\GPS\\Video\\Kennard\\GPS_08_Kornblum1500SRTSelf\\20231014\\Top\\Clips\\Kennard_20231014_HoldTrial113_TopView.avi and data.\n",
      "Plots created! Please check the directory \"plot-poses\" within the video directory\n"
     ]
    }
   ],
   "source": [
    "deeplabcut.plot_trajectories(config=config_path, videos=video_files, videotype='avi', displayedbodyparts=['ear_base_left', 'ear_base_right', 'body_1', 'port_left', 'port_right'])"
   ]
  }
 ],
 "metadata": {
  "kernelspec": {
   "display_name": "DEEPLABCUT",
   "language": "python",
   "name": "python3"
  },
  "language_info": {
   "codemirror_mode": {
    "name": "ipython",
    "version": 3
   },
   "file_extension": ".py",
   "mimetype": "text/x-python",
   "name": "python",
   "nbconvert_exporter": "python",
   "pygments_lexer": "ipython3",
   "version": "3.8.17"
  }
 },
 "nbformat": 4,
 "nbformat_minor": 2
}
