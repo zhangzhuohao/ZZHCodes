{
 "cells": [
  {
   "cell_type": "code",
   "execution_count": 1,
   "metadata": {},
   "outputs": [
    {
     "name": "stdout",
     "output_type": "stream",
     "text": [
      "Loading DLC 2.3.5...\n"
     ]
    }
   ],
   "source": [
    "import deeplabcut\n",
    "import tkinter as tk\n",
    "from tkinter import filedialog"
   ]
  },
  {
   "cell_type": "code",
   "execution_count": 2,
   "metadata": {},
   "outputs": [],
   "source": [
    "config_path = r\"D:\\DLC\\ChesterTopGPS-ZZH-2024-05-26\\config.yaml\""
   ]
  },
  {
   "cell_type": "markdown",
   "metadata": {},
   "source": [
    "### Add video files to be analyzed"
   ]
  },
  {
   "cell_type": "code",
   "execution_count": 3,
   "metadata": {},
   "outputs": [],
   "source": [
    "def select_files(initialdir=r\"D:\\YuLab\\Work\\GPS\\Video\", filetypes=[(\"avi file\", \"*.avi\"), (\"all\", \"*.*\")]):\n",
    "    root = tk.Tk()\n",
    "    root.withdraw\n",
    "    \n",
    "    files = filedialog.askopenfilenames(initialdir=initialdir, filetypes=filetypes)\n",
    "    files = list(files)\n",
    "    files.sort()\n",
    "    print(\"add {:d} video files\".format(len(files)))\n",
    "    root.destroy()\n",
    "\n",
    "    return files"
   ]
  },
  {
   "cell_type": "markdown",
   "metadata": {},
   "source": [
    "#### reset video list"
   ]
  },
  {
   "cell_type": "code",
   "execution_count": 4,
   "metadata": {},
   "outputs": [],
   "source": [
    "video_files = []"
   ]
  },
  {
   "cell_type": "markdown",
   "metadata": {},
   "source": [
    "#### add videos"
   ]
  },
  {
   "cell_type": "code",
   "execution_count": 6,
   "metadata": {},
   "outputs": [
    {
     "name": "stdout",
     "output_type": "stream",
     "text": [
      "add 369 video files\n",
      "now 708 video files\n"
     ]
    }
   ],
   "source": [
    "video_files_to_add = select_files(initialdir=r\"D:\\YuLab\\Work\\GPS\\Video\")\n",
    "\n",
    "video_files = video_files + list(set(video_files_to_add))\n",
    "video_files = list(set(video_files))\n",
    "video_files.sort()\n",
    "\n",
    "print(\"now {:d} video files\".format(len(video_files)))"
   ]
  },
  {
   "cell_type": "markdown",
   "metadata": {},
   "source": [
    "### Analyze videos"
   ]
  },
  {
   "cell_type": "code",
   "execution_count": 7,
   "metadata": {},
   "outputs": [
    {
     "name": "stdout",
     "output_type": "stream",
     "text": [
      "Using snapshot-1500000 for model D:\\DLC\\ChesterTopGPS-ZZH-2024-05-26\\dlc-models\\iteration-0\\ChesterTopGPSMay26-trainset95shuffle1\n"
     ]
    },
    {
     "name": "stderr",
     "output_type": "stream",
     "text": [
      "c:\\Users\\ZhuohaoZhang\\anaconda3\\envs\\DEEPLABCUT\\lib\\site-packages\\tensorflow\\python\\keras\\engine\\base_layer_v1.py:1694: UserWarning: `layer.apply` is deprecated and will be removed in a future version. Please use `layer.__call__` method instead.\n",
      "  warnings.warn('`layer.apply` is deprecated and '\n"
     ]
    },
    {
     "name": "stdout",
     "output_type": "stream",
     "text": [
      "Starting to analyze %  D:/YuLab/Work/GPS/Video/Chester/GPS_13_ThreeFPHoldSRTProbe/20240713/Top/Clips/Chester_20240713_HoldTrial018_TopView.avi\n",
      "Loading  D:/YuLab/Work/GPS/Video/Chester/GPS_13_ThreeFPHoldSRTProbe/20240713/Top/Clips/Chester_20240713_HoldTrial018_TopView.avi\n",
      "Duration of video [s]:  8.04 , recorded with  25.0 fps!\n",
      "Overall # of frames:  201  found with (before cropping) frame dimensions:  1280 1331\n",
      "Starting to extract posture\n",
      "Cropping based on the x1 = 0 x2 = 1280 y1 = 0 y2 = 1024. You can adjust the cropping coordinates in the config.yaml file.\n"
     ]
    },
    {
     "name": "stderr",
     "output_type": "stream",
     "text": [
      "100%|██████████| 201/201 [00:14<00:00, 13.75it/s]\n"
     ]
    },
    {
     "name": "stdout",
     "output_type": "stream",
     "text": [
      "Saving results in D:\\YuLab\\Work\\GPS\\Video\\Chester\\GPS_13_ThreeFPHoldSRTProbe\\20240713\\Top\\Clips...\n",
      "Saving csv poses!\n",
      "Starting to analyze %  D:/YuLab/Work/GPS/Video/Chester/GPS_13_ThreeFPHoldSRTProbe/20240713/Top/Clips/Chester_20240713_HoldTrial019_TopView.avi\n",
      "Loading  D:/YuLab/Work/GPS/Video/Chester/GPS_13_ThreeFPHoldSRTProbe/20240713/Top/Clips/Chester_20240713_HoldTrial019_TopView.avi\n",
      "Duration of video [s]:  8.04 , recorded with  25.0 fps!\n",
      "Overall # of frames:  201  found with (before cropping) frame dimensions:  1280 1331\n",
      "Starting to extract posture\n",
      "Cropping based on the x1 = 0 x2 = 1280 y1 = 0 y2 = 1024. You can adjust the cropping coordinates in the config.yaml file.\n"
     ]
    },
    {
     "name": "stderr",
     "output_type": "stream",
     "text": [
      "100%|██████████| 201/201 [00:09<00:00, 22.31it/s]\n"
     ]
    },
    {
     "name": "stdout",
     "output_type": "stream",
     "text": [
      "Saving results in D:\\YuLab\\Work\\GPS\\Video\\Chester\\GPS_13_ThreeFPHoldSRTProbe\\20240713\\Top\\Clips...\n",
      "Saving csv poses!\n",
      "Starting to analyze %  D:/YuLab/Work/GPS/Video/Chester/GPS_13_ThreeFPHoldSRTProbe/20240713/Top/Clips/Chester_20240713_HoldTrial020_TopView.avi\n",
      "Loading  D:/YuLab/Work/GPS/Video/Chester/GPS_13_ThreeFPHoldSRTProbe/20240713/Top/Clips/Chester_20240713_HoldTrial020_TopView.avi\n",
      "Duration of video [s]:  8.04 , recorded with  25.0 fps!\n",
      "Overall # of frames:  201  found with (before cropping) frame dimensions:  1280 1331\n",
      "Starting to extract posture\n",
      "Cropping based on the x1 = 0 x2 = 1280 y1 = 0 y2 = 1024. You can adjust the cropping coordinates in the config.yaml file.\n"
     ]
    },
    {
     "name": "stderr",
     "output_type": "stream",
     "text": [
      "100%|██████████| 201/201 [00:09<00:00, 22.23it/s]\n"
     ]
    },
    {
     "name": "stdout",
     "output_type": "stream",
     "text": [
      "Saving results in D:\\YuLab\\Work\\GPS\\Video\\Chester\\GPS_13_ThreeFPHoldSRTProbe\\20240713\\Top\\Clips...\n",
      "Saving csv poses!\n",
      "Starting to analyze %  D:/YuLab/Work/GPS/Video/Chester/GPS_13_ThreeFPHoldSRTProbe/20240713/Top/Clips/Chester_20240713_HoldTrial021_TopView.avi\n",
      "Loading  D:/YuLab/Work/GPS/Video/Chester/GPS_13_ThreeFPHoldSRTProbe/20240713/Top/Clips/Chester_20240713_HoldTrial021_TopView.avi\n",
      "Duration of video [s]:  8.04 , recorded with  25.0 fps!\n",
      "Overall # of frames:  201  found with (before cropping) frame dimensions:  1280 1331\n",
      "Starting to extract posture\n",
      "Cropping based on the x1 = 0 x2 = 1280 y1 = 0 y2 = 1024. You can adjust the cropping coordinates in the config.yaml file.\n"
     ]
    },
    {
     "name": "stderr",
     "output_type": "stream",
     "text": [
      "100%|██████████| 201/201 [00:08<00:00, 22.52it/s]\n"
     ]
    },
    {
     "name": "stdout",
     "output_type": "stream",
     "text": [
      "Saving results in D:\\YuLab\\Work\\GPS\\Video\\Chester\\GPS_13_ThreeFPHoldSRTProbe\\20240713\\Top\\Clips...\n",
      "Saving csv poses!\n",
      "Starting to analyze %  D:/YuLab/Work/GPS/Video/Chester/GPS_13_ThreeFPHoldSRTProbe/20240713/Top/Clips/Chester_20240713_HoldTrial022_TopView.avi\n",
      "Loading  D:/YuLab/Work/GPS/Video/Chester/GPS_13_ThreeFPHoldSRTProbe/20240713/Top/Clips/Chester_20240713_HoldTrial022_TopView.avi\n",
      "Duration of video [s]:  8.04 , recorded with  25.0 fps!\n",
      "Overall # of frames:  201  found with (before cropping) frame dimensions:  1280 1331\n",
      "Starting to extract posture\n",
      "Cropping based on the x1 = 0 x2 = 1280 y1 = 0 y2 = 1024. You can adjust the cropping coordinates in the config.yaml file.\n"
     ]
    },
    {
     "name": "stderr",
     "output_type": "stream",
     "text": [
      "100%|██████████| 201/201 [00:08<00:00, 22.90it/s]\n"
     ]
    },
    {
     "name": "stdout",
     "output_type": "stream",
     "text": [
      "Saving results in D:\\YuLab\\Work\\GPS\\Video\\Chester\\GPS_13_ThreeFPHoldSRTProbe\\20240713\\Top\\Clips...\n",
      "Saving csv poses!\n",
      "Starting to analyze %  D:/YuLab/Work/GPS/Video/Chester/GPS_13_ThreeFPHoldSRTProbe/20240713/Top/Clips/Chester_20240713_HoldTrial023_TopView.avi\n",
      "Loading  D:/YuLab/Work/GPS/Video/Chester/GPS_13_ThreeFPHoldSRTProbe/20240713/Top/Clips/Chester_20240713_HoldTrial023_TopView.avi\n",
      "Duration of video [s]:  8.04 , recorded with  25.0 fps!\n",
      "Overall # of frames:  201  found with (before cropping) frame dimensions:  1280 1331\n",
      "Starting to extract posture\n",
      "Cropping based on the x1 = 0 x2 = 1280 y1 = 0 y2 = 1024. You can adjust the cropping coordinates in the config.yaml file.\n"
     ]
    },
    {
     "name": "stderr",
     "output_type": "stream",
     "text": [
      "100%|██████████| 201/201 [00:08<00:00, 22.93it/s]\n"
     ]
    },
    {
     "name": "stdout",
     "output_type": "stream",
     "text": [
      "Saving results in D:\\YuLab\\Work\\GPS\\Video\\Chester\\GPS_13_ThreeFPHoldSRTProbe\\20240713\\Top\\Clips...\n",
      "Saving csv poses!\n",
      "Starting to analyze %  D:/YuLab/Work/GPS/Video/Chester/GPS_13_ThreeFPHoldSRTProbe/20240713/Top/Clips/Chester_20240713_HoldTrial024_TopView.avi\n",
      "Loading  D:/YuLab/Work/GPS/Video/Chester/GPS_13_ThreeFPHoldSRTProbe/20240713/Top/Clips/Chester_20240713_HoldTrial024_TopView.avi\n",
      "Duration of video [s]:  8.0 , recorded with  25.0 fps!\n",
      "Overall # of frames:  200  found with (before cropping) frame dimensions:  1280 1331\n",
      "Starting to extract posture\n",
      "Cropping based on the x1 = 0 x2 = 1280 y1 = 0 y2 = 1024. You can adjust the cropping coordinates in the config.yaml file.\n"
     ]
    },
    {
     "name": "stderr",
     "output_type": "stream",
     "text": [
      "100%|██████████| 200/200 [00:08<00:00, 23.57it/s]\n"
     ]
    },
    {
     "name": "stdout",
     "output_type": "stream",
     "text": [
      "Saving results in D:\\YuLab\\Work\\GPS\\Video\\Chester\\GPS_13_ThreeFPHoldSRTProbe\\20240713\\Top\\Clips...\n",
      "Saving csv poses!\n",
      "Starting to analyze %  D:/YuLab/Work/GPS/Video/Chester/GPS_13_ThreeFPHoldSRTProbe/20240713/Top/Clips/Chester_20240713_HoldTrial025_TopView.avi\n",
      "Loading  D:/YuLab/Work/GPS/Video/Chester/GPS_13_ThreeFPHoldSRTProbe/20240713/Top/Clips/Chester_20240713_HoldTrial025_TopView.avi\n",
      "Duration of video [s]:  8.04 , recorded with  25.0 fps!\n",
      "Overall # of frames:  201  found with (before cropping) frame dimensions:  1280 1331\n",
      "Starting to extract posture\n",
      "Cropping based on the x1 = 0 x2 = 1280 y1 = 0 y2 = 1024. You can adjust the cropping coordinates in the config.yaml file.\n"
     ]
    },
    {
     "name": "stderr",
     "output_type": "stream",
     "text": [
      "100%|██████████| 201/201 [00:08<00:00, 22.92it/s]\n"
     ]
    },
    {
     "name": "stdout",
     "output_type": "stream",
     "text": [
      "Saving results in D:\\YuLab\\Work\\GPS\\Video\\Chester\\GPS_13_ThreeFPHoldSRTProbe\\20240713\\Top\\Clips...\n",
      "Saving csv poses!\n",
      "Starting to analyze %  D:/YuLab/Work/GPS/Video/Chester/GPS_13_ThreeFPHoldSRTProbe/20240713/Top/Clips/Chester_20240713_HoldTrial026_TopView.avi\n",
      "Loading  D:/YuLab/Work/GPS/Video/Chester/GPS_13_ThreeFPHoldSRTProbe/20240713/Top/Clips/Chester_20240713_HoldTrial026_TopView.avi\n",
      "Duration of video [s]:  8.04 , recorded with  25.0 fps!\n",
      "Overall # of frames:  201  found with (before cropping) frame dimensions:  1280 1331\n",
      "Starting to extract posture\n",
      "Cropping based on the x1 = 0 x2 = 1280 y1 = 0 y2 = 1024. You can adjust the cropping coordinates in the config.yaml file.\n"
     ]
    },
    {
     "name": "stderr",
     "output_type": "stream",
     "text": [
      "100%|██████████| 201/201 [00:08<00:00, 22.92it/s]\n"
     ]
    },
    {
     "name": "stdout",
     "output_type": "stream",
     "text": [
      "Saving results in D:\\YuLab\\Work\\GPS\\Video\\Chester\\GPS_13_ThreeFPHoldSRTProbe\\20240713\\Top\\Clips...\n",
      "Saving csv poses!\n",
      "Starting to analyze %  D:/YuLab/Work/GPS/Video/Chester/GPS_13_ThreeFPHoldSRTProbe/20240713/Top/Clips/Chester_20240713_HoldTrial027_TopView.avi\n",
      "Loading  D:/YuLab/Work/GPS/Video/Chester/GPS_13_ThreeFPHoldSRTProbe/20240713/Top/Clips/Chester_20240713_HoldTrial027_TopView.avi\n",
      "Duration of video [s]:  8.04 , recorded with  25.0 fps!\n",
      "Overall # of frames:  201  found with (before cropping) frame dimensions:  1280 1331\n",
      "Starting to extract posture\n",
      "Cropping based on the x1 = 0 x2 = 1280 y1 = 0 y2 = 1024. You can adjust the cropping coordinates in the config.yaml file.\n"
     ]
    },
    {
     "name": "stderr",
     "output_type": "stream",
     "text": [
      "100%|██████████| 201/201 [00:08<00:00, 22.97it/s]\n"
     ]
    },
    {
     "name": "stdout",
     "output_type": "stream",
     "text": [
      "Saving results in D:\\YuLab\\Work\\GPS\\Video\\Chester\\GPS_13_ThreeFPHoldSRTProbe\\20240713\\Top\\Clips...\n",
      "Saving csv poses!\n",
      "Starting to analyze %  D:/YuLab/Work/GPS/Video/Chester/GPS_13_ThreeFPHoldSRTProbe/20240713/Top/Clips/Chester_20240713_HoldTrial028_TopView.avi\n",
      "Loading  D:/YuLab/Work/GPS/Video/Chester/GPS_13_ThreeFPHoldSRTProbe/20240713/Top/Clips/Chester_20240713_HoldTrial028_TopView.avi\n",
      "Duration of video [s]:  8.04 , recorded with  25.0 fps!\n",
      "Overall # of frames:  201  found with (before cropping) frame dimensions:  1280 1331\n",
      "Starting to extract posture\n",
      "Cropping based on the x1 = 0 x2 = 1280 y1 = 0 y2 = 1024. You can adjust the cropping coordinates in the config.yaml file.\n"
     ]
    },
    {
     "name": "stderr",
     "output_type": "stream",
     "text": [
      "100%|██████████| 201/201 [00:08<00:00, 22.84it/s]\n"
     ]
    },
    {
     "name": "stdout",
     "output_type": "stream",
     "text": [
      "Saving results in D:\\YuLab\\Work\\GPS\\Video\\Chester\\GPS_13_ThreeFPHoldSRTProbe\\20240713\\Top\\Clips...\n",
      "Saving csv poses!\n",
      "Starting to analyze %  D:/YuLab/Work/GPS/Video/Chester/GPS_13_ThreeFPHoldSRTProbe/20240713/Top/Clips/Chester_20240713_HoldTrial029_TopView.avi\n",
      "Loading  D:/YuLab/Work/GPS/Video/Chester/GPS_13_ThreeFPHoldSRTProbe/20240713/Top/Clips/Chester_20240713_HoldTrial029_TopView.avi\n",
      "Duration of video [s]:  8.0 , recorded with  25.0 fps!\n",
      "Overall # of frames:  200  found with (before cropping) frame dimensions:  1280 1331\n",
      "Starting to extract posture\n",
      "Cropping based on the x1 = 0 x2 = 1280 y1 = 0 y2 = 1024. You can adjust the cropping coordinates in the config.yaml file.\n"
     ]
    },
    {
     "name": "stderr",
     "output_type": "stream",
     "text": [
      "100%|██████████| 200/200 [00:08<00:00, 23.56it/s]\n"
     ]
    },
    {
     "name": "stdout",
     "output_type": "stream",
     "text": [
      "Saving results in D:\\YuLab\\Work\\GPS\\Video\\Chester\\GPS_13_ThreeFPHoldSRTProbe\\20240713\\Top\\Clips...\n",
      "Saving csv poses!\n",
      "Starting to analyze %  D:/YuLab/Work/GPS/Video/Chester/GPS_13_ThreeFPHoldSRTProbe/20240713/Top/Clips/Chester_20240713_HoldTrial030_TopView.avi\n",
      "Loading  D:/YuLab/Work/GPS/Video/Chester/GPS_13_ThreeFPHoldSRTProbe/20240713/Top/Clips/Chester_20240713_HoldTrial030_TopView.avi\n",
      "Duration of video [s]:  8.04 , recorded with  25.0 fps!\n",
      "Overall # of frames:  201  found with (before cropping) frame dimensions:  1280 1331\n",
      "Starting to extract posture\n",
      "Cropping based on the x1 = 0 x2 = 1280 y1 = 0 y2 = 1024. You can adjust the cropping coordinates in the config.yaml file.\n"
     ]
    },
    {
     "name": "stderr",
     "output_type": "stream",
     "text": [
      "100%|██████████| 201/201 [00:08<00:00, 22.95it/s]\n"
     ]
    },
    {
     "name": "stdout",
     "output_type": "stream",
     "text": [
      "Saving results in D:\\YuLab\\Work\\GPS\\Video\\Chester\\GPS_13_ThreeFPHoldSRTProbe\\20240713\\Top\\Clips...\n",
      "Saving csv poses!\n",
      "Starting to analyze %  D:/YuLab/Work/GPS/Video/Chester/GPS_13_ThreeFPHoldSRTProbe/20240713/Top/Clips/Chester_20240713_HoldTrial031_TopView.avi\n",
      "Loading  D:/YuLab/Work/GPS/Video/Chester/GPS_13_ThreeFPHoldSRTProbe/20240713/Top/Clips/Chester_20240713_HoldTrial031_TopView.avi\n",
      "Duration of video [s]:  8.0 , recorded with  25.0 fps!\n",
      "Overall # of frames:  200  found with (before cropping) frame dimensions:  1280 1331\n",
      "Starting to extract posture\n",
      "Cropping based on the x1 = 0 x2 = 1280 y1 = 0 y2 = 1024. You can adjust the cropping coordinates in the config.yaml file.\n"
     ]
    },
    {
     "name": "stderr",
     "output_type": "stream",
     "text": [
      "100%|██████████| 200/200 [00:08<00:00, 23.59it/s]\n"
     ]
    },
    {
     "name": "stdout",
     "output_type": "stream",
     "text": [
      "Saving results in D:\\YuLab\\Work\\GPS\\Video\\Chester\\GPS_13_ThreeFPHoldSRTProbe\\20240713\\Top\\Clips...\n",
      "Saving csv poses!\n",
      "Starting to analyze %  D:/YuLab/Work/GPS/Video/Chester/GPS_13_ThreeFPHoldSRTProbe/20240713/Top/Clips/Chester_20240713_HoldTrial032_TopView.avi\n",
      "Loading  D:/YuLab/Work/GPS/Video/Chester/GPS_13_ThreeFPHoldSRTProbe/20240713/Top/Clips/Chester_20240713_HoldTrial032_TopView.avi\n",
      "Duration of video [s]:  8.04 , recorded with  25.0 fps!\n",
      "Overall # of frames:  201  found with (before cropping) frame dimensions:  1280 1331\n",
      "Starting to extract posture\n",
      "Cropping based on the x1 = 0 x2 = 1280 y1 = 0 y2 = 1024. You can adjust the cropping coordinates in the config.yaml file.\n"
     ]
    },
    {
     "name": "stderr",
     "output_type": "stream",
     "text": [
      "100%|██████████| 201/201 [00:08<00:00, 22.97it/s]\n"
     ]
    },
    {
     "name": "stdout",
     "output_type": "stream",
     "text": [
      "Saving results in D:\\YuLab\\Work\\GPS\\Video\\Chester\\GPS_13_ThreeFPHoldSRTProbe\\20240713\\Top\\Clips...\n",
      "Saving csv poses!\n",
      "Starting to analyze %  D:/YuLab/Work/GPS/Video/Chester/GPS_13_ThreeFPHoldSRTProbe/20240713/Top/Clips/Chester_20240713_HoldTrial033_TopView.avi\n",
      "Loading  D:/YuLab/Work/GPS/Video/Chester/GPS_13_ThreeFPHoldSRTProbe/20240713/Top/Clips/Chester_20240713_HoldTrial033_TopView.avi\n",
      "Duration of video [s]:  8.04 , recorded with  25.0 fps!\n",
      "Overall # of frames:  201  found with (before cropping) frame dimensions:  1280 1331\n",
      "Starting to extract posture\n",
      "Cropping based on the x1 = 0 x2 = 1280 y1 = 0 y2 = 1024. You can adjust the cropping coordinates in the config.yaml file.\n"
     ]
    },
    {
     "name": "stderr",
     "output_type": "stream",
     "text": [
      "100%|██████████| 201/201 [00:08<00:00, 22.87it/s]\n"
     ]
    },
    {
     "name": "stdout",
     "output_type": "stream",
     "text": [
      "Saving results in D:\\YuLab\\Work\\GPS\\Video\\Chester\\GPS_13_ThreeFPHoldSRTProbe\\20240713\\Top\\Clips...\n",
      "Saving csv poses!\n",
      "Starting to analyze %  D:/YuLab/Work/GPS/Video/Chester/GPS_13_ThreeFPHoldSRTProbe/20240713/Top/Clips/Chester_20240713_HoldTrial034_TopView.avi\n",
      "Loading  D:/YuLab/Work/GPS/Video/Chester/GPS_13_ThreeFPHoldSRTProbe/20240713/Top/Clips/Chester_20240713_HoldTrial034_TopView.avi\n",
      "Duration of video [s]:  8.04 , recorded with  25.0 fps!\n",
      "Overall # of frames:  201  found with (before cropping) frame dimensions:  1280 1331\n",
      "Starting to extract posture\n",
      "Cropping based on the x1 = 0 x2 = 1280 y1 = 0 y2 = 1024. You can adjust the cropping coordinates in the config.yaml file.\n"
     ]
    },
    {
     "name": "stderr",
     "output_type": "stream",
     "text": [
      "100%|██████████| 201/201 [00:08<00:00, 22.91it/s]\n"
     ]
    },
    {
     "name": "stdout",
     "output_type": "stream",
     "text": [
      "Saving results in D:\\YuLab\\Work\\GPS\\Video\\Chester\\GPS_13_ThreeFPHoldSRTProbe\\20240713\\Top\\Clips...\n",
      "Saving csv poses!\n",
      "Starting to analyze %  D:/YuLab/Work/GPS/Video/Chester/GPS_13_ThreeFPHoldSRTProbe/20240713/Top/Clips/Chester_20240713_HoldTrial035_TopView.avi\n",
      "Loading  D:/YuLab/Work/GPS/Video/Chester/GPS_13_ThreeFPHoldSRTProbe/20240713/Top/Clips/Chester_20240713_HoldTrial035_TopView.avi\n",
      "Duration of video [s]:  8.04 , recorded with  25.0 fps!\n",
      "Overall # of frames:  201  found with (before cropping) frame dimensions:  1280 1331\n",
      "Starting to extract posture\n",
      "Cropping based on the x1 = 0 x2 = 1280 y1 = 0 y2 = 1024. You can adjust the cropping coordinates in the config.yaml file.\n"
     ]
    },
    {
     "name": "stderr",
     "output_type": "stream",
     "text": [
      "100%|██████████| 201/201 [00:08<00:00, 22.95it/s]\n"
     ]
    },
    {
     "name": "stdout",
     "output_type": "stream",
     "text": [
      "Saving results in D:\\YuLab\\Work\\GPS\\Video\\Chester\\GPS_13_ThreeFPHoldSRTProbe\\20240713\\Top\\Clips...\n",
      "Saving csv poses!\n",
      "Starting to analyze %  D:/YuLab/Work/GPS/Video/Chester/GPS_13_ThreeFPHoldSRTProbe/20240713/Top/Clips/Chester_20240713_HoldTrial036_TopView.avi\n",
      "Loading  D:/YuLab/Work/GPS/Video/Chester/GPS_13_ThreeFPHoldSRTProbe/20240713/Top/Clips/Chester_20240713_HoldTrial036_TopView.avi\n",
      "Duration of video [s]:  8.04 , recorded with  25.0 fps!\n",
      "Overall # of frames:  201  found with (before cropping) frame dimensions:  1280 1331\n",
      "Starting to extract posture\n",
      "Cropping based on the x1 = 0 x2 = 1280 y1 = 0 y2 = 1024. You can adjust the cropping coordinates in the config.yaml file.\n"
     ]
    },
    {
     "name": "stderr",
     "output_type": "stream",
     "text": [
      "100%|██████████| 201/201 [00:08<00:00, 22.99it/s]\n"
     ]
    },
    {
     "name": "stdout",
     "output_type": "stream",
     "text": [
      "Saving results in D:\\YuLab\\Work\\GPS\\Video\\Chester\\GPS_13_ThreeFPHoldSRTProbe\\20240713\\Top\\Clips...\n",
      "Saving csv poses!\n",
      "Starting to analyze %  D:/YuLab/Work/GPS/Video/Chester/GPS_13_ThreeFPHoldSRTProbe/20240713/Top/Clips/Chester_20240713_HoldTrial037_TopView.avi\n",
      "Loading  D:/YuLab/Work/GPS/Video/Chester/GPS_13_ThreeFPHoldSRTProbe/20240713/Top/Clips/Chester_20240713_HoldTrial037_TopView.avi\n",
      "Duration of video [s]:  8.04 , recorded with  25.0 fps!\n",
      "Overall # of frames:  201  found with (before cropping) frame dimensions:  1280 1331\n",
      "Starting to extract posture\n",
      "Cropping based on the x1 = 0 x2 = 1280 y1 = 0 y2 = 1024. You can adjust the cropping coordinates in the config.yaml file.\n"
     ]
    },
    {
     "name": "stderr",
     "output_type": "stream",
     "text": [
      "100%|██████████| 201/201 [00:08<00:00, 23.00it/s]\n"
     ]
    },
    {
     "name": "stdout",
     "output_type": "stream",
     "text": [
      "Saving results in D:\\YuLab\\Work\\GPS\\Video\\Chester\\GPS_13_ThreeFPHoldSRTProbe\\20240713\\Top\\Clips...\n",
      "Saving csv poses!\n",
      "Starting to analyze %  D:/YuLab/Work/GPS/Video/Chester/GPS_13_ThreeFPHoldSRTProbe/20240713/Top/Clips/Chester_20240713_HoldTrial038_TopView.avi\n",
      "Loading  D:/YuLab/Work/GPS/Video/Chester/GPS_13_ThreeFPHoldSRTProbe/20240713/Top/Clips/Chester_20240713_HoldTrial038_TopView.avi\n",
      "Duration of video [s]:  8.04 , recorded with  25.0 fps!\n",
      "Overall # of frames:  201  found with (before cropping) frame dimensions:  1280 1331\n",
      "Starting to extract posture\n",
      "Cropping based on the x1 = 0 x2 = 1280 y1 = 0 y2 = 1024. You can adjust the cropping coordinates in the config.yaml file.\n"
     ]
    },
    {
     "name": "stderr",
     "output_type": "stream",
     "text": [
      "100%|██████████| 201/201 [00:08<00:00, 22.96it/s]\n"
     ]
    },
    {
     "name": "stdout",
     "output_type": "stream",
     "text": [
      "Saving results in D:\\YuLab\\Work\\GPS\\Video\\Chester\\GPS_13_ThreeFPHoldSRTProbe\\20240713\\Top\\Clips...\n",
      "Saving csv poses!\n",
      "Starting to analyze %  D:/YuLab/Work/GPS/Video/Chester/GPS_13_ThreeFPHoldSRTProbe/20240713/Top/Clips/Chester_20240713_HoldTrial039_TopView.avi\n",
      "Loading  D:/YuLab/Work/GPS/Video/Chester/GPS_13_ThreeFPHoldSRTProbe/20240713/Top/Clips/Chester_20240713_HoldTrial039_TopView.avi\n",
      "Duration of video [s]:  8.04 , recorded with  25.0 fps!\n",
      "Overall # of frames:  201  found with (before cropping) frame dimensions:  1280 1331\n",
      "Starting to extract posture\n",
      "Cropping based on the x1 = 0 x2 = 1280 y1 = 0 y2 = 1024. You can adjust the cropping coordinates in the config.yaml file.\n"
     ]
    },
    {
     "name": "stderr",
     "output_type": "stream",
     "text": [
      "100%|██████████| 201/201 [00:08<00:00, 22.97it/s]\n"
     ]
    },
    {
     "name": "stdout",
     "output_type": "stream",
     "text": [
      "Saving results in D:\\YuLab\\Work\\GPS\\Video\\Chester\\GPS_13_ThreeFPHoldSRTProbe\\20240713\\Top\\Clips...\n",
      "Saving csv poses!\n",
      "Starting to analyze %  D:/YuLab/Work/GPS/Video/Chester/GPS_13_ThreeFPHoldSRTProbe/20240713/Top/Clips/Chester_20240713_HoldTrial040_TopView.avi\n",
      "Loading  D:/YuLab/Work/GPS/Video/Chester/GPS_13_ThreeFPHoldSRTProbe/20240713/Top/Clips/Chester_20240713_HoldTrial040_TopView.avi\n",
      "Duration of video [s]:  8.04 , recorded with  25.0 fps!\n",
      "Overall # of frames:  201  found with (before cropping) frame dimensions:  1280 1331\n",
      "Starting to extract posture\n",
      "Cropping based on the x1 = 0 x2 = 1280 y1 = 0 y2 = 1024. You can adjust the cropping coordinates in the config.yaml file.\n"
     ]
    },
    {
     "name": "stderr",
     "output_type": "stream",
     "text": [
      "100%|██████████| 201/201 [00:08<00:00, 22.97it/s]\n"
     ]
    },
    {
     "name": "stdout",
     "output_type": "stream",
     "text": [
      "Saving results in D:\\YuLab\\Work\\GPS\\Video\\Chester\\GPS_13_ThreeFPHoldSRTProbe\\20240713\\Top\\Clips...\n",
      "Saving csv poses!\n",
      "Starting to analyze %  D:/YuLab/Work/GPS/Video/Chester/GPS_13_ThreeFPHoldSRTProbe/20240713/Top/Clips/Chester_20240713_HoldTrial041_TopView.avi\n",
      "Loading  D:/YuLab/Work/GPS/Video/Chester/GPS_13_ThreeFPHoldSRTProbe/20240713/Top/Clips/Chester_20240713_HoldTrial041_TopView.avi\n",
      "Duration of video [s]:  8.0 , recorded with  25.0 fps!\n",
      "Overall # of frames:  200  found with (before cropping) frame dimensions:  1280 1331\n",
      "Starting to extract posture\n",
      "Cropping based on the x1 = 0 x2 = 1280 y1 = 0 y2 = 1024. You can adjust the cropping coordinates in the config.yaml file.\n"
     ]
    },
    {
     "name": "stderr",
     "output_type": "stream",
     "text": [
      "100%|██████████| 200/200 [00:08<00:00, 23.56it/s]\n"
     ]
    },
    {
     "name": "stdout",
     "output_type": "stream",
     "text": [
      "Saving results in D:\\YuLab\\Work\\GPS\\Video\\Chester\\GPS_13_ThreeFPHoldSRTProbe\\20240713\\Top\\Clips...\n",
      "Saving csv poses!\n",
      "Starting to analyze %  D:/YuLab/Work/GPS/Video/Chester/GPS_13_ThreeFPHoldSRTProbe/20240713/Top/Clips/Chester_20240713_HoldTrial042_TopView.avi\n",
      "Loading  D:/YuLab/Work/GPS/Video/Chester/GPS_13_ThreeFPHoldSRTProbe/20240713/Top/Clips/Chester_20240713_HoldTrial042_TopView.avi\n",
      "Duration of video [s]:  8.04 , recorded with  25.0 fps!\n",
      "Overall # of frames:  201  found with (before cropping) frame dimensions:  1280 1331\n",
      "Starting to extract posture\n",
      "Cropping based on the x1 = 0 x2 = 1280 y1 = 0 y2 = 1024. You can adjust the cropping coordinates in the config.yaml file.\n"
     ]
    },
    {
     "name": "stderr",
     "output_type": "stream",
     "text": [
      "100%|██████████| 201/201 [00:08<00:00, 22.96it/s]\n"
     ]
    },
    {
     "name": "stdout",
     "output_type": "stream",
     "text": [
      "Saving results in D:\\YuLab\\Work\\GPS\\Video\\Chester\\GPS_13_ThreeFPHoldSRTProbe\\20240713\\Top\\Clips...\n",
      "Saving csv poses!\n",
      "Starting to analyze %  D:/YuLab/Work/GPS/Video/Chester/GPS_13_ThreeFPHoldSRTProbe/20240713/Top/Clips/Chester_20240713_HoldTrial043_TopView.avi\n",
      "Loading  D:/YuLab/Work/GPS/Video/Chester/GPS_13_ThreeFPHoldSRTProbe/20240713/Top/Clips/Chester_20240713_HoldTrial043_TopView.avi\n",
      "Duration of video [s]:  8.04 , recorded with  25.0 fps!\n",
      "Overall # of frames:  201  found with (before cropping) frame dimensions:  1280 1331\n",
      "Starting to extract posture\n",
      "Cropping based on the x1 = 0 x2 = 1280 y1 = 0 y2 = 1024. You can adjust the cropping coordinates in the config.yaml file.\n"
     ]
    },
    {
     "name": "stderr",
     "output_type": "stream",
     "text": [
      "100%|██████████| 201/201 [00:08<00:00, 22.88it/s]\n"
     ]
    },
    {
     "name": "stdout",
     "output_type": "stream",
     "text": [
      "Saving results in D:\\YuLab\\Work\\GPS\\Video\\Chester\\GPS_13_ThreeFPHoldSRTProbe\\20240713\\Top\\Clips...\n",
      "Saving csv poses!\n",
      "Starting to analyze %  D:/YuLab/Work/GPS/Video/Chester/GPS_13_ThreeFPHoldSRTProbe/20240713/Top/Clips/Chester_20240713_HoldTrial044_TopView.avi\n",
      "Loading  D:/YuLab/Work/GPS/Video/Chester/GPS_13_ThreeFPHoldSRTProbe/20240713/Top/Clips/Chester_20240713_HoldTrial044_TopView.avi\n",
      "Duration of video [s]:  8.04 , recorded with  25.0 fps!\n",
      "Overall # of frames:  201  found with (before cropping) frame dimensions:  1280 1331\n",
      "Starting to extract posture\n",
      "Cropping based on the x1 = 0 x2 = 1280 y1 = 0 y2 = 1024. You can adjust the cropping coordinates in the config.yaml file.\n"
     ]
    },
    {
     "name": "stderr",
     "output_type": "stream",
     "text": [
      "100%|██████████| 201/201 [00:08<00:00, 22.92it/s]\n"
     ]
    },
    {
     "name": "stdout",
     "output_type": "stream",
     "text": [
      "Saving results in D:\\YuLab\\Work\\GPS\\Video\\Chester\\GPS_13_ThreeFPHoldSRTProbe\\20240713\\Top\\Clips...\n",
      "Saving csv poses!\n",
      "Starting to analyze %  D:/YuLab/Work/GPS/Video/Chester/GPS_13_ThreeFPHoldSRTProbe/20240713/Top/Clips/Chester_20240713_HoldTrial045_TopView.avi\n",
      "Loading  D:/YuLab/Work/GPS/Video/Chester/GPS_13_ThreeFPHoldSRTProbe/20240713/Top/Clips/Chester_20240713_HoldTrial045_TopView.avi\n",
      "Duration of video [s]:  8.04 , recorded with  25.0 fps!\n",
      "Overall # of frames:  201  found with (before cropping) frame dimensions:  1280 1331\n",
      "Starting to extract posture\n",
      "Cropping based on the x1 = 0 x2 = 1280 y1 = 0 y2 = 1024. You can adjust the cropping coordinates in the config.yaml file.\n"
     ]
    },
    {
     "name": "stderr",
     "output_type": "stream",
     "text": [
      "100%|██████████| 201/201 [00:08<00:00, 22.93it/s]\n"
     ]
    },
    {
     "name": "stdout",
     "output_type": "stream",
     "text": [
      "Saving results in D:\\YuLab\\Work\\GPS\\Video\\Chester\\GPS_13_ThreeFPHoldSRTProbe\\20240713\\Top\\Clips...\n",
      "Saving csv poses!\n",
      "Starting to analyze %  D:/YuLab/Work/GPS/Video/Chester/GPS_13_ThreeFPHoldSRTProbe/20240713/Top/Clips/Chester_20240713_HoldTrial046_TopView.avi\n",
      "Loading  D:/YuLab/Work/GPS/Video/Chester/GPS_13_ThreeFPHoldSRTProbe/20240713/Top/Clips/Chester_20240713_HoldTrial046_TopView.avi\n",
      "Duration of video [s]:  8.04 , recorded with  25.0 fps!\n",
      "Overall # of frames:  201  found with (before cropping) frame dimensions:  1280 1331\n",
      "Starting to extract posture\n",
      "Cropping based on the x1 = 0 x2 = 1280 y1 = 0 y2 = 1024. You can adjust the cropping coordinates in the config.yaml file.\n"
     ]
    },
    {
     "name": "stderr",
     "output_type": "stream",
     "text": [
      "100%|██████████| 201/201 [00:08<00:00, 22.91it/s]\n"
     ]
    },
    {
     "name": "stdout",
     "output_type": "stream",
     "text": [
      "Saving results in D:\\YuLab\\Work\\GPS\\Video\\Chester\\GPS_13_ThreeFPHoldSRTProbe\\20240713\\Top\\Clips...\n",
      "Saving csv poses!\n",
      "Starting to analyze %  D:/YuLab/Work/GPS/Video/Chester/GPS_13_ThreeFPHoldSRTProbe/20240713/Top/Clips/Chester_20240713_HoldTrial047_TopView.avi\n",
      "Loading  D:/YuLab/Work/GPS/Video/Chester/GPS_13_ThreeFPHoldSRTProbe/20240713/Top/Clips/Chester_20240713_HoldTrial047_TopView.avi\n",
      "Duration of video [s]:  8.04 , recorded with  25.0 fps!\n",
      "Overall # of frames:  201  found with (before cropping) frame dimensions:  1280 1331\n",
      "Starting to extract posture\n",
      "Cropping based on the x1 = 0 x2 = 1280 y1 = 0 y2 = 1024. You can adjust the cropping coordinates in the config.yaml file.\n"
     ]
    },
    {
     "name": "stderr",
     "output_type": "stream",
     "text": [
      "100%|██████████| 201/201 [00:08<00:00, 22.92it/s]\n"
     ]
    },
    {
     "name": "stdout",
     "output_type": "stream",
     "text": [
      "Saving results in D:\\YuLab\\Work\\GPS\\Video\\Chester\\GPS_13_ThreeFPHoldSRTProbe\\20240713\\Top\\Clips...\n",
      "Saving csv poses!\n",
      "Starting to analyze %  D:/YuLab/Work/GPS/Video/Chester/GPS_13_ThreeFPHoldSRTProbe/20240713/Top/Clips/Chester_20240713_HoldTrial048_TopView.avi\n",
      "Loading  D:/YuLab/Work/GPS/Video/Chester/GPS_13_ThreeFPHoldSRTProbe/20240713/Top/Clips/Chester_20240713_HoldTrial048_TopView.avi\n",
      "Duration of video [s]:  8.04 , recorded with  25.0 fps!\n",
      "Overall # of frames:  201  found with (before cropping) frame dimensions:  1280 1331\n",
      "Starting to extract posture\n",
      "Cropping based on the x1 = 0 x2 = 1280 y1 = 0 y2 = 1024. You can adjust the cropping coordinates in the config.yaml file.\n"
     ]
    },
    {
     "name": "stderr",
     "output_type": "stream",
     "text": [
      "100%|██████████| 201/201 [00:08<00:00, 22.83it/s]\n"
     ]
    },
    {
     "name": "stdout",
     "output_type": "stream",
     "text": [
      "Saving results in D:\\YuLab\\Work\\GPS\\Video\\Chester\\GPS_13_ThreeFPHoldSRTProbe\\20240713\\Top\\Clips...\n",
      "Saving csv poses!\n",
      "Starting to analyze %  D:/YuLab/Work/GPS/Video/Chester/GPS_13_ThreeFPHoldSRTProbe/20240713/Top/Clips/Chester_20240713_HoldTrial049_TopView.avi\n",
      "Loading  D:/YuLab/Work/GPS/Video/Chester/GPS_13_ThreeFPHoldSRTProbe/20240713/Top/Clips/Chester_20240713_HoldTrial049_TopView.avi\n",
      "Duration of video [s]:  8.04 , recorded with  25.0 fps!\n",
      "Overall # of frames:  201  found with (before cropping) frame dimensions:  1280 1331\n",
      "Starting to extract posture\n",
      "Cropping based on the x1 = 0 x2 = 1280 y1 = 0 y2 = 1024. You can adjust the cropping coordinates in the config.yaml file.\n"
     ]
    },
    {
     "name": "stderr",
     "output_type": "stream",
     "text": [
      "100%|██████████| 201/201 [00:08<00:00, 22.86it/s]\n"
     ]
    },
    {
     "name": "stdout",
     "output_type": "stream",
     "text": [
      "Saving results in D:\\YuLab\\Work\\GPS\\Video\\Chester\\GPS_13_ThreeFPHoldSRTProbe\\20240713\\Top\\Clips...\n",
      "Saving csv poses!\n",
      "Starting to analyze %  D:/YuLab/Work/GPS/Video/Chester/GPS_13_ThreeFPHoldSRTProbe/20240713/Top/Clips/Chester_20240713_HoldTrial050_TopView.avi\n",
      "Loading  D:/YuLab/Work/GPS/Video/Chester/GPS_13_ThreeFPHoldSRTProbe/20240713/Top/Clips/Chester_20240713_HoldTrial050_TopView.avi\n",
      "Duration of video [s]:  8.04 , recorded with  25.0 fps!\n",
      "Overall # of frames:  201  found with (before cropping) frame dimensions:  1280 1331\n",
      "Starting to extract posture\n",
      "Cropping based on the x1 = 0 x2 = 1280 y1 = 0 y2 = 1024. You can adjust the cropping coordinates in the config.yaml file.\n"
     ]
    },
    {
     "name": "stderr",
     "output_type": "stream",
     "text": [
      "100%|██████████| 201/201 [00:08<00:00, 22.95it/s]\n"
     ]
    },
    {
     "name": "stdout",
     "output_type": "stream",
     "text": [
      "Saving results in D:\\YuLab\\Work\\GPS\\Video\\Chester\\GPS_13_ThreeFPHoldSRTProbe\\20240713\\Top\\Clips...\n",
      "Saving csv poses!\n",
      "Starting to analyze %  D:/YuLab/Work/GPS/Video/Chester/GPS_13_ThreeFPHoldSRTProbe/20240713/Top/Clips/Chester_20240713_HoldTrial051_TopView.avi\n",
      "Loading  D:/YuLab/Work/GPS/Video/Chester/GPS_13_ThreeFPHoldSRTProbe/20240713/Top/Clips/Chester_20240713_HoldTrial051_TopView.avi\n",
      "Duration of video [s]:  8.04 , recorded with  25.0 fps!\n",
      "Overall # of frames:  201  found with (before cropping) frame dimensions:  1280 1331\n",
      "Starting to extract posture\n",
      "Cropping based on the x1 = 0 x2 = 1280 y1 = 0 y2 = 1024. You can adjust the cropping coordinates in the config.yaml file.\n"
     ]
    },
    {
     "name": "stderr",
     "output_type": "stream",
     "text": [
      "100%|██████████| 201/201 [00:08<00:00, 22.92it/s]\n"
     ]
    },
    {
     "name": "stdout",
     "output_type": "stream",
     "text": [
      "Saving results in D:\\YuLab\\Work\\GPS\\Video\\Chester\\GPS_13_ThreeFPHoldSRTProbe\\20240713\\Top\\Clips...\n",
      "Saving csv poses!\n",
      "Starting to analyze %  D:/YuLab/Work/GPS/Video/Chester/GPS_13_ThreeFPHoldSRTProbe/20240713/Top/Clips/Chester_20240713_HoldTrial052_TopView.avi\n",
      "Loading  D:/YuLab/Work/GPS/Video/Chester/GPS_13_ThreeFPHoldSRTProbe/20240713/Top/Clips/Chester_20240713_HoldTrial052_TopView.avi\n",
      "Duration of video [s]:  8.04 , recorded with  25.0 fps!\n",
      "Overall # of frames:  201  found with (before cropping) frame dimensions:  1280 1331\n",
      "Starting to extract posture\n",
      "Cropping based on the x1 = 0 x2 = 1280 y1 = 0 y2 = 1024. You can adjust the cropping coordinates in the config.yaml file.\n"
     ]
    },
    {
     "name": "stderr",
     "output_type": "stream",
     "text": [
      "100%|██████████| 201/201 [00:08<00:00, 22.93it/s]\n"
     ]
    },
    {
     "name": "stdout",
     "output_type": "stream",
     "text": [
      "Saving results in D:\\YuLab\\Work\\GPS\\Video\\Chester\\GPS_13_ThreeFPHoldSRTProbe\\20240713\\Top\\Clips...\n",
      "Saving csv poses!\n",
      "Starting to analyze %  D:/YuLab/Work/GPS/Video/Chester/GPS_13_ThreeFPHoldSRTProbe/20240713/Top/Clips/Chester_20240713_HoldTrial053_TopView.avi\n",
      "Loading  D:/YuLab/Work/GPS/Video/Chester/GPS_13_ThreeFPHoldSRTProbe/20240713/Top/Clips/Chester_20240713_HoldTrial053_TopView.avi\n",
      "Duration of video [s]:  8.04 , recorded with  25.0 fps!\n",
      "Overall # of frames:  201  found with (before cropping) frame dimensions:  1280 1331\n",
      "Starting to extract posture\n",
      "Cropping based on the x1 = 0 x2 = 1280 y1 = 0 y2 = 1024. You can adjust the cropping coordinates in the config.yaml file.\n"
     ]
    },
    {
     "name": "stderr",
     "output_type": "stream",
     "text": [
      "100%|██████████| 201/201 [00:08<00:00, 22.84it/s]\n"
     ]
    },
    {
     "name": "stdout",
     "output_type": "stream",
     "text": [
      "Saving results in D:\\YuLab\\Work\\GPS\\Video\\Chester\\GPS_13_ThreeFPHoldSRTProbe\\20240713\\Top\\Clips...\n",
      "Saving csv poses!\n",
      "Starting to analyze %  D:/YuLab/Work/GPS/Video/Chester/GPS_13_ThreeFPHoldSRTProbe/20240713/Top/Clips/Chester_20240713_HoldTrial054_TopView.avi\n",
      "Loading  D:/YuLab/Work/GPS/Video/Chester/GPS_13_ThreeFPHoldSRTProbe/20240713/Top/Clips/Chester_20240713_HoldTrial054_TopView.avi\n",
      "Duration of video [s]:  8.04 , recorded with  25.0 fps!\n",
      "Overall # of frames:  201  found with (before cropping) frame dimensions:  1280 1331\n",
      "Starting to extract posture\n",
      "Cropping based on the x1 = 0 x2 = 1280 y1 = 0 y2 = 1024. You can adjust the cropping coordinates in the config.yaml file.\n"
     ]
    },
    {
     "name": "stderr",
     "output_type": "stream",
     "text": [
      "100%|██████████| 201/201 [00:08<00:00, 22.87it/s]\n"
     ]
    },
    {
     "name": "stdout",
     "output_type": "stream",
     "text": [
      "Saving results in D:\\YuLab\\Work\\GPS\\Video\\Chester\\GPS_13_ThreeFPHoldSRTProbe\\20240713\\Top\\Clips...\n",
      "Saving csv poses!\n",
      "Starting to analyze %  D:/YuLab/Work/GPS/Video/Chester/GPS_13_ThreeFPHoldSRTProbe/20240713/Top/Clips/Chester_20240713_HoldTrial055_TopView.avi\n",
      "Loading  D:/YuLab/Work/GPS/Video/Chester/GPS_13_ThreeFPHoldSRTProbe/20240713/Top/Clips/Chester_20240713_HoldTrial055_TopView.avi\n",
      "Duration of video [s]:  8.04 , recorded with  25.0 fps!\n",
      "Overall # of frames:  201  found with (before cropping) frame dimensions:  1280 1331\n",
      "Starting to extract posture\n",
      "Cropping based on the x1 = 0 x2 = 1280 y1 = 0 y2 = 1024. You can adjust the cropping coordinates in the config.yaml file.\n"
     ]
    },
    {
     "name": "stderr",
     "output_type": "stream",
     "text": [
      "100%|██████████| 201/201 [00:08<00:00, 22.84it/s]\n"
     ]
    },
    {
     "name": "stdout",
     "output_type": "stream",
     "text": [
      "Saving results in D:\\YuLab\\Work\\GPS\\Video\\Chester\\GPS_13_ThreeFPHoldSRTProbe\\20240713\\Top\\Clips...\n",
      "Saving csv poses!\n",
      "Starting to analyze %  D:/YuLab/Work/GPS/Video/Chester/GPS_13_ThreeFPHoldSRTProbe/20240713/Top/Clips/Chester_20240713_HoldTrial056_TopView.avi\n",
      "Loading  D:/YuLab/Work/GPS/Video/Chester/GPS_13_ThreeFPHoldSRTProbe/20240713/Top/Clips/Chester_20240713_HoldTrial056_TopView.avi\n",
      "Duration of video [s]:  7.76 , recorded with  25.0 fps!\n",
      "Overall # of frames:  194  found with (before cropping) frame dimensions:  1280 1331\n",
      "Starting to extract posture\n",
      "Cropping based on the x1 = 0 x2 = 1280 y1 = 0 y2 = 1024. You can adjust the cropping coordinates in the config.yaml file.\n"
     ]
    },
    {
     "name": "stderr",
     "output_type": "stream",
     "text": [
      "100%|██████████| 194/194 [00:08<00:00, 22.97it/s]\n"
     ]
    },
    {
     "name": "stdout",
     "output_type": "stream",
     "text": [
      "Saving results in D:\\YuLab\\Work\\GPS\\Video\\Chester\\GPS_13_ThreeFPHoldSRTProbe\\20240713\\Top\\Clips...\n",
      "Saving csv poses!\n",
      "Starting to analyze %  D:/YuLab/Work/GPS/Video/Chester/GPS_13_ThreeFPHoldSRTProbe/20240713/Top/Clips/Chester_20240713_HoldTrial057_TopView.avi\n",
      "Loading  D:/YuLab/Work/GPS/Video/Chester/GPS_13_ThreeFPHoldSRTProbe/20240713/Top/Clips/Chester_20240713_HoldTrial057_TopView.avi\n",
      "Duration of video [s]:  8.0 , recorded with  25.0 fps!\n",
      "Overall # of frames:  200  found with (before cropping) frame dimensions:  1280 1331\n",
      "Starting to extract posture\n",
      "Cropping based on the x1 = 0 x2 = 1280 y1 = 0 y2 = 1024. You can adjust the cropping coordinates in the config.yaml file.\n"
     ]
    },
    {
     "name": "stderr",
     "output_type": "stream",
     "text": [
      "100%|██████████| 200/200 [00:08<00:00, 23.53it/s]\n"
     ]
    },
    {
     "name": "stdout",
     "output_type": "stream",
     "text": [
      "Saving results in D:\\YuLab\\Work\\GPS\\Video\\Chester\\GPS_13_ThreeFPHoldSRTProbe\\20240713\\Top\\Clips...\n",
      "Saving csv poses!\n",
      "Starting to analyze %  D:/YuLab/Work/GPS/Video/Chester/GPS_13_ThreeFPHoldSRTProbe/20240713/Top/Clips/Chester_20240713_HoldTrial058_TopView.avi\n",
      "Loading  D:/YuLab/Work/GPS/Video/Chester/GPS_13_ThreeFPHoldSRTProbe/20240713/Top/Clips/Chester_20240713_HoldTrial058_TopView.avi\n",
      "Duration of video [s]:  8.04 , recorded with  25.0 fps!\n",
      "Overall # of frames:  201  found with (before cropping) frame dimensions:  1280 1331\n",
      "Starting to extract posture\n",
      "Cropping based on the x1 = 0 x2 = 1280 y1 = 0 y2 = 1024. You can adjust the cropping coordinates in the config.yaml file.\n"
     ]
    },
    {
     "name": "stderr",
     "output_type": "stream",
     "text": [
      "100%|██████████| 201/201 [00:08<00:00, 22.93it/s]\n"
     ]
    },
    {
     "name": "stdout",
     "output_type": "stream",
     "text": [
      "Saving results in D:\\YuLab\\Work\\GPS\\Video\\Chester\\GPS_13_ThreeFPHoldSRTProbe\\20240713\\Top\\Clips...\n",
      "Saving csv poses!\n",
      "Starting to analyze %  D:/YuLab/Work/GPS/Video/Chester/GPS_13_ThreeFPHoldSRTProbe/20240713/Top/Clips/Chester_20240713_HoldTrial059_TopView.avi\n",
      "Loading  D:/YuLab/Work/GPS/Video/Chester/GPS_13_ThreeFPHoldSRTProbe/20240713/Top/Clips/Chester_20240713_HoldTrial059_TopView.avi\n",
      "Duration of video [s]:  8.04 , recorded with  25.0 fps!\n",
      "Overall # of frames:  201  found with (before cropping) frame dimensions:  1280 1331\n",
      "Starting to extract posture\n",
      "Cropping based on the x1 = 0 x2 = 1280 y1 = 0 y2 = 1024. You can adjust the cropping coordinates in the config.yaml file.\n"
     ]
    },
    {
     "name": "stderr",
     "output_type": "stream",
     "text": [
      "100%|██████████| 201/201 [00:08<00:00, 22.91it/s]\n"
     ]
    },
    {
     "name": "stdout",
     "output_type": "stream",
     "text": [
      "Saving results in D:\\YuLab\\Work\\GPS\\Video\\Chester\\GPS_13_ThreeFPHoldSRTProbe\\20240713\\Top\\Clips...\n",
      "Saving csv poses!\n",
      "Starting to analyze %  D:/YuLab/Work/GPS/Video/Chester/GPS_13_ThreeFPHoldSRTProbe/20240713/Top/Clips/Chester_20240713_HoldTrial060_TopView.avi\n",
      "Loading  D:/YuLab/Work/GPS/Video/Chester/GPS_13_ThreeFPHoldSRTProbe/20240713/Top/Clips/Chester_20240713_HoldTrial060_TopView.avi\n",
      "Duration of video [s]:  8.04 , recorded with  25.0 fps!\n",
      "Overall # of frames:  201  found with (before cropping) frame dimensions:  1280 1331\n",
      "Starting to extract posture\n",
      "Cropping based on the x1 = 0 x2 = 1280 y1 = 0 y2 = 1024. You can adjust the cropping coordinates in the config.yaml file.\n"
     ]
    },
    {
     "name": "stderr",
     "output_type": "stream",
     "text": [
      "100%|██████████| 201/201 [00:08<00:00, 22.89it/s]\n"
     ]
    },
    {
     "name": "stdout",
     "output_type": "stream",
     "text": [
      "Saving results in D:\\YuLab\\Work\\GPS\\Video\\Chester\\GPS_13_ThreeFPHoldSRTProbe\\20240713\\Top\\Clips...\n",
      "Saving csv poses!\n",
      "Starting to analyze %  D:/YuLab/Work/GPS/Video/Chester/GPS_13_ThreeFPHoldSRTProbe/20240713/Top/Clips/Chester_20240713_HoldTrial061_TopView.avi\n",
      "Loading  D:/YuLab/Work/GPS/Video/Chester/GPS_13_ThreeFPHoldSRTProbe/20240713/Top/Clips/Chester_20240713_HoldTrial061_TopView.avi\n",
      "Duration of video [s]:  8.04 , recorded with  25.0 fps!\n",
      "Overall # of frames:  201  found with (before cropping) frame dimensions:  1280 1331\n",
      "Starting to extract posture\n",
      "Cropping based on the x1 = 0 x2 = 1280 y1 = 0 y2 = 1024. You can adjust the cropping coordinates in the config.yaml file.\n"
     ]
    },
    {
     "name": "stderr",
     "output_type": "stream",
     "text": [
      "100%|██████████| 201/201 [00:08<00:00, 22.95it/s]\n"
     ]
    },
    {
     "name": "stdout",
     "output_type": "stream",
     "text": [
      "Saving results in D:\\YuLab\\Work\\GPS\\Video\\Chester\\GPS_13_ThreeFPHoldSRTProbe\\20240713\\Top\\Clips...\n",
      "Saving csv poses!\n",
      "Starting to analyze %  D:/YuLab/Work/GPS/Video/Chester/GPS_13_ThreeFPHoldSRTProbe/20240713/Top/Clips/Chester_20240713_HoldTrial062_TopView.avi\n",
      "Loading  D:/YuLab/Work/GPS/Video/Chester/GPS_13_ThreeFPHoldSRTProbe/20240713/Top/Clips/Chester_20240713_HoldTrial062_TopView.avi\n",
      "Duration of video [s]:  8.04 , recorded with  25.0 fps!\n",
      "Overall # of frames:  201  found with (before cropping) frame dimensions:  1280 1331\n",
      "Starting to extract posture\n",
      "Cropping based on the x1 = 0 x2 = 1280 y1 = 0 y2 = 1024. You can adjust the cropping coordinates in the config.yaml file.\n"
     ]
    },
    {
     "name": "stderr",
     "output_type": "stream",
     "text": [
      "100%|██████████| 201/201 [00:08<00:00, 22.94it/s]\n"
     ]
    },
    {
     "name": "stdout",
     "output_type": "stream",
     "text": [
      "Saving results in D:\\YuLab\\Work\\GPS\\Video\\Chester\\GPS_13_ThreeFPHoldSRTProbe\\20240713\\Top\\Clips...\n",
      "Saving csv poses!\n",
      "Starting to analyze %  D:/YuLab/Work/GPS/Video/Chester/GPS_13_ThreeFPHoldSRTProbe/20240713/Top/Clips/Chester_20240713_HoldTrial063_TopView.avi\n",
      "Loading  D:/YuLab/Work/GPS/Video/Chester/GPS_13_ThreeFPHoldSRTProbe/20240713/Top/Clips/Chester_20240713_HoldTrial063_TopView.avi\n",
      "Duration of video [s]:  8.04 , recorded with  25.0 fps!\n",
      "Overall # of frames:  201  found with (before cropping) frame dimensions:  1280 1331\n",
      "Starting to extract posture\n",
      "Cropping based on the x1 = 0 x2 = 1280 y1 = 0 y2 = 1024. You can adjust the cropping coordinates in the config.yaml file.\n"
     ]
    },
    {
     "name": "stderr",
     "output_type": "stream",
     "text": [
      "100%|██████████| 201/201 [00:08<00:00, 22.96it/s]\n"
     ]
    },
    {
     "name": "stdout",
     "output_type": "stream",
     "text": [
      "Saving results in D:\\YuLab\\Work\\GPS\\Video\\Chester\\GPS_13_ThreeFPHoldSRTProbe\\20240713\\Top\\Clips...\n",
      "Saving csv poses!\n",
      "Starting to analyze %  D:/YuLab/Work/GPS/Video/Chester/GPS_13_ThreeFPHoldSRTProbe/20240713/Top/Clips/Chester_20240713_HoldTrial064_TopView.avi\n",
      "Loading  D:/YuLab/Work/GPS/Video/Chester/GPS_13_ThreeFPHoldSRTProbe/20240713/Top/Clips/Chester_20240713_HoldTrial064_TopView.avi\n",
      "Duration of video [s]:  8.04 , recorded with  25.0 fps!\n",
      "Overall # of frames:  201  found with (before cropping) frame dimensions:  1280 1331\n",
      "Starting to extract posture\n",
      "Cropping based on the x1 = 0 x2 = 1280 y1 = 0 y2 = 1024. You can adjust the cropping coordinates in the config.yaml file.\n"
     ]
    },
    {
     "name": "stderr",
     "output_type": "stream",
     "text": [
      "100%|██████████| 201/201 [00:08<00:00, 22.93it/s]\n"
     ]
    },
    {
     "name": "stdout",
     "output_type": "stream",
     "text": [
      "Saving results in D:\\YuLab\\Work\\GPS\\Video\\Chester\\GPS_13_ThreeFPHoldSRTProbe\\20240713\\Top\\Clips...\n",
      "Saving csv poses!\n",
      "Starting to analyze %  D:/YuLab/Work/GPS/Video/Chester/GPS_13_ThreeFPHoldSRTProbe/20240713/Top/Clips/Chester_20240713_HoldTrial065_TopView.avi\n",
      "Loading  D:/YuLab/Work/GPS/Video/Chester/GPS_13_ThreeFPHoldSRTProbe/20240713/Top/Clips/Chester_20240713_HoldTrial065_TopView.avi\n",
      "Duration of video [s]:  8.04 , recorded with  25.0 fps!\n",
      "Overall # of frames:  201  found with (before cropping) frame dimensions:  1280 1331\n",
      "Starting to extract posture\n",
      "Cropping based on the x1 = 0 x2 = 1280 y1 = 0 y2 = 1024. You can adjust the cropping coordinates in the config.yaml file.\n"
     ]
    },
    {
     "name": "stderr",
     "output_type": "stream",
     "text": [
      "100%|██████████| 201/201 [00:08<00:00, 22.98it/s]\n"
     ]
    },
    {
     "name": "stdout",
     "output_type": "stream",
     "text": [
      "Saving results in D:\\YuLab\\Work\\GPS\\Video\\Chester\\GPS_13_ThreeFPHoldSRTProbe\\20240713\\Top\\Clips...\n",
      "Saving csv poses!\n",
      "Starting to analyze %  D:/YuLab/Work/GPS/Video/Chester/GPS_13_ThreeFPHoldSRTProbe/20240713/Top/Clips/Chester_20240713_HoldTrial066_TopView.avi\n",
      "Loading  D:/YuLab/Work/GPS/Video/Chester/GPS_13_ThreeFPHoldSRTProbe/20240713/Top/Clips/Chester_20240713_HoldTrial066_TopView.avi\n",
      "Duration of video [s]:  8.04 , recorded with  25.0 fps!\n",
      "Overall # of frames:  201  found with (before cropping) frame dimensions:  1280 1331\n",
      "Starting to extract posture\n",
      "Cropping based on the x1 = 0 x2 = 1280 y1 = 0 y2 = 1024. You can adjust the cropping coordinates in the config.yaml file.\n"
     ]
    },
    {
     "name": "stderr",
     "output_type": "stream",
     "text": [
      "100%|██████████| 201/201 [00:08<00:00, 22.91it/s]\n"
     ]
    },
    {
     "name": "stdout",
     "output_type": "stream",
     "text": [
      "Saving results in D:\\YuLab\\Work\\GPS\\Video\\Chester\\GPS_13_ThreeFPHoldSRTProbe\\20240713\\Top\\Clips...\n",
      "Saving csv poses!\n",
      "Starting to analyze %  D:/YuLab/Work/GPS/Video/Chester/GPS_13_ThreeFPHoldSRTProbe/20240713/Top/Clips/Chester_20240713_HoldTrial067_TopView.avi\n",
      "Loading  D:/YuLab/Work/GPS/Video/Chester/GPS_13_ThreeFPHoldSRTProbe/20240713/Top/Clips/Chester_20240713_HoldTrial067_TopView.avi\n",
      "Duration of video [s]:  8.04 , recorded with  25.0 fps!\n",
      "Overall # of frames:  201  found with (before cropping) frame dimensions:  1280 1331\n",
      "Starting to extract posture\n",
      "Cropping based on the x1 = 0 x2 = 1280 y1 = 0 y2 = 1024. You can adjust the cropping coordinates in the config.yaml file.\n"
     ]
    },
    {
     "name": "stderr",
     "output_type": "stream",
     "text": [
      "100%|██████████| 201/201 [00:08<00:00, 22.98it/s]\n"
     ]
    },
    {
     "name": "stdout",
     "output_type": "stream",
     "text": [
      "Saving results in D:\\YuLab\\Work\\GPS\\Video\\Chester\\GPS_13_ThreeFPHoldSRTProbe\\20240713\\Top\\Clips...\n",
      "Saving csv poses!\n",
      "Starting to analyze %  D:/YuLab/Work/GPS/Video/Chester/GPS_13_ThreeFPHoldSRTProbe/20240713/Top/Clips/Chester_20240713_HoldTrial068_TopView.avi\n",
      "Loading  D:/YuLab/Work/GPS/Video/Chester/GPS_13_ThreeFPHoldSRTProbe/20240713/Top/Clips/Chester_20240713_HoldTrial068_TopView.avi\n",
      "Duration of video [s]:  8.04 , recorded with  25.0 fps!\n",
      "Overall # of frames:  201  found with (before cropping) frame dimensions:  1280 1331\n",
      "Starting to extract posture\n",
      "Cropping based on the x1 = 0 x2 = 1280 y1 = 0 y2 = 1024. You can adjust the cropping coordinates in the config.yaml file.\n"
     ]
    },
    {
     "name": "stderr",
     "output_type": "stream",
     "text": [
      "100%|██████████| 201/201 [00:08<00:00, 23.00it/s]\n"
     ]
    },
    {
     "name": "stdout",
     "output_type": "stream",
     "text": [
      "Saving results in D:\\YuLab\\Work\\GPS\\Video\\Chester\\GPS_13_ThreeFPHoldSRTProbe\\20240713\\Top\\Clips...\n",
      "Saving csv poses!\n",
      "Starting to analyze %  D:/YuLab/Work/GPS/Video/Chester/GPS_13_ThreeFPHoldSRTProbe/20240713/Top/Clips/Chester_20240713_HoldTrial069_TopView.avi\n",
      "Loading  D:/YuLab/Work/GPS/Video/Chester/GPS_13_ThreeFPHoldSRTProbe/20240713/Top/Clips/Chester_20240713_HoldTrial069_TopView.avi\n",
      "Duration of video [s]:  8.0 , recorded with  25.0 fps!\n",
      "Overall # of frames:  200  found with (before cropping) frame dimensions:  1280 1331\n",
      "Starting to extract posture\n",
      "Cropping based on the x1 = 0 x2 = 1280 y1 = 0 y2 = 1024. You can adjust the cropping coordinates in the config.yaml file.\n"
     ]
    },
    {
     "name": "stderr",
     "output_type": "stream",
     "text": [
      "100%|██████████| 200/200 [00:08<00:00, 23.62it/s]\n"
     ]
    },
    {
     "name": "stdout",
     "output_type": "stream",
     "text": [
      "Saving results in D:\\YuLab\\Work\\GPS\\Video\\Chester\\GPS_13_ThreeFPHoldSRTProbe\\20240713\\Top\\Clips...\n",
      "Saving csv poses!\n",
      "Starting to analyze %  D:/YuLab/Work/GPS/Video/Chester/GPS_13_ThreeFPHoldSRTProbe/20240713/Top/Clips/Chester_20240713_HoldTrial070_TopView.avi\n",
      "Loading  D:/YuLab/Work/GPS/Video/Chester/GPS_13_ThreeFPHoldSRTProbe/20240713/Top/Clips/Chester_20240713_HoldTrial070_TopView.avi\n",
      "Duration of video [s]:  8.04 , recorded with  25.0 fps!\n",
      "Overall # of frames:  201  found with (before cropping) frame dimensions:  1280 1331\n",
      "Starting to extract posture\n",
      "Cropping based on the x1 = 0 x2 = 1280 y1 = 0 y2 = 1024. You can adjust the cropping coordinates in the config.yaml file.\n"
     ]
    },
    {
     "name": "stderr",
     "output_type": "stream",
     "text": [
      "100%|██████████| 201/201 [00:08<00:00, 22.91it/s]\n"
     ]
    },
    {
     "name": "stdout",
     "output_type": "stream",
     "text": [
      "Saving results in D:\\YuLab\\Work\\GPS\\Video\\Chester\\GPS_13_ThreeFPHoldSRTProbe\\20240713\\Top\\Clips...\n",
      "Saving csv poses!\n",
      "Starting to analyze %  D:/YuLab/Work/GPS/Video/Chester/GPS_13_ThreeFPHoldSRTProbe/20240713/Top/Clips/Chester_20240713_HoldTrial071_TopView.avi\n",
      "Loading  D:/YuLab/Work/GPS/Video/Chester/GPS_13_ThreeFPHoldSRTProbe/20240713/Top/Clips/Chester_20240713_HoldTrial071_TopView.avi\n",
      "Duration of video [s]:  8.04 , recorded with  25.0 fps!\n",
      "Overall # of frames:  201  found with (before cropping) frame dimensions:  1280 1331\n",
      "Starting to extract posture\n",
      "Cropping based on the x1 = 0 x2 = 1280 y1 = 0 y2 = 1024. You can adjust the cropping coordinates in the config.yaml file.\n"
     ]
    },
    {
     "name": "stderr",
     "output_type": "stream",
     "text": [
      "100%|██████████| 201/201 [00:08<00:00, 22.98it/s]\n"
     ]
    },
    {
     "name": "stdout",
     "output_type": "stream",
     "text": [
      "Saving results in D:\\YuLab\\Work\\GPS\\Video\\Chester\\GPS_13_ThreeFPHoldSRTProbe\\20240713\\Top\\Clips...\n",
      "Saving csv poses!\n",
      "Starting to analyze %  D:/YuLab/Work/GPS/Video/Chester/GPS_13_ThreeFPHoldSRTProbe/20240713/Top/Clips/Chester_20240713_HoldTrial072_TopView.avi\n",
      "Loading  D:/YuLab/Work/GPS/Video/Chester/GPS_13_ThreeFPHoldSRTProbe/20240713/Top/Clips/Chester_20240713_HoldTrial072_TopView.avi\n",
      "Duration of video [s]:  8.04 , recorded with  25.0 fps!\n",
      "Overall # of frames:  201  found with (before cropping) frame dimensions:  1280 1331\n",
      "Starting to extract posture\n",
      "Cropping based on the x1 = 0 x2 = 1280 y1 = 0 y2 = 1024. You can adjust the cropping coordinates in the config.yaml file.\n"
     ]
    },
    {
     "name": "stderr",
     "output_type": "stream",
     "text": [
      "100%|██████████| 201/201 [00:08<00:00, 22.98it/s]\n"
     ]
    },
    {
     "name": "stdout",
     "output_type": "stream",
     "text": [
      "Saving results in D:\\YuLab\\Work\\GPS\\Video\\Chester\\GPS_13_ThreeFPHoldSRTProbe\\20240713\\Top\\Clips...\n",
      "Saving csv poses!\n",
      "Starting to analyze %  D:/YuLab/Work/GPS/Video/Chester/GPS_13_ThreeFPHoldSRTProbe/20240713/Top/Clips/Chester_20240713_HoldTrial073_TopView.avi\n",
      "Loading  D:/YuLab/Work/GPS/Video/Chester/GPS_13_ThreeFPHoldSRTProbe/20240713/Top/Clips/Chester_20240713_HoldTrial073_TopView.avi\n",
      "Duration of video [s]:  8.04 , recorded with  25.0 fps!\n",
      "Overall # of frames:  201  found with (before cropping) frame dimensions:  1280 1331\n",
      "Starting to extract posture\n",
      "Cropping based on the x1 = 0 x2 = 1280 y1 = 0 y2 = 1024. You can adjust the cropping coordinates in the config.yaml file.\n"
     ]
    },
    {
     "name": "stderr",
     "output_type": "stream",
     "text": [
      "100%|██████████| 201/201 [00:08<00:00, 23.02it/s]\n"
     ]
    },
    {
     "name": "stdout",
     "output_type": "stream",
     "text": [
      "Saving results in D:\\YuLab\\Work\\GPS\\Video\\Chester\\GPS_13_ThreeFPHoldSRTProbe\\20240713\\Top\\Clips...\n",
      "Saving csv poses!\n",
      "Starting to analyze %  D:/YuLab/Work/GPS/Video/Chester/GPS_13_ThreeFPHoldSRTProbe/20240713/Top/Clips/Chester_20240713_HoldTrial074_TopView.avi\n",
      "Loading  D:/YuLab/Work/GPS/Video/Chester/GPS_13_ThreeFPHoldSRTProbe/20240713/Top/Clips/Chester_20240713_HoldTrial074_TopView.avi\n",
      "Duration of video [s]:  8.04 , recorded with  25.0 fps!\n",
      "Overall # of frames:  201  found with (before cropping) frame dimensions:  1280 1331\n",
      "Starting to extract posture\n",
      "Cropping based on the x1 = 0 x2 = 1280 y1 = 0 y2 = 1024. You can adjust the cropping coordinates in the config.yaml file.\n"
     ]
    },
    {
     "name": "stderr",
     "output_type": "stream",
     "text": [
      "100%|██████████| 201/201 [00:08<00:00, 23.02it/s]\n"
     ]
    },
    {
     "name": "stdout",
     "output_type": "stream",
     "text": [
      "Saving results in D:\\YuLab\\Work\\GPS\\Video\\Chester\\GPS_13_ThreeFPHoldSRTProbe\\20240713\\Top\\Clips...\n",
      "Saving csv poses!\n",
      "Starting to analyze %  D:/YuLab/Work/GPS/Video/Chester/GPS_13_ThreeFPHoldSRTProbe/20240713/Top/Clips/Chester_20240713_HoldTrial075_TopView.avi\n",
      "Loading  D:/YuLab/Work/GPS/Video/Chester/GPS_13_ThreeFPHoldSRTProbe/20240713/Top/Clips/Chester_20240713_HoldTrial075_TopView.avi\n",
      "Duration of video [s]:  8.04 , recorded with  25.0 fps!\n",
      "Overall # of frames:  201  found with (before cropping) frame dimensions:  1280 1331\n",
      "Starting to extract posture\n",
      "Cropping based on the x1 = 0 x2 = 1280 y1 = 0 y2 = 1024. You can adjust the cropping coordinates in the config.yaml file.\n"
     ]
    },
    {
     "name": "stderr",
     "output_type": "stream",
     "text": [
      "100%|██████████| 201/201 [00:08<00:00, 22.95it/s]\n"
     ]
    },
    {
     "name": "stdout",
     "output_type": "stream",
     "text": [
      "Saving results in D:\\YuLab\\Work\\GPS\\Video\\Chester\\GPS_13_ThreeFPHoldSRTProbe\\20240713\\Top\\Clips...\n",
      "Saving csv poses!\n",
      "Starting to analyze %  D:/YuLab/Work/GPS/Video/Chester/GPS_13_ThreeFPHoldSRTProbe/20240713/Top/Clips/Chester_20240713_HoldTrial076_TopView.avi\n",
      "Loading  D:/YuLab/Work/GPS/Video/Chester/GPS_13_ThreeFPHoldSRTProbe/20240713/Top/Clips/Chester_20240713_HoldTrial076_TopView.avi\n",
      "Duration of video [s]:  8.04 , recorded with  25.0 fps!\n",
      "Overall # of frames:  201  found with (before cropping) frame dimensions:  1280 1331\n",
      "Starting to extract posture\n",
      "Cropping based on the x1 = 0 x2 = 1280 y1 = 0 y2 = 1024. You can adjust the cropping coordinates in the config.yaml file.\n"
     ]
    },
    {
     "name": "stderr",
     "output_type": "stream",
     "text": [
      "100%|██████████| 201/201 [00:08<00:00, 22.97it/s]\n"
     ]
    },
    {
     "name": "stdout",
     "output_type": "stream",
     "text": [
      "Saving results in D:\\YuLab\\Work\\GPS\\Video\\Chester\\GPS_13_ThreeFPHoldSRTProbe\\20240713\\Top\\Clips...\n",
      "Saving csv poses!\n",
      "Starting to analyze %  D:/YuLab/Work/GPS/Video/Chester/GPS_13_ThreeFPHoldSRTProbe/20240713/Top/Clips/Chester_20240713_HoldTrial077_TopView.avi\n",
      "Loading  D:/YuLab/Work/GPS/Video/Chester/GPS_13_ThreeFPHoldSRTProbe/20240713/Top/Clips/Chester_20240713_HoldTrial077_TopView.avi\n",
      "Duration of video [s]:  8.04 , recorded with  25.0 fps!\n",
      "Overall # of frames:  201  found with (before cropping) frame dimensions:  1280 1331\n",
      "Starting to extract posture\n",
      "Cropping based on the x1 = 0 x2 = 1280 y1 = 0 y2 = 1024. You can adjust the cropping coordinates in the config.yaml file.\n"
     ]
    },
    {
     "name": "stderr",
     "output_type": "stream",
     "text": [
      "100%|██████████| 201/201 [00:08<00:00, 23.04it/s]\n"
     ]
    },
    {
     "name": "stdout",
     "output_type": "stream",
     "text": [
      "Saving results in D:\\YuLab\\Work\\GPS\\Video\\Chester\\GPS_13_ThreeFPHoldSRTProbe\\20240713\\Top\\Clips...\n",
      "Saving csv poses!\n",
      "Starting to analyze %  D:/YuLab/Work/GPS/Video/Chester/GPS_13_ThreeFPHoldSRTProbe/20240713/Top/Clips/Chester_20240713_HoldTrial078_TopView.avi\n",
      "Loading  D:/YuLab/Work/GPS/Video/Chester/GPS_13_ThreeFPHoldSRTProbe/20240713/Top/Clips/Chester_20240713_HoldTrial078_TopView.avi\n",
      "Duration of video [s]:  8.04 , recorded with  25.0 fps!\n",
      "Overall # of frames:  201  found with (before cropping) frame dimensions:  1280 1331\n",
      "Starting to extract posture\n",
      "Cropping based on the x1 = 0 x2 = 1280 y1 = 0 y2 = 1024. You can adjust the cropping coordinates in the config.yaml file.\n"
     ]
    },
    {
     "name": "stderr",
     "output_type": "stream",
     "text": [
      "100%|██████████| 201/201 [00:08<00:00, 22.99it/s]\n"
     ]
    },
    {
     "name": "stdout",
     "output_type": "stream",
     "text": [
      "Saving results in D:\\YuLab\\Work\\GPS\\Video\\Chester\\GPS_13_ThreeFPHoldSRTProbe\\20240713\\Top\\Clips...\n",
      "Saving csv poses!\n",
      "Starting to analyze %  D:/YuLab/Work/GPS/Video/Chester/GPS_13_ThreeFPHoldSRTProbe/20240713/Top/Clips/Chester_20240713_HoldTrial079_TopView.avi\n",
      "Loading  D:/YuLab/Work/GPS/Video/Chester/GPS_13_ThreeFPHoldSRTProbe/20240713/Top/Clips/Chester_20240713_HoldTrial079_TopView.avi\n",
      "Duration of video [s]:  8.04 , recorded with  25.0 fps!\n",
      "Overall # of frames:  201  found with (before cropping) frame dimensions:  1280 1331\n",
      "Starting to extract posture\n",
      "Cropping based on the x1 = 0 x2 = 1280 y1 = 0 y2 = 1024. You can adjust the cropping coordinates in the config.yaml file.\n"
     ]
    },
    {
     "name": "stderr",
     "output_type": "stream",
     "text": [
      "100%|██████████| 201/201 [00:08<00:00, 22.96it/s]\n"
     ]
    },
    {
     "name": "stdout",
     "output_type": "stream",
     "text": [
      "Saving results in D:\\YuLab\\Work\\GPS\\Video\\Chester\\GPS_13_ThreeFPHoldSRTProbe\\20240713\\Top\\Clips...\n",
      "Saving csv poses!\n",
      "Starting to analyze %  D:/YuLab/Work/GPS/Video/Chester/GPS_13_ThreeFPHoldSRTProbe/20240713/Top/Clips/Chester_20240713_HoldTrial080_TopView.avi\n",
      "Loading  D:/YuLab/Work/GPS/Video/Chester/GPS_13_ThreeFPHoldSRTProbe/20240713/Top/Clips/Chester_20240713_HoldTrial080_TopView.avi\n",
      "Duration of video [s]:  8.04 , recorded with  25.0 fps!\n",
      "Overall # of frames:  201  found with (before cropping) frame dimensions:  1280 1331\n",
      "Starting to extract posture\n",
      "Cropping based on the x1 = 0 x2 = 1280 y1 = 0 y2 = 1024. You can adjust the cropping coordinates in the config.yaml file.\n"
     ]
    },
    {
     "name": "stderr",
     "output_type": "stream",
     "text": [
      "100%|██████████| 201/201 [00:08<00:00, 22.95it/s]\n"
     ]
    },
    {
     "name": "stdout",
     "output_type": "stream",
     "text": [
      "Saving results in D:\\YuLab\\Work\\GPS\\Video\\Chester\\GPS_13_ThreeFPHoldSRTProbe\\20240713\\Top\\Clips...\n",
      "Saving csv poses!\n",
      "Starting to analyze %  D:/YuLab/Work/GPS/Video/Chester/GPS_13_ThreeFPHoldSRTProbe/20240713/Top/Clips/Chester_20240713_HoldTrial081_TopView.avi\n",
      "Loading  D:/YuLab/Work/GPS/Video/Chester/GPS_13_ThreeFPHoldSRTProbe/20240713/Top/Clips/Chester_20240713_HoldTrial081_TopView.avi\n",
      "Duration of video [s]:  8.04 , recorded with  25.0 fps!\n",
      "Overall # of frames:  201  found with (before cropping) frame dimensions:  1280 1331\n",
      "Starting to extract posture\n",
      "Cropping based on the x1 = 0 x2 = 1280 y1 = 0 y2 = 1024. You can adjust the cropping coordinates in the config.yaml file.\n"
     ]
    },
    {
     "name": "stderr",
     "output_type": "stream",
     "text": [
      "100%|██████████| 201/201 [00:08<00:00, 23.00it/s]\n"
     ]
    },
    {
     "name": "stdout",
     "output_type": "stream",
     "text": [
      "Saving results in D:\\YuLab\\Work\\GPS\\Video\\Chester\\GPS_13_ThreeFPHoldSRTProbe\\20240713\\Top\\Clips...\n",
      "Saving csv poses!\n",
      "Starting to analyze %  D:/YuLab/Work/GPS/Video/Chester/GPS_13_ThreeFPHoldSRTProbe/20240713/Top/Clips/Chester_20240713_HoldTrial082_TopView.avi\n",
      "Loading  D:/YuLab/Work/GPS/Video/Chester/GPS_13_ThreeFPHoldSRTProbe/20240713/Top/Clips/Chester_20240713_HoldTrial082_TopView.avi\n",
      "Duration of video [s]:  8.04 , recorded with  25.0 fps!\n",
      "Overall # of frames:  201  found with (before cropping) frame dimensions:  1280 1331\n",
      "Starting to extract posture\n",
      "Cropping based on the x1 = 0 x2 = 1280 y1 = 0 y2 = 1024. You can adjust the cropping coordinates in the config.yaml file.\n"
     ]
    },
    {
     "name": "stderr",
     "output_type": "stream",
     "text": [
      "100%|██████████| 201/201 [00:08<00:00, 22.95it/s]\n"
     ]
    },
    {
     "name": "stdout",
     "output_type": "stream",
     "text": [
      "Saving results in D:\\YuLab\\Work\\GPS\\Video\\Chester\\GPS_13_ThreeFPHoldSRTProbe\\20240713\\Top\\Clips...\n",
      "Saving csv poses!\n",
      "Starting to analyze %  D:/YuLab/Work/GPS/Video/Chester/GPS_13_ThreeFPHoldSRTProbe/20240713/Top/Clips/Chester_20240713_HoldTrial083_TopView.avi\n",
      "Loading  D:/YuLab/Work/GPS/Video/Chester/GPS_13_ThreeFPHoldSRTProbe/20240713/Top/Clips/Chester_20240713_HoldTrial083_TopView.avi\n",
      "Duration of video [s]:  7.88 , recorded with  25.0 fps!\n",
      "Overall # of frames:  197  found with (before cropping) frame dimensions:  1280 1331\n",
      "Starting to extract posture\n",
      "Cropping based on the x1 = 0 x2 = 1280 y1 = 0 y2 = 1024. You can adjust the cropping coordinates in the config.yaml file.\n"
     ]
    },
    {
     "name": "stderr",
     "output_type": "stream",
     "text": [
      "100%|██████████| 197/197 [00:08<00:00, 23.24it/s]\n"
     ]
    },
    {
     "name": "stdout",
     "output_type": "stream",
     "text": [
      "Saving results in D:\\YuLab\\Work\\GPS\\Video\\Chester\\GPS_13_ThreeFPHoldSRTProbe\\20240713\\Top\\Clips...\n",
      "Saving csv poses!\n",
      "Starting to analyze %  D:/YuLab/Work/GPS/Video/Chester/GPS_13_ThreeFPHoldSRTProbe/20240713/Top/Clips/Chester_20240713_HoldTrial084_TopView.avi\n",
      "Loading  D:/YuLab/Work/GPS/Video/Chester/GPS_13_ThreeFPHoldSRTProbe/20240713/Top/Clips/Chester_20240713_HoldTrial084_TopView.avi\n",
      "Duration of video [s]:  8.04 , recorded with  25.0 fps!\n",
      "Overall # of frames:  201  found with (before cropping) frame dimensions:  1280 1331\n",
      "Starting to extract posture\n",
      "Cropping based on the x1 = 0 x2 = 1280 y1 = 0 y2 = 1024. You can adjust the cropping coordinates in the config.yaml file.\n"
     ]
    },
    {
     "name": "stderr",
     "output_type": "stream",
     "text": [
      "100%|██████████| 201/201 [00:08<00:00, 22.80it/s]\n"
     ]
    },
    {
     "name": "stdout",
     "output_type": "stream",
     "text": [
      "Saving results in D:\\YuLab\\Work\\GPS\\Video\\Chester\\GPS_13_ThreeFPHoldSRTProbe\\20240713\\Top\\Clips...\n",
      "Saving csv poses!\n",
      "Starting to analyze %  D:/YuLab/Work/GPS/Video/Chester/GPS_13_ThreeFPHoldSRTProbe/20240713/Top/Clips/Chester_20240713_HoldTrial085_TopView.avi\n",
      "Loading  D:/YuLab/Work/GPS/Video/Chester/GPS_13_ThreeFPHoldSRTProbe/20240713/Top/Clips/Chester_20240713_HoldTrial085_TopView.avi\n",
      "Duration of video [s]:  8.04 , recorded with  25.0 fps!\n",
      "Overall # of frames:  201  found with (before cropping) frame dimensions:  1280 1331\n",
      "Starting to extract posture\n",
      "Cropping based on the x1 = 0 x2 = 1280 y1 = 0 y2 = 1024. You can adjust the cropping coordinates in the config.yaml file.\n"
     ]
    },
    {
     "name": "stderr",
     "output_type": "stream",
     "text": [
      "100%|██████████| 201/201 [00:08<00:00, 23.00it/s]\n"
     ]
    },
    {
     "name": "stdout",
     "output_type": "stream",
     "text": [
      "Saving results in D:\\YuLab\\Work\\GPS\\Video\\Chester\\GPS_13_ThreeFPHoldSRTProbe\\20240713\\Top\\Clips...\n",
      "Saving csv poses!\n",
      "Starting to analyze %  D:/YuLab/Work/GPS/Video/Chester/GPS_13_ThreeFPHoldSRTProbe/20240713/Top/Clips/Chester_20240713_HoldTrial086_TopView.avi\n",
      "Loading  D:/YuLab/Work/GPS/Video/Chester/GPS_13_ThreeFPHoldSRTProbe/20240713/Top/Clips/Chester_20240713_HoldTrial086_TopView.avi\n",
      "Duration of video [s]:  8.04 , recorded with  25.0 fps!\n",
      "Overall # of frames:  201  found with (before cropping) frame dimensions:  1280 1331\n",
      "Starting to extract posture\n",
      "Cropping based on the x1 = 0 x2 = 1280 y1 = 0 y2 = 1024. You can adjust the cropping coordinates in the config.yaml file.\n"
     ]
    },
    {
     "name": "stderr",
     "output_type": "stream",
     "text": [
      "100%|██████████| 201/201 [00:08<00:00, 23.04it/s]\n"
     ]
    },
    {
     "name": "stdout",
     "output_type": "stream",
     "text": [
      "Saving results in D:\\YuLab\\Work\\GPS\\Video\\Chester\\GPS_13_ThreeFPHoldSRTProbe\\20240713\\Top\\Clips...\n",
      "Saving csv poses!\n",
      "Starting to analyze %  D:/YuLab/Work/GPS/Video/Chester/GPS_13_ThreeFPHoldSRTProbe/20240713/Top/Clips/Chester_20240713_HoldTrial087_TopView.avi\n",
      "Loading  D:/YuLab/Work/GPS/Video/Chester/GPS_13_ThreeFPHoldSRTProbe/20240713/Top/Clips/Chester_20240713_HoldTrial087_TopView.avi\n",
      "Duration of video [s]:  8.04 , recorded with  25.0 fps!\n",
      "Overall # of frames:  201  found with (before cropping) frame dimensions:  1280 1331\n",
      "Starting to extract posture\n",
      "Cropping based on the x1 = 0 x2 = 1280 y1 = 0 y2 = 1024. You can adjust the cropping coordinates in the config.yaml file.\n"
     ]
    },
    {
     "name": "stderr",
     "output_type": "stream",
     "text": [
      "100%|██████████| 201/201 [00:08<00:00, 23.04it/s]\n"
     ]
    },
    {
     "name": "stdout",
     "output_type": "stream",
     "text": [
      "Saving results in D:\\YuLab\\Work\\GPS\\Video\\Chester\\GPS_13_ThreeFPHoldSRTProbe\\20240713\\Top\\Clips...\n",
      "Saving csv poses!\n",
      "Starting to analyze %  D:/YuLab/Work/GPS/Video/Chester/GPS_13_ThreeFPHoldSRTProbe/20240713/Top/Clips/Chester_20240713_HoldTrial088_TopView.avi\n",
      "Loading  D:/YuLab/Work/GPS/Video/Chester/GPS_13_ThreeFPHoldSRTProbe/20240713/Top/Clips/Chester_20240713_HoldTrial088_TopView.avi\n",
      "Duration of video [s]:  8.04 , recorded with  25.0 fps!\n",
      "Overall # of frames:  201  found with (before cropping) frame dimensions:  1280 1331\n",
      "Starting to extract posture\n",
      "Cropping based on the x1 = 0 x2 = 1280 y1 = 0 y2 = 1024. You can adjust the cropping coordinates in the config.yaml file.\n"
     ]
    },
    {
     "name": "stderr",
     "output_type": "stream",
     "text": [
      "100%|██████████| 201/201 [00:08<00:00, 23.03it/s]\n"
     ]
    },
    {
     "name": "stdout",
     "output_type": "stream",
     "text": [
      "Saving results in D:\\YuLab\\Work\\GPS\\Video\\Chester\\GPS_13_ThreeFPHoldSRTProbe\\20240713\\Top\\Clips...\n",
      "Saving csv poses!\n",
      "Starting to analyze %  D:/YuLab/Work/GPS/Video/Chester/GPS_13_ThreeFPHoldSRTProbe/20240713/Top/Clips/Chester_20240713_HoldTrial089_TopView.avi\n",
      "Loading  D:/YuLab/Work/GPS/Video/Chester/GPS_13_ThreeFPHoldSRTProbe/20240713/Top/Clips/Chester_20240713_HoldTrial089_TopView.avi\n",
      "Duration of video [s]:  8.04 , recorded with  25.0 fps!\n",
      "Overall # of frames:  201  found with (before cropping) frame dimensions:  1280 1331\n",
      "Starting to extract posture\n",
      "Cropping based on the x1 = 0 x2 = 1280 y1 = 0 y2 = 1024. You can adjust the cropping coordinates in the config.yaml file.\n"
     ]
    },
    {
     "name": "stderr",
     "output_type": "stream",
     "text": [
      "100%|██████████| 201/201 [00:08<00:00, 23.06it/s]\n"
     ]
    },
    {
     "name": "stdout",
     "output_type": "stream",
     "text": [
      "Saving results in D:\\YuLab\\Work\\GPS\\Video\\Chester\\GPS_13_ThreeFPHoldSRTProbe\\20240713\\Top\\Clips...\n",
      "Saving csv poses!\n",
      "Starting to analyze %  D:/YuLab/Work/GPS/Video/Chester/GPS_13_ThreeFPHoldSRTProbe/20240713/Top/Clips/Chester_20240713_HoldTrial090_TopView.avi\n",
      "Loading  D:/YuLab/Work/GPS/Video/Chester/GPS_13_ThreeFPHoldSRTProbe/20240713/Top/Clips/Chester_20240713_HoldTrial090_TopView.avi\n",
      "Duration of video [s]:  8.04 , recorded with  25.0 fps!\n",
      "Overall # of frames:  201  found with (before cropping) frame dimensions:  1280 1331\n",
      "Starting to extract posture\n",
      "Cropping based on the x1 = 0 x2 = 1280 y1 = 0 y2 = 1024. You can adjust the cropping coordinates in the config.yaml file.\n"
     ]
    },
    {
     "name": "stderr",
     "output_type": "stream",
     "text": [
      "100%|██████████| 201/201 [00:08<00:00, 23.06it/s]\n"
     ]
    },
    {
     "name": "stdout",
     "output_type": "stream",
     "text": [
      "Saving results in D:\\YuLab\\Work\\GPS\\Video\\Chester\\GPS_13_ThreeFPHoldSRTProbe\\20240713\\Top\\Clips...\n",
      "Saving csv poses!\n",
      "Starting to analyze %  D:/YuLab/Work/GPS/Video/Chester/GPS_13_ThreeFPHoldSRTProbe/20240713/Top/Clips/Chester_20240713_HoldTrial091_TopView.avi\n",
      "Loading  D:/YuLab/Work/GPS/Video/Chester/GPS_13_ThreeFPHoldSRTProbe/20240713/Top/Clips/Chester_20240713_HoldTrial091_TopView.avi\n",
      "Duration of video [s]:  8.04 , recorded with  25.0 fps!\n",
      "Overall # of frames:  201  found with (before cropping) frame dimensions:  1280 1331\n",
      "Starting to extract posture\n",
      "Cropping based on the x1 = 0 x2 = 1280 y1 = 0 y2 = 1024. You can adjust the cropping coordinates in the config.yaml file.\n"
     ]
    },
    {
     "name": "stderr",
     "output_type": "stream",
     "text": [
      "100%|██████████| 201/201 [00:08<00:00, 23.00it/s]\n"
     ]
    },
    {
     "name": "stdout",
     "output_type": "stream",
     "text": [
      "Saving results in D:\\YuLab\\Work\\GPS\\Video\\Chester\\GPS_13_ThreeFPHoldSRTProbe\\20240713\\Top\\Clips...\n",
      "Saving csv poses!\n",
      "Starting to analyze %  D:/YuLab/Work/GPS/Video/Chester/GPS_13_ThreeFPHoldSRTProbe/20240713/Top/Clips/Chester_20240713_HoldTrial092_TopView.avi\n",
      "Loading  D:/YuLab/Work/GPS/Video/Chester/GPS_13_ThreeFPHoldSRTProbe/20240713/Top/Clips/Chester_20240713_HoldTrial092_TopView.avi\n",
      "Duration of video [s]:  8.04 , recorded with  25.0 fps!\n",
      "Overall # of frames:  201  found with (before cropping) frame dimensions:  1280 1331\n",
      "Starting to extract posture\n",
      "Cropping based on the x1 = 0 x2 = 1280 y1 = 0 y2 = 1024. You can adjust the cropping coordinates in the config.yaml file.\n"
     ]
    },
    {
     "name": "stderr",
     "output_type": "stream",
     "text": [
      "100%|██████████| 201/201 [00:08<00:00, 23.06it/s]\n"
     ]
    },
    {
     "name": "stdout",
     "output_type": "stream",
     "text": [
      "Saving results in D:\\YuLab\\Work\\GPS\\Video\\Chester\\GPS_13_ThreeFPHoldSRTProbe\\20240713\\Top\\Clips...\n",
      "Saving csv poses!\n",
      "Starting to analyze %  D:/YuLab/Work/GPS/Video/Chester/GPS_13_ThreeFPHoldSRTProbe/20240713/Top/Clips/Chester_20240713_HoldTrial093_TopView.avi\n",
      "Loading  D:/YuLab/Work/GPS/Video/Chester/GPS_13_ThreeFPHoldSRTProbe/20240713/Top/Clips/Chester_20240713_HoldTrial093_TopView.avi\n",
      "Duration of video [s]:  8.04 , recorded with  25.0 fps!\n",
      "Overall # of frames:  201  found with (before cropping) frame dimensions:  1280 1331\n",
      "Starting to extract posture\n",
      "Cropping based on the x1 = 0 x2 = 1280 y1 = 0 y2 = 1024. You can adjust the cropping coordinates in the config.yaml file.\n"
     ]
    },
    {
     "name": "stderr",
     "output_type": "stream",
     "text": [
      "100%|██████████| 201/201 [00:08<00:00, 23.04it/s]\n"
     ]
    },
    {
     "name": "stdout",
     "output_type": "stream",
     "text": [
      "Saving results in D:\\YuLab\\Work\\GPS\\Video\\Chester\\GPS_13_ThreeFPHoldSRTProbe\\20240713\\Top\\Clips...\n",
      "Saving csv poses!\n",
      "Starting to analyze %  D:/YuLab/Work/GPS/Video/Chester/GPS_13_ThreeFPHoldSRTProbe/20240713/Top/Clips/Chester_20240713_HoldTrial094_TopView.avi\n",
      "Loading  D:/YuLab/Work/GPS/Video/Chester/GPS_13_ThreeFPHoldSRTProbe/20240713/Top/Clips/Chester_20240713_HoldTrial094_TopView.avi\n",
      "Duration of video [s]:  8.04 , recorded with  25.0 fps!\n",
      "Overall # of frames:  201  found with (before cropping) frame dimensions:  1280 1331\n",
      "Starting to extract posture\n",
      "Cropping based on the x1 = 0 x2 = 1280 y1 = 0 y2 = 1024. You can adjust the cropping coordinates in the config.yaml file.\n"
     ]
    },
    {
     "name": "stderr",
     "output_type": "stream",
     "text": [
      "100%|██████████| 201/201 [00:08<00:00, 23.04it/s]\n"
     ]
    },
    {
     "name": "stdout",
     "output_type": "stream",
     "text": [
      "Saving results in D:\\YuLab\\Work\\GPS\\Video\\Chester\\GPS_13_ThreeFPHoldSRTProbe\\20240713\\Top\\Clips...\n",
      "Saving csv poses!\n",
      "Starting to analyze %  D:/YuLab/Work/GPS/Video/Chester/GPS_13_ThreeFPHoldSRTProbe/20240713/Top/Clips/Chester_20240713_HoldTrial095_TopView.avi\n",
      "Loading  D:/YuLab/Work/GPS/Video/Chester/GPS_13_ThreeFPHoldSRTProbe/20240713/Top/Clips/Chester_20240713_HoldTrial095_TopView.avi\n",
      "Duration of video [s]:  8.04 , recorded with  25.0 fps!\n",
      "Overall # of frames:  201  found with (before cropping) frame dimensions:  1280 1331\n",
      "Starting to extract posture\n",
      "Cropping based on the x1 = 0 x2 = 1280 y1 = 0 y2 = 1024. You can adjust the cropping coordinates in the config.yaml file.\n"
     ]
    },
    {
     "name": "stderr",
     "output_type": "stream",
     "text": [
      "100%|██████████| 201/201 [00:08<00:00, 22.99it/s]\n"
     ]
    },
    {
     "name": "stdout",
     "output_type": "stream",
     "text": [
      "Saving results in D:\\YuLab\\Work\\GPS\\Video\\Chester\\GPS_13_ThreeFPHoldSRTProbe\\20240713\\Top\\Clips...\n",
      "Saving csv poses!\n",
      "Starting to analyze %  D:/YuLab/Work/GPS/Video/Chester/GPS_13_ThreeFPHoldSRTProbe/20240713/Top/Clips/Chester_20240713_HoldTrial096_TopView.avi\n",
      "Loading  D:/YuLab/Work/GPS/Video/Chester/GPS_13_ThreeFPHoldSRTProbe/20240713/Top/Clips/Chester_20240713_HoldTrial096_TopView.avi\n",
      "Duration of video [s]:  8.04 , recorded with  25.0 fps!\n",
      "Overall # of frames:  201  found with (before cropping) frame dimensions:  1280 1331\n",
      "Starting to extract posture\n",
      "Cropping based on the x1 = 0 x2 = 1280 y1 = 0 y2 = 1024. You can adjust the cropping coordinates in the config.yaml file.\n"
     ]
    },
    {
     "name": "stderr",
     "output_type": "stream",
     "text": [
      "100%|██████████| 201/201 [00:08<00:00, 22.98it/s]\n"
     ]
    },
    {
     "name": "stdout",
     "output_type": "stream",
     "text": [
      "Saving results in D:\\YuLab\\Work\\GPS\\Video\\Chester\\GPS_13_ThreeFPHoldSRTProbe\\20240713\\Top\\Clips...\n",
      "Saving csv poses!\n",
      "Starting to analyze %  D:/YuLab/Work/GPS/Video/Chester/GPS_13_ThreeFPHoldSRTProbe/20240713/Top/Clips/Chester_20240713_HoldTrial097_TopView.avi\n",
      "Loading  D:/YuLab/Work/GPS/Video/Chester/GPS_13_ThreeFPHoldSRTProbe/20240713/Top/Clips/Chester_20240713_HoldTrial097_TopView.avi\n",
      "Duration of video [s]:  8.04 , recorded with  25.0 fps!\n",
      "Overall # of frames:  201  found with (before cropping) frame dimensions:  1280 1331\n",
      "Starting to extract posture\n",
      "Cropping based on the x1 = 0 x2 = 1280 y1 = 0 y2 = 1024. You can adjust the cropping coordinates in the config.yaml file.\n"
     ]
    },
    {
     "name": "stderr",
     "output_type": "stream",
     "text": [
      "100%|██████████| 201/201 [00:08<00:00, 23.02it/s]\n"
     ]
    },
    {
     "name": "stdout",
     "output_type": "stream",
     "text": [
      "Saving results in D:\\YuLab\\Work\\GPS\\Video\\Chester\\GPS_13_ThreeFPHoldSRTProbe\\20240713\\Top\\Clips...\n",
      "Saving csv poses!\n",
      "Starting to analyze %  D:/YuLab/Work/GPS/Video/Chester/GPS_13_ThreeFPHoldSRTProbe/20240713/Top/Clips/Chester_20240713_HoldTrial098_TopView.avi\n",
      "Loading  D:/YuLab/Work/GPS/Video/Chester/GPS_13_ThreeFPHoldSRTProbe/20240713/Top/Clips/Chester_20240713_HoldTrial098_TopView.avi\n",
      "Duration of video [s]:  8.04 , recorded with  25.0 fps!\n",
      "Overall # of frames:  201  found with (before cropping) frame dimensions:  1280 1331\n",
      "Starting to extract posture\n",
      "Cropping based on the x1 = 0 x2 = 1280 y1 = 0 y2 = 1024. You can adjust the cropping coordinates in the config.yaml file.\n"
     ]
    },
    {
     "name": "stderr",
     "output_type": "stream",
     "text": [
      "100%|██████████| 201/201 [00:08<00:00, 22.96it/s]\n"
     ]
    },
    {
     "name": "stdout",
     "output_type": "stream",
     "text": [
      "Saving results in D:\\YuLab\\Work\\GPS\\Video\\Chester\\GPS_13_ThreeFPHoldSRTProbe\\20240713\\Top\\Clips...\n",
      "Saving csv poses!\n",
      "Starting to analyze %  D:/YuLab/Work/GPS/Video/Chester/GPS_13_ThreeFPHoldSRTProbe/20240713/Top/Clips/Chester_20240713_HoldTrial099_TopView.avi\n",
      "Loading  D:/YuLab/Work/GPS/Video/Chester/GPS_13_ThreeFPHoldSRTProbe/20240713/Top/Clips/Chester_20240713_HoldTrial099_TopView.avi\n",
      "Duration of video [s]:  8.04 , recorded with  25.0 fps!\n",
      "Overall # of frames:  201  found with (before cropping) frame dimensions:  1280 1331\n",
      "Starting to extract posture\n",
      "Cropping based on the x1 = 0 x2 = 1280 y1 = 0 y2 = 1024. You can adjust the cropping coordinates in the config.yaml file.\n"
     ]
    },
    {
     "name": "stderr",
     "output_type": "stream",
     "text": [
      "100%|██████████| 201/201 [00:08<00:00, 22.97it/s]\n"
     ]
    },
    {
     "name": "stdout",
     "output_type": "stream",
     "text": [
      "Saving results in D:\\YuLab\\Work\\GPS\\Video\\Chester\\GPS_13_ThreeFPHoldSRTProbe\\20240713\\Top\\Clips...\n",
      "Saving csv poses!\n",
      "Starting to analyze %  D:/YuLab/Work/GPS/Video/Chester/GPS_13_ThreeFPHoldSRTProbe/20240713/Top/Clips/Chester_20240713_HoldTrial100_TopView.avi\n",
      "Loading  D:/YuLab/Work/GPS/Video/Chester/GPS_13_ThreeFPHoldSRTProbe/20240713/Top/Clips/Chester_20240713_HoldTrial100_TopView.avi\n",
      "Duration of video [s]:  8.04 , recorded with  25.0 fps!\n",
      "Overall # of frames:  201  found with (before cropping) frame dimensions:  1280 1331\n",
      "Starting to extract posture\n",
      "Cropping based on the x1 = 0 x2 = 1280 y1 = 0 y2 = 1024. You can adjust the cropping coordinates in the config.yaml file.\n"
     ]
    },
    {
     "name": "stderr",
     "output_type": "stream",
     "text": [
      "100%|██████████| 201/201 [00:08<00:00, 22.94it/s]\n"
     ]
    },
    {
     "name": "stdout",
     "output_type": "stream",
     "text": [
      "Saving results in D:\\YuLab\\Work\\GPS\\Video\\Chester\\GPS_13_ThreeFPHoldSRTProbe\\20240713\\Top\\Clips...\n",
      "Saving csv poses!\n",
      "Starting to analyze %  D:/YuLab/Work/GPS/Video/Chester/GPS_13_ThreeFPHoldSRTProbe/20240713/Top/Clips/Chester_20240713_HoldTrial101_TopView.avi\n",
      "Loading  D:/YuLab/Work/GPS/Video/Chester/GPS_13_ThreeFPHoldSRTProbe/20240713/Top/Clips/Chester_20240713_HoldTrial101_TopView.avi\n",
      "Duration of video [s]:  8.04 , recorded with  25.0 fps!\n",
      "Overall # of frames:  201  found with (before cropping) frame dimensions:  1280 1331\n",
      "Starting to extract posture\n",
      "Cropping based on the x1 = 0 x2 = 1280 y1 = 0 y2 = 1024. You can adjust the cropping coordinates in the config.yaml file.\n"
     ]
    },
    {
     "name": "stderr",
     "output_type": "stream",
     "text": [
      "100%|██████████| 201/201 [00:08<00:00, 22.89it/s]\n"
     ]
    },
    {
     "name": "stdout",
     "output_type": "stream",
     "text": [
      "Saving results in D:\\YuLab\\Work\\GPS\\Video\\Chester\\GPS_13_ThreeFPHoldSRTProbe\\20240713\\Top\\Clips...\n",
      "Saving csv poses!\n",
      "Starting to analyze %  D:/YuLab/Work/GPS/Video/Chester/GPS_13_ThreeFPHoldSRTProbe/20240713/Top/Clips/Chester_20240713_HoldTrial102_TopView.avi\n",
      "Loading  D:/YuLab/Work/GPS/Video/Chester/GPS_13_ThreeFPHoldSRTProbe/20240713/Top/Clips/Chester_20240713_HoldTrial102_TopView.avi\n",
      "Duration of video [s]:  8.04 , recorded with  25.0 fps!\n",
      "Overall # of frames:  201  found with (before cropping) frame dimensions:  1280 1331\n",
      "Starting to extract posture\n",
      "Cropping based on the x1 = 0 x2 = 1280 y1 = 0 y2 = 1024. You can adjust the cropping coordinates in the config.yaml file.\n"
     ]
    },
    {
     "name": "stderr",
     "output_type": "stream",
     "text": [
      "100%|██████████| 201/201 [00:08<00:00, 22.98it/s]\n"
     ]
    },
    {
     "name": "stdout",
     "output_type": "stream",
     "text": [
      "Saving results in D:\\YuLab\\Work\\GPS\\Video\\Chester\\GPS_13_ThreeFPHoldSRTProbe\\20240713\\Top\\Clips...\n",
      "Saving csv poses!\n",
      "Starting to analyze %  D:/YuLab/Work/GPS/Video/Chester/GPS_13_ThreeFPHoldSRTProbe/20240713/Top/Clips/Chester_20240713_HoldTrial103_TopView.avi\n",
      "Loading  D:/YuLab/Work/GPS/Video/Chester/GPS_13_ThreeFPHoldSRTProbe/20240713/Top/Clips/Chester_20240713_HoldTrial103_TopView.avi\n",
      "Duration of video [s]:  8.04 , recorded with  25.0 fps!\n",
      "Overall # of frames:  201  found with (before cropping) frame dimensions:  1280 1331\n",
      "Starting to extract posture\n",
      "Cropping based on the x1 = 0 x2 = 1280 y1 = 0 y2 = 1024. You can adjust the cropping coordinates in the config.yaml file.\n"
     ]
    },
    {
     "name": "stderr",
     "output_type": "stream",
     "text": [
      "100%|██████████| 201/201 [00:08<00:00, 23.00it/s]\n"
     ]
    },
    {
     "name": "stdout",
     "output_type": "stream",
     "text": [
      "Saving results in D:\\YuLab\\Work\\GPS\\Video\\Chester\\GPS_13_ThreeFPHoldSRTProbe\\20240713\\Top\\Clips...\n",
      "Saving csv poses!\n",
      "Starting to analyze %  D:/YuLab/Work/GPS/Video/Chester/GPS_13_ThreeFPHoldSRTProbe/20240713/Top/Clips/Chester_20240713_HoldTrial104_TopView.avi\n",
      "Loading  D:/YuLab/Work/GPS/Video/Chester/GPS_13_ThreeFPHoldSRTProbe/20240713/Top/Clips/Chester_20240713_HoldTrial104_TopView.avi\n",
      "Duration of video [s]:  8.04 , recorded with  25.0 fps!\n",
      "Overall # of frames:  201  found with (before cropping) frame dimensions:  1280 1331\n",
      "Starting to extract posture\n",
      "Cropping based on the x1 = 0 x2 = 1280 y1 = 0 y2 = 1024. You can adjust the cropping coordinates in the config.yaml file.\n"
     ]
    },
    {
     "name": "stderr",
     "output_type": "stream",
     "text": [
      "100%|██████████| 201/201 [00:08<00:00, 22.98it/s]\n"
     ]
    },
    {
     "name": "stdout",
     "output_type": "stream",
     "text": [
      "Saving results in D:\\YuLab\\Work\\GPS\\Video\\Chester\\GPS_13_ThreeFPHoldSRTProbe\\20240713\\Top\\Clips...\n",
      "Saving csv poses!\n",
      "Starting to analyze %  D:/YuLab/Work/GPS/Video/Chester/GPS_13_ThreeFPHoldSRTProbe/20240713/Top/Clips/Chester_20240713_HoldTrial105_TopView.avi\n",
      "Loading  D:/YuLab/Work/GPS/Video/Chester/GPS_13_ThreeFPHoldSRTProbe/20240713/Top/Clips/Chester_20240713_HoldTrial105_TopView.avi\n",
      "Duration of video [s]:  8.04 , recorded with  25.0 fps!\n",
      "Overall # of frames:  201  found with (before cropping) frame dimensions:  1280 1331\n",
      "Starting to extract posture\n",
      "Cropping based on the x1 = 0 x2 = 1280 y1 = 0 y2 = 1024. You can adjust the cropping coordinates in the config.yaml file.\n"
     ]
    },
    {
     "name": "stderr",
     "output_type": "stream",
     "text": [
      "100%|██████████| 201/201 [00:08<00:00, 22.95it/s]\n"
     ]
    },
    {
     "name": "stdout",
     "output_type": "stream",
     "text": [
      "Saving results in D:\\YuLab\\Work\\GPS\\Video\\Chester\\GPS_13_ThreeFPHoldSRTProbe\\20240713\\Top\\Clips...\n",
      "Saving csv poses!\n",
      "Starting to analyze %  D:/YuLab/Work/GPS/Video/Chester/GPS_13_ThreeFPHoldSRTProbe/20240713/Top/Clips/Chester_20240713_HoldTrial106_TopView.avi\n",
      "Loading  D:/YuLab/Work/GPS/Video/Chester/GPS_13_ThreeFPHoldSRTProbe/20240713/Top/Clips/Chester_20240713_HoldTrial106_TopView.avi\n",
      "Duration of video [s]:  8.04 , recorded with  25.0 fps!\n",
      "Overall # of frames:  201  found with (before cropping) frame dimensions:  1280 1331\n",
      "Starting to extract posture\n",
      "Cropping based on the x1 = 0 x2 = 1280 y1 = 0 y2 = 1024. You can adjust the cropping coordinates in the config.yaml file.\n"
     ]
    },
    {
     "name": "stderr",
     "output_type": "stream",
     "text": [
      "100%|██████████| 201/201 [00:08<00:00, 23.01it/s]\n"
     ]
    },
    {
     "name": "stdout",
     "output_type": "stream",
     "text": [
      "Saving results in D:\\YuLab\\Work\\GPS\\Video\\Chester\\GPS_13_ThreeFPHoldSRTProbe\\20240713\\Top\\Clips...\n",
      "Saving csv poses!\n",
      "Starting to analyze %  D:/YuLab/Work/GPS/Video/Chester/GPS_13_ThreeFPHoldSRTProbe/20240713/Top/Clips/Chester_20240713_HoldTrial107_TopView.avi\n",
      "Loading  D:/YuLab/Work/GPS/Video/Chester/GPS_13_ThreeFPHoldSRTProbe/20240713/Top/Clips/Chester_20240713_HoldTrial107_TopView.avi\n",
      "Duration of video [s]:  8.04 , recorded with  25.0 fps!\n",
      "Overall # of frames:  201  found with (before cropping) frame dimensions:  1280 1331\n",
      "Starting to extract posture\n",
      "Cropping based on the x1 = 0 x2 = 1280 y1 = 0 y2 = 1024. You can adjust the cropping coordinates in the config.yaml file.\n"
     ]
    },
    {
     "name": "stderr",
     "output_type": "stream",
     "text": [
      "100%|██████████| 201/201 [00:08<00:00, 22.93it/s]\n"
     ]
    },
    {
     "name": "stdout",
     "output_type": "stream",
     "text": [
      "Saving results in D:\\YuLab\\Work\\GPS\\Video\\Chester\\GPS_13_ThreeFPHoldSRTProbe\\20240713\\Top\\Clips...\n",
      "Saving csv poses!\n",
      "Starting to analyze %  D:/YuLab/Work/GPS/Video/Chester/GPS_13_ThreeFPHoldSRTProbe/20240713/Top/Clips/Chester_20240713_HoldTrial108_TopView.avi\n",
      "Loading  D:/YuLab/Work/GPS/Video/Chester/GPS_13_ThreeFPHoldSRTProbe/20240713/Top/Clips/Chester_20240713_HoldTrial108_TopView.avi\n",
      "Duration of video [s]:  8.04 , recorded with  25.0 fps!\n",
      "Overall # of frames:  201  found with (before cropping) frame dimensions:  1280 1331\n",
      "Starting to extract posture\n",
      "Cropping based on the x1 = 0 x2 = 1280 y1 = 0 y2 = 1024. You can adjust the cropping coordinates in the config.yaml file.\n"
     ]
    },
    {
     "name": "stderr",
     "output_type": "stream",
     "text": [
      "100%|██████████| 201/201 [00:08<00:00, 22.99it/s]\n"
     ]
    },
    {
     "name": "stdout",
     "output_type": "stream",
     "text": [
      "Saving results in D:\\YuLab\\Work\\GPS\\Video\\Chester\\GPS_13_ThreeFPHoldSRTProbe\\20240713\\Top\\Clips...\n",
      "Saving csv poses!\n",
      "Starting to analyze %  D:/YuLab/Work/GPS/Video/Chester/GPS_13_ThreeFPHoldSRTProbe/20240713/Top/Clips/Chester_20240713_HoldTrial109_TopView.avi\n",
      "Loading  D:/YuLab/Work/GPS/Video/Chester/GPS_13_ThreeFPHoldSRTProbe/20240713/Top/Clips/Chester_20240713_HoldTrial109_TopView.avi\n",
      "Duration of video [s]:  7.8 , recorded with  25.0 fps!\n",
      "Overall # of frames:  195  found with (before cropping) frame dimensions:  1280 1331\n",
      "Starting to extract posture\n",
      "Cropping based on the x1 = 0 x2 = 1280 y1 = 0 y2 = 1024. You can adjust the cropping coordinates in the config.yaml file.\n"
     ]
    },
    {
     "name": "stderr",
     "output_type": "stream",
     "text": [
      "100%|██████████| 195/195 [00:08<00:00, 23.21it/s]\n"
     ]
    },
    {
     "name": "stdout",
     "output_type": "stream",
     "text": [
      "Saving results in D:\\YuLab\\Work\\GPS\\Video\\Chester\\GPS_13_ThreeFPHoldSRTProbe\\20240713\\Top\\Clips...\n",
      "Saving csv poses!\n",
      "Starting to analyze %  D:/YuLab/Work/GPS/Video/Chester/GPS_13_ThreeFPHoldSRTProbe/20240713/Top/Clips/Chester_20240713_HoldTrial110_TopView.avi\n",
      "Loading  D:/YuLab/Work/GPS/Video/Chester/GPS_13_ThreeFPHoldSRTProbe/20240713/Top/Clips/Chester_20240713_HoldTrial110_TopView.avi\n",
      "Duration of video [s]:  8.04 , recorded with  25.0 fps!\n",
      "Overall # of frames:  201  found with (before cropping) frame dimensions:  1280 1331\n",
      "Starting to extract posture\n",
      "Cropping based on the x1 = 0 x2 = 1280 y1 = 0 y2 = 1024. You can adjust the cropping coordinates in the config.yaml file.\n"
     ]
    },
    {
     "name": "stderr",
     "output_type": "stream",
     "text": [
      "100%|██████████| 201/201 [00:08<00:00, 23.03it/s]\n"
     ]
    },
    {
     "name": "stdout",
     "output_type": "stream",
     "text": [
      "Saving results in D:\\YuLab\\Work\\GPS\\Video\\Chester\\GPS_13_ThreeFPHoldSRTProbe\\20240713\\Top\\Clips...\n",
      "Saving csv poses!\n",
      "Starting to analyze %  D:/YuLab/Work/GPS/Video/Chester/GPS_13_ThreeFPHoldSRTProbe/20240713/Top/Clips/Chester_20240713_HoldTrial111_TopView.avi\n",
      "Loading  D:/YuLab/Work/GPS/Video/Chester/GPS_13_ThreeFPHoldSRTProbe/20240713/Top/Clips/Chester_20240713_HoldTrial111_TopView.avi\n",
      "Duration of video [s]:  8.04 , recorded with  25.0 fps!\n",
      "Overall # of frames:  201  found with (before cropping) frame dimensions:  1280 1331\n",
      "Starting to extract posture\n",
      "Cropping based on the x1 = 0 x2 = 1280 y1 = 0 y2 = 1024. You can adjust the cropping coordinates in the config.yaml file.\n"
     ]
    },
    {
     "name": "stderr",
     "output_type": "stream",
     "text": [
      "100%|██████████| 201/201 [00:08<00:00, 23.02it/s]\n"
     ]
    },
    {
     "name": "stdout",
     "output_type": "stream",
     "text": [
      "Saving results in D:\\YuLab\\Work\\GPS\\Video\\Chester\\GPS_13_ThreeFPHoldSRTProbe\\20240713\\Top\\Clips...\n",
      "Saving csv poses!\n",
      "Starting to analyze %  D:/YuLab/Work/GPS/Video/Chester/GPS_13_ThreeFPHoldSRTProbe/20240713/Top/Clips/Chester_20240713_HoldTrial112_TopView.avi\n",
      "Loading  D:/YuLab/Work/GPS/Video/Chester/GPS_13_ThreeFPHoldSRTProbe/20240713/Top/Clips/Chester_20240713_HoldTrial112_TopView.avi\n",
      "Duration of video [s]:  8.0 , recorded with  25.0 fps!\n",
      "Overall # of frames:  200  found with (before cropping) frame dimensions:  1280 1331\n",
      "Starting to extract posture\n",
      "Cropping based on the x1 = 0 x2 = 1280 y1 = 0 y2 = 1024. You can adjust the cropping coordinates in the config.yaml file.\n"
     ]
    },
    {
     "name": "stderr",
     "output_type": "stream",
     "text": [
      "100%|██████████| 200/200 [00:08<00:00, 23.68it/s]\n"
     ]
    },
    {
     "name": "stdout",
     "output_type": "stream",
     "text": [
      "Saving results in D:\\YuLab\\Work\\GPS\\Video\\Chester\\GPS_13_ThreeFPHoldSRTProbe\\20240713\\Top\\Clips...\n",
      "Saving csv poses!\n",
      "Starting to analyze %  D:/YuLab/Work/GPS/Video/Chester/GPS_13_ThreeFPHoldSRTProbe/20240713/Top/Clips/Chester_20240713_HoldTrial113_TopView.avi\n",
      "Loading  D:/YuLab/Work/GPS/Video/Chester/GPS_13_ThreeFPHoldSRTProbe/20240713/Top/Clips/Chester_20240713_HoldTrial113_TopView.avi\n",
      "Duration of video [s]:  8.04 , recorded with  25.0 fps!\n",
      "Overall # of frames:  201  found with (before cropping) frame dimensions:  1280 1331\n",
      "Starting to extract posture\n",
      "Cropping based on the x1 = 0 x2 = 1280 y1 = 0 y2 = 1024. You can adjust the cropping coordinates in the config.yaml file.\n"
     ]
    },
    {
     "name": "stderr",
     "output_type": "stream",
     "text": [
      "100%|██████████| 201/201 [00:08<00:00, 22.99it/s]\n"
     ]
    },
    {
     "name": "stdout",
     "output_type": "stream",
     "text": [
      "Saving results in D:\\YuLab\\Work\\GPS\\Video\\Chester\\GPS_13_ThreeFPHoldSRTProbe\\20240713\\Top\\Clips...\n",
      "Saving csv poses!\n",
      "Starting to analyze %  D:/YuLab/Work/GPS/Video/Chester/GPS_13_ThreeFPHoldSRTProbe/20240713/Top/Clips/Chester_20240713_HoldTrial114_TopView.avi\n",
      "Loading  D:/YuLab/Work/GPS/Video/Chester/GPS_13_ThreeFPHoldSRTProbe/20240713/Top/Clips/Chester_20240713_HoldTrial114_TopView.avi\n",
      "Duration of video [s]:  8.04 , recorded with  25.0 fps!\n",
      "Overall # of frames:  201  found with (before cropping) frame dimensions:  1280 1331\n",
      "Starting to extract posture\n",
      "Cropping based on the x1 = 0 x2 = 1280 y1 = 0 y2 = 1024. You can adjust the cropping coordinates in the config.yaml file.\n"
     ]
    },
    {
     "name": "stderr",
     "output_type": "stream",
     "text": [
      "100%|██████████| 201/201 [00:08<00:00, 23.00it/s]\n"
     ]
    },
    {
     "name": "stdout",
     "output_type": "stream",
     "text": [
      "Saving results in D:\\YuLab\\Work\\GPS\\Video\\Chester\\GPS_13_ThreeFPHoldSRTProbe\\20240713\\Top\\Clips...\n",
      "Saving csv poses!\n",
      "Starting to analyze %  D:/YuLab/Work/GPS/Video/Chester/GPS_13_ThreeFPHoldSRTProbe/20240713/Top/Clips/Chester_20240713_HoldTrial115_TopView.avi\n",
      "Loading  D:/YuLab/Work/GPS/Video/Chester/GPS_13_ThreeFPHoldSRTProbe/20240713/Top/Clips/Chester_20240713_HoldTrial115_TopView.avi\n",
      "Duration of video [s]:  8.04 , recorded with  25.0 fps!\n",
      "Overall # of frames:  201  found with (before cropping) frame dimensions:  1280 1331\n",
      "Starting to extract posture\n",
      "Cropping based on the x1 = 0 x2 = 1280 y1 = 0 y2 = 1024. You can adjust the cropping coordinates in the config.yaml file.\n"
     ]
    },
    {
     "name": "stderr",
     "output_type": "stream",
     "text": [
      "100%|██████████| 201/201 [00:08<00:00, 22.98it/s]\n"
     ]
    },
    {
     "name": "stdout",
     "output_type": "stream",
     "text": [
      "Saving results in D:\\YuLab\\Work\\GPS\\Video\\Chester\\GPS_13_ThreeFPHoldSRTProbe\\20240713\\Top\\Clips...\n",
      "Saving csv poses!\n",
      "Starting to analyze %  D:/YuLab/Work/GPS/Video/Chester/GPS_13_ThreeFPHoldSRTProbe/20240713/Top/Clips/Chester_20240713_HoldTrial117_TopView.avi\n",
      "Loading  D:/YuLab/Work/GPS/Video/Chester/GPS_13_ThreeFPHoldSRTProbe/20240713/Top/Clips/Chester_20240713_HoldTrial117_TopView.avi\n",
      "Duration of video [s]:  8.0 , recorded with  25.0 fps!\n",
      "Overall # of frames:  200  found with (before cropping) frame dimensions:  1280 1331\n",
      "Starting to extract posture\n",
      "Cropping based on the x1 = 0 x2 = 1280 y1 = 0 y2 = 1024. You can adjust the cropping coordinates in the config.yaml file.\n"
     ]
    },
    {
     "name": "stderr",
     "output_type": "stream",
     "text": [
      "100%|██████████| 200/200 [00:08<00:00, 23.69it/s]\n"
     ]
    },
    {
     "name": "stdout",
     "output_type": "stream",
     "text": [
      "Saving results in D:\\YuLab\\Work\\GPS\\Video\\Chester\\GPS_13_ThreeFPHoldSRTProbe\\20240713\\Top\\Clips...\n",
      "Saving csv poses!\n",
      "Starting to analyze %  D:/YuLab/Work/GPS/Video/Chester/GPS_13_ThreeFPHoldSRTProbe/20240713/Top/Clips/Chester_20240713_HoldTrial118_TopView.avi\n",
      "Loading  D:/YuLab/Work/GPS/Video/Chester/GPS_13_ThreeFPHoldSRTProbe/20240713/Top/Clips/Chester_20240713_HoldTrial118_TopView.avi\n",
      "Duration of video [s]:  8.04 , recorded with  25.0 fps!\n",
      "Overall # of frames:  201  found with (before cropping) frame dimensions:  1280 1331\n",
      "Starting to extract posture\n",
      "Cropping based on the x1 = 0 x2 = 1280 y1 = 0 y2 = 1024. You can adjust the cropping coordinates in the config.yaml file.\n"
     ]
    },
    {
     "name": "stderr",
     "output_type": "stream",
     "text": [
      "100%|██████████| 201/201 [00:08<00:00, 22.97it/s]\n"
     ]
    },
    {
     "name": "stdout",
     "output_type": "stream",
     "text": [
      "Saving results in D:\\YuLab\\Work\\GPS\\Video\\Chester\\GPS_13_ThreeFPHoldSRTProbe\\20240713\\Top\\Clips...\n",
      "Saving csv poses!\n",
      "Starting to analyze %  D:/YuLab/Work/GPS/Video/Chester/GPS_13_ThreeFPHoldSRTProbe/20240713/Top/Clips/Chester_20240713_HoldTrial119_TopView.avi\n",
      "Loading  D:/YuLab/Work/GPS/Video/Chester/GPS_13_ThreeFPHoldSRTProbe/20240713/Top/Clips/Chester_20240713_HoldTrial119_TopView.avi\n",
      "Duration of video [s]:  8.04 , recorded with  25.0 fps!\n",
      "Overall # of frames:  201  found with (before cropping) frame dimensions:  1280 1331\n",
      "Starting to extract posture\n",
      "Cropping based on the x1 = 0 x2 = 1280 y1 = 0 y2 = 1024. You can adjust the cropping coordinates in the config.yaml file.\n"
     ]
    },
    {
     "name": "stderr",
     "output_type": "stream",
     "text": [
      "100%|██████████| 201/201 [00:08<00:00, 22.94it/s]\n"
     ]
    },
    {
     "name": "stdout",
     "output_type": "stream",
     "text": [
      "Saving results in D:\\YuLab\\Work\\GPS\\Video\\Chester\\GPS_13_ThreeFPHoldSRTProbe\\20240713\\Top\\Clips...\n",
      "Saving csv poses!\n",
      "Starting to analyze %  D:/YuLab/Work/GPS/Video/Chester/GPS_13_ThreeFPHoldSRTProbe/20240713/Top/Clips/Chester_20240713_HoldTrial120_TopView.avi\n",
      "Loading  D:/YuLab/Work/GPS/Video/Chester/GPS_13_ThreeFPHoldSRTProbe/20240713/Top/Clips/Chester_20240713_HoldTrial120_TopView.avi\n",
      "Duration of video [s]:  8.04 , recorded with  25.0 fps!\n",
      "Overall # of frames:  201  found with (before cropping) frame dimensions:  1280 1331\n",
      "Starting to extract posture\n",
      "Cropping based on the x1 = 0 x2 = 1280 y1 = 0 y2 = 1024. You can adjust the cropping coordinates in the config.yaml file.\n"
     ]
    },
    {
     "name": "stderr",
     "output_type": "stream",
     "text": [
      "100%|██████████| 201/201 [00:08<00:00, 22.97it/s]\n"
     ]
    },
    {
     "name": "stdout",
     "output_type": "stream",
     "text": [
      "Saving results in D:\\YuLab\\Work\\GPS\\Video\\Chester\\GPS_13_ThreeFPHoldSRTProbe\\20240713\\Top\\Clips...\n",
      "Saving csv poses!\n",
      "Starting to analyze %  D:/YuLab/Work/GPS/Video/Chester/GPS_13_ThreeFPHoldSRTProbe/20240713/Top/Clips/Chester_20240713_HoldTrial121_TopView.avi\n",
      "Loading  D:/YuLab/Work/GPS/Video/Chester/GPS_13_ThreeFPHoldSRTProbe/20240713/Top/Clips/Chester_20240713_HoldTrial121_TopView.avi\n",
      "Duration of video [s]:  8.04 , recorded with  25.0 fps!\n",
      "Overall # of frames:  201  found with (before cropping) frame dimensions:  1280 1331\n",
      "Starting to extract posture\n",
      "Cropping based on the x1 = 0 x2 = 1280 y1 = 0 y2 = 1024. You can adjust the cropping coordinates in the config.yaml file.\n"
     ]
    },
    {
     "name": "stderr",
     "output_type": "stream",
     "text": [
      "100%|██████████| 201/201 [00:08<00:00, 22.87it/s]\n"
     ]
    },
    {
     "name": "stdout",
     "output_type": "stream",
     "text": [
      "Saving results in D:\\YuLab\\Work\\GPS\\Video\\Chester\\GPS_13_ThreeFPHoldSRTProbe\\20240713\\Top\\Clips...\n",
      "Saving csv poses!\n",
      "Starting to analyze %  D:/YuLab/Work/GPS/Video/Chester/GPS_13_ThreeFPHoldSRTProbe/20240713/Top/Clips/Chester_20240713_HoldTrial122_TopView.avi\n",
      "Loading  D:/YuLab/Work/GPS/Video/Chester/GPS_13_ThreeFPHoldSRTProbe/20240713/Top/Clips/Chester_20240713_HoldTrial122_TopView.avi\n",
      "Duration of video [s]:  8.04 , recorded with  25.0 fps!\n",
      "Overall # of frames:  201  found with (before cropping) frame dimensions:  1280 1331\n",
      "Starting to extract posture\n",
      "Cropping based on the x1 = 0 x2 = 1280 y1 = 0 y2 = 1024. You can adjust the cropping coordinates in the config.yaml file.\n"
     ]
    },
    {
     "name": "stderr",
     "output_type": "stream",
     "text": [
      "100%|██████████| 201/201 [00:08<00:00, 22.95it/s]\n"
     ]
    },
    {
     "name": "stdout",
     "output_type": "stream",
     "text": [
      "Saving results in D:\\YuLab\\Work\\GPS\\Video\\Chester\\GPS_13_ThreeFPHoldSRTProbe\\20240713\\Top\\Clips...\n",
      "Saving csv poses!\n",
      "Starting to analyze %  D:/YuLab/Work/GPS/Video/Chester/GPS_13_ThreeFPHoldSRTProbe/20240713/Top/Clips/Chester_20240713_HoldTrial123_TopView.avi\n",
      "Loading  D:/YuLab/Work/GPS/Video/Chester/GPS_13_ThreeFPHoldSRTProbe/20240713/Top/Clips/Chester_20240713_HoldTrial123_TopView.avi\n",
      "Duration of video [s]:  8.04 , recorded with  25.0 fps!\n",
      "Overall # of frames:  201  found with (before cropping) frame dimensions:  1280 1331\n",
      "Starting to extract posture\n",
      "Cropping based on the x1 = 0 x2 = 1280 y1 = 0 y2 = 1024. You can adjust the cropping coordinates in the config.yaml file.\n"
     ]
    },
    {
     "name": "stderr",
     "output_type": "stream",
     "text": [
      "100%|██████████| 201/201 [00:08<00:00, 22.94it/s]\n"
     ]
    },
    {
     "name": "stdout",
     "output_type": "stream",
     "text": [
      "Saving results in D:\\YuLab\\Work\\GPS\\Video\\Chester\\GPS_13_ThreeFPHoldSRTProbe\\20240713\\Top\\Clips...\n",
      "Saving csv poses!\n",
      "Starting to analyze %  D:/YuLab/Work/GPS/Video/Chester/GPS_13_ThreeFPHoldSRTProbe/20240713/Top/Clips/Chester_20240713_HoldTrial124_TopView.avi\n",
      "Loading  D:/YuLab/Work/GPS/Video/Chester/GPS_13_ThreeFPHoldSRTProbe/20240713/Top/Clips/Chester_20240713_HoldTrial124_TopView.avi\n",
      "Duration of video [s]:  8.04 , recorded with  25.0 fps!\n",
      "Overall # of frames:  201  found with (before cropping) frame dimensions:  1280 1331\n",
      "Starting to extract posture\n",
      "Cropping based on the x1 = 0 x2 = 1280 y1 = 0 y2 = 1024. You can adjust the cropping coordinates in the config.yaml file.\n"
     ]
    },
    {
     "name": "stderr",
     "output_type": "stream",
     "text": [
      "100%|██████████| 201/201 [00:09<00:00, 22.32it/s]\n"
     ]
    },
    {
     "name": "stdout",
     "output_type": "stream",
     "text": [
      "Saving results in D:\\YuLab\\Work\\GPS\\Video\\Chester\\GPS_13_ThreeFPHoldSRTProbe\\20240713\\Top\\Clips...\n",
      "Saving csv poses!\n",
      "Starting to analyze %  D:/YuLab/Work/GPS/Video/Chester/GPS_13_ThreeFPHoldSRTProbe/20240713/Top/Clips/Chester_20240713_HoldTrial125_TopView.avi\n",
      "Loading  D:/YuLab/Work/GPS/Video/Chester/GPS_13_ThreeFPHoldSRTProbe/20240713/Top/Clips/Chester_20240713_HoldTrial125_TopView.avi\n",
      "Duration of video [s]:  8.04 , recorded with  25.0 fps!\n",
      "Overall # of frames:  201  found with (before cropping) frame dimensions:  1280 1331\n",
      "Starting to extract posture\n",
      "Cropping based on the x1 = 0 x2 = 1280 y1 = 0 y2 = 1024. You can adjust the cropping coordinates in the config.yaml file.\n"
     ]
    },
    {
     "name": "stderr",
     "output_type": "stream",
     "text": [
      "100%|██████████| 201/201 [00:08<00:00, 23.12it/s]\n"
     ]
    },
    {
     "name": "stdout",
     "output_type": "stream",
     "text": [
      "Saving results in D:\\YuLab\\Work\\GPS\\Video\\Chester\\GPS_13_ThreeFPHoldSRTProbe\\20240713\\Top\\Clips...\n",
      "Saving csv poses!\n",
      "Starting to analyze %  D:/YuLab/Work/GPS/Video/Chester/GPS_13_ThreeFPHoldSRTProbe/20240713/Top/Clips/Chester_20240713_HoldTrial126_TopView.avi\n",
      "Loading  D:/YuLab/Work/GPS/Video/Chester/GPS_13_ThreeFPHoldSRTProbe/20240713/Top/Clips/Chester_20240713_HoldTrial126_TopView.avi\n",
      "Duration of video [s]:  8.04 , recorded with  25.0 fps!\n",
      "Overall # of frames:  201  found with (before cropping) frame dimensions:  1280 1331\n",
      "Starting to extract posture\n",
      "Cropping based on the x1 = 0 x2 = 1280 y1 = 0 y2 = 1024. You can adjust the cropping coordinates in the config.yaml file.\n"
     ]
    },
    {
     "name": "stderr",
     "output_type": "stream",
     "text": [
      "100%|██████████| 201/201 [00:08<00:00, 23.08it/s]\n"
     ]
    },
    {
     "name": "stdout",
     "output_type": "stream",
     "text": [
      "Saving results in D:\\YuLab\\Work\\GPS\\Video\\Chester\\GPS_13_ThreeFPHoldSRTProbe\\20240713\\Top\\Clips...\n",
      "Saving csv poses!\n",
      "Starting to analyze %  D:/YuLab/Work/GPS/Video/Chester/GPS_13_ThreeFPHoldSRTProbe/20240713/Top/Clips/Chester_20240713_HoldTrial127_TopView.avi\n",
      "Loading  D:/YuLab/Work/GPS/Video/Chester/GPS_13_ThreeFPHoldSRTProbe/20240713/Top/Clips/Chester_20240713_HoldTrial127_TopView.avi\n",
      "Duration of video [s]:  8.04 , recorded with  25.0 fps!\n",
      "Overall # of frames:  201  found with (before cropping) frame dimensions:  1280 1331\n",
      "Starting to extract posture\n",
      "Cropping based on the x1 = 0 x2 = 1280 y1 = 0 y2 = 1024. You can adjust the cropping coordinates in the config.yaml file.\n"
     ]
    },
    {
     "name": "stderr",
     "output_type": "stream",
     "text": [
      "100%|██████████| 201/201 [00:08<00:00, 23.07it/s]\n"
     ]
    },
    {
     "name": "stdout",
     "output_type": "stream",
     "text": [
      "Saving results in D:\\YuLab\\Work\\GPS\\Video\\Chester\\GPS_13_ThreeFPHoldSRTProbe\\20240713\\Top\\Clips...\n",
      "Saving csv poses!\n",
      "Starting to analyze %  D:/YuLab/Work/GPS/Video/Chester/GPS_13_ThreeFPHoldSRTProbe/20240713/Top/Clips/Chester_20240713_HoldTrial128_TopView.avi\n",
      "Loading  D:/YuLab/Work/GPS/Video/Chester/GPS_13_ThreeFPHoldSRTProbe/20240713/Top/Clips/Chester_20240713_HoldTrial128_TopView.avi\n",
      "Duration of video [s]:  8.04 , recorded with  25.0 fps!\n",
      "Overall # of frames:  201  found with (before cropping) frame dimensions:  1280 1331\n",
      "Starting to extract posture\n",
      "Cropping based on the x1 = 0 x2 = 1280 y1 = 0 y2 = 1024. You can adjust the cropping coordinates in the config.yaml file.\n"
     ]
    },
    {
     "name": "stderr",
     "output_type": "stream",
     "text": [
      "100%|██████████| 201/201 [00:08<00:00, 23.08it/s]\n"
     ]
    },
    {
     "name": "stdout",
     "output_type": "stream",
     "text": [
      "Saving results in D:\\YuLab\\Work\\GPS\\Video\\Chester\\GPS_13_ThreeFPHoldSRTProbe\\20240713\\Top\\Clips...\n",
      "Saving csv poses!\n",
      "Starting to analyze %  D:/YuLab/Work/GPS/Video/Chester/GPS_13_ThreeFPHoldSRTProbe/20240713/Top/Clips/Chester_20240713_HoldTrial129_TopView.avi\n",
      "Loading  D:/YuLab/Work/GPS/Video/Chester/GPS_13_ThreeFPHoldSRTProbe/20240713/Top/Clips/Chester_20240713_HoldTrial129_TopView.avi\n",
      "Duration of video [s]:  8.04 , recorded with  25.0 fps!\n",
      "Overall # of frames:  201  found with (before cropping) frame dimensions:  1280 1331\n",
      "Starting to extract posture\n",
      "Cropping based on the x1 = 0 x2 = 1280 y1 = 0 y2 = 1024. You can adjust the cropping coordinates in the config.yaml file.\n"
     ]
    },
    {
     "name": "stderr",
     "output_type": "stream",
     "text": [
      "100%|██████████| 201/201 [00:08<00:00, 23.06it/s]\n"
     ]
    },
    {
     "name": "stdout",
     "output_type": "stream",
     "text": [
      "Saving results in D:\\YuLab\\Work\\GPS\\Video\\Chester\\GPS_13_ThreeFPHoldSRTProbe\\20240713\\Top\\Clips...\n",
      "Saving csv poses!\n",
      "Starting to analyze %  D:/YuLab/Work/GPS/Video/Chester/GPS_13_ThreeFPHoldSRTProbe/20240713/Top/Clips/Chester_20240713_HoldTrial130_TopView.avi\n",
      "Loading  D:/YuLab/Work/GPS/Video/Chester/GPS_13_ThreeFPHoldSRTProbe/20240713/Top/Clips/Chester_20240713_HoldTrial130_TopView.avi\n",
      "Duration of video [s]:  8.04 , recorded with  25.0 fps!\n",
      "Overall # of frames:  201  found with (before cropping) frame dimensions:  1280 1331\n",
      "Starting to extract posture\n",
      "Cropping based on the x1 = 0 x2 = 1280 y1 = 0 y2 = 1024. You can adjust the cropping coordinates in the config.yaml file.\n"
     ]
    },
    {
     "name": "stderr",
     "output_type": "stream",
     "text": [
      "100%|██████████| 201/201 [00:08<00:00, 22.98it/s]\n"
     ]
    },
    {
     "name": "stdout",
     "output_type": "stream",
     "text": [
      "Saving results in D:\\YuLab\\Work\\GPS\\Video\\Chester\\GPS_13_ThreeFPHoldSRTProbe\\20240713\\Top\\Clips...\n",
      "Saving csv poses!\n",
      "Starting to analyze %  D:/YuLab/Work/GPS/Video/Chester/GPS_13_ThreeFPHoldSRTProbe/20240713/Top/Clips/Chester_20240713_HoldTrial131_TopView.avi\n",
      "Loading  D:/YuLab/Work/GPS/Video/Chester/GPS_13_ThreeFPHoldSRTProbe/20240713/Top/Clips/Chester_20240713_HoldTrial131_TopView.avi\n",
      "Duration of video [s]:  8.04 , recorded with  25.0 fps!\n",
      "Overall # of frames:  201  found with (before cropping) frame dimensions:  1280 1331\n",
      "Starting to extract posture\n",
      "Cropping based on the x1 = 0 x2 = 1280 y1 = 0 y2 = 1024. You can adjust the cropping coordinates in the config.yaml file.\n"
     ]
    },
    {
     "name": "stderr",
     "output_type": "stream",
     "text": [
      "100%|██████████| 201/201 [00:08<00:00, 22.90it/s]\n"
     ]
    },
    {
     "name": "stdout",
     "output_type": "stream",
     "text": [
      "Saving results in D:\\YuLab\\Work\\GPS\\Video\\Chester\\GPS_13_ThreeFPHoldSRTProbe\\20240713\\Top\\Clips...\n",
      "Saving csv poses!\n",
      "Starting to analyze %  D:/YuLab/Work/GPS/Video/Chester/GPS_13_ThreeFPHoldSRTProbe/20240713/Top/Clips/Chester_20240713_HoldTrial132_TopView.avi\n",
      "Loading  D:/YuLab/Work/GPS/Video/Chester/GPS_13_ThreeFPHoldSRTProbe/20240713/Top/Clips/Chester_20240713_HoldTrial132_TopView.avi\n",
      "Duration of video [s]:  8.04 , recorded with  25.0 fps!\n",
      "Overall # of frames:  201  found with (before cropping) frame dimensions:  1280 1331\n",
      "Starting to extract posture\n",
      "Cropping based on the x1 = 0 x2 = 1280 y1 = 0 y2 = 1024. You can adjust the cropping coordinates in the config.yaml file.\n"
     ]
    },
    {
     "name": "stderr",
     "output_type": "stream",
     "text": [
      "100%|██████████| 201/201 [00:08<00:00, 22.99it/s]\n"
     ]
    },
    {
     "name": "stdout",
     "output_type": "stream",
     "text": [
      "Saving results in D:\\YuLab\\Work\\GPS\\Video\\Chester\\GPS_13_ThreeFPHoldSRTProbe\\20240713\\Top\\Clips...\n",
      "Saving csv poses!\n",
      "Starting to analyze %  D:/YuLab/Work/GPS/Video/Chester/GPS_13_ThreeFPHoldSRTProbe/20240713/Top/Clips/Chester_20240713_HoldTrial133_TopView.avi\n",
      "Loading  D:/YuLab/Work/GPS/Video/Chester/GPS_13_ThreeFPHoldSRTProbe/20240713/Top/Clips/Chester_20240713_HoldTrial133_TopView.avi\n",
      "Duration of video [s]:  8.04 , recorded with  25.0 fps!\n",
      "Overall # of frames:  201  found with (before cropping) frame dimensions:  1280 1331\n",
      "Starting to extract posture\n",
      "Cropping based on the x1 = 0 x2 = 1280 y1 = 0 y2 = 1024. You can adjust the cropping coordinates in the config.yaml file.\n"
     ]
    },
    {
     "name": "stderr",
     "output_type": "stream",
     "text": [
      "100%|██████████| 201/201 [00:08<00:00, 23.17it/s]\n"
     ]
    },
    {
     "name": "stdout",
     "output_type": "stream",
     "text": [
      "Saving results in D:\\YuLab\\Work\\GPS\\Video\\Chester\\GPS_13_ThreeFPHoldSRTProbe\\20240713\\Top\\Clips...\n",
      "Saving csv poses!\n",
      "Starting to analyze %  D:/YuLab/Work/GPS/Video/Chester/GPS_13_ThreeFPHoldSRTProbe/20240713/Top/Clips/Chester_20240713_HoldTrial134_TopView.avi\n",
      "Loading  D:/YuLab/Work/GPS/Video/Chester/GPS_13_ThreeFPHoldSRTProbe/20240713/Top/Clips/Chester_20240713_HoldTrial134_TopView.avi\n",
      "Duration of video [s]:  8.04 , recorded with  25.0 fps!\n",
      "Overall # of frames:  201  found with (before cropping) frame dimensions:  1280 1331\n",
      "Starting to extract posture\n",
      "Cropping based on the x1 = 0 x2 = 1280 y1 = 0 y2 = 1024. You can adjust the cropping coordinates in the config.yaml file.\n"
     ]
    },
    {
     "name": "stderr",
     "output_type": "stream",
     "text": [
      "100%|██████████| 201/201 [00:08<00:00, 23.07it/s]\n"
     ]
    },
    {
     "name": "stdout",
     "output_type": "stream",
     "text": [
      "Saving results in D:\\YuLab\\Work\\GPS\\Video\\Chester\\GPS_13_ThreeFPHoldSRTProbe\\20240713\\Top\\Clips...\n",
      "Saving csv poses!\n",
      "Starting to analyze %  D:/YuLab/Work/GPS/Video/Chester/GPS_13_ThreeFPHoldSRTProbe/20240713/Top/Clips/Chester_20240713_HoldTrial135_TopView.avi\n",
      "Loading  D:/YuLab/Work/GPS/Video/Chester/GPS_13_ThreeFPHoldSRTProbe/20240713/Top/Clips/Chester_20240713_HoldTrial135_TopView.avi\n",
      "Duration of video [s]:  8.04 , recorded with  25.0 fps!\n",
      "Overall # of frames:  201  found with (before cropping) frame dimensions:  1280 1331\n",
      "Starting to extract posture\n",
      "Cropping based on the x1 = 0 x2 = 1280 y1 = 0 y2 = 1024. You can adjust the cropping coordinates in the config.yaml file.\n"
     ]
    },
    {
     "name": "stderr",
     "output_type": "stream",
     "text": [
      "100%|██████████| 201/201 [00:08<00:00, 23.00it/s]\n"
     ]
    },
    {
     "name": "stdout",
     "output_type": "stream",
     "text": [
      "Saving results in D:\\YuLab\\Work\\GPS\\Video\\Chester\\GPS_13_ThreeFPHoldSRTProbe\\20240713\\Top\\Clips...\n",
      "Saving csv poses!\n",
      "Starting to analyze %  D:/YuLab/Work/GPS/Video/Chester/GPS_13_ThreeFPHoldSRTProbe/20240713/Top/Clips/Chester_20240713_HoldTrial136_TopView.avi\n",
      "Loading  D:/YuLab/Work/GPS/Video/Chester/GPS_13_ThreeFPHoldSRTProbe/20240713/Top/Clips/Chester_20240713_HoldTrial136_TopView.avi\n",
      "Duration of video [s]:  8.04 , recorded with  25.0 fps!\n",
      "Overall # of frames:  201  found with (before cropping) frame dimensions:  1280 1331\n",
      "Starting to extract posture\n",
      "Cropping based on the x1 = 0 x2 = 1280 y1 = 0 y2 = 1024. You can adjust the cropping coordinates in the config.yaml file.\n"
     ]
    },
    {
     "name": "stderr",
     "output_type": "stream",
     "text": [
      "100%|██████████| 201/201 [00:08<00:00, 23.00it/s]\n"
     ]
    },
    {
     "name": "stdout",
     "output_type": "stream",
     "text": [
      "Saving results in D:\\YuLab\\Work\\GPS\\Video\\Chester\\GPS_13_ThreeFPHoldSRTProbe\\20240713\\Top\\Clips...\n",
      "Saving csv poses!\n",
      "Starting to analyze %  D:/YuLab/Work/GPS/Video/Chester/GPS_13_ThreeFPHoldSRTProbe/20240713/Top/Clips/Chester_20240713_HoldTrial137_TopView.avi\n",
      "Loading  D:/YuLab/Work/GPS/Video/Chester/GPS_13_ThreeFPHoldSRTProbe/20240713/Top/Clips/Chester_20240713_HoldTrial137_TopView.avi\n",
      "Duration of video [s]:  8.04 , recorded with  25.0 fps!\n",
      "Overall # of frames:  201  found with (before cropping) frame dimensions:  1280 1331\n",
      "Starting to extract posture\n",
      "Cropping based on the x1 = 0 x2 = 1280 y1 = 0 y2 = 1024. You can adjust the cropping coordinates in the config.yaml file.\n"
     ]
    },
    {
     "name": "stderr",
     "output_type": "stream",
     "text": [
      "100%|██████████| 201/201 [00:08<00:00, 23.01it/s]\n"
     ]
    },
    {
     "name": "stdout",
     "output_type": "stream",
     "text": [
      "Saving results in D:\\YuLab\\Work\\GPS\\Video\\Chester\\GPS_13_ThreeFPHoldSRTProbe\\20240713\\Top\\Clips...\n",
      "Saving csv poses!\n",
      "Starting to analyze %  D:/YuLab/Work/GPS/Video/Chester/GPS_13_ThreeFPHoldSRTProbe/20240713/Top/Clips/Chester_20240713_HoldTrial138_TopView.avi\n",
      "Loading  D:/YuLab/Work/GPS/Video/Chester/GPS_13_ThreeFPHoldSRTProbe/20240713/Top/Clips/Chester_20240713_HoldTrial138_TopView.avi\n",
      "Duration of video [s]:  8.04 , recorded with  25.0 fps!\n",
      "Overall # of frames:  201  found with (before cropping) frame dimensions:  1280 1331\n",
      "Starting to extract posture\n",
      "Cropping based on the x1 = 0 x2 = 1280 y1 = 0 y2 = 1024. You can adjust the cropping coordinates in the config.yaml file.\n"
     ]
    },
    {
     "name": "stderr",
     "output_type": "stream",
     "text": [
      "100%|██████████| 201/201 [00:08<00:00, 22.98it/s]\n"
     ]
    },
    {
     "name": "stdout",
     "output_type": "stream",
     "text": [
      "Saving results in D:\\YuLab\\Work\\GPS\\Video\\Chester\\GPS_13_ThreeFPHoldSRTProbe\\20240713\\Top\\Clips...\n",
      "Saving csv poses!\n",
      "Starting to analyze %  D:/YuLab/Work/GPS/Video/Chester/GPS_13_ThreeFPHoldSRTProbe/20240713/Top/Clips/Chester_20240713_HoldTrial139_TopView.avi\n",
      "Loading  D:/YuLab/Work/GPS/Video/Chester/GPS_13_ThreeFPHoldSRTProbe/20240713/Top/Clips/Chester_20240713_HoldTrial139_TopView.avi\n",
      "Duration of video [s]:  8.04 , recorded with  25.0 fps!\n",
      "Overall # of frames:  201  found with (before cropping) frame dimensions:  1280 1331\n",
      "Starting to extract posture\n",
      "Cropping based on the x1 = 0 x2 = 1280 y1 = 0 y2 = 1024. You can adjust the cropping coordinates in the config.yaml file.\n"
     ]
    },
    {
     "name": "stderr",
     "output_type": "stream",
     "text": [
      "100%|██████████| 201/201 [00:08<00:00, 23.10it/s]\n"
     ]
    },
    {
     "name": "stdout",
     "output_type": "stream",
     "text": [
      "Saving results in D:\\YuLab\\Work\\GPS\\Video\\Chester\\GPS_13_ThreeFPHoldSRTProbe\\20240713\\Top\\Clips...\n",
      "Saving csv poses!\n",
      "Starting to analyze %  D:/YuLab/Work/GPS/Video/Chester/GPS_13_ThreeFPHoldSRTProbe/20240713/Top/Clips/Chester_20240713_HoldTrial140_TopView.avi\n",
      "Loading  D:/YuLab/Work/GPS/Video/Chester/GPS_13_ThreeFPHoldSRTProbe/20240713/Top/Clips/Chester_20240713_HoldTrial140_TopView.avi\n",
      "Duration of video [s]:  8.04 , recorded with  25.0 fps!\n",
      "Overall # of frames:  201  found with (before cropping) frame dimensions:  1280 1331\n",
      "Starting to extract posture\n",
      "Cropping based on the x1 = 0 x2 = 1280 y1 = 0 y2 = 1024. You can adjust the cropping coordinates in the config.yaml file.\n"
     ]
    },
    {
     "name": "stderr",
     "output_type": "stream",
     "text": [
      "100%|██████████| 201/201 [00:08<00:00, 22.99it/s]\n"
     ]
    },
    {
     "name": "stdout",
     "output_type": "stream",
     "text": [
      "Saving results in D:\\YuLab\\Work\\GPS\\Video\\Chester\\GPS_13_ThreeFPHoldSRTProbe\\20240713\\Top\\Clips...\n",
      "Saving csv poses!\n",
      "Starting to analyze %  D:/YuLab/Work/GPS/Video/Chester/GPS_13_ThreeFPHoldSRTProbe/20240713/Top/Clips/Chester_20240713_HoldTrial141_TopView.avi\n",
      "Loading  D:/YuLab/Work/GPS/Video/Chester/GPS_13_ThreeFPHoldSRTProbe/20240713/Top/Clips/Chester_20240713_HoldTrial141_TopView.avi\n",
      "Duration of video [s]:  8.04 , recorded with  25.0 fps!\n",
      "Overall # of frames:  201  found with (before cropping) frame dimensions:  1280 1331\n",
      "Starting to extract posture\n",
      "Cropping based on the x1 = 0 x2 = 1280 y1 = 0 y2 = 1024. You can adjust the cropping coordinates in the config.yaml file.\n"
     ]
    },
    {
     "name": "stderr",
     "output_type": "stream",
     "text": [
      "100%|██████████| 201/201 [00:08<00:00, 23.07it/s]\n"
     ]
    },
    {
     "name": "stdout",
     "output_type": "stream",
     "text": [
      "Saving results in D:\\YuLab\\Work\\GPS\\Video\\Chester\\GPS_13_ThreeFPHoldSRTProbe\\20240713\\Top\\Clips...\n",
      "Saving csv poses!\n",
      "Starting to analyze %  D:/YuLab/Work/GPS/Video/Chester/GPS_13_ThreeFPHoldSRTProbe/20240713/Top/Clips/Chester_20240713_HoldTrial142_TopView.avi\n",
      "Loading  D:/YuLab/Work/GPS/Video/Chester/GPS_13_ThreeFPHoldSRTProbe/20240713/Top/Clips/Chester_20240713_HoldTrial142_TopView.avi\n",
      "Duration of video [s]:  8.04 , recorded with  25.0 fps!\n",
      "Overall # of frames:  201  found with (before cropping) frame dimensions:  1280 1331\n",
      "Starting to extract posture\n",
      "Cropping based on the x1 = 0 x2 = 1280 y1 = 0 y2 = 1024. You can adjust the cropping coordinates in the config.yaml file.\n"
     ]
    },
    {
     "name": "stderr",
     "output_type": "stream",
     "text": [
      "100%|██████████| 201/201 [00:08<00:00, 23.10it/s]\n"
     ]
    },
    {
     "name": "stdout",
     "output_type": "stream",
     "text": [
      "Saving results in D:\\YuLab\\Work\\GPS\\Video\\Chester\\GPS_13_ThreeFPHoldSRTProbe\\20240713\\Top\\Clips...\n",
      "Saving csv poses!\n",
      "Starting to analyze %  D:/YuLab/Work/GPS/Video/Chester/GPS_13_ThreeFPHoldSRTProbe/20240713/Top/Clips/Chester_20240713_HoldTrial143_TopView.avi\n",
      "Loading  D:/YuLab/Work/GPS/Video/Chester/GPS_13_ThreeFPHoldSRTProbe/20240713/Top/Clips/Chester_20240713_HoldTrial143_TopView.avi\n",
      "Duration of video [s]:  8.04 , recorded with  25.0 fps!\n",
      "Overall # of frames:  201  found with (before cropping) frame dimensions:  1280 1331\n",
      "Starting to extract posture\n",
      "Cropping based on the x1 = 0 x2 = 1280 y1 = 0 y2 = 1024. You can adjust the cropping coordinates in the config.yaml file.\n"
     ]
    },
    {
     "name": "stderr",
     "output_type": "stream",
     "text": [
      "100%|██████████| 201/201 [00:08<00:00, 23.09it/s]\n"
     ]
    },
    {
     "name": "stdout",
     "output_type": "stream",
     "text": [
      "Saving results in D:\\YuLab\\Work\\GPS\\Video\\Chester\\GPS_13_ThreeFPHoldSRTProbe\\20240713\\Top\\Clips...\n",
      "Saving csv poses!\n",
      "Starting to analyze %  D:/YuLab/Work/GPS/Video/Chester/GPS_13_ThreeFPHoldSRTProbe/20240713/Top/Clips/Chester_20240713_HoldTrial144_TopView.avi\n",
      "Loading  D:/YuLab/Work/GPS/Video/Chester/GPS_13_ThreeFPHoldSRTProbe/20240713/Top/Clips/Chester_20240713_HoldTrial144_TopView.avi\n",
      "Duration of video [s]:  8.04 , recorded with  25.0 fps!\n",
      "Overall # of frames:  201  found with (before cropping) frame dimensions:  1280 1331\n",
      "Starting to extract posture\n",
      "Cropping based on the x1 = 0 x2 = 1280 y1 = 0 y2 = 1024. You can adjust the cropping coordinates in the config.yaml file.\n"
     ]
    },
    {
     "name": "stderr",
     "output_type": "stream",
     "text": [
      "100%|██████████| 201/201 [00:08<00:00, 23.06it/s]\n"
     ]
    },
    {
     "name": "stdout",
     "output_type": "stream",
     "text": [
      "Saving results in D:\\YuLab\\Work\\GPS\\Video\\Chester\\GPS_13_ThreeFPHoldSRTProbe\\20240713\\Top\\Clips...\n",
      "Saving csv poses!\n",
      "Starting to analyze %  D:/YuLab/Work/GPS/Video/Chester/GPS_13_ThreeFPHoldSRTProbe/20240713/Top/Clips/Chester_20240713_HoldTrial145_TopView.avi\n",
      "Loading  D:/YuLab/Work/GPS/Video/Chester/GPS_13_ThreeFPHoldSRTProbe/20240713/Top/Clips/Chester_20240713_HoldTrial145_TopView.avi\n",
      "Duration of video [s]:  8.04 , recorded with  25.0 fps!\n",
      "Overall # of frames:  201  found with (before cropping) frame dimensions:  1280 1331\n",
      "Starting to extract posture\n",
      "Cropping based on the x1 = 0 x2 = 1280 y1 = 0 y2 = 1024. You can adjust the cropping coordinates in the config.yaml file.\n"
     ]
    },
    {
     "name": "stderr",
     "output_type": "stream",
     "text": [
      "100%|██████████| 201/201 [00:08<00:00, 23.08it/s]\n"
     ]
    },
    {
     "name": "stdout",
     "output_type": "stream",
     "text": [
      "Saving results in D:\\YuLab\\Work\\GPS\\Video\\Chester\\GPS_13_ThreeFPHoldSRTProbe\\20240713\\Top\\Clips...\n",
      "Saving csv poses!\n",
      "Starting to analyze %  D:/YuLab/Work/GPS/Video/Chester/GPS_13_ThreeFPHoldSRTProbe/20240713/Top/Clips/Chester_20240713_HoldTrial146_TopView.avi\n",
      "Loading  D:/YuLab/Work/GPS/Video/Chester/GPS_13_ThreeFPHoldSRTProbe/20240713/Top/Clips/Chester_20240713_HoldTrial146_TopView.avi\n",
      "Duration of video [s]:  8.04 , recorded with  25.0 fps!\n",
      "Overall # of frames:  201  found with (before cropping) frame dimensions:  1280 1331\n",
      "Starting to extract posture\n",
      "Cropping based on the x1 = 0 x2 = 1280 y1 = 0 y2 = 1024. You can adjust the cropping coordinates in the config.yaml file.\n"
     ]
    },
    {
     "name": "stderr",
     "output_type": "stream",
     "text": [
      "100%|██████████| 201/201 [00:08<00:00, 23.06it/s]\n"
     ]
    },
    {
     "name": "stdout",
     "output_type": "stream",
     "text": [
      "Saving results in D:\\YuLab\\Work\\GPS\\Video\\Chester\\GPS_13_ThreeFPHoldSRTProbe\\20240713\\Top\\Clips...\n",
      "Saving csv poses!\n",
      "Starting to analyze %  D:/YuLab/Work/GPS/Video/Chester/GPS_13_ThreeFPHoldSRTProbe/20240713/Top/Clips/Chester_20240713_HoldTrial147_TopView.avi\n",
      "Loading  D:/YuLab/Work/GPS/Video/Chester/GPS_13_ThreeFPHoldSRTProbe/20240713/Top/Clips/Chester_20240713_HoldTrial147_TopView.avi\n",
      "Duration of video [s]:  8.04 , recorded with  25.0 fps!\n",
      "Overall # of frames:  201  found with (before cropping) frame dimensions:  1280 1331\n",
      "Starting to extract posture\n",
      "Cropping based on the x1 = 0 x2 = 1280 y1 = 0 y2 = 1024. You can adjust the cropping coordinates in the config.yaml file.\n"
     ]
    },
    {
     "name": "stderr",
     "output_type": "stream",
     "text": [
      "100%|██████████| 201/201 [00:08<00:00, 23.09it/s]\n"
     ]
    },
    {
     "name": "stdout",
     "output_type": "stream",
     "text": [
      "Saving results in D:\\YuLab\\Work\\GPS\\Video\\Chester\\GPS_13_ThreeFPHoldSRTProbe\\20240713\\Top\\Clips...\n",
      "Saving csv poses!\n",
      "Starting to analyze %  D:/YuLab/Work/GPS/Video/Chester/GPS_13_ThreeFPHoldSRTProbe/20240713/Top/Clips/Chester_20240713_HoldTrial148_TopView.avi\n",
      "Loading  D:/YuLab/Work/GPS/Video/Chester/GPS_13_ThreeFPHoldSRTProbe/20240713/Top/Clips/Chester_20240713_HoldTrial148_TopView.avi\n",
      "Duration of video [s]:  8.04 , recorded with  25.0 fps!\n",
      "Overall # of frames:  201  found with (before cropping) frame dimensions:  1280 1331\n",
      "Starting to extract posture\n",
      "Cropping based on the x1 = 0 x2 = 1280 y1 = 0 y2 = 1024. You can adjust the cropping coordinates in the config.yaml file.\n"
     ]
    },
    {
     "name": "stderr",
     "output_type": "stream",
     "text": [
      "100%|██████████| 201/201 [00:08<00:00, 23.04it/s]\n"
     ]
    },
    {
     "name": "stdout",
     "output_type": "stream",
     "text": [
      "Saving results in D:\\YuLab\\Work\\GPS\\Video\\Chester\\GPS_13_ThreeFPHoldSRTProbe\\20240713\\Top\\Clips...\n",
      "Saving csv poses!\n",
      "Starting to analyze %  D:/YuLab/Work/GPS/Video/Chester/GPS_13_ThreeFPHoldSRTProbe/20240713/Top/Clips/Chester_20240713_HoldTrial149_TopView.avi\n",
      "Loading  D:/YuLab/Work/GPS/Video/Chester/GPS_13_ThreeFPHoldSRTProbe/20240713/Top/Clips/Chester_20240713_HoldTrial149_TopView.avi\n",
      "Duration of video [s]:  8.04 , recorded with  25.0 fps!\n",
      "Overall # of frames:  201  found with (before cropping) frame dimensions:  1280 1331\n",
      "Starting to extract posture\n",
      "Cropping based on the x1 = 0 x2 = 1280 y1 = 0 y2 = 1024. You can adjust the cropping coordinates in the config.yaml file.\n"
     ]
    },
    {
     "name": "stderr",
     "output_type": "stream",
     "text": [
      "100%|██████████| 201/201 [00:08<00:00, 23.08it/s]\n"
     ]
    },
    {
     "name": "stdout",
     "output_type": "stream",
     "text": [
      "Saving results in D:\\YuLab\\Work\\GPS\\Video\\Chester\\GPS_13_ThreeFPHoldSRTProbe\\20240713\\Top\\Clips...\n",
      "Saving csv poses!\n",
      "Starting to analyze %  D:/YuLab/Work/GPS/Video/Chester/GPS_13_ThreeFPHoldSRTProbe/20240713/Top/Clips/Chester_20240713_HoldTrial150_TopView.avi\n",
      "Loading  D:/YuLab/Work/GPS/Video/Chester/GPS_13_ThreeFPHoldSRTProbe/20240713/Top/Clips/Chester_20240713_HoldTrial150_TopView.avi\n",
      "Duration of video [s]:  8.04 , recorded with  25.0 fps!\n",
      "Overall # of frames:  201  found with (before cropping) frame dimensions:  1280 1331\n",
      "Starting to extract posture\n",
      "Cropping based on the x1 = 0 x2 = 1280 y1 = 0 y2 = 1024. You can adjust the cropping coordinates in the config.yaml file.\n"
     ]
    },
    {
     "name": "stderr",
     "output_type": "stream",
     "text": [
      "100%|██████████| 201/201 [00:08<00:00, 23.13it/s]\n"
     ]
    },
    {
     "name": "stdout",
     "output_type": "stream",
     "text": [
      "Saving results in D:\\YuLab\\Work\\GPS\\Video\\Chester\\GPS_13_ThreeFPHoldSRTProbe\\20240713\\Top\\Clips...\n",
      "Saving csv poses!\n",
      "Starting to analyze %  D:/YuLab/Work/GPS/Video/Chester/GPS_13_ThreeFPHoldSRTProbe/20240713/Top/Clips/Chester_20240713_HoldTrial151_TopView.avi\n",
      "Loading  D:/YuLab/Work/GPS/Video/Chester/GPS_13_ThreeFPHoldSRTProbe/20240713/Top/Clips/Chester_20240713_HoldTrial151_TopView.avi\n",
      "Duration of video [s]:  8.04 , recorded with  25.0 fps!\n",
      "Overall # of frames:  201  found with (before cropping) frame dimensions:  1280 1331\n",
      "Starting to extract posture\n",
      "Cropping based on the x1 = 0 x2 = 1280 y1 = 0 y2 = 1024. You can adjust the cropping coordinates in the config.yaml file.\n"
     ]
    },
    {
     "name": "stderr",
     "output_type": "stream",
     "text": [
      "100%|██████████| 201/201 [00:08<00:00, 23.09it/s]\n"
     ]
    },
    {
     "name": "stdout",
     "output_type": "stream",
     "text": [
      "Saving results in D:\\YuLab\\Work\\GPS\\Video\\Chester\\GPS_13_ThreeFPHoldSRTProbe\\20240713\\Top\\Clips...\n",
      "Saving csv poses!\n",
      "Starting to analyze %  D:/YuLab/Work/GPS/Video/Chester/GPS_13_ThreeFPHoldSRTProbe/20240713/Top/Clips/Chester_20240713_HoldTrial152_TopView.avi\n",
      "Loading  D:/YuLab/Work/GPS/Video/Chester/GPS_13_ThreeFPHoldSRTProbe/20240713/Top/Clips/Chester_20240713_HoldTrial152_TopView.avi\n",
      "Duration of video [s]:  8.04 , recorded with  25.0 fps!\n",
      "Overall # of frames:  201  found with (before cropping) frame dimensions:  1280 1331\n",
      "Starting to extract posture\n",
      "Cropping based on the x1 = 0 x2 = 1280 y1 = 0 y2 = 1024. You can adjust the cropping coordinates in the config.yaml file.\n"
     ]
    },
    {
     "name": "stderr",
     "output_type": "stream",
     "text": [
      "100%|██████████| 201/201 [00:08<00:00, 23.06it/s]\n"
     ]
    },
    {
     "name": "stdout",
     "output_type": "stream",
     "text": [
      "Saving results in D:\\YuLab\\Work\\GPS\\Video\\Chester\\GPS_13_ThreeFPHoldSRTProbe\\20240713\\Top\\Clips...\n",
      "Saving csv poses!\n",
      "Starting to analyze %  D:/YuLab/Work/GPS/Video/Chester/GPS_13_ThreeFPHoldSRTProbe/20240713/Top/Clips/Chester_20240713_HoldTrial153_TopView.avi\n",
      "Loading  D:/YuLab/Work/GPS/Video/Chester/GPS_13_ThreeFPHoldSRTProbe/20240713/Top/Clips/Chester_20240713_HoldTrial153_TopView.avi\n",
      "Duration of video [s]:  8.04 , recorded with  25.0 fps!\n",
      "Overall # of frames:  201  found with (before cropping) frame dimensions:  1280 1331\n",
      "Starting to extract posture\n",
      "Cropping based on the x1 = 0 x2 = 1280 y1 = 0 y2 = 1024. You can adjust the cropping coordinates in the config.yaml file.\n"
     ]
    },
    {
     "name": "stderr",
     "output_type": "stream",
     "text": [
      "100%|██████████| 201/201 [00:08<00:00, 23.07it/s]\n"
     ]
    },
    {
     "name": "stdout",
     "output_type": "stream",
     "text": [
      "Saving results in D:\\YuLab\\Work\\GPS\\Video\\Chester\\GPS_13_ThreeFPHoldSRTProbe\\20240713\\Top\\Clips...\n",
      "Saving csv poses!\n",
      "Starting to analyze %  D:/YuLab/Work/GPS/Video/Chester/GPS_13_ThreeFPHoldSRTProbe/20240713/Top/Clips/Chester_20240713_HoldTrial154_TopView.avi\n",
      "Loading  D:/YuLab/Work/GPS/Video/Chester/GPS_13_ThreeFPHoldSRTProbe/20240713/Top/Clips/Chester_20240713_HoldTrial154_TopView.avi\n",
      "Duration of video [s]:  8.04 , recorded with  25.0 fps!\n",
      "Overall # of frames:  201  found with (before cropping) frame dimensions:  1280 1331\n",
      "Starting to extract posture\n",
      "Cropping based on the x1 = 0 x2 = 1280 y1 = 0 y2 = 1024. You can adjust the cropping coordinates in the config.yaml file.\n"
     ]
    },
    {
     "name": "stderr",
     "output_type": "stream",
     "text": [
      "100%|██████████| 201/201 [00:08<00:00, 23.05it/s]\n"
     ]
    },
    {
     "name": "stdout",
     "output_type": "stream",
     "text": [
      "Saving results in D:\\YuLab\\Work\\GPS\\Video\\Chester\\GPS_13_ThreeFPHoldSRTProbe\\20240713\\Top\\Clips...\n",
      "Saving csv poses!\n",
      "Starting to analyze %  D:/YuLab/Work/GPS/Video/Chester/GPS_13_ThreeFPHoldSRTProbe/20240713/Top/Clips/Chester_20240713_HoldTrial155_TopView.avi\n",
      "Loading  D:/YuLab/Work/GPS/Video/Chester/GPS_13_ThreeFPHoldSRTProbe/20240713/Top/Clips/Chester_20240713_HoldTrial155_TopView.avi\n",
      "Duration of video [s]:  8.04 , recorded with  25.0 fps!\n",
      "Overall # of frames:  201  found with (before cropping) frame dimensions:  1280 1331\n",
      "Starting to extract posture\n",
      "Cropping based on the x1 = 0 x2 = 1280 y1 = 0 y2 = 1024. You can adjust the cropping coordinates in the config.yaml file.\n"
     ]
    },
    {
     "name": "stderr",
     "output_type": "stream",
     "text": [
      "100%|██████████| 201/201 [00:08<00:00, 23.05it/s]\n"
     ]
    },
    {
     "name": "stdout",
     "output_type": "stream",
     "text": [
      "Saving results in D:\\YuLab\\Work\\GPS\\Video\\Chester\\GPS_13_ThreeFPHoldSRTProbe\\20240713\\Top\\Clips...\n",
      "Saving csv poses!\n",
      "Starting to analyze %  D:/YuLab/Work/GPS/Video/Chester/GPS_13_ThreeFPHoldSRTProbe/20240713/Top/Clips/Chester_20240713_HoldTrial156_TopView.avi\n",
      "Loading  D:/YuLab/Work/GPS/Video/Chester/GPS_13_ThreeFPHoldSRTProbe/20240713/Top/Clips/Chester_20240713_HoldTrial156_TopView.avi\n",
      "Duration of video [s]:  8.04 , recorded with  25.0 fps!\n",
      "Overall # of frames:  201  found with (before cropping) frame dimensions:  1280 1331\n",
      "Starting to extract posture\n",
      "Cropping based on the x1 = 0 x2 = 1280 y1 = 0 y2 = 1024. You can adjust the cropping coordinates in the config.yaml file.\n"
     ]
    },
    {
     "name": "stderr",
     "output_type": "stream",
     "text": [
      "100%|██████████| 201/201 [00:08<00:00, 23.09it/s]\n"
     ]
    },
    {
     "name": "stdout",
     "output_type": "stream",
     "text": [
      "Saving results in D:\\YuLab\\Work\\GPS\\Video\\Chester\\GPS_13_ThreeFPHoldSRTProbe\\20240713\\Top\\Clips...\n",
      "Saving csv poses!\n",
      "Starting to analyze %  D:/YuLab/Work/GPS/Video/Chester/GPS_13_ThreeFPHoldSRTProbe/20240713/Top/Clips/Chester_20240713_HoldTrial157_TopView.avi\n",
      "Loading  D:/YuLab/Work/GPS/Video/Chester/GPS_13_ThreeFPHoldSRTProbe/20240713/Top/Clips/Chester_20240713_HoldTrial157_TopView.avi\n",
      "Duration of video [s]:  8.04 , recorded with  25.0 fps!\n",
      "Overall # of frames:  201  found with (before cropping) frame dimensions:  1280 1331\n",
      "Starting to extract posture\n",
      "Cropping based on the x1 = 0 x2 = 1280 y1 = 0 y2 = 1024. You can adjust the cropping coordinates in the config.yaml file.\n"
     ]
    },
    {
     "name": "stderr",
     "output_type": "stream",
     "text": [
      "100%|██████████| 201/201 [00:08<00:00, 23.08it/s]\n"
     ]
    },
    {
     "name": "stdout",
     "output_type": "stream",
     "text": [
      "Saving results in D:\\YuLab\\Work\\GPS\\Video\\Chester\\GPS_13_ThreeFPHoldSRTProbe\\20240713\\Top\\Clips...\n",
      "Saving csv poses!\n",
      "Starting to analyze %  D:/YuLab/Work/GPS/Video/Chester/GPS_13_ThreeFPHoldSRTProbe/20240713/Top/Clips/Chester_20240713_HoldTrial158_TopView.avi\n",
      "Loading  D:/YuLab/Work/GPS/Video/Chester/GPS_13_ThreeFPHoldSRTProbe/20240713/Top/Clips/Chester_20240713_HoldTrial158_TopView.avi\n",
      "Duration of video [s]:  8.04 , recorded with  25.0 fps!\n",
      "Overall # of frames:  201  found with (before cropping) frame dimensions:  1280 1331\n",
      "Starting to extract posture\n",
      "Cropping based on the x1 = 0 x2 = 1280 y1 = 0 y2 = 1024. You can adjust the cropping coordinates in the config.yaml file.\n"
     ]
    },
    {
     "name": "stderr",
     "output_type": "stream",
     "text": [
      "100%|██████████| 201/201 [00:08<00:00, 23.03it/s]\n"
     ]
    },
    {
     "name": "stdout",
     "output_type": "stream",
     "text": [
      "Saving results in D:\\YuLab\\Work\\GPS\\Video\\Chester\\GPS_13_ThreeFPHoldSRTProbe\\20240713\\Top\\Clips...\n",
      "Saving csv poses!\n",
      "Starting to analyze %  D:/YuLab/Work/GPS/Video/Chester/GPS_13_ThreeFPHoldSRTProbe/20240713/Top/Clips/Chester_20240713_HoldTrial159_TopView.avi\n",
      "Loading  D:/YuLab/Work/GPS/Video/Chester/GPS_13_ThreeFPHoldSRTProbe/20240713/Top/Clips/Chester_20240713_HoldTrial159_TopView.avi\n",
      "Duration of video [s]:  8.04 , recorded with  25.0 fps!\n",
      "Overall # of frames:  201  found with (before cropping) frame dimensions:  1280 1331\n",
      "Starting to extract posture\n",
      "Cropping based on the x1 = 0 x2 = 1280 y1 = 0 y2 = 1024. You can adjust the cropping coordinates in the config.yaml file.\n"
     ]
    },
    {
     "name": "stderr",
     "output_type": "stream",
     "text": [
      "100%|██████████| 201/201 [00:08<00:00, 23.25it/s]\n"
     ]
    },
    {
     "name": "stdout",
     "output_type": "stream",
     "text": [
      "Saving results in D:\\YuLab\\Work\\GPS\\Video\\Chester\\GPS_13_ThreeFPHoldSRTProbe\\20240713\\Top\\Clips...\n",
      "Saving csv poses!\n",
      "Starting to analyze %  D:/YuLab/Work/GPS/Video/Chester/GPS_13_ThreeFPHoldSRTProbe/20240713/Top/Clips/Chester_20240713_HoldTrial160_TopView.avi\n",
      "Loading  D:/YuLab/Work/GPS/Video/Chester/GPS_13_ThreeFPHoldSRTProbe/20240713/Top/Clips/Chester_20240713_HoldTrial160_TopView.avi\n",
      "Duration of video [s]:  8.04 , recorded with  25.0 fps!\n",
      "Overall # of frames:  201  found with (before cropping) frame dimensions:  1280 1331\n",
      "Starting to extract posture\n",
      "Cropping based on the x1 = 0 x2 = 1280 y1 = 0 y2 = 1024. You can adjust the cropping coordinates in the config.yaml file.\n"
     ]
    },
    {
     "name": "stderr",
     "output_type": "stream",
     "text": [
      "100%|██████████| 201/201 [00:08<00:00, 23.30it/s]\n"
     ]
    },
    {
     "name": "stdout",
     "output_type": "stream",
     "text": [
      "Saving results in D:\\YuLab\\Work\\GPS\\Video\\Chester\\GPS_13_ThreeFPHoldSRTProbe\\20240713\\Top\\Clips...\n",
      "Saving csv poses!\n",
      "Starting to analyze %  D:/YuLab/Work/GPS/Video/Chester/GPS_13_ThreeFPHoldSRTProbe/20240713/Top/Clips/Chester_20240713_HoldTrial161_TopView.avi\n",
      "Loading  D:/YuLab/Work/GPS/Video/Chester/GPS_13_ThreeFPHoldSRTProbe/20240713/Top/Clips/Chester_20240713_HoldTrial161_TopView.avi\n",
      "Duration of video [s]:  8.04 , recorded with  25.0 fps!\n",
      "Overall # of frames:  201  found with (before cropping) frame dimensions:  1280 1331\n",
      "Starting to extract posture\n",
      "Cropping based on the x1 = 0 x2 = 1280 y1 = 0 y2 = 1024. You can adjust the cropping coordinates in the config.yaml file.\n"
     ]
    },
    {
     "name": "stderr",
     "output_type": "stream",
     "text": [
      "100%|██████████| 201/201 [00:08<00:00, 23.31it/s]\n"
     ]
    },
    {
     "name": "stdout",
     "output_type": "stream",
     "text": [
      "Saving results in D:\\YuLab\\Work\\GPS\\Video\\Chester\\GPS_13_ThreeFPHoldSRTProbe\\20240713\\Top\\Clips...\n",
      "Saving csv poses!\n",
      "Starting to analyze %  D:/YuLab/Work/GPS/Video/Chester/GPS_13_ThreeFPHoldSRTProbe/20240713/Top/Clips/Chester_20240713_HoldTrial162_TopView.avi\n",
      "Loading  D:/YuLab/Work/GPS/Video/Chester/GPS_13_ThreeFPHoldSRTProbe/20240713/Top/Clips/Chester_20240713_HoldTrial162_TopView.avi\n",
      "Duration of video [s]:  8.04 , recorded with  25.0 fps!\n",
      "Overall # of frames:  201  found with (before cropping) frame dimensions:  1280 1331\n",
      "Starting to extract posture\n",
      "Cropping based on the x1 = 0 x2 = 1280 y1 = 0 y2 = 1024. You can adjust the cropping coordinates in the config.yaml file.\n"
     ]
    },
    {
     "name": "stderr",
     "output_type": "stream",
     "text": [
      "100%|██████████| 201/201 [00:09<00:00, 22.27it/s]\n"
     ]
    },
    {
     "name": "stdout",
     "output_type": "stream",
     "text": [
      "Saving results in D:\\YuLab\\Work\\GPS\\Video\\Chester\\GPS_13_ThreeFPHoldSRTProbe\\20240713\\Top\\Clips...\n",
      "Saving csv poses!\n",
      "Starting to analyze %  D:/YuLab/Work/GPS/Video/Chester/GPS_13_ThreeFPHoldSRTProbe/20240713/Top/Clips/Chester_20240713_HoldTrial163_TopView.avi\n",
      "Loading  D:/YuLab/Work/GPS/Video/Chester/GPS_13_ThreeFPHoldSRTProbe/20240713/Top/Clips/Chester_20240713_HoldTrial163_TopView.avi\n",
      "Duration of video [s]:  8.04 , recorded with  25.0 fps!\n",
      "Overall # of frames:  201  found with (before cropping) frame dimensions:  1280 1331\n",
      "Starting to extract posture\n",
      "Cropping based on the x1 = 0 x2 = 1280 y1 = 0 y2 = 1024. You can adjust the cropping coordinates in the config.yaml file.\n"
     ]
    },
    {
     "name": "stderr",
     "output_type": "stream",
     "text": [
      "100%|██████████| 201/201 [00:08<00:00, 23.19it/s]\n"
     ]
    },
    {
     "name": "stdout",
     "output_type": "stream",
     "text": [
      "Saving results in D:\\YuLab\\Work\\GPS\\Video\\Chester\\GPS_13_ThreeFPHoldSRTProbe\\20240713\\Top\\Clips...\n",
      "Saving csv poses!\n",
      "Starting to analyze %  D:/YuLab/Work/GPS/Video/Chester/GPS_13_ThreeFPHoldSRTProbe/20240713/Top/Clips/Chester_20240713_HoldTrial164_TopView.avi\n",
      "Loading  D:/YuLab/Work/GPS/Video/Chester/GPS_13_ThreeFPHoldSRTProbe/20240713/Top/Clips/Chester_20240713_HoldTrial164_TopView.avi\n",
      "Duration of video [s]:  8.04 , recorded with  25.0 fps!\n",
      "Overall # of frames:  201  found with (before cropping) frame dimensions:  1280 1331\n",
      "Starting to extract posture\n",
      "Cropping based on the x1 = 0 x2 = 1280 y1 = 0 y2 = 1024. You can adjust the cropping coordinates in the config.yaml file.\n"
     ]
    },
    {
     "name": "stderr",
     "output_type": "stream",
     "text": [
      "100%|██████████| 201/201 [00:08<00:00, 23.29it/s]\n"
     ]
    },
    {
     "name": "stdout",
     "output_type": "stream",
     "text": [
      "Saving results in D:\\YuLab\\Work\\GPS\\Video\\Chester\\GPS_13_ThreeFPHoldSRTProbe\\20240713\\Top\\Clips...\n",
      "Saving csv poses!\n",
      "Starting to analyze %  D:/YuLab/Work/GPS/Video/Chester/GPS_13_ThreeFPHoldSRTProbe/20240713/Top/Clips/Chester_20240713_HoldTrial165_TopView.avi\n",
      "Loading  D:/YuLab/Work/GPS/Video/Chester/GPS_13_ThreeFPHoldSRTProbe/20240713/Top/Clips/Chester_20240713_HoldTrial165_TopView.avi\n",
      "Duration of video [s]:  8.04 , recorded with  25.0 fps!\n",
      "Overall # of frames:  201  found with (before cropping) frame dimensions:  1280 1331\n",
      "Starting to extract posture\n",
      "Cropping based on the x1 = 0 x2 = 1280 y1 = 0 y2 = 1024. You can adjust the cropping coordinates in the config.yaml file.\n"
     ]
    },
    {
     "name": "stderr",
     "output_type": "stream",
     "text": [
      "100%|██████████| 201/201 [00:08<00:00, 23.26it/s]\n"
     ]
    },
    {
     "name": "stdout",
     "output_type": "stream",
     "text": [
      "Saving results in D:\\YuLab\\Work\\GPS\\Video\\Chester\\GPS_13_ThreeFPHoldSRTProbe\\20240713\\Top\\Clips...\n",
      "Saving csv poses!\n",
      "Starting to analyze %  D:/YuLab/Work/GPS/Video/Chester/GPS_13_ThreeFPHoldSRTProbe/20240713/Top/Clips/Chester_20240713_HoldTrial166_TopView.avi\n",
      "Loading  D:/YuLab/Work/GPS/Video/Chester/GPS_13_ThreeFPHoldSRTProbe/20240713/Top/Clips/Chester_20240713_HoldTrial166_TopView.avi\n",
      "Duration of video [s]:  8.04 , recorded with  25.0 fps!\n",
      "Overall # of frames:  201  found with (before cropping) frame dimensions:  1280 1331\n",
      "Starting to extract posture\n",
      "Cropping based on the x1 = 0 x2 = 1280 y1 = 0 y2 = 1024. You can adjust the cropping coordinates in the config.yaml file.\n"
     ]
    },
    {
     "name": "stderr",
     "output_type": "stream",
     "text": [
      "100%|██████████| 201/201 [00:08<00:00, 23.11it/s]\n"
     ]
    },
    {
     "name": "stdout",
     "output_type": "stream",
     "text": [
      "Saving results in D:\\YuLab\\Work\\GPS\\Video\\Chester\\GPS_13_ThreeFPHoldSRTProbe\\20240713\\Top\\Clips...\n",
      "Saving csv poses!\n",
      "Starting to analyze %  D:/YuLab/Work/GPS/Video/Chester/GPS_13_ThreeFPHoldSRTProbe/20240713/Top/Clips/Chester_20240713_HoldTrial167_TopView.avi\n",
      "Loading  D:/YuLab/Work/GPS/Video/Chester/GPS_13_ThreeFPHoldSRTProbe/20240713/Top/Clips/Chester_20240713_HoldTrial167_TopView.avi\n",
      "Duration of video [s]:  8.04 , recorded with  25.0 fps!\n",
      "Overall # of frames:  201  found with (before cropping) frame dimensions:  1280 1331\n",
      "Starting to extract posture\n",
      "Cropping based on the x1 = 0 x2 = 1280 y1 = 0 y2 = 1024. You can adjust the cropping coordinates in the config.yaml file.\n"
     ]
    },
    {
     "name": "stderr",
     "output_type": "stream",
     "text": [
      "100%|██████████| 201/201 [00:08<00:00, 23.08it/s]\n"
     ]
    },
    {
     "name": "stdout",
     "output_type": "stream",
     "text": [
      "Saving results in D:\\YuLab\\Work\\GPS\\Video\\Chester\\GPS_13_ThreeFPHoldSRTProbe\\20240713\\Top\\Clips...\n",
      "Saving csv poses!\n",
      "Starting to analyze %  D:/YuLab/Work/GPS/Video/Chester/GPS_13_ThreeFPHoldSRTProbe/20240713/Top/Clips/Chester_20240713_HoldTrial168_TopView.avi\n",
      "Loading  D:/YuLab/Work/GPS/Video/Chester/GPS_13_ThreeFPHoldSRTProbe/20240713/Top/Clips/Chester_20240713_HoldTrial168_TopView.avi\n",
      "Duration of video [s]:  8.04 , recorded with  25.0 fps!\n",
      "Overall # of frames:  201  found with (before cropping) frame dimensions:  1280 1331\n",
      "Starting to extract posture\n",
      "Cropping based on the x1 = 0 x2 = 1280 y1 = 0 y2 = 1024. You can adjust the cropping coordinates in the config.yaml file.\n"
     ]
    },
    {
     "name": "stderr",
     "output_type": "stream",
     "text": [
      "100%|██████████| 201/201 [00:08<00:00, 23.04it/s]\n"
     ]
    },
    {
     "name": "stdout",
     "output_type": "stream",
     "text": [
      "Saving results in D:\\YuLab\\Work\\GPS\\Video\\Chester\\GPS_13_ThreeFPHoldSRTProbe\\20240713\\Top\\Clips...\n",
      "Saving csv poses!\n",
      "Starting to analyze %  D:/YuLab/Work/GPS/Video/Chester/GPS_13_ThreeFPHoldSRTProbe/20240713/Top/Clips/Chester_20240713_HoldTrial169_TopView.avi\n",
      "Loading  D:/YuLab/Work/GPS/Video/Chester/GPS_13_ThreeFPHoldSRTProbe/20240713/Top/Clips/Chester_20240713_HoldTrial169_TopView.avi\n",
      "Duration of video [s]:  8.04 , recorded with  25.0 fps!\n",
      "Overall # of frames:  201  found with (before cropping) frame dimensions:  1280 1331\n",
      "Starting to extract posture\n",
      "Cropping based on the x1 = 0 x2 = 1280 y1 = 0 y2 = 1024. You can adjust the cropping coordinates in the config.yaml file.\n"
     ]
    },
    {
     "name": "stderr",
     "output_type": "stream",
     "text": [
      "100%|██████████| 201/201 [00:08<00:00, 23.13it/s]\n"
     ]
    },
    {
     "name": "stdout",
     "output_type": "stream",
     "text": [
      "Saving results in D:\\YuLab\\Work\\GPS\\Video\\Chester\\GPS_13_ThreeFPHoldSRTProbe\\20240713\\Top\\Clips...\n",
      "Saving csv poses!\n",
      "Starting to analyze %  D:/YuLab/Work/GPS/Video/Chester/GPS_13_ThreeFPHoldSRTProbe/20240713/Top/Clips/Chester_20240713_HoldTrial170_TopView.avi\n",
      "Loading  D:/YuLab/Work/GPS/Video/Chester/GPS_13_ThreeFPHoldSRTProbe/20240713/Top/Clips/Chester_20240713_HoldTrial170_TopView.avi\n",
      "Duration of video [s]:  8.04 , recorded with  25.0 fps!\n",
      "Overall # of frames:  201  found with (before cropping) frame dimensions:  1280 1331\n",
      "Starting to extract posture\n",
      "Cropping based on the x1 = 0 x2 = 1280 y1 = 0 y2 = 1024. You can adjust the cropping coordinates in the config.yaml file.\n"
     ]
    },
    {
     "name": "stderr",
     "output_type": "stream",
     "text": [
      "100%|██████████| 201/201 [00:08<00:00, 23.20it/s]\n"
     ]
    },
    {
     "name": "stdout",
     "output_type": "stream",
     "text": [
      "Saving results in D:\\YuLab\\Work\\GPS\\Video\\Chester\\GPS_13_ThreeFPHoldSRTProbe\\20240713\\Top\\Clips...\n",
      "Saving csv poses!\n",
      "Starting to analyze %  D:/YuLab/Work/GPS/Video/Chester/GPS_13_ThreeFPHoldSRTProbe/20240713/Top/Clips/Chester_20240713_HoldTrial171_TopView.avi\n",
      "Loading  D:/YuLab/Work/GPS/Video/Chester/GPS_13_ThreeFPHoldSRTProbe/20240713/Top/Clips/Chester_20240713_HoldTrial171_TopView.avi\n",
      "Duration of video [s]:  8.04 , recorded with  25.0 fps!\n",
      "Overall # of frames:  201  found with (before cropping) frame dimensions:  1280 1331\n",
      "Starting to extract posture\n",
      "Cropping based on the x1 = 0 x2 = 1280 y1 = 0 y2 = 1024. You can adjust the cropping coordinates in the config.yaml file.\n"
     ]
    },
    {
     "name": "stderr",
     "output_type": "stream",
     "text": [
      "100%|██████████| 201/201 [00:08<00:00, 23.14it/s]\n"
     ]
    },
    {
     "name": "stdout",
     "output_type": "stream",
     "text": [
      "Saving results in D:\\YuLab\\Work\\GPS\\Video\\Chester\\GPS_13_ThreeFPHoldSRTProbe\\20240713\\Top\\Clips...\n",
      "Saving csv poses!\n",
      "Starting to analyze %  D:/YuLab/Work/GPS/Video/Chester/GPS_13_ThreeFPHoldSRTProbe/20240713/Top/Clips/Chester_20240713_HoldTrial172_TopView.avi\n",
      "Loading  D:/YuLab/Work/GPS/Video/Chester/GPS_13_ThreeFPHoldSRTProbe/20240713/Top/Clips/Chester_20240713_HoldTrial172_TopView.avi\n",
      "Duration of video [s]:  8.04 , recorded with  25.0 fps!\n",
      "Overall # of frames:  201  found with (before cropping) frame dimensions:  1280 1331\n",
      "Starting to extract posture\n",
      "Cropping based on the x1 = 0 x2 = 1280 y1 = 0 y2 = 1024. You can adjust the cropping coordinates in the config.yaml file.\n"
     ]
    },
    {
     "name": "stderr",
     "output_type": "stream",
     "text": [
      "100%|██████████| 201/201 [00:08<00:00, 23.10it/s]\n"
     ]
    },
    {
     "name": "stdout",
     "output_type": "stream",
     "text": [
      "Saving results in D:\\YuLab\\Work\\GPS\\Video\\Chester\\GPS_13_ThreeFPHoldSRTProbe\\20240713\\Top\\Clips...\n",
      "Saving csv poses!\n",
      "Starting to analyze %  D:/YuLab/Work/GPS/Video/Chester/GPS_13_ThreeFPHoldSRTProbe/20240713/Top/Clips/Chester_20240713_HoldTrial173_TopView.avi\n",
      "Loading  D:/YuLab/Work/GPS/Video/Chester/GPS_13_ThreeFPHoldSRTProbe/20240713/Top/Clips/Chester_20240713_HoldTrial173_TopView.avi\n",
      "Duration of video [s]:  8.04 , recorded with  25.0 fps!\n",
      "Overall # of frames:  201  found with (before cropping) frame dimensions:  1280 1331\n",
      "Starting to extract posture\n",
      "Cropping based on the x1 = 0 x2 = 1280 y1 = 0 y2 = 1024. You can adjust the cropping coordinates in the config.yaml file.\n"
     ]
    },
    {
     "name": "stderr",
     "output_type": "stream",
     "text": [
      "100%|██████████| 201/201 [00:08<00:00, 23.07it/s]\n"
     ]
    },
    {
     "name": "stdout",
     "output_type": "stream",
     "text": [
      "Saving results in D:\\YuLab\\Work\\GPS\\Video\\Chester\\GPS_13_ThreeFPHoldSRTProbe\\20240713\\Top\\Clips...\n",
      "Saving csv poses!\n",
      "Starting to analyze %  D:/YuLab/Work/GPS/Video/Chester/GPS_13_ThreeFPHoldSRTProbe/20240713/Top/Clips/Chester_20240713_HoldTrial174_TopView.avi\n",
      "Loading  D:/YuLab/Work/GPS/Video/Chester/GPS_13_ThreeFPHoldSRTProbe/20240713/Top/Clips/Chester_20240713_HoldTrial174_TopView.avi\n",
      "Duration of video [s]:  8.04 , recorded with  25.0 fps!\n",
      "Overall # of frames:  201  found with (before cropping) frame dimensions:  1280 1331\n",
      "Starting to extract posture\n",
      "Cropping based on the x1 = 0 x2 = 1280 y1 = 0 y2 = 1024. You can adjust the cropping coordinates in the config.yaml file.\n"
     ]
    },
    {
     "name": "stderr",
     "output_type": "stream",
     "text": [
      "100%|██████████| 201/201 [00:08<00:00, 23.04it/s]\n"
     ]
    },
    {
     "name": "stdout",
     "output_type": "stream",
     "text": [
      "Saving results in D:\\YuLab\\Work\\GPS\\Video\\Chester\\GPS_13_ThreeFPHoldSRTProbe\\20240713\\Top\\Clips...\n",
      "Saving csv poses!\n",
      "Starting to analyze %  D:/YuLab/Work/GPS/Video/Chester/GPS_13_ThreeFPHoldSRTProbe/20240713/Top/Clips/Chester_20240713_HoldTrial175_TopView.avi\n",
      "Loading  D:/YuLab/Work/GPS/Video/Chester/GPS_13_ThreeFPHoldSRTProbe/20240713/Top/Clips/Chester_20240713_HoldTrial175_TopView.avi\n",
      "Duration of video [s]:  8.04 , recorded with  25.0 fps!\n",
      "Overall # of frames:  201  found with (before cropping) frame dimensions:  1280 1331\n",
      "Starting to extract posture\n",
      "Cropping based on the x1 = 0 x2 = 1280 y1 = 0 y2 = 1024. You can adjust the cropping coordinates in the config.yaml file.\n"
     ]
    },
    {
     "name": "stderr",
     "output_type": "stream",
     "text": [
      "100%|██████████| 201/201 [00:08<00:00, 22.96it/s]\n"
     ]
    },
    {
     "name": "stdout",
     "output_type": "stream",
     "text": [
      "Saving results in D:\\YuLab\\Work\\GPS\\Video\\Chester\\GPS_13_ThreeFPHoldSRTProbe\\20240713\\Top\\Clips...\n",
      "Saving csv poses!\n",
      "Starting to analyze %  D:/YuLab/Work/GPS/Video/Chester/GPS_13_ThreeFPHoldSRTProbe/20240713/Top/Clips/Chester_20240713_HoldTrial176_TopView.avi\n",
      "Loading  D:/YuLab/Work/GPS/Video/Chester/GPS_13_ThreeFPHoldSRTProbe/20240713/Top/Clips/Chester_20240713_HoldTrial176_TopView.avi\n",
      "Duration of video [s]:  8.04 , recorded with  25.0 fps!\n",
      "Overall # of frames:  201  found with (before cropping) frame dimensions:  1280 1331\n",
      "Starting to extract posture\n",
      "Cropping based on the x1 = 0 x2 = 1280 y1 = 0 y2 = 1024. You can adjust the cropping coordinates in the config.yaml file.\n"
     ]
    },
    {
     "name": "stderr",
     "output_type": "stream",
     "text": [
      "100%|██████████| 201/201 [00:08<00:00, 23.02it/s]\n"
     ]
    },
    {
     "name": "stdout",
     "output_type": "stream",
     "text": [
      "Saving results in D:\\YuLab\\Work\\GPS\\Video\\Chester\\GPS_13_ThreeFPHoldSRTProbe\\20240713\\Top\\Clips...\n",
      "Saving csv poses!\n",
      "Starting to analyze %  D:/YuLab/Work/GPS/Video/Chester/GPS_13_ThreeFPHoldSRTProbe/20240713/Top/Clips/Chester_20240713_HoldTrial177_TopView.avi\n",
      "Loading  D:/YuLab/Work/GPS/Video/Chester/GPS_13_ThreeFPHoldSRTProbe/20240713/Top/Clips/Chester_20240713_HoldTrial177_TopView.avi\n",
      "Duration of video [s]:  8.04 , recorded with  25.0 fps!\n",
      "Overall # of frames:  201  found with (before cropping) frame dimensions:  1280 1331\n",
      "Starting to extract posture\n",
      "Cropping based on the x1 = 0 x2 = 1280 y1 = 0 y2 = 1024. You can adjust the cropping coordinates in the config.yaml file.\n"
     ]
    },
    {
     "name": "stderr",
     "output_type": "stream",
     "text": [
      "100%|██████████| 201/201 [00:08<00:00, 22.94it/s]\n"
     ]
    },
    {
     "name": "stdout",
     "output_type": "stream",
     "text": [
      "Saving results in D:\\YuLab\\Work\\GPS\\Video\\Chester\\GPS_13_ThreeFPHoldSRTProbe\\20240713\\Top\\Clips...\n",
      "Saving csv poses!\n",
      "Starting to analyze %  D:/YuLab/Work/GPS/Video/Chester/GPS_13_ThreeFPHoldSRTProbe/20240713/Top/Clips/Chester_20240713_HoldTrial178_TopView.avi\n",
      "Loading  D:/YuLab/Work/GPS/Video/Chester/GPS_13_ThreeFPHoldSRTProbe/20240713/Top/Clips/Chester_20240713_HoldTrial178_TopView.avi\n",
      "Duration of video [s]:  8.04 , recorded with  25.0 fps!\n",
      "Overall # of frames:  201  found with (before cropping) frame dimensions:  1280 1331\n",
      "Starting to extract posture\n",
      "Cropping based on the x1 = 0 x2 = 1280 y1 = 0 y2 = 1024. You can adjust the cropping coordinates in the config.yaml file.\n"
     ]
    },
    {
     "name": "stderr",
     "output_type": "stream",
     "text": [
      "100%|██████████| 201/201 [00:08<00:00, 23.06it/s]\n"
     ]
    },
    {
     "name": "stdout",
     "output_type": "stream",
     "text": [
      "Saving results in D:\\YuLab\\Work\\GPS\\Video\\Chester\\GPS_13_ThreeFPHoldSRTProbe\\20240713\\Top\\Clips...\n",
      "Saving csv poses!\n",
      "Starting to analyze %  D:/YuLab/Work/GPS/Video/Chester/GPS_13_ThreeFPHoldSRTProbe/20240713/Top/Clips/Chester_20240713_HoldTrial179_TopView.avi\n",
      "Loading  D:/YuLab/Work/GPS/Video/Chester/GPS_13_ThreeFPHoldSRTProbe/20240713/Top/Clips/Chester_20240713_HoldTrial179_TopView.avi\n",
      "Duration of video [s]:  8.04 , recorded with  25.0 fps!\n",
      "Overall # of frames:  201  found with (before cropping) frame dimensions:  1280 1331\n",
      "Starting to extract posture\n",
      "Cropping based on the x1 = 0 x2 = 1280 y1 = 0 y2 = 1024. You can adjust the cropping coordinates in the config.yaml file.\n"
     ]
    },
    {
     "name": "stderr",
     "output_type": "stream",
     "text": [
      "100%|██████████| 201/201 [00:08<00:00, 23.06it/s]\n"
     ]
    },
    {
     "name": "stdout",
     "output_type": "stream",
     "text": [
      "Saving results in D:\\YuLab\\Work\\GPS\\Video\\Chester\\GPS_13_ThreeFPHoldSRTProbe\\20240713\\Top\\Clips...\n",
      "Saving csv poses!\n",
      "Starting to analyze %  D:/YuLab/Work/GPS/Video/Chester/GPS_13_ThreeFPHoldSRTProbe/20240713/Top/Clips/Chester_20240713_HoldTrial180_TopView.avi\n",
      "Loading  D:/YuLab/Work/GPS/Video/Chester/GPS_13_ThreeFPHoldSRTProbe/20240713/Top/Clips/Chester_20240713_HoldTrial180_TopView.avi\n",
      "Duration of video [s]:  8.04 , recorded with  25.0 fps!\n",
      "Overall # of frames:  201  found with (before cropping) frame dimensions:  1280 1331\n",
      "Starting to extract posture\n",
      "Cropping based on the x1 = 0 x2 = 1280 y1 = 0 y2 = 1024. You can adjust the cropping coordinates in the config.yaml file.\n"
     ]
    },
    {
     "name": "stderr",
     "output_type": "stream",
     "text": [
      "100%|██████████| 201/201 [00:08<00:00, 23.03it/s]\n"
     ]
    },
    {
     "name": "stdout",
     "output_type": "stream",
     "text": [
      "Saving results in D:\\YuLab\\Work\\GPS\\Video\\Chester\\GPS_13_ThreeFPHoldSRTProbe\\20240713\\Top\\Clips...\n",
      "Saving csv poses!\n",
      "Starting to analyze %  D:/YuLab/Work/GPS/Video/Chester/GPS_13_ThreeFPHoldSRTProbe/20240713/Top/Clips/Chester_20240713_HoldTrial181_TopView.avi\n",
      "Loading  D:/YuLab/Work/GPS/Video/Chester/GPS_13_ThreeFPHoldSRTProbe/20240713/Top/Clips/Chester_20240713_HoldTrial181_TopView.avi\n",
      "Duration of video [s]:  8.04 , recorded with  25.0 fps!\n",
      "Overall # of frames:  201  found with (before cropping) frame dimensions:  1280 1331\n",
      "Starting to extract posture\n",
      "Cropping based on the x1 = 0 x2 = 1280 y1 = 0 y2 = 1024. You can adjust the cropping coordinates in the config.yaml file.\n"
     ]
    },
    {
     "name": "stderr",
     "output_type": "stream",
     "text": [
      "100%|██████████| 201/201 [00:08<00:00, 23.20it/s]\n"
     ]
    },
    {
     "name": "stdout",
     "output_type": "stream",
     "text": [
      "Saving results in D:\\YuLab\\Work\\GPS\\Video\\Chester\\GPS_13_ThreeFPHoldSRTProbe\\20240713\\Top\\Clips...\n",
      "Saving csv poses!\n",
      "Starting to analyze %  D:/YuLab/Work/GPS/Video/Chester/GPS_13_ThreeFPHoldSRTProbe/20240713/Top/Clips/Chester_20240713_HoldTrial182_TopView.avi\n",
      "Loading  D:/YuLab/Work/GPS/Video/Chester/GPS_13_ThreeFPHoldSRTProbe/20240713/Top/Clips/Chester_20240713_HoldTrial182_TopView.avi\n",
      "Duration of video [s]:  8.04 , recorded with  25.0 fps!\n",
      "Overall # of frames:  201  found with (before cropping) frame dimensions:  1280 1331\n",
      "Starting to extract posture\n",
      "Cropping based on the x1 = 0 x2 = 1280 y1 = 0 y2 = 1024. You can adjust the cropping coordinates in the config.yaml file.\n"
     ]
    },
    {
     "name": "stderr",
     "output_type": "stream",
     "text": [
      "100%|██████████| 201/201 [00:08<00:00, 23.23it/s]\n"
     ]
    },
    {
     "name": "stdout",
     "output_type": "stream",
     "text": [
      "Saving results in D:\\YuLab\\Work\\GPS\\Video\\Chester\\GPS_13_ThreeFPHoldSRTProbe\\20240713\\Top\\Clips...\n",
      "Saving csv poses!\n",
      "Starting to analyze %  D:/YuLab/Work/GPS/Video/Chester/GPS_13_ThreeFPHoldSRTProbe/20240713/Top/Clips/Chester_20240713_HoldTrial183_TopView.avi\n",
      "Loading  D:/YuLab/Work/GPS/Video/Chester/GPS_13_ThreeFPHoldSRTProbe/20240713/Top/Clips/Chester_20240713_HoldTrial183_TopView.avi\n",
      "Duration of video [s]:  8.04 , recorded with  25.0 fps!\n",
      "Overall # of frames:  201  found with (before cropping) frame dimensions:  1280 1331\n",
      "Starting to extract posture\n",
      "Cropping based on the x1 = 0 x2 = 1280 y1 = 0 y2 = 1024. You can adjust the cropping coordinates in the config.yaml file.\n"
     ]
    },
    {
     "name": "stderr",
     "output_type": "stream",
     "text": [
      "100%|██████████| 201/201 [00:08<00:00, 23.19it/s]\n"
     ]
    },
    {
     "name": "stdout",
     "output_type": "stream",
     "text": [
      "Saving results in D:\\YuLab\\Work\\GPS\\Video\\Chester\\GPS_13_ThreeFPHoldSRTProbe\\20240713\\Top\\Clips...\n",
      "Saving csv poses!\n",
      "Starting to analyze %  D:/YuLab/Work/GPS/Video/Chester/GPS_13_ThreeFPHoldSRTProbe/20240713/Top/Clips/Chester_20240713_HoldTrial184_TopView.avi\n",
      "Loading  D:/YuLab/Work/GPS/Video/Chester/GPS_13_ThreeFPHoldSRTProbe/20240713/Top/Clips/Chester_20240713_HoldTrial184_TopView.avi\n",
      "Duration of video [s]:  8.04 , recorded with  25.0 fps!\n",
      "Overall # of frames:  201  found with (before cropping) frame dimensions:  1280 1331\n",
      "Starting to extract posture\n",
      "Cropping based on the x1 = 0 x2 = 1280 y1 = 0 y2 = 1024. You can adjust the cropping coordinates in the config.yaml file.\n"
     ]
    },
    {
     "name": "stderr",
     "output_type": "stream",
     "text": [
      "100%|██████████| 201/201 [00:08<00:00, 23.18it/s]\n"
     ]
    },
    {
     "name": "stdout",
     "output_type": "stream",
     "text": [
      "Saving results in D:\\YuLab\\Work\\GPS\\Video\\Chester\\GPS_13_ThreeFPHoldSRTProbe\\20240713\\Top\\Clips...\n",
      "Saving csv poses!\n",
      "Starting to analyze %  D:/YuLab/Work/GPS/Video/Chester/GPS_13_ThreeFPHoldSRTProbe/20240713/Top/Clips/Chester_20240713_HoldTrial185_TopView.avi\n",
      "Loading  D:/YuLab/Work/GPS/Video/Chester/GPS_13_ThreeFPHoldSRTProbe/20240713/Top/Clips/Chester_20240713_HoldTrial185_TopView.avi\n",
      "Duration of video [s]:  8.04 , recorded with  25.0 fps!\n",
      "Overall # of frames:  201  found with (before cropping) frame dimensions:  1280 1331\n",
      "Starting to extract posture\n",
      "Cropping based on the x1 = 0 x2 = 1280 y1 = 0 y2 = 1024. You can adjust the cropping coordinates in the config.yaml file.\n"
     ]
    },
    {
     "name": "stderr",
     "output_type": "stream",
     "text": [
      "100%|██████████| 201/201 [00:08<00:00, 23.11it/s]\n"
     ]
    },
    {
     "name": "stdout",
     "output_type": "stream",
     "text": [
      "Saving results in D:\\YuLab\\Work\\GPS\\Video\\Chester\\GPS_13_ThreeFPHoldSRTProbe\\20240713\\Top\\Clips...\n",
      "Saving csv poses!\n",
      "Starting to analyze %  D:/YuLab/Work/GPS/Video/Chester/GPS_13_ThreeFPHoldSRTProbe/20240713/Top/Clips/Chester_20240713_HoldTrial186_TopView.avi\n",
      "Loading  D:/YuLab/Work/GPS/Video/Chester/GPS_13_ThreeFPHoldSRTProbe/20240713/Top/Clips/Chester_20240713_HoldTrial186_TopView.avi\n",
      "Duration of video [s]:  8.04 , recorded with  25.0 fps!\n",
      "Overall # of frames:  201  found with (before cropping) frame dimensions:  1280 1331\n",
      "Starting to extract posture\n",
      "Cropping based on the x1 = 0 x2 = 1280 y1 = 0 y2 = 1024. You can adjust the cropping coordinates in the config.yaml file.\n"
     ]
    },
    {
     "name": "stderr",
     "output_type": "stream",
     "text": [
      "100%|██████████| 201/201 [00:08<00:00, 23.10it/s]\n"
     ]
    },
    {
     "name": "stdout",
     "output_type": "stream",
     "text": [
      "Saving results in D:\\YuLab\\Work\\GPS\\Video\\Chester\\GPS_13_ThreeFPHoldSRTProbe\\20240713\\Top\\Clips...\n",
      "Saving csv poses!\n",
      "Starting to analyze %  D:/YuLab/Work/GPS/Video/Chester/GPS_13_ThreeFPHoldSRTProbe/20240713/Top/Clips/Chester_20240713_HoldTrial187_TopView.avi\n",
      "Loading  D:/YuLab/Work/GPS/Video/Chester/GPS_13_ThreeFPHoldSRTProbe/20240713/Top/Clips/Chester_20240713_HoldTrial187_TopView.avi\n",
      "Duration of video [s]:  8.04 , recorded with  25.0 fps!\n",
      "Overall # of frames:  201  found with (before cropping) frame dimensions:  1280 1331\n",
      "Starting to extract posture\n",
      "Cropping based on the x1 = 0 x2 = 1280 y1 = 0 y2 = 1024. You can adjust the cropping coordinates in the config.yaml file.\n"
     ]
    },
    {
     "name": "stderr",
     "output_type": "stream",
     "text": [
      "100%|██████████| 201/201 [00:08<00:00, 23.09it/s]\n"
     ]
    },
    {
     "name": "stdout",
     "output_type": "stream",
     "text": [
      "Saving results in D:\\YuLab\\Work\\GPS\\Video\\Chester\\GPS_13_ThreeFPHoldSRTProbe\\20240713\\Top\\Clips...\n",
      "Saving csv poses!\n",
      "Starting to analyze %  D:/YuLab/Work/GPS/Video/Chester/GPS_13_ThreeFPHoldSRTProbe/20240713/Top/Clips/Chester_20240713_HoldTrial188_TopView.avi\n",
      "Loading  D:/YuLab/Work/GPS/Video/Chester/GPS_13_ThreeFPHoldSRTProbe/20240713/Top/Clips/Chester_20240713_HoldTrial188_TopView.avi\n",
      "Duration of video [s]:  8.04 , recorded with  25.0 fps!\n",
      "Overall # of frames:  201  found with (before cropping) frame dimensions:  1280 1331\n",
      "Starting to extract posture\n",
      "Cropping based on the x1 = 0 x2 = 1280 y1 = 0 y2 = 1024. You can adjust the cropping coordinates in the config.yaml file.\n"
     ]
    },
    {
     "name": "stderr",
     "output_type": "stream",
     "text": [
      "100%|██████████| 201/201 [00:08<00:00, 23.16it/s]\n"
     ]
    },
    {
     "name": "stdout",
     "output_type": "stream",
     "text": [
      "Saving results in D:\\YuLab\\Work\\GPS\\Video\\Chester\\GPS_13_ThreeFPHoldSRTProbe\\20240713\\Top\\Clips...\n",
      "Saving csv poses!\n",
      "Starting to analyze %  D:/YuLab/Work/GPS/Video/Chester/GPS_13_ThreeFPHoldSRTProbe/20240713/Top/Clips/Chester_20240713_HoldTrial189_TopView.avi\n",
      "Loading  D:/YuLab/Work/GPS/Video/Chester/GPS_13_ThreeFPHoldSRTProbe/20240713/Top/Clips/Chester_20240713_HoldTrial189_TopView.avi\n",
      "Duration of video [s]:  8.04 , recorded with  25.0 fps!\n",
      "Overall # of frames:  201  found with (before cropping) frame dimensions:  1280 1331\n",
      "Starting to extract posture\n",
      "Cropping based on the x1 = 0 x2 = 1280 y1 = 0 y2 = 1024. You can adjust the cropping coordinates in the config.yaml file.\n"
     ]
    },
    {
     "name": "stderr",
     "output_type": "stream",
     "text": [
      "100%|██████████| 201/201 [00:08<00:00, 23.09it/s]\n"
     ]
    },
    {
     "name": "stdout",
     "output_type": "stream",
     "text": [
      "Saving results in D:\\YuLab\\Work\\GPS\\Video\\Chester\\GPS_13_ThreeFPHoldSRTProbe\\20240713\\Top\\Clips...\n",
      "Saving csv poses!\n",
      "Starting to analyze %  D:/YuLab/Work/GPS/Video/Chester/GPS_13_ThreeFPHoldSRTProbe/20240713/Top/Clips/Chester_20240713_HoldTrial190_TopView.avi\n",
      "Loading  D:/YuLab/Work/GPS/Video/Chester/GPS_13_ThreeFPHoldSRTProbe/20240713/Top/Clips/Chester_20240713_HoldTrial190_TopView.avi\n",
      "Duration of video [s]:  8.04 , recorded with  25.0 fps!\n",
      "Overall # of frames:  201  found with (before cropping) frame dimensions:  1280 1331\n",
      "Starting to extract posture\n",
      "Cropping based on the x1 = 0 x2 = 1280 y1 = 0 y2 = 1024. You can adjust the cropping coordinates in the config.yaml file.\n"
     ]
    },
    {
     "name": "stderr",
     "output_type": "stream",
     "text": [
      "100%|██████████| 201/201 [00:08<00:00, 23.14it/s]\n"
     ]
    },
    {
     "name": "stdout",
     "output_type": "stream",
     "text": [
      "Saving results in D:\\YuLab\\Work\\GPS\\Video\\Chester\\GPS_13_ThreeFPHoldSRTProbe\\20240713\\Top\\Clips...\n",
      "Saving csv poses!\n",
      "Starting to analyze %  D:/YuLab/Work/GPS/Video/Chester/GPS_13_ThreeFPHoldSRTProbe/20240713/Top/Clips/Chester_20240713_HoldTrial191_TopView.avi\n",
      "Loading  D:/YuLab/Work/GPS/Video/Chester/GPS_13_ThreeFPHoldSRTProbe/20240713/Top/Clips/Chester_20240713_HoldTrial191_TopView.avi\n",
      "Duration of video [s]:  8.04 , recorded with  25.0 fps!\n",
      "Overall # of frames:  201  found with (before cropping) frame dimensions:  1280 1331\n",
      "Starting to extract posture\n",
      "Cropping based on the x1 = 0 x2 = 1280 y1 = 0 y2 = 1024. You can adjust the cropping coordinates in the config.yaml file.\n"
     ]
    },
    {
     "name": "stderr",
     "output_type": "stream",
     "text": [
      "100%|██████████| 201/201 [00:08<00:00, 23.14it/s]\n"
     ]
    },
    {
     "name": "stdout",
     "output_type": "stream",
     "text": [
      "Saving results in D:\\YuLab\\Work\\GPS\\Video\\Chester\\GPS_13_ThreeFPHoldSRTProbe\\20240713\\Top\\Clips...\n",
      "Saving csv poses!\n",
      "Starting to analyze %  D:/YuLab/Work/GPS/Video/Chester/GPS_13_ThreeFPHoldSRTProbe/20240713/Top/Clips/Chester_20240713_HoldTrial192_TopView.avi\n",
      "Loading  D:/YuLab/Work/GPS/Video/Chester/GPS_13_ThreeFPHoldSRTProbe/20240713/Top/Clips/Chester_20240713_HoldTrial192_TopView.avi\n",
      "Duration of video [s]:  8.04 , recorded with  25.0 fps!\n",
      "Overall # of frames:  201  found with (before cropping) frame dimensions:  1280 1331\n",
      "Starting to extract posture\n",
      "Cropping based on the x1 = 0 x2 = 1280 y1 = 0 y2 = 1024. You can adjust the cropping coordinates in the config.yaml file.\n"
     ]
    },
    {
     "name": "stderr",
     "output_type": "stream",
     "text": [
      "100%|██████████| 201/201 [00:08<00:00, 22.91it/s]\n"
     ]
    },
    {
     "name": "stdout",
     "output_type": "stream",
     "text": [
      "Saving results in D:\\YuLab\\Work\\GPS\\Video\\Chester\\GPS_13_ThreeFPHoldSRTProbe\\20240713\\Top\\Clips...\n",
      "Saving csv poses!\n",
      "Starting to analyze %  D:/YuLab/Work/GPS/Video/Chester/GPS_13_ThreeFPHoldSRTProbe/20240713/Top/Clips/Chester_20240713_HoldTrial193_TopView.avi\n",
      "Loading  D:/YuLab/Work/GPS/Video/Chester/GPS_13_ThreeFPHoldSRTProbe/20240713/Top/Clips/Chester_20240713_HoldTrial193_TopView.avi\n",
      "Duration of video [s]:  8.04 , recorded with  25.0 fps!\n",
      "Overall # of frames:  201  found with (before cropping) frame dimensions:  1280 1331\n",
      "Starting to extract posture\n",
      "Cropping based on the x1 = 0 x2 = 1280 y1 = 0 y2 = 1024. You can adjust the cropping coordinates in the config.yaml file.\n"
     ]
    },
    {
     "name": "stderr",
     "output_type": "stream",
     "text": [
      "100%|██████████| 201/201 [00:08<00:00, 23.14it/s]\n"
     ]
    },
    {
     "name": "stdout",
     "output_type": "stream",
     "text": [
      "Saving results in D:\\YuLab\\Work\\GPS\\Video\\Chester\\GPS_13_ThreeFPHoldSRTProbe\\20240713\\Top\\Clips...\n",
      "Saving csv poses!\n",
      "Starting to analyze %  D:/YuLab/Work/GPS/Video/Chester/GPS_13_ThreeFPHoldSRTProbe/20240713/Top/Clips/Chester_20240713_HoldTrial194_TopView.avi\n",
      "Loading  D:/YuLab/Work/GPS/Video/Chester/GPS_13_ThreeFPHoldSRTProbe/20240713/Top/Clips/Chester_20240713_HoldTrial194_TopView.avi\n",
      "Duration of video [s]:  8.04 , recorded with  25.0 fps!\n",
      "Overall # of frames:  201  found with (before cropping) frame dimensions:  1280 1331\n",
      "Starting to extract posture\n",
      "Cropping based on the x1 = 0 x2 = 1280 y1 = 0 y2 = 1024. You can adjust the cropping coordinates in the config.yaml file.\n"
     ]
    },
    {
     "name": "stderr",
     "output_type": "stream",
     "text": [
      "100%|██████████| 201/201 [00:08<00:00, 23.19it/s]\n"
     ]
    },
    {
     "name": "stdout",
     "output_type": "stream",
     "text": [
      "Saving results in D:\\YuLab\\Work\\GPS\\Video\\Chester\\GPS_13_ThreeFPHoldSRTProbe\\20240713\\Top\\Clips...\n",
      "Saving csv poses!\n",
      "Starting to analyze %  D:/YuLab/Work/GPS/Video/Chester/GPS_13_ThreeFPHoldSRTProbe/20240713/Top/Clips/Chester_20240713_HoldTrial195_TopView.avi\n",
      "Loading  D:/YuLab/Work/GPS/Video/Chester/GPS_13_ThreeFPHoldSRTProbe/20240713/Top/Clips/Chester_20240713_HoldTrial195_TopView.avi\n",
      "Duration of video [s]:  8.04 , recorded with  25.0 fps!\n",
      "Overall # of frames:  201  found with (before cropping) frame dimensions:  1280 1331\n",
      "Starting to extract posture\n",
      "Cropping based on the x1 = 0 x2 = 1280 y1 = 0 y2 = 1024. You can adjust the cropping coordinates in the config.yaml file.\n"
     ]
    },
    {
     "name": "stderr",
     "output_type": "stream",
     "text": [
      "100%|██████████| 201/201 [00:08<00:00, 23.21it/s]\n"
     ]
    },
    {
     "name": "stdout",
     "output_type": "stream",
     "text": [
      "Saving results in D:\\YuLab\\Work\\GPS\\Video\\Chester\\GPS_13_ThreeFPHoldSRTProbe\\20240713\\Top\\Clips...\n",
      "Saving csv poses!\n",
      "Starting to analyze %  D:/YuLab/Work/GPS/Video/Chester/GPS_13_ThreeFPHoldSRTProbe/20240713/Top/Clips/Chester_20240713_HoldTrial196_TopView.avi\n",
      "Loading  D:/YuLab/Work/GPS/Video/Chester/GPS_13_ThreeFPHoldSRTProbe/20240713/Top/Clips/Chester_20240713_HoldTrial196_TopView.avi\n",
      "Duration of video [s]:  8.04 , recorded with  25.0 fps!\n",
      "Overall # of frames:  201  found with (before cropping) frame dimensions:  1280 1331\n",
      "Starting to extract posture\n",
      "Cropping based on the x1 = 0 x2 = 1280 y1 = 0 y2 = 1024. You can adjust the cropping coordinates in the config.yaml file.\n"
     ]
    },
    {
     "name": "stderr",
     "output_type": "stream",
     "text": [
      "100%|██████████| 201/201 [00:08<00:00, 23.20it/s]\n"
     ]
    },
    {
     "name": "stdout",
     "output_type": "stream",
     "text": [
      "Saving results in D:\\YuLab\\Work\\GPS\\Video\\Chester\\GPS_13_ThreeFPHoldSRTProbe\\20240713\\Top\\Clips...\n",
      "Saving csv poses!\n",
      "Starting to analyze %  D:/YuLab/Work/GPS/Video/Chester/GPS_13_ThreeFPHoldSRTProbe/20240713/Top/Clips/Chester_20240713_HoldTrial197_TopView.avi\n",
      "Loading  D:/YuLab/Work/GPS/Video/Chester/GPS_13_ThreeFPHoldSRTProbe/20240713/Top/Clips/Chester_20240713_HoldTrial197_TopView.avi\n",
      "Duration of video [s]:  8.04 , recorded with  25.0 fps!\n",
      "Overall # of frames:  201  found with (before cropping) frame dimensions:  1280 1331\n",
      "Starting to extract posture\n",
      "Cropping based on the x1 = 0 x2 = 1280 y1 = 0 y2 = 1024. You can adjust the cropping coordinates in the config.yaml file.\n"
     ]
    },
    {
     "name": "stderr",
     "output_type": "stream",
     "text": [
      "100%|██████████| 201/201 [00:08<00:00, 23.20it/s]\n"
     ]
    },
    {
     "name": "stdout",
     "output_type": "stream",
     "text": [
      "Saving results in D:\\YuLab\\Work\\GPS\\Video\\Chester\\GPS_13_ThreeFPHoldSRTProbe\\20240713\\Top\\Clips...\n",
      "Saving csv poses!\n",
      "Starting to analyze %  D:/YuLab/Work/GPS/Video/Chester/GPS_13_ThreeFPHoldSRTProbe/20240713/Top/Clips/Chester_20240713_HoldTrial198_TopView.avi\n",
      "Loading  D:/YuLab/Work/GPS/Video/Chester/GPS_13_ThreeFPHoldSRTProbe/20240713/Top/Clips/Chester_20240713_HoldTrial198_TopView.avi\n",
      "Duration of video [s]:  8.04 , recorded with  25.0 fps!\n",
      "Overall # of frames:  201  found with (before cropping) frame dimensions:  1280 1331\n",
      "Starting to extract posture\n",
      "Cropping based on the x1 = 0 x2 = 1280 y1 = 0 y2 = 1024. You can adjust the cropping coordinates in the config.yaml file.\n"
     ]
    },
    {
     "name": "stderr",
     "output_type": "stream",
     "text": [
      "100%|██████████| 201/201 [00:08<00:00, 23.17it/s]\n"
     ]
    },
    {
     "name": "stdout",
     "output_type": "stream",
     "text": [
      "Saving results in D:\\YuLab\\Work\\GPS\\Video\\Chester\\GPS_13_ThreeFPHoldSRTProbe\\20240713\\Top\\Clips...\n",
      "Saving csv poses!\n",
      "Starting to analyze %  D:/YuLab/Work/GPS/Video/Chester/GPS_13_ThreeFPHoldSRTProbe/20240713/Top/Clips/Chester_20240713_HoldTrial199_TopView.avi\n",
      "Loading  D:/YuLab/Work/GPS/Video/Chester/GPS_13_ThreeFPHoldSRTProbe/20240713/Top/Clips/Chester_20240713_HoldTrial199_TopView.avi\n",
      "Duration of video [s]:  8.04 , recorded with  25.0 fps!\n",
      "Overall # of frames:  201  found with (before cropping) frame dimensions:  1280 1331\n",
      "Starting to extract posture\n",
      "Cropping based on the x1 = 0 x2 = 1280 y1 = 0 y2 = 1024. You can adjust the cropping coordinates in the config.yaml file.\n"
     ]
    },
    {
     "name": "stderr",
     "output_type": "stream",
     "text": [
      "100%|██████████| 201/201 [00:08<00:00, 23.25it/s]\n"
     ]
    },
    {
     "name": "stdout",
     "output_type": "stream",
     "text": [
      "Saving results in D:\\YuLab\\Work\\GPS\\Video\\Chester\\GPS_13_ThreeFPHoldSRTProbe\\20240713\\Top\\Clips...\n",
      "Saving csv poses!\n",
      "Starting to analyze %  D:/YuLab/Work/GPS/Video/Chester/GPS_13_ThreeFPHoldSRTProbe/20240713/Top/Clips/Chester_20240713_HoldTrial200_TopView.avi\n",
      "Loading  D:/YuLab/Work/GPS/Video/Chester/GPS_13_ThreeFPHoldSRTProbe/20240713/Top/Clips/Chester_20240713_HoldTrial200_TopView.avi\n",
      "Duration of video [s]:  8.04 , recorded with  25.0 fps!\n",
      "Overall # of frames:  201  found with (before cropping) frame dimensions:  1280 1331\n",
      "Starting to extract posture\n",
      "Cropping based on the x1 = 0 x2 = 1280 y1 = 0 y2 = 1024. You can adjust the cropping coordinates in the config.yaml file.\n"
     ]
    },
    {
     "name": "stderr",
     "output_type": "stream",
     "text": [
      "100%|██████████| 201/201 [00:08<00:00, 23.20it/s]\n"
     ]
    },
    {
     "name": "stdout",
     "output_type": "stream",
     "text": [
      "Saving results in D:\\YuLab\\Work\\GPS\\Video\\Chester\\GPS_13_ThreeFPHoldSRTProbe\\20240713\\Top\\Clips...\n",
      "Saving csv poses!\n",
      "Starting to analyze %  D:/YuLab/Work/GPS/Video/Chester/GPS_13_ThreeFPHoldSRTProbe/20240713/Top/Clips/Chester_20240713_HoldTrial201_TopView.avi\n",
      "Loading  D:/YuLab/Work/GPS/Video/Chester/GPS_13_ThreeFPHoldSRTProbe/20240713/Top/Clips/Chester_20240713_HoldTrial201_TopView.avi\n",
      "Duration of video [s]:  8.04 , recorded with  25.0 fps!\n",
      "Overall # of frames:  201  found with (before cropping) frame dimensions:  1280 1331\n",
      "Starting to extract posture\n",
      "Cropping based on the x1 = 0 x2 = 1280 y1 = 0 y2 = 1024. You can adjust the cropping coordinates in the config.yaml file.\n"
     ]
    },
    {
     "name": "stderr",
     "output_type": "stream",
     "text": [
      "100%|██████████| 201/201 [00:08<00:00, 23.20it/s]\n"
     ]
    },
    {
     "name": "stdout",
     "output_type": "stream",
     "text": [
      "Saving results in D:\\YuLab\\Work\\GPS\\Video\\Chester\\GPS_13_ThreeFPHoldSRTProbe\\20240713\\Top\\Clips...\n",
      "Saving csv poses!\n",
      "Starting to analyze %  D:/YuLab/Work/GPS/Video/Chester/GPS_13_ThreeFPHoldSRTProbe/20240713/Top/Clips/Chester_20240713_HoldTrial202_TopView.avi\n",
      "Loading  D:/YuLab/Work/GPS/Video/Chester/GPS_13_ThreeFPHoldSRTProbe/20240713/Top/Clips/Chester_20240713_HoldTrial202_TopView.avi\n",
      "Duration of video [s]:  8.04 , recorded with  25.0 fps!\n",
      "Overall # of frames:  201  found with (before cropping) frame dimensions:  1280 1331\n",
      "Starting to extract posture\n",
      "Cropping based on the x1 = 0 x2 = 1280 y1 = 0 y2 = 1024. You can adjust the cropping coordinates in the config.yaml file.\n"
     ]
    },
    {
     "name": "stderr",
     "output_type": "stream",
     "text": [
      "100%|██████████| 201/201 [00:08<00:00, 23.23it/s]\n"
     ]
    },
    {
     "name": "stdout",
     "output_type": "stream",
     "text": [
      "Saving results in D:\\YuLab\\Work\\GPS\\Video\\Chester\\GPS_13_ThreeFPHoldSRTProbe\\20240713\\Top\\Clips...\n",
      "Saving csv poses!\n",
      "Starting to analyze %  D:/YuLab/Work/GPS/Video/Chester/GPS_13_ThreeFPHoldSRTProbe/20240713/Top/Clips/Chester_20240713_HoldTrial203_TopView.avi\n",
      "Loading  D:/YuLab/Work/GPS/Video/Chester/GPS_13_ThreeFPHoldSRTProbe/20240713/Top/Clips/Chester_20240713_HoldTrial203_TopView.avi\n",
      "Duration of video [s]:  8.04 , recorded with  25.0 fps!\n",
      "Overall # of frames:  201  found with (before cropping) frame dimensions:  1280 1331\n",
      "Starting to extract posture\n",
      "Cropping based on the x1 = 0 x2 = 1280 y1 = 0 y2 = 1024. You can adjust the cropping coordinates in the config.yaml file.\n"
     ]
    },
    {
     "name": "stderr",
     "output_type": "stream",
     "text": [
      "100%|██████████| 201/201 [00:08<00:00, 23.17it/s]\n"
     ]
    },
    {
     "name": "stdout",
     "output_type": "stream",
     "text": [
      "Saving results in D:\\YuLab\\Work\\GPS\\Video\\Chester\\GPS_13_ThreeFPHoldSRTProbe\\20240713\\Top\\Clips...\n",
      "Saving csv poses!\n",
      "Starting to analyze %  D:/YuLab/Work/GPS/Video/Chester/GPS_13_ThreeFPHoldSRTProbe/20240713/Top/Clips/Chester_20240713_HoldTrial204_TopView.avi\n",
      "Loading  D:/YuLab/Work/GPS/Video/Chester/GPS_13_ThreeFPHoldSRTProbe/20240713/Top/Clips/Chester_20240713_HoldTrial204_TopView.avi\n",
      "Duration of video [s]:  8.04 , recorded with  25.0 fps!\n",
      "Overall # of frames:  201  found with (before cropping) frame dimensions:  1280 1331\n",
      "Starting to extract posture\n",
      "Cropping based on the x1 = 0 x2 = 1280 y1 = 0 y2 = 1024. You can adjust the cropping coordinates in the config.yaml file.\n"
     ]
    },
    {
     "name": "stderr",
     "output_type": "stream",
     "text": [
      "100%|██████████| 201/201 [00:08<00:00, 23.21it/s]\n"
     ]
    },
    {
     "name": "stdout",
     "output_type": "stream",
     "text": [
      "Saving results in D:\\YuLab\\Work\\GPS\\Video\\Chester\\GPS_13_ThreeFPHoldSRTProbe\\20240713\\Top\\Clips...\n",
      "Saving csv poses!\n",
      "Starting to analyze %  D:/YuLab/Work/GPS/Video/Chester/GPS_13_ThreeFPHoldSRTProbe/20240713/Top/Clips/Chester_20240713_HoldTrial205_TopView.avi\n",
      "Loading  D:/YuLab/Work/GPS/Video/Chester/GPS_13_ThreeFPHoldSRTProbe/20240713/Top/Clips/Chester_20240713_HoldTrial205_TopView.avi\n",
      "Duration of video [s]:  8.04 , recorded with  25.0 fps!\n",
      "Overall # of frames:  201  found with (before cropping) frame dimensions:  1280 1331\n",
      "Starting to extract posture\n",
      "Cropping based on the x1 = 0 x2 = 1280 y1 = 0 y2 = 1024. You can adjust the cropping coordinates in the config.yaml file.\n"
     ]
    },
    {
     "name": "stderr",
     "output_type": "stream",
     "text": [
      "100%|██████████| 201/201 [00:08<00:00, 23.20it/s]\n"
     ]
    },
    {
     "name": "stdout",
     "output_type": "stream",
     "text": [
      "Saving results in D:\\YuLab\\Work\\GPS\\Video\\Chester\\GPS_13_ThreeFPHoldSRTProbe\\20240713\\Top\\Clips...\n",
      "Saving csv poses!\n",
      "Starting to analyze %  D:/YuLab/Work/GPS/Video/Chester/GPS_13_ThreeFPHoldSRTProbe/20240713/Top/Clips/Chester_20240713_HoldTrial206_TopView.avi\n",
      "Loading  D:/YuLab/Work/GPS/Video/Chester/GPS_13_ThreeFPHoldSRTProbe/20240713/Top/Clips/Chester_20240713_HoldTrial206_TopView.avi\n",
      "Duration of video [s]:  8.04 , recorded with  25.0 fps!\n",
      "Overall # of frames:  201  found with (before cropping) frame dimensions:  1280 1331\n",
      "Starting to extract posture\n",
      "Cropping based on the x1 = 0 x2 = 1280 y1 = 0 y2 = 1024. You can adjust the cropping coordinates in the config.yaml file.\n"
     ]
    },
    {
     "name": "stderr",
     "output_type": "stream",
     "text": [
      "100%|██████████| 201/201 [00:08<00:00, 23.23it/s]\n"
     ]
    },
    {
     "name": "stdout",
     "output_type": "stream",
     "text": [
      "Saving results in D:\\YuLab\\Work\\GPS\\Video\\Chester\\GPS_13_ThreeFPHoldSRTProbe\\20240713\\Top\\Clips...\n",
      "Saving csv poses!\n",
      "Starting to analyze %  D:/YuLab/Work/GPS/Video/Chester/GPS_13_ThreeFPHoldSRTProbe/20240713/Top/Clips/Chester_20240713_HoldTrial207_TopView.avi\n",
      "Loading  D:/YuLab/Work/GPS/Video/Chester/GPS_13_ThreeFPHoldSRTProbe/20240713/Top/Clips/Chester_20240713_HoldTrial207_TopView.avi\n",
      "Duration of video [s]:  8.04 , recorded with  25.0 fps!\n",
      "Overall # of frames:  201  found with (before cropping) frame dimensions:  1280 1331\n",
      "Starting to extract posture\n",
      "Cropping based on the x1 = 0 x2 = 1280 y1 = 0 y2 = 1024. You can adjust the cropping coordinates in the config.yaml file.\n"
     ]
    },
    {
     "name": "stderr",
     "output_type": "stream",
     "text": [
      "100%|██████████| 201/201 [00:08<00:00, 23.21it/s]\n"
     ]
    },
    {
     "name": "stdout",
     "output_type": "stream",
     "text": [
      "Saving results in D:\\YuLab\\Work\\GPS\\Video\\Chester\\GPS_13_ThreeFPHoldSRTProbe\\20240713\\Top\\Clips...\n",
      "Saving csv poses!\n",
      "Starting to analyze %  D:/YuLab/Work/GPS/Video/Chester/GPS_13_ThreeFPHoldSRTProbe/20240713/Top/Clips/Chester_20240713_HoldTrial208_TopView.avi\n",
      "Loading  D:/YuLab/Work/GPS/Video/Chester/GPS_13_ThreeFPHoldSRTProbe/20240713/Top/Clips/Chester_20240713_HoldTrial208_TopView.avi\n",
      "Duration of video [s]:  8.04 , recorded with  25.0 fps!\n",
      "Overall # of frames:  201  found with (before cropping) frame dimensions:  1280 1331\n",
      "Starting to extract posture\n",
      "Cropping based on the x1 = 0 x2 = 1280 y1 = 0 y2 = 1024. You can adjust the cropping coordinates in the config.yaml file.\n"
     ]
    },
    {
     "name": "stderr",
     "output_type": "stream",
     "text": [
      "100%|██████████| 201/201 [00:08<00:00, 23.17it/s]\n"
     ]
    },
    {
     "name": "stdout",
     "output_type": "stream",
     "text": [
      "Saving results in D:\\YuLab\\Work\\GPS\\Video\\Chester\\GPS_13_ThreeFPHoldSRTProbe\\20240713\\Top\\Clips...\n",
      "Saving csv poses!\n",
      "Starting to analyze %  D:/YuLab/Work/GPS/Video/Chester/GPS_13_ThreeFPHoldSRTProbe/20240713/Top/Clips/Chester_20240713_HoldTrial209_TopView.avi\n",
      "Loading  D:/YuLab/Work/GPS/Video/Chester/GPS_13_ThreeFPHoldSRTProbe/20240713/Top/Clips/Chester_20240713_HoldTrial209_TopView.avi\n",
      "Duration of video [s]:  8.04 , recorded with  25.0 fps!\n",
      "Overall # of frames:  201  found with (before cropping) frame dimensions:  1280 1331\n",
      "Starting to extract posture\n",
      "Cropping based on the x1 = 0 x2 = 1280 y1 = 0 y2 = 1024. You can adjust the cropping coordinates in the config.yaml file.\n"
     ]
    },
    {
     "name": "stderr",
     "output_type": "stream",
     "text": [
      "100%|██████████| 201/201 [00:08<00:00, 23.18it/s]\n"
     ]
    },
    {
     "name": "stdout",
     "output_type": "stream",
     "text": [
      "Saving results in D:\\YuLab\\Work\\GPS\\Video\\Chester\\GPS_13_ThreeFPHoldSRTProbe\\20240713\\Top\\Clips...\n",
      "Saving csv poses!\n",
      "Starting to analyze %  D:/YuLab/Work/GPS/Video/Chester/GPS_13_ThreeFPHoldSRTProbe/20240713/Top/Clips/Chester_20240713_HoldTrial210_TopView.avi\n",
      "Loading  D:/YuLab/Work/GPS/Video/Chester/GPS_13_ThreeFPHoldSRTProbe/20240713/Top/Clips/Chester_20240713_HoldTrial210_TopView.avi\n",
      "Duration of video [s]:  8.04 , recorded with  25.0 fps!\n",
      "Overall # of frames:  201  found with (before cropping) frame dimensions:  1280 1331\n",
      "Starting to extract posture\n",
      "Cropping based on the x1 = 0 x2 = 1280 y1 = 0 y2 = 1024. You can adjust the cropping coordinates in the config.yaml file.\n"
     ]
    },
    {
     "name": "stderr",
     "output_type": "stream",
     "text": [
      "100%|██████████| 201/201 [00:08<00:00, 23.19it/s]\n"
     ]
    },
    {
     "name": "stdout",
     "output_type": "stream",
     "text": [
      "Saving results in D:\\YuLab\\Work\\GPS\\Video\\Chester\\GPS_13_ThreeFPHoldSRTProbe\\20240713\\Top\\Clips...\n",
      "Saving csv poses!\n",
      "Starting to analyze %  D:/YuLab/Work/GPS/Video/Chester/GPS_13_ThreeFPHoldSRTProbe/20240713/Top/Clips/Chester_20240713_HoldTrial211_TopView.avi\n",
      "Loading  D:/YuLab/Work/GPS/Video/Chester/GPS_13_ThreeFPHoldSRTProbe/20240713/Top/Clips/Chester_20240713_HoldTrial211_TopView.avi\n",
      "Duration of video [s]:  8.04 , recorded with  25.0 fps!\n",
      "Overall # of frames:  201  found with (before cropping) frame dimensions:  1280 1331\n",
      "Starting to extract posture\n",
      "Cropping based on the x1 = 0 x2 = 1280 y1 = 0 y2 = 1024. You can adjust the cropping coordinates in the config.yaml file.\n"
     ]
    },
    {
     "name": "stderr",
     "output_type": "stream",
     "text": [
      "100%|██████████| 201/201 [00:08<00:00, 23.16it/s]\n"
     ]
    },
    {
     "name": "stdout",
     "output_type": "stream",
     "text": [
      "Saving results in D:\\YuLab\\Work\\GPS\\Video\\Chester\\GPS_13_ThreeFPHoldSRTProbe\\20240713\\Top\\Clips...\n",
      "Saving csv poses!\n",
      "Starting to analyze %  D:/YuLab/Work/GPS/Video/Chester/GPS_13_ThreeFPHoldSRTProbe/20240713/Top/Clips/Chester_20240713_HoldTrial212_TopView.avi\n",
      "Loading  D:/YuLab/Work/GPS/Video/Chester/GPS_13_ThreeFPHoldSRTProbe/20240713/Top/Clips/Chester_20240713_HoldTrial212_TopView.avi\n",
      "Duration of video [s]:  8.04 , recorded with  25.0 fps!\n",
      "Overall # of frames:  201  found with (before cropping) frame dimensions:  1280 1331\n",
      "Starting to extract posture\n",
      "Cropping based on the x1 = 0 x2 = 1280 y1 = 0 y2 = 1024. You can adjust the cropping coordinates in the config.yaml file.\n"
     ]
    },
    {
     "name": "stderr",
     "output_type": "stream",
     "text": [
      "100%|██████████| 201/201 [00:08<00:00, 23.12it/s]\n"
     ]
    },
    {
     "name": "stdout",
     "output_type": "stream",
     "text": [
      "Saving results in D:\\YuLab\\Work\\GPS\\Video\\Chester\\GPS_13_ThreeFPHoldSRTProbe\\20240713\\Top\\Clips...\n",
      "Saving csv poses!\n",
      "Starting to analyze %  D:/YuLab/Work/GPS/Video/Chester/GPS_13_ThreeFPHoldSRTProbe/20240713/Top/Clips/Chester_20240713_HoldTrial213_TopView.avi\n",
      "Loading  D:/YuLab/Work/GPS/Video/Chester/GPS_13_ThreeFPHoldSRTProbe/20240713/Top/Clips/Chester_20240713_HoldTrial213_TopView.avi\n",
      "Duration of video [s]:  8.04 , recorded with  25.0 fps!\n",
      "Overall # of frames:  201  found with (before cropping) frame dimensions:  1280 1331\n",
      "Starting to extract posture\n",
      "Cropping based on the x1 = 0 x2 = 1280 y1 = 0 y2 = 1024. You can adjust the cropping coordinates in the config.yaml file.\n"
     ]
    },
    {
     "name": "stderr",
     "output_type": "stream",
     "text": [
      "100%|██████████| 201/201 [00:08<00:00, 23.19it/s]\n"
     ]
    },
    {
     "name": "stdout",
     "output_type": "stream",
     "text": [
      "Saving results in D:\\YuLab\\Work\\GPS\\Video\\Chester\\GPS_13_ThreeFPHoldSRTProbe\\20240713\\Top\\Clips...\n",
      "Saving csv poses!\n",
      "Starting to analyze %  D:/YuLab/Work/GPS/Video/Chester/GPS_13_ThreeFPHoldSRTProbe/20240713/Top/Clips/Chester_20240713_HoldTrial214_TopView.avi\n",
      "Loading  D:/YuLab/Work/GPS/Video/Chester/GPS_13_ThreeFPHoldSRTProbe/20240713/Top/Clips/Chester_20240713_HoldTrial214_TopView.avi\n",
      "Duration of video [s]:  8.04 , recorded with  25.0 fps!\n",
      "Overall # of frames:  201  found with (before cropping) frame dimensions:  1280 1331\n",
      "Starting to extract posture\n",
      "Cropping based on the x1 = 0 x2 = 1280 y1 = 0 y2 = 1024. You can adjust the cropping coordinates in the config.yaml file.\n"
     ]
    },
    {
     "name": "stderr",
     "output_type": "stream",
     "text": [
      "100%|██████████| 201/201 [00:08<00:00, 23.14it/s]\n"
     ]
    },
    {
     "name": "stdout",
     "output_type": "stream",
     "text": [
      "Saving results in D:\\YuLab\\Work\\GPS\\Video\\Chester\\GPS_13_ThreeFPHoldSRTProbe\\20240713\\Top\\Clips...\n",
      "Saving csv poses!\n",
      "Starting to analyze %  D:/YuLab/Work/GPS/Video/Chester/GPS_13_ThreeFPHoldSRTProbe/20240713/Top/Clips/Chester_20240713_HoldTrial215_TopView.avi\n",
      "Loading  D:/YuLab/Work/GPS/Video/Chester/GPS_13_ThreeFPHoldSRTProbe/20240713/Top/Clips/Chester_20240713_HoldTrial215_TopView.avi\n",
      "Duration of video [s]:  8.04 , recorded with  25.0 fps!\n",
      "Overall # of frames:  201  found with (before cropping) frame dimensions:  1280 1331\n",
      "Starting to extract posture\n",
      "Cropping based on the x1 = 0 x2 = 1280 y1 = 0 y2 = 1024. You can adjust the cropping coordinates in the config.yaml file.\n"
     ]
    },
    {
     "name": "stderr",
     "output_type": "stream",
     "text": [
      "100%|██████████| 201/201 [00:08<00:00, 23.22it/s]\n"
     ]
    },
    {
     "name": "stdout",
     "output_type": "stream",
     "text": [
      "Saving results in D:\\YuLab\\Work\\GPS\\Video\\Chester\\GPS_13_ThreeFPHoldSRTProbe\\20240713\\Top\\Clips...\n",
      "Saving csv poses!\n",
      "Starting to analyze %  D:/YuLab/Work/GPS/Video/Chester/GPS_13_ThreeFPHoldSRTProbe/20240713/Top/Clips/Chester_20240713_HoldTrial216_TopView.avi\n",
      "Loading  D:/YuLab/Work/GPS/Video/Chester/GPS_13_ThreeFPHoldSRTProbe/20240713/Top/Clips/Chester_20240713_HoldTrial216_TopView.avi\n",
      "Duration of video [s]:  8.04 , recorded with  25.0 fps!\n",
      "Overall # of frames:  201  found with (before cropping) frame dimensions:  1280 1331\n",
      "Starting to extract posture\n",
      "Cropping based on the x1 = 0 x2 = 1280 y1 = 0 y2 = 1024. You can adjust the cropping coordinates in the config.yaml file.\n"
     ]
    },
    {
     "name": "stderr",
     "output_type": "stream",
     "text": [
      "100%|██████████| 201/201 [00:08<00:00, 23.22it/s]\n"
     ]
    },
    {
     "name": "stdout",
     "output_type": "stream",
     "text": [
      "Saving results in D:\\YuLab\\Work\\GPS\\Video\\Chester\\GPS_13_ThreeFPHoldSRTProbe\\20240713\\Top\\Clips...\n",
      "Saving csv poses!\n",
      "Starting to analyze %  D:/YuLab/Work/GPS/Video/Chester/GPS_13_ThreeFPHoldSRTProbe/20240725/Top/Clips/Chester_20240725_HoldTrial001_TopView.avi\n",
      "Loading  D:/YuLab/Work/GPS/Video/Chester/GPS_13_ThreeFPHoldSRTProbe/20240725/Top/Clips/Chester_20240725_HoldTrial001_TopView.avi\n",
      "Duration of video [s]:  9.67 , recorded with  19.23 fps!\n",
      "Overall # of frames:  186  found with (before cropping) frame dimensions:  1280 1331\n",
      "Starting to extract posture\n",
      "Cropping based on the x1 = 0 x2 = 1280 y1 = 0 y2 = 1024. You can adjust the cropping coordinates in the config.yaml file.\n"
     ]
    },
    {
     "name": "stderr",
     "output_type": "stream",
     "text": [
      "100%|██████████| 186/186 [00:08<00:00, 23.16it/s]\n"
     ]
    },
    {
     "name": "stdout",
     "output_type": "stream",
     "text": [
      "Saving results in D:\\YuLab\\Work\\GPS\\Video\\Chester\\GPS_13_ThreeFPHoldSRTProbe\\20240725\\Top\\Clips...\n",
      "Saving csv poses!\n",
      "Starting to analyze %  D:/YuLab/Work/GPS/Video/Chester/GPS_13_ThreeFPHoldSRTProbe/20240725/Top/Clips/Chester_20240725_HoldTrial002_TopView.avi\n",
      "Loading  D:/YuLab/Work/GPS/Video/Chester/GPS_13_ThreeFPHoldSRTProbe/20240725/Top/Clips/Chester_20240725_HoldTrial002_TopView.avi\n",
      "Duration of video [s]:  9.72 , recorded with  19.23 fps!\n",
      "Overall # of frames:  187  found with (before cropping) frame dimensions:  1280 1331\n",
      "Starting to extract posture\n",
      "Cropping based on the x1 = 0 x2 = 1280 y1 = 0 y2 = 1024. You can adjust the cropping coordinates in the config.yaml file.\n"
     ]
    },
    {
     "name": "stderr",
     "output_type": "stream",
     "text": [
      "100%|██████████| 187/187 [00:08<00:00, 23.30it/s]\n"
     ]
    },
    {
     "name": "stdout",
     "output_type": "stream",
     "text": [
      "Saving results in D:\\YuLab\\Work\\GPS\\Video\\Chester\\GPS_13_ThreeFPHoldSRTProbe\\20240725\\Top\\Clips...\n",
      "Saving csv poses!\n",
      "Starting to analyze %  D:/YuLab/Work/GPS/Video/Chester/GPS_13_ThreeFPHoldSRTProbe/20240725/Top/Clips/Chester_20240725_HoldTrial003_TopView.avi\n",
      "Loading  D:/YuLab/Work/GPS/Video/Chester/GPS_13_ThreeFPHoldSRTProbe/20240725/Top/Clips/Chester_20240725_HoldTrial003_TopView.avi\n",
      "Duration of video [s]:  9.72 , recorded with  19.23 fps!\n",
      "Overall # of frames:  187  found with (before cropping) frame dimensions:  1280 1331\n",
      "Starting to extract posture\n",
      "Cropping based on the x1 = 0 x2 = 1280 y1 = 0 y2 = 1024. You can adjust the cropping coordinates in the config.yaml file.\n"
     ]
    },
    {
     "name": "stderr",
     "output_type": "stream",
     "text": [
      "100%|██████████| 187/187 [00:08<00:00, 23.23it/s]\n"
     ]
    },
    {
     "name": "stdout",
     "output_type": "stream",
     "text": [
      "Saving results in D:\\YuLab\\Work\\GPS\\Video\\Chester\\GPS_13_ThreeFPHoldSRTProbe\\20240725\\Top\\Clips...\n",
      "Saving csv poses!\n",
      "Starting to analyze %  D:/YuLab/Work/GPS/Video/Chester/GPS_13_ThreeFPHoldSRTProbe/20240725/Top/Clips/Chester_20240725_HoldTrial004_TopView.avi\n",
      "Loading  D:/YuLab/Work/GPS/Video/Chester/GPS_13_ThreeFPHoldSRTProbe/20240725/Top/Clips/Chester_20240725_HoldTrial004_TopView.avi\n",
      "Duration of video [s]:  9.67 , recorded with  19.23 fps!\n",
      "Overall # of frames:  186  found with (before cropping) frame dimensions:  1280 1331\n",
      "Starting to extract posture\n",
      "Cropping based on the x1 = 0 x2 = 1280 y1 = 0 y2 = 1024. You can adjust the cropping coordinates in the config.yaml file.\n"
     ]
    },
    {
     "name": "stderr",
     "output_type": "stream",
     "text": [
      "100%|██████████| 186/186 [00:08<00:00, 23.18it/s]\n"
     ]
    },
    {
     "name": "stdout",
     "output_type": "stream",
     "text": [
      "Saving results in D:\\YuLab\\Work\\GPS\\Video\\Chester\\GPS_13_ThreeFPHoldSRTProbe\\20240725\\Top\\Clips...\n",
      "Saving csv poses!\n",
      "Starting to analyze %  D:/YuLab/Work/GPS/Video/Chester/GPS_13_ThreeFPHoldSRTProbe/20240725/Top/Clips/Chester_20240725_HoldTrial005_TopView.avi\n",
      "Loading  D:/YuLab/Work/GPS/Video/Chester/GPS_13_ThreeFPHoldSRTProbe/20240725/Top/Clips/Chester_20240725_HoldTrial005_TopView.avi\n",
      "Duration of video [s]:  9.72 , recorded with  19.23 fps!\n",
      "Overall # of frames:  187  found with (before cropping) frame dimensions:  1280 1331\n",
      "Starting to extract posture\n",
      "Cropping based on the x1 = 0 x2 = 1280 y1 = 0 y2 = 1024. You can adjust the cropping coordinates in the config.yaml file.\n"
     ]
    },
    {
     "name": "stderr",
     "output_type": "stream",
     "text": [
      "100%|██████████| 187/187 [00:08<00:00, 23.24it/s]\n"
     ]
    },
    {
     "name": "stdout",
     "output_type": "stream",
     "text": [
      "Saving results in D:\\YuLab\\Work\\GPS\\Video\\Chester\\GPS_13_ThreeFPHoldSRTProbe\\20240725\\Top\\Clips...\n",
      "Saving csv poses!\n",
      "Starting to analyze %  D:/YuLab/Work/GPS/Video/Chester/GPS_13_ThreeFPHoldSRTProbe/20240725/Top/Clips/Chester_20240725_HoldTrial006_TopView.avi\n",
      "Loading  D:/YuLab/Work/GPS/Video/Chester/GPS_13_ThreeFPHoldSRTProbe/20240725/Top/Clips/Chester_20240725_HoldTrial006_TopView.avi\n",
      "Duration of video [s]:  9.52 , recorded with  19.23 fps!\n",
      "Overall # of frames:  183  found with (before cropping) frame dimensions:  1280 1331\n",
      "Starting to extract posture\n",
      "Cropping based on the x1 = 0 x2 = 1280 y1 = 0 y2 = 1024. You can adjust the cropping coordinates in the config.yaml file.\n"
     ]
    },
    {
     "name": "stderr",
     "output_type": "stream",
     "text": [
      "100%|██████████| 183/183 [00:07<00:00, 23.60it/s]\n"
     ]
    },
    {
     "name": "stdout",
     "output_type": "stream",
     "text": [
      "Saving results in D:\\YuLab\\Work\\GPS\\Video\\Chester\\GPS_13_ThreeFPHoldSRTProbe\\20240725\\Top\\Clips...\n",
      "Saving csv poses!\n",
      "Starting to analyze %  D:/YuLab/Work/GPS/Video/Chester/GPS_13_ThreeFPHoldSRTProbe/20240725/Top/Clips/Chester_20240725_HoldTrial007_TopView.avi\n",
      "Loading  D:/YuLab/Work/GPS/Video/Chester/GPS_13_ThreeFPHoldSRTProbe/20240725/Top/Clips/Chester_20240725_HoldTrial007_TopView.avi\n",
      "Duration of video [s]:  9.78 , recorded with  19.23 fps!\n",
      "Overall # of frames:  188  found with (before cropping) frame dimensions:  1280 1331\n",
      "Starting to extract posture\n",
      "Cropping based on the x1 = 0 x2 = 1280 y1 = 0 y2 = 1024. You can adjust the cropping coordinates in the config.yaml file.\n"
     ]
    },
    {
     "name": "stderr",
     "output_type": "stream",
     "text": [
      "100%|██████████| 188/188 [00:08<00:00, 23.31it/s]\n"
     ]
    },
    {
     "name": "stdout",
     "output_type": "stream",
     "text": [
      "Saving results in D:\\YuLab\\Work\\GPS\\Video\\Chester\\GPS_13_ThreeFPHoldSRTProbe\\20240725\\Top\\Clips...\n",
      "Saving csv poses!\n",
      "Starting to analyze %  D:/YuLab/Work/GPS/Video/Chester/GPS_13_ThreeFPHoldSRTProbe/20240725/Top/Clips/Chester_20240725_HoldTrial008_TopView.avi\n",
      "Loading  D:/YuLab/Work/GPS/Video/Chester/GPS_13_ThreeFPHoldSRTProbe/20240725/Top/Clips/Chester_20240725_HoldTrial008_TopView.avi\n",
      "Duration of video [s]:  9.78 , recorded with  19.23 fps!\n",
      "Overall # of frames:  188  found with (before cropping) frame dimensions:  1280 1331\n",
      "Starting to extract posture\n",
      "Cropping based on the x1 = 0 x2 = 1280 y1 = 0 y2 = 1024. You can adjust the cropping coordinates in the config.yaml file.\n"
     ]
    },
    {
     "name": "stderr",
     "output_type": "stream",
     "text": [
      "100%|██████████| 188/188 [00:08<00:00, 23.42it/s]\n"
     ]
    },
    {
     "name": "stdout",
     "output_type": "stream",
     "text": [
      "Saving results in D:\\YuLab\\Work\\GPS\\Video\\Chester\\GPS_13_ThreeFPHoldSRTProbe\\20240725\\Top\\Clips...\n",
      "Saving csv poses!\n",
      "Starting to analyze %  D:/YuLab/Work/GPS/Video/Chester/GPS_13_ThreeFPHoldSRTProbe/20240725/Top/Clips/Chester_20240725_HoldTrial009_TopView.avi\n",
      "Loading  D:/YuLab/Work/GPS/Video/Chester/GPS_13_ThreeFPHoldSRTProbe/20240725/Top/Clips/Chester_20240725_HoldTrial009_TopView.avi\n",
      "Duration of video [s]:  9.46 , recorded with  19.23 fps!\n",
      "Overall # of frames:  182  found with (before cropping) frame dimensions:  1280 1331\n",
      "Starting to extract posture\n",
      "Cropping based on the x1 = 0 x2 = 1280 y1 = 0 y2 = 1024. You can adjust the cropping coordinates in the config.yaml file.\n"
     ]
    },
    {
     "name": "stderr",
     "output_type": "stream",
     "text": [
      "100%|██████████| 182/182 [00:07<00:00, 23.52it/s]\n"
     ]
    },
    {
     "name": "stdout",
     "output_type": "stream",
     "text": [
      "Saving results in D:\\YuLab\\Work\\GPS\\Video\\Chester\\GPS_13_ThreeFPHoldSRTProbe\\20240725\\Top\\Clips...\n",
      "Saving csv poses!\n",
      "Starting to analyze %  D:/YuLab/Work/GPS/Video/Chester/GPS_13_ThreeFPHoldSRTProbe/20240725/Top/Clips/Chester_20240725_HoldTrial010_TopView.avi\n",
      "Loading  D:/YuLab/Work/GPS/Video/Chester/GPS_13_ThreeFPHoldSRTProbe/20240725/Top/Clips/Chester_20240725_HoldTrial010_TopView.avi\n",
      "Duration of video [s]:  9.67 , recorded with  19.23 fps!\n",
      "Overall # of frames:  186  found with (before cropping) frame dimensions:  1280 1331\n",
      "Starting to extract posture\n",
      "Cropping based on the x1 = 0 x2 = 1280 y1 = 0 y2 = 1024. You can adjust the cropping coordinates in the config.yaml file.\n"
     ]
    },
    {
     "name": "stderr",
     "output_type": "stream",
     "text": [
      "100%|██████████| 186/186 [00:08<00:00, 23.19it/s]\n"
     ]
    },
    {
     "name": "stdout",
     "output_type": "stream",
     "text": [
      "Saving results in D:\\YuLab\\Work\\GPS\\Video\\Chester\\GPS_13_ThreeFPHoldSRTProbe\\20240725\\Top\\Clips...\n",
      "Saving csv poses!\n",
      "Starting to analyze %  D:/YuLab/Work/GPS/Video/Chester/GPS_13_ThreeFPHoldSRTProbe/20240725/Top/Clips/Chester_20240725_HoldTrial011_TopView.avi\n",
      "Loading  D:/YuLab/Work/GPS/Video/Chester/GPS_13_ThreeFPHoldSRTProbe/20240725/Top/Clips/Chester_20240725_HoldTrial011_TopView.avi\n",
      "Duration of video [s]:  9.62 , recorded with  19.23 fps!\n",
      "Overall # of frames:  185  found with (before cropping) frame dimensions:  1280 1331\n",
      "Starting to extract posture\n",
      "Cropping based on the x1 = 0 x2 = 1280 y1 = 0 y2 = 1024. You can adjust the cropping coordinates in the config.yaml file.\n"
     ]
    },
    {
     "name": "stderr",
     "output_type": "stream",
     "text": [
      "100%|██████████| 185/185 [00:08<00:00, 23.06it/s]\n"
     ]
    },
    {
     "name": "stdout",
     "output_type": "stream",
     "text": [
      "Saving results in D:\\YuLab\\Work\\GPS\\Video\\Chester\\GPS_13_ThreeFPHoldSRTProbe\\20240725\\Top\\Clips...\n",
      "Saving csv poses!\n",
      "Starting to analyze %  D:/YuLab/Work/GPS/Video/Chester/GPS_13_ThreeFPHoldSRTProbe/20240725/Top/Clips/Chester_20240725_HoldTrial012_TopView.avi\n",
      "Loading  D:/YuLab/Work/GPS/Video/Chester/GPS_13_ThreeFPHoldSRTProbe/20240725/Top/Clips/Chester_20240725_HoldTrial012_TopView.avi\n",
      "Duration of video [s]:  9.43 , recorded with  19.62 fps!\n",
      "Overall # of frames:  185  found with (before cropping) frame dimensions:  1280 1331\n",
      "Starting to extract posture\n",
      "Cropping based on the x1 = 0 x2 = 1280 y1 = 0 y2 = 1024. You can adjust the cropping coordinates in the config.yaml file.\n"
     ]
    },
    {
     "name": "stderr",
     "output_type": "stream",
     "text": [
      "100%|██████████| 185/185 [00:08<00:00, 23.02it/s]\n"
     ]
    },
    {
     "name": "stdout",
     "output_type": "stream",
     "text": [
      "Saving results in D:\\YuLab\\Work\\GPS\\Video\\Chester\\GPS_13_ThreeFPHoldSRTProbe\\20240725\\Top\\Clips...\n",
      "Saving csv poses!\n",
      "Starting to analyze %  D:/YuLab/Work/GPS/Video/Chester/GPS_13_ThreeFPHoldSRTProbe/20240725/Top/Clips/Chester_20240725_HoldTrial013_TopView.avi\n",
      "Loading  D:/YuLab/Work/GPS/Video/Chester/GPS_13_ThreeFPHoldSRTProbe/20240725/Top/Clips/Chester_20240725_HoldTrial013_TopView.avi\n",
      "Duration of video [s]:  9.57 , recorded with  19.23 fps!\n",
      "Overall # of frames:  184  found with (before cropping) frame dimensions:  1280 1331\n",
      "Starting to extract posture\n",
      "Cropping based on the x1 = 0 x2 = 1280 y1 = 0 y2 = 1024. You can adjust the cropping coordinates in the config.yaml file.\n"
     ]
    },
    {
     "name": "stderr",
     "output_type": "stream",
     "text": [
      "100%|██████████| 184/184 [00:07<00:00, 23.73it/s]\n"
     ]
    },
    {
     "name": "stdout",
     "output_type": "stream",
     "text": [
      "Saving results in D:\\YuLab\\Work\\GPS\\Video\\Chester\\GPS_13_ThreeFPHoldSRTProbe\\20240725\\Top\\Clips...\n",
      "Saving csv poses!\n",
      "Starting to analyze %  D:/YuLab/Work/GPS/Video/Chester/GPS_13_ThreeFPHoldSRTProbe/20240725/Top/Clips/Chester_20240725_HoldTrial014_TopView.avi\n",
      "Loading  D:/YuLab/Work/GPS/Video/Chester/GPS_13_ThreeFPHoldSRTProbe/20240725/Top/Clips/Chester_20240725_HoldTrial014_TopView.avi\n",
      "Duration of video [s]:  9.57 , recorded with  19.23 fps!\n",
      "Overall # of frames:  184  found with (before cropping) frame dimensions:  1280 1331\n",
      "Starting to extract posture\n",
      "Cropping based on the x1 = 0 x2 = 1280 y1 = 0 y2 = 1024. You can adjust the cropping coordinates in the config.yaml file.\n"
     ]
    },
    {
     "name": "stderr",
     "output_type": "stream",
     "text": [
      "100%|██████████| 184/184 [00:07<00:00, 23.72it/s]\n"
     ]
    },
    {
     "name": "stdout",
     "output_type": "stream",
     "text": [
      "Saving results in D:\\YuLab\\Work\\GPS\\Video\\Chester\\GPS_13_ThreeFPHoldSRTProbe\\20240725\\Top\\Clips...\n",
      "Saving csv poses!\n",
      "Starting to analyze %  D:/YuLab/Work/GPS/Video/Chester/GPS_13_ThreeFPHoldSRTProbe/20240725/Top/Clips/Chester_20240725_HoldTrial015_TopView.avi\n",
      "Loading  D:/YuLab/Work/GPS/Video/Chester/GPS_13_ThreeFPHoldSRTProbe/20240725/Top/Clips/Chester_20240725_HoldTrial015_TopView.avi\n",
      "Duration of video [s]:  9.52 , recorded with  19.23 fps!\n",
      "Overall # of frames:  183  found with (before cropping) frame dimensions:  1280 1331\n",
      "Starting to extract posture\n",
      "Cropping based on the x1 = 0 x2 = 1280 y1 = 0 y2 = 1024. You can adjust the cropping coordinates in the config.yaml file.\n"
     ]
    },
    {
     "name": "stderr",
     "output_type": "stream",
     "text": [
      "100%|██████████| 183/183 [00:07<00:00, 23.62it/s]\n"
     ]
    },
    {
     "name": "stdout",
     "output_type": "stream",
     "text": [
      "Saving results in D:\\YuLab\\Work\\GPS\\Video\\Chester\\GPS_13_ThreeFPHoldSRTProbe\\20240725\\Top\\Clips...\n",
      "Saving csv poses!\n",
      "Starting to analyze %  D:/YuLab/Work/GPS/Video/Chester/GPS_13_ThreeFPHoldSRTProbe/20240725/Top/Clips/Chester_20240725_HoldTrial016_TopView.avi\n",
      "Loading  D:/YuLab/Work/GPS/Video/Chester/GPS_13_ThreeFPHoldSRTProbe/20240725/Top/Clips/Chester_20240725_HoldTrial016_TopView.avi\n",
      "Duration of video [s]:  9.62 , recorded with  19.23 fps!\n",
      "Overall # of frames:  185  found with (before cropping) frame dimensions:  1280 1331\n",
      "Starting to extract posture\n",
      "Cropping based on the x1 = 0 x2 = 1280 y1 = 0 y2 = 1024. You can adjust the cropping coordinates in the config.yaml file.\n"
     ]
    },
    {
     "name": "stderr",
     "output_type": "stream",
     "text": [
      "100%|██████████| 185/185 [00:08<00:00, 22.01it/s]\n"
     ]
    },
    {
     "name": "stdout",
     "output_type": "stream",
     "text": [
      "Saving results in D:\\YuLab\\Work\\GPS\\Video\\Chester\\GPS_13_ThreeFPHoldSRTProbe\\20240725\\Top\\Clips...\n",
      "Saving csv poses!\n",
      "Starting to analyze %  D:/YuLab/Work/GPS/Video/Chester/GPS_13_ThreeFPHoldSRTProbe/20240725/Top/Clips/Chester_20240725_HoldTrial017_TopView.avi\n",
      "Loading  D:/YuLab/Work/GPS/Video/Chester/GPS_13_ThreeFPHoldSRTProbe/20240725/Top/Clips/Chester_20240725_HoldTrial017_TopView.avi\n",
      "Duration of video [s]:  9.62 , recorded with  19.23 fps!\n",
      "Overall # of frames:  185  found with (before cropping) frame dimensions:  1280 1331\n",
      "Starting to extract posture\n",
      "Cropping based on the x1 = 0 x2 = 1280 y1 = 0 y2 = 1024. You can adjust the cropping coordinates in the config.yaml file.\n"
     ]
    },
    {
     "name": "stderr",
     "output_type": "stream",
     "text": [
      "100%|██████████| 185/185 [00:08<00:00, 22.85it/s]\n"
     ]
    },
    {
     "name": "stdout",
     "output_type": "stream",
     "text": [
      "Saving results in D:\\YuLab\\Work\\GPS\\Video\\Chester\\GPS_13_ThreeFPHoldSRTProbe\\20240725\\Top\\Clips...\n",
      "Saving csv poses!\n",
      "Starting to analyze %  D:/YuLab/Work/GPS/Video/Chester/GPS_13_ThreeFPHoldSRTProbe/20240725/Top/Clips/Chester_20240725_HoldTrial018_TopView.avi\n",
      "Loading  D:/YuLab/Work/GPS/Video/Chester/GPS_13_ThreeFPHoldSRTProbe/20240725/Top/Clips/Chester_20240725_HoldTrial018_TopView.avi\n",
      "Duration of video [s]:  9.62 , recorded with  19.23 fps!\n",
      "Overall # of frames:  185  found with (before cropping) frame dimensions:  1280 1331\n",
      "Starting to extract posture\n",
      "Cropping based on the x1 = 0 x2 = 1280 y1 = 0 y2 = 1024. You can adjust the cropping coordinates in the config.yaml file.\n"
     ]
    },
    {
     "name": "stderr",
     "output_type": "stream",
     "text": [
      "100%|██████████| 185/185 [00:08<00:00, 22.87it/s]\n"
     ]
    },
    {
     "name": "stdout",
     "output_type": "stream",
     "text": [
      "Saving results in D:\\YuLab\\Work\\GPS\\Video\\Chester\\GPS_13_ThreeFPHoldSRTProbe\\20240725\\Top\\Clips...\n",
      "Saving csv poses!\n",
      "Starting to analyze %  D:/YuLab/Work/GPS/Video/Chester/GPS_13_ThreeFPHoldSRTProbe/20240725/Top/Clips/Chester_20240725_HoldTrial019_TopView.avi\n",
      "Loading  D:/YuLab/Work/GPS/Video/Chester/GPS_13_ThreeFPHoldSRTProbe/20240725/Top/Clips/Chester_20240725_HoldTrial019_TopView.avi\n",
      "Duration of video [s]:  9.62 , recorded with  19.23 fps!\n",
      "Overall # of frames:  185  found with (before cropping) frame dimensions:  1280 1331\n",
      "Starting to extract posture\n",
      "Cropping based on the x1 = 0 x2 = 1280 y1 = 0 y2 = 1024. You can adjust the cropping coordinates in the config.yaml file.\n"
     ]
    },
    {
     "name": "stderr",
     "output_type": "stream",
     "text": [
      "100%|██████████| 185/185 [00:08<00:00, 22.89it/s]\n"
     ]
    },
    {
     "name": "stdout",
     "output_type": "stream",
     "text": [
      "Saving results in D:\\YuLab\\Work\\GPS\\Video\\Chester\\GPS_13_ThreeFPHoldSRTProbe\\20240725\\Top\\Clips...\n",
      "Saving csv poses!\n",
      "Starting to analyze %  D:/YuLab/Work/GPS/Video/Chester/GPS_13_ThreeFPHoldSRTProbe/20240725/Top/Clips/Chester_20240725_HoldTrial020_TopView.avi\n",
      "Loading  D:/YuLab/Work/GPS/Video/Chester/GPS_13_ThreeFPHoldSRTProbe/20240725/Top/Clips/Chester_20240725_HoldTrial020_TopView.avi\n",
      "Duration of video [s]:  9.57 , recorded with  19.23 fps!\n",
      "Overall # of frames:  184  found with (before cropping) frame dimensions:  1280 1331\n",
      "Starting to extract posture\n",
      "Cropping based on the x1 = 0 x2 = 1280 y1 = 0 y2 = 1024. You can adjust the cropping coordinates in the config.yaml file.\n"
     ]
    },
    {
     "name": "stderr",
     "output_type": "stream",
     "text": [
      "100%|██████████| 184/184 [00:07<00:00, 23.54it/s]\n"
     ]
    },
    {
     "name": "stdout",
     "output_type": "stream",
     "text": [
      "Saving results in D:\\YuLab\\Work\\GPS\\Video\\Chester\\GPS_13_ThreeFPHoldSRTProbe\\20240725\\Top\\Clips...\n",
      "Saving csv poses!\n",
      "Starting to analyze %  D:/YuLab/Work/GPS/Video/Chester/GPS_13_ThreeFPHoldSRTProbe/20240725/Top/Clips/Chester_20240725_HoldTrial021_TopView.avi\n",
      "Loading  D:/YuLab/Work/GPS/Video/Chester/GPS_13_ThreeFPHoldSRTProbe/20240725/Top/Clips/Chester_20240725_HoldTrial021_TopView.avi\n",
      "Duration of video [s]:  9.4 , recorded with  20.0 fps!\n",
      "Overall # of frames:  188  found with (before cropping) frame dimensions:  1280 1331\n",
      "Starting to extract posture\n",
      "Cropping based on the x1 = 0 x2 = 1280 y1 = 0 y2 = 1024. You can adjust the cropping coordinates in the config.yaml file.\n"
     ]
    },
    {
     "name": "stderr",
     "output_type": "stream",
     "text": [
      "100%|██████████| 188/188 [00:08<00:00, 23.14it/s]\n"
     ]
    },
    {
     "name": "stdout",
     "output_type": "stream",
     "text": [
      "Saving results in D:\\YuLab\\Work\\GPS\\Video\\Chester\\GPS_13_ThreeFPHoldSRTProbe\\20240725\\Top\\Clips...\n",
      "Saving csv poses!\n",
      "Starting to analyze %  D:/YuLab/Work/GPS/Video/Chester/GPS_13_ThreeFPHoldSRTProbe/20240725/Top/Clips/Chester_20240725_HoldTrial022_TopView.avi\n",
      "Loading  D:/YuLab/Work/GPS/Video/Chester/GPS_13_ThreeFPHoldSRTProbe/20240725/Top/Clips/Chester_20240725_HoldTrial022_TopView.avi\n",
      "Duration of video [s]:  9.72 , recorded with  19.23 fps!\n",
      "Overall # of frames:  187  found with (before cropping) frame dimensions:  1280 1331\n",
      "Starting to extract posture\n",
      "Cropping based on the x1 = 0 x2 = 1280 y1 = 0 y2 = 1024. You can adjust the cropping coordinates in the config.yaml file.\n"
     ]
    },
    {
     "name": "stderr",
     "output_type": "stream",
     "text": [
      "100%|██████████| 187/187 [00:08<00:00, 23.03it/s]\n"
     ]
    },
    {
     "name": "stdout",
     "output_type": "stream",
     "text": [
      "Saving results in D:\\YuLab\\Work\\GPS\\Video\\Chester\\GPS_13_ThreeFPHoldSRTProbe\\20240725\\Top\\Clips...\n",
      "Saving csv poses!\n",
      "Starting to analyze %  D:/YuLab/Work/GPS/Video/Chester/GPS_13_ThreeFPHoldSRTProbe/20240725/Top/Clips/Chester_20240725_HoldTrial023_TopView.avi\n",
      "Loading  D:/YuLab/Work/GPS/Video/Chester/GPS_13_ThreeFPHoldSRTProbe/20240725/Top/Clips/Chester_20240725_HoldTrial023_TopView.avi\n",
      "Duration of video [s]:  9.62 , recorded with  19.23 fps!\n",
      "Overall # of frames:  185  found with (before cropping) frame dimensions:  1280 1331\n",
      "Starting to extract posture\n",
      "Cropping based on the x1 = 0 x2 = 1280 y1 = 0 y2 = 1024. You can adjust the cropping coordinates in the config.yaml file.\n"
     ]
    },
    {
     "name": "stderr",
     "output_type": "stream",
     "text": [
      "100%|██████████| 185/185 [00:08<00:00, 22.82it/s]\n"
     ]
    },
    {
     "name": "stdout",
     "output_type": "stream",
     "text": [
      "Saving results in D:\\YuLab\\Work\\GPS\\Video\\Chester\\GPS_13_ThreeFPHoldSRTProbe\\20240725\\Top\\Clips...\n",
      "Saving csv poses!\n",
      "Starting to analyze %  D:/YuLab/Work/GPS/Video/Chester/GPS_13_ThreeFPHoldSRTProbe/20240725/Top/Clips/Chester_20240725_HoldTrial024_TopView.avi\n",
      "Loading  D:/YuLab/Work/GPS/Video/Chester/GPS_13_ThreeFPHoldSRTProbe/20240725/Top/Clips/Chester_20240725_HoldTrial024_TopView.avi\n",
      "Duration of video [s]:  9.67 , recorded with  19.23 fps!\n",
      "Overall # of frames:  186  found with (before cropping) frame dimensions:  1280 1331\n",
      "Starting to extract posture\n",
      "Cropping based on the x1 = 0 x2 = 1280 y1 = 0 y2 = 1024. You can adjust the cropping coordinates in the config.yaml file.\n"
     ]
    },
    {
     "name": "stderr",
     "output_type": "stream",
     "text": [
      "100%|██████████| 186/186 [00:08<00:00, 22.96it/s]\n"
     ]
    },
    {
     "name": "stdout",
     "output_type": "stream",
     "text": [
      "Saving results in D:\\YuLab\\Work\\GPS\\Video\\Chester\\GPS_13_ThreeFPHoldSRTProbe\\20240725\\Top\\Clips...\n",
      "Saving csv poses!\n",
      "Starting to analyze %  D:/YuLab/Work/GPS/Video/Chester/GPS_13_ThreeFPHoldSRTProbe/20240725/Top/Clips/Chester_20240725_HoldTrial025_TopView.avi\n",
      "Loading  D:/YuLab/Work/GPS/Video/Chester/GPS_13_ThreeFPHoldSRTProbe/20240725/Top/Clips/Chester_20240725_HoldTrial025_TopView.avi\n",
      "Duration of video [s]:  9.78 , recorded with  19.23 fps!\n",
      "Overall # of frames:  188  found with (before cropping) frame dimensions:  1280 1331\n",
      "Starting to extract posture\n",
      "Cropping based on the x1 = 0 x2 = 1280 y1 = 0 y2 = 1024. You can adjust the cropping coordinates in the config.yaml file.\n"
     ]
    },
    {
     "name": "stderr",
     "output_type": "stream",
     "text": [
      "100%|██████████| 188/188 [00:08<00:00, 23.15it/s]\n"
     ]
    },
    {
     "name": "stdout",
     "output_type": "stream",
     "text": [
      "Saving results in D:\\YuLab\\Work\\GPS\\Video\\Chester\\GPS_13_ThreeFPHoldSRTProbe\\20240725\\Top\\Clips...\n",
      "Saving csv poses!\n",
      "Starting to analyze %  D:/YuLab/Work/GPS/Video/Chester/GPS_13_ThreeFPHoldSRTProbe/20240725/Top/Clips/Chester_20240725_HoldTrial026_TopView.avi\n",
      "Loading  D:/YuLab/Work/GPS/Video/Chester/GPS_13_ThreeFPHoldSRTProbe/20240725/Top/Clips/Chester_20240725_HoldTrial026_TopView.avi\n",
      "Duration of video [s]:  7.56 , recorded with  25.0 fps!\n",
      "Overall # of frames:  189  found with (before cropping) frame dimensions:  1280 1331\n",
      "Starting to extract posture\n",
      "Cropping based on the x1 = 0 x2 = 1280 y1 = 0 y2 = 1024. You can adjust the cropping coordinates in the config.yaml file.\n"
     ]
    },
    {
     "name": "stderr",
     "output_type": "stream",
     "text": [
      "100%|██████████| 189/189 [00:08<00:00, 23.19it/s]\n"
     ]
    },
    {
     "name": "stdout",
     "output_type": "stream",
     "text": [
      "Saving results in D:\\YuLab\\Work\\GPS\\Video\\Chester\\GPS_13_ThreeFPHoldSRTProbe\\20240725\\Top\\Clips...\n",
      "Saving csv poses!\n",
      "Starting to analyze %  D:/YuLab/Work/GPS/Video/Chester/GPS_13_ThreeFPHoldSRTProbe/20240725/Top/Clips/Chester_20240725_HoldTrial028_TopView.avi\n",
      "Loading  D:/YuLab/Work/GPS/Video/Chester/GPS_13_ThreeFPHoldSRTProbe/20240725/Top/Clips/Chester_20240725_HoldTrial028_TopView.avi\n",
      "Duration of video [s]:  9.46 , recorded with  19.23 fps!\n",
      "Overall # of frames:  182  found with (before cropping) frame dimensions:  1280 1331\n",
      "Starting to extract posture\n",
      "Cropping based on the x1 = 0 x2 = 1280 y1 = 0 y2 = 1024. You can adjust the cropping coordinates in the config.yaml file.\n"
     ]
    },
    {
     "name": "stderr",
     "output_type": "stream",
     "text": [
      "100%|██████████| 182/182 [00:07<00:00, 23.26it/s]\n"
     ]
    },
    {
     "name": "stdout",
     "output_type": "stream",
     "text": [
      "Saving results in D:\\YuLab\\Work\\GPS\\Video\\Chester\\GPS_13_ThreeFPHoldSRTProbe\\20240725\\Top\\Clips...\n",
      "Saving csv poses!\n",
      "Starting to analyze %  D:/YuLab/Work/GPS/Video/Chester/GPS_13_ThreeFPHoldSRTProbe/20240725/Top/Clips/Chester_20240725_HoldTrial029_TopView.avi\n",
      "Loading  D:/YuLab/Work/GPS/Video/Chester/GPS_13_ThreeFPHoldSRTProbe/20240725/Top/Clips/Chester_20240725_HoldTrial029_TopView.avi\n",
      "Duration of video [s]:  9.15 , recorded with  20.0 fps!\n",
      "Overall # of frames:  183  found with (before cropping) frame dimensions:  1280 1331\n",
      "Starting to extract posture\n",
      "Cropping based on the x1 = 0 x2 = 1280 y1 = 0 y2 = 1024. You can adjust the cropping coordinates in the config.yaml file.\n"
     ]
    },
    {
     "name": "stderr",
     "output_type": "stream",
     "text": [
      "100%|██████████| 183/183 [00:07<00:00, 23.40it/s]\n"
     ]
    },
    {
     "name": "stdout",
     "output_type": "stream",
     "text": [
      "Saving results in D:\\YuLab\\Work\\GPS\\Video\\Chester\\GPS_13_ThreeFPHoldSRTProbe\\20240725\\Top\\Clips...\n",
      "Saving csv poses!\n",
      "Starting to analyze %  D:/YuLab/Work/GPS/Video/Chester/GPS_13_ThreeFPHoldSRTProbe/20240725/Top/Clips/Chester_20240725_HoldTrial030_TopView.avi\n",
      "Loading  D:/YuLab/Work/GPS/Video/Chester/GPS_13_ThreeFPHoldSRTProbe/20240725/Top/Clips/Chester_20240725_HoldTrial030_TopView.avi\n",
      "Duration of video [s]:  9.52 , recorded with  19.23 fps!\n",
      "Overall # of frames:  183  found with (before cropping) frame dimensions:  1280 1331\n",
      "Starting to extract posture\n",
      "Cropping based on the x1 = 0 x2 = 1280 y1 = 0 y2 = 1024. You can adjust the cropping coordinates in the config.yaml file.\n"
     ]
    },
    {
     "name": "stderr",
     "output_type": "stream",
     "text": [
      "100%|██████████| 183/183 [00:07<00:00, 23.42it/s]\n"
     ]
    },
    {
     "name": "stdout",
     "output_type": "stream",
     "text": [
      "Saving results in D:\\YuLab\\Work\\GPS\\Video\\Chester\\GPS_13_ThreeFPHoldSRTProbe\\20240725\\Top\\Clips...\n",
      "Saving csv poses!\n",
      "Starting to analyze %  D:/YuLab/Work/GPS/Video/Chester/GPS_13_ThreeFPHoldSRTProbe/20240725/Top/Clips/Chester_20240725_HoldTrial031_TopView.avi\n",
      "Loading  D:/YuLab/Work/GPS/Video/Chester/GPS_13_ThreeFPHoldSRTProbe/20240725/Top/Clips/Chester_20240725_HoldTrial031_TopView.avi\n",
      "Duration of video [s]:  9.52 , recorded with  19.23 fps!\n",
      "Overall # of frames:  183  found with (before cropping) frame dimensions:  1280 1331\n",
      "Starting to extract posture\n",
      "Cropping based on the x1 = 0 x2 = 1280 y1 = 0 y2 = 1024. You can adjust the cropping coordinates in the config.yaml file.\n"
     ]
    },
    {
     "name": "stderr",
     "output_type": "stream",
     "text": [
      "100%|██████████| 183/183 [00:07<00:00, 23.41it/s]\n"
     ]
    },
    {
     "name": "stdout",
     "output_type": "stream",
     "text": [
      "Saving results in D:\\YuLab\\Work\\GPS\\Video\\Chester\\GPS_13_ThreeFPHoldSRTProbe\\20240725\\Top\\Clips...\n",
      "Saving csv poses!\n",
      "Starting to analyze %  D:/YuLab/Work/GPS/Video/Chester/GPS_13_ThreeFPHoldSRTProbe/20240725/Top/Clips/Chester_20240725_HoldTrial032_TopView.avi\n",
      "Loading  D:/YuLab/Work/GPS/Video/Chester/GPS_13_ThreeFPHoldSRTProbe/20240725/Top/Clips/Chester_20240725_HoldTrial032_TopView.avi\n",
      "Duration of video [s]:  9.52 , recorded with  19.23 fps!\n",
      "Overall # of frames:  183  found with (before cropping) frame dimensions:  1280 1331\n",
      "Starting to extract posture\n",
      "Cropping based on the x1 = 0 x2 = 1280 y1 = 0 y2 = 1024. You can adjust the cropping coordinates in the config.yaml file.\n"
     ]
    },
    {
     "name": "stderr",
     "output_type": "stream",
     "text": [
      "100%|██████████| 183/183 [00:07<00:00, 23.34it/s]\n"
     ]
    },
    {
     "name": "stdout",
     "output_type": "stream",
     "text": [
      "Saving results in D:\\YuLab\\Work\\GPS\\Video\\Chester\\GPS_13_ThreeFPHoldSRTProbe\\20240725\\Top\\Clips...\n",
      "Saving csv poses!\n",
      "Starting to analyze %  D:/YuLab/Work/GPS/Video/Chester/GPS_13_ThreeFPHoldSRTProbe/20240725/Top/Clips/Chester_20240725_HoldTrial033_TopView.avi\n",
      "Loading  D:/YuLab/Work/GPS/Video/Chester/GPS_13_ThreeFPHoldSRTProbe/20240725/Top/Clips/Chester_20240725_HoldTrial033_TopView.avi\n",
      "Duration of video [s]:  9.52 , recorded with  19.23 fps!\n",
      "Overall # of frames:  183  found with (before cropping) frame dimensions:  1280 1331\n",
      "Starting to extract posture\n",
      "Cropping based on the x1 = 0 x2 = 1280 y1 = 0 y2 = 1024. You can adjust the cropping coordinates in the config.yaml file.\n"
     ]
    },
    {
     "name": "stderr",
     "output_type": "stream",
     "text": [
      "100%|██████████| 183/183 [00:07<00:00, 23.32it/s]\n"
     ]
    },
    {
     "name": "stdout",
     "output_type": "stream",
     "text": [
      "Saving results in D:\\YuLab\\Work\\GPS\\Video\\Chester\\GPS_13_ThreeFPHoldSRTProbe\\20240725\\Top\\Clips...\n",
      "Saving csv poses!\n",
      "Starting to analyze %  D:/YuLab/Work/GPS/Video/Chester/GPS_13_ThreeFPHoldSRTProbe/20240725/Top/Clips/Chester_20240725_HoldTrial034_TopView.avi\n",
      "Loading  D:/YuLab/Work/GPS/Video/Chester/GPS_13_ThreeFPHoldSRTProbe/20240725/Top/Clips/Chester_20240725_HoldTrial034_TopView.avi\n",
      "Duration of video [s]:  9.3 , recorded with  20.0 fps!\n",
      "Overall # of frames:  186  found with (before cropping) frame dimensions:  1280 1331\n",
      "Starting to extract posture\n",
      "Cropping based on the x1 = 0 x2 = 1280 y1 = 0 y2 = 1024. You can adjust the cropping coordinates in the config.yaml file.\n"
     ]
    },
    {
     "name": "stderr",
     "output_type": "stream",
     "text": [
      "100%|██████████| 186/186 [00:08<00:00, 22.87it/s]\n"
     ]
    },
    {
     "name": "stdout",
     "output_type": "stream",
     "text": [
      "Saving results in D:\\YuLab\\Work\\GPS\\Video\\Chester\\GPS_13_ThreeFPHoldSRTProbe\\20240725\\Top\\Clips...\n",
      "Saving csv poses!\n",
      "Starting to analyze %  D:/YuLab/Work/GPS/Video/Chester/GPS_13_ThreeFPHoldSRTProbe/20240725/Top/Clips/Chester_20240725_HoldTrial035_TopView.avi\n",
      "Loading  D:/YuLab/Work/GPS/Video/Chester/GPS_13_ThreeFPHoldSRTProbe/20240725/Top/Clips/Chester_20240725_HoldTrial035_TopView.avi\n",
      "Duration of video [s]:  9.15 , recorded with  20.0 fps!\n",
      "Overall # of frames:  183  found with (before cropping) frame dimensions:  1280 1331\n",
      "Starting to extract posture\n",
      "Cropping based on the x1 = 0 x2 = 1280 y1 = 0 y2 = 1024. You can adjust the cropping coordinates in the config.yaml file.\n"
     ]
    },
    {
     "name": "stderr",
     "output_type": "stream",
     "text": [
      "100%|██████████| 183/183 [00:07<00:00, 23.26it/s]\n"
     ]
    },
    {
     "name": "stdout",
     "output_type": "stream",
     "text": [
      "Saving results in D:\\YuLab\\Work\\GPS\\Video\\Chester\\GPS_13_ThreeFPHoldSRTProbe\\20240725\\Top\\Clips...\n",
      "Saving csv poses!\n",
      "Starting to analyze %  D:/YuLab/Work/GPS/Video/Chester/GPS_13_ThreeFPHoldSRTProbe/20240725/Top/Clips/Chester_20240725_HoldTrial036_TopView.avi\n",
      "Loading  D:/YuLab/Work/GPS/Video/Chester/GPS_13_ThreeFPHoldSRTProbe/20240725/Top/Clips/Chester_20240725_HoldTrial036_TopView.avi\n",
      "Duration of video [s]:  9.52 , recorded with  19.23 fps!\n",
      "Overall # of frames:  183  found with (before cropping) frame dimensions:  1280 1331\n",
      "Starting to extract posture\n",
      "Cropping based on the x1 = 0 x2 = 1280 y1 = 0 y2 = 1024. You can adjust the cropping coordinates in the config.yaml file.\n"
     ]
    },
    {
     "name": "stderr",
     "output_type": "stream",
     "text": [
      "100%|██████████| 183/183 [00:07<00:00, 23.32it/s]\n"
     ]
    },
    {
     "name": "stdout",
     "output_type": "stream",
     "text": [
      "Saving results in D:\\YuLab\\Work\\GPS\\Video\\Chester\\GPS_13_ThreeFPHoldSRTProbe\\20240725\\Top\\Clips...\n",
      "Saving csv poses!\n",
      "Starting to analyze %  D:/YuLab/Work/GPS/Video/Chester/GPS_13_ThreeFPHoldSRTProbe/20240725/Top/Clips/Chester_20240725_HoldTrial037_TopView.avi\n",
      "Loading  D:/YuLab/Work/GPS/Video/Chester/GPS_13_ThreeFPHoldSRTProbe/20240725/Top/Clips/Chester_20240725_HoldTrial037_TopView.avi\n",
      "Duration of video [s]:  9.57 , recorded with  19.23 fps!\n",
      "Overall # of frames:  184  found with (before cropping) frame dimensions:  1280 1331\n",
      "Starting to extract posture\n",
      "Cropping based on the x1 = 0 x2 = 1280 y1 = 0 y2 = 1024. You can adjust the cropping coordinates in the config.yaml file.\n"
     ]
    },
    {
     "name": "stderr",
     "output_type": "stream",
     "text": [
      "100%|██████████| 184/184 [00:07<00:00, 23.42it/s]\n"
     ]
    },
    {
     "name": "stdout",
     "output_type": "stream",
     "text": [
      "Saving results in D:\\YuLab\\Work\\GPS\\Video\\Chester\\GPS_13_ThreeFPHoldSRTProbe\\20240725\\Top\\Clips...\n",
      "Saving csv poses!\n",
      "Starting to analyze %  D:/YuLab/Work/GPS/Video/Chester/GPS_13_ThreeFPHoldSRTProbe/20240725/Top/Clips/Chester_20240725_HoldTrial038_TopView.avi\n",
      "Loading  D:/YuLab/Work/GPS/Video/Chester/GPS_13_ThreeFPHoldSRTProbe/20240725/Top/Clips/Chester_20240725_HoldTrial038_TopView.avi\n",
      "Duration of video [s]:  9.52 , recorded with  19.23 fps!\n",
      "Overall # of frames:  183  found with (before cropping) frame dimensions:  1280 1331\n",
      "Starting to extract posture\n",
      "Cropping based on the x1 = 0 x2 = 1280 y1 = 0 y2 = 1024. You can adjust the cropping coordinates in the config.yaml file.\n"
     ]
    },
    {
     "name": "stderr",
     "output_type": "stream",
     "text": [
      "100%|██████████| 183/183 [00:07<00:00, 23.24it/s]\n"
     ]
    },
    {
     "name": "stdout",
     "output_type": "stream",
     "text": [
      "Saving results in D:\\YuLab\\Work\\GPS\\Video\\Chester\\GPS_13_ThreeFPHoldSRTProbe\\20240725\\Top\\Clips...\n",
      "Saving csv poses!\n",
      "Starting to analyze %  D:/YuLab/Work/GPS/Video/Chester/GPS_13_ThreeFPHoldSRTProbe/20240725/Top/Clips/Chester_20240725_HoldTrial039_TopView.avi\n",
      "Loading  D:/YuLab/Work/GPS/Video/Chester/GPS_13_ThreeFPHoldSRTProbe/20240725/Top/Clips/Chester_20240725_HoldTrial039_TopView.avi\n",
      "Duration of video [s]:  9.57 , recorded with  19.23 fps!\n",
      "Overall # of frames:  184  found with (before cropping) frame dimensions:  1280 1331\n",
      "Starting to extract posture\n",
      "Cropping based on the x1 = 0 x2 = 1280 y1 = 0 y2 = 1024. You can adjust the cropping coordinates in the config.yaml file.\n"
     ]
    },
    {
     "name": "stderr",
     "output_type": "stream",
     "text": [
      "100%|██████████| 184/184 [00:07<00:00, 23.49it/s]\n"
     ]
    },
    {
     "name": "stdout",
     "output_type": "stream",
     "text": [
      "Saving results in D:\\YuLab\\Work\\GPS\\Video\\Chester\\GPS_13_ThreeFPHoldSRTProbe\\20240725\\Top\\Clips...\n",
      "Saving csv poses!\n",
      "Starting to analyze %  D:/YuLab/Work/GPS/Video/Chester/GPS_13_ThreeFPHoldSRTProbe/20240725/Top/Clips/Chester_20240725_HoldTrial040_TopView.avi\n",
      "Loading  D:/YuLab/Work/GPS/Video/Chester/GPS_13_ThreeFPHoldSRTProbe/20240725/Top/Clips/Chester_20240725_HoldTrial040_TopView.avi\n",
      "Duration of video [s]:  9.41 , recorded with  19.23 fps!\n",
      "Overall # of frames:  181  found with (before cropping) frame dimensions:  1280 1331\n",
      "Starting to extract posture\n",
      "Cropping based on the x1 = 0 x2 = 1280 y1 = 0 y2 = 1024. You can adjust the cropping coordinates in the config.yaml file.\n"
     ]
    },
    {
     "name": "stderr",
     "output_type": "stream",
     "text": [
      "100%|██████████| 181/181 [00:07<00:00, 23.08it/s]\n"
     ]
    },
    {
     "name": "stdout",
     "output_type": "stream",
     "text": [
      "Saving results in D:\\YuLab\\Work\\GPS\\Video\\Chester\\GPS_13_ThreeFPHoldSRTProbe\\20240725\\Top\\Clips...\n",
      "Saving csv poses!\n",
      "Starting to analyze %  D:/YuLab/Work/GPS/Video/Chester/GPS_13_ThreeFPHoldSRTProbe/20240725/Top/Clips/Chester_20240725_HoldTrial041_TopView.avi\n",
      "Loading  D:/YuLab/Work/GPS/Video/Chester/GPS_13_ThreeFPHoldSRTProbe/20240725/Top/Clips/Chester_20240725_HoldTrial041_TopView.avi\n",
      "Duration of video [s]:  9.62 , recorded with  19.23 fps!\n",
      "Overall # of frames:  185  found with (before cropping) frame dimensions:  1280 1331\n",
      "Starting to extract posture\n",
      "Cropping based on the x1 = 0 x2 = 1280 y1 = 0 y2 = 1024. You can adjust the cropping coordinates in the config.yaml file.\n"
     ]
    },
    {
     "name": "stderr",
     "output_type": "stream",
     "text": [
      "100%|██████████| 185/185 [00:08<00:00, 22.79it/s]\n"
     ]
    },
    {
     "name": "stdout",
     "output_type": "stream",
     "text": [
      "Saving results in D:\\YuLab\\Work\\GPS\\Video\\Chester\\GPS_13_ThreeFPHoldSRTProbe\\20240725\\Top\\Clips...\n",
      "Saving csv poses!\n",
      "Starting to analyze %  D:/YuLab/Work/GPS/Video/Chester/GPS_13_ThreeFPHoldSRTProbe/20240725/Top/Clips/Chester_20240725_HoldTrial042_TopView.avi\n",
      "Loading  D:/YuLab/Work/GPS/Video/Chester/GPS_13_ThreeFPHoldSRTProbe/20240725/Top/Clips/Chester_20240725_HoldTrial042_TopView.avi\n",
      "Duration of video [s]:  9.46 , recorded with  19.23 fps!\n",
      "Overall # of frames:  182  found with (before cropping) frame dimensions:  1280 1331\n",
      "Starting to extract posture\n",
      "Cropping based on the x1 = 0 x2 = 1280 y1 = 0 y2 = 1024. You can adjust the cropping coordinates in the config.yaml file.\n"
     ]
    },
    {
     "name": "stderr",
     "output_type": "stream",
     "text": [
      "100%|██████████| 182/182 [00:07<00:00, 23.18it/s]\n"
     ]
    },
    {
     "name": "stdout",
     "output_type": "stream",
     "text": [
      "Saving results in D:\\YuLab\\Work\\GPS\\Video\\Chester\\GPS_13_ThreeFPHoldSRTProbe\\20240725\\Top\\Clips...\n",
      "Saving csv poses!\n",
      "Starting to analyze %  D:/YuLab/Work/GPS/Video/Chester/GPS_13_ThreeFPHoldSRTProbe/20240725/Top/Clips/Chester_20240725_HoldTrial043_TopView.avi\n",
      "Loading  D:/YuLab/Work/GPS/Video/Chester/GPS_13_ThreeFPHoldSRTProbe/20240725/Top/Clips/Chester_20240725_HoldTrial043_TopView.avi\n",
      "Duration of video [s]:  9.57 , recorded with  19.23 fps!\n",
      "Overall # of frames:  184  found with (before cropping) frame dimensions:  1280 1331\n",
      "Starting to extract posture\n",
      "Cropping based on the x1 = 0 x2 = 1280 y1 = 0 y2 = 1024. You can adjust the cropping coordinates in the config.yaml file.\n"
     ]
    },
    {
     "name": "stderr",
     "output_type": "stream",
     "text": [
      "100%|██████████| 184/184 [00:07<00:00, 23.37it/s]\n"
     ]
    },
    {
     "name": "stdout",
     "output_type": "stream",
     "text": [
      "Saving results in D:\\YuLab\\Work\\GPS\\Video\\Chester\\GPS_13_ThreeFPHoldSRTProbe\\20240725\\Top\\Clips...\n",
      "Saving csv poses!\n",
      "Starting to analyze %  D:/YuLab/Work/GPS/Video/Chester/GPS_13_ThreeFPHoldSRTProbe/20240725/Top/Clips/Chester_20240725_HoldTrial044_TopView.avi\n",
      "Loading  D:/YuLab/Work/GPS/Video/Chester/GPS_13_ThreeFPHoldSRTProbe/20240725/Top/Clips/Chester_20240725_HoldTrial044_TopView.avi\n",
      "Duration of video [s]:  9.52 , recorded with  19.23 fps!\n",
      "Overall # of frames:  183  found with (before cropping) frame dimensions:  1280 1331\n",
      "Starting to extract posture\n",
      "Cropping based on the x1 = 0 x2 = 1280 y1 = 0 y2 = 1024. You can adjust the cropping coordinates in the config.yaml file.\n"
     ]
    },
    {
     "name": "stderr",
     "output_type": "stream",
     "text": [
      "100%|██████████| 183/183 [00:07<00:00, 23.26it/s]\n"
     ]
    },
    {
     "name": "stdout",
     "output_type": "stream",
     "text": [
      "Saving results in D:\\YuLab\\Work\\GPS\\Video\\Chester\\GPS_13_ThreeFPHoldSRTProbe\\20240725\\Top\\Clips...\n",
      "Saving csv poses!\n",
      "Starting to analyze %  D:/YuLab/Work/GPS/Video/Chester/GPS_13_ThreeFPHoldSRTProbe/20240725/Top/Clips/Chester_20240725_HoldTrial045_TopView.avi\n",
      "Loading  D:/YuLab/Work/GPS/Video/Chester/GPS_13_ThreeFPHoldSRTProbe/20240725/Top/Clips/Chester_20240725_HoldTrial045_TopView.avi\n",
      "Duration of video [s]:  9.52 , recorded with  19.23 fps!\n",
      "Overall # of frames:  183  found with (before cropping) frame dimensions:  1280 1331\n",
      "Starting to extract posture\n",
      "Cropping based on the x1 = 0 x2 = 1280 y1 = 0 y2 = 1024. You can adjust the cropping coordinates in the config.yaml file.\n"
     ]
    },
    {
     "name": "stderr",
     "output_type": "stream",
     "text": [
      "100%|██████████| 183/183 [00:07<00:00, 23.26it/s]\n"
     ]
    },
    {
     "name": "stdout",
     "output_type": "stream",
     "text": [
      "Saving results in D:\\YuLab\\Work\\GPS\\Video\\Chester\\GPS_13_ThreeFPHoldSRTProbe\\20240725\\Top\\Clips...\n",
      "Saving csv poses!\n",
      "Starting to analyze %  D:/YuLab/Work/GPS/Video/Chester/GPS_13_ThreeFPHoldSRTProbe/20240725/Top/Clips/Chester_20240725_HoldTrial046_TopView.avi\n",
      "Loading  D:/YuLab/Work/GPS/Video/Chester/GPS_13_ThreeFPHoldSRTProbe/20240725/Top/Clips/Chester_20240725_HoldTrial046_TopView.avi\n",
      "Duration of video [s]:  9.2 , recorded with  20.0 fps!\n",
      "Overall # of frames:  184  found with (before cropping) frame dimensions:  1280 1331\n",
      "Starting to extract posture\n",
      "Cropping based on the x1 = 0 x2 = 1280 y1 = 0 y2 = 1024. You can adjust the cropping coordinates in the config.yaml file.\n"
     ]
    },
    {
     "name": "stderr",
     "output_type": "stream",
     "text": [
      "100%|██████████| 184/184 [00:07<00:00, 23.40it/s]\n"
     ]
    },
    {
     "name": "stdout",
     "output_type": "stream",
     "text": [
      "Saving results in D:\\YuLab\\Work\\GPS\\Video\\Chester\\GPS_13_ThreeFPHoldSRTProbe\\20240725\\Top\\Clips...\n",
      "Saving csv poses!\n",
      "Starting to analyze %  D:/YuLab/Work/GPS/Video/Chester/GPS_13_ThreeFPHoldSRTProbe/20240725/Top/Clips/Chester_20240725_HoldTrial047_TopView.avi\n",
      "Loading  D:/YuLab/Work/GPS/Video/Chester/GPS_13_ThreeFPHoldSRTProbe/20240725/Top/Clips/Chester_20240725_HoldTrial047_TopView.avi\n",
      "Duration of video [s]:  9.52 , recorded with  19.23 fps!\n",
      "Overall # of frames:  183  found with (before cropping) frame dimensions:  1280 1331\n",
      "Starting to extract posture\n",
      "Cropping based on the x1 = 0 x2 = 1280 y1 = 0 y2 = 1024. You can adjust the cropping coordinates in the config.yaml file.\n"
     ]
    },
    {
     "name": "stderr",
     "output_type": "stream",
     "text": [
      "100%|██████████| 183/183 [00:07<00:00, 23.24it/s]\n"
     ]
    },
    {
     "name": "stdout",
     "output_type": "stream",
     "text": [
      "Saving results in D:\\YuLab\\Work\\GPS\\Video\\Chester\\GPS_13_ThreeFPHoldSRTProbe\\20240725\\Top\\Clips...\n",
      "Saving csv poses!\n",
      "Starting to analyze %  D:/YuLab/Work/GPS/Video/Chester/GPS_13_ThreeFPHoldSRTProbe/20240725/Top/Clips/Chester_20240725_HoldTrial048_TopView.avi\n",
      "Loading  D:/YuLab/Work/GPS/Video/Chester/GPS_13_ThreeFPHoldSRTProbe/20240725/Top/Clips/Chester_20240725_HoldTrial048_TopView.avi\n",
      "Duration of video [s]:  9.3 , recorded with  20.0 fps!\n",
      "Overall # of frames:  186  found with (before cropping) frame dimensions:  1280 1331\n",
      "Starting to extract posture\n",
      "Cropping based on the x1 = 0 x2 = 1280 y1 = 0 y2 = 1024. You can adjust the cropping coordinates in the config.yaml file.\n"
     ]
    },
    {
     "name": "stderr",
     "output_type": "stream",
     "text": [
      "100%|██████████| 186/186 [00:08<00:00, 22.82it/s]\n"
     ]
    },
    {
     "name": "stdout",
     "output_type": "stream",
     "text": [
      "Saving results in D:\\YuLab\\Work\\GPS\\Video\\Chester\\GPS_13_ThreeFPHoldSRTProbe\\20240725\\Top\\Clips...\n",
      "Saving csv poses!\n",
      "Starting to analyze %  D:/YuLab/Work/GPS/Video/Chester/GPS_13_ThreeFPHoldSRTProbe/20240725/Top/Clips/Chester_20240725_HoldTrial049_TopView.avi\n",
      "Loading  D:/YuLab/Work/GPS/Video/Chester/GPS_13_ThreeFPHoldSRTProbe/20240725/Top/Clips/Chester_20240725_HoldTrial049_TopView.avi\n",
      "Duration of video [s]:  9.52 , recorded with  19.23 fps!\n",
      "Overall # of frames:  183  found with (before cropping) frame dimensions:  1280 1331\n",
      "Starting to extract posture\n",
      "Cropping based on the x1 = 0 x2 = 1280 y1 = 0 y2 = 1024. You can adjust the cropping coordinates in the config.yaml file.\n"
     ]
    },
    {
     "name": "stderr",
     "output_type": "stream",
     "text": [
      "100%|██████████| 183/183 [00:07<00:00, 23.28it/s]\n"
     ]
    },
    {
     "name": "stdout",
     "output_type": "stream",
     "text": [
      "Saving results in D:\\YuLab\\Work\\GPS\\Video\\Chester\\GPS_13_ThreeFPHoldSRTProbe\\20240725\\Top\\Clips...\n",
      "Saving csv poses!\n",
      "Starting to analyze %  D:/YuLab/Work/GPS/Video/Chester/GPS_13_ThreeFPHoldSRTProbe/20240725/Top/Clips/Chester_20240725_HoldTrial050_TopView.avi\n",
      "Loading  D:/YuLab/Work/GPS/Video/Chester/GPS_13_ThreeFPHoldSRTProbe/20240725/Top/Clips/Chester_20240725_HoldTrial050_TopView.avi\n",
      "Duration of video [s]:  9.62 , recorded with  19.23 fps!\n",
      "Overall # of frames:  185  found with (before cropping) frame dimensions:  1280 1331\n",
      "Starting to extract posture\n",
      "Cropping based on the x1 = 0 x2 = 1280 y1 = 0 y2 = 1024. You can adjust the cropping coordinates in the config.yaml file.\n"
     ]
    },
    {
     "name": "stderr",
     "output_type": "stream",
     "text": [
      "100%|██████████| 185/185 [00:08<00:00, 22.67it/s]\n"
     ]
    },
    {
     "name": "stdout",
     "output_type": "stream",
     "text": [
      "Saving results in D:\\YuLab\\Work\\GPS\\Video\\Chester\\GPS_13_ThreeFPHoldSRTProbe\\20240725\\Top\\Clips...\n",
      "Saving csv poses!\n",
      "Starting to analyze %  D:/YuLab/Work/GPS/Video/Chester/GPS_13_ThreeFPHoldSRTProbe/20240725/Top/Clips/Chester_20240725_HoldTrial051_TopView.avi\n",
      "Loading  D:/YuLab/Work/GPS/Video/Chester/GPS_13_ThreeFPHoldSRTProbe/20240725/Top/Clips/Chester_20240725_HoldTrial051_TopView.avi\n",
      "Duration of video [s]:  9.62 , recorded with  19.23 fps!\n",
      "Overall # of frames:  185  found with (before cropping) frame dimensions:  1280 1331\n",
      "Starting to extract posture\n",
      "Cropping based on the x1 = 0 x2 = 1280 y1 = 0 y2 = 1024. You can adjust the cropping coordinates in the config.yaml file.\n"
     ]
    },
    {
     "name": "stderr",
     "output_type": "stream",
     "text": [
      "100%|██████████| 185/185 [00:08<00:00, 22.65it/s]\n"
     ]
    },
    {
     "name": "stdout",
     "output_type": "stream",
     "text": [
      "Saving results in D:\\YuLab\\Work\\GPS\\Video\\Chester\\GPS_13_ThreeFPHoldSRTProbe\\20240725\\Top\\Clips...\n",
      "Saving csv poses!\n",
      "Starting to analyze %  D:/YuLab/Work/GPS/Video/Chester/GPS_13_ThreeFPHoldSRTProbe/20240725/Top/Clips/Chester_20240725_HoldTrial052_TopView.avi\n",
      "Loading  D:/YuLab/Work/GPS/Video/Chester/GPS_13_ThreeFPHoldSRTProbe/20240725/Top/Clips/Chester_20240725_HoldTrial052_TopView.avi\n",
      "Duration of video [s]:  9.43 , recorded with  19.62 fps!\n",
      "Overall # of frames:  185  found with (before cropping) frame dimensions:  1280 1331\n",
      "Starting to extract posture\n",
      "Cropping based on the x1 = 0 x2 = 1280 y1 = 0 y2 = 1024. You can adjust the cropping coordinates in the config.yaml file.\n"
     ]
    },
    {
     "name": "stderr",
     "output_type": "stream",
     "text": [
      "100%|██████████| 185/185 [00:08<00:00, 22.75it/s]\n"
     ]
    },
    {
     "name": "stdout",
     "output_type": "stream",
     "text": [
      "Saving results in D:\\YuLab\\Work\\GPS\\Video\\Chester\\GPS_13_ThreeFPHoldSRTProbe\\20240725\\Top\\Clips...\n",
      "Saving csv poses!\n",
      "Starting to analyze %  D:/YuLab/Work/GPS/Video/Chester/GPS_13_ThreeFPHoldSRTProbe/20240725/Top/Clips/Chester_20240725_HoldTrial053_TopView.avi\n",
      "Loading  D:/YuLab/Work/GPS/Video/Chester/GPS_13_ThreeFPHoldSRTProbe/20240725/Top/Clips/Chester_20240725_HoldTrial053_TopView.avi\n",
      "Duration of video [s]:  9.25 , recorded with  20.0 fps!\n",
      "Overall # of frames:  185  found with (before cropping) frame dimensions:  1280 1331\n",
      "Starting to extract posture\n",
      "Cropping based on the x1 = 0 x2 = 1280 y1 = 0 y2 = 1024. You can adjust the cropping coordinates in the config.yaml file.\n"
     ]
    },
    {
     "name": "stderr",
     "output_type": "stream",
     "text": [
      "100%|██████████| 185/185 [00:07<00:00, 23.15it/s]\n"
     ]
    },
    {
     "name": "stdout",
     "output_type": "stream",
     "text": [
      "Saving results in D:\\YuLab\\Work\\GPS\\Video\\Chester\\GPS_13_ThreeFPHoldSRTProbe\\20240725\\Top\\Clips...\n",
      "Saving csv poses!\n",
      "Starting to analyze %  D:/YuLab/Work/GPS/Video/Chester/GPS_13_ThreeFPHoldSRTProbe/20240726/Top/Clips/Chester_20240726_HoldTrial020_TopView.avi\n",
      "Loading  D:/YuLab/Work/GPS/Video/Chester/GPS_13_ThreeFPHoldSRTProbe/20240726/Top/Clips/Chester_20240726_HoldTrial020_TopView.avi\n",
      "Duration of video [s]:  8.04 , recorded with  25.0 fps!\n",
      "Overall # of frames:  201  found with (before cropping) frame dimensions:  1280 1331\n",
      "Starting to extract posture\n",
      "Cropping based on the x1 = 0 x2 = 1280 y1 = 0 y2 = 1024. You can adjust the cropping coordinates in the config.yaml file.\n"
     ]
    },
    {
     "name": "stderr",
     "output_type": "stream",
     "text": [
      "100%|██████████| 201/201 [00:08<00:00, 23.27it/s]\n"
     ]
    },
    {
     "name": "stdout",
     "output_type": "stream",
     "text": [
      "Saving results in D:\\YuLab\\Work\\GPS\\Video\\Chester\\GPS_13_ThreeFPHoldSRTProbe\\20240726\\Top\\Clips...\n",
      "Saving csv poses!\n",
      "Starting to analyze %  D:/YuLab/Work/GPS/Video/Chester/GPS_13_ThreeFPHoldSRTProbe/20240726/Top/Clips/Chester_20240726_HoldTrial021_TopView.avi\n",
      "Loading  D:/YuLab/Work/GPS/Video/Chester/GPS_13_ThreeFPHoldSRTProbe/20240726/Top/Clips/Chester_20240726_HoldTrial021_TopView.avi\n",
      "Duration of video [s]:  8.04 , recorded with  25.0 fps!\n",
      "Overall # of frames:  201  found with (before cropping) frame dimensions:  1280 1331\n",
      "Starting to extract posture\n",
      "Cropping based on the x1 = 0 x2 = 1280 y1 = 0 y2 = 1024. You can adjust the cropping coordinates in the config.yaml file.\n"
     ]
    },
    {
     "name": "stderr",
     "output_type": "stream",
     "text": [
      "100%|██████████| 201/201 [00:08<00:00, 23.22it/s]\n"
     ]
    },
    {
     "name": "stdout",
     "output_type": "stream",
     "text": [
      "Saving results in D:\\YuLab\\Work\\GPS\\Video\\Chester\\GPS_13_ThreeFPHoldSRTProbe\\20240726\\Top\\Clips...\n",
      "Saving csv poses!\n",
      "Starting to analyze %  D:/YuLab/Work/GPS/Video/Chester/GPS_13_ThreeFPHoldSRTProbe/20240726/Top/Clips/Chester_20240726_HoldTrial022_TopView.avi\n",
      "Loading  D:/YuLab/Work/GPS/Video/Chester/GPS_13_ThreeFPHoldSRTProbe/20240726/Top/Clips/Chester_20240726_HoldTrial022_TopView.avi\n",
      "Duration of video [s]:  8.04 , recorded with  25.0 fps!\n",
      "Overall # of frames:  201  found with (before cropping) frame dimensions:  1280 1331\n",
      "Starting to extract posture\n",
      "Cropping based on the x1 = 0 x2 = 1280 y1 = 0 y2 = 1024. You can adjust the cropping coordinates in the config.yaml file.\n"
     ]
    },
    {
     "name": "stderr",
     "output_type": "stream",
     "text": [
      "100%|██████████| 201/201 [00:08<00:00, 23.09it/s]\n"
     ]
    },
    {
     "name": "stdout",
     "output_type": "stream",
     "text": [
      "Saving results in D:\\YuLab\\Work\\GPS\\Video\\Chester\\GPS_13_ThreeFPHoldSRTProbe\\20240726\\Top\\Clips...\n",
      "Saving csv poses!\n",
      "Starting to analyze %  D:/YuLab/Work/GPS/Video/Chester/GPS_13_ThreeFPHoldSRTProbe/20240726/Top/Clips/Chester_20240726_HoldTrial023_TopView.avi\n",
      "Loading  D:/YuLab/Work/GPS/Video/Chester/GPS_13_ThreeFPHoldSRTProbe/20240726/Top/Clips/Chester_20240726_HoldTrial023_TopView.avi\n",
      "Duration of video [s]:  8.04 , recorded with  25.0 fps!\n",
      "Overall # of frames:  201  found with (before cropping) frame dimensions:  1280 1331\n",
      "Starting to extract posture\n",
      "Cropping based on the x1 = 0 x2 = 1280 y1 = 0 y2 = 1024. You can adjust the cropping coordinates in the config.yaml file.\n"
     ]
    },
    {
     "name": "stderr",
     "output_type": "stream",
     "text": [
      "100%|██████████| 201/201 [00:08<00:00, 23.09it/s]\n"
     ]
    },
    {
     "name": "stdout",
     "output_type": "stream",
     "text": [
      "Saving results in D:\\YuLab\\Work\\GPS\\Video\\Chester\\GPS_13_ThreeFPHoldSRTProbe\\20240726\\Top\\Clips...\n",
      "Saving csv poses!\n",
      "Starting to analyze %  D:/YuLab/Work/GPS/Video/Chester/GPS_13_ThreeFPHoldSRTProbe/20240726/Top/Clips/Chester_20240726_HoldTrial024_TopView.avi\n",
      "Loading  D:/YuLab/Work/GPS/Video/Chester/GPS_13_ThreeFPHoldSRTProbe/20240726/Top/Clips/Chester_20240726_HoldTrial024_TopView.avi\n",
      "Duration of video [s]:  8.04 , recorded with  25.0 fps!\n",
      "Overall # of frames:  201  found with (before cropping) frame dimensions:  1280 1331\n",
      "Starting to extract posture\n",
      "Cropping based on the x1 = 0 x2 = 1280 y1 = 0 y2 = 1024. You can adjust the cropping coordinates in the config.yaml file.\n"
     ]
    },
    {
     "name": "stderr",
     "output_type": "stream",
     "text": [
      "100%|██████████| 201/201 [00:08<00:00, 23.14it/s]\n"
     ]
    },
    {
     "name": "stdout",
     "output_type": "stream",
     "text": [
      "Saving results in D:\\YuLab\\Work\\GPS\\Video\\Chester\\GPS_13_ThreeFPHoldSRTProbe\\20240726\\Top\\Clips...\n",
      "Saving csv poses!\n",
      "Starting to analyze %  D:/YuLab/Work/GPS/Video/Chester/GPS_13_ThreeFPHoldSRTProbe/20240726/Top/Clips/Chester_20240726_HoldTrial025_TopView.avi\n",
      "Loading  D:/YuLab/Work/GPS/Video/Chester/GPS_13_ThreeFPHoldSRTProbe/20240726/Top/Clips/Chester_20240726_HoldTrial025_TopView.avi\n",
      "Duration of video [s]:  8.04 , recorded with  25.0 fps!\n",
      "Overall # of frames:  201  found with (before cropping) frame dimensions:  1280 1331\n",
      "Starting to extract posture\n",
      "Cropping based on the x1 = 0 x2 = 1280 y1 = 0 y2 = 1024. You can adjust the cropping coordinates in the config.yaml file.\n"
     ]
    },
    {
     "name": "stderr",
     "output_type": "stream",
     "text": [
      "100%|██████████| 201/201 [00:08<00:00, 23.05it/s]\n"
     ]
    },
    {
     "name": "stdout",
     "output_type": "stream",
     "text": [
      "Saving results in D:\\YuLab\\Work\\GPS\\Video\\Chester\\GPS_13_ThreeFPHoldSRTProbe\\20240726\\Top\\Clips...\n",
      "Saving csv poses!\n",
      "Starting to analyze %  D:/YuLab/Work/GPS/Video/Chester/GPS_13_ThreeFPHoldSRTProbe/20240726/Top/Clips/Chester_20240726_HoldTrial026_TopView.avi\n",
      "Loading  D:/YuLab/Work/GPS/Video/Chester/GPS_13_ThreeFPHoldSRTProbe/20240726/Top/Clips/Chester_20240726_HoldTrial026_TopView.avi\n",
      "Duration of video [s]:  8.04 , recorded with  25.0 fps!\n",
      "Overall # of frames:  201  found with (before cropping) frame dimensions:  1280 1331\n",
      "Starting to extract posture\n",
      "Cropping based on the x1 = 0 x2 = 1280 y1 = 0 y2 = 1024. You can adjust the cropping coordinates in the config.yaml file.\n"
     ]
    },
    {
     "name": "stderr",
     "output_type": "stream",
     "text": [
      "100%|██████████| 201/201 [00:08<00:00, 23.09it/s]\n"
     ]
    },
    {
     "name": "stdout",
     "output_type": "stream",
     "text": [
      "Saving results in D:\\YuLab\\Work\\GPS\\Video\\Chester\\GPS_13_ThreeFPHoldSRTProbe\\20240726\\Top\\Clips...\n",
      "Saving csv poses!\n",
      "Starting to analyze %  D:/YuLab/Work/GPS/Video/Chester/GPS_13_ThreeFPHoldSRTProbe/20240726/Top/Clips/Chester_20240726_HoldTrial027_TopView.avi\n",
      "Loading  D:/YuLab/Work/GPS/Video/Chester/GPS_13_ThreeFPHoldSRTProbe/20240726/Top/Clips/Chester_20240726_HoldTrial027_TopView.avi\n",
      "Duration of video [s]:  8.04 , recorded with  25.0 fps!\n",
      "Overall # of frames:  201  found with (before cropping) frame dimensions:  1280 1331\n",
      "Starting to extract posture\n",
      "Cropping based on the x1 = 0 x2 = 1280 y1 = 0 y2 = 1024. You can adjust the cropping coordinates in the config.yaml file.\n"
     ]
    },
    {
     "name": "stderr",
     "output_type": "stream",
     "text": [
      "100%|██████████| 201/201 [00:08<00:00, 23.17it/s]\n"
     ]
    },
    {
     "name": "stdout",
     "output_type": "stream",
     "text": [
      "Saving results in D:\\YuLab\\Work\\GPS\\Video\\Chester\\GPS_13_ThreeFPHoldSRTProbe\\20240726\\Top\\Clips...\n",
      "Saving csv poses!\n",
      "Starting to analyze %  D:/YuLab/Work/GPS/Video/Chester/GPS_13_ThreeFPHoldSRTProbe/20240726/Top/Clips/Chester_20240726_HoldTrial028_TopView.avi\n",
      "Loading  D:/YuLab/Work/GPS/Video/Chester/GPS_13_ThreeFPHoldSRTProbe/20240726/Top/Clips/Chester_20240726_HoldTrial028_TopView.avi\n",
      "Duration of video [s]:  8.04 , recorded with  25.0 fps!\n",
      "Overall # of frames:  201  found with (before cropping) frame dimensions:  1280 1331\n",
      "Starting to extract posture\n",
      "Cropping based on the x1 = 0 x2 = 1280 y1 = 0 y2 = 1024. You can adjust the cropping coordinates in the config.yaml file.\n"
     ]
    },
    {
     "name": "stderr",
     "output_type": "stream",
     "text": [
      "100%|██████████| 201/201 [00:08<00:00, 23.12it/s]\n"
     ]
    },
    {
     "name": "stdout",
     "output_type": "stream",
     "text": [
      "Saving results in D:\\YuLab\\Work\\GPS\\Video\\Chester\\GPS_13_ThreeFPHoldSRTProbe\\20240726\\Top\\Clips...\n",
      "Saving csv poses!\n",
      "Starting to analyze %  D:/YuLab/Work/GPS/Video/Chester/GPS_13_ThreeFPHoldSRTProbe/20240726/Top/Clips/Chester_20240726_HoldTrial029_TopView.avi\n",
      "Loading  D:/YuLab/Work/GPS/Video/Chester/GPS_13_ThreeFPHoldSRTProbe/20240726/Top/Clips/Chester_20240726_HoldTrial029_TopView.avi\n",
      "Duration of video [s]:  8.04 , recorded with  25.0 fps!\n",
      "Overall # of frames:  201  found with (before cropping) frame dimensions:  1280 1331\n",
      "Starting to extract posture\n",
      "Cropping based on the x1 = 0 x2 = 1280 y1 = 0 y2 = 1024. You can adjust the cropping coordinates in the config.yaml file.\n"
     ]
    },
    {
     "name": "stderr",
     "output_type": "stream",
     "text": [
      "100%|██████████| 201/201 [00:08<00:00, 23.14it/s]\n"
     ]
    },
    {
     "name": "stdout",
     "output_type": "stream",
     "text": [
      "Saving results in D:\\YuLab\\Work\\GPS\\Video\\Chester\\GPS_13_ThreeFPHoldSRTProbe\\20240726\\Top\\Clips...\n",
      "Saving csv poses!\n",
      "Starting to analyze %  D:/YuLab/Work/GPS/Video/Chester/GPS_13_ThreeFPHoldSRTProbe/20240726/Top/Clips/Chester_20240726_HoldTrial030_TopView.avi\n",
      "Loading  D:/YuLab/Work/GPS/Video/Chester/GPS_13_ThreeFPHoldSRTProbe/20240726/Top/Clips/Chester_20240726_HoldTrial030_TopView.avi\n",
      "Duration of video [s]:  8.04 , recorded with  25.0 fps!\n",
      "Overall # of frames:  201  found with (before cropping) frame dimensions:  1280 1331\n",
      "Starting to extract posture\n",
      "Cropping based on the x1 = 0 x2 = 1280 y1 = 0 y2 = 1024. You can adjust the cropping coordinates in the config.yaml file.\n"
     ]
    },
    {
     "name": "stderr",
     "output_type": "stream",
     "text": [
      "100%|██████████| 201/201 [00:08<00:00, 23.08it/s]\n"
     ]
    },
    {
     "name": "stdout",
     "output_type": "stream",
     "text": [
      "Saving results in D:\\YuLab\\Work\\GPS\\Video\\Chester\\GPS_13_ThreeFPHoldSRTProbe\\20240726\\Top\\Clips...\n",
      "Saving csv poses!\n",
      "Starting to analyze %  D:/YuLab/Work/GPS/Video/Chester/GPS_13_ThreeFPHoldSRTProbe/20240726/Top/Clips/Chester_20240726_HoldTrial031_TopView.avi\n",
      "Loading  D:/YuLab/Work/GPS/Video/Chester/GPS_13_ThreeFPHoldSRTProbe/20240726/Top/Clips/Chester_20240726_HoldTrial031_TopView.avi\n",
      "Duration of video [s]:  8.04 , recorded with  25.0 fps!\n",
      "Overall # of frames:  201  found with (before cropping) frame dimensions:  1280 1331\n",
      "Starting to extract posture\n",
      "Cropping based on the x1 = 0 x2 = 1280 y1 = 0 y2 = 1024. You can adjust the cropping coordinates in the config.yaml file.\n"
     ]
    },
    {
     "name": "stderr",
     "output_type": "stream",
     "text": [
      "100%|██████████| 201/201 [00:08<00:00, 23.10it/s]\n"
     ]
    },
    {
     "name": "stdout",
     "output_type": "stream",
     "text": [
      "Saving results in D:\\YuLab\\Work\\GPS\\Video\\Chester\\GPS_13_ThreeFPHoldSRTProbe\\20240726\\Top\\Clips...\n",
      "Saving csv poses!\n",
      "Starting to analyze %  D:/YuLab/Work/GPS/Video/Chester/GPS_13_ThreeFPHoldSRTProbe/20240726/Top/Clips/Chester_20240726_HoldTrial032_TopView.avi\n",
      "Loading  D:/YuLab/Work/GPS/Video/Chester/GPS_13_ThreeFPHoldSRTProbe/20240726/Top/Clips/Chester_20240726_HoldTrial032_TopView.avi\n",
      "Duration of video [s]:  8.04 , recorded with  25.0 fps!\n",
      "Overall # of frames:  201  found with (before cropping) frame dimensions:  1280 1331\n",
      "Starting to extract posture\n",
      "Cropping based on the x1 = 0 x2 = 1280 y1 = 0 y2 = 1024. You can adjust the cropping coordinates in the config.yaml file.\n"
     ]
    },
    {
     "name": "stderr",
     "output_type": "stream",
     "text": [
      "100%|██████████| 201/201 [00:08<00:00, 23.05it/s]\n"
     ]
    },
    {
     "name": "stdout",
     "output_type": "stream",
     "text": [
      "Saving results in D:\\YuLab\\Work\\GPS\\Video\\Chester\\GPS_13_ThreeFPHoldSRTProbe\\20240726\\Top\\Clips...\n",
      "Saving csv poses!\n",
      "Starting to analyze %  D:/YuLab/Work/GPS/Video/Chester/GPS_13_ThreeFPHoldSRTProbe/20240726/Top/Clips/Chester_20240726_HoldTrial033_TopView.avi\n",
      "Loading  D:/YuLab/Work/GPS/Video/Chester/GPS_13_ThreeFPHoldSRTProbe/20240726/Top/Clips/Chester_20240726_HoldTrial033_TopView.avi\n",
      "Duration of video [s]:  8.04 , recorded with  25.0 fps!\n",
      "Overall # of frames:  201  found with (before cropping) frame dimensions:  1280 1331\n",
      "Starting to extract posture\n",
      "Cropping based on the x1 = 0 x2 = 1280 y1 = 0 y2 = 1024. You can adjust the cropping coordinates in the config.yaml file.\n"
     ]
    },
    {
     "name": "stderr",
     "output_type": "stream",
     "text": [
      "100%|██████████| 201/201 [00:08<00:00, 23.22it/s]\n"
     ]
    },
    {
     "name": "stdout",
     "output_type": "stream",
     "text": [
      "Saving results in D:\\YuLab\\Work\\GPS\\Video\\Chester\\GPS_13_ThreeFPHoldSRTProbe\\20240726\\Top\\Clips...\n",
      "Saving csv poses!\n",
      "Starting to analyze %  D:/YuLab/Work/GPS/Video/Chester/GPS_13_ThreeFPHoldSRTProbe/20240726/Top/Clips/Chester_20240726_HoldTrial034_TopView.avi\n",
      "Loading  D:/YuLab/Work/GPS/Video/Chester/GPS_13_ThreeFPHoldSRTProbe/20240726/Top/Clips/Chester_20240726_HoldTrial034_TopView.avi\n",
      "Duration of video [s]:  8.04 , recorded with  25.0 fps!\n",
      "Overall # of frames:  201  found with (before cropping) frame dimensions:  1280 1331\n",
      "Starting to extract posture\n",
      "Cropping based on the x1 = 0 x2 = 1280 y1 = 0 y2 = 1024. You can adjust the cropping coordinates in the config.yaml file.\n"
     ]
    },
    {
     "name": "stderr",
     "output_type": "stream",
     "text": [
      "100%|██████████| 201/201 [00:08<00:00, 23.18it/s]\n"
     ]
    },
    {
     "name": "stdout",
     "output_type": "stream",
     "text": [
      "Saving results in D:\\YuLab\\Work\\GPS\\Video\\Chester\\GPS_13_ThreeFPHoldSRTProbe\\20240726\\Top\\Clips...\n",
      "Saving csv poses!\n",
      "Starting to analyze %  D:/YuLab/Work/GPS/Video/Chester/GPS_13_ThreeFPHoldSRTProbe/20240726/Top/Clips/Chester_20240726_HoldTrial035_TopView.avi\n",
      "Loading  D:/YuLab/Work/GPS/Video/Chester/GPS_13_ThreeFPHoldSRTProbe/20240726/Top/Clips/Chester_20240726_HoldTrial035_TopView.avi\n",
      "Duration of video [s]:  8.0 , recorded with  25.0 fps!\n",
      "Overall # of frames:  200  found with (before cropping) frame dimensions:  1280 1331\n",
      "Starting to extract posture\n",
      "Cropping based on the x1 = 0 x2 = 1280 y1 = 0 y2 = 1024. You can adjust the cropping coordinates in the config.yaml file.\n"
     ]
    },
    {
     "name": "stderr",
     "output_type": "stream",
     "text": [
      "100%|██████████| 200/200 [00:08<00:00, 23.76it/s]\n"
     ]
    },
    {
     "name": "stdout",
     "output_type": "stream",
     "text": [
      "Saving results in D:\\YuLab\\Work\\GPS\\Video\\Chester\\GPS_13_ThreeFPHoldSRTProbe\\20240726\\Top\\Clips...\n",
      "Saving csv poses!\n",
      "Starting to analyze %  D:/YuLab/Work/GPS/Video/Chester/GPS_13_ThreeFPHoldSRTProbe/20240726/Top/Clips/Chester_20240726_HoldTrial036_TopView.avi\n",
      "Loading  D:/YuLab/Work/GPS/Video/Chester/GPS_13_ThreeFPHoldSRTProbe/20240726/Top/Clips/Chester_20240726_HoldTrial036_TopView.avi\n",
      "Duration of video [s]:  8.04 , recorded with  25.0 fps!\n",
      "Overall # of frames:  201  found with (before cropping) frame dimensions:  1280 1331\n",
      "Starting to extract posture\n",
      "Cropping based on the x1 = 0 x2 = 1280 y1 = 0 y2 = 1024. You can adjust the cropping coordinates in the config.yaml file.\n"
     ]
    },
    {
     "name": "stderr",
     "output_type": "stream",
     "text": [
      "100%|██████████| 201/201 [00:08<00:00, 23.14it/s]\n"
     ]
    },
    {
     "name": "stdout",
     "output_type": "stream",
     "text": [
      "Saving results in D:\\YuLab\\Work\\GPS\\Video\\Chester\\GPS_13_ThreeFPHoldSRTProbe\\20240726\\Top\\Clips...\n",
      "Saving csv poses!\n",
      "Starting to analyze %  D:/YuLab/Work/GPS/Video/Chester/GPS_13_ThreeFPHoldSRTProbe/20240726/Top/Clips/Chester_20240726_HoldTrial037_TopView.avi\n",
      "Loading  D:/YuLab/Work/GPS/Video/Chester/GPS_13_ThreeFPHoldSRTProbe/20240726/Top/Clips/Chester_20240726_HoldTrial037_TopView.avi\n",
      "Duration of video [s]:  8.04 , recorded with  25.0 fps!\n",
      "Overall # of frames:  201  found with (before cropping) frame dimensions:  1280 1331\n",
      "Starting to extract posture\n",
      "Cropping based on the x1 = 0 x2 = 1280 y1 = 0 y2 = 1024. You can adjust the cropping coordinates in the config.yaml file.\n"
     ]
    },
    {
     "name": "stderr",
     "output_type": "stream",
     "text": [
      "100%|██████████| 201/201 [00:08<00:00, 23.13it/s]\n"
     ]
    },
    {
     "name": "stdout",
     "output_type": "stream",
     "text": [
      "Saving results in D:\\YuLab\\Work\\GPS\\Video\\Chester\\GPS_13_ThreeFPHoldSRTProbe\\20240726\\Top\\Clips...\n",
      "Saving csv poses!\n",
      "Starting to analyze %  D:/YuLab/Work/GPS/Video/Chester/GPS_13_ThreeFPHoldSRTProbe/20240823/Top/Clips/Chester_20240823_HoldTrial056_TopView.avi\n",
      "Loading  D:/YuLab/Work/GPS/Video/Chester/GPS_13_ThreeFPHoldSRTProbe/20240823/Top/Clips/Chester_20240823_HoldTrial056_TopView.avi\n",
      "Duration of video [s]:  8.04 , recorded with  25.0 fps!\n",
      "Overall # of frames:  201  found with (before cropping) frame dimensions:  1280 1331\n",
      "Starting to extract posture\n",
      "Cropping based on the x1 = 0 x2 = 1280 y1 = 0 y2 = 1024. You can adjust the cropping coordinates in the config.yaml file.\n"
     ]
    },
    {
     "name": "stderr",
     "output_type": "stream",
     "text": [
      "100%|██████████| 201/201 [00:08<00:00, 23.22it/s]\n"
     ]
    },
    {
     "name": "stdout",
     "output_type": "stream",
     "text": [
      "Saving results in D:\\YuLab\\Work\\GPS\\Video\\Chester\\GPS_13_ThreeFPHoldSRTProbe\\20240823\\Top\\Clips...\n",
      "Saving csv poses!\n",
      "Starting to analyze %  D:/YuLab/Work/GPS/Video/Chester/GPS_13_ThreeFPHoldSRTProbe/20240823/Top/Clips/Chester_20240823_HoldTrial057_TopView.avi\n",
      "Loading  D:/YuLab/Work/GPS/Video/Chester/GPS_13_ThreeFPHoldSRTProbe/20240823/Top/Clips/Chester_20240823_HoldTrial057_TopView.avi\n",
      "Duration of video [s]:  8.04 , recorded with  25.0 fps!\n",
      "Overall # of frames:  201  found with (before cropping) frame dimensions:  1280 1331\n",
      "Starting to extract posture\n",
      "Cropping based on the x1 = 0 x2 = 1280 y1 = 0 y2 = 1024. You can adjust the cropping coordinates in the config.yaml file.\n"
     ]
    },
    {
     "name": "stderr",
     "output_type": "stream",
     "text": [
      "100%|██████████| 201/201 [00:08<00:00, 23.23it/s]\n"
     ]
    },
    {
     "name": "stdout",
     "output_type": "stream",
     "text": [
      "Saving results in D:\\YuLab\\Work\\GPS\\Video\\Chester\\GPS_13_ThreeFPHoldSRTProbe\\20240823\\Top\\Clips...\n",
      "Saving csv poses!\n",
      "Starting to analyze %  D:/YuLab/Work/GPS/Video/Chester/GPS_13_ThreeFPHoldSRTProbe/20240823/Top/Clips/Chester_20240823_HoldTrial058_TopView.avi\n",
      "Loading  D:/YuLab/Work/GPS/Video/Chester/GPS_13_ThreeFPHoldSRTProbe/20240823/Top/Clips/Chester_20240823_HoldTrial058_TopView.avi\n",
      "Duration of video [s]:  8.04 , recorded with  25.0 fps!\n",
      "Overall # of frames:  201  found with (before cropping) frame dimensions:  1280 1331\n",
      "Starting to extract posture\n",
      "Cropping based on the x1 = 0 x2 = 1280 y1 = 0 y2 = 1024. You can adjust the cropping coordinates in the config.yaml file.\n"
     ]
    },
    {
     "name": "stderr",
     "output_type": "stream",
     "text": [
      "100%|██████████| 201/201 [00:08<00:00, 23.25it/s]\n"
     ]
    },
    {
     "name": "stdout",
     "output_type": "stream",
     "text": [
      "Saving results in D:\\YuLab\\Work\\GPS\\Video\\Chester\\GPS_13_ThreeFPHoldSRTProbe\\20240823\\Top\\Clips...\n",
      "Saving csv poses!\n",
      "Starting to analyze %  D:/YuLab/Work/GPS/Video/Chester/GPS_13_ThreeFPHoldSRTProbe/20240823/Top/Clips/Chester_20240823_HoldTrial059_TopView.avi\n",
      "Loading  D:/YuLab/Work/GPS/Video/Chester/GPS_13_ThreeFPHoldSRTProbe/20240823/Top/Clips/Chester_20240823_HoldTrial059_TopView.avi\n",
      "Duration of video [s]:  8.04 , recorded with  25.0 fps!\n",
      "Overall # of frames:  201  found with (before cropping) frame dimensions:  1280 1331\n",
      "Starting to extract posture\n",
      "Cropping based on the x1 = 0 x2 = 1280 y1 = 0 y2 = 1024. You can adjust the cropping coordinates in the config.yaml file.\n"
     ]
    },
    {
     "name": "stderr",
     "output_type": "stream",
     "text": [
      "100%|██████████| 201/201 [00:08<00:00, 23.24it/s]\n"
     ]
    },
    {
     "name": "stdout",
     "output_type": "stream",
     "text": [
      "Saving results in D:\\YuLab\\Work\\GPS\\Video\\Chester\\GPS_13_ThreeFPHoldSRTProbe\\20240823\\Top\\Clips...\n",
      "Saving csv poses!\n",
      "Starting to analyze %  D:/YuLab/Work/GPS/Video/Chester/GPS_13_ThreeFPHoldSRTProbe/20240823/Top/Clips/Chester_20240823_HoldTrial060_TopView.avi\n",
      "Loading  D:/YuLab/Work/GPS/Video/Chester/GPS_13_ThreeFPHoldSRTProbe/20240823/Top/Clips/Chester_20240823_HoldTrial060_TopView.avi\n",
      "Duration of video [s]:  8.04 , recorded with  25.0 fps!\n",
      "Overall # of frames:  201  found with (before cropping) frame dimensions:  1280 1331\n",
      "Starting to extract posture\n",
      "Cropping based on the x1 = 0 x2 = 1280 y1 = 0 y2 = 1024. You can adjust the cropping coordinates in the config.yaml file.\n"
     ]
    },
    {
     "name": "stderr",
     "output_type": "stream",
     "text": [
      "100%|██████████| 201/201 [00:08<00:00, 23.18it/s]\n"
     ]
    },
    {
     "name": "stdout",
     "output_type": "stream",
     "text": [
      "Saving results in D:\\YuLab\\Work\\GPS\\Video\\Chester\\GPS_13_ThreeFPHoldSRTProbe\\20240823\\Top\\Clips...\n",
      "Saving csv poses!\n",
      "Starting to analyze %  D:/YuLab/Work/GPS/Video/Chester/GPS_13_ThreeFPHoldSRTProbe/20240823/Top/Clips/Chester_20240823_HoldTrial061_TopView.avi\n",
      "Loading  D:/YuLab/Work/GPS/Video/Chester/GPS_13_ThreeFPHoldSRTProbe/20240823/Top/Clips/Chester_20240823_HoldTrial061_TopView.avi\n",
      "Duration of video [s]:  8.04 , recorded with  25.0 fps!\n",
      "Overall # of frames:  201  found with (before cropping) frame dimensions:  1280 1331\n",
      "Starting to extract posture\n",
      "Cropping based on the x1 = 0 x2 = 1280 y1 = 0 y2 = 1024. You can adjust the cropping coordinates in the config.yaml file.\n"
     ]
    },
    {
     "name": "stderr",
     "output_type": "stream",
     "text": [
      "100%|██████████| 201/201 [00:08<00:00, 23.30it/s]\n"
     ]
    },
    {
     "name": "stdout",
     "output_type": "stream",
     "text": [
      "Saving results in D:\\YuLab\\Work\\GPS\\Video\\Chester\\GPS_13_ThreeFPHoldSRTProbe\\20240823\\Top\\Clips...\n",
      "Saving csv poses!\n",
      "Starting to analyze %  D:/YuLab/Work/GPS/Video/Chester/GPS_13_ThreeFPHoldSRTProbe/20240823/Top/Clips/Chester_20240823_HoldTrial062_TopView.avi\n",
      "Loading  D:/YuLab/Work/GPS/Video/Chester/GPS_13_ThreeFPHoldSRTProbe/20240823/Top/Clips/Chester_20240823_HoldTrial062_TopView.avi\n",
      "Duration of video [s]:  8.04 , recorded with  25.0 fps!\n",
      "Overall # of frames:  201  found with (before cropping) frame dimensions:  1280 1331\n",
      "Starting to extract posture\n",
      "Cropping based on the x1 = 0 x2 = 1280 y1 = 0 y2 = 1024. You can adjust the cropping coordinates in the config.yaml file.\n"
     ]
    },
    {
     "name": "stderr",
     "output_type": "stream",
     "text": [
      "100%|██████████| 201/201 [00:08<00:00, 23.22it/s]\n"
     ]
    },
    {
     "name": "stdout",
     "output_type": "stream",
     "text": [
      "Saving results in D:\\YuLab\\Work\\GPS\\Video\\Chester\\GPS_13_ThreeFPHoldSRTProbe\\20240823\\Top\\Clips...\n",
      "Saving csv poses!\n",
      "Starting to analyze %  D:/YuLab/Work/GPS/Video/Chester/GPS_13_ThreeFPHoldSRTProbe/20240823/Top/Clips/Chester_20240823_HoldTrial063_TopView.avi\n",
      "Loading  D:/YuLab/Work/GPS/Video/Chester/GPS_13_ThreeFPHoldSRTProbe/20240823/Top/Clips/Chester_20240823_HoldTrial063_TopView.avi\n",
      "Duration of video [s]:  8.04 , recorded with  25.0 fps!\n",
      "Overall # of frames:  201  found with (before cropping) frame dimensions:  1280 1331\n",
      "Starting to extract posture\n",
      "Cropping based on the x1 = 0 x2 = 1280 y1 = 0 y2 = 1024. You can adjust the cropping coordinates in the config.yaml file.\n"
     ]
    },
    {
     "name": "stderr",
     "output_type": "stream",
     "text": [
      "100%|██████████| 201/201 [00:08<00:00, 23.23it/s]\n"
     ]
    },
    {
     "name": "stdout",
     "output_type": "stream",
     "text": [
      "Saving results in D:\\YuLab\\Work\\GPS\\Video\\Chester\\GPS_13_ThreeFPHoldSRTProbe\\20240823\\Top\\Clips...\n",
      "Saving csv poses!\n",
      "Starting to analyze %  D:/YuLab/Work/GPS/Video/Chester/GPS_13_ThreeFPHoldSRTProbe/20240823/Top/Clips/Chester_20240823_HoldTrial064_TopView.avi\n",
      "Loading  D:/YuLab/Work/GPS/Video/Chester/GPS_13_ThreeFPHoldSRTProbe/20240823/Top/Clips/Chester_20240823_HoldTrial064_TopView.avi\n",
      "Duration of video [s]:  8.04 , recorded with  25.0 fps!\n",
      "Overall # of frames:  201  found with (before cropping) frame dimensions:  1280 1331\n",
      "Starting to extract posture\n",
      "Cropping based on the x1 = 0 x2 = 1280 y1 = 0 y2 = 1024. You can adjust the cropping coordinates in the config.yaml file.\n"
     ]
    },
    {
     "name": "stderr",
     "output_type": "stream",
     "text": [
      "100%|██████████| 201/201 [00:08<00:00, 23.15it/s]\n"
     ]
    },
    {
     "name": "stdout",
     "output_type": "stream",
     "text": [
      "Saving results in D:\\YuLab\\Work\\GPS\\Video\\Chester\\GPS_13_ThreeFPHoldSRTProbe\\20240823\\Top\\Clips...\n",
      "Saving csv poses!\n",
      "Starting to analyze %  D:/YuLab/Work/GPS/Video/Chester/GPS_13_ThreeFPHoldSRTProbe/20240823/Top/Clips/Chester_20240823_HoldTrial065_TopView.avi\n",
      "Loading  D:/YuLab/Work/GPS/Video/Chester/GPS_13_ThreeFPHoldSRTProbe/20240823/Top/Clips/Chester_20240823_HoldTrial065_TopView.avi\n",
      "Duration of video [s]:  8.04 , recorded with  25.0 fps!\n",
      "Overall # of frames:  201  found with (before cropping) frame dimensions:  1280 1331\n",
      "Starting to extract posture\n",
      "Cropping based on the x1 = 0 x2 = 1280 y1 = 0 y2 = 1024. You can adjust the cropping coordinates in the config.yaml file.\n"
     ]
    },
    {
     "name": "stderr",
     "output_type": "stream",
     "text": [
      "100%|██████████| 201/201 [00:08<00:00, 23.21it/s]\n"
     ]
    },
    {
     "name": "stdout",
     "output_type": "stream",
     "text": [
      "Saving results in D:\\YuLab\\Work\\GPS\\Video\\Chester\\GPS_13_ThreeFPHoldSRTProbe\\20240823\\Top\\Clips...\n",
      "Saving csv poses!\n",
      "Starting to analyze %  D:/YuLab/Work/GPS/Video/Chester/GPS_13_ThreeFPHoldSRTProbe/20240823/Top/Clips/Chester_20240823_HoldTrial066_TopView.avi\n",
      "Loading  D:/YuLab/Work/GPS/Video/Chester/GPS_13_ThreeFPHoldSRTProbe/20240823/Top/Clips/Chester_20240823_HoldTrial066_TopView.avi\n",
      "Duration of video [s]:  8.04 , recorded with  25.0 fps!\n",
      "Overall # of frames:  201  found with (before cropping) frame dimensions:  1280 1331\n",
      "Starting to extract posture\n",
      "Cropping based on the x1 = 0 x2 = 1280 y1 = 0 y2 = 1024. You can adjust the cropping coordinates in the config.yaml file.\n"
     ]
    },
    {
     "name": "stderr",
     "output_type": "stream",
     "text": [
      "100%|██████████| 201/201 [00:08<00:00, 23.19it/s]\n"
     ]
    },
    {
     "name": "stdout",
     "output_type": "stream",
     "text": [
      "Saving results in D:\\YuLab\\Work\\GPS\\Video\\Chester\\GPS_13_ThreeFPHoldSRTProbe\\20240823\\Top\\Clips...\n",
      "Saving csv poses!\n",
      "Starting to analyze %  D:/YuLab/Work/GPS/Video/Chester/GPS_13_ThreeFPHoldSRTProbe/20240823/Top/Clips/Chester_20240823_HoldTrial067_TopView.avi\n",
      "Loading  D:/YuLab/Work/GPS/Video/Chester/GPS_13_ThreeFPHoldSRTProbe/20240823/Top/Clips/Chester_20240823_HoldTrial067_TopView.avi\n",
      "Duration of video [s]:  8.04 , recorded with  25.0 fps!\n",
      "Overall # of frames:  201  found with (before cropping) frame dimensions:  1280 1331\n",
      "Starting to extract posture\n",
      "Cropping based on the x1 = 0 x2 = 1280 y1 = 0 y2 = 1024. You can adjust the cropping coordinates in the config.yaml file.\n"
     ]
    },
    {
     "name": "stderr",
     "output_type": "stream",
     "text": [
      "100%|██████████| 201/201 [00:08<00:00, 23.15it/s]\n"
     ]
    },
    {
     "name": "stdout",
     "output_type": "stream",
     "text": [
      "Saving results in D:\\YuLab\\Work\\GPS\\Video\\Chester\\GPS_13_ThreeFPHoldSRTProbe\\20240823\\Top\\Clips...\n",
      "Saving csv poses!\n",
      "Starting to analyze %  D:/YuLab/Work/GPS/Video/Chester/GPS_13_ThreeFPHoldSRTProbe/20240823/Top/Clips/Chester_20240823_HoldTrial068_TopView.avi\n",
      "Loading  D:/YuLab/Work/GPS/Video/Chester/GPS_13_ThreeFPHoldSRTProbe/20240823/Top/Clips/Chester_20240823_HoldTrial068_TopView.avi\n",
      "Duration of video [s]:  8.04 , recorded with  25.0 fps!\n",
      "Overall # of frames:  201  found with (before cropping) frame dimensions:  1280 1331\n",
      "Starting to extract posture\n",
      "Cropping based on the x1 = 0 x2 = 1280 y1 = 0 y2 = 1024. You can adjust the cropping coordinates in the config.yaml file.\n"
     ]
    },
    {
     "name": "stderr",
     "output_type": "stream",
     "text": [
      "100%|██████████| 201/201 [00:08<00:00, 23.14it/s]\n"
     ]
    },
    {
     "name": "stdout",
     "output_type": "stream",
     "text": [
      "Saving results in D:\\YuLab\\Work\\GPS\\Video\\Chester\\GPS_13_ThreeFPHoldSRTProbe\\20240823\\Top\\Clips...\n",
      "Saving csv poses!\n",
      "Starting to analyze %  D:/YuLab/Work/GPS/Video/Chester/GPS_13_ThreeFPHoldSRTProbe/20240823/Top/Clips/Chester_20240823_HoldTrial069_TopView.avi\n",
      "Loading  D:/YuLab/Work/GPS/Video/Chester/GPS_13_ThreeFPHoldSRTProbe/20240823/Top/Clips/Chester_20240823_HoldTrial069_TopView.avi\n",
      "Duration of video [s]:  8.04 , recorded with  25.0 fps!\n",
      "Overall # of frames:  201  found with (before cropping) frame dimensions:  1280 1331\n",
      "Starting to extract posture\n",
      "Cropping based on the x1 = 0 x2 = 1280 y1 = 0 y2 = 1024. You can adjust the cropping coordinates in the config.yaml file.\n"
     ]
    },
    {
     "name": "stderr",
     "output_type": "stream",
     "text": [
      "100%|██████████| 201/201 [00:08<00:00, 23.21it/s]\n"
     ]
    },
    {
     "name": "stdout",
     "output_type": "stream",
     "text": [
      "Saving results in D:\\YuLab\\Work\\GPS\\Video\\Chester\\GPS_13_ThreeFPHoldSRTProbe\\20240823\\Top\\Clips...\n",
      "Saving csv poses!\n",
      "Starting to analyze %  D:/YuLab/Work/GPS/Video/Chester/GPS_13_ThreeFPHoldSRTProbe/20240823/Top/Clips/Chester_20240823_HoldTrial070_TopView.avi\n",
      "Loading  D:/YuLab/Work/GPS/Video/Chester/GPS_13_ThreeFPHoldSRTProbe/20240823/Top/Clips/Chester_20240823_HoldTrial070_TopView.avi\n",
      "Duration of video [s]:  8.04 , recorded with  25.0 fps!\n",
      "Overall # of frames:  201  found with (before cropping) frame dimensions:  1280 1331\n",
      "Starting to extract posture\n",
      "Cropping based on the x1 = 0 x2 = 1280 y1 = 0 y2 = 1024. You can adjust the cropping coordinates in the config.yaml file.\n"
     ]
    },
    {
     "name": "stderr",
     "output_type": "stream",
     "text": [
      "100%|██████████| 201/201 [00:08<00:00, 23.18it/s]\n"
     ]
    },
    {
     "name": "stdout",
     "output_type": "stream",
     "text": [
      "Saving results in D:\\YuLab\\Work\\GPS\\Video\\Chester\\GPS_13_ThreeFPHoldSRTProbe\\20240823\\Top\\Clips...\n",
      "Saving csv poses!\n",
      "Starting to analyze %  D:/YuLab/Work/GPS/Video/Chester/GPS_13_ThreeFPHoldSRTProbe/20240823/Top/Clips/Chester_20240823_HoldTrial071_TopView.avi\n",
      "Loading  D:/YuLab/Work/GPS/Video/Chester/GPS_13_ThreeFPHoldSRTProbe/20240823/Top/Clips/Chester_20240823_HoldTrial071_TopView.avi\n",
      "Duration of video [s]:  8.04 , recorded with  25.0 fps!\n",
      "Overall # of frames:  201  found with (before cropping) frame dimensions:  1280 1331\n",
      "Starting to extract posture\n",
      "Cropping based on the x1 = 0 x2 = 1280 y1 = 0 y2 = 1024. You can adjust the cropping coordinates in the config.yaml file.\n"
     ]
    },
    {
     "name": "stderr",
     "output_type": "stream",
     "text": [
      "100%|██████████| 201/201 [00:08<00:00, 23.12it/s]\n"
     ]
    },
    {
     "name": "stdout",
     "output_type": "stream",
     "text": [
      "Saving results in D:\\YuLab\\Work\\GPS\\Video\\Chester\\GPS_13_ThreeFPHoldSRTProbe\\20240823\\Top\\Clips...\n",
      "Saving csv poses!\n",
      "Starting to analyze %  D:/YuLab/Work/GPS/Video/Chester/GPS_13_ThreeFPHoldSRTProbe/20240823/Top/Clips/Chester_20240823_HoldTrial072_TopView.avi\n",
      "Loading  D:/YuLab/Work/GPS/Video/Chester/GPS_13_ThreeFPHoldSRTProbe/20240823/Top/Clips/Chester_20240823_HoldTrial072_TopView.avi\n",
      "Duration of video [s]:  8.04 , recorded with  25.0 fps!\n",
      "Overall # of frames:  201  found with (before cropping) frame dimensions:  1280 1331\n",
      "Starting to extract posture\n",
      "Cropping based on the x1 = 0 x2 = 1280 y1 = 0 y2 = 1024. You can adjust the cropping coordinates in the config.yaml file.\n"
     ]
    },
    {
     "name": "stderr",
     "output_type": "stream",
     "text": [
      "100%|██████████| 201/201 [00:08<00:00, 22.95it/s]\n"
     ]
    },
    {
     "name": "stdout",
     "output_type": "stream",
     "text": [
      "Saving results in D:\\YuLab\\Work\\GPS\\Video\\Chester\\GPS_13_ThreeFPHoldSRTProbe\\20240823\\Top\\Clips...\n",
      "Saving csv poses!\n",
      "Starting to analyze %  D:/YuLab/Work/GPS/Video/Chester/GPS_13_ThreeFPHoldSRTProbe/20240823/Top/Clips/Chester_20240823_HoldTrial073_TopView.avi\n",
      "Loading  D:/YuLab/Work/GPS/Video/Chester/GPS_13_ThreeFPHoldSRTProbe/20240823/Top/Clips/Chester_20240823_HoldTrial073_TopView.avi\n",
      "Duration of video [s]:  8.04 , recorded with  25.0 fps!\n",
      "Overall # of frames:  201  found with (before cropping) frame dimensions:  1280 1331\n",
      "Starting to extract posture\n",
      "Cropping based on the x1 = 0 x2 = 1280 y1 = 0 y2 = 1024. You can adjust the cropping coordinates in the config.yaml file.\n"
     ]
    },
    {
     "name": "stderr",
     "output_type": "stream",
     "text": [
      "100%|██████████| 201/201 [00:08<00:00, 23.28it/s]\n"
     ]
    },
    {
     "name": "stdout",
     "output_type": "stream",
     "text": [
      "Saving results in D:\\YuLab\\Work\\GPS\\Video\\Chester\\GPS_13_ThreeFPHoldSRTProbe\\20240823\\Top\\Clips...\n",
      "Saving csv poses!\n",
      "Starting to analyze %  D:/YuLab/Work/GPS/Video/Chester/GPS_13_ThreeFPHoldSRTProbe/20240823/Top/Clips/Chester_20240823_HoldTrial074_TopView.avi\n",
      "Loading  D:/YuLab/Work/GPS/Video/Chester/GPS_13_ThreeFPHoldSRTProbe/20240823/Top/Clips/Chester_20240823_HoldTrial074_TopView.avi\n",
      "Duration of video [s]:  8.04 , recorded with  25.0 fps!\n",
      "Overall # of frames:  201  found with (before cropping) frame dimensions:  1280 1331\n",
      "Starting to extract posture\n",
      "Cropping based on the x1 = 0 x2 = 1280 y1 = 0 y2 = 1024. You can adjust the cropping coordinates in the config.yaml file.\n"
     ]
    },
    {
     "name": "stderr",
     "output_type": "stream",
     "text": [
      "100%|██████████| 201/201 [00:08<00:00, 23.25it/s]\n"
     ]
    },
    {
     "name": "stdout",
     "output_type": "stream",
     "text": [
      "Saving results in D:\\YuLab\\Work\\GPS\\Video\\Chester\\GPS_13_ThreeFPHoldSRTProbe\\20240823\\Top\\Clips...\n",
      "Saving csv poses!\n",
      "Starting to analyze %  D:/YuLab/Work/GPS/Video/Chester/GPS_13_ThreeFPHoldSRTProbe/20240823/Top/Clips/Chester_20240823_HoldTrial075_TopView.avi\n",
      "Loading  D:/YuLab/Work/GPS/Video/Chester/GPS_13_ThreeFPHoldSRTProbe/20240823/Top/Clips/Chester_20240823_HoldTrial075_TopView.avi\n",
      "Duration of video [s]:  8.04 , recorded with  25.0 fps!\n",
      "Overall # of frames:  201  found with (before cropping) frame dimensions:  1280 1331\n",
      "Starting to extract posture\n",
      "Cropping based on the x1 = 0 x2 = 1280 y1 = 0 y2 = 1024. You can adjust the cropping coordinates in the config.yaml file.\n"
     ]
    },
    {
     "name": "stderr",
     "output_type": "stream",
     "text": [
      "100%|██████████| 201/201 [00:08<00:00, 23.22it/s]\n"
     ]
    },
    {
     "name": "stdout",
     "output_type": "stream",
     "text": [
      "Saving results in D:\\YuLab\\Work\\GPS\\Video\\Chester\\GPS_13_ThreeFPHoldSRTProbe\\20240823\\Top\\Clips...\n",
      "Saving csv poses!\n",
      "Starting to analyze %  D:/YuLab/Work/GPS/Video/Chester/GPS_13_ThreeFPHoldSRTProbe/20240823/Top/Clips/Chester_20240823_HoldTrial076_TopView.avi\n",
      "Loading  D:/YuLab/Work/GPS/Video/Chester/GPS_13_ThreeFPHoldSRTProbe/20240823/Top/Clips/Chester_20240823_HoldTrial076_TopView.avi\n",
      "Duration of video [s]:  8.04 , recorded with  25.0 fps!\n",
      "Overall # of frames:  201  found with (before cropping) frame dimensions:  1280 1331\n",
      "Starting to extract posture\n",
      "Cropping based on the x1 = 0 x2 = 1280 y1 = 0 y2 = 1024. You can adjust the cropping coordinates in the config.yaml file.\n"
     ]
    },
    {
     "name": "stderr",
     "output_type": "stream",
     "text": [
      "100%|██████████| 201/201 [00:08<00:00, 23.23it/s]\n"
     ]
    },
    {
     "name": "stdout",
     "output_type": "stream",
     "text": [
      "Saving results in D:\\YuLab\\Work\\GPS\\Video\\Chester\\GPS_13_ThreeFPHoldSRTProbe\\20240823\\Top\\Clips...\n",
      "Saving csv poses!\n",
      "Starting to analyze %  D:/YuLab/Work/GPS/Video/Chester/GPS_13_ThreeFPHoldSRTProbe/20240823/Top/Clips/Chester_20240823_HoldTrial077_TopView.avi\n",
      "Loading  D:/YuLab/Work/GPS/Video/Chester/GPS_13_ThreeFPHoldSRTProbe/20240823/Top/Clips/Chester_20240823_HoldTrial077_TopView.avi\n",
      "Duration of video [s]:  8.04 , recorded with  25.0 fps!\n",
      "Overall # of frames:  201  found with (before cropping) frame dimensions:  1280 1331\n",
      "Starting to extract posture\n",
      "Cropping based on the x1 = 0 x2 = 1280 y1 = 0 y2 = 1024. You can adjust the cropping coordinates in the config.yaml file.\n"
     ]
    },
    {
     "name": "stderr",
     "output_type": "stream",
     "text": [
      "100%|██████████| 201/201 [00:08<00:00, 23.26it/s]\n"
     ]
    },
    {
     "name": "stdout",
     "output_type": "stream",
     "text": [
      "Saving results in D:\\YuLab\\Work\\GPS\\Video\\Chester\\GPS_13_ThreeFPHoldSRTProbe\\20240823\\Top\\Clips...\n",
      "Saving csv poses!\n",
      "Starting to analyze %  D:/YuLab/Work/GPS/Video/Chester/GPS_13_ThreeFPHoldSRTProbe/20240823/Top/Clips/Chester_20240823_HoldTrial078_TopView.avi\n",
      "Loading  D:/YuLab/Work/GPS/Video/Chester/GPS_13_ThreeFPHoldSRTProbe/20240823/Top/Clips/Chester_20240823_HoldTrial078_TopView.avi\n",
      "Duration of video [s]:  8.04 , recorded with  25.0 fps!\n",
      "Overall # of frames:  201  found with (before cropping) frame dimensions:  1280 1331\n",
      "Starting to extract posture\n",
      "Cropping based on the x1 = 0 x2 = 1280 y1 = 0 y2 = 1024. You can adjust the cropping coordinates in the config.yaml file.\n"
     ]
    },
    {
     "name": "stderr",
     "output_type": "stream",
     "text": [
      "100%|██████████| 201/201 [00:08<00:00, 23.30it/s]\n"
     ]
    },
    {
     "name": "stdout",
     "output_type": "stream",
     "text": [
      "Saving results in D:\\YuLab\\Work\\GPS\\Video\\Chester\\GPS_13_ThreeFPHoldSRTProbe\\20240823\\Top\\Clips...\n",
      "Saving csv poses!\n",
      "Starting to analyze %  D:/YuLab/Work/GPS/Video/Chester/GPS_13_ThreeFPHoldSRTProbe/20240823/Top/Clips/Chester_20240823_HoldTrial079_TopView.avi\n",
      "Loading  D:/YuLab/Work/GPS/Video/Chester/GPS_13_ThreeFPHoldSRTProbe/20240823/Top/Clips/Chester_20240823_HoldTrial079_TopView.avi\n",
      "Duration of video [s]:  8.04 , recorded with  25.0 fps!\n",
      "Overall # of frames:  201  found with (before cropping) frame dimensions:  1280 1331\n",
      "Starting to extract posture\n",
      "Cropping based on the x1 = 0 x2 = 1280 y1 = 0 y2 = 1024. You can adjust the cropping coordinates in the config.yaml file.\n"
     ]
    },
    {
     "name": "stderr",
     "output_type": "stream",
     "text": [
      "100%|██████████| 201/201 [00:08<00:00, 23.24it/s]\n"
     ]
    },
    {
     "name": "stdout",
     "output_type": "stream",
     "text": [
      "Saving results in D:\\YuLab\\Work\\GPS\\Video\\Chester\\GPS_13_ThreeFPHoldSRTProbe\\20240823\\Top\\Clips...\n",
      "Saving csv poses!\n",
      "Starting to analyze %  D:/YuLab/Work/GPS/Video/Chester/GPS_13_ThreeFPHoldSRTProbe/20240823/Top/Clips/Chester_20240823_HoldTrial080_TopView.avi\n",
      "Loading  D:/YuLab/Work/GPS/Video/Chester/GPS_13_ThreeFPHoldSRTProbe/20240823/Top/Clips/Chester_20240823_HoldTrial080_TopView.avi\n",
      "Duration of video [s]:  8.04 , recorded with  25.0 fps!\n",
      "Overall # of frames:  201  found with (before cropping) frame dimensions:  1280 1331\n",
      "Starting to extract posture\n",
      "Cropping based on the x1 = 0 x2 = 1280 y1 = 0 y2 = 1024. You can adjust the cropping coordinates in the config.yaml file.\n"
     ]
    },
    {
     "name": "stderr",
     "output_type": "stream",
     "text": [
      "100%|██████████| 201/201 [00:08<00:00, 23.15it/s]\n"
     ]
    },
    {
     "name": "stdout",
     "output_type": "stream",
     "text": [
      "Saving results in D:\\YuLab\\Work\\GPS\\Video\\Chester\\GPS_13_ThreeFPHoldSRTProbe\\20240823\\Top\\Clips...\n",
      "Saving csv poses!\n",
      "Starting to analyze %  D:/YuLab/Work/GPS/Video/Chester/GPS_13_ThreeFPHoldSRTProbe/20240823/Top/Clips/Chester_20240823_HoldTrial081_TopView.avi\n",
      "Loading  D:/YuLab/Work/GPS/Video/Chester/GPS_13_ThreeFPHoldSRTProbe/20240823/Top/Clips/Chester_20240823_HoldTrial081_TopView.avi\n",
      "Duration of video [s]:  8.04 , recorded with  25.0 fps!\n",
      "Overall # of frames:  201  found with (before cropping) frame dimensions:  1280 1331\n",
      "Starting to extract posture\n",
      "Cropping based on the x1 = 0 x2 = 1280 y1 = 0 y2 = 1024. You can adjust the cropping coordinates in the config.yaml file.\n"
     ]
    },
    {
     "name": "stderr",
     "output_type": "stream",
     "text": [
      "100%|██████████| 201/201 [00:08<00:00, 23.21it/s]\n"
     ]
    },
    {
     "name": "stdout",
     "output_type": "stream",
     "text": [
      "Saving results in D:\\YuLab\\Work\\GPS\\Video\\Chester\\GPS_13_ThreeFPHoldSRTProbe\\20240823\\Top\\Clips...\n",
      "Saving csv poses!\n",
      "Starting to analyze %  D:/YuLab/Work/GPS/Video/Chester/GPS_13_ThreeFPHoldSRTProbe/20240823/Top/Clips/Chester_20240823_HoldTrial082_TopView.avi\n",
      "Loading  D:/YuLab/Work/GPS/Video/Chester/GPS_13_ThreeFPHoldSRTProbe/20240823/Top/Clips/Chester_20240823_HoldTrial082_TopView.avi\n",
      "Duration of video [s]:  8.04 , recorded with  25.0 fps!\n",
      "Overall # of frames:  201  found with (before cropping) frame dimensions:  1280 1331\n",
      "Starting to extract posture\n",
      "Cropping based on the x1 = 0 x2 = 1280 y1 = 0 y2 = 1024. You can adjust the cropping coordinates in the config.yaml file.\n"
     ]
    },
    {
     "name": "stderr",
     "output_type": "stream",
     "text": [
      "100%|██████████| 201/201 [00:08<00:00, 23.20it/s]\n"
     ]
    },
    {
     "name": "stdout",
     "output_type": "stream",
     "text": [
      "Saving results in D:\\YuLab\\Work\\GPS\\Video\\Chester\\GPS_13_ThreeFPHoldSRTProbe\\20240823\\Top\\Clips...\n",
      "Saving csv poses!\n",
      "Starting to analyze %  D:/YuLab/Work/GPS/Video/Chester/GPS_13_ThreeFPHoldSRTProbe/20240823/Top/Clips/Chester_20240823_HoldTrial083_TopView.avi\n",
      "Loading  D:/YuLab/Work/GPS/Video/Chester/GPS_13_ThreeFPHoldSRTProbe/20240823/Top/Clips/Chester_20240823_HoldTrial083_TopView.avi\n",
      "Duration of video [s]:  8.04 , recorded with  25.0 fps!\n",
      "Overall # of frames:  201  found with (before cropping) frame dimensions:  1280 1331\n",
      "Starting to extract posture\n",
      "Cropping based on the x1 = 0 x2 = 1280 y1 = 0 y2 = 1024. You can adjust the cropping coordinates in the config.yaml file.\n"
     ]
    },
    {
     "name": "stderr",
     "output_type": "stream",
     "text": [
      "100%|██████████| 201/201 [00:08<00:00, 23.17it/s]\n"
     ]
    },
    {
     "name": "stdout",
     "output_type": "stream",
     "text": [
      "Saving results in D:\\YuLab\\Work\\GPS\\Video\\Chester\\GPS_13_ThreeFPHoldSRTProbe\\20240823\\Top\\Clips...\n",
      "Saving csv poses!\n",
      "Starting to analyze %  D:/YuLab/Work/GPS/Video/Chester/GPS_13_ThreeFPHoldSRTProbe/20240823/Top/Clips/Chester_20240823_HoldTrial084_TopView.avi\n",
      "Loading  D:/YuLab/Work/GPS/Video/Chester/GPS_13_ThreeFPHoldSRTProbe/20240823/Top/Clips/Chester_20240823_HoldTrial084_TopView.avi\n",
      "Duration of video [s]:  8.04 , recorded with  25.0 fps!\n",
      "Overall # of frames:  201  found with (before cropping) frame dimensions:  1280 1331\n",
      "Starting to extract posture\n",
      "Cropping based on the x1 = 0 x2 = 1280 y1 = 0 y2 = 1024. You can adjust the cropping coordinates in the config.yaml file.\n"
     ]
    },
    {
     "name": "stderr",
     "output_type": "stream",
     "text": [
      "100%|██████████| 201/201 [00:08<00:00, 23.23it/s]\n"
     ]
    },
    {
     "name": "stdout",
     "output_type": "stream",
     "text": [
      "Saving results in D:\\YuLab\\Work\\GPS\\Video\\Chester\\GPS_13_ThreeFPHoldSRTProbe\\20240823\\Top\\Clips...\n",
      "Saving csv poses!\n",
      "Starting to analyze %  D:/YuLab/Work/GPS/Video/Chester/GPS_13_ThreeFPHoldSRTProbe/20240823/Top/Clips/Chester_20240823_HoldTrial085_TopView.avi\n",
      "Loading  D:/YuLab/Work/GPS/Video/Chester/GPS_13_ThreeFPHoldSRTProbe/20240823/Top/Clips/Chester_20240823_HoldTrial085_TopView.avi\n",
      "Duration of video [s]:  8.04 , recorded with  25.0 fps!\n",
      "Overall # of frames:  201  found with (before cropping) frame dimensions:  1280 1331\n",
      "Starting to extract posture\n",
      "Cropping based on the x1 = 0 x2 = 1280 y1 = 0 y2 = 1024. You can adjust the cropping coordinates in the config.yaml file.\n"
     ]
    },
    {
     "name": "stderr",
     "output_type": "stream",
     "text": [
      "100%|██████████| 201/201 [00:08<00:00, 23.21it/s]\n"
     ]
    },
    {
     "name": "stdout",
     "output_type": "stream",
     "text": [
      "Saving results in D:\\YuLab\\Work\\GPS\\Video\\Chester\\GPS_13_ThreeFPHoldSRTProbe\\20240823\\Top\\Clips...\n",
      "Saving csv poses!\n",
      "Starting to analyze %  D:/YuLab/Work/GPS/Video/Chester/GPS_13_ThreeFPHoldSRTProbe/20240823/Top/Clips/Chester_20240823_HoldTrial086_TopView.avi\n",
      "Loading  D:/YuLab/Work/GPS/Video/Chester/GPS_13_ThreeFPHoldSRTProbe/20240823/Top/Clips/Chester_20240823_HoldTrial086_TopView.avi\n",
      "Duration of video [s]:  8.04 , recorded with  25.0 fps!\n",
      "Overall # of frames:  201  found with (before cropping) frame dimensions:  1280 1331\n",
      "Starting to extract posture\n",
      "Cropping based on the x1 = 0 x2 = 1280 y1 = 0 y2 = 1024. You can adjust the cropping coordinates in the config.yaml file.\n"
     ]
    },
    {
     "name": "stderr",
     "output_type": "stream",
     "text": [
      "100%|██████████| 201/201 [00:08<00:00, 23.17it/s]\n"
     ]
    },
    {
     "name": "stdout",
     "output_type": "stream",
     "text": [
      "Saving results in D:\\YuLab\\Work\\GPS\\Video\\Chester\\GPS_13_ThreeFPHoldSRTProbe\\20240823\\Top\\Clips...\n",
      "Saving csv poses!\n",
      "Starting to analyze %  D:/YuLab/Work/GPS/Video/Chester/GPS_13_ThreeFPHoldSRTProbe/20240823/Top/Clips/Chester_20240823_HoldTrial087_TopView.avi\n",
      "Loading  D:/YuLab/Work/GPS/Video/Chester/GPS_13_ThreeFPHoldSRTProbe/20240823/Top/Clips/Chester_20240823_HoldTrial087_TopView.avi\n",
      "Duration of video [s]:  8.04 , recorded with  25.0 fps!\n",
      "Overall # of frames:  201  found with (before cropping) frame dimensions:  1280 1331\n",
      "Starting to extract posture\n",
      "Cropping based on the x1 = 0 x2 = 1280 y1 = 0 y2 = 1024. You can adjust the cropping coordinates in the config.yaml file.\n"
     ]
    },
    {
     "name": "stderr",
     "output_type": "stream",
     "text": [
      "100%|██████████| 201/201 [00:08<00:00, 23.14it/s]\n"
     ]
    },
    {
     "name": "stdout",
     "output_type": "stream",
     "text": [
      "Saving results in D:\\YuLab\\Work\\GPS\\Video\\Chester\\GPS_13_ThreeFPHoldSRTProbe\\20240823\\Top\\Clips...\n",
      "Saving csv poses!\n",
      "Starting to analyze %  D:/YuLab/Work/GPS/Video/Chester/GPS_13_ThreeFPHoldSRTProbe/20240823/Top/Clips/Chester_20240823_HoldTrial088_TopView.avi\n",
      "Loading  D:/YuLab/Work/GPS/Video/Chester/GPS_13_ThreeFPHoldSRTProbe/20240823/Top/Clips/Chester_20240823_HoldTrial088_TopView.avi\n",
      "Duration of video [s]:  8.04 , recorded with  25.0 fps!\n",
      "Overall # of frames:  201  found with (before cropping) frame dimensions:  1280 1331\n",
      "Starting to extract posture\n",
      "Cropping based on the x1 = 0 x2 = 1280 y1 = 0 y2 = 1024. You can adjust the cropping coordinates in the config.yaml file.\n"
     ]
    },
    {
     "name": "stderr",
     "output_type": "stream",
     "text": [
      "100%|██████████| 201/201 [00:08<00:00, 23.13it/s]\n"
     ]
    },
    {
     "name": "stdout",
     "output_type": "stream",
     "text": [
      "Saving results in D:\\YuLab\\Work\\GPS\\Video\\Chester\\GPS_13_ThreeFPHoldSRTProbe\\20240823\\Top\\Clips...\n",
      "Saving csv poses!\n",
      "Starting to analyze %  D:/YuLab/Work/GPS/Video/Chester/GPS_13_ThreeFPHoldSRTProbe/20240823/Top/Clips/Chester_20240823_HoldTrial089_TopView.avi\n",
      "Loading  D:/YuLab/Work/GPS/Video/Chester/GPS_13_ThreeFPHoldSRTProbe/20240823/Top/Clips/Chester_20240823_HoldTrial089_TopView.avi\n",
      "Duration of video [s]:  8.04 , recorded with  25.0 fps!\n",
      "Overall # of frames:  201  found with (before cropping) frame dimensions:  1280 1331\n",
      "Starting to extract posture\n",
      "Cropping based on the x1 = 0 x2 = 1280 y1 = 0 y2 = 1024. You can adjust the cropping coordinates in the config.yaml file.\n"
     ]
    },
    {
     "name": "stderr",
     "output_type": "stream",
     "text": [
      "100%|██████████| 201/201 [00:08<00:00, 23.15it/s]\n"
     ]
    },
    {
     "name": "stdout",
     "output_type": "stream",
     "text": [
      "Saving results in D:\\YuLab\\Work\\GPS\\Video\\Chester\\GPS_13_ThreeFPHoldSRTProbe\\20240823\\Top\\Clips...\n",
      "Saving csv poses!\n",
      "Starting to analyze %  D:/YuLab/Work/GPS/Video/Chester/GPS_13_ThreeFPHoldSRTProbe/20240823/Top/Clips/Chester_20240823_HoldTrial090_TopView.avi\n",
      "Loading  D:/YuLab/Work/GPS/Video/Chester/GPS_13_ThreeFPHoldSRTProbe/20240823/Top/Clips/Chester_20240823_HoldTrial090_TopView.avi\n",
      "Duration of video [s]:  8.04 , recorded with  25.0 fps!\n",
      "Overall # of frames:  201  found with (before cropping) frame dimensions:  1280 1331\n",
      "Starting to extract posture\n",
      "Cropping based on the x1 = 0 x2 = 1280 y1 = 0 y2 = 1024. You can adjust the cropping coordinates in the config.yaml file.\n"
     ]
    },
    {
     "name": "stderr",
     "output_type": "stream",
     "text": [
      "100%|██████████| 201/201 [00:08<00:00, 23.22it/s]\n"
     ]
    },
    {
     "name": "stdout",
     "output_type": "stream",
     "text": [
      "Saving results in D:\\YuLab\\Work\\GPS\\Video\\Chester\\GPS_13_ThreeFPHoldSRTProbe\\20240823\\Top\\Clips...\n",
      "Saving csv poses!\n",
      "Starting to analyze %  D:/YuLab/Work/GPS/Video/Chester/GPS_13_ThreeFPHoldSRTProbe/20240823/Top/Clips/Chester_20240823_HoldTrial091_TopView.avi\n",
      "Loading  D:/YuLab/Work/GPS/Video/Chester/GPS_13_ThreeFPHoldSRTProbe/20240823/Top/Clips/Chester_20240823_HoldTrial091_TopView.avi\n",
      "Duration of video [s]:  8.04 , recorded with  25.0 fps!\n",
      "Overall # of frames:  201  found with (before cropping) frame dimensions:  1280 1331\n",
      "Starting to extract posture\n",
      "Cropping based on the x1 = 0 x2 = 1280 y1 = 0 y2 = 1024. You can adjust the cropping coordinates in the config.yaml file.\n"
     ]
    },
    {
     "name": "stderr",
     "output_type": "stream",
     "text": [
      "100%|██████████| 201/201 [00:08<00:00, 23.13it/s]\n"
     ]
    },
    {
     "name": "stdout",
     "output_type": "stream",
     "text": [
      "Saving results in D:\\YuLab\\Work\\GPS\\Video\\Chester\\GPS_13_ThreeFPHoldSRTProbe\\20240823\\Top\\Clips...\n",
      "Saving csv poses!\n",
      "Starting to analyze %  D:/YuLab/Work/GPS/Video/Chester/GPS_13_ThreeFPHoldSRTProbe/20240823/Top/Clips/Chester_20240823_HoldTrial092_TopView.avi\n",
      "Loading  D:/YuLab/Work/GPS/Video/Chester/GPS_13_ThreeFPHoldSRTProbe/20240823/Top/Clips/Chester_20240823_HoldTrial092_TopView.avi\n",
      "Duration of video [s]:  8.04 , recorded with  25.0 fps!\n",
      "Overall # of frames:  201  found with (before cropping) frame dimensions:  1280 1331\n",
      "Starting to extract posture\n",
      "Cropping based on the x1 = 0 x2 = 1280 y1 = 0 y2 = 1024. You can adjust the cropping coordinates in the config.yaml file.\n"
     ]
    },
    {
     "name": "stderr",
     "output_type": "stream",
     "text": [
      "100%|██████████| 201/201 [00:08<00:00, 23.13it/s]\n"
     ]
    },
    {
     "name": "stdout",
     "output_type": "stream",
     "text": [
      "Saving results in D:\\YuLab\\Work\\GPS\\Video\\Chester\\GPS_13_ThreeFPHoldSRTProbe\\20240823\\Top\\Clips...\n",
      "Saving csv poses!\n",
      "Starting to analyze %  D:/YuLab/Work/GPS/Video/Chester/GPS_13_ThreeFPHoldSRTProbe/20240823/Top/Clips/Chester_20240823_HoldTrial093_TopView.avi\n",
      "Loading  D:/YuLab/Work/GPS/Video/Chester/GPS_13_ThreeFPHoldSRTProbe/20240823/Top/Clips/Chester_20240823_HoldTrial093_TopView.avi\n",
      "Duration of video [s]:  8.04 , recorded with  25.0 fps!\n",
      "Overall # of frames:  201  found with (before cropping) frame dimensions:  1280 1331\n",
      "Starting to extract posture\n",
      "Cropping based on the x1 = 0 x2 = 1280 y1 = 0 y2 = 1024. You can adjust the cropping coordinates in the config.yaml file.\n"
     ]
    },
    {
     "name": "stderr",
     "output_type": "stream",
     "text": [
      "100%|██████████| 201/201 [00:08<00:00, 23.16it/s]\n"
     ]
    },
    {
     "name": "stdout",
     "output_type": "stream",
     "text": [
      "Saving results in D:\\YuLab\\Work\\GPS\\Video\\Chester\\GPS_13_ThreeFPHoldSRTProbe\\20240823\\Top\\Clips...\n",
      "Saving csv poses!\n",
      "Starting to analyze %  D:/YuLab/Work/GPS/Video/Chester/GPS_13_ThreeFPHoldSRTProbe/20240823/Top/Clips/Chester_20240823_HoldTrial094_TopView.avi\n",
      "Loading  D:/YuLab/Work/GPS/Video/Chester/GPS_13_ThreeFPHoldSRTProbe/20240823/Top/Clips/Chester_20240823_HoldTrial094_TopView.avi\n",
      "Duration of video [s]:  8.04 , recorded with  25.0 fps!\n",
      "Overall # of frames:  201  found with (before cropping) frame dimensions:  1280 1331\n",
      "Starting to extract posture\n",
      "Cropping based on the x1 = 0 x2 = 1280 y1 = 0 y2 = 1024. You can adjust the cropping coordinates in the config.yaml file.\n"
     ]
    },
    {
     "name": "stderr",
     "output_type": "stream",
     "text": [
      "100%|██████████| 201/201 [00:08<00:00, 23.24it/s]\n"
     ]
    },
    {
     "name": "stdout",
     "output_type": "stream",
     "text": [
      "Saving results in D:\\YuLab\\Work\\GPS\\Video\\Chester\\GPS_13_ThreeFPHoldSRTProbe\\20240823\\Top\\Clips...\n",
      "Saving csv poses!\n",
      "Starting to analyze %  D:/YuLab/Work/GPS/Video/Chester/GPS_13_ThreeFPHoldSRTProbe/20240823/Top/Clips/Chester_20240823_HoldTrial095_TopView.avi\n",
      "Loading  D:/YuLab/Work/GPS/Video/Chester/GPS_13_ThreeFPHoldSRTProbe/20240823/Top/Clips/Chester_20240823_HoldTrial095_TopView.avi\n",
      "Duration of video [s]:  8.04 , recorded with  25.0 fps!\n",
      "Overall # of frames:  201  found with (before cropping) frame dimensions:  1280 1331\n",
      "Starting to extract posture\n",
      "Cropping based on the x1 = 0 x2 = 1280 y1 = 0 y2 = 1024. You can adjust the cropping coordinates in the config.yaml file.\n"
     ]
    },
    {
     "name": "stderr",
     "output_type": "stream",
     "text": [
      "100%|██████████| 201/201 [00:08<00:00, 23.20it/s]\n"
     ]
    },
    {
     "name": "stdout",
     "output_type": "stream",
     "text": [
      "Saving results in D:\\YuLab\\Work\\GPS\\Video\\Chester\\GPS_13_ThreeFPHoldSRTProbe\\20240823\\Top\\Clips...\n",
      "Saving csv poses!\n",
      "Starting to analyze %  D:/YuLab/Work/GPS/Video/Chester/GPS_13_ThreeFPHoldSRTProbe/20240823/Top/Clips/Chester_20240823_HoldTrial096_TopView.avi\n",
      "Loading  D:/YuLab/Work/GPS/Video/Chester/GPS_13_ThreeFPHoldSRTProbe/20240823/Top/Clips/Chester_20240823_HoldTrial096_TopView.avi\n",
      "Duration of video [s]:  8.04 , recorded with  25.0 fps!\n",
      "Overall # of frames:  201  found with (before cropping) frame dimensions:  1280 1331\n",
      "Starting to extract posture\n",
      "Cropping based on the x1 = 0 x2 = 1280 y1 = 0 y2 = 1024. You can adjust the cropping coordinates in the config.yaml file.\n"
     ]
    },
    {
     "name": "stderr",
     "output_type": "stream",
     "text": [
      "100%|██████████| 201/201 [00:08<00:00, 23.13it/s]\n"
     ]
    },
    {
     "name": "stdout",
     "output_type": "stream",
     "text": [
      "Saving results in D:\\YuLab\\Work\\GPS\\Video\\Chester\\GPS_13_ThreeFPHoldSRTProbe\\20240823\\Top\\Clips...\n",
      "Saving csv poses!\n",
      "Starting to analyze %  D:/YuLab/Work/GPS/Video/Chester/GPS_13_ThreeFPHoldSRTProbe/20240823/Top/Clips/Chester_20240823_HoldTrial097_TopView.avi\n",
      "Loading  D:/YuLab/Work/GPS/Video/Chester/GPS_13_ThreeFPHoldSRTProbe/20240823/Top/Clips/Chester_20240823_HoldTrial097_TopView.avi\n",
      "Duration of video [s]:  8.04 , recorded with  25.0 fps!\n",
      "Overall # of frames:  201  found with (before cropping) frame dimensions:  1280 1331\n",
      "Starting to extract posture\n",
      "Cropping based on the x1 = 0 x2 = 1280 y1 = 0 y2 = 1024. You can adjust the cropping coordinates in the config.yaml file.\n"
     ]
    },
    {
     "name": "stderr",
     "output_type": "stream",
     "text": [
      "100%|██████████| 201/201 [00:08<00:00, 23.11it/s]\n"
     ]
    },
    {
     "name": "stdout",
     "output_type": "stream",
     "text": [
      "Saving results in D:\\YuLab\\Work\\GPS\\Video\\Chester\\GPS_13_ThreeFPHoldSRTProbe\\20240823\\Top\\Clips...\n",
      "Saving csv poses!\n",
      "Starting to analyze %  D:/YuLab/Work/GPS/Video/Chester/GPS_13_ThreeFPHoldSRTProbe/20240823/Top/Clips/Chester_20240823_HoldTrial098_TopView.avi\n",
      "Loading  D:/YuLab/Work/GPS/Video/Chester/GPS_13_ThreeFPHoldSRTProbe/20240823/Top/Clips/Chester_20240823_HoldTrial098_TopView.avi\n",
      "Duration of video [s]:  8.04 , recorded with  25.0 fps!\n",
      "Overall # of frames:  201  found with (before cropping) frame dimensions:  1280 1331\n",
      "Starting to extract posture\n",
      "Cropping based on the x1 = 0 x2 = 1280 y1 = 0 y2 = 1024. You can adjust the cropping coordinates in the config.yaml file.\n"
     ]
    },
    {
     "name": "stderr",
     "output_type": "stream",
     "text": [
      "100%|██████████| 201/201 [00:08<00:00, 23.21it/s]\n"
     ]
    },
    {
     "name": "stdout",
     "output_type": "stream",
     "text": [
      "Saving results in D:\\YuLab\\Work\\GPS\\Video\\Chester\\GPS_13_ThreeFPHoldSRTProbe\\20240823\\Top\\Clips...\n",
      "Saving csv poses!\n",
      "Starting to analyze %  D:/YuLab/Work/GPS/Video/Chester/GPS_13_ThreeFPHoldSRTProbe/20240823/Top/Clips/Chester_20240823_HoldTrial099_TopView.avi\n",
      "Loading  D:/YuLab/Work/GPS/Video/Chester/GPS_13_ThreeFPHoldSRTProbe/20240823/Top/Clips/Chester_20240823_HoldTrial099_TopView.avi\n",
      "Duration of video [s]:  8.04 , recorded with  25.0 fps!\n",
      "Overall # of frames:  201  found with (before cropping) frame dimensions:  1280 1331\n",
      "Starting to extract posture\n",
      "Cropping based on the x1 = 0 x2 = 1280 y1 = 0 y2 = 1024. You can adjust the cropping coordinates in the config.yaml file.\n"
     ]
    },
    {
     "name": "stderr",
     "output_type": "stream",
     "text": [
      "100%|██████████| 201/201 [00:08<00:00, 23.18it/s]\n"
     ]
    },
    {
     "name": "stdout",
     "output_type": "stream",
     "text": [
      "Saving results in D:\\YuLab\\Work\\GPS\\Video\\Chester\\GPS_13_ThreeFPHoldSRTProbe\\20240823\\Top\\Clips...\n",
      "Saving csv poses!\n",
      "Starting to analyze %  D:/YuLab/Work/GPS/Video/Chester/GPS_13_ThreeFPHoldSRTProbe/20240823/Top/Clips/Chester_20240823_HoldTrial100_TopView.avi\n",
      "Loading  D:/YuLab/Work/GPS/Video/Chester/GPS_13_ThreeFPHoldSRTProbe/20240823/Top/Clips/Chester_20240823_HoldTrial100_TopView.avi\n",
      "Duration of video [s]:  8.04 , recorded with  25.0 fps!\n",
      "Overall # of frames:  201  found with (before cropping) frame dimensions:  1280 1331\n",
      "Starting to extract posture\n",
      "Cropping based on the x1 = 0 x2 = 1280 y1 = 0 y2 = 1024. You can adjust the cropping coordinates in the config.yaml file.\n"
     ]
    },
    {
     "name": "stderr",
     "output_type": "stream",
     "text": [
      "100%|██████████| 201/201 [00:08<00:00, 23.14it/s]\n"
     ]
    },
    {
     "name": "stdout",
     "output_type": "stream",
     "text": [
      "Saving results in D:\\YuLab\\Work\\GPS\\Video\\Chester\\GPS_13_ThreeFPHoldSRTProbe\\20240823\\Top\\Clips...\n",
      "Saving csv poses!\n",
      "Starting to analyze %  D:/YuLab/Work/GPS/Video/Chester/GPS_13_ThreeFPHoldSRTProbe/20240823/Top/Clips/Chester_20240823_HoldTrial101_TopView.avi\n",
      "Loading  D:/YuLab/Work/GPS/Video/Chester/GPS_13_ThreeFPHoldSRTProbe/20240823/Top/Clips/Chester_20240823_HoldTrial101_TopView.avi\n",
      "Duration of video [s]:  8.04 , recorded with  25.0 fps!\n",
      "Overall # of frames:  201  found with (before cropping) frame dimensions:  1280 1331\n",
      "Starting to extract posture\n",
      "Cropping based on the x1 = 0 x2 = 1280 y1 = 0 y2 = 1024. You can adjust the cropping coordinates in the config.yaml file.\n"
     ]
    },
    {
     "name": "stderr",
     "output_type": "stream",
     "text": [
      "100%|██████████| 201/201 [00:08<00:00, 23.18it/s]\n"
     ]
    },
    {
     "name": "stdout",
     "output_type": "stream",
     "text": [
      "Saving results in D:\\YuLab\\Work\\GPS\\Video\\Chester\\GPS_13_ThreeFPHoldSRTProbe\\20240823\\Top\\Clips...\n",
      "Saving csv poses!\n",
      "Starting to analyze %  D:/YuLab/Work/GPS/Video/Chester/GPS_13_ThreeFPHoldSRTProbe/20240823/Top/Clips/Chester_20240823_HoldTrial102_TopView.avi\n",
      "Loading  D:/YuLab/Work/GPS/Video/Chester/GPS_13_ThreeFPHoldSRTProbe/20240823/Top/Clips/Chester_20240823_HoldTrial102_TopView.avi\n",
      "Duration of video [s]:  8.04 , recorded with  25.0 fps!\n",
      "Overall # of frames:  201  found with (before cropping) frame dimensions:  1280 1331\n",
      "Starting to extract posture\n",
      "Cropping based on the x1 = 0 x2 = 1280 y1 = 0 y2 = 1024. You can adjust the cropping coordinates in the config.yaml file.\n"
     ]
    },
    {
     "name": "stderr",
     "output_type": "stream",
     "text": [
      "100%|██████████| 201/201 [00:08<00:00, 23.20it/s]\n"
     ]
    },
    {
     "name": "stdout",
     "output_type": "stream",
     "text": [
      "Saving results in D:\\YuLab\\Work\\GPS\\Video\\Chester\\GPS_13_ThreeFPHoldSRTProbe\\20240823\\Top\\Clips...\n",
      "Saving csv poses!\n",
      "Starting to analyze %  D:/YuLab/Work/GPS/Video/Chester/GPS_13_ThreeFPHoldSRTProbe/20240823/Top/Clips/Chester_20240823_HoldTrial103_TopView.avi\n",
      "Loading  D:/YuLab/Work/GPS/Video/Chester/GPS_13_ThreeFPHoldSRTProbe/20240823/Top/Clips/Chester_20240823_HoldTrial103_TopView.avi\n",
      "Duration of video [s]:  8.04 , recorded with  25.0 fps!\n",
      "Overall # of frames:  201  found with (before cropping) frame dimensions:  1280 1331\n",
      "Starting to extract posture\n",
      "Cropping based on the x1 = 0 x2 = 1280 y1 = 0 y2 = 1024. You can adjust the cropping coordinates in the config.yaml file.\n"
     ]
    },
    {
     "name": "stderr",
     "output_type": "stream",
     "text": [
      "100%|██████████| 201/201 [00:08<00:00, 23.13it/s]\n"
     ]
    },
    {
     "name": "stdout",
     "output_type": "stream",
     "text": [
      "Saving results in D:\\YuLab\\Work\\GPS\\Video\\Chester\\GPS_13_ThreeFPHoldSRTProbe\\20240823\\Top\\Clips...\n",
      "Saving csv poses!\n",
      "Starting to analyze %  D:/YuLab/Work/GPS/Video/Chester/GPS_13_ThreeFPHoldSRTProbe/20240823/Top/Clips/Chester_20240823_HoldTrial104_TopView.avi\n",
      "Loading  D:/YuLab/Work/GPS/Video/Chester/GPS_13_ThreeFPHoldSRTProbe/20240823/Top/Clips/Chester_20240823_HoldTrial104_TopView.avi\n",
      "Duration of video [s]:  8.04 , recorded with  25.0 fps!\n",
      "Overall # of frames:  201  found with (before cropping) frame dimensions:  1280 1331\n",
      "Starting to extract posture\n",
      "Cropping based on the x1 = 0 x2 = 1280 y1 = 0 y2 = 1024. You can adjust the cropping coordinates in the config.yaml file.\n"
     ]
    },
    {
     "name": "stderr",
     "output_type": "stream",
     "text": [
      "100%|██████████| 201/201 [00:08<00:00, 23.21it/s]\n"
     ]
    },
    {
     "name": "stdout",
     "output_type": "stream",
     "text": [
      "Saving results in D:\\YuLab\\Work\\GPS\\Video\\Chester\\GPS_13_ThreeFPHoldSRTProbe\\20240823\\Top\\Clips...\n",
      "Saving csv poses!\n",
      "Starting to analyze %  D:/YuLab/Work/GPS/Video/Chester/GPS_13_ThreeFPHoldSRTProbe/20240823/Top/Clips/Chester_20240823_HoldTrial105_TopView.avi\n",
      "Loading  D:/YuLab/Work/GPS/Video/Chester/GPS_13_ThreeFPHoldSRTProbe/20240823/Top/Clips/Chester_20240823_HoldTrial105_TopView.avi\n",
      "Duration of video [s]:  8.04 , recorded with  25.0 fps!\n",
      "Overall # of frames:  201  found with (before cropping) frame dimensions:  1280 1331\n",
      "Starting to extract posture\n",
      "Cropping based on the x1 = 0 x2 = 1280 y1 = 0 y2 = 1024. You can adjust the cropping coordinates in the config.yaml file.\n"
     ]
    },
    {
     "name": "stderr",
     "output_type": "stream",
     "text": [
      "100%|██████████| 201/201 [00:08<00:00, 23.22it/s]\n"
     ]
    },
    {
     "name": "stdout",
     "output_type": "stream",
     "text": [
      "Saving results in D:\\YuLab\\Work\\GPS\\Video\\Chester\\GPS_13_ThreeFPHoldSRTProbe\\20240823\\Top\\Clips...\n",
      "Saving csv poses!\n",
      "Starting to analyze %  D:/YuLab/Work/GPS/Video/Chester/GPS_13_ThreeFPHoldSRTProbe/20240823/Top/Clips/Chester_20240823_HoldTrial106_TopView.avi\n",
      "Loading  D:/YuLab/Work/GPS/Video/Chester/GPS_13_ThreeFPHoldSRTProbe/20240823/Top/Clips/Chester_20240823_HoldTrial106_TopView.avi\n",
      "Duration of video [s]:  8.04 , recorded with  25.0 fps!\n",
      "Overall # of frames:  201  found with (before cropping) frame dimensions:  1280 1331\n",
      "Starting to extract posture\n",
      "Cropping based on the x1 = 0 x2 = 1280 y1 = 0 y2 = 1024. You can adjust the cropping coordinates in the config.yaml file.\n"
     ]
    },
    {
     "name": "stderr",
     "output_type": "stream",
     "text": [
      "100%|██████████| 201/201 [00:08<00:00, 23.12it/s]\n"
     ]
    },
    {
     "name": "stdout",
     "output_type": "stream",
     "text": [
      "Saving results in D:\\YuLab\\Work\\GPS\\Video\\Chester\\GPS_13_ThreeFPHoldSRTProbe\\20240823\\Top\\Clips...\n",
      "Saving csv poses!\n",
      "Starting to analyze %  D:/YuLab/Work/GPS/Video/Chester/GPS_13_ThreeFPHoldSRTProbe/20240823/Top/Clips/Chester_20240823_HoldTrial107_TopView.avi\n",
      "Loading  D:/YuLab/Work/GPS/Video/Chester/GPS_13_ThreeFPHoldSRTProbe/20240823/Top/Clips/Chester_20240823_HoldTrial107_TopView.avi\n",
      "Duration of video [s]:  8.04 , recorded with  25.0 fps!\n",
      "Overall # of frames:  201  found with (before cropping) frame dimensions:  1280 1331\n",
      "Starting to extract posture\n",
      "Cropping based on the x1 = 0 x2 = 1280 y1 = 0 y2 = 1024. You can adjust the cropping coordinates in the config.yaml file.\n"
     ]
    },
    {
     "name": "stderr",
     "output_type": "stream",
     "text": [
      "100%|██████████| 201/201 [00:08<00:00, 22.65it/s]\n"
     ]
    },
    {
     "name": "stdout",
     "output_type": "stream",
     "text": [
      "Saving results in D:\\YuLab\\Work\\GPS\\Video\\Chester\\GPS_13_ThreeFPHoldSRTProbe\\20240823\\Top\\Clips...\n",
      "Saving csv poses!\n",
      "Starting to analyze %  D:/YuLab/Work/GPS/Video/Chester/GPS_13_ThreeFPHoldSRTProbe/20240823/Top/Clips/Chester_20240823_HoldTrial108_TopView.avi\n",
      "Loading  D:/YuLab/Work/GPS/Video/Chester/GPS_13_ThreeFPHoldSRTProbe/20240823/Top/Clips/Chester_20240823_HoldTrial108_TopView.avi\n",
      "Duration of video [s]:  8.04 , recorded with  25.0 fps!\n",
      "Overall # of frames:  201  found with (before cropping) frame dimensions:  1280 1331\n",
      "Starting to extract posture\n",
      "Cropping based on the x1 = 0 x2 = 1280 y1 = 0 y2 = 1024. You can adjust the cropping coordinates in the config.yaml file.\n"
     ]
    },
    {
     "name": "stderr",
     "output_type": "stream",
     "text": [
      "100%|██████████| 201/201 [00:08<00:00, 23.23it/s]\n"
     ]
    },
    {
     "name": "stdout",
     "output_type": "stream",
     "text": [
      "Saving results in D:\\YuLab\\Work\\GPS\\Video\\Chester\\GPS_13_ThreeFPHoldSRTProbe\\20240823\\Top\\Clips...\n",
      "Saving csv poses!\n",
      "Starting to analyze %  D:/YuLab/Work/GPS/Video/Chester/GPS_13_ThreeFPHoldSRTProbe/20240823/Top/Clips/Chester_20240823_HoldTrial109_TopView.avi\n",
      "Loading  D:/YuLab/Work/GPS/Video/Chester/GPS_13_ThreeFPHoldSRTProbe/20240823/Top/Clips/Chester_20240823_HoldTrial109_TopView.avi\n",
      "Duration of video [s]:  8.04 , recorded with  25.0 fps!\n",
      "Overall # of frames:  201  found with (before cropping) frame dimensions:  1280 1331\n",
      "Starting to extract posture\n",
      "Cropping based on the x1 = 0 x2 = 1280 y1 = 0 y2 = 1024. You can adjust the cropping coordinates in the config.yaml file.\n"
     ]
    },
    {
     "name": "stderr",
     "output_type": "stream",
     "text": [
      "100%|██████████| 201/201 [00:08<00:00, 23.19it/s]\n"
     ]
    },
    {
     "name": "stdout",
     "output_type": "stream",
     "text": [
      "Saving results in D:\\YuLab\\Work\\GPS\\Video\\Chester\\GPS_13_ThreeFPHoldSRTProbe\\20240823\\Top\\Clips...\n",
      "Saving csv poses!\n",
      "Starting to analyze %  D:/YuLab/Work/GPS/Video/Chester/GPS_13_ThreeFPHoldSRTProbe/20240823/Top/Clips/Chester_20240823_HoldTrial110_TopView.avi\n",
      "Loading  D:/YuLab/Work/GPS/Video/Chester/GPS_13_ThreeFPHoldSRTProbe/20240823/Top/Clips/Chester_20240823_HoldTrial110_TopView.avi\n",
      "Duration of video [s]:  8.04 , recorded with  25.0 fps!\n",
      "Overall # of frames:  201  found with (before cropping) frame dimensions:  1280 1331\n",
      "Starting to extract posture\n",
      "Cropping based on the x1 = 0 x2 = 1280 y1 = 0 y2 = 1024. You can adjust the cropping coordinates in the config.yaml file.\n"
     ]
    },
    {
     "name": "stderr",
     "output_type": "stream",
     "text": [
      "100%|██████████| 201/201 [00:08<00:00, 23.29it/s]\n"
     ]
    },
    {
     "name": "stdout",
     "output_type": "stream",
     "text": [
      "Saving results in D:\\YuLab\\Work\\GPS\\Video\\Chester\\GPS_13_ThreeFPHoldSRTProbe\\20240823\\Top\\Clips...\n",
      "Saving csv poses!\n",
      "Starting to analyze %  D:/YuLab/Work/GPS/Video/Chester/GPS_13_ThreeFPHoldSRTProbe/20240823/Top/Clips/Chester_20240823_HoldTrial111_TopView.avi\n",
      "Loading  D:/YuLab/Work/GPS/Video/Chester/GPS_13_ThreeFPHoldSRTProbe/20240823/Top/Clips/Chester_20240823_HoldTrial111_TopView.avi\n",
      "Duration of video [s]:  8.04 , recorded with  25.0 fps!\n",
      "Overall # of frames:  201  found with (before cropping) frame dimensions:  1280 1331\n",
      "Starting to extract posture\n",
      "Cropping based on the x1 = 0 x2 = 1280 y1 = 0 y2 = 1024. You can adjust the cropping coordinates in the config.yaml file.\n"
     ]
    },
    {
     "name": "stderr",
     "output_type": "stream",
     "text": [
      "100%|██████████| 201/201 [00:08<00:00, 23.35it/s]\n"
     ]
    },
    {
     "name": "stdout",
     "output_type": "stream",
     "text": [
      "Saving results in D:\\YuLab\\Work\\GPS\\Video\\Chester\\GPS_13_ThreeFPHoldSRTProbe\\20240823\\Top\\Clips...\n",
      "Saving csv poses!\n",
      "Starting to analyze %  D:/YuLab/Work/GPS/Video/Chester/GPS_13_ThreeFPHoldSRTProbe/20240823/Top/Clips/Chester_20240823_HoldTrial112_TopView.avi\n",
      "Loading  D:/YuLab/Work/GPS/Video/Chester/GPS_13_ThreeFPHoldSRTProbe/20240823/Top/Clips/Chester_20240823_HoldTrial112_TopView.avi\n",
      "Duration of video [s]:  8.04 , recorded with  25.0 fps!\n",
      "Overall # of frames:  201  found with (before cropping) frame dimensions:  1280 1331\n",
      "Starting to extract posture\n",
      "Cropping based on the x1 = 0 x2 = 1280 y1 = 0 y2 = 1024. You can adjust the cropping coordinates in the config.yaml file.\n"
     ]
    },
    {
     "name": "stderr",
     "output_type": "stream",
     "text": [
      "100%|██████████| 201/201 [00:08<00:00, 23.38it/s]\n"
     ]
    },
    {
     "name": "stdout",
     "output_type": "stream",
     "text": [
      "Saving results in D:\\YuLab\\Work\\GPS\\Video\\Chester\\GPS_13_ThreeFPHoldSRTProbe\\20240823\\Top\\Clips...\n",
      "Saving csv poses!\n",
      "Starting to analyze %  D:/YuLab/Work/GPS/Video/Chester/GPS_13_ThreeFPHoldSRTProbe/20240823/Top/Clips/Chester_20240823_HoldTrial113_TopView.avi\n",
      "Loading  D:/YuLab/Work/GPS/Video/Chester/GPS_13_ThreeFPHoldSRTProbe/20240823/Top/Clips/Chester_20240823_HoldTrial113_TopView.avi\n",
      "Duration of video [s]:  8.04 , recorded with  25.0 fps!\n",
      "Overall # of frames:  201  found with (before cropping) frame dimensions:  1280 1331\n",
      "Starting to extract posture\n",
      "Cropping based on the x1 = 0 x2 = 1280 y1 = 0 y2 = 1024. You can adjust the cropping coordinates in the config.yaml file.\n"
     ]
    },
    {
     "name": "stderr",
     "output_type": "stream",
     "text": [
      "100%|██████████| 201/201 [00:08<00:00, 23.41it/s]\n"
     ]
    },
    {
     "name": "stdout",
     "output_type": "stream",
     "text": [
      "Saving results in D:\\YuLab\\Work\\GPS\\Video\\Chester\\GPS_13_ThreeFPHoldSRTProbe\\20240823\\Top\\Clips...\n",
      "Saving csv poses!\n",
      "Starting to analyze %  D:/YuLab/Work/GPS/Video/Chester/GPS_13_ThreeFPHoldSRTProbe/20240823/Top/Clips/Chester_20240823_HoldTrial114_TopView.avi\n",
      "Loading  D:/YuLab/Work/GPS/Video/Chester/GPS_13_ThreeFPHoldSRTProbe/20240823/Top/Clips/Chester_20240823_HoldTrial114_TopView.avi\n",
      "Duration of video [s]:  8.04 , recorded with  25.0 fps!\n",
      "Overall # of frames:  201  found with (before cropping) frame dimensions:  1280 1331\n",
      "Starting to extract posture\n",
      "Cropping based on the x1 = 0 x2 = 1280 y1 = 0 y2 = 1024. You can adjust the cropping coordinates in the config.yaml file.\n"
     ]
    },
    {
     "name": "stderr",
     "output_type": "stream",
     "text": [
      "100%|██████████| 201/201 [00:08<00:00, 23.39it/s]\n"
     ]
    },
    {
     "name": "stdout",
     "output_type": "stream",
     "text": [
      "Saving results in D:\\YuLab\\Work\\GPS\\Video\\Chester\\GPS_13_ThreeFPHoldSRTProbe\\20240823\\Top\\Clips...\n",
      "Saving csv poses!\n",
      "Starting to analyze %  D:/YuLab/Work/GPS/Video/Chester/GPS_13_ThreeFPHoldSRTProbe/20240823/Top/Clips/Chester_20240823_HoldTrial115_TopView.avi\n",
      "Loading  D:/YuLab/Work/GPS/Video/Chester/GPS_13_ThreeFPHoldSRTProbe/20240823/Top/Clips/Chester_20240823_HoldTrial115_TopView.avi\n",
      "Duration of video [s]:  8.04 , recorded with  25.0 fps!\n",
      "Overall # of frames:  201  found with (before cropping) frame dimensions:  1280 1331\n",
      "Starting to extract posture\n",
      "Cropping based on the x1 = 0 x2 = 1280 y1 = 0 y2 = 1024. You can adjust the cropping coordinates in the config.yaml file.\n"
     ]
    },
    {
     "name": "stderr",
     "output_type": "stream",
     "text": [
      "100%|██████████| 201/201 [00:08<00:00, 23.34it/s]\n"
     ]
    },
    {
     "name": "stdout",
     "output_type": "stream",
     "text": [
      "Saving results in D:\\YuLab\\Work\\GPS\\Video\\Chester\\GPS_13_ThreeFPHoldSRTProbe\\20240823\\Top\\Clips...\n",
      "Saving csv poses!\n",
      "Starting to analyze %  D:/YuLab/Work/GPS/Video/Chester/GPS_13_ThreeFPHoldSRTProbe/20240823/Top/Clips/Chester_20240823_HoldTrial116_TopView.avi\n",
      "Loading  D:/YuLab/Work/GPS/Video/Chester/GPS_13_ThreeFPHoldSRTProbe/20240823/Top/Clips/Chester_20240823_HoldTrial116_TopView.avi\n",
      "Duration of video [s]:  8.04 , recorded with  25.0 fps!\n",
      "Overall # of frames:  201  found with (before cropping) frame dimensions:  1280 1331\n",
      "Starting to extract posture\n",
      "Cropping based on the x1 = 0 x2 = 1280 y1 = 0 y2 = 1024. You can adjust the cropping coordinates in the config.yaml file.\n"
     ]
    },
    {
     "name": "stderr",
     "output_type": "stream",
     "text": [
      "100%|██████████| 201/201 [00:09<00:00, 22.22it/s]\n"
     ]
    },
    {
     "name": "stdout",
     "output_type": "stream",
     "text": [
      "Saving results in D:\\YuLab\\Work\\GPS\\Video\\Chester\\GPS_13_ThreeFPHoldSRTProbe\\20240823\\Top\\Clips...\n",
      "Saving csv poses!\n",
      "Starting to analyze %  D:/YuLab/Work/GPS/Video/Chester/GPS_13_ThreeFPHoldSRTProbe/20240823/Top/Clips/Chester_20240823_HoldTrial117_TopView.avi\n",
      "Loading  D:/YuLab/Work/GPS/Video/Chester/GPS_13_ThreeFPHoldSRTProbe/20240823/Top/Clips/Chester_20240823_HoldTrial117_TopView.avi\n",
      "Duration of video [s]:  8.04 , recorded with  25.0 fps!\n",
      "Overall # of frames:  201  found with (before cropping) frame dimensions:  1280 1331\n",
      "Starting to extract posture\n",
      "Cropping based on the x1 = 0 x2 = 1280 y1 = 0 y2 = 1024. You can adjust the cropping coordinates in the config.yaml file.\n"
     ]
    },
    {
     "name": "stderr",
     "output_type": "stream",
     "text": [
      "100%|██████████| 201/201 [00:08<00:00, 23.14it/s]\n"
     ]
    },
    {
     "name": "stdout",
     "output_type": "stream",
     "text": [
      "Saving results in D:\\YuLab\\Work\\GPS\\Video\\Chester\\GPS_13_ThreeFPHoldSRTProbe\\20240823\\Top\\Clips...\n",
      "Saving csv poses!\n",
      "Starting to analyze %  D:/YuLab/Work/GPS/Video/Chester/GPS_13_ThreeFPHoldSRTProbe/20240823/Top/Clips/Chester_20240823_HoldTrial118_TopView.avi\n",
      "Loading  D:/YuLab/Work/GPS/Video/Chester/GPS_13_ThreeFPHoldSRTProbe/20240823/Top/Clips/Chester_20240823_HoldTrial118_TopView.avi\n",
      "Duration of video [s]:  8.04 , recorded with  25.0 fps!\n",
      "Overall # of frames:  201  found with (before cropping) frame dimensions:  1280 1331\n",
      "Starting to extract posture\n",
      "Cropping based on the x1 = 0 x2 = 1280 y1 = 0 y2 = 1024. You can adjust the cropping coordinates in the config.yaml file.\n"
     ]
    },
    {
     "name": "stderr",
     "output_type": "stream",
     "text": [
      "100%|██████████| 201/201 [00:08<00:00, 23.11it/s]\n"
     ]
    },
    {
     "name": "stdout",
     "output_type": "stream",
     "text": [
      "Saving results in D:\\YuLab\\Work\\GPS\\Video\\Chester\\GPS_13_ThreeFPHoldSRTProbe\\20240823\\Top\\Clips...\n",
      "Saving csv poses!\n",
      "Starting to analyze %  D:/YuLab/Work/GPS/Video/Chester/GPS_13_ThreeFPHoldSRTProbe/20240823/Top/Clips/Chester_20240823_HoldTrial119_TopView.avi\n",
      "Loading  D:/YuLab/Work/GPS/Video/Chester/GPS_13_ThreeFPHoldSRTProbe/20240823/Top/Clips/Chester_20240823_HoldTrial119_TopView.avi\n",
      "Duration of video [s]:  8.0 , recorded with  25.0 fps!\n",
      "Overall # of frames:  200  found with (before cropping) frame dimensions:  1280 1331\n",
      "Starting to extract posture\n",
      "Cropping based on the x1 = 0 x2 = 1280 y1 = 0 y2 = 1024. You can adjust the cropping coordinates in the config.yaml file.\n"
     ]
    },
    {
     "name": "stderr",
     "output_type": "stream",
     "text": [
      "100%|██████████| 200/200 [00:08<00:00, 23.82it/s]\n"
     ]
    },
    {
     "name": "stdout",
     "output_type": "stream",
     "text": [
      "Saving results in D:\\YuLab\\Work\\GPS\\Video\\Chester\\GPS_13_ThreeFPHoldSRTProbe\\20240823\\Top\\Clips...\n",
      "Saving csv poses!\n",
      "Starting to analyze %  D:/YuLab/Work/GPS/Video/Chester/GPS_13_ThreeFPHoldSRTProbe/20240823/Top/Clips/Chester_20240823_HoldTrial120_TopView.avi\n",
      "Loading  D:/YuLab/Work/GPS/Video/Chester/GPS_13_ThreeFPHoldSRTProbe/20240823/Top/Clips/Chester_20240823_HoldTrial120_TopView.avi\n",
      "Duration of video [s]:  8.04 , recorded with  25.0 fps!\n",
      "Overall # of frames:  201  found with (before cropping) frame dimensions:  1280 1331\n",
      "Starting to extract posture\n",
      "Cropping based on the x1 = 0 x2 = 1280 y1 = 0 y2 = 1024. You can adjust the cropping coordinates in the config.yaml file.\n"
     ]
    },
    {
     "name": "stderr",
     "output_type": "stream",
     "text": [
      "100%|██████████| 201/201 [00:08<00:00, 23.19it/s]\n"
     ]
    },
    {
     "name": "stdout",
     "output_type": "stream",
     "text": [
      "Saving results in D:\\YuLab\\Work\\GPS\\Video\\Chester\\GPS_13_ThreeFPHoldSRTProbe\\20240823\\Top\\Clips...\n",
      "Saving csv poses!\n",
      "Starting to analyze %  D:/YuLab/Work/GPS/Video/Chester/GPS_13_ThreeFPHoldSRTProbe/20240823/Top/Clips/Chester_20240823_HoldTrial121_TopView.avi\n",
      "Loading  D:/YuLab/Work/GPS/Video/Chester/GPS_13_ThreeFPHoldSRTProbe/20240823/Top/Clips/Chester_20240823_HoldTrial121_TopView.avi\n",
      "Duration of video [s]:  8.04 , recorded with  25.0 fps!\n",
      "Overall # of frames:  201  found with (before cropping) frame dimensions:  1280 1331\n",
      "Starting to extract posture\n",
      "Cropping based on the x1 = 0 x2 = 1280 y1 = 0 y2 = 1024. You can adjust the cropping coordinates in the config.yaml file.\n"
     ]
    },
    {
     "name": "stderr",
     "output_type": "stream",
     "text": [
      "100%|██████████| 201/201 [00:08<00:00, 23.23it/s]\n"
     ]
    },
    {
     "name": "stdout",
     "output_type": "stream",
     "text": [
      "Saving results in D:\\YuLab\\Work\\GPS\\Video\\Chester\\GPS_13_ThreeFPHoldSRTProbe\\20240823\\Top\\Clips...\n",
      "Saving csv poses!\n",
      "Starting to analyze %  D:/YuLab/Work/GPS/Video/Chester/GPS_13_ThreeFPHoldSRTProbe/20240823/Top/Clips/Chester_20240823_HoldTrial122_TopView.avi\n",
      "Loading  D:/YuLab/Work/GPS/Video/Chester/GPS_13_ThreeFPHoldSRTProbe/20240823/Top/Clips/Chester_20240823_HoldTrial122_TopView.avi\n",
      "Duration of video [s]:  8.04 , recorded with  25.0 fps!\n",
      "Overall # of frames:  201  found with (before cropping) frame dimensions:  1280 1331\n",
      "Starting to extract posture\n",
      "Cropping based on the x1 = 0 x2 = 1280 y1 = 0 y2 = 1024. You can adjust the cropping coordinates in the config.yaml file.\n"
     ]
    },
    {
     "name": "stderr",
     "output_type": "stream",
     "text": [
      "100%|██████████| 201/201 [00:08<00:00, 23.22it/s]\n"
     ]
    },
    {
     "name": "stdout",
     "output_type": "stream",
     "text": [
      "Saving results in D:\\YuLab\\Work\\GPS\\Video\\Chester\\GPS_13_ThreeFPHoldSRTProbe\\20240823\\Top\\Clips...\n",
      "Saving csv poses!\n",
      "Starting to analyze %  D:/YuLab/Work/GPS/Video/Chester/GPS_13_ThreeFPHoldSRTProbe/20240823/Top/Clips/Chester_20240823_HoldTrial123_TopView.avi\n",
      "Loading  D:/YuLab/Work/GPS/Video/Chester/GPS_13_ThreeFPHoldSRTProbe/20240823/Top/Clips/Chester_20240823_HoldTrial123_TopView.avi\n",
      "Duration of video [s]:  8.0 , recorded with  25.0 fps!\n",
      "Overall # of frames:  200  found with (before cropping) frame dimensions:  1280 1331\n",
      "Starting to extract posture\n",
      "Cropping based on the x1 = 0 x2 = 1280 y1 = 0 y2 = 1024. You can adjust the cropping coordinates in the config.yaml file.\n"
     ]
    },
    {
     "name": "stderr",
     "output_type": "stream",
     "text": [
      "100%|██████████| 200/200 [00:08<00:00, 23.89it/s]\n"
     ]
    },
    {
     "name": "stdout",
     "output_type": "stream",
     "text": [
      "Saving results in D:\\YuLab\\Work\\GPS\\Video\\Chester\\GPS_13_ThreeFPHoldSRTProbe\\20240823\\Top\\Clips...\n",
      "Saving csv poses!\n",
      "Starting to analyze %  D:/YuLab/Work/GPS/Video/Chester/GPS_13_ThreeFPHoldSRTProbe/20240823/Top/Clips/Chester_20240823_HoldTrial124_TopView.avi\n",
      "Loading  D:/YuLab/Work/GPS/Video/Chester/GPS_13_ThreeFPHoldSRTProbe/20240823/Top/Clips/Chester_20240823_HoldTrial124_TopView.avi\n",
      "Duration of video [s]:  8.04 , recorded with  25.0 fps!\n",
      "Overall # of frames:  201  found with (before cropping) frame dimensions:  1280 1331\n",
      "Starting to extract posture\n",
      "Cropping based on the x1 = 0 x2 = 1280 y1 = 0 y2 = 1024. You can adjust the cropping coordinates in the config.yaml file.\n"
     ]
    },
    {
     "name": "stderr",
     "output_type": "stream",
     "text": [
      "100%|██████████| 201/201 [00:08<00:00, 23.21it/s]\n"
     ]
    },
    {
     "name": "stdout",
     "output_type": "stream",
     "text": [
      "Saving results in D:\\YuLab\\Work\\GPS\\Video\\Chester\\GPS_13_ThreeFPHoldSRTProbe\\20240823\\Top\\Clips...\n",
      "Saving csv poses!\n",
      "Starting to analyze %  D:/YuLab/Work/GPS/Video/Chester/GPS_13_ThreeFPHoldSRTProbe/20240823/Top/Clips/Chester_20240823_HoldTrial125_TopView.avi\n",
      "Loading  D:/YuLab/Work/GPS/Video/Chester/GPS_13_ThreeFPHoldSRTProbe/20240823/Top/Clips/Chester_20240823_HoldTrial125_TopView.avi\n",
      "Duration of video [s]:  8.04 , recorded with  25.0 fps!\n",
      "Overall # of frames:  201  found with (before cropping) frame dimensions:  1280 1331\n",
      "Starting to extract posture\n",
      "Cropping based on the x1 = 0 x2 = 1280 y1 = 0 y2 = 1024. You can adjust the cropping coordinates in the config.yaml file.\n"
     ]
    },
    {
     "name": "stderr",
     "output_type": "stream",
     "text": [
      "100%|██████████| 201/201 [00:08<00:00, 23.15it/s]\n"
     ]
    },
    {
     "name": "stdout",
     "output_type": "stream",
     "text": [
      "Saving results in D:\\YuLab\\Work\\GPS\\Video\\Chester\\GPS_13_ThreeFPHoldSRTProbe\\20240823\\Top\\Clips...\n",
      "Saving csv poses!\n",
      "Starting to analyze %  D:/YuLab/Work/GPS/Video/Chester/GPS_13_ThreeFPHoldSRTProbe/20240823/Top/Clips/Chester_20240823_HoldTrial126_TopView.avi\n",
      "Loading  D:/YuLab/Work/GPS/Video/Chester/GPS_13_ThreeFPHoldSRTProbe/20240823/Top/Clips/Chester_20240823_HoldTrial126_TopView.avi\n",
      "Duration of video [s]:  8.04 , recorded with  25.0 fps!\n",
      "Overall # of frames:  201  found with (before cropping) frame dimensions:  1280 1331\n",
      "Starting to extract posture\n",
      "Cropping based on the x1 = 0 x2 = 1280 y1 = 0 y2 = 1024. You can adjust the cropping coordinates in the config.yaml file.\n"
     ]
    },
    {
     "name": "stderr",
     "output_type": "stream",
     "text": [
      "100%|██████████| 201/201 [00:08<00:00, 23.20it/s]\n"
     ]
    },
    {
     "name": "stdout",
     "output_type": "stream",
     "text": [
      "Saving results in D:\\YuLab\\Work\\GPS\\Video\\Chester\\GPS_13_ThreeFPHoldSRTProbe\\20240823\\Top\\Clips...\n",
      "Saving csv poses!\n",
      "Starting to analyze %  D:/YuLab/Work/GPS/Video/Leo/GPS_12_ThreeFPHoldSRTProbe/20240724/Top/Clips/Leo_20240724_HoldTrial012_TopView.avi\n",
      "Loading  D:/YuLab/Work/GPS/Video/Leo/GPS_12_ThreeFPHoldSRTProbe/20240724/Top/Clips/Leo_20240724_HoldTrial012_TopView.avi\n",
      "Duration of video [s]:  8.04 , recorded with  25.0 fps!\n",
      "Overall # of frames:  201  found with (before cropping) frame dimensions:  1280 1331\n",
      "Starting to extract posture\n",
      "Cropping based on the x1 = 0 x2 = 1280 y1 = 0 y2 = 1024. You can adjust the cropping coordinates in the config.yaml file.\n"
     ]
    },
    {
     "name": "stderr",
     "output_type": "stream",
     "text": [
      "100%|██████████| 201/201 [00:08<00:00, 23.21it/s]\n"
     ]
    },
    {
     "name": "stdout",
     "output_type": "stream",
     "text": [
      "Saving results in D:\\YuLab\\Work\\GPS\\Video\\Leo\\GPS_12_ThreeFPHoldSRTProbe\\20240724\\Top\\Clips...\n",
      "Saving csv poses!\n",
      "Starting to analyze %  D:/YuLab/Work/GPS/Video/Leo/GPS_12_ThreeFPHoldSRTProbe/20240724/Top/Clips/Leo_20240724_HoldTrial013_TopView.avi\n",
      "Loading  D:/YuLab/Work/GPS/Video/Leo/GPS_12_ThreeFPHoldSRTProbe/20240724/Top/Clips/Leo_20240724_HoldTrial013_TopView.avi\n",
      "Duration of video [s]:  8.04 , recorded with  25.0 fps!\n",
      "Overall # of frames:  201  found with (before cropping) frame dimensions:  1280 1331\n",
      "Starting to extract posture\n",
      "Cropping based on the x1 = 0 x2 = 1280 y1 = 0 y2 = 1024. You can adjust the cropping coordinates in the config.yaml file.\n"
     ]
    },
    {
     "name": "stderr",
     "output_type": "stream",
     "text": [
      "100%|██████████| 201/201 [00:08<00:00, 23.15it/s]\n"
     ]
    },
    {
     "name": "stdout",
     "output_type": "stream",
     "text": [
      "Saving results in D:\\YuLab\\Work\\GPS\\Video\\Leo\\GPS_12_ThreeFPHoldSRTProbe\\20240724\\Top\\Clips...\n",
      "Saving csv poses!\n",
      "Starting to analyze %  D:/YuLab/Work/GPS/Video/Leo/GPS_12_ThreeFPHoldSRTProbe/20240724/Top/Clips/Leo_20240724_HoldTrial014_TopView.avi\n",
      "Loading  D:/YuLab/Work/GPS/Video/Leo/GPS_12_ThreeFPHoldSRTProbe/20240724/Top/Clips/Leo_20240724_HoldTrial014_TopView.avi\n",
      "Duration of video [s]:  8.04 , recorded with  25.0 fps!\n",
      "Overall # of frames:  201  found with (before cropping) frame dimensions:  1280 1331\n",
      "Starting to extract posture\n",
      "Cropping based on the x1 = 0 x2 = 1280 y1 = 0 y2 = 1024. You can adjust the cropping coordinates in the config.yaml file.\n"
     ]
    },
    {
     "name": "stderr",
     "output_type": "stream",
     "text": [
      "100%|██████████| 201/201 [00:08<00:00, 23.19it/s]\n"
     ]
    },
    {
     "name": "stdout",
     "output_type": "stream",
     "text": [
      "Saving results in D:\\YuLab\\Work\\GPS\\Video\\Leo\\GPS_12_ThreeFPHoldSRTProbe\\20240724\\Top\\Clips...\n",
      "Saving csv poses!\n",
      "Starting to analyze %  D:/YuLab/Work/GPS/Video/Leo/GPS_12_ThreeFPHoldSRTProbe/20240724/Top/Clips/Leo_20240724_HoldTrial015_TopView.avi\n",
      "Loading  D:/YuLab/Work/GPS/Video/Leo/GPS_12_ThreeFPHoldSRTProbe/20240724/Top/Clips/Leo_20240724_HoldTrial015_TopView.avi\n",
      "Duration of video [s]:  8.04 , recorded with  25.0 fps!\n",
      "Overall # of frames:  201  found with (before cropping) frame dimensions:  1280 1331\n",
      "Starting to extract posture\n",
      "Cropping based on the x1 = 0 x2 = 1280 y1 = 0 y2 = 1024. You can adjust the cropping coordinates in the config.yaml file.\n"
     ]
    },
    {
     "name": "stderr",
     "output_type": "stream",
     "text": [
      "100%|██████████| 201/201 [00:08<00:00, 23.15it/s]\n"
     ]
    },
    {
     "name": "stdout",
     "output_type": "stream",
     "text": [
      "Saving results in D:\\YuLab\\Work\\GPS\\Video\\Leo\\GPS_12_ThreeFPHoldSRTProbe\\20240724\\Top\\Clips...\n",
      "Saving csv poses!\n",
      "Starting to analyze %  D:/YuLab/Work/GPS/Video/Leo/GPS_12_ThreeFPHoldSRTProbe/20240724/Top/Clips/Leo_20240724_HoldTrial016_TopView.avi\n",
      "Loading  D:/YuLab/Work/GPS/Video/Leo/GPS_12_ThreeFPHoldSRTProbe/20240724/Top/Clips/Leo_20240724_HoldTrial016_TopView.avi\n",
      "Duration of video [s]:  8.04 , recorded with  25.0 fps!\n",
      "Overall # of frames:  201  found with (before cropping) frame dimensions:  1280 1331\n",
      "Starting to extract posture\n",
      "Cropping based on the x1 = 0 x2 = 1280 y1 = 0 y2 = 1024. You can adjust the cropping coordinates in the config.yaml file.\n"
     ]
    },
    {
     "name": "stderr",
     "output_type": "stream",
     "text": [
      "100%|██████████| 201/201 [00:08<00:00, 23.24it/s]\n"
     ]
    },
    {
     "name": "stdout",
     "output_type": "stream",
     "text": [
      "Saving results in D:\\YuLab\\Work\\GPS\\Video\\Leo\\GPS_12_ThreeFPHoldSRTProbe\\20240724\\Top\\Clips...\n",
      "Saving csv poses!\n",
      "Starting to analyze %  D:/YuLab/Work/GPS/Video/Leo/GPS_12_ThreeFPHoldSRTProbe/20240724/Top/Clips/Leo_20240724_HoldTrial017_TopView.avi\n",
      "Loading  D:/YuLab/Work/GPS/Video/Leo/GPS_12_ThreeFPHoldSRTProbe/20240724/Top/Clips/Leo_20240724_HoldTrial017_TopView.avi\n",
      "Duration of video [s]:  8.04 , recorded with  25.0 fps!\n",
      "Overall # of frames:  201  found with (before cropping) frame dimensions:  1280 1331\n",
      "Starting to extract posture\n",
      "Cropping based on the x1 = 0 x2 = 1280 y1 = 0 y2 = 1024. You can adjust the cropping coordinates in the config.yaml file.\n"
     ]
    },
    {
     "name": "stderr",
     "output_type": "stream",
     "text": [
      "100%|██████████| 201/201 [00:08<00:00, 23.19it/s]\n"
     ]
    },
    {
     "name": "stdout",
     "output_type": "stream",
     "text": [
      "Saving results in D:\\YuLab\\Work\\GPS\\Video\\Leo\\GPS_12_ThreeFPHoldSRTProbe\\20240724\\Top\\Clips...\n",
      "Saving csv poses!\n",
      "Starting to analyze %  D:/YuLab/Work/GPS/Video/Leo/GPS_12_ThreeFPHoldSRTProbe/20240724/Top/Clips/Leo_20240724_HoldTrial018_TopView.avi\n",
      "Loading  D:/YuLab/Work/GPS/Video/Leo/GPS_12_ThreeFPHoldSRTProbe/20240724/Top/Clips/Leo_20240724_HoldTrial018_TopView.avi\n",
      "Duration of video [s]:  8.04 , recorded with  25.0 fps!\n",
      "Overall # of frames:  201  found with (before cropping) frame dimensions:  1280 1331\n",
      "Starting to extract posture\n",
      "Cropping based on the x1 = 0 x2 = 1280 y1 = 0 y2 = 1024. You can adjust the cropping coordinates in the config.yaml file.\n"
     ]
    },
    {
     "name": "stderr",
     "output_type": "stream",
     "text": [
      "100%|██████████| 201/201 [00:08<00:00, 23.17it/s]\n"
     ]
    },
    {
     "name": "stdout",
     "output_type": "stream",
     "text": [
      "Saving results in D:\\YuLab\\Work\\GPS\\Video\\Leo\\GPS_12_ThreeFPHoldSRTProbe\\20240724\\Top\\Clips...\n",
      "Saving csv poses!\n",
      "Starting to analyze %  D:/YuLab/Work/GPS/Video/Leo/GPS_12_ThreeFPHoldSRTProbe/20240724/Top/Clips/Leo_20240724_HoldTrial019_TopView.avi\n",
      "Loading  D:/YuLab/Work/GPS/Video/Leo/GPS_12_ThreeFPHoldSRTProbe/20240724/Top/Clips/Leo_20240724_HoldTrial019_TopView.avi\n",
      "Duration of video [s]:  8.04 , recorded with  25.0 fps!\n",
      "Overall # of frames:  201  found with (before cropping) frame dimensions:  1280 1331\n",
      "Starting to extract posture\n",
      "Cropping based on the x1 = 0 x2 = 1280 y1 = 0 y2 = 1024. You can adjust the cropping coordinates in the config.yaml file.\n"
     ]
    },
    {
     "name": "stderr",
     "output_type": "stream",
     "text": [
      "100%|██████████| 201/201 [00:08<00:00, 23.15it/s]\n"
     ]
    },
    {
     "name": "stdout",
     "output_type": "stream",
     "text": [
      "Saving results in D:\\YuLab\\Work\\GPS\\Video\\Leo\\GPS_12_ThreeFPHoldSRTProbe\\20240724\\Top\\Clips...\n",
      "Saving csv poses!\n",
      "Starting to analyze %  D:/YuLab/Work/GPS/Video/Leo/GPS_12_ThreeFPHoldSRTProbe/20240724/Top/Clips/Leo_20240724_HoldTrial020_TopView.avi\n",
      "Loading  D:/YuLab/Work/GPS/Video/Leo/GPS_12_ThreeFPHoldSRTProbe/20240724/Top/Clips/Leo_20240724_HoldTrial020_TopView.avi\n",
      "Duration of video [s]:  8.04 , recorded with  25.0 fps!\n",
      "Overall # of frames:  201  found with (before cropping) frame dimensions:  1280 1331\n",
      "Starting to extract posture\n",
      "Cropping based on the x1 = 0 x2 = 1280 y1 = 0 y2 = 1024. You can adjust the cropping coordinates in the config.yaml file.\n"
     ]
    },
    {
     "name": "stderr",
     "output_type": "stream",
     "text": [
      "100%|██████████| 201/201 [00:08<00:00, 23.27it/s]\n"
     ]
    },
    {
     "name": "stdout",
     "output_type": "stream",
     "text": [
      "Saving results in D:\\YuLab\\Work\\GPS\\Video\\Leo\\GPS_12_ThreeFPHoldSRTProbe\\20240724\\Top\\Clips...\n",
      "Saving csv poses!\n",
      "Starting to analyze %  D:/YuLab/Work/GPS/Video/Leo/GPS_12_ThreeFPHoldSRTProbe/20240724/Top/Clips/Leo_20240724_HoldTrial021_TopView.avi\n",
      "Loading  D:/YuLab/Work/GPS/Video/Leo/GPS_12_ThreeFPHoldSRTProbe/20240724/Top/Clips/Leo_20240724_HoldTrial021_TopView.avi\n",
      "Duration of video [s]:  8.04 , recorded with  25.0 fps!\n",
      "Overall # of frames:  201  found with (before cropping) frame dimensions:  1280 1331\n",
      "Starting to extract posture\n",
      "Cropping based on the x1 = 0 x2 = 1280 y1 = 0 y2 = 1024. You can adjust the cropping coordinates in the config.yaml file.\n"
     ]
    },
    {
     "name": "stderr",
     "output_type": "stream",
     "text": [
      "100%|██████████| 201/201 [00:08<00:00, 23.23it/s]\n"
     ]
    },
    {
     "name": "stdout",
     "output_type": "stream",
     "text": [
      "Saving results in D:\\YuLab\\Work\\GPS\\Video\\Leo\\GPS_12_ThreeFPHoldSRTProbe\\20240724\\Top\\Clips...\n",
      "Saving csv poses!\n",
      "Starting to analyze %  D:/YuLab/Work/GPS/Video/Leo/GPS_12_ThreeFPHoldSRTProbe/20240724/Top/Clips/Leo_20240724_HoldTrial022_TopView.avi\n",
      "Loading  D:/YuLab/Work/GPS/Video/Leo/GPS_12_ThreeFPHoldSRTProbe/20240724/Top/Clips/Leo_20240724_HoldTrial022_TopView.avi\n",
      "Duration of video [s]:  8.04 , recorded with  25.0 fps!\n",
      "Overall # of frames:  201  found with (before cropping) frame dimensions:  1280 1331\n",
      "Starting to extract posture\n",
      "Cropping based on the x1 = 0 x2 = 1280 y1 = 0 y2 = 1024. You can adjust the cropping coordinates in the config.yaml file.\n"
     ]
    },
    {
     "name": "stderr",
     "output_type": "stream",
     "text": [
      "100%|██████████| 201/201 [00:08<00:00, 23.15it/s]\n"
     ]
    },
    {
     "name": "stdout",
     "output_type": "stream",
     "text": [
      "Saving results in D:\\YuLab\\Work\\GPS\\Video\\Leo\\GPS_12_ThreeFPHoldSRTProbe\\20240724\\Top\\Clips...\n",
      "Saving csv poses!\n",
      "Starting to analyze %  D:/YuLab/Work/GPS/Video/Leo/GPS_12_ThreeFPHoldSRTProbe/20240724/Top/Clips/Leo_20240724_HoldTrial023_TopView.avi\n",
      "Loading  D:/YuLab/Work/GPS/Video/Leo/GPS_12_ThreeFPHoldSRTProbe/20240724/Top/Clips/Leo_20240724_HoldTrial023_TopView.avi\n",
      "Duration of video [s]:  8.04 , recorded with  25.0 fps!\n",
      "Overall # of frames:  201  found with (before cropping) frame dimensions:  1280 1331\n",
      "Starting to extract posture\n",
      "Cropping based on the x1 = 0 x2 = 1280 y1 = 0 y2 = 1024. You can adjust the cropping coordinates in the config.yaml file.\n"
     ]
    },
    {
     "name": "stderr",
     "output_type": "stream",
     "text": [
      "100%|██████████| 201/201 [00:08<00:00, 23.15it/s]\n"
     ]
    },
    {
     "name": "stdout",
     "output_type": "stream",
     "text": [
      "Saving results in D:\\YuLab\\Work\\GPS\\Video\\Leo\\GPS_12_ThreeFPHoldSRTProbe\\20240724\\Top\\Clips...\n",
      "Saving csv poses!\n",
      "Starting to analyze %  D:/YuLab/Work/GPS/Video/Leo/GPS_12_ThreeFPHoldSRTProbe/20240724/Top/Clips/Leo_20240724_HoldTrial024_TopView.avi\n",
      "Loading  D:/YuLab/Work/GPS/Video/Leo/GPS_12_ThreeFPHoldSRTProbe/20240724/Top/Clips/Leo_20240724_HoldTrial024_TopView.avi\n",
      "Duration of video [s]:  8.04 , recorded with  25.0 fps!\n",
      "Overall # of frames:  201  found with (before cropping) frame dimensions:  1280 1331\n",
      "Starting to extract posture\n",
      "Cropping based on the x1 = 0 x2 = 1280 y1 = 0 y2 = 1024. You can adjust the cropping coordinates in the config.yaml file.\n"
     ]
    },
    {
     "name": "stderr",
     "output_type": "stream",
     "text": [
      "100%|██████████| 201/201 [00:08<00:00, 23.11it/s]\n"
     ]
    },
    {
     "name": "stdout",
     "output_type": "stream",
     "text": [
      "Saving results in D:\\YuLab\\Work\\GPS\\Video\\Leo\\GPS_12_ThreeFPHoldSRTProbe\\20240724\\Top\\Clips...\n",
      "Saving csv poses!\n",
      "Starting to analyze %  D:/YuLab/Work/GPS/Video/Leo/GPS_12_ThreeFPHoldSRTProbe/20240724/Top/Clips/Leo_20240724_HoldTrial025_TopView.avi\n",
      "Loading  D:/YuLab/Work/GPS/Video/Leo/GPS_12_ThreeFPHoldSRTProbe/20240724/Top/Clips/Leo_20240724_HoldTrial025_TopView.avi\n",
      "Duration of video [s]:  8.0 , recorded with  25.0 fps!\n",
      "Overall # of frames:  200  found with (before cropping) frame dimensions:  1280 1331\n",
      "Starting to extract posture\n",
      "Cropping based on the x1 = 0 x2 = 1280 y1 = 0 y2 = 1024. You can adjust the cropping coordinates in the config.yaml file.\n"
     ]
    },
    {
     "name": "stderr",
     "output_type": "stream",
     "text": [
      "100%|██████████| 200/200 [00:08<00:00, 23.80it/s]\n"
     ]
    },
    {
     "name": "stdout",
     "output_type": "stream",
     "text": [
      "Saving results in D:\\YuLab\\Work\\GPS\\Video\\Leo\\GPS_12_ThreeFPHoldSRTProbe\\20240724\\Top\\Clips...\n",
      "Saving csv poses!\n",
      "Starting to analyze %  D:/YuLab/Work/GPS/Video/Leo/GPS_12_ThreeFPHoldSRTProbe/20240724/Top/Clips/Leo_20240724_HoldTrial026_TopView.avi\n",
      "Loading  D:/YuLab/Work/GPS/Video/Leo/GPS_12_ThreeFPHoldSRTProbe/20240724/Top/Clips/Leo_20240724_HoldTrial026_TopView.avi\n",
      "Duration of video [s]:  8.04 , recorded with  25.0 fps!\n",
      "Overall # of frames:  201  found with (before cropping) frame dimensions:  1280 1331\n",
      "Starting to extract posture\n",
      "Cropping based on the x1 = 0 x2 = 1280 y1 = 0 y2 = 1024. You can adjust the cropping coordinates in the config.yaml file.\n"
     ]
    },
    {
     "name": "stderr",
     "output_type": "stream",
     "text": [
      "100%|██████████| 201/201 [00:08<00:00, 23.14it/s]\n"
     ]
    },
    {
     "name": "stdout",
     "output_type": "stream",
     "text": [
      "Saving results in D:\\YuLab\\Work\\GPS\\Video\\Leo\\GPS_12_ThreeFPHoldSRTProbe\\20240724\\Top\\Clips...\n",
      "Saving csv poses!\n",
      "Starting to analyze %  D:/YuLab/Work/GPS/Video/Leo/GPS_12_ThreeFPHoldSRTProbe/20240724/Top/Clips/Leo_20240724_HoldTrial027_TopView.avi\n",
      "Loading  D:/YuLab/Work/GPS/Video/Leo/GPS_12_ThreeFPHoldSRTProbe/20240724/Top/Clips/Leo_20240724_HoldTrial027_TopView.avi\n",
      "Duration of video [s]:  8.04 , recorded with  25.0 fps!\n",
      "Overall # of frames:  201  found with (before cropping) frame dimensions:  1280 1331\n",
      "Starting to extract posture\n",
      "Cropping based on the x1 = 0 x2 = 1280 y1 = 0 y2 = 1024. You can adjust the cropping coordinates in the config.yaml file.\n"
     ]
    },
    {
     "name": "stderr",
     "output_type": "stream",
     "text": [
      "100%|██████████| 201/201 [00:08<00:00, 23.22it/s]\n"
     ]
    },
    {
     "name": "stdout",
     "output_type": "stream",
     "text": [
      "Saving results in D:\\YuLab\\Work\\GPS\\Video\\Leo\\GPS_12_ThreeFPHoldSRTProbe\\20240724\\Top\\Clips...\n",
      "Saving csv poses!\n",
      "Starting to analyze %  D:/YuLab/Work/GPS/Video/Leo/GPS_12_ThreeFPHoldSRTProbe/20240724/Top/Clips/Leo_20240724_HoldTrial028_TopView.avi\n",
      "Loading  D:/YuLab/Work/GPS/Video/Leo/GPS_12_ThreeFPHoldSRTProbe/20240724/Top/Clips/Leo_20240724_HoldTrial028_TopView.avi\n",
      "Duration of video [s]:  8.04 , recorded with  25.0 fps!\n",
      "Overall # of frames:  201  found with (before cropping) frame dimensions:  1280 1331\n",
      "Starting to extract posture\n",
      "Cropping based on the x1 = 0 x2 = 1280 y1 = 0 y2 = 1024. You can adjust the cropping coordinates in the config.yaml file.\n"
     ]
    },
    {
     "name": "stderr",
     "output_type": "stream",
     "text": [
      "100%|██████████| 201/201 [00:08<00:00, 23.24it/s]\n"
     ]
    },
    {
     "name": "stdout",
     "output_type": "stream",
     "text": [
      "Saving results in D:\\YuLab\\Work\\GPS\\Video\\Leo\\GPS_12_ThreeFPHoldSRTProbe\\20240724\\Top\\Clips...\n",
      "Saving csv poses!\n",
      "Starting to analyze %  D:/YuLab/Work/GPS/Video/Leo/GPS_12_ThreeFPHoldSRTProbe/20240724/Top/Clips/Leo_20240724_HoldTrial029_TopView.avi\n",
      "Loading  D:/YuLab/Work/GPS/Video/Leo/GPS_12_ThreeFPHoldSRTProbe/20240724/Top/Clips/Leo_20240724_HoldTrial029_TopView.avi\n",
      "Duration of video [s]:  8.04 , recorded with  25.0 fps!\n",
      "Overall # of frames:  201  found with (before cropping) frame dimensions:  1280 1331\n",
      "Starting to extract posture\n",
      "Cropping based on the x1 = 0 x2 = 1280 y1 = 0 y2 = 1024. You can adjust the cropping coordinates in the config.yaml file.\n"
     ]
    },
    {
     "name": "stderr",
     "output_type": "stream",
     "text": [
      "100%|██████████| 201/201 [00:08<00:00, 23.25it/s]\n"
     ]
    },
    {
     "name": "stdout",
     "output_type": "stream",
     "text": [
      "Saving results in D:\\YuLab\\Work\\GPS\\Video\\Leo\\GPS_12_ThreeFPHoldSRTProbe\\20240724\\Top\\Clips...\n",
      "Saving csv poses!\n",
      "Starting to analyze %  D:/YuLab/Work/GPS/Video/Leo/GPS_12_ThreeFPHoldSRTProbe/20240724/Top/Clips/Leo_20240724_HoldTrial030_TopView.avi\n",
      "Loading  D:/YuLab/Work/GPS/Video/Leo/GPS_12_ThreeFPHoldSRTProbe/20240724/Top/Clips/Leo_20240724_HoldTrial030_TopView.avi\n",
      "Duration of video [s]:  8.04 , recorded with  25.0 fps!\n",
      "Overall # of frames:  201  found with (before cropping) frame dimensions:  1280 1331\n",
      "Starting to extract posture\n",
      "Cropping based on the x1 = 0 x2 = 1280 y1 = 0 y2 = 1024. You can adjust the cropping coordinates in the config.yaml file.\n"
     ]
    },
    {
     "name": "stderr",
     "output_type": "stream",
     "text": [
      "100%|██████████| 201/201 [00:08<00:00, 23.27it/s]\n"
     ]
    },
    {
     "name": "stdout",
     "output_type": "stream",
     "text": [
      "Saving results in D:\\YuLab\\Work\\GPS\\Video\\Leo\\GPS_12_ThreeFPHoldSRTProbe\\20240724\\Top\\Clips...\n",
      "Saving csv poses!\n",
      "Starting to analyze %  D:/YuLab/Work/GPS/Video/Leo/GPS_12_ThreeFPHoldSRTProbe/20240724/Top/Clips/Leo_20240724_HoldTrial031_TopView.avi\n",
      "Loading  D:/YuLab/Work/GPS/Video/Leo/GPS_12_ThreeFPHoldSRTProbe/20240724/Top/Clips/Leo_20240724_HoldTrial031_TopView.avi\n",
      "Duration of video [s]:  8.04 , recorded with  25.0 fps!\n",
      "Overall # of frames:  201  found with (before cropping) frame dimensions:  1280 1331\n",
      "Starting to extract posture\n",
      "Cropping based on the x1 = 0 x2 = 1280 y1 = 0 y2 = 1024. You can adjust the cropping coordinates in the config.yaml file.\n"
     ]
    },
    {
     "name": "stderr",
     "output_type": "stream",
     "text": [
      "100%|██████████| 201/201 [00:08<00:00, 23.26it/s]\n"
     ]
    },
    {
     "name": "stdout",
     "output_type": "stream",
     "text": [
      "Saving results in D:\\YuLab\\Work\\GPS\\Video\\Leo\\GPS_12_ThreeFPHoldSRTProbe\\20240724\\Top\\Clips...\n",
      "Saving csv poses!\n",
      "Starting to analyze %  D:/YuLab/Work/GPS/Video/Leo/GPS_12_ThreeFPHoldSRTProbe/20240724/Top/Clips/Leo_20240724_HoldTrial032_TopView.avi\n",
      "Loading  D:/YuLab/Work/GPS/Video/Leo/GPS_12_ThreeFPHoldSRTProbe/20240724/Top/Clips/Leo_20240724_HoldTrial032_TopView.avi\n",
      "Duration of video [s]:  8.04 , recorded with  25.0 fps!\n",
      "Overall # of frames:  201  found with (before cropping) frame dimensions:  1280 1331\n",
      "Starting to extract posture\n",
      "Cropping based on the x1 = 0 x2 = 1280 y1 = 0 y2 = 1024. You can adjust the cropping coordinates in the config.yaml file.\n"
     ]
    },
    {
     "name": "stderr",
     "output_type": "stream",
     "text": [
      "100%|██████████| 201/201 [00:08<00:00, 23.20it/s]\n"
     ]
    },
    {
     "name": "stdout",
     "output_type": "stream",
     "text": [
      "Saving results in D:\\YuLab\\Work\\GPS\\Video\\Leo\\GPS_12_ThreeFPHoldSRTProbe\\20240724\\Top\\Clips...\n",
      "Saving csv poses!\n",
      "Starting to analyze %  D:/YuLab/Work/GPS/Video/Leo/GPS_12_ThreeFPHoldSRTProbe/20240724/Top/Clips/Leo_20240724_HoldTrial033_TopView.avi\n",
      "Loading  D:/YuLab/Work/GPS/Video/Leo/GPS_12_ThreeFPHoldSRTProbe/20240724/Top/Clips/Leo_20240724_HoldTrial033_TopView.avi\n",
      "Duration of video [s]:  8.04 , recorded with  25.0 fps!\n",
      "Overall # of frames:  201  found with (before cropping) frame dimensions:  1280 1331\n",
      "Starting to extract posture\n",
      "Cropping based on the x1 = 0 x2 = 1280 y1 = 0 y2 = 1024. You can adjust the cropping coordinates in the config.yaml file.\n"
     ]
    },
    {
     "name": "stderr",
     "output_type": "stream",
     "text": [
      "100%|██████████| 201/201 [00:08<00:00, 23.15it/s]\n"
     ]
    },
    {
     "name": "stdout",
     "output_type": "stream",
     "text": [
      "Saving results in D:\\YuLab\\Work\\GPS\\Video\\Leo\\GPS_12_ThreeFPHoldSRTProbe\\20240724\\Top\\Clips...\n",
      "Saving csv poses!\n",
      "Starting to analyze %  D:/YuLab/Work/GPS/Video/Leo/GPS_12_ThreeFPHoldSRTProbe/20240724/Top/Clips/Leo_20240724_HoldTrial034_TopView.avi\n",
      "Loading  D:/YuLab/Work/GPS/Video/Leo/GPS_12_ThreeFPHoldSRTProbe/20240724/Top/Clips/Leo_20240724_HoldTrial034_TopView.avi\n",
      "Duration of video [s]:  8.04 , recorded with  25.0 fps!\n",
      "Overall # of frames:  201  found with (before cropping) frame dimensions:  1280 1331\n",
      "Starting to extract posture\n",
      "Cropping based on the x1 = 0 x2 = 1280 y1 = 0 y2 = 1024. You can adjust the cropping coordinates in the config.yaml file.\n"
     ]
    },
    {
     "name": "stderr",
     "output_type": "stream",
     "text": [
      "100%|██████████| 201/201 [00:08<00:00, 23.17it/s]\n"
     ]
    },
    {
     "name": "stdout",
     "output_type": "stream",
     "text": [
      "Saving results in D:\\YuLab\\Work\\GPS\\Video\\Leo\\GPS_12_ThreeFPHoldSRTProbe\\20240724\\Top\\Clips...\n",
      "Saving csv poses!\n",
      "Starting to analyze %  D:/YuLab/Work/GPS/Video/Leo/GPS_12_ThreeFPHoldSRTProbe/20240724/Top/Clips/Leo_20240724_HoldTrial035_TopView.avi\n",
      "Loading  D:/YuLab/Work/GPS/Video/Leo/GPS_12_ThreeFPHoldSRTProbe/20240724/Top/Clips/Leo_20240724_HoldTrial035_TopView.avi\n",
      "Duration of video [s]:  8.04 , recorded with  25.0 fps!\n",
      "Overall # of frames:  201  found with (before cropping) frame dimensions:  1280 1331\n",
      "Starting to extract posture\n",
      "Cropping based on the x1 = 0 x2 = 1280 y1 = 0 y2 = 1024. You can adjust the cropping coordinates in the config.yaml file.\n"
     ]
    },
    {
     "name": "stderr",
     "output_type": "stream",
     "text": [
      "100%|██████████| 201/201 [00:08<00:00, 23.21it/s]\n"
     ]
    },
    {
     "name": "stdout",
     "output_type": "stream",
     "text": [
      "Saving results in D:\\YuLab\\Work\\GPS\\Video\\Leo\\GPS_12_ThreeFPHoldSRTProbe\\20240724\\Top\\Clips...\n",
      "Saving csv poses!\n",
      "Starting to analyze %  D:/YuLab/Work/GPS/Video/Leo/GPS_12_ThreeFPHoldSRTProbe/20240724/Top/Clips/Leo_20240724_HoldTrial036_TopView.avi\n",
      "Loading  D:/YuLab/Work/GPS/Video/Leo/GPS_12_ThreeFPHoldSRTProbe/20240724/Top/Clips/Leo_20240724_HoldTrial036_TopView.avi\n",
      "Duration of video [s]:  8.04 , recorded with  25.0 fps!\n",
      "Overall # of frames:  201  found with (before cropping) frame dimensions:  1280 1331\n",
      "Starting to extract posture\n",
      "Cropping based on the x1 = 0 x2 = 1280 y1 = 0 y2 = 1024. You can adjust the cropping coordinates in the config.yaml file.\n"
     ]
    },
    {
     "name": "stderr",
     "output_type": "stream",
     "text": [
      "100%|██████████| 201/201 [00:08<00:00, 23.11it/s]\n"
     ]
    },
    {
     "name": "stdout",
     "output_type": "stream",
     "text": [
      "Saving results in D:\\YuLab\\Work\\GPS\\Video\\Leo\\GPS_12_ThreeFPHoldSRTProbe\\20240724\\Top\\Clips...\n",
      "Saving csv poses!\n",
      "Starting to analyze %  D:/YuLab/Work/GPS/Video/Leo/GPS_12_ThreeFPHoldSRTProbe/20240724/Top/Clips/Leo_20240724_HoldTrial037_TopView.avi\n",
      "Loading  D:/YuLab/Work/GPS/Video/Leo/GPS_12_ThreeFPHoldSRTProbe/20240724/Top/Clips/Leo_20240724_HoldTrial037_TopView.avi\n",
      "Duration of video [s]:  8.04 , recorded with  25.0 fps!\n",
      "Overall # of frames:  201  found with (before cropping) frame dimensions:  1280 1331\n",
      "Starting to extract posture\n",
      "Cropping based on the x1 = 0 x2 = 1280 y1 = 0 y2 = 1024. You can adjust the cropping coordinates in the config.yaml file.\n"
     ]
    },
    {
     "name": "stderr",
     "output_type": "stream",
     "text": [
      "100%|██████████| 201/201 [00:08<00:00, 23.14it/s]\n"
     ]
    },
    {
     "name": "stdout",
     "output_type": "stream",
     "text": [
      "Saving results in D:\\YuLab\\Work\\GPS\\Video\\Leo\\GPS_12_ThreeFPHoldSRTProbe\\20240724\\Top\\Clips...\n",
      "Saving csv poses!\n",
      "Starting to analyze %  D:/YuLab/Work/GPS/Video/Leo/GPS_12_ThreeFPHoldSRTProbe/20240724/Top/Clips/Leo_20240724_HoldTrial038_TopView.avi\n",
      "Loading  D:/YuLab/Work/GPS/Video/Leo/GPS_12_ThreeFPHoldSRTProbe/20240724/Top/Clips/Leo_20240724_HoldTrial038_TopView.avi\n",
      "Duration of video [s]:  8.04 , recorded with  25.0 fps!\n",
      "Overall # of frames:  201  found with (before cropping) frame dimensions:  1280 1331\n",
      "Starting to extract posture\n",
      "Cropping based on the x1 = 0 x2 = 1280 y1 = 0 y2 = 1024. You can adjust the cropping coordinates in the config.yaml file.\n"
     ]
    },
    {
     "name": "stderr",
     "output_type": "stream",
     "text": [
      "100%|██████████| 201/201 [00:08<00:00, 23.15it/s]\n"
     ]
    },
    {
     "name": "stdout",
     "output_type": "stream",
     "text": [
      "Saving results in D:\\YuLab\\Work\\GPS\\Video\\Leo\\GPS_12_ThreeFPHoldSRTProbe\\20240724\\Top\\Clips...\n",
      "Saving csv poses!\n",
      "Starting to analyze %  D:/YuLab/Work/GPS/Video/Leo/GPS_12_ThreeFPHoldSRTProbe/20240724/Top/Clips/Leo_20240724_HoldTrial039_TopView.avi\n",
      "Loading  D:/YuLab/Work/GPS/Video/Leo/GPS_12_ThreeFPHoldSRTProbe/20240724/Top/Clips/Leo_20240724_HoldTrial039_TopView.avi\n",
      "Duration of video [s]:  8.04 , recorded with  25.0 fps!\n",
      "Overall # of frames:  201  found with (before cropping) frame dimensions:  1280 1331\n",
      "Starting to extract posture\n",
      "Cropping based on the x1 = 0 x2 = 1280 y1 = 0 y2 = 1024. You can adjust the cropping coordinates in the config.yaml file.\n"
     ]
    },
    {
     "name": "stderr",
     "output_type": "stream",
     "text": [
      "100%|██████████| 201/201 [00:08<00:00, 23.28it/s]\n"
     ]
    },
    {
     "name": "stdout",
     "output_type": "stream",
     "text": [
      "Saving results in D:\\YuLab\\Work\\GPS\\Video\\Leo\\GPS_12_ThreeFPHoldSRTProbe\\20240724\\Top\\Clips...\n",
      "Saving csv poses!\n",
      "Starting to analyze %  D:/YuLab/Work/GPS/Video/Leo/GPS_12_ThreeFPHoldSRTProbe/20240724/Top/Clips/Leo_20240724_HoldTrial040_TopView.avi\n",
      "Loading  D:/YuLab/Work/GPS/Video/Leo/GPS_12_ThreeFPHoldSRTProbe/20240724/Top/Clips/Leo_20240724_HoldTrial040_TopView.avi\n",
      "Duration of video [s]:  8.04 , recorded with  25.0 fps!\n",
      "Overall # of frames:  201  found with (before cropping) frame dimensions:  1280 1331\n",
      "Starting to extract posture\n",
      "Cropping based on the x1 = 0 x2 = 1280 y1 = 0 y2 = 1024. You can adjust the cropping coordinates in the config.yaml file.\n"
     ]
    },
    {
     "name": "stderr",
     "output_type": "stream",
     "text": [
      "100%|██████████| 201/201 [00:08<00:00, 23.27it/s]\n"
     ]
    },
    {
     "name": "stdout",
     "output_type": "stream",
     "text": [
      "Saving results in D:\\YuLab\\Work\\GPS\\Video\\Leo\\GPS_12_ThreeFPHoldSRTProbe\\20240724\\Top\\Clips...\n",
      "Saving csv poses!\n",
      "Starting to analyze %  D:/YuLab/Work/GPS/Video/Leo/GPS_12_ThreeFPHoldSRTProbe/20240724/Top/Clips/Leo_20240724_HoldTrial041_TopView.avi\n",
      "Loading  D:/YuLab/Work/GPS/Video/Leo/GPS_12_ThreeFPHoldSRTProbe/20240724/Top/Clips/Leo_20240724_HoldTrial041_TopView.avi\n",
      "Duration of video [s]:  8.04 , recorded with  25.0 fps!\n",
      "Overall # of frames:  201  found with (before cropping) frame dimensions:  1280 1331\n",
      "Starting to extract posture\n",
      "Cropping based on the x1 = 0 x2 = 1280 y1 = 0 y2 = 1024. You can adjust the cropping coordinates in the config.yaml file.\n"
     ]
    },
    {
     "name": "stderr",
     "output_type": "stream",
     "text": [
      "100%|██████████| 201/201 [00:08<00:00, 23.20it/s]\n"
     ]
    },
    {
     "name": "stdout",
     "output_type": "stream",
     "text": [
      "Saving results in D:\\YuLab\\Work\\GPS\\Video\\Leo\\GPS_12_ThreeFPHoldSRTProbe\\20240724\\Top\\Clips...\n",
      "Saving csv poses!\n",
      "Starting to analyze %  D:/YuLab/Work/GPS/Video/Leo/GPS_12_ThreeFPHoldSRTProbe/20240724/Top/Clips/Leo_20240724_HoldTrial042_TopView.avi\n",
      "Loading  D:/YuLab/Work/GPS/Video/Leo/GPS_12_ThreeFPHoldSRTProbe/20240724/Top/Clips/Leo_20240724_HoldTrial042_TopView.avi\n",
      "Duration of video [s]:  8.04 , recorded with  25.0 fps!\n",
      "Overall # of frames:  201  found with (before cropping) frame dimensions:  1280 1331\n",
      "Starting to extract posture\n",
      "Cropping based on the x1 = 0 x2 = 1280 y1 = 0 y2 = 1024. You can adjust the cropping coordinates in the config.yaml file.\n"
     ]
    },
    {
     "name": "stderr",
     "output_type": "stream",
     "text": [
      "100%|██████████| 201/201 [00:08<00:00, 23.22it/s]\n"
     ]
    },
    {
     "name": "stdout",
     "output_type": "stream",
     "text": [
      "Saving results in D:\\YuLab\\Work\\GPS\\Video\\Leo\\GPS_12_ThreeFPHoldSRTProbe\\20240724\\Top\\Clips...\n",
      "Saving csv poses!\n",
      "Starting to analyze %  D:/YuLab/Work/GPS/Video/Leo/GPS_12_ThreeFPHoldSRTProbe/20240724/Top/Clips/Leo_20240724_HoldTrial043_TopView.avi\n",
      "Loading  D:/YuLab/Work/GPS/Video/Leo/GPS_12_ThreeFPHoldSRTProbe/20240724/Top/Clips/Leo_20240724_HoldTrial043_TopView.avi\n",
      "Duration of video [s]:  8.04 , recorded with  25.0 fps!\n",
      "Overall # of frames:  201  found with (before cropping) frame dimensions:  1280 1331\n",
      "Starting to extract posture\n",
      "Cropping based on the x1 = 0 x2 = 1280 y1 = 0 y2 = 1024. You can adjust the cropping coordinates in the config.yaml file.\n"
     ]
    },
    {
     "name": "stderr",
     "output_type": "stream",
     "text": [
      "100%|██████████| 201/201 [00:08<00:00, 23.15it/s]\n"
     ]
    },
    {
     "name": "stdout",
     "output_type": "stream",
     "text": [
      "Saving results in D:\\YuLab\\Work\\GPS\\Video\\Leo\\GPS_12_ThreeFPHoldSRTProbe\\20240724\\Top\\Clips...\n",
      "Saving csv poses!\n",
      "Starting to analyze %  D:/YuLab/Work/GPS/Video/Leo/GPS_12_ThreeFPHoldSRTProbe/20240724/Top/Clips/Leo_20240724_HoldTrial044_TopView.avi\n",
      "Loading  D:/YuLab/Work/GPS/Video/Leo/GPS_12_ThreeFPHoldSRTProbe/20240724/Top/Clips/Leo_20240724_HoldTrial044_TopView.avi\n",
      "Duration of video [s]:  8.04 , recorded with  25.0 fps!\n",
      "Overall # of frames:  201  found with (before cropping) frame dimensions:  1280 1331\n",
      "Starting to extract posture\n",
      "Cropping based on the x1 = 0 x2 = 1280 y1 = 0 y2 = 1024. You can adjust the cropping coordinates in the config.yaml file.\n"
     ]
    },
    {
     "name": "stderr",
     "output_type": "stream",
     "text": [
      "100%|██████████| 201/201 [00:08<00:00, 23.17it/s]\n"
     ]
    },
    {
     "name": "stdout",
     "output_type": "stream",
     "text": [
      "Saving results in D:\\YuLab\\Work\\GPS\\Video\\Leo\\GPS_12_ThreeFPHoldSRTProbe\\20240724\\Top\\Clips...\n",
      "Saving csv poses!\n",
      "Starting to analyze %  D:/YuLab/Work/GPS/Video/Leo/GPS_12_ThreeFPHoldSRTProbe/20240724/Top/Clips/Leo_20240724_HoldTrial045_TopView.avi\n",
      "Loading  D:/YuLab/Work/GPS/Video/Leo/GPS_12_ThreeFPHoldSRTProbe/20240724/Top/Clips/Leo_20240724_HoldTrial045_TopView.avi\n",
      "Duration of video [s]:  8.04 , recorded with  25.0 fps!\n",
      "Overall # of frames:  201  found with (before cropping) frame dimensions:  1280 1331\n",
      "Starting to extract posture\n",
      "Cropping based on the x1 = 0 x2 = 1280 y1 = 0 y2 = 1024. You can adjust the cropping coordinates in the config.yaml file.\n"
     ]
    },
    {
     "name": "stderr",
     "output_type": "stream",
     "text": [
      "100%|██████████| 201/201 [00:08<00:00, 23.15it/s]\n"
     ]
    },
    {
     "name": "stdout",
     "output_type": "stream",
     "text": [
      "Saving results in D:\\YuLab\\Work\\GPS\\Video\\Leo\\GPS_12_ThreeFPHoldSRTProbe\\20240724\\Top\\Clips...\n",
      "Saving csv poses!\n",
      "Starting to analyze %  D:/YuLab/Work/GPS/Video/Leo/GPS_12_ThreeFPHoldSRTProbe/20240724/Top/Clips/Leo_20240724_HoldTrial046_TopView.avi\n",
      "Loading  D:/YuLab/Work/GPS/Video/Leo/GPS_12_ThreeFPHoldSRTProbe/20240724/Top/Clips/Leo_20240724_HoldTrial046_TopView.avi\n",
      "Duration of video [s]:  8.04 , recorded with  25.0 fps!\n",
      "Overall # of frames:  201  found with (before cropping) frame dimensions:  1280 1331\n",
      "Starting to extract posture\n",
      "Cropping based on the x1 = 0 x2 = 1280 y1 = 0 y2 = 1024. You can adjust the cropping coordinates in the config.yaml file.\n"
     ]
    },
    {
     "name": "stderr",
     "output_type": "stream",
     "text": [
      "100%|██████████| 201/201 [00:08<00:00, 23.18it/s]\n"
     ]
    },
    {
     "name": "stdout",
     "output_type": "stream",
     "text": [
      "Saving results in D:\\YuLab\\Work\\GPS\\Video\\Leo\\GPS_12_ThreeFPHoldSRTProbe\\20240724\\Top\\Clips...\n",
      "Saving csv poses!\n",
      "Starting to analyze %  D:/YuLab/Work/GPS/Video/Leo/GPS_12_ThreeFPHoldSRTProbe/20240724/Top/Clips/Leo_20240724_HoldTrial047_TopView.avi\n",
      "Loading  D:/YuLab/Work/GPS/Video/Leo/GPS_12_ThreeFPHoldSRTProbe/20240724/Top/Clips/Leo_20240724_HoldTrial047_TopView.avi\n",
      "Duration of video [s]:  8.04 , recorded with  25.0 fps!\n",
      "Overall # of frames:  201  found with (before cropping) frame dimensions:  1280 1331\n",
      "Starting to extract posture\n",
      "Cropping based on the x1 = 0 x2 = 1280 y1 = 0 y2 = 1024. You can adjust the cropping coordinates in the config.yaml file.\n"
     ]
    },
    {
     "name": "stderr",
     "output_type": "stream",
     "text": [
      "100%|██████████| 201/201 [00:08<00:00, 23.20it/s]\n"
     ]
    },
    {
     "name": "stdout",
     "output_type": "stream",
     "text": [
      "Saving results in D:\\YuLab\\Work\\GPS\\Video\\Leo\\GPS_12_ThreeFPHoldSRTProbe\\20240724\\Top\\Clips...\n",
      "Saving csv poses!\n",
      "Starting to analyze %  D:/YuLab/Work/GPS/Video/Leo/GPS_12_ThreeFPHoldSRTProbe/20240724/Top/Clips/Leo_20240724_HoldTrial048_TopView.avi\n",
      "Loading  D:/YuLab/Work/GPS/Video/Leo/GPS_12_ThreeFPHoldSRTProbe/20240724/Top/Clips/Leo_20240724_HoldTrial048_TopView.avi\n",
      "Duration of video [s]:  8.04 , recorded with  25.0 fps!\n",
      "Overall # of frames:  201  found with (before cropping) frame dimensions:  1280 1331\n",
      "Starting to extract posture\n",
      "Cropping based on the x1 = 0 x2 = 1280 y1 = 0 y2 = 1024. You can adjust the cropping coordinates in the config.yaml file.\n"
     ]
    },
    {
     "name": "stderr",
     "output_type": "stream",
     "text": [
      "100%|██████████| 201/201 [00:08<00:00, 23.21it/s]\n"
     ]
    },
    {
     "name": "stdout",
     "output_type": "stream",
     "text": [
      "Saving results in D:\\YuLab\\Work\\GPS\\Video\\Leo\\GPS_12_ThreeFPHoldSRTProbe\\20240724\\Top\\Clips...\n",
      "Saving csv poses!\n",
      "Starting to analyze %  D:/YuLab/Work/GPS/Video/Leo/GPS_12_ThreeFPHoldSRTProbe/20240724/Top/Clips/Leo_20240724_HoldTrial049_TopView.avi\n",
      "Loading  D:/YuLab/Work/GPS/Video/Leo/GPS_12_ThreeFPHoldSRTProbe/20240724/Top/Clips/Leo_20240724_HoldTrial049_TopView.avi\n",
      "Duration of video [s]:  8.04 , recorded with  25.0 fps!\n",
      "Overall # of frames:  201  found with (before cropping) frame dimensions:  1280 1331\n",
      "Starting to extract posture\n",
      "Cropping based on the x1 = 0 x2 = 1280 y1 = 0 y2 = 1024. You can adjust the cropping coordinates in the config.yaml file.\n"
     ]
    },
    {
     "name": "stderr",
     "output_type": "stream",
     "text": [
      "100%|██████████| 201/201 [00:08<00:00, 23.22it/s]\n"
     ]
    },
    {
     "name": "stdout",
     "output_type": "stream",
     "text": [
      "Saving results in D:\\YuLab\\Work\\GPS\\Video\\Leo\\GPS_12_ThreeFPHoldSRTProbe\\20240724\\Top\\Clips...\n",
      "Saving csv poses!\n",
      "Starting to analyze %  D:/YuLab/Work/GPS/Video/Leo/GPS_12_ThreeFPHoldSRTProbe/20240724/Top/Clips/Leo_20240724_HoldTrial050_TopView.avi\n",
      "Loading  D:/YuLab/Work/GPS/Video/Leo/GPS_12_ThreeFPHoldSRTProbe/20240724/Top/Clips/Leo_20240724_HoldTrial050_TopView.avi\n",
      "Duration of video [s]:  8.04 , recorded with  25.0 fps!\n",
      "Overall # of frames:  201  found with (before cropping) frame dimensions:  1280 1331\n",
      "Starting to extract posture\n",
      "Cropping based on the x1 = 0 x2 = 1280 y1 = 0 y2 = 1024. You can adjust the cropping coordinates in the config.yaml file.\n"
     ]
    },
    {
     "name": "stderr",
     "output_type": "stream",
     "text": [
      "100%|██████████| 201/201 [00:08<00:00, 23.15it/s]\n"
     ]
    },
    {
     "name": "stdout",
     "output_type": "stream",
     "text": [
      "Saving results in D:\\YuLab\\Work\\GPS\\Video\\Leo\\GPS_12_ThreeFPHoldSRTProbe\\20240724\\Top\\Clips...\n",
      "Saving csv poses!\n",
      "Starting to analyze %  D:/YuLab/Work/GPS/Video/Leo/GPS_12_ThreeFPHoldSRTProbe/20240724/Top/Clips/Leo_20240724_HoldTrial051_TopView.avi\n",
      "Loading  D:/YuLab/Work/GPS/Video/Leo/GPS_12_ThreeFPHoldSRTProbe/20240724/Top/Clips/Leo_20240724_HoldTrial051_TopView.avi\n",
      "Duration of video [s]:  8.04 , recorded with  25.0 fps!\n",
      "Overall # of frames:  201  found with (before cropping) frame dimensions:  1280 1331\n",
      "Starting to extract posture\n",
      "Cropping based on the x1 = 0 x2 = 1280 y1 = 0 y2 = 1024. You can adjust the cropping coordinates in the config.yaml file.\n"
     ]
    },
    {
     "name": "stderr",
     "output_type": "stream",
     "text": [
      "100%|██████████| 201/201 [00:08<00:00, 23.26it/s]\n"
     ]
    },
    {
     "name": "stdout",
     "output_type": "stream",
     "text": [
      "Saving results in D:\\YuLab\\Work\\GPS\\Video\\Leo\\GPS_12_ThreeFPHoldSRTProbe\\20240724\\Top\\Clips...\n",
      "Saving csv poses!\n",
      "Starting to analyze %  D:/YuLab/Work/GPS/Video/Leo/GPS_12_ThreeFPHoldSRTProbe/20240724/Top/Clips/Leo_20240724_HoldTrial052_TopView.avi\n",
      "Loading  D:/YuLab/Work/GPS/Video/Leo/GPS_12_ThreeFPHoldSRTProbe/20240724/Top/Clips/Leo_20240724_HoldTrial052_TopView.avi\n",
      "Duration of video [s]:  8.04 , recorded with  25.0 fps!\n",
      "Overall # of frames:  201  found with (before cropping) frame dimensions:  1280 1331\n",
      "Starting to extract posture\n",
      "Cropping based on the x1 = 0 x2 = 1280 y1 = 0 y2 = 1024. You can adjust the cropping coordinates in the config.yaml file.\n"
     ]
    },
    {
     "name": "stderr",
     "output_type": "stream",
     "text": [
      "100%|██████████| 201/201 [00:08<00:00, 23.19it/s]\n"
     ]
    },
    {
     "name": "stdout",
     "output_type": "stream",
     "text": [
      "Saving results in D:\\YuLab\\Work\\GPS\\Video\\Leo\\GPS_12_ThreeFPHoldSRTProbe\\20240724\\Top\\Clips...\n",
      "Saving csv poses!\n",
      "Starting to analyze %  D:/YuLab/Work/GPS/Video/Leo/GPS_12_ThreeFPHoldSRTProbe/20240724/Top/Clips/Leo_20240724_HoldTrial053_TopView.avi\n",
      "Loading  D:/YuLab/Work/GPS/Video/Leo/GPS_12_ThreeFPHoldSRTProbe/20240724/Top/Clips/Leo_20240724_HoldTrial053_TopView.avi\n",
      "Duration of video [s]:  8.04 , recorded with  25.0 fps!\n",
      "Overall # of frames:  201  found with (before cropping) frame dimensions:  1280 1331\n",
      "Starting to extract posture\n",
      "Cropping based on the x1 = 0 x2 = 1280 y1 = 0 y2 = 1024. You can adjust the cropping coordinates in the config.yaml file.\n"
     ]
    },
    {
     "name": "stderr",
     "output_type": "stream",
     "text": [
      "100%|██████████| 201/201 [00:08<00:00, 23.18it/s]\n"
     ]
    },
    {
     "name": "stdout",
     "output_type": "stream",
     "text": [
      "Saving results in D:\\YuLab\\Work\\GPS\\Video\\Leo\\GPS_12_ThreeFPHoldSRTProbe\\20240724\\Top\\Clips...\n",
      "Saving csv poses!\n",
      "Starting to analyze %  D:/YuLab/Work/GPS/Video/Leo/GPS_12_ThreeFPHoldSRTProbe/20240724/Top/Clips/Leo_20240724_HoldTrial054_TopView.avi\n",
      "Loading  D:/YuLab/Work/GPS/Video/Leo/GPS_12_ThreeFPHoldSRTProbe/20240724/Top/Clips/Leo_20240724_HoldTrial054_TopView.avi\n",
      "Duration of video [s]:  8.04 , recorded with  25.0 fps!\n",
      "Overall # of frames:  201  found with (before cropping) frame dimensions:  1280 1331\n",
      "Starting to extract posture\n",
      "Cropping based on the x1 = 0 x2 = 1280 y1 = 0 y2 = 1024. You can adjust the cropping coordinates in the config.yaml file.\n"
     ]
    },
    {
     "name": "stderr",
     "output_type": "stream",
     "text": [
      "100%|██████████| 201/201 [00:08<00:00, 23.14it/s]\n"
     ]
    },
    {
     "name": "stdout",
     "output_type": "stream",
     "text": [
      "Saving results in D:\\YuLab\\Work\\GPS\\Video\\Leo\\GPS_12_ThreeFPHoldSRTProbe\\20240724\\Top\\Clips...\n",
      "Saving csv poses!\n",
      "Starting to analyze %  D:/YuLab/Work/GPS/Video/Leo/GPS_12_ThreeFPHoldSRTProbe/20240724/Top/Clips/Leo_20240724_HoldTrial055_TopView.avi\n",
      "Loading  D:/YuLab/Work/GPS/Video/Leo/GPS_12_ThreeFPHoldSRTProbe/20240724/Top/Clips/Leo_20240724_HoldTrial055_TopView.avi\n",
      "Duration of video [s]:  8.04 , recorded with  25.0 fps!\n",
      "Overall # of frames:  201  found with (before cropping) frame dimensions:  1280 1331\n",
      "Starting to extract posture\n",
      "Cropping based on the x1 = 0 x2 = 1280 y1 = 0 y2 = 1024. You can adjust the cropping coordinates in the config.yaml file.\n"
     ]
    },
    {
     "name": "stderr",
     "output_type": "stream",
     "text": [
      "100%|██████████| 201/201 [00:08<00:00, 23.15it/s]\n"
     ]
    },
    {
     "name": "stdout",
     "output_type": "stream",
     "text": [
      "Saving results in D:\\YuLab\\Work\\GPS\\Video\\Leo\\GPS_12_ThreeFPHoldSRTProbe\\20240724\\Top\\Clips...\n",
      "Saving csv poses!\n",
      "Starting to analyze %  D:/YuLab/Work/GPS/Video/Leo/GPS_12_ThreeFPHoldSRTProbe/20240724/Top/Clips/Leo_20240724_HoldTrial056_TopView.avi\n",
      "Loading  D:/YuLab/Work/GPS/Video/Leo/GPS_12_ThreeFPHoldSRTProbe/20240724/Top/Clips/Leo_20240724_HoldTrial056_TopView.avi\n",
      "Duration of video [s]:  8.04 , recorded with  25.0 fps!\n",
      "Overall # of frames:  201  found with (before cropping) frame dimensions:  1280 1331\n",
      "Starting to extract posture\n",
      "Cropping based on the x1 = 0 x2 = 1280 y1 = 0 y2 = 1024. You can adjust the cropping coordinates in the config.yaml file.\n"
     ]
    },
    {
     "name": "stderr",
     "output_type": "stream",
     "text": [
      "100%|██████████| 201/201 [00:08<00:00, 23.14it/s]\n"
     ]
    },
    {
     "name": "stdout",
     "output_type": "stream",
     "text": [
      "Saving results in D:\\YuLab\\Work\\GPS\\Video\\Leo\\GPS_12_ThreeFPHoldSRTProbe\\20240724\\Top\\Clips...\n",
      "Saving csv poses!\n",
      "Starting to analyze %  D:/YuLab/Work/GPS/Video/Leo/GPS_12_ThreeFPHoldSRTProbe/20240724/Top/Clips/Leo_20240724_HoldTrial057_TopView.avi\n",
      "Loading  D:/YuLab/Work/GPS/Video/Leo/GPS_12_ThreeFPHoldSRTProbe/20240724/Top/Clips/Leo_20240724_HoldTrial057_TopView.avi\n",
      "Duration of video [s]:  8.04 , recorded with  25.0 fps!\n",
      "Overall # of frames:  201  found with (before cropping) frame dimensions:  1280 1331\n",
      "Starting to extract posture\n",
      "Cropping based on the x1 = 0 x2 = 1280 y1 = 0 y2 = 1024. You can adjust the cropping coordinates in the config.yaml file.\n"
     ]
    },
    {
     "name": "stderr",
     "output_type": "stream",
     "text": [
      "100%|██████████| 201/201 [00:08<00:00, 23.11it/s]\n"
     ]
    },
    {
     "name": "stdout",
     "output_type": "stream",
     "text": [
      "Saving results in D:\\YuLab\\Work\\GPS\\Video\\Leo\\GPS_12_ThreeFPHoldSRTProbe\\20240724\\Top\\Clips...\n",
      "Saving csv poses!\n",
      "Starting to analyze %  D:/YuLab/Work/GPS/Video/Leo/GPS_12_ThreeFPHoldSRTProbe/20240724/Top/Clips/Leo_20240724_HoldTrial058_TopView.avi\n",
      "Loading  D:/YuLab/Work/GPS/Video/Leo/GPS_12_ThreeFPHoldSRTProbe/20240724/Top/Clips/Leo_20240724_HoldTrial058_TopView.avi\n",
      "Duration of video [s]:  8.04 , recorded with  25.0 fps!\n",
      "Overall # of frames:  201  found with (before cropping) frame dimensions:  1280 1331\n",
      "Starting to extract posture\n",
      "Cropping based on the x1 = 0 x2 = 1280 y1 = 0 y2 = 1024. You can adjust the cropping coordinates in the config.yaml file.\n"
     ]
    },
    {
     "name": "stderr",
     "output_type": "stream",
     "text": [
      "100%|██████████| 201/201 [00:08<00:00, 23.30it/s]\n"
     ]
    },
    {
     "name": "stdout",
     "output_type": "stream",
     "text": [
      "Saving results in D:\\YuLab\\Work\\GPS\\Video\\Leo\\GPS_12_ThreeFPHoldSRTProbe\\20240724\\Top\\Clips...\n",
      "Saving csv poses!\n",
      "Starting to analyze %  D:/YuLab/Work/GPS/Video/Leo/GPS_12_ThreeFPHoldSRTProbe/20240724/Top/Clips/Leo_20240724_HoldTrial059_TopView.avi\n",
      "Loading  D:/YuLab/Work/GPS/Video/Leo/GPS_12_ThreeFPHoldSRTProbe/20240724/Top/Clips/Leo_20240724_HoldTrial059_TopView.avi\n",
      "Duration of video [s]:  8.04 , recorded with  25.0 fps!\n",
      "Overall # of frames:  201  found with (before cropping) frame dimensions:  1280 1331\n",
      "Starting to extract posture\n",
      "Cropping based on the x1 = 0 x2 = 1280 y1 = 0 y2 = 1024. You can adjust the cropping coordinates in the config.yaml file.\n"
     ]
    },
    {
     "name": "stderr",
     "output_type": "stream",
     "text": [
      "100%|██████████| 201/201 [00:08<00:00, 23.27it/s]\n"
     ]
    },
    {
     "name": "stdout",
     "output_type": "stream",
     "text": [
      "Saving results in D:\\YuLab\\Work\\GPS\\Video\\Leo\\GPS_12_ThreeFPHoldSRTProbe\\20240724\\Top\\Clips...\n",
      "Saving csv poses!\n",
      "Starting to analyze %  D:/YuLab/Work/GPS/Video/Leo/GPS_12_ThreeFPHoldSRTProbe/20240724/Top/Clips/Leo_20240724_HoldTrial060_TopView.avi\n",
      "Loading  D:/YuLab/Work/GPS/Video/Leo/GPS_12_ThreeFPHoldSRTProbe/20240724/Top/Clips/Leo_20240724_HoldTrial060_TopView.avi\n",
      "Duration of video [s]:  8.04 , recorded with  25.0 fps!\n",
      "Overall # of frames:  201  found with (before cropping) frame dimensions:  1280 1331\n",
      "Starting to extract posture\n",
      "Cropping based on the x1 = 0 x2 = 1280 y1 = 0 y2 = 1024. You can adjust the cropping coordinates in the config.yaml file.\n"
     ]
    },
    {
     "name": "stderr",
     "output_type": "stream",
     "text": [
      "100%|██████████| 201/201 [00:08<00:00, 23.22it/s]\n"
     ]
    },
    {
     "name": "stdout",
     "output_type": "stream",
     "text": [
      "Saving results in D:\\YuLab\\Work\\GPS\\Video\\Leo\\GPS_12_ThreeFPHoldSRTProbe\\20240724\\Top\\Clips...\n",
      "Saving csv poses!\n",
      "Starting to analyze %  D:/YuLab/Work/GPS/Video/Leo/GPS_12_ThreeFPHoldSRTProbe/20240724/Top/Clips/Leo_20240724_HoldTrial061_TopView.avi\n",
      "Loading  D:/YuLab/Work/GPS/Video/Leo/GPS_12_ThreeFPHoldSRTProbe/20240724/Top/Clips/Leo_20240724_HoldTrial061_TopView.avi\n",
      "Duration of video [s]:  8.04 , recorded with  25.0 fps!\n",
      "Overall # of frames:  201  found with (before cropping) frame dimensions:  1280 1331\n",
      "Starting to extract posture\n",
      "Cropping based on the x1 = 0 x2 = 1280 y1 = 0 y2 = 1024. You can adjust the cropping coordinates in the config.yaml file.\n"
     ]
    },
    {
     "name": "stderr",
     "output_type": "stream",
     "text": [
      "100%|██████████| 201/201 [00:08<00:00, 23.21it/s]\n"
     ]
    },
    {
     "name": "stdout",
     "output_type": "stream",
     "text": [
      "Saving results in D:\\YuLab\\Work\\GPS\\Video\\Leo\\GPS_12_ThreeFPHoldSRTProbe\\20240724\\Top\\Clips...\n",
      "Saving csv poses!\n",
      "Starting to analyze %  D:/YuLab/Work/GPS/Video/Leo/GPS_12_ThreeFPHoldSRTProbe/20240724/Top/Clips/Leo_20240724_HoldTrial062_TopView.avi\n",
      "Loading  D:/YuLab/Work/GPS/Video/Leo/GPS_12_ThreeFPHoldSRTProbe/20240724/Top/Clips/Leo_20240724_HoldTrial062_TopView.avi\n",
      "Duration of video [s]:  8.04 , recorded with  25.0 fps!\n",
      "Overall # of frames:  201  found with (before cropping) frame dimensions:  1280 1331\n",
      "Starting to extract posture\n",
      "Cropping based on the x1 = 0 x2 = 1280 y1 = 0 y2 = 1024. You can adjust the cropping coordinates in the config.yaml file.\n"
     ]
    },
    {
     "name": "stderr",
     "output_type": "stream",
     "text": [
      "100%|██████████| 201/201 [00:08<00:00, 23.15it/s]\n"
     ]
    },
    {
     "name": "stdout",
     "output_type": "stream",
     "text": [
      "Saving results in D:\\YuLab\\Work\\GPS\\Video\\Leo\\GPS_12_ThreeFPHoldSRTProbe\\20240724\\Top\\Clips...\n",
      "Saving csv poses!\n",
      "Starting to analyze %  D:/YuLab/Work/GPS/Video/Leo/GPS_12_ThreeFPHoldSRTProbe/20240724/Top/Clips/Leo_20240724_HoldTrial063_TopView.avi\n",
      "Loading  D:/YuLab/Work/GPS/Video/Leo/GPS_12_ThreeFPHoldSRTProbe/20240724/Top/Clips/Leo_20240724_HoldTrial063_TopView.avi\n",
      "Duration of video [s]:  8.04 , recorded with  25.0 fps!\n",
      "Overall # of frames:  201  found with (before cropping) frame dimensions:  1280 1331\n",
      "Starting to extract posture\n",
      "Cropping based on the x1 = 0 x2 = 1280 y1 = 0 y2 = 1024. You can adjust the cropping coordinates in the config.yaml file.\n"
     ]
    },
    {
     "name": "stderr",
     "output_type": "stream",
     "text": [
      "100%|██████████| 201/201 [00:08<00:00, 23.18it/s]\n"
     ]
    },
    {
     "name": "stdout",
     "output_type": "stream",
     "text": [
      "Saving results in D:\\YuLab\\Work\\GPS\\Video\\Leo\\GPS_12_ThreeFPHoldSRTProbe\\20240724\\Top\\Clips...\n",
      "Saving csv poses!\n",
      "Starting to analyze %  D:/YuLab/Work/GPS/Video/Leo/GPS_12_ThreeFPHoldSRTProbe/20240724/Top/Clips/Leo_20240724_HoldTrial064_TopView.avi\n",
      "Loading  D:/YuLab/Work/GPS/Video/Leo/GPS_12_ThreeFPHoldSRTProbe/20240724/Top/Clips/Leo_20240724_HoldTrial064_TopView.avi\n",
      "Duration of video [s]:  8.04 , recorded with  25.0 fps!\n",
      "Overall # of frames:  201  found with (before cropping) frame dimensions:  1280 1331\n",
      "Starting to extract posture\n",
      "Cropping based on the x1 = 0 x2 = 1280 y1 = 0 y2 = 1024. You can adjust the cropping coordinates in the config.yaml file.\n"
     ]
    },
    {
     "name": "stderr",
     "output_type": "stream",
     "text": [
      "100%|██████████| 201/201 [00:08<00:00, 23.16it/s]\n"
     ]
    },
    {
     "name": "stdout",
     "output_type": "stream",
     "text": [
      "Saving results in D:\\YuLab\\Work\\GPS\\Video\\Leo\\GPS_12_ThreeFPHoldSRTProbe\\20240724\\Top\\Clips...\n",
      "Saving csv poses!\n",
      "Starting to analyze %  D:/YuLab/Work/GPS/Video/Leo/GPS_12_ThreeFPHoldSRTProbe/20240724/Top/Clips/Leo_20240724_HoldTrial065_TopView.avi\n",
      "Loading  D:/YuLab/Work/GPS/Video/Leo/GPS_12_ThreeFPHoldSRTProbe/20240724/Top/Clips/Leo_20240724_HoldTrial065_TopView.avi\n",
      "Duration of video [s]:  8.04 , recorded with  25.0 fps!\n",
      "Overall # of frames:  201  found with (before cropping) frame dimensions:  1280 1331\n",
      "Starting to extract posture\n",
      "Cropping based on the x1 = 0 x2 = 1280 y1 = 0 y2 = 1024. You can adjust the cropping coordinates in the config.yaml file.\n"
     ]
    },
    {
     "name": "stderr",
     "output_type": "stream",
     "text": [
      "100%|██████████| 201/201 [00:08<00:00, 23.14it/s]\n"
     ]
    },
    {
     "name": "stdout",
     "output_type": "stream",
     "text": [
      "Saving results in D:\\YuLab\\Work\\GPS\\Video\\Leo\\GPS_12_ThreeFPHoldSRTProbe\\20240724\\Top\\Clips...\n",
      "Saving csv poses!\n",
      "Starting to analyze %  D:/YuLab/Work/GPS/Video/Leo/GPS_12_ThreeFPHoldSRTProbe/20240724/Top/Clips/Leo_20240724_HoldTrial066_TopView.avi\n",
      "Loading  D:/YuLab/Work/GPS/Video/Leo/GPS_12_ThreeFPHoldSRTProbe/20240724/Top/Clips/Leo_20240724_HoldTrial066_TopView.avi\n",
      "Duration of video [s]:  8.04 , recorded with  25.0 fps!\n",
      "Overall # of frames:  201  found with (before cropping) frame dimensions:  1280 1331\n",
      "Starting to extract posture\n",
      "Cropping based on the x1 = 0 x2 = 1280 y1 = 0 y2 = 1024. You can adjust the cropping coordinates in the config.yaml file.\n"
     ]
    },
    {
     "name": "stderr",
     "output_type": "stream",
     "text": [
      "100%|██████████| 201/201 [00:08<00:00, 23.33it/s]\n"
     ]
    },
    {
     "name": "stdout",
     "output_type": "stream",
     "text": [
      "Saving results in D:\\YuLab\\Work\\GPS\\Video\\Leo\\GPS_12_ThreeFPHoldSRTProbe\\20240724\\Top\\Clips...\n",
      "Saving csv poses!\n",
      "Starting to analyze %  D:/YuLab/Work/GPS/Video/Leo/GPS_12_ThreeFPHoldSRTProbe/20240724/Top/Clips/Leo_20240724_HoldTrial067_TopView.avi\n",
      "Loading  D:/YuLab/Work/GPS/Video/Leo/GPS_12_ThreeFPHoldSRTProbe/20240724/Top/Clips/Leo_20240724_HoldTrial067_TopView.avi\n",
      "Duration of video [s]:  8.04 , recorded with  25.0 fps!\n",
      "Overall # of frames:  201  found with (before cropping) frame dimensions:  1280 1331\n",
      "Starting to extract posture\n",
      "Cropping based on the x1 = 0 x2 = 1280 y1 = 0 y2 = 1024. You can adjust the cropping coordinates in the config.yaml file.\n"
     ]
    },
    {
     "name": "stderr",
     "output_type": "stream",
     "text": [
      "100%|██████████| 201/201 [00:08<00:00, 23.24it/s]\n"
     ]
    },
    {
     "name": "stdout",
     "output_type": "stream",
     "text": [
      "Saving results in D:\\YuLab\\Work\\GPS\\Video\\Leo\\GPS_12_ThreeFPHoldSRTProbe\\20240724\\Top\\Clips...\n",
      "Saving csv poses!\n",
      "Starting to analyze %  D:/YuLab/Work/GPS/Video/Leo/GPS_12_ThreeFPHoldSRTProbe/20240724/Top/Clips/Leo_20240724_HoldTrial068_TopView.avi\n",
      "Loading  D:/YuLab/Work/GPS/Video/Leo/GPS_12_ThreeFPHoldSRTProbe/20240724/Top/Clips/Leo_20240724_HoldTrial068_TopView.avi\n",
      "Duration of video [s]:  8.0 , recorded with  25.0 fps!\n",
      "Overall # of frames:  200  found with (before cropping) frame dimensions:  1280 1331\n",
      "Starting to extract posture\n",
      "Cropping based on the x1 = 0 x2 = 1280 y1 = 0 y2 = 1024. You can adjust the cropping coordinates in the config.yaml file.\n"
     ]
    },
    {
     "name": "stderr",
     "output_type": "stream",
     "text": [
      "100%|██████████| 200/200 [00:08<00:00, 23.92it/s]\n"
     ]
    },
    {
     "name": "stdout",
     "output_type": "stream",
     "text": [
      "Saving results in D:\\YuLab\\Work\\GPS\\Video\\Leo\\GPS_12_ThreeFPHoldSRTProbe\\20240724\\Top\\Clips...\n",
      "Saving csv poses!\n",
      "Starting to analyze %  D:/YuLab/Work/GPS/Video/Leo/GPS_12_ThreeFPHoldSRTProbe/20240724/Top/Clips/Leo_20240724_HoldTrial069_TopView.avi\n",
      "Loading  D:/YuLab/Work/GPS/Video/Leo/GPS_12_ThreeFPHoldSRTProbe/20240724/Top/Clips/Leo_20240724_HoldTrial069_TopView.avi\n",
      "Duration of video [s]:  8.04 , recorded with  25.0 fps!\n",
      "Overall # of frames:  201  found with (before cropping) frame dimensions:  1280 1331\n",
      "Starting to extract posture\n",
      "Cropping based on the x1 = 0 x2 = 1280 y1 = 0 y2 = 1024. You can adjust the cropping coordinates in the config.yaml file.\n"
     ]
    },
    {
     "name": "stderr",
     "output_type": "stream",
     "text": [
      "100%|██████████| 201/201 [00:08<00:00, 23.27it/s]\n"
     ]
    },
    {
     "name": "stdout",
     "output_type": "stream",
     "text": [
      "Saving results in D:\\YuLab\\Work\\GPS\\Video\\Leo\\GPS_12_ThreeFPHoldSRTProbe\\20240724\\Top\\Clips...\n",
      "Saving csv poses!\n",
      "Starting to analyze %  D:/YuLab/Work/GPS/Video/Leo/GPS_12_ThreeFPHoldSRTProbe/20240724/Top/Clips/Leo_20240724_HoldTrial070_TopView.avi\n",
      "Loading  D:/YuLab/Work/GPS/Video/Leo/GPS_12_ThreeFPHoldSRTProbe/20240724/Top/Clips/Leo_20240724_HoldTrial070_TopView.avi\n",
      "Duration of video [s]:  8.04 , recorded with  25.0 fps!\n",
      "Overall # of frames:  201  found with (before cropping) frame dimensions:  1280 1331\n",
      "Starting to extract posture\n",
      "Cropping based on the x1 = 0 x2 = 1280 y1 = 0 y2 = 1024. You can adjust the cropping coordinates in the config.yaml file.\n"
     ]
    },
    {
     "name": "stderr",
     "output_type": "stream",
     "text": [
      "100%|██████████| 201/201 [00:08<00:00, 23.31it/s]\n"
     ]
    },
    {
     "name": "stdout",
     "output_type": "stream",
     "text": [
      "Saving results in D:\\YuLab\\Work\\GPS\\Video\\Leo\\GPS_12_ThreeFPHoldSRTProbe\\20240724\\Top\\Clips...\n",
      "Saving csv poses!\n",
      "Starting to analyze %  D:/YuLab/Work/GPS/Video/Leo/GPS_12_ThreeFPHoldSRTProbe/20240724/Top/Clips/Leo_20240724_HoldTrial071_TopView.avi\n",
      "Loading  D:/YuLab/Work/GPS/Video/Leo/GPS_12_ThreeFPHoldSRTProbe/20240724/Top/Clips/Leo_20240724_HoldTrial071_TopView.avi\n",
      "Duration of video [s]:  8.04 , recorded with  25.0 fps!\n",
      "Overall # of frames:  201  found with (before cropping) frame dimensions:  1280 1331\n",
      "Starting to extract posture\n",
      "Cropping based on the x1 = 0 x2 = 1280 y1 = 0 y2 = 1024. You can adjust the cropping coordinates in the config.yaml file.\n"
     ]
    },
    {
     "name": "stderr",
     "output_type": "stream",
     "text": [
      "100%|██████████| 201/201 [00:08<00:00, 23.24it/s]\n"
     ]
    },
    {
     "name": "stdout",
     "output_type": "stream",
     "text": [
      "Saving results in D:\\YuLab\\Work\\GPS\\Video\\Leo\\GPS_12_ThreeFPHoldSRTProbe\\20240724\\Top\\Clips...\n",
      "Saving csv poses!\n",
      "Starting to analyze %  D:/YuLab/Work/GPS/Video/Leo/GPS_12_ThreeFPHoldSRTProbe/20240724/Top/Clips/Leo_20240724_HoldTrial072_TopView.avi\n",
      "Loading  D:/YuLab/Work/GPS/Video/Leo/GPS_12_ThreeFPHoldSRTProbe/20240724/Top/Clips/Leo_20240724_HoldTrial072_TopView.avi\n",
      "Duration of video [s]:  8.04 , recorded with  25.0 fps!\n",
      "Overall # of frames:  201  found with (before cropping) frame dimensions:  1280 1331\n",
      "Starting to extract posture\n",
      "Cropping based on the x1 = 0 x2 = 1280 y1 = 0 y2 = 1024. You can adjust the cropping coordinates in the config.yaml file.\n"
     ]
    },
    {
     "name": "stderr",
     "output_type": "stream",
     "text": [
      "100%|██████████| 201/201 [00:08<00:00, 23.17it/s]\n"
     ]
    },
    {
     "name": "stdout",
     "output_type": "stream",
     "text": [
      "Saving results in D:\\YuLab\\Work\\GPS\\Video\\Leo\\GPS_12_ThreeFPHoldSRTProbe\\20240724\\Top\\Clips...\n",
      "Saving csv poses!\n",
      "Starting to analyze %  D:/YuLab/Work/GPS/Video/Leo/GPS_12_ThreeFPHoldSRTProbe/20240724/Top/Clips/Leo_20240724_HoldTrial073_TopView.avi\n",
      "Loading  D:/YuLab/Work/GPS/Video/Leo/GPS_12_ThreeFPHoldSRTProbe/20240724/Top/Clips/Leo_20240724_HoldTrial073_TopView.avi\n",
      "Duration of video [s]:  8.04 , recorded with  25.0 fps!\n",
      "Overall # of frames:  201  found with (before cropping) frame dimensions:  1280 1331\n",
      "Starting to extract posture\n",
      "Cropping based on the x1 = 0 x2 = 1280 y1 = 0 y2 = 1024. You can adjust the cropping coordinates in the config.yaml file.\n"
     ]
    },
    {
     "name": "stderr",
     "output_type": "stream",
     "text": [
      "100%|██████████| 201/201 [00:08<00:00, 23.24it/s]\n"
     ]
    },
    {
     "name": "stdout",
     "output_type": "stream",
     "text": [
      "Saving results in D:\\YuLab\\Work\\GPS\\Video\\Leo\\GPS_12_ThreeFPHoldSRTProbe\\20240724\\Top\\Clips...\n",
      "Saving csv poses!\n",
      "Starting to analyze %  D:/YuLab/Work/GPS/Video/Leo/GPS_12_ThreeFPHoldSRTProbe/20240724/Top/Clips/Leo_20240724_HoldTrial074_TopView.avi\n",
      "Loading  D:/YuLab/Work/GPS/Video/Leo/GPS_12_ThreeFPHoldSRTProbe/20240724/Top/Clips/Leo_20240724_HoldTrial074_TopView.avi\n",
      "Duration of video [s]:  8.04 , recorded with  25.0 fps!\n",
      "Overall # of frames:  201  found with (before cropping) frame dimensions:  1280 1331\n",
      "Starting to extract posture\n",
      "Cropping based on the x1 = 0 x2 = 1280 y1 = 0 y2 = 1024. You can adjust the cropping coordinates in the config.yaml file.\n"
     ]
    },
    {
     "name": "stderr",
     "output_type": "stream",
     "text": [
      "100%|██████████| 201/201 [00:08<00:00, 23.20it/s]\n"
     ]
    },
    {
     "name": "stdout",
     "output_type": "stream",
     "text": [
      "Saving results in D:\\YuLab\\Work\\GPS\\Video\\Leo\\GPS_12_ThreeFPHoldSRTProbe\\20240724\\Top\\Clips...\n",
      "Saving csv poses!\n",
      "Starting to analyze %  D:/YuLab/Work/GPS/Video/Leo/GPS_12_ThreeFPHoldSRTProbe/20240724/Top/Clips/Leo_20240724_HoldTrial075_TopView.avi\n",
      "Loading  D:/YuLab/Work/GPS/Video/Leo/GPS_12_ThreeFPHoldSRTProbe/20240724/Top/Clips/Leo_20240724_HoldTrial075_TopView.avi\n",
      "Duration of video [s]:  8.04 , recorded with  25.0 fps!\n",
      "Overall # of frames:  201  found with (before cropping) frame dimensions:  1280 1331\n",
      "Starting to extract posture\n",
      "Cropping based on the x1 = 0 x2 = 1280 y1 = 0 y2 = 1024. You can adjust the cropping coordinates in the config.yaml file.\n"
     ]
    },
    {
     "name": "stderr",
     "output_type": "stream",
     "text": [
      "100%|██████████| 201/201 [00:08<00:00, 23.17it/s]\n"
     ]
    },
    {
     "name": "stdout",
     "output_type": "stream",
     "text": [
      "Saving results in D:\\YuLab\\Work\\GPS\\Video\\Leo\\GPS_12_ThreeFPHoldSRTProbe\\20240724\\Top\\Clips...\n",
      "Saving csv poses!\n",
      "Starting to analyze %  D:/YuLab/Work/GPS/Video/Leo/GPS_12_ThreeFPHoldSRTProbe/20240724/Top/Clips/Leo_20240724_HoldTrial076_TopView.avi\n",
      "Loading  D:/YuLab/Work/GPS/Video/Leo/GPS_12_ThreeFPHoldSRTProbe/20240724/Top/Clips/Leo_20240724_HoldTrial076_TopView.avi\n",
      "Duration of video [s]:  8.04 , recorded with  25.0 fps!\n",
      "Overall # of frames:  201  found with (before cropping) frame dimensions:  1280 1331\n",
      "Starting to extract posture\n",
      "Cropping based on the x1 = 0 x2 = 1280 y1 = 0 y2 = 1024. You can adjust the cropping coordinates in the config.yaml file.\n"
     ]
    },
    {
     "name": "stderr",
     "output_type": "stream",
     "text": [
      "100%|██████████| 201/201 [00:08<00:00, 23.13it/s]\n"
     ]
    },
    {
     "name": "stdout",
     "output_type": "stream",
     "text": [
      "Saving results in D:\\YuLab\\Work\\GPS\\Video\\Leo\\GPS_12_ThreeFPHoldSRTProbe\\20240724\\Top\\Clips...\n",
      "Saving csv poses!\n",
      "Starting to analyze %  D:/YuLab/Work/GPS/Video/Leo/GPS_12_ThreeFPHoldSRTProbe/20240724/Top/Clips/Leo_20240724_HoldTrial077_TopView.avi\n",
      "Loading  D:/YuLab/Work/GPS/Video/Leo/GPS_12_ThreeFPHoldSRTProbe/20240724/Top/Clips/Leo_20240724_HoldTrial077_TopView.avi\n",
      "Duration of video [s]:  8.04 , recorded with  25.0 fps!\n",
      "Overall # of frames:  201  found with (before cropping) frame dimensions:  1280 1331\n",
      "Starting to extract posture\n",
      "Cropping based on the x1 = 0 x2 = 1280 y1 = 0 y2 = 1024. You can adjust the cropping coordinates in the config.yaml file.\n"
     ]
    },
    {
     "name": "stderr",
     "output_type": "stream",
     "text": [
      "100%|██████████| 201/201 [00:08<00:00, 23.12it/s]\n"
     ]
    },
    {
     "name": "stdout",
     "output_type": "stream",
     "text": [
      "Saving results in D:\\YuLab\\Work\\GPS\\Video\\Leo\\GPS_12_ThreeFPHoldSRTProbe\\20240724\\Top\\Clips...\n",
      "Saving csv poses!\n",
      "Starting to analyze %  D:/YuLab/Work/GPS/Video/Leo/GPS_12_ThreeFPHoldSRTProbe/20240724/Top/Clips/Leo_20240724_HoldTrial078_TopView.avi\n",
      "Loading  D:/YuLab/Work/GPS/Video/Leo/GPS_12_ThreeFPHoldSRTProbe/20240724/Top/Clips/Leo_20240724_HoldTrial078_TopView.avi\n",
      "Duration of video [s]:  8.04 , recorded with  25.0 fps!\n",
      "Overall # of frames:  201  found with (before cropping) frame dimensions:  1280 1331\n",
      "Starting to extract posture\n",
      "Cropping based on the x1 = 0 x2 = 1280 y1 = 0 y2 = 1024. You can adjust the cropping coordinates in the config.yaml file.\n"
     ]
    },
    {
     "name": "stderr",
     "output_type": "stream",
     "text": [
      "100%|██████████| 201/201 [00:08<00:00, 23.10it/s]\n"
     ]
    },
    {
     "name": "stdout",
     "output_type": "stream",
     "text": [
      "Saving results in D:\\YuLab\\Work\\GPS\\Video\\Leo\\GPS_12_ThreeFPHoldSRTProbe\\20240724\\Top\\Clips...\n",
      "Saving csv poses!\n",
      "Starting to analyze %  D:/YuLab/Work/GPS/Video/Leo/GPS_12_ThreeFPHoldSRTProbe/20240724/Top/Clips/Leo_20240724_HoldTrial079_TopView.avi\n",
      "Loading  D:/YuLab/Work/GPS/Video/Leo/GPS_12_ThreeFPHoldSRTProbe/20240724/Top/Clips/Leo_20240724_HoldTrial079_TopView.avi\n",
      "Duration of video [s]:  8.04 , recorded with  25.0 fps!\n",
      "Overall # of frames:  201  found with (before cropping) frame dimensions:  1280 1331\n",
      "Starting to extract posture\n",
      "Cropping based on the x1 = 0 x2 = 1280 y1 = 0 y2 = 1024. You can adjust the cropping coordinates in the config.yaml file.\n"
     ]
    },
    {
     "name": "stderr",
     "output_type": "stream",
     "text": [
      "100%|██████████| 201/201 [00:08<00:00, 23.16it/s]\n"
     ]
    },
    {
     "name": "stdout",
     "output_type": "stream",
     "text": [
      "Saving results in D:\\YuLab\\Work\\GPS\\Video\\Leo\\GPS_12_ThreeFPHoldSRTProbe\\20240724\\Top\\Clips...\n",
      "Saving csv poses!\n",
      "Starting to analyze %  D:/YuLab/Work/GPS/Video/Leo/GPS_12_ThreeFPHoldSRTProbe/20240724/Top/Clips/Leo_20240724_HoldTrial080_TopView.avi\n",
      "Loading  D:/YuLab/Work/GPS/Video/Leo/GPS_12_ThreeFPHoldSRTProbe/20240724/Top/Clips/Leo_20240724_HoldTrial080_TopView.avi\n",
      "Duration of video [s]:  8.04 , recorded with  25.0 fps!\n",
      "Overall # of frames:  201  found with (before cropping) frame dimensions:  1280 1331\n",
      "Starting to extract posture\n",
      "Cropping based on the x1 = 0 x2 = 1280 y1 = 0 y2 = 1024. You can adjust the cropping coordinates in the config.yaml file.\n"
     ]
    },
    {
     "name": "stderr",
     "output_type": "stream",
     "text": [
      "100%|██████████| 201/201 [00:08<00:00, 23.08it/s]\n"
     ]
    },
    {
     "name": "stdout",
     "output_type": "stream",
     "text": [
      "Saving results in D:\\YuLab\\Work\\GPS\\Video\\Leo\\GPS_12_ThreeFPHoldSRTProbe\\20240724\\Top\\Clips...\n",
      "Saving csv poses!\n",
      "Starting to analyze %  D:/YuLab/Work/GPS/Video/Leo/GPS_12_ThreeFPHoldSRTProbe/20240724/Top/Clips/Leo_20240724_HoldTrial081_TopView.avi\n",
      "Loading  D:/YuLab/Work/GPS/Video/Leo/GPS_12_ThreeFPHoldSRTProbe/20240724/Top/Clips/Leo_20240724_HoldTrial081_TopView.avi\n",
      "Duration of video [s]:  8.04 , recorded with  25.0 fps!\n",
      "Overall # of frames:  201  found with (before cropping) frame dimensions:  1280 1331\n",
      "Starting to extract posture\n",
      "Cropping based on the x1 = 0 x2 = 1280 y1 = 0 y2 = 1024. You can adjust the cropping coordinates in the config.yaml file.\n"
     ]
    },
    {
     "name": "stderr",
     "output_type": "stream",
     "text": [
      "100%|██████████| 201/201 [00:08<00:00, 23.15it/s]\n"
     ]
    },
    {
     "name": "stdout",
     "output_type": "stream",
     "text": [
      "Saving results in D:\\YuLab\\Work\\GPS\\Video\\Leo\\GPS_12_ThreeFPHoldSRTProbe\\20240724\\Top\\Clips...\n",
      "Saving csv poses!\n",
      "Starting to analyze %  D:/YuLab/Work/GPS/Video/Leo/GPS_12_ThreeFPHoldSRTProbe/20240724/Top/Clips/Leo_20240724_HoldTrial082_TopView.avi\n",
      "Loading  D:/YuLab/Work/GPS/Video/Leo/GPS_12_ThreeFPHoldSRTProbe/20240724/Top/Clips/Leo_20240724_HoldTrial082_TopView.avi\n",
      "Duration of video [s]:  8.04 , recorded with  25.0 fps!\n",
      "Overall # of frames:  201  found with (before cropping) frame dimensions:  1280 1331\n",
      "Starting to extract posture\n",
      "Cropping based on the x1 = 0 x2 = 1280 y1 = 0 y2 = 1024. You can adjust the cropping coordinates in the config.yaml file.\n"
     ]
    },
    {
     "name": "stderr",
     "output_type": "stream",
     "text": [
      "100%|██████████| 201/201 [00:08<00:00, 23.17it/s]\n"
     ]
    },
    {
     "name": "stdout",
     "output_type": "stream",
     "text": [
      "Saving results in D:\\YuLab\\Work\\GPS\\Video\\Leo\\GPS_12_ThreeFPHoldSRTProbe\\20240724\\Top\\Clips...\n",
      "Saving csv poses!\n",
      "Starting to analyze %  D:/YuLab/Work/GPS/Video/Leo/GPS_12_ThreeFPHoldSRTProbe/20240724/Top/Clips/Leo_20240724_HoldTrial083_TopView.avi\n",
      "Loading  D:/YuLab/Work/GPS/Video/Leo/GPS_12_ThreeFPHoldSRTProbe/20240724/Top/Clips/Leo_20240724_HoldTrial083_TopView.avi\n",
      "Duration of video [s]:  8.04 , recorded with  25.0 fps!\n",
      "Overall # of frames:  201  found with (before cropping) frame dimensions:  1280 1331\n",
      "Starting to extract posture\n",
      "Cropping based on the x1 = 0 x2 = 1280 y1 = 0 y2 = 1024. You can adjust the cropping coordinates in the config.yaml file.\n"
     ]
    },
    {
     "name": "stderr",
     "output_type": "stream",
     "text": [
      "100%|██████████| 201/201 [00:08<00:00, 23.17it/s]\n"
     ]
    },
    {
     "name": "stdout",
     "output_type": "stream",
     "text": [
      "Saving results in D:\\YuLab\\Work\\GPS\\Video\\Leo\\GPS_12_ThreeFPHoldSRTProbe\\20240724\\Top\\Clips...\n",
      "Saving csv poses!\n",
      "Starting to analyze %  D:/YuLab/Work/GPS/Video/Leo/GPS_12_ThreeFPHoldSRTProbe/20240724/Top/Clips/Leo_20240724_HoldTrial084_TopView.avi\n",
      "Loading  D:/YuLab/Work/GPS/Video/Leo/GPS_12_ThreeFPHoldSRTProbe/20240724/Top/Clips/Leo_20240724_HoldTrial084_TopView.avi\n",
      "Duration of video [s]:  8.04 , recorded with  25.0 fps!\n",
      "Overall # of frames:  201  found with (before cropping) frame dimensions:  1280 1331\n",
      "Starting to extract posture\n",
      "Cropping based on the x1 = 0 x2 = 1280 y1 = 0 y2 = 1024. You can adjust the cropping coordinates in the config.yaml file.\n"
     ]
    },
    {
     "name": "stderr",
     "output_type": "stream",
     "text": [
      "100%|██████████| 201/201 [00:08<00:00, 23.12it/s]\n"
     ]
    },
    {
     "name": "stdout",
     "output_type": "stream",
     "text": [
      "Saving results in D:\\YuLab\\Work\\GPS\\Video\\Leo\\GPS_12_ThreeFPHoldSRTProbe\\20240724\\Top\\Clips...\n",
      "Saving csv poses!\n",
      "Starting to analyze %  D:/YuLab/Work/GPS/Video/Leo/GPS_12_ThreeFPHoldSRTProbe/20240724/Top/Clips/Leo_20240724_HoldTrial085_TopView.avi\n",
      "Loading  D:/YuLab/Work/GPS/Video/Leo/GPS_12_ThreeFPHoldSRTProbe/20240724/Top/Clips/Leo_20240724_HoldTrial085_TopView.avi\n",
      "Duration of video [s]:  8.04 , recorded with  25.0 fps!\n",
      "Overall # of frames:  201  found with (before cropping) frame dimensions:  1280 1331\n",
      "Starting to extract posture\n",
      "Cropping based on the x1 = 0 x2 = 1280 y1 = 0 y2 = 1024. You can adjust the cropping coordinates in the config.yaml file.\n"
     ]
    },
    {
     "name": "stderr",
     "output_type": "stream",
     "text": [
      "100%|██████████| 201/201 [00:08<00:00, 23.02it/s]\n"
     ]
    },
    {
     "name": "stdout",
     "output_type": "stream",
     "text": [
      "Saving results in D:\\YuLab\\Work\\GPS\\Video\\Leo\\GPS_12_ThreeFPHoldSRTProbe\\20240724\\Top\\Clips...\n",
      "Saving csv poses!\n",
      "Starting to analyze %  D:/YuLab/Work/GPS/Video/Leo/GPS_12_ThreeFPHoldSRTProbe/20240724/Top/Clips/Leo_20240724_HoldTrial086_TopView.avi\n",
      "Loading  D:/YuLab/Work/GPS/Video/Leo/GPS_12_ThreeFPHoldSRTProbe/20240724/Top/Clips/Leo_20240724_HoldTrial086_TopView.avi\n",
      "Duration of video [s]:  8.04 , recorded with  25.0 fps!\n",
      "Overall # of frames:  201  found with (before cropping) frame dimensions:  1280 1331\n",
      "Starting to extract posture\n",
      "Cropping based on the x1 = 0 x2 = 1280 y1 = 0 y2 = 1024. You can adjust the cropping coordinates in the config.yaml file.\n"
     ]
    },
    {
     "name": "stderr",
     "output_type": "stream",
     "text": [
      "100%|██████████| 201/201 [00:08<00:00, 23.04it/s]\n"
     ]
    },
    {
     "name": "stdout",
     "output_type": "stream",
     "text": [
      "Saving results in D:\\YuLab\\Work\\GPS\\Video\\Leo\\GPS_12_ThreeFPHoldSRTProbe\\20240724\\Top\\Clips...\n",
      "Saving csv poses!\n",
      "Starting to analyze %  D:/YuLab/Work/GPS/Video/Leo/GPS_12_ThreeFPHoldSRTProbe/20240724/Top/Clips/Leo_20240724_HoldTrial087_TopView.avi\n",
      "Loading  D:/YuLab/Work/GPS/Video/Leo/GPS_12_ThreeFPHoldSRTProbe/20240724/Top/Clips/Leo_20240724_HoldTrial087_TopView.avi\n",
      "Duration of video [s]:  8.04 , recorded with  25.0 fps!\n",
      "Overall # of frames:  201  found with (before cropping) frame dimensions:  1280 1331\n",
      "Starting to extract posture\n",
      "Cropping based on the x1 = 0 x2 = 1280 y1 = 0 y2 = 1024. You can adjust the cropping coordinates in the config.yaml file.\n"
     ]
    },
    {
     "name": "stderr",
     "output_type": "stream",
     "text": [
      "100%|██████████| 201/201 [00:08<00:00, 23.01it/s]\n"
     ]
    },
    {
     "name": "stdout",
     "output_type": "stream",
     "text": [
      "Saving results in D:\\YuLab\\Work\\GPS\\Video\\Leo\\GPS_12_ThreeFPHoldSRTProbe\\20240724\\Top\\Clips...\n",
      "Saving csv poses!\n",
      "Starting to analyze %  D:/YuLab/Work/GPS/Video/Leo/GPS_12_ThreeFPHoldSRTProbe/20240724/Top/Clips/Leo_20240724_HoldTrial088_TopView.avi\n",
      "Loading  D:/YuLab/Work/GPS/Video/Leo/GPS_12_ThreeFPHoldSRTProbe/20240724/Top/Clips/Leo_20240724_HoldTrial088_TopView.avi\n",
      "Duration of video [s]:  8.04 , recorded with  25.0 fps!\n",
      "Overall # of frames:  201  found with (before cropping) frame dimensions:  1280 1331\n",
      "Starting to extract posture\n",
      "Cropping based on the x1 = 0 x2 = 1280 y1 = 0 y2 = 1024. You can adjust the cropping coordinates in the config.yaml file.\n"
     ]
    },
    {
     "name": "stderr",
     "output_type": "stream",
     "text": [
      "100%|██████████| 201/201 [00:08<00:00, 23.13it/s]\n"
     ]
    },
    {
     "name": "stdout",
     "output_type": "stream",
     "text": [
      "Saving results in D:\\YuLab\\Work\\GPS\\Video\\Leo\\GPS_12_ThreeFPHoldSRTProbe\\20240724\\Top\\Clips...\n",
      "Saving csv poses!\n",
      "Starting to analyze %  D:/YuLab/Work/GPS/Video/Leo/GPS_12_ThreeFPHoldSRTProbe/20240724/Top/Clips/Leo_20240724_HoldTrial089_TopView.avi\n",
      "Loading  D:/YuLab/Work/GPS/Video/Leo/GPS_12_ThreeFPHoldSRTProbe/20240724/Top/Clips/Leo_20240724_HoldTrial089_TopView.avi\n",
      "Duration of video [s]:  8.04 , recorded with  25.0 fps!\n",
      "Overall # of frames:  201  found with (before cropping) frame dimensions:  1280 1331\n",
      "Starting to extract posture\n",
      "Cropping based on the x1 = 0 x2 = 1280 y1 = 0 y2 = 1024. You can adjust the cropping coordinates in the config.yaml file.\n"
     ]
    },
    {
     "name": "stderr",
     "output_type": "stream",
     "text": [
      "100%|██████████| 201/201 [00:08<00:00, 23.13it/s]\n"
     ]
    },
    {
     "name": "stdout",
     "output_type": "stream",
     "text": [
      "Saving results in D:\\YuLab\\Work\\GPS\\Video\\Leo\\GPS_12_ThreeFPHoldSRTProbe\\20240724\\Top\\Clips...\n",
      "Saving csv poses!\n",
      "Starting to analyze %  D:/YuLab/Work/GPS/Video/Leo/GPS_12_ThreeFPHoldSRTProbe/20240724/Top/Clips/Leo_20240724_HoldTrial090_TopView.avi\n",
      "Loading  D:/YuLab/Work/GPS/Video/Leo/GPS_12_ThreeFPHoldSRTProbe/20240724/Top/Clips/Leo_20240724_HoldTrial090_TopView.avi\n",
      "Duration of video [s]:  8.04 , recorded with  25.0 fps!\n",
      "Overall # of frames:  201  found with (before cropping) frame dimensions:  1280 1331\n",
      "Starting to extract posture\n",
      "Cropping based on the x1 = 0 x2 = 1280 y1 = 0 y2 = 1024. You can adjust the cropping coordinates in the config.yaml file.\n"
     ]
    },
    {
     "name": "stderr",
     "output_type": "stream",
     "text": [
      "100%|██████████| 201/201 [00:08<00:00, 23.11it/s]\n"
     ]
    },
    {
     "name": "stdout",
     "output_type": "stream",
     "text": [
      "Saving results in D:\\YuLab\\Work\\GPS\\Video\\Leo\\GPS_12_ThreeFPHoldSRTProbe\\20240724\\Top\\Clips...\n",
      "Saving csv poses!\n",
      "Starting to analyze %  D:/YuLab/Work/GPS/Video/Leo/GPS_12_ThreeFPHoldSRTProbe/20240724/Top/Clips/Leo_20240724_HoldTrial091_TopView.avi\n",
      "Loading  D:/YuLab/Work/GPS/Video/Leo/GPS_12_ThreeFPHoldSRTProbe/20240724/Top/Clips/Leo_20240724_HoldTrial091_TopView.avi\n",
      "Duration of video [s]:  8.04 , recorded with  25.0 fps!\n",
      "Overall # of frames:  201  found with (before cropping) frame dimensions:  1280 1331\n",
      "Starting to extract posture\n",
      "Cropping based on the x1 = 0 x2 = 1280 y1 = 0 y2 = 1024. You can adjust the cropping coordinates in the config.yaml file.\n"
     ]
    },
    {
     "name": "stderr",
     "output_type": "stream",
     "text": [
      "100%|██████████| 201/201 [00:08<00:00, 23.24it/s]\n"
     ]
    },
    {
     "name": "stdout",
     "output_type": "stream",
     "text": [
      "Saving results in D:\\YuLab\\Work\\GPS\\Video\\Leo\\GPS_12_ThreeFPHoldSRTProbe\\20240724\\Top\\Clips...\n",
      "Saving csv poses!\n",
      "Starting to analyze %  D:/YuLab/Work/GPS/Video/Leo/GPS_12_ThreeFPHoldSRTProbe/20240724/Top/Clips/Leo_20240724_HoldTrial092_TopView.avi\n",
      "Loading  D:/YuLab/Work/GPS/Video/Leo/GPS_12_ThreeFPHoldSRTProbe/20240724/Top/Clips/Leo_20240724_HoldTrial092_TopView.avi\n",
      "Duration of video [s]:  8.04 , recorded with  25.0 fps!\n",
      "Overall # of frames:  201  found with (before cropping) frame dimensions:  1280 1331\n",
      "Starting to extract posture\n",
      "Cropping based on the x1 = 0 x2 = 1280 y1 = 0 y2 = 1024. You can adjust the cropping coordinates in the config.yaml file.\n"
     ]
    },
    {
     "name": "stderr",
     "output_type": "stream",
     "text": [
      "100%|██████████| 201/201 [00:08<00:00, 23.21it/s]\n"
     ]
    },
    {
     "name": "stdout",
     "output_type": "stream",
     "text": [
      "Saving results in D:\\YuLab\\Work\\GPS\\Video\\Leo\\GPS_12_ThreeFPHoldSRTProbe\\20240724\\Top\\Clips...\n",
      "Saving csv poses!\n",
      "Starting to analyze %  D:/YuLab/Work/GPS/Video/Leo/GPS_12_ThreeFPHoldSRTProbe/20240724/Top/Clips/Leo_20240724_HoldTrial093_TopView.avi\n",
      "Loading  D:/YuLab/Work/GPS/Video/Leo/GPS_12_ThreeFPHoldSRTProbe/20240724/Top/Clips/Leo_20240724_HoldTrial093_TopView.avi\n",
      "Duration of video [s]:  8.04 , recorded with  25.0 fps!\n",
      "Overall # of frames:  201  found with (before cropping) frame dimensions:  1280 1331\n",
      "Starting to extract posture\n",
      "Cropping based on the x1 = 0 x2 = 1280 y1 = 0 y2 = 1024. You can adjust the cropping coordinates in the config.yaml file.\n"
     ]
    },
    {
     "name": "stderr",
     "output_type": "stream",
     "text": [
      "100%|██████████| 201/201 [00:08<00:00, 23.19it/s]\n"
     ]
    },
    {
     "name": "stdout",
     "output_type": "stream",
     "text": [
      "Saving results in D:\\YuLab\\Work\\GPS\\Video\\Leo\\GPS_12_ThreeFPHoldSRTProbe\\20240724\\Top\\Clips...\n",
      "Saving csv poses!\n",
      "Starting to analyze %  D:/YuLab/Work/GPS/Video/Leo/GPS_12_ThreeFPHoldSRTProbe/20240724/Top/Clips/Leo_20240724_HoldTrial094_TopView.avi\n",
      "Loading  D:/YuLab/Work/GPS/Video/Leo/GPS_12_ThreeFPHoldSRTProbe/20240724/Top/Clips/Leo_20240724_HoldTrial094_TopView.avi\n",
      "Duration of video [s]:  8.04 , recorded with  25.0 fps!\n",
      "Overall # of frames:  201  found with (before cropping) frame dimensions:  1280 1331\n",
      "Starting to extract posture\n",
      "Cropping based on the x1 = 0 x2 = 1280 y1 = 0 y2 = 1024. You can adjust the cropping coordinates in the config.yaml file.\n"
     ]
    },
    {
     "name": "stderr",
     "output_type": "stream",
     "text": [
      "100%|██████████| 201/201 [00:08<00:00, 23.23it/s]\n"
     ]
    },
    {
     "name": "stdout",
     "output_type": "stream",
     "text": [
      "Saving results in D:\\YuLab\\Work\\GPS\\Video\\Leo\\GPS_12_ThreeFPHoldSRTProbe\\20240724\\Top\\Clips...\n",
      "Saving csv poses!\n",
      "Starting to analyze %  D:/YuLab/Work/GPS/Video/Leo/GPS_12_ThreeFPHoldSRTProbe/20240724/Top/Clips/Leo_20240724_HoldTrial095_TopView.avi\n",
      "Loading  D:/YuLab/Work/GPS/Video/Leo/GPS_12_ThreeFPHoldSRTProbe/20240724/Top/Clips/Leo_20240724_HoldTrial095_TopView.avi\n",
      "Duration of video [s]:  8.04 , recorded with  25.0 fps!\n",
      "Overall # of frames:  201  found with (before cropping) frame dimensions:  1280 1331\n",
      "Starting to extract posture\n",
      "Cropping based on the x1 = 0 x2 = 1280 y1 = 0 y2 = 1024. You can adjust the cropping coordinates in the config.yaml file.\n"
     ]
    },
    {
     "name": "stderr",
     "output_type": "stream",
     "text": [
      "100%|██████████| 201/201 [00:08<00:00, 23.18it/s]\n"
     ]
    },
    {
     "name": "stdout",
     "output_type": "stream",
     "text": [
      "Saving results in D:\\YuLab\\Work\\GPS\\Video\\Leo\\GPS_12_ThreeFPHoldSRTProbe\\20240724\\Top\\Clips...\n",
      "Saving csv poses!\n",
      "Starting to analyze %  D:/YuLab/Work/GPS/Video/Leo/GPS_12_ThreeFPHoldSRTProbe/20240724/Top/Clips/Leo_20240724_HoldTrial096_TopView.avi\n",
      "Loading  D:/YuLab/Work/GPS/Video/Leo/GPS_12_ThreeFPHoldSRTProbe/20240724/Top/Clips/Leo_20240724_HoldTrial096_TopView.avi\n",
      "Duration of video [s]:  8.04 , recorded with  25.0 fps!\n",
      "Overall # of frames:  201  found with (before cropping) frame dimensions:  1280 1331\n",
      "Starting to extract posture\n",
      "Cropping based on the x1 = 0 x2 = 1280 y1 = 0 y2 = 1024. You can adjust the cropping coordinates in the config.yaml file.\n"
     ]
    },
    {
     "name": "stderr",
     "output_type": "stream",
     "text": [
      "100%|██████████| 201/201 [00:08<00:00, 23.19it/s]\n"
     ]
    },
    {
     "name": "stdout",
     "output_type": "stream",
     "text": [
      "Saving results in D:\\YuLab\\Work\\GPS\\Video\\Leo\\GPS_12_ThreeFPHoldSRTProbe\\20240724\\Top\\Clips...\n",
      "Saving csv poses!\n",
      "Starting to analyze %  D:/YuLab/Work/GPS/Video/Leo/GPS_12_ThreeFPHoldSRTProbe/20240724/Top/Clips/Leo_20240724_HoldTrial097_TopView.avi\n",
      "Loading  D:/YuLab/Work/GPS/Video/Leo/GPS_12_ThreeFPHoldSRTProbe/20240724/Top/Clips/Leo_20240724_HoldTrial097_TopView.avi\n",
      "Duration of video [s]:  8.04 , recorded with  25.0 fps!\n",
      "Overall # of frames:  201  found with (before cropping) frame dimensions:  1280 1331\n",
      "Starting to extract posture\n",
      "Cropping based on the x1 = 0 x2 = 1280 y1 = 0 y2 = 1024. You can adjust the cropping coordinates in the config.yaml file.\n"
     ]
    },
    {
     "name": "stderr",
     "output_type": "stream",
     "text": [
      "100%|██████████| 201/201 [00:08<00:00, 23.18it/s]\n"
     ]
    },
    {
     "name": "stdout",
     "output_type": "stream",
     "text": [
      "Saving results in D:\\YuLab\\Work\\GPS\\Video\\Leo\\GPS_12_ThreeFPHoldSRTProbe\\20240724\\Top\\Clips...\n",
      "Saving csv poses!\n",
      "Starting to analyze %  D:/YuLab/Work/GPS/Video/Leo/GPS_12_ThreeFPHoldSRTProbe/20240724/Top/Clips/Leo_20240724_HoldTrial098_TopView.avi\n",
      "Loading  D:/YuLab/Work/GPS/Video/Leo/GPS_12_ThreeFPHoldSRTProbe/20240724/Top/Clips/Leo_20240724_HoldTrial098_TopView.avi\n",
      "Duration of video [s]:  8.04 , recorded with  25.0 fps!\n",
      "Overall # of frames:  201  found with (before cropping) frame dimensions:  1280 1331\n",
      "Starting to extract posture\n",
      "Cropping based on the x1 = 0 x2 = 1280 y1 = 0 y2 = 1024. You can adjust the cropping coordinates in the config.yaml file.\n"
     ]
    },
    {
     "name": "stderr",
     "output_type": "stream",
     "text": [
      "100%|██████████| 201/201 [00:08<00:00, 23.19it/s]\n"
     ]
    },
    {
     "name": "stdout",
     "output_type": "stream",
     "text": [
      "Saving results in D:\\YuLab\\Work\\GPS\\Video\\Leo\\GPS_12_ThreeFPHoldSRTProbe\\20240724\\Top\\Clips...\n",
      "Saving csv poses!\n",
      "Starting to analyze %  D:/YuLab/Work/GPS/Video/Leo/GPS_12_ThreeFPHoldSRTProbe/20240724/Top/Clips/Leo_20240724_HoldTrial099_TopView.avi\n",
      "Loading  D:/YuLab/Work/GPS/Video/Leo/GPS_12_ThreeFPHoldSRTProbe/20240724/Top/Clips/Leo_20240724_HoldTrial099_TopView.avi\n",
      "Duration of video [s]:  8.04 , recorded with  25.0 fps!\n",
      "Overall # of frames:  201  found with (before cropping) frame dimensions:  1280 1331\n",
      "Starting to extract posture\n",
      "Cropping based on the x1 = 0 x2 = 1280 y1 = 0 y2 = 1024. You can adjust the cropping coordinates in the config.yaml file.\n"
     ]
    },
    {
     "name": "stderr",
     "output_type": "stream",
     "text": [
      "100%|██████████| 201/201 [00:08<00:00, 23.17it/s]\n"
     ]
    },
    {
     "name": "stdout",
     "output_type": "stream",
     "text": [
      "Saving results in D:\\YuLab\\Work\\GPS\\Video\\Leo\\GPS_12_ThreeFPHoldSRTProbe\\20240724\\Top\\Clips...\n",
      "Saving csv poses!\n",
      "Starting to analyze %  D:/YuLab/Work/GPS/Video/Leo/GPS_12_ThreeFPHoldSRTProbe/20240724/Top/Clips/Leo_20240724_HoldTrial100_TopView.avi\n",
      "Loading  D:/YuLab/Work/GPS/Video/Leo/GPS_12_ThreeFPHoldSRTProbe/20240724/Top/Clips/Leo_20240724_HoldTrial100_TopView.avi\n",
      "Duration of video [s]:  8.04 , recorded with  25.0 fps!\n",
      "Overall # of frames:  201  found with (before cropping) frame dimensions:  1280 1331\n",
      "Starting to extract posture\n",
      "Cropping based on the x1 = 0 x2 = 1280 y1 = 0 y2 = 1024. You can adjust the cropping coordinates in the config.yaml file.\n"
     ]
    },
    {
     "name": "stderr",
     "output_type": "stream",
     "text": [
      "100%|██████████| 201/201 [00:08<00:00, 23.19it/s]\n"
     ]
    },
    {
     "name": "stdout",
     "output_type": "stream",
     "text": [
      "Saving results in D:\\YuLab\\Work\\GPS\\Video\\Leo\\GPS_12_ThreeFPHoldSRTProbe\\20240724\\Top\\Clips...\n",
      "Saving csv poses!\n",
      "Starting to analyze %  D:/YuLab/Work/GPS/Video/Leo/GPS_12_ThreeFPHoldSRTProbe/20240724/Top/Clips/Leo_20240724_HoldTrial101_TopView.avi\n",
      "Loading  D:/YuLab/Work/GPS/Video/Leo/GPS_12_ThreeFPHoldSRTProbe/20240724/Top/Clips/Leo_20240724_HoldTrial101_TopView.avi\n",
      "Duration of video [s]:  8.04 , recorded with  25.0 fps!\n",
      "Overall # of frames:  201  found with (before cropping) frame dimensions:  1280 1331\n",
      "Starting to extract posture\n",
      "Cropping based on the x1 = 0 x2 = 1280 y1 = 0 y2 = 1024. You can adjust the cropping coordinates in the config.yaml file.\n"
     ]
    },
    {
     "name": "stderr",
     "output_type": "stream",
     "text": [
      "100%|██████████| 201/201 [00:08<00:00, 23.17it/s]\n"
     ]
    },
    {
     "name": "stdout",
     "output_type": "stream",
     "text": [
      "Saving results in D:\\YuLab\\Work\\GPS\\Video\\Leo\\GPS_12_ThreeFPHoldSRTProbe\\20240724\\Top\\Clips...\n",
      "Saving csv poses!\n",
      "Starting to analyze %  D:/YuLab/Work/GPS/Video/Leo/GPS_12_ThreeFPHoldSRTProbe/20240724/Top/Clips/Leo_20240724_HoldTrial102_TopView.avi\n",
      "Loading  D:/YuLab/Work/GPS/Video/Leo/GPS_12_ThreeFPHoldSRTProbe/20240724/Top/Clips/Leo_20240724_HoldTrial102_TopView.avi\n",
      "Duration of video [s]:  8.04 , recorded with  25.0 fps!\n",
      "Overall # of frames:  201  found with (before cropping) frame dimensions:  1280 1331\n",
      "Starting to extract posture\n",
      "Cropping based on the x1 = 0 x2 = 1280 y1 = 0 y2 = 1024. You can adjust the cropping coordinates in the config.yaml file.\n"
     ]
    },
    {
     "name": "stderr",
     "output_type": "stream",
     "text": [
      "100%|██████████| 201/201 [00:08<00:00, 23.16it/s]\n"
     ]
    },
    {
     "name": "stdout",
     "output_type": "stream",
     "text": [
      "Saving results in D:\\YuLab\\Work\\GPS\\Video\\Leo\\GPS_12_ThreeFPHoldSRTProbe\\20240724\\Top\\Clips...\n",
      "Saving csv poses!\n",
      "Starting to analyze %  D:/YuLab/Work/GPS/Video/Leo/GPS_12_ThreeFPHoldSRTProbe/20240724/Top/Clips/Leo_20240724_HoldTrial103_TopView.avi\n",
      "Loading  D:/YuLab/Work/GPS/Video/Leo/GPS_12_ThreeFPHoldSRTProbe/20240724/Top/Clips/Leo_20240724_HoldTrial103_TopView.avi\n",
      "Duration of video [s]:  8.04 , recorded with  25.0 fps!\n",
      "Overall # of frames:  201  found with (before cropping) frame dimensions:  1280 1331\n",
      "Starting to extract posture\n",
      "Cropping based on the x1 = 0 x2 = 1280 y1 = 0 y2 = 1024. You can adjust the cropping coordinates in the config.yaml file.\n"
     ]
    },
    {
     "name": "stderr",
     "output_type": "stream",
     "text": [
      "100%|██████████| 201/201 [00:08<00:00, 23.19it/s]\n"
     ]
    },
    {
     "name": "stdout",
     "output_type": "stream",
     "text": [
      "Saving results in D:\\YuLab\\Work\\GPS\\Video\\Leo\\GPS_12_ThreeFPHoldSRTProbe\\20240724\\Top\\Clips...\n",
      "Saving csv poses!\n",
      "Starting to analyze %  D:/YuLab/Work/GPS/Video/Leo/GPS_12_ThreeFPHoldSRTProbe/20240724/Top/Clips/Leo_20240724_HoldTrial104_TopView.avi\n",
      "Loading  D:/YuLab/Work/GPS/Video/Leo/GPS_12_ThreeFPHoldSRTProbe/20240724/Top/Clips/Leo_20240724_HoldTrial104_TopView.avi\n",
      "Duration of video [s]:  8.04 , recorded with  25.0 fps!\n",
      "Overall # of frames:  201  found with (before cropping) frame dimensions:  1280 1331\n",
      "Starting to extract posture\n",
      "Cropping based on the x1 = 0 x2 = 1280 y1 = 0 y2 = 1024. You can adjust the cropping coordinates in the config.yaml file.\n"
     ]
    },
    {
     "name": "stderr",
     "output_type": "stream",
     "text": [
      "100%|██████████| 201/201 [00:08<00:00, 22.54it/s]\n"
     ]
    },
    {
     "name": "stdout",
     "output_type": "stream",
     "text": [
      "Saving results in D:\\YuLab\\Work\\GPS\\Video\\Leo\\GPS_12_ThreeFPHoldSRTProbe\\20240724\\Top\\Clips...\n",
      "Saving csv poses!\n",
      "Starting to analyze %  D:/YuLab/Work/GPS/Video/Leo/GPS_12_ThreeFPHoldSRTProbe/20240724/Top/Clips/Leo_20240724_HoldTrial105_TopView.avi\n",
      "Loading  D:/YuLab/Work/GPS/Video/Leo/GPS_12_ThreeFPHoldSRTProbe/20240724/Top/Clips/Leo_20240724_HoldTrial105_TopView.avi\n",
      "Duration of video [s]:  8.04 , recorded with  25.0 fps!\n",
      "Overall # of frames:  201  found with (before cropping) frame dimensions:  1280 1331\n",
      "Starting to extract posture\n",
      "Cropping based on the x1 = 0 x2 = 1280 y1 = 0 y2 = 1024. You can adjust the cropping coordinates in the config.yaml file.\n"
     ]
    },
    {
     "name": "stderr",
     "output_type": "stream",
     "text": [
      "100%|██████████| 201/201 [00:08<00:00, 23.37it/s]\n"
     ]
    },
    {
     "name": "stdout",
     "output_type": "stream",
     "text": [
      "Saving results in D:\\YuLab\\Work\\GPS\\Video\\Leo\\GPS_12_ThreeFPHoldSRTProbe\\20240724\\Top\\Clips...\n",
      "Saving csv poses!\n",
      "Starting to analyze %  D:/YuLab/Work/GPS/Video/Leo/GPS_12_ThreeFPHoldSRTProbe/20240724/Top/Clips/Leo_20240724_HoldTrial106_TopView.avi\n",
      "Loading  D:/YuLab/Work/GPS/Video/Leo/GPS_12_ThreeFPHoldSRTProbe/20240724/Top/Clips/Leo_20240724_HoldTrial106_TopView.avi\n",
      "Duration of video [s]:  8.04 , recorded with  25.0 fps!\n",
      "Overall # of frames:  201  found with (before cropping) frame dimensions:  1280 1331\n",
      "Starting to extract posture\n",
      "Cropping based on the x1 = 0 x2 = 1280 y1 = 0 y2 = 1024. You can adjust the cropping coordinates in the config.yaml file.\n"
     ]
    },
    {
     "name": "stderr",
     "output_type": "stream",
     "text": [
      "100%|██████████| 201/201 [00:08<00:00, 23.43it/s]\n"
     ]
    },
    {
     "name": "stdout",
     "output_type": "stream",
     "text": [
      "Saving results in D:\\YuLab\\Work\\GPS\\Video\\Leo\\GPS_12_ThreeFPHoldSRTProbe\\20240724\\Top\\Clips...\n",
      "Saving csv poses!\n",
      "Starting to analyze %  D:/YuLab/Work/GPS/Video/Leo/GPS_12_ThreeFPHoldSRTProbe/20240724/Top/Clips/Leo_20240724_HoldTrial107_TopView.avi\n",
      "Loading  D:/YuLab/Work/GPS/Video/Leo/GPS_12_ThreeFPHoldSRTProbe/20240724/Top/Clips/Leo_20240724_HoldTrial107_TopView.avi\n",
      "Duration of video [s]:  8.04 , recorded with  25.0 fps!\n",
      "Overall # of frames:  201  found with (before cropping) frame dimensions:  1280 1331\n",
      "Starting to extract posture\n",
      "Cropping based on the x1 = 0 x2 = 1280 y1 = 0 y2 = 1024. You can adjust the cropping coordinates in the config.yaml file.\n"
     ]
    },
    {
     "name": "stderr",
     "output_type": "stream",
     "text": [
      "100%|██████████| 201/201 [00:08<00:00, 23.37it/s]\n"
     ]
    },
    {
     "name": "stdout",
     "output_type": "stream",
     "text": [
      "Saving results in D:\\YuLab\\Work\\GPS\\Video\\Leo\\GPS_12_ThreeFPHoldSRTProbe\\20240724\\Top\\Clips...\n",
      "Saving csv poses!\n",
      "Starting to analyze %  D:/YuLab/Work/GPS/Video/Leo/GPS_12_ThreeFPHoldSRTProbe/20240724/Top/Clips/Leo_20240724_HoldTrial108_TopView.avi\n",
      "Loading  D:/YuLab/Work/GPS/Video/Leo/GPS_12_ThreeFPHoldSRTProbe/20240724/Top/Clips/Leo_20240724_HoldTrial108_TopView.avi\n",
      "Duration of video [s]:  8.04 , recorded with  25.0 fps!\n",
      "Overall # of frames:  201  found with (before cropping) frame dimensions:  1280 1331\n",
      "Starting to extract posture\n",
      "Cropping based on the x1 = 0 x2 = 1280 y1 = 0 y2 = 1024. You can adjust the cropping coordinates in the config.yaml file.\n"
     ]
    },
    {
     "name": "stderr",
     "output_type": "stream",
     "text": [
      "100%|██████████| 201/201 [00:08<00:00, 23.40it/s]\n"
     ]
    },
    {
     "name": "stdout",
     "output_type": "stream",
     "text": [
      "Saving results in D:\\YuLab\\Work\\GPS\\Video\\Leo\\GPS_12_ThreeFPHoldSRTProbe\\20240724\\Top\\Clips...\n",
      "Saving csv poses!\n",
      "Starting to analyze %  D:/YuLab/Work/GPS/Video/Leo/GPS_12_ThreeFPHoldSRTProbe/20240724/Top/Clips/Leo_20240724_HoldTrial109_TopView.avi\n",
      "Loading  D:/YuLab/Work/GPS/Video/Leo/GPS_12_ThreeFPHoldSRTProbe/20240724/Top/Clips/Leo_20240724_HoldTrial109_TopView.avi\n",
      "Duration of video [s]:  8.04 , recorded with  25.0 fps!\n",
      "Overall # of frames:  201  found with (before cropping) frame dimensions:  1280 1331\n",
      "Starting to extract posture\n",
      "Cropping based on the x1 = 0 x2 = 1280 y1 = 0 y2 = 1024. You can adjust the cropping coordinates in the config.yaml file.\n"
     ]
    },
    {
     "name": "stderr",
     "output_type": "stream",
     "text": [
      "100%|██████████| 201/201 [00:08<00:00, 23.39it/s]\n"
     ]
    },
    {
     "name": "stdout",
     "output_type": "stream",
     "text": [
      "Saving results in D:\\YuLab\\Work\\GPS\\Video\\Leo\\GPS_12_ThreeFPHoldSRTProbe\\20240724\\Top\\Clips...\n",
      "Saving csv poses!\n",
      "Starting to analyze %  D:/YuLab/Work/GPS/Video/Leo/GPS_12_ThreeFPHoldSRTProbe/20240724/Top/Clips/Leo_20240724_HoldTrial110_TopView.avi\n",
      "Loading  D:/YuLab/Work/GPS/Video/Leo/GPS_12_ThreeFPHoldSRTProbe/20240724/Top/Clips/Leo_20240724_HoldTrial110_TopView.avi\n",
      "Duration of video [s]:  8.04 , recorded with  25.0 fps!\n",
      "Overall # of frames:  201  found with (before cropping) frame dimensions:  1280 1331\n",
      "Starting to extract posture\n",
      "Cropping based on the x1 = 0 x2 = 1280 y1 = 0 y2 = 1024. You can adjust the cropping coordinates in the config.yaml file.\n"
     ]
    },
    {
     "name": "stderr",
     "output_type": "stream",
     "text": [
      "100%|██████████| 201/201 [00:08<00:00, 23.36it/s]\n"
     ]
    },
    {
     "name": "stdout",
     "output_type": "stream",
     "text": [
      "Saving results in D:\\YuLab\\Work\\GPS\\Video\\Leo\\GPS_12_ThreeFPHoldSRTProbe\\20240724\\Top\\Clips...\n",
      "Saving csv poses!\n",
      "Starting to analyze %  D:/YuLab/Work/GPS/Video/Leo/GPS_12_ThreeFPHoldSRTProbe/20240724/Top/Clips/Leo_20240724_HoldTrial111_TopView.avi\n",
      "Loading  D:/YuLab/Work/GPS/Video/Leo/GPS_12_ThreeFPHoldSRTProbe/20240724/Top/Clips/Leo_20240724_HoldTrial111_TopView.avi\n",
      "Duration of video [s]:  8.04 , recorded with  25.0 fps!\n",
      "Overall # of frames:  201  found with (before cropping) frame dimensions:  1280 1331\n",
      "Starting to extract posture\n",
      "Cropping based on the x1 = 0 x2 = 1280 y1 = 0 y2 = 1024. You can adjust the cropping coordinates in the config.yaml file.\n"
     ]
    },
    {
     "name": "stderr",
     "output_type": "stream",
     "text": [
      "100%|██████████| 201/201 [00:08<00:00, 23.33it/s]\n"
     ]
    },
    {
     "name": "stdout",
     "output_type": "stream",
     "text": [
      "Saving results in D:\\YuLab\\Work\\GPS\\Video\\Leo\\GPS_12_ThreeFPHoldSRTProbe\\20240724\\Top\\Clips...\n",
      "Saving csv poses!\n",
      "Starting to analyze %  D:/YuLab/Work/GPS/Video/Leo/GPS_12_ThreeFPHoldSRTProbe/20240724/Top/Clips/Leo_20240724_HoldTrial112_TopView.avi\n",
      "Loading  D:/YuLab/Work/GPS/Video/Leo/GPS_12_ThreeFPHoldSRTProbe/20240724/Top/Clips/Leo_20240724_HoldTrial112_TopView.avi\n",
      "Duration of video [s]:  8.04 , recorded with  25.0 fps!\n",
      "Overall # of frames:  201  found with (before cropping) frame dimensions:  1280 1331\n",
      "Starting to extract posture\n",
      "Cropping based on the x1 = 0 x2 = 1280 y1 = 0 y2 = 1024. You can adjust the cropping coordinates in the config.yaml file.\n"
     ]
    },
    {
     "name": "stderr",
     "output_type": "stream",
     "text": [
      "100%|██████████| 201/201 [00:08<00:00, 23.34it/s]\n"
     ]
    },
    {
     "name": "stdout",
     "output_type": "stream",
     "text": [
      "Saving results in D:\\YuLab\\Work\\GPS\\Video\\Leo\\GPS_12_ThreeFPHoldSRTProbe\\20240724\\Top\\Clips...\n",
      "Saving csv poses!\n",
      "Starting to analyze %  D:/YuLab/Work/GPS/Video/Leo/GPS_12_ThreeFPHoldSRTProbe/20240724/Top/Clips/Leo_20240724_HoldTrial113_TopView.avi\n",
      "Loading  D:/YuLab/Work/GPS/Video/Leo/GPS_12_ThreeFPHoldSRTProbe/20240724/Top/Clips/Leo_20240724_HoldTrial113_TopView.avi\n",
      "Duration of video [s]:  8.04 , recorded with  25.0 fps!\n",
      "Overall # of frames:  201  found with (before cropping) frame dimensions:  1280 1331\n",
      "Starting to extract posture\n",
      "Cropping based on the x1 = 0 x2 = 1280 y1 = 0 y2 = 1024. You can adjust the cropping coordinates in the config.yaml file.\n"
     ]
    },
    {
     "name": "stderr",
     "output_type": "stream",
     "text": [
      "100%|██████████| 201/201 [00:08<00:00, 23.30it/s]\n"
     ]
    },
    {
     "name": "stdout",
     "output_type": "stream",
     "text": [
      "Saving results in D:\\YuLab\\Work\\GPS\\Video\\Leo\\GPS_12_ThreeFPHoldSRTProbe\\20240724\\Top\\Clips...\n",
      "Saving csv poses!\n",
      "Starting to analyze %  D:/YuLab/Work/GPS/Video/Leo/GPS_12_ThreeFPHoldSRTProbe/20240724/Top/Clips/Leo_20240724_HoldTrial114_TopView.avi\n",
      "Loading  D:/YuLab/Work/GPS/Video/Leo/GPS_12_ThreeFPHoldSRTProbe/20240724/Top/Clips/Leo_20240724_HoldTrial114_TopView.avi\n",
      "Duration of video [s]:  8.04 , recorded with  25.0 fps!\n",
      "Overall # of frames:  201  found with (before cropping) frame dimensions:  1280 1331\n",
      "Starting to extract posture\n",
      "Cropping based on the x1 = 0 x2 = 1280 y1 = 0 y2 = 1024. You can adjust the cropping coordinates in the config.yaml file.\n"
     ]
    },
    {
     "name": "stderr",
     "output_type": "stream",
     "text": [
      "100%|██████████| 201/201 [00:08<00:00, 23.37it/s]\n"
     ]
    },
    {
     "name": "stdout",
     "output_type": "stream",
     "text": [
      "Saving results in D:\\YuLab\\Work\\GPS\\Video\\Leo\\GPS_12_ThreeFPHoldSRTProbe\\20240724\\Top\\Clips...\n",
      "Saving csv poses!\n",
      "Starting to analyze %  D:/YuLab/Work/GPS/Video/Leo/GPS_12_ThreeFPHoldSRTProbe/20240724/Top/Clips/Leo_20240724_HoldTrial115_TopView.avi\n",
      "Loading  D:/YuLab/Work/GPS/Video/Leo/GPS_12_ThreeFPHoldSRTProbe/20240724/Top/Clips/Leo_20240724_HoldTrial115_TopView.avi\n",
      "Duration of video [s]:  8.04 , recorded with  25.0 fps!\n",
      "Overall # of frames:  201  found with (before cropping) frame dimensions:  1280 1331\n",
      "Starting to extract posture\n",
      "Cropping based on the x1 = 0 x2 = 1280 y1 = 0 y2 = 1024. You can adjust the cropping coordinates in the config.yaml file.\n"
     ]
    },
    {
     "name": "stderr",
     "output_type": "stream",
     "text": [
      "100%|██████████| 201/201 [00:08<00:00, 23.40it/s]\n"
     ]
    },
    {
     "name": "stdout",
     "output_type": "stream",
     "text": [
      "Saving results in D:\\YuLab\\Work\\GPS\\Video\\Leo\\GPS_12_ThreeFPHoldSRTProbe\\20240724\\Top\\Clips...\n",
      "Saving csv poses!\n",
      "Starting to analyze %  D:/YuLab/Work/GPS/Video/Leo/GPS_12_ThreeFPHoldSRTProbe/20240724/Top/Clips/Leo_20240724_HoldTrial116_TopView.avi\n",
      "Loading  D:/YuLab/Work/GPS/Video/Leo/GPS_12_ThreeFPHoldSRTProbe/20240724/Top/Clips/Leo_20240724_HoldTrial116_TopView.avi\n",
      "Duration of video [s]:  8.04 , recorded with  25.0 fps!\n",
      "Overall # of frames:  201  found with (before cropping) frame dimensions:  1280 1331\n",
      "Starting to extract posture\n",
      "Cropping based on the x1 = 0 x2 = 1280 y1 = 0 y2 = 1024. You can adjust the cropping coordinates in the config.yaml file.\n"
     ]
    },
    {
     "name": "stderr",
     "output_type": "stream",
     "text": [
      "100%|██████████| 201/201 [00:08<00:00, 23.37it/s]\n"
     ]
    },
    {
     "name": "stdout",
     "output_type": "stream",
     "text": [
      "Saving results in D:\\YuLab\\Work\\GPS\\Video\\Leo\\GPS_12_ThreeFPHoldSRTProbe\\20240724\\Top\\Clips...\n",
      "Saving csv poses!\n",
      "Starting to analyze %  D:/YuLab/Work/GPS/Video/Leo/GPS_12_ThreeFPHoldSRTProbe/20240724/Top/Clips/Leo_20240724_HoldTrial117_TopView.avi\n",
      "Loading  D:/YuLab/Work/GPS/Video/Leo/GPS_12_ThreeFPHoldSRTProbe/20240724/Top/Clips/Leo_20240724_HoldTrial117_TopView.avi\n",
      "Duration of video [s]:  8.04 , recorded with  25.0 fps!\n",
      "Overall # of frames:  201  found with (before cropping) frame dimensions:  1280 1331\n",
      "Starting to extract posture\n",
      "Cropping based on the x1 = 0 x2 = 1280 y1 = 0 y2 = 1024. You can adjust the cropping coordinates in the config.yaml file.\n"
     ]
    },
    {
     "name": "stderr",
     "output_type": "stream",
     "text": [
      "100%|██████████| 201/201 [00:08<00:00, 23.43it/s]\n"
     ]
    },
    {
     "name": "stdout",
     "output_type": "stream",
     "text": [
      "Saving results in D:\\YuLab\\Work\\GPS\\Video\\Leo\\GPS_12_ThreeFPHoldSRTProbe\\20240724\\Top\\Clips...\n",
      "Saving csv poses!\n",
      "Starting to analyze %  D:/YuLab/Work/GPS/Video/Leo/GPS_12_ThreeFPHoldSRTProbe/20240724/Top/Clips/Leo_20240724_HoldTrial118_TopView.avi\n",
      "Loading  D:/YuLab/Work/GPS/Video/Leo/GPS_12_ThreeFPHoldSRTProbe/20240724/Top/Clips/Leo_20240724_HoldTrial118_TopView.avi\n",
      "Duration of video [s]:  8.04 , recorded with  25.0 fps!\n",
      "Overall # of frames:  201  found with (before cropping) frame dimensions:  1280 1331\n",
      "Starting to extract posture\n",
      "Cropping based on the x1 = 0 x2 = 1280 y1 = 0 y2 = 1024. You can adjust the cropping coordinates in the config.yaml file.\n"
     ]
    },
    {
     "name": "stderr",
     "output_type": "stream",
     "text": [
      "100%|██████████| 201/201 [00:08<00:00, 23.33it/s]\n"
     ]
    },
    {
     "name": "stdout",
     "output_type": "stream",
     "text": [
      "Saving results in D:\\YuLab\\Work\\GPS\\Video\\Leo\\GPS_12_ThreeFPHoldSRTProbe\\20240724\\Top\\Clips...\n",
      "Saving csv poses!\n",
      "Starting to analyze %  D:/YuLab/Work/GPS/Video/Leo/GPS_12_ThreeFPHoldSRTProbe/20240724/Top/Clips/Leo_20240724_HoldTrial119_TopView.avi\n",
      "Loading  D:/YuLab/Work/GPS/Video/Leo/GPS_12_ThreeFPHoldSRTProbe/20240724/Top/Clips/Leo_20240724_HoldTrial119_TopView.avi\n",
      "Duration of video [s]:  8.04 , recorded with  25.0 fps!\n",
      "Overall # of frames:  201  found with (before cropping) frame dimensions:  1280 1331\n",
      "Starting to extract posture\n",
      "Cropping based on the x1 = 0 x2 = 1280 y1 = 0 y2 = 1024. You can adjust the cropping coordinates in the config.yaml file.\n"
     ]
    },
    {
     "name": "stderr",
     "output_type": "stream",
     "text": [
      "100%|██████████| 201/201 [00:08<00:00, 23.34it/s]\n"
     ]
    },
    {
     "name": "stdout",
     "output_type": "stream",
     "text": [
      "Saving results in D:\\YuLab\\Work\\GPS\\Video\\Leo\\GPS_12_ThreeFPHoldSRTProbe\\20240724\\Top\\Clips...\n",
      "Saving csv poses!\n",
      "Starting to analyze %  D:/YuLab/Work/GPS/Video/Leo/GPS_12_ThreeFPHoldSRTProbe/20240724/Top/Clips/Leo_20240724_HoldTrial120_TopView.avi\n",
      "Loading  D:/YuLab/Work/GPS/Video/Leo/GPS_12_ThreeFPHoldSRTProbe/20240724/Top/Clips/Leo_20240724_HoldTrial120_TopView.avi\n",
      "Duration of video [s]:  8.04 , recorded with  25.0 fps!\n",
      "Overall # of frames:  201  found with (before cropping) frame dimensions:  1280 1331\n",
      "Starting to extract posture\n",
      "Cropping based on the x1 = 0 x2 = 1280 y1 = 0 y2 = 1024. You can adjust the cropping coordinates in the config.yaml file.\n"
     ]
    },
    {
     "name": "stderr",
     "output_type": "stream",
     "text": [
      "100%|██████████| 201/201 [00:08<00:00, 23.36it/s]\n"
     ]
    },
    {
     "name": "stdout",
     "output_type": "stream",
     "text": [
      "Saving results in D:\\YuLab\\Work\\GPS\\Video\\Leo\\GPS_12_ThreeFPHoldSRTProbe\\20240724\\Top\\Clips...\n",
      "Saving csv poses!\n",
      "Starting to analyze %  D:/YuLab/Work/GPS/Video/Leo/GPS_12_ThreeFPHoldSRTProbe/20240724/Top/Clips/Leo_20240724_HoldTrial121_TopView.avi\n",
      "Loading  D:/YuLab/Work/GPS/Video/Leo/GPS_12_ThreeFPHoldSRTProbe/20240724/Top/Clips/Leo_20240724_HoldTrial121_TopView.avi\n",
      "Duration of video [s]:  8.04 , recorded with  25.0 fps!\n",
      "Overall # of frames:  201  found with (before cropping) frame dimensions:  1280 1331\n",
      "Starting to extract posture\n",
      "Cropping based on the x1 = 0 x2 = 1280 y1 = 0 y2 = 1024. You can adjust the cropping coordinates in the config.yaml file.\n"
     ]
    },
    {
     "name": "stderr",
     "output_type": "stream",
     "text": [
      "100%|██████████| 201/201 [00:08<00:00, 23.30it/s]\n"
     ]
    },
    {
     "name": "stdout",
     "output_type": "stream",
     "text": [
      "Saving results in D:\\YuLab\\Work\\GPS\\Video\\Leo\\GPS_12_ThreeFPHoldSRTProbe\\20240724\\Top\\Clips...\n",
      "Saving csv poses!\n",
      "Starting to analyze %  D:/YuLab/Work/GPS/Video/Leo/GPS_12_ThreeFPHoldSRTProbe/20240724/Top/Clips/Leo_20240724_HoldTrial122_TopView.avi\n",
      "Loading  D:/YuLab/Work/GPS/Video/Leo/GPS_12_ThreeFPHoldSRTProbe/20240724/Top/Clips/Leo_20240724_HoldTrial122_TopView.avi\n",
      "Duration of video [s]:  8.04 , recorded with  25.0 fps!\n",
      "Overall # of frames:  201  found with (before cropping) frame dimensions:  1280 1331\n",
      "Starting to extract posture\n",
      "Cropping based on the x1 = 0 x2 = 1280 y1 = 0 y2 = 1024. You can adjust the cropping coordinates in the config.yaml file.\n"
     ]
    },
    {
     "name": "stderr",
     "output_type": "stream",
     "text": [
      "100%|██████████| 201/201 [00:08<00:00, 23.39it/s]\n"
     ]
    },
    {
     "name": "stdout",
     "output_type": "stream",
     "text": [
      "Saving results in D:\\YuLab\\Work\\GPS\\Video\\Leo\\GPS_12_ThreeFPHoldSRTProbe\\20240724\\Top\\Clips...\n",
      "Saving csv poses!\n",
      "Starting to analyze %  D:/YuLab/Work/GPS/Video/Leo/GPS_12_ThreeFPHoldSRTProbe/20240724/Top/Clips/Leo_20240724_HoldTrial123_TopView.avi\n",
      "Loading  D:/YuLab/Work/GPS/Video/Leo/GPS_12_ThreeFPHoldSRTProbe/20240724/Top/Clips/Leo_20240724_HoldTrial123_TopView.avi\n",
      "Duration of video [s]:  8.04 , recorded with  25.0 fps!\n",
      "Overall # of frames:  201  found with (before cropping) frame dimensions:  1280 1331\n",
      "Starting to extract posture\n",
      "Cropping based on the x1 = 0 x2 = 1280 y1 = 0 y2 = 1024. You can adjust the cropping coordinates in the config.yaml file.\n"
     ]
    },
    {
     "name": "stderr",
     "output_type": "stream",
     "text": [
      "100%|██████████| 201/201 [00:08<00:00, 23.37it/s]\n"
     ]
    },
    {
     "name": "stdout",
     "output_type": "stream",
     "text": [
      "Saving results in D:\\YuLab\\Work\\GPS\\Video\\Leo\\GPS_12_ThreeFPHoldSRTProbe\\20240724\\Top\\Clips...\n",
      "Saving csv poses!\n",
      "Starting to analyze %  D:/YuLab/Work/GPS/Video/Leo/GPS_12_ThreeFPHoldSRTProbe/20240724/Top/Clips/Leo_20240724_HoldTrial124_TopView.avi\n",
      "Loading  D:/YuLab/Work/GPS/Video/Leo/GPS_12_ThreeFPHoldSRTProbe/20240724/Top/Clips/Leo_20240724_HoldTrial124_TopView.avi\n",
      "Duration of video [s]:  8.04 , recorded with  25.0 fps!\n",
      "Overall # of frames:  201  found with (before cropping) frame dimensions:  1280 1331\n",
      "Starting to extract posture\n",
      "Cropping based on the x1 = 0 x2 = 1280 y1 = 0 y2 = 1024. You can adjust the cropping coordinates in the config.yaml file.\n"
     ]
    },
    {
     "name": "stderr",
     "output_type": "stream",
     "text": [
      "100%|██████████| 201/201 [00:08<00:00, 23.38it/s]\n"
     ]
    },
    {
     "name": "stdout",
     "output_type": "stream",
     "text": [
      "Saving results in D:\\YuLab\\Work\\GPS\\Video\\Leo\\GPS_12_ThreeFPHoldSRTProbe\\20240724\\Top\\Clips...\n",
      "Saving csv poses!\n",
      "Starting to analyze %  D:/YuLab/Work/GPS/Video/Leo/GPS_12_ThreeFPHoldSRTProbe/20240724/Top/Clips/Leo_20240724_HoldTrial125_TopView.avi\n",
      "Loading  D:/YuLab/Work/GPS/Video/Leo/GPS_12_ThreeFPHoldSRTProbe/20240724/Top/Clips/Leo_20240724_HoldTrial125_TopView.avi\n",
      "Duration of video [s]:  8.04 , recorded with  25.0 fps!\n",
      "Overall # of frames:  201  found with (before cropping) frame dimensions:  1280 1331\n",
      "Starting to extract posture\n",
      "Cropping based on the x1 = 0 x2 = 1280 y1 = 0 y2 = 1024. You can adjust the cropping coordinates in the config.yaml file.\n"
     ]
    },
    {
     "name": "stderr",
     "output_type": "stream",
     "text": [
      "100%|██████████| 201/201 [00:08<00:00, 23.36it/s]\n"
     ]
    },
    {
     "name": "stdout",
     "output_type": "stream",
     "text": [
      "Saving results in D:\\YuLab\\Work\\GPS\\Video\\Leo\\GPS_12_ThreeFPHoldSRTProbe\\20240724\\Top\\Clips...\n",
      "Saving csv poses!\n",
      "Starting to analyze %  D:/YuLab/Work/GPS/Video/Leo/GPS_12_ThreeFPHoldSRTProbe/20240724/Top/Clips/Leo_20240724_HoldTrial126_TopView.avi\n",
      "Loading  D:/YuLab/Work/GPS/Video/Leo/GPS_12_ThreeFPHoldSRTProbe/20240724/Top/Clips/Leo_20240724_HoldTrial126_TopView.avi\n",
      "Duration of video [s]:  8.04 , recorded with  25.0 fps!\n",
      "Overall # of frames:  201  found with (before cropping) frame dimensions:  1280 1331\n",
      "Starting to extract posture\n",
      "Cropping based on the x1 = 0 x2 = 1280 y1 = 0 y2 = 1024. You can adjust the cropping coordinates in the config.yaml file.\n"
     ]
    },
    {
     "name": "stderr",
     "output_type": "stream",
     "text": [
      "100%|██████████| 201/201 [00:08<00:00, 23.28it/s]\n"
     ]
    },
    {
     "name": "stdout",
     "output_type": "stream",
     "text": [
      "Saving results in D:\\YuLab\\Work\\GPS\\Video\\Leo\\GPS_12_ThreeFPHoldSRTProbe\\20240724\\Top\\Clips...\n",
      "Saving csv poses!\n",
      "Starting to analyze %  D:/YuLab/Work/GPS/Video/Leo/GPS_12_ThreeFPHoldSRTProbe/20240724/Top/Clips/Leo_20240724_HoldTrial127_TopView.avi\n",
      "Loading  D:/YuLab/Work/GPS/Video/Leo/GPS_12_ThreeFPHoldSRTProbe/20240724/Top/Clips/Leo_20240724_HoldTrial127_TopView.avi\n",
      "Duration of video [s]:  8.04 , recorded with  25.0 fps!\n",
      "Overall # of frames:  201  found with (before cropping) frame dimensions:  1280 1331\n",
      "Starting to extract posture\n",
      "Cropping based on the x1 = 0 x2 = 1280 y1 = 0 y2 = 1024. You can adjust the cropping coordinates in the config.yaml file.\n"
     ]
    },
    {
     "name": "stderr",
     "output_type": "stream",
     "text": [
      "100%|██████████| 201/201 [00:08<00:00, 23.32it/s]\n"
     ]
    },
    {
     "name": "stdout",
     "output_type": "stream",
     "text": [
      "Saving results in D:\\YuLab\\Work\\GPS\\Video\\Leo\\GPS_12_ThreeFPHoldSRTProbe\\20240724\\Top\\Clips...\n",
      "Saving csv poses!\n",
      "Starting to analyze %  D:/YuLab/Work/GPS/Video/Leo/GPS_12_ThreeFPHoldSRTProbe/20240724/Top/Clips/Leo_20240724_HoldTrial128_TopView.avi\n",
      "Loading  D:/YuLab/Work/GPS/Video/Leo/GPS_12_ThreeFPHoldSRTProbe/20240724/Top/Clips/Leo_20240724_HoldTrial128_TopView.avi\n",
      "Duration of video [s]:  8.04 , recorded with  25.0 fps!\n",
      "Overall # of frames:  201  found with (before cropping) frame dimensions:  1280 1331\n",
      "Starting to extract posture\n",
      "Cropping based on the x1 = 0 x2 = 1280 y1 = 0 y2 = 1024. You can adjust the cropping coordinates in the config.yaml file.\n"
     ]
    },
    {
     "name": "stderr",
     "output_type": "stream",
     "text": [
      "100%|██████████| 201/201 [00:08<00:00, 23.32it/s]\n"
     ]
    },
    {
     "name": "stdout",
     "output_type": "stream",
     "text": [
      "Saving results in D:\\YuLab\\Work\\GPS\\Video\\Leo\\GPS_12_ThreeFPHoldSRTProbe\\20240724\\Top\\Clips...\n",
      "Saving csv poses!\n",
      "Starting to analyze %  D:/YuLab/Work/GPS/Video/Leo/GPS_12_ThreeFPHoldSRTProbe/20240724/Top/Clips/Leo_20240724_HoldTrial129_TopView.avi\n",
      "Loading  D:/YuLab/Work/GPS/Video/Leo/GPS_12_ThreeFPHoldSRTProbe/20240724/Top/Clips/Leo_20240724_HoldTrial129_TopView.avi\n",
      "Duration of video [s]:  8.04 , recorded with  25.0 fps!\n",
      "Overall # of frames:  201  found with (before cropping) frame dimensions:  1280 1331\n",
      "Starting to extract posture\n",
      "Cropping based on the x1 = 0 x2 = 1280 y1 = 0 y2 = 1024. You can adjust the cropping coordinates in the config.yaml file.\n"
     ]
    },
    {
     "name": "stderr",
     "output_type": "stream",
     "text": [
      "100%|██████████| 201/201 [00:08<00:00, 23.37it/s]\n"
     ]
    },
    {
     "name": "stdout",
     "output_type": "stream",
     "text": [
      "Saving results in D:\\YuLab\\Work\\GPS\\Video\\Leo\\GPS_12_ThreeFPHoldSRTProbe\\20240724\\Top\\Clips...\n",
      "Saving csv poses!\n",
      "Starting to analyze %  D:/YuLab/Work/GPS/Video/Leo/GPS_12_ThreeFPHoldSRTProbe/20240724/Top/Clips/Leo_20240724_HoldTrial130_TopView.avi\n",
      "Loading  D:/YuLab/Work/GPS/Video/Leo/GPS_12_ThreeFPHoldSRTProbe/20240724/Top/Clips/Leo_20240724_HoldTrial130_TopView.avi\n",
      "Duration of video [s]:  8.04 , recorded with  25.0 fps!\n",
      "Overall # of frames:  201  found with (before cropping) frame dimensions:  1280 1331\n",
      "Starting to extract posture\n",
      "Cropping based on the x1 = 0 x2 = 1280 y1 = 0 y2 = 1024. You can adjust the cropping coordinates in the config.yaml file.\n"
     ]
    },
    {
     "name": "stderr",
     "output_type": "stream",
     "text": [
      "100%|██████████| 201/201 [00:08<00:00, 23.36it/s]\n"
     ]
    },
    {
     "name": "stdout",
     "output_type": "stream",
     "text": [
      "Saving results in D:\\YuLab\\Work\\GPS\\Video\\Leo\\GPS_12_ThreeFPHoldSRTProbe\\20240724\\Top\\Clips...\n",
      "Saving csv poses!\n",
      "Starting to analyze %  D:/YuLab/Work/GPS/Video/Leo/GPS_12_ThreeFPHoldSRTProbe/20240724/Top/Clips/Leo_20240724_HoldTrial131_TopView.avi\n",
      "Loading  D:/YuLab/Work/GPS/Video/Leo/GPS_12_ThreeFPHoldSRTProbe/20240724/Top/Clips/Leo_20240724_HoldTrial131_TopView.avi\n",
      "Duration of video [s]:  8.04 , recorded with  25.0 fps!\n",
      "Overall # of frames:  201  found with (before cropping) frame dimensions:  1280 1331\n",
      "Starting to extract posture\n",
      "Cropping based on the x1 = 0 x2 = 1280 y1 = 0 y2 = 1024. You can adjust the cropping coordinates in the config.yaml file.\n"
     ]
    },
    {
     "name": "stderr",
     "output_type": "stream",
     "text": [
      "100%|██████████| 201/201 [00:08<00:00, 23.42it/s]\n"
     ]
    },
    {
     "name": "stdout",
     "output_type": "stream",
     "text": [
      "Saving results in D:\\YuLab\\Work\\GPS\\Video\\Leo\\GPS_12_ThreeFPHoldSRTProbe\\20240724\\Top\\Clips...\n",
      "Saving csv poses!\n",
      "Starting to analyze %  D:/YuLab/Work/GPS/Video/Leo/GPS_12_ThreeFPHoldSRTProbe/20240724/Top/Clips/Leo_20240724_HoldTrial132_TopView.avi\n",
      "Loading  D:/YuLab/Work/GPS/Video/Leo/GPS_12_ThreeFPHoldSRTProbe/20240724/Top/Clips/Leo_20240724_HoldTrial132_TopView.avi\n",
      "Duration of video [s]:  8.04 , recorded with  25.0 fps!\n",
      "Overall # of frames:  201  found with (before cropping) frame dimensions:  1280 1331\n",
      "Starting to extract posture\n",
      "Cropping based on the x1 = 0 x2 = 1280 y1 = 0 y2 = 1024. You can adjust the cropping coordinates in the config.yaml file.\n"
     ]
    },
    {
     "name": "stderr",
     "output_type": "stream",
     "text": [
      "100%|██████████| 201/201 [00:08<00:00, 23.36it/s]\n"
     ]
    },
    {
     "name": "stdout",
     "output_type": "stream",
     "text": [
      "Saving results in D:\\YuLab\\Work\\GPS\\Video\\Leo\\GPS_12_ThreeFPHoldSRTProbe\\20240724\\Top\\Clips...\n",
      "Saving csv poses!\n",
      "Starting to analyze %  D:/YuLab/Work/GPS/Video/Leo/GPS_12_ThreeFPHoldSRTProbe/20240724/Top/Clips/Leo_20240724_HoldTrial133_TopView.avi\n",
      "Loading  D:/YuLab/Work/GPS/Video/Leo/GPS_12_ThreeFPHoldSRTProbe/20240724/Top/Clips/Leo_20240724_HoldTrial133_TopView.avi\n",
      "Duration of video [s]:  8.04 , recorded with  25.0 fps!\n",
      "Overall # of frames:  201  found with (before cropping) frame dimensions:  1280 1331\n",
      "Starting to extract posture\n",
      "Cropping based on the x1 = 0 x2 = 1280 y1 = 0 y2 = 1024. You can adjust the cropping coordinates in the config.yaml file.\n"
     ]
    },
    {
     "name": "stderr",
     "output_type": "stream",
     "text": [
      "100%|██████████| 201/201 [00:08<00:00, 23.36it/s]\n"
     ]
    },
    {
     "name": "stdout",
     "output_type": "stream",
     "text": [
      "Saving results in D:\\YuLab\\Work\\GPS\\Video\\Leo\\GPS_12_ThreeFPHoldSRTProbe\\20240724\\Top\\Clips...\n",
      "Saving csv poses!\n",
      "Starting to analyze %  D:/YuLab/Work/GPS/Video/Leo/GPS_12_ThreeFPHoldSRTProbe/20240724/Top/Clips/Leo_20240724_HoldTrial134_TopView.avi\n",
      "Loading  D:/YuLab/Work/GPS/Video/Leo/GPS_12_ThreeFPHoldSRTProbe/20240724/Top/Clips/Leo_20240724_HoldTrial134_TopView.avi\n",
      "Duration of video [s]:  8.04 , recorded with  25.0 fps!\n",
      "Overall # of frames:  201  found with (before cropping) frame dimensions:  1280 1331\n",
      "Starting to extract posture\n",
      "Cropping based on the x1 = 0 x2 = 1280 y1 = 0 y2 = 1024. You can adjust the cropping coordinates in the config.yaml file.\n"
     ]
    },
    {
     "name": "stderr",
     "output_type": "stream",
     "text": [
      "100%|██████████| 201/201 [00:08<00:00, 23.30it/s]\n"
     ]
    },
    {
     "name": "stdout",
     "output_type": "stream",
     "text": [
      "Saving results in D:\\YuLab\\Work\\GPS\\Video\\Leo\\GPS_12_ThreeFPHoldSRTProbe\\20240724\\Top\\Clips...\n",
      "Saving csv poses!\n",
      "Starting to analyze %  D:/YuLab/Work/GPS/Video/Leo/GPS_12_ThreeFPHoldSRTProbe/20240724/Top/Clips/Leo_20240724_HoldTrial135_TopView.avi\n",
      "Loading  D:/YuLab/Work/GPS/Video/Leo/GPS_12_ThreeFPHoldSRTProbe/20240724/Top/Clips/Leo_20240724_HoldTrial135_TopView.avi\n",
      "Duration of video [s]:  8.04 , recorded with  25.0 fps!\n",
      "Overall # of frames:  201  found with (before cropping) frame dimensions:  1280 1331\n",
      "Starting to extract posture\n",
      "Cropping based on the x1 = 0 x2 = 1280 y1 = 0 y2 = 1024. You can adjust the cropping coordinates in the config.yaml file.\n"
     ]
    },
    {
     "name": "stderr",
     "output_type": "stream",
     "text": [
      "100%|██████████| 201/201 [00:08<00:00, 23.33it/s]\n"
     ]
    },
    {
     "name": "stdout",
     "output_type": "stream",
     "text": [
      "Saving results in D:\\YuLab\\Work\\GPS\\Video\\Leo\\GPS_12_ThreeFPHoldSRTProbe\\20240724\\Top\\Clips...\n",
      "Saving csv poses!\n",
      "Starting to analyze %  D:/YuLab/Work/GPS/Video/Leo/GPS_12_ThreeFPHoldSRTProbe/20240724/Top/Clips/Leo_20240724_HoldTrial136_TopView.avi\n",
      "Loading  D:/YuLab/Work/GPS/Video/Leo/GPS_12_ThreeFPHoldSRTProbe/20240724/Top/Clips/Leo_20240724_HoldTrial136_TopView.avi\n",
      "Duration of video [s]:  8.04 , recorded with  25.0 fps!\n",
      "Overall # of frames:  201  found with (before cropping) frame dimensions:  1280 1331\n",
      "Starting to extract posture\n",
      "Cropping based on the x1 = 0 x2 = 1280 y1 = 0 y2 = 1024. You can adjust the cropping coordinates in the config.yaml file.\n"
     ]
    },
    {
     "name": "stderr",
     "output_type": "stream",
     "text": [
      "100%|██████████| 201/201 [00:08<00:00, 23.31it/s]\n"
     ]
    },
    {
     "name": "stdout",
     "output_type": "stream",
     "text": [
      "Saving results in D:\\YuLab\\Work\\GPS\\Video\\Leo\\GPS_12_ThreeFPHoldSRTProbe\\20240724\\Top\\Clips...\n",
      "Saving csv poses!\n",
      "Starting to analyze %  D:/YuLab/Work/GPS/Video/Leo/GPS_12_ThreeFPHoldSRTProbe/20240724/Top/Clips/Leo_20240724_HoldTrial137_TopView.avi\n",
      "Loading  D:/YuLab/Work/GPS/Video/Leo/GPS_12_ThreeFPHoldSRTProbe/20240724/Top/Clips/Leo_20240724_HoldTrial137_TopView.avi\n",
      "Duration of video [s]:  8.04 , recorded with  25.0 fps!\n",
      "Overall # of frames:  201  found with (before cropping) frame dimensions:  1280 1331\n",
      "Starting to extract posture\n",
      "Cropping based on the x1 = 0 x2 = 1280 y1 = 0 y2 = 1024. You can adjust the cropping coordinates in the config.yaml file.\n"
     ]
    },
    {
     "name": "stderr",
     "output_type": "stream",
     "text": [
      "100%|██████████| 201/201 [00:08<00:00, 23.30it/s]\n"
     ]
    },
    {
     "name": "stdout",
     "output_type": "stream",
     "text": [
      "Saving results in D:\\YuLab\\Work\\GPS\\Video\\Leo\\GPS_12_ThreeFPHoldSRTProbe\\20240724\\Top\\Clips...\n",
      "Saving csv poses!\n",
      "Starting to analyze %  D:/YuLab/Work/GPS/Video/Leo/GPS_12_ThreeFPHoldSRTProbe/20240724/Top/Clips/Leo_20240724_HoldTrial138_TopView.avi\n",
      "Loading  D:/YuLab/Work/GPS/Video/Leo/GPS_12_ThreeFPHoldSRTProbe/20240724/Top/Clips/Leo_20240724_HoldTrial138_TopView.avi\n",
      "Duration of video [s]:  8.04 , recorded with  25.0 fps!\n",
      "Overall # of frames:  201  found with (before cropping) frame dimensions:  1280 1331\n",
      "Starting to extract posture\n",
      "Cropping based on the x1 = 0 x2 = 1280 y1 = 0 y2 = 1024. You can adjust the cropping coordinates in the config.yaml file.\n"
     ]
    },
    {
     "name": "stderr",
     "output_type": "stream",
     "text": [
      "100%|██████████| 201/201 [00:08<00:00, 23.28it/s]\n"
     ]
    },
    {
     "name": "stdout",
     "output_type": "stream",
     "text": [
      "Saving results in D:\\YuLab\\Work\\GPS\\Video\\Leo\\GPS_12_ThreeFPHoldSRTProbe\\20240724\\Top\\Clips...\n",
      "Saving csv poses!\n",
      "Starting to analyze %  D:/YuLab/Work/GPS/Video/Leo/GPS_12_ThreeFPHoldSRTProbe/20240724/Top/Clips/Leo_20240724_HoldTrial139_TopView.avi\n",
      "Loading  D:/YuLab/Work/GPS/Video/Leo/GPS_12_ThreeFPHoldSRTProbe/20240724/Top/Clips/Leo_20240724_HoldTrial139_TopView.avi\n",
      "Duration of video [s]:  8.04 , recorded with  25.0 fps!\n",
      "Overall # of frames:  201  found with (before cropping) frame dimensions:  1280 1331\n",
      "Starting to extract posture\n",
      "Cropping based on the x1 = 0 x2 = 1280 y1 = 0 y2 = 1024. You can adjust the cropping coordinates in the config.yaml file.\n"
     ]
    },
    {
     "name": "stderr",
     "output_type": "stream",
     "text": [
      "100%|██████████| 201/201 [00:08<00:00, 23.32it/s]\n"
     ]
    },
    {
     "name": "stdout",
     "output_type": "stream",
     "text": [
      "Saving results in D:\\YuLab\\Work\\GPS\\Video\\Leo\\GPS_12_ThreeFPHoldSRTProbe\\20240724\\Top\\Clips...\n",
      "Saving csv poses!\n",
      "Starting to analyze %  D:/YuLab/Work/GPS/Video/Leo/GPS_12_ThreeFPHoldSRTProbe/20240724/Top/Clips/Leo_20240724_HoldTrial140_TopView.avi\n",
      "Loading  D:/YuLab/Work/GPS/Video/Leo/GPS_12_ThreeFPHoldSRTProbe/20240724/Top/Clips/Leo_20240724_HoldTrial140_TopView.avi\n",
      "Duration of video [s]:  8.04 , recorded with  25.0 fps!\n",
      "Overall # of frames:  201  found with (before cropping) frame dimensions:  1280 1331\n",
      "Starting to extract posture\n",
      "Cropping based on the x1 = 0 x2 = 1280 y1 = 0 y2 = 1024. You can adjust the cropping coordinates in the config.yaml file.\n"
     ]
    },
    {
     "name": "stderr",
     "output_type": "stream",
     "text": [
      "100%|██████████| 201/201 [00:08<00:00, 23.30it/s]\n"
     ]
    },
    {
     "name": "stdout",
     "output_type": "stream",
     "text": [
      "Saving results in D:\\YuLab\\Work\\GPS\\Video\\Leo\\GPS_12_ThreeFPHoldSRTProbe\\20240724\\Top\\Clips...\n",
      "Saving csv poses!\n",
      "Starting to analyze %  D:/YuLab/Work/GPS/Video/Leo/GPS_12_ThreeFPHoldSRTProbe/20240724/Top/Clips/Leo_20240724_HoldTrial141_TopView.avi\n",
      "Loading  D:/YuLab/Work/GPS/Video/Leo/GPS_12_ThreeFPHoldSRTProbe/20240724/Top/Clips/Leo_20240724_HoldTrial141_TopView.avi\n",
      "Duration of video [s]:  8.04 , recorded with  25.0 fps!\n",
      "Overall # of frames:  201  found with (before cropping) frame dimensions:  1280 1331\n",
      "Starting to extract posture\n",
      "Cropping based on the x1 = 0 x2 = 1280 y1 = 0 y2 = 1024. You can adjust the cropping coordinates in the config.yaml file.\n"
     ]
    },
    {
     "name": "stderr",
     "output_type": "stream",
     "text": [
      "100%|██████████| 201/201 [00:08<00:00, 22.47it/s]\n"
     ]
    },
    {
     "name": "stdout",
     "output_type": "stream",
     "text": [
      "Saving results in D:\\YuLab\\Work\\GPS\\Video\\Leo\\GPS_12_ThreeFPHoldSRTProbe\\20240724\\Top\\Clips...\n",
      "Saving csv poses!\n",
      "Starting to analyze %  D:/YuLab/Work/GPS/Video/Leo/GPS_12_ThreeFPHoldSRTProbe/20240724/Top/Clips/Leo_20240724_HoldTrial142_TopView.avi\n",
      "Loading  D:/YuLab/Work/GPS/Video/Leo/GPS_12_ThreeFPHoldSRTProbe/20240724/Top/Clips/Leo_20240724_HoldTrial142_TopView.avi\n",
      "Duration of video [s]:  8.04 , recorded with  25.0 fps!\n",
      "Overall # of frames:  201  found with (before cropping) frame dimensions:  1280 1331\n",
      "Starting to extract posture\n",
      "Cropping based on the x1 = 0 x2 = 1280 y1 = 0 y2 = 1024. You can adjust the cropping coordinates in the config.yaml file.\n"
     ]
    },
    {
     "name": "stderr",
     "output_type": "stream",
     "text": [
      "100%|██████████| 201/201 [00:08<00:00, 23.05it/s]\n"
     ]
    },
    {
     "name": "stdout",
     "output_type": "stream",
     "text": [
      "Saving results in D:\\YuLab\\Work\\GPS\\Video\\Leo\\GPS_12_ThreeFPHoldSRTProbe\\20240724\\Top\\Clips...\n",
      "Saving csv poses!\n",
      "Starting to analyze %  D:/YuLab/Work/GPS/Video/Leo/GPS_12_ThreeFPHoldSRTProbe/20240724/Top/Clips/Leo_20240724_HoldTrial143_TopView.avi\n",
      "Loading  D:/YuLab/Work/GPS/Video/Leo/GPS_12_ThreeFPHoldSRTProbe/20240724/Top/Clips/Leo_20240724_HoldTrial143_TopView.avi\n",
      "Duration of video [s]:  8.04 , recorded with  25.0 fps!\n",
      "Overall # of frames:  201  found with (before cropping) frame dimensions:  1280 1331\n",
      "Starting to extract posture\n",
      "Cropping based on the x1 = 0 x2 = 1280 y1 = 0 y2 = 1024. You can adjust the cropping coordinates in the config.yaml file.\n"
     ]
    },
    {
     "name": "stderr",
     "output_type": "stream",
     "text": [
      "100%|██████████| 201/201 [00:08<00:00, 22.80it/s]\n"
     ]
    },
    {
     "name": "stdout",
     "output_type": "stream",
     "text": [
      "Saving results in D:\\YuLab\\Work\\GPS\\Video\\Leo\\GPS_12_ThreeFPHoldSRTProbe\\20240724\\Top\\Clips...\n",
      "Saving csv poses!\n",
      "Starting to analyze %  D:/YuLab/Work/GPS/Video/Leo/GPS_12_ThreeFPHoldSRTProbe/20240724/Top/Clips/Leo_20240724_HoldTrial144_TopView.avi\n",
      "Loading  D:/YuLab/Work/GPS/Video/Leo/GPS_12_ThreeFPHoldSRTProbe/20240724/Top/Clips/Leo_20240724_HoldTrial144_TopView.avi\n",
      "Duration of video [s]:  8.04 , recorded with  25.0 fps!\n",
      "Overall # of frames:  201  found with (before cropping) frame dimensions:  1280 1331\n",
      "Starting to extract posture\n",
      "Cropping based on the x1 = 0 x2 = 1280 y1 = 0 y2 = 1024. You can adjust the cropping coordinates in the config.yaml file.\n"
     ]
    },
    {
     "name": "stderr",
     "output_type": "stream",
     "text": [
      "100%|██████████| 201/201 [00:08<00:00, 22.86it/s]\n"
     ]
    },
    {
     "name": "stdout",
     "output_type": "stream",
     "text": [
      "Saving results in D:\\YuLab\\Work\\GPS\\Video\\Leo\\GPS_12_ThreeFPHoldSRTProbe\\20240724\\Top\\Clips...\n",
      "Saving csv poses!\n",
      "Starting to analyze %  D:/YuLab/Work/GPS/Video/Leo/GPS_12_ThreeFPHoldSRTProbe/20240724/Top/Clips/Leo_20240724_HoldTrial145_TopView.avi\n",
      "Loading  D:/YuLab/Work/GPS/Video/Leo/GPS_12_ThreeFPHoldSRTProbe/20240724/Top/Clips/Leo_20240724_HoldTrial145_TopView.avi\n",
      "Duration of video [s]:  8.04 , recorded with  25.0 fps!\n",
      "Overall # of frames:  201  found with (before cropping) frame dimensions:  1280 1331\n",
      "Starting to extract posture\n",
      "Cropping based on the x1 = 0 x2 = 1280 y1 = 0 y2 = 1024. You can adjust the cropping coordinates in the config.yaml file.\n"
     ]
    },
    {
     "name": "stderr",
     "output_type": "stream",
     "text": [
      "100%|██████████| 201/201 [00:08<00:00, 23.01it/s]\n"
     ]
    },
    {
     "name": "stdout",
     "output_type": "stream",
     "text": [
      "Saving results in D:\\YuLab\\Work\\GPS\\Video\\Leo\\GPS_12_ThreeFPHoldSRTProbe\\20240724\\Top\\Clips...\n",
      "Saving csv poses!\n",
      "Starting to analyze %  D:/YuLab/Work/GPS/Video/Leo/GPS_12_ThreeFPHoldSRTProbe/20240724/Top/Clips/Leo_20240724_HoldTrial146_TopView.avi\n",
      "Loading  D:/YuLab/Work/GPS/Video/Leo/GPS_12_ThreeFPHoldSRTProbe/20240724/Top/Clips/Leo_20240724_HoldTrial146_TopView.avi\n",
      "Duration of video [s]:  8.04 , recorded with  25.0 fps!\n",
      "Overall # of frames:  201  found with (before cropping) frame dimensions:  1280 1331\n",
      "Starting to extract posture\n",
      "Cropping based on the x1 = 0 x2 = 1280 y1 = 0 y2 = 1024. You can adjust the cropping coordinates in the config.yaml file.\n"
     ]
    },
    {
     "name": "stderr",
     "output_type": "stream",
     "text": [
      "100%|██████████| 201/201 [00:08<00:00, 22.96it/s]\n"
     ]
    },
    {
     "name": "stdout",
     "output_type": "stream",
     "text": [
      "Saving results in D:\\YuLab\\Work\\GPS\\Video\\Leo\\GPS_12_ThreeFPHoldSRTProbe\\20240724\\Top\\Clips...\n",
      "Saving csv poses!\n",
      "Starting to analyze %  D:/YuLab/Work/GPS/Video/Leo/GPS_12_ThreeFPHoldSRTProbe/20240802/Top/Clips/Leo_20240802_HoldTrial019_TopView.avi\n",
      "Loading  D:/YuLab/Work/GPS/Video/Leo/GPS_12_ThreeFPHoldSRTProbe/20240802/Top/Clips/Leo_20240802_HoldTrial019_TopView.avi\n",
      "Duration of video [s]:  8.04 , recorded with  25.0 fps!\n",
      "Overall # of frames:  201  found with (before cropping) frame dimensions:  1280 1331\n",
      "Starting to extract posture\n",
      "Cropping based on the x1 = 0 x2 = 1280 y1 = 0 y2 = 1024. You can adjust the cropping coordinates in the config.yaml file.\n"
     ]
    },
    {
     "name": "stderr",
     "output_type": "stream",
     "text": [
      "100%|██████████| 201/201 [00:08<00:00, 23.09it/s]\n"
     ]
    },
    {
     "name": "stdout",
     "output_type": "stream",
     "text": [
      "Saving results in D:\\YuLab\\Work\\GPS\\Video\\Leo\\GPS_12_ThreeFPHoldSRTProbe\\20240802\\Top\\Clips...\n",
      "Saving csv poses!\n",
      "Starting to analyze %  D:/YuLab/Work/GPS/Video/Leo/GPS_12_ThreeFPHoldSRTProbe/20240802/Top/Clips/Leo_20240802_HoldTrial020_TopView.avi\n",
      "Loading  D:/YuLab/Work/GPS/Video/Leo/GPS_12_ThreeFPHoldSRTProbe/20240802/Top/Clips/Leo_20240802_HoldTrial020_TopView.avi\n",
      "Duration of video [s]:  8.04 , recorded with  25.0 fps!\n",
      "Overall # of frames:  201  found with (before cropping) frame dimensions:  1280 1331\n",
      "Starting to extract posture\n",
      "Cropping based on the x1 = 0 x2 = 1280 y1 = 0 y2 = 1024. You can adjust the cropping coordinates in the config.yaml file.\n"
     ]
    },
    {
     "name": "stderr",
     "output_type": "stream",
     "text": [
      "100%|██████████| 201/201 [00:08<00:00, 22.95it/s]\n"
     ]
    },
    {
     "name": "stdout",
     "output_type": "stream",
     "text": [
      "Saving results in D:\\YuLab\\Work\\GPS\\Video\\Leo\\GPS_12_ThreeFPHoldSRTProbe\\20240802\\Top\\Clips...\n",
      "Saving csv poses!\n",
      "Starting to analyze %  D:/YuLab/Work/GPS/Video/Leo/GPS_12_ThreeFPHoldSRTProbe/20240802/Top/Clips/Leo_20240802_HoldTrial021_TopView.avi\n",
      "Loading  D:/YuLab/Work/GPS/Video/Leo/GPS_12_ThreeFPHoldSRTProbe/20240802/Top/Clips/Leo_20240802_HoldTrial021_TopView.avi\n",
      "Duration of video [s]:  8.04 , recorded with  25.0 fps!\n",
      "Overall # of frames:  201  found with (before cropping) frame dimensions:  1280 1331\n",
      "Starting to extract posture\n",
      "Cropping based on the x1 = 0 x2 = 1280 y1 = 0 y2 = 1024. You can adjust the cropping coordinates in the config.yaml file.\n"
     ]
    },
    {
     "name": "stderr",
     "output_type": "stream",
     "text": [
      "100%|██████████| 201/201 [00:08<00:00, 23.17it/s]\n"
     ]
    },
    {
     "name": "stdout",
     "output_type": "stream",
     "text": [
      "Saving results in D:\\YuLab\\Work\\GPS\\Video\\Leo\\GPS_12_ThreeFPHoldSRTProbe\\20240802\\Top\\Clips...\n",
      "Saving csv poses!\n",
      "Starting to analyze %  D:/YuLab/Work/GPS/Video/Leo/GPS_12_ThreeFPHoldSRTProbe/20240803/Top/Clips/Leo_20240803_HoldTrial009_TopView.avi\n",
      "Loading  D:/YuLab/Work/GPS/Video/Leo/GPS_12_ThreeFPHoldSRTProbe/20240803/Top/Clips/Leo_20240803_HoldTrial009_TopView.avi\n",
      "Duration of video [s]:  8.04 , recorded with  25.0 fps!\n",
      "Overall # of frames:  201  found with (before cropping) frame dimensions:  1280 1331\n",
      "Starting to extract posture\n",
      "Cropping based on the x1 = 0 x2 = 1280 y1 = 0 y2 = 1024. You can adjust the cropping coordinates in the config.yaml file.\n"
     ]
    },
    {
     "name": "stderr",
     "output_type": "stream",
     "text": [
      "100%|██████████| 201/201 [00:08<00:00, 23.21it/s]\n"
     ]
    },
    {
     "name": "stdout",
     "output_type": "stream",
     "text": [
      "Saving results in D:\\YuLab\\Work\\GPS\\Video\\Leo\\GPS_12_ThreeFPHoldSRTProbe\\20240803\\Top\\Clips...\n",
      "Saving csv poses!\n",
      "Starting to analyze %  D:/YuLab/Work/GPS/Video/Leo/GPS_12_ThreeFPHoldSRTProbe/20240803/Top/Clips/Leo_20240803_HoldTrial010_TopView.avi\n",
      "Loading  D:/YuLab/Work/GPS/Video/Leo/GPS_12_ThreeFPHoldSRTProbe/20240803/Top/Clips/Leo_20240803_HoldTrial010_TopView.avi\n",
      "Duration of video [s]:  8.04 , recorded with  25.0 fps!\n",
      "Overall # of frames:  201  found with (before cropping) frame dimensions:  1280 1331\n",
      "Starting to extract posture\n",
      "Cropping based on the x1 = 0 x2 = 1280 y1 = 0 y2 = 1024. You can adjust the cropping coordinates in the config.yaml file.\n"
     ]
    },
    {
     "name": "stderr",
     "output_type": "stream",
     "text": [
      "100%|██████████| 201/201 [00:08<00:00, 23.22it/s]\n"
     ]
    },
    {
     "name": "stdout",
     "output_type": "stream",
     "text": [
      "Saving results in D:\\YuLab\\Work\\GPS\\Video\\Leo\\GPS_12_ThreeFPHoldSRTProbe\\20240803\\Top\\Clips...\n",
      "Saving csv poses!\n",
      "Starting to analyze %  D:/YuLab/Work/GPS/Video/Leo/GPS_12_ThreeFPHoldSRTProbe/20240803/Top/Clips/Leo_20240803_HoldTrial011_TopView.avi\n",
      "Loading  D:/YuLab/Work/GPS/Video/Leo/GPS_12_ThreeFPHoldSRTProbe/20240803/Top/Clips/Leo_20240803_HoldTrial011_TopView.avi\n",
      "Duration of video [s]:  8.04 , recorded with  25.0 fps!\n",
      "Overall # of frames:  201  found with (before cropping) frame dimensions:  1280 1331\n",
      "Starting to extract posture\n",
      "Cropping based on the x1 = 0 x2 = 1280 y1 = 0 y2 = 1024. You can adjust the cropping coordinates in the config.yaml file.\n"
     ]
    },
    {
     "name": "stderr",
     "output_type": "stream",
     "text": [
      "100%|██████████| 201/201 [00:08<00:00, 23.13it/s]\n"
     ]
    },
    {
     "name": "stdout",
     "output_type": "stream",
     "text": [
      "Saving results in D:\\YuLab\\Work\\GPS\\Video\\Leo\\GPS_12_ThreeFPHoldSRTProbe\\20240803\\Top\\Clips...\n",
      "Saving csv poses!\n",
      "Starting to analyze %  D:/YuLab/Work/GPS/Video/Leo/GPS_12_ThreeFPHoldSRTProbe/20240803/Top/Clips/Leo_20240803_HoldTrial012_TopView.avi\n",
      "Loading  D:/YuLab/Work/GPS/Video/Leo/GPS_12_ThreeFPHoldSRTProbe/20240803/Top/Clips/Leo_20240803_HoldTrial012_TopView.avi\n",
      "Duration of video [s]:  8.04 , recorded with  25.0 fps!\n",
      "Overall # of frames:  201  found with (before cropping) frame dimensions:  1280 1331\n",
      "Starting to extract posture\n",
      "Cropping based on the x1 = 0 x2 = 1280 y1 = 0 y2 = 1024. You can adjust the cropping coordinates in the config.yaml file.\n"
     ]
    },
    {
     "name": "stderr",
     "output_type": "stream",
     "text": [
      "100%|██████████| 201/201 [00:08<00:00, 23.19it/s]\n"
     ]
    },
    {
     "name": "stdout",
     "output_type": "stream",
     "text": [
      "Saving results in D:\\YuLab\\Work\\GPS\\Video\\Leo\\GPS_12_ThreeFPHoldSRTProbe\\20240803\\Top\\Clips...\n",
      "Saving csv poses!\n",
      "Starting to analyze %  D:/YuLab/Work/GPS/Video/Leo/GPS_12_ThreeFPHoldSRTProbe/20240803/Top/Clips/Leo_20240803_HoldTrial013_TopView.avi\n",
      "Loading  D:/YuLab/Work/GPS/Video/Leo/GPS_12_ThreeFPHoldSRTProbe/20240803/Top/Clips/Leo_20240803_HoldTrial013_TopView.avi\n",
      "Duration of video [s]:  8.04 , recorded with  25.0 fps!\n",
      "Overall # of frames:  201  found with (before cropping) frame dimensions:  1280 1331\n",
      "Starting to extract posture\n",
      "Cropping based on the x1 = 0 x2 = 1280 y1 = 0 y2 = 1024. You can adjust the cropping coordinates in the config.yaml file.\n"
     ]
    },
    {
     "name": "stderr",
     "output_type": "stream",
     "text": [
      "100%|██████████| 201/201 [00:08<00:00, 23.22it/s]\n"
     ]
    },
    {
     "name": "stdout",
     "output_type": "stream",
     "text": [
      "Saving results in D:\\YuLab\\Work\\GPS\\Video\\Leo\\GPS_12_ThreeFPHoldSRTProbe\\20240803\\Top\\Clips...\n",
      "Saving csv poses!\n",
      "Starting to analyze %  D:/YuLab/Work/GPS/Video/Leo/GPS_12_ThreeFPHoldSRTProbe/20240803/Top/Clips/Leo_20240803_HoldTrial014_TopView.avi\n",
      "Loading  D:/YuLab/Work/GPS/Video/Leo/GPS_12_ThreeFPHoldSRTProbe/20240803/Top/Clips/Leo_20240803_HoldTrial014_TopView.avi\n",
      "Duration of video [s]:  8.04 , recorded with  25.0 fps!\n",
      "Overall # of frames:  201  found with (before cropping) frame dimensions:  1280 1331\n",
      "Starting to extract posture\n",
      "Cropping based on the x1 = 0 x2 = 1280 y1 = 0 y2 = 1024. You can adjust the cropping coordinates in the config.yaml file.\n"
     ]
    },
    {
     "name": "stderr",
     "output_type": "stream",
     "text": [
      "100%|██████████| 201/201 [00:08<00:00, 23.25it/s]\n"
     ]
    },
    {
     "name": "stdout",
     "output_type": "stream",
     "text": [
      "Saving results in D:\\YuLab\\Work\\GPS\\Video\\Leo\\GPS_12_ThreeFPHoldSRTProbe\\20240803\\Top\\Clips...\n",
      "Saving csv poses!\n",
      "Starting to analyze %  D:/YuLab/Work/GPS/Video/Leo/GPS_12_ThreeFPHoldSRTProbe/20240803/Top/Clips/Leo_20240803_HoldTrial015_TopView.avi\n",
      "Loading  D:/YuLab/Work/GPS/Video/Leo/GPS_12_ThreeFPHoldSRTProbe/20240803/Top/Clips/Leo_20240803_HoldTrial015_TopView.avi\n",
      "Duration of video [s]:  8.04 , recorded with  25.0 fps!\n",
      "Overall # of frames:  201  found with (before cropping) frame dimensions:  1280 1331\n",
      "Starting to extract posture\n",
      "Cropping based on the x1 = 0 x2 = 1280 y1 = 0 y2 = 1024. You can adjust the cropping coordinates in the config.yaml file.\n"
     ]
    },
    {
     "name": "stderr",
     "output_type": "stream",
     "text": [
      "100%|██████████| 201/201 [00:08<00:00, 22.76it/s]\n"
     ]
    },
    {
     "name": "stdout",
     "output_type": "stream",
     "text": [
      "Saving results in D:\\YuLab\\Work\\GPS\\Video\\Leo\\GPS_12_ThreeFPHoldSRTProbe\\20240803\\Top\\Clips...\n",
      "Saving csv poses!\n",
      "Starting to analyze %  D:/YuLab/Work/GPS/Video/Leo/GPS_12_ThreeFPHoldSRTProbe/20240803/Top/Clips/Leo_20240803_HoldTrial016_TopView.avi\n",
      "Loading  D:/YuLab/Work/GPS/Video/Leo/GPS_12_ThreeFPHoldSRTProbe/20240803/Top/Clips/Leo_20240803_HoldTrial016_TopView.avi\n",
      "Duration of video [s]:  8.04 , recorded with  25.0 fps!\n",
      "Overall # of frames:  201  found with (before cropping) frame dimensions:  1280 1331\n",
      "Starting to extract posture\n",
      "Cropping based on the x1 = 0 x2 = 1280 y1 = 0 y2 = 1024. You can adjust the cropping coordinates in the config.yaml file.\n"
     ]
    },
    {
     "name": "stderr",
     "output_type": "stream",
     "text": [
      "100%|██████████| 201/201 [00:08<00:00, 22.61it/s]\n"
     ]
    },
    {
     "name": "stdout",
     "output_type": "stream",
     "text": [
      "Saving results in D:\\YuLab\\Work\\GPS\\Video\\Leo\\GPS_12_ThreeFPHoldSRTProbe\\20240803\\Top\\Clips...\n",
      "Saving csv poses!\n",
      "Starting to analyze %  D:/YuLab/Work/GPS/Video/Leo/GPS_12_ThreeFPHoldSRTProbe/20240803/Top/Clips/Leo_20240803_HoldTrial017_TopView.avi\n",
      "Loading  D:/YuLab/Work/GPS/Video/Leo/GPS_12_ThreeFPHoldSRTProbe/20240803/Top/Clips/Leo_20240803_HoldTrial017_TopView.avi\n",
      "Duration of video [s]:  8.04 , recorded with  25.0 fps!\n",
      "Overall # of frames:  201  found with (before cropping) frame dimensions:  1280 1331\n",
      "Starting to extract posture\n",
      "Cropping based on the x1 = 0 x2 = 1280 y1 = 0 y2 = 1024. You can adjust the cropping coordinates in the config.yaml file.\n"
     ]
    },
    {
     "name": "stderr",
     "output_type": "stream",
     "text": [
      "100%|██████████| 201/201 [00:08<00:00, 22.68it/s]\n"
     ]
    },
    {
     "name": "stdout",
     "output_type": "stream",
     "text": [
      "Saving results in D:\\YuLab\\Work\\GPS\\Video\\Leo\\GPS_12_ThreeFPHoldSRTProbe\\20240803\\Top\\Clips...\n",
      "Saving csv poses!\n",
      "Starting to analyze %  D:/YuLab/Work/GPS/Video/Leo/GPS_12_ThreeFPHoldSRTProbe/20240803/Top/Clips/Leo_20240803_HoldTrial018_TopView.avi\n",
      "Loading  D:/YuLab/Work/GPS/Video/Leo/GPS_12_ThreeFPHoldSRTProbe/20240803/Top/Clips/Leo_20240803_HoldTrial018_TopView.avi\n",
      "Duration of video [s]:  8.04 , recorded with  25.0 fps!\n",
      "Overall # of frames:  201  found with (before cropping) frame dimensions:  1280 1331\n",
      "Starting to extract posture\n",
      "Cropping based on the x1 = 0 x2 = 1280 y1 = 0 y2 = 1024. You can adjust the cropping coordinates in the config.yaml file.\n"
     ]
    },
    {
     "name": "stderr",
     "output_type": "stream",
     "text": [
      "100%|██████████| 201/201 [00:08<00:00, 22.64it/s]\n"
     ]
    },
    {
     "name": "stdout",
     "output_type": "stream",
     "text": [
      "Saving results in D:\\YuLab\\Work\\GPS\\Video\\Leo\\GPS_12_ThreeFPHoldSRTProbe\\20240803\\Top\\Clips...\n",
      "Saving csv poses!\n",
      "Starting to analyze %  D:/YuLab/Work/GPS/Video/Leo/GPS_12_ThreeFPHoldSRTProbe/20240803/Top/Clips/Leo_20240803_HoldTrial019_TopView.avi\n",
      "Loading  D:/YuLab/Work/GPS/Video/Leo/GPS_12_ThreeFPHoldSRTProbe/20240803/Top/Clips/Leo_20240803_HoldTrial019_TopView.avi\n",
      "Duration of video [s]:  8.0 , recorded with  25.0 fps!\n",
      "Overall # of frames:  200  found with (before cropping) frame dimensions:  1280 1331\n",
      "Starting to extract posture\n",
      "Cropping based on the x1 = 0 x2 = 1280 y1 = 0 y2 = 1024. You can adjust the cropping coordinates in the config.yaml file.\n"
     ]
    },
    {
     "name": "stderr",
     "output_type": "stream",
     "text": [
      "100%|██████████| 200/200 [00:08<00:00, 23.49it/s]\n"
     ]
    },
    {
     "name": "stdout",
     "output_type": "stream",
     "text": [
      "Saving results in D:\\YuLab\\Work\\GPS\\Video\\Leo\\GPS_12_ThreeFPHoldSRTProbe\\20240803\\Top\\Clips...\n",
      "Saving csv poses!\n",
      "Starting to analyze %  D:/YuLab/Work/GPS/Video/Leo/GPS_12_ThreeFPHoldSRTProbe/20240803/Top/Clips/Leo_20240803_HoldTrial020_TopView.avi\n",
      "Loading  D:/YuLab/Work/GPS/Video/Leo/GPS_12_ThreeFPHoldSRTProbe/20240803/Top/Clips/Leo_20240803_HoldTrial020_TopView.avi\n",
      "Duration of video [s]:  8.04 , recorded with  25.0 fps!\n",
      "Overall # of frames:  201  found with (before cropping) frame dimensions:  1280 1331\n",
      "Starting to extract posture\n",
      "Cropping based on the x1 = 0 x2 = 1280 y1 = 0 y2 = 1024. You can adjust the cropping coordinates in the config.yaml file.\n"
     ]
    },
    {
     "name": "stderr",
     "output_type": "stream",
     "text": [
      "100%|██████████| 201/201 [00:08<00:00, 23.17it/s]\n"
     ]
    },
    {
     "name": "stdout",
     "output_type": "stream",
     "text": [
      "Saving results in D:\\YuLab\\Work\\GPS\\Video\\Leo\\GPS_12_ThreeFPHoldSRTProbe\\20240803\\Top\\Clips...\n",
      "Saving csv poses!\n",
      "Starting to analyze %  D:/YuLab/Work/GPS/Video/Leo/GPS_12_ThreeFPHoldSRTProbe/20240803/Top/Clips/Leo_20240803_HoldTrial021_TopView.avi\n",
      "Loading  D:/YuLab/Work/GPS/Video/Leo/GPS_12_ThreeFPHoldSRTProbe/20240803/Top/Clips/Leo_20240803_HoldTrial021_TopView.avi\n",
      "Duration of video [s]:  8.04 , recorded with  25.0 fps!\n",
      "Overall # of frames:  201  found with (before cropping) frame dimensions:  1280 1331\n",
      "Starting to extract posture\n",
      "Cropping based on the x1 = 0 x2 = 1280 y1 = 0 y2 = 1024. You can adjust the cropping coordinates in the config.yaml file.\n"
     ]
    },
    {
     "name": "stderr",
     "output_type": "stream",
     "text": [
      "100%|██████████| 201/201 [00:08<00:00, 23.19it/s]\n"
     ]
    },
    {
     "name": "stdout",
     "output_type": "stream",
     "text": [
      "Saving results in D:\\YuLab\\Work\\GPS\\Video\\Leo\\GPS_12_ThreeFPHoldSRTProbe\\20240803\\Top\\Clips...\n",
      "Saving csv poses!\n",
      "Starting to analyze %  D:/YuLab/Work/GPS/Video/Leo/GPS_12_ThreeFPHoldSRTProbe/20240803/Top/Clips/Leo_20240803_HoldTrial022_TopView.avi\n",
      "Loading  D:/YuLab/Work/GPS/Video/Leo/GPS_12_ThreeFPHoldSRTProbe/20240803/Top/Clips/Leo_20240803_HoldTrial022_TopView.avi\n",
      "Duration of video [s]:  8.04 , recorded with  25.0 fps!\n",
      "Overall # of frames:  201  found with (before cropping) frame dimensions:  1280 1331\n",
      "Starting to extract posture\n",
      "Cropping based on the x1 = 0 x2 = 1280 y1 = 0 y2 = 1024. You can adjust the cropping coordinates in the config.yaml file.\n"
     ]
    },
    {
     "name": "stderr",
     "output_type": "stream",
     "text": [
      "100%|██████████| 201/201 [00:08<00:00, 23.13it/s]\n"
     ]
    },
    {
     "name": "stdout",
     "output_type": "stream",
     "text": [
      "Saving results in D:\\YuLab\\Work\\GPS\\Video\\Leo\\GPS_12_ThreeFPHoldSRTProbe\\20240803\\Top\\Clips...\n",
      "Saving csv poses!\n",
      "Starting to analyze %  D:/YuLab/Work/GPS/Video/Leo/GPS_12_ThreeFPHoldSRTProbe/20240803/Top/Clips/Leo_20240803_HoldTrial023_TopView.avi\n",
      "Loading  D:/YuLab/Work/GPS/Video/Leo/GPS_12_ThreeFPHoldSRTProbe/20240803/Top/Clips/Leo_20240803_HoldTrial023_TopView.avi\n",
      "Duration of video [s]:  8.04 , recorded with  25.0 fps!\n",
      "Overall # of frames:  201  found with (before cropping) frame dimensions:  1280 1331\n",
      "Starting to extract posture\n",
      "Cropping based on the x1 = 0 x2 = 1280 y1 = 0 y2 = 1024. You can adjust the cropping coordinates in the config.yaml file.\n"
     ]
    },
    {
     "name": "stderr",
     "output_type": "stream",
     "text": [
      "100%|██████████| 201/201 [00:08<00:00, 23.24it/s]\n"
     ]
    },
    {
     "name": "stdout",
     "output_type": "stream",
     "text": [
      "Saving results in D:\\YuLab\\Work\\GPS\\Video\\Leo\\GPS_12_ThreeFPHoldSRTProbe\\20240803\\Top\\Clips...\n",
      "Saving csv poses!\n",
      "Starting to analyze %  D:/YuLab/Work/GPS/Video/Leo/GPS_12_ThreeFPHoldSRTProbe/20240803/Top/Clips/Leo_20240803_HoldTrial024_TopView.avi\n",
      "Loading  D:/YuLab/Work/GPS/Video/Leo/GPS_12_ThreeFPHoldSRTProbe/20240803/Top/Clips/Leo_20240803_HoldTrial024_TopView.avi\n",
      "Duration of video [s]:  8.04 , recorded with  25.0 fps!\n",
      "Overall # of frames:  201  found with (before cropping) frame dimensions:  1280 1331\n",
      "Starting to extract posture\n",
      "Cropping based on the x1 = 0 x2 = 1280 y1 = 0 y2 = 1024. You can adjust the cropping coordinates in the config.yaml file.\n"
     ]
    },
    {
     "name": "stderr",
     "output_type": "stream",
     "text": [
      "100%|██████████| 201/201 [00:08<00:00, 23.20it/s]\n"
     ]
    },
    {
     "name": "stdout",
     "output_type": "stream",
     "text": [
      "Saving results in D:\\YuLab\\Work\\GPS\\Video\\Leo\\GPS_12_ThreeFPHoldSRTProbe\\20240803\\Top\\Clips...\n",
      "Saving csv poses!\n",
      "Starting to analyze %  D:/YuLab/Work/GPS/Video/Leo/GPS_12_ThreeFPHoldSRTProbe/20240803/Top/Clips/Leo_20240803_HoldTrial025_TopView.avi\n",
      "Loading  D:/YuLab/Work/GPS/Video/Leo/GPS_12_ThreeFPHoldSRTProbe/20240803/Top/Clips/Leo_20240803_HoldTrial025_TopView.avi\n",
      "Duration of video [s]:  8.04 , recorded with  25.0 fps!\n",
      "Overall # of frames:  201  found with (before cropping) frame dimensions:  1280 1331\n",
      "Starting to extract posture\n",
      "Cropping based on the x1 = 0 x2 = 1280 y1 = 0 y2 = 1024. You can adjust the cropping coordinates in the config.yaml file.\n"
     ]
    },
    {
     "name": "stderr",
     "output_type": "stream",
     "text": [
      "100%|██████████| 201/201 [00:08<00:00, 23.24it/s]\n"
     ]
    },
    {
     "name": "stdout",
     "output_type": "stream",
     "text": [
      "Saving results in D:\\YuLab\\Work\\GPS\\Video\\Leo\\GPS_12_ThreeFPHoldSRTProbe\\20240803\\Top\\Clips...\n",
      "Saving csv poses!\n",
      "Starting to analyze %  D:/YuLab/Work/GPS/Video/Leo/GPS_12_ThreeFPHoldSRTProbe/20240803/Top/Clips/Leo_20240803_HoldTrial026_TopView.avi\n",
      "Loading  D:/YuLab/Work/GPS/Video/Leo/GPS_12_ThreeFPHoldSRTProbe/20240803/Top/Clips/Leo_20240803_HoldTrial026_TopView.avi\n",
      "Duration of video [s]:  8.04 , recorded with  25.0 fps!\n",
      "Overall # of frames:  201  found with (before cropping) frame dimensions:  1280 1331\n",
      "Starting to extract posture\n",
      "Cropping based on the x1 = 0 x2 = 1280 y1 = 0 y2 = 1024. You can adjust the cropping coordinates in the config.yaml file.\n"
     ]
    },
    {
     "name": "stderr",
     "output_type": "stream",
     "text": [
      "100%|██████████| 201/201 [00:08<00:00, 23.17it/s]\n"
     ]
    },
    {
     "name": "stdout",
     "output_type": "stream",
     "text": [
      "Saving results in D:\\YuLab\\Work\\GPS\\Video\\Leo\\GPS_12_ThreeFPHoldSRTProbe\\20240803\\Top\\Clips...\n",
      "Saving csv poses!\n",
      "Starting to analyze %  D:/YuLab/Work/GPS/Video/Leo/GPS_12_ThreeFPHoldSRTProbe/20240803/Top/Clips/Leo_20240803_HoldTrial027_TopView.avi\n",
      "Loading  D:/YuLab/Work/GPS/Video/Leo/GPS_12_ThreeFPHoldSRTProbe/20240803/Top/Clips/Leo_20240803_HoldTrial027_TopView.avi\n",
      "Duration of video [s]:  8.04 , recorded with  25.0 fps!\n",
      "Overall # of frames:  201  found with (before cropping) frame dimensions:  1280 1331\n",
      "Starting to extract posture\n",
      "Cropping based on the x1 = 0 x2 = 1280 y1 = 0 y2 = 1024. You can adjust the cropping coordinates in the config.yaml file.\n"
     ]
    },
    {
     "name": "stderr",
     "output_type": "stream",
     "text": [
      "100%|██████████| 201/201 [00:08<00:00, 23.18it/s]\n"
     ]
    },
    {
     "name": "stdout",
     "output_type": "stream",
     "text": [
      "Saving results in D:\\YuLab\\Work\\GPS\\Video\\Leo\\GPS_12_ThreeFPHoldSRTProbe\\20240803\\Top\\Clips...\n",
      "Saving csv poses!\n",
      "Starting to analyze %  D:/YuLab/Work/GPS/Video/Leo/GPS_12_ThreeFPHoldSRTProbe/20240803/Top/Clips/Leo_20240803_HoldTrial028_TopView.avi\n",
      "Loading  D:/YuLab/Work/GPS/Video/Leo/GPS_12_ThreeFPHoldSRTProbe/20240803/Top/Clips/Leo_20240803_HoldTrial028_TopView.avi\n",
      "Duration of video [s]:  8.04 , recorded with  25.0 fps!\n",
      "Overall # of frames:  201  found with (before cropping) frame dimensions:  1280 1331\n",
      "Starting to extract posture\n",
      "Cropping based on the x1 = 0 x2 = 1280 y1 = 0 y2 = 1024. You can adjust the cropping coordinates in the config.yaml file.\n"
     ]
    },
    {
     "name": "stderr",
     "output_type": "stream",
     "text": [
      "100%|██████████| 201/201 [00:08<00:00, 23.13it/s]\n"
     ]
    },
    {
     "name": "stdout",
     "output_type": "stream",
     "text": [
      "Saving results in D:\\YuLab\\Work\\GPS\\Video\\Leo\\GPS_12_ThreeFPHoldSRTProbe\\20240803\\Top\\Clips...\n",
      "Saving csv poses!\n",
      "Starting to analyze %  D:/YuLab/Work/GPS/Video/Leo/GPS_12_ThreeFPHoldSRTProbe/20240803/Top/Clips/Leo_20240803_HoldTrial029_TopView.avi\n",
      "Loading  D:/YuLab/Work/GPS/Video/Leo/GPS_12_ThreeFPHoldSRTProbe/20240803/Top/Clips/Leo_20240803_HoldTrial029_TopView.avi\n",
      "Duration of video [s]:  8.04 , recorded with  25.0 fps!\n",
      "Overall # of frames:  201  found with (before cropping) frame dimensions:  1280 1331\n",
      "Starting to extract posture\n",
      "Cropping based on the x1 = 0 x2 = 1280 y1 = 0 y2 = 1024. You can adjust the cropping coordinates in the config.yaml file.\n"
     ]
    },
    {
     "name": "stderr",
     "output_type": "stream",
     "text": [
      "100%|██████████| 201/201 [00:08<00:00, 23.12it/s]\n"
     ]
    },
    {
     "name": "stdout",
     "output_type": "stream",
     "text": [
      "Saving results in D:\\YuLab\\Work\\GPS\\Video\\Leo\\GPS_12_ThreeFPHoldSRTProbe\\20240803\\Top\\Clips...\n",
      "Saving csv poses!\n",
      "Starting to analyze %  D:/YuLab/Work/GPS/Video/Leo/GPS_12_ThreeFPHoldSRTProbe/20240803/Top/Clips/Leo_20240803_HoldTrial030_TopView.avi\n",
      "Loading  D:/YuLab/Work/GPS/Video/Leo/GPS_12_ThreeFPHoldSRTProbe/20240803/Top/Clips/Leo_20240803_HoldTrial030_TopView.avi\n",
      "Duration of video [s]:  8.04 , recorded with  25.0 fps!\n",
      "Overall # of frames:  201  found with (before cropping) frame dimensions:  1280 1331\n",
      "Starting to extract posture\n",
      "Cropping based on the x1 = 0 x2 = 1280 y1 = 0 y2 = 1024. You can adjust the cropping coordinates in the config.yaml file.\n"
     ]
    },
    {
     "name": "stderr",
     "output_type": "stream",
     "text": [
      "100%|██████████| 201/201 [00:08<00:00, 23.22it/s]\n"
     ]
    },
    {
     "name": "stdout",
     "output_type": "stream",
     "text": [
      "Saving results in D:\\YuLab\\Work\\GPS\\Video\\Leo\\GPS_12_ThreeFPHoldSRTProbe\\20240803\\Top\\Clips...\n",
      "Saving csv poses!\n",
      "Starting to analyze %  D:/YuLab/Work/GPS/Video/Leo/GPS_12_ThreeFPHoldSRTProbe/20240803/Top/Clips/Leo_20240803_HoldTrial031_TopView.avi\n",
      "Loading  D:/YuLab/Work/GPS/Video/Leo/GPS_12_ThreeFPHoldSRTProbe/20240803/Top/Clips/Leo_20240803_HoldTrial031_TopView.avi\n",
      "Duration of video [s]:  8.04 , recorded with  25.0 fps!\n",
      "Overall # of frames:  201  found with (before cropping) frame dimensions:  1280 1331\n",
      "Starting to extract posture\n",
      "Cropping based on the x1 = 0 x2 = 1280 y1 = 0 y2 = 1024. You can adjust the cropping coordinates in the config.yaml file.\n"
     ]
    },
    {
     "name": "stderr",
     "output_type": "stream",
     "text": [
      "100%|██████████| 201/201 [00:08<00:00, 23.20it/s]\n"
     ]
    },
    {
     "name": "stdout",
     "output_type": "stream",
     "text": [
      "Saving results in D:\\YuLab\\Work\\GPS\\Video\\Leo\\GPS_12_ThreeFPHoldSRTProbe\\20240803\\Top\\Clips...\n",
      "Saving csv poses!\n",
      "Starting to analyze %  D:/YuLab/Work/GPS/Video/Leo/GPS_12_ThreeFPHoldSRTProbe/20240804/Top/Clips/Leo_20240804_HoldTrial013_TopView.avi\n",
      "Loading  D:/YuLab/Work/GPS/Video/Leo/GPS_12_ThreeFPHoldSRTProbe/20240804/Top/Clips/Leo_20240804_HoldTrial013_TopView.avi\n",
      "Duration of video [s]:  8.04 , recorded with  25.0 fps!\n",
      "Overall # of frames:  201  found with (before cropping) frame dimensions:  1280 1331\n",
      "Starting to extract posture\n",
      "Cropping based on the x1 = 0 x2 = 1280 y1 = 0 y2 = 1024. You can adjust the cropping coordinates in the config.yaml file.\n"
     ]
    },
    {
     "name": "stderr",
     "output_type": "stream",
     "text": [
      "100%|██████████| 201/201 [00:08<00:00, 23.02it/s]\n"
     ]
    },
    {
     "name": "stdout",
     "output_type": "stream",
     "text": [
      "Saving results in D:\\YuLab\\Work\\GPS\\Video\\Leo\\GPS_12_ThreeFPHoldSRTProbe\\20240804\\Top\\Clips...\n",
      "Saving csv poses!\n",
      "Starting to analyze %  D:/YuLab/Work/GPS/Video/Leo/GPS_12_ThreeFPHoldSRTProbe/20240804/Top/Clips/Leo_20240804_HoldTrial014_TopView.avi\n",
      "Loading  D:/YuLab/Work/GPS/Video/Leo/GPS_12_ThreeFPHoldSRTProbe/20240804/Top/Clips/Leo_20240804_HoldTrial014_TopView.avi\n",
      "Duration of video [s]:  8.04 , recorded with  25.0 fps!\n",
      "Overall # of frames:  201  found with (before cropping) frame dimensions:  1280 1331\n",
      "Starting to extract posture\n",
      "Cropping based on the x1 = 0 x2 = 1280 y1 = 0 y2 = 1024. You can adjust the cropping coordinates in the config.yaml file.\n"
     ]
    },
    {
     "name": "stderr",
     "output_type": "stream",
     "text": [
      "100%|██████████| 201/201 [00:08<00:00, 23.26it/s]\n"
     ]
    },
    {
     "name": "stdout",
     "output_type": "stream",
     "text": [
      "Saving results in D:\\YuLab\\Work\\GPS\\Video\\Leo\\GPS_12_ThreeFPHoldSRTProbe\\20240804\\Top\\Clips...\n",
      "Saving csv poses!\n",
      "Starting to analyze %  D:/YuLab/Work/GPS/Video/Leo/GPS_12_ThreeFPHoldSRTProbe/20240804/Top/Clips/Leo_20240804_HoldTrial015_TopView.avi\n",
      "Loading  D:/YuLab/Work/GPS/Video/Leo/GPS_12_ThreeFPHoldSRTProbe/20240804/Top/Clips/Leo_20240804_HoldTrial015_TopView.avi\n",
      "Duration of video [s]:  8.04 , recorded with  25.0 fps!\n",
      "Overall # of frames:  201  found with (before cropping) frame dimensions:  1280 1331\n",
      "Starting to extract posture\n",
      "Cropping based on the x1 = 0 x2 = 1280 y1 = 0 y2 = 1024. You can adjust the cropping coordinates in the config.yaml file.\n"
     ]
    },
    {
     "name": "stderr",
     "output_type": "stream",
     "text": [
      "100%|██████████| 201/201 [00:08<00:00, 23.28it/s]\n"
     ]
    },
    {
     "name": "stdout",
     "output_type": "stream",
     "text": [
      "Saving results in D:\\YuLab\\Work\\GPS\\Video\\Leo\\GPS_12_ThreeFPHoldSRTProbe\\20240804\\Top\\Clips...\n",
      "Saving csv poses!\n",
      "Starting to analyze %  D:/YuLab/Work/GPS/Video/Leo/GPS_12_ThreeFPHoldSRTProbe/20240804/Top/Clips/Leo_20240804_HoldTrial016_TopView.avi\n",
      "Loading  D:/YuLab/Work/GPS/Video/Leo/GPS_12_ThreeFPHoldSRTProbe/20240804/Top/Clips/Leo_20240804_HoldTrial016_TopView.avi\n",
      "Duration of video [s]:  8.04 , recorded with  25.0 fps!\n",
      "Overall # of frames:  201  found with (before cropping) frame dimensions:  1280 1331\n",
      "Starting to extract posture\n",
      "Cropping based on the x1 = 0 x2 = 1280 y1 = 0 y2 = 1024. You can adjust the cropping coordinates in the config.yaml file.\n"
     ]
    },
    {
     "name": "stderr",
     "output_type": "stream",
     "text": [
      "100%|██████████| 201/201 [00:08<00:00, 23.29it/s]\n"
     ]
    },
    {
     "name": "stdout",
     "output_type": "stream",
     "text": [
      "Saving results in D:\\YuLab\\Work\\GPS\\Video\\Leo\\GPS_12_ThreeFPHoldSRTProbe\\20240804\\Top\\Clips...\n",
      "Saving csv poses!\n",
      "Starting to analyze %  D:/YuLab/Work/GPS/Video/Leo/GPS_12_ThreeFPHoldSRTProbe/20240804/Top/Clips/Leo_20240804_HoldTrial017_TopView.avi\n",
      "Loading  D:/YuLab/Work/GPS/Video/Leo/GPS_12_ThreeFPHoldSRTProbe/20240804/Top/Clips/Leo_20240804_HoldTrial017_TopView.avi\n",
      "Duration of video [s]:  8.04 , recorded with  25.0 fps!\n",
      "Overall # of frames:  201  found with (before cropping) frame dimensions:  1280 1331\n",
      "Starting to extract posture\n",
      "Cropping based on the x1 = 0 x2 = 1280 y1 = 0 y2 = 1024. You can adjust the cropping coordinates in the config.yaml file.\n"
     ]
    },
    {
     "name": "stderr",
     "output_type": "stream",
     "text": [
      "100%|██████████| 201/201 [00:08<00:00, 23.21it/s]\n"
     ]
    },
    {
     "name": "stdout",
     "output_type": "stream",
     "text": [
      "Saving results in D:\\YuLab\\Work\\GPS\\Video\\Leo\\GPS_12_ThreeFPHoldSRTProbe\\20240804\\Top\\Clips...\n",
      "Saving csv poses!\n",
      "Starting to analyze %  D:/YuLab/Work/GPS/Video/Leo/GPS_12_ThreeFPHoldSRTProbe/20240804/Top/Clips/Leo_20240804_HoldTrial018_TopView.avi\n",
      "Loading  D:/YuLab/Work/GPS/Video/Leo/GPS_12_ThreeFPHoldSRTProbe/20240804/Top/Clips/Leo_20240804_HoldTrial018_TopView.avi\n",
      "Duration of video [s]:  8.04 , recorded with  25.0 fps!\n",
      "Overall # of frames:  201  found with (before cropping) frame dimensions:  1280 1331\n",
      "Starting to extract posture\n",
      "Cropping based on the x1 = 0 x2 = 1280 y1 = 0 y2 = 1024. You can adjust the cropping coordinates in the config.yaml file.\n"
     ]
    },
    {
     "name": "stderr",
     "output_type": "stream",
     "text": [
      "100%|██████████| 201/201 [00:08<00:00, 23.26it/s]\n"
     ]
    },
    {
     "name": "stdout",
     "output_type": "stream",
     "text": [
      "Saving results in D:\\YuLab\\Work\\GPS\\Video\\Leo\\GPS_12_ThreeFPHoldSRTProbe\\20240804\\Top\\Clips...\n",
      "Saving csv poses!\n",
      "Starting to analyze %  D:/YuLab/Work/GPS/Video/Leo/GPS_12_ThreeFPHoldSRTProbe/20240804/Top/Clips/Leo_20240804_HoldTrial019_TopView.avi\n",
      "Loading  D:/YuLab/Work/GPS/Video/Leo/GPS_12_ThreeFPHoldSRTProbe/20240804/Top/Clips/Leo_20240804_HoldTrial019_TopView.avi\n",
      "Duration of video [s]:  8.04 , recorded with  25.0 fps!\n",
      "Overall # of frames:  201  found with (before cropping) frame dimensions:  1280 1331\n",
      "Starting to extract posture\n",
      "Cropping based on the x1 = 0 x2 = 1280 y1 = 0 y2 = 1024. You can adjust the cropping coordinates in the config.yaml file.\n"
     ]
    },
    {
     "name": "stderr",
     "output_type": "stream",
     "text": [
      "100%|██████████| 201/201 [00:08<00:00, 23.21it/s]\n"
     ]
    },
    {
     "name": "stdout",
     "output_type": "stream",
     "text": [
      "Saving results in D:\\YuLab\\Work\\GPS\\Video\\Leo\\GPS_12_ThreeFPHoldSRTProbe\\20240804\\Top\\Clips...\n",
      "Saving csv poses!\n",
      "Starting to analyze %  D:/YuLab/Work/GPS/Video/Leo/GPS_12_ThreeFPHoldSRTProbe/20240804/Top/Clips/Leo_20240804_HoldTrial020_TopView.avi\n",
      "Loading  D:/YuLab/Work/GPS/Video/Leo/GPS_12_ThreeFPHoldSRTProbe/20240804/Top/Clips/Leo_20240804_HoldTrial020_TopView.avi\n",
      "Duration of video [s]:  8.04 , recorded with  25.0 fps!\n",
      "Overall # of frames:  201  found with (before cropping) frame dimensions:  1280 1331\n",
      "Starting to extract posture\n",
      "Cropping based on the x1 = 0 x2 = 1280 y1 = 0 y2 = 1024. You can adjust the cropping coordinates in the config.yaml file.\n"
     ]
    },
    {
     "name": "stderr",
     "output_type": "stream",
     "text": [
      "100%|██████████| 201/201 [00:08<00:00, 23.20it/s]\n"
     ]
    },
    {
     "name": "stdout",
     "output_type": "stream",
     "text": [
      "Saving results in D:\\YuLab\\Work\\GPS\\Video\\Leo\\GPS_12_ThreeFPHoldSRTProbe\\20240804\\Top\\Clips...\n",
      "Saving csv poses!\n",
      "Starting to analyze %  D:/YuLab/Work/GPS/Video/Leo/GPS_12_ThreeFPHoldSRTProbe/20240804/Top/Clips/Leo_20240804_HoldTrial021_TopView.avi\n",
      "Loading  D:/YuLab/Work/GPS/Video/Leo/GPS_12_ThreeFPHoldSRTProbe/20240804/Top/Clips/Leo_20240804_HoldTrial021_TopView.avi\n",
      "Duration of video [s]:  8.04 , recorded with  25.0 fps!\n",
      "Overall # of frames:  201  found with (before cropping) frame dimensions:  1280 1331\n",
      "Starting to extract posture\n",
      "Cropping based on the x1 = 0 x2 = 1280 y1 = 0 y2 = 1024. You can adjust the cropping coordinates in the config.yaml file.\n"
     ]
    },
    {
     "name": "stderr",
     "output_type": "stream",
     "text": [
      "100%|██████████| 201/201 [00:08<00:00, 23.17it/s]\n"
     ]
    },
    {
     "name": "stdout",
     "output_type": "stream",
     "text": [
      "Saving results in D:\\YuLab\\Work\\GPS\\Video\\Leo\\GPS_12_ThreeFPHoldSRTProbe\\20240804\\Top\\Clips...\n",
      "Saving csv poses!\n",
      "Starting to analyze %  D:/YuLab/Work/GPS/Video/Leo/GPS_12_ThreeFPHoldSRTProbe/20240804/Top/Clips/Leo_20240804_HoldTrial022_TopView.avi\n",
      "Loading  D:/YuLab/Work/GPS/Video/Leo/GPS_12_ThreeFPHoldSRTProbe/20240804/Top/Clips/Leo_20240804_HoldTrial022_TopView.avi\n",
      "Duration of video [s]:  8.04 , recorded with  25.0 fps!\n",
      "Overall # of frames:  201  found with (before cropping) frame dimensions:  1280 1331\n",
      "Starting to extract posture\n",
      "Cropping based on the x1 = 0 x2 = 1280 y1 = 0 y2 = 1024. You can adjust the cropping coordinates in the config.yaml file.\n"
     ]
    },
    {
     "name": "stderr",
     "output_type": "stream",
     "text": [
      "100%|██████████| 201/201 [00:08<00:00, 23.03it/s]\n"
     ]
    },
    {
     "name": "stdout",
     "output_type": "stream",
     "text": [
      "Saving results in D:\\YuLab\\Work\\GPS\\Video\\Leo\\GPS_12_ThreeFPHoldSRTProbe\\20240804\\Top\\Clips...\n",
      "Saving csv poses!\n",
      "Starting to analyze %  D:/YuLab/Work/GPS/Video/Leo/GPS_12_ThreeFPHoldSRTProbe/20240804/Top/Clips/Leo_20240804_HoldTrial023_TopView.avi\n",
      "Loading  D:/YuLab/Work/GPS/Video/Leo/GPS_12_ThreeFPHoldSRTProbe/20240804/Top/Clips/Leo_20240804_HoldTrial023_TopView.avi\n",
      "Duration of video [s]:  8.04 , recorded with  25.0 fps!\n",
      "Overall # of frames:  201  found with (before cropping) frame dimensions:  1280 1331\n",
      "Starting to extract posture\n",
      "Cropping based on the x1 = 0 x2 = 1280 y1 = 0 y2 = 1024. You can adjust the cropping coordinates in the config.yaml file.\n"
     ]
    },
    {
     "name": "stderr",
     "output_type": "stream",
     "text": [
      "100%|██████████| 201/201 [00:08<00:00, 23.12it/s]\n"
     ]
    },
    {
     "name": "stdout",
     "output_type": "stream",
     "text": [
      "Saving results in D:\\YuLab\\Work\\GPS\\Video\\Leo\\GPS_12_ThreeFPHoldSRTProbe\\20240804\\Top\\Clips...\n",
      "Saving csv poses!\n",
      "Starting to analyze %  D:/YuLab/Work/GPS/Video/Leo/GPS_12_ThreeFPHoldSRTProbe/20240804/Top/Clips/Leo_20240804_HoldTrial024_TopView.avi\n",
      "Loading  D:/YuLab/Work/GPS/Video/Leo/GPS_12_ThreeFPHoldSRTProbe/20240804/Top/Clips/Leo_20240804_HoldTrial024_TopView.avi\n",
      "Duration of video [s]:  8.04 , recorded with  25.0 fps!\n",
      "Overall # of frames:  201  found with (before cropping) frame dimensions:  1280 1331\n",
      "Starting to extract posture\n",
      "Cropping based on the x1 = 0 x2 = 1280 y1 = 0 y2 = 1024. You can adjust the cropping coordinates in the config.yaml file.\n"
     ]
    },
    {
     "name": "stderr",
     "output_type": "stream",
     "text": [
      "100%|██████████| 201/201 [00:08<00:00, 23.21it/s]\n"
     ]
    },
    {
     "name": "stdout",
     "output_type": "stream",
     "text": [
      "Saving results in D:\\YuLab\\Work\\GPS\\Video\\Leo\\GPS_12_ThreeFPHoldSRTProbe\\20240804\\Top\\Clips...\n",
      "Saving csv poses!\n",
      "Starting to analyze %  D:/YuLab/Work/GPS/Video/Leo/GPS_12_ThreeFPHoldSRTProbe/20240804/Top/Clips/Leo_20240804_HoldTrial025_TopView.avi\n",
      "Loading  D:/YuLab/Work/GPS/Video/Leo/GPS_12_ThreeFPHoldSRTProbe/20240804/Top/Clips/Leo_20240804_HoldTrial025_TopView.avi\n",
      "Duration of video [s]:  8.04 , recorded with  25.0 fps!\n",
      "Overall # of frames:  201  found with (before cropping) frame dimensions:  1280 1331\n",
      "Starting to extract posture\n",
      "Cropping based on the x1 = 0 x2 = 1280 y1 = 0 y2 = 1024. You can adjust the cropping coordinates in the config.yaml file.\n"
     ]
    },
    {
     "name": "stderr",
     "output_type": "stream",
     "text": [
      "100%|██████████| 201/201 [00:08<00:00, 23.29it/s]\n"
     ]
    },
    {
     "name": "stdout",
     "output_type": "stream",
     "text": [
      "Saving results in D:\\YuLab\\Work\\GPS\\Video\\Leo\\GPS_12_ThreeFPHoldSRTProbe\\20240804\\Top\\Clips...\n",
      "Saving csv poses!\n",
      "Starting to analyze %  D:/YuLab/Work/GPS/Video/Leo/GPS_12_ThreeFPHoldSRTProbe/20240804/Top/Clips/Leo_20240804_HoldTrial026_TopView.avi\n",
      "Loading  D:/YuLab/Work/GPS/Video/Leo/GPS_12_ThreeFPHoldSRTProbe/20240804/Top/Clips/Leo_20240804_HoldTrial026_TopView.avi\n",
      "Duration of video [s]:  8.04 , recorded with  25.0 fps!\n",
      "Overall # of frames:  201  found with (before cropping) frame dimensions:  1280 1331\n",
      "Starting to extract posture\n",
      "Cropping based on the x1 = 0 x2 = 1280 y1 = 0 y2 = 1024. You can adjust the cropping coordinates in the config.yaml file.\n"
     ]
    },
    {
     "name": "stderr",
     "output_type": "stream",
     "text": [
      "100%|██████████| 201/201 [00:08<00:00, 23.20it/s]\n"
     ]
    },
    {
     "name": "stdout",
     "output_type": "stream",
     "text": [
      "Saving results in D:\\YuLab\\Work\\GPS\\Video\\Leo\\GPS_12_ThreeFPHoldSRTProbe\\20240804\\Top\\Clips...\n",
      "Saving csv poses!\n",
      "Starting to analyze %  D:/YuLab/Work/GPS/Video/Leo/GPS_12_ThreeFPHoldSRTProbe/20240804/Top/Clips/Leo_20240804_HoldTrial027_TopView.avi\n",
      "Loading  D:/YuLab/Work/GPS/Video/Leo/GPS_12_ThreeFPHoldSRTProbe/20240804/Top/Clips/Leo_20240804_HoldTrial027_TopView.avi\n",
      "Duration of video [s]:  8.04 , recorded with  25.0 fps!\n",
      "Overall # of frames:  201  found with (before cropping) frame dimensions:  1280 1331\n",
      "Starting to extract posture\n",
      "Cropping based on the x1 = 0 x2 = 1280 y1 = 0 y2 = 1024. You can adjust the cropping coordinates in the config.yaml file.\n"
     ]
    },
    {
     "name": "stderr",
     "output_type": "stream",
     "text": [
      "100%|██████████| 201/201 [00:08<00:00, 23.22it/s]\n"
     ]
    },
    {
     "name": "stdout",
     "output_type": "stream",
     "text": [
      "Saving results in D:\\YuLab\\Work\\GPS\\Video\\Leo\\GPS_12_ThreeFPHoldSRTProbe\\20240804\\Top\\Clips...\n",
      "Saving csv poses!\n",
      "Starting to analyze %  D:/YuLab/Work/GPS/Video/Leo/GPS_12_ThreeFPHoldSRTProbe/20240804/Top/Clips/Leo_20240804_HoldTrial028_TopView.avi\n",
      "Loading  D:/YuLab/Work/GPS/Video/Leo/GPS_12_ThreeFPHoldSRTProbe/20240804/Top/Clips/Leo_20240804_HoldTrial028_TopView.avi\n",
      "Duration of video [s]:  8.04 , recorded with  25.0 fps!\n",
      "Overall # of frames:  201  found with (before cropping) frame dimensions:  1280 1331\n",
      "Starting to extract posture\n",
      "Cropping based on the x1 = 0 x2 = 1280 y1 = 0 y2 = 1024. You can adjust the cropping coordinates in the config.yaml file.\n"
     ]
    },
    {
     "name": "stderr",
     "output_type": "stream",
     "text": [
      "100%|██████████| 201/201 [00:08<00:00, 23.17it/s]\n"
     ]
    },
    {
     "name": "stdout",
     "output_type": "stream",
     "text": [
      "Saving results in D:\\YuLab\\Work\\GPS\\Video\\Leo\\GPS_12_ThreeFPHoldSRTProbe\\20240804\\Top\\Clips...\n",
      "Saving csv poses!\n",
      "Starting to analyze %  D:/YuLab/Work/GPS/Video/Leo/GPS_12_ThreeFPHoldSRTProbe/20240804/Top/Clips/Leo_20240804_HoldTrial029_TopView.avi\n",
      "Loading  D:/YuLab/Work/GPS/Video/Leo/GPS_12_ThreeFPHoldSRTProbe/20240804/Top/Clips/Leo_20240804_HoldTrial029_TopView.avi\n",
      "Duration of video [s]:  8.04 , recorded with  25.0 fps!\n",
      "Overall # of frames:  201  found with (before cropping) frame dimensions:  1280 1331\n",
      "Starting to extract posture\n",
      "Cropping based on the x1 = 0 x2 = 1280 y1 = 0 y2 = 1024. You can adjust the cropping coordinates in the config.yaml file.\n"
     ]
    },
    {
     "name": "stderr",
     "output_type": "stream",
     "text": [
      "100%|██████████| 201/201 [00:08<00:00, 23.18it/s]\n"
     ]
    },
    {
     "name": "stdout",
     "output_type": "stream",
     "text": [
      "Saving results in D:\\YuLab\\Work\\GPS\\Video\\Leo\\GPS_12_ThreeFPHoldSRTProbe\\20240804\\Top\\Clips...\n",
      "Saving csv poses!\n",
      "Starting to analyze %  D:/YuLab/Work/GPS/Video/Leo/GPS_12_ThreeFPHoldSRTProbe/20240804/Top/Clips/Leo_20240804_HoldTrial030_TopView.avi\n",
      "Loading  D:/YuLab/Work/GPS/Video/Leo/GPS_12_ThreeFPHoldSRTProbe/20240804/Top/Clips/Leo_20240804_HoldTrial030_TopView.avi\n",
      "Duration of video [s]:  8.04 , recorded with  25.0 fps!\n",
      "Overall # of frames:  201  found with (before cropping) frame dimensions:  1280 1331\n",
      "Starting to extract posture\n",
      "Cropping based on the x1 = 0 x2 = 1280 y1 = 0 y2 = 1024. You can adjust the cropping coordinates in the config.yaml file.\n"
     ]
    },
    {
     "name": "stderr",
     "output_type": "stream",
     "text": [
      "100%|██████████| 201/201 [00:08<00:00, 23.19it/s]\n"
     ]
    },
    {
     "name": "stdout",
     "output_type": "stream",
     "text": [
      "Saving results in D:\\YuLab\\Work\\GPS\\Video\\Leo\\GPS_12_ThreeFPHoldSRTProbe\\20240804\\Top\\Clips...\n",
      "Saving csv poses!\n",
      "Starting to analyze %  D:/YuLab/Work/GPS/Video/Leo/GPS_12_ThreeFPHoldSRTProbe/20240804/Top/Clips/Leo_20240804_HoldTrial031_TopView.avi\n",
      "Loading  D:/YuLab/Work/GPS/Video/Leo/GPS_12_ThreeFPHoldSRTProbe/20240804/Top/Clips/Leo_20240804_HoldTrial031_TopView.avi\n",
      "Duration of video [s]:  8.04 , recorded with  25.0 fps!\n",
      "Overall # of frames:  201  found with (before cropping) frame dimensions:  1280 1331\n",
      "Starting to extract posture\n",
      "Cropping based on the x1 = 0 x2 = 1280 y1 = 0 y2 = 1024. You can adjust the cropping coordinates in the config.yaml file.\n"
     ]
    },
    {
     "name": "stderr",
     "output_type": "stream",
     "text": [
      "100%|██████████| 201/201 [00:08<00:00, 23.16it/s]\n"
     ]
    },
    {
     "name": "stdout",
     "output_type": "stream",
     "text": [
      "Saving results in D:\\YuLab\\Work\\GPS\\Video\\Leo\\GPS_12_ThreeFPHoldSRTProbe\\20240804\\Top\\Clips...\n",
      "Saving csv poses!\n",
      "Starting to analyze %  D:/YuLab/Work/GPS/Video/Leo/GPS_12_ThreeFPHoldSRTProbe/20240804/Top/Clips/Leo_20240804_HoldTrial032_TopView.avi\n",
      "Loading  D:/YuLab/Work/GPS/Video/Leo/GPS_12_ThreeFPHoldSRTProbe/20240804/Top/Clips/Leo_20240804_HoldTrial032_TopView.avi\n",
      "Duration of video [s]:  8.04 , recorded with  25.0 fps!\n",
      "Overall # of frames:  201  found with (before cropping) frame dimensions:  1280 1331\n",
      "Starting to extract posture\n",
      "Cropping based on the x1 = 0 x2 = 1280 y1 = 0 y2 = 1024. You can adjust the cropping coordinates in the config.yaml file.\n"
     ]
    },
    {
     "name": "stderr",
     "output_type": "stream",
     "text": [
      "100%|██████████| 201/201 [00:08<00:00, 23.24it/s]\n"
     ]
    },
    {
     "name": "stdout",
     "output_type": "stream",
     "text": [
      "Saving results in D:\\YuLab\\Work\\GPS\\Video\\Leo\\GPS_12_ThreeFPHoldSRTProbe\\20240804\\Top\\Clips...\n",
      "Saving csv poses!\n",
      "Starting to analyze %  D:/YuLab/Work/GPS/Video/Leo/GPS_12_ThreeFPHoldSRTProbe/20240804/Top/Clips/Leo_20240804_HoldTrial033_TopView.avi\n",
      "Loading  D:/YuLab/Work/GPS/Video/Leo/GPS_12_ThreeFPHoldSRTProbe/20240804/Top/Clips/Leo_20240804_HoldTrial033_TopView.avi\n",
      "Duration of video [s]:  8.04 , recorded with  25.0 fps!\n",
      "Overall # of frames:  201  found with (before cropping) frame dimensions:  1280 1331\n",
      "Starting to extract posture\n",
      "Cropping based on the x1 = 0 x2 = 1280 y1 = 0 y2 = 1024. You can adjust the cropping coordinates in the config.yaml file.\n"
     ]
    },
    {
     "name": "stderr",
     "output_type": "stream",
     "text": [
      "100%|██████████| 201/201 [00:08<00:00, 23.21it/s]\n"
     ]
    },
    {
     "name": "stdout",
     "output_type": "stream",
     "text": [
      "Saving results in D:\\YuLab\\Work\\GPS\\Video\\Leo\\GPS_12_ThreeFPHoldSRTProbe\\20240804\\Top\\Clips...\n",
      "Saving csv poses!\n",
      "Starting to analyze %  D:/YuLab/Work/GPS/Video/Leo/GPS_12_ThreeFPHoldSRTProbe/20240804/Top/Clips/Leo_20240804_HoldTrial034_TopView.avi\n",
      "Loading  D:/YuLab/Work/GPS/Video/Leo/GPS_12_ThreeFPHoldSRTProbe/20240804/Top/Clips/Leo_20240804_HoldTrial034_TopView.avi\n",
      "Duration of video [s]:  8.04 , recorded with  25.0 fps!\n",
      "Overall # of frames:  201  found with (before cropping) frame dimensions:  1280 1331\n",
      "Starting to extract posture\n",
      "Cropping based on the x1 = 0 x2 = 1280 y1 = 0 y2 = 1024. You can adjust the cropping coordinates in the config.yaml file.\n"
     ]
    },
    {
     "name": "stderr",
     "output_type": "stream",
     "text": [
      "100%|██████████| 201/201 [00:08<00:00, 23.20it/s]\n"
     ]
    },
    {
     "name": "stdout",
     "output_type": "stream",
     "text": [
      "Saving results in D:\\YuLab\\Work\\GPS\\Video\\Leo\\GPS_12_ThreeFPHoldSRTProbe\\20240804\\Top\\Clips...\n",
      "Saving csv poses!\n",
      "Starting to analyze %  D:/YuLab/Work/GPS/Video/Leo/GPS_12_ThreeFPHoldSRTProbe/20240804/Top/Clips/Leo_20240804_HoldTrial035_TopView.avi\n",
      "Loading  D:/YuLab/Work/GPS/Video/Leo/GPS_12_ThreeFPHoldSRTProbe/20240804/Top/Clips/Leo_20240804_HoldTrial035_TopView.avi\n",
      "Duration of video [s]:  8.04 , recorded with  25.0 fps!\n",
      "Overall # of frames:  201  found with (before cropping) frame dimensions:  1280 1331\n",
      "Starting to extract posture\n",
      "Cropping based on the x1 = 0 x2 = 1280 y1 = 0 y2 = 1024. You can adjust the cropping coordinates in the config.yaml file.\n"
     ]
    },
    {
     "name": "stderr",
     "output_type": "stream",
     "text": [
      "100%|██████████| 201/201 [00:08<00:00, 23.22it/s]\n"
     ]
    },
    {
     "name": "stdout",
     "output_type": "stream",
     "text": [
      "Saving results in D:\\YuLab\\Work\\GPS\\Video\\Leo\\GPS_12_ThreeFPHoldSRTProbe\\20240804\\Top\\Clips...\n",
      "Saving csv poses!\n",
      "Starting to analyze %  D:/YuLab/Work/GPS/Video/Leo/GPS_12_ThreeFPHoldSRTProbe/20240804/Top/Clips/Leo_20240804_HoldTrial036_TopView.avi\n",
      "Loading  D:/YuLab/Work/GPS/Video/Leo/GPS_12_ThreeFPHoldSRTProbe/20240804/Top/Clips/Leo_20240804_HoldTrial036_TopView.avi\n",
      "Duration of video [s]:  8.04 , recorded with  25.0 fps!\n",
      "Overall # of frames:  201  found with (before cropping) frame dimensions:  1280 1331\n",
      "Starting to extract posture\n",
      "Cropping based on the x1 = 0 x2 = 1280 y1 = 0 y2 = 1024. You can adjust the cropping coordinates in the config.yaml file.\n"
     ]
    },
    {
     "name": "stderr",
     "output_type": "stream",
     "text": [
      "100%|██████████| 201/201 [00:08<00:00, 23.17it/s]\n"
     ]
    },
    {
     "name": "stdout",
     "output_type": "stream",
     "text": [
      "Saving results in D:\\YuLab\\Work\\GPS\\Video\\Leo\\GPS_12_ThreeFPHoldSRTProbe\\20240804\\Top\\Clips...\n",
      "Saving csv poses!\n",
      "Starting to analyze %  D:/YuLab/Work/GPS/Video/Leo/GPS_12_ThreeFPHoldSRTProbe/20240804/Top/Clips/Leo_20240804_HoldTrial037_TopView.avi\n",
      "Loading  D:/YuLab/Work/GPS/Video/Leo/GPS_12_ThreeFPHoldSRTProbe/20240804/Top/Clips/Leo_20240804_HoldTrial037_TopView.avi\n",
      "Duration of video [s]:  8.04 , recorded with  25.0 fps!\n",
      "Overall # of frames:  201  found with (before cropping) frame dimensions:  1280 1331\n",
      "Starting to extract posture\n",
      "Cropping based on the x1 = 0 x2 = 1280 y1 = 0 y2 = 1024. You can adjust the cropping coordinates in the config.yaml file.\n"
     ]
    },
    {
     "name": "stderr",
     "output_type": "stream",
     "text": [
      "100%|██████████| 201/201 [00:08<00:00, 23.18it/s]\n"
     ]
    },
    {
     "name": "stdout",
     "output_type": "stream",
     "text": [
      "Saving results in D:\\YuLab\\Work\\GPS\\Video\\Leo\\GPS_12_ThreeFPHoldSRTProbe\\20240804\\Top\\Clips...\n",
      "Saving csv poses!\n",
      "Starting to analyze %  D:/YuLab/Work/GPS/Video/Leo/GPS_12_ThreeFPHoldSRTProbe/20240804/Top/Clips/Leo_20240804_HoldTrial038_TopView.avi\n",
      "Loading  D:/YuLab/Work/GPS/Video/Leo/GPS_12_ThreeFPHoldSRTProbe/20240804/Top/Clips/Leo_20240804_HoldTrial038_TopView.avi\n",
      "Duration of video [s]:  8.04 , recorded with  25.0 fps!\n",
      "Overall # of frames:  201  found with (before cropping) frame dimensions:  1280 1331\n",
      "Starting to extract posture\n",
      "Cropping based on the x1 = 0 x2 = 1280 y1 = 0 y2 = 1024. You can adjust the cropping coordinates in the config.yaml file.\n"
     ]
    },
    {
     "name": "stderr",
     "output_type": "stream",
     "text": [
      "100%|██████████| 201/201 [00:08<00:00, 23.14it/s]\n"
     ]
    },
    {
     "name": "stdout",
     "output_type": "stream",
     "text": [
      "Saving results in D:\\YuLab\\Work\\GPS\\Video\\Leo\\GPS_12_ThreeFPHoldSRTProbe\\20240804\\Top\\Clips...\n",
      "Saving csv poses!\n",
      "Starting to analyze %  D:/YuLab/Work/GPS/Video/Leo/GPS_12_ThreeFPHoldSRTProbe/20240804/Top/Clips/Leo_20240804_HoldTrial039_TopView.avi\n",
      "Loading  D:/YuLab/Work/GPS/Video/Leo/GPS_12_ThreeFPHoldSRTProbe/20240804/Top/Clips/Leo_20240804_HoldTrial039_TopView.avi\n",
      "Duration of video [s]:  8.04 , recorded with  25.0 fps!\n",
      "Overall # of frames:  201  found with (before cropping) frame dimensions:  1280 1331\n",
      "Starting to extract posture\n",
      "Cropping based on the x1 = 0 x2 = 1280 y1 = 0 y2 = 1024. You can adjust the cropping coordinates in the config.yaml file.\n"
     ]
    },
    {
     "name": "stderr",
     "output_type": "stream",
     "text": [
      "100%|██████████| 201/201 [00:08<00:00, 23.13it/s]\n"
     ]
    },
    {
     "name": "stdout",
     "output_type": "stream",
     "text": [
      "Saving results in D:\\YuLab\\Work\\GPS\\Video\\Leo\\GPS_12_ThreeFPHoldSRTProbe\\20240804\\Top\\Clips...\n",
      "Saving csv poses!\n",
      "Starting to analyze %  D:/YuLab/Work/GPS/Video/Leo/GPS_12_ThreeFPHoldSRTProbe/20240804/Top/Clips/Leo_20240804_HoldTrial040_TopView.avi\n",
      "Loading  D:/YuLab/Work/GPS/Video/Leo/GPS_12_ThreeFPHoldSRTProbe/20240804/Top/Clips/Leo_20240804_HoldTrial040_TopView.avi\n",
      "Duration of video [s]:  8.04 , recorded with  25.0 fps!\n",
      "Overall # of frames:  201  found with (before cropping) frame dimensions:  1280 1331\n",
      "Starting to extract posture\n",
      "Cropping based on the x1 = 0 x2 = 1280 y1 = 0 y2 = 1024. You can adjust the cropping coordinates in the config.yaml file.\n"
     ]
    },
    {
     "name": "stderr",
     "output_type": "stream",
     "text": [
      "100%|██████████| 201/201 [00:08<00:00, 23.19it/s]\n"
     ]
    },
    {
     "name": "stdout",
     "output_type": "stream",
     "text": [
      "Saving results in D:\\YuLab\\Work\\GPS\\Video\\Leo\\GPS_12_ThreeFPHoldSRTProbe\\20240804\\Top\\Clips...\n",
      "Saving csv poses!\n",
      "Starting to analyze %  D:/YuLab/Work/GPS/Video/Leo/GPS_12_ThreeFPHoldSRTProbe/20240804/Top/Clips/Leo_20240804_HoldTrial041_TopView.avi\n",
      "Loading  D:/YuLab/Work/GPS/Video/Leo/GPS_12_ThreeFPHoldSRTProbe/20240804/Top/Clips/Leo_20240804_HoldTrial041_TopView.avi\n",
      "Duration of video [s]:  8.04 , recorded with  25.0 fps!\n",
      "Overall # of frames:  201  found with (before cropping) frame dimensions:  1280 1331\n",
      "Starting to extract posture\n",
      "Cropping based on the x1 = 0 x2 = 1280 y1 = 0 y2 = 1024. You can adjust the cropping coordinates in the config.yaml file.\n"
     ]
    },
    {
     "name": "stderr",
     "output_type": "stream",
     "text": [
      "100%|██████████| 201/201 [00:08<00:00, 23.19it/s]\n"
     ]
    },
    {
     "name": "stdout",
     "output_type": "stream",
     "text": [
      "Saving results in D:\\YuLab\\Work\\GPS\\Video\\Leo\\GPS_12_ThreeFPHoldSRTProbe\\20240804\\Top\\Clips...\n",
      "Saving csv poses!\n",
      "Starting to analyze %  D:/YuLab/Work/GPS/Video/Leo/GPS_12_ThreeFPHoldSRTProbe/20240804/Top/Clips/Leo_20240804_HoldTrial042_TopView.avi\n",
      "Loading  D:/YuLab/Work/GPS/Video/Leo/GPS_12_ThreeFPHoldSRTProbe/20240804/Top/Clips/Leo_20240804_HoldTrial042_TopView.avi\n",
      "Duration of video [s]:  8.04 , recorded with  25.0 fps!\n",
      "Overall # of frames:  201  found with (before cropping) frame dimensions:  1280 1331\n",
      "Starting to extract posture\n",
      "Cropping based on the x1 = 0 x2 = 1280 y1 = 0 y2 = 1024. You can adjust the cropping coordinates in the config.yaml file.\n"
     ]
    },
    {
     "name": "stderr",
     "output_type": "stream",
     "text": [
      "100%|██████████| 201/201 [00:08<00:00, 23.10it/s]\n"
     ]
    },
    {
     "name": "stdout",
     "output_type": "stream",
     "text": [
      "Saving results in D:\\YuLab\\Work\\GPS\\Video\\Leo\\GPS_12_ThreeFPHoldSRTProbe\\20240804\\Top\\Clips...\n",
      "Saving csv poses!\n",
      "Starting to analyze %  D:/YuLab/Work/GPS/Video/Leo/GPS_12_ThreeFPHoldSRTProbe/20240804/Top/Clips/Leo_20240804_HoldTrial043_TopView.avi\n",
      "Loading  D:/YuLab/Work/GPS/Video/Leo/GPS_12_ThreeFPHoldSRTProbe/20240804/Top/Clips/Leo_20240804_HoldTrial043_TopView.avi\n",
      "Duration of video [s]:  8.04 , recorded with  25.0 fps!\n",
      "Overall # of frames:  201  found with (before cropping) frame dimensions:  1280 1331\n",
      "Starting to extract posture\n",
      "Cropping based on the x1 = 0 x2 = 1280 y1 = 0 y2 = 1024. You can adjust the cropping coordinates in the config.yaml file.\n"
     ]
    },
    {
     "name": "stderr",
     "output_type": "stream",
     "text": [
      "100%|██████████| 201/201 [00:08<00:00, 23.07it/s]\n"
     ]
    },
    {
     "name": "stdout",
     "output_type": "stream",
     "text": [
      "Saving results in D:\\YuLab\\Work\\GPS\\Video\\Leo\\GPS_12_ThreeFPHoldSRTProbe\\20240804\\Top\\Clips...\n",
      "Saving csv poses!\n",
      "Starting to analyze %  D:/YuLab/Work/GPS/Video/Leo/GPS_12_ThreeFPHoldSRTProbe/20240804/Top/Clips/Leo_20240804_HoldTrial044_TopView.avi\n",
      "Loading  D:/YuLab/Work/GPS/Video/Leo/GPS_12_ThreeFPHoldSRTProbe/20240804/Top/Clips/Leo_20240804_HoldTrial044_TopView.avi\n",
      "Duration of video [s]:  8.04 , recorded with  25.0 fps!\n",
      "Overall # of frames:  201  found with (before cropping) frame dimensions:  1280 1331\n",
      "Starting to extract posture\n",
      "Cropping based on the x1 = 0 x2 = 1280 y1 = 0 y2 = 1024. You can adjust the cropping coordinates in the config.yaml file.\n"
     ]
    },
    {
     "name": "stderr",
     "output_type": "stream",
     "text": [
      "100%|██████████| 201/201 [00:08<00:00, 23.16it/s]\n"
     ]
    },
    {
     "name": "stdout",
     "output_type": "stream",
     "text": [
      "Saving results in D:\\YuLab\\Work\\GPS\\Video\\Leo\\GPS_12_ThreeFPHoldSRTProbe\\20240804\\Top\\Clips...\n",
      "Saving csv poses!\n",
      "Starting to analyze %  D:/YuLab/Work/GPS/Video/Leo/GPS_12_ThreeFPHoldSRTProbe/20240804/Top/Clips/Leo_20240804_HoldTrial045_TopView.avi\n",
      "Loading  D:/YuLab/Work/GPS/Video/Leo/GPS_12_ThreeFPHoldSRTProbe/20240804/Top/Clips/Leo_20240804_HoldTrial045_TopView.avi\n",
      "Duration of video [s]:  8.04 , recorded with  25.0 fps!\n",
      "Overall # of frames:  201  found with (before cropping) frame dimensions:  1280 1331\n",
      "Starting to extract posture\n",
      "Cropping based on the x1 = 0 x2 = 1280 y1 = 0 y2 = 1024. You can adjust the cropping coordinates in the config.yaml file.\n"
     ]
    },
    {
     "name": "stderr",
     "output_type": "stream",
     "text": [
      "100%|██████████| 201/201 [00:08<00:00, 23.17it/s]\n"
     ]
    },
    {
     "name": "stdout",
     "output_type": "stream",
     "text": [
      "Saving results in D:\\YuLab\\Work\\GPS\\Video\\Leo\\GPS_12_ThreeFPHoldSRTProbe\\20240804\\Top\\Clips...\n",
      "Saving csv poses!\n",
      "Starting to analyze %  D:/YuLab/Work/GPS/Video/Leo/GPS_12_ThreeFPHoldSRTProbe/20240804/Top/Clips/Leo_20240804_HoldTrial046_TopView.avi\n",
      "Loading  D:/YuLab/Work/GPS/Video/Leo/GPS_12_ThreeFPHoldSRTProbe/20240804/Top/Clips/Leo_20240804_HoldTrial046_TopView.avi\n",
      "Duration of video [s]:  8.04 , recorded with  25.0 fps!\n",
      "Overall # of frames:  201  found with (before cropping) frame dimensions:  1280 1331\n",
      "Starting to extract posture\n",
      "Cropping based on the x1 = 0 x2 = 1280 y1 = 0 y2 = 1024. You can adjust the cropping coordinates in the config.yaml file.\n"
     ]
    },
    {
     "name": "stderr",
     "output_type": "stream",
     "text": [
      "100%|██████████| 201/201 [00:08<00:00, 23.19it/s]\n"
     ]
    },
    {
     "name": "stdout",
     "output_type": "stream",
     "text": [
      "Saving results in D:\\YuLab\\Work\\GPS\\Video\\Leo\\GPS_12_ThreeFPHoldSRTProbe\\20240804\\Top\\Clips...\n",
      "Saving csv poses!\n",
      "Starting to analyze %  D:/YuLab/Work/GPS/Video/Leo/GPS_12_ThreeFPHoldSRTProbe/20240804/Top/Clips/Leo_20240804_HoldTrial047_TopView.avi\n",
      "Loading  D:/YuLab/Work/GPS/Video/Leo/GPS_12_ThreeFPHoldSRTProbe/20240804/Top/Clips/Leo_20240804_HoldTrial047_TopView.avi\n",
      "Duration of video [s]:  8.04 , recorded with  25.0 fps!\n",
      "Overall # of frames:  201  found with (before cropping) frame dimensions:  1280 1331\n",
      "Starting to extract posture\n",
      "Cropping based on the x1 = 0 x2 = 1280 y1 = 0 y2 = 1024. You can adjust the cropping coordinates in the config.yaml file.\n"
     ]
    },
    {
     "name": "stderr",
     "output_type": "stream",
     "text": [
      "100%|██████████| 201/201 [00:08<00:00, 23.15it/s]\n"
     ]
    },
    {
     "name": "stdout",
     "output_type": "stream",
     "text": [
      "Saving results in D:\\YuLab\\Work\\GPS\\Video\\Leo\\GPS_12_ThreeFPHoldSRTProbe\\20240804\\Top\\Clips...\n",
      "Saving csv poses!\n",
      "Starting to analyze %  D:/YuLab/Work/GPS/Video/Leo/GPS_12_ThreeFPHoldSRTProbe/20240804/Top/Clips/Leo_20240804_HoldTrial048_TopView.avi\n",
      "Loading  D:/YuLab/Work/GPS/Video/Leo/GPS_12_ThreeFPHoldSRTProbe/20240804/Top/Clips/Leo_20240804_HoldTrial048_TopView.avi\n",
      "Duration of video [s]:  8.04 , recorded with  25.0 fps!\n",
      "Overall # of frames:  201  found with (before cropping) frame dimensions:  1280 1331\n",
      "Starting to extract posture\n",
      "Cropping based on the x1 = 0 x2 = 1280 y1 = 0 y2 = 1024. You can adjust the cropping coordinates in the config.yaml file.\n"
     ]
    },
    {
     "name": "stderr",
     "output_type": "stream",
     "text": [
      "100%|██████████| 201/201 [00:08<00:00, 23.17it/s]\n"
     ]
    },
    {
     "name": "stdout",
     "output_type": "stream",
     "text": [
      "Saving results in D:\\YuLab\\Work\\GPS\\Video\\Leo\\GPS_12_ThreeFPHoldSRTProbe\\20240804\\Top\\Clips...\n",
      "Saving csv poses!\n",
      "Starting to analyze %  D:/YuLab/Work/GPS/Video/Leo/GPS_12_ThreeFPHoldSRTProbe/20240804/Top/Clips/Leo_20240804_HoldTrial049_TopView.avi\n",
      "Loading  D:/YuLab/Work/GPS/Video/Leo/GPS_12_ThreeFPHoldSRTProbe/20240804/Top/Clips/Leo_20240804_HoldTrial049_TopView.avi\n",
      "Duration of video [s]:  8.04 , recorded with  25.0 fps!\n",
      "Overall # of frames:  201  found with (before cropping) frame dimensions:  1280 1331\n",
      "Starting to extract posture\n",
      "Cropping based on the x1 = 0 x2 = 1280 y1 = 0 y2 = 1024. You can adjust the cropping coordinates in the config.yaml file.\n"
     ]
    },
    {
     "name": "stderr",
     "output_type": "stream",
     "text": [
      "100%|██████████| 201/201 [00:08<00:00, 23.10it/s]\n"
     ]
    },
    {
     "name": "stdout",
     "output_type": "stream",
     "text": [
      "Saving results in D:\\YuLab\\Work\\GPS\\Video\\Leo\\GPS_12_ThreeFPHoldSRTProbe\\20240804\\Top\\Clips...\n",
      "Saving csv poses!\n",
      "Starting to analyze %  D:/YuLab/Work/GPS/Video/Leo/GPS_12_ThreeFPHoldSRTProbe/20240804/Top/Clips/Leo_20240804_HoldTrial050_TopView.avi\n",
      "Loading  D:/YuLab/Work/GPS/Video/Leo/GPS_12_ThreeFPHoldSRTProbe/20240804/Top/Clips/Leo_20240804_HoldTrial050_TopView.avi\n",
      "Duration of video [s]:  8.04 , recorded with  25.0 fps!\n",
      "Overall # of frames:  201  found with (before cropping) frame dimensions:  1280 1331\n",
      "Starting to extract posture\n",
      "Cropping based on the x1 = 0 x2 = 1280 y1 = 0 y2 = 1024. You can adjust the cropping coordinates in the config.yaml file.\n"
     ]
    },
    {
     "name": "stderr",
     "output_type": "stream",
     "text": [
      "100%|██████████| 201/201 [00:08<00:00, 23.04it/s]\n"
     ]
    },
    {
     "name": "stdout",
     "output_type": "stream",
     "text": [
      "Saving results in D:\\YuLab\\Work\\GPS\\Video\\Leo\\GPS_12_ThreeFPHoldSRTProbe\\20240804\\Top\\Clips...\n",
      "Saving csv poses!\n",
      "Starting to analyze %  D:/YuLab/Work/GPS/Video/Leo/GPS_12_ThreeFPHoldSRTProbe/20240804/Top/Clips/Leo_20240804_HoldTrial051_TopView.avi\n",
      "Loading  D:/YuLab/Work/GPS/Video/Leo/GPS_12_ThreeFPHoldSRTProbe/20240804/Top/Clips/Leo_20240804_HoldTrial051_TopView.avi\n",
      "Duration of video [s]:  8.04 , recorded with  25.0 fps!\n",
      "Overall # of frames:  201  found with (before cropping) frame dimensions:  1280 1331\n",
      "Starting to extract posture\n",
      "Cropping based on the x1 = 0 x2 = 1280 y1 = 0 y2 = 1024. You can adjust the cropping coordinates in the config.yaml file.\n"
     ]
    },
    {
     "name": "stderr",
     "output_type": "stream",
     "text": [
      "100%|██████████| 201/201 [00:08<00:00, 23.06it/s]\n"
     ]
    },
    {
     "name": "stdout",
     "output_type": "stream",
     "text": [
      "Saving results in D:\\YuLab\\Work\\GPS\\Video\\Leo\\GPS_12_ThreeFPHoldSRTProbe\\20240804\\Top\\Clips...\n",
      "Saving csv poses!\n",
      "Starting to analyze %  D:/YuLab/Work/GPS/Video/Leo/GPS_12_ThreeFPHoldSRTProbe/20240804/Top/Clips/Leo_20240804_HoldTrial052_TopView.avi\n",
      "Loading  D:/YuLab/Work/GPS/Video/Leo/GPS_12_ThreeFPHoldSRTProbe/20240804/Top/Clips/Leo_20240804_HoldTrial052_TopView.avi\n",
      "Duration of video [s]:  8.04 , recorded with  25.0 fps!\n",
      "Overall # of frames:  201  found with (before cropping) frame dimensions:  1280 1331\n",
      "Starting to extract posture\n",
      "Cropping based on the x1 = 0 x2 = 1280 y1 = 0 y2 = 1024. You can adjust the cropping coordinates in the config.yaml file.\n"
     ]
    },
    {
     "name": "stderr",
     "output_type": "stream",
     "text": [
      "100%|██████████| 201/201 [00:08<00:00, 23.13it/s]\n"
     ]
    },
    {
     "name": "stdout",
     "output_type": "stream",
     "text": [
      "Saving results in D:\\YuLab\\Work\\GPS\\Video\\Leo\\GPS_12_ThreeFPHoldSRTProbe\\20240804\\Top\\Clips...\n",
      "Saving csv poses!\n",
      "Starting to analyze %  D:/YuLab/Work/GPS/Video/Leo/GPS_12_ThreeFPHoldSRTProbe/20240804/Top/Clips/Leo_20240804_HoldTrial053_TopView.avi\n",
      "Loading  D:/YuLab/Work/GPS/Video/Leo/GPS_12_ThreeFPHoldSRTProbe/20240804/Top/Clips/Leo_20240804_HoldTrial053_TopView.avi\n",
      "Duration of video [s]:  8.04 , recorded with  25.0 fps!\n",
      "Overall # of frames:  201  found with (before cropping) frame dimensions:  1280 1331\n",
      "Starting to extract posture\n",
      "Cropping based on the x1 = 0 x2 = 1280 y1 = 0 y2 = 1024. You can adjust the cropping coordinates in the config.yaml file.\n"
     ]
    },
    {
     "name": "stderr",
     "output_type": "stream",
     "text": [
      "100%|██████████| 201/201 [00:08<00:00, 23.18it/s]\n"
     ]
    },
    {
     "name": "stdout",
     "output_type": "stream",
     "text": [
      "Saving results in D:\\YuLab\\Work\\GPS\\Video\\Leo\\GPS_12_ThreeFPHoldSRTProbe\\20240804\\Top\\Clips...\n",
      "Saving csv poses!\n",
      "Starting to analyze %  D:/YuLab/Work/GPS/Video/Leo/GPS_12_ThreeFPHoldSRTProbe/20240804/Top/Clips/Leo_20240804_HoldTrial054_TopView.avi\n",
      "Loading  D:/YuLab/Work/GPS/Video/Leo/GPS_12_ThreeFPHoldSRTProbe/20240804/Top/Clips/Leo_20240804_HoldTrial054_TopView.avi\n",
      "Duration of video [s]:  8.04 , recorded with  25.0 fps!\n",
      "Overall # of frames:  201  found with (before cropping) frame dimensions:  1280 1331\n",
      "Starting to extract posture\n",
      "Cropping based on the x1 = 0 x2 = 1280 y1 = 0 y2 = 1024. You can adjust the cropping coordinates in the config.yaml file.\n"
     ]
    },
    {
     "name": "stderr",
     "output_type": "stream",
     "text": [
      "100%|██████████| 201/201 [00:08<00:00, 23.21it/s]\n"
     ]
    },
    {
     "name": "stdout",
     "output_type": "stream",
     "text": [
      "Saving results in D:\\YuLab\\Work\\GPS\\Video\\Leo\\GPS_12_ThreeFPHoldSRTProbe\\20240804\\Top\\Clips...\n",
      "Saving csv poses!\n",
      "Starting to analyze %  D:/YuLab/Work/GPS/Video/Leo/GPS_12_ThreeFPHoldSRTProbe/20240804/Top/Clips/Leo_20240804_HoldTrial056_TopView.avi\n",
      "Loading  D:/YuLab/Work/GPS/Video/Leo/GPS_12_ThreeFPHoldSRTProbe/20240804/Top/Clips/Leo_20240804_HoldTrial056_TopView.avi\n",
      "Duration of video [s]:  8.04 , recorded with  25.0 fps!\n",
      "Overall # of frames:  201  found with (before cropping) frame dimensions:  1280 1331\n",
      "Starting to extract posture\n",
      "Cropping based on the x1 = 0 x2 = 1280 y1 = 0 y2 = 1024. You can adjust the cropping coordinates in the config.yaml file.\n"
     ]
    },
    {
     "name": "stderr",
     "output_type": "stream",
     "text": [
      "100%|██████████| 201/201 [00:08<00:00, 23.20it/s]\n"
     ]
    },
    {
     "name": "stdout",
     "output_type": "stream",
     "text": [
      "Saving results in D:\\YuLab\\Work\\GPS\\Video\\Leo\\GPS_12_ThreeFPHoldSRTProbe\\20240804\\Top\\Clips...\n",
      "Saving csv poses!\n",
      "Starting to analyze %  D:/YuLab/Work/GPS/Video/Leo/GPS_12_ThreeFPHoldSRTProbe/20240804/Top/Clips/Leo_20240804_HoldTrial057_TopView.avi\n",
      "Loading  D:/YuLab/Work/GPS/Video/Leo/GPS_12_ThreeFPHoldSRTProbe/20240804/Top/Clips/Leo_20240804_HoldTrial057_TopView.avi\n",
      "Duration of video [s]:  8.04 , recorded with  25.0 fps!\n",
      "Overall # of frames:  201  found with (before cropping) frame dimensions:  1280 1331\n",
      "Starting to extract posture\n",
      "Cropping based on the x1 = 0 x2 = 1280 y1 = 0 y2 = 1024. You can adjust the cropping coordinates in the config.yaml file.\n"
     ]
    },
    {
     "name": "stderr",
     "output_type": "stream",
     "text": [
      "100%|██████████| 201/201 [00:08<00:00, 23.12it/s]\n"
     ]
    },
    {
     "name": "stdout",
     "output_type": "stream",
     "text": [
      "Saving results in D:\\YuLab\\Work\\GPS\\Video\\Leo\\GPS_12_ThreeFPHoldSRTProbe\\20240804\\Top\\Clips...\n",
      "Saving csv poses!\n",
      "Starting to analyze %  D:/YuLab/Work/GPS/Video/Leo/GPS_12_ThreeFPHoldSRTProbe/20240804/Top/Clips/Leo_20240804_HoldTrial058_TopView.avi\n",
      "Loading  D:/YuLab/Work/GPS/Video/Leo/GPS_12_ThreeFPHoldSRTProbe/20240804/Top/Clips/Leo_20240804_HoldTrial058_TopView.avi\n",
      "Duration of video [s]:  8.04 , recorded with  25.0 fps!\n",
      "Overall # of frames:  201  found with (before cropping) frame dimensions:  1280 1331\n",
      "Starting to extract posture\n",
      "Cropping based on the x1 = 0 x2 = 1280 y1 = 0 y2 = 1024. You can adjust the cropping coordinates in the config.yaml file.\n"
     ]
    },
    {
     "name": "stderr",
     "output_type": "stream",
     "text": [
      "100%|██████████| 201/201 [00:08<00:00, 23.09it/s]\n"
     ]
    },
    {
     "name": "stdout",
     "output_type": "stream",
     "text": [
      "Saving results in D:\\YuLab\\Work\\GPS\\Video\\Leo\\GPS_12_ThreeFPHoldSRTProbe\\20240804\\Top\\Clips...\n",
      "Saving csv poses!\n",
      "Starting to analyze %  D:/YuLab/Work/GPS/Video/Leo/GPS_12_ThreeFPHoldSRTProbe/20240804/Top/Clips/Leo_20240804_HoldTrial059_TopView.avi\n",
      "Loading  D:/YuLab/Work/GPS/Video/Leo/GPS_12_ThreeFPHoldSRTProbe/20240804/Top/Clips/Leo_20240804_HoldTrial059_TopView.avi\n",
      "Duration of video [s]:  8.04 , recorded with  25.0 fps!\n",
      "Overall # of frames:  201  found with (before cropping) frame dimensions:  1280 1331\n",
      "Starting to extract posture\n",
      "Cropping based on the x1 = 0 x2 = 1280 y1 = 0 y2 = 1024. You can adjust the cropping coordinates in the config.yaml file.\n"
     ]
    },
    {
     "name": "stderr",
     "output_type": "stream",
     "text": [
      "100%|██████████| 201/201 [00:08<00:00, 23.12it/s]\n"
     ]
    },
    {
     "name": "stdout",
     "output_type": "stream",
     "text": [
      "Saving results in D:\\YuLab\\Work\\GPS\\Video\\Leo\\GPS_12_ThreeFPHoldSRTProbe\\20240804\\Top\\Clips...\n",
      "Saving csv poses!\n",
      "Starting to analyze %  D:/YuLab/Work/GPS/Video/Leo/GPS_12_ThreeFPHoldSRTProbe/20240804/Top/Clips/Leo_20240804_HoldTrial060_TopView.avi\n",
      "Loading  D:/YuLab/Work/GPS/Video/Leo/GPS_12_ThreeFPHoldSRTProbe/20240804/Top/Clips/Leo_20240804_HoldTrial060_TopView.avi\n",
      "Duration of video [s]:  8.04 , recorded with  25.0 fps!\n",
      "Overall # of frames:  201  found with (before cropping) frame dimensions:  1280 1331\n",
      "Starting to extract posture\n",
      "Cropping based on the x1 = 0 x2 = 1280 y1 = 0 y2 = 1024. You can adjust the cropping coordinates in the config.yaml file.\n"
     ]
    },
    {
     "name": "stderr",
     "output_type": "stream",
     "text": [
      "100%|██████████| 201/201 [00:08<00:00, 23.13it/s]\n"
     ]
    },
    {
     "name": "stdout",
     "output_type": "stream",
     "text": [
      "Saving results in D:\\YuLab\\Work\\GPS\\Video\\Leo\\GPS_12_ThreeFPHoldSRTProbe\\20240804\\Top\\Clips...\n",
      "Saving csv poses!\n",
      "Starting to analyze %  D:/YuLab/Work/GPS/Video/Leo/GPS_12_ThreeFPHoldSRTProbe/20240804/Top/Clips/Leo_20240804_HoldTrial061_TopView.avi\n",
      "Loading  D:/YuLab/Work/GPS/Video/Leo/GPS_12_ThreeFPHoldSRTProbe/20240804/Top/Clips/Leo_20240804_HoldTrial061_TopView.avi\n",
      "Duration of video [s]:  8.04 , recorded with  25.0 fps!\n",
      "Overall # of frames:  201  found with (before cropping) frame dimensions:  1280 1331\n",
      "Starting to extract posture\n",
      "Cropping based on the x1 = 0 x2 = 1280 y1 = 0 y2 = 1024. You can adjust the cropping coordinates in the config.yaml file.\n"
     ]
    },
    {
     "name": "stderr",
     "output_type": "stream",
     "text": [
      "100%|██████████| 201/201 [00:08<00:00, 23.06it/s]\n"
     ]
    },
    {
     "name": "stdout",
     "output_type": "stream",
     "text": [
      "Saving results in D:\\YuLab\\Work\\GPS\\Video\\Leo\\GPS_12_ThreeFPHoldSRTProbe\\20240804\\Top\\Clips...\n",
      "Saving csv poses!\n",
      "Starting to analyze %  D:/YuLab/Work/GPS/Video/Leo/GPS_12_ThreeFPHoldSRTProbe/20240804/Top/Clips/Leo_20240804_HoldTrial062_TopView.avi\n",
      "Loading  D:/YuLab/Work/GPS/Video/Leo/GPS_12_ThreeFPHoldSRTProbe/20240804/Top/Clips/Leo_20240804_HoldTrial062_TopView.avi\n",
      "Duration of video [s]:  8.04 , recorded with  25.0 fps!\n",
      "Overall # of frames:  201  found with (before cropping) frame dimensions:  1280 1331\n",
      "Starting to extract posture\n",
      "Cropping based on the x1 = 0 x2 = 1280 y1 = 0 y2 = 1024. You can adjust the cropping coordinates in the config.yaml file.\n"
     ]
    },
    {
     "name": "stderr",
     "output_type": "stream",
     "text": [
      "100%|██████████| 201/201 [00:08<00:00, 23.08it/s]\n"
     ]
    },
    {
     "name": "stdout",
     "output_type": "stream",
     "text": [
      "Saving results in D:\\YuLab\\Work\\GPS\\Video\\Leo\\GPS_12_ThreeFPHoldSRTProbe\\20240804\\Top\\Clips...\n",
      "Saving csv poses!\n",
      "Starting to analyze %  D:/YuLab/Work/GPS/Video/Leo/GPS_12_ThreeFPHoldSRTProbe/20240804/Top/Clips/Leo_20240804_HoldTrial063_TopView.avi\n",
      "Loading  D:/YuLab/Work/GPS/Video/Leo/GPS_12_ThreeFPHoldSRTProbe/20240804/Top/Clips/Leo_20240804_HoldTrial063_TopView.avi\n",
      "Duration of video [s]:  8.04 , recorded with  25.0 fps!\n",
      "Overall # of frames:  201  found with (before cropping) frame dimensions:  1280 1331\n",
      "Starting to extract posture\n",
      "Cropping based on the x1 = 0 x2 = 1280 y1 = 0 y2 = 1024. You can adjust the cropping coordinates in the config.yaml file.\n"
     ]
    },
    {
     "name": "stderr",
     "output_type": "stream",
     "text": [
      "100%|██████████| 201/201 [00:08<00:00, 23.10it/s]\n"
     ]
    },
    {
     "name": "stdout",
     "output_type": "stream",
     "text": [
      "Saving results in D:\\YuLab\\Work\\GPS\\Video\\Leo\\GPS_12_ThreeFPHoldSRTProbe\\20240804\\Top\\Clips...\n",
      "Saving csv poses!\n",
      "Starting to analyze %  D:/YuLab/Work/GPS/Video/Leo/GPS_12_ThreeFPHoldSRTProbe/20240804/Top/Clips/Leo_20240804_HoldTrial064_TopView.avi\n",
      "Loading  D:/YuLab/Work/GPS/Video/Leo/GPS_12_ThreeFPHoldSRTProbe/20240804/Top/Clips/Leo_20240804_HoldTrial064_TopView.avi\n",
      "Duration of video [s]:  8.04 , recorded with  25.0 fps!\n",
      "Overall # of frames:  201  found with (before cropping) frame dimensions:  1280 1331\n",
      "Starting to extract posture\n",
      "Cropping based on the x1 = 0 x2 = 1280 y1 = 0 y2 = 1024. You can adjust the cropping coordinates in the config.yaml file.\n"
     ]
    },
    {
     "name": "stderr",
     "output_type": "stream",
     "text": [
      "100%|██████████| 201/201 [00:08<00:00, 23.09it/s]\n"
     ]
    },
    {
     "name": "stdout",
     "output_type": "stream",
     "text": [
      "Saving results in D:\\YuLab\\Work\\GPS\\Video\\Leo\\GPS_12_ThreeFPHoldSRTProbe\\20240804\\Top\\Clips...\n",
      "Saving csv poses!\n",
      "Starting to analyze %  D:/YuLab/Work/GPS/Video/Leo/GPS_12_ThreeFPHoldSRTProbe/20240804/Top/Clips/Leo_20240804_HoldTrial065_TopView.avi\n",
      "Loading  D:/YuLab/Work/GPS/Video/Leo/GPS_12_ThreeFPHoldSRTProbe/20240804/Top/Clips/Leo_20240804_HoldTrial065_TopView.avi\n",
      "Duration of video [s]:  8.04 , recorded with  25.0 fps!\n",
      "Overall # of frames:  201  found with (before cropping) frame dimensions:  1280 1331\n",
      "Starting to extract posture\n",
      "Cropping based on the x1 = 0 x2 = 1280 y1 = 0 y2 = 1024. You can adjust the cropping coordinates in the config.yaml file.\n"
     ]
    },
    {
     "name": "stderr",
     "output_type": "stream",
     "text": [
      "100%|██████████| 201/201 [00:08<00:00, 23.10it/s]\n"
     ]
    },
    {
     "name": "stdout",
     "output_type": "stream",
     "text": [
      "Saving results in D:\\YuLab\\Work\\GPS\\Video\\Leo\\GPS_12_ThreeFPHoldSRTProbe\\20240804\\Top\\Clips...\n",
      "Saving csv poses!\n",
      "Starting to analyze %  D:/YuLab/Work/GPS/Video/Leo/GPS_12_ThreeFPHoldSRTProbe/20240804/Top/Clips/Leo_20240804_HoldTrial066_TopView.avi\n",
      "Loading  D:/YuLab/Work/GPS/Video/Leo/GPS_12_ThreeFPHoldSRTProbe/20240804/Top/Clips/Leo_20240804_HoldTrial066_TopView.avi\n",
      "Duration of video [s]:  8.04 , recorded with  25.0 fps!\n",
      "Overall # of frames:  201  found with (before cropping) frame dimensions:  1280 1331\n",
      "Starting to extract posture\n",
      "Cropping based on the x1 = 0 x2 = 1280 y1 = 0 y2 = 1024. You can adjust the cropping coordinates in the config.yaml file.\n"
     ]
    },
    {
     "name": "stderr",
     "output_type": "stream",
     "text": [
      "100%|██████████| 201/201 [00:08<00:00, 23.16it/s]\n"
     ]
    },
    {
     "name": "stdout",
     "output_type": "stream",
     "text": [
      "Saving results in D:\\YuLab\\Work\\GPS\\Video\\Leo\\GPS_12_ThreeFPHoldSRTProbe\\20240804\\Top\\Clips...\n",
      "Saving csv poses!\n",
      "Starting to analyze %  D:/YuLab/Work/GPS/Video/Leo/GPS_12_ThreeFPHoldSRTProbe/20240805/Top/Clips/Leo_20240805_HoldTrial012_TopView.avi\n",
      "Loading  D:/YuLab/Work/GPS/Video/Leo/GPS_12_ThreeFPHoldSRTProbe/20240805/Top/Clips/Leo_20240805_HoldTrial012_TopView.avi\n",
      "Duration of video [s]:  8.04 , recorded with  25.0 fps!\n",
      "Overall # of frames:  201  found with (before cropping) frame dimensions:  1280 1331\n",
      "Starting to extract posture\n",
      "Cropping based on the x1 = 0 x2 = 1280 y1 = 0 y2 = 1024. You can adjust the cropping coordinates in the config.yaml file.\n"
     ]
    },
    {
     "name": "stderr",
     "output_type": "stream",
     "text": [
      "100%|██████████| 201/201 [00:08<00:00, 23.18it/s]\n"
     ]
    },
    {
     "name": "stdout",
     "output_type": "stream",
     "text": [
      "Saving results in D:\\YuLab\\Work\\GPS\\Video\\Leo\\GPS_12_ThreeFPHoldSRTProbe\\20240805\\Top\\Clips...\n",
      "Saving csv poses!\n",
      "Starting to analyze %  D:/YuLab/Work/GPS/Video/Leo/GPS_12_ThreeFPHoldSRTProbe/20240805/Top/Clips/Leo_20240805_HoldTrial013_TopView.avi\n",
      "Loading  D:/YuLab/Work/GPS/Video/Leo/GPS_12_ThreeFPHoldSRTProbe/20240805/Top/Clips/Leo_20240805_HoldTrial013_TopView.avi\n",
      "Duration of video [s]:  8.04 , recorded with  25.0 fps!\n",
      "Overall # of frames:  201  found with (before cropping) frame dimensions:  1280 1331\n",
      "Starting to extract posture\n",
      "Cropping based on the x1 = 0 x2 = 1280 y1 = 0 y2 = 1024. You can adjust the cropping coordinates in the config.yaml file.\n"
     ]
    },
    {
     "name": "stderr",
     "output_type": "stream",
     "text": [
      "100%|██████████| 201/201 [00:08<00:00, 23.17it/s]\n"
     ]
    },
    {
     "name": "stdout",
     "output_type": "stream",
     "text": [
      "Saving results in D:\\YuLab\\Work\\GPS\\Video\\Leo\\GPS_12_ThreeFPHoldSRTProbe\\20240805\\Top\\Clips...\n",
      "Saving csv poses!\n",
      "Starting to analyze %  D:/YuLab/Work/GPS/Video/Leo/GPS_12_ThreeFPHoldSRTProbe/20240805/Top/Clips/Leo_20240805_HoldTrial014_TopView.avi\n",
      "Loading  D:/YuLab/Work/GPS/Video/Leo/GPS_12_ThreeFPHoldSRTProbe/20240805/Top/Clips/Leo_20240805_HoldTrial014_TopView.avi\n",
      "Duration of video [s]:  8.04 , recorded with  25.0 fps!\n",
      "Overall # of frames:  201  found with (before cropping) frame dimensions:  1280 1331\n",
      "Starting to extract posture\n",
      "Cropping based on the x1 = 0 x2 = 1280 y1 = 0 y2 = 1024. You can adjust the cropping coordinates in the config.yaml file.\n"
     ]
    },
    {
     "name": "stderr",
     "output_type": "stream",
     "text": [
      "100%|██████████| 201/201 [00:08<00:00, 23.13it/s]\n"
     ]
    },
    {
     "name": "stdout",
     "output_type": "stream",
     "text": [
      "Saving results in D:\\YuLab\\Work\\GPS\\Video\\Leo\\GPS_12_ThreeFPHoldSRTProbe\\20240805\\Top\\Clips...\n",
      "Saving csv poses!\n",
      "Starting to analyze %  D:/YuLab/Work/GPS/Video/Leo/GPS_12_ThreeFPHoldSRTProbe/20240805/Top/Clips/Leo_20240805_HoldTrial015_TopView.avi\n",
      "Loading  D:/YuLab/Work/GPS/Video/Leo/GPS_12_ThreeFPHoldSRTProbe/20240805/Top/Clips/Leo_20240805_HoldTrial015_TopView.avi\n",
      "Duration of video [s]:  8.04 , recorded with  25.0 fps!\n",
      "Overall # of frames:  201  found with (before cropping) frame dimensions:  1280 1331\n",
      "Starting to extract posture\n",
      "Cropping based on the x1 = 0 x2 = 1280 y1 = 0 y2 = 1024. You can adjust the cropping coordinates in the config.yaml file.\n"
     ]
    },
    {
     "name": "stderr",
     "output_type": "stream",
     "text": [
      "100%|██████████| 201/201 [00:08<00:00, 23.06it/s]\n"
     ]
    },
    {
     "name": "stdout",
     "output_type": "stream",
     "text": [
      "Saving results in D:\\YuLab\\Work\\GPS\\Video\\Leo\\GPS_12_ThreeFPHoldSRTProbe\\20240805\\Top\\Clips...\n",
      "Saving csv poses!\n",
      "Starting to analyze %  D:/YuLab/Work/GPS/Video/Leo/GPS_12_ThreeFPHoldSRTProbe/20240805/Top/Clips/Leo_20240805_HoldTrial016_TopView.avi\n",
      "Loading  D:/YuLab/Work/GPS/Video/Leo/GPS_12_ThreeFPHoldSRTProbe/20240805/Top/Clips/Leo_20240805_HoldTrial016_TopView.avi\n",
      "Duration of video [s]:  8.0 , recorded with  25.0 fps!\n",
      "Overall # of frames:  200  found with (before cropping) frame dimensions:  1280 1331\n",
      "Starting to extract posture\n",
      "Cropping based on the x1 = 0 x2 = 1280 y1 = 0 y2 = 1024. You can adjust the cropping coordinates in the config.yaml file.\n"
     ]
    },
    {
     "name": "stderr",
     "output_type": "stream",
     "text": [
      "100%|██████████| 200/200 [00:08<00:00, 23.47it/s]\n"
     ]
    },
    {
     "name": "stdout",
     "output_type": "stream",
     "text": [
      "Saving results in D:\\YuLab\\Work\\GPS\\Video\\Leo\\GPS_12_ThreeFPHoldSRTProbe\\20240805\\Top\\Clips...\n",
      "Saving csv poses!\n",
      "Starting to analyze %  D:/YuLab/Work/GPS/Video/Leo/GPS_12_ThreeFPHoldSRTProbe/20240805/Top/Clips/Leo_20240805_HoldTrial017_TopView.avi\n",
      "Loading  D:/YuLab/Work/GPS/Video/Leo/GPS_12_ThreeFPHoldSRTProbe/20240805/Top/Clips/Leo_20240805_HoldTrial017_TopView.avi\n",
      "Duration of video [s]:  8.04 , recorded with  25.0 fps!\n",
      "Overall # of frames:  201  found with (before cropping) frame dimensions:  1280 1331\n",
      "Starting to extract posture\n",
      "Cropping based on the x1 = 0 x2 = 1280 y1 = 0 y2 = 1024. You can adjust the cropping coordinates in the config.yaml file.\n"
     ]
    },
    {
     "name": "stderr",
     "output_type": "stream",
     "text": [
      "100%|██████████| 201/201 [00:08<00:00, 22.92it/s]\n"
     ]
    },
    {
     "name": "stdout",
     "output_type": "stream",
     "text": [
      "Saving results in D:\\YuLab\\Work\\GPS\\Video\\Leo\\GPS_12_ThreeFPHoldSRTProbe\\20240805\\Top\\Clips...\n",
      "Saving csv poses!\n",
      "Starting to analyze %  D:/YuLab/Work/GPS/Video/Leo/GPS_12_ThreeFPHoldSRTProbe/20240805/Top/Clips/Leo_20240805_HoldTrial018_TopView.avi\n",
      "Loading  D:/YuLab/Work/GPS/Video/Leo/GPS_12_ThreeFPHoldSRTProbe/20240805/Top/Clips/Leo_20240805_HoldTrial018_TopView.avi\n",
      "Duration of video [s]:  8.04 , recorded with  25.0 fps!\n",
      "Overall # of frames:  201  found with (before cropping) frame dimensions:  1280 1331\n",
      "Starting to extract posture\n",
      "Cropping based on the x1 = 0 x2 = 1280 y1 = 0 y2 = 1024. You can adjust the cropping coordinates in the config.yaml file.\n"
     ]
    },
    {
     "name": "stderr",
     "output_type": "stream",
     "text": [
      "100%|██████████| 201/201 [00:08<00:00, 22.61it/s]\n"
     ]
    },
    {
     "name": "stdout",
     "output_type": "stream",
     "text": [
      "Saving results in D:\\YuLab\\Work\\GPS\\Video\\Leo\\GPS_12_ThreeFPHoldSRTProbe\\20240805\\Top\\Clips...\n",
      "Saving csv poses!\n",
      "Starting to analyze %  D:/YuLab/Work/GPS/Video/Leo/GPS_12_ThreeFPHoldSRTProbe/20240805/Top/Clips/Leo_20240805_HoldTrial019_TopView.avi\n",
      "Loading  D:/YuLab/Work/GPS/Video/Leo/GPS_12_ThreeFPHoldSRTProbe/20240805/Top/Clips/Leo_20240805_HoldTrial019_TopView.avi\n",
      "Duration of video [s]:  8.04 , recorded with  25.0 fps!\n",
      "Overall # of frames:  201  found with (before cropping) frame dimensions:  1280 1331\n",
      "Starting to extract posture\n",
      "Cropping based on the x1 = 0 x2 = 1280 y1 = 0 y2 = 1024. You can adjust the cropping coordinates in the config.yaml file.\n"
     ]
    },
    {
     "name": "stderr",
     "output_type": "stream",
     "text": [
      "100%|██████████| 201/201 [00:08<00:00, 22.51it/s]\n"
     ]
    },
    {
     "name": "stdout",
     "output_type": "stream",
     "text": [
      "Saving results in D:\\YuLab\\Work\\GPS\\Video\\Leo\\GPS_12_ThreeFPHoldSRTProbe\\20240805\\Top\\Clips...\n",
      "Saving csv poses!\n",
      "Starting to analyze %  D:/YuLab/Work/GPS/Video/Leo/GPS_12_ThreeFPHoldSRTProbe/20240805/Top/Clips/Leo_20240805_HoldTrial020_TopView.avi\n",
      "Loading  D:/YuLab/Work/GPS/Video/Leo/GPS_12_ThreeFPHoldSRTProbe/20240805/Top/Clips/Leo_20240805_HoldTrial020_TopView.avi\n",
      "Duration of video [s]:  8.04 , recorded with  25.0 fps!\n",
      "Overall # of frames:  201  found with (before cropping) frame dimensions:  1280 1331\n",
      "Starting to extract posture\n",
      "Cropping based on the x1 = 0 x2 = 1280 y1 = 0 y2 = 1024. You can adjust the cropping coordinates in the config.yaml file.\n"
     ]
    },
    {
     "name": "stderr",
     "output_type": "stream",
     "text": [
      "100%|██████████| 201/201 [00:09<00:00, 20.77it/s]\n"
     ]
    },
    {
     "name": "stdout",
     "output_type": "stream",
     "text": [
      "Saving results in D:\\YuLab\\Work\\GPS\\Video\\Leo\\GPS_12_ThreeFPHoldSRTProbe\\20240805\\Top\\Clips...\n",
      "Saving csv poses!\n",
      "Starting to analyze %  D:/YuLab/Work/GPS/Video/Leo/GPS_12_ThreeFPHoldSRTProbe/20240805/Top/Clips/Leo_20240805_HoldTrial021_TopView.avi\n",
      "Loading  D:/YuLab/Work/GPS/Video/Leo/GPS_12_ThreeFPHoldSRTProbe/20240805/Top/Clips/Leo_20240805_HoldTrial021_TopView.avi\n",
      "Duration of video [s]:  8.04 , recorded with  25.0 fps!\n",
      "Overall # of frames:  201  found with (before cropping) frame dimensions:  1280 1331\n",
      "Starting to extract posture\n",
      "Cropping based on the x1 = 0 x2 = 1280 y1 = 0 y2 = 1024. You can adjust the cropping coordinates in the config.yaml file.\n"
     ]
    },
    {
     "name": "stderr",
     "output_type": "stream",
     "text": [
      "100%|██████████| 201/201 [00:09<00:00, 22.16it/s]\n"
     ]
    },
    {
     "name": "stdout",
     "output_type": "stream",
     "text": [
      "Saving results in D:\\YuLab\\Work\\GPS\\Video\\Leo\\GPS_12_ThreeFPHoldSRTProbe\\20240805\\Top\\Clips...\n",
      "Saving csv poses!\n",
      "Starting to analyze %  D:/YuLab/Work/GPS/Video/Leo/GPS_12_ThreeFPHoldSRTProbe/20240805/Top/Clips/Leo_20240805_HoldTrial022_TopView.avi\n",
      "Loading  D:/YuLab/Work/GPS/Video/Leo/GPS_12_ThreeFPHoldSRTProbe/20240805/Top/Clips/Leo_20240805_HoldTrial022_TopView.avi\n",
      "Duration of video [s]:  8.04 , recorded with  25.0 fps!\n",
      "Overall # of frames:  201  found with (before cropping) frame dimensions:  1280 1331\n",
      "Starting to extract posture\n",
      "Cropping based on the x1 = 0 x2 = 1280 y1 = 0 y2 = 1024. You can adjust the cropping coordinates in the config.yaml file.\n"
     ]
    },
    {
     "name": "stderr",
     "output_type": "stream",
     "text": [
      "100%|██████████| 201/201 [00:08<00:00, 22.97it/s]\n"
     ]
    },
    {
     "name": "stdout",
     "output_type": "stream",
     "text": [
      "Saving results in D:\\YuLab\\Work\\GPS\\Video\\Leo\\GPS_12_ThreeFPHoldSRTProbe\\20240805\\Top\\Clips...\n",
      "Saving csv poses!\n",
      "Starting to analyze %  D:/YuLab/Work/GPS/Video/Leo/GPS_12_ThreeFPHoldSRTProbe/20240805/Top/Clips/Leo_20240805_HoldTrial023_TopView.avi\n",
      "Loading  D:/YuLab/Work/GPS/Video/Leo/GPS_12_ThreeFPHoldSRTProbe/20240805/Top/Clips/Leo_20240805_HoldTrial023_TopView.avi\n",
      "Duration of video [s]:  8.04 , recorded with  25.0 fps!\n",
      "Overall # of frames:  201  found with (before cropping) frame dimensions:  1280 1331\n",
      "Starting to extract posture\n",
      "Cropping based on the x1 = 0 x2 = 1280 y1 = 0 y2 = 1024. You can adjust the cropping coordinates in the config.yaml file.\n"
     ]
    },
    {
     "name": "stderr",
     "output_type": "stream",
     "text": [
      "100%|██████████| 201/201 [00:08<00:00, 22.88it/s]\n"
     ]
    },
    {
     "name": "stdout",
     "output_type": "stream",
     "text": [
      "Saving results in D:\\YuLab\\Work\\GPS\\Video\\Leo\\GPS_12_ThreeFPHoldSRTProbe\\20240805\\Top\\Clips...\n",
      "Saving csv poses!\n",
      "Starting to analyze %  D:/YuLab/Work/GPS/Video/Leo/GPS_12_ThreeFPHoldSRTProbe/20240805/Top/Clips/Leo_20240805_HoldTrial024_TopView.avi\n",
      "Loading  D:/YuLab/Work/GPS/Video/Leo/GPS_12_ThreeFPHoldSRTProbe/20240805/Top/Clips/Leo_20240805_HoldTrial024_TopView.avi\n",
      "Duration of video [s]:  8.04 , recorded with  25.0 fps!\n",
      "Overall # of frames:  201  found with (before cropping) frame dimensions:  1280 1331\n",
      "Starting to extract posture\n",
      "Cropping based on the x1 = 0 x2 = 1280 y1 = 0 y2 = 1024. You can adjust the cropping coordinates in the config.yaml file.\n"
     ]
    },
    {
     "name": "stderr",
     "output_type": "stream",
     "text": [
      "100%|██████████| 201/201 [00:08<00:00, 22.65it/s]\n"
     ]
    },
    {
     "name": "stdout",
     "output_type": "stream",
     "text": [
      "Saving results in D:\\YuLab\\Work\\GPS\\Video\\Leo\\GPS_12_ThreeFPHoldSRTProbe\\20240805\\Top\\Clips...\n",
      "Saving csv poses!\n",
      "Starting to analyze %  D:/YuLab/Work/GPS/Video/Leo/GPS_12_ThreeFPHoldSRTProbe/20240805/Top/Clips/Leo_20240805_HoldTrial025_TopView.avi\n",
      "Loading  D:/YuLab/Work/GPS/Video/Leo/GPS_12_ThreeFPHoldSRTProbe/20240805/Top/Clips/Leo_20240805_HoldTrial025_TopView.avi\n",
      "Duration of video [s]:  8.04 , recorded with  25.0 fps!\n",
      "Overall # of frames:  201  found with (before cropping) frame dimensions:  1280 1331\n",
      "Starting to extract posture\n",
      "Cropping based on the x1 = 0 x2 = 1280 y1 = 0 y2 = 1024. You can adjust the cropping coordinates in the config.yaml file.\n"
     ]
    },
    {
     "name": "stderr",
     "output_type": "stream",
     "text": [
      "100%|██████████| 201/201 [00:08<00:00, 22.91it/s]\n"
     ]
    },
    {
     "name": "stdout",
     "output_type": "stream",
     "text": [
      "Saving results in D:\\YuLab\\Work\\GPS\\Video\\Leo\\GPS_12_ThreeFPHoldSRTProbe\\20240805\\Top\\Clips...\n",
      "Saving csv poses!\n",
      "Starting to analyze %  D:/YuLab/Work/GPS/Video/Leo/GPS_12_ThreeFPHoldSRTProbe/20240805/Top/Clips/Leo_20240805_HoldTrial026_TopView.avi\n",
      "Loading  D:/YuLab/Work/GPS/Video/Leo/GPS_12_ThreeFPHoldSRTProbe/20240805/Top/Clips/Leo_20240805_HoldTrial026_TopView.avi\n",
      "Duration of video [s]:  8.04 , recorded with  25.0 fps!\n",
      "Overall # of frames:  201  found with (before cropping) frame dimensions:  1280 1331\n",
      "Starting to extract posture\n",
      "Cropping based on the x1 = 0 x2 = 1280 y1 = 0 y2 = 1024. You can adjust the cropping coordinates in the config.yaml file.\n"
     ]
    },
    {
     "name": "stderr",
     "output_type": "stream",
     "text": [
      "100%|██████████| 201/201 [00:08<00:00, 22.54it/s]\n"
     ]
    },
    {
     "name": "stdout",
     "output_type": "stream",
     "text": [
      "Saving results in D:\\YuLab\\Work\\GPS\\Video\\Leo\\GPS_12_ThreeFPHoldSRTProbe\\20240805\\Top\\Clips...\n",
      "Saving csv poses!\n",
      "Starting to analyze %  D:/YuLab/Work/GPS/Video/Leo/GPS_12_ThreeFPHoldSRTProbe/20240805/Top/Clips/Leo_20240805_HoldTrial027_TopView.avi\n",
      "Loading  D:/YuLab/Work/GPS/Video/Leo/GPS_12_ThreeFPHoldSRTProbe/20240805/Top/Clips/Leo_20240805_HoldTrial027_TopView.avi\n",
      "Duration of video [s]:  8.04 , recorded with  25.0 fps!\n",
      "Overall # of frames:  201  found with (before cropping) frame dimensions:  1280 1331\n",
      "Starting to extract posture\n",
      "Cropping based on the x1 = 0 x2 = 1280 y1 = 0 y2 = 1024. You can adjust the cropping coordinates in the config.yaml file.\n"
     ]
    },
    {
     "name": "stderr",
     "output_type": "stream",
     "text": [
      "100%|██████████| 201/201 [00:09<00:00, 20.79it/s]\n"
     ]
    },
    {
     "name": "stdout",
     "output_type": "stream",
     "text": [
      "Saving results in D:\\YuLab\\Work\\GPS\\Video\\Leo\\GPS_12_ThreeFPHoldSRTProbe\\20240805\\Top\\Clips...\n",
      "Saving csv poses!\n",
      "Starting to analyze %  D:/YuLab/Work/GPS/Video/Leo/GPS_12_ThreeFPHoldSRTProbe/20240805/Top/Clips/Leo_20240805_HoldTrial028_TopView.avi\n",
      "Loading  D:/YuLab/Work/GPS/Video/Leo/GPS_12_ThreeFPHoldSRTProbe/20240805/Top/Clips/Leo_20240805_HoldTrial028_TopView.avi\n",
      "Duration of video [s]:  8.04 , recorded with  25.0 fps!\n",
      "Overall # of frames:  201  found with (before cropping) frame dimensions:  1280 1331\n",
      "Starting to extract posture\n",
      "Cropping based on the x1 = 0 x2 = 1280 y1 = 0 y2 = 1024. You can adjust the cropping coordinates in the config.yaml file.\n"
     ]
    },
    {
     "name": "stderr",
     "output_type": "stream",
     "text": [
      "100%|██████████| 201/201 [00:09<00:00, 20.71it/s]\n"
     ]
    },
    {
     "name": "stdout",
     "output_type": "stream",
     "text": [
      "Saving results in D:\\YuLab\\Work\\GPS\\Video\\Leo\\GPS_12_ThreeFPHoldSRTProbe\\20240805\\Top\\Clips...\n",
      "Saving csv poses!\n",
      "Starting to analyze %  D:/YuLab/Work/GPS/Video/Leo/GPS_12_ThreeFPHoldSRTProbe/20240805/Top/Clips/Leo_20240805_HoldTrial029_TopView.avi\n",
      "Loading  D:/YuLab/Work/GPS/Video/Leo/GPS_12_ThreeFPHoldSRTProbe/20240805/Top/Clips/Leo_20240805_HoldTrial029_TopView.avi\n",
      "Duration of video [s]:  8.04 , recorded with  25.0 fps!\n",
      "Overall # of frames:  201  found with (before cropping) frame dimensions:  1280 1331\n",
      "Starting to extract posture\n",
      "Cropping based on the x1 = 0 x2 = 1280 y1 = 0 y2 = 1024. You can adjust the cropping coordinates in the config.yaml file.\n"
     ]
    },
    {
     "name": "stderr",
     "output_type": "stream",
     "text": [
      "100%|██████████| 201/201 [00:09<00:00, 21.60it/s]\n"
     ]
    },
    {
     "name": "stdout",
     "output_type": "stream",
     "text": [
      "Saving results in D:\\YuLab\\Work\\GPS\\Video\\Leo\\GPS_12_ThreeFPHoldSRTProbe\\20240805\\Top\\Clips...\n",
      "Saving csv poses!\n",
      "Starting to analyze %  D:/YuLab/Work/GPS/Video/Leo/GPS_12_ThreeFPHoldSRTProbe/20240805/Top/Clips/Leo_20240805_HoldTrial030_TopView.avi\n",
      "Loading  D:/YuLab/Work/GPS/Video/Leo/GPS_12_ThreeFPHoldSRTProbe/20240805/Top/Clips/Leo_20240805_HoldTrial030_TopView.avi\n",
      "Duration of video [s]:  8.04 , recorded with  25.0 fps!\n",
      "Overall # of frames:  201  found with (before cropping) frame dimensions:  1280 1331\n",
      "Starting to extract posture\n",
      "Cropping based on the x1 = 0 x2 = 1280 y1 = 0 y2 = 1024. You can adjust the cropping coordinates in the config.yaml file.\n"
     ]
    },
    {
     "name": "stderr",
     "output_type": "stream",
     "text": [
      "100%|██████████| 201/201 [00:08<00:00, 22.36it/s]\n"
     ]
    },
    {
     "name": "stdout",
     "output_type": "stream",
     "text": [
      "Saving results in D:\\YuLab\\Work\\GPS\\Video\\Leo\\GPS_12_ThreeFPHoldSRTProbe\\20240805\\Top\\Clips...\n",
      "Saving csv poses!\n",
      "Starting to analyze %  D:/YuLab/Work/GPS/Video/Leo/GPS_12_ThreeFPHoldSRTProbe/20240805/Top/Clips/Leo_20240805_HoldTrial031_TopView.avi\n",
      "Loading  D:/YuLab/Work/GPS/Video/Leo/GPS_12_ThreeFPHoldSRTProbe/20240805/Top/Clips/Leo_20240805_HoldTrial031_TopView.avi\n",
      "Duration of video [s]:  8.04 , recorded with  25.0 fps!\n",
      "Overall # of frames:  201  found with (before cropping) frame dimensions:  1280 1331\n",
      "Starting to extract posture\n",
      "Cropping based on the x1 = 0 x2 = 1280 y1 = 0 y2 = 1024. You can adjust the cropping coordinates in the config.yaml file.\n"
     ]
    },
    {
     "name": "stderr",
     "output_type": "stream",
     "text": [
      "100%|██████████| 201/201 [00:08<00:00, 22.85it/s]\n"
     ]
    },
    {
     "name": "stdout",
     "output_type": "stream",
     "text": [
      "Saving results in D:\\YuLab\\Work\\GPS\\Video\\Leo\\GPS_12_ThreeFPHoldSRTProbe\\20240805\\Top\\Clips...\n",
      "Saving csv poses!\n",
      "Starting to analyze %  D:/YuLab/Work/GPS/Video/Leo/GPS_12_ThreeFPHoldSRTProbe/20240805/Top/Clips/Leo_20240805_HoldTrial032_TopView.avi\n",
      "Loading  D:/YuLab/Work/GPS/Video/Leo/GPS_12_ThreeFPHoldSRTProbe/20240805/Top/Clips/Leo_20240805_HoldTrial032_TopView.avi\n",
      "Duration of video [s]:  8.04 , recorded with  25.0 fps!\n",
      "Overall # of frames:  201  found with (before cropping) frame dimensions:  1280 1331\n",
      "Starting to extract posture\n",
      "Cropping based on the x1 = 0 x2 = 1280 y1 = 0 y2 = 1024. You can adjust the cropping coordinates in the config.yaml file.\n"
     ]
    },
    {
     "name": "stderr",
     "output_type": "stream",
     "text": [
      "100%|██████████| 201/201 [00:08<00:00, 22.85it/s]\n"
     ]
    },
    {
     "name": "stdout",
     "output_type": "stream",
     "text": [
      "Saving results in D:\\YuLab\\Work\\GPS\\Video\\Leo\\GPS_12_ThreeFPHoldSRTProbe\\20240805\\Top\\Clips...\n",
      "Saving csv poses!\n",
      "Starting to analyze %  D:/YuLab/Work/GPS/Video/Leo/GPS_12_ThreeFPHoldSRTProbe/20240805/Top/Clips/Leo_20240805_HoldTrial033_TopView.avi\n",
      "Loading  D:/YuLab/Work/GPS/Video/Leo/GPS_12_ThreeFPHoldSRTProbe/20240805/Top/Clips/Leo_20240805_HoldTrial033_TopView.avi\n",
      "Duration of video [s]:  8.04 , recorded with  25.0 fps!\n",
      "Overall # of frames:  201  found with (before cropping) frame dimensions:  1280 1331\n",
      "Starting to extract posture\n",
      "Cropping based on the x1 = 0 x2 = 1280 y1 = 0 y2 = 1024. You can adjust the cropping coordinates in the config.yaml file.\n"
     ]
    },
    {
     "name": "stderr",
     "output_type": "stream",
     "text": [
      "100%|██████████| 201/201 [00:08<00:00, 22.66it/s]\n"
     ]
    },
    {
     "name": "stdout",
     "output_type": "stream",
     "text": [
      "Saving results in D:\\YuLab\\Work\\GPS\\Video\\Leo\\GPS_12_ThreeFPHoldSRTProbe\\20240805\\Top\\Clips...\n",
      "Saving csv poses!\n",
      "Starting to analyze %  D:/YuLab/Work/GPS/Video/Leo/GPS_12_ThreeFPHoldSRTProbe/20240805/Top/Clips/Leo_20240805_HoldTrial034_TopView.avi\n",
      "Loading  D:/YuLab/Work/GPS/Video/Leo/GPS_12_ThreeFPHoldSRTProbe/20240805/Top/Clips/Leo_20240805_HoldTrial034_TopView.avi\n",
      "Duration of video [s]:  8.04 , recorded with  25.0 fps!\n",
      "Overall # of frames:  201  found with (before cropping) frame dimensions:  1280 1331\n",
      "Starting to extract posture\n",
      "Cropping based on the x1 = 0 x2 = 1280 y1 = 0 y2 = 1024. You can adjust the cropping coordinates in the config.yaml file.\n"
     ]
    },
    {
     "name": "stderr",
     "output_type": "stream",
     "text": [
      "100%|██████████| 201/201 [00:08<00:00, 22.93it/s]\n"
     ]
    },
    {
     "name": "stdout",
     "output_type": "stream",
     "text": [
      "Saving results in D:\\YuLab\\Work\\GPS\\Video\\Leo\\GPS_12_ThreeFPHoldSRTProbe\\20240805\\Top\\Clips...\n",
      "Saving csv poses!\n",
      "Starting to analyze %  D:/YuLab/Work/GPS/Video/Leo/GPS_12_ThreeFPHoldSRTProbe/20240805/Top/Clips/Leo_20240805_HoldTrial035_TopView.avi\n",
      "Loading  D:/YuLab/Work/GPS/Video/Leo/GPS_12_ThreeFPHoldSRTProbe/20240805/Top/Clips/Leo_20240805_HoldTrial035_TopView.avi\n",
      "Duration of video [s]:  8.04 , recorded with  25.0 fps!\n",
      "Overall # of frames:  201  found with (before cropping) frame dimensions:  1280 1331\n",
      "Starting to extract posture\n",
      "Cropping based on the x1 = 0 x2 = 1280 y1 = 0 y2 = 1024. You can adjust the cropping coordinates in the config.yaml file.\n"
     ]
    },
    {
     "name": "stderr",
     "output_type": "stream",
     "text": [
      "100%|██████████| 201/201 [00:08<00:00, 22.87it/s]\n"
     ]
    },
    {
     "name": "stdout",
     "output_type": "stream",
     "text": [
      "Saving results in D:\\YuLab\\Work\\GPS\\Video\\Leo\\GPS_12_ThreeFPHoldSRTProbe\\20240805\\Top\\Clips...\n",
      "Saving csv poses!\n",
      "Starting to analyze %  D:/YuLab/Work/GPS/Video/Leo/GPS_12_ThreeFPHoldSRTProbe/20240805/Top/Clips/Leo_20240805_HoldTrial036_TopView.avi\n",
      "Loading  D:/YuLab/Work/GPS/Video/Leo/GPS_12_ThreeFPHoldSRTProbe/20240805/Top/Clips/Leo_20240805_HoldTrial036_TopView.avi\n",
      "Duration of video [s]:  8.04 , recorded with  25.0 fps!\n",
      "Overall # of frames:  201  found with (before cropping) frame dimensions:  1280 1331\n",
      "Starting to extract posture\n",
      "Cropping based on the x1 = 0 x2 = 1280 y1 = 0 y2 = 1024. You can adjust the cropping coordinates in the config.yaml file.\n"
     ]
    },
    {
     "name": "stderr",
     "output_type": "stream",
     "text": [
      "100%|██████████| 201/201 [00:08<00:00, 22.87it/s]\n"
     ]
    },
    {
     "name": "stdout",
     "output_type": "stream",
     "text": [
      "Saving results in D:\\YuLab\\Work\\GPS\\Video\\Leo\\GPS_12_ThreeFPHoldSRTProbe\\20240805\\Top\\Clips...\n",
      "Saving csv poses!\n",
      "Starting to analyze %  D:/YuLab/Work/GPS/Video/Leo/GPS_12_ThreeFPHoldSRTProbe/20240805/Top/Clips/Leo_20240805_HoldTrial037_TopView.avi\n",
      "Loading  D:/YuLab/Work/GPS/Video/Leo/GPS_12_ThreeFPHoldSRTProbe/20240805/Top/Clips/Leo_20240805_HoldTrial037_TopView.avi\n",
      "Duration of video [s]:  8.04 , recorded with  25.0 fps!\n",
      "Overall # of frames:  201  found with (before cropping) frame dimensions:  1280 1331\n",
      "Starting to extract posture\n",
      "Cropping based on the x1 = 0 x2 = 1280 y1 = 0 y2 = 1024. You can adjust the cropping coordinates in the config.yaml file.\n"
     ]
    },
    {
     "name": "stderr",
     "output_type": "stream",
     "text": [
      "100%|██████████| 201/201 [00:08<00:00, 22.77it/s]\n"
     ]
    },
    {
     "name": "stdout",
     "output_type": "stream",
     "text": [
      "Saving results in D:\\YuLab\\Work\\GPS\\Video\\Leo\\GPS_12_ThreeFPHoldSRTProbe\\20240805\\Top\\Clips...\n",
      "Saving csv poses!\n",
      "Starting to analyze %  D:/YuLab/Work/GPS/Video/Leo/GPS_12_ThreeFPHoldSRTProbe/20240805/Top/Clips/Leo_20240805_HoldTrial038_TopView.avi\n",
      "Loading  D:/YuLab/Work/GPS/Video/Leo/GPS_12_ThreeFPHoldSRTProbe/20240805/Top/Clips/Leo_20240805_HoldTrial038_TopView.avi\n",
      "Duration of video [s]:  8.04 , recorded with  25.0 fps!\n",
      "Overall # of frames:  201  found with (before cropping) frame dimensions:  1280 1331\n",
      "Starting to extract posture\n",
      "Cropping based on the x1 = 0 x2 = 1280 y1 = 0 y2 = 1024. You can adjust the cropping coordinates in the config.yaml file.\n"
     ]
    },
    {
     "name": "stderr",
     "output_type": "stream",
     "text": [
      "100%|██████████| 201/201 [00:08<00:00, 22.98it/s]\n"
     ]
    },
    {
     "name": "stdout",
     "output_type": "stream",
     "text": [
      "Saving results in D:\\YuLab\\Work\\GPS\\Video\\Leo\\GPS_12_ThreeFPHoldSRTProbe\\20240805\\Top\\Clips...\n",
      "Saving csv poses!\n",
      "Starting to analyze %  D:/YuLab/Work/GPS/Video/Leo/GPS_12_ThreeFPHoldSRTProbe/20240805/Top/Clips/Leo_20240805_HoldTrial039_TopView.avi\n",
      "Loading  D:/YuLab/Work/GPS/Video/Leo/GPS_12_ThreeFPHoldSRTProbe/20240805/Top/Clips/Leo_20240805_HoldTrial039_TopView.avi\n",
      "Duration of video [s]:  8.04 , recorded with  25.0 fps!\n",
      "Overall # of frames:  201  found with (before cropping) frame dimensions:  1280 1331\n",
      "Starting to extract posture\n",
      "Cropping based on the x1 = 0 x2 = 1280 y1 = 0 y2 = 1024. You can adjust the cropping coordinates in the config.yaml file.\n"
     ]
    },
    {
     "name": "stderr",
     "output_type": "stream",
     "text": [
      "100%|██████████| 201/201 [00:08<00:00, 23.09it/s]\n"
     ]
    },
    {
     "name": "stdout",
     "output_type": "stream",
     "text": [
      "Saving results in D:\\YuLab\\Work\\GPS\\Video\\Leo\\GPS_12_ThreeFPHoldSRTProbe\\20240805\\Top\\Clips...\n",
      "Saving csv poses!\n",
      "Starting to analyze %  D:/YuLab/Work/GPS/Video/Leo/GPS_12_ThreeFPHoldSRTProbe/20240805/Top/Clips/Leo_20240805_HoldTrial040_TopView.avi\n",
      "Loading  D:/YuLab/Work/GPS/Video/Leo/GPS_12_ThreeFPHoldSRTProbe/20240805/Top/Clips/Leo_20240805_HoldTrial040_TopView.avi\n",
      "Duration of video [s]:  8.04 , recorded with  25.0 fps!\n",
      "Overall # of frames:  201  found with (before cropping) frame dimensions:  1280 1331\n",
      "Starting to extract posture\n",
      "Cropping based on the x1 = 0 x2 = 1280 y1 = 0 y2 = 1024. You can adjust the cropping coordinates in the config.yaml file.\n"
     ]
    },
    {
     "name": "stderr",
     "output_type": "stream",
     "text": [
      "100%|██████████| 201/201 [00:08<00:00, 23.06it/s]\n"
     ]
    },
    {
     "name": "stdout",
     "output_type": "stream",
     "text": [
      "Saving results in D:\\YuLab\\Work\\GPS\\Video\\Leo\\GPS_12_ThreeFPHoldSRTProbe\\20240805\\Top\\Clips...\n",
      "Saving csv poses!\n",
      "Starting to analyze %  D:/YuLab/Work/GPS/Video/Leo/GPS_12_ThreeFPHoldSRTProbe/20240805/Top/Clips/Leo_20240805_HoldTrial041_TopView.avi\n",
      "Loading  D:/YuLab/Work/GPS/Video/Leo/GPS_12_ThreeFPHoldSRTProbe/20240805/Top/Clips/Leo_20240805_HoldTrial041_TopView.avi\n",
      "Duration of video [s]:  8.04 , recorded with  25.0 fps!\n",
      "Overall # of frames:  201  found with (before cropping) frame dimensions:  1280 1331\n",
      "Starting to extract posture\n",
      "Cropping based on the x1 = 0 x2 = 1280 y1 = 0 y2 = 1024. You can adjust the cropping coordinates in the config.yaml file.\n"
     ]
    },
    {
     "name": "stderr",
     "output_type": "stream",
     "text": [
      "100%|██████████| 201/201 [00:08<00:00, 23.00it/s]\n"
     ]
    },
    {
     "name": "stdout",
     "output_type": "stream",
     "text": [
      "Saving results in D:\\YuLab\\Work\\GPS\\Video\\Leo\\GPS_12_ThreeFPHoldSRTProbe\\20240805\\Top\\Clips...\n",
      "Saving csv poses!\n",
      "Starting to analyze %  D:/YuLab/Work/GPS/Video/Leo/GPS_12_ThreeFPHoldSRTProbe/20240805/Top/Clips/Leo_20240805_HoldTrial042_TopView.avi\n",
      "Loading  D:/YuLab/Work/GPS/Video/Leo/GPS_12_ThreeFPHoldSRTProbe/20240805/Top/Clips/Leo_20240805_HoldTrial042_TopView.avi\n",
      "Duration of video [s]:  8.04 , recorded with  25.0 fps!\n",
      "Overall # of frames:  201  found with (before cropping) frame dimensions:  1280 1331\n",
      "Starting to extract posture\n",
      "Cropping based on the x1 = 0 x2 = 1280 y1 = 0 y2 = 1024. You can adjust the cropping coordinates in the config.yaml file.\n"
     ]
    },
    {
     "name": "stderr",
     "output_type": "stream",
     "text": [
      "100%|██████████| 201/201 [00:08<00:00, 23.10it/s]\n"
     ]
    },
    {
     "name": "stdout",
     "output_type": "stream",
     "text": [
      "Saving results in D:\\YuLab\\Work\\GPS\\Video\\Leo\\GPS_12_ThreeFPHoldSRTProbe\\20240805\\Top\\Clips...\n",
      "Saving csv poses!\n",
      "Starting to analyze %  D:/YuLab/Work/GPS/Video/Leo/GPS_12_ThreeFPHoldSRTProbe/20240824/Top/Clips/Leo_20240824_HoldTrial009_TopView.avi\n",
      "Loading  D:/YuLab/Work/GPS/Video/Leo/GPS_12_ThreeFPHoldSRTProbe/20240824/Top/Clips/Leo_20240824_HoldTrial009_TopView.avi\n",
      "Duration of video [s]:  8.04 , recorded with  25.0 fps!\n",
      "Overall # of frames:  201  found with (before cropping) frame dimensions:  1280 1331\n",
      "Starting to extract posture\n",
      "Cropping based on the x1 = 0 x2 = 1280 y1 = 0 y2 = 1024. You can adjust the cropping coordinates in the config.yaml file.\n"
     ]
    },
    {
     "name": "stderr",
     "output_type": "stream",
     "text": [
      "100%|██████████| 201/201 [00:08<00:00, 22.81it/s]\n"
     ]
    },
    {
     "name": "stdout",
     "output_type": "stream",
     "text": [
      "Saving results in D:\\YuLab\\Work\\GPS\\Video\\Leo\\GPS_12_ThreeFPHoldSRTProbe\\20240824\\Top\\Clips...\n",
      "Saving csv poses!\n",
      "Starting to analyze %  D:/YuLab/Work/GPS/Video/Leo/GPS_12_ThreeFPHoldSRTProbe/20240824/Top/Clips/Leo_20240824_HoldTrial010_TopView.avi\n",
      "Loading  D:/YuLab/Work/GPS/Video/Leo/GPS_12_ThreeFPHoldSRTProbe/20240824/Top/Clips/Leo_20240824_HoldTrial010_TopView.avi\n",
      "Duration of video [s]:  8.04 , recorded with  25.0 fps!\n",
      "Overall # of frames:  201  found with (before cropping) frame dimensions:  1280 1331\n",
      "Starting to extract posture\n",
      "Cropping based on the x1 = 0 x2 = 1280 y1 = 0 y2 = 1024. You can adjust the cropping coordinates in the config.yaml file.\n"
     ]
    },
    {
     "name": "stderr",
     "output_type": "stream",
     "text": [
      "100%|██████████| 201/201 [00:08<00:00, 22.63it/s]\n"
     ]
    },
    {
     "name": "stdout",
     "output_type": "stream",
     "text": [
      "Saving results in D:\\YuLab\\Work\\GPS\\Video\\Leo\\GPS_12_ThreeFPHoldSRTProbe\\20240824\\Top\\Clips...\n",
      "Saving csv poses!\n",
      "Starting to analyze %  D:/YuLab/Work/GPS/Video/Leo/GPS_12_ThreeFPHoldSRTProbe/20240824/Top/Clips/Leo_20240824_HoldTrial011_TopView.avi\n",
      "Loading  D:/YuLab/Work/GPS/Video/Leo/GPS_12_ThreeFPHoldSRTProbe/20240824/Top/Clips/Leo_20240824_HoldTrial011_TopView.avi\n",
      "Duration of video [s]:  8.04 , recorded with  25.0 fps!\n",
      "Overall # of frames:  201  found with (before cropping) frame dimensions:  1280 1331\n",
      "Starting to extract posture\n",
      "Cropping based on the x1 = 0 x2 = 1280 y1 = 0 y2 = 1024. You can adjust the cropping coordinates in the config.yaml file.\n"
     ]
    },
    {
     "name": "stderr",
     "output_type": "stream",
     "text": [
      "100%|██████████| 201/201 [00:08<00:00, 22.79it/s]\n"
     ]
    },
    {
     "name": "stdout",
     "output_type": "stream",
     "text": [
      "Saving results in D:\\YuLab\\Work\\GPS\\Video\\Leo\\GPS_12_ThreeFPHoldSRTProbe\\20240824\\Top\\Clips...\n",
      "Saving csv poses!\n",
      "Starting to analyze %  D:/YuLab/Work/GPS/Video/Leo/GPS_12_ThreeFPHoldSRTProbe/20240824/Top/Clips/Leo_20240824_HoldTrial012_TopView.avi\n",
      "Loading  D:/YuLab/Work/GPS/Video/Leo/GPS_12_ThreeFPHoldSRTProbe/20240824/Top/Clips/Leo_20240824_HoldTrial012_TopView.avi\n",
      "Duration of video [s]:  8.0 , recorded with  25.0 fps!\n",
      "Overall # of frames:  200  found with (before cropping) frame dimensions:  1280 1331\n",
      "Starting to extract posture\n",
      "Cropping based on the x1 = 0 x2 = 1280 y1 = 0 y2 = 1024. You can adjust the cropping coordinates in the config.yaml file.\n"
     ]
    },
    {
     "name": "stderr",
     "output_type": "stream",
     "text": [
      "100%|██████████| 200/200 [00:08<00:00, 23.61it/s]\n"
     ]
    },
    {
     "name": "stdout",
     "output_type": "stream",
     "text": [
      "Saving results in D:\\YuLab\\Work\\GPS\\Video\\Leo\\GPS_12_ThreeFPHoldSRTProbe\\20240824\\Top\\Clips...\n",
      "Saving csv poses!\n",
      "Starting to analyze %  D:/YuLab/Work/GPS/Video/Leo/GPS_12_ThreeFPHoldSRTProbe/20240824/Top/Clips/Leo_20240824_HoldTrial013_TopView.avi\n",
      "Loading  D:/YuLab/Work/GPS/Video/Leo/GPS_12_ThreeFPHoldSRTProbe/20240824/Top/Clips/Leo_20240824_HoldTrial013_TopView.avi\n",
      "Duration of video [s]:  8.04 , recorded with  25.0 fps!\n",
      "Overall # of frames:  201  found with (before cropping) frame dimensions:  1280 1331\n",
      "Starting to extract posture\n",
      "Cropping based on the x1 = 0 x2 = 1280 y1 = 0 y2 = 1024. You can adjust the cropping coordinates in the config.yaml file.\n"
     ]
    },
    {
     "name": "stderr",
     "output_type": "stream",
     "text": [
      "100%|██████████| 201/201 [00:08<00:00, 23.13it/s]\n"
     ]
    },
    {
     "name": "stdout",
     "output_type": "stream",
     "text": [
      "Saving results in D:\\YuLab\\Work\\GPS\\Video\\Leo\\GPS_12_ThreeFPHoldSRTProbe\\20240824\\Top\\Clips...\n",
      "Saving csv poses!\n",
      "Starting to analyze %  D:/YuLab/Work/GPS/Video/Leo/GPS_12_ThreeFPHoldSRTProbe/20240824/Top/Clips/Leo_20240824_HoldTrial014_TopView.avi\n",
      "Loading  D:/YuLab/Work/GPS/Video/Leo/GPS_12_ThreeFPHoldSRTProbe/20240824/Top/Clips/Leo_20240824_HoldTrial014_TopView.avi\n",
      "Duration of video [s]:  8.04 , recorded with  25.0 fps!\n",
      "Overall # of frames:  201  found with (before cropping) frame dimensions:  1280 1331\n",
      "Starting to extract posture\n",
      "Cropping based on the x1 = 0 x2 = 1280 y1 = 0 y2 = 1024. You can adjust the cropping coordinates in the config.yaml file.\n"
     ]
    },
    {
     "name": "stderr",
     "output_type": "stream",
     "text": [
      "100%|██████████| 201/201 [00:08<00:00, 23.05it/s]\n"
     ]
    },
    {
     "name": "stdout",
     "output_type": "stream",
     "text": [
      "Saving results in D:\\YuLab\\Work\\GPS\\Video\\Leo\\GPS_12_ThreeFPHoldSRTProbe\\20240824\\Top\\Clips...\n",
      "Saving csv poses!\n",
      "Starting to analyze %  D:/YuLab/Work/GPS/Video/Leo/GPS_12_ThreeFPHoldSRTProbe/20240824/Top/Clips/Leo_20240824_HoldTrial015_TopView.avi\n",
      "Loading  D:/YuLab/Work/GPS/Video/Leo/GPS_12_ThreeFPHoldSRTProbe/20240824/Top/Clips/Leo_20240824_HoldTrial015_TopView.avi\n",
      "Duration of video [s]:  8.04 , recorded with  25.0 fps!\n",
      "Overall # of frames:  201  found with (before cropping) frame dimensions:  1280 1331\n",
      "Starting to extract posture\n",
      "Cropping based on the x1 = 0 x2 = 1280 y1 = 0 y2 = 1024. You can adjust the cropping coordinates in the config.yaml file.\n"
     ]
    },
    {
     "name": "stderr",
     "output_type": "stream",
     "text": [
      "100%|██████████| 201/201 [00:08<00:00, 23.01it/s]\n"
     ]
    },
    {
     "name": "stdout",
     "output_type": "stream",
     "text": [
      "Saving results in D:\\YuLab\\Work\\GPS\\Video\\Leo\\GPS_12_ThreeFPHoldSRTProbe\\20240824\\Top\\Clips...\n",
      "Saving csv poses!\n",
      "Starting to analyze %  D:/YuLab/Work/GPS/Video/Leo/GPS_12_ThreeFPHoldSRTProbe/20240824/Top/Clips/Leo_20240824_HoldTrial016_TopView.avi\n",
      "Loading  D:/YuLab/Work/GPS/Video/Leo/GPS_12_ThreeFPHoldSRTProbe/20240824/Top/Clips/Leo_20240824_HoldTrial016_TopView.avi\n",
      "Duration of video [s]:  8.04 , recorded with  25.0 fps!\n",
      "Overall # of frames:  201  found with (before cropping) frame dimensions:  1280 1331\n",
      "Starting to extract posture\n",
      "Cropping based on the x1 = 0 x2 = 1280 y1 = 0 y2 = 1024. You can adjust the cropping coordinates in the config.yaml file.\n"
     ]
    },
    {
     "name": "stderr",
     "output_type": "stream",
     "text": [
      "100%|██████████| 201/201 [00:08<00:00, 22.95it/s]\n"
     ]
    },
    {
     "name": "stdout",
     "output_type": "stream",
     "text": [
      "Saving results in D:\\YuLab\\Work\\GPS\\Video\\Leo\\GPS_12_ThreeFPHoldSRTProbe\\20240824\\Top\\Clips...\n",
      "Saving csv poses!\n",
      "Starting to analyze %  D:/YuLab/Work/GPS/Video/Leo/GPS_12_ThreeFPHoldSRTProbe/20240824/Top/Clips/Leo_20240824_HoldTrial017_TopView.avi\n",
      "Loading  D:/YuLab/Work/GPS/Video/Leo/GPS_12_ThreeFPHoldSRTProbe/20240824/Top/Clips/Leo_20240824_HoldTrial017_TopView.avi\n",
      "Duration of video [s]:  8.04 , recorded with  25.0 fps!\n",
      "Overall # of frames:  201  found with (before cropping) frame dimensions:  1280 1331\n",
      "Starting to extract posture\n",
      "Cropping based on the x1 = 0 x2 = 1280 y1 = 0 y2 = 1024. You can adjust the cropping coordinates in the config.yaml file.\n"
     ]
    },
    {
     "name": "stderr",
     "output_type": "stream",
     "text": [
      "100%|██████████| 201/201 [00:08<00:00, 23.01it/s]\n"
     ]
    },
    {
     "name": "stdout",
     "output_type": "stream",
     "text": [
      "Saving results in D:\\YuLab\\Work\\GPS\\Video\\Leo\\GPS_12_ThreeFPHoldSRTProbe\\20240824\\Top\\Clips...\n",
      "Saving csv poses!\n",
      "Starting to analyze %  D:/YuLab/Work/GPS/Video/Leo/GPS_12_ThreeFPHoldSRTProbe/20240824/Top/Clips/Leo_20240824_HoldTrial018_TopView.avi\n",
      "Loading  D:/YuLab/Work/GPS/Video/Leo/GPS_12_ThreeFPHoldSRTProbe/20240824/Top/Clips/Leo_20240824_HoldTrial018_TopView.avi\n",
      "Duration of video [s]:  8.04 , recorded with  25.0 fps!\n",
      "Overall # of frames:  201  found with (before cropping) frame dimensions:  1280 1331\n",
      "Starting to extract posture\n",
      "Cropping based on the x1 = 0 x2 = 1280 y1 = 0 y2 = 1024. You can adjust the cropping coordinates in the config.yaml file.\n"
     ]
    },
    {
     "name": "stderr",
     "output_type": "stream",
     "text": [
      "100%|██████████| 201/201 [00:08<00:00, 22.85it/s]\n"
     ]
    },
    {
     "name": "stdout",
     "output_type": "stream",
     "text": [
      "Saving results in D:\\YuLab\\Work\\GPS\\Video\\Leo\\GPS_12_ThreeFPHoldSRTProbe\\20240824\\Top\\Clips...\n",
      "Saving csv poses!\n",
      "Starting to analyze %  D:/YuLab/Work/GPS/Video/Leo/GPS_12_ThreeFPHoldSRTProbe/20240824/Top/Clips/Leo_20240824_HoldTrial019_TopView.avi\n",
      "Loading  D:/YuLab/Work/GPS/Video/Leo/GPS_12_ThreeFPHoldSRTProbe/20240824/Top/Clips/Leo_20240824_HoldTrial019_TopView.avi\n",
      "Duration of video [s]:  8.04 , recorded with  25.0 fps!\n",
      "Overall # of frames:  201  found with (before cropping) frame dimensions:  1280 1331\n",
      "Starting to extract posture\n",
      "Cropping based on the x1 = 0 x2 = 1280 y1 = 0 y2 = 1024. You can adjust the cropping coordinates in the config.yaml file.\n"
     ]
    },
    {
     "name": "stderr",
     "output_type": "stream",
     "text": [
      "100%|██████████| 201/201 [00:08<00:00, 22.48it/s]\n"
     ]
    },
    {
     "name": "stdout",
     "output_type": "stream",
     "text": [
      "Saving results in D:\\YuLab\\Work\\GPS\\Video\\Leo\\GPS_12_ThreeFPHoldSRTProbe\\20240824\\Top\\Clips...\n",
      "Saving csv poses!\n",
      "Starting to analyze %  D:/YuLab/Work/GPS/Video/Leo/GPS_12_ThreeFPHoldSRTProbe/20240824/Top/Clips/Leo_20240824_HoldTrial020_TopView.avi\n",
      "Loading  D:/YuLab/Work/GPS/Video/Leo/GPS_12_ThreeFPHoldSRTProbe/20240824/Top/Clips/Leo_20240824_HoldTrial020_TopView.avi\n",
      "Duration of video [s]:  8.04 , recorded with  25.0 fps!\n",
      "Overall # of frames:  201  found with (before cropping) frame dimensions:  1280 1331\n",
      "Starting to extract posture\n",
      "Cropping based on the x1 = 0 x2 = 1280 y1 = 0 y2 = 1024. You can adjust the cropping coordinates in the config.yaml file.\n"
     ]
    },
    {
     "name": "stderr",
     "output_type": "stream",
     "text": [
      "100%|██████████| 201/201 [00:08<00:00, 22.42it/s]\n"
     ]
    },
    {
     "name": "stdout",
     "output_type": "stream",
     "text": [
      "Saving results in D:\\YuLab\\Work\\GPS\\Video\\Leo\\GPS_12_ThreeFPHoldSRTProbe\\20240824\\Top\\Clips...\n",
      "Saving csv poses!\n",
      "Starting to analyze %  D:/YuLab/Work/GPS/Video/Leo/GPS_12_ThreeFPHoldSRTProbe/20240824/Top/Clips/Leo_20240824_HoldTrial021_TopView.avi\n",
      "Loading  D:/YuLab/Work/GPS/Video/Leo/GPS_12_ThreeFPHoldSRTProbe/20240824/Top/Clips/Leo_20240824_HoldTrial021_TopView.avi\n",
      "Duration of video [s]:  8.04 , recorded with  25.0 fps!\n",
      "Overall # of frames:  201  found with (before cropping) frame dimensions:  1280 1331\n",
      "Starting to extract posture\n",
      "Cropping based on the x1 = 0 x2 = 1280 y1 = 0 y2 = 1024. You can adjust the cropping coordinates in the config.yaml file.\n"
     ]
    },
    {
     "name": "stderr",
     "output_type": "stream",
     "text": [
      "100%|██████████| 201/201 [00:08<00:00, 22.39it/s]\n"
     ]
    },
    {
     "name": "stdout",
     "output_type": "stream",
     "text": [
      "Saving results in D:\\YuLab\\Work\\GPS\\Video\\Leo\\GPS_12_ThreeFPHoldSRTProbe\\20240824\\Top\\Clips...\n",
      "Saving csv poses!\n",
      "Starting to analyze %  D:/YuLab/Work/GPS/Video/Leo/GPS_12_ThreeFPHoldSRTProbe/20240824/Top/Clips/Leo_20240824_HoldTrial022_TopView.avi\n",
      "Loading  D:/YuLab/Work/GPS/Video/Leo/GPS_12_ThreeFPHoldSRTProbe/20240824/Top/Clips/Leo_20240824_HoldTrial022_TopView.avi\n",
      "Duration of video [s]:  8.04 , recorded with  25.0 fps!\n",
      "Overall # of frames:  201  found with (before cropping) frame dimensions:  1280 1331\n",
      "Starting to extract posture\n",
      "Cropping based on the x1 = 0 x2 = 1280 y1 = 0 y2 = 1024. You can adjust the cropping coordinates in the config.yaml file.\n"
     ]
    },
    {
     "name": "stderr",
     "output_type": "stream",
     "text": [
      "100%|██████████| 201/201 [00:08<00:00, 22.49it/s]\n"
     ]
    },
    {
     "name": "stdout",
     "output_type": "stream",
     "text": [
      "Saving results in D:\\YuLab\\Work\\GPS\\Video\\Leo\\GPS_12_ThreeFPHoldSRTProbe\\20240824\\Top\\Clips...\n",
      "Saving csv poses!\n",
      "Starting to analyze %  D:/YuLab/Work/GPS/Video/Leo/GPS_12_ThreeFPHoldSRTProbe/20240824/Top/Clips/Leo_20240824_HoldTrial023_TopView.avi\n",
      "Loading  D:/YuLab/Work/GPS/Video/Leo/GPS_12_ThreeFPHoldSRTProbe/20240824/Top/Clips/Leo_20240824_HoldTrial023_TopView.avi\n",
      "Duration of video [s]:  8.04 , recorded with  25.0 fps!\n",
      "Overall # of frames:  201  found with (before cropping) frame dimensions:  1280 1331\n",
      "Starting to extract posture\n",
      "Cropping based on the x1 = 0 x2 = 1280 y1 = 0 y2 = 1024. You can adjust the cropping coordinates in the config.yaml file.\n"
     ]
    },
    {
     "name": "stderr",
     "output_type": "stream",
     "text": [
      "100%|██████████| 201/201 [00:08<00:00, 22.49it/s]\n"
     ]
    },
    {
     "name": "stdout",
     "output_type": "stream",
     "text": [
      "Saving results in D:\\YuLab\\Work\\GPS\\Video\\Leo\\GPS_12_ThreeFPHoldSRTProbe\\20240824\\Top\\Clips...\n",
      "Saving csv poses!\n",
      "Starting to analyze %  D:/YuLab/Work/GPS/Video/Leo/GPS_12_ThreeFPHoldSRTProbe/20240824/Top/Clips/Leo_20240824_HoldTrial024_TopView.avi\n",
      "Loading  D:/YuLab/Work/GPS/Video/Leo/GPS_12_ThreeFPHoldSRTProbe/20240824/Top/Clips/Leo_20240824_HoldTrial024_TopView.avi\n",
      "Duration of video [s]:  8.04 , recorded with  25.0 fps!\n",
      "Overall # of frames:  201  found with (before cropping) frame dimensions:  1280 1331\n",
      "Starting to extract posture\n",
      "Cropping based on the x1 = 0 x2 = 1280 y1 = 0 y2 = 1024. You can adjust the cropping coordinates in the config.yaml file.\n"
     ]
    },
    {
     "name": "stderr",
     "output_type": "stream",
     "text": [
      "100%|██████████| 201/201 [00:08<00:00, 23.04it/s]\n"
     ]
    },
    {
     "name": "stdout",
     "output_type": "stream",
     "text": [
      "Saving results in D:\\YuLab\\Work\\GPS\\Video\\Leo\\GPS_12_ThreeFPHoldSRTProbe\\20240824\\Top\\Clips...\n",
      "Saving csv poses!\n",
      "Starting to analyze %  D:/YuLab/Work/GPS/Video/Leo/GPS_12_ThreeFPHoldSRTProbe/20240824/Top/Clips/Leo_20240824_HoldTrial025_TopView.avi\n",
      "Loading  D:/YuLab/Work/GPS/Video/Leo/GPS_12_ThreeFPHoldSRTProbe/20240824/Top/Clips/Leo_20240824_HoldTrial025_TopView.avi\n",
      "Duration of video [s]:  8.04 , recorded with  25.0 fps!\n",
      "Overall # of frames:  201  found with (before cropping) frame dimensions:  1280 1331\n",
      "Starting to extract posture\n",
      "Cropping based on the x1 = 0 x2 = 1280 y1 = 0 y2 = 1024. You can adjust the cropping coordinates in the config.yaml file.\n"
     ]
    },
    {
     "name": "stderr",
     "output_type": "stream",
     "text": [
      "100%|██████████| 201/201 [00:08<00:00, 23.34it/s]\n"
     ]
    },
    {
     "name": "stdout",
     "output_type": "stream",
     "text": [
      "Saving results in D:\\YuLab\\Work\\GPS\\Video\\Leo\\GPS_12_ThreeFPHoldSRTProbe\\20240824\\Top\\Clips...\n",
      "Saving csv poses!\n",
      "Starting to analyze %  D:/YuLab/Work/GPS/Video/Leo/GPS_12_ThreeFPHoldSRTProbe/20240824/Top/Clips/Leo_20240824_HoldTrial026_TopView.avi\n",
      "Loading  D:/YuLab/Work/GPS/Video/Leo/GPS_12_ThreeFPHoldSRTProbe/20240824/Top/Clips/Leo_20240824_HoldTrial026_TopView.avi\n",
      "Duration of video [s]:  8.04 , recorded with  25.0 fps!\n",
      "Overall # of frames:  201  found with (before cropping) frame dimensions:  1280 1331\n",
      "Starting to extract posture\n",
      "Cropping based on the x1 = 0 x2 = 1280 y1 = 0 y2 = 1024. You can adjust the cropping coordinates in the config.yaml file.\n"
     ]
    },
    {
     "name": "stderr",
     "output_type": "stream",
     "text": [
      "100%|██████████| 201/201 [00:08<00:00, 23.31it/s]\n"
     ]
    },
    {
     "name": "stdout",
     "output_type": "stream",
     "text": [
      "Saving results in D:\\YuLab\\Work\\GPS\\Video\\Leo\\GPS_12_ThreeFPHoldSRTProbe\\20240824\\Top\\Clips...\n",
      "Saving csv poses!\n",
      "Starting to analyze %  D:/YuLab/Work/GPS/Video/Leo/GPS_12_ThreeFPHoldSRTProbe/20240824/Top/Clips/Leo_20240824_HoldTrial027_TopView.avi\n",
      "Loading  D:/YuLab/Work/GPS/Video/Leo/GPS_12_ThreeFPHoldSRTProbe/20240824/Top/Clips/Leo_20240824_HoldTrial027_TopView.avi\n",
      "Duration of video [s]:  8.04 , recorded with  25.0 fps!\n",
      "Overall # of frames:  201  found with (before cropping) frame dimensions:  1280 1331\n",
      "Starting to extract posture\n",
      "Cropping based on the x1 = 0 x2 = 1280 y1 = 0 y2 = 1024. You can adjust the cropping coordinates in the config.yaml file.\n"
     ]
    },
    {
     "name": "stderr",
     "output_type": "stream",
     "text": [
      "100%|██████████| 201/201 [00:08<00:00, 23.28it/s]\n"
     ]
    },
    {
     "name": "stdout",
     "output_type": "stream",
     "text": [
      "Saving results in D:\\YuLab\\Work\\GPS\\Video\\Leo\\GPS_12_ThreeFPHoldSRTProbe\\20240824\\Top\\Clips...\n",
      "Saving csv poses!\n",
      "Starting to analyze %  D:/YuLab/Work/GPS/Video/Leo/GPS_12_ThreeFPHoldSRTProbe/20240824/Top/Clips/Leo_20240824_HoldTrial028_TopView.avi\n",
      "Loading  D:/YuLab/Work/GPS/Video/Leo/GPS_12_ThreeFPHoldSRTProbe/20240824/Top/Clips/Leo_20240824_HoldTrial028_TopView.avi\n",
      "Duration of video [s]:  8.04 , recorded with  25.0 fps!\n",
      "Overall # of frames:  201  found with (before cropping) frame dimensions:  1280 1331\n",
      "Starting to extract posture\n",
      "Cropping based on the x1 = 0 x2 = 1280 y1 = 0 y2 = 1024. You can adjust the cropping coordinates in the config.yaml file.\n"
     ]
    },
    {
     "name": "stderr",
     "output_type": "stream",
     "text": [
      "100%|██████████| 201/201 [00:08<00:00, 23.28it/s]\n"
     ]
    },
    {
     "name": "stdout",
     "output_type": "stream",
     "text": [
      "Saving results in D:\\YuLab\\Work\\GPS\\Video\\Leo\\GPS_12_ThreeFPHoldSRTProbe\\20240824\\Top\\Clips...\n",
      "Saving csv poses!\n",
      "Starting to analyze %  D:/YuLab/Work/GPS/Video/Leo/GPS_12_ThreeFPHoldSRTProbe/20240824/Top/Clips/Leo_20240824_HoldTrial029_TopView.avi\n",
      "Loading  D:/YuLab/Work/GPS/Video/Leo/GPS_12_ThreeFPHoldSRTProbe/20240824/Top/Clips/Leo_20240824_HoldTrial029_TopView.avi\n",
      "Duration of video [s]:  8.04 , recorded with  25.0 fps!\n",
      "Overall # of frames:  201  found with (before cropping) frame dimensions:  1280 1331\n",
      "Starting to extract posture\n",
      "Cropping based on the x1 = 0 x2 = 1280 y1 = 0 y2 = 1024. You can adjust the cropping coordinates in the config.yaml file.\n"
     ]
    },
    {
     "name": "stderr",
     "output_type": "stream",
     "text": [
      "100%|██████████| 201/201 [00:08<00:00, 23.31it/s]\n"
     ]
    },
    {
     "name": "stdout",
     "output_type": "stream",
     "text": [
      "Saving results in D:\\YuLab\\Work\\GPS\\Video\\Leo\\GPS_12_ThreeFPHoldSRTProbe\\20240824\\Top\\Clips...\n",
      "Saving csv poses!\n",
      "Starting to analyze %  D:/YuLab/Work/GPS/Video/Leo/GPS_12_ThreeFPHoldSRTProbe/20240824/Top/Clips/Leo_20240824_HoldTrial030_TopView.avi\n",
      "Loading  D:/YuLab/Work/GPS/Video/Leo/GPS_12_ThreeFPHoldSRTProbe/20240824/Top/Clips/Leo_20240824_HoldTrial030_TopView.avi\n",
      "Duration of video [s]:  8.0 , recorded with  25.0 fps!\n",
      "Overall # of frames:  200  found with (before cropping) frame dimensions:  1280 1331\n",
      "Starting to extract posture\n",
      "Cropping based on the x1 = 0 x2 = 1280 y1 = 0 y2 = 1024. You can adjust the cropping coordinates in the config.yaml file.\n"
     ]
    },
    {
     "name": "stderr",
     "output_type": "stream",
     "text": [
      "100%|██████████| 200/200 [00:08<00:00, 23.88it/s]\n"
     ]
    },
    {
     "name": "stdout",
     "output_type": "stream",
     "text": [
      "Saving results in D:\\YuLab\\Work\\GPS\\Video\\Leo\\GPS_12_ThreeFPHoldSRTProbe\\20240824\\Top\\Clips...\n",
      "Saving csv poses!\n",
      "Starting to analyze %  D:/YuLab/Work/GPS/Video/Leo/GPS_12_ThreeFPHoldSRTProbe/20240824/Top/Clips/Leo_20240824_HoldTrial031_TopView.avi\n",
      "Loading  D:/YuLab/Work/GPS/Video/Leo/GPS_12_ThreeFPHoldSRTProbe/20240824/Top/Clips/Leo_20240824_HoldTrial031_TopView.avi\n",
      "Duration of video [s]:  8.04 , recorded with  25.0 fps!\n",
      "Overall # of frames:  201  found with (before cropping) frame dimensions:  1280 1331\n",
      "Starting to extract posture\n",
      "Cropping based on the x1 = 0 x2 = 1280 y1 = 0 y2 = 1024. You can adjust the cropping coordinates in the config.yaml file.\n"
     ]
    },
    {
     "name": "stderr",
     "output_type": "stream",
     "text": [
      "100%|██████████| 201/201 [00:08<00:00, 23.06it/s]\n"
     ]
    },
    {
     "name": "stdout",
     "output_type": "stream",
     "text": [
      "Saving results in D:\\YuLab\\Work\\GPS\\Video\\Leo\\GPS_12_ThreeFPHoldSRTProbe\\20240824\\Top\\Clips...\n",
      "Saving csv poses!\n",
      "Starting to analyze %  D:/YuLab/Work/GPS/Video/Leo/GPS_12_ThreeFPHoldSRTProbe/20240824/Top/Clips/Leo_20240824_HoldTrial032_TopView.avi\n",
      "Loading  D:/YuLab/Work/GPS/Video/Leo/GPS_12_ThreeFPHoldSRTProbe/20240824/Top/Clips/Leo_20240824_HoldTrial032_TopView.avi\n",
      "Duration of video [s]:  8.04 , recorded with  25.0 fps!\n",
      "Overall # of frames:  201  found with (before cropping) frame dimensions:  1280 1331\n",
      "Starting to extract posture\n",
      "Cropping based on the x1 = 0 x2 = 1280 y1 = 0 y2 = 1024. You can adjust the cropping coordinates in the config.yaml file.\n"
     ]
    },
    {
     "name": "stderr",
     "output_type": "stream",
     "text": [
      "100%|██████████| 201/201 [00:08<00:00, 23.25it/s]\n"
     ]
    },
    {
     "name": "stdout",
     "output_type": "stream",
     "text": [
      "Saving results in D:\\YuLab\\Work\\GPS\\Video\\Leo\\GPS_12_ThreeFPHoldSRTProbe\\20240824\\Top\\Clips...\n",
      "Saving csv poses!\n",
      "Starting to analyze %  D:/YuLab/Work/GPS/Video/Leo/GPS_12_ThreeFPHoldSRTProbe/20240824/Top/Clips/Leo_20240824_HoldTrial033_TopView.avi\n",
      "Loading  D:/YuLab/Work/GPS/Video/Leo/GPS_12_ThreeFPHoldSRTProbe/20240824/Top/Clips/Leo_20240824_HoldTrial033_TopView.avi\n",
      "Duration of video [s]:  8.04 , recorded with  25.0 fps!\n",
      "Overall # of frames:  201  found with (before cropping) frame dimensions:  1280 1331\n",
      "Starting to extract posture\n",
      "Cropping based on the x1 = 0 x2 = 1280 y1 = 0 y2 = 1024. You can adjust the cropping coordinates in the config.yaml file.\n"
     ]
    },
    {
     "name": "stderr",
     "output_type": "stream",
     "text": [
      "100%|██████████| 201/201 [00:08<00:00, 23.13it/s]\n"
     ]
    },
    {
     "name": "stdout",
     "output_type": "stream",
     "text": [
      "Saving results in D:\\YuLab\\Work\\GPS\\Video\\Leo\\GPS_12_ThreeFPHoldSRTProbe\\20240824\\Top\\Clips...\n",
      "Saving csv poses!\n",
      "Starting to analyze %  D:/YuLab/Work/GPS/Video/Leo/GPS_12_ThreeFPHoldSRTProbe/20240824/Top/Clips/Leo_20240824_HoldTrial034_TopView.avi\n",
      "Loading  D:/YuLab/Work/GPS/Video/Leo/GPS_12_ThreeFPHoldSRTProbe/20240824/Top/Clips/Leo_20240824_HoldTrial034_TopView.avi\n",
      "Duration of video [s]:  8.04 , recorded with  25.0 fps!\n",
      "Overall # of frames:  201  found with (before cropping) frame dimensions:  1280 1331\n",
      "Starting to extract posture\n",
      "Cropping based on the x1 = 0 x2 = 1280 y1 = 0 y2 = 1024. You can adjust the cropping coordinates in the config.yaml file.\n"
     ]
    },
    {
     "name": "stderr",
     "output_type": "stream",
     "text": [
      "100%|██████████| 201/201 [00:08<00:00, 23.17it/s]\n"
     ]
    },
    {
     "name": "stdout",
     "output_type": "stream",
     "text": [
      "Saving results in D:\\YuLab\\Work\\GPS\\Video\\Leo\\GPS_12_ThreeFPHoldSRTProbe\\20240824\\Top\\Clips...\n",
      "Saving csv poses!\n",
      "Starting to analyze %  D:/YuLab/Work/GPS/Video/Leo/GPS_12_ThreeFPHoldSRTProbe/20240824/Top/Clips/Leo_20240824_HoldTrial035_TopView.avi\n",
      "Loading  D:/YuLab/Work/GPS/Video/Leo/GPS_12_ThreeFPHoldSRTProbe/20240824/Top/Clips/Leo_20240824_HoldTrial035_TopView.avi\n",
      "Duration of video [s]:  8.04 , recorded with  25.0 fps!\n",
      "Overall # of frames:  201  found with (before cropping) frame dimensions:  1280 1331\n",
      "Starting to extract posture\n",
      "Cropping based on the x1 = 0 x2 = 1280 y1 = 0 y2 = 1024. You can adjust the cropping coordinates in the config.yaml file.\n"
     ]
    },
    {
     "name": "stderr",
     "output_type": "stream",
     "text": [
      "100%|██████████| 201/201 [00:08<00:00, 23.22it/s]\n"
     ]
    },
    {
     "name": "stdout",
     "output_type": "stream",
     "text": [
      "Saving results in D:\\YuLab\\Work\\GPS\\Video\\Leo\\GPS_12_ThreeFPHoldSRTProbe\\20240824\\Top\\Clips...\n",
      "Saving csv poses!\n",
      "Starting to analyze %  D:/YuLab/Work/GPS/Video/Leo/GPS_12_ThreeFPHoldSRTProbe/20240824/Top/Clips/Leo_20240824_HoldTrial036_TopView.avi\n",
      "Loading  D:/YuLab/Work/GPS/Video/Leo/GPS_12_ThreeFPHoldSRTProbe/20240824/Top/Clips/Leo_20240824_HoldTrial036_TopView.avi\n",
      "Duration of video [s]:  8.04 , recorded with  25.0 fps!\n",
      "Overall # of frames:  201  found with (before cropping) frame dimensions:  1280 1331\n",
      "Starting to extract posture\n",
      "Cropping based on the x1 = 0 x2 = 1280 y1 = 0 y2 = 1024. You can adjust the cropping coordinates in the config.yaml file.\n"
     ]
    },
    {
     "name": "stderr",
     "output_type": "stream",
     "text": [
      "100%|██████████| 201/201 [00:08<00:00, 23.19it/s]\n"
     ]
    },
    {
     "name": "stdout",
     "output_type": "stream",
     "text": [
      "Saving results in D:\\YuLab\\Work\\GPS\\Video\\Leo\\GPS_12_ThreeFPHoldSRTProbe\\20240824\\Top\\Clips...\n",
      "Saving csv poses!\n",
      "Starting to analyze %  D:/YuLab/Work/GPS/Video/Leo/GPS_12_ThreeFPHoldSRTProbe/20240824/Top/Clips/Leo_20240824_HoldTrial037_TopView.avi\n",
      "Loading  D:/YuLab/Work/GPS/Video/Leo/GPS_12_ThreeFPHoldSRTProbe/20240824/Top/Clips/Leo_20240824_HoldTrial037_TopView.avi\n",
      "Duration of video [s]:  8.04 , recorded with  25.0 fps!\n",
      "Overall # of frames:  201  found with (before cropping) frame dimensions:  1280 1331\n",
      "Starting to extract posture\n",
      "Cropping based on the x1 = 0 x2 = 1280 y1 = 0 y2 = 1024. You can adjust the cropping coordinates in the config.yaml file.\n"
     ]
    },
    {
     "name": "stderr",
     "output_type": "stream",
     "text": [
      "100%|██████████| 201/201 [00:08<00:00, 23.13it/s]\n"
     ]
    },
    {
     "name": "stdout",
     "output_type": "stream",
     "text": [
      "Saving results in D:\\YuLab\\Work\\GPS\\Video\\Leo\\GPS_12_ThreeFPHoldSRTProbe\\20240824\\Top\\Clips...\n",
      "Saving csv poses!\n",
      "Starting to analyze %  D:/YuLab/Work/GPS/Video/Leo/GPS_12_ThreeFPHoldSRTProbe/20240824/Top/Clips/Leo_20240824_HoldTrial038_TopView.avi\n",
      "Loading  D:/YuLab/Work/GPS/Video/Leo/GPS_12_ThreeFPHoldSRTProbe/20240824/Top/Clips/Leo_20240824_HoldTrial038_TopView.avi\n",
      "Duration of video [s]:  8.04 , recorded with  25.0 fps!\n",
      "Overall # of frames:  201  found with (before cropping) frame dimensions:  1280 1331\n",
      "Starting to extract posture\n",
      "Cropping based on the x1 = 0 x2 = 1280 y1 = 0 y2 = 1024. You can adjust the cropping coordinates in the config.yaml file.\n"
     ]
    },
    {
     "name": "stderr",
     "output_type": "stream",
     "text": [
      "100%|██████████| 201/201 [00:08<00:00, 23.06it/s]\n"
     ]
    },
    {
     "name": "stdout",
     "output_type": "stream",
     "text": [
      "Saving results in D:\\YuLab\\Work\\GPS\\Video\\Leo\\GPS_12_ThreeFPHoldSRTProbe\\20240824\\Top\\Clips...\n",
      "Saving csv poses!\n",
      "Starting to analyze %  D:/YuLab/Work/GPS/Video/Leo/GPS_12_ThreeFPHoldSRTProbe/20240824/Top/Clips/Leo_20240824_HoldTrial039_TopView.avi\n",
      "Loading  D:/YuLab/Work/GPS/Video/Leo/GPS_12_ThreeFPHoldSRTProbe/20240824/Top/Clips/Leo_20240824_HoldTrial039_TopView.avi\n",
      "Duration of video [s]:  8.04 , recorded with  25.0 fps!\n",
      "Overall # of frames:  201  found with (before cropping) frame dimensions:  1280 1331\n",
      "Starting to extract posture\n",
      "Cropping based on the x1 = 0 x2 = 1280 y1 = 0 y2 = 1024. You can adjust the cropping coordinates in the config.yaml file.\n"
     ]
    },
    {
     "name": "stderr",
     "output_type": "stream",
     "text": [
      "100%|██████████| 201/201 [00:08<00:00, 23.08it/s]\n"
     ]
    },
    {
     "name": "stdout",
     "output_type": "stream",
     "text": [
      "Saving results in D:\\YuLab\\Work\\GPS\\Video\\Leo\\GPS_12_ThreeFPHoldSRTProbe\\20240824\\Top\\Clips...\n",
      "Saving csv poses!\n",
      "Starting to analyze %  D:/YuLab/Work/GPS/Video/Leo/GPS_12_ThreeFPHoldSRTProbe/20240824/Top/Clips/Leo_20240824_HoldTrial040_TopView.avi\n",
      "Loading  D:/YuLab/Work/GPS/Video/Leo/GPS_12_ThreeFPHoldSRTProbe/20240824/Top/Clips/Leo_20240824_HoldTrial040_TopView.avi\n",
      "Duration of video [s]:  8.04 , recorded with  25.0 fps!\n",
      "Overall # of frames:  201  found with (before cropping) frame dimensions:  1280 1331\n",
      "Starting to extract posture\n",
      "Cropping based on the x1 = 0 x2 = 1280 y1 = 0 y2 = 1024. You can adjust the cropping coordinates in the config.yaml file.\n"
     ]
    },
    {
     "name": "stderr",
     "output_type": "stream",
     "text": [
      "100%|██████████| 201/201 [00:08<00:00, 23.11it/s]\n"
     ]
    },
    {
     "name": "stdout",
     "output_type": "stream",
     "text": [
      "Saving results in D:\\YuLab\\Work\\GPS\\Video\\Leo\\GPS_12_ThreeFPHoldSRTProbe\\20240824\\Top\\Clips...\n",
      "Saving csv poses!\n",
      "Starting to analyze %  D:/YuLab/Work/GPS/Video/Leo/GPS_12_ThreeFPHoldSRTProbe/20240824/Top/Clips/Leo_20240824_HoldTrial041_TopView.avi\n",
      "Loading  D:/YuLab/Work/GPS/Video/Leo/GPS_12_ThreeFPHoldSRTProbe/20240824/Top/Clips/Leo_20240824_HoldTrial041_TopView.avi\n",
      "Duration of video [s]:  8.04 , recorded with  25.0 fps!\n",
      "Overall # of frames:  201  found with (before cropping) frame dimensions:  1280 1331\n",
      "Starting to extract posture\n",
      "Cropping based on the x1 = 0 x2 = 1280 y1 = 0 y2 = 1024. You can adjust the cropping coordinates in the config.yaml file.\n"
     ]
    },
    {
     "name": "stderr",
     "output_type": "stream",
     "text": [
      "100%|██████████| 201/201 [00:08<00:00, 23.05it/s]\n"
     ]
    },
    {
     "name": "stdout",
     "output_type": "stream",
     "text": [
      "Saving results in D:\\YuLab\\Work\\GPS\\Video\\Leo\\GPS_12_ThreeFPHoldSRTProbe\\20240824\\Top\\Clips...\n",
      "Saving csv poses!\n",
      "Starting to analyze %  D:/YuLab/Work/GPS/Video/Leo/GPS_12_ThreeFPHoldSRTProbe/20240824/Top/Clips/Leo_20240824_HoldTrial042_TopView.avi\n",
      "Loading  D:/YuLab/Work/GPS/Video/Leo/GPS_12_ThreeFPHoldSRTProbe/20240824/Top/Clips/Leo_20240824_HoldTrial042_TopView.avi\n",
      "Duration of video [s]:  8.04 , recorded with  25.0 fps!\n",
      "Overall # of frames:  201  found with (before cropping) frame dimensions:  1280 1331\n",
      "Starting to extract posture\n",
      "Cropping based on the x1 = 0 x2 = 1280 y1 = 0 y2 = 1024. You can adjust the cropping coordinates in the config.yaml file.\n"
     ]
    },
    {
     "name": "stderr",
     "output_type": "stream",
     "text": [
      "100%|██████████| 201/201 [00:08<00:00, 23.12it/s]\n"
     ]
    },
    {
     "name": "stdout",
     "output_type": "stream",
     "text": [
      "Saving results in D:\\YuLab\\Work\\GPS\\Video\\Leo\\GPS_12_ThreeFPHoldSRTProbe\\20240824\\Top\\Clips...\n",
      "Saving csv poses!\n",
      "Starting to analyze %  D:/YuLab/Work/GPS/Video/Leo/GPS_12_ThreeFPHoldSRTProbe/20240824/Top/Clips/Leo_20240824_HoldTrial043_TopView.avi\n",
      "Loading  D:/YuLab/Work/GPS/Video/Leo/GPS_12_ThreeFPHoldSRTProbe/20240824/Top/Clips/Leo_20240824_HoldTrial043_TopView.avi\n",
      "Duration of video [s]:  8.04 , recorded with  25.0 fps!\n",
      "Overall # of frames:  201  found with (before cropping) frame dimensions:  1280 1331\n",
      "Starting to extract posture\n",
      "Cropping based on the x1 = 0 x2 = 1280 y1 = 0 y2 = 1024. You can adjust the cropping coordinates in the config.yaml file.\n"
     ]
    },
    {
     "name": "stderr",
     "output_type": "stream",
     "text": [
      "100%|██████████| 201/201 [00:08<00:00, 23.14it/s]\n"
     ]
    },
    {
     "name": "stdout",
     "output_type": "stream",
     "text": [
      "Saving results in D:\\YuLab\\Work\\GPS\\Video\\Leo\\GPS_12_ThreeFPHoldSRTProbe\\20240824\\Top\\Clips...\n",
      "Saving csv poses!\n",
      "Starting to analyze %  D:/YuLab/Work/GPS/Video/Leo/GPS_12_ThreeFPHoldSRTProbe/20240824/Top/Clips/Leo_20240824_HoldTrial044_TopView.avi\n",
      "Loading  D:/YuLab/Work/GPS/Video/Leo/GPS_12_ThreeFPHoldSRTProbe/20240824/Top/Clips/Leo_20240824_HoldTrial044_TopView.avi\n",
      "Duration of video [s]:  8.04 , recorded with  25.0 fps!\n",
      "Overall # of frames:  201  found with (before cropping) frame dimensions:  1280 1331\n",
      "Starting to extract posture\n",
      "Cropping based on the x1 = 0 x2 = 1280 y1 = 0 y2 = 1024. You can adjust the cropping coordinates in the config.yaml file.\n"
     ]
    },
    {
     "name": "stderr",
     "output_type": "stream",
     "text": [
      "100%|██████████| 201/201 [00:08<00:00, 23.07it/s]\n"
     ]
    },
    {
     "name": "stdout",
     "output_type": "stream",
     "text": [
      "Saving results in D:\\YuLab\\Work\\GPS\\Video\\Leo\\GPS_12_ThreeFPHoldSRTProbe\\20240824\\Top\\Clips...\n",
      "Saving csv poses!\n",
      "Starting to analyze %  D:/YuLab/Work/GPS/Video/Leo/GPS_12_ThreeFPHoldSRTProbe/20240824/Top/Clips/Leo_20240824_HoldTrial045_TopView.avi\n",
      "Loading  D:/YuLab/Work/GPS/Video/Leo/GPS_12_ThreeFPHoldSRTProbe/20240824/Top/Clips/Leo_20240824_HoldTrial045_TopView.avi\n",
      "Duration of video [s]:  8.04 , recorded with  25.0 fps!\n",
      "Overall # of frames:  201  found with (before cropping) frame dimensions:  1280 1331\n",
      "Starting to extract posture\n",
      "Cropping based on the x1 = 0 x2 = 1280 y1 = 0 y2 = 1024. You can adjust the cropping coordinates in the config.yaml file.\n"
     ]
    },
    {
     "name": "stderr",
     "output_type": "stream",
     "text": [
      "100%|██████████| 201/201 [00:08<00:00, 23.00it/s]\n"
     ]
    },
    {
     "name": "stdout",
     "output_type": "stream",
     "text": [
      "Saving results in D:\\YuLab\\Work\\GPS\\Video\\Leo\\GPS_12_ThreeFPHoldSRTProbe\\20240824\\Top\\Clips...\n",
      "Saving csv poses!\n",
      "Starting to analyze %  D:/YuLab/Work/GPS/Video/Leo/GPS_12_ThreeFPHoldSRTProbe/20240824/Top/Clips/Leo_20240824_HoldTrial046_TopView.avi\n",
      "Loading  D:/YuLab/Work/GPS/Video/Leo/GPS_12_ThreeFPHoldSRTProbe/20240824/Top/Clips/Leo_20240824_HoldTrial046_TopView.avi\n",
      "Duration of video [s]:  8.04 , recorded with  25.0 fps!\n",
      "Overall # of frames:  201  found with (before cropping) frame dimensions:  1280 1331\n",
      "Starting to extract posture\n",
      "Cropping based on the x1 = 0 x2 = 1280 y1 = 0 y2 = 1024. You can adjust the cropping coordinates in the config.yaml file.\n"
     ]
    },
    {
     "name": "stderr",
     "output_type": "stream",
     "text": [
      "100%|██████████| 201/201 [00:08<00:00, 23.10it/s]\n"
     ]
    },
    {
     "name": "stdout",
     "output_type": "stream",
     "text": [
      "Saving results in D:\\YuLab\\Work\\GPS\\Video\\Leo\\GPS_12_ThreeFPHoldSRTProbe\\20240824\\Top\\Clips...\n",
      "Saving csv poses!\n",
      "Starting to analyze %  D:/YuLab/Work/GPS/Video/Leo/GPS_12_ThreeFPHoldSRTProbe/20240824/Top/Clips/Leo_20240824_HoldTrial047_TopView.avi\n",
      "Loading  D:/YuLab/Work/GPS/Video/Leo/GPS_12_ThreeFPHoldSRTProbe/20240824/Top/Clips/Leo_20240824_HoldTrial047_TopView.avi\n",
      "Duration of video [s]:  8.04 , recorded with  25.0 fps!\n",
      "Overall # of frames:  201  found with (before cropping) frame dimensions:  1280 1331\n",
      "Starting to extract posture\n",
      "Cropping based on the x1 = 0 x2 = 1280 y1 = 0 y2 = 1024. You can adjust the cropping coordinates in the config.yaml file.\n"
     ]
    },
    {
     "name": "stderr",
     "output_type": "stream",
     "text": [
      "100%|██████████| 201/201 [00:08<00:00, 23.07it/s]\n"
     ]
    },
    {
     "name": "stdout",
     "output_type": "stream",
     "text": [
      "Saving results in D:\\YuLab\\Work\\GPS\\Video\\Leo\\GPS_12_ThreeFPHoldSRTProbe\\20240824\\Top\\Clips...\n",
      "Saving csv poses!\n",
      "Starting to analyze %  D:/YuLab/Work/GPS/Video/Leo/GPS_12_ThreeFPHoldSRTProbe/20240824/Top/Clips/Leo_20240824_HoldTrial048_TopView.avi\n",
      "Loading  D:/YuLab/Work/GPS/Video/Leo/GPS_12_ThreeFPHoldSRTProbe/20240824/Top/Clips/Leo_20240824_HoldTrial048_TopView.avi\n",
      "Duration of video [s]:  8.04 , recorded with  25.0 fps!\n",
      "Overall # of frames:  201  found with (before cropping) frame dimensions:  1280 1331\n",
      "Starting to extract posture\n",
      "Cropping based on the x1 = 0 x2 = 1280 y1 = 0 y2 = 1024. You can adjust the cropping coordinates in the config.yaml file.\n"
     ]
    },
    {
     "name": "stderr",
     "output_type": "stream",
     "text": [
      "100%|██████████| 201/201 [00:08<00:00, 23.08it/s]\n"
     ]
    },
    {
     "name": "stdout",
     "output_type": "stream",
     "text": [
      "Saving results in D:\\YuLab\\Work\\GPS\\Video\\Leo\\GPS_12_ThreeFPHoldSRTProbe\\20240824\\Top\\Clips...\n",
      "Saving csv poses!\n",
      "Starting to analyze %  D:/YuLab/Work/GPS/Video/Leo/GPS_12_ThreeFPHoldSRTProbe/20240824/Top/Clips/Leo_20240824_HoldTrial049_TopView.avi\n",
      "Loading  D:/YuLab/Work/GPS/Video/Leo/GPS_12_ThreeFPHoldSRTProbe/20240824/Top/Clips/Leo_20240824_HoldTrial049_TopView.avi\n",
      "Duration of video [s]:  8.04 , recorded with  25.0 fps!\n",
      "Overall # of frames:  201  found with (before cropping) frame dimensions:  1280 1331\n",
      "Starting to extract posture\n",
      "Cropping based on the x1 = 0 x2 = 1280 y1 = 0 y2 = 1024. You can adjust the cropping coordinates in the config.yaml file.\n"
     ]
    },
    {
     "name": "stderr",
     "output_type": "stream",
     "text": [
      "100%|██████████| 201/201 [00:08<00:00, 23.19it/s]\n"
     ]
    },
    {
     "name": "stdout",
     "output_type": "stream",
     "text": [
      "Saving results in D:\\YuLab\\Work\\GPS\\Video\\Leo\\GPS_12_ThreeFPHoldSRTProbe\\20240824\\Top\\Clips...\n",
      "Saving csv poses!\n",
      "Starting to analyze %  D:/YuLab/Work/GPS/Video/Leo/GPS_12_ThreeFPHoldSRTProbe/20240824/Top/Clips/Leo_20240824_HoldTrial050_TopView.avi\n",
      "Loading  D:/YuLab/Work/GPS/Video/Leo/GPS_12_ThreeFPHoldSRTProbe/20240824/Top/Clips/Leo_20240824_HoldTrial050_TopView.avi\n",
      "Duration of video [s]:  8.04 , recorded with  25.0 fps!\n",
      "Overall # of frames:  201  found with (before cropping) frame dimensions:  1280 1331\n",
      "Starting to extract posture\n",
      "Cropping based on the x1 = 0 x2 = 1280 y1 = 0 y2 = 1024. You can adjust the cropping coordinates in the config.yaml file.\n"
     ]
    },
    {
     "name": "stderr",
     "output_type": "stream",
     "text": [
      "100%|██████████| 201/201 [00:08<00:00, 23.11it/s]\n"
     ]
    },
    {
     "name": "stdout",
     "output_type": "stream",
     "text": [
      "Saving results in D:\\YuLab\\Work\\GPS\\Video\\Leo\\GPS_12_ThreeFPHoldSRTProbe\\20240824\\Top\\Clips...\n",
      "Saving csv poses!\n",
      "Starting to analyze %  D:/YuLab/Work/GPS/Video/Leo/GPS_12_ThreeFPHoldSRTProbe/20240824/Top/Clips/Leo_20240824_HoldTrial051_TopView.avi\n",
      "Loading  D:/YuLab/Work/GPS/Video/Leo/GPS_12_ThreeFPHoldSRTProbe/20240824/Top/Clips/Leo_20240824_HoldTrial051_TopView.avi\n",
      "Duration of video [s]:  8.04 , recorded with  25.0 fps!\n",
      "Overall # of frames:  201  found with (before cropping) frame dimensions:  1280 1331\n",
      "Starting to extract posture\n",
      "Cropping based on the x1 = 0 x2 = 1280 y1 = 0 y2 = 1024. You can adjust the cropping coordinates in the config.yaml file.\n"
     ]
    },
    {
     "name": "stderr",
     "output_type": "stream",
     "text": [
      "100%|██████████| 201/201 [00:08<00:00, 23.16it/s]\n"
     ]
    },
    {
     "name": "stdout",
     "output_type": "stream",
     "text": [
      "Saving results in D:\\YuLab\\Work\\GPS\\Video\\Leo\\GPS_12_ThreeFPHoldSRTProbe\\20240824\\Top\\Clips...\n",
      "Saving csv poses!\n",
      "Starting to analyze %  D:/YuLab/Work/GPS/Video/Leo/GPS_12_ThreeFPHoldSRTProbe/20240824/Top/Clips/Leo_20240824_HoldTrial052_TopView.avi\n",
      "Loading  D:/YuLab/Work/GPS/Video/Leo/GPS_12_ThreeFPHoldSRTProbe/20240824/Top/Clips/Leo_20240824_HoldTrial052_TopView.avi\n",
      "Duration of video [s]:  8.04 , recorded with  25.0 fps!\n",
      "Overall # of frames:  201  found with (before cropping) frame dimensions:  1280 1331\n",
      "Starting to extract posture\n",
      "Cropping based on the x1 = 0 x2 = 1280 y1 = 0 y2 = 1024. You can adjust the cropping coordinates in the config.yaml file.\n"
     ]
    },
    {
     "name": "stderr",
     "output_type": "stream",
     "text": [
      "100%|██████████| 201/201 [00:08<00:00, 23.15it/s]\n"
     ]
    },
    {
     "name": "stdout",
     "output_type": "stream",
     "text": [
      "Saving results in D:\\YuLab\\Work\\GPS\\Video\\Leo\\GPS_12_ThreeFPHoldSRTProbe\\20240824\\Top\\Clips...\n",
      "Saving csv poses!\n",
      "Starting to analyze %  D:/YuLab/Work/GPS/Video/Leo/GPS_12_ThreeFPHoldSRTProbe/20240824/Top/Clips/Leo_20240824_HoldTrial053_TopView.avi\n",
      "Loading  D:/YuLab/Work/GPS/Video/Leo/GPS_12_ThreeFPHoldSRTProbe/20240824/Top/Clips/Leo_20240824_HoldTrial053_TopView.avi\n",
      "Duration of video [s]:  8.04 , recorded with  25.0 fps!\n",
      "Overall # of frames:  201  found with (before cropping) frame dimensions:  1280 1331\n",
      "Starting to extract posture\n",
      "Cropping based on the x1 = 0 x2 = 1280 y1 = 0 y2 = 1024. You can adjust the cropping coordinates in the config.yaml file.\n"
     ]
    },
    {
     "name": "stderr",
     "output_type": "stream",
     "text": [
      "100%|██████████| 201/201 [00:08<00:00, 23.13it/s]\n"
     ]
    },
    {
     "name": "stdout",
     "output_type": "stream",
     "text": [
      "Saving results in D:\\YuLab\\Work\\GPS\\Video\\Leo\\GPS_12_ThreeFPHoldSRTProbe\\20240824\\Top\\Clips...\n",
      "Saving csv poses!\n",
      "Starting to analyze %  D:/YuLab/Work/GPS/Video/Leo/GPS_12_ThreeFPHoldSRTProbe/20240824/Top/Clips/Leo_20240824_HoldTrial054_TopView.avi\n",
      "Loading  D:/YuLab/Work/GPS/Video/Leo/GPS_12_ThreeFPHoldSRTProbe/20240824/Top/Clips/Leo_20240824_HoldTrial054_TopView.avi\n",
      "Duration of video [s]:  8.04 , recorded with  25.0 fps!\n",
      "Overall # of frames:  201  found with (before cropping) frame dimensions:  1280 1331\n",
      "Starting to extract posture\n",
      "Cropping based on the x1 = 0 x2 = 1280 y1 = 0 y2 = 1024. You can adjust the cropping coordinates in the config.yaml file.\n"
     ]
    },
    {
     "name": "stderr",
     "output_type": "stream",
     "text": [
      "100%|██████████| 201/201 [00:08<00:00, 23.09it/s]\n"
     ]
    },
    {
     "name": "stdout",
     "output_type": "stream",
     "text": [
      "Saving results in D:\\YuLab\\Work\\GPS\\Video\\Leo\\GPS_12_ThreeFPHoldSRTProbe\\20240824\\Top\\Clips...\n",
      "Saving csv poses!\n",
      "Starting to analyze %  D:/YuLab/Work/GPS/Video/Leo/GPS_12_ThreeFPHoldSRTProbe/20240824/Top/Clips/Leo_20240824_HoldTrial055_TopView.avi\n",
      "Loading  D:/YuLab/Work/GPS/Video/Leo/GPS_12_ThreeFPHoldSRTProbe/20240824/Top/Clips/Leo_20240824_HoldTrial055_TopView.avi\n",
      "Duration of video [s]:  8.04 , recorded with  25.0 fps!\n",
      "Overall # of frames:  201  found with (before cropping) frame dimensions:  1280 1331\n",
      "Starting to extract posture\n",
      "Cropping based on the x1 = 0 x2 = 1280 y1 = 0 y2 = 1024. You can adjust the cropping coordinates in the config.yaml file.\n"
     ]
    },
    {
     "name": "stderr",
     "output_type": "stream",
     "text": [
      "100%|██████████| 201/201 [00:08<00:00, 23.16it/s]\n"
     ]
    },
    {
     "name": "stdout",
     "output_type": "stream",
     "text": [
      "Saving results in D:\\YuLab\\Work\\GPS\\Video\\Leo\\GPS_12_ThreeFPHoldSRTProbe\\20240824\\Top\\Clips...\n",
      "Saving csv poses!\n",
      "Starting to analyze %  D:/YuLab/Work/GPS/Video/Leo/GPS_12_ThreeFPHoldSRTProbe/20240824/Top/Clips/Leo_20240824_HoldTrial056_TopView.avi\n",
      "Loading  D:/YuLab/Work/GPS/Video/Leo/GPS_12_ThreeFPHoldSRTProbe/20240824/Top/Clips/Leo_20240824_HoldTrial056_TopView.avi\n",
      "Duration of video [s]:  8.04 , recorded with  25.0 fps!\n",
      "Overall # of frames:  201  found with (before cropping) frame dimensions:  1280 1331\n",
      "Starting to extract posture\n",
      "Cropping based on the x1 = 0 x2 = 1280 y1 = 0 y2 = 1024. You can adjust the cropping coordinates in the config.yaml file.\n"
     ]
    },
    {
     "name": "stderr",
     "output_type": "stream",
     "text": [
      "100%|██████████| 201/201 [00:08<00:00, 23.21it/s]\n"
     ]
    },
    {
     "name": "stdout",
     "output_type": "stream",
     "text": [
      "Saving results in D:\\YuLab\\Work\\GPS\\Video\\Leo\\GPS_12_ThreeFPHoldSRTProbe\\20240824\\Top\\Clips...\n",
      "Saving csv poses!\n",
      "Starting to analyze %  D:/YuLab/Work/GPS/Video/Leo/GPS_12_ThreeFPHoldSRTProbe/20240824/Top/Clips/Leo_20240824_HoldTrial057_TopView.avi\n",
      "Loading  D:/YuLab/Work/GPS/Video/Leo/GPS_12_ThreeFPHoldSRTProbe/20240824/Top/Clips/Leo_20240824_HoldTrial057_TopView.avi\n",
      "Duration of video [s]:  8.04 , recorded with  25.0 fps!\n",
      "Overall # of frames:  201  found with (before cropping) frame dimensions:  1280 1331\n",
      "Starting to extract posture\n",
      "Cropping based on the x1 = 0 x2 = 1280 y1 = 0 y2 = 1024. You can adjust the cropping coordinates in the config.yaml file.\n"
     ]
    },
    {
     "name": "stderr",
     "output_type": "stream",
     "text": [
      "100%|██████████| 201/201 [00:08<00:00, 23.23it/s]\n"
     ]
    },
    {
     "name": "stdout",
     "output_type": "stream",
     "text": [
      "Saving results in D:\\YuLab\\Work\\GPS\\Video\\Leo\\GPS_12_ThreeFPHoldSRTProbe\\20240824\\Top\\Clips...\n",
      "Saving csv poses!\n",
      "Starting to analyze %  D:/YuLab/Work/GPS/Video/Leo/GPS_12_ThreeFPHoldSRTProbe/20240824/Top/Clips/Leo_20240824_HoldTrial058_TopView.avi\n",
      "Loading  D:/YuLab/Work/GPS/Video/Leo/GPS_12_ThreeFPHoldSRTProbe/20240824/Top/Clips/Leo_20240824_HoldTrial058_TopView.avi\n",
      "Duration of video [s]:  8.04 , recorded with  25.0 fps!\n",
      "Overall # of frames:  201  found with (before cropping) frame dimensions:  1280 1331\n",
      "Starting to extract posture\n",
      "Cropping based on the x1 = 0 x2 = 1280 y1 = 0 y2 = 1024. You can adjust the cropping coordinates in the config.yaml file.\n"
     ]
    },
    {
     "name": "stderr",
     "output_type": "stream",
     "text": [
      "100%|██████████| 201/201 [00:08<00:00, 23.21it/s]\n"
     ]
    },
    {
     "name": "stdout",
     "output_type": "stream",
     "text": [
      "Saving results in D:\\YuLab\\Work\\GPS\\Video\\Leo\\GPS_12_ThreeFPHoldSRTProbe\\20240824\\Top\\Clips...\n",
      "Saving csv poses!\n",
      "Starting to analyze %  D:/YuLab/Work/GPS/Video/Leo/GPS_12_ThreeFPHoldSRTProbe/20240824/Top/Clips/Leo_20240824_HoldTrial059_TopView.avi\n",
      "Loading  D:/YuLab/Work/GPS/Video/Leo/GPS_12_ThreeFPHoldSRTProbe/20240824/Top/Clips/Leo_20240824_HoldTrial059_TopView.avi\n",
      "Duration of video [s]:  8.04 , recorded with  25.0 fps!\n",
      "Overall # of frames:  201  found with (before cropping) frame dimensions:  1280 1331\n",
      "Starting to extract posture\n",
      "Cropping based on the x1 = 0 x2 = 1280 y1 = 0 y2 = 1024. You can adjust the cropping coordinates in the config.yaml file.\n"
     ]
    },
    {
     "name": "stderr",
     "output_type": "stream",
     "text": [
      "100%|██████████| 201/201 [00:08<00:00, 23.21it/s]\n"
     ]
    },
    {
     "name": "stdout",
     "output_type": "stream",
     "text": [
      "Saving results in D:\\YuLab\\Work\\GPS\\Video\\Leo\\GPS_12_ThreeFPHoldSRTProbe\\20240824\\Top\\Clips...\n",
      "Saving csv poses!\n",
      "Starting to analyze %  D:/YuLab/Work/GPS/Video/Leo/GPS_12_ThreeFPHoldSRTProbe/20240824/Top/Clips/Leo_20240824_HoldTrial060_TopView.avi\n",
      "Loading  D:/YuLab/Work/GPS/Video/Leo/GPS_12_ThreeFPHoldSRTProbe/20240824/Top/Clips/Leo_20240824_HoldTrial060_TopView.avi\n",
      "Duration of video [s]:  8.04 , recorded with  25.0 fps!\n",
      "Overall # of frames:  201  found with (before cropping) frame dimensions:  1280 1331\n",
      "Starting to extract posture\n",
      "Cropping based on the x1 = 0 x2 = 1280 y1 = 0 y2 = 1024. You can adjust the cropping coordinates in the config.yaml file.\n"
     ]
    },
    {
     "name": "stderr",
     "output_type": "stream",
     "text": [
      "100%|██████████| 201/201 [00:08<00:00, 23.18it/s]\n"
     ]
    },
    {
     "name": "stdout",
     "output_type": "stream",
     "text": [
      "Saving results in D:\\YuLab\\Work\\GPS\\Video\\Leo\\GPS_12_ThreeFPHoldSRTProbe\\20240824\\Top\\Clips...\n",
      "Saving csv poses!\n",
      "Starting to analyze %  D:/YuLab/Work/GPS/Video/Leo/GPS_12_ThreeFPHoldSRTProbe/20240824/Top/Clips/Leo_20240824_HoldTrial061_TopView.avi\n",
      "Loading  D:/YuLab/Work/GPS/Video/Leo/GPS_12_ThreeFPHoldSRTProbe/20240824/Top/Clips/Leo_20240824_HoldTrial061_TopView.avi\n",
      "Duration of video [s]:  8.04 , recorded with  25.0 fps!\n",
      "Overall # of frames:  201  found with (before cropping) frame dimensions:  1280 1331\n",
      "Starting to extract posture\n",
      "Cropping based on the x1 = 0 x2 = 1280 y1 = 0 y2 = 1024. You can adjust the cropping coordinates in the config.yaml file.\n"
     ]
    },
    {
     "name": "stderr",
     "output_type": "stream",
     "text": [
      "100%|██████████| 201/201 [00:08<00:00, 23.18it/s]\n"
     ]
    },
    {
     "name": "stdout",
     "output_type": "stream",
     "text": [
      "Saving results in D:\\YuLab\\Work\\GPS\\Video\\Leo\\GPS_12_ThreeFPHoldSRTProbe\\20240824\\Top\\Clips...\n",
      "Saving csv poses!\n",
      "Starting to analyze %  D:/YuLab/Work/GPS/Video/Leo/GPS_12_ThreeFPHoldSRTProbe/20240824/Top/Clips/Leo_20240824_HoldTrial062_TopView.avi\n",
      "Loading  D:/YuLab/Work/GPS/Video/Leo/GPS_12_ThreeFPHoldSRTProbe/20240824/Top/Clips/Leo_20240824_HoldTrial062_TopView.avi\n",
      "Duration of video [s]:  8.04 , recorded with  25.0 fps!\n",
      "Overall # of frames:  201  found with (before cropping) frame dimensions:  1280 1331\n",
      "Starting to extract posture\n",
      "Cropping based on the x1 = 0 x2 = 1280 y1 = 0 y2 = 1024. You can adjust the cropping coordinates in the config.yaml file.\n"
     ]
    },
    {
     "name": "stderr",
     "output_type": "stream",
     "text": [
      "100%|██████████| 201/201 [00:08<00:00, 23.15it/s]\n"
     ]
    },
    {
     "name": "stdout",
     "output_type": "stream",
     "text": [
      "Saving results in D:\\YuLab\\Work\\GPS\\Video\\Leo\\GPS_12_ThreeFPHoldSRTProbe\\20240824\\Top\\Clips...\n",
      "Saving csv poses!\n",
      "Starting to analyze %  D:/YuLab/Work/GPS/Video/Leo/GPS_12_ThreeFPHoldSRTProbe/20240824/Top/Clips/Leo_20240824_HoldTrial063_TopView.avi\n",
      "Loading  D:/YuLab/Work/GPS/Video/Leo/GPS_12_ThreeFPHoldSRTProbe/20240824/Top/Clips/Leo_20240824_HoldTrial063_TopView.avi\n",
      "Duration of video [s]:  8.04 , recorded with  25.0 fps!\n",
      "Overall # of frames:  201  found with (before cropping) frame dimensions:  1280 1331\n",
      "Starting to extract posture\n",
      "Cropping based on the x1 = 0 x2 = 1280 y1 = 0 y2 = 1024. You can adjust the cropping coordinates in the config.yaml file.\n"
     ]
    },
    {
     "name": "stderr",
     "output_type": "stream",
     "text": [
      "100%|██████████| 201/201 [00:08<00:00, 23.18it/s]\n"
     ]
    },
    {
     "name": "stdout",
     "output_type": "stream",
     "text": [
      "Saving results in D:\\YuLab\\Work\\GPS\\Video\\Leo\\GPS_12_ThreeFPHoldSRTProbe\\20240824\\Top\\Clips...\n",
      "Saving csv poses!\n",
      "Starting to analyze %  D:/YuLab/Work/GPS/Video/Leo/GPS_12_ThreeFPHoldSRTProbe/20240824/Top/Clips/Leo_20240824_HoldTrial064_TopView.avi\n",
      "Loading  D:/YuLab/Work/GPS/Video/Leo/GPS_12_ThreeFPHoldSRTProbe/20240824/Top/Clips/Leo_20240824_HoldTrial064_TopView.avi\n",
      "Duration of video [s]:  8.04 , recorded with  25.0 fps!\n",
      "Overall # of frames:  201  found with (before cropping) frame dimensions:  1280 1331\n",
      "Starting to extract posture\n",
      "Cropping based on the x1 = 0 x2 = 1280 y1 = 0 y2 = 1024. You can adjust the cropping coordinates in the config.yaml file.\n"
     ]
    },
    {
     "name": "stderr",
     "output_type": "stream",
     "text": [
      "100%|██████████| 201/201 [00:08<00:00, 23.14it/s]\n"
     ]
    },
    {
     "name": "stdout",
     "output_type": "stream",
     "text": [
      "Saving results in D:\\YuLab\\Work\\GPS\\Video\\Leo\\GPS_12_ThreeFPHoldSRTProbe\\20240824\\Top\\Clips...\n",
      "Saving csv poses!\n",
      "Starting to analyze %  D:/YuLab/Work/GPS/Video/Leo/GPS_12_ThreeFPHoldSRTProbe/20240824/Top/Clips/Leo_20240824_HoldTrial065_TopView.avi\n",
      "Loading  D:/YuLab/Work/GPS/Video/Leo/GPS_12_ThreeFPHoldSRTProbe/20240824/Top/Clips/Leo_20240824_HoldTrial065_TopView.avi\n",
      "Duration of video [s]:  8.04 , recorded with  25.0 fps!\n",
      "Overall # of frames:  201  found with (before cropping) frame dimensions:  1280 1331\n",
      "Starting to extract posture\n",
      "Cropping based on the x1 = 0 x2 = 1280 y1 = 0 y2 = 1024. You can adjust the cropping coordinates in the config.yaml file.\n"
     ]
    },
    {
     "name": "stderr",
     "output_type": "stream",
     "text": [
      "100%|██████████| 201/201 [00:08<00:00, 23.19it/s]\n"
     ]
    },
    {
     "name": "stdout",
     "output_type": "stream",
     "text": [
      "Saving results in D:\\YuLab\\Work\\GPS\\Video\\Leo\\GPS_12_ThreeFPHoldSRTProbe\\20240824\\Top\\Clips...\n",
      "Saving csv poses!\n",
      "Starting to analyze %  D:/YuLab/Work/GPS/Video/Leo/GPS_12_ThreeFPHoldSRTProbe/20240824/Top/Clips/Leo_20240824_HoldTrial066_TopView.avi\n",
      "Loading  D:/YuLab/Work/GPS/Video/Leo/GPS_12_ThreeFPHoldSRTProbe/20240824/Top/Clips/Leo_20240824_HoldTrial066_TopView.avi\n",
      "Duration of video [s]:  8.04 , recorded with  25.0 fps!\n",
      "Overall # of frames:  201  found with (before cropping) frame dimensions:  1280 1331\n",
      "Starting to extract posture\n",
      "Cropping based on the x1 = 0 x2 = 1280 y1 = 0 y2 = 1024. You can adjust the cropping coordinates in the config.yaml file.\n"
     ]
    },
    {
     "name": "stderr",
     "output_type": "stream",
     "text": [
      "100%|██████████| 201/201 [00:08<00:00, 23.17it/s]\n"
     ]
    },
    {
     "name": "stdout",
     "output_type": "stream",
     "text": [
      "Saving results in D:\\YuLab\\Work\\GPS\\Video\\Leo\\GPS_12_ThreeFPHoldSRTProbe\\20240824\\Top\\Clips...\n",
      "Saving csv poses!\n",
      "Starting to analyze %  D:/YuLab/Work/GPS/Video/Leo/GPS_12_ThreeFPHoldSRTProbe/20240824/Top/Clips/Leo_20240824_HoldTrial067_TopView.avi\n",
      "Loading  D:/YuLab/Work/GPS/Video/Leo/GPS_12_ThreeFPHoldSRTProbe/20240824/Top/Clips/Leo_20240824_HoldTrial067_TopView.avi\n",
      "Duration of video [s]:  8.04 , recorded with  25.0 fps!\n",
      "Overall # of frames:  201  found with (before cropping) frame dimensions:  1280 1331\n",
      "Starting to extract posture\n",
      "Cropping based on the x1 = 0 x2 = 1280 y1 = 0 y2 = 1024. You can adjust the cropping coordinates in the config.yaml file.\n"
     ]
    },
    {
     "name": "stderr",
     "output_type": "stream",
     "text": [
      "100%|██████████| 201/201 [00:08<00:00, 23.23it/s]\n"
     ]
    },
    {
     "name": "stdout",
     "output_type": "stream",
     "text": [
      "Saving results in D:\\YuLab\\Work\\GPS\\Video\\Leo\\GPS_12_ThreeFPHoldSRTProbe\\20240824\\Top\\Clips...\n",
      "Saving csv poses!\n",
      "Starting to analyze %  D:/YuLab/Work/GPS/Video/Leo/GPS_12_ThreeFPHoldSRTProbe/20240824/Top/Clips/Leo_20240824_HoldTrial068_TopView.avi\n",
      "Loading  D:/YuLab/Work/GPS/Video/Leo/GPS_12_ThreeFPHoldSRTProbe/20240824/Top/Clips/Leo_20240824_HoldTrial068_TopView.avi\n",
      "Duration of video [s]:  8.04 , recorded with  25.0 fps!\n",
      "Overall # of frames:  201  found with (before cropping) frame dimensions:  1280 1331\n",
      "Starting to extract posture\n",
      "Cropping based on the x1 = 0 x2 = 1280 y1 = 0 y2 = 1024. You can adjust the cropping coordinates in the config.yaml file.\n"
     ]
    },
    {
     "name": "stderr",
     "output_type": "stream",
     "text": [
      "100%|██████████| 201/201 [00:08<00:00, 23.19it/s]\n"
     ]
    },
    {
     "name": "stdout",
     "output_type": "stream",
     "text": [
      "Saving results in D:\\YuLab\\Work\\GPS\\Video\\Leo\\GPS_12_ThreeFPHoldSRTProbe\\20240824\\Top\\Clips...\n",
      "Saving csv poses!\n",
      "Starting to analyze %  D:/YuLab/Work/GPS/Video/Leo/GPS_12_ThreeFPHoldSRTProbe/20240824/Top/Clips/Leo_20240824_HoldTrial069_TopView.avi\n",
      "Loading  D:/YuLab/Work/GPS/Video/Leo/GPS_12_ThreeFPHoldSRTProbe/20240824/Top/Clips/Leo_20240824_HoldTrial069_TopView.avi\n",
      "Duration of video [s]:  8.04 , recorded with  25.0 fps!\n",
      "Overall # of frames:  201  found with (before cropping) frame dimensions:  1280 1331\n",
      "Starting to extract posture\n",
      "Cropping based on the x1 = 0 x2 = 1280 y1 = 0 y2 = 1024. You can adjust the cropping coordinates in the config.yaml file.\n"
     ]
    },
    {
     "name": "stderr",
     "output_type": "stream",
     "text": [
      "100%|██████████| 201/201 [00:08<00:00, 23.17it/s]\n"
     ]
    },
    {
     "name": "stdout",
     "output_type": "stream",
     "text": [
      "Saving results in D:\\YuLab\\Work\\GPS\\Video\\Leo\\GPS_12_ThreeFPHoldSRTProbe\\20240824\\Top\\Clips...\n",
      "Saving csv poses!\n",
      "Starting to analyze %  D:/YuLab/Work/GPS/Video/Leo/GPS_12_ThreeFPHoldSRTProbe/20240824/Top/Clips/Leo_20240824_HoldTrial070_TopView.avi\n",
      "Loading  D:/YuLab/Work/GPS/Video/Leo/GPS_12_ThreeFPHoldSRTProbe/20240824/Top/Clips/Leo_20240824_HoldTrial070_TopView.avi\n",
      "Duration of video [s]:  8.04 , recorded with  25.0 fps!\n",
      "Overall # of frames:  201  found with (before cropping) frame dimensions:  1280 1331\n",
      "Starting to extract posture\n",
      "Cropping based on the x1 = 0 x2 = 1280 y1 = 0 y2 = 1024. You can adjust the cropping coordinates in the config.yaml file.\n"
     ]
    },
    {
     "name": "stderr",
     "output_type": "stream",
     "text": [
      "100%|██████████| 201/201 [00:08<00:00, 23.18it/s]\n"
     ]
    },
    {
     "name": "stdout",
     "output_type": "stream",
     "text": [
      "Saving results in D:\\YuLab\\Work\\GPS\\Video\\Leo\\GPS_12_ThreeFPHoldSRTProbe\\20240824\\Top\\Clips...\n",
      "Saving csv poses!\n",
      "Starting to analyze %  D:/YuLab/Work/GPS/Video/Leo/GPS_12_ThreeFPHoldSRTProbe/20240824/Top/Clips/Leo_20240824_HoldTrial071_TopView.avi\n",
      "Loading  D:/YuLab/Work/GPS/Video/Leo/GPS_12_ThreeFPHoldSRTProbe/20240824/Top/Clips/Leo_20240824_HoldTrial071_TopView.avi\n",
      "Duration of video [s]:  8.04 , recorded with  25.0 fps!\n",
      "Overall # of frames:  201  found with (before cropping) frame dimensions:  1280 1331\n",
      "Starting to extract posture\n",
      "Cropping based on the x1 = 0 x2 = 1280 y1 = 0 y2 = 1024. You can adjust the cropping coordinates in the config.yaml file.\n"
     ]
    },
    {
     "name": "stderr",
     "output_type": "stream",
     "text": [
      "100%|██████████| 201/201 [00:08<00:00, 23.11it/s]\n"
     ]
    },
    {
     "name": "stdout",
     "output_type": "stream",
     "text": [
      "Saving results in D:\\YuLab\\Work\\GPS\\Video\\Leo\\GPS_12_ThreeFPHoldSRTProbe\\20240824\\Top\\Clips...\n",
      "Saving csv poses!\n",
      "Starting to analyze %  D:/YuLab/Work/GPS/Video/Leo/GPS_12_ThreeFPHoldSRTProbe/20240824/Top/Clips/Leo_20240824_HoldTrial072_TopView.avi\n",
      "Loading  D:/YuLab/Work/GPS/Video/Leo/GPS_12_ThreeFPHoldSRTProbe/20240824/Top/Clips/Leo_20240824_HoldTrial072_TopView.avi\n",
      "Duration of video [s]:  8.04 , recorded with  25.0 fps!\n",
      "Overall # of frames:  201  found with (before cropping) frame dimensions:  1280 1331\n",
      "Starting to extract posture\n",
      "Cropping based on the x1 = 0 x2 = 1280 y1 = 0 y2 = 1024. You can adjust the cropping coordinates in the config.yaml file.\n"
     ]
    },
    {
     "name": "stderr",
     "output_type": "stream",
     "text": [
      "100%|██████████| 201/201 [00:08<00:00, 23.17it/s]\n"
     ]
    },
    {
     "name": "stdout",
     "output_type": "stream",
     "text": [
      "Saving results in D:\\YuLab\\Work\\GPS\\Video\\Leo\\GPS_12_ThreeFPHoldSRTProbe\\20240824\\Top\\Clips...\n",
      "Saving csv poses!\n",
      "Starting to analyze %  D:/YuLab/Work/GPS/Video/Leo/GPS_12_ThreeFPHoldSRTProbe/20240824/Top/Clips/Leo_20240824_HoldTrial073_TopView.avi\n",
      "Loading  D:/YuLab/Work/GPS/Video/Leo/GPS_12_ThreeFPHoldSRTProbe/20240824/Top/Clips/Leo_20240824_HoldTrial073_TopView.avi\n",
      "Duration of video [s]:  8.04 , recorded with  25.0 fps!\n",
      "Overall # of frames:  201  found with (before cropping) frame dimensions:  1280 1331\n",
      "Starting to extract posture\n",
      "Cropping based on the x1 = 0 x2 = 1280 y1 = 0 y2 = 1024. You can adjust the cropping coordinates in the config.yaml file.\n"
     ]
    },
    {
     "name": "stderr",
     "output_type": "stream",
     "text": [
      "100%|██████████| 201/201 [00:08<00:00, 23.07it/s]\n"
     ]
    },
    {
     "name": "stdout",
     "output_type": "stream",
     "text": [
      "Saving results in D:\\YuLab\\Work\\GPS\\Video\\Leo\\GPS_12_ThreeFPHoldSRTProbe\\20240824\\Top\\Clips...\n",
      "Saving csv poses!\n",
      "Starting to analyze %  D:/YuLab/Work/GPS/Video/Leo/GPS_12_ThreeFPHoldSRTProbe/20240824/Top/Clips/Leo_20240824_HoldTrial074_TopView.avi\n",
      "Loading  D:/YuLab/Work/GPS/Video/Leo/GPS_12_ThreeFPHoldSRTProbe/20240824/Top/Clips/Leo_20240824_HoldTrial074_TopView.avi\n",
      "Duration of video [s]:  8.04 , recorded with  25.0 fps!\n",
      "Overall # of frames:  201  found with (before cropping) frame dimensions:  1280 1331\n",
      "Starting to extract posture\n",
      "Cropping based on the x1 = 0 x2 = 1280 y1 = 0 y2 = 1024. You can adjust the cropping coordinates in the config.yaml file.\n"
     ]
    },
    {
     "name": "stderr",
     "output_type": "stream",
     "text": [
      "100%|██████████| 201/201 [00:08<00:00, 23.13it/s]\n"
     ]
    },
    {
     "name": "stdout",
     "output_type": "stream",
     "text": [
      "Saving results in D:\\YuLab\\Work\\GPS\\Video\\Leo\\GPS_12_ThreeFPHoldSRTProbe\\20240824\\Top\\Clips...\n",
      "Saving csv poses!\n",
      "Starting to analyze %  D:/YuLab/Work/GPS/Video/Leo/GPS_12_ThreeFPHoldSRTProbe/20240824/Top/Clips/Leo_20240824_HoldTrial075_TopView.avi\n",
      "Loading  D:/YuLab/Work/GPS/Video/Leo/GPS_12_ThreeFPHoldSRTProbe/20240824/Top/Clips/Leo_20240824_HoldTrial075_TopView.avi\n",
      "Duration of video [s]:  8.04 , recorded with  25.0 fps!\n",
      "Overall # of frames:  201  found with (before cropping) frame dimensions:  1280 1331\n",
      "Starting to extract posture\n",
      "Cropping based on the x1 = 0 x2 = 1280 y1 = 0 y2 = 1024. You can adjust the cropping coordinates in the config.yaml file.\n"
     ]
    },
    {
     "name": "stderr",
     "output_type": "stream",
     "text": [
      "100%|██████████| 201/201 [00:08<00:00, 23.01it/s]\n"
     ]
    },
    {
     "name": "stdout",
     "output_type": "stream",
     "text": [
      "Saving results in D:\\YuLab\\Work\\GPS\\Video\\Leo\\GPS_12_ThreeFPHoldSRTProbe\\20240824\\Top\\Clips...\n",
      "Saving csv poses!\n",
      "Starting to analyze %  D:/YuLab/Work/GPS/Video/Leo/GPS_12_ThreeFPHoldSRTProbe/20240824/Top/Clips/Leo_20240824_HoldTrial076_TopView.avi\n",
      "Loading  D:/YuLab/Work/GPS/Video/Leo/GPS_12_ThreeFPHoldSRTProbe/20240824/Top/Clips/Leo_20240824_HoldTrial076_TopView.avi\n",
      "Duration of video [s]:  8.04 , recorded with  25.0 fps!\n",
      "Overall # of frames:  201  found with (before cropping) frame dimensions:  1280 1331\n",
      "Starting to extract posture\n",
      "Cropping based on the x1 = 0 x2 = 1280 y1 = 0 y2 = 1024. You can adjust the cropping coordinates in the config.yaml file.\n"
     ]
    },
    {
     "name": "stderr",
     "output_type": "stream",
     "text": [
      "100%|██████████| 201/201 [00:08<00:00, 23.13it/s]\n"
     ]
    },
    {
     "name": "stdout",
     "output_type": "stream",
     "text": [
      "Saving results in D:\\YuLab\\Work\\GPS\\Video\\Leo\\GPS_12_ThreeFPHoldSRTProbe\\20240824\\Top\\Clips...\n",
      "Saving csv poses!\n",
      "Starting to analyze %  D:/YuLab/Work/GPS/Video/Leo/GPS_12_ThreeFPHoldSRTProbe/20240824/Top/Clips/Leo_20240824_HoldTrial077_TopView.avi\n",
      "Loading  D:/YuLab/Work/GPS/Video/Leo/GPS_12_ThreeFPHoldSRTProbe/20240824/Top/Clips/Leo_20240824_HoldTrial077_TopView.avi\n",
      "Duration of video [s]:  8.04 , recorded with  25.0 fps!\n",
      "Overall # of frames:  201  found with (before cropping) frame dimensions:  1280 1331\n",
      "Starting to extract posture\n",
      "Cropping based on the x1 = 0 x2 = 1280 y1 = 0 y2 = 1024. You can adjust the cropping coordinates in the config.yaml file.\n"
     ]
    },
    {
     "name": "stderr",
     "output_type": "stream",
     "text": [
      "100%|██████████| 201/201 [00:08<00:00, 23.08it/s]\n"
     ]
    },
    {
     "name": "stdout",
     "output_type": "stream",
     "text": [
      "Saving results in D:\\YuLab\\Work\\GPS\\Video\\Leo\\GPS_12_ThreeFPHoldSRTProbe\\20240824\\Top\\Clips...\n",
      "Saving csv poses!\n",
      "Starting to analyze %  D:/YuLab/Work/GPS/Video/Leo/GPS_12_ThreeFPHoldSRTProbe/20240824/Top/Clips/Leo_20240824_HoldTrial078_TopView.avi\n",
      "Loading  D:/YuLab/Work/GPS/Video/Leo/GPS_12_ThreeFPHoldSRTProbe/20240824/Top/Clips/Leo_20240824_HoldTrial078_TopView.avi\n",
      "Duration of video [s]:  8.04 , recorded with  25.0 fps!\n",
      "Overall # of frames:  201  found with (before cropping) frame dimensions:  1280 1331\n",
      "Starting to extract posture\n",
      "Cropping based on the x1 = 0 x2 = 1280 y1 = 0 y2 = 1024. You can adjust the cropping coordinates in the config.yaml file.\n"
     ]
    },
    {
     "name": "stderr",
     "output_type": "stream",
     "text": [
      "100%|██████████| 201/201 [00:08<00:00, 23.07it/s]\n"
     ]
    },
    {
     "name": "stdout",
     "output_type": "stream",
     "text": [
      "Saving results in D:\\YuLab\\Work\\GPS\\Video\\Leo\\GPS_12_ThreeFPHoldSRTProbe\\20240824\\Top\\Clips...\n",
      "Saving csv poses!\n",
      "Starting to analyze %  D:/YuLab/Work/GPS/Video/Leo/GPS_12_ThreeFPHoldSRTProbe/20240824/Top/Clips/Leo_20240824_HoldTrial079_TopView.avi\n",
      "Loading  D:/YuLab/Work/GPS/Video/Leo/GPS_12_ThreeFPHoldSRTProbe/20240824/Top/Clips/Leo_20240824_HoldTrial079_TopView.avi\n",
      "Duration of video [s]:  8.04 , recorded with  25.0 fps!\n",
      "Overall # of frames:  201  found with (before cropping) frame dimensions:  1280 1331\n",
      "Starting to extract posture\n",
      "Cropping based on the x1 = 0 x2 = 1280 y1 = 0 y2 = 1024. You can adjust the cropping coordinates in the config.yaml file.\n"
     ]
    },
    {
     "name": "stderr",
     "output_type": "stream",
     "text": [
      "100%|██████████| 201/201 [00:08<00:00, 23.00it/s]\n"
     ]
    },
    {
     "name": "stdout",
     "output_type": "stream",
     "text": [
      "Saving results in D:\\YuLab\\Work\\GPS\\Video\\Leo\\GPS_12_ThreeFPHoldSRTProbe\\20240824\\Top\\Clips...\n",
      "Saving csv poses!\n",
      "Starting to analyze %  D:/YuLab/Work/GPS/Video/Leo/GPS_12_ThreeFPHoldSRTProbe/20240824/Top/Clips/Leo_20240824_HoldTrial080_TopView.avi\n",
      "Loading  D:/YuLab/Work/GPS/Video/Leo/GPS_12_ThreeFPHoldSRTProbe/20240824/Top/Clips/Leo_20240824_HoldTrial080_TopView.avi\n",
      "Duration of video [s]:  8.04 , recorded with  25.0 fps!\n",
      "Overall # of frames:  201  found with (before cropping) frame dimensions:  1280 1331\n",
      "Starting to extract posture\n",
      "Cropping based on the x1 = 0 x2 = 1280 y1 = 0 y2 = 1024. You can adjust the cropping coordinates in the config.yaml file.\n"
     ]
    },
    {
     "name": "stderr",
     "output_type": "stream",
     "text": [
      "100%|██████████| 201/201 [00:08<00:00, 23.06it/s]\n"
     ]
    },
    {
     "name": "stdout",
     "output_type": "stream",
     "text": [
      "Saving results in D:\\YuLab\\Work\\GPS\\Video\\Leo\\GPS_12_ThreeFPHoldSRTProbe\\20240824\\Top\\Clips...\n",
      "Saving csv poses!\n",
      "Starting to analyze %  D:/YuLab/Work/GPS/Video/Leo/GPS_12_ThreeFPHoldSRTProbe/20240824/Top/Clips/Leo_20240824_HoldTrial081_TopView.avi\n",
      "Loading  D:/YuLab/Work/GPS/Video/Leo/GPS_12_ThreeFPHoldSRTProbe/20240824/Top/Clips/Leo_20240824_HoldTrial081_TopView.avi\n",
      "Duration of video [s]:  8.04 , recorded with  25.0 fps!\n",
      "Overall # of frames:  201  found with (before cropping) frame dimensions:  1280 1331\n",
      "Starting to extract posture\n",
      "Cropping based on the x1 = 0 x2 = 1280 y1 = 0 y2 = 1024. You can adjust the cropping coordinates in the config.yaml file.\n"
     ]
    },
    {
     "name": "stderr",
     "output_type": "stream",
     "text": [
      "100%|██████████| 201/201 [00:08<00:00, 23.17it/s]\n"
     ]
    },
    {
     "name": "stdout",
     "output_type": "stream",
     "text": [
      "Saving results in D:\\YuLab\\Work\\GPS\\Video\\Leo\\GPS_12_ThreeFPHoldSRTProbe\\20240824\\Top\\Clips...\n",
      "Saving csv poses!\n",
      "Starting to analyze %  D:/YuLab/Work/GPS/Video/Leo/GPS_12_ThreeFPHoldSRTProbe/20240824/Top/Clips/Leo_20240824_HoldTrial082_TopView.avi\n",
      "Loading  D:/YuLab/Work/GPS/Video/Leo/GPS_12_ThreeFPHoldSRTProbe/20240824/Top/Clips/Leo_20240824_HoldTrial082_TopView.avi\n",
      "Duration of video [s]:  8.04 , recorded with  25.0 fps!\n",
      "Overall # of frames:  201  found with (before cropping) frame dimensions:  1280 1331\n",
      "Starting to extract posture\n",
      "Cropping based on the x1 = 0 x2 = 1280 y1 = 0 y2 = 1024. You can adjust the cropping coordinates in the config.yaml file.\n"
     ]
    },
    {
     "name": "stderr",
     "output_type": "stream",
     "text": [
      "100%|██████████| 201/201 [00:08<00:00, 23.10it/s]\n"
     ]
    },
    {
     "name": "stdout",
     "output_type": "stream",
     "text": [
      "Saving results in D:\\YuLab\\Work\\GPS\\Video\\Leo\\GPS_12_ThreeFPHoldSRTProbe\\20240824\\Top\\Clips...\n",
      "Saving csv poses!\n",
      "Starting to analyze %  D:/YuLab/Work/GPS/Video/Leo/GPS_12_ThreeFPHoldSRTProbe/20240824/Top/Clips/Leo_20240824_HoldTrial083_TopView.avi\n",
      "Loading  D:/YuLab/Work/GPS/Video/Leo/GPS_12_ThreeFPHoldSRTProbe/20240824/Top/Clips/Leo_20240824_HoldTrial083_TopView.avi\n",
      "Duration of video [s]:  8.04 , recorded with  25.0 fps!\n",
      "Overall # of frames:  201  found with (before cropping) frame dimensions:  1280 1331\n",
      "Starting to extract posture\n",
      "Cropping based on the x1 = 0 x2 = 1280 y1 = 0 y2 = 1024. You can adjust the cropping coordinates in the config.yaml file.\n"
     ]
    },
    {
     "name": "stderr",
     "output_type": "stream",
     "text": [
      "100%|██████████| 201/201 [00:08<00:00, 23.06it/s]\n"
     ]
    },
    {
     "name": "stdout",
     "output_type": "stream",
     "text": [
      "Saving results in D:\\YuLab\\Work\\GPS\\Video\\Leo\\GPS_12_ThreeFPHoldSRTProbe\\20240824\\Top\\Clips...\n",
      "Saving csv poses!\n",
      "Starting to analyze %  D:/YuLab/Work/GPS/Video/Leo/GPS_12_ThreeFPHoldSRTProbe/20240824/Top/Clips/Leo_20240824_HoldTrial084_TopView.avi\n",
      "Loading  D:/YuLab/Work/GPS/Video/Leo/GPS_12_ThreeFPHoldSRTProbe/20240824/Top/Clips/Leo_20240824_HoldTrial084_TopView.avi\n",
      "Duration of video [s]:  8.04 , recorded with  25.0 fps!\n",
      "Overall # of frames:  201  found with (before cropping) frame dimensions:  1280 1331\n",
      "Starting to extract posture\n",
      "Cropping based on the x1 = 0 x2 = 1280 y1 = 0 y2 = 1024. You can adjust the cropping coordinates in the config.yaml file.\n"
     ]
    },
    {
     "name": "stderr",
     "output_type": "stream",
     "text": [
      "100%|██████████| 201/201 [00:08<00:00, 22.97it/s]\n"
     ]
    },
    {
     "name": "stdout",
     "output_type": "stream",
     "text": [
      "Saving results in D:\\YuLab\\Work\\GPS\\Video\\Leo\\GPS_12_ThreeFPHoldSRTProbe\\20240824\\Top\\Clips...\n",
      "Saving csv poses!\n",
      "Starting to analyze %  D:/YuLab/Work/GPS/Video/Leo/GPS_12_ThreeFPHoldSRTProbe/20240824/Top/Clips/Leo_20240824_HoldTrial085_TopView.avi\n",
      "Loading  D:/YuLab/Work/GPS/Video/Leo/GPS_12_ThreeFPHoldSRTProbe/20240824/Top/Clips/Leo_20240824_HoldTrial085_TopView.avi\n",
      "Duration of video [s]:  8.04 , recorded with  25.0 fps!\n",
      "Overall # of frames:  201  found with (before cropping) frame dimensions:  1280 1331\n",
      "Starting to extract posture\n",
      "Cropping based on the x1 = 0 x2 = 1280 y1 = 0 y2 = 1024. You can adjust the cropping coordinates in the config.yaml file.\n"
     ]
    },
    {
     "name": "stderr",
     "output_type": "stream",
     "text": [
      "100%|██████████| 201/201 [00:08<00:00, 22.99it/s]\n"
     ]
    },
    {
     "name": "stdout",
     "output_type": "stream",
     "text": [
      "Saving results in D:\\YuLab\\Work\\GPS\\Video\\Leo\\GPS_12_ThreeFPHoldSRTProbe\\20240824\\Top\\Clips...\n",
      "Saving csv poses!\n",
      "Starting to analyze %  D:/YuLab/Work/GPS/Video/Leo/GPS_12_ThreeFPHoldSRTProbe/20240824/Top/Clips/Leo_20240824_HoldTrial086_TopView.avi\n",
      "Loading  D:/YuLab/Work/GPS/Video/Leo/GPS_12_ThreeFPHoldSRTProbe/20240824/Top/Clips/Leo_20240824_HoldTrial086_TopView.avi\n",
      "Duration of video [s]:  8.04 , recorded with  25.0 fps!\n",
      "Overall # of frames:  201  found with (before cropping) frame dimensions:  1280 1331\n",
      "Starting to extract posture\n",
      "Cropping based on the x1 = 0 x2 = 1280 y1 = 0 y2 = 1024. You can adjust the cropping coordinates in the config.yaml file.\n"
     ]
    },
    {
     "name": "stderr",
     "output_type": "stream",
     "text": [
      "100%|██████████| 201/201 [00:08<00:00, 23.09it/s]\n"
     ]
    },
    {
     "name": "stdout",
     "output_type": "stream",
     "text": [
      "Saving results in D:\\YuLab\\Work\\GPS\\Video\\Leo\\GPS_12_ThreeFPHoldSRTProbe\\20240824\\Top\\Clips...\n",
      "Saving csv poses!\n",
      "Starting to analyze %  D:/YuLab/Work/GPS/Video/Leo/GPS_12_ThreeFPHoldSRTProbe/20240824/Top/Clips/Leo_20240824_HoldTrial087_TopView.avi\n",
      "Loading  D:/YuLab/Work/GPS/Video/Leo/GPS_12_ThreeFPHoldSRTProbe/20240824/Top/Clips/Leo_20240824_HoldTrial087_TopView.avi\n",
      "Duration of video [s]:  8.04 , recorded with  25.0 fps!\n",
      "Overall # of frames:  201  found with (before cropping) frame dimensions:  1280 1331\n",
      "Starting to extract posture\n",
      "Cropping based on the x1 = 0 x2 = 1280 y1 = 0 y2 = 1024. You can adjust the cropping coordinates in the config.yaml file.\n"
     ]
    },
    {
     "name": "stderr",
     "output_type": "stream",
     "text": [
      "100%|██████████| 201/201 [00:08<00:00, 22.64it/s]\n"
     ]
    },
    {
     "name": "stdout",
     "output_type": "stream",
     "text": [
      "Saving results in D:\\YuLab\\Work\\GPS\\Video\\Leo\\GPS_12_ThreeFPHoldSRTProbe\\20240824\\Top\\Clips...\n",
      "Saving csv poses!\n",
      "Starting to analyze %  D:/YuLab/Work/GPS/Video/Leo/GPS_12_ThreeFPHoldSRTProbe/20240824/Top/Clips/Leo_20240824_HoldTrial088_TopView.avi\n",
      "Loading  D:/YuLab/Work/GPS/Video/Leo/GPS_12_ThreeFPHoldSRTProbe/20240824/Top/Clips/Leo_20240824_HoldTrial088_TopView.avi\n",
      "Duration of video [s]:  8.04 , recorded with  25.0 fps!\n",
      "Overall # of frames:  201  found with (before cropping) frame dimensions:  1280 1331\n",
      "Starting to extract posture\n",
      "Cropping based on the x1 = 0 x2 = 1280 y1 = 0 y2 = 1024. You can adjust the cropping coordinates in the config.yaml file.\n"
     ]
    },
    {
     "name": "stderr",
     "output_type": "stream",
     "text": [
      "100%|██████████| 201/201 [00:08<00:00, 22.71it/s]\n"
     ]
    },
    {
     "name": "stdout",
     "output_type": "stream",
     "text": [
      "Saving results in D:\\YuLab\\Work\\GPS\\Video\\Leo\\GPS_12_ThreeFPHoldSRTProbe\\20240824\\Top\\Clips...\n",
      "Saving csv poses!\n",
      "Starting to analyze %  D:/YuLab/Work/GPS/Video/Leo/GPS_12_ThreeFPHoldSRTProbe/20240824/Top/Clips/Leo_20240824_HoldTrial089_TopView.avi\n",
      "Loading  D:/YuLab/Work/GPS/Video/Leo/GPS_12_ThreeFPHoldSRTProbe/20240824/Top/Clips/Leo_20240824_HoldTrial089_TopView.avi\n",
      "Duration of video [s]:  8.04 , recorded with  25.0 fps!\n",
      "Overall # of frames:  201  found with (before cropping) frame dimensions:  1280 1331\n",
      "Starting to extract posture\n",
      "Cropping based on the x1 = 0 x2 = 1280 y1 = 0 y2 = 1024. You can adjust the cropping coordinates in the config.yaml file.\n"
     ]
    },
    {
     "name": "stderr",
     "output_type": "stream",
     "text": [
      "100%|██████████| 201/201 [00:08<00:00, 22.86it/s]\n"
     ]
    },
    {
     "name": "stdout",
     "output_type": "stream",
     "text": [
      "Saving results in D:\\YuLab\\Work\\GPS\\Video\\Leo\\GPS_12_ThreeFPHoldSRTProbe\\20240824\\Top\\Clips...\n",
      "Saving csv poses!\n",
      "Starting to analyze %  D:/YuLab/Work/GPS/Video/Leo/GPS_12_ThreeFPHoldSRTProbe/20240824/Top/Clips/Leo_20240824_HoldTrial090_TopView.avi\n",
      "Loading  D:/YuLab/Work/GPS/Video/Leo/GPS_12_ThreeFPHoldSRTProbe/20240824/Top/Clips/Leo_20240824_HoldTrial090_TopView.avi\n",
      "Duration of video [s]:  8.04 , recorded with  25.0 fps!\n",
      "Overall # of frames:  201  found with (before cropping) frame dimensions:  1280 1331\n",
      "Starting to extract posture\n",
      "Cropping based on the x1 = 0 x2 = 1280 y1 = 0 y2 = 1024. You can adjust the cropping coordinates in the config.yaml file.\n"
     ]
    },
    {
     "name": "stderr",
     "output_type": "stream",
     "text": [
      "100%|██████████| 201/201 [00:08<00:00, 23.10it/s]\n"
     ]
    },
    {
     "name": "stdout",
     "output_type": "stream",
     "text": [
      "Saving results in D:\\YuLab\\Work\\GPS\\Video\\Leo\\GPS_12_ThreeFPHoldSRTProbe\\20240824\\Top\\Clips...\n",
      "Saving csv poses!\n",
      "Starting to analyze %  D:/YuLab/Work/GPS/Video/Leo/GPS_12_ThreeFPHoldSRTProbe/20240824/Top/Clips/Leo_20240824_HoldTrial091_TopView.avi\n",
      "Loading  D:/YuLab/Work/GPS/Video/Leo/GPS_12_ThreeFPHoldSRTProbe/20240824/Top/Clips/Leo_20240824_HoldTrial091_TopView.avi\n",
      "Duration of video [s]:  8.04 , recorded with  25.0 fps!\n",
      "Overall # of frames:  201  found with (before cropping) frame dimensions:  1280 1331\n",
      "Starting to extract posture\n",
      "Cropping based on the x1 = 0 x2 = 1280 y1 = 0 y2 = 1024. You can adjust the cropping coordinates in the config.yaml file.\n"
     ]
    },
    {
     "name": "stderr",
     "output_type": "stream",
     "text": [
      "100%|██████████| 201/201 [00:08<00:00, 22.98it/s]\n"
     ]
    },
    {
     "name": "stdout",
     "output_type": "stream",
     "text": [
      "Saving results in D:\\YuLab\\Work\\GPS\\Video\\Leo\\GPS_12_ThreeFPHoldSRTProbe\\20240824\\Top\\Clips...\n",
      "Saving csv poses!\n",
      "Starting to analyze %  D:/YuLab/Work/GPS/Video/Leo/GPS_12_ThreeFPHoldSRTProbe/20240824/Top/Clips/Leo_20240824_HoldTrial092_TopView.avi\n",
      "Loading  D:/YuLab/Work/GPS/Video/Leo/GPS_12_ThreeFPHoldSRTProbe/20240824/Top/Clips/Leo_20240824_HoldTrial092_TopView.avi\n",
      "Duration of video [s]:  8.04 , recorded with  25.0 fps!\n",
      "Overall # of frames:  201  found with (before cropping) frame dimensions:  1280 1331\n",
      "Starting to extract posture\n",
      "Cropping based on the x1 = 0 x2 = 1280 y1 = 0 y2 = 1024. You can adjust the cropping coordinates in the config.yaml file.\n"
     ]
    },
    {
     "name": "stderr",
     "output_type": "stream",
     "text": [
      "100%|██████████| 201/201 [00:08<00:00, 22.65it/s]\n"
     ]
    },
    {
     "name": "stdout",
     "output_type": "stream",
     "text": [
      "Saving results in D:\\YuLab\\Work\\GPS\\Video\\Leo\\GPS_12_ThreeFPHoldSRTProbe\\20240824\\Top\\Clips...\n",
      "Saving csv poses!\n",
      "Starting to analyze %  D:/YuLab/Work/GPS/Video/Leo/GPS_12_ThreeFPHoldSRTProbe/20240824/Top/Clips/Leo_20240824_HoldTrial093_TopView.avi\n",
      "Loading  D:/YuLab/Work/GPS/Video/Leo/GPS_12_ThreeFPHoldSRTProbe/20240824/Top/Clips/Leo_20240824_HoldTrial093_TopView.avi\n",
      "Duration of video [s]:  8.04 , recorded with  25.0 fps!\n",
      "Overall # of frames:  201  found with (before cropping) frame dimensions:  1280 1331\n",
      "Starting to extract posture\n",
      "Cropping based on the x1 = 0 x2 = 1280 y1 = 0 y2 = 1024. You can adjust the cropping coordinates in the config.yaml file.\n"
     ]
    },
    {
     "name": "stderr",
     "output_type": "stream",
     "text": [
      "100%|██████████| 201/201 [00:08<00:00, 22.76it/s]\n"
     ]
    },
    {
     "name": "stdout",
     "output_type": "stream",
     "text": [
      "Saving results in D:\\YuLab\\Work\\GPS\\Video\\Leo\\GPS_12_ThreeFPHoldSRTProbe\\20240824\\Top\\Clips...\n",
      "Saving csv poses!\n",
      "Starting to analyze %  D:/YuLab/Work/GPS/Video/Leo/GPS_12_ThreeFPHoldSRTProbe/20240824/Top/Clips/Leo_20240824_HoldTrial094_TopView.avi\n",
      "Loading  D:/YuLab/Work/GPS/Video/Leo/GPS_12_ThreeFPHoldSRTProbe/20240824/Top/Clips/Leo_20240824_HoldTrial094_TopView.avi\n",
      "Duration of video [s]:  8.04 , recorded with  25.0 fps!\n",
      "Overall # of frames:  201  found with (before cropping) frame dimensions:  1280 1331\n",
      "Starting to extract posture\n",
      "Cropping based on the x1 = 0 x2 = 1280 y1 = 0 y2 = 1024. You can adjust the cropping coordinates in the config.yaml file.\n"
     ]
    },
    {
     "name": "stderr",
     "output_type": "stream",
     "text": [
      "100%|██████████| 201/201 [00:08<00:00, 22.94it/s]\n"
     ]
    },
    {
     "name": "stdout",
     "output_type": "stream",
     "text": [
      "Saving results in D:\\YuLab\\Work\\GPS\\Video\\Leo\\GPS_12_ThreeFPHoldSRTProbe\\20240824\\Top\\Clips...\n",
      "Saving csv poses!\n",
      "Starting to analyze %  D:/YuLab/Work/GPS/Video/Leo/GPS_12_ThreeFPHoldSRTProbe/20240824/Top/Clips/Leo_20240824_HoldTrial095_TopView.avi\n",
      "Loading  D:/YuLab/Work/GPS/Video/Leo/GPS_12_ThreeFPHoldSRTProbe/20240824/Top/Clips/Leo_20240824_HoldTrial095_TopView.avi\n",
      "Duration of video [s]:  8.04 , recorded with  25.0 fps!\n",
      "Overall # of frames:  201  found with (before cropping) frame dimensions:  1280 1331\n",
      "Starting to extract posture\n",
      "Cropping based on the x1 = 0 x2 = 1280 y1 = 0 y2 = 1024. You can adjust the cropping coordinates in the config.yaml file.\n"
     ]
    },
    {
     "name": "stderr",
     "output_type": "stream",
     "text": [
      "100%|██████████| 201/201 [00:08<00:00, 22.86it/s]\n"
     ]
    },
    {
     "name": "stdout",
     "output_type": "stream",
     "text": [
      "Saving results in D:\\YuLab\\Work\\GPS\\Video\\Leo\\GPS_12_ThreeFPHoldSRTProbe\\20240824\\Top\\Clips...\n",
      "Saving csv poses!\n",
      "Starting to analyze %  D:/YuLab/Work/GPS/Video/Leo/GPS_12_ThreeFPHoldSRTProbe/20240824/Top/Clips/Leo_20240824_HoldTrial096_TopView.avi\n",
      "Loading  D:/YuLab/Work/GPS/Video/Leo/GPS_12_ThreeFPHoldSRTProbe/20240824/Top/Clips/Leo_20240824_HoldTrial096_TopView.avi\n",
      "Duration of video [s]:  8.04 , recorded with  25.0 fps!\n",
      "Overall # of frames:  201  found with (before cropping) frame dimensions:  1280 1331\n",
      "Starting to extract posture\n",
      "Cropping based on the x1 = 0 x2 = 1280 y1 = 0 y2 = 1024. You can adjust the cropping coordinates in the config.yaml file.\n"
     ]
    },
    {
     "name": "stderr",
     "output_type": "stream",
     "text": [
      "100%|██████████| 201/201 [00:08<00:00, 22.74it/s]\n"
     ]
    },
    {
     "name": "stdout",
     "output_type": "stream",
     "text": [
      "Saving results in D:\\YuLab\\Work\\GPS\\Video\\Leo\\GPS_12_ThreeFPHoldSRTProbe\\20240824\\Top\\Clips...\n",
      "Saving csv poses!\n",
      "Starting to analyze %  D:/YuLab/Work/GPS/Video/Leo/GPS_12_ThreeFPHoldSRTProbe/20240824/Top/Clips/Leo_20240824_HoldTrial097_TopView.avi\n",
      "Loading  D:/YuLab/Work/GPS/Video/Leo/GPS_12_ThreeFPHoldSRTProbe/20240824/Top/Clips/Leo_20240824_HoldTrial097_TopView.avi\n",
      "Duration of video [s]:  8.04 , recorded with  25.0 fps!\n",
      "Overall # of frames:  201  found with (before cropping) frame dimensions:  1280 1331\n",
      "Starting to extract posture\n",
      "Cropping based on the x1 = 0 x2 = 1280 y1 = 0 y2 = 1024. You can adjust the cropping coordinates in the config.yaml file.\n"
     ]
    },
    {
     "name": "stderr",
     "output_type": "stream",
     "text": [
      "100%|██████████| 201/201 [00:08<00:00, 22.87it/s]\n"
     ]
    },
    {
     "name": "stdout",
     "output_type": "stream",
     "text": [
      "Saving results in D:\\YuLab\\Work\\GPS\\Video\\Leo\\GPS_12_ThreeFPHoldSRTProbe\\20240824\\Top\\Clips...\n",
      "Saving csv poses!\n",
      "Starting to analyze %  D:/YuLab/Work/GPS/Video/Leo/GPS_12_ThreeFPHoldSRTProbe/20240824/Top/Clips/Leo_20240824_HoldTrial098_TopView.avi\n",
      "Loading  D:/YuLab/Work/GPS/Video/Leo/GPS_12_ThreeFPHoldSRTProbe/20240824/Top/Clips/Leo_20240824_HoldTrial098_TopView.avi\n",
      "Duration of video [s]:  8.04 , recorded with  25.0 fps!\n",
      "Overall # of frames:  201  found with (before cropping) frame dimensions:  1280 1331\n",
      "Starting to extract posture\n",
      "Cropping based on the x1 = 0 x2 = 1280 y1 = 0 y2 = 1024. You can adjust the cropping coordinates in the config.yaml file.\n"
     ]
    },
    {
     "name": "stderr",
     "output_type": "stream",
     "text": [
      "100%|██████████| 201/201 [00:08<00:00, 23.13it/s]\n"
     ]
    },
    {
     "name": "stdout",
     "output_type": "stream",
     "text": [
      "Saving results in D:\\YuLab\\Work\\GPS\\Video\\Leo\\GPS_12_ThreeFPHoldSRTProbe\\20240824\\Top\\Clips...\n",
      "Saving csv poses!\n",
      "Starting to analyze %  D:/YuLab/Work/GPS/Video/Leo/GPS_12_ThreeFPHoldSRTProbe/20240824/Top/Clips/Leo_20240824_HoldTrial099_TopView.avi\n",
      "Loading  D:/YuLab/Work/GPS/Video/Leo/GPS_12_ThreeFPHoldSRTProbe/20240824/Top/Clips/Leo_20240824_HoldTrial099_TopView.avi\n",
      "Duration of video [s]:  8.04 , recorded with  25.0 fps!\n",
      "Overall # of frames:  201  found with (before cropping) frame dimensions:  1280 1331\n",
      "Starting to extract posture\n",
      "Cropping based on the x1 = 0 x2 = 1280 y1 = 0 y2 = 1024. You can adjust the cropping coordinates in the config.yaml file.\n"
     ]
    },
    {
     "name": "stderr",
     "output_type": "stream",
     "text": [
      "100%|██████████| 201/201 [00:08<00:00, 22.71it/s]\n"
     ]
    },
    {
     "name": "stdout",
     "output_type": "stream",
     "text": [
      "Saving results in D:\\YuLab\\Work\\GPS\\Video\\Leo\\GPS_12_ThreeFPHoldSRTProbe\\20240824\\Top\\Clips...\n",
      "Saving csv poses!\n",
      "Starting to analyze %  D:/YuLab/Work/GPS/Video/Leo/GPS_12_ThreeFPHoldSRTProbe/20240824/Top/Clips/Leo_20240824_HoldTrial100_TopView.avi\n",
      "Loading  D:/YuLab/Work/GPS/Video/Leo/GPS_12_ThreeFPHoldSRTProbe/20240824/Top/Clips/Leo_20240824_HoldTrial100_TopView.avi\n",
      "Duration of video [s]:  8.04 , recorded with  25.0 fps!\n",
      "Overall # of frames:  201  found with (before cropping) frame dimensions:  1280 1331\n",
      "Starting to extract posture\n",
      "Cropping based on the x1 = 0 x2 = 1280 y1 = 0 y2 = 1024. You can adjust the cropping coordinates in the config.yaml file.\n"
     ]
    },
    {
     "name": "stderr",
     "output_type": "stream",
     "text": [
      "100%|██████████| 201/201 [00:08<00:00, 22.78it/s]\n"
     ]
    },
    {
     "name": "stdout",
     "output_type": "stream",
     "text": [
      "Saving results in D:\\YuLab\\Work\\GPS\\Video\\Leo\\GPS_12_ThreeFPHoldSRTProbe\\20240824\\Top\\Clips...\n",
      "Saving csv poses!\n",
      "Starting to analyze %  D:/YuLab/Work/GPS/Video/Leo/GPS_12_ThreeFPHoldSRTProbe/20240824/Top/Clips/Leo_20240824_HoldTrial101_TopView.avi\n",
      "Loading  D:/YuLab/Work/GPS/Video/Leo/GPS_12_ThreeFPHoldSRTProbe/20240824/Top/Clips/Leo_20240824_HoldTrial101_TopView.avi\n",
      "Duration of video [s]:  8.04 , recorded with  25.0 fps!\n",
      "Overall # of frames:  201  found with (before cropping) frame dimensions:  1280 1331\n",
      "Starting to extract posture\n",
      "Cropping based on the x1 = 0 x2 = 1280 y1 = 0 y2 = 1024. You can adjust the cropping coordinates in the config.yaml file.\n"
     ]
    },
    {
     "name": "stderr",
     "output_type": "stream",
     "text": [
      "100%|██████████| 201/201 [00:09<00:00, 22.32it/s]\n"
     ]
    },
    {
     "name": "stdout",
     "output_type": "stream",
     "text": [
      "Saving results in D:\\YuLab\\Work\\GPS\\Video\\Leo\\GPS_12_ThreeFPHoldSRTProbe\\20240824\\Top\\Clips...\n",
      "Saving csv poses!\n",
      "Starting to analyze %  D:/YuLab/Work/GPS/Video/Leo/GPS_12_ThreeFPHoldSRTProbe/20240824/Top/Clips/Leo_20240824_HoldTrial102_TopView.avi\n",
      "Loading  D:/YuLab/Work/GPS/Video/Leo/GPS_12_ThreeFPHoldSRTProbe/20240824/Top/Clips/Leo_20240824_HoldTrial102_TopView.avi\n",
      "Duration of video [s]:  8.04 , recorded with  25.0 fps!\n",
      "Overall # of frames:  201  found with (before cropping) frame dimensions:  1280 1331\n",
      "Starting to extract posture\n",
      "Cropping based on the x1 = 0 x2 = 1280 y1 = 0 y2 = 1024. You can adjust the cropping coordinates in the config.yaml file.\n"
     ]
    },
    {
     "name": "stderr",
     "output_type": "stream",
     "text": [
      "100%|██████████| 201/201 [00:08<00:00, 22.52it/s]\n"
     ]
    },
    {
     "name": "stdout",
     "output_type": "stream",
     "text": [
      "Saving results in D:\\YuLab\\Work\\GPS\\Video\\Leo\\GPS_12_ThreeFPHoldSRTProbe\\20240824\\Top\\Clips...\n",
      "Saving csv poses!\n",
      "Starting to analyze %  D:/YuLab/Work/GPS/Video/Leo/GPS_12_ThreeFPHoldSRTProbe/20240824/Top/Clips/Leo_20240824_HoldTrial103_TopView.avi\n",
      "Loading  D:/YuLab/Work/GPS/Video/Leo/GPS_12_ThreeFPHoldSRTProbe/20240824/Top/Clips/Leo_20240824_HoldTrial103_TopView.avi\n",
      "Duration of video [s]:  8.04 , recorded with  25.0 fps!\n",
      "Overall # of frames:  201  found with (before cropping) frame dimensions:  1280 1331\n",
      "Starting to extract posture\n",
      "Cropping based on the x1 = 0 x2 = 1280 y1 = 0 y2 = 1024. You can adjust the cropping coordinates in the config.yaml file.\n"
     ]
    },
    {
     "name": "stderr",
     "output_type": "stream",
     "text": [
      "100%|██████████| 201/201 [00:08<00:00, 23.07it/s]\n"
     ]
    },
    {
     "name": "stdout",
     "output_type": "stream",
     "text": [
      "Saving results in D:\\YuLab\\Work\\GPS\\Video\\Leo\\GPS_12_ThreeFPHoldSRTProbe\\20240824\\Top\\Clips...\n",
      "Saving csv poses!\n",
      "Starting to analyze %  D:/YuLab/Work/GPS/Video/Leo/GPS_12_ThreeFPHoldSRTProbe/20240824/Top/Clips/Leo_20240824_HoldTrial104_TopView.avi\n",
      "Loading  D:/YuLab/Work/GPS/Video/Leo/GPS_12_ThreeFPHoldSRTProbe/20240824/Top/Clips/Leo_20240824_HoldTrial104_TopView.avi\n",
      "Duration of video [s]:  8.04 , recorded with  25.0 fps!\n",
      "Overall # of frames:  201  found with (before cropping) frame dimensions:  1280 1331\n",
      "Starting to extract posture\n",
      "Cropping based on the x1 = 0 x2 = 1280 y1 = 0 y2 = 1024. You can adjust the cropping coordinates in the config.yaml file.\n"
     ]
    },
    {
     "name": "stderr",
     "output_type": "stream",
     "text": [
      "100%|██████████| 201/201 [00:08<00:00, 23.10it/s]\n"
     ]
    },
    {
     "name": "stdout",
     "output_type": "stream",
     "text": [
      "Saving results in D:\\YuLab\\Work\\GPS\\Video\\Leo\\GPS_12_ThreeFPHoldSRTProbe\\20240824\\Top\\Clips...\n",
      "Saving csv poses!\n",
      "Starting to analyze %  D:/YuLab/Work/GPS/Video/Leo/GPS_12_ThreeFPHoldSRTProbe/20240824/Top/Clips/Leo_20240824_HoldTrial105_TopView.avi\n",
      "Loading  D:/YuLab/Work/GPS/Video/Leo/GPS_12_ThreeFPHoldSRTProbe/20240824/Top/Clips/Leo_20240824_HoldTrial105_TopView.avi\n",
      "Duration of video [s]:  8.04 , recorded with  25.0 fps!\n",
      "Overall # of frames:  201  found with (before cropping) frame dimensions:  1280 1331\n",
      "Starting to extract posture\n",
      "Cropping based on the x1 = 0 x2 = 1280 y1 = 0 y2 = 1024. You can adjust the cropping coordinates in the config.yaml file.\n"
     ]
    },
    {
     "name": "stderr",
     "output_type": "stream",
     "text": [
      "100%|██████████| 201/201 [00:08<00:00, 23.16it/s]\n"
     ]
    },
    {
     "name": "stdout",
     "output_type": "stream",
     "text": [
      "Saving results in D:\\YuLab\\Work\\GPS\\Video\\Leo\\GPS_12_ThreeFPHoldSRTProbe\\20240824\\Top\\Clips...\n",
      "Saving csv poses!\n",
      "Starting to analyze %  D:/YuLab/Work/GPS/Video/Leo/GPS_12_ThreeFPHoldSRTProbe/20240824/Top/Clips/Leo_20240824_HoldTrial106_TopView.avi\n",
      "Loading  D:/YuLab/Work/GPS/Video/Leo/GPS_12_ThreeFPHoldSRTProbe/20240824/Top/Clips/Leo_20240824_HoldTrial106_TopView.avi\n",
      "Duration of video [s]:  8.04 , recorded with  25.0 fps!\n",
      "Overall # of frames:  201  found with (before cropping) frame dimensions:  1280 1331\n",
      "Starting to extract posture\n",
      "Cropping based on the x1 = 0 x2 = 1280 y1 = 0 y2 = 1024. You can adjust the cropping coordinates in the config.yaml file.\n"
     ]
    },
    {
     "name": "stderr",
     "output_type": "stream",
     "text": [
      "100%|██████████| 201/201 [00:08<00:00, 22.96it/s]\n"
     ]
    },
    {
     "name": "stdout",
     "output_type": "stream",
     "text": [
      "Saving results in D:\\YuLab\\Work\\GPS\\Video\\Leo\\GPS_12_ThreeFPHoldSRTProbe\\20240824\\Top\\Clips...\n",
      "Saving csv poses!\n",
      "Starting to analyze %  D:/YuLab/Work/GPS/Video/Leo/GPS_12_ThreeFPHoldSRTProbe/20240824/Top/Clips/Leo_20240824_HoldTrial107_TopView.avi\n",
      "Loading  D:/YuLab/Work/GPS/Video/Leo/GPS_12_ThreeFPHoldSRTProbe/20240824/Top/Clips/Leo_20240824_HoldTrial107_TopView.avi\n",
      "Duration of video [s]:  8.04 , recorded with  25.0 fps!\n",
      "Overall # of frames:  201  found with (before cropping) frame dimensions:  1280 1331\n",
      "Starting to extract posture\n",
      "Cropping based on the x1 = 0 x2 = 1280 y1 = 0 y2 = 1024. You can adjust the cropping coordinates in the config.yaml file.\n"
     ]
    },
    {
     "name": "stderr",
     "output_type": "stream",
     "text": [
      "100%|██████████| 201/201 [00:08<00:00, 23.04it/s]\n"
     ]
    },
    {
     "name": "stdout",
     "output_type": "stream",
     "text": [
      "Saving results in D:\\YuLab\\Work\\GPS\\Video\\Leo\\GPS_12_ThreeFPHoldSRTProbe\\20240824\\Top\\Clips...\n",
      "Saving csv poses!\n",
      "Starting to analyze %  D:/YuLab/Work/GPS/Video/Leo/GPS_12_ThreeFPHoldSRTProbe/20240824/Top/Clips/Leo_20240824_HoldTrial108_TopView.avi\n",
      "Loading  D:/YuLab/Work/GPS/Video/Leo/GPS_12_ThreeFPHoldSRTProbe/20240824/Top/Clips/Leo_20240824_HoldTrial108_TopView.avi\n",
      "Duration of video [s]:  8.04 , recorded with  25.0 fps!\n",
      "Overall # of frames:  201  found with (before cropping) frame dimensions:  1280 1331\n",
      "Starting to extract posture\n",
      "Cropping based on the x1 = 0 x2 = 1280 y1 = 0 y2 = 1024. You can adjust the cropping coordinates in the config.yaml file.\n"
     ]
    },
    {
     "name": "stderr",
     "output_type": "stream",
     "text": [
      "100%|██████████| 201/201 [00:08<00:00, 23.16it/s]\n"
     ]
    },
    {
     "name": "stdout",
     "output_type": "stream",
     "text": [
      "Saving results in D:\\YuLab\\Work\\GPS\\Video\\Leo\\GPS_12_ThreeFPHoldSRTProbe\\20240824\\Top\\Clips...\n",
      "Saving csv poses!\n",
      "Starting to analyze %  D:/YuLab/Work/GPS/Video/Leo/GPS_12_ThreeFPHoldSRTProbe/20240824/Top/Clips/Leo_20240824_HoldTrial109_TopView.avi\n",
      "Loading  D:/YuLab/Work/GPS/Video/Leo/GPS_12_ThreeFPHoldSRTProbe/20240824/Top/Clips/Leo_20240824_HoldTrial109_TopView.avi\n",
      "Duration of video [s]:  8.04 , recorded with  25.0 fps!\n",
      "Overall # of frames:  201  found with (before cropping) frame dimensions:  1280 1331\n",
      "Starting to extract posture\n",
      "Cropping based on the x1 = 0 x2 = 1280 y1 = 0 y2 = 1024. You can adjust the cropping coordinates in the config.yaml file.\n"
     ]
    },
    {
     "name": "stderr",
     "output_type": "stream",
     "text": [
      "100%|██████████| 201/201 [00:08<00:00, 23.18it/s]\n"
     ]
    },
    {
     "name": "stdout",
     "output_type": "stream",
     "text": [
      "Saving results in D:\\YuLab\\Work\\GPS\\Video\\Leo\\GPS_12_ThreeFPHoldSRTProbe\\20240824\\Top\\Clips...\n",
      "Saving csv poses!\n",
      "Starting to analyze %  D:/YuLab/Work/GPS/Video/Leo/GPS_12_ThreeFPHoldSRTProbe/20240824/Top/Clips/Leo_20240824_HoldTrial110_TopView.avi\n",
      "Loading  D:/YuLab/Work/GPS/Video/Leo/GPS_12_ThreeFPHoldSRTProbe/20240824/Top/Clips/Leo_20240824_HoldTrial110_TopView.avi\n",
      "Duration of video [s]:  8.04 , recorded with  25.0 fps!\n",
      "Overall # of frames:  201  found with (before cropping) frame dimensions:  1280 1331\n",
      "Starting to extract posture\n",
      "Cropping based on the x1 = 0 x2 = 1280 y1 = 0 y2 = 1024. You can adjust the cropping coordinates in the config.yaml file.\n"
     ]
    },
    {
     "name": "stderr",
     "output_type": "stream",
     "text": [
      "100%|██████████| 201/201 [00:08<00:00, 23.08it/s]\n"
     ]
    },
    {
     "name": "stdout",
     "output_type": "stream",
     "text": [
      "Saving results in D:\\YuLab\\Work\\GPS\\Video\\Leo\\GPS_12_ThreeFPHoldSRTProbe\\20240824\\Top\\Clips...\n",
      "Saving csv poses!\n",
      "Starting to analyze %  D:/YuLab/Work/GPS/Video/Leo/GPS_12_ThreeFPHoldSRTProbe/20240824/Top/Clips/Leo_20240824_HoldTrial111_TopView.avi\n",
      "Loading  D:/YuLab/Work/GPS/Video/Leo/GPS_12_ThreeFPHoldSRTProbe/20240824/Top/Clips/Leo_20240824_HoldTrial111_TopView.avi\n",
      "Duration of video [s]:  8.04 , recorded with  25.0 fps!\n",
      "Overall # of frames:  201  found with (before cropping) frame dimensions:  1280 1331\n",
      "Starting to extract posture\n",
      "Cropping based on the x1 = 0 x2 = 1280 y1 = 0 y2 = 1024. You can adjust the cropping coordinates in the config.yaml file.\n"
     ]
    },
    {
     "name": "stderr",
     "output_type": "stream",
     "text": [
      "100%|██████████| 201/201 [00:08<00:00, 22.91it/s]\n"
     ]
    },
    {
     "name": "stdout",
     "output_type": "stream",
     "text": [
      "Saving results in D:\\YuLab\\Work\\GPS\\Video\\Leo\\GPS_12_ThreeFPHoldSRTProbe\\20240824\\Top\\Clips...\n",
      "Saving csv poses!\n",
      "Starting to analyze %  D:/YuLab/Work/GPS/Video/Leo/GPS_12_ThreeFPHoldSRTProbe/20240824/Top/Clips/Leo_20240824_HoldTrial112_TopView.avi\n",
      "Loading  D:/YuLab/Work/GPS/Video/Leo/GPS_12_ThreeFPHoldSRTProbe/20240824/Top/Clips/Leo_20240824_HoldTrial112_TopView.avi\n",
      "Duration of video [s]:  8.04 , recorded with  25.0 fps!\n",
      "Overall # of frames:  201  found with (before cropping) frame dimensions:  1280 1331\n",
      "Starting to extract posture\n",
      "Cropping based on the x1 = 0 x2 = 1280 y1 = 0 y2 = 1024. You can adjust the cropping coordinates in the config.yaml file.\n"
     ]
    },
    {
     "name": "stderr",
     "output_type": "stream",
     "text": [
      "100%|██████████| 201/201 [00:08<00:00, 22.67it/s]\n"
     ]
    },
    {
     "name": "stdout",
     "output_type": "stream",
     "text": [
      "Saving results in D:\\YuLab\\Work\\GPS\\Video\\Leo\\GPS_12_ThreeFPHoldSRTProbe\\20240824\\Top\\Clips...\n",
      "Saving csv poses!\n",
      "Starting to analyze %  D:/YuLab/Work/GPS/Video/Leo/GPS_12_ThreeFPHoldSRTProbe/20240824/Top/Clips/Leo_20240824_HoldTrial113_TopView.avi\n",
      "Loading  D:/YuLab/Work/GPS/Video/Leo/GPS_12_ThreeFPHoldSRTProbe/20240824/Top/Clips/Leo_20240824_HoldTrial113_TopView.avi\n",
      "Duration of video [s]:  8.04 , recorded with  25.0 fps!\n",
      "Overall # of frames:  201  found with (before cropping) frame dimensions:  1280 1331\n",
      "Starting to extract posture\n",
      "Cropping based on the x1 = 0 x2 = 1280 y1 = 0 y2 = 1024. You can adjust the cropping coordinates in the config.yaml file.\n"
     ]
    },
    {
     "name": "stderr",
     "output_type": "stream",
     "text": [
      "100%|██████████| 201/201 [00:08<00:00, 22.77it/s]\n"
     ]
    },
    {
     "name": "stdout",
     "output_type": "stream",
     "text": [
      "Saving results in D:\\YuLab\\Work\\GPS\\Video\\Leo\\GPS_12_ThreeFPHoldSRTProbe\\20240824\\Top\\Clips...\n",
      "Saving csv poses!\n",
      "Starting to analyze %  D:/YuLab/Work/GPS/Video/Leo/GPS_12_ThreeFPHoldSRTProbe/20240824/Top/Clips/Leo_20240824_HoldTrial114_TopView.avi\n",
      "Loading  D:/YuLab/Work/GPS/Video/Leo/GPS_12_ThreeFPHoldSRTProbe/20240824/Top/Clips/Leo_20240824_HoldTrial114_TopView.avi\n",
      "Duration of video [s]:  8.04 , recorded with  25.0 fps!\n",
      "Overall # of frames:  201  found with (before cropping) frame dimensions:  1280 1331\n",
      "Starting to extract posture\n",
      "Cropping based on the x1 = 0 x2 = 1280 y1 = 0 y2 = 1024. You can adjust the cropping coordinates in the config.yaml file.\n"
     ]
    },
    {
     "name": "stderr",
     "output_type": "stream",
     "text": [
      "100%|██████████| 201/201 [00:08<00:00, 22.67it/s]\n"
     ]
    },
    {
     "name": "stdout",
     "output_type": "stream",
     "text": [
      "Saving results in D:\\YuLab\\Work\\GPS\\Video\\Leo\\GPS_12_ThreeFPHoldSRTProbe\\20240824\\Top\\Clips...\n",
      "Saving csv poses!\n",
      "Starting to analyze %  D:/YuLab/Work/GPS/Video/Leo/GPS_12_ThreeFPHoldSRTProbe/20240824/Top/Clips/Leo_20240824_HoldTrial115_TopView.avi\n",
      "Loading  D:/YuLab/Work/GPS/Video/Leo/GPS_12_ThreeFPHoldSRTProbe/20240824/Top/Clips/Leo_20240824_HoldTrial115_TopView.avi\n",
      "Duration of video [s]:  8.04 , recorded with  25.0 fps!\n",
      "Overall # of frames:  201  found with (before cropping) frame dimensions:  1280 1331\n",
      "Starting to extract posture\n",
      "Cropping based on the x1 = 0 x2 = 1280 y1 = 0 y2 = 1024. You can adjust the cropping coordinates in the config.yaml file.\n"
     ]
    },
    {
     "name": "stderr",
     "output_type": "stream",
     "text": [
      "100%|██████████| 201/201 [00:08<00:00, 22.87it/s]\n"
     ]
    },
    {
     "name": "stdout",
     "output_type": "stream",
     "text": [
      "Saving results in D:\\YuLab\\Work\\GPS\\Video\\Leo\\GPS_12_ThreeFPHoldSRTProbe\\20240824\\Top\\Clips...\n",
      "Saving csv poses!\n",
      "Starting to analyze %  D:/YuLab/Work/GPS/Video/Leo/GPS_12_ThreeFPHoldSRTProbe/20240824/Top/Clips/Leo_20240824_HoldTrial116_TopView.avi\n",
      "Loading  D:/YuLab/Work/GPS/Video/Leo/GPS_12_ThreeFPHoldSRTProbe/20240824/Top/Clips/Leo_20240824_HoldTrial116_TopView.avi\n",
      "Duration of video [s]:  8.04 , recorded with  25.0 fps!\n",
      "Overall # of frames:  201  found with (before cropping) frame dimensions:  1280 1331\n",
      "Starting to extract posture\n",
      "Cropping based on the x1 = 0 x2 = 1280 y1 = 0 y2 = 1024. You can adjust the cropping coordinates in the config.yaml file.\n"
     ]
    },
    {
     "name": "stderr",
     "output_type": "stream",
     "text": [
      "100%|██████████| 201/201 [00:08<00:00, 22.72it/s]\n"
     ]
    },
    {
     "name": "stdout",
     "output_type": "stream",
     "text": [
      "Saving results in D:\\YuLab\\Work\\GPS\\Video\\Leo\\GPS_12_ThreeFPHoldSRTProbe\\20240824\\Top\\Clips...\n",
      "Saving csv poses!\n",
      "Starting to analyze %  D:/YuLab/Work/GPS/Video/Leo/GPS_12_ThreeFPHoldSRTProbe/20240824/Top/Clips/Leo_20240824_HoldTrial117_TopView.avi\n",
      "Loading  D:/YuLab/Work/GPS/Video/Leo/GPS_12_ThreeFPHoldSRTProbe/20240824/Top/Clips/Leo_20240824_HoldTrial117_TopView.avi\n",
      "Duration of video [s]:  8.04 , recorded with  25.0 fps!\n",
      "Overall # of frames:  201  found with (before cropping) frame dimensions:  1280 1331\n",
      "Starting to extract posture\n",
      "Cropping based on the x1 = 0 x2 = 1280 y1 = 0 y2 = 1024. You can adjust the cropping coordinates in the config.yaml file.\n"
     ]
    },
    {
     "name": "stderr",
     "output_type": "stream",
     "text": [
      "100%|██████████| 201/201 [00:08<00:00, 22.63it/s]\n"
     ]
    },
    {
     "name": "stdout",
     "output_type": "stream",
     "text": [
      "Saving results in D:\\YuLab\\Work\\GPS\\Video\\Leo\\GPS_12_ThreeFPHoldSRTProbe\\20240824\\Top\\Clips...\n",
      "Saving csv poses!\n",
      "Starting to analyze %  D:/YuLab/Work/GPS/Video/Leo/GPS_12_ThreeFPHoldSRTProbe/20240824/Top/Clips/Leo_20240824_HoldTrial118_TopView.avi\n",
      "Loading  D:/YuLab/Work/GPS/Video/Leo/GPS_12_ThreeFPHoldSRTProbe/20240824/Top/Clips/Leo_20240824_HoldTrial118_TopView.avi\n",
      "Duration of video [s]:  8.04 , recorded with  25.0 fps!\n",
      "Overall # of frames:  201  found with (before cropping) frame dimensions:  1280 1331\n",
      "Starting to extract posture\n",
      "Cropping based on the x1 = 0 x2 = 1280 y1 = 0 y2 = 1024. You can adjust the cropping coordinates in the config.yaml file.\n"
     ]
    },
    {
     "name": "stderr",
     "output_type": "stream",
     "text": [
      "100%|██████████| 201/201 [00:08<00:00, 22.52it/s]\n"
     ]
    },
    {
     "name": "stdout",
     "output_type": "stream",
     "text": [
      "Saving results in D:\\YuLab\\Work\\GPS\\Video\\Leo\\GPS_12_ThreeFPHoldSRTProbe\\20240824\\Top\\Clips...\n",
      "Saving csv poses!\n",
      "Starting to analyze %  D:/YuLab/Work/GPS/Video/Leo/GPS_12_ThreeFPHoldSRTProbe/20240824/Top/Clips/Leo_20240824_HoldTrial119_TopView.avi\n",
      "Loading  D:/YuLab/Work/GPS/Video/Leo/GPS_12_ThreeFPHoldSRTProbe/20240824/Top/Clips/Leo_20240824_HoldTrial119_TopView.avi\n",
      "Duration of video [s]:  8.04 , recorded with  25.0 fps!\n",
      "Overall # of frames:  201  found with (before cropping) frame dimensions:  1280 1331\n",
      "Starting to extract posture\n",
      "Cropping based on the x1 = 0 x2 = 1280 y1 = 0 y2 = 1024. You can adjust the cropping coordinates in the config.yaml file.\n"
     ]
    },
    {
     "name": "stderr",
     "output_type": "stream",
     "text": [
      "100%|██████████| 201/201 [00:08<00:00, 22.52it/s]\n"
     ]
    },
    {
     "name": "stdout",
     "output_type": "stream",
     "text": [
      "Saving results in D:\\YuLab\\Work\\GPS\\Video\\Leo\\GPS_12_ThreeFPHoldSRTProbe\\20240824\\Top\\Clips...\n",
      "Saving csv poses!\n",
      "Starting to analyze %  D:/YuLab/Work/GPS/Video/Leo/GPS_12_ThreeFPHoldSRTProbe/20240824/Top/Clips/Leo_20240824_HoldTrial120_TopView.avi\n",
      "Loading  D:/YuLab/Work/GPS/Video/Leo/GPS_12_ThreeFPHoldSRTProbe/20240824/Top/Clips/Leo_20240824_HoldTrial120_TopView.avi\n",
      "Duration of video [s]:  8.04 , recorded with  25.0 fps!\n",
      "Overall # of frames:  201  found with (before cropping) frame dimensions:  1280 1331\n",
      "Starting to extract posture\n",
      "Cropping based on the x1 = 0 x2 = 1280 y1 = 0 y2 = 1024. You can adjust the cropping coordinates in the config.yaml file.\n"
     ]
    },
    {
     "name": "stderr",
     "output_type": "stream",
     "text": [
      "100%|██████████| 201/201 [00:09<00:00, 22.25it/s]\n"
     ]
    },
    {
     "name": "stdout",
     "output_type": "stream",
     "text": [
      "Saving results in D:\\YuLab\\Work\\GPS\\Video\\Leo\\GPS_12_ThreeFPHoldSRTProbe\\20240824\\Top\\Clips...\n",
      "Saving csv poses!\n",
      "Starting to analyze %  D:/YuLab/Work/GPS/Video/Leo/GPS_12_ThreeFPHoldSRTProbe/20240824/Top/Clips/Leo_20240824_HoldTrial121_TopView.avi\n",
      "Loading  D:/YuLab/Work/GPS/Video/Leo/GPS_12_ThreeFPHoldSRTProbe/20240824/Top/Clips/Leo_20240824_HoldTrial121_TopView.avi\n",
      "Duration of video [s]:  8.04 , recorded with  25.0 fps!\n",
      "Overall # of frames:  201  found with (before cropping) frame dimensions:  1280 1331\n",
      "Starting to extract posture\n",
      "Cropping based on the x1 = 0 x2 = 1280 y1 = 0 y2 = 1024. You can adjust the cropping coordinates in the config.yaml file.\n"
     ]
    },
    {
     "name": "stderr",
     "output_type": "stream",
     "text": [
      "100%|██████████| 201/201 [00:08<00:00, 22.68it/s]\n"
     ]
    },
    {
     "name": "stdout",
     "output_type": "stream",
     "text": [
      "Saving results in D:\\YuLab\\Work\\GPS\\Video\\Leo\\GPS_12_ThreeFPHoldSRTProbe\\20240824\\Top\\Clips...\n",
      "Saving csv poses!\n",
      "Starting to analyze %  D:/YuLab/Work/GPS/Video/Leo/GPS_12_ThreeFPHoldSRTProbe/20240824/Top/Clips/Leo_20240824_HoldTrial122_TopView.avi\n",
      "Loading  D:/YuLab/Work/GPS/Video/Leo/GPS_12_ThreeFPHoldSRTProbe/20240824/Top/Clips/Leo_20240824_HoldTrial122_TopView.avi\n",
      "Duration of video [s]:  8.04 , recorded with  25.0 fps!\n",
      "Overall # of frames:  201  found with (before cropping) frame dimensions:  1280 1331\n",
      "Starting to extract posture\n",
      "Cropping based on the x1 = 0 x2 = 1280 y1 = 0 y2 = 1024. You can adjust the cropping coordinates in the config.yaml file.\n"
     ]
    },
    {
     "name": "stderr",
     "output_type": "stream",
     "text": [
      "100%|██████████| 201/201 [00:09<00:00, 22.15it/s]\n"
     ]
    },
    {
     "name": "stdout",
     "output_type": "stream",
     "text": [
      "Saving results in D:\\YuLab\\Work\\GPS\\Video\\Leo\\GPS_12_ThreeFPHoldSRTProbe\\20240824\\Top\\Clips...\n",
      "Saving csv poses!\n",
      "Starting to analyze %  D:/YuLab/Work/GPS/Video/Leo/GPS_12_ThreeFPHoldSRTProbe/20240824/Top/Clips/Leo_20240824_HoldTrial123_TopView.avi\n",
      "Loading  D:/YuLab/Work/GPS/Video/Leo/GPS_12_ThreeFPHoldSRTProbe/20240824/Top/Clips/Leo_20240824_HoldTrial123_TopView.avi\n",
      "Duration of video [s]:  8.04 , recorded with  25.0 fps!\n",
      "Overall # of frames:  201  found with (before cropping) frame dimensions:  1280 1331\n",
      "Starting to extract posture\n",
      "Cropping based on the x1 = 0 x2 = 1280 y1 = 0 y2 = 1024. You can adjust the cropping coordinates in the config.yaml file.\n"
     ]
    },
    {
     "name": "stderr",
     "output_type": "stream",
     "text": [
      "100%|██████████| 201/201 [00:08<00:00, 22.70it/s]\n"
     ]
    },
    {
     "name": "stdout",
     "output_type": "stream",
     "text": [
      "Saving results in D:\\YuLab\\Work\\GPS\\Video\\Leo\\GPS_12_ThreeFPHoldSRTProbe\\20240824\\Top\\Clips...\n",
      "Saving csv poses!\n",
      "Starting to analyze %  D:/YuLab/Work/GPS/Video/Leo/GPS_12_ThreeFPHoldSRTProbe/20240824/Top/Clips/Leo_20240824_HoldTrial124_TopView.avi\n",
      "Loading  D:/YuLab/Work/GPS/Video/Leo/GPS_12_ThreeFPHoldSRTProbe/20240824/Top/Clips/Leo_20240824_HoldTrial124_TopView.avi\n",
      "Duration of video [s]:  8.04 , recorded with  25.0 fps!\n",
      "Overall # of frames:  201  found with (before cropping) frame dimensions:  1280 1331\n",
      "Starting to extract posture\n",
      "Cropping based on the x1 = 0 x2 = 1280 y1 = 0 y2 = 1024. You can adjust the cropping coordinates in the config.yaml file.\n"
     ]
    },
    {
     "name": "stderr",
     "output_type": "stream",
     "text": [
      "100%|██████████| 201/201 [00:08<00:00, 23.00it/s]\n"
     ]
    },
    {
     "name": "stdout",
     "output_type": "stream",
     "text": [
      "Saving results in D:\\YuLab\\Work\\GPS\\Video\\Leo\\GPS_12_ThreeFPHoldSRTProbe\\20240824\\Top\\Clips...\n",
      "Saving csv poses!\n",
      "Starting to analyze %  D:/YuLab/Work/GPS/Video/Leo/GPS_12_ThreeFPHoldSRTProbe/20240824/Top/Clips/Leo_20240824_HoldTrial125_TopView.avi\n",
      "Loading  D:/YuLab/Work/GPS/Video/Leo/GPS_12_ThreeFPHoldSRTProbe/20240824/Top/Clips/Leo_20240824_HoldTrial125_TopView.avi\n",
      "Duration of video [s]:  8.04 , recorded with  25.0 fps!\n",
      "Overall # of frames:  201  found with (before cropping) frame dimensions:  1280 1331\n",
      "Starting to extract posture\n",
      "Cropping based on the x1 = 0 x2 = 1280 y1 = 0 y2 = 1024. You can adjust the cropping coordinates in the config.yaml file.\n"
     ]
    },
    {
     "name": "stderr",
     "output_type": "stream",
     "text": [
      "100%|██████████| 201/201 [00:08<00:00, 22.94it/s]\n"
     ]
    },
    {
     "name": "stdout",
     "output_type": "stream",
     "text": [
      "Saving results in D:\\YuLab\\Work\\GPS\\Video\\Leo\\GPS_12_ThreeFPHoldSRTProbe\\20240824\\Top\\Clips...\n",
      "Saving csv poses!\n",
      "Starting to analyze %  D:/YuLab/Work/GPS/Video/Leo/GPS_12_ThreeFPHoldSRTProbe/20240824/Top/Clips/Leo_20240824_HoldTrial126_TopView.avi\n",
      "Loading  D:/YuLab/Work/GPS/Video/Leo/GPS_12_ThreeFPHoldSRTProbe/20240824/Top/Clips/Leo_20240824_HoldTrial126_TopView.avi\n",
      "Duration of video [s]:  8.04 , recorded with  25.0 fps!\n",
      "Overall # of frames:  201  found with (before cropping) frame dimensions:  1280 1331\n",
      "Starting to extract posture\n",
      "Cropping based on the x1 = 0 x2 = 1280 y1 = 0 y2 = 1024. You can adjust the cropping coordinates in the config.yaml file.\n"
     ]
    },
    {
     "name": "stderr",
     "output_type": "stream",
     "text": [
      "100%|██████████| 201/201 [00:08<00:00, 22.69it/s]\n"
     ]
    },
    {
     "name": "stdout",
     "output_type": "stream",
     "text": [
      "Saving results in D:\\YuLab\\Work\\GPS\\Video\\Leo\\GPS_12_ThreeFPHoldSRTProbe\\20240824\\Top\\Clips...\n",
      "Saving csv poses!\n",
      "Starting to analyze %  D:/YuLab/Work/GPS/Video/Leo/GPS_12_ThreeFPHoldSRTProbe/20240824/Top/Clips/Leo_20240824_HoldTrial127_TopView.avi\n",
      "Loading  D:/YuLab/Work/GPS/Video/Leo/GPS_12_ThreeFPHoldSRTProbe/20240824/Top/Clips/Leo_20240824_HoldTrial127_TopView.avi\n",
      "Duration of video [s]:  8.04 , recorded with  25.0 fps!\n",
      "Overall # of frames:  201  found with (before cropping) frame dimensions:  1280 1331\n",
      "Starting to extract posture\n",
      "Cropping based on the x1 = 0 x2 = 1280 y1 = 0 y2 = 1024. You can adjust the cropping coordinates in the config.yaml file.\n"
     ]
    },
    {
     "name": "stderr",
     "output_type": "stream",
     "text": [
      "100%|██████████| 201/201 [00:08<00:00, 22.81it/s]\n"
     ]
    },
    {
     "name": "stdout",
     "output_type": "stream",
     "text": [
      "Saving results in D:\\YuLab\\Work\\GPS\\Video\\Leo\\GPS_12_ThreeFPHoldSRTProbe\\20240824\\Top\\Clips...\n",
      "Saving csv poses!\n",
      "Starting to analyze %  D:/YuLab/Work/GPS/Video/Leo/GPS_12_ThreeFPHoldSRTProbe/20240824/Top/Clips/Leo_20240824_HoldTrial128_TopView.avi\n",
      "Loading  D:/YuLab/Work/GPS/Video/Leo/GPS_12_ThreeFPHoldSRTProbe/20240824/Top/Clips/Leo_20240824_HoldTrial128_TopView.avi\n",
      "Duration of video [s]:  8.04 , recorded with  25.0 fps!\n",
      "Overall # of frames:  201  found with (before cropping) frame dimensions:  1280 1331\n",
      "Starting to extract posture\n",
      "Cropping based on the x1 = 0 x2 = 1280 y1 = 0 y2 = 1024. You can adjust the cropping coordinates in the config.yaml file.\n"
     ]
    },
    {
     "name": "stderr",
     "output_type": "stream",
     "text": [
      "100%|██████████| 201/201 [00:08<00:00, 23.01it/s]\n"
     ]
    },
    {
     "name": "stdout",
     "output_type": "stream",
     "text": [
      "Saving results in D:\\YuLab\\Work\\GPS\\Video\\Leo\\GPS_12_ThreeFPHoldSRTProbe\\20240824\\Top\\Clips...\n",
      "Saving csv poses!\n",
      "Starting to analyze %  D:/YuLab/Work/GPS/Video/Leo/GPS_12_ThreeFPHoldSRTProbe/20240824/Top/Clips/Leo_20240824_HoldTrial129_TopView.avi\n",
      "Loading  D:/YuLab/Work/GPS/Video/Leo/GPS_12_ThreeFPHoldSRTProbe/20240824/Top/Clips/Leo_20240824_HoldTrial129_TopView.avi\n",
      "Duration of video [s]:  8.04 , recorded with  25.0 fps!\n",
      "Overall # of frames:  201  found with (before cropping) frame dimensions:  1280 1331\n",
      "Starting to extract posture\n",
      "Cropping based on the x1 = 0 x2 = 1280 y1 = 0 y2 = 1024. You can adjust the cropping coordinates in the config.yaml file.\n"
     ]
    },
    {
     "name": "stderr",
     "output_type": "stream",
     "text": [
      "100%|██████████| 201/201 [00:08<00:00, 22.96it/s]\n"
     ]
    },
    {
     "name": "stdout",
     "output_type": "stream",
     "text": [
      "Saving results in D:\\YuLab\\Work\\GPS\\Video\\Leo\\GPS_12_ThreeFPHoldSRTProbe\\20240824\\Top\\Clips...\n",
      "Saving csv poses!\n",
      "Starting to analyze %  D:/YuLab/Work/GPS/Video/Leo/GPS_12_ThreeFPHoldSRTProbe/20240824/Top/Clips/Leo_20240824_HoldTrial130_TopView.avi\n",
      "Loading  D:/YuLab/Work/GPS/Video/Leo/GPS_12_ThreeFPHoldSRTProbe/20240824/Top/Clips/Leo_20240824_HoldTrial130_TopView.avi\n",
      "Duration of video [s]:  8.04 , recorded with  25.0 fps!\n",
      "Overall # of frames:  201  found with (before cropping) frame dimensions:  1280 1331\n",
      "Starting to extract posture\n",
      "Cropping based on the x1 = 0 x2 = 1280 y1 = 0 y2 = 1024. You can adjust the cropping coordinates in the config.yaml file.\n"
     ]
    },
    {
     "name": "stderr",
     "output_type": "stream",
     "text": [
      "100%|██████████| 201/201 [00:08<00:00, 22.94it/s]\n"
     ]
    },
    {
     "name": "stdout",
     "output_type": "stream",
     "text": [
      "Saving results in D:\\YuLab\\Work\\GPS\\Video\\Leo\\GPS_12_ThreeFPHoldSRTProbe\\20240824\\Top\\Clips...\n",
      "Saving csv poses!\n",
      "Starting to analyze %  D:/YuLab/Work/GPS/Video/Leo/GPS_12_ThreeFPHoldSRTProbe/20240824/Top/Clips/Leo_20240824_HoldTrial131_TopView.avi\n",
      "Loading  D:/YuLab/Work/GPS/Video/Leo/GPS_12_ThreeFPHoldSRTProbe/20240824/Top/Clips/Leo_20240824_HoldTrial131_TopView.avi\n",
      "Duration of video [s]:  8.04 , recorded with  25.0 fps!\n",
      "Overall # of frames:  201  found with (before cropping) frame dimensions:  1280 1331\n",
      "Starting to extract posture\n",
      "Cropping based on the x1 = 0 x2 = 1280 y1 = 0 y2 = 1024. You can adjust the cropping coordinates in the config.yaml file.\n"
     ]
    },
    {
     "name": "stderr",
     "output_type": "stream",
     "text": [
      "100%|██████████| 201/201 [00:08<00:00, 23.00it/s]\n"
     ]
    },
    {
     "name": "stdout",
     "output_type": "stream",
     "text": [
      "Saving results in D:\\YuLab\\Work\\GPS\\Video\\Leo\\GPS_12_ThreeFPHoldSRTProbe\\20240824\\Top\\Clips...\n",
      "Saving csv poses!\n",
      "Starting to analyze %  D:/YuLab/Work/GPS/Video/Leo/GPS_12_ThreeFPHoldSRTProbe/20240824/Top/Clips/Leo_20240824_HoldTrial132_TopView.avi\n",
      "Loading  D:/YuLab/Work/GPS/Video/Leo/GPS_12_ThreeFPHoldSRTProbe/20240824/Top/Clips/Leo_20240824_HoldTrial132_TopView.avi\n",
      "Duration of video [s]:  8.04 , recorded with  25.0 fps!\n",
      "Overall # of frames:  201  found with (before cropping) frame dimensions:  1280 1331\n",
      "Starting to extract posture\n",
      "Cropping based on the x1 = 0 x2 = 1280 y1 = 0 y2 = 1024. You can adjust the cropping coordinates in the config.yaml file.\n"
     ]
    },
    {
     "name": "stderr",
     "output_type": "stream",
     "text": [
      "100%|██████████| 201/201 [00:08<00:00, 22.95it/s]\n"
     ]
    },
    {
     "name": "stdout",
     "output_type": "stream",
     "text": [
      "Saving results in D:\\YuLab\\Work\\GPS\\Video\\Leo\\GPS_12_ThreeFPHoldSRTProbe\\20240824\\Top\\Clips...\n",
      "Saving csv poses!\n",
      "The videos are analyzed. Now your research can truly start! \n",
      " You can create labeled videos with 'create_labeled_video'\n",
      "If the tracking is not satisfactory for some videos, consider expanding the training set. You can use the function 'extract_outlier_frames' to extract a few representative outlier frames.\n"
     ]
    },
    {
     "data": {
      "text/plain": [
       "'DLC_resnet50_ChesterTopGPSMay26shuffle1_1500000'"
      ]
     },
     "execution_count": 7,
     "metadata": {},
     "output_type": "execute_result"
    }
   ],
   "source": [
    "deeplabcut.analyze_videos(config=config_path, videos=video_files, videotype='avi', shuffle=1, save_as_csv=True)"
   ]
  },
  {
   "cell_type": "code",
   "execution_count": 8,
   "metadata": {},
   "outputs": [
    {
     "name": "stdout",
     "output_type": "stream",
     "text": [
      "Loading  D:/YuLab/Work/GPS/Video/Chester/GPS_13_ThreeFPHoldSRTProbe/20240713/Top/Clips/Chester_20240713_HoldTrial018_TopView.avi and data.\n",
      "Loading  D:/YuLab/Work/GPS/Video/Chester/GPS_13_ThreeFPHoldSRTProbe/20240713/Top/Clips/Chester_20240713_HoldTrial019_TopView.avi and data.\n",
      "Loading  D:/YuLab/Work/GPS/Video/Chester/GPS_13_ThreeFPHoldSRTProbe/20240713/Top/Clips/Chester_20240713_HoldTrial020_TopView.avi and data.\n",
      "Loading  D:/YuLab/Work/GPS/Video/Chester/GPS_13_ThreeFPHoldSRTProbe/20240713/Top/Clips/Chester_20240713_HoldTrial021_TopView.avi and data.\n",
      "Loading  D:/YuLab/Work/GPS/Video/Chester/GPS_13_ThreeFPHoldSRTProbe/20240713/Top/Clips/Chester_20240713_HoldTrial022_TopView.avi and data.\n",
      "Loading  D:/YuLab/Work/GPS/Video/Chester/GPS_13_ThreeFPHoldSRTProbe/20240713/Top/Clips/Chester_20240713_HoldTrial023_TopView.avi and data.\n",
      "Loading  D:/YuLab/Work/GPS/Video/Chester/GPS_13_ThreeFPHoldSRTProbe/20240713/Top/Clips/Chester_20240713_HoldTrial024_TopView.avi and data.\n",
      "Loading  D:/YuLab/Work/GPS/Video/Chester/GPS_13_ThreeFPHoldSRTProbe/20240713/Top/Clips/Chester_20240713_HoldTrial025_TopView.avi and data.\n",
      "Loading  D:/YuLab/Work/GPS/Video/Chester/GPS_13_ThreeFPHoldSRTProbe/20240713/Top/Clips/Chester_20240713_HoldTrial026_TopView.avi and data.\n",
      "Loading  D:/YuLab/Work/GPS/Video/Chester/GPS_13_ThreeFPHoldSRTProbe/20240713/Top/Clips/Chester_20240713_HoldTrial027_TopView.avi and data.\n",
      "Loading  D:/YuLab/Work/GPS/Video/Chester/GPS_13_ThreeFPHoldSRTProbe/20240713/Top/Clips/Chester_20240713_HoldTrial028_TopView.avi and data.\n",
      "Loading  D:/YuLab/Work/GPS/Video/Chester/GPS_13_ThreeFPHoldSRTProbe/20240713/Top/Clips/Chester_20240713_HoldTrial029_TopView.avi and data.\n",
      "Loading  D:/YuLab/Work/GPS/Video/Chester/GPS_13_ThreeFPHoldSRTProbe/20240713/Top/Clips/Chester_20240713_HoldTrial030_TopView.avi and data.\n",
      "Loading  D:/YuLab/Work/GPS/Video/Chester/GPS_13_ThreeFPHoldSRTProbe/20240713/Top/Clips/Chester_20240713_HoldTrial031_TopView.avi and data.\n",
      "Loading  D:/YuLab/Work/GPS/Video/Chester/GPS_13_ThreeFPHoldSRTProbe/20240713/Top/Clips/Chester_20240713_HoldTrial032_TopView.avi and data.\n",
      "Loading  D:/YuLab/Work/GPS/Video/Chester/GPS_13_ThreeFPHoldSRTProbe/20240713/Top/Clips/Chester_20240713_HoldTrial033_TopView.avi and data.\n",
      "Loading  D:/YuLab/Work/GPS/Video/Chester/GPS_13_ThreeFPHoldSRTProbe/20240713/Top/Clips/Chester_20240713_HoldTrial034_TopView.avi and data.\n",
      "Loading  D:/YuLab/Work/GPS/Video/Chester/GPS_13_ThreeFPHoldSRTProbe/20240713/Top/Clips/Chester_20240713_HoldTrial035_TopView.avi and data.\n",
      "Loading  D:/YuLab/Work/GPS/Video/Chester/GPS_13_ThreeFPHoldSRTProbe/20240713/Top/Clips/Chester_20240713_HoldTrial036_TopView.avi and data.\n",
      "Loading  D:/YuLab/Work/GPS/Video/Chester/GPS_13_ThreeFPHoldSRTProbe/20240713/Top/Clips/Chester_20240713_HoldTrial037_TopView.avi and data.\n",
      "Loading  D:/YuLab/Work/GPS/Video/Chester/GPS_13_ThreeFPHoldSRTProbe/20240713/Top/Clips/Chester_20240713_HoldTrial038_TopView.avi and data.\n",
      "Loading  D:/YuLab/Work/GPS/Video/Chester/GPS_13_ThreeFPHoldSRTProbe/20240713/Top/Clips/Chester_20240713_HoldTrial039_TopView.avi and data.\n",
      "Loading  D:/YuLab/Work/GPS/Video/Chester/GPS_13_ThreeFPHoldSRTProbe/20240713/Top/Clips/Chester_20240713_HoldTrial040_TopView.avi and data.\n",
      "Loading  D:/YuLab/Work/GPS/Video/Chester/GPS_13_ThreeFPHoldSRTProbe/20240713/Top/Clips/Chester_20240713_HoldTrial041_TopView.avi and data.\n",
      "Loading  D:/YuLab/Work/GPS/Video/Chester/GPS_13_ThreeFPHoldSRTProbe/20240713/Top/Clips/Chester_20240713_HoldTrial042_TopView.avi and data.\n",
      "Loading  D:/YuLab/Work/GPS/Video/Chester/GPS_13_ThreeFPHoldSRTProbe/20240713/Top/Clips/Chester_20240713_HoldTrial043_TopView.avi and data.\n",
      "Loading  D:/YuLab/Work/GPS/Video/Chester/GPS_13_ThreeFPHoldSRTProbe/20240713/Top/Clips/Chester_20240713_HoldTrial044_TopView.avi and data.\n",
      "Loading  D:/YuLab/Work/GPS/Video/Chester/GPS_13_ThreeFPHoldSRTProbe/20240713/Top/Clips/Chester_20240713_HoldTrial045_TopView.avi and data.\n",
      "Loading  D:/YuLab/Work/GPS/Video/Chester/GPS_13_ThreeFPHoldSRTProbe/20240713/Top/Clips/Chester_20240713_HoldTrial046_TopView.avi and data.\n",
      "Loading  D:/YuLab/Work/GPS/Video/Chester/GPS_13_ThreeFPHoldSRTProbe/20240713/Top/Clips/Chester_20240713_HoldTrial047_TopView.avi and data.\n",
      "Loading  D:/YuLab/Work/GPS/Video/Chester/GPS_13_ThreeFPHoldSRTProbe/20240713/Top/Clips/Chester_20240713_HoldTrial048_TopView.avi and data.\n",
      "Loading  D:/YuLab/Work/GPS/Video/Chester/GPS_13_ThreeFPHoldSRTProbe/20240713/Top/Clips/Chester_20240713_HoldTrial049_TopView.avi and data.\n",
      "Loading  D:/YuLab/Work/GPS/Video/Chester/GPS_13_ThreeFPHoldSRTProbe/20240713/Top/Clips/Chester_20240713_HoldTrial050_TopView.avi and data.\n",
      "Loading  D:/YuLab/Work/GPS/Video/Chester/GPS_13_ThreeFPHoldSRTProbe/20240713/Top/Clips/Chester_20240713_HoldTrial051_TopView.avi and data.\n",
      "Loading  D:/YuLab/Work/GPS/Video/Chester/GPS_13_ThreeFPHoldSRTProbe/20240713/Top/Clips/Chester_20240713_HoldTrial052_TopView.avi and data.\n",
      "Loading  D:/YuLab/Work/GPS/Video/Chester/GPS_13_ThreeFPHoldSRTProbe/20240713/Top/Clips/Chester_20240713_HoldTrial053_TopView.avi and data.\n",
      "Loading  D:/YuLab/Work/GPS/Video/Chester/GPS_13_ThreeFPHoldSRTProbe/20240713/Top/Clips/Chester_20240713_HoldTrial054_TopView.avi and data.\n",
      "Loading  D:/YuLab/Work/GPS/Video/Chester/GPS_13_ThreeFPHoldSRTProbe/20240713/Top/Clips/Chester_20240713_HoldTrial055_TopView.avi and data.\n",
      "Loading  D:/YuLab/Work/GPS/Video/Chester/GPS_13_ThreeFPHoldSRTProbe/20240713/Top/Clips/Chester_20240713_HoldTrial056_TopView.avi and data.\n",
      "Loading  D:/YuLab/Work/GPS/Video/Chester/GPS_13_ThreeFPHoldSRTProbe/20240713/Top/Clips/Chester_20240713_HoldTrial057_TopView.avi and data.\n",
      "Loading  D:/YuLab/Work/GPS/Video/Chester/GPS_13_ThreeFPHoldSRTProbe/20240713/Top/Clips/Chester_20240713_HoldTrial058_TopView.avi and data.\n",
      "Loading  D:/YuLab/Work/GPS/Video/Chester/GPS_13_ThreeFPHoldSRTProbe/20240713/Top/Clips/Chester_20240713_HoldTrial059_TopView.avi and data.\n",
      "Loading  D:/YuLab/Work/GPS/Video/Chester/GPS_13_ThreeFPHoldSRTProbe/20240713/Top/Clips/Chester_20240713_HoldTrial060_TopView.avi and data.\n",
      "Loading  D:/YuLab/Work/GPS/Video/Chester/GPS_13_ThreeFPHoldSRTProbe/20240713/Top/Clips/Chester_20240713_HoldTrial061_TopView.avi and data.\n",
      "Loading  D:/YuLab/Work/GPS/Video/Chester/GPS_13_ThreeFPHoldSRTProbe/20240713/Top/Clips/Chester_20240713_HoldTrial062_TopView.avi and data.\n",
      "Loading  D:/YuLab/Work/GPS/Video/Chester/GPS_13_ThreeFPHoldSRTProbe/20240713/Top/Clips/Chester_20240713_HoldTrial063_TopView.avi and data.\n",
      "Loading  D:/YuLab/Work/GPS/Video/Chester/GPS_13_ThreeFPHoldSRTProbe/20240713/Top/Clips/Chester_20240713_HoldTrial064_TopView.avi and data.\n",
      "Loading  D:/YuLab/Work/GPS/Video/Chester/GPS_13_ThreeFPHoldSRTProbe/20240713/Top/Clips/Chester_20240713_HoldTrial065_TopView.avi and data.\n",
      "Loading  D:/YuLab/Work/GPS/Video/Chester/GPS_13_ThreeFPHoldSRTProbe/20240713/Top/Clips/Chester_20240713_HoldTrial066_TopView.avi and data.\n",
      "Loading  D:/YuLab/Work/GPS/Video/Chester/GPS_13_ThreeFPHoldSRTProbe/20240713/Top/Clips/Chester_20240713_HoldTrial067_TopView.avi and data.\n",
      "Loading  D:/YuLab/Work/GPS/Video/Chester/GPS_13_ThreeFPHoldSRTProbe/20240713/Top/Clips/Chester_20240713_HoldTrial068_TopView.avi and data.\n",
      "Loading  D:/YuLab/Work/GPS/Video/Chester/GPS_13_ThreeFPHoldSRTProbe/20240713/Top/Clips/Chester_20240713_HoldTrial069_TopView.avi and data.\n",
      "Loading  D:/YuLab/Work/GPS/Video/Chester/GPS_13_ThreeFPHoldSRTProbe/20240713/Top/Clips/Chester_20240713_HoldTrial070_TopView.avi and data.\n",
      "Loading  D:/YuLab/Work/GPS/Video/Chester/GPS_13_ThreeFPHoldSRTProbe/20240713/Top/Clips/Chester_20240713_HoldTrial071_TopView.avi and data.\n",
      "Loading  D:/YuLab/Work/GPS/Video/Chester/GPS_13_ThreeFPHoldSRTProbe/20240713/Top/Clips/Chester_20240713_HoldTrial072_TopView.avi and data.\n",
      "Loading  D:/YuLab/Work/GPS/Video/Chester/GPS_13_ThreeFPHoldSRTProbe/20240713/Top/Clips/Chester_20240713_HoldTrial073_TopView.avi and data.\n",
      "Loading  D:/YuLab/Work/GPS/Video/Chester/GPS_13_ThreeFPHoldSRTProbe/20240713/Top/Clips/Chester_20240713_HoldTrial074_TopView.avi and data.\n",
      "Loading  D:/YuLab/Work/GPS/Video/Chester/GPS_13_ThreeFPHoldSRTProbe/20240713/Top/Clips/Chester_20240713_HoldTrial075_TopView.avi and data.\n",
      "Loading  D:/YuLab/Work/GPS/Video/Chester/GPS_13_ThreeFPHoldSRTProbe/20240713/Top/Clips/Chester_20240713_HoldTrial076_TopView.avi and data.\n",
      "Loading  D:/YuLab/Work/GPS/Video/Chester/GPS_13_ThreeFPHoldSRTProbe/20240713/Top/Clips/Chester_20240713_HoldTrial077_TopView.avi and data.\n",
      "Loading  D:/YuLab/Work/GPS/Video/Chester/GPS_13_ThreeFPHoldSRTProbe/20240713/Top/Clips/Chester_20240713_HoldTrial078_TopView.avi and data.\n",
      "Loading  D:/YuLab/Work/GPS/Video/Chester/GPS_13_ThreeFPHoldSRTProbe/20240713/Top/Clips/Chester_20240713_HoldTrial079_TopView.avi and data.\n",
      "Loading  D:/YuLab/Work/GPS/Video/Chester/GPS_13_ThreeFPHoldSRTProbe/20240713/Top/Clips/Chester_20240713_HoldTrial080_TopView.avi and data.\n",
      "Loading  D:/YuLab/Work/GPS/Video/Chester/GPS_13_ThreeFPHoldSRTProbe/20240713/Top/Clips/Chester_20240713_HoldTrial081_TopView.avi and data.\n",
      "Loading  D:/YuLab/Work/GPS/Video/Chester/GPS_13_ThreeFPHoldSRTProbe/20240713/Top/Clips/Chester_20240713_HoldTrial082_TopView.avi and data.\n",
      "Loading  D:/YuLab/Work/GPS/Video/Chester/GPS_13_ThreeFPHoldSRTProbe/20240713/Top/Clips/Chester_20240713_HoldTrial083_TopView.avi and data.\n",
      "Loading  D:/YuLab/Work/GPS/Video/Chester/GPS_13_ThreeFPHoldSRTProbe/20240713/Top/Clips/Chester_20240713_HoldTrial084_TopView.avi and data.\n",
      "Loading  D:/YuLab/Work/GPS/Video/Chester/GPS_13_ThreeFPHoldSRTProbe/20240713/Top/Clips/Chester_20240713_HoldTrial085_TopView.avi and data.\n",
      "Loading  D:/YuLab/Work/GPS/Video/Chester/GPS_13_ThreeFPHoldSRTProbe/20240713/Top/Clips/Chester_20240713_HoldTrial086_TopView.avi and data.\n",
      "Loading  D:/YuLab/Work/GPS/Video/Chester/GPS_13_ThreeFPHoldSRTProbe/20240713/Top/Clips/Chester_20240713_HoldTrial087_TopView.avi and data.\n",
      "Loading  D:/YuLab/Work/GPS/Video/Chester/GPS_13_ThreeFPHoldSRTProbe/20240713/Top/Clips/Chester_20240713_HoldTrial088_TopView.avi and data.\n",
      "Loading  D:/YuLab/Work/GPS/Video/Chester/GPS_13_ThreeFPHoldSRTProbe/20240713/Top/Clips/Chester_20240713_HoldTrial089_TopView.avi and data.\n",
      "Loading  D:/YuLab/Work/GPS/Video/Chester/GPS_13_ThreeFPHoldSRTProbe/20240713/Top/Clips/Chester_20240713_HoldTrial090_TopView.avi and data.\n",
      "Loading  D:/YuLab/Work/GPS/Video/Chester/GPS_13_ThreeFPHoldSRTProbe/20240713/Top/Clips/Chester_20240713_HoldTrial091_TopView.avi and data.\n",
      "Loading  D:/YuLab/Work/GPS/Video/Chester/GPS_13_ThreeFPHoldSRTProbe/20240713/Top/Clips/Chester_20240713_HoldTrial092_TopView.avi and data.\n",
      "Loading  D:/YuLab/Work/GPS/Video/Chester/GPS_13_ThreeFPHoldSRTProbe/20240713/Top/Clips/Chester_20240713_HoldTrial093_TopView.avi and data.\n",
      "Loading  D:/YuLab/Work/GPS/Video/Chester/GPS_13_ThreeFPHoldSRTProbe/20240713/Top/Clips/Chester_20240713_HoldTrial094_TopView.avi and data.\n",
      "Loading  D:/YuLab/Work/GPS/Video/Chester/GPS_13_ThreeFPHoldSRTProbe/20240713/Top/Clips/Chester_20240713_HoldTrial095_TopView.avi and data.\n",
      "Loading  D:/YuLab/Work/GPS/Video/Chester/GPS_13_ThreeFPHoldSRTProbe/20240713/Top/Clips/Chester_20240713_HoldTrial096_TopView.avi and data.\n",
      "Loading  D:/YuLab/Work/GPS/Video/Chester/GPS_13_ThreeFPHoldSRTProbe/20240713/Top/Clips/Chester_20240713_HoldTrial097_TopView.avi and data.\n",
      "Loading  D:/YuLab/Work/GPS/Video/Chester/GPS_13_ThreeFPHoldSRTProbe/20240713/Top/Clips/Chester_20240713_HoldTrial098_TopView.avi and data.\n",
      "Loading  D:/YuLab/Work/GPS/Video/Chester/GPS_13_ThreeFPHoldSRTProbe/20240713/Top/Clips/Chester_20240713_HoldTrial099_TopView.avi and data.\n",
      "Loading  D:/YuLab/Work/GPS/Video/Chester/GPS_13_ThreeFPHoldSRTProbe/20240713/Top/Clips/Chester_20240713_HoldTrial100_TopView.avi and data.\n",
      "Loading  D:/YuLab/Work/GPS/Video/Chester/GPS_13_ThreeFPHoldSRTProbe/20240713/Top/Clips/Chester_20240713_HoldTrial101_TopView.avi and data.\n",
      "Loading  D:/YuLab/Work/GPS/Video/Chester/GPS_13_ThreeFPHoldSRTProbe/20240713/Top/Clips/Chester_20240713_HoldTrial102_TopView.avi and data.\n",
      "Loading  D:/YuLab/Work/GPS/Video/Chester/GPS_13_ThreeFPHoldSRTProbe/20240713/Top/Clips/Chester_20240713_HoldTrial103_TopView.avi and data.\n",
      "Loading  D:/YuLab/Work/GPS/Video/Chester/GPS_13_ThreeFPHoldSRTProbe/20240713/Top/Clips/Chester_20240713_HoldTrial104_TopView.avi and data.\n",
      "Loading  D:/YuLab/Work/GPS/Video/Chester/GPS_13_ThreeFPHoldSRTProbe/20240713/Top/Clips/Chester_20240713_HoldTrial105_TopView.avi and data.\n",
      "Loading  D:/YuLab/Work/GPS/Video/Chester/GPS_13_ThreeFPHoldSRTProbe/20240713/Top/Clips/Chester_20240713_HoldTrial106_TopView.avi and data.\n",
      "Loading  D:/YuLab/Work/GPS/Video/Chester/GPS_13_ThreeFPHoldSRTProbe/20240713/Top/Clips/Chester_20240713_HoldTrial107_TopView.avi and data.\n",
      "Loading  D:/YuLab/Work/GPS/Video/Chester/GPS_13_ThreeFPHoldSRTProbe/20240713/Top/Clips/Chester_20240713_HoldTrial108_TopView.avi and data.\n",
      "Loading  D:/YuLab/Work/GPS/Video/Chester/GPS_13_ThreeFPHoldSRTProbe/20240713/Top/Clips/Chester_20240713_HoldTrial109_TopView.avi and data.\n",
      "Loading  D:/YuLab/Work/GPS/Video/Chester/GPS_13_ThreeFPHoldSRTProbe/20240713/Top/Clips/Chester_20240713_HoldTrial110_TopView.avi and data.\n",
      "Loading  D:/YuLab/Work/GPS/Video/Chester/GPS_13_ThreeFPHoldSRTProbe/20240713/Top/Clips/Chester_20240713_HoldTrial111_TopView.avi and data.\n",
      "Loading  D:/YuLab/Work/GPS/Video/Chester/GPS_13_ThreeFPHoldSRTProbe/20240713/Top/Clips/Chester_20240713_HoldTrial112_TopView.avi and data.\n",
      "Loading  D:/YuLab/Work/GPS/Video/Chester/GPS_13_ThreeFPHoldSRTProbe/20240713/Top/Clips/Chester_20240713_HoldTrial113_TopView.avi and data.\n",
      "Loading  D:/YuLab/Work/GPS/Video/Chester/GPS_13_ThreeFPHoldSRTProbe/20240713/Top/Clips/Chester_20240713_HoldTrial114_TopView.avi and data.\n",
      "Loading  D:/YuLab/Work/GPS/Video/Chester/GPS_13_ThreeFPHoldSRTProbe/20240713/Top/Clips/Chester_20240713_HoldTrial115_TopView.avi and data.\n",
      "Loading  D:/YuLab/Work/GPS/Video/Chester/GPS_13_ThreeFPHoldSRTProbe/20240713/Top/Clips/Chester_20240713_HoldTrial117_TopView.avi and data.\n",
      "Loading  D:/YuLab/Work/GPS/Video/Chester/GPS_13_ThreeFPHoldSRTProbe/20240713/Top/Clips/Chester_20240713_HoldTrial118_TopView.avi and data.\n",
      "Loading  D:/YuLab/Work/GPS/Video/Chester/GPS_13_ThreeFPHoldSRTProbe/20240713/Top/Clips/Chester_20240713_HoldTrial119_TopView.avi and data.\n",
      "Loading  D:/YuLab/Work/GPS/Video/Chester/GPS_13_ThreeFPHoldSRTProbe/20240713/Top/Clips/Chester_20240713_HoldTrial120_TopView.avi and data.\n",
      "Loading  D:/YuLab/Work/GPS/Video/Chester/GPS_13_ThreeFPHoldSRTProbe/20240713/Top/Clips/Chester_20240713_HoldTrial121_TopView.avi and data.\n",
      "Loading  D:/YuLab/Work/GPS/Video/Chester/GPS_13_ThreeFPHoldSRTProbe/20240713/Top/Clips/Chester_20240713_HoldTrial122_TopView.avi and data.\n",
      "Loading  D:/YuLab/Work/GPS/Video/Chester/GPS_13_ThreeFPHoldSRTProbe/20240713/Top/Clips/Chester_20240713_HoldTrial123_TopView.avi and data.\n",
      "Loading  D:/YuLab/Work/GPS/Video/Chester/GPS_13_ThreeFPHoldSRTProbe/20240713/Top/Clips/Chester_20240713_HoldTrial124_TopView.avi and data.\n",
      "Loading  D:/YuLab/Work/GPS/Video/Chester/GPS_13_ThreeFPHoldSRTProbe/20240713/Top/Clips/Chester_20240713_HoldTrial125_TopView.avi and data.\n",
      "Loading  D:/YuLab/Work/GPS/Video/Chester/GPS_13_ThreeFPHoldSRTProbe/20240713/Top/Clips/Chester_20240713_HoldTrial126_TopView.avi and data.\n",
      "Loading  D:/YuLab/Work/GPS/Video/Chester/GPS_13_ThreeFPHoldSRTProbe/20240713/Top/Clips/Chester_20240713_HoldTrial127_TopView.avi and data.\n",
      "Loading  D:/YuLab/Work/GPS/Video/Chester/GPS_13_ThreeFPHoldSRTProbe/20240713/Top/Clips/Chester_20240713_HoldTrial128_TopView.avi and data.\n",
      "Loading  D:/YuLab/Work/GPS/Video/Chester/GPS_13_ThreeFPHoldSRTProbe/20240713/Top/Clips/Chester_20240713_HoldTrial129_TopView.avi and data.\n",
      "Loading  D:/YuLab/Work/GPS/Video/Chester/GPS_13_ThreeFPHoldSRTProbe/20240713/Top/Clips/Chester_20240713_HoldTrial130_TopView.avi and data.\n",
      "Loading  D:/YuLab/Work/GPS/Video/Chester/GPS_13_ThreeFPHoldSRTProbe/20240713/Top/Clips/Chester_20240713_HoldTrial131_TopView.avi and data.\n",
      "Loading  D:/YuLab/Work/GPS/Video/Chester/GPS_13_ThreeFPHoldSRTProbe/20240713/Top/Clips/Chester_20240713_HoldTrial132_TopView.avi and data.\n",
      "Loading  D:/YuLab/Work/GPS/Video/Chester/GPS_13_ThreeFPHoldSRTProbe/20240713/Top/Clips/Chester_20240713_HoldTrial133_TopView.avi and data.\n",
      "Loading  D:/YuLab/Work/GPS/Video/Chester/GPS_13_ThreeFPHoldSRTProbe/20240713/Top/Clips/Chester_20240713_HoldTrial134_TopView.avi and data.\n",
      "Loading  D:/YuLab/Work/GPS/Video/Chester/GPS_13_ThreeFPHoldSRTProbe/20240713/Top/Clips/Chester_20240713_HoldTrial135_TopView.avi and data.\n",
      "Loading  D:/YuLab/Work/GPS/Video/Chester/GPS_13_ThreeFPHoldSRTProbe/20240713/Top/Clips/Chester_20240713_HoldTrial136_TopView.avi and data.\n",
      "Loading  D:/YuLab/Work/GPS/Video/Chester/GPS_13_ThreeFPHoldSRTProbe/20240713/Top/Clips/Chester_20240713_HoldTrial137_TopView.avi and data.\n",
      "Loading  D:/YuLab/Work/GPS/Video/Chester/GPS_13_ThreeFPHoldSRTProbe/20240713/Top/Clips/Chester_20240713_HoldTrial138_TopView.avi and data.\n",
      "Loading  D:/YuLab/Work/GPS/Video/Chester/GPS_13_ThreeFPHoldSRTProbe/20240713/Top/Clips/Chester_20240713_HoldTrial139_TopView.avi and data.\n",
      "Loading  D:/YuLab/Work/GPS/Video/Chester/GPS_13_ThreeFPHoldSRTProbe/20240713/Top/Clips/Chester_20240713_HoldTrial140_TopView.avi and data.\n",
      "Loading  D:/YuLab/Work/GPS/Video/Chester/GPS_13_ThreeFPHoldSRTProbe/20240713/Top/Clips/Chester_20240713_HoldTrial141_TopView.avi and data.\n",
      "Loading  D:/YuLab/Work/GPS/Video/Chester/GPS_13_ThreeFPHoldSRTProbe/20240713/Top/Clips/Chester_20240713_HoldTrial142_TopView.avi and data.\n",
      "Loading  D:/YuLab/Work/GPS/Video/Chester/GPS_13_ThreeFPHoldSRTProbe/20240713/Top/Clips/Chester_20240713_HoldTrial143_TopView.avi and data.\n",
      "Loading  D:/YuLab/Work/GPS/Video/Chester/GPS_13_ThreeFPHoldSRTProbe/20240713/Top/Clips/Chester_20240713_HoldTrial144_TopView.avi and data.\n",
      "Loading  D:/YuLab/Work/GPS/Video/Chester/GPS_13_ThreeFPHoldSRTProbe/20240713/Top/Clips/Chester_20240713_HoldTrial145_TopView.avi and data.\n",
      "Loading  D:/YuLab/Work/GPS/Video/Chester/GPS_13_ThreeFPHoldSRTProbe/20240713/Top/Clips/Chester_20240713_HoldTrial146_TopView.avi and data.\n",
      "Loading  D:/YuLab/Work/GPS/Video/Chester/GPS_13_ThreeFPHoldSRTProbe/20240713/Top/Clips/Chester_20240713_HoldTrial147_TopView.avi and data.\n",
      "Loading  D:/YuLab/Work/GPS/Video/Chester/GPS_13_ThreeFPHoldSRTProbe/20240713/Top/Clips/Chester_20240713_HoldTrial148_TopView.avi and data.\n",
      "Loading  D:/YuLab/Work/GPS/Video/Chester/GPS_13_ThreeFPHoldSRTProbe/20240713/Top/Clips/Chester_20240713_HoldTrial149_TopView.avi and data.\n",
      "Loading  D:/YuLab/Work/GPS/Video/Chester/GPS_13_ThreeFPHoldSRTProbe/20240713/Top/Clips/Chester_20240713_HoldTrial150_TopView.avi and data.\n",
      "Loading  D:/YuLab/Work/GPS/Video/Chester/GPS_13_ThreeFPHoldSRTProbe/20240713/Top/Clips/Chester_20240713_HoldTrial151_TopView.avi and data.\n",
      "Loading  D:/YuLab/Work/GPS/Video/Chester/GPS_13_ThreeFPHoldSRTProbe/20240713/Top/Clips/Chester_20240713_HoldTrial152_TopView.avi and data.\n",
      "Loading  D:/YuLab/Work/GPS/Video/Chester/GPS_13_ThreeFPHoldSRTProbe/20240713/Top/Clips/Chester_20240713_HoldTrial153_TopView.avi and data.\n",
      "Loading  D:/YuLab/Work/GPS/Video/Chester/GPS_13_ThreeFPHoldSRTProbe/20240713/Top/Clips/Chester_20240713_HoldTrial154_TopView.avi and data.\n",
      "Loading  D:/YuLab/Work/GPS/Video/Chester/GPS_13_ThreeFPHoldSRTProbe/20240713/Top/Clips/Chester_20240713_HoldTrial155_TopView.avi and data.\n",
      "Loading  D:/YuLab/Work/GPS/Video/Chester/GPS_13_ThreeFPHoldSRTProbe/20240713/Top/Clips/Chester_20240713_HoldTrial156_TopView.avi and data.\n",
      "Loading  D:/YuLab/Work/GPS/Video/Chester/GPS_13_ThreeFPHoldSRTProbe/20240713/Top/Clips/Chester_20240713_HoldTrial157_TopView.avi and data.\n",
      "Loading  D:/YuLab/Work/GPS/Video/Chester/GPS_13_ThreeFPHoldSRTProbe/20240713/Top/Clips/Chester_20240713_HoldTrial158_TopView.avi and data.\n",
      "Loading  D:/YuLab/Work/GPS/Video/Chester/GPS_13_ThreeFPHoldSRTProbe/20240713/Top/Clips/Chester_20240713_HoldTrial159_TopView.avi and data.\n",
      "Loading  D:/YuLab/Work/GPS/Video/Chester/GPS_13_ThreeFPHoldSRTProbe/20240713/Top/Clips/Chester_20240713_HoldTrial160_TopView.avi and data.\n",
      "Loading  D:/YuLab/Work/GPS/Video/Chester/GPS_13_ThreeFPHoldSRTProbe/20240713/Top/Clips/Chester_20240713_HoldTrial161_TopView.avi and data.\n",
      "Loading  D:/YuLab/Work/GPS/Video/Chester/GPS_13_ThreeFPHoldSRTProbe/20240713/Top/Clips/Chester_20240713_HoldTrial162_TopView.avi and data.\n",
      "Loading  D:/YuLab/Work/GPS/Video/Chester/GPS_13_ThreeFPHoldSRTProbe/20240713/Top/Clips/Chester_20240713_HoldTrial163_TopView.avi and data.\n",
      "Loading  D:/YuLab/Work/GPS/Video/Chester/GPS_13_ThreeFPHoldSRTProbe/20240713/Top/Clips/Chester_20240713_HoldTrial164_TopView.avi and data.\n",
      "Loading  D:/YuLab/Work/GPS/Video/Chester/GPS_13_ThreeFPHoldSRTProbe/20240713/Top/Clips/Chester_20240713_HoldTrial165_TopView.avi and data.\n",
      "Loading  D:/YuLab/Work/GPS/Video/Chester/GPS_13_ThreeFPHoldSRTProbe/20240713/Top/Clips/Chester_20240713_HoldTrial166_TopView.avi and data.\n",
      "Loading  D:/YuLab/Work/GPS/Video/Chester/GPS_13_ThreeFPHoldSRTProbe/20240713/Top/Clips/Chester_20240713_HoldTrial167_TopView.avi and data.\n",
      "Loading  D:/YuLab/Work/GPS/Video/Chester/GPS_13_ThreeFPHoldSRTProbe/20240713/Top/Clips/Chester_20240713_HoldTrial168_TopView.avi and data.\n",
      "Loading  D:/YuLab/Work/GPS/Video/Chester/GPS_13_ThreeFPHoldSRTProbe/20240713/Top/Clips/Chester_20240713_HoldTrial169_TopView.avi and data.\n",
      "Loading  D:/YuLab/Work/GPS/Video/Chester/GPS_13_ThreeFPHoldSRTProbe/20240713/Top/Clips/Chester_20240713_HoldTrial170_TopView.avi and data.\n",
      "Loading  D:/YuLab/Work/GPS/Video/Chester/GPS_13_ThreeFPHoldSRTProbe/20240713/Top/Clips/Chester_20240713_HoldTrial171_TopView.avi and data.\n",
      "Loading  D:/YuLab/Work/GPS/Video/Chester/GPS_13_ThreeFPHoldSRTProbe/20240713/Top/Clips/Chester_20240713_HoldTrial172_TopView.avi and data.\n",
      "Loading  D:/YuLab/Work/GPS/Video/Chester/GPS_13_ThreeFPHoldSRTProbe/20240713/Top/Clips/Chester_20240713_HoldTrial173_TopView.avi and data.\n",
      "Loading  D:/YuLab/Work/GPS/Video/Chester/GPS_13_ThreeFPHoldSRTProbe/20240713/Top/Clips/Chester_20240713_HoldTrial174_TopView.avi and data.\n",
      "Loading  D:/YuLab/Work/GPS/Video/Chester/GPS_13_ThreeFPHoldSRTProbe/20240713/Top/Clips/Chester_20240713_HoldTrial175_TopView.avi and data.\n",
      "Loading  D:/YuLab/Work/GPS/Video/Chester/GPS_13_ThreeFPHoldSRTProbe/20240713/Top/Clips/Chester_20240713_HoldTrial176_TopView.avi and data.\n",
      "Loading  D:/YuLab/Work/GPS/Video/Chester/GPS_13_ThreeFPHoldSRTProbe/20240713/Top/Clips/Chester_20240713_HoldTrial177_TopView.avi and data.\n",
      "Loading  D:/YuLab/Work/GPS/Video/Chester/GPS_13_ThreeFPHoldSRTProbe/20240713/Top/Clips/Chester_20240713_HoldTrial178_TopView.avi and data.\n",
      "Loading  D:/YuLab/Work/GPS/Video/Chester/GPS_13_ThreeFPHoldSRTProbe/20240713/Top/Clips/Chester_20240713_HoldTrial179_TopView.avi and data.\n",
      "Loading  D:/YuLab/Work/GPS/Video/Chester/GPS_13_ThreeFPHoldSRTProbe/20240713/Top/Clips/Chester_20240713_HoldTrial180_TopView.avi and data.\n",
      "Loading  D:/YuLab/Work/GPS/Video/Chester/GPS_13_ThreeFPHoldSRTProbe/20240713/Top/Clips/Chester_20240713_HoldTrial181_TopView.avi and data.\n",
      "Loading  D:/YuLab/Work/GPS/Video/Chester/GPS_13_ThreeFPHoldSRTProbe/20240713/Top/Clips/Chester_20240713_HoldTrial182_TopView.avi and data.\n",
      "Loading  D:/YuLab/Work/GPS/Video/Chester/GPS_13_ThreeFPHoldSRTProbe/20240713/Top/Clips/Chester_20240713_HoldTrial183_TopView.avi and data.\n",
      "Loading  D:/YuLab/Work/GPS/Video/Chester/GPS_13_ThreeFPHoldSRTProbe/20240713/Top/Clips/Chester_20240713_HoldTrial184_TopView.avi and data.\n",
      "Loading  D:/YuLab/Work/GPS/Video/Chester/GPS_13_ThreeFPHoldSRTProbe/20240713/Top/Clips/Chester_20240713_HoldTrial185_TopView.avi and data.\n",
      "Loading  D:/YuLab/Work/GPS/Video/Chester/GPS_13_ThreeFPHoldSRTProbe/20240713/Top/Clips/Chester_20240713_HoldTrial186_TopView.avi and data.\n",
      "Loading  D:/YuLab/Work/GPS/Video/Chester/GPS_13_ThreeFPHoldSRTProbe/20240713/Top/Clips/Chester_20240713_HoldTrial187_TopView.avi and data.\n",
      "Loading  D:/YuLab/Work/GPS/Video/Chester/GPS_13_ThreeFPHoldSRTProbe/20240713/Top/Clips/Chester_20240713_HoldTrial188_TopView.avi and data.\n",
      "Loading  D:/YuLab/Work/GPS/Video/Chester/GPS_13_ThreeFPHoldSRTProbe/20240713/Top/Clips/Chester_20240713_HoldTrial189_TopView.avi and data.\n",
      "Loading  D:/YuLab/Work/GPS/Video/Chester/GPS_13_ThreeFPHoldSRTProbe/20240713/Top/Clips/Chester_20240713_HoldTrial190_TopView.avi and data.\n",
      "Loading  D:/YuLab/Work/GPS/Video/Chester/GPS_13_ThreeFPHoldSRTProbe/20240713/Top/Clips/Chester_20240713_HoldTrial191_TopView.avi and data.\n",
      "Loading  D:/YuLab/Work/GPS/Video/Chester/GPS_13_ThreeFPHoldSRTProbe/20240713/Top/Clips/Chester_20240713_HoldTrial192_TopView.avi and data.\n",
      "Loading  D:/YuLab/Work/GPS/Video/Chester/GPS_13_ThreeFPHoldSRTProbe/20240713/Top/Clips/Chester_20240713_HoldTrial193_TopView.avi and data.\n",
      "Loading  D:/YuLab/Work/GPS/Video/Chester/GPS_13_ThreeFPHoldSRTProbe/20240713/Top/Clips/Chester_20240713_HoldTrial194_TopView.avi and data.\n",
      "Loading  D:/YuLab/Work/GPS/Video/Chester/GPS_13_ThreeFPHoldSRTProbe/20240713/Top/Clips/Chester_20240713_HoldTrial195_TopView.avi and data.\n",
      "Loading  D:/YuLab/Work/GPS/Video/Chester/GPS_13_ThreeFPHoldSRTProbe/20240713/Top/Clips/Chester_20240713_HoldTrial196_TopView.avi and data.\n",
      "Loading  D:/YuLab/Work/GPS/Video/Chester/GPS_13_ThreeFPHoldSRTProbe/20240713/Top/Clips/Chester_20240713_HoldTrial197_TopView.avi and data.\n",
      "Loading  D:/YuLab/Work/GPS/Video/Chester/GPS_13_ThreeFPHoldSRTProbe/20240713/Top/Clips/Chester_20240713_HoldTrial198_TopView.avi and data.\n",
      "Loading  D:/YuLab/Work/GPS/Video/Chester/GPS_13_ThreeFPHoldSRTProbe/20240713/Top/Clips/Chester_20240713_HoldTrial199_TopView.avi and data.\n",
      "Loading  D:/YuLab/Work/GPS/Video/Chester/GPS_13_ThreeFPHoldSRTProbe/20240713/Top/Clips/Chester_20240713_HoldTrial200_TopView.avi and data.\n",
      "Loading  D:/YuLab/Work/GPS/Video/Chester/GPS_13_ThreeFPHoldSRTProbe/20240713/Top/Clips/Chester_20240713_HoldTrial201_TopView.avi and data.\n",
      "Loading  D:/YuLab/Work/GPS/Video/Chester/GPS_13_ThreeFPHoldSRTProbe/20240713/Top/Clips/Chester_20240713_HoldTrial202_TopView.avi and data.\n",
      "Loading  D:/YuLab/Work/GPS/Video/Chester/GPS_13_ThreeFPHoldSRTProbe/20240713/Top/Clips/Chester_20240713_HoldTrial203_TopView.avi and data.\n",
      "Loading  D:/YuLab/Work/GPS/Video/Chester/GPS_13_ThreeFPHoldSRTProbe/20240713/Top/Clips/Chester_20240713_HoldTrial204_TopView.avi and data.\n",
      "Loading  D:/YuLab/Work/GPS/Video/Chester/GPS_13_ThreeFPHoldSRTProbe/20240713/Top/Clips/Chester_20240713_HoldTrial205_TopView.avi and data.\n",
      "Loading  D:/YuLab/Work/GPS/Video/Chester/GPS_13_ThreeFPHoldSRTProbe/20240713/Top/Clips/Chester_20240713_HoldTrial206_TopView.avi and data.\n",
      "Loading  D:/YuLab/Work/GPS/Video/Chester/GPS_13_ThreeFPHoldSRTProbe/20240713/Top/Clips/Chester_20240713_HoldTrial207_TopView.avi and data.\n",
      "Loading  D:/YuLab/Work/GPS/Video/Chester/GPS_13_ThreeFPHoldSRTProbe/20240713/Top/Clips/Chester_20240713_HoldTrial208_TopView.avi and data.\n",
      "Loading  D:/YuLab/Work/GPS/Video/Chester/GPS_13_ThreeFPHoldSRTProbe/20240713/Top/Clips/Chester_20240713_HoldTrial209_TopView.avi and data.\n",
      "Loading  D:/YuLab/Work/GPS/Video/Chester/GPS_13_ThreeFPHoldSRTProbe/20240713/Top/Clips/Chester_20240713_HoldTrial210_TopView.avi and data.\n",
      "Loading  D:/YuLab/Work/GPS/Video/Chester/GPS_13_ThreeFPHoldSRTProbe/20240713/Top/Clips/Chester_20240713_HoldTrial211_TopView.avi and data.\n",
      "Loading  D:/YuLab/Work/GPS/Video/Chester/GPS_13_ThreeFPHoldSRTProbe/20240713/Top/Clips/Chester_20240713_HoldTrial212_TopView.avi and data.\n",
      "Loading  D:/YuLab/Work/GPS/Video/Chester/GPS_13_ThreeFPHoldSRTProbe/20240713/Top/Clips/Chester_20240713_HoldTrial213_TopView.avi and data.\n",
      "Loading  D:/YuLab/Work/GPS/Video/Chester/GPS_13_ThreeFPHoldSRTProbe/20240713/Top/Clips/Chester_20240713_HoldTrial214_TopView.avi and data.\n",
      "Loading  D:/YuLab/Work/GPS/Video/Chester/GPS_13_ThreeFPHoldSRTProbe/20240713/Top/Clips/Chester_20240713_HoldTrial215_TopView.avi and data.\n",
      "Loading  D:/YuLab/Work/GPS/Video/Chester/GPS_13_ThreeFPHoldSRTProbe/20240713/Top/Clips/Chester_20240713_HoldTrial216_TopView.avi and data.\n",
      "Loading  D:/YuLab/Work/GPS/Video/Chester/GPS_13_ThreeFPHoldSRTProbe/20240725/Top/Clips/Chester_20240725_HoldTrial001_TopView.avi and data.\n",
      "Loading  D:/YuLab/Work/GPS/Video/Chester/GPS_13_ThreeFPHoldSRTProbe/20240725/Top/Clips/Chester_20240725_HoldTrial002_TopView.avi and data.\n",
      "Loading  D:/YuLab/Work/GPS/Video/Chester/GPS_13_ThreeFPHoldSRTProbe/20240725/Top/Clips/Chester_20240725_HoldTrial003_TopView.avi and data.\n",
      "Loading  D:/YuLab/Work/GPS/Video/Chester/GPS_13_ThreeFPHoldSRTProbe/20240725/Top/Clips/Chester_20240725_HoldTrial004_TopView.avi and data.\n",
      "Loading  D:/YuLab/Work/GPS/Video/Chester/GPS_13_ThreeFPHoldSRTProbe/20240725/Top/Clips/Chester_20240725_HoldTrial005_TopView.avi and data.\n",
      "Loading  D:/YuLab/Work/GPS/Video/Chester/GPS_13_ThreeFPHoldSRTProbe/20240725/Top/Clips/Chester_20240725_HoldTrial006_TopView.avi and data.\n",
      "Loading  D:/YuLab/Work/GPS/Video/Chester/GPS_13_ThreeFPHoldSRTProbe/20240725/Top/Clips/Chester_20240725_HoldTrial007_TopView.avi and data.\n",
      "Loading  D:/YuLab/Work/GPS/Video/Chester/GPS_13_ThreeFPHoldSRTProbe/20240725/Top/Clips/Chester_20240725_HoldTrial008_TopView.avi and data.\n",
      "Loading  D:/YuLab/Work/GPS/Video/Chester/GPS_13_ThreeFPHoldSRTProbe/20240725/Top/Clips/Chester_20240725_HoldTrial009_TopView.avi and data.\n",
      "Loading  D:/YuLab/Work/GPS/Video/Chester/GPS_13_ThreeFPHoldSRTProbe/20240725/Top/Clips/Chester_20240725_HoldTrial010_TopView.avi and data.\n",
      "Loading  D:/YuLab/Work/GPS/Video/Chester/GPS_13_ThreeFPHoldSRTProbe/20240725/Top/Clips/Chester_20240725_HoldTrial011_TopView.avi and data.\n",
      "Loading  D:/YuLab/Work/GPS/Video/Chester/GPS_13_ThreeFPHoldSRTProbe/20240725/Top/Clips/Chester_20240725_HoldTrial012_TopView.avi and data.\n",
      "Loading  D:/YuLab/Work/GPS/Video/Chester/GPS_13_ThreeFPHoldSRTProbe/20240725/Top/Clips/Chester_20240725_HoldTrial013_TopView.avi and data.\n",
      "Loading  D:/YuLab/Work/GPS/Video/Chester/GPS_13_ThreeFPHoldSRTProbe/20240725/Top/Clips/Chester_20240725_HoldTrial014_TopView.avi and data.\n",
      "Loading  D:/YuLab/Work/GPS/Video/Chester/GPS_13_ThreeFPHoldSRTProbe/20240725/Top/Clips/Chester_20240725_HoldTrial015_TopView.avi and data.\n",
      "Loading  D:/YuLab/Work/GPS/Video/Chester/GPS_13_ThreeFPHoldSRTProbe/20240725/Top/Clips/Chester_20240725_HoldTrial016_TopView.avi and data.\n",
      "Loading  D:/YuLab/Work/GPS/Video/Chester/GPS_13_ThreeFPHoldSRTProbe/20240725/Top/Clips/Chester_20240725_HoldTrial017_TopView.avi and data.\n",
      "Loading  D:/YuLab/Work/GPS/Video/Chester/GPS_13_ThreeFPHoldSRTProbe/20240725/Top/Clips/Chester_20240725_HoldTrial018_TopView.avi and data.\n",
      "Loading  D:/YuLab/Work/GPS/Video/Chester/GPS_13_ThreeFPHoldSRTProbe/20240725/Top/Clips/Chester_20240725_HoldTrial019_TopView.avi and data.\n",
      "Loading  D:/YuLab/Work/GPS/Video/Chester/GPS_13_ThreeFPHoldSRTProbe/20240725/Top/Clips/Chester_20240725_HoldTrial020_TopView.avi and data.\n",
      "Loading  D:/YuLab/Work/GPS/Video/Chester/GPS_13_ThreeFPHoldSRTProbe/20240725/Top/Clips/Chester_20240725_HoldTrial021_TopView.avi and data.\n",
      "Loading  D:/YuLab/Work/GPS/Video/Chester/GPS_13_ThreeFPHoldSRTProbe/20240725/Top/Clips/Chester_20240725_HoldTrial022_TopView.avi and data.\n",
      "Loading  D:/YuLab/Work/GPS/Video/Chester/GPS_13_ThreeFPHoldSRTProbe/20240725/Top/Clips/Chester_20240725_HoldTrial023_TopView.avi and data.\n",
      "Loading  D:/YuLab/Work/GPS/Video/Chester/GPS_13_ThreeFPHoldSRTProbe/20240725/Top/Clips/Chester_20240725_HoldTrial024_TopView.avi and data.\n",
      "Loading  D:/YuLab/Work/GPS/Video/Chester/GPS_13_ThreeFPHoldSRTProbe/20240725/Top/Clips/Chester_20240725_HoldTrial025_TopView.avi and data.\n",
      "Loading  D:/YuLab/Work/GPS/Video/Chester/GPS_13_ThreeFPHoldSRTProbe/20240725/Top/Clips/Chester_20240725_HoldTrial026_TopView.avi and data.\n",
      "Loading  D:/YuLab/Work/GPS/Video/Chester/GPS_13_ThreeFPHoldSRTProbe/20240725/Top/Clips/Chester_20240725_HoldTrial028_TopView.avi and data.\n",
      "Loading  D:/YuLab/Work/GPS/Video/Chester/GPS_13_ThreeFPHoldSRTProbe/20240725/Top/Clips/Chester_20240725_HoldTrial029_TopView.avi and data.\n",
      "Loading  D:/YuLab/Work/GPS/Video/Chester/GPS_13_ThreeFPHoldSRTProbe/20240725/Top/Clips/Chester_20240725_HoldTrial030_TopView.avi and data.\n",
      "Loading  D:/YuLab/Work/GPS/Video/Chester/GPS_13_ThreeFPHoldSRTProbe/20240725/Top/Clips/Chester_20240725_HoldTrial031_TopView.avi and data.\n",
      "Loading  D:/YuLab/Work/GPS/Video/Chester/GPS_13_ThreeFPHoldSRTProbe/20240725/Top/Clips/Chester_20240725_HoldTrial032_TopView.avi and data.\n",
      "Loading  D:/YuLab/Work/GPS/Video/Chester/GPS_13_ThreeFPHoldSRTProbe/20240725/Top/Clips/Chester_20240725_HoldTrial033_TopView.avi and data.\n",
      "Loading  D:/YuLab/Work/GPS/Video/Chester/GPS_13_ThreeFPHoldSRTProbe/20240725/Top/Clips/Chester_20240725_HoldTrial034_TopView.avi and data.\n",
      "Loading  D:/YuLab/Work/GPS/Video/Chester/GPS_13_ThreeFPHoldSRTProbe/20240725/Top/Clips/Chester_20240725_HoldTrial035_TopView.avi and data.\n",
      "Loading  D:/YuLab/Work/GPS/Video/Chester/GPS_13_ThreeFPHoldSRTProbe/20240725/Top/Clips/Chester_20240725_HoldTrial036_TopView.avi and data.\n",
      "Loading  D:/YuLab/Work/GPS/Video/Chester/GPS_13_ThreeFPHoldSRTProbe/20240725/Top/Clips/Chester_20240725_HoldTrial037_TopView.avi and data.\n",
      "Loading  D:/YuLab/Work/GPS/Video/Chester/GPS_13_ThreeFPHoldSRTProbe/20240725/Top/Clips/Chester_20240725_HoldTrial038_TopView.avi and data.\n",
      "Loading  D:/YuLab/Work/GPS/Video/Chester/GPS_13_ThreeFPHoldSRTProbe/20240725/Top/Clips/Chester_20240725_HoldTrial039_TopView.avi and data.\n",
      "Loading  D:/YuLab/Work/GPS/Video/Chester/GPS_13_ThreeFPHoldSRTProbe/20240725/Top/Clips/Chester_20240725_HoldTrial040_TopView.avi and data.\n",
      "Loading  D:/YuLab/Work/GPS/Video/Chester/GPS_13_ThreeFPHoldSRTProbe/20240725/Top/Clips/Chester_20240725_HoldTrial041_TopView.avi and data.\n",
      "Loading  D:/YuLab/Work/GPS/Video/Chester/GPS_13_ThreeFPHoldSRTProbe/20240725/Top/Clips/Chester_20240725_HoldTrial042_TopView.avi and data.\n",
      "Loading  D:/YuLab/Work/GPS/Video/Chester/GPS_13_ThreeFPHoldSRTProbe/20240725/Top/Clips/Chester_20240725_HoldTrial043_TopView.avi and data.\n",
      "Loading  D:/YuLab/Work/GPS/Video/Chester/GPS_13_ThreeFPHoldSRTProbe/20240725/Top/Clips/Chester_20240725_HoldTrial044_TopView.avi and data.\n",
      "Loading  D:/YuLab/Work/GPS/Video/Chester/GPS_13_ThreeFPHoldSRTProbe/20240725/Top/Clips/Chester_20240725_HoldTrial045_TopView.avi and data.\n",
      "Loading  D:/YuLab/Work/GPS/Video/Chester/GPS_13_ThreeFPHoldSRTProbe/20240725/Top/Clips/Chester_20240725_HoldTrial046_TopView.avi and data.\n",
      "Loading  D:/YuLab/Work/GPS/Video/Chester/GPS_13_ThreeFPHoldSRTProbe/20240725/Top/Clips/Chester_20240725_HoldTrial047_TopView.avi and data.\n",
      "Loading  D:/YuLab/Work/GPS/Video/Chester/GPS_13_ThreeFPHoldSRTProbe/20240725/Top/Clips/Chester_20240725_HoldTrial048_TopView.avi and data.\n",
      "Loading  D:/YuLab/Work/GPS/Video/Chester/GPS_13_ThreeFPHoldSRTProbe/20240725/Top/Clips/Chester_20240725_HoldTrial049_TopView.avi and data.\n",
      "Loading  D:/YuLab/Work/GPS/Video/Chester/GPS_13_ThreeFPHoldSRTProbe/20240725/Top/Clips/Chester_20240725_HoldTrial050_TopView.avi and data.\n",
      "Loading  D:/YuLab/Work/GPS/Video/Chester/GPS_13_ThreeFPHoldSRTProbe/20240725/Top/Clips/Chester_20240725_HoldTrial051_TopView.avi and data.\n",
      "Loading  D:/YuLab/Work/GPS/Video/Chester/GPS_13_ThreeFPHoldSRTProbe/20240725/Top/Clips/Chester_20240725_HoldTrial052_TopView.avi and data.\n",
      "Loading  D:/YuLab/Work/GPS/Video/Chester/GPS_13_ThreeFPHoldSRTProbe/20240725/Top/Clips/Chester_20240725_HoldTrial053_TopView.avi and data.\n",
      "Loading  D:/YuLab/Work/GPS/Video/Chester/GPS_13_ThreeFPHoldSRTProbe/20240726/Top/Clips/Chester_20240726_HoldTrial020_TopView.avi and data.\n",
      "Loading  D:/YuLab/Work/GPS/Video/Chester/GPS_13_ThreeFPHoldSRTProbe/20240726/Top/Clips/Chester_20240726_HoldTrial021_TopView.avi and data.\n",
      "Loading  D:/YuLab/Work/GPS/Video/Chester/GPS_13_ThreeFPHoldSRTProbe/20240726/Top/Clips/Chester_20240726_HoldTrial022_TopView.avi and data.\n",
      "Loading  D:/YuLab/Work/GPS/Video/Chester/GPS_13_ThreeFPHoldSRTProbe/20240726/Top/Clips/Chester_20240726_HoldTrial023_TopView.avi and data.\n",
      "Loading  D:/YuLab/Work/GPS/Video/Chester/GPS_13_ThreeFPHoldSRTProbe/20240726/Top/Clips/Chester_20240726_HoldTrial024_TopView.avi and data.\n",
      "Loading  D:/YuLab/Work/GPS/Video/Chester/GPS_13_ThreeFPHoldSRTProbe/20240726/Top/Clips/Chester_20240726_HoldTrial025_TopView.avi and data.\n",
      "Loading  D:/YuLab/Work/GPS/Video/Chester/GPS_13_ThreeFPHoldSRTProbe/20240726/Top/Clips/Chester_20240726_HoldTrial026_TopView.avi and data.\n",
      "Loading  D:/YuLab/Work/GPS/Video/Chester/GPS_13_ThreeFPHoldSRTProbe/20240726/Top/Clips/Chester_20240726_HoldTrial027_TopView.avi and data.\n",
      "Loading  D:/YuLab/Work/GPS/Video/Chester/GPS_13_ThreeFPHoldSRTProbe/20240726/Top/Clips/Chester_20240726_HoldTrial028_TopView.avi and data.\n",
      "Loading  D:/YuLab/Work/GPS/Video/Chester/GPS_13_ThreeFPHoldSRTProbe/20240726/Top/Clips/Chester_20240726_HoldTrial029_TopView.avi and data.\n",
      "Loading  D:/YuLab/Work/GPS/Video/Chester/GPS_13_ThreeFPHoldSRTProbe/20240726/Top/Clips/Chester_20240726_HoldTrial030_TopView.avi and data.\n",
      "Loading  D:/YuLab/Work/GPS/Video/Chester/GPS_13_ThreeFPHoldSRTProbe/20240726/Top/Clips/Chester_20240726_HoldTrial031_TopView.avi and data.\n",
      "Loading  D:/YuLab/Work/GPS/Video/Chester/GPS_13_ThreeFPHoldSRTProbe/20240726/Top/Clips/Chester_20240726_HoldTrial032_TopView.avi and data.\n",
      "Loading  D:/YuLab/Work/GPS/Video/Chester/GPS_13_ThreeFPHoldSRTProbe/20240726/Top/Clips/Chester_20240726_HoldTrial033_TopView.avi and data.\n",
      "Loading  D:/YuLab/Work/GPS/Video/Chester/GPS_13_ThreeFPHoldSRTProbe/20240726/Top/Clips/Chester_20240726_HoldTrial034_TopView.avi and data.\n",
      "Loading  D:/YuLab/Work/GPS/Video/Chester/GPS_13_ThreeFPHoldSRTProbe/20240726/Top/Clips/Chester_20240726_HoldTrial035_TopView.avi and data.\n",
      "Loading  D:/YuLab/Work/GPS/Video/Chester/GPS_13_ThreeFPHoldSRTProbe/20240726/Top/Clips/Chester_20240726_HoldTrial036_TopView.avi and data.\n",
      "Loading  D:/YuLab/Work/GPS/Video/Chester/GPS_13_ThreeFPHoldSRTProbe/20240726/Top/Clips/Chester_20240726_HoldTrial037_TopView.avi and data.\n",
      "Loading  D:/YuLab/Work/GPS/Video/Chester/GPS_13_ThreeFPHoldSRTProbe/20240823/Top/Clips/Chester_20240823_HoldTrial056_TopView.avi and data.\n",
      "Loading  D:/YuLab/Work/GPS/Video/Chester/GPS_13_ThreeFPHoldSRTProbe/20240823/Top/Clips/Chester_20240823_HoldTrial057_TopView.avi and data.\n",
      "Loading  D:/YuLab/Work/GPS/Video/Chester/GPS_13_ThreeFPHoldSRTProbe/20240823/Top/Clips/Chester_20240823_HoldTrial058_TopView.avi and data.\n",
      "Loading  D:/YuLab/Work/GPS/Video/Chester/GPS_13_ThreeFPHoldSRTProbe/20240823/Top/Clips/Chester_20240823_HoldTrial059_TopView.avi and data.\n",
      "Loading  D:/YuLab/Work/GPS/Video/Chester/GPS_13_ThreeFPHoldSRTProbe/20240823/Top/Clips/Chester_20240823_HoldTrial060_TopView.avi and data.\n",
      "Loading  D:/YuLab/Work/GPS/Video/Chester/GPS_13_ThreeFPHoldSRTProbe/20240823/Top/Clips/Chester_20240823_HoldTrial061_TopView.avi and data.\n",
      "Loading  D:/YuLab/Work/GPS/Video/Chester/GPS_13_ThreeFPHoldSRTProbe/20240823/Top/Clips/Chester_20240823_HoldTrial062_TopView.avi and data.\n",
      "Loading  D:/YuLab/Work/GPS/Video/Chester/GPS_13_ThreeFPHoldSRTProbe/20240823/Top/Clips/Chester_20240823_HoldTrial063_TopView.avi and data.\n",
      "Loading  D:/YuLab/Work/GPS/Video/Chester/GPS_13_ThreeFPHoldSRTProbe/20240823/Top/Clips/Chester_20240823_HoldTrial064_TopView.avi and data.\n",
      "Loading  D:/YuLab/Work/GPS/Video/Chester/GPS_13_ThreeFPHoldSRTProbe/20240823/Top/Clips/Chester_20240823_HoldTrial065_TopView.avi and data.\n",
      "Loading  D:/YuLab/Work/GPS/Video/Chester/GPS_13_ThreeFPHoldSRTProbe/20240823/Top/Clips/Chester_20240823_HoldTrial066_TopView.avi and data.\n",
      "Loading  D:/YuLab/Work/GPS/Video/Chester/GPS_13_ThreeFPHoldSRTProbe/20240823/Top/Clips/Chester_20240823_HoldTrial067_TopView.avi and data.\n",
      "Loading  D:/YuLab/Work/GPS/Video/Chester/GPS_13_ThreeFPHoldSRTProbe/20240823/Top/Clips/Chester_20240823_HoldTrial068_TopView.avi and data.\n",
      "Loading  D:/YuLab/Work/GPS/Video/Chester/GPS_13_ThreeFPHoldSRTProbe/20240823/Top/Clips/Chester_20240823_HoldTrial069_TopView.avi and data.\n",
      "Loading  D:/YuLab/Work/GPS/Video/Chester/GPS_13_ThreeFPHoldSRTProbe/20240823/Top/Clips/Chester_20240823_HoldTrial070_TopView.avi and data.\n",
      "Loading  D:/YuLab/Work/GPS/Video/Chester/GPS_13_ThreeFPHoldSRTProbe/20240823/Top/Clips/Chester_20240823_HoldTrial071_TopView.avi and data.\n",
      "Loading  D:/YuLab/Work/GPS/Video/Chester/GPS_13_ThreeFPHoldSRTProbe/20240823/Top/Clips/Chester_20240823_HoldTrial072_TopView.avi and data.\n",
      "Loading  D:/YuLab/Work/GPS/Video/Chester/GPS_13_ThreeFPHoldSRTProbe/20240823/Top/Clips/Chester_20240823_HoldTrial073_TopView.avi and data.\n",
      "Loading  D:/YuLab/Work/GPS/Video/Chester/GPS_13_ThreeFPHoldSRTProbe/20240823/Top/Clips/Chester_20240823_HoldTrial074_TopView.avi and data.\n",
      "Loading  D:/YuLab/Work/GPS/Video/Chester/GPS_13_ThreeFPHoldSRTProbe/20240823/Top/Clips/Chester_20240823_HoldTrial075_TopView.avi and data.\n",
      "Loading  D:/YuLab/Work/GPS/Video/Chester/GPS_13_ThreeFPHoldSRTProbe/20240823/Top/Clips/Chester_20240823_HoldTrial076_TopView.avi and data.\n",
      "Loading  D:/YuLab/Work/GPS/Video/Chester/GPS_13_ThreeFPHoldSRTProbe/20240823/Top/Clips/Chester_20240823_HoldTrial077_TopView.avi and data.\n",
      "Loading  D:/YuLab/Work/GPS/Video/Chester/GPS_13_ThreeFPHoldSRTProbe/20240823/Top/Clips/Chester_20240823_HoldTrial078_TopView.avi and data.\n",
      "Loading  D:/YuLab/Work/GPS/Video/Chester/GPS_13_ThreeFPHoldSRTProbe/20240823/Top/Clips/Chester_20240823_HoldTrial079_TopView.avi and data.\n",
      "Loading  D:/YuLab/Work/GPS/Video/Chester/GPS_13_ThreeFPHoldSRTProbe/20240823/Top/Clips/Chester_20240823_HoldTrial080_TopView.avi and data.\n",
      "Loading  D:/YuLab/Work/GPS/Video/Chester/GPS_13_ThreeFPHoldSRTProbe/20240823/Top/Clips/Chester_20240823_HoldTrial081_TopView.avi and data.\n",
      "Loading  D:/YuLab/Work/GPS/Video/Chester/GPS_13_ThreeFPHoldSRTProbe/20240823/Top/Clips/Chester_20240823_HoldTrial082_TopView.avi and data.\n",
      "Loading  D:/YuLab/Work/GPS/Video/Chester/GPS_13_ThreeFPHoldSRTProbe/20240823/Top/Clips/Chester_20240823_HoldTrial083_TopView.avi and data.\n",
      "Loading  D:/YuLab/Work/GPS/Video/Chester/GPS_13_ThreeFPHoldSRTProbe/20240823/Top/Clips/Chester_20240823_HoldTrial084_TopView.avi and data.\n",
      "Loading  D:/YuLab/Work/GPS/Video/Chester/GPS_13_ThreeFPHoldSRTProbe/20240823/Top/Clips/Chester_20240823_HoldTrial085_TopView.avi and data.\n",
      "Loading  D:/YuLab/Work/GPS/Video/Chester/GPS_13_ThreeFPHoldSRTProbe/20240823/Top/Clips/Chester_20240823_HoldTrial086_TopView.avi and data.\n",
      "Loading  D:/YuLab/Work/GPS/Video/Chester/GPS_13_ThreeFPHoldSRTProbe/20240823/Top/Clips/Chester_20240823_HoldTrial087_TopView.avi and data.\n",
      "Loading  D:/YuLab/Work/GPS/Video/Chester/GPS_13_ThreeFPHoldSRTProbe/20240823/Top/Clips/Chester_20240823_HoldTrial088_TopView.avi and data.\n",
      "Loading  D:/YuLab/Work/GPS/Video/Chester/GPS_13_ThreeFPHoldSRTProbe/20240823/Top/Clips/Chester_20240823_HoldTrial089_TopView.avi and data.\n",
      "Loading  D:/YuLab/Work/GPS/Video/Chester/GPS_13_ThreeFPHoldSRTProbe/20240823/Top/Clips/Chester_20240823_HoldTrial090_TopView.avi and data.\n",
      "Loading  D:/YuLab/Work/GPS/Video/Chester/GPS_13_ThreeFPHoldSRTProbe/20240823/Top/Clips/Chester_20240823_HoldTrial091_TopView.avi and data.\n",
      "Loading  D:/YuLab/Work/GPS/Video/Chester/GPS_13_ThreeFPHoldSRTProbe/20240823/Top/Clips/Chester_20240823_HoldTrial092_TopView.avi and data.\n",
      "Loading  D:/YuLab/Work/GPS/Video/Chester/GPS_13_ThreeFPHoldSRTProbe/20240823/Top/Clips/Chester_20240823_HoldTrial093_TopView.avi and data.\n",
      "Loading  D:/YuLab/Work/GPS/Video/Chester/GPS_13_ThreeFPHoldSRTProbe/20240823/Top/Clips/Chester_20240823_HoldTrial094_TopView.avi and data.\n",
      "Loading  D:/YuLab/Work/GPS/Video/Chester/GPS_13_ThreeFPHoldSRTProbe/20240823/Top/Clips/Chester_20240823_HoldTrial095_TopView.avi and data.\n",
      "Loading  D:/YuLab/Work/GPS/Video/Chester/GPS_13_ThreeFPHoldSRTProbe/20240823/Top/Clips/Chester_20240823_HoldTrial096_TopView.avi and data.\n",
      "Loading  D:/YuLab/Work/GPS/Video/Chester/GPS_13_ThreeFPHoldSRTProbe/20240823/Top/Clips/Chester_20240823_HoldTrial097_TopView.avi and data.\n",
      "Loading  D:/YuLab/Work/GPS/Video/Chester/GPS_13_ThreeFPHoldSRTProbe/20240823/Top/Clips/Chester_20240823_HoldTrial098_TopView.avi and data.\n",
      "Loading  D:/YuLab/Work/GPS/Video/Chester/GPS_13_ThreeFPHoldSRTProbe/20240823/Top/Clips/Chester_20240823_HoldTrial099_TopView.avi and data.\n",
      "Loading  D:/YuLab/Work/GPS/Video/Chester/GPS_13_ThreeFPHoldSRTProbe/20240823/Top/Clips/Chester_20240823_HoldTrial100_TopView.avi and data.\n",
      "Loading  D:/YuLab/Work/GPS/Video/Chester/GPS_13_ThreeFPHoldSRTProbe/20240823/Top/Clips/Chester_20240823_HoldTrial101_TopView.avi and data.\n",
      "Loading  D:/YuLab/Work/GPS/Video/Chester/GPS_13_ThreeFPHoldSRTProbe/20240823/Top/Clips/Chester_20240823_HoldTrial102_TopView.avi and data.\n",
      "Loading  D:/YuLab/Work/GPS/Video/Chester/GPS_13_ThreeFPHoldSRTProbe/20240823/Top/Clips/Chester_20240823_HoldTrial103_TopView.avi and data.\n",
      "Loading  D:/YuLab/Work/GPS/Video/Chester/GPS_13_ThreeFPHoldSRTProbe/20240823/Top/Clips/Chester_20240823_HoldTrial104_TopView.avi and data.\n",
      "Loading  D:/YuLab/Work/GPS/Video/Chester/GPS_13_ThreeFPHoldSRTProbe/20240823/Top/Clips/Chester_20240823_HoldTrial105_TopView.avi and data.\n",
      "Loading  D:/YuLab/Work/GPS/Video/Chester/GPS_13_ThreeFPHoldSRTProbe/20240823/Top/Clips/Chester_20240823_HoldTrial106_TopView.avi and data.\n",
      "Loading  D:/YuLab/Work/GPS/Video/Chester/GPS_13_ThreeFPHoldSRTProbe/20240823/Top/Clips/Chester_20240823_HoldTrial107_TopView.avi and data.\n",
      "Loading  D:/YuLab/Work/GPS/Video/Chester/GPS_13_ThreeFPHoldSRTProbe/20240823/Top/Clips/Chester_20240823_HoldTrial108_TopView.avi and data.\n",
      "Loading  D:/YuLab/Work/GPS/Video/Chester/GPS_13_ThreeFPHoldSRTProbe/20240823/Top/Clips/Chester_20240823_HoldTrial109_TopView.avi and data.\n",
      "Loading  D:/YuLab/Work/GPS/Video/Chester/GPS_13_ThreeFPHoldSRTProbe/20240823/Top/Clips/Chester_20240823_HoldTrial110_TopView.avi and data.\n",
      "Loading  D:/YuLab/Work/GPS/Video/Chester/GPS_13_ThreeFPHoldSRTProbe/20240823/Top/Clips/Chester_20240823_HoldTrial111_TopView.avi and data.\n",
      "Loading  D:/YuLab/Work/GPS/Video/Chester/GPS_13_ThreeFPHoldSRTProbe/20240823/Top/Clips/Chester_20240823_HoldTrial112_TopView.avi and data.\n",
      "Loading  D:/YuLab/Work/GPS/Video/Chester/GPS_13_ThreeFPHoldSRTProbe/20240823/Top/Clips/Chester_20240823_HoldTrial113_TopView.avi and data.\n",
      "Loading  D:/YuLab/Work/GPS/Video/Chester/GPS_13_ThreeFPHoldSRTProbe/20240823/Top/Clips/Chester_20240823_HoldTrial114_TopView.avi and data.\n",
      "Loading  D:/YuLab/Work/GPS/Video/Chester/GPS_13_ThreeFPHoldSRTProbe/20240823/Top/Clips/Chester_20240823_HoldTrial115_TopView.avi and data.\n",
      "Loading  D:/YuLab/Work/GPS/Video/Chester/GPS_13_ThreeFPHoldSRTProbe/20240823/Top/Clips/Chester_20240823_HoldTrial116_TopView.avi and data.\n",
      "Loading  D:/YuLab/Work/GPS/Video/Chester/GPS_13_ThreeFPHoldSRTProbe/20240823/Top/Clips/Chester_20240823_HoldTrial117_TopView.avi and data.\n",
      "Loading  D:/YuLab/Work/GPS/Video/Chester/GPS_13_ThreeFPHoldSRTProbe/20240823/Top/Clips/Chester_20240823_HoldTrial118_TopView.avi and data.\n",
      "Loading  D:/YuLab/Work/GPS/Video/Chester/GPS_13_ThreeFPHoldSRTProbe/20240823/Top/Clips/Chester_20240823_HoldTrial119_TopView.avi and data.\n",
      "Loading  D:/YuLab/Work/GPS/Video/Chester/GPS_13_ThreeFPHoldSRTProbe/20240823/Top/Clips/Chester_20240823_HoldTrial120_TopView.avi and data.\n",
      "Loading  D:/YuLab/Work/GPS/Video/Chester/GPS_13_ThreeFPHoldSRTProbe/20240823/Top/Clips/Chester_20240823_HoldTrial121_TopView.avi and data.\n",
      "Loading  D:/YuLab/Work/GPS/Video/Chester/GPS_13_ThreeFPHoldSRTProbe/20240823/Top/Clips/Chester_20240823_HoldTrial122_TopView.avi and data.\n",
      "Loading  D:/YuLab/Work/GPS/Video/Chester/GPS_13_ThreeFPHoldSRTProbe/20240823/Top/Clips/Chester_20240823_HoldTrial123_TopView.avi and data.\n",
      "Loading  D:/YuLab/Work/GPS/Video/Chester/GPS_13_ThreeFPHoldSRTProbe/20240823/Top/Clips/Chester_20240823_HoldTrial124_TopView.avi and data.\n",
      "Loading  D:/YuLab/Work/GPS/Video/Chester/GPS_13_ThreeFPHoldSRTProbe/20240823/Top/Clips/Chester_20240823_HoldTrial125_TopView.avi and data.\n",
      "Loading  D:/YuLab/Work/GPS/Video/Chester/GPS_13_ThreeFPHoldSRTProbe/20240823/Top/Clips/Chester_20240823_HoldTrial126_TopView.avi and data.\n",
      "Loading  D:/YuLab/Work/GPS/Video/Leo/GPS_12_ThreeFPHoldSRTProbe/20240724/Top/Clips/Leo_20240724_HoldTrial012_TopView.avi and data.\n",
      "Loading  D:/YuLab/Work/GPS/Video/Leo/GPS_12_ThreeFPHoldSRTProbe/20240724/Top/Clips/Leo_20240724_HoldTrial013_TopView.avi and data.\n",
      "Loading  D:/YuLab/Work/GPS/Video/Leo/GPS_12_ThreeFPHoldSRTProbe/20240724/Top/Clips/Leo_20240724_HoldTrial014_TopView.avi and data.\n",
      "Loading  D:/YuLab/Work/GPS/Video/Leo/GPS_12_ThreeFPHoldSRTProbe/20240724/Top/Clips/Leo_20240724_HoldTrial015_TopView.avi and data.\n",
      "Loading  D:/YuLab/Work/GPS/Video/Leo/GPS_12_ThreeFPHoldSRTProbe/20240724/Top/Clips/Leo_20240724_HoldTrial016_TopView.avi and data.\n",
      "Loading  D:/YuLab/Work/GPS/Video/Leo/GPS_12_ThreeFPHoldSRTProbe/20240724/Top/Clips/Leo_20240724_HoldTrial017_TopView.avi and data.\n",
      "Loading  D:/YuLab/Work/GPS/Video/Leo/GPS_12_ThreeFPHoldSRTProbe/20240724/Top/Clips/Leo_20240724_HoldTrial018_TopView.avi and data.\n",
      "Loading  D:/YuLab/Work/GPS/Video/Leo/GPS_12_ThreeFPHoldSRTProbe/20240724/Top/Clips/Leo_20240724_HoldTrial019_TopView.avi and data.\n",
      "Loading  D:/YuLab/Work/GPS/Video/Leo/GPS_12_ThreeFPHoldSRTProbe/20240724/Top/Clips/Leo_20240724_HoldTrial020_TopView.avi and data.\n",
      "Loading  D:/YuLab/Work/GPS/Video/Leo/GPS_12_ThreeFPHoldSRTProbe/20240724/Top/Clips/Leo_20240724_HoldTrial021_TopView.avi and data.\n",
      "Loading  D:/YuLab/Work/GPS/Video/Leo/GPS_12_ThreeFPHoldSRTProbe/20240724/Top/Clips/Leo_20240724_HoldTrial022_TopView.avi and data.\n",
      "Loading  D:/YuLab/Work/GPS/Video/Leo/GPS_12_ThreeFPHoldSRTProbe/20240724/Top/Clips/Leo_20240724_HoldTrial023_TopView.avi and data.\n",
      "Loading  D:/YuLab/Work/GPS/Video/Leo/GPS_12_ThreeFPHoldSRTProbe/20240724/Top/Clips/Leo_20240724_HoldTrial024_TopView.avi and data.\n",
      "Loading  D:/YuLab/Work/GPS/Video/Leo/GPS_12_ThreeFPHoldSRTProbe/20240724/Top/Clips/Leo_20240724_HoldTrial025_TopView.avi and data.\n",
      "Loading  D:/YuLab/Work/GPS/Video/Leo/GPS_12_ThreeFPHoldSRTProbe/20240724/Top/Clips/Leo_20240724_HoldTrial026_TopView.avi and data.\n",
      "Loading  D:/YuLab/Work/GPS/Video/Leo/GPS_12_ThreeFPHoldSRTProbe/20240724/Top/Clips/Leo_20240724_HoldTrial027_TopView.avi and data.\n",
      "Loading  D:/YuLab/Work/GPS/Video/Leo/GPS_12_ThreeFPHoldSRTProbe/20240724/Top/Clips/Leo_20240724_HoldTrial028_TopView.avi and data.\n",
      "Loading  D:/YuLab/Work/GPS/Video/Leo/GPS_12_ThreeFPHoldSRTProbe/20240724/Top/Clips/Leo_20240724_HoldTrial029_TopView.avi and data.\n",
      "Loading  D:/YuLab/Work/GPS/Video/Leo/GPS_12_ThreeFPHoldSRTProbe/20240724/Top/Clips/Leo_20240724_HoldTrial030_TopView.avi and data.\n",
      "Loading  D:/YuLab/Work/GPS/Video/Leo/GPS_12_ThreeFPHoldSRTProbe/20240724/Top/Clips/Leo_20240724_HoldTrial031_TopView.avi and data.\n",
      "Loading  D:/YuLab/Work/GPS/Video/Leo/GPS_12_ThreeFPHoldSRTProbe/20240724/Top/Clips/Leo_20240724_HoldTrial032_TopView.avi and data.\n",
      "Loading  D:/YuLab/Work/GPS/Video/Leo/GPS_12_ThreeFPHoldSRTProbe/20240724/Top/Clips/Leo_20240724_HoldTrial033_TopView.avi and data.\n",
      "Loading  D:/YuLab/Work/GPS/Video/Leo/GPS_12_ThreeFPHoldSRTProbe/20240724/Top/Clips/Leo_20240724_HoldTrial034_TopView.avi and data.\n",
      "Loading  D:/YuLab/Work/GPS/Video/Leo/GPS_12_ThreeFPHoldSRTProbe/20240724/Top/Clips/Leo_20240724_HoldTrial035_TopView.avi and data.\n",
      "Loading  D:/YuLab/Work/GPS/Video/Leo/GPS_12_ThreeFPHoldSRTProbe/20240724/Top/Clips/Leo_20240724_HoldTrial036_TopView.avi and data.\n",
      "Loading  D:/YuLab/Work/GPS/Video/Leo/GPS_12_ThreeFPHoldSRTProbe/20240724/Top/Clips/Leo_20240724_HoldTrial037_TopView.avi and data.\n",
      "Loading  D:/YuLab/Work/GPS/Video/Leo/GPS_12_ThreeFPHoldSRTProbe/20240724/Top/Clips/Leo_20240724_HoldTrial038_TopView.avi and data.\n",
      "Loading  D:/YuLab/Work/GPS/Video/Leo/GPS_12_ThreeFPHoldSRTProbe/20240724/Top/Clips/Leo_20240724_HoldTrial039_TopView.avi and data.\n",
      "Loading  D:/YuLab/Work/GPS/Video/Leo/GPS_12_ThreeFPHoldSRTProbe/20240724/Top/Clips/Leo_20240724_HoldTrial040_TopView.avi and data.\n",
      "Loading  D:/YuLab/Work/GPS/Video/Leo/GPS_12_ThreeFPHoldSRTProbe/20240724/Top/Clips/Leo_20240724_HoldTrial041_TopView.avi and data.\n",
      "Loading  D:/YuLab/Work/GPS/Video/Leo/GPS_12_ThreeFPHoldSRTProbe/20240724/Top/Clips/Leo_20240724_HoldTrial042_TopView.avi and data.\n",
      "Loading  D:/YuLab/Work/GPS/Video/Leo/GPS_12_ThreeFPHoldSRTProbe/20240724/Top/Clips/Leo_20240724_HoldTrial043_TopView.avi and data.\n",
      "Loading  D:/YuLab/Work/GPS/Video/Leo/GPS_12_ThreeFPHoldSRTProbe/20240724/Top/Clips/Leo_20240724_HoldTrial044_TopView.avi and data.\n",
      "Loading  D:/YuLab/Work/GPS/Video/Leo/GPS_12_ThreeFPHoldSRTProbe/20240724/Top/Clips/Leo_20240724_HoldTrial045_TopView.avi and data.\n",
      "Loading  D:/YuLab/Work/GPS/Video/Leo/GPS_12_ThreeFPHoldSRTProbe/20240724/Top/Clips/Leo_20240724_HoldTrial046_TopView.avi and data.\n",
      "Loading  D:/YuLab/Work/GPS/Video/Leo/GPS_12_ThreeFPHoldSRTProbe/20240724/Top/Clips/Leo_20240724_HoldTrial047_TopView.avi and data.\n",
      "Loading  D:/YuLab/Work/GPS/Video/Leo/GPS_12_ThreeFPHoldSRTProbe/20240724/Top/Clips/Leo_20240724_HoldTrial048_TopView.avi and data.\n",
      "Loading  D:/YuLab/Work/GPS/Video/Leo/GPS_12_ThreeFPHoldSRTProbe/20240724/Top/Clips/Leo_20240724_HoldTrial049_TopView.avi and data.\n",
      "Loading  D:/YuLab/Work/GPS/Video/Leo/GPS_12_ThreeFPHoldSRTProbe/20240724/Top/Clips/Leo_20240724_HoldTrial050_TopView.avi and data.\n",
      "Loading  D:/YuLab/Work/GPS/Video/Leo/GPS_12_ThreeFPHoldSRTProbe/20240724/Top/Clips/Leo_20240724_HoldTrial051_TopView.avi and data.\n",
      "Loading  D:/YuLab/Work/GPS/Video/Leo/GPS_12_ThreeFPHoldSRTProbe/20240724/Top/Clips/Leo_20240724_HoldTrial052_TopView.avi and data.\n",
      "Loading  D:/YuLab/Work/GPS/Video/Leo/GPS_12_ThreeFPHoldSRTProbe/20240724/Top/Clips/Leo_20240724_HoldTrial053_TopView.avi and data.\n",
      "Loading  D:/YuLab/Work/GPS/Video/Leo/GPS_12_ThreeFPHoldSRTProbe/20240724/Top/Clips/Leo_20240724_HoldTrial054_TopView.avi and data.\n",
      "Loading  D:/YuLab/Work/GPS/Video/Leo/GPS_12_ThreeFPHoldSRTProbe/20240724/Top/Clips/Leo_20240724_HoldTrial055_TopView.avi and data.\n",
      "Loading  D:/YuLab/Work/GPS/Video/Leo/GPS_12_ThreeFPHoldSRTProbe/20240724/Top/Clips/Leo_20240724_HoldTrial056_TopView.avi and data.\n",
      "Loading  D:/YuLab/Work/GPS/Video/Leo/GPS_12_ThreeFPHoldSRTProbe/20240724/Top/Clips/Leo_20240724_HoldTrial057_TopView.avi and data.\n",
      "Loading  D:/YuLab/Work/GPS/Video/Leo/GPS_12_ThreeFPHoldSRTProbe/20240724/Top/Clips/Leo_20240724_HoldTrial058_TopView.avi and data.\n",
      "Loading  D:/YuLab/Work/GPS/Video/Leo/GPS_12_ThreeFPHoldSRTProbe/20240724/Top/Clips/Leo_20240724_HoldTrial059_TopView.avi and data.\n",
      "Loading  D:/YuLab/Work/GPS/Video/Leo/GPS_12_ThreeFPHoldSRTProbe/20240724/Top/Clips/Leo_20240724_HoldTrial060_TopView.avi and data.\n",
      "Loading  D:/YuLab/Work/GPS/Video/Leo/GPS_12_ThreeFPHoldSRTProbe/20240724/Top/Clips/Leo_20240724_HoldTrial061_TopView.avi and data.\n",
      "Loading  D:/YuLab/Work/GPS/Video/Leo/GPS_12_ThreeFPHoldSRTProbe/20240724/Top/Clips/Leo_20240724_HoldTrial062_TopView.avi and data.\n",
      "Loading  D:/YuLab/Work/GPS/Video/Leo/GPS_12_ThreeFPHoldSRTProbe/20240724/Top/Clips/Leo_20240724_HoldTrial063_TopView.avi and data.\n",
      "Loading  D:/YuLab/Work/GPS/Video/Leo/GPS_12_ThreeFPHoldSRTProbe/20240724/Top/Clips/Leo_20240724_HoldTrial064_TopView.avi and data.\n",
      "Loading  D:/YuLab/Work/GPS/Video/Leo/GPS_12_ThreeFPHoldSRTProbe/20240724/Top/Clips/Leo_20240724_HoldTrial065_TopView.avi and data.\n",
      "Loading  D:/YuLab/Work/GPS/Video/Leo/GPS_12_ThreeFPHoldSRTProbe/20240724/Top/Clips/Leo_20240724_HoldTrial066_TopView.avi and data.\n",
      "Loading  D:/YuLab/Work/GPS/Video/Leo/GPS_12_ThreeFPHoldSRTProbe/20240724/Top/Clips/Leo_20240724_HoldTrial067_TopView.avi and data.\n",
      "Loading  D:/YuLab/Work/GPS/Video/Leo/GPS_12_ThreeFPHoldSRTProbe/20240724/Top/Clips/Leo_20240724_HoldTrial068_TopView.avi and data.\n",
      "Loading  D:/YuLab/Work/GPS/Video/Leo/GPS_12_ThreeFPHoldSRTProbe/20240724/Top/Clips/Leo_20240724_HoldTrial069_TopView.avi and data.\n",
      "Loading  D:/YuLab/Work/GPS/Video/Leo/GPS_12_ThreeFPHoldSRTProbe/20240724/Top/Clips/Leo_20240724_HoldTrial070_TopView.avi and data.\n",
      "Loading  D:/YuLab/Work/GPS/Video/Leo/GPS_12_ThreeFPHoldSRTProbe/20240724/Top/Clips/Leo_20240724_HoldTrial071_TopView.avi and data.\n",
      "Loading  D:/YuLab/Work/GPS/Video/Leo/GPS_12_ThreeFPHoldSRTProbe/20240724/Top/Clips/Leo_20240724_HoldTrial072_TopView.avi and data.\n",
      "Loading  D:/YuLab/Work/GPS/Video/Leo/GPS_12_ThreeFPHoldSRTProbe/20240724/Top/Clips/Leo_20240724_HoldTrial073_TopView.avi and data.\n",
      "Loading  D:/YuLab/Work/GPS/Video/Leo/GPS_12_ThreeFPHoldSRTProbe/20240724/Top/Clips/Leo_20240724_HoldTrial074_TopView.avi and data.\n",
      "Loading  D:/YuLab/Work/GPS/Video/Leo/GPS_12_ThreeFPHoldSRTProbe/20240724/Top/Clips/Leo_20240724_HoldTrial075_TopView.avi and data.\n",
      "Loading  D:/YuLab/Work/GPS/Video/Leo/GPS_12_ThreeFPHoldSRTProbe/20240724/Top/Clips/Leo_20240724_HoldTrial076_TopView.avi and data.\n",
      "Loading  D:/YuLab/Work/GPS/Video/Leo/GPS_12_ThreeFPHoldSRTProbe/20240724/Top/Clips/Leo_20240724_HoldTrial077_TopView.avi and data.\n",
      "Loading  D:/YuLab/Work/GPS/Video/Leo/GPS_12_ThreeFPHoldSRTProbe/20240724/Top/Clips/Leo_20240724_HoldTrial078_TopView.avi and data.\n",
      "Loading  D:/YuLab/Work/GPS/Video/Leo/GPS_12_ThreeFPHoldSRTProbe/20240724/Top/Clips/Leo_20240724_HoldTrial079_TopView.avi and data.\n",
      "Loading  D:/YuLab/Work/GPS/Video/Leo/GPS_12_ThreeFPHoldSRTProbe/20240724/Top/Clips/Leo_20240724_HoldTrial080_TopView.avi and data.\n",
      "Loading  D:/YuLab/Work/GPS/Video/Leo/GPS_12_ThreeFPHoldSRTProbe/20240724/Top/Clips/Leo_20240724_HoldTrial081_TopView.avi and data.\n",
      "Loading  D:/YuLab/Work/GPS/Video/Leo/GPS_12_ThreeFPHoldSRTProbe/20240724/Top/Clips/Leo_20240724_HoldTrial082_TopView.avi and data.\n",
      "Loading  D:/YuLab/Work/GPS/Video/Leo/GPS_12_ThreeFPHoldSRTProbe/20240724/Top/Clips/Leo_20240724_HoldTrial083_TopView.avi and data.\n",
      "Loading  D:/YuLab/Work/GPS/Video/Leo/GPS_12_ThreeFPHoldSRTProbe/20240724/Top/Clips/Leo_20240724_HoldTrial084_TopView.avi and data.\n",
      "Loading  D:/YuLab/Work/GPS/Video/Leo/GPS_12_ThreeFPHoldSRTProbe/20240724/Top/Clips/Leo_20240724_HoldTrial085_TopView.avi and data.\n",
      "Loading  D:/YuLab/Work/GPS/Video/Leo/GPS_12_ThreeFPHoldSRTProbe/20240724/Top/Clips/Leo_20240724_HoldTrial086_TopView.avi and data.\n",
      "Loading  D:/YuLab/Work/GPS/Video/Leo/GPS_12_ThreeFPHoldSRTProbe/20240724/Top/Clips/Leo_20240724_HoldTrial087_TopView.avi and data.\n",
      "Loading  D:/YuLab/Work/GPS/Video/Leo/GPS_12_ThreeFPHoldSRTProbe/20240724/Top/Clips/Leo_20240724_HoldTrial088_TopView.avi and data.\n",
      "Loading  D:/YuLab/Work/GPS/Video/Leo/GPS_12_ThreeFPHoldSRTProbe/20240724/Top/Clips/Leo_20240724_HoldTrial089_TopView.avi and data.\n",
      "Loading  D:/YuLab/Work/GPS/Video/Leo/GPS_12_ThreeFPHoldSRTProbe/20240724/Top/Clips/Leo_20240724_HoldTrial090_TopView.avi and data.\n",
      "Loading  D:/YuLab/Work/GPS/Video/Leo/GPS_12_ThreeFPHoldSRTProbe/20240724/Top/Clips/Leo_20240724_HoldTrial091_TopView.avi and data.\n",
      "Loading  D:/YuLab/Work/GPS/Video/Leo/GPS_12_ThreeFPHoldSRTProbe/20240724/Top/Clips/Leo_20240724_HoldTrial092_TopView.avi and data.\n",
      "Loading  D:/YuLab/Work/GPS/Video/Leo/GPS_12_ThreeFPHoldSRTProbe/20240724/Top/Clips/Leo_20240724_HoldTrial093_TopView.avi and data.\n",
      "Loading  D:/YuLab/Work/GPS/Video/Leo/GPS_12_ThreeFPHoldSRTProbe/20240724/Top/Clips/Leo_20240724_HoldTrial094_TopView.avi and data.\n",
      "Loading  D:/YuLab/Work/GPS/Video/Leo/GPS_12_ThreeFPHoldSRTProbe/20240724/Top/Clips/Leo_20240724_HoldTrial095_TopView.avi and data.\n",
      "Loading  D:/YuLab/Work/GPS/Video/Leo/GPS_12_ThreeFPHoldSRTProbe/20240724/Top/Clips/Leo_20240724_HoldTrial096_TopView.avi and data.\n",
      "Loading  D:/YuLab/Work/GPS/Video/Leo/GPS_12_ThreeFPHoldSRTProbe/20240724/Top/Clips/Leo_20240724_HoldTrial097_TopView.avi and data.\n",
      "Loading  D:/YuLab/Work/GPS/Video/Leo/GPS_12_ThreeFPHoldSRTProbe/20240724/Top/Clips/Leo_20240724_HoldTrial098_TopView.avi and data.\n",
      "Loading  D:/YuLab/Work/GPS/Video/Leo/GPS_12_ThreeFPHoldSRTProbe/20240724/Top/Clips/Leo_20240724_HoldTrial099_TopView.avi and data.\n",
      "Loading  D:/YuLab/Work/GPS/Video/Leo/GPS_12_ThreeFPHoldSRTProbe/20240724/Top/Clips/Leo_20240724_HoldTrial100_TopView.avi and data.\n",
      "Loading  D:/YuLab/Work/GPS/Video/Leo/GPS_12_ThreeFPHoldSRTProbe/20240724/Top/Clips/Leo_20240724_HoldTrial101_TopView.avi and data.\n",
      "Loading  D:/YuLab/Work/GPS/Video/Leo/GPS_12_ThreeFPHoldSRTProbe/20240724/Top/Clips/Leo_20240724_HoldTrial102_TopView.avi and data.\n",
      "Loading  D:/YuLab/Work/GPS/Video/Leo/GPS_12_ThreeFPHoldSRTProbe/20240724/Top/Clips/Leo_20240724_HoldTrial103_TopView.avi and data.\n",
      "Loading  D:/YuLab/Work/GPS/Video/Leo/GPS_12_ThreeFPHoldSRTProbe/20240724/Top/Clips/Leo_20240724_HoldTrial104_TopView.avi and data.\n",
      "Loading  D:/YuLab/Work/GPS/Video/Leo/GPS_12_ThreeFPHoldSRTProbe/20240724/Top/Clips/Leo_20240724_HoldTrial105_TopView.avi and data.\n",
      "Loading  D:/YuLab/Work/GPS/Video/Leo/GPS_12_ThreeFPHoldSRTProbe/20240724/Top/Clips/Leo_20240724_HoldTrial106_TopView.avi and data.\n",
      "Loading  D:/YuLab/Work/GPS/Video/Leo/GPS_12_ThreeFPHoldSRTProbe/20240724/Top/Clips/Leo_20240724_HoldTrial107_TopView.avi and data.\n",
      "Loading  D:/YuLab/Work/GPS/Video/Leo/GPS_12_ThreeFPHoldSRTProbe/20240724/Top/Clips/Leo_20240724_HoldTrial108_TopView.avi and data.\n",
      "Loading  D:/YuLab/Work/GPS/Video/Leo/GPS_12_ThreeFPHoldSRTProbe/20240724/Top/Clips/Leo_20240724_HoldTrial109_TopView.avi and data.\n",
      "Loading  D:/YuLab/Work/GPS/Video/Leo/GPS_12_ThreeFPHoldSRTProbe/20240724/Top/Clips/Leo_20240724_HoldTrial110_TopView.avi and data.\n",
      "Loading  D:/YuLab/Work/GPS/Video/Leo/GPS_12_ThreeFPHoldSRTProbe/20240724/Top/Clips/Leo_20240724_HoldTrial111_TopView.avi and data.\n",
      "Loading  D:/YuLab/Work/GPS/Video/Leo/GPS_12_ThreeFPHoldSRTProbe/20240724/Top/Clips/Leo_20240724_HoldTrial112_TopView.avi and data.\n",
      "Loading  D:/YuLab/Work/GPS/Video/Leo/GPS_12_ThreeFPHoldSRTProbe/20240724/Top/Clips/Leo_20240724_HoldTrial113_TopView.avi and data.\n",
      "Loading  D:/YuLab/Work/GPS/Video/Leo/GPS_12_ThreeFPHoldSRTProbe/20240724/Top/Clips/Leo_20240724_HoldTrial114_TopView.avi and data.\n",
      "Loading  D:/YuLab/Work/GPS/Video/Leo/GPS_12_ThreeFPHoldSRTProbe/20240724/Top/Clips/Leo_20240724_HoldTrial115_TopView.avi and data.\n",
      "Loading  D:/YuLab/Work/GPS/Video/Leo/GPS_12_ThreeFPHoldSRTProbe/20240724/Top/Clips/Leo_20240724_HoldTrial116_TopView.avi and data.\n",
      "Loading  D:/YuLab/Work/GPS/Video/Leo/GPS_12_ThreeFPHoldSRTProbe/20240724/Top/Clips/Leo_20240724_HoldTrial117_TopView.avi and data.\n",
      "Loading  D:/YuLab/Work/GPS/Video/Leo/GPS_12_ThreeFPHoldSRTProbe/20240724/Top/Clips/Leo_20240724_HoldTrial118_TopView.avi and data.\n",
      "Loading  D:/YuLab/Work/GPS/Video/Leo/GPS_12_ThreeFPHoldSRTProbe/20240724/Top/Clips/Leo_20240724_HoldTrial119_TopView.avi and data.\n",
      "Loading  D:/YuLab/Work/GPS/Video/Leo/GPS_12_ThreeFPHoldSRTProbe/20240724/Top/Clips/Leo_20240724_HoldTrial120_TopView.avi and data.\n",
      "Loading  D:/YuLab/Work/GPS/Video/Leo/GPS_12_ThreeFPHoldSRTProbe/20240724/Top/Clips/Leo_20240724_HoldTrial121_TopView.avi and data.\n",
      "Loading  D:/YuLab/Work/GPS/Video/Leo/GPS_12_ThreeFPHoldSRTProbe/20240724/Top/Clips/Leo_20240724_HoldTrial122_TopView.avi and data.\n",
      "Loading  D:/YuLab/Work/GPS/Video/Leo/GPS_12_ThreeFPHoldSRTProbe/20240724/Top/Clips/Leo_20240724_HoldTrial123_TopView.avi and data.\n",
      "Loading  D:/YuLab/Work/GPS/Video/Leo/GPS_12_ThreeFPHoldSRTProbe/20240724/Top/Clips/Leo_20240724_HoldTrial124_TopView.avi and data.\n",
      "Loading  D:/YuLab/Work/GPS/Video/Leo/GPS_12_ThreeFPHoldSRTProbe/20240724/Top/Clips/Leo_20240724_HoldTrial125_TopView.avi and data.\n",
      "Loading  D:/YuLab/Work/GPS/Video/Leo/GPS_12_ThreeFPHoldSRTProbe/20240724/Top/Clips/Leo_20240724_HoldTrial126_TopView.avi and data.\n",
      "Loading  D:/YuLab/Work/GPS/Video/Leo/GPS_12_ThreeFPHoldSRTProbe/20240724/Top/Clips/Leo_20240724_HoldTrial127_TopView.avi and data.\n",
      "Loading  D:/YuLab/Work/GPS/Video/Leo/GPS_12_ThreeFPHoldSRTProbe/20240724/Top/Clips/Leo_20240724_HoldTrial128_TopView.avi and data.\n",
      "Loading  D:/YuLab/Work/GPS/Video/Leo/GPS_12_ThreeFPHoldSRTProbe/20240724/Top/Clips/Leo_20240724_HoldTrial129_TopView.avi and data.\n",
      "Loading  D:/YuLab/Work/GPS/Video/Leo/GPS_12_ThreeFPHoldSRTProbe/20240724/Top/Clips/Leo_20240724_HoldTrial130_TopView.avi and data.\n",
      "Loading  D:/YuLab/Work/GPS/Video/Leo/GPS_12_ThreeFPHoldSRTProbe/20240724/Top/Clips/Leo_20240724_HoldTrial131_TopView.avi and data.\n",
      "Loading  D:/YuLab/Work/GPS/Video/Leo/GPS_12_ThreeFPHoldSRTProbe/20240724/Top/Clips/Leo_20240724_HoldTrial132_TopView.avi and data.\n",
      "Loading  D:/YuLab/Work/GPS/Video/Leo/GPS_12_ThreeFPHoldSRTProbe/20240724/Top/Clips/Leo_20240724_HoldTrial133_TopView.avi and data.\n",
      "Loading  D:/YuLab/Work/GPS/Video/Leo/GPS_12_ThreeFPHoldSRTProbe/20240724/Top/Clips/Leo_20240724_HoldTrial134_TopView.avi and data.\n",
      "Loading  D:/YuLab/Work/GPS/Video/Leo/GPS_12_ThreeFPHoldSRTProbe/20240724/Top/Clips/Leo_20240724_HoldTrial135_TopView.avi and data.\n",
      "Loading  D:/YuLab/Work/GPS/Video/Leo/GPS_12_ThreeFPHoldSRTProbe/20240724/Top/Clips/Leo_20240724_HoldTrial136_TopView.avi and data.\n",
      "Loading  D:/YuLab/Work/GPS/Video/Leo/GPS_12_ThreeFPHoldSRTProbe/20240724/Top/Clips/Leo_20240724_HoldTrial137_TopView.avi and data.\n",
      "Loading  D:/YuLab/Work/GPS/Video/Leo/GPS_12_ThreeFPHoldSRTProbe/20240724/Top/Clips/Leo_20240724_HoldTrial138_TopView.avi and data.\n",
      "Loading  D:/YuLab/Work/GPS/Video/Leo/GPS_12_ThreeFPHoldSRTProbe/20240724/Top/Clips/Leo_20240724_HoldTrial139_TopView.avi and data.\n",
      "Loading  D:/YuLab/Work/GPS/Video/Leo/GPS_12_ThreeFPHoldSRTProbe/20240724/Top/Clips/Leo_20240724_HoldTrial140_TopView.avi and data.\n",
      "Loading  D:/YuLab/Work/GPS/Video/Leo/GPS_12_ThreeFPHoldSRTProbe/20240724/Top/Clips/Leo_20240724_HoldTrial141_TopView.avi and data.\n",
      "Loading  D:/YuLab/Work/GPS/Video/Leo/GPS_12_ThreeFPHoldSRTProbe/20240724/Top/Clips/Leo_20240724_HoldTrial142_TopView.avi and data.\n",
      "Loading  D:/YuLab/Work/GPS/Video/Leo/GPS_12_ThreeFPHoldSRTProbe/20240724/Top/Clips/Leo_20240724_HoldTrial143_TopView.avi and data.\n",
      "Loading  D:/YuLab/Work/GPS/Video/Leo/GPS_12_ThreeFPHoldSRTProbe/20240724/Top/Clips/Leo_20240724_HoldTrial144_TopView.avi and data.\n",
      "Loading  D:/YuLab/Work/GPS/Video/Leo/GPS_12_ThreeFPHoldSRTProbe/20240724/Top/Clips/Leo_20240724_HoldTrial145_TopView.avi and data.\n",
      "Loading  D:/YuLab/Work/GPS/Video/Leo/GPS_12_ThreeFPHoldSRTProbe/20240724/Top/Clips/Leo_20240724_HoldTrial146_TopView.avi and data.\n",
      "Loading  D:/YuLab/Work/GPS/Video/Leo/GPS_12_ThreeFPHoldSRTProbe/20240802/Top/Clips/Leo_20240802_HoldTrial019_TopView.avi and data.\n",
      "Loading  D:/YuLab/Work/GPS/Video/Leo/GPS_12_ThreeFPHoldSRTProbe/20240802/Top/Clips/Leo_20240802_HoldTrial020_TopView.avi and data.\n",
      "Loading  D:/YuLab/Work/GPS/Video/Leo/GPS_12_ThreeFPHoldSRTProbe/20240802/Top/Clips/Leo_20240802_HoldTrial021_TopView.avi and data.\n",
      "Loading  D:/YuLab/Work/GPS/Video/Leo/GPS_12_ThreeFPHoldSRTProbe/20240803/Top/Clips/Leo_20240803_HoldTrial009_TopView.avi and data.\n",
      "Loading  D:/YuLab/Work/GPS/Video/Leo/GPS_12_ThreeFPHoldSRTProbe/20240803/Top/Clips/Leo_20240803_HoldTrial010_TopView.avi and data.\n",
      "Loading  D:/YuLab/Work/GPS/Video/Leo/GPS_12_ThreeFPHoldSRTProbe/20240803/Top/Clips/Leo_20240803_HoldTrial011_TopView.avi and data.\n",
      "Loading  D:/YuLab/Work/GPS/Video/Leo/GPS_12_ThreeFPHoldSRTProbe/20240803/Top/Clips/Leo_20240803_HoldTrial012_TopView.avi and data.\n",
      "Loading  D:/YuLab/Work/GPS/Video/Leo/GPS_12_ThreeFPHoldSRTProbe/20240803/Top/Clips/Leo_20240803_HoldTrial013_TopView.avi and data.\n",
      "Loading  D:/YuLab/Work/GPS/Video/Leo/GPS_12_ThreeFPHoldSRTProbe/20240803/Top/Clips/Leo_20240803_HoldTrial014_TopView.avi and data.\n",
      "Loading  D:/YuLab/Work/GPS/Video/Leo/GPS_12_ThreeFPHoldSRTProbe/20240803/Top/Clips/Leo_20240803_HoldTrial015_TopView.avi and data.\n",
      "Loading  D:/YuLab/Work/GPS/Video/Leo/GPS_12_ThreeFPHoldSRTProbe/20240803/Top/Clips/Leo_20240803_HoldTrial016_TopView.avi and data.\n",
      "Loading  D:/YuLab/Work/GPS/Video/Leo/GPS_12_ThreeFPHoldSRTProbe/20240803/Top/Clips/Leo_20240803_HoldTrial017_TopView.avi and data.\n",
      "Loading  D:/YuLab/Work/GPS/Video/Leo/GPS_12_ThreeFPHoldSRTProbe/20240803/Top/Clips/Leo_20240803_HoldTrial018_TopView.avi and data.\n",
      "Loading  D:/YuLab/Work/GPS/Video/Leo/GPS_12_ThreeFPHoldSRTProbe/20240803/Top/Clips/Leo_20240803_HoldTrial019_TopView.avi and data.\n",
      "Loading  D:/YuLab/Work/GPS/Video/Leo/GPS_12_ThreeFPHoldSRTProbe/20240803/Top/Clips/Leo_20240803_HoldTrial020_TopView.avi and data.\n",
      "Loading  D:/YuLab/Work/GPS/Video/Leo/GPS_12_ThreeFPHoldSRTProbe/20240803/Top/Clips/Leo_20240803_HoldTrial021_TopView.avi and data.\n",
      "Loading  D:/YuLab/Work/GPS/Video/Leo/GPS_12_ThreeFPHoldSRTProbe/20240803/Top/Clips/Leo_20240803_HoldTrial022_TopView.avi and data.\n",
      "Loading  D:/YuLab/Work/GPS/Video/Leo/GPS_12_ThreeFPHoldSRTProbe/20240803/Top/Clips/Leo_20240803_HoldTrial023_TopView.avi and data.\n",
      "Loading  D:/YuLab/Work/GPS/Video/Leo/GPS_12_ThreeFPHoldSRTProbe/20240803/Top/Clips/Leo_20240803_HoldTrial024_TopView.avi and data.\n",
      "Loading  D:/YuLab/Work/GPS/Video/Leo/GPS_12_ThreeFPHoldSRTProbe/20240803/Top/Clips/Leo_20240803_HoldTrial025_TopView.avi and data.\n",
      "Loading  D:/YuLab/Work/GPS/Video/Leo/GPS_12_ThreeFPHoldSRTProbe/20240803/Top/Clips/Leo_20240803_HoldTrial026_TopView.avi and data.\n",
      "Loading  D:/YuLab/Work/GPS/Video/Leo/GPS_12_ThreeFPHoldSRTProbe/20240803/Top/Clips/Leo_20240803_HoldTrial027_TopView.avi and data.\n",
      "Loading  D:/YuLab/Work/GPS/Video/Leo/GPS_12_ThreeFPHoldSRTProbe/20240803/Top/Clips/Leo_20240803_HoldTrial028_TopView.avi and data.\n",
      "Loading  D:/YuLab/Work/GPS/Video/Leo/GPS_12_ThreeFPHoldSRTProbe/20240803/Top/Clips/Leo_20240803_HoldTrial029_TopView.avi and data.\n",
      "Loading  D:/YuLab/Work/GPS/Video/Leo/GPS_12_ThreeFPHoldSRTProbe/20240803/Top/Clips/Leo_20240803_HoldTrial030_TopView.avi and data.\n",
      "Loading  D:/YuLab/Work/GPS/Video/Leo/GPS_12_ThreeFPHoldSRTProbe/20240803/Top/Clips/Leo_20240803_HoldTrial031_TopView.avi and data.\n",
      "Loading  D:/YuLab/Work/GPS/Video/Leo/GPS_12_ThreeFPHoldSRTProbe/20240804/Top/Clips/Leo_20240804_HoldTrial013_TopView.avi and data.\n",
      "Loading  D:/YuLab/Work/GPS/Video/Leo/GPS_12_ThreeFPHoldSRTProbe/20240804/Top/Clips/Leo_20240804_HoldTrial014_TopView.avi and data.\n",
      "Loading  D:/YuLab/Work/GPS/Video/Leo/GPS_12_ThreeFPHoldSRTProbe/20240804/Top/Clips/Leo_20240804_HoldTrial015_TopView.avi and data.\n",
      "Loading  D:/YuLab/Work/GPS/Video/Leo/GPS_12_ThreeFPHoldSRTProbe/20240804/Top/Clips/Leo_20240804_HoldTrial016_TopView.avi and data.\n",
      "Loading  D:/YuLab/Work/GPS/Video/Leo/GPS_12_ThreeFPHoldSRTProbe/20240804/Top/Clips/Leo_20240804_HoldTrial017_TopView.avi and data.\n",
      "Loading  D:/YuLab/Work/GPS/Video/Leo/GPS_12_ThreeFPHoldSRTProbe/20240804/Top/Clips/Leo_20240804_HoldTrial018_TopView.avi and data.\n",
      "Loading  D:/YuLab/Work/GPS/Video/Leo/GPS_12_ThreeFPHoldSRTProbe/20240804/Top/Clips/Leo_20240804_HoldTrial019_TopView.avi and data.\n",
      "Loading  D:/YuLab/Work/GPS/Video/Leo/GPS_12_ThreeFPHoldSRTProbe/20240804/Top/Clips/Leo_20240804_HoldTrial020_TopView.avi and data.\n",
      "Loading  D:/YuLab/Work/GPS/Video/Leo/GPS_12_ThreeFPHoldSRTProbe/20240804/Top/Clips/Leo_20240804_HoldTrial021_TopView.avi and data.\n",
      "Loading  D:/YuLab/Work/GPS/Video/Leo/GPS_12_ThreeFPHoldSRTProbe/20240804/Top/Clips/Leo_20240804_HoldTrial022_TopView.avi and data.\n",
      "Loading  D:/YuLab/Work/GPS/Video/Leo/GPS_12_ThreeFPHoldSRTProbe/20240804/Top/Clips/Leo_20240804_HoldTrial023_TopView.avi and data.\n",
      "Loading  D:/YuLab/Work/GPS/Video/Leo/GPS_12_ThreeFPHoldSRTProbe/20240804/Top/Clips/Leo_20240804_HoldTrial024_TopView.avi and data.\n",
      "Loading  D:/YuLab/Work/GPS/Video/Leo/GPS_12_ThreeFPHoldSRTProbe/20240804/Top/Clips/Leo_20240804_HoldTrial025_TopView.avi and data.\n",
      "Loading  D:/YuLab/Work/GPS/Video/Leo/GPS_12_ThreeFPHoldSRTProbe/20240804/Top/Clips/Leo_20240804_HoldTrial026_TopView.avi and data.\n",
      "Loading  D:/YuLab/Work/GPS/Video/Leo/GPS_12_ThreeFPHoldSRTProbe/20240804/Top/Clips/Leo_20240804_HoldTrial027_TopView.avi and data.\n",
      "Loading  D:/YuLab/Work/GPS/Video/Leo/GPS_12_ThreeFPHoldSRTProbe/20240804/Top/Clips/Leo_20240804_HoldTrial028_TopView.avi and data.\n",
      "Loading  D:/YuLab/Work/GPS/Video/Leo/GPS_12_ThreeFPHoldSRTProbe/20240804/Top/Clips/Leo_20240804_HoldTrial029_TopView.avi and data.\n",
      "Loading  D:/YuLab/Work/GPS/Video/Leo/GPS_12_ThreeFPHoldSRTProbe/20240804/Top/Clips/Leo_20240804_HoldTrial030_TopView.avi and data.\n",
      "Loading  D:/YuLab/Work/GPS/Video/Leo/GPS_12_ThreeFPHoldSRTProbe/20240804/Top/Clips/Leo_20240804_HoldTrial031_TopView.avi and data.\n",
      "Loading  D:/YuLab/Work/GPS/Video/Leo/GPS_12_ThreeFPHoldSRTProbe/20240804/Top/Clips/Leo_20240804_HoldTrial032_TopView.avi and data.\n",
      "Loading  D:/YuLab/Work/GPS/Video/Leo/GPS_12_ThreeFPHoldSRTProbe/20240804/Top/Clips/Leo_20240804_HoldTrial033_TopView.avi and data.\n",
      "Loading  D:/YuLab/Work/GPS/Video/Leo/GPS_12_ThreeFPHoldSRTProbe/20240804/Top/Clips/Leo_20240804_HoldTrial034_TopView.avi and data.\n",
      "Loading  D:/YuLab/Work/GPS/Video/Leo/GPS_12_ThreeFPHoldSRTProbe/20240804/Top/Clips/Leo_20240804_HoldTrial035_TopView.avi and data.\n",
      "Loading  D:/YuLab/Work/GPS/Video/Leo/GPS_12_ThreeFPHoldSRTProbe/20240804/Top/Clips/Leo_20240804_HoldTrial036_TopView.avi and data.\n",
      "Loading  D:/YuLab/Work/GPS/Video/Leo/GPS_12_ThreeFPHoldSRTProbe/20240804/Top/Clips/Leo_20240804_HoldTrial037_TopView.avi and data.\n",
      "Loading  D:/YuLab/Work/GPS/Video/Leo/GPS_12_ThreeFPHoldSRTProbe/20240804/Top/Clips/Leo_20240804_HoldTrial038_TopView.avi and data.\n",
      "Loading  D:/YuLab/Work/GPS/Video/Leo/GPS_12_ThreeFPHoldSRTProbe/20240804/Top/Clips/Leo_20240804_HoldTrial039_TopView.avi and data.\n",
      "Loading  D:/YuLab/Work/GPS/Video/Leo/GPS_12_ThreeFPHoldSRTProbe/20240804/Top/Clips/Leo_20240804_HoldTrial040_TopView.avi and data.\n",
      "Loading  D:/YuLab/Work/GPS/Video/Leo/GPS_12_ThreeFPHoldSRTProbe/20240804/Top/Clips/Leo_20240804_HoldTrial041_TopView.avi and data.\n",
      "Loading  D:/YuLab/Work/GPS/Video/Leo/GPS_12_ThreeFPHoldSRTProbe/20240804/Top/Clips/Leo_20240804_HoldTrial042_TopView.avi and data.\n",
      "Loading  D:/YuLab/Work/GPS/Video/Leo/GPS_12_ThreeFPHoldSRTProbe/20240804/Top/Clips/Leo_20240804_HoldTrial043_TopView.avi and data.\n",
      "Loading  D:/YuLab/Work/GPS/Video/Leo/GPS_12_ThreeFPHoldSRTProbe/20240804/Top/Clips/Leo_20240804_HoldTrial044_TopView.avi and data.\n",
      "Loading  D:/YuLab/Work/GPS/Video/Leo/GPS_12_ThreeFPHoldSRTProbe/20240804/Top/Clips/Leo_20240804_HoldTrial045_TopView.avi and data.\n",
      "Loading  D:/YuLab/Work/GPS/Video/Leo/GPS_12_ThreeFPHoldSRTProbe/20240804/Top/Clips/Leo_20240804_HoldTrial046_TopView.avi and data.\n",
      "Loading  D:/YuLab/Work/GPS/Video/Leo/GPS_12_ThreeFPHoldSRTProbe/20240804/Top/Clips/Leo_20240804_HoldTrial047_TopView.avi and data.\n",
      "Loading  D:/YuLab/Work/GPS/Video/Leo/GPS_12_ThreeFPHoldSRTProbe/20240804/Top/Clips/Leo_20240804_HoldTrial048_TopView.avi and data.\n",
      "Loading  D:/YuLab/Work/GPS/Video/Leo/GPS_12_ThreeFPHoldSRTProbe/20240804/Top/Clips/Leo_20240804_HoldTrial049_TopView.avi and data.\n",
      "Loading  D:/YuLab/Work/GPS/Video/Leo/GPS_12_ThreeFPHoldSRTProbe/20240804/Top/Clips/Leo_20240804_HoldTrial050_TopView.avi and data.\n",
      "Loading  D:/YuLab/Work/GPS/Video/Leo/GPS_12_ThreeFPHoldSRTProbe/20240804/Top/Clips/Leo_20240804_HoldTrial051_TopView.avi and data.\n",
      "Loading  D:/YuLab/Work/GPS/Video/Leo/GPS_12_ThreeFPHoldSRTProbe/20240804/Top/Clips/Leo_20240804_HoldTrial052_TopView.avi and data.\n",
      "Loading  D:/YuLab/Work/GPS/Video/Leo/GPS_12_ThreeFPHoldSRTProbe/20240804/Top/Clips/Leo_20240804_HoldTrial053_TopView.avi and data.\n",
      "Loading  D:/YuLab/Work/GPS/Video/Leo/GPS_12_ThreeFPHoldSRTProbe/20240804/Top/Clips/Leo_20240804_HoldTrial054_TopView.avi and data.\n",
      "Loading  D:/YuLab/Work/GPS/Video/Leo/GPS_12_ThreeFPHoldSRTProbe/20240804/Top/Clips/Leo_20240804_HoldTrial056_TopView.avi and data.\n",
      "Loading  D:/YuLab/Work/GPS/Video/Leo/GPS_12_ThreeFPHoldSRTProbe/20240804/Top/Clips/Leo_20240804_HoldTrial057_TopView.avi and data.\n",
      "Loading  D:/YuLab/Work/GPS/Video/Leo/GPS_12_ThreeFPHoldSRTProbe/20240804/Top/Clips/Leo_20240804_HoldTrial058_TopView.avi and data.\n",
      "Loading  D:/YuLab/Work/GPS/Video/Leo/GPS_12_ThreeFPHoldSRTProbe/20240804/Top/Clips/Leo_20240804_HoldTrial059_TopView.avi and data.\n",
      "Loading  D:/YuLab/Work/GPS/Video/Leo/GPS_12_ThreeFPHoldSRTProbe/20240804/Top/Clips/Leo_20240804_HoldTrial060_TopView.avi and data.\n",
      "Loading  D:/YuLab/Work/GPS/Video/Leo/GPS_12_ThreeFPHoldSRTProbe/20240804/Top/Clips/Leo_20240804_HoldTrial061_TopView.avi and data.\n",
      "Loading  D:/YuLab/Work/GPS/Video/Leo/GPS_12_ThreeFPHoldSRTProbe/20240804/Top/Clips/Leo_20240804_HoldTrial062_TopView.avi and data.\n",
      "Loading  D:/YuLab/Work/GPS/Video/Leo/GPS_12_ThreeFPHoldSRTProbe/20240804/Top/Clips/Leo_20240804_HoldTrial063_TopView.avi and data.\n",
      "Loading  D:/YuLab/Work/GPS/Video/Leo/GPS_12_ThreeFPHoldSRTProbe/20240804/Top/Clips/Leo_20240804_HoldTrial064_TopView.avi and data.\n",
      "Loading  D:/YuLab/Work/GPS/Video/Leo/GPS_12_ThreeFPHoldSRTProbe/20240804/Top/Clips/Leo_20240804_HoldTrial065_TopView.avi and data.\n",
      "Loading  D:/YuLab/Work/GPS/Video/Leo/GPS_12_ThreeFPHoldSRTProbe/20240804/Top/Clips/Leo_20240804_HoldTrial066_TopView.avi and data.\n",
      "Loading  D:/YuLab/Work/GPS/Video/Leo/GPS_12_ThreeFPHoldSRTProbe/20240805/Top/Clips/Leo_20240805_HoldTrial012_TopView.avi and data.\n",
      "Loading  D:/YuLab/Work/GPS/Video/Leo/GPS_12_ThreeFPHoldSRTProbe/20240805/Top/Clips/Leo_20240805_HoldTrial013_TopView.avi and data.\n",
      "Loading  D:/YuLab/Work/GPS/Video/Leo/GPS_12_ThreeFPHoldSRTProbe/20240805/Top/Clips/Leo_20240805_HoldTrial014_TopView.avi and data.\n",
      "Loading  D:/YuLab/Work/GPS/Video/Leo/GPS_12_ThreeFPHoldSRTProbe/20240805/Top/Clips/Leo_20240805_HoldTrial015_TopView.avi and data.\n",
      "Loading  D:/YuLab/Work/GPS/Video/Leo/GPS_12_ThreeFPHoldSRTProbe/20240805/Top/Clips/Leo_20240805_HoldTrial016_TopView.avi and data.\n",
      "Loading  D:/YuLab/Work/GPS/Video/Leo/GPS_12_ThreeFPHoldSRTProbe/20240805/Top/Clips/Leo_20240805_HoldTrial017_TopView.avi and data.\n",
      "Loading  D:/YuLab/Work/GPS/Video/Leo/GPS_12_ThreeFPHoldSRTProbe/20240805/Top/Clips/Leo_20240805_HoldTrial018_TopView.avi and data.\n",
      "Loading  D:/YuLab/Work/GPS/Video/Leo/GPS_12_ThreeFPHoldSRTProbe/20240805/Top/Clips/Leo_20240805_HoldTrial019_TopView.avi and data.\n",
      "Loading  D:/YuLab/Work/GPS/Video/Leo/GPS_12_ThreeFPHoldSRTProbe/20240805/Top/Clips/Leo_20240805_HoldTrial020_TopView.avi and data.\n",
      "Loading  D:/YuLab/Work/GPS/Video/Leo/GPS_12_ThreeFPHoldSRTProbe/20240805/Top/Clips/Leo_20240805_HoldTrial021_TopView.avi and data.\n",
      "Loading  D:/YuLab/Work/GPS/Video/Leo/GPS_12_ThreeFPHoldSRTProbe/20240805/Top/Clips/Leo_20240805_HoldTrial022_TopView.avi and data.\n",
      "Loading  D:/YuLab/Work/GPS/Video/Leo/GPS_12_ThreeFPHoldSRTProbe/20240805/Top/Clips/Leo_20240805_HoldTrial023_TopView.avi and data.\n",
      "Loading  D:/YuLab/Work/GPS/Video/Leo/GPS_12_ThreeFPHoldSRTProbe/20240805/Top/Clips/Leo_20240805_HoldTrial024_TopView.avi and data.\n",
      "Loading  D:/YuLab/Work/GPS/Video/Leo/GPS_12_ThreeFPHoldSRTProbe/20240805/Top/Clips/Leo_20240805_HoldTrial025_TopView.avi and data.\n",
      "Loading  D:/YuLab/Work/GPS/Video/Leo/GPS_12_ThreeFPHoldSRTProbe/20240805/Top/Clips/Leo_20240805_HoldTrial026_TopView.avi and data.\n",
      "Loading  D:/YuLab/Work/GPS/Video/Leo/GPS_12_ThreeFPHoldSRTProbe/20240805/Top/Clips/Leo_20240805_HoldTrial027_TopView.avi and data.\n",
      "Loading  D:/YuLab/Work/GPS/Video/Leo/GPS_12_ThreeFPHoldSRTProbe/20240805/Top/Clips/Leo_20240805_HoldTrial028_TopView.avi and data.\n",
      "Loading  D:/YuLab/Work/GPS/Video/Leo/GPS_12_ThreeFPHoldSRTProbe/20240805/Top/Clips/Leo_20240805_HoldTrial029_TopView.avi and data.\n",
      "Loading  D:/YuLab/Work/GPS/Video/Leo/GPS_12_ThreeFPHoldSRTProbe/20240805/Top/Clips/Leo_20240805_HoldTrial030_TopView.avi and data.\n",
      "Loading  D:/YuLab/Work/GPS/Video/Leo/GPS_12_ThreeFPHoldSRTProbe/20240805/Top/Clips/Leo_20240805_HoldTrial031_TopView.avi and data.\n",
      "Loading  D:/YuLab/Work/GPS/Video/Leo/GPS_12_ThreeFPHoldSRTProbe/20240805/Top/Clips/Leo_20240805_HoldTrial032_TopView.avi and data.\n",
      "Loading  D:/YuLab/Work/GPS/Video/Leo/GPS_12_ThreeFPHoldSRTProbe/20240805/Top/Clips/Leo_20240805_HoldTrial033_TopView.avi and data.\n",
      "Loading  D:/YuLab/Work/GPS/Video/Leo/GPS_12_ThreeFPHoldSRTProbe/20240805/Top/Clips/Leo_20240805_HoldTrial034_TopView.avi and data.\n",
      "Loading  D:/YuLab/Work/GPS/Video/Leo/GPS_12_ThreeFPHoldSRTProbe/20240805/Top/Clips/Leo_20240805_HoldTrial035_TopView.avi and data.\n",
      "Loading  D:/YuLab/Work/GPS/Video/Leo/GPS_12_ThreeFPHoldSRTProbe/20240805/Top/Clips/Leo_20240805_HoldTrial036_TopView.avi and data.\n",
      "Loading  D:/YuLab/Work/GPS/Video/Leo/GPS_12_ThreeFPHoldSRTProbe/20240805/Top/Clips/Leo_20240805_HoldTrial037_TopView.avi and data.\n",
      "Loading  D:/YuLab/Work/GPS/Video/Leo/GPS_12_ThreeFPHoldSRTProbe/20240805/Top/Clips/Leo_20240805_HoldTrial038_TopView.avi and data.\n",
      "Loading  D:/YuLab/Work/GPS/Video/Leo/GPS_12_ThreeFPHoldSRTProbe/20240805/Top/Clips/Leo_20240805_HoldTrial039_TopView.avi and data.\n",
      "Loading  D:/YuLab/Work/GPS/Video/Leo/GPS_12_ThreeFPHoldSRTProbe/20240805/Top/Clips/Leo_20240805_HoldTrial040_TopView.avi and data.\n",
      "Loading  D:/YuLab/Work/GPS/Video/Leo/GPS_12_ThreeFPHoldSRTProbe/20240805/Top/Clips/Leo_20240805_HoldTrial041_TopView.avi and data.\n",
      "Loading  D:/YuLab/Work/GPS/Video/Leo/GPS_12_ThreeFPHoldSRTProbe/20240805/Top/Clips/Leo_20240805_HoldTrial042_TopView.avi and data.\n",
      "Loading  D:/YuLab/Work/GPS/Video/Leo/GPS_12_ThreeFPHoldSRTProbe/20240824/Top/Clips/Leo_20240824_HoldTrial009_TopView.avi and data.\n",
      "Loading  D:/YuLab/Work/GPS/Video/Leo/GPS_12_ThreeFPHoldSRTProbe/20240824/Top/Clips/Leo_20240824_HoldTrial010_TopView.avi and data.\n",
      "Loading  D:/YuLab/Work/GPS/Video/Leo/GPS_12_ThreeFPHoldSRTProbe/20240824/Top/Clips/Leo_20240824_HoldTrial011_TopView.avi and data.\n",
      "Loading  D:/YuLab/Work/GPS/Video/Leo/GPS_12_ThreeFPHoldSRTProbe/20240824/Top/Clips/Leo_20240824_HoldTrial012_TopView.avi and data.\n",
      "Loading  D:/YuLab/Work/GPS/Video/Leo/GPS_12_ThreeFPHoldSRTProbe/20240824/Top/Clips/Leo_20240824_HoldTrial013_TopView.avi and data.\n",
      "Loading  D:/YuLab/Work/GPS/Video/Leo/GPS_12_ThreeFPHoldSRTProbe/20240824/Top/Clips/Leo_20240824_HoldTrial014_TopView.avi and data.\n",
      "Loading  D:/YuLab/Work/GPS/Video/Leo/GPS_12_ThreeFPHoldSRTProbe/20240824/Top/Clips/Leo_20240824_HoldTrial015_TopView.avi and data.\n",
      "Loading  D:/YuLab/Work/GPS/Video/Leo/GPS_12_ThreeFPHoldSRTProbe/20240824/Top/Clips/Leo_20240824_HoldTrial016_TopView.avi and data.\n",
      "Loading  D:/YuLab/Work/GPS/Video/Leo/GPS_12_ThreeFPHoldSRTProbe/20240824/Top/Clips/Leo_20240824_HoldTrial017_TopView.avi and data.\n",
      "Loading  D:/YuLab/Work/GPS/Video/Leo/GPS_12_ThreeFPHoldSRTProbe/20240824/Top/Clips/Leo_20240824_HoldTrial018_TopView.avi and data.\n",
      "Loading  D:/YuLab/Work/GPS/Video/Leo/GPS_12_ThreeFPHoldSRTProbe/20240824/Top/Clips/Leo_20240824_HoldTrial019_TopView.avi and data.\n",
      "Loading  D:/YuLab/Work/GPS/Video/Leo/GPS_12_ThreeFPHoldSRTProbe/20240824/Top/Clips/Leo_20240824_HoldTrial020_TopView.avi and data.\n",
      "Loading  D:/YuLab/Work/GPS/Video/Leo/GPS_12_ThreeFPHoldSRTProbe/20240824/Top/Clips/Leo_20240824_HoldTrial021_TopView.avi and data.\n",
      "Loading  D:/YuLab/Work/GPS/Video/Leo/GPS_12_ThreeFPHoldSRTProbe/20240824/Top/Clips/Leo_20240824_HoldTrial022_TopView.avi and data.\n",
      "Loading  D:/YuLab/Work/GPS/Video/Leo/GPS_12_ThreeFPHoldSRTProbe/20240824/Top/Clips/Leo_20240824_HoldTrial023_TopView.avi and data.\n",
      "Loading  D:/YuLab/Work/GPS/Video/Leo/GPS_12_ThreeFPHoldSRTProbe/20240824/Top/Clips/Leo_20240824_HoldTrial024_TopView.avi and data.\n",
      "Loading  D:/YuLab/Work/GPS/Video/Leo/GPS_12_ThreeFPHoldSRTProbe/20240824/Top/Clips/Leo_20240824_HoldTrial025_TopView.avi and data.\n",
      "Loading  D:/YuLab/Work/GPS/Video/Leo/GPS_12_ThreeFPHoldSRTProbe/20240824/Top/Clips/Leo_20240824_HoldTrial026_TopView.avi and data.\n",
      "Loading  D:/YuLab/Work/GPS/Video/Leo/GPS_12_ThreeFPHoldSRTProbe/20240824/Top/Clips/Leo_20240824_HoldTrial027_TopView.avi and data.\n",
      "Loading  D:/YuLab/Work/GPS/Video/Leo/GPS_12_ThreeFPHoldSRTProbe/20240824/Top/Clips/Leo_20240824_HoldTrial028_TopView.avi and data.\n",
      "Loading  D:/YuLab/Work/GPS/Video/Leo/GPS_12_ThreeFPHoldSRTProbe/20240824/Top/Clips/Leo_20240824_HoldTrial029_TopView.avi and data.\n",
      "Loading  D:/YuLab/Work/GPS/Video/Leo/GPS_12_ThreeFPHoldSRTProbe/20240824/Top/Clips/Leo_20240824_HoldTrial030_TopView.avi and data.\n",
      "Loading  D:/YuLab/Work/GPS/Video/Leo/GPS_12_ThreeFPHoldSRTProbe/20240824/Top/Clips/Leo_20240824_HoldTrial031_TopView.avi and data.\n",
      "Loading  D:/YuLab/Work/GPS/Video/Leo/GPS_12_ThreeFPHoldSRTProbe/20240824/Top/Clips/Leo_20240824_HoldTrial032_TopView.avi and data.\n",
      "Loading  D:/YuLab/Work/GPS/Video/Leo/GPS_12_ThreeFPHoldSRTProbe/20240824/Top/Clips/Leo_20240824_HoldTrial033_TopView.avi and data.\n",
      "Loading  D:/YuLab/Work/GPS/Video/Leo/GPS_12_ThreeFPHoldSRTProbe/20240824/Top/Clips/Leo_20240824_HoldTrial034_TopView.avi and data.\n",
      "Loading  D:/YuLab/Work/GPS/Video/Leo/GPS_12_ThreeFPHoldSRTProbe/20240824/Top/Clips/Leo_20240824_HoldTrial035_TopView.avi and data.\n",
      "Loading  D:/YuLab/Work/GPS/Video/Leo/GPS_12_ThreeFPHoldSRTProbe/20240824/Top/Clips/Leo_20240824_HoldTrial036_TopView.avi and data.\n",
      "Loading  D:/YuLab/Work/GPS/Video/Leo/GPS_12_ThreeFPHoldSRTProbe/20240824/Top/Clips/Leo_20240824_HoldTrial037_TopView.avi and data.\n",
      "Loading  D:/YuLab/Work/GPS/Video/Leo/GPS_12_ThreeFPHoldSRTProbe/20240824/Top/Clips/Leo_20240824_HoldTrial038_TopView.avi and data.\n",
      "Loading  D:/YuLab/Work/GPS/Video/Leo/GPS_12_ThreeFPHoldSRTProbe/20240824/Top/Clips/Leo_20240824_HoldTrial039_TopView.avi and data.\n",
      "Loading  D:/YuLab/Work/GPS/Video/Leo/GPS_12_ThreeFPHoldSRTProbe/20240824/Top/Clips/Leo_20240824_HoldTrial040_TopView.avi and data.\n",
      "Loading  D:/YuLab/Work/GPS/Video/Leo/GPS_12_ThreeFPHoldSRTProbe/20240824/Top/Clips/Leo_20240824_HoldTrial041_TopView.avi and data.\n",
      "Loading  D:/YuLab/Work/GPS/Video/Leo/GPS_12_ThreeFPHoldSRTProbe/20240824/Top/Clips/Leo_20240824_HoldTrial042_TopView.avi and data.\n",
      "Loading  D:/YuLab/Work/GPS/Video/Leo/GPS_12_ThreeFPHoldSRTProbe/20240824/Top/Clips/Leo_20240824_HoldTrial043_TopView.avi and data.\n",
      "Loading  D:/YuLab/Work/GPS/Video/Leo/GPS_12_ThreeFPHoldSRTProbe/20240824/Top/Clips/Leo_20240824_HoldTrial044_TopView.avi and data.\n",
      "Loading  D:/YuLab/Work/GPS/Video/Leo/GPS_12_ThreeFPHoldSRTProbe/20240824/Top/Clips/Leo_20240824_HoldTrial045_TopView.avi and data.\n",
      "Loading  D:/YuLab/Work/GPS/Video/Leo/GPS_12_ThreeFPHoldSRTProbe/20240824/Top/Clips/Leo_20240824_HoldTrial046_TopView.avi and data.\n",
      "Loading  D:/YuLab/Work/GPS/Video/Leo/GPS_12_ThreeFPHoldSRTProbe/20240824/Top/Clips/Leo_20240824_HoldTrial047_TopView.avi and data.\n",
      "Loading  D:/YuLab/Work/GPS/Video/Leo/GPS_12_ThreeFPHoldSRTProbe/20240824/Top/Clips/Leo_20240824_HoldTrial048_TopView.avi and data.\n",
      "Loading  D:/YuLab/Work/GPS/Video/Leo/GPS_12_ThreeFPHoldSRTProbe/20240824/Top/Clips/Leo_20240824_HoldTrial049_TopView.avi and data.\n",
      "Loading  D:/YuLab/Work/GPS/Video/Leo/GPS_12_ThreeFPHoldSRTProbe/20240824/Top/Clips/Leo_20240824_HoldTrial050_TopView.avi and data.\n",
      "Loading  D:/YuLab/Work/GPS/Video/Leo/GPS_12_ThreeFPHoldSRTProbe/20240824/Top/Clips/Leo_20240824_HoldTrial051_TopView.avi and data.\n",
      "Loading  D:/YuLab/Work/GPS/Video/Leo/GPS_12_ThreeFPHoldSRTProbe/20240824/Top/Clips/Leo_20240824_HoldTrial052_TopView.avi and data.\n",
      "Loading  D:/YuLab/Work/GPS/Video/Leo/GPS_12_ThreeFPHoldSRTProbe/20240824/Top/Clips/Leo_20240824_HoldTrial053_TopView.avi and data.\n",
      "Loading  D:/YuLab/Work/GPS/Video/Leo/GPS_12_ThreeFPHoldSRTProbe/20240824/Top/Clips/Leo_20240824_HoldTrial054_TopView.avi and data.\n",
      "Loading  D:/YuLab/Work/GPS/Video/Leo/GPS_12_ThreeFPHoldSRTProbe/20240824/Top/Clips/Leo_20240824_HoldTrial055_TopView.avi and data.\n",
      "Loading  D:/YuLab/Work/GPS/Video/Leo/GPS_12_ThreeFPHoldSRTProbe/20240824/Top/Clips/Leo_20240824_HoldTrial056_TopView.avi and data.\n",
      "Loading  D:/YuLab/Work/GPS/Video/Leo/GPS_12_ThreeFPHoldSRTProbe/20240824/Top/Clips/Leo_20240824_HoldTrial057_TopView.avi and data.\n",
      "Loading  D:/YuLab/Work/GPS/Video/Leo/GPS_12_ThreeFPHoldSRTProbe/20240824/Top/Clips/Leo_20240824_HoldTrial058_TopView.avi and data.\n",
      "Loading  D:/YuLab/Work/GPS/Video/Leo/GPS_12_ThreeFPHoldSRTProbe/20240824/Top/Clips/Leo_20240824_HoldTrial059_TopView.avi and data.\n",
      "Loading  D:/YuLab/Work/GPS/Video/Leo/GPS_12_ThreeFPHoldSRTProbe/20240824/Top/Clips/Leo_20240824_HoldTrial060_TopView.avi and data.\n",
      "Loading  D:/YuLab/Work/GPS/Video/Leo/GPS_12_ThreeFPHoldSRTProbe/20240824/Top/Clips/Leo_20240824_HoldTrial061_TopView.avi and data.\n",
      "Loading  D:/YuLab/Work/GPS/Video/Leo/GPS_12_ThreeFPHoldSRTProbe/20240824/Top/Clips/Leo_20240824_HoldTrial062_TopView.avi and data.\n",
      "Loading  D:/YuLab/Work/GPS/Video/Leo/GPS_12_ThreeFPHoldSRTProbe/20240824/Top/Clips/Leo_20240824_HoldTrial063_TopView.avi and data.\n",
      "Loading  D:/YuLab/Work/GPS/Video/Leo/GPS_12_ThreeFPHoldSRTProbe/20240824/Top/Clips/Leo_20240824_HoldTrial064_TopView.avi and data.\n",
      "Loading  D:/YuLab/Work/GPS/Video/Leo/GPS_12_ThreeFPHoldSRTProbe/20240824/Top/Clips/Leo_20240824_HoldTrial065_TopView.avi and data.\n",
      "Loading  D:/YuLab/Work/GPS/Video/Leo/GPS_12_ThreeFPHoldSRTProbe/20240824/Top/Clips/Leo_20240824_HoldTrial066_TopView.avi and data.\n",
      "Loading  D:/YuLab/Work/GPS/Video/Leo/GPS_12_ThreeFPHoldSRTProbe/20240824/Top/Clips/Leo_20240824_HoldTrial067_TopView.avi and data.\n",
      "Loading  D:/YuLab/Work/GPS/Video/Leo/GPS_12_ThreeFPHoldSRTProbe/20240824/Top/Clips/Leo_20240824_HoldTrial068_TopView.avi and data.\n",
      "Loading  D:/YuLab/Work/GPS/Video/Leo/GPS_12_ThreeFPHoldSRTProbe/20240824/Top/Clips/Leo_20240824_HoldTrial069_TopView.avi and data.\n",
      "Loading  D:/YuLab/Work/GPS/Video/Leo/GPS_12_ThreeFPHoldSRTProbe/20240824/Top/Clips/Leo_20240824_HoldTrial070_TopView.avi and data.\n",
      "Loading  D:/YuLab/Work/GPS/Video/Leo/GPS_12_ThreeFPHoldSRTProbe/20240824/Top/Clips/Leo_20240824_HoldTrial071_TopView.avi and data.\n",
      "Loading  D:/YuLab/Work/GPS/Video/Leo/GPS_12_ThreeFPHoldSRTProbe/20240824/Top/Clips/Leo_20240824_HoldTrial072_TopView.avi and data.\n",
      "Loading  D:/YuLab/Work/GPS/Video/Leo/GPS_12_ThreeFPHoldSRTProbe/20240824/Top/Clips/Leo_20240824_HoldTrial073_TopView.avi and data.\n",
      "Loading  D:/YuLab/Work/GPS/Video/Leo/GPS_12_ThreeFPHoldSRTProbe/20240824/Top/Clips/Leo_20240824_HoldTrial074_TopView.avi and data.\n",
      "Loading  D:/YuLab/Work/GPS/Video/Leo/GPS_12_ThreeFPHoldSRTProbe/20240824/Top/Clips/Leo_20240824_HoldTrial075_TopView.avi and data.\n",
      "Loading  D:/YuLab/Work/GPS/Video/Leo/GPS_12_ThreeFPHoldSRTProbe/20240824/Top/Clips/Leo_20240824_HoldTrial076_TopView.avi and data.\n",
      "Loading  D:/YuLab/Work/GPS/Video/Leo/GPS_12_ThreeFPHoldSRTProbe/20240824/Top/Clips/Leo_20240824_HoldTrial077_TopView.avi and data.\n",
      "Loading  D:/YuLab/Work/GPS/Video/Leo/GPS_12_ThreeFPHoldSRTProbe/20240824/Top/Clips/Leo_20240824_HoldTrial078_TopView.avi and data.\n",
      "Loading  D:/YuLab/Work/GPS/Video/Leo/GPS_12_ThreeFPHoldSRTProbe/20240824/Top/Clips/Leo_20240824_HoldTrial079_TopView.avi and data.\n",
      "Loading  D:/YuLab/Work/GPS/Video/Leo/GPS_12_ThreeFPHoldSRTProbe/20240824/Top/Clips/Leo_20240824_HoldTrial080_TopView.avi and data.\n",
      "Loading  D:/YuLab/Work/GPS/Video/Leo/GPS_12_ThreeFPHoldSRTProbe/20240824/Top/Clips/Leo_20240824_HoldTrial081_TopView.avi and data.\n",
      "Loading  D:/YuLab/Work/GPS/Video/Leo/GPS_12_ThreeFPHoldSRTProbe/20240824/Top/Clips/Leo_20240824_HoldTrial082_TopView.avi and data.\n",
      "Loading  D:/YuLab/Work/GPS/Video/Leo/GPS_12_ThreeFPHoldSRTProbe/20240824/Top/Clips/Leo_20240824_HoldTrial083_TopView.avi and data.\n",
      "Loading  D:/YuLab/Work/GPS/Video/Leo/GPS_12_ThreeFPHoldSRTProbe/20240824/Top/Clips/Leo_20240824_HoldTrial084_TopView.avi and data.\n",
      "Loading  D:/YuLab/Work/GPS/Video/Leo/GPS_12_ThreeFPHoldSRTProbe/20240824/Top/Clips/Leo_20240824_HoldTrial085_TopView.avi and data.\n",
      "Loading  D:/YuLab/Work/GPS/Video/Leo/GPS_12_ThreeFPHoldSRTProbe/20240824/Top/Clips/Leo_20240824_HoldTrial086_TopView.avi and data.\n",
      "Loading  D:/YuLab/Work/GPS/Video/Leo/GPS_12_ThreeFPHoldSRTProbe/20240824/Top/Clips/Leo_20240824_HoldTrial087_TopView.avi and data.\n",
      "Loading  D:/YuLab/Work/GPS/Video/Leo/GPS_12_ThreeFPHoldSRTProbe/20240824/Top/Clips/Leo_20240824_HoldTrial088_TopView.avi and data.\n",
      "Loading  D:/YuLab/Work/GPS/Video/Leo/GPS_12_ThreeFPHoldSRTProbe/20240824/Top/Clips/Leo_20240824_HoldTrial089_TopView.avi and data.\n",
      "Loading  D:/YuLab/Work/GPS/Video/Leo/GPS_12_ThreeFPHoldSRTProbe/20240824/Top/Clips/Leo_20240824_HoldTrial090_TopView.avi and data.\n",
      "Loading  D:/YuLab/Work/GPS/Video/Leo/GPS_12_ThreeFPHoldSRTProbe/20240824/Top/Clips/Leo_20240824_HoldTrial091_TopView.avi and data.\n",
      "Loading  D:/YuLab/Work/GPS/Video/Leo/GPS_12_ThreeFPHoldSRTProbe/20240824/Top/Clips/Leo_20240824_HoldTrial092_TopView.avi and data.\n",
      "Loading  D:/YuLab/Work/GPS/Video/Leo/GPS_12_ThreeFPHoldSRTProbe/20240824/Top/Clips/Leo_20240824_HoldTrial093_TopView.avi and data.\n",
      "Loading  D:/YuLab/Work/GPS/Video/Leo/GPS_12_ThreeFPHoldSRTProbe/20240824/Top/Clips/Leo_20240824_HoldTrial094_TopView.avi and data.\n",
      "Loading  D:/YuLab/Work/GPS/Video/Leo/GPS_12_ThreeFPHoldSRTProbe/20240824/Top/Clips/Leo_20240824_HoldTrial095_TopView.avi and data.\n",
      "Loading  D:/YuLab/Work/GPS/Video/Leo/GPS_12_ThreeFPHoldSRTProbe/20240824/Top/Clips/Leo_20240824_HoldTrial096_TopView.avi and data.\n",
      "Loading  D:/YuLab/Work/GPS/Video/Leo/GPS_12_ThreeFPHoldSRTProbe/20240824/Top/Clips/Leo_20240824_HoldTrial097_TopView.avi and data.\n",
      "Loading  D:/YuLab/Work/GPS/Video/Leo/GPS_12_ThreeFPHoldSRTProbe/20240824/Top/Clips/Leo_20240824_HoldTrial098_TopView.avi and data.\n",
      "Loading  D:/YuLab/Work/GPS/Video/Leo/GPS_12_ThreeFPHoldSRTProbe/20240824/Top/Clips/Leo_20240824_HoldTrial099_TopView.avi and data.\n",
      "Loading  D:/YuLab/Work/GPS/Video/Leo/GPS_12_ThreeFPHoldSRTProbe/20240824/Top/Clips/Leo_20240824_HoldTrial100_TopView.avi and data.\n",
      "Loading  D:/YuLab/Work/GPS/Video/Leo/GPS_12_ThreeFPHoldSRTProbe/20240824/Top/Clips/Leo_20240824_HoldTrial101_TopView.avi and data.\n",
      "Loading  D:/YuLab/Work/GPS/Video/Leo/GPS_12_ThreeFPHoldSRTProbe/20240824/Top/Clips/Leo_20240824_HoldTrial102_TopView.avi and data.\n",
      "Loading  D:/YuLab/Work/GPS/Video/Leo/GPS_12_ThreeFPHoldSRTProbe/20240824/Top/Clips/Leo_20240824_HoldTrial103_TopView.avi and data.\n",
      "Loading  D:/YuLab/Work/GPS/Video/Leo/GPS_12_ThreeFPHoldSRTProbe/20240824/Top/Clips/Leo_20240824_HoldTrial104_TopView.avi and data.\n",
      "Loading  D:/YuLab/Work/GPS/Video/Leo/GPS_12_ThreeFPHoldSRTProbe/20240824/Top/Clips/Leo_20240824_HoldTrial105_TopView.avi and data.\n",
      "Loading  D:/YuLab/Work/GPS/Video/Leo/GPS_12_ThreeFPHoldSRTProbe/20240824/Top/Clips/Leo_20240824_HoldTrial106_TopView.avi and data.\n",
      "Loading  D:/YuLab/Work/GPS/Video/Leo/GPS_12_ThreeFPHoldSRTProbe/20240824/Top/Clips/Leo_20240824_HoldTrial107_TopView.avi and data.\n",
      "Loading  D:/YuLab/Work/GPS/Video/Leo/GPS_12_ThreeFPHoldSRTProbe/20240824/Top/Clips/Leo_20240824_HoldTrial108_TopView.avi and data.\n",
      "Loading  D:/YuLab/Work/GPS/Video/Leo/GPS_12_ThreeFPHoldSRTProbe/20240824/Top/Clips/Leo_20240824_HoldTrial109_TopView.avi and data.\n",
      "Loading  D:/YuLab/Work/GPS/Video/Leo/GPS_12_ThreeFPHoldSRTProbe/20240824/Top/Clips/Leo_20240824_HoldTrial110_TopView.avi and data.\n",
      "Loading  D:/YuLab/Work/GPS/Video/Leo/GPS_12_ThreeFPHoldSRTProbe/20240824/Top/Clips/Leo_20240824_HoldTrial111_TopView.avi and data.\n",
      "Loading  D:/YuLab/Work/GPS/Video/Leo/GPS_12_ThreeFPHoldSRTProbe/20240824/Top/Clips/Leo_20240824_HoldTrial112_TopView.avi and data.\n",
      "Loading  D:/YuLab/Work/GPS/Video/Leo/GPS_12_ThreeFPHoldSRTProbe/20240824/Top/Clips/Leo_20240824_HoldTrial113_TopView.avi and data.\n",
      "Loading  D:/YuLab/Work/GPS/Video/Leo/GPS_12_ThreeFPHoldSRTProbe/20240824/Top/Clips/Leo_20240824_HoldTrial114_TopView.avi and data.\n",
      "Loading  D:/YuLab/Work/GPS/Video/Leo/GPS_12_ThreeFPHoldSRTProbe/20240824/Top/Clips/Leo_20240824_HoldTrial115_TopView.avi and data.\n",
      "Loading  D:/YuLab/Work/GPS/Video/Leo/GPS_12_ThreeFPHoldSRTProbe/20240824/Top/Clips/Leo_20240824_HoldTrial116_TopView.avi and data.\n",
      "Loading  D:/YuLab/Work/GPS/Video/Leo/GPS_12_ThreeFPHoldSRTProbe/20240824/Top/Clips/Leo_20240824_HoldTrial117_TopView.avi and data.\n",
      "Loading  D:/YuLab/Work/GPS/Video/Leo/GPS_12_ThreeFPHoldSRTProbe/20240824/Top/Clips/Leo_20240824_HoldTrial118_TopView.avi and data.\n",
      "Loading  D:/YuLab/Work/GPS/Video/Leo/GPS_12_ThreeFPHoldSRTProbe/20240824/Top/Clips/Leo_20240824_HoldTrial119_TopView.avi and data.\n",
      "Loading  D:/YuLab/Work/GPS/Video/Leo/GPS_12_ThreeFPHoldSRTProbe/20240824/Top/Clips/Leo_20240824_HoldTrial120_TopView.avi and data.\n",
      "Loading  D:/YuLab/Work/GPS/Video/Leo/GPS_12_ThreeFPHoldSRTProbe/20240824/Top/Clips/Leo_20240824_HoldTrial121_TopView.avi and data.\n",
      "Loading  D:/YuLab/Work/GPS/Video/Leo/GPS_12_ThreeFPHoldSRTProbe/20240824/Top/Clips/Leo_20240824_HoldTrial122_TopView.avi and data.\n",
      "Loading  D:/YuLab/Work/GPS/Video/Leo/GPS_12_ThreeFPHoldSRTProbe/20240824/Top/Clips/Leo_20240824_HoldTrial123_TopView.avi and data.\n",
      "Loading  D:/YuLab/Work/GPS/Video/Leo/GPS_12_ThreeFPHoldSRTProbe/20240824/Top/Clips/Leo_20240824_HoldTrial124_TopView.avi and data.\n",
      "Loading  D:/YuLab/Work/GPS/Video/Leo/GPS_12_ThreeFPHoldSRTProbe/20240824/Top/Clips/Leo_20240824_HoldTrial125_TopView.avi and data.\n",
      "Loading  D:/YuLab/Work/GPS/Video/Leo/GPS_12_ThreeFPHoldSRTProbe/20240824/Top/Clips/Leo_20240824_HoldTrial126_TopView.avi and data.\n",
      "Loading  D:/YuLab/Work/GPS/Video/Leo/GPS_12_ThreeFPHoldSRTProbe/20240824/Top/Clips/Leo_20240824_HoldTrial127_TopView.avi and data.\n",
      "Loading  D:/YuLab/Work/GPS/Video/Leo/GPS_12_ThreeFPHoldSRTProbe/20240824/Top/Clips/Leo_20240824_HoldTrial128_TopView.avi and data.\n",
      "Loading  D:/YuLab/Work/GPS/Video/Leo/GPS_12_ThreeFPHoldSRTProbe/20240824/Top/Clips/Leo_20240824_HoldTrial129_TopView.avi and data.\n",
      "Loading  D:/YuLab/Work/GPS/Video/Leo/GPS_12_ThreeFPHoldSRTProbe/20240824/Top/Clips/Leo_20240824_HoldTrial130_TopView.avi and data.\n",
      "Loading  D:/YuLab/Work/GPS/Video/Leo/GPS_12_ThreeFPHoldSRTProbe/20240824/Top/Clips/Leo_20240824_HoldTrial131_TopView.avi and data.\n",
      "Loading  D:/YuLab/Work/GPS/Video/Leo/GPS_12_ThreeFPHoldSRTProbe/20240824/Top/Clips/Leo_20240824_HoldTrial132_TopView.avi and data.\n",
      "Plots created! Please check the directory \"plot-poses\" within the video directory\n"
     ]
    }
   ],
   "source": [
    "deeplabcut.plot_trajectories(config=config_path, videos=video_files, videotype='avi', displayedbodyparts=['ear_left', 'ear_right', 'ear_base_left', 'ear_base_right', 'body_1'])\n",
    "#deeplabcut.plot_trajectories(config=config_path, videos=video_files, videotype='avi', displayedbodyparts=['ear_left', 'ear_right', 'body_1'])"
   ]
  }
 ],
 "metadata": {
  "kernelspec": {
   "display_name": "DEEPLABCUT",
   "language": "python",
   "name": "python3"
  },
  "language_info": {
   "codemirror_mode": {
    "name": "ipython",
    "version": 3
   },
   "file_extension": ".py",
   "mimetype": "text/x-python",
   "name": "python",
   "nbconvert_exporter": "python",
   "pygments_lexer": "ipython3",
   "version": "3.8.17"
  }
 },
 "nbformat": 4,
 "nbformat_minor": 2
}
