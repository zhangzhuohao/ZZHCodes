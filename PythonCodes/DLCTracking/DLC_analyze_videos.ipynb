{
 "cells": [
  {
   "cell_type": "code",
   "execution_count": 23,
   "metadata": {},
   "outputs": [],
   "source": [
    "import deeplabcut\n",
    "import tkinter as tk\n",
    "from tkinter import filedialog"
   ]
  },
  {
   "cell_type": "code",
   "execution_count": null,
   "metadata": {},
   "outputs": [],
   "source": [
    "config_path = r\"D:\\DLC\\MoradTopGPS-ZZH-2023-09-12\\config.yaml\""
   ]
  },
  {
   "cell_type": "markdown",
   "metadata": {},
   "source": [
    "### Add video files to be analyzed"
   ]
  },
  {
   "cell_type": "code",
   "execution_count": 25,
   "metadata": {},
   "outputs": [],
   "source": [
    "def select_files(initialdir=r\"D:\\YuLab\\Work\\GPS\\Video\", filetypes=[(\"avi file\", \"*.avi\"), (\"all\", \"*.*\")]):\n",
    "    root = tk.Tk()\n",
    "    root.withdraw\n",
    "    \n",
    "    files = filedialog.askopenfilenames(initialdir=initialdir, filetypes=filetypes)\n",
    "    files = list(files)\n",
    "    files.sort()\n",
    "    print(\"add {:d} video files\".format(len(files)))\n",
    "    root.destroy()\n",
    "\n",
    "    return files"
   ]
  },
  {
   "cell_type": "markdown",
   "metadata": {},
   "source": [
    "#### reset video list"
   ]
  },
  {
   "cell_type": "code",
   "execution_count": 26,
   "metadata": {},
   "outputs": [],
   "source": [
    "video_files = []"
   ]
  },
  {
   "cell_type": "markdown",
   "metadata": {},
   "source": [
    "#### add videos"
   ]
  },
  {
   "cell_type": "code",
   "execution_count": 28,
   "metadata": {},
   "outputs": [
    {
     "ename": "TclError",
     "evalue": "未指定的错误",
     "output_type": "error",
     "traceback": [
      "\u001b[1;31m---------------------------------------------------------------------------\u001b[0m",
      "\u001b[1;31mTclError\u001b[0m                                  Traceback (most recent call last)",
      "Cell \u001b[1;32mIn[28], line 1\u001b[0m\n\u001b[1;32m----> 1\u001b[0m video_files_to_add \u001b[38;5;241m=\u001b[39m \u001b[43mselect_files\u001b[49m\u001b[43m(\u001b[49m\u001b[43minitialdir\u001b[49m\u001b[38;5;241;43m=\u001b[39;49m\u001b[38;5;124;43mr\u001b[39;49m\u001b[38;5;124;43m\"\u001b[39;49m\u001b[38;5;124;43mD:\u001b[39;49m\u001b[38;5;124;43m\\\u001b[39;49m\u001b[38;5;124;43mYuLab\u001b[39;49m\u001b[38;5;124;43m\\\u001b[39;49m\u001b[38;5;124;43mWork\u001b[39;49m\u001b[38;5;124;43m\\\u001b[39;49m\u001b[38;5;124;43mGPS\u001b[39;49m\u001b[38;5;124;43m\\\u001b[39;49m\u001b[38;5;124;43mVideo\u001b[39;49m\u001b[38;5;124;43m\\\u001b[39;49m\u001b[38;5;124;43mNaveed\u001b[39;49m\u001b[38;5;124;43m\"\u001b[39;49m\u001b[43m)\u001b[49m\n\u001b[0;32m      3\u001b[0m video_files \u001b[38;5;241m=\u001b[39m video_files \u001b[38;5;241m+\u001b[39m \u001b[38;5;28mlist\u001b[39m(\u001b[38;5;28mset\u001b[39m(video_files_to_add))\n\u001b[0;32m      4\u001b[0m video_files \u001b[38;5;241m=\u001b[39m \u001b[38;5;28mlist\u001b[39m(\u001b[38;5;28mset\u001b[39m(video_files))\n",
      "Cell \u001b[1;32mIn[25], line 5\u001b[0m, in \u001b[0;36mselect_files\u001b[1;34m(initialdir, filetypes)\u001b[0m\n\u001b[0;32m      2\u001b[0m root \u001b[38;5;241m=\u001b[39m tk\u001b[38;5;241m.\u001b[39mTk()\n\u001b[0;32m      3\u001b[0m root\u001b[38;5;241m.\u001b[39mwithdraw\n\u001b[1;32m----> 5\u001b[0m files \u001b[38;5;241m=\u001b[39m \u001b[43mfiledialog\u001b[49m\u001b[38;5;241;43m.\u001b[39;49m\u001b[43maskopenfilenames\u001b[49m\u001b[43m(\u001b[49m\u001b[43minitialdir\u001b[49m\u001b[38;5;241;43m=\u001b[39;49m\u001b[43minitialdir\u001b[49m\u001b[43m,\u001b[49m\u001b[43m \u001b[49m\u001b[43mfiletypes\u001b[49m\u001b[38;5;241;43m=\u001b[39;49m\u001b[43mfiletypes\u001b[49m\u001b[43m)\u001b[49m\n\u001b[0;32m      6\u001b[0m files \u001b[38;5;241m=\u001b[39m \u001b[38;5;28mlist\u001b[39m(files)\n\u001b[0;32m      7\u001b[0m files\u001b[38;5;241m.\u001b[39msort()\n",
      "File \u001b[1;32mc:\\Users\\25019\\anaconda3\\envs\\DEEPLABCUT\\lib\\tkinter\\filedialog.py:394\u001b[0m, in \u001b[0;36maskopenfilenames\u001b[1;34m(**options)\u001b[0m\n\u001b[0;32m    388\u001b[0m \u001b[38;5;250m\u001b[39m\u001b[38;5;124;03m\"\"\"Ask for multiple filenames to open\u001b[39;00m\n\u001b[0;32m    389\u001b[0m \n\u001b[0;32m    390\u001b[0m \u001b[38;5;124;03mReturns a list of filenames or empty list if\u001b[39;00m\n\u001b[0;32m    391\u001b[0m \u001b[38;5;124;03mcancel button selected\u001b[39;00m\n\u001b[0;32m    392\u001b[0m \u001b[38;5;124;03m\"\"\"\u001b[39;00m\n\u001b[0;32m    393\u001b[0m options[\u001b[38;5;124m\"\u001b[39m\u001b[38;5;124mmultiple\u001b[39m\u001b[38;5;124m\"\u001b[39m]\u001b[38;5;241m=\u001b[39m\u001b[38;5;241m1\u001b[39m\n\u001b[1;32m--> 394\u001b[0m \u001b[38;5;28;01mreturn\u001b[39;00m \u001b[43mOpen\u001b[49m\u001b[43m(\u001b[49m\u001b[38;5;241;43m*\u001b[39;49m\u001b[38;5;241;43m*\u001b[39;49m\u001b[43moptions\u001b[49m\u001b[43m)\u001b[49m\u001b[38;5;241;43m.\u001b[39;49m\u001b[43mshow\u001b[49m\u001b[43m(\u001b[49m\u001b[43m)\u001b[49m\n",
      "File \u001b[1;32mc:\\Users\\25019\\anaconda3\\envs\\DEEPLABCUT\\lib\\tkinter\\commondialog.py:44\u001b[0m, in \u001b[0;36mDialog.show\u001b[1;34m(self, **options)\u001b[0m\n\u001b[0;32m     40\u001b[0m w \u001b[38;5;241m=\u001b[39m Frame(\u001b[38;5;28mself\u001b[39m\u001b[38;5;241m.\u001b[39mmaster)\n\u001b[0;32m     42\u001b[0m \u001b[38;5;28;01mtry\u001b[39;00m:\n\u001b[1;32m---> 44\u001b[0m     s \u001b[38;5;241m=\u001b[39m \u001b[43mw\u001b[49m\u001b[38;5;241;43m.\u001b[39;49m\u001b[43mtk\u001b[49m\u001b[38;5;241;43m.\u001b[39;49m\u001b[43mcall\u001b[49m\u001b[43m(\u001b[49m\u001b[38;5;28;43mself\u001b[39;49m\u001b[38;5;241;43m.\u001b[39;49m\u001b[43mcommand\u001b[49m\u001b[43m,\u001b[49m\u001b[43m \u001b[49m\u001b[38;5;241;43m*\u001b[39;49m\u001b[43mw\u001b[49m\u001b[38;5;241;43m.\u001b[39;49m\u001b[43m_options\u001b[49m\u001b[43m(\u001b[49m\u001b[38;5;28;43mself\u001b[39;49m\u001b[38;5;241;43m.\u001b[39;49m\u001b[43moptions\u001b[49m\u001b[43m)\u001b[49m\u001b[43m)\u001b[49m\n\u001b[0;32m     46\u001b[0m     s \u001b[38;5;241m=\u001b[39m \u001b[38;5;28mself\u001b[39m\u001b[38;5;241m.\u001b[39m_fixresult(w, s)\n\u001b[0;32m     48\u001b[0m \u001b[38;5;28;01mfinally\u001b[39;00m:\n",
      "\u001b[1;31mTclError\u001b[0m: 未指定的错误"
     ]
    }
   ],
   "source": [
    "video_files_to_add = select_files(initialdir=r\"D:\\YuLab\\Work\\GPS\\Video\\Naveed\")\n",
    "\n",
    "video_files = video_files + list(set(video_files_to_add))\n",
    "video_files = list(set(video_files))\n",
    "video_files.sort()\n",
    "\n",
    "print(\"now {:d} video files\".format(len(video_files)))"
   ]
  },
  {
   "cell_type": "markdown",
   "metadata": {},
   "source": [
    "### Analyze videos"
   ]
  },
  {
   "cell_type": "code",
   "execution_count": 17,
   "metadata": {},
   "outputs": [
    {
     "name": "stdout",
     "output_type": "stream",
     "text": [
      "Using snapshot-1200000 for model Z:\\DLC\\MoradInitGPS-ZZH-2024-11-09\\dlc-models\\iteration-0\\MoradInitGPSNov9-trainset95shuffle1\n"
     ]
    },
    {
     "name": "stderr",
     "output_type": "stream",
     "text": [
      "c:\\Users\\25019\\anaconda3\\envs\\DEEPLABCUT\\lib\\site-packages\\tensorflow\\python\\keras\\engine\\base_layer_v1.py:1694: UserWarning: `layer.apply` is deprecated and will be removed in a future version. Please use `layer.__call__` method instead.\n",
      "  warnings.warn('`layer.apply` is deprecated and '\n"
     ]
    },
    {
     "name": "stdout",
     "output_type": "stream",
     "text": [
      "Starting to analyze %  T:/YuLab/Video/Naveed/GPS_20_ThreeFPHoldSRTProbe/20240731/Init/Clips/Naveed_20240731_Trial011_InitView.avi\n",
      "Loading  T:/YuLab/Video/Naveed/GPS_20_ThreeFPHoldSRTProbe/20240731/Init/Clips/Naveed_20240731_Trial011_InitView.avi\n",
      "Duration of video [s]:  4.0 , recorded with  20.0 fps!\n",
      "Overall # of frames:  80  found with (before cropping) frame dimensions:  1280 1024\n",
      "Starting to extract posture\n"
     ]
    },
    {
     "name": "stderr",
     "output_type": "stream",
     "text": [
      "100%|██████████| 80/80 [00:12<00:00,  6.53it/s]\n"
     ]
    },
    {
     "name": "stdout",
     "output_type": "stream",
     "text": [
      "Saving results in T:\\YuLab\\Video\\Naveed\\GPS_20_ThreeFPHoldSRTProbe\\20240731\\Init\\Clips...\n",
      "Saving csv poses!\n",
      "Starting to analyze %  T:/YuLab/Video/Naveed/GPS_20_ThreeFPHoldSRTProbe/20240731/Init/Clips/Naveed_20240731_Trial012_InitView.avi\n",
      "Loading  T:/YuLab/Video/Naveed/GPS_20_ThreeFPHoldSRTProbe/20240731/Init/Clips/Naveed_20240731_Trial012_InitView.avi\n",
      "Duration of video [s]:  4.05 , recorded with  20.0 fps!\n",
      "Overall # of frames:  81  found with (before cropping) frame dimensions:  1280 1024\n",
      "Starting to extract posture\n"
     ]
    },
    {
     "name": "stderr",
     "output_type": "stream",
     "text": [
      "100%|██████████| 81/81 [00:05<00:00, 14.89it/s]\n"
     ]
    },
    {
     "name": "stdout",
     "output_type": "stream",
     "text": [
      "Saving results in T:\\YuLab\\Video\\Naveed\\GPS_20_ThreeFPHoldSRTProbe\\20240731\\Init\\Clips...\n",
      "Saving csv poses!\n",
      "Starting to analyze %  T:/YuLab/Video/Naveed/GPS_20_ThreeFPHoldSRTProbe/20240731/Init/Clips/Naveed_20240731_Trial013_InitView.avi\n",
      "Loading  T:/YuLab/Video/Naveed/GPS_20_ThreeFPHoldSRTProbe/20240731/Init/Clips/Naveed_20240731_Trial013_InitView.avi\n",
      "Duration of video [s]:  4.0 , recorded with  20.0 fps!\n",
      "Overall # of frames:  80  found with (before cropping) frame dimensions:  1280 1024\n",
      "Starting to extract posture\n"
     ]
    },
    {
     "name": "stderr",
     "output_type": "stream",
     "text": [
      "100%|██████████| 80/80 [00:05<00:00, 15.79it/s]\n"
     ]
    },
    {
     "name": "stdout",
     "output_type": "stream",
     "text": [
      "Saving results in T:\\YuLab\\Video\\Naveed\\GPS_20_ThreeFPHoldSRTProbe\\20240731\\Init\\Clips...\n",
      "Saving csv poses!\n",
      "Starting to analyze %  T:/YuLab/Video/Naveed/GPS_20_ThreeFPHoldSRTProbe/20240731/Init/Clips/Naveed_20240731_Trial014_InitView.avi\n",
      "Loading  T:/YuLab/Video/Naveed/GPS_20_ThreeFPHoldSRTProbe/20240731/Init/Clips/Naveed_20240731_Trial014_InitView.avi\n",
      "Duration of video [s]:  4.0 , recorded with  20.0 fps!\n",
      "Overall # of frames:  80  found with (before cropping) frame dimensions:  1280 1024\n",
      "Starting to extract posture\n"
     ]
    },
    {
     "name": "stderr",
     "output_type": "stream",
     "text": [
      "100%|██████████| 80/80 [00:05<00:00, 15.63it/s]\n"
     ]
    },
    {
     "name": "stdout",
     "output_type": "stream",
     "text": [
      "Saving results in T:\\YuLab\\Video\\Naveed\\GPS_20_ThreeFPHoldSRTProbe\\20240731\\Init\\Clips...\n",
      "Saving csv poses!\n",
      "Starting to analyze %  T:/YuLab/Video/Naveed/GPS_20_ThreeFPHoldSRTProbe/20240731/Init/Clips/Naveed_20240731_Trial015_InitView.avi\n",
      "Loading  T:/YuLab/Video/Naveed/GPS_20_ThreeFPHoldSRTProbe/20240731/Init/Clips/Naveed_20240731_Trial015_InitView.avi\n",
      "Duration of video [s]:  4.0 , recorded with  20.0 fps!\n",
      "Overall # of frames:  80  found with (before cropping) frame dimensions:  1280 1024\n",
      "Starting to extract posture\n"
     ]
    },
    {
     "name": "stderr",
     "output_type": "stream",
     "text": [
      "100%|██████████| 80/80 [00:05<00:00, 15.66it/s]\n"
     ]
    },
    {
     "name": "stdout",
     "output_type": "stream",
     "text": [
      "Saving results in T:\\YuLab\\Video\\Naveed\\GPS_20_ThreeFPHoldSRTProbe\\20240731\\Init\\Clips...\n",
      "Saving csv poses!\n",
      "Starting to analyze %  T:/YuLab/Video/Naveed/GPS_20_ThreeFPHoldSRTProbe/20240731/Init/Clips/Naveed_20240731_Trial016_InitView.avi\n",
      "Loading  T:/YuLab/Video/Naveed/GPS_20_ThreeFPHoldSRTProbe/20240731/Init/Clips/Naveed_20240731_Trial016_InitView.avi\n",
      "Duration of video [s]:  4.05 , recorded with  20.0 fps!\n",
      "Overall # of frames:  81  found with (before cropping) frame dimensions:  1280 1024\n",
      "Starting to extract posture\n"
     ]
    },
    {
     "name": "stderr",
     "output_type": "stream",
     "text": [
      "100%|██████████| 81/81 [00:05<00:00, 14.60it/s]\n"
     ]
    },
    {
     "name": "stdout",
     "output_type": "stream",
     "text": [
      "Saving results in T:\\YuLab\\Video\\Naveed\\GPS_20_ThreeFPHoldSRTProbe\\20240731\\Init\\Clips...\n",
      "Saving csv poses!\n",
      "Starting to analyze %  T:/YuLab/Video/Naveed/GPS_20_ThreeFPHoldSRTProbe/20240731/Init/Clips/Naveed_20240731_Trial017_InitView.avi\n",
      "Loading  T:/YuLab/Video/Naveed/GPS_20_ThreeFPHoldSRTProbe/20240731/Init/Clips/Naveed_20240731_Trial017_InitView.avi\n",
      "Duration of video [s]:  4.0 , recorded with  20.0 fps!\n",
      "Overall # of frames:  80  found with (before cropping) frame dimensions:  1280 1024\n",
      "Starting to extract posture\n"
     ]
    },
    {
     "name": "stderr",
     "output_type": "stream",
     "text": [
      "100%|██████████| 80/80 [00:05<00:00, 15.61it/s]\n"
     ]
    },
    {
     "name": "stdout",
     "output_type": "stream",
     "text": [
      "Saving results in T:\\YuLab\\Video\\Naveed\\GPS_20_ThreeFPHoldSRTProbe\\20240731\\Init\\Clips...\n",
      "Saving csv poses!\n",
      "Starting to analyze %  T:/YuLab/Video/Naveed/GPS_20_ThreeFPHoldSRTProbe/20240731/Init/Clips/Naveed_20240731_Trial018_InitView.avi\n",
      "Loading  T:/YuLab/Video/Naveed/GPS_20_ThreeFPHoldSRTProbe/20240731/Init/Clips/Naveed_20240731_Trial018_InitView.avi\n",
      "Duration of video [s]:  4.0 , recorded with  20.0 fps!\n",
      "Overall # of frames:  80  found with (before cropping) frame dimensions:  1280 1024\n",
      "Starting to extract posture\n"
     ]
    },
    {
     "name": "stderr",
     "output_type": "stream",
     "text": [
      "100%|██████████| 80/80 [00:05<00:00, 15.57it/s]\n"
     ]
    },
    {
     "name": "stdout",
     "output_type": "stream",
     "text": [
      "Saving results in T:\\YuLab\\Video\\Naveed\\GPS_20_ThreeFPHoldSRTProbe\\20240731\\Init\\Clips...\n",
      "Saving csv poses!\n",
      "Starting to analyze %  T:/YuLab/Video/Naveed/GPS_20_ThreeFPHoldSRTProbe/20240731/Init/Clips/Naveed_20240731_Trial019_InitView.avi\n",
      "Loading  T:/YuLab/Video/Naveed/GPS_20_ThreeFPHoldSRTProbe/20240731/Init/Clips/Naveed_20240731_Trial019_InitView.avi\n",
      "Duration of video [s]:  4.0 , recorded with  20.0 fps!\n",
      "Overall # of frames:  80  found with (before cropping) frame dimensions:  1280 1024\n",
      "Starting to extract posture\n"
     ]
    },
    {
     "name": "stderr",
     "output_type": "stream",
     "text": [
      "100%|██████████| 80/80 [00:05<00:00, 15.54it/s]\n"
     ]
    },
    {
     "name": "stdout",
     "output_type": "stream",
     "text": [
      "Saving results in T:\\YuLab\\Video\\Naveed\\GPS_20_ThreeFPHoldSRTProbe\\20240731\\Init\\Clips...\n",
      "Saving csv poses!\n",
      "Starting to analyze %  T:/YuLab/Video/Naveed/GPS_20_ThreeFPHoldSRTProbe/20240731/Init/Clips/Naveed_20240731_Trial020_InitView.avi\n",
      "Loading  T:/YuLab/Video/Naveed/GPS_20_ThreeFPHoldSRTProbe/20240731/Init/Clips/Naveed_20240731_Trial020_InitView.avi\n",
      "Duration of video [s]:  4.0 , recorded with  20.0 fps!\n",
      "Overall # of frames:  80  found with (before cropping) frame dimensions:  1280 1024\n",
      "Starting to extract posture\n"
     ]
    },
    {
     "name": "stderr",
     "output_type": "stream",
     "text": [
      "100%|██████████| 80/80 [00:05<00:00, 15.52it/s]\n"
     ]
    },
    {
     "name": "stdout",
     "output_type": "stream",
     "text": [
      "Saving results in T:\\YuLab\\Video\\Naveed\\GPS_20_ThreeFPHoldSRTProbe\\20240731\\Init\\Clips...\n",
      "Saving csv poses!\n",
      "Starting to analyze %  T:/YuLab/Video/Naveed/GPS_20_ThreeFPHoldSRTProbe/20240731/Init/Clips/Naveed_20240731_Trial021_InitView.avi\n",
      "Loading  T:/YuLab/Video/Naveed/GPS_20_ThreeFPHoldSRTProbe/20240731/Init/Clips/Naveed_20240731_Trial021_InitView.avi\n",
      "Duration of video [s]:  4.0 , recorded with  20.0 fps!\n",
      "Overall # of frames:  80  found with (before cropping) frame dimensions:  1280 1024\n",
      "Starting to extract posture\n"
     ]
    },
    {
     "name": "stderr",
     "output_type": "stream",
     "text": [
      "100%|██████████| 80/80 [00:05<00:00, 15.55it/s]\n"
     ]
    },
    {
     "name": "stdout",
     "output_type": "stream",
     "text": [
      "Saving results in T:\\YuLab\\Video\\Naveed\\GPS_20_ThreeFPHoldSRTProbe\\20240731\\Init\\Clips...\n",
      "Saving csv poses!\n",
      "Starting to analyze %  T:/YuLab/Video/Naveed/GPS_20_ThreeFPHoldSRTProbe/20240731/Init/Clips/Naveed_20240731_Trial022_InitView.avi\n",
      "Loading  T:/YuLab/Video/Naveed/GPS_20_ThreeFPHoldSRTProbe/20240731/Init/Clips/Naveed_20240731_Trial022_InitView.avi\n",
      "Duration of video [s]:  4.0 , recorded with  20.0 fps!\n",
      "Overall # of frames:  80  found with (before cropping) frame dimensions:  1280 1024\n",
      "Starting to extract posture\n"
     ]
    },
    {
     "name": "stderr",
     "output_type": "stream",
     "text": [
      "100%|██████████| 80/80 [00:05<00:00, 15.56it/s]\n"
     ]
    },
    {
     "name": "stdout",
     "output_type": "stream",
     "text": [
      "Saving results in T:\\YuLab\\Video\\Naveed\\GPS_20_ThreeFPHoldSRTProbe\\20240731\\Init\\Clips...\n",
      "Saving csv poses!\n",
      "Starting to analyze %  T:/YuLab/Video/Naveed/GPS_20_ThreeFPHoldSRTProbe/20240731/Init/Clips/Naveed_20240731_Trial023_InitView.avi\n",
      "Loading  T:/YuLab/Video/Naveed/GPS_20_ThreeFPHoldSRTProbe/20240731/Init/Clips/Naveed_20240731_Trial023_InitView.avi\n",
      "Duration of video [s]:  4.0 , recorded with  20.0 fps!\n",
      "Overall # of frames:  80  found with (before cropping) frame dimensions:  1280 1024\n",
      "Starting to extract posture\n"
     ]
    },
    {
     "name": "stderr",
     "output_type": "stream",
     "text": [
      "100%|██████████| 80/80 [00:05<00:00, 15.59it/s]\n"
     ]
    },
    {
     "name": "stdout",
     "output_type": "stream",
     "text": [
      "Saving results in T:\\YuLab\\Video\\Naveed\\GPS_20_ThreeFPHoldSRTProbe\\20240731\\Init\\Clips...\n",
      "Saving csv poses!\n",
      "Starting to analyze %  T:/YuLab/Video/Naveed/GPS_20_ThreeFPHoldSRTProbe/20240731/Init/Clips/Naveed_20240731_Trial024_InitView.avi\n",
      "Loading  T:/YuLab/Video/Naveed/GPS_20_ThreeFPHoldSRTProbe/20240731/Init/Clips/Naveed_20240731_Trial024_InitView.avi\n",
      "Duration of video [s]:  4.0 , recorded with  20.0 fps!\n",
      "Overall # of frames:  80  found with (before cropping) frame dimensions:  1280 1024\n",
      "Starting to extract posture\n"
     ]
    },
    {
     "name": "stderr",
     "output_type": "stream",
     "text": [
      "100%|██████████| 80/80 [00:05<00:00, 15.54it/s]\n"
     ]
    },
    {
     "name": "stdout",
     "output_type": "stream",
     "text": [
      "Saving results in T:\\YuLab\\Video\\Naveed\\GPS_20_ThreeFPHoldSRTProbe\\20240731\\Init\\Clips...\n",
      "Saving csv poses!\n",
      "Starting to analyze %  T:/YuLab/Video/Naveed/GPS_20_ThreeFPHoldSRTProbe/20240731/Init/Clips/Naveed_20240731_Trial025_InitView.avi\n",
      "Loading  T:/YuLab/Video/Naveed/GPS_20_ThreeFPHoldSRTProbe/20240731/Init/Clips/Naveed_20240731_Trial025_InitView.avi\n",
      "Duration of video [s]:  4.0 , recorded with  20.0 fps!\n",
      "Overall # of frames:  80  found with (before cropping) frame dimensions:  1280 1024\n",
      "Starting to extract posture\n"
     ]
    },
    {
     "name": "stderr",
     "output_type": "stream",
     "text": [
      "100%|██████████| 80/80 [00:05<00:00, 15.53it/s]\n"
     ]
    },
    {
     "name": "stdout",
     "output_type": "stream",
     "text": [
      "Saving results in T:\\YuLab\\Video\\Naveed\\GPS_20_ThreeFPHoldSRTProbe\\20240731\\Init\\Clips...\n",
      "Saving csv poses!\n",
      "Starting to analyze %  T:/YuLab/Video/Naveed/GPS_20_ThreeFPHoldSRTProbe/20240731/Init/Clips/Naveed_20240731_Trial026_InitView.avi\n",
      "Loading  T:/YuLab/Video/Naveed/GPS_20_ThreeFPHoldSRTProbe/20240731/Init/Clips/Naveed_20240731_Trial026_InitView.avi\n",
      "Duration of video [s]:  4.0 , recorded with  20.0 fps!\n",
      "Overall # of frames:  80  found with (before cropping) frame dimensions:  1280 1024\n",
      "Starting to extract posture\n"
     ]
    },
    {
     "name": "stderr",
     "output_type": "stream",
     "text": [
      "100%|██████████| 80/80 [00:05<00:00, 15.49it/s]\n"
     ]
    },
    {
     "name": "stdout",
     "output_type": "stream",
     "text": [
      "Saving results in T:\\YuLab\\Video\\Naveed\\GPS_20_ThreeFPHoldSRTProbe\\20240731\\Init\\Clips...\n",
      "Saving csv poses!\n",
      "Starting to analyze %  T:/YuLab/Video/Naveed/GPS_20_ThreeFPHoldSRTProbe/20240731/Init/Clips/Naveed_20240731_Trial027_InitView.avi\n",
      "Loading  T:/YuLab/Video/Naveed/GPS_20_ThreeFPHoldSRTProbe/20240731/Init/Clips/Naveed_20240731_Trial027_InitView.avi\n",
      "Duration of video [s]:  4.0 , recorded with  20.0 fps!\n",
      "Overall # of frames:  80  found with (before cropping) frame dimensions:  1280 1024\n",
      "Starting to extract posture\n"
     ]
    },
    {
     "name": "stderr",
     "output_type": "stream",
     "text": [
      "100%|██████████| 80/80 [00:05<00:00, 15.37it/s]\n"
     ]
    },
    {
     "name": "stdout",
     "output_type": "stream",
     "text": [
      "Saving results in T:\\YuLab\\Video\\Naveed\\GPS_20_ThreeFPHoldSRTProbe\\20240731\\Init\\Clips...\n",
      "Saving csv poses!\n",
      "Starting to analyze %  T:/YuLab/Video/Naveed/GPS_20_ThreeFPHoldSRTProbe/20240731/Init/Clips/Naveed_20240731_Trial028_InitView.avi\n",
      "Loading  T:/YuLab/Video/Naveed/GPS_20_ThreeFPHoldSRTProbe/20240731/Init/Clips/Naveed_20240731_Trial028_InitView.avi\n",
      "Duration of video [s]:  4.0 , recorded with  20.0 fps!\n",
      "Overall # of frames:  80  found with (before cropping) frame dimensions:  1280 1024\n",
      "Starting to extract posture\n"
     ]
    },
    {
     "name": "stderr",
     "output_type": "stream",
     "text": [
      "100%|██████████| 80/80 [00:05<00:00, 15.49it/s]\n"
     ]
    },
    {
     "name": "stdout",
     "output_type": "stream",
     "text": [
      "Saving results in T:\\YuLab\\Video\\Naveed\\GPS_20_ThreeFPHoldSRTProbe\\20240731\\Init\\Clips...\n",
      "Saving csv poses!\n",
      "Starting to analyze %  T:/YuLab/Video/Naveed/GPS_20_ThreeFPHoldSRTProbe/20240731/Init/Clips/Naveed_20240731_Trial029_InitView.avi\n",
      "Loading  T:/YuLab/Video/Naveed/GPS_20_ThreeFPHoldSRTProbe/20240731/Init/Clips/Naveed_20240731_Trial029_InitView.avi\n",
      "Duration of video [s]:  4.0 , recorded with  20.0 fps!\n",
      "Overall # of frames:  80  found with (before cropping) frame dimensions:  1280 1024\n",
      "Starting to extract posture\n"
     ]
    },
    {
     "name": "stderr",
     "output_type": "stream",
     "text": [
      "100%|██████████| 80/80 [00:05<00:00, 15.51it/s]\n"
     ]
    },
    {
     "name": "stdout",
     "output_type": "stream",
     "text": [
      "Saving results in T:\\YuLab\\Video\\Naveed\\GPS_20_ThreeFPHoldSRTProbe\\20240731\\Init\\Clips...\n",
      "Saving csv poses!\n",
      "Starting to analyze %  T:/YuLab/Video/Naveed/GPS_20_ThreeFPHoldSRTProbe/20240731/Init/Clips/Naveed_20240731_Trial030_InitView.avi\n",
      "Loading  T:/YuLab/Video/Naveed/GPS_20_ThreeFPHoldSRTProbe/20240731/Init/Clips/Naveed_20240731_Trial030_InitView.avi\n",
      "Duration of video [s]:  3.95 , recorded with  20.0 fps!\n",
      "Overall # of frames:  79  found with (before cropping) frame dimensions:  1280 1024\n",
      "Starting to extract posture\n"
     ]
    },
    {
     "name": "stderr",
     "output_type": "stream",
     "text": [
      "100%|██████████| 79/79 [00:05<00:00, 15.42it/s]\n"
     ]
    },
    {
     "name": "stdout",
     "output_type": "stream",
     "text": [
      "Saving results in T:\\YuLab\\Video\\Naveed\\GPS_20_ThreeFPHoldSRTProbe\\20240731\\Init\\Clips...\n",
      "Saving csv poses!\n",
      "Starting to analyze %  T:/YuLab/Video/Naveed/GPS_20_ThreeFPHoldSRTProbe/20240731/Init/Clips/Naveed_20240731_Trial031_InitView.avi\n",
      "Loading  T:/YuLab/Video/Naveed/GPS_20_ThreeFPHoldSRTProbe/20240731/Init/Clips/Naveed_20240731_Trial031_InitView.avi\n",
      "Duration of video [s]:  4.0 , recorded with  20.0 fps!\n",
      "Overall # of frames:  80  found with (before cropping) frame dimensions:  1280 1024\n",
      "Starting to extract posture\n"
     ]
    },
    {
     "name": "stderr",
     "output_type": "stream",
     "text": [
      "100%|██████████| 80/80 [00:05<00:00, 15.51it/s]\n"
     ]
    },
    {
     "name": "stdout",
     "output_type": "stream",
     "text": [
      "Saving results in T:\\YuLab\\Video\\Naveed\\GPS_20_ThreeFPHoldSRTProbe\\20240731\\Init\\Clips...\n",
      "Saving csv poses!\n",
      "Starting to analyze %  T:/YuLab/Video/Naveed/GPS_20_ThreeFPHoldSRTProbe/20240731/Init/Clips/Naveed_20240731_Trial032_InitView.avi\n",
      "Loading  T:/YuLab/Video/Naveed/GPS_20_ThreeFPHoldSRTProbe/20240731/Init/Clips/Naveed_20240731_Trial032_InitView.avi\n",
      "Duration of video [s]:  4.0 , recorded with  20.0 fps!\n",
      "Overall # of frames:  80  found with (before cropping) frame dimensions:  1280 1024\n",
      "Starting to extract posture\n"
     ]
    },
    {
     "name": "stderr",
     "output_type": "stream",
     "text": [
      "100%|██████████| 80/80 [00:05<00:00, 15.53it/s]\n"
     ]
    },
    {
     "name": "stdout",
     "output_type": "stream",
     "text": [
      "Saving results in T:\\YuLab\\Video\\Naveed\\GPS_20_ThreeFPHoldSRTProbe\\20240731\\Init\\Clips...\n",
      "Saving csv poses!\n",
      "Starting to analyze %  T:/YuLab/Video/Naveed/GPS_20_ThreeFPHoldSRTProbe/20240731/Init/Clips/Naveed_20240731_Trial033_InitView.avi\n",
      "Loading  T:/YuLab/Video/Naveed/GPS_20_ThreeFPHoldSRTProbe/20240731/Init/Clips/Naveed_20240731_Trial033_InitView.avi\n",
      "Duration of video [s]:  4.05 , recorded with  20.0 fps!\n",
      "Overall # of frames:  81  found with (before cropping) frame dimensions:  1280 1024\n",
      "Starting to extract posture\n"
     ]
    },
    {
     "name": "stderr",
     "output_type": "stream",
     "text": [
      "100%|██████████| 81/81 [00:05<00:00, 14.42it/s]\n"
     ]
    },
    {
     "name": "stdout",
     "output_type": "stream",
     "text": [
      "Saving results in T:\\YuLab\\Video\\Naveed\\GPS_20_ThreeFPHoldSRTProbe\\20240731\\Init\\Clips...\n",
      "Saving csv poses!\n",
      "Starting to analyze %  T:/YuLab/Video/Naveed/GPS_20_ThreeFPHoldSRTProbe/20240731/Init/Clips/Naveed_20240731_Trial034_InitView.avi\n",
      "Loading  T:/YuLab/Video/Naveed/GPS_20_ThreeFPHoldSRTProbe/20240731/Init/Clips/Naveed_20240731_Trial034_InitView.avi\n",
      "Duration of video [s]:  4.0 , recorded with  20.0 fps!\n",
      "Overall # of frames:  80  found with (before cropping) frame dimensions:  1280 1024\n",
      "Starting to extract posture\n"
     ]
    },
    {
     "name": "stderr",
     "output_type": "stream",
     "text": [
      "100%|██████████| 80/80 [00:05<00:00, 15.42it/s]\n"
     ]
    },
    {
     "name": "stdout",
     "output_type": "stream",
     "text": [
      "Saving results in T:\\YuLab\\Video\\Naveed\\GPS_20_ThreeFPHoldSRTProbe\\20240731\\Init\\Clips...\n",
      "Saving csv poses!\n",
      "Starting to analyze %  T:/YuLab/Video/Naveed/GPS_20_ThreeFPHoldSRTProbe/20240731/Init/Clips/Naveed_20240731_Trial035_InitView.avi\n",
      "Loading  T:/YuLab/Video/Naveed/GPS_20_ThreeFPHoldSRTProbe/20240731/Init/Clips/Naveed_20240731_Trial035_InitView.avi\n",
      "Duration of video [s]:  4.0 , recorded with  20.0 fps!\n",
      "Overall # of frames:  80  found with (before cropping) frame dimensions:  1280 1024\n",
      "Starting to extract posture\n"
     ]
    },
    {
     "name": "stderr",
     "output_type": "stream",
     "text": [
      "100%|██████████| 80/80 [00:05<00:00, 15.54it/s]\n"
     ]
    },
    {
     "name": "stdout",
     "output_type": "stream",
     "text": [
      "Saving results in T:\\YuLab\\Video\\Naveed\\GPS_20_ThreeFPHoldSRTProbe\\20240731\\Init\\Clips...\n",
      "Saving csv poses!\n",
      "Starting to analyze %  T:/YuLab/Video/Naveed/GPS_20_ThreeFPHoldSRTProbe/20240731/Init/Clips/Naveed_20240731_Trial036_InitView.avi\n",
      "Loading  T:/YuLab/Video/Naveed/GPS_20_ThreeFPHoldSRTProbe/20240731/Init/Clips/Naveed_20240731_Trial036_InitView.avi\n",
      "Duration of video [s]:  4.0 , recorded with  20.0 fps!\n",
      "Overall # of frames:  80  found with (before cropping) frame dimensions:  1280 1024\n",
      "Starting to extract posture\n"
     ]
    },
    {
     "name": "stderr",
     "output_type": "stream",
     "text": [
      "100%|██████████| 80/80 [00:05<00:00, 15.63it/s]\n"
     ]
    },
    {
     "name": "stdout",
     "output_type": "stream",
     "text": [
      "Saving results in T:\\YuLab\\Video\\Naveed\\GPS_20_ThreeFPHoldSRTProbe\\20240731\\Init\\Clips...\n",
      "Saving csv poses!\n",
      "Starting to analyze %  T:/YuLab/Video/Naveed/GPS_20_ThreeFPHoldSRTProbe/20240731/Init/Clips/Naveed_20240731_Trial038_InitView.avi\n",
      "Loading  T:/YuLab/Video/Naveed/GPS_20_ThreeFPHoldSRTProbe/20240731/Init/Clips/Naveed_20240731_Trial038_InitView.avi\n",
      "Duration of video [s]:  4.0 , recorded with  20.0 fps!\n",
      "Overall # of frames:  80  found with (before cropping) frame dimensions:  1280 1024\n",
      "Starting to extract posture\n"
     ]
    },
    {
     "name": "stderr",
     "output_type": "stream",
     "text": [
      "100%|██████████| 80/80 [00:05<00:00, 15.50it/s]\n"
     ]
    },
    {
     "name": "stdout",
     "output_type": "stream",
     "text": [
      "Saving results in T:\\YuLab\\Video\\Naveed\\GPS_20_ThreeFPHoldSRTProbe\\20240731\\Init\\Clips...\n",
      "Saving csv poses!\n",
      "Starting to analyze %  T:/YuLab/Video/Naveed/GPS_20_ThreeFPHoldSRTProbe/20240731/Init/Clips/Naveed_20240731_Trial039_InitView.avi\n",
      "Loading  T:/YuLab/Video/Naveed/GPS_20_ThreeFPHoldSRTProbe/20240731/Init/Clips/Naveed_20240731_Trial039_InitView.avi\n",
      "Duration of video [s]:  4.0 , recorded with  20.0 fps!\n",
      "Overall # of frames:  80  found with (before cropping) frame dimensions:  1280 1024\n",
      "Starting to extract posture\n"
     ]
    },
    {
     "name": "stderr",
     "output_type": "stream",
     "text": [
      "100%|██████████| 80/80 [00:05<00:00, 15.64it/s]\n"
     ]
    },
    {
     "name": "stdout",
     "output_type": "stream",
     "text": [
      "Saving results in T:\\YuLab\\Video\\Naveed\\GPS_20_ThreeFPHoldSRTProbe\\20240731\\Init\\Clips...\n",
      "Saving csv poses!\n",
      "Starting to analyze %  T:/YuLab/Video/Naveed/GPS_20_ThreeFPHoldSRTProbe/20240731/Init/Clips/Naveed_20240731_Trial040_InitView.avi\n",
      "Loading  T:/YuLab/Video/Naveed/GPS_20_ThreeFPHoldSRTProbe/20240731/Init/Clips/Naveed_20240731_Trial040_InitView.avi\n",
      "Duration of video [s]:  4.0 , recorded with  20.0 fps!\n",
      "Overall # of frames:  80  found with (before cropping) frame dimensions:  1280 1024\n",
      "Starting to extract posture\n"
     ]
    },
    {
     "name": "stderr",
     "output_type": "stream",
     "text": [
      "100%|██████████| 80/80 [00:05<00:00, 15.70it/s]\n"
     ]
    },
    {
     "name": "stdout",
     "output_type": "stream",
     "text": [
      "Saving results in T:\\YuLab\\Video\\Naveed\\GPS_20_ThreeFPHoldSRTProbe\\20240731\\Init\\Clips...\n",
      "Saving csv poses!\n",
      "Starting to analyze %  T:/YuLab/Video/Naveed/GPS_20_ThreeFPHoldSRTProbe/20240731/Init/Clips/Naveed_20240731_Trial041_InitView.avi\n",
      "Loading  T:/YuLab/Video/Naveed/GPS_20_ThreeFPHoldSRTProbe/20240731/Init/Clips/Naveed_20240731_Trial041_InitView.avi\n",
      "Duration of video [s]:  4.0 , recorded with  20.0 fps!\n",
      "Overall # of frames:  80  found with (before cropping) frame dimensions:  1280 1024\n",
      "Starting to extract posture\n"
     ]
    },
    {
     "name": "stderr",
     "output_type": "stream",
     "text": [
      "100%|██████████| 80/80 [00:05<00:00, 15.54it/s]\n"
     ]
    },
    {
     "name": "stdout",
     "output_type": "stream",
     "text": [
      "Saving results in T:\\YuLab\\Video\\Naveed\\GPS_20_ThreeFPHoldSRTProbe\\20240731\\Init\\Clips...\n",
      "Saving csv poses!\n",
      "Starting to analyze %  T:/YuLab/Video/Naveed/GPS_20_ThreeFPHoldSRTProbe/20240731/Init/Clips/Naveed_20240731_Trial042_InitView.avi\n",
      "Loading  T:/YuLab/Video/Naveed/GPS_20_ThreeFPHoldSRTProbe/20240731/Init/Clips/Naveed_20240731_Trial042_InitView.avi\n",
      "Duration of video [s]:  4.05 , recorded with  20.0 fps!\n",
      "Overall # of frames:  81  found with (before cropping) frame dimensions:  1280 1024\n",
      "Starting to extract posture\n"
     ]
    },
    {
     "name": "stderr",
     "output_type": "stream",
     "text": [
      "100%|██████████| 81/81 [00:05<00:00, 14.51it/s]\n"
     ]
    },
    {
     "name": "stdout",
     "output_type": "stream",
     "text": [
      "Saving results in T:\\YuLab\\Video\\Naveed\\GPS_20_ThreeFPHoldSRTProbe\\20240731\\Init\\Clips...\n",
      "Saving csv poses!\n",
      "Starting to analyze %  T:/YuLab/Video/Naveed/GPS_20_ThreeFPHoldSRTProbe/20240731/Init/Clips/Naveed_20240731_Trial043_InitView.avi\n",
      "Loading  T:/YuLab/Video/Naveed/GPS_20_ThreeFPHoldSRTProbe/20240731/Init/Clips/Naveed_20240731_Trial043_InitView.avi\n",
      "Duration of video [s]:  4.0 , recorded with  20.0 fps!\n",
      "Overall # of frames:  80  found with (before cropping) frame dimensions:  1280 1024\n",
      "Starting to extract posture\n"
     ]
    },
    {
     "name": "stderr",
     "output_type": "stream",
     "text": [
      "100%|██████████| 80/80 [00:05<00:00, 15.48it/s]\n"
     ]
    },
    {
     "name": "stdout",
     "output_type": "stream",
     "text": [
      "Saving results in T:\\YuLab\\Video\\Naveed\\GPS_20_ThreeFPHoldSRTProbe\\20240731\\Init\\Clips...\n",
      "Saving csv poses!\n",
      "Starting to analyze %  T:/YuLab/Video/Naveed/GPS_20_ThreeFPHoldSRTProbe/20240731/Init/Clips/Naveed_20240731_Trial044_InitView.avi\n",
      "Loading  T:/YuLab/Video/Naveed/GPS_20_ThreeFPHoldSRTProbe/20240731/Init/Clips/Naveed_20240731_Trial044_InitView.avi\n",
      "Duration of video [s]:  4.0 , recorded with  20.0 fps!\n",
      "Overall # of frames:  80  found with (before cropping) frame dimensions:  1280 1024\n",
      "Starting to extract posture\n"
     ]
    },
    {
     "name": "stderr",
     "output_type": "stream",
     "text": [
      "100%|██████████| 80/80 [00:05<00:00, 15.51it/s]\n"
     ]
    },
    {
     "name": "stdout",
     "output_type": "stream",
     "text": [
      "Saving results in T:\\YuLab\\Video\\Naveed\\GPS_20_ThreeFPHoldSRTProbe\\20240731\\Init\\Clips...\n",
      "Saving csv poses!\n",
      "Starting to analyze %  T:/YuLab/Video/Naveed/GPS_20_ThreeFPHoldSRTProbe/20240731/Init/Clips/Naveed_20240731_Trial045_InitView.avi\n",
      "Loading  T:/YuLab/Video/Naveed/GPS_20_ThreeFPHoldSRTProbe/20240731/Init/Clips/Naveed_20240731_Trial045_InitView.avi\n",
      "Duration of video [s]:  4.0 , recorded with  20.0 fps!\n",
      "Overall # of frames:  80  found with (before cropping) frame dimensions:  1280 1024\n",
      "Starting to extract posture\n"
     ]
    },
    {
     "name": "stderr",
     "output_type": "stream",
     "text": [
      "100%|██████████| 80/80 [00:05<00:00, 15.27it/s]\n"
     ]
    },
    {
     "name": "stdout",
     "output_type": "stream",
     "text": [
      "Saving results in T:\\YuLab\\Video\\Naveed\\GPS_20_ThreeFPHoldSRTProbe\\20240731\\Init\\Clips...\n",
      "Saving csv poses!\n",
      "Starting to analyze %  T:/YuLab/Video/Naveed/GPS_20_ThreeFPHoldSRTProbe/20240731/Init/Clips/Naveed_20240731_Trial046_InitView.avi\n",
      "Loading  T:/YuLab/Video/Naveed/GPS_20_ThreeFPHoldSRTProbe/20240731/Init/Clips/Naveed_20240731_Trial046_InitView.avi\n",
      "Duration of video [s]:  4.0 , recorded with  20.0 fps!\n",
      "Overall # of frames:  80  found with (before cropping) frame dimensions:  1280 1024\n",
      "Starting to extract posture\n"
     ]
    },
    {
     "name": "stderr",
     "output_type": "stream",
     "text": [
      "100%|██████████| 80/80 [00:05<00:00, 14.81it/s]\n"
     ]
    },
    {
     "name": "stdout",
     "output_type": "stream",
     "text": [
      "Saving results in T:\\YuLab\\Video\\Naveed\\GPS_20_ThreeFPHoldSRTProbe\\20240731\\Init\\Clips...\n",
      "Saving csv poses!\n",
      "Starting to analyze %  T:/YuLab/Video/Naveed/GPS_20_ThreeFPHoldSRTProbe/20240731/Init/Clips/Naveed_20240731_Trial047_InitView.avi\n",
      "Loading  T:/YuLab/Video/Naveed/GPS_20_ThreeFPHoldSRTProbe/20240731/Init/Clips/Naveed_20240731_Trial047_InitView.avi\n",
      "Duration of video [s]:  4.0 , recorded with  20.0 fps!\n",
      "Overall # of frames:  80  found with (before cropping) frame dimensions:  1280 1024\n",
      "Starting to extract posture\n"
     ]
    },
    {
     "name": "stderr",
     "output_type": "stream",
     "text": [
      "100%|██████████| 80/80 [00:05<00:00, 14.91it/s]\n"
     ]
    },
    {
     "name": "stdout",
     "output_type": "stream",
     "text": [
      "Saving results in T:\\YuLab\\Video\\Naveed\\GPS_20_ThreeFPHoldSRTProbe\\20240731\\Init\\Clips...\n",
      "Saving csv poses!\n",
      "Starting to analyze %  T:/YuLab/Video/Naveed/GPS_20_ThreeFPHoldSRTProbe/20240731/Init/Clips/Naveed_20240731_Trial048_InitView.avi\n",
      "Loading  T:/YuLab/Video/Naveed/GPS_20_ThreeFPHoldSRTProbe/20240731/Init/Clips/Naveed_20240731_Trial048_InitView.avi\n",
      "Duration of video [s]:  4.0 , recorded with  20.0 fps!\n",
      "Overall # of frames:  80  found with (before cropping) frame dimensions:  1280 1024\n",
      "Starting to extract posture\n"
     ]
    },
    {
     "name": "stderr",
     "output_type": "stream",
     "text": [
      "100%|██████████| 80/80 [00:05<00:00, 15.16it/s]\n"
     ]
    },
    {
     "name": "stdout",
     "output_type": "stream",
     "text": [
      "Saving results in T:\\YuLab\\Video\\Naveed\\GPS_20_ThreeFPHoldSRTProbe\\20240731\\Init\\Clips...\n",
      "Saving csv poses!\n",
      "Starting to analyze %  T:/YuLab/Video/Naveed/GPS_20_ThreeFPHoldSRTProbe/20240731/Init/Clips/Naveed_20240731_Trial049_InitView.avi\n",
      "Loading  T:/YuLab/Video/Naveed/GPS_20_ThreeFPHoldSRTProbe/20240731/Init/Clips/Naveed_20240731_Trial049_InitView.avi\n",
      "Duration of video [s]:  4.0 , recorded with  20.0 fps!\n",
      "Overall # of frames:  80  found with (before cropping) frame dimensions:  1280 1024\n",
      "Starting to extract posture\n"
     ]
    },
    {
     "name": "stderr",
     "output_type": "stream",
     "text": [
      "100%|██████████| 80/80 [00:05<00:00, 14.91it/s]\n"
     ]
    },
    {
     "name": "stdout",
     "output_type": "stream",
     "text": [
      "Saving results in T:\\YuLab\\Video\\Naveed\\GPS_20_ThreeFPHoldSRTProbe\\20240731\\Init\\Clips...\n",
      "Saving csv poses!\n",
      "Starting to analyze %  T:/YuLab/Video/Naveed/GPS_20_ThreeFPHoldSRTProbe/20240731/Init/Clips/Naveed_20240731_Trial050_InitView.avi\n",
      "Loading  T:/YuLab/Video/Naveed/GPS_20_ThreeFPHoldSRTProbe/20240731/Init/Clips/Naveed_20240731_Trial050_InitView.avi\n",
      "Duration of video [s]:  3.95 , recorded with  20.0 fps!\n",
      "Overall # of frames:  79  found with (before cropping) frame dimensions:  1280 1024\n",
      "Starting to extract posture\n"
     ]
    },
    {
     "name": "stderr",
     "output_type": "stream",
     "text": [
      "100%|██████████| 79/79 [00:05<00:00, 14.53it/s]\n"
     ]
    },
    {
     "name": "stdout",
     "output_type": "stream",
     "text": [
      "Saving results in T:\\YuLab\\Video\\Naveed\\GPS_20_ThreeFPHoldSRTProbe\\20240731\\Init\\Clips...\n",
      "Saving csv poses!\n",
      "Starting to analyze %  T:/YuLab/Video/Naveed/GPS_20_ThreeFPHoldSRTProbe/20240731/Init/Clips/Naveed_20240731_Trial051_InitView.avi\n",
      "Loading  T:/YuLab/Video/Naveed/GPS_20_ThreeFPHoldSRTProbe/20240731/Init/Clips/Naveed_20240731_Trial051_InitView.avi\n",
      "Duration of video [s]:  4.05 , recorded with  20.0 fps!\n",
      "Overall # of frames:  81  found with (before cropping) frame dimensions:  1280 1024\n",
      "Starting to extract posture\n"
     ]
    },
    {
     "name": "stderr",
     "output_type": "stream",
     "text": [
      "100%|██████████| 81/81 [00:06<00:00, 13.47it/s]\n"
     ]
    },
    {
     "name": "stdout",
     "output_type": "stream",
     "text": [
      "Saving results in T:\\YuLab\\Video\\Naveed\\GPS_20_ThreeFPHoldSRTProbe\\20240731\\Init\\Clips...\n",
      "Saving csv poses!\n",
      "Starting to analyze %  T:/YuLab/Video/Naveed/GPS_20_ThreeFPHoldSRTProbe/20240731/Init/Clips/Naveed_20240731_Trial052_InitView.avi\n",
      "Loading  T:/YuLab/Video/Naveed/GPS_20_ThreeFPHoldSRTProbe/20240731/Init/Clips/Naveed_20240731_Trial052_InitView.avi\n",
      "Duration of video [s]:  4.0 , recorded with  20.0 fps!\n",
      "Overall # of frames:  80  found with (before cropping) frame dimensions:  1280 1024\n",
      "Starting to extract posture\n"
     ]
    },
    {
     "name": "stderr",
     "output_type": "stream",
     "text": [
      "100%|██████████| 80/80 [00:05<00:00, 14.68it/s]\n"
     ]
    },
    {
     "name": "stdout",
     "output_type": "stream",
     "text": [
      "Saving results in T:\\YuLab\\Video\\Naveed\\GPS_20_ThreeFPHoldSRTProbe\\20240731\\Init\\Clips...\n",
      "Saving csv poses!\n",
      "Starting to analyze %  T:/YuLab/Video/Naveed/GPS_20_ThreeFPHoldSRTProbe/20240731/Init/Clips/Naveed_20240731_Trial053_InitView.avi\n",
      "Loading  T:/YuLab/Video/Naveed/GPS_20_ThreeFPHoldSRTProbe/20240731/Init/Clips/Naveed_20240731_Trial053_InitView.avi\n",
      "Duration of video [s]:  4.0 , recorded with  20.0 fps!\n",
      "Overall # of frames:  80  found with (before cropping) frame dimensions:  1280 1024\n",
      "Starting to extract posture\n"
     ]
    },
    {
     "name": "stderr",
     "output_type": "stream",
     "text": [
      "100%|██████████| 80/80 [00:05<00:00, 14.27it/s]\n"
     ]
    },
    {
     "name": "stdout",
     "output_type": "stream",
     "text": [
      "Saving results in T:\\YuLab\\Video\\Naveed\\GPS_20_ThreeFPHoldSRTProbe\\20240731\\Init\\Clips...\n",
      "Saving csv poses!\n",
      "Starting to analyze %  T:/YuLab/Video/Naveed/GPS_20_ThreeFPHoldSRTProbe/20240731/Init/Clips/Naveed_20240731_Trial054_InitView.avi\n",
      "Loading  T:/YuLab/Video/Naveed/GPS_20_ThreeFPHoldSRTProbe/20240731/Init/Clips/Naveed_20240731_Trial054_InitView.avi\n",
      "Duration of video [s]:  4.0 , recorded with  20.0 fps!\n",
      "Overall # of frames:  80  found with (before cropping) frame dimensions:  1280 1024\n",
      "Starting to extract posture\n"
     ]
    },
    {
     "name": "stderr",
     "output_type": "stream",
     "text": [
      "100%|██████████| 80/80 [00:05<00:00, 14.51it/s]\n"
     ]
    },
    {
     "name": "stdout",
     "output_type": "stream",
     "text": [
      "Saving results in T:\\YuLab\\Video\\Naveed\\GPS_20_ThreeFPHoldSRTProbe\\20240731\\Init\\Clips...\n",
      "Saving csv poses!\n",
      "Starting to analyze %  T:/YuLab/Video/Naveed/GPS_20_ThreeFPHoldSRTProbe/20240731/Init/Clips/Naveed_20240731_Trial055_InitView.avi\n",
      "Loading  T:/YuLab/Video/Naveed/GPS_20_ThreeFPHoldSRTProbe/20240731/Init/Clips/Naveed_20240731_Trial055_InitView.avi\n",
      "Duration of video [s]:  3.95 , recorded with  20.0 fps!\n",
      "Overall # of frames:  79  found with (before cropping) frame dimensions:  1280 1024\n",
      "Starting to extract posture\n"
     ]
    },
    {
     "name": "stderr",
     "output_type": "stream",
     "text": [
      "100%|██████████| 79/79 [00:05<00:00, 14.44it/s]\n"
     ]
    },
    {
     "name": "stdout",
     "output_type": "stream",
     "text": [
      "Saving results in T:\\YuLab\\Video\\Naveed\\GPS_20_ThreeFPHoldSRTProbe\\20240731\\Init\\Clips...\n",
      "Saving csv poses!\n",
      "Starting to analyze %  T:/YuLab/Video/Naveed/GPS_20_ThreeFPHoldSRTProbe/20240731/Init/Clips/Naveed_20240731_Trial056_InitView.avi\n",
      "Loading  T:/YuLab/Video/Naveed/GPS_20_ThreeFPHoldSRTProbe/20240731/Init/Clips/Naveed_20240731_Trial056_InitView.avi\n",
      "Duration of video [s]:  4.0 , recorded with  20.0 fps!\n",
      "Overall # of frames:  80  found with (before cropping) frame dimensions:  1280 1024\n",
      "Starting to extract posture\n"
     ]
    },
    {
     "name": "stderr",
     "output_type": "stream",
     "text": [
      "100%|██████████| 80/80 [00:05<00:00, 14.74it/s]\n"
     ]
    },
    {
     "name": "stdout",
     "output_type": "stream",
     "text": [
      "Saving results in T:\\YuLab\\Video\\Naveed\\GPS_20_ThreeFPHoldSRTProbe\\20240731\\Init\\Clips...\n",
      "Saving csv poses!\n",
      "Starting to analyze %  T:/YuLab/Video/Naveed/GPS_20_ThreeFPHoldSRTProbe/20240731/Init/Clips/Naveed_20240731_Trial057_InitView.avi\n",
      "Loading  T:/YuLab/Video/Naveed/GPS_20_ThreeFPHoldSRTProbe/20240731/Init/Clips/Naveed_20240731_Trial057_InitView.avi\n",
      "Duration of video [s]:  4.0 , recorded with  20.0 fps!\n",
      "Overall # of frames:  80  found with (before cropping) frame dimensions:  1280 1024\n",
      "Starting to extract posture\n"
     ]
    },
    {
     "name": "stderr",
     "output_type": "stream",
     "text": [
      "100%|██████████| 80/80 [00:05<00:00, 14.37it/s]\n"
     ]
    },
    {
     "name": "stdout",
     "output_type": "stream",
     "text": [
      "Saving results in T:\\YuLab\\Video\\Naveed\\GPS_20_ThreeFPHoldSRTProbe\\20240731\\Init\\Clips...\n",
      "Saving csv poses!\n",
      "Starting to analyze %  T:/YuLab/Video/Naveed/GPS_20_ThreeFPHoldSRTProbe/20240731/Init/Clips/Naveed_20240731_Trial058_InitView.avi\n",
      "Loading  T:/YuLab/Video/Naveed/GPS_20_ThreeFPHoldSRTProbe/20240731/Init/Clips/Naveed_20240731_Trial058_InitView.avi\n",
      "Duration of video [s]:  4.0 , recorded with  20.0 fps!\n",
      "Overall # of frames:  80  found with (before cropping) frame dimensions:  1280 1024\n",
      "Starting to extract posture\n"
     ]
    },
    {
     "name": "stderr",
     "output_type": "stream",
     "text": [
      "100%|██████████| 80/80 [00:05<00:00, 14.48it/s]\n"
     ]
    },
    {
     "name": "stdout",
     "output_type": "stream",
     "text": [
      "Saving results in T:\\YuLab\\Video\\Naveed\\GPS_20_ThreeFPHoldSRTProbe\\20240731\\Init\\Clips...\n",
      "Saving csv poses!\n",
      "Starting to analyze %  T:/YuLab/Video/Naveed/GPS_20_ThreeFPHoldSRTProbe/20240731/Init/Clips/Naveed_20240731_Trial059_InitView.avi\n",
      "Loading  T:/YuLab/Video/Naveed/GPS_20_ThreeFPHoldSRTProbe/20240731/Init/Clips/Naveed_20240731_Trial059_InitView.avi\n",
      "Duration of video [s]:  4.0 , recorded with  20.0 fps!\n",
      "Overall # of frames:  80  found with (before cropping) frame dimensions:  1280 1024\n",
      "Starting to extract posture\n"
     ]
    },
    {
     "name": "stderr",
     "output_type": "stream",
     "text": [
      "100%|██████████| 80/80 [00:05<00:00, 14.56it/s]\n"
     ]
    },
    {
     "name": "stdout",
     "output_type": "stream",
     "text": [
      "Saving results in T:\\YuLab\\Video\\Naveed\\GPS_20_ThreeFPHoldSRTProbe\\20240731\\Init\\Clips...\n",
      "Saving csv poses!\n",
      "Starting to analyze %  T:/YuLab/Video/Naveed/GPS_20_ThreeFPHoldSRTProbe/20240731/Init/Clips/Naveed_20240731_Trial060_InitView.avi\n",
      "Loading  T:/YuLab/Video/Naveed/GPS_20_ThreeFPHoldSRTProbe/20240731/Init/Clips/Naveed_20240731_Trial060_InitView.avi\n",
      "Duration of video [s]:  4.0 , recorded with  20.0 fps!\n",
      "Overall # of frames:  80  found with (before cropping) frame dimensions:  1280 1024\n",
      "Starting to extract posture\n"
     ]
    },
    {
     "name": "stderr",
     "output_type": "stream",
     "text": [
      "100%|██████████| 80/80 [00:05<00:00, 14.60it/s]\n"
     ]
    },
    {
     "name": "stdout",
     "output_type": "stream",
     "text": [
      "Saving results in T:\\YuLab\\Video\\Naveed\\GPS_20_ThreeFPHoldSRTProbe\\20240731\\Init\\Clips...\n",
      "Saving csv poses!\n",
      "Starting to analyze %  T:/YuLab/Video/Naveed/GPS_20_ThreeFPHoldSRTProbe/20240731/Init/Clips/Naveed_20240731_Trial061_InitView.avi\n",
      "Loading  T:/YuLab/Video/Naveed/GPS_20_ThreeFPHoldSRTProbe/20240731/Init/Clips/Naveed_20240731_Trial061_InitView.avi\n",
      "Duration of video [s]:  4.0 , recorded with  20.0 fps!\n",
      "Overall # of frames:  80  found with (before cropping) frame dimensions:  1280 1024\n",
      "Starting to extract posture\n"
     ]
    },
    {
     "name": "stderr",
     "output_type": "stream",
     "text": [
      "100%|██████████| 80/80 [00:05<00:00, 14.29it/s]\n"
     ]
    },
    {
     "name": "stdout",
     "output_type": "stream",
     "text": [
      "Saving results in T:\\YuLab\\Video\\Naveed\\GPS_20_ThreeFPHoldSRTProbe\\20240731\\Init\\Clips...\n",
      "Saving csv poses!\n",
      "Starting to analyze %  T:/YuLab/Video/Naveed/GPS_20_ThreeFPHoldSRTProbe/20240731/Init/Clips/Naveed_20240731_Trial062_InitView.avi\n",
      "Loading  T:/YuLab/Video/Naveed/GPS_20_ThreeFPHoldSRTProbe/20240731/Init/Clips/Naveed_20240731_Trial062_InitView.avi\n",
      "Duration of video [s]:  4.0 , recorded with  20.0 fps!\n",
      "Overall # of frames:  80  found with (before cropping) frame dimensions:  1280 1024\n",
      "Starting to extract posture\n"
     ]
    },
    {
     "name": "stderr",
     "output_type": "stream",
     "text": [
      "100%|██████████| 80/80 [00:05<00:00, 14.42it/s]\n"
     ]
    },
    {
     "name": "stdout",
     "output_type": "stream",
     "text": [
      "Saving results in T:\\YuLab\\Video\\Naveed\\GPS_20_ThreeFPHoldSRTProbe\\20240731\\Init\\Clips...\n",
      "Saving csv poses!\n",
      "Starting to analyze %  T:/YuLab/Video/Naveed/GPS_20_ThreeFPHoldSRTProbe/20240731/Init/Clips/Naveed_20240731_Trial063_InitView.avi\n",
      "Loading  T:/YuLab/Video/Naveed/GPS_20_ThreeFPHoldSRTProbe/20240731/Init/Clips/Naveed_20240731_Trial063_InitView.avi\n",
      "Duration of video [s]:  4.0 , recorded with  20.0 fps!\n",
      "Overall # of frames:  80  found with (before cropping) frame dimensions:  1280 1024\n",
      "Starting to extract posture\n"
     ]
    },
    {
     "name": "stderr",
     "output_type": "stream",
     "text": [
      "100%|██████████| 80/80 [00:05<00:00, 14.43it/s]\n"
     ]
    },
    {
     "name": "stdout",
     "output_type": "stream",
     "text": [
      "Saving results in T:\\YuLab\\Video\\Naveed\\GPS_20_ThreeFPHoldSRTProbe\\20240731\\Init\\Clips...\n",
      "Saving csv poses!\n",
      "Starting to analyze %  T:/YuLab/Video/Naveed/GPS_20_ThreeFPHoldSRTProbe/20240731/Init/Clips/Naveed_20240731_Trial064_InitView.avi\n",
      "Loading  T:/YuLab/Video/Naveed/GPS_20_ThreeFPHoldSRTProbe/20240731/Init/Clips/Naveed_20240731_Trial064_InitView.avi\n",
      "Duration of video [s]:  4.0 , recorded with  20.0 fps!\n",
      "Overall # of frames:  80  found with (before cropping) frame dimensions:  1280 1024\n",
      "Starting to extract posture\n"
     ]
    },
    {
     "name": "stderr",
     "output_type": "stream",
     "text": [
      "100%|██████████| 80/80 [00:05<00:00, 14.73it/s]\n"
     ]
    },
    {
     "name": "stdout",
     "output_type": "stream",
     "text": [
      "Saving results in T:\\YuLab\\Video\\Naveed\\GPS_20_ThreeFPHoldSRTProbe\\20240731\\Init\\Clips...\n",
      "Saving csv poses!\n",
      "Starting to analyze %  T:/YuLab/Video/Naveed/GPS_20_ThreeFPHoldSRTProbe/20240731/Init/Clips/Naveed_20240731_Trial065_InitView.avi\n",
      "Loading  T:/YuLab/Video/Naveed/GPS_20_ThreeFPHoldSRTProbe/20240731/Init/Clips/Naveed_20240731_Trial065_InitView.avi\n",
      "Duration of video [s]:  4.0 , recorded with  20.0 fps!\n",
      "Overall # of frames:  80  found with (before cropping) frame dimensions:  1280 1024\n",
      "Starting to extract posture\n"
     ]
    },
    {
     "name": "stderr",
     "output_type": "stream",
     "text": [
      "100%|██████████| 80/80 [00:05<00:00, 14.44it/s]\n"
     ]
    },
    {
     "name": "stdout",
     "output_type": "stream",
     "text": [
      "Saving results in T:\\YuLab\\Video\\Naveed\\GPS_20_ThreeFPHoldSRTProbe\\20240731\\Init\\Clips...\n",
      "Saving csv poses!\n",
      "Starting to analyze %  T:/YuLab/Video/Naveed/GPS_20_ThreeFPHoldSRTProbe/20240731/Init/Clips/Naveed_20240731_Trial066_InitView.avi\n",
      "Loading  T:/YuLab/Video/Naveed/GPS_20_ThreeFPHoldSRTProbe/20240731/Init/Clips/Naveed_20240731_Trial066_InitView.avi\n",
      "Duration of video [s]:  4.0 , recorded with  20.0 fps!\n",
      "Overall # of frames:  80  found with (before cropping) frame dimensions:  1280 1024\n",
      "Starting to extract posture\n"
     ]
    },
    {
     "name": "stderr",
     "output_type": "stream",
     "text": [
      "100%|██████████| 80/80 [00:05<00:00, 14.44it/s]\n"
     ]
    },
    {
     "name": "stdout",
     "output_type": "stream",
     "text": [
      "Saving results in T:\\YuLab\\Video\\Naveed\\GPS_20_ThreeFPHoldSRTProbe\\20240731\\Init\\Clips...\n",
      "Saving csv poses!\n",
      "Starting to analyze %  T:/YuLab/Video/Naveed/GPS_20_ThreeFPHoldSRTProbe/20240731/Init/Clips/Naveed_20240731_Trial067_InitView.avi\n",
      "Loading  T:/YuLab/Video/Naveed/GPS_20_ThreeFPHoldSRTProbe/20240731/Init/Clips/Naveed_20240731_Trial067_InitView.avi\n",
      "Duration of video [s]:  4.0 , recorded with  20.0 fps!\n",
      "Overall # of frames:  80  found with (before cropping) frame dimensions:  1280 1024\n",
      "Starting to extract posture\n"
     ]
    },
    {
     "name": "stderr",
     "output_type": "stream",
     "text": [
      "100%|██████████| 80/80 [00:05<00:00, 14.50it/s]\n"
     ]
    },
    {
     "name": "stdout",
     "output_type": "stream",
     "text": [
      "Saving results in T:\\YuLab\\Video\\Naveed\\GPS_20_ThreeFPHoldSRTProbe\\20240731\\Init\\Clips...\n",
      "Saving csv poses!\n",
      "Starting to analyze %  T:/YuLab/Video/Naveed/GPS_20_ThreeFPHoldSRTProbe/20240731/Init/Clips/Naveed_20240731_Trial068_InitView.avi\n",
      "Loading  T:/YuLab/Video/Naveed/GPS_20_ThreeFPHoldSRTProbe/20240731/Init/Clips/Naveed_20240731_Trial068_InitView.avi\n",
      "Duration of video [s]:  4.0 , recorded with  20.0 fps!\n",
      "Overall # of frames:  80  found with (before cropping) frame dimensions:  1280 1024\n",
      "Starting to extract posture\n"
     ]
    },
    {
     "name": "stderr",
     "output_type": "stream",
     "text": [
      "100%|██████████| 80/80 [00:05<00:00, 14.35it/s]\n"
     ]
    },
    {
     "name": "stdout",
     "output_type": "stream",
     "text": [
      "Saving results in T:\\YuLab\\Video\\Naveed\\GPS_20_ThreeFPHoldSRTProbe\\20240731\\Init\\Clips...\n",
      "Saving csv poses!\n",
      "Starting to analyze %  T:/YuLab/Video/Naveed/GPS_20_ThreeFPHoldSRTProbe/20240731/Init/Clips/Naveed_20240731_Trial069_InitView.avi\n",
      "Loading  T:/YuLab/Video/Naveed/GPS_20_ThreeFPHoldSRTProbe/20240731/Init/Clips/Naveed_20240731_Trial069_InitView.avi\n",
      "Duration of video [s]:  4.05 , recorded with  20.0 fps!\n",
      "Overall # of frames:  81  found with (before cropping) frame dimensions:  1280 1024\n",
      "Starting to extract posture\n"
     ]
    },
    {
     "name": "stderr",
     "output_type": "stream",
     "text": [
      "100%|██████████| 81/81 [00:05<00:00, 13.70it/s]\n"
     ]
    },
    {
     "name": "stdout",
     "output_type": "stream",
     "text": [
      "Saving results in T:\\YuLab\\Video\\Naveed\\GPS_20_ThreeFPHoldSRTProbe\\20240731\\Init\\Clips...\n",
      "Saving csv poses!\n",
      "Starting to analyze %  T:/YuLab/Video/Naveed/GPS_20_ThreeFPHoldSRTProbe/20240731/Init/Clips/Naveed_20240731_Trial070_InitView.avi\n",
      "Loading  T:/YuLab/Video/Naveed/GPS_20_ThreeFPHoldSRTProbe/20240731/Init/Clips/Naveed_20240731_Trial070_InitView.avi\n",
      "Duration of video [s]:  3.95 , recorded with  20.0 fps!\n",
      "Overall # of frames:  79  found with (before cropping) frame dimensions:  1280 1024\n",
      "Starting to extract posture\n"
     ]
    },
    {
     "name": "stderr",
     "output_type": "stream",
     "text": [
      "100%|██████████| 79/79 [00:05<00:00, 14.29it/s]\n"
     ]
    },
    {
     "name": "stdout",
     "output_type": "stream",
     "text": [
      "Saving results in T:\\YuLab\\Video\\Naveed\\GPS_20_ThreeFPHoldSRTProbe\\20240731\\Init\\Clips...\n",
      "Saving csv poses!\n",
      "Starting to analyze %  T:/YuLab/Video/Naveed/GPS_20_ThreeFPHoldSRTProbe/20240731/Init/Clips/Naveed_20240731_Trial071_InitView.avi\n",
      "Loading  T:/YuLab/Video/Naveed/GPS_20_ThreeFPHoldSRTProbe/20240731/Init/Clips/Naveed_20240731_Trial071_InitView.avi\n",
      "Duration of video [s]:  4.0 , recorded with  20.0 fps!\n",
      "Overall # of frames:  80  found with (before cropping) frame dimensions:  1280 1024\n",
      "Starting to extract posture\n"
     ]
    },
    {
     "name": "stderr",
     "output_type": "stream",
     "text": [
      "100%|██████████| 80/80 [00:05<00:00, 14.27it/s]\n"
     ]
    },
    {
     "name": "stdout",
     "output_type": "stream",
     "text": [
      "Saving results in T:\\YuLab\\Video\\Naveed\\GPS_20_ThreeFPHoldSRTProbe\\20240731\\Init\\Clips...\n",
      "Saving csv poses!\n",
      "Starting to analyze %  T:/YuLab/Video/Naveed/GPS_20_ThreeFPHoldSRTProbe/20240731/Init/Clips/Naveed_20240731_Trial072_InitView.avi\n",
      "Loading  T:/YuLab/Video/Naveed/GPS_20_ThreeFPHoldSRTProbe/20240731/Init/Clips/Naveed_20240731_Trial072_InitView.avi\n",
      "Duration of video [s]:  4.0 , recorded with  20.0 fps!\n",
      "Overall # of frames:  80  found with (before cropping) frame dimensions:  1280 1024\n",
      "Starting to extract posture\n"
     ]
    },
    {
     "name": "stderr",
     "output_type": "stream",
     "text": [
      "100%|██████████| 80/80 [00:05<00:00, 14.32it/s]\n"
     ]
    },
    {
     "name": "stdout",
     "output_type": "stream",
     "text": [
      "Saving results in T:\\YuLab\\Video\\Naveed\\GPS_20_ThreeFPHoldSRTProbe\\20240731\\Init\\Clips...\n",
      "Saving csv poses!\n",
      "Starting to analyze %  T:/YuLab/Video/Naveed/GPS_20_ThreeFPHoldSRTProbe/20240731/Init/Clips/Naveed_20240731_Trial073_InitView.avi\n",
      "Loading  T:/YuLab/Video/Naveed/GPS_20_ThreeFPHoldSRTProbe/20240731/Init/Clips/Naveed_20240731_Trial073_InitView.avi\n",
      "Duration of video [s]:  4.0 , recorded with  20.0 fps!\n",
      "Overall # of frames:  80  found with (before cropping) frame dimensions:  1280 1024\n",
      "Starting to extract posture\n"
     ]
    },
    {
     "name": "stderr",
     "output_type": "stream",
     "text": [
      "100%|██████████| 80/80 [00:05<00:00, 14.38it/s]\n"
     ]
    },
    {
     "name": "stdout",
     "output_type": "stream",
     "text": [
      "Saving results in T:\\YuLab\\Video\\Naveed\\GPS_20_ThreeFPHoldSRTProbe\\20240731\\Init\\Clips...\n",
      "Saving csv poses!\n",
      "Starting to analyze %  T:/YuLab/Video/Naveed/GPS_20_ThreeFPHoldSRTProbe/20240731/Init/Clips/Naveed_20240731_Trial074_InitView.avi\n",
      "Loading  T:/YuLab/Video/Naveed/GPS_20_ThreeFPHoldSRTProbe/20240731/Init/Clips/Naveed_20240731_Trial074_InitView.avi\n",
      "Duration of video [s]:  4.0 , recorded with  20.0 fps!\n",
      "Overall # of frames:  80  found with (before cropping) frame dimensions:  1280 1024\n",
      "Starting to extract posture\n"
     ]
    },
    {
     "name": "stderr",
     "output_type": "stream",
     "text": [
      "100%|██████████| 80/80 [00:05<00:00, 14.34it/s]\n"
     ]
    },
    {
     "name": "stdout",
     "output_type": "stream",
     "text": [
      "Saving results in T:\\YuLab\\Video\\Naveed\\GPS_20_ThreeFPHoldSRTProbe\\20240731\\Init\\Clips...\n",
      "Saving csv poses!\n",
      "Starting to analyze %  T:/YuLab/Video/Naveed/GPS_20_ThreeFPHoldSRTProbe/20240731/Init/Clips/Naveed_20240731_Trial075_InitView.avi\n",
      "Loading  T:/YuLab/Video/Naveed/GPS_20_ThreeFPHoldSRTProbe/20240731/Init/Clips/Naveed_20240731_Trial075_InitView.avi\n",
      "Duration of video [s]:  4.0 , recorded with  20.0 fps!\n",
      "Overall # of frames:  80  found with (before cropping) frame dimensions:  1280 1024\n",
      "Starting to extract posture\n"
     ]
    },
    {
     "name": "stderr",
     "output_type": "stream",
     "text": [
      "100%|██████████| 80/80 [00:05<00:00, 14.42it/s]\n"
     ]
    },
    {
     "name": "stdout",
     "output_type": "stream",
     "text": [
      "Saving results in T:\\YuLab\\Video\\Naveed\\GPS_20_ThreeFPHoldSRTProbe\\20240731\\Init\\Clips...\n",
      "Saving csv poses!\n",
      "Starting to analyze %  T:/YuLab/Video/Naveed/GPS_20_ThreeFPHoldSRTProbe/20240731/Init/Clips/Naveed_20240731_Trial076_InitView.avi\n",
      "Loading  T:/YuLab/Video/Naveed/GPS_20_ThreeFPHoldSRTProbe/20240731/Init/Clips/Naveed_20240731_Trial076_InitView.avi\n",
      "Duration of video [s]:  4.0 , recorded with  20.0 fps!\n",
      "Overall # of frames:  80  found with (before cropping) frame dimensions:  1280 1024\n",
      "Starting to extract posture\n"
     ]
    },
    {
     "name": "stderr",
     "output_type": "stream",
     "text": [
      "100%|██████████| 80/80 [00:05<00:00, 14.40it/s]\n"
     ]
    },
    {
     "name": "stdout",
     "output_type": "stream",
     "text": [
      "Saving results in T:\\YuLab\\Video\\Naveed\\GPS_20_ThreeFPHoldSRTProbe\\20240731\\Init\\Clips...\n",
      "Saving csv poses!\n",
      "Starting to analyze %  T:/YuLab/Video/Naveed/GPS_20_ThreeFPHoldSRTProbe/20240731/Init/Clips/Naveed_20240731_Trial077_InitView.avi\n",
      "Loading  T:/YuLab/Video/Naveed/GPS_20_ThreeFPHoldSRTProbe/20240731/Init/Clips/Naveed_20240731_Trial077_InitView.avi\n",
      "Duration of video [s]:  4.0 , recorded with  20.0 fps!\n",
      "Overall # of frames:  80  found with (before cropping) frame dimensions:  1280 1024\n",
      "Starting to extract posture\n"
     ]
    },
    {
     "name": "stderr",
     "output_type": "stream",
     "text": [
      "100%|██████████| 80/80 [00:05<00:00, 14.45it/s]\n"
     ]
    },
    {
     "name": "stdout",
     "output_type": "stream",
     "text": [
      "Saving results in T:\\YuLab\\Video\\Naveed\\GPS_20_ThreeFPHoldSRTProbe\\20240731\\Init\\Clips...\n",
      "Saving csv poses!\n",
      "Starting to analyze %  T:/YuLab/Video/Naveed/GPS_20_ThreeFPHoldSRTProbe/20240731/Init/Clips/Naveed_20240731_Trial078_InitView.avi\n",
      "Loading  T:/YuLab/Video/Naveed/GPS_20_ThreeFPHoldSRTProbe/20240731/Init/Clips/Naveed_20240731_Trial078_InitView.avi\n",
      "Duration of video [s]:  4.0 , recorded with  20.0 fps!\n",
      "Overall # of frames:  80  found with (before cropping) frame dimensions:  1280 1024\n",
      "Starting to extract posture\n"
     ]
    },
    {
     "name": "stderr",
     "output_type": "stream",
     "text": [
      "100%|██████████| 80/80 [00:05<00:00, 14.70it/s]\n"
     ]
    },
    {
     "name": "stdout",
     "output_type": "stream",
     "text": [
      "Saving results in T:\\YuLab\\Video\\Naveed\\GPS_20_ThreeFPHoldSRTProbe\\20240731\\Init\\Clips...\n",
      "Saving csv poses!\n",
      "Starting to analyze %  T:/YuLab/Video/Naveed/GPS_20_ThreeFPHoldSRTProbe/20240731/Init/Clips/Naveed_20240731_Trial079_InitView.avi\n",
      "Loading  T:/YuLab/Video/Naveed/GPS_20_ThreeFPHoldSRTProbe/20240731/Init/Clips/Naveed_20240731_Trial079_InitView.avi\n",
      "Duration of video [s]:  4.0 , recorded with  20.0 fps!\n",
      "Overall # of frames:  80  found with (before cropping) frame dimensions:  1280 1024\n",
      "Starting to extract posture\n"
     ]
    },
    {
     "name": "stderr",
     "output_type": "stream",
     "text": [
      "100%|██████████| 80/80 [00:05<00:00, 14.24it/s]\n"
     ]
    },
    {
     "name": "stdout",
     "output_type": "stream",
     "text": [
      "Saving results in T:\\YuLab\\Video\\Naveed\\GPS_20_ThreeFPHoldSRTProbe\\20240731\\Init\\Clips...\n",
      "Saving csv poses!\n",
      "Starting to analyze %  T:/YuLab/Video/Naveed/GPS_20_ThreeFPHoldSRTProbe/20240731/Init/Clips/Naveed_20240731_Trial080_InitView.avi\n",
      "Loading  T:/YuLab/Video/Naveed/GPS_20_ThreeFPHoldSRTProbe/20240731/Init/Clips/Naveed_20240731_Trial080_InitView.avi\n",
      "Duration of video [s]:  4.0 , recorded with  20.0 fps!\n",
      "Overall # of frames:  80  found with (before cropping) frame dimensions:  1280 1024\n",
      "Starting to extract posture\n"
     ]
    },
    {
     "name": "stderr",
     "output_type": "stream",
     "text": [
      "100%|██████████| 80/80 [00:05<00:00, 14.49it/s]\n"
     ]
    },
    {
     "name": "stdout",
     "output_type": "stream",
     "text": [
      "Saving results in T:\\YuLab\\Video\\Naveed\\GPS_20_ThreeFPHoldSRTProbe\\20240731\\Init\\Clips...\n",
      "Saving csv poses!\n",
      "Starting to analyze %  T:/YuLab/Video/Naveed/GPS_20_ThreeFPHoldSRTProbe/20240731/Init/Clips/Naveed_20240731_Trial081_InitView.avi\n",
      "Loading  T:/YuLab/Video/Naveed/GPS_20_ThreeFPHoldSRTProbe/20240731/Init/Clips/Naveed_20240731_Trial081_InitView.avi\n",
      "Duration of video [s]:  4.0 , recorded with  20.0 fps!\n",
      "Overall # of frames:  80  found with (before cropping) frame dimensions:  1280 1024\n",
      "Starting to extract posture\n"
     ]
    },
    {
     "name": "stderr",
     "output_type": "stream",
     "text": [
      "100%|██████████| 80/80 [00:05<00:00, 14.60it/s]\n"
     ]
    },
    {
     "name": "stdout",
     "output_type": "stream",
     "text": [
      "Saving results in T:\\YuLab\\Video\\Naveed\\GPS_20_ThreeFPHoldSRTProbe\\20240731\\Init\\Clips...\n",
      "Saving csv poses!\n",
      "Starting to analyze %  T:/YuLab/Video/Naveed/GPS_20_ThreeFPHoldSRTProbe/20240731/Init/Clips/Naveed_20240731_Trial082_InitView.avi\n",
      "Loading  T:/YuLab/Video/Naveed/GPS_20_ThreeFPHoldSRTProbe/20240731/Init/Clips/Naveed_20240731_Trial082_InitView.avi\n",
      "Duration of video [s]:  4.0 , recorded with  20.0 fps!\n",
      "Overall # of frames:  80  found with (before cropping) frame dimensions:  1280 1024\n",
      "Starting to extract posture\n"
     ]
    },
    {
     "name": "stderr",
     "output_type": "stream",
     "text": [
      "100%|██████████| 80/80 [00:05<00:00, 14.22it/s]\n"
     ]
    },
    {
     "name": "stdout",
     "output_type": "stream",
     "text": [
      "Saving results in T:\\YuLab\\Video\\Naveed\\GPS_20_ThreeFPHoldSRTProbe\\20240731\\Init\\Clips...\n",
      "Saving csv poses!\n",
      "Starting to analyze %  T:/YuLab/Video/Naveed/GPS_20_ThreeFPHoldSRTProbe/20240731/Init/Clips/Naveed_20240731_Trial083_InitView.avi\n",
      "Loading  T:/YuLab/Video/Naveed/GPS_20_ThreeFPHoldSRTProbe/20240731/Init/Clips/Naveed_20240731_Trial083_InitView.avi\n",
      "Duration of video [s]:  4.0 , recorded with  20.0 fps!\n",
      "Overall # of frames:  80  found with (before cropping) frame dimensions:  1280 1024\n",
      "Starting to extract posture\n"
     ]
    },
    {
     "name": "stderr",
     "output_type": "stream",
     "text": [
      "100%|██████████| 80/80 [00:05<00:00, 14.34it/s]\n"
     ]
    },
    {
     "name": "stdout",
     "output_type": "stream",
     "text": [
      "Saving results in T:\\YuLab\\Video\\Naveed\\GPS_20_ThreeFPHoldSRTProbe\\20240731\\Init\\Clips...\n",
      "Saving csv poses!\n",
      "Starting to analyze %  T:/YuLab/Video/Naveed/GPS_20_ThreeFPHoldSRTProbe/20240731/Init/Clips/Naveed_20240731_Trial084_InitView.avi\n",
      "Loading  T:/YuLab/Video/Naveed/GPS_20_ThreeFPHoldSRTProbe/20240731/Init/Clips/Naveed_20240731_Trial084_InitView.avi\n",
      "Duration of video [s]:  4.0 , recorded with  20.0 fps!\n",
      "Overall # of frames:  80  found with (before cropping) frame dimensions:  1280 1024\n",
      "Starting to extract posture\n"
     ]
    },
    {
     "name": "stderr",
     "output_type": "stream",
     "text": [
      "100%|██████████| 80/80 [00:05<00:00, 14.53it/s]\n"
     ]
    },
    {
     "name": "stdout",
     "output_type": "stream",
     "text": [
      "Saving results in T:\\YuLab\\Video\\Naveed\\GPS_20_ThreeFPHoldSRTProbe\\20240731\\Init\\Clips...\n",
      "Saving csv poses!\n",
      "Starting to analyze %  T:/YuLab/Video/Naveed/GPS_20_ThreeFPHoldSRTProbe/20240731/Init/Clips/Naveed_20240731_Trial085_InitView.avi\n",
      "Loading  T:/YuLab/Video/Naveed/GPS_20_ThreeFPHoldSRTProbe/20240731/Init/Clips/Naveed_20240731_Trial085_InitView.avi\n",
      "Duration of video [s]:  4.0 , recorded with  20.0 fps!\n",
      "Overall # of frames:  80  found with (before cropping) frame dimensions:  1280 1024\n",
      "Starting to extract posture\n"
     ]
    },
    {
     "name": "stderr",
     "output_type": "stream",
     "text": [
      "100%|██████████| 80/80 [00:05<00:00, 14.52it/s]\n"
     ]
    },
    {
     "name": "stdout",
     "output_type": "stream",
     "text": [
      "Saving results in T:\\YuLab\\Video\\Naveed\\GPS_20_ThreeFPHoldSRTProbe\\20240731\\Init\\Clips...\n",
      "Saving csv poses!\n",
      "Starting to analyze %  T:/YuLab/Video/Naveed/GPS_20_ThreeFPHoldSRTProbe/20240731/Init/Clips/Naveed_20240731_Trial086_InitView.avi\n",
      "Loading  T:/YuLab/Video/Naveed/GPS_20_ThreeFPHoldSRTProbe/20240731/Init/Clips/Naveed_20240731_Trial086_InitView.avi\n",
      "Duration of video [s]:  4.0 , recorded with  20.0 fps!\n",
      "Overall # of frames:  80  found with (before cropping) frame dimensions:  1280 1024\n",
      "Starting to extract posture\n"
     ]
    },
    {
     "name": "stderr",
     "output_type": "stream",
     "text": [
      "100%|██████████| 80/80 [00:05<00:00, 14.48it/s]\n"
     ]
    },
    {
     "name": "stdout",
     "output_type": "stream",
     "text": [
      "Saving results in T:\\YuLab\\Video\\Naveed\\GPS_20_ThreeFPHoldSRTProbe\\20240731\\Init\\Clips...\n",
      "Saving csv poses!\n",
      "Starting to analyze %  T:/YuLab/Video/Naveed/GPS_20_ThreeFPHoldSRTProbe/20240731/Init/Clips/Naveed_20240731_Trial087_InitView.avi\n",
      "Loading  T:/YuLab/Video/Naveed/GPS_20_ThreeFPHoldSRTProbe/20240731/Init/Clips/Naveed_20240731_Trial087_InitView.avi\n",
      "Duration of video [s]:  3.95 , recorded with  20.0 fps!\n",
      "Overall # of frames:  79  found with (before cropping) frame dimensions:  1280 1024\n",
      "Starting to extract posture\n"
     ]
    },
    {
     "name": "stderr",
     "output_type": "stream",
     "text": [
      "100%|██████████| 79/79 [00:05<00:00, 14.16it/s]\n"
     ]
    },
    {
     "name": "stdout",
     "output_type": "stream",
     "text": [
      "Saving results in T:\\YuLab\\Video\\Naveed\\GPS_20_ThreeFPHoldSRTProbe\\20240731\\Init\\Clips...\n",
      "Saving csv poses!\n",
      "Starting to analyze %  T:/YuLab/Video/Naveed/GPS_20_ThreeFPHoldSRTProbe/20240731/Init/Clips/Naveed_20240731_Trial088_InitView.avi\n",
      "Loading  T:/YuLab/Video/Naveed/GPS_20_ThreeFPHoldSRTProbe/20240731/Init/Clips/Naveed_20240731_Trial088_InitView.avi\n",
      "Duration of video [s]:  4.0 , recorded with  20.0 fps!\n",
      "Overall # of frames:  80  found with (before cropping) frame dimensions:  1280 1024\n",
      "Starting to extract posture\n"
     ]
    },
    {
     "name": "stderr",
     "output_type": "stream",
     "text": [
      "100%|██████████| 80/80 [00:05<00:00, 14.27it/s]\n"
     ]
    },
    {
     "name": "stdout",
     "output_type": "stream",
     "text": [
      "Saving results in T:\\YuLab\\Video\\Naveed\\GPS_20_ThreeFPHoldSRTProbe\\20240731\\Init\\Clips...\n",
      "Saving csv poses!\n",
      "Starting to analyze %  T:/YuLab/Video/Naveed/GPS_20_ThreeFPHoldSRTProbe/20240731/Init/Clips/Naveed_20240731_Trial089_InitView.avi\n",
      "Loading  T:/YuLab/Video/Naveed/GPS_20_ThreeFPHoldSRTProbe/20240731/Init/Clips/Naveed_20240731_Trial089_InitView.avi\n",
      "Duration of video [s]:  4.0 , recorded with  20.0 fps!\n",
      "Overall # of frames:  80  found with (before cropping) frame dimensions:  1280 1024\n",
      "Starting to extract posture\n"
     ]
    },
    {
     "name": "stderr",
     "output_type": "stream",
     "text": [
      "100%|██████████| 80/80 [00:05<00:00, 14.26it/s]\n"
     ]
    },
    {
     "name": "stdout",
     "output_type": "stream",
     "text": [
      "Saving results in T:\\YuLab\\Video\\Naveed\\GPS_20_ThreeFPHoldSRTProbe\\20240731\\Init\\Clips...\n",
      "Saving csv poses!\n",
      "Starting to analyze %  T:/YuLab/Video/Naveed/GPS_20_ThreeFPHoldSRTProbe/20240731/Init/Clips/Naveed_20240731_Trial090_InitView.avi\n",
      "Loading  T:/YuLab/Video/Naveed/GPS_20_ThreeFPHoldSRTProbe/20240731/Init/Clips/Naveed_20240731_Trial090_InitView.avi\n",
      "Duration of video [s]:  4.0 , recorded with  20.0 fps!\n",
      "Overall # of frames:  80  found with (before cropping) frame dimensions:  1280 1024\n",
      "Starting to extract posture\n"
     ]
    },
    {
     "name": "stderr",
     "output_type": "stream",
     "text": [
      "100%|██████████| 80/80 [00:05<00:00, 14.47it/s]\n"
     ]
    },
    {
     "name": "stdout",
     "output_type": "stream",
     "text": [
      "Saving results in T:\\YuLab\\Video\\Naveed\\GPS_20_ThreeFPHoldSRTProbe\\20240731\\Init\\Clips...\n",
      "Saving csv poses!\n",
      "Starting to analyze %  T:/YuLab/Video/Naveed/GPS_20_ThreeFPHoldSRTProbe/20240731/Init/Clips/Naveed_20240731_Trial091_InitView.avi\n",
      "Loading  T:/YuLab/Video/Naveed/GPS_20_ThreeFPHoldSRTProbe/20240731/Init/Clips/Naveed_20240731_Trial091_InitView.avi\n",
      "Duration of video [s]:  4.0 , recorded with  20.0 fps!\n",
      "Overall # of frames:  80  found with (before cropping) frame dimensions:  1280 1024\n",
      "Starting to extract posture\n"
     ]
    },
    {
     "name": "stderr",
     "output_type": "stream",
     "text": [
      "100%|██████████| 80/80 [00:05<00:00, 14.45it/s]\n"
     ]
    },
    {
     "name": "stdout",
     "output_type": "stream",
     "text": [
      "Saving results in T:\\YuLab\\Video\\Naveed\\GPS_20_ThreeFPHoldSRTProbe\\20240731\\Init\\Clips...\n",
      "Saving csv poses!\n",
      "Starting to analyze %  T:/YuLab/Video/Naveed/GPS_20_ThreeFPHoldSRTProbe/20240731/Init/Clips/Naveed_20240731_Trial092_InitView.avi\n",
      "Loading  T:/YuLab/Video/Naveed/GPS_20_ThreeFPHoldSRTProbe/20240731/Init/Clips/Naveed_20240731_Trial092_InitView.avi\n",
      "Duration of video [s]:  4.0 , recorded with  20.0 fps!\n",
      "Overall # of frames:  80  found with (before cropping) frame dimensions:  1280 1024\n",
      "Starting to extract posture\n"
     ]
    },
    {
     "name": "stderr",
     "output_type": "stream",
     "text": [
      "100%|██████████| 80/80 [00:05<00:00, 14.66it/s]\n"
     ]
    },
    {
     "name": "stdout",
     "output_type": "stream",
     "text": [
      "Saving results in T:\\YuLab\\Video\\Naveed\\GPS_20_ThreeFPHoldSRTProbe\\20240731\\Init\\Clips...\n",
      "Saving csv poses!\n",
      "Starting to analyze %  T:/YuLab/Video/Naveed/GPS_20_ThreeFPHoldSRTProbe/20240731/Init/Clips/Naveed_20240731_Trial093_InitView.avi\n",
      "Loading  T:/YuLab/Video/Naveed/GPS_20_ThreeFPHoldSRTProbe/20240731/Init/Clips/Naveed_20240731_Trial093_InitView.avi\n",
      "Duration of video [s]:  4.0 , recorded with  20.0 fps!\n",
      "Overall # of frames:  80  found with (before cropping) frame dimensions:  1280 1024\n",
      "Starting to extract posture\n"
     ]
    },
    {
     "name": "stderr",
     "output_type": "stream",
     "text": [
      "100%|██████████| 80/80 [00:05<00:00, 14.35it/s]\n"
     ]
    },
    {
     "name": "stdout",
     "output_type": "stream",
     "text": [
      "Saving results in T:\\YuLab\\Video\\Naveed\\GPS_20_ThreeFPHoldSRTProbe\\20240731\\Init\\Clips...\n",
      "Saving csv poses!\n",
      "Starting to analyze %  T:/YuLab/Video/Naveed/GPS_20_ThreeFPHoldSRTProbe/20240731/Init/Clips/Naveed_20240731_Trial094_InitView.avi\n",
      "Loading  T:/YuLab/Video/Naveed/GPS_20_ThreeFPHoldSRTProbe/20240731/Init/Clips/Naveed_20240731_Trial094_InitView.avi\n",
      "Duration of video [s]:  4.0 , recorded with  20.0 fps!\n",
      "Overall # of frames:  80  found with (before cropping) frame dimensions:  1280 1024\n",
      "Starting to extract posture\n"
     ]
    },
    {
     "name": "stderr",
     "output_type": "stream",
     "text": [
      "100%|██████████| 80/80 [00:05<00:00, 14.51it/s]\n"
     ]
    },
    {
     "name": "stdout",
     "output_type": "stream",
     "text": [
      "Saving results in T:\\YuLab\\Video\\Naveed\\GPS_20_ThreeFPHoldSRTProbe\\20240731\\Init\\Clips...\n",
      "Saving csv poses!\n",
      "Starting to analyze %  T:/YuLab/Video/Naveed/GPS_20_ThreeFPHoldSRTProbe/20240731/Init/Clips/Naveed_20240731_Trial095_InitView.avi\n",
      "Loading  T:/YuLab/Video/Naveed/GPS_20_ThreeFPHoldSRTProbe/20240731/Init/Clips/Naveed_20240731_Trial095_InitView.avi\n",
      "Duration of video [s]:  4.0 , recorded with  20.0 fps!\n",
      "Overall # of frames:  80  found with (before cropping) frame dimensions:  1280 1024\n",
      "Starting to extract posture\n"
     ]
    },
    {
     "name": "stderr",
     "output_type": "stream",
     "text": [
      "100%|██████████| 80/80 [00:05<00:00, 14.16it/s]\n"
     ]
    },
    {
     "name": "stdout",
     "output_type": "stream",
     "text": [
      "Saving results in T:\\YuLab\\Video\\Naveed\\GPS_20_ThreeFPHoldSRTProbe\\20240731\\Init\\Clips...\n",
      "Saving csv poses!\n",
      "Starting to analyze %  T:/YuLab/Video/Naveed/GPS_20_ThreeFPHoldSRTProbe/20240731/Init/Clips/Naveed_20240731_Trial096_InitView.avi\n",
      "Loading  T:/YuLab/Video/Naveed/GPS_20_ThreeFPHoldSRTProbe/20240731/Init/Clips/Naveed_20240731_Trial096_InitView.avi\n",
      "Duration of video [s]:  4.0 , recorded with  20.0 fps!\n",
      "Overall # of frames:  80  found with (before cropping) frame dimensions:  1280 1024\n",
      "Starting to extract posture\n"
     ]
    },
    {
     "name": "stderr",
     "output_type": "stream",
     "text": [
      "100%|██████████| 80/80 [00:05<00:00, 14.09it/s]\n"
     ]
    },
    {
     "name": "stdout",
     "output_type": "stream",
     "text": [
      "Saving results in T:\\YuLab\\Video\\Naveed\\GPS_20_ThreeFPHoldSRTProbe\\20240731\\Init\\Clips...\n",
      "Saving csv poses!\n",
      "Starting to analyze %  T:/YuLab/Video/Naveed/GPS_20_ThreeFPHoldSRTProbe/20240731/Init/Clips/Naveed_20240731_Trial097_InitView.avi\n",
      "Loading  T:/YuLab/Video/Naveed/GPS_20_ThreeFPHoldSRTProbe/20240731/Init/Clips/Naveed_20240731_Trial097_InitView.avi\n",
      "Duration of video [s]:  4.0 , recorded with  20.0 fps!\n",
      "Overall # of frames:  80  found with (before cropping) frame dimensions:  1280 1024\n",
      "Starting to extract posture\n"
     ]
    },
    {
     "name": "stderr",
     "output_type": "stream",
     "text": [
      "100%|██████████| 80/80 [00:05<00:00, 14.26it/s]\n"
     ]
    },
    {
     "name": "stdout",
     "output_type": "stream",
     "text": [
      "Saving results in T:\\YuLab\\Video\\Naveed\\GPS_20_ThreeFPHoldSRTProbe\\20240731\\Init\\Clips...\n",
      "Saving csv poses!\n",
      "Starting to analyze %  T:/YuLab/Video/Naveed/GPS_20_ThreeFPHoldSRTProbe/20240731/Init/Clips/Naveed_20240731_Trial098_InitView.avi\n",
      "Loading  T:/YuLab/Video/Naveed/GPS_20_ThreeFPHoldSRTProbe/20240731/Init/Clips/Naveed_20240731_Trial098_InitView.avi\n",
      "Duration of video [s]:  4.0 , recorded with  20.0 fps!\n",
      "Overall # of frames:  80  found with (before cropping) frame dimensions:  1280 1024\n",
      "Starting to extract posture\n"
     ]
    },
    {
     "name": "stderr",
     "output_type": "stream",
     "text": [
      "100%|██████████| 80/80 [00:05<00:00, 14.50it/s]\n"
     ]
    },
    {
     "name": "stdout",
     "output_type": "stream",
     "text": [
      "Saving results in T:\\YuLab\\Video\\Naveed\\GPS_20_ThreeFPHoldSRTProbe\\20240731\\Init\\Clips...\n",
      "Saving csv poses!\n",
      "Starting to analyze %  T:/YuLab/Video/Naveed/GPS_20_ThreeFPHoldSRTProbe/20240731/Init/Clips/Naveed_20240731_Trial099_InitView.avi\n",
      "Loading  T:/YuLab/Video/Naveed/GPS_20_ThreeFPHoldSRTProbe/20240731/Init/Clips/Naveed_20240731_Trial099_InitView.avi\n",
      "Duration of video [s]:  4.0 , recorded with  20.0 fps!\n",
      "Overall # of frames:  80  found with (before cropping) frame dimensions:  1280 1024\n",
      "Starting to extract posture\n"
     ]
    },
    {
     "name": "stderr",
     "output_type": "stream",
     "text": [
      "100%|██████████| 80/80 [00:05<00:00, 14.52it/s]\n"
     ]
    },
    {
     "name": "stdout",
     "output_type": "stream",
     "text": [
      "Saving results in T:\\YuLab\\Video\\Naveed\\GPS_20_ThreeFPHoldSRTProbe\\20240731\\Init\\Clips...\n",
      "Saving csv poses!\n",
      "Starting to analyze %  T:/YuLab/Video/Naveed/GPS_20_ThreeFPHoldSRTProbe/20240731/Init/Clips/Naveed_20240731_Trial100_InitView.avi\n",
      "Loading  T:/YuLab/Video/Naveed/GPS_20_ThreeFPHoldSRTProbe/20240731/Init/Clips/Naveed_20240731_Trial100_InitView.avi\n",
      "Duration of video [s]:  4.0 , recorded with  20.0 fps!\n",
      "Overall # of frames:  80  found with (before cropping) frame dimensions:  1280 1024\n",
      "Starting to extract posture\n"
     ]
    },
    {
     "name": "stderr",
     "output_type": "stream",
     "text": [
      "100%|██████████| 80/80 [00:05<00:00, 14.00it/s]\n"
     ]
    },
    {
     "name": "stdout",
     "output_type": "stream",
     "text": [
      "Saving results in T:\\YuLab\\Video\\Naveed\\GPS_20_ThreeFPHoldSRTProbe\\20240731\\Init\\Clips...\n",
      "Saving csv poses!\n",
      "Starting to analyze %  T:/YuLab/Video/Naveed/GPS_20_ThreeFPHoldSRTProbe/20240731/Init/Clips/Naveed_20240731_Trial101_InitView.avi\n",
      "Loading  T:/YuLab/Video/Naveed/GPS_20_ThreeFPHoldSRTProbe/20240731/Init/Clips/Naveed_20240731_Trial101_InitView.avi\n",
      "Duration of video [s]:  4.0 , recorded with  20.0 fps!\n",
      "Overall # of frames:  80  found with (before cropping) frame dimensions:  1280 1024\n",
      "Starting to extract posture\n"
     ]
    },
    {
     "name": "stderr",
     "output_type": "stream",
     "text": [
      "100%|██████████| 80/80 [00:05<00:00, 14.26it/s]\n"
     ]
    },
    {
     "name": "stdout",
     "output_type": "stream",
     "text": [
      "Saving results in T:\\YuLab\\Video\\Naveed\\GPS_20_ThreeFPHoldSRTProbe\\20240731\\Init\\Clips...\n",
      "Saving csv poses!\n",
      "Starting to analyze %  T:/YuLab/Video/Naveed/GPS_20_ThreeFPHoldSRTProbe/20240731/Init/Clips/Naveed_20240731_Trial102_InitView.avi\n",
      "Loading  T:/YuLab/Video/Naveed/GPS_20_ThreeFPHoldSRTProbe/20240731/Init/Clips/Naveed_20240731_Trial102_InitView.avi\n",
      "Duration of video [s]:  4.0 , recorded with  20.0 fps!\n",
      "Overall # of frames:  80  found with (before cropping) frame dimensions:  1280 1024\n",
      "Starting to extract posture\n"
     ]
    },
    {
     "name": "stderr",
     "output_type": "stream",
     "text": [
      "100%|██████████| 80/80 [00:05<00:00, 14.03it/s]\n"
     ]
    },
    {
     "name": "stdout",
     "output_type": "stream",
     "text": [
      "Saving results in T:\\YuLab\\Video\\Naveed\\GPS_20_ThreeFPHoldSRTProbe\\20240731\\Init\\Clips...\n",
      "Saving csv poses!\n",
      "Starting to analyze %  T:/YuLab/Video/Naveed/GPS_20_ThreeFPHoldSRTProbe/20240731/Init/Clips/Naveed_20240731_Trial103_InitView.avi\n",
      "Loading  T:/YuLab/Video/Naveed/GPS_20_ThreeFPHoldSRTProbe/20240731/Init/Clips/Naveed_20240731_Trial103_InitView.avi\n",
      "Duration of video [s]:  4.0 , recorded with  20.0 fps!\n",
      "Overall # of frames:  80  found with (before cropping) frame dimensions:  1280 1024\n",
      "Starting to extract posture\n"
     ]
    },
    {
     "name": "stderr",
     "output_type": "stream",
     "text": [
      "100%|██████████| 80/80 [00:05<00:00, 13.96it/s]\n"
     ]
    },
    {
     "name": "stdout",
     "output_type": "stream",
     "text": [
      "Saving results in T:\\YuLab\\Video\\Naveed\\GPS_20_ThreeFPHoldSRTProbe\\20240731\\Init\\Clips...\n",
      "Saving csv poses!\n",
      "Starting to analyze %  T:/YuLab/Video/Naveed/GPS_20_ThreeFPHoldSRTProbe/20240731/Init/Clips/Naveed_20240731_Trial104_InitView.avi\n",
      "Loading  T:/YuLab/Video/Naveed/GPS_20_ThreeFPHoldSRTProbe/20240731/Init/Clips/Naveed_20240731_Trial104_InitView.avi\n",
      "Duration of video [s]:  4.0 , recorded with  20.0 fps!\n",
      "Overall # of frames:  80  found with (before cropping) frame dimensions:  1280 1024\n",
      "Starting to extract posture\n"
     ]
    },
    {
     "name": "stderr",
     "output_type": "stream",
     "text": [
      "100%|██████████| 80/80 [00:05<00:00, 14.08it/s]\n"
     ]
    },
    {
     "name": "stdout",
     "output_type": "stream",
     "text": [
      "Saving results in T:\\YuLab\\Video\\Naveed\\GPS_20_ThreeFPHoldSRTProbe\\20240731\\Init\\Clips...\n",
      "Saving csv poses!\n",
      "Starting to analyze %  T:/YuLab/Video/Naveed/GPS_20_ThreeFPHoldSRTProbe/20240731/Init/Clips/Naveed_20240731_Trial105_InitView.avi\n",
      "Loading  T:/YuLab/Video/Naveed/GPS_20_ThreeFPHoldSRTProbe/20240731/Init/Clips/Naveed_20240731_Trial105_InitView.avi\n",
      "Duration of video [s]:  4.05 , recorded with  20.0 fps!\n",
      "Overall # of frames:  81  found with (before cropping) frame dimensions:  1280 1024\n",
      "Starting to extract posture\n"
     ]
    },
    {
     "name": "stderr",
     "output_type": "stream",
     "text": [
      "100%|██████████| 81/81 [00:06<00:00, 13.01it/s]\n"
     ]
    },
    {
     "name": "stdout",
     "output_type": "stream",
     "text": [
      "Saving results in T:\\YuLab\\Video\\Naveed\\GPS_20_ThreeFPHoldSRTProbe\\20240731\\Init\\Clips...\n",
      "Saving csv poses!\n",
      "Starting to analyze %  T:/YuLab/Video/Naveed/GPS_20_ThreeFPHoldSRTProbe/20240731/Init/Clips/Naveed_20240731_Trial106_InitView.avi\n",
      "Loading  T:/YuLab/Video/Naveed/GPS_20_ThreeFPHoldSRTProbe/20240731/Init/Clips/Naveed_20240731_Trial106_InitView.avi\n",
      "Duration of video [s]:  4.0 , recorded with  20.0 fps!\n",
      "Overall # of frames:  80  found with (before cropping) frame dimensions:  1280 1024\n",
      "Starting to extract posture\n"
     ]
    },
    {
     "name": "stderr",
     "output_type": "stream",
     "text": [
      "100%|██████████| 80/80 [00:05<00:00, 14.21it/s]\n"
     ]
    },
    {
     "name": "stdout",
     "output_type": "stream",
     "text": [
      "Saving results in T:\\YuLab\\Video\\Naveed\\GPS_20_ThreeFPHoldSRTProbe\\20240731\\Init\\Clips...\n",
      "Saving csv poses!\n",
      "Starting to analyze %  T:/YuLab/Video/Naveed/GPS_20_ThreeFPHoldSRTProbe/20240731/Init/Clips/Naveed_20240731_Trial107_InitView.avi\n",
      "Loading  T:/YuLab/Video/Naveed/GPS_20_ThreeFPHoldSRTProbe/20240731/Init/Clips/Naveed_20240731_Trial107_InitView.avi\n",
      "Duration of video [s]:  4.0 , recorded with  20.0 fps!\n",
      "Overall # of frames:  80  found with (before cropping) frame dimensions:  1280 1024\n",
      "Starting to extract posture\n"
     ]
    },
    {
     "name": "stderr",
     "output_type": "stream",
     "text": [
      "100%|██████████| 80/80 [00:05<00:00, 14.14it/s]\n"
     ]
    },
    {
     "name": "stdout",
     "output_type": "stream",
     "text": [
      "Saving results in T:\\YuLab\\Video\\Naveed\\GPS_20_ThreeFPHoldSRTProbe\\20240731\\Init\\Clips...\n",
      "Saving csv poses!\n",
      "Starting to analyze %  T:/YuLab/Video/Naveed/GPS_20_ThreeFPHoldSRTProbe/20240731/Init/Clips/Naveed_20240731_Trial108_InitView.avi\n",
      "Loading  T:/YuLab/Video/Naveed/GPS_20_ThreeFPHoldSRTProbe/20240731/Init/Clips/Naveed_20240731_Trial108_InitView.avi\n",
      "Duration of video [s]:  4.0 , recorded with  20.0 fps!\n",
      "Overall # of frames:  80  found with (before cropping) frame dimensions:  1280 1024\n",
      "Starting to extract posture\n"
     ]
    },
    {
     "name": "stderr",
     "output_type": "stream",
     "text": [
      "100%|██████████| 80/80 [00:05<00:00, 13.92it/s]\n"
     ]
    },
    {
     "name": "stdout",
     "output_type": "stream",
     "text": [
      "Saving results in T:\\YuLab\\Video\\Naveed\\GPS_20_ThreeFPHoldSRTProbe\\20240731\\Init\\Clips...\n",
      "Saving csv poses!\n",
      "Starting to analyze %  T:/YuLab/Video/Naveed/GPS_20_ThreeFPHoldSRTProbe/20240731/Init/Clips/Naveed_20240731_Trial109_InitView.avi\n",
      "Loading  T:/YuLab/Video/Naveed/GPS_20_ThreeFPHoldSRTProbe/20240731/Init/Clips/Naveed_20240731_Trial109_InitView.avi\n",
      "Duration of video [s]:  4.0 , recorded with  20.0 fps!\n",
      "Overall # of frames:  80  found with (before cropping) frame dimensions:  1280 1024\n",
      "Starting to extract posture\n"
     ]
    },
    {
     "name": "stderr",
     "output_type": "stream",
     "text": [
      "100%|██████████| 80/80 [00:05<00:00, 14.08it/s]\n"
     ]
    },
    {
     "name": "stdout",
     "output_type": "stream",
     "text": [
      "Saving results in T:\\YuLab\\Video\\Naveed\\GPS_20_ThreeFPHoldSRTProbe\\20240731\\Init\\Clips...\n",
      "Saving csv poses!\n",
      "Starting to analyze %  T:/YuLab/Video/Naveed/GPS_20_ThreeFPHoldSRTProbe/20240731/Init/Clips/Naveed_20240731_Trial110_InitView.avi\n",
      "Loading  T:/YuLab/Video/Naveed/GPS_20_ThreeFPHoldSRTProbe/20240731/Init/Clips/Naveed_20240731_Trial110_InitView.avi\n",
      "Duration of video [s]:  4.0 , recorded with  20.0 fps!\n",
      "Overall # of frames:  80  found with (before cropping) frame dimensions:  1280 1024\n",
      "Starting to extract posture\n"
     ]
    },
    {
     "name": "stderr",
     "output_type": "stream",
     "text": [
      "100%|██████████| 80/80 [00:05<00:00, 14.01it/s]\n"
     ]
    },
    {
     "name": "stdout",
     "output_type": "stream",
     "text": [
      "Saving results in T:\\YuLab\\Video\\Naveed\\GPS_20_ThreeFPHoldSRTProbe\\20240731\\Init\\Clips...\n",
      "Saving csv poses!\n",
      "Starting to analyze %  T:/YuLab/Video/Naveed/GPS_20_ThreeFPHoldSRTProbe/20240731/Init/Clips/Naveed_20240731_Trial111_InitView.avi\n",
      "Loading  T:/YuLab/Video/Naveed/GPS_20_ThreeFPHoldSRTProbe/20240731/Init/Clips/Naveed_20240731_Trial111_InitView.avi\n",
      "Duration of video [s]:  4.0 , recorded with  20.0 fps!\n",
      "Overall # of frames:  80  found with (before cropping) frame dimensions:  1280 1024\n",
      "Starting to extract posture\n"
     ]
    },
    {
     "name": "stderr",
     "output_type": "stream",
     "text": [
      "100%|██████████| 80/80 [00:05<00:00, 14.39it/s]\n"
     ]
    },
    {
     "name": "stdout",
     "output_type": "stream",
     "text": [
      "Saving results in T:\\YuLab\\Video\\Naveed\\GPS_20_ThreeFPHoldSRTProbe\\20240731\\Init\\Clips...\n",
      "Saving csv poses!\n",
      "Starting to analyze %  T:/YuLab/Video/Naveed/GPS_20_ThreeFPHoldSRTProbe/20240731/Init/Clips/Naveed_20240731_Trial112_InitView.avi\n",
      "Loading  T:/YuLab/Video/Naveed/GPS_20_ThreeFPHoldSRTProbe/20240731/Init/Clips/Naveed_20240731_Trial112_InitView.avi\n",
      "Duration of video [s]:  4.0 , recorded with  20.0 fps!\n",
      "Overall # of frames:  80  found with (before cropping) frame dimensions:  1280 1024\n",
      "Starting to extract posture\n"
     ]
    },
    {
     "name": "stderr",
     "output_type": "stream",
     "text": [
      "100%|██████████| 80/80 [00:05<00:00, 14.24it/s]\n"
     ]
    },
    {
     "name": "stdout",
     "output_type": "stream",
     "text": [
      "Saving results in T:\\YuLab\\Video\\Naveed\\GPS_20_ThreeFPHoldSRTProbe\\20240731\\Init\\Clips...\n",
      "Saving csv poses!\n",
      "Starting to analyze %  T:/YuLab/Video/Naveed/GPS_20_ThreeFPHoldSRTProbe/20240731/Init/Clips/Naveed_20240731_Trial113_InitView.avi\n",
      "Loading  T:/YuLab/Video/Naveed/GPS_20_ThreeFPHoldSRTProbe/20240731/Init/Clips/Naveed_20240731_Trial113_InitView.avi\n",
      "Duration of video [s]:  4.0 , recorded with  20.0 fps!\n",
      "Overall # of frames:  80  found with (before cropping) frame dimensions:  1280 1024\n",
      "Starting to extract posture\n"
     ]
    },
    {
     "name": "stderr",
     "output_type": "stream",
     "text": [
      "100%|██████████| 80/80 [00:05<00:00, 13.97it/s]\n"
     ]
    },
    {
     "name": "stdout",
     "output_type": "stream",
     "text": [
      "Saving results in T:\\YuLab\\Video\\Naveed\\GPS_20_ThreeFPHoldSRTProbe\\20240731\\Init\\Clips...\n",
      "Saving csv poses!\n",
      "Starting to analyze %  T:/YuLab/Video/Naveed/GPS_20_ThreeFPHoldSRTProbe/20240731/Init/Clips/Naveed_20240731_Trial114_InitView.avi\n",
      "Loading  T:/YuLab/Video/Naveed/GPS_20_ThreeFPHoldSRTProbe/20240731/Init/Clips/Naveed_20240731_Trial114_InitView.avi\n",
      "Duration of video [s]:  4.0 , recorded with  20.0 fps!\n",
      "Overall # of frames:  80  found with (before cropping) frame dimensions:  1280 1024\n",
      "Starting to extract posture\n"
     ]
    },
    {
     "name": "stderr",
     "output_type": "stream",
     "text": [
      "100%|██████████| 80/80 [00:05<00:00, 14.31it/s]\n"
     ]
    },
    {
     "name": "stdout",
     "output_type": "stream",
     "text": [
      "Saving results in T:\\YuLab\\Video\\Naveed\\GPS_20_ThreeFPHoldSRTProbe\\20240731\\Init\\Clips...\n",
      "Saving csv poses!\n",
      "Starting to analyze %  T:/YuLab/Video/Naveed/GPS_20_ThreeFPHoldSRTProbe/20240731/Init/Clips/Naveed_20240731_Trial115_InitView.avi\n",
      "Loading  T:/YuLab/Video/Naveed/GPS_20_ThreeFPHoldSRTProbe/20240731/Init/Clips/Naveed_20240731_Trial115_InitView.avi\n",
      "Duration of video [s]:  4.0 , recorded with  20.0 fps!\n",
      "Overall # of frames:  80  found with (before cropping) frame dimensions:  1280 1024\n",
      "Starting to extract posture\n"
     ]
    },
    {
     "name": "stderr",
     "output_type": "stream",
     "text": [
      "100%|██████████| 80/80 [00:05<00:00, 14.01it/s]\n"
     ]
    },
    {
     "name": "stdout",
     "output_type": "stream",
     "text": [
      "Saving results in T:\\YuLab\\Video\\Naveed\\GPS_20_ThreeFPHoldSRTProbe\\20240731\\Init\\Clips...\n",
      "Saving csv poses!\n",
      "Starting to analyze %  T:/YuLab/Video/Naveed/GPS_20_ThreeFPHoldSRTProbe/20240731/Init/Clips/Naveed_20240731_Trial116_InitView.avi\n",
      "Loading  T:/YuLab/Video/Naveed/GPS_20_ThreeFPHoldSRTProbe/20240731/Init/Clips/Naveed_20240731_Trial116_InitView.avi\n",
      "Duration of video [s]:  4.0 , recorded with  20.0 fps!\n",
      "Overall # of frames:  80  found with (before cropping) frame dimensions:  1280 1024\n",
      "Starting to extract posture\n"
     ]
    },
    {
     "name": "stderr",
     "output_type": "stream",
     "text": [
      "100%|██████████| 80/80 [00:05<00:00, 14.20it/s]\n"
     ]
    },
    {
     "name": "stdout",
     "output_type": "stream",
     "text": [
      "Saving results in T:\\YuLab\\Video\\Naveed\\GPS_20_ThreeFPHoldSRTProbe\\20240731\\Init\\Clips...\n",
      "Saving csv poses!\n",
      "Starting to analyze %  T:/YuLab/Video/Naveed/GPS_20_ThreeFPHoldSRTProbe/20240731/Init/Clips/Naveed_20240731_Trial117_InitView.avi\n",
      "Loading  T:/YuLab/Video/Naveed/GPS_20_ThreeFPHoldSRTProbe/20240731/Init/Clips/Naveed_20240731_Trial117_InitView.avi\n",
      "Duration of video [s]:  4.0 , recorded with  20.0 fps!\n",
      "Overall # of frames:  80  found with (before cropping) frame dimensions:  1280 1024\n",
      "Starting to extract posture\n"
     ]
    },
    {
     "name": "stderr",
     "output_type": "stream",
     "text": [
      "100%|██████████| 80/80 [00:05<00:00, 14.02it/s]\n"
     ]
    },
    {
     "name": "stdout",
     "output_type": "stream",
     "text": [
      "Saving results in T:\\YuLab\\Video\\Naveed\\GPS_20_ThreeFPHoldSRTProbe\\20240731\\Init\\Clips...\n",
      "Saving csv poses!\n",
      "Starting to analyze %  T:/YuLab/Video/Naveed/GPS_20_ThreeFPHoldSRTProbe/20240731/Init/Clips/Naveed_20240731_Trial118_InitView.avi\n",
      "Loading  T:/YuLab/Video/Naveed/GPS_20_ThreeFPHoldSRTProbe/20240731/Init/Clips/Naveed_20240731_Trial118_InitView.avi\n",
      "Duration of video [s]:  4.0 , recorded with  20.0 fps!\n",
      "Overall # of frames:  80  found with (before cropping) frame dimensions:  1280 1024\n",
      "Starting to extract posture\n"
     ]
    },
    {
     "name": "stderr",
     "output_type": "stream",
     "text": [
      "100%|██████████| 80/80 [00:05<00:00, 14.41it/s]\n"
     ]
    },
    {
     "name": "stdout",
     "output_type": "stream",
     "text": [
      "Saving results in T:\\YuLab\\Video\\Naveed\\GPS_20_ThreeFPHoldSRTProbe\\20240731\\Init\\Clips...\n",
      "Saving csv poses!\n",
      "Starting to analyze %  T:/YuLab/Video/Naveed/GPS_20_ThreeFPHoldSRTProbe/20240731/Init/Clips/Naveed_20240731_Trial119_InitView.avi\n",
      "Loading  T:/YuLab/Video/Naveed/GPS_20_ThreeFPHoldSRTProbe/20240731/Init/Clips/Naveed_20240731_Trial119_InitView.avi\n",
      "Duration of video [s]:  4.0 , recorded with  20.0 fps!\n",
      "Overall # of frames:  80  found with (before cropping) frame dimensions:  1280 1024\n",
      "Starting to extract posture\n"
     ]
    },
    {
     "name": "stderr",
     "output_type": "stream",
     "text": [
      "100%|██████████| 80/80 [00:05<00:00, 14.07it/s]\n"
     ]
    },
    {
     "name": "stdout",
     "output_type": "stream",
     "text": [
      "Saving results in T:\\YuLab\\Video\\Naveed\\GPS_20_ThreeFPHoldSRTProbe\\20240731\\Init\\Clips...\n",
      "Saving csv poses!\n",
      "Starting to analyze %  T:/YuLab/Video/Naveed/GPS_20_ThreeFPHoldSRTProbe/20240731/Init/Clips/Naveed_20240731_Trial120_InitView.avi\n",
      "Loading  T:/YuLab/Video/Naveed/GPS_20_ThreeFPHoldSRTProbe/20240731/Init/Clips/Naveed_20240731_Trial120_InitView.avi\n",
      "Duration of video [s]:  4.0 , recorded with  20.0 fps!\n",
      "Overall # of frames:  80  found with (before cropping) frame dimensions:  1280 1024\n",
      "Starting to extract posture\n"
     ]
    },
    {
     "name": "stderr",
     "output_type": "stream",
     "text": [
      "100%|██████████| 80/80 [00:05<00:00, 13.79it/s]\n"
     ]
    },
    {
     "name": "stdout",
     "output_type": "stream",
     "text": [
      "Saving results in T:\\YuLab\\Video\\Naveed\\GPS_20_ThreeFPHoldSRTProbe\\20240731\\Init\\Clips...\n",
      "Saving csv poses!\n",
      "Starting to analyze %  T:/YuLab/Video/Naveed/GPS_20_ThreeFPHoldSRTProbe/20240731/Init/Clips/Naveed_20240731_Trial121_InitView.avi\n",
      "Loading  T:/YuLab/Video/Naveed/GPS_20_ThreeFPHoldSRTProbe/20240731/Init/Clips/Naveed_20240731_Trial121_InitView.avi\n",
      "Duration of video [s]:  4.0 , recorded with  20.0 fps!\n",
      "Overall # of frames:  80  found with (before cropping) frame dimensions:  1280 1024\n",
      "Starting to extract posture\n"
     ]
    },
    {
     "name": "stderr",
     "output_type": "stream",
     "text": [
      "100%|██████████| 80/80 [00:05<00:00, 14.07it/s]\n"
     ]
    },
    {
     "name": "stdout",
     "output_type": "stream",
     "text": [
      "Saving results in T:\\YuLab\\Video\\Naveed\\GPS_20_ThreeFPHoldSRTProbe\\20240731\\Init\\Clips...\n",
      "Saving csv poses!\n",
      "Starting to analyze %  T:/YuLab/Video/Naveed/GPS_20_ThreeFPHoldSRTProbe/20240731/Init/Clips/Naveed_20240731_Trial122_InitView.avi\n",
      "Loading  T:/YuLab/Video/Naveed/GPS_20_ThreeFPHoldSRTProbe/20240731/Init/Clips/Naveed_20240731_Trial122_InitView.avi\n",
      "Duration of video [s]:  4.0 , recorded with  20.0 fps!\n",
      "Overall # of frames:  80  found with (before cropping) frame dimensions:  1280 1024\n",
      "Starting to extract posture\n"
     ]
    },
    {
     "name": "stderr",
     "output_type": "stream",
     "text": [
      "100%|██████████| 80/80 [00:05<00:00, 14.51it/s]\n"
     ]
    },
    {
     "name": "stdout",
     "output_type": "stream",
     "text": [
      "Saving results in T:\\YuLab\\Video\\Naveed\\GPS_20_ThreeFPHoldSRTProbe\\20240731\\Init\\Clips...\n",
      "Saving csv poses!\n",
      "Starting to analyze %  T:/YuLab/Video/Naveed/GPS_20_ThreeFPHoldSRTProbe/20240731/Init/Clips/Naveed_20240731_Trial123_InitView.avi\n",
      "Loading  T:/YuLab/Video/Naveed/GPS_20_ThreeFPHoldSRTProbe/20240731/Init/Clips/Naveed_20240731_Trial123_InitView.avi\n",
      "Duration of video [s]:  4.0 , recorded with  20.0 fps!\n",
      "Overall # of frames:  80  found with (before cropping) frame dimensions:  1280 1024\n",
      "Starting to extract posture\n"
     ]
    },
    {
     "name": "stderr",
     "output_type": "stream",
     "text": [
      "100%|██████████| 80/80 [00:05<00:00, 14.08it/s]\n"
     ]
    },
    {
     "name": "stdout",
     "output_type": "stream",
     "text": [
      "Saving results in T:\\YuLab\\Video\\Naveed\\GPS_20_ThreeFPHoldSRTProbe\\20240731\\Init\\Clips...\n",
      "Saving csv poses!\n",
      "Starting to analyze %  T:/YuLab/Video/Naveed/GPS_20_ThreeFPHoldSRTProbe/20240731/Init/Clips/Naveed_20240731_Trial124_InitView.avi\n",
      "Loading  T:/YuLab/Video/Naveed/GPS_20_ThreeFPHoldSRTProbe/20240731/Init/Clips/Naveed_20240731_Trial124_InitView.avi\n",
      "Duration of video [s]:  4.0 , recorded with  20.0 fps!\n",
      "Overall # of frames:  80  found with (before cropping) frame dimensions:  1280 1024\n",
      "Starting to extract posture\n"
     ]
    },
    {
     "name": "stderr",
     "output_type": "stream",
     "text": [
      "100%|██████████| 80/80 [00:05<00:00, 13.82it/s]\n"
     ]
    },
    {
     "name": "stdout",
     "output_type": "stream",
     "text": [
      "Saving results in T:\\YuLab\\Video\\Naveed\\GPS_20_ThreeFPHoldSRTProbe\\20240731\\Init\\Clips...\n",
      "Saving csv poses!\n",
      "Starting to analyze %  T:/YuLab/Video/Naveed/GPS_20_ThreeFPHoldSRTProbe/20240731/Init/Clips/Naveed_20240731_Trial125_InitView.avi\n",
      "Loading  T:/YuLab/Video/Naveed/GPS_20_ThreeFPHoldSRTProbe/20240731/Init/Clips/Naveed_20240731_Trial125_InitView.avi\n",
      "Duration of video [s]:  4.0 , recorded with  20.0 fps!\n",
      "Overall # of frames:  80  found with (before cropping) frame dimensions:  1280 1024\n",
      "Starting to extract posture\n"
     ]
    },
    {
     "name": "stderr",
     "output_type": "stream",
     "text": [
      "100%|██████████| 80/80 [00:05<00:00, 13.98it/s]\n"
     ]
    },
    {
     "name": "stdout",
     "output_type": "stream",
     "text": [
      "Saving results in T:\\YuLab\\Video\\Naveed\\GPS_20_ThreeFPHoldSRTProbe\\20240731\\Init\\Clips...\n",
      "Saving csv poses!\n",
      "Starting to analyze %  T:/YuLab/Video/Naveed/GPS_20_ThreeFPHoldSRTProbe/20240731/Init/Clips/Naveed_20240731_Trial126_InitView.avi\n",
      "Loading  T:/YuLab/Video/Naveed/GPS_20_ThreeFPHoldSRTProbe/20240731/Init/Clips/Naveed_20240731_Trial126_InitView.avi\n",
      "Duration of video [s]:  4.0 , recorded with  20.0 fps!\n",
      "Overall # of frames:  80  found with (before cropping) frame dimensions:  1280 1024\n",
      "Starting to extract posture\n"
     ]
    },
    {
     "name": "stderr",
     "output_type": "stream",
     "text": [
      "100%|██████████| 80/80 [00:05<00:00, 14.05it/s]\n"
     ]
    },
    {
     "name": "stdout",
     "output_type": "stream",
     "text": [
      "Saving results in T:\\YuLab\\Video\\Naveed\\GPS_20_ThreeFPHoldSRTProbe\\20240731\\Init\\Clips...\n",
      "Saving csv poses!\n",
      "Starting to analyze %  T:/YuLab/Video/Naveed/GPS_20_ThreeFPHoldSRTProbe/20240731/Init/Clips/Naveed_20240731_Trial127_InitView.avi\n",
      "Loading  T:/YuLab/Video/Naveed/GPS_20_ThreeFPHoldSRTProbe/20240731/Init/Clips/Naveed_20240731_Trial127_InitView.avi\n",
      "Duration of video [s]:  4.05 , recorded with  20.0 fps!\n",
      "Overall # of frames:  81  found with (before cropping) frame dimensions:  1280 1024\n",
      "Starting to extract posture\n"
     ]
    },
    {
     "name": "stderr",
     "output_type": "stream",
     "text": [
      "100%|██████████| 81/81 [00:06<00:00, 12.90it/s]\n"
     ]
    },
    {
     "name": "stdout",
     "output_type": "stream",
     "text": [
      "Saving results in T:\\YuLab\\Video\\Naveed\\GPS_20_ThreeFPHoldSRTProbe\\20240731\\Init\\Clips...\n",
      "Saving csv poses!\n",
      "Starting to analyze %  T:/YuLab/Video/Naveed/GPS_20_ThreeFPHoldSRTProbe/20240731/Init/Clips/Naveed_20240731_Trial128_InitView.avi\n",
      "Loading  T:/YuLab/Video/Naveed/GPS_20_ThreeFPHoldSRTProbe/20240731/Init/Clips/Naveed_20240731_Trial128_InitView.avi\n",
      "Duration of video [s]:  4.0 , recorded with  20.0 fps!\n",
      "Overall # of frames:  80  found with (before cropping) frame dimensions:  1280 1024\n",
      "Starting to extract posture\n"
     ]
    },
    {
     "name": "stderr",
     "output_type": "stream",
     "text": [
      "100%|██████████| 80/80 [00:05<00:00, 14.64it/s]\n"
     ]
    },
    {
     "name": "stdout",
     "output_type": "stream",
     "text": [
      "Saving results in T:\\YuLab\\Video\\Naveed\\GPS_20_ThreeFPHoldSRTProbe\\20240731\\Init\\Clips...\n",
      "Saving csv poses!\n",
      "Starting to analyze %  T:/YuLab/Video/Naveed/GPS_20_ThreeFPHoldSRTProbe/20240731/Init/Clips/Naveed_20240731_Trial129_InitView.avi\n",
      "Loading  T:/YuLab/Video/Naveed/GPS_20_ThreeFPHoldSRTProbe/20240731/Init/Clips/Naveed_20240731_Trial129_InitView.avi\n",
      "Duration of video [s]:  4.0 , recorded with  20.0 fps!\n",
      "Overall # of frames:  80  found with (before cropping) frame dimensions:  1280 1024\n",
      "Starting to extract posture\n"
     ]
    },
    {
     "name": "stderr",
     "output_type": "stream",
     "text": [
      "100%|██████████| 80/80 [00:05<00:00, 13.79it/s]\n"
     ]
    },
    {
     "name": "stdout",
     "output_type": "stream",
     "text": [
      "Saving results in T:\\YuLab\\Video\\Naveed\\GPS_20_ThreeFPHoldSRTProbe\\20240731\\Init\\Clips...\n",
      "Saving csv poses!\n",
      "Starting to analyze %  T:/YuLab/Video/Naveed/GPS_20_ThreeFPHoldSRTProbe/20240731/Init/Clips/Naveed_20240731_Trial130_InitView.avi\n",
      "Loading  T:/YuLab/Video/Naveed/GPS_20_ThreeFPHoldSRTProbe/20240731/Init/Clips/Naveed_20240731_Trial130_InitView.avi\n",
      "Duration of video [s]:  4.0 , recorded with  20.0 fps!\n",
      "Overall # of frames:  80  found with (before cropping) frame dimensions:  1280 1024\n",
      "Starting to extract posture\n"
     ]
    },
    {
     "name": "stderr",
     "output_type": "stream",
     "text": [
      "100%|██████████| 80/80 [00:05<00:00, 14.33it/s]\n"
     ]
    },
    {
     "name": "stdout",
     "output_type": "stream",
     "text": [
      "Saving results in T:\\YuLab\\Video\\Naveed\\GPS_20_ThreeFPHoldSRTProbe\\20240731\\Init\\Clips...\n",
      "Saving csv poses!\n",
      "Starting to analyze %  T:/YuLab/Video/Naveed/GPS_20_ThreeFPHoldSRTProbe/20240731/Init/Clips/Naveed_20240731_Trial131_InitView.avi\n",
      "Loading  T:/YuLab/Video/Naveed/GPS_20_ThreeFPHoldSRTProbe/20240731/Init/Clips/Naveed_20240731_Trial131_InitView.avi\n",
      "Duration of video [s]:  4.0 , recorded with  20.0 fps!\n",
      "Overall # of frames:  80  found with (before cropping) frame dimensions:  1280 1024\n",
      "Starting to extract posture\n"
     ]
    },
    {
     "name": "stderr",
     "output_type": "stream",
     "text": [
      "100%|██████████| 80/80 [00:05<00:00, 14.03it/s]\n"
     ]
    },
    {
     "name": "stdout",
     "output_type": "stream",
     "text": [
      "Saving results in T:\\YuLab\\Video\\Naveed\\GPS_20_ThreeFPHoldSRTProbe\\20240731\\Init\\Clips...\n",
      "Saving csv poses!\n",
      "Starting to analyze %  T:/YuLab/Video/Naveed/GPS_20_ThreeFPHoldSRTProbe/20240731/Init/Clips/Naveed_20240731_Trial132_InitView.avi\n",
      "Loading  T:/YuLab/Video/Naveed/GPS_20_ThreeFPHoldSRTProbe/20240731/Init/Clips/Naveed_20240731_Trial132_InitView.avi\n",
      "Duration of video [s]:  4.0 , recorded with  20.0 fps!\n",
      "Overall # of frames:  80  found with (before cropping) frame dimensions:  1280 1024\n",
      "Starting to extract posture\n"
     ]
    },
    {
     "name": "stderr",
     "output_type": "stream",
     "text": [
      "100%|██████████| 80/80 [00:05<00:00, 14.13it/s]\n"
     ]
    },
    {
     "name": "stdout",
     "output_type": "stream",
     "text": [
      "Saving results in T:\\YuLab\\Video\\Naveed\\GPS_20_ThreeFPHoldSRTProbe\\20240731\\Init\\Clips...\n",
      "Saving csv poses!\n",
      "Starting to analyze %  T:/YuLab/Video/Naveed/GPS_20_ThreeFPHoldSRTProbe/20240731/Init/Clips/Naveed_20240731_Trial133_InitView.avi\n",
      "Loading  T:/YuLab/Video/Naveed/GPS_20_ThreeFPHoldSRTProbe/20240731/Init/Clips/Naveed_20240731_Trial133_InitView.avi\n",
      "Duration of video [s]:  4.0 , recorded with  20.0 fps!\n",
      "Overall # of frames:  80  found with (before cropping) frame dimensions:  1280 1024\n",
      "Starting to extract posture\n"
     ]
    },
    {
     "name": "stderr",
     "output_type": "stream",
     "text": [
      "100%|██████████| 80/80 [00:05<00:00, 14.00it/s]\n"
     ]
    },
    {
     "name": "stdout",
     "output_type": "stream",
     "text": [
      "Saving results in T:\\YuLab\\Video\\Naveed\\GPS_20_ThreeFPHoldSRTProbe\\20240731\\Init\\Clips...\n",
      "Saving csv poses!\n",
      "Starting to analyze %  T:/YuLab/Video/Naveed/GPS_20_ThreeFPHoldSRTProbe/20240731/Init/Clips/Naveed_20240731_Trial134_InitView.avi\n",
      "Loading  T:/YuLab/Video/Naveed/GPS_20_ThreeFPHoldSRTProbe/20240731/Init/Clips/Naveed_20240731_Trial134_InitView.avi\n",
      "Duration of video [s]:  4.05 , recorded with  20.0 fps!\n",
      "Overall # of frames:  81  found with (before cropping) frame dimensions:  1280 1024\n",
      "Starting to extract posture\n"
     ]
    },
    {
     "name": "stderr",
     "output_type": "stream",
     "text": [
      "100%|██████████| 81/81 [00:06<00:00, 12.80it/s]\n"
     ]
    },
    {
     "name": "stdout",
     "output_type": "stream",
     "text": [
      "Saving results in T:\\YuLab\\Video\\Naveed\\GPS_20_ThreeFPHoldSRTProbe\\20240731\\Init\\Clips...\n",
      "Saving csv poses!\n",
      "Starting to analyze %  T:/YuLab/Video/Naveed/GPS_20_ThreeFPHoldSRTProbe/20240731/Init/Clips/Naveed_20240731_Trial135_InitView.avi\n",
      "Loading  T:/YuLab/Video/Naveed/GPS_20_ThreeFPHoldSRTProbe/20240731/Init/Clips/Naveed_20240731_Trial135_InitView.avi\n",
      "Duration of video [s]:  4.0 , recorded with  20.0 fps!\n",
      "Overall # of frames:  80  found with (before cropping) frame dimensions:  1280 1024\n",
      "Starting to extract posture\n"
     ]
    },
    {
     "name": "stderr",
     "output_type": "stream",
     "text": [
      "100%|██████████| 80/80 [00:05<00:00, 13.73it/s]\n"
     ]
    },
    {
     "name": "stdout",
     "output_type": "stream",
     "text": [
      "Saving results in T:\\YuLab\\Video\\Naveed\\GPS_20_ThreeFPHoldSRTProbe\\20240731\\Init\\Clips...\n",
      "Saving csv poses!\n",
      "Starting to analyze %  T:/YuLab/Video/Naveed/GPS_20_ThreeFPHoldSRTProbe/20240731/Init/Clips/Naveed_20240731_Trial136_InitView.avi\n",
      "Loading  T:/YuLab/Video/Naveed/GPS_20_ThreeFPHoldSRTProbe/20240731/Init/Clips/Naveed_20240731_Trial136_InitView.avi\n",
      "Duration of video [s]:  4.0 , recorded with  20.0 fps!\n",
      "Overall # of frames:  80  found with (before cropping) frame dimensions:  1280 1024\n",
      "Starting to extract posture\n"
     ]
    },
    {
     "name": "stderr",
     "output_type": "stream",
     "text": [
      "100%|██████████| 80/80 [00:05<00:00, 13.91it/s]\n"
     ]
    },
    {
     "name": "stdout",
     "output_type": "stream",
     "text": [
      "Saving results in T:\\YuLab\\Video\\Naveed\\GPS_20_ThreeFPHoldSRTProbe\\20240731\\Init\\Clips...\n",
      "Saving csv poses!\n",
      "Starting to analyze %  T:/YuLab/Video/Naveed/GPS_20_ThreeFPHoldSRTProbe/20240731/Init/Clips/Naveed_20240731_Trial137_InitView.avi\n",
      "Loading  T:/YuLab/Video/Naveed/GPS_20_ThreeFPHoldSRTProbe/20240731/Init/Clips/Naveed_20240731_Trial137_InitView.avi\n",
      "Duration of video [s]:  4.0 , recorded with  20.0 fps!\n",
      "Overall # of frames:  80  found with (before cropping) frame dimensions:  1280 1024\n",
      "Starting to extract posture\n"
     ]
    },
    {
     "name": "stderr",
     "output_type": "stream",
     "text": [
      "100%|██████████| 80/80 [00:05<00:00, 14.19it/s]\n"
     ]
    },
    {
     "name": "stdout",
     "output_type": "stream",
     "text": [
      "Saving results in T:\\YuLab\\Video\\Naveed\\GPS_20_ThreeFPHoldSRTProbe\\20240731\\Init\\Clips...\n",
      "Saving csv poses!\n",
      "Starting to analyze %  T:/YuLab/Video/Naveed/GPS_20_ThreeFPHoldSRTProbe/20240731/Init/Clips/Naveed_20240731_Trial138_InitView.avi\n",
      "Loading  T:/YuLab/Video/Naveed/GPS_20_ThreeFPHoldSRTProbe/20240731/Init/Clips/Naveed_20240731_Trial138_InitView.avi\n",
      "Duration of video [s]:  4.0 , recorded with  20.0 fps!\n",
      "Overall # of frames:  80  found with (before cropping) frame dimensions:  1280 1024\n",
      "Starting to extract posture\n"
     ]
    },
    {
     "name": "stderr",
     "output_type": "stream",
     "text": [
      "100%|██████████| 80/80 [00:05<00:00, 13.70it/s]\n"
     ]
    },
    {
     "name": "stdout",
     "output_type": "stream",
     "text": [
      "Saving results in T:\\YuLab\\Video\\Naveed\\GPS_20_ThreeFPHoldSRTProbe\\20240731\\Init\\Clips...\n",
      "Saving csv poses!\n",
      "Starting to analyze %  T:/YuLab/Video/Naveed/GPS_20_ThreeFPHoldSRTProbe/20240731/Init/Clips/Naveed_20240731_Trial139_InitView.avi\n",
      "Loading  T:/YuLab/Video/Naveed/GPS_20_ThreeFPHoldSRTProbe/20240731/Init/Clips/Naveed_20240731_Trial139_InitView.avi\n",
      "Duration of video [s]:  4.0 , recorded with  20.0 fps!\n",
      "Overall # of frames:  80  found with (before cropping) frame dimensions:  1280 1024\n",
      "Starting to extract posture\n"
     ]
    },
    {
     "name": "stderr",
     "output_type": "stream",
     "text": [
      "100%|██████████| 80/80 [00:05<00:00, 13.82it/s]\n"
     ]
    },
    {
     "name": "stdout",
     "output_type": "stream",
     "text": [
      "Saving results in T:\\YuLab\\Video\\Naveed\\GPS_20_ThreeFPHoldSRTProbe\\20240731\\Init\\Clips...\n",
      "Saving csv poses!\n",
      "Starting to analyze %  T:/YuLab/Video/Naveed/GPS_20_ThreeFPHoldSRTProbe/20240731/Init/Clips/Naveed_20240731_Trial140_InitView.avi\n",
      "Loading  T:/YuLab/Video/Naveed/GPS_20_ThreeFPHoldSRTProbe/20240731/Init/Clips/Naveed_20240731_Trial140_InitView.avi\n",
      "Duration of video [s]:  4.0 , recorded with  20.0 fps!\n",
      "Overall # of frames:  80  found with (before cropping) frame dimensions:  1280 1024\n",
      "Starting to extract posture\n"
     ]
    },
    {
     "name": "stderr",
     "output_type": "stream",
     "text": [
      "100%|██████████| 80/80 [00:05<00:00, 13.70it/s]\n"
     ]
    },
    {
     "name": "stdout",
     "output_type": "stream",
     "text": [
      "Saving results in T:\\YuLab\\Video\\Naveed\\GPS_20_ThreeFPHoldSRTProbe\\20240731\\Init\\Clips...\n",
      "Saving csv poses!\n",
      "Starting to analyze %  T:/YuLab/Video/Naveed/GPS_20_ThreeFPHoldSRTProbe/20240731/Init/Clips/Naveed_20240731_Trial141_InitView.avi\n",
      "Loading  T:/YuLab/Video/Naveed/GPS_20_ThreeFPHoldSRTProbe/20240731/Init/Clips/Naveed_20240731_Trial141_InitView.avi\n",
      "Duration of video [s]:  4.0 , recorded with  20.0 fps!\n",
      "Overall # of frames:  80  found with (before cropping) frame dimensions:  1280 1024\n",
      "Starting to extract posture\n"
     ]
    },
    {
     "name": "stderr",
     "output_type": "stream",
     "text": [
      "100%|██████████| 80/80 [00:05<00:00, 13.48it/s]\n"
     ]
    },
    {
     "name": "stdout",
     "output_type": "stream",
     "text": [
      "Saving results in T:\\YuLab\\Video\\Naveed\\GPS_20_ThreeFPHoldSRTProbe\\20240731\\Init\\Clips...\n",
      "Saving csv poses!\n",
      "Starting to analyze %  T:/YuLab/Video/Naveed/GPS_20_ThreeFPHoldSRTProbe/20240731/Init/Clips/Naveed_20240731_Trial142_InitView.avi\n",
      "Loading  T:/YuLab/Video/Naveed/GPS_20_ThreeFPHoldSRTProbe/20240731/Init/Clips/Naveed_20240731_Trial142_InitView.avi\n",
      "Duration of video [s]:  4.0 , recorded with  20.0 fps!\n",
      "Overall # of frames:  80  found with (before cropping) frame dimensions:  1280 1024\n",
      "Starting to extract posture\n"
     ]
    },
    {
     "name": "stderr",
     "output_type": "stream",
     "text": [
      "100%|██████████| 80/80 [00:05<00:00, 14.68it/s]\n"
     ]
    },
    {
     "name": "stdout",
     "output_type": "stream",
     "text": [
      "Saving results in T:\\YuLab\\Video\\Naveed\\GPS_20_ThreeFPHoldSRTProbe\\20240731\\Init\\Clips...\n",
      "Saving csv poses!\n",
      "Starting to analyze %  T:/YuLab/Video/Naveed/GPS_20_ThreeFPHoldSRTProbe/20240731/Init/Clips/Naveed_20240731_Trial143_InitView.avi\n",
      "Loading  T:/YuLab/Video/Naveed/GPS_20_ThreeFPHoldSRTProbe/20240731/Init/Clips/Naveed_20240731_Trial143_InitView.avi\n",
      "Duration of video [s]:  4.0 , recorded with  20.0 fps!\n",
      "Overall # of frames:  80  found with (before cropping) frame dimensions:  1280 1024\n",
      "Starting to extract posture\n"
     ]
    },
    {
     "name": "stderr",
     "output_type": "stream",
     "text": [
      "100%|██████████| 80/80 [00:05<00:00, 13.90it/s]\n"
     ]
    },
    {
     "name": "stdout",
     "output_type": "stream",
     "text": [
      "Saving results in T:\\YuLab\\Video\\Naveed\\GPS_20_ThreeFPHoldSRTProbe\\20240731\\Init\\Clips...\n",
      "Saving csv poses!\n",
      "Starting to analyze %  T:/YuLab/Video/Naveed/GPS_20_ThreeFPHoldSRTProbe/20240731/Init/Clips/Naveed_20240731_Trial144_InitView.avi\n",
      "Loading  T:/YuLab/Video/Naveed/GPS_20_ThreeFPHoldSRTProbe/20240731/Init/Clips/Naveed_20240731_Trial144_InitView.avi\n",
      "Duration of video [s]:  4.0 , recorded with  20.0 fps!\n",
      "Overall # of frames:  80  found with (before cropping) frame dimensions:  1280 1024\n",
      "Starting to extract posture\n"
     ]
    },
    {
     "name": "stderr",
     "output_type": "stream",
     "text": [
      "100%|██████████| 80/80 [00:05<00:00, 14.04it/s]\n"
     ]
    },
    {
     "name": "stdout",
     "output_type": "stream",
     "text": [
      "Saving results in T:\\YuLab\\Video\\Naveed\\GPS_20_ThreeFPHoldSRTProbe\\20240731\\Init\\Clips...\n",
      "Saving csv poses!\n",
      "Starting to analyze %  T:/YuLab/Video/Naveed/GPS_20_ThreeFPHoldSRTProbe/20240731/Init/Clips/Naveed_20240731_Trial145_InitView.avi\n",
      "Loading  T:/YuLab/Video/Naveed/GPS_20_ThreeFPHoldSRTProbe/20240731/Init/Clips/Naveed_20240731_Trial145_InitView.avi\n",
      "Duration of video [s]:  4.0 , recorded with  20.0 fps!\n",
      "Overall # of frames:  80  found with (before cropping) frame dimensions:  1280 1024\n",
      "Starting to extract posture\n"
     ]
    },
    {
     "name": "stderr",
     "output_type": "stream",
     "text": [
      "100%|██████████| 80/80 [00:05<00:00, 14.25it/s]\n"
     ]
    },
    {
     "name": "stdout",
     "output_type": "stream",
     "text": [
      "Saving results in T:\\YuLab\\Video\\Naveed\\GPS_20_ThreeFPHoldSRTProbe\\20240731\\Init\\Clips...\n",
      "Saving csv poses!\n",
      "Starting to analyze %  T:/YuLab/Video/Naveed/GPS_20_ThreeFPHoldSRTProbe/20240731/Init/Clips/Naveed_20240731_Trial146_InitView.avi\n",
      "Loading  T:/YuLab/Video/Naveed/GPS_20_ThreeFPHoldSRTProbe/20240731/Init/Clips/Naveed_20240731_Trial146_InitView.avi\n",
      "Duration of video [s]:  4.0 , recorded with  20.0 fps!\n",
      "Overall # of frames:  80  found with (before cropping) frame dimensions:  1280 1024\n",
      "Starting to extract posture\n"
     ]
    },
    {
     "name": "stderr",
     "output_type": "stream",
     "text": [
      "100%|██████████| 80/80 [00:05<00:00, 14.36it/s]\n"
     ]
    },
    {
     "name": "stdout",
     "output_type": "stream",
     "text": [
      "Saving results in T:\\YuLab\\Video\\Naveed\\GPS_20_ThreeFPHoldSRTProbe\\20240731\\Init\\Clips...\n",
      "Saving csv poses!\n",
      "Starting to analyze %  T:/YuLab/Video/Naveed/GPS_20_ThreeFPHoldSRTProbe/20240731/Init/Clips/Naveed_20240731_Trial147_InitView.avi\n",
      "Loading  T:/YuLab/Video/Naveed/GPS_20_ThreeFPHoldSRTProbe/20240731/Init/Clips/Naveed_20240731_Trial147_InitView.avi\n",
      "Duration of video [s]:  4.0 , recorded with  20.0 fps!\n",
      "Overall # of frames:  80  found with (before cropping) frame dimensions:  1280 1024\n",
      "Starting to extract posture\n"
     ]
    },
    {
     "name": "stderr",
     "output_type": "stream",
     "text": [
      "100%|██████████| 80/80 [00:05<00:00, 14.10it/s]\n"
     ]
    },
    {
     "name": "stdout",
     "output_type": "stream",
     "text": [
      "Saving results in T:\\YuLab\\Video\\Naveed\\GPS_20_ThreeFPHoldSRTProbe\\20240731\\Init\\Clips...\n",
      "Saving csv poses!\n",
      "Starting to analyze %  T:/YuLab/Video/Naveed/GPS_20_ThreeFPHoldSRTProbe/20240731/Init/Clips/Naveed_20240731_Trial148_InitView.avi\n",
      "Loading  T:/YuLab/Video/Naveed/GPS_20_ThreeFPHoldSRTProbe/20240731/Init/Clips/Naveed_20240731_Trial148_InitView.avi\n",
      "Duration of video [s]:  4.0 , recorded with  20.0 fps!\n",
      "Overall # of frames:  80  found with (before cropping) frame dimensions:  1280 1024\n",
      "Starting to extract posture\n"
     ]
    },
    {
     "name": "stderr",
     "output_type": "stream",
     "text": [
      "100%|██████████| 80/80 [00:05<00:00, 14.31it/s]\n"
     ]
    },
    {
     "name": "stdout",
     "output_type": "stream",
     "text": [
      "Saving results in T:\\YuLab\\Video\\Naveed\\GPS_20_ThreeFPHoldSRTProbe\\20240731\\Init\\Clips...\n",
      "Saving csv poses!\n",
      "Starting to analyze %  T:/YuLab/Video/Naveed/GPS_20_ThreeFPHoldSRTProbe/20240731/Init/Clips/Naveed_20240731_Trial149_InitView.avi\n",
      "Loading  T:/YuLab/Video/Naveed/GPS_20_ThreeFPHoldSRTProbe/20240731/Init/Clips/Naveed_20240731_Trial149_InitView.avi\n",
      "Duration of video [s]:  4.0 , recorded with  20.0 fps!\n",
      "Overall # of frames:  80  found with (before cropping) frame dimensions:  1280 1024\n",
      "Starting to extract posture\n"
     ]
    },
    {
     "name": "stderr",
     "output_type": "stream",
     "text": [
      "100%|██████████| 80/80 [00:05<00:00, 14.02it/s]\n"
     ]
    },
    {
     "name": "stdout",
     "output_type": "stream",
     "text": [
      "Saving results in T:\\YuLab\\Video\\Naveed\\GPS_20_ThreeFPHoldSRTProbe\\20240731\\Init\\Clips...\n",
      "Saving csv poses!\n",
      "Starting to analyze %  T:/YuLab/Video/Naveed/GPS_20_ThreeFPHoldSRTProbe/20240731/Init/Clips/Naveed_20240731_Trial150_InitView.avi\n",
      "Loading  T:/YuLab/Video/Naveed/GPS_20_ThreeFPHoldSRTProbe/20240731/Init/Clips/Naveed_20240731_Trial150_InitView.avi\n",
      "Duration of video [s]:  4.0 , recorded with  20.0 fps!\n",
      "Overall # of frames:  80  found with (before cropping) frame dimensions:  1280 1024\n",
      "Starting to extract posture\n"
     ]
    },
    {
     "name": "stderr",
     "output_type": "stream",
     "text": [
      "100%|██████████| 80/80 [00:05<00:00, 14.07it/s]\n"
     ]
    },
    {
     "name": "stdout",
     "output_type": "stream",
     "text": [
      "Saving results in T:\\YuLab\\Video\\Naveed\\GPS_20_ThreeFPHoldSRTProbe\\20240731\\Init\\Clips...\n",
      "Saving csv poses!\n",
      "Starting to analyze %  T:/YuLab/Video/Naveed/GPS_20_ThreeFPHoldSRTProbe/20240731/Init/Clips/Naveed_20240731_Trial152_InitView.avi\n",
      "Loading  T:/YuLab/Video/Naveed/GPS_20_ThreeFPHoldSRTProbe/20240731/Init/Clips/Naveed_20240731_Trial152_InitView.avi\n",
      "Duration of video [s]:  4.0 , recorded with  20.0 fps!\n",
      "Overall # of frames:  80  found with (before cropping) frame dimensions:  1280 1024\n",
      "Starting to extract posture\n"
     ]
    },
    {
     "name": "stderr",
     "output_type": "stream",
     "text": [
      "100%|██████████| 80/80 [00:05<00:00, 14.15it/s]\n"
     ]
    },
    {
     "name": "stdout",
     "output_type": "stream",
     "text": [
      "Saving results in T:\\YuLab\\Video\\Naveed\\GPS_20_ThreeFPHoldSRTProbe\\20240731\\Init\\Clips...\n",
      "Saving csv poses!\n",
      "Starting to analyze %  T:/YuLab/Video/Naveed/GPS_20_ThreeFPHoldSRTProbe/20240731/Init/Clips/Naveed_20240731_Trial153_InitView.avi\n",
      "Loading  T:/YuLab/Video/Naveed/GPS_20_ThreeFPHoldSRTProbe/20240731/Init/Clips/Naveed_20240731_Trial153_InitView.avi\n",
      "Duration of video [s]:  4.0 , recorded with  20.0 fps!\n",
      "Overall # of frames:  80  found with (before cropping) frame dimensions:  1280 1024\n",
      "Starting to extract posture\n"
     ]
    },
    {
     "name": "stderr",
     "output_type": "stream",
     "text": [
      "100%|██████████| 80/80 [00:05<00:00, 14.28it/s]\n"
     ]
    },
    {
     "name": "stdout",
     "output_type": "stream",
     "text": [
      "Saving results in T:\\YuLab\\Video\\Naveed\\GPS_20_ThreeFPHoldSRTProbe\\20240731\\Init\\Clips...\n",
      "Saving csv poses!\n",
      "Starting to analyze %  T:/YuLab/Video/Naveed/GPS_20_ThreeFPHoldSRTProbe/20240731/Init/Clips/Naveed_20240731_Trial154_InitView.avi\n",
      "Loading  T:/YuLab/Video/Naveed/GPS_20_ThreeFPHoldSRTProbe/20240731/Init/Clips/Naveed_20240731_Trial154_InitView.avi\n",
      "Duration of video [s]:  4.0 , recorded with  20.0 fps!\n",
      "Overall # of frames:  80  found with (before cropping) frame dimensions:  1280 1024\n",
      "Starting to extract posture\n"
     ]
    },
    {
     "name": "stderr",
     "output_type": "stream",
     "text": [
      "100%|██████████| 80/80 [00:05<00:00, 14.03it/s]\n"
     ]
    },
    {
     "name": "stdout",
     "output_type": "stream",
     "text": [
      "Saving results in T:\\YuLab\\Video\\Naveed\\GPS_20_ThreeFPHoldSRTProbe\\20240731\\Init\\Clips...\n",
      "Saving csv poses!\n",
      "Starting to analyze %  T:/YuLab/Video/Naveed/GPS_20_ThreeFPHoldSRTProbe/20240731/Init/Clips/Naveed_20240731_Trial155_InitView.avi\n",
      "Loading  T:/YuLab/Video/Naveed/GPS_20_ThreeFPHoldSRTProbe/20240731/Init/Clips/Naveed_20240731_Trial155_InitView.avi\n",
      "Duration of video [s]:  4.0 , recorded with  20.0 fps!\n",
      "Overall # of frames:  80  found with (before cropping) frame dimensions:  1280 1024\n",
      "Starting to extract posture\n"
     ]
    },
    {
     "name": "stderr",
     "output_type": "stream",
     "text": [
      "100%|██████████| 80/80 [00:05<00:00, 13.99it/s]\n"
     ]
    },
    {
     "name": "stdout",
     "output_type": "stream",
     "text": [
      "Saving results in T:\\YuLab\\Video\\Naveed\\GPS_20_ThreeFPHoldSRTProbe\\20240731\\Init\\Clips...\n",
      "Saving csv poses!\n",
      "Starting to analyze %  T:/YuLab/Video/Naveed/GPS_20_ThreeFPHoldSRTProbe/20240731/Init/Clips/Naveed_20240731_Trial156_InitView.avi\n",
      "Loading  T:/YuLab/Video/Naveed/GPS_20_ThreeFPHoldSRTProbe/20240731/Init/Clips/Naveed_20240731_Trial156_InitView.avi\n",
      "Duration of video [s]:  4.0 , recorded with  20.0 fps!\n",
      "Overall # of frames:  80  found with (before cropping) frame dimensions:  1280 1024\n",
      "Starting to extract posture\n"
     ]
    },
    {
     "name": "stderr",
     "output_type": "stream",
     "text": [
      "100%|██████████| 80/80 [00:05<00:00, 14.24it/s]\n"
     ]
    },
    {
     "name": "stdout",
     "output_type": "stream",
     "text": [
      "Saving results in T:\\YuLab\\Video\\Naveed\\GPS_20_ThreeFPHoldSRTProbe\\20240731\\Init\\Clips...\n",
      "Saving csv poses!\n",
      "Starting to analyze %  T:/YuLab/Video/Naveed/GPS_20_ThreeFPHoldSRTProbe/20240731/Init/Clips/Naveed_20240731_Trial157_InitView.avi\n",
      "Loading  T:/YuLab/Video/Naveed/GPS_20_ThreeFPHoldSRTProbe/20240731/Init/Clips/Naveed_20240731_Trial157_InitView.avi\n",
      "Duration of video [s]:  4.0 , recorded with  20.0 fps!\n",
      "Overall # of frames:  80  found with (before cropping) frame dimensions:  1280 1024\n",
      "Starting to extract posture\n"
     ]
    },
    {
     "name": "stderr",
     "output_type": "stream",
     "text": [
      "100%|██████████| 80/80 [00:05<00:00, 14.02it/s]\n"
     ]
    },
    {
     "name": "stdout",
     "output_type": "stream",
     "text": [
      "Saving results in T:\\YuLab\\Video\\Naveed\\GPS_20_ThreeFPHoldSRTProbe\\20240731\\Init\\Clips...\n",
      "Saving csv poses!\n",
      "Starting to analyze %  T:/YuLab/Video/Naveed/GPS_20_ThreeFPHoldSRTProbe/20240731/Init/Clips/Naveed_20240731_Trial158_InitView.avi\n",
      "Loading  T:/YuLab/Video/Naveed/GPS_20_ThreeFPHoldSRTProbe/20240731/Init/Clips/Naveed_20240731_Trial158_InitView.avi\n",
      "Duration of video [s]:  4.0 , recorded with  20.0 fps!\n",
      "Overall # of frames:  80  found with (before cropping) frame dimensions:  1280 1024\n",
      "Starting to extract posture\n"
     ]
    },
    {
     "name": "stderr",
     "output_type": "stream",
     "text": [
      "100%|██████████| 80/80 [00:05<00:00, 14.22it/s]\n"
     ]
    },
    {
     "name": "stdout",
     "output_type": "stream",
     "text": [
      "Saving results in T:\\YuLab\\Video\\Naveed\\GPS_20_ThreeFPHoldSRTProbe\\20240731\\Init\\Clips...\n",
      "Saving csv poses!\n",
      "Starting to analyze %  T:/YuLab/Video/Naveed/GPS_20_ThreeFPHoldSRTProbe/20240731/Init/Clips/Naveed_20240731_Trial159_InitView.avi\n",
      "Loading  T:/YuLab/Video/Naveed/GPS_20_ThreeFPHoldSRTProbe/20240731/Init/Clips/Naveed_20240731_Trial159_InitView.avi\n",
      "Duration of video [s]:  4.0 , recorded with  20.0 fps!\n",
      "Overall # of frames:  80  found with (before cropping) frame dimensions:  1280 1024\n",
      "Starting to extract posture\n"
     ]
    },
    {
     "name": "stderr",
     "output_type": "stream",
     "text": [
      "100%|██████████| 80/80 [00:05<00:00, 14.15it/s]\n"
     ]
    },
    {
     "name": "stdout",
     "output_type": "stream",
     "text": [
      "Saving results in T:\\YuLab\\Video\\Naveed\\GPS_20_ThreeFPHoldSRTProbe\\20240731\\Init\\Clips...\n",
      "Saving csv poses!\n",
      "Starting to analyze %  T:/YuLab/Video/Naveed/GPS_20_ThreeFPHoldSRTProbe/20240731/Init/Clips/Naveed_20240731_Trial160_InitView.avi\n",
      "Loading  T:/YuLab/Video/Naveed/GPS_20_ThreeFPHoldSRTProbe/20240731/Init/Clips/Naveed_20240731_Trial160_InitView.avi\n",
      "Duration of video [s]:  4.0 , recorded with  20.0 fps!\n",
      "Overall # of frames:  80  found with (before cropping) frame dimensions:  1280 1024\n",
      "Starting to extract posture\n"
     ]
    },
    {
     "name": "stderr",
     "output_type": "stream",
     "text": [
      "100%|██████████| 80/80 [00:05<00:00, 14.18it/s]\n"
     ]
    },
    {
     "name": "stdout",
     "output_type": "stream",
     "text": [
      "Saving results in T:\\YuLab\\Video\\Naveed\\GPS_20_ThreeFPHoldSRTProbe\\20240731\\Init\\Clips...\n",
      "Saving csv poses!\n",
      "Starting to analyze %  T:/YuLab/Video/Naveed/GPS_20_ThreeFPHoldSRTProbe/20240731/Init/Clips/Naveed_20240731_Trial161_InitView.avi\n",
      "Loading  T:/YuLab/Video/Naveed/GPS_20_ThreeFPHoldSRTProbe/20240731/Init/Clips/Naveed_20240731_Trial161_InitView.avi\n",
      "Duration of video [s]:  4.0 , recorded with  20.0 fps!\n",
      "Overall # of frames:  80  found with (before cropping) frame dimensions:  1280 1024\n",
      "Starting to extract posture\n"
     ]
    },
    {
     "name": "stderr",
     "output_type": "stream",
     "text": [
      "100%|██████████| 80/80 [00:05<00:00, 14.17it/s]\n"
     ]
    },
    {
     "name": "stdout",
     "output_type": "stream",
     "text": [
      "Saving results in T:\\YuLab\\Video\\Naveed\\GPS_20_ThreeFPHoldSRTProbe\\20240731\\Init\\Clips...\n",
      "Saving csv poses!\n",
      "Starting to analyze %  T:/YuLab/Video/Naveed/GPS_20_ThreeFPHoldSRTProbe/20240731/Init/Clips/Naveed_20240731_Trial162_InitView.avi\n",
      "Loading  T:/YuLab/Video/Naveed/GPS_20_ThreeFPHoldSRTProbe/20240731/Init/Clips/Naveed_20240731_Trial162_InitView.avi\n",
      "Duration of video [s]:  4.0 , recorded with  20.0 fps!\n",
      "Overall # of frames:  80  found with (before cropping) frame dimensions:  1280 1024\n",
      "Starting to extract posture\n"
     ]
    },
    {
     "name": "stderr",
     "output_type": "stream",
     "text": [
      "100%|██████████| 80/80 [00:05<00:00, 14.26it/s]\n"
     ]
    },
    {
     "name": "stdout",
     "output_type": "stream",
     "text": [
      "Saving results in T:\\YuLab\\Video\\Naveed\\GPS_20_ThreeFPHoldSRTProbe\\20240731\\Init\\Clips...\n",
      "Saving csv poses!\n",
      "Starting to analyze %  T:/YuLab/Video/Naveed/GPS_20_ThreeFPHoldSRTProbe/20240731/Init/Clips/Naveed_20240731_Trial163_InitView.avi\n",
      "Loading  T:/YuLab/Video/Naveed/GPS_20_ThreeFPHoldSRTProbe/20240731/Init/Clips/Naveed_20240731_Trial163_InitView.avi\n",
      "Duration of video [s]:  4.0 , recorded with  20.0 fps!\n",
      "Overall # of frames:  80  found with (before cropping) frame dimensions:  1280 1024\n",
      "Starting to extract posture\n"
     ]
    },
    {
     "name": "stderr",
     "output_type": "stream",
     "text": [
      "100%|██████████| 80/80 [00:05<00:00, 14.09it/s]\n"
     ]
    },
    {
     "name": "stdout",
     "output_type": "stream",
     "text": [
      "Saving results in T:\\YuLab\\Video\\Naveed\\GPS_20_ThreeFPHoldSRTProbe\\20240731\\Init\\Clips...\n",
      "Saving csv poses!\n",
      "Starting to analyze %  T:/YuLab/Video/Naveed/GPS_20_ThreeFPHoldSRTProbe/20240731/Init/Clips/Naveed_20240731_Trial164_InitView.avi\n",
      "Loading  T:/YuLab/Video/Naveed/GPS_20_ThreeFPHoldSRTProbe/20240731/Init/Clips/Naveed_20240731_Trial164_InitView.avi\n",
      "Duration of video [s]:  4.0 , recorded with  20.0 fps!\n",
      "Overall # of frames:  80  found with (before cropping) frame dimensions:  1280 1024\n",
      "Starting to extract posture\n"
     ]
    },
    {
     "name": "stderr",
     "output_type": "stream",
     "text": [
      "100%|██████████| 80/80 [00:05<00:00, 14.55it/s]\n"
     ]
    },
    {
     "name": "stdout",
     "output_type": "stream",
     "text": [
      "Saving results in T:\\YuLab\\Video\\Naveed\\GPS_20_ThreeFPHoldSRTProbe\\20240731\\Init\\Clips...\n",
      "Saving csv poses!\n",
      "Starting to analyze %  T:/YuLab/Video/Naveed/GPS_20_ThreeFPHoldSRTProbe/20240731/Init/Clips/Naveed_20240731_Trial165_InitView.avi\n",
      "Loading  T:/YuLab/Video/Naveed/GPS_20_ThreeFPHoldSRTProbe/20240731/Init/Clips/Naveed_20240731_Trial165_InitView.avi\n",
      "Duration of video [s]:  4.0 , recorded with  20.0 fps!\n",
      "Overall # of frames:  80  found with (before cropping) frame dimensions:  1280 1024\n",
      "Starting to extract posture\n"
     ]
    },
    {
     "name": "stderr",
     "output_type": "stream",
     "text": [
      "100%|██████████| 80/80 [00:05<00:00, 14.06it/s]\n"
     ]
    },
    {
     "name": "stdout",
     "output_type": "stream",
     "text": [
      "Saving results in T:\\YuLab\\Video\\Naveed\\GPS_20_ThreeFPHoldSRTProbe\\20240731\\Init\\Clips...\n",
      "Saving csv poses!\n",
      "Starting to analyze %  T:/YuLab/Video/Naveed/GPS_20_ThreeFPHoldSRTProbe/20240731/Init/Clips/Naveed_20240731_Trial166_InitView.avi\n",
      "Loading  T:/YuLab/Video/Naveed/GPS_20_ThreeFPHoldSRTProbe/20240731/Init/Clips/Naveed_20240731_Trial166_InitView.avi\n",
      "Duration of video [s]:  4.0 , recorded with  20.0 fps!\n",
      "Overall # of frames:  80  found with (before cropping) frame dimensions:  1280 1024\n",
      "Starting to extract posture\n"
     ]
    },
    {
     "name": "stderr",
     "output_type": "stream",
     "text": [
      "100%|██████████| 80/80 [00:05<00:00, 14.29it/s]\n"
     ]
    },
    {
     "name": "stdout",
     "output_type": "stream",
     "text": [
      "Saving results in T:\\YuLab\\Video\\Naveed\\GPS_20_ThreeFPHoldSRTProbe\\20240731\\Init\\Clips...\n",
      "Saving csv poses!\n",
      "Starting to analyze %  T:/YuLab/Video/Naveed/GPS_20_ThreeFPHoldSRTProbe/20240731/Init/Clips/Naveed_20240731_Trial167_InitView.avi\n",
      "Loading  T:/YuLab/Video/Naveed/GPS_20_ThreeFPHoldSRTProbe/20240731/Init/Clips/Naveed_20240731_Trial167_InitView.avi\n",
      "Duration of video [s]:  4.0 , recorded with  20.0 fps!\n",
      "Overall # of frames:  80  found with (before cropping) frame dimensions:  1280 1024\n",
      "Starting to extract posture\n"
     ]
    },
    {
     "name": "stderr",
     "output_type": "stream",
     "text": [
      "100%|██████████| 80/80 [00:05<00:00, 14.06it/s]\n"
     ]
    },
    {
     "name": "stdout",
     "output_type": "stream",
     "text": [
      "Saving results in T:\\YuLab\\Video\\Naveed\\GPS_20_ThreeFPHoldSRTProbe\\20240731\\Init\\Clips...\n",
      "Saving csv poses!\n",
      "Starting to analyze %  T:/YuLab/Video/Naveed/GPS_20_ThreeFPHoldSRTProbe/20240731/Init/Clips/Naveed_20240731_Trial168_InitView.avi\n",
      "Loading  T:/YuLab/Video/Naveed/GPS_20_ThreeFPHoldSRTProbe/20240731/Init/Clips/Naveed_20240731_Trial168_InitView.avi\n",
      "Duration of video [s]:  4.0 , recorded with  20.0 fps!\n",
      "Overall # of frames:  80  found with (before cropping) frame dimensions:  1280 1024\n",
      "Starting to extract posture\n"
     ]
    },
    {
     "name": "stderr",
     "output_type": "stream",
     "text": [
      "100%|██████████| 80/80 [00:05<00:00, 14.01it/s]\n"
     ]
    },
    {
     "name": "stdout",
     "output_type": "stream",
     "text": [
      "Saving results in T:\\YuLab\\Video\\Naveed\\GPS_20_ThreeFPHoldSRTProbe\\20240731\\Init\\Clips...\n",
      "Saving csv poses!\n",
      "Starting to analyze %  T:/YuLab/Video/Naveed/GPS_20_ThreeFPHoldSRTProbe/20240731/Init/Clips/Naveed_20240731_Trial169_InitView.avi\n",
      "Loading  T:/YuLab/Video/Naveed/GPS_20_ThreeFPHoldSRTProbe/20240731/Init/Clips/Naveed_20240731_Trial169_InitView.avi\n",
      "Duration of video [s]:  4.0 , recorded with  20.0 fps!\n",
      "Overall # of frames:  80  found with (before cropping) frame dimensions:  1280 1024\n",
      "Starting to extract posture\n"
     ]
    },
    {
     "name": "stderr",
     "output_type": "stream",
     "text": [
      "100%|██████████| 80/80 [00:05<00:00, 14.22it/s]\n"
     ]
    },
    {
     "name": "stdout",
     "output_type": "stream",
     "text": [
      "Saving results in T:\\YuLab\\Video\\Naveed\\GPS_20_ThreeFPHoldSRTProbe\\20240731\\Init\\Clips...\n",
      "Saving csv poses!\n",
      "Starting to analyze %  T:/YuLab/Video/Naveed/GPS_20_ThreeFPHoldSRTProbe/20240731/Init/Clips/Naveed_20240731_Trial170_InitView.avi\n",
      "Loading  T:/YuLab/Video/Naveed/GPS_20_ThreeFPHoldSRTProbe/20240731/Init/Clips/Naveed_20240731_Trial170_InitView.avi\n",
      "Duration of video [s]:  4.0 , recorded with  20.0 fps!\n",
      "Overall # of frames:  80  found with (before cropping) frame dimensions:  1280 1024\n",
      "Starting to extract posture\n"
     ]
    },
    {
     "name": "stderr",
     "output_type": "stream",
     "text": [
      "100%|██████████| 80/80 [00:05<00:00, 13.87it/s]\n"
     ]
    },
    {
     "name": "stdout",
     "output_type": "stream",
     "text": [
      "Saving results in T:\\YuLab\\Video\\Naveed\\GPS_20_ThreeFPHoldSRTProbe\\20240731\\Init\\Clips...\n",
      "Saving csv poses!\n",
      "Starting to analyze %  T:/YuLab/Video/Naveed/GPS_20_ThreeFPHoldSRTProbe/20240731/Init/Clips/Naveed_20240731_Trial171_InitView.avi\n",
      "Loading  T:/YuLab/Video/Naveed/GPS_20_ThreeFPHoldSRTProbe/20240731/Init/Clips/Naveed_20240731_Trial171_InitView.avi\n",
      "Duration of video [s]:  4.0 , recorded with  20.0 fps!\n",
      "Overall # of frames:  80  found with (before cropping) frame dimensions:  1280 1024\n",
      "Starting to extract posture\n"
     ]
    },
    {
     "name": "stderr",
     "output_type": "stream",
     "text": [
      "100%|██████████| 80/80 [00:05<00:00, 14.52it/s]\n"
     ]
    },
    {
     "name": "stdout",
     "output_type": "stream",
     "text": [
      "Saving results in T:\\YuLab\\Video\\Naveed\\GPS_20_ThreeFPHoldSRTProbe\\20240731\\Init\\Clips...\n",
      "Saving csv poses!\n",
      "Starting to analyze %  T:/YuLab/Video/Naveed/GPS_20_ThreeFPHoldSRTProbe/20240731/Init/Clips/Naveed_20240731_Trial172_InitView.avi\n",
      "Loading  T:/YuLab/Video/Naveed/GPS_20_ThreeFPHoldSRTProbe/20240731/Init/Clips/Naveed_20240731_Trial172_InitView.avi\n",
      "Duration of video [s]:  4.0 , recorded with  20.0 fps!\n",
      "Overall # of frames:  80  found with (before cropping) frame dimensions:  1280 1024\n",
      "Starting to extract posture\n"
     ]
    },
    {
     "name": "stderr",
     "output_type": "stream",
     "text": [
      "100%|██████████| 80/80 [00:05<00:00, 14.39it/s]\n"
     ]
    },
    {
     "name": "stdout",
     "output_type": "stream",
     "text": [
      "Saving results in T:\\YuLab\\Video\\Naveed\\GPS_20_ThreeFPHoldSRTProbe\\20240731\\Init\\Clips...\n",
      "Saving csv poses!\n",
      "Starting to analyze %  T:/YuLab/Video/Naveed/GPS_20_ThreeFPHoldSRTProbe/20240731/Init/Clips/Naveed_20240731_Trial173_InitView.avi\n",
      "Loading  T:/YuLab/Video/Naveed/GPS_20_ThreeFPHoldSRTProbe/20240731/Init/Clips/Naveed_20240731_Trial173_InitView.avi\n",
      "Duration of video [s]:  4.0 , recorded with  20.0 fps!\n",
      "Overall # of frames:  80  found with (before cropping) frame dimensions:  1280 1024\n",
      "Starting to extract posture\n"
     ]
    },
    {
     "name": "stderr",
     "output_type": "stream",
     "text": [
      "100%|██████████| 80/80 [00:05<00:00, 14.17it/s]\n"
     ]
    },
    {
     "name": "stdout",
     "output_type": "stream",
     "text": [
      "Saving results in T:\\YuLab\\Video\\Naveed\\GPS_20_ThreeFPHoldSRTProbe\\20240731\\Init\\Clips...\n",
      "Saving csv poses!\n",
      "Starting to analyze %  T:/YuLab/Video/Naveed/GPS_20_ThreeFPHoldSRTProbe/20240731/Init/Clips/Naveed_20240731_Trial174_InitView.avi\n",
      "Loading  T:/YuLab/Video/Naveed/GPS_20_ThreeFPHoldSRTProbe/20240731/Init/Clips/Naveed_20240731_Trial174_InitView.avi\n",
      "Duration of video [s]:  4.0 , recorded with  20.0 fps!\n",
      "Overall # of frames:  80  found with (before cropping) frame dimensions:  1280 1024\n",
      "Starting to extract posture\n"
     ]
    },
    {
     "name": "stderr",
     "output_type": "stream",
     "text": [
      "100%|██████████| 80/80 [00:06<00:00, 12.59it/s]\n"
     ]
    },
    {
     "name": "stdout",
     "output_type": "stream",
     "text": [
      "Saving results in T:\\YuLab\\Video\\Naveed\\GPS_20_ThreeFPHoldSRTProbe\\20240731\\Init\\Clips...\n",
      "Saving csv poses!\n",
      "Starting to analyze %  T:/YuLab/Video/Naveed/GPS_20_ThreeFPHoldSRTProbe/20240801/Init/Clips/Naveed_20240801_Trial009_InitView.avi\n",
      "Loading  T:/YuLab/Video/Naveed/GPS_20_ThreeFPHoldSRTProbe/20240801/Init/Clips/Naveed_20240801_Trial009_InitView.avi\n",
      "Duration of video [s]:  4.0 , recorded with  20.0 fps!\n",
      "Overall # of frames:  80  found with (before cropping) frame dimensions:  1280 1024\n",
      "Starting to extract posture\n"
     ]
    },
    {
     "name": "stderr",
     "output_type": "stream",
     "text": [
      "100%|██████████| 80/80 [00:05<00:00, 14.01it/s]\n"
     ]
    },
    {
     "name": "stdout",
     "output_type": "stream",
     "text": [
      "Saving results in T:\\YuLab\\Video\\Naveed\\GPS_20_ThreeFPHoldSRTProbe\\20240801\\Init\\Clips...\n",
      "Saving csv poses!\n",
      "Starting to analyze %  T:/YuLab/Video/Naveed/GPS_20_ThreeFPHoldSRTProbe/20240801/Init/Clips/Naveed_20240801_Trial010_InitView.avi\n",
      "Loading  T:/YuLab/Video/Naveed/GPS_20_ThreeFPHoldSRTProbe/20240801/Init/Clips/Naveed_20240801_Trial010_InitView.avi\n",
      "Duration of video [s]:  4.0 , recorded with  20.0 fps!\n",
      "Overall # of frames:  80  found with (before cropping) frame dimensions:  1280 1024\n",
      "Starting to extract posture\n"
     ]
    },
    {
     "name": "stderr",
     "output_type": "stream",
     "text": [
      "100%|██████████| 80/80 [00:05<00:00, 14.14it/s]\n"
     ]
    },
    {
     "name": "stdout",
     "output_type": "stream",
     "text": [
      "Saving results in T:\\YuLab\\Video\\Naveed\\GPS_20_ThreeFPHoldSRTProbe\\20240801\\Init\\Clips...\n",
      "Saving csv poses!\n",
      "Starting to analyze %  T:/YuLab/Video/Naveed/GPS_20_ThreeFPHoldSRTProbe/20240801/Init/Clips/Naveed_20240801_Trial011_InitView.avi\n",
      "Loading  T:/YuLab/Video/Naveed/GPS_20_ThreeFPHoldSRTProbe/20240801/Init/Clips/Naveed_20240801_Trial011_InitView.avi\n",
      "Duration of video [s]:  4.0 , recorded with  20.0 fps!\n",
      "Overall # of frames:  80  found with (before cropping) frame dimensions:  1280 1024\n",
      "Starting to extract posture\n"
     ]
    },
    {
     "name": "stderr",
     "output_type": "stream",
     "text": [
      "100%|██████████| 80/80 [00:05<00:00, 13.83it/s]\n"
     ]
    },
    {
     "name": "stdout",
     "output_type": "stream",
     "text": [
      "Saving results in T:\\YuLab\\Video\\Naveed\\GPS_20_ThreeFPHoldSRTProbe\\20240801\\Init\\Clips...\n",
      "Saving csv poses!\n",
      "Starting to analyze %  T:/YuLab/Video/Naveed/GPS_20_ThreeFPHoldSRTProbe/20240801/Init/Clips/Naveed_20240801_Trial012_InitView.avi\n",
      "Loading  T:/YuLab/Video/Naveed/GPS_20_ThreeFPHoldSRTProbe/20240801/Init/Clips/Naveed_20240801_Trial012_InitView.avi\n",
      "Duration of video [s]:  4.0 , recorded with  20.0 fps!\n",
      "Overall # of frames:  80  found with (before cropping) frame dimensions:  1280 1024\n",
      "Starting to extract posture\n"
     ]
    },
    {
     "name": "stderr",
     "output_type": "stream",
     "text": [
      "100%|██████████| 80/80 [00:05<00:00, 14.52it/s]\n"
     ]
    },
    {
     "name": "stdout",
     "output_type": "stream",
     "text": [
      "Saving results in T:\\YuLab\\Video\\Naveed\\GPS_20_ThreeFPHoldSRTProbe\\20240801\\Init\\Clips...\n",
      "Saving csv poses!\n",
      "Starting to analyze %  T:/YuLab/Video/Naveed/GPS_20_ThreeFPHoldSRTProbe/20240801/Init/Clips/Naveed_20240801_Trial013_InitView.avi\n",
      "Loading  T:/YuLab/Video/Naveed/GPS_20_ThreeFPHoldSRTProbe/20240801/Init/Clips/Naveed_20240801_Trial013_InitView.avi\n",
      "Duration of video [s]:  4.0 , recorded with  20.0 fps!\n",
      "Overall # of frames:  80  found with (before cropping) frame dimensions:  1280 1024\n",
      "Starting to extract posture\n"
     ]
    },
    {
     "name": "stderr",
     "output_type": "stream",
     "text": [
      "100%|██████████| 80/80 [00:05<00:00, 14.00it/s]\n"
     ]
    },
    {
     "name": "stdout",
     "output_type": "stream",
     "text": [
      "Saving results in T:\\YuLab\\Video\\Naveed\\GPS_20_ThreeFPHoldSRTProbe\\20240801\\Init\\Clips...\n",
      "Saving csv poses!\n",
      "Starting to analyze %  T:/YuLab/Video/Naveed/GPS_20_ThreeFPHoldSRTProbe/20240801/Init/Clips/Naveed_20240801_Trial014_InitView.avi\n",
      "Loading  T:/YuLab/Video/Naveed/GPS_20_ThreeFPHoldSRTProbe/20240801/Init/Clips/Naveed_20240801_Trial014_InitView.avi\n",
      "Duration of video [s]:  4.0 , recorded with  20.0 fps!\n",
      "Overall # of frames:  80  found with (before cropping) frame dimensions:  1280 1024\n",
      "Starting to extract posture\n"
     ]
    },
    {
     "name": "stderr",
     "output_type": "stream",
     "text": [
      "100%|██████████| 80/80 [00:05<00:00, 14.07it/s]\n"
     ]
    },
    {
     "name": "stdout",
     "output_type": "stream",
     "text": [
      "Saving results in T:\\YuLab\\Video\\Naveed\\GPS_20_ThreeFPHoldSRTProbe\\20240801\\Init\\Clips...\n",
      "Saving csv poses!\n",
      "Starting to analyze %  T:/YuLab/Video/Naveed/GPS_20_ThreeFPHoldSRTProbe/20240801/Init/Clips/Naveed_20240801_Trial015_InitView.avi\n",
      "Loading  T:/YuLab/Video/Naveed/GPS_20_ThreeFPHoldSRTProbe/20240801/Init/Clips/Naveed_20240801_Trial015_InitView.avi\n",
      "Duration of video [s]:  4.0 , recorded with  20.0 fps!\n",
      "Overall # of frames:  80  found with (before cropping) frame dimensions:  1280 1024\n",
      "Starting to extract posture\n"
     ]
    },
    {
     "name": "stderr",
     "output_type": "stream",
     "text": [
      "100%|██████████| 80/80 [00:05<00:00, 14.39it/s]\n"
     ]
    },
    {
     "name": "stdout",
     "output_type": "stream",
     "text": [
      "Saving results in T:\\YuLab\\Video\\Naveed\\GPS_20_ThreeFPHoldSRTProbe\\20240801\\Init\\Clips...\n",
      "Saving csv poses!\n",
      "Starting to analyze %  T:/YuLab/Video/Naveed/GPS_20_ThreeFPHoldSRTProbe/20240801/Init/Clips/Naveed_20240801_Trial016_InitView.avi\n",
      "Loading  T:/YuLab/Video/Naveed/GPS_20_ThreeFPHoldSRTProbe/20240801/Init/Clips/Naveed_20240801_Trial016_InitView.avi\n",
      "Duration of video [s]:  3.95 , recorded with  20.0 fps!\n",
      "Overall # of frames:  79  found with (before cropping) frame dimensions:  1280 1024\n",
      "Starting to extract posture\n"
     ]
    },
    {
     "name": "stderr",
     "output_type": "stream",
     "text": [
      "100%|██████████| 79/79 [00:05<00:00, 13.66it/s]\n"
     ]
    },
    {
     "name": "stdout",
     "output_type": "stream",
     "text": [
      "Saving results in T:\\YuLab\\Video\\Naveed\\GPS_20_ThreeFPHoldSRTProbe\\20240801\\Init\\Clips...\n",
      "Saving csv poses!\n",
      "Starting to analyze %  T:/YuLab/Video/Naveed/GPS_20_ThreeFPHoldSRTProbe/20240801/Init/Clips/Naveed_20240801_Trial017_InitView.avi\n",
      "Loading  T:/YuLab/Video/Naveed/GPS_20_ThreeFPHoldSRTProbe/20240801/Init/Clips/Naveed_20240801_Trial017_InitView.avi\n",
      "Duration of video [s]:  4.0 , recorded with  20.0 fps!\n",
      "Overall # of frames:  80  found with (before cropping) frame dimensions:  1280 1024\n",
      "Starting to extract posture\n"
     ]
    },
    {
     "name": "stderr",
     "output_type": "stream",
     "text": [
      "100%|██████████| 80/80 [00:05<00:00, 14.20it/s]\n"
     ]
    },
    {
     "name": "stdout",
     "output_type": "stream",
     "text": [
      "Saving results in T:\\YuLab\\Video\\Naveed\\GPS_20_ThreeFPHoldSRTProbe\\20240801\\Init\\Clips...\n",
      "Saving csv poses!\n",
      "Starting to analyze %  T:/YuLab/Video/Naveed/GPS_20_ThreeFPHoldSRTProbe/20240801/Init/Clips/Naveed_20240801_Trial018_InitView.avi\n",
      "Loading  T:/YuLab/Video/Naveed/GPS_20_ThreeFPHoldSRTProbe/20240801/Init/Clips/Naveed_20240801_Trial018_InitView.avi\n",
      "Duration of video [s]:  4.0 , recorded with  20.0 fps!\n",
      "Overall # of frames:  80  found with (before cropping) frame dimensions:  1280 1024\n",
      "Starting to extract posture\n"
     ]
    },
    {
     "name": "stderr",
     "output_type": "stream",
     "text": [
      "100%|██████████| 80/80 [00:05<00:00, 13.88it/s]\n"
     ]
    },
    {
     "name": "stdout",
     "output_type": "stream",
     "text": [
      "Saving results in T:\\YuLab\\Video\\Naveed\\GPS_20_ThreeFPHoldSRTProbe\\20240801\\Init\\Clips...\n",
      "Saving csv poses!\n",
      "Starting to analyze %  T:/YuLab/Video/Naveed/GPS_20_ThreeFPHoldSRTProbe/20240801/Init/Clips/Naveed_20240801_Trial019_InitView.avi\n",
      "Loading  T:/YuLab/Video/Naveed/GPS_20_ThreeFPHoldSRTProbe/20240801/Init/Clips/Naveed_20240801_Trial019_InitView.avi\n",
      "Duration of video [s]:  4.05 , recorded with  20.0 fps!\n",
      "Overall # of frames:  81  found with (before cropping) frame dimensions:  1280 1024\n",
      "Starting to extract posture\n"
     ]
    },
    {
     "name": "stderr",
     "output_type": "stream",
     "text": [
      "100%|██████████| 81/81 [00:06<00:00, 13.13it/s]\n"
     ]
    },
    {
     "name": "stdout",
     "output_type": "stream",
     "text": [
      "Saving results in T:\\YuLab\\Video\\Naveed\\GPS_20_ThreeFPHoldSRTProbe\\20240801\\Init\\Clips...\n",
      "Saving csv poses!\n",
      "Starting to analyze %  T:/YuLab/Video/Naveed/GPS_20_ThreeFPHoldSRTProbe/20240801/Init/Clips/Naveed_20240801_Trial020_InitView.avi\n",
      "Loading  T:/YuLab/Video/Naveed/GPS_20_ThreeFPHoldSRTProbe/20240801/Init/Clips/Naveed_20240801_Trial020_InitView.avi\n",
      "Duration of video [s]:  4.0 , recorded with  20.0 fps!\n",
      "Overall # of frames:  80  found with (before cropping) frame dimensions:  1280 1024\n",
      "Starting to extract posture\n"
     ]
    },
    {
     "name": "stderr",
     "output_type": "stream",
     "text": [
      "100%|██████████| 80/80 [00:05<00:00, 13.88it/s]\n"
     ]
    },
    {
     "name": "stdout",
     "output_type": "stream",
     "text": [
      "Saving results in T:\\YuLab\\Video\\Naveed\\GPS_20_ThreeFPHoldSRTProbe\\20240801\\Init\\Clips...\n",
      "Saving csv poses!\n",
      "Starting to analyze %  T:/YuLab/Video/Naveed/GPS_20_ThreeFPHoldSRTProbe/20240801/Init/Clips/Naveed_20240801_Trial021_InitView.avi\n",
      "Loading  T:/YuLab/Video/Naveed/GPS_20_ThreeFPHoldSRTProbe/20240801/Init/Clips/Naveed_20240801_Trial021_InitView.avi\n",
      "Duration of video [s]:  4.0 , recorded with  20.0 fps!\n",
      "Overall # of frames:  80  found with (before cropping) frame dimensions:  1280 1024\n",
      "Starting to extract posture\n"
     ]
    },
    {
     "name": "stderr",
     "output_type": "stream",
     "text": [
      "100%|██████████| 80/80 [00:05<00:00, 14.02it/s]\n"
     ]
    },
    {
     "name": "stdout",
     "output_type": "stream",
     "text": [
      "Saving results in T:\\YuLab\\Video\\Naveed\\GPS_20_ThreeFPHoldSRTProbe\\20240801\\Init\\Clips...\n",
      "Saving csv poses!\n",
      "Starting to analyze %  T:/YuLab/Video/Naveed/GPS_20_ThreeFPHoldSRTProbe/20240801/Init/Clips/Naveed_20240801_Trial022_InitView.avi\n",
      "Loading  T:/YuLab/Video/Naveed/GPS_20_ThreeFPHoldSRTProbe/20240801/Init/Clips/Naveed_20240801_Trial022_InitView.avi\n",
      "Duration of video [s]:  4.0 , recorded with  20.0 fps!\n",
      "Overall # of frames:  80  found with (before cropping) frame dimensions:  1280 1024\n",
      "Starting to extract posture\n"
     ]
    },
    {
     "name": "stderr",
     "output_type": "stream",
     "text": [
      "100%|██████████| 80/80 [00:05<00:00, 13.97it/s]\n"
     ]
    },
    {
     "name": "stdout",
     "output_type": "stream",
     "text": [
      "Saving results in T:\\YuLab\\Video\\Naveed\\GPS_20_ThreeFPHoldSRTProbe\\20240801\\Init\\Clips...\n",
      "Saving csv poses!\n",
      "Starting to analyze %  T:/YuLab/Video/Naveed/GPS_20_ThreeFPHoldSRTProbe/20240801/Init/Clips/Naveed_20240801_Trial023_InitView.avi\n",
      "Loading  T:/YuLab/Video/Naveed/GPS_20_ThreeFPHoldSRTProbe/20240801/Init/Clips/Naveed_20240801_Trial023_InitView.avi\n",
      "Duration of video [s]:  4.0 , recorded with  20.0 fps!\n",
      "Overall # of frames:  80  found with (before cropping) frame dimensions:  1280 1024\n",
      "Starting to extract posture\n"
     ]
    },
    {
     "name": "stderr",
     "output_type": "stream",
     "text": [
      "100%|██████████| 80/80 [00:05<00:00, 14.06it/s]\n"
     ]
    },
    {
     "name": "stdout",
     "output_type": "stream",
     "text": [
      "Saving results in T:\\YuLab\\Video\\Naveed\\GPS_20_ThreeFPHoldSRTProbe\\20240801\\Init\\Clips...\n",
      "Saving csv poses!\n",
      "Starting to analyze %  T:/YuLab/Video/Naveed/GPS_20_ThreeFPHoldSRTProbe/20240801/Init/Clips/Naveed_20240801_Trial024_InitView.avi\n",
      "Loading  T:/YuLab/Video/Naveed/GPS_20_ThreeFPHoldSRTProbe/20240801/Init/Clips/Naveed_20240801_Trial024_InitView.avi\n",
      "Duration of video [s]:  4.0 , recorded with  20.0 fps!\n",
      "Overall # of frames:  80  found with (before cropping) frame dimensions:  1280 1024\n",
      "Starting to extract posture\n"
     ]
    },
    {
     "name": "stderr",
     "output_type": "stream",
     "text": [
      "100%|██████████| 80/80 [00:05<00:00, 14.03it/s]\n"
     ]
    },
    {
     "name": "stdout",
     "output_type": "stream",
     "text": [
      "Saving results in T:\\YuLab\\Video\\Naveed\\GPS_20_ThreeFPHoldSRTProbe\\20240801\\Init\\Clips...\n",
      "Saving csv poses!\n",
      "Starting to analyze %  T:/YuLab/Video/Naveed/GPS_20_ThreeFPHoldSRTProbe/20240801/Init/Clips/Naveed_20240801_Trial025_InitView.avi\n",
      "Loading  T:/YuLab/Video/Naveed/GPS_20_ThreeFPHoldSRTProbe/20240801/Init/Clips/Naveed_20240801_Trial025_InitView.avi\n",
      "Duration of video [s]:  4.0 , recorded with  20.0 fps!\n",
      "Overall # of frames:  80  found with (before cropping) frame dimensions:  1280 1024\n",
      "Starting to extract posture\n"
     ]
    },
    {
     "name": "stderr",
     "output_type": "stream",
     "text": [
      "100%|██████████| 80/80 [00:05<00:00, 14.09it/s]\n"
     ]
    },
    {
     "name": "stdout",
     "output_type": "stream",
     "text": [
      "Saving results in T:\\YuLab\\Video\\Naveed\\GPS_20_ThreeFPHoldSRTProbe\\20240801\\Init\\Clips...\n",
      "Saving csv poses!\n",
      "Starting to analyze %  T:/YuLab/Video/Naveed/GPS_20_ThreeFPHoldSRTProbe/20240801/Init/Clips/Naveed_20240801_Trial026_InitView.avi\n",
      "Loading  T:/YuLab/Video/Naveed/GPS_20_ThreeFPHoldSRTProbe/20240801/Init/Clips/Naveed_20240801_Trial026_InitView.avi\n",
      "Duration of video [s]:  4.0 , recorded with  20.0 fps!\n",
      "Overall # of frames:  80  found with (before cropping) frame dimensions:  1280 1024\n",
      "Starting to extract posture\n"
     ]
    },
    {
     "name": "stderr",
     "output_type": "stream",
     "text": [
      "100%|██████████| 80/80 [00:05<00:00, 14.12it/s]\n"
     ]
    },
    {
     "name": "stdout",
     "output_type": "stream",
     "text": [
      "Saving results in T:\\YuLab\\Video\\Naveed\\GPS_20_ThreeFPHoldSRTProbe\\20240801\\Init\\Clips...\n",
      "Saving csv poses!\n",
      "Starting to analyze %  T:/YuLab/Video/Naveed/GPS_20_ThreeFPHoldSRTProbe/20240801/Init/Clips/Naveed_20240801_Trial027_InitView.avi\n",
      "Loading  T:/YuLab/Video/Naveed/GPS_20_ThreeFPHoldSRTProbe/20240801/Init/Clips/Naveed_20240801_Trial027_InitView.avi\n",
      "Duration of video [s]:  4.0 , recorded with  20.0 fps!\n",
      "Overall # of frames:  80  found with (before cropping) frame dimensions:  1280 1024\n",
      "Starting to extract posture\n"
     ]
    },
    {
     "name": "stderr",
     "output_type": "stream",
     "text": [
      "100%|██████████| 80/80 [00:05<00:00, 13.61it/s]\n"
     ]
    },
    {
     "name": "stdout",
     "output_type": "stream",
     "text": [
      "Saving results in T:\\YuLab\\Video\\Naveed\\GPS_20_ThreeFPHoldSRTProbe\\20240801\\Init\\Clips...\n",
      "Saving csv poses!\n",
      "Starting to analyze %  T:/YuLab/Video/Naveed/GPS_20_ThreeFPHoldSRTProbe/20240801/Init/Clips/Naveed_20240801_Trial028_InitView.avi\n",
      "Loading  T:/YuLab/Video/Naveed/GPS_20_ThreeFPHoldSRTProbe/20240801/Init/Clips/Naveed_20240801_Trial028_InitView.avi\n",
      "Duration of video [s]:  4.05 , recorded with  20.0 fps!\n",
      "Overall # of frames:  81  found with (before cropping) frame dimensions:  1280 1024\n",
      "Starting to extract posture\n"
     ]
    },
    {
     "name": "stderr",
     "output_type": "stream",
     "text": [
      "100%|██████████| 81/81 [00:06<00:00, 13.16it/s]\n"
     ]
    },
    {
     "name": "stdout",
     "output_type": "stream",
     "text": [
      "Saving results in T:\\YuLab\\Video\\Naveed\\GPS_20_ThreeFPHoldSRTProbe\\20240801\\Init\\Clips...\n",
      "Saving csv poses!\n",
      "Starting to analyze %  T:/YuLab/Video/Naveed/GPS_20_ThreeFPHoldSRTProbe/20240801/Init/Clips/Naveed_20240801_Trial029_InitView.avi\n",
      "Loading  T:/YuLab/Video/Naveed/GPS_20_ThreeFPHoldSRTProbe/20240801/Init/Clips/Naveed_20240801_Trial029_InitView.avi\n",
      "Duration of video [s]:  4.0 , recorded with  20.0 fps!\n",
      "Overall # of frames:  80  found with (before cropping) frame dimensions:  1280 1024\n",
      "Starting to extract posture\n"
     ]
    },
    {
     "name": "stderr",
     "output_type": "stream",
     "text": [
      "100%|██████████| 80/80 [00:05<00:00, 14.21it/s]\n"
     ]
    },
    {
     "name": "stdout",
     "output_type": "stream",
     "text": [
      "Saving results in T:\\YuLab\\Video\\Naveed\\GPS_20_ThreeFPHoldSRTProbe\\20240801\\Init\\Clips...\n",
      "Saving csv poses!\n",
      "Starting to analyze %  T:/YuLab/Video/Naveed/GPS_20_ThreeFPHoldSRTProbe/20240801/Init/Clips/Naveed_20240801_Trial030_InitView.avi\n",
      "Loading  T:/YuLab/Video/Naveed/GPS_20_ThreeFPHoldSRTProbe/20240801/Init/Clips/Naveed_20240801_Trial030_InitView.avi\n",
      "Duration of video [s]:  4.0 , recorded with  20.0 fps!\n",
      "Overall # of frames:  80  found with (before cropping) frame dimensions:  1280 1024\n",
      "Starting to extract posture\n"
     ]
    },
    {
     "name": "stderr",
     "output_type": "stream",
     "text": [
      "100%|██████████| 80/80 [00:05<00:00, 13.63it/s]\n"
     ]
    },
    {
     "name": "stdout",
     "output_type": "stream",
     "text": [
      "Saving results in T:\\YuLab\\Video\\Naveed\\GPS_20_ThreeFPHoldSRTProbe\\20240801\\Init\\Clips...\n",
      "Saving csv poses!\n",
      "Starting to analyze %  T:/YuLab/Video/Naveed/GPS_20_ThreeFPHoldSRTProbe/20240801/Init/Clips/Naveed_20240801_Trial031_InitView.avi\n",
      "Loading  T:/YuLab/Video/Naveed/GPS_20_ThreeFPHoldSRTProbe/20240801/Init/Clips/Naveed_20240801_Trial031_InitView.avi\n",
      "Duration of video [s]:  4.0 , recorded with  20.0 fps!\n",
      "Overall # of frames:  80  found with (before cropping) frame dimensions:  1280 1024\n",
      "Starting to extract posture\n"
     ]
    },
    {
     "name": "stderr",
     "output_type": "stream",
     "text": [
      "100%|██████████| 80/80 [00:05<00:00, 14.14it/s]\n"
     ]
    },
    {
     "name": "stdout",
     "output_type": "stream",
     "text": [
      "Saving results in T:\\YuLab\\Video\\Naveed\\GPS_20_ThreeFPHoldSRTProbe\\20240801\\Init\\Clips...\n",
      "Saving csv poses!\n",
      "Starting to analyze %  T:/YuLab/Video/Naveed/GPS_20_ThreeFPHoldSRTProbe/20240801/Init/Clips/Naveed_20240801_Trial032_InitView.avi\n",
      "Loading  T:/YuLab/Video/Naveed/GPS_20_ThreeFPHoldSRTProbe/20240801/Init/Clips/Naveed_20240801_Trial032_InitView.avi\n",
      "Duration of video [s]:  3.95 , recorded with  20.0 fps!\n",
      "Overall # of frames:  79  found with (before cropping) frame dimensions:  1280 1024\n",
      "Starting to extract posture\n"
     ]
    },
    {
     "name": "stderr",
     "output_type": "stream",
     "text": [
      "100%|██████████| 79/79 [00:05<00:00, 14.24it/s]\n"
     ]
    },
    {
     "name": "stdout",
     "output_type": "stream",
     "text": [
      "Saving results in T:\\YuLab\\Video\\Naveed\\GPS_20_ThreeFPHoldSRTProbe\\20240801\\Init\\Clips...\n",
      "Saving csv poses!\n",
      "Starting to analyze %  T:/YuLab/Video/Naveed/GPS_20_ThreeFPHoldSRTProbe/20240801/Init/Clips/Naveed_20240801_Trial033_InitView.avi\n",
      "Loading  T:/YuLab/Video/Naveed/GPS_20_ThreeFPHoldSRTProbe/20240801/Init/Clips/Naveed_20240801_Trial033_InitView.avi\n",
      "Duration of video [s]:  4.0 , recorded with  20.0 fps!\n",
      "Overall # of frames:  80  found with (before cropping) frame dimensions:  1280 1024\n",
      "Starting to extract posture\n"
     ]
    },
    {
     "name": "stderr",
     "output_type": "stream",
     "text": [
      "100%|██████████| 80/80 [00:05<00:00, 13.97it/s]\n"
     ]
    },
    {
     "name": "stdout",
     "output_type": "stream",
     "text": [
      "Saving results in T:\\YuLab\\Video\\Naveed\\GPS_20_ThreeFPHoldSRTProbe\\20240801\\Init\\Clips...\n",
      "Saving csv poses!\n",
      "Starting to analyze %  T:/YuLab/Video/Naveed/GPS_20_ThreeFPHoldSRTProbe/20240801/Init/Clips/Naveed_20240801_Trial034_InitView.avi\n",
      "Loading  T:/YuLab/Video/Naveed/GPS_20_ThreeFPHoldSRTProbe/20240801/Init/Clips/Naveed_20240801_Trial034_InitView.avi\n",
      "Duration of video [s]:  3.95 , recorded with  20.0 fps!\n",
      "Overall # of frames:  79  found with (before cropping) frame dimensions:  1280 1024\n",
      "Starting to extract posture\n"
     ]
    },
    {
     "name": "stderr",
     "output_type": "stream",
     "text": [
      "100%|██████████| 79/79 [00:05<00:00, 14.01it/s]\n"
     ]
    },
    {
     "name": "stdout",
     "output_type": "stream",
     "text": [
      "Saving results in T:\\YuLab\\Video\\Naveed\\GPS_20_ThreeFPHoldSRTProbe\\20240801\\Init\\Clips...\n",
      "Saving csv poses!\n",
      "Starting to analyze %  T:/YuLab/Video/Naveed/GPS_20_ThreeFPHoldSRTProbe/20240801/Init/Clips/Naveed_20240801_Trial035_InitView.avi\n",
      "Loading  T:/YuLab/Video/Naveed/GPS_20_ThreeFPHoldSRTProbe/20240801/Init/Clips/Naveed_20240801_Trial035_InitView.avi\n",
      "Duration of video [s]:  4.0 , recorded with  20.0 fps!\n",
      "Overall # of frames:  80  found with (before cropping) frame dimensions:  1280 1024\n",
      "Starting to extract posture\n"
     ]
    },
    {
     "name": "stderr",
     "output_type": "stream",
     "text": [
      "100%|██████████| 80/80 [00:05<00:00, 14.05it/s]\n"
     ]
    },
    {
     "name": "stdout",
     "output_type": "stream",
     "text": [
      "Saving results in T:\\YuLab\\Video\\Naveed\\GPS_20_ThreeFPHoldSRTProbe\\20240801\\Init\\Clips...\n",
      "Saving csv poses!\n",
      "Starting to analyze %  T:/YuLab/Video/Naveed/GPS_20_ThreeFPHoldSRTProbe/20240801/Init/Clips/Naveed_20240801_Trial036_InitView.avi\n",
      "Loading  T:/YuLab/Video/Naveed/GPS_20_ThreeFPHoldSRTProbe/20240801/Init/Clips/Naveed_20240801_Trial036_InitView.avi\n",
      "Duration of video [s]:  4.0 , recorded with  20.0 fps!\n",
      "Overall # of frames:  80  found with (before cropping) frame dimensions:  1280 1024\n",
      "Starting to extract posture\n"
     ]
    },
    {
     "name": "stderr",
     "output_type": "stream",
     "text": [
      "100%|██████████| 80/80 [00:05<00:00, 13.80it/s]\n"
     ]
    },
    {
     "name": "stdout",
     "output_type": "stream",
     "text": [
      "Saving results in T:\\YuLab\\Video\\Naveed\\GPS_20_ThreeFPHoldSRTProbe\\20240801\\Init\\Clips...\n",
      "Saving csv poses!\n",
      "Starting to analyze %  T:/YuLab/Video/Naveed/GPS_20_ThreeFPHoldSRTProbe/20240801/Init/Clips/Naveed_20240801_Trial037_InitView.avi\n",
      "Loading  T:/YuLab/Video/Naveed/GPS_20_ThreeFPHoldSRTProbe/20240801/Init/Clips/Naveed_20240801_Trial037_InitView.avi\n",
      "Duration of video [s]:  3.95 , recorded with  20.0 fps!\n",
      "Overall # of frames:  79  found with (before cropping) frame dimensions:  1280 1024\n",
      "Starting to extract posture\n"
     ]
    },
    {
     "name": "stderr",
     "output_type": "stream",
     "text": [
      "100%|██████████| 79/79 [00:05<00:00, 13.90it/s]\n"
     ]
    },
    {
     "name": "stdout",
     "output_type": "stream",
     "text": [
      "Saving results in T:\\YuLab\\Video\\Naveed\\GPS_20_ThreeFPHoldSRTProbe\\20240801\\Init\\Clips...\n",
      "Saving csv poses!\n",
      "Starting to analyze %  T:/YuLab/Video/Naveed/GPS_20_ThreeFPHoldSRTProbe/20240801/Init/Clips/Naveed_20240801_Trial038_InitView.avi\n",
      "Loading  T:/YuLab/Video/Naveed/GPS_20_ThreeFPHoldSRTProbe/20240801/Init/Clips/Naveed_20240801_Trial038_InitView.avi\n",
      "Duration of video [s]:  4.0 , recorded with  20.0 fps!\n",
      "Overall # of frames:  80  found with (before cropping) frame dimensions:  1280 1024\n",
      "Starting to extract posture\n"
     ]
    },
    {
     "name": "stderr",
     "output_type": "stream",
     "text": [
      "100%|██████████| 80/80 [00:05<00:00, 14.32it/s]\n"
     ]
    },
    {
     "name": "stdout",
     "output_type": "stream",
     "text": [
      "Saving results in T:\\YuLab\\Video\\Naveed\\GPS_20_ThreeFPHoldSRTProbe\\20240801\\Init\\Clips...\n",
      "Saving csv poses!\n",
      "Starting to analyze %  T:/YuLab/Video/Naveed/GPS_20_ThreeFPHoldSRTProbe/20240801/Init/Clips/Naveed_20240801_Trial039_InitView.avi\n",
      "Loading  T:/YuLab/Video/Naveed/GPS_20_ThreeFPHoldSRTProbe/20240801/Init/Clips/Naveed_20240801_Trial039_InitView.avi\n",
      "Duration of video [s]:  4.0 , recorded with  20.0 fps!\n",
      "Overall # of frames:  80  found with (before cropping) frame dimensions:  1280 1024\n",
      "Starting to extract posture\n"
     ]
    },
    {
     "name": "stderr",
     "output_type": "stream",
     "text": [
      "100%|██████████| 80/80 [00:05<00:00, 14.27it/s]\n"
     ]
    },
    {
     "name": "stdout",
     "output_type": "stream",
     "text": [
      "Saving results in T:\\YuLab\\Video\\Naveed\\GPS_20_ThreeFPHoldSRTProbe\\20240801\\Init\\Clips...\n",
      "Saving csv poses!\n",
      "Starting to analyze %  T:/YuLab/Video/Naveed/GPS_20_ThreeFPHoldSRTProbe/20240801/Init/Clips/Naveed_20240801_Trial040_InitView.avi\n",
      "Loading  T:/YuLab/Video/Naveed/GPS_20_ThreeFPHoldSRTProbe/20240801/Init/Clips/Naveed_20240801_Trial040_InitView.avi\n",
      "Duration of video [s]:  4.0 , recorded with  20.0 fps!\n",
      "Overall # of frames:  80  found with (before cropping) frame dimensions:  1280 1024\n",
      "Starting to extract posture\n"
     ]
    },
    {
     "name": "stderr",
     "output_type": "stream",
     "text": [
      "100%|██████████| 80/80 [00:05<00:00, 13.92it/s]\n"
     ]
    },
    {
     "name": "stdout",
     "output_type": "stream",
     "text": [
      "Saving results in T:\\YuLab\\Video\\Naveed\\GPS_20_ThreeFPHoldSRTProbe\\20240801\\Init\\Clips...\n",
      "Saving csv poses!\n",
      "Starting to analyze %  T:/YuLab/Video/Naveed/GPS_20_ThreeFPHoldSRTProbe/20240801/Init/Clips/Naveed_20240801_Trial041_InitView.avi\n",
      "Loading  T:/YuLab/Video/Naveed/GPS_20_ThreeFPHoldSRTProbe/20240801/Init/Clips/Naveed_20240801_Trial041_InitView.avi\n",
      "Duration of video [s]:  4.0 , recorded with  20.0 fps!\n",
      "Overall # of frames:  80  found with (before cropping) frame dimensions:  1280 1024\n",
      "Starting to extract posture\n"
     ]
    },
    {
     "name": "stderr",
     "output_type": "stream",
     "text": [
      "100%|██████████| 80/80 [00:05<00:00, 13.89it/s]\n"
     ]
    },
    {
     "name": "stdout",
     "output_type": "stream",
     "text": [
      "Saving results in T:\\YuLab\\Video\\Naveed\\GPS_20_ThreeFPHoldSRTProbe\\20240801\\Init\\Clips...\n",
      "Saving csv poses!\n",
      "Starting to analyze %  T:/YuLab/Video/Naveed/GPS_20_ThreeFPHoldSRTProbe/20240801/Init/Clips/Naveed_20240801_Trial042_InitView.avi\n",
      "Loading  T:/YuLab/Video/Naveed/GPS_20_ThreeFPHoldSRTProbe/20240801/Init/Clips/Naveed_20240801_Trial042_InitView.avi\n",
      "Duration of video [s]:  4.0 , recorded with  20.0 fps!\n",
      "Overall # of frames:  80  found with (before cropping) frame dimensions:  1280 1024\n",
      "Starting to extract posture\n"
     ]
    },
    {
     "name": "stderr",
     "output_type": "stream",
     "text": [
      "100%|██████████| 80/80 [00:05<00:00, 14.30it/s]\n"
     ]
    },
    {
     "name": "stdout",
     "output_type": "stream",
     "text": [
      "Saving results in T:\\YuLab\\Video\\Naveed\\GPS_20_ThreeFPHoldSRTProbe\\20240801\\Init\\Clips...\n",
      "Saving csv poses!\n",
      "Starting to analyze %  T:/YuLab/Video/Naveed/GPS_20_ThreeFPHoldSRTProbe/20240801/Init/Clips/Naveed_20240801_Trial043_InitView.avi\n",
      "Loading  T:/YuLab/Video/Naveed/GPS_20_ThreeFPHoldSRTProbe/20240801/Init/Clips/Naveed_20240801_Trial043_InitView.avi\n",
      "Duration of video [s]:  4.0 , recorded with  20.0 fps!\n",
      "Overall # of frames:  80  found with (before cropping) frame dimensions:  1280 1024\n",
      "Starting to extract posture\n"
     ]
    },
    {
     "name": "stderr",
     "output_type": "stream",
     "text": [
      "100%|██████████| 80/80 [00:05<00:00, 14.52it/s]\n"
     ]
    },
    {
     "name": "stdout",
     "output_type": "stream",
     "text": [
      "Saving results in T:\\YuLab\\Video\\Naveed\\GPS_20_ThreeFPHoldSRTProbe\\20240801\\Init\\Clips...\n",
      "Saving csv poses!\n",
      "Starting to analyze %  T:/YuLab/Video/Naveed/GPS_20_ThreeFPHoldSRTProbe/20240801/Init/Clips/Naveed_20240801_Trial044_InitView.avi\n",
      "Loading  T:/YuLab/Video/Naveed/GPS_20_ThreeFPHoldSRTProbe/20240801/Init/Clips/Naveed_20240801_Trial044_InitView.avi\n",
      "Duration of video [s]:  4.0 , recorded with  20.0 fps!\n",
      "Overall # of frames:  80  found with (before cropping) frame dimensions:  1280 1024\n",
      "Starting to extract posture\n"
     ]
    },
    {
     "name": "stderr",
     "output_type": "stream",
     "text": [
      "100%|██████████| 80/80 [00:05<00:00, 13.76it/s]\n"
     ]
    },
    {
     "name": "stdout",
     "output_type": "stream",
     "text": [
      "Saving results in T:\\YuLab\\Video\\Naveed\\GPS_20_ThreeFPHoldSRTProbe\\20240801\\Init\\Clips...\n",
      "Saving csv poses!\n",
      "Starting to analyze %  T:/YuLab/Video/Naveed/GPS_20_ThreeFPHoldSRTProbe/20240801/Init/Clips/Naveed_20240801_Trial045_InitView.avi\n",
      "Loading  T:/YuLab/Video/Naveed/GPS_20_ThreeFPHoldSRTProbe/20240801/Init/Clips/Naveed_20240801_Trial045_InitView.avi\n",
      "Duration of video [s]:  4.0 , recorded with  20.0 fps!\n",
      "Overall # of frames:  80  found with (before cropping) frame dimensions:  1280 1024\n",
      "Starting to extract posture\n"
     ]
    },
    {
     "name": "stderr",
     "output_type": "stream",
     "text": [
      "100%|██████████| 80/80 [00:05<00:00, 14.00it/s]\n"
     ]
    },
    {
     "name": "stdout",
     "output_type": "stream",
     "text": [
      "Saving results in T:\\YuLab\\Video\\Naveed\\GPS_20_ThreeFPHoldSRTProbe\\20240801\\Init\\Clips...\n",
      "Saving csv poses!\n",
      "Starting to analyze %  T:/YuLab/Video/Naveed/GPS_20_ThreeFPHoldSRTProbe/20240801/Init/Clips/Naveed_20240801_Trial046_InitView.avi\n",
      "Loading  T:/YuLab/Video/Naveed/GPS_20_ThreeFPHoldSRTProbe/20240801/Init/Clips/Naveed_20240801_Trial046_InitView.avi\n",
      "Duration of video [s]:  4.0 , recorded with  20.0 fps!\n",
      "Overall # of frames:  80  found with (before cropping) frame dimensions:  1280 1024\n",
      "Starting to extract posture\n"
     ]
    },
    {
     "name": "stderr",
     "output_type": "stream",
     "text": [
      "100%|██████████| 80/80 [00:05<00:00, 14.14it/s]\n"
     ]
    },
    {
     "name": "stdout",
     "output_type": "stream",
     "text": [
      "Saving results in T:\\YuLab\\Video\\Naveed\\GPS_20_ThreeFPHoldSRTProbe\\20240801\\Init\\Clips...\n",
      "Saving csv poses!\n",
      "Starting to analyze %  T:/YuLab/Video/Naveed/GPS_20_ThreeFPHoldSRTProbe/20240801/Init/Clips/Naveed_20240801_Trial047_InitView.avi\n",
      "Loading  T:/YuLab/Video/Naveed/GPS_20_ThreeFPHoldSRTProbe/20240801/Init/Clips/Naveed_20240801_Trial047_InitView.avi\n",
      "Duration of video [s]:  4.0 , recorded with  20.0 fps!\n",
      "Overall # of frames:  80  found with (before cropping) frame dimensions:  1280 1024\n",
      "Starting to extract posture\n"
     ]
    },
    {
     "name": "stderr",
     "output_type": "stream",
     "text": [
      "100%|██████████| 80/80 [00:05<00:00, 14.17it/s]\n"
     ]
    },
    {
     "name": "stdout",
     "output_type": "stream",
     "text": [
      "Saving results in T:\\YuLab\\Video\\Naveed\\GPS_20_ThreeFPHoldSRTProbe\\20240801\\Init\\Clips...\n",
      "Saving csv poses!\n",
      "Starting to analyze %  T:/YuLab/Video/Naveed/GPS_20_ThreeFPHoldSRTProbe/20240801/Init/Clips/Naveed_20240801_Trial048_InitView.avi\n",
      "Loading  T:/YuLab/Video/Naveed/GPS_20_ThreeFPHoldSRTProbe/20240801/Init/Clips/Naveed_20240801_Trial048_InitView.avi\n",
      "Duration of video [s]:  4.0 , recorded with  20.0 fps!\n",
      "Overall # of frames:  80  found with (before cropping) frame dimensions:  1280 1024\n",
      "Starting to extract posture\n"
     ]
    },
    {
     "name": "stderr",
     "output_type": "stream",
     "text": [
      "100%|██████████| 80/80 [00:05<00:00, 13.64it/s]\n"
     ]
    },
    {
     "name": "stdout",
     "output_type": "stream",
     "text": [
      "Saving results in T:\\YuLab\\Video\\Naveed\\GPS_20_ThreeFPHoldSRTProbe\\20240801\\Init\\Clips...\n",
      "Saving csv poses!\n",
      "Starting to analyze %  T:/YuLab/Video/Naveed/GPS_20_ThreeFPHoldSRTProbe/20240801/Init/Clips/Naveed_20240801_Trial049_InitView.avi\n",
      "Loading  T:/YuLab/Video/Naveed/GPS_20_ThreeFPHoldSRTProbe/20240801/Init/Clips/Naveed_20240801_Trial049_InitView.avi\n",
      "Duration of video [s]:  4.0 , recorded with  20.0 fps!\n",
      "Overall # of frames:  80  found with (before cropping) frame dimensions:  1280 1024\n",
      "Starting to extract posture\n"
     ]
    },
    {
     "name": "stderr",
     "output_type": "stream",
     "text": [
      "100%|██████████| 80/80 [00:05<00:00, 14.26it/s]\n"
     ]
    },
    {
     "name": "stdout",
     "output_type": "stream",
     "text": [
      "Saving results in T:\\YuLab\\Video\\Naveed\\GPS_20_ThreeFPHoldSRTProbe\\20240801\\Init\\Clips...\n",
      "Saving csv poses!\n",
      "Starting to analyze %  T:/YuLab/Video/Naveed/GPS_20_ThreeFPHoldSRTProbe/20240801/Init/Clips/Naveed_20240801_Trial050_InitView.avi\n",
      "Loading  T:/YuLab/Video/Naveed/GPS_20_ThreeFPHoldSRTProbe/20240801/Init/Clips/Naveed_20240801_Trial050_InitView.avi\n",
      "Duration of video [s]:  4.0 , recorded with  20.0 fps!\n",
      "Overall # of frames:  80  found with (before cropping) frame dimensions:  1280 1024\n",
      "Starting to extract posture\n"
     ]
    },
    {
     "name": "stderr",
     "output_type": "stream",
     "text": [
      "100%|██████████| 80/80 [00:05<00:00, 14.14it/s]\n"
     ]
    },
    {
     "name": "stdout",
     "output_type": "stream",
     "text": [
      "Saving results in T:\\YuLab\\Video\\Naveed\\GPS_20_ThreeFPHoldSRTProbe\\20240801\\Init\\Clips...\n",
      "Saving csv poses!\n",
      "Starting to analyze %  T:/YuLab/Video/Naveed/GPS_20_ThreeFPHoldSRTProbe/20240801/Init/Clips/Naveed_20240801_Trial051_InitView.avi\n",
      "Loading  T:/YuLab/Video/Naveed/GPS_20_ThreeFPHoldSRTProbe/20240801/Init/Clips/Naveed_20240801_Trial051_InitView.avi\n",
      "Duration of video [s]:  4.0 , recorded with  20.0 fps!\n",
      "Overall # of frames:  80  found with (before cropping) frame dimensions:  1280 1024\n",
      "Starting to extract posture\n"
     ]
    },
    {
     "name": "stderr",
     "output_type": "stream",
     "text": [
      "100%|██████████| 80/80 [00:05<00:00, 14.05it/s]\n"
     ]
    },
    {
     "name": "stdout",
     "output_type": "stream",
     "text": [
      "Saving results in T:\\YuLab\\Video\\Naveed\\GPS_20_ThreeFPHoldSRTProbe\\20240801\\Init\\Clips...\n",
      "Saving csv poses!\n",
      "Starting to analyze %  T:/YuLab/Video/Naveed/GPS_20_ThreeFPHoldSRTProbe/20240801/Init/Clips/Naveed_20240801_Trial052_InitView.avi\n",
      "Loading  T:/YuLab/Video/Naveed/GPS_20_ThreeFPHoldSRTProbe/20240801/Init/Clips/Naveed_20240801_Trial052_InitView.avi\n",
      "Duration of video [s]:  4.0 , recorded with  20.0 fps!\n",
      "Overall # of frames:  80  found with (before cropping) frame dimensions:  1280 1024\n",
      "Starting to extract posture\n"
     ]
    },
    {
     "name": "stderr",
     "output_type": "stream",
     "text": [
      "100%|██████████| 80/80 [00:05<00:00, 13.96it/s]\n"
     ]
    },
    {
     "name": "stdout",
     "output_type": "stream",
     "text": [
      "Saving results in T:\\YuLab\\Video\\Naveed\\GPS_20_ThreeFPHoldSRTProbe\\20240801\\Init\\Clips...\n",
      "Saving csv poses!\n",
      "Starting to analyze %  T:/YuLab/Video/Naveed/GPS_20_ThreeFPHoldSRTProbe/20240801/Init/Clips/Naveed_20240801_Trial053_InitView.avi\n",
      "Loading  T:/YuLab/Video/Naveed/GPS_20_ThreeFPHoldSRTProbe/20240801/Init/Clips/Naveed_20240801_Trial053_InitView.avi\n",
      "Duration of video [s]:  4.0 , recorded with  20.0 fps!\n",
      "Overall # of frames:  80  found with (before cropping) frame dimensions:  1280 1024\n",
      "Starting to extract posture\n"
     ]
    },
    {
     "name": "stderr",
     "output_type": "stream",
     "text": [
      "100%|██████████| 80/80 [00:05<00:00, 14.28it/s]\n"
     ]
    },
    {
     "name": "stdout",
     "output_type": "stream",
     "text": [
      "Saving results in T:\\YuLab\\Video\\Naveed\\GPS_20_ThreeFPHoldSRTProbe\\20240801\\Init\\Clips...\n",
      "Saving csv poses!\n",
      "Starting to analyze %  T:/YuLab/Video/Naveed/GPS_20_ThreeFPHoldSRTProbe/20240801/Init/Clips/Naveed_20240801_Trial054_InitView.avi\n",
      "Loading  T:/YuLab/Video/Naveed/GPS_20_ThreeFPHoldSRTProbe/20240801/Init/Clips/Naveed_20240801_Trial054_InitView.avi\n",
      "Duration of video [s]:  4.0 , recorded with  20.0 fps!\n",
      "Overall # of frames:  80  found with (before cropping) frame dimensions:  1280 1024\n",
      "Starting to extract posture\n"
     ]
    },
    {
     "name": "stderr",
     "output_type": "stream",
     "text": [
      "100%|██████████| 80/80 [00:05<00:00, 14.40it/s]\n"
     ]
    },
    {
     "name": "stdout",
     "output_type": "stream",
     "text": [
      "Saving results in T:\\YuLab\\Video\\Naveed\\GPS_20_ThreeFPHoldSRTProbe\\20240801\\Init\\Clips...\n",
      "Saving csv poses!\n",
      "Starting to analyze %  T:/YuLab/Video/Naveed/GPS_20_ThreeFPHoldSRTProbe/20240801/Init/Clips/Naveed_20240801_Trial055_InitView.avi\n",
      "Loading  T:/YuLab/Video/Naveed/GPS_20_ThreeFPHoldSRTProbe/20240801/Init/Clips/Naveed_20240801_Trial055_InitView.avi\n",
      "Duration of video [s]:  4.0 , recorded with  20.0 fps!\n",
      "Overall # of frames:  80  found with (before cropping) frame dimensions:  1280 1024\n",
      "Starting to extract posture\n"
     ]
    },
    {
     "name": "stderr",
     "output_type": "stream",
     "text": [
      "100%|██████████| 80/80 [00:05<00:00, 14.32it/s]\n"
     ]
    },
    {
     "name": "stdout",
     "output_type": "stream",
     "text": [
      "Saving results in T:\\YuLab\\Video\\Naveed\\GPS_20_ThreeFPHoldSRTProbe\\20240801\\Init\\Clips...\n",
      "Saving csv poses!\n",
      "Starting to analyze %  T:/YuLab/Video/Naveed/GPS_20_ThreeFPHoldSRTProbe/20240801/Init/Clips/Naveed_20240801_Trial056_InitView.avi\n",
      "Loading  T:/YuLab/Video/Naveed/GPS_20_ThreeFPHoldSRTProbe/20240801/Init/Clips/Naveed_20240801_Trial056_InitView.avi\n",
      "Duration of video [s]:  4.0 , recorded with  20.0 fps!\n",
      "Overall # of frames:  80  found with (before cropping) frame dimensions:  1280 1024\n",
      "Starting to extract posture\n"
     ]
    },
    {
     "name": "stderr",
     "output_type": "stream",
     "text": [
      "100%|██████████| 80/80 [00:05<00:00, 14.43it/s]\n"
     ]
    },
    {
     "name": "stdout",
     "output_type": "stream",
     "text": [
      "Saving results in T:\\YuLab\\Video\\Naveed\\GPS_20_ThreeFPHoldSRTProbe\\20240801\\Init\\Clips...\n",
      "Saving csv poses!\n",
      "Starting to analyze %  T:/YuLab/Video/Naveed/GPS_20_ThreeFPHoldSRTProbe/20240801/Init/Clips/Naveed_20240801_Trial057_InitView.avi\n",
      "Loading  T:/YuLab/Video/Naveed/GPS_20_ThreeFPHoldSRTProbe/20240801/Init/Clips/Naveed_20240801_Trial057_InitView.avi\n",
      "Duration of video [s]:  4.0 , recorded with  20.0 fps!\n",
      "Overall # of frames:  80  found with (before cropping) frame dimensions:  1280 1024\n",
      "Starting to extract posture\n"
     ]
    },
    {
     "name": "stderr",
     "output_type": "stream",
     "text": [
      "100%|██████████| 80/80 [00:05<00:00, 14.49it/s]\n"
     ]
    },
    {
     "name": "stdout",
     "output_type": "stream",
     "text": [
      "Saving results in T:\\YuLab\\Video\\Naveed\\GPS_20_ThreeFPHoldSRTProbe\\20240801\\Init\\Clips...\n",
      "Saving csv poses!\n",
      "Starting to analyze %  T:/YuLab/Video/Naveed/GPS_20_ThreeFPHoldSRTProbe/20240801/Init/Clips/Naveed_20240801_Trial058_InitView.avi\n",
      "Loading  T:/YuLab/Video/Naveed/GPS_20_ThreeFPHoldSRTProbe/20240801/Init/Clips/Naveed_20240801_Trial058_InitView.avi\n",
      "Duration of video [s]:  4.0 , recorded with  20.0 fps!\n",
      "Overall # of frames:  80  found with (before cropping) frame dimensions:  1280 1024\n",
      "Starting to extract posture\n"
     ]
    },
    {
     "name": "stderr",
     "output_type": "stream",
     "text": [
      "100%|██████████| 80/80 [00:05<00:00, 13.60it/s]\n"
     ]
    },
    {
     "name": "stdout",
     "output_type": "stream",
     "text": [
      "Saving results in T:\\YuLab\\Video\\Naveed\\GPS_20_ThreeFPHoldSRTProbe\\20240801\\Init\\Clips...\n",
      "Saving csv poses!\n",
      "Starting to analyze %  T:/YuLab/Video/Naveed/GPS_20_ThreeFPHoldSRTProbe/20240801/Init/Clips/Naveed_20240801_Trial059_InitView.avi\n",
      "Loading  T:/YuLab/Video/Naveed/GPS_20_ThreeFPHoldSRTProbe/20240801/Init/Clips/Naveed_20240801_Trial059_InitView.avi\n",
      "Duration of video [s]:  4.0 , recorded with  20.0 fps!\n",
      "Overall # of frames:  80  found with (before cropping) frame dimensions:  1280 1024\n",
      "Starting to extract posture\n"
     ]
    },
    {
     "name": "stderr",
     "output_type": "stream",
     "text": [
      "100%|██████████| 80/80 [00:05<00:00, 14.05it/s]\n"
     ]
    },
    {
     "name": "stdout",
     "output_type": "stream",
     "text": [
      "Saving results in T:\\YuLab\\Video\\Naveed\\GPS_20_ThreeFPHoldSRTProbe\\20240801\\Init\\Clips...\n",
      "Saving csv poses!\n",
      "Starting to analyze %  T:/YuLab/Video/Naveed/GPS_20_ThreeFPHoldSRTProbe/20240801/Init/Clips/Naveed_20240801_Trial060_InitView.avi\n",
      "Loading  T:/YuLab/Video/Naveed/GPS_20_ThreeFPHoldSRTProbe/20240801/Init/Clips/Naveed_20240801_Trial060_InitView.avi\n",
      "Duration of video [s]:  4.0 , recorded with  20.0 fps!\n",
      "Overall # of frames:  80  found with (before cropping) frame dimensions:  1280 1024\n",
      "Starting to extract posture\n"
     ]
    },
    {
     "name": "stderr",
     "output_type": "stream",
     "text": [
      "100%|██████████| 80/80 [00:05<00:00, 14.13it/s]\n"
     ]
    },
    {
     "name": "stdout",
     "output_type": "stream",
     "text": [
      "Saving results in T:\\YuLab\\Video\\Naveed\\GPS_20_ThreeFPHoldSRTProbe\\20240801\\Init\\Clips...\n",
      "Saving csv poses!\n",
      "Starting to analyze %  T:/YuLab/Video/Naveed/GPS_20_ThreeFPHoldSRTProbe/20240801/Init/Clips/Naveed_20240801_Trial061_InitView.avi\n",
      "Loading  T:/YuLab/Video/Naveed/GPS_20_ThreeFPHoldSRTProbe/20240801/Init/Clips/Naveed_20240801_Trial061_InitView.avi\n",
      "Duration of video [s]:  4.0 , recorded with  20.0 fps!\n",
      "Overall # of frames:  80  found with (before cropping) frame dimensions:  1280 1024\n",
      "Starting to extract posture\n"
     ]
    },
    {
     "name": "stderr",
     "output_type": "stream",
     "text": [
      "100%|██████████| 80/80 [00:05<00:00, 13.81it/s]\n"
     ]
    },
    {
     "name": "stdout",
     "output_type": "stream",
     "text": [
      "Saving results in T:\\YuLab\\Video\\Naveed\\GPS_20_ThreeFPHoldSRTProbe\\20240801\\Init\\Clips...\n",
      "Saving csv poses!\n",
      "Starting to analyze %  T:/YuLab/Video/Naveed/GPS_20_ThreeFPHoldSRTProbe/20240801/Init/Clips/Naveed_20240801_Trial062_InitView.avi\n",
      "Loading  T:/YuLab/Video/Naveed/GPS_20_ThreeFPHoldSRTProbe/20240801/Init/Clips/Naveed_20240801_Trial062_InitView.avi\n",
      "Duration of video [s]:  4.0 , recorded with  20.0 fps!\n",
      "Overall # of frames:  80  found with (before cropping) frame dimensions:  1280 1024\n",
      "Starting to extract posture\n"
     ]
    },
    {
     "name": "stderr",
     "output_type": "stream",
     "text": [
      "100%|██████████| 80/80 [00:05<00:00, 13.68it/s]\n"
     ]
    },
    {
     "name": "stdout",
     "output_type": "stream",
     "text": [
      "Saving results in T:\\YuLab\\Video\\Naveed\\GPS_20_ThreeFPHoldSRTProbe\\20240801\\Init\\Clips...\n",
      "Saving csv poses!\n",
      "Starting to analyze %  T:/YuLab/Video/Naveed/GPS_20_ThreeFPHoldSRTProbe/20240801/Init/Clips/Naveed_20240801_Trial063_InitView.avi\n",
      "Loading  T:/YuLab/Video/Naveed/GPS_20_ThreeFPHoldSRTProbe/20240801/Init/Clips/Naveed_20240801_Trial063_InitView.avi\n",
      "Duration of video [s]:  3.95 , recorded with  20.0 fps!\n",
      "Overall # of frames:  79  found with (before cropping) frame dimensions:  1280 1024\n",
      "Starting to extract posture\n"
     ]
    },
    {
     "name": "stderr",
     "output_type": "stream",
     "text": [
      "100%|██████████| 79/79 [00:05<00:00, 13.85it/s]\n"
     ]
    },
    {
     "name": "stdout",
     "output_type": "stream",
     "text": [
      "Saving results in T:\\YuLab\\Video\\Naveed\\GPS_20_ThreeFPHoldSRTProbe\\20240801\\Init\\Clips...\n",
      "Saving csv poses!\n",
      "Starting to analyze %  T:/YuLab/Video/Naveed/GPS_20_ThreeFPHoldSRTProbe/20240801/Init/Clips/Naveed_20240801_Trial064_InitView.avi\n",
      "Loading  T:/YuLab/Video/Naveed/GPS_20_ThreeFPHoldSRTProbe/20240801/Init/Clips/Naveed_20240801_Trial064_InitView.avi\n",
      "Duration of video [s]:  3.95 , recorded with  20.0 fps!\n",
      "Overall # of frames:  79  found with (before cropping) frame dimensions:  1280 1024\n",
      "Starting to extract posture\n"
     ]
    },
    {
     "name": "stderr",
     "output_type": "stream",
     "text": [
      "100%|██████████| 79/79 [00:05<00:00, 13.97it/s]\n"
     ]
    },
    {
     "name": "stdout",
     "output_type": "stream",
     "text": [
      "Saving results in T:\\YuLab\\Video\\Naveed\\GPS_20_ThreeFPHoldSRTProbe\\20240801\\Init\\Clips...\n",
      "Saving csv poses!\n",
      "Starting to analyze %  T:/YuLab/Video/Naveed/GPS_20_ThreeFPHoldSRTProbe/20240801/Init/Clips/Naveed_20240801_Trial065_InitView.avi\n",
      "Loading  T:/YuLab/Video/Naveed/GPS_20_ThreeFPHoldSRTProbe/20240801/Init/Clips/Naveed_20240801_Trial065_InitView.avi\n",
      "Duration of video [s]:  4.0 , recorded with  20.0 fps!\n",
      "Overall # of frames:  80  found with (before cropping) frame dimensions:  1280 1024\n",
      "Starting to extract posture\n"
     ]
    },
    {
     "name": "stderr",
     "output_type": "stream",
     "text": [
      "100%|██████████| 80/80 [00:05<00:00, 13.95it/s]\n"
     ]
    },
    {
     "name": "stdout",
     "output_type": "stream",
     "text": [
      "Saving results in T:\\YuLab\\Video\\Naveed\\GPS_20_ThreeFPHoldSRTProbe\\20240801\\Init\\Clips...\n",
      "Saving csv poses!\n",
      "Starting to analyze %  T:/YuLab/Video/Naveed/GPS_20_ThreeFPHoldSRTProbe/20240801/Init/Clips/Naveed_20240801_Trial066_InitView.avi\n",
      "Loading  T:/YuLab/Video/Naveed/GPS_20_ThreeFPHoldSRTProbe/20240801/Init/Clips/Naveed_20240801_Trial066_InitView.avi\n",
      "Duration of video [s]:  4.0 , recorded with  20.0 fps!\n",
      "Overall # of frames:  80  found with (before cropping) frame dimensions:  1280 1024\n",
      "Starting to extract posture\n"
     ]
    },
    {
     "name": "stderr",
     "output_type": "stream",
     "text": [
      "100%|██████████| 80/80 [00:05<00:00, 14.21it/s]\n"
     ]
    },
    {
     "name": "stdout",
     "output_type": "stream",
     "text": [
      "Saving results in T:\\YuLab\\Video\\Naveed\\GPS_20_ThreeFPHoldSRTProbe\\20240801\\Init\\Clips...\n",
      "Saving csv poses!\n",
      "Starting to analyze %  T:/YuLab/Video/Naveed/GPS_20_ThreeFPHoldSRTProbe/20240801/Init/Clips/Naveed_20240801_Trial067_InitView.avi\n",
      "Loading  T:/YuLab/Video/Naveed/GPS_20_ThreeFPHoldSRTProbe/20240801/Init/Clips/Naveed_20240801_Trial067_InitView.avi\n",
      "Duration of video [s]:  4.0 , recorded with  20.0 fps!\n",
      "Overall # of frames:  80  found with (before cropping) frame dimensions:  1280 1024\n",
      "Starting to extract posture\n"
     ]
    },
    {
     "name": "stderr",
     "output_type": "stream",
     "text": [
      "100%|██████████| 80/80 [00:05<00:00, 14.34it/s]\n"
     ]
    },
    {
     "name": "stdout",
     "output_type": "stream",
     "text": [
      "Saving results in T:\\YuLab\\Video\\Naveed\\GPS_20_ThreeFPHoldSRTProbe\\20240801\\Init\\Clips...\n",
      "Saving csv poses!\n",
      "Starting to analyze %  T:/YuLab/Video/Naveed/GPS_20_ThreeFPHoldSRTProbe/20240801/Init/Clips/Naveed_20240801_Trial068_InitView.avi\n",
      "Loading  T:/YuLab/Video/Naveed/GPS_20_ThreeFPHoldSRTProbe/20240801/Init/Clips/Naveed_20240801_Trial068_InitView.avi\n",
      "Duration of video [s]:  4.0 , recorded with  20.0 fps!\n",
      "Overall # of frames:  80  found with (before cropping) frame dimensions:  1280 1024\n",
      "Starting to extract posture\n"
     ]
    },
    {
     "name": "stderr",
     "output_type": "stream",
     "text": [
      "100%|██████████| 80/80 [00:05<00:00, 14.38it/s]\n"
     ]
    },
    {
     "name": "stdout",
     "output_type": "stream",
     "text": [
      "Saving results in T:\\YuLab\\Video\\Naveed\\GPS_20_ThreeFPHoldSRTProbe\\20240801\\Init\\Clips...\n",
      "Saving csv poses!\n",
      "Starting to analyze %  T:/YuLab/Video/Naveed/GPS_20_ThreeFPHoldSRTProbe/20240801/Init/Clips/Naveed_20240801_Trial069_InitView.avi\n",
      "Loading  T:/YuLab/Video/Naveed/GPS_20_ThreeFPHoldSRTProbe/20240801/Init/Clips/Naveed_20240801_Trial069_InitView.avi\n",
      "Duration of video [s]:  3.95 , recorded with  20.0 fps!\n",
      "Overall # of frames:  79  found with (before cropping) frame dimensions:  1280 1024\n",
      "Starting to extract posture\n"
     ]
    },
    {
     "name": "stderr",
     "output_type": "stream",
     "text": [
      "100%|██████████| 79/79 [00:05<00:00, 13.74it/s]\n"
     ]
    },
    {
     "name": "stdout",
     "output_type": "stream",
     "text": [
      "Saving results in T:\\YuLab\\Video\\Naveed\\GPS_20_ThreeFPHoldSRTProbe\\20240801\\Init\\Clips...\n",
      "Saving csv poses!\n",
      "Starting to analyze %  T:/YuLab/Video/Naveed/GPS_20_ThreeFPHoldSRTProbe/20240801/Init/Clips/Naveed_20240801_Trial070_InitView.avi\n",
      "Loading  T:/YuLab/Video/Naveed/GPS_20_ThreeFPHoldSRTProbe/20240801/Init/Clips/Naveed_20240801_Trial070_InitView.avi\n",
      "Duration of video [s]:  4.0 , recorded with  20.0 fps!\n",
      "Overall # of frames:  80  found with (before cropping) frame dimensions:  1280 1024\n",
      "Starting to extract posture\n"
     ]
    },
    {
     "name": "stderr",
     "output_type": "stream",
     "text": [
      "100%|██████████| 80/80 [00:05<00:00, 13.96it/s]\n"
     ]
    },
    {
     "name": "stdout",
     "output_type": "stream",
     "text": [
      "Saving results in T:\\YuLab\\Video\\Naveed\\GPS_20_ThreeFPHoldSRTProbe\\20240801\\Init\\Clips...\n",
      "Saving csv poses!\n",
      "Starting to analyze %  T:/YuLab/Video/Naveed/GPS_20_ThreeFPHoldSRTProbe/20240801/Init/Clips/Naveed_20240801_Trial071_InitView.avi\n",
      "Loading  T:/YuLab/Video/Naveed/GPS_20_ThreeFPHoldSRTProbe/20240801/Init/Clips/Naveed_20240801_Trial071_InitView.avi\n",
      "Duration of video [s]:  4.0 , recorded with  20.0 fps!\n",
      "Overall # of frames:  80  found with (before cropping) frame dimensions:  1280 1024\n",
      "Starting to extract posture\n"
     ]
    },
    {
     "name": "stderr",
     "output_type": "stream",
     "text": [
      "100%|██████████| 80/80 [00:05<00:00, 14.16it/s]\n"
     ]
    },
    {
     "name": "stdout",
     "output_type": "stream",
     "text": [
      "Saving results in T:\\YuLab\\Video\\Naveed\\GPS_20_ThreeFPHoldSRTProbe\\20240801\\Init\\Clips...\n",
      "Saving csv poses!\n",
      "Starting to analyze %  T:/YuLab/Video/Naveed/GPS_20_ThreeFPHoldSRTProbe/20240801/Init/Clips/Naveed_20240801_Trial072_InitView.avi\n",
      "Loading  T:/YuLab/Video/Naveed/GPS_20_ThreeFPHoldSRTProbe/20240801/Init/Clips/Naveed_20240801_Trial072_InitView.avi\n",
      "Duration of video [s]:  4.0 , recorded with  20.0 fps!\n",
      "Overall # of frames:  80  found with (before cropping) frame dimensions:  1280 1024\n",
      "Starting to extract posture\n"
     ]
    },
    {
     "name": "stderr",
     "output_type": "stream",
     "text": [
      "100%|██████████| 80/80 [00:05<00:00, 14.43it/s]\n"
     ]
    },
    {
     "name": "stdout",
     "output_type": "stream",
     "text": [
      "Saving results in T:\\YuLab\\Video\\Naveed\\GPS_20_ThreeFPHoldSRTProbe\\20240801\\Init\\Clips...\n",
      "Saving csv poses!\n",
      "Starting to analyze %  T:/YuLab/Video/Naveed/GPS_20_ThreeFPHoldSRTProbe/20240801/Init/Clips/Naveed_20240801_Trial073_InitView.avi\n",
      "Loading  T:/YuLab/Video/Naveed/GPS_20_ThreeFPHoldSRTProbe/20240801/Init/Clips/Naveed_20240801_Trial073_InitView.avi\n",
      "Duration of video [s]:  4.05 , recorded with  20.0 fps!\n",
      "Overall # of frames:  81  found with (before cropping) frame dimensions:  1280 1024\n",
      "Starting to extract posture\n"
     ]
    },
    {
     "name": "stderr",
     "output_type": "stream",
     "text": [
      "100%|██████████| 81/81 [00:06<00:00, 13.22it/s]\n"
     ]
    },
    {
     "name": "stdout",
     "output_type": "stream",
     "text": [
      "Saving results in T:\\YuLab\\Video\\Naveed\\GPS_20_ThreeFPHoldSRTProbe\\20240801\\Init\\Clips...\n",
      "Saving csv poses!\n",
      "Starting to analyze %  T:/YuLab/Video/Naveed/GPS_20_ThreeFPHoldSRTProbe/20240801/Init/Clips/Naveed_20240801_Trial074_InitView.avi\n",
      "Loading  T:/YuLab/Video/Naveed/GPS_20_ThreeFPHoldSRTProbe/20240801/Init/Clips/Naveed_20240801_Trial074_InitView.avi\n",
      "Duration of video [s]:  3.95 , recorded with  20.0 fps!\n",
      "Overall # of frames:  79  found with (before cropping) frame dimensions:  1280 1024\n",
      "Starting to extract posture\n"
     ]
    },
    {
     "name": "stderr",
     "output_type": "stream",
     "text": [
      "100%|██████████| 79/79 [00:05<00:00, 14.02it/s]\n"
     ]
    },
    {
     "name": "stdout",
     "output_type": "stream",
     "text": [
      "Saving results in T:\\YuLab\\Video\\Naveed\\GPS_20_ThreeFPHoldSRTProbe\\20240801\\Init\\Clips...\n",
      "Saving csv poses!\n",
      "Starting to analyze %  T:/YuLab/Video/Naveed/GPS_20_ThreeFPHoldSRTProbe/20240801/Init/Clips/Naveed_20240801_Trial075_InitView.avi\n",
      "Loading  T:/YuLab/Video/Naveed/GPS_20_ThreeFPHoldSRTProbe/20240801/Init/Clips/Naveed_20240801_Trial075_InitView.avi\n",
      "Duration of video [s]:  4.0 , recorded with  20.0 fps!\n",
      "Overall # of frames:  80  found with (before cropping) frame dimensions:  1280 1024\n",
      "Starting to extract posture\n"
     ]
    },
    {
     "name": "stderr",
     "output_type": "stream",
     "text": [
      "100%|██████████| 80/80 [00:05<00:00, 13.83it/s]\n"
     ]
    },
    {
     "name": "stdout",
     "output_type": "stream",
     "text": [
      "Saving results in T:\\YuLab\\Video\\Naveed\\GPS_20_ThreeFPHoldSRTProbe\\20240801\\Init\\Clips...\n",
      "Saving csv poses!\n",
      "Starting to analyze %  T:/YuLab/Video/Naveed/GPS_20_ThreeFPHoldSRTProbe/20240801/Init/Clips/Naveed_20240801_Trial076_InitView.avi\n",
      "Loading  T:/YuLab/Video/Naveed/GPS_20_ThreeFPHoldSRTProbe/20240801/Init/Clips/Naveed_20240801_Trial076_InitView.avi\n",
      "Duration of video [s]:  4.05 , recorded with  20.0 fps!\n",
      "Overall # of frames:  81  found with (before cropping) frame dimensions:  1280 1024\n",
      "Starting to extract posture\n"
     ]
    },
    {
     "name": "stderr",
     "output_type": "stream",
     "text": [
      "100%|██████████| 81/81 [00:06<00:00, 13.14it/s]\n"
     ]
    },
    {
     "name": "stdout",
     "output_type": "stream",
     "text": [
      "Saving results in T:\\YuLab\\Video\\Naveed\\GPS_20_ThreeFPHoldSRTProbe\\20240801\\Init\\Clips...\n",
      "Saving csv poses!\n",
      "Starting to analyze %  T:/YuLab/Video/Naveed/GPS_20_ThreeFPHoldSRTProbe/20240801/Init/Clips/Naveed_20240801_Trial077_InitView.avi\n",
      "Loading  T:/YuLab/Video/Naveed/GPS_20_ThreeFPHoldSRTProbe/20240801/Init/Clips/Naveed_20240801_Trial077_InitView.avi\n",
      "Duration of video [s]:  4.05 , recorded with  20.0 fps!\n",
      "Overall # of frames:  81  found with (before cropping) frame dimensions:  1280 1024\n",
      "Starting to extract posture\n"
     ]
    },
    {
     "name": "stderr",
     "output_type": "stream",
     "text": [
      "100%|██████████| 81/81 [00:06<00:00, 13.38it/s]\n"
     ]
    },
    {
     "name": "stdout",
     "output_type": "stream",
     "text": [
      "Saving results in T:\\YuLab\\Video\\Naveed\\GPS_20_ThreeFPHoldSRTProbe\\20240801\\Init\\Clips...\n",
      "Saving csv poses!\n",
      "Starting to analyze %  T:/YuLab/Video/Naveed/GPS_20_ThreeFPHoldSRTProbe/20240801/Init/Clips/Naveed_20240801_Trial078_InitView.avi\n",
      "Loading  T:/YuLab/Video/Naveed/GPS_20_ThreeFPHoldSRTProbe/20240801/Init/Clips/Naveed_20240801_Trial078_InitView.avi\n",
      "Duration of video [s]:  4.0 , recorded with  20.0 fps!\n",
      "Overall # of frames:  80  found with (before cropping) frame dimensions:  1280 1024\n",
      "Starting to extract posture\n"
     ]
    },
    {
     "name": "stderr",
     "output_type": "stream",
     "text": [
      "100%|██████████| 80/80 [00:05<00:00, 14.52it/s]\n"
     ]
    },
    {
     "name": "stdout",
     "output_type": "stream",
     "text": [
      "Saving results in T:\\YuLab\\Video\\Naveed\\GPS_20_ThreeFPHoldSRTProbe\\20240801\\Init\\Clips...\n",
      "Saving csv poses!\n",
      "Starting to analyze %  T:/YuLab/Video/Naveed/GPS_20_ThreeFPHoldSRTProbe/20240801/Init/Clips/Naveed_20240801_Trial079_InitView.avi\n",
      "Loading  T:/YuLab/Video/Naveed/GPS_20_ThreeFPHoldSRTProbe/20240801/Init/Clips/Naveed_20240801_Trial079_InitView.avi\n",
      "Duration of video [s]:  4.0 , recorded with  20.0 fps!\n",
      "Overall # of frames:  80  found with (before cropping) frame dimensions:  1280 1024\n",
      "Starting to extract posture\n"
     ]
    },
    {
     "name": "stderr",
     "output_type": "stream",
     "text": [
      "100%|██████████| 80/80 [00:05<00:00, 13.86it/s]\n"
     ]
    },
    {
     "name": "stdout",
     "output_type": "stream",
     "text": [
      "Saving results in T:\\YuLab\\Video\\Naveed\\GPS_20_ThreeFPHoldSRTProbe\\20240801\\Init\\Clips...\n",
      "Saving csv poses!\n",
      "Starting to analyze %  T:/YuLab/Video/Naveed/GPS_20_ThreeFPHoldSRTProbe/20240801/Init/Clips/Naveed_20240801_Trial080_InitView.avi\n",
      "Loading  T:/YuLab/Video/Naveed/GPS_20_ThreeFPHoldSRTProbe/20240801/Init/Clips/Naveed_20240801_Trial080_InitView.avi\n",
      "Duration of video [s]:  4.0 , recorded with  20.0 fps!\n",
      "Overall # of frames:  80  found with (before cropping) frame dimensions:  1280 1024\n",
      "Starting to extract posture\n"
     ]
    },
    {
     "name": "stderr",
     "output_type": "stream",
     "text": [
      "100%|██████████| 80/80 [00:05<00:00, 14.50it/s]\n"
     ]
    },
    {
     "name": "stdout",
     "output_type": "stream",
     "text": [
      "Saving results in T:\\YuLab\\Video\\Naveed\\GPS_20_ThreeFPHoldSRTProbe\\20240801\\Init\\Clips...\n",
      "Saving csv poses!\n",
      "Starting to analyze %  T:/YuLab/Video/Naveed/GPS_20_ThreeFPHoldSRTProbe/20240801/Init/Clips/Naveed_20240801_Trial081_InitView.avi\n",
      "Loading  T:/YuLab/Video/Naveed/GPS_20_ThreeFPHoldSRTProbe/20240801/Init/Clips/Naveed_20240801_Trial081_InitView.avi\n",
      "Duration of video [s]:  4.0 , recorded with  20.0 fps!\n",
      "Overall # of frames:  80  found with (before cropping) frame dimensions:  1280 1024\n",
      "Starting to extract posture\n"
     ]
    },
    {
     "name": "stderr",
     "output_type": "stream",
     "text": [
      "100%|██████████| 80/80 [00:05<00:00, 14.36it/s]\n"
     ]
    },
    {
     "name": "stdout",
     "output_type": "stream",
     "text": [
      "Saving results in T:\\YuLab\\Video\\Naveed\\GPS_20_ThreeFPHoldSRTProbe\\20240801\\Init\\Clips...\n",
      "Saving csv poses!\n",
      "Starting to analyze %  T:/YuLab/Video/Naveed/GPS_20_ThreeFPHoldSRTProbe/20240801/Init/Clips/Naveed_20240801_Trial082_InitView.avi\n",
      "Loading  T:/YuLab/Video/Naveed/GPS_20_ThreeFPHoldSRTProbe/20240801/Init/Clips/Naveed_20240801_Trial082_InitView.avi\n",
      "Duration of video [s]:  4.0 , recorded with  20.0 fps!\n",
      "Overall # of frames:  80  found with (before cropping) frame dimensions:  1280 1024\n",
      "Starting to extract posture\n"
     ]
    },
    {
     "name": "stderr",
     "output_type": "stream",
     "text": [
      "100%|██████████| 80/80 [00:05<00:00, 13.74it/s]\n"
     ]
    },
    {
     "name": "stdout",
     "output_type": "stream",
     "text": [
      "Saving results in T:\\YuLab\\Video\\Naveed\\GPS_20_ThreeFPHoldSRTProbe\\20240801\\Init\\Clips...\n",
      "Saving csv poses!\n",
      "Starting to analyze %  T:/YuLab/Video/Naveed/GPS_20_ThreeFPHoldSRTProbe/20240801/Init/Clips/Naveed_20240801_Trial083_InitView.avi\n",
      "Loading  T:/YuLab/Video/Naveed/GPS_20_ThreeFPHoldSRTProbe/20240801/Init/Clips/Naveed_20240801_Trial083_InitView.avi\n",
      "Duration of video [s]:  4.0 , recorded with  20.0 fps!\n",
      "Overall # of frames:  80  found with (before cropping) frame dimensions:  1280 1024\n",
      "Starting to extract posture\n"
     ]
    },
    {
     "name": "stderr",
     "output_type": "stream",
     "text": [
      "100%|██████████| 80/80 [00:05<00:00, 14.57it/s]\n"
     ]
    },
    {
     "name": "stdout",
     "output_type": "stream",
     "text": [
      "Saving results in T:\\YuLab\\Video\\Naveed\\GPS_20_ThreeFPHoldSRTProbe\\20240801\\Init\\Clips...\n",
      "Saving csv poses!\n",
      "Starting to analyze %  T:/YuLab/Video/Naveed/GPS_20_ThreeFPHoldSRTProbe/20240801/Init/Clips/Naveed_20240801_Trial084_InitView.avi\n",
      "Loading  T:/YuLab/Video/Naveed/GPS_20_ThreeFPHoldSRTProbe/20240801/Init/Clips/Naveed_20240801_Trial084_InitView.avi\n",
      "Duration of video [s]:  4.0 , recorded with  20.0 fps!\n",
      "Overall # of frames:  80  found with (before cropping) frame dimensions:  1280 1024\n",
      "Starting to extract posture\n"
     ]
    },
    {
     "name": "stderr",
     "output_type": "stream",
     "text": [
      "100%|██████████| 80/80 [00:05<00:00, 14.24it/s]\n"
     ]
    },
    {
     "name": "stdout",
     "output_type": "stream",
     "text": [
      "Saving results in T:\\YuLab\\Video\\Naveed\\GPS_20_ThreeFPHoldSRTProbe\\20240801\\Init\\Clips...\n",
      "Saving csv poses!\n",
      "Starting to analyze %  T:/YuLab/Video/Naveed/GPS_20_ThreeFPHoldSRTProbe/20240801/Init/Clips/Naveed_20240801_Trial085_InitView.avi\n",
      "Loading  T:/YuLab/Video/Naveed/GPS_20_ThreeFPHoldSRTProbe/20240801/Init/Clips/Naveed_20240801_Trial085_InitView.avi\n",
      "Duration of video [s]:  4.05 , recorded with  20.0 fps!\n",
      "Overall # of frames:  81  found with (before cropping) frame dimensions:  1280 1024\n",
      "Starting to extract posture\n"
     ]
    },
    {
     "name": "stderr",
     "output_type": "stream",
     "text": [
      "100%|██████████| 81/81 [00:06<00:00, 13.19it/s]\n"
     ]
    },
    {
     "name": "stdout",
     "output_type": "stream",
     "text": [
      "Saving results in T:\\YuLab\\Video\\Naveed\\GPS_20_ThreeFPHoldSRTProbe\\20240801\\Init\\Clips...\n",
      "Saving csv poses!\n",
      "Starting to analyze %  T:/YuLab/Video/Naveed/GPS_20_ThreeFPHoldSRTProbe/20240801/Init/Clips/Naveed_20240801_Trial086_InitView.avi\n",
      "Loading  T:/YuLab/Video/Naveed/GPS_20_ThreeFPHoldSRTProbe/20240801/Init/Clips/Naveed_20240801_Trial086_InitView.avi\n",
      "Duration of video [s]:  4.0 , recorded with  20.0 fps!\n",
      "Overall # of frames:  80  found with (before cropping) frame dimensions:  1280 1024\n",
      "Starting to extract posture\n"
     ]
    },
    {
     "name": "stderr",
     "output_type": "stream",
     "text": [
      "100%|██████████| 80/80 [00:05<00:00, 14.67it/s]\n"
     ]
    },
    {
     "name": "stdout",
     "output_type": "stream",
     "text": [
      "Saving results in T:\\YuLab\\Video\\Naveed\\GPS_20_ThreeFPHoldSRTProbe\\20240801\\Init\\Clips...\n",
      "Saving csv poses!\n",
      "Starting to analyze %  T:/YuLab/Video/Naveed/GPS_20_ThreeFPHoldSRTProbe/20240801/Init/Clips/Naveed_20240801_Trial087_InitView.avi\n",
      "Loading  T:/YuLab/Video/Naveed/GPS_20_ThreeFPHoldSRTProbe/20240801/Init/Clips/Naveed_20240801_Trial087_InitView.avi\n",
      "Duration of video [s]:  4.0 , recorded with  20.0 fps!\n",
      "Overall # of frames:  80  found with (before cropping) frame dimensions:  1280 1024\n",
      "Starting to extract posture\n"
     ]
    },
    {
     "name": "stderr",
     "output_type": "stream",
     "text": [
      "100%|██████████| 80/80 [00:05<00:00, 14.48it/s]\n"
     ]
    },
    {
     "name": "stdout",
     "output_type": "stream",
     "text": [
      "Saving results in T:\\YuLab\\Video\\Naveed\\GPS_20_ThreeFPHoldSRTProbe\\20240801\\Init\\Clips...\n",
      "Saving csv poses!\n",
      "Starting to analyze %  T:/YuLab/Video/Naveed/GPS_20_ThreeFPHoldSRTProbe/20240801/Init/Clips/Naveed_20240801_Trial088_InitView.avi\n",
      "Loading  T:/YuLab/Video/Naveed/GPS_20_ThreeFPHoldSRTProbe/20240801/Init/Clips/Naveed_20240801_Trial088_InitView.avi\n",
      "Duration of video [s]:  4.0 , recorded with  20.0 fps!\n",
      "Overall # of frames:  80  found with (before cropping) frame dimensions:  1280 1024\n",
      "Starting to extract posture\n"
     ]
    },
    {
     "name": "stderr",
     "output_type": "stream",
     "text": [
      "100%|██████████| 80/80 [00:05<00:00, 14.29it/s]\n"
     ]
    },
    {
     "name": "stdout",
     "output_type": "stream",
     "text": [
      "Saving results in T:\\YuLab\\Video\\Naveed\\GPS_20_ThreeFPHoldSRTProbe\\20240801\\Init\\Clips...\n",
      "Saving csv poses!\n",
      "Starting to analyze %  T:/YuLab/Video/Naveed/GPS_20_ThreeFPHoldSRTProbe/20240801/Init/Clips/Naveed_20240801_Trial089_InitView.avi\n",
      "Loading  T:/YuLab/Video/Naveed/GPS_20_ThreeFPHoldSRTProbe/20240801/Init/Clips/Naveed_20240801_Trial089_InitView.avi\n",
      "Duration of video [s]:  4.0 , recorded with  20.0 fps!\n",
      "Overall # of frames:  80  found with (before cropping) frame dimensions:  1280 1024\n",
      "Starting to extract posture\n"
     ]
    },
    {
     "name": "stderr",
     "output_type": "stream",
     "text": [
      "100%|██████████| 80/80 [00:05<00:00, 14.52it/s]\n"
     ]
    },
    {
     "name": "stdout",
     "output_type": "stream",
     "text": [
      "Saving results in T:\\YuLab\\Video\\Naveed\\GPS_20_ThreeFPHoldSRTProbe\\20240801\\Init\\Clips...\n",
      "Saving csv poses!\n",
      "Starting to analyze %  T:/YuLab/Video/Naveed/GPS_20_ThreeFPHoldSRTProbe/20240801/Init/Clips/Naveed_20240801_Trial090_InitView.avi\n",
      "Loading  T:/YuLab/Video/Naveed/GPS_20_ThreeFPHoldSRTProbe/20240801/Init/Clips/Naveed_20240801_Trial090_InitView.avi\n",
      "Duration of video [s]:  4.0 , recorded with  20.0 fps!\n",
      "Overall # of frames:  80  found with (before cropping) frame dimensions:  1280 1024\n",
      "Starting to extract posture\n"
     ]
    },
    {
     "name": "stderr",
     "output_type": "stream",
     "text": [
      "100%|██████████| 80/80 [00:05<00:00, 14.31it/s]\n"
     ]
    },
    {
     "name": "stdout",
     "output_type": "stream",
     "text": [
      "Saving results in T:\\YuLab\\Video\\Naveed\\GPS_20_ThreeFPHoldSRTProbe\\20240801\\Init\\Clips...\n",
      "Saving csv poses!\n",
      "Starting to analyze %  T:/YuLab/Video/Naveed/GPS_20_ThreeFPHoldSRTProbe/20240801/Init/Clips/Naveed_20240801_Trial091_InitView.avi\n",
      "Loading  T:/YuLab/Video/Naveed/GPS_20_ThreeFPHoldSRTProbe/20240801/Init/Clips/Naveed_20240801_Trial091_InitView.avi\n",
      "Duration of video [s]:  4.0 , recorded with  20.0 fps!\n",
      "Overall # of frames:  80  found with (before cropping) frame dimensions:  1280 1024\n",
      "Starting to extract posture\n"
     ]
    },
    {
     "name": "stderr",
     "output_type": "stream",
     "text": [
      "100%|██████████| 80/80 [00:05<00:00, 14.56it/s]\n"
     ]
    },
    {
     "name": "stdout",
     "output_type": "stream",
     "text": [
      "Saving results in T:\\YuLab\\Video\\Naveed\\GPS_20_ThreeFPHoldSRTProbe\\20240801\\Init\\Clips...\n",
      "Saving csv poses!\n",
      "Starting to analyze %  T:/YuLab/Video/Naveed/GPS_20_ThreeFPHoldSRTProbe/20240801/Init/Clips/Naveed_20240801_Trial092_InitView.avi\n",
      "Loading  T:/YuLab/Video/Naveed/GPS_20_ThreeFPHoldSRTProbe/20240801/Init/Clips/Naveed_20240801_Trial092_InitView.avi\n",
      "Duration of video [s]:  4.0 , recorded with  20.0 fps!\n",
      "Overall # of frames:  80  found with (before cropping) frame dimensions:  1280 1024\n",
      "Starting to extract posture\n"
     ]
    },
    {
     "name": "stderr",
     "output_type": "stream",
     "text": [
      "100%|██████████| 80/80 [00:05<00:00, 14.34it/s]\n"
     ]
    },
    {
     "name": "stdout",
     "output_type": "stream",
     "text": [
      "Saving results in T:\\YuLab\\Video\\Naveed\\GPS_20_ThreeFPHoldSRTProbe\\20240801\\Init\\Clips...\n",
      "Saving csv poses!\n",
      "Starting to analyze %  T:/YuLab/Video/Naveed/GPS_20_ThreeFPHoldSRTProbe/20240801/Init/Clips/Naveed_20240801_Trial093_InitView.avi\n",
      "Loading  T:/YuLab/Video/Naveed/GPS_20_ThreeFPHoldSRTProbe/20240801/Init/Clips/Naveed_20240801_Trial093_InitView.avi\n",
      "Duration of video [s]:  4.0 , recorded with  20.0 fps!\n",
      "Overall # of frames:  80  found with (before cropping) frame dimensions:  1280 1024\n",
      "Starting to extract posture\n"
     ]
    },
    {
     "name": "stderr",
     "output_type": "stream",
     "text": [
      "100%|██████████| 80/80 [00:05<00:00, 14.20it/s]\n"
     ]
    },
    {
     "name": "stdout",
     "output_type": "stream",
     "text": [
      "Saving results in T:\\YuLab\\Video\\Naveed\\GPS_20_ThreeFPHoldSRTProbe\\20240801\\Init\\Clips...\n",
      "Saving csv poses!\n",
      "Starting to analyze %  T:/YuLab/Video/Naveed/GPS_20_ThreeFPHoldSRTProbe/20240801/Init/Clips/Naveed_20240801_Trial094_InitView.avi\n",
      "Loading  T:/YuLab/Video/Naveed/GPS_20_ThreeFPHoldSRTProbe/20240801/Init/Clips/Naveed_20240801_Trial094_InitView.avi\n",
      "Duration of video [s]:  4.0 , recorded with  20.0 fps!\n",
      "Overall # of frames:  80  found with (before cropping) frame dimensions:  1280 1024\n",
      "Starting to extract posture\n"
     ]
    },
    {
     "name": "stderr",
     "output_type": "stream",
     "text": [
      "100%|██████████| 80/80 [00:05<00:00, 14.67it/s]\n"
     ]
    },
    {
     "name": "stdout",
     "output_type": "stream",
     "text": [
      "Saving results in T:\\YuLab\\Video\\Naveed\\GPS_20_ThreeFPHoldSRTProbe\\20240801\\Init\\Clips...\n",
      "Saving csv poses!\n",
      "Starting to analyze %  T:/YuLab/Video/Naveed/GPS_20_ThreeFPHoldSRTProbe/20240801/Init/Clips/Naveed_20240801_Trial095_InitView.avi\n",
      "Loading  T:/YuLab/Video/Naveed/GPS_20_ThreeFPHoldSRTProbe/20240801/Init/Clips/Naveed_20240801_Trial095_InitView.avi\n",
      "Duration of video [s]:  4.0 , recorded with  20.0 fps!\n",
      "Overall # of frames:  80  found with (before cropping) frame dimensions:  1280 1024\n",
      "Starting to extract posture\n"
     ]
    },
    {
     "name": "stderr",
     "output_type": "stream",
     "text": [
      "100%|██████████| 80/80 [00:05<00:00, 14.32it/s]\n"
     ]
    },
    {
     "name": "stdout",
     "output_type": "stream",
     "text": [
      "Saving results in T:\\YuLab\\Video\\Naveed\\GPS_20_ThreeFPHoldSRTProbe\\20240801\\Init\\Clips...\n",
      "Saving csv poses!\n",
      "Starting to analyze %  T:/YuLab/Video/Naveed/GPS_20_ThreeFPHoldSRTProbe/20240801/Init/Clips/Naveed_20240801_Trial096_InitView.avi\n",
      "Loading  T:/YuLab/Video/Naveed/GPS_20_ThreeFPHoldSRTProbe/20240801/Init/Clips/Naveed_20240801_Trial096_InitView.avi\n",
      "Duration of video [s]:  4.0 , recorded with  20.0 fps!\n",
      "Overall # of frames:  80  found with (before cropping) frame dimensions:  1280 1024\n",
      "Starting to extract posture\n"
     ]
    },
    {
     "name": "stderr",
     "output_type": "stream",
     "text": [
      "100%|██████████| 80/80 [00:05<00:00, 14.74it/s]\n"
     ]
    },
    {
     "name": "stdout",
     "output_type": "stream",
     "text": [
      "Saving results in T:\\YuLab\\Video\\Naveed\\GPS_20_ThreeFPHoldSRTProbe\\20240801\\Init\\Clips...\n",
      "Saving csv poses!\n",
      "Starting to analyze %  T:/YuLab/Video/Naveed/GPS_20_ThreeFPHoldSRTProbe/20240801/Init/Clips/Naveed_20240801_Trial097_InitView.avi\n",
      "Loading  T:/YuLab/Video/Naveed/GPS_20_ThreeFPHoldSRTProbe/20240801/Init/Clips/Naveed_20240801_Trial097_InitView.avi\n",
      "Duration of video [s]:  4.0 , recorded with  20.0 fps!\n",
      "Overall # of frames:  80  found with (before cropping) frame dimensions:  1280 1024\n",
      "Starting to extract posture\n"
     ]
    },
    {
     "name": "stderr",
     "output_type": "stream",
     "text": [
      "100%|██████████| 80/80 [00:05<00:00, 14.89it/s]\n"
     ]
    },
    {
     "name": "stdout",
     "output_type": "stream",
     "text": [
      "Saving results in T:\\YuLab\\Video\\Naveed\\GPS_20_ThreeFPHoldSRTProbe\\20240801\\Init\\Clips...\n",
      "Saving csv poses!\n",
      "Starting to analyze %  T:/YuLab/Video/Naveed/GPS_20_ThreeFPHoldSRTProbe/20240801/Init/Clips/Naveed_20240801_Trial098_InitView.avi\n",
      "Loading  T:/YuLab/Video/Naveed/GPS_20_ThreeFPHoldSRTProbe/20240801/Init/Clips/Naveed_20240801_Trial098_InitView.avi\n",
      "Duration of video [s]:  4.0 , recorded with  20.0 fps!\n",
      "Overall # of frames:  80  found with (before cropping) frame dimensions:  1280 1024\n",
      "Starting to extract posture\n"
     ]
    },
    {
     "name": "stderr",
     "output_type": "stream",
     "text": [
      "100%|██████████| 80/80 [00:05<00:00, 14.62it/s]\n"
     ]
    },
    {
     "name": "stdout",
     "output_type": "stream",
     "text": [
      "Saving results in T:\\YuLab\\Video\\Naveed\\GPS_20_ThreeFPHoldSRTProbe\\20240801\\Init\\Clips...\n",
      "Saving csv poses!\n",
      "Starting to analyze %  T:/YuLab/Video/Naveed/GPS_20_ThreeFPHoldSRTProbe/20240801/Init/Clips/Naveed_20240801_Trial099_InitView.avi\n",
      "Loading  T:/YuLab/Video/Naveed/GPS_20_ThreeFPHoldSRTProbe/20240801/Init/Clips/Naveed_20240801_Trial099_InitView.avi\n",
      "Duration of video [s]:  4.05 , recorded with  20.0 fps!\n",
      "Overall # of frames:  81  found with (before cropping) frame dimensions:  1280 1024\n",
      "Starting to extract posture\n"
     ]
    },
    {
     "name": "stderr",
     "output_type": "stream",
     "text": [
      "100%|██████████| 81/81 [00:05<00:00, 13.60it/s]\n"
     ]
    },
    {
     "name": "stdout",
     "output_type": "stream",
     "text": [
      "Saving results in T:\\YuLab\\Video\\Naveed\\GPS_20_ThreeFPHoldSRTProbe\\20240801\\Init\\Clips...\n",
      "Saving csv poses!\n",
      "Starting to analyze %  T:/YuLab/Video/Naveed/GPS_20_ThreeFPHoldSRTProbe/20240801/Init/Clips/Naveed_20240801_Trial100_InitView.avi\n",
      "Loading  T:/YuLab/Video/Naveed/GPS_20_ThreeFPHoldSRTProbe/20240801/Init/Clips/Naveed_20240801_Trial100_InitView.avi\n",
      "Duration of video [s]:  4.0 , recorded with  20.0 fps!\n",
      "Overall # of frames:  80  found with (before cropping) frame dimensions:  1280 1024\n",
      "Starting to extract posture\n"
     ]
    },
    {
     "name": "stderr",
     "output_type": "stream",
     "text": [
      "100%|██████████| 80/80 [00:05<00:00, 14.96it/s]\n"
     ]
    },
    {
     "name": "stdout",
     "output_type": "stream",
     "text": [
      "Saving results in T:\\YuLab\\Video\\Naveed\\GPS_20_ThreeFPHoldSRTProbe\\20240801\\Init\\Clips...\n",
      "Saving csv poses!\n",
      "Starting to analyze %  T:/YuLab/Video/Naveed/GPS_20_ThreeFPHoldSRTProbe/20240801/Init/Clips/Naveed_20240801_Trial101_InitView.avi\n",
      "Loading  T:/YuLab/Video/Naveed/GPS_20_ThreeFPHoldSRTProbe/20240801/Init/Clips/Naveed_20240801_Trial101_InitView.avi\n",
      "Duration of video [s]:  4.0 , recorded with  20.0 fps!\n",
      "Overall # of frames:  80  found with (before cropping) frame dimensions:  1280 1024\n",
      "Starting to extract posture\n"
     ]
    },
    {
     "name": "stderr",
     "output_type": "stream",
     "text": [
      "100%|██████████| 80/80 [00:05<00:00, 14.46it/s]\n"
     ]
    },
    {
     "name": "stdout",
     "output_type": "stream",
     "text": [
      "Saving results in T:\\YuLab\\Video\\Naveed\\GPS_20_ThreeFPHoldSRTProbe\\20240801\\Init\\Clips...\n",
      "Saving csv poses!\n",
      "Starting to analyze %  T:/YuLab/Video/Naveed/GPS_20_ThreeFPHoldSRTProbe/20240801/Init/Clips/Naveed_20240801_Trial102_InitView.avi\n",
      "Loading  T:/YuLab/Video/Naveed/GPS_20_ThreeFPHoldSRTProbe/20240801/Init/Clips/Naveed_20240801_Trial102_InitView.avi\n",
      "Duration of video [s]:  4.0 , recorded with  20.0 fps!\n",
      "Overall # of frames:  80  found with (before cropping) frame dimensions:  1280 1024\n",
      "Starting to extract posture\n"
     ]
    },
    {
     "name": "stderr",
     "output_type": "stream",
     "text": [
      "100%|██████████| 80/80 [00:05<00:00, 14.44it/s]\n"
     ]
    },
    {
     "name": "stdout",
     "output_type": "stream",
     "text": [
      "Saving results in T:\\YuLab\\Video\\Naveed\\GPS_20_ThreeFPHoldSRTProbe\\20240801\\Init\\Clips...\n",
      "Saving csv poses!\n",
      "Starting to analyze %  T:/YuLab/Video/Naveed/GPS_20_ThreeFPHoldSRTProbe/20240801/Init/Clips/Naveed_20240801_Trial103_InitView.avi\n",
      "Loading  T:/YuLab/Video/Naveed/GPS_20_ThreeFPHoldSRTProbe/20240801/Init/Clips/Naveed_20240801_Trial103_InitView.avi\n",
      "Duration of video [s]:  4.0 , recorded with  20.0 fps!\n",
      "Overall # of frames:  80  found with (before cropping) frame dimensions:  1280 1024\n",
      "Starting to extract posture\n"
     ]
    },
    {
     "name": "stderr",
     "output_type": "stream",
     "text": [
      "100%|██████████| 80/80 [00:05<00:00, 14.62it/s]\n"
     ]
    },
    {
     "name": "stdout",
     "output_type": "stream",
     "text": [
      "Saving results in T:\\YuLab\\Video\\Naveed\\GPS_20_ThreeFPHoldSRTProbe\\20240801\\Init\\Clips...\n",
      "Saving csv poses!\n",
      "Starting to analyze %  T:/YuLab/Video/Naveed/GPS_20_ThreeFPHoldSRTProbe/20240801/Init/Clips/Naveed_20240801_Trial104_InitView.avi\n",
      "Loading  T:/YuLab/Video/Naveed/GPS_20_ThreeFPHoldSRTProbe/20240801/Init/Clips/Naveed_20240801_Trial104_InitView.avi\n",
      "Duration of video [s]:  4.0 , recorded with  20.0 fps!\n",
      "Overall # of frames:  80  found with (before cropping) frame dimensions:  1280 1024\n",
      "Starting to extract posture\n"
     ]
    },
    {
     "name": "stderr",
     "output_type": "stream",
     "text": [
      "100%|██████████| 80/80 [00:05<00:00, 14.65it/s]\n"
     ]
    },
    {
     "name": "stdout",
     "output_type": "stream",
     "text": [
      "Saving results in T:\\YuLab\\Video\\Naveed\\GPS_20_ThreeFPHoldSRTProbe\\20240801\\Init\\Clips...\n",
      "Saving csv poses!\n",
      "Starting to analyze %  T:/YuLab/Video/Naveed/GPS_20_ThreeFPHoldSRTProbe/20240801/Init/Clips/Naveed_20240801_Trial105_InitView.avi\n",
      "Loading  T:/YuLab/Video/Naveed/GPS_20_ThreeFPHoldSRTProbe/20240801/Init/Clips/Naveed_20240801_Trial105_InitView.avi\n",
      "Duration of video [s]:  4.05 , recorded with  20.0 fps!\n",
      "Overall # of frames:  81  found with (before cropping) frame dimensions:  1280 1024\n",
      "Starting to extract posture\n"
     ]
    },
    {
     "name": "stderr",
     "output_type": "stream",
     "text": [
      "100%|██████████| 81/81 [00:05<00:00, 13.71it/s]\n"
     ]
    },
    {
     "name": "stdout",
     "output_type": "stream",
     "text": [
      "Saving results in T:\\YuLab\\Video\\Naveed\\GPS_20_ThreeFPHoldSRTProbe\\20240801\\Init\\Clips...\n",
      "Saving csv poses!\n",
      "Starting to analyze %  T:/YuLab/Video/Naveed/GPS_20_ThreeFPHoldSRTProbe/20240801/Init/Clips/Naveed_20240801_Trial106_InitView.avi\n",
      "Loading  T:/YuLab/Video/Naveed/GPS_20_ThreeFPHoldSRTProbe/20240801/Init/Clips/Naveed_20240801_Trial106_InitView.avi\n",
      "Duration of video [s]:  4.0 , recorded with  20.0 fps!\n",
      "Overall # of frames:  80  found with (before cropping) frame dimensions:  1280 1024\n",
      "Starting to extract posture\n"
     ]
    },
    {
     "name": "stderr",
     "output_type": "stream",
     "text": [
      "100%|██████████| 80/80 [00:05<00:00, 14.60it/s]\n"
     ]
    },
    {
     "name": "stdout",
     "output_type": "stream",
     "text": [
      "Saving results in T:\\YuLab\\Video\\Naveed\\GPS_20_ThreeFPHoldSRTProbe\\20240801\\Init\\Clips...\n",
      "Saving csv poses!\n",
      "Starting to analyze %  T:/YuLab/Video/Naveed/GPS_20_ThreeFPHoldSRTProbe/20240801/Init/Clips/Naveed_20240801_Trial107_InitView.avi\n",
      "Loading  T:/YuLab/Video/Naveed/GPS_20_ThreeFPHoldSRTProbe/20240801/Init/Clips/Naveed_20240801_Trial107_InitView.avi\n",
      "Duration of video [s]:  4.0 , recorded with  20.0 fps!\n",
      "Overall # of frames:  80  found with (before cropping) frame dimensions:  1280 1024\n",
      "Starting to extract posture\n"
     ]
    },
    {
     "name": "stderr",
     "output_type": "stream",
     "text": [
      "100%|██████████| 80/80 [00:05<00:00, 14.49it/s]\n"
     ]
    },
    {
     "name": "stdout",
     "output_type": "stream",
     "text": [
      "Saving results in T:\\YuLab\\Video\\Naveed\\GPS_20_ThreeFPHoldSRTProbe\\20240801\\Init\\Clips...\n",
      "Saving csv poses!\n",
      "Starting to analyze %  T:/YuLab/Video/Naveed/GPS_20_ThreeFPHoldSRTProbe/20240801/Init/Clips/Naveed_20240801_Trial108_InitView.avi\n",
      "Loading  T:/YuLab/Video/Naveed/GPS_20_ThreeFPHoldSRTProbe/20240801/Init/Clips/Naveed_20240801_Trial108_InitView.avi\n",
      "Duration of video [s]:  4.0 , recorded with  20.0 fps!\n",
      "Overall # of frames:  80  found with (before cropping) frame dimensions:  1280 1024\n",
      "Starting to extract posture\n"
     ]
    },
    {
     "name": "stderr",
     "output_type": "stream",
     "text": [
      "100%|██████████| 80/80 [00:05<00:00, 14.16it/s]\n"
     ]
    },
    {
     "name": "stdout",
     "output_type": "stream",
     "text": [
      "Saving results in T:\\YuLab\\Video\\Naveed\\GPS_20_ThreeFPHoldSRTProbe\\20240801\\Init\\Clips...\n",
      "Saving csv poses!\n",
      "Starting to analyze %  T:/YuLab/Video/Naveed/GPS_20_ThreeFPHoldSRTProbe/20240801/Init/Clips/Naveed_20240801_Trial109_InitView.avi\n",
      "Loading  T:/YuLab/Video/Naveed/GPS_20_ThreeFPHoldSRTProbe/20240801/Init/Clips/Naveed_20240801_Trial109_InitView.avi\n",
      "Duration of video [s]:  4.0 , recorded with  20.0 fps!\n",
      "Overall # of frames:  80  found with (before cropping) frame dimensions:  1280 1024\n",
      "Starting to extract posture\n"
     ]
    },
    {
     "name": "stderr",
     "output_type": "stream",
     "text": [
      "100%|██████████| 80/80 [00:05<00:00, 14.48it/s]\n"
     ]
    },
    {
     "name": "stdout",
     "output_type": "stream",
     "text": [
      "Saving results in T:\\YuLab\\Video\\Naveed\\GPS_20_ThreeFPHoldSRTProbe\\20240801\\Init\\Clips...\n",
      "Saving csv poses!\n",
      "Starting to analyze %  T:/YuLab/Video/Naveed/GPS_20_ThreeFPHoldSRTProbe/20240801/Init/Clips/Naveed_20240801_Trial110_InitView.avi\n",
      "Loading  T:/YuLab/Video/Naveed/GPS_20_ThreeFPHoldSRTProbe/20240801/Init/Clips/Naveed_20240801_Trial110_InitView.avi\n",
      "Duration of video [s]:  3.95 , recorded with  20.0 fps!\n",
      "Overall # of frames:  79  found with (before cropping) frame dimensions:  1280 1024\n",
      "Starting to extract posture\n"
     ]
    },
    {
     "name": "stderr",
     "output_type": "stream",
     "text": [
      "100%|██████████| 79/79 [00:05<00:00, 14.67it/s]\n"
     ]
    },
    {
     "name": "stdout",
     "output_type": "stream",
     "text": [
      "Saving results in T:\\YuLab\\Video\\Naveed\\GPS_20_ThreeFPHoldSRTProbe\\20240801\\Init\\Clips...\n",
      "Saving csv poses!\n",
      "Starting to analyze %  T:/YuLab/Video/Naveed/GPS_20_ThreeFPHoldSRTProbe/20240801/Init/Clips/Naveed_20240801_Trial111_InitView.avi\n",
      "Loading  T:/YuLab/Video/Naveed/GPS_20_ThreeFPHoldSRTProbe/20240801/Init/Clips/Naveed_20240801_Trial111_InitView.avi\n",
      "Duration of video [s]:  4.0 , recorded with  20.0 fps!\n",
      "Overall # of frames:  80  found with (before cropping) frame dimensions:  1280 1024\n",
      "Starting to extract posture\n"
     ]
    },
    {
     "name": "stderr",
     "output_type": "stream",
     "text": [
      "100%|██████████| 80/80 [00:05<00:00, 14.56it/s]\n"
     ]
    },
    {
     "name": "stdout",
     "output_type": "stream",
     "text": [
      "Saving results in T:\\YuLab\\Video\\Naveed\\GPS_20_ThreeFPHoldSRTProbe\\20240801\\Init\\Clips...\n",
      "Saving csv poses!\n",
      "Starting to analyze %  T:/YuLab/Video/Naveed/GPS_20_ThreeFPHoldSRTProbe/20240801/Init/Clips/Naveed_20240801_Trial112_InitView.avi\n",
      "Loading  T:/YuLab/Video/Naveed/GPS_20_ThreeFPHoldSRTProbe/20240801/Init/Clips/Naveed_20240801_Trial112_InitView.avi\n",
      "Duration of video [s]:  4.0 , recorded with  20.0 fps!\n",
      "Overall # of frames:  80  found with (before cropping) frame dimensions:  1280 1024\n",
      "Starting to extract posture\n"
     ]
    },
    {
     "name": "stderr",
     "output_type": "stream",
     "text": [
      "100%|██████████| 80/80 [00:05<00:00, 14.28it/s]\n"
     ]
    },
    {
     "name": "stdout",
     "output_type": "stream",
     "text": [
      "Saving results in T:\\YuLab\\Video\\Naveed\\GPS_20_ThreeFPHoldSRTProbe\\20240801\\Init\\Clips...\n",
      "Saving csv poses!\n",
      "Starting to analyze %  T:/YuLab/Video/Naveed/GPS_20_ThreeFPHoldSRTProbe/20240801/Init/Clips/Naveed_20240801_Trial113_InitView.avi\n",
      "Loading  T:/YuLab/Video/Naveed/GPS_20_ThreeFPHoldSRTProbe/20240801/Init/Clips/Naveed_20240801_Trial113_InitView.avi\n",
      "Duration of video [s]:  4.0 , recorded with  20.0 fps!\n",
      "Overall # of frames:  80  found with (before cropping) frame dimensions:  1280 1024\n",
      "Starting to extract posture\n"
     ]
    },
    {
     "name": "stderr",
     "output_type": "stream",
     "text": [
      "100%|██████████| 80/80 [00:05<00:00, 14.81it/s]\n"
     ]
    },
    {
     "name": "stdout",
     "output_type": "stream",
     "text": [
      "Saving results in T:\\YuLab\\Video\\Naveed\\GPS_20_ThreeFPHoldSRTProbe\\20240801\\Init\\Clips...\n",
      "Saving csv poses!\n",
      "Starting to analyze %  T:/YuLab/Video/Naveed/GPS_20_ThreeFPHoldSRTProbe/20240801/Init/Clips/Naveed_20240801_Trial114_InitView.avi\n",
      "Loading  T:/YuLab/Video/Naveed/GPS_20_ThreeFPHoldSRTProbe/20240801/Init/Clips/Naveed_20240801_Trial114_InitView.avi\n",
      "Duration of video [s]:  4.0 , recorded with  20.0 fps!\n",
      "Overall # of frames:  80  found with (before cropping) frame dimensions:  1280 1024\n",
      "Starting to extract posture\n"
     ]
    },
    {
     "name": "stderr",
     "output_type": "stream",
     "text": [
      "100%|██████████| 80/80 [00:05<00:00, 14.40it/s]\n"
     ]
    },
    {
     "name": "stdout",
     "output_type": "stream",
     "text": [
      "Saving results in T:\\YuLab\\Video\\Naveed\\GPS_20_ThreeFPHoldSRTProbe\\20240801\\Init\\Clips...\n",
      "Saving csv poses!\n",
      "Starting to analyze %  T:/YuLab/Video/Naveed/GPS_20_ThreeFPHoldSRTProbe/20240801/Init/Clips/Naveed_20240801_Trial115_InitView.avi\n",
      "Loading  T:/YuLab/Video/Naveed/GPS_20_ThreeFPHoldSRTProbe/20240801/Init/Clips/Naveed_20240801_Trial115_InitView.avi\n",
      "Duration of video [s]:  4.0 , recorded with  20.0 fps!\n",
      "Overall # of frames:  80  found with (before cropping) frame dimensions:  1280 1024\n",
      "Starting to extract posture\n"
     ]
    },
    {
     "name": "stderr",
     "output_type": "stream",
     "text": [
      "100%|██████████| 80/80 [00:05<00:00, 14.73it/s]\n"
     ]
    },
    {
     "name": "stdout",
     "output_type": "stream",
     "text": [
      "Saving results in T:\\YuLab\\Video\\Naveed\\GPS_20_ThreeFPHoldSRTProbe\\20240801\\Init\\Clips...\n",
      "Saving csv poses!\n",
      "Starting to analyze %  T:/YuLab/Video/Naveed/GPS_20_ThreeFPHoldSRTProbe/20240801/Init/Clips/Naveed_20240801_Trial116_InitView.avi\n",
      "Loading  T:/YuLab/Video/Naveed/GPS_20_ThreeFPHoldSRTProbe/20240801/Init/Clips/Naveed_20240801_Trial116_InitView.avi\n",
      "Duration of video [s]:  4.0 , recorded with  20.0 fps!\n",
      "Overall # of frames:  80  found with (before cropping) frame dimensions:  1280 1024\n",
      "Starting to extract posture\n"
     ]
    },
    {
     "name": "stderr",
     "output_type": "stream",
     "text": [
      "100%|██████████| 80/80 [00:05<00:00, 14.34it/s]\n"
     ]
    },
    {
     "name": "stdout",
     "output_type": "stream",
     "text": [
      "Saving results in T:\\YuLab\\Video\\Naveed\\GPS_20_ThreeFPHoldSRTProbe\\20240801\\Init\\Clips...\n",
      "Saving csv poses!\n",
      "Starting to analyze %  T:/YuLab/Video/Naveed/GPS_20_ThreeFPHoldSRTProbe/20240801/Init/Clips/Naveed_20240801_Trial117_InitView.avi\n",
      "Loading  T:/YuLab/Video/Naveed/GPS_20_ThreeFPHoldSRTProbe/20240801/Init/Clips/Naveed_20240801_Trial117_InitView.avi\n",
      "Duration of video [s]:  4.0 , recorded with  20.0 fps!\n",
      "Overall # of frames:  80  found with (before cropping) frame dimensions:  1280 1024\n",
      "Starting to extract posture\n"
     ]
    },
    {
     "name": "stderr",
     "output_type": "stream",
     "text": [
      "100%|██████████| 80/80 [00:05<00:00, 14.74it/s]\n"
     ]
    },
    {
     "name": "stdout",
     "output_type": "stream",
     "text": [
      "Saving results in T:\\YuLab\\Video\\Naveed\\GPS_20_ThreeFPHoldSRTProbe\\20240801\\Init\\Clips...\n",
      "Saving csv poses!\n",
      "Starting to analyze %  T:/YuLab/Video/Naveed/GPS_20_ThreeFPHoldSRTProbe/20240801/Init/Clips/Naveed_20240801_Trial118_InitView.avi\n",
      "Loading  T:/YuLab/Video/Naveed/GPS_20_ThreeFPHoldSRTProbe/20240801/Init/Clips/Naveed_20240801_Trial118_InitView.avi\n",
      "Duration of video [s]:  4.0 , recorded with  20.0 fps!\n",
      "Overall # of frames:  80  found with (before cropping) frame dimensions:  1280 1024\n",
      "Starting to extract posture\n"
     ]
    },
    {
     "name": "stderr",
     "output_type": "stream",
     "text": [
      "100%|██████████| 80/80 [00:05<00:00, 14.43it/s]\n"
     ]
    },
    {
     "name": "stdout",
     "output_type": "stream",
     "text": [
      "Saving results in T:\\YuLab\\Video\\Naveed\\GPS_20_ThreeFPHoldSRTProbe\\20240801\\Init\\Clips...\n",
      "Saving csv poses!\n",
      "Starting to analyze %  T:/YuLab/Video/Naveed/GPS_20_ThreeFPHoldSRTProbe/20240801/Init/Clips/Naveed_20240801_Trial119_InitView.avi\n",
      "Loading  T:/YuLab/Video/Naveed/GPS_20_ThreeFPHoldSRTProbe/20240801/Init/Clips/Naveed_20240801_Trial119_InitView.avi\n",
      "Duration of video [s]:  4.0 , recorded with  20.0 fps!\n",
      "Overall # of frames:  80  found with (before cropping) frame dimensions:  1280 1024\n",
      "Starting to extract posture\n"
     ]
    },
    {
     "name": "stderr",
     "output_type": "stream",
     "text": [
      "100%|██████████| 80/80 [00:05<00:00, 14.72it/s]\n"
     ]
    },
    {
     "name": "stdout",
     "output_type": "stream",
     "text": [
      "Saving results in T:\\YuLab\\Video\\Naveed\\GPS_20_ThreeFPHoldSRTProbe\\20240801\\Init\\Clips...\n",
      "Saving csv poses!\n",
      "Starting to analyze %  T:/YuLab/Video/Naveed/GPS_20_ThreeFPHoldSRTProbe/20240801/Init/Clips/Naveed_20240801_Trial120_InitView.avi\n",
      "Loading  T:/YuLab/Video/Naveed/GPS_20_ThreeFPHoldSRTProbe/20240801/Init/Clips/Naveed_20240801_Trial120_InitView.avi\n",
      "Duration of video [s]:  4.0 , recorded with  20.0 fps!\n",
      "Overall # of frames:  80  found with (before cropping) frame dimensions:  1280 1024\n",
      "Starting to extract posture\n"
     ]
    },
    {
     "name": "stderr",
     "output_type": "stream",
     "text": [
      "100%|██████████| 80/80 [00:05<00:00, 14.27it/s]\n"
     ]
    },
    {
     "name": "stdout",
     "output_type": "stream",
     "text": [
      "Saving results in T:\\YuLab\\Video\\Naveed\\GPS_20_ThreeFPHoldSRTProbe\\20240801\\Init\\Clips...\n",
      "Saving csv poses!\n",
      "Starting to analyze %  T:/YuLab/Video/Naveed/GPS_20_ThreeFPHoldSRTProbe/20240801/Init/Clips/Naveed_20240801_Trial121_InitView.avi\n",
      "Loading  T:/YuLab/Video/Naveed/GPS_20_ThreeFPHoldSRTProbe/20240801/Init/Clips/Naveed_20240801_Trial121_InitView.avi\n",
      "Duration of video [s]:  4.0 , recorded with  20.0 fps!\n",
      "Overall # of frames:  80  found with (before cropping) frame dimensions:  1280 1024\n",
      "Starting to extract posture\n"
     ]
    },
    {
     "name": "stderr",
     "output_type": "stream",
     "text": [
      "100%|██████████| 80/80 [00:05<00:00, 14.85it/s]\n"
     ]
    },
    {
     "name": "stdout",
     "output_type": "stream",
     "text": [
      "Saving results in T:\\YuLab\\Video\\Naveed\\GPS_20_ThreeFPHoldSRTProbe\\20240801\\Init\\Clips...\n",
      "Saving csv poses!\n",
      "Starting to analyze %  T:/YuLab/Video/Naveed/GPS_20_ThreeFPHoldSRTProbe/20240801/Init/Clips/Naveed_20240801_Trial122_InitView.avi\n",
      "Loading  T:/YuLab/Video/Naveed/GPS_20_ThreeFPHoldSRTProbe/20240801/Init/Clips/Naveed_20240801_Trial122_InitView.avi\n",
      "Duration of video [s]:  4.0 , recorded with  20.0 fps!\n",
      "Overall # of frames:  80  found with (before cropping) frame dimensions:  1280 1024\n",
      "Starting to extract posture\n"
     ]
    },
    {
     "name": "stderr",
     "output_type": "stream",
     "text": [
      "100%|██████████| 80/80 [00:05<00:00, 14.85it/s]\n"
     ]
    },
    {
     "name": "stdout",
     "output_type": "stream",
     "text": [
      "Saving results in T:\\YuLab\\Video\\Naveed\\GPS_20_ThreeFPHoldSRTProbe\\20240801\\Init\\Clips...\n",
      "Saving csv poses!\n",
      "Starting to analyze %  T:/YuLab/Video/Naveed/GPS_20_ThreeFPHoldSRTProbe/20240801/Init/Clips/Naveed_20240801_Trial123_InitView.avi\n",
      "Loading  T:/YuLab/Video/Naveed/GPS_20_ThreeFPHoldSRTProbe/20240801/Init/Clips/Naveed_20240801_Trial123_InitView.avi\n",
      "Duration of video [s]:  4.0 , recorded with  20.0 fps!\n",
      "Overall # of frames:  80  found with (before cropping) frame dimensions:  1280 1024\n",
      "Starting to extract posture\n"
     ]
    },
    {
     "name": "stderr",
     "output_type": "stream",
     "text": [
      "100%|██████████| 80/80 [00:05<00:00, 14.64it/s]\n"
     ]
    },
    {
     "name": "stdout",
     "output_type": "stream",
     "text": [
      "Saving results in T:\\YuLab\\Video\\Naveed\\GPS_20_ThreeFPHoldSRTProbe\\20240801\\Init\\Clips...\n",
      "Saving csv poses!\n",
      "Starting to analyze %  T:/YuLab/Video/Naveed/GPS_20_ThreeFPHoldSRTProbe/20240801/Init/Clips/Naveed_20240801_Trial124_InitView.avi\n",
      "Loading  T:/YuLab/Video/Naveed/GPS_20_ThreeFPHoldSRTProbe/20240801/Init/Clips/Naveed_20240801_Trial124_InitView.avi\n",
      "Duration of video [s]:  4.0 , recorded with  20.0 fps!\n",
      "Overall # of frames:  80  found with (before cropping) frame dimensions:  1280 1024\n",
      "Starting to extract posture\n"
     ]
    },
    {
     "name": "stderr",
     "output_type": "stream",
     "text": [
      "100%|██████████| 80/80 [00:05<00:00, 14.52it/s]\n"
     ]
    },
    {
     "name": "stdout",
     "output_type": "stream",
     "text": [
      "Saving results in T:\\YuLab\\Video\\Naveed\\GPS_20_ThreeFPHoldSRTProbe\\20240801\\Init\\Clips...\n",
      "Saving csv poses!\n",
      "Starting to analyze %  T:/YuLab/Video/Naveed/GPS_20_ThreeFPHoldSRTProbe/20240801/Init/Clips/Naveed_20240801_Trial125_InitView.avi\n",
      "Loading  T:/YuLab/Video/Naveed/GPS_20_ThreeFPHoldSRTProbe/20240801/Init/Clips/Naveed_20240801_Trial125_InitView.avi\n",
      "Duration of video [s]:  4.0 , recorded with  20.0 fps!\n",
      "Overall # of frames:  80  found with (before cropping) frame dimensions:  1280 1024\n",
      "Starting to extract posture\n"
     ]
    },
    {
     "name": "stderr",
     "output_type": "stream",
     "text": [
      "100%|██████████| 80/80 [00:05<00:00, 14.38it/s]\n"
     ]
    },
    {
     "name": "stdout",
     "output_type": "stream",
     "text": [
      "Saving results in T:\\YuLab\\Video\\Naveed\\GPS_20_ThreeFPHoldSRTProbe\\20240801\\Init\\Clips...\n",
      "Saving csv poses!\n",
      "Starting to analyze %  T:/YuLab/Video/Naveed/GPS_20_ThreeFPHoldSRTProbe/20240801/Init/Clips/Naveed_20240801_Trial126_InitView.avi\n",
      "Loading  T:/YuLab/Video/Naveed/GPS_20_ThreeFPHoldSRTProbe/20240801/Init/Clips/Naveed_20240801_Trial126_InitView.avi\n",
      "Duration of video [s]:  4.0 , recorded with  20.0 fps!\n",
      "Overall # of frames:  80  found with (before cropping) frame dimensions:  1280 1024\n",
      "Starting to extract posture\n"
     ]
    },
    {
     "name": "stderr",
     "output_type": "stream",
     "text": [
      "100%|██████████| 80/80 [00:05<00:00, 14.90it/s]\n"
     ]
    },
    {
     "name": "stdout",
     "output_type": "stream",
     "text": [
      "Saving results in T:\\YuLab\\Video\\Naveed\\GPS_20_ThreeFPHoldSRTProbe\\20240801\\Init\\Clips...\n",
      "Saving csv poses!\n",
      "Starting to analyze %  T:/YuLab/Video/Naveed/GPS_20_ThreeFPHoldSRTProbe/20240801/Init/Clips/Naveed_20240801_Trial127_InitView.avi\n",
      "Loading  T:/YuLab/Video/Naveed/GPS_20_ThreeFPHoldSRTProbe/20240801/Init/Clips/Naveed_20240801_Trial127_InitView.avi\n",
      "Duration of video [s]:  4.0 , recorded with  20.0 fps!\n",
      "Overall # of frames:  80  found with (before cropping) frame dimensions:  1280 1024\n",
      "Starting to extract posture\n"
     ]
    },
    {
     "name": "stderr",
     "output_type": "stream",
     "text": [
      "100%|██████████| 80/80 [00:05<00:00, 14.52it/s]\n"
     ]
    },
    {
     "name": "stdout",
     "output_type": "stream",
     "text": [
      "Saving results in T:\\YuLab\\Video\\Naveed\\GPS_20_ThreeFPHoldSRTProbe\\20240801\\Init\\Clips...\n",
      "Saving csv poses!\n",
      "Starting to analyze %  T:/YuLab/Video/Naveed/GPS_20_ThreeFPHoldSRTProbe/20240801/Init/Clips/Naveed_20240801_Trial128_InitView.avi\n",
      "Loading  T:/YuLab/Video/Naveed/GPS_20_ThreeFPHoldSRTProbe/20240801/Init/Clips/Naveed_20240801_Trial128_InitView.avi\n",
      "Duration of video [s]:  4.0 , recorded with  20.0 fps!\n",
      "Overall # of frames:  80  found with (before cropping) frame dimensions:  1280 1024\n",
      "Starting to extract posture\n"
     ]
    },
    {
     "name": "stderr",
     "output_type": "stream",
     "text": [
      "100%|██████████| 80/80 [00:05<00:00, 14.53it/s]\n"
     ]
    },
    {
     "name": "stdout",
     "output_type": "stream",
     "text": [
      "Saving results in T:\\YuLab\\Video\\Naveed\\GPS_20_ThreeFPHoldSRTProbe\\20240801\\Init\\Clips...\n",
      "Saving csv poses!\n",
      "Starting to analyze %  T:/YuLab/Video/Naveed/GPS_20_ThreeFPHoldSRTProbe/20240801/Init/Clips/Naveed_20240801_Trial129_InitView.avi\n",
      "Loading  T:/YuLab/Video/Naveed/GPS_20_ThreeFPHoldSRTProbe/20240801/Init/Clips/Naveed_20240801_Trial129_InitView.avi\n",
      "Duration of video [s]:  4.0 , recorded with  20.0 fps!\n",
      "Overall # of frames:  80  found with (before cropping) frame dimensions:  1280 1024\n",
      "Starting to extract posture\n"
     ]
    },
    {
     "name": "stderr",
     "output_type": "stream",
     "text": [
      "100%|██████████| 80/80 [00:05<00:00, 14.46it/s]\n"
     ]
    },
    {
     "name": "stdout",
     "output_type": "stream",
     "text": [
      "Saving results in T:\\YuLab\\Video\\Naveed\\GPS_20_ThreeFPHoldSRTProbe\\20240801\\Init\\Clips...\n",
      "Saving csv poses!\n",
      "Starting to analyze %  T:/YuLab/Video/Naveed/GPS_20_ThreeFPHoldSRTProbe/20240801/Init/Clips/Naveed_20240801_Trial130_InitView.avi\n",
      "Loading  T:/YuLab/Video/Naveed/GPS_20_ThreeFPHoldSRTProbe/20240801/Init/Clips/Naveed_20240801_Trial130_InitView.avi\n",
      "Duration of video [s]:  4.0 , recorded with  20.0 fps!\n",
      "Overall # of frames:  80  found with (before cropping) frame dimensions:  1280 1024\n",
      "Starting to extract posture\n"
     ]
    },
    {
     "name": "stderr",
     "output_type": "stream",
     "text": [
      "100%|██████████| 80/80 [00:05<00:00, 14.88it/s]\n"
     ]
    },
    {
     "name": "stdout",
     "output_type": "stream",
     "text": [
      "Saving results in T:\\YuLab\\Video\\Naveed\\GPS_20_ThreeFPHoldSRTProbe\\20240801\\Init\\Clips...\n",
      "Saving csv poses!\n",
      "Starting to analyze %  T:/YuLab/Video/Naveed/GPS_20_ThreeFPHoldSRTProbe/20240801/Init/Clips/Naveed_20240801_Trial131_InitView.avi\n",
      "Loading  T:/YuLab/Video/Naveed/GPS_20_ThreeFPHoldSRTProbe/20240801/Init/Clips/Naveed_20240801_Trial131_InitView.avi\n",
      "Duration of video [s]:  4.0 , recorded with  20.0 fps!\n",
      "Overall # of frames:  80  found with (before cropping) frame dimensions:  1280 1024\n",
      "Starting to extract posture\n"
     ]
    },
    {
     "name": "stderr",
     "output_type": "stream",
     "text": [
      "100%|██████████| 80/80 [00:05<00:00, 14.66it/s]\n"
     ]
    },
    {
     "name": "stdout",
     "output_type": "stream",
     "text": [
      "Saving results in T:\\YuLab\\Video\\Naveed\\GPS_20_ThreeFPHoldSRTProbe\\20240801\\Init\\Clips...\n",
      "Saving csv poses!\n",
      "Starting to analyze %  T:/YuLab/Video/Naveed/GPS_20_ThreeFPHoldSRTProbe/20240801/Init/Clips/Naveed_20240801_Trial132_InitView.avi\n",
      "Loading  T:/YuLab/Video/Naveed/GPS_20_ThreeFPHoldSRTProbe/20240801/Init/Clips/Naveed_20240801_Trial132_InitView.avi\n",
      "Duration of video [s]:  4.0 , recorded with  20.0 fps!\n",
      "Overall # of frames:  80  found with (before cropping) frame dimensions:  1280 1024\n",
      "Starting to extract posture\n"
     ]
    },
    {
     "name": "stderr",
     "output_type": "stream",
     "text": [
      "100%|██████████| 80/80 [00:05<00:00, 14.68it/s]\n"
     ]
    },
    {
     "name": "stdout",
     "output_type": "stream",
     "text": [
      "Saving results in T:\\YuLab\\Video\\Naveed\\GPS_20_ThreeFPHoldSRTProbe\\20240801\\Init\\Clips...\n",
      "Saving csv poses!\n",
      "Starting to analyze %  T:/YuLab/Video/Naveed/GPS_20_ThreeFPHoldSRTProbe/20240801/Init/Clips/Naveed_20240801_Trial133_InitView.avi\n",
      "Loading  T:/YuLab/Video/Naveed/GPS_20_ThreeFPHoldSRTProbe/20240801/Init/Clips/Naveed_20240801_Trial133_InitView.avi\n",
      "Duration of video [s]:  4.0 , recorded with  20.0 fps!\n",
      "Overall # of frames:  80  found with (before cropping) frame dimensions:  1280 1024\n",
      "Starting to extract posture\n"
     ]
    },
    {
     "name": "stderr",
     "output_type": "stream",
     "text": [
      "100%|██████████| 80/80 [00:05<00:00, 15.05it/s]\n"
     ]
    },
    {
     "name": "stdout",
     "output_type": "stream",
     "text": [
      "Saving results in T:\\YuLab\\Video\\Naveed\\GPS_20_ThreeFPHoldSRTProbe\\20240801\\Init\\Clips...\n",
      "Saving csv poses!\n",
      "Starting to analyze %  T:/YuLab/Video/Naveed/GPS_20_ThreeFPHoldSRTProbe/20240801/Init/Clips/Naveed_20240801_Trial134_InitView.avi\n",
      "Loading  T:/YuLab/Video/Naveed/GPS_20_ThreeFPHoldSRTProbe/20240801/Init/Clips/Naveed_20240801_Trial134_InitView.avi\n",
      "Duration of video [s]:  4.0 , recorded with  20.0 fps!\n",
      "Overall # of frames:  80  found with (before cropping) frame dimensions:  1280 1024\n",
      "Starting to extract posture\n"
     ]
    },
    {
     "name": "stderr",
     "output_type": "stream",
     "text": [
      "100%|██████████| 80/80 [00:05<00:00, 14.74it/s]\n"
     ]
    },
    {
     "name": "stdout",
     "output_type": "stream",
     "text": [
      "Saving results in T:\\YuLab\\Video\\Naveed\\GPS_20_ThreeFPHoldSRTProbe\\20240801\\Init\\Clips...\n",
      "Saving csv poses!\n",
      "Starting to analyze %  T:/YuLab/Video/Naveed/GPS_20_ThreeFPHoldSRTProbe/20240801/Init/Clips/Naveed_20240801_Trial135_InitView.avi\n",
      "Loading  T:/YuLab/Video/Naveed/GPS_20_ThreeFPHoldSRTProbe/20240801/Init/Clips/Naveed_20240801_Trial135_InitView.avi\n",
      "Duration of video [s]:  4.0 , recorded with  20.0 fps!\n",
      "Overall # of frames:  80  found with (before cropping) frame dimensions:  1280 1024\n",
      "Starting to extract posture\n"
     ]
    },
    {
     "name": "stderr",
     "output_type": "stream",
     "text": [
      "100%|██████████| 80/80 [00:05<00:00, 14.94it/s]\n"
     ]
    },
    {
     "name": "stdout",
     "output_type": "stream",
     "text": [
      "Saving results in T:\\YuLab\\Video\\Naveed\\GPS_20_ThreeFPHoldSRTProbe\\20240801\\Init\\Clips...\n",
      "Saving csv poses!\n",
      "Starting to analyze %  T:/YuLab/Video/Naveed/GPS_20_ThreeFPHoldSRTProbe/20240801/Init/Clips/Naveed_20240801_Trial136_InitView.avi\n",
      "Loading  T:/YuLab/Video/Naveed/GPS_20_ThreeFPHoldSRTProbe/20240801/Init/Clips/Naveed_20240801_Trial136_InitView.avi\n",
      "Duration of video [s]:  4.0 , recorded with  20.0 fps!\n",
      "Overall # of frames:  80  found with (before cropping) frame dimensions:  1280 1024\n",
      "Starting to extract posture\n"
     ]
    },
    {
     "name": "stderr",
     "output_type": "stream",
     "text": [
      "100%|██████████| 80/80 [00:05<00:00, 14.85it/s]\n"
     ]
    },
    {
     "name": "stdout",
     "output_type": "stream",
     "text": [
      "Saving results in T:\\YuLab\\Video\\Naveed\\GPS_20_ThreeFPHoldSRTProbe\\20240801\\Init\\Clips...\n",
      "Saving csv poses!\n",
      "Starting to analyze %  T:/YuLab/Video/Naveed/GPS_20_ThreeFPHoldSRTProbe/20240801/Init/Clips/Naveed_20240801_Trial137_InitView.avi\n",
      "Loading  T:/YuLab/Video/Naveed/GPS_20_ThreeFPHoldSRTProbe/20240801/Init/Clips/Naveed_20240801_Trial137_InitView.avi\n",
      "Duration of video [s]:  4.0 , recorded with  20.0 fps!\n",
      "Overall # of frames:  80  found with (before cropping) frame dimensions:  1280 1024\n",
      "Starting to extract posture\n"
     ]
    },
    {
     "name": "stderr",
     "output_type": "stream",
     "text": [
      "100%|██████████| 80/80 [00:05<00:00, 14.73it/s]\n"
     ]
    },
    {
     "name": "stdout",
     "output_type": "stream",
     "text": [
      "Saving results in T:\\YuLab\\Video\\Naveed\\GPS_20_ThreeFPHoldSRTProbe\\20240801\\Init\\Clips...\n",
      "Saving csv poses!\n",
      "Starting to analyze %  T:/YuLab/Video/Naveed/GPS_20_ThreeFPHoldSRTProbe/20240801/Init/Clips/Naveed_20240801_Trial139_InitView.avi\n",
      "Loading  T:/YuLab/Video/Naveed/GPS_20_ThreeFPHoldSRTProbe/20240801/Init/Clips/Naveed_20240801_Trial139_InitView.avi\n",
      "Duration of video [s]:  4.0 , recorded with  20.0 fps!\n",
      "Overall # of frames:  80  found with (before cropping) frame dimensions:  1280 1024\n",
      "Starting to extract posture\n"
     ]
    },
    {
     "name": "stderr",
     "output_type": "stream",
     "text": [
      "100%|██████████| 80/80 [00:05<00:00, 14.87it/s]\n"
     ]
    },
    {
     "name": "stdout",
     "output_type": "stream",
     "text": [
      "Saving results in T:\\YuLab\\Video\\Naveed\\GPS_20_ThreeFPHoldSRTProbe\\20240801\\Init\\Clips...\n",
      "Saving csv poses!\n",
      "Starting to analyze %  T:/YuLab/Video/Naveed/GPS_20_ThreeFPHoldSRTProbe/20240801/Init/Clips/Naveed_20240801_Trial140_InitView.avi\n",
      "Loading  T:/YuLab/Video/Naveed/GPS_20_ThreeFPHoldSRTProbe/20240801/Init/Clips/Naveed_20240801_Trial140_InitView.avi\n",
      "Duration of video [s]:  4.0 , recorded with  20.0 fps!\n",
      "Overall # of frames:  80  found with (before cropping) frame dimensions:  1280 1024\n",
      "Starting to extract posture\n"
     ]
    },
    {
     "name": "stderr",
     "output_type": "stream",
     "text": [
      "100%|██████████| 80/80 [00:06<00:00, 12.90it/s]\n"
     ]
    },
    {
     "name": "stdout",
     "output_type": "stream",
     "text": [
      "Saving results in T:\\YuLab\\Video\\Naveed\\GPS_20_ThreeFPHoldSRTProbe\\20240801\\Init\\Clips...\n",
      "Saving csv poses!\n",
      "Starting to analyze %  T:/YuLab/Video/Naveed/GPS_20_ThreeFPHoldSRTProbe/20240801/Init/Clips/Naveed_20240801_Trial141_InitView.avi\n",
      "Loading  T:/YuLab/Video/Naveed/GPS_20_ThreeFPHoldSRTProbe/20240801/Init/Clips/Naveed_20240801_Trial141_InitView.avi\n",
      "Duration of video [s]:  4.0 , recorded with  20.0 fps!\n",
      "Overall # of frames:  80  found with (before cropping) frame dimensions:  1280 1024\n",
      "Starting to extract posture\n"
     ]
    },
    {
     "name": "stderr",
     "output_type": "stream",
     "text": [
      "100%|██████████| 80/80 [00:05<00:00, 14.34it/s]\n"
     ]
    },
    {
     "name": "stdout",
     "output_type": "stream",
     "text": [
      "Saving results in T:\\YuLab\\Video\\Naveed\\GPS_20_ThreeFPHoldSRTProbe\\20240801\\Init\\Clips...\n",
      "Saving csv poses!\n",
      "Starting to analyze %  T:/YuLab/Video/Naveed/GPS_20_ThreeFPHoldSRTProbe/20240801/Init/Clips/Naveed_20240801_Trial142_InitView.avi\n",
      "Loading  T:/YuLab/Video/Naveed/GPS_20_ThreeFPHoldSRTProbe/20240801/Init/Clips/Naveed_20240801_Trial142_InitView.avi\n",
      "Duration of video [s]:  4.0 , recorded with  20.0 fps!\n",
      "Overall # of frames:  80  found with (before cropping) frame dimensions:  1280 1024\n",
      "Starting to extract posture\n"
     ]
    },
    {
     "name": "stderr",
     "output_type": "stream",
     "text": [
      "100%|██████████| 80/80 [00:05<00:00, 13.99it/s]\n"
     ]
    },
    {
     "name": "stdout",
     "output_type": "stream",
     "text": [
      "Saving results in T:\\YuLab\\Video\\Naveed\\GPS_20_ThreeFPHoldSRTProbe\\20240801\\Init\\Clips...\n",
      "Saving csv poses!\n",
      "Starting to analyze %  T:/YuLab/Video/Naveed/GPS_20_ThreeFPHoldSRTProbe/20240801/Init/Clips/Naveed_20240801_Trial143_InitView.avi\n",
      "Loading  T:/YuLab/Video/Naveed/GPS_20_ThreeFPHoldSRTProbe/20240801/Init/Clips/Naveed_20240801_Trial143_InitView.avi\n",
      "Duration of video [s]:  4.0 , recorded with  20.0 fps!\n",
      "Overall # of frames:  80  found with (before cropping) frame dimensions:  1280 1024\n",
      "Starting to extract posture\n"
     ]
    },
    {
     "name": "stderr",
     "output_type": "stream",
     "text": [
      "100%|██████████| 80/80 [00:05<00:00, 14.57it/s]\n"
     ]
    },
    {
     "name": "stdout",
     "output_type": "stream",
     "text": [
      "Saving results in T:\\YuLab\\Video\\Naveed\\GPS_20_ThreeFPHoldSRTProbe\\20240801\\Init\\Clips...\n",
      "Saving csv poses!\n",
      "Starting to analyze %  T:/YuLab/Video/Naveed/GPS_20_ThreeFPHoldSRTProbe/20240801/Init/Clips/Naveed_20240801_Trial144_InitView.avi\n",
      "Loading  T:/YuLab/Video/Naveed/GPS_20_ThreeFPHoldSRTProbe/20240801/Init/Clips/Naveed_20240801_Trial144_InitView.avi\n",
      "Duration of video [s]:  4.0 , recorded with  20.0 fps!\n",
      "Overall # of frames:  80  found with (before cropping) frame dimensions:  1280 1024\n",
      "Starting to extract posture\n"
     ]
    },
    {
     "name": "stderr",
     "output_type": "stream",
     "text": [
      "100%|██████████| 80/80 [00:05<00:00, 14.17it/s]\n"
     ]
    },
    {
     "name": "stdout",
     "output_type": "stream",
     "text": [
      "Saving results in T:\\YuLab\\Video\\Naveed\\GPS_20_ThreeFPHoldSRTProbe\\20240801\\Init\\Clips...\n",
      "Saving csv poses!\n",
      "Starting to analyze %  T:/YuLab/Video/Naveed/GPS_20_ThreeFPHoldSRTProbe/20240801/Init/Clips/Naveed_20240801_Trial145_InitView.avi\n",
      "Loading  T:/YuLab/Video/Naveed/GPS_20_ThreeFPHoldSRTProbe/20240801/Init/Clips/Naveed_20240801_Trial145_InitView.avi\n",
      "Duration of video [s]:  4.0 , recorded with  20.0 fps!\n",
      "Overall # of frames:  80  found with (before cropping) frame dimensions:  1280 1024\n",
      "Starting to extract posture\n"
     ]
    },
    {
     "name": "stderr",
     "output_type": "stream",
     "text": [
      "100%|██████████| 80/80 [00:05<00:00, 14.24it/s]\n"
     ]
    },
    {
     "name": "stdout",
     "output_type": "stream",
     "text": [
      "Saving results in T:\\YuLab\\Video\\Naveed\\GPS_20_ThreeFPHoldSRTProbe\\20240801\\Init\\Clips...\n",
      "Saving csv poses!\n",
      "Starting to analyze %  T:/YuLab/Video/Naveed/GPS_20_ThreeFPHoldSRTProbe/20240801/Init/Clips/Naveed_20240801_Trial146_InitView.avi\n",
      "Loading  T:/YuLab/Video/Naveed/GPS_20_ThreeFPHoldSRTProbe/20240801/Init/Clips/Naveed_20240801_Trial146_InitView.avi\n",
      "Duration of video [s]:  4.0 , recorded with  20.0 fps!\n",
      "Overall # of frames:  80  found with (before cropping) frame dimensions:  1280 1024\n",
      "Starting to extract posture\n"
     ]
    },
    {
     "name": "stderr",
     "output_type": "stream",
     "text": [
      "100%|██████████| 80/80 [00:05<00:00, 14.49it/s]\n"
     ]
    },
    {
     "name": "stdout",
     "output_type": "stream",
     "text": [
      "Saving results in T:\\YuLab\\Video\\Naveed\\GPS_20_ThreeFPHoldSRTProbe\\20240801\\Init\\Clips...\n",
      "Saving csv poses!\n",
      "Starting to analyze %  T:/YuLab/Video/Naveed/GPS_20_ThreeFPHoldSRTProbe/20240801/Init/Clips/Naveed_20240801_Trial147_InitView.avi\n",
      "Loading  T:/YuLab/Video/Naveed/GPS_20_ThreeFPHoldSRTProbe/20240801/Init/Clips/Naveed_20240801_Trial147_InitView.avi\n",
      "Duration of video [s]:  4.0 , recorded with  20.0 fps!\n",
      "Overall # of frames:  80  found with (before cropping) frame dimensions:  1280 1024\n",
      "Starting to extract posture\n"
     ]
    },
    {
     "name": "stderr",
     "output_type": "stream",
     "text": [
      "100%|██████████| 80/80 [00:05<00:00, 13.96it/s]\n"
     ]
    },
    {
     "name": "stdout",
     "output_type": "stream",
     "text": [
      "Saving results in T:\\YuLab\\Video\\Naveed\\GPS_20_ThreeFPHoldSRTProbe\\20240801\\Init\\Clips...\n",
      "Saving csv poses!\n",
      "Starting to analyze %  T:/YuLab/Video/Naveed/GPS_20_ThreeFPHoldSRTProbe/20240801/Init/Clips/Naveed_20240801_Trial148_InitView.avi\n",
      "Loading  T:/YuLab/Video/Naveed/GPS_20_ThreeFPHoldSRTProbe/20240801/Init/Clips/Naveed_20240801_Trial148_InitView.avi\n",
      "Duration of video [s]:  4.0 , recorded with  20.0 fps!\n",
      "Overall # of frames:  80  found with (before cropping) frame dimensions:  1280 1024\n",
      "Starting to extract posture\n"
     ]
    },
    {
     "name": "stderr",
     "output_type": "stream",
     "text": [
      "100%|██████████| 80/80 [00:05<00:00, 13.95it/s]\n"
     ]
    },
    {
     "name": "stdout",
     "output_type": "stream",
     "text": [
      "Saving results in T:\\YuLab\\Video\\Naveed\\GPS_20_ThreeFPHoldSRTProbe\\20240801\\Init\\Clips...\n",
      "Saving csv poses!\n",
      "Starting to analyze %  T:/YuLab/Video/Naveed/GPS_20_ThreeFPHoldSRTProbe/20240801/Init/Clips/Naveed_20240801_Trial149_InitView.avi\n",
      "Loading  T:/YuLab/Video/Naveed/GPS_20_ThreeFPHoldSRTProbe/20240801/Init/Clips/Naveed_20240801_Trial149_InitView.avi\n",
      "Duration of video [s]:  4.0 , recorded with  20.0 fps!\n",
      "Overall # of frames:  80  found with (before cropping) frame dimensions:  1280 1024\n",
      "Starting to extract posture\n"
     ]
    },
    {
     "name": "stderr",
     "output_type": "stream",
     "text": [
      "100%|██████████| 80/80 [00:05<00:00, 14.24it/s]\n"
     ]
    },
    {
     "name": "stdout",
     "output_type": "stream",
     "text": [
      "Saving results in T:\\YuLab\\Video\\Naveed\\GPS_20_ThreeFPHoldSRTProbe\\20240801\\Init\\Clips...\n",
      "Saving csv poses!\n",
      "Starting to analyze %  T:/YuLab/Video/Naveed/GPS_20_ThreeFPHoldSRTProbe/20240801/Init/Clips/Naveed_20240801_Trial150_InitView.avi\n",
      "Loading  T:/YuLab/Video/Naveed/GPS_20_ThreeFPHoldSRTProbe/20240801/Init/Clips/Naveed_20240801_Trial150_InitView.avi\n",
      "Duration of video [s]:  4.0 , recorded with  20.0 fps!\n",
      "Overall # of frames:  80  found with (before cropping) frame dimensions:  1280 1024\n",
      "Starting to extract posture\n"
     ]
    },
    {
     "name": "stderr",
     "output_type": "stream",
     "text": [
      "100%|██████████| 80/80 [00:05<00:00, 14.74it/s]\n"
     ]
    },
    {
     "name": "stdout",
     "output_type": "stream",
     "text": [
      "Saving results in T:\\YuLab\\Video\\Naveed\\GPS_20_ThreeFPHoldSRTProbe\\20240801\\Init\\Clips...\n",
      "Saving csv poses!\n",
      "Starting to analyze %  T:/YuLab/Video/Naveed/GPS_20_ThreeFPHoldSRTProbe/20240801/Init/Clips/Naveed_20240801_Trial151_InitView.avi\n",
      "Loading  T:/YuLab/Video/Naveed/GPS_20_ThreeFPHoldSRTProbe/20240801/Init/Clips/Naveed_20240801_Trial151_InitView.avi\n",
      "Duration of video [s]:  4.0 , recorded with  20.0 fps!\n",
      "Overall # of frames:  80  found with (before cropping) frame dimensions:  1280 1024\n",
      "Starting to extract posture\n"
     ]
    },
    {
     "name": "stderr",
     "output_type": "stream",
     "text": [
      "100%|██████████| 80/80 [00:05<00:00, 13.99it/s]\n"
     ]
    },
    {
     "name": "stdout",
     "output_type": "stream",
     "text": [
      "Saving results in T:\\YuLab\\Video\\Naveed\\GPS_20_ThreeFPHoldSRTProbe\\20240801\\Init\\Clips...\n",
      "Saving csv poses!\n",
      "Starting to analyze %  T:/YuLab/Video/Naveed/GPS_20_ThreeFPHoldSRTProbe/20240801/Init/Clips/Naveed_20240801_Trial152_InitView.avi\n",
      "Loading  T:/YuLab/Video/Naveed/GPS_20_ThreeFPHoldSRTProbe/20240801/Init/Clips/Naveed_20240801_Trial152_InitView.avi\n",
      "Duration of video [s]:  4.0 , recorded with  20.0 fps!\n",
      "Overall # of frames:  80  found with (before cropping) frame dimensions:  1280 1024\n",
      "Starting to extract posture\n"
     ]
    },
    {
     "name": "stderr",
     "output_type": "stream",
     "text": [
      "100%|██████████| 80/80 [00:05<00:00, 14.27it/s]\n"
     ]
    },
    {
     "name": "stdout",
     "output_type": "stream",
     "text": [
      "Saving results in T:\\YuLab\\Video\\Naveed\\GPS_20_ThreeFPHoldSRTProbe\\20240801\\Init\\Clips...\n",
      "Saving csv poses!\n",
      "Starting to analyze %  T:/YuLab/Video/Naveed/GPS_20_ThreeFPHoldSRTProbe/20240801/Init/Clips/Naveed_20240801_Trial153_InitView.avi\n",
      "Loading  T:/YuLab/Video/Naveed/GPS_20_ThreeFPHoldSRTProbe/20240801/Init/Clips/Naveed_20240801_Trial153_InitView.avi\n",
      "Duration of video [s]:  4.0 , recorded with  20.0 fps!\n",
      "Overall # of frames:  80  found with (before cropping) frame dimensions:  1280 1024\n",
      "Starting to extract posture\n"
     ]
    },
    {
     "name": "stderr",
     "output_type": "stream",
     "text": [
      "100%|██████████| 80/80 [00:05<00:00, 14.27it/s]\n"
     ]
    },
    {
     "name": "stdout",
     "output_type": "stream",
     "text": [
      "Saving results in T:\\YuLab\\Video\\Naveed\\GPS_20_ThreeFPHoldSRTProbe\\20240801\\Init\\Clips...\n",
      "Saving csv poses!\n",
      "Starting to analyze %  T:/YuLab/Video/Naveed/GPS_20_ThreeFPHoldSRTProbe/20240801/Init/Clips/Naveed_20240801_Trial154_InitView.avi\n",
      "Loading  T:/YuLab/Video/Naveed/GPS_20_ThreeFPHoldSRTProbe/20240801/Init/Clips/Naveed_20240801_Trial154_InitView.avi\n",
      "Duration of video [s]:  4.0 , recorded with  20.0 fps!\n",
      "Overall # of frames:  80  found with (before cropping) frame dimensions:  1280 1024\n",
      "Starting to extract posture\n"
     ]
    },
    {
     "name": "stderr",
     "output_type": "stream",
     "text": [
      "100%|██████████| 80/80 [00:05<00:00, 14.30it/s]\n"
     ]
    },
    {
     "name": "stdout",
     "output_type": "stream",
     "text": [
      "Saving results in T:\\YuLab\\Video\\Naveed\\GPS_20_ThreeFPHoldSRTProbe\\20240801\\Init\\Clips...\n",
      "Saving csv poses!\n",
      "Starting to analyze %  T:/YuLab/Video/Naveed/GPS_20_ThreeFPHoldSRTProbe/20240801/Init/Clips/Naveed_20240801_Trial155_InitView.avi\n",
      "Loading  T:/YuLab/Video/Naveed/GPS_20_ThreeFPHoldSRTProbe/20240801/Init/Clips/Naveed_20240801_Trial155_InitView.avi\n",
      "Duration of video [s]:  4.0 , recorded with  20.0 fps!\n",
      "Overall # of frames:  80  found with (before cropping) frame dimensions:  1280 1024\n",
      "Starting to extract posture\n"
     ]
    },
    {
     "name": "stderr",
     "output_type": "stream",
     "text": [
      "100%|██████████| 80/80 [00:05<00:00, 13.96it/s]\n"
     ]
    },
    {
     "name": "stdout",
     "output_type": "stream",
     "text": [
      "Saving results in T:\\YuLab\\Video\\Naveed\\GPS_20_ThreeFPHoldSRTProbe\\20240801\\Init\\Clips...\n",
      "Saving csv poses!\n",
      "Starting to analyze %  T:/YuLab/Video/Naveed/GPS_20_ThreeFPHoldSRTProbe/20240801/Init/Clips/Naveed_20240801_Trial156_InitView.avi\n",
      "Loading  T:/YuLab/Video/Naveed/GPS_20_ThreeFPHoldSRTProbe/20240801/Init/Clips/Naveed_20240801_Trial156_InitView.avi\n",
      "Duration of video [s]:  3.95 , recorded with  20.0 fps!\n",
      "Overall # of frames:  79  found with (before cropping) frame dimensions:  1280 1024\n",
      "Starting to extract posture\n"
     ]
    },
    {
     "name": "stderr",
     "output_type": "stream",
     "text": [
      "100%|██████████| 79/79 [00:05<00:00, 14.10it/s]\n"
     ]
    },
    {
     "name": "stdout",
     "output_type": "stream",
     "text": [
      "Saving results in T:\\YuLab\\Video\\Naveed\\GPS_20_ThreeFPHoldSRTProbe\\20240801\\Init\\Clips...\n",
      "Saving csv poses!\n",
      "Starting to analyze %  T:/YuLab/Video/Naveed/GPS_20_ThreeFPHoldSRTProbe/20240801/Init/Clips/Naveed_20240801_Trial157_InitView.avi\n",
      "Loading  T:/YuLab/Video/Naveed/GPS_20_ThreeFPHoldSRTProbe/20240801/Init/Clips/Naveed_20240801_Trial157_InitView.avi\n",
      "Duration of video [s]:  4.05 , recorded with  20.0 fps!\n",
      "Overall # of frames:  81  found with (before cropping) frame dimensions:  1280 1024\n",
      "Starting to extract posture\n"
     ]
    },
    {
     "name": "stderr",
     "output_type": "stream",
     "text": [
      "100%|██████████| 81/81 [00:06<00:00, 13.15it/s]\n"
     ]
    },
    {
     "name": "stdout",
     "output_type": "stream",
     "text": [
      "Saving results in T:\\YuLab\\Video\\Naveed\\GPS_20_ThreeFPHoldSRTProbe\\20240801\\Init\\Clips...\n",
      "Saving csv poses!\n",
      "Starting to analyze %  T:/YuLab/Video/Naveed/GPS_20_ThreeFPHoldSRTProbe/20240801/Init/Clips/Naveed_20240801_Trial158_InitView.avi\n",
      "Loading  T:/YuLab/Video/Naveed/GPS_20_ThreeFPHoldSRTProbe/20240801/Init/Clips/Naveed_20240801_Trial158_InitView.avi\n",
      "Duration of video [s]:  4.0 , recorded with  20.0 fps!\n",
      "Overall # of frames:  80  found with (before cropping) frame dimensions:  1280 1024\n",
      "Starting to extract posture\n"
     ]
    },
    {
     "name": "stderr",
     "output_type": "stream",
     "text": [
      "100%|██████████| 80/80 [00:05<00:00, 14.15it/s]\n"
     ]
    },
    {
     "name": "stdout",
     "output_type": "stream",
     "text": [
      "Saving results in T:\\YuLab\\Video\\Naveed\\GPS_20_ThreeFPHoldSRTProbe\\20240801\\Init\\Clips...\n",
      "Saving csv poses!\n",
      "Starting to analyze %  T:/YuLab/Video/Naveed/GPS_20_ThreeFPHoldSRTProbe/20240801/Init/Clips/Naveed_20240801_Trial159_InitView.avi\n",
      "Loading  T:/YuLab/Video/Naveed/GPS_20_ThreeFPHoldSRTProbe/20240801/Init/Clips/Naveed_20240801_Trial159_InitView.avi\n",
      "Duration of video [s]:  4.0 , recorded with  20.0 fps!\n",
      "Overall # of frames:  80  found with (before cropping) frame dimensions:  1280 1024\n",
      "Starting to extract posture\n"
     ]
    },
    {
     "name": "stderr",
     "output_type": "stream",
     "text": [
      "100%|██████████| 80/80 [00:05<00:00, 13.65it/s]\n"
     ]
    },
    {
     "name": "stdout",
     "output_type": "stream",
     "text": [
      "Saving results in T:\\YuLab\\Video\\Naveed\\GPS_20_ThreeFPHoldSRTProbe\\20240801\\Init\\Clips...\n",
      "Saving csv poses!\n",
      "Starting to analyze %  T:/YuLab/Video/Naveed/GPS_20_ThreeFPHoldSRTProbe/20240801/Init/Clips/Naveed_20240801_Trial160_InitView.avi\n",
      "Loading  T:/YuLab/Video/Naveed/GPS_20_ThreeFPHoldSRTProbe/20240801/Init/Clips/Naveed_20240801_Trial160_InitView.avi\n",
      "Duration of video [s]:  4.0 , recorded with  20.0 fps!\n",
      "Overall # of frames:  80  found with (before cropping) frame dimensions:  1280 1024\n",
      "Starting to extract posture\n"
     ]
    },
    {
     "name": "stderr",
     "output_type": "stream",
     "text": [
      "100%|██████████| 80/80 [00:05<00:00, 14.37it/s]\n"
     ]
    },
    {
     "name": "stdout",
     "output_type": "stream",
     "text": [
      "Saving results in T:\\YuLab\\Video\\Naveed\\GPS_20_ThreeFPHoldSRTProbe\\20240801\\Init\\Clips...\n",
      "Saving csv poses!\n",
      "Starting to analyze %  T:/YuLab/Video/Naveed/GPS_20_ThreeFPHoldSRTProbe/20240801/Init/Clips/Naveed_20240801_Trial161_InitView.avi\n",
      "Loading  T:/YuLab/Video/Naveed/GPS_20_ThreeFPHoldSRTProbe/20240801/Init/Clips/Naveed_20240801_Trial161_InitView.avi\n",
      "Duration of video [s]:  4.0 , recorded with  20.0 fps!\n",
      "Overall # of frames:  80  found with (before cropping) frame dimensions:  1280 1024\n",
      "Starting to extract posture\n"
     ]
    },
    {
     "name": "stderr",
     "output_type": "stream",
     "text": [
      "100%|██████████| 80/80 [00:05<00:00, 14.31it/s]\n"
     ]
    },
    {
     "name": "stdout",
     "output_type": "stream",
     "text": [
      "Saving results in T:\\YuLab\\Video\\Naveed\\GPS_20_ThreeFPHoldSRTProbe\\20240801\\Init\\Clips...\n",
      "Saving csv poses!\n",
      "Starting to analyze %  T:/YuLab/Video/Naveed/GPS_20_ThreeFPHoldSRTProbe/20240801/Init/Clips/Naveed_20240801_Trial162_InitView.avi\n",
      "Loading  T:/YuLab/Video/Naveed/GPS_20_ThreeFPHoldSRTProbe/20240801/Init/Clips/Naveed_20240801_Trial162_InitView.avi\n",
      "Duration of video [s]:  4.0 , recorded with  20.0 fps!\n",
      "Overall # of frames:  80  found with (before cropping) frame dimensions:  1280 1024\n",
      "Starting to extract posture\n"
     ]
    },
    {
     "name": "stderr",
     "output_type": "stream",
     "text": [
      "100%|██████████| 80/80 [00:05<00:00, 14.45it/s]\n"
     ]
    },
    {
     "name": "stdout",
     "output_type": "stream",
     "text": [
      "Saving results in T:\\YuLab\\Video\\Naveed\\GPS_20_ThreeFPHoldSRTProbe\\20240801\\Init\\Clips...\n",
      "Saving csv poses!\n",
      "Starting to analyze %  T:/YuLab/Video/Naveed/GPS_20_ThreeFPHoldSRTProbe/20240801/Init/Clips/Naveed_20240801_Trial163_InitView.avi\n",
      "Loading  T:/YuLab/Video/Naveed/GPS_20_ThreeFPHoldSRTProbe/20240801/Init/Clips/Naveed_20240801_Trial163_InitView.avi\n",
      "Duration of video [s]:  4.0 , recorded with  20.0 fps!\n",
      "Overall # of frames:  80  found with (before cropping) frame dimensions:  1280 1024\n",
      "Starting to extract posture\n"
     ]
    },
    {
     "name": "stderr",
     "output_type": "stream",
     "text": [
      "100%|██████████| 80/80 [00:05<00:00, 14.31it/s]\n"
     ]
    },
    {
     "name": "stdout",
     "output_type": "stream",
     "text": [
      "Saving results in T:\\YuLab\\Video\\Naveed\\GPS_20_ThreeFPHoldSRTProbe\\20240801\\Init\\Clips...\n",
      "Saving csv poses!\n",
      "Starting to analyze %  T:/YuLab/Video/Naveed/GPS_20_ThreeFPHoldSRTProbe/20240801/Init/Clips/Naveed_20240801_Trial164_InitView.avi\n",
      "Loading  T:/YuLab/Video/Naveed/GPS_20_ThreeFPHoldSRTProbe/20240801/Init/Clips/Naveed_20240801_Trial164_InitView.avi\n",
      "Duration of video [s]:  4.0 , recorded with  20.0 fps!\n",
      "Overall # of frames:  80  found with (before cropping) frame dimensions:  1280 1024\n",
      "Starting to extract posture\n"
     ]
    },
    {
     "name": "stderr",
     "output_type": "stream",
     "text": [
      "100%|██████████| 80/80 [00:05<00:00, 14.03it/s]\n"
     ]
    },
    {
     "name": "stdout",
     "output_type": "stream",
     "text": [
      "Saving results in T:\\YuLab\\Video\\Naveed\\GPS_20_ThreeFPHoldSRTProbe\\20240801\\Init\\Clips...\n",
      "Saving csv poses!\n",
      "Starting to analyze %  T:/YuLab/Video/Naveed/GPS_20_ThreeFPHoldSRTProbe/20240801/Init/Clips/Naveed_20240801_Trial165_InitView.avi\n",
      "Loading  T:/YuLab/Video/Naveed/GPS_20_ThreeFPHoldSRTProbe/20240801/Init/Clips/Naveed_20240801_Trial165_InitView.avi\n",
      "Duration of video [s]:  4.0 , recorded with  20.0 fps!\n",
      "Overall # of frames:  80  found with (before cropping) frame dimensions:  1280 1024\n",
      "Starting to extract posture\n"
     ]
    },
    {
     "name": "stderr",
     "output_type": "stream",
     "text": [
      "100%|██████████| 80/80 [00:05<00:00, 14.50it/s]\n"
     ]
    },
    {
     "name": "stdout",
     "output_type": "stream",
     "text": [
      "Saving results in T:\\YuLab\\Video\\Naveed\\GPS_20_ThreeFPHoldSRTProbe\\20240801\\Init\\Clips...\n",
      "Saving csv poses!\n",
      "Starting to analyze %  T:/YuLab/Video/Naveed/GPS_20_ThreeFPHoldSRTProbe/20240801/Init/Clips/Naveed_20240801_Trial166_InitView.avi\n",
      "Loading  T:/YuLab/Video/Naveed/GPS_20_ThreeFPHoldSRTProbe/20240801/Init/Clips/Naveed_20240801_Trial166_InitView.avi\n",
      "Duration of video [s]:  4.0 , recorded with  20.0 fps!\n",
      "Overall # of frames:  80  found with (before cropping) frame dimensions:  1280 1024\n",
      "Starting to extract posture\n"
     ]
    },
    {
     "name": "stderr",
     "output_type": "stream",
     "text": [
      "100%|██████████| 80/80 [00:05<00:00, 13.69it/s]\n"
     ]
    },
    {
     "name": "stdout",
     "output_type": "stream",
     "text": [
      "Saving results in T:\\YuLab\\Video\\Naveed\\GPS_20_ThreeFPHoldSRTProbe\\20240801\\Init\\Clips...\n",
      "Saving csv poses!\n",
      "Starting to analyze %  T:/YuLab/Video/Naveed/GPS_20_ThreeFPHoldSRTProbe/20240801/Init/Clips/Naveed_20240801_Trial167_InitView.avi\n",
      "Loading  T:/YuLab/Video/Naveed/GPS_20_ThreeFPHoldSRTProbe/20240801/Init/Clips/Naveed_20240801_Trial167_InitView.avi\n",
      "Duration of video [s]:  4.0 , recorded with  20.0 fps!\n",
      "Overall # of frames:  80  found with (before cropping) frame dimensions:  1280 1024\n",
      "Starting to extract posture\n"
     ]
    },
    {
     "name": "stderr",
     "output_type": "stream",
     "text": [
      "100%|██████████| 80/80 [00:05<00:00, 14.26it/s]\n"
     ]
    },
    {
     "name": "stdout",
     "output_type": "stream",
     "text": [
      "Saving results in T:\\YuLab\\Video\\Naveed\\GPS_20_ThreeFPHoldSRTProbe\\20240801\\Init\\Clips...\n",
      "Saving csv poses!\n",
      "Starting to analyze %  T:/YuLab/Video/Naveed/GPS_20_ThreeFPHoldSRTProbe/20240801/Init/Clips/Naveed_20240801_Trial168_InitView.avi\n",
      "Loading  T:/YuLab/Video/Naveed/GPS_20_ThreeFPHoldSRTProbe/20240801/Init/Clips/Naveed_20240801_Trial168_InitView.avi\n",
      "Duration of video [s]:  4.0 , recorded with  20.0 fps!\n",
      "Overall # of frames:  80  found with (before cropping) frame dimensions:  1280 1024\n",
      "Starting to extract posture\n"
     ]
    },
    {
     "name": "stderr",
     "output_type": "stream",
     "text": [
      "100%|██████████| 80/80 [00:05<00:00, 14.12it/s]\n"
     ]
    },
    {
     "name": "stdout",
     "output_type": "stream",
     "text": [
      "Saving results in T:\\YuLab\\Video\\Naveed\\GPS_20_ThreeFPHoldSRTProbe\\20240801\\Init\\Clips...\n",
      "Saving csv poses!\n",
      "Starting to analyze %  T:/YuLab/Video/Naveed/GPS_20_ThreeFPHoldSRTProbe/20240801/Init/Clips/Naveed_20240801_Trial169_InitView.avi\n",
      "Loading  T:/YuLab/Video/Naveed/GPS_20_ThreeFPHoldSRTProbe/20240801/Init/Clips/Naveed_20240801_Trial169_InitView.avi\n",
      "Duration of video [s]:  4.0 , recorded with  20.0 fps!\n",
      "Overall # of frames:  80  found with (before cropping) frame dimensions:  1280 1024\n",
      "Starting to extract posture\n"
     ]
    },
    {
     "name": "stderr",
     "output_type": "stream",
     "text": [
      "100%|██████████| 80/80 [00:05<00:00, 14.30it/s]\n"
     ]
    },
    {
     "name": "stdout",
     "output_type": "stream",
     "text": [
      "Saving results in T:\\YuLab\\Video\\Naveed\\GPS_20_ThreeFPHoldSRTProbe\\20240801\\Init\\Clips...\n",
      "Saving csv poses!\n",
      "Starting to analyze %  T:/YuLab/Video/Naveed/GPS_20_ThreeFPHoldSRTProbe/20240802/Init/Clips/Naveed_20240802_Trial011_InitView.avi\n",
      "Loading  T:/YuLab/Video/Naveed/GPS_20_ThreeFPHoldSRTProbe/20240802/Init/Clips/Naveed_20240802_Trial011_InitView.avi\n",
      "Duration of video [s]:  4.0 , recorded with  20.0 fps!\n",
      "Overall # of frames:  80  found with (before cropping) frame dimensions:  1280 1024\n",
      "Starting to extract posture\n"
     ]
    },
    {
     "name": "stderr",
     "output_type": "stream",
     "text": [
      "100%|██████████| 80/80 [00:05<00:00, 14.07it/s]\n"
     ]
    },
    {
     "name": "stdout",
     "output_type": "stream",
     "text": [
      "Saving results in T:\\YuLab\\Video\\Naveed\\GPS_20_ThreeFPHoldSRTProbe\\20240802\\Init\\Clips...\n",
      "Saving csv poses!\n",
      "Starting to analyze %  T:/YuLab/Video/Naveed/GPS_20_ThreeFPHoldSRTProbe/20240802/Init/Clips/Naveed_20240802_Trial012_InitView.avi\n",
      "Loading  T:/YuLab/Video/Naveed/GPS_20_ThreeFPHoldSRTProbe/20240802/Init/Clips/Naveed_20240802_Trial012_InitView.avi\n",
      "Duration of video [s]:  4.0 , recorded with  20.0 fps!\n",
      "Overall # of frames:  80  found with (before cropping) frame dimensions:  1280 1024\n",
      "Starting to extract posture\n"
     ]
    },
    {
     "name": "stderr",
     "output_type": "stream",
     "text": [
      "100%|██████████| 80/80 [00:05<00:00, 14.15it/s]\n"
     ]
    },
    {
     "name": "stdout",
     "output_type": "stream",
     "text": [
      "Saving results in T:\\YuLab\\Video\\Naveed\\GPS_20_ThreeFPHoldSRTProbe\\20240802\\Init\\Clips...\n",
      "Saving csv poses!\n",
      "Starting to analyze %  T:/YuLab/Video/Naveed/GPS_20_ThreeFPHoldSRTProbe/20240802/Init/Clips/Naveed_20240802_Trial013_InitView.avi\n",
      "Loading  T:/YuLab/Video/Naveed/GPS_20_ThreeFPHoldSRTProbe/20240802/Init/Clips/Naveed_20240802_Trial013_InitView.avi\n",
      "Duration of video [s]:  4.0 , recorded with  20.0 fps!\n",
      "Overall # of frames:  80  found with (before cropping) frame dimensions:  1280 1024\n",
      "Starting to extract posture\n"
     ]
    },
    {
     "name": "stderr",
     "output_type": "stream",
     "text": [
      "100%|██████████| 80/80 [00:05<00:00, 14.31it/s]\n"
     ]
    },
    {
     "name": "stdout",
     "output_type": "stream",
     "text": [
      "Saving results in T:\\YuLab\\Video\\Naveed\\GPS_20_ThreeFPHoldSRTProbe\\20240802\\Init\\Clips...\n",
      "Saving csv poses!\n",
      "Starting to analyze %  T:/YuLab/Video/Naveed/GPS_20_ThreeFPHoldSRTProbe/20240802/Init/Clips/Naveed_20240802_Trial014_InitView.avi\n",
      "Loading  T:/YuLab/Video/Naveed/GPS_20_ThreeFPHoldSRTProbe/20240802/Init/Clips/Naveed_20240802_Trial014_InitView.avi\n",
      "Duration of video [s]:  4.0 , recorded with  20.0 fps!\n",
      "Overall # of frames:  80  found with (before cropping) frame dimensions:  1280 1024\n",
      "Starting to extract posture\n"
     ]
    },
    {
     "name": "stderr",
     "output_type": "stream",
     "text": [
      "100%|██████████| 80/80 [00:05<00:00, 14.61it/s]\n"
     ]
    },
    {
     "name": "stdout",
     "output_type": "stream",
     "text": [
      "Saving results in T:\\YuLab\\Video\\Naveed\\GPS_20_ThreeFPHoldSRTProbe\\20240802\\Init\\Clips...\n",
      "Saving csv poses!\n",
      "Starting to analyze %  T:/YuLab/Video/Naveed/GPS_20_ThreeFPHoldSRTProbe/20240802/Init/Clips/Naveed_20240802_Trial015_InitView.avi\n",
      "Loading  T:/YuLab/Video/Naveed/GPS_20_ThreeFPHoldSRTProbe/20240802/Init/Clips/Naveed_20240802_Trial015_InitView.avi\n",
      "Duration of video [s]:  4.0 , recorded with  20.0 fps!\n",
      "Overall # of frames:  80  found with (before cropping) frame dimensions:  1280 1024\n",
      "Starting to extract posture\n"
     ]
    },
    {
     "name": "stderr",
     "output_type": "stream",
     "text": [
      "100%|██████████| 80/80 [00:05<00:00, 14.12it/s]\n"
     ]
    },
    {
     "name": "stdout",
     "output_type": "stream",
     "text": [
      "Saving results in T:\\YuLab\\Video\\Naveed\\GPS_20_ThreeFPHoldSRTProbe\\20240802\\Init\\Clips...\n",
      "Saving csv poses!\n",
      "Starting to analyze %  T:/YuLab/Video/Naveed/GPS_20_ThreeFPHoldSRTProbe/20240802/Init/Clips/Naveed_20240802_Trial016_InitView.avi\n",
      "Loading  T:/YuLab/Video/Naveed/GPS_20_ThreeFPHoldSRTProbe/20240802/Init/Clips/Naveed_20240802_Trial016_InitView.avi\n",
      "Duration of video [s]:  4.0 , recorded with  20.0 fps!\n",
      "Overall # of frames:  80  found with (before cropping) frame dimensions:  1280 1024\n",
      "Starting to extract posture\n"
     ]
    },
    {
     "name": "stderr",
     "output_type": "stream",
     "text": [
      "100%|██████████| 80/80 [00:05<00:00, 13.69it/s]\n"
     ]
    },
    {
     "name": "stdout",
     "output_type": "stream",
     "text": [
      "Saving results in T:\\YuLab\\Video\\Naveed\\GPS_20_ThreeFPHoldSRTProbe\\20240802\\Init\\Clips...\n",
      "Saving csv poses!\n",
      "Starting to analyze %  T:/YuLab/Video/Naveed/GPS_20_ThreeFPHoldSRTProbe/20240802/Init/Clips/Naveed_20240802_Trial017_InitView.avi\n",
      "Loading  T:/YuLab/Video/Naveed/GPS_20_ThreeFPHoldSRTProbe/20240802/Init/Clips/Naveed_20240802_Trial017_InitView.avi\n",
      "Duration of video [s]:  4.0 , recorded with  20.0 fps!\n",
      "Overall # of frames:  80  found with (before cropping) frame dimensions:  1280 1024\n",
      "Starting to extract posture\n"
     ]
    },
    {
     "name": "stderr",
     "output_type": "stream",
     "text": [
      "100%|██████████| 80/80 [00:05<00:00, 14.67it/s]\n"
     ]
    },
    {
     "name": "stdout",
     "output_type": "stream",
     "text": [
      "Saving results in T:\\YuLab\\Video\\Naveed\\GPS_20_ThreeFPHoldSRTProbe\\20240802\\Init\\Clips...\n",
      "Saving csv poses!\n",
      "Starting to analyze %  T:/YuLab/Video/Naveed/GPS_20_ThreeFPHoldSRTProbe/20240802/Init/Clips/Naveed_20240802_Trial018_InitView.avi\n",
      "Loading  T:/YuLab/Video/Naveed/GPS_20_ThreeFPHoldSRTProbe/20240802/Init/Clips/Naveed_20240802_Trial018_InitView.avi\n",
      "Duration of video [s]:  4.0 , recorded with  20.0 fps!\n",
      "Overall # of frames:  80  found with (before cropping) frame dimensions:  1280 1024\n",
      "Starting to extract posture\n"
     ]
    },
    {
     "name": "stderr",
     "output_type": "stream",
     "text": [
      "100%|██████████| 80/80 [00:05<00:00, 13.66it/s]\n"
     ]
    },
    {
     "name": "stdout",
     "output_type": "stream",
     "text": [
      "Saving results in T:\\YuLab\\Video\\Naveed\\GPS_20_ThreeFPHoldSRTProbe\\20240802\\Init\\Clips...\n",
      "Saving csv poses!\n",
      "Starting to analyze %  T:/YuLab/Video/Naveed/GPS_20_ThreeFPHoldSRTProbe/20240802/Init/Clips/Naveed_20240802_Trial019_InitView.avi\n",
      "Loading  T:/YuLab/Video/Naveed/GPS_20_ThreeFPHoldSRTProbe/20240802/Init/Clips/Naveed_20240802_Trial019_InitView.avi\n",
      "Duration of video [s]:  4.0 , recorded with  20.0 fps!\n",
      "Overall # of frames:  80  found with (before cropping) frame dimensions:  1280 1024\n",
      "Starting to extract posture\n"
     ]
    },
    {
     "name": "stderr",
     "output_type": "stream",
     "text": [
      "100%|██████████| 80/80 [00:05<00:00, 13.87it/s]\n"
     ]
    },
    {
     "name": "stdout",
     "output_type": "stream",
     "text": [
      "Saving results in T:\\YuLab\\Video\\Naveed\\GPS_20_ThreeFPHoldSRTProbe\\20240802\\Init\\Clips...\n",
      "Saving csv poses!\n",
      "Starting to analyze %  T:/YuLab/Video/Naveed/GPS_20_ThreeFPHoldSRTProbe/20240802/Init/Clips/Naveed_20240802_Trial020_InitView.avi\n",
      "Loading  T:/YuLab/Video/Naveed/GPS_20_ThreeFPHoldSRTProbe/20240802/Init/Clips/Naveed_20240802_Trial020_InitView.avi\n",
      "Duration of video [s]:  4.0 , recorded with  20.0 fps!\n",
      "Overall # of frames:  80  found with (before cropping) frame dimensions:  1280 1024\n",
      "Starting to extract posture\n"
     ]
    },
    {
     "name": "stderr",
     "output_type": "stream",
     "text": [
      "100%|██████████| 80/80 [00:05<00:00, 14.00it/s]\n"
     ]
    },
    {
     "name": "stdout",
     "output_type": "stream",
     "text": [
      "Saving results in T:\\YuLab\\Video\\Naveed\\GPS_20_ThreeFPHoldSRTProbe\\20240802\\Init\\Clips...\n",
      "Saving csv poses!\n",
      "Starting to analyze %  T:/YuLab/Video/Naveed/GPS_20_ThreeFPHoldSRTProbe/20240802/Init/Clips/Naveed_20240802_Trial021_InitView.avi\n",
      "Loading  T:/YuLab/Video/Naveed/GPS_20_ThreeFPHoldSRTProbe/20240802/Init/Clips/Naveed_20240802_Trial021_InitView.avi\n",
      "Duration of video [s]:  4.0 , recorded with  20.0 fps!\n",
      "Overall # of frames:  80  found with (before cropping) frame dimensions:  1280 1024\n",
      "Starting to extract posture\n"
     ]
    },
    {
     "name": "stderr",
     "output_type": "stream",
     "text": [
      "100%|██████████| 80/80 [00:05<00:00, 14.37it/s]\n"
     ]
    },
    {
     "name": "stdout",
     "output_type": "stream",
     "text": [
      "Saving results in T:\\YuLab\\Video\\Naveed\\GPS_20_ThreeFPHoldSRTProbe\\20240802\\Init\\Clips...\n",
      "Saving csv poses!\n",
      "Starting to analyze %  T:/YuLab/Video/Naveed/GPS_20_ThreeFPHoldSRTProbe/20240802/Init/Clips/Naveed_20240802_Trial022_InitView.avi\n",
      "Loading  T:/YuLab/Video/Naveed/GPS_20_ThreeFPHoldSRTProbe/20240802/Init/Clips/Naveed_20240802_Trial022_InitView.avi\n",
      "Duration of video [s]:  3.95 , recorded with  20.0 fps!\n",
      "Overall # of frames:  79  found with (before cropping) frame dimensions:  1280 1024\n",
      "Starting to extract posture\n"
     ]
    },
    {
     "name": "stderr",
     "output_type": "stream",
     "text": [
      "100%|██████████| 79/79 [00:05<00:00, 13.64it/s]\n"
     ]
    },
    {
     "name": "stdout",
     "output_type": "stream",
     "text": [
      "Saving results in T:\\YuLab\\Video\\Naveed\\GPS_20_ThreeFPHoldSRTProbe\\20240802\\Init\\Clips...\n",
      "Saving csv poses!\n",
      "Starting to analyze %  T:/YuLab/Video/Naveed/GPS_20_ThreeFPHoldSRTProbe/20240802/Init/Clips/Naveed_20240802_Trial023_InitView.avi\n",
      "Loading  T:/YuLab/Video/Naveed/GPS_20_ThreeFPHoldSRTProbe/20240802/Init/Clips/Naveed_20240802_Trial023_InitView.avi\n",
      "Duration of video [s]:  4.0 , recorded with  20.0 fps!\n",
      "Overall # of frames:  80  found with (before cropping) frame dimensions:  1280 1024\n",
      "Starting to extract posture\n"
     ]
    },
    {
     "name": "stderr",
     "output_type": "stream",
     "text": [
      "100%|██████████| 80/80 [00:05<00:00, 14.22it/s]\n"
     ]
    },
    {
     "name": "stdout",
     "output_type": "stream",
     "text": [
      "Saving results in T:\\YuLab\\Video\\Naveed\\GPS_20_ThreeFPHoldSRTProbe\\20240802\\Init\\Clips...\n",
      "Saving csv poses!\n",
      "Starting to analyze %  T:/YuLab/Video/Naveed/GPS_20_ThreeFPHoldSRTProbe/20240802/Init/Clips/Naveed_20240802_Trial024_InitView.avi\n",
      "Loading  T:/YuLab/Video/Naveed/GPS_20_ThreeFPHoldSRTProbe/20240802/Init/Clips/Naveed_20240802_Trial024_InitView.avi\n",
      "Duration of video [s]:  4.0 , recorded with  20.0 fps!\n",
      "Overall # of frames:  80  found with (before cropping) frame dimensions:  1280 1024\n",
      "Starting to extract posture\n"
     ]
    },
    {
     "name": "stderr",
     "output_type": "stream",
     "text": [
      "100%|██████████| 80/80 [00:05<00:00, 13.98it/s]\n"
     ]
    },
    {
     "name": "stdout",
     "output_type": "stream",
     "text": [
      "Saving results in T:\\YuLab\\Video\\Naveed\\GPS_20_ThreeFPHoldSRTProbe\\20240802\\Init\\Clips...\n",
      "Saving csv poses!\n",
      "Starting to analyze %  T:/YuLab/Video/Naveed/GPS_20_ThreeFPHoldSRTProbe/20240802/Init/Clips/Naveed_20240802_Trial025_InitView.avi\n",
      "Loading  T:/YuLab/Video/Naveed/GPS_20_ThreeFPHoldSRTProbe/20240802/Init/Clips/Naveed_20240802_Trial025_InitView.avi\n",
      "Duration of video [s]:  4.0 , recorded with  20.0 fps!\n",
      "Overall # of frames:  80  found with (before cropping) frame dimensions:  1280 1024\n",
      "Starting to extract posture\n"
     ]
    },
    {
     "name": "stderr",
     "output_type": "stream",
     "text": [
      "100%|██████████| 80/80 [00:05<00:00, 13.54it/s]\n"
     ]
    },
    {
     "name": "stdout",
     "output_type": "stream",
     "text": [
      "Saving results in T:\\YuLab\\Video\\Naveed\\GPS_20_ThreeFPHoldSRTProbe\\20240802\\Init\\Clips...\n",
      "Saving csv poses!\n",
      "Starting to analyze %  T:/YuLab/Video/Naveed/GPS_20_ThreeFPHoldSRTProbe/20240802/Init/Clips/Naveed_20240802_Trial026_InitView.avi\n",
      "Loading  T:/YuLab/Video/Naveed/GPS_20_ThreeFPHoldSRTProbe/20240802/Init/Clips/Naveed_20240802_Trial026_InitView.avi\n",
      "Duration of video [s]:  4.0 , recorded with  20.0 fps!\n",
      "Overall # of frames:  80  found with (before cropping) frame dimensions:  1280 1024\n",
      "Starting to extract posture\n"
     ]
    },
    {
     "name": "stderr",
     "output_type": "stream",
     "text": [
      "100%|██████████| 80/80 [00:06<00:00, 13.32it/s]\n"
     ]
    },
    {
     "name": "stdout",
     "output_type": "stream",
     "text": [
      "Saving results in T:\\YuLab\\Video\\Naveed\\GPS_20_ThreeFPHoldSRTProbe\\20240802\\Init\\Clips...\n",
      "Saving csv poses!\n",
      "Starting to analyze %  T:/YuLab/Video/Naveed/GPS_20_ThreeFPHoldSRTProbe/20240802/Init/Clips/Naveed_20240802_Trial027_InitView.avi\n",
      "Loading  T:/YuLab/Video/Naveed/GPS_20_ThreeFPHoldSRTProbe/20240802/Init/Clips/Naveed_20240802_Trial027_InitView.avi\n",
      "Duration of video [s]:  4.0 , recorded with  20.0 fps!\n",
      "Overall # of frames:  80  found with (before cropping) frame dimensions:  1280 1024\n",
      "Starting to extract posture\n"
     ]
    },
    {
     "name": "stderr",
     "output_type": "stream",
     "text": [
      "100%|██████████| 80/80 [00:05<00:00, 13.59it/s]\n"
     ]
    },
    {
     "name": "stdout",
     "output_type": "stream",
     "text": [
      "Saving results in T:\\YuLab\\Video\\Naveed\\GPS_20_ThreeFPHoldSRTProbe\\20240802\\Init\\Clips...\n",
      "Saving csv poses!\n",
      "Starting to analyze %  T:/YuLab/Video/Naveed/GPS_20_ThreeFPHoldSRTProbe/20240802/Init/Clips/Naveed_20240802_Trial028_InitView.avi\n",
      "Loading  T:/YuLab/Video/Naveed/GPS_20_ThreeFPHoldSRTProbe/20240802/Init/Clips/Naveed_20240802_Trial028_InitView.avi\n",
      "Duration of video [s]:  4.0 , recorded with  20.0 fps!\n",
      "Overall # of frames:  80  found with (before cropping) frame dimensions:  1280 1024\n",
      "Starting to extract posture\n"
     ]
    },
    {
     "name": "stderr",
     "output_type": "stream",
     "text": [
      "100%|██████████| 80/80 [00:05<00:00, 13.70it/s]\n"
     ]
    },
    {
     "name": "stdout",
     "output_type": "stream",
     "text": [
      "Saving results in T:\\YuLab\\Video\\Naveed\\GPS_20_ThreeFPHoldSRTProbe\\20240802\\Init\\Clips...\n",
      "Saving csv poses!\n",
      "Starting to analyze %  T:/YuLab/Video/Naveed/GPS_20_ThreeFPHoldSRTProbe/20240802/Init/Clips/Naveed_20240802_Trial029_InitView.avi\n",
      "Loading  T:/YuLab/Video/Naveed/GPS_20_ThreeFPHoldSRTProbe/20240802/Init/Clips/Naveed_20240802_Trial029_InitView.avi\n",
      "Duration of video [s]:  4.0 , recorded with  20.0 fps!\n",
      "Overall # of frames:  80  found with (before cropping) frame dimensions:  1280 1024\n",
      "Starting to extract posture\n"
     ]
    },
    {
     "name": "stderr",
     "output_type": "stream",
     "text": [
      "100%|██████████| 80/80 [00:06<00:00, 13.26it/s]\n"
     ]
    },
    {
     "name": "stdout",
     "output_type": "stream",
     "text": [
      "Saving results in T:\\YuLab\\Video\\Naveed\\GPS_20_ThreeFPHoldSRTProbe\\20240802\\Init\\Clips...\n",
      "Saving csv poses!\n",
      "Starting to analyze %  T:/YuLab/Video/Naveed/GPS_20_ThreeFPHoldSRTProbe/20240802/Init/Clips/Naveed_20240802_Trial030_InitView.avi\n",
      "Loading  T:/YuLab/Video/Naveed/GPS_20_ThreeFPHoldSRTProbe/20240802/Init/Clips/Naveed_20240802_Trial030_InitView.avi\n",
      "Duration of video [s]:  4.0 , recorded with  20.0 fps!\n",
      "Overall # of frames:  80  found with (before cropping) frame dimensions:  1280 1024\n",
      "Starting to extract posture\n"
     ]
    },
    {
     "name": "stderr",
     "output_type": "stream",
     "text": [
      "100%|██████████| 80/80 [00:05<00:00, 13.46it/s]\n"
     ]
    },
    {
     "name": "stdout",
     "output_type": "stream",
     "text": [
      "Saving results in T:\\YuLab\\Video\\Naveed\\GPS_20_ThreeFPHoldSRTProbe\\20240802\\Init\\Clips...\n",
      "Saving csv poses!\n",
      "Starting to analyze %  T:/YuLab/Video/Naveed/GPS_20_ThreeFPHoldSRTProbe/20240802/Init/Clips/Naveed_20240802_Trial031_InitView.avi\n",
      "Loading  T:/YuLab/Video/Naveed/GPS_20_ThreeFPHoldSRTProbe/20240802/Init/Clips/Naveed_20240802_Trial031_InitView.avi\n",
      "Duration of video [s]:  4.0 , recorded with  20.0 fps!\n",
      "Overall # of frames:  80  found with (before cropping) frame dimensions:  1280 1024\n",
      "Starting to extract posture\n"
     ]
    },
    {
     "name": "stderr",
     "output_type": "stream",
     "text": [
      "100%|██████████| 80/80 [00:05<00:00, 13.38it/s]\n"
     ]
    },
    {
     "name": "stdout",
     "output_type": "stream",
     "text": [
      "Saving results in T:\\YuLab\\Video\\Naveed\\GPS_20_ThreeFPHoldSRTProbe\\20240802\\Init\\Clips...\n",
      "Saving csv poses!\n",
      "Starting to analyze %  T:/YuLab/Video/Naveed/GPS_20_ThreeFPHoldSRTProbe/20240802/Init/Clips/Naveed_20240802_Trial033_InitView.avi\n",
      "Loading  T:/YuLab/Video/Naveed/GPS_20_ThreeFPHoldSRTProbe/20240802/Init/Clips/Naveed_20240802_Trial033_InitView.avi\n",
      "Duration of video [s]:  4.0 , recorded with  20.0 fps!\n",
      "Overall # of frames:  80  found with (before cropping) frame dimensions:  1280 1024\n",
      "Starting to extract posture\n"
     ]
    },
    {
     "name": "stderr",
     "output_type": "stream",
     "text": [
      "100%|██████████| 80/80 [00:05<00:00, 13.45it/s]\n"
     ]
    },
    {
     "name": "stdout",
     "output_type": "stream",
     "text": [
      "Saving results in T:\\YuLab\\Video\\Naveed\\GPS_20_ThreeFPHoldSRTProbe\\20240802\\Init\\Clips...\n",
      "Saving csv poses!\n",
      "Starting to analyze %  T:/YuLab/Video/Naveed/GPS_20_ThreeFPHoldSRTProbe/20240802/Init/Clips/Naveed_20240802_Trial034_InitView.avi\n",
      "Loading  T:/YuLab/Video/Naveed/GPS_20_ThreeFPHoldSRTProbe/20240802/Init/Clips/Naveed_20240802_Trial034_InitView.avi\n",
      "Duration of video [s]:  4.0 , recorded with  20.0 fps!\n",
      "Overall # of frames:  80  found with (before cropping) frame dimensions:  1280 1024\n",
      "Starting to extract posture\n"
     ]
    },
    {
     "name": "stderr",
     "output_type": "stream",
     "text": [
      "100%|██████████| 80/80 [00:05<00:00, 13.87it/s]\n"
     ]
    },
    {
     "name": "stdout",
     "output_type": "stream",
     "text": [
      "Saving results in T:\\YuLab\\Video\\Naveed\\GPS_20_ThreeFPHoldSRTProbe\\20240802\\Init\\Clips...\n",
      "Saving csv poses!\n",
      "Starting to analyze %  T:/YuLab/Video/Naveed/GPS_20_ThreeFPHoldSRTProbe/20240802/Init/Clips/Naveed_20240802_Trial035_InitView.avi\n",
      "Loading  T:/YuLab/Video/Naveed/GPS_20_ThreeFPHoldSRTProbe/20240802/Init/Clips/Naveed_20240802_Trial035_InitView.avi\n",
      "Duration of video [s]:  4.0 , recorded with  20.0 fps!\n",
      "Overall # of frames:  80  found with (before cropping) frame dimensions:  1280 1024\n",
      "Starting to extract posture\n"
     ]
    },
    {
     "name": "stderr",
     "output_type": "stream",
     "text": [
      "100%|██████████| 80/80 [00:05<00:00, 13.37it/s]\n"
     ]
    },
    {
     "name": "stdout",
     "output_type": "stream",
     "text": [
      "Saving results in T:\\YuLab\\Video\\Naveed\\GPS_20_ThreeFPHoldSRTProbe\\20240802\\Init\\Clips...\n",
      "Saving csv poses!\n",
      "Starting to analyze %  T:/YuLab/Video/Naveed/GPS_20_ThreeFPHoldSRTProbe/20240802/Init/Clips/Naveed_20240802_Trial036_InitView.avi\n",
      "Loading  T:/YuLab/Video/Naveed/GPS_20_ThreeFPHoldSRTProbe/20240802/Init/Clips/Naveed_20240802_Trial036_InitView.avi\n",
      "Duration of video [s]:  4.0 , recorded with  20.0 fps!\n",
      "Overall # of frames:  80  found with (before cropping) frame dimensions:  1280 1024\n",
      "Starting to extract posture\n"
     ]
    },
    {
     "name": "stderr",
     "output_type": "stream",
     "text": [
      "100%|██████████| 80/80 [00:05<00:00, 13.95it/s]\n"
     ]
    },
    {
     "name": "stdout",
     "output_type": "stream",
     "text": [
      "Saving results in T:\\YuLab\\Video\\Naveed\\GPS_20_ThreeFPHoldSRTProbe\\20240802\\Init\\Clips...\n",
      "Saving csv poses!\n",
      "Starting to analyze %  T:/YuLab/Video/Naveed/GPS_20_ThreeFPHoldSRTProbe/20240802/Init/Clips/Naveed_20240802_Trial037_InitView.avi\n",
      "Loading  T:/YuLab/Video/Naveed/GPS_20_ThreeFPHoldSRTProbe/20240802/Init/Clips/Naveed_20240802_Trial037_InitView.avi\n",
      "Duration of video [s]:  4.0 , recorded with  20.0 fps!\n",
      "Overall # of frames:  80  found with (before cropping) frame dimensions:  1280 1024\n",
      "Starting to extract posture\n"
     ]
    },
    {
     "name": "stderr",
     "output_type": "stream",
     "text": [
      "100%|██████████| 80/80 [00:05<00:00, 13.58it/s]\n"
     ]
    },
    {
     "name": "stdout",
     "output_type": "stream",
     "text": [
      "Saving results in T:\\YuLab\\Video\\Naveed\\GPS_20_ThreeFPHoldSRTProbe\\20240802\\Init\\Clips...\n",
      "Saving csv poses!\n",
      "Starting to analyze %  T:/YuLab/Video/Naveed/GPS_20_ThreeFPHoldSRTProbe/20240802/Init/Clips/Naveed_20240802_Trial038_InitView.avi\n",
      "Loading  T:/YuLab/Video/Naveed/GPS_20_ThreeFPHoldSRTProbe/20240802/Init/Clips/Naveed_20240802_Trial038_InitView.avi\n",
      "Duration of video [s]:  4.0 , recorded with  20.0 fps!\n",
      "Overall # of frames:  80  found with (before cropping) frame dimensions:  1280 1024\n",
      "Starting to extract posture\n"
     ]
    },
    {
     "name": "stderr",
     "output_type": "stream",
     "text": [
      "100%|██████████| 80/80 [00:05<00:00, 13.79it/s]\n"
     ]
    },
    {
     "name": "stdout",
     "output_type": "stream",
     "text": [
      "Saving results in T:\\YuLab\\Video\\Naveed\\GPS_20_ThreeFPHoldSRTProbe\\20240802\\Init\\Clips...\n",
      "Saving csv poses!\n",
      "Starting to analyze %  T:/YuLab/Video/Naveed/GPS_20_ThreeFPHoldSRTProbe/20240802/Init/Clips/Naveed_20240802_Trial039_InitView.avi\n",
      "Loading  T:/YuLab/Video/Naveed/GPS_20_ThreeFPHoldSRTProbe/20240802/Init/Clips/Naveed_20240802_Trial039_InitView.avi\n",
      "Duration of video [s]:  4.0 , recorded with  20.0 fps!\n",
      "Overall # of frames:  80  found with (before cropping) frame dimensions:  1280 1024\n",
      "Starting to extract posture\n"
     ]
    },
    {
     "name": "stderr",
     "output_type": "stream",
     "text": [
      "100%|██████████| 80/80 [00:05<00:00, 13.64it/s]\n"
     ]
    },
    {
     "name": "stdout",
     "output_type": "stream",
     "text": [
      "Saving results in T:\\YuLab\\Video\\Naveed\\GPS_20_ThreeFPHoldSRTProbe\\20240802\\Init\\Clips...\n",
      "Saving csv poses!\n",
      "Starting to analyze %  T:/YuLab/Video/Naveed/GPS_20_ThreeFPHoldSRTProbe/20240802/Init/Clips/Naveed_20240802_Trial040_InitView.avi\n",
      "Loading  T:/YuLab/Video/Naveed/GPS_20_ThreeFPHoldSRTProbe/20240802/Init/Clips/Naveed_20240802_Trial040_InitView.avi\n",
      "Duration of video [s]:  4.0 , recorded with  20.0 fps!\n",
      "Overall # of frames:  80  found with (before cropping) frame dimensions:  1280 1024\n",
      "Starting to extract posture\n"
     ]
    },
    {
     "name": "stderr",
     "output_type": "stream",
     "text": [
      "100%|██████████| 80/80 [00:05<00:00, 14.10it/s]\n"
     ]
    },
    {
     "name": "stdout",
     "output_type": "stream",
     "text": [
      "Saving results in T:\\YuLab\\Video\\Naveed\\GPS_20_ThreeFPHoldSRTProbe\\20240802\\Init\\Clips...\n",
      "Saving csv poses!\n",
      "Starting to analyze %  T:/YuLab/Video/Naveed/GPS_20_ThreeFPHoldSRTProbe/20240802/Init/Clips/Naveed_20240802_Trial041_InitView.avi\n",
      "Loading  T:/YuLab/Video/Naveed/GPS_20_ThreeFPHoldSRTProbe/20240802/Init/Clips/Naveed_20240802_Trial041_InitView.avi\n",
      "Duration of video [s]:  4.0 , recorded with  20.0 fps!\n",
      "Overall # of frames:  80  found with (before cropping) frame dimensions:  1280 1024\n",
      "Starting to extract posture\n"
     ]
    },
    {
     "name": "stderr",
     "output_type": "stream",
     "text": [
      "100%|██████████| 80/80 [00:05<00:00, 14.23it/s]\n"
     ]
    },
    {
     "name": "stdout",
     "output_type": "stream",
     "text": [
      "Saving results in T:\\YuLab\\Video\\Naveed\\GPS_20_ThreeFPHoldSRTProbe\\20240802\\Init\\Clips...\n",
      "Saving csv poses!\n",
      "Starting to analyze %  T:/YuLab/Video/Naveed/GPS_20_ThreeFPHoldSRTProbe/20240802/Init/Clips/Naveed_20240802_Trial042_InitView.avi\n",
      "Loading  T:/YuLab/Video/Naveed/GPS_20_ThreeFPHoldSRTProbe/20240802/Init/Clips/Naveed_20240802_Trial042_InitView.avi\n",
      "Duration of video [s]:  4.0 , recorded with  20.0 fps!\n",
      "Overall # of frames:  80  found with (before cropping) frame dimensions:  1280 1024\n",
      "Starting to extract posture\n"
     ]
    },
    {
     "name": "stderr",
     "output_type": "stream",
     "text": [
      "100%|██████████| 80/80 [00:05<00:00, 13.73it/s]\n"
     ]
    },
    {
     "name": "stdout",
     "output_type": "stream",
     "text": [
      "Saving results in T:\\YuLab\\Video\\Naveed\\GPS_20_ThreeFPHoldSRTProbe\\20240802\\Init\\Clips...\n",
      "Saving csv poses!\n",
      "Starting to analyze %  T:/YuLab/Video/Naveed/GPS_20_ThreeFPHoldSRTProbe/20240802/Init/Clips/Naveed_20240802_Trial043_InitView.avi\n",
      "Loading  T:/YuLab/Video/Naveed/GPS_20_ThreeFPHoldSRTProbe/20240802/Init/Clips/Naveed_20240802_Trial043_InitView.avi\n",
      "Duration of video [s]:  3.95 , recorded with  20.0 fps!\n",
      "Overall # of frames:  79  found with (before cropping) frame dimensions:  1280 1024\n",
      "Starting to extract posture\n"
     ]
    },
    {
     "name": "stderr",
     "output_type": "stream",
     "text": [
      "100%|██████████| 79/79 [00:05<00:00, 13.89it/s]\n"
     ]
    },
    {
     "name": "stdout",
     "output_type": "stream",
     "text": [
      "Saving results in T:\\YuLab\\Video\\Naveed\\GPS_20_ThreeFPHoldSRTProbe\\20240802\\Init\\Clips...\n",
      "Saving csv poses!\n",
      "Starting to analyze %  T:/YuLab/Video/Naveed/GPS_20_ThreeFPHoldSRTProbe/20240802/Init/Clips/Naveed_20240802_Trial044_InitView.avi\n",
      "Loading  T:/YuLab/Video/Naveed/GPS_20_ThreeFPHoldSRTProbe/20240802/Init/Clips/Naveed_20240802_Trial044_InitView.avi\n",
      "Duration of video [s]:  4.0 , recorded with  20.0 fps!\n",
      "Overall # of frames:  80  found with (before cropping) frame dimensions:  1280 1024\n",
      "Starting to extract posture\n"
     ]
    },
    {
     "name": "stderr",
     "output_type": "stream",
     "text": [
      "100%|██████████| 80/80 [00:05<00:00, 13.87it/s]\n"
     ]
    },
    {
     "name": "stdout",
     "output_type": "stream",
     "text": [
      "Saving results in T:\\YuLab\\Video\\Naveed\\GPS_20_ThreeFPHoldSRTProbe\\20240802\\Init\\Clips...\n",
      "Saving csv poses!\n",
      "Starting to analyze %  T:/YuLab/Video/Naveed/GPS_20_ThreeFPHoldSRTProbe/20240802/Init/Clips/Naveed_20240802_Trial045_InitView.avi\n",
      "Loading  T:/YuLab/Video/Naveed/GPS_20_ThreeFPHoldSRTProbe/20240802/Init/Clips/Naveed_20240802_Trial045_InitView.avi\n",
      "Duration of video [s]:  4.0 , recorded with  20.0 fps!\n",
      "Overall # of frames:  80  found with (before cropping) frame dimensions:  1280 1024\n",
      "Starting to extract posture\n"
     ]
    },
    {
     "name": "stderr",
     "output_type": "stream",
     "text": [
      "100%|██████████| 80/80 [00:05<00:00, 14.38it/s]\n"
     ]
    },
    {
     "name": "stdout",
     "output_type": "stream",
     "text": [
      "Saving results in T:\\YuLab\\Video\\Naveed\\GPS_20_ThreeFPHoldSRTProbe\\20240802\\Init\\Clips...\n",
      "Saving csv poses!\n",
      "Starting to analyze %  T:/YuLab/Video/Naveed/GPS_20_ThreeFPHoldSRTProbe/20240802/Init/Clips/Naveed_20240802_Trial046_InitView.avi\n",
      "Loading  T:/YuLab/Video/Naveed/GPS_20_ThreeFPHoldSRTProbe/20240802/Init/Clips/Naveed_20240802_Trial046_InitView.avi\n",
      "Duration of video [s]:  4.0 , recorded with  20.0 fps!\n",
      "Overall # of frames:  80  found with (before cropping) frame dimensions:  1280 1024\n",
      "Starting to extract posture\n"
     ]
    },
    {
     "name": "stderr",
     "output_type": "stream",
     "text": [
      "100%|██████████| 80/80 [00:05<00:00, 14.12it/s]\n"
     ]
    },
    {
     "name": "stdout",
     "output_type": "stream",
     "text": [
      "Saving results in T:\\YuLab\\Video\\Naveed\\GPS_20_ThreeFPHoldSRTProbe\\20240802\\Init\\Clips...\n",
      "Saving csv poses!\n",
      "Starting to analyze %  T:/YuLab/Video/Naveed/GPS_20_ThreeFPHoldSRTProbe/20240802/Init/Clips/Naveed_20240802_Trial047_InitView.avi\n",
      "Loading  T:/YuLab/Video/Naveed/GPS_20_ThreeFPHoldSRTProbe/20240802/Init/Clips/Naveed_20240802_Trial047_InitView.avi\n",
      "Duration of video [s]:  4.0 , recorded with  20.0 fps!\n",
      "Overall # of frames:  80  found with (before cropping) frame dimensions:  1280 1024\n",
      "Starting to extract posture\n"
     ]
    },
    {
     "name": "stderr",
     "output_type": "stream",
     "text": [
      "100%|██████████| 80/80 [00:05<00:00, 13.57it/s]\n"
     ]
    },
    {
     "name": "stdout",
     "output_type": "stream",
     "text": [
      "Saving results in T:\\YuLab\\Video\\Naveed\\GPS_20_ThreeFPHoldSRTProbe\\20240802\\Init\\Clips...\n",
      "Saving csv poses!\n",
      "Starting to analyze %  T:/YuLab/Video/Naveed/GPS_20_ThreeFPHoldSRTProbe/20240802/Init/Clips/Naveed_20240802_Trial048_InitView.avi\n",
      "Loading  T:/YuLab/Video/Naveed/GPS_20_ThreeFPHoldSRTProbe/20240802/Init/Clips/Naveed_20240802_Trial048_InitView.avi\n",
      "Duration of video [s]:  4.0 , recorded with  20.0 fps!\n",
      "Overall # of frames:  80  found with (before cropping) frame dimensions:  1280 1024\n",
      "Starting to extract posture\n"
     ]
    },
    {
     "name": "stderr",
     "output_type": "stream",
     "text": [
      "100%|██████████| 80/80 [00:05<00:00, 14.28it/s]\n"
     ]
    },
    {
     "name": "stdout",
     "output_type": "stream",
     "text": [
      "Saving results in T:\\YuLab\\Video\\Naveed\\GPS_20_ThreeFPHoldSRTProbe\\20240802\\Init\\Clips...\n",
      "Saving csv poses!\n",
      "Starting to analyze %  T:/YuLab/Video/Naveed/GPS_20_ThreeFPHoldSRTProbe/20240802/Init/Clips/Naveed_20240802_Trial049_InitView.avi\n",
      "Loading  T:/YuLab/Video/Naveed/GPS_20_ThreeFPHoldSRTProbe/20240802/Init/Clips/Naveed_20240802_Trial049_InitView.avi\n",
      "Duration of video [s]:  4.0 , recorded with  20.0 fps!\n",
      "Overall # of frames:  80  found with (before cropping) frame dimensions:  1280 1024\n",
      "Starting to extract posture\n"
     ]
    },
    {
     "name": "stderr",
     "output_type": "stream",
     "text": [
      "100%|██████████| 80/80 [00:05<00:00, 14.46it/s]\n"
     ]
    },
    {
     "name": "stdout",
     "output_type": "stream",
     "text": [
      "Saving results in T:\\YuLab\\Video\\Naveed\\GPS_20_ThreeFPHoldSRTProbe\\20240802\\Init\\Clips...\n",
      "Saving csv poses!\n",
      "Starting to analyze %  T:/YuLab/Video/Naveed/GPS_20_ThreeFPHoldSRTProbe/20240802/Init/Clips/Naveed_20240802_Trial050_InitView.avi\n",
      "Loading  T:/YuLab/Video/Naveed/GPS_20_ThreeFPHoldSRTProbe/20240802/Init/Clips/Naveed_20240802_Trial050_InitView.avi\n",
      "Duration of video [s]:  4.0 , recorded with  20.0 fps!\n",
      "Overall # of frames:  80  found with (before cropping) frame dimensions:  1280 1024\n",
      "Starting to extract posture\n"
     ]
    },
    {
     "name": "stderr",
     "output_type": "stream",
     "text": [
      "100%|██████████| 80/80 [00:05<00:00, 13.59it/s]\n"
     ]
    },
    {
     "name": "stdout",
     "output_type": "stream",
     "text": [
      "Saving results in T:\\YuLab\\Video\\Naveed\\GPS_20_ThreeFPHoldSRTProbe\\20240802\\Init\\Clips...\n",
      "Saving csv poses!\n",
      "Starting to analyze %  T:/YuLab/Video/Naveed/GPS_20_ThreeFPHoldSRTProbe/20240802/Init/Clips/Naveed_20240802_Trial051_InitView.avi\n",
      "Loading  T:/YuLab/Video/Naveed/GPS_20_ThreeFPHoldSRTProbe/20240802/Init/Clips/Naveed_20240802_Trial051_InitView.avi\n",
      "Duration of video [s]:  4.0 , recorded with  20.0 fps!\n",
      "Overall # of frames:  80  found with (before cropping) frame dimensions:  1280 1024\n",
      "Starting to extract posture\n"
     ]
    },
    {
     "name": "stderr",
     "output_type": "stream",
     "text": [
      "100%|██████████| 80/80 [00:05<00:00, 13.84it/s]\n"
     ]
    },
    {
     "name": "stdout",
     "output_type": "stream",
     "text": [
      "Saving results in T:\\YuLab\\Video\\Naveed\\GPS_20_ThreeFPHoldSRTProbe\\20240802\\Init\\Clips...\n",
      "Saving csv poses!\n",
      "Starting to analyze %  T:/YuLab/Video/Naveed/GPS_20_ThreeFPHoldSRTProbe/20240802/Init/Clips/Naveed_20240802_Trial052_InitView.avi\n",
      "Loading  T:/YuLab/Video/Naveed/GPS_20_ThreeFPHoldSRTProbe/20240802/Init/Clips/Naveed_20240802_Trial052_InitView.avi\n",
      "Duration of video [s]:  4.0 , recorded with  20.0 fps!\n",
      "Overall # of frames:  80  found with (before cropping) frame dimensions:  1280 1024\n",
      "Starting to extract posture\n"
     ]
    },
    {
     "name": "stderr",
     "output_type": "stream",
     "text": [
      "100%|██████████| 80/80 [00:05<00:00, 13.93it/s]\n"
     ]
    },
    {
     "name": "stdout",
     "output_type": "stream",
     "text": [
      "Saving results in T:\\YuLab\\Video\\Naveed\\GPS_20_ThreeFPHoldSRTProbe\\20240802\\Init\\Clips...\n",
      "Saving csv poses!\n",
      "Starting to analyze %  T:/YuLab/Video/Naveed/GPS_20_ThreeFPHoldSRTProbe/20240802/Init/Clips/Naveed_20240802_Trial053_InitView.avi\n",
      "Loading  T:/YuLab/Video/Naveed/GPS_20_ThreeFPHoldSRTProbe/20240802/Init/Clips/Naveed_20240802_Trial053_InitView.avi\n",
      "Duration of video [s]:  4.0 , recorded with  20.0 fps!\n",
      "Overall # of frames:  80  found with (before cropping) frame dimensions:  1280 1024\n",
      "Starting to extract posture\n"
     ]
    },
    {
     "name": "stderr",
     "output_type": "stream",
     "text": [
      "100%|██████████| 80/80 [00:05<00:00, 13.81it/s]\n"
     ]
    },
    {
     "name": "stdout",
     "output_type": "stream",
     "text": [
      "Saving results in T:\\YuLab\\Video\\Naveed\\GPS_20_ThreeFPHoldSRTProbe\\20240802\\Init\\Clips...\n",
      "Saving csv poses!\n",
      "Starting to analyze %  T:/YuLab/Video/Naveed/GPS_20_ThreeFPHoldSRTProbe/20240802/Init/Clips/Naveed_20240802_Trial054_InitView.avi\n",
      "Loading  T:/YuLab/Video/Naveed/GPS_20_ThreeFPHoldSRTProbe/20240802/Init/Clips/Naveed_20240802_Trial054_InitView.avi\n",
      "Duration of video [s]:  4.0 , recorded with  20.0 fps!\n",
      "Overall # of frames:  80  found with (before cropping) frame dimensions:  1280 1024\n",
      "Starting to extract posture\n"
     ]
    },
    {
     "name": "stderr",
     "output_type": "stream",
     "text": [
      "100%|██████████| 80/80 [00:05<00:00, 13.39it/s]\n"
     ]
    },
    {
     "name": "stdout",
     "output_type": "stream",
     "text": [
      "Saving results in T:\\YuLab\\Video\\Naveed\\GPS_20_ThreeFPHoldSRTProbe\\20240802\\Init\\Clips...\n",
      "Saving csv poses!\n",
      "Starting to analyze %  T:/YuLab/Video/Naveed/GPS_20_ThreeFPHoldSRTProbe/20240802/Init/Clips/Naveed_20240802_Trial055_InitView.avi\n",
      "Loading  T:/YuLab/Video/Naveed/GPS_20_ThreeFPHoldSRTProbe/20240802/Init/Clips/Naveed_20240802_Trial055_InitView.avi\n",
      "Duration of video [s]:  4.0 , recorded with  20.0 fps!\n",
      "Overall # of frames:  80  found with (before cropping) frame dimensions:  1280 1024\n",
      "Starting to extract posture\n"
     ]
    },
    {
     "name": "stderr",
     "output_type": "stream",
     "text": [
      "100%|██████████| 80/80 [00:05<00:00, 13.43it/s]\n"
     ]
    },
    {
     "name": "stdout",
     "output_type": "stream",
     "text": [
      "Saving results in T:\\YuLab\\Video\\Naveed\\GPS_20_ThreeFPHoldSRTProbe\\20240802\\Init\\Clips...\n",
      "Saving csv poses!\n",
      "Starting to analyze %  T:/YuLab/Video/Naveed/GPS_20_ThreeFPHoldSRTProbe/20240802/Init/Clips/Naveed_20240802_Trial056_InitView.avi\n",
      "Loading  T:/YuLab/Video/Naveed/GPS_20_ThreeFPHoldSRTProbe/20240802/Init/Clips/Naveed_20240802_Trial056_InitView.avi\n",
      "Duration of video [s]:  4.0 , recorded with  20.0 fps!\n",
      "Overall # of frames:  80  found with (before cropping) frame dimensions:  1280 1024\n",
      "Starting to extract posture\n"
     ]
    },
    {
     "name": "stderr",
     "output_type": "stream",
     "text": [
      "100%|██████████| 80/80 [00:05<00:00, 13.56it/s]\n"
     ]
    },
    {
     "name": "stdout",
     "output_type": "stream",
     "text": [
      "Saving results in T:\\YuLab\\Video\\Naveed\\GPS_20_ThreeFPHoldSRTProbe\\20240802\\Init\\Clips...\n",
      "Saving csv poses!\n",
      "Starting to analyze %  T:/YuLab/Video/Naveed/GPS_20_ThreeFPHoldSRTProbe/20240802/Init/Clips/Naveed_20240802_Trial057_InitView.avi\n",
      "Loading  T:/YuLab/Video/Naveed/GPS_20_ThreeFPHoldSRTProbe/20240802/Init/Clips/Naveed_20240802_Trial057_InitView.avi\n",
      "Duration of video [s]:  4.0 , recorded with  20.0 fps!\n",
      "Overall # of frames:  80  found with (before cropping) frame dimensions:  1280 1024\n",
      "Starting to extract posture\n"
     ]
    },
    {
     "name": "stderr",
     "output_type": "stream",
     "text": [
      "100%|██████████| 80/80 [00:05<00:00, 13.80it/s]\n"
     ]
    },
    {
     "name": "stdout",
     "output_type": "stream",
     "text": [
      "Saving results in T:\\YuLab\\Video\\Naveed\\GPS_20_ThreeFPHoldSRTProbe\\20240802\\Init\\Clips...\n",
      "Saving csv poses!\n",
      "Starting to analyze %  T:/YuLab/Video/Naveed/GPS_20_ThreeFPHoldSRTProbe/20240802/Init/Clips/Naveed_20240802_Trial058_InitView.avi\n",
      "Loading  T:/YuLab/Video/Naveed/GPS_20_ThreeFPHoldSRTProbe/20240802/Init/Clips/Naveed_20240802_Trial058_InitView.avi\n",
      "Duration of video [s]:  4.0 , recorded with  20.0 fps!\n",
      "Overall # of frames:  80  found with (before cropping) frame dimensions:  1280 1024\n",
      "Starting to extract posture\n"
     ]
    },
    {
     "name": "stderr",
     "output_type": "stream",
     "text": [
      "100%|██████████| 80/80 [00:05<00:00, 13.72it/s]\n"
     ]
    },
    {
     "name": "stdout",
     "output_type": "stream",
     "text": [
      "Saving results in T:\\YuLab\\Video\\Naveed\\GPS_20_ThreeFPHoldSRTProbe\\20240802\\Init\\Clips...\n",
      "Saving csv poses!\n",
      "Starting to analyze %  T:/YuLab/Video/Naveed/GPS_20_ThreeFPHoldSRTProbe/20240802/Init/Clips/Naveed_20240802_Trial059_InitView.avi\n",
      "Loading  T:/YuLab/Video/Naveed/GPS_20_ThreeFPHoldSRTProbe/20240802/Init/Clips/Naveed_20240802_Trial059_InitView.avi\n",
      "Duration of video [s]:  4.05 , recorded with  20.0 fps!\n",
      "Overall # of frames:  81  found with (before cropping) frame dimensions:  1280 1024\n",
      "Starting to extract posture\n"
     ]
    },
    {
     "name": "stderr",
     "output_type": "stream",
     "text": [
      "100%|██████████| 81/81 [00:06<00:00, 12.54it/s]\n"
     ]
    },
    {
     "name": "stdout",
     "output_type": "stream",
     "text": [
      "Saving results in T:\\YuLab\\Video\\Naveed\\GPS_20_ThreeFPHoldSRTProbe\\20240802\\Init\\Clips...\n",
      "Saving csv poses!\n",
      "Starting to analyze %  T:/YuLab/Video/Naveed/GPS_20_ThreeFPHoldSRTProbe/20240802/Init/Clips/Naveed_20240802_Trial060_InitView.avi\n",
      "Loading  T:/YuLab/Video/Naveed/GPS_20_ThreeFPHoldSRTProbe/20240802/Init/Clips/Naveed_20240802_Trial060_InitView.avi\n",
      "Duration of video [s]:  4.0 , recorded with  20.0 fps!\n",
      "Overall # of frames:  80  found with (before cropping) frame dimensions:  1280 1024\n",
      "Starting to extract posture\n"
     ]
    },
    {
     "name": "stderr",
     "output_type": "stream",
     "text": [
      "100%|██████████| 80/80 [00:05<00:00, 13.47it/s]\n"
     ]
    },
    {
     "name": "stdout",
     "output_type": "stream",
     "text": [
      "Saving results in T:\\YuLab\\Video\\Naveed\\GPS_20_ThreeFPHoldSRTProbe\\20240802\\Init\\Clips...\n",
      "Saving csv poses!\n",
      "Starting to analyze %  T:/YuLab/Video/Naveed/GPS_20_ThreeFPHoldSRTProbe/20240802/Init/Clips/Naveed_20240802_Trial061_InitView.avi\n",
      "Loading  T:/YuLab/Video/Naveed/GPS_20_ThreeFPHoldSRTProbe/20240802/Init/Clips/Naveed_20240802_Trial061_InitView.avi\n",
      "Duration of video [s]:  4.0 , recorded with  20.0 fps!\n",
      "Overall # of frames:  80  found with (before cropping) frame dimensions:  1280 1024\n",
      "Starting to extract posture\n"
     ]
    },
    {
     "name": "stderr",
     "output_type": "stream",
     "text": [
      "100%|██████████| 80/80 [00:05<00:00, 14.17it/s]\n"
     ]
    },
    {
     "name": "stdout",
     "output_type": "stream",
     "text": [
      "Saving results in T:\\YuLab\\Video\\Naveed\\GPS_20_ThreeFPHoldSRTProbe\\20240802\\Init\\Clips...\n",
      "Saving csv poses!\n",
      "Starting to analyze %  T:/YuLab/Video/Naveed/GPS_20_ThreeFPHoldSRTProbe/20240802/Init/Clips/Naveed_20240802_Trial062_InitView.avi\n",
      "Loading  T:/YuLab/Video/Naveed/GPS_20_ThreeFPHoldSRTProbe/20240802/Init/Clips/Naveed_20240802_Trial062_InitView.avi\n",
      "Duration of video [s]:  4.0 , recorded with  20.0 fps!\n",
      "Overall # of frames:  80  found with (before cropping) frame dimensions:  1280 1024\n",
      "Starting to extract posture\n"
     ]
    },
    {
     "name": "stderr",
     "output_type": "stream",
     "text": [
      "100%|██████████| 80/80 [00:05<00:00, 14.63it/s]\n"
     ]
    },
    {
     "name": "stdout",
     "output_type": "stream",
     "text": [
      "Saving results in T:\\YuLab\\Video\\Naveed\\GPS_20_ThreeFPHoldSRTProbe\\20240802\\Init\\Clips...\n",
      "Saving csv poses!\n",
      "Starting to analyze %  T:/YuLab/Video/Naveed/GPS_20_ThreeFPHoldSRTProbe/20240802/Init/Clips/Naveed_20240802_Trial063_InitView.avi\n",
      "Loading  T:/YuLab/Video/Naveed/GPS_20_ThreeFPHoldSRTProbe/20240802/Init/Clips/Naveed_20240802_Trial063_InitView.avi\n",
      "Duration of video [s]:  4.0 , recorded with  20.0 fps!\n",
      "Overall # of frames:  80  found with (before cropping) frame dimensions:  1280 1024\n",
      "Starting to extract posture\n"
     ]
    },
    {
     "name": "stderr",
     "output_type": "stream",
     "text": [
      "100%|██████████| 80/80 [00:05<00:00, 14.25it/s]\n"
     ]
    },
    {
     "name": "stdout",
     "output_type": "stream",
     "text": [
      "Saving results in T:\\YuLab\\Video\\Naveed\\GPS_20_ThreeFPHoldSRTProbe\\20240802\\Init\\Clips...\n",
      "Saving csv poses!\n",
      "Starting to analyze %  T:/YuLab/Video/Naveed/GPS_20_ThreeFPHoldSRTProbe/20240802/Init/Clips/Naveed_20240802_Trial064_InitView.avi\n",
      "Loading  T:/YuLab/Video/Naveed/GPS_20_ThreeFPHoldSRTProbe/20240802/Init/Clips/Naveed_20240802_Trial064_InitView.avi\n",
      "Duration of video [s]:  4.0 , recorded with  20.0 fps!\n",
      "Overall # of frames:  80  found with (before cropping) frame dimensions:  1280 1024\n",
      "Starting to extract posture\n"
     ]
    },
    {
     "name": "stderr",
     "output_type": "stream",
     "text": [
      "100%|██████████| 80/80 [00:05<00:00, 13.99it/s]\n"
     ]
    },
    {
     "name": "stdout",
     "output_type": "stream",
     "text": [
      "Saving results in T:\\YuLab\\Video\\Naveed\\GPS_20_ThreeFPHoldSRTProbe\\20240802\\Init\\Clips...\n",
      "Saving csv poses!\n",
      "Starting to analyze %  T:/YuLab/Video/Naveed/GPS_20_ThreeFPHoldSRTProbe/20240802/Init/Clips/Naveed_20240802_Trial065_InitView.avi\n",
      "Loading  T:/YuLab/Video/Naveed/GPS_20_ThreeFPHoldSRTProbe/20240802/Init/Clips/Naveed_20240802_Trial065_InitView.avi\n",
      "Duration of video [s]:  4.0 , recorded with  20.0 fps!\n",
      "Overall # of frames:  80  found with (before cropping) frame dimensions:  1280 1024\n",
      "Starting to extract posture\n"
     ]
    },
    {
     "name": "stderr",
     "output_type": "stream",
     "text": [
      "100%|██████████| 80/80 [00:05<00:00, 14.53it/s]\n"
     ]
    },
    {
     "name": "stdout",
     "output_type": "stream",
     "text": [
      "Saving results in T:\\YuLab\\Video\\Naveed\\GPS_20_ThreeFPHoldSRTProbe\\20240802\\Init\\Clips...\n",
      "Saving csv poses!\n",
      "Starting to analyze %  T:/YuLab/Video/Naveed/GPS_20_ThreeFPHoldSRTProbe/20240802/Init/Clips/Naveed_20240802_Trial066_InitView.avi\n",
      "Loading  T:/YuLab/Video/Naveed/GPS_20_ThreeFPHoldSRTProbe/20240802/Init/Clips/Naveed_20240802_Trial066_InitView.avi\n",
      "Duration of video [s]:  4.0 , recorded with  20.0 fps!\n",
      "Overall # of frames:  80  found with (before cropping) frame dimensions:  1280 1024\n",
      "Starting to extract posture\n"
     ]
    },
    {
     "name": "stderr",
     "output_type": "stream",
     "text": [
      "100%|██████████| 80/80 [00:05<00:00, 14.20it/s]\n"
     ]
    },
    {
     "name": "stdout",
     "output_type": "stream",
     "text": [
      "Saving results in T:\\YuLab\\Video\\Naveed\\GPS_20_ThreeFPHoldSRTProbe\\20240802\\Init\\Clips...\n",
      "Saving csv poses!\n",
      "Starting to analyze %  T:/YuLab/Video/Naveed/GPS_20_ThreeFPHoldSRTProbe/20240802/Init/Clips/Naveed_20240802_Trial067_InitView.avi\n",
      "Loading  T:/YuLab/Video/Naveed/GPS_20_ThreeFPHoldSRTProbe/20240802/Init/Clips/Naveed_20240802_Trial067_InitView.avi\n",
      "Duration of video [s]:  4.0 , recorded with  20.0 fps!\n",
      "Overall # of frames:  80  found with (before cropping) frame dimensions:  1280 1024\n",
      "Starting to extract posture\n"
     ]
    },
    {
     "name": "stderr",
     "output_type": "stream",
     "text": [
      "100%|██████████| 80/80 [00:05<00:00, 13.81it/s]\n"
     ]
    },
    {
     "name": "stdout",
     "output_type": "stream",
     "text": [
      "Saving results in T:\\YuLab\\Video\\Naveed\\GPS_20_ThreeFPHoldSRTProbe\\20240802\\Init\\Clips...\n",
      "Saving csv poses!\n",
      "Starting to analyze %  T:/YuLab/Video/Naveed/GPS_20_ThreeFPHoldSRTProbe/20240802/Init/Clips/Naveed_20240802_Trial068_InitView.avi\n",
      "Loading  T:/YuLab/Video/Naveed/GPS_20_ThreeFPHoldSRTProbe/20240802/Init/Clips/Naveed_20240802_Trial068_InitView.avi\n",
      "Duration of video [s]:  4.0 , recorded with  20.0 fps!\n",
      "Overall # of frames:  80  found with (before cropping) frame dimensions:  1280 1024\n",
      "Starting to extract posture\n"
     ]
    },
    {
     "name": "stderr",
     "output_type": "stream",
     "text": [
      "100%|██████████| 80/80 [00:05<00:00, 13.66it/s]\n"
     ]
    },
    {
     "name": "stdout",
     "output_type": "stream",
     "text": [
      "Saving results in T:\\YuLab\\Video\\Naveed\\GPS_20_ThreeFPHoldSRTProbe\\20240802\\Init\\Clips...\n",
      "Saving csv poses!\n",
      "Starting to analyze %  T:/YuLab/Video/Naveed/GPS_20_ThreeFPHoldSRTProbe/20240802/Init/Clips/Naveed_20240802_Trial069_InitView.avi\n",
      "Loading  T:/YuLab/Video/Naveed/GPS_20_ThreeFPHoldSRTProbe/20240802/Init/Clips/Naveed_20240802_Trial069_InitView.avi\n",
      "Duration of video [s]:  4.0 , recorded with  20.0 fps!\n",
      "Overall # of frames:  80  found with (before cropping) frame dimensions:  1280 1024\n",
      "Starting to extract posture\n"
     ]
    },
    {
     "name": "stderr",
     "output_type": "stream",
     "text": [
      "100%|██████████| 80/80 [00:05<00:00, 14.00it/s]\n"
     ]
    },
    {
     "name": "stdout",
     "output_type": "stream",
     "text": [
      "Saving results in T:\\YuLab\\Video\\Naveed\\GPS_20_ThreeFPHoldSRTProbe\\20240802\\Init\\Clips...\n",
      "Saving csv poses!\n",
      "Starting to analyze %  T:/YuLab/Video/Naveed/GPS_20_ThreeFPHoldSRTProbe/20240802/Init/Clips/Naveed_20240802_Trial070_InitView.avi\n",
      "Loading  T:/YuLab/Video/Naveed/GPS_20_ThreeFPHoldSRTProbe/20240802/Init/Clips/Naveed_20240802_Trial070_InitView.avi\n",
      "Duration of video [s]:  4.0 , recorded with  20.0 fps!\n",
      "Overall # of frames:  80  found with (before cropping) frame dimensions:  1280 1024\n",
      "Starting to extract posture\n"
     ]
    },
    {
     "name": "stderr",
     "output_type": "stream",
     "text": [
      "100%|██████████| 80/80 [00:05<00:00, 13.39it/s]\n"
     ]
    },
    {
     "name": "stdout",
     "output_type": "stream",
     "text": [
      "Saving results in T:\\YuLab\\Video\\Naveed\\GPS_20_ThreeFPHoldSRTProbe\\20240802\\Init\\Clips...\n",
      "Saving csv poses!\n",
      "Starting to analyze %  T:/YuLab/Video/Naveed/GPS_20_ThreeFPHoldSRTProbe/20240802/Init/Clips/Naveed_20240802_Trial071_InitView.avi\n",
      "Loading  T:/YuLab/Video/Naveed/GPS_20_ThreeFPHoldSRTProbe/20240802/Init/Clips/Naveed_20240802_Trial071_InitView.avi\n",
      "Duration of video [s]:  4.0 , recorded with  20.0 fps!\n",
      "Overall # of frames:  80  found with (before cropping) frame dimensions:  1280 1024\n",
      "Starting to extract posture\n"
     ]
    },
    {
     "name": "stderr",
     "output_type": "stream",
     "text": [
      "100%|██████████| 80/80 [00:05<00:00, 14.03it/s]\n"
     ]
    },
    {
     "name": "stdout",
     "output_type": "stream",
     "text": [
      "Saving results in T:\\YuLab\\Video\\Naveed\\GPS_20_ThreeFPHoldSRTProbe\\20240802\\Init\\Clips...\n",
      "Saving csv poses!\n",
      "Starting to analyze %  T:/YuLab/Video/Naveed/GPS_20_ThreeFPHoldSRTProbe/20240802/Init/Clips/Naveed_20240802_Trial072_InitView.avi\n",
      "Loading  T:/YuLab/Video/Naveed/GPS_20_ThreeFPHoldSRTProbe/20240802/Init/Clips/Naveed_20240802_Trial072_InitView.avi\n",
      "Duration of video [s]:  4.0 , recorded with  20.0 fps!\n",
      "Overall # of frames:  80  found with (before cropping) frame dimensions:  1280 1024\n",
      "Starting to extract posture\n"
     ]
    },
    {
     "name": "stderr",
     "output_type": "stream",
     "text": [
      "100%|██████████| 80/80 [00:05<00:00, 13.64it/s]\n"
     ]
    },
    {
     "name": "stdout",
     "output_type": "stream",
     "text": [
      "Saving results in T:\\YuLab\\Video\\Naveed\\GPS_20_ThreeFPHoldSRTProbe\\20240802\\Init\\Clips...\n",
      "Saving csv poses!\n",
      "Starting to analyze %  T:/YuLab/Video/Naveed/GPS_20_ThreeFPHoldSRTProbe/20240802/Init/Clips/Naveed_20240802_Trial073_InitView.avi\n",
      "Loading  T:/YuLab/Video/Naveed/GPS_20_ThreeFPHoldSRTProbe/20240802/Init/Clips/Naveed_20240802_Trial073_InitView.avi\n",
      "Duration of video [s]:  4.0 , recorded with  20.0 fps!\n",
      "Overall # of frames:  80  found with (before cropping) frame dimensions:  1280 1024\n",
      "Starting to extract posture\n"
     ]
    },
    {
     "name": "stderr",
     "output_type": "stream",
     "text": [
      "100%|██████████| 80/80 [00:05<00:00, 13.82it/s]\n"
     ]
    },
    {
     "name": "stdout",
     "output_type": "stream",
     "text": [
      "Saving results in T:\\YuLab\\Video\\Naveed\\GPS_20_ThreeFPHoldSRTProbe\\20240802\\Init\\Clips...\n",
      "Saving csv poses!\n",
      "Starting to analyze %  T:/YuLab/Video/Naveed/GPS_20_ThreeFPHoldSRTProbe/20240802/Init/Clips/Naveed_20240802_Trial074_InitView.avi\n",
      "Loading  T:/YuLab/Video/Naveed/GPS_20_ThreeFPHoldSRTProbe/20240802/Init/Clips/Naveed_20240802_Trial074_InitView.avi\n",
      "Duration of video [s]:  4.0 , recorded with  20.0 fps!\n",
      "Overall # of frames:  80  found with (before cropping) frame dimensions:  1280 1024\n",
      "Starting to extract posture\n"
     ]
    },
    {
     "name": "stderr",
     "output_type": "stream",
     "text": [
      "100%|██████████| 80/80 [00:05<00:00, 13.65it/s]\n"
     ]
    },
    {
     "name": "stdout",
     "output_type": "stream",
     "text": [
      "Saving results in T:\\YuLab\\Video\\Naveed\\GPS_20_ThreeFPHoldSRTProbe\\20240802\\Init\\Clips...\n",
      "Saving csv poses!\n",
      "Starting to analyze %  T:/YuLab/Video/Naveed/GPS_20_ThreeFPHoldSRTProbe/20240802/Init/Clips/Naveed_20240802_Trial075_InitView.avi\n",
      "Loading  T:/YuLab/Video/Naveed/GPS_20_ThreeFPHoldSRTProbe/20240802/Init/Clips/Naveed_20240802_Trial075_InitView.avi\n",
      "Duration of video [s]:  4.0 , recorded with  20.0 fps!\n",
      "Overall # of frames:  80  found with (before cropping) frame dimensions:  1280 1024\n",
      "Starting to extract posture\n"
     ]
    },
    {
     "name": "stderr",
     "output_type": "stream",
     "text": [
      "100%|██████████| 80/80 [00:05<00:00, 14.20it/s]\n"
     ]
    },
    {
     "name": "stdout",
     "output_type": "stream",
     "text": [
      "Saving results in T:\\YuLab\\Video\\Naveed\\GPS_20_ThreeFPHoldSRTProbe\\20240802\\Init\\Clips...\n",
      "Saving csv poses!\n",
      "Starting to analyze %  T:/YuLab/Video/Naveed/GPS_20_ThreeFPHoldSRTProbe/20240802/Init/Clips/Naveed_20240802_Trial076_InitView.avi\n",
      "Loading  T:/YuLab/Video/Naveed/GPS_20_ThreeFPHoldSRTProbe/20240802/Init/Clips/Naveed_20240802_Trial076_InitView.avi\n",
      "Duration of video [s]:  4.0 , recorded with  20.0 fps!\n",
      "Overall # of frames:  80  found with (before cropping) frame dimensions:  1280 1024\n",
      "Starting to extract posture\n"
     ]
    },
    {
     "name": "stderr",
     "output_type": "stream",
     "text": [
      "100%|██████████| 80/80 [00:05<00:00, 13.53it/s]\n"
     ]
    },
    {
     "name": "stdout",
     "output_type": "stream",
     "text": [
      "Saving results in T:\\YuLab\\Video\\Naveed\\GPS_20_ThreeFPHoldSRTProbe\\20240802\\Init\\Clips...\n",
      "Saving csv poses!\n",
      "Starting to analyze %  T:/YuLab/Video/Naveed/GPS_20_ThreeFPHoldSRTProbe/20240802/Init/Clips/Naveed_20240802_Trial077_InitView.avi\n",
      "Loading  T:/YuLab/Video/Naveed/GPS_20_ThreeFPHoldSRTProbe/20240802/Init/Clips/Naveed_20240802_Trial077_InitView.avi\n",
      "Duration of video [s]:  4.0 , recorded with  20.0 fps!\n",
      "Overall # of frames:  80  found with (before cropping) frame dimensions:  1280 1024\n",
      "Starting to extract posture\n"
     ]
    },
    {
     "name": "stderr",
     "output_type": "stream",
     "text": [
      "100%|██████████| 80/80 [00:05<00:00, 13.90it/s]\n"
     ]
    },
    {
     "name": "stdout",
     "output_type": "stream",
     "text": [
      "Saving results in T:\\YuLab\\Video\\Naveed\\GPS_20_ThreeFPHoldSRTProbe\\20240802\\Init\\Clips...\n",
      "Saving csv poses!\n",
      "Starting to analyze %  T:/YuLab/Video/Naveed/GPS_20_ThreeFPHoldSRTProbe/20240802/Init/Clips/Naveed_20240802_Trial078_InitView.avi\n",
      "Loading  T:/YuLab/Video/Naveed/GPS_20_ThreeFPHoldSRTProbe/20240802/Init/Clips/Naveed_20240802_Trial078_InitView.avi\n",
      "Duration of video [s]:  4.0 , recorded with  20.0 fps!\n",
      "Overall # of frames:  80  found with (before cropping) frame dimensions:  1280 1024\n",
      "Starting to extract posture\n"
     ]
    },
    {
     "name": "stderr",
     "output_type": "stream",
     "text": [
      "100%|██████████| 80/80 [00:05<00:00, 13.77it/s]\n"
     ]
    },
    {
     "name": "stdout",
     "output_type": "stream",
     "text": [
      "Saving results in T:\\YuLab\\Video\\Naveed\\GPS_20_ThreeFPHoldSRTProbe\\20240802\\Init\\Clips...\n",
      "Saving csv poses!\n",
      "Starting to analyze %  T:/YuLab/Video/Naveed/GPS_20_ThreeFPHoldSRTProbe/20240802/Init/Clips/Naveed_20240802_Trial079_InitView.avi\n",
      "Loading  T:/YuLab/Video/Naveed/GPS_20_ThreeFPHoldSRTProbe/20240802/Init/Clips/Naveed_20240802_Trial079_InitView.avi\n",
      "Duration of video [s]:  4.0 , recorded with  20.0 fps!\n",
      "Overall # of frames:  80  found with (before cropping) frame dimensions:  1280 1024\n",
      "Starting to extract posture\n"
     ]
    },
    {
     "name": "stderr",
     "output_type": "stream",
     "text": [
      "100%|██████████| 80/80 [00:05<00:00, 14.14it/s]\n"
     ]
    },
    {
     "name": "stdout",
     "output_type": "stream",
     "text": [
      "Saving results in T:\\YuLab\\Video\\Naveed\\GPS_20_ThreeFPHoldSRTProbe\\20240802\\Init\\Clips...\n",
      "Saving csv poses!\n",
      "Starting to analyze %  T:/YuLab/Video/Naveed/GPS_20_ThreeFPHoldSRTProbe/20240802/Init/Clips/Naveed_20240802_Trial080_InitView.avi\n",
      "Loading  T:/YuLab/Video/Naveed/GPS_20_ThreeFPHoldSRTProbe/20240802/Init/Clips/Naveed_20240802_Trial080_InitView.avi\n",
      "Duration of video [s]:  4.0 , recorded with  20.0 fps!\n",
      "Overall # of frames:  80  found with (before cropping) frame dimensions:  1280 1024\n",
      "Starting to extract posture\n"
     ]
    },
    {
     "name": "stderr",
     "output_type": "stream",
     "text": [
      "100%|██████████| 80/80 [00:05<00:00, 13.99it/s]\n"
     ]
    },
    {
     "name": "stdout",
     "output_type": "stream",
     "text": [
      "Saving results in T:\\YuLab\\Video\\Naveed\\GPS_20_ThreeFPHoldSRTProbe\\20240802\\Init\\Clips...\n",
      "Saving csv poses!\n",
      "Starting to analyze %  T:/YuLab/Video/Naveed/GPS_20_ThreeFPHoldSRTProbe/20240802/Init/Clips/Naveed_20240802_Trial081_InitView.avi\n",
      "Loading  T:/YuLab/Video/Naveed/GPS_20_ThreeFPHoldSRTProbe/20240802/Init/Clips/Naveed_20240802_Trial081_InitView.avi\n",
      "Duration of video [s]:  4.0 , recorded with  20.0 fps!\n",
      "Overall # of frames:  80  found with (before cropping) frame dimensions:  1280 1024\n",
      "Starting to extract posture\n"
     ]
    },
    {
     "name": "stderr",
     "output_type": "stream",
     "text": [
      "100%|██████████| 80/80 [00:05<00:00, 14.06it/s]\n"
     ]
    },
    {
     "name": "stdout",
     "output_type": "stream",
     "text": [
      "Saving results in T:\\YuLab\\Video\\Naveed\\GPS_20_ThreeFPHoldSRTProbe\\20240802\\Init\\Clips...\n",
      "Saving csv poses!\n",
      "Starting to analyze %  T:/YuLab/Video/Naveed/GPS_20_ThreeFPHoldSRTProbe/20240802/Init/Clips/Naveed_20240802_Trial082_InitView.avi\n",
      "Loading  T:/YuLab/Video/Naveed/GPS_20_ThreeFPHoldSRTProbe/20240802/Init/Clips/Naveed_20240802_Trial082_InitView.avi\n",
      "Duration of video [s]:  4.05 , recorded with  20.0 fps!\n",
      "Overall # of frames:  81  found with (before cropping) frame dimensions:  1280 1024\n",
      "Starting to extract posture\n"
     ]
    },
    {
     "name": "stderr",
     "output_type": "stream",
     "text": [
      "100%|██████████| 81/81 [00:06<00:00, 13.20it/s]\n"
     ]
    },
    {
     "name": "stdout",
     "output_type": "stream",
     "text": [
      "Saving results in T:\\YuLab\\Video\\Naveed\\GPS_20_ThreeFPHoldSRTProbe\\20240802\\Init\\Clips...\n",
      "Saving csv poses!\n",
      "Starting to analyze %  T:/YuLab/Video/Naveed/GPS_20_ThreeFPHoldSRTProbe/20240802/Init/Clips/Naveed_20240802_Trial083_InitView.avi\n",
      "Loading  T:/YuLab/Video/Naveed/GPS_20_ThreeFPHoldSRTProbe/20240802/Init/Clips/Naveed_20240802_Trial083_InitView.avi\n",
      "Duration of video [s]:  4.0 , recorded with  20.0 fps!\n",
      "Overall # of frames:  80  found with (before cropping) frame dimensions:  1280 1024\n",
      "Starting to extract posture\n"
     ]
    },
    {
     "name": "stderr",
     "output_type": "stream",
     "text": [
      "100%|██████████| 80/80 [00:05<00:00, 14.19it/s]\n"
     ]
    },
    {
     "name": "stdout",
     "output_type": "stream",
     "text": [
      "Saving results in T:\\YuLab\\Video\\Naveed\\GPS_20_ThreeFPHoldSRTProbe\\20240802\\Init\\Clips...\n",
      "Saving csv poses!\n",
      "Starting to analyze %  T:/YuLab/Video/Naveed/GPS_20_ThreeFPHoldSRTProbe/20240802/Init/Clips/Naveed_20240802_Trial084_InitView.avi\n",
      "Loading  T:/YuLab/Video/Naveed/GPS_20_ThreeFPHoldSRTProbe/20240802/Init/Clips/Naveed_20240802_Trial084_InitView.avi\n",
      "Duration of video [s]:  4.0 , recorded with  20.0 fps!\n",
      "Overall # of frames:  80  found with (before cropping) frame dimensions:  1280 1024\n",
      "Starting to extract posture\n"
     ]
    },
    {
     "name": "stderr",
     "output_type": "stream",
     "text": [
      "100%|██████████| 80/80 [00:05<00:00, 14.06it/s]\n"
     ]
    },
    {
     "name": "stdout",
     "output_type": "stream",
     "text": [
      "Saving results in T:\\YuLab\\Video\\Naveed\\GPS_20_ThreeFPHoldSRTProbe\\20240802\\Init\\Clips...\n",
      "Saving csv poses!\n",
      "Starting to analyze %  T:/YuLab/Video/Naveed/GPS_20_ThreeFPHoldSRTProbe/20240802/Init/Clips/Naveed_20240802_Trial085_InitView.avi\n",
      "Loading  T:/YuLab/Video/Naveed/GPS_20_ThreeFPHoldSRTProbe/20240802/Init/Clips/Naveed_20240802_Trial085_InitView.avi\n",
      "Duration of video [s]:  4.0 , recorded with  20.0 fps!\n",
      "Overall # of frames:  80  found with (before cropping) frame dimensions:  1280 1024\n",
      "Starting to extract posture\n"
     ]
    },
    {
     "name": "stderr",
     "output_type": "stream",
     "text": [
      "100%|██████████| 80/80 [00:05<00:00, 14.37it/s]\n"
     ]
    },
    {
     "name": "stdout",
     "output_type": "stream",
     "text": [
      "Saving results in T:\\YuLab\\Video\\Naveed\\GPS_20_ThreeFPHoldSRTProbe\\20240802\\Init\\Clips...\n",
      "Saving csv poses!\n",
      "Starting to analyze %  T:/YuLab/Video/Naveed/GPS_20_ThreeFPHoldSRTProbe/20240802/Init/Clips/Naveed_20240802_Trial086_InitView.avi\n",
      "Loading  T:/YuLab/Video/Naveed/GPS_20_ThreeFPHoldSRTProbe/20240802/Init/Clips/Naveed_20240802_Trial086_InitView.avi\n",
      "Duration of video [s]:  4.0 , recorded with  20.0 fps!\n",
      "Overall # of frames:  80  found with (before cropping) frame dimensions:  1280 1024\n",
      "Starting to extract posture\n"
     ]
    },
    {
     "name": "stderr",
     "output_type": "stream",
     "text": [
      "100%|██████████| 80/80 [00:05<00:00, 13.62it/s]\n"
     ]
    },
    {
     "name": "stdout",
     "output_type": "stream",
     "text": [
      "Saving results in T:\\YuLab\\Video\\Naveed\\GPS_20_ThreeFPHoldSRTProbe\\20240802\\Init\\Clips...\n",
      "Saving csv poses!\n",
      "Starting to analyze %  T:/YuLab/Video/Naveed/GPS_20_ThreeFPHoldSRTProbe/20240802/Init/Clips/Naveed_20240802_Trial087_InitView.avi\n",
      "Loading  T:/YuLab/Video/Naveed/GPS_20_ThreeFPHoldSRTProbe/20240802/Init/Clips/Naveed_20240802_Trial087_InitView.avi\n",
      "Duration of video [s]:  4.0 , recorded with  20.0 fps!\n",
      "Overall # of frames:  80  found with (before cropping) frame dimensions:  1280 1024\n",
      "Starting to extract posture\n"
     ]
    },
    {
     "name": "stderr",
     "output_type": "stream",
     "text": [
      "100%|██████████| 80/80 [00:05<00:00, 14.06it/s]\n"
     ]
    },
    {
     "name": "stdout",
     "output_type": "stream",
     "text": [
      "Saving results in T:\\YuLab\\Video\\Naveed\\GPS_20_ThreeFPHoldSRTProbe\\20240802\\Init\\Clips...\n",
      "Saving csv poses!\n",
      "Starting to analyze %  T:/YuLab/Video/Naveed/GPS_20_ThreeFPHoldSRTProbe/20240802/Init/Clips/Naveed_20240802_Trial088_InitView.avi\n",
      "Loading  T:/YuLab/Video/Naveed/GPS_20_ThreeFPHoldSRTProbe/20240802/Init/Clips/Naveed_20240802_Trial088_InitView.avi\n",
      "Duration of video [s]:  4.0 , recorded with  20.0 fps!\n",
      "Overall # of frames:  80  found with (before cropping) frame dimensions:  1280 1024\n",
      "Starting to extract posture\n"
     ]
    },
    {
     "name": "stderr",
     "output_type": "stream",
     "text": [
      "100%|██████████| 80/80 [00:05<00:00, 13.90it/s]\n"
     ]
    },
    {
     "name": "stdout",
     "output_type": "stream",
     "text": [
      "Saving results in T:\\YuLab\\Video\\Naveed\\GPS_20_ThreeFPHoldSRTProbe\\20240802\\Init\\Clips...\n",
      "Saving csv poses!\n",
      "Starting to analyze %  T:/YuLab/Video/Naveed/GPS_20_ThreeFPHoldSRTProbe/20240802/Init/Clips/Naveed_20240802_Trial089_InitView.avi\n",
      "Loading  T:/YuLab/Video/Naveed/GPS_20_ThreeFPHoldSRTProbe/20240802/Init/Clips/Naveed_20240802_Trial089_InitView.avi\n",
      "Duration of video [s]:  4.0 , recorded with  20.0 fps!\n",
      "Overall # of frames:  80  found with (before cropping) frame dimensions:  1280 1024\n",
      "Starting to extract posture\n"
     ]
    },
    {
     "name": "stderr",
     "output_type": "stream",
     "text": [
      "100%|██████████| 80/80 [00:05<00:00, 14.08it/s]\n"
     ]
    },
    {
     "name": "stdout",
     "output_type": "stream",
     "text": [
      "Saving results in T:\\YuLab\\Video\\Naveed\\GPS_20_ThreeFPHoldSRTProbe\\20240802\\Init\\Clips...\n",
      "Saving csv poses!\n",
      "Starting to analyze %  T:/YuLab/Video/Naveed/GPS_20_ThreeFPHoldSRTProbe/20240802/Init/Clips/Naveed_20240802_Trial090_InitView.avi\n",
      "Loading  T:/YuLab/Video/Naveed/GPS_20_ThreeFPHoldSRTProbe/20240802/Init/Clips/Naveed_20240802_Trial090_InitView.avi\n",
      "Duration of video [s]:  4.05 , recorded with  20.0 fps!\n",
      "Overall # of frames:  81  found with (before cropping) frame dimensions:  1280 1024\n",
      "Starting to extract posture\n"
     ]
    },
    {
     "name": "stderr",
     "output_type": "stream",
     "text": [
      "100%|██████████| 81/81 [00:06<00:00, 13.08it/s]\n"
     ]
    },
    {
     "name": "stdout",
     "output_type": "stream",
     "text": [
      "Saving results in T:\\YuLab\\Video\\Naveed\\GPS_20_ThreeFPHoldSRTProbe\\20240802\\Init\\Clips...\n",
      "Saving csv poses!\n",
      "Starting to analyze %  T:/YuLab/Video/Naveed/GPS_20_ThreeFPHoldSRTProbe/20240802/Init/Clips/Naveed_20240802_Trial091_InitView.avi\n",
      "Loading  T:/YuLab/Video/Naveed/GPS_20_ThreeFPHoldSRTProbe/20240802/Init/Clips/Naveed_20240802_Trial091_InitView.avi\n",
      "Duration of video [s]:  4.0 , recorded with  20.0 fps!\n",
      "Overall # of frames:  80  found with (before cropping) frame dimensions:  1280 1024\n",
      "Starting to extract posture\n"
     ]
    },
    {
     "name": "stderr",
     "output_type": "stream",
     "text": [
      "100%|██████████| 80/80 [00:05<00:00, 14.10it/s]\n"
     ]
    },
    {
     "name": "stdout",
     "output_type": "stream",
     "text": [
      "Saving results in T:\\YuLab\\Video\\Naveed\\GPS_20_ThreeFPHoldSRTProbe\\20240802\\Init\\Clips...\n",
      "Saving csv poses!\n",
      "Starting to analyze %  T:/YuLab/Video/Naveed/GPS_20_ThreeFPHoldSRTProbe/20240802/Init/Clips/Naveed_20240802_Trial092_InitView.avi\n",
      "Loading  T:/YuLab/Video/Naveed/GPS_20_ThreeFPHoldSRTProbe/20240802/Init/Clips/Naveed_20240802_Trial092_InitView.avi\n",
      "Duration of video [s]:  4.0 , recorded with  20.0 fps!\n",
      "Overall # of frames:  80  found with (before cropping) frame dimensions:  1280 1024\n",
      "Starting to extract posture\n"
     ]
    },
    {
     "name": "stderr",
     "output_type": "stream",
     "text": [
      "100%|██████████| 80/80 [00:05<00:00, 13.58it/s]\n"
     ]
    },
    {
     "name": "stdout",
     "output_type": "stream",
     "text": [
      "Saving results in T:\\YuLab\\Video\\Naveed\\GPS_20_ThreeFPHoldSRTProbe\\20240802\\Init\\Clips...\n",
      "Saving csv poses!\n",
      "Starting to analyze %  T:/YuLab/Video/Naveed/GPS_20_ThreeFPHoldSRTProbe/20240802/Init/Clips/Naveed_20240802_Trial093_InitView.avi\n",
      "Loading  T:/YuLab/Video/Naveed/GPS_20_ThreeFPHoldSRTProbe/20240802/Init/Clips/Naveed_20240802_Trial093_InitView.avi\n",
      "Duration of video [s]:  4.0 , recorded with  20.0 fps!\n",
      "Overall # of frames:  80  found with (before cropping) frame dimensions:  1280 1024\n",
      "Starting to extract posture\n"
     ]
    },
    {
     "name": "stderr",
     "output_type": "stream",
     "text": [
      "100%|██████████| 80/80 [00:05<00:00, 14.06it/s]\n"
     ]
    },
    {
     "name": "stdout",
     "output_type": "stream",
     "text": [
      "Saving results in T:\\YuLab\\Video\\Naveed\\GPS_20_ThreeFPHoldSRTProbe\\20240802\\Init\\Clips...\n",
      "Saving csv poses!\n",
      "Starting to analyze %  T:/YuLab/Video/Naveed/GPS_20_ThreeFPHoldSRTProbe/20240802/Init/Clips/Naveed_20240802_Trial094_InitView.avi\n",
      "Loading  T:/YuLab/Video/Naveed/GPS_20_ThreeFPHoldSRTProbe/20240802/Init/Clips/Naveed_20240802_Trial094_InitView.avi\n",
      "Duration of video [s]:  4.0 , recorded with  20.0 fps!\n",
      "Overall # of frames:  80  found with (before cropping) frame dimensions:  1280 1024\n",
      "Starting to extract posture\n"
     ]
    },
    {
     "name": "stderr",
     "output_type": "stream",
     "text": [
      "100%|██████████| 80/80 [00:05<00:00, 13.61it/s]\n"
     ]
    },
    {
     "name": "stdout",
     "output_type": "stream",
     "text": [
      "Saving results in T:\\YuLab\\Video\\Naveed\\GPS_20_ThreeFPHoldSRTProbe\\20240802\\Init\\Clips...\n",
      "Saving csv poses!\n",
      "Starting to analyze %  T:/YuLab/Video/Naveed/GPS_20_ThreeFPHoldSRTProbe/20240802/Init/Clips/Naveed_20240802_Trial095_InitView.avi\n",
      "Loading  T:/YuLab/Video/Naveed/GPS_20_ThreeFPHoldSRTProbe/20240802/Init/Clips/Naveed_20240802_Trial095_InitView.avi\n",
      "Duration of video [s]:  4.0 , recorded with  20.0 fps!\n",
      "Overall # of frames:  80  found with (before cropping) frame dimensions:  1280 1024\n",
      "Starting to extract posture\n"
     ]
    },
    {
     "name": "stderr",
     "output_type": "stream",
     "text": [
      "100%|██████████| 80/80 [00:05<00:00, 14.16it/s]\n"
     ]
    },
    {
     "name": "stdout",
     "output_type": "stream",
     "text": [
      "Saving results in T:\\YuLab\\Video\\Naveed\\GPS_20_ThreeFPHoldSRTProbe\\20240802\\Init\\Clips...\n",
      "Saving csv poses!\n",
      "Starting to analyze %  T:/YuLab/Video/Naveed/GPS_20_ThreeFPHoldSRTProbe/20240802/Init/Clips/Naveed_20240802_Trial096_InitView.avi\n",
      "Loading  T:/YuLab/Video/Naveed/GPS_20_ThreeFPHoldSRTProbe/20240802/Init/Clips/Naveed_20240802_Trial096_InitView.avi\n",
      "Duration of video [s]:  4.0 , recorded with  20.0 fps!\n",
      "Overall # of frames:  80  found with (before cropping) frame dimensions:  1280 1024\n",
      "Starting to extract posture\n"
     ]
    },
    {
     "name": "stderr",
     "output_type": "stream",
     "text": [
      "100%|██████████| 80/80 [00:05<00:00, 13.91it/s]\n"
     ]
    },
    {
     "name": "stdout",
     "output_type": "stream",
     "text": [
      "Saving results in T:\\YuLab\\Video\\Naveed\\GPS_20_ThreeFPHoldSRTProbe\\20240802\\Init\\Clips...\n",
      "Saving csv poses!\n",
      "Starting to analyze %  T:/YuLab/Video/Naveed/GPS_20_ThreeFPHoldSRTProbe/20240802/Init/Clips/Naveed_20240802_Trial097_InitView.avi\n",
      "Loading  T:/YuLab/Video/Naveed/GPS_20_ThreeFPHoldSRTProbe/20240802/Init/Clips/Naveed_20240802_Trial097_InitView.avi\n",
      "Duration of video [s]:  4.0 , recorded with  20.0 fps!\n",
      "Overall # of frames:  80  found with (before cropping) frame dimensions:  1280 1024\n",
      "Starting to extract posture\n"
     ]
    },
    {
     "name": "stderr",
     "output_type": "stream",
     "text": [
      "100%|██████████| 80/80 [00:05<00:00, 14.11it/s]\n"
     ]
    },
    {
     "name": "stdout",
     "output_type": "stream",
     "text": [
      "Saving results in T:\\YuLab\\Video\\Naveed\\GPS_20_ThreeFPHoldSRTProbe\\20240802\\Init\\Clips...\n",
      "Saving csv poses!\n",
      "Starting to analyze %  T:/YuLab/Video/Naveed/GPS_20_ThreeFPHoldSRTProbe/20240802/Init/Clips/Naveed_20240802_Trial098_InitView.avi\n",
      "Loading  T:/YuLab/Video/Naveed/GPS_20_ThreeFPHoldSRTProbe/20240802/Init/Clips/Naveed_20240802_Trial098_InitView.avi\n",
      "Duration of video [s]:  4.0 , recorded with  20.0 fps!\n",
      "Overall # of frames:  80  found with (before cropping) frame dimensions:  1280 1024\n",
      "Starting to extract posture\n"
     ]
    },
    {
     "name": "stderr",
     "output_type": "stream",
     "text": [
      "100%|██████████| 80/80 [00:05<00:00, 14.11it/s]\n"
     ]
    },
    {
     "name": "stdout",
     "output_type": "stream",
     "text": [
      "Saving results in T:\\YuLab\\Video\\Naveed\\GPS_20_ThreeFPHoldSRTProbe\\20240802\\Init\\Clips...\n",
      "Saving csv poses!\n",
      "Starting to analyze %  T:/YuLab/Video/Naveed/GPS_20_ThreeFPHoldSRTProbe/20240802/Init/Clips/Naveed_20240802_Trial099_InitView.avi\n",
      "Loading  T:/YuLab/Video/Naveed/GPS_20_ThreeFPHoldSRTProbe/20240802/Init/Clips/Naveed_20240802_Trial099_InitView.avi\n",
      "Duration of video [s]:  4.0 , recorded with  20.0 fps!\n",
      "Overall # of frames:  80  found with (before cropping) frame dimensions:  1280 1024\n",
      "Starting to extract posture\n"
     ]
    },
    {
     "name": "stderr",
     "output_type": "stream",
     "text": [
      "100%|██████████| 80/80 [00:05<00:00, 14.15it/s]\n"
     ]
    },
    {
     "name": "stdout",
     "output_type": "stream",
     "text": [
      "Saving results in T:\\YuLab\\Video\\Naveed\\GPS_20_ThreeFPHoldSRTProbe\\20240802\\Init\\Clips...\n",
      "Saving csv poses!\n",
      "Starting to analyze %  T:/YuLab/Video/Naveed/GPS_20_ThreeFPHoldSRTProbe/20240802/Init/Clips/Naveed_20240802_Trial100_InitView.avi\n",
      "Loading  T:/YuLab/Video/Naveed/GPS_20_ThreeFPHoldSRTProbe/20240802/Init/Clips/Naveed_20240802_Trial100_InitView.avi\n",
      "Duration of video [s]:  4.0 , recorded with  20.0 fps!\n",
      "Overall # of frames:  80  found with (before cropping) frame dimensions:  1280 1024\n",
      "Starting to extract posture\n"
     ]
    },
    {
     "name": "stderr",
     "output_type": "stream",
     "text": [
      "100%|██████████| 80/80 [00:05<00:00, 14.25it/s]\n"
     ]
    },
    {
     "name": "stdout",
     "output_type": "stream",
     "text": [
      "Saving results in T:\\YuLab\\Video\\Naveed\\GPS_20_ThreeFPHoldSRTProbe\\20240802\\Init\\Clips...\n",
      "Saving csv poses!\n",
      "Starting to analyze %  T:/YuLab/Video/Naveed/GPS_20_ThreeFPHoldSRTProbe/20240802/Init/Clips/Naveed_20240802_Trial101_InitView.avi\n",
      "Loading  T:/YuLab/Video/Naveed/GPS_20_ThreeFPHoldSRTProbe/20240802/Init/Clips/Naveed_20240802_Trial101_InitView.avi\n",
      "Duration of video [s]:  4.0 , recorded with  20.0 fps!\n",
      "Overall # of frames:  80  found with (before cropping) frame dimensions:  1280 1024\n",
      "Starting to extract posture\n"
     ]
    },
    {
     "name": "stderr",
     "output_type": "stream",
     "text": [
      "100%|██████████| 80/80 [00:05<00:00, 13.76it/s]\n"
     ]
    },
    {
     "name": "stdout",
     "output_type": "stream",
     "text": [
      "Saving results in T:\\YuLab\\Video\\Naveed\\GPS_20_ThreeFPHoldSRTProbe\\20240802\\Init\\Clips...\n",
      "Saving csv poses!\n",
      "Starting to analyze %  T:/YuLab/Video/Naveed/GPS_20_ThreeFPHoldSRTProbe/20240802/Init/Clips/Naveed_20240802_Trial102_InitView.avi\n",
      "Loading  T:/YuLab/Video/Naveed/GPS_20_ThreeFPHoldSRTProbe/20240802/Init/Clips/Naveed_20240802_Trial102_InitView.avi\n",
      "Duration of video [s]:  4.0 , recorded with  20.0 fps!\n",
      "Overall # of frames:  80  found with (before cropping) frame dimensions:  1280 1024\n",
      "Starting to extract posture\n"
     ]
    },
    {
     "name": "stderr",
     "output_type": "stream",
     "text": [
      "100%|██████████| 80/80 [00:05<00:00, 14.14it/s]\n"
     ]
    },
    {
     "name": "stdout",
     "output_type": "stream",
     "text": [
      "Saving results in T:\\YuLab\\Video\\Naveed\\GPS_20_ThreeFPHoldSRTProbe\\20240802\\Init\\Clips...\n",
      "Saving csv poses!\n",
      "Starting to analyze %  T:/YuLab/Video/Naveed/GPS_20_ThreeFPHoldSRTProbe/20240802/Init/Clips/Naveed_20240802_Trial103_InitView.avi\n",
      "Loading  T:/YuLab/Video/Naveed/GPS_20_ThreeFPHoldSRTProbe/20240802/Init/Clips/Naveed_20240802_Trial103_InitView.avi\n",
      "Duration of video [s]:  4.0 , recorded with  20.0 fps!\n",
      "Overall # of frames:  80  found with (before cropping) frame dimensions:  1280 1024\n",
      "Starting to extract posture\n"
     ]
    },
    {
     "name": "stderr",
     "output_type": "stream",
     "text": [
      "100%|██████████| 80/80 [00:05<00:00, 14.11it/s]\n"
     ]
    },
    {
     "name": "stdout",
     "output_type": "stream",
     "text": [
      "Saving results in T:\\YuLab\\Video\\Naveed\\GPS_20_ThreeFPHoldSRTProbe\\20240802\\Init\\Clips...\n",
      "Saving csv poses!\n",
      "Starting to analyze %  T:/YuLab/Video/Naveed/GPS_20_ThreeFPHoldSRTProbe/20240802/Init/Clips/Naveed_20240802_Trial104_InitView.avi\n",
      "Loading  T:/YuLab/Video/Naveed/GPS_20_ThreeFPHoldSRTProbe/20240802/Init/Clips/Naveed_20240802_Trial104_InitView.avi\n",
      "Duration of video [s]:  4.0 , recorded with  20.0 fps!\n",
      "Overall # of frames:  80  found with (before cropping) frame dimensions:  1280 1024\n",
      "Starting to extract posture\n"
     ]
    },
    {
     "name": "stderr",
     "output_type": "stream",
     "text": [
      "100%|██████████| 80/80 [00:05<00:00, 13.72it/s]\n"
     ]
    },
    {
     "name": "stdout",
     "output_type": "stream",
     "text": [
      "Saving results in T:\\YuLab\\Video\\Naveed\\GPS_20_ThreeFPHoldSRTProbe\\20240802\\Init\\Clips...\n",
      "Saving csv poses!\n",
      "Starting to analyze %  T:/YuLab/Video/Naveed/GPS_20_ThreeFPHoldSRTProbe/20240802/Init/Clips/Naveed_20240802_Trial105_InitView.avi\n",
      "Loading  T:/YuLab/Video/Naveed/GPS_20_ThreeFPHoldSRTProbe/20240802/Init/Clips/Naveed_20240802_Trial105_InitView.avi\n",
      "Duration of video [s]:  4.0 , recorded with  20.0 fps!\n",
      "Overall # of frames:  80  found with (before cropping) frame dimensions:  1280 1024\n",
      "Starting to extract posture\n"
     ]
    },
    {
     "name": "stderr",
     "output_type": "stream",
     "text": [
      "100%|██████████| 80/80 [00:05<00:00, 14.14it/s]\n"
     ]
    },
    {
     "name": "stdout",
     "output_type": "stream",
     "text": [
      "Saving results in T:\\YuLab\\Video\\Naveed\\GPS_20_ThreeFPHoldSRTProbe\\20240802\\Init\\Clips...\n",
      "Saving csv poses!\n",
      "Starting to analyze %  T:/YuLab/Video/Naveed/GPS_20_ThreeFPHoldSRTProbe/20240802/Init/Clips/Naveed_20240802_Trial106_InitView.avi\n",
      "Loading  T:/YuLab/Video/Naveed/GPS_20_ThreeFPHoldSRTProbe/20240802/Init/Clips/Naveed_20240802_Trial106_InitView.avi\n",
      "Duration of video [s]:  4.0 , recorded with  20.0 fps!\n",
      "Overall # of frames:  80  found with (before cropping) frame dimensions:  1280 1024\n",
      "Starting to extract posture\n"
     ]
    },
    {
     "name": "stderr",
     "output_type": "stream",
     "text": [
      "100%|██████████| 80/80 [00:05<00:00, 14.07it/s]\n"
     ]
    },
    {
     "name": "stdout",
     "output_type": "stream",
     "text": [
      "Saving results in T:\\YuLab\\Video\\Naveed\\GPS_20_ThreeFPHoldSRTProbe\\20240802\\Init\\Clips...\n",
      "Saving csv poses!\n",
      "Starting to analyze %  T:/YuLab/Video/Naveed/GPS_20_ThreeFPHoldSRTProbe/20240802/Init/Clips/Naveed_20240802_Trial107_InitView.avi\n",
      "Loading  T:/YuLab/Video/Naveed/GPS_20_ThreeFPHoldSRTProbe/20240802/Init/Clips/Naveed_20240802_Trial107_InitView.avi\n",
      "Duration of video [s]:  4.0 , recorded with  20.0 fps!\n",
      "Overall # of frames:  80  found with (before cropping) frame dimensions:  1280 1024\n",
      "Starting to extract posture\n"
     ]
    },
    {
     "name": "stderr",
     "output_type": "stream",
     "text": [
      "100%|██████████| 80/80 [00:05<00:00, 14.11it/s]\n"
     ]
    },
    {
     "name": "stdout",
     "output_type": "stream",
     "text": [
      "Saving results in T:\\YuLab\\Video\\Naveed\\GPS_20_ThreeFPHoldSRTProbe\\20240802\\Init\\Clips...\n",
      "Saving csv poses!\n",
      "Starting to analyze %  T:/YuLab/Video/Naveed/GPS_20_ThreeFPHoldSRTProbe/20240802/Init/Clips/Naveed_20240802_Trial108_InitView.avi\n",
      "Loading  T:/YuLab/Video/Naveed/GPS_20_ThreeFPHoldSRTProbe/20240802/Init/Clips/Naveed_20240802_Trial108_InitView.avi\n",
      "Duration of video [s]:  4.0 , recorded with  20.0 fps!\n",
      "Overall # of frames:  80  found with (before cropping) frame dimensions:  1280 1024\n",
      "Starting to extract posture\n"
     ]
    },
    {
     "name": "stderr",
     "output_type": "stream",
     "text": [
      "100%|██████████| 80/80 [00:05<00:00, 14.11it/s]\n"
     ]
    },
    {
     "name": "stdout",
     "output_type": "stream",
     "text": [
      "Saving results in T:\\YuLab\\Video\\Naveed\\GPS_20_ThreeFPHoldSRTProbe\\20240802\\Init\\Clips...\n",
      "Saving csv poses!\n",
      "Starting to analyze %  T:/YuLab/Video/Naveed/GPS_20_ThreeFPHoldSRTProbe/20240802/Init/Clips/Naveed_20240802_Trial109_InitView.avi\n",
      "Loading  T:/YuLab/Video/Naveed/GPS_20_ThreeFPHoldSRTProbe/20240802/Init/Clips/Naveed_20240802_Trial109_InitView.avi\n",
      "Duration of video [s]:  4.0 , recorded with  20.0 fps!\n",
      "Overall # of frames:  80  found with (before cropping) frame dimensions:  1280 1024\n",
      "Starting to extract posture\n"
     ]
    },
    {
     "name": "stderr",
     "output_type": "stream",
     "text": [
      "100%|██████████| 80/80 [00:05<00:00, 14.15it/s]\n"
     ]
    },
    {
     "name": "stdout",
     "output_type": "stream",
     "text": [
      "Saving results in T:\\YuLab\\Video\\Naveed\\GPS_20_ThreeFPHoldSRTProbe\\20240802\\Init\\Clips...\n",
      "Saving csv poses!\n",
      "Starting to analyze %  T:/YuLab/Video/Naveed/GPS_20_ThreeFPHoldSRTProbe/20240802/Init/Clips/Naveed_20240802_Trial110_InitView.avi\n",
      "Loading  T:/YuLab/Video/Naveed/GPS_20_ThreeFPHoldSRTProbe/20240802/Init/Clips/Naveed_20240802_Trial110_InitView.avi\n",
      "Duration of video [s]:  3.92 , recorded with  20.41 fps!\n",
      "Overall # of frames:  80  found with (before cropping) frame dimensions:  1280 1024\n",
      "Starting to extract posture\n"
     ]
    },
    {
     "name": "stderr",
     "output_type": "stream",
     "text": [
      "100%|██████████| 80/80 [00:05<00:00, 14.32it/s]\n"
     ]
    },
    {
     "name": "stdout",
     "output_type": "stream",
     "text": [
      "Saving results in T:\\YuLab\\Video\\Naveed\\GPS_20_ThreeFPHoldSRTProbe\\20240802\\Init\\Clips...\n",
      "Saving csv poses!\n",
      "Starting to analyze %  T:/YuLab/Video/Naveed/GPS_20_ThreeFPHoldSRTProbe/20240802/Init/Clips/Naveed_20240802_Trial111_InitView.avi\n",
      "Loading  T:/YuLab/Video/Naveed/GPS_20_ThreeFPHoldSRTProbe/20240802/Init/Clips/Naveed_20240802_Trial111_InitView.avi\n",
      "Duration of video [s]:  4.0 , recorded with  20.0 fps!\n",
      "Overall # of frames:  80  found with (before cropping) frame dimensions:  1280 1024\n",
      "Starting to extract posture\n"
     ]
    },
    {
     "name": "stderr",
     "output_type": "stream",
     "text": [
      "100%|██████████| 80/80 [00:05<00:00, 14.17it/s]\n"
     ]
    },
    {
     "name": "stdout",
     "output_type": "stream",
     "text": [
      "Saving results in T:\\YuLab\\Video\\Naveed\\GPS_20_ThreeFPHoldSRTProbe\\20240802\\Init\\Clips...\n",
      "Saving csv poses!\n",
      "Starting to analyze %  T:/YuLab/Video/Naveed/GPS_20_ThreeFPHoldSRTProbe/20240802/Init/Clips/Naveed_20240802_Trial112_InitView.avi\n",
      "Loading  T:/YuLab/Video/Naveed/GPS_20_ThreeFPHoldSRTProbe/20240802/Init/Clips/Naveed_20240802_Trial112_InitView.avi\n",
      "Duration of video [s]:  4.0 , recorded with  20.0 fps!\n",
      "Overall # of frames:  80  found with (before cropping) frame dimensions:  1280 1024\n",
      "Starting to extract posture\n"
     ]
    },
    {
     "name": "stderr",
     "output_type": "stream",
     "text": [
      "100%|██████████| 80/80 [00:05<00:00, 14.30it/s]\n"
     ]
    },
    {
     "name": "stdout",
     "output_type": "stream",
     "text": [
      "Saving results in T:\\YuLab\\Video\\Naveed\\GPS_20_ThreeFPHoldSRTProbe\\20240802\\Init\\Clips...\n",
      "Saving csv poses!\n",
      "Starting to analyze %  T:/YuLab/Video/Naveed/GPS_20_ThreeFPHoldSRTProbe/20240802/Init/Clips/Naveed_20240802_Trial113_InitView.avi\n",
      "Loading  T:/YuLab/Video/Naveed/GPS_20_ThreeFPHoldSRTProbe/20240802/Init/Clips/Naveed_20240802_Trial113_InitView.avi\n",
      "Duration of video [s]:  4.0 , recorded with  20.0 fps!\n",
      "Overall # of frames:  80  found with (before cropping) frame dimensions:  1280 1024\n",
      "Starting to extract posture\n"
     ]
    },
    {
     "name": "stderr",
     "output_type": "stream",
     "text": [
      "100%|██████████| 80/80 [00:05<00:00, 13.90it/s]\n"
     ]
    },
    {
     "name": "stdout",
     "output_type": "stream",
     "text": [
      "Saving results in T:\\YuLab\\Video\\Naveed\\GPS_20_ThreeFPHoldSRTProbe\\20240802\\Init\\Clips...\n",
      "Saving csv poses!\n",
      "Starting to analyze %  T:/YuLab/Video/Naveed/GPS_20_ThreeFPHoldSRTProbe/20240802/Init/Clips/Naveed_20240802_Trial114_InitView.avi\n",
      "Loading  T:/YuLab/Video/Naveed/GPS_20_ThreeFPHoldSRTProbe/20240802/Init/Clips/Naveed_20240802_Trial114_InitView.avi\n",
      "Duration of video [s]:  4.0 , recorded with  20.0 fps!\n",
      "Overall # of frames:  80  found with (before cropping) frame dimensions:  1280 1024\n",
      "Starting to extract posture\n"
     ]
    },
    {
     "name": "stderr",
     "output_type": "stream",
     "text": [
      "100%|██████████| 80/80 [00:05<00:00, 14.02it/s]\n"
     ]
    },
    {
     "name": "stdout",
     "output_type": "stream",
     "text": [
      "Saving results in T:\\YuLab\\Video\\Naveed\\GPS_20_ThreeFPHoldSRTProbe\\20240802\\Init\\Clips...\n",
      "Saving csv poses!\n",
      "Starting to analyze %  T:/YuLab/Video/Naveed/GPS_20_ThreeFPHoldSRTProbe/20240802/Init/Clips/Naveed_20240802_Trial115_InitView.avi\n",
      "Loading  T:/YuLab/Video/Naveed/GPS_20_ThreeFPHoldSRTProbe/20240802/Init/Clips/Naveed_20240802_Trial115_InitView.avi\n",
      "Duration of video [s]:  4.0 , recorded with  20.0 fps!\n",
      "Overall # of frames:  80  found with (before cropping) frame dimensions:  1280 1024\n",
      "Starting to extract posture\n"
     ]
    },
    {
     "name": "stderr",
     "output_type": "stream",
     "text": [
      "100%|██████████| 80/80 [00:05<00:00, 14.18it/s]\n"
     ]
    },
    {
     "name": "stdout",
     "output_type": "stream",
     "text": [
      "Saving results in T:\\YuLab\\Video\\Naveed\\GPS_20_ThreeFPHoldSRTProbe\\20240802\\Init\\Clips...\n",
      "Saving csv poses!\n",
      "Starting to analyze %  T:/YuLab/Video/Naveed/GPS_20_ThreeFPHoldSRTProbe/20240802/Init/Clips/Naveed_20240802_Trial116_InitView.avi\n",
      "Loading  T:/YuLab/Video/Naveed/GPS_20_ThreeFPHoldSRTProbe/20240802/Init/Clips/Naveed_20240802_Trial116_InitView.avi\n",
      "Duration of video [s]:  3.95 , recorded with  20.0 fps!\n",
      "Overall # of frames:  79  found with (before cropping) frame dimensions:  1280 1024\n",
      "Starting to extract posture\n"
     ]
    },
    {
     "name": "stderr",
     "output_type": "stream",
     "text": [
      "100%|██████████| 79/79 [00:05<00:00, 13.93it/s]\n"
     ]
    },
    {
     "name": "stdout",
     "output_type": "stream",
     "text": [
      "Saving results in T:\\YuLab\\Video\\Naveed\\GPS_20_ThreeFPHoldSRTProbe\\20240802\\Init\\Clips...\n",
      "Saving csv poses!\n",
      "Starting to analyze %  T:/YuLab/Video/Naveed/GPS_20_ThreeFPHoldSRTProbe/20240802/Init/Clips/Naveed_20240802_Trial117_InitView.avi\n",
      "Loading  T:/YuLab/Video/Naveed/GPS_20_ThreeFPHoldSRTProbe/20240802/Init/Clips/Naveed_20240802_Trial117_InitView.avi\n",
      "Duration of video [s]:  4.05 , recorded with  20.0 fps!\n",
      "Overall # of frames:  81  found with (before cropping) frame dimensions:  1280 1024\n",
      "Starting to extract posture\n"
     ]
    },
    {
     "name": "stderr",
     "output_type": "stream",
     "text": [
      "100%|██████████| 81/81 [00:06<00:00, 13.37it/s]\n"
     ]
    },
    {
     "name": "stdout",
     "output_type": "stream",
     "text": [
      "Saving results in T:\\YuLab\\Video\\Naveed\\GPS_20_ThreeFPHoldSRTProbe\\20240802\\Init\\Clips...\n",
      "Saving csv poses!\n",
      "Starting to analyze %  T:/YuLab/Video/Naveed/GPS_20_ThreeFPHoldSRTProbe/20240802/Init/Clips/Naveed_20240802_Trial118_InitView.avi\n",
      "Loading  T:/YuLab/Video/Naveed/GPS_20_ThreeFPHoldSRTProbe/20240802/Init/Clips/Naveed_20240802_Trial118_InitView.avi\n",
      "Duration of video [s]:  4.0 , recorded with  20.0 fps!\n",
      "Overall # of frames:  80  found with (before cropping) frame dimensions:  1280 1024\n",
      "Starting to extract posture\n"
     ]
    },
    {
     "name": "stderr",
     "output_type": "stream",
     "text": [
      "100%|██████████| 80/80 [00:05<00:00, 13.96it/s]\n"
     ]
    },
    {
     "name": "stdout",
     "output_type": "stream",
     "text": [
      "Saving results in T:\\YuLab\\Video\\Naveed\\GPS_20_ThreeFPHoldSRTProbe\\20240802\\Init\\Clips...\n",
      "Saving csv poses!\n",
      "Starting to analyze %  T:/YuLab/Video/Naveed/GPS_20_ThreeFPHoldSRTProbe/20240802/Init/Clips/Naveed_20240802_Trial119_InitView.avi\n",
      "Loading  T:/YuLab/Video/Naveed/GPS_20_ThreeFPHoldSRTProbe/20240802/Init/Clips/Naveed_20240802_Trial119_InitView.avi\n",
      "Duration of video [s]:  4.0 , recorded with  20.0 fps!\n",
      "Overall # of frames:  80  found with (before cropping) frame dimensions:  1280 1024\n",
      "Starting to extract posture\n"
     ]
    },
    {
     "name": "stderr",
     "output_type": "stream",
     "text": [
      "100%|██████████| 80/80 [00:05<00:00, 14.15it/s]\n"
     ]
    },
    {
     "name": "stdout",
     "output_type": "stream",
     "text": [
      "Saving results in T:\\YuLab\\Video\\Naveed\\GPS_20_ThreeFPHoldSRTProbe\\20240802\\Init\\Clips...\n",
      "Saving csv poses!\n",
      "Starting to analyze %  T:/YuLab/Video/Naveed/GPS_20_ThreeFPHoldSRTProbe/20240802/Init/Clips/Naveed_20240802_Trial120_InitView.avi\n",
      "Loading  T:/YuLab/Video/Naveed/GPS_20_ThreeFPHoldSRTProbe/20240802/Init/Clips/Naveed_20240802_Trial120_InitView.avi\n",
      "Duration of video [s]:  4.0 , recorded with  20.0 fps!\n",
      "Overall # of frames:  80  found with (before cropping) frame dimensions:  1280 1024\n",
      "Starting to extract posture\n"
     ]
    },
    {
     "name": "stderr",
     "output_type": "stream",
     "text": [
      "100%|██████████| 80/80 [00:05<00:00, 13.74it/s]\n"
     ]
    },
    {
     "name": "stdout",
     "output_type": "stream",
     "text": [
      "Saving results in T:\\YuLab\\Video\\Naveed\\GPS_20_ThreeFPHoldSRTProbe\\20240802\\Init\\Clips...\n",
      "Saving csv poses!\n",
      "Starting to analyze %  T:/YuLab/Video/Naveed/GPS_20_ThreeFPHoldSRTProbe/20240802/Init/Clips/Naveed_20240802_Trial121_InitView.avi\n",
      "Loading  T:/YuLab/Video/Naveed/GPS_20_ThreeFPHoldSRTProbe/20240802/Init/Clips/Naveed_20240802_Trial121_InitView.avi\n",
      "Duration of video [s]:  4.0 , recorded with  20.0 fps!\n",
      "Overall # of frames:  80  found with (before cropping) frame dimensions:  1280 1024\n",
      "Starting to extract posture\n"
     ]
    },
    {
     "name": "stderr",
     "output_type": "stream",
     "text": [
      "100%|██████████| 80/80 [00:05<00:00, 13.89it/s]\n"
     ]
    },
    {
     "name": "stdout",
     "output_type": "stream",
     "text": [
      "Saving results in T:\\YuLab\\Video\\Naveed\\GPS_20_ThreeFPHoldSRTProbe\\20240802\\Init\\Clips...\n",
      "Saving csv poses!\n",
      "Starting to analyze %  T:/YuLab/Video/Naveed/GPS_20_ThreeFPHoldSRTProbe/20240802/Init/Clips/Naveed_20240802_Trial122_InitView.avi\n",
      "Loading  T:/YuLab/Video/Naveed/GPS_20_ThreeFPHoldSRTProbe/20240802/Init/Clips/Naveed_20240802_Trial122_InitView.avi\n",
      "Duration of video [s]:  4.0 , recorded with  20.0 fps!\n",
      "Overall # of frames:  80  found with (before cropping) frame dimensions:  1280 1024\n",
      "Starting to extract posture\n"
     ]
    },
    {
     "name": "stderr",
     "output_type": "stream",
     "text": [
      "100%|██████████| 80/80 [00:05<00:00, 13.51it/s]\n"
     ]
    },
    {
     "name": "stdout",
     "output_type": "stream",
     "text": [
      "Saving results in T:\\YuLab\\Video\\Naveed\\GPS_20_ThreeFPHoldSRTProbe\\20240802\\Init\\Clips...\n",
      "Saving csv poses!\n",
      "Starting to analyze %  T:/YuLab/Video/Naveed/GPS_20_ThreeFPHoldSRTProbe/20240802/Init/Clips/Naveed_20240802_Trial123_InitView.avi\n",
      "Loading  T:/YuLab/Video/Naveed/GPS_20_ThreeFPHoldSRTProbe/20240802/Init/Clips/Naveed_20240802_Trial123_InitView.avi\n",
      "Duration of video [s]:  4.0 , recorded with  20.0 fps!\n",
      "Overall # of frames:  80  found with (before cropping) frame dimensions:  1280 1024\n",
      "Starting to extract posture\n"
     ]
    },
    {
     "name": "stderr",
     "output_type": "stream",
     "text": [
      "100%|██████████| 80/80 [00:05<00:00, 13.80it/s]\n"
     ]
    },
    {
     "name": "stdout",
     "output_type": "stream",
     "text": [
      "Saving results in T:\\YuLab\\Video\\Naveed\\GPS_20_ThreeFPHoldSRTProbe\\20240802\\Init\\Clips...\n",
      "Saving csv poses!\n",
      "Starting to analyze %  T:/YuLab/Video/Naveed/GPS_20_ThreeFPHoldSRTProbe/20240802/Init/Clips/Naveed_20240802_Trial124_InitView.avi\n",
      "Loading  T:/YuLab/Video/Naveed/GPS_20_ThreeFPHoldSRTProbe/20240802/Init/Clips/Naveed_20240802_Trial124_InitView.avi\n",
      "Duration of video [s]:  4.0 , recorded with  20.0 fps!\n",
      "Overall # of frames:  80  found with (before cropping) frame dimensions:  1280 1024\n",
      "Starting to extract posture\n"
     ]
    },
    {
     "name": "stderr",
     "output_type": "stream",
     "text": [
      "100%|██████████| 80/80 [00:05<00:00, 13.52it/s]\n"
     ]
    },
    {
     "name": "stdout",
     "output_type": "stream",
     "text": [
      "Saving results in T:\\YuLab\\Video\\Naveed\\GPS_20_ThreeFPHoldSRTProbe\\20240802\\Init\\Clips...\n",
      "Saving csv poses!\n",
      "Starting to analyze %  T:/YuLab/Video/Naveed/GPS_20_ThreeFPHoldSRTProbe/20240802/Init/Clips/Naveed_20240802_Trial125_InitView.avi\n",
      "Loading  T:/YuLab/Video/Naveed/GPS_20_ThreeFPHoldSRTProbe/20240802/Init/Clips/Naveed_20240802_Trial125_InitView.avi\n",
      "Duration of video [s]:  4.0 , recorded with  20.0 fps!\n",
      "Overall # of frames:  80  found with (before cropping) frame dimensions:  1280 1024\n",
      "Starting to extract posture\n"
     ]
    },
    {
     "name": "stderr",
     "output_type": "stream",
     "text": [
      "100%|██████████| 80/80 [00:05<00:00, 13.80it/s]\n"
     ]
    },
    {
     "name": "stdout",
     "output_type": "stream",
     "text": [
      "Saving results in T:\\YuLab\\Video\\Naveed\\GPS_20_ThreeFPHoldSRTProbe\\20240802\\Init\\Clips...\n",
      "Saving csv poses!\n",
      "Starting to analyze %  T:/YuLab/Video/Naveed/GPS_20_ThreeFPHoldSRTProbe/20240802/Init/Clips/Naveed_20240802_Trial126_InitView.avi\n",
      "Loading  T:/YuLab/Video/Naveed/GPS_20_ThreeFPHoldSRTProbe/20240802/Init/Clips/Naveed_20240802_Trial126_InitView.avi\n",
      "Duration of video [s]:  4.0 , recorded with  20.0 fps!\n",
      "Overall # of frames:  80  found with (before cropping) frame dimensions:  1280 1024\n",
      "Starting to extract posture\n"
     ]
    },
    {
     "name": "stderr",
     "output_type": "stream",
     "text": [
      "100%|██████████| 80/80 [00:05<00:00, 14.16it/s]\n"
     ]
    },
    {
     "name": "stdout",
     "output_type": "stream",
     "text": [
      "Saving results in T:\\YuLab\\Video\\Naveed\\GPS_20_ThreeFPHoldSRTProbe\\20240802\\Init\\Clips...\n",
      "Saving csv poses!\n",
      "Starting to analyze %  T:/YuLab/Video/Naveed/GPS_20_ThreeFPHoldSRTProbe/20240802/Init/Clips/Naveed_20240802_Trial127_InitView.avi\n",
      "Loading  T:/YuLab/Video/Naveed/GPS_20_ThreeFPHoldSRTProbe/20240802/Init/Clips/Naveed_20240802_Trial127_InitView.avi\n",
      "Duration of video [s]:  4.0 , recorded with  20.0 fps!\n",
      "Overall # of frames:  80  found with (before cropping) frame dimensions:  1280 1024\n",
      "Starting to extract posture\n"
     ]
    },
    {
     "name": "stderr",
     "output_type": "stream",
     "text": [
      "100%|██████████| 80/80 [00:05<00:00, 14.08it/s]\n"
     ]
    },
    {
     "name": "stdout",
     "output_type": "stream",
     "text": [
      "Saving results in T:\\YuLab\\Video\\Naveed\\GPS_20_ThreeFPHoldSRTProbe\\20240802\\Init\\Clips...\n",
      "Saving csv poses!\n",
      "Starting to analyze %  T:/YuLab/Video/Naveed/GPS_20_ThreeFPHoldSRTProbe/20240802/Init/Clips/Naveed_20240802_Trial128_InitView.avi\n",
      "Loading  T:/YuLab/Video/Naveed/GPS_20_ThreeFPHoldSRTProbe/20240802/Init/Clips/Naveed_20240802_Trial128_InitView.avi\n",
      "Duration of video [s]:  4.0 , recorded with  20.0 fps!\n",
      "Overall # of frames:  80  found with (before cropping) frame dimensions:  1280 1024\n",
      "Starting to extract posture\n"
     ]
    },
    {
     "name": "stderr",
     "output_type": "stream",
     "text": [
      "100%|██████████| 80/80 [00:05<00:00, 14.27it/s]\n"
     ]
    },
    {
     "name": "stdout",
     "output_type": "stream",
     "text": [
      "Saving results in T:\\YuLab\\Video\\Naveed\\GPS_20_ThreeFPHoldSRTProbe\\20240802\\Init\\Clips...\n",
      "Saving csv poses!\n",
      "Starting to analyze %  T:/YuLab/Video/Naveed/GPS_20_ThreeFPHoldSRTProbe/20240802/Init/Clips/Naveed_20240802_Trial129_InitView.avi\n",
      "Loading  T:/YuLab/Video/Naveed/GPS_20_ThreeFPHoldSRTProbe/20240802/Init/Clips/Naveed_20240802_Trial129_InitView.avi\n",
      "Duration of video [s]:  4.0 , recorded with  20.0 fps!\n",
      "Overall # of frames:  80  found with (before cropping) frame dimensions:  1280 1024\n",
      "Starting to extract posture\n"
     ]
    },
    {
     "name": "stderr",
     "output_type": "stream",
     "text": [
      "100%|██████████| 80/80 [00:05<00:00, 14.01it/s]\n"
     ]
    },
    {
     "name": "stdout",
     "output_type": "stream",
     "text": [
      "Saving results in T:\\YuLab\\Video\\Naveed\\GPS_20_ThreeFPHoldSRTProbe\\20240802\\Init\\Clips...\n",
      "Saving csv poses!\n",
      "Starting to analyze %  T:/YuLab/Video/Naveed/GPS_20_ThreeFPHoldSRTProbe/20240802/Init/Clips/Naveed_20240802_Trial130_InitView.avi\n",
      "Loading  T:/YuLab/Video/Naveed/GPS_20_ThreeFPHoldSRTProbe/20240802/Init/Clips/Naveed_20240802_Trial130_InitView.avi\n",
      "Duration of video [s]:  4.0 , recorded with  20.0 fps!\n",
      "Overall # of frames:  80  found with (before cropping) frame dimensions:  1280 1024\n",
      "Starting to extract posture\n"
     ]
    },
    {
     "name": "stderr",
     "output_type": "stream",
     "text": [
      "100%|██████████| 80/80 [00:05<00:00, 14.22it/s]\n"
     ]
    },
    {
     "name": "stdout",
     "output_type": "stream",
     "text": [
      "Saving results in T:\\YuLab\\Video\\Naveed\\GPS_20_ThreeFPHoldSRTProbe\\20240802\\Init\\Clips...\n",
      "Saving csv poses!\n",
      "Starting to analyze %  T:/YuLab/Video/Naveed/GPS_20_ThreeFPHoldSRTProbe/20240802/Init/Clips/Naveed_20240802_Trial131_InitView.avi\n",
      "Loading  T:/YuLab/Video/Naveed/GPS_20_ThreeFPHoldSRTProbe/20240802/Init/Clips/Naveed_20240802_Trial131_InitView.avi\n",
      "Duration of video [s]:  4.0 , recorded with  20.0 fps!\n",
      "Overall # of frames:  80  found with (before cropping) frame dimensions:  1280 1024\n",
      "Starting to extract posture\n"
     ]
    },
    {
     "name": "stderr",
     "output_type": "stream",
     "text": [
      "100%|██████████| 80/80 [00:05<00:00, 14.11it/s]\n"
     ]
    },
    {
     "name": "stdout",
     "output_type": "stream",
     "text": [
      "Saving results in T:\\YuLab\\Video\\Naveed\\GPS_20_ThreeFPHoldSRTProbe\\20240802\\Init\\Clips...\n",
      "Saving csv poses!\n",
      "Starting to analyze %  T:/YuLab/Video/Naveed/GPS_20_ThreeFPHoldSRTProbe/20240802/Init/Clips/Naveed_20240802_Trial132_InitView.avi\n",
      "Loading  T:/YuLab/Video/Naveed/GPS_20_ThreeFPHoldSRTProbe/20240802/Init/Clips/Naveed_20240802_Trial132_InitView.avi\n",
      "Duration of video [s]:  4.0 , recorded with  20.0 fps!\n",
      "Overall # of frames:  80  found with (before cropping) frame dimensions:  1280 1024\n",
      "Starting to extract posture\n"
     ]
    },
    {
     "name": "stderr",
     "output_type": "stream",
     "text": [
      "100%|██████████| 80/80 [00:05<00:00, 13.91it/s]\n"
     ]
    },
    {
     "name": "stdout",
     "output_type": "stream",
     "text": [
      "Saving results in T:\\YuLab\\Video\\Naveed\\GPS_20_ThreeFPHoldSRTProbe\\20240802\\Init\\Clips...\n",
      "Saving csv poses!\n",
      "Starting to analyze %  T:/YuLab/Video/Naveed/GPS_20_ThreeFPHoldSRTProbe/20240802/Init/Clips/Naveed_20240802_Trial133_InitView.avi\n",
      "Loading  T:/YuLab/Video/Naveed/GPS_20_ThreeFPHoldSRTProbe/20240802/Init/Clips/Naveed_20240802_Trial133_InitView.avi\n",
      "Duration of video [s]:  4.0 , recorded with  20.0 fps!\n",
      "Overall # of frames:  80  found with (before cropping) frame dimensions:  1280 1024\n",
      "Starting to extract posture\n"
     ]
    },
    {
     "name": "stderr",
     "output_type": "stream",
     "text": [
      "100%|██████████| 80/80 [00:05<00:00, 14.12it/s]\n"
     ]
    },
    {
     "name": "stdout",
     "output_type": "stream",
     "text": [
      "Saving results in T:\\YuLab\\Video\\Naveed\\GPS_20_ThreeFPHoldSRTProbe\\20240802\\Init\\Clips...\n",
      "Saving csv poses!\n",
      "Starting to analyze %  T:/YuLab/Video/Naveed/GPS_20_ThreeFPHoldSRTProbe/20240802/Init/Clips/Naveed_20240802_Trial134_InitView.avi\n",
      "Loading  T:/YuLab/Video/Naveed/GPS_20_ThreeFPHoldSRTProbe/20240802/Init/Clips/Naveed_20240802_Trial134_InitView.avi\n",
      "Duration of video [s]:  4.0 , recorded with  20.0 fps!\n",
      "Overall # of frames:  80  found with (before cropping) frame dimensions:  1280 1024\n",
      "Starting to extract posture\n"
     ]
    },
    {
     "name": "stderr",
     "output_type": "stream",
     "text": [
      "100%|██████████| 80/80 [00:05<00:00, 14.14it/s]\n"
     ]
    },
    {
     "name": "stdout",
     "output_type": "stream",
     "text": [
      "Saving results in T:\\YuLab\\Video\\Naveed\\GPS_20_ThreeFPHoldSRTProbe\\20240802\\Init\\Clips...\n",
      "Saving csv poses!\n",
      "Starting to analyze %  T:/YuLab/Video/Naveed/GPS_20_ThreeFPHoldSRTProbe/20240802/Init/Clips/Naveed_20240802_Trial135_InitView.avi\n",
      "Loading  T:/YuLab/Video/Naveed/GPS_20_ThreeFPHoldSRTProbe/20240802/Init/Clips/Naveed_20240802_Trial135_InitView.avi\n",
      "Duration of video [s]:  4.0 , recorded with  20.0 fps!\n",
      "Overall # of frames:  80  found with (before cropping) frame dimensions:  1280 1024\n",
      "Starting to extract posture\n"
     ]
    },
    {
     "name": "stderr",
     "output_type": "stream",
     "text": [
      "100%|██████████| 80/80 [00:05<00:00, 14.31it/s]\n"
     ]
    },
    {
     "name": "stdout",
     "output_type": "stream",
     "text": [
      "Saving results in T:\\YuLab\\Video\\Naveed\\GPS_20_ThreeFPHoldSRTProbe\\20240802\\Init\\Clips...\n",
      "Saving csv poses!\n",
      "Starting to analyze %  T:/YuLab/Video/Naveed/GPS_20_ThreeFPHoldSRTProbe/20240802/Init/Clips/Naveed_20240802_Trial136_InitView.avi\n",
      "Loading  T:/YuLab/Video/Naveed/GPS_20_ThreeFPHoldSRTProbe/20240802/Init/Clips/Naveed_20240802_Trial136_InitView.avi\n",
      "Duration of video [s]:  4.0 , recorded with  20.0 fps!\n",
      "Overall # of frames:  80  found with (before cropping) frame dimensions:  1280 1024\n",
      "Starting to extract posture\n"
     ]
    },
    {
     "name": "stderr",
     "output_type": "stream",
     "text": [
      "100%|██████████| 80/80 [00:05<00:00, 14.39it/s]\n"
     ]
    },
    {
     "name": "stdout",
     "output_type": "stream",
     "text": [
      "Saving results in T:\\YuLab\\Video\\Naveed\\GPS_20_ThreeFPHoldSRTProbe\\20240802\\Init\\Clips...\n",
      "Saving csv poses!\n",
      "Starting to analyze %  T:/YuLab/Video/Naveed/GPS_20_ThreeFPHoldSRTProbe/20240802/Init/Clips/Naveed_20240802_Trial137_InitView.avi\n",
      "Loading  T:/YuLab/Video/Naveed/GPS_20_ThreeFPHoldSRTProbe/20240802/Init/Clips/Naveed_20240802_Trial137_InitView.avi\n",
      "Duration of video [s]:  4.0 , recorded with  20.0 fps!\n",
      "Overall # of frames:  80  found with (before cropping) frame dimensions:  1280 1024\n",
      "Starting to extract posture\n"
     ]
    },
    {
     "name": "stderr",
     "output_type": "stream",
     "text": [
      "100%|██████████| 80/80 [00:05<00:00, 14.29it/s]\n"
     ]
    },
    {
     "name": "stdout",
     "output_type": "stream",
     "text": [
      "Saving results in T:\\YuLab\\Video\\Naveed\\GPS_20_ThreeFPHoldSRTProbe\\20240802\\Init\\Clips...\n",
      "Saving csv poses!\n",
      "Starting to analyze %  T:/YuLab/Video/Naveed/GPS_20_ThreeFPHoldSRTProbe/20240816/Init/Clips/Naveed_20240816_Trial012_InitView.avi\n",
      "Loading  T:/YuLab/Video/Naveed/GPS_20_ThreeFPHoldSRTProbe/20240816/Init/Clips/Naveed_20240816_Trial012_InitView.avi\n",
      "Duration of video [s]:  4.0 , recorded with  20.0 fps!\n",
      "Overall # of frames:  80  found with (before cropping) frame dimensions:  1280 1024\n",
      "Starting to extract posture\n"
     ]
    },
    {
     "name": "stderr",
     "output_type": "stream",
     "text": [
      "100%|██████████| 80/80 [00:05<00:00, 14.02it/s]\n"
     ]
    },
    {
     "name": "stdout",
     "output_type": "stream",
     "text": [
      "Saving results in T:\\YuLab\\Video\\Naveed\\GPS_20_ThreeFPHoldSRTProbe\\20240816\\Init\\Clips...\n",
      "Saving csv poses!\n",
      "Starting to analyze %  T:/YuLab/Video/Naveed/GPS_20_ThreeFPHoldSRTProbe/20240816/Init/Clips/Naveed_20240816_Trial013_InitView.avi\n",
      "Loading  T:/YuLab/Video/Naveed/GPS_20_ThreeFPHoldSRTProbe/20240816/Init/Clips/Naveed_20240816_Trial013_InitView.avi\n",
      "Duration of video [s]:  4.05 , recorded with  20.0 fps!\n",
      "Overall # of frames:  81  found with (before cropping) frame dimensions:  1280 1024\n",
      "Starting to extract posture\n"
     ]
    },
    {
     "name": "stderr",
     "output_type": "stream",
     "text": [
      "100%|██████████| 81/81 [00:06<00:00, 13.41it/s]\n"
     ]
    },
    {
     "name": "stdout",
     "output_type": "stream",
     "text": [
      "Saving results in T:\\YuLab\\Video\\Naveed\\GPS_20_ThreeFPHoldSRTProbe\\20240816\\Init\\Clips...\n",
      "Saving csv poses!\n",
      "Starting to analyze %  T:/YuLab/Video/Naveed/GPS_20_ThreeFPHoldSRTProbe/20240816/Init/Clips/Naveed_20240816_Trial014_InitView.avi\n",
      "Loading  T:/YuLab/Video/Naveed/GPS_20_ThreeFPHoldSRTProbe/20240816/Init/Clips/Naveed_20240816_Trial014_InitView.avi\n",
      "Duration of video [s]:  4.0 , recorded with  20.0 fps!\n",
      "Overall # of frames:  80  found with (before cropping) frame dimensions:  1280 1024\n",
      "Starting to extract posture\n"
     ]
    },
    {
     "name": "stderr",
     "output_type": "stream",
     "text": [
      "100%|██████████| 80/80 [00:05<00:00, 14.57it/s]\n"
     ]
    },
    {
     "name": "stdout",
     "output_type": "stream",
     "text": [
      "Saving results in T:\\YuLab\\Video\\Naveed\\GPS_20_ThreeFPHoldSRTProbe\\20240816\\Init\\Clips...\n",
      "Saving csv poses!\n",
      "Starting to analyze %  T:/YuLab/Video/Naveed/GPS_20_ThreeFPHoldSRTProbe/20240816/Init/Clips/Naveed_20240816_Trial015_InitView.avi\n",
      "Loading  T:/YuLab/Video/Naveed/GPS_20_ThreeFPHoldSRTProbe/20240816/Init/Clips/Naveed_20240816_Trial015_InitView.avi\n",
      "Duration of video [s]:  4.0 , recorded with  20.0 fps!\n",
      "Overall # of frames:  80  found with (before cropping) frame dimensions:  1280 1024\n",
      "Starting to extract posture\n"
     ]
    },
    {
     "name": "stderr",
     "output_type": "stream",
     "text": [
      "100%|██████████| 80/80 [00:05<00:00, 14.52it/s]\n"
     ]
    },
    {
     "name": "stdout",
     "output_type": "stream",
     "text": [
      "Saving results in T:\\YuLab\\Video\\Naveed\\GPS_20_ThreeFPHoldSRTProbe\\20240816\\Init\\Clips...\n",
      "Saving csv poses!\n",
      "Starting to analyze %  T:/YuLab/Video/Naveed/GPS_20_ThreeFPHoldSRTProbe/20240816/Init/Clips/Naveed_20240816_Trial016_InitView.avi\n",
      "Loading  T:/YuLab/Video/Naveed/GPS_20_ThreeFPHoldSRTProbe/20240816/Init/Clips/Naveed_20240816_Trial016_InitView.avi\n",
      "Duration of video [s]:  4.0 , recorded with  20.0 fps!\n",
      "Overall # of frames:  80  found with (before cropping) frame dimensions:  1280 1024\n",
      "Starting to extract posture\n"
     ]
    },
    {
     "name": "stderr",
     "output_type": "stream",
     "text": [
      "100%|██████████| 80/80 [00:05<00:00, 14.24it/s]\n"
     ]
    },
    {
     "name": "stdout",
     "output_type": "stream",
     "text": [
      "Saving results in T:\\YuLab\\Video\\Naveed\\GPS_20_ThreeFPHoldSRTProbe\\20240816\\Init\\Clips...\n",
      "Saving csv poses!\n",
      "Starting to analyze %  T:/YuLab/Video/Naveed/GPS_20_ThreeFPHoldSRTProbe/20240816/Init/Clips/Naveed_20240816_Trial017_InitView.avi\n",
      "Loading  T:/YuLab/Video/Naveed/GPS_20_ThreeFPHoldSRTProbe/20240816/Init/Clips/Naveed_20240816_Trial017_InitView.avi\n",
      "Duration of video [s]:  4.0 , recorded with  20.0 fps!\n",
      "Overall # of frames:  80  found with (before cropping) frame dimensions:  1280 1024\n",
      "Starting to extract posture\n"
     ]
    },
    {
     "name": "stderr",
     "output_type": "stream",
     "text": [
      "100%|██████████| 80/80 [00:05<00:00, 14.57it/s]\n"
     ]
    },
    {
     "name": "stdout",
     "output_type": "stream",
     "text": [
      "Saving results in T:\\YuLab\\Video\\Naveed\\GPS_20_ThreeFPHoldSRTProbe\\20240816\\Init\\Clips...\n",
      "Saving csv poses!\n",
      "Starting to analyze %  T:/YuLab/Video/Naveed/GPS_20_ThreeFPHoldSRTProbe/20240816/Init/Clips/Naveed_20240816_Trial018_InitView.avi\n",
      "Loading  T:/YuLab/Video/Naveed/GPS_20_ThreeFPHoldSRTProbe/20240816/Init/Clips/Naveed_20240816_Trial018_InitView.avi\n",
      "Duration of video [s]:  4.0 , recorded with  20.0 fps!\n",
      "Overall # of frames:  80  found with (before cropping) frame dimensions:  1280 1024\n",
      "Starting to extract posture\n"
     ]
    },
    {
     "name": "stderr",
     "output_type": "stream",
     "text": [
      "100%|██████████| 80/80 [00:05<00:00, 14.65it/s]\n"
     ]
    },
    {
     "name": "stdout",
     "output_type": "stream",
     "text": [
      "Saving results in T:\\YuLab\\Video\\Naveed\\GPS_20_ThreeFPHoldSRTProbe\\20240816\\Init\\Clips...\n",
      "Saving csv poses!\n",
      "Starting to analyze %  T:/YuLab/Video/Naveed/GPS_20_ThreeFPHoldSRTProbe/20240816/Init/Clips/Naveed_20240816_Trial019_InitView.avi\n",
      "Loading  T:/YuLab/Video/Naveed/GPS_20_ThreeFPHoldSRTProbe/20240816/Init/Clips/Naveed_20240816_Trial019_InitView.avi\n",
      "Duration of video [s]:  4.0 , recorded with  20.0 fps!\n",
      "Overall # of frames:  80  found with (before cropping) frame dimensions:  1280 1024\n",
      "Starting to extract posture\n"
     ]
    },
    {
     "name": "stderr",
     "output_type": "stream",
     "text": [
      "100%|██████████| 80/80 [00:05<00:00, 14.17it/s]\n"
     ]
    },
    {
     "name": "stdout",
     "output_type": "stream",
     "text": [
      "Saving results in T:\\YuLab\\Video\\Naveed\\GPS_20_ThreeFPHoldSRTProbe\\20240816\\Init\\Clips...\n",
      "Saving csv poses!\n",
      "Starting to analyze %  T:/YuLab/Video/Naveed/GPS_20_ThreeFPHoldSRTProbe/20240816/Init/Clips/Naveed_20240816_Trial020_InitView.avi\n",
      "Loading  T:/YuLab/Video/Naveed/GPS_20_ThreeFPHoldSRTProbe/20240816/Init/Clips/Naveed_20240816_Trial020_InitView.avi\n",
      "Duration of video [s]:  4.0 , recorded with  20.0 fps!\n",
      "Overall # of frames:  80  found with (before cropping) frame dimensions:  1280 1024\n",
      "Starting to extract posture\n"
     ]
    },
    {
     "name": "stderr",
     "output_type": "stream",
     "text": [
      "100%|██████████| 80/80 [00:05<00:00, 14.60it/s]\n"
     ]
    },
    {
     "name": "stdout",
     "output_type": "stream",
     "text": [
      "Saving results in T:\\YuLab\\Video\\Naveed\\GPS_20_ThreeFPHoldSRTProbe\\20240816\\Init\\Clips...\n",
      "Saving csv poses!\n",
      "Starting to analyze %  T:/YuLab/Video/Naveed/GPS_20_ThreeFPHoldSRTProbe/20240816/Init/Clips/Naveed_20240816_Trial021_InitView.avi\n",
      "Loading  T:/YuLab/Video/Naveed/GPS_20_ThreeFPHoldSRTProbe/20240816/Init/Clips/Naveed_20240816_Trial021_InitView.avi\n",
      "Duration of video [s]:  4.0 , recorded with  20.0 fps!\n",
      "Overall # of frames:  80  found with (before cropping) frame dimensions:  1280 1024\n",
      "Starting to extract posture\n"
     ]
    },
    {
     "name": "stderr",
     "output_type": "stream",
     "text": [
      "100%|██████████| 80/80 [00:05<00:00, 14.42it/s]\n"
     ]
    },
    {
     "name": "stdout",
     "output_type": "stream",
     "text": [
      "Saving results in T:\\YuLab\\Video\\Naveed\\GPS_20_ThreeFPHoldSRTProbe\\20240816\\Init\\Clips...\n",
      "Saving csv poses!\n",
      "Starting to analyze %  T:/YuLab/Video/Naveed/GPS_20_ThreeFPHoldSRTProbe/20240816/Init/Clips/Naveed_20240816_Trial022_InitView.avi\n",
      "Loading  T:/YuLab/Video/Naveed/GPS_20_ThreeFPHoldSRTProbe/20240816/Init/Clips/Naveed_20240816_Trial022_InitView.avi\n",
      "Duration of video [s]:  4.0 , recorded with  20.0 fps!\n",
      "Overall # of frames:  80  found with (before cropping) frame dimensions:  1280 1024\n",
      "Starting to extract posture\n"
     ]
    },
    {
     "name": "stderr",
     "output_type": "stream",
     "text": [
      "100%|██████████| 80/80 [00:05<00:00, 14.26it/s]\n"
     ]
    },
    {
     "name": "stdout",
     "output_type": "stream",
     "text": [
      "Saving results in T:\\YuLab\\Video\\Naveed\\GPS_20_ThreeFPHoldSRTProbe\\20240816\\Init\\Clips...\n",
      "Saving csv poses!\n",
      "Starting to analyze %  T:/YuLab/Video/Naveed/GPS_20_ThreeFPHoldSRTProbe/20240816/Init/Clips/Naveed_20240816_Trial023_InitView.avi\n",
      "Loading  T:/YuLab/Video/Naveed/GPS_20_ThreeFPHoldSRTProbe/20240816/Init/Clips/Naveed_20240816_Trial023_InitView.avi\n",
      "Duration of video [s]:  4.0 , recorded with  20.0 fps!\n",
      "Overall # of frames:  80  found with (before cropping) frame dimensions:  1280 1024\n",
      "Starting to extract posture\n"
     ]
    },
    {
     "name": "stderr",
     "output_type": "stream",
     "text": [
      "100%|██████████| 80/80 [00:05<00:00, 14.46it/s]\n"
     ]
    },
    {
     "name": "stdout",
     "output_type": "stream",
     "text": [
      "Saving results in T:\\YuLab\\Video\\Naveed\\GPS_20_ThreeFPHoldSRTProbe\\20240816\\Init\\Clips...\n",
      "Saving csv poses!\n",
      "Starting to analyze %  T:/YuLab/Video/Naveed/GPS_20_ThreeFPHoldSRTProbe/20240816/Init/Clips/Naveed_20240816_Trial024_InitView.avi\n",
      "Loading  T:/YuLab/Video/Naveed/GPS_20_ThreeFPHoldSRTProbe/20240816/Init/Clips/Naveed_20240816_Trial024_InitView.avi\n",
      "Duration of video [s]:  4.0 , recorded with  20.0 fps!\n",
      "Overall # of frames:  80  found with (before cropping) frame dimensions:  1280 1024\n",
      "Starting to extract posture\n"
     ]
    },
    {
     "name": "stderr",
     "output_type": "stream",
     "text": [
      "100%|██████████| 80/80 [00:05<00:00, 14.59it/s]\n"
     ]
    },
    {
     "name": "stdout",
     "output_type": "stream",
     "text": [
      "Saving results in T:\\YuLab\\Video\\Naveed\\GPS_20_ThreeFPHoldSRTProbe\\20240816\\Init\\Clips...\n",
      "Saving csv poses!\n",
      "Starting to analyze %  T:/YuLab/Video/Naveed/GPS_20_ThreeFPHoldSRTProbe/20240816/Init/Clips/Naveed_20240816_Trial025_InitView.avi\n",
      "Loading  T:/YuLab/Video/Naveed/GPS_20_ThreeFPHoldSRTProbe/20240816/Init/Clips/Naveed_20240816_Trial025_InitView.avi\n",
      "Duration of video [s]:  4.0 , recorded with  20.0 fps!\n",
      "Overall # of frames:  80  found with (before cropping) frame dimensions:  1280 1024\n",
      "Starting to extract posture\n"
     ]
    },
    {
     "name": "stderr",
     "output_type": "stream",
     "text": [
      "100%|██████████| 80/80 [00:05<00:00, 14.70it/s]\n"
     ]
    },
    {
     "name": "stdout",
     "output_type": "stream",
     "text": [
      "Saving results in T:\\YuLab\\Video\\Naveed\\GPS_20_ThreeFPHoldSRTProbe\\20240816\\Init\\Clips...\n",
      "Saving csv poses!\n",
      "Starting to analyze %  T:/YuLab/Video/Naveed/GPS_20_ThreeFPHoldSRTProbe/20240816/Init/Clips/Naveed_20240816_Trial026_InitView.avi\n",
      "Loading  T:/YuLab/Video/Naveed/GPS_20_ThreeFPHoldSRTProbe/20240816/Init/Clips/Naveed_20240816_Trial026_InitView.avi\n",
      "Duration of video [s]:  4.0 , recorded with  20.0 fps!\n",
      "Overall # of frames:  80  found with (before cropping) frame dimensions:  1280 1024\n",
      "Starting to extract posture\n"
     ]
    },
    {
     "name": "stderr",
     "output_type": "stream",
     "text": [
      "100%|██████████| 80/80 [00:05<00:00, 14.26it/s]\n"
     ]
    },
    {
     "name": "stdout",
     "output_type": "stream",
     "text": [
      "Saving results in T:\\YuLab\\Video\\Naveed\\GPS_20_ThreeFPHoldSRTProbe\\20240816\\Init\\Clips...\n",
      "Saving csv poses!\n",
      "Starting to analyze %  T:/YuLab/Video/Naveed/GPS_20_ThreeFPHoldSRTProbe/20240816/Init/Clips/Naveed_20240816_Trial027_InitView.avi\n",
      "Loading  T:/YuLab/Video/Naveed/GPS_20_ThreeFPHoldSRTProbe/20240816/Init/Clips/Naveed_20240816_Trial027_InitView.avi\n",
      "Duration of video [s]:  4.0 , recorded with  20.0 fps!\n",
      "Overall # of frames:  80  found with (before cropping) frame dimensions:  1280 1024\n",
      "Starting to extract posture\n"
     ]
    },
    {
     "name": "stderr",
     "output_type": "stream",
     "text": [
      "100%|██████████| 80/80 [00:05<00:00, 14.26it/s]\n"
     ]
    },
    {
     "name": "stdout",
     "output_type": "stream",
     "text": [
      "Saving results in T:\\YuLab\\Video\\Naveed\\GPS_20_ThreeFPHoldSRTProbe\\20240816\\Init\\Clips...\n",
      "Saving csv poses!\n",
      "Starting to analyze %  T:/YuLab/Video/Naveed/GPS_20_ThreeFPHoldSRTProbe/20240816/Init/Clips/Naveed_20240816_Trial028_InitView.avi\n",
      "Loading  T:/YuLab/Video/Naveed/GPS_20_ThreeFPHoldSRTProbe/20240816/Init/Clips/Naveed_20240816_Trial028_InitView.avi\n",
      "Duration of video [s]:  4.0 , recorded with  20.0 fps!\n",
      "Overall # of frames:  80  found with (before cropping) frame dimensions:  1280 1024\n",
      "Starting to extract posture\n"
     ]
    },
    {
     "name": "stderr",
     "output_type": "stream",
     "text": [
      "100%|██████████| 80/80 [00:05<00:00, 14.40it/s]\n"
     ]
    },
    {
     "name": "stdout",
     "output_type": "stream",
     "text": [
      "Saving results in T:\\YuLab\\Video\\Naveed\\GPS_20_ThreeFPHoldSRTProbe\\20240816\\Init\\Clips...\n",
      "Saving csv poses!\n",
      "Starting to analyze %  T:/YuLab/Video/Naveed/GPS_20_ThreeFPHoldSRTProbe/20240816/Init/Clips/Naveed_20240816_Trial029_InitView.avi\n",
      "Loading  T:/YuLab/Video/Naveed/GPS_20_ThreeFPHoldSRTProbe/20240816/Init/Clips/Naveed_20240816_Trial029_InitView.avi\n",
      "Duration of video [s]:  4.0 , recorded with  20.0 fps!\n",
      "Overall # of frames:  80  found with (before cropping) frame dimensions:  1280 1024\n",
      "Starting to extract posture\n"
     ]
    },
    {
     "name": "stderr",
     "output_type": "stream",
     "text": [
      "100%|██████████| 80/80 [00:05<00:00, 14.54it/s]\n"
     ]
    },
    {
     "name": "stdout",
     "output_type": "stream",
     "text": [
      "Saving results in T:\\YuLab\\Video\\Naveed\\GPS_20_ThreeFPHoldSRTProbe\\20240816\\Init\\Clips...\n",
      "Saving csv poses!\n",
      "Starting to analyze %  T:/YuLab/Video/Naveed/GPS_20_ThreeFPHoldSRTProbe/20240816/Init/Clips/Naveed_20240816_Trial030_InitView.avi\n",
      "Loading  T:/YuLab/Video/Naveed/GPS_20_ThreeFPHoldSRTProbe/20240816/Init/Clips/Naveed_20240816_Trial030_InitView.avi\n",
      "Duration of video [s]:  4.0 , recorded with  20.0 fps!\n",
      "Overall # of frames:  80  found with (before cropping) frame dimensions:  1280 1024\n",
      "Starting to extract posture\n"
     ]
    },
    {
     "name": "stderr",
     "output_type": "stream",
     "text": [
      "100%|██████████| 80/80 [00:05<00:00, 14.57it/s]\n"
     ]
    },
    {
     "name": "stdout",
     "output_type": "stream",
     "text": [
      "Saving results in T:\\YuLab\\Video\\Naveed\\GPS_20_ThreeFPHoldSRTProbe\\20240816\\Init\\Clips...\n",
      "Saving csv poses!\n",
      "Starting to analyze %  T:/YuLab/Video/Naveed/GPS_20_ThreeFPHoldSRTProbe/20240816/Init/Clips/Naveed_20240816_Trial031_InitView.avi\n",
      "Loading  T:/YuLab/Video/Naveed/GPS_20_ThreeFPHoldSRTProbe/20240816/Init/Clips/Naveed_20240816_Trial031_InitView.avi\n",
      "Duration of video [s]:  4.0 , recorded with  20.0 fps!\n",
      "Overall # of frames:  80  found with (before cropping) frame dimensions:  1280 1024\n",
      "Starting to extract posture\n"
     ]
    },
    {
     "name": "stderr",
     "output_type": "stream",
     "text": [
      "100%|██████████| 80/80 [00:05<00:00, 14.04it/s]\n"
     ]
    },
    {
     "name": "stdout",
     "output_type": "stream",
     "text": [
      "Saving results in T:\\YuLab\\Video\\Naveed\\GPS_20_ThreeFPHoldSRTProbe\\20240816\\Init\\Clips...\n",
      "Saving csv poses!\n",
      "Starting to analyze %  T:/YuLab/Video/Naveed/GPS_20_ThreeFPHoldSRTProbe/20240816/Init/Clips/Naveed_20240816_Trial032_InitView.avi\n",
      "Loading  T:/YuLab/Video/Naveed/GPS_20_ThreeFPHoldSRTProbe/20240816/Init/Clips/Naveed_20240816_Trial032_InitView.avi\n",
      "Duration of video [s]:  4.0 , recorded with  20.0 fps!\n",
      "Overall # of frames:  80  found with (before cropping) frame dimensions:  1280 1024\n",
      "Starting to extract posture\n"
     ]
    },
    {
     "name": "stderr",
     "output_type": "stream",
     "text": [
      "100%|██████████| 80/80 [00:05<00:00, 14.43it/s]\n"
     ]
    },
    {
     "name": "stdout",
     "output_type": "stream",
     "text": [
      "Saving results in T:\\YuLab\\Video\\Naveed\\GPS_20_ThreeFPHoldSRTProbe\\20240816\\Init\\Clips...\n",
      "Saving csv poses!\n",
      "Starting to analyze %  T:/YuLab/Video/Naveed/GPS_20_ThreeFPHoldSRTProbe/20240816/Init/Clips/Naveed_20240816_Trial034_InitView.avi\n",
      "Loading  T:/YuLab/Video/Naveed/GPS_20_ThreeFPHoldSRTProbe/20240816/Init/Clips/Naveed_20240816_Trial034_InitView.avi\n",
      "Duration of video [s]:  4.0 , recorded with  20.0 fps!\n",
      "Overall # of frames:  80  found with (before cropping) frame dimensions:  1280 1024\n",
      "Starting to extract posture\n"
     ]
    },
    {
     "name": "stderr",
     "output_type": "stream",
     "text": [
      "100%|██████████| 80/80 [00:05<00:00, 14.20it/s]\n"
     ]
    },
    {
     "name": "stdout",
     "output_type": "stream",
     "text": [
      "Saving results in T:\\YuLab\\Video\\Naveed\\GPS_20_ThreeFPHoldSRTProbe\\20240816\\Init\\Clips...\n",
      "Saving csv poses!\n",
      "Starting to analyze %  T:/YuLab/Video/Naveed/GPS_20_ThreeFPHoldSRTProbe/20240816/Init/Clips/Naveed_20240816_Trial035_InitView.avi\n",
      "Loading  T:/YuLab/Video/Naveed/GPS_20_ThreeFPHoldSRTProbe/20240816/Init/Clips/Naveed_20240816_Trial035_InitView.avi\n",
      "Duration of video [s]:  4.0 , recorded with  20.0 fps!\n",
      "Overall # of frames:  80  found with (before cropping) frame dimensions:  1280 1024\n",
      "Starting to extract posture\n"
     ]
    },
    {
     "name": "stderr",
     "output_type": "stream",
     "text": [
      "100%|██████████| 80/80 [00:05<00:00, 14.24it/s]\n"
     ]
    },
    {
     "name": "stdout",
     "output_type": "stream",
     "text": [
      "Saving results in T:\\YuLab\\Video\\Naveed\\GPS_20_ThreeFPHoldSRTProbe\\20240816\\Init\\Clips...\n",
      "Saving csv poses!\n",
      "Starting to analyze %  T:/YuLab/Video/Naveed/GPS_20_ThreeFPHoldSRTProbe/20240816/Init/Clips/Naveed_20240816_Trial036_InitView.avi\n",
      "Loading  T:/YuLab/Video/Naveed/GPS_20_ThreeFPHoldSRTProbe/20240816/Init/Clips/Naveed_20240816_Trial036_InitView.avi\n",
      "Duration of video [s]:  4.0 , recorded with  20.0 fps!\n",
      "Overall # of frames:  80  found with (before cropping) frame dimensions:  1280 1024\n",
      "Starting to extract posture\n"
     ]
    },
    {
     "name": "stderr",
     "output_type": "stream",
     "text": [
      "100%|██████████| 80/80 [00:05<00:00, 14.40it/s]\n"
     ]
    },
    {
     "name": "stdout",
     "output_type": "stream",
     "text": [
      "Saving results in T:\\YuLab\\Video\\Naveed\\GPS_20_ThreeFPHoldSRTProbe\\20240816\\Init\\Clips...\n",
      "Saving csv poses!\n",
      "Starting to analyze %  T:/YuLab/Video/Naveed/GPS_20_ThreeFPHoldSRTProbe/20240816/Init/Clips/Naveed_20240816_Trial037_InitView.avi\n",
      "Loading  T:/YuLab/Video/Naveed/GPS_20_ThreeFPHoldSRTProbe/20240816/Init/Clips/Naveed_20240816_Trial037_InitView.avi\n",
      "Duration of video [s]:  4.0 , recorded with  20.0 fps!\n",
      "Overall # of frames:  80  found with (before cropping) frame dimensions:  1280 1024\n",
      "Starting to extract posture\n"
     ]
    },
    {
     "name": "stderr",
     "output_type": "stream",
     "text": [
      "100%|██████████| 80/80 [00:05<00:00, 14.36it/s]\n"
     ]
    },
    {
     "name": "stdout",
     "output_type": "stream",
     "text": [
      "Saving results in T:\\YuLab\\Video\\Naveed\\GPS_20_ThreeFPHoldSRTProbe\\20240816\\Init\\Clips...\n",
      "Saving csv poses!\n",
      "Starting to analyze %  T:/YuLab/Video/Naveed/GPS_20_ThreeFPHoldSRTProbe/20240816/Init/Clips/Naveed_20240816_Trial038_InitView.avi\n",
      "Loading  T:/YuLab/Video/Naveed/GPS_20_ThreeFPHoldSRTProbe/20240816/Init/Clips/Naveed_20240816_Trial038_InitView.avi\n",
      "Duration of video [s]:  4.0 , recorded with  20.0 fps!\n",
      "Overall # of frames:  80  found with (before cropping) frame dimensions:  1280 1024\n",
      "Starting to extract posture\n"
     ]
    },
    {
     "name": "stderr",
     "output_type": "stream",
     "text": [
      "100%|██████████| 80/80 [00:05<00:00, 14.53it/s]\n"
     ]
    },
    {
     "name": "stdout",
     "output_type": "stream",
     "text": [
      "Saving results in T:\\YuLab\\Video\\Naveed\\GPS_20_ThreeFPHoldSRTProbe\\20240816\\Init\\Clips...\n",
      "Saving csv poses!\n",
      "Starting to analyze %  T:/YuLab/Video/Naveed/GPS_20_ThreeFPHoldSRTProbe/20240816/Init/Clips/Naveed_20240816_Trial039_InitView.avi\n",
      "Loading  T:/YuLab/Video/Naveed/GPS_20_ThreeFPHoldSRTProbe/20240816/Init/Clips/Naveed_20240816_Trial039_InitView.avi\n",
      "Duration of video [s]:  4.0 , recorded with  20.0 fps!\n",
      "Overall # of frames:  80  found with (before cropping) frame dimensions:  1280 1024\n",
      "Starting to extract posture\n"
     ]
    },
    {
     "name": "stderr",
     "output_type": "stream",
     "text": [
      "100%|██████████| 80/80 [00:05<00:00, 14.00it/s]\n"
     ]
    },
    {
     "name": "stdout",
     "output_type": "stream",
     "text": [
      "Saving results in T:\\YuLab\\Video\\Naveed\\GPS_20_ThreeFPHoldSRTProbe\\20240816\\Init\\Clips...\n",
      "Saving csv poses!\n",
      "Starting to analyze %  T:/YuLab/Video/Naveed/GPS_20_ThreeFPHoldSRTProbe/20240816/Init/Clips/Naveed_20240816_Trial040_InitView.avi\n",
      "Loading  T:/YuLab/Video/Naveed/GPS_20_ThreeFPHoldSRTProbe/20240816/Init/Clips/Naveed_20240816_Trial040_InitView.avi\n",
      "Duration of video [s]:  4.0 , recorded with  20.0 fps!\n",
      "Overall # of frames:  80  found with (before cropping) frame dimensions:  1280 1024\n",
      "Starting to extract posture\n"
     ]
    },
    {
     "name": "stderr",
     "output_type": "stream",
     "text": [
      "100%|██████████| 80/80 [00:05<00:00, 14.40it/s]\n"
     ]
    },
    {
     "name": "stdout",
     "output_type": "stream",
     "text": [
      "Saving results in T:\\YuLab\\Video\\Naveed\\GPS_20_ThreeFPHoldSRTProbe\\20240816\\Init\\Clips...\n",
      "Saving csv poses!\n",
      "Starting to analyze %  T:/YuLab/Video/Naveed/GPS_20_ThreeFPHoldSRTProbe/20240816/Init/Clips/Naveed_20240816_Trial041_InitView.avi\n",
      "Loading  T:/YuLab/Video/Naveed/GPS_20_ThreeFPHoldSRTProbe/20240816/Init/Clips/Naveed_20240816_Trial041_InitView.avi\n",
      "Duration of video [s]:  4.0 , recorded with  20.0 fps!\n",
      "Overall # of frames:  80  found with (before cropping) frame dimensions:  1280 1024\n",
      "Starting to extract posture\n"
     ]
    },
    {
     "name": "stderr",
     "output_type": "stream",
     "text": [
      "100%|██████████| 80/80 [00:05<00:00, 14.40it/s]\n"
     ]
    },
    {
     "name": "stdout",
     "output_type": "stream",
     "text": [
      "Saving results in T:\\YuLab\\Video\\Naveed\\GPS_20_ThreeFPHoldSRTProbe\\20240816\\Init\\Clips...\n",
      "Saving csv poses!\n",
      "Starting to analyze %  T:/YuLab/Video/Naveed/GPS_20_ThreeFPHoldSRTProbe/20240816/Init/Clips/Naveed_20240816_Trial042_InitView.avi\n",
      "Loading  T:/YuLab/Video/Naveed/GPS_20_ThreeFPHoldSRTProbe/20240816/Init/Clips/Naveed_20240816_Trial042_InitView.avi\n",
      "Duration of video [s]:  4.0 , recorded with  20.0 fps!\n",
      "Overall # of frames:  80  found with (before cropping) frame dimensions:  1280 1024\n",
      "Starting to extract posture\n"
     ]
    },
    {
     "name": "stderr",
     "output_type": "stream",
     "text": [
      "100%|██████████| 80/80 [00:05<00:00, 14.35it/s]\n"
     ]
    },
    {
     "name": "stdout",
     "output_type": "stream",
     "text": [
      "Saving results in T:\\YuLab\\Video\\Naveed\\GPS_20_ThreeFPHoldSRTProbe\\20240816\\Init\\Clips...\n",
      "Saving csv poses!\n",
      "Starting to analyze %  T:/YuLab/Video/Naveed/GPS_20_ThreeFPHoldSRTProbe/20240816/Init/Clips/Naveed_20240816_Trial043_InitView.avi\n",
      "Loading  T:/YuLab/Video/Naveed/GPS_20_ThreeFPHoldSRTProbe/20240816/Init/Clips/Naveed_20240816_Trial043_InitView.avi\n",
      "Duration of video [s]:  4.0 , recorded with  20.0 fps!\n",
      "Overall # of frames:  80  found with (before cropping) frame dimensions:  1280 1024\n",
      "Starting to extract posture\n"
     ]
    },
    {
     "name": "stderr",
     "output_type": "stream",
     "text": [
      "100%|██████████| 80/80 [00:05<00:00, 13.98it/s]\n"
     ]
    },
    {
     "name": "stdout",
     "output_type": "stream",
     "text": [
      "Saving results in T:\\YuLab\\Video\\Naveed\\GPS_20_ThreeFPHoldSRTProbe\\20240816\\Init\\Clips...\n",
      "Saving csv poses!\n",
      "Starting to analyze %  T:/YuLab/Video/Naveed/GPS_20_ThreeFPHoldSRTProbe/20240816/Init/Clips/Naveed_20240816_Trial044_InitView.avi\n",
      "Loading  T:/YuLab/Video/Naveed/GPS_20_ThreeFPHoldSRTProbe/20240816/Init/Clips/Naveed_20240816_Trial044_InitView.avi\n",
      "Duration of video [s]:  4.0 , recorded with  20.0 fps!\n",
      "Overall # of frames:  80  found with (before cropping) frame dimensions:  1280 1024\n",
      "Starting to extract posture\n"
     ]
    },
    {
     "name": "stderr",
     "output_type": "stream",
     "text": [
      "100%|██████████| 80/80 [00:05<00:00, 14.26it/s]\n"
     ]
    },
    {
     "name": "stdout",
     "output_type": "stream",
     "text": [
      "Saving results in T:\\YuLab\\Video\\Naveed\\GPS_20_ThreeFPHoldSRTProbe\\20240816\\Init\\Clips...\n",
      "Saving csv poses!\n",
      "Starting to analyze %  T:/YuLab/Video/Naveed/GPS_20_ThreeFPHoldSRTProbe/20240816/Init/Clips/Naveed_20240816_Trial045_InitView.avi\n",
      "Loading  T:/YuLab/Video/Naveed/GPS_20_ThreeFPHoldSRTProbe/20240816/Init/Clips/Naveed_20240816_Trial045_InitView.avi\n",
      "Duration of video [s]:  4.0 , recorded with  20.0 fps!\n",
      "Overall # of frames:  80  found with (before cropping) frame dimensions:  1280 1024\n",
      "Starting to extract posture\n"
     ]
    },
    {
     "name": "stderr",
     "output_type": "stream",
     "text": [
      "100%|██████████| 80/80 [00:05<00:00, 14.33it/s]\n"
     ]
    },
    {
     "name": "stdout",
     "output_type": "stream",
     "text": [
      "Saving results in T:\\YuLab\\Video\\Naveed\\GPS_20_ThreeFPHoldSRTProbe\\20240816\\Init\\Clips...\n",
      "Saving csv poses!\n",
      "Starting to analyze %  T:/YuLab/Video/Naveed/GPS_20_ThreeFPHoldSRTProbe/20240816/Init/Clips/Naveed_20240816_Trial046_InitView.avi\n",
      "Loading  T:/YuLab/Video/Naveed/GPS_20_ThreeFPHoldSRTProbe/20240816/Init/Clips/Naveed_20240816_Trial046_InitView.avi\n",
      "Duration of video [s]:  4.0 , recorded with  20.0 fps!\n",
      "Overall # of frames:  80  found with (before cropping) frame dimensions:  1280 1024\n",
      "Starting to extract posture\n"
     ]
    },
    {
     "name": "stderr",
     "output_type": "stream",
     "text": [
      "100%|██████████| 80/80 [00:05<00:00, 14.27it/s]\n"
     ]
    },
    {
     "name": "stdout",
     "output_type": "stream",
     "text": [
      "Saving results in T:\\YuLab\\Video\\Naveed\\GPS_20_ThreeFPHoldSRTProbe\\20240816\\Init\\Clips...\n",
      "Saving csv poses!\n",
      "Starting to analyze %  T:/YuLab/Video/Naveed/GPS_20_ThreeFPHoldSRTProbe/20240816/Init/Clips/Naveed_20240816_Trial047_InitView.avi\n",
      "Loading  T:/YuLab/Video/Naveed/GPS_20_ThreeFPHoldSRTProbe/20240816/Init/Clips/Naveed_20240816_Trial047_InitView.avi\n",
      "Duration of video [s]:  4.0 , recorded with  20.0 fps!\n",
      "Overall # of frames:  80  found with (before cropping) frame dimensions:  1280 1024\n",
      "Starting to extract posture\n"
     ]
    },
    {
     "name": "stderr",
     "output_type": "stream",
     "text": [
      "100%|██████████| 80/80 [00:05<00:00, 14.30it/s]\n"
     ]
    },
    {
     "name": "stdout",
     "output_type": "stream",
     "text": [
      "Saving results in T:\\YuLab\\Video\\Naveed\\GPS_20_ThreeFPHoldSRTProbe\\20240816\\Init\\Clips...\n",
      "Saving csv poses!\n",
      "Starting to analyze %  T:/YuLab/Video/Naveed/GPS_20_ThreeFPHoldSRTProbe/20240816/Init/Clips/Naveed_20240816_Trial048_InitView.avi\n",
      "Loading  T:/YuLab/Video/Naveed/GPS_20_ThreeFPHoldSRTProbe/20240816/Init/Clips/Naveed_20240816_Trial048_InitView.avi\n",
      "Duration of video [s]:  4.0 , recorded with  20.0 fps!\n",
      "Overall # of frames:  80  found with (before cropping) frame dimensions:  1280 1024\n",
      "Starting to extract posture\n"
     ]
    },
    {
     "name": "stderr",
     "output_type": "stream",
     "text": [
      "100%|██████████| 80/80 [00:05<00:00, 14.44it/s]\n"
     ]
    },
    {
     "name": "stdout",
     "output_type": "stream",
     "text": [
      "Saving results in T:\\YuLab\\Video\\Naveed\\GPS_20_ThreeFPHoldSRTProbe\\20240816\\Init\\Clips...\n",
      "Saving csv poses!\n",
      "Starting to analyze %  T:/YuLab/Video/Naveed/GPS_20_ThreeFPHoldSRTProbe/20240816/Init/Clips/Naveed_20240816_Trial049_InitView.avi\n",
      "Loading  T:/YuLab/Video/Naveed/GPS_20_ThreeFPHoldSRTProbe/20240816/Init/Clips/Naveed_20240816_Trial049_InitView.avi\n",
      "Duration of video [s]:  4.0 , recorded with  20.0 fps!\n",
      "Overall # of frames:  80  found with (before cropping) frame dimensions:  1280 1024\n",
      "Starting to extract posture\n"
     ]
    },
    {
     "name": "stderr",
     "output_type": "stream",
     "text": [
      "100%|██████████| 80/80 [00:05<00:00, 14.48it/s]\n"
     ]
    },
    {
     "name": "stdout",
     "output_type": "stream",
     "text": [
      "Saving results in T:\\YuLab\\Video\\Naveed\\GPS_20_ThreeFPHoldSRTProbe\\20240816\\Init\\Clips...\n",
      "Saving csv poses!\n",
      "Starting to analyze %  T:/YuLab/Video/Naveed/GPS_20_ThreeFPHoldSRTProbe/20240816/Init/Clips/Naveed_20240816_Trial050_InitView.avi\n",
      "Loading  T:/YuLab/Video/Naveed/GPS_20_ThreeFPHoldSRTProbe/20240816/Init/Clips/Naveed_20240816_Trial050_InitView.avi\n",
      "Duration of video [s]:  4.0 , recorded with  20.0 fps!\n",
      "Overall # of frames:  80  found with (before cropping) frame dimensions:  1280 1024\n",
      "Starting to extract posture\n"
     ]
    },
    {
     "name": "stderr",
     "output_type": "stream",
     "text": [
      "100%|██████████| 80/80 [00:05<00:00, 14.18it/s]\n"
     ]
    },
    {
     "name": "stdout",
     "output_type": "stream",
     "text": [
      "Saving results in T:\\YuLab\\Video\\Naveed\\GPS_20_ThreeFPHoldSRTProbe\\20240816\\Init\\Clips...\n",
      "Saving csv poses!\n",
      "Starting to analyze %  T:/YuLab/Video/Naveed/GPS_20_ThreeFPHoldSRTProbe/20240816/Init/Clips/Naveed_20240816_Trial051_InitView.avi\n",
      "Loading  T:/YuLab/Video/Naveed/GPS_20_ThreeFPHoldSRTProbe/20240816/Init/Clips/Naveed_20240816_Trial051_InitView.avi\n",
      "Duration of video [s]:  4.0 , recorded with  20.0 fps!\n",
      "Overall # of frames:  80  found with (before cropping) frame dimensions:  1280 1024\n",
      "Starting to extract posture\n"
     ]
    },
    {
     "name": "stderr",
     "output_type": "stream",
     "text": [
      "100%|██████████| 80/80 [00:05<00:00, 14.59it/s]\n"
     ]
    },
    {
     "name": "stdout",
     "output_type": "stream",
     "text": [
      "Saving results in T:\\YuLab\\Video\\Naveed\\GPS_20_ThreeFPHoldSRTProbe\\20240816\\Init\\Clips...\n",
      "Saving csv poses!\n",
      "Starting to analyze %  T:/YuLab/Video/Naveed/GPS_20_ThreeFPHoldSRTProbe/20240816/Init/Clips/Naveed_20240816_Trial052_InitView.avi\n",
      "Loading  T:/YuLab/Video/Naveed/GPS_20_ThreeFPHoldSRTProbe/20240816/Init/Clips/Naveed_20240816_Trial052_InitView.avi\n",
      "Duration of video [s]:  4.0 , recorded with  20.0 fps!\n",
      "Overall # of frames:  80  found with (before cropping) frame dimensions:  1280 1024\n",
      "Starting to extract posture\n"
     ]
    },
    {
     "name": "stderr",
     "output_type": "stream",
     "text": [
      "100%|██████████| 80/80 [00:05<00:00, 14.47it/s]\n"
     ]
    },
    {
     "name": "stdout",
     "output_type": "stream",
     "text": [
      "Saving results in T:\\YuLab\\Video\\Naveed\\GPS_20_ThreeFPHoldSRTProbe\\20240816\\Init\\Clips...\n",
      "Saving csv poses!\n",
      "Starting to analyze %  T:/YuLab/Video/Naveed/GPS_20_ThreeFPHoldSRTProbe/20240816/Init/Clips/Naveed_20240816_Trial053_InitView.avi\n",
      "Loading  T:/YuLab/Video/Naveed/GPS_20_ThreeFPHoldSRTProbe/20240816/Init/Clips/Naveed_20240816_Trial053_InitView.avi\n",
      "Duration of video [s]:  4.0 , recorded with  20.0 fps!\n",
      "Overall # of frames:  80  found with (before cropping) frame dimensions:  1280 1024\n",
      "Starting to extract posture\n"
     ]
    },
    {
     "name": "stderr",
     "output_type": "stream",
     "text": [
      "100%|██████████| 80/80 [00:05<00:00, 14.40it/s]\n"
     ]
    },
    {
     "name": "stdout",
     "output_type": "stream",
     "text": [
      "Saving results in T:\\YuLab\\Video\\Naveed\\GPS_20_ThreeFPHoldSRTProbe\\20240816\\Init\\Clips...\n",
      "Saving csv poses!\n",
      "Starting to analyze %  T:/YuLab/Video/Naveed/GPS_20_ThreeFPHoldSRTProbe/20240816/Init/Clips/Naveed_20240816_Trial054_InitView.avi\n",
      "Loading  T:/YuLab/Video/Naveed/GPS_20_ThreeFPHoldSRTProbe/20240816/Init/Clips/Naveed_20240816_Trial054_InitView.avi\n",
      "Duration of video [s]:  4.0 , recorded with  20.0 fps!\n",
      "Overall # of frames:  80  found with (before cropping) frame dimensions:  1280 1024\n",
      "Starting to extract posture\n"
     ]
    },
    {
     "name": "stderr",
     "output_type": "stream",
     "text": [
      "100%|██████████| 80/80 [00:05<00:00, 14.49it/s]\n"
     ]
    },
    {
     "name": "stdout",
     "output_type": "stream",
     "text": [
      "Saving results in T:\\YuLab\\Video\\Naveed\\GPS_20_ThreeFPHoldSRTProbe\\20240816\\Init\\Clips...\n",
      "Saving csv poses!\n",
      "Starting to analyze %  T:/YuLab/Video/Naveed/GPS_20_ThreeFPHoldSRTProbe/20240816/Init/Clips/Naveed_20240816_Trial055_InitView.avi\n",
      "Loading  T:/YuLab/Video/Naveed/GPS_20_ThreeFPHoldSRTProbe/20240816/Init/Clips/Naveed_20240816_Trial055_InitView.avi\n",
      "Duration of video [s]:  4.0 , recorded with  20.0 fps!\n",
      "Overall # of frames:  80  found with (before cropping) frame dimensions:  1280 1024\n",
      "Starting to extract posture\n"
     ]
    },
    {
     "name": "stderr",
     "output_type": "stream",
     "text": [
      "100%|██████████| 80/80 [00:05<00:00, 14.58it/s]\n"
     ]
    },
    {
     "name": "stdout",
     "output_type": "stream",
     "text": [
      "Saving results in T:\\YuLab\\Video\\Naveed\\GPS_20_ThreeFPHoldSRTProbe\\20240816\\Init\\Clips...\n",
      "Saving csv poses!\n",
      "Starting to analyze %  T:/YuLab/Video/Naveed/GPS_20_ThreeFPHoldSRTProbe/20240816/Init/Clips/Naveed_20240816_Trial056_InitView.avi\n",
      "Loading  T:/YuLab/Video/Naveed/GPS_20_ThreeFPHoldSRTProbe/20240816/Init/Clips/Naveed_20240816_Trial056_InitView.avi\n",
      "Duration of video [s]:  4.05 , recorded with  20.0 fps!\n",
      "Overall # of frames:  81  found with (before cropping) frame dimensions:  1280 1024\n",
      "Starting to extract posture\n"
     ]
    },
    {
     "name": "stderr",
     "output_type": "stream",
     "text": [
      "100%|██████████| 81/81 [00:06<00:00, 13.35it/s]\n"
     ]
    },
    {
     "name": "stdout",
     "output_type": "stream",
     "text": [
      "Saving results in T:\\YuLab\\Video\\Naveed\\GPS_20_ThreeFPHoldSRTProbe\\20240816\\Init\\Clips...\n",
      "Saving csv poses!\n",
      "Starting to analyze %  T:/YuLab/Video/Naveed/GPS_20_ThreeFPHoldSRTProbe/20240816/Init/Clips/Naveed_20240816_Trial057_InitView.avi\n",
      "Loading  T:/YuLab/Video/Naveed/GPS_20_ThreeFPHoldSRTProbe/20240816/Init/Clips/Naveed_20240816_Trial057_InitView.avi\n",
      "Duration of video [s]:  4.0 , recorded with  20.0 fps!\n",
      "Overall # of frames:  80  found with (before cropping) frame dimensions:  1280 1024\n",
      "Starting to extract posture\n"
     ]
    },
    {
     "name": "stderr",
     "output_type": "stream",
     "text": [
      "100%|██████████| 80/80 [00:05<00:00, 14.53it/s]\n"
     ]
    },
    {
     "name": "stdout",
     "output_type": "stream",
     "text": [
      "Saving results in T:\\YuLab\\Video\\Naveed\\GPS_20_ThreeFPHoldSRTProbe\\20240816\\Init\\Clips...\n",
      "Saving csv poses!\n",
      "Starting to analyze %  T:/YuLab/Video/Naveed/GPS_20_ThreeFPHoldSRTProbe/20240816/Init/Clips/Naveed_20240816_Trial059_InitView.avi\n",
      "Loading  T:/YuLab/Video/Naveed/GPS_20_ThreeFPHoldSRTProbe/20240816/Init/Clips/Naveed_20240816_Trial059_InitView.avi\n",
      "Duration of video [s]:  4.0 , recorded with  20.0 fps!\n",
      "Overall # of frames:  80  found with (before cropping) frame dimensions:  1280 1024\n",
      "Starting to extract posture\n"
     ]
    },
    {
     "name": "stderr",
     "output_type": "stream",
     "text": [
      "100%|██████████| 80/80 [00:05<00:00, 14.11it/s]\n"
     ]
    },
    {
     "name": "stdout",
     "output_type": "stream",
     "text": [
      "Saving results in T:\\YuLab\\Video\\Naveed\\GPS_20_ThreeFPHoldSRTProbe\\20240816\\Init\\Clips...\n",
      "Saving csv poses!\n",
      "Starting to analyze %  T:/YuLab/Video/Naveed/GPS_20_ThreeFPHoldSRTProbe/20240816/Init/Clips/Naveed_20240816_Trial060_InitView.avi\n",
      "Loading  T:/YuLab/Video/Naveed/GPS_20_ThreeFPHoldSRTProbe/20240816/Init/Clips/Naveed_20240816_Trial060_InitView.avi\n",
      "Duration of video [s]:  4.0 , recorded with  20.0 fps!\n",
      "Overall # of frames:  80  found with (before cropping) frame dimensions:  1280 1024\n",
      "Starting to extract posture\n"
     ]
    },
    {
     "name": "stderr",
     "output_type": "stream",
     "text": [
      "100%|██████████| 80/80 [00:05<00:00, 14.57it/s]\n"
     ]
    },
    {
     "name": "stdout",
     "output_type": "stream",
     "text": [
      "Saving results in T:\\YuLab\\Video\\Naveed\\GPS_20_ThreeFPHoldSRTProbe\\20240816\\Init\\Clips...\n",
      "Saving csv poses!\n",
      "Starting to analyze %  T:/YuLab/Video/Naveed/GPS_20_ThreeFPHoldSRTProbe/20240816/Init/Clips/Naveed_20240816_Trial061_InitView.avi\n",
      "Loading  T:/YuLab/Video/Naveed/GPS_20_ThreeFPHoldSRTProbe/20240816/Init/Clips/Naveed_20240816_Trial061_InitView.avi\n",
      "Duration of video [s]:  4.0 , recorded with  20.0 fps!\n",
      "Overall # of frames:  80  found with (before cropping) frame dimensions:  1280 1024\n",
      "Starting to extract posture\n"
     ]
    },
    {
     "name": "stderr",
     "output_type": "stream",
     "text": [
      "100%|██████████| 80/80 [00:05<00:00, 14.44it/s]\n"
     ]
    },
    {
     "name": "stdout",
     "output_type": "stream",
     "text": [
      "Saving results in T:\\YuLab\\Video\\Naveed\\GPS_20_ThreeFPHoldSRTProbe\\20240816\\Init\\Clips...\n",
      "Saving csv poses!\n",
      "Starting to analyze %  T:/YuLab/Video/Naveed/GPS_20_ThreeFPHoldSRTProbe/20240816/Init/Clips/Naveed_20240816_Trial062_InitView.avi\n",
      "Loading  T:/YuLab/Video/Naveed/GPS_20_ThreeFPHoldSRTProbe/20240816/Init/Clips/Naveed_20240816_Trial062_InitView.avi\n",
      "Duration of video [s]:  4.0 , recorded with  20.0 fps!\n",
      "Overall # of frames:  80  found with (before cropping) frame dimensions:  1280 1024\n",
      "Starting to extract posture\n"
     ]
    },
    {
     "name": "stderr",
     "output_type": "stream",
     "text": [
      "100%|██████████| 80/80 [00:05<00:00, 14.64it/s]\n"
     ]
    },
    {
     "name": "stdout",
     "output_type": "stream",
     "text": [
      "Saving results in T:\\YuLab\\Video\\Naveed\\GPS_20_ThreeFPHoldSRTProbe\\20240816\\Init\\Clips...\n",
      "Saving csv poses!\n",
      "Starting to analyze %  T:/YuLab/Video/Naveed/GPS_20_ThreeFPHoldSRTProbe/20240816/Init/Clips/Naveed_20240816_Trial063_InitView.avi\n",
      "Loading  T:/YuLab/Video/Naveed/GPS_20_ThreeFPHoldSRTProbe/20240816/Init/Clips/Naveed_20240816_Trial063_InitView.avi\n",
      "Duration of video [s]:  4.0 , recorded with  20.0 fps!\n",
      "Overall # of frames:  80  found with (before cropping) frame dimensions:  1280 1024\n",
      "Starting to extract posture\n"
     ]
    },
    {
     "name": "stderr",
     "output_type": "stream",
     "text": [
      "100%|██████████| 80/80 [00:05<00:00, 14.51it/s]\n"
     ]
    },
    {
     "name": "stdout",
     "output_type": "stream",
     "text": [
      "Saving results in T:\\YuLab\\Video\\Naveed\\GPS_20_ThreeFPHoldSRTProbe\\20240816\\Init\\Clips...\n",
      "Saving csv poses!\n",
      "Starting to analyze %  T:/YuLab/Video/Naveed/GPS_20_ThreeFPHoldSRTProbe/20240816/Init/Clips/Naveed_20240816_Trial064_InitView.avi\n",
      "Loading  T:/YuLab/Video/Naveed/GPS_20_ThreeFPHoldSRTProbe/20240816/Init/Clips/Naveed_20240816_Trial064_InitView.avi\n",
      "Duration of video [s]:  4.0 , recorded with  20.0 fps!\n",
      "Overall # of frames:  80  found with (before cropping) frame dimensions:  1280 1024\n",
      "Starting to extract posture\n"
     ]
    },
    {
     "name": "stderr",
     "output_type": "stream",
     "text": [
      "100%|██████████| 80/80 [00:05<00:00, 14.48it/s]\n"
     ]
    },
    {
     "name": "stdout",
     "output_type": "stream",
     "text": [
      "Saving results in T:\\YuLab\\Video\\Naveed\\GPS_20_ThreeFPHoldSRTProbe\\20240816\\Init\\Clips...\n",
      "Saving csv poses!\n",
      "Starting to analyze %  T:/YuLab/Video/Naveed/GPS_20_ThreeFPHoldSRTProbe/20240816/Init/Clips/Naveed_20240816_Trial065_InitView.avi\n",
      "Loading  T:/YuLab/Video/Naveed/GPS_20_ThreeFPHoldSRTProbe/20240816/Init/Clips/Naveed_20240816_Trial065_InitView.avi\n",
      "Duration of video [s]:  4.0 , recorded with  20.0 fps!\n",
      "Overall # of frames:  80  found with (before cropping) frame dimensions:  1280 1024\n",
      "Starting to extract posture\n"
     ]
    },
    {
     "name": "stderr",
     "output_type": "stream",
     "text": [
      "100%|██████████| 80/80 [00:05<00:00, 14.55it/s]\n"
     ]
    },
    {
     "name": "stdout",
     "output_type": "stream",
     "text": [
      "Saving results in T:\\YuLab\\Video\\Naveed\\GPS_20_ThreeFPHoldSRTProbe\\20240816\\Init\\Clips...\n",
      "Saving csv poses!\n",
      "Starting to analyze %  T:/YuLab/Video/Naveed/GPS_20_ThreeFPHoldSRTProbe/20240816/Init/Clips/Naveed_20240816_Trial066_InitView.avi\n",
      "Loading  T:/YuLab/Video/Naveed/GPS_20_ThreeFPHoldSRTProbe/20240816/Init/Clips/Naveed_20240816_Trial066_InitView.avi\n",
      "Duration of video [s]:  4.0 , recorded with  20.0 fps!\n",
      "Overall # of frames:  80  found with (before cropping) frame dimensions:  1280 1024\n",
      "Starting to extract posture\n"
     ]
    },
    {
     "name": "stderr",
     "output_type": "stream",
     "text": [
      "100%|██████████| 80/80 [00:05<00:00, 14.64it/s]\n"
     ]
    },
    {
     "name": "stdout",
     "output_type": "stream",
     "text": [
      "Saving results in T:\\YuLab\\Video\\Naveed\\GPS_20_ThreeFPHoldSRTProbe\\20240816\\Init\\Clips...\n",
      "Saving csv poses!\n",
      "Starting to analyze %  T:/YuLab/Video/Naveed/GPS_20_ThreeFPHoldSRTProbe/20240816/Init/Clips/Naveed_20240816_Trial067_InitView.avi\n",
      "Loading  T:/YuLab/Video/Naveed/GPS_20_ThreeFPHoldSRTProbe/20240816/Init/Clips/Naveed_20240816_Trial067_InitView.avi\n",
      "Duration of video [s]:  4.0 , recorded with  20.0 fps!\n",
      "Overall # of frames:  80  found with (before cropping) frame dimensions:  1280 1024\n",
      "Starting to extract posture\n"
     ]
    },
    {
     "name": "stderr",
     "output_type": "stream",
     "text": [
      "100%|██████████| 80/80 [00:05<00:00, 14.60it/s]\n"
     ]
    },
    {
     "name": "stdout",
     "output_type": "stream",
     "text": [
      "Saving results in T:\\YuLab\\Video\\Naveed\\GPS_20_ThreeFPHoldSRTProbe\\20240816\\Init\\Clips...\n",
      "Saving csv poses!\n",
      "Starting to analyze %  T:/YuLab/Video/Naveed/GPS_20_ThreeFPHoldSRTProbe/20240816/Init/Clips/Naveed_20240816_Trial068_InitView.avi\n",
      "Loading  T:/YuLab/Video/Naveed/GPS_20_ThreeFPHoldSRTProbe/20240816/Init/Clips/Naveed_20240816_Trial068_InitView.avi\n",
      "Duration of video [s]:  4.0 , recorded with  20.0 fps!\n",
      "Overall # of frames:  80  found with (before cropping) frame dimensions:  1280 1024\n",
      "Starting to extract posture\n"
     ]
    },
    {
     "name": "stderr",
     "output_type": "stream",
     "text": [
      "100%|██████████| 80/80 [00:05<00:00, 14.64it/s]\n"
     ]
    },
    {
     "name": "stdout",
     "output_type": "stream",
     "text": [
      "Saving results in T:\\YuLab\\Video\\Naveed\\GPS_20_ThreeFPHoldSRTProbe\\20240816\\Init\\Clips...\n",
      "Saving csv poses!\n",
      "Starting to analyze %  T:/YuLab/Video/Naveed/GPS_20_ThreeFPHoldSRTProbe/20240816/Init/Clips/Naveed_20240816_Trial069_InitView.avi\n",
      "Loading  T:/YuLab/Video/Naveed/GPS_20_ThreeFPHoldSRTProbe/20240816/Init/Clips/Naveed_20240816_Trial069_InitView.avi\n",
      "Duration of video [s]:  4.0 , recorded with  20.0 fps!\n",
      "Overall # of frames:  80  found with (before cropping) frame dimensions:  1280 1024\n",
      "Starting to extract posture\n"
     ]
    },
    {
     "name": "stderr",
     "output_type": "stream",
     "text": [
      "100%|██████████| 80/80 [00:05<00:00, 14.80it/s]\n"
     ]
    },
    {
     "name": "stdout",
     "output_type": "stream",
     "text": [
      "Saving results in T:\\YuLab\\Video\\Naveed\\GPS_20_ThreeFPHoldSRTProbe\\20240816\\Init\\Clips...\n",
      "Saving csv poses!\n",
      "Starting to analyze %  T:/YuLab/Video/Naveed/GPS_20_ThreeFPHoldSRTProbe/20240816/Init/Clips/Naveed_20240816_Trial070_InitView.avi\n",
      "Loading  T:/YuLab/Video/Naveed/GPS_20_ThreeFPHoldSRTProbe/20240816/Init/Clips/Naveed_20240816_Trial070_InitView.avi\n",
      "Duration of video [s]:  4.0 , recorded with  20.0 fps!\n",
      "Overall # of frames:  80  found with (before cropping) frame dimensions:  1280 1024\n",
      "Starting to extract posture\n"
     ]
    },
    {
     "name": "stderr",
     "output_type": "stream",
     "text": [
      "100%|██████████| 80/80 [00:05<00:00, 14.62it/s]\n"
     ]
    },
    {
     "name": "stdout",
     "output_type": "stream",
     "text": [
      "Saving results in T:\\YuLab\\Video\\Naveed\\GPS_20_ThreeFPHoldSRTProbe\\20240816\\Init\\Clips...\n",
      "Saving csv poses!\n",
      "Starting to analyze %  T:/YuLab/Video/Naveed/GPS_20_ThreeFPHoldSRTProbe/20240816/Init/Clips/Naveed_20240816_Trial071_InitView.avi\n",
      "Loading  T:/YuLab/Video/Naveed/GPS_20_ThreeFPHoldSRTProbe/20240816/Init/Clips/Naveed_20240816_Trial071_InitView.avi\n",
      "Duration of video [s]:  4.0 , recorded with  20.0 fps!\n",
      "Overall # of frames:  80  found with (before cropping) frame dimensions:  1280 1024\n",
      "Starting to extract posture\n"
     ]
    },
    {
     "name": "stderr",
     "output_type": "stream",
     "text": [
      "100%|██████████| 80/80 [00:05<00:00, 14.20it/s]\n"
     ]
    },
    {
     "name": "stdout",
     "output_type": "stream",
     "text": [
      "Saving results in T:\\YuLab\\Video\\Naveed\\GPS_20_ThreeFPHoldSRTProbe\\20240816\\Init\\Clips...\n",
      "Saving csv poses!\n",
      "Starting to analyze %  T:/YuLab/Video/Naveed/GPS_20_ThreeFPHoldSRTProbe/20240816/Init/Clips/Naveed_20240816_Trial072_InitView.avi\n",
      "Loading  T:/YuLab/Video/Naveed/GPS_20_ThreeFPHoldSRTProbe/20240816/Init/Clips/Naveed_20240816_Trial072_InitView.avi\n",
      "Duration of video [s]:  4.0 , recorded with  20.0 fps!\n",
      "Overall # of frames:  80  found with (before cropping) frame dimensions:  1280 1024\n",
      "Starting to extract posture\n"
     ]
    },
    {
     "name": "stderr",
     "output_type": "stream",
     "text": [
      "100%|██████████| 80/80 [00:05<00:00, 14.42it/s]\n"
     ]
    },
    {
     "name": "stdout",
     "output_type": "stream",
     "text": [
      "Saving results in T:\\YuLab\\Video\\Naveed\\GPS_20_ThreeFPHoldSRTProbe\\20240816\\Init\\Clips...\n",
      "Saving csv poses!\n",
      "Starting to analyze %  T:/YuLab/Video/Naveed/GPS_20_ThreeFPHoldSRTProbe/20240816/Init/Clips/Naveed_20240816_Trial073_InitView.avi\n",
      "Loading  T:/YuLab/Video/Naveed/GPS_20_ThreeFPHoldSRTProbe/20240816/Init/Clips/Naveed_20240816_Trial073_InitView.avi\n",
      "Duration of video [s]:  4.0 , recorded with  20.0 fps!\n",
      "Overall # of frames:  80  found with (before cropping) frame dimensions:  1280 1024\n",
      "Starting to extract posture\n"
     ]
    },
    {
     "name": "stderr",
     "output_type": "stream",
     "text": [
      "100%|██████████| 80/80 [00:05<00:00, 14.29it/s]\n"
     ]
    },
    {
     "name": "stdout",
     "output_type": "stream",
     "text": [
      "Saving results in T:\\YuLab\\Video\\Naveed\\GPS_20_ThreeFPHoldSRTProbe\\20240816\\Init\\Clips...\n",
      "Saving csv poses!\n",
      "Starting to analyze %  T:/YuLab/Video/Naveed/GPS_20_ThreeFPHoldSRTProbe/20240816/Init/Clips/Naveed_20240816_Trial074_InitView.avi\n",
      "Loading  T:/YuLab/Video/Naveed/GPS_20_ThreeFPHoldSRTProbe/20240816/Init/Clips/Naveed_20240816_Trial074_InitView.avi\n",
      "Duration of video [s]:  4.0 , recorded with  20.0 fps!\n",
      "Overall # of frames:  80  found with (before cropping) frame dimensions:  1280 1024\n",
      "Starting to extract posture\n"
     ]
    },
    {
     "name": "stderr",
     "output_type": "stream",
     "text": [
      "100%|██████████| 80/80 [00:05<00:00, 14.35it/s]\n"
     ]
    },
    {
     "name": "stdout",
     "output_type": "stream",
     "text": [
      "Saving results in T:\\YuLab\\Video\\Naveed\\GPS_20_ThreeFPHoldSRTProbe\\20240816\\Init\\Clips...\n",
      "Saving csv poses!\n",
      "Starting to analyze %  T:/YuLab/Video/Naveed/GPS_20_ThreeFPHoldSRTProbe/20240816/Init/Clips/Naveed_20240816_Trial075_InitView.avi\n",
      "Loading  T:/YuLab/Video/Naveed/GPS_20_ThreeFPHoldSRTProbe/20240816/Init/Clips/Naveed_20240816_Trial075_InitView.avi\n",
      "Duration of video [s]:  4.0 , recorded with  20.0 fps!\n",
      "Overall # of frames:  80  found with (before cropping) frame dimensions:  1280 1024\n",
      "Starting to extract posture\n"
     ]
    },
    {
     "name": "stderr",
     "output_type": "stream",
     "text": [
      "100%|██████████| 80/80 [00:05<00:00, 14.22it/s]\n"
     ]
    },
    {
     "name": "stdout",
     "output_type": "stream",
     "text": [
      "Saving results in T:\\YuLab\\Video\\Naveed\\GPS_20_ThreeFPHoldSRTProbe\\20240816\\Init\\Clips...\n",
      "Saving csv poses!\n",
      "Starting to analyze %  T:/YuLab/Video/Naveed/GPS_20_ThreeFPHoldSRTProbe/20240816/Init/Clips/Naveed_20240816_Trial076_InitView.avi\n",
      "Loading  T:/YuLab/Video/Naveed/GPS_20_ThreeFPHoldSRTProbe/20240816/Init/Clips/Naveed_20240816_Trial076_InitView.avi\n",
      "Duration of video [s]:  4.0 , recorded with  20.0 fps!\n",
      "Overall # of frames:  80  found with (before cropping) frame dimensions:  1280 1024\n",
      "Starting to extract posture\n"
     ]
    },
    {
     "name": "stderr",
     "output_type": "stream",
     "text": [
      "100%|██████████| 80/80 [00:05<00:00, 14.36it/s]\n"
     ]
    },
    {
     "name": "stdout",
     "output_type": "stream",
     "text": [
      "Saving results in T:\\YuLab\\Video\\Naveed\\GPS_20_ThreeFPHoldSRTProbe\\20240816\\Init\\Clips...\n",
      "Saving csv poses!\n",
      "Starting to analyze %  T:/YuLab/Video/Naveed/GPS_20_ThreeFPHoldSRTProbe/20240816/Init/Clips/Naveed_20240816_Trial077_InitView.avi\n",
      "Loading  T:/YuLab/Video/Naveed/GPS_20_ThreeFPHoldSRTProbe/20240816/Init/Clips/Naveed_20240816_Trial077_InitView.avi\n",
      "Duration of video [s]:  4.0 , recorded with  20.0 fps!\n",
      "Overall # of frames:  80  found with (before cropping) frame dimensions:  1280 1024\n",
      "Starting to extract posture\n"
     ]
    },
    {
     "name": "stderr",
     "output_type": "stream",
     "text": [
      "100%|██████████| 80/80 [00:05<00:00, 14.16it/s]\n"
     ]
    },
    {
     "name": "stdout",
     "output_type": "stream",
     "text": [
      "Saving results in T:\\YuLab\\Video\\Naveed\\GPS_20_ThreeFPHoldSRTProbe\\20240816\\Init\\Clips...\n",
      "Saving csv poses!\n",
      "Starting to analyze %  T:/YuLab/Video/Naveed/GPS_20_ThreeFPHoldSRTProbe/20240816/Init/Clips/Naveed_20240816_Trial078_InitView.avi\n",
      "Loading  T:/YuLab/Video/Naveed/GPS_20_ThreeFPHoldSRTProbe/20240816/Init/Clips/Naveed_20240816_Trial078_InitView.avi\n",
      "Duration of video [s]:  4.0 , recorded with  20.0 fps!\n",
      "Overall # of frames:  80  found with (before cropping) frame dimensions:  1280 1024\n",
      "Starting to extract posture\n"
     ]
    },
    {
     "name": "stderr",
     "output_type": "stream",
     "text": [
      "100%|██████████| 80/80 [00:05<00:00, 14.07it/s]\n"
     ]
    },
    {
     "name": "stdout",
     "output_type": "stream",
     "text": [
      "Saving results in T:\\YuLab\\Video\\Naveed\\GPS_20_ThreeFPHoldSRTProbe\\20240816\\Init\\Clips...\n",
      "Saving csv poses!\n",
      "Starting to analyze %  T:/YuLab/Video/Naveed/GPS_20_ThreeFPHoldSRTProbe/20240816/Init/Clips/Naveed_20240816_Trial079_InitView.avi\n",
      "Loading  T:/YuLab/Video/Naveed/GPS_20_ThreeFPHoldSRTProbe/20240816/Init/Clips/Naveed_20240816_Trial079_InitView.avi\n",
      "Duration of video [s]:  4.0 , recorded with  20.0 fps!\n",
      "Overall # of frames:  80  found with (before cropping) frame dimensions:  1280 1024\n",
      "Starting to extract posture\n"
     ]
    },
    {
     "name": "stderr",
     "output_type": "stream",
     "text": [
      "100%|██████████| 80/80 [00:05<00:00, 14.33it/s]\n"
     ]
    },
    {
     "name": "stdout",
     "output_type": "stream",
     "text": [
      "Saving results in T:\\YuLab\\Video\\Naveed\\GPS_20_ThreeFPHoldSRTProbe\\20240816\\Init\\Clips...\n",
      "Saving csv poses!\n",
      "Starting to analyze %  T:/YuLab/Video/Naveed/GPS_20_ThreeFPHoldSRTProbe/20240816/Init/Clips/Naveed_20240816_Trial080_InitView.avi\n",
      "Loading  T:/YuLab/Video/Naveed/GPS_20_ThreeFPHoldSRTProbe/20240816/Init/Clips/Naveed_20240816_Trial080_InitView.avi\n",
      "Duration of video [s]:  4.0 , recorded with  20.0 fps!\n",
      "Overall # of frames:  80  found with (before cropping) frame dimensions:  1280 1024\n",
      "Starting to extract posture\n"
     ]
    },
    {
     "name": "stderr",
     "output_type": "stream",
     "text": [
      "100%|██████████| 80/80 [00:05<00:00, 14.26it/s]\n"
     ]
    },
    {
     "name": "stdout",
     "output_type": "stream",
     "text": [
      "Saving results in T:\\YuLab\\Video\\Naveed\\GPS_20_ThreeFPHoldSRTProbe\\20240816\\Init\\Clips...\n",
      "Saving csv poses!\n",
      "Starting to analyze %  T:/YuLab/Video/Naveed/GPS_20_ThreeFPHoldSRTProbe/20240816/Init/Clips/Naveed_20240816_Trial081_InitView.avi\n",
      "Loading  T:/YuLab/Video/Naveed/GPS_20_ThreeFPHoldSRTProbe/20240816/Init/Clips/Naveed_20240816_Trial081_InitView.avi\n",
      "Duration of video [s]:  4.0 , recorded with  20.0 fps!\n",
      "Overall # of frames:  80  found with (before cropping) frame dimensions:  1280 1024\n",
      "Starting to extract posture\n"
     ]
    },
    {
     "name": "stderr",
     "output_type": "stream",
     "text": [
      "100%|██████████| 80/80 [00:05<00:00, 14.32it/s]\n"
     ]
    },
    {
     "name": "stdout",
     "output_type": "stream",
     "text": [
      "Saving results in T:\\YuLab\\Video\\Naveed\\GPS_20_ThreeFPHoldSRTProbe\\20240816\\Init\\Clips...\n",
      "Saving csv poses!\n",
      "Starting to analyze %  T:/YuLab/Video/Naveed/GPS_20_ThreeFPHoldSRTProbe/20240816/Init/Clips/Naveed_20240816_Trial082_InitView.avi\n",
      "Loading  T:/YuLab/Video/Naveed/GPS_20_ThreeFPHoldSRTProbe/20240816/Init/Clips/Naveed_20240816_Trial082_InitView.avi\n",
      "Duration of video [s]:  4.0 , recorded with  20.0 fps!\n",
      "Overall # of frames:  80  found with (before cropping) frame dimensions:  1280 1024\n",
      "Starting to extract posture\n"
     ]
    },
    {
     "name": "stderr",
     "output_type": "stream",
     "text": [
      "100%|██████████| 80/80 [00:05<00:00, 14.28it/s]\n"
     ]
    },
    {
     "name": "stdout",
     "output_type": "stream",
     "text": [
      "Saving results in T:\\YuLab\\Video\\Naveed\\GPS_20_ThreeFPHoldSRTProbe\\20240816\\Init\\Clips...\n",
      "Saving csv poses!\n",
      "Starting to analyze %  T:/YuLab/Video/Naveed/GPS_20_ThreeFPHoldSRTProbe/20240816/Init/Clips/Naveed_20240816_Trial083_InitView.avi\n",
      "Loading  T:/YuLab/Video/Naveed/GPS_20_ThreeFPHoldSRTProbe/20240816/Init/Clips/Naveed_20240816_Trial083_InitView.avi\n",
      "Duration of video [s]:  4.0 , recorded with  20.0 fps!\n",
      "Overall # of frames:  80  found with (before cropping) frame dimensions:  1280 1024\n",
      "Starting to extract posture\n"
     ]
    },
    {
     "name": "stderr",
     "output_type": "stream",
     "text": [
      "100%|██████████| 80/80 [00:05<00:00, 14.39it/s]\n"
     ]
    },
    {
     "name": "stdout",
     "output_type": "stream",
     "text": [
      "Saving results in T:\\YuLab\\Video\\Naveed\\GPS_20_ThreeFPHoldSRTProbe\\20240816\\Init\\Clips...\n",
      "Saving csv poses!\n",
      "Starting to analyze %  T:/YuLab/Video/Naveed/GPS_20_ThreeFPHoldSRTProbe/20240817/Init/Clips/Naveed_20240817_Trial011_InitView.avi\n",
      "Loading  T:/YuLab/Video/Naveed/GPS_20_ThreeFPHoldSRTProbe/20240817/Init/Clips/Naveed_20240817_Trial011_InitView.avi\n",
      "Duration of video [s]:  4.0 , recorded with  20.0 fps!\n",
      "Overall # of frames:  80  found with (before cropping) frame dimensions:  1280 1024\n",
      "Starting to extract posture\n"
     ]
    },
    {
     "name": "stderr",
     "output_type": "stream",
     "text": [
      "100%|██████████| 80/80 [00:05<00:00, 14.20it/s]\n"
     ]
    },
    {
     "name": "stdout",
     "output_type": "stream",
     "text": [
      "Saving results in T:\\YuLab\\Video\\Naveed\\GPS_20_ThreeFPHoldSRTProbe\\20240817\\Init\\Clips...\n",
      "Saving csv poses!\n",
      "Starting to analyze %  T:/YuLab/Video/Naveed/GPS_20_ThreeFPHoldSRTProbe/20240817/Init/Clips/Naveed_20240817_Trial012_InitView.avi\n",
      "Loading  T:/YuLab/Video/Naveed/GPS_20_ThreeFPHoldSRTProbe/20240817/Init/Clips/Naveed_20240817_Trial012_InitView.avi\n",
      "Duration of video [s]:  4.0 , recorded with  20.0 fps!\n",
      "Overall # of frames:  80  found with (before cropping) frame dimensions:  1280 1024\n",
      "Starting to extract posture\n"
     ]
    },
    {
     "name": "stderr",
     "output_type": "stream",
     "text": [
      "100%|██████████| 80/80 [00:05<00:00, 14.59it/s]\n"
     ]
    },
    {
     "name": "stdout",
     "output_type": "stream",
     "text": [
      "Saving results in T:\\YuLab\\Video\\Naveed\\GPS_20_ThreeFPHoldSRTProbe\\20240817\\Init\\Clips...\n",
      "Saving csv poses!\n",
      "Starting to analyze %  T:/YuLab/Video/Naveed/GPS_20_ThreeFPHoldSRTProbe/20240817/Init/Clips/Naveed_20240817_Trial013_InitView.avi\n",
      "Loading  T:/YuLab/Video/Naveed/GPS_20_ThreeFPHoldSRTProbe/20240817/Init/Clips/Naveed_20240817_Trial013_InitView.avi\n",
      "Duration of video [s]:  4.0 , recorded with  20.0 fps!\n",
      "Overall # of frames:  80  found with (before cropping) frame dimensions:  1280 1024\n",
      "Starting to extract posture\n"
     ]
    },
    {
     "name": "stderr",
     "output_type": "stream",
     "text": [
      "100%|██████████| 80/80 [00:05<00:00, 14.46it/s]\n"
     ]
    },
    {
     "name": "stdout",
     "output_type": "stream",
     "text": [
      "Saving results in T:\\YuLab\\Video\\Naveed\\GPS_20_ThreeFPHoldSRTProbe\\20240817\\Init\\Clips...\n",
      "Saving csv poses!\n",
      "Starting to analyze %  T:/YuLab/Video/Naveed/GPS_20_ThreeFPHoldSRTProbe/20240817/Init/Clips/Naveed_20240817_Trial014_InitView.avi\n",
      "Loading  T:/YuLab/Video/Naveed/GPS_20_ThreeFPHoldSRTProbe/20240817/Init/Clips/Naveed_20240817_Trial014_InitView.avi\n",
      "Duration of video [s]:  4.0 , recorded with  20.0 fps!\n",
      "Overall # of frames:  80  found with (before cropping) frame dimensions:  1280 1024\n",
      "Starting to extract posture\n"
     ]
    },
    {
     "name": "stderr",
     "output_type": "stream",
     "text": [
      "100%|██████████| 80/80 [00:05<00:00, 14.37it/s]\n"
     ]
    },
    {
     "name": "stdout",
     "output_type": "stream",
     "text": [
      "Saving results in T:\\YuLab\\Video\\Naveed\\GPS_20_ThreeFPHoldSRTProbe\\20240817\\Init\\Clips...\n",
      "Saving csv poses!\n",
      "Starting to analyze %  T:/YuLab/Video/Naveed/GPS_20_ThreeFPHoldSRTProbe/20240817/Init/Clips/Naveed_20240817_Trial015_InitView.avi\n",
      "Loading  T:/YuLab/Video/Naveed/GPS_20_ThreeFPHoldSRTProbe/20240817/Init/Clips/Naveed_20240817_Trial015_InitView.avi\n",
      "Duration of video [s]:  4.0 , recorded with  20.0 fps!\n",
      "Overall # of frames:  80  found with (before cropping) frame dimensions:  1280 1024\n",
      "Starting to extract posture\n"
     ]
    },
    {
     "name": "stderr",
     "output_type": "stream",
     "text": [
      "100%|██████████| 80/80 [00:05<00:00, 14.11it/s]\n"
     ]
    },
    {
     "name": "stdout",
     "output_type": "stream",
     "text": [
      "Saving results in T:\\YuLab\\Video\\Naveed\\GPS_20_ThreeFPHoldSRTProbe\\20240817\\Init\\Clips...\n",
      "Saving csv poses!\n",
      "Starting to analyze %  T:/YuLab/Video/Naveed/GPS_20_ThreeFPHoldSRTProbe/20240817/Init/Clips/Naveed_20240817_Trial016_InitView.avi\n",
      "Loading  T:/YuLab/Video/Naveed/GPS_20_ThreeFPHoldSRTProbe/20240817/Init/Clips/Naveed_20240817_Trial016_InitView.avi\n",
      "Duration of video [s]:  4.0 , recorded with  20.0 fps!\n",
      "Overall # of frames:  80  found with (before cropping) frame dimensions:  1280 1024\n",
      "Starting to extract posture\n"
     ]
    },
    {
     "name": "stderr",
     "output_type": "stream",
     "text": [
      "100%|██████████| 80/80 [00:05<00:00, 14.52it/s]\n"
     ]
    },
    {
     "name": "stdout",
     "output_type": "stream",
     "text": [
      "Saving results in T:\\YuLab\\Video\\Naveed\\GPS_20_ThreeFPHoldSRTProbe\\20240817\\Init\\Clips...\n",
      "Saving csv poses!\n",
      "Starting to analyze %  T:/YuLab/Video/Naveed/GPS_20_ThreeFPHoldSRTProbe/20240817/Init/Clips/Naveed_20240817_Trial017_InitView.avi\n",
      "Loading  T:/YuLab/Video/Naveed/GPS_20_ThreeFPHoldSRTProbe/20240817/Init/Clips/Naveed_20240817_Trial017_InitView.avi\n",
      "Duration of video [s]:  4.0 , recorded with  20.0 fps!\n",
      "Overall # of frames:  80  found with (before cropping) frame dimensions:  1280 1024\n",
      "Starting to extract posture\n"
     ]
    },
    {
     "name": "stderr",
     "output_type": "stream",
     "text": [
      "100%|██████████| 80/80 [00:05<00:00, 14.41it/s]\n"
     ]
    },
    {
     "name": "stdout",
     "output_type": "stream",
     "text": [
      "Saving results in T:\\YuLab\\Video\\Naveed\\GPS_20_ThreeFPHoldSRTProbe\\20240817\\Init\\Clips...\n",
      "Saving csv poses!\n",
      "Starting to analyze %  T:/YuLab/Video/Naveed/GPS_20_ThreeFPHoldSRTProbe/20240817/Init/Clips/Naveed_20240817_Trial018_InitView.avi\n",
      "Loading  T:/YuLab/Video/Naveed/GPS_20_ThreeFPHoldSRTProbe/20240817/Init/Clips/Naveed_20240817_Trial018_InitView.avi\n",
      "Duration of video [s]:  4.0 , recorded with  20.0 fps!\n",
      "Overall # of frames:  80  found with (before cropping) frame dimensions:  1280 1024\n",
      "Starting to extract posture\n"
     ]
    },
    {
     "name": "stderr",
     "output_type": "stream",
     "text": [
      "100%|██████████| 80/80 [00:05<00:00, 14.19it/s]\n"
     ]
    },
    {
     "name": "stdout",
     "output_type": "stream",
     "text": [
      "Saving results in T:\\YuLab\\Video\\Naveed\\GPS_20_ThreeFPHoldSRTProbe\\20240817\\Init\\Clips...\n",
      "Saving csv poses!\n",
      "Starting to analyze %  T:/YuLab/Video/Naveed/GPS_20_ThreeFPHoldSRTProbe/20240817/Init/Clips/Naveed_20240817_Trial019_InitView.avi\n",
      "Loading  T:/YuLab/Video/Naveed/GPS_20_ThreeFPHoldSRTProbe/20240817/Init/Clips/Naveed_20240817_Trial019_InitView.avi\n",
      "Duration of video [s]:  4.0 , recorded with  20.0 fps!\n",
      "Overall # of frames:  80  found with (before cropping) frame dimensions:  1280 1024\n",
      "Starting to extract posture\n"
     ]
    },
    {
     "name": "stderr",
     "output_type": "stream",
     "text": [
      "100%|██████████| 80/80 [00:05<00:00, 14.61it/s]\n"
     ]
    },
    {
     "name": "stdout",
     "output_type": "stream",
     "text": [
      "Saving results in T:\\YuLab\\Video\\Naveed\\GPS_20_ThreeFPHoldSRTProbe\\20240817\\Init\\Clips...\n",
      "Saving csv poses!\n",
      "Starting to analyze %  T:/YuLab/Video/Naveed/GPS_20_ThreeFPHoldSRTProbe/20240817/Init/Clips/Naveed_20240817_Trial020_InitView.avi\n",
      "Loading  T:/YuLab/Video/Naveed/GPS_20_ThreeFPHoldSRTProbe/20240817/Init/Clips/Naveed_20240817_Trial020_InitView.avi\n",
      "Duration of video [s]:  4.0 , recorded with  20.0 fps!\n",
      "Overall # of frames:  80  found with (before cropping) frame dimensions:  1280 1024\n",
      "Starting to extract posture\n"
     ]
    },
    {
     "name": "stderr",
     "output_type": "stream",
     "text": [
      "100%|██████████| 80/80 [00:05<00:00, 14.22it/s]\n"
     ]
    },
    {
     "name": "stdout",
     "output_type": "stream",
     "text": [
      "Saving results in T:\\YuLab\\Video\\Naveed\\GPS_20_ThreeFPHoldSRTProbe\\20240817\\Init\\Clips...\n",
      "Saving csv poses!\n",
      "Starting to analyze %  T:/YuLab/Video/Naveed/GPS_20_ThreeFPHoldSRTProbe/20240817/Init/Clips/Naveed_20240817_Trial021_InitView.avi\n",
      "Loading  T:/YuLab/Video/Naveed/GPS_20_ThreeFPHoldSRTProbe/20240817/Init/Clips/Naveed_20240817_Trial021_InitView.avi\n",
      "Duration of video [s]:  4.0 , recorded with  20.0 fps!\n",
      "Overall # of frames:  80  found with (before cropping) frame dimensions:  1280 1024\n",
      "Starting to extract posture\n"
     ]
    },
    {
     "name": "stderr",
     "output_type": "stream",
     "text": [
      "100%|██████████| 80/80 [00:05<00:00, 14.14it/s]\n"
     ]
    },
    {
     "name": "stdout",
     "output_type": "stream",
     "text": [
      "Saving results in T:\\YuLab\\Video\\Naveed\\GPS_20_ThreeFPHoldSRTProbe\\20240817\\Init\\Clips...\n",
      "Saving csv poses!\n",
      "Starting to analyze %  T:/YuLab/Video/Naveed/GPS_20_ThreeFPHoldSRTProbe/20240817/Init/Clips/Naveed_20240817_Trial022_InitView.avi\n",
      "Loading  T:/YuLab/Video/Naveed/GPS_20_ThreeFPHoldSRTProbe/20240817/Init/Clips/Naveed_20240817_Trial022_InitView.avi\n",
      "Duration of video [s]:  4.0 , recorded with  20.0 fps!\n",
      "Overall # of frames:  80  found with (before cropping) frame dimensions:  1280 1024\n",
      "Starting to extract posture\n"
     ]
    },
    {
     "name": "stderr",
     "output_type": "stream",
     "text": [
      "100%|██████████| 80/80 [00:05<00:00, 14.20it/s]\n"
     ]
    },
    {
     "name": "stdout",
     "output_type": "stream",
     "text": [
      "Saving results in T:\\YuLab\\Video\\Naveed\\GPS_20_ThreeFPHoldSRTProbe\\20240817\\Init\\Clips...\n",
      "Saving csv poses!\n",
      "Starting to analyze %  T:/YuLab/Video/Naveed/GPS_20_ThreeFPHoldSRTProbe/20240817/Init/Clips/Naveed_20240817_Trial023_InitView.avi\n",
      "Loading  T:/YuLab/Video/Naveed/GPS_20_ThreeFPHoldSRTProbe/20240817/Init/Clips/Naveed_20240817_Trial023_InitView.avi\n",
      "Duration of video [s]:  4.0 , recorded with  20.0 fps!\n",
      "Overall # of frames:  80  found with (before cropping) frame dimensions:  1280 1024\n",
      "Starting to extract posture\n"
     ]
    },
    {
     "name": "stderr",
     "output_type": "stream",
     "text": [
      "100%|██████████| 80/80 [00:05<00:00, 14.28it/s]\n"
     ]
    },
    {
     "name": "stdout",
     "output_type": "stream",
     "text": [
      "Saving results in T:\\YuLab\\Video\\Naveed\\GPS_20_ThreeFPHoldSRTProbe\\20240817\\Init\\Clips...\n",
      "Saving csv poses!\n",
      "Starting to analyze %  T:/YuLab/Video/Naveed/GPS_20_ThreeFPHoldSRTProbe/20240817/Init/Clips/Naveed_20240817_Trial024_InitView.avi\n",
      "Loading  T:/YuLab/Video/Naveed/GPS_20_ThreeFPHoldSRTProbe/20240817/Init/Clips/Naveed_20240817_Trial024_InitView.avi\n",
      "Duration of video [s]:  4.0 , recorded with  20.0 fps!\n",
      "Overall # of frames:  80  found with (before cropping) frame dimensions:  1280 1024\n",
      "Starting to extract posture\n"
     ]
    },
    {
     "name": "stderr",
     "output_type": "stream",
     "text": [
      "100%|██████████| 80/80 [00:05<00:00, 14.21it/s]\n"
     ]
    },
    {
     "name": "stdout",
     "output_type": "stream",
     "text": [
      "Saving results in T:\\YuLab\\Video\\Naveed\\GPS_20_ThreeFPHoldSRTProbe\\20240817\\Init\\Clips...\n",
      "Saving csv poses!\n",
      "Starting to analyze %  T:/YuLab/Video/Naveed/GPS_20_ThreeFPHoldSRTProbe/20240817/Init/Clips/Naveed_20240817_Trial025_InitView.avi\n",
      "Loading  T:/YuLab/Video/Naveed/GPS_20_ThreeFPHoldSRTProbe/20240817/Init/Clips/Naveed_20240817_Trial025_InitView.avi\n",
      "Duration of video [s]:  4.0 , recorded with  20.0 fps!\n",
      "Overall # of frames:  80  found with (before cropping) frame dimensions:  1280 1024\n",
      "Starting to extract posture\n"
     ]
    },
    {
     "name": "stderr",
     "output_type": "stream",
     "text": [
      "100%|██████████| 80/80 [00:05<00:00, 14.65it/s]\n"
     ]
    },
    {
     "name": "stdout",
     "output_type": "stream",
     "text": [
      "Saving results in T:\\YuLab\\Video\\Naveed\\GPS_20_ThreeFPHoldSRTProbe\\20240817\\Init\\Clips...\n",
      "Saving csv poses!\n",
      "Starting to analyze %  T:/YuLab/Video/Naveed/GPS_20_ThreeFPHoldSRTProbe/20240817/Init/Clips/Naveed_20240817_Trial026_InitView.avi\n",
      "Loading  T:/YuLab/Video/Naveed/GPS_20_ThreeFPHoldSRTProbe/20240817/Init/Clips/Naveed_20240817_Trial026_InitView.avi\n",
      "Duration of video [s]:  4.05 , recorded with  20.0 fps!\n",
      "Overall # of frames:  81  found with (before cropping) frame dimensions:  1280 1024\n",
      "Starting to extract posture\n"
     ]
    },
    {
     "name": "stderr",
     "output_type": "stream",
     "text": [
      "100%|██████████| 81/81 [00:06<00:00, 13.37it/s]\n"
     ]
    },
    {
     "name": "stdout",
     "output_type": "stream",
     "text": [
      "Saving results in T:\\YuLab\\Video\\Naveed\\GPS_20_ThreeFPHoldSRTProbe\\20240817\\Init\\Clips...\n",
      "Saving csv poses!\n",
      "Starting to analyze %  T:/YuLab/Video/Naveed/GPS_20_ThreeFPHoldSRTProbe/20240817/Init/Clips/Naveed_20240817_Trial027_InitView.avi\n",
      "Loading  T:/YuLab/Video/Naveed/GPS_20_ThreeFPHoldSRTProbe/20240817/Init/Clips/Naveed_20240817_Trial027_InitView.avi\n",
      "Duration of video [s]:  4.0 , recorded with  20.0 fps!\n",
      "Overall # of frames:  80  found with (before cropping) frame dimensions:  1280 1024\n",
      "Starting to extract posture\n"
     ]
    },
    {
     "name": "stderr",
     "output_type": "stream",
     "text": [
      "100%|██████████| 80/80 [00:05<00:00, 14.28it/s]\n"
     ]
    },
    {
     "name": "stdout",
     "output_type": "stream",
     "text": [
      "Saving results in T:\\YuLab\\Video\\Naveed\\GPS_20_ThreeFPHoldSRTProbe\\20240817\\Init\\Clips...\n",
      "Saving csv poses!\n",
      "Starting to analyze %  T:/YuLab/Video/Naveed/GPS_20_ThreeFPHoldSRTProbe/20240817/Init/Clips/Naveed_20240817_Trial028_InitView.avi\n",
      "Loading  T:/YuLab/Video/Naveed/GPS_20_ThreeFPHoldSRTProbe/20240817/Init/Clips/Naveed_20240817_Trial028_InitView.avi\n",
      "Duration of video [s]:  4.0 , recorded with  20.0 fps!\n",
      "Overall # of frames:  80  found with (before cropping) frame dimensions:  1280 1024\n",
      "Starting to extract posture\n"
     ]
    },
    {
     "name": "stderr",
     "output_type": "stream",
     "text": [
      "100%|██████████| 80/80 [00:05<00:00, 14.51it/s]\n"
     ]
    },
    {
     "name": "stdout",
     "output_type": "stream",
     "text": [
      "Saving results in T:\\YuLab\\Video\\Naveed\\GPS_20_ThreeFPHoldSRTProbe\\20240817\\Init\\Clips...\n",
      "Saving csv poses!\n",
      "Starting to analyze %  T:/YuLab/Video/Naveed/GPS_20_ThreeFPHoldSRTProbe/20240817/Init/Clips/Naveed_20240817_Trial029_InitView.avi\n",
      "Loading  T:/YuLab/Video/Naveed/GPS_20_ThreeFPHoldSRTProbe/20240817/Init/Clips/Naveed_20240817_Trial029_InitView.avi\n",
      "Duration of video [s]:  4.0 , recorded with  20.0 fps!\n",
      "Overall # of frames:  80  found with (before cropping) frame dimensions:  1280 1024\n",
      "Starting to extract posture\n"
     ]
    },
    {
     "name": "stderr",
     "output_type": "stream",
     "text": [
      "100%|██████████| 80/80 [00:05<00:00, 14.61it/s]\n"
     ]
    },
    {
     "name": "stdout",
     "output_type": "stream",
     "text": [
      "Saving results in T:\\YuLab\\Video\\Naveed\\GPS_20_ThreeFPHoldSRTProbe\\20240817\\Init\\Clips...\n",
      "Saving csv poses!\n",
      "Starting to analyze %  T:/YuLab/Video/Naveed/GPS_20_ThreeFPHoldSRTProbe/20240817/Init/Clips/Naveed_20240817_Trial030_InitView.avi\n",
      "Loading  T:/YuLab/Video/Naveed/GPS_20_ThreeFPHoldSRTProbe/20240817/Init/Clips/Naveed_20240817_Trial030_InitView.avi\n",
      "Duration of video [s]:  4.0 , recorded with  20.0 fps!\n",
      "Overall # of frames:  80  found with (before cropping) frame dimensions:  1280 1024\n",
      "Starting to extract posture\n"
     ]
    },
    {
     "name": "stderr",
     "output_type": "stream",
     "text": [
      "100%|██████████| 80/80 [00:05<00:00, 14.54it/s]\n"
     ]
    },
    {
     "name": "stdout",
     "output_type": "stream",
     "text": [
      "Saving results in T:\\YuLab\\Video\\Naveed\\GPS_20_ThreeFPHoldSRTProbe\\20240817\\Init\\Clips...\n",
      "Saving csv poses!\n",
      "Starting to analyze %  T:/YuLab/Video/Naveed/GPS_20_ThreeFPHoldSRTProbe/20240817/Init/Clips/Naveed_20240817_Trial031_InitView.avi\n",
      "Loading  T:/YuLab/Video/Naveed/GPS_20_ThreeFPHoldSRTProbe/20240817/Init/Clips/Naveed_20240817_Trial031_InitView.avi\n",
      "Duration of video [s]:  4.0 , recorded with  20.0 fps!\n",
      "Overall # of frames:  80  found with (before cropping) frame dimensions:  1280 1024\n",
      "Starting to extract posture\n"
     ]
    },
    {
     "name": "stderr",
     "output_type": "stream",
     "text": [
      "100%|██████████| 80/80 [00:05<00:00, 14.32it/s]\n"
     ]
    },
    {
     "name": "stdout",
     "output_type": "stream",
     "text": [
      "Saving results in T:\\YuLab\\Video\\Naveed\\GPS_20_ThreeFPHoldSRTProbe\\20240817\\Init\\Clips...\n",
      "Saving csv poses!\n",
      "Starting to analyze %  T:/YuLab/Video/Naveed/GPS_20_ThreeFPHoldSRTProbe/20240817/Init/Clips/Naveed_20240817_Trial032_InitView.avi\n",
      "Loading  T:/YuLab/Video/Naveed/GPS_20_ThreeFPHoldSRTProbe/20240817/Init/Clips/Naveed_20240817_Trial032_InitView.avi\n",
      "Duration of video [s]:  4.0 , recorded with  20.0 fps!\n",
      "Overall # of frames:  80  found with (before cropping) frame dimensions:  1280 1024\n",
      "Starting to extract posture\n"
     ]
    },
    {
     "name": "stderr",
     "output_type": "stream",
     "text": [
      "100%|██████████| 80/80 [00:05<00:00, 14.47it/s]\n"
     ]
    },
    {
     "name": "stdout",
     "output_type": "stream",
     "text": [
      "Saving results in T:\\YuLab\\Video\\Naveed\\GPS_20_ThreeFPHoldSRTProbe\\20240817\\Init\\Clips...\n",
      "Saving csv poses!\n",
      "Starting to analyze %  T:/YuLab/Video/Naveed/GPS_20_ThreeFPHoldSRTProbe/20240817/Init/Clips/Naveed_20240817_Trial033_InitView.avi\n",
      "Loading  T:/YuLab/Video/Naveed/GPS_20_ThreeFPHoldSRTProbe/20240817/Init/Clips/Naveed_20240817_Trial033_InitView.avi\n",
      "Duration of video [s]:  4.0 , recorded with  20.0 fps!\n",
      "Overall # of frames:  80  found with (before cropping) frame dimensions:  1280 1024\n",
      "Starting to extract posture\n"
     ]
    },
    {
     "name": "stderr",
     "output_type": "stream",
     "text": [
      "100%|██████████| 80/80 [00:05<00:00, 14.54it/s]\n"
     ]
    },
    {
     "name": "stdout",
     "output_type": "stream",
     "text": [
      "Saving results in T:\\YuLab\\Video\\Naveed\\GPS_20_ThreeFPHoldSRTProbe\\20240817\\Init\\Clips...\n",
      "Saving csv poses!\n",
      "Starting to analyze %  T:/YuLab/Video/Naveed/GPS_20_ThreeFPHoldSRTProbe/20240817/Init/Clips/Naveed_20240817_Trial034_InitView.avi\n",
      "Loading  T:/YuLab/Video/Naveed/GPS_20_ThreeFPHoldSRTProbe/20240817/Init/Clips/Naveed_20240817_Trial034_InitView.avi\n",
      "Duration of video [s]:  4.0 , recorded with  20.0 fps!\n",
      "Overall # of frames:  80  found with (before cropping) frame dimensions:  1280 1024\n",
      "Starting to extract posture\n"
     ]
    },
    {
     "name": "stderr",
     "output_type": "stream",
     "text": [
      "100%|██████████| 80/80 [00:05<00:00, 14.27it/s]\n"
     ]
    },
    {
     "name": "stdout",
     "output_type": "stream",
     "text": [
      "Saving results in T:\\YuLab\\Video\\Naveed\\GPS_20_ThreeFPHoldSRTProbe\\20240817\\Init\\Clips...\n",
      "Saving csv poses!\n",
      "Starting to analyze %  T:/YuLab/Video/Naveed/GPS_20_ThreeFPHoldSRTProbe/20240817/Init/Clips/Naveed_20240817_Trial035_InitView.avi\n",
      "Loading  T:/YuLab/Video/Naveed/GPS_20_ThreeFPHoldSRTProbe/20240817/Init/Clips/Naveed_20240817_Trial035_InitView.avi\n",
      "Duration of video [s]:  4.0 , recorded with  20.0 fps!\n",
      "Overall # of frames:  80  found with (before cropping) frame dimensions:  1280 1024\n",
      "Starting to extract posture\n"
     ]
    },
    {
     "name": "stderr",
     "output_type": "stream",
     "text": [
      "100%|██████████| 80/80 [00:05<00:00, 14.53it/s]\n"
     ]
    },
    {
     "name": "stdout",
     "output_type": "stream",
     "text": [
      "Saving results in T:\\YuLab\\Video\\Naveed\\GPS_20_ThreeFPHoldSRTProbe\\20240817\\Init\\Clips...\n",
      "Saving csv poses!\n",
      "Starting to analyze %  T:/YuLab/Video/Naveed/GPS_20_ThreeFPHoldSRTProbe/20240817/Init/Clips/Naveed_20240817_Trial036_InitView.avi\n",
      "Loading  T:/YuLab/Video/Naveed/GPS_20_ThreeFPHoldSRTProbe/20240817/Init/Clips/Naveed_20240817_Trial036_InitView.avi\n",
      "Duration of video [s]:  4.0 , recorded with  20.0 fps!\n",
      "Overall # of frames:  80  found with (before cropping) frame dimensions:  1280 1024\n",
      "Starting to extract posture\n"
     ]
    },
    {
     "name": "stderr",
     "output_type": "stream",
     "text": [
      "100%|██████████| 80/80 [00:05<00:00, 14.36it/s]\n"
     ]
    },
    {
     "name": "stdout",
     "output_type": "stream",
     "text": [
      "Saving results in T:\\YuLab\\Video\\Naveed\\GPS_20_ThreeFPHoldSRTProbe\\20240817\\Init\\Clips...\n",
      "Saving csv poses!\n",
      "Starting to analyze %  T:/YuLab/Video/Naveed/GPS_20_ThreeFPHoldSRTProbe/20240817/Init/Clips/Naveed_20240817_Trial037_InitView.avi\n",
      "Loading  T:/YuLab/Video/Naveed/GPS_20_ThreeFPHoldSRTProbe/20240817/Init/Clips/Naveed_20240817_Trial037_InitView.avi\n",
      "Duration of video [s]:  4.0 , recorded with  20.0 fps!\n",
      "Overall # of frames:  80  found with (before cropping) frame dimensions:  1280 1024\n",
      "Starting to extract posture\n"
     ]
    },
    {
     "name": "stderr",
     "output_type": "stream",
     "text": [
      "100%|██████████| 80/80 [00:05<00:00, 14.66it/s]\n"
     ]
    },
    {
     "name": "stdout",
     "output_type": "stream",
     "text": [
      "Saving results in T:\\YuLab\\Video\\Naveed\\GPS_20_ThreeFPHoldSRTProbe\\20240817\\Init\\Clips...\n",
      "Saving csv poses!\n",
      "Starting to analyze %  T:/YuLab/Video/Naveed/GPS_20_ThreeFPHoldSRTProbe/20240817/Init/Clips/Naveed_20240817_Trial038_InitView.avi\n",
      "Loading  T:/YuLab/Video/Naveed/GPS_20_ThreeFPHoldSRTProbe/20240817/Init/Clips/Naveed_20240817_Trial038_InitView.avi\n",
      "Duration of video [s]:  4.0 , recorded with  20.0 fps!\n",
      "Overall # of frames:  80  found with (before cropping) frame dimensions:  1280 1024\n",
      "Starting to extract posture\n"
     ]
    },
    {
     "name": "stderr",
     "output_type": "stream",
     "text": [
      "100%|██████████| 80/80 [00:05<00:00, 14.43it/s]\n"
     ]
    },
    {
     "name": "stdout",
     "output_type": "stream",
     "text": [
      "Saving results in T:\\YuLab\\Video\\Naveed\\GPS_20_ThreeFPHoldSRTProbe\\20240817\\Init\\Clips...\n",
      "Saving csv poses!\n",
      "Starting to analyze %  T:/YuLab/Video/Naveed/GPS_20_ThreeFPHoldSRTProbe/20240817/Init/Clips/Naveed_20240817_Trial039_InitView.avi\n",
      "Loading  T:/YuLab/Video/Naveed/GPS_20_ThreeFPHoldSRTProbe/20240817/Init/Clips/Naveed_20240817_Trial039_InitView.avi\n",
      "Duration of video [s]:  4.0 , recorded with  20.0 fps!\n",
      "Overall # of frames:  80  found with (before cropping) frame dimensions:  1280 1024\n",
      "Starting to extract posture\n"
     ]
    },
    {
     "name": "stderr",
     "output_type": "stream",
     "text": [
      "100%|██████████| 80/80 [00:05<00:00, 14.41it/s]\n"
     ]
    },
    {
     "name": "stdout",
     "output_type": "stream",
     "text": [
      "Saving results in T:\\YuLab\\Video\\Naveed\\GPS_20_ThreeFPHoldSRTProbe\\20240817\\Init\\Clips...\n",
      "Saving csv poses!\n",
      "Starting to analyze %  T:/YuLab/Video/Naveed/GPS_20_ThreeFPHoldSRTProbe/20240817/Init/Clips/Naveed_20240817_Trial040_InitView.avi\n",
      "Loading  T:/YuLab/Video/Naveed/GPS_20_ThreeFPHoldSRTProbe/20240817/Init/Clips/Naveed_20240817_Trial040_InitView.avi\n",
      "Duration of video [s]:  4.05 , recorded with  20.0 fps!\n",
      "Overall # of frames:  81  found with (before cropping) frame dimensions:  1280 1024\n",
      "Starting to extract posture\n"
     ]
    },
    {
     "name": "stderr",
     "output_type": "stream",
     "text": [
      "100%|██████████| 81/81 [00:06<00:00, 13.31it/s]\n"
     ]
    },
    {
     "name": "stdout",
     "output_type": "stream",
     "text": [
      "Saving results in T:\\YuLab\\Video\\Naveed\\GPS_20_ThreeFPHoldSRTProbe\\20240817\\Init\\Clips...\n",
      "Saving csv poses!\n",
      "Starting to analyze %  T:/YuLab/Video/Naveed/GPS_20_ThreeFPHoldSRTProbe/20240817/Init/Clips/Naveed_20240817_Trial041_InitView.avi\n",
      "Loading  T:/YuLab/Video/Naveed/GPS_20_ThreeFPHoldSRTProbe/20240817/Init/Clips/Naveed_20240817_Trial041_InitView.avi\n",
      "Duration of video [s]:  4.0 , recorded with  20.0 fps!\n",
      "Overall # of frames:  80  found with (before cropping) frame dimensions:  1280 1024\n",
      "Starting to extract posture\n"
     ]
    },
    {
     "name": "stderr",
     "output_type": "stream",
     "text": [
      "100%|██████████| 80/80 [00:05<00:00, 14.21it/s]\n"
     ]
    },
    {
     "name": "stdout",
     "output_type": "stream",
     "text": [
      "Saving results in T:\\YuLab\\Video\\Naveed\\GPS_20_ThreeFPHoldSRTProbe\\20240817\\Init\\Clips...\n",
      "Saving csv poses!\n",
      "Starting to analyze %  T:/YuLab/Video/Naveed/GPS_20_ThreeFPHoldSRTProbe/20240817/Init/Clips/Naveed_20240817_Trial042_InitView.avi\n",
      "Loading  T:/YuLab/Video/Naveed/GPS_20_ThreeFPHoldSRTProbe/20240817/Init/Clips/Naveed_20240817_Trial042_InitView.avi\n",
      "Duration of video [s]:  4.0 , recorded with  20.0 fps!\n",
      "Overall # of frames:  80  found with (before cropping) frame dimensions:  1280 1024\n",
      "Starting to extract posture\n"
     ]
    },
    {
     "name": "stderr",
     "output_type": "stream",
     "text": [
      "100%|██████████| 80/80 [00:05<00:00, 14.29it/s]\n"
     ]
    },
    {
     "name": "stdout",
     "output_type": "stream",
     "text": [
      "Saving results in T:\\YuLab\\Video\\Naveed\\GPS_20_ThreeFPHoldSRTProbe\\20240817\\Init\\Clips...\n",
      "Saving csv poses!\n",
      "Starting to analyze %  T:/YuLab/Video/Naveed/GPS_20_ThreeFPHoldSRTProbe/20240817/Init/Clips/Naveed_20240817_Trial043_InitView.avi\n",
      "Loading  T:/YuLab/Video/Naveed/GPS_20_ThreeFPHoldSRTProbe/20240817/Init/Clips/Naveed_20240817_Trial043_InitView.avi\n",
      "Duration of video [s]:  4.0 , recorded with  20.0 fps!\n",
      "Overall # of frames:  80  found with (before cropping) frame dimensions:  1280 1024\n",
      "Starting to extract posture\n"
     ]
    },
    {
     "name": "stderr",
     "output_type": "stream",
     "text": [
      "100%|██████████| 80/80 [00:05<00:00, 14.64it/s]\n"
     ]
    },
    {
     "name": "stdout",
     "output_type": "stream",
     "text": [
      "Saving results in T:\\YuLab\\Video\\Naveed\\GPS_20_ThreeFPHoldSRTProbe\\20240817\\Init\\Clips...\n",
      "Saving csv poses!\n",
      "Starting to analyze %  T:/YuLab/Video/Naveed/GPS_20_ThreeFPHoldSRTProbe/20240817/Init/Clips/Naveed_20240817_Trial044_InitView.avi\n",
      "Loading  T:/YuLab/Video/Naveed/GPS_20_ThreeFPHoldSRTProbe/20240817/Init/Clips/Naveed_20240817_Trial044_InitView.avi\n",
      "Duration of video [s]:  4.0 , recorded with  20.0 fps!\n",
      "Overall # of frames:  80  found with (before cropping) frame dimensions:  1280 1024\n",
      "Starting to extract posture\n"
     ]
    },
    {
     "name": "stderr",
     "output_type": "stream",
     "text": [
      "100%|██████████| 80/80 [00:05<00:00, 14.25it/s]\n"
     ]
    },
    {
     "name": "stdout",
     "output_type": "stream",
     "text": [
      "Saving results in T:\\YuLab\\Video\\Naveed\\GPS_20_ThreeFPHoldSRTProbe\\20240817\\Init\\Clips...\n",
      "Saving csv poses!\n",
      "Starting to analyze %  T:/YuLab/Video/Naveed/GPS_20_ThreeFPHoldSRTProbe/20240817/Init/Clips/Naveed_20240817_Trial045_InitView.avi\n",
      "Loading  T:/YuLab/Video/Naveed/GPS_20_ThreeFPHoldSRTProbe/20240817/Init/Clips/Naveed_20240817_Trial045_InitView.avi\n",
      "Duration of video [s]:  4.0 , recorded with  20.0 fps!\n",
      "Overall # of frames:  80  found with (before cropping) frame dimensions:  1280 1024\n",
      "Starting to extract posture\n"
     ]
    },
    {
     "name": "stderr",
     "output_type": "stream",
     "text": [
      "100%|██████████| 80/80 [00:05<00:00, 14.53it/s]\n"
     ]
    },
    {
     "name": "stdout",
     "output_type": "stream",
     "text": [
      "Saving results in T:\\YuLab\\Video\\Naveed\\GPS_20_ThreeFPHoldSRTProbe\\20240817\\Init\\Clips...\n",
      "Saving csv poses!\n",
      "Starting to analyze %  T:/YuLab/Video/Naveed/GPS_20_ThreeFPHoldSRTProbe/20240817/Init/Clips/Naveed_20240817_Trial046_InitView.avi\n",
      "Loading  T:/YuLab/Video/Naveed/GPS_20_ThreeFPHoldSRTProbe/20240817/Init/Clips/Naveed_20240817_Trial046_InitView.avi\n",
      "Duration of video [s]:  4.0 , recorded with  20.0 fps!\n",
      "Overall # of frames:  80  found with (before cropping) frame dimensions:  1280 1024\n",
      "Starting to extract posture\n"
     ]
    },
    {
     "name": "stderr",
     "output_type": "stream",
     "text": [
      "100%|██████████| 80/80 [00:05<00:00, 14.07it/s]\n"
     ]
    },
    {
     "name": "stdout",
     "output_type": "stream",
     "text": [
      "Saving results in T:\\YuLab\\Video\\Naveed\\GPS_20_ThreeFPHoldSRTProbe\\20240817\\Init\\Clips...\n",
      "Saving csv poses!\n",
      "Starting to analyze %  T:/YuLab/Video/Naveed/GPS_20_ThreeFPHoldSRTProbe/20240817/Init/Clips/Naveed_20240817_Trial047_InitView.avi\n",
      "Loading  T:/YuLab/Video/Naveed/GPS_20_ThreeFPHoldSRTProbe/20240817/Init/Clips/Naveed_20240817_Trial047_InitView.avi\n",
      "Duration of video [s]:  4.05 , recorded with  20.0 fps!\n",
      "Overall # of frames:  81  found with (before cropping) frame dimensions:  1280 1024\n",
      "Starting to extract posture\n"
     ]
    },
    {
     "name": "stderr",
     "output_type": "stream",
     "text": [
      "100%|██████████| 81/81 [00:06<00:00, 13.37it/s]\n"
     ]
    },
    {
     "name": "stdout",
     "output_type": "stream",
     "text": [
      "Saving results in T:\\YuLab\\Video\\Naveed\\GPS_20_ThreeFPHoldSRTProbe\\20240817\\Init\\Clips...\n",
      "Saving csv poses!\n",
      "Starting to analyze %  T:/YuLab/Video/Naveed/GPS_20_ThreeFPHoldSRTProbe/20240817/Init/Clips/Naveed_20240817_Trial048_InitView.avi\n",
      "Loading  T:/YuLab/Video/Naveed/GPS_20_ThreeFPHoldSRTProbe/20240817/Init/Clips/Naveed_20240817_Trial048_InitView.avi\n",
      "Duration of video [s]:  4.0 , recorded with  20.0 fps!\n",
      "Overall # of frames:  80  found with (before cropping) frame dimensions:  1280 1024\n",
      "Starting to extract posture\n"
     ]
    },
    {
     "name": "stderr",
     "output_type": "stream",
     "text": [
      "100%|██████████| 80/80 [00:05<00:00, 13.92it/s]\n"
     ]
    },
    {
     "name": "stdout",
     "output_type": "stream",
     "text": [
      "Saving results in T:\\YuLab\\Video\\Naveed\\GPS_20_ThreeFPHoldSRTProbe\\20240817\\Init\\Clips...\n",
      "Saving csv poses!\n",
      "Starting to analyze %  T:/YuLab/Video/Naveed/GPS_20_ThreeFPHoldSRTProbe/20240817/Init/Clips/Naveed_20240817_Trial049_InitView.avi\n",
      "Loading  T:/YuLab/Video/Naveed/GPS_20_ThreeFPHoldSRTProbe/20240817/Init/Clips/Naveed_20240817_Trial049_InitView.avi\n",
      "Duration of video [s]:  4.0 , recorded with  20.0 fps!\n",
      "Overall # of frames:  80  found with (before cropping) frame dimensions:  1280 1024\n",
      "Starting to extract posture\n"
     ]
    },
    {
     "name": "stderr",
     "output_type": "stream",
     "text": [
      "100%|██████████| 80/80 [00:05<00:00, 14.45it/s]\n"
     ]
    },
    {
     "name": "stdout",
     "output_type": "stream",
     "text": [
      "Saving results in T:\\YuLab\\Video\\Naveed\\GPS_20_ThreeFPHoldSRTProbe\\20240817\\Init\\Clips...\n",
      "Saving csv poses!\n",
      "Starting to analyze %  T:/YuLab/Video/Naveed/GPS_20_ThreeFPHoldSRTProbe/20240817/Init/Clips/Naveed_20240817_Trial050_InitView.avi\n",
      "Loading  T:/YuLab/Video/Naveed/GPS_20_ThreeFPHoldSRTProbe/20240817/Init/Clips/Naveed_20240817_Trial050_InitView.avi\n",
      "Duration of video [s]:  4.0 , recorded with  20.0 fps!\n",
      "Overall # of frames:  80  found with (before cropping) frame dimensions:  1280 1024\n",
      "Starting to extract posture\n"
     ]
    },
    {
     "name": "stderr",
     "output_type": "stream",
     "text": [
      "100%|██████████| 80/80 [00:05<00:00, 14.34it/s]\n"
     ]
    },
    {
     "name": "stdout",
     "output_type": "stream",
     "text": [
      "Saving results in T:\\YuLab\\Video\\Naveed\\GPS_20_ThreeFPHoldSRTProbe\\20240817\\Init\\Clips...\n",
      "Saving csv poses!\n",
      "Starting to analyze %  T:/YuLab/Video/Naveed/GPS_20_ThreeFPHoldSRTProbe/20240817/Init/Clips/Naveed_20240817_Trial051_InitView.avi\n",
      "Loading  T:/YuLab/Video/Naveed/GPS_20_ThreeFPHoldSRTProbe/20240817/Init/Clips/Naveed_20240817_Trial051_InitView.avi\n",
      "Duration of video [s]:  4.0 , recorded with  20.0 fps!\n",
      "Overall # of frames:  80  found with (before cropping) frame dimensions:  1280 1024\n",
      "Starting to extract posture\n"
     ]
    },
    {
     "name": "stderr",
     "output_type": "stream",
     "text": [
      "100%|██████████| 80/80 [00:05<00:00, 14.28it/s]\n"
     ]
    },
    {
     "name": "stdout",
     "output_type": "stream",
     "text": [
      "Saving results in T:\\YuLab\\Video\\Naveed\\GPS_20_ThreeFPHoldSRTProbe\\20240817\\Init\\Clips...\n",
      "Saving csv poses!\n",
      "Starting to analyze %  T:/YuLab/Video/Naveed/GPS_20_ThreeFPHoldSRTProbe/20240817/Init/Clips/Naveed_20240817_Trial052_InitView.avi\n",
      "Loading  T:/YuLab/Video/Naveed/GPS_20_ThreeFPHoldSRTProbe/20240817/Init/Clips/Naveed_20240817_Trial052_InitView.avi\n",
      "Duration of video [s]:  4.0 , recorded with  20.0 fps!\n",
      "Overall # of frames:  80  found with (before cropping) frame dimensions:  1280 1024\n",
      "Starting to extract posture\n"
     ]
    },
    {
     "name": "stderr",
     "output_type": "stream",
     "text": [
      "100%|██████████| 80/80 [00:05<00:00, 14.19it/s]\n"
     ]
    },
    {
     "name": "stdout",
     "output_type": "stream",
     "text": [
      "Saving results in T:\\YuLab\\Video\\Naveed\\GPS_20_ThreeFPHoldSRTProbe\\20240817\\Init\\Clips...\n",
      "Saving csv poses!\n",
      "Starting to analyze %  T:/YuLab/Video/Naveed/GPS_20_ThreeFPHoldSRTProbe/20240817/Init/Clips/Naveed_20240817_Trial054_InitView.avi\n",
      "Loading  T:/YuLab/Video/Naveed/GPS_20_ThreeFPHoldSRTProbe/20240817/Init/Clips/Naveed_20240817_Trial054_InitView.avi\n",
      "Duration of video [s]:  4.0 , recorded with  20.0 fps!\n",
      "Overall # of frames:  80  found with (before cropping) frame dimensions:  1280 1024\n",
      "Starting to extract posture\n"
     ]
    },
    {
     "name": "stderr",
     "output_type": "stream",
     "text": [
      "100%|██████████| 80/80 [00:05<00:00, 14.18it/s]\n"
     ]
    },
    {
     "name": "stdout",
     "output_type": "stream",
     "text": [
      "Saving results in T:\\YuLab\\Video\\Naveed\\GPS_20_ThreeFPHoldSRTProbe\\20240817\\Init\\Clips...\n",
      "Saving csv poses!\n",
      "Starting to analyze %  T:/YuLab/Video/Naveed/GPS_20_ThreeFPHoldSRTProbe/20240817/Init/Clips/Naveed_20240817_Trial055_InitView.avi\n",
      "Loading  T:/YuLab/Video/Naveed/GPS_20_ThreeFPHoldSRTProbe/20240817/Init/Clips/Naveed_20240817_Trial055_InitView.avi\n",
      "Duration of video [s]:  4.0 , recorded with  20.0 fps!\n",
      "Overall # of frames:  80  found with (before cropping) frame dimensions:  1280 1024\n",
      "Starting to extract posture\n"
     ]
    },
    {
     "name": "stderr",
     "output_type": "stream",
     "text": [
      "100%|██████████| 80/80 [00:05<00:00, 14.39it/s]\n"
     ]
    },
    {
     "name": "stdout",
     "output_type": "stream",
     "text": [
      "Saving results in T:\\YuLab\\Video\\Naveed\\GPS_20_ThreeFPHoldSRTProbe\\20240817\\Init\\Clips...\n",
      "Saving csv poses!\n",
      "Starting to analyze %  T:/YuLab/Video/Naveed/GPS_20_ThreeFPHoldSRTProbe/20240817/Init/Clips/Naveed_20240817_Trial056_InitView.avi\n",
      "Loading  T:/YuLab/Video/Naveed/GPS_20_ThreeFPHoldSRTProbe/20240817/Init/Clips/Naveed_20240817_Trial056_InitView.avi\n",
      "Duration of video [s]:  4.0 , recorded with  20.0 fps!\n",
      "Overall # of frames:  80  found with (before cropping) frame dimensions:  1280 1024\n",
      "Starting to extract posture\n"
     ]
    },
    {
     "name": "stderr",
     "output_type": "stream",
     "text": [
      "100%|██████████| 80/80 [00:05<00:00, 14.13it/s]\n"
     ]
    },
    {
     "name": "stdout",
     "output_type": "stream",
     "text": [
      "Saving results in T:\\YuLab\\Video\\Naveed\\GPS_20_ThreeFPHoldSRTProbe\\20240817\\Init\\Clips...\n",
      "Saving csv poses!\n",
      "Starting to analyze %  T:/YuLab/Video/Naveed/GPS_20_ThreeFPHoldSRTProbe/20240817/Init/Clips/Naveed_20240817_Trial057_InitView.avi\n",
      "Loading  T:/YuLab/Video/Naveed/GPS_20_ThreeFPHoldSRTProbe/20240817/Init/Clips/Naveed_20240817_Trial057_InitView.avi\n",
      "Duration of video [s]:  4.0 , recorded with  20.0 fps!\n",
      "Overall # of frames:  80  found with (before cropping) frame dimensions:  1280 1024\n",
      "Starting to extract posture\n"
     ]
    },
    {
     "name": "stderr",
     "output_type": "stream",
     "text": [
      "100%|██████████| 80/80 [00:05<00:00, 13.95it/s]\n"
     ]
    },
    {
     "name": "stdout",
     "output_type": "stream",
     "text": [
      "Saving results in T:\\YuLab\\Video\\Naveed\\GPS_20_ThreeFPHoldSRTProbe\\20240817\\Init\\Clips...\n",
      "Saving csv poses!\n",
      "Starting to analyze %  T:/YuLab/Video/Naveed/GPS_20_ThreeFPHoldSRTProbe/20240817/Init/Clips/Naveed_20240817_Trial058_InitView.avi\n",
      "Loading  T:/YuLab/Video/Naveed/GPS_20_ThreeFPHoldSRTProbe/20240817/Init/Clips/Naveed_20240817_Trial058_InitView.avi\n",
      "Duration of video [s]:  4.0 , recorded with  20.0 fps!\n",
      "Overall # of frames:  80  found with (before cropping) frame dimensions:  1280 1024\n",
      "Starting to extract posture\n"
     ]
    },
    {
     "name": "stderr",
     "output_type": "stream",
     "text": [
      "100%|██████████| 80/80 [00:05<00:00, 14.27it/s]\n"
     ]
    },
    {
     "name": "stdout",
     "output_type": "stream",
     "text": [
      "Saving results in T:\\YuLab\\Video\\Naveed\\GPS_20_ThreeFPHoldSRTProbe\\20240817\\Init\\Clips...\n",
      "Saving csv poses!\n",
      "Starting to analyze %  T:/YuLab/Video/Naveed/GPS_20_ThreeFPHoldSRTProbe/20240817/Init/Clips/Naveed_20240817_Trial059_InitView.avi\n",
      "Loading  T:/YuLab/Video/Naveed/GPS_20_ThreeFPHoldSRTProbe/20240817/Init/Clips/Naveed_20240817_Trial059_InitView.avi\n",
      "Duration of video [s]:  4.0 , recorded with  20.0 fps!\n",
      "Overall # of frames:  80  found with (before cropping) frame dimensions:  1280 1024\n",
      "Starting to extract posture\n"
     ]
    },
    {
     "name": "stderr",
     "output_type": "stream",
     "text": [
      "100%|██████████| 80/80 [00:05<00:00, 14.46it/s]\n"
     ]
    },
    {
     "name": "stdout",
     "output_type": "stream",
     "text": [
      "Saving results in T:\\YuLab\\Video\\Naveed\\GPS_20_ThreeFPHoldSRTProbe\\20240817\\Init\\Clips...\n",
      "Saving csv poses!\n",
      "Starting to analyze %  T:/YuLab/Video/Naveed/GPS_20_ThreeFPHoldSRTProbe/20240817/Init/Clips/Naveed_20240817_Trial060_InitView.avi\n",
      "Loading  T:/YuLab/Video/Naveed/GPS_20_ThreeFPHoldSRTProbe/20240817/Init/Clips/Naveed_20240817_Trial060_InitView.avi\n",
      "Duration of video [s]:  4.0 , recorded with  20.0 fps!\n",
      "Overall # of frames:  80  found with (before cropping) frame dimensions:  1280 1024\n",
      "Starting to extract posture\n"
     ]
    },
    {
     "name": "stderr",
     "output_type": "stream",
     "text": [
      "100%|██████████| 80/80 [00:05<00:00, 14.10it/s]\n"
     ]
    },
    {
     "name": "stdout",
     "output_type": "stream",
     "text": [
      "Saving results in T:\\YuLab\\Video\\Naveed\\GPS_20_ThreeFPHoldSRTProbe\\20240817\\Init\\Clips...\n",
      "Saving csv poses!\n",
      "Starting to analyze %  T:/YuLab/Video/Naveed/GPS_20_ThreeFPHoldSRTProbe/20240817/Init/Clips/Naveed_20240817_Trial061_InitView.avi\n",
      "Loading  T:/YuLab/Video/Naveed/GPS_20_ThreeFPHoldSRTProbe/20240817/Init/Clips/Naveed_20240817_Trial061_InitView.avi\n",
      "Duration of video [s]:  4.0 , recorded with  20.0 fps!\n",
      "Overall # of frames:  80  found with (before cropping) frame dimensions:  1280 1024\n",
      "Starting to extract posture\n"
     ]
    },
    {
     "name": "stderr",
     "output_type": "stream",
     "text": [
      "100%|██████████| 80/80 [00:05<00:00, 13.90it/s]\n"
     ]
    },
    {
     "name": "stdout",
     "output_type": "stream",
     "text": [
      "Saving results in T:\\YuLab\\Video\\Naveed\\GPS_20_ThreeFPHoldSRTProbe\\20240817\\Init\\Clips...\n",
      "Saving csv poses!\n",
      "Starting to analyze %  T:/YuLab/Video/Naveed/GPS_20_ThreeFPHoldSRTProbe/20240817/Init/Clips/Naveed_20240817_Trial062_InitView.avi\n",
      "Loading  T:/YuLab/Video/Naveed/GPS_20_ThreeFPHoldSRTProbe/20240817/Init/Clips/Naveed_20240817_Trial062_InitView.avi\n",
      "Duration of video [s]:  4.0 , recorded with  20.0 fps!\n",
      "Overall # of frames:  80  found with (before cropping) frame dimensions:  1280 1024\n",
      "Starting to extract posture\n"
     ]
    },
    {
     "name": "stderr",
     "output_type": "stream",
     "text": [
      "100%|██████████| 80/80 [00:05<00:00, 14.25it/s]\n"
     ]
    },
    {
     "name": "stdout",
     "output_type": "stream",
     "text": [
      "Saving results in T:\\YuLab\\Video\\Naveed\\GPS_20_ThreeFPHoldSRTProbe\\20240817\\Init\\Clips...\n",
      "Saving csv poses!\n",
      "Starting to analyze %  T:/YuLab/Video/Naveed/GPS_20_ThreeFPHoldSRTProbe/20240817/Init/Clips/Naveed_20240817_Trial063_InitView.avi\n",
      "Loading  T:/YuLab/Video/Naveed/GPS_20_ThreeFPHoldSRTProbe/20240817/Init/Clips/Naveed_20240817_Trial063_InitView.avi\n",
      "Duration of video [s]:  4.0 , recorded with  20.0 fps!\n",
      "Overall # of frames:  80  found with (before cropping) frame dimensions:  1280 1024\n",
      "Starting to extract posture\n"
     ]
    },
    {
     "name": "stderr",
     "output_type": "stream",
     "text": [
      "100%|██████████| 80/80 [00:05<00:00, 14.35it/s]\n"
     ]
    },
    {
     "name": "stdout",
     "output_type": "stream",
     "text": [
      "Saving results in T:\\YuLab\\Video\\Naveed\\GPS_20_ThreeFPHoldSRTProbe\\20240817\\Init\\Clips...\n",
      "Saving csv poses!\n",
      "Starting to analyze %  T:/YuLab/Video/Naveed/GPS_20_ThreeFPHoldSRTProbe/20240817/Init/Clips/Naveed_20240817_Trial064_InitView.avi\n",
      "Loading  T:/YuLab/Video/Naveed/GPS_20_ThreeFPHoldSRTProbe/20240817/Init/Clips/Naveed_20240817_Trial064_InitView.avi\n",
      "Duration of video [s]:  4.0 , recorded with  20.0 fps!\n",
      "Overall # of frames:  80  found with (before cropping) frame dimensions:  1280 1024\n",
      "Starting to extract posture\n"
     ]
    },
    {
     "name": "stderr",
     "output_type": "stream",
     "text": [
      "100%|██████████| 80/80 [00:05<00:00, 14.45it/s]\n"
     ]
    },
    {
     "name": "stdout",
     "output_type": "stream",
     "text": [
      "Saving results in T:\\YuLab\\Video\\Naveed\\GPS_20_ThreeFPHoldSRTProbe\\20240817\\Init\\Clips...\n",
      "Saving csv poses!\n",
      "Starting to analyze %  T:/YuLab/Video/Naveed/GPS_20_ThreeFPHoldSRTProbe/20240817/Init/Clips/Naveed_20240817_Trial065_InitView.avi\n",
      "Loading  T:/YuLab/Video/Naveed/GPS_20_ThreeFPHoldSRTProbe/20240817/Init/Clips/Naveed_20240817_Trial065_InitView.avi\n",
      "Duration of video [s]:  4.0 , recorded with  20.0 fps!\n",
      "Overall # of frames:  80  found with (before cropping) frame dimensions:  1280 1024\n",
      "Starting to extract posture\n"
     ]
    },
    {
     "name": "stderr",
     "output_type": "stream",
     "text": [
      "100%|██████████| 80/80 [00:05<00:00, 14.14it/s]\n"
     ]
    },
    {
     "name": "stdout",
     "output_type": "stream",
     "text": [
      "Saving results in T:\\YuLab\\Video\\Naveed\\GPS_20_ThreeFPHoldSRTProbe\\20240817\\Init\\Clips...\n",
      "Saving csv poses!\n",
      "Starting to analyze %  T:/YuLab/Video/Naveed/GPS_20_ThreeFPHoldSRTProbe/20240817/Init/Clips/Naveed_20240817_Trial066_InitView.avi\n",
      "Loading  T:/YuLab/Video/Naveed/GPS_20_ThreeFPHoldSRTProbe/20240817/Init/Clips/Naveed_20240817_Trial066_InitView.avi\n",
      "Duration of video [s]:  4.0 , recorded with  20.0 fps!\n",
      "Overall # of frames:  80  found with (before cropping) frame dimensions:  1280 1024\n",
      "Starting to extract posture\n"
     ]
    },
    {
     "name": "stderr",
     "output_type": "stream",
     "text": [
      "100%|██████████| 80/80 [00:05<00:00, 14.39it/s]\n"
     ]
    },
    {
     "name": "stdout",
     "output_type": "stream",
     "text": [
      "Saving results in T:\\YuLab\\Video\\Naveed\\GPS_20_ThreeFPHoldSRTProbe\\20240817\\Init\\Clips...\n",
      "Saving csv poses!\n",
      "Starting to analyze %  T:/YuLab/Video/Naveed/GPS_20_ThreeFPHoldSRTProbe/20240817/Init/Clips/Naveed_20240817_Trial067_InitView.avi\n",
      "Loading  T:/YuLab/Video/Naveed/GPS_20_ThreeFPHoldSRTProbe/20240817/Init/Clips/Naveed_20240817_Trial067_InitView.avi\n",
      "Duration of video [s]:  4.0 , recorded with  20.0 fps!\n",
      "Overall # of frames:  80  found with (before cropping) frame dimensions:  1280 1024\n",
      "Starting to extract posture\n"
     ]
    },
    {
     "name": "stderr",
     "output_type": "stream",
     "text": [
      "100%|██████████| 80/80 [00:05<00:00, 14.12it/s]\n"
     ]
    },
    {
     "name": "stdout",
     "output_type": "stream",
     "text": [
      "Saving results in T:\\YuLab\\Video\\Naveed\\GPS_20_ThreeFPHoldSRTProbe\\20240817\\Init\\Clips...\n",
      "Saving csv poses!\n",
      "Starting to analyze %  T:/YuLab/Video/Naveed/GPS_20_ThreeFPHoldSRTProbe/20240817/Init/Clips/Naveed_20240817_Trial068_InitView.avi\n",
      "Loading  T:/YuLab/Video/Naveed/GPS_20_ThreeFPHoldSRTProbe/20240817/Init/Clips/Naveed_20240817_Trial068_InitView.avi\n",
      "Duration of video [s]:  4.0 , recorded with  20.0 fps!\n",
      "Overall # of frames:  80  found with (before cropping) frame dimensions:  1280 1024\n",
      "Starting to extract posture\n"
     ]
    },
    {
     "name": "stderr",
     "output_type": "stream",
     "text": [
      "100%|██████████| 80/80 [00:05<00:00, 14.56it/s]\n"
     ]
    },
    {
     "name": "stdout",
     "output_type": "stream",
     "text": [
      "Saving results in T:\\YuLab\\Video\\Naveed\\GPS_20_ThreeFPHoldSRTProbe\\20240817\\Init\\Clips...\n",
      "Saving csv poses!\n",
      "Starting to analyze %  T:/YuLab/Video/Naveed/GPS_20_ThreeFPHoldSRTProbe/20240817/Init/Clips/Naveed_20240817_Trial069_InitView.avi\n",
      "Loading  T:/YuLab/Video/Naveed/GPS_20_ThreeFPHoldSRTProbe/20240817/Init/Clips/Naveed_20240817_Trial069_InitView.avi\n",
      "Duration of video [s]:  4.0 , recorded with  20.0 fps!\n",
      "Overall # of frames:  80  found with (before cropping) frame dimensions:  1280 1024\n",
      "Starting to extract posture\n"
     ]
    },
    {
     "name": "stderr",
     "output_type": "stream",
     "text": [
      "100%|██████████| 80/80 [00:05<00:00, 14.17it/s]\n"
     ]
    },
    {
     "name": "stdout",
     "output_type": "stream",
     "text": [
      "Saving results in T:\\YuLab\\Video\\Naveed\\GPS_20_ThreeFPHoldSRTProbe\\20240817\\Init\\Clips...\n",
      "Saving csv poses!\n",
      "Starting to analyze %  T:/YuLab/Video/Naveed/GPS_20_ThreeFPHoldSRTProbe/20240817/Init/Clips/Naveed_20240817_Trial070_InitView.avi\n",
      "Loading  T:/YuLab/Video/Naveed/GPS_20_ThreeFPHoldSRTProbe/20240817/Init/Clips/Naveed_20240817_Trial070_InitView.avi\n",
      "Duration of video [s]:  4.0 , recorded with  20.0 fps!\n",
      "Overall # of frames:  80  found with (before cropping) frame dimensions:  1280 1024\n",
      "Starting to extract posture\n"
     ]
    },
    {
     "name": "stderr",
     "output_type": "stream",
     "text": [
      "100%|██████████| 80/80 [00:05<00:00, 14.30it/s]\n"
     ]
    },
    {
     "name": "stdout",
     "output_type": "stream",
     "text": [
      "Saving results in T:\\YuLab\\Video\\Naveed\\GPS_20_ThreeFPHoldSRTProbe\\20240817\\Init\\Clips...\n",
      "Saving csv poses!\n",
      "Starting to analyze %  T:/YuLab/Video/Naveed/GPS_20_ThreeFPHoldSRTProbe/20240817/Init/Clips/Naveed_20240817_Trial071_InitView.avi\n",
      "Loading  T:/YuLab/Video/Naveed/GPS_20_ThreeFPHoldSRTProbe/20240817/Init/Clips/Naveed_20240817_Trial071_InitView.avi\n",
      "Duration of video [s]:  4.0 , recorded with  20.0 fps!\n",
      "Overall # of frames:  80  found with (before cropping) frame dimensions:  1280 1024\n",
      "Starting to extract posture\n"
     ]
    },
    {
     "name": "stderr",
     "output_type": "stream",
     "text": [
      "100%|██████████| 80/80 [00:05<00:00, 14.31it/s]\n"
     ]
    },
    {
     "name": "stdout",
     "output_type": "stream",
     "text": [
      "Saving results in T:\\YuLab\\Video\\Naveed\\GPS_20_ThreeFPHoldSRTProbe\\20240817\\Init\\Clips...\n",
      "Saving csv poses!\n",
      "Starting to analyze %  T:/YuLab/Video/Naveed/GPS_20_ThreeFPHoldSRTProbe/20240817/Init/Clips/Naveed_20240817_Trial072_InitView.avi\n",
      "Loading  T:/YuLab/Video/Naveed/GPS_20_ThreeFPHoldSRTProbe/20240817/Init/Clips/Naveed_20240817_Trial072_InitView.avi\n",
      "Duration of video [s]:  4.0 , recorded with  20.0 fps!\n",
      "Overall # of frames:  80  found with (before cropping) frame dimensions:  1280 1024\n",
      "Starting to extract posture\n"
     ]
    },
    {
     "name": "stderr",
     "output_type": "stream",
     "text": [
      "100%|██████████| 80/80 [00:05<00:00, 14.42it/s]\n"
     ]
    },
    {
     "name": "stdout",
     "output_type": "stream",
     "text": [
      "Saving results in T:\\YuLab\\Video\\Naveed\\GPS_20_ThreeFPHoldSRTProbe\\20240817\\Init\\Clips...\n",
      "Saving csv poses!\n",
      "Starting to analyze %  T:/YuLab/Video/Naveed/GPS_20_ThreeFPHoldSRTProbe/20240817/Init/Clips/Naveed_20240817_Trial073_InitView.avi\n",
      "Loading  T:/YuLab/Video/Naveed/GPS_20_ThreeFPHoldSRTProbe/20240817/Init/Clips/Naveed_20240817_Trial073_InitView.avi\n",
      "Duration of video [s]:  4.0 , recorded with  20.0 fps!\n",
      "Overall # of frames:  80  found with (before cropping) frame dimensions:  1280 1024\n",
      "Starting to extract posture\n"
     ]
    },
    {
     "name": "stderr",
     "output_type": "stream",
     "text": [
      "100%|██████████| 80/80 [00:05<00:00, 14.37it/s]\n"
     ]
    },
    {
     "name": "stdout",
     "output_type": "stream",
     "text": [
      "Saving results in T:\\YuLab\\Video\\Naveed\\GPS_20_ThreeFPHoldSRTProbe\\20240817\\Init\\Clips...\n",
      "Saving csv poses!\n",
      "Starting to analyze %  T:/YuLab/Video/Naveed/GPS_20_ThreeFPHoldSRTProbe/20240817/Init/Clips/Naveed_20240817_Trial074_InitView.avi\n",
      "Loading  T:/YuLab/Video/Naveed/GPS_20_ThreeFPHoldSRTProbe/20240817/Init/Clips/Naveed_20240817_Trial074_InitView.avi\n",
      "Duration of video [s]:  4.0 , recorded with  20.0 fps!\n",
      "Overall # of frames:  80  found with (before cropping) frame dimensions:  1280 1024\n",
      "Starting to extract posture\n"
     ]
    },
    {
     "name": "stderr",
     "output_type": "stream",
     "text": [
      "100%|██████████| 80/80 [00:05<00:00, 14.31it/s]\n"
     ]
    },
    {
     "name": "stdout",
     "output_type": "stream",
     "text": [
      "Saving results in T:\\YuLab\\Video\\Naveed\\GPS_20_ThreeFPHoldSRTProbe\\20240817\\Init\\Clips...\n",
      "Saving csv poses!\n",
      "Starting to analyze %  T:/YuLab/Video/Naveed/GPS_20_ThreeFPHoldSRTProbe/20240817/Init/Clips/Naveed_20240817_Trial075_InitView.avi\n",
      "Loading  T:/YuLab/Video/Naveed/GPS_20_ThreeFPHoldSRTProbe/20240817/Init/Clips/Naveed_20240817_Trial075_InitView.avi\n",
      "Duration of video [s]:  4.0 , recorded with  20.0 fps!\n",
      "Overall # of frames:  80  found with (before cropping) frame dimensions:  1280 1024\n",
      "Starting to extract posture\n"
     ]
    },
    {
     "name": "stderr",
     "output_type": "stream",
     "text": [
      "100%|██████████| 80/80 [00:05<00:00, 14.53it/s]\n"
     ]
    },
    {
     "name": "stdout",
     "output_type": "stream",
     "text": [
      "Saving results in T:\\YuLab\\Video\\Naveed\\GPS_20_ThreeFPHoldSRTProbe\\20240817\\Init\\Clips...\n",
      "Saving csv poses!\n",
      "Starting to analyze %  T:/YuLab/Video/Naveed/GPS_20_ThreeFPHoldSRTProbe/20240817/Init/Clips/Naveed_20240817_Trial076_InitView.avi\n",
      "Loading  T:/YuLab/Video/Naveed/GPS_20_ThreeFPHoldSRTProbe/20240817/Init/Clips/Naveed_20240817_Trial076_InitView.avi\n",
      "Duration of video [s]:  4.0 , recorded with  20.0 fps!\n",
      "Overall # of frames:  80  found with (before cropping) frame dimensions:  1280 1024\n",
      "Starting to extract posture\n"
     ]
    },
    {
     "name": "stderr",
     "output_type": "stream",
     "text": [
      "100%|██████████| 80/80 [00:05<00:00, 14.43it/s]\n"
     ]
    },
    {
     "name": "stdout",
     "output_type": "stream",
     "text": [
      "Saving results in T:\\YuLab\\Video\\Naveed\\GPS_20_ThreeFPHoldSRTProbe\\20240817\\Init\\Clips...\n",
      "Saving csv poses!\n",
      "Starting to analyze %  T:/YuLab/Video/Naveed/GPS_20_ThreeFPHoldSRTProbe/20240817/Init/Clips/Naveed_20240817_Trial077_InitView.avi\n",
      "Loading  T:/YuLab/Video/Naveed/GPS_20_ThreeFPHoldSRTProbe/20240817/Init/Clips/Naveed_20240817_Trial077_InitView.avi\n",
      "Duration of video [s]:  4.0 , recorded with  20.0 fps!\n",
      "Overall # of frames:  80  found with (before cropping) frame dimensions:  1280 1024\n",
      "Starting to extract posture\n"
     ]
    },
    {
     "name": "stderr",
     "output_type": "stream",
     "text": [
      "100%|██████████| 80/80 [00:05<00:00, 14.50it/s]\n"
     ]
    },
    {
     "name": "stdout",
     "output_type": "stream",
     "text": [
      "Saving results in T:\\YuLab\\Video\\Naveed\\GPS_20_ThreeFPHoldSRTProbe\\20240817\\Init\\Clips...\n",
      "Saving csv poses!\n",
      "Starting to analyze %  T:/YuLab/Video/Naveed/GPS_20_ThreeFPHoldSRTProbe/20240817/Init/Clips/Naveed_20240817_Trial078_InitView.avi\n",
      "Loading  T:/YuLab/Video/Naveed/GPS_20_ThreeFPHoldSRTProbe/20240817/Init/Clips/Naveed_20240817_Trial078_InitView.avi\n",
      "Duration of video [s]:  4.0 , recorded with  20.0 fps!\n",
      "Overall # of frames:  80  found with (before cropping) frame dimensions:  1280 1024\n",
      "Starting to extract posture\n"
     ]
    },
    {
     "name": "stderr",
     "output_type": "stream",
     "text": [
      "100%|██████████| 80/80 [00:05<00:00, 14.50it/s]\n"
     ]
    },
    {
     "name": "stdout",
     "output_type": "stream",
     "text": [
      "Saving results in T:\\YuLab\\Video\\Naveed\\GPS_20_ThreeFPHoldSRTProbe\\20240817\\Init\\Clips...\n",
      "Saving csv poses!\n",
      "Starting to analyze %  T:/YuLab/Video/Naveed/GPS_20_ThreeFPHoldSRTProbe/20240817/Init/Clips/Naveed_20240817_Trial079_InitView.avi\n",
      "Loading  T:/YuLab/Video/Naveed/GPS_20_ThreeFPHoldSRTProbe/20240817/Init/Clips/Naveed_20240817_Trial079_InitView.avi\n",
      "Duration of video [s]:  4.0 , recorded with  20.0 fps!\n",
      "Overall # of frames:  80  found with (before cropping) frame dimensions:  1280 1024\n",
      "Starting to extract posture\n"
     ]
    },
    {
     "name": "stderr",
     "output_type": "stream",
     "text": [
      "100%|██████████| 80/80 [00:05<00:00, 14.65it/s]\n"
     ]
    },
    {
     "name": "stdout",
     "output_type": "stream",
     "text": [
      "Saving results in T:\\YuLab\\Video\\Naveed\\GPS_20_ThreeFPHoldSRTProbe\\20240817\\Init\\Clips...\n",
      "Saving csv poses!\n",
      "Starting to analyze %  T:/YuLab/Video/Naveed/GPS_20_ThreeFPHoldSRTProbe/20240817/Init/Clips/Naveed_20240817_Trial080_InitView.avi\n",
      "Loading  T:/YuLab/Video/Naveed/GPS_20_ThreeFPHoldSRTProbe/20240817/Init/Clips/Naveed_20240817_Trial080_InitView.avi\n",
      "Duration of video [s]:  4.0 , recorded with  20.0 fps!\n",
      "Overall # of frames:  80  found with (before cropping) frame dimensions:  1280 1024\n",
      "Starting to extract posture\n"
     ]
    },
    {
     "name": "stderr",
     "output_type": "stream",
     "text": [
      "100%|██████████| 80/80 [00:05<00:00, 14.48it/s]\n"
     ]
    },
    {
     "name": "stdout",
     "output_type": "stream",
     "text": [
      "Saving results in T:\\YuLab\\Video\\Naveed\\GPS_20_ThreeFPHoldSRTProbe\\20240817\\Init\\Clips...\n",
      "Saving csv poses!\n",
      "Starting to analyze %  T:/YuLab/Video/Naveed/GPS_20_ThreeFPHoldSRTProbe/20240817/Init/Clips/Naveed_20240817_Trial081_InitView.avi\n",
      "Loading  T:/YuLab/Video/Naveed/GPS_20_ThreeFPHoldSRTProbe/20240817/Init/Clips/Naveed_20240817_Trial081_InitView.avi\n",
      "Duration of video [s]:  4.0 , recorded with  20.0 fps!\n",
      "Overall # of frames:  80  found with (before cropping) frame dimensions:  1280 1024\n",
      "Starting to extract posture\n"
     ]
    },
    {
     "name": "stderr",
     "output_type": "stream",
     "text": [
      "100%|██████████| 80/80 [00:05<00:00, 14.56it/s]\n"
     ]
    },
    {
     "name": "stdout",
     "output_type": "stream",
     "text": [
      "Saving results in T:\\YuLab\\Video\\Naveed\\GPS_20_ThreeFPHoldSRTProbe\\20240817\\Init\\Clips...\n",
      "Saving csv poses!\n",
      "Starting to analyze %  T:/YuLab/Video/Naveed/GPS_20_ThreeFPHoldSRTProbe/20240817/Init/Clips/Naveed_20240817_Trial082_InitView.avi\n",
      "Loading  T:/YuLab/Video/Naveed/GPS_20_ThreeFPHoldSRTProbe/20240817/Init/Clips/Naveed_20240817_Trial082_InitView.avi\n",
      "Duration of video [s]:  4.0 , recorded with  20.0 fps!\n",
      "Overall # of frames:  80  found with (before cropping) frame dimensions:  1280 1024\n",
      "Starting to extract posture\n"
     ]
    },
    {
     "name": "stderr",
     "output_type": "stream",
     "text": [
      "100%|██████████| 80/80 [00:05<00:00, 14.58it/s]\n"
     ]
    },
    {
     "name": "stdout",
     "output_type": "stream",
     "text": [
      "Saving results in T:\\YuLab\\Video\\Naveed\\GPS_20_ThreeFPHoldSRTProbe\\20240817\\Init\\Clips...\n",
      "Saving csv poses!\n",
      "Starting to analyze %  T:/YuLab/Video/Naveed/GPS_20_ThreeFPHoldSRTProbe/20240817/Init/Clips/Naveed_20240817_Trial083_InitView.avi\n",
      "Loading  T:/YuLab/Video/Naveed/GPS_20_ThreeFPHoldSRTProbe/20240817/Init/Clips/Naveed_20240817_Trial083_InitView.avi\n",
      "Duration of video [s]:  4.0 , recorded with  20.0 fps!\n",
      "Overall # of frames:  80  found with (before cropping) frame dimensions:  1280 1024\n",
      "Starting to extract posture\n"
     ]
    },
    {
     "name": "stderr",
     "output_type": "stream",
     "text": [
      "100%|██████████| 80/80 [00:05<00:00, 14.52it/s]\n"
     ]
    },
    {
     "name": "stdout",
     "output_type": "stream",
     "text": [
      "Saving results in T:\\YuLab\\Video\\Naveed\\GPS_20_ThreeFPHoldSRTProbe\\20240817\\Init\\Clips...\n",
      "Saving csv poses!\n",
      "Starting to analyze %  T:/YuLab/Video/Naveed/GPS_20_ThreeFPHoldSRTProbe/20240817/Init/Clips/Naveed_20240817_Trial084_InitView.avi\n",
      "Loading  T:/YuLab/Video/Naveed/GPS_20_ThreeFPHoldSRTProbe/20240817/Init/Clips/Naveed_20240817_Trial084_InitView.avi\n",
      "Duration of video [s]:  4.0 , recorded with  20.0 fps!\n",
      "Overall # of frames:  80  found with (before cropping) frame dimensions:  1280 1024\n",
      "Starting to extract posture\n"
     ]
    },
    {
     "name": "stderr",
     "output_type": "stream",
     "text": [
      "100%|██████████| 80/80 [00:05<00:00, 14.59it/s]\n"
     ]
    },
    {
     "name": "stdout",
     "output_type": "stream",
     "text": [
      "Saving results in T:\\YuLab\\Video\\Naveed\\GPS_20_ThreeFPHoldSRTProbe\\20240817\\Init\\Clips...\n",
      "Saving csv poses!\n",
      "Starting to analyze %  T:/YuLab/Video/Naveed/GPS_20_ThreeFPHoldSRTProbe/20240817/Init/Clips/Naveed_20240817_Trial085_InitView.avi\n",
      "Loading  T:/YuLab/Video/Naveed/GPS_20_ThreeFPHoldSRTProbe/20240817/Init/Clips/Naveed_20240817_Trial085_InitView.avi\n",
      "Duration of video [s]:  4.0 , recorded with  20.0 fps!\n",
      "Overall # of frames:  80  found with (before cropping) frame dimensions:  1280 1024\n",
      "Starting to extract posture\n"
     ]
    },
    {
     "name": "stderr",
     "output_type": "stream",
     "text": [
      "100%|██████████| 80/80 [00:05<00:00, 14.79it/s]\n"
     ]
    },
    {
     "name": "stdout",
     "output_type": "stream",
     "text": [
      "Saving results in T:\\YuLab\\Video\\Naveed\\GPS_20_ThreeFPHoldSRTProbe\\20240817\\Init\\Clips...\n",
      "Saving csv poses!\n",
      "Starting to analyze %  T:/YuLab/Video/Naveed/GPS_20_ThreeFPHoldSRTProbe/20240817/Init/Clips/Naveed_20240817_Trial086_InitView.avi\n",
      "Loading  T:/YuLab/Video/Naveed/GPS_20_ThreeFPHoldSRTProbe/20240817/Init/Clips/Naveed_20240817_Trial086_InitView.avi\n",
      "Duration of video [s]:  4.0 , recorded with  20.0 fps!\n",
      "Overall # of frames:  80  found with (before cropping) frame dimensions:  1280 1024\n",
      "Starting to extract posture\n"
     ]
    },
    {
     "name": "stderr",
     "output_type": "stream",
     "text": [
      "100%|██████████| 80/80 [00:05<00:00, 14.12it/s]\n"
     ]
    },
    {
     "name": "stdout",
     "output_type": "stream",
     "text": [
      "Saving results in T:\\YuLab\\Video\\Naveed\\GPS_20_ThreeFPHoldSRTProbe\\20240817\\Init\\Clips...\n",
      "Saving csv poses!\n",
      "Starting to analyze %  T:/YuLab/Video/Naveed/GPS_20_ThreeFPHoldSRTProbe/20240817/Init/Clips/Naveed_20240817_Trial087_InitView.avi\n",
      "Loading  T:/YuLab/Video/Naveed/GPS_20_ThreeFPHoldSRTProbe/20240817/Init/Clips/Naveed_20240817_Trial087_InitView.avi\n",
      "Duration of video [s]:  4.0 , recorded with  20.0 fps!\n",
      "Overall # of frames:  80  found with (before cropping) frame dimensions:  1280 1024\n",
      "Starting to extract posture\n"
     ]
    },
    {
     "name": "stderr",
     "output_type": "stream",
     "text": [
      "100%|██████████| 80/80 [00:05<00:00, 14.13it/s]\n"
     ]
    },
    {
     "name": "stdout",
     "output_type": "stream",
     "text": [
      "Saving results in T:\\YuLab\\Video\\Naveed\\GPS_20_ThreeFPHoldSRTProbe\\20240817\\Init\\Clips...\n",
      "Saving csv poses!\n",
      "Starting to analyze %  T:/YuLab/Video/Naveed/GPS_20_ThreeFPHoldSRTProbe/20240817/Init/Clips/Naveed_20240817_Trial088_InitView.avi\n",
      "Loading  T:/YuLab/Video/Naveed/GPS_20_ThreeFPHoldSRTProbe/20240817/Init/Clips/Naveed_20240817_Trial088_InitView.avi\n",
      "Duration of video [s]:  4.0 , recorded with  20.0 fps!\n",
      "Overall # of frames:  80  found with (before cropping) frame dimensions:  1280 1024\n",
      "Starting to extract posture\n"
     ]
    },
    {
     "name": "stderr",
     "output_type": "stream",
     "text": [
      "100%|██████████| 80/80 [00:05<00:00, 14.37it/s]\n"
     ]
    },
    {
     "name": "stdout",
     "output_type": "stream",
     "text": [
      "Saving results in T:\\YuLab\\Video\\Naveed\\GPS_20_ThreeFPHoldSRTProbe\\20240817\\Init\\Clips...\n",
      "Saving csv poses!\n",
      "Starting to analyze %  T:/YuLab/Video/Naveed/GPS_20_ThreeFPHoldSRTProbe/20240817/Init/Clips/Naveed_20240817_Trial089_InitView.avi\n",
      "Loading  T:/YuLab/Video/Naveed/GPS_20_ThreeFPHoldSRTProbe/20240817/Init/Clips/Naveed_20240817_Trial089_InitView.avi\n",
      "Duration of video [s]:  4.0 , recorded with  20.0 fps!\n",
      "Overall # of frames:  80  found with (before cropping) frame dimensions:  1280 1024\n",
      "Starting to extract posture\n"
     ]
    },
    {
     "name": "stderr",
     "output_type": "stream",
     "text": [
      "100%|██████████| 80/80 [00:05<00:00, 14.44it/s]\n"
     ]
    },
    {
     "name": "stdout",
     "output_type": "stream",
     "text": [
      "Saving results in T:\\YuLab\\Video\\Naveed\\GPS_20_ThreeFPHoldSRTProbe\\20240817\\Init\\Clips...\n",
      "Saving csv poses!\n",
      "Starting to analyze %  T:/YuLab/Video/Naveed/GPS_20_ThreeFPHoldSRTProbe/20240817/Init/Clips/Naveed_20240817_Trial090_InitView.avi\n",
      "Loading  T:/YuLab/Video/Naveed/GPS_20_ThreeFPHoldSRTProbe/20240817/Init/Clips/Naveed_20240817_Trial090_InitView.avi\n",
      "Duration of video [s]:  4.0 , recorded with  20.0 fps!\n",
      "Overall # of frames:  80  found with (before cropping) frame dimensions:  1280 1024\n",
      "Starting to extract posture\n"
     ]
    },
    {
     "name": "stderr",
     "output_type": "stream",
     "text": [
      "100%|██████████| 80/80 [00:05<00:00, 14.24it/s]\n"
     ]
    },
    {
     "name": "stdout",
     "output_type": "stream",
     "text": [
      "Saving results in T:\\YuLab\\Video\\Naveed\\GPS_20_ThreeFPHoldSRTProbe\\20240817\\Init\\Clips...\n",
      "Saving csv poses!\n",
      "Starting to analyze %  T:/YuLab/Video/Naveed/GPS_20_ThreeFPHoldSRTProbe/20240817/Init/Clips/Naveed_20240817_Trial091_InitView.avi\n",
      "Loading  T:/YuLab/Video/Naveed/GPS_20_ThreeFPHoldSRTProbe/20240817/Init/Clips/Naveed_20240817_Trial091_InitView.avi\n",
      "Duration of video [s]:  4.0 , recorded with  20.0 fps!\n",
      "Overall # of frames:  80  found with (before cropping) frame dimensions:  1280 1024\n",
      "Starting to extract posture\n"
     ]
    },
    {
     "name": "stderr",
     "output_type": "stream",
     "text": [
      "100%|██████████| 80/80 [00:05<00:00, 14.32it/s]\n"
     ]
    },
    {
     "name": "stdout",
     "output_type": "stream",
     "text": [
      "Saving results in T:\\YuLab\\Video\\Naveed\\GPS_20_ThreeFPHoldSRTProbe\\20240817\\Init\\Clips...\n",
      "Saving csv poses!\n",
      "Starting to analyze %  T:/YuLab/Video/Naveed/GPS_20_ThreeFPHoldSRTProbe/20240817/Init/Clips/Naveed_20240817_Trial092_InitView.avi\n",
      "Loading  T:/YuLab/Video/Naveed/GPS_20_ThreeFPHoldSRTProbe/20240817/Init/Clips/Naveed_20240817_Trial092_InitView.avi\n",
      "Duration of video [s]:  4.0 , recorded with  20.0 fps!\n",
      "Overall # of frames:  80  found with (before cropping) frame dimensions:  1280 1024\n",
      "Starting to extract posture\n"
     ]
    },
    {
     "name": "stderr",
     "output_type": "stream",
     "text": [
      "100%|██████████| 80/80 [00:05<00:00, 14.22it/s]\n"
     ]
    },
    {
     "name": "stdout",
     "output_type": "stream",
     "text": [
      "Saving results in T:\\YuLab\\Video\\Naveed\\GPS_20_ThreeFPHoldSRTProbe\\20240817\\Init\\Clips...\n",
      "Saving csv poses!\n",
      "Starting to analyze %  T:/YuLab/Video/Naveed/GPS_20_ThreeFPHoldSRTProbe/20240817/Init/Clips/Naveed_20240817_Trial093_InitView.avi\n",
      "Loading  T:/YuLab/Video/Naveed/GPS_20_ThreeFPHoldSRTProbe/20240817/Init/Clips/Naveed_20240817_Trial093_InitView.avi\n",
      "Duration of video [s]:  4.0 , recorded with  20.0 fps!\n",
      "Overall # of frames:  80  found with (before cropping) frame dimensions:  1280 1024\n",
      "Starting to extract posture\n"
     ]
    },
    {
     "name": "stderr",
     "output_type": "stream",
     "text": [
      "100%|██████████| 80/80 [00:05<00:00, 14.47it/s]\n"
     ]
    },
    {
     "name": "stdout",
     "output_type": "stream",
     "text": [
      "Saving results in T:\\YuLab\\Video\\Naveed\\GPS_20_ThreeFPHoldSRTProbe\\20240817\\Init\\Clips...\n",
      "Saving csv poses!\n",
      "Starting to analyze %  T:/YuLab/Video/Naveed/GPS_20_ThreeFPHoldSRTProbe/20240817/Init/Clips/Naveed_20240817_Trial094_InitView.avi\n",
      "Loading  T:/YuLab/Video/Naveed/GPS_20_ThreeFPHoldSRTProbe/20240817/Init/Clips/Naveed_20240817_Trial094_InitView.avi\n",
      "Duration of video [s]:  4.0 , recorded with  20.0 fps!\n",
      "Overall # of frames:  80  found with (before cropping) frame dimensions:  1280 1024\n",
      "Starting to extract posture\n"
     ]
    },
    {
     "name": "stderr",
     "output_type": "stream",
     "text": [
      "100%|██████████| 80/80 [00:05<00:00, 14.35it/s]\n"
     ]
    },
    {
     "name": "stdout",
     "output_type": "stream",
     "text": [
      "Saving results in T:\\YuLab\\Video\\Naveed\\GPS_20_ThreeFPHoldSRTProbe\\20240817\\Init\\Clips...\n",
      "Saving csv poses!\n",
      "Starting to analyze %  T:/YuLab/Video/Naveed/GPS_20_ThreeFPHoldSRTProbe/20240817/Init/Clips/Naveed_20240817_Trial095_InitView.avi\n",
      "Loading  T:/YuLab/Video/Naveed/GPS_20_ThreeFPHoldSRTProbe/20240817/Init/Clips/Naveed_20240817_Trial095_InitView.avi\n",
      "Duration of video [s]:  4.0 , recorded with  20.0 fps!\n",
      "Overall # of frames:  80  found with (before cropping) frame dimensions:  1280 1024\n",
      "Starting to extract posture\n"
     ]
    },
    {
     "name": "stderr",
     "output_type": "stream",
     "text": [
      "100%|██████████| 80/80 [00:05<00:00, 14.42it/s]\n"
     ]
    },
    {
     "name": "stdout",
     "output_type": "stream",
     "text": [
      "Saving results in T:\\YuLab\\Video\\Naveed\\GPS_20_ThreeFPHoldSRTProbe\\20240817\\Init\\Clips...\n",
      "Saving csv poses!\n",
      "Starting to analyze %  T:/YuLab/Video/Naveed/GPS_20_ThreeFPHoldSRTProbe/20240818/Init/Clips/Naveed_20240818_Trial015_InitView.avi\n",
      "Loading  T:/YuLab/Video/Naveed/GPS_20_ThreeFPHoldSRTProbe/20240818/Init/Clips/Naveed_20240818_Trial015_InitView.avi\n",
      "Duration of video [s]:  4.0 , recorded with  20.0 fps!\n",
      "Overall # of frames:  80  found with (before cropping) frame dimensions:  1280 1024\n",
      "Starting to extract posture\n"
     ]
    },
    {
     "name": "stderr",
     "output_type": "stream",
     "text": [
      "100%|██████████| 80/80 [00:05<00:00, 14.18it/s]\n"
     ]
    },
    {
     "name": "stdout",
     "output_type": "stream",
     "text": [
      "Saving results in T:\\YuLab\\Video\\Naveed\\GPS_20_ThreeFPHoldSRTProbe\\20240818\\Init\\Clips...\n",
      "Saving csv poses!\n",
      "Starting to analyze %  T:/YuLab/Video/Naveed/GPS_20_ThreeFPHoldSRTProbe/20240818/Init/Clips/Naveed_20240818_Trial016_InitView.avi\n",
      "Loading  T:/YuLab/Video/Naveed/GPS_20_ThreeFPHoldSRTProbe/20240818/Init/Clips/Naveed_20240818_Trial016_InitView.avi\n",
      "Duration of video [s]:  4.0 , recorded with  20.0 fps!\n",
      "Overall # of frames:  80  found with (before cropping) frame dimensions:  1280 1024\n",
      "Starting to extract posture\n"
     ]
    },
    {
     "name": "stderr",
     "output_type": "stream",
     "text": [
      "100%|██████████| 80/80 [00:05<00:00, 14.28it/s]\n"
     ]
    },
    {
     "name": "stdout",
     "output_type": "stream",
     "text": [
      "Saving results in T:\\YuLab\\Video\\Naveed\\GPS_20_ThreeFPHoldSRTProbe\\20240818\\Init\\Clips...\n",
      "Saving csv poses!\n",
      "Starting to analyze %  T:/YuLab/Video/Naveed/GPS_20_ThreeFPHoldSRTProbe/20240818/Init/Clips/Naveed_20240818_Trial017_InitView.avi\n",
      "Loading  T:/YuLab/Video/Naveed/GPS_20_ThreeFPHoldSRTProbe/20240818/Init/Clips/Naveed_20240818_Trial017_InitView.avi\n",
      "Duration of video [s]:  3.95 , recorded with  20.0 fps!\n",
      "Overall # of frames:  79  found with (before cropping) frame dimensions:  1280 1024\n",
      "Starting to extract posture\n"
     ]
    },
    {
     "name": "stderr",
     "output_type": "stream",
     "text": [
      "100%|██████████| 79/79 [00:05<00:00, 14.32it/s]\n"
     ]
    },
    {
     "name": "stdout",
     "output_type": "stream",
     "text": [
      "Saving results in T:\\YuLab\\Video\\Naveed\\GPS_20_ThreeFPHoldSRTProbe\\20240818\\Init\\Clips...\n",
      "Saving csv poses!\n",
      "Starting to analyze %  T:/YuLab/Video/Naveed/GPS_20_ThreeFPHoldSRTProbe/20240818/Init/Clips/Naveed_20240818_Trial018_InitView.avi\n",
      "Loading  T:/YuLab/Video/Naveed/GPS_20_ThreeFPHoldSRTProbe/20240818/Init/Clips/Naveed_20240818_Trial018_InitView.avi\n",
      "Duration of video [s]:  4.0 , recorded with  20.0 fps!\n",
      "Overall # of frames:  80  found with (before cropping) frame dimensions:  1280 1024\n",
      "Starting to extract posture\n"
     ]
    },
    {
     "name": "stderr",
     "output_type": "stream",
     "text": [
      "100%|██████████| 80/80 [00:05<00:00, 14.54it/s]\n"
     ]
    },
    {
     "name": "stdout",
     "output_type": "stream",
     "text": [
      "Saving results in T:\\YuLab\\Video\\Naveed\\GPS_20_ThreeFPHoldSRTProbe\\20240818\\Init\\Clips...\n",
      "Saving csv poses!\n",
      "Starting to analyze %  T:/YuLab/Video/Naveed/GPS_20_ThreeFPHoldSRTProbe/20240818/Init/Clips/Naveed_20240818_Trial019_InitView.avi\n",
      "Loading  T:/YuLab/Video/Naveed/GPS_20_ThreeFPHoldSRTProbe/20240818/Init/Clips/Naveed_20240818_Trial019_InitView.avi\n",
      "Duration of video [s]:  4.0 , recorded with  20.0 fps!\n",
      "Overall # of frames:  80  found with (before cropping) frame dimensions:  1280 1024\n",
      "Starting to extract posture\n"
     ]
    },
    {
     "name": "stderr",
     "output_type": "stream",
     "text": [
      "100%|██████████| 80/80 [00:05<00:00, 14.40it/s]\n"
     ]
    },
    {
     "name": "stdout",
     "output_type": "stream",
     "text": [
      "Saving results in T:\\YuLab\\Video\\Naveed\\GPS_20_ThreeFPHoldSRTProbe\\20240818\\Init\\Clips...\n",
      "Saving csv poses!\n",
      "Starting to analyze %  T:/YuLab/Video/Naveed/GPS_20_ThreeFPHoldSRTProbe/20240818/Init/Clips/Naveed_20240818_Trial020_InitView.avi\n",
      "Loading  T:/YuLab/Video/Naveed/GPS_20_ThreeFPHoldSRTProbe/20240818/Init/Clips/Naveed_20240818_Trial020_InitView.avi\n",
      "Duration of video [s]:  4.05 , recorded with  20.0 fps!\n",
      "Overall # of frames:  81  found with (before cropping) frame dimensions:  1280 1024\n",
      "Starting to extract posture\n"
     ]
    },
    {
     "name": "stderr",
     "output_type": "stream",
     "text": [
      "100%|██████████| 81/81 [00:06<00:00, 13.19it/s]\n"
     ]
    },
    {
     "name": "stdout",
     "output_type": "stream",
     "text": [
      "Saving results in T:\\YuLab\\Video\\Naveed\\GPS_20_ThreeFPHoldSRTProbe\\20240818\\Init\\Clips...\n",
      "Saving csv poses!\n",
      "Starting to analyze %  T:/YuLab/Video/Naveed/GPS_20_ThreeFPHoldSRTProbe/20240818/Init/Clips/Naveed_20240818_Trial021_InitView.avi\n",
      "Loading  T:/YuLab/Video/Naveed/GPS_20_ThreeFPHoldSRTProbe/20240818/Init/Clips/Naveed_20240818_Trial021_InitView.avi\n",
      "Duration of video [s]:  4.0 , recorded with  20.0 fps!\n",
      "Overall # of frames:  80  found with (before cropping) frame dimensions:  1280 1024\n",
      "Starting to extract posture\n"
     ]
    },
    {
     "name": "stderr",
     "output_type": "stream",
     "text": [
      "100%|██████████| 80/80 [00:05<00:00, 14.56it/s]\n"
     ]
    },
    {
     "name": "stdout",
     "output_type": "stream",
     "text": [
      "Saving results in T:\\YuLab\\Video\\Naveed\\GPS_20_ThreeFPHoldSRTProbe\\20240818\\Init\\Clips...\n",
      "Saving csv poses!\n",
      "Starting to analyze %  T:/YuLab/Video/Naveed/GPS_20_ThreeFPHoldSRTProbe/20240818/Init/Clips/Naveed_20240818_Trial022_InitView.avi\n",
      "Loading  T:/YuLab/Video/Naveed/GPS_20_ThreeFPHoldSRTProbe/20240818/Init/Clips/Naveed_20240818_Trial022_InitView.avi\n",
      "Duration of video [s]:  4.0 , recorded with  20.0 fps!\n",
      "Overall # of frames:  80  found with (before cropping) frame dimensions:  1280 1024\n",
      "Starting to extract posture\n"
     ]
    },
    {
     "name": "stderr",
     "output_type": "stream",
     "text": [
      "100%|██████████| 80/80 [00:05<00:00, 14.49it/s]\n"
     ]
    },
    {
     "name": "stdout",
     "output_type": "stream",
     "text": [
      "Saving results in T:\\YuLab\\Video\\Naveed\\GPS_20_ThreeFPHoldSRTProbe\\20240818\\Init\\Clips...\n",
      "Saving csv poses!\n",
      "Starting to analyze %  T:/YuLab/Video/Naveed/GPS_20_ThreeFPHoldSRTProbe/20240818/Init/Clips/Naveed_20240818_Trial023_InitView.avi\n",
      "Loading  T:/YuLab/Video/Naveed/GPS_20_ThreeFPHoldSRTProbe/20240818/Init/Clips/Naveed_20240818_Trial023_InitView.avi\n",
      "Duration of video [s]:  4.0 , recorded with  20.0 fps!\n",
      "Overall # of frames:  80  found with (before cropping) frame dimensions:  1280 1024\n",
      "Starting to extract posture\n"
     ]
    },
    {
     "name": "stderr",
     "output_type": "stream",
     "text": [
      "100%|██████████| 80/80 [00:05<00:00, 14.40it/s]\n"
     ]
    },
    {
     "name": "stdout",
     "output_type": "stream",
     "text": [
      "Saving results in T:\\YuLab\\Video\\Naveed\\GPS_20_ThreeFPHoldSRTProbe\\20240818\\Init\\Clips...\n",
      "Saving csv poses!\n",
      "Starting to analyze %  T:/YuLab/Video/Naveed/GPS_20_ThreeFPHoldSRTProbe/20240818/Init/Clips/Naveed_20240818_Trial024_InitView.avi\n",
      "Loading  T:/YuLab/Video/Naveed/GPS_20_ThreeFPHoldSRTProbe/20240818/Init/Clips/Naveed_20240818_Trial024_InitView.avi\n",
      "Duration of video [s]:  4.0 , recorded with  20.0 fps!\n",
      "Overall # of frames:  80  found with (before cropping) frame dimensions:  1280 1024\n",
      "Starting to extract posture\n"
     ]
    },
    {
     "name": "stderr",
     "output_type": "stream",
     "text": [
      "100%|██████████| 80/80 [00:05<00:00, 14.19it/s]\n"
     ]
    },
    {
     "name": "stdout",
     "output_type": "stream",
     "text": [
      "Saving results in T:\\YuLab\\Video\\Naveed\\GPS_20_ThreeFPHoldSRTProbe\\20240818\\Init\\Clips...\n",
      "Saving csv poses!\n",
      "Starting to analyze %  T:/YuLab/Video/Naveed/GPS_20_ThreeFPHoldSRTProbe/20240818/Init/Clips/Naveed_20240818_Trial025_InitView.avi\n",
      "Loading  T:/YuLab/Video/Naveed/GPS_20_ThreeFPHoldSRTProbe/20240818/Init/Clips/Naveed_20240818_Trial025_InitView.avi\n",
      "Duration of video [s]:  4.05 , recorded with  20.0 fps!\n",
      "Overall # of frames:  81  found with (before cropping) frame dimensions:  1280 1024\n",
      "Starting to extract posture\n"
     ]
    },
    {
     "name": "stderr",
     "output_type": "stream",
     "text": [
      "100%|██████████| 81/81 [00:06<00:00, 13.48it/s]\n"
     ]
    },
    {
     "name": "stdout",
     "output_type": "stream",
     "text": [
      "Saving results in T:\\YuLab\\Video\\Naveed\\GPS_20_ThreeFPHoldSRTProbe\\20240818\\Init\\Clips...\n",
      "Saving csv poses!\n",
      "Starting to analyze %  T:/YuLab/Video/Naveed/GPS_20_ThreeFPHoldSRTProbe/20240818/Init/Clips/Naveed_20240818_Trial026_InitView.avi\n",
      "Loading  T:/YuLab/Video/Naveed/GPS_20_ThreeFPHoldSRTProbe/20240818/Init/Clips/Naveed_20240818_Trial026_InitView.avi\n",
      "Duration of video [s]:  4.0 , recorded with  20.0 fps!\n",
      "Overall # of frames:  80  found with (before cropping) frame dimensions:  1280 1024\n",
      "Starting to extract posture\n"
     ]
    },
    {
     "name": "stderr",
     "output_type": "stream",
     "text": [
      "100%|██████████| 80/80 [00:05<00:00, 14.26it/s]\n"
     ]
    },
    {
     "name": "stdout",
     "output_type": "stream",
     "text": [
      "Saving results in T:\\YuLab\\Video\\Naveed\\GPS_20_ThreeFPHoldSRTProbe\\20240818\\Init\\Clips...\n",
      "Saving csv poses!\n",
      "Starting to analyze %  T:/YuLab/Video/Naveed/GPS_20_ThreeFPHoldSRTProbe/20240818/Init/Clips/Naveed_20240818_Trial027_InitView.avi\n",
      "Loading  T:/YuLab/Video/Naveed/GPS_20_ThreeFPHoldSRTProbe/20240818/Init/Clips/Naveed_20240818_Trial027_InitView.avi\n",
      "Duration of video [s]:  4.0 , recorded with  20.0 fps!\n",
      "Overall # of frames:  80  found with (before cropping) frame dimensions:  1280 1024\n",
      "Starting to extract posture\n"
     ]
    },
    {
     "name": "stderr",
     "output_type": "stream",
     "text": [
      "100%|██████████| 80/80 [00:05<00:00, 14.19it/s]\n"
     ]
    },
    {
     "name": "stdout",
     "output_type": "stream",
     "text": [
      "Saving results in T:\\YuLab\\Video\\Naveed\\GPS_20_ThreeFPHoldSRTProbe\\20240818\\Init\\Clips...\n",
      "Saving csv poses!\n",
      "Starting to analyze %  T:/YuLab/Video/Naveed/GPS_20_ThreeFPHoldSRTProbe/20240818/Init/Clips/Naveed_20240818_Trial028_InitView.avi\n",
      "Loading  T:/YuLab/Video/Naveed/GPS_20_ThreeFPHoldSRTProbe/20240818/Init/Clips/Naveed_20240818_Trial028_InitView.avi\n",
      "Duration of video [s]:  4.0 , recorded with  20.0 fps!\n",
      "Overall # of frames:  80  found with (before cropping) frame dimensions:  1280 1024\n",
      "Starting to extract posture\n"
     ]
    },
    {
     "name": "stderr",
     "output_type": "stream",
     "text": [
      "100%|██████████| 80/80 [00:05<00:00, 14.43it/s]\n"
     ]
    },
    {
     "name": "stdout",
     "output_type": "stream",
     "text": [
      "Saving results in T:\\YuLab\\Video\\Naveed\\GPS_20_ThreeFPHoldSRTProbe\\20240818\\Init\\Clips...\n",
      "Saving csv poses!\n",
      "Starting to analyze %  T:/YuLab/Video/Naveed/GPS_20_ThreeFPHoldSRTProbe/20240818/Init/Clips/Naveed_20240818_Trial029_InitView.avi\n",
      "Loading  T:/YuLab/Video/Naveed/GPS_20_ThreeFPHoldSRTProbe/20240818/Init/Clips/Naveed_20240818_Trial029_InitView.avi\n",
      "Duration of video [s]:  4.0 , recorded with  20.0 fps!\n",
      "Overall # of frames:  80  found with (before cropping) frame dimensions:  1280 1024\n",
      "Starting to extract posture\n"
     ]
    },
    {
     "name": "stderr",
     "output_type": "stream",
     "text": [
      "100%|██████████| 80/80 [00:05<00:00, 13.93it/s]\n"
     ]
    },
    {
     "name": "stdout",
     "output_type": "stream",
     "text": [
      "Saving results in T:\\YuLab\\Video\\Naveed\\GPS_20_ThreeFPHoldSRTProbe\\20240818\\Init\\Clips...\n",
      "Saving csv poses!\n",
      "Starting to analyze %  T:/YuLab/Video/Naveed/GPS_20_ThreeFPHoldSRTProbe/20240818/Init/Clips/Naveed_20240818_Trial030_InitView.avi\n",
      "Loading  T:/YuLab/Video/Naveed/GPS_20_ThreeFPHoldSRTProbe/20240818/Init/Clips/Naveed_20240818_Trial030_InitView.avi\n",
      "Duration of video [s]:  4.0 , recorded with  20.0 fps!\n",
      "Overall # of frames:  80  found with (before cropping) frame dimensions:  1280 1024\n",
      "Starting to extract posture\n"
     ]
    },
    {
     "name": "stderr",
     "output_type": "stream",
     "text": [
      "100%|██████████| 80/80 [00:05<00:00, 14.23it/s]\n"
     ]
    },
    {
     "name": "stdout",
     "output_type": "stream",
     "text": [
      "Saving results in T:\\YuLab\\Video\\Naveed\\GPS_20_ThreeFPHoldSRTProbe\\20240818\\Init\\Clips...\n",
      "Saving csv poses!\n",
      "Starting to analyze %  T:/YuLab/Video/Naveed/GPS_20_ThreeFPHoldSRTProbe/20240818/Init/Clips/Naveed_20240818_Trial031_InitView.avi\n",
      "Loading  T:/YuLab/Video/Naveed/GPS_20_ThreeFPHoldSRTProbe/20240818/Init/Clips/Naveed_20240818_Trial031_InitView.avi\n",
      "Duration of video [s]:  4.0 , recorded with  20.0 fps!\n",
      "Overall # of frames:  80  found with (before cropping) frame dimensions:  1280 1024\n",
      "Starting to extract posture\n"
     ]
    },
    {
     "name": "stderr",
     "output_type": "stream",
     "text": [
      "100%|██████████| 80/80 [00:05<00:00, 14.48it/s]\n"
     ]
    },
    {
     "name": "stdout",
     "output_type": "stream",
     "text": [
      "Saving results in T:\\YuLab\\Video\\Naveed\\GPS_20_ThreeFPHoldSRTProbe\\20240818\\Init\\Clips...\n",
      "Saving csv poses!\n",
      "Starting to analyze %  T:/YuLab/Video/Naveed/GPS_20_ThreeFPHoldSRTProbe/20240818/Init/Clips/Naveed_20240818_Trial032_InitView.avi\n",
      "Loading  T:/YuLab/Video/Naveed/GPS_20_ThreeFPHoldSRTProbe/20240818/Init/Clips/Naveed_20240818_Trial032_InitView.avi\n",
      "Duration of video [s]:  4.0 , recorded with  20.0 fps!\n",
      "Overall # of frames:  80  found with (before cropping) frame dimensions:  1280 1024\n",
      "Starting to extract posture\n"
     ]
    },
    {
     "name": "stderr",
     "output_type": "stream",
     "text": [
      "100%|██████████| 80/80 [00:05<00:00, 14.12it/s]\n"
     ]
    },
    {
     "name": "stdout",
     "output_type": "stream",
     "text": [
      "Saving results in T:\\YuLab\\Video\\Naveed\\GPS_20_ThreeFPHoldSRTProbe\\20240818\\Init\\Clips...\n",
      "Saving csv poses!\n",
      "Starting to analyze %  T:/YuLab/Video/Naveed/GPS_20_ThreeFPHoldSRTProbe/20240818/Init/Clips/Naveed_20240818_Trial033_InitView.avi\n",
      "Loading  T:/YuLab/Video/Naveed/GPS_20_ThreeFPHoldSRTProbe/20240818/Init/Clips/Naveed_20240818_Trial033_InitView.avi\n",
      "Duration of video [s]:  4.0 , recorded with  20.0 fps!\n",
      "Overall # of frames:  80  found with (before cropping) frame dimensions:  1280 1024\n",
      "Starting to extract posture\n"
     ]
    },
    {
     "name": "stderr",
     "output_type": "stream",
     "text": [
      "100%|██████████| 80/80 [00:05<00:00, 14.46it/s]\n"
     ]
    },
    {
     "name": "stdout",
     "output_type": "stream",
     "text": [
      "Saving results in T:\\YuLab\\Video\\Naveed\\GPS_20_ThreeFPHoldSRTProbe\\20240818\\Init\\Clips...\n",
      "Saving csv poses!\n",
      "Starting to analyze %  T:/YuLab/Video/Naveed/GPS_20_ThreeFPHoldSRTProbe/20240818/Init/Clips/Naveed_20240818_Trial034_InitView.avi\n",
      "Loading  T:/YuLab/Video/Naveed/GPS_20_ThreeFPHoldSRTProbe/20240818/Init/Clips/Naveed_20240818_Trial034_InitView.avi\n",
      "Duration of video [s]:  4.0 , recorded with  20.0 fps!\n",
      "Overall # of frames:  80  found with (before cropping) frame dimensions:  1280 1024\n",
      "Starting to extract posture\n"
     ]
    },
    {
     "name": "stderr",
     "output_type": "stream",
     "text": [
      "100%|██████████| 80/80 [00:05<00:00, 13.73it/s]\n"
     ]
    },
    {
     "name": "stdout",
     "output_type": "stream",
     "text": [
      "Saving results in T:\\YuLab\\Video\\Naveed\\GPS_20_ThreeFPHoldSRTProbe\\20240818\\Init\\Clips...\n",
      "Saving csv poses!\n",
      "Starting to analyze %  T:/YuLab/Video/Naveed/GPS_20_ThreeFPHoldSRTProbe/20240818/Init/Clips/Naveed_20240818_Trial035_InitView.avi\n",
      "Loading  T:/YuLab/Video/Naveed/GPS_20_ThreeFPHoldSRTProbe/20240818/Init/Clips/Naveed_20240818_Trial035_InitView.avi\n",
      "Duration of video [s]:  4.0 , recorded with  20.0 fps!\n",
      "Overall # of frames:  80  found with (before cropping) frame dimensions:  1280 1024\n",
      "Starting to extract posture\n"
     ]
    },
    {
     "name": "stderr",
     "output_type": "stream",
     "text": [
      "100%|██████████| 80/80 [00:05<00:00, 14.37it/s]\n"
     ]
    },
    {
     "name": "stdout",
     "output_type": "stream",
     "text": [
      "Saving results in T:\\YuLab\\Video\\Naveed\\GPS_20_ThreeFPHoldSRTProbe\\20240818\\Init\\Clips...\n",
      "Saving csv poses!\n",
      "Starting to analyze %  T:/YuLab/Video/Naveed/GPS_20_ThreeFPHoldSRTProbe/20240818/Init/Clips/Naveed_20240818_Trial036_InitView.avi\n",
      "Loading  T:/YuLab/Video/Naveed/GPS_20_ThreeFPHoldSRTProbe/20240818/Init/Clips/Naveed_20240818_Trial036_InitView.avi\n",
      "Duration of video [s]:  4.0 , recorded with  20.0 fps!\n",
      "Overall # of frames:  80  found with (before cropping) frame dimensions:  1280 1024\n",
      "Starting to extract posture\n"
     ]
    },
    {
     "name": "stderr",
     "output_type": "stream",
     "text": [
      "100%|██████████| 80/80 [00:05<00:00, 14.32it/s]\n"
     ]
    },
    {
     "name": "stdout",
     "output_type": "stream",
     "text": [
      "Saving results in T:\\YuLab\\Video\\Naveed\\GPS_20_ThreeFPHoldSRTProbe\\20240818\\Init\\Clips...\n",
      "Saving csv poses!\n",
      "Starting to analyze %  T:/YuLab/Video/Naveed/GPS_20_ThreeFPHoldSRTProbe/20240818/Init/Clips/Naveed_20240818_Trial037_InitView.avi\n",
      "Loading  T:/YuLab/Video/Naveed/GPS_20_ThreeFPHoldSRTProbe/20240818/Init/Clips/Naveed_20240818_Trial037_InitView.avi\n",
      "Duration of video [s]:  4.0 , recorded with  20.0 fps!\n",
      "Overall # of frames:  80  found with (before cropping) frame dimensions:  1280 1024\n",
      "Starting to extract posture\n"
     ]
    },
    {
     "name": "stderr",
     "output_type": "stream",
     "text": [
      "100%|██████████| 80/80 [00:05<00:00, 14.51it/s]\n"
     ]
    },
    {
     "name": "stdout",
     "output_type": "stream",
     "text": [
      "Saving results in T:\\YuLab\\Video\\Naveed\\GPS_20_ThreeFPHoldSRTProbe\\20240818\\Init\\Clips...\n",
      "Saving csv poses!\n",
      "Starting to analyze %  T:/YuLab/Video/Naveed/GPS_20_ThreeFPHoldSRTProbe/20240818/Init/Clips/Naveed_20240818_Trial038_InitView.avi\n",
      "Loading  T:/YuLab/Video/Naveed/GPS_20_ThreeFPHoldSRTProbe/20240818/Init/Clips/Naveed_20240818_Trial038_InitView.avi\n",
      "Duration of video [s]:  4.0 , recorded with  20.0 fps!\n",
      "Overall # of frames:  80  found with (before cropping) frame dimensions:  1280 1024\n",
      "Starting to extract posture\n"
     ]
    },
    {
     "name": "stderr",
     "output_type": "stream",
     "text": [
      "100%|██████████| 80/80 [00:05<00:00, 14.47it/s]\n"
     ]
    },
    {
     "name": "stdout",
     "output_type": "stream",
     "text": [
      "Saving results in T:\\YuLab\\Video\\Naveed\\GPS_20_ThreeFPHoldSRTProbe\\20240818\\Init\\Clips...\n",
      "Saving csv poses!\n",
      "Starting to analyze %  T:/YuLab/Video/Naveed/GPS_20_ThreeFPHoldSRTProbe/20240818/Init/Clips/Naveed_20240818_Trial039_InitView.avi\n",
      "Loading  T:/YuLab/Video/Naveed/GPS_20_ThreeFPHoldSRTProbe/20240818/Init/Clips/Naveed_20240818_Trial039_InitView.avi\n",
      "Duration of video [s]:  4.0 , recorded with  20.0 fps!\n",
      "Overall # of frames:  80  found with (before cropping) frame dimensions:  1280 1024\n",
      "Starting to extract posture\n"
     ]
    },
    {
     "name": "stderr",
     "output_type": "stream",
     "text": [
      "100%|██████████| 80/80 [00:05<00:00, 14.38it/s]\n"
     ]
    },
    {
     "name": "stdout",
     "output_type": "stream",
     "text": [
      "Saving results in T:\\YuLab\\Video\\Naveed\\GPS_20_ThreeFPHoldSRTProbe\\20240818\\Init\\Clips...\n",
      "Saving csv poses!\n",
      "Starting to analyze %  T:/YuLab/Video/Naveed/GPS_20_ThreeFPHoldSRTProbe/20240818/Init/Clips/Naveed_20240818_Trial040_InitView.avi\n",
      "Loading  T:/YuLab/Video/Naveed/GPS_20_ThreeFPHoldSRTProbe/20240818/Init/Clips/Naveed_20240818_Trial040_InitView.avi\n",
      "Duration of video [s]:  4.0 , recorded with  20.0 fps!\n",
      "Overall # of frames:  80  found with (before cropping) frame dimensions:  1280 1024\n",
      "Starting to extract posture\n"
     ]
    },
    {
     "name": "stderr",
     "output_type": "stream",
     "text": [
      "100%|██████████| 80/80 [00:05<00:00, 14.31it/s]\n"
     ]
    },
    {
     "name": "stdout",
     "output_type": "stream",
     "text": [
      "Saving results in T:\\YuLab\\Video\\Naveed\\GPS_20_ThreeFPHoldSRTProbe\\20240818\\Init\\Clips...\n",
      "Saving csv poses!\n",
      "Starting to analyze %  T:/YuLab/Video/Naveed/GPS_20_ThreeFPHoldSRTProbe/20240818/Init/Clips/Naveed_20240818_Trial041_InitView.avi\n",
      "Loading  T:/YuLab/Video/Naveed/GPS_20_ThreeFPHoldSRTProbe/20240818/Init/Clips/Naveed_20240818_Trial041_InitView.avi\n",
      "Duration of video [s]:  4.0 , recorded with  20.0 fps!\n",
      "Overall # of frames:  80  found with (before cropping) frame dimensions:  1280 1024\n",
      "Starting to extract posture\n"
     ]
    },
    {
     "name": "stderr",
     "output_type": "stream",
     "text": [
      "100%|██████████| 80/80 [00:05<00:00, 14.62it/s]\n"
     ]
    },
    {
     "name": "stdout",
     "output_type": "stream",
     "text": [
      "Saving results in T:\\YuLab\\Video\\Naveed\\GPS_20_ThreeFPHoldSRTProbe\\20240818\\Init\\Clips...\n",
      "Saving csv poses!\n",
      "Starting to analyze %  T:/YuLab/Video/Naveed/GPS_20_ThreeFPHoldSRTProbe/20240818/Init/Clips/Naveed_20240818_Trial042_InitView.avi\n",
      "Loading  T:/YuLab/Video/Naveed/GPS_20_ThreeFPHoldSRTProbe/20240818/Init/Clips/Naveed_20240818_Trial042_InitView.avi\n",
      "Duration of video [s]:  4.0 , recorded with  20.0 fps!\n",
      "Overall # of frames:  80  found with (before cropping) frame dimensions:  1280 1024\n",
      "Starting to extract posture\n"
     ]
    },
    {
     "name": "stderr",
     "output_type": "stream",
     "text": [
      "100%|██████████| 80/80 [00:05<00:00, 14.50it/s]\n"
     ]
    },
    {
     "name": "stdout",
     "output_type": "stream",
     "text": [
      "Saving results in T:\\YuLab\\Video\\Naveed\\GPS_20_ThreeFPHoldSRTProbe\\20240818\\Init\\Clips...\n",
      "Saving csv poses!\n",
      "Starting to analyze %  T:/YuLab/Video/Naveed/GPS_20_ThreeFPHoldSRTProbe/20240818/Init/Clips/Naveed_20240818_Trial043_InitView.avi\n",
      "Loading  T:/YuLab/Video/Naveed/GPS_20_ThreeFPHoldSRTProbe/20240818/Init/Clips/Naveed_20240818_Trial043_InitView.avi\n",
      "Duration of video [s]:  4.0 , recorded with  20.0 fps!\n",
      "Overall # of frames:  80  found with (before cropping) frame dimensions:  1280 1024\n",
      "Starting to extract posture\n"
     ]
    },
    {
     "name": "stderr",
     "output_type": "stream",
     "text": [
      "100%|██████████| 80/80 [00:05<00:00, 14.54it/s]\n"
     ]
    },
    {
     "name": "stdout",
     "output_type": "stream",
     "text": [
      "Saving results in T:\\YuLab\\Video\\Naveed\\GPS_20_ThreeFPHoldSRTProbe\\20240818\\Init\\Clips...\n",
      "Saving csv poses!\n",
      "Starting to analyze %  T:/YuLab/Video/Naveed/GPS_20_ThreeFPHoldSRTProbe/20240818/Init/Clips/Naveed_20240818_Trial044_InitView.avi\n",
      "Loading  T:/YuLab/Video/Naveed/GPS_20_ThreeFPHoldSRTProbe/20240818/Init/Clips/Naveed_20240818_Trial044_InitView.avi\n",
      "Duration of video [s]:  4.0 , recorded with  20.0 fps!\n",
      "Overall # of frames:  80  found with (before cropping) frame dimensions:  1280 1024\n",
      "Starting to extract posture\n"
     ]
    },
    {
     "name": "stderr",
     "output_type": "stream",
     "text": [
      "100%|██████████| 80/80 [00:05<00:00, 14.47it/s]\n"
     ]
    },
    {
     "name": "stdout",
     "output_type": "stream",
     "text": [
      "Saving results in T:\\YuLab\\Video\\Naveed\\GPS_20_ThreeFPHoldSRTProbe\\20240818\\Init\\Clips...\n",
      "Saving csv poses!\n",
      "Starting to analyze %  T:/YuLab/Video/Naveed/GPS_20_ThreeFPHoldSRTProbe/20240818/Init/Clips/Naveed_20240818_Trial045_InitView.avi\n",
      "Loading  T:/YuLab/Video/Naveed/GPS_20_ThreeFPHoldSRTProbe/20240818/Init/Clips/Naveed_20240818_Trial045_InitView.avi\n",
      "Duration of video [s]:  4.0 , recorded with  20.0 fps!\n",
      "Overall # of frames:  80  found with (before cropping) frame dimensions:  1280 1024\n",
      "Starting to extract posture\n"
     ]
    },
    {
     "name": "stderr",
     "output_type": "stream",
     "text": [
      "100%|██████████| 80/80 [00:05<00:00, 14.19it/s]\n"
     ]
    },
    {
     "name": "stdout",
     "output_type": "stream",
     "text": [
      "Saving results in T:\\YuLab\\Video\\Naveed\\GPS_20_ThreeFPHoldSRTProbe\\20240818\\Init\\Clips...\n",
      "Saving csv poses!\n",
      "Starting to analyze %  T:/YuLab/Video/Naveed/GPS_20_ThreeFPHoldSRTProbe/20240818/Init/Clips/Naveed_20240818_Trial046_InitView.avi\n",
      "Loading  T:/YuLab/Video/Naveed/GPS_20_ThreeFPHoldSRTProbe/20240818/Init/Clips/Naveed_20240818_Trial046_InitView.avi\n",
      "Duration of video [s]:  4.0 , recorded with  20.0 fps!\n",
      "Overall # of frames:  80  found with (before cropping) frame dimensions:  1280 1024\n",
      "Starting to extract posture\n"
     ]
    },
    {
     "name": "stderr",
     "output_type": "stream",
     "text": [
      "100%|██████████| 80/80 [00:05<00:00, 14.46it/s]\n"
     ]
    },
    {
     "name": "stdout",
     "output_type": "stream",
     "text": [
      "Saving results in T:\\YuLab\\Video\\Naveed\\GPS_20_ThreeFPHoldSRTProbe\\20240818\\Init\\Clips...\n",
      "Saving csv poses!\n",
      "Starting to analyze %  T:/YuLab/Video/Naveed/GPS_20_ThreeFPHoldSRTProbe/20240818/Init/Clips/Naveed_20240818_Trial047_InitView.avi\n",
      "Loading  T:/YuLab/Video/Naveed/GPS_20_ThreeFPHoldSRTProbe/20240818/Init/Clips/Naveed_20240818_Trial047_InitView.avi\n",
      "Duration of video [s]:  4.0 , recorded with  20.0 fps!\n",
      "Overall # of frames:  80  found with (before cropping) frame dimensions:  1280 1024\n",
      "Starting to extract posture\n"
     ]
    },
    {
     "name": "stderr",
     "output_type": "stream",
     "text": [
      "100%|██████████| 80/80 [00:05<00:00, 14.25it/s]\n"
     ]
    },
    {
     "name": "stdout",
     "output_type": "stream",
     "text": [
      "Saving results in T:\\YuLab\\Video\\Naveed\\GPS_20_ThreeFPHoldSRTProbe\\20240818\\Init\\Clips...\n",
      "Saving csv poses!\n",
      "Starting to analyze %  T:/YuLab/Video/Naveed/GPS_20_ThreeFPHoldSRTProbe/20240818/Init/Clips/Naveed_20240818_Trial048_InitView.avi\n",
      "Loading  T:/YuLab/Video/Naveed/GPS_20_ThreeFPHoldSRTProbe/20240818/Init/Clips/Naveed_20240818_Trial048_InitView.avi\n",
      "Duration of video [s]:  4.0 , recorded with  20.0 fps!\n",
      "Overall # of frames:  80  found with (before cropping) frame dimensions:  1280 1024\n",
      "Starting to extract posture\n"
     ]
    },
    {
     "name": "stderr",
     "output_type": "stream",
     "text": [
      "100%|██████████| 80/80 [00:05<00:00, 14.28it/s]\n"
     ]
    },
    {
     "name": "stdout",
     "output_type": "stream",
     "text": [
      "Saving results in T:\\YuLab\\Video\\Naveed\\GPS_20_ThreeFPHoldSRTProbe\\20240818\\Init\\Clips...\n",
      "Saving csv poses!\n",
      "Starting to analyze %  T:/YuLab/Video/Naveed/GPS_20_ThreeFPHoldSRTProbe/20240818/Init/Clips/Naveed_20240818_Trial049_InitView.avi\n",
      "Loading  T:/YuLab/Video/Naveed/GPS_20_ThreeFPHoldSRTProbe/20240818/Init/Clips/Naveed_20240818_Trial049_InitView.avi\n",
      "Duration of video [s]:  4.0 , recorded with  20.0 fps!\n",
      "Overall # of frames:  80  found with (before cropping) frame dimensions:  1280 1024\n",
      "Starting to extract posture\n"
     ]
    },
    {
     "name": "stderr",
     "output_type": "stream",
     "text": [
      "100%|██████████| 80/80 [00:05<00:00, 14.06it/s]\n"
     ]
    },
    {
     "name": "stdout",
     "output_type": "stream",
     "text": [
      "Saving results in T:\\YuLab\\Video\\Naveed\\GPS_20_ThreeFPHoldSRTProbe\\20240818\\Init\\Clips...\n",
      "Saving csv poses!\n",
      "Starting to analyze %  T:/YuLab/Video/Naveed/GPS_20_ThreeFPHoldSRTProbe/20240818/Init/Clips/Naveed_20240818_Trial050_InitView.avi\n",
      "Loading  T:/YuLab/Video/Naveed/GPS_20_ThreeFPHoldSRTProbe/20240818/Init/Clips/Naveed_20240818_Trial050_InitView.avi\n",
      "Duration of video [s]:  4.0 , recorded with  20.0 fps!\n",
      "Overall # of frames:  80  found with (before cropping) frame dimensions:  1280 1024\n",
      "Starting to extract posture\n"
     ]
    },
    {
     "name": "stderr",
     "output_type": "stream",
     "text": [
      "100%|██████████| 80/80 [00:05<00:00, 14.26it/s]\n"
     ]
    },
    {
     "name": "stdout",
     "output_type": "stream",
     "text": [
      "Saving results in T:\\YuLab\\Video\\Naveed\\GPS_20_ThreeFPHoldSRTProbe\\20240818\\Init\\Clips...\n",
      "Saving csv poses!\n",
      "Starting to analyze %  T:/YuLab/Video/Naveed/GPS_20_ThreeFPHoldSRTProbe/20240818/Init/Clips/Naveed_20240818_Trial051_InitView.avi\n",
      "Loading  T:/YuLab/Video/Naveed/GPS_20_ThreeFPHoldSRTProbe/20240818/Init/Clips/Naveed_20240818_Trial051_InitView.avi\n",
      "Duration of video [s]:  4.0 , recorded with  20.0 fps!\n",
      "Overall # of frames:  80  found with (before cropping) frame dimensions:  1280 1024\n",
      "Starting to extract posture\n"
     ]
    },
    {
     "name": "stderr",
     "output_type": "stream",
     "text": [
      "100%|██████████| 80/80 [00:05<00:00, 14.31it/s]\n"
     ]
    },
    {
     "name": "stdout",
     "output_type": "stream",
     "text": [
      "Saving results in T:\\YuLab\\Video\\Naveed\\GPS_20_ThreeFPHoldSRTProbe\\20240818\\Init\\Clips...\n",
      "Saving csv poses!\n",
      "Starting to analyze %  T:/YuLab/Video/Naveed/GPS_20_ThreeFPHoldSRTProbe/20240818/Init/Clips/Naveed_20240818_Trial052_InitView.avi\n",
      "Loading  T:/YuLab/Video/Naveed/GPS_20_ThreeFPHoldSRTProbe/20240818/Init/Clips/Naveed_20240818_Trial052_InitView.avi\n",
      "Duration of video [s]:  4.0 , recorded with  20.0 fps!\n",
      "Overall # of frames:  80  found with (before cropping) frame dimensions:  1280 1024\n",
      "Starting to extract posture\n"
     ]
    },
    {
     "name": "stderr",
     "output_type": "stream",
     "text": [
      "100%|██████████| 80/80 [00:05<00:00, 14.28it/s]\n"
     ]
    },
    {
     "name": "stdout",
     "output_type": "stream",
     "text": [
      "Saving results in T:\\YuLab\\Video\\Naveed\\GPS_20_ThreeFPHoldSRTProbe\\20240818\\Init\\Clips...\n",
      "Saving csv poses!\n",
      "Starting to analyze %  T:/YuLab/Video/Naveed/GPS_20_ThreeFPHoldSRTProbe/20240818/Init/Clips/Naveed_20240818_Trial053_InitView.avi\n",
      "Loading  T:/YuLab/Video/Naveed/GPS_20_ThreeFPHoldSRTProbe/20240818/Init/Clips/Naveed_20240818_Trial053_InitView.avi\n",
      "Duration of video [s]:  4.0 , recorded with  20.0 fps!\n",
      "Overall # of frames:  80  found with (before cropping) frame dimensions:  1280 1024\n",
      "Starting to extract posture\n"
     ]
    },
    {
     "name": "stderr",
     "output_type": "stream",
     "text": [
      "100%|██████████| 80/80 [00:05<00:00, 13.88it/s]\n"
     ]
    },
    {
     "name": "stdout",
     "output_type": "stream",
     "text": [
      "Saving results in T:\\YuLab\\Video\\Naveed\\GPS_20_ThreeFPHoldSRTProbe\\20240818\\Init\\Clips...\n",
      "Saving csv poses!\n",
      "Starting to analyze %  T:/YuLab/Video/Naveed/GPS_20_ThreeFPHoldSRTProbe/20240818/Init/Clips/Naveed_20240818_Trial054_InitView.avi\n",
      "Loading  T:/YuLab/Video/Naveed/GPS_20_ThreeFPHoldSRTProbe/20240818/Init/Clips/Naveed_20240818_Trial054_InitView.avi\n",
      "Duration of video [s]:  4.0 , recorded with  20.0 fps!\n",
      "Overall # of frames:  80  found with (before cropping) frame dimensions:  1280 1024\n",
      "Starting to extract posture\n"
     ]
    },
    {
     "name": "stderr",
     "output_type": "stream",
     "text": [
      "100%|██████████| 80/80 [00:05<00:00, 13.77it/s]\n"
     ]
    },
    {
     "name": "stdout",
     "output_type": "stream",
     "text": [
      "Saving results in T:\\YuLab\\Video\\Naveed\\GPS_20_ThreeFPHoldSRTProbe\\20240818\\Init\\Clips...\n",
      "Saving csv poses!\n",
      "Starting to analyze %  T:/YuLab/Video/Naveed/GPS_20_ThreeFPHoldSRTProbe/20240818/Init/Clips/Naveed_20240818_Trial055_InitView.avi\n",
      "Loading  T:/YuLab/Video/Naveed/GPS_20_ThreeFPHoldSRTProbe/20240818/Init/Clips/Naveed_20240818_Trial055_InitView.avi\n",
      "Duration of video [s]:  4.0 , recorded with  20.0 fps!\n",
      "Overall # of frames:  80  found with (before cropping) frame dimensions:  1280 1024\n",
      "Starting to extract posture\n"
     ]
    },
    {
     "name": "stderr",
     "output_type": "stream",
     "text": [
      "100%|██████████| 80/80 [00:05<00:00, 14.34it/s]\n"
     ]
    },
    {
     "name": "stdout",
     "output_type": "stream",
     "text": [
      "Saving results in T:\\YuLab\\Video\\Naveed\\GPS_20_ThreeFPHoldSRTProbe\\20240818\\Init\\Clips...\n",
      "Saving csv poses!\n",
      "Starting to analyze %  T:/YuLab/Video/Naveed/GPS_20_ThreeFPHoldSRTProbe/20240818/Init/Clips/Naveed_20240818_Trial056_InitView.avi\n",
      "Loading  T:/YuLab/Video/Naveed/GPS_20_ThreeFPHoldSRTProbe/20240818/Init/Clips/Naveed_20240818_Trial056_InitView.avi\n",
      "Duration of video [s]:  4.0 , recorded with  20.0 fps!\n",
      "Overall # of frames:  80  found with (before cropping) frame dimensions:  1280 1024\n",
      "Starting to extract posture\n"
     ]
    },
    {
     "name": "stderr",
     "output_type": "stream",
     "text": [
      "100%|██████████| 80/80 [00:05<00:00, 14.14it/s]\n"
     ]
    },
    {
     "name": "stdout",
     "output_type": "stream",
     "text": [
      "Saving results in T:\\YuLab\\Video\\Naveed\\GPS_20_ThreeFPHoldSRTProbe\\20240818\\Init\\Clips...\n",
      "Saving csv poses!\n",
      "Starting to analyze %  T:/YuLab/Video/Naveed/GPS_20_ThreeFPHoldSRTProbe/20240818/Init/Clips/Naveed_20240818_Trial057_InitView.avi\n",
      "Loading  T:/YuLab/Video/Naveed/GPS_20_ThreeFPHoldSRTProbe/20240818/Init/Clips/Naveed_20240818_Trial057_InitView.avi\n",
      "Duration of video [s]:  4.0 , recorded with  20.0 fps!\n",
      "Overall # of frames:  80  found with (before cropping) frame dimensions:  1280 1024\n",
      "Starting to extract posture\n"
     ]
    },
    {
     "name": "stderr",
     "output_type": "stream",
     "text": [
      "100%|██████████| 80/80 [00:05<00:00, 13.98it/s]\n"
     ]
    },
    {
     "name": "stdout",
     "output_type": "stream",
     "text": [
      "Saving results in T:\\YuLab\\Video\\Naveed\\GPS_20_ThreeFPHoldSRTProbe\\20240818\\Init\\Clips...\n",
      "Saving csv poses!\n",
      "Starting to analyze %  T:/YuLab/Video/Naveed/GPS_20_ThreeFPHoldSRTProbe/20240818/Init/Clips/Naveed_20240818_Trial058_InitView.avi\n",
      "Loading  T:/YuLab/Video/Naveed/GPS_20_ThreeFPHoldSRTProbe/20240818/Init/Clips/Naveed_20240818_Trial058_InitView.avi\n",
      "Duration of video [s]:  4.0 , recorded with  20.0 fps!\n",
      "Overall # of frames:  80  found with (before cropping) frame dimensions:  1280 1024\n",
      "Starting to extract posture\n"
     ]
    },
    {
     "name": "stderr",
     "output_type": "stream",
     "text": [
      "100%|██████████| 80/80 [00:05<00:00, 14.21it/s]\n"
     ]
    },
    {
     "name": "stdout",
     "output_type": "stream",
     "text": [
      "Saving results in T:\\YuLab\\Video\\Naveed\\GPS_20_ThreeFPHoldSRTProbe\\20240818\\Init\\Clips...\n",
      "Saving csv poses!\n",
      "Starting to analyze %  T:/YuLab/Video/Naveed/GPS_20_ThreeFPHoldSRTProbe/20240818/Init/Clips/Naveed_20240818_Trial059_InitView.avi\n",
      "Loading  T:/YuLab/Video/Naveed/GPS_20_ThreeFPHoldSRTProbe/20240818/Init/Clips/Naveed_20240818_Trial059_InitView.avi\n",
      "Duration of video [s]:  4.0 , recorded with  20.0 fps!\n",
      "Overall # of frames:  80  found with (before cropping) frame dimensions:  1280 1024\n",
      "Starting to extract posture\n"
     ]
    },
    {
     "name": "stderr",
     "output_type": "stream",
     "text": [
      "100%|██████████| 80/80 [00:05<00:00, 14.56it/s]\n"
     ]
    },
    {
     "name": "stdout",
     "output_type": "stream",
     "text": [
      "Saving results in T:\\YuLab\\Video\\Naveed\\GPS_20_ThreeFPHoldSRTProbe\\20240818\\Init\\Clips...\n",
      "Saving csv poses!\n",
      "Starting to analyze %  T:/YuLab/Video/Naveed/GPS_20_ThreeFPHoldSRTProbe/20240818/Init/Clips/Naveed_20240818_Trial060_InitView.avi\n",
      "Loading  T:/YuLab/Video/Naveed/GPS_20_ThreeFPHoldSRTProbe/20240818/Init/Clips/Naveed_20240818_Trial060_InitView.avi\n",
      "Duration of video [s]:  4.0 , recorded with  20.0 fps!\n",
      "Overall # of frames:  80  found with (before cropping) frame dimensions:  1280 1024\n",
      "Starting to extract posture\n"
     ]
    },
    {
     "name": "stderr",
     "output_type": "stream",
     "text": [
      "100%|██████████| 80/80 [00:05<00:00, 14.24it/s]\n"
     ]
    },
    {
     "name": "stdout",
     "output_type": "stream",
     "text": [
      "Saving results in T:\\YuLab\\Video\\Naveed\\GPS_20_ThreeFPHoldSRTProbe\\20240818\\Init\\Clips...\n",
      "Saving csv poses!\n",
      "Starting to analyze %  T:/YuLab/Video/Naveed/GPS_20_ThreeFPHoldSRTProbe/20240818/Init/Clips/Naveed_20240818_Trial061_InitView.avi\n",
      "Loading  T:/YuLab/Video/Naveed/GPS_20_ThreeFPHoldSRTProbe/20240818/Init/Clips/Naveed_20240818_Trial061_InitView.avi\n",
      "Duration of video [s]:  4.0 , recorded with  20.0 fps!\n",
      "Overall # of frames:  80  found with (before cropping) frame dimensions:  1280 1024\n",
      "Starting to extract posture\n"
     ]
    },
    {
     "name": "stderr",
     "output_type": "stream",
     "text": [
      "100%|██████████| 80/80 [00:05<00:00, 14.22it/s]\n"
     ]
    },
    {
     "name": "stdout",
     "output_type": "stream",
     "text": [
      "Saving results in T:\\YuLab\\Video\\Naveed\\GPS_20_ThreeFPHoldSRTProbe\\20240818\\Init\\Clips...\n",
      "Saving csv poses!\n",
      "Starting to analyze %  T:/YuLab/Video/Naveed/GPS_20_ThreeFPHoldSRTProbe/20240818/Init/Clips/Naveed_20240818_Trial062_InitView.avi\n",
      "Loading  T:/YuLab/Video/Naveed/GPS_20_ThreeFPHoldSRTProbe/20240818/Init/Clips/Naveed_20240818_Trial062_InitView.avi\n",
      "Duration of video [s]:  4.0 , recorded with  20.0 fps!\n",
      "Overall # of frames:  80  found with (before cropping) frame dimensions:  1280 1024\n",
      "Starting to extract posture\n"
     ]
    },
    {
     "name": "stderr",
     "output_type": "stream",
     "text": [
      "100%|██████████| 80/80 [00:05<00:00, 14.63it/s]\n"
     ]
    },
    {
     "name": "stdout",
     "output_type": "stream",
     "text": [
      "Saving results in T:\\YuLab\\Video\\Naveed\\GPS_20_ThreeFPHoldSRTProbe\\20240818\\Init\\Clips...\n",
      "Saving csv poses!\n",
      "Starting to analyze %  T:/YuLab/Video/Naveed/GPS_20_ThreeFPHoldSRTProbe/20240818/Init/Clips/Naveed_20240818_Trial063_InitView.avi\n",
      "Loading  T:/YuLab/Video/Naveed/GPS_20_ThreeFPHoldSRTProbe/20240818/Init/Clips/Naveed_20240818_Trial063_InitView.avi\n",
      "Duration of video [s]:  4.0 , recorded with  20.0 fps!\n",
      "Overall # of frames:  80  found with (before cropping) frame dimensions:  1280 1024\n",
      "Starting to extract posture\n"
     ]
    },
    {
     "name": "stderr",
     "output_type": "stream",
     "text": [
      "100%|██████████| 80/80 [00:05<00:00, 14.26it/s]\n"
     ]
    },
    {
     "name": "stdout",
     "output_type": "stream",
     "text": [
      "Saving results in T:\\YuLab\\Video\\Naveed\\GPS_20_ThreeFPHoldSRTProbe\\20240818\\Init\\Clips...\n",
      "Saving csv poses!\n",
      "Starting to analyze %  T:/YuLab/Video/Naveed/GPS_20_ThreeFPHoldSRTProbe/20240818/Init/Clips/Naveed_20240818_Trial064_InitView.avi\n",
      "Loading  T:/YuLab/Video/Naveed/GPS_20_ThreeFPHoldSRTProbe/20240818/Init/Clips/Naveed_20240818_Trial064_InitView.avi\n",
      "Duration of video [s]:  4.0 , recorded with  20.0 fps!\n",
      "Overall # of frames:  80  found with (before cropping) frame dimensions:  1280 1024\n",
      "Starting to extract posture\n"
     ]
    },
    {
     "name": "stderr",
     "output_type": "stream",
     "text": [
      "100%|██████████| 80/80 [00:05<00:00, 14.37it/s]\n"
     ]
    },
    {
     "name": "stdout",
     "output_type": "stream",
     "text": [
      "Saving results in T:\\YuLab\\Video\\Naveed\\GPS_20_ThreeFPHoldSRTProbe\\20240818\\Init\\Clips...\n",
      "Saving csv poses!\n",
      "Starting to analyze %  T:/YuLab/Video/Naveed/GPS_20_ThreeFPHoldSRTProbe/20240818/Init/Clips/Naveed_20240818_Trial065_InitView.avi\n",
      "Loading  T:/YuLab/Video/Naveed/GPS_20_ThreeFPHoldSRTProbe/20240818/Init/Clips/Naveed_20240818_Trial065_InitView.avi\n",
      "Duration of video [s]:  4.0 , recorded with  20.0 fps!\n",
      "Overall # of frames:  80  found with (before cropping) frame dimensions:  1280 1024\n",
      "Starting to extract posture\n"
     ]
    },
    {
     "name": "stderr",
     "output_type": "stream",
     "text": [
      "100%|██████████| 80/80 [00:05<00:00, 14.45it/s]\n"
     ]
    },
    {
     "name": "stdout",
     "output_type": "stream",
     "text": [
      "Saving results in T:\\YuLab\\Video\\Naveed\\GPS_20_ThreeFPHoldSRTProbe\\20240818\\Init\\Clips...\n",
      "Saving csv poses!\n",
      "Starting to analyze %  T:/YuLab/Video/Naveed/GPS_20_ThreeFPHoldSRTProbe/20240818/Init/Clips/Naveed_20240818_Trial066_InitView.avi\n",
      "Loading  T:/YuLab/Video/Naveed/GPS_20_ThreeFPHoldSRTProbe/20240818/Init/Clips/Naveed_20240818_Trial066_InitView.avi\n",
      "Duration of video [s]:  4.0 , recorded with  20.0 fps!\n",
      "Overall # of frames:  80  found with (before cropping) frame dimensions:  1280 1024\n",
      "Starting to extract posture\n"
     ]
    },
    {
     "name": "stderr",
     "output_type": "stream",
     "text": [
      "100%|██████████| 80/80 [00:05<00:00, 14.56it/s]\n"
     ]
    },
    {
     "name": "stdout",
     "output_type": "stream",
     "text": [
      "Saving results in T:\\YuLab\\Video\\Naveed\\GPS_20_ThreeFPHoldSRTProbe\\20240818\\Init\\Clips...\n",
      "Saving csv poses!\n",
      "Starting to analyze %  T:/YuLab/Video/Naveed/GPS_20_ThreeFPHoldSRTProbe/20240818/Init/Clips/Naveed_20240818_Trial067_InitView.avi\n",
      "Loading  T:/YuLab/Video/Naveed/GPS_20_ThreeFPHoldSRTProbe/20240818/Init/Clips/Naveed_20240818_Trial067_InitView.avi\n",
      "Duration of video [s]:  4.0 , recorded with  20.0 fps!\n",
      "Overall # of frames:  80  found with (before cropping) frame dimensions:  1280 1024\n",
      "Starting to extract posture\n"
     ]
    },
    {
     "name": "stderr",
     "output_type": "stream",
     "text": [
      "100%|██████████| 80/80 [00:05<00:00, 14.50it/s]\n"
     ]
    },
    {
     "name": "stdout",
     "output_type": "stream",
     "text": [
      "Saving results in T:\\YuLab\\Video\\Naveed\\GPS_20_ThreeFPHoldSRTProbe\\20240818\\Init\\Clips...\n",
      "Saving csv poses!\n",
      "Starting to analyze %  T:/YuLab/Video/Naveed/GPS_20_ThreeFPHoldSRTProbe/20240818/Init/Clips/Naveed_20240818_Trial068_InitView.avi\n",
      "Loading  T:/YuLab/Video/Naveed/GPS_20_ThreeFPHoldSRTProbe/20240818/Init/Clips/Naveed_20240818_Trial068_InitView.avi\n",
      "Duration of video [s]:  4.0 , recorded with  20.0 fps!\n",
      "Overall # of frames:  80  found with (before cropping) frame dimensions:  1280 1024\n",
      "Starting to extract posture\n"
     ]
    },
    {
     "name": "stderr",
     "output_type": "stream",
     "text": [
      "100%|██████████| 80/80 [00:05<00:00, 14.44it/s]\n"
     ]
    },
    {
     "name": "stdout",
     "output_type": "stream",
     "text": [
      "Saving results in T:\\YuLab\\Video\\Naveed\\GPS_20_ThreeFPHoldSRTProbe\\20240818\\Init\\Clips...\n",
      "Saving csv poses!\n",
      "Starting to analyze %  T:/YuLab/Video/Naveed/GPS_20_ThreeFPHoldSRTProbe/20240818/Init/Clips/Naveed_20240818_Trial069_InitView.avi\n",
      "Loading  T:/YuLab/Video/Naveed/GPS_20_ThreeFPHoldSRTProbe/20240818/Init/Clips/Naveed_20240818_Trial069_InitView.avi\n",
      "Duration of video [s]:  4.0 , recorded with  20.0 fps!\n",
      "Overall # of frames:  80  found with (before cropping) frame dimensions:  1280 1024\n",
      "Starting to extract posture\n"
     ]
    },
    {
     "name": "stderr",
     "output_type": "stream",
     "text": [
      "100%|██████████| 80/80 [00:05<00:00, 14.35it/s]\n"
     ]
    },
    {
     "name": "stdout",
     "output_type": "stream",
     "text": [
      "Saving results in T:\\YuLab\\Video\\Naveed\\GPS_20_ThreeFPHoldSRTProbe\\20240818\\Init\\Clips...\n",
      "Saving csv poses!\n",
      "Starting to analyze %  T:/YuLab/Video/Naveed/GPS_20_ThreeFPHoldSRTProbe/20240818/Init/Clips/Naveed_20240818_Trial070_InitView.avi\n",
      "Loading  T:/YuLab/Video/Naveed/GPS_20_ThreeFPHoldSRTProbe/20240818/Init/Clips/Naveed_20240818_Trial070_InitView.avi\n",
      "Duration of video [s]:  4.0 , recorded with  20.0 fps!\n",
      "Overall # of frames:  80  found with (before cropping) frame dimensions:  1280 1024\n",
      "Starting to extract posture\n"
     ]
    },
    {
     "name": "stderr",
     "output_type": "stream",
     "text": [
      "100%|██████████| 80/80 [00:05<00:00, 14.48it/s]\n"
     ]
    },
    {
     "name": "stdout",
     "output_type": "stream",
     "text": [
      "Saving results in T:\\YuLab\\Video\\Naveed\\GPS_20_ThreeFPHoldSRTProbe\\20240818\\Init\\Clips...\n",
      "Saving csv poses!\n",
      "Starting to analyze %  T:/YuLab/Video/Naveed/GPS_20_ThreeFPHoldSRTProbe/20240818/Init/Clips/Naveed_20240818_Trial071_InitView.avi\n",
      "Loading  T:/YuLab/Video/Naveed/GPS_20_ThreeFPHoldSRTProbe/20240818/Init/Clips/Naveed_20240818_Trial071_InitView.avi\n",
      "Duration of video [s]:  4.0 , recorded with  20.0 fps!\n",
      "Overall # of frames:  80  found with (before cropping) frame dimensions:  1280 1024\n",
      "Starting to extract posture\n"
     ]
    },
    {
     "name": "stderr",
     "output_type": "stream",
     "text": [
      "100%|██████████| 80/80 [00:05<00:00, 14.41it/s]\n"
     ]
    },
    {
     "name": "stdout",
     "output_type": "stream",
     "text": [
      "Saving results in T:\\YuLab\\Video\\Naveed\\GPS_20_ThreeFPHoldSRTProbe\\20240818\\Init\\Clips...\n",
      "Saving csv poses!\n",
      "Starting to analyze %  T:/YuLab/Video/Naveed/GPS_20_ThreeFPHoldSRTProbe/20240818/Init/Clips/Naveed_20240818_Trial072_InitView.avi\n",
      "Loading  T:/YuLab/Video/Naveed/GPS_20_ThreeFPHoldSRTProbe/20240818/Init/Clips/Naveed_20240818_Trial072_InitView.avi\n",
      "Duration of video [s]:  4.0 , recorded with  20.0 fps!\n",
      "Overall # of frames:  80  found with (before cropping) frame dimensions:  1280 1024\n",
      "Starting to extract posture\n"
     ]
    },
    {
     "name": "stderr",
     "output_type": "stream",
     "text": [
      "100%|██████████| 80/80 [00:05<00:00, 14.57it/s]\n"
     ]
    },
    {
     "name": "stdout",
     "output_type": "stream",
     "text": [
      "Saving results in T:\\YuLab\\Video\\Naveed\\GPS_20_ThreeFPHoldSRTProbe\\20240818\\Init\\Clips...\n",
      "Saving csv poses!\n",
      "Starting to analyze %  T:/YuLab/Video/Naveed/GPS_20_ThreeFPHoldSRTProbe/20240818/Init/Clips/Naveed_20240818_Trial073_InitView.avi\n",
      "Loading  T:/YuLab/Video/Naveed/GPS_20_ThreeFPHoldSRTProbe/20240818/Init/Clips/Naveed_20240818_Trial073_InitView.avi\n",
      "Duration of video [s]:  4.0 , recorded with  20.0 fps!\n",
      "Overall # of frames:  80  found with (before cropping) frame dimensions:  1280 1024\n",
      "Starting to extract posture\n"
     ]
    },
    {
     "name": "stderr",
     "output_type": "stream",
     "text": [
      "100%|██████████| 80/80 [00:05<00:00, 14.18it/s]\n"
     ]
    },
    {
     "name": "stdout",
     "output_type": "stream",
     "text": [
      "Saving results in T:\\YuLab\\Video\\Naveed\\GPS_20_ThreeFPHoldSRTProbe\\20240818\\Init\\Clips...\n",
      "Saving csv poses!\n",
      "Starting to analyze %  T:/YuLab/Video/Naveed/GPS_20_ThreeFPHoldSRTProbe/20240818/Init/Clips/Naveed_20240818_Trial074_InitView.avi\n",
      "Loading  T:/YuLab/Video/Naveed/GPS_20_ThreeFPHoldSRTProbe/20240818/Init/Clips/Naveed_20240818_Trial074_InitView.avi\n",
      "Duration of video [s]:  4.0 , recorded with  20.0 fps!\n",
      "Overall # of frames:  80  found with (before cropping) frame dimensions:  1280 1024\n",
      "Starting to extract posture\n"
     ]
    },
    {
     "name": "stderr",
     "output_type": "stream",
     "text": [
      "100%|██████████| 80/80 [00:05<00:00, 14.51it/s]\n"
     ]
    },
    {
     "name": "stdout",
     "output_type": "stream",
     "text": [
      "Saving results in T:\\YuLab\\Video\\Naveed\\GPS_20_ThreeFPHoldSRTProbe\\20240818\\Init\\Clips...\n",
      "Saving csv poses!\n",
      "Starting to analyze %  T:/YuLab/Video/Naveed/GPS_20_ThreeFPHoldSRTProbe/20240818/Init/Clips/Naveed_20240818_Trial075_InitView.avi\n",
      "Loading  T:/YuLab/Video/Naveed/GPS_20_ThreeFPHoldSRTProbe/20240818/Init/Clips/Naveed_20240818_Trial075_InitView.avi\n",
      "Duration of video [s]:  4.0 , recorded with  20.0 fps!\n",
      "Overall # of frames:  80  found with (before cropping) frame dimensions:  1280 1024\n",
      "Starting to extract posture\n"
     ]
    },
    {
     "name": "stderr",
     "output_type": "stream",
     "text": [
      "100%|██████████| 80/80 [00:05<00:00, 14.40it/s]\n"
     ]
    },
    {
     "name": "stdout",
     "output_type": "stream",
     "text": [
      "Saving results in T:\\YuLab\\Video\\Naveed\\GPS_20_ThreeFPHoldSRTProbe\\20240818\\Init\\Clips...\n",
      "Saving csv poses!\n",
      "Starting to analyze %  T:/YuLab/Video/Naveed/GPS_20_ThreeFPHoldSRTProbe/20240818/Init/Clips/Naveed_20240818_Trial076_InitView.avi\n",
      "Loading  T:/YuLab/Video/Naveed/GPS_20_ThreeFPHoldSRTProbe/20240818/Init/Clips/Naveed_20240818_Trial076_InitView.avi\n",
      "Duration of video [s]:  4.0 , recorded with  20.0 fps!\n",
      "Overall # of frames:  80  found with (before cropping) frame dimensions:  1280 1024\n",
      "Starting to extract posture\n"
     ]
    },
    {
     "name": "stderr",
     "output_type": "stream",
     "text": [
      "100%|██████████| 80/80 [00:05<00:00, 14.46it/s]\n"
     ]
    },
    {
     "name": "stdout",
     "output_type": "stream",
     "text": [
      "Saving results in T:\\YuLab\\Video\\Naveed\\GPS_20_ThreeFPHoldSRTProbe\\20240818\\Init\\Clips...\n",
      "Saving csv poses!\n",
      "Starting to analyze %  T:/YuLab/Video/Naveed/GPS_20_ThreeFPHoldSRTProbe/20240818/Init/Clips/Naveed_20240818_Trial077_InitView.avi\n",
      "Loading  T:/YuLab/Video/Naveed/GPS_20_ThreeFPHoldSRTProbe/20240818/Init/Clips/Naveed_20240818_Trial077_InitView.avi\n",
      "Duration of video [s]:  4.0 , recorded with  20.0 fps!\n",
      "Overall # of frames:  80  found with (before cropping) frame dimensions:  1280 1024\n",
      "Starting to extract posture\n"
     ]
    },
    {
     "name": "stderr",
     "output_type": "stream",
     "text": [
      "100%|██████████| 80/80 [00:05<00:00, 14.45it/s]\n"
     ]
    },
    {
     "name": "stdout",
     "output_type": "stream",
     "text": [
      "Saving results in T:\\YuLab\\Video\\Naveed\\GPS_20_ThreeFPHoldSRTProbe\\20240818\\Init\\Clips...\n",
      "Saving csv poses!\n",
      "Starting to analyze %  T:/YuLab/Video/Naveed/GPS_20_ThreeFPHoldSRTProbe/20240818/Init/Clips/Naveed_20240818_Trial078_InitView.avi\n",
      "Loading  T:/YuLab/Video/Naveed/GPS_20_ThreeFPHoldSRTProbe/20240818/Init/Clips/Naveed_20240818_Trial078_InitView.avi\n",
      "Duration of video [s]:  4.0 , recorded with  20.0 fps!\n",
      "Overall # of frames:  80  found with (before cropping) frame dimensions:  1280 1024\n",
      "Starting to extract posture\n"
     ]
    },
    {
     "name": "stderr",
     "output_type": "stream",
     "text": [
      "100%|██████████| 80/80 [00:05<00:00, 14.25it/s]\n"
     ]
    },
    {
     "name": "stdout",
     "output_type": "stream",
     "text": [
      "Saving results in T:\\YuLab\\Video\\Naveed\\GPS_20_ThreeFPHoldSRTProbe\\20240818\\Init\\Clips...\n",
      "Saving csv poses!\n",
      "Starting to analyze %  T:/YuLab/Video/Naveed/GPS_20_ThreeFPHoldSRTProbe/20240818/Init/Clips/Naveed_20240818_Trial079_InitView.avi\n",
      "Loading  T:/YuLab/Video/Naveed/GPS_20_ThreeFPHoldSRTProbe/20240818/Init/Clips/Naveed_20240818_Trial079_InitView.avi\n",
      "Duration of video [s]:  4.0 , recorded with  20.0 fps!\n",
      "Overall # of frames:  80  found with (before cropping) frame dimensions:  1280 1024\n",
      "Starting to extract posture\n"
     ]
    },
    {
     "name": "stderr",
     "output_type": "stream",
     "text": [
      "100%|██████████| 80/80 [00:05<00:00, 14.17it/s]\n"
     ]
    },
    {
     "name": "stdout",
     "output_type": "stream",
     "text": [
      "Saving results in T:\\YuLab\\Video\\Naveed\\GPS_20_ThreeFPHoldSRTProbe\\20240818\\Init\\Clips...\n",
      "Saving csv poses!\n",
      "Starting to analyze %  T:/YuLab/Video/Naveed/GPS_20_ThreeFPHoldSRTProbe/20240818/Init/Clips/Naveed_20240818_Trial080_InitView.avi\n",
      "Loading  T:/YuLab/Video/Naveed/GPS_20_ThreeFPHoldSRTProbe/20240818/Init/Clips/Naveed_20240818_Trial080_InitView.avi\n",
      "Duration of video [s]:  4.0 , recorded with  20.0 fps!\n",
      "Overall # of frames:  80  found with (before cropping) frame dimensions:  1280 1024\n",
      "Starting to extract posture\n"
     ]
    },
    {
     "name": "stderr",
     "output_type": "stream",
     "text": [
      "100%|██████████| 80/80 [00:05<00:00, 14.20it/s]\n"
     ]
    },
    {
     "name": "stdout",
     "output_type": "stream",
     "text": [
      "Saving results in T:\\YuLab\\Video\\Naveed\\GPS_20_ThreeFPHoldSRTProbe\\20240818\\Init\\Clips...\n",
      "Saving csv poses!\n",
      "Starting to analyze %  T:/YuLab/Video/Naveed/GPS_20_ThreeFPHoldSRTProbe/20240818/Init/Clips/Naveed_20240818_Trial081_InitView.avi\n",
      "Loading  T:/YuLab/Video/Naveed/GPS_20_ThreeFPHoldSRTProbe/20240818/Init/Clips/Naveed_20240818_Trial081_InitView.avi\n",
      "Duration of video [s]:  4.0 , recorded with  20.0 fps!\n",
      "Overall # of frames:  80  found with (before cropping) frame dimensions:  1280 1024\n",
      "Starting to extract posture\n"
     ]
    },
    {
     "name": "stderr",
     "output_type": "stream",
     "text": [
      "100%|██████████| 80/80 [00:05<00:00, 14.47it/s]\n"
     ]
    },
    {
     "name": "stdout",
     "output_type": "stream",
     "text": [
      "Saving results in T:\\YuLab\\Video\\Naveed\\GPS_20_ThreeFPHoldSRTProbe\\20240818\\Init\\Clips...\n",
      "Saving csv poses!\n",
      "Starting to analyze %  T:/YuLab/Video/Naveed/GPS_20_ThreeFPHoldSRTProbe/20240818/Init/Clips/Naveed_20240818_Trial082_InitView.avi\n",
      "Loading  T:/YuLab/Video/Naveed/GPS_20_ThreeFPHoldSRTProbe/20240818/Init/Clips/Naveed_20240818_Trial082_InitView.avi\n",
      "Duration of video [s]:  4.0 , recorded with  20.0 fps!\n",
      "Overall # of frames:  80  found with (before cropping) frame dimensions:  1280 1024\n",
      "Starting to extract posture\n"
     ]
    },
    {
     "name": "stderr",
     "output_type": "stream",
     "text": [
      "100%|██████████| 80/80 [00:05<00:00, 14.37it/s]\n"
     ]
    },
    {
     "name": "stdout",
     "output_type": "stream",
     "text": [
      "Saving results in T:\\YuLab\\Video\\Naveed\\GPS_20_ThreeFPHoldSRTProbe\\20240818\\Init\\Clips...\n",
      "Saving csv poses!\n",
      "Starting to analyze %  T:/YuLab/Video/Naveed/GPS_20_ThreeFPHoldSRTProbe/20240818/Init/Clips/Naveed_20240818_Trial083_InitView.avi\n",
      "Loading  T:/YuLab/Video/Naveed/GPS_20_ThreeFPHoldSRTProbe/20240818/Init/Clips/Naveed_20240818_Trial083_InitView.avi\n",
      "Duration of video [s]:  4.0 , recorded with  20.0 fps!\n",
      "Overall # of frames:  80  found with (before cropping) frame dimensions:  1280 1024\n",
      "Starting to extract posture\n"
     ]
    },
    {
     "name": "stderr",
     "output_type": "stream",
     "text": [
      "100%|██████████| 80/80 [00:05<00:00, 14.18it/s]\n"
     ]
    },
    {
     "name": "stdout",
     "output_type": "stream",
     "text": [
      "Saving results in T:\\YuLab\\Video\\Naveed\\GPS_20_ThreeFPHoldSRTProbe\\20240818\\Init\\Clips...\n",
      "Saving csv poses!\n",
      "Starting to analyze %  T:/YuLab/Video/Naveed/GPS_20_ThreeFPHoldSRTProbe/20240818/Init/Clips/Naveed_20240818_Trial084_InitView.avi\n",
      "Loading  T:/YuLab/Video/Naveed/GPS_20_ThreeFPHoldSRTProbe/20240818/Init/Clips/Naveed_20240818_Trial084_InitView.avi\n",
      "Duration of video [s]:  4.0 , recorded with  20.0 fps!\n",
      "Overall # of frames:  80  found with (before cropping) frame dimensions:  1280 1024\n",
      "Starting to extract posture\n"
     ]
    },
    {
     "name": "stderr",
     "output_type": "stream",
     "text": [
      "100%|██████████| 80/80 [00:05<00:00, 14.23it/s]\n"
     ]
    },
    {
     "name": "stdout",
     "output_type": "stream",
     "text": [
      "Saving results in T:\\YuLab\\Video\\Naveed\\GPS_20_ThreeFPHoldSRTProbe\\20240818\\Init\\Clips...\n",
      "Saving csv poses!\n",
      "Starting to analyze %  T:/YuLab/Video/Naveed/GPS_20_ThreeFPHoldSRTProbe/20240818/Init/Clips/Naveed_20240818_Trial085_InitView.avi\n",
      "Loading  T:/YuLab/Video/Naveed/GPS_20_ThreeFPHoldSRTProbe/20240818/Init/Clips/Naveed_20240818_Trial085_InitView.avi\n",
      "Duration of video [s]:  4.0 , recorded with  20.0 fps!\n",
      "Overall # of frames:  80  found with (before cropping) frame dimensions:  1280 1024\n",
      "Starting to extract posture\n"
     ]
    },
    {
     "name": "stderr",
     "output_type": "stream",
     "text": [
      "100%|██████████| 80/80 [00:05<00:00, 14.41it/s]\n"
     ]
    },
    {
     "name": "stdout",
     "output_type": "stream",
     "text": [
      "Saving results in T:\\YuLab\\Video\\Naveed\\GPS_20_ThreeFPHoldSRTProbe\\20240818\\Init\\Clips...\n",
      "Saving csv poses!\n",
      "Starting to analyze %  T:/YuLab/Video/Naveed/GPS_20_ThreeFPHoldSRTProbe/20240818/Init/Clips/Naveed_20240818_Trial086_InitView.avi\n",
      "Loading  T:/YuLab/Video/Naveed/GPS_20_ThreeFPHoldSRTProbe/20240818/Init/Clips/Naveed_20240818_Trial086_InitView.avi\n",
      "Duration of video [s]:  4.0 , recorded with  20.0 fps!\n",
      "Overall # of frames:  80  found with (before cropping) frame dimensions:  1280 1024\n",
      "Starting to extract posture\n"
     ]
    },
    {
     "name": "stderr",
     "output_type": "stream",
     "text": [
      "100%|██████████| 80/80 [00:05<00:00, 14.25it/s]\n"
     ]
    },
    {
     "name": "stdout",
     "output_type": "stream",
     "text": [
      "Saving results in T:\\YuLab\\Video\\Naveed\\GPS_20_ThreeFPHoldSRTProbe\\20240818\\Init\\Clips...\n",
      "Saving csv poses!\n",
      "Starting to analyze %  T:/YuLab/Video/Naveed/GPS_20_ThreeFPHoldSRTProbe/20240818/Init/Clips/Naveed_20240818_Trial087_InitView.avi\n",
      "Loading  T:/YuLab/Video/Naveed/GPS_20_ThreeFPHoldSRTProbe/20240818/Init/Clips/Naveed_20240818_Trial087_InitView.avi\n",
      "Duration of video [s]:  4.0 , recorded with  20.0 fps!\n",
      "Overall # of frames:  80  found with (before cropping) frame dimensions:  1280 1024\n",
      "Starting to extract posture\n"
     ]
    },
    {
     "name": "stderr",
     "output_type": "stream",
     "text": [
      "100%|██████████| 80/80 [00:05<00:00, 14.25it/s]\n"
     ]
    },
    {
     "name": "stdout",
     "output_type": "stream",
     "text": [
      "Saving results in T:\\YuLab\\Video\\Naveed\\GPS_20_ThreeFPHoldSRTProbe\\20240818\\Init\\Clips...\n",
      "Saving csv poses!\n",
      "Starting to analyze %  T:/YuLab/Video/Naveed/GPS_20_ThreeFPHoldSRTProbe/20240818/Init/Clips/Naveed_20240818_Trial088_InitView.avi\n",
      "Loading  T:/YuLab/Video/Naveed/GPS_20_ThreeFPHoldSRTProbe/20240818/Init/Clips/Naveed_20240818_Trial088_InitView.avi\n",
      "Duration of video [s]:  4.0 , recorded with  20.0 fps!\n",
      "Overall # of frames:  80  found with (before cropping) frame dimensions:  1280 1024\n",
      "Starting to extract posture\n"
     ]
    },
    {
     "name": "stderr",
     "output_type": "stream",
     "text": [
      "100%|██████████| 80/80 [00:05<00:00, 14.28it/s]\n"
     ]
    },
    {
     "name": "stdout",
     "output_type": "stream",
     "text": [
      "Saving results in T:\\YuLab\\Video\\Naveed\\GPS_20_ThreeFPHoldSRTProbe\\20240818\\Init\\Clips...\n",
      "Saving csv poses!\n",
      "Starting to analyze %  T:/YuLab/Video/Naveed/GPS_20_ThreeFPHoldSRTProbe/20240818/Init/Clips/Naveed_20240818_Trial089_InitView.avi\n",
      "Loading  T:/YuLab/Video/Naveed/GPS_20_ThreeFPHoldSRTProbe/20240818/Init/Clips/Naveed_20240818_Trial089_InitView.avi\n",
      "Duration of video [s]:  4.0 , recorded with  20.0 fps!\n",
      "Overall # of frames:  80  found with (before cropping) frame dimensions:  1280 1024\n",
      "Starting to extract posture\n"
     ]
    },
    {
     "name": "stderr",
     "output_type": "stream",
     "text": [
      "100%|██████████| 80/80 [00:05<00:00, 13.88it/s]\n"
     ]
    },
    {
     "name": "stdout",
     "output_type": "stream",
     "text": [
      "Saving results in T:\\YuLab\\Video\\Naveed\\GPS_20_ThreeFPHoldSRTProbe\\20240818\\Init\\Clips...\n",
      "Saving csv poses!\n",
      "Starting to analyze %  T:/YuLab/Video/Naveed/GPS_20_ThreeFPHoldSRTProbe/20240818/Init/Clips/Naveed_20240818_Trial090_InitView.avi\n",
      "Loading  T:/YuLab/Video/Naveed/GPS_20_ThreeFPHoldSRTProbe/20240818/Init/Clips/Naveed_20240818_Trial090_InitView.avi\n",
      "Duration of video [s]:  4.0 , recorded with  20.0 fps!\n",
      "Overall # of frames:  80  found with (before cropping) frame dimensions:  1280 1024\n",
      "Starting to extract posture\n"
     ]
    },
    {
     "name": "stderr",
     "output_type": "stream",
     "text": [
      "100%|██████████| 80/80 [00:05<00:00, 14.32it/s]\n"
     ]
    },
    {
     "name": "stdout",
     "output_type": "stream",
     "text": [
      "Saving results in T:\\YuLab\\Video\\Naveed\\GPS_20_ThreeFPHoldSRTProbe\\20240818\\Init\\Clips...\n",
      "Saving csv poses!\n",
      "Starting to analyze %  T:/YuLab/Video/Naveed/GPS_20_ThreeFPHoldSRTProbe/20240819/Init/Clips/Naveed_20240819_Trial022_InitView.avi\n",
      "Loading  T:/YuLab/Video/Naveed/GPS_20_ThreeFPHoldSRTProbe/20240819/Init/Clips/Naveed_20240819_Trial022_InitView.avi\n",
      "Duration of video [s]:  4.0 , recorded with  20.0 fps!\n",
      "Overall # of frames:  80  found with (before cropping) frame dimensions:  1280 1024\n",
      "Starting to extract posture\n"
     ]
    },
    {
     "name": "stderr",
     "output_type": "stream",
     "text": [
      "100%|██████████| 80/80 [00:05<00:00, 14.16it/s]\n"
     ]
    },
    {
     "name": "stdout",
     "output_type": "stream",
     "text": [
      "Saving results in T:\\YuLab\\Video\\Naveed\\GPS_20_ThreeFPHoldSRTProbe\\20240819\\Init\\Clips...\n",
      "Saving csv poses!\n",
      "Starting to analyze %  T:/YuLab/Video/Naveed/GPS_20_ThreeFPHoldSRTProbe/20240819/Init/Clips/Naveed_20240819_Trial023_InitView.avi\n",
      "Loading  T:/YuLab/Video/Naveed/GPS_20_ThreeFPHoldSRTProbe/20240819/Init/Clips/Naveed_20240819_Trial023_InitView.avi\n",
      "Duration of video [s]:  4.0 , recorded with  20.0 fps!\n",
      "Overall # of frames:  80  found with (before cropping) frame dimensions:  1280 1024\n",
      "Starting to extract posture\n"
     ]
    },
    {
     "name": "stderr",
     "output_type": "stream",
     "text": [
      "100%|██████████| 80/80 [00:05<00:00, 14.53it/s]\n"
     ]
    },
    {
     "name": "stdout",
     "output_type": "stream",
     "text": [
      "Saving results in T:\\YuLab\\Video\\Naveed\\GPS_20_ThreeFPHoldSRTProbe\\20240819\\Init\\Clips...\n",
      "Saving csv poses!\n",
      "Starting to analyze %  T:/YuLab/Video/Naveed/GPS_20_ThreeFPHoldSRTProbe/20240819/Init/Clips/Naveed_20240819_Trial024_InitView.avi\n",
      "Loading  T:/YuLab/Video/Naveed/GPS_20_ThreeFPHoldSRTProbe/20240819/Init/Clips/Naveed_20240819_Trial024_InitView.avi\n",
      "Duration of video [s]:  4.0 , recorded with  20.0 fps!\n",
      "Overall # of frames:  80  found with (before cropping) frame dimensions:  1280 1024\n",
      "Starting to extract posture\n"
     ]
    },
    {
     "name": "stderr",
     "output_type": "stream",
     "text": [
      "100%|██████████| 80/80 [00:05<00:00, 14.25it/s]\n"
     ]
    },
    {
     "name": "stdout",
     "output_type": "stream",
     "text": [
      "Saving results in T:\\YuLab\\Video\\Naveed\\GPS_20_ThreeFPHoldSRTProbe\\20240819\\Init\\Clips...\n",
      "Saving csv poses!\n",
      "Starting to analyze %  T:/YuLab/Video/Naveed/GPS_20_ThreeFPHoldSRTProbe/20240819/Init/Clips/Naveed_20240819_Trial025_InitView.avi\n",
      "Loading  T:/YuLab/Video/Naveed/GPS_20_ThreeFPHoldSRTProbe/20240819/Init/Clips/Naveed_20240819_Trial025_InitView.avi\n",
      "Duration of video [s]:  4.0 , recorded with  20.0 fps!\n",
      "Overall # of frames:  80  found with (before cropping) frame dimensions:  1280 1024\n",
      "Starting to extract posture\n"
     ]
    },
    {
     "name": "stderr",
     "output_type": "stream",
     "text": [
      "100%|██████████| 80/80 [00:05<00:00, 14.61it/s]\n"
     ]
    },
    {
     "name": "stdout",
     "output_type": "stream",
     "text": [
      "Saving results in T:\\YuLab\\Video\\Naveed\\GPS_20_ThreeFPHoldSRTProbe\\20240819\\Init\\Clips...\n",
      "Saving csv poses!\n",
      "Starting to analyze %  T:/YuLab/Video/Naveed/GPS_20_ThreeFPHoldSRTProbe/20240819/Init/Clips/Naveed_20240819_Trial026_InitView.avi\n",
      "Loading  T:/YuLab/Video/Naveed/GPS_20_ThreeFPHoldSRTProbe/20240819/Init/Clips/Naveed_20240819_Trial026_InitView.avi\n",
      "Duration of video [s]:  4.0 , recorded with  20.0 fps!\n",
      "Overall # of frames:  80  found with (before cropping) frame dimensions:  1280 1024\n",
      "Starting to extract posture\n"
     ]
    },
    {
     "name": "stderr",
     "output_type": "stream",
     "text": [
      "100%|██████████| 80/80 [00:05<00:00, 14.23it/s]\n"
     ]
    },
    {
     "name": "stdout",
     "output_type": "stream",
     "text": [
      "Saving results in T:\\YuLab\\Video\\Naveed\\GPS_20_ThreeFPHoldSRTProbe\\20240819\\Init\\Clips...\n",
      "Saving csv poses!\n",
      "Starting to analyze %  T:/YuLab/Video/Naveed/GPS_20_ThreeFPHoldSRTProbe/20240819/Init/Clips/Naveed_20240819_Trial027_InitView.avi\n",
      "Loading  T:/YuLab/Video/Naveed/GPS_20_ThreeFPHoldSRTProbe/20240819/Init/Clips/Naveed_20240819_Trial027_InitView.avi\n",
      "Duration of video [s]:  4.0 , recorded with  20.0 fps!\n",
      "Overall # of frames:  80  found with (before cropping) frame dimensions:  1280 1024\n",
      "Starting to extract posture\n"
     ]
    },
    {
     "name": "stderr",
     "output_type": "stream",
     "text": [
      "100%|██████████| 80/80 [00:05<00:00, 14.64it/s]\n"
     ]
    },
    {
     "name": "stdout",
     "output_type": "stream",
     "text": [
      "Saving results in T:\\YuLab\\Video\\Naveed\\GPS_20_ThreeFPHoldSRTProbe\\20240819\\Init\\Clips...\n",
      "Saving csv poses!\n",
      "Starting to analyze %  T:/YuLab/Video/Naveed/GPS_20_ThreeFPHoldSRTProbe/20240819/Init/Clips/Naveed_20240819_Trial028_InitView.avi\n",
      "Loading  T:/YuLab/Video/Naveed/GPS_20_ThreeFPHoldSRTProbe/20240819/Init/Clips/Naveed_20240819_Trial028_InitView.avi\n",
      "Duration of video [s]:  4.0 , recorded with  20.0 fps!\n",
      "Overall # of frames:  80  found with (before cropping) frame dimensions:  1280 1024\n",
      "Starting to extract posture\n"
     ]
    },
    {
     "name": "stderr",
     "output_type": "stream",
     "text": [
      "100%|██████████| 80/80 [00:05<00:00, 14.00it/s]\n"
     ]
    },
    {
     "name": "stdout",
     "output_type": "stream",
     "text": [
      "Saving results in T:\\YuLab\\Video\\Naveed\\GPS_20_ThreeFPHoldSRTProbe\\20240819\\Init\\Clips...\n",
      "Saving csv poses!\n",
      "Starting to analyze %  T:/YuLab/Video/Naveed/GPS_20_ThreeFPHoldSRTProbe/20240819/Init/Clips/Naveed_20240819_Trial029_InitView.avi\n",
      "Loading  T:/YuLab/Video/Naveed/GPS_20_ThreeFPHoldSRTProbe/20240819/Init/Clips/Naveed_20240819_Trial029_InitView.avi\n",
      "Duration of video [s]:  4.0 , recorded with  20.0 fps!\n",
      "Overall # of frames:  80  found with (before cropping) frame dimensions:  1280 1024\n",
      "Starting to extract posture\n"
     ]
    },
    {
     "name": "stderr",
     "output_type": "stream",
     "text": [
      "100%|██████████| 80/80 [00:05<00:00, 14.28it/s]\n"
     ]
    },
    {
     "name": "stdout",
     "output_type": "stream",
     "text": [
      "Saving results in T:\\YuLab\\Video\\Naveed\\GPS_20_ThreeFPHoldSRTProbe\\20240819\\Init\\Clips...\n",
      "Saving csv poses!\n",
      "Starting to analyze %  T:/YuLab/Video/Naveed/GPS_20_ThreeFPHoldSRTProbe/20240819/Init/Clips/Naveed_20240819_Trial030_InitView.avi\n",
      "Loading  T:/YuLab/Video/Naveed/GPS_20_ThreeFPHoldSRTProbe/20240819/Init/Clips/Naveed_20240819_Trial030_InitView.avi\n",
      "Duration of video [s]:  4.0 , recorded with  20.0 fps!\n",
      "Overall # of frames:  80  found with (before cropping) frame dimensions:  1280 1024\n",
      "Starting to extract posture\n"
     ]
    },
    {
     "name": "stderr",
     "output_type": "stream",
     "text": [
      "100%|██████████| 80/80 [00:05<00:00, 14.43it/s]\n"
     ]
    },
    {
     "name": "stdout",
     "output_type": "stream",
     "text": [
      "Saving results in T:\\YuLab\\Video\\Naveed\\GPS_20_ThreeFPHoldSRTProbe\\20240819\\Init\\Clips...\n",
      "Saving csv poses!\n",
      "Starting to analyze %  T:/YuLab/Video/Naveed/GPS_20_ThreeFPHoldSRTProbe/20240819/Init/Clips/Naveed_20240819_Trial032_InitView.avi\n",
      "Loading  T:/YuLab/Video/Naveed/GPS_20_ThreeFPHoldSRTProbe/20240819/Init/Clips/Naveed_20240819_Trial032_InitView.avi\n",
      "Duration of video [s]:  4.0 , recorded with  20.0 fps!\n",
      "Overall # of frames:  80  found with (before cropping) frame dimensions:  1280 1024\n",
      "Starting to extract posture\n"
     ]
    },
    {
     "name": "stderr",
     "output_type": "stream",
     "text": [
      "100%|██████████| 80/80 [00:05<00:00, 14.30it/s]\n"
     ]
    },
    {
     "name": "stdout",
     "output_type": "stream",
     "text": [
      "Saving results in T:\\YuLab\\Video\\Naveed\\GPS_20_ThreeFPHoldSRTProbe\\20240819\\Init\\Clips...\n",
      "Saving csv poses!\n",
      "Starting to analyze %  T:/YuLab/Video/Naveed/GPS_20_ThreeFPHoldSRTProbe/20240819/Init/Clips/Naveed_20240819_Trial033_InitView.avi\n",
      "Loading  T:/YuLab/Video/Naveed/GPS_20_ThreeFPHoldSRTProbe/20240819/Init/Clips/Naveed_20240819_Trial033_InitView.avi\n",
      "Duration of video [s]:  4.0 , recorded with  20.0 fps!\n",
      "Overall # of frames:  80  found with (before cropping) frame dimensions:  1280 1024\n",
      "Starting to extract posture\n"
     ]
    },
    {
     "name": "stderr",
     "output_type": "stream",
     "text": [
      "100%|██████████| 80/80 [00:05<00:00, 14.16it/s]\n"
     ]
    },
    {
     "name": "stdout",
     "output_type": "stream",
     "text": [
      "Saving results in T:\\YuLab\\Video\\Naveed\\GPS_20_ThreeFPHoldSRTProbe\\20240819\\Init\\Clips...\n",
      "Saving csv poses!\n",
      "Starting to analyze %  T:/YuLab/Video/Naveed/GPS_20_ThreeFPHoldSRTProbe/20240819/Init/Clips/Naveed_20240819_Trial034_InitView.avi\n",
      "Loading  T:/YuLab/Video/Naveed/GPS_20_ThreeFPHoldSRTProbe/20240819/Init/Clips/Naveed_20240819_Trial034_InitView.avi\n",
      "Duration of video [s]:  4.0 , recorded with  20.0 fps!\n",
      "Overall # of frames:  80  found with (before cropping) frame dimensions:  1280 1024\n",
      "Starting to extract posture\n"
     ]
    },
    {
     "name": "stderr",
     "output_type": "stream",
     "text": [
      "100%|██████████| 80/80 [00:05<00:00, 14.45it/s]\n"
     ]
    },
    {
     "name": "stdout",
     "output_type": "stream",
     "text": [
      "Saving results in T:\\YuLab\\Video\\Naveed\\GPS_20_ThreeFPHoldSRTProbe\\20240819\\Init\\Clips...\n",
      "Saving csv poses!\n",
      "Starting to analyze %  T:/YuLab/Video/Naveed/GPS_20_ThreeFPHoldSRTProbe/20240819/Init/Clips/Naveed_20240819_Trial035_InitView.avi\n",
      "Loading  T:/YuLab/Video/Naveed/GPS_20_ThreeFPHoldSRTProbe/20240819/Init/Clips/Naveed_20240819_Trial035_InitView.avi\n",
      "Duration of video [s]:  4.0 , recorded with  20.0 fps!\n",
      "Overall # of frames:  80  found with (before cropping) frame dimensions:  1280 1024\n",
      "Starting to extract posture\n"
     ]
    },
    {
     "name": "stderr",
     "output_type": "stream",
     "text": [
      "100%|██████████| 80/80 [00:05<00:00, 14.52it/s]\n"
     ]
    },
    {
     "name": "stdout",
     "output_type": "stream",
     "text": [
      "Saving results in T:\\YuLab\\Video\\Naveed\\GPS_20_ThreeFPHoldSRTProbe\\20240819\\Init\\Clips...\n",
      "Saving csv poses!\n",
      "Starting to analyze %  T:/YuLab/Video/Naveed/GPS_20_ThreeFPHoldSRTProbe/20240819/Init/Clips/Naveed_20240819_Trial036_InitView.avi\n",
      "Loading  T:/YuLab/Video/Naveed/GPS_20_ThreeFPHoldSRTProbe/20240819/Init/Clips/Naveed_20240819_Trial036_InitView.avi\n",
      "Duration of video [s]:  4.0 , recorded with  20.0 fps!\n",
      "Overall # of frames:  80  found with (before cropping) frame dimensions:  1280 1024\n",
      "Starting to extract posture\n"
     ]
    },
    {
     "name": "stderr",
     "output_type": "stream",
     "text": [
      "100%|██████████| 80/80 [00:05<00:00, 14.37it/s]\n"
     ]
    },
    {
     "name": "stdout",
     "output_type": "stream",
     "text": [
      "Saving results in T:\\YuLab\\Video\\Naveed\\GPS_20_ThreeFPHoldSRTProbe\\20240819\\Init\\Clips...\n",
      "Saving csv poses!\n",
      "Starting to analyze %  T:/YuLab/Video/Naveed/GPS_20_ThreeFPHoldSRTProbe/20240819/Init/Clips/Naveed_20240819_Trial037_InitView.avi\n",
      "Loading  T:/YuLab/Video/Naveed/GPS_20_ThreeFPHoldSRTProbe/20240819/Init/Clips/Naveed_20240819_Trial037_InitView.avi\n",
      "Duration of video [s]:  4.0 , recorded with  20.0 fps!\n",
      "Overall # of frames:  80  found with (before cropping) frame dimensions:  1280 1024\n",
      "Starting to extract posture\n"
     ]
    },
    {
     "name": "stderr",
     "output_type": "stream",
     "text": [
      "100%|██████████| 80/80 [00:05<00:00, 14.48it/s]\n"
     ]
    },
    {
     "name": "stdout",
     "output_type": "stream",
     "text": [
      "Saving results in T:\\YuLab\\Video\\Naveed\\GPS_20_ThreeFPHoldSRTProbe\\20240819\\Init\\Clips...\n",
      "Saving csv poses!\n",
      "Starting to analyze %  T:/YuLab/Video/Naveed/GPS_20_ThreeFPHoldSRTProbe/20240819/Init/Clips/Naveed_20240819_Trial038_InitView.avi\n",
      "Loading  T:/YuLab/Video/Naveed/GPS_20_ThreeFPHoldSRTProbe/20240819/Init/Clips/Naveed_20240819_Trial038_InitView.avi\n",
      "Duration of video [s]:  4.0 , recorded with  20.0 fps!\n",
      "Overall # of frames:  80  found with (before cropping) frame dimensions:  1280 1024\n",
      "Starting to extract posture\n"
     ]
    },
    {
     "name": "stderr",
     "output_type": "stream",
     "text": [
      "100%|██████████| 80/80 [00:05<00:00, 14.45it/s]\n"
     ]
    },
    {
     "name": "stdout",
     "output_type": "stream",
     "text": [
      "Saving results in T:\\YuLab\\Video\\Naveed\\GPS_20_ThreeFPHoldSRTProbe\\20240819\\Init\\Clips...\n",
      "Saving csv poses!\n",
      "Starting to analyze %  T:/YuLab/Video/Naveed/GPS_20_ThreeFPHoldSRTProbe/20240819/Init/Clips/Naveed_20240819_Trial039_InitView.avi\n",
      "Loading  T:/YuLab/Video/Naveed/GPS_20_ThreeFPHoldSRTProbe/20240819/Init/Clips/Naveed_20240819_Trial039_InitView.avi\n",
      "Duration of video [s]:  4.0 , recorded with  20.0 fps!\n",
      "Overall # of frames:  80  found with (before cropping) frame dimensions:  1280 1024\n",
      "Starting to extract posture\n"
     ]
    },
    {
     "name": "stderr",
     "output_type": "stream",
     "text": [
      "100%|██████████| 80/80 [00:05<00:00, 14.17it/s]\n"
     ]
    },
    {
     "name": "stdout",
     "output_type": "stream",
     "text": [
      "Saving results in T:\\YuLab\\Video\\Naveed\\GPS_20_ThreeFPHoldSRTProbe\\20240819\\Init\\Clips...\n",
      "Saving csv poses!\n",
      "Starting to analyze %  T:/YuLab/Video/Naveed/GPS_20_ThreeFPHoldSRTProbe/20240819/Init/Clips/Naveed_20240819_Trial040_InitView.avi\n",
      "Loading  T:/YuLab/Video/Naveed/GPS_20_ThreeFPHoldSRTProbe/20240819/Init/Clips/Naveed_20240819_Trial040_InitView.avi\n",
      "Duration of video [s]:  4.0 , recorded with  20.0 fps!\n",
      "Overall # of frames:  80  found with (before cropping) frame dimensions:  1280 1024\n",
      "Starting to extract posture\n"
     ]
    },
    {
     "name": "stderr",
     "output_type": "stream",
     "text": [
      "100%|██████████| 80/80 [00:05<00:00, 14.07it/s]\n"
     ]
    },
    {
     "name": "stdout",
     "output_type": "stream",
     "text": [
      "Saving results in T:\\YuLab\\Video\\Naveed\\GPS_20_ThreeFPHoldSRTProbe\\20240819\\Init\\Clips...\n",
      "Saving csv poses!\n",
      "Starting to analyze %  T:/YuLab/Video/Naveed/GPS_20_ThreeFPHoldSRTProbe/20240819/Init/Clips/Naveed_20240819_Trial041_InitView.avi\n",
      "Loading  T:/YuLab/Video/Naveed/GPS_20_ThreeFPHoldSRTProbe/20240819/Init/Clips/Naveed_20240819_Trial041_InitView.avi\n",
      "Duration of video [s]:  4.0 , recorded with  20.0 fps!\n",
      "Overall # of frames:  80  found with (before cropping) frame dimensions:  1280 1024\n",
      "Starting to extract posture\n"
     ]
    },
    {
     "name": "stderr",
     "output_type": "stream",
     "text": [
      "100%|██████████| 80/80 [00:05<00:00, 14.17it/s]\n"
     ]
    },
    {
     "name": "stdout",
     "output_type": "stream",
     "text": [
      "Saving results in T:\\YuLab\\Video\\Naveed\\GPS_20_ThreeFPHoldSRTProbe\\20240819\\Init\\Clips...\n",
      "Saving csv poses!\n",
      "Starting to analyze %  T:/YuLab/Video/Naveed/GPS_20_ThreeFPHoldSRTProbe/20240819/Init/Clips/Naveed_20240819_Trial042_InitView.avi\n",
      "Loading  T:/YuLab/Video/Naveed/GPS_20_ThreeFPHoldSRTProbe/20240819/Init/Clips/Naveed_20240819_Trial042_InitView.avi\n",
      "Duration of video [s]:  4.0 , recorded with  20.0 fps!\n",
      "Overall # of frames:  80  found with (before cropping) frame dimensions:  1280 1024\n",
      "Starting to extract posture\n"
     ]
    },
    {
     "name": "stderr",
     "output_type": "stream",
     "text": [
      "100%|██████████| 80/80 [00:05<00:00, 14.44it/s]\n"
     ]
    },
    {
     "name": "stdout",
     "output_type": "stream",
     "text": [
      "Saving results in T:\\YuLab\\Video\\Naveed\\GPS_20_ThreeFPHoldSRTProbe\\20240819\\Init\\Clips...\n",
      "Saving csv poses!\n",
      "Starting to analyze %  T:/YuLab/Video/Naveed/GPS_20_ThreeFPHoldSRTProbe/20240819/Init/Clips/Naveed_20240819_Trial043_InitView.avi\n",
      "Loading  T:/YuLab/Video/Naveed/GPS_20_ThreeFPHoldSRTProbe/20240819/Init/Clips/Naveed_20240819_Trial043_InitView.avi\n",
      "Duration of video [s]:  4.0 , recorded with  20.0 fps!\n",
      "Overall # of frames:  80  found with (before cropping) frame dimensions:  1280 1024\n",
      "Starting to extract posture\n"
     ]
    },
    {
     "name": "stderr",
     "output_type": "stream",
     "text": [
      "100%|██████████| 80/80 [00:05<00:00, 14.42it/s]\n"
     ]
    },
    {
     "name": "stdout",
     "output_type": "stream",
     "text": [
      "Saving results in T:\\YuLab\\Video\\Naveed\\GPS_20_ThreeFPHoldSRTProbe\\20240819\\Init\\Clips...\n",
      "Saving csv poses!\n",
      "Starting to analyze %  T:/YuLab/Video/Naveed/GPS_20_ThreeFPHoldSRTProbe/20240819/Init/Clips/Naveed_20240819_Trial044_InitView.avi\n",
      "Loading  T:/YuLab/Video/Naveed/GPS_20_ThreeFPHoldSRTProbe/20240819/Init/Clips/Naveed_20240819_Trial044_InitView.avi\n",
      "Duration of video [s]:  4.0 , recorded with  20.0 fps!\n",
      "Overall # of frames:  80  found with (before cropping) frame dimensions:  1280 1024\n",
      "Starting to extract posture\n"
     ]
    },
    {
     "name": "stderr",
     "output_type": "stream",
     "text": [
      "100%|██████████| 80/80 [00:05<00:00, 14.44it/s]\n"
     ]
    },
    {
     "name": "stdout",
     "output_type": "stream",
     "text": [
      "Saving results in T:\\YuLab\\Video\\Naveed\\GPS_20_ThreeFPHoldSRTProbe\\20240819\\Init\\Clips...\n",
      "Saving csv poses!\n",
      "Starting to analyze %  T:/YuLab/Video/Naveed/GPS_20_ThreeFPHoldSRTProbe/20240819/Init/Clips/Naveed_20240819_Trial045_InitView.avi\n",
      "Loading  T:/YuLab/Video/Naveed/GPS_20_ThreeFPHoldSRTProbe/20240819/Init/Clips/Naveed_20240819_Trial045_InitView.avi\n",
      "Duration of video [s]:  4.0 , recorded with  20.0 fps!\n",
      "Overall # of frames:  80  found with (before cropping) frame dimensions:  1280 1024\n",
      "Starting to extract posture\n"
     ]
    },
    {
     "name": "stderr",
     "output_type": "stream",
     "text": [
      "100%|██████████| 80/80 [00:05<00:00, 14.37it/s]\n"
     ]
    },
    {
     "name": "stdout",
     "output_type": "stream",
     "text": [
      "Saving results in T:\\YuLab\\Video\\Naveed\\GPS_20_ThreeFPHoldSRTProbe\\20240819\\Init\\Clips...\n",
      "Saving csv poses!\n",
      "Starting to analyze %  T:/YuLab/Video/Naveed/GPS_20_ThreeFPHoldSRTProbe/20240819/Init/Clips/Naveed_20240819_Trial046_InitView.avi\n",
      "Loading  T:/YuLab/Video/Naveed/GPS_20_ThreeFPHoldSRTProbe/20240819/Init/Clips/Naveed_20240819_Trial046_InitView.avi\n",
      "Duration of video [s]:  4.0 , recorded with  20.0 fps!\n",
      "Overall # of frames:  80  found with (before cropping) frame dimensions:  1280 1024\n",
      "Starting to extract posture\n"
     ]
    },
    {
     "name": "stderr",
     "output_type": "stream",
     "text": [
      "100%|██████████| 80/80 [00:05<00:00, 14.32it/s]\n"
     ]
    },
    {
     "name": "stdout",
     "output_type": "stream",
     "text": [
      "Saving results in T:\\YuLab\\Video\\Naveed\\GPS_20_ThreeFPHoldSRTProbe\\20240819\\Init\\Clips...\n",
      "Saving csv poses!\n",
      "Starting to analyze %  T:/YuLab/Video/Naveed/GPS_20_ThreeFPHoldSRTProbe/20240819/Init/Clips/Naveed_20240819_Trial047_InitView.avi\n",
      "Loading  T:/YuLab/Video/Naveed/GPS_20_ThreeFPHoldSRTProbe/20240819/Init/Clips/Naveed_20240819_Trial047_InitView.avi\n",
      "Duration of video [s]:  4.0 , recorded with  20.0 fps!\n",
      "Overall # of frames:  80  found with (before cropping) frame dimensions:  1280 1024\n",
      "Starting to extract posture\n"
     ]
    },
    {
     "name": "stderr",
     "output_type": "stream",
     "text": [
      "100%|██████████| 80/80 [00:05<00:00, 14.29it/s]\n"
     ]
    },
    {
     "name": "stdout",
     "output_type": "stream",
     "text": [
      "Saving results in T:\\YuLab\\Video\\Naveed\\GPS_20_ThreeFPHoldSRTProbe\\20240819\\Init\\Clips...\n",
      "Saving csv poses!\n",
      "Starting to analyze %  T:/YuLab/Video/Naveed/GPS_20_ThreeFPHoldSRTProbe/20240819/Init/Clips/Naveed_20240819_Trial048_InitView.avi\n",
      "Loading  T:/YuLab/Video/Naveed/GPS_20_ThreeFPHoldSRTProbe/20240819/Init/Clips/Naveed_20240819_Trial048_InitView.avi\n",
      "Duration of video [s]:  4.0 , recorded with  20.0 fps!\n",
      "Overall # of frames:  80  found with (before cropping) frame dimensions:  1280 1024\n",
      "Starting to extract posture\n"
     ]
    },
    {
     "name": "stderr",
     "output_type": "stream",
     "text": [
      "100%|██████████| 80/80 [00:05<00:00, 14.55it/s]\n"
     ]
    },
    {
     "name": "stdout",
     "output_type": "stream",
     "text": [
      "Saving results in T:\\YuLab\\Video\\Naveed\\GPS_20_ThreeFPHoldSRTProbe\\20240819\\Init\\Clips...\n",
      "Saving csv poses!\n",
      "Starting to analyze %  T:/YuLab/Video/Naveed/GPS_20_ThreeFPHoldSRTProbe/20240819/Init/Clips/Naveed_20240819_Trial049_InitView.avi\n",
      "Loading  T:/YuLab/Video/Naveed/GPS_20_ThreeFPHoldSRTProbe/20240819/Init/Clips/Naveed_20240819_Trial049_InitView.avi\n",
      "Duration of video [s]:  4.0 , recorded with  20.0 fps!\n",
      "Overall # of frames:  80  found with (before cropping) frame dimensions:  1280 1024\n",
      "Starting to extract posture\n"
     ]
    },
    {
     "name": "stderr",
     "output_type": "stream",
     "text": [
      "100%|██████████| 80/80 [00:05<00:00, 14.35it/s]\n"
     ]
    },
    {
     "name": "stdout",
     "output_type": "stream",
     "text": [
      "Saving results in T:\\YuLab\\Video\\Naveed\\GPS_20_ThreeFPHoldSRTProbe\\20240819\\Init\\Clips...\n",
      "Saving csv poses!\n",
      "Starting to analyze %  T:/YuLab/Video/Naveed/GPS_20_ThreeFPHoldSRTProbe/20240819/Init/Clips/Naveed_20240819_Trial050_InitView.avi\n",
      "Loading  T:/YuLab/Video/Naveed/GPS_20_ThreeFPHoldSRTProbe/20240819/Init/Clips/Naveed_20240819_Trial050_InitView.avi\n",
      "Duration of video [s]:  4.0 , recorded with  20.0 fps!\n",
      "Overall # of frames:  80  found with (before cropping) frame dimensions:  1280 1024\n",
      "Starting to extract posture\n"
     ]
    },
    {
     "name": "stderr",
     "output_type": "stream",
     "text": [
      "100%|██████████| 80/80 [00:05<00:00, 14.49it/s]\n"
     ]
    },
    {
     "name": "stdout",
     "output_type": "stream",
     "text": [
      "Saving results in T:\\YuLab\\Video\\Naveed\\GPS_20_ThreeFPHoldSRTProbe\\20240819\\Init\\Clips...\n",
      "Saving csv poses!\n",
      "Starting to analyze %  T:/YuLab/Video/Naveed/GPS_20_ThreeFPHoldSRTProbe/20240819/Init/Clips/Naveed_20240819_Trial051_InitView.avi\n",
      "Loading  T:/YuLab/Video/Naveed/GPS_20_ThreeFPHoldSRTProbe/20240819/Init/Clips/Naveed_20240819_Trial051_InitView.avi\n",
      "Duration of video [s]:  4.0 , recorded with  20.0 fps!\n",
      "Overall # of frames:  80  found with (before cropping) frame dimensions:  1280 1024\n",
      "Starting to extract posture\n"
     ]
    },
    {
     "name": "stderr",
     "output_type": "stream",
     "text": [
      "100%|██████████| 80/80 [00:05<00:00, 14.51it/s]\n"
     ]
    },
    {
     "name": "stdout",
     "output_type": "stream",
     "text": [
      "Saving results in T:\\YuLab\\Video\\Naveed\\GPS_20_ThreeFPHoldSRTProbe\\20240819\\Init\\Clips...\n",
      "Saving csv poses!\n",
      "Starting to analyze %  T:/YuLab/Video/Naveed/GPS_20_ThreeFPHoldSRTProbe/20240819/Init/Clips/Naveed_20240819_Trial052_InitView.avi\n",
      "Loading  T:/YuLab/Video/Naveed/GPS_20_ThreeFPHoldSRTProbe/20240819/Init/Clips/Naveed_20240819_Trial052_InitView.avi\n",
      "Duration of video [s]:  4.0 , recorded with  20.0 fps!\n",
      "Overall # of frames:  80  found with (before cropping) frame dimensions:  1280 1024\n",
      "Starting to extract posture\n"
     ]
    },
    {
     "name": "stderr",
     "output_type": "stream",
     "text": [
      "100%|██████████| 80/80 [00:05<00:00, 14.22it/s]\n"
     ]
    },
    {
     "name": "stdout",
     "output_type": "stream",
     "text": [
      "Saving results in T:\\YuLab\\Video\\Naveed\\GPS_20_ThreeFPHoldSRTProbe\\20240819\\Init\\Clips...\n",
      "Saving csv poses!\n",
      "Starting to analyze %  T:/YuLab/Video/Naveed/GPS_20_ThreeFPHoldSRTProbe/20240819/Init/Clips/Naveed_20240819_Trial053_InitView.avi\n",
      "Loading  T:/YuLab/Video/Naveed/GPS_20_ThreeFPHoldSRTProbe/20240819/Init/Clips/Naveed_20240819_Trial053_InitView.avi\n",
      "Duration of video [s]:  4.0 , recorded with  20.0 fps!\n",
      "Overall # of frames:  80  found with (before cropping) frame dimensions:  1280 1024\n",
      "Starting to extract posture\n"
     ]
    },
    {
     "name": "stderr",
     "output_type": "stream",
     "text": [
      "100%|██████████| 80/80 [00:05<00:00, 14.30it/s]\n"
     ]
    },
    {
     "name": "stdout",
     "output_type": "stream",
     "text": [
      "Saving results in T:\\YuLab\\Video\\Naveed\\GPS_20_ThreeFPHoldSRTProbe\\20240819\\Init\\Clips...\n",
      "Saving csv poses!\n",
      "Starting to analyze %  T:/YuLab/Video/Naveed/GPS_20_ThreeFPHoldSRTProbe/20240819/Init/Clips/Naveed_20240819_Trial054_InitView.avi\n",
      "Loading  T:/YuLab/Video/Naveed/GPS_20_ThreeFPHoldSRTProbe/20240819/Init/Clips/Naveed_20240819_Trial054_InitView.avi\n",
      "Duration of video [s]:  4.0 , recorded with  20.0 fps!\n",
      "Overall # of frames:  80  found with (before cropping) frame dimensions:  1280 1024\n",
      "Starting to extract posture\n"
     ]
    },
    {
     "name": "stderr",
     "output_type": "stream",
     "text": [
      "100%|██████████| 80/80 [00:05<00:00, 14.31it/s]\n"
     ]
    },
    {
     "name": "stdout",
     "output_type": "stream",
     "text": [
      "Saving results in T:\\YuLab\\Video\\Naveed\\GPS_20_ThreeFPHoldSRTProbe\\20240819\\Init\\Clips...\n",
      "Saving csv poses!\n",
      "Starting to analyze %  T:/YuLab/Video/Naveed/GPS_20_ThreeFPHoldSRTProbe/20240819/Init/Clips/Naveed_20240819_Trial055_InitView.avi\n",
      "Loading  T:/YuLab/Video/Naveed/GPS_20_ThreeFPHoldSRTProbe/20240819/Init/Clips/Naveed_20240819_Trial055_InitView.avi\n",
      "Duration of video [s]:  4.0 , recorded with  20.0 fps!\n",
      "Overall # of frames:  80  found with (before cropping) frame dimensions:  1280 1024\n",
      "Starting to extract posture\n"
     ]
    },
    {
     "name": "stderr",
     "output_type": "stream",
     "text": [
      "100%|██████████| 80/80 [00:05<00:00, 14.31it/s]\n"
     ]
    },
    {
     "name": "stdout",
     "output_type": "stream",
     "text": [
      "Saving results in T:\\YuLab\\Video\\Naveed\\GPS_20_ThreeFPHoldSRTProbe\\20240819\\Init\\Clips...\n",
      "Saving csv poses!\n",
      "Starting to analyze %  T:/YuLab/Video/Naveed/GPS_20_ThreeFPHoldSRTProbe/20240819/Init/Clips/Naveed_20240819_Trial056_InitView.avi\n",
      "Loading  T:/YuLab/Video/Naveed/GPS_20_ThreeFPHoldSRTProbe/20240819/Init/Clips/Naveed_20240819_Trial056_InitView.avi\n",
      "Duration of video [s]:  4.0 , recorded with  20.0 fps!\n",
      "Overall # of frames:  80  found with (before cropping) frame dimensions:  1280 1024\n",
      "Starting to extract posture\n"
     ]
    },
    {
     "name": "stderr",
     "output_type": "stream",
     "text": [
      "100%|██████████| 80/80 [00:05<00:00, 14.52it/s]\n"
     ]
    },
    {
     "name": "stdout",
     "output_type": "stream",
     "text": [
      "Saving results in T:\\YuLab\\Video\\Naveed\\GPS_20_ThreeFPHoldSRTProbe\\20240819\\Init\\Clips...\n",
      "Saving csv poses!\n",
      "Starting to analyze %  T:/YuLab/Video/Naveed/GPS_20_ThreeFPHoldSRTProbe/20240819/Init/Clips/Naveed_20240819_Trial057_InitView.avi\n",
      "Loading  T:/YuLab/Video/Naveed/GPS_20_ThreeFPHoldSRTProbe/20240819/Init/Clips/Naveed_20240819_Trial057_InitView.avi\n",
      "Duration of video [s]:  4.0 , recorded with  20.0 fps!\n",
      "Overall # of frames:  80  found with (before cropping) frame dimensions:  1280 1024\n",
      "Starting to extract posture\n"
     ]
    },
    {
     "name": "stderr",
     "output_type": "stream",
     "text": [
      "100%|██████████| 80/80 [00:05<00:00, 14.44it/s]\n"
     ]
    },
    {
     "name": "stdout",
     "output_type": "stream",
     "text": [
      "Saving results in T:\\YuLab\\Video\\Naveed\\GPS_20_ThreeFPHoldSRTProbe\\20240819\\Init\\Clips...\n",
      "Saving csv poses!\n",
      "Starting to analyze %  T:/YuLab/Video/Naveed/GPS_20_ThreeFPHoldSRTProbe/20240819/Init/Clips/Naveed_20240819_Trial058_InitView.avi\n",
      "Loading  T:/YuLab/Video/Naveed/GPS_20_ThreeFPHoldSRTProbe/20240819/Init/Clips/Naveed_20240819_Trial058_InitView.avi\n",
      "Duration of video [s]:  4.0 , recorded with  20.0 fps!\n",
      "Overall # of frames:  80  found with (before cropping) frame dimensions:  1280 1024\n",
      "Starting to extract posture\n"
     ]
    },
    {
     "name": "stderr",
     "output_type": "stream",
     "text": [
      "100%|██████████| 80/80 [00:05<00:00, 14.15it/s]\n"
     ]
    },
    {
     "name": "stdout",
     "output_type": "stream",
     "text": [
      "Saving results in T:\\YuLab\\Video\\Naveed\\GPS_20_ThreeFPHoldSRTProbe\\20240819\\Init\\Clips...\n",
      "Saving csv poses!\n",
      "Starting to analyze %  T:/YuLab/Video/Naveed/GPS_20_ThreeFPHoldSRTProbe/20240819/Init/Clips/Naveed_20240819_Trial059_InitView.avi\n",
      "Loading  T:/YuLab/Video/Naveed/GPS_20_ThreeFPHoldSRTProbe/20240819/Init/Clips/Naveed_20240819_Trial059_InitView.avi\n",
      "Duration of video [s]:  4.0 , recorded with  20.0 fps!\n",
      "Overall # of frames:  80  found with (before cropping) frame dimensions:  1280 1024\n",
      "Starting to extract posture\n"
     ]
    },
    {
     "name": "stderr",
     "output_type": "stream",
     "text": [
      "100%|██████████| 80/80 [00:05<00:00, 14.26it/s]\n"
     ]
    },
    {
     "name": "stdout",
     "output_type": "stream",
     "text": [
      "Saving results in T:\\YuLab\\Video\\Naveed\\GPS_20_ThreeFPHoldSRTProbe\\20240819\\Init\\Clips...\n",
      "Saving csv poses!\n",
      "Starting to analyze %  T:/YuLab/Video/Naveed/GPS_20_ThreeFPHoldSRTProbe/20240819/Init/Clips/Naveed_20240819_Trial060_InitView.avi\n",
      "Loading  T:/YuLab/Video/Naveed/GPS_20_ThreeFPHoldSRTProbe/20240819/Init/Clips/Naveed_20240819_Trial060_InitView.avi\n",
      "Duration of video [s]:  4.0 , recorded with  20.0 fps!\n",
      "Overall # of frames:  80  found with (before cropping) frame dimensions:  1280 1024\n",
      "Starting to extract posture\n"
     ]
    },
    {
     "name": "stderr",
     "output_type": "stream",
     "text": [
      "100%|██████████| 80/80 [00:05<00:00, 14.37it/s]\n"
     ]
    },
    {
     "name": "stdout",
     "output_type": "stream",
     "text": [
      "Saving results in T:\\YuLab\\Video\\Naveed\\GPS_20_ThreeFPHoldSRTProbe\\20240819\\Init\\Clips...\n",
      "Saving csv poses!\n",
      "Starting to analyze %  T:/YuLab/Video/Naveed/GPS_20_ThreeFPHoldSRTProbe/20240819/Init/Clips/Naveed_20240819_Trial061_InitView.avi\n",
      "Loading  T:/YuLab/Video/Naveed/GPS_20_ThreeFPHoldSRTProbe/20240819/Init/Clips/Naveed_20240819_Trial061_InitView.avi\n",
      "Duration of video [s]:  4.05 , recorded with  20.0 fps!\n",
      "Overall # of frames:  81  found with (before cropping) frame dimensions:  1280 1024\n",
      "Starting to extract posture\n"
     ]
    },
    {
     "name": "stderr",
     "output_type": "stream",
     "text": [
      "100%|██████████| 81/81 [00:06<00:00, 13.29it/s]\n"
     ]
    },
    {
     "name": "stdout",
     "output_type": "stream",
     "text": [
      "Saving results in T:\\YuLab\\Video\\Naveed\\GPS_20_ThreeFPHoldSRTProbe\\20240819\\Init\\Clips...\n",
      "Saving csv poses!\n",
      "Starting to analyze %  T:/YuLab/Video/Naveed/GPS_20_ThreeFPHoldSRTProbe/20240819/Init/Clips/Naveed_20240819_Trial062_InitView.avi\n",
      "Loading  T:/YuLab/Video/Naveed/GPS_20_ThreeFPHoldSRTProbe/20240819/Init/Clips/Naveed_20240819_Trial062_InitView.avi\n",
      "Duration of video [s]:  4.0 , recorded with  20.0 fps!\n",
      "Overall # of frames:  80  found with (before cropping) frame dimensions:  1280 1024\n",
      "Starting to extract posture\n"
     ]
    },
    {
     "name": "stderr",
     "output_type": "stream",
     "text": [
      "100%|██████████| 80/80 [00:05<00:00, 14.40it/s]\n"
     ]
    },
    {
     "name": "stdout",
     "output_type": "stream",
     "text": [
      "Saving results in T:\\YuLab\\Video\\Naveed\\GPS_20_ThreeFPHoldSRTProbe\\20240819\\Init\\Clips...\n",
      "Saving csv poses!\n",
      "Starting to analyze %  T:/YuLab/Video/Naveed/GPS_20_ThreeFPHoldSRTProbe/20240819/Init/Clips/Naveed_20240819_Trial063_InitView.avi\n",
      "Loading  T:/YuLab/Video/Naveed/GPS_20_ThreeFPHoldSRTProbe/20240819/Init/Clips/Naveed_20240819_Trial063_InitView.avi\n",
      "Duration of video [s]:  4.0 , recorded with  20.0 fps!\n",
      "Overall # of frames:  80  found with (before cropping) frame dimensions:  1280 1024\n",
      "Starting to extract posture\n"
     ]
    },
    {
     "name": "stderr",
     "output_type": "stream",
     "text": [
      "100%|██████████| 80/80 [00:05<00:00, 14.39it/s]\n"
     ]
    },
    {
     "name": "stdout",
     "output_type": "stream",
     "text": [
      "Saving results in T:\\YuLab\\Video\\Naveed\\GPS_20_ThreeFPHoldSRTProbe\\20240819\\Init\\Clips...\n",
      "Saving csv poses!\n",
      "Starting to analyze %  T:/YuLab/Video/Naveed/GPS_20_ThreeFPHoldSRTProbe/20240819/Init/Clips/Naveed_20240819_Trial064_InitView.avi\n",
      "Loading  T:/YuLab/Video/Naveed/GPS_20_ThreeFPHoldSRTProbe/20240819/Init/Clips/Naveed_20240819_Trial064_InitView.avi\n",
      "Duration of video [s]:  4.0 , recorded with  20.0 fps!\n",
      "Overall # of frames:  80  found with (before cropping) frame dimensions:  1280 1024\n",
      "Starting to extract posture\n"
     ]
    },
    {
     "name": "stderr",
     "output_type": "stream",
     "text": [
      "100%|██████████| 80/80 [00:05<00:00, 14.18it/s]\n"
     ]
    },
    {
     "name": "stdout",
     "output_type": "stream",
     "text": [
      "Saving results in T:\\YuLab\\Video\\Naveed\\GPS_20_ThreeFPHoldSRTProbe\\20240819\\Init\\Clips...\n",
      "Saving csv poses!\n",
      "Starting to analyze %  T:/YuLab/Video/Naveed/GPS_20_ThreeFPHoldSRTProbe/20240819/Init/Clips/Naveed_20240819_Trial065_InitView.avi\n",
      "Loading  T:/YuLab/Video/Naveed/GPS_20_ThreeFPHoldSRTProbe/20240819/Init/Clips/Naveed_20240819_Trial065_InitView.avi\n",
      "Duration of video [s]:  4.0 , recorded with  20.0 fps!\n",
      "Overall # of frames:  80  found with (before cropping) frame dimensions:  1280 1024\n",
      "Starting to extract posture\n"
     ]
    },
    {
     "name": "stderr",
     "output_type": "stream",
     "text": [
      "100%|██████████| 80/80 [00:05<00:00, 14.40it/s]\n"
     ]
    },
    {
     "name": "stdout",
     "output_type": "stream",
     "text": [
      "Saving results in T:\\YuLab\\Video\\Naveed\\GPS_20_ThreeFPHoldSRTProbe\\20240819\\Init\\Clips...\n",
      "Saving csv poses!\n",
      "Starting to analyze %  T:/YuLab/Video/Naveed/GPS_20_ThreeFPHoldSRTProbe/20240819/Init/Clips/Naveed_20240819_Trial066_InitView.avi\n",
      "Loading  T:/YuLab/Video/Naveed/GPS_20_ThreeFPHoldSRTProbe/20240819/Init/Clips/Naveed_20240819_Trial066_InitView.avi\n",
      "Duration of video [s]:  4.0 , recorded with  20.0 fps!\n",
      "Overall # of frames:  80  found with (before cropping) frame dimensions:  1280 1024\n",
      "Starting to extract posture\n"
     ]
    },
    {
     "name": "stderr",
     "output_type": "stream",
     "text": [
      "100%|██████████| 80/80 [00:05<00:00, 14.01it/s]\n"
     ]
    },
    {
     "name": "stdout",
     "output_type": "stream",
     "text": [
      "Saving results in T:\\YuLab\\Video\\Naveed\\GPS_20_ThreeFPHoldSRTProbe\\20240819\\Init\\Clips...\n",
      "Saving csv poses!\n",
      "Starting to analyze %  T:/YuLab/Video/Naveed/GPS_20_ThreeFPHoldSRTProbe/20240819/Init/Clips/Naveed_20240819_Trial067_InitView.avi\n",
      "Loading  T:/YuLab/Video/Naveed/GPS_20_ThreeFPHoldSRTProbe/20240819/Init/Clips/Naveed_20240819_Trial067_InitView.avi\n",
      "Duration of video [s]:  4.0 , recorded with  20.0 fps!\n",
      "Overall # of frames:  80  found with (before cropping) frame dimensions:  1280 1024\n",
      "Starting to extract posture\n"
     ]
    },
    {
     "name": "stderr",
     "output_type": "stream",
     "text": [
      "100%|██████████| 80/80 [00:05<00:00, 14.07it/s]\n"
     ]
    },
    {
     "name": "stdout",
     "output_type": "stream",
     "text": [
      "Saving results in T:\\YuLab\\Video\\Naveed\\GPS_20_ThreeFPHoldSRTProbe\\20240819\\Init\\Clips...\n",
      "Saving csv poses!\n",
      "Starting to analyze %  T:/YuLab/Video/Naveed/GPS_20_ThreeFPHoldSRTProbe/20240819/Init/Clips/Naveed_20240819_Trial068_InitView.avi\n",
      "Loading  T:/YuLab/Video/Naveed/GPS_20_ThreeFPHoldSRTProbe/20240819/Init/Clips/Naveed_20240819_Trial068_InitView.avi\n",
      "Duration of video [s]:  4.0 , recorded with  20.0 fps!\n",
      "Overall # of frames:  80  found with (before cropping) frame dimensions:  1280 1024\n",
      "Starting to extract posture\n"
     ]
    },
    {
     "name": "stderr",
     "output_type": "stream",
     "text": [
      "100%|██████████| 80/80 [00:05<00:00, 14.21it/s]\n"
     ]
    },
    {
     "name": "stdout",
     "output_type": "stream",
     "text": [
      "Saving results in T:\\YuLab\\Video\\Naveed\\GPS_20_ThreeFPHoldSRTProbe\\20240819\\Init\\Clips...\n",
      "Saving csv poses!\n",
      "Starting to analyze %  T:/YuLab/Video/Naveed/GPS_20_ThreeFPHoldSRTProbe/20240819/Init/Clips/Naveed_20240819_Trial069_InitView.avi\n",
      "Loading  T:/YuLab/Video/Naveed/GPS_20_ThreeFPHoldSRTProbe/20240819/Init/Clips/Naveed_20240819_Trial069_InitView.avi\n",
      "Duration of video [s]:  4.0 , recorded with  20.0 fps!\n",
      "Overall # of frames:  80  found with (before cropping) frame dimensions:  1280 1024\n",
      "Starting to extract posture\n"
     ]
    },
    {
     "name": "stderr",
     "output_type": "stream",
     "text": [
      "100%|██████████| 80/80 [00:05<00:00, 14.53it/s]\n"
     ]
    },
    {
     "name": "stdout",
     "output_type": "stream",
     "text": [
      "Saving results in T:\\YuLab\\Video\\Naveed\\GPS_20_ThreeFPHoldSRTProbe\\20240819\\Init\\Clips...\n",
      "Saving csv poses!\n",
      "Starting to analyze %  T:/YuLab/Video/Naveed/GPS_20_ThreeFPHoldSRTProbe/20240819/Init/Clips/Naveed_20240819_Trial070_InitView.avi\n",
      "Loading  T:/YuLab/Video/Naveed/GPS_20_ThreeFPHoldSRTProbe/20240819/Init/Clips/Naveed_20240819_Trial070_InitView.avi\n",
      "Duration of video [s]:  4.0 , recorded with  20.0 fps!\n",
      "Overall # of frames:  80  found with (before cropping) frame dimensions:  1280 1024\n",
      "Starting to extract posture\n"
     ]
    },
    {
     "name": "stderr",
     "output_type": "stream",
     "text": [
      "100%|██████████| 80/80 [00:05<00:00, 14.23it/s]\n"
     ]
    },
    {
     "name": "stdout",
     "output_type": "stream",
     "text": [
      "Saving results in T:\\YuLab\\Video\\Naveed\\GPS_20_ThreeFPHoldSRTProbe\\20240819\\Init\\Clips...\n",
      "Saving csv poses!\n",
      "Starting to analyze %  T:/YuLab/Video/Naveed/GPS_20_ThreeFPHoldSRTProbe/20240819/Init/Clips/Naveed_20240819_Trial071_InitView.avi\n",
      "Loading  T:/YuLab/Video/Naveed/GPS_20_ThreeFPHoldSRTProbe/20240819/Init/Clips/Naveed_20240819_Trial071_InitView.avi\n",
      "Duration of video [s]:  4.0 , recorded with  20.0 fps!\n",
      "Overall # of frames:  80  found with (before cropping) frame dimensions:  1280 1024\n",
      "Starting to extract posture\n"
     ]
    },
    {
     "name": "stderr",
     "output_type": "stream",
     "text": [
      "100%|██████████| 80/80 [00:05<00:00, 14.15it/s]\n"
     ]
    },
    {
     "name": "stdout",
     "output_type": "stream",
     "text": [
      "Saving results in T:\\YuLab\\Video\\Naveed\\GPS_20_ThreeFPHoldSRTProbe\\20240819\\Init\\Clips...\n",
      "Saving csv poses!\n",
      "Starting to analyze %  T:/YuLab/Video/Naveed/GPS_20_ThreeFPHoldSRTProbe/20240819/Init/Clips/Naveed_20240819_Trial072_InitView.avi\n",
      "Loading  T:/YuLab/Video/Naveed/GPS_20_ThreeFPHoldSRTProbe/20240819/Init/Clips/Naveed_20240819_Trial072_InitView.avi\n",
      "Duration of video [s]:  4.0 , recorded with  20.0 fps!\n",
      "Overall # of frames:  80  found with (before cropping) frame dimensions:  1280 1024\n",
      "Starting to extract posture\n"
     ]
    },
    {
     "name": "stderr",
     "output_type": "stream",
     "text": [
      "100%|██████████| 80/80 [00:05<00:00, 13.70it/s]\n"
     ]
    },
    {
     "name": "stdout",
     "output_type": "stream",
     "text": [
      "Saving results in T:\\YuLab\\Video\\Naveed\\GPS_20_ThreeFPHoldSRTProbe\\20240819\\Init\\Clips...\n",
      "Saving csv poses!\n",
      "Starting to analyze %  T:/YuLab/Video/Naveed/GPS_20_ThreeFPHoldSRTProbe/20240819/Init/Clips/Naveed_20240819_Trial073_InitView.avi\n",
      "Loading  T:/YuLab/Video/Naveed/GPS_20_ThreeFPHoldSRTProbe/20240819/Init/Clips/Naveed_20240819_Trial073_InitView.avi\n",
      "Duration of video [s]:  4.0 , recorded with  20.0 fps!\n",
      "Overall # of frames:  80  found with (before cropping) frame dimensions:  1280 1024\n",
      "Starting to extract posture\n"
     ]
    },
    {
     "name": "stderr",
     "output_type": "stream",
     "text": [
      "100%|██████████| 80/80 [00:05<00:00, 14.30it/s]\n"
     ]
    },
    {
     "name": "stdout",
     "output_type": "stream",
     "text": [
      "Saving results in T:\\YuLab\\Video\\Naveed\\GPS_20_ThreeFPHoldSRTProbe\\20240819\\Init\\Clips...\n",
      "Saving csv poses!\n",
      "Starting to analyze %  T:/YuLab/Video/Naveed/GPS_20_ThreeFPHoldSRTProbe/20240819/Init/Clips/Naveed_20240819_Trial074_InitView.avi\n",
      "Loading  T:/YuLab/Video/Naveed/GPS_20_ThreeFPHoldSRTProbe/20240819/Init/Clips/Naveed_20240819_Trial074_InitView.avi\n",
      "Duration of video [s]:  4.0 , recorded with  20.0 fps!\n",
      "Overall # of frames:  80  found with (before cropping) frame dimensions:  1280 1024\n",
      "Starting to extract posture\n"
     ]
    },
    {
     "name": "stderr",
     "output_type": "stream",
     "text": [
      "100%|██████████| 80/80 [00:05<00:00, 14.09it/s]\n"
     ]
    },
    {
     "name": "stdout",
     "output_type": "stream",
     "text": [
      "Saving results in T:\\YuLab\\Video\\Naveed\\GPS_20_ThreeFPHoldSRTProbe\\20240819\\Init\\Clips...\n",
      "Saving csv poses!\n",
      "Starting to analyze %  T:/YuLab/Video/Naveed/GPS_20_ThreeFPHoldSRTProbe/20240819/Init/Clips/Naveed_20240819_Trial075_InitView.avi\n",
      "Loading  T:/YuLab/Video/Naveed/GPS_20_ThreeFPHoldSRTProbe/20240819/Init/Clips/Naveed_20240819_Trial075_InitView.avi\n",
      "Duration of video [s]:  4.0 , recorded with  20.0 fps!\n",
      "Overall # of frames:  80  found with (before cropping) frame dimensions:  1280 1024\n",
      "Starting to extract posture\n"
     ]
    },
    {
     "name": "stderr",
     "output_type": "stream",
     "text": [
      "100%|██████████| 80/80 [00:05<00:00, 14.72it/s]\n"
     ]
    },
    {
     "name": "stdout",
     "output_type": "stream",
     "text": [
      "Saving results in T:\\YuLab\\Video\\Naveed\\GPS_20_ThreeFPHoldSRTProbe\\20240819\\Init\\Clips...\n",
      "Saving csv poses!\n",
      "Starting to analyze %  T:/YuLab/Video/Naveed/GPS_20_ThreeFPHoldSRTProbe/20240819/Init/Clips/Naveed_20240819_Trial076_InitView.avi\n",
      "Loading  T:/YuLab/Video/Naveed/GPS_20_ThreeFPHoldSRTProbe/20240819/Init/Clips/Naveed_20240819_Trial076_InitView.avi\n",
      "Duration of video [s]:  4.0 , recorded with  20.0 fps!\n",
      "Overall # of frames:  80  found with (before cropping) frame dimensions:  1280 1024\n",
      "Starting to extract posture\n"
     ]
    },
    {
     "name": "stderr",
     "output_type": "stream",
     "text": [
      "100%|██████████| 80/80 [00:05<00:00, 13.88it/s]\n"
     ]
    },
    {
     "name": "stdout",
     "output_type": "stream",
     "text": [
      "Saving results in T:\\YuLab\\Video\\Naveed\\GPS_20_ThreeFPHoldSRTProbe\\20240819\\Init\\Clips...\n",
      "Saving csv poses!\n",
      "Starting to analyze %  T:/YuLab/Video/Naveed/GPS_20_ThreeFPHoldSRTProbe/20240819/Init/Clips/Naveed_20240819_Trial077_InitView.avi\n",
      "Loading  T:/YuLab/Video/Naveed/GPS_20_ThreeFPHoldSRTProbe/20240819/Init/Clips/Naveed_20240819_Trial077_InitView.avi\n",
      "Duration of video [s]:  4.0 , recorded with  20.0 fps!\n",
      "Overall # of frames:  80  found with (before cropping) frame dimensions:  1280 1024\n",
      "Starting to extract posture\n"
     ]
    },
    {
     "name": "stderr",
     "output_type": "stream",
     "text": [
      "100%|██████████| 80/80 [00:05<00:00, 14.07it/s]\n"
     ]
    },
    {
     "name": "stdout",
     "output_type": "stream",
     "text": [
      "Saving results in T:\\YuLab\\Video\\Naveed\\GPS_20_ThreeFPHoldSRTProbe\\20240819\\Init\\Clips...\n",
      "Saving csv poses!\n",
      "Starting to analyze %  T:/YuLab/Video/Naveed/GPS_20_ThreeFPHoldSRTProbe/20240819/Init/Clips/Naveed_20240819_Trial078_InitView.avi\n",
      "Loading  T:/YuLab/Video/Naveed/GPS_20_ThreeFPHoldSRTProbe/20240819/Init/Clips/Naveed_20240819_Trial078_InitView.avi\n",
      "Duration of video [s]:  4.0 , recorded with  20.0 fps!\n",
      "Overall # of frames:  80  found with (before cropping) frame dimensions:  1280 1024\n",
      "Starting to extract posture\n"
     ]
    },
    {
     "name": "stderr",
     "output_type": "stream",
     "text": [
      "100%|██████████| 80/80 [00:05<00:00, 14.23it/s]\n"
     ]
    },
    {
     "name": "stdout",
     "output_type": "stream",
     "text": [
      "Saving results in T:\\YuLab\\Video\\Naveed\\GPS_20_ThreeFPHoldSRTProbe\\20240819\\Init\\Clips...\n",
      "Saving csv poses!\n",
      "Starting to analyze %  T:/YuLab/Video/Naveed/GPS_20_ThreeFPHoldSRTProbe/20240819/Init/Clips/Naveed_20240819_Trial079_InitView.avi\n",
      "Loading  T:/YuLab/Video/Naveed/GPS_20_ThreeFPHoldSRTProbe/20240819/Init/Clips/Naveed_20240819_Trial079_InitView.avi\n",
      "Duration of video [s]:  4.0 , recorded with  20.0 fps!\n",
      "Overall # of frames:  80  found with (before cropping) frame dimensions:  1280 1024\n",
      "Starting to extract posture\n"
     ]
    },
    {
     "name": "stderr",
     "output_type": "stream",
     "text": [
      "100%|██████████| 80/80 [00:05<00:00, 13.87it/s]\n"
     ]
    },
    {
     "name": "stdout",
     "output_type": "stream",
     "text": [
      "Saving results in T:\\YuLab\\Video\\Naveed\\GPS_20_ThreeFPHoldSRTProbe\\20240819\\Init\\Clips...\n",
      "Saving csv poses!\n",
      "Starting to analyze %  T:/YuLab/Video/Naveed/GPS_20_ThreeFPHoldSRTProbe/20240819/Init/Clips/Naveed_20240819_Trial080_InitView.avi\n",
      "Loading  T:/YuLab/Video/Naveed/GPS_20_ThreeFPHoldSRTProbe/20240819/Init/Clips/Naveed_20240819_Trial080_InitView.avi\n",
      "Duration of video [s]:  4.0 , recorded with  20.0 fps!\n",
      "Overall # of frames:  80  found with (before cropping) frame dimensions:  1280 1024\n",
      "Starting to extract posture\n"
     ]
    },
    {
     "name": "stderr",
     "output_type": "stream",
     "text": [
      "100%|██████████| 80/80 [00:05<00:00, 14.05it/s]\n"
     ]
    },
    {
     "name": "stdout",
     "output_type": "stream",
     "text": [
      "Saving results in T:\\YuLab\\Video\\Naveed\\GPS_20_ThreeFPHoldSRTProbe\\20240819\\Init\\Clips...\n",
      "Saving csv poses!\n",
      "Starting to analyze %  T:/YuLab/Video/Naveed/GPS_20_ThreeFPHoldSRTProbe/20240819/Init/Clips/Naveed_20240819_Trial081_InitView.avi\n",
      "Loading  T:/YuLab/Video/Naveed/GPS_20_ThreeFPHoldSRTProbe/20240819/Init/Clips/Naveed_20240819_Trial081_InitView.avi\n",
      "Duration of video [s]:  4.0 , recorded with  20.0 fps!\n",
      "Overall # of frames:  80  found with (before cropping) frame dimensions:  1280 1024\n",
      "Starting to extract posture\n"
     ]
    },
    {
     "name": "stderr",
     "output_type": "stream",
     "text": [
      "100%|██████████| 80/80 [00:05<00:00, 13.98it/s]\n"
     ]
    },
    {
     "name": "stdout",
     "output_type": "stream",
     "text": [
      "Saving results in T:\\YuLab\\Video\\Naveed\\GPS_20_ThreeFPHoldSRTProbe\\20240819\\Init\\Clips...\n",
      "Saving csv poses!\n",
      "Starting to analyze %  T:/YuLab/Video/Naveed/GPS_20_ThreeFPHoldSRTProbe/20240819/Init/Clips/Naveed_20240819_Trial082_InitView.avi\n",
      "Loading  T:/YuLab/Video/Naveed/GPS_20_ThreeFPHoldSRTProbe/20240819/Init/Clips/Naveed_20240819_Trial082_InitView.avi\n",
      "Duration of video [s]:  4.0 , recorded with  20.0 fps!\n",
      "Overall # of frames:  80  found with (before cropping) frame dimensions:  1280 1024\n",
      "Starting to extract posture\n"
     ]
    },
    {
     "name": "stderr",
     "output_type": "stream",
     "text": [
      "100%|██████████| 80/80 [00:05<00:00, 14.29it/s]\n"
     ]
    },
    {
     "name": "stdout",
     "output_type": "stream",
     "text": [
      "Saving results in T:\\YuLab\\Video\\Naveed\\GPS_20_ThreeFPHoldSRTProbe\\20240819\\Init\\Clips...\n",
      "Saving csv poses!\n",
      "Starting to analyze %  T:/YuLab/Video/Naveed/GPS_20_ThreeFPHoldSRTProbe/20240819/Init/Clips/Naveed_20240819_Trial083_InitView.avi\n",
      "Loading  T:/YuLab/Video/Naveed/GPS_20_ThreeFPHoldSRTProbe/20240819/Init/Clips/Naveed_20240819_Trial083_InitView.avi\n",
      "Duration of video [s]:  4.0 , recorded with  20.0 fps!\n",
      "Overall # of frames:  80  found with (before cropping) frame dimensions:  1280 1024\n",
      "Starting to extract posture\n"
     ]
    },
    {
     "name": "stderr",
     "output_type": "stream",
     "text": [
      "100%|██████████| 80/80 [00:05<00:00, 14.12it/s]\n"
     ]
    },
    {
     "name": "stdout",
     "output_type": "stream",
     "text": [
      "Saving results in T:\\YuLab\\Video\\Naveed\\GPS_20_ThreeFPHoldSRTProbe\\20240819\\Init\\Clips...\n",
      "Saving csv poses!\n",
      "Starting to analyze %  T:/YuLab/Video/Naveed/GPS_20_ThreeFPHoldSRTProbe/20240819/Init/Clips/Naveed_20240819_Trial084_InitView.avi\n",
      "Loading  T:/YuLab/Video/Naveed/GPS_20_ThreeFPHoldSRTProbe/20240819/Init/Clips/Naveed_20240819_Trial084_InitView.avi\n",
      "Duration of video [s]:  4.0 , recorded with  20.0 fps!\n",
      "Overall # of frames:  80  found with (before cropping) frame dimensions:  1280 1024\n",
      "Starting to extract posture\n"
     ]
    },
    {
     "name": "stderr",
     "output_type": "stream",
     "text": [
      "100%|██████████| 80/80 [00:05<00:00, 14.15it/s]\n"
     ]
    },
    {
     "name": "stdout",
     "output_type": "stream",
     "text": [
      "Saving results in T:\\YuLab\\Video\\Naveed\\GPS_20_ThreeFPHoldSRTProbe\\20240819\\Init\\Clips...\n",
      "Saving csv poses!\n",
      "Starting to analyze %  T:/YuLab/Video/Naveed/GPS_20_ThreeFPHoldSRTProbe/20240819/Init/Clips/Naveed_20240819_Trial085_InitView.avi\n",
      "Loading  T:/YuLab/Video/Naveed/GPS_20_ThreeFPHoldSRTProbe/20240819/Init/Clips/Naveed_20240819_Trial085_InitView.avi\n",
      "Duration of video [s]:  4.0 , recorded with  20.0 fps!\n",
      "Overall # of frames:  80  found with (before cropping) frame dimensions:  1280 1024\n",
      "Starting to extract posture\n"
     ]
    },
    {
     "name": "stderr",
     "output_type": "stream",
     "text": [
      "100%|██████████| 80/80 [00:05<00:00, 13.99it/s]\n"
     ]
    },
    {
     "name": "stdout",
     "output_type": "stream",
     "text": [
      "Saving results in T:\\YuLab\\Video\\Naveed\\GPS_20_ThreeFPHoldSRTProbe\\20240819\\Init\\Clips...\n",
      "Saving csv poses!\n",
      "Starting to analyze %  T:/YuLab/Video/Naveed/GPS_20_ThreeFPHoldSRTProbe/20240819/Init/Clips/Naveed_20240819_Trial086_InitView.avi\n",
      "Loading  T:/YuLab/Video/Naveed/GPS_20_ThreeFPHoldSRTProbe/20240819/Init/Clips/Naveed_20240819_Trial086_InitView.avi\n",
      "Duration of video [s]:  4.0 , recorded with  20.0 fps!\n",
      "Overall # of frames:  80  found with (before cropping) frame dimensions:  1280 1024\n",
      "Starting to extract posture\n"
     ]
    },
    {
     "name": "stderr",
     "output_type": "stream",
     "text": [
      "100%|██████████| 80/80 [00:05<00:00, 14.14it/s]\n"
     ]
    },
    {
     "name": "stdout",
     "output_type": "stream",
     "text": [
      "Saving results in T:\\YuLab\\Video\\Naveed\\GPS_20_ThreeFPHoldSRTProbe\\20240819\\Init\\Clips...\n",
      "Saving csv poses!\n",
      "Starting to analyze %  T:/YuLab/Video/Naveed/GPS_20_ThreeFPHoldSRTProbe/20240819/Init/Clips/Naveed_20240819_Trial087_InitView.avi\n",
      "Loading  T:/YuLab/Video/Naveed/GPS_20_ThreeFPHoldSRTProbe/20240819/Init/Clips/Naveed_20240819_Trial087_InitView.avi\n",
      "Duration of video [s]:  4.0 , recorded with  20.0 fps!\n",
      "Overall # of frames:  80  found with (before cropping) frame dimensions:  1280 1024\n",
      "Starting to extract posture\n"
     ]
    },
    {
     "name": "stderr",
     "output_type": "stream",
     "text": [
      "100%|██████████| 80/80 [00:05<00:00, 14.09it/s]\n"
     ]
    },
    {
     "name": "stdout",
     "output_type": "stream",
     "text": [
      "Saving results in T:\\YuLab\\Video\\Naveed\\GPS_20_ThreeFPHoldSRTProbe\\20240819\\Init\\Clips...\n",
      "Saving csv poses!\n",
      "Starting to analyze %  T:/YuLab/Video/Naveed/GPS_20_ThreeFPHoldSRTProbe/20240819/Init/Clips/Naveed_20240819_Trial088_InitView.avi\n",
      "Loading  T:/YuLab/Video/Naveed/GPS_20_ThreeFPHoldSRTProbe/20240819/Init/Clips/Naveed_20240819_Trial088_InitView.avi\n",
      "Duration of video [s]:  4.0 , recorded with  20.0 fps!\n",
      "Overall # of frames:  80  found with (before cropping) frame dimensions:  1280 1024\n",
      "Starting to extract posture\n"
     ]
    },
    {
     "name": "stderr",
     "output_type": "stream",
     "text": [
      "100%|██████████| 80/80 [00:05<00:00, 13.95it/s]\n"
     ]
    },
    {
     "name": "stdout",
     "output_type": "stream",
     "text": [
      "Saving results in T:\\YuLab\\Video\\Naveed\\GPS_20_ThreeFPHoldSRTProbe\\20240819\\Init\\Clips...\n",
      "Saving csv poses!\n",
      "Starting to analyze %  T:/YuLab/Video/Naveed/GPS_20_ThreeFPHoldSRTProbe/20240819/Init/Clips/Naveed_20240819_Trial089_InitView.avi\n",
      "Loading  T:/YuLab/Video/Naveed/GPS_20_ThreeFPHoldSRTProbe/20240819/Init/Clips/Naveed_20240819_Trial089_InitView.avi\n",
      "Duration of video [s]:  4.0 , recorded with  20.0 fps!\n",
      "Overall # of frames:  80  found with (before cropping) frame dimensions:  1280 1024\n",
      "Starting to extract posture\n"
     ]
    },
    {
     "name": "stderr",
     "output_type": "stream",
     "text": [
      "100%|██████████| 80/80 [00:05<00:00, 14.33it/s]\n"
     ]
    },
    {
     "name": "stdout",
     "output_type": "stream",
     "text": [
      "Saving results in T:\\YuLab\\Video\\Naveed\\GPS_20_ThreeFPHoldSRTProbe\\20240819\\Init\\Clips...\n",
      "Saving csv poses!\n",
      "Starting to analyze %  T:/YuLab/Video/Naveed/GPS_20_ThreeFPHoldSRTProbe/20240819/Init/Clips/Naveed_20240819_Trial090_InitView.avi\n",
      "Loading  T:/YuLab/Video/Naveed/GPS_20_ThreeFPHoldSRTProbe/20240819/Init/Clips/Naveed_20240819_Trial090_InitView.avi\n",
      "Duration of video [s]:  4.0 , recorded with  20.0 fps!\n",
      "Overall # of frames:  80  found with (before cropping) frame dimensions:  1280 1024\n",
      "Starting to extract posture\n"
     ]
    },
    {
     "name": "stderr",
     "output_type": "stream",
     "text": [
      "100%|██████████| 80/80 [00:05<00:00, 14.45it/s]\n"
     ]
    },
    {
     "name": "stdout",
     "output_type": "stream",
     "text": [
      "Saving results in T:\\YuLab\\Video\\Naveed\\GPS_20_ThreeFPHoldSRTProbe\\20240819\\Init\\Clips...\n",
      "Saving csv poses!\n",
      "Starting to analyze %  T:/YuLab/Video/Naveed/GPS_20_ThreeFPHoldSRTProbe/20240819/Init/Clips/Naveed_20240819_Trial091_InitView.avi\n",
      "Loading  T:/YuLab/Video/Naveed/GPS_20_ThreeFPHoldSRTProbe/20240819/Init/Clips/Naveed_20240819_Trial091_InitView.avi\n",
      "Duration of video [s]:  4.0 , recorded with  20.0 fps!\n",
      "Overall # of frames:  80  found with (before cropping) frame dimensions:  1280 1024\n",
      "Starting to extract posture\n"
     ]
    },
    {
     "name": "stderr",
     "output_type": "stream",
     "text": [
      "100%|██████████| 80/80 [00:05<00:00, 13.72it/s]\n"
     ]
    },
    {
     "name": "stdout",
     "output_type": "stream",
     "text": [
      "Saving results in T:\\YuLab\\Video\\Naveed\\GPS_20_ThreeFPHoldSRTProbe\\20240819\\Init\\Clips...\n",
      "Saving csv poses!\n",
      "Starting to analyze %  T:/YuLab/Video/Naveed/GPS_20_ThreeFPHoldSRTProbe/20240819/Init/Clips/Naveed_20240819_Trial092_InitView.avi\n",
      "Loading  T:/YuLab/Video/Naveed/GPS_20_ThreeFPHoldSRTProbe/20240819/Init/Clips/Naveed_20240819_Trial092_InitView.avi\n",
      "Duration of video [s]:  4.0 , recorded with  20.0 fps!\n",
      "Overall # of frames:  80  found with (before cropping) frame dimensions:  1280 1024\n",
      "Starting to extract posture\n"
     ]
    },
    {
     "name": "stderr",
     "output_type": "stream",
     "text": [
      "100%|██████████| 80/80 [00:05<00:00, 14.05it/s]\n"
     ]
    },
    {
     "name": "stdout",
     "output_type": "stream",
     "text": [
      "Saving results in T:\\YuLab\\Video\\Naveed\\GPS_20_ThreeFPHoldSRTProbe\\20240819\\Init\\Clips...\n",
      "Saving csv poses!\n",
      "Starting to analyze %  T:/YuLab/Video/Naveed/GPS_20_ThreeFPHoldSRTProbe/20240819/Init/Clips/Naveed_20240819_Trial093_InitView.avi\n",
      "Loading  T:/YuLab/Video/Naveed/GPS_20_ThreeFPHoldSRTProbe/20240819/Init/Clips/Naveed_20240819_Trial093_InitView.avi\n",
      "Duration of video [s]:  4.0 , recorded with  20.0 fps!\n",
      "Overall # of frames:  80  found with (before cropping) frame dimensions:  1280 1024\n",
      "Starting to extract posture\n"
     ]
    },
    {
     "name": "stderr",
     "output_type": "stream",
     "text": [
      "100%|██████████| 80/80 [00:05<00:00, 13.90it/s]\n"
     ]
    },
    {
     "name": "stdout",
     "output_type": "stream",
     "text": [
      "Saving results in T:\\YuLab\\Video\\Naveed\\GPS_20_ThreeFPHoldSRTProbe\\20240819\\Init\\Clips...\n",
      "Saving csv poses!\n",
      "Starting to analyze %  T:/YuLab/Video/Naveed/GPS_20_ThreeFPHoldSRTProbe/20240820/Init/Clips/Naveed_20240820_Trial013_InitView.avi\n",
      "Loading  T:/YuLab/Video/Naveed/GPS_20_ThreeFPHoldSRTProbe/20240820/Init/Clips/Naveed_20240820_Trial013_InitView.avi\n",
      "Duration of video [s]:  4.0 , recorded with  20.0 fps!\n",
      "Overall # of frames:  80  found with (before cropping) frame dimensions:  1280 1024\n",
      "Starting to extract posture\n"
     ]
    },
    {
     "name": "stderr",
     "output_type": "stream",
     "text": [
      "100%|██████████| 80/80 [00:05<00:00, 14.41it/s]\n"
     ]
    },
    {
     "name": "stdout",
     "output_type": "stream",
     "text": [
      "Saving results in T:\\YuLab\\Video\\Naveed\\GPS_20_ThreeFPHoldSRTProbe\\20240820\\Init\\Clips...\n",
      "Saving csv poses!\n",
      "Starting to analyze %  T:/YuLab/Video/Naveed/GPS_20_ThreeFPHoldSRTProbe/20240820/Init/Clips/Naveed_20240820_Trial014_InitView.avi\n",
      "Loading  T:/YuLab/Video/Naveed/GPS_20_ThreeFPHoldSRTProbe/20240820/Init/Clips/Naveed_20240820_Trial014_InitView.avi\n",
      "Duration of video [s]:  3.95 , recorded with  20.0 fps!\n",
      "Overall # of frames:  79  found with (before cropping) frame dimensions:  1280 1024\n",
      "Starting to extract posture\n"
     ]
    },
    {
     "name": "stderr",
     "output_type": "stream",
     "text": [
      "100%|██████████| 79/79 [00:05<00:00, 14.11it/s]\n"
     ]
    },
    {
     "name": "stdout",
     "output_type": "stream",
     "text": [
      "Saving results in T:\\YuLab\\Video\\Naveed\\GPS_20_ThreeFPHoldSRTProbe\\20240820\\Init\\Clips...\n",
      "Saving csv poses!\n",
      "Starting to analyze %  T:/YuLab/Video/Naveed/GPS_20_ThreeFPHoldSRTProbe/20240820/Init/Clips/Naveed_20240820_Trial015_InitView.avi\n",
      "Loading  T:/YuLab/Video/Naveed/GPS_20_ThreeFPHoldSRTProbe/20240820/Init/Clips/Naveed_20240820_Trial015_InitView.avi\n",
      "Duration of video [s]:  4.0 , recorded with  20.0 fps!\n",
      "Overall # of frames:  80  found with (before cropping) frame dimensions:  1280 1024\n",
      "Starting to extract posture\n"
     ]
    },
    {
     "name": "stderr",
     "output_type": "stream",
     "text": [
      "100%|██████████| 80/80 [00:05<00:00, 13.97it/s]\n"
     ]
    },
    {
     "name": "stdout",
     "output_type": "stream",
     "text": [
      "Saving results in T:\\YuLab\\Video\\Naveed\\GPS_20_ThreeFPHoldSRTProbe\\20240820\\Init\\Clips...\n",
      "Saving csv poses!\n",
      "Starting to analyze %  T:/YuLab/Video/Naveed/GPS_20_ThreeFPHoldSRTProbe/20240820/Init/Clips/Naveed_20240820_Trial016_InitView.avi\n",
      "Loading  T:/YuLab/Video/Naveed/GPS_20_ThreeFPHoldSRTProbe/20240820/Init/Clips/Naveed_20240820_Trial016_InitView.avi\n",
      "Duration of video [s]:  4.0 , recorded with  20.0 fps!\n",
      "Overall # of frames:  80  found with (before cropping) frame dimensions:  1280 1024\n",
      "Starting to extract posture\n"
     ]
    },
    {
     "name": "stderr",
     "output_type": "stream",
     "text": [
      "100%|██████████| 80/80 [00:05<00:00, 13.73it/s]\n"
     ]
    },
    {
     "name": "stdout",
     "output_type": "stream",
     "text": [
      "Saving results in T:\\YuLab\\Video\\Naveed\\GPS_20_ThreeFPHoldSRTProbe\\20240820\\Init\\Clips...\n",
      "Saving csv poses!\n",
      "Starting to analyze %  T:/YuLab/Video/Naveed/GPS_20_ThreeFPHoldSRTProbe/20240820/Init/Clips/Naveed_20240820_Trial017_InitView.avi\n",
      "Loading  T:/YuLab/Video/Naveed/GPS_20_ThreeFPHoldSRTProbe/20240820/Init/Clips/Naveed_20240820_Trial017_InitView.avi\n",
      "Duration of video [s]:  4.0 , recorded with  20.0 fps!\n",
      "Overall # of frames:  80  found with (before cropping) frame dimensions:  1280 1024\n",
      "Starting to extract posture\n"
     ]
    },
    {
     "name": "stderr",
     "output_type": "stream",
     "text": [
      "100%|██████████| 80/80 [00:05<00:00, 14.25it/s]\n"
     ]
    },
    {
     "name": "stdout",
     "output_type": "stream",
     "text": [
      "Saving results in T:\\YuLab\\Video\\Naveed\\GPS_20_ThreeFPHoldSRTProbe\\20240820\\Init\\Clips...\n",
      "Saving csv poses!\n",
      "Starting to analyze %  T:/YuLab/Video/Naveed/GPS_20_ThreeFPHoldSRTProbe/20240820/Init/Clips/Naveed_20240820_Trial018_InitView.avi\n",
      "Loading  T:/YuLab/Video/Naveed/GPS_20_ThreeFPHoldSRTProbe/20240820/Init/Clips/Naveed_20240820_Trial018_InitView.avi\n",
      "Duration of video [s]:  4.0 , recorded with  20.0 fps!\n",
      "Overall # of frames:  80  found with (before cropping) frame dimensions:  1280 1024\n",
      "Starting to extract posture\n"
     ]
    },
    {
     "name": "stderr",
     "output_type": "stream",
     "text": [
      "100%|██████████| 80/80 [00:05<00:00, 14.36it/s]\n"
     ]
    },
    {
     "name": "stdout",
     "output_type": "stream",
     "text": [
      "Saving results in T:\\YuLab\\Video\\Naveed\\GPS_20_ThreeFPHoldSRTProbe\\20240820\\Init\\Clips...\n",
      "Saving csv poses!\n",
      "Starting to analyze %  T:/YuLab/Video/Naveed/GPS_20_ThreeFPHoldSRTProbe/20240820/Init/Clips/Naveed_20240820_Trial019_InitView.avi\n",
      "Loading  T:/YuLab/Video/Naveed/GPS_20_ThreeFPHoldSRTProbe/20240820/Init/Clips/Naveed_20240820_Trial019_InitView.avi\n",
      "Duration of video [s]:  4.0 , recorded with  20.0 fps!\n",
      "Overall # of frames:  80  found with (before cropping) frame dimensions:  1280 1024\n",
      "Starting to extract posture\n"
     ]
    },
    {
     "name": "stderr",
     "output_type": "stream",
     "text": [
      "100%|██████████| 80/80 [00:05<00:00, 14.07it/s]\n"
     ]
    },
    {
     "name": "stdout",
     "output_type": "stream",
     "text": [
      "Saving results in T:\\YuLab\\Video\\Naveed\\GPS_20_ThreeFPHoldSRTProbe\\20240820\\Init\\Clips...\n",
      "Saving csv poses!\n",
      "Starting to analyze %  T:/YuLab/Video/Naveed/GPS_20_ThreeFPHoldSRTProbe/20240820/Init/Clips/Naveed_20240820_Trial020_InitView.avi\n",
      "Loading  T:/YuLab/Video/Naveed/GPS_20_ThreeFPHoldSRTProbe/20240820/Init/Clips/Naveed_20240820_Trial020_InitView.avi\n",
      "Duration of video [s]:  4.0 , recorded with  20.0 fps!\n",
      "Overall # of frames:  80  found with (before cropping) frame dimensions:  1280 1024\n",
      "Starting to extract posture\n"
     ]
    },
    {
     "name": "stderr",
     "output_type": "stream",
     "text": [
      "100%|██████████| 80/80 [00:05<00:00, 14.21it/s]\n"
     ]
    },
    {
     "name": "stdout",
     "output_type": "stream",
     "text": [
      "Saving results in T:\\YuLab\\Video\\Naveed\\GPS_20_ThreeFPHoldSRTProbe\\20240820\\Init\\Clips...\n",
      "Saving csv poses!\n",
      "Starting to analyze %  T:/YuLab/Video/Naveed/GPS_20_ThreeFPHoldSRTProbe/20240820/Init/Clips/Naveed_20240820_Trial021_InitView.avi\n",
      "Loading  T:/YuLab/Video/Naveed/GPS_20_ThreeFPHoldSRTProbe/20240820/Init/Clips/Naveed_20240820_Trial021_InitView.avi\n",
      "Duration of video [s]:  4.0 , recorded with  20.0 fps!\n",
      "Overall # of frames:  80  found with (before cropping) frame dimensions:  1280 1024\n",
      "Starting to extract posture\n"
     ]
    },
    {
     "name": "stderr",
     "output_type": "stream",
     "text": [
      "100%|██████████| 80/80 [00:05<00:00, 14.14it/s]\n"
     ]
    },
    {
     "name": "stdout",
     "output_type": "stream",
     "text": [
      "Saving results in T:\\YuLab\\Video\\Naveed\\GPS_20_ThreeFPHoldSRTProbe\\20240820\\Init\\Clips...\n",
      "Saving csv poses!\n",
      "Starting to analyze %  T:/YuLab/Video/Naveed/GPS_20_ThreeFPHoldSRTProbe/20240820/Init/Clips/Naveed_20240820_Trial022_InitView.avi\n",
      "Loading  T:/YuLab/Video/Naveed/GPS_20_ThreeFPHoldSRTProbe/20240820/Init/Clips/Naveed_20240820_Trial022_InitView.avi\n",
      "Duration of video [s]:  4.0 , recorded with  20.0 fps!\n",
      "Overall # of frames:  80  found with (before cropping) frame dimensions:  1280 1024\n",
      "Starting to extract posture\n"
     ]
    },
    {
     "name": "stderr",
     "output_type": "stream",
     "text": [
      "100%|██████████| 80/80 [00:05<00:00, 14.39it/s]\n"
     ]
    },
    {
     "name": "stdout",
     "output_type": "stream",
     "text": [
      "Saving results in T:\\YuLab\\Video\\Naveed\\GPS_20_ThreeFPHoldSRTProbe\\20240820\\Init\\Clips...\n",
      "Saving csv poses!\n",
      "Starting to analyze %  T:/YuLab/Video/Naveed/GPS_20_ThreeFPHoldSRTProbe/20240820/Init/Clips/Naveed_20240820_Trial023_InitView.avi\n",
      "Loading  T:/YuLab/Video/Naveed/GPS_20_ThreeFPHoldSRTProbe/20240820/Init/Clips/Naveed_20240820_Trial023_InitView.avi\n",
      "Duration of video [s]:  4.0 , recorded with  20.0 fps!\n",
      "Overall # of frames:  80  found with (before cropping) frame dimensions:  1280 1024\n",
      "Starting to extract posture\n"
     ]
    },
    {
     "name": "stderr",
     "output_type": "stream",
     "text": [
      "100%|██████████| 80/80 [00:05<00:00, 13.91it/s]\n"
     ]
    },
    {
     "name": "stdout",
     "output_type": "stream",
     "text": [
      "Saving results in T:\\YuLab\\Video\\Naveed\\GPS_20_ThreeFPHoldSRTProbe\\20240820\\Init\\Clips...\n",
      "Saving csv poses!\n",
      "Starting to analyze %  T:/YuLab/Video/Naveed/GPS_20_ThreeFPHoldSRTProbe/20240820/Init/Clips/Naveed_20240820_Trial024_InitView.avi\n",
      "Loading  T:/YuLab/Video/Naveed/GPS_20_ThreeFPHoldSRTProbe/20240820/Init/Clips/Naveed_20240820_Trial024_InitView.avi\n",
      "Duration of video [s]:  4.0 , recorded with  20.0 fps!\n",
      "Overall # of frames:  80  found with (before cropping) frame dimensions:  1280 1024\n",
      "Starting to extract posture\n"
     ]
    },
    {
     "name": "stderr",
     "output_type": "stream",
     "text": [
      "100%|██████████| 80/80 [00:05<00:00, 14.46it/s]\n"
     ]
    },
    {
     "name": "stdout",
     "output_type": "stream",
     "text": [
      "Saving results in T:\\YuLab\\Video\\Naveed\\GPS_20_ThreeFPHoldSRTProbe\\20240820\\Init\\Clips...\n",
      "Saving csv poses!\n",
      "Starting to analyze %  T:/YuLab/Video/Naveed/GPS_20_ThreeFPHoldSRTProbe/20240820/Init/Clips/Naveed_20240820_Trial025_InitView.avi\n",
      "Loading  T:/YuLab/Video/Naveed/GPS_20_ThreeFPHoldSRTProbe/20240820/Init/Clips/Naveed_20240820_Trial025_InitView.avi\n",
      "Duration of video [s]:  3.95 , recorded with  20.0 fps!\n",
      "Overall # of frames:  79  found with (before cropping) frame dimensions:  1280 1024\n",
      "Starting to extract posture\n"
     ]
    },
    {
     "name": "stderr",
     "output_type": "stream",
     "text": [
      "100%|██████████| 79/79 [00:05<00:00, 13.99it/s]\n"
     ]
    },
    {
     "name": "stdout",
     "output_type": "stream",
     "text": [
      "Saving results in T:\\YuLab\\Video\\Naveed\\GPS_20_ThreeFPHoldSRTProbe\\20240820\\Init\\Clips...\n",
      "Saving csv poses!\n",
      "Starting to analyze %  T:/YuLab/Video/Naveed/GPS_20_ThreeFPHoldSRTProbe/20240820/Init/Clips/Naveed_20240820_Trial026_InitView.avi\n",
      "Loading  T:/YuLab/Video/Naveed/GPS_20_ThreeFPHoldSRTProbe/20240820/Init/Clips/Naveed_20240820_Trial026_InitView.avi\n",
      "Duration of video [s]:  4.0 , recorded with  20.0 fps!\n",
      "Overall # of frames:  80  found with (before cropping) frame dimensions:  1280 1024\n",
      "Starting to extract posture\n"
     ]
    },
    {
     "name": "stderr",
     "output_type": "stream",
     "text": [
      "100%|██████████| 80/80 [00:05<00:00, 14.11it/s]\n"
     ]
    },
    {
     "name": "stdout",
     "output_type": "stream",
     "text": [
      "Saving results in T:\\YuLab\\Video\\Naveed\\GPS_20_ThreeFPHoldSRTProbe\\20240820\\Init\\Clips...\n",
      "Saving csv poses!\n",
      "Starting to analyze %  T:/YuLab/Video/Naveed/GPS_20_ThreeFPHoldSRTProbe/20240820/Init/Clips/Naveed_20240820_Trial027_InitView.avi\n",
      "Loading  T:/YuLab/Video/Naveed/GPS_20_ThreeFPHoldSRTProbe/20240820/Init/Clips/Naveed_20240820_Trial027_InitView.avi\n",
      "Duration of video [s]:  4.0 , recorded with  20.0 fps!\n",
      "Overall # of frames:  80  found with (before cropping) frame dimensions:  1280 1024\n",
      "Starting to extract posture\n"
     ]
    },
    {
     "name": "stderr",
     "output_type": "stream",
     "text": [
      "100%|██████████| 80/80 [00:05<00:00, 14.19it/s]\n"
     ]
    },
    {
     "name": "stdout",
     "output_type": "stream",
     "text": [
      "Saving results in T:\\YuLab\\Video\\Naveed\\GPS_20_ThreeFPHoldSRTProbe\\20240820\\Init\\Clips...\n",
      "Saving csv poses!\n",
      "Starting to analyze %  T:/YuLab/Video/Naveed/GPS_20_ThreeFPHoldSRTProbe/20240820/Init/Clips/Naveed_20240820_Trial028_InitView.avi\n",
      "Loading  T:/YuLab/Video/Naveed/GPS_20_ThreeFPHoldSRTProbe/20240820/Init/Clips/Naveed_20240820_Trial028_InitView.avi\n",
      "Duration of video [s]:  4.0 , recorded with  20.0 fps!\n",
      "Overall # of frames:  80  found with (before cropping) frame dimensions:  1280 1024\n",
      "Starting to extract posture\n"
     ]
    },
    {
     "name": "stderr",
     "output_type": "stream",
     "text": [
      "100%|██████████| 80/80 [00:05<00:00, 14.35it/s]\n"
     ]
    },
    {
     "name": "stdout",
     "output_type": "stream",
     "text": [
      "Saving results in T:\\YuLab\\Video\\Naveed\\GPS_20_ThreeFPHoldSRTProbe\\20240820\\Init\\Clips...\n",
      "Saving csv poses!\n",
      "Starting to analyze %  T:/YuLab/Video/Naveed/GPS_20_ThreeFPHoldSRTProbe/20240820/Init/Clips/Naveed_20240820_Trial029_InitView.avi\n",
      "Loading  T:/YuLab/Video/Naveed/GPS_20_ThreeFPHoldSRTProbe/20240820/Init/Clips/Naveed_20240820_Trial029_InitView.avi\n",
      "Duration of video [s]:  4.0 , recorded with  20.0 fps!\n",
      "Overall # of frames:  80  found with (before cropping) frame dimensions:  1280 1024\n",
      "Starting to extract posture\n"
     ]
    },
    {
     "name": "stderr",
     "output_type": "stream",
     "text": [
      "100%|██████████| 80/80 [00:05<00:00, 14.02it/s]\n"
     ]
    },
    {
     "name": "stdout",
     "output_type": "stream",
     "text": [
      "Saving results in T:\\YuLab\\Video\\Naveed\\GPS_20_ThreeFPHoldSRTProbe\\20240820\\Init\\Clips...\n",
      "Saving csv poses!\n",
      "Starting to analyze %  T:/YuLab/Video/Naveed/GPS_20_ThreeFPHoldSRTProbe/20240820/Init/Clips/Naveed_20240820_Trial030_InitView.avi\n",
      "Loading  T:/YuLab/Video/Naveed/GPS_20_ThreeFPHoldSRTProbe/20240820/Init/Clips/Naveed_20240820_Trial030_InitView.avi\n",
      "Duration of video [s]:  4.08 , recorded with  19.61 fps!\n",
      "Overall # of frames:  80  found with (before cropping) frame dimensions:  1280 1024\n",
      "Starting to extract posture\n"
     ]
    },
    {
     "name": "stderr",
     "output_type": "stream",
     "text": [
      "100%|██████████| 80/80 [00:05<00:00, 14.60it/s]\n"
     ]
    },
    {
     "name": "stdout",
     "output_type": "stream",
     "text": [
      "Saving results in T:\\YuLab\\Video\\Naveed\\GPS_20_ThreeFPHoldSRTProbe\\20240820\\Init\\Clips...\n",
      "Saving csv poses!\n",
      "Starting to analyze %  T:/YuLab/Video/Naveed/GPS_20_ThreeFPHoldSRTProbe/20240820/Init/Clips/Naveed_20240820_Trial031_InitView.avi\n",
      "Loading  T:/YuLab/Video/Naveed/GPS_20_ThreeFPHoldSRTProbe/20240820/Init/Clips/Naveed_20240820_Trial031_InitView.avi\n",
      "Duration of video [s]:  4.0 , recorded with  20.0 fps!\n",
      "Overall # of frames:  80  found with (before cropping) frame dimensions:  1280 1024\n",
      "Starting to extract posture\n"
     ]
    },
    {
     "name": "stderr",
     "output_type": "stream",
     "text": [
      "100%|██████████| 80/80 [00:05<00:00, 13.88it/s]\n"
     ]
    },
    {
     "name": "stdout",
     "output_type": "stream",
     "text": [
      "Saving results in T:\\YuLab\\Video\\Naveed\\GPS_20_ThreeFPHoldSRTProbe\\20240820\\Init\\Clips...\n",
      "Saving csv poses!\n",
      "Starting to analyze %  T:/YuLab/Video/Naveed/GPS_20_ThreeFPHoldSRTProbe/20240820/Init/Clips/Naveed_20240820_Trial032_InitView.avi\n",
      "Loading  T:/YuLab/Video/Naveed/GPS_20_ThreeFPHoldSRTProbe/20240820/Init/Clips/Naveed_20240820_Trial032_InitView.avi\n",
      "Duration of video [s]:  4.0 , recorded with  20.0 fps!\n",
      "Overall # of frames:  80  found with (before cropping) frame dimensions:  1280 1024\n",
      "Starting to extract posture\n"
     ]
    },
    {
     "name": "stderr",
     "output_type": "stream",
     "text": [
      "100%|██████████| 80/80 [00:05<00:00, 14.23it/s]\n"
     ]
    },
    {
     "name": "stdout",
     "output_type": "stream",
     "text": [
      "Saving results in T:\\YuLab\\Video\\Naveed\\GPS_20_ThreeFPHoldSRTProbe\\20240820\\Init\\Clips...\n",
      "Saving csv poses!\n",
      "Starting to analyze %  T:/YuLab/Video/Naveed/GPS_20_ThreeFPHoldSRTProbe/20240820/Init/Clips/Naveed_20240820_Trial033_InitView.avi\n",
      "Loading  T:/YuLab/Video/Naveed/GPS_20_ThreeFPHoldSRTProbe/20240820/Init/Clips/Naveed_20240820_Trial033_InitView.avi\n",
      "Duration of video [s]:  4.0 , recorded with  20.0 fps!\n",
      "Overall # of frames:  80  found with (before cropping) frame dimensions:  1280 1024\n",
      "Starting to extract posture\n"
     ]
    },
    {
     "name": "stderr",
     "output_type": "stream",
     "text": [
      "100%|██████████| 80/80 [00:05<00:00, 13.89it/s]\n"
     ]
    },
    {
     "name": "stdout",
     "output_type": "stream",
     "text": [
      "Saving results in T:\\YuLab\\Video\\Naveed\\GPS_20_ThreeFPHoldSRTProbe\\20240820\\Init\\Clips...\n",
      "Saving csv poses!\n",
      "Starting to analyze %  T:/YuLab/Video/Naveed/GPS_20_ThreeFPHoldSRTProbe/20240820/Init/Clips/Naveed_20240820_Trial034_InitView.avi\n",
      "Loading  T:/YuLab/Video/Naveed/GPS_20_ThreeFPHoldSRTProbe/20240820/Init/Clips/Naveed_20240820_Trial034_InitView.avi\n",
      "Duration of video [s]:  4.0 , recorded with  20.0 fps!\n",
      "Overall # of frames:  80  found with (before cropping) frame dimensions:  1280 1024\n",
      "Starting to extract posture\n"
     ]
    },
    {
     "name": "stderr",
     "output_type": "stream",
     "text": [
      "100%|██████████| 80/80 [00:05<00:00, 13.94it/s]\n"
     ]
    },
    {
     "name": "stdout",
     "output_type": "stream",
     "text": [
      "Saving results in T:\\YuLab\\Video\\Naveed\\GPS_20_ThreeFPHoldSRTProbe\\20240820\\Init\\Clips...\n",
      "Saving csv poses!\n",
      "Starting to analyze %  T:/YuLab/Video/Naveed/GPS_20_ThreeFPHoldSRTProbe/20240820/Init/Clips/Naveed_20240820_Trial035_InitView.avi\n",
      "Loading  T:/YuLab/Video/Naveed/GPS_20_ThreeFPHoldSRTProbe/20240820/Init/Clips/Naveed_20240820_Trial035_InitView.avi\n",
      "Duration of video [s]:  4.0 , recorded with  20.0 fps!\n",
      "Overall # of frames:  80  found with (before cropping) frame dimensions:  1280 1024\n",
      "Starting to extract posture\n"
     ]
    },
    {
     "name": "stderr",
     "output_type": "stream",
     "text": [
      "100%|██████████| 80/80 [00:05<00:00, 14.08it/s]\n"
     ]
    },
    {
     "name": "stdout",
     "output_type": "stream",
     "text": [
      "Saving results in T:\\YuLab\\Video\\Naveed\\GPS_20_ThreeFPHoldSRTProbe\\20240820\\Init\\Clips...\n",
      "Saving csv poses!\n",
      "Starting to analyze %  T:/YuLab/Video/Naveed/GPS_20_ThreeFPHoldSRTProbe/20240820/Init/Clips/Naveed_20240820_Trial036_InitView.avi\n",
      "Loading  T:/YuLab/Video/Naveed/GPS_20_ThreeFPHoldSRTProbe/20240820/Init/Clips/Naveed_20240820_Trial036_InitView.avi\n",
      "Duration of video [s]:  4.0 , recorded with  20.0 fps!\n",
      "Overall # of frames:  80  found with (before cropping) frame dimensions:  1280 1024\n",
      "Starting to extract posture\n"
     ]
    },
    {
     "name": "stderr",
     "output_type": "stream",
     "text": [
      "100%|██████████| 80/80 [00:05<00:00, 14.08it/s]\n"
     ]
    },
    {
     "name": "stdout",
     "output_type": "stream",
     "text": [
      "Saving results in T:\\YuLab\\Video\\Naveed\\GPS_20_ThreeFPHoldSRTProbe\\20240820\\Init\\Clips...\n",
      "Saving csv poses!\n",
      "Starting to analyze %  T:/YuLab/Video/Naveed/GPS_20_ThreeFPHoldSRTProbe/20240820/Init/Clips/Naveed_20240820_Trial037_InitView.avi\n",
      "Loading  T:/YuLab/Video/Naveed/GPS_20_ThreeFPHoldSRTProbe/20240820/Init/Clips/Naveed_20240820_Trial037_InitView.avi\n",
      "Duration of video [s]:  4.0 , recorded with  20.0 fps!\n",
      "Overall # of frames:  80  found with (before cropping) frame dimensions:  1280 1024\n",
      "Starting to extract posture\n"
     ]
    },
    {
     "name": "stderr",
     "output_type": "stream",
     "text": [
      "100%|██████████| 80/80 [00:05<00:00, 13.78it/s]\n"
     ]
    },
    {
     "name": "stdout",
     "output_type": "stream",
     "text": [
      "Saving results in T:\\YuLab\\Video\\Naveed\\GPS_20_ThreeFPHoldSRTProbe\\20240820\\Init\\Clips...\n",
      "Saving csv poses!\n",
      "Starting to analyze %  T:/YuLab/Video/Naveed/GPS_20_ThreeFPHoldSRTProbe/20240820/Init/Clips/Naveed_20240820_Trial038_InitView.avi\n",
      "Loading  T:/YuLab/Video/Naveed/GPS_20_ThreeFPHoldSRTProbe/20240820/Init/Clips/Naveed_20240820_Trial038_InitView.avi\n",
      "Duration of video [s]:  4.0 , recorded with  20.0 fps!\n",
      "Overall # of frames:  80  found with (before cropping) frame dimensions:  1280 1024\n",
      "Starting to extract posture\n"
     ]
    },
    {
     "name": "stderr",
     "output_type": "stream",
     "text": [
      "100%|██████████| 80/80 [00:05<00:00, 13.42it/s]\n"
     ]
    },
    {
     "name": "stdout",
     "output_type": "stream",
     "text": [
      "Saving results in T:\\YuLab\\Video\\Naveed\\GPS_20_ThreeFPHoldSRTProbe\\20240820\\Init\\Clips...\n",
      "Saving csv poses!\n",
      "Starting to analyze %  T:/YuLab/Video/Naveed/GPS_20_ThreeFPHoldSRTProbe/20240820/Init/Clips/Naveed_20240820_Trial039_InitView.avi\n",
      "Loading  T:/YuLab/Video/Naveed/GPS_20_ThreeFPHoldSRTProbe/20240820/Init/Clips/Naveed_20240820_Trial039_InitView.avi\n",
      "Duration of video [s]:  4.0 , recorded with  20.0 fps!\n",
      "Overall # of frames:  80  found with (before cropping) frame dimensions:  1280 1024\n",
      "Starting to extract posture\n"
     ]
    },
    {
     "name": "stderr",
     "output_type": "stream",
     "text": [
      "100%|██████████| 80/80 [00:06<00:00, 13.24it/s]\n"
     ]
    },
    {
     "name": "stdout",
     "output_type": "stream",
     "text": [
      "Saving results in T:\\YuLab\\Video\\Naveed\\GPS_20_ThreeFPHoldSRTProbe\\20240820\\Init\\Clips...\n",
      "Saving csv poses!\n",
      "Starting to analyze %  T:/YuLab/Video/Naveed/GPS_20_ThreeFPHoldSRTProbe/20240820/Init/Clips/Naveed_20240820_Trial040_InitView.avi\n",
      "Loading  T:/YuLab/Video/Naveed/GPS_20_ThreeFPHoldSRTProbe/20240820/Init/Clips/Naveed_20240820_Trial040_InitView.avi\n",
      "Duration of video [s]:  4.0 , recorded with  20.0 fps!\n",
      "Overall # of frames:  80  found with (before cropping) frame dimensions:  1280 1024\n",
      "Starting to extract posture\n"
     ]
    },
    {
     "name": "stderr",
     "output_type": "stream",
     "text": [
      "100%|██████████| 80/80 [00:05<00:00, 14.08it/s]\n"
     ]
    },
    {
     "name": "stdout",
     "output_type": "stream",
     "text": [
      "Saving results in T:\\YuLab\\Video\\Naveed\\GPS_20_ThreeFPHoldSRTProbe\\20240820\\Init\\Clips...\n",
      "Saving csv poses!\n",
      "Starting to analyze %  T:/YuLab/Video/Naveed/GPS_20_ThreeFPHoldSRTProbe/20240820/Init/Clips/Naveed_20240820_Trial041_InitView.avi\n",
      "Loading  T:/YuLab/Video/Naveed/GPS_20_ThreeFPHoldSRTProbe/20240820/Init/Clips/Naveed_20240820_Trial041_InitView.avi\n",
      "Duration of video [s]:  4.0 , recorded with  20.0 fps!\n",
      "Overall # of frames:  80  found with (before cropping) frame dimensions:  1280 1024\n",
      "Starting to extract posture\n"
     ]
    },
    {
     "name": "stderr",
     "output_type": "stream",
     "text": [
      "100%|██████████| 80/80 [00:05<00:00, 13.96it/s]\n"
     ]
    },
    {
     "name": "stdout",
     "output_type": "stream",
     "text": [
      "Saving results in T:\\YuLab\\Video\\Naveed\\GPS_20_ThreeFPHoldSRTProbe\\20240820\\Init\\Clips...\n",
      "Saving csv poses!\n",
      "Starting to analyze %  T:/YuLab/Video/Naveed/GPS_20_ThreeFPHoldSRTProbe/20240820/Init/Clips/Naveed_20240820_Trial042_InitView.avi\n",
      "Loading  T:/YuLab/Video/Naveed/GPS_20_ThreeFPHoldSRTProbe/20240820/Init/Clips/Naveed_20240820_Trial042_InitView.avi\n",
      "Duration of video [s]:  4.0 , recorded with  20.0 fps!\n",
      "Overall # of frames:  80  found with (before cropping) frame dimensions:  1280 1024\n",
      "Starting to extract posture\n"
     ]
    },
    {
     "name": "stderr",
     "output_type": "stream",
     "text": [
      "100%|██████████| 80/80 [00:05<00:00, 14.07it/s]\n"
     ]
    },
    {
     "name": "stdout",
     "output_type": "stream",
     "text": [
      "Saving results in T:\\YuLab\\Video\\Naveed\\GPS_20_ThreeFPHoldSRTProbe\\20240820\\Init\\Clips...\n",
      "Saving csv poses!\n",
      "Starting to analyze %  T:/YuLab/Video/Naveed/GPS_20_ThreeFPHoldSRTProbe/20240820/Init/Clips/Naveed_20240820_Trial043_InitView.avi\n",
      "Loading  T:/YuLab/Video/Naveed/GPS_20_ThreeFPHoldSRTProbe/20240820/Init/Clips/Naveed_20240820_Trial043_InitView.avi\n",
      "Duration of video [s]:  4.0 , recorded with  20.0 fps!\n",
      "Overall # of frames:  80  found with (before cropping) frame dimensions:  1280 1024\n",
      "Starting to extract posture\n"
     ]
    },
    {
     "name": "stderr",
     "output_type": "stream",
     "text": [
      "100%|██████████| 80/80 [00:05<00:00, 14.30it/s]\n"
     ]
    },
    {
     "name": "stdout",
     "output_type": "stream",
     "text": [
      "Saving results in T:\\YuLab\\Video\\Naveed\\GPS_20_ThreeFPHoldSRTProbe\\20240820\\Init\\Clips...\n",
      "Saving csv poses!\n",
      "Starting to analyze %  T:/YuLab/Video/Naveed/GPS_20_ThreeFPHoldSRTProbe/20240820/Init/Clips/Naveed_20240820_Trial044_InitView.avi\n",
      "Loading  T:/YuLab/Video/Naveed/GPS_20_ThreeFPHoldSRTProbe/20240820/Init/Clips/Naveed_20240820_Trial044_InitView.avi\n",
      "Duration of video [s]:  4.0 , recorded with  20.0 fps!\n",
      "Overall # of frames:  80  found with (before cropping) frame dimensions:  1280 1024\n",
      "Starting to extract posture\n"
     ]
    },
    {
     "name": "stderr",
     "output_type": "stream",
     "text": [
      "100%|██████████| 80/80 [00:05<00:00, 14.81it/s]\n"
     ]
    },
    {
     "name": "stdout",
     "output_type": "stream",
     "text": [
      "Saving results in T:\\YuLab\\Video\\Naveed\\GPS_20_ThreeFPHoldSRTProbe\\20240820\\Init\\Clips...\n",
      "Saving csv poses!\n",
      "Starting to analyze %  T:/YuLab/Video/Naveed/GPS_20_ThreeFPHoldSRTProbe/20240820/Init/Clips/Naveed_20240820_Trial045_InitView.avi\n",
      "Loading  T:/YuLab/Video/Naveed/GPS_20_ThreeFPHoldSRTProbe/20240820/Init/Clips/Naveed_20240820_Trial045_InitView.avi\n",
      "Duration of video [s]:  4.0 , recorded with  20.0 fps!\n",
      "Overall # of frames:  80  found with (before cropping) frame dimensions:  1280 1024\n",
      "Starting to extract posture\n"
     ]
    },
    {
     "name": "stderr",
     "output_type": "stream",
     "text": [
      "100%|██████████| 80/80 [00:05<00:00, 14.43it/s]\n"
     ]
    },
    {
     "name": "stdout",
     "output_type": "stream",
     "text": [
      "Saving results in T:\\YuLab\\Video\\Naveed\\GPS_20_ThreeFPHoldSRTProbe\\20240820\\Init\\Clips...\n",
      "Saving csv poses!\n",
      "Starting to analyze %  T:/YuLab/Video/Naveed/GPS_20_ThreeFPHoldSRTProbe/20240820/Init/Clips/Naveed_20240820_Trial046_InitView.avi\n",
      "Loading  T:/YuLab/Video/Naveed/GPS_20_ThreeFPHoldSRTProbe/20240820/Init/Clips/Naveed_20240820_Trial046_InitView.avi\n",
      "Duration of video [s]:  4.0 , recorded with  20.0 fps!\n",
      "Overall # of frames:  80  found with (before cropping) frame dimensions:  1280 1024\n",
      "Starting to extract posture\n"
     ]
    },
    {
     "name": "stderr",
     "output_type": "stream",
     "text": [
      "100%|██████████| 80/80 [00:05<00:00, 14.74it/s]\n"
     ]
    },
    {
     "name": "stdout",
     "output_type": "stream",
     "text": [
      "Saving results in T:\\YuLab\\Video\\Naveed\\GPS_20_ThreeFPHoldSRTProbe\\20240820\\Init\\Clips...\n",
      "Saving csv poses!\n",
      "Starting to analyze %  T:/YuLab/Video/Naveed/GPS_20_ThreeFPHoldSRTProbe/20240820/Init/Clips/Naveed_20240820_Trial047_InitView.avi\n",
      "Loading  T:/YuLab/Video/Naveed/GPS_20_ThreeFPHoldSRTProbe/20240820/Init/Clips/Naveed_20240820_Trial047_InitView.avi\n",
      "Duration of video [s]:  4.0 , recorded with  20.0 fps!\n",
      "Overall # of frames:  80  found with (before cropping) frame dimensions:  1280 1024\n",
      "Starting to extract posture\n"
     ]
    },
    {
     "name": "stderr",
     "output_type": "stream",
     "text": [
      "100%|██████████| 80/80 [00:05<00:00, 14.16it/s]\n"
     ]
    },
    {
     "name": "stdout",
     "output_type": "stream",
     "text": [
      "Saving results in T:\\YuLab\\Video\\Naveed\\GPS_20_ThreeFPHoldSRTProbe\\20240820\\Init\\Clips...\n",
      "Saving csv poses!\n",
      "Starting to analyze %  T:/YuLab/Video/Naveed/GPS_20_ThreeFPHoldSRTProbe/20240820/Init/Clips/Naveed_20240820_Trial048_InitView.avi\n",
      "Loading  T:/YuLab/Video/Naveed/GPS_20_ThreeFPHoldSRTProbe/20240820/Init/Clips/Naveed_20240820_Trial048_InitView.avi\n",
      "Duration of video [s]:  4.0 , recorded with  20.0 fps!\n",
      "Overall # of frames:  80  found with (before cropping) frame dimensions:  1280 1024\n",
      "Starting to extract posture\n"
     ]
    },
    {
     "name": "stderr",
     "output_type": "stream",
     "text": [
      "100%|██████████| 80/80 [00:05<00:00, 14.97it/s]\n"
     ]
    },
    {
     "name": "stdout",
     "output_type": "stream",
     "text": [
      "Saving results in T:\\YuLab\\Video\\Naveed\\GPS_20_ThreeFPHoldSRTProbe\\20240820\\Init\\Clips...\n",
      "Saving csv poses!\n",
      "Starting to analyze %  T:/YuLab/Video/Naveed/GPS_20_ThreeFPHoldSRTProbe/20240820/Init/Clips/Naveed_20240820_Trial049_InitView.avi\n",
      "Loading  T:/YuLab/Video/Naveed/GPS_20_ThreeFPHoldSRTProbe/20240820/Init/Clips/Naveed_20240820_Trial049_InitView.avi\n",
      "Duration of video [s]:  4.0 , recorded with  20.0 fps!\n",
      "Overall # of frames:  80  found with (before cropping) frame dimensions:  1280 1024\n",
      "Starting to extract posture\n"
     ]
    },
    {
     "name": "stderr",
     "output_type": "stream",
     "text": [
      "100%|██████████| 80/80 [00:05<00:00, 14.90it/s]\n"
     ]
    },
    {
     "name": "stdout",
     "output_type": "stream",
     "text": [
      "Saving results in T:\\YuLab\\Video\\Naveed\\GPS_20_ThreeFPHoldSRTProbe\\20240820\\Init\\Clips...\n",
      "Saving csv poses!\n",
      "Starting to analyze %  T:/YuLab/Video/Naveed/GPS_20_ThreeFPHoldSRTProbe/20240820/Init/Clips/Naveed_20240820_Trial050_InitView.avi\n",
      "Loading  T:/YuLab/Video/Naveed/GPS_20_ThreeFPHoldSRTProbe/20240820/Init/Clips/Naveed_20240820_Trial050_InitView.avi\n",
      "Duration of video [s]:  4.0 , recorded with  20.0 fps!\n",
      "Overall # of frames:  80  found with (before cropping) frame dimensions:  1280 1024\n",
      "Starting to extract posture\n"
     ]
    },
    {
     "name": "stderr",
     "output_type": "stream",
     "text": [
      "100%|██████████| 80/80 [00:05<00:00, 14.69it/s]\n"
     ]
    },
    {
     "name": "stdout",
     "output_type": "stream",
     "text": [
      "Saving results in T:\\YuLab\\Video\\Naveed\\GPS_20_ThreeFPHoldSRTProbe\\20240820\\Init\\Clips...\n",
      "Saving csv poses!\n",
      "Starting to analyze %  T:/YuLab/Video/Naveed/GPS_20_ThreeFPHoldSRTProbe/20240820/Init/Clips/Naveed_20240820_Trial051_InitView.avi\n",
      "Loading  T:/YuLab/Video/Naveed/GPS_20_ThreeFPHoldSRTProbe/20240820/Init/Clips/Naveed_20240820_Trial051_InitView.avi\n",
      "Duration of video [s]:  4.0 , recorded with  20.0 fps!\n",
      "Overall # of frames:  80  found with (before cropping) frame dimensions:  1280 1024\n",
      "Starting to extract posture\n"
     ]
    },
    {
     "name": "stderr",
     "output_type": "stream",
     "text": [
      "100%|██████████| 80/80 [00:05<00:00, 14.90it/s]\n"
     ]
    },
    {
     "name": "stdout",
     "output_type": "stream",
     "text": [
      "Saving results in T:\\YuLab\\Video\\Naveed\\GPS_20_ThreeFPHoldSRTProbe\\20240820\\Init\\Clips...\n",
      "Saving csv poses!\n",
      "Starting to analyze %  T:/YuLab/Video/Naveed/GPS_20_ThreeFPHoldSRTProbe/20240820/Init/Clips/Naveed_20240820_Trial052_InitView.avi\n",
      "Loading  T:/YuLab/Video/Naveed/GPS_20_ThreeFPHoldSRTProbe/20240820/Init/Clips/Naveed_20240820_Trial052_InitView.avi\n",
      "Duration of video [s]:  4.0 , recorded with  20.0 fps!\n",
      "Overall # of frames:  80  found with (before cropping) frame dimensions:  1280 1024\n",
      "Starting to extract posture\n"
     ]
    },
    {
     "name": "stderr",
     "output_type": "stream",
     "text": [
      "100%|██████████| 80/80 [00:05<00:00, 14.90it/s]\n"
     ]
    },
    {
     "name": "stdout",
     "output_type": "stream",
     "text": [
      "Saving results in T:\\YuLab\\Video\\Naveed\\GPS_20_ThreeFPHoldSRTProbe\\20240820\\Init\\Clips...\n",
      "Saving csv poses!\n",
      "Starting to analyze %  T:/YuLab/Video/Naveed/GPS_20_ThreeFPHoldSRTProbe/20240820/Init/Clips/Naveed_20240820_Trial053_InitView.avi\n",
      "Loading  T:/YuLab/Video/Naveed/GPS_20_ThreeFPHoldSRTProbe/20240820/Init/Clips/Naveed_20240820_Trial053_InitView.avi\n",
      "Duration of video [s]:  4.0 , recorded with  20.0 fps!\n",
      "Overall # of frames:  80  found with (before cropping) frame dimensions:  1280 1024\n",
      "Starting to extract posture\n"
     ]
    },
    {
     "name": "stderr",
     "output_type": "stream",
     "text": [
      "100%|██████████| 80/80 [00:05<00:00, 14.99it/s]\n"
     ]
    },
    {
     "name": "stdout",
     "output_type": "stream",
     "text": [
      "Saving results in T:\\YuLab\\Video\\Naveed\\GPS_20_ThreeFPHoldSRTProbe\\20240820\\Init\\Clips...\n",
      "Saving csv poses!\n",
      "Starting to analyze %  T:/YuLab/Video/Naveed/GPS_20_ThreeFPHoldSRTProbe/20240820/Init/Clips/Naveed_20240820_Trial054_InitView.avi\n",
      "Loading  T:/YuLab/Video/Naveed/GPS_20_ThreeFPHoldSRTProbe/20240820/Init/Clips/Naveed_20240820_Trial054_InitView.avi\n",
      "Duration of video [s]:  4.0 , recorded with  20.0 fps!\n",
      "Overall # of frames:  80  found with (before cropping) frame dimensions:  1280 1024\n",
      "Starting to extract posture\n"
     ]
    },
    {
     "name": "stderr",
     "output_type": "stream",
     "text": [
      "100%|██████████| 80/80 [00:05<00:00, 14.59it/s]\n"
     ]
    },
    {
     "name": "stdout",
     "output_type": "stream",
     "text": [
      "Saving results in T:\\YuLab\\Video\\Naveed\\GPS_20_ThreeFPHoldSRTProbe\\20240820\\Init\\Clips...\n",
      "Saving csv poses!\n",
      "Starting to analyze %  T:/YuLab/Video/Naveed/GPS_20_ThreeFPHoldSRTProbe/20240820/Init/Clips/Naveed_20240820_Trial055_InitView.avi\n",
      "Loading  T:/YuLab/Video/Naveed/GPS_20_ThreeFPHoldSRTProbe/20240820/Init/Clips/Naveed_20240820_Trial055_InitView.avi\n",
      "Duration of video [s]:  4.0 , recorded with  20.0 fps!\n",
      "Overall # of frames:  80  found with (before cropping) frame dimensions:  1280 1024\n",
      "Starting to extract posture\n"
     ]
    },
    {
     "name": "stderr",
     "output_type": "stream",
     "text": [
      "100%|██████████| 80/80 [00:05<00:00, 14.86it/s]\n"
     ]
    },
    {
     "name": "stdout",
     "output_type": "stream",
     "text": [
      "Saving results in T:\\YuLab\\Video\\Naveed\\GPS_20_ThreeFPHoldSRTProbe\\20240820\\Init\\Clips...\n",
      "Saving csv poses!\n",
      "Starting to analyze %  T:/YuLab/Video/Naveed/GPS_20_ThreeFPHoldSRTProbe/20240820/Init/Clips/Naveed_20240820_Trial056_InitView.avi\n",
      "Loading  T:/YuLab/Video/Naveed/GPS_20_ThreeFPHoldSRTProbe/20240820/Init/Clips/Naveed_20240820_Trial056_InitView.avi\n",
      "Duration of video [s]:  4.0 , recorded with  20.0 fps!\n",
      "Overall # of frames:  80  found with (before cropping) frame dimensions:  1280 1024\n",
      "Starting to extract posture\n"
     ]
    },
    {
     "name": "stderr",
     "output_type": "stream",
     "text": [
      "100%|██████████| 80/80 [00:05<00:00, 15.16it/s]\n"
     ]
    },
    {
     "name": "stdout",
     "output_type": "stream",
     "text": [
      "Saving results in T:\\YuLab\\Video\\Naveed\\GPS_20_ThreeFPHoldSRTProbe\\20240820\\Init\\Clips...\n",
      "Saving csv poses!\n",
      "Starting to analyze %  T:/YuLab/Video/Naveed/GPS_20_ThreeFPHoldSRTProbe/20240820/Init/Clips/Naveed_20240820_Trial057_InitView.avi\n",
      "Loading  T:/YuLab/Video/Naveed/GPS_20_ThreeFPHoldSRTProbe/20240820/Init/Clips/Naveed_20240820_Trial057_InitView.avi\n",
      "Duration of video [s]:  4.0 , recorded with  20.0 fps!\n",
      "Overall # of frames:  80  found with (before cropping) frame dimensions:  1280 1024\n",
      "Starting to extract posture\n"
     ]
    },
    {
     "name": "stderr",
     "output_type": "stream",
     "text": [
      "100%|██████████| 80/80 [00:05<00:00, 14.93it/s]\n"
     ]
    },
    {
     "name": "stdout",
     "output_type": "stream",
     "text": [
      "Saving results in T:\\YuLab\\Video\\Naveed\\GPS_20_ThreeFPHoldSRTProbe\\20240820\\Init\\Clips...\n",
      "Saving csv poses!\n",
      "Starting to analyze %  T:/YuLab/Video/Naveed/GPS_20_ThreeFPHoldSRTProbe/20240820/Init/Clips/Naveed_20240820_Trial058_InitView.avi\n",
      "Loading  T:/YuLab/Video/Naveed/GPS_20_ThreeFPHoldSRTProbe/20240820/Init/Clips/Naveed_20240820_Trial058_InitView.avi\n",
      "Duration of video [s]:  4.0 , recorded with  20.0 fps!\n",
      "Overall # of frames:  80  found with (before cropping) frame dimensions:  1280 1024\n",
      "Starting to extract posture\n"
     ]
    },
    {
     "name": "stderr",
     "output_type": "stream",
     "text": [
      "100%|██████████| 80/80 [00:05<00:00, 14.95it/s]\n"
     ]
    },
    {
     "name": "stdout",
     "output_type": "stream",
     "text": [
      "Saving results in T:\\YuLab\\Video\\Naveed\\GPS_20_ThreeFPHoldSRTProbe\\20240820\\Init\\Clips...\n",
      "Saving csv poses!\n",
      "Starting to analyze %  T:/YuLab/Video/Naveed/GPS_20_ThreeFPHoldSRTProbe/20240820/Init/Clips/Naveed_20240820_Trial059_InitView.avi\n",
      "Loading  T:/YuLab/Video/Naveed/GPS_20_ThreeFPHoldSRTProbe/20240820/Init/Clips/Naveed_20240820_Trial059_InitView.avi\n",
      "Duration of video [s]:  4.0 , recorded with  20.0 fps!\n",
      "Overall # of frames:  80  found with (before cropping) frame dimensions:  1280 1024\n",
      "Starting to extract posture\n"
     ]
    },
    {
     "name": "stderr",
     "output_type": "stream",
     "text": [
      "100%|██████████| 80/80 [00:05<00:00, 15.14it/s]\n"
     ]
    },
    {
     "name": "stdout",
     "output_type": "stream",
     "text": [
      "Saving results in T:\\YuLab\\Video\\Naveed\\GPS_20_ThreeFPHoldSRTProbe\\20240820\\Init\\Clips...\n",
      "Saving csv poses!\n",
      "Starting to analyze %  T:/YuLab/Video/Naveed/GPS_20_ThreeFPHoldSRTProbe/20240820/Init/Clips/Naveed_20240820_Trial060_InitView.avi\n",
      "Loading  T:/YuLab/Video/Naveed/GPS_20_ThreeFPHoldSRTProbe/20240820/Init/Clips/Naveed_20240820_Trial060_InitView.avi\n",
      "Duration of video [s]:  4.0 , recorded with  20.0 fps!\n",
      "Overall # of frames:  80  found with (before cropping) frame dimensions:  1280 1024\n",
      "Starting to extract posture\n"
     ]
    },
    {
     "name": "stderr",
     "output_type": "stream",
     "text": [
      "100%|██████████| 80/80 [00:05<00:00, 15.33it/s]\n"
     ]
    },
    {
     "name": "stdout",
     "output_type": "stream",
     "text": [
      "Saving results in T:\\YuLab\\Video\\Naveed\\GPS_20_ThreeFPHoldSRTProbe\\20240820\\Init\\Clips...\n",
      "Saving csv poses!\n",
      "Starting to analyze %  T:/YuLab/Video/Naveed/GPS_20_ThreeFPHoldSRTProbe/20240820/Init/Clips/Naveed_20240820_Trial061_InitView.avi\n",
      "Loading  T:/YuLab/Video/Naveed/GPS_20_ThreeFPHoldSRTProbe/20240820/Init/Clips/Naveed_20240820_Trial061_InitView.avi\n",
      "Duration of video [s]:  4.0 , recorded with  20.0 fps!\n",
      "Overall # of frames:  80  found with (before cropping) frame dimensions:  1280 1024\n",
      "Starting to extract posture\n"
     ]
    },
    {
     "name": "stderr",
     "output_type": "stream",
     "text": [
      "100%|██████████| 80/80 [00:05<00:00, 14.47it/s]\n"
     ]
    },
    {
     "name": "stdout",
     "output_type": "stream",
     "text": [
      "Saving results in T:\\YuLab\\Video\\Naveed\\GPS_20_ThreeFPHoldSRTProbe\\20240820\\Init\\Clips...\n",
      "Saving csv poses!\n",
      "Starting to analyze %  T:/YuLab/Video/Naveed/GPS_20_ThreeFPHoldSRTProbe/20240820/Init/Clips/Naveed_20240820_Trial062_InitView.avi\n",
      "Loading  T:/YuLab/Video/Naveed/GPS_20_ThreeFPHoldSRTProbe/20240820/Init/Clips/Naveed_20240820_Trial062_InitView.avi\n",
      "Duration of video [s]:  4.0 , recorded with  20.0 fps!\n",
      "Overall # of frames:  80  found with (before cropping) frame dimensions:  1280 1024\n",
      "Starting to extract posture\n"
     ]
    },
    {
     "name": "stderr",
     "output_type": "stream",
     "text": [
      "100%|██████████| 80/80 [00:05<00:00, 15.11it/s]\n"
     ]
    },
    {
     "name": "stdout",
     "output_type": "stream",
     "text": [
      "Saving results in T:\\YuLab\\Video\\Naveed\\GPS_20_ThreeFPHoldSRTProbe\\20240820\\Init\\Clips...\n",
      "Saving csv poses!\n",
      "Starting to analyze %  T:/YuLab/Video/Naveed/GPS_20_ThreeFPHoldSRTProbe/20240820/Init/Clips/Naveed_20240820_Trial063_InitView.avi\n",
      "Loading  T:/YuLab/Video/Naveed/GPS_20_ThreeFPHoldSRTProbe/20240820/Init/Clips/Naveed_20240820_Trial063_InitView.avi\n",
      "Duration of video [s]:  4.0 , recorded with  20.0 fps!\n",
      "Overall # of frames:  80  found with (before cropping) frame dimensions:  1280 1024\n",
      "Starting to extract posture\n"
     ]
    },
    {
     "name": "stderr",
     "output_type": "stream",
     "text": [
      "100%|██████████| 80/80 [00:05<00:00, 15.25it/s]\n"
     ]
    },
    {
     "name": "stdout",
     "output_type": "stream",
     "text": [
      "Saving results in T:\\YuLab\\Video\\Naveed\\GPS_20_ThreeFPHoldSRTProbe\\20240820\\Init\\Clips...\n",
      "Saving csv poses!\n",
      "Starting to analyze %  T:/YuLab/Video/Naveed/GPS_20_ThreeFPHoldSRTProbe/20240820/Init/Clips/Naveed_20240820_Trial064_InitView.avi\n",
      "Loading  T:/YuLab/Video/Naveed/GPS_20_ThreeFPHoldSRTProbe/20240820/Init/Clips/Naveed_20240820_Trial064_InitView.avi\n",
      "Duration of video [s]:  4.0 , recorded with  20.0 fps!\n",
      "Overall # of frames:  80  found with (before cropping) frame dimensions:  1280 1024\n",
      "Starting to extract posture\n"
     ]
    },
    {
     "name": "stderr",
     "output_type": "stream",
     "text": [
      "100%|██████████| 80/80 [00:05<00:00, 14.77it/s]\n"
     ]
    },
    {
     "name": "stdout",
     "output_type": "stream",
     "text": [
      "Saving results in T:\\YuLab\\Video\\Naveed\\GPS_20_ThreeFPHoldSRTProbe\\20240820\\Init\\Clips...\n",
      "Saving csv poses!\n",
      "Starting to analyze %  T:/YuLab/Video/Naveed/GPS_20_ThreeFPHoldSRTProbe/20240820/Init/Clips/Naveed_20240820_Trial065_InitView.avi\n",
      "Loading  T:/YuLab/Video/Naveed/GPS_20_ThreeFPHoldSRTProbe/20240820/Init/Clips/Naveed_20240820_Trial065_InitView.avi\n",
      "Duration of video [s]:  4.0 , recorded with  20.0 fps!\n",
      "Overall # of frames:  80  found with (before cropping) frame dimensions:  1280 1024\n",
      "Starting to extract posture\n"
     ]
    },
    {
     "name": "stderr",
     "output_type": "stream",
     "text": [
      "100%|██████████| 80/80 [00:05<00:00, 14.89it/s]\n"
     ]
    },
    {
     "name": "stdout",
     "output_type": "stream",
     "text": [
      "Saving results in T:\\YuLab\\Video\\Naveed\\GPS_20_ThreeFPHoldSRTProbe\\20240820\\Init\\Clips...\n",
      "Saving csv poses!\n",
      "Starting to analyze %  T:/YuLab/Video/Naveed/GPS_20_ThreeFPHoldSRTProbe/20240820/Init/Clips/Naveed_20240820_Trial066_InitView.avi\n",
      "Loading  T:/YuLab/Video/Naveed/GPS_20_ThreeFPHoldSRTProbe/20240820/Init/Clips/Naveed_20240820_Trial066_InitView.avi\n",
      "Duration of video [s]:  4.0 , recorded with  20.0 fps!\n",
      "Overall # of frames:  80  found with (before cropping) frame dimensions:  1280 1024\n",
      "Starting to extract posture\n"
     ]
    },
    {
     "name": "stderr",
     "output_type": "stream",
     "text": [
      "100%|██████████| 80/80 [00:05<00:00, 15.07it/s]\n"
     ]
    },
    {
     "name": "stdout",
     "output_type": "stream",
     "text": [
      "Saving results in T:\\YuLab\\Video\\Naveed\\GPS_20_ThreeFPHoldSRTProbe\\20240820\\Init\\Clips...\n",
      "Saving csv poses!\n",
      "Starting to analyze %  T:/YuLab/Video/Naveed/GPS_20_ThreeFPHoldSRTProbe/20240820/Init/Clips/Naveed_20240820_Trial067_InitView.avi\n",
      "Loading  T:/YuLab/Video/Naveed/GPS_20_ThreeFPHoldSRTProbe/20240820/Init/Clips/Naveed_20240820_Trial067_InitView.avi\n",
      "Duration of video [s]:  4.0 , recorded with  20.0 fps!\n",
      "Overall # of frames:  80  found with (before cropping) frame dimensions:  1280 1024\n",
      "Starting to extract posture\n"
     ]
    },
    {
     "name": "stderr",
     "output_type": "stream",
     "text": [
      "100%|██████████| 80/80 [00:05<00:00, 14.91it/s]\n"
     ]
    },
    {
     "name": "stdout",
     "output_type": "stream",
     "text": [
      "Saving results in T:\\YuLab\\Video\\Naveed\\GPS_20_ThreeFPHoldSRTProbe\\20240820\\Init\\Clips...\n",
      "Saving csv poses!\n",
      "Starting to analyze %  T:/YuLab/Video/Naveed/GPS_20_ThreeFPHoldSRTProbe/20240820/Init/Clips/Naveed_20240820_Trial068_InitView.avi\n",
      "Loading  T:/YuLab/Video/Naveed/GPS_20_ThreeFPHoldSRTProbe/20240820/Init/Clips/Naveed_20240820_Trial068_InitView.avi\n",
      "Duration of video [s]:  4.0 , recorded with  20.0 fps!\n",
      "Overall # of frames:  80  found with (before cropping) frame dimensions:  1280 1024\n",
      "Starting to extract posture\n"
     ]
    },
    {
     "name": "stderr",
     "output_type": "stream",
     "text": [
      "100%|██████████| 80/80 [00:05<00:00, 15.06it/s]\n"
     ]
    },
    {
     "name": "stdout",
     "output_type": "stream",
     "text": [
      "Saving results in T:\\YuLab\\Video\\Naveed\\GPS_20_ThreeFPHoldSRTProbe\\20240820\\Init\\Clips...\n",
      "Saving csv poses!\n",
      "Starting to analyze %  T:/YuLab/Video/Naveed/GPS_20_ThreeFPHoldSRTProbe/20240820/Init/Clips/Naveed_20240820_Trial069_InitView.avi\n",
      "Loading  T:/YuLab/Video/Naveed/GPS_20_ThreeFPHoldSRTProbe/20240820/Init/Clips/Naveed_20240820_Trial069_InitView.avi\n",
      "Duration of video [s]:  4.0 , recorded with  20.0 fps!\n",
      "Overall # of frames:  80  found with (before cropping) frame dimensions:  1280 1024\n",
      "Starting to extract posture\n"
     ]
    },
    {
     "name": "stderr",
     "output_type": "stream",
     "text": [
      "100%|██████████| 80/80 [00:05<00:00, 15.21it/s]\n"
     ]
    },
    {
     "name": "stdout",
     "output_type": "stream",
     "text": [
      "Saving results in T:\\YuLab\\Video\\Naveed\\GPS_20_ThreeFPHoldSRTProbe\\20240820\\Init\\Clips...\n",
      "Saving csv poses!\n",
      "Starting to analyze %  T:/YuLab/Video/Naveed/GPS_20_ThreeFPHoldSRTProbe/20240820/Init/Clips/Naveed_20240820_Trial070_InitView.avi\n",
      "Loading  T:/YuLab/Video/Naveed/GPS_20_ThreeFPHoldSRTProbe/20240820/Init/Clips/Naveed_20240820_Trial070_InitView.avi\n",
      "Duration of video [s]:  4.0 , recorded with  20.0 fps!\n",
      "Overall # of frames:  80  found with (before cropping) frame dimensions:  1280 1024\n",
      "Starting to extract posture\n"
     ]
    },
    {
     "name": "stderr",
     "output_type": "stream",
     "text": [
      "100%|██████████| 80/80 [00:05<00:00, 14.98it/s]\n"
     ]
    },
    {
     "name": "stdout",
     "output_type": "stream",
     "text": [
      "Saving results in T:\\YuLab\\Video\\Naveed\\GPS_20_ThreeFPHoldSRTProbe\\20240820\\Init\\Clips...\n",
      "Saving csv poses!\n",
      "Starting to analyze %  T:/YuLab/Video/Naveed/GPS_20_ThreeFPHoldSRTProbe/20240820/Init/Clips/Naveed_20240820_Trial071_InitView.avi\n",
      "Loading  T:/YuLab/Video/Naveed/GPS_20_ThreeFPHoldSRTProbe/20240820/Init/Clips/Naveed_20240820_Trial071_InitView.avi\n",
      "Duration of video [s]:  4.0 , recorded with  20.0 fps!\n",
      "Overall # of frames:  80  found with (before cropping) frame dimensions:  1280 1024\n",
      "Starting to extract posture\n"
     ]
    },
    {
     "name": "stderr",
     "output_type": "stream",
     "text": [
      "100%|██████████| 80/80 [00:05<00:00, 15.27it/s]\n"
     ]
    },
    {
     "name": "stdout",
     "output_type": "stream",
     "text": [
      "Saving results in T:\\YuLab\\Video\\Naveed\\GPS_20_ThreeFPHoldSRTProbe\\20240820\\Init\\Clips...\n",
      "Saving csv poses!\n",
      "Starting to analyze %  T:/YuLab/Video/Naveed/GPS_20_ThreeFPHoldSRTProbe/20240820/Init/Clips/Naveed_20240820_Trial072_InitView.avi\n",
      "Loading  T:/YuLab/Video/Naveed/GPS_20_ThreeFPHoldSRTProbe/20240820/Init/Clips/Naveed_20240820_Trial072_InitView.avi\n",
      "Duration of video [s]:  4.0 , recorded with  20.0 fps!\n",
      "Overall # of frames:  80  found with (before cropping) frame dimensions:  1280 1024\n",
      "Starting to extract posture\n"
     ]
    },
    {
     "name": "stderr",
     "output_type": "stream",
     "text": [
      "100%|██████████| 80/80 [00:05<00:00, 15.25it/s]\n"
     ]
    },
    {
     "name": "stdout",
     "output_type": "stream",
     "text": [
      "Saving results in T:\\YuLab\\Video\\Naveed\\GPS_20_ThreeFPHoldSRTProbe\\20240820\\Init\\Clips...\n",
      "Saving csv poses!\n",
      "Starting to analyze %  T:/YuLab/Video/Naveed/GPS_20_ThreeFPHoldSRTProbe/20240820/Init/Clips/Naveed_20240820_Trial073_InitView.avi\n",
      "Loading  T:/YuLab/Video/Naveed/GPS_20_ThreeFPHoldSRTProbe/20240820/Init/Clips/Naveed_20240820_Trial073_InitView.avi\n",
      "Duration of video [s]:  4.0 , recorded with  20.0 fps!\n",
      "Overall # of frames:  80  found with (before cropping) frame dimensions:  1280 1024\n",
      "Starting to extract posture\n"
     ]
    },
    {
     "name": "stderr",
     "output_type": "stream",
     "text": [
      "100%|██████████| 80/80 [00:05<00:00, 15.19it/s]\n"
     ]
    },
    {
     "name": "stdout",
     "output_type": "stream",
     "text": [
      "Saving results in T:\\YuLab\\Video\\Naveed\\GPS_20_ThreeFPHoldSRTProbe\\20240820\\Init\\Clips...\n",
      "Saving csv poses!\n",
      "Starting to analyze %  T:/YuLab/Video/Naveed/GPS_20_ThreeFPHoldSRTProbe/20240820/Init/Clips/Naveed_20240820_Trial074_InitView.avi\n",
      "Loading  T:/YuLab/Video/Naveed/GPS_20_ThreeFPHoldSRTProbe/20240820/Init/Clips/Naveed_20240820_Trial074_InitView.avi\n",
      "Duration of video [s]:  4.0 , recorded with  20.0 fps!\n",
      "Overall # of frames:  80  found with (before cropping) frame dimensions:  1280 1024\n",
      "Starting to extract posture\n"
     ]
    },
    {
     "name": "stderr",
     "output_type": "stream",
     "text": [
      "100%|██████████| 80/80 [00:05<00:00, 14.81it/s]\n"
     ]
    },
    {
     "name": "stdout",
     "output_type": "stream",
     "text": [
      "Saving results in T:\\YuLab\\Video\\Naveed\\GPS_20_ThreeFPHoldSRTProbe\\20240820\\Init\\Clips...\n",
      "Saving csv poses!\n",
      "Starting to analyze %  T:/YuLab/Video/Naveed/GPS_20_ThreeFPHoldSRTProbe/20240820/Init/Clips/Naveed_20240820_Trial075_InitView.avi\n",
      "Loading  T:/YuLab/Video/Naveed/GPS_20_ThreeFPHoldSRTProbe/20240820/Init/Clips/Naveed_20240820_Trial075_InitView.avi\n",
      "Duration of video [s]:  4.0 , recorded with  20.0 fps!\n",
      "Overall # of frames:  80  found with (before cropping) frame dimensions:  1280 1024\n",
      "Starting to extract posture\n"
     ]
    },
    {
     "name": "stderr",
     "output_type": "stream",
     "text": [
      "100%|██████████| 80/80 [00:05<00:00, 14.86it/s]\n"
     ]
    },
    {
     "name": "stdout",
     "output_type": "stream",
     "text": [
      "Saving results in T:\\YuLab\\Video\\Naveed\\GPS_20_ThreeFPHoldSRTProbe\\20240820\\Init\\Clips...\n",
      "Saving csv poses!\n",
      "The videos are analyzed. Now your research can truly start! \n",
      " You can create labeled videos with 'create_labeled_video'\n",
      "If the tracking is not satisfactory for some videos, consider expanding the training set. You can use the function 'extract_outlier_frames' to extract a few representative outlier frames.\n"
     ]
    },
    {
     "data": {
      "text/plain": [
       "'DLC_resnet50_MoradInitGPSNov9shuffle1_1200000'"
      ]
     },
     "execution_count": 17,
     "metadata": {},
     "output_type": "execute_result"
    }
   ],
   "source": [
    "deeplabcut.analyze_videos(config=config_path, videos=video_files, videotype='avi', shuffle=1, save_as_csv=True)"
   ]
  },
  {
   "cell_type": "code",
   "execution_count": 18,
   "metadata": {},
   "outputs": [
    {
     "name": "stdout",
     "output_type": "stream",
     "text": [
      "Loading  T:/YuLab/Video/Naveed/GPS_20_ThreeFPHoldSRTProbe/20240731/Init/Clips/Naveed_20240731_Trial011_InitView.avi and data.\n",
      "Loading  T:/YuLab/Video/Naveed/GPS_20_ThreeFPHoldSRTProbe/20240731/Init/Clips/Naveed_20240731_Trial012_InitView.avi and data.\n",
      "Loading  T:/YuLab/Video/Naveed/GPS_20_ThreeFPHoldSRTProbe/20240731/Init/Clips/Naveed_20240731_Trial013_InitView.avi and data.\n",
      "Loading  T:/YuLab/Video/Naveed/GPS_20_ThreeFPHoldSRTProbe/20240731/Init/Clips/Naveed_20240731_Trial014_InitView.avi and data.\n",
      "Loading  T:/YuLab/Video/Naveed/GPS_20_ThreeFPHoldSRTProbe/20240731/Init/Clips/Naveed_20240731_Trial015_InitView.avi and data.\n",
      "Loading  T:/YuLab/Video/Naveed/GPS_20_ThreeFPHoldSRTProbe/20240731/Init/Clips/Naveed_20240731_Trial016_InitView.avi and data.\n",
      "Loading  T:/YuLab/Video/Naveed/GPS_20_ThreeFPHoldSRTProbe/20240731/Init/Clips/Naveed_20240731_Trial017_InitView.avi and data.\n",
      "Loading  T:/YuLab/Video/Naveed/GPS_20_ThreeFPHoldSRTProbe/20240731/Init/Clips/Naveed_20240731_Trial018_InitView.avi and data.\n",
      "Loading  T:/YuLab/Video/Naveed/GPS_20_ThreeFPHoldSRTProbe/20240731/Init/Clips/Naveed_20240731_Trial019_InitView.avi and data.\n",
      "Loading  T:/YuLab/Video/Naveed/GPS_20_ThreeFPHoldSRTProbe/20240731/Init/Clips/Naveed_20240731_Trial020_InitView.avi and data.\n",
      "Loading  T:/YuLab/Video/Naveed/GPS_20_ThreeFPHoldSRTProbe/20240731/Init/Clips/Naveed_20240731_Trial021_InitView.avi and data.\n",
      "Loading  T:/YuLab/Video/Naveed/GPS_20_ThreeFPHoldSRTProbe/20240731/Init/Clips/Naveed_20240731_Trial022_InitView.avi and data.\n",
      "Loading  T:/YuLab/Video/Naveed/GPS_20_ThreeFPHoldSRTProbe/20240731/Init/Clips/Naveed_20240731_Trial023_InitView.avi and data.\n",
      "Loading  T:/YuLab/Video/Naveed/GPS_20_ThreeFPHoldSRTProbe/20240731/Init/Clips/Naveed_20240731_Trial024_InitView.avi and data.\n",
      "Loading  T:/YuLab/Video/Naveed/GPS_20_ThreeFPHoldSRTProbe/20240731/Init/Clips/Naveed_20240731_Trial025_InitView.avi and data.\n",
      "Loading  T:/YuLab/Video/Naveed/GPS_20_ThreeFPHoldSRTProbe/20240731/Init/Clips/Naveed_20240731_Trial026_InitView.avi and data.\n",
      "Loading  T:/YuLab/Video/Naveed/GPS_20_ThreeFPHoldSRTProbe/20240731/Init/Clips/Naveed_20240731_Trial027_InitView.avi and data.\n",
      "Loading  T:/YuLab/Video/Naveed/GPS_20_ThreeFPHoldSRTProbe/20240731/Init/Clips/Naveed_20240731_Trial028_InitView.avi and data.\n",
      "Loading  T:/YuLab/Video/Naveed/GPS_20_ThreeFPHoldSRTProbe/20240731/Init/Clips/Naveed_20240731_Trial029_InitView.avi and data.\n",
      "Loading  T:/YuLab/Video/Naveed/GPS_20_ThreeFPHoldSRTProbe/20240731/Init/Clips/Naveed_20240731_Trial030_InitView.avi and data.\n",
      "Loading  T:/YuLab/Video/Naveed/GPS_20_ThreeFPHoldSRTProbe/20240731/Init/Clips/Naveed_20240731_Trial031_InitView.avi and data.\n",
      "Loading  T:/YuLab/Video/Naveed/GPS_20_ThreeFPHoldSRTProbe/20240731/Init/Clips/Naveed_20240731_Trial032_InitView.avi and data.\n",
      "Loading  T:/YuLab/Video/Naveed/GPS_20_ThreeFPHoldSRTProbe/20240731/Init/Clips/Naveed_20240731_Trial033_InitView.avi and data.\n",
      "Loading  T:/YuLab/Video/Naveed/GPS_20_ThreeFPHoldSRTProbe/20240731/Init/Clips/Naveed_20240731_Trial034_InitView.avi and data.\n",
      "Loading  T:/YuLab/Video/Naveed/GPS_20_ThreeFPHoldSRTProbe/20240731/Init/Clips/Naveed_20240731_Trial035_InitView.avi and data.\n",
      "Loading  T:/YuLab/Video/Naveed/GPS_20_ThreeFPHoldSRTProbe/20240731/Init/Clips/Naveed_20240731_Trial036_InitView.avi and data.\n",
      "Loading  T:/YuLab/Video/Naveed/GPS_20_ThreeFPHoldSRTProbe/20240731/Init/Clips/Naveed_20240731_Trial038_InitView.avi and data.\n",
      "Loading  T:/YuLab/Video/Naveed/GPS_20_ThreeFPHoldSRTProbe/20240731/Init/Clips/Naveed_20240731_Trial039_InitView.avi and data.\n",
      "Loading  T:/YuLab/Video/Naveed/GPS_20_ThreeFPHoldSRTProbe/20240731/Init/Clips/Naveed_20240731_Trial040_InitView.avi and data.\n",
      "Loading  T:/YuLab/Video/Naveed/GPS_20_ThreeFPHoldSRTProbe/20240731/Init/Clips/Naveed_20240731_Trial041_InitView.avi and data.\n",
      "Loading  T:/YuLab/Video/Naveed/GPS_20_ThreeFPHoldSRTProbe/20240731/Init/Clips/Naveed_20240731_Trial042_InitView.avi and data.\n",
      "Loading  T:/YuLab/Video/Naveed/GPS_20_ThreeFPHoldSRTProbe/20240731/Init/Clips/Naveed_20240731_Trial043_InitView.avi and data.\n",
      "Loading  T:/YuLab/Video/Naveed/GPS_20_ThreeFPHoldSRTProbe/20240731/Init/Clips/Naveed_20240731_Trial044_InitView.avi and data.\n",
      "Loading  T:/YuLab/Video/Naveed/GPS_20_ThreeFPHoldSRTProbe/20240731/Init/Clips/Naveed_20240731_Trial045_InitView.avi and data.\n",
      "Loading  T:/YuLab/Video/Naveed/GPS_20_ThreeFPHoldSRTProbe/20240731/Init/Clips/Naveed_20240731_Trial046_InitView.avi and data.\n",
      "Loading  T:/YuLab/Video/Naveed/GPS_20_ThreeFPHoldSRTProbe/20240731/Init/Clips/Naveed_20240731_Trial047_InitView.avi and data.\n",
      "Loading  T:/YuLab/Video/Naveed/GPS_20_ThreeFPHoldSRTProbe/20240731/Init/Clips/Naveed_20240731_Trial048_InitView.avi and data.\n",
      "Loading  T:/YuLab/Video/Naveed/GPS_20_ThreeFPHoldSRTProbe/20240731/Init/Clips/Naveed_20240731_Trial049_InitView.avi and data.\n",
      "Loading  T:/YuLab/Video/Naveed/GPS_20_ThreeFPHoldSRTProbe/20240731/Init/Clips/Naveed_20240731_Trial050_InitView.avi and data.\n",
      "Loading  T:/YuLab/Video/Naveed/GPS_20_ThreeFPHoldSRTProbe/20240731/Init/Clips/Naveed_20240731_Trial051_InitView.avi and data.\n",
      "Loading  T:/YuLab/Video/Naveed/GPS_20_ThreeFPHoldSRTProbe/20240731/Init/Clips/Naveed_20240731_Trial052_InitView.avi and data.\n",
      "Loading  T:/YuLab/Video/Naveed/GPS_20_ThreeFPHoldSRTProbe/20240731/Init/Clips/Naveed_20240731_Trial053_InitView.avi and data.\n",
      "Loading  T:/YuLab/Video/Naveed/GPS_20_ThreeFPHoldSRTProbe/20240731/Init/Clips/Naveed_20240731_Trial054_InitView.avi and data.\n",
      "Loading  T:/YuLab/Video/Naveed/GPS_20_ThreeFPHoldSRTProbe/20240731/Init/Clips/Naveed_20240731_Trial055_InitView.avi and data.\n",
      "Loading  T:/YuLab/Video/Naveed/GPS_20_ThreeFPHoldSRTProbe/20240731/Init/Clips/Naveed_20240731_Trial056_InitView.avi and data.\n",
      "Loading  T:/YuLab/Video/Naveed/GPS_20_ThreeFPHoldSRTProbe/20240731/Init/Clips/Naveed_20240731_Trial057_InitView.avi and data.\n",
      "Loading  T:/YuLab/Video/Naveed/GPS_20_ThreeFPHoldSRTProbe/20240731/Init/Clips/Naveed_20240731_Trial058_InitView.avi and data.\n",
      "Loading  T:/YuLab/Video/Naveed/GPS_20_ThreeFPHoldSRTProbe/20240731/Init/Clips/Naveed_20240731_Trial059_InitView.avi and data.\n",
      "Loading  T:/YuLab/Video/Naveed/GPS_20_ThreeFPHoldSRTProbe/20240731/Init/Clips/Naveed_20240731_Trial060_InitView.avi and data.\n",
      "Loading  T:/YuLab/Video/Naveed/GPS_20_ThreeFPHoldSRTProbe/20240731/Init/Clips/Naveed_20240731_Trial061_InitView.avi and data.\n",
      "Loading  T:/YuLab/Video/Naveed/GPS_20_ThreeFPHoldSRTProbe/20240731/Init/Clips/Naveed_20240731_Trial062_InitView.avi and data.\n",
      "Loading  T:/YuLab/Video/Naveed/GPS_20_ThreeFPHoldSRTProbe/20240731/Init/Clips/Naveed_20240731_Trial063_InitView.avi and data.\n",
      "Loading  T:/YuLab/Video/Naveed/GPS_20_ThreeFPHoldSRTProbe/20240731/Init/Clips/Naveed_20240731_Trial064_InitView.avi and data.\n",
      "Loading  T:/YuLab/Video/Naveed/GPS_20_ThreeFPHoldSRTProbe/20240731/Init/Clips/Naveed_20240731_Trial065_InitView.avi and data.\n",
      "Loading  T:/YuLab/Video/Naveed/GPS_20_ThreeFPHoldSRTProbe/20240731/Init/Clips/Naveed_20240731_Trial066_InitView.avi and data.\n",
      "Loading  T:/YuLab/Video/Naveed/GPS_20_ThreeFPHoldSRTProbe/20240731/Init/Clips/Naveed_20240731_Trial067_InitView.avi and data.\n",
      "Loading  T:/YuLab/Video/Naveed/GPS_20_ThreeFPHoldSRTProbe/20240731/Init/Clips/Naveed_20240731_Trial068_InitView.avi and data.\n",
      "Loading  T:/YuLab/Video/Naveed/GPS_20_ThreeFPHoldSRTProbe/20240731/Init/Clips/Naveed_20240731_Trial069_InitView.avi and data.\n",
      "Loading  T:/YuLab/Video/Naveed/GPS_20_ThreeFPHoldSRTProbe/20240731/Init/Clips/Naveed_20240731_Trial070_InitView.avi and data.\n",
      "Loading  T:/YuLab/Video/Naveed/GPS_20_ThreeFPHoldSRTProbe/20240731/Init/Clips/Naveed_20240731_Trial071_InitView.avi and data.\n",
      "Loading  T:/YuLab/Video/Naveed/GPS_20_ThreeFPHoldSRTProbe/20240731/Init/Clips/Naveed_20240731_Trial072_InitView.avi and data.\n",
      "Loading  T:/YuLab/Video/Naveed/GPS_20_ThreeFPHoldSRTProbe/20240731/Init/Clips/Naveed_20240731_Trial073_InitView.avi and data.\n",
      "Loading  T:/YuLab/Video/Naveed/GPS_20_ThreeFPHoldSRTProbe/20240731/Init/Clips/Naveed_20240731_Trial074_InitView.avi and data.\n",
      "Loading  T:/YuLab/Video/Naveed/GPS_20_ThreeFPHoldSRTProbe/20240731/Init/Clips/Naveed_20240731_Trial075_InitView.avi and data.\n",
      "Loading  T:/YuLab/Video/Naveed/GPS_20_ThreeFPHoldSRTProbe/20240731/Init/Clips/Naveed_20240731_Trial076_InitView.avi and data.\n",
      "Loading  T:/YuLab/Video/Naveed/GPS_20_ThreeFPHoldSRTProbe/20240731/Init/Clips/Naveed_20240731_Trial077_InitView.avi and data.\n",
      "Loading  T:/YuLab/Video/Naveed/GPS_20_ThreeFPHoldSRTProbe/20240731/Init/Clips/Naveed_20240731_Trial078_InitView.avi and data.\n",
      "Loading  T:/YuLab/Video/Naveed/GPS_20_ThreeFPHoldSRTProbe/20240731/Init/Clips/Naveed_20240731_Trial079_InitView.avi and data.\n",
      "Loading  T:/YuLab/Video/Naveed/GPS_20_ThreeFPHoldSRTProbe/20240731/Init/Clips/Naveed_20240731_Trial080_InitView.avi and data.\n",
      "Loading  T:/YuLab/Video/Naveed/GPS_20_ThreeFPHoldSRTProbe/20240731/Init/Clips/Naveed_20240731_Trial081_InitView.avi and data.\n",
      "Loading  T:/YuLab/Video/Naveed/GPS_20_ThreeFPHoldSRTProbe/20240731/Init/Clips/Naveed_20240731_Trial082_InitView.avi and data.\n",
      "Loading  T:/YuLab/Video/Naveed/GPS_20_ThreeFPHoldSRTProbe/20240731/Init/Clips/Naveed_20240731_Trial083_InitView.avi and data.\n",
      "Loading  T:/YuLab/Video/Naveed/GPS_20_ThreeFPHoldSRTProbe/20240731/Init/Clips/Naveed_20240731_Trial084_InitView.avi and data.\n",
      "Loading  T:/YuLab/Video/Naveed/GPS_20_ThreeFPHoldSRTProbe/20240731/Init/Clips/Naveed_20240731_Trial085_InitView.avi and data.\n",
      "Loading  T:/YuLab/Video/Naveed/GPS_20_ThreeFPHoldSRTProbe/20240731/Init/Clips/Naveed_20240731_Trial086_InitView.avi and data.\n",
      "Loading  T:/YuLab/Video/Naveed/GPS_20_ThreeFPHoldSRTProbe/20240731/Init/Clips/Naveed_20240731_Trial087_InitView.avi and data.\n",
      "Loading  T:/YuLab/Video/Naveed/GPS_20_ThreeFPHoldSRTProbe/20240731/Init/Clips/Naveed_20240731_Trial088_InitView.avi and data.\n",
      "Loading  T:/YuLab/Video/Naveed/GPS_20_ThreeFPHoldSRTProbe/20240731/Init/Clips/Naveed_20240731_Trial089_InitView.avi and data.\n",
      "Loading  T:/YuLab/Video/Naveed/GPS_20_ThreeFPHoldSRTProbe/20240731/Init/Clips/Naveed_20240731_Trial090_InitView.avi and data.\n",
      "Loading  T:/YuLab/Video/Naveed/GPS_20_ThreeFPHoldSRTProbe/20240731/Init/Clips/Naveed_20240731_Trial091_InitView.avi and data.\n",
      "Loading  T:/YuLab/Video/Naveed/GPS_20_ThreeFPHoldSRTProbe/20240731/Init/Clips/Naveed_20240731_Trial092_InitView.avi and data.\n",
      "Loading  T:/YuLab/Video/Naveed/GPS_20_ThreeFPHoldSRTProbe/20240731/Init/Clips/Naveed_20240731_Trial093_InitView.avi and data.\n",
      "Loading  T:/YuLab/Video/Naveed/GPS_20_ThreeFPHoldSRTProbe/20240731/Init/Clips/Naveed_20240731_Trial094_InitView.avi and data.\n",
      "Loading  T:/YuLab/Video/Naveed/GPS_20_ThreeFPHoldSRTProbe/20240731/Init/Clips/Naveed_20240731_Trial095_InitView.avi and data.\n",
      "Loading  T:/YuLab/Video/Naveed/GPS_20_ThreeFPHoldSRTProbe/20240731/Init/Clips/Naveed_20240731_Trial096_InitView.avi and data.\n",
      "Loading  T:/YuLab/Video/Naveed/GPS_20_ThreeFPHoldSRTProbe/20240731/Init/Clips/Naveed_20240731_Trial097_InitView.avi and data.\n",
      "Loading  T:/YuLab/Video/Naveed/GPS_20_ThreeFPHoldSRTProbe/20240731/Init/Clips/Naveed_20240731_Trial098_InitView.avi and data.\n",
      "Loading  T:/YuLab/Video/Naveed/GPS_20_ThreeFPHoldSRTProbe/20240731/Init/Clips/Naveed_20240731_Trial099_InitView.avi and data.\n",
      "Loading  T:/YuLab/Video/Naveed/GPS_20_ThreeFPHoldSRTProbe/20240731/Init/Clips/Naveed_20240731_Trial100_InitView.avi and data.\n",
      "Loading  T:/YuLab/Video/Naveed/GPS_20_ThreeFPHoldSRTProbe/20240731/Init/Clips/Naveed_20240731_Trial101_InitView.avi and data.\n",
      "Loading  T:/YuLab/Video/Naveed/GPS_20_ThreeFPHoldSRTProbe/20240731/Init/Clips/Naveed_20240731_Trial102_InitView.avi and data.\n",
      "Loading  T:/YuLab/Video/Naveed/GPS_20_ThreeFPHoldSRTProbe/20240731/Init/Clips/Naveed_20240731_Trial103_InitView.avi and data.\n",
      "Loading  T:/YuLab/Video/Naveed/GPS_20_ThreeFPHoldSRTProbe/20240731/Init/Clips/Naveed_20240731_Trial104_InitView.avi and data.\n",
      "Loading  T:/YuLab/Video/Naveed/GPS_20_ThreeFPHoldSRTProbe/20240731/Init/Clips/Naveed_20240731_Trial105_InitView.avi and data.\n",
      "Loading  T:/YuLab/Video/Naveed/GPS_20_ThreeFPHoldSRTProbe/20240731/Init/Clips/Naveed_20240731_Trial106_InitView.avi and data.\n",
      "Loading  T:/YuLab/Video/Naveed/GPS_20_ThreeFPHoldSRTProbe/20240731/Init/Clips/Naveed_20240731_Trial107_InitView.avi and data.\n",
      "Loading  T:/YuLab/Video/Naveed/GPS_20_ThreeFPHoldSRTProbe/20240731/Init/Clips/Naveed_20240731_Trial108_InitView.avi and data.\n",
      "Loading  T:/YuLab/Video/Naveed/GPS_20_ThreeFPHoldSRTProbe/20240731/Init/Clips/Naveed_20240731_Trial109_InitView.avi and data.\n",
      "Loading  T:/YuLab/Video/Naveed/GPS_20_ThreeFPHoldSRTProbe/20240731/Init/Clips/Naveed_20240731_Trial110_InitView.avi and data.\n",
      "Loading  T:/YuLab/Video/Naveed/GPS_20_ThreeFPHoldSRTProbe/20240731/Init/Clips/Naveed_20240731_Trial111_InitView.avi and data.\n",
      "Loading  T:/YuLab/Video/Naveed/GPS_20_ThreeFPHoldSRTProbe/20240731/Init/Clips/Naveed_20240731_Trial112_InitView.avi and data.\n",
      "Loading  T:/YuLab/Video/Naveed/GPS_20_ThreeFPHoldSRTProbe/20240731/Init/Clips/Naveed_20240731_Trial113_InitView.avi and data.\n",
      "Loading  T:/YuLab/Video/Naveed/GPS_20_ThreeFPHoldSRTProbe/20240731/Init/Clips/Naveed_20240731_Trial114_InitView.avi and data.\n",
      "Loading  T:/YuLab/Video/Naveed/GPS_20_ThreeFPHoldSRTProbe/20240731/Init/Clips/Naveed_20240731_Trial115_InitView.avi and data.\n",
      "Loading  T:/YuLab/Video/Naveed/GPS_20_ThreeFPHoldSRTProbe/20240731/Init/Clips/Naveed_20240731_Trial116_InitView.avi and data.\n",
      "Loading  T:/YuLab/Video/Naveed/GPS_20_ThreeFPHoldSRTProbe/20240731/Init/Clips/Naveed_20240731_Trial117_InitView.avi and data.\n",
      "Loading  T:/YuLab/Video/Naveed/GPS_20_ThreeFPHoldSRTProbe/20240731/Init/Clips/Naveed_20240731_Trial118_InitView.avi and data.\n",
      "Loading  T:/YuLab/Video/Naveed/GPS_20_ThreeFPHoldSRTProbe/20240731/Init/Clips/Naveed_20240731_Trial119_InitView.avi and data.\n",
      "Loading  T:/YuLab/Video/Naveed/GPS_20_ThreeFPHoldSRTProbe/20240731/Init/Clips/Naveed_20240731_Trial120_InitView.avi and data.\n",
      "Loading  T:/YuLab/Video/Naveed/GPS_20_ThreeFPHoldSRTProbe/20240731/Init/Clips/Naveed_20240731_Trial121_InitView.avi and data.\n",
      "Loading  T:/YuLab/Video/Naveed/GPS_20_ThreeFPHoldSRTProbe/20240731/Init/Clips/Naveed_20240731_Trial122_InitView.avi and data.\n",
      "Loading  T:/YuLab/Video/Naveed/GPS_20_ThreeFPHoldSRTProbe/20240731/Init/Clips/Naveed_20240731_Trial123_InitView.avi and data.\n",
      "Loading  T:/YuLab/Video/Naveed/GPS_20_ThreeFPHoldSRTProbe/20240731/Init/Clips/Naveed_20240731_Trial124_InitView.avi and data.\n",
      "Loading  T:/YuLab/Video/Naveed/GPS_20_ThreeFPHoldSRTProbe/20240731/Init/Clips/Naveed_20240731_Trial125_InitView.avi and data.\n",
      "Loading  T:/YuLab/Video/Naveed/GPS_20_ThreeFPHoldSRTProbe/20240731/Init/Clips/Naveed_20240731_Trial126_InitView.avi and data.\n",
      "Loading  T:/YuLab/Video/Naveed/GPS_20_ThreeFPHoldSRTProbe/20240731/Init/Clips/Naveed_20240731_Trial127_InitView.avi and data.\n",
      "Loading  T:/YuLab/Video/Naveed/GPS_20_ThreeFPHoldSRTProbe/20240731/Init/Clips/Naveed_20240731_Trial128_InitView.avi and data.\n",
      "Loading  T:/YuLab/Video/Naveed/GPS_20_ThreeFPHoldSRTProbe/20240731/Init/Clips/Naveed_20240731_Trial129_InitView.avi and data.\n",
      "Loading  T:/YuLab/Video/Naveed/GPS_20_ThreeFPHoldSRTProbe/20240731/Init/Clips/Naveed_20240731_Trial130_InitView.avi and data.\n",
      "Loading  T:/YuLab/Video/Naveed/GPS_20_ThreeFPHoldSRTProbe/20240731/Init/Clips/Naveed_20240731_Trial131_InitView.avi and data.\n",
      "Loading  T:/YuLab/Video/Naveed/GPS_20_ThreeFPHoldSRTProbe/20240731/Init/Clips/Naveed_20240731_Trial132_InitView.avi and data.\n",
      "Loading  T:/YuLab/Video/Naveed/GPS_20_ThreeFPHoldSRTProbe/20240731/Init/Clips/Naveed_20240731_Trial133_InitView.avi and data.\n",
      "Loading  T:/YuLab/Video/Naveed/GPS_20_ThreeFPHoldSRTProbe/20240731/Init/Clips/Naveed_20240731_Trial134_InitView.avi and data.\n",
      "Loading  T:/YuLab/Video/Naveed/GPS_20_ThreeFPHoldSRTProbe/20240731/Init/Clips/Naveed_20240731_Trial135_InitView.avi and data.\n",
      "Loading  T:/YuLab/Video/Naveed/GPS_20_ThreeFPHoldSRTProbe/20240731/Init/Clips/Naveed_20240731_Trial136_InitView.avi and data.\n",
      "Loading  T:/YuLab/Video/Naveed/GPS_20_ThreeFPHoldSRTProbe/20240731/Init/Clips/Naveed_20240731_Trial137_InitView.avi and data.\n",
      "Loading  T:/YuLab/Video/Naveed/GPS_20_ThreeFPHoldSRTProbe/20240731/Init/Clips/Naveed_20240731_Trial138_InitView.avi and data.\n",
      "Loading  T:/YuLab/Video/Naveed/GPS_20_ThreeFPHoldSRTProbe/20240731/Init/Clips/Naveed_20240731_Trial139_InitView.avi and data.\n",
      "Loading  T:/YuLab/Video/Naveed/GPS_20_ThreeFPHoldSRTProbe/20240731/Init/Clips/Naveed_20240731_Trial140_InitView.avi and data.\n",
      "Loading  T:/YuLab/Video/Naveed/GPS_20_ThreeFPHoldSRTProbe/20240731/Init/Clips/Naveed_20240731_Trial141_InitView.avi and data.\n",
      "Loading  T:/YuLab/Video/Naveed/GPS_20_ThreeFPHoldSRTProbe/20240731/Init/Clips/Naveed_20240731_Trial142_InitView.avi and data.\n",
      "Loading  T:/YuLab/Video/Naveed/GPS_20_ThreeFPHoldSRTProbe/20240731/Init/Clips/Naveed_20240731_Trial143_InitView.avi and data.\n",
      "Loading  T:/YuLab/Video/Naveed/GPS_20_ThreeFPHoldSRTProbe/20240731/Init/Clips/Naveed_20240731_Trial144_InitView.avi and data.\n",
      "Loading  T:/YuLab/Video/Naveed/GPS_20_ThreeFPHoldSRTProbe/20240731/Init/Clips/Naveed_20240731_Trial145_InitView.avi and data.\n",
      "Loading  T:/YuLab/Video/Naveed/GPS_20_ThreeFPHoldSRTProbe/20240731/Init/Clips/Naveed_20240731_Trial146_InitView.avi and data.\n",
      "Loading  T:/YuLab/Video/Naveed/GPS_20_ThreeFPHoldSRTProbe/20240731/Init/Clips/Naveed_20240731_Trial147_InitView.avi and data.\n",
      "Loading  T:/YuLab/Video/Naveed/GPS_20_ThreeFPHoldSRTProbe/20240731/Init/Clips/Naveed_20240731_Trial148_InitView.avi and data.\n",
      "Loading  T:/YuLab/Video/Naveed/GPS_20_ThreeFPHoldSRTProbe/20240731/Init/Clips/Naveed_20240731_Trial149_InitView.avi and data.\n",
      "Loading  T:/YuLab/Video/Naveed/GPS_20_ThreeFPHoldSRTProbe/20240731/Init/Clips/Naveed_20240731_Trial150_InitView.avi and data.\n",
      "Loading  T:/YuLab/Video/Naveed/GPS_20_ThreeFPHoldSRTProbe/20240731/Init/Clips/Naveed_20240731_Trial152_InitView.avi and data.\n",
      "Loading  T:/YuLab/Video/Naveed/GPS_20_ThreeFPHoldSRTProbe/20240731/Init/Clips/Naveed_20240731_Trial153_InitView.avi and data.\n",
      "Loading  T:/YuLab/Video/Naveed/GPS_20_ThreeFPHoldSRTProbe/20240731/Init/Clips/Naveed_20240731_Trial154_InitView.avi and data.\n",
      "Loading  T:/YuLab/Video/Naveed/GPS_20_ThreeFPHoldSRTProbe/20240731/Init/Clips/Naveed_20240731_Trial155_InitView.avi and data.\n",
      "Loading  T:/YuLab/Video/Naveed/GPS_20_ThreeFPHoldSRTProbe/20240731/Init/Clips/Naveed_20240731_Trial156_InitView.avi and data.\n",
      "Loading  T:/YuLab/Video/Naveed/GPS_20_ThreeFPHoldSRTProbe/20240731/Init/Clips/Naveed_20240731_Trial157_InitView.avi and data.\n",
      "Loading  T:/YuLab/Video/Naveed/GPS_20_ThreeFPHoldSRTProbe/20240731/Init/Clips/Naveed_20240731_Trial158_InitView.avi and data.\n",
      "Loading  T:/YuLab/Video/Naveed/GPS_20_ThreeFPHoldSRTProbe/20240731/Init/Clips/Naveed_20240731_Trial159_InitView.avi and data.\n",
      "Loading  T:/YuLab/Video/Naveed/GPS_20_ThreeFPHoldSRTProbe/20240731/Init/Clips/Naveed_20240731_Trial160_InitView.avi and data.\n",
      "Loading  T:/YuLab/Video/Naveed/GPS_20_ThreeFPHoldSRTProbe/20240731/Init/Clips/Naveed_20240731_Trial161_InitView.avi and data.\n",
      "Loading  T:/YuLab/Video/Naveed/GPS_20_ThreeFPHoldSRTProbe/20240731/Init/Clips/Naveed_20240731_Trial162_InitView.avi and data.\n",
      "Loading  T:/YuLab/Video/Naveed/GPS_20_ThreeFPHoldSRTProbe/20240731/Init/Clips/Naveed_20240731_Trial163_InitView.avi and data.\n",
      "Loading  T:/YuLab/Video/Naveed/GPS_20_ThreeFPHoldSRTProbe/20240731/Init/Clips/Naveed_20240731_Trial164_InitView.avi and data.\n",
      "Loading  T:/YuLab/Video/Naveed/GPS_20_ThreeFPHoldSRTProbe/20240731/Init/Clips/Naveed_20240731_Trial165_InitView.avi and data.\n",
      "Loading  T:/YuLab/Video/Naveed/GPS_20_ThreeFPHoldSRTProbe/20240731/Init/Clips/Naveed_20240731_Trial166_InitView.avi and data.\n",
      "Loading  T:/YuLab/Video/Naveed/GPS_20_ThreeFPHoldSRTProbe/20240731/Init/Clips/Naveed_20240731_Trial167_InitView.avi and data.\n",
      "Loading  T:/YuLab/Video/Naveed/GPS_20_ThreeFPHoldSRTProbe/20240731/Init/Clips/Naveed_20240731_Trial168_InitView.avi and data.\n",
      "Loading  T:/YuLab/Video/Naveed/GPS_20_ThreeFPHoldSRTProbe/20240731/Init/Clips/Naveed_20240731_Trial169_InitView.avi and data.\n",
      "Loading  T:/YuLab/Video/Naveed/GPS_20_ThreeFPHoldSRTProbe/20240731/Init/Clips/Naveed_20240731_Trial170_InitView.avi and data.\n",
      "Loading  T:/YuLab/Video/Naveed/GPS_20_ThreeFPHoldSRTProbe/20240731/Init/Clips/Naveed_20240731_Trial171_InitView.avi and data.\n",
      "Loading  T:/YuLab/Video/Naveed/GPS_20_ThreeFPHoldSRTProbe/20240731/Init/Clips/Naveed_20240731_Trial172_InitView.avi and data.\n",
      "Loading  T:/YuLab/Video/Naveed/GPS_20_ThreeFPHoldSRTProbe/20240731/Init/Clips/Naveed_20240731_Trial173_InitView.avi and data.\n",
      "Loading  T:/YuLab/Video/Naveed/GPS_20_ThreeFPHoldSRTProbe/20240731/Init/Clips/Naveed_20240731_Trial174_InitView.avi and data.\n",
      "Loading  T:/YuLab/Video/Naveed/GPS_20_ThreeFPHoldSRTProbe/20240801/Init/Clips/Naveed_20240801_Trial009_InitView.avi and data.\n",
      "Loading  T:/YuLab/Video/Naveed/GPS_20_ThreeFPHoldSRTProbe/20240801/Init/Clips/Naveed_20240801_Trial010_InitView.avi and data.\n",
      "Loading  T:/YuLab/Video/Naveed/GPS_20_ThreeFPHoldSRTProbe/20240801/Init/Clips/Naveed_20240801_Trial011_InitView.avi and data.\n",
      "Loading  T:/YuLab/Video/Naveed/GPS_20_ThreeFPHoldSRTProbe/20240801/Init/Clips/Naveed_20240801_Trial012_InitView.avi and data.\n",
      "Loading  T:/YuLab/Video/Naveed/GPS_20_ThreeFPHoldSRTProbe/20240801/Init/Clips/Naveed_20240801_Trial013_InitView.avi and data.\n",
      "Loading  T:/YuLab/Video/Naveed/GPS_20_ThreeFPHoldSRTProbe/20240801/Init/Clips/Naveed_20240801_Trial014_InitView.avi and data.\n",
      "Loading  T:/YuLab/Video/Naveed/GPS_20_ThreeFPHoldSRTProbe/20240801/Init/Clips/Naveed_20240801_Trial015_InitView.avi and data.\n",
      "Loading  T:/YuLab/Video/Naveed/GPS_20_ThreeFPHoldSRTProbe/20240801/Init/Clips/Naveed_20240801_Trial016_InitView.avi and data.\n",
      "Loading  T:/YuLab/Video/Naveed/GPS_20_ThreeFPHoldSRTProbe/20240801/Init/Clips/Naveed_20240801_Trial017_InitView.avi and data.\n",
      "Loading  T:/YuLab/Video/Naveed/GPS_20_ThreeFPHoldSRTProbe/20240801/Init/Clips/Naveed_20240801_Trial018_InitView.avi and data.\n",
      "Loading  T:/YuLab/Video/Naveed/GPS_20_ThreeFPHoldSRTProbe/20240801/Init/Clips/Naveed_20240801_Trial019_InitView.avi and data.\n",
      "Loading  T:/YuLab/Video/Naveed/GPS_20_ThreeFPHoldSRTProbe/20240801/Init/Clips/Naveed_20240801_Trial020_InitView.avi and data.\n",
      "Loading  T:/YuLab/Video/Naveed/GPS_20_ThreeFPHoldSRTProbe/20240801/Init/Clips/Naveed_20240801_Trial021_InitView.avi and data.\n",
      "Loading  T:/YuLab/Video/Naveed/GPS_20_ThreeFPHoldSRTProbe/20240801/Init/Clips/Naveed_20240801_Trial022_InitView.avi and data.\n",
      "Loading  T:/YuLab/Video/Naveed/GPS_20_ThreeFPHoldSRTProbe/20240801/Init/Clips/Naveed_20240801_Trial023_InitView.avi and data.\n",
      "Loading  T:/YuLab/Video/Naveed/GPS_20_ThreeFPHoldSRTProbe/20240801/Init/Clips/Naveed_20240801_Trial024_InitView.avi and data.\n",
      "Loading  T:/YuLab/Video/Naveed/GPS_20_ThreeFPHoldSRTProbe/20240801/Init/Clips/Naveed_20240801_Trial025_InitView.avi and data.\n",
      "Loading  T:/YuLab/Video/Naveed/GPS_20_ThreeFPHoldSRTProbe/20240801/Init/Clips/Naveed_20240801_Trial026_InitView.avi and data.\n",
      "Loading  T:/YuLab/Video/Naveed/GPS_20_ThreeFPHoldSRTProbe/20240801/Init/Clips/Naveed_20240801_Trial027_InitView.avi and data.\n",
      "Loading  T:/YuLab/Video/Naveed/GPS_20_ThreeFPHoldSRTProbe/20240801/Init/Clips/Naveed_20240801_Trial028_InitView.avi and data.\n",
      "Loading  T:/YuLab/Video/Naveed/GPS_20_ThreeFPHoldSRTProbe/20240801/Init/Clips/Naveed_20240801_Trial029_InitView.avi and data.\n",
      "Loading  T:/YuLab/Video/Naveed/GPS_20_ThreeFPHoldSRTProbe/20240801/Init/Clips/Naveed_20240801_Trial030_InitView.avi and data.\n",
      "Loading  T:/YuLab/Video/Naveed/GPS_20_ThreeFPHoldSRTProbe/20240801/Init/Clips/Naveed_20240801_Trial031_InitView.avi and data.\n",
      "Loading  T:/YuLab/Video/Naveed/GPS_20_ThreeFPHoldSRTProbe/20240801/Init/Clips/Naveed_20240801_Trial032_InitView.avi and data.\n",
      "Loading  T:/YuLab/Video/Naveed/GPS_20_ThreeFPHoldSRTProbe/20240801/Init/Clips/Naveed_20240801_Trial033_InitView.avi and data.\n",
      "Loading  T:/YuLab/Video/Naveed/GPS_20_ThreeFPHoldSRTProbe/20240801/Init/Clips/Naveed_20240801_Trial034_InitView.avi and data.\n",
      "Loading  T:/YuLab/Video/Naveed/GPS_20_ThreeFPHoldSRTProbe/20240801/Init/Clips/Naveed_20240801_Trial035_InitView.avi and data.\n",
      "Loading  T:/YuLab/Video/Naveed/GPS_20_ThreeFPHoldSRTProbe/20240801/Init/Clips/Naveed_20240801_Trial036_InitView.avi and data.\n",
      "Loading  T:/YuLab/Video/Naveed/GPS_20_ThreeFPHoldSRTProbe/20240801/Init/Clips/Naveed_20240801_Trial037_InitView.avi and data.\n",
      "Loading  T:/YuLab/Video/Naveed/GPS_20_ThreeFPHoldSRTProbe/20240801/Init/Clips/Naveed_20240801_Trial038_InitView.avi and data.\n",
      "Loading  T:/YuLab/Video/Naveed/GPS_20_ThreeFPHoldSRTProbe/20240801/Init/Clips/Naveed_20240801_Trial039_InitView.avi and data.\n",
      "Loading  T:/YuLab/Video/Naveed/GPS_20_ThreeFPHoldSRTProbe/20240801/Init/Clips/Naveed_20240801_Trial040_InitView.avi and data.\n",
      "Loading  T:/YuLab/Video/Naveed/GPS_20_ThreeFPHoldSRTProbe/20240801/Init/Clips/Naveed_20240801_Trial041_InitView.avi and data.\n",
      "Loading  T:/YuLab/Video/Naveed/GPS_20_ThreeFPHoldSRTProbe/20240801/Init/Clips/Naveed_20240801_Trial042_InitView.avi and data.\n",
      "Loading  T:/YuLab/Video/Naveed/GPS_20_ThreeFPHoldSRTProbe/20240801/Init/Clips/Naveed_20240801_Trial043_InitView.avi and data.\n",
      "Loading  T:/YuLab/Video/Naveed/GPS_20_ThreeFPHoldSRTProbe/20240801/Init/Clips/Naveed_20240801_Trial044_InitView.avi and data.\n",
      "Loading  T:/YuLab/Video/Naveed/GPS_20_ThreeFPHoldSRTProbe/20240801/Init/Clips/Naveed_20240801_Trial045_InitView.avi and data.\n",
      "Loading  T:/YuLab/Video/Naveed/GPS_20_ThreeFPHoldSRTProbe/20240801/Init/Clips/Naveed_20240801_Trial046_InitView.avi and data.\n",
      "Loading  T:/YuLab/Video/Naveed/GPS_20_ThreeFPHoldSRTProbe/20240801/Init/Clips/Naveed_20240801_Trial047_InitView.avi and data.\n",
      "Loading  T:/YuLab/Video/Naveed/GPS_20_ThreeFPHoldSRTProbe/20240801/Init/Clips/Naveed_20240801_Trial048_InitView.avi and data.\n",
      "Loading  T:/YuLab/Video/Naveed/GPS_20_ThreeFPHoldSRTProbe/20240801/Init/Clips/Naveed_20240801_Trial049_InitView.avi and data.\n",
      "Loading  T:/YuLab/Video/Naveed/GPS_20_ThreeFPHoldSRTProbe/20240801/Init/Clips/Naveed_20240801_Trial050_InitView.avi and data.\n",
      "Loading  T:/YuLab/Video/Naveed/GPS_20_ThreeFPHoldSRTProbe/20240801/Init/Clips/Naveed_20240801_Trial051_InitView.avi and data.\n",
      "Loading  T:/YuLab/Video/Naveed/GPS_20_ThreeFPHoldSRTProbe/20240801/Init/Clips/Naveed_20240801_Trial052_InitView.avi and data.\n",
      "Loading  T:/YuLab/Video/Naveed/GPS_20_ThreeFPHoldSRTProbe/20240801/Init/Clips/Naveed_20240801_Trial053_InitView.avi and data.\n",
      "Loading  T:/YuLab/Video/Naveed/GPS_20_ThreeFPHoldSRTProbe/20240801/Init/Clips/Naveed_20240801_Trial054_InitView.avi and data.\n",
      "Loading  T:/YuLab/Video/Naveed/GPS_20_ThreeFPHoldSRTProbe/20240801/Init/Clips/Naveed_20240801_Trial055_InitView.avi and data.\n",
      "Loading  T:/YuLab/Video/Naveed/GPS_20_ThreeFPHoldSRTProbe/20240801/Init/Clips/Naveed_20240801_Trial056_InitView.avi and data.\n",
      "Loading  T:/YuLab/Video/Naveed/GPS_20_ThreeFPHoldSRTProbe/20240801/Init/Clips/Naveed_20240801_Trial057_InitView.avi and data.\n",
      "Loading  T:/YuLab/Video/Naveed/GPS_20_ThreeFPHoldSRTProbe/20240801/Init/Clips/Naveed_20240801_Trial058_InitView.avi and data.\n",
      "Loading  T:/YuLab/Video/Naveed/GPS_20_ThreeFPHoldSRTProbe/20240801/Init/Clips/Naveed_20240801_Trial059_InitView.avi and data.\n",
      "Loading  T:/YuLab/Video/Naveed/GPS_20_ThreeFPHoldSRTProbe/20240801/Init/Clips/Naveed_20240801_Trial060_InitView.avi and data.\n",
      "Loading  T:/YuLab/Video/Naveed/GPS_20_ThreeFPHoldSRTProbe/20240801/Init/Clips/Naveed_20240801_Trial061_InitView.avi and data.\n",
      "Loading  T:/YuLab/Video/Naveed/GPS_20_ThreeFPHoldSRTProbe/20240801/Init/Clips/Naveed_20240801_Trial062_InitView.avi and data.\n",
      "Loading  T:/YuLab/Video/Naveed/GPS_20_ThreeFPHoldSRTProbe/20240801/Init/Clips/Naveed_20240801_Trial063_InitView.avi and data.\n",
      "Loading  T:/YuLab/Video/Naveed/GPS_20_ThreeFPHoldSRTProbe/20240801/Init/Clips/Naveed_20240801_Trial064_InitView.avi and data.\n",
      "Loading  T:/YuLab/Video/Naveed/GPS_20_ThreeFPHoldSRTProbe/20240801/Init/Clips/Naveed_20240801_Trial065_InitView.avi and data.\n",
      "Loading  T:/YuLab/Video/Naveed/GPS_20_ThreeFPHoldSRTProbe/20240801/Init/Clips/Naveed_20240801_Trial066_InitView.avi and data.\n",
      "Loading  T:/YuLab/Video/Naveed/GPS_20_ThreeFPHoldSRTProbe/20240801/Init/Clips/Naveed_20240801_Trial067_InitView.avi and data.\n",
      "Loading  T:/YuLab/Video/Naveed/GPS_20_ThreeFPHoldSRTProbe/20240801/Init/Clips/Naveed_20240801_Trial068_InitView.avi and data.\n",
      "Loading  T:/YuLab/Video/Naveed/GPS_20_ThreeFPHoldSRTProbe/20240801/Init/Clips/Naveed_20240801_Trial069_InitView.avi and data.\n",
      "Loading  T:/YuLab/Video/Naveed/GPS_20_ThreeFPHoldSRTProbe/20240801/Init/Clips/Naveed_20240801_Trial070_InitView.avi and data.\n",
      "Loading  T:/YuLab/Video/Naveed/GPS_20_ThreeFPHoldSRTProbe/20240801/Init/Clips/Naveed_20240801_Trial071_InitView.avi and data.\n",
      "Loading  T:/YuLab/Video/Naveed/GPS_20_ThreeFPHoldSRTProbe/20240801/Init/Clips/Naveed_20240801_Trial072_InitView.avi and data.\n",
      "Loading  T:/YuLab/Video/Naveed/GPS_20_ThreeFPHoldSRTProbe/20240801/Init/Clips/Naveed_20240801_Trial073_InitView.avi and data.\n",
      "Loading  T:/YuLab/Video/Naveed/GPS_20_ThreeFPHoldSRTProbe/20240801/Init/Clips/Naveed_20240801_Trial074_InitView.avi and data.\n",
      "Loading  T:/YuLab/Video/Naveed/GPS_20_ThreeFPHoldSRTProbe/20240801/Init/Clips/Naveed_20240801_Trial075_InitView.avi and data.\n",
      "Loading  T:/YuLab/Video/Naveed/GPS_20_ThreeFPHoldSRTProbe/20240801/Init/Clips/Naveed_20240801_Trial076_InitView.avi and data.\n",
      "Loading  T:/YuLab/Video/Naveed/GPS_20_ThreeFPHoldSRTProbe/20240801/Init/Clips/Naveed_20240801_Trial077_InitView.avi and data.\n",
      "Loading  T:/YuLab/Video/Naveed/GPS_20_ThreeFPHoldSRTProbe/20240801/Init/Clips/Naveed_20240801_Trial078_InitView.avi and data.\n",
      "Loading  T:/YuLab/Video/Naveed/GPS_20_ThreeFPHoldSRTProbe/20240801/Init/Clips/Naveed_20240801_Trial079_InitView.avi and data.\n",
      "Loading  T:/YuLab/Video/Naveed/GPS_20_ThreeFPHoldSRTProbe/20240801/Init/Clips/Naveed_20240801_Trial080_InitView.avi and data.\n",
      "Loading  T:/YuLab/Video/Naveed/GPS_20_ThreeFPHoldSRTProbe/20240801/Init/Clips/Naveed_20240801_Trial081_InitView.avi and data.\n",
      "Loading  T:/YuLab/Video/Naveed/GPS_20_ThreeFPHoldSRTProbe/20240801/Init/Clips/Naveed_20240801_Trial082_InitView.avi and data.\n",
      "Loading  T:/YuLab/Video/Naveed/GPS_20_ThreeFPHoldSRTProbe/20240801/Init/Clips/Naveed_20240801_Trial083_InitView.avi and data.\n",
      "Loading  T:/YuLab/Video/Naveed/GPS_20_ThreeFPHoldSRTProbe/20240801/Init/Clips/Naveed_20240801_Trial084_InitView.avi and data.\n",
      "Loading  T:/YuLab/Video/Naveed/GPS_20_ThreeFPHoldSRTProbe/20240801/Init/Clips/Naveed_20240801_Trial085_InitView.avi and data.\n",
      "Loading  T:/YuLab/Video/Naveed/GPS_20_ThreeFPHoldSRTProbe/20240801/Init/Clips/Naveed_20240801_Trial086_InitView.avi and data.\n",
      "Loading  T:/YuLab/Video/Naveed/GPS_20_ThreeFPHoldSRTProbe/20240801/Init/Clips/Naveed_20240801_Trial087_InitView.avi and data.\n",
      "Loading  T:/YuLab/Video/Naveed/GPS_20_ThreeFPHoldSRTProbe/20240801/Init/Clips/Naveed_20240801_Trial088_InitView.avi and data.\n",
      "Loading  T:/YuLab/Video/Naveed/GPS_20_ThreeFPHoldSRTProbe/20240801/Init/Clips/Naveed_20240801_Trial089_InitView.avi and data.\n",
      "Loading  T:/YuLab/Video/Naveed/GPS_20_ThreeFPHoldSRTProbe/20240801/Init/Clips/Naveed_20240801_Trial090_InitView.avi and data.\n",
      "Loading  T:/YuLab/Video/Naveed/GPS_20_ThreeFPHoldSRTProbe/20240801/Init/Clips/Naveed_20240801_Trial091_InitView.avi and data.\n",
      "Loading  T:/YuLab/Video/Naveed/GPS_20_ThreeFPHoldSRTProbe/20240801/Init/Clips/Naveed_20240801_Trial092_InitView.avi and data.\n",
      "Loading  T:/YuLab/Video/Naveed/GPS_20_ThreeFPHoldSRTProbe/20240801/Init/Clips/Naveed_20240801_Trial093_InitView.avi and data.\n",
      "Loading  T:/YuLab/Video/Naveed/GPS_20_ThreeFPHoldSRTProbe/20240801/Init/Clips/Naveed_20240801_Trial094_InitView.avi and data.\n",
      "Loading  T:/YuLab/Video/Naveed/GPS_20_ThreeFPHoldSRTProbe/20240801/Init/Clips/Naveed_20240801_Trial095_InitView.avi and data.\n",
      "Loading  T:/YuLab/Video/Naveed/GPS_20_ThreeFPHoldSRTProbe/20240801/Init/Clips/Naveed_20240801_Trial096_InitView.avi and data.\n",
      "Loading  T:/YuLab/Video/Naveed/GPS_20_ThreeFPHoldSRTProbe/20240801/Init/Clips/Naveed_20240801_Trial097_InitView.avi and data.\n",
      "Loading  T:/YuLab/Video/Naveed/GPS_20_ThreeFPHoldSRTProbe/20240801/Init/Clips/Naveed_20240801_Trial098_InitView.avi and data.\n",
      "Loading  T:/YuLab/Video/Naveed/GPS_20_ThreeFPHoldSRTProbe/20240801/Init/Clips/Naveed_20240801_Trial099_InitView.avi and data.\n",
      "Loading  T:/YuLab/Video/Naveed/GPS_20_ThreeFPHoldSRTProbe/20240801/Init/Clips/Naveed_20240801_Trial100_InitView.avi and data.\n",
      "Loading  T:/YuLab/Video/Naveed/GPS_20_ThreeFPHoldSRTProbe/20240801/Init/Clips/Naveed_20240801_Trial101_InitView.avi and data.\n",
      "Loading  T:/YuLab/Video/Naveed/GPS_20_ThreeFPHoldSRTProbe/20240801/Init/Clips/Naveed_20240801_Trial102_InitView.avi and data.\n",
      "Loading  T:/YuLab/Video/Naveed/GPS_20_ThreeFPHoldSRTProbe/20240801/Init/Clips/Naveed_20240801_Trial103_InitView.avi and data.\n",
      "Loading  T:/YuLab/Video/Naveed/GPS_20_ThreeFPHoldSRTProbe/20240801/Init/Clips/Naveed_20240801_Trial104_InitView.avi and data.\n",
      "Loading  T:/YuLab/Video/Naveed/GPS_20_ThreeFPHoldSRTProbe/20240801/Init/Clips/Naveed_20240801_Trial105_InitView.avi and data.\n",
      "Loading  T:/YuLab/Video/Naveed/GPS_20_ThreeFPHoldSRTProbe/20240801/Init/Clips/Naveed_20240801_Trial106_InitView.avi and data.\n",
      "Loading  T:/YuLab/Video/Naveed/GPS_20_ThreeFPHoldSRTProbe/20240801/Init/Clips/Naveed_20240801_Trial107_InitView.avi and data.\n",
      "Loading  T:/YuLab/Video/Naveed/GPS_20_ThreeFPHoldSRTProbe/20240801/Init/Clips/Naveed_20240801_Trial108_InitView.avi and data.\n",
      "Loading  T:/YuLab/Video/Naveed/GPS_20_ThreeFPHoldSRTProbe/20240801/Init/Clips/Naveed_20240801_Trial109_InitView.avi and data.\n",
      "Loading  T:/YuLab/Video/Naveed/GPS_20_ThreeFPHoldSRTProbe/20240801/Init/Clips/Naveed_20240801_Trial110_InitView.avi and data.\n",
      "Loading  T:/YuLab/Video/Naveed/GPS_20_ThreeFPHoldSRTProbe/20240801/Init/Clips/Naveed_20240801_Trial111_InitView.avi and data.\n",
      "Loading  T:/YuLab/Video/Naveed/GPS_20_ThreeFPHoldSRTProbe/20240801/Init/Clips/Naveed_20240801_Trial112_InitView.avi and data.\n",
      "Loading  T:/YuLab/Video/Naveed/GPS_20_ThreeFPHoldSRTProbe/20240801/Init/Clips/Naveed_20240801_Trial113_InitView.avi and data.\n",
      "Loading  T:/YuLab/Video/Naveed/GPS_20_ThreeFPHoldSRTProbe/20240801/Init/Clips/Naveed_20240801_Trial114_InitView.avi and data.\n",
      "Loading  T:/YuLab/Video/Naveed/GPS_20_ThreeFPHoldSRTProbe/20240801/Init/Clips/Naveed_20240801_Trial115_InitView.avi and data.\n",
      "Loading  T:/YuLab/Video/Naveed/GPS_20_ThreeFPHoldSRTProbe/20240801/Init/Clips/Naveed_20240801_Trial116_InitView.avi and data.\n",
      "Loading  T:/YuLab/Video/Naveed/GPS_20_ThreeFPHoldSRTProbe/20240801/Init/Clips/Naveed_20240801_Trial117_InitView.avi and data.\n",
      "Loading  T:/YuLab/Video/Naveed/GPS_20_ThreeFPHoldSRTProbe/20240801/Init/Clips/Naveed_20240801_Trial118_InitView.avi and data.\n",
      "Loading  T:/YuLab/Video/Naveed/GPS_20_ThreeFPHoldSRTProbe/20240801/Init/Clips/Naveed_20240801_Trial119_InitView.avi and data.\n",
      "Loading  T:/YuLab/Video/Naveed/GPS_20_ThreeFPHoldSRTProbe/20240801/Init/Clips/Naveed_20240801_Trial120_InitView.avi and data.\n",
      "Loading  T:/YuLab/Video/Naveed/GPS_20_ThreeFPHoldSRTProbe/20240801/Init/Clips/Naveed_20240801_Trial121_InitView.avi and data.\n",
      "Loading  T:/YuLab/Video/Naveed/GPS_20_ThreeFPHoldSRTProbe/20240801/Init/Clips/Naveed_20240801_Trial122_InitView.avi and data.\n",
      "Loading  T:/YuLab/Video/Naveed/GPS_20_ThreeFPHoldSRTProbe/20240801/Init/Clips/Naveed_20240801_Trial123_InitView.avi and data.\n",
      "Loading  T:/YuLab/Video/Naveed/GPS_20_ThreeFPHoldSRTProbe/20240801/Init/Clips/Naveed_20240801_Trial124_InitView.avi and data.\n",
      "Loading  T:/YuLab/Video/Naveed/GPS_20_ThreeFPHoldSRTProbe/20240801/Init/Clips/Naveed_20240801_Trial125_InitView.avi and data.\n",
      "Loading  T:/YuLab/Video/Naveed/GPS_20_ThreeFPHoldSRTProbe/20240801/Init/Clips/Naveed_20240801_Trial126_InitView.avi and data.\n",
      "Loading  T:/YuLab/Video/Naveed/GPS_20_ThreeFPHoldSRTProbe/20240801/Init/Clips/Naveed_20240801_Trial127_InitView.avi and data.\n",
      "Loading  T:/YuLab/Video/Naveed/GPS_20_ThreeFPHoldSRTProbe/20240801/Init/Clips/Naveed_20240801_Trial128_InitView.avi and data.\n",
      "Loading  T:/YuLab/Video/Naveed/GPS_20_ThreeFPHoldSRTProbe/20240801/Init/Clips/Naveed_20240801_Trial129_InitView.avi and data.\n",
      "Loading  T:/YuLab/Video/Naveed/GPS_20_ThreeFPHoldSRTProbe/20240801/Init/Clips/Naveed_20240801_Trial130_InitView.avi and data.\n",
      "Loading  T:/YuLab/Video/Naveed/GPS_20_ThreeFPHoldSRTProbe/20240801/Init/Clips/Naveed_20240801_Trial131_InitView.avi and data.\n",
      "Loading  T:/YuLab/Video/Naveed/GPS_20_ThreeFPHoldSRTProbe/20240801/Init/Clips/Naveed_20240801_Trial132_InitView.avi and data.\n",
      "Loading  T:/YuLab/Video/Naveed/GPS_20_ThreeFPHoldSRTProbe/20240801/Init/Clips/Naveed_20240801_Trial133_InitView.avi and data.\n",
      "Loading  T:/YuLab/Video/Naveed/GPS_20_ThreeFPHoldSRTProbe/20240801/Init/Clips/Naveed_20240801_Trial134_InitView.avi and data.\n",
      "Loading  T:/YuLab/Video/Naveed/GPS_20_ThreeFPHoldSRTProbe/20240801/Init/Clips/Naveed_20240801_Trial135_InitView.avi and data.\n",
      "Loading  T:/YuLab/Video/Naveed/GPS_20_ThreeFPHoldSRTProbe/20240801/Init/Clips/Naveed_20240801_Trial136_InitView.avi and data.\n",
      "Loading  T:/YuLab/Video/Naveed/GPS_20_ThreeFPHoldSRTProbe/20240801/Init/Clips/Naveed_20240801_Trial137_InitView.avi and data.\n",
      "Loading  T:/YuLab/Video/Naveed/GPS_20_ThreeFPHoldSRTProbe/20240801/Init/Clips/Naveed_20240801_Trial139_InitView.avi and data.\n",
      "Loading  T:/YuLab/Video/Naveed/GPS_20_ThreeFPHoldSRTProbe/20240801/Init/Clips/Naveed_20240801_Trial140_InitView.avi and data.\n",
      "Loading  T:/YuLab/Video/Naveed/GPS_20_ThreeFPHoldSRTProbe/20240801/Init/Clips/Naveed_20240801_Trial141_InitView.avi and data.\n",
      "Loading  T:/YuLab/Video/Naveed/GPS_20_ThreeFPHoldSRTProbe/20240801/Init/Clips/Naveed_20240801_Trial142_InitView.avi and data.\n",
      "Loading  T:/YuLab/Video/Naveed/GPS_20_ThreeFPHoldSRTProbe/20240801/Init/Clips/Naveed_20240801_Trial143_InitView.avi and data.\n",
      "Loading  T:/YuLab/Video/Naveed/GPS_20_ThreeFPHoldSRTProbe/20240801/Init/Clips/Naveed_20240801_Trial144_InitView.avi and data.\n",
      "Loading  T:/YuLab/Video/Naveed/GPS_20_ThreeFPHoldSRTProbe/20240801/Init/Clips/Naveed_20240801_Trial145_InitView.avi and data.\n",
      "Loading  T:/YuLab/Video/Naveed/GPS_20_ThreeFPHoldSRTProbe/20240801/Init/Clips/Naveed_20240801_Trial146_InitView.avi and data.\n",
      "Loading  T:/YuLab/Video/Naveed/GPS_20_ThreeFPHoldSRTProbe/20240801/Init/Clips/Naveed_20240801_Trial147_InitView.avi and data.\n",
      "Loading  T:/YuLab/Video/Naveed/GPS_20_ThreeFPHoldSRTProbe/20240801/Init/Clips/Naveed_20240801_Trial148_InitView.avi and data.\n",
      "Loading  T:/YuLab/Video/Naveed/GPS_20_ThreeFPHoldSRTProbe/20240801/Init/Clips/Naveed_20240801_Trial149_InitView.avi and data.\n",
      "Loading  T:/YuLab/Video/Naveed/GPS_20_ThreeFPHoldSRTProbe/20240801/Init/Clips/Naveed_20240801_Trial150_InitView.avi and data.\n",
      "Loading  T:/YuLab/Video/Naveed/GPS_20_ThreeFPHoldSRTProbe/20240801/Init/Clips/Naveed_20240801_Trial151_InitView.avi and data.\n",
      "Loading  T:/YuLab/Video/Naveed/GPS_20_ThreeFPHoldSRTProbe/20240801/Init/Clips/Naveed_20240801_Trial152_InitView.avi and data.\n",
      "Loading  T:/YuLab/Video/Naveed/GPS_20_ThreeFPHoldSRTProbe/20240801/Init/Clips/Naveed_20240801_Trial153_InitView.avi and data.\n",
      "Loading  T:/YuLab/Video/Naveed/GPS_20_ThreeFPHoldSRTProbe/20240801/Init/Clips/Naveed_20240801_Trial154_InitView.avi and data.\n",
      "Loading  T:/YuLab/Video/Naveed/GPS_20_ThreeFPHoldSRTProbe/20240801/Init/Clips/Naveed_20240801_Trial155_InitView.avi and data.\n",
      "Loading  T:/YuLab/Video/Naveed/GPS_20_ThreeFPHoldSRTProbe/20240801/Init/Clips/Naveed_20240801_Trial156_InitView.avi and data.\n",
      "Loading  T:/YuLab/Video/Naveed/GPS_20_ThreeFPHoldSRTProbe/20240801/Init/Clips/Naveed_20240801_Trial157_InitView.avi and data.\n",
      "Loading  T:/YuLab/Video/Naveed/GPS_20_ThreeFPHoldSRTProbe/20240801/Init/Clips/Naveed_20240801_Trial158_InitView.avi and data.\n",
      "Loading  T:/YuLab/Video/Naveed/GPS_20_ThreeFPHoldSRTProbe/20240801/Init/Clips/Naveed_20240801_Trial159_InitView.avi and data.\n",
      "Loading  T:/YuLab/Video/Naveed/GPS_20_ThreeFPHoldSRTProbe/20240801/Init/Clips/Naveed_20240801_Trial160_InitView.avi and data.\n",
      "Loading  T:/YuLab/Video/Naveed/GPS_20_ThreeFPHoldSRTProbe/20240801/Init/Clips/Naveed_20240801_Trial161_InitView.avi and data.\n",
      "Loading  T:/YuLab/Video/Naveed/GPS_20_ThreeFPHoldSRTProbe/20240801/Init/Clips/Naveed_20240801_Trial162_InitView.avi and data.\n",
      "Loading  T:/YuLab/Video/Naveed/GPS_20_ThreeFPHoldSRTProbe/20240801/Init/Clips/Naveed_20240801_Trial163_InitView.avi and data.\n",
      "Loading  T:/YuLab/Video/Naveed/GPS_20_ThreeFPHoldSRTProbe/20240801/Init/Clips/Naveed_20240801_Trial164_InitView.avi and data.\n",
      "Loading  T:/YuLab/Video/Naveed/GPS_20_ThreeFPHoldSRTProbe/20240801/Init/Clips/Naveed_20240801_Trial165_InitView.avi and data.\n",
      "Loading  T:/YuLab/Video/Naveed/GPS_20_ThreeFPHoldSRTProbe/20240801/Init/Clips/Naveed_20240801_Trial166_InitView.avi and data.\n",
      "Loading  T:/YuLab/Video/Naveed/GPS_20_ThreeFPHoldSRTProbe/20240801/Init/Clips/Naveed_20240801_Trial167_InitView.avi and data.\n",
      "Loading  T:/YuLab/Video/Naveed/GPS_20_ThreeFPHoldSRTProbe/20240801/Init/Clips/Naveed_20240801_Trial168_InitView.avi and data.\n",
      "Loading  T:/YuLab/Video/Naveed/GPS_20_ThreeFPHoldSRTProbe/20240801/Init/Clips/Naveed_20240801_Trial169_InitView.avi and data.\n",
      "Loading  T:/YuLab/Video/Naveed/GPS_20_ThreeFPHoldSRTProbe/20240802/Init/Clips/Naveed_20240802_Trial011_InitView.avi and data.\n",
      "Loading  T:/YuLab/Video/Naveed/GPS_20_ThreeFPHoldSRTProbe/20240802/Init/Clips/Naveed_20240802_Trial012_InitView.avi and data.\n",
      "Loading  T:/YuLab/Video/Naveed/GPS_20_ThreeFPHoldSRTProbe/20240802/Init/Clips/Naveed_20240802_Trial013_InitView.avi and data.\n",
      "Loading  T:/YuLab/Video/Naveed/GPS_20_ThreeFPHoldSRTProbe/20240802/Init/Clips/Naveed_20240802_Trial014_InitView.avi and data.\n",
      "Loading  T:/YuLab/Video/Naveed/GPS_20_ThreeFPHoldSRTProbe/20240802/Init/Clips/Naveed_20240802_Trial015_InitView.avi and data.\n",
      "Loading  T:/YuLab/Video/Naveed/GPS_20_ThreeFPHoldSRTProbe/20240802/Init/Clips/Naveed_20240802_Trial016_InitView.avi and data.\n",
      "Loading  T:/YuLab/Video/Naveed/GPS_20_ThreeFPHoldSRTProbe/20240802/Init/Clips/Naveed_20240802_Trial017_InitView.avi and data.\n",
      "Loading  T:/YuLab/Video/Naveed/GPS_20_ThreeFPHoldSRTProbe/20240802/Init/Clips/Naveed_20240802_Trial018_InitView.avi and data.\n",
      "Loading  T:/YuLab/Video/Naveed/GPS_20_ThreeFPHoldSRTProbe/20240802/Init/Clips/Naveed_20240802_Trial019_InitView.avi and data.\n",
      "Loading  T:/YuLab/Video/Naveed/GPS_20_ThreeFPHoldSRTProbe/20240802/Init/Clips/Naveed_20240802_Trial020_InitView.avi and data.\n",
      "Loading  T:/YuLab/Video/Naveed/GPS_20_ThreeFPHoldSRTProbe/20240802/Init/Clips/Naveed_20240802_Trial021_InitView.avi and data.\n",
      "Loading  T:/YuLab/Video/Naveed/GPS_20_ThreeFPHoldSRTProbe/20240802/Init/Clips/Naveed_20240802_Trial022_InitView.avi and data.\n",
      "Loading  T:/YuLab/Video/Naveed/GPS_20_ThreeFPHoldSRTProbe/20240802/Init/Clips/Naveed_20240802_Trial023_InitView.avi and data.\n",
      "Loading  T:/YuLab/Video/Naveed/GPS_20_ThreeFPHoldSRTProbe/20240802/Init/Clips/Naveed_20240802_Trial024_InitView.avi and data.\n",
      "Loading  T:/YuLab/Video/Naveed/GPS_20_ThreeFPHoldSRTProbe/20240802/Init/Clips/Naveed_20240802_Trial025_InitView.avi and data.\n",
      "Loading  T:/YuLab/Video/Naveed/GPS_20_ThreeFPHoldSRTProbe/20240802/Init/Clips/Naveed_20240802_Trial026_InitView.avi and data.\n",
      "Loading  T:/YuLab/Video/Naveed/GPS_20_ThreeFPHoldSRTProbe/20240802/Init/Clips/Naveed_20240802_Trial027_InitView.avi and data.\n",
      "Loading  T:/YuLab/Video/Naveed/GPS_20_ThreeFPHoldSRTProbe/20240802/Init/Clips/Naveed_20240802_Trial028_InitView.avi and data.\n",
      "Loading  T:/YuLab/Video/Naveed/GPS_20_ThreeFPHoldSRTProbe/20240802/Init/Clips/Naveed_20240802_Trial029_InitView.avi and data.\n",
      "Loading  T:/YuLab/Video/Naveed/GPS_20_ThreeFPHoldSRTProbe/20240802/Init/Clips/Naveed_20240802_Trial030_InitView.avi and data.\n",
      "Loading  T:/YuLab/Video/Naveed/GPS_20_ThreeFPHoldSRTProbe/20240802/Init/Clips/Naveed_20240802_Trial031_InitView.avi and data.\n",
      "Loading  T:/YuLab/Video/Naveed/GPS_20_ThreeFPHoldSRTProbe/20240802/Init/Clips/Naveed_20240802_Trial033_InitView.avi and data.\n",
      "Loading  T:/YuLab/Video/Naveed/GPS_20_ThreeFPHoldSRTProbe/20240802/Init/Clips/Naveed_20240802_Trial034_InitView.avi and data.\n",
      "Loading  T:/YuLab/Video/Naveed/GPS_20_ThreeFPHoldSRTProbe/20240802/Init/Clips/Naveed_20240802_Trial035_InitView.avi and data.\n",
      "Loading  T:/YuLab/Video/Naveed/GPS_20_ThreeFPHoldSRTProbe/20240802/Init/Clips/Naveed_20240802_Trial036_InitView.avi and data.\n",
      "Loading  T:/YuLab/Video/Naveed/GPS_20_ThreeFPHoldSRTProbe/20240802/Init/Clips/Naveed_20240802_Trial037_InitView.avi and data.\n",
      "Loading  T:/YuLab/Video/Naveed/GPS_20_ThreeFPHoldSRTProbe/20240802/Init/Clips/Naveed_20240802_Trial038_InitView.avi and data.\n",
      "Loading  T:/YuLab/Video/Naveed/GPS_20_ThreeFPHoldSRTProbe/20240802/Init/Clips/Naveed_20240802_Trial039_InitView.avi and data.\n",
      "Loading  T:/YuLab/Video/Naveed/GPS_20_ThreeFPHoldSRTProbe/20240802/Init/Clips/Naveed_20240802_Trial040_InitView.avi and data.\n",
      "Loading  T:/YuLab/Video/Naveed/GPS_20_ThreeFPHoldSRTProbe/20240802/Init/Clips/Naveed_20240802_Trial041_InitView.avi and data.\n",
      "Loading  T:/YuLab/Video/Naveed/GPS_20_ThreeFPHoldSRTProbe/20240802/Init/Clips/Naveed_20240802_Trial042_InitView.avi and data.\n",
      "Loading  T:/YuLab/Video/Naveed/GPS_20_ThreeFPHoldSRTProbe/20240802/Init/Clips/Naveed_20240802_Trial043_InitView.avi and data.\n",
      "Loading  T:/YuLab/Video/Naveed/GPS_20_ThreeFPHoldSRTProbe/20240802/Init/Clips/Naveed_20240802_Trial044_InitView.avi and data.\n",
      "Loading  T:/YuLab/Video/Naveed/GPS_20_ThreeFPHoldSRTProbe/20240802/Init/Clips/Naveed_20240802_Trial045_InitView.avi and data.\n",
      "Loading  T:/YuLab/Video/Naveed/GPS_20_ThreeFPHoldSRTProbe/20240802/Init/Clips/Naveed_20240802_Trial046_InitView.avi and data.\n",
      "Loading  T:/YuLab/Video/Naveed/GPS_20_ThreeFPHoldSRTProbe/20240802/Init/Clips/Naveed_20240802_Trial047_InitView.avi and data.\n",
      "Loading  T:/YuLab/Video/Naveed/GPS_20_ThreeFPHoldSRTProbe/20240802/Init/Clips/Naveed_20240802_Trial048_InitView.avi and data.\n",
      "Loading  T:/YuLab/Video/Naveed/GPS_20_ThreeFPHoldSRTProbe/20240802/Init/Clips/Naveed_20240802_Trial049_InitView.avi and data.\n",
      "Loading  T:/YuLab/Video/Naveed/GPS_20_ThreeFPHoldSRTProbe/20240802/Init/Clips/Naveed_20240802_Trial050_InitView.avi and data.\n",
      "Loading  T:/YuLab/Video/Naveed/GPS_20_ThreeFPHoldSRTProbe/20240802/Init/Clips/Naveed_20240802_Trial051_InitView.avi and data.\n",
      "Loading  T:/YuLab/Video/Naveed/GPS_20_ThreeFPHoldSRTProbe/20240802/Init/Clips/Naveed_20240802_Trial052_InitView.avi and data.\n",
      "Loading  T:/YuLab/Video/Naveed/GPS_20_ThreeFPHoldSRTProbe/20240802/Init/Clips/Naveed_20240802_Trial053_InitView.avi and data.\n",
      "Loading  T:/YuLab/Video/Naveed/GPS_20_ThreeFPHoldSRTProbe/20240802/Init/Clips/Naveed_20240802_Trial054_InitView.avi and data.\n",
      "Loading  T:/YuLab/Video/Naveed/GPS_20_ThreeFPHoldSRTProbe/20240802/Init/Clips/Naveed_20240802_Trial055_InitView.avi and data.\n",
      "Loading  T:/YuLab/Video/Naveed/GPS_20_ThreeFPHoldSRTProbe/20240802/Init/Clips/Naveed_20240802_Trial056_InitView.avi and data.\n",
      "Loading  T:/YuLab/Video/Naveed/GPS_20_ThreeFPHoldSRTProbe/20240802/Init/Clips/Naveed_20240802_Trial057_InitView.avi and data.\n",
      "Loading  T:/YuLab/Video/Naveed/GPS_20_ThreeFPHoldSRTProbe/20240802/Init/Clips/Naveed_20240802_Trial058_InitView.avi and data.\n",
      "Loading  T:/YuLab/Video/Naveed/GPS_20_ThreeFPHoldSRTProbe/20240802/Init/Clips/Naveed_20240802_Trial059_InitView.avi and data.\n",
      "Loading  T:/YuLab/Video/Naveed/GPS_20_ThreeFPHoldSRTProbe/20240802/Init/Clips/Naveed_20240802_Trial060_InitView.avi and data.\n",
      "Loading  T:/YuLab/Video/Naveed/GPS_20_ThreeFPHoldSRTProbe/20240802/Init/Clips/Naveed_20240802_Trial061_InitView.avi and data.\n",
      "Loading  T:/YuLab/Video/Naveed/GPS_20_ThreeFPHoldSRTProbe/20240802/Init/Clips/Naveed_20240802_Trial062_InitView.avi and data.\n",
      "Loading  T:/YuLab/Video/Naveed/GPS_20_ThreeFPHoldSRTProbe/20240802/Init/Clips/Naveed_20240802_Trial063_InitView.avi and data.\n",
      "Loading  T:/YuLab/Video/Naveed/GPS_20_ThreeFPHoldSRTProbe/20240802/Init/Clips/Naveed_20240802_Trial064_InitView.avi and data.\n",
      "Loading  T:/YuLab/Video/Naveed/GPS_20_ThreeFPHoldSRTProbe/20240802/Init/Clips/Naveed_20240802_Trial065_InitView.avi and data.\n",
      "Loading  T:/YuLab/Video/Naveed/GPS_20_ThreeFPHoldSRTProbe/20240802/Init/Clips/Naveed_20240802_Trial066_InitView.avi and data.\n",
      "Loading  T:/YuLab/Video/Naveed/GPS_20_ThreeFPHoldSRTProbe/20240802/Init/Clips/Naveed_20240802_Trial067_InitView.avi and data.\n",
      "Loading  T:/YuLab/Video/Naveed/GPS_20_ThreeFPHoldSRTProbe/20240802/Init/Clips/Naveed_20240802_Trial068_InitView.avi and data.\n",
      "Loading  T:/YuLab/Video/Naveed/GPS_20_ThreeFPHoldSRTProbe/20240802/Init/Clips/Naveed_20240802_Trial069_InitView.avi and data.\n",
      "Loading  T:/YuLab/Video/Naveed/GPS_20_ThreeFPHoldSRTProbe/20240802/Init/Clips/Naveed_20240802_Trial070_InitView.avi and data.\n",
      "Loading  T:/YuLab/Video/Naveed/GPS_20_ThreeFPHoldSRTProbe/20240802/Init/Clips/Naveed_20240802_Trial071_InitView.avi and data.\n",
      "Loading  T:/YuLab/Video/Naveed/GPS_20_ThreeFPHoldSRTProbe/20240802/Init/Clips/Naveed_20240802_Trial072_InitView.avi and data.\n",
      "Loading  T:/YuLab/Video/Naveed/GPS_20_ThreeFPHoldSRTProbe/20240802/Init/Clips/Naveed_20240802_Trial073_InitView.avi and data.\n",
      "Loading  T:/YuLab/Video/Naveed/GPS_20_ThreeFPHoldSRTProbe/20240802/Init/Clips/Naveed_20240802_Trial074_InitView.avi and data.\n",
      "Loading  T:/YuLab/Video/Naveed/GPS_20_ThreeFPHoldSRTProbe/20240802/Init/Clips/Naveed_20240802_Trial075_InitView.avi and data.\n",
      "Loading  T:/YuLab/Video/Naveed/GPS_20_ThreeFPHoldSRTProbe/20240802/Init/Clips/Naveed_20240802_Trial076_InitView.avi and data.\n",
      "Loading  T:/YuLab/Video/Naveed/GPS_20_ThreeFPHoldSRTProbe/20240802/Init/Clips/Naveed_20240802_Trial077_InitView.avi and data.\n",
      "Loading  T:/YuLab/Video/Naveed/GPS_20_ThreeFPHoldSRTProbe/20240802/Init/Clips/Naveed_20240802_Trial078_InitView.avi and data.\n",
      "Loading  T:/YuLab/Video/Naveed/GPS_20_ThreeFPHoldSRTProbe/20240802/Init/Clips/Naveed_20240802_Trial079_InitView.avi and data.\n",
      "Loading  T:/YuLab/Video/Naveed/GPS_20_ThreeFPHoldSRTProbe/20240802/Init/Clips/Naveed_20240802_Trial080_InitView.avi and data.\n",
      "Loading  T:/YuLab/Video/Naveed/GPS_20_ThreeFPHoldSRTProbe/20240802/Init/Clips/Naveed_20240802_Trial081_InitView.avi and data.\n",
      "Loading  T:/YuLab/Video/Naveed/GPS_20_ThreeFPHoldSRTProbe/20240802/Init/Clips/Naveed_20240802_Trial082_InitView.avi and data.\n",
      "Loading  T:/YuLab/Video/Naveed/GPS_20_ThreeFPHoldSRTProbe/20240802/Init/Clips/Naveed_20240802_Trial083_InitView.avi and data.\n",
      "Loading  T:/YuLab/Video/Naveed/GPS_20_ThreeFPHoldSRTProbe/20240802/Init/Clips/Naveed_20240802_Trial084_InitView.avi and data.\n",
      "Loading  T:/YuLab/Video/Naveed/GPS_20_ThreeFPHoldSRTProbe/20240802/Init/Clips/Naveed_20240802_Trial085_InitView.avi and data.\n",
      "Loading  T:/YuLab/Video/Naveed/GPS_20_ThreeFPHoldSRTProbe/20240802/Init/Clips/Naveed_20240802_Trial086_InitView.avi and data.\n",
      "Loading  T:/YuLab/Video/Naveed/GPS_20_ThreeFPHoldSRTProbe/20240802/Init/Clips/Naveed_20240802_Trial087_InitView.avi and data.\n",
      "Loading  T:/YuLab/Video/Naveed/GPS_20_ThreeFPHoldSRTProbe/20240802/Init/Clips/Naveed_20240802_Trial088_InitView.avi and data.\n",
      "Loading  T:/YuLab/Video/Naveed/GPS_20_ThreeFPHoldSRTProbe/20240802/Init/Clips/Naveed_20240802_Trial089_InitView.avi and data.\n",
      "Loading  T:/YuLab/Video/Naveed/GPS_20_ThreeFPHoldSRTProbe/20240802/Init/Clips/Naveed_20240802_Trial090_InitView.avi and data.\n",
      "Loading  T:/YuLab/Video/Naveed/GPS_20_ThreeFPHoldSRTProbe/20240802/Init/Clips/Naveed_20240802_Trial091_InitView.avi and data.\n",
      "Loading  T:/YuLab/Video/Naveed/GPS_20_ThreeFPHoldSRTProbe/20240802/Init/Clips/Naveed_20240802_Trial092_InitView.avi and data.\n",
      "Loading  T:/YuLab/Video/Naveed/GPS_20_ThreeFPHoldSRTProbe/20240802/Init/Clips/Naveed_20240802_Trial093_InitView.avi and data.\n",
      "Loading  T:/YuLab/Video/Naveed/GPS_20_ThreeFPHoldSRTProbe/20240802/Init/Clips/Naveed_20240802_Trial094_InitView.avi and data.\n",
      "Loading  T:/YuLab/Video/Naveed/GPS_20_ThreeFPHoldSRTProbe/20240802/Init/Clips/Naveed_20240802_Trial095_InitView.avi and data.\n",
      "Loading  T:/YuLab/Video/Naveed/GPS_20_ThreeFPHoldSRTProbe/20240802/Init/Clips/Naveed_20240802_Trial096_InitView.avi and data.\n",
      "Loading  T:/YuLab/Video/Naveed/GPS_20_ThreeFPHoldSRTProbe/20240802/Init/Clips/Naveed_20240802_Trial097_InitView.avi and data.\n",
      "Loading  T:/YuLab/Video/Naveed/GPS_20_ThreeFPHoldSRTProbe/20240802/Init/Clips/Naveed_20240802_Trial098_InitView.avi and data.\n",
      "Loading  T:/YuLab/Video/Naveed/GPS_20_ThreeFPHoldSRTProbe/20240802/Init/Clips/Naveed_20240802_Trial099_InitView.avi and data.\n",
      "Loading  T:/YuLab/Video/Naveed/GPS_20_ThreeFPHoldSRTProbe/20240802/Init/Clips/Naveed_20240802_Trial100_InitView.avi and data.\n",
      "Loading  T:/YuLab/Video/Naveed/GPS_20_ThreeFPHoldSRTProbe/20240802/Init/Clips/Naveed_20240802_Trial101_InitView.avi and data.\n",
      "Loading  T:/YuLab/Video/Naveed/GPS_20_ThreeFPHoldSRTProbe/20240802/Init/Clips/Naveed_20240802_Trial102_InitView.avi and data.\n",
      "Loading  T:/YuLab/Video/Naveed/GPS_20_ThreeFPHoldSRTProbe/20240802/Init/Clips/Naveed_20240802_Trial103_InitView.avi and data.\n",
      "Loading  T:/YuLab/Video/Naveed/GPS_20_ThreeFPHoldSRTProbe/20240802/Init/Clips/Naveed_20240802_Trial104_InitView.avi and data.\n",
      "Loading  T:/YuLab/Video/Naveed/GPS_20_ThreeFPHoldSRTProbe/20240802/Init/Clips/Naveed_20240802_Trial105_InitView.avi and data.\n",
      "Loading  T:/YuLab/Video/Naveed/GPS_20_ThreeFPHoldSRTProbe/20240802/Init/Clips/Naveed_20240802_Trial106_InitView.avi and data.\n",
      "Loading  T:/YuLab/Video/Naveed/GPS_20_ThreeFPHoldSRTProbe/20240802/Init/Clips/Naveed_20240802_Trial107_InitView.avi and data.\n",
      "Loading  T:/YuLab/Video/Naveed/GPS_20_ThreeFPHoldSRTProbe/20240802/Init/Clips/Naveed_20240802_Trial108_InitView.avi and data.\n",
      "Loading  T:/YuLab/Video/Naveed/GPS_20_ThreeFPHoldSRTProbe/20240802/Init/Clips/Naveed_20240802_Trial109_InitView.avi and data.\n",
      "Loading  T:/YuLab/Video/Naveed/GPS_20_ThreeFPHoldSRTProbe/20240802/Init/Clips/Naveed_20240802_Trial110_InitView.avi and data.\n",
      "Loading  T:/YuLab/Video/Naveed/GPS_20_ThreeFPHoldSRTProbe/20240802/Init/Clips/Naveed_20240802_Trial111_InitView.avi and data.\n",
      "Loading  T:/YuLab/Video/Naveed/GPS_20_ThreeFPHoldSRTProbe/20240802/Init/Clips/Naveed_20240802_Trial112_InitView.avi and data.\n",
      "Loading  T:/YuLab/Video/Naveed/GPS_20_ThreeFPHoldSRTProbe/20240802/Init/Clips/Naveed_20240802_Trial113_InitView.avi and data.\n",
      "Loading  T:/YuLab/Video/Naveed/GPS_20_ThreeFPHoldSRTProbe/20240802/Init/Clips/Naveed_20240802_Trial114_InitView.avi and data.\n",
      "Loading  T:/YuLab/Video/Naveed/GPS_20_ThreeFPHoldSRTProbe/20240802/Init/Clips/Naveed_20240802_Trial115_InitView.avi and data.\n",
      "Loading  T:/YuLab/Video/Naveed/GPS_20_ThreeFPHoldSRTProbe/20240802/Init/Clips/Naveed_20240802_Trial116_InitView.avi and data.\n",
      "Loading  T:/YuLab/Video/Naveed/GPS_20_ThreeFPHoldSRTProbe/20240802/Init/Clips/Naveed_20240802_Trial117_InitView.avi and data.\n",
      "Loading  T:/YuLab/Video/Naveed/GPS_20_ThreeFPHoldSRTProbe/20240802/Init/Clips/Naveed_20240802_Trial118_InitView.avi and data.\n",
      "Loading  T:/YuLab/Video/Naveed/GPS_20_ThreeFPHoldSRTProbe/20240802/Init/Clips/Naveed_20240802_Trial119_InitView.avi and data.\n",
      "Loading  T:/YuLab/Video/Naveed/GPS_20_ThreeFPHoldSRTProbe/20240802/Init/Clips/Naveed_20240802_Trial120_InitView.avi and data.\n",
      "Loading  T:/YuLab/Video/Naveed/GPS_20_ThreeFPHoldSRTProbe/20240802/Init/Clips/Naveed_20240802_Trial121_InitView.avi and data.\n",
      "Loading  T:/YuLab/Video/Naveed/GPS_20_ThreeFPHoldSRTProbe/20240802/Init/Clips/Naveed_20240802_Trial122_InitView.avi and data.\n",
      "Loading  T:/YuLab/Video/Naveed/GPS_20_ThreeFPHoldSRTProbe/20240802/Init/Clips/Naveed_20240802_Trial123_InitView.avi and data.\n",
      "Loading  T:/YuLab/Video/Naveed/GPS_20_ThreeFPHoldSRTProbe/20240802/Init/Clips/Naveed_20240802_Trial124_InitView.avi and data.\n",
      "Loading  T:/YuLab/Video/Naveed/GPS_20_ThreeFPHoldSRTProbe/20240802/Init/Clips/Naveed_20240802_Trial125_InitView.avi and data.\n",
      "Loading  T:/YuLab/Video/Naveed/GPS_20_ThreeFPHoldSRTProbe/20240802/Init/Clips/Naveed_20240802_Trial126_InitView.avi and data.\n",
      "Loading  T:/YuLab/Video/Naveed/GPS_20_ThreeFPHoldSRTProbe/20240802/Init/Clips/Naveed_20240802_Trial127_InitView.avi and data.\n",
      "Loading  T:/YuLab/Video/Naveed/GPS_20_ThreeFPHoldSRTProbe/20240802/Init/Clips/Naveed_20240802_Trial128_InitView.avi and data.\n",
      "Loading  T:/YuLab/Video/Naveed/GPS_20_ThreeFPHoldSRTProbe/20240802/Init/Clips/Naveed_20240802_Trial129_InitView.avi and data.\n",
      "Loading  T:/YuLab/Video/Naveed/GPS_20_ThreeFPHoldSRTProbe/20240802/Init/Clips/Naveed_20240802_Trial130_InitView.avi and data.\n",
      "Loading  T:/YuLab/Video/Naveed/GPS_20_ThreeFPHoldSRTProbe/20240802/Init/Clips/Naveed_20240802_Trial131_InitView.avi and data.\n",
      "Loading  T:/YuLab/Video/Naveed/GPS_20_ThreeFPHoldSRTProbe/20240802/Init/Clips/Naveed_20240802_Trial132_InitView.avi and data.\n",
      "Loading  T:/YuLab/Video/Naveed/GPS_20_ThreeFPHoldSRTProbe/20240802/Init/Clips/Naveed_20240802_Trial133_InitView.avi and data.\n",
      "Loading  T:/YuLab/Video/Naveed/GPS_20_ThreeFPHoldSRTProbe/20240802/Init/Clips/Naveed_20240802_Trial134_InitView.avi and data.\n",
      "Loading  T:/YuLab/Video/Naveed/GPS_20_ThreeFPHoldSRTProbe/20240802/Init/Clips/Naveed_20240802_Trial135_InitView.avi and data.\n",
      "Loading  T:/YuLab/Video/Naveed/GPS_20_ThreeFPHoldSRTProbe/20240802/Init/Clips/Naveed_20240802_Trial136_InitView.avi and data.\n",
      "Loading  T:/YuLab/Video/Naveed/GPS_20_ThreeFPHoldSRTProbe/20240802/Init/Clips/Naveed_20240802_Trial137_InitView.avi and data.\n",
      "Loading  T:/YuLab/Video/Naveed/GPS_20_ThreeFPHoldSRTProbe/20240816/Init/Clips/Naveed_20240816_Trial012_InitView.avi and data.\n",
      "Loading  T:/YuLab/Video/Naveed/GPS_20_ThreeFPHoldSRTProbe/20240816/Init/Clips/Naveed_20240816_Trial013_InitView.avi and data.\n",
      "Loading  T:/YuLab/Video/Naveed/GPS_20_ThreeFPHoldSRTProbe/20240816/Init/Clips/Naveed_20240816_Trial014_InitView.avi and data.\n",
      "Loading  T:/YuLab/Video/Naveed/GPS_20_ThreeFPHoldSRTProbe/20240816/Init/Clips/Naveed_20240816_Trial015_InitView.avi and data.\n",
      "Loading  T:/YuLab/Video/Naveed/GPS_20_ThreeFPHoldSRTProbe/20240816/Init/Clips/Naveed_20240816_Trial016_InitView.avi and data.\n",
      "Loading  T:/YuLab/Video/Naveed/GPS_20_ThreeFPHoldSRTProbe/20240816/Init/Clips/Naveed_20240816_Trial017_InitView.avi and data.\n",
      "Loading  T:/YuLab/Video/Naveed/GPS_20_ThreeFPHoldSRTProbe/20240816/Init/Clips/Naveed_20240816_Trial018_InitView.avi and data.\n",
      "Loading  T:/YuLab/Video/Naveed/GPS_20_ThreeFPHoldSRTProbe/20240816/Init/Clips/Naveed_20240816_Trial019_InitView.avi and data.\n",
      "Loading  T:/YuLab/Video/Naveed/GPS_20_ThreeFPHoldSRTProbe/20240816/Init/Clips/Naveed_20240816_Trial020_InitView.avi and data.\n",
      "Loading  T:/YuLab/Video/Naveed/GPS_20_ThreeFPHoldSRTProbe/20240816/Init/Clips/Naveed_20240816_Trial021_InitView.avi and data.\n",
      "Loading  T:/YuLab/Video/Naveed/GPS_20_ThreeFPHoldSRTProbe/20240816/Init/Clips/Naveed_20240816_Trial022_InitView.avi and data.\n",
      "Loading  T:/YuLab/Video/Naveed/GPS_20_ThreeFPHoldSRTProbe/20240816/Init/Clips/Naveed_20240816_Trial023_InitView.avi and data.\n",
      "Loading  T:/YuLab/Video/Naveed/GPS_20_ThreeFPHoldSRTProbe/20240816/Init/Clips/Naveed_20240816_Trial024_InitView.avi and data.\n",
      "Loading  T:/YuLab/Video/Naveed/GPS_20_ThreeFPHoldSRTProbe/20240816/Init/Clips/Naveed_20240816_Trial025_InitView.avi and data.\n",
      "Loading  T:/YuLab/Video/Naveed/GPS_20_ThreeFPHoldSRTProbe/20240816/Init/Clips/Naveed_20240816_Trial026_InitView.avi and data.\n",
      "Loading  T:/YuLab/Video/Naveed/GPS_20_ThreeFPHoldSRTProbe/20240816/Init/Clips/Naveed_20240816_Trial027_InitView.avi and data.\n",
      "Loading  T:/YuLab/Video/Naveed/GPS_20_ThreeFPHoldSRTProbe/20240816/Init/Clips/Naveed_20240816_Trial028_InitView.avi and data.\n",
      "Loading  T:/YuLab/Video/Naveed/GPS_20_ThreeFPHoldSRTProbe/20240816/Init/Clips/Naveed_20240816_Trial029_InitView.avi and data.\n",
      "Loading  T:/YuLab/Video/Naveed/GPS_20_ThreeFPHoldSRTProbe/20240816/Init/Clips/Naveed_20240816_Trial030_InitView.avi and data.\n",
      "Loading  T:/YuLab/Video/Naveed/GPS_20_ThreeFPHoldSRTProbe/20240816/Init/Clips/Naveed_20240816_Trial031_InitView.avi and data.\n",
      "Loading  T:/YuLab/Video/Naveed/GPS_20_ThreeFPHoldSRTProbe/20240816/Init/Clips/Naveed_20240816_Trial032_InitView.avi and data.\n",
      "Loading  T:/YuLab/Video/Naveed/GPS_20_ThreeFPHoldSRTProbe/20240816/Init/Clips/Naveed_20240816_Trial034_InitView.avi and data.\n",
      "Loading  T:/YuLab/Video/Naveed/GPS_20_ThreeFPHoldSRTProbe/20240816/Init/Clips/Naveed_20240816_Trial035_InitView.avi and data.\n",
      "Loading  T:/YuLab/Video/Naveed/GPS_20_ThreeFPHoldSRTProbe/20240816/Init/Clips/Naveed_20240816_Trial036_InitView.avi and data.\n",
      "Loading  T:/YuLab/Video/Naveed/GPS_20_ThreeFPHoldSRTProbe/20240816/Init/Clips/Naveed_20240816_Trial037_InitView.avi and data.\n",
      "Loading  T:/YuLab/Video/Naveed/GPS_20_ThreeFPHoldSRTProbe/20240816/Init/Clips/Naveed_20240816_Trial038_InitView.avi and data.\n",
      "Loading  T:/YuLab/Video/Naveed/GPS_20_ThreeFPHoldSRTProbe/20240816/Init/Clips/Naveed_20240816_Trial039_InitView.avi and data.\n",
      "Loading  T:/YuLab/Video/Naveed/GPS_20_ThreeFPHoldSRTProbe/20240816/Init/Clips/Naveed_20240816_Trial040_InitView.avi and data.\n",
      "Loading  T:/YuLab/Video/Naveed/GPS_20_ThreeFPHoldSRTProbe/20240816/Init/Clips/Naveed_20240816_Trial041_InitView.avi and data.\n",
      "Loading  T:/YuLab/Video/Naveed/GPS_20_ThreeFPHoldSRTProbe/20240816/Init/Clips/Naveed_20240816_Trial042_InitView.avi and data.\n",
      "Loading  T:/YuLab/Video/Naveed/GPS_20_ThreeFPHoldSRTProbe/20240816/Init/Clips/Naveed_20240816_Trial043_InitView.avi and data.\n",
      "Loading  T:/YuLab/Video/Naveed/GPS_20_ThreeFPHoldSRTProbe/20240816/Init/Clips/Naveed_20240816_Trial044_InitView.avi and data.\n",
      "Loading  T:/YuLab/Video/Naveed/GPS_20_ThreeFPHoldSRTProbe/20240816/Init/Clips/Naveed_20240816_Trial045_InitView.avi and data.\n",
      "Loading  T:/YuLab/Video/Naveed/GPS_20_ThreeFPHoldSRTProbe/20240816/Init/Clips/Naveed_20240816_Trial046_InitView.avi and data.\n",
      "Loading  T:/YuLab/Video/Naveed/GPS_20_ThreeFPHoldSRTProbe/20240816/Init/Clips/Naveed_20240816_Trial047_InitView.avi and data.\n",
      "Loading  T:/YuLab/Video/Naveed/GPS_20_ThreeFPHoldSRTProbe/20240816/Init/Clips/Naveed_20240816_Trial048_InitView.avi and data.\n",
      "Loading  T:/YuLab/Video/Naveed/GPS_20_ThreeFPHoldSRTProbe/20240816/Init/Clips/Naveed_20240816_Trial049_InitView.avi and data.\n",
      "Loading  T:/YuLab/Video/Naveed/GPS_20_ThreeFPHoldSRTProbe/20240816/Init/Clips/Naveed_20240816_Trial050_InitView.avi and data.\n",
      "Loading  T:/YuLab/Video/Naveed/GPS_20_ThreeFPHoldSRTProbe/20240816/Init/Clips/Naveed_20240816_Trial051_InitView.avi and data.\n",
      "Loading  T:/YuLab/Video/Naveed/GPS_20_ThreeFPHoldSRTProbe/20240816/Init/Clips/Naveed_20240816_Trial052_InitView.avi and data.\n",
      "Loading  T:/YuLab/Video/Naveed/GPS_20_ThreeFPHoldSRTProbe/20240816/Init/Clips/Naveed_20240816_Trial053_InitView.avi and data.\n",
      "Loading  T:/YuLab/Video/Naveed/GPS_20_ThreeFPHoldSRTProbe/20240816/Init/Clips/Naveed_20240816_Trial054_InitView.avi and data.\n",
      "Loading  T:/YuLab/Video/Naveed/GPS_20_ThreeFPHoldSRTProbe/20240816/Init/Clips/Naveed_20240816_Trial055_InitView.avi and data.\n",
      "Loading  T:/YuLab/Video/Naveed/GPS_20_ThreeFPHoldSRTProbe/20240816/Init/Clips/Naveed_20240816_Trial056_InitView.avi and data.\n",
      "Loading  T:/YuLab/Video/Naveed/GPS_20_ThreeFPHoldSRTProbe/20240816/Init/Clips/Naveed_20240816_Trial057_InitView.avi and data.\n",
      "Loading  T:/YuLab/Video/Naveed/GPS_20_ThreeFPHoldSRTProbe/20240816/Init/Clips/Naveed_20240816_Trial059_InitView.avi and data.\n",
      "Loading  T:/YuLab/Video/Naveed/GPS_20_ThreeFPHoldSRTProbe/20240816/Init/Clips/Naveed_20240816_Trial060_InitView.avi and data.\n",
      "Loading  T:/YuLab/Video/Naveed/GPS_20_ThreeFPHoldSRTProbe/20240816/Init/Clips/Naveed_20240816_Trial061_InitView.avi and data.\n",
      "Loading  T:/YuLab/Video/Naveed/GPS_20_ThreeFPHoldSRTProbe/20240816/Init/Clips/Naveed_20240816_Trial062_InitView.avi and data.\n",
      "Loading  T:/YuLab/Video/Naveed/GPS_20_ThreeFPHoldSRTProbe/20240816/Init/Clips/Naveed_20240816_Trial063_InitView.avi and data.\n",
      "Loading  T:/YuLab/Video/Naveed/GPS_20_ThreeFPHoldSRTProbe/20240816/Init/Clips/Naveed_20240816_Trial064_InitView.avi and data.\n",
      "Loading  T:/YuLab/Video/Naveed/GPS_20_ThreeFPHoldSRTProbe/20240816/Init/Clips/Naveed_20240816_Trial065_InitView.avi and data.\n",
      "Loading  T:/YuLab/Video/Naveed/GPS_20_ThreeFPHoldSRTProbe/20240816/Init/Clips/Naveed_20240816_Trial066_InitView.avi and data.\n",
      "Loading  T:/YuLab/Video/Naveed/GPS_20_ThreeFPHoldSRTProbe/20240816/Init/Clips/Naveed_20240816_Trial067_InitView.avi and data.\n",
      "Loading  T:/YuLab/Video/Naveed/GPS_20_ThreeFPHoldSRTProbe/20240816/Init/Clips/Naveed_20240816_Trial068_InitView.avi and data.\n",
      "Loading  T:/YuLab/Video/Naveed/GPS_20_ThreeFPHoldSRTProbe/20240816/Init/Clips/Naveed_20240816_Trial069_InitView.avi and data.\n",
      "Loading  T:/YuLab/Video/Naveed/GPS_20_ThreeFPHoldSRTProbe/20240816/Init/Clips/Naveed_20240816_Trial070_InitView.avi and data.\n",
      "Loading  T:/YuLab/Video/Naveed/GPS_20_ThreeFPHoldSRTProbe/20240816/Init/Clips/Naveed_20240816_Trial071_InitView.avi and data.\n",
      "Loading  T:/YuLab/Video/Naveed/GPS_20_ThreeFPHoldSRTProbe/20240816/Init/Clips/Naveed_20240816_Trial072_InitView.avi and data.\n",
      "Loading  T:/YuLab/Video/Naveed/GPS_20_ThreeFPHoldSRTProbe/20240816/Init/Clips/Naveed_20240816_Trial073_InitView.avi and data.\n",
      "Loading  T:/YuLab/Video/Naveed/GPS_20_ThreeFPHoldSRTProbe/20240816/Init/Clips/Naveed_20240816_Trial074_InitView.avi and data.\n",
      "Loading  T:/YuLab/Video/Naveed/GPS_20_ThreeFPHoldSRTProbe/20240816/Init/Clips/Naveed_20240816_Trial075_InitView.avi and data.\n",
      "Loading  T:/YuLab/Video/Naveed/GPS_20_ThreeFPHoldSRTProbe/20240816/Init/Clips/Naveed_20240816_Trial076_InitView.avi and data.\n",
      "Loading  T:/YuLab/Video/Naveed/GPS_20_ThreeFPHoldSRTProbe/20240816/Init/Clips/Naveed_20240816_Trial077_InitView.avi and data.\n",
      "Loading  T:/YuLab/Video/Naveed/GPS_20_ThreeFPHoldSRTProbe/20240816/Init/Clips/Naveed_20240816_Trial078_InitView.avi and data.\n",
      "Loading  T:/YuLab/Video/Naveed/GPS_20_ThreeFPHoldSRTProbe/20240816/Init/Clips/Naveed_20240816_Trial079_InitView.avi and data.\n",
      "Loading  T:/YuLab/Video/Naveed/GPS_20_ThreeFPHoldSRTProbe/20240816/Init/Clips/Naveed_20240816_Trial080_InitView.avi and data.\n",
      "Loading  T:/YuLab/Video/Naveed/GPS_20_ThreeFPHoldSRTProbe/20240816/Init/Clips/Naveed_20240816_Trial081_InitView.avi and data.\n",
      "Loading  T:/YuLab/Video/Naveed/GPS_20_ThreeFPHoldSRTProbe/20240816/Init/Clips/Naveed_20240816_Trial082_InitView.avi and data.\n",
      "Loading  T:/YuLab/Video/Naveed/GPS_20_ThreeFPHoldSRTProbe/20240816/Init/Clips/Naveed_20240816_Trial083_InitView.avi and data.\n",
      "Loading  T:/YuLab/Video/Naveed/GPS_20_ThreeFPHoldSRTProbe/20240817/Init/Clips/Naveed_20240817_Trial011_InitView.avi and data.\n",
      "Loading  T:/YuLab/Video/Naveed/GPS_20_ThreeFPHoldSRTProbe/20240817/Init/Clips/Naveed_20240817_Trial012_InitView.avi and data.\n",
      "Loading  T:/YuLab/Video/Naveed/GPS_20_ThreeFPHoldSRTProbe/20240817/Init/Clips/Naveed_20240817_Trial013_InitView.avi and data.\n",
      "Loading  T:/YuLab/Video/Naveed/GPS_20_ThreeFPHoldSRTProbe/20240817/Init/Clips/Naveed_20240817_Trial014_InitView.avi and data.\n",
      "Loading  T:/YuLab/Video/Naveed/GPS_20_ThreeFPHoldSRTProbe/20240817/Init/Clips/Naveed_20240817_Trial015_InitView.avi and data.\n",
      "Loading  T:/YuLab/Video/Naveed/GPS_20_ThreeFPHoldSRTProbe/20240817/Init/Clips/Naveed_20240817_Trial016_InitView.avi and data.\n",
      "Loading  T:/YuLab/Video/Naveed/GPS_20_ThreeFPHoldSRTProbe/20240817/Init/Clips/Naveed_20240817_Trial017_InitView.avi and data.\n",
      "Loading  T:/YuLab/Video/Naveed/GPS_20_ThreeFPHoldSRTProbe/20240817/Init/Clips/Naveed_20240817_Trial018_InitView.avi and data.\n",
      "Loading  T:/YuLab/Video/Naveed/GPS_20_ThreeFPHoldSRTProbe/20240817/Init/Clips/Naveed_20240817_Trial019_InitView.avi and data.\n",
      "Loading  T:/YuLab/Video/Naveed/GPS_20_ThreeFPHoldSRTProbe/20240817/Init/Clips/Naveed_20240817_Trial020_InitView.avi and data.\n",
      "Loading  T:/YuLab/Video/Naveed/GPS_20_ThreeFPHoldSRTProbe/20240817/Init/Clips/Naveed_20240817_Trial021_InitView.avi and data.\n",
      "Loading  T:/YuLab/Video/Naveed/GPS_20_ThreeFPHoldSRTProbe/20240817/Init/Clips/Naveed_20240817_Trial022_InitView.avi and data.\n",
      "Loading  T:/YuLab/Video/Naveed/GPS_20_ThreeFPHoldSRTProbe/20240817/Init/Clips/Naveed_20240817_Trial023_InitView.avi and data.\n",
      "Loading  T:/YuLab/Video/Naveed/GPS_20_ThreeFPHoldSRTProbe/20240817/Init/Clips/Naveed_20240817_Trial024_InitView.avi and data.\n",
      "Loading  T:/YuLab/Video/Naveed/GPS_20_ThreeFPHoldSRTProbe/20240817/Init/Clips/Naveed_20240817_Trial025_InitView.avi and data.\n",
      "Loading  T:/YuLab/Video/Naveed/GPS_20_ThreeFPHoldSRTProbe/20240817/Init/Clips/Naveed_20240817_Trial026_InitView.avi and data.\n",
      "Loading  T:/YuLab/Video/Naveed/GPS_20_ThreeFPHoldSRTProbe/20240817/Init/Clips/Naveed_20240817_Trial027_InitView.avi and data.\n",
      "Loading  T:/YuLab/Video/Naveed/GPS_20_ThreeFPHoldSRTProbe/20240817/Init/Clips/Naveed_20240817_Trial028_InitView.avi and data.\n",
      "Loading  T:/YuLab/Video/Naveed/GPS_20_ThreeFPHoldSRTProbe/20240817/Init/Clips/Naveed_20240817_Trial029_InitView.avi and data.\n",
      "Loading  T:/YuLab/Video/Naveed/GPS_20_ThreeFPHoldSRTProbe/20240817/Init/Clips/Naveed_20240817_Trial030_InitView.avi and data.\n",
      "Loading  T:/YuLab/Video/Naveed/GPS_20_ThreeFPHoldSRTProbe/20240817/Init/Clips/Naveed_20240817_Trial031_InitView.avi and data.\n",
      "Loading  T:/YuLab/Video/Naveed/GPS_20_ThreeFPHoldSRTProbe/20240817/Init/Clips/Naveed_20240817_Trial032_InitView.avi and data.\n",
      "Loading  T:/YuLab/Video/Naveed/GPS_20_ThreeFPHoldSRTProbe/20240817/Init/Clips/Naveed_20240817_Trial033_InitView.avi and data.\n",
      "Loading  T:/YuLab/Video/Naveed/GPS_20_ThreeFPHoldSRTProbe/20240817/Init/Clips/Naveed_20240817_Trial034_InitView.avi and data.\n",
      "Loading  T:/YuLab/Video/Naveed/GPS_20_ThreeFPHoldSRTProbe/20240817/Init/Clips/Naveed_20240817_Trial035_InitView.avi and data.\n",
      "Loading  T:/YuLab/Video/Naveed/GPS_20_ThreeFPHoldSRTProbe/20240817/Init/Clips/Naveed_20240817_Trial036_InitView.avi and data.\n",
      "Loading  T:/YuLab/Video/Naveed/GPS_20_ThreeFPHoldSRTProbe/20240817/Init/Clips/Naveed_20240817_Trial037_InitView.avi and data.\n",
      "Loading  T:/YuLab/Video/Naveed/GPS_20_ThreeFPHoldSRTProbe/20240817/Init/Clips/Naveed_20240817_Trial038_InitView.avi and data.\n",
      "Loading  T:/YuLab/Video/Naveed/GPS_20_ThreeFPHoldSRTProbe/20240817/Init/Clips/Naveed_20240817_Trial039_InitView.avi and data.\n",
      "Loading  T:/YuLab/Video/Naveed/GPS_20_ThreeFPHoldSRTProbe/20240817/Init/Clips/Naveed_20240817_Trial040_InitView.avi and data.\n",
      "Loading  T:/YuLab/Video/Naveed/GPS_20_ThreeFPHoldSRTProbe/20240817/Init/Clips/Naveed_20240817_Trial041_InitView.avi and data.\n",
      "Loading  T:/YuLab/Video/Naveed/GPS_20_ThreeFPHoldSRTProbe/20240817/Init/Clips/Naveed_20240817_Trial042_InitView.avi and data.\n",
      "Loading  T:/YuLab/Video/Naveed/GPS_20_ThreeFPHoldSRTProbe/20240817/Init/Clips/Naveed_20240817_Trial043_InitView.avi and data.\n",
      "Loading  T:/YuLab/Video/Naveed/GPS_20_ThreeFPHoldSRTProbe/20240817/Init/Clips/Naveed_20240817_Trial044_InitView.avi and data.\n",
      "Loading  T:/YuLab/Video/Naveed/GPS_20_ThreeFPHoldSRTProbe/20240817/Init/Clips/Naveed_20240817_Trial045_InitView.avi and data.\n",
      "Loading  T:/YuLab/Video/Naveed/GPS_20_ThreeFPHoldSRTProbe/20240817/Init/Clips/Naveed_20240817_Trial046_InitView.avi and data.\n",
      "Loading  T:/YuLab/Video/Naveed/GPS_20_ThreeFPHoldSRTProbe/20240817/Init/Clips/Naveed_20240817_Trial047_InitView.avi and data.\n",
      "Loading  T:/YuLab/Video/Naveed/GPS_20_ThreeFPHoldSRTProbe/20240817/Init/Clips/Naveed_20240817_Trial048_InitView.avi and data.\n",
      "Loading  T:/YuLab/Video/Naveed/GPS_20_ThreeFPHoldSRTProbe/20240817/Init/Clips/Naveed_20240817_Trial049_InitView.avi and data.\n",
      "Loading  T:/YuLab/Video/Naveed/GPS_20_ThreeFPHoldSRTProbe/20240817/Init/Clips/Naveed_20240817_Trial050_InitView.avi and data.\n",
      "Loading  T:/YuLab/Video/Naveed/GPS_20_ThreeFPHoldSRTProbe/20240817/Init/Clips/Naveed_20240817_Trial051_InitView.avi and data.\n",
      "Loading  T:/YuLab/Video/Naveed/GPS_20_ThreeFPHoldSRTProbe/20240817/Init/Clips/Naveed_20240817_Trial052_InitView.avi and data.\n",
      "Loading  T:/YuLab/Video/Naveed/GPS_20_ThreeFPHoldSRTProbe/20240817/Init/Clips/Naveed_20240817_Trial054_InitView.avi and data.\n",
      "Loading  T:/YuLab/Video/Naveed/GPS_20_ThreeFPHoldSRTProbe/20240817/Init/Clips/Naveed_20240817_Trial055_InitView.avi and data.\n",
      "Loading  T:/YuLab/Video/Naveed/GPS_20_ThreeFPHoldSRTProbe/20240817/Init/Clips/Naveed_20240817_Trial056_InitView.avi and data.\n",
      "Loading  T:/YuLab/Video/Naveed/GPS_20_ThreeFPHoldSRTProbe/20240817/Init/Clips/Naveed_20240817_Trial057_InitView.avi and data.\n",
      "Loading  T:/YuLab/Video/Naveed/GPS_20_ThreeFPHoldSRTProbe/20240817/Init/Clips/Naveed_20240817_Trial058_InitView.avi and data.\n",
      "Loading  T:/YuLab/Video/Naveed/GPS_20_ThreeFPHoldSRTProbe/20240817/Init/Clips/Naveed_20240817_Trial059_InitView.avi and data.\n",
      "Loading  T:/YuLab/Video/Naveed/GPS_20_ThreeFPHoldSRTProbe/20240817/Init/Clips/Naveed_20240817_Trial060_InitView.avi and data.\n",
      "Loading  T:/YuLab/Video/Naveed/GPS_20_ThreeFPHoldSRTProbe/20240817/Init/Clips/Naveed_20240817_Trial061_InitView.avi and data.\n",
      "Loading  T:/YuLab/Video/Naveed/GPS_20_ThreeFPHoldSRTProbe/20240817/Init/Clips/Naveed_20240817_Trial062_InitView.avi and data.\n",
      "Loading  T:/YuLab/Video/Naveed/GPS_20_ThreeFPHoldSRTProbe/20240817/Init/Clips/Naveed_20240817_Trial063_InitView.avi and data.\n",
      "Loading  T:/YuLab/Video/Naveed/GPS_20_ThreeFPHoldSRTProbe/20240817/Init/Clips/Naveed_20240817_Trial064_InitView.avi and data.\n",
      "Loading  T:/YuLab/Video/Naveed/GPS_20_ThreeFPHoldSRTProbe/20240817/Init/Clips/Naveed_20240817_Trial065_InitView.avi and data.\n",
      "Loading  T:/YuLab/Video/Naveed/GPS_20_ThreeFPHoldSRTProbe/20240817/Init/Clips/Naveed_20240817_Trial066_InitView.avi and data.\n",
      "Loading  T:/YuLab/Video/Naveed/GPS_20_ThreeFPHoldSRTProbe/20240817/Init/Clips/Naveed_20240817_Trial067_InitView.avi and data.\n",
      "Loading  T:/YuLab/Video/Naveed/GPS_20_ThreeFPHoldSRTProbe/20240817/Init/Clips/Naveed_20240817_Trial068_InitView.avi and data.\n",
      "Loading  T:/YuLab/Video/Naveed/GPS_20_ThreeFPHoldSRTProbe/20240817/Init/Clips/Naveed_20240817_Trial069_InitView.avi and data.\n",
      "Loading  T:/YuLab/Video/Naveed/GPS_20_ThreeFPHoldSRTProbe/20240817/Init/Clips/Naveed_20240817_Trial070_InitView.avi and data.\n",
      "Loading  T:/YuLab/Video/Naveed/GPS_20_ThreeFPHoldSRTProbe/20240817/Init/Clips/Naveed_20240817_Trial071_InitView.avi and data.\n",
      "Loading  T:/YuLab/Video/Naveed/GPS_20_ThreeFPHoldSRTProbe/20240817/Init/Clips/Naveed_20240817_Trial072_InitView.avi and data.\n",
      "Loading  T:/YuLab/Video/Naveed/GPS_20_ThreeFPHoldSRTProbe/20240817/Init/Clips/Naveed_20240817_Trial073_InitView.avi and data.\n",
      "Loading  T:/YuLab/Video/Naveed/GPS_20_ThreeFPHoldSRTProbe/20240817/Init/Clips/Naveed_20240817_Trial074_InitView.avi and data.\n",
      "Loading  T:/YuLab/Video/Naveed/GPS_20_ThreeFPHoldSRTProbe/20240817/Init/Clips/Naveed_20240817_Trial075_InitView.avi and data.\n",
      "Loading  T:/YuLab/Video/Naveed/GPS_20_ThreeFPHoldSRTProbe/20240817/Init/Clips/Naveed_20240817_Trial076_InitView.avi and data.\n",
      "Loading  T:/YuLab/Video/Naveed/GPS_20_ThreeFPHoldSRTProbe/20240817/Init/Clips/Naveed_20240817_Trial077_InitView.avi and data.\n",
      "Loading  T:/YuLab/Video/Naveed/GPS_20_ThreeFPHoldSRTProbe/20240817/Init/Clips/Naveed_20240817_Trial078_InitView.avi and data.\n",
      "Loading  T:/YuLab/Video/Naveed/GPS_20_ThreeFPHoldSRTProbe/20240817/Init/Clips/Naveed_20240817_Trial079_InitView.avi and data.\n",
      "Loading  T:/YuLab/Video/Naveed/GPS_20_ThreeFPHoldSRTProbe/20240817/Init/Clips/Naveed_20240817_Trial080_InitView.avi and data.\n",
      "Loading  T:/YuLab/Video/Naveed/GPS_20_ThreeFPHoldSRTProbe/20240817/Init/Clips/Naveed_20240817_Trial081_InitView.avi and data.\n",
      "Loading  T:/YuLab/Video/Naveed/GPS_20_ThreeFPHoldSRTProbe/20240817/Init/Clips/Naveed_20240817_Trial082_InitView.avi and data.\n",
      "Loading  T:/YuLab/Video/Naveed/GPS_20_ThreeFPHoldSRTProbe/20240817/Init/Clips/Naveed_20240817_Trial083_InitView.avi and data.\n",
      "Loading  T:/YuLab/Video/Naveed/GPS_20_ThreeFPHoldSRTProbe/20240817/Init/Clips/Naveed_20240817_Trial084_InitView.avi and data.\n",
      "Loading  T:/YuLab/Video/Naveed/GPS_20_ThreeFPHoldSRTProbe/20240817/Init/Clips/Naveed_20240817_Trial085_InitView.avi and data.\n",
      "Loading  T:/YuLab/Video/Naveed/GPS_20_ThreeFPHoldSRTProbe/20240817/Init/Clips/Naveed_20240817_Trial086_InitView.avi and data.\n",
      "Loading  T:/YuLab/Video/Naveed/GPS_20_ThreeFPHoldSRTProbe/20240817/Init/Clips/Naveed_20240817_Trial087_InitView.avi and data.\n",
      "Loading  T:/YuLab/Video/Naveed/GPS_20_ThreeFPHoldSRTProbe/20240817/Init/Clips/Naveed_20240817_Trial088_InitView.avi and data.\n",
      "Loading  T:/YuLab/Video/Naveed/GPS_20_ThreeFPHoldSRTProbe/20240817/Init/Clips/Naveed_20240817_Trial089_InitView.avi and data.\n",
      "Loading  T:/YuLab/Video/Naveed/GPS_20_ThreeFPHoldSRTProbe/20240817/Init/Clips/Naveed_20240817_Trial090_InitView.avi and data.\n",
      "Loading  T:/YuLab/Video/Naveed/GPS_20_ThreeFPHoldSRTProbe/20240817/Init/Clips/Naveed_20240817_Trial091_InitView.avi and data.\n",
      "Loading  T:/YuLab/Video/Naveed/GPS_20_ThreeFPHoldSRTProbe/20240817/Init/Clips/Naveed_20240817_Trial092_InitView.avi and data.\n",
      "Loading  T:/YuLab/Video/Naveed/GPS_20_ThreeFPHoldSRTProbe/20240817/Init/Clips/Naveed_20240817_Trial093_InitView.avi and data.\n",
      "Loading  T:/YuLab/Video/Naveed/GPS_20_ThreeFPHoldSRTProbe/20240817/Init/Clips/Naveed_20240817_Trial094_InitView.avi and data.\n",
      "Loading  T:/YuLab/Video/Naveed/GPS_20_ThreeFPHoldSRTProbe/20240817/Init/Clips/Naveed_20240817_Trial095_InitView.avi and data.\n",
      "Loading  T:/YuLab/Video/Naveed/GPS_20_ThreeFPHoldSRTProbe/20240818/Init/Clips/Naveed_20240818_Trial015_InitView.avi and data.\n",
      "Loading  T:/YuLab/Video/Naveed/GPS_20_ThreeFPHoldSRTProbe/20240818/Init/Clips/Naveed_20240818_Trial016_InitView.avi and data.\n",
      "Loading  T:/YuLab/Video/Naveed/GPS_20_ThreeFPHoldSRTProbe/20240818/Init/Clips/Naveed_20240818_Trial017_InitView.avi and data.\n",
      "Loading  T:/YuLab/Video/Naveed/GPS_20_ThreeFPHoldSRTProbe/20240818/Init/Clips/Naveed_20240818_Trial018_InitView.avi and data.\n",
      "Loading  T:/YuLab/Video/Naveed/GPS_20_ThreeFPHoldSRTProbe/20240818/Init/Clips/Naveed_20240818_Trial019_InitView.avi and data.\n",
      "Loading  T:/YuLab/Video/Naveed/GPS_20_ThreeFPHoldSRTProbe/20240818/Init/Clips/Naveed_20240818_Trial020_InitView.avi and data.\n",
      "Loading  T:/YuLab/Video/Naveed/GPS_20_ThreeFPHoldSRTProbe/20240818/Init/Clips/Naveed_20240818_Trial021_InitView.avi and data.\n",
      "Loading  T:/YuLab/Video/Naveed/GPS_20_ThreeFPHoldSRTProbe/20240818/Init/Clips/Naveed_20240818_Trial022_InitView.avi and data.\n",
      "Loading  T:/YuLab/Video/Naveed/GPS_20_ThreeFPHoldSRTProbe/20240818/Init/Clips/Naveed_20240818_Trial023_InitView.avi and data.\n",
      "Loading  T:/YuLab/Video/Naveed/GPS_20_ThreeFPHoldSRTProbe/20240818/Init/Clips/Naveed_20240818_Trial024_InitView.avi and data.\n",
      "Loading  T:/YuLab/Video/Naveed/GPS_20_ThreeFPHoldSRTProbe/20240818/Init/Clips/Naveed_20240818_Trial025_InitView.avi and data.\n",
      "Loading  T:/YuLab/Video/Naveed/GPS_20_ThreeFPHoldSRTProbe/20240818/Init/Clips/Naveed_20240818_Trial026_InitView.avi and data.\n",
      "Loading  T:/YuLab/Video/Naveed/GPS_20_ThreeFPHoldSRTProbe/20240818/Init/Clips/Naveed_20240818_Trial027_InitView.avi and data.\n",
      "Loading  T:/YuLab/Video/Naveed/GPS_20_ThreeFPHoldSRTProbe/20240818/Init/Clips/Naveed_20240818_Trial028_InitView.avi and data.\n",
      "Loading  T:/YuLab/Video/Naveed/GPS_20_ThreeFPHoldSRTProbe/20240818/Init/Clips/Naveed_20240818_Trial029_InitView.avi and data.\n",
      "Loading  T:/YuLab/Video/Naveed/GPS_20_ThreeFPHoldSRTProbe/20240818/Init/Clips/Naveed_20240818_Trial030_InitView.avi and data.\n",
      "Loading  T:/YuLab/Video/Naveed/GPS_20_ThreeFPHoldSRTProbe/20240818/Init/Clips/Naveed_20240818_Trial031_InitView.avi and data.\n",
      "Loading  T:/YuLab/Video/Naveed/GPS_20_ThreeFPHoldSRTProbe/20240818/Init/Clips/Naveed_20240818_Trial032_InitView.avi and data.\n",
      "Loading  T:/YuLab/Video/Naveed/GPS_20_ThreeFPHoldSRTProbe/20240818/Init/Clips/Naveed_20240818_Trial033_InitView.avi and data.\n",
      "Loading  T:/YuLab/Video/Naveed/GPS_20_ThreeFPHoldSRTProbe/20240818/Init/Clips/Naveed_20240818_Trial034_InitView.avi and data.\n",
      "Loading  T:/YuLab/Video/Naveed/GPS_20_ThreeFPHoldSRTProbe/20240818/Init/Clips/Naveed_20240818_Trial035_InitView.avi and data.\n",
      "Loading  T:/YuLab/Video/Naveed/GPS_20_ThreeFPHoldSRTProbe/20240818/Init/Clips/Naveed_20240818_Trial036_InitView.avi and data.\n",
      "Loading  T:/YuLab/Video/Naveed/GPS_20_ThreeFPHoldSRTProbe/20240818/Init/Clips/Naveed_20240818_Trial037_InitView.avi and data.\n",
      "Loading  T:/YuLab/Video/Naveed/GPS_20_ThreeFPHoldSRTProbe/20240818/Init/Clips/Naveed_20240818_Trial038_InitView.avi and data.\n",
      "Loading  T:/YuLab/Video/Naveed/GPS_20_ThreeFPHoldSRTProbe/20240818/Init/Clips/Naveed_20240818_Trial039_InitView.avi and data.\n",
      "Loading  T:/YuLab/Video/Naveed/GPS_20_ThreeFPHoldSRTProbe/20240818/Init/Clips/Naveed_20240818_Trial040_InitView.avi and data.\n",
      "Loading  T:/YuLab/Video/Naveed/GPS_20_ThreeFPHoldSRTProbe/20240818/Init/Clips/Naveed_20240818_Trial041_InitView.avi and data.\n",
      "Loading  T:/YuLab/Video/Naveed/GPS_20_ThreeFPHoldSRTProbe/20240818/Init/Clips/Naveed_20240818_Trial042_InitView.avi and data.\n",
      "Loading  T:/YuLab/Video/Naveed/GPS_20_ThreeFPHoldSRTProbe/20240818/Init/Clips/Naveed_20240818_Trial043_InitView.avi and data.\n",
      "Loading  T:/YuLab/Video/Naveed/GPS_20_ThreeFPHoldSRTProbe/20240818/Init/Clips/Naveed_20240818_Trial044_InitView.avi and data.\n",
      "Loading  T:/YuLab/Video/Naveed/GPS_20_ThreeFPHoldSRTProbe/20240818/Init/Clips/Naveed_20240818_Trial045_InitView.avi and data.\n",
      "Loading  T:/YuLab/Video/Naveed/GPS_20_ThreeFPHoldSRTProbe/20240818/Init/Clips/Naveed_20240818_Trial046_InitView.avi and data.\n",
      "Loading  T:/YuLab/Video/Naveed/GPS_20_ThreeFPHoldSRTProbe/20240818/Init/Clips/Naveed_20240818_Trial047_InitView.avi and data.\n",
      "Loading  T:/YuLab/Video/Naveed/GPS_20_ThreeFPHoldSRTProbe/20240818/Init/Clips/Naveed_20240818_Trial048_InitView.avi and data.\n",
      "Loading  T:/YuLab/Video/Naveed/GPS_20_ThreeFPHoldSRTProbe/20240818/Init/Clips/Naveed_20240818_Trial049_InitView.avi and data.\n",
      "Loading  T:/YuLab/Video/Naveed/GPS_20_ThreeFPHoldSRTProbe/20240818/Init/Clips/Naveed_20240818_Trial050_InitView.avi and data.\n",
      "Loading  T:/YuLab/Video/Naveed/GPS_20_ThreeFPHoldSRTProbe/20240818/Init/Clips/Naveed_20240818_Trial051_InitView.avi and data.\n",
      "Loading  T:/YuLab/Video/Naveed/GPS_20_ThreeFPHoldSRTProbe/20240818/Init/Clips/Naveed_20240818_Trial052_InitView.avi and data.\n",
      "Loading  T:/YuLab/Video/Naveed/GPS_20_ThreeFPHoldSRTProbe/20240818/Init/Clips/Naveed_20240818_Trial053_InitView.avi and data.\n",
      "Loading  T:/YuLab/Video/Naveed/GPS_20_ThreeFPHoldSRTProbe/20240818/Init/Clips/Naveed_20240818_Trial054_InitView.avi and data.\n",
      "Loading  T:/YuLab/Video/Naveed/GPS_20_ThreeFPHoldSRTProbe/20240818/Init/Clips/Naveed_20240818_Trial055_InitView.avi and data.\n",
      "Loading  T:/YuLab/Video/Naveed/GPS_20_ThreeFPHoldSRTProbe/20240818/Init/Clips/Naveed_20240818_Trial056_InitView.avi and data.\n",
      "Loading  T:/YuLab/Video/Naveed/GPS_20_ThreeFPHoldSRTProbe/20240818/Init/Clips/Naveed_20240818_Trial057_InitView.avi and data.\n",
      "Loading  T:/YuLab/Video/Naveed/GPS_20_ThreeFPHoldSRTProbe/20240818/Init/Clips/Naveed_20240818_Trial058_InitView.avi and data.\n",
      "Loading  T:/YuLab/Video/Naveed/GPS_20_ThreeFPHoldSRTProbe/20240818/Init/Clips/Naveed_20240818_Trial059_InitView.avi and data.\n",
      "Loading  T:/YuLab/Video/Naveed/GPS_20_ThreeFPHoldSRTProbe/20240818/Init/Clips/Naveed_20240818_Trial060_InitView.avi and data.\n",
      "Loading  T:/YuLab/Video/Naveed/GPS_20_ThreeFPHoldSRTProbe/20240818/Init/Clips/Naveed_20240818_Trial061_InitView.avi and data.\n",
      "Loading  T:/YuLab/Video/Naveed/GPS_20_ThreeFPHoldSRTProbe/20240818/Init/Clips/Naveed_20240818_Trial062_InitView.avi and data.\n",
      "Loading  T:/YuLab/Video/Naveed/GPS_20_ThreeFPHoldSRTProbe/20240818/Init/Clips/Naveed_20240818_Trial063_InitView.avi and data.\n",
      "Loading  T:/YuLab/Video/Naveed/GPS_20_ThreeFPHoldSRTProbe/20240818/Init/Clips/Naveed_20240818_Trial064_InitView.avi and data.\n",
      "Loading  T:/YuLab/Video/Naveed/GPS_20_ThreeFPHoldSRTProbe/20240818/Init/Clips/Naveed_20240818_Trial065_InitView.avi and data.\n",
      "Loading  T:/YuLab/Video/Naveed/GPS_20_ThreeFPHoldSRTProbe/20240818/Init/Clips/Naveed_20240818_Trial066_InitView.avi and data.\n",
      "Loading  T:/YuLab/Video/Naveed/GPS_20_ThreeFPHoldSRTProbe/20240818/Init/Clips/Naveed_20240818_Trial067_InitView.avi and data.\n",
      "Loading  T:/YuLab/Video/Naveed/GPS_20_ThreeFPHoldSRTProbe/20240818/Init/Clips/Naveed_20240818_Trial068_InitView.avi and data.\n",
      "Loading  T:/YuLab/Video/Naveed/GPS_20_ThreeFPHoldSRTProbe/20240818/Init/Clips/Naveed_20240818_Trial069_InitView.avi and data.\n",
      "Loading  T:/YuLab/Video/Naveed/GPS_20_ThreeFPHoldSRTProbe/20240818/Init/Clips/Naveed_20240818_Trial070_InitView.avi and data.\n",
      "Loading  T:/YuLab/Video/Naveed/GPS_20_ThreeFPHoldSRTProbe/20240818/Init/Clips/Naveed_20240818_Trial071_InitView.avi and data.\n",
      "Loading  T:/YuLab/Video/Naveed/GPS_20_ThreeFPHoldSRTProbe/20240818/Init/Clips/Naveed_20240818_Trial072_InitView.avi and data.\n",
      "Loading  T:/YuLab/Video/Naveed/GPS_20_ThreeFPHoldSRTProbe/20240818/Init/Clips/Naveed_20240818_Trial073_InitView.avi and data.\n",
      "Loading  T:/YuLab/Video/Naveed/GPS_20_ThreeFPHoldSRTProbe/20240818/Init/Clips/Naveed_20240818_Trial074_InitView.avi and data.\n",
      "Loading  T:/YuLab/Video/Naveed/GPS_20_ThreeFPHoldSRTProbe/20240818/Init/Clips/Naveed_20240818_Trial075_InitView.avi and data.\n",
      "Loading  T:/YuLab/Video/Naveed/GPS_20_ThreeFPHoldSRTProbe/20240818/Init/Clips/Naveed_20240818_Trial076_InitView.avi and data.\n",
      "Loading  T:/YuLab/Video/Naveed/GPS_20_ThreeFPHoldSRTProbe/20240818/Init/Clips/Naveed_20240818_Trial077_InitView.avi and data.\n",
      "Loading  T:/YuLab/Video/Naveed/GPS_20_ThreeFPHoldSRTProbe/20240818/Init/Clips/Naveed_20240818_Trial078_InitView.avi and data.\n",
      "Loading  T:/YuLab/Video/Naveed/GPS_20_ThreeFPHoldSRTProbe/20240818/Init/Clips/Naveed_20240818_Trial079_InitView.avi and data.\n",
      "Loading  T:/YuLab/Video/Naveed/GPS_20_ThreeFPHoldSRTProbe/20240818/Init/Clips/Naveed_20240818_Trial080_InitView.avi and data.\n",
      "Loading  T:/YuLab/Video/Naveed/GPS_20_ThreeFPHoldSRTProbe/20240818/Init/Clips/Naveed_20240818_Trial081_InitView.avi and data.\n",
      "Loading  T:/YuLab/Video/Naveed/GPS_20_ThreeFPHoldSRTProbe/20240818/Init/Clips/Naveed_20240818_Trial082_InitView.avi and data.\n",
      "Loading  T:/YuLab/Video/Naveed/GPS_20_ThreeFPHoldSRTProbe/20240818/Init/Clips/Naveed_20240818_Trial083_InitView.avi and data.\n",
      "Loading  T:/YuLab/Video/Naveed/GPS_20_ThreeFPHoldSRTProbe/20240818/Init/Clips/Naveed_20240818_Trial084_InitView.avi and data.\n",
      "Loading  T:/YuLab/Video/Naveed/GPS_20_ThreeFPHoldSRTProbe/20240818/Init/Clips/Naveed_20240818_Trial085_InitView.avi and data.\n",
      "Loading  T:/YuLab/Video/Naveed/GPS_20_ThreeFPHoldSRTProbe/20240818/Init/Clips/Naveed_20240818_Trial086_InitView.avi and data.\n",
      "Loading  T:/YuLab/Video/Naveed/GPS_20_ThreeFPHoldSRTProbe/20240818/Init/Clips/Naveed_20240818_Trial087_InitView.avi and data.\n",
      "Loading  T:/YuLab/Video/Naveed/GPS_20_ThreeFPHoldSRTProbe/20240818/Init/Clips/Naveed_20240818_Trial088_InitView.avi and data.\n",
      "Loading  T:/YuLab/Video/Naveed/GPS_20_ThreeFPHoldSRTProbe/20240818/Init/Clips/Naveed_20240818_Trial089_InitView.avi and data.\n",
      "Loading  T:/YuLab/Video/Naveed/GPS_20_ThreeFPHoldSRTProbe/20240818/Init/Clips/Naveed_20240818_Trial090_InitView.avi and data.\n",
      "Loading  T:/YuLab/Video/Naveed/GPS_20_ThreeFPHoldSRTProbe/20240819/Init/Clips/Naveed_20240819_Trial022_InitView.avi and data.\n",
      "Loading  T:/YuLab/Video/Naveed/GPS_20_ThreeFPHoldSRTProbe/20240819/Init/Clips/Naveed_20240819_Trial023_InitView.avi and data.\n",
      "Loading  T:/YuLab/Video/Naveed/GPS_20_ThreeFPHoldSRTProbe/20240819/Init/Clips/Naveed_20240819_Trial024_InitView.avi and data.\n",
      "Loading  T:/YuLab/Video/Naveed/GPS_20_ThreeFPHoldSRTProbe/20240819/Init/Clips/Naveed_20240819_Trial025_InitView.avi and data.\n",
      "Loading  T:/YuLab/Video/Naveed/GPS_20_ThreeFPHoldSRTProbe/20240819/Init/Clips/Naveed_20240819_Trial026_InitView.avi and data.\n",
      "Loading  T:/YuLab/Video/Naveed/GPS_20_ThreeFPHoldSRTProbe/20240819/Init/Clips/Naveed_20240819_Trial027_InitView.avi and data.\n",
      "Loading  T:/YuLab/Video/Naveed/GPS_20_ThreeFPHoldSRTProbe/20240819/Init/Clips/Naveed_20240819_Trial028_InitView.avi and data.\n",
      "Loading  T:/YuLab/Video/Naveed/GPS_20_ThreeFPHoldSRTProbe/20240819/Init/Clips/Naveed_20240819_Trial029_InitView.avi and data.\n",
      "Loading  T:/YuLab/Video/Naveed/GPS_20_ThreeFPHoldSRTProbe/20240819/Init/Clips/Naveed_20240819_Trial030_InitView.avi and data.\n",
      "Loading  T:/YuLab/Video/Naveed/GPS_20_ThreeFPHoldSRTProbe/20240819/Init/Clips/Naveed_20240819_Trial032_InitView.avi and data.\n",
      "Loading  T:/YuLab/Video/Naveed/GPS_20_ThreeFPHoldSRTProbe/20240819/Init/Clips/Naveed_20240819_Trial033_InitView.avi and data.\n",
      "Loading  T:/YuLab/Video/Naveed/GPS_20_ThreeFPHoldSRTProbe/20240819/Init/Clips/Naveed_20240819_Trial034_InitView.avi and data.\n",
      "Loading  T:/YuLab/Video/Naveed/GPS_20_ThreeFPHoldSRTProbe/20240819/Init/Clips/Naveed_20240819_Trial035_InitView.avi and data.\n",
      "Loading  T:/YuLab/Video/Naveed/GPS_20_ThreeFPHoldSRTProbe/20240819/Init/Clips/Naveed_20240819_Trial036_InitView.avi and data.\n",
      "Loading  T:/YuLab/Video/Naveed/GPS_20_ThreeFPHoldSRTProbe/20240819/Init/Clips/Naveed_20240819_Trial037_InitView.avi and data.\n",
      "Loading  T:/YuLab/Video/Naveed/GPS_20_ThreeFPHoldSRTProbe/20240819/Init/Clips/Naveed_20240819_Trial038_InitView.avi and data.\n",
      "Loading  T:/YuLab/Video/Naveed/GPS_20_ThreeFPHoldSRTProbe/20240819/Init/Clips/Naveed_20240819_Trial039_InitView.avi and data.\n",
      "Loading  T:/YuLab/Video/Naveed/GPS_20_ThreeFPHoldSRTProbe/20240819/Init/Clips/Naveed_20240819_Trial040_InitView.avi and data.\n",
      "Loading  T:/YuLab/Video/Naveed/GPS_20_ThreeFPHoldSRTProbe/20240819/Init/Clips/Naveed_20240819_Trial041_InitView.avi and data.\n",
      "Loading  T:/YuLab/Video/Naveed/GPS_20_ThreeFPHoldSRTProbe/20240819/Init/Clips/Naveed_20240819_Trial042_InitView.avi and data.\n",
      "Loading  T:/YuLab/Video/Naveed/GPS_20_ThreeFPHoldSRTProbe/20240819/Init/Clips/Naveed_20240819_Trial043_InitView.avi and data.\n",
      "Loading  T:/YuLab/Video/Naveed/GPS_20_ThreeFPHoldSRTProbe/20240819/Init/Clips/Naveed_20240819_Trial044_InitView.avi and data.\n",
      "Loading  T:/YuLab/Video/Naveed/GPS_20_ThreeFPHoldSRTProbe/20240819/Init/Clips/Naveed_20240819_Trial045_InitView.avi and data.\n",
      "Loading  T:/YuLab/Video/Naveed/GPS_20_ThreeFPHoldSRTProbe/20240819/Init/Clips/Naveed_20240819_Trial046_InitView.avi and data.\n",
      "Loading  T:/YuLab/Video/Naveed/GPS_20_ThreeFPHoldSRTProbe/20240819/Init/Clips/Naveed_20240819_Trial047_InitView.avi and data.\n",
      "Loading  T:/YuLab/Video/Naveed/GPS_20_ThreeFPHoldSRTProbe/20240819/Init/Clips/Naveed_20240819_Trial048_InitView.avi and data.\n",
      "Loading  T:/YuLab/Video/Naveed/GPS_20_ThreeFPHoldSRTProbe/20240819/Init/Clips/Naveed_20240819_Trial049_InitView.avi and data.\n",
      "Loading  T:/YuLab/Video/Naveed/GPS_20_ThreeFPHoldSRTProbe/20240819/Init/Clips/Naveed_20240819_Trial050_InitView.avi and data.\n",
      "Loading  T:/YuLab/Video/Naveed/GPS_20_ThreeFPHoldSRTProbe/20240819/Init/Clips/Naveed_20240819_Trial051_InitView.avi and data.\n",
      "Loading  T:/YuLab/Video/Naveed/GPS_20_ThreeFPHoldSRTProbe/20240819/Init/Clips/Naveed_20240819_Trial052_InitView.avi and data.\n",
      "Loading  T:/YuLab/Video/Naveed/GPS_20_ThreeFPHoldSRTProbe/20240819/Init/Clips/Naveed_20240819_Trial053_InitView.avi and data.\n",
      "Loading  T:/YuLab/Video/Naveed/GPS_20_ThreeFPHoldSRTProbe/20240819/Init/Clips/Naveed_20240819_Trial054_InitView.avi and data.\n",
      "Loading  T:/YuLab/Video/Naveed/GPS_20_ThreeFPHoldSRTProbe/20240819/Init/Clips/Naveed_20240819_Trial055_InitView.avi and data.\n",
      "Loading  T:/YuLab/Video/Naveed/GPS_20_ThreeFPHoldSRTProbe/20240819/Init/Clips/Naveed_20240819_Trial056_InitView.avi and data.\n",
      "Loading  T:/YuLab/Video/Naveed/GPS_20_ThreeFPHoldSRTProbe/20240819/Init/Clips/Naveed_20240819_Trial057_InitView.avi and data.\n",
      "Loading  T:/YuLab/Video/Naveed/GPS_20_ThreeFPHoldSRTProbe/20240819/Init/Clips/Naveed_20240819_Trial058_InitView.avi and data.\n",
      "Loading  T:/YuLab/Video/Naveed/GPS_20_ThreeFPHoldSRTProbe/20240819/Init/Clips/Naveed_20240819_Trial059_InitView.avi and data.\n",
      "Loading  T:/YuLab/Video/Naveed/GPS_20_ThreeFPHoldSRTProbe/20240819/Init/Clips/Naveed_20240819_Trial060_InitView.avi and data.\n",
      "Loading  T:/YuLab/Video/Naveed/GPS_20_ThreeFPHoldSRTProbe/20240819/Init/Clips/Naveed_20240819_Trial061_InitView.avi and data.\n",
      "Loading  T:/YuLab/Video/Naveed/GPS_20_ThreeFPHoldSRTProbe/20240819/Init/Clips/Naveed_20240819_Trial062_InitView.avi and data.\n",
      "Loading  T:/YuLab/Video/Naveed/GPS_20_ThreeFPHoldSRTProbe/20240819/Init/Clips/Naveed_20240819_Trial063_InitView.avi and data.\n",
      "Loading  T:/YuLab/Video/Naveed/GPS_20_ThreeFPHoldSRTProbe/20240819/Init/Clips/Naveed_20240819_Trial064_InitView.avi and data.\n",
      "Loading  T:/YuLab/Video/Naveed/GPS_20_ThreeFPHoldSRTProbe/20240819/Init/Clips/Naveed_20240819_Trial065_InitView.avi and data.\n",
      "Loading  T:/YuLab/Video/Naveed/GPS_20_ThreeFPHoldSRTProbe/20240819/Init/Clips/Naveed_20240819_Trial066_InitView.avi and data.\n",
      "Loading  T:/YuLab/Video/Naveed/GPS_20_ThreeFPHoldSRTProbe/20240819/Init/Clips/Naveed_20240819_Trial067_InitView.avi and data.\n",
      "Loading  T:/YuLab/Video/Naveed/GPS_20_ThreeFPHoldSRTProbe/20240819/Init/Clips/Naveed_20240819_Trial068_InitView.avi and data.\n",
      "Loading  T:/YuLab/Video/Naveed/GPS_20_ThreeFPHoldSRTProbe/20240819/Init/Clips/Naveed_20240819_Trial069_InitView.avi and data.\n",
      "Loading  T:/YuLab/Video/Naveed/GPS_20_ThreeFPHoldSRTProbe/20240819/Init/Clips/Naveed_20240819_Trial070_InitView.avi and data.\n",
      "Loading  T:/YuLab/Video/Naveed/GPS_20_ThreeFPHoldSRTProbe/20240819/Init/Clips/Naveed_20240819_Trial071_InitView.avi and data.\n",
      "Loading  T:/YuLab/Video/Naveed/GPS_20_ThreeFPHoldSRTProbe/20240819/Init/Clips/Naveed_20240819_Trial072_InitView.avi and data.\n",
      "Loading  T:/YuLab/Video/Naveed/GPS_20_ThreeFPHoldSRTProbe/20240819/Init/Clips/Naveed_20240819_Trial073_InitView.avi and data.\n",
      "Loading  T:/YuLab/Video/Naveed/GPS_20_ThreeFPHoldSRTProbe/20240819/Init/Clips/Naveed_20240819_Trial074_InitView.avi and data.\n",
      "Loading  T:/YuLab/Video/Naveed/GPS_20_ThreeFPHoldSRTProbe/20240819/Init/Clips/Naveed_20240819_Trial075_InitView.avi and data.\n",
      "Loading  T:/YuLab/Video/Naveed/GPS_20_ThreeFPHoldSRTProbe/20240819/Init/Clips/Naveed_20240819_Trial076_InitView.avi and data.\n",
      "Loading  T:/YuLab/Video/Naveed/GPS_20_ThreeFPHoldSRTProbe/20240819/Init/Clips/Naveed_20240819_Trial077_InitView.avi and data.\n",
      "Loading  T:/YuLab/Video/Naveed/GPS_20_ThreeFPHoldSRTProbe/20240819/Init/Clips/Naveed_20240819_Trial078_InitView.avi and data.\n",
      "Loading  T:/YuLab/Video/Naveed/GPS_20_ThreeFPHoldSRTProbe/20240819/Init/Clips/Naveed_20240819_Trial079_InitView.avi and data.\n",
      "Loading  T:/YuLab/Video/Naveed/GPS_20_ThreeFPHoldSRTProbe/20240819/Init/Clips/Naveed_20240819_Trial080_InitView.avi and data.\n",
      "Loading  T:/YuLab/Video/Naveed/GPS_20_ThreeFPHoldSRTProbe/20240819/Init/Clips/Naveed_20240819_Trial081_InitView.avi and data.\n",
      "Loading  T:/YuLab/Video/Naveed/GPS_20_ThreeFPHoldSRTProbe/20240819/Init/Clips/Naveed_20240819_Trial082_InitView.avi and data.\n",
      "Loading  T:/YuLab/Video/Naveed/GPS_20_ThreeFPHoldSRTProbe/20240819/Init/Clips/Naveed_20240819_Trial083_InitView.avi and data.\n",
      "Loading  T:/YuLab/Video/Naveed/GPS_20_ThreeFPHoldSRTProbe/20240819/Init/Clips/Naveed_20240819_Trial084_InitView.avi and data.\n",
      "Loading  T:/YuLab/Video/Naveed/GPS_20_ThreeFPHoldSRTProbe/20240819/Init/Clips/Naveed_20240819_Trial085_InitView.avi and data.\n",
      "Loading  T:/YuLab/Video/Naveed/GPS_20_ThreeFPHoldSRTProbe/20240819/Init/Clips/Naveed_20240819_Trial086_InitView.avi and data.\n",
      "Loading  T:/YuLab/Video/Naveed/GPS_20_ThreeFPHoldSRTProbe/20240819/Init/Clips/Naveed_20240819_Trial087_InitView.avi and data.\n",
      "Loading  T:/YuLab/Video/Naveed/GPS_20_ThreeFPHoldSRTProbe/20240819/Init/Clips/Naveed_20240819_Trial088_InitView.avi and data.\n",
      "Loading  T:/YuLab/Video/Naveed/GPS_20_ThreeFPHoldSRTProbe/20240819/Init/Clips/Naveed_20240819_Trial089_InitView.avi and data.\n",
      "Loading  T:/YuLab/Video/Naveed/GPS_20_ThreeFPHoldSRTProbe/20240819/Init/Clips/Naveed_20240819_Trial090_InitView.avi and data.\n",
      "Loading  T:/YuLab/Video/Naveed/GPS_20_ThreeFPHoldSRTProbe/20240819/Init/Clips/Naveed_20240819_Trial091_InitView.avi and data.\n",
      "Loading  T:/YuLab/Video/Naveed/GPS_20_ThreeFPHoldSRTProbe/20240819/Init/Clips/Naveed_20240819_Trial092_InitView.avi and data.\n",
      "Loading  T:/YuLab/Video/Naveed/GPS_20_ThreeFPHoldSRTProbe/20240819/Init/Clips/Naveed_20240819_Trial093_InitView.avi and data.\n",
      "Loading  T:/YuLab/Video/Naveed/GPS_20_ThreeFPHoldSRTProbe/20240820/Init/Clips/Naveed_20240820_Trial013_InitView.avi and data.\n",
      "Loading  T:/YuLab/Video/Naveed/GPS_20_ThreeFPHoldSRTProbe/20240820/Init/Clips/Naveed_20240820_Trial014_InitView.avi and data.\n",
      "Loading  T:/YuLab/Video/Naveed/GPS_20_ThreeFPHoldSRTProbe/20240820/Init/Clips/Naveed_20240820_Trial015_InitView.avi and data.\n",
      "Loading  T:/YuLab/Video/Naveed/GPS_20_ThreeFPHoldSRTProbe/20240820/Init/Clips/Naveed_20240820_Trial016_InitView.avi and data.\n",
      "Loading  T:/YuLab/Video/Naveed/GPS_20_ThreeFPHoldSRTProbe/20240820/Init/Clips/Naveed_20240820_Trial017_InitView.avi and data.\n",
      "Loading  T:/YuLab/Video/Naveed/GPS_20_ThreeFPHoldSRTProbe/20240820/Init/Clips/Naveed_20240820_Trial018_InitView.avi and data.\n",
      "Loading  T:/YuLab/Video/Naveed/GPS_20_ThreeFPHoldSRTProbe/20240820/Init/Clips/Naveed_20240820_Trial019_InitView.avi and data.\n",
      "Loading  T:/YuLab/Video/Naveed/GPS_20_ThreeFPHoldSRTProbe/20240820/Init/Clips/Naveed_20240820_Trial020_InitView.avi and data.\n",
      "Loading  T:/YuLab/Video/Naveed/GPS_20_ThreeFPHoldSRTProbe/20240820/Init/Clips/Naveed_20240820_Trial021_InitView.avi and data.\n",
      "Loading  T:/YuLab/Video/Naveed/GPS_20_ThreeFPHoldSRTProbe/20240820/Init/Clips/Naveed_20240820_Trial022_InitView.avi and data.\n",
      "Loading  T:/YuLab/Video/Naveed/GPS_20_ThreeFPHoldSRTProbe/20240820/Init/Clips/Naveed_20240820_Trial023_InitView.avi and data.\n",
      "Loading  T:/YuLab/Video/Naveed/GPS_20_ThreeFPHoldSRTProbe/20240820/Init/Clips/Naveed_20240820_Trial024_InitView.avi and data.\n",
      "Loading  T:/YuLab/Video/Naveed/GPS_20_ThreeFPHoldSRTProbe/20240820/Init/Clips/Naveed_20240820_Trial025_InitView.avi and data.\n",
      "Loading  T:/YuLab/Video/Naveed/GPS_20_ThreeFPHoldSRTProbe/20240820/Init/Clips/Naveed_20240820_Trial026_InitView.avi and data.\n",
      "Loading  T:/YuLab/Video/Naveed/GPS_20_ThreeFPHoldSRTProbe/20240820/Init/Clips/Naveed_20240820_Trial027_InitView.avi and data.\n",
      "Loading  T:/YuLab/Video/Naveed/GPS_20_ThreeFPHoldSRTProbe/20240820/Init/Clips/Naveed_20240820_Trial028_InitView.avi and data.\n",
      "Loading  T:/YuLab/Video/Naveed/GPS_20_ThreeFPHoldSRTProbe/20240820/Init/Clips/Naveed_20240820_Trial029_InitView.avi and data.\n",
      "Loading  T:/YuLab/Video/Naveed/GPS_20_ThreeFPHoldSRTProbe/20240820/Init/Clips/Naveed_20240820_Trial030_InitView.avi and data.\n",
      "Loading  T:/YuLab/Video/Naveed/GPS_20_ThreeFPHoldSRTProbe/20240820/Init/Clips/Naveed_20240820_Trial031_InitView.avi and data.\n",
      "Loading  T:/YuLab/Video/Naveed/GPS_20_ThreeFPHoldSRTProbe/20240820/Init/Clips/Naveed_20240820_Trial032_InitView.avi and data.\n",
      "Loading  T:/YuLab/Video/Naveed/GPS_20_ThreeFPHoldSRTProbe/20240820/Init/Clips/Naveed_20240820_Trial033_InitView.avi and data.\n",
      "Loading  T:/YuLab/Video/Naveed/GPS_20_ThreeFPHoldSRTProbe/20240820/Init/Clips/Naveed_20240820_Trial034_InitView.avi and data.\n",
      "Loading  T:/YuLab/Video/Naveed/GPS_20_ThreeFPHoldSRTProbe/20240820/Init/Clips/Naveed_20240820_Trial035_InitView.avi and data.\n",
      "Loading  T:/YuLab/Video/Naveed/GPS_20_ThreeFPHoldSRTProbe/20240820/Init/Clips/Naveed_20240820_Trial036_InitView.avi and data.\n",
      "Loading  T:/YuLab/Video/Naveed/GPS_20_ThreeFPHoldSRTProbe/20240820/Init/Clips/Naveed_20240820_Trial037_InitView.avi and data.\n",
      "Loading  T:/YuLab/Video/Naveed/GPS_20_ThreeFPHoldSRTProbe/20240820/Init/Clips/Naveed_20240820_Trial038_InitView.avi and data.\n",
      "Loading  T:/YuLab/Video/Naveed/GPS_20_ThreeFPHoldSRTProbe/20240820/Init/Clips/Naveed_20240820_Trial039_InitView.avi and data.\n",
      "Loading  T:/YuLab/Video/Naveed/GPS_20_ThreeFPHoldSRTProbe/20240820/Init/Clips/Naveed_20240820_Trial040_InitView.avi and data.\n",
      "Loading  T:/YuLab/Video/Naveed/GPS_20_ThreeFPHoldSRTProbe/20240820/Init/Clips/Naveed_20240820_Trial041_InitView.avi and data.\n",
      "Loading  T:/YuLab/Video/Naveed/GPS_20_ThreeFPHoldSRTProbe/20240820/Init/Clips/Naveed_20240820_Trial042_InitView.avi and data.\n",
      "Loading  T:/YuLab/Video/Naveed/GPS_20_ThreeFPHoldSRTProbe/20240820/Init/Clips/Naveed_20240820_Trial043_InitView.avi and data.\n",
      "Loading  T:/YuLab/Video/Naveed/GPS_20_ThreeFPHoldSRTProbe/20240820/Init/Clips/Naveed_20240820_Trial044_InitView.avi and data.\n",
      "Loading  T:/YuLab/Video/Naveed/GPS_20_ThreeFPHoldSRTProbe/20240820/Init/Clips/Naveed_20240820_Trial045_InitView.avi and data.\n",
      "Loading  T:/YuLab/Video/Naveed/GPS_20_ThreeFPHoldSRTProbe/20240820/Init/Clips/Naveed_20240820_Trial046_InitView.avi and data.\n",
      "Loading  T:/YuLab/Video/Naveed/GPS_20_ThreeFPHoldSRTProbe/20240820/Init/Clips/Naveed_20240820_Trial047_InitView.avi and data.\n",
      "Loading  T:/YuLab/Video/Naveed/GPS_20_ThreeFPHoldSRTProbe/20240820/Init/Clips/Naveed_20240820_Trial048_InitView.avi and data.\n",
      "Loading  T:/YuLab/Video/Naveed/GPS_20_ThreeFPHoldSRTProbe/20240820/Init/Clips/Naveed_20240820_Trial049_InitView.avi and data.\n",
      "Loading  T:/YuLab/Video/Naveed/GPS_20_ThreeFPHoldSRTProbe/20240820/Init/Clips/Naveed_20240820_Trial050_InitView.avi and data.\n",
      "Loading  T:/YuLab/Video/Naveed/GPS_20_ThreeFPHoldSRTProbe/20240820/Init/Clips/Naveed_20240820_Trial051_InitView.avi and data.\n",
      "Loading  T:/YuLab/Video/Naveed/GPS_20_ThreeFPHoldSRTProbe/20240820/Init/Clips/Naveed_20240820_Trial052_InitView.avi and data.\n",
      "Loading  T:/YuLab/Video/Naveed/GPS_20_ThreeFPHoldSRTProbe/20240820/Init/Clips/Naveed_20240820_Trial053_InitView.avi and data.\n",
      "Loading  T:/YuLab/Video/Naveed/GPS_20_ThreeFPHoldSRTProbe/20240820/Init/Clips/Naveed_20240820_Trial054_InitView.avi and data.\n",
      "Loading  T:/YuLab/Video/Naveed/GPS_20_ThreeFPHoldSRTProbe/20240820/Init/Clips/Naveed_20240820_Trial055_InitView.avi and data.\n",
      "Loading  T:/YuLab/Video/Naveed/GPS_20_ThreeFPHoldSRTProbe/20240820/Init/Clips/Naveed_20240820_Trial056_InitView.avi and data.\n",
      "Loading  T:/YuLab/Video/Naveed/GPS_20_ThreeFPHoldSRTProbe/20240820/Init/Clips/Naveed_20240820_Trial057_InitView.avi and data.\n",
      "Loading  T:/YuLab/Video/Naveed/GPS_20_ThreeFPHoldSRTProbe/20240820/Init/Clips/Naveed_20240820_Trial058_InitView.avi and data.\n",
      "Loading  T:/YuLab/Video/Naveed/GPS_20_ThreeFPHoldSRTProbe/20240820/Init/Clips/Naveed_20240820_Trial059_InitView.avi and data.\n",
      "Loading  T:/YuLab/Video/Naveed/GPS_20_ThreeFPHoldSRTProbe/20240820/Init/Clips/Naveed_20240820_Trial060_InitView.avi and data.\n",
      "Loading  T:/YuLab/Video/Naveed/GPS_20_ThreeFPHoldSRTProbe/20240820/Init/Clips/Naveed_20240820_Trial061_InitView.avi and data.\n",
      "Loading  T:/YuLab/Video/Naveed/GPS_20_ThreeFPHoldSRTProbe/20240820/Init/Clips/Naveed_20240820_Trial062_InitView.avi and data.\n",
      "Loading  T:/YuLab/Video/Naveed/GPS_20_ThreeFPHoldSRTProbe/20240820/Init/Clips/Naveed_20240820_Trial063_InitView.avi and data.\n",
      "Loading  T:/YuLab/Video/Naveed/GPS_20_ThreeFPHoldSRTProbe/20240820/Init/Clips/Naveed_20240820_Trial064_InitView.avi and data.\n",
      "Loading  T:/YuLab/Video/Naveed/GPS_20_ThreeFPHoldSRTProbe/20240820/Init/Clips/Naveed_20240820_Trial065_InitView.avi and data.\n",
      "Loading  T:/YuLab/Video/Naveed/GPS_20_ThreeFPHoldSRTProbe/20240820/Init/Clips/Naveed_20240820_Trial066_InitView.avi and data.\n",
      "Loading  T:/YuLab/Video/Naveed/GPS_20_ThreeFPHoldSRTProbe/20240820/Init/Clips/Naveed_20240820_Trial067_InitView.avi and data.\n",
      "Loading  T:/YuLab/Video/Naveed/GPS_20_ThreeFPHoldSRTProbe/20240820/Init/Clips/Naveed_20240820_Trial068_InitView.avi and data.\n",
      "Loading  T:/YuLab/Video/Naveed/GPS_20_ThreeFPHoldSRTProbe/20240820/Init/Clips/Naveed_20240820_Trial069_InitView.avi and data.\n",
      "Loading  T:/YuLab/Video/Naveed/GPS_20_ThreeFPHoldSRTProbe/20240820/Init/Clips/Naveed_20240820_Trial070_InitView.avi and data.\n",
      "Loading  T:/YuLab/Video/Naveed/GPS_20_ThreeFPHoldSRTProbe/20240820/Init/Clips/Naveed_20240820_Trial071_InitView.avi and data.\n",
      "Loading  T:/YuLab/Video/Naveed/GPS_20_ThreeFPHoldSRTProbe/20240820/Init/Clips/Naveed_20240820_Trial072_InitView.avi and data.\n",
      "Loading  T:/YuLab/Video/Naveed/GPS_20_ThreeFPHoldSRTProbe/20240820/Init/Clips/Naveed_20240820_Trial073_InitView.avi and data.\n",
      "Loading  T:/YuLab/Video/Naveed/GPS_20_ThreeFPHoldSRTProbe/20240820/Init/Clips/Naveed_20240820_Trial074_InitView.avi and data.\n",
      "Loading  T:/YuLab/Video/Naveed/GPS_20_ThreeFPHoldSRTProbe/20240820/Init/Clips/Naveed_20240820_Trial075_InitView.avi and data.\n",
      "Plots created! Please check the directory \"plot-poses\" within the video directory\n"
     ]
    }
   ],
   "source": [
    "deeplabcut.plot_trajectories(config=config_path, videos=video_files, videotype='avi', displayedbodyparts=['ear_base_left', 'ear_base_right', 'body_1', 'port_left', 'port_right'])"
   ]
  }
 ],
 "metadata": {
  "kernelspec": {
   "display_name": "DEEPLABCUT",
   "language": "python",
   "name": "python3"
  },
  "language_info": {
   "codemirror_mode": {
    "name": "ipython",
    "version": 3
   },
   "file_extension": ".py",
   "mimetype": "text/x-python",
   "name": "python",
   "nbconvert_exporter": "python",
   "pygments_lexer": "ipython3",
   "version": "3.8.17"
  }
 },
 "nbformat": 4,
 "nbformat_minor": 2
}
