{
 "cells": [
  {
   "cell_type": "code",
   "execution_count": 1,
   "metadata": {},
   "outputs": [
    {
     "name": "stdout",
     "output_type": "stream",
     "text": [
      "Loading DLC 2.3.5...\n"
     ]
    }
   ],
   "source": [
    "import deeplabcut\n",
    "import tkinter as tk\n",
    "from tkinter import filedialog"
   ]
  },
  {
   "cell_type": "code",
   "execution_count": 2,
   "metadata": {},
   "outputs": [],
   "source": [
    "config_path = r\"D:\\DLC\\MoradTopGPS-ZZH-2023-09-12\\config.yaml\""
   ]
  },
  {
   "cell_type": "markdown",
   "metadata": {},
   "source": [
    "### Add video files to be analyzed"
   ]
  },
  {
   "cell_type": "markdown",
   "metadata": {},
   "source": [
    "#### reset video list"
   ]
  },
  {
   "cell_type": "code",
   "execution_count": 3,
   "metadata": {},
   "outputs": [],
   "source": [
    "video_files = []"
   ]
  },
  {
   "cell_type": "markdown",
   "metadata": {},
   "source": [
    "#### add new videos"
   ]
  },
  {
   "cell_type": "code",
   "execution_count": 4,
   "metadata": {},
   "outputs": [],
   "source": [
    "def select_files(initialdir=r\"D:\\YuLab\\Work\\GPS\\Video\", filetypes=[(\"avi file\", \"*.avi\"), (\"all\", \"*.*\")]):\n",
    "    root = tk.Tk()\n",
    "    root.withdraw\n",
    "    \n",
    "    files = filedialog.askopenfilenames(initialdir=initialdir, filetypes=filetypes)\n",
    "    files = list(files)\n",
    "    files.sort()\n",
    "    print(\"add {:d} video files\".format(len(files)))\n",
    "    root.destroy()\n",
    "\n",
    "    return files"
   ]
  },
  {
   "cell_type": "code",
   "execution_count": 8,
   "metadata": {},
   "outputs": [
    {
     "name": "stdout",
     "output_type": "stream",
     "text": [
      "add 1109 video files\n",
      "1109 video files now\n"
     ]
    }
   ],
   "source": [
    "video_files_to_add = select_files(initialdir=r\"D:\\YuLab\\Work\\GPS\\Video\\Naveed\\GPS_13_ThreeFPHoldSRT\")\n",
    "\n",
    "video_files = video_files + list(set(video_files_to_add))\n",
    "video_files = list(set(video_files))\n",
    "video_files.sort()\n",
    "\n",
    "print(\"now {:d} video files\".format(len(video_files)))"
   ]
  },
  {
   "cell_type": "markdown",
   "metadata": {},
   "source": [
    "### Analyze videos"
   ]
  },
  {
   "cell_type": "code",
   "execution_count": 9,
   "metadata": {},
   "outputs": [
    {
     "name": "stdout",
     "output_type": "stream",
     "text": [
      "Using snapshot-3000000 for model D:\\DLC\\MoradTopGPS-ZZH-2023-09-12\\dlc-models\\iteration-0\\MoradTopGPSSep12-trainset95shuffle1\n"
     ]
    },
    {
     "name": "stderr",
     "output_type": "stream",
     "text": [
      "c:\\Users\\ZhuohaoZhang\\anaconda3\\envs\\DEEPLABCUT\\lib\\site-packages\\tensorflow\\python\\keras\\engine\\base_layer_v1.py:1694: UserWarning: `layer.apply` is deprecated and will be removed in a future version. Please use `layer.__call__` method instead.\n",
      "  warnings.warn('`layer.apply` is deprecated and '\n"
     ]
    },
    {
     "name": "stdout",
     "output_type": "stream",
     "text": [
      "Starting to analyze %  D:/YuLab/Work/GPS/Video/Naveed/GPS_13_ThreeFPHoldSRT/20240517/Top/Clips/Naveed_20240517_HoldTrial014_TopView.avi\n",
      "Loading  D:/YuLab/Work/GPS/Video/Naveed/GPS_13_ThreeFPHoldSRT/20240517/Top/Clips/Naveed_20240517_HoldTrial014_TopView.avi\n",
      "Duration of video [s]:  8.0 , recorded with  25.0 fps!\n",
      "Overall # of frames:  200  found with (before cropping) frame dimensions:  1280 1331\n",
      "Starting to extract posture\n",
      "Cropping based on the x1 = 0 x2 = 1280 y1 = 0 y2 = 1024. You can adjust the cropping coordinates in the config.yaml file.\n"
     ]
    },
    {
     "name": "stderr",
     "output_type": "stream",
     "text": [
      "100%|██████████| 200/200 [00:22<00:00,  8.92it/s]\n"
     ]
    },
    {
     "name": "stdout",
     "output_type": "stream",
     "text": [
      "Saving results in D:\\YuLab\\Work\\GPS\\Video\\Naveed\\GPS_13_ThreeFPHoldSRT\\20240517\\Top\\Clips...\n",
      "Saving csv poses!\n",
      "Starting to analyze %  D:/YuLab/Work/GPS/Video/Naveed/GPS_13_ThreeFPHoldSRT/20240517/Top/Clips/Naveed_20240517_HoldTrial015_TopView.avi\n",
      "Loading  D:/YuLab/Work/GPS/Video/Naveed/GPS_13_ThreeFPHoldSRT/20240517/Top/Clips/Naveed_20240517_HoldTrial015_TopView.avi\n",
      "Duration of video [s]:  7.96 , recorded with  25.0 fps!\n",
      "Overall # of frames:  199  found with (before cropping) frame dimensions:  1280 1331\n",
      "Starting to extract posture\n",
      "Cropping based on the x1 = 0 x2 = 1280 y1 = 0 y2 = 1024. You can adjust the cropping coordinates in the config.yaml file.\n"
     ]
    },
    {
     "name": "stderr",
     "output_type": "stream",
     "text": [
      "100%|██████████| 199/199 [00:08<00:00, 23.37it/s]\n"
     ]
    },
    {
     "name": "stdout",
     "output_type": "stream",
     "text": [
      "Saving results in D:\\YuLab\\Work\\GPS\\Video\\Naveed\\GPS_13_ThreeFPHoldSRT\\20240517\\Top\\Clips...\n",
      "Saving csv poses!\n",
      "Starting to analyze %  D:/YuLab/Work/GPS/Video/Naveed/GPS_13_ThreeFPHoldSRT/20240517/Top/Clips/Naveed_20240517_HoldTrial016_TopView.avi\n",
      "Loading  D:/YuLab/Work/GPS/Video/Naveed/GPS_13_ThreeFPHoldSRT/20240517/Top/Clips/Naveed_20240517_HoldTrial016_TopView.avi\n",
      "Duration of video [s]:  8.04 , recorded with  25.0 fps!\n",
      "Overall # of frames:  201  found with (before cropping) frame dimensions:  1280 1331\n",
      "Starting to extract posture\n",
      "Cropping based on the x1 = 0 x2 = 1280 y1 = 0 y2 = 1024. You can adjust the cropping coordinates in the config.yaml file.\n"
     ]
    },
    {
     "name": "stderr",
     "output_type": "stream",
     "text": [
      "100%|██████████| 201/201 [00:08<00:00, 22.99it/s]\n"
     ]
    },
    {
     "name": "stdout",
     "output_type": "stream",
     "text": [
      "Saving results in D:\\YuLab\\Work\\GPS\\Video\\Naveed\\GPS_13_ThreeFPHoldSRT\\20240517\\Top\\Clips...\n",
      "Saving csv poses!\n",
      "Starting to analyze %  D:/YuLab/Work/GPS/Video/Naveed/GPS_13_ThreeFPHoldSRT/20240517/Top/Clips/Naveed_20240517_HoldTrial017_TopView.avi\n",
      "Loading  D:/YuLab/Work/GPS/Video/Naveed/GPS_13_ThreeFPHoldSRT/20240517/Top/Clips/Naveed_20240517_HoldTrial017_TopView.avi\n",
      "Duration of video [s]:  8.04 , recorded with  25.0 fps!\n",
      "Overall # of frames:  201  found with (before cropping) frame dimensions:  1280 1331\n",
      "Starting to extract posture\n",
      "Cropping based on the x1 = 0 x2 = 1280 y1 = 0 y2 = 1024. You can adjust the cropping coordinates in the config.yaml file.\n"
     ]
    },
    {
     "name": "stderr",
     "output_type": "stream",
     "text": [
      "100%|██████████| 201/201 [00:08<00:00, 23.23it/s]\n"
     ]
    },
    {
     "name": "stdout",
     "output_type": "stream",
     "text": [
      "Saving results in D:\\YuLab\\Work\\GPS\\Video\\Naveed\\GPS_13_ThreeFPHoldSRT\\20240517\\Top\\Clips...\n",
      "Saving csv poses!\n",
      "Starting to analyze %  D:/YuLab/Work/GPS/Video/Naveed/GPS_13_ThreeFPHoldSRT/20240517/Top/Clips/Naveed_20240517_HoldTrial018_TopView.avi\n",
      "Loading  D:/YuLab/Work/GPS/Video/Naveed/GPS_13_ThreeFPHoldSRT/20240517/Top/Clips/Naveed_20240517_HoldTrial018_TopView.avi\n",
      "Duration of video [s]:  8.04 , recorded with  25.0 fps!\n",
      "Overall # of frames:  201  found with (before cropping) frame dimensions:  1280 1331\n",
      "Starting to extract posture\n",
      "Cropping based on the x1 = 0 x2 = 1280 y1 = 0 y2 = 1024. You can adjust the cropping coordinates in the config.yaml file.\n"
     ]
    },
    {
     "name": "stderr",
     "output_type": "stream",
     "text": [
      "100%|██████████| 201/201 [00:08<00:00, 23.11it/s]\n"
     ]
    },
    {
     "name": "stdout",
     "output_type": "stream",
     "text": [
      "Saving results in D:\\YuLab\\Work\\GPS\\Video\\Naveed\\GPS_13_ThreeFPHoldSRT\\20240517\\Top\\Clips...\n",
      "Saving csv poses!\n",
      "Starting to analyze %  D:/YuLab/Work/GPS/Video/Naveed/GPS_13_ThreeFPHoldSRT/20240517/Top/Clips/Naveed_20240517_HoldTrial019_TopView.avi\n",
      "Loading  D:/YuLab/Work/GPS/Video/Naveed/GPS_13_ThreeFPHoldSRT/20240517/Top/Clips/Naveed_20240517_HoldTrial019_TopView.avi\n",
      "Duration of video [s]:  8.0 , recorded with  25.0 fps!\n",
      "Overall # of frames:  200  found with (before cropping) frame dimensions:  1280 1331\n",
      "Starting to extract posture\n",
      "Cropping based on the x1 = 0 x2 = 1280 y1 = 0 y2 = 1024. You can adjust the cropping coordinates in the config.yaml file.\n"
     ]
    },
    {
     "name": "stderr",
     "output_type": "stream",
     "text": [
      "100%|██████████| 200/200 [00:08<00:00, 23.28it/s]\n"
     ]
    },
    {
     "name": "stdout",
     "output_type": "stream",
     "text": [
      "Saving results in D:\\YuLab\\Work\\GPS\\Video\\Naveed\\GPS_13_ThreeFPHoldSRT\\20240517\\Top\\Clips...\n",
      "Saving csv poses!\n",
      "Starting to analyze %  D:/YuLab/Work/GPS/Video/Naveed/GPS_13_ThreeFPHoldSRT/20240517/Top/Clips/Naveed_20240517_HoldTrial020_TopView.avi\n",
      "Loading  D:/YuLab/Work/GPS/Video/Naveed/GPS_13_ThreeFPHoldSRT/20240517/Top/Clips/Naveed_20240517_HoldTrial020_TopView.avi\n",
      "Duration of video [s]:  8.04 , recorded with  25.0 fps!\n",
      "Overall # of frames:  201  found with (before cropping) frame dimensions:  1280 1331\n",
      "Starting to extract posture\n",
      "Cropping based on the x1 = 0 x2 = 1280 y1 = 0 y2 = 1024. You can adjust the cropping coordinates in the config.yaml file.\n"
     ]
    },
    {
     "name": "stderr",
     "output_type": "stream",
     "text": [
      "100%|██████████| 201/201 [00:08<00:00, 22.64it/s]\n"
     ]
    },
    {
     "name": "stdout",
     "output_type": "stream",
     "text": [
      "Saving results in D:\\YuLab\\Work\\GPS\\Video\\Naveed\\GPS_13_ThreeFPHoldSRT\\20240517\\Top\\Clips...\n",
      "Saving csv poses!\n",
      "Starting to analyze %  D:/YuLab/Work/GPS/Video/Naveed/GPS_13_ThreeFPHoldSRT/20240517/Top/Clips/Naveed_20240517_HoldTrial021_TopView.avi\n",
      "Loading  D:/YuLab/Work/GPS/Video/Naveed/GPS_13_ThreeFPHoldSRT/20240517/Top/Clips/Naveed_20240517_HoldTrial021_TopView.avi\n",
      "Duration of video [s]:  8.04 , recorded with  25.0 fps!\n",
      "Overall # of frames:  201  found with (before cropping) frame dimensions:  1280 1331\n",
      "Starting to extract posture\n",
      "Cropping based on the x1 = 0 x2 = 1280 y1 = 0 y2 = 1024. You can adjust the cropping coordinates in the config.yaml file.\n"
     ]
    },
    {
     "name": "stderr",
     "output_type": "stream",
     "text": [
      "100%|██████████| 201/201 [00:08<00:00, 22.80it/s]\n"
     ]
    },
    {
     "name": "stdout",
     "output_type": "stream",
     "text": [
      "Saving results in D:\\YuLab\\Work\\GPS\\Video\\Naveed\\GPS_13_ThreeFPHoldSRT\\20240517\\Top\\Clips...\n",
      "Saving csv poses!\n",
      "Starting to analyze %  D:/YuLab/Work/GPS/Video/Naveed/GPS_13_ThreeFPHoldSRT/20240517/Top/Clips/Naveed_20240517_HoldTrial022_TopView.avi\n",
      "Loading  D:/YuLab/Work/GPS/Video/Naveed/GPS_13_ThreeFPHoldSRT/20240517/Top/Clips/Naveed_20240517_HoldTrial022_TopView.avi\n",
      "Duration of video [s]:  8.0 , recorded with  25.0 fps!\n",
      "Overall # of frames:  200  found with (before cropping) frame dimensions:  1280 1331\n",
      "Starting to extract posture\n",
      "Cropping based on the x1 = 0 x2 = 1280 y1 = 0 y2 = 1024. You can adjust the cropping coordinates in the config.yaml file.\n"
     ]
    },
    {
     "name": "stderr",
     "output_type": "stream",
     "text": [
      "100%|██████████| 200/200 [00:08<00:00, 23.60it/s]\n"
     ]
    },
    {
     "name": "stdout",
     "output_type": "stream",
     "text": [
      "Saving results in D:\\YuLab\\Work\\GPS\\Video\\Naveed\\GPS_13_ThreeFPHoldSRT\\20240517\\Top\\Clips...\n",
      "Saving csv poses!\n",
      "Starting to analyze %  D:/YuLab/Work/GPS/Video/Naveed/GPS_13_ThreeFPHoldSRT/20240517/Top/Clips/Naveed_20240517_HoldTrial023_TopView.avi\n",
      "Loading  D:/YuLab/Work/GPS/Video/Naveed/GPS_13_ThreeFPHoldSRT/20240517/Top/Clips/Naveed_20240517_HoldTrial023_TopView.avi\n",
      "Duration of video [s]:  8.0 , recorded with  25.0 fps!\n",
      "Overall # of frames:  200  found with (before cropping) frame dimensions:  1280 1331\n",
      "Starting to extract posture\n",
      "Cropping based on the x1 = 0 x2 = 1280 y1 = 0 y2 = 1024. You can adjust the cropping coordinates in the config.yaml file.\n"
     ]
    },
    {
     "name": "stderr",
     "output_type": "stream",
     "text": [
      "100%|██████████| 200/200 [00:08<00:00, 23.24it/s]\n"
     ]
    },
    {
     "name": "stdout",
     "output_type": "stream",
     "text": [
      "Saving results in D:\\YuLab\\Work\\GPS\\Video\\Naveed\\GPS_13_ThreeFPHoldSRT\\20240517\\Top\\Clips...\n",
      "Saving csv poses!\n",
      "Starting to analyze %  D:/YuLab/Work/GPS/Video/Naveed/GPS_13_ThreeFPHoldSRT/20240517/Top/Clips/Naveed_20240517_HoldTrial024_TopView.avi\n",
      "Loading  D:/YuLab/Work/GPS/Video/Naveed/GPS_13_ThreeFPHoldSRT/20240517/Top/Clips/Naveed_20240517_HoldTrial024_TopView.avi\n",
      "Duration of video [s]:  8.0 , recorded with  25.0 fps!\n",
      "Overall # of frames:  200  found with (before cropping) frame dimensions:  1280 1331\n",
      "Starting to extract posture\n",
      "Cropping based on the x1 = 0 x2 = 1280 y1 = 0 y2 = 1024. You can adjust the cropping coordinates in the config.yaml file.\n"
     ]
    },
    {
     "name": "stderr",
     "output_type": "stream",
     "text": [
      "100%|██████████| 200/200 [00:08<00:00, 22.92it/s]\n"
     ]
    },
    {
     "name": "stdout",
     "output_type": "stream",
     "text": [
      "Saving results in D:\\YuLab\\Work\\GPS\\Video\\Naveed\\GPS_13_ThreeFPHoldSRT\\20240517\\Top\\Clips...\n",
      "Saving csv poses!\n",
      "Starting to analyze %  D:/YuLab/Work/GPS/Video/Naveed/GPS_13_ThreeFPHoldSRT/20240517/Top/Clips/Naveed_20240517_HoldTrial025_TopView.avi\n",
      "Loading  D:/YuLab/Work/GPS/Video/Naveed/GPS_13_ThreeFPHoldSRT/20240517/Top/Clips/Naveed_20240517_HoldTrial025_TopView.avi\n",
      "Duration of video [s]:  8.04 , recorded with  25.0 fps!\n",
      "Overall # of frames:  201  found with (before cropping) frame dimensions:  1280 1331\n",
      "Starting to extract posture\n",
      "Cropping based on the x1 = 0 x2 = 1280 y1 = 0 y2 = 1024. You can adjust the cropping coordinates in the config.yaml file.\n"
     ]
    },
    {
     "name": "stderr",
     "output_type": "stream",
     "text": [
      "100%|██████████| 201/201 [00:08<00:00, 22.34it/s]\n"
     ]
    },
    {
     "name": "stdout",
     "output_type": "stream",
     "text": [
      "Saving results in D:\\YuLab\\Work\\GPS\\Video\\Naveed\\GPS_13_ThreeFPHoldSRT\\20240517\\Top\\Clips...\n",
      "Saving csv poses!\n",
      "Starting to analyze %  D:/YuLab/Work/GPS/Video/Naveed/GPS_13_ThreeFPHoldSRT/20240517/Top/Clips/Naveed_20240517_HoldTrial026_TopView.avi\n",
      "Loading  D:/YuLab/Work/GPS/Video/Naveed/GPS_13_ThreeFPHoldSRT/20240517/Top/Clips/Naveed_20240517_HoldTrial026_TopView.avi\n",
      "Duration of video [s]:  8.0 , recorded with  25.0 fps!\n",
      "Overall # of frames:  200  found with (before cropping) frame dimensions:  1280 1331\n",
      "Starting to extract posture\n",
      "Cropping based on the x1 = 0 x2 = 1280 y1 = 0 y2 = 1024. You can adjust the cropping coordinates in the config.yaml file.\n"
     ]
    },
    {
     "name": "stderr",
     "output_type": "stream",
     "text": [
      "100%|██████████| 200/200 [00:08<00:00, 23.21it/s]\n"
     ]
    },
    {
     "name": "stdout",
     "output_type": "stream",
     "text": [
      "Saving results in D:\\YuLab\\Work\\GPS\\Video\\Naveed\\GPS_13_ThreeFPHoldSRT\\20240517\\Top\\Clips...\n",
      "Saving csv poses!\n",
      "Starting to analyze %  D:/YuLab/Work/GPS/Video/Naveed/GPS_13_ThreeFPHoldSRT/20240517/Top/Clips/Naveed_20240517_HoldTrial027_TopView.avi\n",
      "Loading  D:/YuLab/Work/GPS/Video/Naveed/GPS_13_ThreeFPHoldSRT/20240517/Top/Clips/Naveed_20240517_HoldTrial027_TopView.avi\n",
      "Duration of video [s]:  8.0 , recorded with  25.0 fps!\n",
      "Overall # of frames:  200  found with (before cropping) frame dimensions:  1280 1331\n",
      "Starting to extract posture\n",
      "Cropping based on the x1 = 0 x2 = 1280 y1 = 0 y2 = 1024. You can adjust the cropping coordinates in the config.yaml file.\n"
     ]
    },
    {
     "name": "stderr",
     "output_type": "stream",
     "text": [
      "100%|██████████| 200/200 [00:08<00:00, 23.38it/s]\n"
     ]
    },
    {
     "name": "stdout",
     "output_type": "stream",
     "text": [
      "Saving results in D:\\YuLab\\Work\\GPS\\Video\\Naveed\\GPS_13_ThreeFPHoldSRT\\20240517\\Top\\Clips...\n",
      "Saving csv poses!\n",
      "Starting to analyze %  D:/YuLab/Work/GPS/Video/Naveed/GPS_13_ThreeFPHoldSRT/20240517/Top/Clips/Naveed_20240517_HoldTrial028_TopView.avi\n",
      "Loading  D:/YuLab/Work/GPS/Video/Naveed/GPS_13_ThreeFPHoldSRT/20240517/Top/Clips/Naveed_20240517_HoldTrial028_TopView.avi\n",
      "Duration of video [s]:  8.04 , recorded with  25.0 fps!\n",
      "Overall # of frames:  201  found with (before cropping) frame dimensions:  1280 1331\n",
      "Starting to extract posture\n",
      "Cropping based on the x1 = 0 x2 = 1280 y1 = 0 y2 = 1024. You can adjust the cropping coordinates in the config.yaml file.\n"
     ]
    },
    {
     "name": "stderr",
     "output_type": "stream",
     "text": [
      "100%|██████████| 201/201 [00:08<00:00, 22.76it/s]\n"
     ]
    },
    {
     "name": "stdout",
     "output_type": "stream",
     "text": [
      "Saving results in D:\\YuLab\\Work\\GPS\\Video\\Naveed\\GPS_13_ThreeFPHoldSRT\\20240517\\Top\\Clips...\n",
      "Saving csv poses!\n",
      "Starting to analyze %  D:/YuLab/Work/GPS/Video/Naveed/GPS_13_ThreeFPHoldSRT/20240517/Top/Clips/Naveed_20240517_HoldTrial029_TopView.avi\n",
      "Loading  D:/YuLab/Work/GPS/Video/Naveed/GPS_13_ThreeFPHoldSRT/20240517/Top/Clips/Naveed_20240517_HoldTrial029_TopView.avi\n",
      "Duration of video [s]:  8.04 , recorded with  25.0 fps!\n",
      "Overall # of frames:  201  found with (before cropping) frame dimensions:  1280 1331\n",
      "Starting to extract posture\n",
      "Cropping based on the x1 = 0 x2 = 1280 y1 = 0 y2 = 1024. You can adjust the cropping coordinates in the config.yaml file.\n"
     ]
    },
    {
     "name": "stderr",
     "output_type": "stream",
     "text": [
      "100%|██████████| 201/201 [00:08<00:00, 22.90it/s]\n"
     ]
    },
    {
     "name": "stdout",
     "output_type": "stream",
     "text": [
      "Saving results in D:\\YuLab\\Work\\GPS\\Video\\Naveed\\GPS_13_ThreeFPHoldSRT\\20240517\\Top\\Clips...\n",
      "Saving csv poses!\n",
      "Starting to analyze %  D:/YuLab/Work/GPS/Video/Naveed/GPS_13_ThreeFPHoldSRT/20240517/Top/Clips/Naveed_20240517_HoldTrial030_TopView.avi\n",
      "Loading  D:/YuLab/Work/GPS/Video/Naveed/GPS_13_ThreeFPHoldSRT/20240517/Top/Clips/Naveed_20240517_HoldTrial030_TopView.avi\n",
      "Duration of video [s]:  8.0 , recorded with  25.0 fps!\n",
      "Overall # of frames:  200  found with (before cropping) frame dimensions:  1280 1331\n",
      "Starting to extract posture\n",
      "Cropping based on the x1 = 0 x2 = 1280 y1 = 0 y2 = 1024. You can adjust the cropping coordinates in the config.yaml file.\n"
     ]
    },
    {
     "name": "stderr",
     "output_type": "stream",
     "text": [
      "100%|██████████| 200/200 [00:08<00:00, 23.49it/s]\n"
     ]
    },
    {
     "name": "stdout",
     "output_type": "stream",
     "text": [
      "Saving results in D:\\YuLab\\Work\\GPS\\Video\\Naveed\\GPS_13_ThreeFPHoldSRT\\20240517\\Top\\Clips...\n",
      "Saving csv poses!\n",
      "Starting to analyze %  D:/YuLab/Work/GPS/Video/Naveed/GPS_13_ThreeFPHoldSRT/20240517/Top/Clips/Naveed_20240517_HoldTrial031_TopView.avi\n",
      "Loading  D:/YuLab/Work/GPS/Video/Naveed/GPS_13_ThreeFPHoldSRT/20240517/Top/Clips/Naveed_20240517_HoldTrial031_TopView.avi\n",
      "Duration of video [s]:  8.04 , recorded with  25.0 fps!\n",
      "Overall # of frames:  201  found with (before cropping) frame dimensions:  1280 1331\n",
      "Starting to extract posture\n",
      "Cropping based on the x1 = 0 x2 = 1280 y1 = 0 y2 = 1024. You can adjust the cropping coordinates in the config.yaml file.\n"
     ]
    },
    {
     "name": "stderr",
     "output_type": "stream",
     "text": [
      "100%|██████████| 201/201 [00:08<00:00, 22.85it/s]\n"
     ]
    },
    {
     "name": "stdout",
     "output_type": "stream",
     "text": [
      "Saving results in D:\\YuLab\\Work\\GPS\\Video\\Naveed\\GPS_13_ThreeFPHoldSRT\\20240517\\Top\\Clips...\n",
      "Saving csv poses!\n",
      "Starting to analyze %  D:/YuLab/Work/GPS/Video/Naveed/GPS_13_ThreeFPHoldSRT/20240517/Top/Clips/Naveed_20240517_HoldTrial032_TopView.avi\n",
      "Loading  D:/YuLab/Work/GPS/Video/Naveed/GPS_13_ThreeFPHoldSRT/20240517/Top/Clips/Naveed_20240517_HoldTrial032_TopView.avi\n",
      "Duration of video [s]:  7.96 , recorded with  25.0 fps!\n",
      "Overall # of frames:  199  found with (before cropping) frame dimensions:  1280 1331\n",
      "Starting to extract posture\n",
      "Cropping based on the x1 = 0 x2 = 1280 y1 = 0 y2 = 1024. You can adjust the cropping coordinates in the config.yaml file.\n"
     ]
    },
    {
     "name": "stderr",
     "output_type": "stream",
     "text": [
      "100%|██████████| 199/199 [00:08<00:00, 23.35it/s]\n"
     ]
    },
    {
     "name": "stdout",
     "output_type": "stream",
     "text": [
      "Saving results in D:\\YuLab\\Work\\GPS\\Video\\Naveed\\GPS_13_ThreeFPHoldSRT\\20240517\\Top\\Clips...\n",
      "Saving csv poses!\n",
      "Starting to analyze %  D:/YuLab/Work/GPS/Video/Naveed/GPS_13_ThreeFPHoldSRT/20240517/Top/Clips/Naveed_20240517_HoldTrial033_TopView.avi\n",
      "Loading  D:/YuLab/Work/GPS/Video/Naveed/GPS_13_ThreeFPHoldSRT/20240517/Top/Clips/Naveed_20240517_HoldTrial033_TopView.avi\n",
      "Duration of video [s]:  8.0 , recorded with  25.0 fps!\n",
      "Overall # of frames:  200  found with (before cropping) frame dimensions:  1280 1331\n",
      "Starting to extract posture\n",
      "Cropping based on the x1 = 0 x2 = 1280 y1 = 0 y2 = 1024. You can adjust the cropping coordinates in the config.yaml file.\n"
     ]
    },
    {
     "name": "stderr",
     "output_type": "stream",
     "text": [
      "100%|██████████| 200/200 [00:08<00:00, 23.29it/s]\n"
     ]
    },
    {
     "name": "stdout",
     "output_type": "stream",
     "text": [
      "Saving results in D:\\YuLab\\Work\\GPS\\Video\\Naveed\\GPS_13_ThreeFPHoldSRT\\20240517\\Top\\Clips...\n",
      "Saving csv poses!\n",
      "Starting to analyze %  D:/YuLab/Work/GPS/Video/Naveed/GPS_13_ThreeFPHoldSRT/20240517/Top/Clips/Naveed_20240517_HoldTrial034_TopView.avi\n",
      "Loading  D:/YuLab/Work/GPS/Video/Naveed/GPS_13_ThreeFPHoldSRT/20240517/Top/Clips/Naveed_20240517_HoldTrial034_TopView.avi\n",
      "Duration of video [s]:  8.04 , recorded with  25.0 fps!\n",
      "Overall # of frames:  201  found with (before cropping) frame dimensions:  1280 1331\n",
      "Starting to extract posture\n",
      "Cropping based on the x1 = 0 x2 = 1280 y1 = 0 y2 = 1024. You can adjust the cropping coordinates in the config.yaml file.\n"
     ]
    },
    {
     "name": "stderr",
     "output_type": "stream",
     "text": [
      "100%|██████████| 201/201 [00:08<00:00, 22.80it/s]\n"
     ]
    },
    {
     "name": "stdout",
     "output_type": "stream",
     "text": [
      "Saving results in D:\\YuLab\\Work\\GPS\\Video\\Naveed\\GPS_13_ThreeFPHoldSRT\\20240517\\Top\\Clips...\n",
      "Saving csv poses!\n",
      "Starting to analyze %  D:/YuLab/Work/GPS/Video/Naveed/GPS_13_ThreeFPHoldSRT/20240517/Top/Clips/Naveed_20240517_HoldTrial035_TopView.avi\n",
      "Loading  D:/YuLab/Work/GPS/Video/Naveed/GPS_13_ThreeFPHoldSRT/20240517/Top/Clips/Naveed_20240517_HoldTrial035_TopView.avi\n",
      "Duration of video [s]:  8.0 , recorded with  25.0 fps!\n",
      "Overall # of frames:  200  found with (before cropping) frame dimensions:  1280 1331\n",
      "Starting to extract posture\n",
      "Cropping based on the x1 = 0 x2 = 1280 y1 = 0 y2 = 1024. You can adjust the cropping coordinates in the config.yaml file.\n"
     ]
    },
    {
     "name": "stderr",
     "output_type": "stream",
     "text": [
      "100%|██████████| 200/200 [00:08<00:00, 23.07it/s]\n"
     ]
    },
    {
     "name": "stdout",
     "output_type": "stream",
     "text": [
      "Saving results in D:\\YuLab\\Work\\GPS\\Video\\Naveed\\GPS_13_ThreeFPHoldSRT\\20240517\\Top\\Clips...\n",
      "Saving csv poses!\n",
      "Starting to analyze %  D:/YuLab/Work/GPS/Video/Naveed/GPS_13_ThreeFPHoldSRT/20240517/Top/Clips/Naveed_20240517_HoldTrial036_TopView.avi\n",
      "Loading  D:/YuLab/Work/GPS/Video/Naveed/GPS_13_ThreeFPHoldSRT/20240517/Top/Clips/Naveed_20240517_HoldTrial036_TopView.avi\n",
      "Duration of video [s]:  8.0 , recorded with  25.0 fps!\n",
      "Overall # of frames:  200  found with (before cropping) frame dimensions:  1280 1331\n",
      "Starting to extract posture\n",
      "Cropping based on the x1 = 0 x2 = 1280 y1 = 0 y2 = 1024. You can adjust the cropping coordinates in the config.yaml file.\n"
     ]
    },
    {
     "name": "stderr",
     "output_type": "stream",
     "text": [
      "100%|██████████| 200/200 [00:08<00:00, 23.22it/s]\n"
     ]
    },
    {
     "name": "stdout",
     "output_type": "stream",
     "text": [
      "Saving results in D:\\YuLab\\Work\\GPS\\Video\\Naveed\\GPS_13_ThreeFPHoldSRT\\20240517\\Top\\Clips...\n",
      "Saving csv poses!\n",
      "Starting to analyze %  D:/YuLab/Work/GPS/Video/Naveed/GPS_13_ThreeFPHoldSRT/20240517/Top/Clips/Naveed_20240517_HoldTrial037_TopView.avi\n",
      "Loading  D:/YuLab/Work/GPS/Video/Naveed/GPS_13_ThreeFPHoldSRT/20240517/Top/Clips/Naveed_20240517_HoldTrial037_TopView.avi\n",
      "Duration of video [s]:  8.0 , recorded with  25.0 fps!\n",
      "Overall # of frames:  200  found with (before cropping) frame dimensions:  1280 1331\n",
      "Starting to extract posture\n",
      "Cropping based on the x1 = 0 x2 = 1280 y1 = 0 y2 = 1024. You can adjust the cropping coordinates in the config.yaml file.\n"
     ]
    },
    {
     "name": "stderr",
     "output_type": "stream",
     "text": [
      "100%|██████████| 200/200 [00:08<00:00, 23.03it/s]\n"
     ]
    },
    {
     "name": "stdout",
     "output_type": "stream",
     "text": [
      "Saving results in D:\\YuLab\\Work\\GPS\\Video\\Naveed\\GPS_13_ThreeFPHoldSRT\\20240517\\Top\\Clips...\n",
      "Saving csv poses!\n",
      "Starting to analyze %  D:/YuLab/Work/GPS/Video/Naveed/GPS_13_ThreeFPHoldSRT/20240517/Top/Clips/Naveed_20240517_HoldTrial038_TopView.avi\n",
      "Loading  D:/YuLab/Work/GPS/Video/Naveed/GPS_13_ThreeFPHoldSRT/20240517/Top/Clips/Naveed_20240517_HoldTrial038_TopView.avi\n",
      "Duration of video [s]:  8.04 , recorded with  25.0 fps!\n",
      "Overall # of frames:  201  found with (before cropping) frame dimensions:  1280 1331\n",
      "Starting to extract posture\n",
      "Cropping based on the x1 = 0 x2 = 1280 y1 = 0 y2 = 1024. You can adjust the cropping coordinates in the config.yaml file.\n"
     ]
    },
    {
     "name": "stderr",
     "output_type": "stream",
     "text": [
      "100%|██████████| 201/201 [00:09<00:00, 22.29it/s]\n"
     ]
    },
    {
     "name": "stdout",
     "output_type": "stream",
     "text": [
      "Saving results in D:\\YuLab\\Work\\GPS\\Video\\Naveed\\GPS_13_ThreeFPHoldSRT\\20240517\\Top\\Clips...\n",
      "Saving csv poses!\n",
      "Starting to analyze %  D:/YuLab/Work/GPS/Video/Naveed/GPS_13_ThreeFPHoldSRT/20240517/Top/Clips/Naveed_20240517_HoldTrial039_TopView.avi\n",
      "Loading  D:/YuLab/Work/GPS/Video/Naveed/GPS_13_ThreeFPHoldSRT/20240517/Top/Clips/Naveed_20240517_HoldTrial039_TopView.avi\n",
      "Duration of video [s]:  8.0 , recorded with  25.0 fps!\n",
      "Overall # of frames:  200  found with (before cropping) frame dimensions:  1280 1331\n",
      "Starting to extract posture\n",
      "Cropping based on the x1 = 0 x2 = 1280 y1 = 0 y2 = 1024. You can adjust the cropping coordinates in the config.yaml file.\n"
     ]
    },
    {
     "name": "stderr",
     "output_type": "stream",
     "text": [
      "100%|██████████| 200/200 [00:08<00:00, 23.06it/s]\n"
     ]
    },
    {
     "name": "stdout",
     "output_type": "stream",
     "text": [
      "Saving results in D:\\YuLab\\Work\\GPS\\Video\\Naveed\\GPS_13_ThreeFPHoldSRT\\20240517\\Top\\Clips...\n",
      "Saving csv poses!\n",
      "Starting to analyze %  D:/YuLab/Work/GPS/Video/Naveed/GPS_13_ThreeFPHoldSRT/20240517/Top/Clips/Naveed_20240517_HoldTrial040_TopView.avi\n",
      "Loading  D:/YuLab/Work/GPS/Video/Naveed/GPS_13_ThreeFPHoldSRT/20240517/Top/Clips/Naveed_20240517_HoldTrial040_TopView.avi\n",
      "Duration of video [s]:  8.04 , recorded with  25.0 fps!\n",
      "Overall # of frames:  201  found with (before cropping) frame dimensions:  1280 1331\n",
      "Starting to extract posture\n",
      "Cropping based on the x1 = 0 x2 = 1280 y1 = 0 y2 = 1024. You can adjust the cropping coordinates in the config.yaml file.\n"
     ]
    },
    {
     "name": "stderr",
     "output_type": "stream",
     "text": [
      "100%|██████████| 201/201 [00:08<00:00, 22.40it/s]\n"
     ]
    },
    {
     "name": "stdout",
     "output_type": "stream",
     "text": [
      "Saving results in D:\\YuLab\\Work\\GPS\\Video\\Naveed\\GPS_13_ThreeFPHoldSRT\\20240517\\Top\\Clips...\n",
      "Saving csv poses!\n",
      "Starting to analyze %  D:/YuLab/Work/GPS/Video/Naveed/GPS_13_ThreeFPHoldSRT/20240517/Top/Clips/Naveed_20240517_HoldTrial041_TopView.avi\n",
      "Loading  D:/YuLab/Work/GPS/Video/Naveed/GPS_13_ThreeFPHoldSRT/20240517/Top/Clips/Naveed_20240517_HoldTrial041_TopView.avi\n",
      "Duration of video [s]:  8.0 , recorded with  25.0 fps!\n",
      "Overall # of frames:  200  found with (before cropping) frame dimensions:  1280 1331\n",
      "Starting to extract posture\n",
      "Cropping based on the x1 = 0 x2 = 1280 y1 = 0 y2 = 1024. You can adjust the cropping coordinates in the config.yaml file.\n"
     ]
    },
    {
     "name": "stderr",
     "output_type": "stream",
     "text": [
      "100%|██████████| 200/200 [00:08<00:00, 23.05it/s]\n"
     ]
    },
    {
     "name": "stdout",
     "output_type": "stream",
     "text": [
      "Saving results in D:\\YuLab\\Work\\GPS\\Video\\Naveed\\GPS_13_ThreeFPHoldSRT\\20240517\\Top\\Clips...\n",
      "Saving csv poses!\n",
      "Starting to analyze %  D:/YuLab/Work/GPS/Video/Naveed/GPS_13_ThreeFPHoldSRT/20240517/Top/Clips/Naveed_20240517_HoldTrial042_TopView.avi\n",
      "Loading  D:/YuLab/Work/GPS/Video/Naveed/GPS_13_ThreeFPHoldSRT/20240517/Top/Clips/Naveed_20240517_HoldTrial042_TopView.avi\n",
      "Duration of video [s]:  8.04 , recorded with  25.0 fps!\n",
      "Overall # of frames:  201  found with (before cropping) frame dimensions:  1280 1331\n",
      "Starting to extract posture\n",
      "Cropping based on the x1 = 0 x2 = 1280 y1 = 0 y2 = 1024. You can adjust the cropping coordinates in the config.yaml file.\n"
     ]
    },
    {
     "name": "stderr",
     "output_type": "stream",
     "text": [
      "100%|██████████| 201/201 [00:08<00:00, 22.45it/s]\n"
     ]
    },
    {
     "name": "stdout",
     "output_type": "stream",
     "text": [
      "Saving results in D:\\YuLab\\Work\\GPS\\Video\\Naveed\\GPS_13_ThreeFPHoldSRT\\20240517\\Top\\Clips...\n",
      "Saving csv poses!\n",
      "Starting to analyze %  D:/YuLab/Work/GPS/Video/Naveed/GPS_13_ThreeFPHoldSRT/20240517/Top/Clips/Naveed_20240517_HoldTrial043_TopView.avi\n",
      "Loading  D:/YuLab/Work/GPS/Video/Naveed/GPS_13_ThreeFPHoldSRT/20240517/Top/Clips/Naveed_20240517_HoldTrial043_TopView.avi\n",
      "Duration of video [s]:  8.0 , recorded with  25.0 fps!\n",
      "Overall # of frames:  200  found with (before cropping) frame dimensions:  1280 1331\n",
      "Starting to extract posture\n",
      "Cropping based on the x1 = 0 x2 = 1280 y1 = 0 y2 = 1024. You can adjust the cropping coordinates in the config.yaml file.\n"
     ]
    },
    {
     "name": "stderr",
     "output_type": "stream",
     "text": [
      "100%|██████████| 200/200 [00:08<00:00, 22.93it/s]\n"
     ]
    },
    {
     "name": "stdout",
     "output_type": "stream",
     "text": [
      "Saving results in D:\\YuLab\\Work\\GPS\\Video\\Naveed\\GPS_13_ThreeFPHoldSRT\\20240517\\Top\\Clips...\n",
      "Saving csv poses!\n",
      "Starting to analyze %  D:/YuLab/Work/GPS/Video/Naveed/GPS_13_ThreeFPHoldSRT/20240517/Top/Clips/Naveed_20240517_HoldTrial044_TopView.avi\n",
      "Loading  D:/YuLab/Work/GPS/Video/Naveed/GPS_13_ThreeFPHoldSRT/20240517/Top/Clips/Naveed_20240517_HoldTrial044_TopView.avi\n",
      "Duration of video [s]:  8.04 , recorded with  25.0 fps!\n",
      "Overall # of frames:  201  found with (before cropping) frame dimensions:  1280 1331\n",
      "Starting to extract posture\n",
      "Cropping based on the x1 = 0 x2 = 1280 y1 = 0 y2 = 1024. You can adjust the cropping coordinates in the config.yaml file.\n"
     ]
    },
    {
     "name": "stderr",
     "output_type": "stream",
     "text": [
      "100%|██████████| 201/201 [00:09<00:00, 22.28it/s]\n"
     ]
    },
    {
     "name": "stdout",
     "output_type": "stream",
     "text": [
      "Saving results in D:\\YuLab\\Work\\GPS\\Video\\Naveed\\GPS_13_ThreeFPHoldSRT\\20240517\\Top\\Clips...\n",
      "Saving csv poses!\n",
      "Starting to analyze %  D:/YuLab/Work/GPS/Video/Naveed/GPS_13_ThreeFPHoldSRT/20240517/Top/Clips/Naveed_20240517_HoldTrial045_TopView.avi\n",
      "Loading  D:/YuLab/Work/GPS/Video/Naveed/GPS_13_ThreeFPHoldSRT/20240517/Top/Clips/Naveed_20240517_HoldTrial045_TopView.avi\n",
      "Duration of video [s]:  8.0 , recorded with  25.0 fps!\n",
      "Overall # of frames:  200  found with (before cropping) frame dimensions:  1280 1331\n",
      "Starting to extract posture\n",
      "Cropping based on the x1 = 0 x2 = 1280 y1 = 0 y2 = 1024. You can adjust the cropping coordinates in the config.yaml file.\n"
     ]
    },
    {
     "name": "stderr",
     "output_type": "stream",
     "text": [
      "100%|██████████| 200/200 [00:08<00:00, 22.80it/s]\n"
     ]
    },
    {
     "name": "stdout",
     "output_type": "stream",
     "text": [
      "Saving results in D:\\YuLab\\Work\\GPS\\Video\\Naveed\\GPS_13_ThreeFPHoldSRT\\20240517\\Top\\Clips...\n",
      "Saving csv poses!\n",
      "Starting to analyze %  D:/YuLab/Work/GPS/Video/Naveed/GPS_13_ThreeFPHoldSRT/20240517/Top/Clips/Naveed_20240517_HoldTrial046_TopView.avi\n",
      "Loading  D:/YuLab/Work/GPS/Video/Naveed/GPS_13_ThreeFPHoldSRT/20240517/Top/Clips/Naveed_20240517_HoldTrial046_TopView.avi\n",
      "Duration of video [s]:  8.04 , recorded with  25.0 fps!\n",
      "Overall # of frames:  201  found with (before cropping) frame dimensions:  1280 1331\n",
      "Starting to extract posture\n",
      "Cropping based on the x1 = 0 x2 = 1280 y1 = 0 y2 = 1024. You can adjust the cropping coordinates in the config.yaml file.\n"
     ]
    },
    {
     "name": "stderr",
     "output_type": "stream",
     "text": [
      "100%|██████████| 201/201 [00:09<00:00, 22.25it/s]\n"
     ]
    },
    {
     "name": "stdout",
     "output_type": "stream",
     "text": [
      "Saving results in D:\\YuLab\\Work\\GPS\\Video\\Naveed\\GPS_13_ThreeFPHoldSRT\\20240517\\Top\\Clips...\n",
      "Saving csv poses!\n",
      "Starting to analyze %  D:/YuLab/Work/GPS/Video/Naveed/GPS_13_ThreeFPHoldSRT/20240517/Top/Clips/Naveed_20240517_HoldTrial047_TopView.avi\n",
      "Loading  D:/YuLab/Work/GPS/Video/Naveed/GPS_13_ThreeFPHoldSRT/20240517/Top/Clips/Naveed_20240517_HoldTrial047_TopView.avi\n",
      "Duration of video [s]:  8.04 , recorded with  25.0 fps!\n",
      "Overall # of frames:  201  found with (before cropping) frame dimensions:  1280 1331\n",
      "Starting to extract posture\n",
      "Cropping based on the x1 = 0 x2 = 1280 y1 = 0 y2 = 1024. You can adjust the cropping coordinates in the config.yaml file.\n"
     ]
    },
    {
     "name": "stderr",
     "output_type": "stream",
     "text": [
      "100%|██████████| 201/201 [00:09<00:00, 22.28it/s]\n"
     ]
    },
    {
     "name": "stdout",
     "output_type": "stream",
     "text": [
      "Saving results in D:\\YuLab\\Work\\GPS\\Video\\Naveed\\GPS_13_ThreeFPHoldSRT\\20240517\\Top\\Clips...\n",
      "Saving csv poses!\n",
      "Starting to analyze %  D:/YuLab/Work/GPS/Video/Naveed/GPS_13_ThreeFPHoldSRT/20240517/Top/Clips/Naveed_20240517_HoldTrial048_TopView.avi\n",
      "Loading  D:/YuLab/Work/GPS/Video/Naveed/GPS_13_ThreeFPHoldSRT/20240517/Top/Clips/Naveed_20240517_HoldTrial048_TopView.avi\n",
      "Duration of video [s]:  8.0 , recorded with  25.0 fps!\n",
      "Overall # of frames:  200  found with (before cropping) frame dimensions:  1280 1331\n",
      "Starting to extract posture\n",
      "Cropping based on the x1 = 0 x2 = 1280 y1 = 0 y2 = 1024. You can adjust the cropping coordinates in the config.yaml file.\n"
     ]
    },
    {
     "name": "stderr",
     "output_type": "stream",
     "text": [
      "100%|██████████| 200/200 [00:08<00:00, 22.86it/s]\n"
     ]
    },
    {
     "name": "stdout",
     "output_type": "stream",
     "text": [
      "Saving results in D:\\YuLab\\Work\\GPS\\Video\\Naveed\\GPS_13_ThreeFPHoldSRT\\20240517\\Top\\Clips...\n",
      "Saving csv poses!\n",
      "Starting to analyze %  D:/YuLab/Work/GPS/Video/Naveed/GPS_13_ThreeFPHoldSRT/20240517/Top/Clips/Naveed_20240517_HoldTrial049_TopView.avi\n",
      "Loading  D:/YuLab/Work/GPS/Video/Naveed/GPS_13_ThreeFPHoldSRT/20240517/Top/Clips/Naveed_20240517_HoldTrial049_TopView.avi\n",
      "Duration of video [s]:  7.96 , recorded with  25.0 fps!\n",
      "Overall # of frames:  199  found with (before cropping) frame dimensions:  1280 1331\n",
      "Starting to extract posture\n",
      "Cropping based on the x1 = 0 x2 = 1280 y1 = 0 y2 = 1024. You can adjust the cropping coordinates in the config.yaml file.\n"
     ]
    },
    {
     "name": "stderr",
     "output_type": "stream",
     "text": [
      "100%|██████████| 199/199 [00:08<00:00, 22.81it/s]\n"
     ]
    },
    {
     "name": "stdout",
     "output_type": "stream",
     "text": [
      "Saving results in D:\\YuLab\\Work\\GPS\\Video\\Naveed\\GPS_13_ThreeFPHoldSRT\\20240517\\Top\\Clips...\n",
      "Saving csv poses!\n",
      "Starting to analyze %  D:/YuLab/Work/GPS/Video/Naveed/GPS_13_ThreeFPHoldSRT/20240517/Top/Clips/Naveed_20240517_HoldTrial050_TopView.avi\n",
      "Loading  D:/YuLab/Work/GPS/Video/Naveed/GPS_13_ThreeFPHoldSRT/20240517/Top/Clips/Naveed_20240517_HoldTrial050_TopView.avi\n",
      "Duration of video [s]:  8.04 , recorded with  25.0 fps!\n",
      "Overall # of frames:  201  found with (before cropping) frame dimensions:  1280 1331\n",
      "Starting to extract posture\n",
      "Cropping based on the x1 = 0 x2 = 1280 y1 = 0 y2 = 1024. You can adjust the cropping coordinates in the config.yaml file.\n"
     ]
    },
    {
     "name": "stderr",
     "output_type": "stream",
     "text": [
      "100%|██████████| 201/201 [00:09<00:00, 22.32it/s]\n"
     ]
    },
    {
     "name": "stdout",
     "output_type": "stream",
     "text": [
      "Saving results in D:\\YuLab\\Work\\GPS\\Video\\Naveed\\GPS_13_ThreeFPHoldSRT\\20240517\\Top\\Clips...\n",
      "Saving csv poses!\n",
      "Starting to analyze %  D:/YuLab/Work/GPS/Video/Naveed/GPS_13_ThreeFPHoldSRT/20240517/Top/Clips/Naveed_20240517_HoldTrial051_TopView.avi\n",
      "Loading  D:/YuLab/Work/GPS/Video/Naveed/GPS_13_ThreeFPHoldSRT/20240517/Top/Clips/Naveed_20240517_HoldTrial051_TopView.avi\n",
      "Duration of video [s]:  8.0 , recorded with  25.0 fps!\n",
      "Overall # of frames:  200  found with (before cropping) frame dimensions:  1280 1331\n",
      "Starting to extract posture\n",
      "Cropping based on the x1 = 0 x2 = 1280 y1 = 0 y2 = 1024. You can adjust the cropping coordinates in the config.yaml file.\n"
     ]
    },
    {
     "name": "stderr",
     "output_type": "stream",
     "text": [
      "100%|██████████| 200/200 [00:08<00:00, 23.00it/s]\n"
     ]
    },
    {
     "name": "stdout",
     "output_type": "stream",
     "text": [
      "Saving results in D:\\YuLab\\Work\\GPS\\Video\\Naveed\\GPS_13_ThreeFPHoldSRT\\20240517\\Top\\Clips...\n",
      "Saving csv poses!\n",
      "Starting to analyze %  D:/YuLab/Work/GPS/Video/Naveed/GPS_13_ThreeFPHoldSRT/20240517/Top/Clips/Naveed_20240517_HoldTrial052_TopView.avi\n",
      "Loading  D:/YuLab/Work/GPS/Video/Naveed/GPS_13_ThreeFPHoldSRT/20240517/Top/Clips/Naveed_20240517_HoldTrial052_TopView.avi\n",
      "Duration of video [s]:  8.04 , recorded with  25.0 fps!\n",
      "Overall # of frames:  201  found with (before cropping) frame dimensions:  1280 1331\n",
      "Starting to extract posture\n",
      "Cropping based on the x1 = 0 x2 = 1280 y1 = 0 y2 = 1024. You can adjust the cropping coordinates in the config.yaml file.\n"
     ]
    },
    {
     "name": "stderr",
     "output_type": "stream",
     "text": [
      "100%|██████████| 201/201 [00:08<00:00, 22.37it/s]\n"
     ]
    },
    {
     "name": "stdout",
     "output_type": "stream",
     "text": [
      "Saving results in D:\\YuLab\\Work\\GPS\\Video\\Naveed\\GPS_13_ThreeFPHoldSRT\\20240517\\Top\\Clips...\n",
      "Saving csv poses!\n",
      "Starting to analyze %  D:/YuLab/Work/GPS/Video/Naveed/GPS_13_ThreeFPHoldSRT/20240517/Top/Clips/Naveed_20240517_HoldTrial053_TopView.avi\n",
      "Loading  D:/YuLab/Work/GPS/Video/Naveed/GPS_13_ThreeFPHoldSRT/20240517/Top/Clips/Naveed_20240517_HoldTrial053_TopView.avi\n",
      "Duration of video [s]:  8.04 , recorded with  25.0 fps!\n",
      "Overall # of frames:  201  found with (before cropping) frame dimensions:  1280 1331\n",
      "Starting to extract posture\n",
      "Cropping based on the x1 = 0 x2 = 1280 y1 = 0 y2 = 1024. You can adjust the cropping coordinates in the config.yaml file.\n"
     ]
    },
    {
     "name": "stderr",
     "output_type": "stream",
     "text": [
      "100%|██████████| 201/201 [00:08<00:00, 22.34it/s]\n"
     ]
    },
    {
     "name": "stdout",
     "output_type": "stream",
     "text": [
      "Saving results in D:\\YuLab\\Work\\GPS\\Video\\Naveed\\GPS_13_ThreeFPHoldSRT\\20240517\\Top\\Clips...\n",
      "Saving csv poses!\n",
      "Starting to analyze %  D:/YuLab/Work/GPS/Video/Naveed/GPS_13_ThreeFPHoldSRT/20240517/Top/Clips/Naveed_20240517_HoldTrial054_TopView.avi\n",
      "Loading  D:/YuLab/Work/GPS/Video/Naveed/GPS_13_ThreeFPHoldSRT/20240517/Top/Clips/Naveed_20240517_HoldTrial054_TopView.avi\n",
      "Duration of video [s]:  8.0 , recorded with  25.0 fps!\n",
      "Overall # of frames:  200  found with (before cropping) frame dimensions:  1280 1331\n",
      "Starting to extract posture\n",
      "Cropping based on the x1 = 0 x2 = 1280 y1 = 0 y2 = 1024. You can adjust the cropping coordinates in the config.yaml file.\n"
     ]
    },
    {
     "name": "stderr",
     "output_type": "stream",
     "text": [
      "100%|██████████| 200/200 [00:08<00:00, 22.92it/s]\n"
     ]
    },
    {
     "name": "stdout",
     "output_type": "stream",
     "text": [
      "Saving results in D:\\YuLab\\Work\\GPS\\Video\\Naveed\\GPS_13_ThreeFPHoldSRT\\20240517\\Top\\Clips...\n",
      "Saving csv poses!\n",
      "Starting to analyze %  D:/YuLab/Work/GPS/Video/Naveed/GPS_13_ThreeFPHoldSRT/20240517/Top/Clips/Naveed_20240517_HoldTrial055_TopView.avi\n",
      "Loading  D:/YuLab/Work/GPS/Video/Naveed/GPS_13_ThreeFPHoldSRT/20240517/Top/Clips/Naveed_20240517_HoldTrial055_TopView.avi\n",
      "Duration of video [s]:  8.0 , recorded with  25.0 fps!\n",
      "Overall # of frames:  200  found with (before cropping) frame dimensions:  1280 1331\n",
      "Starting to extract posture\n",
      "Cropping based on the x1 = 0 x2 = 1280 y1 = 0 y2 = 1024. You can adjust the cropping coordinates in the config.yaml file.\n"
     ]
    },
    {
     "name": "stderr",
     "output_type": "stream",
     "text": [
      "100%|██████████| 200/200 [00:08<00:00, 22.90it/s]\n"
     ]
    },
    {
     "name": "stdout",
     "output_type": "stream",
     "text": [
      "Saving results in D:\\YuLab\\Work\\GPS\\Video\\Naveed\\GPS_13_ThreeFPHoldSRT\\20240517\\Top\\Clips...\n",
      "Saving csv poses!\n",
      "Starting to analyze %  D:/YuLab/Work/GPS/Video/Naveed/GPS_13_ThreeFPHoldSRT/20240517/Top/Clips/Naveed_20240517_HoldTrial056_TopView.avi\n",
      "Loading  D:/YuLab/Work/GPS/Video/Naveed/GPS_13_ThreeFPHoldSRT/20240517/Top/Clips/Naveed_20240517_HoldTrial056_TopView.avi\n",
      "Duration of video [s]:  8.04 , recorded with  25.0 fps!\n",
      "Overall # of frames:  201  found with (before cropping) frame dimensions:  1280 1331\n",
      "Starting to extract posture\n",
      "Cropping based on the x1 = 0 x2 = 1280 y1 = 0 y2 = 1024. You can adjust the cropping coordinates in the config.yaml file.\n"
     ]
    },
    {
     "name": "stderr",
     "output_type": "stream",
     "text": [
      "100%|██████████| 201/201 [00:09<00:00, 22.22it/s]\n"
     ]
    },
    {
     "name": "stdout",
     "output_type": "stream",
     "text": [
      "Saving results in D:\\YuLab\\Work\\GPS\\Video\\Naveed\\GPS_13_ThreeFPHoldSRT\\20240517\\Top\\Clips...\n",
      "Saving csv poses!\n",
      "Starting to analyze %  D:/YuLab/Work/GPS/Video/Naveed/GPS_13_ThreeFPHoldSRT/20240517/Top/Clips/Naveed_20240517_HoldTrial057_TopView.avi\n",
      "Loading  D:/YuLab/Work/GPS/Video/Naveed/GPS_13_ThreeFPHoldSRT/20240517/Top/Clips/Naveed_20240517_HoldTrial057_TopView.avi\n",
      "Duration of video [s]:  8.04 , recorded with  25.0 fps!\n",
      "Overall # of frames:  201  found with (before cropping) frame dimensions:  1280 1331\n",
      "Starting to extract posture\n",
      "Cropping based on the x1 = 0 x2 = 1280 y1 = 0 y2 = 1024. You can adjust the cropping coordinates in the config.yaml file.\n"
     ]
    },
    {
     "name": "stderr",
     "output_type": "stream",
     "text": [
      "100%|██████████| 201/201 [00:08<00:00, 22.45it/s]\n"
     ]
    },
    {
     "name": "stdout",
     "output_type": "stream",
     "text": [
      "Saving results in D:\\YuLab\\Work\\GPS\\Video\\Naveed\\GPS_13_ThreeFPHoldSRT\\20240517\\Top\\Clips...\n",
      "Saving csv poses!\n",
      "Starting to analyze %  D:/YuLab/Work/GPS/Video/Naveed/GPS_13_ThreeFPHoldSRT/20240517/Top/Clips/Naveed_20240517_HoldTrial058_TopView.avi\n",
      "Loading  D:/YuLab/Work/GPS/Video/Naveed/GPS_13_ThreeFPHoldSRT/20240517/Top/Clips/Naveed_20240517_HoldTrial058_TopView.avi\n",
      "Duration of video [s]:  8.0 , recorded with  25.0 fps!\n",
      "Overall # of frames:  200  found with (before cropping) frame dimensions:  1280 1331\n",
      "Starting to extract posture\n",
      "Cropping based on the x1 = 0 x2 = 1280 y1 = 0 y2 = 1024. You can adjust the cropping coordinates in the config.yaml file.\n"
     ]
    },
    {
     "name": "stderr",
     "output_type": "stream",
     "text": [
      "100%|██████████| 200/200 [00:08<00:00, 23.08it/s]\n"
     ]
    },
    {
     "name": "stdout",
     "output_type": "stream",
     "text": [
      "Saving results in D:\\YuLab\\Work\\GPS\\Video\\Naveed\\GPS_13_ThreeFPHoldSRT\\20240517\\Top\\Clips...\n",
      "Saving csv poses!\n",
      "Starting to analyze %  D:/YuLab/Work/GPS/Video/Naveed/GPS_13_ThreeFPHoldSRT/20240517/Top/Clips/Naveed_20240517_HoldTrial059_TopView.avi\n",
      "Loading  D:/YuLab/Work/GPS/Video/Naveed/GPS_13_ThreeFPHoldSRT/20240517/Top/Clips/Naveed_20240517_HoldTrial059_TopView.avi\n",
      "Duration of video [s]:  8.04 , recorded with  25.0 fps!\n",
      "Overall # of frames:  201  found with (before cropping) frame dimensions:  1280 1331\n",
      "Starting to extract posture\n",
      "Cropping based on the x1 = 0 x2 = 1280 y1 = 0 y2 = 1024. You can adjust the cropping coordinates in the config.yaml file.\n"
     ]
    },
    {
     "name": "stderr",
     "output_type": "stream",
     "text": [
      "100%|██████████| 201/201 [00:08<00:00, 22.38it/s]\n"
     ]
    },
    {
     "name": "stdout",
     "output_type": "stream",
     "text": [
      "Saving results in D:\\YuLab\\Work\\GPS\\Video\\Naveed\\GPS_13_ThreeFPHoldSRT\\20240517\\Top\\Clips...\n",
      "Saving csv poses!\n",
      "Starting to analyze %  D:/YuLab/Work/GPS/Video/Naveed/GPS_13_ThreeFPHoldSRT/20240517/Top/Clips/Naveed_20240517_HoldTrial060_TopView.avi\n",
      "Loading  D:/YuLab/Work/GPS/Video/Naveed/GPS_13_ThreeFPHoldSRT/20240517/Top/Clips/Naveed_20240517_HoldTrial060_TopView.avi\n",
      "Duration of video [s]:  8.04 , recorded with  25.0 fps!\n",
      "Overall # of frames:  201  found with (before cropping) frame dimensions:  1280 1331\n",
      "Starting to extract posture\n",
      "Cropping based on the x1 = 0 x2 = 1280 y1 = 0 y2 = 1024. You can adjust the cropping coordinates in the config.yaml file.\n"
     ]
    },
    {
     "name": "stderr",
     "output_type": "stream",
     "text": [
      "100%|██████████| 201/201 [00:08<00:00, 22.41it/s]\n"
     ]
    },
    {
     "name": "stdout",
     "output_type": "stream",
     "text": [
      "Saving results in D:\\YuLab\\Work\\GPS\\Video\\Naveed\\GPS_13_ThreeFPHoldSRT\\20240517\\Top\\Clips...\n",
      "Saving csv poses!\n",
      "Starting to analyze %  D:/YuLab/Work/GPS/Video/Naveed/GPS_13_ThreeFPHoldSRT/20240517/Top/Clips/Naveed_20240517_HoldTrial061_TopView.avi\n",
      "Loading  D:/YuLab/Work/GPS/Video/Naveed/GPS_13_ThreeFPHoldSRT/20240517/Top/Clips/Naveed_20240517_HoldTrial061_TopView.avi\n",
      "Duration of video [s]:  8.0 , recorded with  25.0 fps!\n",
      "Overall # of frames:  200  found with (before cropping) frame dimensions:  1280 1331\n",
      "Starting to extract posture\n",
      "Cropping based on the x1 = 0 x2 = 1280 y1 = 0 y2 = 1024. You can adjust the cropping coordinates in the config.yaml file.\n"
     ]
    },
    {
     "name": "stderr",
     "output_type": "stream",
     "text": [
      "100%|██████████| 200/200 [00:08<00:00, 23.06it/s]\n"
     ]
    },
    {
     "name": "stdout",
     "output_type": "stream",
     "text": [
      "Saving results in D:\\YuLab\\Work\\GPS\\Video\\Naveed\\GPS_13_ThreeFPHoldSRT\\20240517\\Top\\Clips...\n",
      "Saving csv poses!\n",
      "Starting to analyze %  D:/YuLab/Work/GPS/Video/Naveed/GPS_13_ThreeFPHoldSRT/20240517/Top/Clips/Naveed_20240517_HoldTrial062_TopView.avi\n",
      "Loading  D:/YuLab/Work/GPS/Video/Naveed/GPS_13_ThreeFPHoldSRT/20240517/Top/Clips/Naveed_20240517_HoldTrial062_TopView.avi\n",
      "Duration of video [s]:  8.0 , recorded with  25.0 fps!\n",
      "Overall # of frames:  200  found with (before cropping) frame dimensions:  1280 1331\n",
      "Starting to extract posture\n",
      "Cropping based on the x1 = 0 x2 = 1280 y1 = 0 y2 = 1024. You can adjust the cropping coordinates in the config.yaml file.\n"
     ]
    },
    {
     "name": "stderr",
     "output_type": "stream",
     "text": [
      "100%|██████████| 200/200 [00:08<00:00, 23.14it/s]\n"
     ]
    },
    {
     "name": "stdout",
     "output_type": "stream",
     "text": [
      "Saving results in D:\\YuLab\\Work\\GPS\\Video\\Naveed\\GPS_13_ThreeFPHoldSRT\\20240517\\Top\\Clips...\n",
      "Saving csv poses!\n",
      "Starting to analyze %  D:/YuLab/Work/GPS/Video/Naveed/GPS_13_ThreeFPHoldSRT/20240517/Top/Clips/Naveed_20240517_HoldTrial063_TopView.avi\n",
      "Loading  D:/YuLab/Work/GPS/Video/Naveed/GPS_13_ThreeFPHoldSRT/20240517/Top/Clips/Naveed_20240517_HoldTrial063_TopView.avi\n",
      "Duration of video [s]:  8.04 , recorded with  25.0 fps!\n",
      "Overall # of frames:  201  found with (before cropping) frame dimensions:  1280 1331\n",
      "Starting to extract posture\n",
      "Cropping based on the x1 = 0 x2 = 1280 y1 = 0 y2 = 1024. You can adjust the cropping coordinates in the config.yaml file.\n"
     ]
    },
    {
     "name": "stderr",
     "output_type": "stream",
     "text": [
      "100%|██████████| 201/201 [00:08<00:00, 22.56it/s]\n"
     ]
    },
    {
     "name": "stdout",
     "output_type": "stream",
     "text": [
      "Saving results in D:\\YuLab\\Work\\GPS\\Video\\Naveed\\GPS_13_ThreeFPHoldSRT\\20240517\\Top\\Clips...\n",
      "Saving csv poses!\n",
      "Starting to analyze %  D:/YuLab/Work/GPS/Video/Naveed/GPS_13_ThreeFPHoldSRT/20240517/Top/Clips/Naveed_20240517_HoldTrial064_TopView.avi\n",
      "Loading  D:/YuLab/Work/GPS/Video/Naveed/GPS_13_ThreeFPHoldSRT/20240517/Top/Clips/Naveed_20240517_HoldTrial064_TopView.avi\n",
      "Duration of video [s]:  8.0 , recorded with  25.0 fps!\n",
      "Overall # of frames:  200  found with (before cropping) frame dimensions:  1280 1331\n",
      "Starting to extract posture\n",
      "Cropping based on the x1 = 0 x2 = 1280 y1 = 0 y2 = 1024. You can adjust the cropping coordinates in the config.yaml file.\n"
     ]
    },
    {
     "name": "stderr",
     "output_type": "stream",
     "text": [
      "100%|██████████| 200/200 [00:08<00:00, 22.97it/s]\n"
     ]
    },
    {
     "name": "stdout",
     "output_type": "stream",
     "text": [
      "Saving results in D:\\YuLab\\Work\\GPS\\Video\\Naveed\\GPS_13_ThreeFPHoldSRT\\20240517\\Top\\Clips...\n",
      "Saving csv poses!\n",
      "Starting to analyze %  D:/YuLab/Work/GPS/Video/Naveed/GPS_13_ThreeFPHoldSRT/20240517/Top/Clips/Naveed_20240517_HoldTrial065_TopView.avi\n",
      "Loading  D:/YuLab/Work/GPS/Video/Naveed/GPS_13_ThreeFPHoldSRT/20240517/Top/Clips/Naveed_20240517_HoldTrial065_TopView.avi\n",
      "Duration of video [s]:  8.0 , recorded with  25.0 fps!\n",
      "Overall # of frames:  200  found with (before cropping) frame dimensions:  1280 1331\n",
      "Starting to extract posture\n",
      "Cropping based on the x1 = 0 x2 = 1280 y1 = 0 y2 = 1024. You can adjust the cropping coordinates in the config.yaml file.\n"
     ]
    },
    {
     "name": "stderr",
     "output_type": "stream",
     "text": [
      "100%|██████████| 200/200 [00:08<00:00, 23.09it/s]\n"
     ]
    },
    {
     "name": "stdout",
     "output_type": "stream",
     "text": [
      "Saving results in D:\\YuLab\\Work\\GPS\\Video\\Naveed\\GPS_13_ThreeFPHoldSRT\\20240517\\Top\\Clips...\n",
      "Saving csv poses!\n",
      "Starting to analyze %  D:/YuLab/Work/GPS/Video/Naveed/GPS_13_ThreeFPHoldSRT/20240517/Top/Clips/Naveed_20240517_HoldTrial066_TopView.avi\n",
      "Loading  D:/YuLab/Work/GPS/Video/Naveed/GPS_13_ThreeFPHoldSRT/20240517/Top/Clips/Naveed_20240517_HoldTrial066_TopView.avi\n",
      "Duration of video [s]:  8.04 , recorded with  25.0 fps!\n",
      "Overall # of frames:  201  found with (before cropping) frame dimensions:  1280 1331\n",
      "Starting to extract posture\n",
      "Cropping based on the x1 = 0 x2 = 1280 y1 = 0 y2 = 1024. You can adjust the cropping coordinates in the config.yaml file.\n"
     ]
    },
    {
     "name": "stderr",
     "output_type": "stream",
     "text": [
      "100%|██████████| 201/201 [00:08<00:00, 22.39it/s]\n"
     ]
    },
    {
     "name": "stdout",
     "output_type": "stream",
     "text": [
      "Saving results in D:\\YuLab\\Work\\GPS\\Video\\Naveed\\GPS_13_ThreeFPHoldSRT\\20240517\\Top\\Clips...\n",
      "Saving csv poses!\n",
      "Starting to analyze %  D:/YuLab/Work/GPS/Video/Naveed/GPS_13_ThreeFPHoldSRT/20240517/Top/Clips/Naveed_20240517_HoldTrial067_TopView.avi\n",
      "Loading  D:/YuLab/Work/GPS/Video/Naveed/GPS_13_ThreeFPHoldSRT/20240517/Top/Clips/Naveed_20240517_HoldTrial067_TopView.avi\n",
      "Duration of video [s]:  8.04 , recorded with  25.0 fps!\n",
      "Overall # of frames:  201  found with (before cropping) frame dimensions:  1280 1331\n",
      "Starting to extract posture\n",
      "Cropping based on the x1 = 0 x2 = 1280 y1 = 0 y2 = 1024. You can adjust the cropping coordinates in the config.yaml file.\n"
     ]
    },
    {
     "name": "stderr",
     "output_type": "stream",
     "text": [
      "100%|██████████| 201/201 [00:08<00:00, 22.56it/s]\n"
     ]
    },
    {
     "name": "stdout",
     "output_type": "stream",
     "text": [
      "Saving results in D:\\YuLab\\Work\\GPS\\Video\\Naveed\\GPS_13_ThreeFPHoldSRT\\20240517\\Top\\Clips...\n",
      "Saving csv poses!\n",
      "Starting to analyze %  D:/YuLab/Work/GPS/Video/Naveed/GPS_13_ThreeFPHoldSRT/20240517/Top/Clips/Naveed_20240517_HoldTrial068_TopView.avi\n",
      "Loading  D:/YuLab/Work/GPS/Video/Naveed/GPS_13_ThreeFPHoldSRT/20240517/Top/Clips/Naveed_20240517_HoldTrial068_TopView.avi\n",
      "Duration of video [s]:  8.0 , recorded with  25.0 fps!\n",
      "Overall # of frames:  200  found with (before cropping) frame dimensions:  1280 1331\n",
      "Starting to extract posture\n",
      "Cropping based on the x1 = 0 x2 = 1280 y1 = 0 y2 = 1024. You can adjust the cropping coordinates in the config.yaml file.\n"
     ]
    },
    {
     "name": "stderr",
     "output_type": "stream",
     "text": [
      "100%|██████████| 200/200 [00:08<00:00, 23.07it/s]\n"
     ]
    },
    {
     "name": "stdout",
     "output_type": "stream",
     "text": [
      "Saving results in D:\\YuLab\\Work\\GPS\\Video\\Naveed\\GPS_13_ThreeFPHoldSRT\\20240517\\Top\\Clips...\n",
      "Saving csv poses!\n",
      "Starting to analyze %  D:/YuLab/Work/GPS/Video/Naveed/GPS_13_ThreeFPHoldSRT/20240517/Top/Clips/Naveed_20240517_HoldTrial069_TopView.avi\n",
      "Loading  D:/YuLab/Work/GPS/Video/Naveed/GPS_13_ThreeFPHoldSRT/20240517/Top/Clips/Naveed_20240517_HoldTrial069_TopView.avi\n",
      "Duration of video [s]:  8.04 , recorded with  25.0 fps!\n",
      "Overall # of frames:  201  found with (before cropping) frame dimensions:  1280 1331\n",
      "Starting to extract posture\n",
      "Cropping based on the x1 = 0 x2 = 1280 y1 = 0 y2 = 1024. You can adjust the cropping coordinates in the config.yaml file.\n"
     ]
    },
    {
     "name": "stderr",
     "output_type": "stream",
     "text": [
      "100%|██████████| 201/201 [00:08<00:00, 22.51it/s]\n"
     ]
    },
    {
     "name": "stdout",
     "output_type": "stream",
     "text": [
      "Saving results in D:\\YuLab\\Work\\GPS\\Video\\Naveed\\GPS_13_ThreeFPHoldSRT\\20240517\\Top\\Clips...\n",
      "Saving csv poses!\n",
      "Starting to analyze %  D:/YuLab/Work/GPS/Video/Naveed/GPS_13_ThreeFPHoldSRT/20240517/Top/Clips/Naveed_20240517_HoldTrial070_TopView.avi\n",
      "Loading  D:/YuLab/Work/GPS/Video/Naveed/GPS_13_ThreeFPHoldSRT/20240517/Top/Clips/Naveed_20240517_HoldTrial070_TopView.avi\n",
      "Duration of video [s]:  8.0 , recorded with  25.0 fps!\n",
      "Overall # of frames:  200  found with (before cropping) frame dimensions:  1280 1331\n",
      "Starting to extract posture\n",
      "Cropping based on the x1 = 0 x2 = 1280 y1 = 0 y2 = 1024. You can adjust the cropping coordinates in the config.yaml file.\n"
     ]
    },
    {
     "name": "stderr",
     "output_type": "stream",
     "text": [
      "100%|██████████| 200/200 [00:08<00:00, 23.05it/s]\n"
     ]
    },
    {
     "name": "stdout",
     "output_type": "stream",
     "text": [
      "Saving results in D:\\YuLab\\Work\\GPS\\Video\\Naveed\\GPS_13_ThreeFPHoldSRT\\20240517\\Top\\Clips...\n",
      "Saving csv poses!\n",
      "Starting to analyze %  D:/YuLab/Work/GPS/Video/Naveed/GPS_13_ThreeFPHoldSRT/20240517/Top/Clips/Naveed_20240517_HoldTrial071_TopView.avi\n",
      "Loading  D:/YuLab/Work/GPS/Video/Naveed/GPS_13_ThreeFPHoldSRT/20240517/Top/Clips/Naveed_20240517_HoldTrial071_TopView.avi\n",
      "Duration of video [s]:  8.0 , recorded with  25.0 fps!\n",
      "Overall # of frames:  200  found with (before cropping) frame dimensions:  1280 1331\n",
      "Starting to extract posture\n",
      "Cropping based on the x1 = 0 x2 = 1280 y1 = 0 y2 = 1024. You can adjust the cropping coordinates in the config.yaml file.\n"
     ]
    },
    {
     "name": "stderr",
     "output_type": "stream",
     "text": [
      "100%|██████████| 200/200 [00:08<00:00, 23.06it/s]\n"
     ]
    },
    {
     "name": "stdout",
     "output_type": "stream",
     "text": [
      "Saving results in D:\\YuLab\\Work\\GPS\\Video\\Naveed\\GPS_13_ThreeFPHoldSRT\\20240517\\Top\\Clips...\n",
      "Saving csv poses!\n",
      "Starting to analyze %  D:/YuLab/Work/GPS/Video/Naveed/GPS_13_ThreeFPHoldSRT/20240517/Top/Clips/Naveed_20240517_HoldTrial072_TopView.avi\n",
      "Loading  D:/YuLab/Work/GPS/Video/Naveed/GPS_13_ThreeFPHoldSRT/20240517/Top/Clips/Naveed_20240517_HoldTrial072_TopView.avi\n",
      "Duration of video [s]:  8.04 , recorded with  25.0 fps!\n",
      "Overall # of frames:  201  found with (before cropping) frame dimensions:  1280 1331\n",
      "Starting to extract posture\n",
      "Cropping based on the x1 = 0 x2 = 1280 y1 = 0 y2 = 1024. You can adjust the cropping coordinates in the config.yaml file.\n"
     ]
    },
    {
     "name": "stderr",
     "output_type": "stream",
     "text": [
      "100%|██████████| 201/201 [00:08<00:00, 22.36it/s]\n"
     ]
    },
    {
     "name": "stdout",
     "output_type": "stream",
     "text": [
      "Saving results in D:\\YuLab\\Work\\GPS\\Video\\Naveed\\GPS_13_ThreeFPHoldSRT\\20240517\\Top\\Clips...\n",
      "Saving csv poses!\n",
      "Starting to analyze %  D:/YuLab/Work/GPS/Video/Naveed/GPS_13_ThreeFPHoldSRT/20240517/Top/Clips/Naveed_20240517_HoldTrial073_TopView.avi\n",
      "Loading  D:/YuLab/Work/GPS/Video/Naveed/GPS_13_ThreeFPHoldSRT/20240517/Top/Clips/Naveed_20240517_HoldTrial073_TopView.avi\n",
      "Duration of video [s]:  8.04 , recorded with  25.0 fps!\n",
      "Overall # of frames:  201  found with (before cropping) frame dimensions:  1280 1331\n",
      "Starting to extract posture\n",
      "Cropping based on the x1 = 0 x2 = 1280 y1 = 0 y2 = 1024. You can adjust the cropping coordinates in the config.yaml file.\n"
     ]
    },
    {
     "name": "stderr",
     "output_type": "stream",
     "text": [
      "100%|██████████| 201/201 [00:08<00:00, 22.40it/s]\n"
     ]
    },
    {
     "name": "stdout",
     "output_type": "stream",
     "text": [
      "Saving results in D:\\YuLab\\Work\\GPS\\Video\\Naveed\\GPS_13_ThreeFPHoldSRT\\20240517\\Top\\Clips...\n",
      "Saving csv poses!\n",
      "Starting to analyze %  D:/YuLab/Work/GPS/Video/Naveed/GPS_13_ThreeFPHoldSRT/20240517/Top/Clips/Naveed_20240517_HoldTrial074_TopView.avi\n",
      "Loading  D:/YuLab/Work/GPS/Video/Naveed/GPS_13_ThreeFPHoldSRT/20240517/Top/Clips/Naveed_20240517_HoldTrial074_TopView.avi\n",
      "Duration of video [s]:  8.04 , recorded with  25.0 fps!\n",
      "Overall # of frames:  201  found with (before cropping) frame dimensions:  1280 1331\n",
      "Starting to extract posture\n",
      "Cropping based on the x1 = 0 x2 = 1280 y1 = 0 y2 = 1024. You can adjust the cropping coordinates in the config.yaml file.\n"
     ]
    },
    {
     "name": "stderr",
     "output_type": "stream",
     "text": [
      "100%|██████████| 201/201 [00:08<00:00, 22.40it/s]\n"
     ]
    },
    {
     "name": "stdout",
     "output_type": "stream",
     "text": [
      "Saving results in D:\\YuLab\\Work\\GPS\\Video\\Naveed\\GPS_13_ThreeFPHoldSRT\\20240517\\Top\\Clips...\n",
      "Saving csv poses!\n",
      "Starting to analyze %  D:/YuLab/Work/GPS/Video/Naveed/GPS_13_ThreeFPHoldSRT/20240517/Top/Clips/Naveed_20240517_HoldTrial075_TopView.avi\n",
      "Loading  D:/YuLab/Work/GPS/Video/Naveed/GPS_13_ThreeFPHoldSRT/20240517/Top/Clips/Naveed_20240517_HoldTrial075_TopView.avi\n",
      "Duration of video [s]:  8.0 , recorded with  25.0 fps!\n",
      "Overall # of frames:  200  found with (before cropping) frame dimensions:  1280 1331\n",
      "Starting to extract posture\n",
      "Cropping based on the x1 = 0 x2 = 1280 y1 = 0 y2 = 1024. You can adjust the cropping coordinates in the config.yaml file.\n"
     ]
    },
    {
     "name": "stderr",
     "output_type": "stream",
     "text": [
      "100%|██████████| 200/200 [00:08<00:00, 23.09it/s]\n"
     ]
    },
    {
     "name": "stdout",
     "output_type": "stream",
     "text": [
      "Saving results in D:\\YuLab\\Work\\GPS\\Video\\Naveed\\GPS_13_ThreeFPHoldSRT\\20240517\\Top\\Clips...\n",
      "Saving csv poses!\n",
      "Starting to analyze %  D:/YuLab/Work/GPS/Video/Naveed/GPS_13_ThreeFPHoldSRT/20240517/Top/Clips/Naveed_20240517_HoldTrial076_TopView.avi\n",
      "Loading  D:/YuLab/Work/GPS/Video/Naveed/GPS_13_ThreeFPHoldSRT/20240517/Top/Clips/Naveed_20240517_HoldTrial076_TopView.avi\n",
      "Duration of video [s]:  8.0 , recorded with  25.0 fps!\n",
      "Overall # of frames:  200  found with (before cropping) frame dimensions:  1280 1331\n",
      "Starting to extract posture\n",
      "Cropping based on the x1 = 0 x2 = 1280 y1 = 0 y2 = 1024. You can adjust the cropping coordinates in the config.yaml file.\n"
     ]
    },
    {
     "name": "stderr",
     "output_type": "stream",
     "text": [
      "100%|██████████| 200/200 [00:08<00:00, 23.05it/s]\n"
     ]
    },
    {
     "name": "stdout",
     "output_type": "stream",
     "text": [
      "Saving results in D:\\YuLab\\Work\\GPS\\Video\\Naveed\\GPS_13_ThreeFPHoldSRT\\20240517\\Top\\Clips...\n",
      "Saving csv poses!\n",
      "Starting to analyze %  D:/YuLab/Work/GPS/Video/Naveed/GPS_13_ThreeFPHoldSRT/20240517/Top/Clips/Naveed_20240517_HoldTrial077_TopView.avi\n",
      "Loading  D:/YuLab/Work/GPS/Video/Naveed/GPS_13_ThreeFPHoldSRT/20240517/Top/Clips/Naveed_20240517_HoldTrial077_TopView.avi\n",
      "Duration of video [s]:  8.0 , recorded with  25.0 fps!\n",
      "Overall # of frames:  200  found with (before cropping) frame dimensions:  1280 1331\n",
      "Starting to extract posture\n",
      "Cropping based on the x1 = 0 x2 = 1280 y1 = 0 y2 = 1024. You can adjust the cropping coordinates in the config.yaml file.\n"
     ]
    },
    {
     "name": "stderr",
     "output_type": "stream",
     "text": [
      "100%|██████████| 200/200 [00:08<00:00, 22.82it/s]\n"
     ]
    },
    {
     "name": "stdout",
     "output_type": "stream",
     "text": [
      "Saving results in D:\\YuLab\\Work\\GPS\\Video\\Naveed\\GPS_13_ThreeFPHoldSRT\\20240517\\Top\\Clips...\n",
      "Saving csv poses!\n",
      "Starting to analyze %  D:/YuLab/Work/GPS/Video/Naveed/GPS_13_ThreeFPHoldSRT/20240517/Top/Clips/Naveed_20240517_HoldTrial078_TopView.avi\n",
      "Loading  D:/YuLab/Work/GPS/Video/Naveed/GPS_13_ThreeFPHoldSRT/20240517/Top/Clips/Naveed_20240517_HoldTrial078_TopView.avi\n",
      "Duration of video [s]:  8.0 , recorded with  25.0 fps!\n",
      "Overall # of frames:  200  found with (before cropping) frame dimensions:  1280 1331\n",
      "Starting to extract posture\n",
      "Cropping based on the x1 = 0 x2 = 1280 y1 = 0 y2 = 1024. You can adjust the cropping coordinates in the config.yaml file.\n"
     ]
    },
    {
     "name": "stderr",
     "output_type": "stream",
     "text": [
      "100%|██████████| 200/200 [00:08<00:00, 22.81it/s]\n"
     ]
    },
    {
     "name": "stdout",
     "output_type": "stream",
     "text": [
      "Saving results in D:\\YuLab\\Work\\GPS\\Video\\Naveed\\GPS_13_ThreeFPHoldSRT\\20240517\\Top\\Clips...\n",
      "Saving csv poses!\n",
      "Starting to analyze %  D:/YuLab/Work/GPS/Video/Naveed/GPS_13_ThreeFPHoldSRT/20240517/Top/Clips/Naveed_20240517_HoldTrial079_TopView.avi\n",
      "Loading  D:/YuLab/Work/GPS/Video/Naveed/GPS_13_ThreeFPHoldSRT/20240517/Top/Clips/Naveed_20240517_HoldTrial079_TopView.avi\n",
      "Duration of video [s]:  8.04 , recorded with  25.0 fps!\n",
      "Overall # of frames:  201  found with (before cropping) frame dimensions:  1280 1331\n",
      "Starting to extract posture\n",
      "Cropping based on the x1 = 0 x2 = 1280 y1 = 0 y2 = 1024. You can adjust the cropping coordinates in the config.yaml file.\n"
     ]
    },
    {
     "name": "stderr",
     "output_type": "stream",
     "text": [
      "100%|██████████| 201/201 [00:09<00:00, 22.28it/s]\n"
     ]
    },
    {
     "name": "stdout",
     "output_type": "stream",
     "text": [
      "Saving results in D:\\YuLab\\Work\\GPS\\Video\\Naveed\\GPS_13_ThreeFPHoldSRT\\20240517\\Top\\Clips...\n",
      "Saving csv poses!\n",
      "Starting to analyze %  D:/YuLab/Work/GPS/Video/Naveed/GPS_13_ThreeFPHoldSRT/20240517/Top/Clips/Naveed_20240517_HoldTrial080_TopView.avi\n",
      "Loading  D:/YuLab/Work/GPS/Video/Naveed/GPS_13_ThreeFPHoldSRT/20240517/Top/Clips/Naveed_20240517_HoldTrial080_TopView.avi\n",
      "Duration of video [s]:  8.04 , recorded with  25.0 fps!\n",
      "Overall # of frames:  201  found with (before cropping) frame dimensions:  1280 1331\n",
      "Starting to extract posture\n",
      "Cropping based on the x1 = 0 x2 = 1280 y1 = 0 y2 = 1024. You can adjust the cropping coordinates in the config.yaml file.\n"
     ]
    },
    {
     "name": "stderr",
     "output_type": "stream",
     "text": [
      "100%|██████████| 201/201 [00:09<00:00, 22.24it/s]\n"
     ]
    },
    {
     "name": "stdout",
     "output_type": "stream",
     "text": [
      "Saving results in D:\\YuLab\\Work\\GPS\\Video\\Naveed\\GPS_13_ThreeFPHoldSRT\\20240517\\Top\\Clips...\n",
      "Saving csv poses!\n",
      "Starting to analyze %  D:/YuLab/Work/GPS/Video/Naveed/GPS_13_ThreeFPHoldSRT/20240517/Top/Clips/Naveed_20240517_HoldTrial081_TopView.avi\n",
      "Loading  D:/YuLab/Work/GPS/Video/Naveed/GPS_13_ThreeFPHoldSRT/20240517/Top/Clips/Naveed_20240517_HoldTrial081_TopView.avi\n",
      "Duration of video [s]:  8.0 , recorded with  25.0 fps!\n",
      "Overall # of frames:  200  found with (before cropping) frame dimensions:  1280 1331\n",
      "Starting to extract posture\n",
      "Cropping based on the x1 = 0 x2 = 1280 y1 = 0 y2 = 1024. You can adjust the cropping coordinates in the config.yaml file.\n"
     ]
    },
    {
     "name": "stderr",
     "output_type": "stream",
     "text": [
      "100%|██████████| 200/200 [00:08<00:00, 22.83it/s]\n"
     ]
    },
    {
     "name": "stdout",
     "output_type": "stream",
     "text": [
      "Saving results in D:\\YuLab\\Work\\GPS\\Video\\Naveed\\GPS_13_ThreeFPHoldSRT\\20240517\\Top\\Clips...\n",
      "Saving csv poses!\n",
      "Starting to analyze %  D:/YuLab/Work/GPS/Video/Naveed/GPS_13_ThreeFPHoldSRT/20240517/Top/Clips/Naveed_20240517_HoldTrial082_TopView.avi\n",
      "Loading  D:/YuLab/Work/GPS/Video/Naveed/GPS_13_ThreeFPHoldSRT/20240517/Top/Clips/Naveed_20240517_HoldTrial082_TopView.avi\n",
      "Duration of video [s]:  8.0 , recorded with  25.0 fps!\n",
      "Overall # of frames:  200  found with (before cropping) frame dimensions:  1280 1331\n",
      "Starting to extract posture\n",
      "Cropping based on the x1 = 0 x2 = 1280 y1 = 0 y2 = 1024. You can adjust the cropping coordinates in the config.yaml file.\n"
     ]
    },
    {
     "name": "stderr",
     "output_type": "stream",
     "text": [
      "100%|██████████| 200/200 [00:08<00:00, 22.86it/s]\n"
     ]
    },
    {
     "name": "stdout",
     "output_type": "stream",
     "text": [
      "Saving results in D:\\YuLab\\Work\\GPS\\Video\\Naveed\\GPS_13_ThreeFPHoldSRT\\20240517\\Top\\Clips...\n",
      "Saving csv poses!\n",
      "Starting to analyze %  D:/YuLab/Work/GPS/Video/Naveed/GPS_13_ThreeFPHoldSRT/20240517/Top/Clips/Naveed_20240517_HoldTrial083_TopView.avi\n",
      "Loading  D:/YuLab/Work/GPS/Video/Naveed/GPS_13_ThreeFPHoldSRT/20240517/Top/Clips/Naveed_20240517_HoldTrial083_TopView.avi\n",
      "Duration of video [s]:  8.04 , recorded with  25.0 fps!\n",
      "Overall # of frames:  201  found with (before cropping) frame dimensions:  1280 1331\n",
      "Starting to extract posture\n",
      "Cropping based on the x1 = 0 x2 = 1280 y1 = 0 y2 = 1024. You can adjust the cropping coordinates in the config.yaml file.\n"
     ]
    },
    {
     "name": "stderr",
     "output_type": "stream",
     "text": [
      "100%|██████████| 201/201 [00:08<00:00, 22.45it/s]\n"
     ]
    },
    {
     "name": "stdout",
     "output_type": "stream",
     "text": [
      "Saving results in D:\\YuLab\\Work\\GPS\\Video\\Naveed\\GPS_13_ThreeFPHoldSRT\\20240517\\Top\\Clips...\n",
      "Saving csv poses!\n",
      "Starting to analyze %  D:/YuLab/Work/GPS/Video/Naveed/GPS_13_ThreeFPHoldSRT/20240517/Top/Clips/Naveed_20240517_HoldTrial084_TopView.avi\n",
      "Loading  D:/YuLab/Work/GPS/Video/Naveed/GPS_13_ThreeFPHoldSRT/20240517/Top/Clips/Naveed_20240517_HoldTrial084_TopView.avi\n",
      "Duration of video [s]:  7.96 , recorded with  25.0 fps!\n",
      "Overall # of frames:  199  found with (before cropping) frame dimensions:  1280 1331\n",
      "Starting to extract posture\n",
      "Cropping based on the x1 = 0 x2 = 1280 y1 = 0 y2 = 1024. You can adjust the cropping coordinates in the config.yaml file.\n"
     ]
    },
    {
     "name": "stderr",
     "output_type": "stream",
     "text": [
      "100%|██████████| 199/199 [00:08<00:00, 22.93it/s]\n"
     ]
    },
    {
     "name": "stdout",
     "output_type": "stream",
     "text": [
      "Saving results in D:\\YuLab\\Work\\GPS\\Video\\Naveed\\GPS_13_ThreeFPHoldSRT\\20240517\\Top\\Clips...\n",
      "Saving csv poses!\n",
      "Starting to analyze %  D:/YuLab/Work/GPS/Video/Naveed/GPS_13_ThreeFPHoldSRT/20240517/Top/Clips/Naveed_20240517_HoldTrial085_TopView.avi\n",
      "Loading  D:/YuLab/Work/GPS/Video/Naveed/GPS_13_ThreeFPHoldSRT/20240517/Top/Clips/Naveed_20240517_HoldTrial085_TopView.avi\n",
      "Duration of video [s]:  8.04 , recorded with  25.0 fps!\n",
      "Overall # of frames:  201  found with (before cropping) frame dimensions:  1280 1331\n",
      "Starting to extract posture\n",
      "Cropping based on the x1 = 0 x2 = 1280 y1 = 0 y2 = 1024. You can adjust the cropping coordinates in the config.yaml file.\n"
     ]
    },
    {
     "name": "stderr",
     "output_type": "stream",
     "text": [
      "100%|██████████| 201/201 [00:08<00:00, 22.34it/s]\n"
     ]
    },
    {
     "name": "stdout",
     "output_type": "stream",
     "text": [
      "Saving results in D:\\YuLab\\Work\\GPS\\Video\\Naveed\\GPS_13_ThreeFPHoldSRT\\20240517\\Top\\Clips...\n",
      "Saving csv poses!\n",
      "Starting to analyze %  D:/YuLab/Work/GPS/Video/Naveed/GPS_13_ThreeFPHoldSRT/20240517/Top/Clips/Naveed_20240517_HoldTrial086_TopView.avi\n",
      "Loading  D:/YuLab/Work/GPS/Video/Naveed/GPS_13_ThreeFPHoldSRT/20240517/Top/Clips/Naveed_20240517_HoldTrial086_TopView.avi\n",
      "Duration of video [s]:  8.04 , recorded with  25.0 fps!\n",
      "Overall # of frames:  201  found with (before cropping) frame dimensions:  1280 1331\n",
      "Starting to extract posture\n",
      "Cropping based on the x1 = 0 x2 = 1280 y1 = 0 y2 = 1024. You can adjust the cropping coordinates in the config.yaml file.\n"
     ]
    },
    {
     "name": "stderr",
     "output_type": "stream",
     "text": [
      "100%|██████████| 201/201 [00:08<00:00, 22.36it/s]\n"
     ]
    },
    {
     "name": "stdout",
     "output_type": "stream",
     "text": [
      "Saving results in D:\\YuLab\\Work\\GPS\\Video\\Naveed\\GPS_13_ThreeFPHoldSRT\\20240517\\Top\\Clips...\n",
      "Saving csv poses!\n",
      "Starting to analyze %  D:/YuLab/Work/GPS/Video/Naveed/GPS_13_ThreeFPHoldSRT/20240517/Top/Clips/Naveed_20240517_HoldTrial087_TopView.avi\n",
      "Loading  D:/YuLab/Work/GPS/Video/Naveed/GPS_13_ThreeFPHoldSRT/20240517/Top/Clips/Naveed_20240517_HoldTrial087_TopView.avi\n",
      "Duration of video [s]:  8.04 , recorded with  25.0 fps!\n",
      "Overall # of frames:  201  found with (before cropping) frame dimensions:  1280 1331\n",
      "Starting to extract posture\n",
      "Cropping based on the x1 = 0 x2 = 1280 y1 = 0 y2 = 1024. You can adjust the cropping coordinates in the config.yaml file.\n"
     ]
    },
    {
     "name": "stderr",
     "output_type": "stream",
     "text": [
      "100%|██████████| 201/201 [00:08<00:00, 22.34it/s]\n"
     ]
    },
    {
     "name": "stdout",
     "output_type": "stream",
     "text": [
      "Saving results in D:\\YuLab\\Work\\GPS\\Video\\Naveed\\GPS_13_ThreeFPHoldSRT\\20240517\\Top\\Clips...\n",
      "Saving csv poses!\n",
      "Starting to analyze %  D:/YuLab/Work/GPS/Video/Naveed/GPS_13_ThreeFPHoldSRT/20240517/Top/Clips/Naveed_20240517_HoldTrial088_TopView.avi\n",
      "Loading  D:/YuLab/Work/GPS/Video/Naveed/GPS_13_ThreeFPHoldSRT/20240517/Top/Clips/Naveed_20240517_HoldTrial088_TopView.avi\n",
      "Duration of video [s]:  8.0 , recorded with  25.0 fps!\n",
      "Overall # of frames:  200  found with (before cropping) frame dimensions:  1280 1331\n",
      "Starting to extract posture\n",
      "Cropping based on the x1 = 0 x2 = 1280 y1 = 0 y2 = 1024. You can adjust the cropping coordinates in the config.yaml file.\n"
     ]
    },
    {
     "name": "stderr",
     "output_type": "stream",
     "text": [
      "100%|██████████| 200/200 [00:08<00:00, 22.78it/s]\n"
     ]
    },
    {
     "name": "stdout",
     "output_type": "stream",
     "text": [
      "Saving results in D:\\YuLab\\Work\\GPS\\Video\\Naveed\\GPS_13_ThreeFPHoldSRT\\20240517\\Top\\Clips...\n",
      "Saving csv poses!\n",
      "Starting to analyze %  D:/YuLab/Work/GPS/Video/Naveed/GPS_13_ThreeFPHoldSRT/20240517/Top/Clips/Naveed_20240517_HoldTrial089_TopView.avi\n",
      "Loading  D:/YuLab/Work/GPS/Video/Naveed/GPS_13_ThreeFPHoldSRT/20240517/Top/Clips/Naveed_20240517_HoldTrial089_TopView.avi\n",
      "Duration of video [s]:  8.04 , recorded with  25.0 fps!\n",
      "Overall # of frames:  201  found with (before cropping) frame dimensions:  1280 1331\n",
      "Starting to extract posture\n",
      "Cropping based on the x1 = 0 x2 = 1280 y1 = 0 y2 = 1024. You can adjust the cropping coordinates in the config.yaml file.\n"
     ]
    },
    {
     "name": "stderr",
     "output_type": "stream",
     "text": [
      "100%|██████████| 201/201 [00:08<00:00, 22.38it/s]\n"
     ]
    },
    {
     "name": "stdout",
     "output_type": "stream",
     "text": [
      "Saving results in D:\\YuLab\\Work\\GPS\\Video\\Naveed\\GPS_13_ThreeFPHoldSRT\\20240517\\Top\\Clips...\n",
      "Saving csv poses!\n",
      "Starting to analyze %  D:/YuLab/Work/GPS/Video/Naveed/GPS_13_ThreeFPHoldSRT/20240517/Top/Clips/Naveed_20240517_HoldTrial090_TopView.avi\n",
      "Loading  D:/YuLab/Work/GPS/Video/Naveed/GPS_13_ThreeFPHoldSRT/20240517/Top/Clips/Naveed_20240517_HoldTrial090_TopView.avi\n",
      "Duration of video [s]:  8.04 , recorded with  25.0 fps!\n",
      "Overall # of frames:  201  found with (before cropping) frame dimensions:  1280 1331\n",
      "Starting to extract posture\n",
      "Cropping based on the x1 = 0 x2 = 1280 y1 = 0 y2 = 1024. You can adjust the cropping coordinates in the config.yaml file.\n"
     ]
    },
    {
     "name": "stderr",
     "output_type": "stream",
     "text": [
      "100%|██████████| 201/201 [00:08<00:00, 22.41it/s]\n"
     ]
    },
    {
     "name": "stdout",
     "output_type": "stream",
     "text": [
      "Saving results in D:\\YuLab\\Work\\GPS\\Video\\Naveed\\GPS_13_ThreeFPHoldSRT\\20240517\\Top\\Clips...\n",
      "Saving csv poses!\n",
      "Starting to analyze %  D:/YuLab/Work/GPS/Video/Naveed/GPS_13_ThreeFPHoldSRT/20240517/Top/Clips/Naveed_20240517_HoldTrial091_TopView.avi\n",
      "Loading  D:/YuLab/Work/GPS/Video/Naveed/GPS_13_ThreeFPHoldSRT/20240517/Top/Clips/Naveed_20240517_HoldTrial091_TopView.avi\n",
      "Duration of video [s]:  8.0 , recorded with  25.0 fps!\n",
      "Overall # of frames:  200  found with (before cropping) frame dimensions:  1280 1331\n",
      "Starting to extract posture\n",
      "Cropping based on the x1 = 0 x2 = 1280 y1 = 0 y2 = 1024. You can adjust the cropping coordinates in the config.yaml file.\n"
     ]
    },
    {
     "name": "stderr",
     "output_type": "stream",
     "text": [
      "100%|██████████| 200/200 [00:08<00:00, 22.92it/s]\n"
     ]
    },
    {
     "name": "stdout",
     "output_type": "stream",
     "text": [
      "Saving results in D:\\YuLab\\Work\\GPS\\Video\\Naveed\\GPS_13_ThreeFPHoldSRT\\20240517\\Top\\Clips...\n",
      "Saving csv poses!\n",
      "Starting to analyze %  D:/YuLab/Work/GPS/Video/Naveed/GPS_13_ThreeFPHoldSRT/20240517/Top/Clips/Naveed_20240517_HoldTrial092_TopView.avi\n",
      "Loading  D:/YuLab/Work/GPS/Video/Naveed/GPS_13_ThreeFPHoldSRT/20240517/Top/Clips/Naveed_20240517_HoldTrial092_TopView.avi\n",
      "Duration of video [s]:  8.04 , recorded with  25.0 fps!\n",
      "Overall # of frames:  201  found with (before cropping) frame dimensions:  1280 1331\n",
      "Starting to extract posture\n",
      "Cropping based on the x1 = 0 x2 = 1280 y1 = 0 y2 = 1024. You can adjust the cropping coordinates in the config.yaml file.\n"
     ]
    },
    {
     "name": "stderr",
     "output_type": "stream",
     "text": [
      "100%|██████████| 201/201 [00:08<00:00, 22.39it/s]\n"
     ]
    },
    {
     "name": "stdout",
     "output_type": "stream",
     "text": [
      "Saving results in D:\\YuLab\\Work\\GPS\\Video\\Naveed\\GPS_13_ThreeFPHoldSRT\\20240517\\Top\\Clips...\n",
      "Saving csv poses!\n",
      "Starting to analyze %  D:/YuLab/Work/GPS/Video/Naveed/GPS_13_ThreeFPHoldSRT/20240517/Top/Clips/Naveed_20240517_HoldTrial093_TopView.avi\n",
      "Loading  D:/YuLab/Work/GPS/Video/Naveed/GPS_13_ThreeFPHoldSRT/20240517/Top/Clips/Naveed_20240517_HoldTrial093_TopView.avi\n",
      "Duration of video [s]:  8.0 , recorded with  25.0 fps!\n",
      "Overall # of frames:  200  found with (before cropping) frame dimensions:  1280 1331\n",
      "Starting to extract posture\n",
      "Cropping based on the x1 = 0 x2 = 1280 y1 = 0 y2 = 1024. You can adjust the cropping coordinates in the config.yaml file.\n"
     ]
    },
    {
     "name": "stderr",
     "output_type": "stream",
     "text": [
      "100%|██████████| 200/200 [00:08<00:00, 22.82it/s]\n"
     ]
    },
    {
     "name": "stdout",
     "output_type": "stream",
     "text": [
      "Saving results in D:\\YuLab\\Work\\GPS\\Video\\Naveed\\GPS_13_ThreeFPHoldSRT\\20240517\\Top\\Clips...\n",
      "Saving csv poses!\n",
      "Starting to analyze %  D:/YuLab/Work/GPS/Video/Naveed/GPS_13_ThreeFPHoldSRT/20240517/Top/Clips/Naveed_20240517_HoldTrial094_TopView.avi\n",
      "Loading  D:/YuLab/Work/GPS/Video/Naveed/GPS_13_ThreeFPHoldSRT/20240517/Top/Clips/Naveed_20240517_HoldTrial094_TopView.avi\n",
      "Duration of video [s]:  8.0 , recorded with  25.0 fps!\n",
      "Overall # of frames:  200  found with (before cropping) frame dimensions:  1280 1331\n",
      "Starting to extract posture\n",
      "Cropping based on the x1 = 0 x2 = 1280 y1 = 0 y2 = 1024. You can adjust the cropping coordinates in the config.yaml file.\n"
     ]
    },
    {
     "name": "stderr",
     "output_type": "stream",
     "text": [
      "100%|██████████| 200/200 [00:08<00:00, 22.77it/s]\n"
     ]
    },
    {
     "name": "stdout",
     "output_type": "stream",
     "text": [
      "Saving results in D:\\YuLab\\Work\\GPS\\Video\\Naveed\\GPS_13_ThreeFPHoldSRT\\20240517\\Top\\Clips...\n",
      "Saving csv poses!\n",
      "Starting to analyze %  D:/YuLab/Work/GPS/Video/Naveed/GPS_13_ThreeFPHoldSRT/20240517/Top/Clips/Naveed_20240517_HoldTrial095_TopView.avi\n",
      "Loading  D:/YuLab/Work/GPS/Video/Naveed/GPS_13_ThreeFPHoldSRT/20240517/Top/Clips/Naveed_20240517_HoldTrial095_TopView.avi\n",
      "Duration of video [s]:  8.0 , recorded with  25.0 fps!\n",
      "Overall # of frames:  200  found with (before cropping) frame dimensions:  1280 1331\n",
      "Starting to extract posture\n",
      "Cropping based on the x1 = 0 x2 = 1280 y1 = 0 y2 = 1024. You can adjust the cropping coordinates in the config.yaml file.\n"
     ]
    },
    {
     "name": "stderr",
     "output_type": "stream",
     "text": [
      "100%|██████████| 200/200 [00:08<00:00, 22.81it/s]\n"
     ]
    },
    {
     "name": "stdout",
     "output_type": "stream",
     "text": [
      "Saving results in D:\\YuLab\\Work\\GPS\\Video\\Naveed\\GPS_13_ThreeFPHoldSRT\\20240517\\Top\\Clips...\n",
      "Saving csv poses!\n",
      "Starting to analyze %  D:/YuLab/Work/GPS/Video/Naveed/GPS_13_ThreeFPHoldSRT/20240517/Top/Clips/Naveed_20240517_HoldTrial096_TopView.avi\n",
      "Loading  D:/YuLab/Work/GPS/Video/Naveed/GPS_13_ThreeFPHoldSRT/20240517/Top/Clips/Naveed_20240517_HoldTrial096_TopView.avi\n",
      "Duration of video [s]:  8.04 , recorded with  25.0 fps!\n",
      "Overall # of frames:  201  found with (before cropping) frame dimensions:  1280 1331\n",
      "Starting to extract posture\n",
      "Cropping based on the x1 = 0 x2 = 1280 y1 = 0 y2 = 1024. You can adjust the cropping coordinates in the config.yaml file.\n"
     ]
    },
    {
     "name": "stderr",
     "output_type": "stream",
     "text": [
      "100%|██████████| 201/201 [00:09<00:00, 22.11it/s]\n"
     ]
    },
    {
     "name": "stdout",
     "output_type": "stream",
     "text": [
      "Saving results in D:\\YuLab\\Work\\GPS\\Video\\Naveed\\GPS_13_ThreeFPHoldSRT\\20240517\\Top\\Clips...\n",
      "Saving csv poses!\n",
      "Starting to analyze %  D:/YuLab/Work/GPS/Video/Naveed/GPS_13_ThreeFPHoldSRT/20240517/Top/Clips/Naveed_20240517_HoldTrial097_TopView.avi\n",
      "Loading  D:/YuLab/Work/GPS/Video/Naveed/GPS_13_ThreeFPHoldSRT/20240517/Top/Clips/Naveed_20240517_HoldTrial097_TopView.avi\n",
      "Duration of video [s]:  8.0 , recorded with  25.0 fps!\n",
      "Overall # of frames:  200  found with (before cropping) frame dimensions:  1280 1331\n",
      "Starting to extract posture\n",
      "Cropping based on the x1 = 0 x2 = 1280 y1 = 0 y2 = 1024. You can adjust the cropping coordinates in the config.yaml file.\n"
     ]
    },
    {
     "name": "stderr",
     "output_type": "stream",
     "text": [
      "100%|██████████| 200/200 [00:08<00:00, 22.87it/s]\n"
     ]
    },
    {
     "name": "stdout",
     "output_type": "stream",
     "text": [
      "Saving results in D:\\YuLab\\Work\\GPS\\Video\\Naveed\\GPS_13_ThreeFPHoldSRT\\20240517\\Top\\Clips...\n",
      "Saving csv poses!\n",
      "Starting to analyze %  D:/YuLab/Work/GPS/Video/Naveed/GPS_13_ThreeFPHoldSRT/20240517/Top/Clips/Naveed_20240517_HoldTrial098_TopView.avi\n",
      "Loading  D:/YuLab/Work/GPS/Video/Naveed/GPS_13_ThreeFPHoldSRT/20240517/Top/Clips/Naveed_20240517_HoldTrial098_TopView.avi\n",
      "Duration of video [s]:  8.0 , recorded with  25.0 fps!\n",
      "Overall # of frames:  200  found with (before cropping) frame dimensions:  1280 1331\n",
      "Starting to extract posture\n",
      "Cropping based on the x1 = 0 x2 = 1280 y1 = 0 y2 = 1024. You can adjust the cropping coordinates in the config.yaml file.\n"
     ]
    },
    {
     "name": "stderr",
     "output_type": "stream",
     "text": [
      "100%|██████████| 200/200 [00:08<00:00, 22.84it/s]\n"
     ]
    },
    {
     "name": "stdout",
     "output_type": "stream",
     "text": [
      "Saving results in D:\\YuLab\\Work\\GPS\\Video\\Naveed\\GPS_13_ThreeFPHoldSRT\\20240517\\Top\\Clips...\n",
      "Saving csv poses!\n",
      "Starting to analyze %  D:/YuLab/Work/GPS/Video/Naveed/GPS_13_ThreeFPHoldSRT/20240517/Top/Clips/Naveed_20240517_HoldTrial099_TopView.avi\n",
      "Loading  D:/YuLab/Work/GPS/Video/Naveed/GPS_13_ThreeFPHoldSRT/20240517/Top/Clips/Naveed_20240517_HoldTrial099_TopView.avi\n",
      "Duration of video [s]:  8.04 , recorded with  25.0 fps!\n",
      "Overall # of frames:  201  found with (before cropping) frame dimensions:  1280 1331\n",
      "Starting to extract posture\n",
      "Cropping based on the x1 = 0 x2 = 1280 y1 = 0 y2 = 1024. You can adjust the cropping coordinates in the config.yaml file.\n"
     ]
    },
    {
     "name": "stderr",
     "output_type": "stream",
     "text": [
      "100%|██████████| 201/201 [00:09<00:00, 22.19it/s]\n"
     ]
    },
    {
     "name": "stdout",
     "output_type": "stream",
     "text": [
      "Saving results in D:\\YuLab\\Work\\GPS\\Video\\Naveed\\GPS_13_ThreeFPHoldSRT\\20240517\\Top\\Clips...\n",
      "Saving csv poses!\n",
      "Starting to analyze %  D:/YuLab/Work/GPS/Video/Naveed/GPS_13_ThreeFPHoldSRT/20240517/Top/Clips/Naveed_20240517_HoldTrial100_TopView.avi\n",
      "Loading  D:/YuLab/Work/GPS/Video/Naveed/GPS_13_ThreeFPHoldSRT/20240517/Top/Clips/Naveed_20240517_HoldTrial100_TopView.avi\n",
      "Duration of video [s]:  8.04 , recorded with  25.0 fps!\n",
      "Overall # of frames:  201  found with (before cropping) frame dimensions:  1280 1331\n",
      "Starting to extract posture\n",
      "Cropping based on the x1 = 0 x2 = 1280 y1 = 0 y2 = 1024. You can adjust the cropping coordinates in the config.yaml file.\n"
     ]
    },
    {
     "name": "stderr",
     "output_type": "stream",
     "text": [
      "100%|██████████| 201/201 [00:09<00:00, 22.18it/s]\n"
     ]
    },
    {
     "name": "stdout",
     "output_type": "stream",
     "text": [
      "Saving results in D:\\YuLab\\Work\\GPS\\Video\\Naveed\\GPS_13_ThreeFPHoldSRT\\20240517\\Top\\Clips...\n",
      "Saving csv poses!\n",
      "Starting to analyze %  D:/YuLab/Work/GPS/Video/Naveed/GPS_13_ThreeFPHoldSRT/20240517/Top/Clips/Naveed_20240517_HoldTrial101_TopView.avi\n",
      "Loading  D:/YuLab/Work/GPS/Video/Naveed/GPS_13_ThreeFPHoldSRT/20240517/Top/Clips/Naveed_20240517_HoldTrial101_TopView.avi\n",
      "Duration of video [s]:  8.0 , recorded with  25.0 fps!\n",
      "Overall # of frames:  200  found with (before cropping) frame dimensions:  1280 1331\n",
      "Starting to extract posture\n",
      "Cropping based on the x1 = 0 x2 = 1280 y1 = 0 y2 = 1024. You can adjust the cropping coordinates in the config.yaml file.\n"
     ]
    },
    {
     "name": "stderr",
     "output_type": "stream",
     "text": [
      "100%|██████████| 200/200 [00:08<00:00, 22.78it/s]\n"
     ]
    },
    {
     "name": "stdout",
     "output_type": "stream",
     "text": [
      "Saving results in D:\\YuLab\\Work\\GPS\\Video\\Naveed\\GPS_13_ThreeFPHoldSRT\\20240517\\Top\\Clips...\n",
      "Saving csv poses!\n",
      "Starting to analyze %  D:/YuLab/Work/GPS/Video/Naveed/GPS_13_ThreeFPHoldSRT/20240517/Top/Clips/Naveed_20240517_HoldTrial102_TopView.avi\n",
      "Loading  D:/YuLab/Work/GPS/Video/Naveed/GPS_13_ThreeFPHoldSRT/20240517/Top/Clips/Naveed_20240517_HoldTrial102_TopView.avi\n",
      "Duration of video [s]:  8.04 , recorded with  25.0 fps!\n",
      "Overall # of frames:  201  found with (before cropping) frame dimensions:  1280 1331\n",
      "Starting to extract posture\n",
      "Cropping based on the x1 = 0 x2 = 1280 y1 = 0 y2 = 1024. You can adjust the cropping coordinates in the config.yaml file.\n"
     ]
    },
    {
     "name": "stderr",
     "output_type": "stream",
     "text": [
      "100%|██████████| 201/201 [00:09<00:00, 22.15it/s]\n"
     ]
    },
    {
     "name": "stdout",
     "output_type": "stream",
     "text": [
      "Saving results in D:\\YuLab\\Work\\GPS\\Video\\Naveed\\GPS_13_ThreeFPHoldSRT\\20240517\\Top\\Clips...\n",
      "Saving csv poses!\n",
      "Starting to analyze %  D:/YuLab/Work/GPS/Video/Naveed/GPS_13_ThreeFPHoldSRT/20240517/Top/Clips/Naveed_20240517_HoldTrial103_TopView.avi\n",
      "Loading  D:/YuLab/Work/GPS/Video/Naveed/GPS_13_ThreeFPHoldSRT/20240517/Top/Clips/Naveed_20240517_HoldTrial103_TopView.avi\n",
      "Duration of video [s]:  8.04 , recorded with  25.0 fps!\n",
      "Overall # of frames:  201  found with (before cropping) frame dimensions:  1280 1331\n",
      "Starting to extract posture\n",
      "Cropping based on the x1 = 0 x2 = 1280 y1 = 0 y2 = 1024. You can adjust the cropping coordinates in the config.yaml file.\n"
     ]
    },
    {
     "name": "stderr",
     "output_type": "stream",
     "text": [
      "100%|██████████| 201/201 [00:08<00:00, 22.36it/s]\n"
     ]
    },
    {
     "name": "stdout",
     "output_type": "stream",
     "text": [
      "Saving results in D:\\YuLab\\Work\\GPS\\Video\\Naveed\\GPS_13_ThreeFPHoldSRT\\20240517\\Top\\Clips...\n",
      "Saving csv poses!\n",
      "Starting to analyze %  D:/YuLab/Work/GPS/Video/Naveed/GPS_13_ThreeFPHoldSRT/20240517/Top/Clips/Naveed_20240517_HoldTrial104_TopView.avi\n",
      "Loading  D:/YuLab/Work/GPS/Video/Naveed/GPS_13_ThreeFPHoldSRT/20240517/Top/Clips/Naveed_20240517_HoldTrial104_TopView.avi\n",
      "Duration of video [s]:  8.0 , recorded with  25.0 fps!\n",
      "Overall # of frames:  200  found with (before cropping) frame dimensions:  1280 1331\n",
      "Starting to extract posture\n",
      "Cropping based on the x1 = 0 x2 = 1280 y1 = 0 y2 = 1024. You can adjust the cropping coordinates in the config.yaml file.\n"
     ]
    },
    {
     "name": "stderr",
     "output_type": "stream",
     "text": [
      "100%|██████████| 200/200 [00:08<00:00, 23.77it/s]\n"
     ]
    },
    {
     "name": "stdout",
     "output_type": "stream",
     "text": [
      "Saving results in D:\\YuLab\\Work\\GPS\\Video\\Naveed\\GPS_13_ThreeFPHoldSRT\\20240517\\Top\\Clips...\n",
      "Saving csv poses!\n",
      "Starting to analyze %  D:/YuLab/Work/GPS/Video/Naveed/GPS_13_ThreeFPHoldSRT/20240517/Top/Clips/Naveed_20240517_HoldTrial105_TopView.avi\n",
      "Loading  D:/YuLab/Work/GPS/Video/Naveed/GPS_13_ThreeFPHoldSRT/20240517/Top/Clips/Naveed_20240517_HoldTrial105_TopView.avi\n",
      "Duration of video [s]:  8.04 , recorded with  25.0 fps!\n",
      "Overall # of frames:  201  found with (before cropping) frame dimensions:  1280 1331\n",
      "Starting to extract posture\n",
      "Cropping based on the x1 = 0 x2 = 1280 y1 = 0 y2 = 1024. You can adjust the cropping coordinates in the config.yaml file.\n"
     ]
    },
    {
     "name": "stderr",
     "output_type": "stream",
     "text": [
      "100%|██████████| 201/201 [00:08<00:00, 23.22it/s]\n"
     ]
    },
    {
     "name": "stdout",
     "output_type": "stream",
     "text": [
      "Saving results in D:\\YuLab\\Work\\GPS\\Video\\Naveed\\GPS_13_ThreeFPHoldSRT\\20240517\\Top\\Clips...\n",
      "Saving csv poses!\n",
      "Starting to analyze %  D:/YuLab/Work/GPS/Video/Naveed/GPS_13_ThreeFPHoldSRT/20240517/Top/Clips/Naveed_20240517_HoldTrial106_TopView.avi\n",
      "Loading  D:/YuLab/Work/GPS/Video/Naveed/GPS_13_ThreeFPHoldSRT/20240517/Top/Clips/Naveed_20240517_HoldTrial106_TopView.avi\n",
      "Duration of video [s]:  8.0 , recorded with  25.0 fps!\n",
      "Overall # of frames:  200  found with (before cropping) frame dimensions:  1280 1331\n",
      "Starting to extract posture\n",
      "Cropping based on the x1 = 0 x2 = 1280 y1 = 0 y2 = 1024. You can adjust the cropping coordinates in the config.yaml file.\n"
     ]
    },
    {
     "name": "stderr",
     "output_type": "stream",
     "text": [
      "100%|██████████| 200/200 [00:08<00:00, 23.83it/s]\n"
     ]
    },
    {
     "name": "stdout",
     "output_type": "stream",
     "text": [
      "Saving results in D:\\YuLab\\Work\\GPS\\Video\\Naveed\\GPS_13_ThreeFPHoldSRT\\20240517\\Top\\Clips...\n",
      "Saving csv poses!\n",
      "Starting to analyze %  D:/YuLab/Work/GPS/Video/Naveed/GPS_13_ThreeFPHoldSRT/20240517/Top/Clips/Naveed_20240517_HoldTrial107_TopView.avi\n",
      "Loading  D:/YuLab/Work/GPS/Video/Naveed/GPS_13_ThreeFPHoldSRT/20240517/Top/Clips/Naveed_20240517_HoldTrial107_TopView.avi\n",
      "Duration of video [s]:  8.0 , recorded with  25.0 fps!\n",
      "Overall # of frames:  200  found with (before cropping) frame dimensions:  1280 1331\n",
      "Starting to extract posture\n",
      "Cropping based on the x1 = 0 x2 = 1280 y1 = 0 y2 = 1024. You can adjust the cropping coordinates in the config.yaml file.\n"
     ]
    },
    {
     "name": "stderr",
     "output_type": "stream",
     "text": [
      "100%|██████████| 200/200 [00:08<00:00, 23.82it/s]\n"
     ]
    },
    {
     "name": "stdout",
     "output_type": "stream",
     "text": [
      "Saving results in D:\\YuLab\\Work\\GPS\\Video\\Naveed\\GPS_13_ThreeFPHoldSRT\\20240517\\Top\\Clips...\n",
      "Saving csv poses!\n",
      "Starting to analyze %  D:/YuLab/Work/GPS/Video/Naveed/GPS_13_ThreeFPHoldSRT/20240517/Top/Clips/Naveed_20240517_HoldTrial108_TopView.avi\n",
      "Loading  D:/YuLab/Work/GPS/Video/Naveed/GPS_13_ThreeFPHoldSRT/20240517/Top/Clips/Naveed_20240517_HoldTrial108_TopView.avi\n",
      "Duration of video [s]:  8.04 , recorded with  25.0 fps!\n",
      "Overall # of frames:  201  found with (before cropping) frame dimensions:  1280 1331\n",
      "Starting to extract posture\n",
      "Cropping based on the x1 = 0 x2 = 1280 y1 = 0 y2 = 1024. You can adjust the cropping coordinates in the config.yaml file.\n"
     ]
    },
    {
     "name": "stderr",
     "output_type": "stream",
     "text": [
      "100%|██████████| 201/201 [00:08<00:00, 23.14it/s]\n"
     ]
    },
    {
     "name": "stdout",
     "output_type": "stream",
     "text": [
      "Saving results in D:\\YuLab\\Work\\GPS\\Video\\Naveed\\GPS_13_ThreeFPHoldSRT\\20240517\\Top\\Clips...\n",
      "Saving csv poses!\n",
      "Starting to analyze %  D:/YuLab/Work/GPS/Video/Naveed/GPS_13_ThreeFPHoldSRT/20240517/Top/Clips/Naveed_20240517_HoldTrial109_TopView.avi\n",
      "Loading  D:/YuLab/Work/GPS/Video/Naveed/GPS_13_ThreeFPHoldSRT/20240517/Top/Clips/Naveed_20240517_HoldTrial109_TopView.avi\n",
      "Duration of video [s]:  8.04 , recorded with  25.0 fps!\n",
      "Overall # of frames:  201  found with (before cropping) frame dimensions:  1280 1331\n",
      "Starting to extract posture\n",
      "Cropping based on the x1 = 0 x2 = 1280 y1 = 0 y2 = 1024. You can adjust the cropping coordinates in the config.yaml file.\n"
     ]
    },
    {
     "name": "stderr",
     "output_type": "stream",
     "text": [
      "100%|██████████| 201/201 [00:08<00:00, 23.16it/s]\n"
     ]
    },
    {
     "name": "stdout",
     "output_type": "stream",
     "text": [
      "Saving results in D:\\YuLab\\Work\\GPS\\Video\\Naveed\\GPS_13_ThreeFPHoldSRT\\20240517\\Top\\Clips...\n",
      "Saving csv poses!\n",
      "Starting to analyze %  D:/YuLab/Work/GPS/Video/Naveed/GPS_13_ThreeFPHoldSRT/20240517/Top/Clips/Naveed_20240517_HoldTrial110_TopView.avi\n",
      "Loading  D:/YuLab/Work/GPS/Video/Naveed/GPS_13_ThreeFPHoldSRT/20240517/Top/Clips/Naveed_20240517_HoldTrial110_TopView.avi\n",
      "Duration of video [s]:  7.96 , recorded with  25.0 fps!\n",
      "Overall # of frames:  199  found with (before cropping) frame dimensions:  1280 1331\n",
      "Starting to extract posture\n",
      "Cropping based on the x1 = 0 x2 = 1280 y1 = 0 y2 = 1024. You can adjust the cropping coordinates in the config.yaml file.\n"
     ]
    },
    {
     "name": "stderr",
     "output_type": "stream",
     "text": [
      "100%|██████████| 199/199 [00:08<00:00, 23.70it/s]\n"
     ]
    },
    {
     "name": "stdout",
     "output_type": "stream",
     "text": [
      "Saving results in D:\\YuLab\\Work\\GPS\\Video\\Naveed\\GPS_13_ThreeFPHoldSRT\\20240517\\Top\\Clips...\n",
      "Saving csv poses!\n",
      "Starting to analyze %  D:/YuLab/Work/GPS/Video/Naveed/GPS_13_ThreeFPHoldSRT/20240517/Top/Clips/Naveed_20240517_HoldTrial111_TopView.avi\n",
      "Loading  D:/YuLab/Work/GPS/Video/Naveed/GPS_13_ThreeFPHoldSRT/20240517/Top/Clips/Naveed_20240517_HoldTrial111_TopView.avi\n",
      "Duration of video [s]:  8.0 , recorded with  25.0 fps!\n",
      "Overall # of frames:  200  found with (before cropping) frame dimensions:  1280 1331\n",
      "Starting to extract posture\n",
      "Cropping based on the x1 = 0 x2 = 1280 y1 = 0 y2 = 1024. You can adjust the cropping coordinates in the config.yaml file.\n"
     ]
    },
    {
     "name": "stderr",
     "output_type": "stream",
     "text": [
      "100%|██████████| 200/200 [00:08<00:00, 23.70it/s]\n"
     ]
    },
    {
     "name": "stdout",
     "output_type": "stream",
     "text": [
      "Saving results in D:\\YuLab\\Work\\GPS\\Video\\Naveed\\GPS_13_ThreeFPHoldSRT\\20240517\\Top\\Clips...\n",
      "Saving csv poses!\n",
      "Starting to analyze %  D:/YuLab/Work/GPS/Video/Naveed/GPS_13_ThreeFPHoldSRT/20240517/Top/Clips/Naveed_20240517_HoldTrial112_TopView.avi\n",
      "Loading  D:/YuLab/Work/GPS/Video/Naveed/GPS_13_ThreeFPHoldSRT/20240517/Top/Clips/Naveed_20240517_HoldTrial112_TopView.avi\n",
      "Duration of video [s]:  8.04 , recorded with  25.0 fps!\n",
      "Overall # of frames:  201  found with (before cropping) frame dimensions:  1280 1331\n",
      "Starting to extract posture\n",
      "Cropping based on the x1 = 0 x2 = 1280 y1 = 0 y2 = 1024. You can adjust the cropping coordinates in the config.yaml file.\n"
     ]
    },
    {
     "name": "stderr",
     "output_type": "stream",
     "text": [
      "100%|██████████| 201/201 [00:08<00:00, 23.03it/s]\n"
     ]
    },
    {
     "name": "stdout",
     "output_type": "stream",
     "text": [
      "Saving results in D:\\YuLab\\Work\\GPS\\Video\\Naveed\\GPS_13_ThreeFPHoldSRT\\20240517\\Top\\Clips...\n",
      "Saving csv poses!\n",
      "Starting to analyze %  D:/YuLab/Work/GPS/Video/Naveed/GPS_13_ThreeFPHoldSRT/20240517/Top/Clips/Naveed_20240517_HoldTrial113_TopView.avi\n",
      "Loading  D:/YuLab/Work/GPS/Video/Naveed/GPS_13_ThreeFPHoldSRT/20240517/Top/Clips/Naveed_20240517_HoldTrial113_TopView.avi\n",
      "Duration of video [s]:  8.0 , recorded with  25.0 fps!\n",
      "Overall # of frames:  200  found with (before cropping) frame dimensions:  1280 1331\n",
      "Starting to extract posture\n",
      "Cropping based on the x1 = 0 x2 = 1280 y1 = 0 y2 = 1024. You can adjust the cropping coordinates in the config.yaml file.\n"
     ]
    },
    {
     "name": "stderr",
     "output_type": "stream",
     "text": [
      "100%|██████████| 200/200 [00:08<00:00, 23.62it/s]\n"
     ]
    },
    {
     "name": "stdout",
     "output_type": "stream",
     "text": [
      "Saving results in D:\\YuLab\\Work\\GPS\\Video\\Naveed\\GPS_13_ThreeFPHoldSRT\\20240517\\Top\\Clips...\n",
      "Saving csv poses!\n",
      "Starting to analyze %  D:/YuLab/Work/GPS/Video/Naveed/GPS_13_ThreeFPHoldSRT/20240517/Top/Clips/Naveed_20240517_HoldTrial114_TopView.avi\n",
      "Loading  D:/YuLab/Work/GPS/Video/Naveed/GPS_13_ThreeFPHoldSRT/20240517/Top/Clips/Naveed_20240517_HoldTrial114_TopView.avi\n",
      "Duration of video [s]:  8.04 , recorded with  25.0 fps!\n",
      "Overall # of frames:  201  found with (before cropping) frame dimensions:  1280 1331\n",
      "Starting to extract posture\n",
      "Cropping based on the x1 = 0 x2 = 1280 y1 = 0 y2 = 1024. You can adjust the cropping coordinates in the config.yaml file.\n"
     ]
    },
    {
     "name": "stderr",
     "output_type": "stream",
     "text": [
      "100%|██████████| 201/201 [00:08<00:00, 23.07it/s]\n"
     ]
    },
    {
     "name": "stdout",
     "output_type": "stream",
     "text": [
      "Saving results in D:\\YuLab\\Work\\GPS\\Video\\Naveed\\GPS_13_ThreeFPHoldSRT\\20240517\\Top\\Clips...\n",
      "Saving csv poses!\n",
      "Starting to analyze %  D:/YuLab/Work/GPS/Video/Naveed/GPS_13_ThreeFPHoldSRT/20240517/Top/Clips/Naveed_20240517_HoldTrial115_TopView.avi\n",
      "Loading  D:/YuLab/Work/GPS/Video/Naveed/GPS_13_ThreeFPHoldSRT/20240517/Top/Clips/Naveed_20240517_HoldTrial115_TopView.avi\n",
      "Duration of video [s]:  8.0 , recorded with  25.0 fps!\n",
      "Overall # of frames:  200  found with (before cropping) frame dimensions:  1280 1331\n",
      "Starting to extract posture\n",
      "Cropping based on the x1 = 0 x2 = 1280 y1 = 0 y2 = 1024. You can adjust the cropping coordinates in the config.yaml file.\n"
     ]
    },
    {
     "name": "stderr",
     "output_type": "stream",
     "text": [
      "100%|██████████| 200/200 [00:08<00:00, 23.79it/s]\n"
     ]
    },
    {
     "name": "stdout",
     "output_type": "stream",
     "text": [
      "Saving results in D:\\YuLab\\Work\\GPS\\Video\\Naveed\\GPS_13_ThreeFPHoldSRT\\20240517\\Top\\Clips...\n",
      "Saving csv poses!\n",
      "Starting to analyze %  D:/YuLab/Work/GPS/Video/Naveed/GPS_13_ThreeFPHoldSRT/20240517/Top/Clips/Naveed_20240517_HoldTrial116_TopView.avi\n",
      "Loading  D:/YuLab/Work/GPS/Video/Naveed/GPS_13_ThreeFPHoldSRT/20240517/Top/Clips/Naveed_20240517_HoldTrial116_TopView.avi\n",
      "Duration of video [s]:  8.04 , recorded with  25.0 fps!\n",
      "Overall # of frames:  201  found with (before cropping) frame dimensions:  1280 1331\n",
      "Starting to extract posture\n",
      "Cropping based on the x1 = 0 x2 = 1280 y1 = 0 y2 = 1024. You can adjust the cropping coordinates in the config.yaml file.\n"
     ]
    },
    {
     "name": "stderr",
     "output_type": "stream",
     "text": [
      "100%|██████████| 201/201 [00:08<00:00, 23.17it/s]\n"
     ]
    },
    {
     "name": "stdout",
     "output_type": "stream",
     "text": [
      "Saving results in D:\\YuLab\\Work\\GPS\\Video\\Naveed\\GPS_13_ThreeFPHoldSRT\\20240517\\Top\\Clips...\n",
      "Saving csv poses!\n",
      "Starting to analyze %  D:/YuLab/Work/GPS/Video/Naveed/GPS_13_ThreeFPHoldSRT/20240517/Top/Clips/Naveed_20240517_HoldTrial117_TopView.avi\n",
      "Loading  D:/YuLab/Work/GPS/Video/Naveed/GPS_13_ThreeFPHoldSRT/20240517/Top/Clips/Naveed_20240517_HoldTrial117_TopView.avi\n",
      "Duration of video [s]:  8.0 , recorded with  25.0 fps!\n",
      "Overall # of frames:  200  found with (before cropping) frame dimensions:  1280 1331\n",
      "Starting to extract posture\n",
      "Cropping based on the x1 = 0 x2 = 1280 y1 = 0 y2 = 1024. You can adjust the cropping coordinates in the config.yaml file.\n"
     ]
    },
    {
     "name": "stderr",
     "output_type": "stream",
     "text": [
      "100%|██████████| 200/200 [00:08<00:00, 23.85it/s]\n"
     ]
    },
    {
     "name": "stdout",
     "output_type": "stream",
     "text": [
      "Saving results in D:\\YuLab\\Work\\GPS\\Video\\Naveed\\GPS_13_ThreeFPHoldSRT\\20240517\\Top\\Clips...\n",
      "Saving csv poses!\n",
      "Starting to analyze %  D:/YuLab/Work/GPS/Video/Naveed/GPS_13_ThreeFPHoldSRT/20240517/Top/Clips/Naveed_20240517_HoldTrial118_TopView.avi\n",
      "Loading  D:/YuLab/Work/GPS/Video/Naveed/GPS_13_ThreeFPHoldSRT/20240517/Top/Clips/Naveed_20240517_HoldTrial118_TopView.avi\n",
      "Duration of video [s]:  8.04 , recorded with  25.0 fps!\n",
      "Overall # of frames:  201  found with (before cropping) frame dimensions:  1280 1331\n",
      "Starting to extract posture\n",
      "Cropping based on the x1 = 0 x2 = 1280 y1 = 0 y2 = 1024. You can adjust the cropping coordinates in the config.yaml file.\n"
     ]
    },
    {
     "name": "stderr",
     "output_type": "stream",
     "text": [
      "100%|██████████| 201/201 [00:08<00:00, 23.18it/s]\n"
     ]
    },
    {
     "name": "stdout",
     "output_type": "stream",
     "text": [
      "Saving results in D:\\YuLab\\Work\\GPS\\Video\\Naveed\\GPS_13_ThreeFPHoldSRT\\20240517\\Top\\Clips...\n",
      "Saving csv poses!\n",
      "Starting to analyze %  D:/YuLab/Work/GPS/Video/Naveed/GPS_13_ThreeFPHoldSRT/20240517/Top/Clips/Naveed_20240517_HoldTrial119_TopView.avi\n",
      "Loading  D:/YuLab/Work/GPS/Video/Naveed/GPS_13_ThreeFPHoldSRT/20240517/Top/Clips/Naveed_20240517_HoldTrial119_TopView.avi\n",
      "Duration of video [s]:  8.04 , recorded with  25.0 fps!\n",
      "Overall # of frames:  201  found with (before cropping) frame dimensions:  1280 1331\n",
      "Starting to extract posture\n",
      "Cropping based on the x1 = 0 x2 = 1280 y1 = 0 y2 = 1024. You can adjust the cropping coordinates in the config.yaml file.\n"
     ]
    },
    {
     "name": "stderr",
     "output_type": "stream",
     "text": [
      "100%|██████████| 201/201 [00:08<00:00, 23.20it/s]\n"
     ]
    },
    {
     "name": "stdout",
     "output_type": "stream",
     "text": [
      "Saving results in D:\\YuLab\\Work\\GPS\\Video\\Naveed\\GPS_13_ThreeFPHoldSRT\\20240517\\Top\\Clips...\n",
      "Saving csv poses!\n",
      "Starting to analyze %  D:/YuLab/Work/GPS/Video/Naveed/GPS_13_ThreeFPHoldSRT/20240517/Top/Clips/Naveed_20240517_HoldTrial120_TopView.avi\n",
      "Loading  D:/YuLab/Work/GPS/Video/Naveed/GPS_13_ThreeFPHoldSRT/20240517/Top/Clips/Naveed_20240517_HoldTrial120_TopView.avi\n",
      "Duration of video [s]:  8.04 , recorded with  25.0 fps!\n",
      "Overall # of frames:  201  found with (before cropping) frame dimensions:  1280 1331\n",
      "Starting to extract posture\n",
      "Cropping based on the x1 = 0 x2 = 1280 y1 = 0 y2 = 1024. You can adjust the cropping coordinates in the config.yaml file.\n"
     ]
    },
    {
     "name": "stderr",
     "output_type": "stream",
     "text": [
      "100%|██████████| 201/201 [00:08<00:00, 23.17it/s]\n"
     ]
    },
    {
     "name": "stdout",
     "output_type": "stream",
     "text": [
      "Saving results in D:\\YuLab\\Work\\GPS\\Video\\Naveed\\GPS_13_ThreeFPHoldSRT\\20240517\\Top\\Clips...\n",
      "Saving csv poses!\n",
      "Starting to analyze %  D:/YuLab/Work/GPS/Video/Naveed/GPS_13_ThreeFPHoldSRT/20240517/Top/Clips/Naveed_20240517_HoldTrial121_TopView.avi\n",
      "Loading  D:/YuLab/Work/GPS/Video/Naveed/GPS_13_ThreeFPHoldSRT/20240517/Top/Clips/Naveed_20240517_HoldTrial121_TopView.avi\n",
      "Duration of video [s]:  8.0 , recorded with  25.0 fps!\n",
      "Overall # of frames:  200  found with (before cropping) frame dimensions:  1280 1331\n",
      "Starting to extract posture\n",
      "Cropping based on the x1 = 0 x2 = 1280 y1 = 0 y2 = 1024. You can adjust the cropping coordinates in the config.yaml file.\n"
     ]
    },
    {
     "name": "stderr",
     "output_type": "stream",
     "text": [
      "100%|██████████| 200/200 [00:08<00:00, 23.81it/s]\n"
     ]
    },
    {
     "name": "stdout",
     "output_type": "stream",
     "text": [
      "Saving results in D:\\YuLab\\Work\\GPS\\Video\\Naveed\\GPS_13_ThreeFPHoldSRT\\20240517\\Top\\Clips...\n",
      "Saving csv poses!\n",
      "Starting to analyze %  D:/YuLab/Work/GPS/Video/Naveed/GPS_13_ThreeFPHoldSRT/20240517/Top/Clips/Naveed_20240517_HoldTrial122_TopView.avi\n",
      "Loading  D:/YuLab/Work/GPS/Video/Naveed/GPS_13_ThreeFPHoldSRT/20240517/Top/Clips/Naveed_20240517_HoldTrial122_TopView.avi\n",
      "Duration of video [s]:  8.04 , recorded with  25.0 fps!\n",
      "Overall # of frames:  201  found with (before cropping) frame dimensions:  1280 1331\n",
      "Starting to extract posture\n",
      "Cropping based on the x1 = 0 x2 = 1280 y1 = 0 y2 = 1024. You can adjust the cropping coordinates in the config.yaml file.\n"
     ]
    },
    {
     "name": "stderr",
     "output_type": "stream",
     "text": [
      "100%|██████████| 201/201 [00:08<00:00, 23.22it/s]\n"
     ]
    },
    {
     "name": "stdout",
     "output_type": "stream",
     "text": [
      "Saving results in D:\\YuLab\\Work\\GPS\\Video\\Naveed\\GPS_13_ThreeFPHoldSRT\\20240517\\Top\\Clips...\n",
      "Saving csv poses!\n",
      "Starting to analyze %  D:/YuLab/Work/GPS/Video/Naveed/GPS_13_ThreeFPHoldSRT/20240517/Top/Clips/Naveed_20240517_HoldTrial123_TopView.avi\n",
      "Loading  D:/YuLab/Work/GPS/Video/Naveed/GPS_13_ThreeFPHoldSRT/20240517/Top/Clips/Naveed_20240517_HoldTrial123_TopView.avi\n",
      "Duration of video [s]:  8.04 , recorded with  25.0 fps!\n",
      "Overall # of frames:  201  found with (before cropping) frame dimensions:  1280 1331\n",
      "Starting to extract posture\n",
      "Cropping based on the x1 = 0 x2 = 1280 y1 = 0 y2 = 1024. You can adjust the cropping coordinates in the config.yaml file.\n"
     ]
    },
    {
     "name": "stderr",
     "output_type": "stream",
     "text": [
      "100%|██████████| 201/201 [00:08<00:00, 23.22it/s]\n"
     ]
    },
    {
     "name": "stdout",
     "output_type": "stream",
     "text": [
      "Saving results in D:\\YuLab\\Work\\GPS\\Video\\Naveed\\GPS_13_ThreeFPHoldSRT\\20240517\\Top\\Clips...\n",
      "Saving csv poses!\n",
      "Starting to analyze %  D:/YuLab/Work/GPS/Video/Naveed/GPS_13_ThreeFPHoldSRT/20240517/Top/Clips/Naveed_20240517_HoldTrial124_TopView.avi\n",
      "Loading  D:/YuLab/Work/GPS/Video/Naveed/GPS_13_ThreeFPHoldSRT/20240517/Top/Clips/Naveed_20240517_HoldTrial124_TopView.avi\n",
      "Duration of video [s]:  8.0 , recorded with  25.0 fps!\n",
      "Overall # of frames:  200  found with (before cropping) frame dimensions:  1280 1331\n",
      "Starting to extract posture\n",
      "Cropping based on the x1 = 0 x2 = 1280 y1 = 0 y2 = 1024. You can adjust the cropping coordinates in the config.yaml file.\n"
     ]
    },
    {
     "name": "stderr",
     "output_type": "stream",
     "text": [
      "100%|██████████| 200/200 [00:08<00:00, 23.81it/s]\n"
     ]
    },
    {
     "name": "stdout",
     "output_type": "stream",
     "text": [
      "Saving results in D:\\YuLab\\Work\\GPS\\Video\\Naveed\\GPS_13_ThreeFPHoldSRT\\20240517\\Top\\Clips...\n",
      "Saving csv poses!\n",
      "Starting to analyze %  D:/YuLab/Work/GPS/Video/Naveed/GPS_13_ThreeFPHoldSRT/20240517/Top/Clips/Naveed_20240517_HoldTrial125_TopView.avi\n",
      "Loading  D:/YuLab/Work/GPS/Video/Naveed/GPS_13_ThreeFPHoldSRT/20240517/Top/Clips/Naveed_20240517_HoldTrial125_TopView.avi\n",
      "Duration of video [s]:  8.0 , recorded with  25.0 fps!\n",
      "Overall # of frames:  200  found with (before cropping) frame dimensions:  1280 1331\n",
      "Starting to extract posture\n",
      "Cropping based on the x1 = 0 x2 = 1280 y1 = 0 y2 = 1024. You can adjust the cropping coordinates in the config.yaml file.\n"
     ]
    },
    {
     "name": "stderr",
     "output_type": "stream",
     "text": [
      "100%|██████████| 200/200 [00:08<00:00, 23.79it/s]\n"
     ]
    },
    {
     "name": "stdout",
     "output_type": "stream",
     "text": [
      "Saving results in D:\\YuLab\\Work\\GPS\\Video\\Naveed\\GPS_13_ThreeFPHoldSRT\\20240517\\Top\\Clips...\n",
      "Saving csv poses!\n",
      "Starting to analyze %  D:/YuLab/Work/GPS/Video/Naveed/GPS_13_ThreeFPHoldSRT/20240517/Top/Clips/Naveed_20240517_HoldTrial126_TopView.avi\n",
      "Loading  D:/YuLab/Work/GPS/Video/Naveed/GPS_13_ThreeFPHoldSRT/20240517/Top/Clips/Naveed_20240517_HoldTrial126_TopView.avi\n",
      "Duration of video [s]:  8.0 , recorded with  25.0 fps!\n",
      "Overall # of frames:  200  found with (before cropping) frame dimensions:  1280 1331\n",
      "Starting to extract posture\n",
      "Cropping based on the x1 = 0 x2 = 1280 y1 = 0 y2 = 1024. You can adjust the cropping coordinates in the config.yaml file.\n"
     ]
    },
    {
     "name": "stderr",
     "output_type": "stream",
     "text": [
      "100%|██████████| 200/200 [00:08<00:00, 23.77it/s]\n"
     ]
    },
    {
     "name": "stdout",
     "output_type": "stream",
     "text": [
      "Saving results in D:\\YuLab\\Work\\GPS\\Video\\Naveed\\GPS_13_ThreeFPHoldSRT\\20240517\\Top\\Clips...\n",
      "Saving csv poses!\n",
      "Starting to analyze %  D:/YuLab/Work/GPS/Video/Naveed/GPS_13_ThreeFPHoldSRT/20240517/Top/Clips/Naveed_20240517_HoldTrial127_TopView.avi\n",
      "Loading  D:/YuLab/Work/GPS/Video/Naveed/GPS_13_ThreeFPHoldSRT/20240517/Top/Clips/Naveed_20240517_HoldTrial127_TopView.avi\n",
      "Duration of video [s]:  8.0 , recorded with  25.0 fps!\n",
      "Overall # of frames:  200  found with (before cropping) frame dimensions:  1280 1331\n",
      "Starting to extract posture\n",
      "Cropping based on the x1 = 0 x2 = 1280 y1 = 0 y2 = 1024. You can adjust the cropping coordinates in the config.yaml file.\n"
     ]
    },
    {
     "name": "stderr",
     "output_type": "stream",
     "text": [
      "100%|██████████| 200/200 [00:08<00:00, 23.66it/s]\n"
     ]
    },
    {
     "name": "stdout",
     "output_type": "stream",
     "text": [
      "Saving results in D:\\YuLab\\Work\\GPS\\Video\\Naveed\\GPS_13_ThreeFPHoldSRT\\20240517\\Top\\Clips...\n",
      "Saving csv poses!\n",
      "Starting to analyze %  D:/YuLab/Work/GPS/Video/Naveed/GPS_13_ThreeFPHoldSRT/20240517/Top/Clips/Naveed_20240517_HoldTrial128_TopView.avi\n",
      "Loading  D:/YuLab/Work/GPS/Video/Naveed/GPS_13_ThreeFPHoldSRT/20240517/Top/Clips/Naveed_20240517_HoldTrial128_TopView.avi\n",
      "Duration of video [s]:  8.04 , recorded with  25.0 fps!\n",
      "Overall # of frames:  201  found with (before cropping) frame dimensions:  1280 1331\n",
      "Starting to extract posture\n",
      "Cropping based on the x1 = 0 x2 = 1280 y1 = 0 y2 = 1024. You can adjust the cropping coordinates in the config.yaml file.\n"
     ]
    },
    {
     "name": "stderr",
     "output_type": "stream",
     "text": [
      "100%|██████████| 201/201 [00:08<00:00, 23.03it/s]\n"
     ]
    },
    {
     "name": "stdout",
     "output_type": "stream",
     "text": [
      "Saving results in D:\\YuLab\\Work\\GPS\\Video\\Naveed\\GPS_13_ThreeFPHoldSRT\\20240517\\Top\\Clips...\n",
      "Saving csv poses!\n",
      "Starting to analyze %  D:/YuLab/Work/GPS/Video/Naveed/GPS_13_ThreeFPHoldSRT/20240517/Top/Clips/Naveed_20240517_HoldTrial129_TopView.avi\n",
      "Loading  D:/YuLab/Work/GPS/Video/Naveed/GPS_13_ThreeFPHoldSRT/20240517/Top/Clips/Naveed_20240517_HoldTrial129_TopView.avi\n",
      "Duration of video [s]:  7.96 , recorded with  25.0 fps!\n",
      "Overall # of frames:  199  found with (before cropping) frame dimensions:  1280 1331\n",
      "Starting to extract posture\n",
      "Cropping based on the x1 = 0 x2 = 1280 y1 = 0 y2 = 1024. You can adjust the cropping coordinates in the config.yaml file.\n"
     ]
    },
    {
     "name": "stderr",
     "output_type": "stream",
     "text": [
      "100%|██████████| 199/199 [00:08<00:00, 23.55it/s]\n"
     ]
    },
    {
     "name": "stdout",
     "output_type": "stream",
     "text": [
      "Saving results in D:\\YuLab\\Work\\GPS\\Video\\Naveed\\GPS_13_ThreeFPHoldSRT\\20240517\\Top\\Clips...\n",
      "Saving csv poses!\n",
      "Starting to analyze %  D:/YuLab/Work/GPS/Video/Naveed/GPS_13_ThreeFPHoldSRT/20240517/Top/Clips/Naveed_20240517_HoldTrial130_TopView.avi\n",
      "Loading  D:/YuLab/Work/GPS/Video/Naveed/GPS_13_ThreeFPHoldSRT/20240517/Top/Clips/Naveed_20240517_HoldTrial130_TopView.avi\n",
      "Duration of video [s]:  8.04 , recorded with  25.0 fps!\n",
      "Overall # of frames:  201  found with (before cropping) frame dimensions:  1280 1331\n",
      "Starting to extract posture\n",
      "Cropping based on the x1 = 0 x2 = 1280 y1 = 0 y2 = 1024. You can adjust the cropping coordinates in the config.yaml file.\n"
     ]
    },
    {
     "name": "stderr",
     "output_type": "stream",
     "text": [
      "100%|██████████| 201/201 [00:08<00:00, 23.02it/s]\n"
     ]
    },
    {
     "name": "stdout",
     "output_type": "stream",
     "text": [
      "Saving results in D:\\YuLab\\Work\\GPS\\Video\\Naveed\\GPS_13_ThreeFPHoldSRT\\20240517\\Top\\Clips...\n",
      "Saving csv poses!\n",
      "Starting to analyze %  D:/YuLab/Work/GPS/Video/Naveed/GPS_13_ThreeFPHoldSRT/20240517/Top/Clips/Naveed_20240517_HoldTrial131_TopView.avi\n",
      "Loading  D:/YuLab/Work/GPS/Video/Naveed/GPS_13_ThreeFPHoldSRT/20240517/Top/Clips/Naveed_20240517_HoldTrial131_TopView.avi\n",
      "Duration of video [s]:  8.0 , recorded with  25.0 fps!\n",
      "Overall # of frames:  200  found with (before cropping) frame dimensions:  1280 1331\n",
      "Starting to extract posture\n",
      "Cropping based on the x1 = 0 x2 = 1280 y1 = 0 y2 = 1024. You can adjust the cropping coordinates in the config.yaml file.\n"
     ]
    },
    {
     "name": "stderr",
     "output_type": "stream",
     "text": [
      "100%|██████████| 200/200 [00:08<00:00, 23.57it/s]\n"
     ]
    },
    {
     "name": "stdout",
     "output_type": "stream",
     "text": [
      "Saving results in D:\\YuLab\\Work\\GPS\\Video\\Naveed\\GPS_13_ThreeFPHoldSRT\\20240517\\Top\\Clips...\n",
      "Saving csv poses!\n",
      "Starting to analyze %  D:/YuLab/Work/GPS/Video/Naveed/GPS_13_ThreeFPHoldSRT/20240517/Top/Clips/Naveed_20240517_HoldTrial132_TopView.avi\n",
      "Loading  D:/YuLab/Work/GPS/Video/Naveed/GPS_13_ThreeFPHoldSRT/20240517/Top/Clips/Naveed_20240517_HoldTrial132_TopView.avi\n",
      "Duration of video [s]:  8.04 , recorded with  25.0 fps!\n",
      "Overall # of frames:  201  found with (before cropping) frame dimensions:  1280 1331\n",
      "Starting to extract posture\n",
      "Cropping based on the x1 = 0 x2 = 1280 y1 = 0 y2 = 1024. You can adjust the cropping coordinates in the config.yaml file.\n"
     ]
    },
    {
     "name": "stderr",
     "output_type": "stream",
     "text": [
      "100%|██████████| 201/201 [00:08<00:00, 23.04it/s]\n"
     ]
    },
    {
     "name": "stdout",
     "output_type": "stream",
     "text": [
      "Saving results in D:\\YuLab\\Work\\GPS\\Video\\Naveed\\GPS_13_ThreeFPHoldSRT\\20240517\\Top\\Clips...\n",
      "Saving csv poses!\n",
      "Starting to analyze %  D:/YuLab/Work/GPS/Video/Naveed/GPS_13_ThreeFPHoldSRT/20240517/Top/Clips/Naveed_20240517_HoldTrial133_TopView.avi\n",
      "Loading  D:/YuLab/Work/GPS/Video/Naveed/GPS_13_ThreeFPHoldSRT/20240517/Top/Clips/Naveed_20240517_HoldTrial133_TopView.avi\n",
      "Duration of video [s]:  8.04 , recorded with  25.0 fps!\n",
      "Overall # of frames:  201  found with (before cropping) frame dimensions:  1280 1331\n",
      "Starting to extract posture\n",
      "Cropping based on the x1 = 0 x2 = 1280 y1 = 0 y2 = 1024. You can adjust the cropping coordinates in the config.yaml file.\n"
     ]
    },
    {
     "name": "stderr",
     "output_type": "stream",
     "text": [
      "100%|██████████| 201/201 [00:08<00:00, 22.99it/s]\n"
     ]
    },
    {
     "name": "stdout",
     "output_type": "stream",
     "text": [
      "Saving results in D:\\YuLab\\Work\\GPS\\Video\\Naveed\\GPS_13_ThreeFPHoldSRT\\20240517\\Top\\Clips...\n",
      "Saving csv poses!\n",
      "Starting to analyze %  D:/YuLab/Work/GPS/Video/Naveed/GPS_13_ThreeFPHoldSRT/20240517/Top/Clips/Naveed_20240517_HoldTrial134_TopView.avi\n",
      "Loading  D:/YuLab/Work/GPS/Video/Naveed/GPS_13_ThreeFPHoldSRT/20240517/Top/Clips/Naveed_20240517_HoldTrial134_TopView.avi\n",
      "Duration of video [s]:  8.04 , recorded with  25.0 fps!\n",
      "Overall # of frames:  201  found with (before cropping) frame dimensions:  1280 1331\n",
      "Starting to extract posture\n",
      "Cropping based on the x1 = 0 x2 = 1280 y1 = 0 y2 = 1024. You can adjust the cropping coordinates in the config.yaml file.\n"
     ]
    },
    {
     "name": "stderr",
     "output_type": "stream",
     "text": [
      "100%|██████████| 201/201 [00:08<00:00, 22.93it/s]\n"
     ]
    },
    {
     "name": "stdout",
     "output_type": "stream",
     "text": [
      "Saving results in D:\\YuLab\\Work\\GPS\\Video\\Naveed\\GPS_13_ThreeFPHoldSRT\\20240517\\Top\\Clips...\n",
      "Saving csv poses!\n",
      "Starting to analyze %  D:/YuLab/Work/GPS/Video/Naveed/GPS_13_ThreeFPHoldSRT/20240517/Top/Clips/Naveed_20240517_HoldTrial135_TopView.avi\n",
      "Loading  D:/YuLab/Work/GPS/Video/Naveed/GPS_13_ThreeFPHoldSRT/20240517/Top/Clips/Naveed_20240517_HoldTrial135_TopView.avi\n",
      "Duration of video [s]:  8.04 , recorded with  25.0 fps!\n",
      "Overall # of frames:  201  found with (before cropping) frame dimensions:  1280 1331\n",
      "Starting to extract posture\n",
      "Cropping based on the x1 = 0 x2 = 1280 y1 = 0 y2 = 1024. You can adjust the cropping coordinates in the config.yaml file.\n"
     ]
    },
    {
     "name": "stderr",
     "output_type": "stream",
     "text": [
      "100%|██████████| 201/201 [00:08<00:00, 22.97it/s]\n"
     ]
    },
    {
     "name": "stdout",
     "output_type": "stream",
     "text": [
      "Saving results in D:\\YuLab\\Work\\GPS\\Video\\Naveed\\GPS_13_ThreeFPHoldSRT\\20240517\\Top\\Clips...\n",
      "Saving csv poses!\n",
      "Starting to analyze %  D:/YuLab/Work/GPS/Video/Naveed/GPS_13_ThreeFPHoldSRT/20240517/Top/Clips/Naveed_20240517_HoldTrial136_TopView.avi\n",
      "Loading  D:/YuLab/Work/GPS/Video/Naveed/GPS_13_ThreeFPHoldSRT/20240517/Top/Clips/Naveed_20240517_HoldTrial136_TopView.avi\n",
      "Duration of video [s]:  8.0 , recorded with  25.0 fps!\n",
      "Overall # of frames:  200  found with (before cropping) frame dimensions:  1280 1331\n",
      "Starting to extract posture\n",
      "Cropping based on the x1 = 0 x2 = 1280 y1 = 0 y2 = 1024. You can adjust the cropping coordinates in the config.yaml file.\n"
     ]
    },
    {
     "name": "stderr",
     "output_type": "stream",
     "text": [
      "100%|██████████| 200/200 [00:08<00:00, 23.54it/s]\n"
     ]
    },
    {
     "name": "stdout",
     "output_type": "stream",
     "text": [
      "Saving results in D:\\YuLab\\Work\\GPS\\Video\\Naveed\\GPS_13_ThreeFPHoldSRT\\20240517\\Top\\Clips...\n",
      "Saving csv poses!\n",
      "Starting to analyze %  D:/YuLab/Work/GPS/Video/Naveed/GPS_13_ThreeFPHoldSRT/20240517/Top/Clips/Naveed_20240517_HoldTrial137_TopView.avi\n",
      "Loading  D:/YuLab/Work/GPS/Video/Naveed/GPS_13_ThreeFPHoldSRT/20240517/Top/Clips/Naveed_20240517_HoldTrial137_TopView.avi\n",
      "Duration of video [s]:  8.04 , recorded with  25.0 fps!\n",
      "Overall # of frames:  201  found with (before cropping) frame dimensions:  1280 1331\n",
      "Starting to extract posture\n",
      "Cropping based on the x1 = 0 x2 = 1280 y1 = 0 y2 = 1024. You can adjust the cropping coordinates in the config.yaml file.\n"
     ]
    },
    {
     "name": "stderr",
     "output_type": "stream",
     "text": [
      "100%|██████████| 201/201 [00:08<00:00, 22.95it/s]\n"
     ]
    },
    {
     "name": "stdout",
     "output_type": "stream",
     "text": [
      "Saving results in D:\\YuLab\\Work\\GPS\\Video\\Naveed\\GPS_13_ThreeFPHoldSRT\\20240517\\Top\\Clips...\n",
      "Saving csv poses!\n",
      "Starting to analyze %  D:/YuLab/Work/GPS/Video/Naveed/GPS_13_ThreeFPHoldSRT/20240517/Top/Clips/Naveed_20240517_HoldTrial138_TopView.avi\n",
      "Loading  D:/YuLab/Work/GPS/Video/Naveed/GPS_13_ThreeFPHoldSRT/20240517/Top/Clips/Naveed_20240517_HoldTrial138_TopView.avi\n",
      "Duration of video [s]:  8.0 , recorded with  25.0 fps!\n",
      "Overall # of frames:  200  found with (before cropping) frame dimensions:  1280 1331\n",
      "Starting to extract posture\n",
      "Cropping based on the x1 = 0 x2 = 1280 y1 = 0 y2 = 1024. You can adjust the cropping coordinates in the config.yaml file.\n"
     ]
    },
    {
     "name": "stderr",
     "output_type": "stream",
     "text": [
      "100%|██████████| 200/200 [00:08<00:00, 23.61it/s]\n"
     ]
    },
    {
     "name": "stdout",
     "output_type": "stream",
     "text": [
      "Saving results in D:\\YuLab\\Work\\GPS\\Video\\Naveed\\GPS_13_ThreeFPHoldSRT\\20240517\\Top\\Clips...\n",
      "Saving csv poses!\n",
      "Starting to analyze %  D:/YuLab/Work/GPS/Video/Naveed/GPS_13_ThreeFPHoldSRT/20240517/Top/Clips/Naveed_20240517_HoldTrial139_TopView.avi\n",
      "Loading  D:/YuLab/Work/GPS/Video/Naveed/GPS_13_ThreeFPHoldSRT/20240517/Top/Clips/Naveed_20240517_HoldTrial139_TopView.avi\n",
      "Duration of video [s]:  8.0 , recorded with  25.0 fps!\n",
      "Overall # of frames:  200  found with (before cropping) frame dimensions:  1280 1331\n",
      "Starting to extract posture\n",
      "Cropping based on the x1 = 0 x2 = 1280 y1 = 0 y2 = 1024. You can adjust the cropping coordinates in the config.yaml file.\n"
     ]
    },
    {
     "name": "stderr",
     "output_type": "stream",
     "text": [
      "100%|██████████| 200/200 [00:08<00:00, 23.64it/s]\n"
     ]
    },
    {
     "name": "stdout",
     "output_type": "stream",
     "text": [
      "Saving results in D:\\YuLab\\Work\\GPS\\Video\\Naveed\\GPS_13_ThreeFPHoldSRT\\20240517\\Top\\Clips...\n",
      "Saving csv poses!\n",
      "Starting to analyze %  D:/YuLab/Work/GPS/Video/Naveed/GPS_13_ThreeFPHoldSRT/20240517/Top/Clips/Naveed_20240517_HoldTrial140_TopView.avi\n",
      "Loading  D:/YuLab/Work/GPS/Video/Naveed/GPS_13_ThreeFPHoldSRT/20240517/Top/Clips/Naveed_20240517_HoldTrial140_TopView.avi\n",
      "Duration of video [s]:  8.04 , recorded with  25.0 fps!\n",
      "Overall # of frames:  201  found with (before cropping) frame dimensions:  1280 1331\n",
      "Starting to extract posture\n",
      "Cropping based on the x1 = 0 x2 = 1280 y1 = 0 y2 = 1024. You can adjust the cropping coordinates in the config.yaml file.\n"
     ]
    },
    {
     "name": "stderr",
     "output_type": "stream",
     "text": [
      "100%|██████████| 201/201 [00:08<00:00, 23.00it/s]\n"
     ]
    },
    {
     "name": "stdout",
     "output_type": "stream",
     "text": [
      "Saving results in D:\\YuLab\\Work\\GPS\\Video\\Naveed\\GPS_13_ThreeFPHoldSRT\\20240517\\Top\\Clips...\n",
      "Saving csv poses!\n",
      "Starting to analyze %  D:/YuLab/Work/GPS/Video/Naveed/GPS_13_ThreeFPHoldSRT/20240517/Top/Clips/Naveed_20240517_HoldTrial141_TopView.avi\n",
      "Loading  D:/YuLab/Work/GPS/Video/Naveed/GPS_13_ThreeFPHoldSRT/20240517/Top/Clips/Naveed_20240517_HoldTrial141_TopView.avi\n",
      "Duration of video [s]:  8.0 , recorded with  25.0 fps!\n",
      "Overall # of frames:  200  found with (before cropping) frame dimensions:  1280 1331\n",
      "Starting to extract posture\n",
      "Cropping based on the x1 = 0 x2 = 1280 y1 = 0 y2 = 1024. You can adjust the cropping coordinates in the config.yaml file.\n"
     ]
    },
    {
     "name": "stderr",
     "output_type": "stream",
     "text": [
      "100%|██████████| 200/200 [00:08<00:00, 23.65it/s]\n"
     ]
    },
    {
     "name": "stdout",
     "output_type": "stream",
     "text": [
      "Saving results in D:\\YuLab\\Work\\GPS\\Video\\Naveed\\GPS_13_ThreeFPHoldSRT\\20240517\\Top\\Clips...\n",
      "Saving csv poses!\n",
      "Starting to analyze %  D:/YuLab/Work/GPS/Video/Naveed/GPS_13_ThreeFPHoldSRT/20240517/Top/Clips/Naveed_20240517_HoldTrial142_TopView.avi\n",
      "Loading  D:/YuLab/Work/GPS/Video/Naveed/GPS_13_ThreeFPHoldSRT/20240517/Top/Clips/Naveed_20240517_HoldTrial142_TopView.avi\n",
      "Duration of video [s]:  8.04 , recorded with  25.0 fps!\n",
      "Overall # of frames:  201  found with (before cropping) frame dimensions:  1280 1331\n",
      "Starting to extract posture\n",
      "Cropping based on the x1 = 0 x2 = 1280 y1 = 0 y2 = 1024. You can adjust the cropping coordinates in the config.yaml file.\n"
     ]
    },
    {
     "name": "stderr",
     "output_type": "stream",
     "text": [
      "100%|██████████| 201/201 [00:08<00:00, 22.98it/s]\n"
     ]
    },
    {
     "name": "stdout",
     "output_type": "stream",
     "text": [
      "Saving results in D:\\YuLab\\Work\\GPS\\Video\\Naveed\\GPS_13_ThreeFPHoldSRT\\20240517\\Top\\Clips...\n",
      "Saving csv poses!\n",
      "Starting to analyze %  D:/YuLab/Work/GPS/Video/Naveed/GPS_13_ThreeFPHoldSRT/20240517/Top/Clips/Naveed_20240517_HoldTrial143_TopView.avi\n",
      "Loading  D:/YuLab/Work/GPS/Video/Naveed/GPS_13_ThreeFPHoldSRT/20240517/Top/Clips/Naveed_20240517_HoldTrial143_TopView.avi\n",
      "Duration of video [s]:  8.04 , recorded with  25.0 fps!\n",
      "Overall # of frames:  201  found with (before cropping) frame dimensions:  1280 1331\n",
      "Starting to extract posture\n",
      "Cropping based on the x1 = 0 x2 = 1280 y1 = 0 y2 = 1024. You can adjust the cropping coordinates in the config.yaml file.\n"
     ]
    },
    {
     "name": "stderr",
     "output_type": "stream",
     "text": [
      "100%|██████████| 201/201 [00:08<00:00, 23.13it/s]\n"
     ]
    },
    {
     "name": "stdout",
     "output_type": "stream",
     "text": [
      "Saving results in D:\\YuLab\\Work\\GPS\\Video\\Naveed\\GPS_13_ThreeFPHoldSRT\\20240517\\Top\\Clips...\n",
      "Saving csv poses!\n",
      "Starting to analyze %  D:/YuLab/Work/GPS/Video/Naveed/GPS_13_ThreeFPHoldSRT/20240517/Top/Clips/Naveed_20240517_HoldTrial144_TopView.avi\n",
      "Loading  D:/YuLab/Work/GPS/Video/Naveed/GPS_13_ThreeFPHoldSRT/20240517/Top/Clips/Naveed_20240517_HoldTrial144_TopView.avi\n",
      "Duration of video [s]:  8.0 , recorded with  25.0 fps!\n",
      "Overall # of frames:  200  found with (before cropping) frame dimensions:  1280 1331\n",
      "Starting to extract posture\n",
      "Cropping based on the x1 = 0 x2 = 1280 y1 = 0 y2 = 1024. You can adjust the cropping coordinates in the config.yaml file.\n"
     ]
    },
    {
     "name": "stderr",
     "output_type": "stream",
     "text": [
      "100%|██████████| 200/200 [00:08<00:00, 23.79it/s]\n"
     ]
    },
    {
     "name": "stdout",
     "output_type": "stream",
     "text": [
      "Saving results in D:\\YuLab\\Work\\GPS\\Video\\Naveed\\GPS_13_ThreeFPHoldSRT\\20240517\\Top\\Clips...\n",
      "Saving csv poses!\n",
      "Starting to analyze %  D:/YuLab/Work/GPS/Video/Naveed/GPS_13_ThreeFPHoldSRT/20240517/Top/Clips/Naveed_20240517_HoldTrial145_TopView.avi\n",
      "Loading  D:/YuLab/Work/GPS/Video/Naveed/GPS_13_ThreeFPHoldSRT/20240517/Top/Clips/Naveed_20240517_HoldTrial145_TopView.avi\n",
      "Duration of video [s]:  8.04 , recorded with  25.0 fps!\n",
      "Overall # of frames:  201  found with (before cropping) frame dimensions:  1280 1331\n",
      "Starting to extract posture\n",
      "Cropping based on the x1 = 0 x2 = 1280 y1 = 0 y2 = 1024. You can adjust the cropping coordinates in the config.yaml file.\n"
     ]
    },
    {
     "name": "stderr",
     "output_type": "stream",
     "text": [
      "100%|██████████| 201/201 [00:08<00:00, 23.09it/s]\n"
     ]
    },
    {
     "name": "stdout",
     "output_type": "stream",
     "text": [
      "Saving results in D:\\YuLab\\Work\\GPS\\Video\\Naveed\\GPS_13_ThreeFPHoldSRT\\20240517\\Top\\Clips...\n",
      "Saving csv poses!\n",
      "Starting to analyze %  D:/YuLab/Work/GPS/Video/Naveed/GPS_13_ThreeFPHoldSRT/20240518/Top/Clips/Naveed_20240518_HoldTrial010_TopView.avi\n",
      "Loading  D:/YuLab/Work/GPS/Video/Naveed/GPS_13_ThreeFPHoldSRT/20240518/Top/Clips/Naveed_20240518_HoldTrial010_TopView.avi\n",
      "Duration of video [s]:  8.0 , recorded with  25.0 fps!\n",
      "Overall # of frames:  200  found with (before cropping) frame dimensions:  1280 1331\n",
      "Starting to extract posture\n",
      "Cropping based on the x1 = 0 x2 = 1280 y1 = 0 y2 = 1024. You can adjust the cropping coordinates in the config.yaml file.\n"
     ]
    },
    {
     "name": "stderr",
     "output_type": "stream",
     "text": [
      "100%|██████████| 200/200 [00:08<00:00, 23.71it/s]\n"
     ]
    },
    {
     "name": "stdout",
     "output_type": "stream",
     "text": [
      "Saving results in D:\\YuLab\\Work\\GPS\\Video\\Naveed\\GPS_13_ThreeFPHoldSRT\\20240518\\Top\\Clips...\n",
      "Saving csv poses!\n",
      "Starting to analyze %  D:/YuLab/Work/GPS/Video/Naveed/GPS_13_ThreeFPHoldSRT/20240518/Top/Clips/Naveed_20240518_HoldTrial011_TopView.avi\n",
      "Loading  D:/YuLab/Work/GPS/Video/Naveed/GPS_13_ThreeFPHoldSRT/20240518/Top/Clips/Naveed_20240518_HoldTrial011_TopView.avi\n",
      "Duration of video [s]:  8.0 , recorded with  25.0 fps!\n",
      "Overall # of frames:  200  found with (before cropping) frame dimensions:  1280 1331\n",
      "Starting to extract posture\n",
      "Cropping based on the x1 = 0 x2 = 1280 y1 = 0 y2 = 1024. You can adjust the cropping coordinates in the config.yaml file.\n"
     ]
    },
    {
     "name": "stderr",
     "output_type": "stream",
     "text": [
      "100%|██████████| 200/200 [00:08<00:00, 23.72it/s]\n"
     ]
    },
    {
     "name": "stdout",
     "output_type": "stream",
     "text": [
      "Saving results in D:\\YuLab\\Work\\GPS\\Video\\Naveed\\GPS_13_ThreeFPHoldSRT\\20240518\\Top\\Clips...\n",
      "Saving csv poses!\n",
      "Starting to analyze %  D:/YuLab/Work/GPS/Video/Naveed/GPS_13_ThreeFPHoldSRT/20240518/Top/Clips/Naveed_20240518_HoldTrial012_TopView.avi\n",
      "Loading  D:/YuLab/Work/GPS/Video/Naveed/GPS_13_ThreeFPHoldSRT/20240518/Top/Clips/Naveed_20240518_HoldTrial012_TopView.avi\n",
      "Duration of video [s]:  8.04 , recorded with  25.0 fps!\n",
      "Overall # of frames:  201  found with (before cropping) frame dimensions:  1280 1331\n",
      "Starting to extract posture\n",
      "Cropping based on the x1 = 0 x2 = 1280 y1 = 0 y2 = 1024. You can adjust the cropping coordinates in the config.yaml file.\n"
     ]
    },
    {
     "name": "stderr",
     "output_type": "stream",
     "text": [
      "100%|██████████| 201/201 [00:08<00:00, 23.11it/s]\n"
     ]
    },
    {
     "name": "stdout",
     "output_type": "stream",
     "text": [
      "Saving results in D:\\YuLab\\Work\\GPS\\Video\\Naveed\\GPS_13_ThreeFPHoldSRT\\20240518\\Top\\Clips...\n",
      "Saving csv poses!\n",
      "Starting to analyze %  D:/YuLab/Work/GPS/Video/Naveed/GPS_13_ThreeFPHoldSRT/20240518/Top/Clips/Naveed_20240518_HoldTrial013_TopView.avi\n",
      "Loading  D:/YuLab/Work/GPS/Video/Naveed/GPS_13_ThreeFPHoldSRT/20240518/Top/Clips/Naveed_20240518_HoldTrial013_TopView.avi\n",
      "Duration of video [s]:  8.0 , recorded with  25.0 fps!\n",
      "Overall # of frames:  200  found with (before cropping) frame dimensions:  1280 1331\n",
      "Starting to extract posture\n",
      "Cropping based on the x1 = 0 x2 = 1280 y1 = 0 y2 = 1024. You can adjust the cropping coordinates in the config.yaml file.\n"
     ]
    },
    {
     "name": "stderr",
     "output_type": "stream",
     "text": [
      "100%|██████████| 200/200 [00:08<00:00, 23.70it/s]\n"
     ]
    },
    {
     "name": "stdout",
     "output_type": "stream",
     "text": [
      "Saving results in D:\\YuLab\\Work\\GPS\\Video\\Naveed\\GPS_13_ThreeFPHoldSRT\\20240518\\Top\\Clips...\n",
      "Saving csv poses!\n",
      "Starting to analyze %  D:/YuLab/Work/GPS/Video/Naveed/GPS_13_ThreeFPHoldSRT/20240518/Top/Clips/Naveed_20240518_HoldTrial014_TopView.avi\n",
      "Loading  D:/YuLab/Work/GPS/Video/Naveed/GPS_13_ThreeFPHoldSRT/20240518/Top/Clips/Naveed_20240518_HoldTrial014_TopView.avi\n",
      "Duration of video [s]:  8.04 , recorded with  25.0 fps!\n",
      "Overall # of frames:  201  found with (before cropping) frame dimensions:  1280 1331\n",
      "Starting to extract posture\n",
      "Cropping based on the x1 = 0 x2 = 1280 y1 = 0 y2 = 1024. You can adjust the cropping coordinates in the config.yaml file.\n"
     ]
    },
    {
     "name": "stderr",
     "output_type": "stream",
     "text": [
      "100%|██████████| 201/201 [00:08<00:00, 23.03it/s]\n"
     ]
    },
    {
     "name": "stdout",
     "output_type": "stream",
     "text": [
      "Saving results in D:\\YuLab\\Work\\GPS\\Video\\Naveed\\GPS_13_ThreeFPHoldSRT\\20240518\\Top\\Clips...\n",
      "Saving csv poses!\n",
      "Starting to analyze %  D:/YuLab/Work/GPS/Video/Naveed/GPS_13_ThreeFPHoldSRT/20240518/Top/Clips/Naveed_20240518_HoldTrial015_TopView.avi\n",
      "Loading  D:/YuLab/Work/GPS/Video/Naveed/GPS_13_ThreeFPHoldSRT/20240518/Top/Clips/Naveed_20240518_HoldTrial015_TopView.avi\n",
      "Duration of video [s]:  8.0 , recorded with  25.0 fps!\n",
      "Overall # of frames:  200  found with (before cropping) frame dimensions:  1280 1331\n",
      "Starting to extract posture\n",
      "Cropping based on the x1 = 0 x2 = 1280 y1 = 0 y2 = 1024. You can adjust the cropping coordinates in the config.yaml file.\n"
     ]
    },
    {
     "name": "stderr",
     "output_type": "stream",
     "text": [
      "100%|██████████| 200/200 [00:08<00:00, 23.65it/s]\n"
     ]
    },
    {
     "name": "stdout",
     "output_type": "stream",
     "text": [
      "Saving results in D:\\YuLab\\Work\\GPS\\Video\\Naveed\\GPS_13_ThreeFPHoldSRT\\20240518\\Top\\Clips...\n",
      "Saving csv poses!\n",
      "Starting to analyze %  D:/YuLab/Work/GPS/Video/Naveed/GPS_13_ThreeFPHoldSRT/20240518/Top/Clips/Naveed_20240518_HoldTrial016_TopView.avi\n",
      "Loading  D:/YuLab/Work/GPS/Video/Naveed/GPS_13_ThreeFPHoldSRT/20240518/Top/Clips/Naveed_20240518_HoldTrial016_TopView.avi\n",
      "Duration of video [s]:  8.0 , recorded with  25.0 fps!\n",
      "Overall # of frames:  200  found with (before cropping) frame dimensions:  1280 1331\n",
      "Starting to extract posture\n",
      "Cropping based on the x1 = 0 x2 = 1280 y1 = 0 y2 = 1024. You can adjust the cropping coordinates in the config.yaml file.\n"
     ]
    },
    {
     "name": "stderr",
     "output_type": "stream",
     "text": [
      "100%|██████████| 200/200 [00:08<00:00, 23.64it/s]\n"
     ]
    },
    {
     "name": "stdout",
     "output_type": "stream",
     "text": [
      "Saving results in D:\\YuLab\\Work\\GPS\\Video\\Naveed\\GPS_13_ThreeFPHoldSRT\\20240518\\Top\\Clips...\n",
      "Saving csv poses!\n",
      "Starting to analyze %  D:/YuLab/Work/GPS/Video/Naveed/GPS_13_ThreeFPHoldSRT/20240518/Top/Clips/Naveed_20240518_HoldTrial017_TopView.avi\n",
      "Loading  D:/YuLab/Work/GPS/Video/Naveed/GPS_13_ThreeFPHoldSRT/20240518/Top/Clips/Naveed_20240518_HoldTrial017_TopView.avi\n",
      "Duration of video [s]:  8.0 , recorded with  25.0 fps!\n",
      "Overall # of frames:  200  found with (before cropping) frame dimensions:  1280 1331\n",
      "Starting to extract posture\n",
      "Cropping based on the x1 = 0 x2 = 1280 y1 = 0 y2 = 1024. You can adjust the cropping coordinates in the config.yaml file.\n"
     ]
    },
    {
     "name": "stderr",
     "output_type": "stream",
     "text": [
      "100%|██████████| 200/200 [00:08<00:00, 23.70it/s]\n"
     ]
    },
    {
     "name": "stdout",
     "output_type": "stream",
     "text": [
      "Saving results in D:\\YuLab\\Work\\GPS\\Video\\Naveed\\GPS_13_ThreeFPHoldSRT\\20240518\\Top\\Clips...\n",
      "Saving csv poses!\n",
      "Starting to analyze %  D:/YuLab/Work/GPS/Video/Naveed/GPS_13_ThreeFPHoldSRT/20240518/Top/Clips/Naveed_20240518_HoldTrial018_TopView.avi\n",
      "Loading  D:/YuLab/Work/GPS/Video/Naveed/GPS_13_ThreeFPHoldSRT/20240518/Top/Clips/Naveed_20240518_HoldTrial018_TopView.avi\n",
      "Duration of video [s]:  8.04 , recorded with  25.0 fps!\n",
      "Overall # of frames:  201  found with (before cropping) frame dimensions:  1280 1331\n",
      "Starting to extract posture\n",
      "Cropping based on the x1 = 0 x2 = 1280 y1 = 0 y2 = 1024. You can adjust the cropping coordinates in the config.yaml file.\n"
     ]
    },
    {
     "name": "stderr",
     "output_type": "stream",
     "text": [
      "100%|██████████| 201/201 [00:08<00:00, 23.06it/s]\n"
     ]
    },
    {
     "name": "stdout",
     "output_type": "stream",
     "text": [
      "Saving results in D:\\YuLab\\Work\\GPS\\Video\\Naveed\\GPS_13_ThreeFPHoldSRT\\20240518\\Top\\Clips...\n",
      "Saving csv poses!\n",
      "Starting to analyze %  D:/YuLab/Work/GPS/Video/Naveed/GPS_13_ThreeFPHoldSRT/20240518/Top/Clips/Naveed_20240518_HoldTrial019_TopView.avi\n",
      "Loading  D:/YuLab/Work/GPS/Video/Naveed/GPS_13_ThreeFPHoldSRT/20240518/Top/Clips/Naveed_20240518_HoldTrial019_TopView.avi\n",
      "Duration of video [s]:  8.0 , recorded with  25.0 fps!\n",
      "Overall # of frames:  200  found with (before cropping) frame dimensions:  1280 1331\n",
      "Starting to extract posture\n",
      "Cropping based on the x1 = 0 x2 = 1280 y1 = 0 y2 = 1024. You can adjust the cropping coordinates in the config.yaml file.\n"
     ]
    },
    {
     "name": "stderr",
     "output_type": "stream",
     "text": [
      "100%|██████████| 200/200 [00:08<00:00, 23.62it/s]\n"
     ]
    },
    {
     "name": "stdout",
     "output_type": "stream",
     "text": [
      "Saving results in D:\\YuLab\\Work\\GPS\\Video\\Naveed\\GPS_13_ThreeFPHoldSRT\\20240518\\Top\\Clips...\n",
      "Saving csv poses!\n",
      "Starting to analyze %  D:/YuLab/Work/GPS/Video/Naveed/GPS_13_ThreeFPHoldSRT/20240518/Top/Clips/Naveed_20240518_HoldTrial020_TopView.avi\n",
      "Loading  D:/YuLab/Work/GPS/Video/Naveed/GPS_13_ThreeFPHoldSRT/20240518/Top/Clips/Naveed_20240518_HoldTrial020_TopView.avi\n",
      "Duration of video [s]:  8.0 , recorded with  25.0 fps!\n",
      "Overall # of frames:  200  found with (before cropping) frame dimensions:  1280 1331\n",
      "Starting to extract posture\n",
      "Cropping based on the x1 = 0 x2 = 1280 y1 = 0 y2 = 1024. You can adjust the cropping coordinates in the config.yaml file.\n"
     ]
    },
    {
     "name": "stderr",
     "output_type": "stream",
     "text": [
      "100%|██████████| 200/200 [00:08<00:00, 23.63it/s]\n"
     ]
    },
    {
     "name": "stdout",
     "output_type": "stream",
     "text": [
      "Saving results in D:\\YuLab\\Work\\GPS\\Video\\Naveed\\GPS_13_ThreeFPHoldSRT\\20240518\\Top\\Clips...\n",
      "Saving csv poses!\n",
      "Starting to analyze %  D:/YuLab/Work/GPS/Video/Naveed/GPS_13_ThreeFPHoldSRT/20240518/Top/Clips/Naveed_20240518_HoldTrial021_TopView.avi\n",
      "Loading  D:/YuLab/Work/GPS/Video/Naveed/GPS_13_ThreeFPHoldSRT/20240518/Top/Clips/Naveed_20240518_HoldTrial021_TopView.avi\n",
      "Duration of video [s]:  8.04 , recorded with  25.0 fps!\n",
      "Overall # of frames:  201  found with (before cropping) frame dimensions:  1280 1331\n",
      "Starting to extract posture\n",
      "Cropping based on the x1 = 0 x2 = 1280 y1 = 0 y2 = 1024. You can adjust the cropping coordinates in the config.yaml file.\n"
     ]
    },
    {
     "name": "stderr",
     "output_type": "stream",
     "text": [
      "100%|██████████| 201/201 [00:08<00:00, 23.02it/s]\n"
     ]
    },
    {
     "name": "stdout",
     "output_type": "stream",
     "text": [
      "Saving results in D:\\YuLab\\Work\\GPS\\Video\\Naveed\\GPS_13_ThreeFPHoldSRT\\20240518\\Top\\Clips...\n",
      "Saving csv poses!\n",
      "Starting to analyze %  D:/YuLab/Work/GPS/Video/Naveed/GPS_13_ThreeFPHoldSRT/20240518/Top/Clips/Naveed_20240518_HoldTrial022_TopView.avi\n",
      "Loading  D:/YuLab/Work/GPS/Video/Naveed/GPS_13_ThreeFPHoldSRT/20240518/Top/Clips/Naveed_20240518_HoldTrial022_TopView.avi\n",
      "Duration of video [s]:  8.0 , recorded with  25.0 fps!\n",
      "Overall # of frames:  200  found with (before cropping) frame dimensions:  1280 1331\n",
      "Starting to extract posture\n",
      "Cropping based on the x1 = 0 x2 = 1280 y1 = 0 y2 = 1024. You can adjust the cropping coordinates in the config.yaml file.\n"
     ]
    },
    {
     "name": "stderr",
     "output_type": "stream",
     "text": [
      "100%|██████████| 200/200 [00:08<00:00, 23.62it/s]\n"
     ]
    },
    {
     "name": "stdout",
     "output_type": "stream",
     "text": [
      "Saving results in D:\\YuLab\\Work\\GPS\\Video\\Naveed\\GPS_13_ThreeFPHoldSRT\\20240518\\Top\\Clips...\n",
      "Saving csv poses!\n",
      "Starting to analyze %  D:/YuLab/Work/GPS/Video/Naveed/GPS_13_ThreeFPHoldSRT/20240518/Top/Clips/Naveed_20240518_HoldTrial023_TopView.avi\n",
      "Loading  D:/YuLab/Work/GPS/Video/Naveed/GPS_13_ThreeFPHoldSRT/20240518/Top/Clips/Naveed_20240518_HoldTrial023_TopView.avi\n",
      "Duration of video [s]:  8.04 , recorded with  25.0 fps!\n",
      "Overall # of frames:  201  found with (before cropping) frame dimensions:  1280 1331\n",
      "Starting to extract posture\n",
      "Cropping based on the x1 = 0 x2 = 1280 y1 = 0 y2 = 1024. You can adjust the cropping coordinates in the config.yaml file.\n"
     ]
    },
    {
     "name": "stderr",
     "output_type": "stream",
     "text": [
      "100%|██████████| 201/201 [00:08<00:00, 22.96it/s]\n"
     ]
    },
    {
     "name": "stdout",
     "output_type": "stream",
     "text": [
      "Saving results in D:\\YuLab\\Work\\GPS\\Video\\Naveed\\GPS_13_ThreeFPHoldSRT\\20240518\\Top\\Clips...\n",
      "Saving csv poses!\n",
      "Starting to analyze %  D:/YuLab/Work/GPS/Video/Naveed/GPS_13_ThreeFPHoldSRT/20240518/Top/Clips/Naveed_20240518_HoldTrial024_TopView.avi\n",
      "Loading  D:/YuLab/Work/GPS/Video/Naveed/GPS_13_ThreeFPHoldSRT/20240518/Top/Clips/Naveed_20240518_HoldTrial024_TopView.avi\n",
      "Duration of video [s]:  8.04 , recorded with  25.0 fps!\n",
      "Overall # of frames:  201  found with (before cropping) frame dimensions:  1280 1331\n",
      "Starting to extract posture\n",
      "Cropping based on the x1 = 0 x2 = 1280 y1 = 0 y2 = 1024. You can adjust the cropping coordinates in the config.yaml file.\n"
     ]
    },
    {
     "name": "stderr",
     "output_type": "stream",
     "text": [
      "100%|██████████| 201/201 [00:08<00:00, 22.95it/s]\n"
     ]
    },
    {
     "name": "stdout",
     "output_type": "stream",
     "text": [
      "Saving results in D:\\YuLab\\Work\\GPS\\Video\\Naveed\\GPS_13_ThreeFPHoldSRT\\20240518\\Top\\Clips...\n",
      "Saving csv poses!\n",
      "Starting to analyze %  D:/YuLab/Work/GPS/Video/Naveed/GPS_13_ThreeFPHoldSRT/20240518/Top/Clips/Naveed_20240518_HoldTrial025_TopView.avi\n",
      "Loading  D:/YuLab/Work/GPS/Video/Naveed/GPS_13_ThreeFPHoldSRT/20240518/Top/Clips/Naveed_20240518_HoldTrial025_TopView.avi\n",
      "Duration of video [s]:  7.96 , recorded with  25.0 fps!\n",
      "Overall # of frames:  199  found with (before cropping) frame dimensions:  1280 1331\n",
      "Starting to extract posture\n",
      "Cropping based on the x1 = 0 x2 = 1280 y1 = 0 y2 = 1024. You can adjust the cropping coordinates in the config.yaml file.\n"
     ]
    },
    {
     "name": "stderr",
     "output_type": "stream",
     "text": [
      "100%|██████████| 199/199 [00:08<00:00, 23.64it/s]\n"
     ]
    },
    {
     "name": "stdout",
     "output_type": "stream",
     "text": [
      "Saving results in D:\\YuLab\\Work\\GPS\\Video\\Naveed\\GPS_13_ThreeFPHoldSRT\\20240518\\Top\\Clips...\n",
      "Saving csv poses!\n",
      "Starting to analyze %  D:/YuLab/Work/GPS/Video/Naveed/GPS_13_ThreeFPHoldSRT/20240518/Top/Clips/Naveed_20240518_HoldTrial026_TopView.avi\n",
      "Loading  D:/YuLab/Work/GPS/Video/Naveed/GPS_13_ThreeFPHoldSRT/20240518/Top/Clips/Naveed_20240518_HoldTrial026_TopView.avi\n",
      "Duration of video [s]:  8.04 , recorded with  25.0 fps!\n",
      "Overall # of frames:  201  found with (before cropping) frame dimensions:  1280 1331\n",
      "Starting to extract posture\n",
      "Cropping based on the x1 = 0 x2 = 1280 y1 = 0 y2 = 1024. You can adjust the cropping coordinates in the config.yaml file.\n"
     ]
    },
    {
     "name": "stderr",
     "output_type": "stream",
     "text": [
      "100%|██████████| 201/201 [00:08<00:00, 23.00it/s]\n"
     ]
    },
    {
     "name": "stdout",
     "output_type": "stream",
     "text": [
      "Saving results in D:\\YuLab\\Work\\GPS\\Video\\Naveed\\GPS_13_ThreeFPHoldSRT\\20240518\\Top\\Clips...\n",
      "Saving csv poses!\n",
      "Starting to analyze %  D:/YuLab/Work/GPS/Video/Naveed/GPS_13_ThreeFPHoldSRT/20240518/Top/Clips/Naveed_20240518_HoldTrial027_TopView.avi\n",
      "Loading  D:/YuLab/Work/GPS/Video/Naveed/GPS_13_ThreeFPHoldSRT/20240518/Top/Clips/Naveed_20240518_HoldTrial027_TopView.avi\n",
      "Duration of video [s]:  8.0 , recorded with  25.0 fps!\n",
      "Overall # of frames:  200  found with (before cropping) frame dimensions:  1280 1331\n",
      "Starting to extract posture\n",
      "Cropping based on the x1 = 0 x2 = 1280 y1 = 0 y2 = 1024. You can adjust the cropping coordinates in the config.yaml file.\n"
     ]
    },
    {
     "name": "stderr",
     "output_type": "stream",
     "text": [
      "100%|██████████| 200/200 [00:08<00:00, 23.65it/s]\n"
     ]
    },
    {
     "name": "stdout",
     "output_type": "stream",
     "text": [
      "Saving results in D:\\YuLab\\Work\\GPS\\Video\\Naveed\\GPS_13_ThreeFPHoldSRT\\20240518\\Top\\Clips...\n",
      "Saving csv poses!\n",
      "Starting to analyze %  D:/YuLab/Work/GPS/Video/Naveed/GPS_13_ThreeFPHoldSRT/20240518/Top/Clips/Naveed_20240518_HoldTrial028_TopView.avi\n",
      "Loading  D:/YuLab/Work/GPS/Video/Naveed/GPS_13_ThreeFPHoldSRT/20240518/Top/Clips/Naveed_20240518_HoldTrial028_TopView.avi\n",
      "Duration of video [s]:  8.0 , recorded with  25.0 fps!\n",
      "Overall # of frames:  200  found with (before cropping) frame dimensions:  1280 1331\n",
      "Starting to extract posture\n",
      "Cropping based on the x1 = 0 x2 = 1280 y1 = 0 y2 = 1024. You can adjust the cropping coordinates in the config.yaml file.\n"
     ]
    },
    {
     "name": "stderr",
     "output_type": "stream",
     "text": [
      "100%|██████████| 200/200 [00:08<00:00, 23.57it/s]\n"
     ]
    },
    {
     "name": "stdout",
     "output_type": "stream",
     "text": [
      "Saving results in D:\\YuLab\\Work\\GPS\\Video\\Naveed\\GPS_13_ThreeFPHoldSRT\\20240518\\Top\\Clips...\n",
      "Saving csv poses!\n",
      "Starting to analyze %  D:/YuLab/Work/GPS/Video/Naveed/GPS_13_ThreeFPHoldSRT/20240518/Top/Clips/Naveed_20240518_HoldTrial029_TopView.avi\n",
      "Loading  D:/YuLab/Work/GPS/Video/Naveed/GPS_13_ThreeFPHoldSRT/20240518/Top/Clips/Naveed_20240518_HoldTrial029_TopView.avi\n",
      "Duration of video [s]:  8.04 , recorded with  25.0 fps!\n",
      "Overall # of frames:  201  found with (before cropping) frame dimensions:  1280 1331\n",
      "Starting to extract posture\n",
      "Cropping based on the x1 = 0 x2 = 1280 y1 = 0 y2 = 1024. You can adjust the cropping coordinates in the config.yaml file.\n"
     ]
    },
    {
     "name": "stderr",
     "output_type": "stream",
     "text": [
      "100%|██████████| 201/201 [00:08<00:00, 23.01it/s]\n"
     ]
    },
    {
     "name": "stdout",
     "output_type": "stream",
     "text": [
      "Saving results in D:\\YuLab\\Work\\GPS\\Video\\Naveed\\GPS_13_ThreeFPHoldSRT\\20240518\\Top\\Clips...\n",
      "Saving csv poses!\n",
      "Starting to analyze %  D:/YuLab/Work/GPS/Video/Naveed/GPS_13_ThreeFPHoldSRT/20240518/Top/Clips/Naveed_20240518_HoldTrial030_TopView.avi\n",
      "Loading  D:/YuLab/Work/GPS/Video/Naveed/GPS_13_ThreeFPHoldSRT/20240518/Top/Clips/Naveed_20240518_HoldTrial030_TopView.avi\n",
      "Duration of video [s]:  8.0 , recorded with  25.0 fps!\n",
      "Overall # of frames:  200  found with (before cropping) frame dimensions:  1280 1331\n",
      "Starting to extract posture\n",
      "Cropping based on the x1 = 0 x2 = 1280 y1 = 0 y2 = 1024. You can adjust the cropping coordinates in the config.yaml file.\n"
     ]
    },
    {
     "name": "stderr",
     "output_type": "stream",
     "text": [
      "100%|██████████| 200/200 [00:08<00:00, 23.63it/s]\n"
     ]
    },
    {
     "name": "stdout",
     "output_type": "stream",
     "text": [
      "Saving results in D:\\YuLab\\Work\\GPS\\Video\\Naveed\\GPS_13_ThreeFPHoldSRT\\20240518\\Top\\Clips...\n",
      "Saving csv poses!\n",
      "Starting to analyze %  D:/YuLab/Work/GPS/Video/Naveed/GPS_13_ThreeFPHoldSRT/20240518/Top/Clips/Naveed_20240518_HoldTrial031_TopView.avi\n",
      "Loading  D:/YuLab/Work/GPS/Video/Naveed/GPS_13_ThreeFPHoldSRT/20240518/Top/Clips/Naveed_20240518_HoldTrial031_TopView.avi\n",
      "Duration of video [s]:  8.04 , recorded with  25.0 fps!\n",
      "Overall # of frames:  201  found with (before cropping) frame dimensions:  1280 1331\n",
      "Starting to extract posture\n",
      "Cropping based on the x1 = 0 x2 = 1280 y1 = 0 y2 = 1024. You can adjust the cropping coordinates in the config.yaml file.\n"
     ]
    },
    {
     "name": "stderr",
     "output_type": "stream",
     "text": [
      "100%|██████████| 201/201 [00:08<00:00, 23.14it/s]\n"
     ]
    },
    {
     "name": "stdout",
     "output_type": "stream",
     "text": [
      "Saving results in D:\\YuLab\\Work\\GPS\\Video\\Naveed\\GPS_13_ThreeFPHoldSRT\\20240518\\Top\\Clips...\n",
      "Saving csv poses!\n",
      "Starting to analyze %  D:/YuLab/Work/GPS/Video/Naveed/GPS_13_ThreeFPHoldSRT/20240518/Top/Clips/Naveed_20240518_HoldTrial032_TopView.avi\n",
      "Loading  D:/YuLab/Work/GPS/Video/Naveed/GPS_13_ThreeFPHoldSRT/20240518/Top/Clips/Naveed_20240518_HoldTrial032_TopView.avi\n",
      "Duration of video [s]:  8.0 , recorded with  25.0 fps!\n",
      "Overall # of frames:  200  found with (before cropping) frame dimensions:  1280 1331\n",
      "Starting to extract posture\n",
      "Cropping based on the x1 = 0 x2 = 1280 y1 = 0 y2 = 1024. You can adjust the cropping coordinates in the config.yaml file.\n"
     ]
    },
    {
     "name": "stderr",
     "output_type": "stream",
     "text": [
      "100%|██████████| 200/200 [00:08<00:00, 23.75it/s]\n"
     ]
    },
    {
     "name": "stdout",
     "output_type": "stream",
     "text": [
      "Saving results in D:\\YuLab\\Work\\GPS\\Video\\Naveed\\GPS_13_ThreeFPHoldSRT\\20240518\\Top\\Clips...\n",
      "Saving csv poses!\n",
      "Starting to analyze %  D:/YuLab/Work/GPS/Video/Naveed/GPS_13_ThreeFPHoldSRT/20240518/Top/Clips/Naveed_20240518_HoldTrial033_TopView.avi\n",
      "Loading  D:/YuLab/Work/GPS/Video/Naveed/GPS_13_ThreeFPHoldSRT/20240518/Top/Clips/Naveed_20240518_HoldTrial033_TopView.avi\n",
      "Duration of video [s]:  8.04 , recorded with  25.0 fps!\n",
      "Overall # of frames:  201  found with (before cropping) frame dimensions:  1280 1331\n",
      "Starting to extract posture\n",
      "Cropping based on the x1 = 0 x2 = 1280 y1 = 0 y2 = 1024. You can adjust the cropping coordinates in the config.yaml file.\n"
     ]
    },
    {
     "name": "stderr",
     "output_type": "stream",
     "text": [
      "100%|██████████| 201/201 [00:08<00:00, 23.10it/s]\n"
     ]
    },
    {
     "name": "stdout",
     "output_type": "stream",
     "text": [
      "Saving results in D:\\YuLab\\Work\\GPS\\Video\\Naveed\\GPS_13_ThreeFPHoldSRT\\20240518\\Top\\Clips...\n",
      "Saving csv poses!\n",
      "Starting to analyze %  D:/YuLab/Work/GPS/Video/Naveed/GPS_13_ThreeFPHoldSRT/20240518/Top/Clips/Naveed_20240518_HoldTrial034_TopView.avi\n",
      "Loading  D:/YuLab/Work/GPS/Video/Naveed/GPS_13_ThreeFPHoldSRT/20240518/Top/Clips/Naveed_20240518_HoldTrial034_TopView.avi\n",
      "Duration of video [s]:  8.0 , recorded with  25.0 fps!\n",
      "Overall # of frames:  200  found with (before cropping) frame dimensions:  1280 1331\n",
      "Starting to extract posture\n",
      "Cropping based on the x1 = 0 x2 = 1280 y1 = 0 y2 = 1024. You can adjust the cropping coordinates in the config.yaml file.\n"
     ]
    },
    {
     "name": "stderr",
     "output_type": "stream",
     "text": [
      "100%|██████████| 200/200 [00:08<00:00, 23.69it/s]\n"
     ]
    },
    {
     "name": "stdout",
     "output_type": "stream",
     "text": [
      "Saving results in D:\\YuLab\\Work\\GPS\\Video\\Naveed\\GPS_13_ThreeFPHoldSRT\\20240518\\Top\\Clips...\n",
      "Saving csv poses!\n",
      "Starting to analyze %  D:/YuLab/Work/GPS/Video/Naveed/GPS_13_ThreeFPHoldSRT/20240518/Top/Clips/Naveed_20240518_HoldTrial035_TopView.avi\n",
      "Loading  D:/YuLab/Work/GPS/Video/Naveed/GPS_13_ThreeFPHoldSRT/20240518/Top/Clips/Naveed_20240518_HoldTrial035_TopView.avi\n",
      "Duration of video [s]:  8.04 , recorded with  25.0 fps!\n",
      "Overall # of frames:  201  found with (before cropping) frame dimensions:  1280 1331\n",
      "Starting to extract posture\n",
      "Cropping based on the x1 = 0 x2 = 1280 y1 = 0 y2 = 1024. You can adjust the cropping coordinates in the config.yaml file.\n"
     ]
    },
    {
     "name": "stderr",
     "output_type": "stream",
     "text": [
      "100%|██████████| 201/201 [00:08<00:00, 22.97it/s]\n"
     ]
    },
    {
     "name": "stdout",
     "output_type": "stream",
     "text": [
      "Saving results in D:\\YuLab\\Work\\GPS\\Video\\Naveed\\GPS_13_ThreeFPHoldSRT\\20240518\\Top\\Clips...\n",
      "Saving csv poses!\n",
      "Starting to analyze %  D:/YuLab/Work/GPS/Video/Naveed/GPS_13_ThreeFPHoldSRT/20240518/Top/Clips/Naveed_20240518_HoldTrial036_TopView.avi\n",
      "Loading  D:/YuLab/Work/GPS/Video/Naveed/GPS_13_ThreeFPHoldSRT/20240518/Top/Clips/Naveed_20240518_HoldTrial036_TopView.avi\n",
      "Duration of video [s]:  7.96 , recorded with  25.0 fps!\n",
      "Overall # of frames:  199  found with (before cropping) frame dimensions:  1280 1331\n",
      "Starting to extract posture\n",
      "Cropping based on the x1 = 0 x2 = 1280 y1 = 0 y2 = 1024. You can adjust the cropping coordinates in the config.yaml file.\n"
     ]
    },
    {
     "name": "stderr",
     "output_type": "stream",
     "text": [
      "100%|██████████| 199/199 [00:08<00:00, 23.50it/s]\n"
     ]
    },
    {
     "name": "stdout",
     "output_type": "stream",
     "text": [
      "Saving results in D:\\YuLab\\Work\\GPS\\Video\\Naveed\\GPS_13_ThreeFPHoldSRT\\20240518\\Top\\Clips...\n",
      "Saving csv poses!\n",
      "Starting to analyze %  D:/YuLab/Work/GPS/Video/Naveed/GPS_13_ThreeFPHoldSRT/20240518/Top/Clips/Naveed_20240518_HoldTrial037_TopView.avi\n",
      "Loading  D:/YuLab/Work/GPS/Video/Naveed/GPS_13_ThreeFPHoldSRT/20240518/Top/Clips/Naveed_20240518_HoldTrial037_TopView.avi\n",
      "Duration of video [s]:  8.04 , recorded with  25.0 fps!\n",
      "Overall # of frames:  201  found with (before cropping) frame dimensions:  1280 1331\n",
      "Starting to extract posture\n",
      "Cropping based on the x1 = 0 x2 = 1280 y1 = 0 y2 = 1024. You can adjust the cropping coordinates in the config.yaml file.\n"
     ]
    },
    {
     "name": "stderr",
     "output_type": "stream",
     "text": [
      "100%|██████████| 201/201 [00:08<00:00, 22.97it/s]\n"
     ]
    },
    {
     "name": "stdout",
     "output_type": "stream",
     "text": [
      "Saving results in D:\\YuLab\\Work\\GPS\\Video\\Naveed\\GPS_13_ThreeFPHoldSRT\\20240518\\Top\\Clips...\n",
      "Saving csv poses!\n",
      "Starting to analyze %  D:/YuLab/Work/GPS/Video/Naveed/GPS_13_ThreeFPHoldSRT/20240518/Top/Clips/Naveed_20240518_HoldTrial038_TopView.avi\n",
      "Loading  D:/YuLab/Work/GPS/Video/Naveed/GPS_13_ThreeFPHoldSRT/20240518/Top/Clips/Naveed_20240518_HoldTrial038_TopView.avi\n",
      "Duration of video [s]:  8.0 , recorded with  25.0 fps!\n",
      "Overall # of frames:  200  found with (before cropping) frame dimensions:  1280 1331\n",
      "Starting to extract posture\n",
      "Cropping based on the x1 = 0 x2 = 1280 y1 = 0 y2 = 1024. You can adjust the cropping coordinates in the config.yaml file.\n"
     ]
    },
    {
     "name": "stderr",
     "output_type": "stream",
     "text": [
      "100%|██████████| 200/200 [00:08<00:00, 23.60it/s]\n"
     ]
    },
    {
     "name": "stdout",
     "output_type": "stream",
     "text": [
      "Saving results in D:\\YuLab\\Work\\GPS\\Video\\Naveed\\GPS_13_ThreeFPHoldSRT\\20240518\\Top\\Clips...\n",
      "Saving csv poses!\n",
      "Starting to analyze %  D:/YuLab/Work/GPS/Video/Naveed/GPS_13_ThreeFPHoldSRT/20240518/Top/Clips/Naveed_20240518_HoldTrial039_TopView.avi\n",
      "Loading  D:/YuLab/Work/GPS/Video/Naveed/GPS_13_ThreeFPHoldSRT/20240518/Top/Clips/Naveed_20240518_HoldTrial039_TopView.avi\n",
      "Duration of video [s]:  8.0 , recorded with  25.0 fps!\n",
      "Overall # of frames:  200  found with (before cropping) frame dimensions:  1280 1331\n",
      "Starting to extract posture\n",
      "Cropping based on the x1 = 0 x2 = 1280 y1 = 0 y2 = 1024. You can adjust the cropping coordinates in the config.yaml file.\n"
     ]
    },
    {
     "name": "stderr",
     "output_type": "stream",
     "text": [
      "100%|██████████| 200/200 [00:08<00:00, 23.67it/s]\n"
     ]
    },
    {
     "name": "stdout",
     "output_type": "stream",
     "text": [
      "Saving results in D:\\YuLab\\Work\\GPS\\Video\\Naveed\\GPS_13_ThreeFPHoldSRT\\20240518\\Top\\Clips...\n",
      "Saving csv poses!\n",
      "Starting to analyze %  D:/YuLab/Work/GPS/Video/Naveed/GPS_13_ThreeFPHoldSRT/20240518/Top/Clips/Naveed_20240518_HoldTrial040_TopView.avi\n",
      "Loading  D:/YuLab/Work/GPS/Video/Naveed/GPS_13_ThreeFPHoldSRT/20240518/Top/Clips/Naveed_20240518_HoldTrial040_TopView.avi\n",
      "Duration of video [s]:  8.0 , recorded with  25.0 fps!\n",
      "Overall # of frames:  200  found with (before cropping) frame dimensions:  1280 1331\n",
      "Starting to extract posture\n",
      "Cropping based on the x1 = 0 x2 = 1280 y1 = 0 y2 = 1024. You can adjust the cropping coordinates in the config.yaml file.\n"
     ]
    },
    {
     "name": "stderr",
     "output_type": "stream",
     "text": [
      "100%|██████████| 200/200 [00:08<00:00, 23.68it/s]\n"
     ]
    },
    {
     "name": "stdout",
     "output_type": "stream",
     "text": [
      "Saving results in D:\\YuLab\\Work\\GPS\\Video\\Naveed\\GPS_13_ThreeFPHoldSRT\\20240518\\Top\\Clips...\n",
      "Saving csv poses!\n",
      "Starting to analyze %  D:/YuLab/Work/GPS/Video/Naveed/GPS_13_ThreeFPHoldSRT/20240518/Top/Clips/Naveed_20240518_HoldTrial041_TopView.avi\n",
      "Loading  D:/YuLab/Work/GPS/Video/Naveed/GPS_13_ThreeFPHoldSRT/20240518/Top/Clips/Naveed_20240518_HoldTrial041_TopView.avi\n",
      "Duration of video [s]:  8.04 , recorded with  25.0 fps!\n",
      "Overall # of frames:  201  found with (before cropping) frame dimensions:  1280 1331\n",
      "Starting to extract posture\n",
      "Cropping based on the x1 = 0 x2 = 1280 y1 = 0 y2 = 1024. You can adjust the cropping coordinates in the config.yaml file.\n"
     ]
    },
    {
     "name": "stderr",
     "output_type": "stream",
     "text": [
      "100%|██████████| 201/201 [00:08<00:00, 23.06it/s]\n"
     ]
    },
    {
     "name": "stdout",
     "output_type": "stream",
     "text": [
      "Saving results in D:\\YuLab\\Work\\GPS\\Video\\Naveed\\GPS_13_ThreeFPHoldSRT\\20240518\\Top\\Clips...\n",
      "Saving csv poses!\n",
      "Starting to analyze %  D:/YuLab/Work/GPS/Video/Naveed/GPS_13_ThreeFPHoldSRT/20240518/Top/Clips/Naveed_20240518_HoldTrial042_TopView.avi\n",
      "Loading  D:/YuLab/Work/GPS/Video/Naveed/GPS_13_ThreeFPHoldSRT/20240518/Top/Clips/Naveed_20240518_HoldTrial042_TopView.avi\n",
      "Duration of video [s]:  8.0 , recorded with  25.0 fps!\n",
      "Overall # of frames:  200  found with (before cropping) frame dimensions:  1280 1331\n",
      "Starting to extract posture\n",
      "Cropping based on the x1 = 0 x2 = 1280 y1 = 0 y2 = 1024. You can adjust the cropping coordinates in the config.yaml file.\n"
     ]
    },
    {
     "name": "stderr",
     "output_type": "stream",
     "text": [
      "100%|██████████| 200/200 [00:08<00:00, 23.65it/s]\n"
     ]
    },
    {
     "name": "stdout",
     "output_type": "stream",
     "text": [
      "Saving results in D:\\YuLab\\Work\\GPS\\Video\\Naveed\\GPS_13_ThreeFPHoldSRT\\20240518\\Top\\Clips...\n",
      "Saving csv poses!\n",
      "Starting to analyze %  D:/YuLab/Work/GPS/Video/Naveed/GPS_13_ThreeFPHoldSRT/20240518/Top/Clips/Naveed_20240518_HoldTrial043_TopView.avi\n",
      "Loading  D:/YuLab/Work/GPS/Video/Naveed/GPS_13_ThreeFPHoldSRT/20240518/Top/Clips/Naveed_20240518_HoldTrial043_TopView.avi\n",
      "Duration of video [s]:  8.0 , recorded with  25.0 fps!\n",
      "Overall # of frames:  200  found with (before cropping) frame dimensions:  1280 1331\n",
      "Starting to extract posture\n",
      "Cropping based on the x1 = 0 x2 = 1280 y1 = 0 y2 = 1024. You can adjust the cropping coordinates in the config.yaml file.\n"
     ]
    },
    {
     "name": "stderr",
     "output_type": "stream",
     "text": [
      "100%|██████████| 200/200 [00:08<00:00, 23.67it/s]\n"
     ]
    },
    {
     "name": "stdout",
     "output_type": "stream",
     "text": [
      "Saving results in D:\\YuLab\\Work\\GPS\\Video\\Naveed\\GPS_13_ThreeFPHoldSRT\\20240518\\Top\\Clips...\n",
      "Saving csv poses!\n",
      "Starting to analyze %  D:/YuLab/Work/GPS/Video/Naveed/GPS_13_ThreeFPHoldSRT/20240518/Top/Clips/Naveed_20240518_HoldTrial044_TopView.avi\n",
      "Loading  D:/YuLab/Work/GPS/Video/Naveed/GPS_13_ThreeFPHoldSRT/20240518/Top/Clips/Naveed_20240518_HoldTrial044_TopView.avi\n",
      "Duration of video [s]:  8.04 , recorded with  25.0 fps!\n",
      "Overall # of frames:  201  found with (before cropping) frame dimensions:  1280 1331\n",
      "Starting to extract posture\n",
      "Cropping based on the x1 = 0 x2 = 1280 y1 = 0 y2 = 1024. You can adjust the cropping coordinates in the config.yaml file.\n"
     ]
    },
    {
     "name": "stderr",
     "output_type": "stream",
     "text": [
      "100%|██████████| 201/201 [00:08<00:00, 22.99it/s]\n"
     ]
    },
    {
     "name": "stdout",
     "output_type": "stream",
     "text": [
      "Saving results in D:\\YuLab\\Work\\GPS\\Video\\Naveed\\GPS_13_ThreeFPHoldSRT\\20240518\\Top\\Clips...\n",
      "Saving csv poses!\n",
      "Starting to analyze %  D:/YuLab/Work/GPS/Video/Naveed/GPS_13_ThreeFPHoldSRT/20240518/Top/Clips/Naveed_20240518_HoldTrial045_TopView.avi\n",
      "Loading  D:/YuLab/Work/GPS/Video/Naveed/GPS_13_ThreeFPHoldSRT/20240518/Top/Clips/Naveed_20240518_HoldTrial045_TopView.avi\n",
      "Duration of video [s]:  8.0 , recorded with  25.0 fps!\n",
      "Overall # of frames:  200  found with (before cropping) frame dimensions:  1280 1331\n",
      "Starting to extract posture\n",
      "Cropping based on the x1 = 0 x2 = 1280 y1 = 0 y2 = 1024. You can adjust the cropping coordinates in the config.yaml file.\n"
     ]
    },
    {
     "name": "stderr",
     "output_type": "stream",
     "text": [
      "100%|██████████| 200/200 [00:08<00:00, 23.60it/s]\n"
     ]
    },
    {
     "name": "stdout",
     "output_type": "stream",
     "text": [
      "Saving results in D:\\YuLab\\Work\\GPS\\Video\\Naveed\\GPS_13_ThreeFPHoldSRT\\20240518\\Top\\Clips...\n",
      "Saving csv poses!\n",
      "Starting to analyze %  D:/YuLab/Work/GPS/Video/Naveed/GPS_13_ThreeFPHoldSRT/20240518/Top/Clips/Naveed_20240518_HoldTrial046_TopView.avi\n",
      "Loading  D:/YuLab/Work/GPS/Video/Naveed/GPS_13_ThreeFPHoldSRT/20240518/Top/Clips/Naveed_20240518_HoldTrial046_TopView.avi\n",
      "Duration of video [s]:  8.04 , recorded with  25.0 fps!\n",
      "Overall # of frames:  201  found with (before cropping) frame dimensions:  1280 1331\n",
      "Starting to extract posture\n",
      "Cropping based on the x1 = 0 x2 = 1280 y1 = 0 y2 = 1024. You can adjust the cropping coordinates in the config.yaml file.\n"
     ]
    },
    {
     "name": "stderr",
     "output_type": "stream",
     "text": [
      "100%|██████████| 201/201 [00:08<00:00, 23.02it/s]\n"
     ]
    },
    {
     "name": "stdout",
     "output_type": "stream",
     "text": [
      "Saving results in D:\\YuLab\\Work\\GPS\\Video\\Naveed\\GPS_13_ThreeFPHoldSRT\\20240518\\Top\\Clips...\n",
      "Saving csv poses!\n",
      "Starting to analyze %  D:/YuLab/Work/GPS/Video/Naveed/GPS_13_ThreeFPHoldSRT/20240518/Top/Clips/Naveed_20240518_HoldTrial047_TopView.avi\n",
      "Loading  D:/YuLab/Work/GPS/Video/Naveed/GPS_13_ThreeFPHoldSRT/20240518/Top/Clips/Naveed_20240518_HoldTrial047_TopView.avi\n",
      "Duration of video [s]:  8.04 , recorded with  25.0 fps!\n",
      "Overall # of frames:  201  found with (before cropping) frame dimensions:  1280 1331\n",
      "Starting to extract posture\n",
      "Cropping based on the x1 = 0 x2 = 1280 y1 = 0 y2 = 1024. You can adjust the cropping coordinates in the config.yaml file.\n"
     ]
    },
    {
     "name": "stderr",
     "output_type": "stream",
     "text": [
      "100%|██████████| 201/201 [00:08<00:00, 23.01it/s]\n"
     ]
    },
    {
     "name": "stdout",
     "output_type": "stream",
     "text": [
      "Saving results in D:\\YuLab\\Work\\GPS\\Video\\Naveed\\GPS_13_ThreeFPHoldSRT\\20240518\\Top\\Clips...\n",
      "Saving csv poses!\n",
      "Starting to analyze %  D:/YuLab/Work/GPS/Video/Naveed/GPS_13_ThreeFPHoldSRT/20240518/Top/Clips/Naveed_20240518_HoldTrial048_TopView.avi\n",
      "Loading  D:/YuLab/Work/GPS/Video/Naveed/GPS_13_ThreeFPHoldSRT/20240518/Top/Clips/Naveed_20240518_HoldTrial048_TopView.avi\n",
      "Duration of video [s]:  8.0 , recorded with  25.0 fps!\n",
      "Overall # of frames:  200  found with (before cropping) frame dimensions:  1280 1331\n",
      "Starting to extract posture\n",
      "Cropping based on the x1 = 0 x2 = 1280 y1 = 0 y2 = 1024. You can adjust the cropping coordinates in the config.yaml file.\n"
     ]
    },
    {
     "name": "stderr",
     "output_type": "stream",
     "text": [
      "100%|██████████| 200/200 [00:08<00:00, 23.66it/s]\n"
     ]
    },
    {
     "name": "stdout",
     "output_type": "stream",
     "text": [
      "Saving results in D:\\YuLab\\Work\\GPS\\Video\\Naveed\\GPS_13_ThreeFPHoldSRT\\20240518\\Top\\Clips...\n",
      "Saving csv poses!\n",
      "Starting to analyze %  D:/YuLab/Work/GPS/Video/Naveed/GPS_13_ThreeFPHoldSRT/20240518/Top/Clips/Naveed_20240518_HoldTrial049_TopView.avi\n",
      "Loading  D:/YuLab/Work/GPS/Video/Naveed/GPS_13_ThreeFPHoldSRT/20240518/Top/Clips/Naveed_20240518_HoldTrial049_TopView.avi\n",
      "Duration of video [s]:  8.04 , recorded with  25.0 fps!\n",
      "Overall # of frames:  201  found with (before cropping) frame dimensions:  1280 1331\n",
      "Starting to extract posture\n",
      "Cropping based on the x1 = 0 x2 = 1280 y1 = 0 y2 = 1024. You can adjust the cropping coordinates in the config.yaml file.\n"
     ]
    },
    {
     "name": "stderr",
     "output_type": "stream",
     "text": [
      "100%|██████████| 201/201 [00:08<00:00, 22.96it/s]\n"
     ]
    },
    {
     "name": "stdout",
     "output_type": "stream",
     "text": [
      "Saving results in D:\\YuLab\\Work\\GPS\\Video\\Naveed\\GPS_13_ThreeFPHoldSRT\\20240518\\Top\\Clips...\n",
      "Saving csv poses!\n",
      "Starting to analyze %  D:/YuLab/Work/GPS/Video/Naveed/GPS_13_ThreeFPHoldSRT/20240518/Top/Clips/Naveed_20240518_HoldTrial050_TopView.avi\n",
      "Loading  D:/YuLab/Work/GPS/Video/Naveed/GPS_13_ThreeFPHoldSRT/20240518/Top/Clips/Naveed_20240518_HoldTrial050_TopView.avi\n",
      "Duration of video [s]:  8.0 , recorded with  25.0 fps!\n",
      "Overall # of frames:  200  found with (before cropping) frame dimensions:  1280 1331\n",
      "Starting to extract posture\n",
      "Cropping based on the x1 = 0 x2 = 1280 y1 = 0 y2 = 1024. You can adjust the cropping coordinates in the config.yaml file.\n"
     ]
    },
    {
     "name": "stderr",
     "output_type": "stream",
     "text": [
      "100%|██████████| 200/200 [00:08<00:00, 23.67it/s]\n"
     ]
    },
    {
     "name": "stdout",
     "output_type": "stream",
     "text": [
      "Saving results in D:\\YuLab\\Work\\GPS\\Video\\Naveed\\GPS_13_ThreeFPHoldSRT\\20240518\\Top\\Clips...\n",
      "Saving csv poses!\n",
      "Starting to analyze %  D:/YuLab/Work/GPS/Video/Naveed/GPS_13_ThreeFPHoldSRT/20240518/Top/Clips/Naveed_20240518_HoldTrial051_TopView.avi\n",
      "Loading  D:/YuLab/Work/GPS/Video/Naveed/GPS_13_ThreeFPHoldSRT/20240518/Top/Clips/Naveed_20240518_HoldTrial051_TopView.avi\n",
      "Duration of video [s]:  8.04 , recorded with  25.0 fps!\n",
      "Overall # of frames:  201  found with (before cropping) frame dimensions:  1280 1331\n",
      "Starting to extract posture\n",
      "Cropping based on the x1 = 0 x2 = 1280 y1 = 0 y2 = 1024. You can adjust the cropping coordinates in the config.yaml file.\n"
     ]
    },
    {
     "name": "stderr",
     "output_type": "stream",
     "text": [
      "100%|██████████| 201/201 [00:08<00:00, 23.03it/s]\n"
     ]
    },
    {
     "name": "stdout",
     "output_type": "stream",
     "text": [
      "Saving results in D:\\YuLab\\Work\\GPS\\Video\\Naveed\\GPS_13_ThreeFPHoldSRT\\20240518\\Top\\Clips...\n",
      "Saving csv poses!\n",
      "Starting to analyze %  D:/YuLab/Work/GPS/Video/Naveed/GPS_13_ThreeFPHoldSRT/20240518/Top/Clips/Naveed_20240518_HoldTrial052_TopView.avi\n",
      "Loading  D:/YuLab/Work/GPS/Video/Naveed/GPS_13_ThreeFPHoldSRT/20240518/Top/Clips/Naveed_20240518_HoldTrial052_TopView.avi\n",
      "Duration of video [s]:  8.0 , recorded with  25.0 fps!\n",
      "Overall # of frames:  200  found with (before cropping) frame dimensions:  1280 1331\n",
      "Starting to extract posture\n",
      "Cropping based on the x1 = 0 x2 = 1280 y1 = 0 y2 = 1024. You can adjust the cropping coordinates in the config.yaml file.\n"
     ]
    },
    {
     "name": "stderr",
     "output_type": "stream",
     "text": [
      "100%|██████████| 200/200 [00:08<00:00, 23.78it/s]\n"
     ]
    },
    {
     "name": "stdout",
     "output_type": "stream",
     "text": [
      "Saving results in D:\\YuLab\\Work\\GPS\\Video\\Naveed\\GPS_13_ThreeFPHoldSRT\\20240518\\Top\\Clips...\n",
      "Saving csv poses!\n",
      "Starting to analyze %  D:/YuLab/Work/GPS/Video/Naveed/GPS_13_ThreeFPHoldSRT/20240518/Top/Clips/Naveed_20240518_HoldTrial053_TopView.avi\n",
      "Loading  D:/YuLab/Work/GPS/Video/Naveed/GPS_13_ThreeFPHoldSRT/20240518/Top/Clips/Naveed_20240518_HoldTrial053_TopView.avi\n",
      "Duration of video [s]:  8.04 , recorded with  25.0 fps!\n",
      "Overall # of frames:  201  found with (before cropping) frame dimensions:  1280 1331\n",
      "Starting to extract posture\n",
      "Cropping based on the x1 = 0 x2 = 1280 y1 = 0 y2 = 1024. You can adjust the cropping coordinates in the config.yaml file.\n"
     ]
    },
    {
     "name": "stderr",
     "output_type": "stream",
     "text": [
      "100%|██████████| 201/201 [00:08<00:00, 23.10it/s]\n"
     ]
    },
    {
     "name": "stdout",
     "output_type": "stream",
     "text": [
      "Saving results in D:\\YuLab\\Work\\GPS\\Video\\Naveed\\GPS_13_ThreeFPHoldSRT\\20240518\\Top\\Clips...\n",
      "Saving csv poses!\n",
      "Starting to analyze %  D:/YuLab/Work/GPS/Video/Naveed/GPS_13_ThreeFPHoldSRT/20240518/Top/Clips/Naveed_20240518_HoldTrial054_TopView.avi\n",
      "Loading  D:/YuLab/Work/GPS/Video/Naveed/GPS_13_ThreeFPHoldSRT/20240518/Top/Clips/Naveed_20240518_HoldTrial054_TopView.avi\n",
      "Duration of video [s]:  8.0 , recorded with  25.0 fps!\n",
      "Overall # of frames:  200  found with (before cropping) frame dimensions:  1280 1331\n",
      "Starting to extract posture\n",
      "Cropping based on the x1 = 0 x2 = 1280 y1 = 0 y2 = 1024. You can adjust the cropping coordinates in the config.yaml file.\n"
     ]
    },
    {
     "name": "stderr",
     "output_type": "stream",
     "text": [
      "100%|██████████| 200/200 [00:08<00:00, 23.71it/s]\n"
     ]
    },
    {
     "name": "stdout",
     "output_type": "stream",
     "text": [
      "Saving results in D:\\YuLab\\Work\\GPS\\Video\\Naveed\\GPS_13_ThreeFPHoldSRT\\20240518\\Top\\Clips...\n",
      "Saving csv poses!\n",
      "Starting to analyze %  D:/YuLab/Work/GPS/Video/Naveed/GPS_13_ThreeFPHoldSRT/20240518/Top/Clips/Naveed_20240518_HoldTrial055_TopView.avi\n",
      "Loading  D:/YuLab/Work/GPS/Video/Naveed/GPS_13_ThreeFPHoldSRT/20240518/Top/Clips/Naveed_20240518_HoldTrial055_TopView.avi\n",
      "Duration of video [s]:  8.0 , recorded with  25.0 fps!\n",
      "Overall # of frames:  200  found with (before cropping) frame dimensions:  1280 1331\n",
      "Starting to extract posture\n",
      "Cropping based on the x1 = 0 x2 = 1280 y1 = 0 y2 = 1024. You can adjust the cropping coordinates in the config.yaml file.\n"
     ]
    },
    {
     "name": "stderr",
     "output_type": "stream",
     "text": [
      "100%|██████████| 200/200 [00:08<00:00, 23.69it/s]\n"
     ]
    },
    {
     "name": "stdout",
     "output_type": "stream",
     "text": [
      "Saving results in D:\\YuLab\\Work\\GPS\\Video\\Naveed\\GPS_13_ThreeFPHoldSRT\\20240518\\Top\\Clips...\n",
      "Saving csv poses!\n",
      "Starting to analyze %  D:/YuLab/Work/GPS/Video/Naveed/GPS_13_ThreeFPHoldSRT/20240518/Top/Clips/Naveed_20240518_HoldTrial056_TopView.avi\n",
      "Loading  D:/YuLab/Work/GPS/Video/Naveed/GPS_13_ThreeFPHoldSRT/20240518/Top/Clips/Naveed_20240518_HoldTrial056_TopView.avi\n",
      "Duration of video [s]:  8.04 , recorded with  25.0 fps!\n",
      "Overall # of frames:  201  found with (before cropping) frame dimensions:  1280 1331\n",
      "Starting to extract posture\n",
      "Cropping based on the x1 = 0 x2 = 1280 y1 = 0 y2 = 1024. You can adjust the cropping coordinates in the config.yaml file.\n"
     ]
    },
    {
     "name": "stderr",
     "output_type": "stream",
     "text": [
      "100%|██████████| 201/201 [00:08<00:00, 22.96it/s]\n"
     ]
    },
    {
     "name": "stdout",
     "output_type": "stream",
     "text": [
      "Saving results in D:\\YuLab\\Work\\GPS\\Video\\Naveed\\GPS_13_ThreeFPHoldSRT\\20240518\\Top\\Clips...\n",
      "Saving csv poses!\n",
      "Starting to analyze %  D:/YuLab/Work/GPS/Video/Naveed/GPS_13_ThreeFPHoldSRT/20240518/Top/Clips/Naveed_20240518_HoldTrial057_TopView.avi\n",
      "Loading  D:/YuLab/Work/GPS/Video/Naveed/GPS_13_ThreeFPHoldSRT/20240518/Top/Clips/Naveed_20240518_HoldTrial057_TopView.avi\n",
      "Duration of video [s]:  8.0 , recorded with  25.0 fps!\n",
      "Overall # of frames:  200  found with (before cropping) frame dimensions:  1280 1331\n",
      "Starting to extract posture\n",
      "Cropping based on the x1 = 0 x2 = 1280 y1 = 0 y2 = 1024. You can adjust the cropping coordinates in the config.yaml file.\n"
     ]
    },
    {
     "name": "stderr",
     "output_type": "stream",
     "text": [
      "100%|██████████| 200/200 [00:08<00:00, 23.66it/s]\n"
     ]
    },
    {
     "name": "stdout",
     "output_type": "stream",
     "text": [
      "Saving results in D:\\YuLab\\Work\\GPS\\Video\\Naveed\\GPS_13_ThreeFPHoldSRT\\20240518\\Top\\Clips...\n",
      "Saving csv poses!\n",
      "Starting to analyze %  D:/YuLab/Work/GPS/Video/Naveed/GPS_13_ThreeFPHoldSRT/20240518/Top/Clips/Naveed_20240518_HoldTrial058_TopView.avi\n",
      "Loading  D:/YuLab/Work/GPS/Video/Naveed/GPS_13_ThreeFPHoldSRT/20240518/Top/Clips/Naveed_20240518_HoldTrial058_TopView.avi\n",
      "Duration of video [s]:  8.04 , recorded with  25.0 fps!\n",
      "Overall # of frames:  201  found with (before cropping) frame dimensions:  1280 1331\n",
      "Starting to extract posture\n",
      "Cropping based on the x1 = 0 x2 = 1280 y1 = 0 y2 = 1024. You can adjust the cropping coordinates in the config.yaml file.\n"
     ]
    },
    {
     "name": "stderr",
     "output_type": "stream",
     "text": [
      "100%|██████████| 201/201 [00:08<00:00, 22.94it/s]\n"
     ]
    },
    {
     "name": "stdout",
     "output_type": "stream",
     "text": [
      "Saving results in D:\\YuLab\\Work\\GPS\\Video\\Naveed\\GPS_13_ThreeFPHoldSRT\\20240518\\Top\\Clips...\n",
      "Saving csv poses!\n",
      "Starting to analyze %  D:/YuLab/Work/GPS/Video/Naveed/GPS_13_ThreeFPHoldSRT/20240518/Top/Clips/Naveed_20240518_HoldTrial059_TopView.avi\n",
      "Loading  D:/YuLab/Work/GPS/Video/Naveed/GPS_13_ThreeFPHoldSRT/20240518/Top/Clips/Naveed_20240518_HoldTrial059_TopView.avi\n",
      "Duration of video [s]:  8.0 , recorded with  25.0 fps!\n",
      "Overall # of frames:  200  found with (before cropping) frame dimensions:  1280 1331\n",
      "Starting to extract posture\n",
      "Cropping based on the x1 = 0 x2 = 1280 y1 = 0 y2 = 1024. You can adjust the cropping coordinates in the config.yaml file.\n"
     ]
    },
    {
     "name": "stderr",
     "output_type": "stream",
     "text": [
      "100%|██████████| 200/200 [00:08<00:00, 23.60it/s]\n"
     ]
    },
    {
     "name": "stdout",
     "output_type": "stream",
     "text": [
      "Saving results in D:\\YuLab\\Work\\GPS\\Video\\Naveed\\GPS_13_ThreeFPHoldSRT\\20240518\\Top\\Clips...\n",
      "Saving csv poses!\n",
      "Starting to analyze %  D:/YuLab/Work/GPS/Video/Naveed/GPS_13_ThreeFPHoldSRT/20240518/Top/Clips/Naveed_20240518_HoldTrial060_TopView.avi\n",
      "Loading  D:/YuLab/Work/GPS/Video/Naveed/GPS_13_ThreeFPHoldSRT/20240518/Top/Clips/Naveed_20240518_HoldTrial060_TopView.avi\n",
      "Duration of video [s]:  8.04 , recorded with  25.0 fps!\n",
      "Overall # of frames:  201  found with (before cropping) frame dimensions:  1280 1331\n",
      "Starting to extract posture\n",
      "Cropping based on the x1 = 0 x2 = 1280 y1 = 0 y2 = 1024. You can adjust the cropping coordinates in the config.yaml file.\n"
     ]
    },
    {
     "name": "stderr",
     "output_type": "stream",
     "text": [
      "100%|██████████| 201/201 [00:08<00:00, 22.92it/s]\n"
     ]
    },
    {
     "name": "stdout",
     "output_type": "stream",
     "text": [
      "Saving results in D:\\YuLab\\Work\\GPS\\Video\\Naveed\\GPS_13_ThreeFPHoldSRT\\20240518\\Top\\Clips...\n",
      "Saving csv poses!\n",
      "Starting to analyze %  D:/YuLab/Work/GPS/Video/Naveed/GPS_13_ThreeFPHoldSRT/20240518/Top/Clips/Naveed_20240518_HoldTrial061_TopView.avi\n",
      "Loading  D:/YuLab/Work/GPS/Video/Naveed/GPS_13_ThreeFPHoldSRT/20240518/Top/Clips/Naveed_20240518_HoldTrial061_TopView.avi\n",
      "Duration of video [s]:  8.04 , recorded with  25.0 fps!\n",
      "Overall # of frames:  201  found with (before cropping) frame dimensions:  1280 1331\n",
      "Starting to extract posture\n",
      "Cropping based on the x1 = 0 x2 = 1280 y1 = 0 y2 = 1024. You can adjust the cropping coordinates in the config.yaml file.\n"
     ]
    },
    {
     "name": "stderr",
     "output_type": "stream",
     "text": [
      "100%|██████████| 201/201 [00:08<00:00, 22.95it/s]\n"
     ]
    },
    {
     "name": "stdout",
     "output_type": "stream",
     "text": [
      "Saving results in D:\\YuLab\\Work\\GPS\\Video\\Naveed\\GPS_13_ThreeFPHoldSRT\\20240518\\Top\\Clips...\n",
      "Saving csv poses!\n",
      "Starting to analyze %  D:/YuLab/Work/GPS/Video/Naveed/GPS_13_ThreeFPHoldSRT/20240518/Top/Clips/Naveed_20240518_HoldTrial062_TopView.avi\n",
      "Loading  D:/YuLab/Work/GPS/Video/Naveed/GPS_13_ThreeFPHoldSRT/20240518/Top/Clips/Naveed_20240518_HoldTrial062_TopView.avi\n",
      "Duration of video [s]:  8.0 , recorded with  25.0 fps!\n",
      "Overall # of frames:  200  found with (before cropping) frame dimensions:  1280 1331\n",
      "Starting to extract posture\n",
      "Cropping based on the x1 = 0 x2 = 1280 y1 = 0 y2 = 1024. You can adjust the cropping coordinates in the config.yaml file.\n"
     ]
    },
    {
     "name": "stderr",
     "output_type": "stream",
     "text": [
      "100%|██████████| 200/200 [00:08<00:00, 23.56it/s]\n"
     ]
    },
    {
     "name": "stdout",
     "output_type": "stream",
     "text": [
      "Saving results in D:\\YuLab\\Work\\GPS\\Video\\Naveed\\GPS_13_ThreeFPHoldSRT\\20240518\\Top\\Clips...\n",
      "Saving csv poses!\n",
      "Starting to analyze %  D:/YuLab/Work/GPS/Video/Naveed/GPS_13_ThreeFPHoldSRT/20240518/Top/Clips/Naveed_20240518_HoldTrial063_TopView.avi\n",
      "Loading  D:/YuLab/Work/GPS/Video/Naveed/GPS_13_ThreeFPHoldSRT/20240518/Top/Clips/Naveed_20240518_HoldTrial063_TopView.avi\n",
      "Duration of video [s]:  8.0 , recorded with  25.0 fps!\n",
      "Overall # of frames:  200  found with (before cropping) frame dimensions:  1280 1331\n",
      "Starting to extract posture\n",
      "Cropping based on the x1 = 0 x2 = 1280 y1 = 0 y2 = 1024. You can adjust the cropping coordinates in the config.yaml file.\n"
     ]
    },
    {
     "name": "stderr",
     "output_type": "stream",
     "text": [
      "100%|██████████| 200/200 [00:08<00:00, 23.68it/s]\n"
     ]
    },
    {
     "name": "stdout",
     "output_type": "stream",
     "text": [
      "Saving results in D:\\YuLab\\Work\\GPS\\Video\\Naveed\\GPS_13_ThreeFPHoldSRT\\20240518\\Top\\Clips...\n",
      "Saving csv poses!\n",
      "Starting to analyze %  D:/YuLab/Work/GPS/Video/Naveed/GPS_13_ThreeFPHoldSRT/20240518/Top/Clips/Naveed_20240518_HoldTrial064_TopView.avi\n",
      "Loading  D:/YuLab/Work/GPS/Video/Naveed/GPS_13_ThreeFPHoldSRT/20240518/Top/Clips/Naveed_20240518_HoldTrial064_TopView.avi\n",
      "Duration of video [s]:  8.04 , recorded with  25.0 fps!\n",
      "Overall # of frames:  201  found with (before cropping) frame dimensions:  1280 1331\n",
      "Starting to extract posture\n",
      "Cropping based on the x1 = 0 x2 = 1280 y1 = 0 y2 = 1024. You can adjust the cropping coordinates in the config.yaml file.\n"
     ]
    },
    {
     "name": "stderr",
     "output_type": "stream",
     "text": [
      "100%|██████████| 201/201 [00:08<00:00, 22.98it/s]\n"
     ]
    },
    {
     "name": "stdout",
     "output_type": "stream",
     "text": [
      "Saving results in D:\\YuLab\\Work\\GPS\\Video\\Naveed\\GPS_13_ThreeFPHoldSRT\\20240518\\Top\\Clips...\n",
      "Saving csv poses!\n",
      "Starting to analyze %  D:/YuLab/Work/GPS/Video/Naveed/GPS_13_ThreeFPHoldSRT/20240518/Top/Clips/Naveed_20240518_HoldTrial065_TopView.avi\n",
      "Loading  D:/YuLab/Work/GPS/Video/Naveed/GPS_13_ThreeFPHoldSRT/20240518/Top/Clips/Naveed_20240518_HoldTrial065_TopView.avi\n",
      "Duration of video [s]:  8.04 , recorded with  25.0 fps!\n",
      "Overall # of frames:  201  found with (before cropping) frame dimensions:  1280 1331\n",
      "Starting to extract posture\n",
      "Cropping based on the x1 = 0 x2 = 1280 y1 = 0 y2 = 1024. You can adjust the cropping coordinates in the config.yaml file.\n"
     ]
    },
    {
     "name": "stderr",
     "output_type": "stream",
     "text": [
      "100%|██████████| 201/201 [00:08<00:00, 23.00it/s]\n"
     ]
    },
    {
     "name": "stdout",
     "output_type": "stream",
     "text": [
      "Saving results in D:\\YuLab\\Work\\GPS\\Video\\Naveed\\GPS_13_ThreeFPHoldSRT\\20240518\\Top\\Clips...\n",
      "Saving csv poses!\n",
      "Starting to analyze %  D:/YuLab/Work/GPS/Video/Naveed/GPS_13_ThreeFPHoldSRT/20240518/Top/Clips/Naveed_20240518_HoldTrial066_TopView.avi\n",
      "Loading  D:/YuLab/Work/GPS/Video/Naveed/GPS_13_ThreeFPHoldSRT/20240518/Top/Clips/Naveed_20240518_HoldTrial066_TopView.avi\n",
      "Duration of video [s]:  8.0 , recorded with  25.0 fps!\n",
      "Overall # of frames:  200  found with (before cropping) frame dimensions:  1280 1331\n",
      "Starting to extract posture\n",
      "Cropping based on the x1 = 0 x2 = 1280 y1 = 0 y2 = 1024. You can adjust the cropping coordinates in the config.yaml file.\n"
     ]
    },
    {
     "name": "stderr",
     "output_type": "stream",
     "text": [
      "100%|██████████| 200/200 [00:08<00:00, 23.60it/s]\n"
     ]
    },
    {
     "name": "stdout",
     "output_type": "stream",
     "text": [
      "Saving results in D:\\YuLab\\Work\\GPS\\Video\\Naveed\\GPS_13_ThreeFPHoldSRT\\20240518\\Top\\Clips...\n",
      "Saving csv poses!\n",
      "Starting to analyze %  D:/YuLab/Work/GPS/Video/Naveed/GPS_13_ThreeFPHoldSRT/20240518/Top/Clips/Naveed_20240518_HoldTrial067_TopView.avi\n",
      "Loading  D:/YuLab/Work/GPS/Video/Naveed/GPS_13_ThreeFPHoldSRT/20240518/Top/Clips/Naveed_20240518_HoldTrial067_TopView.avi\n",
      "Duration of video [s]:  8.0 , recorded with  25.0 fps!\n",
      "Overall # of frames:  200  found with (before cropping) frame dimensions:  1280 1331\n",
      "Starting to extract posture\n",
      "Cropping based on the x1 = 0 x2 = 1280 y1 = 0 y2 = 1024. You can adjust the cropping coordinates in the config.yaml file.\n"
     ]
    },
    {
     "name": "stderr",
     "output_type": "stream",
     "text": [
      "100%|██████████| 200/200 [00:08<00:00, 23.60it/s]\n"
     ]
    },
    {
     "name": "stdout",
     "output_type": "stream",
     "text": [
      "Saving results in D:\\YuLab\\Work\\GPS\\Video\\Naveed\\GPS_13_ThreeFPHoldSRT\\20240518\\Top\\Clips...\n",
      "Saving csv poses!\n",
      "Starting to analyze %  D:/YuLab/Work/GPS/Video/Naveed/GPS_13_ThreeFPHoldSRT/20240518/Top/Clips/Naveed_20240518_HoldTrial068_TopView.avi\n",
      "Loading  D:/YuLab/Work/GPS/Video/Naveed/GPS_13_ThreeFPHoldSRT/20240518/Top/Clips/Naveed_20240518_HoldTrial068_TopView.avi\n",
      "Duration of video [s]:  8.04 , recorded with  25.0 fps!\n",
      "Overall # of frames:  201  found with (before cropping) frame dimensions:  1280 1331\n",
      "Starting to extract posture\n",
      "Cropping based on the x1 = 0 x2 = 1280 y1 = 0 y2 = 1024. You can adjust the cropping coordinates in the config.yaml file.\n"
     ]
    },
    {
     "name": "stderr",
     "output_type": "stream",
     "text": [
      "100%|██████████| 201/201 [00:08<00:00, 23.02it/s]\n"
     ]
    },
    {
     "name": "stdout",
     "output_type": "stream",
     "text": [
      "Saving results in D:\\YuLab\\Work\\GPS\\Video\\Naveed\\GPS_13_ThreeFPHoldSRT\\20240518\\Top\\Clips...\n",
      "Saving csv poses!\n",
      "Starting to analyze %  D:/YuLab/Work/GPS/Video/Naveed/GPS_13_ThreeFPHoldSRT/20240518/Top/Clips/Naveed_20240518_HoldTrial069_TopView.avi\n",
      "Loading  D:/YuLab/Work/GPS/Video/Naveed/GPS_13_ThreeFPHoldSRT/20240518/Top/Clips/Naveed_20240518_HoldTrial069_TopView.avi\n",
      "Duration of video [s]:  8.0 , recorded with  25.0 fps!\n",
      "Overall # of frames:  200  found with (before cropping) frame dimensions:  1280 1331\n",
      "Starting to extract posture\n",
      "Cropping based on the x1 = 0 x2 = 1280 y1 = 0 y2 = 1024. You can adjust the cropping coordinates in the config.yaml file.\n"
     ]
    },
    {
     "name": "stderr",
     "output_type": "stream",
     "text": [
      "100%|██████████| 200/200 [00:08<00:00, 23.59it/s]\n"
     ]
    },
    {
     "name": "stdout",
     "output_type": "stream",
     "text": [
      "Saving results in D:\\YuLab\\Work\\GPS\\Video\\Naveed\\GPS_13_ThreeFPHoldSRT\\20240518\\Top\\Clips...\n",
      "Saving csv poses!\n",
      "Starting to analyze %  D:/YuLab/Work/GPS/Video/Naveed/GPS_13_ThreeFPHoldSRT/20240518/Top/Clips/Naveed_20240518_HoldTrial070_TopView.avi\n",
      "Loading  D:/YuLab/Work/GPS/Video/Naveed/GPS_13_ThreeFPHoldSRT/20240518/Top/Clips/Naveed_20240518_HoldTrial070_TopView.avi\n",
      "Duration of video [s]:  8.04 , recorded with  25.0 fps!\n",
      "Overall # of frames:  201  found with (before cropping) frame dimensions:  1280 1331\n",
      "Starting to extract posture\n",
      "Cropping based on the x1 = 0 x2 = 1280 y1 = 0 y2 = 1024. You can adjust the cropping coordinates in the config.yaml file.\n"
     ]
    },
    {
     "name": "stderr",
     "output_type": "stream",
     "text": [
      "100%|██████████| 201/201 [00:08<00:00, 22.93it/s]\n"
     ]
    },
    {
     "name": "stdout",
     "output_type": "stream",
     "text": [
      "Saving results in D:\\YuLab\\Work\\GPS\\Video\\Naveed\\GPS_13_ThreeFPHoldSRT\\20240518\\Top\\Clips...\n",
      "Saving csv poses!\n",
      "Starting to analyze %  D:/YuLab/Work/GPS/Video/Naveed/GPS_13_ThreeFPHoldSRT/20240518/Top/Clips/Naveed_20240518_HoldTrial071_TopView.avi\n",
      "Loading  D:/YuLab/Work/GPS/Video/Naveed/GPS_13_ThreeFPHoldSRT/20240518/Top/Clips/Naveed_20240518_HoldTrial071_TopView.avi\n",
      "Duration of video [s]:  8.0 , recorded with  25.0 fps!\n",
      "Overall # of frames:  200  found with (before cropping) frame dimensions:  1280 1331\n",
      "Starting to extract posture\n",
      "Cropping based on the x1 = 0 x2 = 1280 y1 = 0 y2 = 1024. You can adjust the cropping coordinates in the config.yaml file.\n"
     ]
    },
    {
     "name": "stderr",
     "output_type": "stream",
     "text": [
      "100%|██████████| 200/200 [00:08<00:00, 23.48it/s]\n"
     ]
    },
    {
     "name": "stdout",
     "output_type": "stream",
     "text": [
      "Saving results in D:\\YuLab\\Work\\GPS\\Video\\Naveed\\GPS_13_ThreeFPHoldSRT\\20240518\\Top\\Clips...\n",
      "Saving csv poses!\n",
      "Starting to analyze %  D:/YuLab/Work/GPS/Video/Naveed/GPS_13_ThreeFPHoldSRT/20240518/Top/Clips/Naveed_20240518_HoldTrial072_TopView.avi\n",
      "Loading  D:/YuLab/Work/GPS/Video/Naveed/GPS_13_ThreeFPHoldSRT/20240518/Top/Clips/Naveed_20240518_HoldTrial072_TopView.avi\n",
      "Duration of video [s]:  8.04 , recorded with  25.0 fps!\n",
      "Overall # of frames:  201  found with (before cropping) frame dimensions:  1280 1331\n",
      "Starting to extract posture\n",
      "Cropping based on the x1 = 0 x2 = 1280 y1 = 0 y2 = 1024. You can adjust the cropping coordinates in the config.yaml file.\n"
     ]
    },
    {
     "name": "stderr",
     "output_type": "stream",
     "text": [
      "100%|██████████| 201/201 [00:08<00:00, 22.87it/s]\n"
     ]
    },
    {
     "name": "stdout",
     "output_type": "stream",
     "text": [
      "Saving results in D:\\YuLab\\Work\\GPS\\Video\\Naveed\\GPS_13_ThreeFPHoldSRT\\20240518\\Top\\Clips...\n",
      "Saving csv poses!\n",
      "Starting to analyze %  D:/YuLab/Work/GPS/Video/Naveed/GPS_13_ThreeFPHoldSRT/20240518/Top/Clips/Naveed_20240518_HoldTrial073_TopView.avi\n",
      "Loading  D:/YuLab/Work/GPS/Video/Naveed/GPS_13_ThreeFPHoldSRT/20240518/Top/Clips/Naveed_20240518_HoldTrial073_TopView.avi\n",
      "Duration of video [s]:  8.04 , recorded with  25.0 fps!\n",
      "Overall # of frames:  201  found with (before cropping) frame dimensions:  1280 1331\n",
      "Starting to extract posture\n",
      "Cropping based on the x1 = 0 x2 = 1280 y1 = 0 y2 = 1024. You can adjust the cropping coordinates in the config.yaml file.\n"
     ]
    },
    {
     "name": "stderr",
     "output_type": "stream",
     "text": [
      "100%|██████████| 201/201 [00:08<00:00, 22.91it/s]\n"
     ]
    },
    {
     "name": "stdout",
     "output_type": "stream",
     "text": [
      "Saving results in D:\\YuLab\\Work\\GPS\\Video\\Naveed\\GPS_13_ThreeFPHoldSRT\\20240518\\Top\\Clips...\n",
      "Saving csv poses!\n",
      "Starting to analyze %  D:/YuLab/Work/GPS/Video/Naveed/GPS_13_ThreeFPHoldSRT/20240518/Top/Clips/Naveed_20240518_HoldTrial074_TopView.avi\n",
      "Loading  D:/YuLab/Work/GPS/Video/Naveed/GPS_13_ThreeFPHoldSRT/20240518/Top/Clips/Naveed_20240518_HoldTrial074_TopView.avi\n",
      "Duration of video [s]:  8.0 , recorded with  25.0 fps!\n",
      "Overall # of frames:  200  found with (before cropping) frame dimensions:  1280 1331\n",
      "Starting to extract posture\n",
      "Cropping based on the x1 = 0 x2 = 1280 y1 = 0 y2 = 1024. You can adjust the cropping coordinates in the config.yaml file.\n"
     ]
    },
    {
     "name": "stderr",
     "output_type": "stream",
     "text": [
      "100%|██████████| 200/200 [00:08<00:00, 23.62it/s]\n"
     ]
    },
    {
     "name": "stdout",
     "output_type": "stream",
     "text": [
      "Saving results in D:\\YuLab\\Work\\GPS\\Video\\Naveed\\GPS_13_ThreeFPHoldSRT\\20240518\\Top\\Clips...\n",
      "Saving csv poses!\n",
      "Starting to analyze %  D:/YuLab/Work/GPS/Video/Naveed/GPS_13_ThreeFPHoldSRT/20240518/Top/Clips/Naveed_20240518_HoldTrial075_TopView.avi\n",
      "Loading  D:/YuLab/Work/GPS/Video/Naveed/GPS_13_ThreeFPHoldSRT/20240518/Top/Clips/Naveed_20240518_HoldTrial075_TopView.avi\n",
      "Duration of video [s]:  8.0 , recorded with  25.0 fps!\n",
      "Overall # of frames:  200  found with (before cropping) frame dimensions:  1280 1331\n",
      "Starting to extract posture\n",
      "Cropping based on the x1 = 0 x2 = 1280 y1 = 0 y2 = 1024. You can adjust the cropping coordinates in the config.yaml file.\n"
     ]
    },
    {
     "name": "stderr",
     "output_type": "stream",
     "text": [
      "100%|██████████| 200/200 [00:08<00:00, 23.49it/s]\n"
     ]
    },
    {
     "name": "stdout",
     "output_type": "stream",
     "text": [
      "Saving results in D:\\YuLab\\Work\\GPS\\Video\\Naveed\\GPS_13_ThreeFPHoldSRT\\20240518\\Top\\Clips...\n",
      "Saving csv poses!\n",
      "Starting to analyze %  D:/YuLab/Work/GPS/Video/Naveed/GPS_13_ThreeFPHoldSRT/20240518/Top/Clips/Naveed_20240518_HoldTrial076_TopView.avi\n",
      "Loading  D:/YuLab/Work/GPS/Video/Naveed/GPS_13_ThreeFPHoldSRT/20240518/Top/Clips/Naveed_20240518_HoldTrial076_TopView.avi\n",
      "Duration of video [s]:  8.0 , recorded with  25.0 fps!\n",
      "Overall # of frames:  200  found with (before cropping) frame dimensions:  1280 1331\n",
      "Starting to extract posture\n",
      "Cropping based on the x1 = 0 x2 = 1280 y1 = 0 y2 = 1024. You can adjust the cropping coordinates in the config.yaml file.\n"
     ]
    },
    {
     "name": "stderr",
     "output_type": "stream",
     "text": [
      "100%|██████████| 200/200 [00:08<00:00, 23.59it/s]\n"
     ]
    },
    {
     "name": "stdout",
     "output_type": "stream",
     "text": [
      "Saving results in D:\\YuLab\\Work\\GPS\\Video\\Naveed\\GPS_13_ThreeFPHoldSRT\\20240518\\Top\\Clips...\n",
      "Saving csv poses!\n",
      "Starting to analyze %  D:/YuLab/Work/GPS/Video/Naveed/GPS_13_ThreeFPHoldSRT/20240518/Top/Clips/Naveed_20240518_HoldTrial077_TopView.avi\n",
      "Loading  D:/YuLab/Work/GPS/Video/Naveed/GPS_13_ThreeFPHoldSRT/20240518/Top/Clips/Naveed_20240518_HoldTrial077_TopView.avi\n",
      "Duration of video [s]:  7.96 , recorded with  25.0 fps!\n",
      "Overall # of frames:  199  found with (before cropping) frame dimensions:  1280 1331\n",
      "Starting to extract posture\n",
      "Cropping based on the x1 = 0 x2 = 1280 y1 = 0 y2 = 1024. You can adjust the cropping coordinates in the config.yaml file.\n"
     ]
    },
    {
     "name": "stderr",
     "output_type": "stream",
     "text": [
      "100%|██████████| 199/199 [00:08<00:00, 23.56it/s]\n"
     ]
    },
    {
     "name": "stdout",
     "output_type": "stream",
     "text": [
      "Saving results in D:\\YuLab\\Work\\GPS\\Video\\Naveed\\GPS_13_ThreeFPHoldSRT\\20240518\\Top\\Clips...\n",
      "Saving csv poses!\n",
      "Starting to analyze %  D:/YuLab/Work/GPS/Video/Naveed/GPS_13_ThreeFPHoldSRT/20240518/Top/Clips/Naveed_20240518_HoldTrial078_TopView.avi\n",
      "Loading  D:/YuLab/Work/GPS/Video/Naveed/GPS_13_ThreeFPHoldSRT/20240518/Top/Clips/Naveed_20240518_HoldTrial078_TopView.avi\n",
      "Duration of video [s]:  8.04 , recorded with  25.0 fps!\n",
      "Overall # of frames:  201  found with (before cropping) frame dimensions:  1280 1331\n",
      "Starting to extract posture\n",
      "Cropping based on the x1 = 0 x2 = 1280 y1 = 0 y2 = 1024. You can adjust the cropping coordinates in the config.yaml file.\n"
     ]
    },
    {
     "name": "stderr",
     "output_type": "stream",
     "text": [
      "100%|██████████| 201/201 [00:08<00:00, 23.13it/s]\n"
     ]
    },
    {
     "name": "stdout",
     "output_type": "stream",
     "text": [
      "Saving results in D:\\YuLab\\Work\\GPS\\Video\\Naveed\\GPS_13_ThreeFPHoldSRT\\20240518\\Top\\Clips...\n",
      "Saving csv poses!\n",
      "Starting to analyze %  D:/YuLab/Work/GPS/Video/Naveed/GPS_13_ThreeFPHoldSRT/20240518/Top/Clips/Naveed_20240518_HoldTrial079_TopView.avi\n",
      "Loading  D:/YuLab/Work/GPS/Video/Naveed/GPS_13_ThreeFPHoldSRT/20240518/Top/Clips/Naveed_20240518_HoldTrial079_TopView.avi\n",
      "Duration of video [s]:  8.04 , recorded with  25.0 fps!\n",
      "Overall # of frames:  201  found with (before cropping) frame dimensions:  1280 1331\n",
      "Starting to extract posture\n",
      "Cropping based on the x1 = 0 x2 = 1280 y1 = 0 y2 = 1024. You can adjust the cropping coordinates in the config.yaml file.\n"
     ]
    },
    {
     "name": "stderr",
     "output_type": "stream",
     "text": [
      "100%|██████████| 201/201 [00:08<00:00, 23.13it/s]\n"
     ]
    },
    {
     "name": "stdout",
     "output_type": "stream",
     "text": [
      "Saving results in D:\\YuLab\\Work\\GPS\\Video\\Naveed\\GPS_13_ThreeFPHoldSRT\\20240518\\Top\\Clips...\n",
      "Saving csv poses!\n",
      "Starting to analyze %  D:/YuLab/Work/GPS/Video/Naveed/GPS_13_ThreeFPHoldSRT/20240518/Top/Clips/Naveed_20240518_HoldTrial080_TopView.avi\n",
      "Loading  D:/YuLab/Work/GPS/Video/Naveed/GPS_13_ThreeFPHoldSRT/20240518/Top/Clips/Naveed_20240518_HoldTrial080_TopView.avi\n",
      "Duration of video [s]:  8.0 , recorded with  25.0 fps!\n",
      "Overall # of frames:  200  found with (before cropping) frame dimensions:  1280 1331\n",
      "Starting to extract posture\n",
      "Cropping based on the x1 = 0 x2 = 1280 y1 = 0 y2 = 1024. You can adjust the cropping coordinates in the config.yaml file.\n"
     ]
    },
    {
     "name": "stderr",
     "output_type": "stream",
     "text": [
      "100%|██████████| 200/200 [00:08<00:00, 23.74it/s]\n"
     ]
    },
    {
     "name": "stdout",
     "output_type": "stream",
     "text": [
      "Saving results in D:\\YuLab\\Work\\GPS\\Video\\Naveed\\GPS_13_ThreeFPHoldSRT\\20240518\\Top\\Clips...\n",
      "Saving csv poses!\n",
      "Starting to analyze %  D:/YuLab/Work/GPS/Video/Naveed/GPS_13_ThreeFPHoldSRT/20240518/Top/Clips/Naveed_20240518_HoldTrial081_TopView.avi\n",
      "Loading  D:/YuLab/Work/GPS/Video/Naveed/GPS_13_ThreeFPHoldSRT/20240518/Top/Clips/Naveed_20240518_HoldTrial081_TopView.avi\n",
      "Duration of video [s]:  8.0 , recorded with  25.0 fps!\n",
      "Overall # of frames:  200  found with (before cropping) frame dimensions:  1280 1331\n",
      "Starting to extract posture\n",
      "Cropping based on the x1 = 0 x2 = 1280 y1 = 0 y2 = 1024. You can adjust the cropping coordinates in the config.yaml file.\n"
     ]
    },
    {
     "name": "stderr",
     "output_type": "stream",
     "text": [
      "100%|██████████| 200/200 [00:08<00:00, 23.74it/s]\n"
     ]
    },
    {
     "name": "stdout",
     "output_type": "stream",
     "text": [
      "Saving results in D:\\YuLab\\Work\\GPS\\Video\\Naveed\\GPS_13_ThreeFPHoldSRT\\20240518\\Top\\Clips...\n",
      "Saving csv poses!\n",
      "Starting to analyze %  D:/YuLab/Work/GPS/Video/Naveed/GPS_13_ThreeFPHoldSRT/20240518/Top/Clips/Naveed_20240518_HoldTrial082_TopView.avi\n",
      "Loading  D:/YuLab/Work/GPS/Video/Naveed/GPS_13_ThreeFPHoldSRT/20240518/Top/Clips/Naveed_20240518_HoldTrial082_TopView.avi\n",
      "Duration of video [s]:  8.04 , recorded with  25.0 fps!\n",
      "Overall # of frames:  201  found with (before cropping) frame dimensions:  1280 1331\n",
      "Starting to extract posture\n",
      "Cropping based on the x1 = 0 x2 = 1280 y1 = 0 y2 = 1024. You can adjust the cropping coordinates in the config.yaml file.\n"
     ]
    },
    {
     "name": "stderr",
     "output_type": "stream",
     "text": [
      "100%|██████████| 201/201 [00:08<00:00, 23.07it/s]\n"
     ]
    },
    {
     "name": "stdout",
     "output_type": "stream",
     "text": [
      "Saving results in D:\\YuLab\\Work\\GPS\\Video\\Naveed\\GPS_13_ThreeFPHoldSRT\\20240518\\Top\\Clips...\n",
      "Saving csv poses!\n",
      "Starting to analyze %  D:/YuLab/Work/GPS/Video/Naveed/GPS_13_ThreeFPHoldSRT/20240518/Top/Clips/Naveed_20240518_HoldTrial083_TopView.avi\n",
      "Loading  D:/YuLab/Work/GPS/Video/Naveed/GPS_13_ThreeFPHoldSRT/20240518/Top/Clips/Naveed_20240518_HoldTrial083_TopView.avi\n",
      "Duration of video [s]:  8.0 , recorded with  25.0 fps!\n",
      "Overall # of frames:  200  found with (before cropping) frame dimensions:  1280 1331\n",
      "Starting to extract posture\n",
      "Cropping based on the x1 = 0 x2 = 1280 y1 = 0 y2 = 1024. You can adjust the cropping coordinates in the config.yaml file.\n"
     ]
    },
    {
     "name": "stderr",
     "output_type": "stream",
     "text": [
      "100%|██████████| 200/200 [00:08<00:00, 23.65it/s]\n"
     ]
    },
    {
     "name": "stdout",
     "output_type": "stream",
     "text": [
      "Saving results in D:\\YuLab\\Work\\GPS\\Video\\Naveed\\GPS_13_ThreeFPHoldSRT\\20240518\\Top\\Clips...\n",
      "Saving csv poses!\n",
      "Starting to analyze %  D:/YuLab/Work/GPS/Video/Naveed/GPS_13_ThreeFPHoldSRT/20240518/Top/Clips/Naveed_20240518_HoldTrial084_TopView.avi\n",
      "Loading  D:/YuLab/Work/GPS/Video/Naveed/GPS_13_ThreeFPHoldSRT/20240518/Top/Clips/Naveed_20240518_HoldTrial084_TopView.avi\n",
      "Duration of video [s]:  8.0 , recorded with  25.0 fps!\n",
      "Overall # of frames:  200  found with (before cropping) frame dimensions:  1280 1331\n",
      "Starting to extract posture\n",
      "Cropping based on the x1 = 0 x2 = 1280 y1 = 0 y2 = 1024. You can adjust the cropping coordinates in the config.yaml file.\n"
     ]
    },
    {
     "name": "stderr",
     "output_type": "stream",
     "text": [
      "100%|██████████| 200/200 [00:08<00:00, 23.63it/s]\n"
     ]
    },
    {
     "name": "stdout",
     "output_type": "stream",
     "text": [
      "Saving results in D:\\YuLab\\Work\\GPS\\Video\\Naveed\\GPS_13_ThreeFPHoldSRT\\20240518\\Top\\Clips...\n",
      "Saving csv poses!\n",
      "Starting to analyze %  D:/YuLab/Work/GPS/Video/Naveed/GPS_13_ThreeFPHoldSRT/20240518/Top/Clips/Naveed_20240518_HoldTrial085_TopView.avi\n",
      "Loading  D:/YuLab/Work/GPS/Video/Naveed/GPS_13_ThreeFPHoldSRT/20240518/Top/Clips/Naveed_20240518_HoldTrial085_TopView.avi\n",
      "Duration of video [s]:  8.0 , recorded with  25.0 fps!\n",
      "Overall # of frames:  200  found with (before cropping) frame dimensions:  1280 1331\n",
      "Starting to extract posture\n",
      "Cropping based on the x1 = 0 x2 = 1280 y1 = 0 y2 = 1024. You can adjust the cropping coordinates in the config.yaml file.\n"
     ]
    },
    {
     "name": "stderr",
     "output_type": "stream",
     "text": [
      "100%|██████████| 200/200 [00:08<00:00, 23.65it/s]\n"
     ]
    },
    {
     "name": "stdout",
     "output_type": "stream",
     "text": [
      "Saving results in D:\\YuLab\\Work\\GPS\\Video\\Naveed\\GPS_13_ThreeFPHoldSRT\\20240518\\Top\\Clips...\n",
      "Saving csv poses!\n",
      "Starting to analyze %  D:/YuLab/Work/GPS/Video/Naveed/GPS_13_ThreeFPHoldSRT/20240518/Top/Clips/Naveed_20240518_HoldTrial086_TopView.avi\n",
      "Loading  D:/YuLab/Work/GPS/Video/Naveed/GPS_13_ThreeFPHoldSRT/20240518/Top/Clips/Naveed_20240518_HoldTrial086_TopView.avi\n",
      "Duration of video [s]:  8.0 , recorded with  25.0 fps!\n",
      "Overall # of frames:  200  found with (before cropping) frame dimensions:  1280 1331\n",
      "Starting to extract posture\n",
      "Cropping based on the x1 = 0 x2 = 1280 y1 = 0 y2 = 1024. You can adjust the cropping coordinates in the config.yaml file.\n"
     ]
    },
    {
     "name": "stderr",
     "output_type": "stream",
     "text": [
      "100%|██████████| 200/200 [00:08<00:00, 23.66it/s]\n"
     ]
    },
    {
     "name": "stdout",
     "output_type": "stream",
     "text": [
      "Saving results in D:\\YuLab\\Work\\GPS\\Video\\Naveed\\GPS_13_ThreeFPHoldSRT\\20240518\\Top\\Clips...\n",
      "Saving csv poses!\n",
      "Starting to analyze %  D:/YuLab/Work/GPS/Video/Naveed/GPS_13_ThreeFPHoldSRT/20240518/Top/Clips/Naveed_20240518_HoldTrial087_TopView.avi\n",
      "Loading  D:/YuLab/Work/GPS/Video/Naveed/GPS_13_ThreeFPHoldSRT/20240518/Top/Clips/Naveed_20240518_HoldTrial087_TopView.avi\n",
      "Duration of video [s]:  8.0 , recorded with  25.0 fps!\n",
      "Overall # of frames:  200  found with (before cropping) frame dimensions:  1280 1331\n",
      "Starting to extract posture\n",
      "Cropping based on the x1 = 0 x2 = 1280 y1 = 0 y2 = 1024. You can adjust the cropping coordinates in the config.yaml file.\n"
     ]
    },
    {
     "name": "stderr",
     "output_type": "stream",
     "text": [
      "100%|██████████| 200/200 [00:08<00:00, 23.65it/s]\n"
     ]
    },
    {
     "name": "stdout",
     "output_type": "stream",
     "text": [
      "Saving results in D:\\YuLab\\Work\\GPS\\Video\\Naveed\\GPS_13_ThreeFPHoldSRT\\20240518\\Top\\Clips...\n",
      "Saving csv poses!\n",
      "Starting to analyze %  D:/YuLab/Work/GPS/Video/Naveed/GPS_13_ThreeFPHoldSRT/20240518/Top/Clips/Naveed_20240518_HoldTrial088_TopView.avi\n",
      "Loading  D:/YuLab/Work/GPS/Video/Naveed/GPS_13_ThreeFPHoldSRT/20240518/Top/Clips/Naveed_20240518_HoldTrial088_TopView.avi\n",
      "Duration of video [s]:  8.0 , recorded with  25.0 fps!\n",
      "Overall # of frames:  200  found with (before cropping) frame dimensions:  1280 1331\n",
      "Starting to extract posture\n",
      "Cropping based on the x1 = 0 x2 = 1280 y1 = 0 y2 = 1024. You can adjust the cropping coordinates in the config.yaml file.\n"
     ]
    },
    {
     "name": "stderr",
     "output_type": "stream",
     "text": [
      "100%|██████████| 200/200 [00:08<00:00, 23.66it/s]\n"
     ]
    },
    {
     "name": "stdout",
     "output_type": "stream",
     "text": [
      "Saving results in D:\\YuLab\\Work\\GPS\\Video\\Naveed\\GPS_13_ThreeFPHoldSRT\\20240518\\Top\\Clips...\n",
      "Saving csv poses!\n",
      "Starting to analyze %  D:/YuLab/Work/GPS/Video/Naveed/GPS_13_ThreeFPHoldSRT/20240518/Top/Clips/Naveed_20240518_HoldTrial089_TopView.avi\n",
      "Loading  D:/YuLab/Work/GPS/Video/Naveed/GPS_13_ThreeFPHoldSRT/20240518/Top/Clips/Naveed_20240518_HoldTrial089_TopView.avi\n",
      "Duration of video [s]:  8.04 , recorded with  25.0 fps!\n",
      "Overall # of frames:  201  found with (before cropping) frame dimensions:  1280 1331\n",
      "Starting to extract posture\n",
      "Cropping based on the x1 = 0 x2 = 1280 y1 = 0 y2 = 1024. You can adjust the cropping coordinates in the config.yaml file.\n"
     ]
    },
    {
     "name": "stderr",
     "output_type": "stream",
     "text": [
      "100%|██████████| 201/201 [00:08<00:00, 23.03it/s]\n"
     ]
    },
    {
     "name": "stdout",
     "output_type": "stream",
     "text": [
      "Saving results in D:\\YuLab\\Work\\GPS\\Video\\Naveed\\GPS_13_ThreeFPHoldSRT\\20240518\\Top\\Clips...\n",
      "Saving csv poses!\n",
      "Starting to analyze %  D:/YuLab/Work/GPS/Video/Naveed/GPS_13_ThreeFPHoldSRT/20240518/Top/Clips/Naveed_20240518_HoldTrial090_TopView.avi\n",
      "Loading  D:/YuLab/Work/GPS/Video/Naveed/GPS_13_ThreeFPHoldSRT/20240518/Top/Clips/Naveed_20240518_HoldTrial090_TopView.avi\n",
      "Duration of video [s]:  8.0 , recorded with  25.0 fps!\n",
      "Overall # of frames:  200  found with (before cropping) frame dimensions:  1280 1331\n",
      "Starting to extract posture\n",
      "Cropping based on the x1 = 0 x2 = 1280 y1 = 0 y2 = 1024. You can adjust the cropping coordinates in the config.yaml file.\n"
     ]
    },
    {
     "name": "stderr",
     "output_type": "stream",
     "text": [
      "100%|██████████| 200/200 [00:08<00:00, 23.63it/s]\n"
     ]
    },
    {
     "name": "stdout",
     "output_type": "stream",
     "text": [
      "Saving results in D:\\YuLab\\Work\\GPS\\Video\\Naveed\\GPS_13_ThreeFPHoldSRT\\20240518\\Top\\Clips...\n",
      "Saving csv poses!\n",
      "Starting to analyze %  D:/YuLab/Work/GPS/Video/Naveed/GPS_13_ThreeFPHoldSRT/20240518/Top/Clips/Naveed_20240518_HoldTrial091_TopView.avi\n",
      "Loading  D:/YuLab/Work/GPS/Video/Naveed/GPS_13_ThreeFPHoldSRT/20240518/Top/Clips/Naveed_20240518_HoldTrial091_TopView.avi\n",
      "Duration of video [s]:  8.0 , recorded with  25.0 fps!\n",
      "Overall # of frames:  200  found with (before cropping) frame dimensions:  1280 1331\n",
      "Starting to extract posture\n",
      "Cropping based on the x1 = 0 x2 = 1280 y1 = 0 y2 = 1024. You can adjust the cropping coordinates in the config.yaml file.\n"
     ]
    },
    {
     "name": "stderr",
     "output_type": "stream",
     "text": [
      "100%|██████████| 200/200 [00:08<00:00, 23.62it/s]\n"
     ]
    },
    {
     "name": "stdout",
     "output_type": "stream",
     "text": [
      "Saving results in D:\\YuLab\\Work\\GPS\\Video\\Naveed\\GPS_13_ThreeFPHoldSRT\\20240518\\Top\\Clips...\n",
      "Saving csv poses!\n",
      "Starting to analyze %  D:/YuLab/Work/GPS/Video/Naveed/GPS_13_ThreeFPHoldSRT/20240518/Top/Clips/Naveed_20240518_HoldTrial092_TopView.avi\n",
      "Loading  D:/YuLab/Work/GPS/Video/Naveed/GPS_13_ThreeFPHoldSRT/20240518/Top/Clips/Naveed_20240518_HoldTrial092_TopView.avi\n",
      "Duration of video [s]:  8.04 , recorded with  25.0 fps!\n",
      "Overall # of frames:  201  found with (before cropping) frame dimensions:  1280 1331\n",
      "Starting to extract posture\n",
      "Cropping based on the x1 = 0 x2 = 1280 y1 = 0 y2 = 1024. You can adjust the cropping coordinates in the config.yaml file.\n"
     ]
    },
    {
     "name": "stderr",
     "output_type": "stream",
     "text": [
      "100%|██████████| 201/201 [00:08<00:00, 22.99it/s]\n"
     ]
    },
    {
     "name": "stdout",
     "output_type": "stream",
     "text": [
      "Saving results in D:\\YuLab\\Work\\GPS\\Video\\Naveed\\GPS_13_ThreeFPHoldSRT\\20240518\\Top\\Clips...\n",
      "Saving csv poses!\n",
      "Starting to analyze %  D:/YuLab/Work/GPS/Video/Naveed/GPS_13_ThreeFPHoldSRT/20240518/Top/Clips/Naveed_20240518_HoldTrial093_TopView.avi\n",
      "Loading  D:/YuLab/Work/GPS/Video/Naveed/GPS_13_ThreeFPHoldSRT/20240518/Top/Clips/Naveed_20240518_HoldTrial093_TopView.avi\n",
      "Duration of video [s]:  8.0 , recorded with  25.0 fps!\n",
      "Overall # of frames:  200  found with (before cropping) frame dimensions:  1280 1331\n",
      "Starting to extract posture\n",
      "Cropping based on the x1 = 0 x2 = 1280 y1 = 0 y2 = 1024. You can adjust the cropping coordinates in the config.yaml file.\n"
     ]
    },
    {
     "name": "stderr",
     "output_type": "stream",
     "text": [
      "100%|██████████| 200/200 [00:08<00:00, 23.64it/s]\n"
     ]
    },
    {
     "name": "stdout",
     "output_type": "stream",
     "text": [
      "Saving results in D:\\YuLab\\Work\\GPS\\Video\\Naveed\\GPS_13_ThreeFPHoldSRT\\20240518\\Top\\Clips...\n",
      "Saving csv poses!\n",
      "Starting to analyze %  D:/YuLab/Work/GPS/Video/Naveed/GPS_13_ThreeFPHoldSRT/20240518/Top/Clips/Naveed_20240518_HoldTrial094_TopView.avi\n",
      "Loading  D:/YuLab/Work/GPS/Video/Naveed/GPS_13_ThreeFPHoldSRT/20240518/Top/Clips/Naveed_20240518_HoldTrial094_TopView.avi\n",
      "Duration of video [s]:  8.04 , recorded with  25.0 fps!\n",
      "Overall # of frames:  201  found with (before cropping) frame dimensions:  1280 1331\n",
      "Starting to extract posture\n",
      "Cropping based on the x1 = 0 x2 = 1280 y1 = 0 y2 = 1024. You can adjust the cropping coordinates in the config.yaml file.\n"
     ]
    },
    {
     "name": "stderr",
     "output_type": "stream",
     "text": [
      "100%|██████████| 201/201 [00:08<00:00, 23.11it/s]\n"
     ]
    },
    {
     "name": "stdout",
     "output_type": "stream",
     "text": [
      "Saving results in D:\\YuLab\\Work\\GPS\\Video\\Naveed\\GPS_13_ThreeFPHoldSRT\\20240518\\Top\\Clips...\n",
      "Saving csv poses!\n",
      "Starting to analyze %  D:/YuLab/Work/GPS/Video/Naveed/GPS_13_ThreeFPHoldSRT/20240518/Top/Clips/Naveed_20240518_HoldTrial095_TopView.avi\n",
      "Loading  D:/YuLab/Work/GPS/Video/Naveed/GPS_13_ThreeFPHoldSRT/20240518/Top/Clips/Naveed_20240518_HoldTrial095_TopView.avi\n",
      "Duration of video [s]:  8.0 , recorded with  25.0 fps!\n",
      "Overall # of frames:  200  found with (before cropping) frame dimensions:  1280 1331\n",
      "Starting to extract posture\n",
      "Cropping based on the x1 = 0 x2 = 1280 y1 = 0 y2 = 1024. You can adjust the cropping coordinates in the config.yaml file.\n"
     ]
    },
    {
     "name": "stderr",
     "output_type": "stream",
     "text": [
      "100%|██████████| 200/200 [00:08<00:00, 23.79it/s]\n"
     ]
    },
    {
     "name": "stdout",
     "output_type": "stream",
     "text": [
      "Saving results in D:\\YuLab\\Work\\GPS\\Video\\Naveed\\GPS_13_ThreeFPHoldSRT\\20240518\\Top\\Clips...\n",
      "Saving csv poses!\n",
      "Starting to analyze %  D:/YuLab/Work/GPS/Video/Naveed/GPS_13_ThreeFPHoldSRT/20240518/Top/Clips/Naveed_20240518_HoldTrial096_TopView.avi\n",
      "Loading  D:/YuLab/Work/GPS/Video/Naveed/GPS_13_ThreeFPHoldSRT/20240518/Top/Clips/Naveed_20240518_HoldTrial096_TopView.avi\n",
      "Duration of video [s]:  8.0 , recorded with  25.0 fps!\n",
      "Overall # of frames:  200  found with (before cropping) frame dimensions:  1280 1331\n",
      "Starting to extract posture\n",
      "Cropping based on the x1 = 0 x2 = 1280 y1 = 0 y2 = 1024. You can adjust the cropping coordinates in the config.yaml file.\n"
     ]
    },
    {
     "name": "stderr",
     "output_type": "stream",
     "text": [
      "100%|██████████| 200/200 [00:08<00:00, 23.75it/s]\n"
     ]
    },
    {
     "name": "stdout",
     "output_type": "stream",
     "text": [
      "Saving results in D:\\YuLab\\Work\\GPS\\Video\\Naveed\\GPS_13_ThreeFPHoldSRT\\20240518\\Top\\Clips...\n",
      "Saving csv poses!\n",
      "Starting to analyze %  D:/YuLab/Work/GPS/Video/Naveed/GPS_13_ThreeFPHoldSRT/20240518/Top/Clips/Naveed_20240518_HoldTrial097_TopView.avi\n",
      "Loading  D:/YuLab/Work/GPS/Video/Naveed/GPS_13_ThreeFPHoldSRT/20240518/Top/Clips/Naveed_20240518_HoldTrial097_TopView.avi\n",
      "Duration of video [s]:  8.0 , recorded with  25.0 fps!\n",
      "Overall # of frames:  200  found with (before cropping) frame dimensions:  1280 1331\n",
      "Starting to extract posture\n",
      "Cropping based on the x1 = 0 x2 = 1280 y1 = 0 y2 = 1024. You can adjust the cropping coordinates in the config.yaml file.\n"
     ]
    },
    {
     "name": "stderr",
     "output_type": "stream",
     "text": [
      "100%|██████████| 200/200 [00:08<00:00, 23.67it/s]\n"
     ]
    },
    {
     "name": "stdout",
     "output_type": "stream",
     "text": [
      "Saving results in D:\\YuLab\\Work\\GPS\\Video\\Naveed\\GPS_13_ThreeFPHoldSRT\\20240518\\Top\\Clips...\n",
      "Saving csv poses!\n",
      "Starting to analyze %  D:/YuLab/Work/GPS/Video/Naveed/GPS_13_ThreeFPHoldSRT/20240518/Top/Clips/Naveed_20240518_HoldTrial098_TopView.avi\n",
      "Loading  D:/YuLab/Work/GPS/Video/Naveed/GPS_13_ThreeFPHoldSRT/20240518/Top/Clips/Naveed_20240518_HoldTrial098_TopView.avi\n",
      "Duration of video [s]:  8.0 , recorded with  25.0 fps!\n",
      "Overall # of frames:  200  found with (before cropping) frame dimensions:  1280 1331\n",
      "Starting to extract posture\n",
      "Cropping based on the x1 = 0 x2 = 1280 y1 = 0 y2 = 1024. You can adjust the cropping coordinates in the config.yaml file.\n"
     ]
    },
    {
     "name": "stderr",
     "output_type": "stream",
     "text": [
      "100%|██████████| 200/200 [00:08<00:00, 23.68it/s]\n"
     ]
    },
    {
     "name": "stdout",
     "output_type": "stream",
     "text": [
      "Saving results in D:\\YuLab\\Work\\GPS\\Video\\Naveed\\GPS_13_ThreeFPHoldSRT\\20240518\\Top\\Clips...\n",
      "Saving csv poses!\n",
      "Starting to analyze %  D:/YuLab/Work/GPS/Video/Naveed/GPS_13_ThreeFPHoldSRT/20240518/Top/Clips/Naveed_20240518_HoldTrial099_TopView.avi\n",
      "Loading  D:/YuLab/Work/GPS/Video/Naveed/GPS_13_ThreeFPHoldSRT/20240518/Top/Clips/Naveed_20240518_HoldTrial099_TopView.avi\n",
      "Duration of video [s]:  8.04 , recorded with  25.0 fps!\n",
      "Overall # of frames:  201  found with (before cropping) frame dimensions:  1280 1331\n",
      "Starting to extract posture\n",
      "Cropping based on the x1 = 0 x2 = 1280 y1 = 0 y2 = 1024. You can adjust the cropping coordinates in the config.yaml file.\n"
     ]
    },
    {
     "name": "stderr",
     "output_type": "stream",
     "text": [
      "100%|██████████| 201/201 [00:08<00:00, 22.95it/s]\n"
     ]
    },
    {
     "name": "stdout",
     "output_type": "stream",
     "text": [
      "Saving results in D:\\YuLab\\Work\\GPS\\Video\\Naveed\\GPS_13_ThreeFPHoldSRT\\20240518\\Top\\Clips...\n",
      "Saving csv poses!\n",
      "Starting to analyze %  D:/YuLab/Work/GPS/Video/Naveed/GPS_13_ThreeFPHoldSRT/20240518/Top/Clips/Naveed_20240518_HoldTrial100_TopView.avi\n",
      "Loading  D:/YuLab/Work/GPS/Video/Naveed/GPS_13_ThreeFPHoldSRT/20240518/Top/Clips/Naveed_20240518_HoldTrial100_TopView.avi\n",
      "Duration of video [s]:  8.04 , recorded with  25.0 fps!\n",
      "Overall # of frames:  201  found with (before cropping) frame dimensions:  1280 1331\n",
      "Starting to extract posture\n",
      "Cropping based on the x1 = 0 x2 = 1280 y1 = 0 y2 = 1024. You can adjust the cropping coordinates in the config.yaml file.\n"
     ]
    },
    {
     "name": "stderr",
     "output_type": "stream",
     "text": [
      "100%|██████████| 201/201 [00:08<00:00, 22.99it/s]\n"
     ]
    },
    {
     "name": "stdout",
     "output_type": "stream",
     "text": [
      "Saving results in D:\\YuLab\\Work\\GPS\\Video\\Naveed\\GPS_13_ThreeFPHoldSRT\\20240518\\Top\\Clips...\n",
      "Saving csv poses!\n",
      "Starting to analyze %  D:/YuLab/Work/GPS/Video/Naveed/GPS_13_ThreeFPHoldSRT/20240518/Top/Clips/Naveed_20240518_HoldTrial101_TopView.avi\n",
      "Loading  D:/YuLab/Work/GPS/Video/Naveed/GPS_13_ThreeFPHoldSRT/20240518/Top/Clips/Naveed_20240518_HoldTrial101_TopView.avi\n",
      "Duration of video [s]:  8.0 , recorded with  25.0 fps!\n",
      "Overall # of frames:  200  found with (before cropping) frame dimensions:  1280 1331\n",
      "Starting to extract posture\n",
      "Cropping based on the x1 = 0 x2 = 1280 y1 = 0 y2 = 1024. You can adjust the cropping coordinates in the config.yaml file.\n"
     ]
    },
    {
     "name": "stderr",
     "output_type": "stream",
     "text": [
      "100%|██████████| 200/200 [00:08<00:00, 23.65it/s]\n"
     ]
    },
    {
     "name": "stdout",
     "output_type": "stream",
     "text": [
      "Saving results in D:\\YuLab\\Work\\GPS\\Video\\Naveed\\GPS_13_ThreeFPHoldSRT\\20240518\\Top\\Clips...\n",
      "Saving csv poses!\n",
      "Starting to analyze %  D:/YuLab/Work/GPS/Video/Naveed/GPS_13_ThreeFPHoldSRT/20240518/Top/Clips/Naveed_20240518_HoldTrial102_TopView.avi\n",
      "Loading  D:/YuLab/Work/GPS/Video/Naveed/GPS_13_ThreeFPHoldSRT/20240518/Top/Clips/Naveed_20240518_HoldTrial102_TopView.avi\n",
      "Duration of video [s]:  8.04 , recorded with  25.0 fps!\n",
      "Overall # of frames:  201  found with (before cropping) frame dimensions:  1280 1331\n",
      "Starting to extract posture\n",
      "Cropping based on the x1 = 0 x2 = 1280 y1 = 0 y2 = 1024. You can adjust the cropping coordinates in the config.yaml file.\n"
     ]
    },
    {
     "name": "stderr",
     "output_type": "stream",
     "text": [
      "100%|██████████| 201/201 [00:08<00:00, 23.00it/s]\n"
     ]
    },
    {
     "name": "stdout",
     "output_type": "stream",
     "text": [
      "Saving results in D:\\YuLab\\Work\\GPS\\Video\\Naveed\\GPS_13_ThreeFPHoldSRT\\20240518\\Top\\Clips...\n",
      "Saving csv poses!\n",
      "Starting to analyze %  D:/YuLab/Work/GPS/Video/Naveed/GPS_13_ThreeFPHoldSRT/20240518/Top/Clips/Naveed_20240518_HoldTrial103_TopView.avi\n",
      "Loading  D:/YuLab/Work/GPS/Video/Naveed/GPS_13_ThreeFPHoldSRT/20240518/Top/Clips/Naveed_20240518_HoldTrial103_TopView.avi\n",
      "Duration of video [s]:  8.0 , recorded with  25.0 fps!\n",
      "Overall # of frames:  200  found with (before cropping) frame dimensions:  1280 1331\n",
      "Starting to extract posture\n",
      "Cropping based on the x1 = 0 x2 = 1280 y1 = 0 y2 = 1024. You can adjust the cropping coordinates in the config.yaml file.\n"
     ]
    },
    {
     "name": "stderr",
     "output_type": "stream",
     "text": [
      "100%|██████████| 200/200 [00:08<00:00, 23.59it/s]\n"
     ]
    },
    {
     "name": "stdout",
     "output_type": "stream",
     "text": [
      "Saving results in D:\\YuLab\\Work\\GPS\\Video\\Naveed\\GPS_13_ThreeFPHoldSRT\\20240518\\Top\\Clips...\n",
      "Saving csv poses!\n",
      "Starting to analyze %  D:/YuLab/Work/GPS/Video/Naveed/GPS_13_ThreeFPHoldSRT/20240518/Top/Clips/Naveed_20240518_HoldTrial104_TopView.avi\n",
      "Loading  D:/YuLab/Work/GPS/Video/Naveed/GPS_13_ThreeFPHoldSRT/20240518/Top/Clips/Naveed_20240518_HoldTrial104_TopView.avi\n",
      "Duration of video [s]:  8.0 , recorded with  25.0 fps!\n",
      "Overall # of frames:  200  found with (before cropping) frame dimensions:  1280 1331\n",
      "Starting to extract posture\n",
      "Cropping based on the x1 = 0 x2 = 1280 y1 = 0 y2 = 1024. You can adjust the cropping coordinates in the config.yaml file.\n"
     ]
    },
    {
     "name": "stderr",
     "output_type": "stream",
     "text": [
      "100%|██████████| 200/200 [00:08<00:00, 23.17it/s]\n"
     ]
    },
    {
     "name": "stdout",
     "output_type": "stream",
     "text": [
      "Saving results in D:\\YuLab\\Work\\GPS\\Video\\Naveed\\GPS_13_ThreeFPHoldSRT\\20240518\\Top\\Clips...\n",
      "Saving csv poses!\n",
      "Starting to analyze %  D:/YuLab/Work/GPS/Video/Naveed/GPS_13_ThreeFPHoldSRT/20240518/Top/Clips/Naveed_20240518_HoldTrial105_TopView.avi\n",
      "Loading  D:/YuLab/Work/GPS/Video/Naveed/GPS_13_ThreeFPHoldSRT/20240518/Top/Clips/Naveed_20240518_HoldTrial105_TopView.avi\n",
      "Duration of video [s]:  8.04 , recorded with  25.0 fps!\n",
      "Overall # of frames:  201  found with (before cropping) frame dimensions:  1280 1331\n",
      "Starting to extract posture\n",
      "Cropping based on the x1 = 0 x2 = 1280 y1 = 0 y2 = 1024. You can adjust the cropping coordinates in the config.yaml file.\n"
     ]
    },
    {
     "name": "stderr",
     "output_type": "stream",
     "text": [
      "100%|██████████| 201/201 [00:08<00:00, 22.51it/s]\n"
     ]
    },
    {
     "name": "stdout",
     "output_type": "stream",
     "text": [
      "Saving results in D:\\YuLab\\Work\\GPS\\Video\\Naveed\\GPS_13_ThreeFPHoldSRT\\20240518\\Top\\Clips...\n",
      "Saving csv poses!\n",
      "Starting to analyze %  D:/YuLab/Work/GPS/Video/Naveed/GPS_13_ThreeFPHoldSRT/20240518/Top/Clips/Naveed_20240518_HoldTrial106_TopView.avi\n",
      "Loading  D:/YuLab/Work/GPS/Video/Naveed/GPS_13_ThreeFPHoldSRT/20240518/Top/Clips/Naveed_20240518_HoldTrial106_TopView.avi\n",
      "Duration of video [s]:  8.04 , recorded with  25.0 fps!\n",
      "Overall # of frames:  201  found with (before cropping) frame dimensions:  1280 1331\n",
      "Starting to extract posture\n",
      "Cropping based on the x1 = 0 x2 = 1280 y1 = 0 y2 = 1024. You can adjust the cropping coordinates in the config.yaml file.\n"
     ]
    },
    {
     "name": "stderr",
     "output_type": "stream",
     "text": [
      "100%|██████████| 201/201 [00:09<00:00, 21.88it/s]\n"
     ]
    },
    {
     "name": "stdout",
     "output_type": "stream",
     "text": [
      "Saving results in D:\\YuLab\\Work\\GPS\\Video\\Naveed\\GPS_13_ThreeFPHoldSRT\\20240518\\Top\\Clips...\n",
      "Saving csv poses!\n",
      "Starting to analyze %  D:/YuLab/Work/GPS/Video/Naveed/GPS_13_ThreeFPHoldSRT/20240518/Top/Clips/Naveed_20240518_HoldTrial107_TopView.avi\n",
      "Loading  D:/YuLab/Work/GPS/Video/Naveed/GPS_13_ThreeFPHoldSRT/20240518/Top/Clips/Naveed_20240518_HoldTrial107_TopView.avi\n",
      "Duration of video [s]:  8.0 , recorded with  25.0 fps!\n",
      "Overall # of frames:  200  found with (before cropping) frame dimensions:  1280 1331\n",
      "Starting to extract posture\n",
      "Cropping based on the x1 = 0 x2 = 1280 y1 = 0 y2 = 1024. You can adjust the cropping coordinates in the config.yaml file.\n"
     ]
    },
    {
     "name": "stderr",
     "output_type": "stream",
     "text": [
      "100%|██████████| 200/200 [00:08<00:00, 23.73it/s]\n"
     ]
    },
    {
     "name": "stdout",
     "output_type": "stream",
     "text": [
      "Saving results in D:\\YuLab\\Work\\GPS\\Video\\Naveed\\GPS_13_ThreeFPHoldSRT\\20240518\\Top\\Clips...\n",
      "Saving csv poses!\n",
      "Starting to analyze %  D:/YuLab/Work/GPS/Video/Naveed/GPS_13_ThreeFPHoldSRT/20240518/Top/Clips/Naveed_20240518_HoldTrial108_TopView.avi\n",
      "Loading  D:/YuLab/Work/GPS/Video/Naveed/GPS_13_ThreeFPHoldSRT/20240518/Top/Clips/Naveed_20240518_HoldTrial108_TopView.avi\n",
      "Duration of video [s]:  8.0 , recorded with  25.0 fps!\n",
      "Overall # of frames:  200  found with (before cropping) frame dimensions:  1280 1331\n",
      "Starting to extract posture\n",
      "Cropping based on the x1 = 0 x2 = 1280 y1 = 0 y2 = 1024. You can adjust the cropping coordinates in the config.yaml file.\n"
     ]
    },
    {
     "name": "stderr",
     "output_type": "stream",
     "text": [
      "100%|██████████| 200/200 [00:08<00:00, 23.68it/s]\n"
     ]
    },
    {
     "name": "stdout",
     "output_type": "stream",
     "text": [
      "Saving results in D:\\YuLab\\Work\\GPS\\Video\\Naveed\\GPS_13_ThreeFPHoldSRT\\20240518\\Top\\Clips...\n",
      "Saving csv poses!\n",
      "Starting to analyze %  D:/YuLab/Work/GPS/Video/Naveed/GPS_13_ThreeFPHoldSRT/20240518/Top/Clips/Naveed_20240518_HoldTrial109_TopView.avi\n",
      "Loading  D:/YuLab/Work/GPS/Video/Naveed/GPS_13_ThreeFPHoldSRT/20240518/Top/Clips/Naveed_20240518_HoldTrial109_TopView.avi\n",
      "Duration of video [s]:  8.08 , recorded with  25.0 fps!\n",
      "Overall # of frames:  202  found with (before cropping) frame dimensions:  1280 1331\n",
      "Starting to extract posture\n",
      "Cropping based on the x1 = 0 x2 = 1280 y1 = 0 y2 = 1024. You can adjust the cropping coordinates in the config.yaml file.\n"
     ]
    },
    {
     "name": "stderr",
     "output_type": "stream",
     "text": [
      "100%|██████████| 202/202 [00:08<00:00, 23.05it/s]\n"
     ]
    },
    {
     "name": "stdout",
     "output_type": "stream",
     "text": [
      "Saving results in D:\\YuLab\\Work\\GPS\\Video\\Naveed\\GPS_13_ThreeFPHoldSRT\\20240518\\Top\\Clips...\n",
      "Saving csv poses!\n",
      "Starting to analyze %  D:/YuLab/Work/GPS/Video/Naveed/GPS_13_ThreeFPHoldSRT/20240518/Top/Clips/Naveed_20240518_HoldTrial110_TopView.avi\n",
      "Loading  D:/YuLab/Work/GPS/Video/Naveed/GPS_13_ThreeFPHoldSRT/20240518/Top/Clips/Naveed_20240518_HoldTrial110_TopView.avi\n",
      "Duration of video [s]:  8.0 , recorded with  25.0 fps!\n",
      "Overall # of frames:  200  found with (before cropping) frame dimensions:  1280 1331\n",
      "Starting to extract posture\n",
      "Cropping based on the x1 = 0 x2 = 1280 y1 = 0 y2 = 1024. You can adjust the cropping coordinates in the config.yaml file.\n"
     ]
    },
    {
     "name": "stderr",
     "output_type": "stream",
     "text": [
      "100%|██████████| 200/200 [00:08<00:00, 23.71it/s]\n"
     ]
    },
    {
     "name": "stdout",
     "output_type": "stream",
     "text": [
      "Saving results in D:\\YuLab\\Work\\GPS\\Video\\Naveed\\GPS_13_ThreeFPHoldSRT\\20240518\\Top\\Clips...\n",
      "Saving csv poses!\n",
      "Starting to analyze %  D:/YuLab/Work/GPS/Video/Naveed/GPS_13_ThreeFPHoldSRT/20240518/Top/Clips/Naveed_20240518_HoldTrial111_TopView.avi\n",
      "Loading  D:/YuLab/Work/GPS/Video/Naveed/GPS_13_ThreeFPHoldSRT/20240518/Top/Clips/Naveed_20240518_HoldTrial111_TopView.avi\n",
      "Duration of video [s]:  8.0 , recorded with  25.0 fps!\n",
      "Overall # of frames:  200  found with (before cropping) frame dimensions:  1280 1331\n",
      "Starting to extract posture\n",
      "Cropping based on the x1 = 0 x2 = 1280 y1 = 0 y2 = 1024. You can adjust the cropping coordinates in the config.yaml file.\n"
     ]
    },
    {
     "name": "stderr",
     "output_type": "stream",
     "text": [
      "100%|██████████| 200/200 [00:08<00:00, 23.74it/s]\n"
     ]
    },
    {
     "name": "stdout",
     "output_type": "stream",
     "text": [
      "Saving results in D:\\YuLab\\Work\\GPS\\Video\\Naveed\\GPS_13_ThreeFPHoldSRT\\20240518\\Top\\Clips...\n",
      "Saving csv poses!\n",
      "Starting to analyze %  D:/YuLab/Work/GPS/Video/Naveed/GPS_13_ThreeFPHoldSRT/20240518/Top/Clips/Naveed_20240518_HoldTrial112_TopView.avi\n",
      "Loading  D:/YuLab/Work/GPS/Video/Naveed/GPS_13_ThreeFPHoldSRT/20240518/Top/Clips/Naveed_20240518_HoldTrial112_TopView.avi\n",
      "Duration of video [s]:  8.0 , recorded with  25.0 fps!\n",
      "Overall # of frames:  200  found with (before cropping) frame dimensions:  1280 1331\n",
      "Starting to extract posture\n",
      "Cropping based on the x1 = 0 x2 = 1280 y1 = 0 y2 = 1024. You can adjust the cropping coordinates in the config.yaml file.\n"
     ]
    },
    {
     "name": "stderr",
     "output_type": "stream",
     "text": [
      "100%|██████████| 200/200 [00:08<00:00, 23.69it/s]\n"
     ]
    },
    {
     "name": "stdout",
     "output_type": "stream",
     "text": [
      "Saving results in D:\\YuLab\\Work\\GPS\\Video\\Naveed\\GPS_13_ThreeFPHoldSRT\\20240518\\Top\\Clips...\n",
      "Saving csv poses!\n",
      "Starting to analyze %  D:/YuLab/Work/GPS/Video/Naveed/GPS_13_ThreeFPHoldSRT/20240518/Top/Clips/Naveed_20240518_HoldTrial113_TopView.avi\n",
      "Loading  D:/YuLab/Work/GPS/Video/Naveed/GPS_13_ThreeFPHoldSRT/20240518/Top/Clips/Naveed_20240518_HoldTrial113_TopView.avi\n",
      "Duration of video [s]:  8.0 , recorded with  25.0 fps!\n",
      "Overall # of frames:  200  found with (before cropping) frame dimensions:  1280 1331\n",
      "Starting to extract posture\n",
      "Cropping based on the x1 = 0 x2 = 1280 y1 = 0 y2 = 1024. You can adjust the cropping coordinates in the config.yaml file.\n"
     ]
    },
    {
     "name": "stderr",
     "output_type": "stream",
     "text": [
      "100%|██████████| 200/200 [00:08<00:00, 23.51it/s]\n"
     ]
    },
    {
     "name": "stdout",
     "output_type": "stream",
     "text": [
      "Saving results in D:\\YuLab\\Work\\GPS\\Video\\Naveed\\GPS_13_ThreeFPHoldSRT\\20240518\\Top\\Clips...\n",
      "Saving csv poses!\n",
      "Starting to analyze %  D:/YuLab/Work/GPS/Video/Naveed/GPS_13_ThreeFPHoldSRT/20240518/Top/Clips/Naveed_20240518_HoldTrial114_TopView.avi\n",
      "Loading  D:/YuLab/Work/GPS/Video/Naveed/GPS_13_ThreeFPHoldSRT/20240518/Top/Clips/Naveed_20240518_HoldTrial114_TopView.avi\n",
      "Duration of video [s]:  8.04 , recorded with  25.0 fps!\n",
      "Overall # of frames:  201  found with (before cropping) frame dimensions:  1280 1331\n",
      "Starting to extract posture\n",
      "Cropping based on the x1 = 0 x2 = 1280 y1 = 0 y2 = 1024. You can adjust the cropping coordinates in the config.yaml file.\n"
     ]
    },
    {
     "name": "stderr",
     "output_type": "stream",
     "text": [
      "100%|██████████| 201/201 [00:08<00:00, 22.84it/s]\n"
     ]
    },
    {
     "name": "stdout",
     "output_type": "stream",
     "text": [
      "Saving results in D:\\YuLab\\Work\\GPS\\Video\\Naveed\\GPS_13_ThreeFPHoldSRT\\20240518\\Top\\Clips...\n",
      "Saving csv poses!\n",
      "Starting to analyze %  D:/YuLab/Work/GPS/Video/Naveed/GPS_13_ThreeFPHoldSRT/20240518/Top/Clips/Naveed_20240518_HoldTrial115_TopView.avi\n",
      "Loading  D:/YuLab/Work/GPS/Video/Naveed/GPS_13_ThreeFPHoldSRT/20240518/Top/Clips/Naveed_20240518_HoldTrial115_TopView.avi\n",
      "Duration of video [s]:  8.04 , recorded with  25.0 fps!\n",
      "Overall # of frames:  201  found with (before cropping) frame dimensions:  1280 1331\n",
      "Starting to extract posture\n",
      "Cropping based on the x1 = 0 x2 = 1280 y1 = 0 y2 = 1024. You can adjust the cropping coordinates in the config.yaml file.\n"
     ]
    },
    {
     "name": "stderr",
     "output_type": "stream",
     "text": [
      "100%|██████████| 201/201 [00:08<00:00, 22.88it/s]\n"
     ]
    },
    {
     "name": "stdout",
     "output_type": "stream",
     "text": [
      "Saving results in D:\\YuLab\\Work\\GPS\\Video\\Naveed\\GPS_13_ThreeFPHoldSRT\\20240518\\Top\\Clips...\n",
      "Saving csv poses!\n",
      "Starting to analyze %  D:/YuLab/Work/GPS/Video/Naveed/GPS_13_ThreeFPHoldSRT/20240518/Top/Clips/Naveed_20240518_HoldTrial116_TopView.avi\n",
      "Loading  D:/YuLab/Work/GPS/Video/Naveed/GPS_13_ThreeFPHoldSRT/20240518/Top/Clips/Naveed_20240518_HoldTrial116_TopView.avi\n",
      "Duration of video [s]:  8.0 , recorded with  25.0 fps!\n",
      "Overall # of frames:  200  found with (before cropping) frame dimensions:  1280 1331\n",
      "Starting to extract posture\n",
      "Cropping based on the x1 = 0 x2 = 1280 y1 = 0 y2 = 1024. You can adjust the cropping coordinates in the config.yaml file.\n"
     ]
    },
    {
     "name": "stderr",
     "output_type": "stream",
     "text": [
      "100%|██████████| 200/200 [00:08<00:00, 23.52it/s]\n"
     ]
    },
    {
     "name": "stdout",
     "output_type": "stream",
     "text": [
      "Saving results in D:\\YuLab\\Work\\GPS\\Video\\Naveed\\GPS_13_ThreeFPHoldSRT\\20240518\\Top\\Clips...\n",
      "Saving csv poses!\n",
      "Starting to analyze %  D:/YuLab/Work/GPS/Video/Naveed/GPS_13_ThreeFPHoldSRT/20240518/Top/Clips/Naveed_20240518_HoldTrial117_TopView.avi\n",
      "Loading  D:/YuLab/Work/GPS/Video/Naveed/GPS_13_ThreeFPHoldSRT/20240518/Top/Clips/Naveed_20240518_HoldTrial117_TopView.avi\n",
      "Duration of video [s]:  8.04 , recorded with  25.0 fps!\n",
      "Overall # of frames:  201  found with (before cropping) frame dimensions:  1280 1331\n",
      "Starting to extract posture\n",
      "Cropping based on the x1 = 0 x2 = 1280 y1 = 0 y2 = 1024. You can adjust the cropping coordinates in the config.yaml file.\n"
     ]
    },
    {
     "name": "stderr",
     "output_type": "stream",
     "text": [
      "100%|██████████| 201/201 [00:08<00:00, 22.93it/s]\n"
     ]
    },
    {
     "name": "stdout",
     "output_type": "stream",
     "text": [
      "Saving results in D:\\YuLab\\Work\\GPS\\Video\\Naveed\\GPS_13_ThreeFPHoldSRT\\20240518\\Top\\Clips...\n",
      "Saving csv poses!\n",
      "Starting to analyze %  D:/YuLab/Work/GPS/Video/Naveed/GPS_13_ThreeFPHoldSRT/20240518/Top/Clips/Naveed_20240518_HoldTrial118_TopView.avi\n",
      "Loading  D:/YuLab/Work/GPS/Video/Naveed/GPS_13_ThreeFPHoldSRT/20240518/Top/Clips/Naveed_20240518_HoldTrial118_TopView.avi\n",
      "Duration of video [s]:  8.0 , recorded with  25.0 fps!\n",
      "Overall # of frames:  200  found with (before cropping) frame dimensions:  1280 1331\n",
      "Starting to extract posture\n",
      "Cropping based on the x1 = 0 x2 = 1280 y1 = 0 y2 = 1024. You can adjust the cropping coordinates in the config.yaml file.\n"
     ]
    },
    {
     "name": "stderr",
     "output_type": "stream",
     "text": [
      "100%|██████████| 200/200 [00:08<00:00, 23.52it/s]\n"
     ]
    },
    {
     "name": "stdout",
     "output_type": "stream",
     "text": [
      "Saving results in D:\\YuLab\\Work\\GPS\\Video\\Naveed\\GPS_13_ThreeFPHoldSRT\\20240518\\Top\\Clips...\n",
      "Saving csv poses!\n",
      "Starting to analyze %  D:/YuLab/Work/GPS/Video/Naveed/GPS_13_ThreeFPHoldSRT/20240518/Top/Clips/Naveed_20240518_HoldTrial119_TopView.avi\n",
      "Loading  D:/YuLab/Work/GPS/Video/Naveed/GPS_13_ThreeFPHoldSRT/20240518/Top/Clips/Naveed_20240518_HoldTrial119_TopView.avi\n",
      "Duration of video [s]:  8.04 , recorded with  25.0 fps!\n",
      "Overall # of frames:  201  found with (before cropping) frame dimensions:  1280 1331\n",
      "Starting to extract posture\n",
      "Cropping based on the x1 = 0 x2 = 1280 y1 = 0 y2 = 1024. You can adjust the cropping coordinates in the config.yaml file.\n"
     ]
    },
    {
     "name": "stderr",
     "output_type": "stream",
     "text": [
      "100%|██████████| 201/201 [00:08<00:00, 22.91it/s]\n"
     ]
    },
    {
     "name": "stdout",
     "output_type": "stream",
     "text": [
      "Saving results in D:\\YuLab\\Work\\GPS\\Video\\Naveed\\GPS_13_ThreeFPHoldSRT\\20240518\\Top\\Clips...\n",
      "Saving csv poses!\n",
      "Starting to analyze %  D:/YuLab/Work/GPS/Video/Naveed/GPS_13_ThreeFPHoldSRT/20240518/Top/Clips/Naveed_20240518_HoldTrial120_TopView.avi\n",
      "Loading  D:/YuLab/Work/GPS/Video/Naveed/GPS_13_ThreeFPHoldSRT/20240518/Top/Clips/Naveed_20240518_HoldTrial120_TopView.avi\n",
      "Duration of video [s]:  8.04 , recorded with  25.0 fps!\n",
      "Overall # of frames:  201  found with (before cropping) frame dimensions:  1280 1331\n",
      "Starting to extract posture\n",
      "Cropping based on the x1 = 0 x2 = 1280 y1 = 0 y2 = 1024. You can adjust the cropping coordinates in the config.yaml file.\n"
     ]
    },
    {
     "name": "stderr",
     "output_type": "stream",
     "text": [
      "100%|██████████| 201/201 [00:08<00:00, 22.92it/s]\n"
     ]
    },
    {
     "name": "stdout",
     "output_type": "stream",
     "text": [
      "Saving results in D:\\YuLab\\Work\\GPS\\Video\\Naveed\\GPS_13_ThreeFPHoldSRT\\20240518\\Top\\Clips...\n",
      "Saving csv poses!\n",
      "Starting to analyze %  D:/YuLab/Work/GPS/Video/Naveed/GPS_13_ThreeFPHoldSRT/20240518/Top/Clips/Naveed_20240518_HoldTrial121_TopView.avi\n",
      "Loading  D:/YuLab/Work/GPS/Video/Naveed/GPS_13_ThreeFPHoldSRT/20240518/Top/Clips/Naveed_20240518_HoldTrial121_TopView.avi\n",
      "Duration of video [s]:  8.0 , recorded with  25.0 fps!\n",
      "Overall # of frames:  200  found with (before cropping) frame dimensions:  1280 1331\n",
      "Starting to extract posture\n",
      "Cropping based on the x1 = 0 x2 = 1280 y1 = 0 y2 = 1024. You can adjust the cropping coordinates in the config.yaml file.\n"
     ]
    },
    {
     "name": "stderr",
     "output_type": "stream",
     "text": [
      "100%|██████████| 200/200 [00:08<00:00, 23.56it/s]\n"
     ]
    },
    {
     "name": "stdout",
     "output_type": "stream",
     "text": [
      "Saving results in D:\\YuLab\\Work\\GPS\\Video\\Naveed\\GPS_13_ThreeFPHoldSRT\\20240518\\Top\\Clips...\n",
      "Saving csv poses!\n",
      "Starting to analyze %  D:/YuLab/Work/GPS/Video/Naveed/GPS_13_ThreeFPHoldSRT/20240518/Top/Clips/Naveed_20240518_HoldTrial122_TopView.avi\n",
      "Loading  D:/YuLab/Work/GPS/Video/Naveed/GPS_13_ThreeFPHoldSRT/20240518/Top/Clips/Naveed_20240518_HoldTrial122_TopView.avi\n",
      "Duration of video [s]:  8.0 , recorded with  25.0 fps!\n",
      "Overall # of frames:  200  found with (before cropping) frame dimensions:  1280 1331\n",
      "Starting to extract posture\n",
      "Cropping based on the x1 = 0 x2 = 1280 y1 = 0 y2 = 1024. You can adjust the cropping coordinates in the config.yaml file.\n"
     ]
    },
    {
     "name": "stderr",
     "output_type": "stream",
     "text": [
      "100%|██████████| 200/200 [00:08<00:00, 23.64it/s]\n"
     ]
    },
    {
     "name": "stdout",
     "output_type": "stream",
     "text": [
      "Saving results in D:\\YuLab\\Work\\GPS\\Video\\Naveed\\GPS_13_ThreeFPHoldSRT\\20240518\\Top\\Clips...\n",
      "Saving csv poses!\n",
      "Starting to analyze %  D:/YuLab/Work/GPS/Video/Naveed/GPS_13_ThreeFPHoldSRT/20240518/Top/Clips/Naveed_20240518_HoldTrial123_TopView.avi\n",
      "Loading  D:/YuLab/Work/GPS/Video/Naveed/GPS_13_ThreeFPHoldSRT/20240518/Top/Clips/Naveed_20240518_HoldTrial123_TopView.avi\n",
      "Duration of video [s]:  8.04 , recorded with  25.0 fps!\n",
      "Overall # of frames:  201  found with (before cropping) frame dimensions:  1280 1331\n",
      "Starting to extract posture\n",
      "Cropping based on the x1 = 0 x2 = 1280 y1 = 0 y2 = 1024. You can adjust the cropping coordinates in the config.yaml file.\n"
     ]
    },
    {
     "name": "stderr",
     "output_type": "stream",
     "text": [
      "100%|██████████| 201/201 [00:08<00:00, 22.87it/s]\n"
     ]
    },
    {
     "name": "stdout",
     "output_type": "stream",
     "text": [
      "Saving results in D:\\YuLab\\Work\\GPS\\Video\\Naveed\\GPS_13_ThreeFPHoldSRT\\20240518\\Top\\Clips...\n",
      "Saving csv poses!\n",
      "Starting to analyze %  D:/YuLab/Work/GPS/Video/Naveed/GPS_13_ThreeFPHoldSRT/20240518/Top/Clips/Naveed_20240518_HoldTrial124_TopView.avi\n",
      "Loading  D:/YuLab/Work/GPS/Video/Naveed/GPS_13_ThreeFPHoldSRT/20240518/Top/Clips/Naveed_20240518_HoldTrial124_TopView.avi\n",
      "Duration of video [s]:  8.04 , recorded with  25.0 fps!\n",
      "Overall # of frames:  201  found with (before cropping) frame dimensions:  1280 1331\n",
      "Starting to extract posture\n",
      "Cropping based on the x1 = 0 x2 = 1280 y1 = 0 y2 = 1024. You can adjust the cropping coordinates in the config.yaml file.\n"
     ]
    },
    {
     "name": "stderr",
     "output_type": "stream",
     "text": [
      "100%|██████████| 201/201 [00:08<00:00, 22.92it/s]\n"
     ]
    },
    {
     "name": "stdout",
     "output_type": "stream",
     "text": [
      "Saving results in D:\\YuLab\\Work\\GPS\\Video\\Naveed\\GPS_13_ThreeFPHoldSRT\\20240518\\Top\\Clips...\n",
      "Saving csv poses!\n",
      "Starting to analyze %  D:/YuLab/Work/GPS/Video/Naveed/GPS_13_ThreeFPHoldSRT/20240518/Top/Clips/Naveed_20240518_HoldTrial125_TopView.avi\n",
      "Loading  D:/YuLab/Work/GPS/Video/Naveed/GPS_13_ThreeFPHoldSRT/20240518/Top/Clips/Naveed_20240518_HoldTrial125_TopView.avi\n",
      "Duration of video [s]:  8.0 , recorded with  25.0 fps!\n",
      "Overall # of frames:  200  found with (before cropping) frame dimensions:  1280 1331\n",
      "Starting to extract posture\n",
      "Cropping based on the x1 = 0 x2 = 1280 y1 = 0 y2 = 1024. You can adjust the cropping coordinates in the config.yaml file.\n"
     ]
    },
    {
     "name": "stderr",
     "output_type": "stream",
     "text": [
      "100%|██████████| 200/200 [00:08<00:00, 23.69it/s]\n"
     ]
    },
    {
     "name": "stdout",
     "output_type": "stream",
     "text": [
      "Saving results in D:\\YuLab\\Work\\GPS\\Video\\Naveed\\GPS_13_ThreeFPHoldSRT\\20240518\\Top\\Clips...\n",
      "Saving csv poses!\n",
      "Starting to analyze %  D:/YuLab/Work/GPS/Video/Naveed/GPS_13_ThreeFPHoldSRT/20240518/Top/Clips/Naveed_20240518_HoldTrial126_TopView.avi\n",
      "Loading  D:/YuLab/Work/GPS/Video/Naveed/GPS_13_ThreeFPHoldSRT/20240518/Top/Clips/Naveed_20240518_HoldTrial126_TopView.avi\n",
      "Duration of video [s]:  8.04 , recorded with  25.0 fps!\n",
      "Overall # of frames:  201  found with (before cropping) frame dimensions:  1280 1331\n",
      "Starting to extract posture\n",
      "Cropping based on the x1 = 0 x2 = 1280 y1 = 0 y2 = 1024. You can adjust the cropping coordinates in the config.yaml file.\n"
     ]
    },
    {
     "name": "stderr",
     "output_type": "stream",
     "text": [
      "100%|██████████| 201/201 [00:08<00:00, 23.03it/s]\n"
     ]
    },
    {
     "name": "stdout",
     "output_type": "stream",
     "text": [
      "Saving results in D:\\YuLab\\Work\\GPS\\Video\\Naveed\\GPS_13_ThreeFPHoldSRT\\20240518\\Top\\Clips...\n",
      "Saving csv poses!\n",
      "Starting to analyze %  D:/YuLab/Work/GPS/Video/Naveed/GPS_13_ThreeFPHoldSRT/20240518/Top/Clips/Naveed_20240518_HoldTrial127_TopView.avi\n",
      "Loading  D:/YuLab/Work/GPS/Video/Naveed/GPS_13_ThreeFPHoldSRT/20240518/Top/Clips/Naveed_20240518_HoldTrial127_TopView.avi\n",
      "Duration of video [s]:  8.0 , recorded with  25.0 fps!\n",
      "Overall # of frames:  200  found with (before cropping) frame dimensions:  1280 1331\n",
      "Starting to extract posture\n",
      "Cropping based on the x1 = 0 x2 = 1280 y1 = 0 y2 = 1024. You can adjust the cropping coordinates in the config.yaml file.\n"
     ]
    },
    {
     "name": "stderr",
     "output_type": "stream",
     "text": [
      "100%|██████████| 200/200 [00:08<00:00, 23.98it/s]\n"
     ]
    },
    {
     "name": "stdout",
     "output_type": "stream",
     "text": [
      "Saving results in D:\\YuLab\\Work\\GPS\\Video\\Naveed\\GPS_13_ThreeFPHoldSRT\\20240518\\Top\\Clips...\n",
      "Saving csv poses!\n",
      "Starting to analyze %  D:/YuLab/Work/GPS/Video/Naveed/GPS_13_ThreeFPHoldSRT/20240518/Top/Clips/Naveed_20240518_HoldTrial128_TopView.avi\n",
      "Loading  D:/YuLab/Work/GPS/Video/Naveed/GPS_13_ThreeFPHoldSRT/20240518/Top/Clips/Naveed_20240518_HoldTrial128_TopView.avi\n",
      "Duration of video [s]:  8.0 , recorded with  25.0 fps!\n",
      "Overall # of frames:  200  found with (before cropping) frame dimensions:  1280 1331\n",
      "Starting to extract posture\n",
      "Cropping based on the x1 = 0 x2 = 1280 y1 = 0 y2 = 1024. You can adjust the cropping coordinates in the config.yaml file.\n"
     ]
    },
    {
     "name": "stderr",
     "output_type": "stream",
     "text": [
      "100%|██████████| 200/200 [00:08<00:00, 24.03it/s]\n"
     ]
    },
    {
     "name": "stdout",
     "output_type": "stream",
     "text": [
      "Saving results in D:\\YuLab\\Work\\GPS\\Video\\Naveed\\GPS_13_ThreeFPHoldSRT\\20240518\\Top\\Clips...\n",
      "Saving csv poses!\n",
      "Starting to analyze %  D:/YuLab/Work/GPS/Video/Naveed/GPS_13_ThreeFPHoldSRT/20240518/Top/Clips/Naveed_20240518_HoldTrial129_TopView.avi\n",
      "Loading  D:/YuLab/Work/GPS/Video/Naveed/GPS_13_ThreeFPHoldSRT/20240518/Top/Clips/Naveed_20240518_HoldTrial129_TopView.avi\n",
      "Duration of video [s]:  8.0 , recorded with  25.0 fps!\n",
      "Overall # of frames:  200  found with (before cropping) frame dimensions:  1280 1331\n",
      "Starting to extract posture\n",
      "Cropping based on the x1 = 0 x2 = 1280 y1 = 0 y2 = 1024. You can adjust the cropping coordinates in the config.yaml file.\n"
     ]
    },
    {
     "name": "stderr",
     "output_type": "stream",
     "text": [
      "100%|██████████| 200/200 [00:08<00:00, 23.91it/s]\n"
     ]
    },
    {
     "name": "stdout",
     "output_type": "stream",
     "text": [
      "Saving results in D:\\YuLab\\Work\\GPS\\Video\\Naveed\\GPS_13_ThreeFPHoldSRT\\20240518\\Top\\Clips...\n",
      "Saving csv poses!\n",
      "Starting to analyze %  D:/YuLab/Work/GPS/Video/Naveed/GPS_13_ThreeFPHoldSRT/20240518/Top/Clips/Naveed_20240518_HoldTrial130_TopView.avi\n",
      "Loading  D:/YuLab/Work/GPS/Video/Naveed/GPS_13_ThreeFPHoldSRT/20240518/Top/Clips/Naveed_20240518_HoldTrial130_TopView.avi\n",
      "Duration of video [s]:  8.0 , recorded with  25.0 fps!\n",
      "Overall # of frames:  200  found with (before cropping) frame dimensions:  1280 1331\n",
      "Starting to extract posture\n",
      "Cropping based on the x1 = 0 x2 = 1280 y1 = 0 y2 = 1024. You can adjust the cropping coordinates in the config.yaml file.\n"
     ]
    },
    {
     "name": "stderr",
     "output_type": "stream",
     "text": [
      "100%|██████████| 200/200 [00:08<00:00, 23.97it/s]\n"
     ]
    },
    {
     "name": "stdout",
     "output_type": "stream",
     "text": [
      "Saving results in D:\\YuLab\\Work\\GPS\\Video\\Naveed\\GPS_13_ThreeFPHoldSRT\\20240518\\Top\\Clips...\n",
      "Saving csv poses!\n",
      "The videos are analyzed. Now your research can truly start! \n",
      " You can create labeled videos with 'create_labeled_video'\n",
      "If the tracking is not satisfactory for some videos, consider expanding the training set. You can use the function 'extract_outlier_frames' to extract a few representative outlier frames.\n"
     ]
    },
    {
     "data": {
      "text/plain": [
       "'DLC_resnet50_MoradTopGPSSep12shuffle1_3000000'"
      ]
     },
     "execution_count": 9,
     "metadata": {},
     "output_type": "execute_result"
    }
   ],
   "source": [
    "deeplabcut.analyze_videos(config=config_path, videos=video_files, videotype='avi', shuffle=1, save_as_csv=True)"
   ]
  },
  {
   "cell_type": "code",
   "execution_count": 10,
   "metadata": {},
   "outputs": [
    {
     "name": "stdout",
     "output_type": "stream",
     "text": [
      "Loading  D:/YuLab/Work/GPS/Video/Naveed/GPS_13_ThreeFPHoldSRT/20240517/Top/Clips/Naveed_20240517_HoldTrial014_TopView.avi and data.\n",
      "Loading  D:/YuLab/Work/GPS/Video/Naveed/GPS_13_ThreeFPHoldSRT/20240517/Top/Clips/Naveed_20240517_HoldTrial015_TopView.avi and data.\n",
      "Loading  D:/YuLab/Work/GPS/Video/Naveed/GPS_13_ThreeFPHoldSRT/20240517/Top/Clips/Naveed_20240517_HoldTrial016_TopView.avi and data.\n",
      "Loading  D:/YuLab/Work/GPS/Video/Naveed/GPS_13_ThreeFPHoldSRT/20240517/Top/Clips/Naveed_20240517_HoldTrial017_TopView.avi and data.\n",
      "Loading  D:/YuLab/Work/GPS/Video/Naveed/GPS_13_ThreeFPHoldSRT/20240517/Top/Clips/Naveed_20240517_HoldTrial018_TopView.avi and data.\n",
      "Loading  D:/YuLab/Work/GPS/Video/Naveed/GPS_13_ThreeFPHoldSRT/20240517/Top/Clips/Naveed_20240517_HoldTrial019_TopView.avi and data.\n",
      "Loading  D:/YuLab/Work/GPS/Video/Naveed/GPS_13_ThreeFPHoldSRT/20240517/Top/Clips/Naveed_20240517_HoldTrial020_TopView.avi and data.\n",
      "Loading  D:/YuLab/Work/GPS/Video/Naveed/GPS_13_ThreeFPHoldSRT/20240517/Top/Clips/Naveed_20240517_HoldTrial021_TopView.avi and data.\n",
      "Loading  D:/YuLab/Work/GPS/Video/Naveed/GPS_13_ThreeFPHoldSRT/20240517/Top/Clips/Naveed_20240517_HoldTrial022_TopView.avi and data.\n",
      "Loading  D:/YuLab/Work/GPS/Video/Naveed/GPS_13_ThreeFPHoldSRT/20240517/Top/Clips/Naveed_20240517_HoldTrial023_TopView.avi and data.\n",
      "Loading  D:/YuLab/Work/GPS/Video/Naveed/GPS_13_ThreeFPHoldSRT/20240517/Top/Clips/Naveed_20240517_HoldTrial024_TopView.avi and data.\n",
      "Loading  D:/YuLab/Work/GPS/Video/Naveed/GPS_13_ThreeFPHoldSRT/20240517/Top/Clips/Naveed_20240517_HoldTrial025_TopView.avi and data.\n",
      "Loading  D:/YuLab/Work/GPS/Video/Naveed/GPS_13_ThreeFPHoldSRT/20240517/Top/Clips/Naveed_20240517_HoldTrial026_TopView.avi and data.\n",
      "Loading  D:/YuLab/Work/GPS/Video/Naveed/GPS_13_ThreeFPHoldSRT/20240517/Top/Clips/Naveed_20240517_HoldTrial027_TopView.avi and data.\n",
      "Loading  D:/YuLab/Work/GPS/Video/Naveed/GPS_13_ThreeFPHoldSRT/20240517/Top/Clips/Naveed_20240517_HoldTrial028_TopView.avi and data.\n",
      "Loading  D:/YuLab/Work/GPS/Video/Naveed/GPS_13_ThreeFPHoldSRT/20240517/Top/Clips/Naveed_20240517_HoldTrial029_TopView.avi and data.\n",
      "Loading  D:/YuLab/Work/GPS/Video/Naveed/GPS_13_ThreeFPHoldSRT/20240517/Top/Clips/Naveed_20240517_HoldTrial030_TopView.avi and data.\n",
      "Loading  D:/YuLab/Work/GPS/Video/Naveed/GPS_13_ThreeFPHoldSRT/20240517/Top/Clips/Naveed_20240517_HoldTrial031_TopView.avi and data.\n",
      "Loading  D:/YuLab/Work/GPS/Video/Naveed/GPS_13_ThreeFPHoldSRT/20240517/Top/Clips/Naveed_20240517_HoldTrial032_TopView.avi and data.\n",
      "Loading  D:/YuLab/Work/GPS/Video/Naveed/GPS_13_ThreeFPHoldSRT/20240517/Top/Clips/Naveed_20240517_HoldTrial033_TopView.avi and data.\n",
      "Loading  D:/YuLab/Work/GPS/Video/Naveed/GPS_13_ThreeFPHoldSRT/20240517/Top/Clips/Naveed_20240517_HoldTrial034_TopView.avi and data.\n",
      "Loading  D:/YuLab/Work/GPS/Video/Naveed/GPS_13_ThreeFPHoldSRT/20240517/Top/Clips/Naveed_20240517_HoldTrial035_TopView.avi and data.\n",
      "Loading  D:/YuLab/Work/GPS/Video/Naveed/GPS_13_ThreeFPHoldSRT/20240517/Top/Clips/Naveed_20240517_HoldTrial036_TopView.avi and data.\n",
      "Loading  D:/YuLab/Work/GPS/Video/Naveed/GPS_13_ThreeFPHoldSRT/20240517/Top/Clips/Naveed_20240517_HoldTrial037_TopView.avi and data.\n",
      "Loading  D:/YuLab/Work/GPS/Video/Naveed/GPS_13_ThreeFPHoldSRT/20240517/Top/Clips/Naveed_20240517_HoldTrial038_TopView.avi and data.\n",
      "Loading  D:/YuLab/Work/GPS/Video/Naveed/GPS_13_ThreeFPHoldSRT/20240517/Top/Clips/Naveed_20240517_HoldTrial039_TopView.avi and data.\n",
      "Loading  D:/YuLab/Work/GPS/Video/Naveed/GPS_13_ThreeFPHoldSRT/20240517/Top/Clips/Naveed_20240517_HoldTrial040_TopView.avi and data.\n",
      "Loading  D:/YuLab/Work/GPS/Video/Naveed/GPS_13_ThreeFPHoldSRT/20240517/Top/Clips/Naveed_20240517_HoldTrial041_TopView.avi and data.\n",
      "Loading  D:/YuLab/Work/GPS/Video/Naveed/GPS_13_ThreeFPHoldSRT/20240517/Top/Clips/Naveed_20240517_HoldTrial042_TopView.avi and data.\n",
      "Loading  D:/YuLab/Work/GPS/Video/Naveed/GPS_13_ThreeFPHoldSRT/20240517/Top/Clips/Naveed_20240517_HoldTrial043_TopView.avi and data.\n",
      "Loading  D:/YuLab/Work/GPS/Video/Naveed/GPS_13_ThreeFPHoldSRT/20240517/Top/Clips/Naveed_20240517_HoldTrial044_TopView.avi and data.\n",
      "Loading  D:/YuLab/Work/GPS/Video/Naveed/GPS_13_ThreeFPHoldSRT/20240517/Top/Clips/Naveed_20240517_HoldTrial045_TopView.avi and data.\n",
      "Loading  D:/YuLab/Work/GPS/Video/Naveed/GPS_13_ThreeFPHoldSRT/20240517/Top/Clips/Naveed_20240517_HoldTrial046_TopView.avi and data.\n",
      "Loading  D:/YuLab/Work/GPS/Video/Naveed/GPS_13_ThreeFPHoldSRT/20240517/Top/Clips/Naveed_20240517_HoldTrial047_TopView.avi and data.\n",
      "Loading  D:/YuLab/Work/GPS/Video/Naveed/GPS_13_ThreeFPHoldSRT/20240517/Top/Clips/Naveed_20240517_HoldTrial048_TopView.avi and data.\n",
      "Loading  D:/YuLab/Work/GPS/Video/Naveed/GPS_13_ThreeFPHoldSRT/20240517/Top/Clips/Naveed_20240517_HoldTrial049_TopView.avi and data.\n",
      "Loading  D:/YuLab/Work/GPS/Video/Naveed/GPS_13_ThreeFPHoldSRT/20240517/Top/Clips/Naveed_20240517_HoldTrial050_TopView.avi and data.\n",
      "Loading  D:/YuLab/Work/GPS/Video/Naveed/GPS_13_ThreeFPHoldSRT/20240517/Top/Clips/Naveed_20240517_HoldTrial051_TopView.avi and data.\n",
      "Loading  D:/YuLab/Work/GPS/Video/Naveed/GPS_13_ThreeFPHoldSRT/20240517/Top/Clips/Naveed_20240517_HoldTrial052_TopView.avi and data.\n",
      "Loading  D:/YuLab/Work/GPS/Video/Naveed/GPS_13_ThreeFPHoldSRT/20240517/Top/Clips/Naveed_20240517_HoldTrial053_TopView.avi and data.\n",
      "Loading  D:/YuLab/Work/GPS/Video/Naveed/GPS_13_ThreeFPHoldSRT/20240517/Top/Clips/Naveed_20240517_HoldTrial054_TopView.avi and data.\n",
      "Loading  D:/YuLab/Work/GPS/Video/Naveed/GPS_13_ThreeFPHoldSRT/20240517/Top/Clips/Naveed_20240517_HoldTrial055_TopView.avi and data.\n",
      "Loading  D:/YuLab/Work/GPS/Video/Naveed/GPS_13_ThreeFPHoldSRT/20240517/Top/Clips/Naveed_20240517_HoldTrial056_TopView.avi and data.\n",
      "Loading  D:/YuLab/Work/GPS/Video/Naveed/GPS_13_ThreeFPHoldSRT/20240517/Top/Clips/Naveed_20240517_HoldTrial057_TopView.avi and data.\n",
      "Loading  D:/YuLab/Work/GPS/Video/Naveed/GPS_13_ThreeFPHoldSRT/20240517/Top/Clips/Naveed_20240517_HoldTrial058_TopView.avi and data.\n",
      "Loading  D:/YuLab/Work/GPS/Video/Naveed/GPS_13_ThreeFPHoldSRT/20240517/Top/Clips/Naveed_20240517_HoldTrial059_TopView.avi and data.\n",
      "Loading  D:/YuLab/Work/GPS/Video/Naveed/GPS_13_ThreeFPHoldSRT/20240517/Top/Clips/Naveed_20240517_HoldTrial060_TopView.avi and data.\n",
      "Loading  D:/YuLab/Work/GPS/Video/Naveed/GPS_13_ThreeFPHoldSRT/20240517/Top/Clips/Naveed_20240517_HoldTrial061_TopView.avi and data.\n",
      "Loading  D:/YuLab/Work/GPS/Video/Naveed/GPS_13_ThreeFPHoldSRT/20240517/Top/Clips/Naveed_20240517_HoldTrial062_TopView.avi and data.\n",
      "Loading  D:/YuLab/Work/GPS/Video/Naveed/GPS_13_ThreeFPHoldSRT/20240517/Top/Clips/Naveed_20240517_HoldTrial063_TopView.avi and data.\n",
      "Loading  D:/YuLab/Work/GPS/Video/Naveed/GPS_13_ThreeFPHoldSRT/20240517/Top/Clips/Naveed_20240517_HoldTrial064_TopView.avi and data.\n",
      "Loading  D:/YuLab/Work/GPS/Video/Naveed/GPS_13_ThreeFPHoldSRT/20240517/Top/Clips/Naveed_20240517_HoldTrial065_TopView.avi and data.\n",
      "Loading  D:/YuLab/Work/GPS/Video/Naveed/GPS_13_ThreeFPHoldSRT/20240517/Top/Clips/Naveed_20240517_HoldTrial066_TopView.avi and data.\n",
      "Loading  D:/YuLab/Work/GPS/Video/Naveed/GPS_13_ThreeFPHoldSRT/20240517/Top/Clips/Naveed_20240517_HoldTrial067_TopView.avi and data.\n",
      "Loading  D:/YuLab/Work/GPS/Video/Naveed/GPS_13_ThreeFPHoldSRT/20240517/Top/Clips/Naveed_20240517_HoldTrial068_TopView.avi and data.\n",
      "Loading  D:/YuLab/Work/GPS/Video/Naveed/GPS_13_ThreeFPHoldSRT/20240517/Top/Clips/Naveed_20240517_HoldTrial069_TopView.avi and data.\n",
      "Loading  D:/YuLab/Work/GPS/Video/Naveed/GPS_13_ThreeFPHoldSRT/20240517/Top/Clips/Naveed_20240517_HoldTrial070_TopView.avi and data.\n",
      "Loading  D:/YuLab/Work/GPS/Video/Naveed/GPS_13_ThreeFPHoldSRT/20240517/Top/Clips/Naveed_20240517_HoldTrial071_TopView.avi and data.\n",
      "Loading  D:/YuLab/Work/GPS/Video/Naveed/GPS_13_ThreeFPHoldSRT/20240517/Top/Clips/Naveed_20240517_HoldTrial072_TopView.avi and data.\n",
      "Loading  D:/YuLab/Work/GPS/Video/Naveed/GPS_13_ThreeFPHoldSRT/20240517/Top/Clips/Naveed_20240517_HoldTrial073_TopView.avi and data.\n",
      "Loading  D:/YuLab/Work/GPS/Video/Naveed/GPS_13_ThreeFPHoldSRT/20240517/Top/Clips/Naveed_20240517_HoldTrial074_TopView.avi and data.\n",
      "Loading  D:/YuLab/Work/GPS/Video/Naveed/GPS_13_ThreeFPHoldSRT/20240517/Top/Clips/Naveed_20240517_HoldTrial075_TopView.avi and data.\n",
      "Loading  D:/YuLab/Work/GPS/Video/Naveed/GPS_13_ThreeFPHoldSRT/20240517/Top/Clips/Naveed_20240517_HoldTrial076_TopView.avi and data.\n",
      "Loading  D:/YuLab/Work/GPS/Video/Naveed/GPS_13_ThreeFPHoldSRT/20240517/Top/Clips/Naveed_20240517_HoldTrial077_TopView.avi and data.\n",
      "Loading  D:/YuLab/Work/GPS/Video/Naveed/GPS_13_ThreeFPHoldSRT/20240517/Top/Clips/Naveed_20240517_HoldTrial078_TopView.avi and data.\n",
      "Loading  D:/YuLab/Work/GPS/Video/Naveed/GPS_13_ThreeFPHoldSRT/20240517/Top/Clips/Naveed_20240517_HoldTrial079_TopView.avi and data.\n",
      "Loading  D:/YuLab/Work/GPS/Video/Naveed/GPS_13_ThreeFPHoldSRT/20240517/Top/Clips/Naveed_20240517_HoldTrial080_TopView.avi and data.\n",
      "Loading  D:/YuLab/Work/GPS/Video/Naveed/GPS_13_ThreeFPHoldSRT/20240517/Top/Clips/Naveed_20240517_HoldTrial081_TopView.avi and data.\n",
      "Loading  D:/YuLab/Work/GPS/Video/Naveed/GPS_13_ThreeFPHoldSRT/20240517/Top/Clips/Naveed_20240517_HoldTrial082_TopView.avi and data.\n",
      "Loading  D:/YuLab/Work/GPS/Video/Naveed/GPS_13_ThreeFPHoldSRT/20240517/Top/Clips/Naveed_20240517_HoldTrial083_TopView.avi and data.\n",
      "Loading  D:/YuLab/Work/GPS/Video/Naveed/GPS_13_ThreeFPHoldSRT/20240517/Top/Clips/Naveed_20240517_HoldTrial084_TopView.avi and data.\n",
      "Loading  D:/YuLab/Work/GPS/Video/Naveed/GPS_13_ThreeFPHoldSRT/20240517/Top/Clips/Naveed_20240517_HoldTrial085_TopView.avi and data.\n",
      "Loading  D:/YuLab/Work/GPS/Video/Naveed/GPS_13_ThreeFPHoldSRT/20240517/Top/Clips/Naveed_20240517_HoldTrial086_TopView.avi and data.\n",
      "Loading  D:/YuLab/Work/GPS/Video/Naveed/GPS_13_ThreeFPHoldSRT/20240517/Top/Clips/Naveed_20240517_HoldTrial087_TopView.avi and data.\n",
      "Loading  D:/YuLab/Work/GPS/Video/Naveed/GPS_13_ThreeFPHoldSRT/20240517/Top/Clips/Naveed_20240517_HoldTrial088_TopView.avi and data.\n",
      "Loading  D:/YuLab/Work/GPS/Video/Naveed/GPS_13_ThreeFPHoldSRT/20240517/Top/Clips/Naveed_20240517_HoldTrial089_TopView.avi and data.\n",
      "Loading  D:/YuLab/Work/GPS/Video/Naveed/GPS_13_ThreeFPHoldSRT/20240517/Top/Clips/Naveed_20240517_HoldTrial090_TopView.avi and data.\n",
      "Loading  D:/YuLab/Work/GPS/Video/Naveed/GPS_13_ThreeFPHoldSRT/20240517/Top/Clips/Naveed_20240517_HoldTrial091_TopView.avi and data.\n",
      "Loading  D:/YuLab/Work/GPS/Video/Naveed/GPS_13_ThreeFPHoldSRT/20240517/Top/Clips/Naveed_20240517_HoldTrial092_TopView.avi and data.\n",
      "Loading  D:/YuLab/Work/GPS/Video/Naveed/GPS_13_ThreeFPHoldSRT/20240517/Top/Clips/Naveed_20240517_HoldTrial093_TopView.avi and data.\n",
      "Loading  D:/YuLab/Work/GPS/Video/Naveed/GPS_13_ThreeFPHoldSRT/20240517/Top/Clips/Naveed_20240517_HoldTrial094_TopView.avi and data.\n",
      "Loading  D:/YuLab/Work/GPS/Video/Naveed/GPS_13_ThreeFPHoldSRT/20240517/Top/Clips/Naveed_20240517_HoldTrial095_TopView.avi and data.\n",
      "Loading  D:/YuLab/Work/GPS/Video/Naveed/GPS_13_ThreeFPHoldSRT/20240517/Top/Clips/Naveed_20240517_HoldTrial096_TopView.avi and data.\n",
      "Loading  D:/YuLab/Work/GPS/Video/Naveed/GPS_13_ThreeFPHoldSRT/20240517/Top/Clips/Naveed_20240517_HoldTrial097_TopView.avi and data.\n",
      "Loading  D:/YuLab/Work/GPS/Video/Naveed/GPS_13_ThreeFPHoldSRT/20240517/Top/Clips/Naveed_20240517_HoldTrial098_TopView.avi and data.\n",
      "Loading  D:/YuLab/Work/GPS/Video/Naveed/GPS_13_ThreeFPHoldSRT/20240517/Top/Clips/Naveed_20240517_HoldTrial099_TopView.avi and data.\n",
      "Loading  D:/YuLab/Work/GPS/Video/Naveed/GPS_13_ThreeFPHoldSRT/20240517/Top/Clips/Naveed_20240517_HoldTrial100_TopView.avi and data.\n",
      "Loading  D:/YuLab/Work/GPS/Video/Naveed/GPS_13_ThreeFPHoldSRT/20240517/Top/Clips/Naveed_20240517_HoldTrial101_TopView.avi and data.\n",
      "Loading  D:/YuLab/Work/GPS/Video/Naveed/GPS_13_ThreeFPHoldSRT/20240517/Top/Clips/Naveed_20240517_HoldTrial102_TopView.avi and data.\n",
      "Loading  D:/YuLab/Work/GPS/Video/Naveed/GPS_13_ThreeFPHoldSRT/20240517/Top/Clips/Naveed_20240517_HoldTrial103_TopView.avi and data.\n",
      "Loading  D:/YuLab/Work/GPS/Video/Naveed/GPS_13_ThreeFPHoldSRT/20240517/Top/Clips/Naveed_20240517_HoldTrial104_TopView.avi and data.\n",
      "Loading  D:/YuLab/Work/GPS/Video/Naveed/GPS_13_ThreeFPHoldSRT/20240517/Top/Clips/Naveed_20240517_HoldTrial105_TopView.avi and data.\n",
      "Loading  D:/YuLab/Work/GPS/Video/Naveed/GPS_13_ThreeFPHoldSRT/20240517/Top/Clips/Naveed_20240517_HoldTrial106_TopView.avi and data.\n",
      "Loading  D:/YuLab/Work/GPS/Video/Naveed/GPS_13_ThreeFPHoldSRT/20240517/Top/Clips/Naveed_20240517_HoldTrial107_TopView.avi and data.\n",
      "Loading  D:/YuLab/Work/GPS/Video/Naveed/GPS_13_ThreeFPHoldSRT/20240517/Top/Clips/Naveed_20240517_HoldTrial108_TopView.avi and data.\n",
      "Loading  D:/YuLab/Work/GPS/Video/Naveed/GPS_13_ThreeFPHoldSRT/20240517/Top/Clips/Naveed_20240517_HoldTrial109_TopView.avi and data.\n",
      "Loading  D:/YuLab/Work/GPS/Video/Naveed/GPS_13_ThreeFPHoldSRT/20240517/Top/Clips/Naveed_20240517_HoldTrial110_TopView.avi and data.\n",
      "Loading  D:/YuLab/Work/GPS/Video/Naveed/GPS_13_ThreeFPHoldSRT/20240517/Top/Clips/Naveed_20240517_HoldTrial111_TopView.avi and data.\n",
      "Loading  D:/YuLab/Work/GPS/Video/Naveed/GPS_13_ThreeFPHoldSRT/20240517/Top/Clips/Naveed_20240517_HoldTrial112_TopView.avi and data.\n",
      "Loading  D:/YuLab/Work/GPS/Video/Naveed/GPS_13_ThreeFPHoldSRT/20240517/Top/Clips/Naveed_20240517_HoldTrial113_TopView.avi and data.\n",
      "Loading  D:/YuLab/Work/GPS/Video/Naveed/GPS_13_ThreeFPHoldSRT/20240517/Top/Clips/Naveed_20240517_HoldTrial114_TopView.avi and data.\n",
      "Loading  D:/YuLab/Work/GPS/Video/Naveed/GPS_13_ThreeFPHoldSRT/20240517/Top/Clips/Naveed_20240517_HoldTrial115_TopView.avi and data.\n",
      "Loading  D:/YuLab/Work/GPS/Video/Naveed/GPS_13_ThreeFPHoldSRT/20240517/Top/Clips/Naveed_20240517_HoldTrial116_TopView.avi and data.\n",
      "Loading  D:/YuLab/Work/GPS/Video/Naveed/GPS_13_ThreeFPHoldSRT/20240517/Top/Clips/Naveed_20240517_HoldTrial117_TopView.avi and data.\n",
      "Loading  D:/YuLab/Work/GPS/Video/Naveed/GPS_13_ThreeFPHoldSRT/20240517/Top/Clips/Naveed_20240517_HoldTrial118_TopView.avi and data.\n",
      "Loading  D:/YuLab/Work/GPS/Video/Naveed/GPS_13_ThreeFPHoldSRT/20240517/Top/Clips/Naveed_20240517_HoldTrial119_TopView.avi and data.\n",
      "Loading  D:/YuLab/Work/GPS/Video/Naveed/GPS_13_ThreeFPHoldSRT/20240517/Top/Clips/Naveed_20240517_HoldTrial120_TopView.avi and data.\n",
      "Loading  D:/YuLab/Work/GPS/Video/Naveed/GPS_13_ThreeFPHoldSRT/20240517/Top/Clips/Naveed_20240517_HoldTrial121_TopView.avi and data.\n",
      "Loading  D:/YuLab/Work/GPS/Video/Naveed/GPS_13_ThreeFPHoldSRT/20240517/Top/Clips/Naveed_20240517_HoldTrial122_TopView.avi and data.\n",
      "Loading  D:/YuLab/Work/GPS/Video/Naveed/GPS_13_ThreeFPHoldSRT/20240517/Top/Clips/Naveed_20240517_HoldTrial123_TopView.avi and data.\n",
      "Loading  D:/YuLab/Work/GPS/Video/Naveed/GPS_13_ThreeFPHoldSRT/20240517/Top/Clips/Naveed_20240517_HoldTrial124_TopView.avi and data.\n",
      "Loading  D:/YuLab/Work/GPS/Video/Naveed/GPS_13_ThreeFPHoldSRT/20240517/Top/Clips/Naveed_20240517_HoldTrial125_TopView.avi and data.\n",
      "Loading  D:/YuLab/Work/GPS/Video/Naveed/GPS_13_ThreeFPHoldSRT/20240517/Top/Clips/Naveed_20240517_HoldTrial126_TopView.avi and data.\n",
      "Loading  D:/YuLab/Work/GPS/Video/Naveed/GPS_13_ThreeFPHoldSRT/20240517/Top/Clips/Naveed_20240517_HoldTrial127_TopView.avi and data.\n",
      "Loading  D:/YuLab/Work/GPS/Video/Naveed/GPS_13_ThreeFPHoldSRT/20240517/Top/Clips/Naveed_20240517_HoldTrial128_TopView.avi and data.\n",
      "Loading  D:/YuLab/Work/GPS/Video/Naveed/GPS_13_ThreeFPHoldSRT/20240517/Top/Clips/Naveed_20240517_HoldTrial129_TopView.avi and data.\n",
      "Loading  D:/YuLab/Work/GPS/Video/Naveed/GPS_13_ThreeFPHoldSRT/20240517/Top/Clips/Naveed_20240517_HoldTrial130_TopView.avi and data.\n",
      "Loading  D:/YuLab/Work/GPS/Video/Naveed/GPS_13_ThreeFPHoldSRT/20240517/Top/Clips/Naveed_20240517_HoldTrial131_TopView.avi and data.\n",
      "Loading  D:/YuLab/Work/GPS/Video/Naveed/GPS_13_ThreeFPHoldSRT/20240517/Top/Clips/Naveed_20240517_HoldTrial132_TopView.avi and data.\n",
      "Loading  D:/YuLab/Work/GPS/Video/Naveed/GPS_13_ThreeFPHoldSRT/20240517/Top/Clips/Naveed_20240517_HoldTrial133_TopView.avi and data.\n",
      "Loading  D:/YuLab/Work/GPS/Video/Naveed/GPS_13_ThreeFPHoldSRT/20240517/Top/Clips/Naveed_20240517_HoldTrial134_TopView.avi and data.\n",
      "Loading  D:/YuLab/Work/GPS/Video/Naveed/GPS_13_ThreeFPHoldSRT/20240517/Top/Clips/Naveed_20240517_HoldTrial135_TopView.avi and data.\n",
      "Loading  D:/YuLab/Work/GPS/Video/Naveed/GPS_13_ThreeFPHoldSRT/20240517/Top/Clips/Naveed_20240517_HoldTrial136_TopView.avi and data.\n",
      "Loading  D:/YuLab/Work/GPS/Video/Naveed/GPS_13_ThreeFPHoldSRT/20240517/Top/Clips/Naveed_20240517_HoldTrial137_TopView.avi and data.\n",
      "Loading  D:/YuLab/Work/GPS/Video/Naveed/GPS_13_ThreeFPHoldSRT/20240517/Top/Clips/Naveed_20240517_HoldTrial138_TopView.avi and data.\n",
      "Loading  D:/YuLab/Work/GPS/Video/Naveed/GPS_13_ThreeFPHoldSRT/20240517/Top/Clips/Naveed_20240517_HoldTrial139_TopView.avi and data.\n",
      "Loading  D:/YuLab/Work/GPS/Video/Naveed/GPS_13_ThreeFPHoldSRT/20240517/Top/Clips/Naveed_20240517_HoldTrial140_TopView.avi and data.\n",
      "Loading  D:/YuLab/Work/GPS/Video/Naveed/GPS_13_ThreeFPHoldSRT/20240517/Top/Clips/Naveed_20240517_HoldTrial141_TopView.avi and data.\n",
      "Loading  D:/YuLab/Work/GPS/Video/Naveed/GPS_13_ThreeFPHoldSRT/20240517/Top/Clips/Naveed_20240517_HoldTrial142_TopView.avi and data.\n",
      "Loading  D:/YuLab/Work/GPS/Video/Naveed/GPS_13_ThreeFPHoldSRT/20240517/Top/Clips/Naveed_20240517_HoldTrial143_TopView.avi and data.\n",
      "Loading  D:/YuLab/Work/GPS/Video/Naveed/GPS_13_ThreeFPHoldSRT/20240517/Top/Clips/Naveed_20240517_HoldTrial144_TopView.avi and data.\n",
      "Loading  D:/YuLab/Work/GPS/Video/Naveed/GPS_13_ThreeFPHoldSRT/20240517/Top/Clips/Naveed_20240517_HoldTrial145_TopView.avi and data.\n",
      "Loading  D:/YuLab/Work/GPS/Video/Naveed/GPS_13_ThreeFPHoldSRT/20240518/Top/Clips/Naveed_20240518_HoldTrial010_TopView.avi and data.\n",
      "Loading  D:/YuLab/Work/GPS/Video/Naveed/GPS_13_ThreeFPHoldSRT/20240518/Top/Clips/Naveed_20240518_HoldTrial011_TopView.avi and data.\n",
      "Loading  D:/YuLab/Work/GPS/Video/Naveed/GPS_13_ThreeFPHoldSRT/20240518/Top/Clips/Naveed_20240518_HoldTrial012_TopView.avi and data.\n",
      "Loading  D:/YuLab/Work/GPS/Video/Naveed/GPS_13_ThreeFPHoldSRT/20240518/Top/Clips/Naveed_20240518_HoldTrial013_TopView.avi and data.\n",
      "Loading  D:/YuLab/Work/GPS/Video/Naveed/GPS_13_ThreeFPHoldSRT/20240518/Top/Clips/Naveed_20240518_HoldTrial014_TopView.avi and data.\n",
      "Loading  D:/YuLab/Work/GPS/Video/Naveed/GPS_13_ThreeFPHoldSRT/20240518/Top/Clips/Naveed_20240518_HoldTrial015_TopView.avi and data.\n",
      "Loading  D:/YuLab/Work/GPS/Video/Naveed/GPS_13_ThreeFPHoldSRT/20240518/Top/Clips/Naveed_20240518_HoldTrial016_TopView.avi and data.\n",
      "Loading  D:/YuLab/Work/GPS/Video/Naveed/GPS_13_ThreeFPHoldSRT/20240518/Top/Clips/Naveed_20240518_HoldTrial017_TopView.avi and data.\n",
      "Loading  D:/YuLab/Work/GPS/Video/Naveed/GPS_13_ThreeFPHoldSRT/20240518/Top/Clips/Naveed_20240518_HoldTrial018_TopView.avi and data.\n",
      "Loading  D:/YuLab/Work/GPS/Video/Naveed/GPS_13_ThreeFPHoldSRT/20240518/Top/Clips/Naveed_20240518_HoldTrial019_TopView.avi and data.\n",
      "Loading  D:/YuLab/Work/GPS/Video/Naveed/GPS_13_ThreeFPHoldSRT/20240518/Top/Clips/Naveed_20240518_HoldTrial020_TopView.avi and data.\n",
      "Loading  D:/YuLab/Work/GPS/Video/Naveed/GPS_13_ThreeFPHoldSRT/20240518/Top/Clips/Naveed_20240518_HoldTrial021_TopView.avi and data.\n",
      "Loading  D:/YuLab/Work/GPS/Video/Naveed/GPS_13_ThreeFPHoldSRT/20240518/Top/Clips/Naveed_20240518_HoldTrial022_TopView.avi and data.\n",
      "Loading  D:/YuLab/Work/GPS/Video/Naveed/GPS_13_ThreeFPHoldSRT/20240518/Top/Clips/Naveed_20240518_HoldTrial023_TopView.avi and data.\n",
      "Loading  D:/YuLab/Work/GPS/Video/Naveed/GPS_13_ThreeFPHoldSRT/20240518/Top/Clips/Naveed_20240518_HoldTrial024_TopView.avi and data.\n",
      "Loading  D:/YuLab/Work/GPS/Video/Naveed/GPS_13_ThreeFPHoldSRT/20240518/Top/Clips/Naveed_20240518_HoldTrial025_TopView.avi and data.\n",
      "Loading  D:/YuLab/Work/GPS/Video/Naveed/GPS_13_ThreeFPHoldSRT/20240518/Top/Clips/Naveed_20240518_HoldTrial026_TopView.avi and data.\n",
      "Loading  D:/YuLab/Work/GPS/Video/Naveed/GPS_13_ThreeFPHoldSRT/20240518/Top/Clips/Naveed_20240518_HoldTrial027_TopView.avi and data.\n",
      "Loading  D:/YuLab/Work/GPS/Video/Naveed/GPS_13_ThreeFPHoldSRT/20240518/Top/Clips/Naveed_20240518_HoldTrial028_TopView.avi and data.\n",
      "Loading  D:/YuLab/Work/GPS/Video/Naveed/GPS_13_ThreeFPHoldSRT/20240518/Top/Clips/Naveed_20240518_HoldTrial029_TopView.avi and data.\n",
      "Loading  D:/YuLab/Work/GPS/Video/Naveed/GPS_13_ThreeFPHoldSRT/20240518/Top/Clips/Naveed_20240518_HoldTrial030_TopView.avi and data.\n",
      "Loading  D:/YuLab/Work/GPS/Video/Naveed/GPS_13_ThreeFPHoldSRT/20240518/Top/Clips/Naveed_20240518_HoldTrial031_TopView.avi and data.\n",
      "Loading  D:/YuLab/Work/GPS/Video/Naveed/GPS_13_ThreeFPHoldSRT/20240518/Top/Clips/Naveed_20240518_HoldTrial032_TopView.avi and data.\n",
      "Loading  D:/YuLab/Work/GPS/Video/Naveed/GPS_13_ThreeFPHoldSRT/20240518/Top/Clips/Naveed_20240518_HoldTrial033_TopView.avi and data.\n",
      "Loading  D:/YuLab/Work/GPS/Video/Naveed/GPS_13_ThreeFPHoldSRT/20240518/Top/Clips/Naveed_20240518_HoldTrial034_TopView.avi and data.\n",
      "Loading  D:/YuLab/Work/GPS/Video/Naveed/GPS_13_ThreeFPHoldSRT/20240518/Top/Clips/Naveed_20240518_HoldTrial035_TopView.avi and data.\n",
      "Loading  D:/YuLab/Work/GPS/Video/Naveed/GPS_13_ThreeFPHoldSRT/20240518/Top/Clips/Naveed_20240518_HoldTrial036_TopView.avi and data.\n",
      "Loading  D:/YuLab/Work/GPS/Video/Naveed/GPS_13_ThreeFPHoldSRT/20240518/Top/Clips/Naveed_20240518_HoldTrial037_TopView.avi and data.\n",
      "Loading  D:/YuLab/Work/GPS/Video/Naveed/GPS_13_ThreeFPHoldSRT/20240518/Top/Clips/Naveed_20240518_HoldTrial038_TopView.avi and data.\n",
      "Loading  D:/YuLab/Work/GPS/Video/Naveed/GPS_13_ThreeFPHoldSRT/20240518/Top/Clips/Naveed_20240518_HoldTrial039_TopView.avi and data.\n",
      "Loading  D:/YuLab/Work/GPS/Video/Naveed/GPS_13_ThreeFPHoldSRT/20240518/Top/Clips/Naveed_20240518_HoldTrial040_TopView.avi and data.\n",
      "Loading  D:/YuLab/Work/GPS/Video/Naveed/GPS_13_ThreeFPHoldSRT/20240518/Top/Clips/Naveed_20240518_HoldTrial041_TopView.avi and data.\n",
      "Loading  D:/YuLab/Work/GPS/Video/Naveed/GPS_13_ThreeFPHoldSRT/20240518/Top/Clips/Naveed_20240518_HoldTrial042_TopView.avi and data.\n",
      "Loading  D:/YuLab/Work/GPS/Video/Naveed/GPS_13_ThreeFPHoldSRT/20240518/Top/Clips/Naveed_20240518_HoldTrial043_TopView.avi and data.\n",
      "Loading  D:/YuLab/Work/GPS/Video/Naveed/GPS_13_ThreeFPHoldSRT/20240518/Top/Clips/Naveed_20240518_HoldTrial044_TopView.avi and data.\n",
      "Loading  D:/YuLab/Work/GPS/Video/Naveed/GPS_13_ThreeFPHoldSRT/20240518/Top/Clips/Naveed_20240518_HoldTrial045_TopView.avi and data.\n",
      "Loading  D:/YuLab/Work/GPS/Video/Naveed/GPS_13_ThreeFPHoldSRT/20240518/Top/Clips/Naveed_20240518_HoldTrial046_TopView.avi and data.\n",
      "Loading  D:/YuLab/Work/GPS/Video/Naveed/GPS_13_ThreeFPHoldSRT/20240518/Top/Clips/Naveed_20240518_HoldTrial047_TopView.avi and data.\n",
      "Loading  D:/YuLab/Work/GPS/Video/Naveed/GPS_13_ThreeFPHoldSRT/20240518/Top/Clips/Naveed_20240518_HoldTrial048_TopView.avi and data.\n",
      "Loading  D:/YuLab/Work/GPS/Video/Naveed/GPS_13_ThreeFPHoldSRT/20240518/Top/Clips/Naveed_20240518_HoldTrial049_TopView.avi and data.\n",
      "Loading  D:/YuLab/Work/GPS/Video/Naveed/GPS_13_ThreeFPHoldSRT/20240518/Top/Clips/Naveed_20240518_HoldTrial050_TopView.avi and data.\n",
      "Loading  D:/YuLab/Work/GPS/Video/Naveed/GPS_13_ThreeFPHoldSRT/20240518/Top/Clips/Naveed_20240518_HoldTrial051_TopView.avi and data.\n",
      "Loading  D:/YuLab/Work/GPS/Video/Naveed/GPS_13_ThreeFPHoldSRT/20240518/Top/Clips/Naveed_20240518_HoldTrial052_TopView.avi and data.\n",
      "Loading  D:/YuLab/Work/GPS/Video/Naveed/GPS_13_ThreeFPHoldSRT/20240518/Top/Clips/Naveed_20240518_HoldTrial053_TopView.avi and data.\n",
      "Loading  D:/YuLab/Work/GPS/Video/Naveed/GPS_13_ThreeFPHoldSRT/20240518/Top/Clips/Naveed_20240518_HoldTrial054_TopView.avi and data.\n",
      "Loading  D:/YuLab/Work/GPS/Video/Naveed/GPS_13_ThreeFPHoldSRT/20240518/Top/Clips/Naveed_20240518_HoldTrial055_TopView.avi and data.\n",
      "Loading  D:/YuLab/Work/GPS/Video/Naveed/GPS_13_ThreeFPHoldSRT/20240518/Top/Clips/Naveed_20240518_HoldTrial056_TopView.avi and data.\n",
      "Loading  D:/YuLab/Work/GPS/Video/Naveed/GPS_13_ThreeFPHoldSRT/20240518/Top/Clips/Naveed_20240518_HoldTrial057_TopView.avi and data.\n",
      "Loading  D:/YuLab/Work/GPS/Video/Naveed/GPS_13_ThreeFPHoldSRT/20240518/Top/Clips/Naveed_20240518_HoldTrial058_TopView.avi and data.\n",
      "Loading  D:/YuLab/Work/GPS/Video/Naveed/GPS_13_ThreeFPHoldSRT/20240518/Top/Clips/Naveed_20240518_HoldTrial059_TopView.avi and data.\n",
      "Loading  D:/YuLab/Work/GPS/Video/Naveed/GPS_13_ThreeFPHoldSRT/20240518/Top/Clips/Naveed_20240518_HoldTrial060_TopView.avi and data.\n",
      "Loading  D:/YuLab/Work/GPS/Video/Naveed/GPS_13_ThreeFPHoldSRT/20240518/Top/Clips/Naveed_20240518_HoldTrial061_TopView.avi and data.\n",
      "Loading  D:/YuLab/Work/GPS/Video/Naveed/GPS_13_ThreeFPHoldSRT/20240518/Top/Clips/Naveed_20240518_HoldTrial062_TopView.avi and data.\n",
      "Loading  D:/YuLab/Work/GPS/Video/Naveed/GPS_13_ThreeFPHoldSRT/20240518/Top/Clips/Naveed_20240518_HoldTrial063_TopView.avi and data.\n",
      "Loading  D:/YuLab/Work/GPS/Video/Naveed/GPS_13_ThreeFPHoldSRT/20240518/Top/Clips/Naveed_20240518_HoldTrial064_TopView.avi and data.\n",
      "Loading  D:/YuLab/Work/GPS/Video/Naveed/GPS_13_ThreeFPHoldSRT/20240518/Top/Clips/Naveed_20240518_HoldTrial065_TopView.avi and data.\n",
      "Loading  D:/YuLab/Work/GPS/Video/Naveed/GPS_13_ThreeFPHoldSRT/20240518/Top/Clips/Naveed_20240518_HoldTrial066_TopView.avi and data.\n",
      "Loading  D:/YuLab/Work/GPS/Video/Naveed/GPS_13_ThreeFPHoldSRT/20240518/Top/Clips/Naveed_20240518_HoldTrial067_TopView.avi and data.\n",
      "Loading  D:/YuLab/Work/GPS/Video/Naveed/GPS_13_ThreeFPHoldSRT/20240518/Top/Clips/Naveed_20240518_HoldTrial068_TopView.avi and data.\n",
      "Loading  D:/YuLab/Work/GPS/Video/Naveed/GPS_13_ThreeFPHoldSRT/20240518/Top/Clips/Naveed_20240518_HoldTrial069_TopView.avi and data.\n",
      "Loading  D:/YuLab/Work/GPS/Video/Naveed/GPS_13_ThreeFPHoldSRT/20240518/Top/Clips/Naveed_20240518_HoldTrial070_TopView.avi and data.\n",
      "Loading  D:/YuLab/Work/GPS/Video/Naveed/GPS_13_ThreeFPHoldSRT/20240518/Top/Clips/Naveed_20240518_HoldTrial071_TopView.avi and data.\n",
      "Loading  D:/YuLab/Work/GPS/Video/Naveed/GPS_13_ThreeFPHoldSRT/20240518/Top/Clips/Naveed_20240518_HoldTrial072_TopView.avi and data.\n",
      "Loading  D:/YuLab/Work/GPS/Video/Naveed/GPS_13_ThreeFPHoldSRT/20240518/Top/Clips/Naveed_20240518_HoldTrial073_TopView.avi and data.\n",
      "Loading  D:/YuLab/Work/GPS/Video/Naveed/GPS_13_ThreeFPHoldSRT/20240518/Top/Clips/Naveed_20240518_HoldTrial074_TopView.avi and data.\n",
      "Loading  D:/YuLab/Work/GPS/Video/Naveed/GPS_13_ThreeFPHoldSRT/20240518/Top/Clips/Naveed_20240518_HoldTrial075_TopView.avi and data.\n",
      "Loading  D:/YuLab/Work/GPS/Video/Naveed/GPS_13_ThreeFPHoldSRT/20240518/Top/Clips/Naveed_20240518_HoldTrial076_TopView.avi and data.\n",
      "Loading  D:/YuLab/Work/GPS/Video/Naveed/GPS_13_ThreeFPHoldSRT/20240518/Top/Clips/Naveed_20240518_HoldTrial077_TopView.avi and data.\n",
      "Loading  D:/YuLab/Work/GPS/Video/Naveed/GPS_13_ThreeFPHoldSRT/20240518/Top/Clips/Naveed_20240518_HoldTrial078_TopView.avi and data.\n",
      "Loading  D:/YuLab/Work/GPS/Video/Naveed/GPS_13_ThreeFPHoldSRT/20240518/Top/Clips/Naveed_20240518_HoldTrial079_TopView.avi and data.\n",
      "Loading  D:/YuLab/Work/GPS/Video/Naveed/GPS_13_ThreeFPHoldSRT/20240518/Top/Clips/Naveed_20240518_HoldTrial080_TopView.avi and data.\n",
      "Loading  D:/YuLab/Work/GPS/Video/Naveed/GPS_13_ThreeFPHoldSRT/20240518/Top/Clips/Naveed_20240518_HoldTrial081_TopView.avi and data.\n",
      "Loading  D:/YuLab/Work/GPS/Video/Naveed/GPS_13_ThreeFPHoldSRT/20240518/Top/Clips/Naveed_20240518_HoldTrial082_TopView.avi and data.\n",
      "Loading  D:/YuLab/Work/GPS/Video/Naveed/GPS_13_ThreeFPHoldSRT/20240518/Top/Clips/Naveed_20240518_HoldTrial083_TopView.avi and data.\n",
      "Loading  D:/YuLab/Work/GPS/Video/Naveed/GPS_13_ThreeFPHoldSRT/20240518/Top/Clips/Naveed_20240518_HoldTrial084_TopView.avi and data.\n",
      "Loading  D:/YuLab/Work/GPS/Video/Naveed/GPS_13_ThreeFPHoldSRT/20240518/Top/Clips/Naveed_20240518_HoldTrial085_TopView.avi and data.\n",
      "Loading  D:/YuLab/Work/GPS/Video/Naveed/GPS_13_ThreeFPHoldSRT/20240518/Top/Clips/Naveed_20240518_HoldTrial086_TopView.avi and data.\n",
      "Loading  D:/YuLab/Work/GPS/Video/Naveed/GPS_13_ThreeFPHoldSRT/20240518/Top/Clips/Naveed_20240518_HoldTrial087_TopView.avi and data.\n",
      "Loading  D:/YuLab/Work/GPS/Video/Naveed/GPS_13_ThreeFPHoldSRT/20240518/Top/Clips/Naveed_20240518_HoldTrial088_TopView.avi and data.\n",
      "Loading  D:/YuLab/Work/GPS/Video/Naveed/GPS_13_ThreeFPHoldSRT/20240518/Top/Clips/Naveed_20240518_HoldTrial089_TopView.avi and data.\n",
      "Loading  D:/YuLab/Work/GPS/Video/Naveed/GPS_13_ThreeFPHoldSRT/20240518/Top/Clips/Naveed_20240518_HoldTrial090_TopView.avi and data.\n",
      "Loading  D:/YuLab/Work/GPS/Video/Naveed/GPS_13_ThreeFPHoldSRT/20240518/Top/Clips/Naveed_20240518_HoldTrial091_TopView.avi and data.\n",
      "Loading  D:/YuLab/Work/GPS/Video/Naveed/GPS_13_ThreeFPHoldSRT/20240518/Top/Clips/Naveed_20240518_HoldTrial092_TopView.avi and data.\n",
      "Loading  D:/YuLab/Work/GPS/Video/Naveed/GPS_13_ThreeFPHoldSRT/20240518/Top/Clips/Naveed_20240518_HoldTrial093_TopView.avi and data.\n",
      "Loading  D:/YuLab/Work/GPS/Video/Naveed/GPS_13_ThreeFPHoldSRT/20240518/Top/Clips/Naveed_20240518_HoldTrial094_TopView.avi and data.\n",
      "Loading  D:/YuLab/Work/GPS/Video/Naveed/GPS_13_ThreeFPHoldSRT/20240518/Top/Clips/Naveed_20240518_HoldTrial095_TopView.avi and data.\n",
      "Loading  D:/YuLab/Work/GPS/Video/Naveed/GPS_13_ThreeFPHoldSRT/20240518/Top/Clips/Naveed_20240518_HoldTrial096_TopView.avi and data.\n",
      "Loading  D:/YuLab/Work/GPS/Video/Naveed/GPS_13_ThreeFPHoldSRT/20240518/Top/Clips/Naveed_20240518_HoldTrial097_TopView.avi and data.\n",
      "Loading  D:/YuLab/Work/GPS/Video/Naveed/GPS_13_ThreeFPHoldSRT/20240518/Top/Clips/Naveed_20240518_HoldTrial098_TopView.avi and data.\n",
      "Loading  D:/YuLab/Work/GPS/Video/Naveed/GPS_13_ThreeFPHoldSRT/20240518/Top/Clips/Naveed_20240518_HoldTrial099_TopView.avi and data.\n",
      "Loading  D:/YuLab/Work/GPS/Video/Naveed/GPS_13_ThreeFPHoldSRT/20240518/Top/Clips/Naveed_20240518_HoldTrial100_TopView.avi and data.\n",
      "Loading  D:/YuLab/Work/GPS/Video/Naveed/GPS_13_ThreeFPHoldSRT/20240518/Top/Clips/Naveed_20240518_HoldTrial101_TopView.avi and data.\n",
      "Loading  D:/YuLab/Work/GPS/Video/Naveed/GPS_13_ThreeFPHoldSRT/20240518/Top/Clips/Naveed_20240518_HoldTrial102_TopView.avi and data.\n",
      "Loading  D:/YuLab/Work/GPS/Video/Naveed/GPS_13_ThreeFPHoldSRT/20240518/Top/Clips/Naveed_20240518_HoldTrial103_TopView.avi and data.\n",
      "Loading  D:/YuLab/Work/GPS/Video/Naveed/GPS_13_ThreeFPHoldSRT/20240518/Top/Clips/Naveed_20240518_HoldTrial104_TopView.avi and data.\n",
      "Loading  D:/YuLab/Work/GPS/Video/Naveed/GPS_13_ThreeFPHoldSRT/20240518/Top/Clips/Naveed_20240518_HoldTrial105_TopView.avi and data.\n",
      "Loading  D:/YuLab/Work/GPS/Video/Naveed/GPS_13_ThreeFPHoldSRT/20240518/Top/Clips/Naveed_20240518_HoldTrial106_TopView.avi and data.\n",
      "Loading  D:/YuLab/Work/GPS/Video/Naveed/GPS_13_ThreeFPHoldSRT/20240518/Top/Clips/Naveed_20240518_HoldTrial107_TopView.avi and data.\n",
      "Loading  D:/YuLab/Work/GPS/Video/Naveed/GPS_13_ThreeFPHoldSRT/20240518/Top/Clips/Naveed_20240518_HoldTrial108_TopView.avi and data.\n",
      "Loading  D:/YuLab/Work/GPS/Video/Naveed/GPS_13_ThreeFPHoldSRT/20240518/Top/Clips/Naveed_20240518_HoldTrial109_TopView.avi and data.\n",
      "Loading  D:/YuLab/Work/GPS/Video/Naveed/GPS_13_ThreeFPHoldSRT/20240518/Top/Clips/Naveed_20240518_HoldTrial110_TopView.avi and data.\n",
      "Loading  D:/YuLab/Work/GPS/Video/Naveed/GPS_13_ThreeFPHoldSRT/20240518/Top/Clips/Naveed_20240518_HoldTrial111_TopView.avi and data.\n",
      "Loading  D:/YuLab/Work/GPS/Video/Naveed/GPS_13_ThreeFPHoldSRT/20240518/Top/Clips/Naveed_20240518_HoldTrial112_TopView.avi and data.\n",
      "Loading  D:/YuLab/Work/GPS/Video/Naveed/GPS_13_ThreeFPHoldSRT/20240518/Top/Clips/Naveed_20240518_HoldTrial113_TopView.avi and data.\n",
      "Loading  D:/YuLab/Work/GPS/Video/Naveed/GPS_13_ThreeFPHoldSRT/20240518/Top/Clips/Naveed_20240518_HoldTrial114_TopView.avi and data.\n",
      "Loading  D:/YuLab/Work/GPS/Video/Naveed/GPS_13_ThreeFPHoldSRT/20240518/Top/Clips/Naveed_20240518_HoldTrial115_TopView.avi and data.\n",
      "Loading  D:/YuLab/Work/GPS/Video/Naveed/GPS_13_ThreeFPHoldSRT/20240518/Top/Clips/Naveed_20240518_HoldTrial116_TopView.avi and data.\n",
      "Loading  D:/YuLab/Work/GPS/Video/Naveed/GPS_13_ThreeFPHoldSRT/20240518/Top/Clips/Naveed_20240518_HoldTrial117_TopView.avi and data.\n",
      "Loading  D:/YuLab/Work/GPS/Video/Naveed/GPS_13_ThreeFPHoldSRT/20240518/Top/Clips/Naveed_20240518_HoldTrial118_TopView.avi and data.\n",
      "Loading  D:/YuLab/Work/GPS/Video/Naveed/GPS_13_ThreeFPHoldSRT/20240518/Top/Clips/Naveed_20240518_HoldTrial119_TopView.avi and data.\n",
      "Loading  D:/YuLab/Work/GPS/Video/Naveed/GPS_13_ThreeFPHoldSRT/20240518/Top/Clips/Naveed_20240518_HoldTrial120_TopView.avi and data.\n",
      "Loading  D:/YuLab/Work/GPS/Video/Naveed/GPS_13_ThreeFPHoldSRT/20240518/Top/Clips/Naveed_20240518_HoldTrial121_TopView.avi and data.\n",
      "Loading  D:/YuLab/Work/GPS/Video/Naveed/GPS_13_ThreeFPHoldSRT/20240518/Top/Clips/Naveed_20240518_HoldTrial122_TopView.avi and data.\n",
      "Loading  D:/YuLab/Work/GPS/Video/Naveed/GPS_13_ThreeFPHoldSRT/20240518/Top/Clips/Naveed_20240518_HoldTrial123_TopView.avi and data.\n",
      "Loading  D:/YuLab/Work/GPS/Video/Naveed/GPS_13_ThreeFPHoldSRT/20240518/Top/Clips/Naveed_20240518_HoldTrial124_TopView.avi and data.\n",
      "Loading  D:/YuLab/Work/GPS/Video/Naveed/GPS_13_ThreeFPHoldSRT/20240518/Top/Clips/Naveed_20240518_HoldTrial125_TopView.avi and data.\n",
      "Loading  D:/YuLab/Work/GPS/Video/Naveed/GPS_13_ThreeFPHoldSRT/20240518/Top/Clips/Naveed_20240518_HoldTrial126_TopView.avi and data.\n",
      "Loading  D:/YuLab/Work/GPS/Video/Naveed/GPS_13_ThreeFPHoldSRT/20240518/Top/Clips/Naveed_20240518_HoldTrial127_TopView.avi and data.\n",
      "Loading  D:/YuLab/Work/GPS/Video/Naveed/GPS_13_ThreeFPHoldSRT/20240518/Top/Clips/Naveed_20240518_HoldTrial128_TopView.avi and data.\n",
      "Loading  D:/YuLab/Work/GPS/Video/Naveed/GPS_13_ThreeFPHoldSRT/20240518/Top/Clips/Naveed_20240518_HoldTrial129_TopView.avi and data.\n",
      "Loading  D:/YuLab/Work/GPS/Video/Naveed/GPS_13_ThreeFPHoldSRT/20240518/Top/Clips/Naveed_20240518_HoldTrial130_TopView.avi and data.\n",
      "Plots created! Please check the directory \"plot-poses\" within the video directory\n"
     ]
    }
   ],
   "source": [
    "deeplabcut.plot_trajectories(config=config_path, videos=video_files, videotype='avi', displayedbodyparts=['ear_base_left', 'ear_base_right', 'body_1', 'port_left', 'port_right'])"
   ]
  }
 ],
 "metadata": {
  "kernelspec": {
   "display_name": "DEEPLABCUT",
   "language": "python",
   "name": "python3"
  },
  "language_info": {
   "codemirror_mode": {
    "name": "ipython",
    "version": 3
   },
   "file_extension": ".py",
   "mimetype": "text/x-python",
   "name": "python",
   "nbconvert_exporter": "python",
   "pygments_lexer": "ipython3",
   "version": "3.8.17"
  }
 },
 "nbformat": 4,
 "nbformat_minor": 2
}
